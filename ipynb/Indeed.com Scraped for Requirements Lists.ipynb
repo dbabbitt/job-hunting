{
 "cells": [
  {
   "cell_type": "code",
   "execution_count": 1,
   "metadata": {},
   "outputs": [
    {
     "name": "stdout",
     "output_type": "stream",
     "text": [
      "Pretty printing has been turned OFF\n"
     ]
    }
   ],
   "source": [
    "\n",
    "%pprint"
   ]
  },
  {
   "cell_type": "code",
   "execution_count": 2,
   "metadata": {},
   "outputs": [
    {
     "name": "stdout",
     "output_type": "stream",
     "text": [
      "Pickling to C:\\Users\\dev\\Documents\\Repositories\\job-hunting\\saves\\pickle\\CHILD_STR_CLF.pickle\n"
     ]
    }
   ],
   "source": [
    "\n",
    "%run ../py/html_analysis.py\n",
    "ha = HeaderAnalysis()\n",
    "ea = ElementAnalysis()"
   ]
  },
  {
   "cell_type": "markdown",
   "metadata": {},
   "source": [
    "\n",
    "----\n",
    "# Download Job HTML"
   ]
  },
  {
   "cell_type": "code",
   "execution_count": 3,
   "metadata": {},
   "outputs": [],
   "source": [
    "\n",
    "base_url = 'https://www.indeed.com'\n",
    "site_url = base_url + '/jobs'\n",
    "site_url = '?'.join([site_url, 'q=data+scientist'])\n",
    "site_url = '&'.join([site_url, 'jt=fulltime'])\n",
    "site_url = '&'.join([site_url, 'remotejob=032b3046-06a3-4876-8dfd-474eb5e7ed11'])\n",
    "site_url = '&'.join([site_url, 'vjk=ca16b63c03e40c57'])\n",
    "#site_url = '&'.join([site_url, 'pp=gQAPAAABdY7RMKwAAAABkQdgZAAkAQBEKPpaoZstIag3f-UtQXXG_HFSo1gfBp9OQ0B0TvZ4yMp4AAA'])\n",
    "start_num = 0\n",
    "assert s.pickle_exists('job_urls_list')\n",
    "job_urls_list = s.load_object('job_urls_list')\n",
    "\n",
    "space_regex = re.compile(r'[\\s<>:\"/\\\\\\|\\?\\*_]+')\n",
    "print_regex = re.compile(r'[\\x9c-\\x9d\\uf0b7\\u200b\\ufb02]+')\n",
    "s.encoding_type = ['latin1', 'iso8859-1', 'utf-8'][2]"
   ]
  },
  {
   "cell_type": "code",
   "execution_count": 8,
   "metadata": {},
   "outputs": [
    {
     "name": "stdout",
     "output_type": "stream",
     "text": [
      "Sr Informatics Consultant Lead/Sr. Data Analyst - Hartford, CT - Indeed.com\n",
      "587/3408: https://www.indeed.com/rc/clk?jk=7172785973cb1e4d&fccid=be3b11aa573faee7&vjs=3\n",
      "Complete.\n"
     ]
    }
   ],
   "source": [
    "\n",
    "from urllib.parse import urlparse, parse_qs\n",
    "import requests\n",
    "from IPython.display import clear_output\n",
    "\n",
    "fccid_htmls_list = [fn.split('_')[-1] for fn in os.listdir(ha.SAVES_HTML_FOLDER)]\n",
    "row_count = len(job_urls_list)\n",
    "for i, job_url in enumerate(job_urls_list):\n",
    "    qs = urlparse(job_url).query\n",
    "    query_dict = parse_qs(qs)\n",
    "    fccid_str = query_dict['fccid'][0]\n",
    "    file_name = f'{fccid_str}.html'\n",
    "    if file_name not in fccid_htmls_list:\n",
    "        job_page = requests.get(url=job_url)\n",
    "        job_soup = BeautifulSoup(job_page.content, 'lxml')\n",
    "        if not len(job_soup.text):\n",
    "            break\n",
    "        title_str = job_soup.find_all(name='title')[0].text.strip()\n",
    "        clear_output(wait=True)\n",
    "        print(f'{title_str}')\n",
    "        print(f'{i}/{row_count}: {job_url}')\n",
    "        if 'CAPTCHA' in title_str:\n",
    "            break\n",
    "        file_name = space_regex.sub('_', title_str)\n",
    "        file_name = f'{file_name}_{fccid_str}.html'\n",
    "        file_path = os.path.join(ha.SAVES_HTML_FOLDER, file_name)\n",
    "        body_soup = job_soup.find_all(name='body')[0]\n",
    "        html_str = '<html><head><title>' + title_str + '</title></head><body>'\n",
    "        with open(file_path, 'w', encoding='utf-8') as f:\n",
    "            print(html_str, file=f)\n",
    "            for div_tag in body_soup.find_all(name='div', class_='jobsearch-JobComponent-description'):\n",
    "                for s in div_tag.select('template'):\n",
    "                    s.extract()\n",
    "                for s in div_tag.select('script'):\n",
    "                    s.extract()\n",
    "                div_str = div_tag.prettify(formatter='html')\n",
    "                div_str = print_regex.sub('', div_str)\n",
    "                print(div_str, file=f)\n",
    "            print('</body></html>', file=f)\n",
    "print('Complete.')"
   ]
  },
  {
   "cell_type": "code",
   "execution_count": 6,
   "metadata": {},
   "outputs": [],
   "source": [
    "\n",
    "while start_num < 3000:\n",
    "    page_url = '&'.join([site_url, f'start={start_num}'])\n",
    "    start_num += 10\n",
    "    site_page = requests.get(url=page_url)\n",
    "    page_soup = BeautifulSoup(site_page.content, 'lxml')\n",
    "    row_div_list = page_soup.find_all(name='div', class_=['row', 'result'])\n",
    "    row_count = len(row_div_list)\n",
    "    if row_count == 0:\n",
    "        print('Nothing left')\n",
    "        break\n",
    "    for i, row_div in enumerate(row_div_list):\n",
    "        link = row_div.find_all(name='a')[0]\n",
    "        if 'title' in link.attrs:\n",
    "            if 'href' in link.attrs:\n",
    "                job_url = base_url + link['href']\n",
    "                qs = urlparse(job_url).query\n",
    "                query_dict = parse_qs(qs)\n",
    "                if 'fccid' in query_dict:\n",
    "                    job_urls_list.append(job_url)\n",
    "                    s.store_objects(verbose=False, job_urls_list=job_urls_list)\n",
    "                    clear_output(wait=True)\n",
    "                    print(f'{page_url}')\n",
    "                    print(f'{i}/{row_count}: {job_url}')"
   ]
  },
  {
   "cell_type": "code",
   "execution_count": 10,
   "metadata": {},
   "outputs": [
    {
     "data": {
      "text/plain": [
       "454"
      ]
     },
     "execution_count": 10,
     "metadata": {},
     "output_type": "execute_result"
    }
   ],
   "source": [
    "\n",
    "fccid_htmls_list = [fn.split('_')[-1] for fn in os.listdir(ha.SAVES_HTML_FOLDER)]\n",
    "len(fccid_htmls_list)"
   ]
  },
  {
   "cell_type": "markdown",
   "metadata": {},
   "source": [
    "\n",
    "----"
   ]
  },
  {
   "cell_type": "code",
   "execution_count": 21,
   "metadata": {},
   "outputs": [],
   "source": [
    "\n",
    "def plot_child_str_predictions(file_name):\n",
    "    HEADER_PATTERN_DICT = s.load_object('HEADER_PATTERN_DICT')\n",
    "    child_strs_list = ha.get_child_strs_from_file(file_name)\n",
    "    if file_name in HEADER_PATTERN_DICT:\n",
    "        feature_dict_list = HEADER_PATTERN_DICT[file_name]\n",
    "        feature_tuple_list = [(feature_dict['initial_tag'],\n",
    "                               'H' if feature_dict['is_header'] else 'O') for feature_dict in feature_dict_list]\n",
    "        prediction_dict_list = []\n",
    "        for prediction_dict in ea.CRF.predict_marginals_single(ea.sent2features(feature_tuple_list)):\n",
    "            prediction_dict = {'H': 1 - prediction_dict['O']}\n",
    "            prediction_dict_list.append(prediction_dict)\n",
    "    else:\n",
    "        prediction_dict_list = []\n",
    "        for child_str in child_strs_list:\n",
    "            if(CLF_NAME == 'LdaModel'):\n",
    "                H = ea.lda_predict_percent_is_header(child_str)\n",
    "            else:\n",
    "                H = ea.lr_predict_percent_is_header(child_str)\n",
    "            prediction_dict = {'H': H}\n",
    "            prediction_dict_list.append(prediction_dict)\n",
    "    rows_list = []\n",
    "    for child_str, marginals_dict in zip(child_strs_list, prediction_dict_list):\n",
    "        row_dict = {'probability': marginals_dict['H']}\n",
    "        if child_str in ha.NAVIGABLE_PARENT_IS_HEADER_DICT:\n",
    "            row_dict['actual'] = ha.NAVIGABLE_PARENT_IS_HEADER_DICT[child_str] * 1.0\n",
    "        else:\n",
    "            row_dict['actual'] = np.nan\n",
    "        rows_list.append(row_dict)\n",
    "    df = pd.DataFrame(rows_list)\n",
    "    coor = round(df.corr().loc['probability', 'actual'], 4)\n",
    "    fig = plt.figure(figsize=(18, 2.5))\n",
    "    ax = fig.add_subplot(1, 1, 1)\n",
    "    title_text = fig.suptitle(t=f'Correlation to Actual: {coor}', y=1.55)\n",
    "    AxesSubplot_obj = df.plot.line(ax=ax)\n",
    "    ax.axis('off')\n",
    "    for x, child_str in enumerate(child_strs_list):\n",
    "        y = rows_list[x]['probability']\n",
    "        if str(y) == 'nan':\n",
    "            y = rows_list[x]['actual']\n",
    "        if str(y) != 'nan':\n",
    "            ax.annotate(f'{child_str[:20]}...', (x, y), ha='left', rotation=90)"
   ]
  },
  {
   "cell_type": "code",
   "execution_count": 22,
   "metadata": {},
   "outputs": [
    {
     "data": {
      "image/png": "[encoded data removed]",
      "text/plain": [
       "<Figure size 1296x180 with 1 Axes>"
      ]
     },
     "metadata": {
      "needs_background": "light"
     },
     "output_type": "display_data"
    }
   ],
   "source": [
    "\n",
    "import random\n",
    "\n",
    "files_list = os.listdir(ha.SAVES_HTML_FOLDER)\n",
    "file_name = random.choice(files_list)\n",
    "plot_child_str_predictions(file_name)"
   ]
  },
  {
   "cell_type": "code",
   "execution_count": 13,
   "metadata": {},
   "outputs": [
    {
     "name": "stdout",
     "output_type": "stream",
     "text": [
      "\n",
      "[0.91014981 0.08985019]\n"
     ]
    },
    {
     "data": {
      "text/html": [
       "<span style=\"color:#5673e0\">&lt;b&gt;Lead Data Scientist, Machine Learning&lt;/b&gt;</span>"
      ],
      "text/plain": [
       "<IPython.core.display.HTML object>"
      ]
     },
     "metadata": {},
     "output_type": "display_data"
    },
    {
     "name": "stdout",
     "output_type": "stream",
     "text": [
      "\n",
      "[0.91014981 0.08985019]\n"
     ]
    },
    {
     "data": {
      "text/html": [
       "<span style=\"color:#5673e0\">&lt;p&gt;Arlington, TX (remote to start)&lt;/p&gt;</span>"
      ],
      "text/plain": [
       "<IPython.core.display.HTML object>"
      ]
     },
     "metadata": {},
     "output_type": "display_data"
    },
    {
     "name": "stdout",
     "output_type": "stream",
     "text": [
      "\n",
      "[0.91014981 0.08985019]\n"
     ]
    },
    {
     "data": {
      "text/html": [
       "<span style=\"color:#5673e0\">&lt;p&gt;Direct hire opening&lt;/p&gt;</span>"
      ],
      "text/plain": [
       "<IPython.core.display.HTML object>"
      ]
     },
     "metadata": {},
     "output_type": "display_data"
    },
    {
     "name": "stdout",
     "output_type": "stream",
     "text": [
      "\n",
      "[0.91014981 0.08985019]\n"
     ]
    },
    {
     "data": {
      "text/html": [
       "<span style=\"color:#5673e0\">&lt;p&gt;Full time work week&lt;/p&gt;</span>"
      ],
      "text/plain": [
       "<IPython.core.display.HTML object>"
      ]
     },
     "metadata": {},
     "output_type": "display_data"
    },
    {
     "name": "stdout",
     "output_type": "stream",
     "text": [
      "\n",
      "[0.91014981 0.08985019]\n"
     ]
    },
    {
     "data": {
      "text/html": [
       "<span style=\"color:#5673e0\">&lt;p&gt;**No C2C for this role at all&lt;/p&gt;</span>"
      ],
      "text/plain": [
       "<IPython.core.display.HTML object>"
      ]
     },
     "metadata": {},
     "output_type": "display_data"
    },
    {
     "name": "stdout",
     "output_type": "stream",
     "text": [
      "\n",
      "[0.91077712 0.08922288]\n"
     ]
    },
    {
     "data": {
      "text/html": [
       "<span style=\"color:#5571de\">&lt;p&gt;We are expanding our efforts into complementary data technologies for decision support in areas that capitalize on intelligent applications enabled with computational learning. Our interests are in enabling intelligent applications and corresponding computation learning processing on large and low latent data sets with elastic cloud architecture techniques on premise. To that end, this role will engage with team counterparts in exploring and deploying technologies for engineering features and creating algorithms that result in models incorporated into intelligent applications. Application use cases are expected to focus on core aspects of our business such as risk management and customer experience. Responsibility also includes coding, testing, and documentation of new or modified scalable analytic data systems including automation for deployment and monitoring. This role participates along with team counterparts to architect an end-to-end framework developed on a group of core data technologies. Other aspects of the role include developing standards and processes for computational learning projects and initiatives.&lt;/p&gt;</span>"
      ],
      "text/plain": [
       "<IPython.core.display.HTML object>"
      ]
     },
     "metadata": {},
     "output_type": "display_data"
    },
    {
     "name": "stdout",
     "output_type": "stream",
     "text": [
      "\n",
      "[0.91037849 0.08962151]\n"
     ]
    },
    {
     "data": {
      "text/html": [
       "<span style=\"color:#5571de\">&lt;li&gt;Evaluate, research, experiment with computational learning technologies in a lab to keep pace with industry innovation while assessing business impact and viability for use cases associated with efforts in hand&lt;/li&gt;</span>"
      ],
      "text/plain": [
       "<IPython.core.display.HTML object>"
      ]
     },
     "metadata": {},
     "output_type": "display_data"
    },
    {
     "name": "stdout",
     "output_type": "stream",
     "text": [
      "\n",
      "[0.9109828 0.0890172]\n"
     ]
    },
    {
     "data": {
      "text/html": [
       "<span style=\"color:#5571de\">&lt;li&gt;Work with statisticians, data engineers, application developers, and related groups to inform on and showcase capabilities of emerging technologies and to enable the adoption of these new technologies, computational learning and associated algorithms&lt;/li&gt;</span>"
      ],
      "text/plain": [
       "<IPython.core.display.HTML object>"
      ]
     },
     "metadata": {},
     "output_type": "display_data"
    },
    {
     "name": "stdout",
     "output_type": "stream",
     "text": [
      "\n",
      "[0.91066947 0.08933053]\n"
     ]
    },
    {
     "data": {
      "text/html": [
       "<span style=\"color:#5571de\">&lt;li&gt;Work closely with statisticians, data engineers, application developers, other IT counterparts, and business partners to develop, integrate and deploy computational learning as part of applications&lt;/li&gt;</span>"
      ],
      "text/plain": [
       "<IPython.core.display.HTML object>"
      ]
     },
     "metadata": {},
     "output_type": "display_data"
    },
    {
     "name": "stdout",
     "output_type": "stream",
     "text": [
      "\n",
      "[0.91113048 0.08886952]\n"
     ]
    },
    {
     "data": {
      "text/html": [
       "<span style=\"color:#5571de\">&lt;li&gt;Code, test, deploy, monitor, document and troubleshoot computational learning processing and associated automation&lt;/li&gt;</span>"
      ],
      "text/plain": [
       "<IPython.core.display.HTML object>"
      ]
     },
     "metadata": {},
     "output_type": "display_data"
    },
    {
     "name": "stdout",
     "output_type": "stream",
     "text": [
      "\n",
      "[0.91086734 0.08913266]\n"
     ]
    },
    {
     "data": {
      "text/html": [
       "<span style=\"color:#5571de\">&lt;li&gt;Educate and develop system engineers on distributed systems engineering so as to enable future data science and practice&lt;/li&gt;</span>"
      ],
      "text/plain": [
       "<IPython.core.display.HTML object>"
      ]
     },
     "metadata": {},
     "output_type": "display_data"
    },
    {
     "name": "stdout",
     "output_type": "stream",
     "text": [
      "\n",
      "[0.91014981 0.08985019]\n"
     ]
    },
    {
     "data": {
      "text/html": [
       "<span style=\"color:#5673e0\">&lt;li&gt;Perform other duties as assigned&lt;/li&gt;</span>"
      ],
      "text/plain": [
       "<IPython.core.display.HTML object>"
      ]
     },
     "metadata": {},
     "output_type": "display_data"
    },
    {
     "name": "stdout",
     "output_type": "stream",
     "text": [
      "\n",
      "[0.91112015 0.08887985]\n"
     ]
    },
    {
     "data": {
      "text/html": [
       "<span style=\"color:#5571de\">&lt;li&gt;Conform with all company policies and procedures&lt;/li&gt;</span>"
      ],
      "text/plain": [
       "<IPython.core.display.HTML object>"
      ]
     },
     "metadata": {},
     "output_type": "display_data"
    },
    {
     "name": "stdout",
     "output_type": "stream",
     "text": [
      "\n",
      "[0.91014981 0.08985019]\n"
     ]
    },
    {
     "data": {
      "text/html": [
       "<span style=\"color:#5673e0\">&lt;b&gt;Knowledge&lt;/b&gt;</span>"
      ],
      "text/plain": [
       "<IPython.core.display.HTML object>"
      ]
     },
     "metadata": {},
     "output_type": "display_data"
    },
    {
     "name": "stdout",
     "output_type": "stream",
     "text": [
      "\n",
      "[0.91014981 0.08985019]\n"
     ]
    },
    {
     "data": {
      "text/html": [
       "<span style=\"color:#5673e0\">&lt;li&gt;Excellent knowledge of Linux, AIX, or other Unix flavors&lt;/li&gt;</span>"
      ],
      "text/plain": [
       "<IPython.core.display.HTML object>"
      ]
     },
     "metadata": {},
     "output_type": "display_data"
    },
    {
     "name": "stdout",
     "output_type": "stream",
     "text": [
      "\n",
      "[0.91334724 0.08665276]\n"
     ]
    },
    {
     "data": {
      "text/html": [
       "<span style=\"color:#5571de\">&lt;li&gt;Experience with recent computational learning technologies such TensorFlow, Caffe, Torch, Neon, SystemML, or Theano&lt;/li&gt;</span>"
      ],
      "text/plain": [
       "<IPython.core.display.HTML object>"
      ]
     },
     "metadata": {},
     "output_type": "display_data"
    },
    {
     "name": "stdout",
     "output_type": "stream",
     "text": [
      "\n",
      "[0.91542216 0.08457784]\n"
     ]
    },
    {
     "data": {
      "text/html": [
       "<span style=\"color:#5370dd\">&lt;li&gt;Experience with directed analytic graph processing using Beam, Nifi, Flink, and/or Samza&lt;/li&gt;</span>"
      ],
      "text/plain": [
       "<IPython.core.display.HTML object>"
      ]
     },
     "metadata": {},
     "output_type": "display_data"
    },
    {
     "name": "stdout",
     "output_type": "stream",
     "text": [
      "\n",
      "[0.91513343 0.08486657]\n"
     ]
    },
    {
     "data": {
      "text/html": [
       "<span style=\"color:#5370dd\">&lt;li&gt;Experience with messaging technologies such as Kafka, RabbitMQ, ZeroMQ, or MQTT&lt;/li&gt;</span>"
      ],
      "text/plain": [
       "<IPython.core.display.HTML object>"
      ]
     },
     "metadata": {},
     "output_type": "display_data"
    },
    {
     "name": "stdout",
     "output_type": "stream",
     "text": [
      "\n",
      "[0.9125277 0.0874723]\n"
     ]
    },
    {
     "data": {
      "text/html": [
       "<span style=\"color:#5571de\">&lt;li&gt;Experience with high dimensional visualization using t-SNE or PCA or other related technologies such as Ayasdi&lt;/li&gt;</span>"
      ],
      "text/plain": [
       "<IPython.core.display.HTML object>"
      ]
     },
     "metadata": {},
     "output_type": "display_data"
    },
    {
     "name": "stdout",
     "output_type": "stream",
     "text": [
      "\n",
      "[0.91014981 0.08985019]\n"
     ]
    },
    {
     "data": {
      "text/html": [
       "<span style=\"color:#5673e0\">&lt;li&gt;Working knowledge of cloud based computational learning technologies such as Google Cloud Machine Learning, Microsoft Azure Machine Learning, or IBM Watson&lt;/li&gt;</span>"
      ],
      "text/plain": [
       "<IPython.core.display.HTML object>"
      ]
     },
     "metadata": {},
     "output_type": "display_data"
    },
    {
     "name": "stdout",
     "output_type": "stream",
     "text": [
      "\n",
      "[0.91147438 0.08852562]\n"
     ]
    },
    {
     "data": {
      "text/html": [
       "<span style=\"color:#5571de\">&lt;li&gt;Working knowledge of Rasa, Spacey/Prodigy, NLTK, Standford CoreNLP, ELMo, and other natural language understanding and processing frameworks and modeling&lt;/li&gt;</span>"
      ],
      "text/plain": [
       "<IPython.core.display.HTML object>"
      ]
     },
     "metadata": {},
     "output_type": "display_data"
    },
    {
     "name": "stdout",
     "output_type": "stream",
     "text": [
      "\n",
      "[0.91014981 0.08985019]\n"
     ]
    },
    {
     "data": {
      "text/html": [
       "<span style=\"color:#5673e0\">&lt;b&gt;Skills&lt;/b&gt;</span>"
      ],
      "text/plain": [
       "<IPython.core.display.HTML object>"
      ]
     },
     "metadata": {},
     "output_type": "display_data"
    },
    {
     "name": "stdout",
     "output_type": "stream",
     "text": [
      "\n",
      "[0.91034914 0.08965086]\n"
     ]
    },
    {
     "data": {
      "text/html": [
       "<span style=\"color:#5571de\">&lt;li&gt;Demonstrated strong track record on delivering computational learning based solutions that solve complex analytical problems using quantitative approaches that are a blend of analytical, mathematical and technical skills&lt;/li&gt;</span>"
      ],
      "text/plain": [
       "<IPython.core.display.HTML object>"
      ]
     },
     "metadata": {},
     "output_type": "display_data"
    },
    {
     "name": "stdout",
     "output_type": "stream",
     "text": [
      "\n",
      "[0.91101732 0.08898268]\n"
     ]
    },
    {
     "data": {
      "text/html": [
       "<span style=\"color:#5571de\">&lt;li&gt;Excellent written and verbal communication skills&lt;/li&gt;</span>"
      ],
      "text/plain": [
       "<IPython.core.display.HTML object>"
      ]
     },
     "metadata": {},
     "output_type": "display_data"
    },
    {
     "name": "stdout",
     "output_type": "stream",
     "text": [
      "\n",
      "[0.9108566 0.0891434]\n"
     ]
    },
    {
     "data": {
      "text/html": [
       "<span style=\"color:#5571de\">&lt;li&gt;Experienced with solution development, deployment, and/or administration of distributed computational learning and/or analysis systems such as Spark, H2O, SAS Grid, Tensorflow or Hadoop&lt;/li&gt;</span>"
      ],
      "text/plain": [
       "<IPython.core.display.HTML object>"
      ]
     },
     "metadata": {},
     "output_type": "display_data"
    },
    {
     "name": "stdout",
     "output_type": "stream",
     "text": [
      "\n",
      "[0.91014981 0.08985019]\n"
     ]
    },
    {
     "data": {
      "text/html": [
       "<span style=\"color:#5673e0\">&lt;li&gt;High School Diploma or equivalent required&lt;/li&gt;</span>"
      ],
      "text/plain": [
       "<IPython.core.display.HTML object>"
      ]
     },
     "metadata": {},
     "output_type": "display_data"
    },
    {
     "name": "stdout",
     "output_type": "stream",
     "text": [
      "\n",
      "[0.91014981 0.08985019]\n"
     ]
    },
    {
     "data": {
      "text/html": [
       "<span style=\"color:#5673e0\">&lt;li&gt;Master’s Degree in operations research, applied statistics, data mining, machine learning, physics or related quantitative discipline required&lt;/li&gt;</span>"
      ],
      "text/plain": [
       "<IPython.core.display.HTML object>"
      ]
     },
     "metadata": {},
     "output_type": "display_data"
    },
    {
     "name": "stdout",
     "output_type": "stream",
     "text": [
      "\n",
      "[0.937448 0.062552]\n"
     ]
    },
    {
     "data": {
      "text/html": [
       "<span style=\"color:#4d67d7\">&lt;b&gt;Experience&lt;/b&gt;</span>"
      ],
      "text/plain": [
       "<IPython.core.display.HTML object>"
      ]
     },
     "metadata": {},
     "output_type": "display_data"
    },
    {
     "name": "stdout",
     "output_type": "stream",
     "text": [
      "\n",
      "[0.91186019 0.08813981]\n"
     ]
    },
    {
     "data": {
      "text/html": [
       "<span style=\"color:#5571de\">&lt;li&gt;2-4 years hands-on experience with NoSQL data stores such as MongoDB, Cassandra, HBase, Riak or other technologies that embed NoSQL such as MarkLogic or Lily Enterprise required&lt;/li&gt;</span>"
      ],
      "text/plain": [
       "<IPython.core.display.HTML object>"
      ]
     },
     "metadata": {},
     "output_type": "display_data"
    },
    {
     "name": "stdout",
     "output_type": "stream",
     "text": [
      "\n",
      "[0.915734 0.084266]\n"
     ]
    },
    {
     "data": {
      "text/html": [
       "<span style=\"color:#5370dd\">&lt;li&gt;3-5 years data science experience required&lt;/li&gt;</span>"
      ],
      "text/plain": [
       "<IPython.core.display.HTML object>"
      ]
     },
     "metadata": {},
     "output_type": "display_data"
    },
    {
     "name": "stdout",
     "output_type": "stream",
     "text": [
      "\n",
      "[0.91081199 0.08918801]\n"
     ]
    },
    {
     "data": {
      "text/html": [
       "<span style=\"color:#5571de\">&lt;li&gt;5-7 years software engineering in languages to include Java, SAS, and Python required&lt;/li&gt;</span>"
      ],
      "text/plain": [
       "<IPython.core.display.HTML object>"
      ]
     },
     "metadata": {},
     "output_type": "display_data"
    },
    {
     "name": "stdout",
     "output_type": "stream",
     "text": [
      "\n",
      "[0.91240252 0.08759748]\n"
     ]
    },
    {
     "data": {
      "text/html": [
       "<span style=\"color:#5571de\">&lt;li&gt;5-7 years hands-on experience with SQL databases and Business Intelligence tools such as Oracle, DB2, Postrges, MySQL, SAS, Cognos, Oracle BI Enterprise Edition, SAP BusinessObjects, or Tableau required&lt;/li&gt;</span>"
      ],
      "text/plain": [
       "<IPython.core.display.HTML object>"
      ]
     },
     "metadata": {},
     "output_type": "display_data"
    },
    {
     "name": "stdout",
     "output_type": "stream",
     "text": [
      "\n",
      "[0.91014981 0.08985019]\n"
     ]
    },
    {
     "data": {
      "text/html": [
       "<span style=\"color:#5673e0\">&lt;li&gt;Master's (Preferred)&lt;/li&gt;</span>"
      ],
      "text/plain": [
       "<IPython.core.display.HTML object>"
      ]
     },
     "metadata": {},
     "output_type": "display_data"
    },
    {
     "name": "stdout",
     "output_type": "stream",
     "text": [
      "\n",
      "[0.91014981 0.08985019]\n"
     ]
    },
    {
     "data": {
      "text/html": [
       "<span style=\"color:#5673e0\">&lt;li&gt;Machine Learning: 5 years (Preferred)&lt;/li&gt;</span>"
      ],
      "text/plain": [
       "<IPython.core.display.HTML object>"
      ]
     },
     "metadata": {},
     "output_type": "display_data"
    },
    {
     "name": "stdout",
     "output_type": "stream",
     "text": [
      "\n",
      "[0.91014981 0.08985019]\n"
     ]
    },
    {
     "data": {
      "text/html": [
       "<span style=\"color:#5673e0\">&lt;li&gt;Python: 5 years (Preferred)&lt;/li&gt;</span>"
      ],
      "text/plain": [
       "<IPython.core.display.HTML object>"
      ]
     },
     "metadata": {},
     "output_type": "display_data"
    }
   ],
   "source": [
    "\n",
    "file_name, child_strs_list = random.choice(list(ea.CHILD_STRS_LIST_DICT.items()))\n",
    "for child_str in child_strs_list:\n",
    "    print()\n",
    "    if(CLF_NAME == 'LdaModel'):\n",
    "        X = ea.lda_predict_percent_is_header(child_str)\n",
    "    else:\n",
    "        X = ea.lr_predict_percent_is_header(child_str)\n",
    "    display(HTML(ha.html2text(child_str, X)))"
   ]
  },
  {
   "cell_type": "code",
   "execution_count": 14,
   "metadata": {},
   "outputs": [
    {
     "data": {
      "text/html": [
       "<div>\n",
       "<style scoped>\n",
       "    .dataframe tbody tr th:only-of-type {\n",
       "        vertical-align: middle;\n",
       "    }\n",
       "\n",
       "    .dataframe tbody tr th {\n",
       "        vertical-align: top;\n",
       "    }\n",
       "\n",
       "    .dataframe thead th {\n",
       "        text-align: right;\n",
       "    }\n",
       "</style>\n",
       "<table border=\"1\" class=\"dataframe\">\n",
       "  <thead>\n",
       "    <tr style=\"text-align: right;\">\n",
       "      <th></th>\n",
       "      <th>idf_weights</th>\n",
       "    </tr>\n",
       "  </thead>\n",
       "  <tbody>\n",
       "    <tr>\n",
       "      <th>and</th>\n",
       "      <td>1.842788</td>\n",
       "    </tr>\n",
       "    <tr>\n",
       "      <th>.</th>\n",
       "      <td>1.895326</td>\n",
       "    </tr>\n",
       "    <tr>\n",
       "      <th>&lt;/li</th>\n",
       "      <td>1.991051</td>\n",
       "    </tr>\n",
       "    <tr>\n",
       "      <th>&lt;li</th>\n",
       "      <td>1.991051</td>\n",
       "    </tr>\n",
       "    <tr>\n",
       "      <th>to</th>\n",
       "      <td>2.081805</td>\n",
       "    </tr>\n",
       "    <tr>\n",
       "      <th>...</th>\n",
       "      <td>...</td>\n",
       "    </tr>\n",
       "    <tr>\n",
       "      <th>as a Military Friendly Employer</th>\n",
       "      <td>6.686975</td>\n",
       "    </tr>\n",
       "    <tr>\n",
       "      <th>as a Military Friendly</th>\n",
       "      <td>6.686975</td>\n",
       "    </tr>\n",
       "    <tr>\n",
       "      <th>as a Military</th>\n",
       "      <td>6.686975</td>\n",
       "    </tr>\n",
       "    <tr>\n",
       "      <th>as a result of</th>\n",
       "      <td>6.686975</td>\n",
       "    </tr>\n",
       "    <tr>\n",
       "      <th>your team to achieve strong</th>\n",
       "      <td>6.686975</td>\n",
       "    </tr>\n",
       "  </tbody>\n",
       "</table>\n",
       "<p>36343 rows × 1 columns</p>\n",
       "</div>"
      ],
      "text/plain": [
       "                                 idf_weights\n",
       "and                                 1.842788\n",
       ".                                   1.895326\n",
       "</li                                1.991051\n",
       "<li                                 1.991051\n",
       "to                                  2.081805\n",
       "...                                      ...\n",
       "as a Military Friendly Employer     6.686975\n",
       "as a Military Friendly              6.686975\n",
       "as a Military                       6.686975\n",
       "as a result of                      6.686975\n",
       "your team to achieve strong         6.686975\n",
       "\n",
       "[36343 rows x 1 columns]"
      ]
     },
     "execution_count": 14,
     "metadata": {},
     "output_type": "execute_result"
    }
   ],
   "source": [
    "\n",
    "# The lower the IDF value of a word, the less unique it is to any particular HTML string\n",
    "pd.DataFrame(ea.CS_TT.idf_, index=ea.CHILD_STR_CLF.get_feature_names(), columns=['idf_weights']).sort_values(by=['idf_weights'])"
   ]
  },
  {
   "cell_type": "code",
   "execution_count": 19,
   "metadata": {},
   "outputs": [],
   "source": [
    "\n",
    "import pandas as pd\n",
    "\n",
    "# Re-transform the bag-of-words and tf-idf from the new manual scores\n",
    "rows_list = [{'navigable_parent': navigable_parent, 'is_header': is_header} for navigable_parent, is_header in ha.NAVIGABLE_PARENT_IS_HEADER_DICT.items()]\n",
    "child_str_df = pd.DataFrame(rows_list)\n",
    "\n",
    "assert child_str_df.shape[0]\n",
    "sents_list = child_str_df.navigable_parent.tolist()"
   ]
  },
  {
   "cell_type": "code",
   "execution_count": 16,
   "metadata": {},
   "outputs": [
    {
     "name": "stdout",
     "output_type": "stream",
     "text": [
      "<h2 class=\"jobsearch-JobDescriptionSection-jobDescriptionTitle icl-u-xs-my--md\" id=\"jobDescriptionTitle\">Full Job Description</h2>\n",
      "[[0.91014981 0.08985019]]\n"
     ]
    },
    {
     "data": {
      "text/html": [
       "<div>\n",
       "<style scoped>\n",
       "    .dataframe tbody tr th:only-of-type {\n",
       "        vertical-align: middle;\n",
       "    }\n",
       "\n",
       "    .dataframe tbody tr th {\n",
       "        vertical-align: top;\n",
       "    }\n",
       "\n",
       "    .dataframe thead th {\n",
       "        text-align: right;\n",
       "    }\n",
       "</style>\n",
       "<table border=\"1\" class=\"dataframe\">\n",
       "  <thead>\n",
       "    <tr style=\"text-align: right;\">\n",
       "      <th></th>\n",
       "      <th>tfidf</th>\n",
       "    </tr>\n",
       "  </thead>\n",
       "  <tbody>\n",
       "    <tr>\n",
       "      <th>jobDescriptionTitle</th>\n",
       "      <td>0.028774</td>\n",
       "    </tr>\n",
       "    <tr>\n",
       "      <th>&lt;/h2</th>\n",
       "      <td>0.014387</td>\n",
       "    </tr>\n",
       "    <tr>\n",
       "      <th>jobsearch</th>\n",
       "      <td>0.014387</td>\n",
       "    </tr>\n",
       "    <tr>\n",
       "      <th>md id</th>\n",
       "      <td>0.014387</td>\n",
       "    </tr>\n",
       "    <tr>\n",
       "      <th>md</th>\n",
       "      <td>0.014387</td>\n",
       "    </tr>\n",
       "    <tr>\n",
       "      <th>...</th>\n",
       "      <td>...</td>\n",
       "    </tr>\n",
       "    <tr>\n",
       "      <th>xs my md id jobDescriptionTitle</th>\n",
       "      <td>0.014387</td>\n",
       "    </tr>\n",
       "    <tr>\n",
       "      <th>class</th>\n",
       "      <td>0.013515</td>\n",
       "    </tr>\n",
       "    <tr>\n",
       "      <th>Description</th>\n",
       "      <td>0.013515</td>\n",
       "    </tr>\n",
       "    <tr>\n",
       "      <th>Full</th>\n",
       "      <td>0.012023</td>\n",
       "    </tr>\n",
       "    <tr>\n",
       "      <th>Job</th>\n",
       "      <td>0.011404</td>\n",
       "    </tr>\n",
       "  </tbody>\n",
       "</table>\n",
       "<p>69 rows × 1 columns</p>\n",
       "</div>"
      ],
      "text/plain": [
       "                                    tfidf\n",
       "jobDescriptionTitle              0.028774\n",
       "</h2                             0.014387\n",
       "jobsearch                        0.014387\n",
       "md id                            0.014387\n",
       "md                               0.014387\n",
       "...                                   ...\n",
       "xs my md id jobDescriptionTitle  0.014387\n",
       "class                            0.013515\n",
       "Description                      0.013515\n",
       "Full                             0.012023\n",
       "Job                              0.011404\n",
       "\n",
       "[69 rows x 1 columns]"
      ]
     },
     "execution_count": 16,
     "metadata": {},
     "output_type": "execute_result"
    }
   ],
   "source": [
    "\n",
    "# The more common the ngram is across documents, the lower its score (zero for ngrams missing in the chosen HTML string)\n",
    "# The more unique an ngram is to our chosen HTML string, the higher its score\n",
    "idx = sents_list.index([i for i in sents_list if '<h2 class' in i][0])\n",
    "child_str = sents_list[idx]\n",
    "print(child_str)\n",
    "y_predict_proba = ea.lr_predict_percent_is_header(child_str)\n",
    "print(y_predict_proba)\n",
    "df = pd.DataFrame(ea.CS_TT.transform(ea.CHILD_STR_CLF.transform(sents_list))[idx].T.todense(),\n",
    "                  index=ea.CHILD_STR_CLF.get_feature_names(), columns=['tfidf'])\n",
    "mask_series = (df.tfidf > 0.0)\n",
    "df[mask_series].sort_values('tfidf', ascending=False)"
   ]
  },
  {
   "cell_type": "code",
   "execution_count": 126,
   "metadata": {},
   "outputs": [
    {
     "data": {
      "text/plain": [
       "[('. </div', 4.78), ('<b Careers with Optum .', 5.7), ('beginning employment . </i', 5.7), ('based on your experience </p', 5.7), ('<i We are committed to', 5.7), ('<li Retirement plan', 5.7), ('<b A candidate must', 5.7), ('Flexible schedule </li', 5.7), ('Takes to Succeed : </b', 5.7), ('non technical audiences alike </li', 5.7), ('<li Doctorate Required', 5.7), ('<p Work Location : </p', 5.7), ('audiences alike </li', 5.7), ('<p Benefits :', 5.7), ('<h2', 5.7), ('401 k </li', 5.7), ('inclusion </p', 5.7), ('the role for you </p', 5.7), ('Virtual meetings </li', 5.7), ('<i Were proud to be', 5.7)]"
      ]
     },
     "execution_count": 126,
     "metadata": {},
     "output_type": "execute_result"
    }
   ],
   "source": [
    "\n",
    "sample_list = []\n",
    "sample_list = random.sample([(w, i) for w, i in ea.CS_CV_VOCAB.items() if '<' in w], 20)\n",
    "sorted([(w, round(ea.CS_TT.idf_[i], 2)) for w, i in sample_list], key=lambda x: x[1], reverse=False)"
   ]
  },
  {
   "cell_type": "code",
   "execution_count": 168,
   "metadata": {},
   "outputs": [
    {
     "data": {
      "text/plain": [
       "['analyzer', 'binary', 'build_analyzer', 'build_preprocessor', 'build_tokenizer', 'decode', 'decode_error', 'dtype', 'encoding', 'fit', 'fit_transform', 'fixed_vocabulary_', 'get_feature_names', 'get_params', 'get_stop_words', 'input', 'inverse_transform', 'lowercase', 'max_df', 'max_features', 'min_df', 'ngram_range', 'preprocessor', 'set_params', 'stop_words', 'stop_words_', 'strip_accents', 'token_pattern', 'tokenizer', 'transform', 'vocabulary', 'vocabulary_']"
      ]
     },
     "execution_count": 168,
     "metadata": {},
     "output_type": "execute_result"
    }
   ],
   "source": [
    "\n",
    "[fn for fn in dir(ea.CS_CV) if not fn.startswith('_')]"
   ]
  },
  {
   "cell_type": "code",
   "execution_count": 87,
   "metadata": {},
   "outputs": [
    {
     "data": {
      "text/plain": [
       "['capability for', 'Come In', 'You', 'example', 'Experience', '80', 'language', 'learning to', 'and the', 'safe and', 'graduate', 'Schedule :', 'Yelp', 'Bachelor s', 'experience </li', 'Supplemental Pay', 'automate', 'work', 'persistence', 'full time']"
      ]
     },
     "execution_count": 87,
     "metadata": {},
     "output_type": "execute_result"
    }
   ],
   "source": [
    "\n",
    "random.sample([w for w in ea.CS_CV.get_feature_names()], 20)"
   ]
  },
  {
   "cell_type": "markdown",
   "metadata": {},
   "source": [
    "\n",
    "----"
   ]
  },
  {
   "cell_type": "code",
   "execution_count": 533,
   "metadata": {},
   "outputs": [
    {
     "name": "stdout",
     "output_type": "stream",
     "text": [
      "C:\\Users\\dev\\Anaconda3\\envs\\jh\\python.exe -m pip install --upgrade html2text\n",
      "Collecting html2text"
     ]
    },
    {
     "name": "stderr",
     "output_type": "stream",
     "text": [
      "  WARNING: The script html2text.exe is installed in 'C:\\Users\\dev\\Anaconda3\\envs\\jh\\Scripts' which is not on PATH.\n",
      "  Consider adding this directory to PATH or, if you prefer to suppress this warning, use --no-warn-script-location.\n"
     ]
    },
    {
     "name": "stdout",
     "output_type": "stream",
     "text": [
      "\n",
      "  Using cached html2text-2020.1.16-py3-none-any.whl (32 kB)\n",
      "Installing collected packages: html2text\n",
      "Successfully installed html2text-2020.1.16\n"
     ]
    }
   ],
   "source": [
    "\n",
    "import sys\n",
    "\n",
    "command_str = f'{sys.executable} -m pip install --upgrade html2text'\n",
    "print(command_str)\n",
    "!{command_str}"
   ]
  },
  {
   "cell_type": "code",
   "execution_count": null,
   "metadata": {},
   "outputs": [],
   "source": []
  }
 ],
 "metadata": {
  "anaconda-cloud": {},
  "kernelspec": {
   "display_name": "Job Hunting (Python 3.9.0)",
   "language": "python",
   "name": "jh"
  },
  "language_info": {
   "codemirror_mode": {
    "name": "ipython",
    "version": 3
   },
   "file_extension": ".py",
   "mimetype": "text/x-python",
   "name": "python",
   "nbconvert_exporter": "python",
   "pygments_lexer": "ipython3",
   "version": "3.9.0"
  }
 },
 "nbformat": 4,
 "nbformat_minor": 4
}
