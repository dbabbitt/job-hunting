{
 "cells": [
  {
   "cell_type": "code",
   "execution_count": 1,
   "metadata": {},
   "outputs": [
    {
     "name": "stdout",
     "output_type": "stream",
     "text": [
      "Pretty printing has been turned OFF\n"
     ]
    }
   ],
   "source": [
    "\n",
    "%pprint"
   ]
  },
  {
   "cell_type": "code",
   "execution_count": 31,
   "metadata": {},
   "outputs": [],
   "source": [
    "\n",
    "from IPython.display import clear_output\n",
    "from bs4 import BeautifulSoup\n",
    "from bs4.element import NavigableString\n",
    "from sklearn.feature_extraction.text import CountVectorizer\n",
    "from sklearn.feature_extraction.text import TfidfTransformer\n",
    "from sklearn.linear_model import LogisticRegression\n",
    "from urllib.parse import urlparse, parse_qs\n",
    "import numpy as np\n",
    "import os\n",
    "import random\n",
    "import re\n",
    "import requests\n",
    "\n",
    "%run ../load_magic/storage.py\n",
    "s = Storage()\n",
    "\n",
    "LT_REGEX = re.compile(r'\\s+<')\n",
    "GT_REGEX = re.compile(r'>\\s+')\n",
    "SAVES_HTML_FOLDER = os.path.join(s.saves_folder, 'html')\n",
    "assert s.pickle_exists('BASIC_TAGS_DICT')\n",
    "BASIC_TAGS_DICT = s.load_object('BASIC_TAGS_DICT')\n",
    "assert s.pickle_exists('FIT_ESTIMATORS_DICT')\n",
    "FIT_ESTIMATORS_DICT = s.load_object('FIT_ESTIMATORS_DICT')"
   ]
  },
  {
   "cell_type": "code",
   "execution_count": 3,
   "metadata": {},
   "outputs": [],
   "source": [
    "\n",
    "def clean_html_str(html_obj):\n",
    "    html_str = str(html_obj)\n",
    "    html_str = html_str.strip()\n",
    "    html_str = LT_REGEX.sub('<', html_str)\n",
    "    html_str = GT_REGEX.sub('>', html_str)\n",
    "    \n",
    "    return html_str"
   ]
  },
  {
   "cell_type": "code",
   "execution_count": 4,
   "metadata": {},
   "outputs": [],
   "source": [
    "\n",
    "def get_navigable_children(tag, result_list=[]):\n",
    "    if type(tag) is not NavigableString:\n",
    "        for child_tag in tag.children:\n",
    "            result_list = get_navigable_children(child_tag, result_list)\n",
    "    else:\n",
    "        base_str = clean_html_str(tag)\n",
    "        if base_str:\n",
    "            tag_str = clean_html_str(tag.parent)\n",
    "            if tag_str.count('<') > 2:\n",
    "                tag_str = base_str\n",
    "            result_list.append(tag_str)\n",
    "    \n",
    "    return result_list"
   ]
  },
  {
   "cell_type": "code",
   "execution_count": 5,
   "metadata": {},
   "outputs": [],
   "source": [
    "\n",
    "def update_child_strs_list_dictionary(child_strs_list_dict=None, basic_tags_dict=None):\n",
    "    if basic_tags_dict is None:\n",
    "        basic_tags_dict = s.load_object('basic_tags_dict')\n",
    "    if child_strs_list_dict is None:\n",
    "        files_list = os.listdir(SAVES_HTML_FOLDER)\n",
    "        child_strs_list_dict = {}\n",
    "        for file_name in files_list:\n",
    "            file_path = os.path.join(SAVES_HTML_FOLDER, file_name)\n",
    "            with open(file_path, 'r', encoding='utf-8') as f:\n",
    "                html_str = f.read()\n",
    "                job_soup = BeautifulSoup(html_str, 'lxml')\n",
    "                body_soup = job_soup.find_all(name='body')[0]\n",
    "                child_strs_list = get_navigable_children(body_soup, [])\n",
    "            if not len(child_strs_list):\n",
    "                os.remove(file_path)\n",
    "            child_strs_list = [child_str for child_str in child_strs_list if child_str not in basic_tags_dict]\n",
    "            child_strs_list_dict[file_name] = child_strs_list\n",
    "        \n",
    "        return child_strs_list_dict\n",
    "    \n",
    "    for file_name, child_strs_list in child_strs_list_dict.items():\n",
    "        child_strs_list = [child_str for child_str in child_strs_list if child_str not in basic_tags_dict]\n",
    "        if not len(child_strs_list):\n",
    "            child_strs_list = child_strs_list_dict.pop(file_name)\n",
    "            break\n",
    "        else:\n",
    "            child_strs_list_dict[file_name] = child_strs_list\n",
    "    \n",
    "    return child_strs_list_dict"
   ]
  },
  {
   "cell_type": "code",
   "execution_count": 6,
   "metadata": {},
   "outputs": [],
   "source": [
    "\n",
    "assert s.pickle_exists('CHILD_STRS_LIST_DICT')\n",
    "CHILD_STRS_LIST_DICT = s.load_object('CHILD_STRS_LIST_DICT')"
   ]
  },
  {
   "cell_type": "code",
   "execution_count": 14,
   "metadata": {},
   "outputs": [],
   "source": [
    "\n",
    "#SCANNER_REGEX = re.compile(r'(</?|\\b|:)[1-9a-zA-Z][0-9a-zA-Z]*( *[#\\+]{1,2}|>|\\.\\b|\\b)')\n",
    "SCANNER_REGEX = re.compile(r'</?\\w+|\\w+[#\\+]*|:|\\.|\\?')\n",
    "def regex_tokenizer(corpus):\n",
    "    \n",
    "    return [match.group() for match in re.finditer(SCANNER_REGEX, corpus)]"
   ]
  },
  {
   "cell_type": "code",
   "execution_count": 15,
   "metadata": {},
   "outputs": [
    {
     "data": {
      "text/plain": [
       "['<b', 'What', 'are', 'we', 'looking', 'for', '?', '</b']"
      ]
     },
     "execution_count": 15,
     "metadata": {},
     "output_type": "execute_result"
    }
   ],
   "source": [
    "\n",
    "regex_tokenizer('<b>What are we looking for?</b>')"
   ]
  },
  {
   "cell_type": "code",
   "execution_count": 9,
   "metadata": {},
   "outputs": [],
   "source": [
    "\n",
    "def print_dictionary_code():\n",
    "    BASIC_TAGS_DICT = s.load_object('BASIC_TAGS_DICT')\n",
    "    child_strs_list_dict = update_child_strs_list_dictionary(CHILD_STRS_LIST_DICT, BASIC_TAGS_DICT)\n",
    "    s.store_objects(CHILD_STRS_LIST_DICT=child_strs_list_dict)\n",
    "    for file_name, child_strs_list in child_strs_list_dict.items():\n",
    "        for tag_str in child_strs_list:\n",
    "            print()\n",
    "            print()\n",
    "            if \"'\" in tag_str:\n",
    "                print(f'''BASIC_TAGS_DICT[\"{tag_str}\"] = False''')\n",
    "            else:\n",
    "                print(f'''BASIC_TAGS_DICT['{tag_str}'] = False''')\n",
    "            print(f'''print(len(BASIC_TAGS_DICT.keys()))\\ns.store_objects(BASIC_TAGS_DICT=BASIC_TAGS_DICT)''')\n",
    "            break\n",
    "        break"
   ]
  },
  {
   "cell_type": "code",
   "execution_count": 1114,
   "metadata": {},
   "outputs": [],
   "source": [
    "\n",
    "def get_dictionary_code():\n",
    "    output_str = ''\n",
    "    BASIC_TAGS_DICT = s.load_object('BASIC_TAGS_DICT')\n",
    "    child_strs_list_dict = update_child_strs_list_dictionary(CHILD_STRS_LIST_DICT, BASIC_TAGS_DICT)\n",
    "    s.store_objects(CHILD_STRS_LIST_DICT=child_strs_list_dict)\n",
    "    for file_name, child_strs_list in child_strs_list_dict.items():\n",
    "        for tag_str in child_strs_list:\n",
    "            output_str += '\\n'\n",
    "            if \"'\" in tag_str:\n",
    "                #output_str += f'''assert \"{tag_str}\" not in BASIC_TAGS_DICT\\n'''\n",
    "                output_str += f'''BASIC_TAGS_DICT[\"{tag_str}\"] = False\\n'''\n",
    "            else:\n",
    "                #output_str += f'''assert '{tag_str}' not in BASIC_TAGS_DICT\\n'''\n",
    "                output_str += f'''BASIC_TAGS_DICT['{tag_str}'] = False\\n'''\n",
    "            output_str += f'''print(len(BASIC_TAGS_DICT.keys()))\\ns.store_objects(BASIC_TAGS_DICT=BASIC_TAGS_DICT)'''\n",
    "            break\n",
    "        break\n",
    "    \n",
    "    return output_str\n",
    "ZMQInteractiveShell_obj = get_ipython()"
   ]
  },
  {
   "cell_type": "code",
   "execution_count": 680,
   "metadata": {},
   "outputs": [],
   "source": [
    "\n",
    "from IPython.display import HTML, display\n",
    "import pylab\n",
    "\n",
    "cmap = pylab.cm.get_cmap('coolwarm')\n",
    "files_list = os.listdir(SAVES_HTML_FOLDER)\n",
    "def html2text(html_str, prob_float):\n",
    "    html_str = html_str.replace('<', '&lt;').replace('>', '&gt;')\n",
    "    hex_str = '%02x%02x%02x' % cmap(X=prob_float, bytes=True)[:-1]\n",
    "    html_str = f'<span style=\"color:#{hex_str}\">{html_str}</span>'\n",
    "    \n",
    "    return html_str"
   ]
  },
  {
   "cell_type": "markdown",
   "metadata": {},
   "source": [
    "\n",
    "----"
   ]
  },
  {
   "cell_type": "code",
   "execution_count": 153,
   "metadata": {},
   "outputs": [
    {
     "name": "stdout",
     "output_type": "stream",
     "text": [
      "Pickling to C:\\Users\\dev\\Documents\\Repositories\\job-hunting\\saves\\pickle\\CHILD_STRS_LIST_DICT.pickle\n",
      "\n",
      "\n",
      "BASIC_TAGS_DICT['CTSH) is a leading provider'] = False\n",
      "print(len(BASIC_TAGS_DICT.keys()))\n",
      "s.store_objects(BASIC_TAGS_DICT=BASIC_TAGS_DICT)\n"
     ]
    }
   ],
   "source": [
    "\n",
    "print_dictionary_code()"
   ]
  },
  {
   "cell_type": "code",
   "execution_count": null,
   "metadata": {},
   "outputs": [],
   "source": [
    "\n",
    "ZMQInteractiveShell_obj.set_next_input(text=get_dictionary_code(), replace=True)"
   ]
  },
  {
   "cell_type": "code",
   "execution_count": 1172,
   "metadata": {},
   "outputs": [],
   "source": [
    "\n",
    "from gensim.corpora.dictionary import Dictionary\n",
    "from gensim.models.ldamodel import LdaModel\n",
    "from gensim.models import FastText\n",
    "\n",
    "# Re-transform the bag-of-words and tf-idf from the new manual scores\n",
    "BASIC_TAGS_DICT = s.load_object('BASIC_TAGS_DICT')\n",
    "rows_list = [{'navigable_parent': navigable_parent, 'is_header': is_header} for navigable_parent, is_header in BASIC_TAGS_DICT.items()]\n",
    "child_str_df = pd.DataFrame(rows_list)\n",
    "\n",
    "assert child_str_df.shape[0]\n",
    "sents_list = child_str_df.navigable_parent.tolist()\n",
    "CLF_NAME = 'LdaModel'\n",
    "#CLF_NAME = 'LogisticRegression'"
   ]
  },
  {
   "cell_type": "code",
   "execution_count": 1173,
   "metadata": {},
   "outputs": [],
   "source": [
    "\n",
    "if(CLF_NAME == 'LdaModel'):\n",
    "    \n",
    "    # Build model with tokenized words\n",
    "    tokenized_sents_list = [regex_tokenizer(sent_str) for sent_str in sents_list]\n",
    "    \n",
    "    # Create a corpus from a list of texts\n",
    "    HEADERS_DICTIONARY = Dictionary(tokenized_sents_list)\n",
    "    headers_corpus = [HEADERS_DICTIONARY.doc2bow(tag_str) for tag_str in tokenized_sents_list]\n",
    "    \n",
    "    # Train the model on the corpus\n",
    "    LDA = LdaModel(corpus=headers_corpus, num_topics=2)\n",
    "    \n",
    "else:\n",
    "    \n",
    "    # Bag-of-words\n",
    "    cv = CountVectorizer(**{'analyzer': 'word', 'binary': False, 'decode_error': 'strict', 'lowercase': False, 'max_df': 1.0,\n",
    "                            'max_features': None, 'min_df': 0.0, 'ngram_range': (1, 5), 'stop_words': None, 'strip_accents': 'ascii',\n",
    "                            'tokenizer': regex_tokenizer})\n",
    "    \n",
    "    # The shape of the count vector here should be n sentences * m unique words\n",
    "    bow_matrix = cv.fit_transform(sents_list)\n",
    "    \n",
    "    # Store the resulting vocabulary; the numbers are not counts, they are the position in the sparse vector\n",
    "    s.store_objects(cs_cv_vocab=cv.vocabulary_)\n",
    "    \n",
    "    # Tf-idf must get from Bag-of-words first\n",
    "    tt = TfidfTransformer(**{'norm': 'l1', 'smooth_idf': True, 'sublinear_tf': False, 'use_idf': True})\n",
    "    tfidf_matrix = tt.fit_transform(bow_matrix)\n",
    "    s.store_objects(CS_TT=tt)\n",
    "    \n",
    "    # Re-train the classifier\n",
    "    X = tfidf_matrix.toarray()\n",
    "    y = child_str_df.is_header.to_numpy()\n",
    "    FIT_ESTIMATORS_DICT = s.load_object('FIT_ESTIMATORS_DICT')\n",
    "    child_str_clf = FIT_ESTIMATORS_DICT[CLF_NAME]\n",
    "    child_str_clf.fit(X, y)\n",
    "    FIT_ESTIMATORS_DICT[CLF_NAME] = child_str_clf\n",
    "    s.store_objects(child_str_clf=child_str_clf, FIT_ESTIMATORS_DICT=FIT_ESTIMATORS_DICT)\n",
    "    \n",
    "    # Re-calibrate the inference engine\n",
    "    cs_cv_vocab = s.load_object('cs_cv_vocab')\n",
    "    CS_CV = CountVectorizer(vocabulary=cs_cv_vocab)\n",
    "    CS_CV._validate_vocabulary()\n",
    "    CS_TT = s.load_object('CS_TT')"
   ]
  },
  {
   "cell_type": "code",
   "execution_count": 1174,
   "metadata": {},
   "outputs": [
    {
     "name": "stdout",
     "output_type": "stream",
     "text": [
      "Retraining complete\n"
     ]
    }
   ],
   "source": [
    "\n",
    "def predict_percent_fit(navigable_parents_list):\n",
    "    y_predict_proba_list = []\n",
    "    for navigable_parent in navigable_parents_list:\n",
    "        if(CLF_NAME == 'LdaModel'):\n",
    "            X_test = HEADERS_DICTIONARY.doc2bow(regex_tokenizer(navigable_parent))\n",
    "            result_list = LDA[X_test]\n",
    "            if len(result_list) == 1:\n",
    "                result_tuple = result_list[0]\n",
    "            elif len(result_list) == 2:\n",
    "                result_tuple = result_list[1]\n",
    "                \n",
    "            # Assume it's the probability of the smaller topic\n",
    "            y_predict_proba = 1.0 - result_tuple[1]\n",
    "        \n",
    "        else:\n",
    "            X_test = CS_TT.transform(CS_CV.transform(navigable_parents_list)).toarray()\n",
    "            y_predict_proba = child_str_clf.predict_proba(X_test)\n",
    "        y_predict_proba_list.append(y_predict_proba)\n",
    "    \n",
    "    return y_predict_proba_list\n",
    "print('Retraining complete')"
   ]
  },
  {
   "cell_type": "code",
   "execution_count": 1175,
   "metadata": {},
   "outputs": [],
   "source": [
    "\n",
    "file_name = random.choice(files_list)\n",
    "def get_child_strs_from_file(file_name):\n",
    "    child_strs_list = []\n",
    "    file_path = os.path.join(SAVES_HTML_FOLDER, file_name)\n",
    "    with open(file_path, 'r', encoding='utf-8') as f:\n",
    "        html_str = f.read()\n",
    "        job_soup = BeautifulSoup(html_str, 'lxml')\n",
    "        body_soup = job_soup.find_all(name='body')[0]\n",
    "        child_strs_list = get_navigable_children(body_soup, [])\n",
    "    \n",
    "    return child_strs_list"
   ]
  },
  {
   "cell_type": "code",
   "execution_count": 1177,
   "metadata": {},
   "outputs": [
    {
     "data": {
      "image/png": "[encoded data removed]",
      "text/plain": [
       "<Figure size 1296x180 with 1 Axes>"
      ]
     },
     "metadata": {
      "needs_background": "light"
     },
     "output_type": "display_data"
    }
   ],
   "source": [
    "\n",
    "import matplotlib.pyplot as plt\n",
    "\n",
    "def plot_child_str_predictions(child_strs_list):\n",
    "    rows_list = []\n",
    "    for child_str in child_strs_list:\n",
    "        y_predict_proba = predict_percent_fit([child_str])[0]\n",
    "        if(CLF_NAME == 'LdaModel'):\n",
    "            X = y_predict_proba\n",
    "        else:\n",
    "            X = y_predict_proba[0][1]\n",
    "        row_dict = {'probability': X}\n",
    "        if child_str in BASIC_TAGS_DICT:\n",
    "            row_dict['actual'] = BASIC_TAGS_DICT[child_str] * 1.0\n",
    "        else:\n",
    "            row_dict['actual'] = np.nan\n",
    "        rows_list.append(row_dict)\n",
    "    ax = plt.figure(figsize=(18, 2.5)).add_subplot(1, 1, 1)\n",
    "    AxesSubplot_obj = pd.DataFrame(rows_list).plot.line(ax=ax)\n",
    "    ax.axis('off')\n",
    "    for i, child_str in enumerate(child_strs_list):\n",
    "        ax.annotate(f'{child_str[:20]}...', (i, rows_list[i]['probability']), ha='left', rotation=90)\n",
    "plot_child_str_predictions(child_strs_list)"
   ]
  },
  {
   "cell_type": "code",
   "execution_count": 991,
   "metadata": {},
   "outputs": [
    {
     "name": "stdout",
     "output_type": "stream",
     "text": [
      "\n",
      "(0, 0.031896733)\n"
     ]
    },
    {
     "data": {
      "text/html": [
       "<span style=\"color:#435acc\">&lt;h2 class=\"jobsearch-JobDescriptionSection-jobDescriptionTitle icl-u-xs-my--md\" id=\"jobDescriptionTitle\"&gt;Full Job Description&lt;/h2&gt;</span>"
      ],
      "text/plain": [
       "<IPython.core.display.HTML object>"
      ]
     },
     "metadata": {},
     "output_type": "display_data"
    },
    {
     "name": "stdout",
     "output_type": "stream",
     "text": [
      "\n",
      "(0, 0.047014434)\n"
     ]
    },
    {
     "data": {
      "text/html": [
       "<span style=\"color:#4860d1\">&lt;p&gt;The Sr. Business Analyst / Data Scientist will join a strong team providing advanced analytical and data management services related to the mortgage industry. A successful candidate will be comfortable with discounted advanced analytic techniques, R and Python programming languages, modern data management best practices, cash flow modeling, and directly engaging with clients. This role will help lead efforts to modernize our analytical solutions across the spectrum of Phoenix’s business lines.&lt;/p&gt;</span>"
      ],
      "text/plain": [
       "<IPython.core.display.HTML object>"
      ]
     },
     "metadata": {},
     "output_type": "display_data"
    },
    {
     "name": "stdout",
     "output_type": "stream",
     "text": [
      "\n",
      "(0, 0.18594745)\n"
     ]
    },
    {
     "data": {
      "text/html": [
       "<span style=\"color:#7598f6\">&lt;b&gt;Essential Duties &amp; Responsibilities&lt;/b&gt;</span>"
      ],
      "text/plain": [
       "<IPython.core.display.HTML object>"
      ]
     },
     "metadata": {},
     "output_type": "display_data"
    },
    {
     "name": "stdout",
     "output_type": "stream",
     "text": [
      "\n",
      "(0, 0.27749285)\n"
     ]
    },
    {
     "data": {
      "text/html": [
       "<span style=\"color:#97b8fe\">:</span>"
      ],
      "text/plain": [
       "<IPython.core.display.HTML object>"
      ]
     },
     "metadata": {},
     "output_type": "display_data"
    },
    {
     "name": "stdout",
     "output_type": "stream",
     "text": [
      "\n",
      "(0, 0.1496798)\n"
     ]
    },
    {
     "data": {
      "text/html": [
       "<span style=\"color:#698bef\">&lt;li&gt;Support the evolution of Phoenix’s business intelligence strategies&lt;/li&gt;</span>"
      ],
      "text/plain": [
       "<IPython.core.display.HTML object>"
      ]
     },
     "metadata": {},
     "output_type": "display_data"
    },
    {
     "name": "stdout",
     "output_type": "stream",
     "text": [
      "\n",
      "(0, 0.2493679)\n"
     ]
    },
    {
     "data": {
      "text/html": [
       "<span style=\"color:#8baefd\">&lt;li&gt;Work directly with clients and internal business units to define and create visual reports and dashboards for clients, internal business analysts, and senior leadership.&lt;/li&gt;</span>"
      ],
      "text/plain": [
       "<IPython.core.display.HTML object>"
      ]
     },
     "metadata": {},
     "output_type": "display_data"
    },
    {
     "name": "stdout",
     "output_type": "stream",
     "text": [
      "\n",
      "(0, 0.55872726)\n"
     ]
    },
    {
     "data": {
      "text/html": [
       "<span style=\"color:#ebd3c6\">&lt;li&gt;Synthesize analysis and results in compelling storylines and communicate to key stakeholders. Should have the ability to tell a story around the problem, the solution, and the impact and value of implementing a solution.&lt;/li&gt;</span>"
      ],
      "text/plain": [
       "<IPython.core.display.HTML object>"
      ]
     },
     "metadata": {},
     "output_type": "display_data"
    },
    {
     "name": "stdout",
     "output_type": "stream",
     "text": [
      "\n",
      "(0, 0.08158735)\n"
     ]
    },
    {
     "data": {
      "text/html": [
       "<span style=\"color:#526edc\">&lt;li&gt;Performad hoc projects to meet client specific requirements.&lt;/li&gt;</span>"
      ],
      "text/plain": [
       "<IPython.core.display.HTML object>"
      ]
     },
     "metadata": {},
     "output_type": "display_data"
    },
    {
     "name": "stdout",
     "output_type": "stream",
     "text": [
      "\n",
      "(0, 0.5423564)\n"
     ]
    },
    {
     "data": {
      "text/html": [
       "<span style=\"color:#e7d6cd\">&lt;li&gt;Design, develop and deploy advanced analytics solutions to business problems using data analysis, data mining, forecasting, optimization tools, and machine learning techniques and statistics&lt;/li&gt;</span>"
      ],
      "text/plain": [
       "<IPython.core.display.HTML object>"
      ]
     },
     "metadata": {},
     "output_type": "display_data"
    },
    {
     "name": "stdout",
     "output_type": "stream",
     "text": [
      "\n",
      "(0, 0.18857215)\n"
     ]
    },
    {
     "data": {
      "text/html": [
       "<span style=\"color:#779af6\">&lt;li&gt;Interpret results using a variety of techniques, ranging from simple data aggregation to complex data mining and statistical modeling.&lt;/li&gt;</span>"
      ],
      "text/plain": [
       "<IPython.core.display.HTML object>"
      ]
     },
     "metadata": {},
     "output_type": "display_data"
    },
    {
     "name": "stdout",
     "output_type": "stream",
     "text": [
      "\n",
      "(0, 0.6503228)\n"
     ]
    },
    {
     "data": {
      "text/html": [
       "<span style=\"color:#f6bca2\">&lt;li&gt;Conduct analysis and benefits/risk assessment to estimate outcomes and validate analysis.&lt;/li&gt;</span>"
      ],
      "text/plain": [
       "<IPython.core.display.HTML object>"
      ]
     },
     "metadata": {},
     "output_type": "display_data"
    },
    {
     "name": "stdout",
     "output_type": "stream",
     "text": [
      "\n",
      "(0, 0.17067179)\n"
     ]
    },
    {
     "data": {
      "text/html": [
       "<span style=\"color:#7093f3\">&lt;li&gt;Contribute to various departmental projects, including tracking and analyzing industry benchmarks, and model validation.&lt;/li&gt;</span>"
      ],
      "text/plain": [
       "<IPython.core.display.HTML object>"
      ]
     },
     "metadata": {},
     "output_type": "display_data"
    },
    {
     "name": "stdout",
     "output_type": "stream",
     "text": [
      "\n",
      "(0, 0.06261842)\n"
     ]
    },
    {
     "data": {
      "text/html": [
       "<span style=\"color:#4d67d7\">&lt;li&gt;Connect data across our many business lines in the facilitation of deeper insights&lt;/li&gt;</span>"
      ],
      "text/plain": [
       "<IPython.core.display.HTML object>"
      ]
     },
     "metadata": {},
     "output_type": "display_data"
    },
    {
     "name": "stdout",
     "output_type": "stream",
     "text": [
      "\n",
      "(0, 0.12112689)\n"
     ]
    },
    {
     "data": {
      "text/html": [
       "<span style=\"color:#6080e8\">&lt;li&gt;See the data “forest for the trees” and help identify connections between existing data sets and holes that could be filled by new analytics and data sets.&lt;/li&gt;</span>"
      ],
      "text/plain": [
       "<IPython.core.display.HTML object>"
      ]
     },
     "metadata": {},
     "output_type": "display_data"
    },
    {
     "name": "stdout",
     "output_type": "stream",
     "text": [
      "\n",
      "(0, 0.051633924)\n"
     ]
    },
    {
     "data": {
      "text/html": [
       "<span style=\"color:#4962d3\">&lt;li&gt;Manipulate high-volume, highly-dimensional data from varying sources to highlight patterns, anomalies, relationships, and trends.&lt;/li&gt;</span>"
      ],
      "text/plain": [
       "<IPython.core.display.HTML object>"
      ]
     },
     "metadata": {},
     "output_type": "display_data"
    },
    {
     "name": "stdout",
     "output_type": "stream",
     "text": [
      "\n",
      "(0, 0.34648257)\n"
     ]
    },
    {
     "data": {
      "text/html": [
       "<span style=\"color:#aec9fc\">&lt;li&gt;Work with business leaders to create data marts in support of new products, existing services, and internal reporting&lt;/li&gt;</span>"
      ],
      "text/plain": [
       "<IPython.core.display.HTML object>"
      ]
     },
     "metadata": {},
     "output_type": "display_data"
    },
    {
     "name": "stdout",
     "output_type": "stream",
     "text": [
      "\n",
      "(0, 0.13601841)\n"
     ]
    },
    {
     "data": {
      "text/html": [
       "<span style=\"color:#6485eb\">&lt;li&gt;Explore new technologies (e.g. machine learning) and practices to keep Phoenix on the cutting edge of analytics and data management processes within our industry&lt;/li&gt;</span>"
      ],
      "text/plain": [
       "<IPython.core.display.HTML object>"
      ]
     },
     "metadata": {},
     "output_type": "display_data"
    },
    {
     "name": "stdout",
     "output_type": "stream",
     "text": [
      "\n",
      "(0, 0.8473759)\n"
     ]
    },
    {
     "data": {
      "text/html": [
       "<span style=\"color:#e46e56\">&lt;li&gt;Ability to work autonomously in a high pressure, yet team-oriented environment with clear deadlines&lt;/li&gt;</span>"
      ],
      "text/plain": [
       "<IPython.core.display.HTML object>"
      ]
     },
     "metadata": {},
     "output_type": "display_data"
    },
    {
     "name": "stdout",
     "output_type": "stream",
     "text": [
      "\n",
      "(0, 0.10552349)\n"
     ]
    },
    {
     "data": {
      "text/html": [
       "<span style=\"color:#5b79e4\">&lt;li&gt;Manage multiple projects concurrently and seamlessly switch priorities as needed&lt;/li&gt;</span>"
      ],
      "text/plain": [
       "<IPython.core.display.HTML object>"
      ]
     },
     "metadata": {},
     "output_type": "display_data"
    },
    {
     "name": "stdout",
     "output_type": "stream",
     "text": [
      "\n",
      "(0, 0.112859614)\n"
     ]
    },
    {
     "data": {
      "text/html": [
       "<span style=\"color:#5c7be5\">&lt;li&gt;Work with IT to develop and enforce appropriate data security and governance.&lt;/li&gt;</span>"
      ],
      "text/plain": [
       "<IPython.core.display.HTML object>"
      ]
     },
     "metadata": {},
     "output_type": "display_data"
    },
    {
     "name": "stdout",
     "output_type": "stream",
     "text": [
      "\n",
      "(0, 0.056573194)\n"
     ]
    },
    {
     "data": {
      "text/html": [
       "<span style=\"color:#4b64d4\">&lt;li&gt;Build, develop, and grow relationships with business users and other stakeholders to establish mutual trust and provide a foundation for a high level project partnership&lt;/li&gt;</span>"
      ],
      "text/plain": [
       "<IPython.core.display.HTML object>"
      ]
     },
     "metadata": {},
     "output_type": "display_data"
    },
    {
     "name": "stdout",
     "output_type": "stream",
     "text": [
      "\n",
      "(0, 0.5460952)\n"
     ]
    },
    {
     "data": {
      "text/html": [
       "<span style=\"color:#e7d6cc\">&lt;li&gt;Develop business acumen and cultivate client relationships&lt;/li&gt;</span>"
      ],
      "text/plain": [
       "<IPython.core.display.HTML object>"
      ]
     },
     "metadata": {},
     "output_type": "display_data"
    },
    {
     "name": "stdout",
     "output_type": "stream",
     "text": [
      "\n",
      "(0, 0.3303511)\n"
     ]
    },
    {
     "data": {
      "text/html": [
       "<span style=\"color:#a8c5fd\">&lt;b&gt;Qualifications, Knowledge, and Skills:&lt;/b&gt;</span>"
      ],
      "text/plain": [
       "<IPython.core.display.HTML object>"
      ]
     },
     "metadata": {},
     "output_type": "display_data"
    },
    {
     "name": "stdout",
     "output_type": "stream",
     "text": [
      "\n",
      "(0, 0.93209666)\n"
     ]
    },
    {
     "data": {
      "text/html": [
       "<span style=\"color:#cc3f39\">&lt;li&gt;Previous experience and understanding of the mortgage banking industry, mortgage servicing rights, and discounted cash flow analysis highly preferred&lt;/li&gt;</span>"
      ],
      "text/plain": [
       "<IPython.core.display.HTML object>"
      ]
     },
     "metadata": {},
     "output_type": "display_data"
    },
    {
     "name": "stdout",
     "output_type": "stream",
     "text": [
      "\n",
      "(0, 0.5938722)\n"
     ]
    },
    {
     "data": {
      "text/html": [
       "<span style=\"color:#f1cbb8\">&lt;li&gt;Extensive exposure to: visualization(Power BI, Qlik, etc), Excel, coding (SQL, R, Python), data management processing, architecture and data mining tools (Alteryx, SQL &amp; Snowflake, etc.), statistical analysis, machine learning and collaboration with a business partner.&lt;/li&gt;</span>"
      ],
      "text/plain": [
       "<IPython.core.display.HTML object>"
      ]
     },
     "metadata": {},
     "output_type": "display_data"
    },
    {
     "name": "stdout",
     "output_type": "stream",
     "text": [
      "\n",
      "(0, 0.14478077)\n"
     ]
    },
    {
     "data": {
      "text/html": [
       "<span style=\"color:#6889ee\">&lt;li&gt;Ability to identify and succinctly summarize roadblocks, constraints, and trade-offs, propose potential solutions, and drive toward resolution&lt;/li&gt;</span>"
      ],
      "text/plain": [
       "<IPython.core.display.HTML object>"
      ]
     },
     "metadata": {},
     "output_type": "display_data"
    },
    {
     "name": "stdout",
     "output_type": "stream",
     "text": [
      "\n",
      "(0, 0.7347082)\n"
     ]
    },
    {
     "data": {
      "text/html": [
       "<span style=\"color:#f59e7f\">&lt;li&gt;Strong attention to detail, critical thinking skills and analytic and problem-solving abilities with overall financial aptitude&lt;/li&gt;</span>"
      ],
      "text/plain": [
       "<IPython.core.display.HTML object>"
      ]
     },
     "metadata": {},
     "output_type": "display_data"
    },
    {
     "name": "stdout",
     "output_type": "stream",
     "text": [
      "\n",
      "(0, 0.11882471)\n"
     ]
    },
    {
     "data": {
      "text/html": [
       "<span style=\"color:#5f7ee7\">&lt;li&gt;Ability to adapt quickly to a changing environment&lt;/li&gt;</span>"
      ],
      "text/plain": [
       "<IPython.core.display.HTML object>"
      ]
     },
     "metadata": {},
     "output_type": "display_data"
    },
    {
     "name": "stdout",
     "output_type": "stream",
     "text": [
      "\n",
      "(0, 0.05821022)\n"
     ]
    },
    {
     "data": {
      "text/html": [
       "<span style=\"color:#4b64d4\">&lt;li&gt;Excellent written and verbal business communication, including the ability to interact with clients directly and concisely summarize details&lt;/li&gt;</span>"
      ],
      "text/plain": [
       "<IPython.core.display.HTML object>"
      ]
     },
     "metadata": {},
     "output_type": "display_data"
    },
    {
     "name": "stdout",
     "output_type": "stream",
     "text": [
      "\n",
      "(0, 0.50000083)\n"
     ]
    },
    {
     "data": {
      "text/html": [
       "<span style=\"color:#dddcdb\">&lt;li&gt;Comfortable with the challenges and opportunities that come with working for a smaller entrepreneurial organization&lt;/li&gt;</span>"
      ],
      "text/plain": [
       "<IPython.core.display.HTML object>"
      ]
     },
     "metadata": {},
     "output_type": "display_data"
    },
    {
     "name": "stdout",
     "output_type": "stream",
     "text": [
      "\n",
      "(0, 0.12629248)\n"
     ]
    },
    {
     "data": {
      "text/html": [
       "<span style=\"color:#6182ea\">&lt;li&gt;Intermediate to senior-level expertise and judgment, coupled with an entrepreneurial, if not start-up mind-set that includes intensity, resourcefulness, as well as a willingness to roll-up one’s sleeves&lt;/li&gt;</span>"
      ],
      "text/plain": [
       "<IPython.core.display.HTML object>"
      ]
     },
     "metadata": {},
     "output_type": "display_data"
    },
    {
     "name": "stdout",
     "output_type": "stream",
     "text": [
      "\n",
      "(0, 0.104768686)\n"
     ]
    },
    {
     "data": {
      "text/html": [
       "<span style=\"color:#5a78e3\">&lt;b&gt;Education&amp; Experience:&lt;/b&gt;</span>"
      ],
      "text/plain": [
       "<IPython.core.display.HTML object>"
      ]
     },
     "metadata": {},
     "output_type": "display_data"
    },
    {
     "name": "stdout",
     "output_type": "stream",
     "text": [
      "\n",
      "(0, 0.86533666)\n"
     ]
    },
    {
     "data": {
      "text/html": [
       "<span style=\"color:#df644f\">&lt;li&gt;5+ years of work experience in data science/analytics, consulting, product, or engineering&lt;/li&gt;</span>"
      ],
      "text/plain": [
       "<IPython.core.display.HTML object>"
      ]
     },
     "metadata": {},
     "output_type": "display_data"
    },
    {
     "name": "stdout",
     "output_type": "stream",
     "text": [
      "\n",
      "(0, 0.95908844)\n"
     ]
    },
    {
     "data": {
      "text/html": [
       "<span style=\"color:#c22d31\">&lt;li&gt;Undergraduate and/or advanced degrees in a quantitative field, Finance, Data Science, Financial Modeling, Accounting, or a related field preferred&lt;/li&gt;</span>"
      ],
      "text/plain": [
       "<IPython.core.display.HTML object>"
      ]
     },
     "metadata": {},
     "output_type": "display_data"
    },
    {
     "name": "stdout",
     "output_type": "stream",
     "text": [
      "\n",
      "(0, 0.64135647)\n"
     ]
    },
    {
     "data": {
      "text/html": [
       "<span style=\"color:#f5bfa5\">&lt;li&gt;Mortgage banking experience, valuation software, etc. a plus but not required&lt;/li&gt;</span>"
      ],
      "text/plain": [
       "<IPython.core.display.HTML object>"
      ]
     },
     "metadata": {},
     "output_type": "display_data"
    },
    {
     "name": "stdout",
     "output_type": "stream",
     "text": [
      "\n",
      "(0, 0.07049455)\n"
     ]
    },
    {
     "data": {
      "text/html": [
       "<span style=\"color:#506bda\">&lt;p&gt;PHOENIX, the premier advisory firm for Trading, Mortgage Services, and Analytics, (in the Mortgage Banking/Financial Services sector) is excited to announce varied career opportunities for talented candidates across all business lines, including within its Sales and Client Management team for immediate hire. After more than two decades of industry leadership, PHOENIX has successfully managed over $800 billion in MSR transactions since 2013 and provided analytic solutions to a majority of the Top 20 banks and mortgage servicers. Diverse business-lines offer high-touch trading advisory and valuations/analytics for mortgage servicing rights and whole loans, in addition to mortgage servicing oversight/QC and loan-level due diligence. Our team members integrate a comprehensive understanding of tailored client objectives, accumulated market intelligence, policy insight, and unwavering customer service to forge deep and durable relationships across the industry. Experience the PHOENIX difference and explore opportunities with us today.&lt;/p&gt;</span>"
      ],
      "text/plain": [
       "<IPython.core.display.HTML object>"
      ]
     },
     "metadata": {},
     "output_type": "display_data"
    },
    {
     "name": "stdout",
     "output_type": "stream",
     "text": [
      "\n",
      "(0, 0.26754203)\n"
     ]
    },
    {
     "data": {
      "text/html": [
       "<span style=\"color:#92b4fe\">&lt;p&gt;Phoenix offers a competitive salary, 401k plan, health, and dental insurance. Please visit us at www.phoenixtma.com.&lt;/p&gt;</span>"
      ],
      "text/plain": [
       "<IPython.core.display.HTML object>"
      ]
     },
     "metadata": {},
     "output_type": "display_data"
    },
    {
     "name": "stdout",
     "output_type": "stream",
     "text": [
      "\n",
      "(0, 0.06952545)\n"
     ]
    },
    {
     "data": {
      "text/html": [
       "<span style=\"color:#4e69d8\">&lt;p&gt;Job Type: Full-time&lt;/p&gt;</span>"
      ],
      "text/plain": [
       "<IPython.core.display.HTML object>"
      ]
     },
     "metadata": {},
     "output_type": "display_data"
    },
    {
     "name": "stdout",
     "output_type": "stream",
     "text": [
      "\n",
      "(0, 0.11007774)\n"
     ]
    },
    {
     "data": {
      "text/html": [
       "<span style=\"color:#5c7be5\">&lt;p&gt;Benefits:&lt;/p&gt;</span>"
      ],
      "text/plain": [
       "<IPython.core.display.HTML object>"
      ]
     },
     "metadata": {},
     "output_type": "display_data"
    },
    {
     "name": "stdout",
     "output_type": "stream",
     "text": [
      "\n",
      "(0, 0.8769853)\n"
     ]
    },
    {
     "data": {
      "text/html": [
       "<span style=\"color:#dc5e4b\">&lt;li&gt;401(k)&lt;/li&gt;</span>"
      ],
      "text/plain": [
       "<IPython.core.display.HTML object>"
      ]
     },
     "metadata": {},
     "output_type": "display_data"
    },
    {
     "name": "stdout",
     "output_type": "stream",
     "text": [
      "\n",
      "(0, 0.873863)\n"
     ]
    },
    {
     "data": {
      "text/html": [
       "<span style=\"color:#dd604c\">&lt;li&gt;Dental insurance&lt;/li&gt;</span>"
      ],
      "text/plain": [
       "<IPython.core.display.HTML object>"
      ]
     },
     "metadata": {},
     "output_type": "display_data"
    },
    {
     "name": "stdout",
     "output_type": "stream",
     "text": [
      "\n",
      "(0, 0.8735215)\n"
     ]
    },
    {
     "data": {
      "text/html": [
       "<span style=\"color:#dd604c\">&lt;li&gt;Health insurance&lt;/li&gt;</span>"
      ],
      "text/plain": [
       "<IPython.core.display.HTML object>"
      ]
     },
     "metadata": {},
     "output_type": "display_data"
    },
    {
     "name": "stdout",
     "output_type": "stream",
     "text": [
      "\n",
      "(0, 0.77016497)\n"
     ]
    },
    {
     "data": {
      "text/html": [
       "<span style=\"color:#f19072\">&lt;li&gt;Paid time off&lt;/li&gt;</span>"
      ],
      "text/plain": [
       "<IPython.core.display.HTML object>"
      ]
     },
     "metadata": {},
     "output_type": "display_data"
    },
    {
     "name": "stdout",
     "output_type": "stream",
     "text": [
      "\n",
      "(0, 0.86163133)\n"
     ]
    },
    {
     "data": {
      "text/html": [
       "<span style=\"color:#e06650\">&lt;li&gt;Vision insurance&lt;/li&gt;</span>"
      ],
      "text/plain": [
       "<IPython.core.display.HTML object>"
      ]
     },
     "metadata": {},
     "output_type": "display_data"
    },
    {
     "name": "stdout",
     "output_type": "stream",
     "text": [
      "\n",
      "(0, 0.110989146)\n"
     ]
    },
    {
     "data": {
      "text/html": [
       "<span style=\"color:#5c7be5\">&lt;p&gt;Schedule:&lt;/p&gt;</span>"
      ],
      "text/plain": [
       "<IPython.core.display.HTML object>"
      ]
     },
     "metadata": {},
     "output_type": "display_data"
    },
    {
     "name": "stdout",
     "output_type": "stream",
     "text": [
      "\n",
      "(0, 0.13475405)\n"
     ]
    },
    {
     "data": {
      "text/html": [
       "<span style=\"color:#6485eb\">&lt;li&gt;Monday to Friday&lt;/li&gt;</span>"
      ],
      "text/plain": [
       "<IPython.core.display.HTML object>"
      ]
     },
     "metadata": {},
     "output_type": "display_data"
    },
    {
     "name": "stdout",
     "output_type": "stream",
     "text": [
      "\n",
      "(0, 0.10301534)\n"
     ]
    },
    {
     "data": {
      "text/html": [
       "<span style=\"color:#5a78e3\">&lt;p&gt;Work Location:&lt;/p&gt;</span>"
      ],
      "text/plain": [
       "<IPython.core.display.HTML object>"
      ]
     },
     "metadata": {},
     "output_type": "display_data"
    },
    {
     "name": "stdout",
     "output_type": "stream",
     "text": [
      "\n",
      "(0, 0.8014294)\n"
     ]
    },
    {
     "data": {
      "text/html": [
       "<span style=\"color:#ec8266\">&lt;li&gt;One location&lt;/li&gt;</span>"
      ],
      "text/plain": [
       "<IPython.core.display.HTML object>"
      ]
     },
     "metadata": {},
     "output_type": "display_data"
    },
    {
     "name": "stdout",
     "output_type": "stream",
     "text": [
      "\n",
      "(0, 0.09107045)\n"
     ]
    },
    {
     "data": {
      "text/html": [
       "<span style=\"color:#5673e0\">&lt;p&gt;Work Remotely:&lt;/p&gt;</span>"
      ],
      "text/plain": [
       "<IPython.core.display.HTML object>"
      ]
     },
     "metadata": {},
     "output_type": "display_data"
    },
    {
     "name": "stdout",
     "output_type": "stream",
     "text": [
      "\n",
      "(0, 0.6081893)\n"
     ]
    },
    {
     "data": {
      "text/html": [
       "<span style=\"color:#f2c8b3\">&lt;li&gt;Yes, temporarily due to COVID-19&lt;/li&gt;</span>"
      ],
      "text/plain": [
       "<IPython.core.display.HTML object>"
      ]
     },
     "metadata": {},
     "output_type": "display_data"
    }
   ],
   "source": [
    "\n",
    "for child_str in child_strs_list:\n",
    "    print()\n",
    "    y_predict_proba = predict_percent_fit([child_str])[0]\n",
    "    if(CLF_NAME == 'LdaModel'):\n",
    "        print(y_predict_proba)\n",
    "        X = y_predict_proba[1]\n",
    "    else:\n",
    "        print(y_predict_proba[0])\n",
    "        X = y_predict_proba[0][1]\n",
    "    display(HTML(html2text(child_str, X)))"
   ]
  },
  {
   "cell_type": "code",
   "execution_count": 211,
   "metadata": {},
   "outputs": [
    {
     "data": {
      "text/html": [
       "<div>\n",
       "<style scoped>\n",
       "    .dataframe tbody tr th:only-of-type {\n",
       "        vertical-align: middle;\n",
       "    }\n",
       "\n",
       "    .dataframe tbody tr th {\n",
       "        vertical-align: top;\n",
       "    }\n",
       "\n",
       "    .dataframe thead th {\n",
       "        text-align: right;\n",
       "    }\n",
       "</style>\n",
       "<table border=\"1\" class=\"dataframe\">\n",
       "  <thead>\n",
       "    <tr style=\"text-align: right;\">\n",
       "      <th></th>\n",
       "      <th>idf_weights</th>\n",
       "    </tr>\n",
       "  </thead>\n",
       "  <tbody>\n",
       "    <tr>\n",
       "      <th>&lt;/li</th>\n",
       "      <td>2.036919</td>\n",
       "    </tr>\n",
       "    <tr>\n",
       "      <th>&lt;li</th>\n",
       "      <td>2.036919</td>\n",
       "    </tr>\n",
       "    <tr>\n",
       "      <th>and</th>\n",
       "      <td>2.076139</td>\n",
       "    </tr>\n",
       "    <tr>\n",
       "      <th>.</th>\n",
       "      <td>2.159521</td>\n",
       "    </tr>\n",
       "    <tr>\n",
       "      <th>to</th>\n",
       "      <td>2.188935</td>\n",
       "    </tr>\n",
       "    <tr>\n",
       "      <th>...</th>\n",
       "      <td>...</td>\n",
       "    </tr>\n",
       "    <tr>\n",
       "      <th>areas including pricing models</th>\n",
       "      <td>5.700480</td>\n",
       "    </tr>\n",
       "    <tr>\n",
       "      <th>areas including pricing models and</th>\n",
       "      <td>5.700480</td>\n",
       "    </tr>\n",
       "    <tr>\n",
       "      <th>around one</th>\n",
       "      <td>5.700480</td>\n",
       "    </tr>\n",
       "    <tr>\n",
       "      <th>around one giant objective</th>\n",
       "      <td>5.700480</td>\n",
       "    </tr>\n",
       "    <tr>\n",
       "      <th>your team to achieve strong</th>\n",
       "      <td>5.700480</td>\n",
       "    </tr>\n",
       "  </tbody>\n",
       "</table>\n",
       "<p>11973 rows × 1 columns</p>\n",
       "</div>"
      ],
      "text/plain": [
       "                                    idf_weights\n",
       "</li                                   2.036919\n",
       "<li                                    2.036919\n",
       "and                                    2.076139\n",
       ".                                      2.159521\n",
       "to                                     2.188935\n",
       "...                                         ...\n",
       "areas including pricing models         5.700480\n",
       "areas including pricing models and     5.700480\n",
       "around one                             5.700480\n",
       "around one giant objective             5.700480\n",
       "your team to achieve strong            5.700480\n",
       "\n",
       "[11973 rows x 1 columns]"
      ]
     },
     "execution_count": 211,
     "metadata": {},
     "output_type": "execute_result"
    }
   ],
   "source": [
    "\n",
    "# The lower the IDF value of a word, the less unique it is to any particular HTML string\n",
    "pd.DataFrame(CS_TT.idf_, index=cv.get_feature_names(), columns=['idf_weights']).sort_values(by=['idf_weights'])"
   ]
  },
  {
   "cell_type": "code",
   "execution_count": 292,
   "metadata": {},
   "outputs": [
    {
     "data": {
      "text/plain": [
       "205"
      ]
     },
     "execution_count": 292,
     "metadata": {},
     "output_type": "execute_result"
    }
   ],
   "source": [
    "\n",
    "sents_list.index([i for i in sents_list if '<h2 class' in i][0])"
   ]
  },
  {
   "cell_type": "code",
   "execution_count": 293,
   "metadata": {},
   "outputs": [
    {
     "name": "stdout",
     "output_type": "stream",
     "text": [
      "<h2 class=\"jobsearch-JobDescriptionSection-jobDescriptionTitle icl-u-xs-my--md\" id=\"jobDescriptionTitle\">Full Job Description</h2>\n",
      "(0, 0.031491794)\n"
     ]
    },
    {
     "data": {
      "text/html": [
       "<div>\n",
       "<style scoped>\n",
       "    .dataframe tbody tr th:only-of-type {\n",
       "        vertical-align: middle;\n",
       "    }\n",
       "\n",
       "    .dataframe tbody tr th {\n",
       "        vertical-align: top;\n",
       "    }\n",
       "\n",
       "    .dataframe thead th {\n",
       "        text-align: right;\n",
       "    }\n",
       "</style>\n",
       "<table border=\"1\" class=\"dataframe\">\n",
       "  <thead>\n",
       "    <tr style=\"text-align: right;\">\n",
       "      <th></th>\n",
       "      <th>tfidf</th>\n",
       "    </tr>\n",
       "  </thead>\n",
       "  <tbody>\n",
       "    <tr>\n",
       "      <th>jobDescriptionTitle</th>\n",
       "      <td>0.028687</td>\n",
       "    </tr>\n",
       "    <tr>\n",
       "      <th>&lt;/h2</th>\n",
       "      <td>0.014344</td>\n",
       "    </tr>\n",
       "    <tr>\n",
       "      <th>jobsearch</th>\n",
       "      <td>0.014344</td>\n",
       "    </tr>\n",
       "    <tr>\n",
       "      <th>md id</th>\n",
       "      <td>0.014344</td>\n",
       "    </tr>\n",
       "    <tr>\n",
       "      <th>md</th>\n",
       "      <td>0.014344</td>\n",
       "    </tr>\n",
       "    <tr>\n",
       "      <th>...</th>\n",
       "      <td>...</td>\n",
       "    </tr>\n",
       "    <tr>\n",
       "      <th>class jobsearch JobDescriptionSection</th>\n",
       "      <td>0.014344</td>\n",
       "    </tr>\n",
       "    <tr>\n",
       "      <th>class jobsearch</th>\n",
       "      <td>0.014344</td>\n",
       "    </tr>\n",
       "    <tr>\n",
       "      <th>xs my md id jobDescriptionTitle</th>\n",
       "      <td>0.014344</td>\n",
       "    </tr>\n",
       "    <tr>\n",
       "      <th>Job</th>\n",
       "      <td>0.012599</td>\n",
       "    </tr>\n",
       "    <tr>\n",
       "      <th>Full</th>\n",
       "      <td>0.012038</td>\n",
       "    </tr>\n",
       "  </tbody>\n",
       "</table>\n",
       "<p>69 rows × 1 columns</p>\n",
       "</div>"
      ],
      "text/plain": [
       "                                          tfidf\n",
       "jobDescriptionTitle                    0.028687\n",
       "</h2                                   0.014344\n",
       "jobsearch                              0.014344\n",
       "md id                                  0.014344\n",
       "md                                     0.014344\n",
       "...                                         ...\n",
       "class jobsearch JobDescriptionSection  0.014344\n",
       "class jobsearch                        0.014344\n",
       "xs my md id jobDescriptionTitle        0.014344\n",
       "Job                                    0.012599\n",
       "Full                                   0.012038\n",
       "\n",
       "[69 rows x 1 columns]"
      ]
     },
     "execution_count": 293,
     "metadata": {},
     "output_type": "execute_result"
    }
   ],
   "source": [
    "\n",
    "# The more common the ngram is across documents, the lower its score (zero for ngrams missing in the chosen HTML string)\n",
    "# The more unique an ngram is to our chosen HTML string, the higher its score\n",
    "idx = 205\n",
    "child_str = sents_list[idx]\n",
    "print(child_str)\n",
    "y_predict_proba = predict_percent_fit([child_str])\n",
    "print(y_predict_proba[0])\n",
    "df = pd.DataFrame(CS_TT.transform(cv.transform(sents_list))[idx].T.todense(), index=cv.get_feature_names(), columns=['tfidf'])\n",
    "mask_series = (df.tfidf > 0.0)\n",
    "df[mask_series].sort_values('tfidf', ascending=False)"
   ]
  },
  {
   "cell_type": "code",
   "execution_count": null,
   "metadata": {},
   "outputs": [],
   "source": [
    "\n",
    "ZMQInteractiveShell_obj.set_next_input(text=get_dictionary_code(), replace=True)"
   ]
  },
  {
   "cell_type": "code",
   "execution_count": 126,
   "metadata": {},
   "outputs": [
    {
     "data": {
      "text/plain": [
       "[('. </div', 4.78), ('<b Careers with Optum .', 5.7), ('beginning employment . </i', 5.7), ('based on your experience </p', 5.7), ('<i We are committed to', 5.7), ('<li Retirement plan', 5.7), ('<b A candidate must', 5.7), ('Flexible schedule </li', 5.7), ('Takes to Succeed : </b', 5.7), ('non technical audiences alike </li', 5.7), ('<li Doctorate Required', 5.7), ('<p Work Location : </p', 5.7), ('audiences alike </li', 5.7), ('<p Benefits :', 5.7), ('<h2', 5.7), ('401 k </li', 5.7), ('inclusion </p', 5.7), ('the role for you </p', 5.7), ('Virtual meetings </li', 5.7), ('<i Were proud to be', 5.7)]"
      ]
     },
     "execution_count": 126,
     "metadata": {},
     "output_type": "execute_result"
    }
   ],
   "source": [
    "\n",
    "sample_list = []\n",
    "assert s.pickle_exists('cs_cv_vocab')\n",
    "cs_cv_vocab = s.load_object('cs_cv_vocab')\n",
    "sample_list = random.sample([(w, i) for w, i in cs_cv_vocab.items() if '<' in w], 20)\n",
    "sorted([(w, round(CS_TT.idf_[i], 2)) for w, i in sample_list], key=lambda x: x[1], reverse=False)"
   ]
  },
  {
   "cell_type": "code",
   "execution_count": 168,
   "metadata": {},
   "outputs": [
    {
     "data": {
      "text/plain": [
       "['analyzer', 'binary', 'build_analyzer', 'build_preprocessor', 'build_tokenizer', 'decode', 'decode_error', 'dtype', 'encoding', 'fit', 'fit_transform', 'fixed_vocabulary_', 'get_feature_names', 'get_params', 'get_stop_words', 'input', 'inverse_transform', 'lowercase', 'max_df', 'max_features', 'min_df', 'ngram_range', 'preprocessor', 'set_params', 'stop_words', 'stop_words_', 'strip_accents', 'token_pattern', 'tokenizer', 'transform', 'vocabulary', 'vocabulary_']"
      ]
     },
     "execution_count": 168,
     "metadata": {},
     "output_type": "execute_result"
    }
   ],
   "source": [
    "\n",
    "[fn for fn in dir(cv) if not fn.startswith('_')]"
   ]
  },
  {
   "cell_type": "code",
   "execution_count": 87,
   "metadata": {},
   "outputs": [
    {
     "data": {
      "text/plain": [
       "['capability for', 'Come In', 'You', 'example', 'Experience', '80', 'language', 'learning to', 'and the', 'safe and', 'graduate', 'Schedule :', 'Yelp', 'Bachelor s', 'experience </li', 'Supplemental Pay', 'automate', 'work', 'persistence', 'full time']"
      ]
     },
     "execution_count": 87,
     "metadata": {},
     "output_type": "execute_result"
    }
   ],
   "source": [
    "\n",
    "random.sample([w for w in cv.get_feature_names()], 20)"
   ]
  },
  {
   "cell_type": "markdown",
   "metadata": {},
   "source": [
    "\n",
    "----"
   ]
  },
  {
   "cell_type": "code",
   "execution_count": 6,
   "metadata": {},
   "outputs": [],
   "source": [
    "\n",
    "if len(child_strs_list):\n",
    "    df = pd.DataFrame(child_strs_list, columns=['navigable_parent'])\n",
    "    df['is_header'] = False\n",
    "    id_list = []\n",
    "    df.loc[id_list, 'is_header'] = True\n",
    "    df.tail(60)"
   ]
  },
  {
   "cell_type": "code",
   "execution_count": 7,
   "metadata": {},
   "outputs": [
    {
     "name": "stdout",
     "output_type": "stream",
     "text": [
      "name 'df' is not defined\n"
     ]
    }
   ],
   "source": [
    "\n",
    "try:\n",
    "    for row_index, row_series in df.iterrows():\n",
    "        navigable_parent = row_series.navigable_parent\n",
    "        is_header = row_series.is_header\n",
    "        BASIC_TAGS_DICT[navigable_parent] = is_header\n",
    "    s.store_objects(BASIC_TAGS_DICT=BASIC_TAGS_DICT)\n",
    "    rows_list = [{'navigable_parent': navigable_parent, 'is_header': is_header} for navigable_parent, is_header in BASIC_TAGS_DICT.items()]\n",
    "    child_str_df = pd.DataFrame(rows_list)\n",
    "    s.store_objects(child_str_df=child_str_df)\n",
    "except Exception as e:\n",
    "    print(str(e).strip())"
   ]
  },
  {
   "cell_type": "markdown",
   "metadata": {},
   "source": [
    "\n",
    "----"
   ]
  },
  {
   "cell_type": "code",
   "execution_count": 14,
   "metadata": {},
   "outputs": [
    {
     "name": "stdout",
     "output_type": "stream",
     "text": [
      "Pickling to C:\\Users\\dev\\Documents\\Repositories\\job-hunting\\saves\\pickle\\child_str_df.pickle\n"
     ]
    }
   ],
   "source": [
    "\n",
    "try:\n",
    "    BASIC_TAGS_DICT = s.load_object('BASIC_TAGS_DICT')\n",
    "    rows_list = [{'navigable_parent': navigable_parent, 'is_header': is_header} for navigable_parent, is_header in BASIC_TAGS_DICT.items()]\n",
    "    child_str_df = pd.DataFrame(rows_list)\n",
    "    s.store_objects(child_str_df=child_str_df)\n",
    "except:\n",
    "    child_str_df = s.load_object('child_str_df')\n",
    "    try:\n",
    "        child_str_df = pd.concat([child_str_df, df])\n",
    "    except:\n",
    "        pass\n",
    "    BASIC_TAGS_DICT = child_str_df.set_index('navigable_parent').to_dict()['is_header']\n",
    "    s.store_objects(BASIC_TAGS_DICT=BASIC_TAGS_DICT)"
   ]
  },
  {
   "cell_type": "markdown",
   "metadata": {},
   "source": [
    "\n",
    "----\n",
    "# Download Job HTML"
   ]
  },
  {
   "cell_type": "code",
   "execution_count": 9,
   "metadata": {},
   "outputs": [],
   "source": [
    "\n",
    "%run ../load_magic/storage.py\n",
    "s = Storage()\n",
    "base_url = 'https://www.indeed.com'\n",
    "site_url = base_url + '/jobs'\n",
    "site_url = '?'.join([site_url, 'q=data+scientist'])\n",
    "site_url = '&'.join([site_url, 'jt=fulltime'])\n",
    "site_url = '&'.join([site_url, 'remotejob=032b3046-06a3-4876-8dfd-474eb5e7ed11'])\n",
    "site_url = '&'.join([site_url, 'vjk=ca16b63c03e40c57'])\n",
    "#site_url = '&'.join([site_url, 'pp=gQAPAAABdY7RMKwAAAABkQdgZAAkAQBEKPpaoZstIag3f-UtQXXG_HFSo1gfBp9OQ0B0TvZ4yMp4AAA'])\n",
    "start_num = 0\n",
    "assert s.pickle_exists('job_urls_list')\n",
    "job_urls_list = s.load_object('job_urls_list')\n",
    "\n",
    "space_regex = re.compile(r'[\\s<>:\"/\\\\\\|\\?\\*_]+')\n",
    "print_regex = re.compile(r'[\\x9c-\\x9d\\uf0b7\\u200b\\ufb02]+')\n",
    "s.encoding_type = ['latin1', 'iso8859-1', 'utf-8'][2]"
   ]
  },
  {
   "cell_type": "code",
   "execution_count": 21,
   "metadata": {},
   "outputs": [
    {
     "name": "stdout",
     "output_type": "stream",
     "text": [
      "Complete.\n"
     ]
    }
   ],
   "source": [
    "\n",
    "fccid_htmls_list = [fn.split('_')[-1] for fn in os.listdir(SAVES_HTML_FOLDER)]\n",
    "row_count = len(job_urls_list)\n",
    "for i, job_url in enumerate(job_urls_list):\n",
    "    qs = urlparse(job_url).query\n",
    "    query_dict = parse_qs(qs)\n",
    "    fccid_str = query_dict['fccid'][0]\n",
    "    file_name = f'{fccid_str}.html'\n",
    "    if file_name not in fccid_htmls_list:\n",
    "        job_page = requests.get(url=job_url)\n",
    "        job_soup = BeautifulSoup(job_page.content, 'lxml')\n",
    "        if not len(job_soup.text):\n",
    "            break\n",
    "        title_str = job_soup.find_all(name='title')[0].text.strip()\n",
    "        clear_output(wait=True)\n",
    "        print(f'{title_str}')\n",
    "        print(f'{i}/{row_count}: {job_url}')\n",
    "        if 'CAPTCHA' in title_str:\n",
    "            break\n",
    "        file_name = space_regex.sub('_', title_str)\n",
    "        file_name = f'{file_name}_{fccid_str}.html'\n",
    "        file_path = os.path.join(SAVES_HTML_FOLDER, file_name)\n",
    "        body_soup = job_soup.find_all(name='body')[0]\n",
    "        html_str = '<html><head><title>' + title_str + '</title></head><body>'\n",
    "        with open(file_path, 'w', encoding='utf-8') as f:\n",
    "            print(html_str, file=f)\n",
    "            for div_tag in body_soup.find_all(name='div', class_='jobsearch-JobComponent-description'):\n",
    "                for s in div_tag.select('template'):\n",
    "                    s.extract()\n",
    "                for s in div_tag.select('script'):\n",
    "                    s.extract()\n",
    "                div_str = div_tag.prettify(formatter='html')\n",
    "                div_str = print_regex.sub('', div_str)\n",
    "                print(div_str, file=f)\n",
    "            print('</body></html>', file=f)\n",
    "print('Complete.')"
   ]
  },
  {
   "cell_type": "code",
   "execution_count": 6,
   "metadata": {},
   "outputs": [],
   "source": [
    "\n",
    "while start_num < 3000:\n",
    "    page_url = '&'.join([site_url, f'start={start_num}'])\n",
    "    start_num += 10\n",
    "    site_page = requests.get(url=page_url)\n",
    "    page_soup = BeautifulSoup(site_page.content, 'lxml')\n",
    "    row_div_list = page_soup.find_all(name='div', class_=['row', 'result'])\n",
    "    row_count = len(row_div_list)\n",
    "    if row_count == 0:\n",
    "        print('Nothing left')\n",
    "        break\n",
    "    for i, row_div in enumerate(row_div_list):\n",
    "        link = row_div.find_all(name='a')[0]\n",
    "        if 'title' in link.attrs:\n",
    "            if 'href' in link.attrs:\n",
    "                job_url = base_url + link['href']\n",
    "                qs = urlparse(job_url).query\n",
    "                query_dict = parse_qs(qs)\n",
    "                if 'fccid' in query_dict:\n",
    "                    job_urls_list.append(job_url)\n",
    "                    s.store_objects(verbose=False, job_urls_list=job_urls_list)\n",
    "                    clear_output(wait=True)\n",
    "                    print(f'{page_url}')\n",
    "                    print(f'{i}/{row_count}: {job_url}')"
   ]
  },
  {
   "cell_type": "code",
   "execution_count": 22,
   "metadata": {},
   "outputs": [
    {
     "data": {
      "text/plain": [
       "273"
      ]
     },
     "execution_count": 22,
     "metadata": {},
     "output_type": "execute_result"
    }
   ],
   "source": [
    "\n",
    "fccid_htmls_list = [fn.split('_')[-1] for fn in os.listdir(SAVES_HTML_FOLDER)]\n",
    "len(fccid_htmls_list)"
   ]
  },
  {
   "cell_type": "markdown",
   "metadata": {},
   "source": [
    "\n",
    "----"
   ]
  },
  {
   "cell_type": "code",
   "execution_count": 2,
   "metadata": {},
   "outputs": [],
   "source": [
    "\n",
    "import os\n",
    "\n",
    "from selenium import webdriver\n",
    "from base64 import b64encode\n",
    "from selenium.webdriver.common.keys import Keys\n",
    "from selenium.common.exceptions import NoSuchElementException\n",
    "import selenium.webdriver.support.ui as ui"
   ]
  },
  {
   "cell_type": "code",
   "execution_count": 4,
   "metadata": {},
   "outputs": [],
   "source": [
    "\n",
    "# Retrieve the page with tag results and set it up to be scraped\n",
    "sitePage = requests.get(url=site_url)\n",
    "sitePageSoup = BeautifulSoup(sitePage.content, 'lxml')"
   ]
  },
  {
   "cell_type": "code",
   "execution_count": 6,
   "metadata": {},
   "outputs": [],
   "source": [
    "\n",
    "row_div_list = sitePageSoup.find_all(name='div', class_=['row', 'result'])\n",
    "reqs_regex = re.compile('ducat|xperience|equire')\n",
    "html_regex = re.compile('<[^>]+>')"
   ]
  },
  {
   "cell_type": "code",
   "execution_count": null,
   "metadata": {},
   "outputs": [],
   "source": [
    "\n",
    "text_list = ['What we are looking for', 'Key skills and Experience', 'Minimum qualifications', 'The Essentials', 'Qualifications',\n",
    "             'Skills and experience', 'Required Qualifications', 'What your background looks like', \"We(?:&rsquo;|')re looking for \\w+ who have\",\n",
    "             'Experience/Minimum Qualifications', 'Requirements', 'We are looking for someone with', 'Qualifications']\n",
    "reqs_regex = re.compile(f'^\\\\s*({'|'.join(text_list)}):?\\\\s*$', re.IGNORECASE | re.MULTILINE)\n",
    "for match_obj in reqs_regex.finditer(text_str):\n",
    "    # match start: match_obj.start()\n",
    "    # match end (exclusive): match_obj.end()\n",
    "    # matched text: match_obj.group()"
   ]
  },
  {
   "cell_type": "code",
   "execution_count": 533,
   "metadata": {},
   "outputs": [
    {
     "name": "stdout",
     "output_type": "stream",
     "text": [
      "C:\\Users\\dev\\Anaconda3\\envs\\jh\\python.exe -m pip install --upgrade html2text\n",
      "Collecting html2text"
     ]
    },
    {
     "name": "stderr",
     "output_type": "stream",
     "text": [
      "  WARNING: The script html2text.exe is installed in 'C:\\Users\\dev\\Anaconda3\\envs\\jh\\Scripts' which is not on PATH.\n",
      "  Consider adding this directory to PATH or, if you prefer to suppress this warning, use --no-warn-script-location.\n"
     ]
    },
    {
     "name": "stdout",
     "output_type": "stream",
     "text": [
      "\n",
      "  Using cached html2text-2020.1.16-py3-none-any.whl (32 kB)\n",
      "Installing collected packages: html2text\n",
      "Successfully installed html2text-2020.1.16\n"
     ]
    }
   ],
   "source": [
    "\n",
    "import sys\n",
    "\n",
    "command_str = f'{sys.executable} -m pip install --upgrade html2text'\n",
    "print(command_str)\n",
    "!{command_str}"
   ]
  },
  {
   "cell_type": "code",
   "execution_count": null,
   "metadata": {},
   "outputs": [],
   "source": []
  }
 ],
 "metadata": {
  "anaconda-cloud": {},
  "kernelspec": {
   "display_name": "Job Hunting (Python 3.9.0)",
   "language": "python",
   "name": "jh"
  },
  "language_info": {
   "codemirror_mode": {
    "name": "ipython",
    "version": 3
   },
   "file_extension": ".py",
   "mimetype": "text/x-python",
   "name": "python",
   "nbconvert_exporter": "python",
   "pygments_lexer": "ipython3",
   "version": "3.9.0"
  }
 },
 "nbformat": 4,
 "nbformat_minor": 4
}
