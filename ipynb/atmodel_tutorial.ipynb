{
 "cells": [
  {
   "cell_type": "markdown",
   "metadata": {},
   "source": [
    "# The author-topic model: LDA with metadata\n",
    "\n",
    "In this tutorial, you will learn how to use the author-topic model in Gensim. We will apply it to a corpus consisting of scientific papers, to get insight about the authors of the papers.\n",
    "\n",
    "The author-topic model is an extension of Latent Dirichlet Allocation (LDA), that allows us to learn topic representations of authors in a corpus. The model can be applied to any kinds of labels on documents, such as tags on posts on the web. The model can be used as a novel way of data exploration, as features in machine learning pipelines, for author (or tag) prediction, or to simply leverage your topic model with existing metadata.\n",
    "\n",
    "To learn about the theoretical side of the author-topic model, see [Rosen-Zvi and co-authors 2004](https://mimno.infosci.cornell.edu/info6150/readings/398.pdf), for example. A report on the algorithm used in the Gensim implementation will be available soon.\n",
    "\n",
    "Naturally, familiarity with topic modelling, LDA and Gensim is assumed in this tutorial. If you are not familiar with either LDA, or its Gensim implementation, I would recommend starting there. Consider some of these resources:\n",
    "* Gentle introduction to the LDA model: http://blog.echen.me/2011/08/22/introduction-to-latent-dirichlet-allocation/\n",
    "* Gensim's LDA API documentation: https://radimrehurek.com/gensim/models/ldamodel.html\n",
    "* Topic modelling in Gensim: http://radimrehurek.com/topic_modeling_tutorial/2%20-%20Topic%20Modeling.html\n",
    "* [Pre-processing and training LDA](lda_training_tips.ipynb)\n",
    "\n",
    "\n",
    "> **NOTE:**\n",
    ">\n",
    "> To run this tutorial on your own, install Jupyter, Gensim, SpaCy, Scikit-Learn, Bokeh and Pandas, e.g. using pip:\n",
    ">\n",
    "> `pip install jupyter gensim spacy sklearn bokeh pandas`\n",
    ">\n",
    "> Note that you need to download some data for SpaCy using `python -m spacy.en.download`.\n",
    ">\n",
    "> Download the notebook at https://github.com/RaRe-Technologies/gensim/tree/develop/docs/notebooks/atmodel_tutorial.ipynb.\n",
    "\n",
    "In this tutorial, we will learn how to prepare data for the model, how to train it, and how to explore the resulting representation in different ways. We will inspect the topic representation of some well known authors like Geoffrey Hinton and Yann LeCun, and compare authors by plotting them in reduced dimensionality and performing similarity queries.\n",
    "\n",
    "## Analyzing scientific papers\n",
    "\n",
    "The data we will be using consists of scientific papers about machine learning, from the Neural Information Processing Systems conference (NIPS). It is the same dataset used in the [Pre-processing and training LDA](lda_training_tips.ipynb) tutorial, mentioned earlier.\n",
    "\n",
    "We will be performing qualitative analysis of the model, and at times this will require an understanding of the subject matter of the data. If you try running this tutorial on your own, consider applying it on a dataset with subject matter that you are familiar with. For example, try one of the [StackExchange datadump datasets](https://archive.org/details/stackexchange).\n",
    "\n",
    "You can download the data from Sam Roweis' website (http://www.cs.nyu.edu/~roweis/data.html). Or just run the cell below, and it will be downloaded and extracted into your `tmp."
   ]
  },
  {
   "cell_type": "code",
   "execution_count": 7,
   "metadata": {},
   "outputs": [
    {
     "name": "stdout",
     "output_type": "stream",
     "text": [
      "100% [........................................................................] 12851423 / 12851423"
     ]
    },
    {
     "data": {
      "text/plain": [
       "'../data/tgz/nips12raw_str602 (1).tgz'"
      ]
     },
     "execution_count": 7,
     "metadata": {},
     "output_type": "execute_result"
    }
   ],
   "source": [
    "\n",
    "import wget\n",
    "\n",
    "url = 'http://www.cs.nyu.edu/~roweis/data/nips12raw_str602.tgz'\n",
    "file_path = '../data/tgz/nips12raw_str602.tgz'\n",
    "wget.download(url, out=file_path)"
   ]
  },
  {
   "cell_type": "code",
   "execution_count": 8,
   "metadata": {},
   "outputs": [],
   "source": [
    "\n",
    "import tarfile\n",
    "\n",
    "tar = tarfile.open(file_path, 'r:gz')\n",
    "for item in tar:\n",
    "    tar.extract(item, path='../data')"
   ]
  },
  {
   "cell_type": "markdown",
   "metadata": {},
   "source": [
    "In the following sections we will load the data, pre-process it, train the model, and explore the results using some of the implementation's functionality. Feel free to skip the loading and pre-processing for now, if you are familiar with the process.\n",
    "\n",
    "### Loading the data\n",
    "\n",
    "In the cell below, we crawl the folders and files in the dataset, and read the files into memory."
   ]
  },
  {
   "cell_type": "code",
   "execution_count": 1,
   "metadata": {},
   "outputs": [],
   "source": [
    "\n",
    "import os, re\n",
    "from smart_open import smart_open\n",
    "import locale\n",
    "\n",
    "# Folder containing all NIPS papers.\n",
    "data_dir = '../data/nipstxt/'  # Set this path to the data on your machine.\n",
    "\n",
    "# Folders containin individual NIPS papers.\n",
    "yrs = ['00', '01', '02', '03', '04', '05', '06', '07', '08', '09', '10', '11', '12']\n",
    "dirs = ['nips' + yr for yr in yrs]\n",
    "\n",
    "# Get all document texts and their corresponding IDs.\n",
    "docs = []\n",
    "doc_ids = []\n",
    "for yr_dir in dirs:\n",
    "    \n",
    "    # List of filenames\n",
    "    files = os.listdir(data_dir + yr_dir)\n",
    "    \n",
    "    for filen in files:\n",
    "        # Get document ID\n",
    "        \n",
    "        # Matches the indexes of the start end end of the ID\n",
    "        (idx1, idx2) = re.search('[0-9]+', filen).span()\n",
    "        doc_ids.append(yr_dir[4:] + '_' + str(int(filen[idx1:idx2])))\n",
    "        \n",
    "        # Read document text\n",
    "        # Note: ignoring characters that cause encoding errors\n",
    "        with smart_open(data_dir + yr_dir + '/' + filen, mode='rb',\n",
    "                        encoding=locale.getpreferredencoding()) as fid:\n",
    "            txt = fid.read()\n",
    "            \n",
    "        # Replace any whitespace (newline, tabs, etc.) by a single space\n",
    "        txt = re.sub('\\s', ' ', txt)\n",
    "        \n",
    "        docs.append(txt)"
   ]
  },
  {
   "cell_type": "markdown",
   "metadata": {},
   "source": [
    "Construct a mapping from author names to document IDs."
   ]
  },
  {
   "cell_type": "code",
   "execution_count": 2,
   "metadata": {},
   "outputs": [],
   "source": [
    "\n",
    "filenames = [data_dir + 'idx/a' + yr + '.txt' for yr in yrs]  # Using the years defined in previous cell.\n",
    "\n",
    "# Get all author names and their corresponding document IDs.\n",
    "author2doc = dict()\n",
    "i = 0\n",
    "for yr in yrs:\n",
    "    # The files \"a00.txt\" and so on contain the author-document mappings.\n",
    "    filename = data_dir + 'idx/a' + yr + '.txt'\n",
    "    for line in smart_open(filename, errors='ignore', mode='rb',\n",
    "                           encoding=locale.getpreferredencoding()):\n",
    "        # Each line corresponds to one author.\n",
    "        contents = re.split(',', line)\n",
    "        author_name = (contents[1] + contents[0]).strip()\n",
    "        # Remove any whitespace to reduce redundant author names.\n",
    "        author_name = re.sub('\\s', '', author_name)\n",
    "        # Get document IDs for author.\n",
    "        ids = [c.strip() for c in contents[2:]]\n",
    "        if not author2doc.get(author_name):\n",
    "            # This is a new author.\n",
    "            author2doc[author_name] = []\n",
    "            i += 1\n",
    "        \n",
    "        # Add document IDs to author.\n",
    "        author2doc[author_name].extend([yr + '_' + id for id in ids])\n",
    "\n",
    "# Use an integer ID in author2doc, instead of the IDs provided in the NIPS dataset.\n",
    "# Mapping from ID of document in NIPS datast, to an integer ID.\n",
    "doc_id_dict = dict(zip(doc_ids, range(len(doc_ids))))\n",
    "# Replace NIPS IDs by integer IDs.\n",
    "for a, a_doc_ids in author2doc.items():\n",
    "    for i, doc_id in enumerate(a_doc_ids):\n",
    "        author2doc[a][i] = doc_id_dict[doc_id]"
   ]
  },
  {
   "cell_type": "markdown",
   "metadata": {},
   "source": [
    "### Pre-processing text\n",
    "\n",
    "The text will be pre-processed using the following steps:\n",
    "* Tokenize text.\n",
    "* Replace all whitespace by single spaces.\n",
    "* Remove all punctuation and numbers.\n",
    "* Remove stopwords.\n",
    "* Lemmatize words.\n",
    "* Add multi-word named entities.\n",
    "* Add frequent bigrams.\n",
    "* Remove frequent and rare words.\n",
    "\n",
    "A lot of the heavy lifting will be done by the great package, Spacy. Spacy markets itself as \"industrial-strength natural language processing\", is fast, enables multiprocessing, and is easy to use. First, let's import it and load the NLP pipline in english."
   ]
  },
  {
   "cell_type": "code",
   "execution_count": 3,
   "metadata": {},
   "outputs": [],
   "source": [
    "\n",
    "import spacy\n",
    "\n",
    "nlp = spacy.load('en_core_web_sm')"
   ]
  },
  {
   "cell_type": "markdown",
   "metadata": {},
   "source": [
    "In the code below, Spacy takes care of tokenization, removing non-alphabetic characters, removal of stopwords, lemmatization and named entity recognition.\n",
    "\n",
    "Note that we only keep named entities that consist of more than one word, as single word named entities are already there."
   ]
  },
  {
   "cell_type": "code",
   "execution_count": 6,
   "metadata": {},
   "outputs": [
    {
     "name": "stdout",
     "output_type": "stream",
     "text": [
      "Wall time: 17min 20s\n"
     ]
    }
   ],
   "source": [
    "\n",
    "%%time\n",
    "processed_docs = []    \n",
    "for doc in nlp.pipe(docs, batch_size=100, n_process=4):\n",
    "    \n",
    "    # Process document using Spacy NLP pipeline\n",
    "    ents = doc.ents  # Named entities.\n",
    "\n",
    "    # Keep only words (no numbers, no punctuation).\n",
    "    # Lemmatize tokens, remove punctuation and remove stopwords.\n",
    "    doc = [token.lemma_ for token in doc if token.is_alpha and not token.is_stop]\n",
    "\n",
    "    # Remove common words from a stopword list.\n",
    "    #doc = [token for token in doc if token not in STOPWORDS]\n",
    "\n",
    "    # Add named entities, but only if they are a compound of more than word.\n",
    "    doc.extend([str(entity) for entity in ents if len(entity) > 1])\n",
    "    \n",
    "    processed_docs.append(doc)"
   ]
  },
  {
   "cell_type": "code",
   "execution_count": 7,
   "metadata": {},
   "outputs": [],
   "source": [
    "\n",
    "docs = processed_docs\n",
    "del processed_docs"
   ]
  },
  {
   "cell_type": "markdown",
   "metadata": {},
   "source": [
    "Below, we use a Gensim model to add bigrams. Note that this achieves the same goal as named entity recognition, that is, finding adjacent words that have some particular significance."
   ]
  },
  {
   "cell_type": "code",
   "execution_count": 8,
   "metadata": {
    "scrolled": true
   },
   "outputs": [],
   "source": [
    "\n",
    "# Compute bigrams\n",
    "from gensim.models import Phrases\n",
    "\n",
    "# Add bigrams and trigrams to docs (only ones that appear 20 times or more).\n",
    "bigram = Phrases(docs, min_count=20)\n",
    "for idx in range(len(docs)):\n",
    "    for token in bigram[docs[idx]]:\n",
    "        if '_' in token:\n",
    "            # Token is a bigram, add to document.\n",
    "            docs[idx].append(token)"
   ]
  },
  {
   "cell_type": "markdown",
   "metadata": {},
   "source": [
    "Now we are ready to construct a dictionary, as our vocabulary is finalized. We then remove common words (occurring $> 50\\%$ of the time), and rare words (occur $< 20$ times in total)."
   ]
  },
  {
   "cell_type": "code",
   "execution_count": 9,
   "metadata": {},
   "outputs": [],
   "source": [
    "\n",
    "# Create a dictionary representation of the documents, and filter out frequent and rare words\n",
    "from gensim.corpora import Dictionary\n",
    "\n",
    "dictionary = Dictionary(docs)\n",
    "\n",
    "# Remove rare and common tokens.\n",
    "# Filter out words that occur too frequently or too rarely.\n",
    "max_freq = 0.5\n",
    "min_wordcount = 20\n",
    "dictionary.filter_extremes(no_below=min_wordcount, no_above=max_freq)\n",
    "\n",
    "_ = dictionary[0]  # This sort of \"initializes\" dictionary.id2token."
   ]
  },
  {
   "cell_type": "markdown",
   "metadata": {},
   "source": [
    "We produce the vectorized representation of the documents, to supply the author-topic model with, by computing the bag-of-words."
   ]
  },
  {
   "cell_type": "code",
   "execution_count": 10,
   "metadata": {},
   "outputs": [],
   "source": [
    "\n",
    "# Vectorize data\n",
    "\n",
    "# Bag-of-words representation of the documents\n",
    "corpus = [dictionary.doc2bow(doc) for doc in docs]"
   ]
  },
  {
   "cell_type": "markdown",
   "metadata": {},
   "source": [
    "Let's inspect the dimensionality of our data."
   ]
  },
  {
   "cell_type": "code",
   "execution_count": 11,
   "metadata": {},
   "outputs": [
    {
     "name": "stdout",
     "output_type": "stream",
     "text": [
      "Number of authors: 2479\n",
      "Number of unique tokens: 7660\n",
      "Number of documents: 1740\n"
     ]
    }
   ],
   "source": [
    "\n",
    "print('Number of authors: %d' % len(author2doc))\n",
    "print('Number of unique tokens: %d' % len(dictionary))\n",
    "print('Number of documents: %d' % len(corpus))"
   ]
  },
  {
   "cell_type": "markdown",
   "metadata": {},
   "source": [
    "### Train and use model\n",
    "\n",
    "We train the author-topic model on the data prepared in the previous sections. \n",
    "\n",
    "The interface to the author-topic model is very similar to that of LDA in Gensim. In addition to a corpus, ID to word mapping (`id2word`) and number of topics (`num_topics`), the author-topic model requires either an author to document ID mapping (`author2doc`), or the reverse (`doc2author`).\n",
    "\n",
    "Below, we have also (this can be skipped for now):\n",
    "* Increased the number of `passes` over the dataset (to improve the convergence of the optimization problem).\n",
    "* Decreased the number of `iterations` over each document (related to the above).\n",
    "* Specified the mini-batch size (`chunksize`) (primarily to speed up training).\n",
    "* Turned off bound evaluation (`eval_every`) (as it takes a long time to compute).\n",
    "* Turned on automatic learning of the `alpha` and `eta` priors (to improve the convergence of the optimization problem).\n",
    "* Set the random state (`random_state`) of the random number generator (to make these experiments reproducible).\n",
    "\n",
    "We load the model, and train it."
   ]
  },
  {
   "cell_type": "code",
   "execution_count": 10,
   "metadata": {},
   "outputs": [
    {
     "name": "stdout",
     "output_type": "stream",
     "text": [
      "CPU times: user 3.56 s, sys: 316 ms, total: 3.87 s\n",
      "Wall time: 3.65 s\n"
     ]
    }
   ],
   "source": [
    "\n",
    "from gensim.models import AuthorTopicModel\n",
    "\n",
    "%time model = AuthorTopicModel(corpus=corpus, num_topics=10, id2word=dictionary.id2token,\n",
    "                               author2doc=author2doc, chunksize=2000, passes=1, eval_every=0, iterations=1,\n",
    "                               random_state=1)"
   ]
  },
  {
   "cell_type": "markdown",
   "metadata": {},
   "source": [
    "If you believe your model hasn't converged, you can continue training using `model.update()`. If you have additional documents and/or authors call `model.update(corpus, author2doc)`.\n",
    "\n",
    "Before we explore the model, let's try to improve upon it. To do this, we will train several models with different random initializations, by giving different seeds for the random number generator (`random_state`). We evaluate the topic coherence of the model using the [top_topics](https://radimrehurek.com/gensim/models/ldamodel.html#gensim.models.ldamodel.LdaModel.top_topics) method, and pick the model with the highest topic coherence.\n",
    "\n"
   ]
  },
  {
   "cell_type": "code",
   "execution_count": 13,
   "metadata": {},
   "outputs": [
    {
     "name": "stdout",
     "output_type": "stream",
     "text": [
      "Wall time: 14min 12s\n"
     ]
    }
   ],
   "source": [
    "\n",
    "%%time\n",
    "from gensim.models import AuthorTopicModel\n",
    "\n",
    "model_list = []\n",
    "for i in range(5):\n",
    "    model = AuthorTopicModel(corpus=corpus, num_topics=10, id2word=dictionary.id2token, author2doc=author2doc,\n",
    "                             chunksize=2000, passes=100, gamma_threshold=1e-10, eval_every=0, iterations=1,\n",
    "                             random_state=i)\n",
    "    top_topics = model.top_topics(corpus)\n",
    "    tc = sum([t[1] for t in top_topics])\n",
    "    model_list.append((model, tc))"
   ]
  },
  {
   "cell_type": "markdown",
   "metadata": {},
   "source": [
    "Choose the model with the highest topic coherence."
   ]
  },
  {
   "cell_type": "code",
   "execution_count": 14,
   "metadata": {},
   "outputs": [
    {
     "name": "stdout",
     "output_type": "stream",
     "text": [
      "Topic coherence: -1.115e+01\n"
     ]
    }
   ],
   "source": [
    "\n",
    "model, tc = max(model_list, key=lambda x: x[1])\n",
    "print('Topic coherence: %.3e' %tc)"
   ]
  },
  {
   "cell_type": "markdown",
   "metadata": {},
   "source": [
    "We save the model, to avoid having to train it again, and also show how to load it again."
   ]
  },
  {
   "cell_type": "code",
   "execution_count": 15,
   "metadata": {},
   "outputs": [
    {
     "name": "stdout",
     "output_type": "stream",
     "text": [
      "Wall time: 1.53 s\n"
     ]
    }
   ],
   "source": [
    "\n",
    "%%time\n",
    "# Save model\n",
    "model.save('../saves/models/model.atmodel')"
   ]
  },
  {
   "cell_type": "code",
   "execution_count": 16,
   "metadata": {},
   "outputs": [
    {
     "name": "stdout",
     "output_type": "stream",
     "text": [
      "Wall time: 768 ms\n"
     ]
    }
   ],
   "source": [
    "\n",
    "%%time\n",
    "# Load model\n",
    "model = AuthorTopicModel.load('../saves/models/model.atmodel')"
   ]
  },
  {
   "cell_type": "markdown",
   "metadata": {},
   "source": [
    "### Explore author-topic representation\n",
    "\n",
    "Now that we have trained a model, we can start exploring the authors and the topics.\n",
    "\n",
    "First, let's simply print the most important words in the topics. Below we have printed topic 0. As we can see, each topic is associated with a set of words, and each word has a probability of being expressed under that topic."
   ]
  },
  {
   "cell_type": "code",
   "execution_count": 17,
   "metadata": {},
   "outputs": [
    {
     "data": {
      "text/plain": [
       "[('signal', 0.015116958363771004),\n",
       " ('filter', 0.012905892957966677),\n",
       " ('object', 0.012166489574047144),\n",
       " ('noise', 0.009414341531388004),\n",
       " ('source', 0.009259626912066348),\n",
       " ('component', 0.006716175964403395),\n",
       " ('view', 0.0067022326584432685),\n",
       " ('image', 0.006151319549697245),\n",
       " ('visual', 0.005682982993305105),\n",
       " ('motion', 0.004967867561106131)]"
      ]
     },
     "execution_count": 17,
     "metadata": {},
     "output_type": "execute_result"
    }
   ],
   "source": [
    "\n",
    "model.show_topic(0)"
   ]
  },
  {
   "cell_type": "markdown",
   "metadata": {},
   "source": [
    "Below, we have given each topic a label based on what each topic seems to be about intuitively. "
   ]
  },
  {
   "cell_type": "code",
   "execution_count": 18,
   "metadata": {},
   "outputs": [],
   "source": [
    "\n",
    "topic_labels = ['Circuits', 'Neuroscience', 'Numerical optimization', 'Object recognition', 'Math/general',\n",
    "                'Robotics', 'Character recognition', 'Reinforcement learning', 'Speech recognition',\n",
    "                'Bayesian modelling']"
   ]
  },
  {
   "cell_type": "markdown",
   "metadata": {},
   "source": [
    "Rather than just calling `model.show_topics(num_topics=10)`, we format the output a bit so it is easier to get an overview."
   ]
  },
  {
   "cell_type": "code",
   "execution_count": 19,
   "metadata": {},
   "outputs": [
    {
     "name": "stdout",
     "output_type": "stream",
     "text": [
      "Label: Circuits\n",
      "Words: signal filter object noise source component view image visual motion \n",
      "\n",
      "Label: Neuroscience\n",
      "Words: neuron cell response spike synaptic stimulus activity circuit chip connection \n",
      "\n",
      "Label: Numerical optimization\n",
      "Words: word recognition classifier layer speech class classification character net context \n",
      "\n",
      "Label: Object recognition\n",
      "Words: rule hidden representation net hidden_unit layer hide sequence prediction activation \n",
      "\n",
      "Label: Math/general\n",
      "Words: action control policy optimal q reinforcement Learning robot controller environment \n",
      "\n",
      "Label: Robotics\n",
      "Words: image face pixel map distance region recognition scale surface object \n",
      "\n",
      "Label: Character recognition\n",
      "Words: p w N m let solution f matrix generalization class \n",
      "\n",
      "Label: Reinforcement learning\n",
      "Words: neuron threshold node bit memory net circuit element computation v \n",
      "\n",
      "Label: Speech recognition\n",
      "Words: mixture likelihood density prior sample gaussian variance matrix posterior class \n",
      "\n",
      "Label: Bayesian modelling\n",
      "Words: field position control movement visual motor eye response signal representation \n",
      "\n",
      "Wall time: 45 ms\n"
     ]
    }
   ],
   "source": [
    "\n",
    "%%time\n",
    "for topic in model.show_topics(num_topics=10):\n",
    "    print('Label: ' + topic_labels[topic[0]])\n",
    "    words = ''\n",
    "    for word, prob in model.show_topic(topic[0]):\n",
    "        words += word + ' '\n",
    "    print('Words: ' + words)\n",
    "    print()"
   ]
  },
  {
   "cell_type": "markdown",
   "metadata": {},
   "source": [
    "These topics are by no means perfect. They have problems such as *chained topics*, *intruded words*, *random topics*, and *unbalanced topics* (see [Mimno and co-authors 2011](https://people.cs.umass.edu/~wallach/publications/mimno11optimizing.pdf)). They will do for the purposes of this tutorial, however.\n",
    "\n",
    "Below, we use the `model[name]` syntax to retrieve the topic distribution for an author. Each topic has a probability of being expressed given the particular author, but only the ones above a certain threshold are shown."
   ]
  },
  {
   "cell_type": "code",
   "execution_count": 20,
   "metadata": {},
   "outputs": [
    {
     "data": {
      "text/plain": [
       "[(2, 0.9997614598757784)]"
      ]
     },
     "execution_count": 20,
     "metadata": {},
     "output_type": "execute_result"
    }
   ],
   "source": [
    "\n",
    "model['YannLeCun']"
   ]
  },
  {
   "cell_type": "markdown",
   "metadata": {},
   "source": [
    "Let's print the top topics of some authors. First, we make a function to help us do this more easily."
   ]
  },
  {
   "cell_type": "code",
   "execution_count": 21,
   "metadata": {},
   "outputs": [],
   "source": [
    "\n",
    "from pprint import pprint\n",
    "\n",
    "def show_author(name):\n",
    "    print('\\n%s' % name)\n",
    "    print('Docs:', model.author2doc[name])\n",
    "    print('Topics:')\n",
    "    pprint([(topic_labels[topic[0]], topic[1]) for topic in model[name]])"
   ]
  },
  {
   "cell_type": "markdown",
   "metadata": {},
   "source": [
    "Below, we print some high profile researchers and inspect them. Three of these, Yann LeCun, Geoffrey E. Hinton and Christof Koch, are spot on. \n",
    "\n",
    "Terrence J. Sejnowski's results are surprising, however. He is a neuroscientist, so we would expect him to get the \"neuroscience\" label. This may indicate that Sejnowski works with the neuroscience aspects of visual perception, or perhaps that we have labeled the topic incorrectly, or perhaps that this topic simply is not very informative."
   ]
  },
  {
   "cell_type": "code",
   "execution_count": 22,
   "metadata": {},
   "outputs": [
    {
     "name": "stdout",
     "output_type": "stream",
     "text": [
      "\n",
      "YannLeCun\n",
      "Docs: [106, 401, 410, 488, 499, 538, 579, 592, 792, 817, 1519]\n",
      "Topics:\n",
      "[('Numerical optimization', 0.9997614598757784)]\n"
     ]
    }
   ],
   "source": [
    "\n",
    "show_author('YannLeCun')"
   ]
  },
  {
   "cell_type": "code",
   "execution_count": 23,
   "metadata": {},
   "outputs": [
    {
     "name": "stdout",
     "output_type": "stream",
     "text": [
      "\n",
      "GeoffreyE.Hinton\n",
      "Docs: [37, 106, 206, 217, 246, 474, 491, 550, 606, 700, 701, 922, 963, 1356, 1607, 1655]\n",
      "Topics:\n",
      "[('Object recognition', 0.7696750737649027),\n",
      " ('Speech recognition', 0.12760575662409213),\n",
      " ('Bayesian modelling', 0.10262916310278977)]\n"
     ]
    }
   ],
   "source": [
    "\n",
    "show_author('GeoffreyE.Hinton')"
   ]
  },
  {
   "cell_type": "code",
   "execution_count": 24,
   "metadata": {},
   "outputs": [
    {
     "name": "stdout",
     "output_type": "stream",
     "text": [
      "\n",
      "TerrenceJ.Sejnowski\n",
      "Docs: [479, 475, 508, 553, 618, 634, 690, 691, 775, 802, 856, 859, 863, 864, 901, 902, 977, 1151, 1210, 1241, 1250, 1252, 1257, 1284, 1366, 1413, 1455, 1510, 1541, 1613, 1714]\n",
      "Topics:\n",
      "[('Bayesian modelling', 0.999923922004089)]\n"
     ]
    }
   ],
   "source": [
    "\n",
    "show_author('TerrenceJ.Sejnowski')"
   ]
  },
  {
   "cell_type": "code",
   "execution_count": 25,
   "metadata": {},
   "outputs": [
    {
     "name": "stdout",
     "output_type": "stream",
     "text": [
      "\n",
      "ChristofKoch\n",
      "Docs: [44, 194, 242, 276, 302, 332, 339, 340, 434, 443, 668, 674, 765, 773, 779, 844, 1144, 1235, 1237, 1457, 1461, 1537, 1549, 1610]\n",
      "Topics:\n",
      "[('Neuroscience', 0.9998998532263418)]\n"
     ]
    }
   ],
   "source": [
    "\n",
    "show_author('ChristofKoch')"
   ]
  },
  {
   "cell_type": "markdown",
   "metadata": {},
   "source": [
    "#### Simple model evaluation methods\n",
    "\n",
    "We can compute the per-word bound, which is a measure of the model's predictive performance (you could also say that it is the reconstruction error).\n",
    "\n",
    "To do that, we need the `doc2author` dictionary, which we can build automatically."
   ]
  },
  {
   "cell_type": "code",
   "execution_count": 26,
   "metadata": {},
   "outputs": [],
   "source": [
    "\n",
    "from gensim.models import atmodel\n",
    "\n",
    "doc2author = atmodel.construct_doc2author(model.corpus, model.author2doc)"
   ]
  },
  {
   "cell_type": "markdown",
   "metadata": {},
   "source": [
    "Now let's evaluate the per-word bound."
   ]
  },
  {
   "cell_type": "code",
   "execution_count": 27,
   "metadata": {},
   "outputs": [
    {
     "name": "stdout",
     "output_type": "stream",
     "text": [
      "-7.827992200193238\n"
     ]
    }
   ],
   "source": [
    "\n",
    "# Compute the per-word bound.\n",
    "# Number of words in corpus.\n",
    "corpus_words = sum(cnt for document in model.corpus for _, cnt in document)\n",
    "\n",
    "# Compute bound and divide by number of words.\n",
    "perwordbound = model.bound(model.corpus, author2doc=model.author2doc,\n",
    "                           doc2author=model.doc2author) / corpus_words\n",
    "print(perwordbound)"
   ]
  },
  {
   "cell_type": "markdown",
   "metadata": {},
   "source": [
    "We can evaluate the quality of the topics by computing the topic coherence, as in the LDA class. Use this to e.g. find out which of the topics are poor quality, or as a metric for model selection."
   ]
  },
  {
   "cell_type": "code",
   "execution_count": 28,
   "metadata": {},
   "outputs": [
    {
     "name": "stdout",
     "output_type": "stream",
     "text": [
      "Wall time: 1.08 s\n"
     ]
    }
   ],
   "source": [
    "\n",
    "%time top_topics = model.top_topics(model.corpus)"
   ]
  },
  {
   "cell_type": "markdown",
   "metadata": {},
   "source": [
    "#### Plotting the authors\n",
    "\n",
    "Now we're going to produce the kind of pacific archipelago looking plot below. The goal of this plot is to give you a way to explore the author-topic representation in an intuitive manner.\n",
    "\n",
    "We take all the author-topic distributions (stored in `model.state.gamma`) and embed them in a 2D space. To do this, we reduce the dimensionality of this data using t-SNE. \n",
    "\n",
    "t-SNE is a method that attempts to reduce the dimensionality of a dataset, while maintaining the distances between the points. That means that if two authors are close together in the plot below, then their topic distributions are similar.\n",
    "\n",
    "In the cell below, we transform the author-topic representation into the t-SNE space. You can increase the `smallest_author` value if you do not want to view all the authors with few documents."
   ]
  },
  {
   "cell_type": "code",
   "execution_count": 29,
   "metadata": {},
   "outputs": [
    {
     "name": "stdout",
     "output_type": "stream",
     "text": [
      "Wall time: 18.7 s\n"
     ]
    }
   ],
   "source": [
    "\n",
    "%%time\n",
    "from sklearn.manifold import TSNE\n",
    "tsne = TSNE(n_components=2, random_state=0)\n",
    "smallest_author = 0  # Ignore authors with documents less than this.\n",
    "authors = [model.author2id[a] for a in model.author2id.keys() if len(model.author2doc[a]) >= smallest_author]\n",
    "_ = tsne.fit_transform(model.state.gamma[authors, :])  # Result stored in tsne.embedding_"
   ]
  },
  {
   "cell_type": "markdown",
   "metadata": {},
   "source": [
    "We are now ready to make the plot.\n",
    "\n",
    "Note that if you run this notebook yourself, you will see a different graph. The random initialization of the model will be different, and the result will thus be different to some degree. You may find an entirely different representation of the data, or it may show the same interpretation slightly differently.\n",
    "\n",
    "If you can't see the plot, you are probably viewing this tutorial in a Jupyter Notebook. View it in an nbviewer instead at http://nbviewer.jupyter.org/github/rare-technologies/gensim/blob/develop/docs/notebooks/atmodel_tutorial.ipynb."
   ]
  },
  {
   "cell_type": "code",
   "execution_count": 30,
   "metadata": {
    "scrolled": true
   },
   "outputs": [
    {
     "data": {
      "text/html": [
       "\n",
       "    <div class=\"bk-root\">\n",
       "        <a href=\"https://bokeh.org\" target=\"_blank\" class=\"bk-logo bk-logo-small bk-logo-notebook\"></a>\n",
       "        <span id=\"1001\">Loading BokehJS ...</span>\n",
       "    </div>"
      ]
     },
     "metadata": {},
     "output_type": "display_data"
    },
    {
     "data": {
      "application/javascript": [
       "\n",
       "(function(root) {\n",
       "  function now() {\n",
       "    return new Date();\n",
       "  }\n",
       "\n",
       "  var force = true;\n",
       "\n",
       "  if (typeof root._bokeh_onload_callbacks === \"undefined\" || force === true) {\n",
       "    root._bokeh_onload_callbacks = [];\n",
       "    root._bokeh_is_loading = undefined;\n",
       "  }\n",
       "\n",
       "  var JS_MIME_TYPE = 'application/javascript';\n",
       "  var HTML_MIME_TYPE = 'text/html';\n",
       "  var EXEC_MIME_TYPE = 'application/vnd.bokehjs_exec.v0+json';\n",
       "  var CLASS_NAME = 'output_bokeh rendered_html';\n",
       "\n",
       "  /**\n",
       "   * Render data to the DOM node\n",
       "   */\n",
       "  function render(props, node) {\n",
       "    var script = document.createElement(\"script\");\n",
       "    node.appendChild(script);\n",
       "  }\n",
       "\n",
       "  /**\n",
       "   * Handle when an output is cleared or removed\n",
       "   */\n",
       "  function handleClearOutput(event, handle) {\n",
       "    var cell = handle.cell;\n",
       "\n",
       "    var id = cell.output_area._bokeh_element_id;\n",
       "    var server_id = cell.output_area._bokeh_server_id;\n",
       "    // Clean up Bokeh references\n",
       "    if (id != null && id in Bokeh.index) {\n",
       "      Bokeh.index[id].model.document.clear();\n",
       "      delete Bokeh.index[id];\n",
       "    }\n",
       "\n",
       "    if (server_id !== undefined) {\n",
       "      // Clean up Bokeh references\n",
       "      var cmd = \"from bokeh.io.state import curstate; print(curstate().uuid_to_server['\" + server_id + \"'].get_sessions()[0].document.roots[0]._id)\";\n",
       "      cell.notebook.kernel.execute(cmd, {\n",
       "        iopub: {\n",
       "          output: function(msg) {\n",
       "            var id = msg.content.text.trim();\n",
       "            if (id in Bokeh.index) {\n",
       "              Bokeh.index[id].model.document.clear();\n",
       "              delete Bokeh.index[id];\n",
       "            }\n",
       "          }\n",
       "        }\n",
       "      });\n",
       "      // Destroy server and session\n",
       "      var cmd = \"import bokeh.io.notebook as ion; ion.destroy_server('\" + server_id + \"')\";\n",
       "      cell.notebook.kernel.execute(cmd);\n",
       "    }\n",
       "  }\n",
       "\n",
       "  /**\n",
       "   * Handle when a new output is added\n",
       "   */\n",
       "  function handleAddOutput(event, handle) {\n",
       "    var output_area = handle.output_area;\n",
       "    var output = handle.output;\n",
       "\n",
       "    // limit handleAddOutput to display_data with EXEC_MIME_TYPE content only\n",
       "    if ((output.output_type != \"display_data\") || (!Object.prototype.hasOwnProperty.call(output.data, EXEC_MIME_TYPE))) {\n",
       "      return\n",
       "    }\n",
       "\n",
       "    var toinsert = output_area.element.find(\".\" + CLASS_NAME.split(' ')[0]);\n",
       "\n",
       "    if (output.metadata[EXEC_MIME_TYPE][\"id\"] !== undefined) {\n",
       "      toinsert[toinsert.length - 1].firstChild.textContent = output.data[JS_MIME_TYPE];\n",
       "      // store reference to embed id on output_area\n",
       "      output_area._bokeh_element_id = output.metadata[EXEC_MIME_TYPE][\"id\"];\n",
       "    }\n",
       "    if (output.metadata[EXEC_MIME_TYPE][\"server_id\"] !== undefined) {\n",
       "      var bk_div = document.createElement(\"div\");\n",
       "      bk_div.innerHTML = output.data[HTML_MIME_TYPE];\n",
       "      var script_attrs = bk_div.children[0].attributes;\n",
       "      for (var i = 0; i < script_attrs.length; i++) {\n",
       "        toinsert[toinsert.length - 1].firstChild.setAttribute(script_attrs[i].name, script_attrs[i].value);\n",
       "        toinsert[toinsert.length - 1].firstChild.textContent = bk_div.children[0].textContent\n",
       "      }\n",
       "      // store reference to server id on output_area\n",
       "      output_area._bokeh_server_id = output.metadata[EXEC_MIME_TYPE][\"server_id\"];\n",
       "    }\n",
       "  }\n",
       "\n",
       "  function register_renderer(events, OutputArea) {\n",
       "\n",
       "    function append_mime(data, metadata, element) {\n",
       "      // create a DOM node to render to\n",
       "      var toinsert = this.create_output_subarea(\n",
       "        metadata,\n",
       "        CLASS_NAME,\n",
       "        EXEC_MIME_TYPE\n",
       "      );\n",
       "      this.keyboard_manager.register_events(toinsert);\n",
       "      // Render to node\n",
       "      var props = {data: data, metadata: metadata[EXEC_MIME_TYPE]};\n",
       "      render(props, toinsert[toinsert.length - 1]);\n",
       "      element.append(toinsert);\n",
       "      return toinsert\n",
       "    }\n",
       "\n",
       "    /* Handle when an output is cleared or removed */\n",
       "    events.on('clear_output.CodeCell', handleClearOutput);\n",
       "    events.on('delete.Cell', handleClearOutput);\n",
       "\n",
       "    /* Handle when a new output is added */\n",
       "    events.on('output_added.OutputArea', handleAddOutput);\n",
       "\n",
       "    /**\n",
       "     * Register the mime type and append_mime function with output_area\n",
       "     */\n",
       "    OutputArea.prototype.register_mime_type(EXEC_MIME_TYPE, append_mime, {\n",
       "      /* Is output safe? */\n",
       "      safe: true,\n",
       "      /* Index of renderer in `output_area.display_order` */\n",
       "      index: 0\n",
       "    });\n",
       "  }\n",
       "\n",
       "  // register the mime type if in Jupyter Notebook environment and previously unregistered\n",
       "  if (root.Jupyter !== undefined) {\n",
       "    var events = require('base/js/events');\n",
       "    var OutputArea = require('notebook/js/outputarea').OutputArea;\n",
       "\n",
       "    if (OutputArea.prototype.mime_types().indexOf(EXEC_MIME_TYPE) == -1) {\n",
       "      register_renderer(events, OutputArea);\n",
       "    }\n",
       "  }\n",
       "\n",
       "  \n",
       "  if (typeof (root._bokeh_timeout) === \"undefined\" || force === true) {\n",
       "    root._bokeh_timeout = Date.now() + 5000;\n",
       "    root._bokeh_failed_load = false;\n",
       "  }\n",
       "\n",
       "  var NB_LOAD_WARNING = {'data': {'text/html':\n",
       "     \"<div style='background-color: #fdd'>\\n\"+\n",
       "     \"<p>\\n\"+\n",
       "     \"BokehJS does not appear to have successfully loaded. If loading BokehJS from CDN, this \\n\"+\n",
       "     \"may be due to a slow or bad network connection. Possible fixes:\\n\"+\n",
       "     \"</p>\\n\"+\n",
       "     \"<ul>\\n\"+\n",
       "     \"<li>re-rerun `output_notebook()` to attempt to load from CDN again, or</li>\\n\"+\n",
       "     \"<li>use INLINE resources instead, as so:</li>\\n\"+\n",
       "     \"</ul>\\n\"+\n",
       "     \"<code>\\n\"+\n",
       "     \"from bokeh.resources import INLINE\\n\"+\n",
       "     \"output_notebook(resources=INLINE)\\n\"+\n",
       "     \"</code>\\n\"+\n",
       "     \"</div>\"}};\n",
       "\n",
       "  function display_loaded() {\n",
       "    var el = document.getElementById(\"1001\");\n",
       "    if (el != null) {\n",
       "      el.textContent = \"BokehJS is loading...\";\n",
       "    }\n",
       "    if (root.Bokeh !== undefined) {\n",
       "      if (el != null) {\n",
       "        el.textContent = \"BokehJS \" + root.Bokeh.version + \" successfully loaded.\";\n",
       "      }\n",
       "    } else if (Date.now() < root._bokeh_timeout) {\n",
       "      setTimeout(display_loaded, 100)\n",
       "    }\n",
       "  }\n",
       "\n",
       "\n",
       "  function run_callbacks() {\n",
       "    try {\n",
       "      root._bokeh_onload_callbacks.forEach(function(callback) {\n",
       "        if (callback != null)\n",
       "          callback();\n",
       "      });\n",
       "    } finally {\n",
       "      delete root._bokeh_onload_callbacks\n",
       "    }\n",
       "    console.debug(\"Bokeh: all callbacks have finished\");\n",
       "  }\n",
       "\n",
       "  function load_libs(css_urls, js_urls, callback) {\n",
       "    if (css_urls == null) css_urls = [];\n",
       "    if (js_urls == null) js_urls = [];\n",
       "\n",
       "    root._bokeh_onload_callbacks.push(callback);\n",
       "    if (root._bokeh_is_loading > 0) {\n",
       "      console.debug(\"Bokeh: BokehJS is being loaded, scheduling callback at\", now());\n",
       "      return null;\n",
       "    }\n",
       "    if (js_urls == null || js_urls.length === 0) {\n",
       "      run_callbacks();\n",
       "      return null;\n",
       "    }\n",
       "    console.debug(\"Bokeh: BokehJS not loaded, scheduling load and callback at\", now());\n",
       "    root._bokeh_is_loading = css_urls.length + js_urls.length;\n",
       "\n",
       "    function on_load() {\n",
       "      root._bokeh_is_loading--;\n",
       "      if (root._bokeh_is_loading === 0) {\n",
       "        console.debug(\"Bokeh: all BokehJS libraries/stylesheets loaded\");\n",
       "        run_callbacks()\n",
       "      }\n",
       "    }\n",
       "\n",
       "    function on_error(url) {\n",
       "      console.error(\"failed to load \" + url);\n",
       "    }\n",
       "\n",
       "    for (let i = 0; i < css_urls.length; i++) {\n",
       "      const url = css_urls[i];\n",
       "      const element = document.createElement(\"link\");\n",
       "      element.onload = on_load;\n",
       "      element.onerror = on_error.bind(null, url);\n",
       "      element.rel = \"stylesheet\";\n",
       "      element.type = \"text/css\";\n",
       "      element.href = url;\n",
       "      console.debug(\"Bokeh: injecting link tag for BokehJS stylesheet: \", url);\n",
       "      document.body.appendChild(element);\n",
       "    }\n",
       "\n",
       "    const hashes = {\"https://cdn.bokeh.org/bokeh/release/bokeh-2.3.0.min.js\": \"HjagQp6T0/7bxYTAXbLotF1MLAGWmhkY5siA1Gc/pcEgvgRPtMsRn0gQtMwGKiw1\", \"https://cdn.bokeh.org/bokeh/release/bokeh-widgets-2.3.0.min.js\": \"ZEPPTjL+mdyqgIq+/pl9KTwzji8Kow2NnI3zWY8+sFinWP/SYJ80BnfeJsa45iYj\", \"https://cdn.bokeh.org/bokeh/release/bokeh-tables-2.3.0.min.js\": \"exLqv2ACDRIaV7ZK1iL8aGzGYQvKVuT3U2CT7FsQREBxRah6JrkVCoFy0koY1YqV\"};\n",
       "\n",
       "    for (let i = 0; i < js_urls.length; i++) {\n",
       "      const url = js_urls[i];\n",
       "      const element = document.createElement('script');\n",
       "      element.onload = on_load;\n",
       "      element.onerror = on_error.bind(null, url);\n",
       "      element.async = false;\n",
       "      element.src = url;\n",
       "      if (url in hashes) {\n",
       "        element.crossOrigin = \"anonymous\";\n",
       "        element.integrity = \"sha384-\" + hashes[url];\n",
       "      }\n",
       "      console.debug(\"Bokeh: injecting script tag for BokehJS library: \", url);\n",
       "      document.head.appendChild(element);\n",
       "    }\n",
       "  };\n",
       "\n",
       "  function inject_raw_css(css) {\n",
       "    const element = document.createElement(\"style\");\n",
       "    element.appendChild(document.createTextNode(css));\n",
       "    document.body.appendChild(element);\n",
       "  }\n",
       "\n",
       "  \n",
       "  var js_urls = [\"https://cdn.bokeh.org/bokeh/release/bokeh-2.3.0.min.js\", \"https://cdn.bokeh.org/bokeh/release/bokeh-widgets-2.3.0.min.js\", \"https://cdn.bokeh.org/bokeh/release/bokeh-tables-2.3.0.min.js\"];\n",
       "  var css_urls = [];\n",
       "  \n",
       "\n",
       "  var inline_js = [\n",
       "    function(Bokeh) {\n",
       "      Bokeh.set_log_level(\"info\");\n",
       "    },\n",
       "    function(Bokeh) {\n",
       "    \n",
       "    \n",
       "    }\n",
       "  ];\n",
       "\n",
       "  function run_inline_js() {\n",
       "    \n",
       "    if (root.Bokeh !== undefined || force === true) {\n",
       "      \n",
       "    for (var i = 0; i < inline_js.length; i++) {\n",
       "      inline_js[i].call(root, root.Bokeh);\n",
       "    }\n",
       "    if (force === true) {\n",
       "        display_loaded();\n",
       "      }} else if (Date.now() < root._bokeh_timeout) {\n",
       "      setTimeout(run_inline_js, 100);\n",
       "    } else if (!root._bokeh_failed_load) {\n",
       "      console.log(\"Bokeh: BokehJS failed to load within specified timeout.\");\n",
       "      root._bokeh_failed_load = true;\n",
       "    } else if (force !== true) {\n",
       "      var cell = $(document.getElementById(\"1001\")).parents('.cell').data().cell;\n",
       "      cell.output_area.append_execute_result(NB_LOAD_WARNING)\n",
       "    }\n",
       "\n",
       "  }\n",
       "\n",
       "  if (root._bokeh_is_loading === 0) {\n",
       "    console.debug(\"Bokeh: BokehJS loaded, going straight to plotting\");\n",
       "    run_inline_js();\n",
       "  } else {\n",
       "    load_libs(css_urls, js_urls, function() {\n",
       "      console.debug(\"Bokeh: BokehJS plotting callback run at\", now());\n",
       "      run_inline_js();\n",
       "    });\n",
       "  }\n",
       "}(window));"
      ],
      "application/vnd.bokehjs_load.v0+json": "\n(function(root) {\n  function now() {\n    return new Date();\n  }\n\n  var force = true;\n\n  if (typeof root._bokeh_onload_callbacks === \"undefined\" || force === true) {\n    root._bokeh_onload_callbacks = [];\n    root._bokeh_is_loading = undefined;\n  }\n\n  \n\n  \n  if (typeof (root._bokeh_timeout) === \"undefined\" || force === true) {\n    root._bokeh_timeout = Date.now() + 5000;\n    root._bokeh_failed_load = false;\n  }\n\n  var NB_LOAD_WARNING = {'data': {'text/html':\n     \"<div style='background-color: #fdd'>\\n\"+\n     \"<p>\\n\"+\n     \"BokehJS does not appear to have successfully loaded. If loading BokehJS from CDN, this \\n\"+\n     \"may be due to a slow or bad network connection. Possible fixes:\\n\"+\n     \"</p>\\n\"+\n     \"<ul>\\n\"+\n     \"<li>re-rerun `output_notebook()` to attempt to load from CDN again, or</li>\\n\"+\n     \"<li>use INLINE resources instead, as so:</li>\\n\"+\n     \"</ul>\\n\"+\n     \"<code>\\n\"+\n     \"from bokeh.resources import INLINE\\n\"+\n     \"output_notebook(resources=INLINE)\\n\"+\n     \"</code>\\n\"+\n     \"</div>\"}};\n\n  function display_loaded() {\n    var el = document.getElementById(\"1001\");\n    if (el != null) {\n      el.textContent = \"BokehJS is loading...\";\n    }\n    if (root.Bokeh !== undefined) {\n      if (el != null) {\n        el.textContent = \"BokehJS \" + root.Bokeh.version + \" successfully loaded.\";\n      }\n    } else if (Date.now() < root._bokeh_timeout) {\n      setTimeout(display_loaded, 100)\n    }\n  }\n\n\n  function run_callbacks() {\n    try {\n      root._bokeh_onload_callbacks.forEach(function(callback) {\n        if (callback != null)\n          callback();\n      });\n    } finally {\n      delete root._bokeh_onload_callbacks\n    }\n    console.debug(\"Bokeh: all callbacks have finished\");\n  }\n\n  function load_libs(css_urls, js_urls, callback) {\n    if (css_urls == null) css_urls = [];\n    if (js_urls == null) js_urls = [];\n\n    root._bokeh_onload_callbacks.push(callback);\n    if (root._bokeh_is_loading > 0) {\n      console.debug(\"Bokeh: BokehJS is being loaded, scheduling callback at\", now());\n      return null;\n    }\n    if (js_urls == null || js_urls.length === 0) {\n      run_callbacks();\n      return null;\n    }\n    console.debug(\"Bokeh: BokehJS not loaded, scheduling load and callback at\", now());\n    root._bokeh_is_loading = css_urls.length + js_urls.length;\n\n    function on_load() {\n      root._bokeh_is_loading--;\n      if (root._bokeh_is_loading === 0) {\n        console.debug(\"Bokeh: all BokehJS libraries/stylesheets loaded\");\n        run_callbacks()\n      }\n    }\n\n    function on_error(url) {\n      console.error(\"failed to load \" + url);\n    }\n\n    for (let i = 0; i < css_urls.length; i++) {\n      const url = css_urls[i];\n      const element = document.createElement(\"link\");\n      element.onload = on_load;\n      element.onerror = on_error.bind(null, url);\n      element.rel = \"stylesheet\";\n      element.type = \"text/css\";\n      element.href = url;\n      console.debug(\"Bokeh: injecting link tag for BokehJS stylesheet: \", url);\n      document.body.appendChild(element);\n    }\n\n    const hashes = {\"https://cdn.bokeh.org/bokeh/release/bokeh-2.3.0.min.js\": \"HjagQp6T0/7bxYTAXbLotF1MLAGWmhkY5siA1Gc/pcEgvgRPtMsRn0gQtMwGKiw1\", \"https://cdn.bokeh.org/bokeh/release/bokeh-widgets-2.3.0.min.js\": \"ZEPPTjL+mdyqgIq+/pl9KTwzji8Kow2NnI3zWY8+sFinWP/SYJ80BnfeJsa45iYj\", \"https://cdn.bokeh.org/bokeh/release/bokeh-tables-2.3.0.min.js\": \"exLqv2ACDRIaV7ZK1iL8aGzGYQvKVuT3U2CT7FsQREBxRah6JrkVCoFy0koY1YqV\"};\n\n    for (let i = 0; i < js_urls.length; i++) {\n      const url = js_urls[i];\n      const element = document.createElement('script');\n      element.onload = on_load;\n      element.onerror = on_error.bind(null, url);\n      element.async = false;\n      element.src = url;\n      if (url in hashes) {\n        element.crossOrigin = \"anonymous\";\n        element.integrity = \"sha384-\" + hashes[url];\n      }\n      console.debug(\"Bokeh: injecting script tag for BokehJS library: \", url);\n      document.head.appendChild(element);\n    }\n  };\n\n  function inject_raw_css(css) {\n    const element = document.createElement(\"style\");\n    element.appendChild(document.createTextNode(css));\n    document.body.appendChild(element);\n  }\n\n  \n  var js_urls = [\"https://cdn.bokeh.org/bokeh/release/bokeh-2.3.0.min.js\", \"https://cdn.bokeh.org/bokeh/release/bokeh-widgets-2.3.0.min.js\", \"https://cdn.bokeh.org/bokeh/release/bokeh-tables-2.3.0.min.js\"];\n  var css_urls = [];\n  \n\n  var inline_js = [\n    function(Bokeh) {\n      Bokeh.set_log_level(\"info\");\n    },\n    function(Bokeh) {\n    \n    \n    }\n  ];\n\n  function run_inline_js() {\n    \n    if (root.Bokeh !== undefined || force === true) {\n      \n    for (var i = 0; i < inline_js.length; i++) {\n      inline_js[i].call(root, root.Bokeh);\n    }\n    if (force === true) {\n        display_loaded();\n      }} else if (Date.now() < root._bokeh_timeout) {\n      setTimeout(run_inline_js, 100);\n    } else if (!root._bokeh_failed_load) {\n      console.log(\"Bokeh: BokehJS failed to load within specified timeout.\");\n      root._bokeh_failed_load = true;\n    } else if (force !== true) {\n      var cell = $(document.getElementById(\"1001\")).parents('.cell').data().cell;\n      cell.output_area.append_execute_result(NB_LOAD_WARNING)\n    }\n\n  }\n\n  if (root._bokeh_is_loading === 0) {\n    console.debug(\"Bokeh: BokehJS loaded, going straight to plotting\");\n    run_inline_js();\n  } else {\n    load_libs(css_urls, js_urls, function() {\n      console.debug(\"Bokeh: BokehJS plotting callback run at\", now());\n      run_inline_js();\n    });\n  }\n}(window));"
     },
     "metadata": {},
     "output_type": "display_data"
    }
   ],
   "source": [
    "\n",
    "# Tell Bokeh to display plots inside the notebook.\n",
    "from bokeh.io import output_notebook\n",
    "\n",
    "output_notebook()"
   ]
  },
  {
   "cell_type": "code",
   "execution_count": 31,
   "metadata": {},
   "outputs": [
    {
     "data": {
      "text/html": [
       "\n",
       "\n",
       "\n",
       "\n",
       "\n",
       "\n",
       "  <div class=\"bk-root\" id=\"4a8bc7ca-047c-43bc-aa1d-be29b4b7430f\" data-root-id=\"1005\"></div>\n"
      ]
     },
     "metadata": {},
     "output_type": "display_data"
    },
    {
     "data": {
      "application/javascript": [
       "(function(root) {\n",
       "  function embed_document(root) {\n",
       "    \n",
       "  var docs_json = {\"916535ac-2191-4bd2-8168-ce742786c8c7\":{\"defs\":[{\"extends\":null,\"module\":null,\"name\":\"DataModel\",\"overrides\":[],\"properties\":[]}],\"roots\":{\"references\":[{\"attributes\":{\"below\":[{\"id\":\"1014\"}],\"center\":[{\"id\":\"1017\"},{\"id\":\"1021\"}],\"left\":[{\"id\":\"1018\"}],\"renderers\":[{\"id\":\"1043\"}],\"title\":{\"id\":\"1045\"},\"toolbar\":{\"id\":\"1031\"},\"x_range\":{\"id\":\"1006\"},\"x_scale\":{\"id\":\"1010\"},\"y_range\":{\"id\":\"1008\"},\"y_scale\":{\"id\":\"1012\"}},\"id\":\"1005\",\"subtype\":\"Figure\",\"type\":\"Plot\"},{\"attributes\":{},\"id\":\"1008\",\"type\":\"DataRange1d\"},{\"attributes\":{\"data_source\":{\"id\":\"1003\"},\"glyph\":{\"id\":\"1041\"},\"hover_glyph\":null,\"muted_glyph\":null,\"nonselection_glyph\":{\"id\":\"1042\"},\"view\":{\"id\":\"1044\"}},\"id\":\"1043\",\"type\":\"GlyphRenderer\"},{\"attributes\":{\"fill_alpha\":{\"value\":0.6},\"fill_color\":{\"value\":\"#1f77b4\"},\"line_color\":{\"value\":null},\"radius\":{\"field\":\"radii\"},\"x\":{\"field\":\"x\"},\"y\":{\"field\":\"y\"}},\"id\":\"1041\",\"type\":\"Circle\"},{\"attributes\":{},\"id\":\"1054\",\"type\":\"Selection\"},{\"attributes\":{\"active_multi\":null,\"tools\":[{\"id\":\"1004\"},{\"id\":\"1022\"},{\"id\":\"1023\"},{\"id\":\"1024\"},{\"id\":\"1025\"},{\"id\":\"1026\"},{\"id\":\"1027\"},{\"id\":\"1028\"}]},\"id\":\"1031\",\"type\":\"Toolbar\"},{\"attributes\":{\"fill_alpha\":0.5,\"fill_color\":\"lightgrey\",\"level\":\"overlay\",\"line_alpha\":1.0,\"line_color\":\"black\",\"line_dash\":[4,4],\"line_width\":2,\"syncable\":false,\"xs_units\":\"screen\",\"ys_units\":\"screen\"},\"id\":\"1030\",\"type\":\"PolyAnnotation\"},{\"attributes\":{\"bottom_units\":\"screen\",\"fill_alpha\":0.5,\"fill_color\":\"lightgrey\",\"left_units\":\"screen\",\"level\":\"overlay\",\"line_alpha\":1.0,\"line_color\":\"black\",\"line_dash\":[4,4],\"line_width\":2,\"right_units\":\"screen\",\"syncable\":false,\"top_units\":\"screen\"},\"id\":\"1029\",\"type\":\"BoxAnnotation\"},{\"attributes\":{},\"id\":\"1022\",\"type\":\"CrosshairTool\"},{\"attributes\":{},\"id\":\"1023\",\"type\":\"PanTool\"},{\"attributes\":{},\"id\":\"1026\",\"type\":\"ResetTool\"},{\"attributes\":{},\"id\":\"1024\",\"type\":\"WheelZoomTool\"},{\"attributes\":{\"formatter\":{\"id\":\"1047\"},\"major_label_policy\":{\"id\":\"1049\"},\"ticker\":{\"id\":\"1015\"}},\"id\":\"1014\",\"type\":\"LinearAxis\"},{\"attributes\":{\"overlay\":{\"id\":\"1029\"}},\"id\":\"1025\",\"type\":\"BoxZoomTool\"},{\"attributes\":{},\"id\":\"1053\",\"type\":\"UnionRenderers\"},{\"attributes\":{},\"id\":\"1010\",\"type\":\"LinearScale\"},{\"attributes\":{},\"id\":\"1012\",\"type\":\"LinearScale\"},{\"attributes\":{},\"id\":\"1027\",\"type\":\"SaveTool\"},{\"attributes\":{\"source\":{\"id\":\"1003\"}},\"id\":\"1044\",\"type\":\"CDSView\"},{\"attributes\":{},\"id\":\"1015\",\"type\":\"BasicTicker\"},{\"attributes\":{\"overlay\":{\"id\":\"1030\"}},\"id\":\"1028\",\"type\":\"LassoSelectTool\"},{\"attributes\":{\"axis\":{\"id\":\"1018\"},\"dimension\":1,\"ticker\":null},\"id\":\"1021\",\"type\":\"Grid\"},{\"attributes\":{},\"id\":\"1045\",\"type\":\"Title\"},{\"attributes\":{\"axis\":{\"id\":\"1014\"},\"ticker\":null},\"id\":\"1017\",\"type\":\"Grid\"},{\"attributes\":{\"formatter\":{\"id\":\"1050\"},\"major_label_policy\":{\"id\":\"1052\"},\"ticker\":{\"id\":\"1019\"}},\"id\":\"1018\",\"type\":\"LinearAxis\"},{\"attributes\":{},\"id\":\"1047\",\"type\":\"BasicTickFormatter\"},{\"attributes\":{\"callback\":null,\"tooltips\":[[\"author\",\"@author_names\"],[\"size\",\"@author_sizes\"]]},\"id\":\"1004\",\"type\":\"HoverTool\"},{\"attributes\":{},\"id\":\"1050\",\"type\":\"BasicTickFormatter\"},{\"attributes\":{},\"id\":\"1019\",\"type\":\"BasicTicker\"},{\"attributes\":{\"fill_alpha\":{\"value\":0.1},\"fill_color\":{\"value\":\"#1f77b4\"},\"line_alpha\":{\"value\":0.1},\"line_color\":{\"value\":null},\"radius\":{\"field\":\"radii\"},\"x\":{\"field\":\"x\"},\"y\":{\"field\":\"y\"}},\"id\":\"1042\",\"type\":\"Circle\"},{\"attributes\":{},\"id\":\"1052\",\"type\":\"AllLabels\"},{\"attributes\":{},\"id\":\"1049\",\"type\":\"AllLabels\"},{\"attributes\":{},\"id\":\"1006\",\"type\":\"DataRange1d\"},{\"attributes\":{\"data\":{\"author_names\":[\"A.A.Handzel\",\"A.Afghan\",\"A.B.Bonds\",\"A.B.Kirillov\",\"A.Blake\",\"A.C.C.Coolen\",\"A.C.Tsoi\",\"A.Cichocki\",\"A.D.Back\",\"A.D.Rexlish\",\"A.Dembo\",\"A.Drees\",\"A.During\",\"A.E.Friedman\",\"A.F.Murray\",\"A.Ferguson\",\"A.G.Barto\",\"A.G.U.Perera\",\"A.Gersho\",\"A.Grunewald\",\"A.H.L.West\",\"A.HarryKlopf\",\"A.Hartstein\",\"A.Horst\",\"A.J.Bell\",\"A.J.Holmes\",\"A.J.Robinson\",\"A.Jagota\",\"A.Jayakumar\",\"A.Juels\",\"A.K.Krishnamurthy\",\"A.Kowalczyk\",\"A.Kramer\",\"A.Krogh\",\"A.L.Yuille\",\"A.Linden\",\"A.M.Annaswamy\",\"A.Marcantonio\",\"A.Meyer-Baese\",\"A.MiguelSanMartin\",\"A.Moopenn\",\"A.N.Michel\",\"A.NellBurgess\",\"A.Orlitsky\",\"A.P.Dunmur\",\"A.P.Thakoor\",\"A.Pentland\",\"A.Pouget\",\"A.R.Bulsara\",\"A.Rangarajan\",\"A.Rao\",\"A.Sangiovanni-Vincentelli\",\"A.Sato\",\"A.Senior\",\"A.Sergejew\",\"A.Shustorovich\",\"A.U.Levin\",\"A.W.Moore\",\"A.Zador\",\"A.vanSchaik\",\"AapoHyvarinen\",\"AapoHyvarrinen\",\"AbirZahalka\",\"AchimStahlberger\",\"AdAertsen\",\"AdamJ.Grove\",\"AdamJ.Nucci\",\"AdamKowalczyk\",\"AdamKrzyzak\",\"AdamN.Mamelak\",\"AdamPrtigel-Bennett\",\"AdrianTrapletti\",\"AhChungTsoi\",\"AjayGupta\",\"AjayN.Jain\",\"AkayshaC.Tang\",\"AkioTanaka\",\"AkiraHayashi\",\"AkitoSakurai\",\"AlanBarr\",\"AlanBlair\",\"AlanD.Blair\",\"AlanD.Marts\",\"AlanEMurray\",\"AlanF.Murray\",\"AlanH.Barr\",\"AlanH.Kramer\",\"AlanJ.Harget\",\"AlanL.Yuille\",\"AlanLapedes\",\"AlanMurray\",\"AlanStocker\",\"AlanYuille\",\"AlbertoBertoni\",\"AlbertoSangiovanni-Vincentelli\",\"AldraWatanabe\",\"AlessandroSperduti\",\"AlexChemjavsky\",\"AlexJ.Smola\",\"AlexP.Pentland\",\"AlexPentland\",\"AlexRobel\",\"AlexSmola\",\"AlexT.Nelson\",\"AlexWaibel\",\"AlexanderDimitrov\",\"AlexanderGrunewald\",\"AlexanderJ.Smola\",\"AlexanderJourjine\",\"AlexanderLinden\",\"AlexanderMoopenn\",\"AlexanderRoitershtein\",\"AlexanderSinger\",\"AlexanderT.Ihler\",\"Alexandervon-zur-Muhlen\",\"AlexandrePouget\",\"AlfonsoRenart\",\"AliA.Minai\",\"AliH.Sayed\",\"AliceChiang\",\"AliceM.Chiang\",\"AlirezaKhotanzad\",\"AlisterHamilton\",\"AllenI.Selverston\",\"AllenM.Peterson\",\"AllenM.Waxman\",\"AlokeGuha\",\"AlvaroA.Cmz-Cabrara\",\"AlyssaApsel\",\"AmirAtiya\",\"AmirDembo\",\"AmirF.Atiya\",\"AmitManwani\",\"AmnonShashua\",\"AmnonYariv\",\"AmyMcGovern\",\"AnandRangarajan\",\"AndersKrogh\",\"AndreElisseeff\",\"AndreJ.Noest\",\"AndreLongtin\",\"AndreStechert\",\"AndreasG.Andreou\",\"AndreasHerz\",\"AndreasM.Bartels\",\"AndreasS.Weigend\",\"AndreasStafylopatis\",\"AndreasStolcke\",\"AndreasWeigend\",\"AndreasZiehe\",\"AndresRodriguez\",\"Andrevan-Schaik\",\"AndrewBack\",\"AndrewBlake\",\"AndrewD.Brown\",\"AndrewD.J.Cross\",\"AndrewG.Barto\",\"AndrewGee\",\"AndrewH.Gee\",\"AndrewHsu\",\"AndrewLippman\",\"AndrewM.Finch\",\"AndrewMoore\",\"AndrewR.Barron\",\"AndrewR.Webb\",\"AndrewS.Noetzel\",\"AndrewW.Moore\",\"AndrewY.Ng\",\"Andrfivan-Schaik\",\"AndrzejCichocki\",\"AnenGersho\",\"AnnaCorderoy\",\"AnnaMorpurgo\",\"AnsgarH.L.West\",\"Antalvan-den-Bosch\",\"AnthonyBell\",\"AnthonyBloesch\",\"AnthonyJ.Bell\",\"AnthonyJ.R.Heading\",\"AnthonyJayakumar\",\"AnthonyKuh\",\"AnthonyLaVigna\",\"AnthonyM.Zador\",\"AnthonyV.W.Smith\",\"AnthonyZador\",\"AntonGunzinger\",\"AntonSchwartz\",\"AntoninaStarita\",\"AntonioTuriel\",\"AnyaC.Hurlbert\",\"AnyaHurlbert\",\"AoZee\",\"ArchismartRudra\",\"ArlindoL.Oliveira\",\"ArmandoManduca\",\"ArnaudDoucet\",\"ArthurB.Markman\",\"ArthurFlexer\",\"ArthurMcNair\",\"AsaBen-Hut\",\"AsrielU.Levin\",\"AssafJ.Zeevi\",\"AtamP.Dhawan\",\"AthanasiosG.Tsirukis\",\"AthanassiosSiapas\",\"AudreyL.Guzik\",\"AvijitSaha\",\"AvnerPriel\",\"AvrimBlum\",\"AxelCleeremans\",\"AyhanDemiriz\",\"B.A.Golomb\",\"B.A.Pearlmutter\",\"B.Boser\",\"B.DasGupta\",\"B.Flower\",\"B.G.Home\",\"B.J.Frey\",\"B.Kingsbury\",\"B.Lemarie\",\"B.Linares-Barranco\",\"B.P.Yuhas\",\"B.Parmanto\",\"B.Ravindran\",\"B.Scholkopf\",\"B.V.K.VijayaKumar\",\"B.V.Roy\",\"B.W.Mel\",\"B.Yuhas\",\"BabackMoghaddam\",\"BabakHassibi\",\"BahramNabet\",\"BalazsKegl\",\"BarakA.Pearlmutter\",\"BarakPearlmutter\",\"BarbaraKlein\",\"BarbaraRosario\",\"BarbaraWold\",\"BarnbangParmanto\",\"BarryFlower\",\"BarryJ.Richmond\",\"BartlettMel\",\"BartlettW.Mel\",\"BehnaamAazhang\",\"BemdFritzke\",\"BenA.Marcotte\",\"BenNorth\",\"BenS.Wittner\",\"Benjaminvan-Roy\",\"BennyLautmp\",\"BenoitHuet\",\"BernardDoyon\",\"BernardVictorri\",\"BernardoA.Huberman\",\"BernardoHuberman\",\"Bernd-PeterParis\",\"BerndFritzke\",\"BernhardE.Boser\",\"BernhardScholkopf\",\"BernhardSchottky\",\"Bertde-Vries\",\"BertramE.Shi\",\"BhaskarDasGupta\",\"BhusanGupta\",\"BillBaird\",\"BillG.Home\",\"BillG.Horne\",\"BillHorne\",\"BimalMathur\",\"BjomLambrigsten\",\"BojanPetek\",\"BraceRosen\",\"BradleyA.Minch\",\"BradleyC.Love\",\"BradleyTonkes\",\"BradleyW.Dickinson\",\"BrandynWebb\",\"BrendaClaiborne\",\"BrendaJ.Claiborne\",\"BrendanJ.Frey\",\"BrianBox\",\"BrianD.McVey\",\"BrianRasnow\",\"BrianS.Blais\",\"BrianSallans\",\"BrianV.Bonnlander\",\"BrookeAnderson\",\"BrooksBisofberger\",\"BruceDow\",\"BruceE.Rosen\",\"BruceGraham\",\"BruceL.McNaughton\",\"BruceMacDonald\",\"BrunoA.Olshausen\",\"BrunoCaprile\",\"BrunoCessac\",\"ByronDom\",\"C.A.Mead\",\"C.A.Micchelli\",\"C.B.Miller\",\"C.C.Atkeson\",\"C.Cones\",\"C.D.Spence\",\"C.Darken\",\"C.E.Rasmussen\",\"C.E.Schreiner\",\"C.F.Beckmann\",\"C.I.Thorbergsson\",\"C.J.C.H.Watkins\",\"C.J.Heckman\",\"C.J.Wellekens\",\"C.K.I.Williams\",\"C.K.Sin\",\"C.Kenyon\",\"C.Koch\",\"C.L.Fry\",\"C.L.Giles\",\"C.L.Winter\",\"C.LeeGiles\",\"C.M.Bishop\",\"C.M.Marcus\",\"C.Neukirchen\",\"C.Nohl\",\"C.Stevens\",\"C.T.Abdallah\",\"C.W.H.Mace\",\"C.W.Thrasher\",\"CandaceKamm\",\"CarlE.Rasmussen\",\"CarlaBrodley\",\"CarlaJ.Shatz\",\"CarlosBrody\",\"CarlosD.Brody\",\"CarlosMejia\",\"CarreitSahar-Pikielny\",\"CarverA.Mead\",\"CarverMead\",\"CatherineE.Myers\",\"CatherineStevens\",\"CazhaowS.Qazaz\",\"CedricDeffayet\",\"CesareFurlanello\",\"Ch.Tietz\",\"Chan-doLee\",\"ChangfengWang\",\"ChanthalChatterjee\",\"CharlesENeugebauer\",\"CharlesElbaurn\",\"CharlesF.Stevens\",\"CharlesFefferman\",\"CharlesL.Isbell\",\"CharlesM.Higgins\",\"CharlesM.Marcus\",\"CharlesRosenberg\",\"CharlesSchley\",\"CharlesStein\",\"CharlesW.Anderson\",\"ChdstofKoch\",\"Chiang-JungPu\",\"Chien-PingLu\",\"ChienPingLu\",\"ChongGu\",\"ChrisDiorio\",\"ChrisJ.C.Burges\",\"ChrisM.Bishop\",\"ChrisMesterharm\",\"ChristianDarken\",\"ChristianLebiere\",\"ChristianPiepenbrock\",\"ChristianW.Eurich\",\"ChristianeLinster\",\"ChristofKoch\",\"ChristofSchofl\",\"ChristophBregler\",\"ChristophE.Schreiner\",\"ChristophSchaefers\",\"ChristopheAndrieu\",\"ChristopheK.I.Williams\",\"ChristopherAssad\",\"ChristopherAtkeson\",\"ChristopherBowman\",\"ChristopherConnolly\",\"ChristopherDonham\",\"ChristopherG.Atkeson\",\"ChristopherJ.C.Burges\",\"ChristopherJ.Matheus\",\"ChristopherJ.Merz\",\"ChristopherJ.Metz\",\"ChristopherK.I.Williams\",\"ChristopherL.Scofield\",\"ChristopherM.Bishop\",\"ChristopherWilliams\",\"Chuan-LinWu\",\"ChuanyiJi\",\"ChuckWooters\",\"ChulanKwon\",\"ClaireLegleye\",\"ClaudeNadeau\",\"ClaudineMasson\",\"ClaudioGentile\",\"ClausBenkert\",\"ClayD.Spence\",\"ClaySpence\",\"ClaytonMcMillan\",\"CliffordLau\",\"ClintS.Cole\",\"ColinCampbell\",\"ColinG.Windsor\",\"ColinHumphties\",\"ConradC.Galland\",\"CorM.van-den-Bleek\",\"CorinnaCortes\",\"CraigR.Nohl\",\"CraigT.Jin\",\"CristophBregler\",\"CsabaSzepesvfixi\",\"CtuistophNeukirchen\",\"CurtisPadgett\",\"CyrilLatimer\",\"D.B.Schwartz\",\"D.Brandeis\",\"D.Chen\",\"D.D.Coon\",\"D.D.Lee\",\"D.Geiger\",\"D.H.Ballard\",\"D.Hammerstrom\",\"D.Henderson\",\"D.J.Kershaw\",\"D.J.Willshaw\",\"D.Johnson\",\"D.Kontoravdis\",\"D.L.Standley\",\"D.Lippe\",\"D.M.Titterington\",\"D.MacKay\",\"D.Ormoneit\",\"D.P.Helmbold\",\"D.S.C.So\",\"D.S.Tang\",\"D.S.Touretzky\",\"D.Saad\",\"D.Shemngton\",\"D.Sherrington\",\"D.T.Lawrence\",\"D.W.Opitz\",\"D.Yeung\",\"DaleK.Lee\",\"DaleSchuurmans\",\"DanCornford\",\"DanHammerstrom\",\"DanRoth\",\"DanaH.Ballard\",\"DanaRon\",\"DanaZ.Anderson\",\"DanielB.Schwartz\",\"DanielD.Lee\",\"DanielH.Lange\",\"DanielJ.Rosen\",\"DanielKammen\",\"DanielKersten\",\"DanielL.Alkon\",\"DanielL.James\",\"DanielL.Ruderman\",\"DanielM.Kammen\",\"DanielM.Wolpert\",\"DanielNissman\",\"DanielPotter\",\"DanielRuderman\",\"DanielS.Clouse\",\"DanielSchwartz\",\"DanielWillett\",\"DaphnaWeinshall\",\"DaphneBavelier\",\"DaphneKoller\",\"DarkoStefanovic\",\"DarrellLaham\",\"DarrenMutz\",\"DaveGillespie\",\"DaviGeiger\",\"DavidA.Cohn\",\"DavidA.Kessler\",\"DavidA.Nix\",\"DavidA.Robinson\",\"DavidAndre\",\"DavidB.Grimes\",\"DavidB.Kirk\",\"DavidB.Parker\",\"DavidB.Rosen\",\"DavidBarber\",\"DavidBlackman\",\"DavidBrady\",\"DavidChapman\",\"DavidCohn\",\"DavidDeMers\",\"DavidE.Rumelhart\",\"DavidE.VandenBout\",\"DavidFeld\",\"DavidForsyth\",\"DavidG.Grier\",\"DavidG.Stork\",\"DavidG.Ward\",\"DavidGoodine\",\"DavidH.Ackley\",\"DavidH.Wolpert\",\"DavidHandelman\",\"DavidHaussler\",\"DavidHelmbold\",\"DavidHorn\",\"DavidJ.Burr\",\"DavidJ.C.MacKay\",\"DavidJ.Crisp\",\"DavidJ.Foster\",\"DavidJ.Miller\",\"DavidKirk\",\"DavidL.Bisset\",\"DavidL.Trotman\",\"DavidL.Waltz\",\"DavidLowe\",\"DavidMarsan\",\"DavidMarson\",\"DavidMcAllester\",\"DavidMontana\",\"DavidNix\",\"DavidPrice\",\"DavidRogers\",\"DavidRumelhart\",\"DavidS.Touretzky\",\"DavidSaad\",\"DavidScheeff\",\"DavidServan-Schreiber\",\"DavidShahian\",\"DavidSomers\",\"DavidStork\",\"DavidTam\",\"DavidTerman\",\"DavidTouretzky\",\"DavidVandenBout\",\"DavidW.Jacobs\",\"DavidWarland\",\"DavidWillshaw\",\"DavidWolpert\",\"DavidZipser\",\"DaweiDong\",\"DaweiW.Dong\",\"DeLiangL.Wang\",\"DeLiangWang\",\"DeanA.Pomerleau\",\"DeanBrettle\",\"DeanPomerleau\",\"DedreGentner\",\"DeirdreW.Wheeler\",\"DeirdreWheeler\",\"DemetrPsaltis\",\"DemetriPsaltis\",\"DemetriTerzopoulos\",\"DianeLitman\",\"DidierHerschkowitz\",\"DidierKeymeulen\",\"DiegoGiuliani\",\"DiegoSona\",\"DietrichLehmann\",\"DietrichWettschereck\",\"DimitriBertsekas\",\"DimitrisMargaritis\",\"DirkOrmoneit\",\"DirkTimmerman\",\"Dit-YanYeung\",\"DmitriB.Chklovskii\",\"DmitryRinberg\",\"DoinaPrecup\",\"DominikHornel\",\"DonBone\",\"DonMontgomery\",\"DonR.Hush\",\"DonaldB.Malkoff\",\"DonaldJ.Baxter\",\"DonaldMathis\",\"DonaldT.Freeman\",\"DongXiang\",\"DonghuiCai\",\"DonnieHenderson\",\"DorothyA.Mighell\",\"DougJohnson\",\"DougReeves\",\"DouglasBaumgardt\",\"DouglasKerns\",\"DouglasL.Reilly\",\"DouglasR.Martin\",\"E.Alpaydin\",\"E.D.Sontag\",\"E.Domany\",\"E.E.Fetz\",\"E.Ersu\",\"E.Erwin\",\"E.Fragniere\",\"E.Littmann\",\"E.Majani\",\"E.Mjolsness\",\"E.Niebur\",\"E.Pasero\",\"E.Vittoz\",\"E.W.Jacobs\",\"E.Zohary\",\"EHergert\",\"EMoss\",\"EWeber\",\"EalanA.Henis\",\"EberhardE.Fetz\",\"EdgarA.Brown\",\"EdmondoTrentin\",\"EdmundT.Rolls\",\"EduardSackinger\",\"EduardoD.Sontag\",\"EduardoSontag\",\"EdwardK.Blum\",\"EdwardReitman\",\"EdwardSchwartz\",\"EdwardStern\",\"EdwardW.Kairiss\",\"EdwardW.Page\",\"EdwinLewis\",\"EdwinR.Hancock\",\"EeroP.Simoncelli\",\"EgonC.Pasztor\",\"EilonVaadia\",\"EimeiOyama\",\"EinarSorheim\",\"EladSchneidman\",\"EliShamir\",\"ElieBienenstock\",\"EliotMoss\",\"ElizabethC.Behrman\",\"ElliotSinger\",\"EmadN.Eskandar\",\"EmanualV.Todorov\",\"EmanuelTodorov\",\"EmanuelaBricolo\",\"EmmanuelGuigon\",\"EnnioMingolla\",\"EnricoBocchieri\",\"EricA.Hansen\",\"EricA.Wan\",\"EricB.Baum\",\"EricBaum\",\"EricBoussard\",\"EricChang\",\"EricCosatto\",\"EricCourchesne\",\"EricD.Young\",\"EricFragniere\",\"EricGranger\",\"EricI.Chang\",\"EricI.Knudsen\",\"EricJohnson\",\"EricMjolsness\",\"EricPostma\",\"EricS.Reifsnider\",\"EricSaund\",\"EricSchnell\",\"EricVatikiotis-Bateson\",\"EricVittoz\",\"ErichJ.Smythe\",\"ErichWhitney\",\"ErikD.Lumer\",\"ErkkiOja\",\"ErnestFokoue\",\"ErnestWan\",\"ErnstNiebur\",\"EsterLevin\",\"EstherLevin\",\"EtanJ.Markus\",\"EtienneBarnard\",\"EugeneSantos\",\"EvanSteeg\",\"EveMarder\",\"EyalCohen\",\"EyalYair\",\"EytanDomany\",\"EytanRuppin\",\"F.B.Rodriguez\",\"F.Botelho\",\"F.D.Garber\",\"F.Fallside\",\"F.Gingras\",\"F.H.Schuling\",\"F.Ohl\",\"F.R.Waugh\",\"FabioSolari\",\"FabrizioGabbiani\",\"FangyuGao\",\"FedericoFaggin\",\"FedericoGirosi\",\"FerdinandPeper\",\"FerdinandoA.Mussa-Ivaldi\",\"FerdinandoMussa-lvaldi\",\"FernandaBotelho\",\"FernandoJ.Nunez\",\"FernandoJ.Pineda\",\"FernandoLozano\",\"FernandoPineda\",\"FlorisTakens\",\"FouadBadran\",\"FrancesS.Chance\",\"FrancescoVivarelli\",\"FrancisQuek\",\"FrankEeckman\",\"FrankH.Eeckman\",\"FrankMoss\",\"FrankWerblin\",\"FrankWilczek\",\"FranklinJ.Rudolph\",\"FranklinR.Arethor\",\"FransM.Coetzee\",\"FredRieke\",\"FredWolf\",\"FriedrichLeisch\",\"FriedrichLeiseh\",\"FriedrichT.Sommex\",\"Fu-ShengTsung\",\"FxnstR.Dow\",\"G.BjornChristianson\",\"G.Brightwell\",\"G.Cauwenberghs\",\"G.Dreyfus\",\"G.G.Blasdel\",\"G.Hinton\",\"G.Indiveri\",\"G.J.Goodhill\",\"G.J.Gordon\",\"G.J.Kacmarcik\",\"G.J.Zelinsky\",\"G.Jackson\",\"G.L.Heileman\",\"G.L.Martin\",\"G.M.Kuhn\",\"G.N.Borisyuk\",\"G.Rigoll\",\"G.T.Buracas\",\"G.T.Kenyon\",\"G.Towell\",\"G.W.Flake\",\"G.Z.Sun\",\"G.Zavaliagkos\",\"GadiPinkas\",\"GalChechik\",\"GaleL.Martin\",\"GaleMartin\",\"GarethJames\",\"GarrisonCottrell\",\"GarrisonW.Cottrell\",\"GaryBradshaw\",\"GaryCook\",\"GaryG.Blasdel\",\"GaryLynch\",\"GaryM.Kuhn\",\"GaryM.Scott\",\"GaryW.Flake\",\"GavinSmith\",\"GeneA.Tagliarini\",\"GeneBoe\",\"GeneGindi\",\"GenevieveB.Orr\",\"GennadyS.Cymbalyuk\",\"GeoffreyE.Hinton\",\"GeoffreyFox\",\"GeoffreyGoodhill\",\"GeoffreyHinton\",\"GeoffreyJ.Goodhill\",\"GeoffreyOrsak\",\"GeoffreyTowell\",\"GeorgBrabant\",\"GeorgDorffner\",\"GeorgSchnitger\",\"GeorgeLeeZimmerman\",\"GeorgeZavaliagkos\",\"GeraldFahner\",\"GeraldSommer\",\"GeraldTesauro\",\"GeraldineLegendre\",\"GerardDreyfus\",\"GerardinaHernandez\",\"GerhardPaass\",\"GerhardRigoll\",\"GermanMato\",\"GertCauwenberghs\",\"GezaGyorgyi\",\"GfintherPalm\",\"GiacomoM.Bisio\",\"GiancarloFerrari-Trecate\",\"GianlucaBontempi\",\"GianlucaDonato\",\"GideonDror\",\"GideonEInbar\",\"GilletteElvgren\",\"GillianMarshall\",\"GintamsV.Reklaitis\",\"GiovanniFlammia\",\"GirishN.Patel\",\"GlennMarion\",\"GraceWahba\",\"GregMartin\",\"GregoryE.Gonye\",\"GregoryECooper\",\"GregoryJ.Wolff\",\"GregoryM.Saunders\",\"GregoryR.Galperin\",\"GriffBilbro\",\"GrigorisKarakoulas\",\"GunnarRatsch\",\"Guo-ZhenSun\",\"Guo-ZhengSun\",\"GustavoDeco\",\"GuyJ.Brown\",\"GwendalLeMasson\",\"H.A.K.Mastebroek\",\"H.A.Rowley\",\"H.Attias\",\"H.Bolouri\",\"H.Bourlard\",\"H.C.Rae\",\"H.Drucker\",\"H.Ferni\",\"H.G.Zimmermann\",\"H.H.Chen\",\"H.L.Ferra\",\"H.Langenbacher\",\"H.MartinReekie\",\"H.N.Mhaskar\",\"H.Nakahara\",\"H.Ozaki\",\"H.P.Graf\",\"H.Pan\",\"H.R.Doyle\",\"H.Ritter\",\"H.S.Baird\",\"H.S.Seung\",\"H.Scheich\",\"H.Schwarze\",\"H.SebastianSeung\",\"H.T.Blair\",\"H.Tolle\",\"H.U.Bauer\",\"H.Wagner\",\"H.Wang\",\"H.Weissman\",\"H.Yang\",\"HagaiAttias\",\"HaimSompolinski\",\"HaimSompolinsky\",\"HalMcCartor\",\"HalbertWhite\",\"HalinaAbramowicz\",\"HananDavidowitz\",\"HangLi\",\"HansGeorgZimmermann\",\"HansHenrikThodberg\",\"HansP.Graf\",\"HansPeterGraf\",\"HansUlrichBauer\",\"HarelShouval\",\"HarrisDmcker\",\"HarrisDrucker\",\"HarrisonMonFookLeong\",\"HarryBurke\",\"HarryPrintz\",\"HarryWechsler\",\"HarveyKasdan\",\"HasanS.Uyar\",\"HavaT.Siegelmann\",\"HayitK.Greenspan\",\"HeikoNeumann\",\"HeinrichH.Bfilthoff\",\"HeinrichH.Btilthoff\",\"HeinzSchuster\",\"HelenePaugam-Moisy\",\"HelmutSchwegler\",\"HemantS.Kudrimoti\",\"HendricusG.Loos\",\"HenriAtlan\",\"HenrikBohr\",\"HenrikFredholm\",\"HerbertRoitblat\",\"HerbertWiklicky\",\"HermanFerra\",\"HermanVerrelst\",\"HermannHild\",\"HervdBourlard\",\"HerveBourlard\",\"Hi.Chiel\",\"HidekiNoda\",\"HidemitsuOgawa\",\"HideoKosaka\",\"HilaryTunley\",\"HilbertJ.Kappen\",\"HillelJ.Chiel\",\"HillelPratt\",\"HinrichSchfitze\",\"HiroakiGomi\",\"HiroakiSaito\",\"HirofumiMatsui\",\"HiroshiAndo\",\"HiroshiIshii\",\"HiroyukiNakahara\",\"HisashiSuzuki\",\"HolgerSchoner\",\"HolgerSchwenk\",\"HolmSchwarze\",\"HongC.Leung\",\"HongLeung\",\"HoracioFranco\",\"HorstBischof\",\"HosseinL.Najafi\",\"HowardH.Yang\",\"HowardHenry\",\"HowardKaushansky\",\"Hsing-HenChen\",\"HuguesBersini\",\"Hui-H.Hsu\",\"HuiTong\",\"HumbertSuarez\",\"Hung-LiTseng\",\"Hwang-SooLee\",\"HynekHermansky\",\"HyoungsooYoon\",\"I.Guyon\",\"I.Jouny\",\"I.M.Elfadel\",\"I.Pal\",\"I.Santoso\",\"IanParberry\",\"IanT.Nabney\",\"IdanSegev\",\"IdoKanter\",\"IgorGrebert\",\"Il-SongHan\",\"IlSongHan\",\"IngoSchiegl\",\"IraG.Smotroff\",\"IrfanEssa\",\"IrisGinzburg\",\"IsaacMeilijson\",\"IsabelleGuyon\",\"ItayGat\",\"J.A.Coelho\",\"J.A.F.Leite\",\"J.A.Farrell\",\"J.A.Marshall\",\"J.AllanHobson\",\"J.Alspector\",\"J.AnthonyMovshon\",\"J.B.Hampshire\",\"J.B.Tenenbaum\",\"J.Barhen\",\"J.Baxter\",\"J.Beck\",\"J.Bernasconi\",\"J.Bruck\",\"J.C.Hager\",\"J.C.Houk\",\"J.C.Jackson\",\"J.C.Pearson\",\"J.C.Platt\",\"J.D.Cowan\",\"J.D.Cowen\",\"J.Deppisch\",\"J.F.Shepanski\",\"J.G.Taylor\",\"J.Hajto\",\"J.Hertz\",\"J.J.Gelfand\",\"J.J.Hopfield\",\"J.JeffreyMahoney\",\"J.Kivinen\",\"J.Kramer\",\"J.L.Elman\",\"J.L.Huertas\",\"J.L.Wyatt\",\"J.L.vanHemmen\",\"J.Larsen\",\"J.Lazzaro\",\"J.LeovanHemmen\",\"J.Makhoul\",\"J.Moody\",\"J.N.Tsitsiklis\",\"J.PNadal\",\"J.S.Denker\",\"J.Schneider\",\"J.Shawe-Taylor\",\"J.Sirosh\",\"J.StephenJudd\",\"J.Szymanski\",\"J.T.Buckingham\",\"J.Tani\",\"J.VanderSpiegel\",\"J.W.Howse\",\"J.W.Shavlik\",\"J.Walter\",\"J.Wawrzynek\",\"J.Zhao\",\"JOrgBmske\",\"JaakkoHollmen\",\"JaapC.Schouten\",\"JackD.Cowan\",\"JackGelfand\",\"JackL.Gallant\",\"JackL.Meador\",\"JacobBarhen\",\"JacobEnglebrecht\",\"JacobErel\",\"JacquesGautrals\",\"JacquesJ.Vidal\",\"JacquesVidal\",\"JagmeetS.Kanwal\",\"JakeRyan\",\"JakobBernasconi\",\"JakobBohr\",\"JakubWejchert\",\"JamesA.Pittman\",\"JamesA.Reggia\",\"JamesA.Ritcey\",\"JamesA.Simmons\",\"JamesB.Burr\",\"JamesBeck\",\"JamesBower\",\"JamesC.Houk\",\"JamesD.Keeler\",\"JamesE.Steck\",\"JamesGlass\",\"JamesGlynn\",\"JamesGoodwin\",\"JamesHendler\",\"JamesHutchinson\",\"JamesJ.Knierim\",\"JamesK.Peterson\",\"JamesKeeler\",\"JamesL.McClelland\",\"JamesM.Bower\",\"JamesM.Coughlan\",\"JamesM.Goodwin\",\"JamesP.Callan\",\"JamesPittman\",\"JamesR.Cavanaugh\",\"JamesR.Mann\",\"JamesR.Williamson\",\"JamesS.Schwaber\",\"JamesT.Buchanan\",\"JamesWaskiewicz\",\"JanBen\",\"JanPuzicha\",\"JanVanderSpiegel\",\"JaneBromley\",\"JaneenAnderson\",\"JanetMetcalfe\",\"JanetWiles\",\"JaredLeinbach\",\"JashojibanBanik\",\"JasonSroka\",\"JasonWeston\",\"JavierMovellan\",\"JavierR.Movellan\",\"JawadA.Salehi\",\"JayAlexander\",\"JayDiamond\",\"Jean-BernardTheeten\",\"Jean-FranqoisIsabelle\",\"Jean-FranqoisVibert\",\"Jean-PierreNadal\",\"JeanRaysz\",\"JeanneC.Milostan\",\"JeanneTownsend\",\"JeffBilmes\",\"JeffG.Schneider\",\"JeffMellstrom\",\"JeffreyC.Lagarias\",\"JeffreyEMonaco\",\"JeffreyL.Elman\",\"JeffreyP.Sutton\",\"JeffreyR.LaFranchise\",\"JeffreyTeeters\",\"JehoshuaBruck\",\"Jen-LunYuan\",\"JenniferLund\",\"Jenq-NengHwang\",\"JensKohlmorgen\",\"JeremyFrank\",\"JeremyH.Holleman\",\"JeremyS.de-Bonet\",\"JeromeConnor\",\"JeromeFreidman\",\"JesperVedelsby\",\"JessicaD.Bayliss\",\"JetteRandlov\",\"JianWu\",\"JianfengFeng\",\"JillP.Mesirov\",\"JimAustin\",\"JimBergen\",\"JimChristian\",\"JimDonnett\",\"JimHawkins\",\"JimKeeler\",\"JimMann\",\"JimSchimert\",\"JinLuo\",\"JitendraMalik\",\"JoachimBuhmann\",\"JoachimM.Buhmann\",\"JoachimUtans\",\"JoaoF.G.de-Freitas\",\"JochenBraun\",\"JoeEisenberg\",\"JoeTebelskis\",\"JoelBert\",\"JoelRatsaby\",\"JofioF.G.de-Freitas\",\"JohannesFeulner\",\"JohnA.Hertz\",\"JohnAllman\",\"JohnB.Hampshire\",\"JohnBain\",\"JohnBaras\",\"JohnBridle\",\"JohnC.Pearson\",\"JohnC.Platt\",\"JohnCavazos\",\"JohnD.Uhley\",\"JohnDenker\",\"JohnE.Hogden\",\"JohnE.Moody\",\"JohnE.W.Mayhew\",\"JohnEHoude\",\"JohnF.Kolen\",\"JohnG.Harris\",\"JohnG.Milton\",\"JohnGrace\",\"JohnH.Holland\",\"JohnHaggerty\",\"JohnHershey\",\"JohnHertz\",\"JohnJ.Hopfield\",\"JohnK.Douglass\",\"JohnK.Williams\",\"JohnKassebaum\",\"JohnKennedy\",\"JohnKolen\",\"JohnKruschke\",\"JohnL.Wyatt\",\"JohnLazzaro\",\"JohnLoch\",\"JohnMakhoul\",\"JohnMoody\",\"JohnN.Tsitsiklis\",\"JohnO'Keefe\",\"JohnP.Donoghue\",\"JohnP.Miller\",\"JohnPearson\",\"JohnPerry\",\"JohnPlatt\",\"JohnS.Bridle\",\"JohnS.Denker\",\"JohnS.Pezaris\",\"JohnShawe-Taylor\",\"JohnW.Fisher\",\"JohnW.Miller\",\"JohnWawrzynek\",\"JohnY.Cheung\",\"JonTombs\",\"JonathanA.Marshall\",\"JonathanBachrach\",\"JonathanBaxter\",\"JonathanD.Cohen\",\"JonathanL.Shapiro\",\"JonathanQ.Li\",\"Jong-HoonOh\",\"JoosVandewalle\",\"JordanB.Pollack\",\"JordanPollack\",\"JorgKindermann\",\"JoseA.B.Fortes\",\"JoseAmbros-Ingerson\",\"JoseC.Principe\",\"JosePrincipe\",\"JosefP.Rauschecker\",\"JosefSkrzypek\",\"JosefZeitlhofer\",\"JosefZihl\",\"JosephB.Keller\",\"JosephC.Hager\",\"JosephCollard\",\"JosephDao\",\"JosephG.Malpeli\",\"JosephO.Ruanaidh\",\"JosephPolifroni\",\"JosephSill\",\"JosephSirosh\",\"JosephW.Goodman\",\"JoshI.Gold\",\"JoshuaAlspector\",\"JoshuaB.Tenenbaum\",\"JoshuaChover\",\"JoshuaTenenbaum\",\"JoumanaGhosn\",\"JoydeepGhosh\",\"Ju-SeogJang\",\"JuanK.Lin\",\"JudeShavlik\",\"JudeW.Shavlik\",\"JuergenFritsch\",\"JuergenSchmidhuber\",\"JuliaBorger\",\"JunZhang\",\"Jung-WookCho\",\"JurgenHollatz\",\"JurgenSchmidhuber\",\"JustinA.Boyan\",\"JustinBoyan\",\"JustinianRosca\",\"Jyh-MingKuo\",\"JyrldKivinen\",\"K.Asanovic\",\"K.Boahen\",\"K.Doya\",\"K.Fukumizu\",\"K.Homik\",\"K.I.Diamantaras\",\"K.J.Cherkauer\",\"K.JarrodMillman\",\"K.Mueller\",\"K.Obermayer\",\"K.Pawelzik\",\"K.Rose\",\"K.Schulten\",\"K.VenkateshPrasad\",\"K.Y.Goldberg\",\"K.Y.MichaelWong\",\"K.Y.Siu\",\"K.Yamada\",\"KaganTumer\",\"KaganTurner\",\"KahKaySung\",\"Kai-YeungSiu\",\"KalanitGrillSpector\",\"KamilA.Grajski\",\"KanBoonyanit\",\"KariTorkkola\",\"KarlGustafson\",\"KarlGustarson\",\"KaroJim\",\"KarvelK.Thomber\",\"KatalinM.Gothard\",\"KathrynLaskey\",\"KazuhikoYokosawa\",\"KazukiJoe\",\"KazumiSaito\",\"KeChen\",\"KechenZhang\",\"Ken-ichiIso\",\"KenHsu\",\"KenjiDoya\",\"KenjiMatsumoto\",\"KennethA.Norman\",\"KennethD.Miller\",\"KennethKreutz-Delgado\",\"KennethM.Buckland\",\"KennethMarko\",\"KennethY.Tsai\",\"KennethZeger\",\"KenneyNg\",\"KevinA.Archie\",\"KevinCummings\",\"KevinE.Martin\",\"KevinJ.Lang\",\"KevinJ.Moon\",\"KevinLang\",\"KevinP.Murphy\",\"KevinR.Farrell\",\"KevinR.Wheeler\",\"KhalidChoukri\",\"Ki-ChulKim\",\"KimmoKiviluoto\",\"KiyoshiHonda\",\"Klaus-R.Muller\",\"Klaus-RobertMilllet\",\"Klaus-RobertMuller\",\"KlausObermayer\",\"KlausPawelzik\",\"KlausPrank\",\"KlausR.Pawelzik\",\"KlausSchulten\",\"KnutMoller\",\"KoSakai\",\"KojiKotani\",\"KongKritayakirana\",\"KristRoginski\",\"KristinBennett\",\"KristinaJohnson\",\"KukjinKang\",\"KunihikoIizuka\",\"KurtFleischer\",\"KurtHomik\",\"KurtHornik\",\"KurtR.Smith\",\"KwabenaA.Boahen\",\"KwokFaiHui\",\"L.A.Akers\",\"L.Bottou\",\"L.C.Dixon\",\"L.C.Parra\",\"L.D.Jackel\",\"L.F.Abbott\",\"L.K.Hansen\",\"L.K.Saul\",\"L.Personnaz\",\"L.Pessoa\",\"L.Q.Zhang\",\"L.RichardCarley\",\"L.S.Smith\",\"L.Wu\",\"L.Xu\",\"L.Y.Pratt\",\"LB.Shuvalova\",\"LanceC.Walton\",\"LanceM.Optican\",\"LanceR.Williams\",\"LanceWu\",\"LarryYaeger\",\"LarsKaiHansen\",\"LarsSchwabe\",\"LasseHolmstrom\",\"LauraMartignon\",\"LauranceT.Maloney\",\"LaurensLeerink\",\"LaurensR.Leerink\",\"LaurentItti\",\"LawrenceD.Jackel\",\"LawrenceDavis\",\"LawrenceK.Saul\",\"LawrenceSaul\",\"LeemonBaird\",\"LeemonC.Baird\",\"LehelCsato\",\"LeiXu\",\"LeifH.Finkel\",\"LeonBottou\",\"LeonN.Cooper\",\"LeonPersonnaz\",\"LeonS.Sterling\",\"LeonardG.C.Hamey\",\"LeonidKruglyak\",\"LesAtlas\",\"LesE.Atlas\",\"LfionPersonnaz\",\"LidrorTroyansky\",\"LinaL.E.Massone\",\"LindaKaufman\",\"LindaKukolich\",\"LionelTarassenko\",\"LiqingZhang\",\"LiuKe\",\"LizhongWu\",\"LlewMason\",\"LloydWatts\",\"LorienY.Pratt\",\"LouisCeci\",\"LouiseOsterholtz\",\"LucasC.Parra\",\"LucasParra\",\"LuciaM.Vaina\",\"LuckyVidmar\",\"LucyE.Hadden\",\"LyleJ.Borg-Graham\",\"LyndonJ.Brown\",\"LynetteHirschman\",\"LynneKiorpes\",\"M.A.Jabri\",\"M.A.Mahowald\",\"M.AnthonyLewis\",\"M.Blatt\",\"M.Cekic\",\"M.Dale\",\"M.Deweese\",\"M.Dikaiakos\",\"M.Finke\",\"M.Garzon\",\"M.Gilloux\",\"M.H.Goldstein\",\"M.Hasselmo\",\"M.Herbster\",\"M.I.Jordan\",\"M.Isard\",\"M.J.Denham\",\"M.J.Rose\",\"M.Jabri\",\"M.K.Warmuth\",\"M.Kadirkamanathan\",\"M.Kearns\",\"M.Konishi\",\"M.Leroux\",\"M.M.Hayhoe\",\"M.M.Hochberg\",\"M.Mahowald\",\"M.Marchand\",\"M.Meila\",\"M.Niranjan\",\"M.Pavel\",\"M.R.Walker\",\"M.Revow\",\"M.S.Bartlett\",\"M.Schenkel\",\"M.Svensen\",\"M.V.Solodov\",\"M.Veloso\",\"M.W.Craven\",\"M.W.Pealersen\",\"M.Wattenberg\",\"MagnusRattray\",\"MagnusStensmo\",\"MahesanNiranjan\",\"MaheshVaranasi\",\"MakotoHirayama\",\"MalcolmSlaney\",\"MalikMagdon-Ismail\",\"ManceHarmon\",\"ManeeshSahani\",\"ManfredK.Warmuth\",\"ManfredOpper\",\"ManoelF.Tenorio\",\"ManoelFernandoTenorio\",\"ManuelF.Fernandez\",\"ManuelSamuelides\",\"Marc-OlivierCoppens\",\"MarcH.Cohen\",\"MarcLoinaz\",\"MarcellaA.McClure\",\"MarcelloPelillo\",\"MarcusFrean\",\"MarcusHeld\",\"MarcusHennecke\",\"MargaretSereno\",\"MarianS.Bartlett\",\"MarianStewartBartlett\",\"MarilynWalker\",\"MarinaMeila\",\"MarioBlaum\",\"MarioMarchand\",\"MarioP.Vecchi\",\"MarissaWesterfield\",\"MariusUsher\",\"Mark.RSydorenko\",\"MarkA.Gluck\",\"MarkA.Rubin\",\"MarkDerthick\",\"MarkE.Nelson\",\"MarkFanty\",\"MarkGerules\",\"MarkGluck\",\"MarkHoller\",\"MarkKvale\",\"MarkMathieson\",\"MarkOllila\",\"MarkPlutowski\",\"MarkRing\",\"MarkSaffman\",\"MarkSitton\",\"MarkW.Goudreau\",\"MarkWhite\",\"MarkZlochin\",\"MarkusLappe\",\"MarkusMeister\",\"MarkusSchenkel\",\"MarkusSvensen\",\"MarleneBehrmann\",\"MarshallFlax\",\"MarthaFarah\",\"MartinHammer\",\"MartinI.Sereno\",\"MartinJ.Johnson\",\"MartinJ.McKeown\",\"MartinJ.Wainwright\",\"MartinLades\",\"MartinMaechler\",\"MartinRiedmiller\",\"MartinRoscheisen\",\"MartinS.Glassman\",\"MartinSereno\",\"MartinStemmler\",\"MartinStetter\",\"MartineNaillon\",\"Martinede-Gerlache\",\"MarvinLuttges\",\"MarwanA.Jabri\",\"MarwanJabd\",\"MarwanJabri\",\"MaryB.Oftaway\",\"MaryE.T.Boyle\",\"MaryTabasko\",\"Masa-akiSato\",\"MasahikoHamno\",\"MasashiSugiyama\",\"MasayukiMiyamoto\",\"MasazumiKatayama\",\"MassimoSivilotti\",\"MassoudOmidvar\",\"MathiasQuoy\",\"MatsOsterberg\",\"MattMelton\",\"MatthewA.Wilson\",\"MatthewBrand\",\"MatthewJ.Beal\",\"MatthewM.Williamson\",\"MatthewN.Dailey\",\"MatthewSaffell\",\"MatthiasBurger\",\"MatthiasScholz\",\"MatthiasSeeger\",\"MattiHamalainen\",\"MauriceLee\",\"MauriceMilgram\",\"MauroBirattari\",\"MaxGarzon\",\"MaximilianRiesenhuber\",\"MazinRahim\",\"MelanieMitchell\",\"MenasheDornay\",\"Meng-JangLin\",\"MicahS.Siegel\",\"MichaelA.Glover\",\"MichaelBrownlow\",\"MichaelBurl\",\"MichaelC.Crair\",\"MichaelC.Mozer\",\"MichaelChuang\",\"MichaelCohen\",\"MichaelD.Revow\",\"MichaelDuff\",\"MichaelE.Hasselmo\",\"MichaelE.Levemon\",\"MichaelE.Tipping\",\"MichaelFinke\",\"MichaelFleisher\",\"MichaelG.Dyer\",\"MichaelG.Paulin\",\"MichaelGasser\",\"MichaelHasselmo\",\"MichaelHormel\",\"MichaelHumphreys\",\"MichaelI.Jordan\",\"MichaelI.Miller\",\"MichaelIsard\",\"MichaelJ.Berry\",\"MichaelJ.Carter\",\"MichaelJ.Pazzani\",\"MichaelJordan\",\"MichaelKearns\",\"MichaelKocheisen\",\"MichaelL.Chuang\",\"MichaelL.Littman\",\"MichaelLemmon\",\"MichaelLittman\",\"MichaelM.Merzenich\",\"MichaelMckenna\",\"MichaelMozer\",\"MichaelMurray\",\"MichaelO.Duff\",\"MichaelP.Perrone\",\"MichaelP.Stryker\",\"MichaelP.Weisend\",\"MichaelPhillips\",\"MichaelR.Berthold\",\"MichaelRecce\",\"MichaelRossen\",\"MichaelS.Gray\",\"MichaelS.Lewicki\",\"MichaelSchmitt\",\"MichaelSeibert\",\"MichaelT.Gately\",\"MichaelTunnon\",\"MichaelWennan\",\"MichaelZibulevsky\",\"MichailZak\",\"MichalMorciniec\",\"MichelCrepon\",\"MichelKerszberg\",\"MichiakiTaniguchi\",\"MichielNoordewier\",\"MichioNakashima\",\"MichiroNegishi\",\"MiguelA.Carreira-Perpinan\",\"MikeE.U.Smith\",\"MikeHochberg\",\"MikeSchuster\",\"MikeWynne-Jones\",\"Ming-HsuanYang\",\"Ming-TakLeung\",\"MinoruAsogawa\",\"MiriamSchulte\",\"MirtaB.Gordon\",\"MishaMahowald\",\"MishaPavel\",\"MitchellGilMaltenfort\",\"MitsuoKawato\",\"MitsuoKomura\",\"MohamedEl-Sharkawi\",\"MohammadA.Al-Ansari\",\"Mohammed-AbdelGhani\",\"MoiseH.Goldstein\",\"MonikaWoszczyna\",\"MosfeqRashid\",\"MosheKaro\",\"MosheSipper\",\"MostefaGolea\",\"MottenPedersen\",\"N.Barkai\",\"N.E.Berthier\",\"N.Fukumura\",\"N.H.Wulff\",\"N.Kamnanithi\",\"N.Morgan\",\"N.Murata\",\"N.N.Schraudolph\",\"N.S.Skantzos\",\"N.Toomarian\",\"NadaE.Matic\",\"NaftaliTishby\",\"NandaKambhatla\",\"NaohiroFukumura\",\"NaomiTakahashi\",\"NaonoriUeda\",\"NarendraAhuja\",\"NathanH.Brown\",\"NathanIntrator\",\"NebojsaJojic\",\"NeilBurgess\",\"NeilLawrence\",\"NelloCristianini\",\"NelsonMorgan\",\"NestorParga\",\"NevinL.Zhang\",\"NiallMcLoughlin\",\"NicholasCamevale\",\"NicholasD.Socci\",\"NicholasJ.Adams\",\"NicholasJ.Redding\",\"NicholasR.Howe\",\"NicholasRoy\",\"NicholasS.Flann\",\"NickLittlestone\",\"NicolN.Schraudolph\",\"NicolSchraudolph\",\"NigelDuffy\",\"NigelM.Allinson\",\"NikhilBhushan\",\"NikosLogothetis\",\"NikzadToomarian\",\"NirFriedman\",\"NirLevy\",\"NirmalaRamanujam\",\"NoamSlonim\",\"NoboruMumta\",\"NoboruMurata\",\"NobuoSuematsu\",\"NorbertoM.Grzywacz\",\"NormanYarvin\",\"NunoVasconcelos\",\"NuriaOliver\",\"O.Farotimi\",\"O.I.Tsioutsias\",\"O.J.M.Coenen\",\"O.L.Mangasarian\",\"O.Miller\",\"OdedMaron\",\"OdeliaSchwartz\",\"OferMatan\",\"OferZeitouni\",\"OjvindBernander\",\"OleWinther\",\"OliverB.Downs\",\"OliverLandolt\",\"OliverMihatsch\",\"OlivierBernier\",\"OlivierChapelle\",\"OlivierCoenen\",\"OttoSchmidbauer\",\"P.A.Chou\",\"P.A.Viola\",\"P.Anandan\",\"P.Auer\",\"P.Baldi\",\"P.Campbell\",\"P.Dayan\",\"P.Ekman\",\"P.JonathonPhillips\",\"P.K.Ko\",\"P.Kaye\",\"P.Koiran\",\"P.L.Bartlett\",\"P.Leong\",\"P.N.Sabes\",\"P.R.Montague\",\"P.ReadMontague\",\"P.S.Bradley\",\"P.S.Krishnaprasad\",\"P.Sollich\",\"P.Stone\",\"P.Tino\",\"P.W.Munro\",\"PaatRusmevichiemong\",\"PadhraicSmyth\",\"PanayiotaPoirazi\",\"PaolaCampadelli\",\"PaoloFrasconi\",\"PaoloGaudiano\",\"ParryHusbands\",\"ParthaNiyogi\",\"PatLangdon\",\"PatricK.Stanton\",\"PatriceSimard\",\"PatriceY.Simard\",\"PatrickAgin\",\"PatrickGallinari\",\"PatrickHaffner\",\"PatrickMoore\",\"PatrikHoyer\",\"PaulA.Viola\",\"PaulBeckman\",\"PaulBourgine\",\"PaulChristy\",\"PaulDean\",\"PaulEkman\",\"PaulHasler\",\"PaulM.Chau\",\"PaulMineiro\",\"PaulMueller\",\"PaulMunro\",\"PaulNachtigall\",\"PaulR.Cooper\",\"PaulRhodes\",\"PaulRodriguez\",\"PaulS.Haynes\",\"PaulSajda\",\"PaulSmolensky\",\"PaulStolorz\",\"PaulUtgoff\",\"PaulViola\",\"PaulW.Goldberg\",\"PaulW.Munro\",\"PavelLaskov\",\"PedroA.d.F.R.Hojen-Sorensen\",\"PedroGuedesde-Oliveira\",\"PekkaOrponen\",\"PenttiKanerva\",\"PeterAdorjan\",\"PeterBartlett\",\"PeterBollmann-Sdorra\",\"PeterD.Lawrence\",\"PeterDayan\",\"PeterE.Latham\",\"PeterF.Rowat\",\"PeterFoltz\",\"PeterJ.Angeline\",\"PeterJ.Edwards\",\"PeterKazlas\",\"PeterL.Bartlett\",\"PeterM.Williams\",\"PeterMarbach\",\"PeterN.Prokopowicz\",\"PeterN.Steinmetz\",\"PeterRappelsberger\",\"PeterSollich\",\"PeterSykacek\",\"PeterT.Szymanski\",\"PeterTifio\",\"PetriKoistinen\",\"PhilKohn\",\"PhilipH.Goodman\",\"PhilipJ.Holmes\",\"PhilipM.Long\",\"PhilippHiffiiger\",\"PhilippeO.Pouliquen\",\"PhillipAlvelda\",\"PieroCosi\",\"PierreBaldi\",\"PierreBand\",\"PierreBaraduc\",\"PietroPerona\",\"PingZhou\",\"PoHsiangChu\",\"PrahladGupta\",\"QingnanLi\",\"R.A.Grupen\",\"R.A.Pearson\",\"R.AndrewMcCallum\",\"R.C.Williamson\",\"R.Caruana\",\"R.ChristopherdeCharms\",\"R.Chu\",\"R.D.Beer\",\"R.D.Griffin\",\"R.D.Puff\",\"R.Dodier\",\"R.DouglasMartin\",\"R.E.Howard\",\"R.E.Jenkins\",\"R.E.Ritzmann\",\"R.Erlanson\",\"R.Etienne-Cummings\",\"R.Gourley\",\"R.H.Crites\",\"R.H.Koch\",\"R.Hofmann\",\"R.J.Wang\",\"R.Janow\",\"R.K.Alley\",\"R.Kaihara\",\"R.Kempter\",\"R.Lee\",\"R.M.Borisyuk\",\"R.M.Peterson\",\"R.M.Westervelt\",\"R.Meir\",\"R.Miikkulainen\",\"R.Neuneier\",\"R.P.N.Rao\",\"R.R.Snapp\",\"R.R.de-Ruyter-van-Steveninck\",\"R.S.Hubbard\",\"R.S.Peterson\",\"R.S.Sutton\",\"R.Schwartz\",\"R.Sitaramen\",\"R.T.Edwards\",\"R.Tibshirani\",\"R.TimothyEdwards\",\"R.W.Penney\",\"R.Zecchina\",\"RadekGrzeszczuk\",\"RadfordM.Neal\",\"RafaelMalach\",\"RahulSarpeshkar\",\"RailKompe\",\"RainerGoebel\",\"RainerMalaka\",\"RajeshP.N.Rao\",\"RajeshRao\",\"RalfHerbrich\",\"RalfWessel\",\"RalphEtienne-Cummings\",\"RalphLinsker\",\"RalphM.Siegel\",\"RalphNeuneier\",\"RalphPenner\",\"RalphWolf\",\"RamaChellappa\",\"RanEl-Yaniv\",\"RandallC.O'Reilly\",\"RandallD.Beer\",\"RandallR.Spangler\",\"RaoulTawel\",\"RaphaelFeraud\",\"RaviK.Sharma\",\"RaymondJ.Mooney\",\"RaymondJ.W.Wang\",\"RaymondL.Watrous\",\"RebeccaCastafio\",\"RebeccaRichards-Kortum\",\"RegisCardin\",\"ReidR.Harrison\",\"ReimarHofmann\",\"ReimarHolmann\",\"ReinerLenz\",\"ReinhardBlasig\",\"ReinholdMann\",\"RembrandtBakker\",\"RemiMunos\",\"RenatoDe-Mori\",\"RenatoVicente\",\"RezaShadmehr\",\"RicardoA.MarquesPereira\",\"RicardoVigario\",\"RichCamana\",\"RichCaruana\",\"RichardA.Andersen\",\"RichardC.Wilson\",\"RichardC.Windecker\",\"RichardCoggins\",\"RichardEhman\",\"RichardFozzard\",\"RichardG.M.Morris\",\"RichardGolden\",\"RichardGranger\",\"RichardH.Lathrop\",\"RichardJ.Coggins\",\"RichardJ.Mammone\",\"RichardK.Belew\",\"RichardKempter\",\"RichardLadnet\",\"RichardLehrer\",\"RichardLippmann\",\"RichardLyon\",\"RichardM.Golden\",\"RichardO.Duda\",\"RichardP.Lippmann\",\"RichardRohwer\",\"RichardS.Sutton\",\"RichardS.Zemel\",\"RichardSchwartz\",\"RichardSutton\",\"RichardT.J.Bostock\",\"RichardWolniewicz\",\"RichardZemel\",\"RiittaHari\",\"RistoMiikkulainen\",\"RitaVenturini\",\"Robde-Ruyter-van-Steveninck\",\"RobertA.Jacobs\",\"RobertAllen\",\"RobertB.Allen\",\"RobertB.Darling\",\"RobertB.Pinter\",\"RobertC.Eaton\",\"RobertC.Williamson\",\"RobertCrites\",\"RobertCunningham\",\"RobertE.Druzinsky\",\"RobertE.Schapire\",\"RobertFarber\",\"RobertFrye\",\"RobertH.Dodier\",\"RobertJ.Adler\",\"RobertJ.Marks\",\"RobertJacobs\",\"RobertL.Tokar\",\"RobertMoll\",\"RobertSchapire\",\"RobertSnapp\",\"RobertTibshitani\",\"RobertWilliamson\",\"RobertoPieraccini\",\"RodericGinpen\",\"RoderickMurray-Smith\",\"RodneyCotterill\",\"RodneyDouglas\",\"RodneyGoodman\",\"RodneyJ.Douglas\",\"RodneyM.Goodman\",\"RodolfoMilito\",\"RogerCheng\",\"RogerShepard\",\"RolfD.Henkel\",\"RolfEckmiller\",\"RonKeesing\",\"RonL.Rivest\",\"RonMeir\",\"RonPapka\",\"Ronald.Rivest\",\"RonaldA.Cole\",\"RonaldA.Sumida\",\"RonaldCole\",\"RonaldG.Benson\",\"RonaldH.Silverman\",\"RonaldJ.Williams\",\"RonaldKlein\",\"RonaldL.Calabrese\",\"RonaldL.Rivest\",\"RonaldM.Harris-Warrick\",\"RonaldParr\",\"RonaldRosenfeld\",\"RonaldSverdlove\",\"RonenBasri\",\"RonnyMeir\",\"RoopakShah\",\"Rudolphvan-der-Merwe\",\"RussellH.Lambert\",\"RuthErlanson\",\"RuthJ.Williams\",\"RuthRosenholtz\",\"RyoheiNakano\",\"RyojiSuzuki\",\"RyotaroKamimura\",\"S.A.Macy\",\"S.A.Seinenov\",\"S.A.Solla\",\"S.Amari\",\"S.Baluja\",\"S.Boes\",\"S.C.Ahalt\",\"S.C.Kremer\",\"S.Churcher\",\"S.E.Hihi\",\"S.Finch\",\"S.G.Lisberger\",\"S.Gold\",\"S.Hadjffaradji\",\"S.Haghighi\",\"S.J.Hanson\",\"S.K.Khanna\",\"S.K.Riis\",\"S.L.McCabe\",\"S.Lawrence\",\"S.Liu\",\"S.M.Omohundro\",\"S.M.Rueget\",\"S.Makeig\",\"S.N.Laughton\",\"S.P.M.Choi\",\"S.P.Singh\",\"S.Pappu\",\"S.Pickard\",\"S.R.H.Joseph\",\"S.R.Waterhouse\",\"S.Rehfuss\",\"S.Sahar\",\"S.SathiyaKeerthi\",\"S.Schaal\",\"S.SidneyFels\",\"S.Sundararajan\",\"S.Thrun\",\"S.Wiseman\",\"S.Yasui\",\"S.Yu\",\"SachaB.Nelson\",\"SaeedHadjifaradji\",\"SamRoweis\",\"SamT.Roweis\",\"SamuelP.M.Choi\",\"SamyBengio\",\"SandeepGulati\",\"SandraPanizza\",\"Sang-YungShin\",\"SanjayBiswas\",\"SantoshS.Venkatesh\",\"SantoshVenkatesh\",\"SaraA.Solla\",\"SaraSolla\",\"SatinderP.Singh\",\"SatinderSingh\",\"SatoruShiono\",\"SatoshiSuzuki\",\"SatoshiYamada\",\"SatoshiYamaria\",\"SayanMukherjee\",\"SayandevMukherjee\",\"ScottDavies\",\"ScottE.Fahlman\",\"ScottFahlman\",\"ScottKirkpatrick\",\"ScottMakeig\",\"ScottMarkel\",\"ScottRickard\",\"ScrenHalkjaer\",\"SeanD.Murphy\",\"SebastianB.Thrun\",\"SebastianMika\",\"SebastianRisau-Gusman\",\"SebastianThmn\",\"SebastianThrun\",\"SehoOh\",\"SeiMiyake\",\"SenSong\",\"SeppHochreiter\",\"SergeyIoffe\",\"SethuVijayahunar\",\"ShaiFine\",\"ShamKakade\",\"ShanParfitt\",\"SharadSinghal\",\"ShaulHochstein\",\"ShawnR.Lockery\",\"SheilaKannappan\",\"SheldonGilbert\",\"ShellyGoggin\",\"ShengMa\",\"SheriL.Gish\",\"SherifBotros\",\"SherrylTomboulian\",\"ShigemTanaka\",\"ShigeruTanaka\",\"Shih-ChengYen\",\"Shih-ChiiLiu\",\"ShimonEdelman\",\"ShimonUllman\",\"ShinIshii\",\"ShinichiSakata\",\"ShiroIkeda\",\"ShivakumarVaithyanathan\",\"ShlomoZilberstein\",\"ShujiYoshizawa\",\"ShumeetBaluja\",\"Shun-ichiAmari\",\"SiWu\",\"SiegfriedBos\",\"SilvioP.Sabatini\",\"SimonCarlile\",\"SimonDennis\",\"SimonJ.Thorpe\",\"SmartGeman\",\"SmartRussell\",\"SongLi\",\"Soo-YoungLee\",\"SophieDeneve\",\"SorenBrunak\",\"SowmyaRamachandran\",\"SreerupaDas\",\"SrinageshSatyanarayana\",\"StefanD.Wilke\",\"StefanHeil\",\"StefanKnerr\",\"StefanManke\",\"StefanSchaal\",\"StefanoMonti\",\"SteffenPetersen\",\"SteliosM.Smimakis\",\"StellaX.Yu\",\"StephanLuna\",\"StephanPareigis\",\"StephaneCanu\",\"StephanieForrest\",\"StephanieSeneft\",\"StephenA.Fisher\",\"StephenChurcher\",\"StephenCox\",\"StephenG.Lisberger\",\"StephenGrossberg\",\"StephenHanson\",\"StephenJ.Hanson\",\"StephenJoseHanson\",\"StephenJudd\",\"StephenLane\",\"StephenM.Omohundro\",\"StephenOmohundro\",\"StephenP.DeWeerth\",\"StephenPiche\",\"StephenPickard\",\"SteveCttien\",\"SteveGyger\",\"SteveMims\",\"SteveRenals\",\"SteveWaterhouse\",\"StevenA.Harp\",\"StevenBradtke\",\"StevenE.Golowich\",\"StevenGold\",\"StevenJ.Bradtke\",\"StevenJ.Nowlan\",\"StevenNowlan\",\"StevenR.Skinner\",\"StevenS.Watkins\",\"StuartMackie\",\"SubutaiAhmad\",\"SugunaPappu\",\"SuguruArimoto\",\"SumioWatanabe\",\"SusanCiarroccaLee\",\"SusumuTachi\",\"SuthepMadarasmi\",\"SuzannaBecker\",\"SvenKoenig\",\"SvilenTzonev\",\"SylvieRenaud-LeMasson\",\"SylvieRyckebusch\",\"SylvieThiria\",\"T.D.Albright\",\"T.Darrell\",\"T.Delbruck\",\"T.Downs\",\"T.Duong\",\"T.Flash\",\"T.Furukawa\",\"T.G.Dietterich\",\"T.Geisel\",\"T.Hastie\",\"T.J.Sejnowski\",\"T.Jaakkola\",\"T.Jung\",\"T.Kailath\",\"T.Kanade\",\"T.Lin\",\"T.Maxwell\",\"T.Mitchell\",\"T.Morimoto\",\"T.Nakai\",\"T.Ohmi\",\"T.P.Allen\",\"T.Petsehe\",\"T.Rebotier\",\"T.Sabisch.\",\"T.Serrano-Gotarredona\",\"T.Shibata\",\"T.Xu\",\"T.Yamashita\",\"TadHogg\",\"TadahiroOhmi\",\"TadashiShibata\",\"TaiSingLee\",\"TakahiroWatanabe\",\"TakaoWatanabe\",\"TakashiOnoda\",\"TakeoYamashita\",\"TalGrossman\",\"TamarFlash\",\"TamilsLinder\",\"TanPhan\",\"TarigSamad\",\"TatsutoMurayama\",\"Te-WonLee\",\"TerenceD.Sanger\",\"TerenceSanger\",\"TerrenceFine\",\"TerrenceJ.Sejnowski\",\"TerrenceL.Fine\",\"TerrenceSejnowski\",\"Th.Sudbrak\",\"TheaB.Ghiselli-Crippa\",\"TheoGeisel\",\"TheodoreJ.Perkins\",\"TheresaLong\",\"ThiloT.Frieg\",\"ThomasA.Busey\",\"ThomasAnastasio\",\"ThomasBriegel\",\"ThomasBrown\",\"ThomasC.Ferree\",\"ThomasClare\",\"ThomasDietterich\",\"ThomasG.Dietterich\",\"ThomasG.Edwards\",\"ThomasH.Brown\",\"ThomasHofmann\",\"ThomasHolmann\",\"ThomasJ.Anastasio\",\"ThomasK.Landauer\",\"ThomasK.Miller\",\"ThomasKailath\",\"ThomasKepler\",\"ThomasP.Vogl\",\"ThomasPetsche\",\"ThomasR.Hancock\",\"ThomasR.Shultz\",\"ThomasRagg\",\"ThomasShultz\",\"ThoreGraepel\",\"ThorsteinnS.Rognvaldsson\",\"TiloSloboda\",\"TimA.Hely\",\"TimHoriuchi\",\"TimHunkapiller\",\"TimSmithers\",\"TimothyChiu\",\"TimothyHoriuchi\",\"TimothyK.Horiuchi\",\"TimothyS.Wilkinson\",\"TimothyW.Cacciatore\",\"TimothyX.Brown\",\"Ting-ChuenPong\",\"TobiDelbruck\",\"TobiasMann\",\"ToddK.Leen\",\"ToddLeen\",\"ToddS.Braver\",\"ToddSoukup\",\"ToddTroyer\",\"TomBrashers-Krug\",\"TomHeskes\",\"TomJ.Richardson\",\"TomM.Mitchell\",\"TomN.Todd\",\"TomOhira\",\"TomasLozano-Perez\",\"TomasoA.Poggio\",\"TomasoPoggio\",\"TomilsLozano-Perez\",\"TommiJaakkola\",\"TommiS.Jaakkola\",\"TonWeijters\",\"TongZhang\",\"ToniaG.Morris\",\"TonyA.Plate\",\"TonyJ.Prescott\",\"TonyJebara\",\"TonyPlate\",\"TonyRobinson\",\"TorstenZeppenfeld\",\"ToruOhira\",\"ToshiakiOkamoto\",\"ToshioInui\",\"ToshiteruHomma\",\"ToshiyukiTanaka\",\"TrentE.Lange\",\"TrevorDarrell\",\"TrevorHastie\",\"TrevorJ.Darrell\",\"TrevorMundel\",\"TroelsKjaer\",\"Tzi-DarChiueh\",\"TzioDarChiueh\",\"Tzu-puHsieh\",\"Tzyy-PingJung\",\"UdoFanst\",\"UlrichBodenhausen\",\"UpinderS.Bhalla\",\"UriRokni\",\"UrsA.Muller\",\"UryNaftaly\",\"UsamaFayyad\",\"UweHelmke\",\"V.A.Chulaevsky\",\"V.Bohossian\",\"V.I.Kryukov\",\"V.I.Makarenko\",\"V.Kadirkamanathan\",\"V.P.Roychowdhury\",\"V.Sundareswaran\",\"V.Tresp\",\"V.Vapnik\",\"ValentinoBraitenberg\",\"VanH.Vu\",\"VanHenkle\",\"VaskenBohossian\",\"VeikkoJousmaki\",\"VerenaHebler\",\"VicenteHonrubia\",\"VicenteIragui\",\"VictorAbrash\",\"VictorHu\",\"VictorW.Zue\",\"VictorZue\",\"VijayR.Konda\",\"VijaySamalam\",\"VijaykumarGullapalli\",\"ViktorGruev\",\"VirginiaL.Stonick\",\"VirginiaR.de-Sa\",\"VitalyMaiorov\",\"VladimirCherkassky\",\"VladimirN.Vapnik\",\"VladimirVapnik\",\"VolkerHansen\",\"VolkerRoth\",\"VolkerSteinhage\",\"VolkerTresp\",\"VolneiPedroni\",\"VolodyaVovk\",\"VwaniP.Roychowdhury\",\"VwaniRoychowdhury\",\"W.Bair\",\"W.Bialek\",\"W.E.Blanz\",\"W.E.Sullivan\",\"W.FritzKruger\",\"W.Gerstner\",\"W.H.Zaagman\",\"W.HarmonRay\",\"W.Hubbard\",\"W.Maass\",\"W.Miller\",\"W.N.Street\",\"W.Owen\",\"W.Porod\",\"W.R.Gardner\",\"W.R.Softky\",\"W.Ross\",\"W.ScottStornetta\",\"W.ThomasMiller\",\"W.ZevRymer\",\"W.Zhang\",\"WalterMetznet\",\"Wan-PingChiang\",\"Wee-KhengLeow\",\"WeeSunLee\",\"Wei-TsihLee\",\"WeiminLiu\",\"WesleyE.Snyder\",\"WesleySnyder\",\"WilfriedBrauer\",\"WilhamBialek\",\"WillardMiranker\",\"WilliamB.Levy\",\"WilliamBaxter\",\"WilliamBialek\",\"WilliamE.Skaggs\",\"WilliamE.Vinje\",\"WilliamFaller\",\"WilliamFinnoff\",\"WilliamP.Lincoln\",\"WilliamR.Softky\",\"WilliamSkaggs\",\"WilliamT.Freeman\",\"WilliamW.Cohen\",\"WilliamW.Lytton\",\"WilliamW.Streilein\",\"WilliamY.Huang\",\"WimWiegerinck\",\"WolfgangMaass\",\"WolframMenzel\",\"WulframGerstner\",\"WyethBair\",\"X.Wang\",\"XavierBoyen\",\"XavierGiannakopoulos\",\"XiaohuiXie\",\"XinWang\",\"XiruZhang\",\"XiuwenLiu\",\"XiwuLin\",\"XuboB.Song\",\"XuboSong\",\"Y.Abu-Mostafa\",\"Y.Bengio\",\"Y.C.Lee\",\"Y.C.Pati\",\"Y.Cboe\",\"Y.Konig\",\"Y.LeCun\",\"Y.Mansour\",\"Y.Matsuoka\",\"Y.Singer\",\"Y.Xie\",\"Y.Zhao\",\"YairWeiss\",\"YakWeiss\",\"YanFang\",\"YannLeCun\",\"YannickPouliot\",\"YannisTsividis\",\"YaserAbu-Mostafa\",\"YaserS.Abu-Mostafa\",\"YasuhamKoike\",\"YasuharuKioke\",\"YasuhiroWada\",\"Ye.I.Kovalenko\",\"YechezkelYeshurun\",\"Yee-ChunLee\",\"Yee-WhyeTeh\",\"YehudaSalu\",\"YeshwantK.Muthusamy\",\"YeshwantMuthusamy\",\"YiLi\",\"Ying-WungLee\",\"YingZhao\",\"YishayMansour\",\"Yiu-faiWong\",\"YoavFreund\",\"YochaiKonig\",\"YoichiHayashi\",\"YojiUno\",\"YongLiu\",\"YoramBaram\",\"YoramGdalyahu\",\"YoramSinger\",\"YosefRinott\",\"YoshihiroMori\",\"YoshioTakane\",\"YoshiroMiyata\",\"YoshiyukiKabashima\",\"YoshuaBengio\",\"Yu-MingChiang\",\"YuHe\",\"YuanshengXiong\",\"YuansongLiao\",\"YuedongWang\",\"YurikoOshima-Takane\",\"YuzoHirai\",\"YuzuruSato\",\"YvesBurnod\",\"YvesChauvin\",\"YvesGrandvalet\",\"YvesMoteau\",\"Z.Chi\",\"Z.Ghahramani\",\"ZacharyMainen\",\"ZeevOlami\",\"ZehraCataltepe\",\"ZhaopingLi\",\"ZhiyongYang\",\"ZiliLiu\",\"ZoeF.Butler\",\"ZoranObradovic\",\"ZoubinGhahramani\"],\"author_sizes\":[1,1,1,1,1,7,2,2,1,1,2,1,1,3,2,1,4,1,1,1,1,1,1,1,1,1,6,1,1,1,1,3,1,2,2,1,1,1,1,1,1,1,1,1,1,2,1,2,1,2,1,1,1,1,1,1,1,1,2,1,3,1,1,1,1,1,1,3,2,2,1,1,3,1,4,2,1,2,1,1,1,1,2,2,3,2,1,1,1,3,1,1,2,1,1,1,3,1,4,1,5,1,3,2,11,2,1,4,1,1,1,1,1,1,1,8,1,1,1,1,1,1,3,2,1,2,2,1,1,2,1,2,3,2,1,1,4,5,1,1,2,1,6,1,1,2,1,1,1,2,1,1,1,1,1,2,9,1,1,1,3,1,2,1,1,1,8,3,2,1,1,1,1,1,1,2,1,3,1,2,3,1,2,1,1,1,1,1,1,1,1,1,1,1,1,2,1,1,1,1,1,1,1,1,1,1,2,1,1,1,1,1,1,2,1,1,1,1,1,1,1,1,1,1,1,1,1,1,1,1,4,1,1,3,3,2,1,1,1,2,1,1,7,1,2,1,1,2,3,1,1,1,2,1,1,1,1,2,9,3,2,1,1,1,6,1,4,1,2,1,1,1,2,1,1,1,1,1,2,4,1,1,1,1,1,1,1,1,1,1,1,2,1,2,1,1,1,2,1,1,1,1,1,1,1,1,1,1,1,1,1,2,1,1,3,1,2,1,9,1,2,1,1,2,1,1,1,1,2,1,1,1,2,1,1,1,3,1,1,1,1,1,1,1,2,1,1,1,1,1,3,2,1,1,1,1,1,3,1,1,1,1,1,2,2,2,2,1,2,1,2,24,1,2,2,1,1,1,1,1,1,1,1,7,3,1,1,1,10,2,7,1,1,4,2,1,1,1,2,1,1,5,1,1,1,1,1,1,1,2,1,2,1,2,1,1,1,1,1,1,1,2,1,1,1,1,1,4,1,1,1,1,1,2,1,1,1,1,1,2,1,2,1,2,1,1,1,2,1,1,1,2,4,1,1,1,5,1,1,1,2,1,1,4,2,3,1,1,2,1,1,1,5,1,3,1,1,1,1,3,3,1,1,1,1,1,2,1,1,8,1,1,1,4,3,2,1,1,1,1,7,1,1,2,2,1,4,1,7,2,5,2,1,1,1,1,1,1,1,1,1,2,1,1,1,3,3,5,9,1,3,1,1,1,1,1,1,3,1,1,1,2,1,1,1,3,1,4,1,2,1,1,1,1,2,1,1,1,1,1,1,1,2,1,1,1,1,1,2,1,3,1,1,1,2,1,1,1,1,1,1,1,1,1,1,1,1,1,1,1,2,1,1,1,1,1,2,1,1,1,1,1,1,1,1,1,1,1,1,1,1,1,3,1,1,1,1,1,1,1,1,1,5,2,1,2,1,1,1,1,1,2,1,1,1,2,1,1,1,1,1,2,2,3,1,1,2,1,1,1,1,1,2,1,1,9,1,1,1,1,4,1,1,1,1,4,1,1,2,1,2,1,1,1,1,3,1,1,1,11,1,1,1,2,1,1,1,1,1,1,1,1,2,1,1,1,1,1,4,1,1,1,1,1,2,1,5,1,1,1,1,1,1,1,2,1,1,1,1,1,1,1,1,1,1,1,2,1,1,1,1,1,1,1,1,1,1,1,1,1,1,1,2,1,1,2,2,1,1,3,6,1,1,1,1,1,1,2,1,1,1,2,4,1,16,1,1,6,3,1,3,1,3,1,1,1,1,1,8,1,2,1,2,2,1,6,1,1,1,1,1,1,1,1,1,1,1,1,3,1,2,1,1,1,3,1,1,4,1,4,1,4,3,1,1,1,1,1,1,2,1,1,1,1,2,1,1,2,1,1,1,2,1,1,4,1,2,1,1,7,1,1,1,1,1,1,2,4,1,3,1,2,2,1,1,2,1,2,3,1,1,1,1,1,1,1,1,2,1,2,2,1,1,1,2,2,1,1,1,1,1,1,1,1,1,1,2,1,3,1,1,1,1,1,1,2,1,1,1,1,1,1,1,2,1,1,2,1,1,2,3,1,1,4,1,1,4,1,1,1,1,1,1,1,1,5,1,1,1,1,2,2,1,2,1,1,1,1,1,1,2,6,2,2,1,1,1,1,2,2,1,1,1,1,1,1,1,1,1,2,1,1,1,2,3,1,1,1,1,1,1,1,1,1,1,1,1,1,2,2,2,2,1,1,1,1,3,1,1,1,1,1,1,1,1,1,3,1,2,1,1,1,1,6,1,1,1,1,1,1,1,2,1,1,1,1,1,1,1,2,1,1,1,1,1,1,2,1,2,1,1,1,1,1,1,1,4,10,2,1,1,1,1,1,1,1,1,1,1,2,2,1,1,1,6,1,1,1,2,3,5,1,1,1,1,1,1,2,1,1,1,1,1,1,1,1,1,2,1,1,3,1,1,1,1,1,1,3,2,1,1,1,1,1,1,1,1,1,1,1,1,2,1,1,3,1,1,6,3,3,2,1,4,1,1,1,1,3,1,1,1,1,1,2,9,1,1,2,1,8,3,1,1,6,1,1,1,1,1,3,2,1,1,1,1,1,1,1,4,1,2,6,4,1,1,2,2,1,2,3,6,1,7,1,2,2,1,1,1,2,3,2,1,1,3,1,3,2,1,1,1,4,2,1,2,1,1,1,1,1,1,1,1,1,4,1,2,1,4,4,1,1,1,1,2,2,1,2,1,1,1,1,1,1,5,1,1,1,3,1,1,1,2,1,1,1,1,1,1,3,1,1,3,1,1,2,1,1,1,1,1,4,1,1,1,1,1,1,1,1,1,1,1,1,1,1,1,1,1,5,1,1,2,2,1,1,1,1,1,2,1,1,1,1,1,1,1,1,1,1,1,1,2,1,4,8,2,1,1,1,2,1,1,1,1,1,1,1,1,2,1,2,1,1,1,1,1,1,1,4,4,1,2,1,1,1,1,1,1,1,1,1,1,1,1,1,1,3,1,1,1,1,1,1,2,1,1,3,3,1,1,1,3,3,3,3,1,1,1,1,2,3,1,1,1,1,1,3,1,1,1,3,3,2,1,1,1,2,1,1,1,1,1,1,1,1,1,1,1,1,1,1,1,1,1,1,1,1,1,5,1,1,1,1,2,1,1,1,1,1,1,1,1,1,1,1,1,1,1,1,1,1,1,2,1,1,1,2,4,1,3,1,2,1,1,4,7,3,1,1,1,1,1,1,1,1,1,3,1,1,1,1,1,3,1,2,1,1,2,1,1,1,1,4,2,1,3,1,1,1,1,3,2,1,1,1,1,1,1,1,1,1,1,1,1,1,1,1,1,1,1,1,1,1,1,1,2,1,1,1,1,3,1,3,1,1,1,1,1,1,1,1,2,1,1,1,1,3,1,1,1,2,1,1,1,1,1,1,1,1,1,2,2,1,1,1,1,1,2,1,1,18,1,3,3,1,1,1,3,2,1,2,1,1,1,1,1,21,1,1,1,1,1,2,5,1,1,1,2,1,3,1,2,1,2,1,1,1,2,1,1,1,2,6,1,2,1,1,1,1,1,1,1,2,1,1,2,1,1,1,1,1,1,1,1,1,1,1,1,1,1,10,1,1,1,1,1,1,2,1,1,2,1,1,1,1,1,1,4,1,2,1,1,1,10,2,1,1,2,1,1,5,1,2,1,3,5,2,1,1,1,1,1,1,1,1,1,1,4,1,1,1,1,1,2,2,2,1,1,1,2,2,1,1,3,1,1,1,1,2,1,2,1,1,1,2,4,1,1,2,1,2,1,2,1,3,1,1,1,1,2,1,1,1,1,1,1,1,1,1,1,1,1,1,1,1,1,1,7,1,1,3,1,1,1,1,1,8,4,1,1,2,1,2,5,1,1,1,1,1,3,1,2,2,1,1,1,1,1,1,3,5,1,1,2,1,6,1,1,1,1,1,2,6,1,1,16,1,1,1,1,1,1,2,1,1,1,1,1,8,2,1,2,2,1,1,1,1,1,1,1,1,7,1,1,1,1,1,1,1,1,1,1,1,1,2,1,1,1,1,1,1,3,1,1,1,1,1,1,1,1,1,1,1,1,1,1,1,1,3,1,1,1,1,1,1,1,1,2,1,1,1,1,2,1,1,1,1,1,1,1,1,1,3,1,2,1,3,3,1,6,1,1,1,1,1,2,1,2,1,1,1,1,1,1,1,2,1,1,1,1,1,1,1,2,3,1,4,1,1,1,1,1,2,1,2,1,1,1,1,1,1,1,1,1,1,1,1,3,1,2,1,9,3,5,10,2,1,1,1,2,1,3,1,1,2,2,2,1,1,1,4,1,1,1,1,2,1,1,1,3,1,1,1,2,1,1,2,2,1,1,1,2,3,2,6,1,1,1,1,1,3,1,4,1,1,2,1,2,1,1,1,2,1,1,1,4,2,1,1,3,1,1,1,1,1,1,3,2,2,1,1,2,2,2,1,1,1,1,1,1,1,2,1,1,1,1,1,1,1,1,1,1,2,1,1,1,1,1,1,3,1,1,1,1,1,1,1,1,1,1,1,1,3,1,1,3,1,1,1,1,3,2,3,2,6,10,1,1,1,1,1,1,1,1,1,1,2,1,1,1,1,2,3,1,1,6,1,1,1,3,1,1,1,1,1,1,1,2,1,1,1,2,2,1,1,1,1,1,3,3,2,1,1,1,1,1,2,6,7,1,1,1,2,1,1,1,1,1,3,2,2,1,3,2,1,1,1,1,3,1,1,1,1,1,2,1,1,1,1,1,1,1,2,1,1,2,2,1,3,3,5,1,1,1,1,1,2,1,1,1,1,4,1,6,2,1,1,1,8,1,1,3,1,1,1,5,1,1,1,2,1,1,1,1,1,1,1,1,1,1,1,11,1,2,3,1,1,1,1,1,1,1,1,1,1,1,1,1,1,1,1,1,1,1,2,1,2,1,3,1,2,1,1,1,3,5,2,1,31,3,1,1,2,2,1,1,1,1,1,3,1,1,1,1,3,1,2,4,1,2,1,1,3,1,1,3,1,1,1,1,3,1,1,1,1,1,1,1,3,1,1,1,3,1,1,1,10,1,1,1,2,2,3,1,1,1,1,1,1,4,1,6,1,1,1,1,2,1,3,1,2,1,1,1,1,1,1,2,3,4,1,1,1,1,1,1,2,1,1,1,1,1,1,1,1,1,1,2,1,2,2,1,2,3,1,1,2,1,1,1,1,1,2,1,1,2,1,1,2,1,1,4,2,1,3,4,1,1,1,13,1,1,1,2,1,1,1,1,1,1,1,1,3,1,1,1,1,1,1,1,1,1,1,1,1,1,1,1,1,2,1,2,1,1,3,1,1,1,4,1,1,1,2,1,1,1,5,1,1,1,2,1,8,1,3,4,1,1,1,1,1,1,1,1,1,1,1,2,5,1,1,1,2,1,1,1,1,1,2,1,1,11,1,1,5,3,1,1,1,1,1,2,1,1,1,1,1,1,3,3,1,2,1,1,2,2,2,2,8,1,2,1,1,2,14,1,1,1,1,1,1,1,1,1,6,1,1,1,1,1,1,1,6,1,2,1,1,11],\"radii\":[0.1,0.1,0.1,0.1,0.1,0.7000000000000001,0.2,0.2,0.1,0.1,0.2,0.1,0.1,0.30000000000000004,0.2,0.1,0.4,0.1,0.1,0.1,0.1,0.1,0.1,0.1,0.1,0.1,0.6000000000000001,0.1,0.1,0.1,0.1,0.30000000000000004,0.1,0.2,0.2,0.1,0.1,0.1,0.1,0.1,0.1,0.1,0.1,0.1,0.1,0.2,0.1,0.2,0.1,0.2,0.1,0.1,0.1,0.1,0.1,0.1,0.1,0.1,0.2,0.1,0.30000000000000004,0.1,0.1,0.1,0.1,0.1,0.1,0.30000000000000004,0.2,0.2,0.1,0.1,0.30000000000000004,0.1,0.4,0.2,0.1,0.2,0.1,0.1,0.1,0.1,0.2,0.2,0.30000000000000004,0.2,0.1,0.1,0.1,0.30000000000000004,0.1,0.1,0.2,0.1,0.1,0.1,0.30000000000000004,0.1,0.4,0.1,0.5,0.1,0.30000000000000004,0.2,1.1,0.2,0.1,0.4,0.1,0.1,0.1,0.1,0.1,0.1,0.1,0.8,0.1,0.1,0.1,0.1,0.1,0.1,0.30000000000000004,0.2,0.1,0.2,0.2,0.1,0.1,0.2,0.1,0.2,0.30000000000000004,0.2,0.1,0.1,0.4,0.5,0.1,0.1,0.2,0.1,0.6000000000000001,0.1,0.1,0.2,0.1,0.1,0.1,0.2,0.1,0.1,0.1,0.1,0.1,0.2,0.9,0.1,0.1,0.1,0.30000000000000004,0.1,0.2,0.1,0.1,0.1,0.8,0.30000000000000004,0.2,0.1,0.1,0.1,0.1,0.1,0.1,0.2,0.1,0.30000000000000004,0.1,0.2,0.30000000000000004,0.1,0.2,0.1,0.1,0.1,0.1,0.1,0.1,0.1,0.1,0.1,0.1,0.1,0.1,0.2,0.1,0.1,0.1,0.1,0.1,0.1,0.1,0.1,0.1,0.1,0.2,0.1,0.1,0.1,0.1,0.1,0.1,0.2,0.1,0.1,0.1,0.1,0.1,0.1,0.1,0.1,0.1,0.1,0.1,0.1,0.1,0.1,0.1,0.1,0.4,0.1,0.1,0.30000000000000004,0.30000000000000004,0.2,0.1,0.1,0.1,0.2,0.1,0.1,0.7000000000000001,0.1,0.2,0.1,0.1,0.2,0.30000000000000004,0.1,0.1,0.1,0.2,0.1,0.1,0.1,0.1,0.2,0.9,0.30000000000000004,0.2,0.1,0.1,0.1,0.6000000000000001,0.1,0.4,0.1,0.2,0.1,0.1,0.1,0.2,0.1,0.1,0.1,0.1,0.1,0.2,0.4,0.1,0.1,0.1,0.1,0.1,0.1,0.1,0.1,0.1,0.1,0.1,0.2,0.1,0.2,0.1,0.1,0.1,0.2,0.1,0.1,0.1,0.1,0.1,0.1,0.1,0.1,0.1,0.1,0.1,0.1,0.1,0.2,0.1,0.1,0.30000000000000004,0.1,0.2,0.1,0.9,0.1,0.2,0.1,0.1,0.2,0.1,0.1,0.1,0.1,0.2,0.1,0.1,0.1,0.2,0.1,0.1,0.1,0.30000000000000004,0.1,0.1,0.1,0.1,0.1,0.1,0.1,0.2,0.1,0.1,0.1,0.1,0.1,0.30000000000000004,0.2,0.1,0.1,0.1,0.1,0.1,0.30000000000000004,0.1,0.1,0.1,0.1,0.1,0.2,0.2,0.2,0.2,0.1,0.2,0.1,0.2,2.4000000000000004,0.1,0.2,0.2,0.1,0.1,0.1,0.1,0.1,0.1,0.1,0.1,0.7000000000000001,0.30000000000000004,0.1,0.1,0.1,1.0,0.2,0.7000000000000001,0.1,0.1,0.4,0.2,0.1,0.1,0.1,0.2,0.1,0.1,0.5,0.1,0.1,0.1,0.1,0.1,0.1,0.1,0.2,0.1,0.2,0.1,0.2,0.1,0.1,0.1,0.1,0.1,0.1,0.1,0.2,0.1,0.1,0.1,0.1,0.1,0.4,0.1,0.1,0.1,0.1,0.1,0.2,0.1,0.1,0.1,0.1,0.1,0.2,0.1,0.2,0.1,0.2,0.1,0.1,0.1,0.2,0.1,0.1,0.1,0.2,0.4,0.1,0.1,0.1,0.5,0.1,0.1,0.1,0.2,0.1,0.1,0.4,0.2,0.30000000000000004,0.1,0.1,0.2,0.1,0.1,0.1,0.5,0.1,0.30000000000000004,0.1,0.1,0.1,0.1,0.30000000000000004,0.30000000000000004,0.1,0.1,0.1,0.1,0.1,0.2,0.1,0.1,0.8,0.1,0.1,0.1,0.4,0.30000000000000004,0.2,0.1,0.1,0.1,0.1,0.7000000000000001,0.1,0.1,0.2,0.2,0.1,0.4,0.1,0.7000000000000001,0.2,0.5,0.2,0.1,0.1,0.1,0.1,0.1,0.1,0.1,0.1,0.1,0.2,0.1,0.1,0.1,0.30000000000000004,0.30000000000000004,0.5,0.9,0.1,0.30000000000000004,0.1,0.1,0.1,0.1,0.1,0.1,0.30000000000000004,0.1,0.1,0.1,0.2,0.1,0.1,0.1,0.30000000000000004,0.1,0.4,0.1,0.2,0.1,0.1,0.1,0.1,0.2,0.1,0.1,0.1,0.1,0.1,0.1,0.1,0.2,0.1,0.1,0.1,0.1,0.1,0.2,0.1,0.30000000000000004,0.1,0.1,0.1,0.2,0.1,0.1,0.1,0.1,0.1,0.1,0.1,0.1,0.1,0.1,0.1,0.1,0.1,0.1,0.1,0.2,0.1,0.1,0.1,0.1,0.1,0.2,0.1,0.1,0.1,0.1,0.1,0.1,0.1,0.1,0.1,0.1,0.1,0.1,0.1,0.1,0.1,0.30000000000000004,0.1,0.1,0.1,0.1,0.1,0.1,0.1,0.1,0.1,0.5,0.2,0.1,0.2,0.1,0.1,0.1,0.1,0.1,0.2,0.1,0.1,0.1,0.2,0.1,0.1,0.1,0.1,0.1,0.2,0.2,0.30000000000000004,0.1,0.1,0.2,0.1,0.1,0.1,0.1,0.1,0.2,0.1,0.1,0.9,0.1,0.1,0.1,0.1,0.4,0.1,0.1,0.1,0.1,0.4,0.1,0.1,0.2,0.1,0.2,0.1,0.1,0.1,0.1,0.30000000000000004,0.1,0.1,0.1,1.1,0.1,0.1,0.1,0.2,0.1,0.1,0.1,0.1,0.1,0.1,0.1,0.1,0.2,0.1,0.1,0.1,0.1,0.1,0.4,0.1,0.1,0.1,0.1,0.1,0.2,0.1,0.5,0.1,0.1,0.1,0.1,0.1,0.1,0.1,0.2,0.1,0.1,0.1,0.1,0.1,0.1,0.1,0.1,0.1,0.1,0.1,0.2,0.1,0.1,0.1,0.1,0.1,0.1,0.1,0.1,0.1,0.1,0.1,0.1,0.1,0.1,0.1,0.2,0.1,0.1,0.2,0.2,0.1,0.1,0.30000000000000004,0.6000000000000001,0.1,0.1,0.1,0.1,0.1,0.1,0.2,0.1,0.1,0.1,0.2,0.4,0.1,1.6,0.1,0.1,0.6000000000000001,0.30000000000000004,0.1,0.30000000000000004,0.1,0.30000000000000004,0.1,0.1,0.1,0.1,0.1,0.8,0.1,0.2,0.1,0.2,0.2,0.1,0.6000000000000001,0.1,0.1,0.1,0.1,0.1,0.1,0.1,0.1,0.1,0.1,0.1,0.1,0.30000000000000004,0.1,0.2,0.1,0.1,0.1,0.30000000000000004,0.1,0.1,0.4,0.1,0.4,0.1,0.4,0.30000000000000004,0.1,0.1,0.1,0.1,0.1,0.1,0.2,0.1,0.1,0.1,0.1,0.2,0.1,0.1,0.2,0.1,0.1,0.1,0.2,0.1,0.1,0.4,0.1,0.2,0.1,0.1,0.7000000000000001,0.1,0.1,0.1,0.1,0.1,0.1,0.2,0.4,0.1,0.30000000000000004,0.1,0.2,0.2,0.1,0.1,0.2,0.1,0.2,0.30000000000000004,0.1,0.1,0.1,0.1,0.1,0.1,0.1,0.1,0.2,0.1,0.2,0.2,0.1,0.1,0.1,0.2,0.2,0.1,0.1,0.1,0.1,0.1,0.1,0.1,0.1,0.1,0.1,0.2,0.1,0.30000000000000004,0.1,0.1,0.1,0.1,0.1,0.1,0.2,0.1,0.1,0.1,0.1,0.1,0.1,0.1,0.2,0.1,0.1,0.2,0.1,0.1,0.2,0.30000000000000004,0.1,0.1,0.4,0.1,0.1,0.4,0.1,0.1,0.1,0.1,0.1,0.1,0.1,0.1,0.5,0.1,0.1,0.1,0.1,0.2,0.2,0.1,0.2,0.1,0.1,0.1,0.1,0.1,0.1,0.2,0.6000000000000001,0.2,0.2,0.1,0.1,0.1,0.1,0.2,0.2,0.1,0.1,0.1,0.1,0.1,0.1,0.1,0.1,0.1,0.2,0.1,0.1,0.1,0.2,0.30000000000000004,0.1,0.1,0.1,0.1,0.1,0.1,0.1,0.1,0.1,0.1,0.1,0.1,0.1,0.2,0.2,0.2,0.2,0.1,0.1,0.1,0.1,0.30000000000000004,0.1,0.1,0.1,0.1,0.1,0.1,0.1,0.1,0.1,0.30000000000000004,0.1,0.2,0.1,0.1,0.1,0.1,0.6000000000000001,0.1,0.1,0.1,0.1,0.1,0.1,0.1,0.2,0.1,0.1,0.1,0.1,0.1,0.1,0.1,0.2,0.1,0.1,0.1,0.1,0.1,0.1,0.2,0.1,0.2,0.1,0.1,0.1,0.1,0.1,0.1,0.1,0.4,1.0,0.2,0.1,0.1,0.1,0.1,0.1,0.1,0.1,0.1,0.1,0.1,0.2,0.2,0.1,0.1,0.1,0.6000000000000001,0.1,0.1,0.1,0.2,0.30000000000000004,0.5,0.1,0.1,0.1,0.1,0.1,0.1,0.2,0.1,0.1,0.1,0.1,0.1,0.1,0.1,0.1,0.1,0.2,0.1,0.1,0.30000000000000004,0.1,0.1,0.1,0.1,0.1,0.1,0.30000000000000004,0.2,0.1,0.1,0.1,0.1,0.1,0.1,0.1,0.1,0.1,0.1,0.1,0.1,0.2,0.1,0.1,0.30000000000000004,0.1,0.1,0.6000000000000001,0.30000000000000004,0.30000000000000004,0.2,0.1,0.4,0.1,0.1,0.1,0.1,0.30000000000000004,0.1,0.1,0.1,0.1,0.1,0.2,0.9,0.1,0.1,0.2,0.1,0.8,0.30000000000000004,0.1,0.1,0.6000000000000001,0.1,0.1,0.1,0.1,0.1,0.30000000000000004,0.2,0.1,0.1,0.1,0.1,0.1,0.1,0.1,0.4,0.1,0.2,0.6000000000000001,0.4,0.1,0.1,0.2,0.2,0.1,0.2,0.30000000000000004,0.6000000000000001,0.1,0.7000000000000001,0.1,0.2,0.2,0.1,0.1,0.1,0.2,0.30000000000000004,0.2,0.1,0.1,0.30000000000000004,0.1,0.30000000000000004,0.2,0.1,0.1,0.1,0.4,0.2,0.1,0.2,0.1,0.1,0.1,0.1,0.1,0.1,0.1,0.1,0.1,0.4,0.1,0.2,0.1,0.4,0.4,0.1,0.1,0.1,0.1,0.2,0.2,0.1,0.2,0.1,0.1,0.1,0.1,0.1,0.1,0.5,0.1,0.1,0.1,0.30000000000000004,0.1,0.1,0.1,0.2,0.1,0.1,0.1,0.1,0.1,0.1,0.30000000000000004,0.1,0.1,0.30000000000000004,0.1,0.1,0.2,0.1,0.1,0.1,0.1,0.1,0.4,0.1,0.1,0.1,0.1,0.1,0.1,0.1,0.1,0.1,0.1,0.1,0.1,0.1,0.1,0.1,0.1,0.1,0.5,0.1,0.1,0.2,0.2,0.1,0.1,0.1,0.1,0.1,0.2,0.1,0.1,0.1,0.1,0.1,0.1,0.1,0.1,0.1,0.1,0.1,0.1,0.2,0.1,0.4,0.8,0.2,0.1,0.1,0.1,0.2,0.1,0.1,0.1,0.1,0.1,0.1,0.1,0.1,0.2,0.1,0.2,0.1,0.1,0.1,0.1,0.1,0.1,0.1,0.4,0.4,0.1,0.2,0.1,0.1,0.1,0.1,0.1,0.1,0.1,0.1,0.1,0.1,0.1,0.1,0.1,0.1,0.30000000000000004,0.1,0.1,0.1,0.1,0.1,0.1,0.2,0.1,0.1,0.30000000000000004,0.30000000000000004,0.1,0.1,0.1,0.30000000000000004,0.30000000000000004,0.30000000000000004,0.30000000000000004,0.1,0.1,0.1,0.1,0.2,0.30000000000000004,0.1,0.1,0.1,0.1,0.1,0.30000000000000004,0.1,0.1,0.1,0.30000000000000004,0.30000000000000004,0.2,0.1,0.1,0.1,0.2,0.1,0.1,0.1,0.1,0.1,0.1,0.1,0.1,0.1,0.1,0.1,0.1,0.1,0.1,0.1,0.1,0.1,0.1,0.1,0.1,0.1,0.5,0.1,0.1,0.1,0.1,0.2,0.1,0.1,0.1,0.1,0.1,0.1,0.1,0.1,0.1,0.1,0.1,0.1,0.1,0.1,0.1,0.1,0.1,0.1,0.2,0.1,0.1,0.1,0.2,0.4,0.1,0.30000000000000004,0.1,0.2,0.1,0.1,0.4,0.7000000000000001,0.30000000000000004,0.1,0.1,0.1,0.1,0.1,0.1,0.1,0.1,0.1,0.30000000000000004,0.1,0.1,0.1,0.1,0.1,0.30000000000000004,0.1,0.2,0.1,0.1,0.2,0.1,0.1,0.1,0.1,0.4,0.2,0.1,0.30000000000000004,0.1,0.1,0.1,0.1,0.30000000000000004,0.2,0.1,0.1,0.1,0.1,0.1,0.1,0.1,0.1,0.1,0.1,0.1,0.1,0.1,0.1,0.1,0.1,0.1,0.1,0.1,0.1,0.1,0.1,0.1,0.2,0.1,0.1,0.1,0.1,0.30000000000000004,0.1,0.30000000000000004,0.1,0.1,0.1,0.1,0.1,0.1,0.1,0.1,0.2,0.1,0.1,0.1,0.1,0.30000000000000004,0.1,0.1,0.1,0.2,0.1,0.1,0.1,0.1,0.1,0.1,0.1,0.1,0.1,0.2,0.2,0.1,0.1,0.1,0.1,0.1,0.2,0.1,0.1,1.8,0.1,0.30000000000000004,0.30000000000000004,0.1,0.1,0.1,0.30000000000000004,0.2,0.1,0.2,0.1,0.1,0.1,0.1,0.1,2.1,0.1,0.1,0.1,0.1,0.1,0.2,0.5,0.1,0.1,0.1,0.2,0.1,0.30000000000000004,0.1,0.2,0.1,0.2,0.1,0.1,0.1,0.2,0.1,0.1,0.1,0.2,0.6000000000000001,0.1,0.2,0.1,0.1,0.1,0.1,0.1,0.1,0.1,0.2,0.1,0.1,0.2,0.1,0.1,0.1,0.1,0.1,0.1,0.1,0.1,0.1,0.1,0.1,0.1,0.1,0.1,1.0,0.1,0.1,0.1,0.1,0.1,0.1,0.2,0.1,0.1,0.2,0.1,0.1,0.1,0.1,0.1,0.1,0.4,0.1,0.2,0.1,0.1,0.1,1.0,0.2,0.1,0.1,0.2,0.1,0.1,0.5,0.1,0.2,0.1,0.30000000000000004,0.5,0.2,0.1,0.1,0.1,0.1,0.1,0.1,0.1,0.1,0.1,0.1,0.4,0.1,0.1,0.1,0.1,0.1,0.2,0.2,0.2,0.1,0.1,0.1,0.2,0.2,0.1,0.1,0.30000000000000004,0.1,0.1,0.1,0.1,0.2,0.1,0.2,0.1,0.1,0.1,0.2,0.4,0.1,0.1,0.2,0.1,0.2,0.1,0.2,0.1,0.30000000000000004,0.1,0.1,0.1,0.1,0.2,0.1,0.1,0.1,0.1,0.1,0.1,0.1,0.1,0.1,0.1,0.1,0.1,0.1,0.1,0.1,0.1,0.1,0.7000000000000001,0.1,0.1,0.30000000000000004,0.1,0.1,0.1,0.1,0.1,0.8,0.4,0.1,0.1,0.2,0.1,0.2,0.5,0.1,0.1,0.1,0.1,0.1,0.30000000000000004,0.1,0.2,0.2,0.1,0.1,0.1,0.1,0.1,0.1,0.30000000000000004,0.5,0.1,0.1,0.2,0.1,0.6000000000000001,0.1,0.1,0.1,0.1,0.1,0.2,0.6000000000000001,0.1,0.1,1.6,0.1,0.1,0.1,0.1,0.1,0.1,0.2,0.1,0.1,0.1,0.1,0.1,0.8,0.2,0.1,0.2,0.2,0.1,0.1,0.1,0.1,0.1,0.1,0.1,0.1,0.7000000000000001,0.1,0.1,0.1,0.1,0.1,0.1,0.1,0.1,0.1,0.1,0.1,0.1,0.2,0.1,0.1,0.1,0.1,0.1,0.1,0.30000000000000004,0.1,0.1,0.1,0.1,0.1,0.1,0.1,0.1,0.1,0.1,0.1,0.1,0.1,0.1,0.1,0.1,0.30000000000000004,0.1,0.1,0.1,0.1,0.1,0.1,0.1,0.1,0.2,0.1,0.1,0.1,0.1,0.2,0.1,0.1,0.1,0.1,0.1,0.1,0.1,0.1,0.1,0.30000000000000004,0.1,0.2,0.1,0.30000000000000004,0.30000000000000004,0.1,0.6000000000000001,0.1,0.1,0.1,0.1,0.1,0.2,0.1,0.2,0.1,0.1,0.1,0.1,0.1,0.1,0.1,0.2,0.1,0.1,0.1,0.1,0.1,0.1,0.1,0.2,0.30000000000000004,0.1,0.4,0.1,0.1,0.1,0.1,0.1,0.2,0.1,0.2,0.1,0.1,0.1,0.1,0.1,0.1,0.1,0.1,0.1,0.1,0.1,0.1,0.30000000000000004,0.1,0.2,0.1,0.9,0.30000000000000004,0.5,1.0,0.2,0.1,0.1,0.1,0.2,0.1,0.30000000000000004,0.1,0.1,0.2,0.2,0.2,0.1,0.1,0.1,0.4,0.1,0.1,0.1,0.1,0.2,0.1,0.1,0.1,0.30000000000000004,0.1,0.1,0.1,0.2,0.1,0.1,0.2,0.2,0.1,0.1,0.1,0.2,0.30000000000000004,0.2,0.6000000000000001,0.1,0.1,0.1,0.1,0.1,0.30000000000000004,0.1,0.4,0.1,0.1,0.2,0.1,0.2,0.1,0.1,0.1,0.2,0.1,0.1,0.1,0.4,0.2,0.1,0.1,0.30000000000000004,0.1,0.1,0.1,0.1,0.1,0.1,0.30000000000000004,0.2,0.2,0.1,0.1,0.2,0.2,0.2,0.1,0.1,0.1,0.1,0.1,0.1,0.1,0.2,0.1,0.1,0.1,0.1,0.1,0.1,0.1,0.1,0.1,0.1,0.2,0.1,0.1,0.1,0.1,0.1,0.1,0.30000000000000004,0.1,0.1,0.1,0.1,0.1,0.1,0.1,0.1,0.1,0.1,0.1,0.1,0.30000000000000004,0.1,0.1,0.30000000000000004,0.1,0.1,0.1,0.1,0.30000000000000004,0.2,0.30000000000000004,0.2,0.6000000000000001,1.0,0.1,0.1,0.1,0.1,0.1,0.1,0.1,0.1,0.1,0.1,0.2,0.1,0.1,0.1,0.1,0.2,0.30000000000000004,0.1,0.1,0.6000000000000001,0.1,0.1,0.1,0.30000000000000004,0.1,0.1,0.1,0.1,0.1,0.1,0.1,0.2,0.1,0.1,0.1,0.2,0.2,0.1,0.1,0.1,0.1,0.1,0.30000000000000004,0.30000000000000004,0.2,0.1,0.1,0.1,0.1,0.1,0.2,0.6000000000000001,0.7000000000000001,0.1,0.1,0.1,0.2,0.1,0.1,0.1,0.1,0.1,0.30000000000000004,0.2,0.2,0.1,0.30000000000000004,0.2,0.1,0.1,0.1,0.1,0.30000000000000004,0.1,0.1,0.1,0.1,0.1,0.2,0.1,0.1,0.1,0.1,0.1,0.1,0.1,0.2,0.1,0.1,0.2,0.2,0.1,0.30000000000000004,0.30000000000000004,0.5,0.1,0.1,0.1,0.1,0.1,0.2,0.1,0.1,0.1,0.1,0.4,0.1,0.6000000000000001,0.2,0.1,0.1,0.1,0.8,0.1,0.1,0.30000000000000004,0.1,0.1,0.1,0.5,0.1,0.1,0.1,0.2,0.1,0.1,0.1,0.1,0.1,0.1,0.1,0.1,0.1,0.1,0.1,1.1,0.1,0.2,0.30000000000000004,0.1,0.1,0.1,0.1,0.1,0.1,0.1,0.1,0.1,0.1,0.1,0.1,0.1,0.1,0.1,0.1,0.1,0.1,0.1,0.2,0.1,0.2,0.1,0.30000000000000004,0.1,0.2,0.1,0.1,0.1,0.30000000000000004,0.5,0.2,0.1,3.1,0.30000000000000004,0.1,0.1,0.2,0.2,0.1,0.1,0.1,0.1,0.1,0.30000000000000004,0.1,0.1,0.1,0.1,0.30000000000000004,0.1,0.2,0.4,0.1,0.2,0.1,0.1,0.30000000000000004,0.1,0.1,0.30000000000000004,0.1,0.1,0.1,0.1,0.30000000000000004,0.1,0.1,0.1,0.1,0.1,0.1,0.1,0.30000000000000004,0.1,0.1,0.1,0.30000000000000004,0.1,0.1,0.1,1.0,0.1,0.1,0.1,0.2,0.2,0.30000000000000004,0.1,0.1,0.1,0.1,0.1,0.1,0.4,0.1,0.6000000000000001,0.1,0.1,0.1,0.1,0.2,0.1,0.30000000000000004,0.1,0.2,0.1,0.1,0.1,0.1,0.1,0.1,0.2,0.30000000000000004,0.4,0.1,0.1,0.1,0.1,0.1,0.1,0.2,0.1,0.1,0.1,0.1,0.1,0.1,0.1,0.1,0.1,0.1,0.2,0.1,0.2,0.2,0.1,0.2,0.30000000000000004,0.1,0.1,0.2,0.1,0.1,0.1,0.1,0.1,0.2,0.1,0.1,0.2,0.1,0.1,0.2,0.1,0.1,0.4,0.2,0.1,0.30000000000000004,0.4,0.1,0.1,0.1,1.3,0.1,0.1,0.1,0.2,0.1,0.1,0.1,0.1,0.1,0.1,0.1,0.1,0.30000000000000004,0.1,0.1,0.1,0.1,0.1,0.1,0.1,0.1,0.1,0.1,0.1,0.1,0.1,0.1,0.1,0.1,0.2,0.1,0.2,0.1,0.1,0.30000000000000004,0.1,0.1,0.1,0.4,0.1,0.1,0.1,0.2,0.1,0.1,0.1,0.5,0.1,0.1,0.1,0.2,0.1,0.8,0.1,0.30000000000000004,0.4,0.1,0.1,0.1,0.1,0.1,0.1,0.1,0.1,0.1,0.1,0.1,0.2,0.5,0.1,0.1,0.1,0.2,0.1,0.1,0.1,0.1,0.1,0.2,0.1,0.1,1.1,0.1,0.1,0.5,0.30000000000000004,0.1,0.1,0.1,0.1,0.1,0.2,0.1,0.1,0.1,0.1,0.1,0.1,0.30000000000000004,0.30000000000000004,0.1,0.2,0.1,0.1,0.2,0.2,0.2,0.2,0.8,0.1,0.2,0.1,0.1,0.2,1.4000000000000001,0.1,0.1,0.1,0.1,0.1,0.1,0.1,0.1,0.1,0.6000000000000001,0.1,0.1,0.1,0.1,0.1,0.1,0.1,0.6000000000000001,0.1,0.2,0.1,0.1,1.1],\"x\":{\"__ndarray__\":\"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\",\"dtype\":\"float32\",\"order\":\"little\",\"shape\":[2479]},\"y\":{\"__ndarray__\":\"H1OQwflnOkE+9TTChK5LwNyylkGIqX9CUZwYwm70N8IyNg7Ct9PuwTGCNUIf+JzB4vQuQf55MMIkbXLBedEYwdn2WELnJKbBegutQcc+EcKSgDRCooEIQih72ED8vs/AcDXAwRF3F8AqQhvCvZm9QcFoMkGKvQhAHoiRwb0rZEJDJqVA/t9FQgKfTECIO0JBvYn8QXKmZcE/VVdBtlaYQE89P0HuwfdBongyQrYch0E/4xNCiQCZwYUXusAsiwXCp9tWwTUpP0I5Zq5BBHNWQTDpzkGf5hPCnH0Fwm0MA8Lf0w1CQ4ELQoWRDMKk8DjB9yVOQnPdK8J/j+3BIBR5QeSzT8BI9AFC2o+PwEsaeEJJGEdCWTGDwcMtkkHazKpBdILvwbpKBUJx9C7C6S0FwmqY78EIy0NCFvUYQltGLEERNgTBz53cwKXpUEIpIV/ByP6JQYqSY0Laf1ZBoYrOwf4CGsJtZC/Bafu3QScdDsK4fjlCAWO2QdaUjEGdDANC5BAPv7ruDcJxiUlCHCsRwRHeNEBntw/CSakYQl8hIUKc3yvCU7YQwnBXn8HGTkZCvToKwoNR/UGrgYA/zrLgQfKGAcJ7ggBCc+jwwScAE8I9OGPB0JagQAn650HmxQHCy2WcwJBJKMGhTOrBpzTKwVUZAEGiLSnC2PpFQkluiMHed/nBwVwhQmzR0UGdAxxCwTThwfkpG8BGxDdBuTQtQpdDWkKK8HNCxtH0QZGawkHxShrCd67GQephR8J5uAtCpuZ/wY4I08DZLhRBkpH3QbDFvcBoNRvCj24IQhrXIMFywBzCwuO4Qb5/0kFWmBtA0iNqQvYLj0Hh3M9BQZoSwV1tHEAQFgBCFkIcwVF2AkKNSghCB0/qwEn9a0LH/TZC3n41wjGyG8IrpN5Bv6bTwXnAtkFHnyxCewgYwX0kIkKCFgLBMmEawgHfm0E9sUxBs64fQpgw10GtxjDCEItFQTmVR8B9mo5BsY9DQjgIu8HjP8vAuQ8AwcQPE8AyURhBVmW4QdapjEHCNjbBCBkqQrVlTsEMV1pA17e5wdwB30FGB4RBNkLTQWsddUGoYsNBCQZHwSPRrMEHHfTB3FQ0QRsx5UFhqhXBNpEfQj/qWMBRnb/BYEnuwSSl8UEF+bPB6RMGwUV870EpDW5Bfy/rwT9BZECL2wrCFPqGQfLDC0JJ07xBmfe+QcSkIEKfZTrCUXhBQdAyRMDJ53lC8MXtP+OspEGF6DzC4yhsQsFR+UHKC5NBdlrBQespfkEBJPfBpVq1wLbptsEmVUDCGsmpwTyfkcB/NYTBqSG3QSWROUJXoT9CKMIowaNlOsCpmQ1B3jcqQnN4jcFK8LrAqRGpwePR/MGAiRfCkIFbQqddSULDyRjCRWeDwWPMBkKBwWm+tENAwmFCCkJt/PHAquvdQTW9JsLCWdXBF4fWwc0rvkEkIT7Br4WvwXqmA8G0SmFBcHj9wUoKO8DrjQHCt1dhQhNDCUFJbLjBqxYqwQ9A3sFuwzFC0oOfQQmuvr9BL67BWkTwwfxmI0KvShTCVEXtwT3pacDrFB1ClOi9QcQuEkFiovdBS3QHwt1e7UEvcALBhWTWQSTHxMH5/2bBtcdvwWMmOUIvChfCva99QH+PFcFHsxRCBjwRwMoS/8HTzldCLqa0QAU+70GSqjHCzFH1wdq50MBBjRVCvLUrwOZC90FqaeDBjfcBwki32MEfBOPBJkinQTh7NUJysQPCMvkZwqzgVkL33clB7xLQwbMpRUIDOTXClK1bwYda98Ak1NzBXtUVwgxcm8FaxlfBXkATQrsdp0HioerBrkRBQXnMIsFK6mRCYokhQnBGLUEtF1NB1j74P3ML3kG5N9PAzcddwP1/MUEDvpfBs8CzQcGaYUFPmT1CQw0ywt9EuMEAsw7CmACzQO5gokGfXZA/4hs8Qi+vF0LOmjfA/f1RQtee68D88R/CS22qQDadwsH300zC9iH2wfBXgr5qmxXCsJGWwQGjt0H1LkrAZXkqwWcysUGyTDFC5G0FQu91IMCiKmxCc+RnQtqNiUFAh/BB2uf2QSiSbkJlryDCxbdpQgGlar912bLAemZ2Qv28EMLcTPlBmL7yQTB5OkI8ZcTBthIfQsAD6sEczoW9AvLfwFPUC8EtPmvBk80Qwa8Gx0Ez0zvBySzEwaJXNcFe3YxBRRs0QjJlicBhhgfCDh9vwHBKQkJDOBFCXYMfwGSyC8KX9wnB40LfwAjF38D4XaLBrtm7v2NDD8Ho/KbBy2DFQc83IMI0aQLCkHqMwcfYckF6GiVBp4wxQYRehMASPRRCdtYNQskZFULX9QBCeMMGwjqSokCdcPLBDANqQsY7qkHC2hhCAyxhwCWqMsHe9zBCkR0lwvCcNkJL/p9BAzn/QTHpgkAA1RDCJXjzwHNj8sFqrRFBmGGFQEUv8sHZxNHBJe9KwCmwOsJ4fszBYQu6wd4LRcLqySXCvRoQwtdapMDK291A460ZwvG6pMHjCArB+dkWwspFSsICugvCzCM1QvupykFfzEDBa5rHQQnvykB+FYw/aq5bQqk9NEHBeJxB6cvzwfvIDUJuKctBZFmTwVy/EMH7nGxBZExqQlt4U7+IZRLBSYvSwSuZP0IR7FQ/dEECws+WYkE0yTXBcc9AwN1VFsJ4FC7Cblb9QUShWME87DFCeAhbQrMgysEnq1ZCvYcZQk7oOcIgVSfChIxZQp6pZULZTqJBBwgWQr8uMEFgayzB4pM6weFZg0EmiA/CbrQGwD+WjsCG3QJC/NqVQF7kHUKCeMPBpxNCwHXxV8Er2zfAxqWBQiTwyEELqwnBfu3KwYkcQsFevC3B7T4jwoYqscECr7zBidzTQRzf2b8BvHnA48sUwhHpMkKQ9QrB8cwlwnYHMcLv+yDCUNqvwZ5SQD03ohhB1aJEvrkgQMH6NevBYKC8wREOpkGOTxJCP7vSQdgTXcHabgRCqf00wami78HdqrjBdf3UwCuBG8J6EO9Bm2wOQv42CEKL/XXBMeYEQlyFOsLEZ3XAOMRUQpYKZcFFbRhCefnrwQCTFUL1ZyDCsat7PxLC1sHc7qnBn3mYQcn4FsHHDAXCoG/ewTMvvkHYf7o/i3sSwqOeG0H1SldBKRYRwfNjz8HQvBtCLWf+QajfFMHi/O5AP/wuwCLjOcHSqCnCqcm1Qem/z0Fi0hDBE3/EQQwrO8GjHFrB9asTwbQShkG18VfBoeI/Qc378cHH3yLCRQoNweS078HeW1rBP4rjwKzACEI2pRNCe57TQdwI2sC3zARBZWFHwGUNO8EDsNBB7GY1wcHvQ0DJHvvAjSj3wGpi18Hi48nBEC9XwfsLvMGSAy1C69nfQIv0R0IjQ4/B6aMOwq9h1sCaKNJB/c8/wRRWEcINjLvBaGQQwhnkAcIa8V9CLUkhQsq9eEK7zAjBPsU8we8OJMJLWWDA37zEwQZDuMFgOSbBixinwQ/nG8K5zdLB+oXMQRwpTkB5BBTBO7INwURf0UGynuHB6uEHwtKLLMFTsqjBsRAPQdBeK8IsWkXCsxnEQcF4F0K+/aPBnz32wawsG8Lqheg+4Ni9waPZ4sDaaS7B2Bk4wmJkAcLUq95BSYr1wKbfScKrJP1BAGi9QR1fkcGL3KLBg7iyQXyOmcHYw1pBdMgkQA6HHMGDsaHA6XycQSiIH8JjuglCXqwOQu5JqsHn3sbBFHb6QTt27UGkeiRCcRv8QcE35UFkp4dBJGpWwR48rsEibUZC+fvQwW9gOsKrExHC8zGJwJ3HTMEGWIzAKHKSwMf0wsHQ6dFBAyGrwRXYucAGzK9BVSqmQbrFdUAQA1DA156xwY9D1sAsYdBBwjQewj9yS0FUERHByHI0QuzLEMEDtUXBXoRSQpBgecFcUKnBaCfBQDf9p0GIVizCT6ttwUs3aMA5JwLC3b6uwWSfNsEwg6xAKJpFQt6R7sA8uf7B4eERQrV/F8JNpSbCE/jUwWtuskH3spTAHpIRwoLmCsHWdODB0JWIwYehB8LgHfrAPYrRQd7NOEIncKFBFKrGQQj0u0FHiTXCUSh8QtNdM0Bs94/A2PYDwVoGvkDjYkdCPc1AwmVkqMEuApTAhBrwwWrGTsEJdgdCyAH7waZ48cGCVeJB+CSXwRmnisABEgDBTpzhwTq3tcGob0lC4YEXwqWYzMDT+DbCvbe4QRJNdEDg+w/BrjTHQaR+uUGlirPAknRewbzx6sHQElrBESu1QX/Tw0GcG6tBBmAswnX6BEK44/tBfAjBQeogm0DLDhBCn/IWwtLNG8EK+EZC+QlJQmQ8CUID8kZC/5u2QZEKi8BmzDXCz+p5wU+RzL+RGJfBURZewPxVFcL1kxjBEH8cwnCa9UG/gqRBlKEzQiWThkF9A+7Amg52wCB07j7/wRnBnkbkQQq+msFtR+HArYmQwAoBA0BWhopBOD/lv+NO68B3dWNCT4xTQXv8LkLkCBLCzdEDwrNQ8UD/Bca/nTxuwNZ78cHhcdnB6cYoQkTpZkIe8LfBjfFpQp6rmkHUqUdC/r0XwkA2c8DiPJVBeHxEQjPNKULOulVBSz7GwbeGwEBMwNzBqgyeQaT8CcIZuh9CqvdpQeUF+8GQWxzBoy6UwN+HEkLoiwJCYnWav6OIn8FWXhjC5/gUwqC3y8EjzSNCHtJTQMJ8psEAFA5C3e2Uwf+LLMHVcirBqqJ6wS1zCUJ2/jFCjO9pwYbYIcL4DupB3pcgws3DdcEW3A1C0ewuQlFXtEDoQyzCzeL9QVYnAsLvU+3BvjwPwrd/5cH89brBmwiev2xRJ8ISYJZA1Rr9QbcInT81RAfCRbAYwlCQMEJ0mAzCoqsIwpLNFcLudxDAtsOnQRQdTUJ0RgLCgfbIQfGIR8Dm9blBMqUBQJtMD0JA6XrBgAX+QfvsosBNzQjCTeXDwff3MkLEGJHB7nfwQES25cC7QF7BwPAbQnKPIkIBDLrBVURPQpZTGsG/c7/B5JN7vy/TCcLzNM9BTXWpwIs+IUJbqV9CwMTpQeyFHsKM3PNBSKUGQvpw+0F825zBWUWDwWs1ecDR1GfB/Q/AQa9aOkKI6N1Bz4hBQqPvb0EjAWzA5Nn5Qen7B8HXFgPCjUY1QjwwX8FidvXBu8w1wpFn2cE8sZO/sTY/QDsW1z9FNeu/u4MvQkepX8Ggub3BMyIIwTSwAULH+xLBCvL7wGiTJEDN6u9AzrzLwcBVZT4vOPnBDu8Swsvt+cHb6vm/VLogQrFTS0Es6RzCwSQdQkmj60E/POLBH7QmQqz4+EH/gsPBSaSwwdGXrMEpw6ZBD3ClwB5YoD6qWXHBMgPvQQkNl8FVcIG/wLCJQS19H8KLM8bBfet+wR/FDcE7K7tBJk1xwfMek8EkZpfB41PIQT+NwUFdof7BojRgwJTXScEUKCjBI3Z/wZ5Nq8GdVPDBWWPGQUYFIsKgU/ZADbV/QV8Qxr9QzQPCjBEiQpQJhsFB2wnCni0VQaXBvkGxdfHACHOjQDVfr8HQpkFCaym2wXW6jcDpp0vCO1lWQCZWIkLuUDA/48XTwfUDasE10hDBaripwGk1mUAnXxfC7bqkwe+1icDJLx9C5Koqwa83vcElM8lBSnadwctHXsC9Br9B/lsVwseMsEFZdA1CVt8kwvh0CsLizAlCHi5IwDLEBcJM4vhAX2eZwUxrPcG+JDtClaKCQTZMEsLDqMLB28GBQQbMTkKFz4VBHFfkQb1PAEK/osrAZFmDwftsksCg1UvBviYfQruTGsJGpwrCpT+RQWPDPEEHMQdC/oqCwV3cuz8cilTBtyEvQuhdB0JxKQTCcUpTQlmm98HJLhJAN2GBQbj/NsBhNjzAmi2zwG+4nMHgMAfBJZwfwkC4ZsH3BZNBDSgZwGkq2sBaCSJCC5xNQBtMR0LeXUpCiIglwi36N8EQ3yXCLCmXQbkkN0KkxZBBXTPuwP1jWsBp9gPBhcwVws0FeMEHr9VBWKXdwY0L8sEbZiJC+qPLQf+GRUCUHdo/pi7hwVmEfUKeEv7B370BwgdZr8DHnCrCXyfqv2L0l0Es+ppArOpWwVFjA8LW9GpCt0eZwY5jl8Ck5SlCjzqewf+BO8CrlSPBjLnJwKbpBsFocz3CdU5IQr0AFMLXgUvCPqBfQrQjb8GUP/rBkBIRwuzmHsJKehLCPkVFQu0EHMIb/SjCfR/MQXNMgEKNnwFCPYINQg1040EktsJBPlW3QaFmvMH5AFZCFqs1QvB39MFwFZJBinQCQqR0Q0LyNXLBHB1ZwIhuksDOQt9BgnnmQRB5CcK9lUPCAHEYwkERuMGm0C7C5kSwQbe8mMEWzIjBfpK6wMf8o8EIxqW/WnxXwamSC8Lo0VzB1VpuQj2zH8LYNAVCHgEXwjxPkUHC9yNAg2HnwXCU978H4O1BhWmDwY2Mz0G5tz3COugpwReN28A7LwxCOu0hwlPZ9sGmFglB9K2WwaXrkUFBRmDA5h4lQhoOLUK2hwzCrHcwwud0G0IHemdBqlaXwXENSUKVFD1ClPC2QYIODMFb8Ee+AXOWQZa6u0GCSDDCQ5KpvzvT7UFj9i7CWaWewVW5v8HzT25C1nOHQRCMzkHxhYbBCX0FQvI84UH3uCFC4O07wQkpgcF5YQFBF/g4wtQiBMKfBkjBkkIiQQcHFMKPoPg+XY7GQdT4r8Ei9MLBPoYOwBf1jcHs1u1BMAYLwld/FMHR5AfC52QEQHpHScFxbBHCl5Z6PyHuLkIFVc3A0Jnvv5rYo0HyYA3CIMIywsFk7cBj3r3BMiUZwniz2MDAtwbBHUgwQg47CsLYpnZBvFskwv4Go8CS0fFBCiCfwa9FE0I5DY5BNjBJQllURMLvxRLCq8X8wd/Ut8BDn1fB+lZFQqysFcG8P3BA6LLvQOR9AsJU6RtCGe8BwrEm/UEwyh3A5vVeQMRKrUEe/5tBfJ0jv9uW2MHSUyvBp/o6QcIKrEFqjh/BN7PgQXqAI8I5aUHCNu/uQbn3NkITVUdBgOwcwpPjGMJ/QCfCaG7+wcTSBsAarz5CMluqwYntB0KnyS3BpYe/wM6sEsL7h5nBNcMIwqJJVULSll7Bdd3ZQZNvxkFr3rlBosT7wG54rcE5gCXCBRmLQOdPrcFARTxCnu1WQm1iLULh5gdCQDDEQSCvT0IFwh7C8WZkQjteREJi28bBBHMLwdedhsA444xAHSHEPOUJFEIhgg7A6Qq3QXyt88GN051BCFDTwd/S0sE0+xvCwii1weEIN8I430RCsOQ0wjfR6MBEfAvBf+S+wVMZ10GxLSBCX8YiwrntC0K/PLrBVFs3wmYVnkBTgF7BzACIwbaqCsKTP55A+afNwVPt/EHkNarBH+F2wIpLXsHqOiJBmmu5Qdx7vUHdBOjBflgKwjQ6tMEICv1B8CZhQtLzlUGvWq3Blt6Tv7H+tcHcaU9CXoH+QZloakJWVOHAU6vZwecmpcHuFQHCjLjeQA5o9kESNF5Bc4WeQeWAgkGcpz9BvwZCwQjQAMGC1tnBNfDyQSibPsDWwh5C+7sWwZbdsUGZgQRAuigwQundPEL34DFCySWpwZ3zAcLd8EDCBKdFQu29BUL5cc9BGkdYQulieEIihHVBix2JQV4qpcFEjhVB7tWPQeiK+8FHrRrAXZBvQTL3GUKM/8BBgt9UQvJNnsFxCbLBz2fDwDUGAsJPsl3BeUlJQuTngkFwBk9Cl8MLQgdIwcHK/ArCig7CwbjgnsFVhafBG0oPQpYzRsLYdiTCzry/QSg9sMAamnhBAmphQHUvPUIq3mXB7QIyQgb1ZcA10e/BoBHgwRUc1UFP8FpB8SL1QYjCtMGjZ73BdukMwhpBakF/gV/BDd7GwRbA3sHlyqO+EGcOwma1t8D8M8TB104fQr6aNcBt2pJBGD98QVG6PcGpNhbC/ZKxwfT22sGLQAfCCVj6QJugNsH5PX7BLfwnwvCLCsLfMLzB+5HVwCnsvcEjmiXBuscIQr5cS0GS5yRCVjocvvW+9cEGGyXBymfCQVX/EkGvVRzCU+PFQIIYQsKgAT5CElAxQqePn0G06x/BVGoxQhYgmkGeu2dB4elPQtAZzMEkgZ3BLtoOwvZYsEGTOPlBqtUEwvVXFsJMxppA3IG9wQiJYsBlEhPCudWZQcthsEAIO8PAbRV/QJWXmcAouAHC/+QSws+yW0DVeAlCO9zxwaES1cBjQmFC1Xz4wdWuIUICsM/AMsHtwbUbH8FvJA7A/6lnwfCpeMHyHnFCuDklv+Lss0G0kMbB+RiSwPA78kFzICVCUqNzQiVYjkGYwZXAO4MwwQIUSELLjyZCVxM6wiJjhEGuObHAvvfrQEwNUELC9+jB4XKKwedXzcHLaAbCSgYEwln9bsEs9pHBEyr2wEkNYELEjhhCd2QowqV3OUHQCApCQqXkQYkW6MEHYmRBLBgJQt7sS8GOqcPBT+e3QaTbKME1TfBBgL8hwXWkS0Iy1zvBmcEQwjJ+OEISwPTBPa0fwBuQ4EBlQxbCivEAQiAVJ0JHUsfAge/qwM/oNMApsxPCP+ftwSX4xMFQfytCL0wVwWUXAcJt6LjBqT8swg4C80Fy9bVBZVQ4QsSXB8ENvUNCsfzCwcQV3EGAAd/As04Rwp/MJMKnnrtBxipAQtVOdkA5hdtB3XMSwnyRHEK8zDdCLAG+waTZ/cGnkDVCWg8twHMJH0J3J03C+Pl+vu5UpcFLm+NBWZtGQo3aJcJs/MbBpoMGQpw0CMJB4/O/yabxQc7Oij4FICtCOuHDwAzYKkKSVyPCXMPLQZrpK8GaKjdBANYYQl5Gv8AyFv3Bn1IGwivu+EFakjFCaLj9wSqag8HgzQRCBa2NQf0qK0JakEJCMHu5waqXQ0GnEgJAWJeVQYfAmUHIKNBBJjbvwZi3REKiia5BpmylQJ2TvcGHncfBuEHYQYYbEsJrN1FCRKzMQYMKyMGQtUtCGnadv/8QQEJxIZnB+vcNwqJHFUJSQSHBg9x6QJ4I90E3SbhB5Hl0wHd6MUIVz/XA9XKRPhL0pUAi7xjBRDQDQu5s+EFB+bXB0d4fQpX9n0HVjfRBqOLUQbTEtEDwozhCE7IdQqH9AsEy9oZBijMDQka2akIYQ55AyIa3QQEGPcDvwaLBB4dwQEId4EGkNMPBMmP6wUsCbcCmJXvAfHYCwYDp+cGS4CHC63GAwQmLP8Lv3gC/DQgpwq+t8EGyXT3B0lnOwbdTv8B+YjPCJ8rRwc0iIUJ6ny3B72slwbXBfsGFl6U/zT4uwvow3EFMO0LB+3BAws4HiMCBOkpCmB3NQeL4uT+2oQRCj3R9wLftPUIWSAXC9/ekwRr3DEK6/1vAmdAswhMte0IRxwNCh7kvQsDKQMKy+OhBbsyMQDazP8G6XRrBxmfEPyq77MDZB3BCh3oxQmTGAEIZXI4/1T9swTYyr0GVQIFCL/xSQmbMGkJT2RvBXcteQpp3f0FfXm9BgTRCwSvIJUKN8ozAKp79wYfTlUAHFG3B5dkkQuCVlUGjTL3BgTvEwBzqOMBgxA/AUyzYwTAMyEFhaPlBVI+EwHXNT0Ki1fZBD/04wYqEDMIpsaxAgwBswaubCsKJqAnBpH9GQoPrlEGenWDBmLoLwpkobMEfqrdBWiCmwT00pcD2mCJC6O/XQHmzG0JmPAvCJC/EQJSQG8JhyG1AQA9twI4GykChvFbAzINrwQgNNcLtfzdBuOPhweCcSUIXmaXBDuu1QYPFdsB3HZzBRH2uP5a1WkI+ofrBQ/z5QUrOHMI4QItBrf4iws/SJ0Hj+sRBzGDSQZ7XMkJsTTbBQ/0kwYlGtUF4/BDCbTC/Pil5JcLmsPbB6+cYQnoFtMADpCfCY0xOwtRR0MG3/V9Cqul/wQkRj8AzHprAA1ewQSS0ScG5FgTC4UQHwRvmcEEsWpO/1w32wIwwC8HvVxjCbS38wOKOwEEIwITB1qwbwhOaxcEkIRlCLyc9wQHFGsKtaxrBtrpcQXnjg0GpDCZC7Lwkwo3OAEJv5BDCS665v3fM0MF/1ZLAoMU0wQ2TzUGIslNAZYQxQjtv6sEiQTXBQA4MwSQyo0F6TrNBl5MEwjNIQcAvwxfCJYAMwlhHusD+CrBAnUX/QFtvPMFSFSPC9W0HwgqbGUIgqwrCwt8rwtJbuL/C/11CvKddQrDeFcLoJ1RChf/UwfVuzEG44QvCIxjOwawbAMIiM53ByCiGwawfM0Kw7iDClFFVQTIv6D+vTrQ/EGqrwYLZZ0KXaixCTFv0wbUxJ8AAR7VB5c+UwJNI1cDURApC6xXTQXeJvcFa5MfBno7CwURR9EGzxDRC3N2oQTT8qEH4xCVCjvQbwuaaBULHmZ5BKOErwZjEGsIKj5g9kBsSwkrCFMB5xApCyY/yQchmUsEcaCPBXsXiQYYPq8HrBs9Bnyt9Qgz6ST8pX9NBPhsjwtZfWsEwjyHCVNjBwSOX6sAF+SlCR1/5QT5akUDwyedBwlI3wqz+YEJrdWPAvJPjwOSCKcJQqmJCxXO9wTxEukGOJ8/BUSyDQaz7wUHhvRXA05RHQv2N+cFCkKzAS0U9QCLQBkJWhF5CjDwpQsXxtr8pPlVCTYaSwXKNEkJinwnAWYa0wc7xRcHntrzBnI9AQg2UGULYwjlBfcVpwdV5PT/Tr+7AyAixwYFcDsKDyZvBimSiQFIWRkJSnffBfc+hQUxeL0LbIjBCc/4KwSmWsMFCkozBfKZVQvupyEF9v6BBIXcMQkOK1UHO1AzCcmAQQoLli8DDDgBCsBmewf1P+0GLjbLBX2cDQrLsXUITECpC4BYFQhkFQ0ISLbdBt6S2QZgjsEE53PZBP+ljQidjTUJTP2lCOgYwQm92ZkJ7/2tCD6SwQCZGJsL9n4lAnTICQpCt/kEO5gJCogpRQlvg+8C4cMfA1hi6QbDt6sEXl95BNq8MwlhEKUL2/TrBF3VKQnDZDUIa9CZCqFq4wO86akJ0L8lByCITwUXmCcJnObbAdFpEwAOWKEJoiLBBn19lQfhDF8EHrIpBw1JZwCxCDsJqw0rBPK0TwdOdAsJ0HNzAixzRwH48sUGZKCFCZU0twt/PDsI9gpzBCe5HwoOWQMItXjfCHwEIQknEAELI18dB8hLsQbGYKUKrOMxA3PoaPpSgfkL0onzAoU4mQkv6L8E3MgjCCbB3wV1Mk8GqiN5ANcU0QqC8KkI9TSXC1VbywWEWpcEiILLBZuiqwNVT88FZITZAYzyQv0f1xsGnEAXC+9ReQg04EUL2OSXB114ZwoBy9sH8+XVAyiRUQhdFBUIKUJZAawNXwWVdrcG3yoc/zSnYwQTIl8FLRtbAa68VwhbFlUHnhWHAOFEVQsdnxMFjIuw/CvpOQkAKQcIXR7xBvNG1wCYax0GoN8jBcG0awWs9EcLxWt3Bxq8zwX4gKEKk+6VBTXlaQre1T0Lnl1pCtkgows46j8ETdNHBzKMZQWbMTsItmbpA/8ycPwHvd0KKKifCe1fKwYyeEMLwEE/Ce+ZSQvafV8H0xBHAU7jZwclAXcFLTqvB6Dm3wKFfdMHzYRVCxMs+QRo5kMHzNZvBg1PuQcXbZL+FBYdB4gQVwuo7x0FH9PfBn1YTQgQ0WMD/KwrBn8cQwoqGNcGI1jNA6uihPz50FUDfJPXBUpNowZVu78AfEhjBWufiPypfBEAJJ7ZBV58PQInXi8ELMlxAZqRzQENH9sGzXO1BAR8Jwk55OkKd9YhAczaNwOPD6cGdW0ZCvkLUQLAiM8EevQFCb9g5wsFbEsJ9FwPCKp01QjbdFsKijWJCc5T3wW1jQUG37QnC93hgweBs80E4WQ/AKnTCQU32kEG3F/XBKmxbQgmyOcBzcInBjdJrv/uf2sHkAF5CNbuEwUTaBMK1XFdCDno0QhW2A8JwZTrByoRdQcudYUIch6BBvlzUwYQBY0LMwcNBUFLKwEBM/r4yXTbBY+hbQto0AUKyabvBSmHJwZ1868Dh6m1Beg2dwbW29b/t0QLCMJ+swXRh2sGsLAZChINiQq4rEsKECbnB+gbEQZD9fUKd7LxAXfWowTKd28AxqqLA/JAEwhfZX0KJruNBoOMeQobFP8GSkBhBu24uwDc/CcEMk0TCT4OCv+G0PkI+GRNCwP8VwRdUYULxPajBZjqCwEX3JkIBdFJCXlOWQZmcG8Ir+P5AfBXiQZ9aFcFkhBfBiOQBwpqURUJEm3fAd64BvmBsVkKAuyjBBGyywYAIt8AmjyxBzwscQvWj5L8Bw+zBDbCxwEyq6MEhIEpALm/OQayFj0EHj/nAXCTEwDHJ90HwYGbAquH9QcWItcEYbjvAVCE6QpCYAUJCnyDCaDVOQhEbc0Ij9W7Am3MUQqU91cFqxwBCYgfNwSWn8MGwuGnBeTnBwfieFsJ029VBj/kJwjsNB8K6YR5CP48GwQQJWkL37RfBzVPWQV3pM8Hs7xRCp/CnQWtORUILt0hCSIucQRIVEULkbxFCcMNtQkj8nMF6LD1Cc20gQlQQGkK3vQnB0nhbwUEP1sGTfHDBeKWHP8ZyY8DtCJfBXY3SQUrxYMEwupBBurgNQcpr2kF21w/CVzb6QWN28MC68vXBY/UewvcGjMG9vplBnI4wwO538EHLLq3AmQyZQYF2tsHd4bRBL1CqQWIhAcL6xRe/zJqrwIyD+UHKcSLC7mq4QTUuoUBAIPXBP+hHwpw7DT9tKX/BhQp5wQ7DYEIskBvBpUmOwZWVo8EDSC1Am/G1QZCTncEq36fBHOEewo+TE0KNOiZCYp3qwBmPO8Ll5SfCOau6QebxDkKdOsxBBdQQwuKC0UEkYIJBlTUewQoYmkFLk53AtEO/wIuWt0Gsj0vBThBVwVAuskCgbePBvlu1QbJ3B8LXsKBBhxKrwS7rNkLCtbPBGGL/wekFQELvcx5CZZGCwYLGK8LmjP/AiAcXwedzbUI0sHVCYY6hwUPGnMHVe6LBFSY/wLb+isH19xTCESpHwH+zIsJ9IRTCkp7BwZEnH0JuNy7BAAItQvmfUELLPhXCpXwrQpnLxMEcs6zA0qD4wYTNVkIVsTJCw2RIQif/ZkK1jGJBzQMWwh8INMEOugfBZmU/Qi71aUJ/gTnBDY3sQdfa/EHZ6BjC8d6VQVyyOcFQ7vTB+N0fQVAotsHc+k7AnUIDQl6BbsFlFLTB4WIgQvcJVMAFjqu/Un0DQppUS8LxSHjAU0JCwn9LRUEPIABCWRRuQg==\",\"dtype\":\"float32\",\"order\":\"little\",\"shape\":[2479]}},\"selected\":{\"id\":\"1054\"},\"selection_policy\":{\"id\":\"1053\"}},\"id\":\"1003\",\"type\":\"ColumnDataSource\"}],\"root_ids\":[\"1005\"]},\"title\":\"Bokeh Application\",\"version\":\"2.3.0\"}};\n",
       "  var render_items = [{\"docid\":\"916535ac-2191-4bd2-8168-ce742786c8c7\",\"root_ids\":[\"1005\"],\"roots\":{\"1005\":\"4a8bc7ca-047c-43bc-aa1d-be29b4b7430f\"}}];\n",
       "  root.Bokeh.embed.embed_items_notebook(docs_json, render_items);\n",
       "\n",
       "  }\n",
       "  if (root.Bokeh !== undefined) {\n",
       "    embed_document(root);\n",
       "  } else {\n",
       "    var attempts = 0;\n",
       "    var timer = setInterval(function(root) {\n",
       "      if (root.Bokeh !== undefined) {\n",
       "        clearInterval(timer);\n",
       "        embed_document(root);\n",
       "      } else {\n",
       "        attempts++;\n",
       "        if (attempts > 100) {\n",
       "          clearInterval(timer);\n",
       "          console.log(\"Bokeh: ERROR: Unable to run BokehJS code because BokehJS library is missing\");\n",
       "        }\n",
       "      }\n",
       "    }, 10, root)\n",
       "  }\n",
       "})(window);"
      ],
      "application/vnd.bokehjs_exec.v0+json": ""
     },
     "metadata": {
      "application/vnd.bokehjs_exec.v0+json": {
       "id": "1005"
      }
     },
     "output_type": "display_data"
    }
   ],
   "source": [
    "\n",
    "from bokeh.models import HoverTool\n",
    "from bokeh.plotting import figure, show, ColumnDataSource\n",
    "\n",
    "x = tsne.embedding_[:, 0]\n",
    "y = tsne.embedding_[:, 1]\n",
    "author_names = [model.id2author[a] for a in authors]\n",
    "\n",
    "# Radius of each point corresponds to the number of documents attributed to that author.\n",
    "scale = 0.1\n",
    "author_sizes = [len(model.author2doc[a]) for a in author_names]\n",
    "radii = [size * scale for size in author_sizes]\n",
    "\n",
    "source = ColumnDataSource(\n",
    "        data=dict(\n",
    "            x=x,\n",
    "            y=y,\n",
    "            author_names=author_names,\n",
    "            author_sizes=author_sizes,\n",
    "            radii=radii,\n",
    "        )\n",
    "    )\n",
    "\n",
    "# Add author names and sizes to mouse-over info.\n",
    "hover = HoverTool(\n",
    "        tooltips=[\n",
    "        (\"author\", \"@author_names\"),\n",
    "        (\"size\", \"@author_sizes\"),\n",
    "        ]\n",
    "    )\n",
    "\n",
    "p = figure(tools=[hover, 'crosshair,pan,wheel_zoom,box_zoom,reset,save,lasso_select'])\n",
    "p.scatter('x', 'y', radius='radii', source=source, fill_alpha=0.6, line_color=None)\n",
    "show(p)"
   ]
  },
  {
   "cell_type": "markdown",
   "metadata": {},
   "source": [
    "The circles in the plot above are individual authors, and their sizes represent the number of documents attributed to the corresponding author. Hovering your mouse over the circles will tell you the name of the authors and their sizes. Large clusters of authors tend to reflect some overlap in interest. \n",
    "\n",
    "We see that the model tends to put duplicate authors close together. For example, Terrence J. Sejnowki and T. J. Sejnowski are the same person, and their vectors end up in the same place (see about $(-10, -10)$ in the plot).\n",
    "\n",
    "At about $(-15, -10)$ we have a cluster of neuroscientists like Christof Koch and James M. Bower. \n",
    "\n",
    "As discussed earlier, the \"object recognition\" topic was assigned to Sejnowski. If we get the topics of the other authors in Sejnoski's neighborhood, like Peter Dayan, we also get this same topic. Furthermore, we see that this cluster is close to the \"neuroscience\" cluster discussed above, which is further indication that this topic is about visual perception in the brain.\n",
    "\n",
    "Other clusters include a reinforcement learning cluster at about $(-5, 8)$, and a Bayesian modelling cluster at about $(8, -12)$.\n",
    "\n",
    "#### Similarity queries\n",
    "\n",
    "In this section, we are going to set up a system that takes the name of an author and yields the authors that are most similar. This functionality can be used as a component in an information retrieval (i.e. a search engine of some kind), or in an author prediction system, i.e. a system that takes an unlabelled document and predicts the author(s) that wrote it.\n",
    "\n",
    "We simply need to search for the closest vector in the author-topic space. In this sense, the approach is similar to the t-SNE plot above.\n",
    "\n",
    "Below we illustrate a similarity query using a built-in similarity framework in Gensim."
   ]
  },
  {
   "cell_type": "code",
   "execution_count": 32,
   "metadata": {},
   "outputs": [],
   "source": [
    "\n",
    "from gensim.similarities import MatrixSimilarity\n",
    "\n",
    "# Generate a similarity object for the transformed corpus.\n",
    "index = MatrixSimilarity(model[list(model.id2author.values())])\n",
    "\n",
    "# Get similarities to some author.\n",
    "author_name = 'YannLeCun'\n",
    "sims = index[model[author_name]]"
   ]
  },
  {
   "cell_type": "markdown",
   "metadata": {},
   "source": [
    "However, this framework uses the cosine distance, but we want to use the Hellinger distance. The Hellinger distance is a natural way of measuring the distance (i.e. dis-similarity) between two probability distributions. Its discrete version is defined as\n",
    "$$\n",
    "H(p, q) = \\frac{1}{\\sqrt{2}} \\sqrt{\\sum_{i=1}^K (\\sqrt{p_i} - \\sqrt{q_i})^2},\n",
    "$$\n",
    "\n",
    "where $p$ and $q$ are both topic distributions for two different authors. We define the similarity as\n",
    "$$\n",
    "S(p, q) = \\frac{1}{1 + H(p, q)}.\n",
    "$$\n",
    "\n",
    "In the cell below, we prepare everything we need to perform similarity queries based on the Hellinger distance."
   ]
  },
  {
   "cell_type": "code",
   "execution_count": 33,
   "metadata": {},
   "outputs": [],
   "source": [
    "\n",
    "# Make a function that returns similarities based on the Hellinger distance\n",
    "\n",
    "from gensim import matutils\n",
    "import pandas as pd\n",
    "\n",
    "# Make a list of all the author-topic distributions.\n",
    "author_vecs = [model.get_author_topics(author) for author in model.id2author.values()]\n",
    "\n",
    "def similarity(vec1, vec2):\n",
    "    '''Get similarity between two vectors'''\n",
    "    dist = matutils.hellinger(matutils.sparse2full(vec1, model.num_topics), \\\n",
    "                              matutils.sparse2full(vec2, model.num_topics))\n",
    "    sim = 1.0 / (1.0 + dist)\n",
    "    return sim\n",
    "\n",
    "def get_sims(vec):\n",
    "    '''Get similarity of vector to all authors.'''\n",
    "    sims = [similarity(vec, vec2) for vec2 in author_vecs]\n",
    "    return sims\n",
    "\n",
    "def get_table(name, top_n=10, smallest_author=1):\n",
    "    '''\n",
    "    Get table with similarities, author names, and author sizes.\n",
    "    Return `top_n` authors as a dataframe.\n",
    "    \n",
    "    '''\n",
    "    \n",
    "    # Get similarities.\n",
    "    sims = get_sims(model.get_author_topics(name))\n",
    "\n",
    "    # Arrange author names, similarities, and author sizes in a list of tuples.\n",
    "    table = []\n",
    "    for elem in enumerate(sims):\n",
    "        author_name = model.id2author[elem[0]]\n",
    "        sim = elem[1]\n",
    "        author_size = len(model.author2doc[author_name])\n",
    "        if author_size >= smallest_author:\n",
    "            table.append((author_name, sim, author_size))\n",
    "            \n",
    "    # Make dataframe and retrieve top authors.\n",
    "    df = pd.DataFrame(table, columns=['Author', 'Score', 'Size'])\n",
    "    df = df.sort_values('Score', ascending=False)[:top_n]\n",
    "    \n",
    "    return df"
   ]
  },
  {
   "cell_type": "markdown",
   "metadata": {},
   "source": [
    "Now we can find the most similar authors to some particular author. We use the Pandas library to print the results in a nice looking tables."
   ]
  },
  {
   "cell_type": "code",
   "execution_count": 34,
   "metadata": {},
   "outputs": [
    {
     "data": {
      "text/html": [
       "<div>\n",
       "<style scoped>\n",
       "    .dataframe tbody tr th:only-of-type {\n",
       "        vertical-align: middle;\n",
       "    }\n",
       "\n",
       "    .dataframe tbody tr th {\n",
       "        vertical-align: top;\n",
       "    }\n",
       "\n",
       "    .dataframe thead th {\n",
       "        text-align: right;\n",
       "    }\n",
       "</style>\n",
       "<table border=\"1\" class=\"dataframe\">\n",
       "  <thead>\n",
       "    <tr style=\"text-align: right;\">\n",
       "      <th></th>\n",
       "      <th>Author</th>\n",
       "      <th>Score</th>\n",
       "      <th>Size</th>\n",
       "    </tr>\n",
       "  </thead>\n",
       "  <tbody>\n",
       "    <tr>\n",
       "      <th>2422</th>\n",
       "      <td>YannLeCun</td>\n",
       "      <td>1.000000</td>\n",
       "      <td>11</td>\n",
       "    </tr>\n",
       "    <tr>\n",
       "      <th>104</th>\n",
       "      <td>AlexWaibel</td>\n",
       "      <td>0.999979</td>\n",
       "      <td>11</td>\n",
       "    </tr>\n",
       "    <tr>\n",
       "      <th>1902</th>\n",
       "      <td>RichardP.Lippmann</td>\n",
       "      <td>0.999979</td>\n",
       "      <td>9</td>\n",
       "    </tr>\n",
       "    <tr>\n",
       "      <th>1636</th>\n",
       "      <td>NelsonMorgan</td>\n",
       "      <td>0.999822</td>\n",
       "      <td>5</td>\n",
       "    </tr>\n",
       "    <tr>\n",
       "      <th>1956</th>\n",
       "      <td>RonaldA.Cole</td>\n",
       "      <td>0.999679</td>\n",
       "      <td>2</td>\n",
       "    </tr>\n",
       "    <tr>\n",
       "      <th>886</th>\n",
       "      <td>HermannHild</td>\n",
       "      <td>0.999648</td>\n",
       "      <td>2</td>\n",
       "    </tr>\n",
       "    <tr>\n",
       "      <th>2323</th>\n",
       "      <td>VictorAbrash</td>\n",
       "      <td>0.999006</td>\n",
       "      <td>2</td>\n",
       "    </tr>\n",
       "    <tr>\n",
       "      <th>1916</th>\n",
       "      <td>RobertAllen</td>\n",
       "      <td>0.996885</td>\n",
       "      <td>2</td>\n",
       "    </tr>\n",
       "    <tr>\n",
       "      <th>1683</th>\n",
       "      <td>OttoSchmidbauer</td>\n",
       "      <td>0.996697</td>\n",
       "      <td>2</td>\n",
       "    </tr>\n",
       "    <tr>\n",
       "      <th>1112</th>\n",
       "      <td>JoeTebelskis</td>\n",
       "      <td>0.932786</td>\n",
       "      <td>4</td>\n",
       "    </tr>\n",
       "  </tbody>\n",
       "</table>\n",
       "</div>"
      ],
      "text/plain": [
       "                 Author     Score  Size\n",
       "2422          YannLeCun  1.000000    11\n",
       "104          AlexWaibel  0.999979    11\n",
       "1902  RichardP.Lippmann  0.999979     9\n",
       "1636       NelsonMorgan  0.999822     5\n",
       "1956       RonaldA.Cole  0.999679     2\n",
       "886         HermannHild  0.999648     2\n",
       "2323       VictorAbrash  0.999006     2\n",
       "1916        RobertAllen  0.996885     2\n",
       "1683    OttoSchmidbauer  0.996697     2\n",
       "1112       JoeTebelskis  0.932786     4"
      ]
     },
     "execution_count": 34,
     "metadata": {},
     "output_type": "execute_result"
    }
   ],
   "source": [
    "\n",
    "get_table('YannLeCun')"
   ]
  },
  {
   "cell_type": "markdown",
   "metadata": {},
   "source": [
    "As before, we can specify the minimum author size."
   ]
  },
  {
   "cell_type": "code",
   "execution_count": 35,
   "metadata": {},
   "outputs": [
    {
     "data": {
      "text/html": [
       "<div>\n",
       "<style scoped>\n",
       "    .dataframe tbody tr th:only-of-type {\n",
       "        vertical-align: middle;\n",
       "    }\n",
       "\n",
       "    .dataframe tbody tr th {\n",
       "        vertical-align: top;\n",
       "    }\n",
       "\n",
       "    .dataframe thead th {\n",
       "        text-align: right;\n",
       "    }\n",
       "</style>\n",
       "<table border=\"1\" class=\"dataframe\">\n",
       "  <thead>\n",
       "    <tr style=\"text-align: right;\">\n",
       "      <th></th>\n",
       "      <th>Author</th>\n",
       "      <th>Score</th>\n",
       "      <th>Size</th>\n",
       "    </tr>\n",
       "  </thead>\n",
       "  <tbody>\n",
       "    <tr>\n",
       "      <th>118</th>\n",
       "      <td>JamesM.Bower</td>\n",
       "      <td>1.000000</td>\n",
       "      <td>10</td>\n",
       "    </tr>\n",
       "    <tr>\n",
       "      <th>44</th>\n",
       "      <td>ChristofKoch</td>\n",
       "      <td>0.999966</td>\n",
       "      <td>24</td>\n",
       "    </tr>\n",
       "    <tr>\n",
       "      <th>182</th>\n",
       "      <td>MatthewA.Wilson</td>\n",
       "      <td>0.999877</td>\n",
       "      <td>3</td>\n",
       "    </tr>\n",
       "    <tr>\n",
       "      <th>157</th>\n",
       "      <td>L.F.Abbott</td>\n",
       "      <td>0.999877</td>\n",
       "      <td>4</td>\n",
       "    </tr>\n",
       "    <tr>\n",
       "      <th>256</th>\n",
       "      <td>StephenP.DeWeerth</td>\n",
       "      <td>0.999875</td>\n",
       "      <td>5</td>\n",
       "    </tr>\n",
       "    <tr>\n",
       "      <th>96</th>\n",
       "      <td>GirishN.Patel</td>\n",
       "      <td>0.999637</td>\n",
       "      <td>3</td>\n",
       "    </tr>\n",
       "    <tr>\n",
       "      <th>150</th>\n",
       "      <td>K.Obermayer</td>\n",
       "      <td>0.899604</td>\n",
       "      <td>3</td>\n",
       "    </tr>\n",
       "    <tr>\n",
       "      <th>151</th>\n",
       "      <td>K.Schulten</td>\n",
       "      <td>0.885812</td>\n",
       "      <td>3</td>\n",
       "    </tr>\n",
       "    <tr>\n",
       "      <th>82</th>\n",
       "      <td>EveMarder</td>\n",
       "      <td>0.873789</td>\n",
       "      <td>3</td>\n",
       "    </tr>\n",
       "    <tr>\n",
       "      <th>41</th>\n",
       "      <td>CarverMead</td>\n",
       "      <td>0.860333</td>\n",
       "      <td>3</td>\n",
       "    </tr>\n",
       "  </tbody>\n",
       "</table>\n",
       "</div>"
      ],
      "text/plain": [
       "                Author     Score  Size\n",
       "118       JamesM.Bower  1.000000    10\n",
       "44        ChristofKoch  0.999966    24\n",
       "182    MatthewA.Wilson  0.999877     3\n",
       "157         L.F.Abbott  0.999877     4\n",
       "256  StephenP.DeWeerth  0.999875     5\n",
       "96       GirishN.Patel  0.999637     3\n",
       "150        K.Obermayer  0.899604     3\n",
       "151         K.Schulten  0.885812     3\n",
       "82           EveMarder  0.873789     3\n",
       "41          CarverMead  0.860333     3"
      ]
     },
     "execution_count": 35,
     "metadata": {},
     "output_type": "execute_result"
    }
   ],
   "source": [
    "\n",
    "get_table('JamesM.Bower', smallest_author=3)"
   ]
  },
  {
   "cell_type": "markdown",
   "metadata": {},
   "source": [
    "### Serialized corpora\n",
    "\n",
    "The `AuthorTopicModel` class accepts serialized corpora, that is, corpora that are stored on the hard-drive rather than in memory. This is usually done when the corpus is too big to fit in memory. There are, however, some caveats to this functionality, which we will discuss here. As these caveats make this functionality less than ideal, it may be improved in the future.\n",
    "\n",
    "It is not necessary to read this section if you don't intend to use serialized corpora.\n",
    "\n",
    "In the following, an explanation, followed by an example and a summarization will be given.\n",
    "\n",
    "If the corpus is serialized, the user must specify `serialized=True`. Any input corpus can then be any type of iterable or generator.\n",
    "\n",
    "The model will then take the input corpus and serialize it in the `MmCorpus` format, which is [supported in Gensim](https://radimrehurek.com/gensim/corpora/mmcorpus.html).\n",
    "\n",
    "The user must specify the path where the model should serialize all input documents, for example `serialization_path='/tmp/model_serializer.mm'`. To avoid accidentally overwriting some important data, the model will raise an error if there already exists a file at `serialization_path`; in this case, either choose another path, or delete the old file.\n",
    "\n",
    "When you want to train on new data, and call `model.update(corpus, author2doc)`, all the old data and the new data have to be re-serialized. This can of course be quite computationally demanding, so it is recommended that you do this *only* when necessary; that is, wait until you have as much new data as possible to update, rather than updating the model for every new document."
   ]
  },
  {
   "cell_type": "code",
   "execution_count": 37,
   "metadata": {},
   "outputs": [
    {
     "name": "stdout",
     "output_type": "stream",
     "text": [
      "Wall time: 28.7 s\n"
     ]
    }
   ],
   "source": [
    "\n",
    "%%time\n",
    "model_ser = AuthorTopicModel(corpus=corpus, num_topics=10, id2word=dictionary.id2token,\n",
    "                             author2doc=author2doc, random_state=1, serialized=True,\n",
    "                             serialization_path='../saves/mm/model_serialization.mm')"
   ]
  },
  {
   "cell_type": "code",
   "execution_count": 38,
   "metadata": {},
   "outputs": [],
   "source": [
    "\n",
    "# Delete the file, once you're done using it\n",
    "import os\n",
    "\n",
    "os.remove('../saves/mm/model_serialization.mm')"
   ]
  },
  {
   "cell_type": "markdown",
   "metadata": {},
   "source": [
    "In summary, when using serialized corpora:\n",
    "* Set `serialized=True`.\n",
    "* Set `serialization_path` to a path that doesn't already contain a file.\n",
    "* Wait until you have lots of data before you call `model.update(corpus, author2doc)`.\n",
    "* When done, delete the file at `serialization_path` if it's not needed anymore."
   ]
  },
  {
   "cell_type": "markdown",
   "metadata": {},
   "source": [
    "## What to try next\n",
    "\n",
    "Try the model on one of the datasets in the [StackExchange data dump](https://archive.org/details/stackexchange). You can treat the tags on the posts as authors and train a \"tag-topic\" model. There are many different categories, from statistics to cooking to philosophy, so you can pick on that you like. You can even try your hand at a [Kaggle competition](https://www.kaggle.com/c/transfer-learning-on-stack-exchange-tags) that uses tags in this dataset.\n"
   ]
  }
 ],
 "metadata": {
  "kernelspec": {
   "display_name": "Job Hunting (Python 3.7.9)",
   "language": "python",
   "name": "jh"
  },
  "language_info": {
   "codemirror_mode": {
    "name": "ipython",
    "version": 3
   },
   "file_extension": ".py",
   "mimetype": "text/x-python",
   "name": "python",
   "nbconvert_exporter": "python",
   "pygments_lexer": "ipython3",
   "version": "3.7.9"
  }
 },
 "nbformat": 4,
 "nbformat_minor": 4
}
