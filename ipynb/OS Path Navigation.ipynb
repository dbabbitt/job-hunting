{
 "cells": [
  {
   "cell_type": "code",
   "execution_count": 1,
   "metadata": {},
   "outputs": [
    {
     "name": "stdout",
     "output_type": "stream",
     "text": [
      "Pretty printing has been turned OFF\n",
      "======== Neo4j/4.4.7 ========\n",
      "Utility libraries created in 22 seconds\n"
     ]
    },
    {
     "data": {
      "text/plain": [
       "['nu.color_distance_from', 'nu.get_color_cycled_list', 'nu.get_color_cycler', 'nu.get_text_color']"
      ]
     },
     "execution_count": 1,
     "metadata": {},
     "output_type": "execute_result"
    }
   ],
   "source": [
    "\n",
    "%pprint\n",
    "%matplotlib inline\n",
    "import sys\n",
    "sys.path.insert(1, '../py')\n",
    "from jobpostlib import (crf, cu, datetime, duration, hau, hc, humanize, ihu, lru, nu, osp, scrfcu, slrcu, ssgdcu, su, t0, time, wsu, speech_engine)\n",
    "import os\n",
    "from pandas import DataFrame\n",
    "import re\n",
    "\n",
    "[f'nu.{fn}' for fn in dir(nu) if 'color' in fn]"
   ]
  },
  {
   "cell_type": "code",
   "execution_count": 2,
   "metadata": {},
   "outputs": [],
   "source": [
    "\n",
    "# Standardize all the notebook utilities in the GitHub folder\n",
    "from itertools import combinations\n",
    "import subprocess\n",
    "\n",
    "paths_list = []\n",
    "black_list = ['.ipynb_checkpoints', '$Recycle.Bin', '.git', 'llama_index']\n",
    "for sub_directory, directories_list, files_list in os.walk(osp.abspath('../../')):\n",
    "    if all(map(lambda x: x not in sub_directory, black_list)):\n",
    "        for file_name in files_list:\n",
    "            if file_name == 'notebook_utils.py':\n",
    "                file_path = osp.join(sub_directory, file_name)\n",
    "                paths_list.append(file_path)\n",
    "\n",
    "# Get all unique pairs (order doesn't matter)\n",
    "pairs = combinations(paths_list, 2)\n",
    "\n",
    "# Iterate through pairs and compare them\n",
    "comparator_path = r\"C:\\Program Files (x86)\\Compare It!\\wincmp3.exe\"\n",
    "for pair in pairs:\n",
    "    # print(pair)\n",
    "    subprocess.run([comparator_path, pair[0], pair[1]])"
   ]
  },
  {
   "cell_type": "code",
   "execution_count": 4,
   "metadata": {},
   "outputs": [
    {
     "name": "stdout",
     "output_type": "stream",
     "text": [
      "C:\\neo4j\\import\\job_hunting.csv\n",
      "C:\\Users\\daveb\\Downloads\\job_hunting.csv\n"
     ]
    }
   ],
   "source": [
    "\n",
    "black_list = ['$RECYCLE.BIN', '$Recycle.Bin', '.git']\n",
    "root_dir = 'C:\\\\'\n",
    "for sub_directory, directories_list, files_list in os.walk(root_dir):\n",
    "    if all(map(lambda x: x not in sub_directory, black_list)):\n",
    "        for file_name in files_list:\n",
    "            if file_name == 'job_hunting.csv':\n",
    "                file_path = os.path.join(sub_directory, file_name)\n",
    "                print(file_path)\n",
    "                break"
   ]
  },
  {
   "cell_type": "code",
   "execution_count": 5,
   "metadata": {},
   "outputs": [
    {
     "data": {
      "text/plain": [
       "['nu.csv_exists', 'nu.data_csv_folder', 'nu.load_csv', 'nu.saves_csv_folder']"
      ]
     },
     "execution_count": 5,
     "metadata": {},
     "output_type": "execute_result"
    }
   ],
   "source": [
    "\n",
    "[f'nu.{fn}' for fn in dir(nu) if 'csv' in fn]"
   ]
  },
  {
   "cell_type": "code",
   "execution_count": 22,
   "metadata": {},
   "outputs": [
    {
     "data": {
      "text/html": [
       "<div>\n",
       "<style scoped>\n",
       "    .dataframe tbody tr th:only-of-type {\n",
       "        vertical-align: middle;\n",
       "    }\n",
       "\n",
       "    .dataframe tbody tr th {\n",
       "        vertical-align: top;\n",
       "    }\n",
       "\n",
       "    .dataframe thead th {\n",
       "        text-align: right;\n",
       "    }\n",
       "</style>\n",
       "<table border=\"1\" class=\"dataframe\">\n",
       "  <thead>\n",
       "    <tr style=\"text-align: right;\">\n",
       "      <th></th>\n",
       "      <th>a</th>\n",
       "      <th>b</th>\n",
       "    </tr>\n",
       "  </thead>\n",
       "  <tbody>\n",
       "    <tr>\n",
       "      <th>0</th>\n",
       "      <td>{\"id\":799286,\"labels\":[\"HeaderTags\"],\"properti...</td>\n",
       "      <td>{\"id\":983057,\"labels\":[\"NavigableParents\"],\"pr...</td>\n",
       "    </tr>\n",
       "    <tr>\n",
       "      <th>1</th>\n",
       "      <td>{\"id\":799309,\"labels\":[\"HeaderTags\"],\"properti...</td>\n",
       "      <td>{\"id\":795876,\"labels\":[\"NavigableParents\"],\"pr...</td>\n",
       "    </tr>\n",
       "    <tr>\n",
       "      <th>2</th>\n",
       "      <td>{\"id\":794685,\"labels\":[\"PartsOfSpeech\"],\"prope...</td>\n",
       "      <td>{\"id\":980534,\"labels\":[\"NavigableParents\"],\"pr...</td>\n",
       "    </tr>\n",
       "    <tr>\n",
       "      <th>3</th>\n",
       "      <td>{\"id\":799309,\"labels\":[\"HeaderTags\"],\"properti...</td>\n",
       "      <td>{\"id\":766048,\"labels\":[\"NavigableParents\"],\"pr...</td>\n",
       "    </tr>\n",
       "    <tr>\n",
       "      <th>4</th>\n",
       "      <td>{\"id\":799228,\"labels\":[\"HeaderTags\"],\"properti...</td>\n",
       "      <td>{\"id\":983362,\"labels\":[\"NavigableParents\"],\"pr...</td>\n",
       "    </tr>\n",
       "  </tbody>\n",
       "</table>\n",
       "</div>"
      ],
      "text/plain": [
       "                                                   a  \\\n",
       "0  {\"id\":799286,\"labels\":[\"HeaderTags\"],\"properti...   \n",
       "1  {\"id\":799309,\"labels\":[\"HeaderTags\"],\"properti...   \n",
       "2  {\"id\":794685,\"labels\":[\"PartsOfSpeech\"],\"prope...   \n",
       "3  {\"id\":799309,\"labels\":[\"HeaderTags\"],\"properti...   \n",
       "4  {\"id\":799228,\"labels\":[\"HeaderTags\"],\"properti...   \n",
       "\n",
       "                                                   b  \n",
       "0  {\"id\":983057,\"labels\":[\"NavigableParents\"],\"pr...  \n",
       "1  {\"id\":795876,\"labels\":[\"NavigableParents\"],\"pr...  \n",
       "2  {\"id\":980534,\"labels\":[\"NavigableParents\"],\"pr...  \n",
       "3  {\"id\":766048,\"labels\":[\"NavigableParents\"],\"pr...  \n",
       "4  {\"id\":983362,\"labels\":[\"NavigableParents\"],\"pr...  "
      ]
     },
     "execution_count": 22,
     "metadata": {},
     "output_type": "execute_result"
    }
   ],
   "source": [
    "\n",
    "nu.load_csv(csv_name='apoc_export_csv_query_examplerelationships')"
   ]
  },
  {
   "cell_type": "code",
   "execution_count": 17,
   "metadata": {},
   "outputs": [
    {
     "name": "stdout",
     "output_type": "stream",
     "text": [
      "(10130, 21)\n"
     ]
    },
    {
     "data": {
      "text/html": [
       "<div>\n",
       "<style scoped>\n",
       "    .dataframe tbody tr th:only-of-type {\n",
       "        vertical-align: middle;\n",
       "    }\n",
       "\n",
       "    .dataframe tbody tr th {\n",
       "        vertical-align: top;\n",
       "    }\n",
       "\n",
       "    .dataframe thead th {\n",
       "        text-align: right;\n",
       "    }\n",
       "</style>\n",
       "<table border=\"1\" class=\"dataframe\">\n",
       "  <thead>\n",
       "    <tr style=\"text-align: right;\">\n",
       "      <th></th>\n",
       "      <th>228</th>\n",
       "      <th>3212</th>\n",
       "      <th>6707</th>\n",
       "      <th>1569</th>\n",
       "      <th>123</th>\n",
       "      <th>2193</th>\n",
       "      <th>6598</th>\n",
       "      <th>4614</th>\n",
       "      <th>5219</th>\n",
       "      <th>8256</th>\n",
       "    </tr>\n",
       "  </thead>\n",
       "  <tbody>\n",
       "    <tr>\n",
       "      <th>_id</th>\n",
       "      <td>931638</td>\n",
       "      <td>946516</td>\n",
       "      <td>965319</td>\n",
       "      <td>940391</td>\n",
       "      <td>902935</td>\n",
       "      <td>942537</td>\n",
       "      <td>965042</td>\n",
       "      <td>954075</td>\n",
       "      <td>957611</td>\n",
       "      <td>969797</td>\n",
       "    </tr>\n",
       "    <tr>\n",
       "      <th>_labels</th>\n",
       "      <td>:NavigableParents</td>\n",
       "      <td>:NavigableParents</td>\n",
       "      <td>:NavigableParents</td>\n",
       "      <td>:NavigableParents</td>\n",
       "      <td>:NavigableParents</td>\n",
       "      <td>:NavigableParents</td>\n",
       "      <td>:NavigableParents</td>\n",
       "      <td>:NavigableParents</td>\n",
       "      <td>:NavigableParents</td>\n",
       "      <td>:NavigableParents</td>\n",
       "    </tr>\n",
       "    <tr>\n",
       "      <th>is_corporate_scope</th>\n",
       "      <td>False</td>\n",
       "      <td>False</td>\n",
       "      <td>False</td>\n",
       "      <td>False</td>\n",
       "      <td>False</td>\n",
       "      <td>False</td>\n",
       "      <td>False</td>\n",
       "      <td>False</td>\n",
       "      <td>False</td>\n",
       "      <td>False</td>\n",
       "    </tr>\n",
       "    <tr>\n",
       "      <th>is_educational_requirement</th>\n",
       "      <td>False</td>\n",
       "      <td>False</td>\n",
       "      <td>False</td>\n",
       "      <td>False</td>\n",
       "      <td>False</td>\n",
       "      <td>False</td>\n",
       "      <td>False</td>\n",
       "      <td>False</td>\n",
       "      <td>False</td>\n",
       "      <td>False</td>\n",
       "    </tr>\n",
       "    <tr>\n",
       "      <th>is_header</th>\n",
       "      <td>False</td>\n",
       "      <td>False</td>\n",
       "      <td>False</td>\n",
       "      <td>False</td>\n",
       "      <td>False</td>\n",
       "      <td>False</td>\n",
       "      <td>False</td>\n",
       "      <td>False</td>\n",
       "      <td>False</td>\n",
       "      <td>False</td>\n",
       "    </tr>\n",
       "    <tr>\n",
       "      <th>is_interview_procedure</th>\n",
       "      <td>False</td>\n",
       "      <td>False</td>\n",
       "      <td>False</td>\n",
       "      <td>False</td>\n",
       "      <td>False</td>\n",
       "      <td>False</td>\n",
       "      <td>False</td>\n",
       "      <td>False</td>\n",
       "      <td>False</td>\n",
       "      <td>False</td>\n",
       "    </tr>\n",
       "    <tr>\n",
       "      <th>is_job_duration</th>\n",
       "      <td>False</td>\n",
       "      <td>False</td>\n",
       "      <td>False</td>\n",
       "      <td>False</td>\n",
       "      <td>False</td>\n",
       "      <td>False</td>\n",
       "      <td>False</td>\n",
       "      <td>False</td>\n",
       "      <td>False</td>\n",
       "      <td>False</td>\n",
       "    </tr>\n",
       "    <tr>\n",
       "      <th>is_job_title</th>\n",
       "      <td>True</td>\n",
       "      <td>True</td>\n",
       "      <td>True</td>\n",
       "      <td>True</td>\n",
       "      <td>True</td>\n",
       "      <td>True</td>\n",
       "      <td>True</td>\n",
       "      <td>True</td>\n",
       "      <td>True</td>\n",
       "      <td>True</td>\n",
       "    </tr>\n",
       "    <tr>\n",
       "      <th>is_legal_notification</th>\n",
       "      <td>False</td>\n",
       "      <td>False</td>\n",
       "      <td>False</td>\n",
       "      <td>False</td>\n",
       "      <td>False</td>\n",
       "      <td>False</td>\n",
       "      <td>False</td>\n",
       "      <td>False</td>\n",
       "      <td>False</td>\n",
       "      <td>False</td>\n",
       "    </tr>\n",
       "    <tr>\n",
       "      <th>is_minimum_qualification</th>\n",
       "      <td>False</td>\n",
       "      <td>False</td>\n",
       "      <td>False</td>\n",
       "      <td>False</td>\n",
       "      <td>False</td>\n",
       "      <td>False</td>\n",
       "      <td>False</td>\n",
       "      <td>False</td>\n",
       "      <td>False</td>\n",
       "      <td>False</td>\n",
       "    </tr>\n",
       "    <tr>\n",
       "      <th>is_office_location</th>\n",
       "      <td>False</td>\n",
       "      <td>False</td>\n",
       "      <td>False</td>\n",
       "      <td>False</td>\n",
       "      <td>False</td>\n",
       "      <td>False</td>\n",
       "      <td>False</td>\n",
       "      <td>False</td>\n",
       "      <td>False</td>\n",
       "      <td>False</td>\n",
       "    </tr>\n",
       "    <tr>\n",
       "      <th>is_other</th>\n",
       "      <td>False</td>\n",
       "      <td>False</td>\n",
       "      <td>False</td>\n",
       "      <td>False</td>\n",
       "      <td>False</td>\n",
       "      <td>False</td>\n",
       "      <td>False</td>\n",
       "      <td>False</td>\n",
       "      <td>False</td>\n",
       "      <td>False</td>\n",
       "    </tr>\n",
       "    <tr>\n",
       "      <th>is_posting_date</th>\n",
       "      <td>False</td>\n",
       "      <td>False</td>\n",
       "      <td>False</td>\n",
       "      <td>False</td>\n",
       "      <td>False</td>\n",
       "      <td>False</td>\n",
       "      <td>False</td>\n",
       "      <td>False</td>\n",
       "      <td>False</td>\n",
       "      <td>False</td>\n",
       "    </tr>\n",
       "    <tr>\n",
       "      <th>is_preferred_qualification</th>\n",
       "      <td>False</td>\n",
       "      <td>False</td>\n",
       "      <td>False</td>\n",
       "      <td>False</td>\n",
       "      <td>False</td>\n",
       "      <td>False</td>\n",
       "      <td>False</td>\n",
       "      <td>False</td>\n",
       "      <td>False</td>\n",
       "      <td>False</td>\n",
       "    </tr>\n",
       "    <tr>\n",
       "      <th>is_qualification</th>\n",
       "      <td>NaN</td>\n",
       "      <td>NaN</td>\n",
       "      <td>NaN</td>\n",
       "      <td>NaN</td>\n",
       "      <td>False</td>\n",
       "      <td>NaN</td>\n",
       "      <td>NaN</td>\n",
       "      <td>NaN</td>\n",
       "      <td>NaN</td>\n",
       "      <td>NaN</td>\n",
       "    </tr>\n",
       "    <tr>\n",
       "      <th>is_supplemental_pay</th>\n",
       "      <td>False</td>\n",
       "      <td>False</td>\n",
       "      <td>False</td>\n",
       "      <td>False</td>\n",
       "      <td>False</td>\n",
       "      <td>False</td>\n",
       "      <td>False</td>\n",
       "      <td>False</td>\n",
       "      <td>False</td>\n",
       "      <td>False</td>\n",
       "    </tr>\n",
       "    <tr>\n",
       "      <th>is_task_scope</th>\n",
       "      <td>False</td>\n",
       "      <td>False</td>\n",
       "      <td>False</td>\n",
       "      <td>False</td>\n",
       "      <td>False</td>\n",
       "      <td>False</td>\n",
       "      <td>False</td>\n",
       "      <td>False</td>\n",
       "      <td>False</td>\n",
       "      <td>False</td>\n",
       "    </tr>\n",
       "    <tr>\n",
       "      <th>navigable_parent</th>\n",
       "      <td>&lt;p&gt;Role ID: 4656043&lt;/p&gt;</td>\n",
       "      <td>&lt;p&gt;Role ID: 4542349&lt;/p&gt;</td>\n",
       "      <td>&lt;ojt&gt;Role ID: 4711968.0&lt;/ojt&gt;</td>\n",
       "      <td>&lt;p&gt;Role Title: On - Maximo Tech Arch - Maximo ...</td>\n",
       "      <td>Automation Engineer with Python</td>\n",
       "      <td>&lt;p&gt;Role Title: Infra Tech Support Practitioner...</td>\n",
       "      <td>&lt;ojt&gt;Role ID: 4657784.0&lt;/ojt&gt;</td>\n",
       "      <td>&lt;ojt&gt;Role Title: CCB Developer-8-Manila&lt;/ojt&gt;</td>\n",
       "      <td>&lt;ojt&gt;Role ID: 4687824&lt;/ojt&gt;</td>\n",
       "      <td>&lt;ojt&gt;Role ID: 4142115.0&lt;/ojt&gt;</td>\n",
       "    </tr>\n",
       "    <tr>\n",
       "      <th>_start</th>\n",
       "      <td>NaN</td>\n",
       "      <td>NaN</td>\n",
       "      <td>NaN</td>\n",
       "      <td>NaN</td>\n",
       "      <td>NaN</td>\n",
       "      <td>NaN</td>\n",
       "      <td>NaN</td>\n",
       "      <td>NaN</td>\n",
       "      <td>NaN</td>\n",
       "      <td>NaN</td>\n",
       "    </tr>\n",
       "    <tr>\n",
       "      <th>_end</th>\n",
       "      <td>NaN</td>\n",
       "      <td>NaN</td>\n",
       "      <td>NaN</td>\n",
       "      <td>NaN</td>\n",
       "      <td>NaN</td>\n",
       "      <td>NaN</td>\n",
       "      <td>NaN</td>\n",
       "      <td>NaN</td>\n",
       "      <td>NaN</td>\n",
       "      <td>NaN</td>\n",
       "    </tr>\n",
       "    <tr>\n",
       "      <th>_type</th>\n",
       "      <td>NaN</td>\n",
       "      <td>NaN</td>\n",
       "      <td>NaN</td>\n",
       "      <td>NaN</td>\n",
       "      <td>NaN</td>\n",
       "      <td>NaN</td>\n",
       "      <td>NaN</td>\n",
       "      <td>NaN</td>\n",
       "      <td>NaN</td>\n",
       "      <td>NaN</td>\n",
       "    </tr>\n",
       "  </tbody>\n",
       "</table>\n",
       "</div>"
      ],
      "text/plain": [
       "                                               228                      3212  \\\n",
       "_id                                          931638                   946516   \n",
       "_labels                           :NavigableParents        :NavigableParents   \n",
       "is_corporate_scope                            False                    False   \n",
       "is_educational_requirement                    False                    False   \n",
       "is_header                                     False                    False   \n",
       "is_interview_procedure                        False                    False   \n",
       "is_job_duration                               False                    False   \n",
       "is_job_title                                   True                     True   \n",
       "is_legal_notification                         False                    False   \n",
       "is_minimum_qualification                      False                    False   \n",
       "is_office_location                            False                    False   \n",
       "is_other                                      False                    False   \n",
       "is_posting_date                               False                    False   \n",
       "is_preferred_qualification                    False                    False   \n",
       "is_qualification                                NaN                      NaN   \n",
       "is_supplemental_pay                           False                    False   \n",
       "is_task_scope                                 False                    False   \n",
       "navigable_parent            <p>Role ID: 4656043</p>  <p>Role ID: 4542349</p>   \n",
       "_start                                          NaN                      NaN   \n",
       "_end                                            NaN                      NaN   \n",
       "_type                                           NaN                      NaN   \n",
       "\n",
       "                                                     6707  \\\n",
       "_id                                                965319   \n",
       "_labels                                 :NavigableParents   \n",
       "is_corporate_scope                                  False   \n",
       "is_educational_requirement                          False   \n",
       "is_header                                           False   \n",
       "is_interview_procedure                              False   \n",
       "is_job_duration                                     False   \n",
       "is_job_title                                         True   \n",
       "is_legal_notification                               False   \n",
       "is_minimum_qualification                            False   \n",
       "is_office_location                                  False   \n",
       "is_other                                            False   \n",
       "is_posting_date                                     False   \n",
       "is_preferred_qualification                          False   \n",
       "is_qualification                                      NaN   \n",
       "is_supplemental_pay                                 False   \n",
       "is_task_scope                                       False   \n",
       "navigable_parent            <ojt>Role ID: 4711968.0</ojt>   \n",
       "_start                                                NaN   \n",
       "_end                                                  NaN   \n",
       "_type                                                 NaN   \n",
       "\n",
       "                                                                         1569  \\\n",
       "_id                                                                    940391   \n",
       "_labels                                                     :NavigableParents   \n",
       "is_corporate_scope                                                      False   \n",
       "is_educational_requirement                                              False   \n",
       "is_header                                                               False   \n",
       "is_interview_procedure                                                  False   \n",
       "is_job_duration                                                         False   \n",
       "is_job_title                                                             True   \n",
       "is_legal_notification                                                   False   \n",
       "is_minimum_qualification                                                False   \n",
       "is_office_location                                                      False   \n",
       "is_other                                                                False   \n",
       "is_posting_date                                                         False   \n",
       "is_preferred_qualification                                              False   \n",
       "is_qualification                                                          NaN   \n",
       "is_supplemental_pay                                                     False   \n",
       "is_task_scope                                                           False   \n",
       "navigable_parent            <p>Role Title: On - Maximo Tech Arch - Maximo ...   \n",
       "_start                                                                    NaN   \n",
       "_end                                                                      NaN   \n",
       "_type                                                                     NaN   \n",
       "\n",
       "                                                       123   \\\n",
       "_id                                                  902935   \n",
       "_labels                                   :NavigableParents   \n",
       "is_corporate_scope                                    False   \n",
       "is_educational_requirement                            False   \n",
       "is_header                                             False   \n",
       "is_interview_procedure                                False   \n",
       "is_job_duration                                       False   \n",
       "is_job_title                                           True   \n",
       "is_legal_notification                                 False   \n",
       "is_minimum_qualification                              False   \n",
       "is_office_location                                    False   \n",
       "is_other                                              False   \n",
       "is_posting_date                                       False   \n",
       "is_preferred_qualification                            False   \n",
       "is_qualification                                      False   \n",
       "is_supplemental_pay                                   False   \n",
       "is_task_scope                                         False   \n",
       "navigable_parent            Automation Engineer with Python   \n",
       "_start                                                  NaN   \n",
       "_end                                                    NaN   \n",
       "_type                                                   NaN   \n",
       "\n",
       "                                                                         2193  \\\n",
       "_id                                                                    942537   \n",
       "_labels                                                     :NavigableParents   \n",
       "is_corporate_scope                                                      False   \n",
       "is_educational_requirement                                              False   \n",
       "is_header                                                               False   \n",
       "is_interview_procedure                                                  False   \n",
       "is_job_duration                                                         False   \n",
       "is_job_title                                                             True   \n",
       "is_legal_notification                                                   False   \n",
       "is_minimum_qualification                                                False   \n",
       "is_office_location                                                      False   \n",
       "is_other                                                                False   \n",
       "is_posting_date                                                         False   \n",
       "is_preferred_qualification                                              False   \n",
       "is_qualification                                                          NaN   \n",
       "is_supplemental_pay                                                     False   \n",
       "is_task_scope                                                           False   \n",
       "navigable_parent            <p>Role Title: Infra Tech Support Practitioner...   \n",
       "_start                                                                    NaN   \n",
       "_end                                                                      NaN   \n",
       "_type                                                                     NaN   \n",
       "\n",
       "                                                     6598  \\\n",
       "_id                                                965042   \n",
       "_labels                                 :NavigableParents   \n",
       "is_corporate_scope                                  False   \n",
       "is_educational_requirement                          False   \n",
       "is_header                                           False   \n",
       "is_interview_procedure                              False   \n",
       "is_job_duration                                     False   \n",
       "is_job_title                                         True   \n",
       "is_legal_notification                               False   \n",
       "is_minimum_qualification                            False   \n",
       "is_office_location                                  False   \n",
       "is_other                                            False   \n",
       "is_posting_date                                     False   \n",
       "is_preferred_qualification                          False   \n",
       "is_qualification                                      NaN   \n",
       "is_supplemental_pay                                 False   \n",
       "is_task_scope                                       False   \n",
       "navigable_parent            <ojt>Role ID: 4657784.0</ojt>   \n",
       "_start                                                NaN   \n",
       "_end                                                  NaN   \n",
       "_type                                                 NaN   \n",
       "\n",
       "                                                                     4614  \\\n",
       "_id                                                                954075   \n",
       "_labels                                                 :NavigableParents   \n",
       "is_corporate_scope                                                  False   \n",
       "is_educational_requirement                                          False   \n",
       "is_header                                                           False   \n",
       "is_interview_procedure                                              False   \n",
       "is_job_duration                                                     False   \n",
       "is_job_title                                                         True   \n",
       "is_legal_notification                                               False   \n",
       "is_minimum_qualification                                            False   \n",
       "is_office_location                                                  False   \n",
       "is_other                                                            False   \n",
       "is_posting_date                                                     False   \n",
       "is_preferred_qualification                                          False   \n",
       "is_qualification                                                      NaN   \n",
       "is_supplemental_pay                                                 False   \n",
       "is_task_scope                                                       False   \n",
       "navigable_parent            <ojt>Role Title: CCB Developer-8-Manila</ojt>   \n",
       "_start                                                                NaN   \n",
       "_end                                                                  NaN   \n",
       "_type                                                                 NaN   \n",
       "\n",
       "                                                   5219  \\\n",
       "_id                                              957611   \n",
       "_labels                               :NavigableParents   \n",
       "is_corporate_scope                                False   \n",
       "is_educational_requirement                        False   \n",
       "is_header                                         False   \n",
       "is_interview_procedure                            False   \n",
       "is_job_duration                                   False   \n",
       "is_job_title                                       True   \n",
       "is_legal_notification                             False   \n",
       "is_minimum_qualification                          False   \n",
       "is_office_location                                False   \n",
       "is_other                                          False   \n",
       "is_posting_date                                   False   \n",
       "is_preferred_qualification                        False   \n",
       "is_qualification                                    NaN   \n",
       "is_supplemental_pay                               False   \n",
       "is_task_scope                                     False   \n",
       "navigable_parent            <ojt>Role ID: 4687824</ojt>   \n",
       "_start                                              NaN   \n",
       "_end                                                NaN   \n",
       "_type                                               NaN   \n",
       "\n",
       "                                                     8256  \n",
       "_id                                                969797  \n",
       "_labels                                 :NavigableParents  \n",
       "is_corporate_scope                                  False  \n",
       "is_educational_requirement                          False  \n",
       "is_header                                           False  \n",
       "is_interview_procedure                              False  \n",
       "is_job_duration                                     False  \n",
       "is_job_title                                         True  \n",
       "is_legal_notification                               False  \n",
       "is_minimum_qualification                            False  \n",
       "is_office_location                                  False  \n",
       "is_other                                            False  \n",
       "is_posting_date                                     False  \n",
       "is_preferred_qualification                          False  \n",
       "is_qualification                                      NaN  \n",
       "is_supplemental_pay                                 False  \n",
       "is_task_scope                                       False  \n",
       "navigable_parent            <ojt>Role ID: 4142115.0</ojt>  \n",
       "_start                                                NaN  \n",
       "_end                                                  NaN  \n",
       "_type                                                 NaN  "
      ]
     },
     "execution_count": 17,
     "metadata": {},
     "output_type": "execute_result"
    }
   ],
   "source": [
    "\n",
    "jobtitles_df = nu.load_csv(csv_name='apoc_export_csv_data_jobtitles')\n",
    "print(jobtitles_df.shape)\n",
    "jobtitles_df.sample(10).T"
   ]
  },
  {
   "cell_type": "code",
   "execution_count": 15,
   "metadata": {},
   "outputs": [
    {
     "data": {
      "text/plain": [
       "array([True, False, nan], dtype=object)"
      ]
     },
     "execution_count": 15,
     "metadata": {},
     "output_type": "execute_result"
    }
   ],
   "source": [
    "\n",
    "jobtitles_df.is_header.unique()"
   ]
  },
  {
   "cell_type": "code",
   "execution_count": 21,
   "metadata": {},
   "outputs": [
    {
     "data": {
      "text/plain": [
       "navigable_parent\n",
       "                                 33\n",
       "Data Scientist                    5\n",
       "Machine Learning Engineer         2\n",
       "Software Development              2\n",
       "@TetraTechCareers                 2\n",
       "Senior Statistical Programmer     2\n",
       "Name: count, dtype: int64"
      ]
     },
     "execution_count": 21,
     "metadata": {},
     "output_type": "execute_result"
    }
   ],
   "source": [
    "\n",
    "mask_series = (jobtitles_df.is_header == False)\n",
    "df = jobtitles_df[~mask_series].navigable_parent.map(lambda x: re.split(': *', re.sub('<[^>]+>', '', str(x)).strip(), 0)[-1]).value_counts().sort_values(ascending=False)\n",
    "df[df > 1]"
   ]
  },
  {
   "cell_type": "code",
   "execution_count": 2,
   "metadata": {},
   "outputs": [
    {
     "name": "stdout",
     "output_type": "stream",
     "text": [
      "The procedure to update the list of modules that are installed is as follows:\n",
      "    1. Create the modules list with pip if not supplied.\n",
      "    2. Set the class variable if it is.\n"
     ]
    }
   ],
   "source": [
    "\n",
    "nu.describe_procedure(nu.update_modules_list, verbose=False)"
   ]
  },
  {
   "cell_type": "code",
   "execution_count": 27,
   "metadata": {},
   "outputs": [
    {
     "data": {
      "text/plain": [
       "['osp.curdir', 'osp.dirname', 'osp.isdir', 'osp.pardir']"
      ]
     },
     "execution_count": 27,
     "metadata": {},
     "output_type": "execute_result"
    }
   ],
   "source": [
    "\n",
    "[f'osp.{fn}' for fn in dir(osp) if 'dir' in fn]"
   ]
  },
  {
   "cell_type": "markdown",
   "metadata": {},
   "source": [
    "\n",
    "<quote>\"The universe is bigger than your life; your life is bigger than your self; your self is bigger than your self-expression; your self-expression is bigger than your signaled preferences, your signaled preferences are bigger than your politics, your politics are bigger than your creative identity.\"</quote> Venkatesh Rao"
   ]
  },
  {
   "cell_type": "code",
   "execution_count": 4,
   "metadata": {},
   "outputs": [
    {
     "data": {
      "text/plain": [
       "['Avg', 'F', 'In', 'Max', 'Min', 'Out', 'Q', 'Sum', 'crf', 'cu', 'hau', 'hc', 'ihu', 'lru', 'nu', 'os', 'osp', 're', 'su', 'sys', 't0', 'wsu']"
      ]
     },
     "execution_count": 4,
     "metadata": {},
     "output_type": "execute_result"
    }
   ],
   "source": [
    "\n",
    "[fn for fn in dir() if (len(fn) < 4) and not fn.startswith('_')]"
   ]
  },
  {
   "cell_type": "code",
   "execution_count": null,
   "metadata": {},
   "outputs": [],
   "source": [
    "\n",
    "black_list = ['.ipynb_checkpoints', '$Recycle.Bin']\n",
    "for sub_directory, directories_list, files_list in os.walk(osp.dirname(nu.github_folder)):\n",
    "    if all(map(lambda x: x not in sub_directory, black_list)):\n",
    "        for file_name in files_list:\n",
    "            if 'esv' in file_name.lower():\n",
    "                file_path = osp.join(sub_directory, file_name)\n",
    "                print(file_path)"
   ]
  },
  {
   "cell_type": "code",
   "execution_count": 5,
   "metadata": {},
   "outputs": [
    {
     "name": "stdout",
     "output_type": "stream",
     "text": [
      "\n",
      "MATCH (fn:FileNames)\n",
      "WHERE\n",
      "    (fn.file_name IN [\"382154c63ba6b00e_Data_Scientist_Remote_Indeed_com.html\", \"b7dc35c0738d1cb2_Clojure_Software_Engineer_Remote_Indeed_com.html\"]) AND\n",
      "    ((fn.is_closed IS NULL) OR (fn.is_closed = false)) AND\n",
      "    (fn.rejection_email_text IS NULL) AND\n",
      "    (fn.rejection_email_date IS NULL)\n",
      "RETURN\n",
      "    fn.percent_fit AS percent_fit,\n",
      "    fn.file_name AS file_name,\n",
      "    fn.posting_url AS posting_url\n",
      "ORDER BY fn.percent_fit DESC;\n"
     ]
    }
   ],
   "source": [
    "\n",
    "black_list = ['$RECYCLE.BIN', '$Recycle.Bin', '.git']\n",
    "root_dir = r'C:\\Users\\daveb\\OneDrive\\Documents\\GitHub\\job-hunting\\saves\\html'\n",
    "file_names_list = []\n",
    "for sub_directory, directories_list, files_list in os.walk(root_dir):\n",
    "    if all(map(lambda x: x not in sub_directory, black_list)):\n",
    "        for file_name in files_list:\n",
    "            if (file_name.endswith('.html')):\n",
    "                file_path = os.path.join(sub_directory, file_name)\n",
    "                with open(file_path, 'r', encoding=nu.encoding_type) as f:\n",
    "                    html_str = f.read()\n",
    "                    hit_count = 0\n",
    "                    for text_str in ['Buyers', 'Edge', 'Platform']:\n",
    "                        if re.search(text_str, html_str): hit_count += 1\n",
    "                    if hit_count == 3: file_names_list.append(file_name)\n",
    "print(f'''\n",
    "MATCH (fn:FileNames)\n",
    "WHERE\n",
    "    (fn.file_name IN {str(file_names_list).replace(\"'\", '\"')}) AND\n",
    "    ((fn.is_closed IS NULL) OR (fn.is_closed = false)) AND\n",
    "    (fn.rejection_email_text IS NULL) AND\n",
    "    (fn.rejection_email_date IS NULL)\n",
    "RETURN\n",
    "    fn.percent_fit AS percent_fit,\n",
    "    fn.file_name AS file_name,\n",
    "    fn.posting_url AS posting_url\n",
    "ORDER BY fn.percent_fit DESC;''')"
   ]
  },
  {
   "cell_type": "code",
   "execution_count": null,
   "metadata": {},
   "outputs": [],
   "source": []
  },
  {
   "cell_type": "code",
   "execution_count": null,
   "metadata": {},
   "outputs": [],
   "source": [
    "\n",
    "# Function to copy files while skipping existing files\n",
    "import shutil\n",
    "\n",
    "zoneinfo_folder = 'C:\\\\Users\\\\daveb\\\\OneDrive\\\\Documents\\\\GitHub\\\\job-hunting\\\\jh_env\\\\lib\\\\site-packages\\\\tzdata\\\\zoneinfo'\n",
    "def copy_files(src, dst):\n",
    "    for root, dirs, files in os.walk(src):\n",
    "        \n",
    "        # Create the corresponding directory structure in the destination\n",
    "        for dir in dirs:\n",
    "            src_dir = os.path.join(root, dir)\n",
    "            dst_dir = os.path.join(dst, os.path.relpath(src_dir, src))\n",
    "            if not os.path.exists(dst_dir):\n",
    "                os.makedirs(dst_dir)\n",
    "\n",
    "        # Copy files, skipping existing files in the destination\n",
    "            dst_file = os.path.join(dst, os.path.relpath(src_file, src))\n",
    "            if not os.path.exists(dst_file):\n",
    "                shutil.copy2(src_file, dst_file)\n",
    "\n",
    "# Copy files from tz_path to zoneinfo_folder\n",
    "for tz_path in tz_paths_list: copy_files(tz_path, zoneinfo_folder)"
   ]
  },
  {
   "cell_type": "code",
   "execution_count": null,
   "metadata": {},
   "outputs": [],
   "source": [
    "\n",
    "folder_path = tz_paths_list.pop()\n",
    "!explorer.exe {folder_path}"
   ]
  },
  {
   "cell_type": "code",
   "execution_count": null,
   "metadata": {},
   "outputs": [],
   "source": [
    "\n",
    "folder_path = 'C:\\\\Users\\\\daveb\\\\OneDrive\\\\Documents\\\\GitHub\\\\job-hunting\\\\jh_env\\\\lib\\\\site-packages\\\\tzdata\\\\zoneinfo'\n",
    "!explorer.exe {folder_path}"
   ]
  },
  {
   "cell_type": "code",
   "execution_count": null,
   "metadata": {},
   "outputs": [],
   "source": [
    "\n",
    "!start %windir%\\explorer.exe \"{os.path.abspath(nu.github_folder)}\""
   ]
  },
  {
   "cell_type": "code",
   "execution_count": null,
   "metadata": {},
   "outputs": [],
   "source": [
    "\n",
    "import os\n",
    "\n",
    "black_list = ['$RECYCLE.BIN', '$Recycle.Bin', '.git', 'jh_env', '.ipynb_checkpoints', 'explorations', 'Microsoft', 'npm',\n",
    "              'Theme', 'Assets', 'Lib', 'site-packages']\n",
    "suffixes_list = ['.cer']\n",
    "neo4j_certs_list = []\n",
    "for root_dir in ['C:\\\\', 'D:\\\\']:\n",
    "    for sub_directory, directories_list, files_list in os.walk(root_dir):\n",
    "        if all(map(lambda x: x not in sub_directory, black_list)):\n",
    "            for file_name in files_list:\n",
    "                if any(map(lambda x: file_name.lower().endswith(x), suffixes_list)):\n",
    "                    file_path = os.path.join(sub_directory, file_name)\n",
    "                    print(file_path)\n",
    "                    if (file_name == 'neo4j.cer'): neo4j_certs_list.append(file_path)"
   ]
  },
  {
   "cell_type": "code",
   "execution_count": null,
   "metadata": {},
   "outputs": [],
   "source": [
    "\n",
    "import os\n",
    "\n",
    "black_list = ['data', 'saves', '.ipynb_checkpoints']\n",
    "for root_dir in [r'C:\\Users\\daveb\\OneDrive\\Documents\\GitHub']:\n",
    "    for sub_directory, directories_list, files_list in os.walk(root_dir):\n",
    "        if all(map(lambda x: x not in sub_directory, black_list)):\n",
    "            for file_name in files_list:\n",
    "                if ('prompt' in file_name):\n",
    "                    file_path = os.path.join(sub_directory, file_name)\n",
    "                    print(file_path)"
   ]
  },
  {
   "cell_type": "code",
   "execution_count": null,
   "metadata": {},
   "outputs": [],
   "source": [
    "\n",
    "import os\n",
    "from datetime import datetime, date\n",
    "from pandas import DataFrame\n",
    "\n",
    "white_list = ['load_magic']\n",
    "rows_list = []\n",
    "for root_dir in [r'C:\\Users\\daveb\\OneDrive\\Documents\\GitHub']:\n",
    "    for sub_directory, directories_list, files_list in os.walk(root_dir):\n",
    "        if all(map(lambda x: x in sub_directory, white_list)):\n",
    "            for file_name in files_list:\n",
    "                if 'environment.py' == file_name:\n",
    "                    file_path = os.path.join(sub_directory, file_name)\n",
    "                    \n",
    "                    # Get the last modification time of the file in seconds since epoch\n",
    "                    modification_time = os.path.getmtime(file_path)\n",
    "                    \n",
    "                    # Convert the modification time to a date object\n",
    "                    modification_date = datetime.fromtimestamp(modification_time).date()\n",
    "                    \n",
    "                    # Add it to the rows list\n",
    "                    row_dict = {}\n",
    "                    row_dict['file_path'] = file_path\n",
    "                    row_dict['modification_date'] = modification_date\n",
    "                    rows_list.append(row_dict)\n",
    "soup_df = DataFrame(rows_list)"
   ]
  },
  {
   "cell_type": "code",
   "execution_count": null,
   "metadata": {},
   "outputs": [],
   "source": [
    "\n",
    "import subprocess\n",
    "\n",
    "comparator_path = r'C:\\Program Files (x86)\\Compare It!\\wincmp3.exe'\n",
    "file_paths_list = soup_df.sort_values('modification_date', ascending=False).file_path.tolist()\n",
    "print(len(file_paths_list))\n",
    "subprocess.run([comparator_path, file_paths_list[0], file_paths_list[7]])"
   ]
  },
  {
   "cell_type": "code",
   "execution_count": null,
   "metadata": {},
   "outputs": [],
   "source": [
    "\n",
    "soup_groupby = soup_df.sort_values('modification_date', ascending=True).groupby('modification_date', group_keys=True)\n",
    "print(soup_groupby.min().head(1).values[0][0])\n",
    "def f(df):\n",
    "    display(df)\n",
    "    \n",
    "    return df\n",
    "_ = soup_groupby.apply(f)"
   ]
  },
  {
   "cell_type": "code",
   "execution_count": null,
   "metadata": {},
   "outputs": [],
   "source": [
    "\n",
    "for sub_directory, directories_list, files_list in os.walk(r'C:\\Users\\daveb\\OneDrive\\Documents\\GitHub\\job-hunting\\ipynb'):\n",
    "    for file_name in files_list:\n",
    "        if (not file_name.endswith('-checkpoint.ipynb')) and ('explor' in file_name.lower()):\n",
    "            print(file_name)"
   ]
  },
  {
   "cell_type": "code",
   "execution_count": null,
   "metadata": {},
   "outputs": [],
   "source": [
    "\n",
    "import os\n",
    "\n",
    "for root_dir in ['C:\\\\']:\n",
    "    for sub_directory, directories_list, files_list in os.walk(root_dir):\n",
    "        for file_name in files_list:\n",
    "            if file_name == 'neo4j_job_hunting_export.csv':\n",
    "                file_path = os.path.join(sub_directory, file_name)\n",
    "                print(file_path)"
   ]
  },
  {
   "cell_type": "code",
   "execution_count": null,
   "metadata": {},
   "outputs": [],
   "source": [
    "\n",
    "import os\n",
    "\n",
    "max_bytes = 0\n",
    "max_file_path = ''\n",
    "black_list = ['$RECYCLE.BIN', '$Recycle.Bin', '.git']\n",
    "for root_dir in [r'D:\\Documents\\GitHub\\job-hunting\\saves\\html']:\n",
    "    for sub_directory, directories_list, files_list in os.walk(root_dir, topdown=False):\n",
    "        if all(map(lambda x: x not in sub_directory, black_list)):\n",
    "            for file_name in files_list:\n",
    "                if file_name.endswith('.html') and 'sphere' in file_name.lower():\n",
    "                    file_path = os.path.join(sub_directory, file_name)\n",
    "                    # file_size = os.path.getsize(file_path)\n",
    "                    print(file_name)\n",
    "                    # if file_size > max_bytes:\n",
    "                    #     max_bytes = file_size\n",
    "                    #     max_file_path = file_path\n",
    "                    #     print(max_file_path)"
   ]
  },
  {
   "cell_type": "code",
   "execution_count": null,
   "metadata": {},
   "outputs": [],
   "source": [
    "\n",
    "def get_all_directories_containing(root_dir=r'C:\\Users\\dev\\anaconda3\\envs', contains_str='activate',\n",
    "                                   black_list=['$RECYCLE.BIN', '$Recycle.Bin', '.git']):\n",
    "    dir_path_list = []\n",
    "    if type(root_dir) == list:\n",
    "        root_dir_list = root_dir\n",
    "    else:\n",
    "        root_dir_list = [root_dir]\n",
    "    if type(contains_str) == list:\n",
    "        contains_list = contains_str\n",
    "    else:\n",
    "        contains_list = [contains_str]\n",
    "    for root_dir in root_dir_list:\n",
    "        for sub_directory, directories_list, files_list in os.walk(root_dir):\n",
    "            if all(map(lambda x: x not in sub_directory, black_list)):\n",
    "                for dir_name in directories_list:\n",
    "                    contains_bool = False\n",
    "                    for contains_str in contains_list:\n",
    "                        contains_bool = contains_bool or (contains_str in dir_name)\n",
    "                    if contains_bool:\n",
    "                        dir_path = os.path.join(sub_directory, dir_name)\n",
    "                        dir_path_list.append(dir_path)\n",
    "    \n",
    "    return dir_path_list"
   ]
  },
  {
   "cell_type": "code",
   "execution_count": null,
   "metadata": {},
   "outputs": [],
   "source": [
    "\n",
    "import os\n",
    "\n",
    "dirs_list = ['C:\\\\', 'D:\\\\']\n",
    "for file_path in get_all_directories_containing(root_dir=dirs_list, contains_str='minecraft', black_list=['$RECYCLE.BIN', '$Recycle.Bin', '.git']):\n",
    "    print(file_path)"
   ]
  },
  {
   "cell_type": "code",
   "execution_count": null,
   "metadata": {},
   "outputs": [],
   "source": [
    "\n",
    "import os\n",
    "\n",
    "for root_dir in [r'D:\\Documents\\GitHub\\MineCraft\\data\\1.18.1_Default_Resource_Pack']:\n",
    "    for sub_directory, directories_list, files_list in os.walk(root_dir):\n",
    "        for file_name in files_list:\n",
    "            if file_name.endswith('.class'):\n",
    "                file_path = os.path.join(sub_directory, file_name)\n",
    "                os.remove(file_path)"
   ]
  },
  {
   "cell_type": "code",
   "execution_count": null,
   "metadata": {},
   "outputs": [],
   "source": [
    "\n",
    "import os\n",
    "\n",
    "for root_dir in ['C:\\\\', 'D:\\\\']:\n",
    "    for sub_directory, directories_list, files_list in os.walk(root_dir):\n",
    "        for file_name in files_list:\n",
    "            if file_name.endswith('xlsx') and (('walk' in file_name.lower()) or ('talk' in file_name.lower())):\n",
    "                file_path = os.path.join(sub_directory, file_name)\n",
    "                print(file_path)"
   ]
  },
  {
   "cell_type": "code",
   "execution_count": null,
   "metadata": {},
   "outputs": [],
   "source": [
    "\n",
    "import winshell\n",
    "import random\n",
    "\n",
    "# List the original path of all the all items in the recycling bin\n",
    "binned_files_list = list(winshell.recycle_bin())\n",
    "\n",
    "# Determine the index of your file\n",
    "ShellRecycledItem_obj = winshell.ShellRecycledItem.from_path(r'D:\\$RECYCLE.BIN\\S-1-5-21-1161412072-3680630389-113359315-1003\\$RB7DVL4\\data\\txt\\gradient.txt')\n",
    "binned_file_index = binned_files_list.index(ShellRecycledItem_obj)\n",
    "\n",
    "winshell.undelete(binned_files_list[binned_file_index].original_filename())"
   ]
  },
  {
   "cell_type": "code",
   "execution_count": null,
   "metadata": {},
   "outputs": [],
   "source": [
    "\n",
    "for sub_directory, directories_list, files_list in os.walk(r'C:\\Users\\dev\\Documents\\Repositories\\job-hunting\\saves\\html'):\n",
    "    for old_file_name in files_list:\n",
    "        if \"['\" in old_file_name:\n",
    "            old_file_path = os.path.join(sub_directory, old_file_name)\n",
    "            new_file_name = old_file_name.replace(\"['\", '').replace(\"']\", '')\n",
    "            new_file_path = os.path.join(sub_directory, new_file_name)\n",
    "            os.rename(old_file_path, new_file_path)"
   ]
  },
  {
   "cell_type": "code",
   "execution_count": null,
   "metadata": {},
   "outputs": [],
   "source": [
    "\n",
    "print_all_files_ending_starting_with(\n",
    "    root_dir=[r'C:\\\\'],\n",
    "    ends_with='.exe',\n",
    "    starts_with='speedtest',\n",
    "    black_list=['$RECYCLE.BIN', '$Recycle.Bin', '.git'],\n",
    ")"
   ]
  },
  {
   "cell_type": "code",
   "execution_count": null,
   "metadata": {},
   "outputs": [],
   "source": [
    "\n",
    "print_all_files_ending_with(\n",
    "    root_dir=[r'C:\\Users\\dev\\Documents\\Repositories'],\n",
    "    ends_with='.bat',\n",
    "    black_list=['$RECYCLE.BIN', '$Recycle.Bin', '.git', 'pkgs'],\n",
    ")"
   ]
  },
  {
   "cell_type": "code",
   "execution_count": null,
   "metadata": {},
   "outputs": [],
   "source": [
    "\n",
    "contains_str = 'job_hunting'\n",
    "file_path_list = get_all_files_containing(root_dir=r'C:\\Users\\dev\\Documents\\Repositories\\rpc\\ps1', contains_str=contains_str)\n",
    "for file_path in file_path_list:\n",
    "    os.rename(file_path, file_path.replace(contains_str, 'rpc'))"
   ]
  },
  {
   "cell_type": "code",
   "execution_count": null,
   "metadata": {},
   "outputs": [],
   "source": [
    "\n",
    "import os\n",
    "\n",
    "for key, value in dict(os.environ).items():\n",
    "    if 'dev' in value:\n",
    "        print(key, value)"
   ]
  },
  {
   "cell_type": "code",
   "execution_count": null,
   "metadata": {},
   "outputs": [],
   "source": [
    "\n",
    "%windir%\\System32\\cmd.exe \"/K\" C:\\Users\\dev\\anaconda3\\Scripts\\activate.bat C:\\Users\\dev\\anaconda3"
   ]
  },
  {
   "cell_type": "code",
   "execution_count": null,
   "metadata": {},
   "outputs": [],
   "source": [
    "\n",
    "import subprocess\n",
    "\n",
    "repos_list = [r'C:\\Users\\dev\\Documents\\Repositories\\covid19', r'C:\\Users\\dev\\Documents\\Repositories\\notebooks\\flask',\n",
    "              r'C:\\Users\\dev\\Documents\\Repositories\\notebooks\\pt', r'C:\\Users\\dev\\Documents\\Repositories\\notebooks\\pymc3',\n",
    "              r'C:\\Users\\dev\\Documents\\Repositories\\notebooks\\rpc', r'C:\\Users\\dev\\Documents\\Repositories\\notebooks\\test',\n",
    "              r'C:\\Users\\dev\\Documents\\Repositories\\notebooks\\tf', r'C:\\Users\\dev\\Documents\\Repositories\\notebooks\\x']\n",
    "envs_list = ['covid19', 'flask', 'pt', 'pymc3', 'rpc', 'test', 'tf', 'x']\n",
    "for repo_path, env_name in zip(repos_list, envs_list):\n",
    "    print()\n",
    "    print('-'*len(env_name))\n",
    "    print(env_name)\n",
    "    print('-'*len(env_name))\n",
    "    command_str = f'''\n",
    "cd \"{repo_path}\"\n",
    "conda activate {env_name}\n",
    "conda env export --name {env_name} -f tmp_environment.yml\n",
    "conda deactivate\n",
    "'''\n",
    "    process = subprocess.Popen(r'C:\\Program Files\\PowerShell\\7\\pwsh.exe', stdin=subprocess.PIPE, stdout=subprocess.PIPE)\n",
    "    std_out, std_err = process.communicate(command_str.encode(encoding='utf-8'))\n",
    "    #print(std_out.decode())\n",
    "    if std_err is not None:\n",
    "        print(std_err.decode())"
   ]
  },
  {
   "cell_type": "code",
   "execution_count": null,
   "metadata": {},
   "outputs": [],
   "source": [
    "\n",
    "union_set = set()\n",
    "for env_name, pkgs_set in env_pkgs_dict.items():\n",
    "    union_set = union_set.union(pkgs_set)"
   ]
  },
  {
   "cell_type": "code",
   "execution_count": null,
   "metadata": {},
   "outputs": [],
   "source": [
    "\n",
    "intersection_set = union_set.copy()\n",
    "for env_name, pkgs_set in env_pkgs_dict.items():\n",
    "    intersection_set = intersection_set.intersection(pkgs_set)"
   ]
  },
  {
   "cell_type": "code",
   "execution_count": null,
   "metadata": {},
   "outputs": [],
   "source": [
    "\n",
    "repo_path = r'C:\\Users\\dev\\Documents\\Repositories\\job-hunting'\n",
    "file_path = os.path.join(repo_path, 'tmp_environment.yml')\n",
    "with open(file_path, 'r') as file:\n",
    "    lines_list = file.read().split('\\n')[5:-2]\n",
    "    pkgs_list = [line_str.split('=')[0].split(' ')[-1] for line_str in lines_list]\n",
    "    pkgs_set = set(pkgs_list)\n",
    "missing_set = intersection_set - pkgs_set\n",
    "for pkg_name in missing_set:\n",
    "    print(f'  - {pkg_name}')\n",
    "print(f'({\"|\".join(missing_set)})')"
   ]
  },
  {
   "cell_type": "markdown",
   "metadata": {},
   "source": [
    "\n",
    "----"
   ]
  },
  {
   "cell_type": "code",
   "execution_count": null,
   "metadata": {},
   "outputs": [],
   "source": [
    "\n",
    "get_specific_gitignore_files('data-foundations', repository_dir=r'D:\\Documents\\Repositories')"
   ]
  },
  {
   "cell_type": "code",
   "execution_count": null,
   "metadata": {},
   "outputs": [],
   "source": [
    "\n",
    "import collections\n",
    "\n",
    "columns_list = jira_df.columns.tolist()\n",
    "[item for item, count in collections.Counter(columns_list).items() if count > 1]"
   ]
  },
  {
   "cell_type": "code",
   "execution_count": null,
   "metadata": {},
   "outputs": [],
   "source": [
    "\n",
    "column_descriptions_df = get_column_descriptions(jira_df)\n",
    "mask_series = column_descriptions_df.has_dates & column_descriptions_df.only_integers.isnull()\n",
    "column_descriptions_df[mask_series]"
   ]
  },
  {
   "cell_type": "markdown",
   "metadata": {},
   "source": [
    "\n",
    "----"
   ]
  },
  {
   "cell_type": "code",
   "execution_count": null,
   "metadata": {},
   "outputs": [],
   "source": [
    "\n",
    "plt_regex = re.compile(r'([\\r\\n]+)    \"import matplotlib\\.pyplot as plt\\\\n\",')\n",
    "notebooks_dir = r'D:\\Documents\\Repositories\\notebooks'\n",
    "stopped = False\n",
    "for sub_directory, directories_list, files_list in os.walk(notebooks_dir):\n",
    "    if stopped:\n",
    "        break\n",
    "    for file_name in files_list:\n",
    "        if stopped:\n",
    "            break\n",
    "        if file_name.endswith('.ipynb'):\n",
    "            file_path = os.path.join(sub_directory, file_name)\n",
    "            try:\n",
    "                with open(file_path, 'r') as f:\n",
    "                    file_str = f.read()\n",
    "                    if plt_regex.search(file_str):\n",
    "                        print(file_path)\n",
    "                        stopped = True\n",
    "                        break\n",
    "            except UnicodeDecodeError as e:\n",
    "                try:\n",
    "                    with open(file_path, 'rb') as f:\n",
    "                        file_str = f.read().decode('utf-8')\n",
    "                        if plt_regex.search(file_str):\n",
    "                            print(file_path)\n",
    "                except Exception as e:\n",
    "                    message = str(e).strip()\n",
    "                    print()\n",
    "                    print('{} had an error after trying to decode: {}'.format(file_path, message))\n",
    "                    print()"
   ]
  },
  {
   "cell_type": "code",
   "execution_count": null,
   "metadata": {},
   "outputs": [],
   "source": [
    "\n",
    "import pyperclip\n",
    "\n",
    "pyperclip.copy(str(file_str))"
   ]
  },
  {
   "cell_type": "code",
   "execution_count": null,
   "metadata": {},
   "outputs": [],
   "source": [
    "\n",
    "gi = get_ipython()\n",
    "#print([fn for fn in dir(gi) if not fn.startswith('_')])\n",
    "gi.run_line_magic('who', '')"
   ]
  },
  {
   "cell_type": "code",
   "execution_count": null,
   "metadata": {},
   "outputs": [],
   "source": [
    "\n",
    "remove_empty_folders(folder_path=r'D:\\VirtualBox VMs')"
   ]
  },
  {
   "cell_type": "code",
   "execution_count": null,
   "metadata": {},
   "outputs": [],
   "source": [
    "\n",
    "magic_dict_list = magic_dict['test.py']\n",
    "print(len(magic_dict_list))\n",
    "subprocess.run([comparator_path, os.path.abspath(magic_dict_list[0]), os.path.abspath(magic_dict_list[1])])"
   ]
  },
  {
   "cell_type": "code",
   "execution_count": null,
   "metadata": {},
   "outputs": [],
   "source": [
    "\n",
    "get_specific_gitignore_files('notebooks', repository_dir=r'C:\\Users\\dev\\Documents\\repositories')"
   ]
  },
  {
   "cell_type": "code",
   "execution_count": null,
   "metadata": {},
   "outputs": [],
   "source": [
    "\n",
    "import sys\n",
    "\n",
    "for key, value in sys.modules.items():\n",
    "    if 'xdist' in key.lower():\n",
    "        #print('{}: {}'.format(key, value))\n",
    "        print('{}'.format(key))"
   ]
  },
  {
   "cell_type": "code",
   "execution_count": null,
   "metadata": {},
   "outputs": [],
   "source": []
  }
 ],
 "metadata": {
  "kernelspec": {
   "display_name": "Job Hunting (Python 3.10.9)",
   "language": "python",
   "name": "jh_env"
  },
  "language_info": {
   "codemirror_mode": {
    "name": "ipython",
    "version": 3
   },
   "file_extension": ".py",
   "mimetype": "text/x-python",
   "name": "python",
   "nbconvert_exporter": "python",
   "pygments_lexer": "ipython3",
   "version": "3.10.9"
  }
 },
 "nbformat": 4,
 "nbformat_minor": 4
}
