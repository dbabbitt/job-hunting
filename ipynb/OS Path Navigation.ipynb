{
 "cells": [
  {
   "cell_type": "code",
   "execution_count": 1,
   "metadata": {},
   "outputs": [
    {
     "name": "stdout",
     "output_type": "stream",
     "text": [
      "Pretty printing has been turned OFF\n"
     ]
    }
   ],
   "source": [
    "\n",
    "%pprint"
   ]
  },
  {
   "cell_type": "code",
   "execution_count": 15,
   "metadata": {},
   "outputs": [],
   "source": [
    "\n",
    "import os\n",
    "\n",
    "black_list = ['data', 'saves', '.ipynb_checkpoints']\n",
    "for root_dir in [r'C:\\Users\\daveb\\OneDrive\\Documents\\GitHub']:\n",
    "    for sub_directory, directories_list, files_list in os.walk(root_dir):\n",
    "        if all(map(lambda x: x not in sub_directory, black_list)):\n",
    "            for file_name in files_list:\n",
    "                if ('scrape' in file_name.lower()) and file_name.endswith('.ipynb'):\n",
    "                    file_path = os.path.join(sub_directory, file_name)\n",
    "                    print(file_path)"
   ]
  },
  {
   "cell_type": "code",
   "execution_count": 1,
   "metadata": {},
   "outputs": [
    {
     "name": "stdout",
     "output_type": "stream",
     "text": [
      "C:\\Users\\daveb\\OneDrive\\Documents\\GitHub\\baby-names\\load_magic\\soup.py\n",
      "C:\\Users\\daveb\\OneDrive\\Documents\\GitHub\\job-hunting\\load_magic\\soup.py\n",
      "C:\\Users\\daveb\\OneDrive\\Documents\\GitHub\\MineCraft\\load_magic\\soup.py\n",
      "C:\\Users\\daveb\\OneDrive\\Documents\\GitHub\\notebooks\\load_magic\\soup.py\n",
      "C:\\Users\\daveb\\OneDrive\\Documents\\GitHub\\notebooks_old\\load_magic\\soup.py\n",
      "C:\\Users\\daveb\\OneDrive\\Documents\\GitHub\\rpc\\load_magic\\soup.py\n",
      "C:\\Users\\daveb\\OneDrive\\Documents\\GitHub\\rpc_old\\load_magic\\soup.py\n",
      "C:\\Users\\daveb\\OneDrive\\Documents\\GitHub\\space-track-scenario\\load_magic\\soup.py\n",
      "C:\\Users\\daveb\\OneDrive\\Documents\\GitHub\\StatsByCountry\\load_magic\\soup.py\n",
      "C:\\Users\\daveb\\OneDrive\\Documents\\GitHub\\StatsByCountry_old\\load_magic\\soup.py\n",
      "C:\\Users\\daveb\\OneDrive\\Documents\\GitHub\\Strauss-Howe\\load_magic\\soup.py\n",
      "C:\\Users\\daveb\\OneDrive\\Documents\\GitHub\\Twitter\\load_magic\\soup.py\n",
      "C:\\Users\\daveb\\OneDrive\\Documents\\GitHub\\Wordle\\load_magic\\soup.py\n"
     ]
    }
   ],
   "source": [
    "\n",
    "import os\n",
    "\n",
    "white_list = ['load_magic']\n",
    "for root_dir in [r'C:\\Users\\daveb\\OneDrive\\Documents\\GitHub']:\n",
    "    for sub_directory, directories_list, files_list in os.walk(root_dir):\n",
    "        if all(map(lambda x: x in sub_directory, white_list)):\n",
    "            for file_name in files_list:\n",
    "                if 'soup.py' == file_name:\n",
    "                    file_path = os.path.join(sub_directory, file_name)\n",
    "                    print(file_path)"
   ]
  },
  {
   "cell_type": "code",
   "execution_count": 6,
   "metadata": {},
   "outputs": [
    {
     "name": "stdout",
     "output_type": "stream",
     "text": [
      "C:\\texlive\\2022\\texmf-dist\\tex\\latex\\els-cas-templates\\thumbnails\\cas-twitter.jpeg\n",
      "C:\\Users\\daveb\\AppData\\Local\\Google\\Chrome\\User Data\\Default\\Extensions\\cmkdbmfndkfgebldhnkbfhlneefdaaip\\1.7.8_0\\images\\Twitter.png\n",
      "C:\\Users\\daveb\\AppData\\Local\\Google\\Chrome\\User Data\\Default\\Extensions\\iibninhmiggehlcdolcilmhacighjamp\\3.20.5_0\\assets\\platform-logos\\twitter.png\n",
      "C:\\Users\\daveb\\AppData\\Local\\Mozilla\\Firefox\\Profiles\\7bhtbd98.default-release\\safebrowsing\\social-tracking-protection-twitter-digest256.sbstore\n",
      "C:\\Users\\daveb\\AppData\\Local\\Mozilla\\Firefox\\Profiles\\7bhtbd98.default-release\\safebrowsing\\social-tracking-protection-twitter-digest256.vlpset\n",
      "C:\\Users\\daveb\\AppData\\Local\\Temp\\rust_mozprofile3jTUdv\\safebrowsing\\social-tracking-protection-twitter-digest256.sbstore\n",
      "C:\\Users\\daveb\\AppData\\Local\\Temp\\rust_mozprofile3jTUdv\\safebrowsing\\social-tracking-protection-twitter-digest256.vlpset\n",
      "C:\\Users\\daveb\\OneDrive\\Documents\\twitter-2019-09-24-19f4a2f9f72d566dc12ba920f0b83eeaa894b60a327f74901794e32857ae938b.zip\n",
      "C:\\Users\\daveb\\OneDrive\\Documents\\GitHub\\botometer-python\\docs\\twitter_app_keys.png\n",
      "C:\\Users\\daveb\\OneDrive\\Documents\\GitHub\\caglorithm-notebooks-fork\\_includes\\twitter.html\n",
      "C:\\Users\\daveb\\OneDrive\\Documents\\GitHub\\coa_tools\\Blender\\coa_tools\\icons\\twitter_icon.png\n",
      "C:\\Users\\daveb\\OneDrive\\Documents\\GitHub\\jekyll\\assets\\jq_twitter.json\n",
      "C:\\Users\\daveb\\OneDrive\\Documents\\GitHub\\jekyll\\en\\lessons\\beginners-guide-to-twitter-data.md\n",
      "C:\\Users\\daveb\\OneDrive\\Documents\\GitHub\\jekyll\\en\\lessons\\intro-to-twitterbots.md\n",
      "C:\\Users\\daveb\\OneDrive\\Documents\\GitHub\\jekyll\\fr\\lecons\\intro-aux-bots-twitter.md\n",
      "C:\\Users\\daveb\\OneDrive\\Documents\\GitHub\\jekyll\\gallery\\beginners-guide-to-twitter-data.png\n",
      "C:\\Users\\daveb\\OneDrive\\Documents\\GitHub\\jekyll\\gallery\\intro-to-twitterbots.png\n",
      "C:\\Users\\daveb\\OneDrive\\Documents\\GitHub\\jekyll\\gallery\\originals\\beginners-guide-to-twitter-data-original.png\n",
      "C:\\Users\\daveb\\OneDrive\\Documents\\GitHub\\jekyll\\gallery\\originals\\intro-to-twitterbots.png\n",
      "C:\\Users\\daveb\\OneDrive\\Documents\\GitHub\\jekyll\\gallery\\originals\\intro-to-twitterbots_original.png\n",
      "C:\\Users\\daveb\\OneDrive\\Documents\\GitHub\\jekyll\\images\\intro-to-twitterbots\\twitterbot\n",
      "C:\\Users\\daveb\\OneDrive\\Documents\\GitHub\\jekyll\\_includes\\twitter-card.html\n",
      "C:\\Users\\daveb\\OneDrive\\Documents\\GitHub\\mimetic_tribes\\ipynb\\I Used the Twitter API to Build Mimetic Value's Social Network Graph.ipynb\n",
      "C:\\Users\\daveb\\OneDrive\\Documents\\GitHub\\MineCraft\\saves\\xcf\\twitter_profile_picture.xcf\n",
      "C:\\Users\\daveb\\OneDrive\\Documents\\GitHub\\numenta-apps\\taurus-mobile\\android\\app\\src\\main\\java\\com\\numenta\\taurus\\twitter\\TwitterDetailActivity.java\n",
      "C:\\Users\\daveb\\OneDrive\\Documents\\GitHub\\numenta-apps\\taurus-mobile\\android\\app\\src\\main\\java\\com\\numenta\\taurus\\twitter\\TwitterListAdapter.java\n",
      "C:\\Users\\daveb\\OneDrive\\Documents\\GitHub\\numenta-apps\\taurus-mobile\\android\\app\\src\\main\\res\\drawable\\twitter_list_divider.xml\n",
      "C:\\Users\\daveb\\OneDrive\\Documents\\GitHub\\numenta-apps\\taurus-mobile\\android\\app\\src\\main\\res\\layout\\activity_twitter_detail.xml\n",
      "C:\\Users\\daveb\\OneDrive\\Documents\\GitHub\\numenta-apps\\taurus-mobile\\android\\app\\src\\main\\res\\layout\\twitter_item.xml\n",
      "C:\\Users\\daveb\\OneDrive\\Documents\\GitHub\\numenta-apps\\taurus-mobile\\android\\app\\src\\main\\res\\layout\\twitter_list_footer.xml\n",
      "C:\\Users\\daveb\\OneDrive\\Documents\\GitHub\\numenta-apps\\taurus-mobile\\android\\app\\src\\main\\res\\values\\style_twitter_detail.xml\n",
      "C:\\Users\\daveb\\OneDrive\\Documents\\GitHub\\numenta-apps\\taurus-mobile\\ios\\src\\controllers\\TwitterViewController.swift\n",
      "C:\\Users\\daveb\\OneDrive\\Documents\\GitHub\\numenta-apps\\taurus-mobile\\ios\\src\\views\\TwitterCell.swift\n",
      "C:\\Users\\daveb\\OneDrive\\Documents\\GitHub\\numenta-apps\\taurus-mobile\\ios\\src\\views\\TwitterHeaderCell.swift\n",
      "C:\\Users\\daveb\\OneDrive\\Documents\\GitHub\\numenta-apps\\taurus_metric_collectors\\taurus_metric_collectors\\collectorsdb\\migrations\\versions\\001_587c485d8be_twitter_datasource.py\n",
      "C:\\Users\\daveb\\OneDrive\\Documents\\GitHub\\numenta-apps\\taurus_metric_collectors\\taurus_metric_collectors\\collectorsdb\\migrations\\versions\\005_77c96aa1615_add_twitter_deletion_table.py\n",
      "C:\\Users\\daveb\\OneDrive\\Documents\\GitHub\\numenta-apps\\taurus_metric_collectors\\taurus_metric_collectors\\collectorsdb\\migrations\\versions\\007_2b44dfda0019_add_twitter_columns.py\n",
      "C:\\Users\\daveb\\OneDrive\\Documents\\GitHub\\numenta-apps\\taurus_metric_collectors\\taurus_metric_collectors\\twitterdirect\\check_twitter_screen_names.py\n",
      "C:\\Users\\daveb\\OneDrive\\Documents\\GitHub\\numenta-apps\\taurus_metric_collectors\\taurus_metric_collectors\\twitterdirect\\twitter_direct_agent.py\n",
      "C:\\Users\\daveb\\OneDrive\\Documents\\GitHub\\numenta-apps\\taurus_metric_collectors\\taurus_metric_collectors\\twitterdirect\\conf\\twitter_direct_agent.conf\n",
      "C:\\Users\\daveb\\OneDrive\\Documents\\GitHub\\numenta-apps\\taurus_metric_collectors\\taurus_metric_collectors\\twitterdirect\\conf\\twitter_screen_name_checker.conf\n",
      "C:\\Users\\daveb\\OneDrive\\Documents\\GitHub\\numenta-apps\\taurus_metric_collectors\\tests\\unit\\twitter_direct_agent_test.py\n",
      "C:\\Users\\daveb\\OneDrive\\Documents\\GitHub\\numenta-apps\\taurus_monitoring\\tests\\unit\\data\\TWITTER.TWEET.HANDLE.SPG.VOLUME-data.pickle\n",
      "C:\\Users\\daveb\\OneDrive\\Documents\\GitHub\\numenta-apps\\unicorn\\tests\\py\\integration\\compatibility_test\\data\\Twitter_volume_AAPL.csv\n",
      "C:\\Users\\daveb\\OneDrive\\Documents\\GitHub\\numenta-apps\\unicorn\\tests\\py\\integration\\compatibility_test\\results\\numenta_Twitter_volume_AAPL.csv\n",
      "C:\\Users\\daveb\\OneDrive\\Documents\\GitHub\\numenta-apps\\unicorn\\tests\\py\\integration\\compatibility_test\\results\\Twitter_volume_AAPL_model_params.json\n",
      "C:\\Users\\daveb\\OneDrive\\Documents\\GitHub\\RegHex\\.gf\\twitter-id.json\n",
      "C:\\Users\\daveb\\OneDrive\\Documents\\GitHub\\RegHex\\.gf\\twitter-oauth.json\n",
      "C:\\Users\\daveb\\OneDrive\\Documents\\GitHub\\RegHex\\.gf\\twitter-secret.json\n",
      "C:\\Users\\daveb\\OneDrive\\Documents\\GitHub\\river-view\\lib\\twitter-scraper.js\n",
      "C:\\Users\\daveb\\OneDrive\\Documents\\GitHub\\river-view\\test\\lib\\twitter-scraper-tests.js\n",
      "C:\\Users\\daveb\\OneDrive\\Documents\\GitHub\\river-view\\test\\mock-data\\twitterstream-rhyolight.html\n",
      "C:\\Users\\daveb\\OneDrive\\Documents\\GitHub\\space-track-scenario\\sts\\share\\jupyter\\lab\\staging\\node_modules\\leaflet-draw\\docs\\images\\twitter-round.png\n",
      "C:\\Users\\daveb\\OneDrive\\Documents\\GitHub\\space-track-scenario\\sts\\share\\jupyter\\lab\\staging\\node_modules\\leaflet-draw\\docs\\images\\twitter.png\n",
      "C:\\Users\\daveb\\OneDrive\\Documents\\GitHub\\space-track-scenario\\sts\\share\\jupyter\\lab\\staging\\node_modules\\leaflet-search\\examples\\twitter.html\n",
      "C:\\Users\\daveb\\OneDrive\\Documents\\GitHub\\sql-server-samples\\samples\\features\\sql-big-data-cluster\\spark\\data-loading\\spark-twitter-streaming-sample.ipynb\n",
      "C:\\Users\\daveb\\OneDrive\\Documents\\GitHub\\texas-flooding\\FloodTwitterBox.kmz\n",
      "C:\\Users\\daveb\\OneDrive\\Documents\\GitHub\\texas-flooding\\Twitter Coordinate Box.txt\n",
      "C:\\Users\\daveb\\OneDrive\\Documents\\GitHub\\texas-flooding\\twitter_dataset_geofilter.py\n",
      "C:\\Users\\daveb\\OneDrive\\Documents\\GitHub\\texas-flooding\\twitter_dataset_wordfilter.py\n",
      "C:\\Users\\daveb\\OneDrive\\Documents\\GitHub\\Twitter\\data\\secrets\\twitter_secrets.json\n",
      "C:\\Users\\daveb\\OneDrive\\Documents\\GitHub\\Twitter\\ipynb\\Selenium Twitter.ipynb\n",
      "C:\\Users\\daveb\\OneDrive\\Documents\\GitHub\\Twitter\\ipynb\\Twitter Browser Automation Debugging.ipynb\n",
      "C:\\Users\\daveb\\OneDrive\\Documents\\GitHub\\Twitter\\ipynb\\Twitter Exploration.ipynb\n",
      "C:\\Users\\daveb\\OneDrive\\Documents\\GitHub\\Twitter\\ipynb\\Twitter Likes Clustering.ipynb\n",
      "C:\\Users\\daveb\\OneDrive\\Documents\\GitHub\\twitter-followers-bot\\twitter-bot.py\n",
      "C:\\Users\\daveb\\OneDrive\\Documents\\GitHub\\Watch-Me-Build-a-Trading-Bot\\plugins\\twitter.js\n",
      "C:\\Users\\daveb\\OneDrive\\Documents\\Python Scripts\\py\\test_twitter_auth.YJJCHS.py\n",
      "C:\\Users\\daveb\\OneDrive\\Documents\\Python Scripts\\py\\twitter.IDCSNB.py\n",
      "C:\\Users\\daveb\\OneDrive\\Documents\\Python Scripts\\py\\twitterclient.SVIGKI.py\n",
      "C:\\Users\\daveb\\OneDrive\\Documents\\Python Scripts\\py\\twitterstream.DTTSCS.py\n",
      "C:\\Users\\daveb\\OneDrive\\Documents\\Python Scripts\\py\\twitter_dataset_geofilter.MIOIIE.py\n",
      "C:\\Users\\daveb\\OneDrive\\Documents\\Python Scripts\\py\\twitter_dataset_geofilter.MMQNFL.py\n",
      "C:\\Users\\daveb\\OneDrive\\Documents\\Python Scripts\\py\\twitter_dataset_nofilter.OIUJAB.py\n",
      "C:\\Users\\daveb\\OneDrive\\Documents\\Python Scripts\\py\\twitter_dataset_wordfilter.EJDPKN.py\n",
      "C:\\Users\\daveb\\OneDrive\\Documents\\Python Scripts\\py\\twitter_dataset_wordfilter.QPNEKW.py\n",
      "C:\\Users\\daveb\\OneDrive\\Documents\\Python Scripts\\py\\twitter_demo.CUKLFK.py\n",
      "C:\\Users\\daveb\\OneDrive\\Documents\\Python Scripts\\py\\twitter_streaming.RUAJJX.py\n",
      "C:\\Users\\daveb\\OneDrive\\Documents\\Python Scripts\\py\\twitter_streaming.WHGZNM.py\n",
      "C:\\Users\\daveb\\OneDrive\\Documents\\R\\win-library\\3.5\\httr\\demo\\oauth1-twitter.r\n",
      "C:\\Users\\daveb\\OneDrive\\Documents\\R\\win-library\\4.0\\httr\\demo\\oauth1-twitter.r\n",
      "C:\\Users\\daveb\\OneDrive\\Documents\\R\\win-library\\4.0\\rtweet\\html\\read_twitter_csv.html\n",
      "C:\\Users\\daveb\\OneDrive\\Pictures\\Camera imports\\2021-06-24\\beginners-guide-to-twitter-data-original.png\n",
      "C:\\Users\\daveb\\OneDrive\\Pictures\\Camera imports\\2021-06-24\\beginners-guide-to-twitter-data.png\n",
      "C:\\Users\\daveb\\OneDrive\\Pictures\\Camera imports\\2021-06-24\\intro-to-twitterbots.png\n",
      "C:\\Users\\daveb\\OneDrive\\Pictures\\Camera imports\\2021-06-24\\intro-to-twitterbots_original.png\n",
      "C:\\Users\\daveb\\OneDrive\\Pictures\\Camera imports\\2021-06-24\\twitter-1.png\n",
      "C:\\Users\\daveb\\OneDrive\\Pictures\\Camera imports\\2021-06-24\\twitter-2.png\n",
      "C:\\Users\\daveb\\OneDrive\\Pictures\\Camera imports\\2021-06-24\\twitter-3.png\n",
      "C:\\Users\\daveb\\OneDrive\\Pictures\\Camera imports\\2021-06-24\\twitter-4.png\n",
      "C:\\Users\\daveb\\OneDrive\\Pictures\\Camera imports\\2021-06-24\\twitter-5.png\n",
      "C:\\Users\\daveb\\OneDrive\\Pictures\\Camera imports\\2021-06-24\\twitter-6.png\n",
      "C:\\Users\\daveb\\OneDrive\\Pictures\\Camera imports\\2021-06-24\\twitter-7.png\n",
      "C:\\Users\\daveb\\OneDrive\\Pictures\\Camera imports\\2021-06-24\\twitter-8.png\n",
      "C:\\Users\\daveb\\OneDrive\\Pictures\\Camera imports\\2021-06-24\\twitter-round.png\n",
      "C:\\Users\\daveb\\OneDrive\\Pictures\\Camera imports\\2021-06-24\\twitter.png\n"
     ]
    },
    {
     "ename": "KeyboardInterrupt",
     "evalue": "",
     "output_type": "error",
     "traceback": [
      "\u001b[1;31m---------------------------------------------------------------------------\u001b[0m",
      "\u001b[1;31mKeyboardInterrupt\u001b[0m                         Traceback (most recent call last)",
      "Input \u001b[1;32mIn [6]\u001b[0m, in \u001b[0;36m<cell line: 6>\u001b[1;34m()\u001b[0m\n\u001b[0;32m      5\u001b[0m suffixes_list \u001b[38;5;241m=\u001b[39m [\u001b[38;5;124m'\u001b[39m\u001b[38;5;124mexe\u001b[39m\u001b[38;5;124m'\u001b[39m, \u001b[38;5;124m'\u001b[39m\u001b[38;5;124msvg\u001b[39m\u001b[38;5;124m'\u001b[39m, \u001b[38;5;124m'\u001b[39m\u001b[38;5;124mpyc\u001b[39m\u001b[38;5;124m'\u001b[39m]\n\u001b[0;32m      6\u001b[0m \u001b[38;5;28;01mfor\u001b[39;00m root_dir \u001b[38;5;129;01min\u001b[39;00m [\u001b[38;5;124m'\u001b[39m\u001b[38;5;124mC:\u001b[39m\u001b[38;5;130;01m\\\\\u001b[39;00m\u001b[38;5;124m'\u001b[39m, \u001b[38;5;124m'\u001b[39m\u001b[38;5;124mD:\u001b[39m\u001b[38;5;130;01m\\\\\u001b[39;00m\u001b[38;5;124m'\u001b[39m]:\n\u001b[1;32m----> 7\u001b[0m     \u001b[38;5;28;01mfor\u001b[39;00m sub_directory, directories_list, files_list \u001b[38;5;129;01min\u001b[39;00m os\u001b[38;5;241m.\u001b[39mwalk(root_dir):\n\u001b[0;32m      8\u001b[0m         \u001b[38;5;28;01mif\u001b[39;00m \u001b[38;5;28mall\u001b[39m(\u001b[38;5;28mmap\u001b[39m(\u001b[38;5;28;01mlambda\u001b[39;00m x: x \u001b[38;5;129;01mnot\u001b[39;00m \u001b[38;5;129;01min\u001b[39;00m sub_directory, black_list)):\n\u001b[0;32m      9\u001b[0m             \u001b[38;5;28;01mfor\u001b[39;00m file_name \u001b[38;5;129;01min\u001b[39;00m files_list:\n",
      "File \u001b[1;32mC:\\ProgramData\\Anaconda3\\lib\\os.py:418\u001b[0m, in \u001b[0;36m_walk\u001b[1;34m(top, topdown, onerror, followlinks)\u001b[0m\n\u001b[0;32m    413\u001b[0m         \u001b[38;5;66;03m# Issue #23605: os.path.islink() is used instead of caching\u001b[39;00m\n\u001b[0;32m    414\u001b[0m         \u001b[38;5;66;03m# entry.is_symlink() result during the loop on os.scandir() because\u001b[39;00m\n\u001b[0;32m    415\u001b[0m         \u001b[38;5;66;03m# the caller can replace the directory entry during the \"yield\"\u001b[39;00m\n\u001b[0;32m    416\u001b[0m         \u001b[38;5;66;03m# above.\u001b[39;00m\n\u001b[0;32m    417\u001b[0m         \u001b[38;5;28;01mif\u001b[39;00m followlinks \u001b[38;5;129;01mor\u001b[39;00m \u001b[38;5;129;01mnot\u001b[39;00m islink(new_path):\n\u001b[1;32m--> 418\u001b[0m             \u001b[38;5;28;01myield from\u001b[39;00m _walk(new_path, topdown, onerror, followlinks)\n\u001b[0;32m    419\u001b[0m \u001b[38;5;28;01melse\u001b[39;00m:\n\u001b[0;32m    420\u001b[0m     \u001b[38;5;66;03m# Recurse into sub-directories\u001b[39;00m\n\u001b[0;32m    421\u001b[0m     \u001b[38;5;28;01mfor\u001b[39;00m new_path \u001b[38;5;129;01min\u001b[39;00m walk_dirs:\n",
      "File \u001b[1;32mC:\\ProgramData\\Anaconda3\\lib\\os.py:418\u001b[0m, in \u001b[0;36m_walk\u001b[1;34m(top, topdown, onerror, followlinks)\u001b[0m\n\u001b[0;32m    413\u001b[0m         \u001b[38;5;66;03m# Issue #23605: os.path.islink() is used instead of caching\u001b[39;00m\n\u001b[0;32m    414\u001b[0m         \u001b[38;5;66;03m# entry.is_symlink() result during the loop on os.scandir() because\u001b[39;00m\n\u001b[0;32m    415\u001b[0m         \u001b[38;5;66;03m# the caller can replace the directory entry during the \"yield\"\u001b[39;00m\n\u001b[0;32m    416\u001b[0m         \u001b[38;5;66;03m# above.\u001b[39;00m\n\u001b[0;32m    417\u001b[0m         \u001b[38;5;28;01mif\u001b[39;00m followlinks \u001b[38;5;129;01mor\u001b[39;00m \u001b[38;5;129;01mnot\u001b[39;00m islink(new_path):\n\u001b[1;32m--> 418\u001b[0m             \u001b[38;5;28;01myield from\u001b[39;00m _walk(new_path, topdown, onerror, followlinks)\n\u001b[0;32m    419\u001b[0m \u001b[38;5;28;01melse\u001b[39;00m:\n\u001b[0;32m    420\u001b[0m     \u001b[38;5;66;03m# Recurse into sub-directories\u001b[39;00m\n\u001b[0;32m    421\u001b[0m     \u001b[38;5;28;01mfor\u001b[39;00m new_path \u001b[38;5;129;01min\u001b[39;00m walk_dirs:\n",
      "    \u001b[1;31m[... skipping similar frames: _walk at line 418 (1 times)]\u001b[0m\n",
      "File \u001b[1;32mC:\\ProgramData\\Anaconda3\\lib\\os.py:418\u001b[0m, in \u001b[0;36m_walk\u001b[1;34m(top, topdown, onerror, followlinks)\u001b[0m\n\u001b[0;32m    413\u001b[0m         \u001b[38;5;66;03m# Issue #23605: os.path.islink() is used instead of caching\u001b[39;00m\n\u001b[0;32m    414\u001b[0m         \u001b[38;5;66;03m# entry.is_symlink() result during the loop on os.scandir() because\u001b[39;00m\n\u001b[0;32m    415\u001b[0m         \u001b[38;5;66;03m# the caller can replace the directory entry during the \"yield\"\u001b[39;00m\n\u001b[0;32m    416\u001b[0m         \u001b[38;5;66;03m# above.\u001b[39;00m\n\u001b[0;32m    417\u001b[0m         \u001b[38;5;28;01mif\u001b[39;00m followlinks \u001b[38;5;129;01mor\u001b[39;00m \u001b[38;5;129;01mnot\u001b[39;00m islink(new_path):\n\u001b[1;32m--> 418\u001b[0m             \u001b[38;5;28;01myield from\u001b[39;00m _walk(new_path, topdown, onerror, followlinks)\n\u001b[0;32m    419\u001b[0m \u001b[38;5;28;01melse\u001b[39;00m:\n\u001b[0;32m    420\u001b[0m     \u001b[38;5;66;03m# Recurse into sub-directories\u001b[39;00m\n\u001b[0;32m    421\u001b[0m     \u001b[38;5;28;01mfor\u001b[39;00m new_path \u001b[38;5;129;01min\u001b[39;00m walk_dirs:\n",
      "File \u001b[1;32mC:\\ProgramData\\Anaconda3\\lib\\os.py:367\u001b[0m, in \u001b[0;36m_walk\u001b[1;34m(top, topdown, onerror, followlinks)\u001b[0m\n\u001b[0;32m    365\u001b[0m \u001b[38;5;28;01mtry\u001b[39;00m:\n\u001b[0;32m    366\u001b[0m     \u001b[38;5;28;01mtry\u001b[39;00m:\n\u001b[1;32m--> 367\u001b[0m         entry \u001b[38;5;241m=\u001b[39m \u001b[38;5;28;43mnext\u001b[39;49m\u001b[43m(\u001b[49m\u001b[43mscandir_it\u001b[49m\u001b[43m)\u001b[49m\n\u001b[0;32m    368\u001b[0m     \u001b[38;5;28;01mexcept\u001b[39;00m \u001b[38;5;167;01mStopIteration\u001b[39;00m:\n\u001b[0;32m    369\u001b[0m         \u001b[38;5;28;01mbreak\u001b[39;00m\n",
      "\u001b[1;31mKeyboardInterrupt\u001b[0m: "
     ]
    }
   ],
   "source": [
    "\n",
    "import os\n",
    "\n",
    "black_list = ['$RECYCLE.BIN', '$Recycle.Bin', '.git', 'jh_env', '.ipynb_checkpoints', 'explorations', 'Microsoft', 'npm', 'Theme', 'Assets',\n",
    "              'Lib', 'site-packages']\n",
    "suffixes_list = ['exe', 'svg', 'pyc', 'jpeg', 'png']\n",
    "for root_dir in ['C:\\\\', 'D:\\\\']:\n",
    "    for sub_directory, directories_list, files_list in os.walk(root_dir):\n",
    "        if all(map(lambda x: x not in sub_directory, black_list)):\n",
    "            for file_name in files_list:\n",
    "                if all(map(lambda x: not file_name.lower().endswith(x), suffixes_list)):\n",
    "                    if 'twitter' in file_name.lower():\n",
    "                        file_path = os.path.join(sub_directory, file_name)\n",
    "                        print(file_path)"
   ]
  },
  {
   "cell_type": "code",
   "execution_count": 4,
   "metadata": {},
   "outputs": [
    {
     "data": {
      "text/plain": [
       "True"
      ]
     },
     "execution_count": 4,
     "metadata": {},
     "output_type": "execute_result"
    }
   ],
   "source": [
    "\n",
    "file_name = 'GenSim Exploration.ipynb'\n",
    "'explor' in file_name.lower()"
   ]
  },
  {
   "cell_type": "code",
   "execution_count": 13,
   "metadata": {},
   "outputs": [],
   "source": [
    "\n",
    "for sub_directory, directories_list, files_list in os.walk(r'C:\\Users\\daveb\\OneDrive\\Documents\\GitHub\\job-hunting\\ipynb'):\n",
    "    for file_name in files_list:\n",
    "        if (not file_name.endswith('-checkpoint.ipynb')) and ('explor' in file_name.lower()):\n",
    "            print(file_name)"
   ]
  },
  {
   "cell_type": "code",
   "execution_count": 4,
   "metadata": {},
   "outputs": [
    {
     "name": "stdout",
     "output_type": "stream",
     "text": [
      "C:\\neo4j\\import\\neo4j_job_hunting_export.csv\n"
     ]
    }
   ],
   "source": [
    "\n",
    "import os\n",
    "\n",
    "for root_dir in ['C:\\\\']:\n",
    "    for sub_directory, directories_list, files_list in os.walk(root_dir):\n",
    "        for file_name in files_list:\n",
    "            if file_name == 'neo4j_job_hunting_export.csv':\n",
    "                file_path = os.path.join(sub_directory, file_name)\n",
    "                print(file_path)"
   ]
  },
  {
   "cell_type": "code",
   "execution_count": 2,
   "metadata": {},
   "outputs": [],
   "source": [
    "\n",
    "import os\n",
    "\n",
    "max_bytes = 0\n",
    "max_file_path = ''\n",
    "black_list = ['$RECYCLE.BIN', '$Recycle.Bin', '.git']\n",
    "for root_dir in [r'D:\\Documents\\GitHub\\job-hunting\\saves\\html']:\n",
    "    for sub_directory, directories_list, files_list in os.walk(root_dir, topdown=False):\n",
    "        if all(map(lambda x: x not in sub_directory, black_list)):\n",
    "            for file_name in files_list:\n",
    "                if file_name.endswith('.html') and 'sphere' in file_name.lower():\n",
    "                    file_path = os.path.join(sub_directory, file_name)\n",
    "                    # file_size = os.path.getsize(file_path)\n",
    "                    print(file_name)\n",
    "                    # if file_size > max_bytes:\n",
    "                    #     max_bytes = file_size\n",
    "                    #     max_file_path = file_path\n",
    "                    #     print(max_file_path)"
   ]
  },
  {
   "cell_type": "code",
   "execution_count": 2,
   "metadata": {},
   "outputs": [],
   "source": [
    "\n",
    "def get_all_directories_containing(root_dir=r'C:\\Users\\dev\\anaconda3\\envs', contains_str='activate',\n",
    "                                   black_list=['$RECYCLE.BIN', '$Recycle.Bin', '.git']):\n",
    "    dir_path_list = []\n",
    "    if type(root_dir) == list:\n",
    "        root_dir_list = root_dir\n",
    "    else:\n",
    "        root_dir_list = [root_dir]\n",
    "    if type(contains_str) == list:\n",
    "        contains_list = contains_str\n",
    "    else:\n",
    "        contains_list = [contains_str]\n",
    "    for root_dir in root_dir_list:\n",
    "        for sub_directory, directories_list, files_list in os.walk(root_dir):\n",
    "            if all(map(lambda x: x not in sub_directory, black_list)):\n",
    "                for dir_name in directories_list:\n",
    "                    contains_bool = False\n",
    "                    for contains_str in contains_list:\n",
    "                        contains_bool = contains_bool or (contains_str in dir_name)\n",
    "                    if contains_bool:\n",
    "                        dir_path = os.path.join(sub_directory, dir_name)\n",
    "                        dir_path_list.append(dir_path)\n",
    "    \n",
    "    return dir_path_list"
   ]
  },
  {
   "cell_type": "code",
   "execution_count": 3,
   "metadata": {},
   "outputs": [
    {
     "name": "stdout",
     "output_type": "stream",
     "text": [
      "C:\\Users\\dev\\AppData\\Local\\Google\\Chrome\\User Data\\Default\\IndexedDB\\https_forums.minecraftforge.net_0.indexeddb.leveldb\n",
      "C:\\Users\\dev\\AppData\\Local\\Google\\Chrome\\User Data\\Default\\IndexedDB\\https_minecraft.fandom.com_0.indexeddb.blob\n",
      "C:\\Users\\dev\\AppData\\Local\\Google\\Chrome\\User Data\\Default\\IndexedDB\\https_minecraft.fandom.com_0.indexeddb.leveldb\n",
      "C:\\Users\\dev\\AppData\\Local\\Google\\Chrome\\User Data\\Default\\IndexedDB\\https_minecraft.wonderhowto.com_0.indexeddb.leveldb\n",
      "C:\\Users\\dev\\AppData\\Local\\Google\\Chrome\\User Data\\Default\\IndexedDB\\https_minecraftuniverse.fandom.com_0.indexeddb.leveldb\n",
      "C:\\Users\\dev\\AppData\\Local\\Google\\Chrome\\User Data\\Default\\IndexedDB\\https_www.minecraft.net_0.indexeddb.leveldb\n",
      "C:\\Users\\dev\\AppData\\Roaming\\.minecraft\n",
      "C:\\Users\\dev\\AppData\\Roaming\\Mozilla\\Firefox\\Profiles\\gbkbbkfc.default-release\\storage\\default\\https+++forums.minecraftforge.net\n",
      "C:\\Users\\dev\\AppData\\Roaming\\Mozilla\\Firefox\\Profiles\\gbkbbkfc.default-release\\storage\\default\\https+++help.minecraft.net\n",
      "C:\\Users\\dev\\AppData\\Roaming\\Mozilla\\Firefox\\Profiles\\gbkbbkfc.default-release\\storage\\default\\https+++minecraft-resourcepacks.com\n",
      "C:\\Users\\dev\\AppData\\Roaming\\Mozilla\\Firefox\\Profiles\\gbkbbkfc.default-release\\storage\\default\\https+++minecraft.fandom.com\n",
      "C:\\Users\\dev\\AppData\\Roaming\\Mozilla\\Firefox\\Profiles\\gbkbbkfc.default-release\\storage\\default\\https+++minecraft.fandom.com^userContextId=1\n",
      "C:\\Users\\dev\\AppData\\Roaming\\Mozilla\\Firefox\\Profiles\\gbkbbkfc.default-release\\storage\\default\\https+++minecraft.fandom.com^userContextId=7\n",
      "C:\\Users\\dev\\AppData\\Roaming\\Mozilla\\Firefox\\Profiles\\gbkbbkfc.default-release\\storage\\default\\https+++minecraftpc.fandom.com\n",
      "C:\\Users\\dev\\AppData\\Roaming\\Mozilla\\Firefox\\Profiles\\gbkbbkfc.default-release\\storage\\default\\https+++minecraftpc.fandom.com^userContextId=7\n",
      "C:\\Users\\dev\\AppData\\Roaming\\Mozilla\\Firefox\\Profiles\\gbkbbkfc.default-release\\storage\\default\\https+++www.minecraft.net\n",
      "C:\\Users\\dev\\AppData\\Roaming\\Mozilla\\Firefox\\Profiles\\gbkbbkfc.default-release\\storage\\default\\https+++www.minecraftforum.net^userContextId=1\n",
      "D:\\backups\\dev\\Documents\\Repositories\\mine-hack\\java\\org\\numenta\\minecraft\n",
      "D:\\Documents\\GitHub\\MineCraft\\data\\1.12_Default_Resource_Pack\\assets\\minecraft\n",
      "D:\\Documents\\GitHub\\MineCraft\\data\\1.15_Default_Resource_Pack\\assets\\minecraft\n",
      "D:\\Documents\\GitHub\\MineCraft\\mine-hack\\java\\org\\numenta\\minecraft\n"
     ]
    }
   ],
   "source": [
    "\n",
    "import os\n",
    "\n",
    "dirs_list = ['C:\\\\', 'D:\\\\']\n",
    "for file_path in get_all_directories_containing(root_dir=dirs_list, contains_str='minecraft', black_list=['$RECYCLE.BIN', '$Recycle.Bin', '.git']):\n",
    "    print(file_path)"
   ]
  },
  {
   "cell_type": "code",
   "execution_count": 6,
   "metadata": {},
   "outputs": [],
   "source": [
    "\n",
    "import os\n",
    "\n",
    "for root_dir in [r'D:\\Documents\\GitHub\\MineCraft\\data\\1.18.1_Default_Resource_Pack']:\n",
    "    for sub_directory, directories_list, files_list in os.walk(root_dir):\n",
    "        for file_name in files_list:\n",
    "            if file_name.endswith('.class'):\n",
    "                file_path = os.path.join(sub_directory, file_name)\n",
    "                os.remove(file_path)"
   ]
  },
  {
   "cell_type": "code",
   "execution_count": 2,
   "metadata": {},
   "outputs": [
    {
     "name": "stdout",
     "output_type": "stream",
     "text": [
      "D:\\backups\\dev\\Documents\\Repositories\\notebooks\\xlsx\\SEDA_codebook_crosswalk_v20.xlsx\n",
      "D:\\Documents\\GitHub\\notebooks_old\\xlsx\\SEDA_codebook_crosswalk_v20.xlsx\n"
     ]
    }
   ],
   "source": [
    "\n",
    "import os\n",
    "\n",
    "for root_dir in ['C:\\\\', 'D:\\\\']:\n",
    "    for sub_directory, directories_list, files_list in os.walk(root_dir):\n",
    "        for file_name in files_list:\n",
    "            if file_name.endswith('xlsx') and (('walk' in file_name.lower()) or ('talk' in file_name.lower())):\n",
    "                file_path = os.path.join(sub_directory, file_name)\n",
    "                print(file_path)"
   ]
  },
  {
   "cell_type": "code",
   "execution_count": 13,
   "metadata": {},
   "outputs": [
    {
     "ename": "NameError",
     "evalue": "name '_desktop' is not defined",
     "output_type": "error",
     "traceback": [
      "\u001b[1;31m---------------------------------------------------------------------------\u001b[0m",
      "\u001b[1;31mNameError\u001b[0m                                 Traceback (most recent call last)",
      "\u001b[1;32m<ipython-input-13-180107426869>\u001b[0m in \u001b[0;36m<module>\u001b[1;34m\u001b[0m\n\u001b[0;32m      6\u001b[0m \u001b[1;33m\u001b[0m\u001b[0m\n\u001b[0;32m      7\u001b[0m \u001b[1;31m# Determine the index of your file\u001b[0m\u001b[1;33m\u001b[0m\u001b[1;33m\u001b[0m\u001b[1;33m\u001b[0m\u001b[0m\n\u001b[1;32m----> 8\u001b[1;33m \u001b[0mShellRecycledItem_obj\u001b[0m \u001b[1;33m=\u001b[0m \u001b[0mwinshell\u001b[0m\u001b[1;33m.\u001b[0m\u001b[0mShellRecycledItem\u001b[0m\u001b[1;33m.\u001b[0m\u001b[0mfrom_path\u001b[0m\u001b[1;33m(\u001b[0m\u001b[1;34mr'D:\\$RECYCLE.BIN\\S-1-5-21-1161412072-3680630389-113359315-1003\\$RB7DVL4\\data\\txt\\gradient.txt'\u001b[0m\u001b[1;33m)\u001b[0m\u001b[1;33m\u001b[0m\u001b[1;33m\u001b[0m\u001b[0m\n\u001b[0m\u001b[0;32m      9\u001b[0m \u001b[0mbinned_file_index\u001b[0m \u001b[1;33m=\u001b[0m \u001b[0mbinned_files_list\u001b[0m\u001b[1;33m.\u001b[0m\u001b[0mindex\u001b[0m\u001b[1;33m(\u001b[0m\u001b[0mShellRecycledItem_obj\u001b[0m\u001b[1;33m)\u001b[0m\u001b[1;33m\u001b[0m\u001b[1;33m\u001b[0m\u001b[0m\n\u001b[0;32m     10\u001b[0m \u001b[1;33m\u001b[0m\u001b[0m\n",
      "\u001b[1;32mD:\\Documents\\GitHub\\job-hunting\\jh_env\\lib\\site-packages\\winshell.py\u001b[0m in \u001b[0;36mfrom_path\u001b[1;34m(cls, path)\u001b[0m\n\u001b[0;32m    627\u001b[0m   \u001b[1;33m@\u001b[0m\u001b[0mclassmethod\u001b[0m\u001b[1;33m\u001b[0m\u001b[1;33m\u001b[0m\u001b[0m\n\u001b[0;32m    628\u001b[0m   \u001b[1;32mdef\u001b[0m \u001b[0mfrom_path\u001b[0m \u001b[1;33m(\u001b[0m\u001b[0mcls\u001b[0m\u001b[1;33m,\u001b[0m \u001b[0mpath\u001b[0m\u001b[1;33m)\u001b[0m\u001b[1;33m:\u001b[0m\u001b[1;33m\u001b[0m\u001b[1;33m\u001b[0m\u001b[0m\n\u001b[1;32m--> 629\u001b[1;33m     \u001b[0m_\u001b[0m\u001b[1;33m,\u001b[0m \u001b[0mpidl\u001b[0m\u001b[1;33m,\u001b[0m \u001b[0mflags\u001b[0m \u001b[1;33m=\u001b[0m \u001b[0m_desktop\u001b[0m\u001b[1;33m.\u001b[0m\u001b[0mParseDisplayName\u001b[0m \u001b[1;33m(\u001b[0m\u001b[1;36m0\u001b[0m\u001b[1;33m,\u001b[0m \u001b[1;32mNone\u001b[0m\u001b[1;33m,\u001b[0m \u001b[0mpath\u001b[0m\u001b[1;33m,\u001b[0m \u001b[0mshellcon\u001b[0m\u001b[1;33m.\u001b[0m\u001b[0mSFGAO_FOLDER\u001b[0m\u001b[1;33m)\u001b[0m\u001b[1;33m\u001b[0m\u001b[1;33m\u001b[0m\u001b[0m\n\u001b[0m\u001b[0;32m    630\u001b[0m     \u001b[1;32mif\u001b[0m \u001b[0mflags\u001b[0m \u001b[1;33m&\u001b[0m \u001b[0mshellcon\u001b[0m\u001b[1;33m.\u001b[0m\u001b[0mSFGAO_FOLDER\u001b[0m\u001b[1;33m:\u001b[0m\u001b[1;33m\u001b[0m\u001b[1;33m\u001b[0m\u001b[0m\n\u001b[0;32m    631\u001b[0m       \u001b[1;32mreturn\u001b[0m \u001b[0mShellFolder\u001b[0m\u001b[1;33m.\u001b[0m\u001b[0mfrom_pidl\u001b[0m \u001b[1;33m(\u001b[0m\u001b[0mpidl\u001b[0m\u001b[1;33m)\u001b[0m\u001b[1;33m\u001b[0m\u001b[1;33m\u001b[0m\u001b[0m\n",
      "\u001b[1;31mNameError\u001b[0m: name '_desktop' is not defined"
     ]
    }
   ],
   "source": [
    "\n",
    "import winshell\n",
    "import random\n",
    "\n",
    "# List the original path of all the all items in the recycling bin\n",
    "binned_files_list = list(winshell.recycle_bin())\n",
    "\n",
    "# Determine the index of your file\n",
    "ShellRecycledItem_obj = winshell.ShellRecycledItem.from_path(r'D:\\$RECYCLE.BIN\\S-1-5-21-1161412072-3680630389-113359315-1003\\$RB7DVL4\\data\\txt\\gradient.txt')\n",
    "binned_file_index = binned_files_list.index(ShellRecycledItem_obj)\n",
    "\n",
    "winshell.undelete(binned_files_list[binned_file_index].original_filename())"
   ]
  },
  {
   "cell_type": "code",
   "execution_count": 3,
   "metadata": {},
   "outputs": [],
   "source": [
    "\n",
    "for sub_directory, directories_list, files_list in os.walk(r'C:\\Users\\dev\\Documents\\Repositories\\job-hunting\\saves\\html'):\n",
    "    for old_file_name in files_list:\n",
    "        if \"['\" in old_file_name:\n",
    "            old_file_path = os.path.join(sub_directory, old_file_name)\n",
    "            new_file_name = old_file_name.replace(\"['\", '').replace(\"']\", '')\n",
    "            new_file_path = os.path.join(sub_directory, new_file_name)\n",
    "            os.rename(old_file_path, new_file_path)"
   ]
  },
  {
   "cell_type": "code",
   "execution_count": 10,
   "metadata": {},
   "outputs": [],
   "source": [
    "\n",
    "!start %windir%\\explorer.exe \"os.path.abspath('C:\\\\\\\\Users\\\\Dave Babbitt\\\\AppData\\\\Roaming\\\\.minecraft')\""
   ]
  },
  {
   "cell_type": "code",
   "execution_count": 7,
   "metadata": {},
   "outputs": [
    {
     "name": "stdout",
     "output_type": "stream",
     "text": [
      "C:\\\\Users\\dev\\anaconda3\\Scripts\\speedtest-cli.exe\n",
      "C:\\\\Users\\dev\\anaconda3\\Scripts\\speedtest.exe\n",
      "C:\\\\Users\\dev\\Downloads\\ookla-speedtest-1.0.0-win64\\speedtest.exe\n"
     ]
    }
   ],
   "source": [
    "\n",
    "print_all_files_ending_starting_with(\n",
    "    root_dir=[r'C:\\\\'],\n",
    "    ends_with='.exe',\n",
    "    starts_with='speedtest',\n",
    "    black_list=['$RECYCLE.BIN', '$Recycle.Bin', '.git'],\n",
    ")"
   ]
  },
  {
   "cell_type": "code",
   "execution_count": 2,
   "metadata": {},
   "outputs": [
    {
     "name": "stdout",
     "output_type": "stream",
     "text": [
      "C:\\Users\\dev\\Documents\\Repositories\\animation_nodes\\animation_nodes\\libs\\FastNoiseSIMD\\source\\compile_windows.bat\n",
      "C:\\Users\\dev\\Documents\\Repositories\\Asset-Flinger\\add_mesh_asset_flinger\\thumbnailer\\Windows\\Thumbnailer - METAL.bat\n",
      "C:\\Users\\dev\\Documents\\Repositories\\Asset-Flinger\\add_mesh_asset_flinger\\thumbnailer\\Windows\\Thumbnailer.bat\n",
      "C:\\Users\\dev\\Documents\\Repositories\\basemap\\geos-3.3.3\\autogen.bat\n",
      "C:\\Users\\dev\\Documents\\Repositories\\BioBlender\\data\\runAPBS.bat\n",
      "C:\\Users\\dev\\Documents\\Repositories\\blenderseed\\docs\\make.bat\n",
      "C:\\Users\\dev\\Documents\\Repositories\\FACSvatar\\docs\\make.bat\n",
      "C:\\Users\\dev\\Documents\\Repositories\\notebooks\\bible\\data\\txt\\kjvtxt\\combine.bat\n",
      "C:\\Users\\dev\\Documents\\Repositories\\notebooks\\cookbook-code-master\\notebooks\\chapter05_hpc\\_launch_notebook.bat\n",
      "C:\\Users\\dev\\Documents\\Repositories\\notebooks\\statsintro_python-master\\ipynb\\make.bat\n",
      "C:\\Users\\dev\\Documents\\Repositories\\numenta-apps\\taurus-mobile\\android\\gradlew.bat\n",
      "C:\\Users\\dev\\Documents\\Repositories\\rpc\\bat\\get_monthly_sermonaudio_stats.bat\n"
     ]
    }
   ],
   "source": [
    "\n",
    "print_all_files_ending_with(\n",
    "    root_dir=[r'C:\\Users\\dev\\Documents\\Repositories'],\n",
    "    ends_with='.bat',\n",
    "    black_list=['$RECYCLE.BIN', '$Recycle.Bin', '.git', 'pkgs'],\n",
    ")"
   ]
  },
  {
   "cell_type": "code",
   "execution_count": 4,
   "metadata": {},
   "outputs": [],
   "source": [
    "\n",
    "contains_str = 'job_hunting'\n",
    "file_path_list = get_all_files_containing(root_dir=r'C:\\Users\\dev\\Documents\\Repositories\\rpc\\ps1', contains_str=contains_str)\n",
    "for file_path in file_path_list:\n",
    "    os.rename(file_path, file_path.replace(contains_str, 'rpc'))"
   ]
  },
  {
   "cell_type": "code",
   "execution_count": 1,
   "metadata": {},
   "outputs": [
    {
     "name": "stdout",
     "output_type": "stream",
     "text": [
      "APPDATA C:\\Users\\dev\\AppData\\Roaming\n",
      "HOMEPATH \\Users\\dev\n",
      "LOCALAPPDATA C:\\Users\\dev\\AppData\\Local\n",
      "ONEDRIVE C:\\Users\\dev\\OneDrive\n",
      "ONEDRIVECONSUMER C:\\Users\\dev\\OneDrive\n",
      "PATH C:\\Users\\dev\\anaconda3;C:\\Users\\dev\\anaconda3\\Library\\mingw-w64\\bin;C:\\Users\\dev\\anaconda3\\Library\\usr\\bin;C:\\Users\\dev\\anaconda3\\Library\\bin;C:\\Users\\dev\\anaconda3\\Scripts;C:\\Program Files (x86)\\Common Files\\Oracle\\Java\\javapath;C:\\ffmpeg\\bin;C:\\ProgramData\\Oracle\\Java\\javapath;C:\\Windows\\system32;C:\\Windows;C:\\Windows\\System32\\Wbem;C:\\Windows\\System32\\WindowsPowerShell\\v1.0\\;C:\\Users\\dev\\AppData\\Local\\Microsoft\\WindowsApps;C:\\Users\\dev\\AppData\\Local\\GitHubDesktop\\bin;C:\\WINDOWS\\system32;C:\\WINDOWS;C:\\WINDOWS\\System32\\Wbem;C:\\WINDOWS\\System32\\WindowsPowerShell\\v1.0\\;C:\\WINDOWS\\System32\\OpenSSH\\;C:\\Program Files\\MiKTeX 2.9\\miktex\\bin\\x64\\;C:\\Program Files\\dotnet\\;C:\\libav\\usr\\bin;C:\\Program Files (x86)\\Microsoft Visual Studio 14.0;C:\\ProgramData\\chocolatey\\bin;C:\\Program Files\\nodejs\\;C:\\Program Files (x86)\\Gow\\bin;C:\\Program Files\\PowerShell\\7\\;C:\\Program Files\\Git\\cmd;C:\\Program Files\\Graphviz 2.44.1\\bin;C:\\Program Files (x86)\\WinGraphviz;C:\\Program Files\\R\\R-4.0.3\\bin\\x64;C:\\Users\\dev\\anaconda3;C:\\Users\\dev\\anaconda3\\Library\\mingw-w64\\bin;C:\\Users\\dev\\anaconda3\\Library\\usr\\bin;C:\\Users\\dev\\anaconda3\\Library\\bin;C:\\Users\\dev\\anaconda3\\Scripts;C:\\Program Files (x86)\\Nmap;C:\\Users\\dev\\AppData\\Roaming\\npm\n",
      "PYSPARK_DRIVER_PYTHON C:\\Users\\dev\\Anaconda3\\Scripts\\jupyter-lab.exe\n",
      "PYWIKIBOT_DIR C:\\Users\\dev\\Documents\\repositories\\notebooks\\Miscellaneous\\py\n",
      "TEMP C:\\Users\\dev\\AppData\\Local\\Temp\n",
      "TMP C:\\Users\\dev\\AppData\\Local\\Temp\n",
      "USERNAME dev\n",
      "USERPROFILE C:\\Users\\dev\n",
      "CONDA_PREFIX C:\\Users\\dev\\anaconda3\n"
     ]
    }
   ],
   "source": [
    "\n",
    "import os\n",
    "\n",
    "for key, value in dict(os.environ).items():\n",
    "    if 'dev' in value:\n",
    "        print(key, value)"
   ]
  },
  {
   "cell_type": "code",
   "execution_count": null,
   "metadata": {},
   "outputs": [],
   "source": [
    "\n",
    "%windir%\\System32\\cmd.exe \"/K\" C:\\Users\\dev\\anaconda3\\Scripts\\activate.bat C:\\Users\\dev\\anaconda3"
   ]
  },
  {
   "cell_type": "code",
   "execution_count": null,
   "metadata": {},
   "outputs": [],
   "source": [
    "\n",
    "import subprocess\n",
    "\n",
    "repos_list = [r'C:\\Users\\dev\\Documents\\Repositories\\covid19', r'C:\\Users\\dev\\Documents\\Repositories\\notebooks\\flask',\n",
    "              r'C:\\Users\\dev\\Documents\\Repositories\\notebooks\\pt', r'C:\\Users\\dev\\Documents\\Repositories\\notebooks\\pymc3',\n",
    "              r'C:\\Users\\dev\\Documents\\Repositories\\notebooks\\rpc', r'C:\\Users\\dev\\Documents\\Repositories\\notebooks\\test',\n",
    "              r'C:\\Users\\dev\\Documents\\Repositories\\notebooks\\tf', r'C:\\Users\\dev\\Documents\\Repositories\\notebooks\\x']\n",
    "envs_list = ['covid19', 'flask', 'pt', 'pymc3', 'rpc', 'test', 'tf', 'x']\n",
    "for repo_path, env_name in zip(repos_list, envs_list):\n",
    "    print()\n",
    "    print('-'*len(env_name))\n",
    "    print(env_name)\n",
    "    print('-'*len(env_name))\n",
    "    command_str = f'''\n",
    "cd \"{repo_path}\"\n",
    "conda activate {env_name}\n",
    "conda env export --name {env_name} -f tmp_environment.yml\n",
    "conda deactivate\n",
    "'''\n",
    "    process = subprocess.Popen(r'C:\\Program Files\\PowerShell\\7\\pwsh.exe', stdin=subprocess.PIPE, stdout=subprocess.PIPE)\n",
    "    std_out, std_err = process.communicate(command_str.encode(encoding='utf-8'))\n",
    "    #print(std_out.decode())\n",
    "    if std_err is not None:\n",
    "        print(std_err.decode())"
   ]
  },
  {
   "cell_type": "code",
   "execution_count": 25,
   "metadata": {},
   "outputs": [],
   "source": [
    "\n",
    "env_pkgs_dict = {}\n",
    "for repo_path, env_name in zip(repos_list, envs_list):\n",
    "    file_path = os.path.join(repo_path, 'tmp_environment.yml')\n",
    "    with open(file_path, 'r') as file:\n",
    "        lines_list = file.read().split('\\n')[5:-2]\n",
    "        pkgs_list = [line_str.split('=')[0].split(' ')[-1] for line_str in lines_list]\n",
    "        env_pkgs_dict[env_name] = set(pkgs_list)"
   ]
  },
  {
   "cell_type": "code",
   "execution_count": 26,
   "metadata": {},
   "outputs": [],
   "source": [
    "\n",
    "union_set = set()\n",
    "for env_name, pkgs_set in env_pkgs_dict.items():\n",
    "    union_set = union_set.union(pkgs_set)"
   ]
  },
  {
   "cell_type": "code",
   "execution_count": 28,
   "metadata": {},
   "outputs": [],
   "source": [
    "\n",
    "intersection_set = union_set.copy()\n",
    "for env_name, pkgs_set in env_pkgs_dict.items():\n",
    "    intersection_set = intersection_set.intersection(pkgs_set)"
   ]
  },
  {
   "cell_type": "code",
   "execution_count": 33,
   "metadata": {},
   "outputs": [
    {
     "name": "stdout",
     "output_type": "stream",
     "text": [
      "  - prompt-toolkit\n",
      "  - vs2015_runtime\n",
      "  - backcall\n",
      "  - jedi\n",
      "  - parso\n",
      "(prompt-toolkit|vs2015_runtime|backcall|jedi|parso)\n"
     ]
    }
   ],
   "source": [
    "\n",
    "repo_path = r'C:\\Users\\dev\\Documents\\Repositories\\job-hunting'\n",
    "file_path = os.path.join(repo_path, 'tmp_environment.yml')\n",
    "with open(file_path, 'r') as file:\n",
    "    lines_list = file.read().split('\\n')[5:-2]\n",
    "    pkgs_list = [line_str.split('=')[0].split(' ')[-1] for line_str in lines_list]\n",
    "    pkgs_set = set(pkgs_list)\n",
    "missing_set = intersection_set - pkgs_set\n",
    "for pkg_name in missing_set:\n",
    "    print(f'  - {pkg_name}')\n",
    "print(f'({\"|\".join(missing_set)})')"
   ]
  },
  {
   "cell_type": "markdown",
   "metadata": {},
   "source": [
    "\n",
    "----"
   ]
  },
  {
   "cell_type": "code",
   "execution_count": null,
   "metadata": {},
   "outputs": [
    {
     "name": "stdout",
     "output_type": "stream",
     "text": [
      "# Ignore big files (GitHub will warn you when pushing files larger than 50 MB. You will not be allowed to\n",
      "# push files larger than 100 MB.) Tip: If you regularly push large files to GitHub, consider introducing\n",
      "# Git Large File Storage (Git LFS) as part of your workflow.\n",
      "\n"
     ]
    }
   ],
   "source": [
    "\n",
    "get_specific_gitignore_files('data-foundations', repository_dir=r'D:\\Documents\\Repositories')"
   ]
  },
  {
   "cell_type": "code",
   "execution_count": 48,
   "metadata": {},
   "outputs": [
    {
     "data": {
      "text/plain": [
       "[]"
      ]
     },
     "execution_count": 48,
     "metadata": {},
     "output_type": "execute_result"
    }
   ],
   "source": [
    "\n",
    "import collections\n",
    "\n",
    "columns_list = jira_df.columns.tolist()\n",
    "[item for item, count in collections.Counter(columns_list).items() if count > 1]"
   ]
  },
  {
   "cell_type": "code",
   "execution_count": 16,
   "metadata": {},
   "outputs": [
    {
     "data": {
      "text/html": [
       "<div>\n",
       "<style scoped>\n",
       "    .dataframe tbody tr th:only-of-type {\n",
       "        vertical-align: middle;\n",
       "    }\n",
       "\n",
       "    .dataframe tbody tr th {\n",
       "        vertical-align: top;\n",
       "    }\n",
       "\n",
       "    .dataframe thead th {\n",
       "        text-align: right;\n",
       "    }\n",
       "</style>\n",
       "<table border=\"1\" class=\"dataframe\">\n",
       "  <thead>\n",
       "    <tr style=\"text-align: right;\">\n",
       "      <th></th>\n",
       "      <th>column_name</th>\n",
       "      <th>dtype</th>\n",
       "      <th>count_blanks</th>\n",
       "      <th>count_uniques</th>\n",
       "      <th>count_zeroes</th>\n",
       "      <th>has_dates</th>\n",
       "      <th>min_value</th>\n",
       "      <th>max_value</th>\n",
       "      <th>only_integers</th>\n",
       "    </tr>\n",
       "  </thead>\n",
       "  <tbody>\n",
       "    <tr>\n",
       "      <th>10</th>\n",
       "      <td>Created</td>\n",
       "      <td>object</td>\n",
       "      <td>0</td>\n",
       "      <td>26</td>\n",
       "      <td>0</td>\n",
       "      <td>True</td>\n",
       "      <td>2019-04-19 11:37:00</td>\n",
       "      <td>2020-01-13 09:25:00</td>\n",
       "      <td>NaN</td>\n",
       "    </tr>\n",
       "    <tr>\n",
       "      <th>12</th>\n",
       "      <td>Updated</td>\n",
       "      <td>object</td>\n",
       "      <td>0</td>\n",
       "      <td>19</td>\n",
       "      <td>0</td>\n",
       "      <td>True</td>\n",
       "      <td>2019-05-29 12:10:00</td>\n",
       "      <td>2020-04-14 08:09:00</td>\n",
       "      <td>NaN</td>\n",
       "    </tr>\n",
       "    <tr>\n",
       "      <th>13</th>\n",
       "      <td>Resolved</td>\n",
       "      <td>object</td>\n",
       "      <td>2</td>\n",
       "      <td>25</td>\n",
       "      <td>0</td>\n",
       "      <td>True</td>\n",
       "      <td>NaN</td>\n",
       "      <td>NaN</td>\n",
       "      <td>NaN</td>\n",
       "    </tr>\n",
       "    <tr>\n",
       "      <th>15</th>\n",
       "      <td>Fix Version/s</td>\n",
       "      <td>object</td>\n",
       "      <td>16</td>\n",
       "      <td>3</td>\n",
       "      <td>0</td>\n",
       "      <td>True</td>\n",
       "      <td>NaN</td>\n",
       "      <td>NaN</td>\n",
       "      <td>NaN</td>\n",
       "    </tr>\n",
       "  </tbody>\n",
       "</table>\n",
       "</div>"
      ],
      "text/plain": [
       "      column_name   dtype  count_blanks  count_uniques  count_zeroes  \\\n",
       "10        Created  object             0             26             0   \n",
       "12        Updated  object             0             19             0   \n",
       "13       Resolved  object             2             25             0   \n",
       "15  Fix Version/s  object            16              3             0   \n",
       "\n",
       "    has_dates            min_value            max_value only_integers  \n",
       "10       True  2019-04-19 11:37:00  2020-01-13 09:25:00           NaN  \n",
       "12       True  2019-05-29 12:10:00  2020-04-14 08:09:00           NaN  \n",
       "13       True                  NaN                  NaN           NaN  \n",
       "15       True                  NaN                  NaN           NaN  "
      ]
     },
     "execution_count": 16,
     "metadata": {},
     "output_type": "execute_result"
    }
   ],
   "source": [
    "\n",
    "column_descriptions_df = get_column_descriptions(jira_df)\n",
    "mask_series = column_descriptions_df.has_dates & column_descriptions_df.only_integers.isnull()\n",
    "column_descriptions_df[mask_series]"
   ]
  },
  {
   "cell_type": "markdown",
   "metadata": {},
   "source": [
    "\n",
    "----"
   ]
  },
  {
   "cell_type": "code",
   "execution_count": 9,
   "metadata": {},
   "outputs": [
    {
     "name": "stdout",
     "output_type": "stream",
     "text": [
      "D:\\Documents\\Repositories\\notebooks\\age-of-empires-ii\\ipynb\\AoE2 Civilization Bonus Feature Selection.ipynb\n"
     ]
    }
   ],
   "source": [
    "\n",
    "plt_regex = re.compile(r'([\\r\\n]+)    \"import matplotlib\\.pyplot as plt\\\\n\",')\n",
    "notebooks_dir = r'D:\\Documents\\Repositories\\notebooks'\n",
    "stopped = False\n",
    "for sub_directory, directories_list, files_list in os.walk(notebooks_dir):\n",
    "    if stopped:\n",
    "        break\n",
    "    for file_name in files_list:\n",
    "        if stopped:\n",
    "            break\n",
    "        if file_name.endswith('.ipynb'):\n",
    "            file_path = os.path.join(sub_directory, file_name)\n",
    "            try:\n",
    "                with open(file_path, 'r') as f:\n",
    "                    file_str = f.read()\n",
    "                    if plt_regex.search(file_str):\n",
    "                        print(file_path)\n",
    "                        stopped = True\n",
    "                        break\n",
    "            except UnicodeDecodeError as e:\n",
    "                try:\n",
    "                    with open(file_path, 'rb') as f:\n",
    "                        file_str = f.read().decode('utf-8')\n",
    "                        if plt_regex.search(file_str):\n",
    "                            print(file_path)\n",
    "                except Exception as e:\n",
    "                    message = str(e).strip()\n",
    "                    print()\n",
    "                    print('{} had an error after trying to decode: {}'.format(file_path, message))\n",
    "                    print()"
   ]
  },
  {
   "cell_type": "code",
   "execution_count": 11,
   "metadata": {},
   "outputs": [],
   "source": [
    "\n",
    "import pyperclip\n",
    "\n",
    "pyperclip.copy(str(file_str))"
   ]
  },
  {
   "cell_type": "code",
   "execution_count": null,
   "metadata": {},
   "outputs": [],
   "source": [
    "\n",
    "gi = get_ipython()\n",
    "#print([fn for fn in dir(gi) if not fn.startswith('_')])\n",
    "gi.run_line_magic('who', '')"
   ]
  },
  {
   "cell_type": "code",
   "execution_count": null,
   "metadata": {},
   "outputs": [],
   "source": [
    "\n",
    "remove_empty_folders(folder_path=r'D:\\VirtualBox VMs')"
   ]
  },
  {
   "cell_type": "code",
   "execution_count": null,
   "metadata": {},
   "outputs": [],
   "source": [
    "\n",
    "magic_dict_list = magic_dict['test.py']\n",
    "print(len(magic_dict_list))\n",
    "subprocess.run([comparator_path, os.path.abspath(magic_dict_list[0]), os.path.abspath(magic_dict_list[1])])"
   ]
  },
  {
   "cell_type": "code",
   "execution_count": null,
   "metadata": {},
   "outputs": [],
   "source": [
    "\n",
    "get_specific_gitignore_files('notebooks', repository_dir=r'C:\\Users\\dev\\Documents\\repositories')"
   ]
  },
  {
   "cell_type": "code",
   "execution_count": null,
   "metadata": {},
   "outputs": [],
   "source": [
    "\n",
    "import sys\n",
    "\n",
    "for key, value in sys.modules.items():\n",
    "    if 'xdist' in key.lower():\n",
    "        #print('{}: {}'.format(key, value))\n",
    "        print('{}'.format(key))"
   ]
  },
  {
   "cell_type": "code",
   "execution_count": null,
   "metadata": {},
   "outputs": [],
   "source": []
  }
 ],
 "metadata": {
  "kernelspec": {
   "display_name": "Python 3 (ipykernel)",
   "language": "python",
   "name": "python3"
  },
  "language_info": {
   "codemirror_mode": {
    "name": "ipython",
    "version": 3
   },
   "file_extension": ".py",
   "mimetype": "text/x-python",
   "name": "python",
   "nbconvert_exporter": "python",
   "pygments_lexer": "ipython3",
   "version": "3.9.16"
  }
 },
 "nbformat": 4,
 "nbformat_minor": 4
}
