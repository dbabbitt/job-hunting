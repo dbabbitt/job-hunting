{
 "cells": [
  {
   "cell_type": "code",
   "execution_count": 1,
   "metadata": {},
   "outputs": [
    {
     "name": "stdout",
     "output_type": "stream",
     "text": [
      "Pretty printing has been turned OFF\n"
     ]
    }
   ],
   "source": [
    "\n",
    "%pprint"
   ]
  },
  {
   "cell_type": "code",
   "execution_count": 4,
   "metadata": {},
   "outputs": [
    {
     "name": "stdout",
     "output_type": "stream",
     "text": [
      "C:\\neo4j\\import\\neo4j_job_hunting_export.csv\n"
     ]
    }
   ],
   "source": [
    "\n",
    "import os\n",
    "\n",
    "for root_dir in ['C:\\\\']:\n",
    "    for sub_directory, directories_list, files_list in os.walk(root_dir):\n",
    "        for file_name in files_list:\n",
    "            if file_name == 'neo4j_job_hunting_export.csv':\n",
    "                file_path = os.path.join(sub_directory, file_name)\n",
    "                print(file_path)"
   ]
  },
  {
   "cell_type": "code",
   "execution_count": 6,
   "metadata": {},
   "outputs": [
    {
     "name": "stdout",
     "output_type": "stream",
     "text": [
      "D:\\Documents\\GitHub\\job-hunting\\data\\300d\\glove.840B.300d.txt\n"
     ]
    }
   ],
   "source": [
    "\n",
    "import os\n",
    "\n",
    "max_bytes = 0\n",
    "max_file_path = ''\n",
    "black_list = ['$RECYCLE.BIN', '$Recycle.Bin', '.git']\n",
    "for root_dir in [r'D:\\Documents\\GitHub\\job-hunting\\data']:\n",
    "    for sub_directory, directories_list, files_list in os.walk(root_dir, topdown=False):\n",
    "        if all(map(lambda x: x not in sub_directory, black_list)):\n",
    "            for file_name in files_list:\n",
    "                if file_name.endswith('.txt'):\n",
    "                    file_path = os.path.join(sub_directory, file_name)\n",
    "                    file_size = os.path.getsize(file_path)\n",
    "#                     print(file_path)\n",
    "                    if file_size > max_bytes:\n",
    "                        max_bytes = file_size\n",
    "                        max_file_path = file_path\n",
    "                        print(max_file_path)"
   ]
  },
  {
   "cell_type": "code",
   "execution_count": 2,
   "metadata": {},
   "outputs": [],
   "source": [
    "\n",
    "def get_all_directories_containing(root_dir=r'C:\\Users\\dev\\anaconda3\\envs', contains_str='activate',\n",
    "                                   black_list=['$RECYCLE.BIN', '$Recycle.Bin', '.git']):\n",
    "    dir_path_list = []\n",
    "    if type(root_dir) == list:\n",
    "        root_dir_list = root_dir\n",
    "    else:\n",
    "        root_dir_list = [root_dir]\n",
    "    if type(contains_str) == list:\n",
    "        contains_list = contains_str\n",
    "    else:\n",
    "        contains_list = [contains_str]\n",
    "    for root_dir in root_dir_list:\n",
    "        for sub_directory, directories_list, files_list in os.walk(root_dir):\n",
    "            if all(map(lambda x: x not in sub_directory, black_list)):\n",
    "                for dir_name in directories_list:\n",
    "                    contains_bool = False\n",
    "                    for contains_str in contains_list:\n",
    "                        contains_bool = contains_bool or (contains_str in dir_name)\n",
    "                    if contains_bool:\n",
    "                        dir_path = os.path.join(sub_directory, dir_name)\n",
    "                        dir_path_list.append(dir_path)\n",
    "    \n",
    "    return dir_path_list"
   ]
  },
  {
   "cell_type": "code",
   "execution_count": 3,
   "metadata": {},
   "outputs": [
    {
     "name": "stdout",
     "output_type": "stream",
     "text": [
      "C:\\Users\\dev\\AppData\\Local\\Google\\Chrome\\User Data\\Default\\IndexedDB\\https_forums.minecraftforge.net_0.indexeddb.leveldb\n",
      "C:\\Users\\dev\\AppData\\Local\\Google\\Chrome\\User Data\\Default\\IndexedDB\\https_minecraft.fandom.com_0.indexeddb.blob\n",
      "C:\\Users\\dev\\AppData\\Local\\Google\\Chrome\\User Data\\Default\\IndexedDB\\https_minecraft.fandom.com_0.indexeddb.leveldb\n",
      "C:\\Users\\dev\\AppData\\Local\\Google\\Chrome\\User Data\\Default\\IndexedDB\\https_minecraft.wonderhowto.com_0.indexeddb.leveldb\n",
      "C:\\Users\\dev\\AppData\\Local\\Google\\Chrome\\User Data\\Default\\IndexedDB\\https_minecraftuniverse.fandom.com_0.indexeddb.leveldb\n",
      "C:\\Users\\dev\\AppData\\Local\\Google\\Chrome\\User Data\\Default\\IndexedDB\\https_www.minecraft.net_0.indexeddb.leveldb\n",
      "C:\\Users\\dev\\AppData\\Roaming\\.minecraft\n",
      "C:\\Users\\dev\\AppData\\Roaming\\Mozilla\\Firefox\\Profiles\\gbkbbkfc.default-release\\storage\\default\\https+++forums.minecraftforge.net\n",
      "C:\\Users\\dev\\AppData\\Roaming\\Mozilla\\Firefox\\Profiles\\gbkbbkfc.default-release\\storage\\default\\https+++help.minecraft.net\n",
      "C:\\Users\\dev\\AppData\\Roaming\\Mozilla\\Firefox\\Profiles\\gbkbbkfc.default-release\\storage\\default\\https+++minecraft-resourcepacks.com\n",
      "C:\\Users\\dev\\AppData\\Roaming\\Mozilla\\Firefox\\Profiles\\gbkbbkfc.default-release\\storage\\default\\https+++minecraft.fandom.com\n",
      "C:\\Users\\dev\\AppData\\Roaming\\Mozilla\\Firefox\\Profiles\\gbkbbkfc.default-release\\storage\\default\\https+++minecraft.fandom.com^userContextId=1\n",
      "C:\\Users\\dev\\AppData\\Roaming\\Mozilla\\Firefox\\Profiles\\gbkbbkfc.default-release\\storage\\default\\https+++minecraft.fandom.com^userContextId=7\n",
      "C:\\Users\\dev\\AppData\\Roaming\\Mozilla\\Firefox\\Profiles\\gbkbbkfc.default-release\\storage\\default\\https+++minecraftpc.fandom.com\n",
      "C:\\Users\\dev\\AppData\\Roaming\\Mozilla\\Firefox\\Profiles\\gbkbbkfc.default-release\\storage\\default\\https+++minecraftpc.fandom.com^userContextId=7\n",
      "C:\\Users\\dev\\AppData\\Roaming\\Mozilla\\Firefox\\Profiles\\gbkbbkfc.default-release\\storage\\default\\https+++www.minecraft.net\n",
      "C:\\Users\\dev\\AppData\\Roaming\\Mozilla\\Firefox\\Profiles\\gbkbbkfc.default-release\\storage\\default\\https+++www.minecraftforum.net^userContextId=1\n",
      "D:\\backups\\dev\\Documents\\Repositories\\mine-hack\\java\\org\\numenta\\minecraft\n",
      "D:\\Documents\\GitHub\\MineCraft\\data\\1.12_Default_Resource_Pack\\assets\\minecraft\n",
      "D:\\Documents\\GitHub\\MineCraft\\data\\1.15_Default_Resource_Pack\\assets\\minecraft\n",
      "D:\\Documents\\GitHub\\MineCraft\\mine-hack\\java\\org\\numenta\\minecraft\n"
     ]
    }
   ],
   "source": [
    "\n",
    "import os\n",
    "\n",
    "dirs_list = ['C:\\\\', 'D:\\\\']\n",
    "for file_path in get_all_directories_containing(root_dir=dirs_list, contains_str='minecraft', black_list=['$RECYCLE.BIN', '$Recycle.Bin', '.git']):\n",
    "    print(file_path)"
   ]
  },
  {
   "cell_type": "code",
   "execution_count": 6,
   "metadata": {},
   "outputs": [],
   "source": [
    "\n",
    "import os\n",
    "\n",
    "for root_dir in [r'D:\\Documents\\GitHub\\MineCraft\\data\\1.18.1_Default_Resource_Pack']:\n",
    "    for sub_directory, directories_list, files_list in os.walk(root_dir):\n",
    "        for file_name in files_list:\n",
    "            if file_name.endswith('.class'):\n",
    "                file_path = os.path.join(sub_directory, file_name)\n",
    "                os.remove(file_path)"
   ]
  },
  {
   "cell_type": "code",
   "execution_count": 2,
   "metadata": {},
   "outputs": [
    {
     "name": "stdout",
     "output_type": "stream",
     "text": [
      "D:\\backups\\dev\\Documents\\Repositories\\notebooks\\xlsx\\SEDA_codebook_crosswalk_v20.xlsx\n",
      "D:\\Documents\\GitHub\\notebooks_old\\xlsx\\SEDA_codebook_crosswalk_v20.xlsx\n"
     ]
    }
   ],
   "source": [
    "\n",
    "import os\n",
    "\n",
    "for root_dir in ['C:\\\\', 'D:\\\\']:\n",
    "    for sub_directory, directories_list, files_list in os.walk(root_dir):\n",
    "        for file_name in files_list:\n",
    "            if file_name.endswith('xlsx') and (('walk' in file_name.lower()) or ('talk' in file_name.lower())):\n",
    "                file_path = os.path.join(sub_directory, file_name)\n",
    "                print(file_path)"
   ]
  },
  {
   "cell_type": "code",
   "execution_count": 13,
   "metadata": {},
   "outputs": [
    {
     "ename": "NameError",
     "evalue": "name '_desktop' is not defined",
     "output_type": "error",
     "traceback": [
      "\u001b[1;31m---------------------------------------------------------------------------\u001b[0m",
      "\u001b[1;31mNameError\u001b[0m                                 Traceback (most recent call last)",
      "\u001b[1;32m<ipython-input-13-180107426869>\u001b[0m in \u001b[0;36m<module>\u001b[1;34m\u001b[0m\n\u001b[0;32m      6\u001b[0m \u001b[1;33m\u001b[0m\u001b[0m\n\u001b[0;32m      7\u001b[0m \u001b[1;31m# Determine the index of your file\u001b[0m\u001b[1;33m\u001b[0m\u001b[1;33m\u001b[0m\u001b[1;33m\u001b[0m\u001b[0m\n\u001b[1;32m----> 8\u001b[1;33m \u001b[0mShellRecycledItem_obj\u001b[0m \u001b[1;33m=\u001b[0m \u001b[0mwinshell\u001b[0m\u001b[1;33m.\u001b[0m\u001b[0mShellRecycledItem\u001b[0m\u001b[1;33m.\u001b[0m\u001b[0mfrom_path\u001b[0m\u001b[1;33m(\u001b[0m\u001b[1;34mr'D:\\$RECYCLE.BIN\\S-1-5-21-1161412072-3680630389-113359315-1003\\$RB7DVL4\\data\\txt\\gradient.txt'\u001b[0m\u001b[1;33m)\u001b[0m\u001b[1;33m\u001b[0m\u001b[1;33m\u001b[0m\u001b[0m\n\u001b[0m\u001b[0;32m      9\u001b[0m \u001b[0mbinned_file_index\u001b[0m \u001b[1;33m=\u001b[0m \u001b[0mbinned_files_list\u001b[0m\u001b[1;33m.\u001b[0m\u001b[0mindex\u001b[0m\u001b[1;33m(\u001b[0m\u001b[0mShellRecycledItem_obj\u001b[0m\u001b[1;33m)\u001b[0m\u001b[1;33m\u001b[0m\u001b[1;33m\u001b[0m\u001b[0m\n\u001b[0;32m     10\u001b[0m \u001b[1;33m\u001b[0m\u001b[0m\n",
      "\u001b[1;32mD:\\Documents\\GitHub\\job-hunting\\jh_env\\lib\\site-packages\\winshell.py\u001b[0m in \u001b[0;36mfrom_path\u001b[1;34m(cls, path)\u001b[0m\n\u001b[0;32m    627\u001b[0m   \u001b[1;33m@\u001b[0m\u001b[0mclassmethod\u001b[0m\u001b[1;33m\u001b[0m\u001b[1;33m\u001b[0m\u001b[0m\n\u001b[0;32m    628\u001b[0m   \u001b[1;32mdef\u001b[0m \u001b[0mfrom_path\u001b[0m \u001b[1;33m(\u001b[0m\u001b[0mcls\u001b[0m\u001b[1;33m,\u001b[0m \u001b[0mpath\u001b[0m\u001b[1;33m)\u001b[0m\u001b[1;33m:\u001b[0m\u001b[1;33m\u001b[0m\u001b[1;33m\u001b[0m\u001b[0m\n\u001b[1;32m--> 629\u001b[1;33m     \u001b[0m_\u001b[0m\u001b[1;33m,\u001b[0m \u001b[0mpidl\u001b[0m\u001b[1;33m,\u001b[0m \u001b[0mflags\u001b[0m \u001b[1;33m=\u001b[0m \u001b[0m_desktop\u001b[0m\u001b[1;33m.\u001b[0m\u001b[0mParseDisplayName\u001b[0m \u001b[1;33m(\u001b[0m\u001b[1;36m0\u001b[0m\u001b[1;33m,\u001b[0m \u001b[1;32mNone\u001b[0m\u001b[1;33m,\u001b[0m \u001b[0mpath\u001b[0m\u001b[1;33m,\u001b[0m \u001b[0mshellcon\u001b[0m\u001b[1;33m.\u001b[0m\u001b[0mSFGAO_FOLDER\u001b[0m\u001b[1;33m)\u001b[0m\u001b[1;33m\u001b[0m\u001b[1;33m\u001b[0m\u001b[0m\n\u001b[0m\u001b[0;32m    630\u001b[0m     \u001b[1;32mif\u001b[0m \u001b[0mflags\u001b[0m \u001b[1;33m&\u001b[0m \u001b[0mshellcon\u001b[0m\u001b[1;33m.\u001b[0m\u001b[0mSFGAO_FOLDER\u001b[0m\u001b[1;33m:\u001b[0m\u001b[1;33m\u001b[0m\u001b[1;33m\u001b[0m\u001b[0m\n\u001b[0;32m    631\u001b[0m       \u001b[1;32mreturn\u001b[0m \u001b[0mShellFolder\u001b[0m\u001b[1;33m.\u001b[0m\u001b[0mfrom_pidl\u001b[0m \u001b[1;33m(\u001b[0m\u001b[0mpidl\u001b[0m\u001b[1;33m)\u001b[0m\u001b[1;33m\u001b[0m\u001b[1;33m\u001b[0m\u001b[0m\n",
      "\u001b[1;31mNameError\u001b[0m: name '_desktop' is not defined"
     ]
    }
   ],
   "source": [
    "\n",
    "import winshell\n",
    "import random\n",
    "\n",
    "# List the original path of all the all items in the recycling bin\n",
    "binned_files_list = list(winshell.recycle_bin())\n",
    "\n",
    "# Determine the index of your file\n",
    "ShellRecycledItem_obj = winshell.ShellRecycledItem.from_path(r'D:\\$RECYCLE.BIN\\S-1-5-21-1161412072-3680630389-113359315-1003\\$RB7DVL4\\data\\txt\\gradient.txt')\n",
    "binned_file_index = binned_files_list.index(ShellRecycledItem_obj)\n",
    "\n",
    "winshell.undelete(binned_files_list[binned_file_index].original_filename())"
   ]
  },
  {
   "cell_type": "code",
   "execution_count": 3,
   "metadata": {},
   "outputs": [],
   "source": [
    "\n",
    "for sub_directory, directories_list, files_list in os.walk(r'C:\\Users\\dev\\Documents\\Repositories\\job-hunting\\saves\\html'):\n",
    "    for old_file_name in files_list:\n",
    "        if \"['\" in old_file_name:\n",
    "            old_file_path = os.path.join(sub_directory, old_file_name)\n",
    "            new_file_name = old_file_name.replace(\"['\", '').replace(\"']\", '')\n",
    "            new_file_path = os.path.join(sub_directory, new_file_name)\n",
    "            os.rename(old_file_path, new_file_path)"
   ]
  },
  {
   "cell_type": "code",
   "execution_count": 10,
   "metadata": {},
   "outputs": [],
   "source": [
    "\n",
    "!start %windir%\\explorer.exe \"os.path.abspath('C:\\\\\\\\Users\\\\Dave Babbitt\\\\AppData\\\\Roaming\\\\.minecraft')\""
   ]
  },
  {
   "cell_type": "code",
   "execution_count": 7,
   "metadata": {},
   "outputs": [
    {
     "name": "stdout",
     "output_type": "stream",
     "text": [
      "C:\\\\Users\\dev\\anaconda3\\Scripts\\speedtest-cli.exe\n",
      "C:\\\\Users\\dev\\anaconda3\\Scripts\\speedtest.exe\n",
      "C:\\\\Users\\dev\\Downloads\\ookla-speedtest-1.0.0-win64\\speedtest.exe\n"
     ]
    }
   ],
   "source": [
    "\n",
    "print_all_files_ending_starting_with(\n",
    "    root_dir=[r'C:\\\\'],\n",
    "    ends_with='.exe',\n",
    "    starts_with='speedtest',\n",
    "    black_list=['$RECYCLE.BIN', '$Recycle.Bin', '.git'],\n",
    ")"
   ]
  },
  {
   "cell_type": "code",
   "execution_count": 2,
   "metadata": {},
   "outputs": [
    {
     "name": "stdout",
     "output_type": "stream",
     "text": [
      "C:\\Users\\dev\\Documents\\Repositories\\animation_nodes\\animation_nodes\\libs\\FastNoiseSIMD\\source\\compile_windows.bat\n",
      "C:\\Users\\dev\\Documents\\Repositories\\Asset-Flinger\\add_mesh_asset_flinger\\thumbnailer\\Windows\\Thumbnailer - METAL.bat\n",
      "C:\\Users\\dev\\Documents\\Repositories\\Asset-Flinger\\add_mesh_asset_flinger\\thumbnailer\\Windows\\Thumbnailer.bat\n",
      "C:\\Users\\dev\\Documents\\Repositories\\basemap\\geos-3.3.3\\autogen.bat\n",
      "C:\\Users\\dev\\Documents\\Repositories\\BioBlender\\data\\runAPBS.bat\n",
      "C:\\Users\\dev\\Documents\\Repositories\\blenderseed\\docs\\make.bat\n",
      "C:\\Users\\dev\\Documents\\Repositories\\FACSvatar\\docs\\make.bat\n",
      "C:\\Users\\dev\\Documents\\Repositories\\notebooks\\bible\\data\\txt\\kjvtxt\\combine.bat\n",
      "C:\\Users\\dev\\Documents\\Repositories\\notebooks\\cookbook-code-master\\notebooks\\chapter05_hpc\\_launch_notebook.bat\n",
      "C:\\Users\\dev\\Documents\\Repositories\\notebooks\\statsintro_python-master\\ipynb\\make.bat\n",
      "C:\\Users\\dev\\Documents\\Repositories\\numenta-apps\\taurus-mobile\\android\\gradlew.bat\n",
      "C:\\Users\\dev\\Documents\\Repositories\\rpc\\bat\\get_monthly_sermonaudio_stats.bat\n"
     ]
    }
   ],
   "source": [
    "\n",
    "print_all_files_ending_with(\n",
    "    root_dir=[r'C:\\Users\\dev\\Documents\\Repositories'],\n",
    "    ends_with='.bat',\n",
    "    black_list=['$RECYCLE.BIN', '$Recycle.Bin', '.git', 'pkgs'],\n",
    ")"
   ]
  },
  {
   "cell_type": "code",
   "execution_count": 4,
   "metadata": {},
   "outputs": [],
   "source": [
    "\n",
    "contains_str = 'job_hunting'\n",
    "file_path_list = get_all_files_containing(root_dir=r'C:\\Users\\dev\\Documents\\Repositories\\rpc\\ps1', contains_str=contains_str)\n",
    "for file_path in file_path_list:\n",
    "    os.rename(file_path, file_path.replace(contains_str, 'rpc'))"
   ]
  },
  {
   "cell_type": "code",
   "execution_count": 1,
   "metadata": {},
   "outputs": [
    {
     "name": "stdout",
     "output_type": "stream",
     "text": [
      "APPDATA C:\\Users\\dev\\AppData\\Roaming\n",
      "HOMEPATH \\Users\\dev\n",
      "LOCALAPPDATA C:\\Users\\dev\\AppData\\Local\n",
      "ONEDRIVE C:\\Users\\dev\\OneDrive\n",
      "ONEDRIVECONSUMER C:\\Users\\dev\\OneDrive\n",
      "PATH C:\\Users\\dev\\anaconda3;C:\\Users\\dev\\anaconda3\\Library\\mingw-w64\\bin;C:\\Users\\dev\\anaconda3\\Library\\usr\\bin;C:\\Users\\dev\\anaconda3\\Library\\bin;C:\\Users\\dev\\anaconda3\\Scripts;C:\\Program Files (x86)\\Common Files\\Oracle\\Java\\javapath;C:\\ffmpeg\\bin;C:\\ProgramData\\Oracle\\Java\\javapath;C:\\Windows\\system32;C:\\Windows;C:\\Windows\\System32\\Wbem;C:\\Windows\\System32\\WindowsPowerShell\\v1.0\\;C:\\Users\\dev\\AppData\\Local\\Microsoft\\WindowsApps;C:\\Users\\dev\\AppData\\Local\\GitHubDesktop\\bin;C:\\WINDOWS\\system32;C:\\WINDOWS;C:\\WINDOWS\\System32\\Wbem;C:\\WINDOWS\\System32\\WindowsPowerShell\\v1.0\\;C:\\WINDOWS\\System32\\OpenSSH\\;C:\\Program Files\\MiKTeX 2.9\\miktex\\bin\\x64\\;C:\\Program Files\\dotnet\\;C:\\libav\\usr\\bin;C:\\Program Files (x86)\\Microsoft Visual Studio 14.0;C:\\ProgramData\\chocolatey\\bin;C:\\Program Files\\nodejs\\;C:\\Program Files (x86)\\Gow\\bin;C:\\Program Files\\PowerShell\\7\\;C:\\Program Files\\Git\\cmd;C:\\Program Files\\Graphviz 2.44.1\\bin;C:\\Program Files (x86)\\WinGraphviz;C:\\Program Files\\R\\R-4.0.3\\bin\\x64;C:\\Users\\dev\\anaconda3;C:\\Users\\dev\\anaconda3\\Library\\mingw-w64\\bin;C:\\Users\\dev\\anaconda3\\Library\\usr\\bin;C:\\Users\\dev\\anaconda3\\Library\\bin;C:\\Users\\dev\\anaconda3\\Scripts;C:\\Program Files (x86)\\Nmap;C:\\Users\\dev\\AppData\\Roaming\\npm\n",
      "PYSPARK_DRIVER_PYTHON C:\\Users\\dev\\Anaconda3\\Scripts\\jupyter-lab.exe\n",
      "PYWIKIBOT_DIR C:\\Users\\dev\\Documents\\repositories\\notebooks\\Miscellaneous\\py\n",
      "TEMP C:\\Users\\dev\\AppData\\Local\\Temp\n",
      "TMP C:\\Users\\dev\\AppData\\Local\\Temp\n",
      "USERNAME dev\n",
      "USERPROFILE C:\\Users\\dev\n",
      "CONDA_PREFIX C:\\Users\\dev\\anaconda3\n"
     ]
    }
   ],
   "source": [
    "\n",
    "import os\n",
    "\n",
    "for key, value in dict(os.environ).items():\n",
    "    if 'dev' in value:\n",
    "        print(key, value)"
   ]
  },
  {
   "cell_type": "code",
   "execution_count": null,
   "metadata": {},
   "outputs": [],
   "source": [
    "\n",
    "%windir%\\System32\\cmd.exe \"/K\" C:\\Users\\dev\\anaconda3\\Scripts\\activate.bat C:\\Users\\dev\\anaconda3"
   ]
  },
  {
   "cell_type": "code",
   "execution_count": null,
   "metadata": {},
   "outputs": [],
   "source": [
    "\n",
    "import subprocess\n",
    "\n",
    "repos_list = [r'C:\\Users\\dev\\Documents\\Repositories\\covid19', r'C:\\Users\\dev\\Documents\\Repositories\\notebooks\\flask',\n",
    "              r'C:\\Users\\dev\\Documents\\Repositories\\notebooks\\pt', r'C:\\Users\\dev\\Documents\\Repositories\\notebooks\\pymc3',\n",
    "              r'C:\\Users\\dev\\Documents\\Repositories\\notebooks\\rpc', r'C:\\Users\\dev\\Documents\\Repositories\\notebooks\\test',\n",
    "              r'C:\\Users\\dev\\Documents\\Repositories\\notebooks\\tf', r'C:\\Users\\dev\\Documents\\Repositories\\notebooks\\x']\n",
    "envs_list = ['covid19', 'flask', 'pt', 'pymc3', 'rpc', 'test', 'tf', 'x']\n",
    "for repo_path, env_name in zip(repos_list, envs_list):\n",
    "    print()\n",
    "    print('-'*len(env_name))\n",
    "    print(env_name)\n",
    "    print('-'*len(env_name))\n",
    "    command_str = f'''\n",
    "cd \"{repo_path}\"\n",
    "conda activate {env_name}\n",
    "conda env export --name {env_name} -f tmp_environment.yml\n",
    "conda deactivate\n",
    "'''\n",
    "    process = subprocess.Popen(r'C:\\Program Files\\PowerShell\\7\\pwsh.exe', stdin=subprocess.PIPE, stdout=subprocess.PIPE)\n",
    "    std_out, std_err = process.communicate(command_str.encode(encoding='utf-8'))\n",
    "    #print(std_out.decode())\n",
    "    if std_err is not None:\n",
    "        print(std_err.decode())"
   ]
  },
  {
   "cell_type": "code",
   "execution_count": 25,
   "metadata": {},
   "outputs": [],
   "source": [
    "\n",
    "env_pkgs_dict = {}\n",
    "for repo_path, env_name in zip(repos_list, envs_list):\n",
    "    file_path = os.path.join(repo_path, 'tmp_environment.yml')\n",
    "    with open(file_path, 'r') as file:\n",
    "        lines_list = file.read().split('\\n')[5:-2]\n",
    "        pkgs_list = [line_str.split('=')[0].split(' ')[-1] for line_str in lines_list]\n",
    "        env_pkgs_dict[env_name] = set(pkgs_list)"
   ]
  },
  {
   "cell_type": "code",
   "execution_count": 26,
   "metadata": {},
   "outputs": [],
   "source": [
    "\n",
    "union_set = set()\n",
    "for env_name, pkgs_set in env_pkgs_dict.items():\n",
    "    union_set = union_set.union(pkgs_set)"
   ]
  },
  {
   "cell_type": "code",
   "execution_count": 28,
   "metadata": {},
   "outputs": [],
   "source": [
    "\n",
    "intersection_set = union_set.copy()\n",
    "for env_name, pkgs_set in env_pkgs_dict.items():\n",
    "    intersection_set = intersection_set.intersection(pkgs_set)"
   ]
  },
  {
   "cell_type": "code",
   "execution_count": 33,
   "metadata": {},
   "outputs": [
    {
     "name": "stdout",
     "output_type": "stream",
     "text": [
      "  - prompt-toolkit\n",
      "  - vs2015_runtime\n",
      "  - backcall\n",
      "  - jedi\n",
      "  - parso\n",
      "(prompt-toolkit|vs2015_runtime|backcall|jedi|parso)\n"
     ]
    }
   ],
   "source": [
    "\n",
    "repo_path = r'C:\\Users\\dev\\Documents\\Repositories\\job-hunting'\n",
    "file_path = os.path.join(repo_path, 'tmp_environment.yml')\n",
    "with open(file_path, 'r') as file:\n",
    "    lines_list = file.read().split('\\n')[5:-2]\n",
    "    pkgs_list = [line_str.split('=')[0].split(' ')[-1] for line_str in lines_list]\n",
    "    pkgs_set = set(pkgs_list)\n",
    "missing_set = intersection_set - pkgs_set\n",
    "for pkg_name in missing_set:\n",
    "    print(f'  - {pkg_name}')\n",
    "print(f'({\"|\".join(missing_set)})')"
   ]
  },
  {
   "cell_type": "markdown",
   "metadata": {},
   "source": [
    "\n",
    "----"
   ]
  },
  {
   "cell_type": "code",
   "execution_count": null,
   "metadata": {},
   "outputs": [
    {
     "name": "stdout",
     "output_type": "stream",
     "text": [
      "# Ignore big files (GitHub will warn you when pushing files larger than 50 MB. You will not be allowed to\n",
      "# push files larger than 100 MB.) Tip: If you regularly push large files to GitHub, consider introducing\n",
      "# Git Large File Storage (Git LFS) as part of your workflow.\n",
      "\n"
     ]
    }
   ],
   "source": [
    "\n",
    "get_specific_gitignore_files('data-foundations', repository_dir=r'D:\\Documents\\Repositories')"
   ]
  },
  {
   "cell_type": "code",
   "execution_count": 48,
   "metadata": {},
   "outputs": [
    {
     "data": {
      "text/plain": [
       "[]"
      ]
     },
     "execution_count": 48,
     "metadata": {},
     "output_type": "execute_result"
    }
   ],
   "source": [
    "\n",
    "import collections\n",
    "\n",
    "columns_list = jira_df.columns.tolist()\n",
    "[item for item, count in collections.Counter(columns_list).items() if count > 1]"
   ]
  },
  {
   "cell_type": "code",
   "execution_count": 16,
   "metadata": {},
   "outputs": [
    {
     "data": {
      "text/html": [
       "<div>\n",
       "<style scoped>\n",
       "    .dataframe tbody tr th:only-of-type {\n",
       "        vertical-align: middle;\n",
       "    }\n",
       "\n",
       "    .dataframe tbody tr th {\n",
       "        vertical-align: top;\n",
       "    }\n",
       "\n",
       "    .dataframe thead th {\n",
       "        text-align: right;\n",
       "    }\n",
       "</style>\n",
       "<table border=\"1\" class=\"dataframe\">\n",
       "  <thead>\n",
       "    <tr style=\"text-align: right;\">\n",
       "      <th></th>\n",
       "      <th>column_name</th>\n",
       "      <th>dtype</th>\n",
       "      <th>count_blanks</th>\n",
       "      <th>count_uniques</th>\n",
       "      <th>count_zeroes</th>\n",
       "      <th>has_dates</th>\n",
       "      <th>min_value</th>\n",
       "      <th>max_value</th>\n",
       "      <th>only_integers</th>\n",
       "    </tr>\n",
       "  </thead>\n",
       "  <tbody>\n",
       "    <tr>\n",
       "      <th>10</th>\n",
       "      <td>Created</td>\n",
       "      <td>object</td>\n",
       "      <td>0</td>\n",
       "      <td>26</td>\n",
       "      <td>0</td>\n",
       "      <td>True</td>\n",
       "      <td>2019-04-19 11:37:00</td>\n",
       "      <td>2020-01-13 09:25:00</td>\n",
       "      <td>NaN</td>\n",
       "    </tr>\n",
       "    <tr>\n",
       "      <th>12</th>\n",
       "      <td>Updated</td>\n",
       "      <td>object</td>\n",
       "      <td>0</td>\n",
       "      <td>19</td>\n",
       "      <td>0</td>\n",
       "      <td>True</td>\n",
       "      <td>2019-05-29 12:10:00</td>\n",
       "      <td>2020-04-14 08:09:00</td>\n",
       "      <td>NaN</td>\n",
       "    </tr>\n",
       "    <tr>\n",
       "      <th>13</th>\n",
       "      <td>Resolved</td>\n",
       "      <td>object</td>\n",
       "      <td>2</td>\n",
       "      <td>25</td>\n",
       "      <td>0</td>\n",
       "      <td>True</td>\n",
       "      <td>NaN</td>\n",
       "      <td>NaN</td>\n",
       "      <td>NaN</td>\n",
       "    </tr>\n",
       "    <tr>\n",
       "      <th>15</th>\n",
       "      <td>Fix Version/s</td>\n",
       "      <td>object</td>\n",
       "      <td>16</td>\n",
       "      <td>3</td>\n",
       "      <td>0</td>\n",
       "      <td>True</td>\n",
       "      <td>NaN</td>\n",
       "      <td>NaN</td>\n",
       "      <td>NaN</td>\n",
       "    </tr>\n",
       "  </tbody>\n",
       "</table>\n",
       "</div>"
      ],
      "text/plain": [
       "      column_name   dtype  count_blanks  count_uniques  count_zeroes  \\\n",
       "10        Created  object             0             26             0   \n",
       "12        Updated  object             0             19             0   \n",
       "13       Resolved  object             2             25             0   \n",
       "15  Fix Version/s  object            16              3             0   \n",
       "\n",
       "    has_dates            min_value            max_value only_integers  \n",
       "10       True  2019-04-19 11:37:00  2020-01-13 09:25:00           NaN  \n",
       "12       True  2019-05-29 12:10:00  2020-04-14 08:09:00           NaN  \n",
       "13       True                  NaN                  NaN           NaN  \n",
       "15       True                  NaN                  NaN           NaN  "
      ]
     },
     "execution_count": 16,
     "metadata": {},
     "output_type": "execute_result"
    }
   ],
   "source": [
    "\n",
    "column_descriptions_df = get_column_descriptions(jira_df)\n",
    "mask_series = column_descriptions_df.has_dates & column_descriptions_df.only_integers.isnull()\n",
    "column_descriptions_df[mask_series]"
   ]
  },
  {
   "cell_type": "markdown",
   "metadata": {},
   "source": [
    "\n",
    "----"
   ]
  },
  {
   "cell_type": "code",
   "execution_count": 9,
   "metadata": {},
   "outputs": [
    {
     "name": "stdout",
     "output_type": "stream",
     "text": [
      "D:\\Documents\\Repositories\\notebooks\\age-of-empires-ii\\ipynb\\AoE2 Civilization Bonus Feature Selection.ipynb\n"
     ]
    }
   ],
   "source": [
    "\n",
    "plt_regex = re.compile(r'([\\r\\n]+)    \"import matplotlib\\.pyplot as plt\\\\n\",')\n",
    "notebooks_dir = r'D:\\Documents\\Repositories\\notebooks'\n",
    "stopped = False\n",
    "for sub_directory, directories_list, files_list in os.walk(notebooks_dir):\n",
    "    if stopped:\n",
    "        break\n",
    "    for file_name in files_list:\n",
    "        if stopped:\n",
    "            break\n",
    "        if file_name.endswith('.ipynb'):\n",
    "            file_path = os.path.join(sub_directory, file_name)\n",
    "            try:\n",
    "                with open(file_path, 'r') as f:\n",
    "                    file_str = f.read()\n",
    "                    if plt_regex.search(file_str):\n",
    "                        print(file_path)\n",
    "                        stopped = True\n",
    "                        break\n",
    "            except UnicodeDecodeError as e:\n",
    "                try:\n",
    "                    with open(file_path, 'rb') as f:\n",
    "                        file_str = f.read().decode('utf-8')\n",
    "                        if plt_regex.search(file_str):\n",
    "                            print(file_path)\n",
    "                except Exception as e:\n",
    "                    message = str(e).strip()\n",
    "                    print()\n",
    "                    print('{} had an error after trying to decode: {}'.format(file_path, message))\n",
    "                    print()"
   ]
  },
  {
   "cell_type": "code",
   "execution_count": 11,
   "metadata": {},
   "outputs": [],
   "source": [
    "\n",
    "import pyperclip\n",
    "\n",
    "pyperclip.copy(str(file_str))"
   ]
  },
  {
   "cell_type": "code",
   "execution_count": null,
   "metadata": {},
   "outputs": [],
   "source": [
    "\n",
    "gi = get_ipython()\n",
    "#print([fn for fn in dir(gi) if not fn.startswith('_')])\n",
    "gi.run_line_magic('who', '')"
   ]
  },
  {
   "cell_type": "code",
   "execution_count": null,
   "metadata": {},
   "outputs": [],
   "source": [
    "\n",
    "remove_empty_folders(folder_path=r'D:\\VirtualBox VMs')"
   ]
  },
  {
   "cell_type": "code",
   "execution_count": null,
   "metadata": {},
   "outputs": [],
   "source": [
    "\n",
    "magic_dict_list = magic_dict['test.py']\n",
    "print(len(magic_dict_list))\n",
    "subprocess.run([comparator_path, os.path.abspath(magic_dict_list[0]), os.path.abspath(magic_dict_list[1])])"
   ]
  },
  {
   "cell_type": "code",
   "execution_count": null,
   "metadata": {},
   "outputs": [],
   "source": [
    "\n",
    "get_specific_gitignore_files('notebooks', repository_dir=r'C:\\Users\\dev\\Documents\\repositories')"
   ]
  },
  {
   "cell_type": "code",
   "execution_count": null,
   "metadata": {},
   "outputs": [],
   "source": [
    "\n",
    "import sys\n",
    "\n",
    "for key, value in sys.modules.items():\n",
    "    if 'xdist' in key.lower():\n",
    "        #print('{}: {}'.format(key, value))\n",
    "        print('{}'.format(key))"
   ]
  },
  {
   "cell_type": "code",
   "execution_count": null,
   "metadata": {},
   "outputs": [],
   "source": []
  }
 ],
 "metadata": {
  "kernelspec": {
   "display_name": "Python 3 (ipykernel)",
   "language": "python",
   "name": "python3"
  },
  "language_info": {
   "codemirror_mode": {
    "name": "ipython",
    "version": 3
   },
   "file_extension": ".py",
   "mimetype": "text/x-python",
   "name": "python",
   "nbconvert_exporter": "python",
   "pygments_lexer": "ipython3",
   "version": "3.9.7"
  }
 },
 "nbformat": 4,
 "nbformat_minor": 4
}
