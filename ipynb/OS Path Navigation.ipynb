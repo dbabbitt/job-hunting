{
 "cells": [
  {
   "cell_type": "code",
   "execution_count": 1,
   "metadata": {},
   "outputs": [
    {
     "name": "stdout",
     "output_type": "stream",
     "text": [
      "Pretty printing has been turned OFF\n",
      "======== Neo4j/5.24.2 ========\n",
      "Utility libraries created in 12 seconds\n",
      "['nu.get_notebook_functions_dictionary', 'nu.get_notebook_functions_set', 'nu.open_path_in_notepad']\n",
      "['nu.github_folder']\n"
     ]
    }
   ],
   "source": [
    "\n",
    "%pprint\n",
    "%matplotlib inline\n",
    "import sys\n",
    "if ('../py' not in sys.path): sys.path.insert(1, '../py')\n",
    "from jobpostlib import (crf, cu, datetime, duration, hau, hc, humanize, ihu, lru, nu, osp, scrfcu, slrcu, ssgdcu, su, t0, time, wsu, speech_engine)\n",
    "import os\n",
    "from pandas import DataFrame, Series\n",
    "import re\n",
    "\n",
    "print([f'nu.{fn}' for fn in dir(nu) if 'note' in fn])\n",
    "print([f'nu.{fn}' for fn in dir(nu) if 'github' in fn])"
   ]
  },
  {
   "cell_type": "code",
   "execution_count": null,
   "metadata": {},
   "outputs": [],
   "source": [
    "\n",
    "nu.delete_ipynb_checkpoint_folders()"
   ]
  },
  {
   "cell_type": "code",
   "execution_count": 3,
   "metadata": {},
   "outputs": [
    {
     "name": "stdout",
     "output_type": "stream",
     "text": [
      "SVG file successfully modified and saved to C:\\Users\\daveb\\Downloads\\scratchpad.svg\n"
     ]
    }
   ],
   "source": [
    "\n",
    "from bs4 import BeautifulSoup\n",
    "import os\n",
    "\n",
    "def modify_inkscape_labels(file_path, output_path=r\"C:\\Users\\daveb\\Downloads\\scratchpad.svg\", verbose=False):\n",
    "    \"\"\"\n",
    "    Modify an SVG file by changing the 'id' attribute to the value of the 'inkscape:label'\n",
    "    and removing the 'inkscape:label' attribute.\n",
    "    \n",
    "    Parameters:\n",
    "        file_path (str): Path to the SVG file to modify.\n",
    "        output_path (str): Path to save the modified SVG file.\n",
    "    \n",
    "    Returns:\n",
    "        None\n",
    "    \"\"\"\n",
    "    if not osp.exists(file_path):\n",
    "        raise FileNotFoundError(f\"The file at {file_path} does not exist.\")\n",
    "    \n",
    "    # Open and parse the SVG file\n",
    "    with open(file_path, 'r', encoding='utf-8') as file:\n",
    "        svg_content = file.read()\n",
    "    soup = BeautifulSoup(svg_content, 'xml')  # Use 'xml' parser for SVG\n",
    "    \n",
    "    # Find all tags with 'inkscape:label' and 'id' attributes\n",
    "    for tag in soup.find_all(attrs={\"inkscape:label\": True, 'id': True}):\n",
    "        inkscape_label = tag.get('inkscape:label', '').strip()\n",
    "        tag_id = tag.get('id', '').strip()\n",
    "        \n",
    "        if inkscape_label and tag_id:\n",
    "            if verbose: print(f\"Changing id '{tag_id}' to '{inkscape_label}'\")\n",
    "                \n",
    "            # Update 'id' attribute with the value of 'inkscape:label'\n",
    "            tag['id'] = inkscape_label\n",
    "            \n",
    "            # Remove the 'inkscape:label' attribute\n",
    "            del tag['inkscape:label']\n",
    "    \n",
    "    # Save the modified SVG content to the output file\n",
    "    with open(output_path, 'w', encoding='utf-8') as output_file:\n",
    "        output_file.write(str(soup))\n",
    "\n",
    "# Example usage:\n",
    "file_path = r\"C:\\Users\\daveb\\OneDrive\\Pictures\\Memes\\Demopublicans_switching_corners.svg\"\n",
    "output_path = r\"C:\\Users\\daveb\\Downloads\\scratchpad.svg\"\n",
    "\n",
    "try:\n",
    "    modify_inkscape_labels(file_path, output_path)\n",
    "    print(f\"SVG file successfully modified and saved to {output_path}\")\n",
    "except Exception as e:\n",
    "    print(f\"An error occurred: {e}\")"
   ]
  },
  {
   "cell_type": "code",
   "execution_count": 2,
   "metadata": {},
   "outputs": [
    {
     "data": {
      "text/plain": [
       "(10, 11)"
      ]
     },
     "execution_count": 2,
     "metadata": {},
     "output_type": "execute_result"
    }
   ],
   "source": [
    "\n",
    "nu.float_to_ratio(0.9090909090909091)"
   ]
  },
  {
   "cell_type": "code",
   "execution_count": 3,
   "metadata": {},
   "outputs": [
    {
     "name": "stdout",
     "output_type": "stream",
     "text": [
      "C:\\Users\\daveb\\.cache\\selenium\\chromedriver\\win32\\114.0.5735.90\\chromedriver.exe\n"
     ]
    }
   ],
   "source": [
    "\n",
    "black_list = ['$RECYCLE.BIN', '$Recycle.Bin', '.git', 'jh_env', '.ipynb_checkpoints', 'explorations', 'Microsoft', 'npm',\n",
    "              'Theme', 'Assets', 'Lib', 'site-packages']\n",
    "# suffixes_list = ['.cer']\n",
    "# neo4j_certs_list = []\n",
    "for root_dir in ['C:\\\\', 'D:\\\\']:\n",
    "    for sub_directory, directories_list, files_list in os.walk(root_dir):\n",
    "        if all(map(lambda x: x not in sub_directory, black_list)):\n",
    "            for file_name in files_list:\n",
    "                # if any(map(lambda x: file_name.lower().endswith(x), suffixes_list)):\n",
    "                if (file_name == 'chromedriver.exe'):\n",
    "                    file_path = osp.join(sub_directory, file_name)\n",
    "                    print(file_path)\n",
    "                    # neo4j_certs_list.append(file_path)\n",
    "                    continue"
   ]
  },
  {
   "cell_type": "code",
   "execution_count": 24,
   "metadata": {},
   "outputs": [
    {
     "name": "stdout",
     "output_type": "stream",
     "text": [
      "Are you doing something like subscribing to Google Alerts for each pair of countries (Iran Sudan, Turkey Israel, Russia Turkey, Turkey Sudan, or Iran Turkey, etc.)?\n",
      "Iran Sudan\n",
      "Turkey Israel\n",
      "Russia Turkey\n",
      "Turkey Sudan\n",
      "Iran Turkey\n",
      "Russia Iran\n",
      "Russia Sudan\n",
      "Libya Sudan\n",
      "Russia Israel\n",
      "Libya Israel\n",
      "Turkey Libya\n",
      "Sudan Israel\n",
      "Iran Israel\n",
      "Russia Libya\n",
      "Iran Libya\n"
     ]
    }
   ],
   "source": [
    "\n",
    "from itertools import combinations\n",
    "from random import shuffle\n",
    "\n",
    "pairs = combinations('Russia, Iran (Persia), Turkey (Togarmah), Libya (Put), Sudan (Cush), Israel'.split(', '), 2)\n",
    "country_pairs = [pair[0].split(' ')[0] + ' ' + pair[1].split(' ')[0] for pair in pairs]\n",
    "shuffle(country_pairs)\n",
    "print(f'Are you doing something like subscribing to Google Alerts for each pair of countries ({nu.conjunctify_nouns(country_pairs[:5], and_or=\"or\")}, etc.)?')\n",
    "\n",
    "# Show them all\n",
    "for pair in country_pairs:\n",
    "    print(pair)"
   ]
  },
  {
   "cell_type": "code",
   "execution_count": 6,
   "metadata": {},
   "outputs": [],
   "source": [
    "\n",
    "file_path = r'C:\\Users\\daveb\\Downloads\\scratchpad.html'\n",
    "wsu.clean_job_posting(file_path)"
   ]
  },
  {
   "cell_type": "code",
   "execution_count": 11,
   "metadata": {},
   "outputs": [
    {
     "data": {
      "text/plain": [
       "'1 new python selenium job in Clinton, MA'"
      ]
     },
     "execution_count": 11,
     "metadata": {},
     "output_type": "execute_result"
    }
   ],
   "source": [
    "\n",
    "page_soup = nu.get_page_soup(file_path, driver=None, verbose=False)\n",
    "css_selector = 'table > tbody > tr:nth-child(1) > td > table > tbody > tr > td > table > tbody > tr > td > table > tbody > tr > td > table > tbody > tr:nth-child(1) > td > h1'\n",
    "page_soup.select(css_selector)[0].text"
   ]
  },
  {
   "cell_type": "code",
   "execution_count": 11,
   "metadata": {},
   "outputs": [],
   "source": [
    "\n",
    "# Standardize all the notebook utilities in the GitHub folder\n",
    "from itertools import combinations\n",
    "import subprocess\n",
    "\n",
    "paths_list = []\n",
    "black_list = ['.ipynb_checkpoints', '$Recycle.Bin', '.git', 'llama_index']\n",
    "for sub_directory, directories_list, files_list in os.walk(osp.abspath('../../')):\n",
    "    if all(map(lambda x: x not in sub_directory, black_list)):\n",
    "        for file_name in files_list:\n",
    "            if file_name == 'notebook_utils.py':\n",
    "                file_path = osp.join(sub_directory, file_name)\n",
    "                paths_list.append(file_path)"
   ]
  },
  {
   "cell_type": "code",
   "execution_count": 12,
   "metadata": {},
   "outputs": [],
   "source": [
    "\n",
    "# Get all unique pairs (order doesn't matter)\n",
    "pairs = combinations(paths_list, 2)\n",
    "\n",
    "# Iterate through pairs and compare them\n",
    "comparator_path = r\"C:\\Program Files (x86)\\Compare It!\\wincmp3.exe\"\n",
    "for pair in pairs:\n",
    "    # print(pair)\n",
    "    subprocess.run([comparator_path, pair[0], pair[1]])"
   ]
  },
  {
   "cell_type": "code",
   "execution_count": 3,
   "metadata": {},
   "outputs": [
    {
     "name": "stdout",
     "output_type": "stream",
     "text": [
      "Jupyter Config Directory: C:\\Users\\daveb\\.jupyter\n",
      "Jupyter Data Directory: C:\\Users\\daveb\\AppData\\Roaming\\jupyter\n",
      "Jupyter Runtime Directory: C:\\Users\\daveb\\AppData\\Roaming\\jupyter\\runtime\n"
     ]
    }
   ],
   "source": [
    "\n",
    "from jupyter_core.paths import jupyter_config_dir, jupyter_data_dir, jupyter_runtime_dir\n",
    "\n",
    "print(\"Jupyter Config Directory:\", jupyter_config_dir())\n",
    "print(\"Jupyter Data Directory:\", jupyter_data_dir())\n",
    "print(\"Jupyter Runtime Directory:\", jupyter_runtime_dir())"
   ]
  },
  {
   "cell_type": "code",
   "execution_count": 4,
   "metadata": {},
   "outputs": [
    {
     "name": "stdout",
     "output_type": "stream",
     "text": [
      "NEO4J_HOME C:\\neo4j-community-5.24.2\n",
      "\n",
      "PATH\n",
      "C:\\neo4j-community-5.24.2\\bin\n",
      "\n"
     ]
    }
   ],
   "source": [
    "\n",
    "import os\n",
    "\n",
    "for key, value in dict(os.environ).items():\n",
    "    if 'NEO4J' in value.upper():\n",
    "        if ';' in value:\n",
    "            print(key)\n",
    "            for keylet in value.split(';'):\n",
    "                if 'NEO4J' in keylet.upper():\n",
    "                    print(keylet)\n",
    "            print()\n",
    "        else:\n",
    "            print(key, value, end='\\n\\n')\n",
    "    elif 'NEO4J' in key.upper():\n",
    "        print(key, value, end='\\n\\n')"
   ]
  },
  {
   "cell_type": "code",
   "execution_count": 4,
   "metadata": {},
   "outputs": [
    {
     "name": "stdout",
     "output_type": "stream",
     "text": [
      "C:\\neo4j\\import\\neo4j_job_hunting_export.csv\n",
      "C:\\Users\\daveb\\OneDrive\\Documents\\GitHub\\job-hunting\\data\\csv\\neo4j_job_hunting_export.csv\n"
     ]
    }
   ],
   "source": [
    "\n",
    "for root_dir in ['C:\\\\']:\n",
    "    for sub_directory, directories_list, files_list in os.walk(root_dir):\n",
    "        for file_name in files_list:\n",
    "            if file_name == 'neo4j_job_hunting_export.csv':\n",
    "                file_path = osp.join(sub_directory, file_name)\n",
    "                print(file_path)"
   ]
  },
  {
   "cell_type": "code",
   "execution_count": 3,
   "metadata": {},
   "outputs": [
    {
     "data": {
      "text/plain": [
       "['os.add_dll_directory', 'os.chdir', 'os.curdir', 'os.listdir', 'os.makedirs', 'os.mkdir', 'os.pardir', 'os.removedirs', 'os.rmdir', 'os.scandir', 'os.supports_dir_fd']"
      ]
     },
     "execution_count": 3,
     "metadata": {},
     "output_type": "execute_result"
    }
   ],
   "source": [
    "\n",
    "[f'os.{fn}' for fn in dir(os) if 'dir' in fn]"
   ]
  },
  {
   "cell_type": "code",
   "execution_count": 5,
   "metadata": {},
   "outputs": [
    {
     "data": {
      "text/plain": [
       "['osp.curdir', 'osp.dirname', 'osp.isdir', 'osp.pardir']"
      ]
     },
     "execution_count": 5,
     "metadata": {},
     "output_type": "execute_result"
    }
   ],
   "source": [
    "\n",
    "[f'osp.{fn}' for fn in dir(osp) if 'dir' in fn]"
   ]
  },
  {
   "cell_type": "code",
   "execution_count": 21,
   "metadata": {},
   "outputs": [
    {
     "data": {
      "text/plain": [
       "1172"
      ]
     },
     "execution_count": 21,
     "metadata": {},
     "output_type": "execute_result"
    }
   ],
   "source": [
    "\n",
    "# Get the maximum lines\n",
    "int(1243/1.06)"
   ]
  },
  {
   "cell_type": "code",
   "execution_count": null,
   "metadata": {},
   "outputs": [],
   "source": [
    "\n",
    "print()\n",
    "for folder_name in os.listdir(nu.github_folder):\n",
    "    file_path = osp.join(nu.github_folder, folder_name)\n",
    "    if osp.isdir(file_path):\n",
    "        print(folder_name)"
   ]
  },
  {
   "cell_type": "code",
   "execution_count": 15,
   "metadata": {},
   "outputs": [],
   "source": [
    "\n",
    "import pyperclip\n",
    "\n",
    "subfolders_list = [\n",
    "    'algorithms', 'bat', 'builders', 'cell_techniques', 'creators', 'cypher', 'data_analysis', 'django', 'evaluators', 'exploration', 'flaskr', 'inference',\n",
    "    'instance', 'ipynb', 'labelers', 'library_exploration', 'list_builders', 'load_magic', 'maintenance', 'optimizers', 'other_explorations', 'ps1', 'py',\n",
    "    'reclassification_maintenance', 'reports', 'saves', 'scrapers', 'sh', 'sql', 'src', 'trainers', 'visualizations'\n",
    "]\n",
    "pyperclip.copy('; '.join([osp.join(nu.github_folder, folder_name) for folder_name in subfolders_list]))"
   ]
  },
  {
   "cell_type": "code",
   "execution_count": 17,
   "metadata": {},
   "outputs": [],
   "source": [
    "\n",
    "cvs_strs_list = ['']\n",
    "start = 164\n",
    "stop = 1670\n",
    "step = 150\n",
    "for i, y in enumerate(np.arange(start, stop, step)):\n",
    "    cvs_strs_list.append(f'''    <use\n",
    "       height=\"100%\"\n",
    "       id=\"use-week-{i+1}\"\n",
    "       width=\"100%\"\n",
    "       x=\"0\"\n",
    "       xlink:href=\"#group-week\"\n",
    "       y=\"{y}\" />''')\n",
    "pyperclip.copy('\\n'.join(cvs_strs_list))"
   ]
  },
  {
   "cell_type": "code",
   "execution_count": 5,
   "metadata": {},
   "outputs": [],
   "source": [
    "\n",
    "# Remove the digit prepends from the check stub PDFs\n",
    "sub_directory = r'C:\\Users\\daveb\\OneDrive\\Documents\\Administrivia\\BigBear.ai\\Check Stubs'\n",
    "files_list = os.listdir(sub_directory)\n",
    "for old_file_name in files_list:\n",
    "    if re.search(r'^\\d_', old_file_name):\n",
    "        old_file_path = osp.join(sub_directory, old_file_name)\n",
    "        new_file_name = old_file_name[2:]\n",
    "        new_file_path = osp.join(sub_directory, new_file_name)\n",
    "        os.rename(old_file_path, new_file_path)"
   ]
  },
  {
   "cell_type": "code",
   "execution_count": 11,
   "metadata": {},
   "outputs": [],
   "source": [
    "\n",
    "# Standardize all the files of the same name in the GitHub folder\n",
    "from itertools import combinations\n",
    "import subprocess\n",
    "\n",
    "paths_list = []\n",
    "for sub_directory in ['covid19', 'job-hunting', 'MineCraft', 'notebooks', 'rpc', 'StatsByCountry', 'Strauss-Howe', 'Twitter']:\n",
    "    file_path = osp.abspath(osp.join(nu.github_folder, '../', sub_directory, 'load_magic', 'paths.py'))\n",
    "    paths_list.append(file_path)\n",
    "\n",
    "# Get all unique pairs (order doesn't matter)\n",
    "pairs = combinations(paths_list, 2)\n",
    "\n",
    "# Iterate through pairs and compare them\n",
    "comparator_path = r\"C:\\Program Files (x86)\\Compare It!\\wincmp3.exe\"\n",
    "for pair in pairs:\n",
    "    # print(pair)\n",
    "    subprocess.run([comparator_path, pair[0], pair[1]])"
   ]
  },
  {
   "cell_type": "code",
   "execution_count": 20,
   "metadata": {},
   "outputs": [],
   "source": [
    "\n",
    "# Remove all the jobpostlib files duplicated in the py folder\n",
    "py_folder = '../py'\n",
    "for file_name in set([fn for fn in os.listdir(osp.join(py_folder, 'jobpostlib'))]).intersection(set([fn for fn in os.listdir(py_folder)])):\n",
    "    file_path = osp.join(py_folder, file_name)\n",
    "    os.remove(file_path)"
   ]
  },
  {
   "cell_type": "code",
   "execution_count": 3,
   "metadata": {},
   "outputs": [
    {
     "data": {
      "text/plain": [
       "[]"
      ]
     },
     "execution_count": 3,
     "metadata": {},
     "output_type": "execute_result"
    }
   ],
   "source": [
    "\n",
    "# Find a job posting based on Indeed's internal ID exposed in the URL\n",
    "[fn for fn in os.listdir('../saves/html') if '58d812be6b960b6a' in fn]"
   ]
  },
  {
   "cell_type": "code",
   "execution_count": null,
   "metadata": {},
   "outputs": [],
   "source": [
    "\n",
    "import osp as osp\n",
    "\n",
    "black_list = ['.ipynb_checkpoints', '$RECYCLE.BIN', '$Recycle.Bin', '.git', 'load_magic']\n",
    "seed_regex = re.compile(r'(\\w+\\s+){11}\\w+')\n",
    "rows_list = []\n",
    "for sub_directory, directories_list, files_list in os.walk(osp.dirname('C:\\\\')):\n",
    "    if all(map(lambda x: x not in sub_directory, black_list)):\n",
    "        if len(rows_list) > 500: break\n",
    "        for file_name in files_list:\n",
    "            if len(rows_list) > 500: break\n",
    "            if file_name.endswith('.txt'):\n",
    "                file_path = osp.join(sub_directory, file_name)\n",
    "                try:\n",
    "                    with open(file_path, 'r', encoding=nu.encoding_type) as file:\n",
    "                        file_data = file.read()\n",
    "                        if seed_regex.search(file_data):\n",
    "                            parts_list = seed_regex.split(file_data)\n",
    "                            rows_list.append({'file_name': file_name, 'sub_directory': sub_directory, 'seed_count': len(parts_list)})\n",
    "                except Exception as e:\n",
    "                    # print(f'{e.__class__.__name__} error trying to open {file_name}: {str(e).strip()}')\n",
    "                    rows_list.append({'file_name': file_name, 'sub_directory': sub_directory, 'error_class': e.__class__.__name__, 'error_message': str(e).strip()})\n",
    "seeds_df = DataFrame(rows_list)\n",
    "seeds_df.sort_values('seed_count').head(20)"
   ]
  },
  {
   "cell_type": "code",
   "execution_count": 3,
   "metadata": {},
   "outputs": [
    {
     "name": "stdout",
     "output_type": "stream",
     "text": [
      "(9954, 5)\n"
     ]
    },
    {
     "data": {
      "text/html": [
       "<div>\n",
       "<style scoped>\n",
       "    .dataframe tbody tr th:only-of-type {\n",
       "        vertical-align: middle;\n",
       "    }\n",
       "\n",
       "    .dataframe tbody tr th {\n",
       "        vertical-align: top;\n",
       "    }\n",
       "\n",
       "    .dataframe thead th {\n",
       "        text-align: right;\n",
       "    }\n",
       "</style>\n",
       "<table border=\"1\" class=\"dataframe\">\n",
       "  <thead>\n",
       "    <tr style=\"text-align: right;\">\n",
       "      <th></th>\n",
       "      <th>file_name</th>\n",
       "      <th>sub_directory</th>\n",
       "      <th>error_class</th>\n",
       "      <th>error_message</th>\n",
       "      <th>seed_count</th>\n",
       "    </tr>\n",
       "  </thead>\n",
       "  <tbody>\n",
       "    <tr>\n",
       "      <th>8336</th>\n",
       "      <td>msg_38.txt</td>\n",
       "      <td>C:\\Users\\daveb\\AppData\\Local\\Programs\\GIMP 2\\l...</td>\n",
       "      <td>NaN</td>\n",
       "      <td>NaN</td>\n",
       "      <td>3.0</td>\n",
       "    </tr>\n",
       "    <tr>\n",
       "      <th>6691</th>\n",
       "      <td>manifest.txt</td>\n",
       "      <td>C:\\texlive\\2022\\texmf-dist\\doc\\latex\\mhchem</td>\n",
       "      <td>NaN</td>\n",
       "      <td>NaN</td>\n",
       "      <td>3.0</td>\n",
       "    </tr>\n",
       "    <tr>\n",
       "      <th>1185</th>\n",
       "      <td>CMAKE_VS_VERSION_BUILD_NUMBER.rst.txt</td>\n",
       "      <td>C:\\Program Files\\CMake\\doc\\cmake\\html\\_sources...</td>\n",
       "      <td>NaN</td>\n",
       "      <td>NaN</td>\n",
       "      <td>3.0</td>\n",
       "    </tr>\n",
       "    <tr>\n",
       "      <th>1184</th>\n",
       "      <td>CMAKE_VS_SDK_LIBRARY_WINRT_DIRECTORIES.rst.txt</td>\n",
       "      <td>C:\\Program Files\\CMake\\doc\\cmake\\html\\_sources...</td>\n",
       "      <td>NaN</td>\n",
       "      <td>NaN</td>\n",
       "      <td>3.0</td>\n",
       "    </tr>\n",
       "    <tr>\n",
       "      <th>1180</th>\n",
       "      <td>CMAKE_VS_PLATFORM_TOOLSET.rst.txt</td>\n",
       "      <td>C:\\Program Files\\CMake\\doc\\cmake\\html\\_sources...</td>\n",
       "      <td>NaN</td>\n",
       "      <td>NaN</td>\n",
       "      <td>3.0</td>\n",
       "    </tr>\n",
       "    <tr>\n",
       "      <th>2502</th>\n",
       "      <td>recipe_log.txt</td>\n",
       "      <td>C:\\Program Files\\StableDiffusionGui\\Data\\mc\\pk...</td>\n",
       "      <td>NaN</td>\n",
       "      <td>NaN</td>\n",
       "      <td>3.0</td>\n",
       "    </tr>\n",
       "    <tr>\n",
       "      <th>1178</th>\n",
       "      <td>CMAKE_VS_PLATFORM_NAME.rst.txt</td>\n",
       "      <td>C:\\Program Files\\CMake\\doc\\cmake\\html\\_sources...</td>\n",
       "      <td>NaN</td>\n",
       "      <td>NaN</td>\n",
       "      <td>3.0</td>\n",
       "    </tr>\n",
       "    <tr>\n",
       "      <th>6688</th>\n",
       "      <td>changes.txt</td>\n",
       "      <td>C:\\texlive\\2022\\texmf-dist\\doc\\latex\\mfnfss</td>\n",
       "      <td>NaN</td>\n",
       "      <td>NaN</td>\n",
       "      <td>3.0</td>\n",
       "    </tr>\n",
       "    <tr>\n",
       "      <th>1176</th>\n",
       "      <td>CMAKE_VS_NsightTegra_VERSION.rst.txt</td>\n",
       "      <td>C:\\Program Files\\CMake\\doc\\cmake\\html\\_sources...</td>\n",
       "      <td>NaN</td>\n",
       "      <td>NaN</td>\n",
       "      <td>3.0</td>\n",
       "    </tr>\n",
       "    <tr>\n",
       "      <th>1175</th>\n",
       "      <td>CMAKE_VS_INTEL_Fortran_PROJECT_VERSION.rst.txt</td>\n",
       "      <td>C:\\Program Files\\CMake\\doc\\cmake\\html\\_sources...</td>\n",
       "      <td>NaN</td>\n",
       "      <td>NaN</td>\n",
       "      <td>3.0</td>\n",
       "    </tr>\n",
       "    <tr>\n",
       "      <th>1174</th>\n",
       "      <td>CMAKE_VS_DEVENV_COMMAND.rst.txt</td>\n",
       "      <td>C:\\Program Files\\CMake\\doc\\cmake\\html\\_sources...</td>\n",
       "      <td>NaN</td>\n",
       "      <td>NaN</td>\n",
       "      <td>3.0</td>\n",
       "    </tr>\n",
       "    <tr>\n",
       "      <th>1187</th>\n",
       "      <td>CMAKE_VS_WINDOWS_TARGET_PLATFORM_VERSION_MAXIM...</td>\n",
       "      <td>C:\\Program Files\\CMake\\doc\\cmake\\html\\_sources...</td>\n",
       "      <td>NaN</td>\n",
       "      <td>NaN</td>\n",
       "      <td>3.0</td>\n",
       "    </tr>\n",
       "    <tr>\n",
       "      <th>1170</th>\n",
       "      <td>CMAKE_USE_RELATIVE_PATHS.rst.txt</td>\n",
       "      <td>C:\\Program Files\\CMake\\doc\\cmake\\html\\_sources...</td>\n",
       "      <td>NaN</td>\n",
       "      <td>NaN</td>\n",
       "      <td>3.0</td>\n",
       "    </tr>\n",
       "    <tr>\n",
       "      <th>6681</th>\n",
       "      <td>README.txt</td>\n",
       "      <td>C:\\texlive\\2022\\texmf-dist\\doc\\latex\\mdframed</td>\n",
       "      <td>NaN</td>\n",
       "      <td>NaN</td>\n",
       "      <td>3.0</td>\n",
       "    </tr>\n",
       "    <tr>\n",
       "      <th>1165</th>\n",
       "      <td>CMAKE_TWEAK_VERSION.rst.txt</td>\n",
       "      <td>C:\\Program Files\\CMake\\doc\\cmake\\html\\_sources...</td>\n",
       "      <td>NaN</td>\n",
       "      <td>NaN</td>\n",
       "      <td>3.0</td>\n",
       "    </tr>\n",
       "    <tr>\n",
       "      <th>1164</th>\n",
       "      <td>CMAKE_TRY_COMPILE_TARGET_TYPE.rst.txt</td>\n",
       "      <td>C:\\Program Files\\CMake\\doc\\cmake\\html\\_sources...</td>\n",
       "      <td>NaN</td>\n",
       "      <td>NaN</td>\n",
       "      <td>3.0</td>\n",
       "    </tr>\n",
       "    <tr>\n",
       "      <th>4298</th>\n",
       "      <td>test_example.txt</td>\n",
       "      <td>C:\\ProgramData\\Anaconda3\\pkgs\\ipython-8.8.0-py...</td>\n",
       "      <td>NaN</td>\n",
       "      <td>NaN</td>\n",
       "      <td>3.0</td>\n",
       "    </tr>\n",
       "    <tr>\n",
       "      <th>1162</th>\n",
       "      <td>CMAKE_TRY_COMPILE_NO_PLATFORM_VARIABLES.rst.txt</td>\n",
       "      <td>C:\\Program Files\\CMake\\doc\\cmake\\html\\_sources...</td>\n",
       "      <td>NaN</td>\n",
       "      <td>NaN</td>\n",
       "      <td>3.0</td>\n",
       "    </tr>\n",
       "    <tr>\n",
       "      <th>1161</th>\n",
       "      <td>CMAKE_TRY_COMPILE_CONFIGURATION.rst.txt</td>\n",
       "      <td>C:\\Program Files\\CMake\\doc\\cmake\\html\\_sources...</td>\n",
       "      <td>NaN</td>\n",
       "      <td>NaN</td>\n",
       "      <td>3.0</td>\n",
       "    </tr>\n",
       "    <tr>\n",
       "      <th>3796</th>\n",
       "      <td>readme.txt</td>\n",
       "      <td>C:\\ProgramData\\Anaconda3\\Lib\\site-packages\\win...</td>\n",
       "      <td>NaN</td>\n",
       "      <td>NaN</td>\n",
       "      <td>3.0</td>\n",
       "    </tr>\n",
       "  </tbody>\n",
       "</table>\n",
       "</div>"
      ],
      "text/plain": [
       "                                              file_name  \\\n",
       "8336                                         msg_38.txt   \n",
       "6691                                       manifest.txt   \n",
       "1185              CMAKE_VS_VERSION_BUILD_NUMBER.rst.txt   \n",
       "1184     CMAKE_VS_SDK_LIBRARY_WINRT_DIRECTORIES.rst.txt   \n",
       "1180                  CMAKE_VS_PLATFORM_TOOLSET.rst.txt   \n",
       "2502                                     recipe_log.txt   \n",
       "1178                     CMAKE_VS_PLATFORM_NAME.rst.txt   \n",
       "6688                                        changes.txt   \n",
       "1176               CMAKE_VS_NsightTegra_VERSION.rst.txt   \n",
       "1175     CMAKE_VS_INTEL_Fortran_PROJECT_VERSION.rst.txt   \n",
       "1174                    CMAKE_VS_DEVENV_COMMAND.rst.txt   \n",
       "1187  CMAKE_VS_WINDOWS_TARGET_PLATFORM_VERSION_MAXIM...   \n",
       "1170                   CMAKE_USE_RELATIVE_PATHS.rst.txt   \n",
       "6681                                         README.txt   \n",
       "1165                        CMAKE_TWEAK_VERSION.rst.txt   \n",
       "1164              CMAKE_TRY_COMPILE_TARGET_TYPE.rst.txt   \n",
       "4298                                   test_example.txt   \n",
       "1162    CMAKE_TRY_COMPILE_NO_PLATFORM_VARIABLES.rst.txt   \n",
       "1161            CMAKE_TRY_COMPILE_CONFIGURATION.rst.txt   \n",
       "3796                                         readme.txt   \n",
       "\n",
       "                                          sub_directory error_class  \\\n",
       "8336  C:\\Users\\daveb\\AppData\\Local\\Programs\\GIMP 2\\l...         NaN   \n",
       "6691        C:\\texlive\\2022\\texmf-dist\\doc\\latex\\mhchem         NaN   \n",
       "1185  C:\\Program Files\\CMake\\doc\\cmake\\html\\_sources...         NaN   \n",
       "1184  C:\\Program Files\\CMake\\doc\\cmake\\html\\_sources...         NaN   \n",
       "1180  C:\\Program Files\\CMake\\doc\\cmake\\html\\_sources...         NaN   \n",
       "2502  C:\\Program Files\\StableDiffusionGui\\Data\\mc\\pk...         NaN   \n",
       "1178  C:\\Program Files\\CMake\\doc\\cmake\\html\\_sources...         NaN   \n",
       "6688        C:\\texlive\\2022\\texmf-dist\\doc\\latex\\mfnfss         NaN   \n",
       "1176  C:\\Program Files\\CMake\\doc\\cmake\\html\\_sources...         NaN   \n",
       "1175  C:\\Program Files\\CMake\\doc\\cmake\\html\\_sources...         NaN   \n",
       "1174  C:\\Program Files\\CMake\\doc\\cmake\\html\\_sources...         NaN   \n",
       "1187  C:\\Program Files\\CMake\\doc\\cmake\\html\\_sources...         NaN   \n",
       "1170  C:\\Program Files\\CMake\\doc\\cmake\\html\\_sources...         NaN   \n",
       "6681      C:\\texlive\\2022\\texmf-dist\\doc\\latex\\mdframed         NaN   \n",
       "1165  C:\\Program Files\\CMake\\doc\\cmake\\html\\_sources...         NaN   \n",
       "1164  C:\\Program Files\\CMake\\doc\\cmake\\html\\_sources...         NaN   \n",
       "4298  C:\\ProgramData\\Anaconda3\\pkgs\\ipython-8.8.0-py...         NaN   \n",
       "1162  C:\\Program Files\\CMake\\doc\\cmake\\html\\_sources...         NaN   \n",
       "1161  C:\\Program Files\\CMake\\doc\\cmake\\html\\_sources...         NaN   \n",
       "3796  C:\\ProgramData\\Anaconda3\\Lib\\site-packages\\win...         NaN   \n",
       "\n",
       "     error_message  seed_count  \n",
       "8336           NaN         3.0  \n",
       "6691           NaN         3.0  \n",
       "1185           NaN         3.0  \n",
       "1184           NaN         3.0  \n",
       "1180           NaN         3.0  \n",
       "2502           NaN         3.0  \n",
       "1178           NaN         3.0  \n",
       "6688           NaN         3.0  \n",
       "1176           NaN         3.0  \n",
       "1175           NaN         3.0  \n",
       "1174           NaN         3.0  \n",
       "1187           NaN         3.0  \n",
       "1170           NaN         3.0  \n",
       "6681           NaN         3.0  \n",
       "1165           NaN         3.0  \n",
       "1164           NaN         3.0  \n",
       "4298           NaN         3.0  \n",
       "1162           NaN         3.0  \n",
       "1161           NaN         3.0  \n",
       "3796           NaN         3.0  "
      ]
     },
     "execution_count": 3,
     "metadata": {},
     "output_type": "execute_result"
    }
   ],
   "source": [
    "\n",
    "seeds_df = DataFrame(rows_list)\n",
    "print(seeds_df.shape)\n",
    "seeds_df.sort_values('seed_count').head(20)"
   ]
  },
  {
   "cell_type": "code",
   "execution_count": null,
   "metadata": {},
   "outputs": [
    {
     "name": "stdout",
     "output_type": "stream",
     "text": [
      "Attempting to open C:\\Users\\daveb\\AppData\\Local\\Programs\\GIMP 2\\lib\\python2.7\\email\\test\\data\\msg_38.txt\n"
     ]
    }
   ],
   "source": [
    "\n",
    "srs = seeds_df.iloc[8336]\n",
    "nu.open_path_in_notepad(osp.join(srs.sub_directory, srs.file_name), continue_execution=False)"
   ]
  },
  {
   "cell_type": "code",
   "execution_count": null,
   "metadata": {},
   "outputs": [],
   "source": [
    "\n",
    "# Look for folders named thinc and spacy\n",
    "white_list = ['thinc', 'spacy']\n",
    "root_dir = 'C:\\\\Users\\\\daveb\\\\OneDrive\\\\Documents\\\\GitHub\\\\job-hunting\\\\jh_env'\n",
    "paths_list = []\n",
    "for sub_directory, directories_list, files_list in os.walk(root_dir):\n",
    "    if any(map(lambda x: x in sub_directory, white_list)):\n",
    "        print(sub_directory)"
   ]
  },
  {
   "cell_type": "code",
   "execution_count": 4,
   "metadata": {},
   "outputs": [
    {
     "name": "stdout",
     "output_type": "stream",
     "text": [
      "There are no conda executables in the environment\n"
     ]
    }
   ],
   "source": [
    "\n",
    "# Find any conda executables in the virtual environment site packages directory\n",
    "black_list = ['$RECYCLE.BIN', '$Recycle.Bin', '.git']\n",
    "root_dir = 'C:\\\\Users\\\\daveb\\\\OneDrive\\\\Documents\\\\GitHub\\\\job-hunting\\\\jh_env\\\\Lib\\\\site-packages'\n",
    "paths_list = []\n",
    "for sub_directory, directories_list, files_list in os.walk(root_dir):\n",
    "    if all(map(lambda x: x not in sub_directory, black_list)):\n",
    "        for file_name in files_list:\n",
    "            if ('conda' in file_name) and file_name.endswith('.exe'):\n",
    "                    file_path = osp.join(sub_directory, file_name)\n",
    "                    paths_list.append(file_path)\n",
    "if not paths_list:\n",
    "    print('There are no conda executables in the virtual environment site packages directory')"
   ]
  },
  {
   "cell_type": "code",
   "execution_count": 2,
   "metadata": {},
   "outputs": [],
   "source": [
    "\n",
    "# Standardize all the files of the same name in the GitHub folder\n",
    "from itertools import combinations\n",
    "import subprocess\n",
    "\n",
    "paths_list = []\n",
    "black_list = ['.ipynb_checkpoints', '$Recycle.Bin', '.git', 'llama_index']\n",
    "for sub_directory, directories_list, files_list in os.walk(osp.abspath('../../')):\n",
    "    if all(map(lambda x: x not in sub_directory, black_list)):\n",
    "        for file_name in files_list:\n",
    "            if file_name == 'notebook_utils.py':\n",
    "                file_path = osp.join(sub_directory, file_name)\n",
    "                paths_list.append(file_path)\n",
    "\n",
    "# Get all unique pairs (order doesn't matter)\n",
    "pairs = combinations(paths_list, 2)\n",
    "\n",
    "# Iterate through pairs and compare them\n",
    "comparator_path = r\"C:\\Program Files (x86)\\Compare It!\\wincmp3.exe\"\n",
    "for pair in pairs:\n",
    "    # print(pair)\n",
    "    subprocess.run([comparator_path, pair[0], pair[1]])"
   ]
  },
  {
   "cell_type": "code",
   "execution_count": 3,
   "metadata": {},
   "outputs": [],
   "source": [
    "\n",
    "black_list = ['$RECYCLE.BIN', '$Recycle.Bin', '.git']\n",
    "root_dir = 'C:\\\\'\n",
    "for sub_directory, directories_list, files_list in os.walk(root_dir):\n",
    "    if all(map(lambda x: x not in sub_directory, black_list)):\n",
    "        for file_name in files_list:\n",
    "            if file_name == 'job_hunting.csv':\n",
    "                file_path = osp.join(sub_directory, file_name)\n",
    "                print(file_path)\n",
    "                break"
   ]
  },
  {
   "cell_type": "code",
   "execution_count": 22,
   "metadata": {},
   "outputs": [
    {
     "data": {
      "text/html": [
       "<div>\n",
       "<style scoped>\n",
       "    .dataframe tbody tr th:only-of-type {\n",
       "        vertical-align: middle;\n",
       "    }\n",
       "\n",
       "    .dataframe tbody tr th {\n",
       "        vertical-align: top;\n",
       "    }\n",
       "\n",
       "    .dataframe thead th {\n",
       "        text-align: right;\n",
       "    }\n",
       "</style>\n",
       "<table border=\"1\" class=\"dataframe\">\n",
       "  <thead>\n",
       "    <tr style=\"text-align: right;\">\n",
       "      <th></th>\n",
       "      <th>a</th>\n",
       "      <th>b</th>\n",
       "    </tr>\n",
       "  </thead>\n",
       "  <tbody>\n",
       "    <tr>\n",
       "      <th>0</th>\n",
       "      <td>{\"id\":799286,\"labels\":[\"HeaderTags\"],\"properti...</td>\n",
       "      <td>{\"id\":983057,\"labels\":[\"NavigableParents\"],\"pr...</td>\n",
       "    </tr>\n",
       "    <tr>\n",
       "      <th>1</th>\n",
       "      <td>{\"id\":799309,\"labels\":[\"HeaderTags\"],\"properti...</td>\n",
       "      <td>{\"id\":795876,\"labels\":[\"NavigableParents\"],\"pr...</td>\n",
       "    </tr>\n",
       "    <tr>\n",
       "      <th>2</th>\n",
       "      <td>{\"id\":794685,\"labels\":[\"PartsOfSpeech\"],\"prope...</td>\n",
       "      <td>{\"id\":980534,\"labels\":[\"NavigableParents\"],\"pr...</td>\n",
       "    </tr>\n",
       "    <tr>\n",
       "      <th>3</th>\n",
       "      <td>{\"id\":799309,\"labels\":[\"HeaderTags\"],\"properti...</td>\n",
       "      <td>{\"id\":766048,\"labels\":[\"NavigableParents\"],\"pr...</td>\n",
       "    </tr>\n",
       "    <tr>\n",
       "      <th>4</th>\n",
       "      <td>{\"id\":799228,\"labels\":[\"HeaderTags\"],\"properti...</td>\n",
       "      <td>{\"id\":983362,\"labels\":[\"NavigableParents\"],\"pr...</td>\n",
       "    </tr>\n",
       "  </tbody>\n",
       "</table>\n",
       "</div>"
      ],
      "text/plain": [
       "                                                   a  \\\n",
       "0  {\"id\":799286,\"labels\":[\"HeaderTags\"],\"properti...   \n",
       "1  {\"id\":799309,\"labels\":[\"HeaderTags\"],\"properti...   \n",
       "2  {\"id\":794685,\"labels\":[\"PartsOfSpeech\"],\"prope...   \n",
       "3  {\"id\":799309,\"labels\":[\"HeaderTags\"],\"properti...   \n",
       "4  {\"id\":799228,\"labels\":[\"HeaderTags\"],\"properti...   \n",
       "\n",
       "                                                   b  \n",
       "0  {\"id\":983057,\"labels\":[\"NavigableParents\"],\"pr...  \n",
       "1  {\"id\":795876,\"labels\":[\"NavigableParents\"],\"pr...  \n",
       "2  {\"id\":980534,\"labels\":[\"NavigableParents\"],\"pr...  \n",
       "3  {\"id\":766048,\"labels\":[\"NavigableParents\"],\"pr...  \n",
       "4  {\"id\":983362,\"labels\":[\"NavigableParents\"],\"pr...  "
      ]
     },
     "execution_count": 22,
     "metadata": {},
     "output_type": "execute_result"
    }
   ],
   "source": [
    "\n",
    "nu.load_csv(csv_name='apoc_export_csv_query_examplerelationships')"
   ]
  },
  {
   "cell_type": "code",
   "execution_count": 17,
   "metadata": {},
   "outputs": [
    {
     "name": "stdout",
     "output_type": "stream",
     "text": [
      "(10130, 21)\n"
     ]
    },
    {
     "data": {
      "text/html": [
       "<div>\n",
       "<style scoped>\n",
       "    .dataframe tbody tr th:only-of-type {\n",
       "        vertical-align: middle;\n",
       "    }\n",
       "\n",
       "    .dataframe tbody tr th {\n",
       "        vertical-align: top;\n",
       "    }\n",
       "\n",
       "    .dataframe thead th {\n",
       "        text-align: right;\n",
       "    }\n",
       "</style>\n",
       "<table border=\"1\" class=\"dataframe\">\n",
       "  <thead>\n",
       "    <tr style=\"text-align: right;\">\n",
       "      <th></th>\n",
       "      <th>228</th>\n",
       "      <th>3212</th>\n",
       "      <th>6707</th>\n",
       "      <th>1569</th>\n",
       "      <th>123</th>\n",
       "      <th>2193</th>\n",
       "      <th>6598</th>\n",
       "      <th>4614</th>\n",
       "      <th>5219</th>\n",
       "      <th>8256</th>\n",
       "    </tr>\n",
       "  </thead>\n",
       "  <tbody>\n",
       "    <tr>\n",
       "      <th>_id</th>\n",
       "      <td>931638</td>\n",
       "      <td>946516</td>\n",
       "      <td>965319</td>\n",
       "      <td>940391</td>\n",
       "      <td>902935</td>\n",
       "      <td>942537</td>\n",
       "      <td>965042</td>\n",
       "      <td>954075</td>\n",
       "      <td>957611</td>\n",
       "      <td>969797</td>\n",
       "    </tr>\n",
       "    <tr>\n",
       "      <th>_labels</th>\n",
       "      <td>:NavigableParents</td>\n",
       "      <td>:NavigableParents</td>\n",
       "      <td>:NavigableParents</td>\n",
       "      <td>:NavigableParents</td>\n",
       "      <td>:NavigableParents</td>\n",
       "      <td>:NavigableParents</td>\n",
       "      <td>:NavigableParents</td>\n",
       "      <td>:NavigableParents</td>\n",
       "      <td>:NavigableParents</td>\n",
       "      <td>:NavigableParents</td>\n",
       "    </tr>\n",
       "    <tr>\n",
       "      <th>is_corporate_scope</th>\n",
       "      <td>False</td>\n",
       "      <td>False</td>\n",
       "      <td>False</td>\n",
       "      <td>False</td>\n",
       "      <td>False</td>\n",
       "      <td>False</td>\n",
       "      <td>False</td>\n",
       "      <td>False</td>\n",
       "      <td>False</td>\n",
       "      <td>False</td>\n",
       "    </tr>\n",
       "    <tr>\n",
       "      <th>is_educational_requirement</th>\n",
       "      <td>False</td>\n",
       "      <td>False</td>\n",
       "      <td>False</td>\n",
       "      <td>False</td>\n",
       "      <td>False</td>\n",
       "      <td>False</td>\n",
       "      <td>False</td>\n",
       "      <td>False</td>\n",
       "      <td>False</td>\n",
       "      <td>False</td>\n",
       "    </tr>\n",
       "    <tr>\n",
       "      <th>is_header</th>\n",
       "      <td>False</td>\n",
       "      <td>False</td>\n",
       "      <td>False</td>\n",
       "      <td>False</td>\n",
       "      <td>False</td>\n",
       "      <td>False</td>\n",
       "      <td>False</td>\n",
       "      <td>False</td>\n",
       "      <td>False</td>\n",
       "      <td>False</td>\n",
       "    </tr>\n",
       "    <tr>\n",
       "      <th>is_interview_procedure</th>\n",
       "      <td>False</td>\n",
       "      <td>False</td>\n",
       "      <td>False</td>\n",
       "      <td>False</td>\n",
       "      <td>False</td>\n",
       "      <td>False</td>\n",
       "      <td>False</td>\n",
       "      <td>False</td>\n",
       "      <td>False</td>\n",
       "      <td>False</td>\n",
       "    </tr>\n",
       "    <tr>\n",
       "      <th>is_job_duration</th>\n",
       "      <td>False</td>\n",
       "      <td>False</td>\n",
       "      <td>False</td>\n",
       "      <td>False</td>\n",
       "      <td>False</td>\n",
       "      <td>False</td>\n",
       "      <td>False</td>\n",
       "      <td>False</td>\n",
       "      <td>False</td>\n",
       "      <td>False</td>\n",
       "    </tr>\n",
       "    <tr>\n",
       "      <th>is_job_title</th>\n",
       "      <td>True</td>\n",
       "      <td>True</td>\n",
       "      <td>True</td>\n",
       "      <td>True</td>\n",
       "      <td>True</td>\n",
       "      <td>True</td>\n",
       "      <td>True</td>\n",
       "      <td>True</td>\n",
       "      <td>True</td>\n",
       "      <td>True</td>\n",
       "    </tr>\n",
       "    <tr>\n",
       "      <th>is_legal_notification</th>\n",
       "      <td>False</td>\n",
       "      <td>False</td>\n",
       "      <td>False</td>\n",
       "      <td>False</td>\n",
       "      <td>False</td>\n",
       "      <td>False</td>\n",
       "      <td>False</td>\n",
       "      <td>False</td>\n",
       "      <td>False</td>\n",
       "      <td>False</td>\n",
       "    </tr>\n",
       "    <tr>\n",
       "      <th>is_minimum_qualification</th>\n",
       "      <td>False</td>\n",
       "      <td>False</td>\n",
       "      <td>False</td>\n",
       "      <td>False</td>\n",
       "      <td>False</td>\n",
       "      <td>False</td>\n",
       "      <td>False</td>\n",
       "      <td>False</td>\n",
       "      <td>False</td>\n",
       "      <td>False</td>\n",
       "    </tr>\n",
       "    <tr>\n",
       "      <th>is_office_location</th>\n",
       "      <td>False</td>\n",
       "      <td>False</td>\n",
       "      <td>False</td>\n",
       "      <td>False</td>\n",
       "      <td>False</td>\n",
       "      <td>False</td>\n",
       "      <td>False</td>\n",
       "      <td>False</td>\n",
       "      <td>False</td>\n",
       "      <td>False</td>\n",
       "    </tr>\n",
       "    <tr>\n",
       "      <th>is_other</th>\n",
       "      <td>False</td>\n",
       "      <td>False</td>\n",
       "      <td>False</td>\n",
       "      <td>False</td>\n",
       "      <td>False</td>\n",
       "      <td>False</td>\n",
       "      <td>False</td>\n",
       "      <td>False</td>\n",
       "      <td>False</td>\n",
       "      <td>False</td>\n",
       "    </tr>\n",
       "    <tr>\n",
       "      <th>is_posting_date</th>\n",
       "      <td>False</td>\n",
       "      <td>False</td>\n",
       "      <td>False</td>\n",
       "      <td>False</td>\n",
       "      <td>False</td>\n",
       "      <td>False</td>\n",
       "      <td>False</td>\n",
       "      <td>False</td>\n",
       "      <td>False</td>\n",
       "      <td>False</td>\n",
       "    </tr>\n",
       "    <tr>\n",
       "      <th>is_preferred_qualification</th>\n",
       "      <td>False</td>\n",
       "      <td>False</td>\n",
       "      <td>False</td>\n",
       "      <td>False</td>\n",
       "      <td>False</td>\n",
       "      <td>False</td>\n",
       "      <td>False</td>\n",
       "      <td>False</td>\n",
       "      <td>False</td>\n",
       "      <td>False</td>\n",
       "    </tr>\n",
       "    <tr>\n",
       "      <th>is_qualification</th>\n",
       "      <td>NaN</td>\n",
       "      <td>NaN</td>\n",
       "      <td>NaN</td>\n",
       "      <td>NaN</td>\n",
       "      <td>False</td>\n",
       "      <td>NaN</td>\n",
       "      <td>NaN</td>\n",
       "      <td>NaN</td>\n",
       "      <td>NaN</td>\n",
       "      <td>NaN</td>\n",
       "    </tr>\n",
       "    <tr>\n",
       "      <th>is_supplemental_pay</th>\n",
       "      <td>False</td>\n",
       "      <td>False</td>\n",
       "      <td>False</td>\n",
       "      <td>False</td>\n",
       "      <td>False</td>\n",
       "      <td>False</td>\n",
       "      <td>False</td>\n",
       "      <td>False</td>\n",
       "      <td>False</td>\n",
       "      <td>False</td>\n",
       "    </tr>\n",
       "    <tr>\n",
       "      <th>is_task_scope</th>\n",
       "      <td>False</td>\n",
       "      <td>False</td>\n",
       "      <td>False</td>\n",
       "      <td>False</td>\n",
       "      <td>False</td>\n",
       "      <td>False</td>\n",
       "      <td>False</td>\n",
       "      <td>False</td>\n",
       "      <td>False</td>\n",
       "      <td>False</td>\n",
       "    </tr>\n",
       "    <tr>\n",
       "      <th>navigable_parent</th>\n",
       "      <td>&lt;p&gt;Role ID: 4656043&lt;/p&gt;</td>\n",
       "      <td>&lt;p&gt;Role ID: 4542349&lt;/p&gt;</td>\n",
       "      <td>&lt;ojt&gt;Role ID: 4711968.0&lt;/ojt&gt;</td>\n",
       "      <td>&lt;p&gt;Role Title: On - Maximo Tech Arch - Maximo ...</td>\n",
       "      <td>Automation Engineer with Python</td>\n",
       "      <td>&lt;p&gt;Role Title: Infra Tech Support Practitioner...</td>\n",
       "      <td>&lt;ojt&gt;Role ID: 4657784.0&lt;/ojt&gt;</td>\n",
       "      <td>&lt;ojt&gt;Role Title: CCB Developer-8-Manila&lt;/ojt&gt;</td>\n",
       "      <td>&lt;ojt&gt;Role ID: 4687824&lt;/ojt&gt;</td>\n",
       "      <td>&lt;ojt&gt;Role ID: 4142115.0&lt;/ojt&gt;</td>\n",
       "    </tr>\n",
       "    <tr>\n",
       "      <th>_start</th>\n",
       "      <td>NaN</td>\n",
       "      <td>NaN</td>\n",
       "      <td>NaN</td>\n",
       "      <td>NaN</td>\n",
       "      <td>NaN</td>\n",
       "      <td>NaN</td>\n",
       "      <td>NaN</td>\n",
       "      <td>NaN</td>\n",
       "      <td>NaN</td>\n",
       "      <td>NaN</td>\n",
       "    </tr>\n",
       "    <tr>\n",
       "      <th>_end</th>\n",
       "      <td>NaN</td>\n",
       "      <td>NaN</td>\n",
       "      <td>NaN</td>\n",
       "      <td>NaN</td>\n",
       "      <td>NaN</td>\n",
       "      <td>NaN</td>\n",
       "      <td>NaN</td>\n",
       "      <td>NaN</td>\n",
       "      <td>NaN</td>\n",
       "      <td>NaN</td>\n",
       "    </tr>\n",
       "    <tr>\n",
       "      <th>_type</th>\n",
       "      <td>NaN</td>\n",
       "      <td>NaN</td>\n",
       "      <td>NaN</td>\n",
       "      <td>NaN</td>\n",
       "      <td>NaN</td>\n",
       "      <td>NaN</td>\n",
       "      <td>NaN</td>\n",
       "      <td>NaN</td>\n",
       "      <td>NaN</td>\n",
       "      <td>NaN</td>\n",
       "    </tr>\n",
       "  </tbody>\n",
       "</table>\n",
       "</div>"
      ],
      "text/plain": [
       "                                               228                      3212  \\\n",
       "_id                                          931638                   946516   \n",
       "_labels                           :NavigableParents        :NavigableParents   \n",
       "is_corporate_scope                            False                    False   \n",
       "is_educational_requirement                    False                    False   \n",
       "is_header                                     False                    False   \n",
       "is_interview_procedure                        False                    False   \n",
       "is_job_duration                               False                    False   \n",
       "is_job_title                                   True                     True   \n",
       "is_legal_notification                         False                    False   \n",
       "is_minimum_qualification                      False                    False   \n",
       "is_office_location                            False                    False   \n",
       "is_other                                      False                    False   \n",
       "is_posting_date                               False                    False   \n",
       "is_preferred_qualification                    False                    False   \n",
       "is_qualification                                NaN                      NaN   \n",
       "is_supplemental_pay                           False                    False   \n",
       "is_task_scope                                 False                    False   \n",
       "navigable_parent            <p>Role ID: 4656043</p>  <p>Role ID: 4542349</p>   \n",
       "_start                                          NaN                      NaN   \n",
       "_end                                            NaN                      NaN   \n",
       "_type                                           NaN                      NaN   \n",
       "\n",
       "                                                     6707  \\\n",
       "_id                                                965319   \n",
       "_labels                                 :NavigableParents   \n",
       "is_corporate_scope                                  False   \n",
       "is_educational_requirement                          False   \n",
       "is_header                                           False   \n",
       "is_interview_procedure                              False   \n",
       "is_job_duration                                     False   \n",
       "is_job_title                                         True   \n",
       "is_legal_notification                               False   \n",
       "is_minimum_qualification                            False   \n",
       "is_office_location                                  False   \n",
       "is_other                                            False   \n",
       "is_posting_date                                     False   \n",
       "is_preferred_qualification                          False   \n",
       "is_qualification                                      NaN   \n",
       "is_supplemental_pay                                 False   \n",
       "is_task_scope                                       False   \n",
       "navigable_parent            <ojt>Role ID: 4711968.0</ojt>   \n",
       "_start                                                NaN   \n",
       "_end                                                  NaN   \n",
       "_type                                                 NaN   \n",
       "\n",
       "                                                                         1569  \\\n",
       "_id                                                                    940391   \n",
       "_labels                                                     :NavigableParents   \n",
       "is_corporate_scope                                                      False   \n",
       "is_educational_requirement                                              False   \n",
       "is_header                                                               False   \n",
       "is_interview_procedure                                                  False   \n",
       "is_job_duration                                                         False   \n",
       "is_job_title                                                             True   \n",
       "is_legal_notification                                                   False   \n",
       "is_minimum_qualification                                                False   \n",
       "is_office_location                                                      False   \n",
       "is_other                                                                False   \n",
       "is_posting_date                                                         False   \n",
       "is_preferred_qualification                                              False   \n",
       "is_qualification                                                          NaN   \n",
       "is_supplemental_pay                                                     False   \n",
       "is_task_scope                                                           False   \n",
       "navigable_parent            <p>Role Title: On - Maximo Tech Arch - Maximo ...   \n",
       "_start                                                                    NaN   \n",
       "_end                                                                      NaN   \n",
       "_type                                                                     NaN   \n",
       "\n",
       "                                                       123   \\\n",
       "_id                                                  902935   \n",
       "_labels                                   :NavigableParents   \n",
       "is_corporate_scope                                    False   \n",
       "is_educational_requirement                            False   \n",
       "is_header                                             False   \n",
       "is_interview_procedure                                False   \n",
       "is_job_duration                                       False   \n",
       "is_job_title                                           True   \n",
       "is_legal_notification                                 False   \n",
       "is_minimum_qualification                              False   \n",
       "is_office_location                                    False   \n",
       "is_other                                              False   \n",
       "is_posting_date                                       False   \n",
       "is_preferred_qualification                            False   \n",
       "is_qualification                                      False   \n",
       "is_supplemental_pay                                   False   \n",
       "is_task_scope                                         False   \n",
       "navigable_parent            Automation Engineer with Python   \n",
       "_start                                                  NaN   \n",
       "_end                                                    NaN   \n",
       "_type                                                   NaN   \n",
       "\n",
       "                                                                         2193  \\\n",
       "_id                                                                    942537   \n",
       "_labels                                                     :NavigableParents   \n",
       "is_corporate_scope                                                      False   \n",
       "is_educational_requirement                                              False   \n",
       "is_header                                                               False   \n",
       "is_interview_procedure                                                  False   \n",
       "is_job_duration                                                         False   \n",
       "is_job_title                                                             True   \n",
       "is_legal_notification                                                   False   \n",
       "is_minimum_qualification                                                False   \n",
       "is_office_location                                                      False   \n",
       "is_other                                                                False   \n",
       "is_posting_date                                                         False   \n",
       "is_preferred_qualification                                              False   \n",
       "is_qualification                                                          NaN   \n",
       "is_supplemental_pay                                                     False   \n",
       "is_task_scope                                                           False   \n",
       "navigable_parent            <p>Role Title: Infra Tech Support Practitioner...   \n",
       "_start                                                                    NaN   \n",
       "_end                                                                      NaN   \n",
       "_type                                                                     NaN   \n",
       "\n",
       "                                                     6598  \\\n",
       "_id                                                965042   \n",
       "_labels                                 :NavigableParents   \n",
       "is_corporate_scope                                  False   \n",
       "is_educational_requirement                          False   \n",
       "is_header                                           False   \n",
       "is_interview_procedure                              False   \n",
       "is_job_duration                                     False   \n",
       "is_job_title                                         True   \n",
       "is_legal_notification                               False   \n",
       "is_minimum_qualification                            False   \n",
       "is_office_location                                  False   \n",
       "is_other                                            False   \n",
       "is_posting_date                                     False   \n",
       "is_preferred_qualification                          False   \n",
       "is_qualification                                      NaN   \n",
       "is_supplemental_pay                                 False   \n",
       "is_task_scope                                       False   \n",
       "navigable_parent            <ojt>Role ID: 4657784.0</ojt>   \n",
       "_start                                                NaN   \n",
       "_end                                                  NaN   \n",
       "_type                                                 NaN   \n",
       "\n",
       "                                                                     4614  \\\n",
       "_id                                                                954075   \n",
       "_labels                                                 :NavigableParents   \n",
       "is_corporate_scope                                                  False   \n",
       "is_educational_requirement                                          False   \n",
       "is_header                                                           False   \n",
       "is_interview_procedure                                              False   \n",
       "is_job_duration                                                     False   \n",
       "is_job_title                                                         True   \n",
       "is_legal_notification                                               False   \n",
       "is_minimum_qualification                                            False   \n",
       "is_office_location                                                  False   \n",
       "is_other                                                            False   \n",
       "is_posting_date                                                     False   \n",
       "is_preferred_qualification                                          False   \n",
       "is_qualification                                                      NaN   \n",
       "is_supplemental_pay                                                 False   \n",
       "is_task_scope                                                       False   \n",
       "navigable_parent            <ojt>Role Title: CCB Developer-8-Manila</ojt>   \n",
       "_start                                                                NaN   \n",
       "_end                                                                  NaN   \n",
       "_type                                                                 NaN   \n",
       "\n",
       "                                                   5219  \\\n",
       "_id                                              957611   \n",
       "_labels                               :NavigableParents   \n",
       "is_corporate_scope                                False   \n",
       "is_educational_requirement                        False   \n",
       "is_header                                         False   \n",
       "is_interview_procedure                            False   \n",
       "is_job_duration                                   False   \n",
       "is_job_title                                       True   \n",
       "is_legal_notification                             False   \n",
       "is_minimum_qualification                          False   \n",
       "is_office_location                                False   \n",
       "is_other                                          False   \n",
       "is_posting_date                                   False   \n",
       "is_preferred_qualification                        False   \n",
       "is_qualification                                    NaN   \n",
       "is_supplemental_pay                               False   \n",
       "is_task_scope                                     False   \n",
       "navigable_parent            <ojt>Role ID: 4687824</ojt>   \n",
       "_start                                              NaN   \n",
       "_end                                                NaN   \n",
       "_type                                               NaN   \n",
       "\n",
       "                                                     8256  \n",
       "_id                                                969797  \n",
       "_labels                                 :NavigableParents  \n",
       "is_corporate_scope                                  False  \n",
       "is_educational_requirement                          False  \n",
       "is_header                                           False  \n",
       "is_interview_procedure                              False  \n",
       "is_job_duration                                     False  \n",
       "is_job_title                                         True  \n",
       "is_legal_notification                               False  \n",
       "is_minimum_qualification                            False  \n",
       "is_office_location                                  False  \n",
       "is_other                                            False  \n",
       "is_posting_date                                     False  \n",
       "is_preferred_qualification                          False  \n",
       "is_qualification                                      NaN  \n",
       "is_supplemental_pay                                 False  \n",
       "is_task_scope                                       False  \n",
       "navigable_parent            <ojt>Role ID: 4142115.0</ojt>  \n",
       "_start                                                NaN  \n",
       "_end                                                  NaN  \n",
       "_type                                                 NaN  "
      ]
     },
     "execution_count": 17,
     "metadata": {},
     "output_type": "execute_result"
    }
   ],
   "source": [
    "\n",
    "jobtitles_df = nu.load_csv(csv_name='apoc_export_csv_data_jobtitles')\n",
    "print(jobtitles_df.shape)\n",
    "jobtitles_df.sample(10).T"
   ]
  },
  {
   "cell_type": "code",
   "execution_count": 15,
   "metadata": {},
   "outputs": [
    {
     "data": {
      "text/plain": [
       "array([True, False, nan], dtype=object)"
      ]
     },
     "execution_count": 15,
     "metadata": {},
     "output_type": "execute_result"
    }
   ],
   "source": [
    "\n",
    "jobtitles_df.is_header.unique()"
   ]
  },
  {
   "cell_type": "code",
   "execution_count": 21,
   "metadata": {},
   "outputs": [
    {
     "data": {
      "text/plain": [
       "navigable_parent\n",
       "                                 33\n",
       "Data Scientist                    5\n",
       "Machine Learning Engineer         2\n",
       "Software Development              2\n",
       "@TetraTechCareers                 2\n",
       "Senior Statistical Programmer     2\n",
       "Name: count, dtype: int64"
      ]
     },
     "execution_count": 21,
     "metadata": {},
     "output_type": "execute_result"
    }
   ],
   "source": [
    "\n",
    "mask_series = (jobtitles_df.is_header == False)\n",
    "df = jobtitles_df[~mask_series].navigable_parent.map(lambda x: re.split(': *', re.sub('<[^>]+>', '', str(x)).strip(), 0)[-1]).value_counts().sort_values(ascending=False)\n",
    "df[df > 1]"
   ]
  },
  {
   "cell_type": "code",
   "execution_count": 2,
   "metadata": {},
   "outputs": [
    {
     "name": "stdout",
     "output_type": "stream",
     "text": [
      "The procedure to update the list of modules that are installed is as follows:\n",
      "    1. Create the modules list with pip if not supplied.\n",
      "    2. Set the class variable if it is.\n"
     ]
    }
   ],
   "source": [
    "\n",
    "nu.describe_procedure(nu.update_modules_list, verbose=False)"
   ]
  },
  {
   "cell_type": "code",
   "execution_count": 27,
   "metadata": {},
   "outputs": [
    {
     "data": {
      "text/plain": [
       "['osp.curdir', 'osp.dirname', 'osp.isdir', 'osp.pardir']"
      ]
     },
     "execution_count": 27,
     "metadata": {},
     "output_type": "execute_result"
    }
   ],
   "source": [
    "\n",
    "[f'osp.{fn}' for fn in dir(osp) if 'dir' in fn]"
   ]
  },
  {
   "cell_type": "markdown",
   "metadata": {},
   "source": [
    "\n",
    "<quote>\"The universe is bigger than your life; your life is bigger than your self; your self is bigger than your self-expression; your self-expression is bigger than your signaled preferences, your signaled preferences are bigger than your politics, your politics are bigger than your creative identity.\"</quote> Venkatesh Rao"
   ]
  },
  {
   "cell_type": "code",
   "execution_count": 4,
   "metadata": {},
   "outputs": [
    {
     "data": {
      "text/plain": [
       "['Avg', 'F', 'In', 'Max', 'Min', 'Out', 'Q', 'Sum', 'crf', 'cu', 'hau', 'hc', 'ihu', 'lru', 'nu', 'os', 'osp', 're', 'su', 'sys', 't0', 'wsu']"
      ]
     },
     "execution_count": 4,
     "metadata": {},
     "output_type": "execute_result"
    }
   ],
   "source": [
    "\n",
    "[fn for fn in dir() if (len(fn) < 4) and not fn.startswith('_')]"
   ]
  },
  {
   "cell_type": "code",
   "execution_count": null,
   "metadata": {},
   "outputs": [],
   "source": [
    "\n",
    "black_list = ['.ipynb_checkpoints', '$Recycle.Bin']\n",
    "for sub_directory, directories_list, files_list in os.walk(osp.dirname(nu.github_folder)):\n",
    "    if all(map(lambda x: x not in sub_directory, black_list)):\n",
    "        for file_name in files_list:\n",
    "            if 'esv' in file_name.lower():\n",
    "                file_path = osp.join(sub_directory, file_name)\n",
    "                print(file_path)"
   ]
  },
  {
   "cell_type": "code",
   "execution_count": null,
   "metadata": {},
   "outputs": [],
   "source": []
  },
  {
   "cell_type": "code",
   "execution_count": null,
   "metadata": {},
   "outputs": [],
   "source": [
    "\n",
    "# Function to copy files while skipping existing files\n",
    "import shutil\n",
    "\n",
    "zoneinfo_folder = 'C:\\\\Users\\\\daveb\\\\OneDrive\\\\Documents\\\\GitHub\\\\job-hunting\\\\jh_env\\\\lib\\\\site-packages\\\\tzdata\\\\zoneinfo'\n",
    "def copy_files(src, dst):\n",
    "    for root, dirs, files in os.walk(src):\n",
    "        \n",
    "        # Create the corresponding directory structure in the destination\n",
    "        for dir in dirs:\n",
    "            src_dir = osp.join(root, dir)\n",
    "            dst_dir = osp.join(dst, osp.relpath(src_dir, src))\n",
    "            if not osp.exists(dst_dir):\n",
    "                os.makedirs(dst_dir)\n",
    "\n",
    "        # Copy files, skipping existing files in the destination\n",
    "            dst_file = osp.join(dst, osp.relpath(src_file, src))\n",
    "            if not osp.exists(dst_file):\n",
    "                shutil.copy2(src_file, dst_file)\n",
    "\n",
    "# Copy files from tz_path to zoneinfo_folder\n",
    "for tz_path in tz_paths_list: copy_files(tz_path, zoneinfo_folder)"
   ]
  },
  {
   "cell_type": "code",
   "execution_count": null,
   "metadata": {},
   "outputs": [],
   "source": [
    "\n",
    "folder_path = tz_paths_list.pop()\n",
    "!explorer.exe {folder_path}"
   ]
  },
  {
   "cell_type": "code",
   "execution_count": null,
   "metadata": {},
   "outputs": [],
   "source": [
    "\n",
    "folder_path = 'C:\\\\Users\\\\daveb\\\\OneDrive\\\\Documents\\\\GitHub\\\\job-hunting\\\\jh_env\\\\lib\\\\site-packages\\\\tzdata\\\\zoneinfo'\n",
    "!explorer.exe {folder_path}"
   ]
  },
  {
   "cell_type": "code",
   "execution_count": null,
   "metadata": {},
   "outputs": [],
   "source": [
    "\n",
    "!start %windir%\\explorer.exe \"{osp.abspath(nu.github_folder)}\""
   ]
  },
  {
   "cell_type": "code",
   "execution_count": null,
   "metadata": {},
   "outputs": [],
   "source": [
    "\n",
    "import os\n",
    "\n",
    "black_list = ['data', 'saves', '.ipynb_checkpoints']\n",
    "for root_dir in [r'C:\\Users\\daveb\\OneDrive\\Documents\\GitHub']:\n",
    "    for sub_directory, directories_list, files_list in os.walk(root_dir):\n",
    "        if all(map(lambda x: x not in sub_directory, black_list)):\n",
    "            for file_name in files_list:\n",
    "                if ('prompt' in file_name):\n",
    "                    file_path = osp.join(sub_directory, file_name)\n",
    "                    print(file_path)"
   ]
  },
  {
   "cell_type": "code",
   "execution_count": null,
   "metadata": {},
   "outputs": [],
   "source": [
    "\n",
    "import os\n",
    "from datetime import datetime, date\n",
    "from pandas import DataFrame\n",
    "\n",
    "white_list = ['load_magic']\n",
    "rows_list = []\n",
    "for root_dir in [r'C:\\Users\\daveb\\OneDrive\\Documents\\GitHub']:\n",
    "    for sub_directory, directories_list, files_list in os.walk(root_dir):\n",
    "        if all(map(lambda x: x in sub_directory, white_list)):\n",
    "            for file_name in files_list:\n",
    "                if 'environment.py' == file_name:\n",
    "                    file_path = osp.join(sub_directory, file_name)\n",
    "                    \n",
    "                    # Get the last modification time of the file in seconds since epoch\n",
    "                    modification_time = osp.getmtime(file_path)\n",
    "                    \n",
    "                    # Convert the modification time to a date object\n",
    "                    modification_date = datetime.fromtimestamp(modification_time).date()\n",
    "                    \n",
    "                    # Add it to the rows list\n",
    "                    row_dict = {}\n",
    "                    row_dict['file_path'] = file_path\n",
    "                    row_dict['modification_date'] = modification_date\n",
    "                    rows_list.append(row_dict)\n",
    "soup_df = DataFrame(rows_list)"
   ]
  },
  {
   "cell_type": "code",
   "execution_count": null,
   "metadata": {},
   "outputs": [],
   "source": [
    "\n",
    "import subprocess\n",
    "\n",
    "comparator_path = r'C:\\Program Files (x86)\\Compare It!\\wincmp3.exe'\n",
    "file_paths_list = soup_df.sort_values('modification_date', ascending=False).file_path.tolist()\n",
    "print(len(file_paths_list))\n",
    "subprocess.run([comparator_path, file_paths_list[0], file_paths_list[7]])"
   ]
  },
  {
   "cell_type": "code",
   "execution_count": null,
   "metadata": {},
   "outputs": [],
   "source": [
    "\n",
    "soup_groupby = soup_df.sort_values('modification_date', ascending=True).groupby('modification_date', group_keys=True)\n",
    "print(soup_groupby.min().head(1).values[0][0])\n",
    "def f(df):\n",
    "    display(df)\n",
    "    \n",
    "    return df\n",
    "_ = soup_groupby.apply(f)"
   ]
  },
  {
   "cell_type": "code",
   "execution_count": null,
   "metadata": {},
   "outputs": [],
   "source": [
    "\n",
    "for sub_directory, directories_list, files_list in os.walk(r'C:\\Users\\daveb\\OneDrive\\Documents\\GitHub\\job-hunting\\ipynb'):\n",
    "    for file_name in files_list:\n",
    "        if (not file_name.endswith('-checkpoint.ipynb')) and ('explor' in file_name.lower()):\n",
    "            print(file_name)"
   ]
  },
  {
   "cell_type": "code",
   "execution_count": null,
   "metadata": {},
   "outputs": [],
   "source": [
    "\n",
    "import os\n",
    "\n",
    "max_bytes = 0\n",
    "max_file_path = ''\n",
    "black_list = ['$RECYCLE.BIN', '$Recycle.Bin', '.git']\n",
    "for root_dir in [r'D:\\Documents\\GitHub\\job-hunting\\saves\\html']:\n",
    "    for sub_directory, directories_list, files_list in os.walk(root_dir, topdown=False):\n",
    "        if all(map(lambda x: x not in sub_directory, black_list)):\n",
    "            for file_name in files_list:\n",
    "                if file_name.endswith('.html') and 'sphere' in file_name.lower():\n",
    "                    file_path = osp.join(sub_directory, file_name)\n",
    "                    # file_size = osp.getsize(file_path)\n",
    "                    print(file_name)\n",
    "                    # if file_size > max_bytes:\n",
    "                    #     max_bytes = file_size\n",
    "                    #     max_file_path = file_path\n",
    "                    #     print(max_file_path)"
   ]
  },
  {
   "cell_type": "code",
   "execution_count": null,
   "metadata": {},
   "outputs": [],
   "source": [
    "\n",
    "def get_all_directories_containing(root_dir=r'C:\\Users\\dev\\anaconda3\\envs', contains_str='activate',\n",
    "                                   black_list=['$RECYCLE.BIN', '$Recycle.Bin', '.git']):\n",
    "    dir_path_list = []\n",
    "    if type(root_dir) == list:\n",
    "        root_dir_list = root_dir\n",
    "    else:\n",
    "        root_dir_list = [root_dir]\n",
    "    if type(contains_str) == list:\n",
    "        contains_list = contains_str\n",
    "    else:\n",
    "        contains_list = [contains_str]\n",
    "    for root_dir in root_dir_list:\n",
    "        for sub_directory, directories_list, files_list in os.walk(root_dir):\n",
    "            if all(map(lambda x: x not in sub_directory, black_list)):\n",
    "                for dir_name in directories_list:\n",
    "                    contains_bool = False\n",
    "                    for contains_str in contains_list:\n",
    "                        contains_bool = contains_bool or (contains_str in dir_name)\n",
    "                    if contains_bool:\n",
    "                        dir_path = osp.join(sub_directory, dir_name)\n",
    "                        dir_path_list.append(dir_path)\n",
    "    \n",
    "    return dir_path_list"
   ]
  },
  {
   "cell_type": "code",
   "execution_count": null,
   "metadata": {},
   "outputs": [],
   "source": [
    "\n",
    "import os\n",
    "\n",
    "dirs_list = ['C:\\\\', 'D:\\\\']\n",
    "for file_path in get_all_directories_containing(root_dir=dirs_list, contains_str='minecraft', black_list=['$RECYCLE.BIN', '$Recycle.Bin', '.git']):\n",
    "    print(file_path)"
   ]
  },
  {
   "cell_type": "code",
   "execution_count": null,
   "metadata": {},
   "outputs": [],
   "source": [
    "\n",
    "import os\n",
    "\n",
    "for root_dir in [r'D:\\Documents\\GitHub\\MineCraft\\data\\1.18.1_Default_Resource_Pack']:\n",
    "    for sub_directory, directories_list, files_list in os.walk(root_dir):\n",
    "        for file_name in files_list:\n",
    "            if file_name.endswith('.class'):\n",
    "                file_path = osp.join(sub_directory, file_name)\n",
    "                os.remove(file_path)"
   ]
  },
  {
   "cell_type": "code",
   "execution_count": null,
   "metadata": {},
   "outputs": [],
   "source": [
    "\n",
    "import os\n",
    "\n",
    "for root_dir in ['C:\\\\', 'D:\\\\']:\n",
    "    for sub_directory, directories_list, files_list in os.walk(root_dir):\n",
    "        for file_name in files_list:\n",
    "            if file_name.endswith('xlsx') and (('walk' in file_name.lower()) or ('talk' in file_name.lower())):\n",
    "                file_path = osp.join(sub_directory, file_name)\n",
    "                print(file_path)"
   ]
  },
  {
   "cell_type": "code",
   "execution_count": null,
   "metadata": {},
   "outputs": [],
   "source": [
    "\n",
    "import winshell\n",
    "import random\n",
    "\n",
    "# List the original path of all the all items in the recycling bin\n",
    "binned_files_list = list(winshell.recycle_bin())\n",
    "\n",
    "# Determine the index of your file\n",
    "ShellRecycledItem_obj = winshell.ShellRecycledItem.from_path(r'D:\\$RECYCLE.BIN\\S-1-5-21-1161412072-3680630389-113359315-1003\\$RB7DVL4\\data\\txt\\gradient.txt')\n",
    "binned_file_index = binned_files_list.index(ShellRecycledItem_obj)\n",
    "\n",
    "winshell.undelete(binned_files_list[binned_file_index].original_filename())"
   ]
  },
  {
   "cell_type": "code",
   "execution_count": null,
   "metadata": {},
   "outputs": [],
   "source": [
    "\n",
    "print_all_files_ending_starting_with(\n",
    "    root_dir=[r'C:\\\\'],\n",
    "    ends_with='.exe',\n",
    "    starts_with='speedtest',\n",
    "    black_list=['$RECYCLE.BIN', '$Recycle.Bin', '.git'],\n",
    ")"
   ]
  },
  {
   "cell_type": "code",
   "execution_count": null,
   "metadata": {},
   "outputs": [],
   "source": [
    "\n",
    "print_all_files_ending_with(\n",
    "    root_dir=[r'C:\\Users\\dev\\Documents\\Repositories'],\n",
    "    ends_with='.bat',\n",
    "    black_list=['$RECYCLE.BIN', '$Recycle.Bin', '.git', 'pkgs'],\n",
    ")"
   ]
  },
  {
   "cell_type": "code",
   "execution_count": null,
   "metadata": {},
   "outputs": [],
   "source": [
    "\n",
    "contains_str = 'job_hunting'\n",
    "file_path_list = get_all_files_containing(root_dir=r'C:\\Users\\dev\\Documents\\Repositories\\rpc\\ps1', contains_str=contains_str)\n",
    "for file_path in file_path_list:\n",
    "    os.rename(file_path, file_path.replace(contains_str, 'rpc'))"
   ]
  },
  {
   "cell_type": "code",
   "execution_count": null,
   "metadata": {},
   "outputs": [],
   "source": [
    "\n",
    "%windir%\\System32\\cmd.exe \"/K\" C:\\Users\\dev\\anaconda3\\Scripts\\activate.bat C:\\Users\\dev\\anaconda3"
   ]
  },
  {
   "cell_type": "code",
   "execution_count": null,
   "metadata": {},
   "outputs": [],
   "source": [
    "\n",
    "import subprocess\n",
    "\n",
    "repos_list = [r'C:\\Users\\dev\\Documents\\Repositories\\covid19', r'C:\\Users\\dev\\Documents\\Repositories\\notebooks\\flask',\n",
    "              r'C:\\Users\\dev\\Documents\\Repositories\\notebooks\\pt', r'C:\\Users\\dev\\Documents\\Repositories\\notebooks\\pymc3',\n",
    "              r'C:\\Users\\dev\\Documents\\Repositories\\notebooks\\rpc', r'C:\\Users\\dev\\Documents\\Repositories\\notebooks\\test',\n",
    "              r'C:\\Users\\dev\\Documents\\Repositories\\notebooks\\tf', r'C:\\Users\\dev\\Documents\\Repositories\\notebooks\\x']\n",
    "envs_list = ['covid19', 'flask', 'pt', 'pymc3', 'rpc', 'test', 'tf', 'x']\n",
    "for repo_path, env_name in zip(repos_list, envs_list):\n",
    "    print()\n",
    "    print('-'*len(env_name))\n",
    "    print(env_name)\n",
    "    print('-'*len(env_name))\n",
    "    command_str = f'''\n",
    "cd \"{repo_path}\"\n",
    "conda activate {env_name}\n",
    "conda env export --name {env_name} -f tmp_environment.yml\n",
    "conda deactivate\n",
    "'''\n",
    "    process = subprocess.Popen(r'C:\\Program Files\\PowerShell\\7\\pwsh.exe', stdin=subprocess.PIPE, stdout=subprocess.PIPE)\n",
    "    std_out, std_err = process.communicate(command_str.encode(encoding='utf-8'))\n",
    "    #print(std_out.decode())\n",
    "    if std_err is not None:\n",
    "        print(std_err.decode())"
   ]
  },
  {
   "cell_type": "code",
   "execution_count": null,
   "metadata": {},
   "outputs": [],
   "source": [
    "\n",
    "union_set = set()\n",
    "for env_name, pkgs_set in env_pkgs_dict.items():\n",
    "    union_set = union_set.union(pkgs_set)"
   ]
  },
  {
   "cell_type": "code",
   "execution_count": null,
   "metadata": {},
   "outputs": [],
   "source": [
    "\n",
    "intersection_set = union_set.copy()\n",
    "for env_name, pkgs_set in env_pkgs_dict.items():\n",
    "    intersection_set = intersection_set.intersection(pkgs_set)"
   ]
  },
  {
   "cell_type": "code",
   "execution_count": null,
   "metadata": {},
   "outputs": [],
   "source": [
    "\n",
    "repo_path = r'C:\\Users\\dev\\Documents\\Repositories\\job-hunting'\n",
    "file_path = osp.join(repo_path, 'tmp_environment.yml')\n",
    "with open(file_path, 'r') as file:\n",
    "    lines_list = file.read().split('\\n')[5:-2]\n",
    "    pkgs_list = [line_str.split('=')[0].split(' ')[-1] for line_str in lines_list]\n",
    "    pkgs_set = set(pkgs_list)\n",
    "missing_set = intersection_set - pkgs_set\n",
    "for pkg_name in missing_set:\n",
    "    print(f'  - {pkg_name}')\n",
    "print(f'({\"|\".join(missing_set)})')"
   ]
  },
  {
   "cell_type": "markdown",
   "metadata": {},
   "source": [
    "\n",
    "----"
   ]
  },
  {
   "cell_type": "code",
   "execution_count": null,
   "metadata": {},
   "outputs": [],
   "source": [
    "\n",
    "get_specific_gitignore_files('data-foundations', repository_dir=r'D:\\Documents\\Repositories')"
   ]
  },
  {
   "cell_type": "code",
   "execution_count": null,
   "metadata": {},
   "outputs": [],
   "source": [
    "\n",
    "import collections\n",
    "\n",
    "columns_list = jira_df.columns.tolist()\n",
    "[item for item, count in collections.Counter(columns_list).items() if count > 1]"
   ]
  },
  {
   "cell_type": "code",
   "execution_count": null,
   "metadata": {},
   "outputs": [],
   "source": [
    "\n",
    "column_descriptions_df = get_column_descriptions(jira_df)\n",
    "mask_series = column_descriptions_df.has_dates & column_descriptions_df.only_integers.isnull()\n",
    "column_descriptions_df[mask_series]"
   ]
  },
  {
   "cell_type": "markdown",
   "metadata": {},
   "source": [
    "\n",
    "----"
   ]
  },
  {
   "cell_type": "code",
   "execution_count": null,
   "metadata": {},
   "outputs": [],
   "source": [
    "\n",
    "plt_regex = re.compile(r'([\\r\\n]+)    \"import matplotlib\\.pyplot as plt\\\\n\",')\n",
    "notebooks_dir = r'D:\\Documents\\Repositories\\notebooks'\n",
    "stopped = False\n",
    "for sub_directory, directories_list, files_list in os.walk(notebooks_dir):\n",
    "    if stopped:\n",
    "        break\n",
    "    for file_name in files_list:\n",
    "        if stopped:\n",
    "            break\n",
    "        if file_name.endswith('.ipynb'):\n",
    "            file_path = osp.join(sub_directory, file_name)\n",
    "            try:\n",
    "                with open(file_path, 'r') as f:\n",
    "                    file_str = f.read()\n",
    "                    if plt_regex.search(file_str):\n",
    "                        print(file_path)\n",
    "                        stopped = True\n",
    "                        break\n",
    "            except UnicodeDecodeError as e:\n",
    "                try:\n",
    "                    with open(file_path, 'rb') as f:\n",
    "                        file_str = f.read().decode('utf-8')\n",
    "                        if plt_regex.search(file_str):\n",
    "                            print(file_path)\n",
    "                except Exception as e:\n",
    "                    message = str(e).strip()\n",
    "                    print()\n",
    "                    print('{} had an error after trying to decode: {}'.format(file_path, message))\n",
    "                    print()"
   ]
  },
  {
   "cell_type": "code",
   "execution_count": null,
   "metadata": {},
   "outputs": [],
   "source": [
    "\n",
    "import pyperclip\n",
    "\n",
    "pyperclip.copy(str(file_str))"
   ]
  },
  {
   "cell_type": "code",
   "execution_count": null,
   "metadata": {},
   "outputs": [],
   "source": [
    "\n",
    "gi = get_ipython()\n",
    "#print([fn for fn in dir(gi) if not fn.startswith('_')])\n",
    "gi.run_line_magic('who', '')"
   ]
  },
  {
   "cell_type": "code",
   "execution_count": null,
   "metadata": {},
   "outputs": [],
   "source": [
    "\n",
    "remove_empty_folders(folder_path=r'D:\\VirtualBox VMs')"
   ]
  },
  {
   "cell_type": "code",
   "execution_count": null,
   "metadata": {},
   "outputs": [],
   "source": [
    "\n",
    "magic_dict_list = magic_dict['test.py']\n",
    "print(len(magic_dict_list))\n",
    "subprocess.run([comparator_path, osp.abspath(magic_dict_list[0]), osp.abspath(magic_dict_list[1])])"
   ]
  },
  {
   "cell_type": "code",
   "execution_count": null,
   "metadata": {},
   "outputs": [],
   "source": [
    "\n",
    "get_specific_gitignore_files('notebooks', repository_dir=r'C:\\Users\\dev\\Documents\\repositories')"
   ]
  },
  {
   "cell_type": "code",
   "execution_count": null,
   "metadata": {},
   "outputs": [],
   "source": [
    "\n",
    "import sys\n",
    "\n",
    "for module_name, module_obj in sys.modules.items():\n",
    "    if (not '._' in module_name) and (not module_name.startswith('_')) and ('.' in module_name):\n",
    "        print(module_name)"
   ]
  }
 ],
 "metadata": {
  "kernelspec": {
   "display_name": "Job Hunting (Python 3.10.9)",
   "language": "python",
   "name": "jh_env"
  },
  "language_info": {
   "codemirror_mode": {
    "name": "ipython",
    "version": 3
   },
   "file_extension": ".py",
   "mimetype": "text/x-python",
   "name": "python",
   "nbconvert_exporter": "python",
   "pygments_lexer": "ipython3",
   "version": "3.10.9"
  }
 },
 "nbformat": 4,
 "nbformat_minor": 4
}
