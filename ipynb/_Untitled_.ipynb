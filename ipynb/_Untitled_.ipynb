{
 "cells": [
  {
   "cell_type": "code",
   "execution_count": null,
   "id": "56992c5d-2302-41f5-b6c4-973add7ab850",
   "metadata": {},
   "outputs": [],
   "source": []
  },
  {
   "cell_type": "code",
   "execution_count": 1,
   "id": "e01a8ddd-735a-4a3a-a107-55db1b2d3df5",
   "metadata": {},
   "outputs": [
    {
     "name": "stdout",
     "output_type": "stream",
     "text": [
      "Pretty printing has been turned OFF\n"
     ]
    }
   ],
   "source": [
    "\n",
    "%pprint"
   ]
  },
  {
   "cell_type": "code",
   "execution_count": 2,
   "id": "b8b6f0a0-5f8d-4ee7-934e-6842f3393515",
   "metadata": {},
   "outputs": [
    {
     "name": "stdout",
     "output_type": "stream",
     "text": [
      "Wall time: 4.98 s\n"
     ]
    }
   ],
   "source": [
    "\n",
    "%%time\n",
    "%run ../py/cypher_utlis.py\n",
    "cu = CypherUtilities()\n",
    "import_folder = r'C:\\neo4j-community-4.3.2\\import'\n",
    "s = cu.s"
   ]
  },
  {
   "cell_type": "code",
   "execution_count": 5,
   "id": "36df94c6-5954-4331-a8d1-7bc7cc81c337",
   "metadata": {},
   "outputs": [
    {
     "name": "stdout",
     "output_type": "stream",
     "text": [
      "v. 7\n",
      "v. 8\n",
      "v. 9\n",
      "v. 10\n",
      "v. 11\n",
      "v. 12\n",
      "v. 13\n",
      "v. 14\n",
      "v. 15\n",
      "v. 16\n",
      "v. 17\n",
      "v. 18\n",
      "v. 19\n",
      "v. 20\n",
      "v. 21\n",
      "v. 22\n",
      "v. 23\n",
      "v. 24\n",
      "v. 25\n",
      "v. 26\n",
      "v. 27\n",
      "v. 28\n",
      "v. 29\n",
      "v. 30\n",
      "v. 31\n",
      "v. 32\n",
      "v. 33\n",
      "v. 34\n",
      "v. 35\n",
      "v. 36\n",
      "v. 37\n",
      "v. 38\n",
      "v. 39\n",
      "v. 40\n"
     ]
    }
   ],
   "source": [
    "\n",
    "for i in range (7,41):\n",
    "    print(f'v. {i}')"
   ]
  }
 ],
 "metadata": {
  "kernelspec": {
   "display_name": "Python 3 (ipykernel)",
   "language": "python",
   "name": "python3"
  },
  "language_info": {
   "codemirror_mode": {
    "name": "ipython",
    "version": 3
   },
   "file_extension": ".py",
   "mimetype": "text/x-python",
   "name": "python",
   "nbconvert_exporter": "python",
   "pygments_lexer": "ipython3",
   "version": "3.9.7"
  }
 },
 "nbformat": 4,
 "nbformat_minor": 5
}
