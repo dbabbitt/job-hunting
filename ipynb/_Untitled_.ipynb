{
 "cells": [
  {
   "cell_type": "code",
   "execution_count": 5,
   "id": "bearing-success",
   "metadata": {},
   "outputs": [
    {
     "name": "stdout",
     "output_type": "stream",
     "text": [
      "\n",
      "<g fill=\"navy\"><text x=\"10\" y=\"5\" font-size=\"4.23333311px\" font-family=\"serif\">\n",
      "    <tspan x=\"10\" dy=\"4\" font-weight=\"normal\">font-weight set to normal.</tspan>\n",
      "    <tspan x=\"10\" dy=\"4\" font-weight=\"100\">font-weight set to 100.</tspan>\n",
      "    <tspan x=\"10\" dy=\"4\" font-weight=\"200\">font-weight set to 200.</tspan>\n",
      "    <tspan x=\"10\" dy=\"4\" font-weight=\"300\">font-weight set to 300.</tspan>\n",
      "    <tspan x=\"10\" dy=\"4\" font-weight=\"400\">font-weight set to 400.</tspan>\n",
      "    <tspan x=\"10\" dy=\"4\" font-weight=\"500\">font-weight set to 500.</tspan>\n",
      "    <tspan x=\"10\" dy=\"4\" font-weight=\"600\">font-weight set to 600.</tspan>\n",
      "    <tspan x=\"10\" dy=\"4\" font-weight=\"700\">font-weight set to 700.</tspan>\n",
      "    <tspan x=\"10\" dy=\"4\" font-weight=\"800\">font-weight set to 800.</tspan>\n",
      "    <tspan x=\"10\" dy=\"4\" font-weight=\"900\">font-weight set to 900.</tspan>\n",
      "    <tspan x=\"10\" dy=\"4\" font-weight=\"bold\">font-weight set to bold.</tspan>\n",
      "</text></g>\n"
     ]
    }
   ],
   "source": [
    "\n",
    "font_weight_list = ['normal'] + list(range(100, 1000, 100)) + ['bold']\n",
    "svg_str = '''\n",
    "<g fill=\"navy\"><text x=\"10\" y=\"5\" font-size=\"4.23333311px\" font-family=\"serif\">{}\n",
    "</text></g>'''\n",
    "tspans_str = ''\n",
    "for font_weight in font_weight_list:\n",
    "    tspans_str += f'''\n",
    "    <tspan x=\"10\" dy=\"4\" font-weight=\"{font_weight}\">font-weight set to {font_weight}.</tspan>'''\n",
    "print(svg_str.format(tspans_str))"
   ]
  }
 ],
 "metadata": {
  "kernelspec": {
   "display_name": "Job Hunting (Python 3.7.9)",
   "language": "python",
   "name": "jh"
  },
  "language_info": {
   "codemirror_mode": {
    "name": "ipython",
    "version": 3
   },
   "file_extension": ".py",
   "mimetype": "text/x-python",
   "name": "python",
   "nbconvert_exporter": "python",
   "pygments_lexer": "ipython3",
   "version": "3.7.9"
  }
 },
 "nbformat": 4,
 "nbformat_minor": 5
}
