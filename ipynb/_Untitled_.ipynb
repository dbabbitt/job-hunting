{
 "cells": [
  {
   "cell_type": "code",
   "execution_count": 1,
   "id": "882f3b8f-defb-445f-a7a7-73010c04d068",
   "metadata": {},
   "outputs": [
    {
     "name": "stdout",
     "output_type": "stream",
     "text": [
      "../.gitignore\n"
     ]
    },
    {
     "data": {
      "text/plain": [
       "'2022-02-13 18:53:52'"
      ]
     },
     "execution_count": 1,
     "metadata": {},
     "output_type": "execute_result"
    }
   ],
   "source": [
    "\n",
    "import os\n",
    "from datetime import datetime\n",
    "\n",
    "file_paths_list = []\n",
    "for sub_directory, directories_list, files_list in os.walk('../'):\n",
    "    if 'jh_env' not in sub_directory:\n",
    "        for file_name in files_list:\n",
    "            file_path = os.path.join(sub_directory, file_name)\n",
    "            file_paths_list.append(file_path)\n",
    "\n",
    "file_path = min(file_paths_list, key=os.path.getctime)\n",
    "print(file_path)\n",
    "datetime.fromtimestamp(os.path.getctime(file_path)).strftime('%Y-%m-%d %H:%M:%S')"
   ]
  },
  {
   "cell_type": "code",
   "execution_count": null,
   "id": "eb19d8c9-f67f-440a-b87b-07b048ddfaad",
   "metadata": {},
   "outputs": [],
   "source": []
  }
 ],
 "metadata": {
  "kernelspec": {
   "display_name": "Python 3 (ipykernel)",
   "language": "python",
   "name": "python3"
  },
  "language_info": {
   "codemirror_mode": {
    "name": "ipython",
    "version": 3
   },
   "file_extension": ".py",
   "mimetype": "text/x-python",
   "name": "python",
   "nbconvert_exporter": "python",
   "pygments_lexer": "ipython3",
   "version": "3.9.7"
  }
 },
 "nbformat": 4,
 "nbformat_minor": 5
}
