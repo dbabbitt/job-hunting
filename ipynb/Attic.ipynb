{
 "cells": [
  {
   "cell_type": "code",
   "execution_count": null,
   "id": "1ee9570e-ff06-431c-8717-ea814001a6f9",
   "metadata": {},
   "outputs": [],
   "source": []
  },
  {
   "cell_type": "code",
   "execution_count": 13,
   "id": "cbe1c63d-fb56-4a74-a4aa-ef8e5cd3680a",
   "metadata": {},
   "outputs": [
    {
     "data": {
      "image/png": "[encoded data removed]",
      "text/plain": [
       "<Figure size 1600x900 with 1 Axes>"
      ]
     },
     "metadata": {},
     "output_type": "display_data"
    }
   ],
   "source": [
    "\n",
    "# Here's the challenge mode for all you math whizzes.\n",
    "# Sample three numbers x, y, z uniformly at random in [0, 1],\n",
    "# and compute (xy)^z. What distribution describes this result?\n",
    "# Answer: It's uniform!\n",
    "from pandas import Series\n",
    "import random\n",
    "import matplotlib.pyplot as plt\n",
    "\n",
    "fig, ax = plt.subplots(figsize=(16, 9))\n",
    "Series([(x*y)**z for x, y, z in zip(\n",
    "    [random.uniform(0, 1) for i in range(1_000)], [random.uniform(0, 1) for i in range(1_000)], [random.uniform(0, 1) for i in range(1_000)]\n",
    ")]).hist(\n",
    "    cumulative=False, density=1, bins=100, ax=ax, align='mid', rwidth=.9\n",
    ")\n",
    "ax.grid(False)\n",
    "\n",
    "# Add annotation\n",
    "ax.annotate(r'$(xy)^z$ where $x, y, z \\sim U(0, 1)$', xy=(0.5, 0.95), xycoords='axes fraction', fontsize=12, ha='center')\n",
    "plt.show()"
   ]
  },
  {
   "cell_type": "code",
   "execution_count": 11,
   "id": "3082cea1-ceb7-42e3-b69d-0c2b336810dd",
   "metadata": {},
   "outputs": [
    {
     "name": "stdout",
     "output_type": "stream",
     "text": [
      "Filling in the last-name field with Babbitt\n"
     ]
    }
   ],
   "source": [
    "\n",
    "# <input class=\"input__input error text-input-error error--is-inline\" autocomplete=\"on\" data-tracking-control-name=\"registration-frontend_join-form-name_last-name\" id=\"last-name\" name=\"last-name\" placeholder=\"Last name\" type=\"text\" required=\"required\">\n",
    "wsu.fill_in_field(driver, field_name='last-name',\n",
    "                   field_value='Babbitt',\n",
    "                   input_css='#last-name', verbose=True)"
   ]
  },
  {
   "cell_type": "code",
   "execution_count": 10,
   "id": "b4577d79-88f0-44bc-9df2-e8006ae0d378",
   "metadata": {},
   "outputs": [
    {
     "name": "stdout",
     "output_type": "stream",
     "text": [
      "Filling in the first-name field with Dave\n"
     ]
    }
   ],
   "source": [
    "\n",
    "# <input class=\"input__input error text-input-error error--is-inline\" autocomplete=\"on\" data-tracking-control-name=\"registration-frontend_join-form-name_first-name\" id=\"first-name\" name=\"first-name\" placeholder=\"First name\" type=\"text\" required=\"required\">\n",
    "wsu.fill_in_field(driver, field_name='first-name',\n",
    "                   field_value='Dave',\n",
    "                   input_css='#first-name', verbose=True)"
   ]
  },
  {
   "cell_type": "code",
   "execution_count": 12,
   "id": "b68cf838-2758-4fca-8ab4-f6d192cfaf86",
   "metadata": {},
   "outputs": [
    {
     "name": "stdout",
     "output_type": "stream",
     "text": [
      "Clicking //*[@id=\"join-form-submit\"]\n"
     ]
    }
   ],
   "source": [
    "\n",
    "# <button class=\"join-form__form-body-submit-button join-form__form-body-submit-button--no-agreement-text\" data-tracking-control-name=\"registration-frontend_join-form-submit\" id=\"join-form-submit\" value=\"Continue\" type=\"submit\" style=\"\">Continue</button>\n",
    "button_xpath = '//*[@id=\"join-form-submit\"]'\n",
    "wsu.click_by_xpath(driver, xpath=button_xpath, verbose=True) "
   ]
  },
  {
   "cell_type": "code",
   "execution_count": 13,
   "id": "91a128c0-6ee7-49ef-be6a-b8f7829e2515",
   "metadata": {},
   "outputs": [
    {
     "name": "stdout",
     "output_type": "stream",
     "text": [
      "Getting URL: https://www.linkedin.com/home\n"
     ]
    }
   ],
   "source": [
    "\n",
    "wsu.driver_get_url(driver, wsu.linkedin_url, verbose=True)"
   ]
  },
  {
   "cell_type": "code",
   "execution_count": 14,
   "id": "60526942-96a8-4994-95b6-e6b50f0ae21d",
   "metadata": {},
   "outputs": [
    {
     "name": "stdout",
     "output_type": "stream",
     "text": [
      "Clicking /html/body/main/section[1]/div/div/a\n"
     ]
    }
   ],
   "source": [
    "\n",
    "# <a class=\"sign-in-form__sign-in-cta btn-md btn-secondary babybear:w-full block mb-3 mx-auto min-h-[40px] py-1\" href=\"https://www.linkedin.com/login\" data-test-id=\"home-hero-sign-in-cta\" data-tracking-control-name=\"homepage-basic_home-hero-sign-in-cta\" data-tracking-will-navigate=\"\" data-tracking-client-ingraph=\"\">Sign in with email</a>\n",
    "button_xpath = '/html/body/main/section[1]/div/div/a'\n",
    "wsu.click_by_xpath(driver, xpath=button_xpath, verbose=True)"
   ]
  },
  {
   "cell_type": "code",
   "execution_count": 15,
   "id": "816f01e2-24b8-418a-a4aa-fb9100afac97",
   "metadata": {},
   "outputs": [
    {
     "name": "stdout",
     "output_type": "stream",
     "text": [
      "Filling in the session_key field with dave.babbitt@gmail.com\n"
     ]
    }
   ],
   "source": [
    "\n",
    "# <input id=\"username\" name=\"session_key\" aria-describedby=\"error-for-username\" required=\"\" validation=\"email|tel\" value=\"\" autofocus=\"\" autocomplete=\"username\" aria-label=\"Email or phone\" type=\"text\">\n",
    "wsu.fill_in_field(driver, field_name='session_key',\n",
    "                   field_value=wsu.secrets_json['linkedin']['email'],\n",
    "                   input_css='#username',\n",
    "                   verbose=True)"
   ]
  },
  {
   "cell_type": "code",
   "execution_count": 16,
   "id": "4b0ccf3c-e9f4-44b6-bde2-092476974739",
   "metadata": {},
   "outputs": [],
   "source": [
    "\n",
    "# <input id=\"password\" aria-describedby=\"error-for-password\" name=\"session_password\" required=\"\" validation=\"password\" autocomplete=\"current-password\" aria-label=\"Password\" type=\"password\">\n",
    "wsu.fill_in_field(driver, field_name='session_password',\n",
    "                   field_value=wsu.secrets_json['linkedin']['password'],\n",
    "                   input_css='#password', verbose=False)"
   ]
  },
  {
   "cell_type": "code",
   "execution_count": 17,
   "id": "dd04b8ec-f0be-4b6f-b393-776221d76738",
   "metadata": {},
   "outputs": [
    {
     "name": "stdout",
     "output_type": "stream",
     "text": [
      "Clicking /html/body/div[1]/main/div[2]/div[1]/form/div[3]/button\n"
     ]
    }
   ],
   "source": [
    "\n",
    "# <button class=\"btn__primary--large from__button--floating\" data-litms-control-urn=\"login-submit\" aria-label=\"Sign in\" type=\"submit\">Sign in</button>\n",
    "button_xpath = '/html/body/div[1]/main/div[2]/div[1]/form/div[3]/button'\n",
    "wsu.click_by_xpath(driver, xpath=button_xpath, verbose=True) "
   ]
  },
  {
   "cell_type": "code",
   "execution_count": null,
   "id": "37033465-790f-464e-ba75-1462f0b4d5a7",
   "metadata": {},
   "outputs": [],
   "source": [
    "\n",
    "\n",
    "# Visualize the clusters in a scatter plot\n",
    "plt.figure(figsize=(10, 8))\n",
    "scatter = plt.scatter(X_pca[:, 0], X_pca[:, 1], c=new_sequence, cmap='viridis')\n",
    "plt.title('Document Cluster Analysis')\n",
    "plt.xlabel('Principal Component 1')\n",
    "plt.ylabel('Principal Component 2')\n",
    "integer_to_string_map = {v: k for k, v in string_to_integer_map.items()}\n",
    "plt.legend(*scatter.legend_elements(), title='Clusters')\n",
    "plt.show()"
   ]
  },
  {
   "cell_type": "code",
   "execution_count": 49,
   "id": "6bbbd254-16d5-4f50-9315-ee09ba39799d",
   "metadata": {},
   "outputs": [],
   "source": [
    "\n",
    "wikipedia_url = 'https://en.wikipedia.org/wiki/ISO_3166-1_alpha-3'\n",
    "page_soup = nu.get_page_soup(wikipedia_url, verbose=False)\n",
    "\n",
    "# <div class=\"div-col\" style=\"column-width: 20em;\">\n",
    "div_soups_list = page_soup.find_all('div', attrs={'class': 'div-col'})\n",
    "li_soups_list = div_soups_list[0].find_all('li')\n",
    "alpha3_to_country_dict = {}\n",
    "country_to_alpha3_dict = {}\n",
    "for li_soup in li_soups_list:\n",
    "    for span_soup in li_soup.find_all('span', attrs={'class': 'monospaced'}):\n",
    "        tla = span_soup.text\n",
    "    for a_soup in li_soup.find_all('a', attrs={'title': True}):\n",
    "        country = a_soup.text\n",
    "    alpha3_to_country_dict[tla] = country\n",
    "    country_to_alpha3_dict[country] = tla"
   ]
  },
  {
   "cell_type": "code",
   "execution_count": 1,
   "id": "62a6e3fe-d2c6-4ac2-aa36-3fb338308077",
   "metadata": {},
   "outputs": [
    {
     "name": "stdout",
     "output_type": "stream",
     "text": [
      "Pretty printing has been turned OFF\n"
     ]
    }
   ],
   "source": [
    "\n",
    "%pprint"
   ]
  },
  {
   "cell_type": "markdown",
   "id": "03854b7e-276c-44dd-a9d4-55ca50bb4fec",
   "metadata": {
    "tags": []
   },
   "source": [
    "\n",
    "---\n",
    "# Load needed libraries and functions"
   ]
  },
  {
   "cell_type": "code",
   "execution_count": 2,
   "id": "8528c715-7ed7-48de-8675-3f35973ff7bb",
   "metadata": {},
   "outputs": [],
   "source": [
    "\n",
    "import os\n",
    "import re\n",
    "import sys\n",
    "\n",
    "# Insert at 1, 0 is the script path (or '' in REPL)\n",
    "if ('../py' not in sys.path): sys.path.insert(1, '../py')"
   ]
  },
  {
   "cell_type": "code",
   "execution_count": 3,
   "id": "170bffd6-f9e9-4aa2-b6bc-13cfb693fc0a",
   "metadata": {},
   "outputs": [],
   "source": [
    "\n",
    "# Get the Storage object\n",
    "from storage import Storage\n",
    "s = Storage(\n",
    "    data_folder_path=os.path.abspath('../data'),\n",
    "    saves_folder_path=os.path.abspath('../saves')\n",
    ")"
   ]
  },
  {
   "cell_type": "code",
   "execution_count": 4,
   "id": "882f3b8f-defb-445f-a7a7-73010c04d068",
   "metadata": {},
   "outputs": [],
   "source": [
    "\n",
    "# Get all our file names data\n",
    "import pandas as pd\n",
    "\n",
    "# Get the HeaderAnalysis object\n",
    "from ha_utils import HeaderAnalysis\n",
    "ha = HeaderAnalysis(s=s, verbose=False)\n",
    "\n",
    "# Get the WebScrapingUtilities object\n",
    "from scrape_utils import WebScrapingUtilities\n",
    "wsu = WebScrapingUtilities(\n",
    "    s=s,\n",
    "    secrets_json_path=os.path.abspath('../data/secrets/jh_secrets.json')\n",
    ")\n",
    "uri = wsu.secrets_json['neo4j']['connect_url']\n",
    "user =  wsu.secrets_json['neo4j']['username']\n",
    "password = wsu.secrets_json['neo4j']['password']\n",
    "\n",
    "# Get the CypherUtilities object and Neo4j driver\n",
    "from cypher_utils import CypherUtilities\n",
    "cu = CypherUtilities(\n",
    "    uri=uri, user=user, password=password, driver=None, s=s, ha=ha\n",
    ")\n",
    "\n",
    "cypher_str = '''\n",
    "    MATCH (fn:FileNames)\n",
    "    RETURN fn;'''\n",
    "row_objs_list = cu.get_execution_results(cypher_str, verbose=False)\n",
    "hunting_df = pd.DataFrame(\n",
    "    [{k: v for k, v in row_obj['fn'].items()} for row_obj in row_objs_list]\n",
    ")"
   ]
  },
  {
   "cell_type": "code",
   "execution_count": 5,
   "id": "ebcf1e05-ea1d-4e77-8db1-960d219fd762",
   "metadata": {},
   "outputs": [
    {
     "name": "stdout",
     "output_type": "stream",
     "text": [
      "Saving to C:\\Users\\daveb\\OneDrive\\Documents\\GitHub\\job-hunting\\saves\\csv\\hunting_df.csv\n"
     ]
    }
   ],
   "source": [
    "\n",
    "s.save_dataframes(hunting_df=hunting_df)"
   ]
  },
  {
   "cell_type": "code",
   "execution_count": 6,
   "id": "d5387dd1-7da4-45f4-9732-a8dad97cc3d8",
   "metadata": {},
   "outputs": [],
   "source": [
    "\n",
    "# Get the databased quals\n",
    "cypher_str = '''\n",
    "    MATCH (qs:QualificationStrings)\n",
    "    RETURN qs;'''\n",
    "row_objs_list = cu.get_execution_results(cypher_str, verbose=False)\n",
    "basic_quals_df = pd.DataFrame(\n",
    "    [{k: v for k, v in row_obj['qs'].items()} for row_obj in row_objs_list]\n",
    ")"
   ]
  },
  {
   "cell_type": "code",
   "execution_count": 7,
   "id": "46d4be2d-8e87-4a6f-bb55-ee8585295f9e",
   "metadata": {},
   "outputs": [
    {
     "name": "stdout",
     "output_type": "stream",
     "text": [
      "Saving to C:\\Users\\daveb\\OneDrive\\Documents\\GitHub\\job-hunting\\saves\\csv\\basic_quals_df.csv\n"
     ]
    }
   ],
   "source": [
    "\n",
    "s.save_dataframes(basic_quals_df=basic_quals_df)"
   ]
  },
  {
   "cell_type": "code",
   "execution_count": null,
   "id": "d850af3b-8e34-4295-8549-6ac35f75defc",
   "metadata": {},
   "outputs": [],
   "source": []
  }
 ],
 "metadata": {
  "kernelspec": {
   "display_name": "Job Hunting (Python 3.10.9)",
   "language": "python",
   "name": "jh_env"
  },
  "language_info": {
   "codemirror_mode": {
    "name": "ipython",
    "version": 3
   },
   "file_extension": ".py",
   "mimetype": "text/x-python",
   "name": "python",
   "nbconvert_exporter": "python",
   "pygments_lexer": "ipython3",
   "version": "3.10.9"
  }
 },
 "nbformat": 4,
 "nbformat_minor": 5
}
