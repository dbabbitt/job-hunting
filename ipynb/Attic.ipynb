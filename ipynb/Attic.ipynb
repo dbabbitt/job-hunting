{
 "cells": [
  {
   "cell_type": "code",
   "execution_count": null,
   "id": "1ee9570e-ff06-431c-8717-ea814001a6f9",
   "metadata": {},
   "outputs": [],
   "source": []
  },
  {
   "cell_type": "code",
   "execution_count": 3,
   "id": "551d543a-e3d6-404f-8af3-fc21b48f9781",
   "metadata": {},
   "outputs": [],
   "source": [
    "\n",
    "import openai\n",
    "\n",
    "def generate_post_date_headers(api_key, base_headers, num_variations=10):\n",
    "    \"\"\"\n",
    "    Generate synthetic variations for Post Date Headers ({pos_symbol}) using an LLM.\n",
    "\n",
    "    Args:\n",
    "        api_key (str): OpenAI API key for authenticating requests.\n",
    "        base_headers (list): List of existing Post Date Headers to use as reference.\n",
    "        num_variations (int): Number of synthetic headers to generate.\n",
    "\n",
    "    Returns:\n",
    "        list: Combined list of base headers and generated synthetic headers.\n",
    "    \"\"\"\n",
    "    # Validate the input\n",
    "    if not isinstance(base_headers, list) or not all(isinstance(header, str) for header in base_headers):\n",
    "        raise ValueError(\"Base headers must be a list of strings.\")\n",
    "    \n",
    "    # Construct the prompt for the LLM\n",
    "    prompt = (\n",
    "        f\"Generate unique, creative, and professional examples of Post Date Headers ({pos_symbol}) \"\n",
    "        \"similar to the following examples:\\n\"\n",
    "        f\"{base_headers}\\n\"\n",
    "        \"The output should be a list of headers formatted like the examples provided. \"\n",
    "        \"Make sure they are concise, relevant, and follow a similar structure.\"\n",
    "    )\n",
    "    \n",
    "    try:\n",
    "        # Set the OpenAI API key\n",
    "        openai.api_key = api_key\n",
    "\n",
    "        # Call the OpenAI API to generate text\n",
    "        response = openai.Completion.create(\n",
    "            engine=\"gpt-3.5-turbo-instruct\",\n",
    "            prompt=prompt,\n",
    "            max_tokens=150,\n",
    "            n=1,\n",
    "            temperature=0.7  # Adjust temperature for creativity\n",
    "        )\n",
    "        \n",
    "        # Extract and clean up the generated text\n",
    "        generated_text = response.choices[0].text.strip()\n",
    "        \n",
    "        # Convert generated text to a list of headers\n",
    "        synthetic_headers = [header.strip() for header in generated_text.split('\\n') if header.strip()]\n",
    "        \n",
    "        # Combine base headers with the synthetic ones\n",
    "        return base_headers + synthetic_headers[:num_variations]\n",
    "    \n",
    "    except Exception as e:\n",
    "        print(f\"An error occurred while generating synthetic headers: {e}\")\n",
    "        return base_headers"
   ]
  },
  {
   "cell_type": "code",
   "execution_count": 4,
   "id": "1dbc0f67-e737-4af0-9e00-a5e68aef8178",
   "metadata": {},
   "outputs": [
    {
     "name": "stdout",
     "output_type": "stream",
     "text": [
      "An error occurred while generating synthetic headers: You exceeded your current quota, please check your plan and billing details. For more information on this error, read the docs: https://platform.openai.com/docs/guides/error-codes/api-errors.\n",
      "['<b>Publication Date:</b>', '<b>Job Posting :</b>', '<b>Job Posting</b>', '<div>Published</div>']\n"
     ]
    }
   ],
   "source": [
    "\n",
    "import os\n",
    "\n",
    "api_key = os.getenv('OPENAI_API_KEY')\n",
    "synthetic_headers = generate_post_date_headers(api_key, base_headers, num_variations=10)\n",
    "print(synthetic_headers)"
   ]
  },
  {
   "cell_type": "code",
   "execution_count": 5,
   "id": "4f0b3d56-0b00-4ca3-8bf4-e77ed82a3607",
   "metadata": {},
   "outputs": [
    {
     "data": {
      "application/vnd.jupyter.widget-view+json": {
       "model_id": "d01d8930362142a99fac5d143de81669",
       "version_major": 2,
       "version_minor": 0
      },
      "text/plain": [
       "config.json:   0%|          | 0.00/1.01k [00:00<?, ?B/s]"
      ]
     },
     "metadata": {},
     "output_type": "display_data"
    },
    {
     "name": "stderr",
     "output_type": "stream",
     "text": [
      "C:\\Users\\daveb\\OneDrive\\Documents\\GitHub\\job-hunting\\jh_env\\lib\\site-packages\\huggingface_hub\\file_download.py:157: UserWarning: `huggingface_hub` cache-system uses symlinks by default to efficiently store duplicated files but your machine does not support them in C:\\Users\\daveb\\.cache\\huggingface\\hub\\models--EleutherAI--gpt-neo-125M. Caching files will still work but in a degraded version that might require more space on your disk. This warning can be disabled by setting the `HF_HUB_DISABLE_SYMLINKS_WARNING` environment variable. For more details, see https://huggingface.co/docs/huggingface_hub/how-to-cache#limitations.\n",
      "To support symlinks on Windows, you either need to activate Developer Mode or to run Python as an administrator. In order to see activate developer mode, see this article: https://docs.microsoft.com/en-us/windows/apps/get-started/enable-your-device-for-development\n",
      "  warnings.warn(message)\n"
     ]
    },
    {
     "data": {
      "application/vnd.jupyter.widget-view+json": {
       "model_id": "81049e0ecff845828783fee990426438",
       "version_major": 2,
       "version_minor": 0
      },
      "text/plain": [
       "model.safetensors:   0%|          | 0.00/526M [00:00<?, ?B/s]"
      ]
     },
     "metadata": {},
     "output_type": "display_data"
    },
    {
     "data": {
      "application/vnd.jupyter.widget-view+json": {
       "model_id": "87a37ab8c9c34685b0cd157f871583ce",
       "version_major": 2,
       "version_minor": 0
      },
      "text/plain": [
       "generation_config.json:   0%|          | 0.00/119 [00:00<?, ?B/s]"
      ]
     },
     "metadata": {},
     "output_type": "display_data"
    },
    {
     "data": {
      "application/vnd.jupyter.widget-view+json": {
       "model_id": "1d6d418c809b46a8afa8e50586a83389",
       "version_major": 2,
       "version_minor": 0
      },
      "text/plain": [
       "tokenizer_config.json:   0%|          | 0.00/727 [00:00<?, ?B/s]"
      ]
     },
     "metadata": {},
     "output_type": "display_data"
    },
    {
     "data": {
      "application/vnd.jupyter.widget-view+json": {
       "model_id": "4d081ff9799343e0812a6d09714c5077",
       "version_major": 2,
       "version_minor": 0
      },
      "text/plain": [
       "vocab.json:   0%|          | 0.00/899k [00:00<?, ?B/s]"
      ]
     },
     "metadata": {},
     "output_type": "display_data"
    },
    {
     "data": {
      "application/vnd.jupyter.widget-view+json": {
       "model_id": "54cda13802e24dddab8829ad8d850098",
       "version_major": 2,
       "version_minor": 0
      },
      "text/plain": [
       "merges.txt:   0%|          | 0.00/456k [00:00<?, ?B/s]"
      ]
     },
     "metadata": {},
     "output_type": "display_data"
    },
    {
     "data": {
      "application/vnd.jupyter.widget-view+json": {
       "model_id": "d0ef46c80a094ccb81100de4acff267d",
       "version_major": 2,
       "version_minor": 0
      },
      "text/plain": [
       "tokenizer.json:   0%|          | 0.00/2.11M [00:00<?, ?B/s]"
      ]
     },
     "metadata": {},
     "output_type": "display_data"
    },
    {
     "data": {
      "application/vnd.jupyter.widget-view+json": {
       "model_id": "472a8f0de115464d9842b2001bfc65ae",
       "version_major": 2,
       "version_minor": 0
      },
      "text/plain": [
       "special_tokens_map.json:   0%|          | 0.00/357 [00:00<?, ?B/s]"
      ]
     },
     "metadata": {},
     "output_type": "display_data"
    },
    {
     "name": "stderr",
     "output_type": "stream",
     "text": [
      "Truncation was not explicitly activated but `max_length` is provided a specific value, please use `truncation=True` to explicitly truncate examples to max length. Defaulting to 'longest_first' truncation strategy. If you encode pairs of sequences (GLUE-style) with the tokenizer you can select this strategy more precisely by providing a specific strategy to `truncation`.\n"
     ]
    },
    {
     "name": "stdout",
     "output_type": "stream",
     "text": [
      "Generate professional examples of Post Date Headers:\n",
      "['<b>Publication Date:</b>', '<b>Job Posting :</b>', '<b>Job Posting</b>', '<div>Published</div>']\n"
     ]
    },
    {
     "name": "stderr",
     "output_type": "stream",
     "text": [
      "Setting `pad_token_id` to `eos_token_id`:50256 for open-end generation.\n"
     ]
    },
    {
     "name": "stdout",
     "output_type": "stream",
     "text": [
      "Generate professional examples of Post Date Headers:\n",
      "['<b>Publication Date:</b>', '<b>Job Posting :</b>', '<b>Job Posting</b>', '<div>Published</div>']\n",
      "\n",
      "I have a list of all the Post Date Headers that I want to create. I have a list of all the Post Date Headers that I want to create. I have a list of all the Post Date\n"
     ]
    }
   ],
   "source": [
    "\n",
    "from transformers import pipeline\n",
    "\n",
    "# Load a pre-trained model pipeline for text generation\n",
    "generator = pipeline(\"text-generation\", model=\"EleutherAI/gpt-neo-125M\")\n",
    "\n",
    "# Define a prompt to generate post date headers\n",
    "prompt = f\"Generate professional examples of Post Date Headers:\\n{base_headers}\"\n",
    "print(prompt)\n",
    "\n",
    "# Generate synthetic headers\n",
    "results = generator(prompt, max_length=100, num_return_sequences=1)\n",
    "print(results[0]['generated_text'])"
   ]
  },
  {
   "cell_type": "code",
   "execution_count": 25,
   "id": "e1978e80-70ce-43b2-9e7c-3eb8367015ff",
   "metadata": {},
   "outputs": [],
   "source": [
    "\n",
    "from webdriver_manager.core import os_manager\n",
    "import platform\n",
    "import sys\n",
    "\n",
    "class OSType(object):\n",
    "    LINUX = \"linux\"\n",
    "    MAC = \"mac\"\n",
    "    WIN = \"win\"\n",
    "\n",
    "def get_os_name():\n",
    "    pl = sys.platform\n",
    "    if pl == \"linux\" or pl == \"linux2\":\n",
    "        return OSType.LINUX\n",
    "    elif pl == \"darwin\":\n",
    "        return OSType.MAC\n",
    "    elif pl == \"win32\" or pl == \"cygwin\":\n",
    "        return OSType.WIN\n",
    "\n",
    "def get_os_architecture():\n",
    "    if platform.machine().endswith(\"64\"):\n",
    "        return 64\n",
    "    else:\n",
    "        return 32\n",
    "osm = os_manager.OperationSystemManager(os_type=f\"{get_os_name()}{get_os_architecture()}\")\n",
    "cdm = ChromeDriverManager(os_system_manager=osm)"
   ]
  },
  {
   "cell_type": "code",
   "execution_count": 35,
   "id": "7338a4c5-dc84-4426-9860-1bc10bf8a411",
   "metadata": {},
   "outputs": [
    {
     "data": {
      "text/plain": [
       "'C:\\\\Users\\\\daveb\\\\.wdm\\\\drivers\\\\chromedriver\\\\win64\\\\131.0.6778.85\\\\chromedriver-win32/THIRD_PARTY_NOTICES.chromedriver'"
      ]
     },
     "execution_count": 35,
     "metadata": {},
     "output_type": "execute_result"
    }
   ],
   "source": [
    "\n",
    "cdm.install()"
   ]
  },
  {
   "cell_type": "code",
   "execution_count": 33,
   "id": "17763315-0cb1-4c8f-9b0a-fb4afbc291e3",
   "metadata": {},
   "outputs": [
    {
     "data": {
      "text/plain": [
       "('win64', 'win32')"
      ]
     },
     "execution_count": 33,
     "metadata": {},
     "output_type": "execute_result"
    }
   ],
   "source": [
    "\n",
    "osm.get_os_type(), cdm.get_os_type()"
   ]
  },
  {
   "cell_type": "code",
   "execution_count": 15,
   "id": "bf2ccbcf-6714-4800-a492-4699a48b5a16",
   "metadata": {},
   "outputs": [
    {
     "name": "stdout",
     "output_type": "stream",
     "text": [
      "Successfully added: Agile methodologies\n",
      "Successfully added: The ideal candidate will not only have superb technical skills but also strong interpersonal skills and the ability to take a leading role in driving our data and reporting capabilities to the next level\n",
      "Successfully added: This role is primarily suited for candidates with strong data skills, particularly with experience in the design and creation of ETLs and SQL-based relational database structures\n",
      "Successfully added: Recognize and adopt best practices in data warehousing, reporting, and analysis: data integrity, test design, analysis, validation, and documentation\n",
      "Successfully added: Strong sense of ownership, intellectual curiosity and an ability to think creatively and critically and thrive in a fast-paced, dynamic, and often ambiguous work environment\n",
      "Successfully added: 5+ years of experience with database design, architecture and modeling techniques in cloud data warehouses (ie Snowflake) and data engineering using ETL tools (ie DataBricks, Fivetran)\n",
      "Successfully added: Experience using standard Python analysis packages (eg, SciPy, NumPy, Pandas)\n",
      "Successfully added: Snowflake databases & dashboards\n",
      "Successfully added: Experience writing clean, computationally efficient code involving ETL processes and data manipulation via dbt, SQL, and Python\n",
      "Successfully added: Expert-level working knowledge of dbt, SQL and Python required; including:\n"
     ]
    }
   ],
   "source": [
    "\n",
    "import requests\n",
    "\n",
    "# URL of the Flask API endpoint\n",
    "api_url = 'http://localhost:5000/add_qualification'\n",
    "\n",
    "# Function to add qualifications to the queue\n",
    "def add_qualifications_to_queue(quals_list):\n",
    "    for qual in quals_list:\n",
    "        response = requests.post(api_url, json={'qualification_str': qual})\n",
    "        if response.status_code == 200:\n",
    "            print(f\"Successfully added: {qual}\")\n",
    "        else:\n",
    "            print(f\"Failed to add: {qual}, Error: {response.json()}\")\n",
    "\n",
    "# Add qualifications to the queue\n",
    "add_qualifications_to_queue(quals_list)"
   ]
  },
  {
   "cell_type": "code",
   "execution_count": 52,
   "id": "eafb657b-99ce-46f8-99ec-b37ddddf93e7",
   "metadata": {},
   "outputs": [
    {
     "name": "stdout",
     "output_type": "stream",
     "text": [
      "Successfully added: You thrive in a dynamic environment and can execute with autonomy.\n",
      "Successfully added: Experience with quantitative survey research (eg conjoint/maxdiff), A/B testing, and marketing analytics.\n",
      "Successfully added: Capacity and passion to translate business objectives into actionable insights, and analytics results into business and product recommendations.\n",
      "Successfully added: You have at least 3+ years of Data Scientist experience, with a degree in statistics, mathematics, computer science or equivalent on-the-job Data Scientist experience.\n"
     ]
    }
   ],
   "source": [
    "\n",
    "import requests\n",
    "\n",
    "# URL of the Flask API endpoint\n",
    "api_url = 'http://localhost:5000/add_qualification'\n",
    "\n",
    "# Function to add qualifications to the queue\n",
    "def add_qualifications_to_queue(quals_list):\n",
    "    for qual in quals_list:\n",
    "        response = requests.post(api_url, json={'qualification_str': qual})\n",
    "        if response.status_code == 200:\n",
    "            print(f\"Successfully added: {qual}\")\n",
    "        else:\n",
    "            print(f\"Failed to add: {qual}, Error: {response.json()}\")\n",
    "\n",
    "# Add qualifications to the queue\n",
    "add_qualifications_to_queue(quals_list)"
   ]
  },
  {
   "cell_type": "code",
   "execution_count": 50,
   "id": "5e0a77b9-639f-4dda-8888-5b3eea82f8c6",
   "metadata": {},
   "outputs": [],
   "source": [
    "\n",
    "def fetch_qualification_string():\n",
    "    message = \"Error fetching qualification string\"\n",
    "    try:\n",
    "        response = requests.get(f'http://localhost:5000/get_qualification')\n",
    "        if response.status_code == 200:\n",
    "            return response.json().get('qualification_str', '')\n",
    "    except requests.exceptions.RequestException as e:\n",
    "        message += f': {str(e).strip()}'\n",
    "        print(message)\n",
    "    return message"
   ]
  },
  {
   "cell_type": "code",
   "execution_count": 49,
   "id": "faea0a00-dfcf-4573-96f3-c4b166fb9620",
   "metadata": {},
   "outputs": [
    {
     "data": {
      "text/plain": [
       "'You thrive in a dynamic environment and can execute with autonomy.'"
      ]
     },
     "execution_count": 49,
     "metadata": {},
     "output_type": "execute_result"
    }
   ],
   "source": [
    "\n",
    "fetch_qualification_string()"
   ]
  },
  {
   "cell_type": "code",
   "execution_count": 12,
   "id": "ee69c527-a353-404a-8b85-c9fc8d1cb972",
   "metadata": {},
   "outputs": [],
   "source": [
    "\n",
    "from selenium import webdriver\n",
    "from selenium.webdriver.edge.service import Service\n",
    "from webdriver_manager.microsoft import EdgeChromiumDriverManager\n",
    "\n",
    "# Create a new Edge service and driver instance\n",
    "edge_service = Service(EdgeChromiumDriverManager().install())\n",
    "driver = webdriver.Edge(service=edge_service)\n",
    "\n",
    "# Open the Edge window and navigate to a website\n",
    "driver.get(wsu.indeed_url)"
   ]
  },
  {
   "cell_type": "code",
   "execution_count": 13,
   "id": "0e1c285d-1e8f-4ce8-851f-b8772aa0dad0",
   "metadata": {},
   "outputs": [],
   "source": [
    "\n",
    "css_selector = '#ifl-InputFormField-ihl-useId-passport-webapp-1'\n",
    "wsu.fill_in_field(\n",
    "    driver, field_name='email',\n",
    "    field_value=wsu.secrets_json['indeed']['email'],\n",
    "    input_css=css_selector,\n",
    "    verbose=False\n",
    ")"
   ]
  },
  {
   "cell_type": "code",
   "execution_count": 11,
   "id": "e6a19f2b-6632-4d3e-b1b8-740e65a24b8a",
   "metadata": {},
   "outputs": [
    {
     "data": {
      "text/plain": [
       "<selenium.webdriver.remote.webelement.WebElement (session=\"3f60fe0388b783f02562a64794950d16\", element=\"f.6448FAAC68157AEB9733310F4E6E1346.d.FE6B5F32F68D7CD5A3ADDC02C5FCABFE.e.65\")>"
      ]
     },
     "execution_count": 11,
     "metadata": {},
     "output_type": "execute_result"
    }
   ],
   "source": [
    "\n",
    "button_css = '#emailform > button > span'\n",
    "wsu.click_by_css(driver, button_css, wait=10, verbose=False)"
   ]
  },
  {
   "cell_type": "code",
   "execution_count": 9,
   "id": "c4bbe361-ae96-4ece-82fc-4b581cf36248",
   "metadata": {},
   "outputs": [
    {
     "name": "stdout",
     "output_type": "stream",
     "text": [
      "(35, 1) ['property']\n"
     ]
    }
   ],
   "source": [
    "\n",
    "cypher_str = '''\n",
    "    // Get all unique properties across all FileNames nodes\n",
    "    MATCH (fn:FileNames)\n",
    "    WITH collect(keys(fn)) AS all_properties\n",
    "    UNWIND all_properties AS property_list\n",
    "    UNWIND property_list AS property\n",
    "    RETURN DISTINCT property\n",
    "    ORDER BY property;'''\n",
    "row_objs_list = []\n",
    "with cu.driver.session() as session:\n",
    "    row_objs_list = session.write_transaction(cu.do_cypher_tx, cypher_str)\n",
    "properties_df = DataFrame(row_objs_list)\n",
    "print(properties_df.shape, properties_df.columns.tolist())"
   ]
  },
  {
   "cell_type": "code",
   "execution_count": 11,
   "id": "bf45afdc-8a61-49a3-8541-62d427a12ae2",
   "metadata": {},
   "outputs": [
    {
     "data": {
      "text/html": [
       "<div>\n",
       "<style scoped>\n",
       "    .dataframe tbody tr th:only-of-type {\n",
       "        vertical-align: middle;\n",
       "    }\n",
       "\n",
       "    .dataframe tbody tr th {\n",
       "        vertical-align: top;\n",
       "    }\n",
       "\n",
       "    .dataframe thead th {\n",
       "        text-align: right;\n",
       "    }\n",
       "</style>\n",
       "<table border=\"1\" class=\"dataframe\">\n",
       "  <thead>\n",
       "    <tr style=\"text-align: right;\">\n",
       "      <th></th>\n",
       "      <th>property</th>\n",
       "    </tr>\n",
       "  </thead>\n",
       "  <tbody>\n",
       "    <tr>\n",
       "      <th>8</th>\n",
       "      <td>is_recruiter_screen_completed</td>\n",
       "    </tr>\n",
       "    <tr>\n",
       "      <th>9</th>\n",
       "      <td>is_recruiter_screen_set</td>\n",
       "    </tr>\n",
       "    <tr>\n",
       "      <th>22</th>\n",
       "      <td>recruiter_screen_completion_date</td>\n",
       "    </tr>\n",
       "  </tbody>\n",
       "</table>\n",
       "</div>"
      ],
      "text/plain": [
       "                            property\n",
       "8      is_recruiter_screen_completed\n",
       "9            is_recruiter_screen_set\n",
       "22  recruiter_screen_completion_date"
      ]
     },
     "execution_count": 11,
     "metadata": {},
     "output_type": "execute_result"
    }
   ],
   "source": [
    "\n",
    "mask_series = properties_df.property.map(lambda x: 'screen' in str(x).lower())\n",
    "properties_df[mask_series]"
   ]
  },
  {
   "cell_type": "code",
   "execution_count": 4,
   "id": "b234c73c-1e73-47e2-bea4-c4f6754bbb91",
   "metadata": {},
   "outputs": [
    {
     "name": "stdout",
     "output_type": "stream",
     "text": [
      "(282, 3) ['name', 'description', 'signature']\n"
     ]
    }
   ],
   "source": [
    "\n",
    "cypher_str = '''\n",
    "    SHOW PROCEDURES YIELD name, description, signature\n",
    "    RETURN name, description, signature\n",
    "    ORDER BY name;'''\n",
    "row_objs_list = []\n",
    "with cu.driver.session() as session:\n",
    "    row_objs_list = session.write_transaction(cu.do_cypher_tx, cypher_str)\n",
    "procedures_df = DataFrame(row_objs_list)\n",
    "print(procedures_df.shape, procedures_df.columns.tolist())"
   ]
  },
  {
   "cell_type": "code",
   "execution_count": 8,
   "id": "44301d27-e64b-4b82-b45d-ec97821a332d",
   "metadata": {},
   "outputs": [
    {
     "data": {
      "text/plain": [
       "{'name': {71: 'apoc.graph.filterProperties'}, 'description': {71: 'CALL apoc.graph.filterProperties(anyEntityObject, nodePropertiesToRemove, relPropertiesToRemove) YIELD nodes, relationships - returns a set of virtual nodes and relationships without the properties defined in nodePropertiesToRemove and relPropertiesToRemove'}, 'signature': {71: 'apoc.graph.filterProperties(value :: ANY, nodePropertiesToRemove = {} :: MAP, relPropertiesToRemove = {} :: MAP) :: (nodes :: LIST<NODE>, relationships :: LIST<RELATIONSHIP>)'}}"
      ]
     },
     "execution_count": 8,
     "metadata": {},
     "output_type": "execute_result"
    }
   ],
   "source": [
    "\n",
    "mask_series = (procedures_df.name == 'apoc.graph.filterProperties')\n",
    "procedures_df[mask_series].to_dict()"
   ]
  },
  {
   "cell_type": "code",
   "execution_count": 14,
   "id": "29a5cd19-8e2d-42e0-a2aa-d26f82c87b2a",
   "metadata": {},
   "outputs": [
    {
     "data": {
      "text/plain": [
       "[('cu.phrase_elements_set', 18), ('cu.inline_elements_set', 40), ('cu.document_body_elements_set', 109)]"
      ]
     },
     "execution_count": 14,
     "metadata": {},
     "output_type": "execute_result"
    }
   ],
   "source": [
    "\n",
    "sizes_list = []\n",
    "for eval_str in [f'cu.{fn}' for fn in dir(cu) if fn.endswith('_set')]:\n",
    "    elements_set = eval(eval_str)\n",
    "    if all(map(lambda x: x in elements_set, ['b', 'strong'])):\n",
    "        size_tuple = (eval_str, len(elements_set))\n",
    "        sizes_list.append(size_tuple)\n",
    "sorted(sizes_list, key=lambda size_tuple: size_tuple[1])"
   ]
  },
  {
   "cell_type": "code",
   "execution_count": null,
   "id": "a78c0062-13f8-431d-9a55-78200846d3a5",
   "metadata": {},
   "outputs": [],
   "source": [
    "\n",
    "        \n",
    "        # Find all <p> tags\n",
    "        p_tags = page_soup.find_all('p')\n",
    "        \n",
    "        from bs4 import BeautifulSoup\n",
    "        from bs4.element import Tag\n",
    "        for p_tag in p_tags:\n",
    "            \n",
    "            # Check if the <p> tag contains exactly one <b> tag as its only content\n",
    "            if len(p_tag.contents) == 1 and isinstance(p_tag.contents[0], Tag) and p_tag.contents[0].name in phrase_elements_set:\n",
    "                b_tag = p_tag.contents[0]\n",
    "                \n",
    "                # Get the stripped text of the <b> tag\n",
    "                b_text = b_tag.text.strip()\n",
    "                \n",
    "                # Ensure that the text ends with a colon\n",
    "                if not b_text.endswith(':'):\n",
    "                    b_text += ':'\n",
    "                \n",
    "                # Create a new <h3> tag with the desired attributes\n",
    "                h3_tag = page_soup.new_tag('h3', **{'class': 'jobSectionHeader', 'pos': 'H-TS'})\n",
    "                \n",
    "                # Set the text of the new <h3> tag\n",
    "                h3_tag.string = b_text\n",
    "                \n",
    "                # Replace the <p> tag with the new <h3> tag\n",
    "                p_tag.replace_with(h3_tag)"
   ]
  },
  {
   "cell_type": "code",
   "execution_count": 13,
   "id": "1a32ba6f-71c5-43d6-b128-76661519d1dd",
   "metadata": {},
   "outputs": [
    {
     "name": "stdout",
     "output_type": "stream",
     "text": [
      "I have 51,865 hand-labeled header htmls prepared\n",
      "['ihu.make_prediction', 'ihu.predict_percent_fit']\n"
     ]
    },
    {
     "data": {
      "text/plain": [
       "\u001b[1;31mSignature:\u001b[0m \u001b[0mihu\u001b[0m\u001b[1;33m.\u001b[0m\u001b[0mmake_prediction\u001b[0m\u001b[1;33m(\u001b[0m\u001b[0mnavigable_parent\u001b[0m\u001b[1;33m,\u001b[0m \u001b[0mverbose\u001b[0m\u001b[1;33m=\u001b[0m\u001b[1;32mFalse\u001b[0m\u001b[1;33m)\u001b[0m\u001b[1;33m\u001b[0m\u001b[1;33m\u001b[0m\u001b[0m\n",
       "\u001b[1;31mDocstring:\u001b[0m <no docstring>\n",
       "\u001b[1;31mFile:\u001b[0m      c:\\users\\daveb\\onedrive\\documents\\github\\job-hunting\\py\\jobpostlib\\pos_symbol_sgd_classifiers.py\n",
       "\u001b[1;31mType:\u001b[0m      method"
      ]
     },
     "metadata": {},
     "output_type": "display_data"
    }
   ],
   "source": [
    "\n",
    "train_data_list, train_labels_list = ihu.prepare_training_data(verbose=True)\n",
    "is_header_dict = {k: v for k, v in zip(train_data_list, train_labels_list)}\n",
    "print([f'ihu.{fn}' for fn in dir(ihu) if 'predict' in fn])\n",
    "ihu.make_prediction?"
   ]
  },
  {
   "cell_type": "code",
   "execution_count": 17,
   "id": "6e05b732-d04f-4bb3-93e5-7353887670d4",
   "metadata": {},
   "outputs": [
    {
     "name": "stdout",
     "output_type": "stream",
     "text": [
      "['ihu.count_vect.count_vect', 'ihu.count_vect.fit_transform', 'ihu.count_vect.pos_relationships_vocab', 'ihu.count_vect.restore_vocabulary', 'ihu.count_vect.transform', 'ihu.count_vect.validate_and_restore_vocab']\n",
      "<p>Minimum Qualifications</p> 0.12975887775669293 0 1\n"
     ]
    }
   ],
   "source": [
    "\n",
    "idx = 14; child_str = child_strs_list[idx]; pos_symbol = pos_list[idx]\n",
    "print([f'ihu.count_vect.{fn}' for fn in dir(ihu.count_vect) if not fn.startswith('__')])\n",
    "print(child_str, ihu.predict_percent_fit(child_str), ihu.make_prediction(child_str), is_header_dict.get(child_str, ihu.make_prediction(child_str)))"
   ]
  },
  {
   "cell_type": "code",
   "execution_count": 36,
   "id": "78519db6-d407-45c7-9412-9e6d6cbc0940",
   "metadata": {},
   "outputs": [
    {
     "name": "stdout",
     "output_type": "stream",
     "text": [
      "Attempting to open C:\\Users\\daveb\\OneDrive\\Documents\\GitHub\\job-hunting\\py\\jobpostlib\\pos_symbol_sgd_classifiers.py\n"
     ]
    }
   ],
   "source": [
    "\n",
    "nu.open_path_in_notepad('~\\OneDrive\\Documents\\GitHub\\job-hunting\\py\\jobpostlib\\pos_symbol_sgd_classifiers.py')"
   ]
  },
  {
   "cell_type": "code",
   "execution_count": 44,
   "id": "b5f3b472-fae4-44d6-bfe0-29fa02bb03b5",
   "metadata": {
    "tags": []
   },
   "outputs": [
    {
     "name": "stdout",
     "output_type": "stream",
     "text": [
      "Basic Qualifications for Military Service U S Air National Guard Systems Operations United States:\n",
      "*quals_list[0] = \"Must be between the ages of 17 and 39\" (1.0)\n",
      "*quals_list[1] = \"Must have a high school diploma, GED with 15 college credits or GED\" (1.0)\n",
      "100.00%\n",
      "\n",
      "hunting_df.loc[4889, 'percent_fit'] = (000+000)/2\n",
      "4887/4903 = 99.7% completed\n",
      "Inference completed in 42 seconds\n"
     ]
    }
   ],
   "source": [
    "\n",
    "t1 = time.time()\n",
    "\n",
    "# Loop through all the unset %fit values, set them if you can, break for help if you can't\n",
    "quals_list, file_name = lru.infer_from_hunting_dataframe(fitness_threshold=3/4, verbose=True)\n",
    "duration_str = humanize.precisedelta(time.time() - t1, minimum_unit='seconds', format='%0.0f')\n",
    "speech_str = f'Inference completed in {duration_str}'; print(speech_str); speech_engine.say(speech_str); speech_engine.runAndWait()"
   ]
  },
  {
   "cell_type": "code",
   "execution_count": null,
   "id": "4041218c-6964-4283-abb1-7ffc682d5126",
   "metadata": {},
   "outputs": [],
   "source": [
    "raise"
   ]
  },
  {
   "cell_type": "code",
   "execution_count": 32,
   "id": "0ea385de-0877-4346-bd32-f272b8e8afa7",
   "metadata": {},
   "outputs": [
    {
     "name": "stdout",
     "output_type": "stream",
     "text": [
      "Be at least 23 years old and not have reached your 37th birthday on appointment.\n",
      "Pickling to C:\\Users\\daveb\\OneDrive\\Documents\\GitHub\\job-hunting\\saves\\pkl\\basic_quals_dict.pkl\n"
     ]
    }
   ],
   "source": [
    "\n",
    "# Manually label the unscored qualification string\n",
    "qualification_str = quals_list[0]\n",
    "print(qualification_str); basic_quals_dict = nu.load_object('basic_quals_dict')\n",
    "print(str(basic_quals_dict[qualification_str]) + '\\n' if(qualification_str in basic_quals_dict) else '', end='')\n",
    "basic_quals_dict[qualification_str] = 0\n",
    "nu.store_objects(basic_quals_dict=basic_quals_dict)"
   ]
  },
  {
   "cell_type": "code",
   "execution_count": 44,
   "id": "d1fe14c6-abce-4f0f-83b6-6fa885aa34fc",
   "metadata": {},
   "outputs": [
    {
     "name": "stderr",
     "output_type": "stream",
     "text": [
      "findfont: Font family 'xkcd' not found.\n",
      "findfont: Font family 'xkcd Script' not found.\n",
      "findfont: Font family 'Humor Sans' not found.\n",
      "findfont: Font family 'Comic Neue' not found.\n",
      "findfont: Font family 'xkcd' not found.\n",
      "findfont: Font family 'xkcd Script' not found.\n",
      "findfont: Font family 'Humor Sans' not found.\n",
      "findfont: Font family 'Comic Neue' not found.\n",
      "findfont: Font family 'xkcd' not found.\n",
      "findfont: Font family 'xkcd Script' not found.\n",
      "findfont: Font family 'Humor Sans' not found.\n",
      "findfont: Font family 'Comic Neue' not found.\n",
      "findfont: Font family 'xkcd' not found.\n",
      "findfont: Font family 'xkcd Script' not found.\n",
      "findfont: Font family 'Humor Sans' not found.\n",
      "findfont: Font family 'Comic Neue' not found.\n",
      "findfont: Font family 'xkcd' not found.\n",
      "findfont: Font family 'xkcd Script' not found.\n",
      "findfont: Font family 'Humor Sans' not found.\n",
      "findfont: Font family 'Comic Neue' not found.\n",
      "findfont: Font family 'xkcd' not found.\n",
      "findfont: Font family 'xkcd Script' not found.\n",
      "findfont: Font family 'Humor Sans' not found.\n",
      "findfont: Font family 'Comic Neue' not found.\n",
      "findfont: Font family 'xkcd' not found.\n",
      "findfont: Font family 'xkcd Script' not found.\n",
      "findfont: Font family 'Humor Sans' not found.\n",
      "findfont: Font family 'Comic Neue' not found.\n",
      "findfont: Font family 'xkcd' not found.\n",
      "findfont: Font family 'xkcd Script' not found.\n",
      "findfont: Font family 'Humor Sans' not found.\n",
      "findfont: Font family 'Comic Neue' not found.\n",
      "findfont: Font family 'xkcd' not found.\n",
      "findfont: Font family 'xkcd Script' not found.\n",
      "findfont: Font family 'Humor Sans' not found.\n",
      "findfont: Font family 'Comic Neue' not found.\n",
      "findfont: Font family 'xkcd' not found.\n",
      "findfont: Font family 'xkcd Script' not found.\n",
      "findfont: Font family 'Humor Sans' not found.\n",
      "findfont: Font family 'Comic Neue' not found.\n",
      "findfont: Font family 'xkcd' not found.\n",
      "findfont: Font family 'xkcd Script' not found.\n",
      "findfont: Font family 'Humor Sans' not found.\n",
      "findfont: Font family 'Comic Neue' not found.\n",
      "findfont: Font family 'xkcd' not found.\n",
      "findfont: Font family 'xkcd Script' not found.\n",
      "findfont: Font family 'Humor Sans' not found.\n",
      "findfont: Font family 'Comic Neue' not found.\n",
      "findfont: Font family 'xkcd' not found.\n",
      "findfont: Font family 'xkcd Script' not found.\n",
      "findfont: Font family 'Humor Sans' not found.\n",
      "findfont: Font family 'Comic Neue' not found.\n",
      "findfont: Font family 'xkcd' not found.\n",
      "findfont: Font family 'xkcd Script' not found.\n",
      "findfont: Font family 'Humor Sans' not found.\n",
      "findfont: Font family 'Comic Neue' not found.\n",
      "findfont: Font family 'xkcd' not found.\n",
      "findfont: Font family 'xkcd Script' not found.\n",
      "findfont: Font family 'Humor Sans' not found.\n",
      "findfont: Font family 'Comic Neue' not found.\n",
      "findfont: Font family 'xkcd' not found.\n",
      "findfont: Font family 'xkcd Script' not found.\n",
      "findfont: Font family 'Humor Sans' not found.\n",
      "findfont: Font family 'Comic Neue' not found.\n",
      "findfont: Font family 'xkcd' not found.\n",
      "findfont: Font family 'xkcd Script' not found.\n",
      "findfont: Font family 'Humor Sans' not found.\n",
      "findfont: Font family 'Comic Neue' not found.\n",
      "findfont: Font family 'xkcd' not found.\n",
      "findfont: Font family 'xkcd Script' not found.\n",
      "findfont: Font family 'Humor Sans' not found.\n",
      "findfont: Font family 'Comic Neue' not found.\n",
      "findfont: Font family 'xkcd' not found.\n",
      "findfont: Font family 'xkcd Script' not found.\n",
      "findfont: Font family 'Humor Sans' not found.\n",
      "findfont: Font family 'Comic Neue' not found.\n",
      "findfont: Font family 'xkcd' not found.\n",
      "findfont: Font family 'xkcd Script' not found.\n",
      "findfont: Font family 'Humor Sans' not found.\n",
      "findfont: Font family 'Comic Neue' not found.\n",
      "findfont: Font family 'xkcd' not found.\n",
      "findfont: Font family 'xkcd Script' not found.\n",
      "findfont: Font family 'Humor Sans' not found.\n",
      "findfont: Font family 'Comic Neue' not found.\n",
      "findfont: Font family 'xkcd' not found.\n",
      "findfont: Font family 'xkcd Script' not found.\n",
      "findfont: Font family 'Humor Sans' not found.\n",
      "findfont: Font family 'Comic Neue' not found.\n",
      "findfont: Font family 'xkcd' not found.\n",
      "findfont: Font family 'xkcd Script' not found.\n",
      "findfont: Font family 'Humor Sans' not found.\n",
      "findfont: Font family 'Comic Neue' not found.\n",
      "findfont: Font family 'xkcd' not found.\n",
      "findfont: Font family 'xkcd Script' not found.\n",
      "findfont: Font family 'Humor Sans' not found.\n",
      "findfont: Font family 'Comic Neue' not found.\n",
      "findfont: Font family 'xkcd' not found.\n",
      "findfont: Font family 'xkcd Script' not found.\n",
      "findfont: Font family 'Humor Sans' not found.\n",
      "findfont: Font family 'Comic Neue' not found.\n",
      "findfont: Font family 'xkcd' not found.\n",
      "findfont: Font family 'xkcd Script' not found.\n",
      "findfont: Font family 'Humor Sans' not found.\n",
      "findfont: Font family 'Comic Neue' not found.\n",
      "findfont: Font family 'xkcd' not found.\n",
      "findfont: Font family 'xkcd Script' not found.\n",
      "findfont: Font family 'Humor Sans' not found.\n",
      "findfont: Font family 'Comic Neue' not found.\n",
      "findfont: Font family 'xkcd' not found.\n",
      "findfont: Font family 'xkcd Script' not found.\n",
      "findfont: Font family 'Humor Sans' not found.\n",
      "findfont: Font family 'Comic Neue' not found.\n",
      "findfont: Font family 'xkcd' not found.\n",
      "findfont: Font family 'xkcd Script' not found.\n",
      "findfont: Font family 'Humor Sans' not found.\n",
      "findfont: Font family 'Comic Neue' not found.\n",
      "findfont: Font family 'xkcd' not found.\n",
      "findfont: Font family 'xkcd Script' not found.\n",
      "findfont: Font family 'Humor Sans' not found.\n",
      "findfont: Font family 'Comic Neue' not found.\n",
      "findfont: Font family 'xkcd' not found.\n",
      "findfont: Font family 'xkcd Script' not found.\n",
      "findfont: Font family 'Humor Sans' not found.\n",
      "findfont: Font family 'Comic Neue' not found.\n",
      "findfont: Font family 'xkcd' not found.\n",
      "findfont: Font family 'xkcd Script' not found.\n",
      "findfont: Font family 'Humor Sans' not found.\n",
      "findfont: Font family 'Comic Neue' not found.\n",
      "findfont: Font family 'xkcd' not found.\n",
      "findfont: Font family 'xkcd Script' not found.\n",
      "findfont: Font family 'Humor Sans' not found.\n",
      "findfont: Font family 'Comic Neue' not found.\n",
      "findfont: Font family 'xkcd' not found.\n",
      "findfont: Font family 'xkcd Script' not found.\n",
      "findfont: Font family 'Humor Sans' not found.\n",
      "findfont: Font family 'Comic Neue' not found.\n",
      "findfont: Font family 'xkcd' not found.\n",
      "findfont: Font family 'xkcd Script' not found.\n",
      "findfont: Font family 'Humor Sans' not found.\n",
      "findfont: Font family 'Comic Neue' not found.\n",
      "findfont: Font family 'xkcd' not found.\n",
      "findfont: Font family 'xkcd Script' not found.\n",
      "findfont: Font family 'Humor Sans' not found.\n",
      "findfont: Font family 'Comic Neue' not found.\n",
      "findfont: Font family 'xkcd' not found.\n",
      "findfont: Font family 'xkcd Script' not found.\n",
      "findfont: Font family 'Humor Sans' not found.\n",
      "findfont: Font family 'Comic Neue' not found.\n",
      "findfont: Font family 'xkcd' not found.\n",
      "findfont: Font family 'xkcd Script' not found.\n",
      "findfont: Font family 'Humor Sans' not found.\n",
      "findfont: Font family 'Comic Neue' not found.\n",
      "findfont: Font family 'xkcd' not found.\n",
      "findfont: Font family 'xkcd Script' not found.\n",
      "findfont: Font family 'Humor Sans' not found.\n",
      "findfont: Font family 'Comic Neue' not found.\n",
      "findfont: Font family 'xkcd' not found.\n",
      "findfont: Font family 'xkcd Script' not found.\n",
      "findfont: Font family 'Humor Sans' not found.\n",
      "findfont: Font family 'Comic Neue' not found.\n",
      "findfont: Font family 'xkcd' not found.\n",
      "findfont: Font family 'xkcd Script' not found.\n",
      "findfont: Font family 'Humor Sans' not found.\n",
      "findfont: Font family 'Comic Neue' not found.\n",
      "findfont: Font family 'xkcd' not found.\n",
      "findfont: Font family 'xkcd Script' not found.\n",
      "findfont: Font family 'Humor Sans' not found.\n",
      "findfont: Font family 'Comic Neue' not found.\n",
      "findfont: Font family 'xkcd' not found.\n",
      "findfont: Font family 'xkcd Script' not found.\n",
      "findfont: Font family 'Humor Sans' not found.\n",
      "findfont: Font family 'Comic Neue' not found.\n",
      "findfont: Font family 'xkcd' not found.\n",
      "findfont: Font family 'xkcd Script' not found.\n",
      "findfont: Font family 'Humor Sans' not found.\n",
      "findfont: Font family 'Comic Neue' not found.\n",
      "findfont: Font family 'xkcd' not found.\n",
      "findfont: Font family 'xkcd Script' not found.\n",
      "findfont: Font family 'Humor Sans' not found.\n",
      "findfont: Font family 'Comic Neue' not found.\n",
      "findfont: Font family 'xkcd' not found.\n",
      "findfont: Font family 'xkcd Script' not found.\n",
      "findfont: Font family 'Humor Sans' not found.\n",
      "findfont: Font family 'Comic Neue' not found.\n",
      "findfont: Font family 'xkcd' not found.\n",
      "findfont: Font family 'xkcd Script' not found.\n",
      "findfont: Font family 'Humor Sans' not found.\n",
      "findfont: Font family 'Comic Neue' not found.\n",
      "findfont: Font family 'xkcd' not found.\n",
      "findfont: Font family 'xkcd Script' not found.\n",
      "findfont: Font family 'Humor Sans' not found.\n",
      "findfont: Font family 'Comic Neue' not found.\n",
      "findfont: Font family 'xkcd' not found.\n",
      "findfont: Font family 'xkcd Script' not found.\n",
      "findfont: Font family 'Humor Sans' not found.\n",
      "findfont: Font family 'Comic Neue' not found.\n",
      "findfont: Font family 'xkcd' not found.\n",
      "findfont: Font family 'xkcd Script' not found.\n",
      "findfont: Font family 'Humor Sans' not found.\n",
      "findfont: Font family 'Comic Neue' not found.\n",
      "findfont: Font family 'xkcd' not found.\n",
      "findfont: Font family 'xkcd Script' not found.\n",
      "findfont: Font family 'Humor Sans' not found.\n",
      "findfont: Font family 'Comic Neue' not found.\n",
      "findfont: Font family 'xkcd' not found.\n",
      "findfont: Font family 'xkcd Script' not found.\n",
      "findfont: Font family 'Humor Sans' not found.\n",
      "findfont: Font family 'Comic Neue' not found.\n"
     ]
    },
    {
     "data": {
      "image/png": "[encoded data removed]",
      "text/plain": [
       "<Figure size 640x480 with 1 Axes>"
      ]
     },
     "metadata": {},
     "output_type": "display_data"
    }
   ],
   "source": [
    "\n",
    "import matplotlib.pyplot as plt\n",
    "\n",
    "# Create a plot with xkcd style\n",
    "with plt.xkcd():\n",
    "    fig, ax = plt.subplots()\n",
    "    ax.set_xlabel('Physical Therapy')\n",
    "    ax.set_ylabel('Power Lifting')\n",
    "    ax.set_title('Where Strength Training Lies')\n",
    "    \n",
    "    # Create a triangular-shaped path\n",
    "    x = [0.2, 0.8, 0.2, 0.2]\n",
    "    y = [0.2, 0.2, 0.8, 0.2]\n",
    "    path = plt.Polygon(list(zip(x, y)))\n",
    "    \n",
    "    # Create a plot and fill the path with a color\n",
    "    ax.add_patch(path)\n",
    "    ax.set_xlim([0, 1])\n",
    "    ax.set_ylim([0, 1])\n",
    "    ax.set_aspect('equal')\n",
    "    ax.fill(x, y, 'lightblue')\n",
    "    \n",
    "    plt.show()"
   ]
  },
  {
   "cell_type": "code",
   "execution_count": 13,
   "id": "cbe1c63d-fb56-4a74-a4aa-ef8e5cd3680a",
   "metadata": {},
   "outputs": [
    {
     "data": {
      "image/png": "[encoded data removed]",
      "text/plain": [
       "<Figure size 1600x900 with 1 Axes>"
      ]
     },
     "metadata": {},
     "output_type": "display_data"
    }
   ],
   "source": [
    "\n",
    "# Here's the challenge mode for all you math whizzes.\n",
    "# Sample three numbers x, y, z uniformly at random in [0, 1],\n",
    "# and compute (xy)^z. What distribution describes this result?\n",
    "# Answer: It's uniform!\n",
    "from pandas import Series\n",
    "import random\n",
    "import matplotlib.pyplot as plt\n",
    "\n",
    "fig, ax = plt.subplots(figsize=(16, 9))\n",
    "Series([(x*y)**z for x, y, z in zip(\n",
    "    [random.uniform(0, 1) for i in range(1_000)], [random.uniform(0, 1) for i in range(1_000)], [random.uniform(0, 1) for i in range(1_000)]\n",
    ")]).hist(\n",
    "    cumulative=False, density=1, bins=100, ax=ax, align='mid', rwidth=.9\n",
    ")\n",
    "ax.grid(False)\n",
    "\n",
    "# Add annotation\n",
    "ax.annotate(r'$(xy)^z$ where $x, y, z \\sim U(0, 1)$', xy=(0.5, 0.95), xycoords='axes fraction', fontsize=12, ha='center')\n",
    "plt.show()"
   ]
  },
  {
   "cell_type": "code",
   "execution_count": 11,
   "id": "3082cea1-ceb7-42e3-b69d-0c2b336810dd",
   "metadata": {},
   "outputs": [
    {
     "name": "stdout",
     "output_type": "stream",
     "text": [
      "Filling in the last-name field with Babbitt\n"
     ]
    }
   ],
   "source": [
    "\n",
    "# <input class=\"input__input error text-input-error error--is-inline\" autocomplete=\"on\" data-tracking-control-name=\"registration-frontend_join-form-name_last-name\" id=\"last-name\" name=\"last-name\" placeholder=\"Last name\" type=\"text\" required=\"required\">\n",
    "wsu.fill_in_field(driver, field_name='last-name',\n",
    "                   field_value='Babbitt',\n",
    "                   input_css='#last-name', verbose=True)"
   ]
  },
  {
   "cell_type": "code",
   "execution_count": 10,
   "id": "b4577d79-88f0-44bc-9df2-e8006ae0d378",
   "metadata": {},
   "outputs": [
    {
     "name": "stdout",
     "output_type": "stream",
     "text": [
      "Filling in the first-name field with Dave\n"
     ]
    }
   ],
   "source": [
    "\n",
    "# <input class=\"input__input error text-input-error error--is-inline\" autocomplete=\"on\" data-tracking-control-name=\"registration-frontend_join-form-name_first-name\" id=\"first-name\" name=\"first-name\" placeholder=\"First name\" type=\"text\" required=\"required\">\n",
    "wsu.fill_in_field(driver, field_name='first-name',\n",
    "                   field_value='Dave',\n",
    "                   input_css='#first-name', verbose=True)"
   ]
  },
  {
   "cell_type": "code",
   "execution_count": 12,
   "id": "b68cf838-2758-4fca-8ab4-f6d192cfaf86",
   "metadata": {},
   "outputs": [
    {
     "name": "stdout",
     "output_type": "stream",
     "text": [
      "Clicking //*[@id=\"join-form-submit\"]\n"
     ]
    }
   ],
   "source": [
    "\n",
    "# <button class=\"join-form__form-body-submit-button join-form__form-body-submit-button--no-agreement-text\" data-tracking-control-name=\"registration-frontend_join-form-submit\" id=\"join-form-submit\" value=\"Continue\" type=\"submit\" style=\"\">Continue</button>\n",
    "button_xpath = '//*[@id=\"join-form-submit\"]'\n",
    "wsu.click_by_xpath(driver, xpath=button_xpath, verbose=True) "
   ]
  },
  {
   "cell_type": "code",
   "execution_count": 13,
   "id": "91a128c0-6ee7-49ef-be6a-b8f7829e2515",
   "metadata": {},
   "outputs": [
    {
     "name": "stdout",
     "output_type": "stream",
     "text": [
      "Getting URL: https://www.linkedin.com/home\n"
     ]
    }
   ],
   "source": [
    "\n",
    "wsu.driver_get_url(driver, wsu.linkedin_url, verbose=True)"
   ]
  },
  {
   "cell_type": "code",
   "execution_count": 14,
   "id": "60526942-96a8-4994-95b6-e6b50f0ae21d",
   "metadata": {},
   "outputs": [
    {
     "name": "stdout",
     "output_type": "stream",
     "text": [
      "Clicking /html/body/main/section[1]/div/div/a\n"
     ]
    }
   ],
   "source": [
    "\n",
    "# <a class=\"sign-in-form__sign-in-cta btn-md btn-secondary babybear:w-full block mb-3 mx-auto min-h-[40px] py-1\" href=\"https://www.linkedin.com/login\" data-test-id=\"home-hero-sign-in-cta\" data-tracking-control-name=\"homepage-basic_home-hero-sign-in-cta\" data-tracking-will-navigate=\"\" data-tracking-client-ingraph=\"\">Sign in with email</a>\n",
    "button_xpath = '/html/body/main/section[1]/div/div/a'\n",
    "wsu.click_by_xpath(driver, xpath=button_xpath, verbose=True)"
   ]
  },
  {
   "cell_type": "code",
   "execution_count": 15,
   "id": "816f01e2-24b8-418a-a4aa-fb9100afac97",
   "metadata": {},
   "outputs": [
    {
     "name": "stdout",
     "output_type": "stream",
     "text": [
      "Filling in the session_key field with dave.babbitt@gmail.com\n"
     ]
    }
   ],
   "source": [
    "\n",
    "# <input id=\"username\" name=\"session_key\" aria-describedby=\"error-for-username\" required=\"\" validation=\"email|tel\" value=\"\" autofocus=\"\" autocomplete=\"username\" aria-label=\"Email or phone\" type=\"text\">\n",
    "wsu.fill_in_field(driver, field_name='session_key',\n",
    "                   field_value=wsu.secrets_json['linkedin']['email'],\n",
    "                   input_css='#username',\n",
    "                   verbose=True)"
   ]
  },
  {
   "cell_type": "code",
   "execution_count": 16,
   "id": "4b0ccf3c-e9f4-44b6-bde2-092476974739",
   "metadata": {},
   "outputs": [],
   "source": [
    "\n",
    "# <input id=\"password\" aria-describedby=\"error-for-password\" name=\"session_password\" required=\"\" validation=\"password\" autocomplete=\"current-password\" aria-label=\"Password\" type=\"password\">\n",
    "wsu.fill_in_field(driver, field_name='session_password',\n",
    "                   field_value=wsu.secrets_json['linkedin']['password'],\n",
    "                   input_css='#password', verbose=False)"
   ]
  },
  {
   "cell_type": "code",
   "execution_count": 17,
   "id": "dd04b8ec-f0be-4b6f-b393-776221d76738",
   "metadata": {},
   "outputs": [
    {
     "name": "stdout",
     "output_type": "stream",
     "text": [
      "Clicking /html/body/div[1]/main/div[2]/div[1]/form/div[3]/button\n"
     ]
    }
   ],
   "source": [
    "\n",
    "# <button class=\"btn__primary--large from__button--floating\" data-litms-control-urn=\"login-submit\" aria-label=\"Sign in\" type=\"submit\">Sign in</button>\n",
    "button_xpath = '/html/body/div[1]/main/div[2]/div[1]/form/div[3]/button'\n",
    "wsu.click_by_xpath(driver, xpath=button_xpath, verbose=True) "
   ]
  },
  {
   "cell_type": "code",
   "execution_count": null,
   "id": "37033465-790f-464e-ba75-1462f0b4d5a7",
   "metadata": {},
   "outputs": [],
   "source": [
    "\n",
    "\n",
    "# Visualize the clusters in a scatter plot\n",
    "plt.figure(figsize=(10, 8))\n",
    "scatter = plt.scatter(X_pca[:, 0], X_pca[:, 1], c=new_sequence, cmap='viridis')\n",
    "plt.title('Document Cluster Analysis')\n",
    "plt.xlabel('Principal Component 1')\n",
    "plt.ylabel('Principal Component 2')\n",
    "integer_to_string_map = {v: k for k, v in string_to_integer_map.items()}\n",
    "plt.legend(*scatter.legend_elements(), title='Clusters')\n",
    "plt.show()"
   ]
  },
  {
   "cell_type": "code",
   "execution_count": 49,
   "id": "6bbbd254-16d5-4f50-9315-ee09ba39799d",
   "metadata": {},
   "outputs": [],
   "source": [
    "\n",
    "wikipedia_url = 'https://en.wikipedia.org/wiki/ISO_3166-1_alpha-3'\n",
    "page_soup = nu.get_page_soup(wikipedia_url, verbose=False)\n",
    "\n",
    "# <div class=\"div-col\" style=\"column-width: 20em;\">\n",
    "div_soups_list = page_soup.find_all('div', attrs={'class': 'div-col'})\n",
    "li_soups_list = div_soups_list[0].find_all('li')\n",
    "alpha3_to_country_dict = {}\n",
    "country_to_alpha3_dict = {}\n",
    "for li_soup in li_soups_list:\n",
    "    for span_soup in li_soup.find_all('span', attrs={'class': 'monospaced'}):\n",
    "        tla = span_soup.text\n",
    "    for a_soup in li_soup.find_all('a', attrs={'title': True}):\n",
    "        country = a_soup.text\n",
    "    alpha3_to_country_dict[tla] = country\n",
    "    country_to_alpha3_dict[country] = tla"
   ]
  },
  {
   "cell_type": "code",
   "execution_count": 1,
   "id": "62a6e3fe-d2c6-4ac2-aa36-3fb338308077",
   "metadata": {},
   "outputs": [
    {
     "name": "stdout",
     "output_type": "stream",
     "text": [
      "Pretty printing has been turned OFF\n"
     ]
    }
   ],
   "source": [
    "\n",
    "%pprint"
   ]
  },
  {
   "cell_type": "markdown",
   "id": "03854b7e-276c-44dd-a9d4-55ca50bb4fec",
   "metadata": {
    "tags": []
   },
   "source": [
    "\n",
    "---\n",
    "# Load needed libraries and functions"
   ]
  },
  {
   "cell_type": "code",
   "execution_count": 2,
   "id": "8528c715-7ed7-48de-8675-3f35973ff7bb",
   "metadata": {},
   "outputs": [],
   "source": [
    "\n",
    "import os\n",
    "import re\n",
    "import sys\n",
    "\n",
    "# Insert at 1, 0 is the script path (or '' in REPL)\n",
    "if ('../py' not in sys.path): sys.path.insert(1, '../py')"
   ]
  },
  {
   "cell_type": "code",
   "execution_count": 3,
   "id": "170bffd6-f9e9-4aa2-b6bc-13cfb693fc0a",
   "metadata": {},
   "outputs": [],
   "source": [
    "\n",
    "# Get the Storage object\n",
    "from storage import Storage\n",
    "s = Storage(\n",
    "    data_folder_path=os.path.abspath('../data'),\n",
    "    saves_folder_path=os.path.abspath('../saves')\n",
    ")"
   ]
  },
  {
   "cell_type": "code",
   "execution_count": 4,
   "id": "882f3b8f-defb-445f-a7a7-73010c04d068",
   "metadata": {},
   "outputs": [],
   "source": [
    "\n",
    "# Get all our file names data\n",
    "import pandas as pd\n",
    "\n",
    "# Get the HeaderAnalysis object\n",
    "from ha_utils import HeaderAnalysis\n",
    "ha = HeaderAnalysis(s=s, verbose=False)\n",
    "\n",
    "# Get the WebScrapingUtilities object\n",
    "from scrape_utils import WebScrapingUtilities\n",
    "wsu = WebScrapingUtilities(\n",
    "    s=s,\n",
    "    secrets_json_path=os.path.abspath('../data/secrets/jh_secrets.json')\n",
    ")\n",
    "uri = wsu.secrets_json['neo4j']['connect_url']\n",
    "user =  wsu.secrets_json['neo4j']['username']\n",
    "password = wsu.secrets_json['neo4j']['password']\n",
    "\n",
    "# Get the CypherUtilities object and Neo4j driver\n",
    "from cypher_utils import CypherUtilities\n",
    "cu = CypherUtilities(\n",
    "    uri=uri, user=user, password=password, driver=None, s=s, ha=ha\n",
    ")\n",
    "\n",
    "cypher_str = '''\n",
    "    MATCH (fn:FileNames)\n",
    "    RETURN fn;'''\n",
    "row_objs_list = cu.get_execution_results(cypher_str, verbose=False)\n",
    "hunting_df = pd.DataFrame(\n",
    "    [{k: v for k, v in row_obj['fn'].items()} for row_obj in row_objs_list]\n",
    ")"
   ]
  },
  {
   "cell_type": "code",
   "execution_count": 5,
   "id": "ebcf1e05-ea1d-4e77-8db1-960d219fd762",
   "metadata": {},
   "outputs": [
    {
     "name": "stdout",
     "output_type": "stream",
     "text": [
      "Saving to C:\\Users\\daveb\\OneDrive\\Documents\\GitHub\\job-hunting\\saves\\csv\\hunting_df.csv\n"
     ]
    }
   ],
   "source": [
    "\n",
    "s.save_dataframes(hunting_df=hunting_df)"
   ]
  },
  {
   "cell_type": "code",
   "execution_count": 6,
   "id": "d5387dd1-7da4-45f4-9732-a8dad97cc3d8",
   "metadata": {},
   "outputs": [],
   "source": [
    "\n",
    "# Get the databased quals\n",
    "cypher_str = '''\n",
    "    MATCH (qs:QualificationStrings)\n",
    "    RETURN qs;'''\n",
    "row_objs_list = cu.get_execution_results(cypher_str, verbose=False)\n",
    "basic_quals_df = pd.DataFrame(\n",
    "    [{k: v for k, v in row_obj['qs'].items()} for row_obj in row_objs_list]\n",
    ")"
   ]
  },
  {
   "cell_type": "code",
   "execution_count": 7,
   "id": "46d4be2d-8e87-4a6f-bb55-ee8585295f9e",
   "metadata": {},
   "outputs": [
    {
     "name": "stdout",
     "output_type": "stream",
     "text": [
      "Saving to C:\\Users\\daveb\\OneDrive\\Documents\\GitHub\\job-hunting\\saves\\csv\\basic_quals_df.csv\n"
     ]
    }
   ],
   "source": [
    "\n",
    "s.save_dataframes(basic_quals_df=basic_quals_df)"
   ]
  },
  {
   "cell_type": "code",
   "execution_count": null,
   "id": "d850af3b-8e34-4295-8549-6ac35f75defc",
   "metadata": {},
   "outputs": [],
   "source": []
  }
 ],
 "metadata": {
  "kernelspec": {
   "display_name": "Job Hunting (Python 3.10.9)",
   "language": "python",
   "name": "jh_env"
  },
  "language_info": {
   "codemirror_mode": {
    "name": "ipython",
    "version": 3
   },
   "file_extension": ".py",
   "mimetype": "text/x-python",
   "name": "python",
   "nbconvert_exporter": "python",
   "pygments_lexer": "ipython3",
   "version": "3.10.9"
  }
 },
 "nbformat": 4,
 "nbformat_minor": 5
}
