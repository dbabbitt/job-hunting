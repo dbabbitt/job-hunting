{
 "cells": [
  {
   "cell_type": "code",
   "execution_count": 10,
   "metadata": {},
   "outputs": [],
   "source": [
    "\n",
    "# sqlcmd -S DAVEZ-ASUS-LAPT\\MSSQLSERVER01 -E\n",
    "connection_str = 'Server=localhost\\MSSQLSERVER01;Database=master;Trusted_Connection=True;'"
   ]
  },
  {
   "cell_type": "code",
   "execution_count": 12,
   "metadata": {},
   "outputs": [
    {
     "name": "stdout",
     "output_type": "stream",
     "text": [
      "('master', 'dbo', 'spt_fallback_db', 'BASE TABLE')\n",
      "('master', 'dbo', 'spt_fallback_dev', 'BASE TABLE')\n",
      "('master', 'dbo', 'spt_fallback_usg', 'BASE TABLE')\n",
      "('master', 'dbo', 'spt_values', 'VIEW')\n",
      "('master', 'dbo', 'spt_monitor', 'BASE TABLE')\n",
      "('master', 'dbo', 'MSreplication_options', 'BASE TABLE')\n"
     ]
    }
   ],
   "source": [
    "\n",
    "import pyodbc\n",
    "\n",
    "conn = pyodbc.connect(\n",
    "    'Driver={SQL Server};'\n",
    "    'Server=localhost\\MSSQLSERVER01;'\n",
    "    'Database=master;'\n",
    "    'Trusted_Connection=True;'\n",
    "    #'UID=user;'\n",
    "    #'PWD=password;'\n",
    " )\n",
    "\n",
    "cursor = conn.cursor()\n",
    "cursor.execute('SELECT * FROM INFORMATION_SCHEMA.TABLES;')\n",
    "\n",
    "for row in cursor:\n",
    "    print(row)"
   ]
  },
  {
   "cell_type": "code",
   "execution_count": 13,
   "metadata": {},
   "outputs": [
    {
     "data": {
      "text/plain": [
       "['conn.add_output_converter',\n",
       " 'conn.autocommit',\n",
       " 'conn.clear_output_converters',\n",
       " 'conn.close',\n",
       " 'conn.commit',\n",
       " 'conn.cursor',\n",
       " 'conn.execute',\n",
       " 'conn.get_output_converter',\n",
       " 'conn.getinfo',\n",
       " 'conn.maxwrite',\n",
       " 'conn.remove_output_converter',\n",
       " 'conn.rollback',\n",
       " 'conn.searchescape',\n",
       " 'conn.set_attr',\n",
       " 'conn.setdecoding',\n",
       " 'conn.setencoding',\n",
       " 'conn.timeout']"
      ]
     },
     "execution_count": 13,
     "metadata": {},
     "output_type": "execute_result"
    }
   ],
   "source": [
    "\n",
    "[f'conn.{fn}' for fn in dir(conn) if not fn.startswith('_')]"
   ]
  },
  {
   "cell_type": "code",
   "execution_count": 16,
   "metadata": {},
   "outputs": [
    {
     "data": {
      "text/plain": [
       "\u001b[1;31mDocstring:\u001b[0m\n",
       "getinfo(type) --> str | int | bool\n",
       "\n",
       "Calls SQLGetInfo, passing `type`, and returns the result formatted as a Python object.\n",
       "\u001b[1;31mType:\u001b[0m      builtin_function_or_method\n"
      ]
     },
     "metadata": {},
     "output_type": "display_data"
    }
   ],
   "source": [
    "\n",
    "\n",
    "conn.getinfo()"
   ]
  },
  {
   "cell_type": "code",
   "execution_count": 3,
   "metadata": {},
   "outputs": [
    {
     "name": "stdout",
     "output_type": "stream",
     "text": [
      "C:\\Users\\dev\\Anaconda3\\envs\\jh\\python.exe -m pip install --upgrade pyodbc\n",
      "Collecting pyodbc\n",
      "  Downloading pyodbc-4.0.30-cp39-cp39-win_amd64.whl (67 kB)\n",
      "Installing collected packages: pyodbc\n",
      "Successfully installed pyodbc-4.0.30\n"
     ]
    }
   ],
   "source": [
    "\n",
    "import sys\n",
    "\n",
    "command_str = f'{sys.executable} -m pip install --upgrade pyodbc'\n",
    "print(command_str)\n",
    "!{command_str}"
   ]
  },
  {
   "cell_type": "code",
   "execution_count": null,
   "metadata": {},
   "outputs": [],
   "source": []
  }
 ],
 "metadata": {
  "kernelspec": {
   "display_name": "Job Hunting (Python 3.9.0)",
   "language": "python",
   "name": "jh"
  },
  "language_info": {
   "codemirror_mode": {
    "name": "ipython",
    "version": 3
   },
   "file_extension": ".py",
   "mimetype": "text/x-python",
   "name": "python",
   "nbconvert_exporter": "python",
   "pygments_lexer": "ipython3",
   "version": "3.9.0"
  }
 },
 "nbformat": 4,
 "nbformat_minor": 4
}
