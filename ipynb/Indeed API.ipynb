{
 "cells": [
  {
   "cell_type": "markdown",
   "metadata": {},
   "source": [
    "\n",
    "BS in Statistics, Mathematics, Computer Science or another quantitative field.\n",
    "A minimum of 3 years experience manipulating data sets and building GLM/regression models, ensemble decision trees and neural networks\n",
    "Strong problem solving skills with an emphasis on product development\n",
    "Experience using statistical computer languages (Python, R, Scala, SQL, etc.) to manipulate data and draw insights from large data sets\n",
    "Experience using machine learning libraries such as TensorFlow, Keras, SparkML etc.\n",
    "Experience working with and creating data architectures\n",
    "Knowledge of advanced statistical techniques and concepts (regression, properties of distributions, statistical tests and proper usage, etc.) and experience with applications\n",
    "Excellent written and verbal communication skills for coordinating across teams\n",
    "A drive to learn and master new technologies and techniques\n",
    "Experience with big data analytical frameworks such as Spark is highly preferred\n",
    "Experience analyzing data from 3rd party providers: Google Knowledge Graph, Wikidata, etc. is highly preferred\n",
    "Experience visualizing/presenting data for stakeholders using: Looker, PowerBI, Tableau, etc."
   ]
  },
  {
   "cell_type": "code",
   "execution_count": 1,
   "metadata": {},
   "outputs": [
    {
     "name": "stdout",
     "output_type": "stream",
     "text": [
      "C:\\Users\\dev\\anaconda3\\python.exe -m pip install --upgrade indeed\n",
      "Collecting indeed\n",
      "  Downloading indeed-0.0.4.tar.gz (1.2 kB)\n",
      "Collecting requests==2.0.0\n",
      "  Downloading requests-2.0.0-py2.py3-none-any.whl (391 kB)\n",
      "Building wheels for collected packages: indeed\n",
      "  Building wheel for indeed (setup.py): started\n",
      "  Building wheel for indeed (setup.py): finished with status 'done'\n",
      "  Created wheel for indeed: filename=indeed-0.0.4-py3-none-any.whl size=1885 sha256=65815c327630beb94a0d3f97e4266d7ac023bbd03960e67e8f4202b3e5ce2eb0\n",
      "  Stored in directory: c:\\users\\dev\\appdata\\local\\pip\\cache\\wheels\\47\\1c\\e9\\c4cf51756b2f3397f9e584dd8901135d1f934a5670f74e3655\n",
      "Successfully built indeed\n",
      "Installing collected packages: requests, indeed\n",
      "  Attempting uninstall: requests\n",
      "    Found existing installation: requests 2.22.0\n",
      "    Uninstalling requests-2.22.0:\n",
      "      Successfully uninstalled requests-2.22.0\n",
      "Successfully installed indeed-0.0.4 requests-2.0.0\n"
     ]
    },
    {
     "name": "stderr",
     "output_type": "stream",
     "text": [
      "ERROR: sphinx 2.4.0 has requirement requests>=2.5.0, but you'll have requests 2.0.0 which is incompatible.\n",
      "ERROR: conda 4.8.2 has requirement requests>=2.12.4, but you'll have requests 2.0.0 which is incompatible.\n",
      "ERROR: anaconda-client 1.7.2 has requirement requests>=2.9.1, but you'll have requests 2.0.0 which is incompatible.\n"
     ]
    }
   ],
   "source": [
    "\n",
    "import sys\n",
    "\n",
    "command_str = '{sys.executable} -m pip install --upgrade indeed'.format(sys=sys)\n",
    "print(command_str)\n",
    "!{command_str}"
   ]
  },
  {
   "cell_type": "code",
   "execution_count": null,
   "metadata": {},
   "outputs": [],
   "source": []
  }
 ],
 "metadata": {
  "kernelspec": {
   "display_name": "Python 3",
   "language": "python",
   "name": "python3"
  },
  "language_info": {
   "codemirror_mode": {
    "name": "ipython",
    "version": 3
   },
   "file_extension": ".py",
   "mimetype": "text/x-python",
   "name": "python",
   "nbconvert_exporter": "python",
   "pygments_lexer": "ipython3",
   "version": "3.7.8"
  }
 },
 "nbformat": 4,
 "nbformat_minor": 4
}
