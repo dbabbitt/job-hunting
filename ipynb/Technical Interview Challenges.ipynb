{
 "cells": [
  {
   "cell_type": "markdown",
   "id": "7b050479-5c26-4d8a-a5e0-a05fa10d0d75",
   "metadata": {},
   "source": [
    "\n",
    "# Data Scientist Technical Interview Challenge\n",
    "----"
   ]
  },
  {
   "cell_type": "markdown",
   "id": "433ff257-0569-44f6-b9f1-e99233b6fdc7",
   "metadata": {},
   "source": [
    "\n",
    "## Date Formats\n",
    "A csv file attached to the email contains Pison device data. Each row is a sample. The\n",
    "columns are as follows:\n",
    "- timestamp (milliseconds with microsecond precision);\n",
    "- channel 0 raw, channel 1 raw, channel 0 high-passed, and channel 1 high-passed (all in ADC counts);\n",
    "- quaternion x, y, z, and w;\n",
    "- gyroscope x, y, and z in degrees per second;\n",
    "- accelerometer x, y, and z in meters per second squared;\n",
    "- body movement label;\n",
    "- and finally, repetition number (where there is one \"repetition\" for a given prompting window).\n",
    "\n",
    "The body movement coding is:\n",
    "- 0 = standing #1,\n",
    "- 1 = standing #2,\n",
    "- 2 = walking,\n",
    "- 3 = walking fast,\n",
    "- 4 = running.\n",
    "\n",
    "The accelerometer and gyroscope coordinates follow the ENU convention:\n",
    "- The X-axis points East.\n",
    "- The Y-axis points North.\n",
    "- The Z-axis points Up.\n",
    "\n",
    "The quaternion coordinates follow the convention:\n",
    "- The X-axis points West.\n",
    "- The Y-axis points South.\n",
    "- The Z-axis points Up."
   ]
  },
  {
   "cell_type": "markdown",
   "id": "1b4b0a12-447a-4b77-b60b-237a83459925",
   "metadata": {},
   "source": [
    "\n",
    "## Problem Statement Summary\n",
    "Your task is to build a classifier that can determine what the user is doing with their wrist during each whole body movement.\n",
    "- Determine how many different wrist-motion classes there are, and (if possible) use features to identify what motion each class is representing.\n",
    "- Produce quantitative estimates of the generalization performance of your classifier.\n",
    "- Provide a brief (1-2 page report) describing your process, methods, and results.\n",
    "- Please perform this exercise in Python, and produce clean, readable code that could be readily used by other engineers in a cloud-based (i.e., notebook server) environment.\n",
    "- Be sure to publish your code to a public GitHub repository and link this repository in your report.\n",
    "\n",
    "Have fun!"
   ]
  },
  {
   "cell_type": "markdown",
   "id": "f49e0e8e-1ebd-4d08-b9ac-3928197231de",
   "metadata": {},
   "source": [
    "\n",
    "## Import packages and function definition"
   ]
  },
  {
   "cell_type": "markdown",
   "id": "02619191-433b-4e13-ba68-64522d263eb2",
   "metadata": {},
   "source": [
    "\n",
    "## Data Exploration\n",
    "\n",
    "Much of the time spent on this task is going to be spent getting familiar with the data, learning as much as possible from its structure and searching for transformations that might expose measurable differences between gestures that would aid in classification. This section of the report will describe some of that process."
   ]
  },
  {
   "cell_type": "code",
   "execution_count": null,
   "id": "14a170a3-34a7-42fe-9504-c5505acea8a0",
   "metadata": {},
   "outputs": [],
   "source": []
  }
 ],
 "metadata": {
  "kernelspec": {
   "display_name": "Python 3 (ipykernel)",
   "language": "python",
   "name": "python3"
  },
  "language_info": {
   "codemirror_mode": {
    "name": "ipython",
    "version": 3
   },
   "file_extension": ".py",
   "mimetype": "text/x-python",
   "name": "python",
   "nbconvert_exporter": "python",
   "pygments_lexer": "ipython3",
   "version": "3.9.7"
  }
 },
 "nbformat": 4,
 "nbformat_minor": 5
}
