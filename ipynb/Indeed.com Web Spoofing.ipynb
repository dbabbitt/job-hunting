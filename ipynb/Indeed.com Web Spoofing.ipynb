{
 "cells": [
  {
   "cell_type": "code",
   "execution_count": null,
   "id": "legitimate-variety",
   "metadata": {},
   "outputs": [],
   "source": []
  },
  {
   "cell_type": "code",
   "execution_count": 1,
   "id": "clinical-change",
   "metadata": {},
   "outputs": [
    {
     "name": "stdout",
     "output_type": "stream",
     "text": [
      "Pretty printing has been turned OFF\n"
     ]
    }
   ],
   "source": [
    "\n",
    "%pprint"
   ]
  },
  {
   "cell_type": "code",
   "execution_count": 2,
   "id": "narrow-record",
   "metadata": {},
   "outputs": [],
   "source": [
    "\n",
    "import sys\n",
    "\n",
    "# Insert at 1, 0 is the script path (or '' in REPL)\n",
    "sys.path.insert(1, '../py')"
   ]
  },
  {
   "cell_type": "code",
   "execution_count": 3,
   "id": "experimental-melbourne",
   "metadata": {},
   "outputs": [
    {
     "name": "stdout",
     "output_type": "stream",
     "text": [
      "C:\\Users\\dev\\Documents\\Repositories\\job-hunting\\ipynb\\Indeed.com Web Spoofing.ipynb\n",
      "['s.attempt_to_pickle', 's.data_csv_folder', 's.data_folder', 's.encoding_type', 's.load_csv', 's.load_dataframes', 's.load_object', 's.pickle_exists', 's.save_dataframes', 's.saves_csv_folder', 's.saves_folder', 's.saves_pickle_folder', 's.store_objects']\n",
      "['u.click_by_css', 'u.click_web_element', 'u.conjunctify_nouns', 'u.driver_get_url', 'u.enter_text_by_css', 'u.fill_in_field', 'u.fill_in_textarea', 'u.get_chrome_exe', 'u.get_contains_list', 'u.get_div', 'u.get_driver', 'u.get_dupes', 'u.get_last_sunday', 'u.get_web_element', 'u.get_web_element_text_css', 'u.indeed_url', 'u.key_in_search', 'u.log_into_indeed', 'u.move_to_element_by_css', 'u.obscure_regex', 'u.s', 'u.secrets_json', 'u.select_all', 'u.similar', 'u.unobscure_element', 'u.wait_for']\n"
     ]
    },
    {
     "data": {
      "text/plain": [
       "['Config', 'In', 'Out', 'RandomForestClassifier', 'exit', 'get_all_files_containing', 'get_classifier', 'get_data_structs_dataframe', 'get_datastructure_prediction', 'get_dir_tree', 'get_importances', 'get_input_sample', 'get_ipython', 'get_module_version', 'get_modules_dataframe', 'get_notebook_path', 'get_struct_name', 'ipykernel', 'json', 'jupyter_config_dir', 'notebook_path', 'notebookapp', 'np', 'os', 'pd', 'preprocess_data', 'quit', 're', 's', 'scrape_utils', 'subprocess', 'sys', 'u', 'urllib']"
      ]
     },
     "execution_count": 3,
     "metadata": {},
     "output_type": "execute_result"
    }
   ],
   "source": [
    "\n",
    "%run ../load_magic/environment.py\n",
    "import scrape_utils\n",
    "u = scrape_utils.WebScrapingUtilities()\n",
    "s = u.s\n",
    "notebook_path = get_notebook_path()\n",
    "print(notebook_path)\n",
    "print(['s.{}'.format(fn) for fn in dir(s) if not fn.startswith('_')])\n",
    "print(['u.{}'.format(fn) for fn in dir(u) if not fn.startswith('_')])\n",
    "[fn for fn in dir() if not fn.startswith('_')]"
   ]
  },
  {
   "cell_type": "code",
   "execution_count": 4,
   "id": "permanent-ordinance",
   "metadata": {},
   "outputs": [
    {
     "name": "stdout",
     "output_type": "stream",
     "text": [
      "Getting the Chrome driver\n"
     ]
    }
   ],
   "source": [
    "\n",
    "driver = u.get_driver('Chrome')"
   ]
  },
  {
   "cell_type": "code",
   "execution_count": 5,
   "id": "printable-lunch",
   "metadata": {},
   "outputs": [
    {
     "name": "stdout",
     "output_type": "stream",
     "text": [
      "Getting URL: https://secure.indeed.com/account/login?hl=en_US&co=US&continue=https%3A%2F%2Fwww.indeed.com%2Fjobs%3Fq%3Ddata%2Bscientist%2B%2524100%252C000%26forceLocation%3D032b3046-06a3-4876-8dfd-474eb5e7ed11%26remotejob%3D032b3046-06a3-4876-8dfd-474eb5e7ed11%26from%3Dgnav-util-jobsearch--jasx&tmpl=desktop&service=my&from=gnav-util-jobsearch--jasx&_ga=2.217171294.930897774.1613412371-1243588806.1612290936\n"
     ]
    }
   ],
   "source": [
    "\n",
    "u.driver_get_url(driver, u.indeed_url)"
   ]
  },
  {
   "cell_type": "code",
   "execution_count": 6,
   "id": "prepared-logan",
   "metadata": {},
   "outputs": [
    {
     "name": "stdout",
     "output_type": "stream",
     "text": [
      "Filling in the email field with dave.babbitt@gmail.com\n"
     ]
    }
   ],
   "source": [
    "\n",
    "name_css = '#login-email-input'\n",
    "u.fill_in_field(driver, field_name='email', field_value=u.secrets_json['indeed']['email'], input_css=name_css)"
   ]
  },
  {
   "cell_type": "code",
   "execution_count": 7,
   "id": "finished-vietnamese",
   "metadata": {},
   "outputs": [],
   "source": [
    "\n",
    "password_css = '#login-password-input'\n",
    "u.fill_in_field(driver, field_name='password', field_value=u.secrets_json['indeed']['password'], input_css=password_css,\n",
    "                verbose=False)"
   ]
  },
  {
   "cell_type": "code",
   "execution_count": 8,
   "id": "dangerous-allah",
   "metadata": {},
   "outputs": [],
   "source": [
    "\n",
    "button_css = '#login-submit-button'\n",
    "button_tag = u.click_by_css(driver, button_css)"
   ]
  },
  {
   "cell_type": "code",
   "execution_count": 38,
   "id": "revised-coral",
   "metadata": {},
   "outputs": [],
   "source": [
    "\n",
    "from urllib.parse import urlparse, parse_qs\n",
    "from bs4 import BeautifulSoup as bs\n",
    "\n",
    "SAVES_HTML_FOLDER = os.path.join(s.saves_folder, 'html')\n",
    "jk_htmls_list = [fn.split('_')[-1] for fn in os.listdir(SAVES_HTML_FOLDER)]\n",
    "PRINT_REGEX = re.compile(r'[\\x9c-\\x9d\\uf0b7\\u200b\\ufb02]+')"
   ]
  },
  {
   "cell_type": "code",
   "execution_count": 45,
   "id": "employed-visitor",
   "metadata": {},
   "outputs": [],
   "source": [
    "\n",
    "from selenium.webdriver.common.action_chains import ActionChains\n",
    "\n",
    "SPACE_REGEX = re.compile(r'[\\s<>:\"/\\\\\\|\\?\\*_]+')\n",
    "def get_listing_html(job_title_tag):\n",
    "    title_str = job_title_tag.get_attribute('title')\n",
    "    print(f'Clicking {title_str}')\n",
    "    driver.execute_script('arguments[0].scrollIntoView();', job_title_tag)\n",
    "    ActionChains(driver).move_to_element(job_title_tag).perform()\n",
    "    web_element = driver.switch_to.active_element\n",
    "    if web_element.get_attribute('aria-label') == 'Close':\n",
    "        web_element.click()\n",
    "    job_title_tag.click()\n",
    "    jk_str = ''\n",
    "    for iframe_tag in driver.find_elements_by_tag_name('iframe'):\n",
    "        if iframe_tag.get_attribute('title') == 'Selected Job Details':\n",
    "            src = iframe_tag.get_attribute('src')\n",
    "            qs = urlparse(src).query\n",
    "            query_dict = parse_qs(qs)\n",
    "            jk_str = query_dict['jk'][0]\n",
    "            driver.switch_to.frame(iframe_tag)\n",
    "            break\n",
    "    job_html = ''\n",
    "    for job_info in driver.find_elements_by_class_name('jobsearch-JobComponent-embeddedBody'):\n",
    "        job_html = job_info.get_attribute('innerHTML')\n",
    "    driver.switch_to.parent_frame()\n",
    "    \n",
    "    return job_html, title_str, jk_str"
   ]
  },
  {
   "cell_type": "code",
   "execution_count": 43,
   "id": "dense-liberty",
   "metadata": {},
   "outputs": [
    {
     "name": "stdout",
     "output_type": "stream",
     "text": [
      "Searching through 312 links to find the job titles\n",
      "Clicking Data Scientist, Analytics-Remote Presence\n"
     ]
    },
    {
     "ename": "UnboundLocalError",
     "evalue": "local variable 'jk_str' referenced before assignment",
     "output_type": "error",
     "traceback": [
      "\u001b[1;31m---------------------------------------------------------------------------\u001b[0m",
      "\u001b[1;31mUnboundLocalError\u001b[0m                         Traceback (most recent call last)",
      "\u001b[1;32m<ipython-input-43-c11614679492>\u001b[0m in \u001b[0;36m<module>\u001b[1;34m\u001b[0m\n\u001b[0;32m      5\u001b[0m     \u001b[1;32mfor\u001b[0m \u001b[0mweb_element\u001b[0m \u001b[1;32min\u001b[0m \u001b[0mweb_element_list\u001b[0m\u001b[1;33m:\u001b[0m\u001b[1;33m\u001b[0m\u001b[1;33m\u001b[0m\u001b[0m\n\u001b[0;32m      6\u001b[0m         \u001b[1;32mif\u001b[0m \u001b[0mweb_element\u001b[0m\u001b[1;33m.\u001b[0m\u001b[0mget_attribute\u001b[0m\u001b[1;33m(\u001b[0m\u001b[1;34m'data-tn-element'\u001b[0m\u001b[1;33m)\u001b[0m \u001b[1;33m==\u001b[0m \u001b[1;34m'jobTitle'\u001b[0m\u001b[1;33m:\u001b[0m\u001b[1;33m\u001b[0m\u001b[1;33m\u001b[0m\u001b[0m\n\u001b[1;32m----> 7\u001b[1;33m             \u001b[0mjob_html\u001b[0m\u001b[1;33m,\u001b[0m \u001b[0mtitle_str\u001b[0m\u001b[1;33m,\u001b[0m \u001b[0mjk_str\u001b[0m \u001b[1;33m=\u001b[0m \u001b[0mget_listing_html\u001b[0m\u001b[1;33m(\u001b[0m\u001b[0mweb_element\u001b[0m\u001b[1;33m)\u001b[0m\u001b[1;33m\u001b[0m\u001b[1;33m\u001b[0m\u001b[0m\n\u001b[0m\u001b[0;32m      8\u001b[0m             \u001b[1;32mif\u001b[0m \u001b[1;33m(\u001b[0m\u001b[1;34mf'{jk_str}.html'\u001b[0m \u001b[1;32mnot\u001b[0m \u001b[1;32min\u001b[0m \u001b[0mjk_htmls_list\u001b[0m\u001b[1;33m)\u001b[0m \u001b[1;32mand\u001b[0m \u001b[0mjob_html\u001b[0m\u001b[1;33m:\u001b[0m\u001b[1;33m\u001b[0m\u001b[1;33m\u001b[0m\u001b[0m\n\u001b[0;32m      9\u001b[0m                 \u001b[0mfile_name\u001b[0m \u001b[1;33m=\u001b[0m \u001b[0mSPACE_REGEX\u001b[0m\u001b[1;33m.\u001b[0m\u001b[0msub\u001b[0m\u001b[1;33m(\u001b[0m\u001b[1;34m'_'\u001b[0m\u001b[1;33m,\u001b[0m \u001b[0mtitle_str\u001b[0m\u001b[1;33m)\u001b[0m\u001b[1;33m\u001b[0m\u001b[1;33m\u001b[0m\u001b[0m\n",
      "\u001b[1;32m<ipython-input-42-603d087ac5c1>\u001b[0m in \u001b[0;36mget_listing_html\u001b[1;34m(job_title_tag)\u001b[0m\n\u001b[0;32m     24\u001b[0m     \u001b[0mdriver\u001b[0m\u001b[1;33m.\u001b[0m\u001b[0mswitch_to\u001b[0m\u001b[1;33m.\u001b[0m\u001b[0mparent_frame\u001b[0m\u001b[1;33m(\u001b[0m\u001b[1;33m)\u001b[0m\u001b[1;33m\u001b[0m\u001b[1;33m\u001b[0m\u001b[0m\n\u001b[0;32m     25\u001b[0m \u001b[1;33m\u001b[0m\u001b[0m\n\u001b[1;32m---> 26\u001b[1;33m     \u001b[1;32mreturn\u001b[0m \u001b[0mjob_html\u001b[0m\u001b[1;33m,\u001b[0m \u001b[0mtitle_str\u001b[0m\u001b[1;33m,\u001b[0m \u001b[0mjk_str\u001b[0m\u001b[1;33m\u001b[0m\u001b[1;33m\u001b[0m\u001b[0m\n\u001b[0m",
      "\u001b[1;31mUnboundLocalError\u001b[0m: local variable 'jk_str' referenced before assignment"
     ]
    }
   ],
   "source": [
    "\n",
    "driver.switch_to.parent_frame()\n",
    "web_element_list = driver.find_elements_by_tag_name('a')\n",
    "while web_element_list:\n",
    "    print(f'Searching through {len(web_element_list)} links to find the job titles')\n",
    "    for web_element in web_element_list:\n",
    "        if web_element.get_attribute('data-tn-element') == 'jobTitle':\n",
    "            job_html, title_str, jk_str = get_listing_html(web_element)\n",
    "            if (f'{jk_str}.html' not in jk_htmls_list) and job_html:\n",
    "                file_name = SPACE_REGEX.sub('_', title_str)\n",
    "                file_name = f'{file_name}_{jk_str}.html'\n",
    "                file_path = os.path.join(SAVES_HTML_FOLDER, file_name)\n",
    "                html_str = '<html><head><title>' + title_str + '</title></head><body>'\n",
    "                job_soup = bs(job_html, 'html.parser')\n",
    "                with open(file_path, 'w', encoding='utf-8') as f:\n",
    "                    print(html_str, file=f)\n",
    "                    for div_tag in job_soup.find_all(name='div'):\n",
    "                        for s in div_tag.select('template'):\n",
    "                            s.extract()\n",
    "                        for s in div_tag.select('script'):\n",
    "                            s.extract()\n",
    "                        div_str = div_tag.prettify(formatter='html')\n",
    "                        div_str = PRINT_REGEX.sub('', div_str)\n",
    "                        print(div_str, file=f)\n",
    "                    print('</body></html>', file=f)\n",
    "        elif(web_element.get_attribute('aria-label') == 'Next'):\n",
    "            print('Clicking the Next link')\n",
    "            web_element.click()\n",
    "            web_element_list = driver.find_elements_by_tag_name('a')\n",
    "            print(f'Searching through {len(web_element_list)} links to find the job titles')\n",
    "            break"
   ]
  },
  {
   "cell_type": "code",
   "execution_count": 46,
   "id": "timely-transmission",
   "metadata": {},
   "outputs": [],
   "source": [
    "\n",
    "driver.close()"
   ]
  },
  {
   "cell_type": "code",
   "execution_count": null,
   "id": "pressed-smell",
   "metadata": {},
   "outputs": [],
   "source": [
    "\n",
    "from IPython.display import HTML, display\n",
    "\n",
    "for job_info in driver.find_elements_by_class_name('jobsearch-JobComponent-embeddedBody'):\n",
    "    display(HTML(job_info.get_attribute('innerHTML')))"
   ]
  },
  {
   "cell_type": "code",
   "execution_count": null,
   "id": "sticky-infection",
   "metadata": {},
   "outputs": [],
   "source": []
  }
 ],
 "metadata": {
  "kernelspec": {
   "display_name": "Job Hunting (Python 3.7.9)",
   "language": "python",
   "name": "jh"
  },
  "language_info": {
   "codemirror_mode": {
    "name": "ipython",
    "version": 3
   },
   "file_extension": ".py",
   "mimetype": "text/x-python",
   "name": "python",
   "nbconvert_exporter": "python",
   "pygments_lexer": "ipython3",
   "version": "3.7.9"
  }
 },
 "nbformat": 4,
 "nbformat_minor": 5
}
