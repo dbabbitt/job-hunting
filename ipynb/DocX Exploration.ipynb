{
 "cells": [
  {
   "cell_type": "code",
   "execution_count": 1,
   "id": "1d66619f-3d52-46d9-ac72-1b42e72485d3",
   "metadata": {},
   "outputs": [
    {
     "name": "stdout",
     "output_type": "stream",
     "text": [
      "Pretty printing has been turned OFF\n"
     ]
    }
   ],
   "source": [
    "\n",
    "%pprint"
   ]
  },
  {
   "cell_type": "code",
   "execution_count": 17,
   "id": "fb620270-eb9e-43d2-a977-fb8afc946f7c",
   "metadata": {},
   "outputs": [
    {
     "name": "stdout",
     "output_type": "stream",
     "text": [
      "Craig_Phillip_Resume.docx got this error: File is not a zip file\n",
      "Peden_Benjamin.docx got this error: File is not a zip file\n"
     ]
    }
   ],
   "source": [
    "\n",
    "import mammoth\n",
    "import os\n",
    "import zipfile\n",
    "%run ../load_magic/storage.py\n",
    "\n",
    "s = Storage()\n",
    "docx_folder = '../data/docx'\n",
    "output_folder = '../saves/html'\n",
    "os.makedirs(name=output_folder, exist_ok=True)\n",
    "for file_name in os.listdir(docx_folder):\n",
    "    if file_name.endswith('.docx'):\n",
    "        input_file_path = os.path.abspath(os.path.join(docx_folder, file_name))\n",
    "        file_prefix = file_name.split('.')[0]\n",
    "        output_file_path = os.path.join(output_folder, f'{file_prefix}.html')\n",
    "        if not os.path.isfile(output_file_path):\n",
    "            try:\n",
    "                # extraction_dir = os.path.join(docx_folder, file_prefix)\n",
    "                # os.makedirs(name=extraction_dir, exist_ok=True)\n",
    "                # with zipfile.ZipFile(input_file_path, 'r') as zip_ref:\n",
    "                    # zip_ref.extractall(extraction_dir)\n",
    "                    # styles_path = f'../data/docx/{extraction_dir}/word/styles.xml'\n",
    "                with open(input_file_path, 'rb') as docx_file:\n",
    "                    result_obj = mammoth.convert_to_html(docx_file)\n",
    "                    html_str = '<html><body>' + result_obj.value + '</body></html>'\n",
    "                with open(output_file_path, 'w', encoding=s.encoding_type) as html_file:\n",
    "                    html_file.write(html_str)\n",
    "            except Exception as e:\n",
    "                print(f'{file_name} got this error: {str(e).strip()}')"
   ]
  },
  {
   "cell_type": "code",
   "execution_count": null,
   "id": "964f19dc-728b-45c9-9cda-e2daaf28da80",
   "metadata": {},
   "outputs": [],
   "source": []
  }
 ],
 "metadata": {
  "kernelspec": {
   "display_name": "Python 3",
   "language": "python",
   "name": "python3"
  },
  "language_info": {
   "codemirror_mode": {
    "name": "ipython",
    "version": 3
   },
   "file_extension": ".py",
   "mimetype": "text/x-python",
   "name": "python",
   "nbconvert_exporter": "python",
   "pygments_lexer": "ipython3",
   "version": "3.8.8"
  }
 },
 "nbformat": 4,
 "nbformat_minor": 5
}
