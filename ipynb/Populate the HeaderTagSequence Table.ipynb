{
 "cells": [
  {
   "cell_type": "markdown",
   "metadata": {},
   "source": [
    "\n",
    "----"
   ]
  },
  {
   "cell_type": "code",
   "execution_count": 1,
   "metadata": {},
   "outputs": [
    {
     "name": "stdout",
     "output_type": "stream",
     "text": [
      "Pretty printing has been turned OFF\n"
     ]
    }
   ],
   "source": [
    "\n",
    "%pprint"
   ]
  },
  {
   "cell_type": "code",
   "execution_count": 33,
   "metadata": {},
   "outputs": [],
   "source": [
    "\n",
    "%run ../py/sql_utlis.py\n",
    "su = SqlUtilities()"
   ]
  },
  {
   "cell_type": "code",
   "execution_count": null,
   "metadata": {},
   "outputs": [],
   "source": [
    "\n",
    "su.create_header_tag_sequence_table(verbose=False)"
   ]
  },
  {
   "cell_type": "code",
   "execution_count": 34,
   "metadata": {},
   "outputs": [],
   "source": [
    "\n",
    "import random\n",
    "\n",
    "HEADER_PATTERN_DICT = s.load_object('HEADER_PATTERN_DICT')\n",
    "file_name, feature_dict_list = random.choice(list(HEADER_PATTERN_DICT.items()))\n",
    "sequence_list = [feature_dict['initial_tag'] for feature_dict in feature_dict_list]\n",
    "assert file_name == su.get_filenames_by_starting_sequence(sequence_list, verbose=False)[0]"
   ]
  },
  {
   "cell_type": "code",
   "execution_count": 37,
   "metadata": {},
   "outputs": [
    {
     "name": "stdout",
     "output_type": "stream",
     "text": [
      "1\n"
     ]
    },
    {
     "ename": "AttributeError",
     "evalue": "'SqlUtilities' object has no attribute 'get_filenames_by_starting_sequence'",
     "output_type": "error",
     "traceback": [
      "\u001b[1;31m---------------------------------------------------------------------------\u001b[0m",
      "\u001b[1;31mAttributeError\u001b[0m                            Traceback (most recent call last)",
      "\u001b[1;32m<ipython-input-37-eaf36deaf829>\u001b[0m in \u001b[0;36m<module>\u001b[1;34m\u001b[0m\n\u001b[0;32m      7\u001b[0m     \u001b[0mstart_num\u001b[0m \u001b[1;33m+=\u001b[0m \u001b[1;36m1\u001b[0m\u001b[1;33m\u001b[0m\u001b[1;33m\u001b[0m\u001b[0m\n\u001b[0;32m      8\u001b[0m \u001b[0mprint\u001b[0m\u001b[1;33m(\u001b[0m\u001b[0mstart_num\u001b[0m\u001b[1;33m)\u001b[0m\u001b[1;33m\u001b[0m\u001b[1;33m\u001b[0m\u001b[0m\n\u001b[1;32m----> 9\u001b[1;33m \u001b[0mfilenames_list\u001b[0m \u001b[1;33m=\u001b[0m \u001b[0msu\u001b[0m\u001b[1;33m.\u001b[0m\u001b[0mget_filenames_by_starting_sequence\u001b[0m\u001b[1;33m(\u001b[0m\u001b[0msequence_list\u001b[0m\u001b[1;33m,\u001b[0m \u001b[0mverbose\u001b[0m\u001b[1;33m=\u001b[0m\u001b[1;32mFalse\u001b[0m\u001b[1;33m)\u001b[0m\u001b[1;33m\u001b[0m\u001b[1;33m\u001b[0m\u001b[0m\n\u001b[0m\u001b[0;32m     10\u001b[0m \u001b[0mfilenames_list\u001b[0m\u001b[1;33m\u001b[0m\u001b[1;33m\u001b[0m\u001b[0m\n",
      "\u001b[1;31mAttributeError\u001b[0m: 'SqlUtilities' object has no attribute 'get_filenames_by_starting_sequence'"
     ]
    }
   ],
   "source": [
    "\n",
    "sequence_list = ['p']\n",
    "start_num = 0\n",
    "row_tuples_list = []\n",
    "while start_num < len(sequence_list):\n",
    "    if len(row_tuples_list):\n",
    "        break\n",
    "    start_num += 1\n",
    "print(start_num)\n",
    "filenames_list = su.get_filenames_by_starting_sequence(sequence_list, verbose=False)\n",
    "filenames_list"
   ]
  },
  {
   "cell_type": "markdown",
   "metadata": {},
   "source": [
    "\n",
    "----\n",
    "# Explore existing columns on the server"
   ]
  },
  {
   "cell_type": "code",
   "execution_count": 2,
   "metadata": {},
   "outputs": [
    {
     "data": {
      "text/plain": [
       "['s.attempt_to_pickle', 's.data_csv_folder', 's.data_folder', 's.encoding_type', 's.load_csv', 's.load_dataframes', 's.load_object', 's.pickle_exists', 's.save_dataframes', 's.saves_csv_folder', 's.saves_folder', 's.saves_pickle_folder', 's.store_objects']"
      ]
     },
     "execution_count": 2,
     "metadata": {},
     "output_type": "execute_result"
    }
   ],
   "source": [
    "\n",
    "%run ../load_magic/storage.py\n",
    "s = Storage()\n",
    "[f's.{fn}' for fn in dir(s) if not fn.startswith('_')]"
   ]
  },
  {
   "cell_type": "code",
   "execution_count": 3,
   "metadata": {},
   "outputs": [],
   "source": [
    "\n",
    "ha = HeaderAnalysis()"
   ]
  },
  {
   "cell_type": "code",
   "execution_count": 5,
   "metadata": {},
   "outputs": [
    {
     "data": {
      "text/plain": [
       "('li', '<li>Lead the design and analysis of experiments or development of causal and predictive models to test your ideas</li>', 'O')"
      ]
     },
     "execution_count": 5,
     "metadata": {},
     "output_type": "execute_result"
    }
   ],
   "source": [
    "\n",
    "%run ../py/html_analysis.py\n",
    "hc = HeaderCategories()\n",
    "feature_dict = random.choice(feature_dict_list)\n",
    "hc.get_feature_tuple(feature_dict)"
   ]
  },
  {
   "cell_type": "code",
   "execution_count": 3,
   "metadata": {},
   "outputs": [
    {
     "name": "stdout",
     "output_type": "stream",
     "text": [
      "BASIC_TAGS_DICT: <p>The AVP, Data Scientist sits within the Data Sc...,  <b>What will you do?</b>..., etc.\n",
      "CHILD_STRS_LIST_DICT: Data_Scientist_-_Norfolk,_VA_-_Indeed.com_375e9085...,  Data_Scientist_-_Oregon_-_Indeed.com_7d2bf2fea0e7b..., etc.\n",
      "description_dict: explained_variance_score...,  f1_score..., etc.\n",
      "FIT_ESTIMATORS_DICT: RandomForestClassifier...,  LogisticRegression..., etc.\n",
      "HEADER_PATTERN_DICT: Clinical_Data_Science_Product_Manager_-_Remote_-_I...,  Clinical_Data_Scientist_(Manager)_-_Groton,_CT_063..., etc.\n",
      "NAVIGABLE_PARENT_IS_HEADER_DICT: <li>Employee discount</li>...,  <li>Parental leave</li>..., etc.\n",
      "NAVIGABLE_PARENT_IS_QUAL_DICT: <i>We’re proud to be an equal opportunity employer...,  <i>We will consider for employment qualified candi..., etc.\n",
      "pos_explanation_dict: H-OL...,  H-JD..., etc.\n",
      "REMAINING_QUALS_CHILD_STRS_LIST_DICT: Business_Intelligence_Analyst_Data_Scientist_-_New...,  Central_Data_Scientist_-_Remote_-_Indeed.com_59237..., etc.\n"
     ]
    }
   ],
   "source": [
    "\n",
    "import random\n",
    "\n",
    "type_suffix_list = ['dict', 'df', 'list', 'DICT', 'LIST']\n",
    "dict_suffix_list = ['dict', 'DICT']\n",
    "for file_name in os.listdir(s.saves_pickle_folder):\n",
    "    if file_name.endswith('.pickle'):\n",
    "        obj_name = file_name.split('.')[0]\n",
    "        type_suffix = obj_name.split('_')[-1]\n",
    "        if type_suffix in dict_suffix_list:\n",
    "            column_name = obj_name[:-5].lower()\n",
    "            exec_str = f\"{obj_name} = s.load_object('{obj_name}')\"\n",
    "            eval_str = f\"s.load_object('{obj_name}')\"\n",
    "            dict_obj = eval(eval_str)\n",
    "            keys_list = list(dict_obj.keys())\n",
    "            idx = random.randint(0, len(keys_list))\n",
    "            print(f'{obj_name}: {keys_list[idx][:50]}...,  {keys_list[idx+1][:50]}..., etc.')"
   ]
  },
  {
   "cell_type": "markdown",
   "metadata": {},
   "source": [
    "\n",
    "----"
   ]
  },
  {
   "cell_type": "code",
   "execution_count": null,
   "metadata": {},
   "outputs": [],
   "source": [
    "\n",
    "import sys\n",
    "\n",
    "command_str = f'{sys.executable} -m pip install C:\\\\Users\\\\dev\\\\Downloads\\\\pymssql-2.1.5-cp39-cp39-win_amd64.whl'\n",
    "print(command_str)\n",
    "!{command_str}"
   ]
  },
  {
   "cell_type": "code",
   "execution_count": null,
   "metadata": {},
   "outputs": [],
   "source": [
    "\n",
    "import sys\n",
    "\n",
    "command_str = f'{sys.executable} -m pip install --upgrade pymssql'\n",
    "print(command_str)\n",
    "!{command_str}"
   ]
  },
  {
   "cell_type": "code",
   "execution_count": null,
   "metadata": {},
   "outputs": [],
   "source": []
  }
 ],
 "metadata": {
  "kernelspec": {
   "display_name": "Job Hunting (Python 3.9.0)",
   "language": "python",
   "name": "jh"
  },
  "language_info": {
   "codemirror_mode": {
    "name": "ipython",
    "version": 3
   },
   "file_extension": ".py",
   "mimetype": "text/x-python",
   "name": "python",
   "nbconvert_exporter": "python",
   "pygments_lexer": "ipython3",
   "version": "3.9.0"
  }
 },
 "nbformat": 4,
 "nbformat_minor": 4
}
