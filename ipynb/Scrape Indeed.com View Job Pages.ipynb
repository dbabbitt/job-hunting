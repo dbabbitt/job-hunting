{
 "cells": [
  {
   "cell_type": "code",
   "execution_count": null,
   "id": "56992c5d-2302-41f5-b6c4-973add7ab850",
   "metadata": {},
   "outputs": [],
   "source": []
  },
  {
   "cell_type": "code",
   "execution_count": 1,
   "id": "e01a8ddd-735a-4a3a-a107-55db1b2d3df5",
   "metadata": {},
   "outputs": [
    {
     "name": "stdout",
     "output_type": "stream",
     "text": [
      "Pretty printing has been turned OFF\n"
     ]
    }
   ],
   "source": [
    "\n",
    "%pprint"
   ]
  },
  {
   "cell_type": "code",
   "execution_count": 2,
   "id": "38b0be34-13db-4878-b808-b8c3a6bb91cf",
   "metadata": {},
   "outputs": [],
   "source": [
    "\n",
    "import sys\n",
    "sys.path.insert(1, '../py')\n",
    "\n",
    "from ha_utils import HeaderAnalysis\n",
    "ha = HeaderAnalysis(verbose=True)\n",
    "\n",
    "from scrape_utils import WebScrapingUtilities\n",
    "wsu = WebScrapingUtilities()\n",
    "uri = wsu.secrets_json['neo4j']['connect_url']\n",
    "user =  wsu.secrets_json['neo4j']['username']\n",
    "password = wsu.secrets_json['neo4j']['password']\n",
    "\n",
    "from storage import Storage\n",
    "s = Storage()\n",
    "\n",
    "from cypher_utils import CypherUtilities\n",
    "cu = CypherUtilities(uri=uri, user=user, password=password, driver=None, s=s, ha=ha)\n",
    "\n",
    "from hc_utils import HeaderCategories\n",
    "hc = HeaderCategories(cu=cu, verbose=False)\n",
    "\n",
    "from html_analysis import ElementAnalysis\n",
    "ea = ElementAnalysis(ha=ha, hc=hc, verbose=False)\n",
    "\n",
    "import warnings\n",
    "warnings.filterwarnings('ignore')"
   ]
  },
  {
   "cell_type": "code",
   "execution_count": 3,
   "id": "a8ac0e11-a13c-4a06-adbe-35adf54a7bbc",
   "metadata": {},
   "outputs": [],
   "source": [
    "\n",
    "import os\n",
    "from IPython.display import HTML, display\n",
    "\n",
    "files_list = sorted([fn for fn in os.listdir(ha.SAVES_HTML_FOLDER) if fn.endswith('.html')])"
   ]
  },
  {
   "cell_type": "code",
   "execution_count": 14,
   "id": "00c84386-ac39-4d92-89d1-16eaae00ced6",
   "metadata": {},
   "outputs": [
    {
     "data": {
      "text/html": [
       "<h1>c4e07d78d1aeeef6_Software_Engineer_III_OSS_Jupyter_Austin_TX_Indeed_com.html</h1>"
      ],
      "text/plain": [
       "<IPython.core.display.HTML object>"
      ]
     },
     "metadata": {},
     "output_type": "display_data"
    },
    {
     "name": "stdout",
     "output_type": "stream",
     "text": [
      "CPU times: total: 1min 26s\n",
      "Wall time: 1min 25s\n"
     ]
    }
   ],
   "source": [
    "\n",
    "%%time\n",
    "file_name = files_list.pop()\n",
    "display(HTML(f'<h1>{file_name}</h1>'))\n",
    "file_path = os.path.join(cu.SAVES_HTML_FOLDER, file_name)\n",
    "child_strs_list = ha.get_child_strs_from_file(file_name)\n",
    "ea.display_basic_requirements(child_strs_list)"
   ]
  },
  {
   "cell_type": "markdown",
   "id": "acbf61bc-dcdc-4520-8422-9fa454dfd1ba",
   "metadata": {
    "tags": []
   },
   "source": [
    "\n",
    "# See if all the email links have Job Description Text"
   ]
  },
  {
   "cell_type": "code",
   "execution_count": 3,
   "id": "a38724a3-620a-4717-b5c7-03d80a7aae9f",
   "metadata": {},
   "outputs": [],
   "source": [
    "\n",
    "file_path = '../data/html/indeed_email.html'\n",
    "%run ../load_magic/dataframes.py\n",
    "page_soup = get_page_soup(file_path)\n",
    "css_selector = 'body > table > tbody > tr > td > a > table > tbody > tr > td > a'\n",
    "link_soups_list = page_soup.select(css_selector)"
   ]
  },
  {
   "cell_type": "code",
   "execution_count": 4,
   "id": "be096ab2-7429-45a6-b719-19ba0d532045",
   "metadata": {},
   "outputs": [],
   "source": [
    "\n",
    "from html_analysis import ElementAnalysis\n",
    "\n",
    "ea = ElementAnalysis()\n",
    "for link_soup in link_soups_list:\n",
    "    url_str = link_soup['href']\n",
    "    page_soup = get_page_soup(url_str)\n",
    "    row_div_list = page_soup.find_all(name='div', id='jobDescriptionText')\n",
    "    for div_soup in row_div_list:\n",
    "        child_strs_list = ea.ha.get_navigable_children(div_soup, [])\n",
    "    break"
   ]
  },
  {
   "cell_type": "code",
   "execution_count": 5,
   "id": "febc0eda-d055-4008-87df-5558d15f7fcf",
   "metadata": {},
   "outputs": [],
   "source": [
    "\n",
    "from cypher_utils import CypherUtilities\n",
    "from hc_utils import HeaderCategories\n",
    "\n",
    "cu = CypherUtilities()\n",
    "hc = HeaderCategories()"
   ]
  },
  {
   "cell_type": "code",
   "execution_count": 6,
   "id": "f2bb45ef-cb41-49a2-ac98-c0949235cbcd",
   "metadata": {},
   "outputs": [],
   "source": [
    "\n",
    "ea = ElementAnalysis()\n",
    "child_tags_list = ea.ha.get_child_tags_list(child_strs_list)\n",
    "is_header_list = ea.ha.get_is_header_list(child_strs_list)\n",
    "sql_dict = {False: None, True: 1}\n",
    "feature_dict_list = [{'initial_tag': tag, 'is_header': is_header,\n",
    "                      'is_task_scope': sql_dict[(child_str in hc.TASK_SCOPE_HEADERS_LIST)],\n",
    "                      'is_minimum_qualification': sql_dict[(child_str in hc.REQ_QUALS_HEADERS_LIST)],\n",
    "                      'is_preferred_qualification': sql_dict[(child_str in hc.PREFF_QUALS_HEADERS_LIST)],\n",
    "                      'is_legal_notification': sql_dict[(child_str in hc.LEGAL_NOTIFS_HEADERS_LIST)],\n",
    "                      'is_job_title': sql_dict[(child_str in hc.JOB_TITLE_HEADERS_LIST)],\n",
    "                      'is_office_location': sql_dict[(child_str in hc.OFFICE_LOC_HEADERS_LIST)],\n",
    "                      'is_job_duration': sql_dict[(child_str in hc.JOB_DURATION_HEADERS_LIST)],\n",
    "                      'is_supplemental_pay': sql_dict[(child_str in hc.SUPP_PAY_HEADERS_LIST)],\n",
    "                      'is_educational_requirement': sql_dict[(child_str in hc.EDUC_REQS_HEADERS_LIST)],\n",
    "                      'is_interview_procedure': sql_dict[(child_str in hc.INTERV_PROC_HEADERS_LIST)],\n",
    "                      'is_corporate_scope': sql_dict[(child_str in hc.CORP_SCOPE_HEADERS_LIST)],\n",
    "                      'is_posting_date': sql_dict[(child_str in hc.POST_DATE_HEADERS_LIST)],\n",
    "                      'is_other': sql_dict[(child_str in hc.OTHER_HEADERS_LIST)],\n",
    "                      'child_str': child_str} for tag, is_header, child_str in zip(child_tags_list, is_header_list,\n",
    "                                                                                   child_strs_list)]"
   ]
  },
  {
   "cell_type": "code",
   "execution_count": 7,
   "id": "d6b630f1-3974-4e1f-8408-1d6b3195c450",
   "metadata": {},
   "outputs": [],
   "source": [
    "\n",
    "feature_tuple_list = [hc.get_feature_tuple(feature_dict) for feature_dict in feature_dict_list]"
   ]
  },
  {
   "cell_type": "code",
   "execution_count": 8,
   "id": "1d7c9e22-e5ae-4580-aace-7da937f9495a",
   "metadata": {},
   "outputs": [],
   "source": [
    "\n",
    "from crf_utils import CrfUtilities\n",
    "\n",
    "crf = CrfUtilities(ha=ea.ha, hc=hc, cu=cu, verbose=False)"
   ]
  },
  {
   "cell_type": "code",
   "execution_count": 11,
   "id": "3861eded-26ca-4bba-be25-c9472b5bd31d",
   "metadata": {},
   "outputs": [],
   "source": [
    "\n",
    "from neo4j import GraphDatabase\n",
    "import logging\n",
    "from neo4j.exceptions import ServiceUnavailable"
   ]
  },
  {
   "cell_type": "code",
   "execution_count": 12,
   "id": "436affb4-4730-416c-804a-0285801bbd56",
   "metadata": {},
   "outputs": [],
   "source": [
    "\n",
    "class App:\n",
    "\n",
    "    def __init__(self, uri, user, password):\n",
    "        driver = GraphDatabase.driver(uri, auth=(user, password))\n",
    "\n",
    "    def close(self):\n",
    "        # Don't forget to close the driver connection when you are finished with it\n",
    "        driver.close()\n",
    "\n",
    "    def create_friendship(self, person1_name, person2_name):\n",
    "        with driver.session() as session:\n",
    "            # Write transactions allow the driver to handle retries and transient errors\n",
    "            result = session.write_transaction(\n",
    "                _create_and_return_friendship, person1_name, person2_name)\n",
    "            for row in result:\n",
    "                print('Created friendship between: {p1}, {p2}'.format(p1=row['p1'], p2=row['p2']))\n",
    "\n",
    "    @staticmethod\n",
    "    def _create_and_return_friendship(tx, person1_name, person2_name):\n",
    "        # To learn more about the Cypher syntax, see https://neo4j.com/docs/cypher-manual/current/\n",
    "        # The Reference Card is also a good resource for keywords https://neo4j.com/docs/cypher-refcard/current/\n",
    "        query = (\n",
    "            'CREATE (p1:Person { name: $person1_name }) '\n",
    "            'CREATE (p2:Person { name: $person2_name }) '\n",
    "            'CREATE (p1)-[:KNOWS]->(p2) '\n",
    "            'RETURN p1, p2'\n",
    "        )\n",
    "        result = tx.run(query, person1_name=person1_name, person2_name=person2_name)\n",
    "        try:\n",
    "            return [{'p1': row['p1']['name'], 'p2': row['p2']['name']}\n",
    "                    for row in result]\n",
    "        # Capture any errors along with the query and data for traceability\n",
    "        except ServiceUnavailable as exception:\n",
    "            logging.error('{query} raised an error: \\n {exception}'.format(\n",
    "                query=query, exception=exception))\n",
    "            raise\n",
    "\n",
    "    def find_person(self, person_name):\n",
    "        with driver.session() as session:\n",
    "            result = session.read_transaction(_find_and_return_person, person_name)\n",
    "            for row in result:\n",
    "                print('Found person: {row}'.format(row=row))\n",
    "\n",
    "    @staticmethod\n",
    "    def _find_and_return_person(tx, person_name):\n",
    "        query = (\n",
    "            'MATCH (p:Person) '\n",
    "            'WHERE p.name = $person_name '\n",
    "            'RETURN p.name AS name'\n",
    "        )\n",
    "        result = tx.run(query, person_name=person_name)\n",
    "        return [row['name'] for row in result]"
   ]
  },
  {
   "cell_type": "code",
   "execution_count": 17,
   "id": "b2cb990a-cc24-4d93-bced-06a4885a4059",
   "metadata": {},
   "outputs": [
    {
     "name": "stdout",
     "output_type": "stream",
     "text": [
      "Created friendship between: Alice, David\n",
      "Found person: Alice\n",
      "Found person: Alice\n"
     ]
    }
   ],
   "source": [
    "\n",
    "# Aura queries use an encrypted connection using the \"neo4j+s\" URI scheme\n",
    "import scrape_utils\n",
    "\n",
    "wsu = scrape_utils.WebScrapingUtilities()\n",
    "uri = wsu.secrets_json['console.neo4j.io']['connect_url']\n",
    "user =  wsu.secrets_json['console.neo4j.io']['username']\n",
    "password = wsu.secrets_json['console.neo4j.io']['password']\n",
    "app = App(uri, user, password)\n",
    "app.create_friendship('Alice', 'David')\n",
    "app.find_person('Alice')\n",
    "app.close()"
   ]
  },
  {
   "cell_type": "code",
   "execution_count": null,
   "id": "7eb1b4ea-b52f-4ab4-a89a-ffcaf44343f3",
   "metadata": {},
   "outputs": [],
   "source": [
    "\n",
    "crf_list = crf.CRF.predict_single(crf.sent2features(feature_tuple_list))"
   ]
  },
  {
   "cell_type": "code",
   "execution_count": 19,
   "id": "d2a3565e-1f70-40ca-96e7-aca14fbd9444",
   "metadata": {},
   "outputs": [
    {
     "name": "stdout",
     "output_type": "stream",
     "text": [
      "\n",
      "    MATCH (fn:FileNames {file_name: 'Data_Scientist_(Services)_63b23e3bd4672ef3.html'})\n",
      "    RETURN fn.file_name_id;\n"
     ]
    }
   ],
   "source": [
    "\n",
    "file_name = 'Data_Scientist_(Services)_63b23e3bd4672ef3.html'\n",
    "cypher_str = f\"\"\"\n",
    "    MATCH (fn:FileNames {{file_name: '{file_name}'}})\n",
    "    RETURN fn.file_name_id;\"\"\"\n",
    "row_objs_list = cu.get_execution_results(cypher_str, verbose=True)"
   ]
  },
  {
   "cell_type": "code",
   "execution_count": 20,
   "id": "6c7332be-18e0-48eb-b840-4e59151d1c29",
   "metadata": {},
   "outputs": [
    {
     "data": {
      "text/plain": [
       "[{'fn.file_name_id': 93}]"
      ]
     },
     "execution_count": 20,
     "metadata": {},
     "output_type": "execute_result"
    }
   ],
   "source": [
    "\n",
    "row_objs_list"
   ]
  },
  {
   "cell_type": "code",
   "execution_count": 24,
   "id": "b8b6f0a0-5f8d-4ee7-934e-6842f3393515",
   "metadata": {},
   "outputs": [
    {
     "name": "stdout",
     "output_type": "stream",
     "text": [
      "['ea.__dict__']\n",
      "['ea.display_basic_requirements', 'ea.display_reqs_from_url', 'su.find_basic_quals_section_indexes', 'ea.get_idx_list', 'ea.ha', 'ea.hc']\n"
     ]
    }
   ],
   "source": [
    "\n",
    "# <div id='jobDescriptionText' class='jobsearch-jobDescriptionText'>\n",
    "print([f'ea.{fn}' for fn in dir(ea) if 'dict' in fn.lower()])\n",
    "print([f'ea.{fn}' for fn in dir(ea) if not fn.startswith('_')])"
   ]
  },
  {
   "cell_type": "code",
   "execution_count": 15,
   "id": "224b2260-2b38-4289-9071-23bb066efd94",
   "metadata": {},
   "outputs": [
    {
     "name": "stdout",
     "output_type": "stream",
     "text": [
      "['ea.ha.NAVIGABLE_PARENT_IS_HEADER_DICT', 'ea.ha.NAVIGABLE_PARENT_IS_QUAL_DICT', 'ea.ha.__dict__', 'ea.ha.store_true_or_false_dictionary']\n",
      "['ea.ha.CHILDLESS_TAGS_LIST', 'ea.ha.CLF_NAME', 'ea.ha.CMAP', 'ea.ha.GT_REGEX', 'ea.ha.HTML_SCANNER_REGEX', 'ea.ha.LT_REGEX', 'ea.ha.NAVIGABLE_PARENT_IS_HEADER_DICT', 'ea.ha.NAVIGABLE_PARENT_IS_QUAL_DICT', 'ea.ha.QUALS_SCANNER_REGEX', 'ea.ha.SAVES_HTML_FOLDER', 'ea.ha.clean_html_str', 'ea.ha.get_body_soup', 'ea.ha.get_child_strs_from_file', 'ea.ha.get_child_tags_list', 'ea.ha.get_is_header_list', 'ea.ha.get_navigable_children', 'ea.ha.html2text', 'ea.ha.html_regex_tokenizer', 'ea.ha.quals_regex_tokenizer', 'ea.ha.store_true_or_false_dictionary', 'ea.ha.store_unique_list']\n"
     ]
    }
   ],
   "source": [
    "\n",
    "print([f'ea.ha.{fn}' for fn in dir(ea.ha) if 'dict' in fn.lower()])\n",
    "print([f'ea.ha.{fn}' for fn in dir(ea.ha) if not fn.startswith('_')])"
   ]
  },
  {
   "cell_type": "code",
   "execution_count": 16,
   "id": "6b050ec4-60cb-4f1e-80e7-bd35bb1ba55b",
   "metadata": {},
   "outputs": [
    {
     "name": "stdout",
     "output_type": "stream",
     "text": [
      "['ea.hc.POS_EXPLANATION_DICT', 'ea.hc.__dict__']\n",
      "['ea.hc.CORP_SCOPE_HEADERS_LIST', 'ea.hc.EDUC_REQS_HEADERS_LIST', 'ea.hc.INTERV_PROC_HEADERS_LIST', 'ea.hc.JOB_DURATION_HEADERS_LIST', 'ea.hc.JOB_TITLE_HEADERS_LIST', 'ea.hc.LEGAL_NOTIFS_HEADERS_LIST', 'ea.hc.OFFICE_LOC_HEADERS_LIST', 'ea.hc.OTHER_HEADERS_LIST', 'ea.hc.POST_DATE_HEADERS_LIST', 'ea.hc.POS_EXPLANATION_DICT', 'ea.hc.PREFF_QUALS_HEADERS_LIST', 'ea.hc.REQ_QUALS_HEADERS_LIST', 'ea.hc.SUPP_PAY_HEADERS_LIST', 'ea.hc.TASK_SCOPE_HEADERS_LIST', 'ea.hc.append_parts_of_speech_list', 'ea.hc.get_feature_tuple']\n"
     ]
    }
   ],
   "source": [
    "\n",
    "print([f'ea.hc.{fn}' for fn in dir(ea.hc) if 'dict' in fn.lower()])\n",
    "print([f'ea.hc.{fn}' for fn in dir(ea.hc) if not fn.startswith('_')])"
   ]
  },
  {
   "cell_type": "code",
   "execution_count": 12,
   "id": "017a130d-9a28-4066-a29f-2f351db2fbdb",
   "metadata": {},
   "outputs": [
    {
     "data": {
      "text/plain": [
       "\u001b[1;31mSignature:\u001b[0m \u001b[0mea\u001b[0m\u001b[1;33m.\u001b[0m\u001b[0mfind_basic_quals_section\u001b[0m\u001b[1;33m(\u001b[0m\u001b[0mchild_strs_list\u001b[0m\u001b[1;33m,\u001b[0m \u001b[0mverbose\u001b[0m\u001b[1;33m=\u001b[0m\u001b[1;32mFalse\u001b[0m\u001b[1;33m)\u001b[0m\u001b[1;33m\u001b[0m\u001b[1;33m\u001b[0m\u001b[0m\n",
       "\u001b[1;31mDocstring:\u001b[0m <no docstring>\n",
       "\u001b[1;31mFile:\u001b[0m      c:\\users\\daveb\\onedrive\\documents\\github\\job-hunting\\py\\html_analysis.py\n",
       "\u001b[1;31mType:\u001b[0m      method\n"
      ]
     },
     "metadata": {},
     "output_type": "display_data"
    }
   ],
   "source": [
    "\n",
    "su.find_basic_quals_section_indexes?"
   ]
  },
  {
   "cell_type": "code",
   "execution_count": 13,
   "id": "261af62c-3ee6-4db7-aa7c-e1a18af10154",
   "metadata": {},
   "outputs": [
    {
     "data": {
      "text/plain": [
       "\u001b[1;31mSignature:\u001b[0m \u001b[0mea\u001b[0m\u001b[1;33m.\u001b[0m\u001b[0mha\u001b[0m\u001b[1;33m.\u001b[0m\u001b[0mget_child_strs_from_file\u001b[0m\u001b[1;33m(\u001b[0m\u001b[0mfile_name\u001b[0m\u001b[1;33m)\u001b[0m\u001b[1;33m\u001b[0m\u001b[1;33m\u001b[0m\u001b[0m\n",
       "\u001b[1;31mDocstring:\u001b[0m <no docstring>\n",
       "\u001b[1;31mFile:\u001b[0m      c:\\users\\daveb\\onedrive\\documents\\github\\job-hunting\\py\\html_analysis.py\n",
       "\u001b[1;31mType:\u001b[0m      method\n"
      ]
     },
     "metadata": {},
     "output_type": "display_data"
    }
   ],
   "source": [
    "\n",
    "ea.ha.get_child_strs_from_file?"
   ]
  }
 ],
 "metadata": {
  "kernelspec": {
   "display_name": "Python 3 (ipykernel)",
   "language": "python",
   "name": "python3"
  },
  "language_info": {
   "codemirror_mode": {
    "name": "ipython",
    "version": 3
   },
   "file_extension": ".py",
   "mimetype": "text/x-python",
   "name": "python",
   "nbconvert_exporter": "python",
   "pygments_lexer": "ipython3",
   "version": "3.9.7"
  }
 },
 "nbformat": 4,
 "nbformat_minor": 5
}
