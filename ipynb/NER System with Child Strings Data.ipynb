{
 "cells": [
  {
   "cell_type": "code",
   "execution_count": 1,
   "metadata": {},
   "outputs": [
    {
     "name": "stdout",
     "output_type": "stream",
     "text": [
      "Pretty printing has been turned OFF\n"
     ]
    }
   ],
   "source": [
    "\n",
    "%pprint"
   ]
  },
  {
   "cell_type": "code",
   "execution_count": 2,
   "metadata": {},
   "outputs": [],
   "source": [
    "\n",
    "%run ../py/html_analysis.py"
   ]
  },
  {
   "cell_type": "raw",
   "metadata": {},
   "source": [
    "\n",
    "%run ../load_magic/storage.py\n",
    "s = Storage()"
   ]
  },
  {
   "cell_type": "markdown",
   "metadata": {},
   "source": [
    "\n",
    "----\n",
    "## Let's use the child strings data to build a NER system"
   ]
  },
  {
   "cell_type": "raw",
   "metadata": {
    "jupyter": {
     "outputs_hidden": false
    }
   },
   "source": [
    "\n",
    "from itertools import chain\n",
    "import nltk\n",
    "from sklearn.metrics import classification_report, confusion_matrix\n",
    "from sklearn.preprocessing import LabelBinarizer\n",
    "import sklearn\n",
    "import sklearn_crfsuite\n",
    "from sklearn_crfsuite import scorers\n",
    "from sklearn_crfsuite import metrics"
   ]
  },
  {
   "cell_type": "code",
   "execution_count": 139,
   "metadata": {},
   "outputs": [],
   "source": [
    "\n",
    "def get_feature_tuple(feature_dict):\n",
    "    feature_list = [feature_dict['initial_tag'], feature_dict['child_str']]\n",
    "    is_header = feature_dict['is_header']\n",
    "    if (is_header == True):\n",
    "        if feature_dict['is_task_scope']:\n",
    "            feature_list.append('H-TS')\n",
    "        elif feature_dict['is_req_quals']:\n",
    "            feature_list.append('H-RQ')\n",
    "        elif feature_dict['is_preff_quals']:\n",
    "            feature_list.append('H-PQ')\n",
    "        elif feature_dict['is_legal_notifs']:\n",
    "            feature_list.append('H-LN')\n",
    "        elif feature_dict['is_job_title']:\n",
    "            feature_list.append('H-JT')\n",
    "        elif feature_dict['is_office_loc']:\n",
    "            feature_list.append('H-OL')\n",
    "        elif feature_dict['is_job_duration']:\n",
    "            feature_list.append('H-JD')\n",
    "        elif feature_dict['is_supp_pay']:\n",
    "            feature_list.append('H-SP')\n",
    "        elif feature_dict['is_educ_reqs']:\n",
    "            feature_list.append('H-ER')\n",
    "        elif feature_dict['is_interv_proc']:\n",
    "            feature_list.append('H-IP')\n",
    "        elif feature_dict['is_corp_scope']:\n",
    "            feature_list.append('H-CS')\n",
    "        elif feature_dict['is_post_date']:\n",
    "            feature_list.append('H-PD')\n",
    "        elif feature_dict['is_other']:\n",
    "            feature_list.append('H-O')\n",
    "    elif str(is_header) == 'nan':\n",
    "        feature_list.append(np.nan)\n",
    "    else:\n",
    "        feature_list.append('O')\n",
    "\n",
    "    return tuple(feature_list)"
   ]
  },
  {
   "cell_type": "code",
   "execution_count": 134,
   "metadata": {},
   "outputs": [
    {
     "data": {
      "text/plain": [
       "('b', '<b>Duties included but not limited to:</b>', 'H-TS')"
      ]
     },
     "execution_count": 134,
     "metadata": {},
     "output_type": "execute_result"
    }
   ],
   "source": [
    "\n",
    "import random\n",
    "\n",
    "HEADER_PATTERN_DICT = s.load_object('HEADER_PATTERN_DICT')\n",
    "file_name, feature_dict_list = random.choice(list(HEADER_PATTERN_DICT.items()))\n",
    "feature_dict = random.choice(feature_dict_list)\n",
    "get_feature_tuple(feature_dict)"
   ]
  },
  {
   "cell_type": "markdown",
   "metadata": {},
   "source": [
    "\n",
    "## Train an LDA Model to use as one of the features"
   ]
  },
  {
   "cell_type": "code",
   "execution_count": 371,
   "metadata": {},
   "outputs": [
    {
     "name": "stdout",
     "output_type": "stream",
     "text": [
      "Wall time: 32.5 s\n"
     ]
    }
   ],
   "source": [
    "\n",
    "%%time\n",
    "def build_lda_predict_percent_fit():\n",
    "    from gensim.corpora.dictionary import Dictionary\n",
    "    from gensim.models.ldamodel import LdaModel\n",
    "    \n",
    "    # Build model with tokenized words\n",
    "    sents_list = [sent_str for sublist in CHILD_STRS_LIST_DICT.values() for sent_str in sublist]\n",
    "    tokenized_sents_list = [html_regex_tokenizer(sent_str) for sent_str in sents_list]\n",
    "    \n",
    "    # Create a corpus from a list of texts\n",
    "    HEADERS_DICTIONARY = Dictionary(tokenized_sents_list)\n",
    "    headers_corpus = [HEADERS_DICTIONARY.doc2bow(tag_str) for tag_str in tokenized_sents_list]\n",
    "    \n",
    "    # Train the model on the corpus\n",
    "    LDA = LdaModel(corpus=headers_corpus, num_topics=2)\n",
    "    \n",
    "    # Define a predictor\n",
    "    def predict_percent_fit(navigable_parent):\n",
    "        X_test = HEADERS_DICTIONARY.doc2bow(html_regex_tokenizer(navigable_parent))\n",
    "        result_list = LDA[X_test]\n",
    "        if len(result_list) == 1:\n",
    "            result_tuple = result_list[0]\n",
    "        elif len(result_list) == 2:\n",
    "            result_tuple = result_list[1]\n",
    "\n",
    "        # Assume it's the probability of the smaller topic\n",
    "        y_predict_proba = result_tuple[1]\n",
    "\n",
    "        return y_predict_proba\n",
    "    \n",
    "    return predict_percent_fit\n",
    "lda_predict_percent_fit = build_lda_predict_percent_fit()"
   ]
  },
  {
   "cell_type": "code",
   "execution_count": 372,
   "metadata": {},
   "outputs": [
    {
     "name": "stdout",
     "output_type": "stream",
     "text": [
      "<li>Ability to think creatively and critically and thrive in a fast-paced, dynamic, and often ambiguous work environment</li>\n"
     ]
    },
    {
     "data": {
      "text/plain": [
       "0.033679914"
      ]
     },
     "execution_count": 372,
     "metadata": {},
     "output_type": "execute_result"
    }
   ],
   "source": [
    "\n",
    "CHILD_STRS_LIST_DICT = s.load_object('CHILD_STRS_LIST_DICT')\n",
    "file_name, child_strs_list = random.choice(list(CHILD_STRS_LIST_DICT.items()))\n",
    "navigable_parent = random.choice(child_strs_list)\n",
    "print(navigable_parent)\n",
    "lda_predict_percent_fit(navigable_parent)"
   ]
  },
  {
   "cell_type": "markdown",
   "metadata": {},
   "source": [
    "\n",
    "## Train an Logistic Regression Model to use as one of the features"
   ]
  },
  {
   "cell_type": "code",
   "execution_count": 373,
   "metadata": {},
   "outputs": [
    {
     "name": "stdout",
     "output_type": "stream",
     "text": [
      "Wall time: 3.38 s\n"
     ]
    }
   ],
   "source": [
    "\n",
    "%%time\n",
    "def build_lr_predict_percent_fit():\n",
    "    from sklearn.feature_extraction.text import CountVectorizer\n",
    "    from sklearn.feature_extraction.text import TfidfTransformer\n",
    "    from sklearn.linear_model import LogisticRegression\n",
    "    \n",
    "    # Re-transform the bag-of-words and tf-idf from the new manual scores\n",
    "    BASIC_TAGS_DICT = s.load_object('BASIC_TAGS_DICT')\n",
    "    rows_list = [{'navigable_parent': navigable_parent,\n",
    "                  'is_header': is_header} for navigable_parent, is_header in BASIC_TAGS_DICT.items()]\n",
    "    child_str_df = pd.DataFrame(rows_list)\n",
    "    \n",
    "    # Bag-of-words\n",
    "    cv = CountVectorizer(**{'analyzer': 'word', 'binary': False, 'decode_error': 'strict', 'lowercase': False, 'max_df': 1.0,\n",
    "                            'max_features': None, 'min_df': 0.0, 'ngram_range': (1, 5), 'stop_words': None, 'strip_accents': 'ascii',\n",
    "                            'tokenizer': html_regex_tokenizer})\n",
    "    \n",
    "    # The shape of the count vector here should be n sentences * m unique words\n",
    "    sents_list = child_str_df.navigable_parent.tolist()\n",
    "    bow_matrix = cv.fit_transform(sents_list)\n",
    "    \n",
    "    # Tf-idf must get from Bag-of-words first\n",
    "    CS_TT = TfidfTransformer(**{'norm': 'l1', 'smooth_idf': True, 'sublinear_tf': False, 'use_idf': True})\n",
    "    tfidf_matrix = CS_TT.fit_transform(bow_matrix)\n",
    "    \n",
    "    # Re-train the classifier\n",
    "    X = tfidf_matrix.toarray()\n",
    "    y = child_str_df.is_header.to_numpy()\n",
    "    FIT_ESTIMATORS_DICT = s.load_object('FIT_ESTIMATORS_DICT')\n",
    "    CHILD_STR_CLF = FIT_ESTIMATORS_DICT['LogisticRegression']\n",
    "    CHILD_STR_CLF.fit(X, y)\n",
    "    \n",
    "    # Re-calibrate the inference engine\n",
    "    CS_CV = CountVectorizer(vocabulary=cv.vocabulary_)\n",
    "    CS_CV._validate_vocabulary()\n",
    "    \n",
    "    def predict_percent_fit(navigable_parent):\n",
    "        X_test = CS_TT.transform(CS_CV.transform([navigable_parent])).toarray()\n",
    "        y_predict_proba = CHILD_STR_CLF.predict_proba(X_test)[0][1]\n",
    "        \n",
    "        return y_predict_proba\n",
    "    \n",
    "    return predict_percent_fit\n",
    "lr_predict_percent_fit = build_lr_predict_percent_fit()"
   ]
  },
  {
   "cell_type": "code",
   "execution_count": 374,
   "metadata": {},
   "outputs": [
    {
     "name": "stdout",
     "output_type": "stream",
     "text": [
      "<li>Dataset cleaning</li>\n"
     ]
    },
    {
     "data": {
      "text/plain": [
       "0.0907600113875975"
      ]
     },
     "execution_count": 374,
     "metadata": {},
     "output_type": "execute_result"
    }
   ],
   "source": [
    "\n",
    "CHILD_STRS_LIST_DICT = s.load_object('CHILD_STRS_LIST_DICT')\n",
    "file_name, child_strs_list = random.choice(list(CHILD_STRS_LIST_DICT.items()))\n",
    "navigable_parent = random.choice(child_strs_list)\n",
    "print(navigable_parent)\n",
    "lr_predict_percent_fit(navigable_parent)"
   ]
  },
  {
   "cell_type": "code",
   "execution_count": 375,
   "metadata": {},
   "outputs": [],
   "source": [
    "\n",
    "from itertools import groupby\n",
    "\n",
    "%run ../py/tag_sets.py\n",
    "inital_tag_sets_list = [document_body_elements_set, block_elements_set, basic_text_set, section_headings_set, lists_set,\n",
    "                        other_block_elements_set, inline_elements_set, phrase_elements_set, presentation_set]\n",
    "null_element = 'plaintext'\n",
    "def word2features(sent, i):\n",
    "    tag = sent[i][0]\n",
    "    child_str = sent[i][1]\n",
    "    postag = sent[i][2]\n",
    "    \n",
    "    features = {\n",
    "        'bias': 1.0,\n",
    "        'tag.document_body_elements_set': tag in document_body_elements_set,\n",
    "        'tag.block_elements_set': tag in block_elements_set,\n",
    "        'tag.basic_text_set': tag in basic_text_set,\n",
    "        'tag.section_headings_set': tag in section_headings_set,\n",
    "        'tag.lists_set': tag in lists_set,\n",
    "        'tag.other_block_elements_set': tag in other_block_elements_set,\n",
    "        'tag.inline_elements_set': tag in inline_elements_set,\n",
    "        'tag.phrase_elements_set': tag in phrase_elements_set,\n",
    "        'tag.presentation_set': tag in presentation_set,\n",
    "        'tag.null_element': tag == null_element,\n",
    "        'postag': postag,\n",
    "        'child_str.lda': lda_predict_percent_fit(child_str),\n",
    "        'child_str.lr': lr_predict_percent_fit(child_str),\n",
    "    }\n",
    "    if i > 0:\n",
    "        tag1 = sent[i-1][0]\n",
    "        postag1 = sent[i-1][2]\n",
    "        features.update({\n",
    "            '-1:tag.document_body_elements_set': tag1 in document_body_elements_set,\n",
    "            '-1:tag.block_elements_set': tag1 in block_elements_set,\n",
    "            '-1:tag.basic_text_set': tag1 in basic_text_set,\n",
    "            '-1:tag.section_headings_set': tag1 in section_headings_set,\n",
    "            '-1:tag.lists_set': tag1 in lists_set,\n",
    "            '-1:tag.other_block_elements_set': tag1 in other_block_elements_set,\n",
    "            '-1:tag.inline_elements_set': tag1 in inline_elements_set,\n",
    "            '-1:tag.phrase_elements_set': tag1 in phrase_elements_set,\n",
    "            '-1:tag.presentation_set': tag1 in presentation_set,\n",
    "            '-1:tag.null_element': tag1 == null_element,\n",
    "            '-1:postag': postag1,\n",
    "            '-1:previous==tag': tag1 == tag,\n",
    "        })\n",
    "    else:\n",
    "        features['BOS'] = True\n",
    "        \n",
    "    if i < len(sent)-1:\n",
    "        tag1 = sent[i+1][0]\n",
    "        postag1 = sent[i+1][2]\n",
    "        features.update({\n",
    "            '+1:tag.basic_text_set': tag1 in basic_text_set,\n",
    "            '+1:tag.block_elements_set': tag1 in block_elements_set,\n",
    "            '+1:tag.document_body_elements_set': tag1 in document_body_elements_set,\n",
    "            '+1:tag.inline_elements_set': tag1 in inline_elements_set,\n",
    "            '+1:tag.lists_set': tag1 in lists_set,\n",
    "            '+1:tag.other_block_elements_set': tag1 in other_block_elements_set,\n",
    "            '+1:tag.phrase_elements_set': tag1 in phrase_elements_set,\n",
    "            '+1:tag.presentation_set': tag1 in presentation_set,\n",
    "            '+1:tag.section_headings_set': tag1 in section_headings_set,\n",
    "            '+1:tag.null_element': tag1 == null_element,\n",
    "            '+1:postag': postag1,\n",
    "            '+1:tag==previous': tag1 == tag,\n",
    "        })\n",
    "    else:\n",
    "        features['EOS'] = True\n",
    "        \n",
    "    if i < len(sent)-2:\n",
    "        tag1 = sent[i+1][0]\n",
    "        tag2 = sent[i+2][0]\n",
    "        postag2 = sent[i+2][2]\n",
    "        labels_list = sent2labels(sent)[i:]\n",
    "        consecutives_list = []\n",
    "        for k, v in groupby(labels_list):\n",
    "            consecutives_list.append((k, len(list(v))))\n",
    "        if (consecutives_list[0][1] > 1):\n",
    "            consecutive_next_tags = 0\n",
    "        else:\n",
    "            consecutive_next_tags = consecutives_list[1][1]\n",
    "        features.update({\n",
    "            '+2:tag.basic_text_set': tag2 in basic_text_set,\n",
    "            '+2:tag.block_elements_set': tag2 in block_elements_set,\n",
    "            '+2:tag.document_body_elements_set': tag2 in document_body_elements_set,\n",
    "            '+2:tag.inline_elements_set': tag2 in inline_elements_set,\n",
    "            '+2:tag.lists_set': tag2 in lists_set,\n",
    "            '+2:tag.other_block_elements_set': tag2 in other_block_elements_set,\n",
    "            '+2:tag.phrase_elements_set': tag2 in phrase_elements_set,\n",
    "            '+2:tag.presentation_set': tag2 in presentation_set,\n",
    "            '+2:tag.section_headings_set': tag2 in section_headings_set,\n",
    "            '+2:tag.null_element': tag2 == null_element,\n",
    "            '+2:postag': postag2,\n",
    "            '+2:tag==previous': tag2 == tag1,\n",
    "            'tag.consecutive_next_tags': consecutive_next_tags,\n",
    "        })\n",
    "    \n",
    "    if i < len(sent)-3:\n",
    "        tag2 = sent[i+2][0]\n",
    "        tag3 = sent[i+3][0]\n",
    "        postag3 = sent[i+3][2]\n",
    "        features.update({\n",
    "            '+3:tag.basic_text_set': tag3 in basic_text_set,\n",
    "            '+3:tag.block_elements_set': tag3 in block_elements_set,\n",
    "            '+3:tag.document_body_elements_set': tag3 in document_body_elements_set,\n",
    "            '+3:tag.inline_elements_set': tag3 in inline_elements_set,\n",
    "            '+3:tag.lists_set': tag3 in lists_set,\n",
    "            '+3:tag.other_block_elements_set': tag3 in other_block_elements_set,\n",
    "            '+3:tag.phrase_elements_set': tag3 in phrase_elements_set,\n",
    "            '+3:tag.presentation_set': tag3 in presentation_set,\n",
    "            '+3:tag.section_headings_set': tag3 in section_headings_set,\n",
    "            '+3:tag.null_element': tag3 == null_element,\n",
    "            '+3:postag': postag3,\n",
    "            '+3:tag==previous': tag3 == tag2,\n",
    "        })\n",
    "    \n",
    "    return features\n",
    "\n",
    "def sent2features(sent):\n",
    "    return [word2features(sent, i) for i in range(len(sent))]\n",
    "\n",
    "def sent2labels(sent):\n",
    "    return [label for token, child_str, label in sent]\n",
    "\n",
    "def sent2tokens(sent):\n",
    "    return [token for token, child_str, label in sent]"
   ]
  },
  {
   "cell_type": "markdown",
   "metadata": {},
   "source": [
    "\n",
    "----\n",
    "## Training\n",
    "\n",
    "To see all possible CRF parameters check its docstring. Here we are useing L-BFGS training algorithm (it is default) with Elastic Net (L1 + L2) regularization."
   ]
  },
  {
   "cell_type": "code",
   "execution_count": 376,
   "metadata": {},
   "outputs": [],
   "source": [
    "\n",
    "HEADER_PATTERN_DICT = s.load_object('HEADER_PATTERN_DICT')\n",
    "file_name, feature_dict_list = random.choice(list(HEADER_PATTERN_DICT.items()))\n",
    "sent = [get_feature_tuple(feature_dict) for feature_dict in feature_dict_list]\n",
    "labels_list = sent2labels(sent)"
   ]
  },
  {
   "cell_type": "code",
   "execution_count": 377,
   "metadata": {},
   "outputs": [
    {
     "data": {
      "text/plain": [
       "{'bias': 1.0, 'tag.document_body_elements_set': True, 'tag.block_elements_set': True, 'tag.basic_text_set': False, 'tag.section_headings_set': False, 'tag.lists_set': True, 'tag.other_block_elements_set': False, 'tag.inline_elements_set': False, 'tag.phrase_elements_set': False, 'tag.presentation_set': False, 'tag.null_element': False, 'postag': 'O', 'child_str.lda': 0.029199587, 'child_str.lr': 0.08846901510605769, '-1:tag.document_body_elements_set': True, '-1:tag.block_elements_set': False, '-1:tag.basic_text_set': False, '-1:tag.section_headings_set': False, '-1:tag.lists_set': False, '-1:tag.other_block_elements_set': False, '-1:tag.inline_elements_set': True, '-1:tag.phrase_elements_set': True, '-1:tag.presentation_set': True, '-1:tag.null_element': False, '-1:postag': 'H-RQ', '-1:previous==tag': False, '+1:tag.basic_text_set': False, '+1:tag.block_elements_set': True, '+1:tag.document_body_elements_set': True, '+1:tag.inline_elements_set': False, '+1:tag.lists_set': True, '+1:tag.other_block_elements_set': False, '+1:tag.phrase_elements_set': False, '+1:tag.presentation_set': False, '+1:tag.section_headings_set': False, '+1:tag.null_element': False, '+1:postag': 'O', '+1:tag==previous': True, '+2:tag.basic_text_set': False, '+2:tag.block_elements_set': True, '+2:tag.document_body_elements_set': True, '+2:tag.inline_elements_set': False, '+2:tag.lists_set': True, '+2:tag.other_block_elements_set': False, '+2:tag.phrase_elements_set': False, '+2:tag.presentation_set': False, '+2:tag.section_headings_set': False, '+2:tag.null_element': False, '+2:postag': 'O', '+2:tag==previous': True, 'tag.consecutive_next_tags': 0, '+3:tag.basic_text_set': False, '+3:tag.block_elements_set': True, '+3:tag.document_body_elements_set': True, '+3:tag.inline_elements_set': False, '+3:tag.lists_set': True, '+3:tag.other_block_elements_set': False, '+3:tag.phrase_elements_set': False, '+3:tag.presentation_set': False, '+3:tag.section_headings_set': False, '+3:tag.null_element': False, '+3:postag': 'O', '+3:tag==previous': True}"
      ]
     },
     "execution_count": 377,
     "metadata": {},
     "output_type": "execute_result"
    }
   ],
   "source": [
    "\n",
    "features_dict = random.choice(sent2features(sent))\n",
    "features_dict"
   ]
  },
  {
   "cell_type": "code",
   "execution_count": 378,
   "metadata": {},
   "outputs": [
    {
     "name": "stdout",
     "output_type": "stream",
     "text": [
      "Wall time: 3.56 s\n"
     ]
    }
   ],
   "source": [
    "\n",
    "%%time\n",
    "from sklearn.model_selection import train_test_split\n",
    "\n",
    "all_sents = []\n",
    "for file_name, feature_dict_list in HEADER_PATTERN_DICT.items():\n",
    "    feature_dict_list = [get_feature_tuple(feature_dict) for feature_dict in feature_dict_list]\n",
    "    all_sents.append(feature_dict_list)\n",
    "X = [sent2features(s) for s in all_sents]\n",
    "y = [sent2labels(s) for s in all_sents]\n",
    "X_train, X_test, y_train, y_test = train_test_split(X, y, test_size=0.33, random_state=42)"
   ]
  },
  {
   "cell_type": "code",
   "execution_count": 379,
   "metadata": {},
   "outputs": [
    {
     "name": "stdout",
     "output_type": "stream",
     "text": [
      "Pickling to C:\\Users\\dev\\Documents\\Repositories\\job-hunting\\saves\\pickle\\CRF.pickle\n",
      "Wall time: 588 ms\n"
     ]
    }
   ],
   "source": [
    "\n",
    "%%time\n",
    "import sklearn_crfsuite\n",
    "\n",
    "CRF = sklearn_crfsuite.CRF(\n",
    "    algorithm='lbfgs', \n",
    "    c1=0.1, \n",
    "    c2=0.1, \n",
    "    max_iterations=100, \n",
    "    all_possible_transitions=True\n",
    ")\n",
    "CRF.fit(X_train, y_train)\n",
    "s.store_objects(CRF=CRF)"
   ]
  },
  {
   "cell_type": "markdown",
   "metadata": {},
   "source": [
    "## Evaluation\n",
    "\n",
    "There is much more O entities in data set, but we're more interested in other entities. To account for this we'll use averaged F1 score computed for all labels except for O. ``sklearn-crfsuite.metrics`` package provides some useful metrics for sequence classification task, including this one."
   ]
  },
  {
   "cell_type": "code",
   "execution_count": 380,
   "metadata": {},
   "outputs": [
    {
     "data": {
      "text/plain": [
       "['H-TS', 'H-RQ', 'H-SP', 'H-JD', 'H-ER', 'H-PQ', 'H-CS', 'H-OL', 'H-LN', 'H-JT', 'H-PD', 'H-IP', 'H-O']"
      ]
     },
     "execution_count": 380,
     "metadata": {},
     "output_type": "execute_result"
    }
   ],
   "source": [
    "\n",
    "labels = list(CRF.classes_)\n",
    "labels.remove('O')\n",
    "labels"
   ]
  },
  {
   "cell_type": "code",
   "execution_count": 381,
   "metadata": {},
   "outputs": [
    {
     "name": "stderr",
     "output_type": "stream",
     "text": [
      "C:\\Users\\dev\\Anaconda3\\envs\\jh\\lib\\site-packages\\sklearn\\metrics\\_classification.py:1464: UndefinedMetricWarning: F-score is ill-defined and being set to 0.0 in labels with no true nor predicted samples. Use `zero_division` parameter to control this behavior.\n",
      "  _warn_prf(\n"
     ]
    },
    {
     "data": {
      "text/plain": [
       "0.9154135338345866"
      ]
     },
     "execution_count": 381,
     "metadata": {},
     "output_type": "execute_result"
    }
   ],
   "source": [
    "\n",
    "from sklearn_crfsuite import metrics\n",
    "\n",
    "y_pred = CRF.predict(X_test)\n",
    "metrics.flat_f1_score(y_test, y_pred, \n",
    "                      average='weighted', labels=labels)"
   ]
  },
  {
   "cell_type": "code",
   "execution_count": 382,
   "metadata": {},
   "outputs": [
    {
     "name": "stdout",
     "output_type": "stream",
     "text": [
      "              precision    recall  f1-score   support\n",
      "\n",
      "        H-TS      1.000     1.000     1.000         6\n",
      "        H-RQ      0.900     1.000     0.947         9\n",
      "        H-SP      1.000     1.000     1.000         1\n",
      "        H-JD      1.000     1.000     1.000         4\n",
      "        H-ER      1.000     1.000     1.000         1\n",
      "        H-PQ      1.000     1.000     1.000         1\n",
      "        H-CS      1.000     1.000     1.000         2\n",
      "        H-OL      1.000     1.000     1.000         5\n",
      "        H-LN      1.000     0.750     0.857         4\n",
      "        H-JT      1.000     1.000     1.000         1\n",
      "        H-PD      0.000     0.000     0.000         0\n",
      "        H-IP      0.000     0.000     0.000         2\n",
      "         H-O      0.000     0.000     0.000         0\n",
      "\n",
      "   micro avg      0.971     0.917     0.943        36\n",
      "   macro avg      0.762     0.750     0.754        36\n",
      "weighted avg      0.919     0.917     0.915        36\n",
      "\n"
     ]
    },
    {
     "name": "stderr",
     "output_type": "stream",
     "text": [
      "C:\\Users\\dev\\Anaconda3\\envs\\jh\\lib\\site-packages\\sklearn\\utils\\validation.py:67: FutureWarning: Pass labels=['H-TS', 'H-RQ', 'H-SP', 'H-JD', 'H-ER', 'H-PQ', 'H-CS', 'H-OL', 'H-LN', 'H-JT', 'H-PD', 'H-IP', 'H-O'] as keyword args. From version 0.25 passing these as positional arguments will result in an error\n",
      "  warnings.warn(\"Pass {} as keyword args. From version 0.25 \"\n",
      "C:\\Users\\dev\\Anaconda3\\envs\\jh\\lib\\site-packages\\sklearn\\metrics\\_classification.py:1221: UndefinedMetricWarning: Precision and F-score are ill-defined and being set to 0.0 in labels with no predicted samples. Use `zero_division` parameter to control this behavior.\n",
      "  _warn_prf(average, modifier, msg_start, len(result))\n",
      "C:\\Users\\dev\\Anaconda3\\envs\\jh\\lib\\site-packages\\sklearn\\metrics\\_classification.py:1221: UndefinedMetricWarning: Recall and F-score are ill-defined and being set to 0.0 in labels with no true samples. Use `zero_division` parameter to control this behavior.\n",
      "  _warn_prf(average, modifier, msg_start, len(result))\n"
     ]
    }
   ],
   "source": [
    "\n",
    "print(metrics.flat_classification_report(\n",
    "    y_test, y_pred, labels=labels, digits=3\n",
    "))"
   ]
  },
  {
   "cell_type": "code",
   "execution_count": 383,
   "metadata": {},
   "outputs": [
    {
     "data": {
      "text/plain": [
       "{'O': 0.39803969004667655, 'H-TS': 0.07572579807179716, 'H-RQ': 0.03372962404457559, 'H-SP': 0.015306130968239228, 'H-JD': 0.03352888577304933, 'H-ER': 0.021003221658905787, 'H-PQ': 0.04831105437029, 'H-CS': 0.03832698494293811, 'H-OL': 0.06803753841725507, 'H-LN': 0.13848928346853126, 'H-JT': 0.024599643230201203, 'H-PD': 0.027809169001455795, 'H-IP': 0.024595777322944348, 'H-O': 0.05249719868314041}"
      ]
     },
     "execution_count": 383,
     "metadata": {},
     "output_type": "execute_result"
    }
   ],
   "source": [
    "\n",
    "file_name, feature_dict_list = random.choice(list(HEADER_PATTERN_DICT.items()))\n",
    "feature_tuple_list = [get_feature_tuple(feature_dict) for feature_dict in feature_dict_list]\n",
    "CRF = s.load_object('CRF')\n",
    "prediction_dict_list = CRF.predict_marginals_single(sent2features(feature_tuple_list))\n",
    "random.choice(prediction_dict_list)"
   ]
  },
  {
   "cell_type": "markdown",
   "metadata": {},
   "source": [
    "\n",
    "----\n",
    "## Make a Prediction Visualization"
   ]
  },
  {
   "cell_type": "code",
   "execution_count": 384,
   "metadata": {},
   "outputs": [],
   "source": [
    "\n",
    "def plot_child_str_predictions(file_name, ax=None):\n",
    "    child_strs_list = get_child_strs_from_file(file_name)\n",
    "    HEADER_PATTERN_DICT = s.load_object('HEADER_PATTERN_DICT')\n",
    "    if file_name in HEADER_PATTERN_DICT:\n",
    "        feature_dict_list = HEADER_PATTERN_DICT[file_name]\n",
    "        feature_tuple_list = [get_feature_tuple(feature_dict) for feature_dict in feature_dict_list]\n",
    "        CRF = s.load_object('CRF')\n",
    "        prediction_dict_list = []\n",
    "        for prediction_dict in CRF.predict_marginals_single(sent2features(feature_tuple_list)):\n",
    "            prediction_dict = {'H': 1 - prediction_dict['O']}\n",
    "            prediction_dict_list.append(prediction_dict)\n",
    "    else:\n",
    "        prediction_dict_list = []\n",
    "        for child_str in child_strs_list:\n",
    "            y_predict_proba = predict_percent_fit([child_str])[0]\n",
    "            if(CLF_NAME == 'LdaModel'):\n",
    "                H = y_predict_proba\n",
    "            else:\n",
    "                H = y_predict_proba[0][1]\n",
    "            prediction_dict = {'H': H}\n",
    "            prediction_dict_list.append(prediction_dict)\n",
    "    rows_list = []\n",
    "    BASIC_TAGS_DICT = s.load_object('BASIC_TAGS_DICT')\n",
    "    for child_str, marginals_dict in zip(child_strs_list, prediction_dict_list):\n",
    "        row_dict = {'probability': marginals_dict['H']}\n",
    "        if child_str in BASIC_TAGS_DICT:\n",
    "            row_dict['actual'] = BASIC_TAGS_DICT[child_str] * 1.0\n",
    "        else:\n",
    "            row_dict['actual'] = np.nan\n",
    "        rows_list.append(row_dict)\n",
    "    df = pd.DataFrame(rows_list)\n",
    "    coor = round(df.corr().loc['probability', 'actual'], 4)\n",
    "    if (coor < 0.999) or (ax is not None):\n",
    "        if ax is None:\n",
    "            fig = plt.figure(figsize=(18, 2.5))\n",
    "            ax = fig.add_subplot(1, 1, 1)\n",
    "            title_text = fig.suptitle(t=f'Correlation to Actual: {coor}', y=1.55)\n",
    "        AxesSubplot_obj = df.plot.line(ax=ax)\n",
    "        ax.axis('off')\n",
    "        for x, child_str in enumerate(child_strs_list):\n",
    "            y = rows_list[x]['probability']\n",
    "            if str(y) == 'nan':\n",
    "                y = rows_list[x]['actual']\n",
    "            if str(y) != 'nan':\n",
    "                ax.annotate(f'{child_str[:20]}...', (x, y), ha='left', rotation=90)"
   ]
  },
  {
   "cell_type": "code",
   "execution_count": 385,
   "metadata": {},
   "outputs": [
    {
     "data": {
      "image/png": "[encoded data removed]",
      "text/plain": [
       "<Figure size 1296x180 with 1 Axes>"
      ]
     },
     "metadata": {
      "needs_background": "light"
     },
     "output_type": "display_data"
    },
    {
     "data": {
      "image/png": "[encoded data removed]",
      "text/plain": [
       "<Figure size 1296x180 with 1 Axes>"
      ]
     },
     "metadata": {
      "needs_background": "light"
     },
     "output_type": "display_data"
    }
   ],
   "source": [
    "\n",
    "for file_name in list(HEADER_PATTERN_DICT.keys()):\n",
    "    plot_child_str_predictions(file_name)"
   ]
  },
  {
   "cell_type": "raw",
   "metadata": {},
   "source": [
    "\n",
    "patterned_files_list = list(HEADER_PATTERN_DICT.keys())\n",
    "ncols = 1\n",
    "nrows = len(patterned_files_list)\n",
    "fig = plt.figure(figsize=(18, 18))\n",
    "for i, file_name in enumerate(patterned_files_list):\n",
    "    ax = fig.add_subplot(nrows, ncols, i+1)\n",
    "    plot_child_str_predictions(file_name, ax=ax)"
   ]
  },
  {
   "cell_type": "raw",
   "metadata": {},
   "source": [
    "\n",
    "HEADER_PATTERN_DICT = s.load_object('HEADER_PATTERN_DICT')\n",
    "file_name = random.choice(list(HEADER_PATTERN_DICT.keys()))\n",
    "plot_child_str_predictions(file_name)"
   ]
  },
  {
   "cell_type": "markdown",
   "metadata": {},
   "source": [
    "\n",
    "----\n",
    "# Find the Basic Qualifications Section"
   ]
  },
  {
   "cell_type": "code",
   "execution_count": 428,
   "metadata": {},
   "outputs": [],
   "source": [
    "\n",
    "def get_child_tags_list(child_strs_list):\n",
    "    child_tags_list = []\n",
    "    for navigable_parent in child_strs_list:\n",
    "        tokenized_sent = html_regex_tokenizer(navigable_parent)\n",
    "        try:\n",
    "            first_token = tokenized_sent[0]\n",
    "            if first_token[0] == '<':\n",
    "                child_tags_list.append(first_token[1:])\n",
    "            else:\n",
    "                child_tags_list.append('plaintext')\n",
    "        except:\n",
    "            child_tags_list.append('plaintext')\n",
    "    \n",
    "    return child_tags_list"
   ]
  },
  {
   "cell_type": "code",
   "execution_count": 296,
   "metadata": {},
   "outputs": [],
   "source": [
    "\n",
    "def get_is_header_list(child_strs_list):\n",
    "    is_header_list = []\n",
    "    BASIC_TAGS_DICT = s.load_object('BASIC_TAGS_DICT')\n",
    "    for navigable_parent in child_strs_list:\n",
    "        if navigable_parent in BASIC_TAGS_DICT:\n",
    "            is_header = BASIC_TAGS_DICT[navigable_parent]\n",
    "        else:\n",
    "            is_header = np.nan\n",
    "        is_header_list.append(is_header)\n",
    "    \n",
    "    return is_header_list"
   ]
  },
  {
   "cell_type": "code",
   "execution_count": 405,
   "metadata": {},
   "outputs": [],
   "source": [
    "\n",
    "def get_idx_list(items_list, item_str):\n",
    "    item_count = items_list.count(item_str)\n",
    "    idx_list = []\n",
    "    idx = -1\n",
    "    while len(idx_list) < item_count:\n",
    "        idx = items_list.index(item_str, idx+1)\n",
    "        idx_list.append(idx)\n",
    "\n",
    "    return idx_list"
   ]
  },
  {
   "cell_type": "code",
   "execution_count": 420,
   "metadata": {},
   "outputs": [],
   "source": [
    "\n",
    "def display_basic_requirements(consecutives_list, pos_list, child_strs_list):\n",
    "    rq_idx_list = get_idx_list(pos_list, 'H-RQ')\n",
    "    if len(rq_idx_list):\n",
    "        consecutives_idx_list = get_idx_list(consecutives_list, ('H-RQ', 1))\n",
    "        for rq_idx, consecutives_idx in zip(rq_idx_list, consecutives_idx_list):\n",
    "            o_count = consecutives_list[consecutives_idx+1][1]\n",
    "            display(HTML(''.join(child_strs_list[rq_idx:rq_idx+o_count+1])))"
   ]
  },
  {
   "cell_type": "code",
   "execution_count": 414,
   "metadata": {},
   "outputs": [],
   "source": [
    "\n",
    "def find_basic_quals_section(file_name):\n",
    "    child_strs_list = get_child_strs_from_file(file_name)\n",
    "    child_tags_list = get_child_tags_list(child_strs_list)\n",
    "    is_header_list = get_is_header_list(child_strs_list)\n",
    "    feature_dict_list = get_feature_dict_list(child_tags_list, is_header_list, child_strs_list)\n",
    "    feature_tuple_list = [get_feature_tuple(feature_dict) for feature_dict in feature_dict_list]\n",
    "    CRF = s.load_object('CRF')\n",
    "    crf_list = CRF.predict_single(sent2features(feature_tuple_list))\n",
    "    pos_list = []\n",
    "    BASIC_TAGS_DICT = s.load_object('BASIC_TAGS_DICT')\n",
    "    for pos, feature_tuple in zip(crf_list, feature_tuple_list):\n",
    "        navigable_parent = feature_tuple[1]\n",
    "        if navigable_parent in BASIC_TAGS_DICT:\n",
    "            if navigable_parent in TASK_SCOPE_HEADERS_LIST:\n",
    "                pos_list.append('H-TS')\n",
    "            elif navigable_parent in REQ_QUALS_HEADERS_LIST:\n",
    "                pos_list.append('H-RQ')\n",
    "            elif navigable_parent in PREFF_QUALS_HEADERS_LIST:\n",
    "                pos_list.append('H-PQ')\n",
    "            elif navigable_parent in LEGAL_NOTIFS_HEADERS_LIST:\n",
    "                pos_list.append('H-LN')\n",
    "            elif navigable_parent in JOB_TITLE_HEADERS_LIST:\n",
    "                pos_list.append('H-JT')\n",
    "            elif navigable_parent in OFFICE_LOC_HEADERS_LIST:\n",
    "                pos_list.append('H-OL')\n",
    "            elif navigable_parent in JOB_DURATION_HEADERS_LIST:\n",
    "                pos_list.append('H-JD')\n",
    "            elif navigable_parent in SUPP_PAY_HEADERS_LIST:\n",
    "                pos_list.append('H-SP')\n",
    "            elif navigable_parent in EDUC_REQS_HEADERS_LIST:\n",
    "                pos_list.append('H-ER')\n",
    "            elif navigable_parent in INTERV_PROC_HEADERS_LIST:\n",
    "                pos_list.append('H-IP')\n",
    "            elif navigable_parent in CORP_SCOPE_HEADERS_LIST:\n",
    "                pos_list.append('H-CS')\n",
    "            elif navigable_parent in POST_DATE_HEADERS_LIST:\n",
    "                pos_list.append('H-PD')\n",
    "            elif navigable_parent in OTHER_HEADERS_LIST:\n",
    "                pos_list.append('H-O')\n",
    "            else:\n",
    "                pos_list.append('O')\n",
    "        else:\n",
    "            pos_list.append(pos)\n",
    "    consecutives_list = []\n",
    "    for k, v in groupby(pos_list):\n",
    "        consecutives_list.append((k, len(list(v))))\n",
    "    \n",
    "    return consecutives_list, pos_list, feature_tuple_list, child_strs_list"
   ]
  },
  {
   "cell_type": "code",
   "execution_count": 390,
   "metadata": {},
   "outputs": [
    {
     "data": {
      "text/plain": [
       "False"
      ]
     },
     "execution_count": 390,
     "metadata": {},
     "output_type": "execute_result"
    }
   ],
   "source": [
    "\n",
    "navigable_parent = '<b>Job Duties and Responsibilities</b>'\n",
    "navigable_parent in BASIC_TAGS_DICT"
   ]
  },
  {
   "cell_type": "code",
   "execution_count": 391,
   "metadata": {},
   "outputs": [
    {
     "name": "stdout",
     "output_type": "stream",
     "text": [
      "Pickling to C:\\Users\\dev\\Documents\\Repositories\\job-hunting\\saves\\pickle\\BASIC_TAGS_DICT.pickle\n",
      "Pickling to C:\\Users\\dev\\Documents\\Repositories\\job-hunting\\saves\\pickle\\TASK_SCOPE_HEADERS_LIST.pickle\n"
     ]
    }
   ],
   "source": [
    "\n",
    "BASIC_TAGS_DICT[navigable_parent] = True\n",
    "TASK_SCOPE_HEADERS_LIST.append(navigable_parent)\n",
    "s.store_objects(BASIC_TAGS_DICT=BASIC_TAGS_DICT, TASK_SCOPE_HEADERS_LIST=TASK_SCOPE_HEADERS_LIST)"
   ]
  },
  {
   "cell_type": "code",
   "execution_count": 431,
   "metadata": {},
   "outputs": [
    {
     "name": "stdout",
     "output_type": "stream",
     "text": [
      "[('H-LN', 1), ('O', 1), ('H-PD', 1), ('O', 1), ('H-ER', 1), ('O', 1), ('H-RQ', 1), ('O', 11), ('H-RQ', 1), ('O', 11), ('H-RQ', 1), ('O', 11), ('H-RQ', 1), ('O', 4), ('H-JD', 1), ('O', 1), ('H-RQ', 1), ('O', 2), ('H-OL', 1), ('O', 1)]\n",
      "['H-LN', 'O', 'H-PD', 'O', 'H-ER', 'O', 'H-RQ', 'O', 'O', 'O', 'O', 'O', 'O', 'O', 'O', 'O', 'O', 'O', 'H-RQ', 'O', 'O', 'O', 'O', 'O', 'O', 'O', 'O', 'O', 'O', 'O', 'H-RQ', 'O', 'O', 'O', 'O', 'O', 'O', 'O', 'O', 'O', 'O', 'O', 'H-RQ', 'O', 'O', 'O', 'O', 'H-JD', 'O', 'H-RQ', 'O', 'O', 'H-OL', 'O']\n"
     ]
    },
    {
     "data": {
      "text/html": [
       "<b>Objective of this Role:</b><li>Have worked in Retail side of Pharma Industry (is a plus) on Optimization and personalization problems</li><li>Hands-on experience working on medium &amp; large-scale optimization problems (Mixed Integer, Multi-Integer, Linear Programming)</li><li>Experience working in Agile (2-weeks sprint cycle) model and is quick learner, team player and able to work in a fast-paced work environment</li><li>Experience working on Code Reviews, Code Deployment pipeline and validations, Runtime optimizations to reduce the run time by 4x or 5x</li><li>Familiarity to work in ensemble Modeling techniques and is comfortable working and further optimizing codes with new data (4x-5x increase in incoming data is expected)</li><li>Familiarity with Snowflake as model development and data management environment.</li><li>Collaborate with customer analytics teams to understand the business requirement from design, development and production-readiness for model deployments</li><li>Communicate findings, issue statuses and resolutions to all stakeholders systematically and efficiently</li><li>Smooth cross-functional coordination, enablement and implementations</li><li>Enable smarter business processes – and implement analytics for meaningful insights</li><li>Keep compliant with organizations technical stack but being current about industry developments especially in cutting edge analytics techniques and tools to continuously evolve</li>"
      ],
      "text/plain": [
       "<IPython.core.display.HTML object>"
      ]
     },
     "metadata": {},
     "output_type": "display_data"
    },
    {
     "data": {
      "text/html": [
       "<b>Roles and Responsibilities:</b><li>Work as the lead data strategists, identifying and integrating new datasets that can be leveraged through their product capabilities and work closely with engineering teams to strategize and execute the development of statistical Modeling solutions.</li><li>Execute analytics experiments methodically to help solve various problems and make a true impact through tangible solutions</li><li>Quickly grasp a business problem and identify relevant data sources and sets to mine for client business needs and collect large structured and unstructured datasets and variables.</li><li>Devise and utilize algorithms and models to mine data, perform data and error analysis to improve models and clean and validate data for uniformity and accuracy</li><li>Analyse data for trends and patterns and interpret data with clear objective in mind</li><li>Deliver well organized data analysis through reporting, dashboards, modelling and trend analysis.</li><li>Should be able to do drill down analysis of key business problems, interpret results, generate data driven insights and recommend strategies.</li><li>Manages day-to-day decisions, including business requirements, bug priorities, work assignments and work sequencing; and interfaces with senior management to report on project and program milestones and to present project needs.</li><li>Communicating the insights to the stakeholders by compelling documents, decks, and POC.</li><li>Deliver high quality and error-free work to client.</li><li>Frequent interaction with Senior Management providing status update on high priority projects and initiatives.</li>"
      ],
      "text/plain": [
       "<IPython.core.display.HTML object>"
      ]
     },
     "metadata": {},
     "output_type": "display_data"
    },
    {
     "data": {
      "text/html": [
       "<b>Qualification &amp; Experience:</b><li>Bachelor’s, Master’s or PHD (Preferred) degree in operation research, statistics, applied mathematics, or related discipline</li><li>7+ years’ experience in data science (Operations research is preferred)</li><li>2+ years of project management experience</li><li>Proficiency with data mining, mathematics, statistical analysis and Mixed-Integer programming</li><li>Advanced predictive &amp; prescriptive - machine &amp; deep learning experience</li><li>Experience working in customer analytics function (Personalization based algorithms and solutions development and deployment)</li><li>Experience with Snowflake, MySQL, ETL Pipelines, Excel, PowerPoint, Tableau, SQL, and programming languages (i.e., Java/Python, SAS)</li><li>Experience in Azure ML Suite is a bonus</li><li>Comfort working in a dynamic group with several ongoing concurrent projects</li><li>Possess strong analytical/logical thinking skills</li><li>Professional certifications</li>"
      ],
      "text/plain": [
       "<IPython.core.display.HTML object>"
      ]
     },
     "metadata": {},
     "output_type": "display_data"
    },
    {
     "data": {
      "text/html": [
       "<b>Behavioral Attributes:</b><li>Analytical thinking</li><li>Excellent Verbal/Written communication</li><li>Excellent Interpersonal &amp; Presentation skills</li><p>Job Type: Full-time</p>"
      ],
      "text/plain": [
       "<IPython.core.display.HTML object>"
      ]
     },
     "metadata": {},
     "output_type": "display_data"
    },
    {
     "data": {
      "text/html": [
       "<p>Experience:</p><li>data science: 7 years (Required)</li><li>project management: 2 years (Required)</li>"
      ],
      "text/plain": [
       "<IPython.core.display.HTML object>"
      ]
     },
     "metadata": {},
     "output_type": "display_data"
    }
   ],
   "source": [
    "\n",
    "files_list = os.listdir(SAVES_HTML_FOLDER)\n",
    "file_name = random.choice(files_list)\n",
    "while file_name in HEADER_PATTERN_DICT:\n",
    "    file_name = random.choice(files_list)\n",
    "consecutives_list, pos_list, feature_tuple_list, child_strs_list = find_basic_quals_section(file_name)\n",
    "print(consecutives_list)\n",
    "print(pos_list)\n",
    "display_basic_requirements(consecutives_list, pos_list, child_strs_list)"
   ]
  },
  {
   "cell_type": "code",
   "execution_count": 432,
   "metadata": {},
   "outputs": [
    {
     "name": "stdout",
     "output_type": "stream",
     "text": [
      "('Legal Notifications Header', '<b>Title:</b>')\n",
      "('Non-header', 'Data Scientist...')\n",
      "('Post Date Header', '<b>Location:</b>')\n",
      "('Non-header', 'Remote...')\n",
      "('Education Requirements Header', '<b>Duration:</b>')\n",
      "('Non-header', 'Contract...')\n",
      "('Required Qualifications Header', '<b>Objective of this Role:</b>')\n",
      "('Non-header', '<li>Have worked in Retail side of Pharma Industry ...')\n",
      "('Non-header', '<li>Hands-on experience working on medium &amp; la...')\n",
      "('Non-header', '<li>Experience working in Agile (2-weeks sprint cy...')\n",
      "('Non-header', '<li>Experience working on Code Reviews, Code Deplo...')\n",
      "('Non-header', '<li>Familiarity to work in ensemble Modeling techn...')\n",
      "('Non-header', '<li>Familiarity with Snowflake as model developmen...')\n",
      "('Non-header', '<li>Collaborate with customer analytics teams to u...')\n",
      "('Non-header', '<li>Communicate findings, issue statuses and resol...')\n",
      "('Non-header', '<li>Smooth cross-functional coordination, enableme...')\n",
      "('Non-header', '<li>Enable smarter business processes – and implem...')\n",
      "('Non-header', '<li>Keep compliant with organizations technical st...')\n",
      "('Required Qualifications Header', '<b>Roles and Responsibilities:</b>')\n",
      "('Non-header', '<li>Work as the lead data strategists, identifying...')\n",
      "('Non-header', '<li>Execute analytics experiments methodically to ...')\n",
      "('Non-header', '<li>Quickly grasp a business problem and identify ...')\n",
      "('Non-header', '<li>Devise and utilize algorithms and models to mi...')\n",
      "('Non-header', '<li>Analyse data for trends and patterns and inter...')\n",
      "('Non-header', '<li>Deliver well organized data analysis through r...')\n",
      "('Non-header', '<li>Should be able to do drill down analysis of ke...')\n",
      "('Non-header', '<li>Manages day-to-day decisions, including busine...')\n",
      "('Non-header', '<li>Communicating the insights to the stakeholders...')\n",
      "('Non-header', '<li>Deliver high quality and error-free work to cl...')\n",
      "('Non-header', '<li>Frequent interaction with Senior Management pr...')\n",
      "('Required Qualifications Header', '<b>Qualification &amp; Experience:</b>')\n",
      "('Non-header', '<li>Bachelor’s, Master’s or PHD (Preferred) degree...')\n",
      "('Non-header', '<li>7+ years’ experience in data science (Operatio...')\n",
      "('Non-header', '<li>2+ years of project management experience</li>...')\n",
      "('Non-header', '<li>Proficiency with data mining, mathematics, sta...')\n",
      "('Non-header', '<li>Advanced predictive &amp; prescriptive - machi...')\n",
      "('Non-header', '<li>Experience working in customer analytics funct...')\n",
      "('Non-header', '<li>Experience with Snowflake, MySQL, ETL Pipeline...')\n",
      "('Non-header', '<li>Experience in Azure ML Suite is a bonus</li>...')\n",
      "('Non-header', '<li>Comfort working in a dynamic group with severa...')\n",
      "('Non-header', '<li>Possess strong analytical/logical thinking ski...')\n",
      "('Non-header', '<li>Professional certifications</li>...')\n",
      "('Required Qualifications Header', '<b>Behavioral Attributes:</b>')\n",
      "('Non-header', '<li>Analytical thinking</li>...')\n",
      "('Non-header', '<li>Excellent Verbal/Written communication</li>...')\n",
      "('Non-header', '<li>Excellent Interpersonal &amp; Presentation ski...')\n",
      "('Non-header', '<p>Job Type: Full-time</p>...')\n",
      "('Job Duration Header', '<p>Schedule:</p>')\n",
      "('Non-header', '<li>8 hour shift</li>...')\n",
      "('Required Qualifications Header', '<p>Experience:</p>')\n",
      "('Non-header', '<li>data science: 7 years (Required)</li>...')\n",
      "('Non-header', '<li>project management: 2 years (Required)</li>...')\n",
      "('Office Location Header', '<p>Work Remotely:</p>')\n",
      "('Non-header', '<li>Yes, always</li>...')\n"
     ]
    }
   ],
   "source": [
    "\n",
    "pos_explanation_dict = s.load_object('pos_explanation_dict')\n",
    "for pos_tuple in [(pos_explanation_dict[pos],\n",
    "                   feature_tuple[1] if pos != 'O' else f'{feature_tuple[1][:50]}...') for pos, feature_tuple in zip(pos_list, feature_tuple_list)]:\n",
    "    print(pos_tuple)"
   ]
  },
  {
   "cell_type": "code",
   "execution_count": 127,
   "metadata": {},
   "outputs": [
    {
     "data": {
      "text/plain": [
       "['random.randint']"
      ]
     },
     "execution_count": 127,
     "metadata": {},
     "output_type": "execute_result"
    }
   ],
   "source": [
    "\n",
    "[f'random.{fn}' for fn in dir(random) if 'int' in fn.lower()]"
   ]
  },
  {
   "cell_type": "code",
   "execution_count": 138,
   "metadata": {},
   "outputs": [
    {
     "name": "stdout",
     "output_type": "stream",
     "text": [
      "nan True\n"
     ]
    }
   ],
   "source": [
    "\n",
    "is_header = feature_dict_list[idx]['is_header']\n",
    "print((is_header == True), (str(is_header) == 'nan'))"
   ]
  },
  {
   "cell_type": "code",
   "execution_count": 34,
   "metadata": {},
   "outputs": [],
   "source": [
    "\n",
    "text_editor_path = r'C:\\Program Files\\Notepad++\\notepad++.exe'\n",
    "file_path = os.path.join(SAVES_HTML_FOLDER, file_name)\n",
    "!\"{text_editor_path}\" \"{os.path.abspath(file_path)}\""
   ]
  },
  {
   "cell_type": "code",
   "execution_count": 40,
   "metadata": {},
   "outputs": [
    {
     "name": "stdout",
     "output_type": "stream",
     "text": [
      "Pickling to C:\\Users\\dev\\Documents\\Repositories\\job-hunting\\saves\\pickle\\child_str_df.pickle\n"
     ]
    },
    {
     "data": {
      "text/plain": [
       "['<b>Where You Come In:</b>', '<b>What it Takes to Succeed:</b>', '<div>CCPA Privacy Notice</div>', '<b>Position</b>', '<b>Location</b>', '<b>Duration</b>', '<b>A candidate must:</b>', '<b>Position Requirements:</b>', '<p>Schedule:</p>', '<p>Supplemental Pay:</p>', '<p>Education:</p>', '<p>Experience:</p>', '<p>Work Remotely:</p>', '<p>COVID-19 Precaution(s):</p>', '<p>Work Location:</p>', '<b>Responsibilities:</b>', '<b>Qualifications:</b>', '<b>Primary Responsibilities:</b>', '<b>Required Qualifications:</b>', '<b>Preferred Qualifications:</b>', '<b>Careers with Optum.</b>', '<h2 class=\"jobsearch-JobDescriptionSection-jobDescriptionTitle icl-u-xs-my--md\" id=\"jobDescriptionTitle\">Full Job Description</h2>', '<b>What will you do?</b>', '<b>What does your success look like in the first 90 days?</b>', '<b>What are we looking for?</b>', '<b>What skills, experiences, and education are required?</b>', '<b>Why LPL?</b>', '<b>Information on Interviews:</b>', '<b>Location and Travel:</b>', '<b>Employee Status :</b>', '<b>Shift :</b>', '<b>Travel :</b>', '<b>Job Posting :</b>', '<b>Job Summary</b>', '<b>Core Responsibilities</b>', '<b>Qualifying Experience</b>', '<p>Application Question:</p>', \"<p>Company's website:</p>\", '<b>Duties included but not limited to:</b>', 'Translate / Interpret:', 'Measure / Quantify / Expand:', 'Explore / Enlighten:', '<b>The Ideal Candidate will:</b>', '<b>Requirements:</b>', '<b>EOE Statement:</b>', '<b>Responsibilities</b>', '<div>Key responsibilities in this role include:</div>', '<b>Qualifications</b>', '<p>You are...</p>', '<b>Options</b>', '<div>Share</div>', 'Overview:', 'Responsibilities:', 'Qualifications:', 'Minimum Skill Qualifications', '<b>This means you will:</b>', '<b>To do that, this mean you have:</b>', '<b>And we love people who:</b>', '<b>ROLE SUMMARY</b>', '<b>ROLE RESPONSIBILITIES</b>', '<b>QUALIFICATIONS</b>', '<b>Sunshine Act</b>', '<b>EEO &amp; Employment Eligibility</b>', '<b>Patients First | Innovation | Winning Culture | Heart Recovery</b>', '<b>Key Responsibilities</b>', '<b>Job Qualifications</b>', '<b>A strong candidate will also have</b>', '<b>Cogito Business Intelligence Developer, Enterprise Data &amp; Digital Health</b>', '<b>Description</b>', '<b>Overview</b>', '<b>Summary</b>', '<b>Principal Duties &amp; Responsibilities</b>', '<b>Education</b>', '<b>Work Experience</b>', '<b>License and Certifications</b>', '<b>Skills, Abilities &amp; Competencies</b>', '<b>Working Conditions</b>', '<b>EEO Statement</b>', '<b>Primary Location</b>', '<b>Work Locations</b>']"
      ]
     },
     "execution_count": 40,
     "metadata": {},
     "output_type": "execute_result"
    }
   ],
   "source": [
    "\n",
    "BASIC_TAGS_DICT = s.load_object('BASIC_TAGS_DICT')\n",
    "rows_list = [{'navigable_parent': navigable_parent, 'is_header': is_header} for navigable_parent, is_header in BASIC_TAGS_DICT.items()]\n",
    "child_str_df = pd.DataFrame(rows_list)\n",
    "s.store_objects(child_str_df=child_str_df)\n",
    "child_str_df = s.load_object('child_str_df')\n",
    "child_str_df[child_str_df.is_header].navigable_parent.tolist()"
   ]
  },
  {
   "cell_type": "markdown",
   "metadata": {},
   "source": [
    "\n",
    "----"
   ]
  },
  {
   "cell_type": "code",
   "execution_count": 174,
   "metadata": {},
   "outputs": [
    {
     "data": {
      "text/plain": [
       "{'initial_tag:p': 1.0, 'is_header': 1.0, 'is_task_scope': 0.0, 'is_req_quals': 0.0, 'is_preff_quals': 0.0, 'is_legal_notifs': 1.0, 'is_job_title': 0.0, 'is_office_loc': 0.0, 'is_job_duration': 0.0, 'is_supp_pay': 0.0, 'is_educ_reqs': 0.0, 'is_interv_proc': 0.0, 'is_corp_scope': 0.0, 'is_post_date': 0.0, 'is_other': 0.0, 'child_str:<p>Application Question:</p>': 1.0}"
      ]
     },
     "execution_count": 174,
     "metadata": {},
     "output_type": "execute_result"
    }
   ],
   "source": [
    "\n",
    "from pycrfsuite import ItemSequence\n",
    "\n",
    "HEADER_PATTERN_DICT = s.load_object('HEADER_PATTERN_DICT')\n",
    "#sequence_obj_dict = {file_name: ItemSequence(feature_dict_list) for file_name, feature_dict_list in HEADER_PATTERN_DICT.items()}\n",
    "file_name, feature_dict_list = random.choice(list(HEADER_PATTERN_DICT.items()))\n",
    "sequence_obj = ItemSequence(feature_dict_list)\n",
    "random.choice(sequence_obj.items())"
   ]
  },
  {
   "cell_type": "markdown",
   "metadata": {},
   "source": [
    "\n",
    "----\n",
    "# Create the Header Pattern Dictionary"
   ]
  },
  {
   "cell_type": "code",
   "execution_count": 365,
   "metadata": {},
   "outputs": [],
   "source": [
    "\n",
    "TASK_SCOPE_HEADERS_LIST = s.load_object('TASK_SCOPE_HEADERS_LIST')\n",
    "REQ_QUALS_HEADERS_LIST = s.load_object('REQ_QUALS_HEADERS_LIST')\n",
    "PREFF_QUALS_HEADERS_LIST = s.load_object('PREFF_QUALS_HEADERS_LIST')\n",
    "LEGAL_NOTIFS_HEADERS_LIST = s.load_object('LEGAL_NOTIFS_HEADERS_LIST')\n",
    "JOB_TITLE_HEADERS_LIST = s.load_object('JOB_TITLE_HEADERS_LIST')\n",
    "OFFICE_LOC_HEADERS_LIST = s.load_object('OFFICE_LOC_HEADERS_LIST')\n",
    "JOB_DURATION_HEADERS_LIST = s.load_object('JOB_DURATION_HEADERS_LIST')\n",
    "SUPP_PAY_HEADERS_LIST = s.load_object('SUPP_PAY_HEADERS_LIST')\n",
    "EDUC_REQS_HEADERS_LIST = s.load_object('EDUC_REQS_HEADERS_LIST')\n",
    "INTERV_PROC_HEADERS_LIST = s.load_object('INTERV_PROC_HEADERS_LIST')\n",
    "CORP_SCOPE_HEADERS_LIST = s.load_object('CORP_SCOPE_HEADERS_LIST')\n",
    "POST_DATE_HEADERS_LIST = s.load_object('POST_DATE_HEADERS_LIST')\n",
    "OTHER_HEADERS_LIST = s.load_object('OTHER_HEADERS_LIST')\n",
    "def get_feature_dict_list(child_tags_list, is_header_list, child_strs_list):\n",
    "    feature_dict_list = [{'initial_tag': tag, 'is_header': is_header,\n",
    "                          'is_task_scope': child_str in TASK_SCOPE_HEADERS_LIST,\n",
    "                          'is_req_quals': child_str in REQ_QUALS_HEADERS_LIST,\n",
    "                          'is_preff_quals': child_str in PREFF_QUALS_HEADERS_LIST,\n",
    "                          'is_legal_notifs': child_str in LEGAL_NOTIFS_HEADERS_LIST,\n",
    "                          'is_job_title': child_str in JOB_TITLE_HEADERS_LIST,\n",
    "                          'is_office_loc': child_str in OFFICE_LOC_HEADERS_LIST,\n",
    "                          'is_job_duration': child_str in JOB_DURATION_HEADERS_LIST,\n",
    "                          'is_supp_pay': child_str in SUPP_PAY_HEADERS_LIST,\n",
    "                          'is_educ_reqs': child_str in EDUC_REQS_HEADERS_LIST,\n",
    "                          'is_interv_proc': child_str in INTERV_PROC_HEADERS_LIST,\n",
    "                          'is_corp_scope': child_str in CORP_SCOPE_HEADERS_LIST,\n",
    "                          'is_post_date': child_str in POST_DATE_HEADERS_LIST,\n",
    "                          'is_other': child_str in OTHER_HEADERS_LIST,\n",
    "                          'child_str': child_str} for tag, is_header, child_str in zip(child_tags_list, is_header_list, child_strs_list)]\n",
    "    \n",
    "    return feature_dict_list"
   ]
  },
  {
   "cell_type": "code",
   "execution_count": 366,
   "metadata": {},
   "outputs": [
    {
     "name": "stdout",
     "output_type": "stream",
     "text": [
      "Pickling to C:\\Users\\dev\\Documents\\Repositories\\job-hunting\\saves\\pickle\\CHILD_STRS_LIST_DICT.pickle\n",
      "Pickling to C:\\Users\\dev\\Documents\\Repositories\\job-hunting\\saves\\pickle\\HEADER_PATTERN_DICT.pickle\n",
      "Pickling to C:\\Users\\dev\\Documents\\Repositories\\job-hunting\\saves\\pickle\\CHILD_STRS_LIST_DICT.pickle\n",
      "Pickling to C:\\Users\\dev\\Documents\\Repositories\\job-hunting\\saves\\pickle\\HEADER_PATTERN_DICT.pickle\n",
      "Pickling to C:\\Users\\dev\\Documents\\Repositories\\job-hunting\\saves\\pickle\\CHILD_STRS_LIST_DICT.pickle\n",
      "Pickling to C:\\Users\\dev\\Documents\\Repositories\\job-hunting\\saves\\pickle\\HEADER_PATTERN_DICT.pickle\n",
      "Pickling to C:\\Users\\dev\\Documents\\Repositories\\job-hunting\\saves\\pickle\\CHILD_STRS_LIST_DICT.pickle\n",
      "Pickling to C:\\Users\\dev\\Documents\\Repositories\\job-hunting\\saves\\pickle\\HEADER_PATTERN_DICT.pickle\n",
      "Pickling to C:\\Users\\dev\\Documents\\Repositories\\job-hunting\\saves\\pickle\\CHILD_STRS_LIST_DICT.pickle\n",
      "Pickling to C:\\Users\\dev\\Documents\\Repositories\\job-hunting\\saves\\pickle\\HEADER_PATTERN_DICT.pickle\n",
      "Pickling to C:\\Users\\dev\\Documents\\Repositories\\job-hunting\\saves\\pickle\\CHILD_STRS_LIST_DICT.pickle\n",
      "Pickling to C:\\Users\\dev\\Documents\\Repositories\\job-hunting\\saves\\pickle\\HEADER_PATTERN_DICT.pickle\n",
      "Pickling to C:\\Users\\dev\\Documents\\Repositories\\job-hunting\\saves\\pickle\\CHILD_STRS_LIST_DICT.pickle\n",
      "Pickling to C:\\Users\\dev\\Documents\\Repositories\\job-hunting\\saves\\pickle\\HEADER_PATTERN_DICT.pickle\n",
      "Pickling to C:\\Users\\dev\\Documents\\Repositories\\job-hunting\\saves\\pickle\\CHILD_STRS_LIST_DICT.pickle\n",
      "Pickling to C:\\Users\\dev\\Documents\\Repositories\\job-hunting\\saves\\pickle\\HEADER_PATTERN_DICT.pickle\n",
      "Pickling to C:\\Users\\dev\\Documents\\Repositories\\job-hunting\\saves\\pickle\\CHILD_STRS_LIST_DICT.pickle\n",
      "Pickling to C:\\Users\\dev\\Documents\\Repositories\\job-hunting\\saves\\pickle\\HEADER_PATTERN_DICT.pickle\n",
      "Pickling to C:\\Users\\dev\\Documents\\Repositories\\job-hunting\\saves\\pickle\\HEADER_PATTERN_DICT.pickle\n",
      "Pickling to C:\\Users\\dev\\Documents\\Repositories\\job-hunting\\saves\\pickle\\HEADER_PATTERN_DICT.pickle\n",
      "Pickling to C:\\Users\\dev\\Documents\\Repositories\\job-hunting\\saves\\pickle\\HEADER_PATTERN_DICT.pickle\n",
      "Pickling to C:\\Users\\dev\\Documents\\Repositories\\job-hunting\\saves\\pickle\\HEADER_PATTERN_DICT.pickle\n",
      "Pickling to C:\\Users\\dev\\Documents\\Repositories\\job-hunting\\saves\\pickle\\HEADER_PATTERN_DICT.pickle\n",
      "Pickling to C:\\Users\\dev\\Documents\\Repositories\\job-hunting\\saves\\pickle\\HEADER_PATTERN_DICT.pickle\n",
      "Pickling to C:\\Users\\dev\\Documents\\Repositories\\job-hunting\\saves\\pickle\\HEADER_PATTERN_DICT.pickle\n",
      "Pickling to C:\\Users\\dev\\Documents\\Repositories\\job-hunting\\saves\\pickle\\HEADER_PATTERN_DICT.pickle\n",
      "Pickling to C:\\Users\\dev\\Documents\\Repositories\\job-hunting\\saves\\pickle\\HEADER_PATTERN_DICT.pickle\n"
     ]
    }
   ],
   "source": [
    "\n",
    "from bs4 import BeautifulSoup\n",
    "import re\n",
    "%run ../load_magic/storage.py\n",
    "s = Storage()\n",
    "\n",
    "SAVES_HTML_FOLDER = os.path.join(s.saves_folder, 'html')\n",
    "files_list = os.listdir(SAVES_HTML_FOLDER)\n",
    "\n",
    "%run ../py/html_analysis.py\n",
    "\n",
    "assert s.pickle_exists('CHILD_STRS_LIST_DICT')\n",
    "CHILD_STRS_LIST_DICT = s.load_object('CHILD_STRS_LIST_DICT')\n",
    "assert s.pickle_exists('BASIC_TAGS_DICT')\n",
    "BASIC_TAGS_DICT = s.load_object('BASIC_TAGS_DICT')\n",
    "HEADER_PATTERN_DICT = {}\n",
    "for file_name in files_list:\n",
    "    if file_name in CHILD_STRS_LIST_DICT:\n",
    "        child_strs_list = CHILD_STRS_LIST_DICT[file_name]\n",
    "    else:\n",
    "        file_path = os.path.join(SAVES_HTML_FOLDER, file_name)\n",
    "        with open(file_path, 'r', encoding='utf-8') as f:\n",
    "            html_str = f.read()\n",
    "            job_soup = BeautifulSoup(html_str, 'lxml')\n",
    "            body_soup = job_soup.find_all(name='body')[0]\n",
    "            child_strs_list = get_navigable_children(body_soup, [])\n",
    "    navigable_parent = child_strs_list[0]\n",
    "    if navigable_parent not in BASIC_TAGS_DICT:\n",
    "        continue\n",
    "    child_tags_list = []\n",
    "    is_header_list = []\n",
    "    for navigable_parent in child_strs_list:\n",
    "        if navigable_parent not in BASIC_TAGS_DICT:\n",
    "            break\n",
    "        tokenized_sent = html_regex_tokenizer(navigable_parent)\n",
    "        try:\n",
    "            first_token = tokenized_sent[0]\n",
    "            if first_token[0] == '<':\n",
    "                child_tags_list.append(first_token[1:])\n",
    "            else:\n",
    "                child_tags_list.append('plaintext')\n",
    "        except:\n",
    "            child_tags_list.append('plaintext')\n",
    "        is_header = BASIC_TAGS_DICT[navigable_parent]\n",
    "        is_header_list.append(is_header)\n",
    "    if len(child_tags_list) == len(child_strs_list):\n",
    "        if file_name not in CHILD_STRS_LIST_DICT:\n",
    "            CHILD_STRS_LIST_DICT[file_name] = child_strs_list\n",
    "            s.store_objects(CHILD_STRS_LIST_DICT=CHILD_STRS_LIST_DICT)\n",
    "        if file_name not in HEADER_PATTERN_DICT:\n",
    "            item_sequence = get_feature_dict_list(child_tags_list, is_header_list, child_strs_list)\n",
    "            HEADER_PATTERN_DICT[file_name] = item_sequence\n",
    "            s.store_objects(HEADER_PATTERN_DICT=HEADER_PATTERN_DICT)"
   ]
  },
  {
   "cell_type": "code",
   "execution_count": 4,
   "metadata": {},
   "outputs": [
    {
     "name": "stdout",
     "output_type": "stream",
     "text": [
      "C:\\Users\\dev\\Anaconda3\\envs\\jh\\python.exe -m pip install --upgrade sklearn-crfsuite\n",
      "Collecting sklearn-crfsuite\n",
      "  Downloading sklearn_crfsuite-0.3.6-py2.py3-none-any.whl (12 kB)\n",
      "Requirement already satisfied, skipping upgrade: tqdm>=2.0 in c:\\users\\dev\\anaconda3\\envs\\jh\\lib\\site-packages (from sklearn-crfsuite) (4.52.0)\n",
      "Requirement already satisfied, skipping upgrade: six in c:\\users\\dev\\anaconda3\\envs\\jh\\lib\\site-packages (from sklearn-crfsuite) (1.15.0)\n",
      "Requirement already satisfied, skipping upgrade: python-crfsuite>=0.8.3 in c:\\users\\dev\\anaconda3\\envs\\jh\\lib\\site-packages (from sklearn-crfsuite) (0.9.7)\n",
      "Requirement already satisfied, skipping upgrade: tabulate in c:\\users\\dev\\anaconda3\\envs\\jh\\lib\\site-packages (from sklearn-crfsuite) (0.8.7)\n",
      "Installing collected packages: sklearn-crfsuite\n",
      "Successfully installed sklearn-crfsuite-0.3.6\n"
     ]
    }
   ],
   "source": [
    "\n",
    "import sys\n",
    "\n",
    "command_str = f'{sys.executable} -m pip install --upgrade sklearn-crfsuite'\n",
    "print(command_str)\n",
    "!{command_str}"
   ]
  },
  {
   "cell_type": "code",
   "execution_count": 175,
   "metadata": {},
   "outputs": [
    {
     "name": "stdout",
     "output_type": "stream",
     "text": [
      "Pickling to C:\\Users\\dev\\Documents\\Repositories\\job-hunting\\saves\\pickle\\TASK_SCOPE_HEADERS_LIST.pickle\n",
      "Pickling to C:\\Users\\dev\\Documents\\Repositories\\job-hunting\\saves\\pickle\\REQ_QUALS_HEADERS_LIST.pickle\n",
      "Pickling to C:\\Users\\dev\\Documents\\Repositories\\job-hunting\\saves\\pickle\\PREFF_QUALS_HEADERS_LIST.pickle\n",
      "Pickling to C:\\Users\\dev\\Documents\\Repositories\\job-hunting\\saves\\pickle\\LEGAL_NOTIFS_HEADERS_LIST.pickle\n",
      "Pickling to C:\\Users\\dev\\Documents\\Repositories\\job-hunting\\saves\\pickle\\JOB_TITLE_HEADERS_LIST.pickle\n",
      "Pickling to C:\\Users\\dev\\Documents\\Repositories\\job-hunting\\saves\\pickle\\OFFICE_LOC_HEADERS_LIST.pickle\n",
      "Pickling to C:\\Users\\dev\\Documents\\Repositories\\job-hunting\\saves\\pickle\\JOB_DURATION_HEADERS_LIST.pickle\n",
      "Pickling to C:\\Users\\dev\\Documents\\Repositories\\job-hunting\\saves\\pickle\\SUPP_PAY_HEADERS_LIST.pickle\n",
      "Pickling to C:\\Users\\dev\\Documents\\Repositories\\job-hunting\\saves\\pickle\\EDUC_REQS_HEADERS_LIST.pickle\n",
      "Pickling to C:\\Users\\dev\\Documents\\Repositories\\job-hunting\\saves\\pickle\\INTERV_PROC_HEADERS_LIST.pickle\n",
      "Pickling to C:\\Users\\dev\\Documents\\Repositories\\job-hunting\\saves\\pickle\\CORP_SCOPE_HEADERS_LIST.pickle\n",
      "Pickling to C:\\Users\\dev\\Documents\\Repositories\\job-hunting\\saves\\pickle\\POST_DATE_HEADERS_LIST.pickle\n",
      "Pickling to C:\\Users\\dev\\Documents\\Repositories\\job-hunting\\saves\\pickle\\OTHER_HEADERS_LIST.pickle\n"
     ]
    }
   ],
   "source": [
    "\n",
    "TASK_SCOPE_HEADERS_LIST = ['<b>Where You Come In:</b>', '<b>Responsibilities:</b>', '<b>Primary Responsibilities:</b>',\n",
    "                           '<h2 class=\"jobsearch-JobDescriptionSection-jobDescriptionTitle icl-u-xs-my--md\" id=\"jobDescriptionTitle\">' +\n",
    "                           'Full Job Description</h2>', '<b>What will you do?</b>',\n",
    "                           '<b>What does your success look like in the first 90 days?</b>',\n",
    "                           '<b>Job Summary</b>', '<b>Core Responsibilities</b>', '<b>Duties included but not limited to:</b>',\n",
    "                           'Translate / Interpret:', 'Measure / Quantify / Expand:', 'Explore / Enlighten:', '<b>Responsibilities</b>',\n",
    "                           '<div>Key responsibilities in this role include:</div>', 'Overview:', 'Responsibilities:',\n",
    "                           '<b>This means you will:</b>',\n",
    "                           '<b>ROLE SUMMARY</b>', '<b>ROLE RESPONSIBILITIES</b>', '<b>Key Responsibilities</b>', '<b>Description</b>',\n",
    "                           '<b>Overview</b>', '<b>Summary</b>', '<b>Principal Duties &amp; Responsibilities</b>']\n",
    "REQ_QUALS_HEADERS_LIST = ['<b>What it Takes to Succeed:</b>', '<b>A candidate must:</b>', '<b>Position Requirements:</b>',\n",
    "                          '<p>Experience:</p>', '<b>Qualifications:</b>', '<b>Required Qualifications:</b>',\n",
    "                          '<b>What skills, experiences, and education are required?</b>', '<b>Qualifying Experience</b>', '<b>Requirements:</b>',\n",
    "                          '<b>Qualifications</b>', 'Qualifications:', 'Minimum Skill Qualifications', '<b>To do that, this mean you have:</b>',\n",
    "                          '<b>QUALIFICATIONS</b>', '<b>Job Qualifications</b>', '<b>Work Experience</b>', '<b>License and Certifications</b>',\n",
    "                          '<b>Skills, Abilities &amp; Competencies</b>']\n",
    "PREFF_QUALS_HEADERS_LIST = ['<b>Preferred Qualifications:</b>', '<b>What are we looking for?</b>', '<b>The Ideal Candidate will:</b>',\n",
    "                            '<p>You are...</p>', '<b>And we love people who:</b>', '<b>A strong candidate will also have</b>']\n",
    "LEGAL_NOTIFS_HEADERS_LIST = ['<div>CCPA Privacy Notice</div>', '<p>Application Question:</p>', '<b>EOE Statement:</b>', '<b>Sunshine Act</b>',\n",
    "                             '<b>EEO &amp; Employment Eligibility</b>', '<b>EEO Statement</b>']\n",
    "JOB_TITLE_HEADERS_LIST = ['<b>Position</b>']\n",
    "OFFICE_LOC_HEADERS_LIST = ['<b>Location</b>', '<p>Work Remotely:</p>', '<p>Work Location:</p>', '<b>Location and Travel:</b>', '<b>Travel :</b>',\n",
    "                           '<b>Working Conditions</b>', '<b>Primary Location</b>', '<b>Work Locations</b>']\n",
    "JOB_DURATION_HEADERS_LIST = ['<b>Duration</b>', '<p>Schedule:</p>', '<b>Employee Status :</b>', '<b>Shift :</b>']\n",
    "SUPP_PAY_HEADERS_LIST = ['<p>Supplemental Pay:</p>', '<b>Options</b>']\n",
    "EDUC_REQS_HEADERS_LIST = ['<p>Education:</p>', '<b>Education</b>']\n",
    "INTERV_PROC_HEADERS_LIST = ['<p>COVID-19 Precaution(s):</p>']\n",
    "CORP_SCOPE_HEADERS_LIST = ['<b>Careers with Optum.</b>', '<b>Why LPL?</b>', '<b>Information on Interviews:</b>', \"<p>Company's website:</p>\",\n",
    "                           '<b>Patients First | Innovation | Winning Culture | Heart Recovery</b>',\n",
    "                           '<b>Cogito Business Intelligence Developer, Enterprise Data &amp; Digital Health</b>']\n",
    "POST_DATE_HEADERS_LIST = ['<b>Job Posting :</b>']\n",
    "OTHER_HEADERS_LIST = ['<div>Share</div>']\n",
    "s.store_objects(TASK_SCOPE_HEADERS_LIST=TASK_SCOPE_HEADERS_LIST, REQ_QUALS_HEADERS_LIST=REQ_QUALS_HEADERS_LIST,\n",
    "                PREFF_QUALS_HEADERS_LIST=PREFF_QUALS_HEADERS_LIST, LEGAL_NOTIFS_HEADERS_LIST=LEGAL_NOTIFS_HEADERS_LIST,\n",
    "                JOB_TITLE_HEADERS_LIST=JOB_TITLE_HEADERS_LIST, OFFICE_LOC_HEADERS_LIST=OFFICE_LOC_HEADERS_LIST,\n",
    "                JOB_DURATION_HEADERS_LIST=JOB_DURATION_HEADERS_LIST, SUPP_PAY_HEADERS_LIST=SUPP_PAY_HEADERS_LIST,\n",
    "                EDUC_REQS_HEADERS_LIST=EDUC_REQS_HEADERS_LIST, INTERV_PROC_HEADERS_LIST=INTERV_PROC_HEADERS_LIST,\n",
    "                CORP_SCOPE_HEADERS_LIST=CORP_SCOPE_HEADERS_LIST, POST_DATE_HEADERS_LIST=POST_DATE_HEADERS_LIST,\n",
    "                OTHER_HEADERS_LIST=OTHER_HEADERS_LIST)"
   ]
  },
  {
   "cell_type": "code",
   "execution_count": 148,
   "metadata": {},
   "outputs": [
    {
     "name": "stdout",
     "output_type": "stream",
     "text": [
      "Pickling to C:\\Users\\dev\\Documents\\Repositories\\job-hunting\\saves\\pickle\\pos_explanation_dict.pickle\n"
     ]
    }
   ],
   "source": [
    "\n",
    "pos_explanation_dict = {}\n",
    "pos_explanation_dict['H-TS'] = 'Task Scope Header'\n",
    "pos_explanation_dict['H-RQ'] = 'Required Qualifications Header'\n",
    "pos_explanation_dict['H-PQ'] = 'Preferred Qualifications Header'\n",
    "pos_explanation_dict['H-LN'] = 'Legal Notifications Header'\n",
    "pos_explanation_dict['H-JT'] = 'Job Title Header'\n",
    "pos_explanation_dict['H-OL'] = 'Office Location Header'\n",
    "pos_explanation_dict['H-JD'] = 'Job Duration Header'\n",
    "pos_explanation_dict['H-SP'] = 'Supplemental Pay Header'\n",
    "pos_explanation_dict['H-ER'] = 'Education Requirements Header'\n",
    "pos_explanation_dict['H-IP'] = 'Interview Procedures Header'\n",
    "pos_explanation_dict['H-CS'] = 'Corporate Scope Header'\n",
    "pos_explanation_dict['H-PD'] = 'Post Date Header'\n",
    "pos_explanation_dict['H-O'] = 'Other Header'\n",
    "pos_explanation_dict['O'] = 'Non-header'\n",
    "s.store_objects(pos_explanation_dict=pos_explanation_dict)"
   ]
  },
  {
   "cell_type": "code",
   "execution_count": null,
   "metadata": {},
   "outputs": [],
   "source": []
  }
 ],
 "metadata": {
  "anaconda-cloud": {},
  "kernelspec": {
   "display_name": "Job Hunting (Python 3.9.0)",
   "language": "python",
   "name": "jh"
  },
  "language_info": {
   "codemirror_mode": {
    "name": "ipython",
    "version": 3
   },
   "file_extension": ".py",
   "mimetype": "text/x-python",
   "name": "python",
   "nbconvert_exporter": "python",
   "pygments_lexer": "ipython3",
   "version": "3.9.0"
  }
 },
 "nbformat": 4,
 "nbformat_minor": 4
}
