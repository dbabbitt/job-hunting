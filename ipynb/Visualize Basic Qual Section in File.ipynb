{
 "cells": [
  {
   "cell_type": "code",
   "execution_count": 1,
   "id": "cheap-wellington",
   "metadata": {},
   "outputs": [
    {
     "name": "stdout",
     "output_type": "stream",
     "text": [
      "Pretty printing has been turned OFF\n"
     ]
    }
   ],
   "source": [
    "\n",
    "%pprint"
   ]
  },
  {
   "cell_type": "markdown",
   "id": "dominant-chosen",
   "metadata": {},
   "source": [
    "\n",
    "----\n",
    "# Find Basic Qualifications Section in a File"
   ]
  },
  {
   "cell_type": "code",
   "execution_count": 2,
   "id": "greek-surveillance",
   "metadata": {},
   "outputs": [
    {
     "name": "stdout",
     "output_type": "stream",
     "text": [
      "Wall time: 7.22 s\n"
     ]
    },
    {
     "data": {
      "text/plain": [
       "['ChartUtilities', 'FACEBOOK_ASPECT_RATIO', 'HTML', 'In', 'Out', 'TWITTER_ASPECT_RATIO', '_', '__', '___', '__builtin__', '__builtins__', '__doc__', '__loader__', '__name__', '__nonzero__', '__package__', '__spec__', '_dh', '_i', '_i1', '_i2', '_ih', '_ii', '_iii', '_oh', 'ball_and_chain', 'colormaps_list', 'cycler', 'display', 'exit', 'first_order_linear_scatterplot', 'get_color_cycler', 'get_inf_nan_mask', 'get_ipython', 'html_analysis', 'np', 'os', 'pd', 'pearsonr', 'plt', 'qu', 'quit', 'r', 'random', 'save_fig_as_various', 'set_matplotlib_formats', 'sns', 'sql_utlis', 'storage', 'to_hex']"
      ]
     },
     "execution_count": 2,
     "metadata": {},
     "output_type": "execute_result"
    }
   ],
   "source": [
    "\n",
    "%%time\n",
    "%matplotlib inline\n",
    "%run ../py/chart_utls.py\n",
    "%run ../load_magic/charts.py\n",
    "import random\n",
    "\n",
    "qu = ChartUtilities()\n",
    "dir()"
   ]
  },
  {
   "cell_type": "code",
   "execution_count": 3,
   "id": "recent-imperial",
   "metadata": {},
   "outputs": [],
   "source": [
    "\n",
    "sql_str = '''\n",
    "SELECT\n",
    "    pos.[pos_symbol],\n",
    "    pos.[pos_explanation],\n",
    "    pos.[is_task_scope],\n",
    "    pos.[is_minimum_qualification],\n",
    "    pos.[is_preferred_qualification],\n",
    "    pos.[is_legal_notification],\n",
    "    pos.[is_job_title],\n",
    "    pos.[is_office_location],\n",
    "    pos.[is_job_duration],\n",
    "    pos.[is_supplemental_pay],\n",
    "    pos.[is_educational_requirement],\n",
    "    pos.[is_interview_procedure],\n",
    "    pos.[is_corporate_scope],\n",
    "    pos.[is_posting_date],\n",
    "    pos.[is_other]\n",
    "FROM [Jobhunting].[dbo].[PartsOfSpeech] pos\n",
    "WHERE pos.[is_header] = 1;'''\n",
    "pos_df = pd.DataFrame(qu.su.get_execution_results(qu.cursor, sql_str, verbose=False))\n",
    "color_cycler = get_color_cycler(pos_df.shape[0])\n",
    "header_pos_list = pos_df.pos_symbol.tolist()\n",
    "rgba_dict = {}\n",
    "for header_pos_symbol, face_color_dict in zip(header_pos_list, color_cycler()):\n",
    "    face_color = face_color_dict['color']\n",
    "    rgba_dict[header_pos_symbol] = face_color"
   ]
  },
  {
   "cell_type": "code",
   "execution_count": 4,
   "id": "objective-tyler",
   "metadata": {},
   "outputs": [],
   "source": [
    "\n",
    "for header_pos_symbol, face_color in rgba_dict.copy().items():\n",
    "    nonheader_pos_symbol = 'O-' + header_pos_symbol.split('-')[1]\n",
    "    fc_array = face_color.copy()\n",
    "    fc_array[-1] = 0.5\n",
    "    rgba_dict[nonheader_pos_symbol] = fc_array"
   ]
  },
  {
   "cell_type": "code",
   "execution_count": 5,
   "id": "operating-study",
   "metadata": {},
   "outputs": [
    {
     "data": {
      "text/html": [
       "<span style=\"color:#1f77b4ff;\">H-TS</span>&nbsp;<span style=\"color:#aec7e8ff;\">H-RQ</span>&nbsp;<span style=\"color:#ffbb78ff;\">H-PQ</span>&nbsp;<span style=\"color:#98df8aff;\">H-LN</span>&nbsp;<span style=\"color:#d62728ff;\">H-JT</span>&nbsp;<span style=\"color:#9467bdff;\">H-OL</span>&nbsp;<span style=\"color:#8c564bff;\">H-JD</span>&nbsp;<span style=\"color:#c49c94ff;\">H-SP</span>&nbsp;<span style=\"color:#f7b6d2ff;\">H-ER</span>&nbsp;<span style=\"color:#c7c7c7ff;\">H-IP</span>&nbsp;<span style=\"color:#bcbd22ff;\">H-CS</span>&nbsp;<span style=\"color:#17becfff;\">H-PD</span>&nbsp;<span style=\"color:#9edae5ff;\">H-O</span><br /><span style=\"color:#1f77b480;\">O-TS</span>&nbsp;<span style=\"color:#aec7e880;\">O-RQ</span>&nbsp;<span style=\"color:#ffbb7880;\">O-PQ</span>&nbsp;<span style=\"color:#98df8a80;\">O-LN</span>&nbsp;<span style=\"color:#d6272880;\">O-JT</span>&nbsp;<span style=\"color:#9467bd80;\">O-OL</span>&nbsp;<span style=\"color:#8c564b80;\">O-JD</span>&nbsp;<span style=\"color:#c49c9480;\">O-SP</span>&nbsp;<span style=\"color:#f7b6d280;\">O-ER</span>&nbsp;<span style=\"color:#c7c7c780;\">O-IP</span>&nbsp;<span style=\"color:#bcbd2280;\">O-CS</span>&nbsp;<span style=\"color:#17becf80;\">O-PD</span>&nbsp;<span style=\"color:#9edae580;\">O-O</span>&nbsp;"
      ],
      "text/plain": [
       "<IPython.core.display.HTML object>"
      ]
     },
     "metadata": {},
     "output_type": "display_data"
    }
   ],
   "source": [
    "\n",
    "from matplotlib.colors import to_hex\n",
    "from IPython.display import HTML, display\n",
    "\n",
    "html_str = ''\n",
    "for pos, rgba in rgba_dict.items():\n",
    "    hex_str = to_hex(rgba, keep_alpha=True)\n",
    "    html_str += f'<span style=\"color:{hex_str};\">{pos}</span>'\n",
    "    if pos == 'H-O':\n",
    "        html_str += '<br />'\n",
    "    else:\n",
    "        html_str += '&nbsp;'\n",
    "display(HTML(html_str))"
   ]
  },
  {
   "cell_type": "code",
   "execution_count": 6,
   "id": "shaped-shareware",
   "metadata": {},
   "outputs": [
    {
     "data": {
      "text/html": [
       "<span style=\"color:#1f77b4ff;\">Overview:</span> (H-TS)<br /><span style=\"color:#00000080;\"><div>Gryphon Technologies is a premier engineering and technical services provider supporting National Security programs. Gryphon is the federal Government’s partner working in support of mission critical systems in every phase of their lifecycle. We are proud of our ability to help shape tomorrow, while ensuring today’s U.S. and coalition forces can carry out their critical missions and tasks.</div></span> (O)<br /><span style=\"color:#00000080;\"><div>Gryphon is an Equal Opportunity Employer. All qualified applicants will receive consideration for employment without regard to race, color, religion, sex, national origin, disability status, genetics, protected veteran status, sexual orientation, gender identity or expression, or any other characteristic protected by federal, state or local laws.</div></span> (O)<br /><span style=\"color:#1f77b4ff;\">Responsibilities:</span> (H-TS)<br /><span style=\"color:#00000080;\">CHIEF DATA SCIENTIST</span> (O)<br /><span style=\"color:#00000080;\"><li>Reports directly to the CEO. Works collaboratively with Gryphon’s other senior management and technical personnel throughout the Gryphon enterprise.</li></span> (O)<br /><span style=\"color:#00000080;\"><li>Advise the CEO on decisions with respect to alignment of Gryphon investments in corporate acquisitions, IR&amp;D projects, and infrastructure to support the future needs of the Navy.</li></span> (O)<br /><span style=\"color:#1f77b4ff;\"><li>Develop data utilization, analytics, and visualization strategies to:</li></span> (H-TS)<br /><span style=\"color:#00000080;\">o Create high-level system architectures for solutions to address emerging customer requirements and Gryphon IR&D projects.</span> (O)<br /><span style=\"color:#00000080;\">o Improve performance on Gryphon’s contracts, to support the implementation of digital strategies to solve technical problems through providing Model Based Systems Engineering and Model Based Product Support that could provide a base for developing predictive tools to focus on cyber, logistic and maintenance solutions.</span> (O)<br /><span style=\"color:#00000080;\"><li>Assist in communications with Gryphon customers and potential customers to identify areas of need, define requirements, and propose solutions.</li></span> (O)<br /><span style=\"color:#00000080;\"><li>Maintain an awareness of the status of major Government information technology initiatives applicable to design, engineering, production, and sustainment of Navy assets. Support Gryphon efforts to adopt and be compatible with these infrastructure changes as they are implemented.</li></span> (O)<br /><span style=\"color:#1f77b480;\"><li>Manage special projects as assigned to support the implementation of data optimization strategies.</li></span> (O-TS)<br /><span style=\"color:#aec7e8ff;\">Qualifications:</span> (H-RQ)<br /><span style=\"color:#aec7e8ff;\">Minimum Skill Qualifications</span> (H-RQ)<br /><span style=\"color:#00000080;\"><li>Master's Degree Required, Ph.D. Preferred</li></span> (O)<br /><span style=\"color:#00000080;\"><li>Technical leader and innovator with strong track record of program management excellence in data analysis, machine learning, systems engineering; policy definition and execution; strategic planning; and complex configuration management.</li></span> (O)<br /><span style=\"color:#aec7e880;\"><li>Strong leader and team-builder with outstanding communication skills and meaningful experience with systems engineering, information system architectures, policymaking, and program management. Proven experience developing, building, and maintaining a business unit.</li></span> (O-RQ)<br /><span style=\"color:#00000080;\"><div>One must have good written communication, interpersonal, problem-solving, analytical, mathematical, and organizational skills. Ability to follow directions is a must. Applicants must be able to work well alone and as part of a team. A Security Clearance or the ability to obtain one will be required. U.S. Citizenship required.</div></span> (O)<br />"
      ],
      "text/plain": [
       "<IPython.core.display.HTML object>"
      ]
     },
     "metadata": {},
     "output_type": "display_data"
    },
    {
     "name": "stdout",
     "output_type": "stream",
     "text": [
      "Wall time: 114 ms\n"
     ]
    },
    {
     "data": {
      "text/plain": [
       "['H-TS', 'O', 'O', 'H-TS', 'O', 'O', 'O', 'H-TS', 'O', 'O', 'O', 'O', 'O-TS', 'H-RQ', 'H-RQ', 'O', 'O', 'O-RQ', 'O']"
      ]
     },
     "execution_count": 6,
     "metadata": {},
     "output_type": "execute_result"
    }
   ],
   "source": [
    "\n",
    "%%time\n",
    "HEADER_PATTERN_DICT = qu.s.load_object('HEADER_PATTERN_DICT')\n",
    "file_name = random.choice(list(HEADER_PATTERN_DICT.keys())).strip()\n",
    "qu.visualize_cfr_child_str_predictions(file_name=file_name)"
   ]
  },
  {
   "cell_type": "raw",
   "id": "abroad-material",
   "metadata": {},
   "source": [
    "\n",
    "NAVIGABLE_PARENT_IS_HEADER_DICT = qu.s.load_object('NAVIGABLE_PARENT_IS_HEADER_DICT')\n",
    "child_strs_list = qu.su.get_child_strs_from_file(qu.cursor, file_name, verbose=False)"
   ]
  },
  {
   "cell_type": "raw",
   "id": "taken-disney",
   "metadata": {},
   "source": [
    "\n",
    "feature_dict_list = HEADER_PATTERN_DICT[file_name]\n",
    "feature_tuple_list = [qu.hc.get_feature_tuple(feature_dict) for feature_dict in feature_dict_list]\n",
    "prediction_dict_list = qu.ea.CRF.predict_marginals_single(qu.ea.sent2features(feature_tuple_list))"
   ]
  },
  {
   "cell_type": "raw",
   "id": "forced-marriage",
   "metadata": {},
   "source": [
    "for prediction_dict, child_str in zip(prediction_dict_list, child_strs_list):\n",
    "    print(child_str, prediction_dict['H-RQ'], prediction_dict['H-PQ'])"
   ]
  },
  {
   "cell_type": "raw",
   "id": "center-french",
   "metadata": {},
   "source": [
    "\n",
    "consecutives_list, pos_list = qu.su.find_basic_quals_section(qu.cursor, child_strs_list, hc=qu.hc, ea=qu.ea)\n",
    "print(consecutives_list, pos_list)\n",
    "rq_idx_list = qu.ea.get_idx_list(pos_list, 'H')\n",
    "\n",
    "# Display the Requirements sections in their own HTML\n",
    "if len(rq_idx_list):\n",
    "    consecutives_idx_list = qu.ea.get_idx_list(consecutives_list, ('H', 1))\n",
    "    for rq_idx, consecutives_idx in zip(rq_idx_list, consecutives_idx_list):\n",
    "        o_count = consecutives_list[consecutives_idx+1][1]\n",
    "        display(HTML(''.join(child_strs_list[rq_idx:rq_idx+o_count+1])))"
   ]
  }
 ],
 "metadata": {
  "kernelspec": {
   "display_name": "Job Hunting (Python 3.7.9)",
   "language": "python",
   "name": "jh_env"
  },
  "language_info": {
   "codemirror_mode": {
    "name": "ipython",
    "version": 3
   },
   "file_extension": ".py",
   "mimetype": "text/x-python",
   "name": "python",
   "nbconvert_exporter": "python",
   "pygments_lexer": "ipython3",
   "version": "3.7.9"
  }
 },
 "nbformat": 4,
 "nbformat_minor": 5
}
