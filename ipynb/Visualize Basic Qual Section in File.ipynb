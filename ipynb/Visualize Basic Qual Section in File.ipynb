{
 "cells": [
  {
   "cell_type": "code",
   "execution_count": 1,
   "id": "cheap-wellington",
   "metadata": {},
   "outputs": [
    {
     "name": "stdout",
     "output_type": "stream",
     "text": [
      "Pretty printing has been turned OFF\n"
     ]
    }
   ],
   "source": [
    "\n",
    "%pprint"
   ]
  },
  {
   "cell_type": "markdown",
   "id": "dominant-chosen",
   "metadata": {},
   "source": [
    "\n",
    "----\n",
    "# Find Basic Qualifications Section in a File"
   ]
  },
  {
   "cell_type": "code",
   "execution_count": 2,
   "id": "greek-surveillance",
   "metadata": {},
   "outputs": [
    {
     "name": "stdout",
     "output_type": "stream",
     "text": [
      "Wall time: 11 s\n"
     ]
    },
    {
     "data": {
      "text/plain": [
       "['ChartUtilities', 'FACEBOOK_ASPECT_RATIO', 'HTML', 'In', 'Out', 'TWITTER_ASPECT_RATIO', '_', '__', '___', '__builtin__', '__builtins__', '__doc__', '__loader__', '__name__', '__nonzero__', '__package__', '__spec__', '_dh', '_i', '_i1', '_i2', '_ih', '_ii', '_iii', '_oh', 'ball_and_chain', 'colormaps_list', 'cycler', 'cypher_utlis', 'display', 'exit', 'first_order_linear_scatterplot', 'get_color_cycler', 'get_inf_nan_mask', 'get_ipython', 'html_analysis', 'np', 'os', 'pd', 'pearsonr', 'plt', 'qu', 'quit', 'r', 'random', 'save_fig_as_various', 'set_matplotlib_formats', 'sns', 'storage', 'to_hex']"
      ]
     },
     "execution_count": 2,
     "metadata": {},
     "output_type": "execute_result"
    }
   ],
   "source": [
    "\n",
    "%%time\n",
    "%matplotlib inline\n",
    "%run ../py/chart_utls.py\n",
    "%run ../load_magic/charts.py\n",
    "import random\n",
    "\n",
    "qu = ChartUtilities()\n",
    "dir()"
   ]
  },
  {
   "cell_type": "code",
   "execution_count": 5,
   "id": "recent-imperial",
   "metadata": {},
   "outputs": [],
   "source": [
    "\n",
    "cypher_str = '''\n",
    "    MATCH (pos:PartsOfSpeech {is_header: 'True'})\n",
    "    RETURN\n",
    "        pos.pos_symbol as pos_symbol,\n",
    "        pos.pos_explanation as pos_explanation,\n",
    "        pos.is_task_scope as is_task_scope,\n",
    "        pos.is_minimum_qualification as is_minimum_qualification,\n",
    "        pos.is_preferred_qualification as is_preferred_qualification,\n",
    "        pos.is_legal_notification as is_legal_notification,\n",
    "        pos.is_job_title as is_job_title,\n",
    "        pos.is_office_location as is_office_location,\n",
    "        pos.is_job_duration as is_job_duration,\n",
    "        pos.is_supplemental_pay as is_supplemental_pay,\n",
    "        pos.is_educational_requirement as is_educational_requirement,\n",
    "        pos.is_interview_procedure as is_interview_procedure,\n",
    "        pos.is_corporate_scope as is_corporate_scope,\n",
    "        pos.is_posting_date as is_posting_date,\n",
    "        pos.is_other as is_other;'''\n",
    "pos_df = pd.DataFrame(qu.cu.get_execution_results(cypher_str, verbose=False))\n",
    "color_cycler = get_color_cycler(pos_df.shape[0])\n",
    "header_pos_list = pos_df.pos_symbol.tolist()\n",
    "rgba_dict = {}\n",
    "for header_pos_symbol, face_color_dict in zip(header_pos_list, color_cycler()):\n",
    "    face_color = face_color_dict['color']\n",
    "    rgba_dict[header_pos_symbol] = face_color"
   ]
  },
  {
   "cell_type": "code",
   "execution_count": 6,
   "id": "objective-tyler",
   "metadata": {},
   "outputs": [],
   "source": [
    "\n",
    "for header_pos_symbol, face_color in rgba_dict.copy().items():\n",
    "    nonheader_pos_symbol = 'O-' + header_pos_symbol.split('-')[1]\n",
    "    fc_array = face_color.copy()\n",
    "    fc_array[-1] = 0.5\n",
    "    rgba_dict[nonheader_pos_symbol] = fc_array"
   ]
  },
  {
   "cell_type": "code",
   "execution_count": 7,
   "id": "operating-study",
   "metadata": {},
   "outputs": [
    {
     "data": {
      "text/html": [
       "<span style=\"color:#1f77b4ff;\">H-TS</span>&nbsp;<span style=\"color:#aec7e8ff;\">H-RQ</span>&nbsp;<span style=\"color:#ffbb78ff;\">H-PQ</span>&nbsp;<span style=\"color:#98df8aff;\">H-LN</span>&nbsp;<span style=\"color:#d62728ff;\">H-JT</span>&nbsp;<span style=\"color:#9467bdff;\">H-OL</span>&nbsp;<span style=\"color:#8c564bff;\">H-JD</span>&nbsp;<span style=\"color:#c49c94ff;\">H-SP</span>&nbsp;<span style=\"color:#f7b6d2ff;\">H-ER</span>&nbsp;<span style=\"color:#c7c7c7ff;\">H-IP</span>&nbsp;<span style=\"color:#bcbd22ff;\">H-CS</span>&nbsp;<span style=\"color:#17becfff;\">H-PD</span>&nbsp;<span style=\"color:#9edae5ff;\">H-O</span><br /><span style=\"color:#1f77b480;\">O-TS</span>&nbsp;<span style=\"color:#aec7e880;\">O-RQ</span>&nbsp;<span style=\"color:#ffbb7880;\">O-PQ</span>&nbsp;<span style=\"color:#98df8a80;\">O-LN</span>&nbsp;<span style=\"color:#d6272880;\">O-JT</span>&nbsp;<span style=\"color:#9467bd80;\">O-OL</span>&nbsp;<span style=\"color:#8c564b80;\">O-JD</span>&nbsp;<span style=\"color:#c49c9480;\">O-SP</span>&nbsp;<span style=\"color:#f7b6d280;\">O-ER</span>&nbsp;<span style=\"color:#c7c7c780;\">O-IP</span>&nbsp;<span style=\"color:#bcbd2280;\">O-CS</span>&nbsp;<span style=\"color:#17becf80;\">O-PD</span>&nbsp;<span style=\"color:#9edae580;\">O-O</span>&nbsp;"
      ],
      "text/plain": [
       "<IPython.core.display.HTML object>"
      ]
     },
     "metadata": {},
     "output_type": "display_data"
    }
   ],
   "source": [
    "\n",
    "from matplotlib.colors import to_hex\n",
    "from IPython.display import HTML, display\n",
    "\n",
    "html_str = ''\n",
    "for pos, rgba in rgba_dict.items():\n",
    "    hex_str = to_hex(rgba, keep_alpha=True)\n",
    "    html_str += f'<span style=\"color:{hex_str};\">{pos}</span>'\n",
    "    if pos == 'H-O':\n",
    "        html_str += '<br />'\n",
    "    else:\n",
    "        html_str += '&nbsp;'\n",
    "display(HTML(html_str))"
   ]
  },
  {
   "cell_type": "code",
   "execution_count": 8,
   "id": "shaped-shareware",
   "metadata": {},
   "outputs": [
    {
     "data": {
      "text/html": [
       "<span style=\"color:#00000080;\"><p>Our client is one of the world’s leading petrochemical companies with a presence in 31 countries, 94 manufacturing facilities, 16,000 employees, and $10B in sales to over 100 countries. The company has an impressive growth trend doubling in size in 5 years.</p></span> (O)<br /><span style=\"color:#00000080;\">They are seeking a</span> (O)<br /><span style=\"color:#00000080;\"><b>Data Scientist</b></span> (O)<br /><span style=\"color:#00000080;\">who has experience turning innovative ideas into meaningful solutions. This position can be located in</span> (O)<br /><span style=\"color:#00000080;\"><b>Spartanburg, SC, or Charlotte, NC</b></span> (O)<br /><span style=\"color:#00000080;\">. This position will work with interdisciplinary commercial and manufacturing teams to explore and develop new solutions for the North American business. The Data Scientist needs to have a passion for discovering insights in massive amounts of data, a high level of creativity, and a track record of building machine learning models and visual analytics that unlock value from data sources. The Data Scientist will research, design, and implement cutting-edge algorithms from diverse sources of data for insight discovery and generation of new business revenues.</span> (O)<br /><span style=\"color:#000000ff;\"><b>Responsibilities/Job Requirements:</b></span> (H)<br /><span style=\"color:#00000080;\"><p>We are building a team of data scientists to transform current operations into the digital operations of the future, and this role is central to bringing this vision to reality. This is a great opportunity for an experienced professional to be a leader in creating and promoting advanced analytics and data science capabilities across our entire worldwide organization. If you are looking for a data science role with tremendous creative freedom and growth potential, join us to help us build a world-class data analytics team, and promote a data smart and analytics aware culture across the organization.</p></span> (O)<br /><span style=\"color:#00000080;\"><li>Work with operational experts to assess the feasibility of digital opportunities/use cases, providing input into prioritization of digital opportunities</li></span> (O)<br /><span style=\"color:#00000080;\"><li>Design solutions and support in the implementation of digital opportunities with a focus on big data analytics, optimization, and machine learning</li></span> (O)<br /><span style=\"color:#1f77b480;\"><li>Support selection of external data analytics vendors as needed</li></span> (O-TS)<br /><span style=\"color:#00000080;\"><li>Validate the quality of data analytics models developed together with external vendors</li></span> (O)<br /><span style=\"color:#00000080;\"><li>Codify approaches and learnings to facilitate future replications of the same opportunities at other plants</li></span> (O)<br /><span style=\"color:#00000080;\"><li>Work with IT team on data and model integration, ensure data governance and security adhered to</li></span> (O)<br /><span style=\"color:#00000080;\"><li>Hands-on expert support to plant level project teams, e.g., when performing experiments, refining/maintaining models, etc.</li></span> (O)<br /><span style=\"color:#000000ff;\"><b>Education Requirements:</b></span> (H)<br /><span style=\"color:#00000080;\"><li>Bachelor’s degree in Computer Science or Engineering required</li></span> (O)<br /><span style=\"color:#00000080;\"><li>Master’s degree in Data Science or relevant experience preferred</li></span> (O)<br /><span style=\"color:#000000ff;\"><b>Experience Requirements:</b></span> (H)<br /><span style=\"color:#00000080;\"><li>5+ years of experience in Data Science projects and problem-solving</li></span> (O)<br /><span style=\"color:#00000080;\"><li>Distributed computing, data mining, predictive modeling</li></span> (O)<br /><span style=\"color:#00000080;\"><li>Statistical methodologies &amp; machine learning</li></span> (O)<br /><span style=\"color:#00000080;\"><li>Story-telling and visualizing</li></span> (O)<br /><span style=\"color:#00000080;\"><li>Creative problem-solving skills and a desire to work in R&amp;D</li></span> (O)<br /><span style=\"color:#00000080;\"><li>Can work effectively with remote teams</li></span> (O)<br /><span style=\"color:#00000080;\"><li>Experience in predictive, prescriptive and cognitive analytics</li></span> (O)<br /><span style=\"color:#00000080;\"><li>Excellent project management, organization, attention to detail</li></span> (O)<br /><span style=\"color:#00000080;\"><li>Project experience with Manufacturing operations is a plus</li></span> (O)<br /><span style=\"color:#aec7e8ff;\">Proficiency with</span> (H-RQ)<br /><span style=\"color:#00000080;\"><b>Python &amp; AIMMS;</b></span> (O)<br /><span style=\"color:#00000080;\">familiarity with, Minitab, C/C++ preferred</span> (O)<br /><span style=\"color:#00000080;\"><li>Strong verbal and written communications: able to explain sophisticated data science concepts in an understandable manner, and distill complex results or processes into simple, clear visualizations</li></span> (O)<br /><span style=\"color:#00000080;\"><p>We are an equal opportunity employer</p></span> (O)<br /><span style=\"color:#00000080;\"><p>Except where prohibited by state law, all offers of employment are conditional upon successfully passing a drug test.</p></span> (O)<br /><span style=\"color:#8c564b80;\"><p>Job Type: Full-time</p></span> (O)<br /><span style=\"color:#c49c94ff;\"><p>Benefits:</p></span> (H-SP)<br /><span style=\"color:#c49c9480;\"><li>401(k)</li></span> (O-SP)<br /><span style=\"color:#00000080;\"><li>Health Insurance</li></span> (O)<br /><span style=\"color:#00000080;\"><li>Paid Time Off</li></span> (O)<br /><span style=\"color:#00000080;\"><li>Vision Insurance</li></span> (O)<br /><span style=\"color:#8c564bff;\"><p>Schedule:</p></span> (H-JD)<br /><span style=\"color:#9467bd80;\"><li>Monday to Friday</li></span> (O-OL)<br /><span style=\"color:#aec7e8ff;\"><p>Work authorization:</p></span> (H-RQ)<br /><span style=\"color:#00000080;\"><li>United States (Required)</li></span> (O)<br /><span style=\"color:#9467bdff;\"><p>Work Location:</p></span> (H-OL)<br /><span style=\"color:#00000080;\"><li>One location</li></span> (O)<br /><span style=\"color:#9467bdff;\"><p>Work Remotely:</p></span> (H-OL)<br /><span style=\"color:#00000080;\"><li>Yes, temporarily due to COVID-19</li></span> (O)<br />"
      ],
      "text/plain": [
       "<IPython.core.display.HTML object>"
      ]
     },
     "metadata": {},
     "output_type": "display_data"
    },
    {
     "name": "stdout",
     "output_type": "stream",
     "text": [
      "Wall time: 457 ms\n"
     ]
    },
    {
     "data": {
      "text/plain": [
       "['O', 'O', 'O', 'O', 'O', 'O', 'H', 'O', 'O', 'O', 'O-TS', 'O', 'O', 'O', 'O', 'H', 'O', 'O', 'H', 'O', 'O', 'O', 'O', 'O', 'O', 'O', 'O', 'O', 'H-RQ', 'O', 'O', 'O', 'O', 'O', 'O', 'H-SP', 'O-SP', 'O', 'O', 'O', 'H-JD', 'O-OL', 'H-RQ', 'O', 'H-OL', 'O', 'H-OL', 'O']"
      ]
     },
     "execution_count": 8,
     "metadata": {},
     "output_type": "execute_result"
    }
   ],
   "source": [
    "\n",
    "%%time\n",
    "HEADER_PATTERN_DICT = qu.s.load_object('HEADER_PATTERN_DICT')\n",
    "file_name = random.choice(list(HEADER_PATTERN_DICT.keys())).strip()\n",
    "qu.visualize_cfr_child_str_predictions(file_name=file_name)"
   ]
  },
  {
   "cell_type": "code",
   "execution_count": 9,
   "id": "7b332f63-1e5a-45c0-b87f-5cc1867413ee",
   "metadata": {},
   "outputs": [],
   "source": [
    "\n",
    "%run ../py/cypher_utlis.py\n",
    "cu = CypherUtilities()"
   ]
  },
  {
   "cell_type": "code",
   "execution_count": 10,
   "id": "0aeacbe7-61dc-455b-a9b4-b4935fb57fe7",
   "metadata": {},
   "outputs": [],
   "source": [
    "\n",
    "row_objs_list = cu.get_execution_results(cu.select_filename_isheader_cypher_str, verbose=False)\n",
    "is_header_df = pd.DataFrame(row_objs_list)\n",
    "def f(df):\n",
    "    return df.is_header.str.match('(True|False)').all(skipna=False)\n",
    "s = is_header_df.groupby('file_name').apply(f)\n",
    "file_names_list = s[s==True].index.tolist()"
   ]
  },
  {
   "cell_type": "code",
   "execution_count": 11,
   "id": "fc6f60a4-04a0-44b6-b5fd-f45bea79692f",
   "metadata": {},
   "outputs": [],
   "source": [
    "\n",
    "import random\n",
    "\n",
    "file_name = random.choice(file_names_list)\n",
    "NAVIGABLE_PARENT_IS_HEADER_DICT = cu.s.load_object('NAVIGABLE_PARENT_IS_HEADER_DICT')\n",
    "child_strs_list = cu.get_child_strs_from_file(file_name)"
   ]
  },
  {
   "cell_type": "code",
   "execution_count": 21,
   "id": "bf94facb-c1b9-4fdd-9ad7-db0220b9e2b1",
   "metadata": {},
   "outputs": [
    {
     "name": "stderr",
     "output_type": "stream",
     "text": [
      "C:\\ProgramData\\Anaconda3\\lib\\site-packages\\sklearn\\svm\\_base.py:985: ConvergenceWarning: Liblinear failed to converge, increase the number of iterations.\n",
      "  warnings.warn(\"Liblinear failed to converge, increase \"\n",
      "C:\\ProgramData\\Anaconda3\\lib\\site-packages\\sklearn\\svm\\_base.py:985: ConvergenceWarning: Liblinear failed to converge, increase the number of iterations.\n",
      "  warnings.warn(\"Liblinear failed to converge, increase \"\n",
      "C:\\ProgramData\\Anaconda3\\lib\\site-packages\\sklearn\\svm\\_base.py:985: ConvergenceWarning: Liblinear failed to converge, increase the number of iterations.\n",
      "  warnings.warn(\"Liblinear failed to converge, increase \"\n",
      "C:\\ProgramData\\Anaconda3\\lib\\site-packages\\sklearn\\svm\\_base.py:985: ConvergenceWarning: Liblinear failed to converge, increase the number of iterations.\n",
      "  warnings.warn(\"Liblinear failed to converge, increase \"\n",
      "C:\\ProgramData\\Anaconda3\\lib\\site-packages\\sklearn\\svm\\_base.py:985: ConvergenceWarning: Liblinear failed to converge, increase the number of iterations.\n",
      "  warnings.warn(\"Liblinear failed to converge, increase \"\n",
      "C:\\ProgramData\\Anaconda3\\lib\\site-packages\\sklearn\\svm\\_base.py:985: ConvergenceWarning: Liblinear failed to converge, increase the number of iterations.\n",
      "  warnings.warn(\"Liblinear failed to converge, increase \"\n",
      "C:\\ProgramData\\Anaconda3\\lib\\site-packages\\sklearn\\svm\\_base.py:985: ConvergenceWarning: Liblinear failed to converge, increase the number of iterations.\n",
      "  warnings.warn(\"Liblinear failed to converge, increase \"\n",
      "C:\\ProgramData\\Anaconda3\\lib\\site-packages\\sklearn\\svm\\_base.py:985: ConvergenceWarning: Liblinear failed to converge, increase the number of iterations.\n",
      "  warnings.warn(\"Liblinear failed to converge, increase \"\n",
      "C:\\ProgramData\\Anaconda3\\lib\\site-packages\\sklearn\\svm\\_base.py:985: ConvergenceWarning: Liblinear failed to converge, increase the number of iterations.\n",
      "  warnings.warn(\"Liblinear failed to converge, increase \"\n",
      "C:\\ProgramData\\Anaconda3\\lib\\site-packages\\sklearn\\svm\\_base.py:985: ConvergenceWarning: Liblinear failed to converge, increase the number of iterations.\n",
      "  warnings.warn(\"Liblinear failed to converge, increase \"\n",
      "C:\\ProgramData\\Anaconda3\\lib\\site-packages\\sklearn\\svm\\_base.py:985: ConvergenceWarning: Liblinear failed to converge, increase the number of iterations.\n",
      "  warnings.warn(\"Liblinear failed to converge, increase \"\n",
      "C:\\ProgramData\\Anaconda3\\lib\\site-packages\\sklearn\\svm\\_base.py:985: ConvergenceWarning: Liblinear failed to converge, increase the number of iterations.\n",
      "  warnings.warn(\"Liblinear failed to converge, increase \"\n",
      "C:\\ProgramData\\Anaconda3\\lib\\site-packages\\sklearn\\svm\\_base.py:985: ConvergenceWarning: Liblinear failed to converge, increase the number of iterations.\n",
      "  warnings.warn(\"Liblinear failed to converge, increase \"\n",
      "C:\\ProgramData\\Anaconda3\\lib\\site-packages\\sklearn\\svm\\_base.py:985: ConvergenceWarning: Liblinear failed to converge, increase the number of iterations.\n",
      "  warnings.warn(\"Liblinear failed to converge, increase \"\n",
      "C:\\ProgramData\\Anaconda3\\lib\\site-packages\\sklearn\\svm\\_base.py:985: ConvergenceWarning: Liblinear failed to converge, increase the number of iterations.\n",
      "  warnings.warn(\"Liblinear failed to converge, increase \"\n",
      "C:\\ProgramData\\Anaconda3\\lib\\site-packages\\sklearn\\svm\\_base.py:985: ConvergenceWarning: Liblinear failed to converge, increase the number of iterations.\n",
      "  warnings.warn(\"Liblinear failed to converge, increase \"\n"
     ]
    },
    {
     "ename": "AttributeError",
     "evalue": "'LrUtilities' object has no attribute 'lda_predict_percent'",
     "output_type": "error",
     "traceback": [
      "\u001b[1;31m---------------------------------------------------------------------------\u001b[0m",
      "\u001b[1;31mAttributeError\u001b[0m                            Traceback (most recent call last)",
      "\u001b[1;32m<ipython-input-21-5cfb01c7b5a5>\u001b[0m in \u001b[0;36m<module>\u001b[1;34m\u001b[0m\n\u001b[0;32m      4\u001b[0m \u001b[0mfeature_dict_list\u001b[0m \u001b[1;33m=\u001b[0m \u001b[0mHEADER_PATTERN_DICT\u001b[0m\u001b[1;33m[\u001b[0m\u001b[0mfile_name\u001b[0m\u001b[1;33m]\u001b[0m\u001b[1;33m\u001b[0m\u001b[1;33m\u001b[0m\u001b[0m\n\u001b[0;32m      5\u001b[0m \u001b[0mfeature_tuple_list\u001b[0m \u001b[1;33m=\u001b[0m \u001b[1;33m[\u001b[0m\u001b[0mhc\u001b[0m\u001b[1;33m.\u001b[0m\u001b[0mget_feature_tuple\u001b[0m\u001b[1;33m(\u001b[0m\u001b[0mfeature_dict\u001b[0m\u001b[1;33m)\u001b[0m \u001b[1;32mfor\u001b[0m \u001b[0mfeature_dict\u001b[0m \u001b[1;32min\u001b[0m \u001b[0mfeature_dict_list\u001b[0m\u001b[1;33m]\u001b[0m\u001b[1;33m\u001b[0m\u001b[1;33m\u001b[0m\u001b[0m\n\u001b[1;32m----> 6\u001b[1;33m \u001b[0mprediction_dict_list\u001b[0m \u001b[1;33m=\u001b[0m \u001b[0mcrf\u001b[0m\u001b[1;33m.\u001b[0m\u001b[0mCRF\u001b[0m\u001b[1;33m.\u001b[0m\u001b[0mpredict_marginals_single\u001b[0m\u001b[1;33m(\u001b[0m\u001b[0mcrf\u001b[0m\u001b[1;33m.\u001b[0m\u001b[0msent2features\u001b[0m\u001b[1;33m(\u001b[0m\u001b[0mfeature_tuple_list\u001b[0m\u001b[1;33m)\u001b[0m\u001b[1;33m)\u001b[0m\u001b[1;33m\u001b[0m\u001b[1;33m\u001b[0m\u001b[0m\n\u001b[0m",
      "\u001b[1;32m~\\Documents\\GitHub\\job-hunting\\py\\html_analysis.py\u001b[0m in \u001b[0;36msent2features\u001b[1;34m(self, sent)\u001b[0m\n\u001b[0;32m    713\u001b[0m         \u001b[1;32mdef\u001b[0m \u001b[0msent2features\u001b[0m\u001b[1;33m(\u001b[0m\u001b[0mself\u001b[0m\u001b[1;33m,\u001b[0m \u001b[0msent\u001b[0m\u001b[1;33m)\u001b[0m\u001b[1;33m:\u001b[0m\u001b[1;33m\u001b[0m\u001b[1;33m\u001b[0m\u001b[0m\n\u001b[0;32m    714\u001b[0m \u001b[1;33m\u001b[0m\u001b[0m\n\u001b[1;32m--> 715\u001b[1;33m                 \u001b[1;32mreturn\u001b[0m \u001b[1;33m[\u001b[0m\u001b[0mself\u001b[0m\u001b[1;33m.\u001b[0m\u001b[0mword2features\u001b[0m\u001b[1;33m(\u001b[0m\u001b[0msent\u001b[0m\u001b[1;33m,\u001b[0m \u001b[0mi\u001b[0m\u001b[1;33m)\u001b[0m \u001b[1;32mfor\u001b[0m \u001b[0mi\u001b[0m \u001b[1;32min\u001b[0m \u001b[0mrange\u001b[0m\u001b[1;33m(\u001b[0m\u001b[0mlen\u001b[0m\u001b[1;33m(\u001b[0m\u001b[0msent\u001b[0m\u001b[1;33m)\u001b[0m\u001b[1;33m)\u001b[0m\u001b[1;33m]\u001b[0m\u001b[1;33m\u001b[0m\u001b[1;33m\u001b[0m\u001b[0m\n\u001b[0m\u001b[0;32m    716\u001b[0m \u001b[1;33m\u001b[0m\u001b[0m\n\u001b[0;32m    717\u001b[0m         \u001b[1;32mdef\u001b[0m \u001b[0msent2labels\u001b[0m\u001b[1;33m(\u001b[0m\u001b[0mself\u001b[0m\u001b[1;33m,\u001b[0m \u001b[0msent\u001b[0m\u001b[1;33m)\u001b[0m\u001b[1;33m:\u001b[0m\u001b[1;33m\u001b[0m\u001b[1;33m\u001b[0m\u001b[0m\n",
      "\u001b[1;32m~\\Documents\\GitHub\\job-hunting\\py\\html_analysis.py\u001b[0m in \u001b[0;36m<listcomp>\u001b[1;34m(.0)\u001b[0m\n\u001b[0;32m    713\u001b[0m         \u001b[1;32mdef\u001b[0m \u001b[0msent2features\u001b[0m\u001b[1;33m(\u001b[0m\u001b[0mself\u001b[0m\u001b[1;33m,\u001b[0m \u001b[0msent\u001b[0m\u001b[1;33m)\u001b[0m\u001b[1;33m:\u001b[0m\u001b[1;33m\u001b[0m\u001b[1;33m\u001b[0m\u001b[0m\n\u001b[0;32m    714\u001b[0m \u001b[1;33m\u001b[0m\u001b[0m\n\u001b[1;32m--> 715\u001b[1;33m                 \u001b[1;32mreturn\u001b[0m \u001b[1;33m[\u001b[0m\u001b[0mself\u001b[0m\u001b[1;33m.\u001b[0m\u001b[0mword2features\u001b[0m\u001b[1;33m(\u001b[0m\u001b[0msent\u001b[0m\u001b[1;33m,\u001b[0m \u001b[0mi\u001b[0m\u001b[1;33m)\u001b[0m \u001b[1;32mfor\u001b[0m \u001b[0mi\u001b[0m \u001b[1;32min\u001b[0m \u001b[0mrange\u001b[0m\u001b[1;33m(\u001b[0m\u001b[0mlen\u001b[0m\u001b[1;33m(\u001b[0m\u001b[0msent\u001b[0m\u001b[1;33m)\u001b[0m\u001b[1;33m)\u001b[0m\u001b[1;33m]\u001b[0m\u001b[1;33m\u001b[0m\u001b[1;33m\u001b[0m\u001b[0m\n\u001b[0m\u001b[0;32m    716\u001b[0m \u001b[1;33m\u001b[0m\u001b[0m\n\u001b[0;32m    717\u001b[0m         \u001b[1;32mdef\u001b[0m \u001b[0msent2labels\u001b[0m\u001b[1;33m(\u001b[0m\u001b[0mself\u001b[0m\u001b[1;33m,\u001b[0m \u001b[0msent\u001b[0m\u001b[1;33m)\u001b[0m\u001b[1;33m:\u001b[0m\u001b[1;33m\u001b[0m\u001b[1;33m\u001b[0m\u001b[0m\n",
      "\u001b[1;32m~\\Documents\\GitHub\\job-hunting\\py\\html_analysis.py\u001b[0m in \u001b[0;36mword2features\u001b[1;34m(self, sent, i)\u001b[0m\n\u001b[0;32m    608\u001b[0m                         \u001b[1;34m'bias'\u001b[0m\u001b[1;33m:\u001b[0m \u001b[1;36m1.0\u001b[0m\u001b[1;33m,\u001b[0m\u001b[1;33m\u001b[0m\u001b[1;33m\u001b[0m\u001b[0m\n\u001b[0;32m    609\u001b[0m                         \u001b[1;34m'child_str.lr_predict_single'\u001b[0m\u001b[1;33m:\u001b[0m \u001b[0mself\u001b[0m\u001b[1;33m.\u001b[0m\u001b[0mlu\u001b[0m\u001b[1;33m.\u001b[0m\u001b[0mlr_predict_single\u001b[0m\u001b[1;33m(\u001b[0m\u001b[0mchild_str\u001b[0m\u001b[1;33m)\u001b[0m\u001b[1;33m,\u001b[0m\u001b[1;33m\u001b[0m\u001b[1;33m\u001b[0m\u001b[0m\n\u001b[1;32m--> 610\u001b[1;33m                         \u001b[1;34m'child_str.lda'\u001b[0m\u001b[1;33m:\u001b[0m \u001b[0mself\u001b[0m\u001b[1;33m.\u001b[0m\u001b[0mlu\u001b[0m\u001b[1;33m.\u001b[0m\u001b[0mlda_predict_percent\u001b[0m\u001b[1;33m(\u001b[0m\u001b[0mchild_str\u001b[0m\u001b[1;33m)\u001b[0m\u001b[1;33m,\u001b[0m\u001b[1;33m\u001b[0m\u001b[1;33m\u001b[0m\u001b[0m\n\u001b[0m\u001b[0;32m    611\u001b[0m                         \u001b[1;34m'position'\u001b[0m\u001b[1;33m:\u001b[0m \u001b[0mi\u001b[0m\u001b[1;33m+\u001b[0m\u001b[1;36m1\u001b[0m\u001b[1;33m,\u001b[0m\u001b[1;33m\u001b[0m\u001b[1;33m\u001b[0m\u001b[0m\n\u001b[0;32m    612\u001b[0m                         \u001b[1;34m'postag'\u001b[0m\u001b[1;33m:\u001b[0m \u001b[0mpostag\u001b[0m\u001b[1;33m,\u001b[0m\u001b[1;33m\u001b[0m\u001b[1;33m\u001b[0m\u001b[0m\n",
      "\u001b[1;31mAttributeError\u001b[0m: 'LrUtilities' object has no attribute 'lda_predict_percent'"
     ]
    }
   ],
   "source": [
    "\n",
    "%run ../py/html_analysis.py\n",
    "hc = HeaderCategories()\n",
    "crf = CrfUtilities()\n",
    "feature_dict_list = HEADER_PATTERN_DICT[file_name]\n",
    "feature_tuple_list = [hc.get_feature_tuple(feature_dict) for feature_dict in feature_dict_list]\n",
    "prediction_dict_list = crf.CRF.predict_marginals_single(crf.sent2features(feature_tuple_list))"
   ]
  },
  {
   "cell_type": "raw",
   "id": "forced-marriage",
   "metadata": {},
   "source": [
    "for prediction_dict, child_str in zip(prediction_dict_list, child_strs_list):\n",
    "    print(child_str, prediction_dict['H-RQ'], prediction_dict['H-PQ'])"
   ]
  },
  {
   "cell_type": "raw",
   "id": "center-french",
   "metadata": {},
   "source": [
    "\n",
    "consecutives_list, pos_list = qu.su.find_basic_quals_section(qu.cursor, child_strs_list, hc=qu.hc, ea=qu.ea)\n",
    "print(consecutives_list, pos_list)\n",
    "rq_idx_list = qu.ea.get_idx_list(pos_list, 'H')\n",
    "\n",
    "# Display the Requirements sections in their own HTML\n",
    "if len(rq_idx_list):\n",
    "    consecutives_idx_list = qu.ea.get_idx_list(consecutives_list, ('H', 1))\n",
    "    for rq_idx, consecutives_idx in zip(rq_idx_list, consecutives_idx_list):\n",
    "        o_count = consecutives_list[consecutives_idx+1][1]\n",
    "        display(HTML(''.join(child_strs_list[rq_idx:rq_idx+o_count+1])))"
   ]
  }
 ],
 "metadata": {
  "kernelspec": {
   "display_name": "Python 3",
   "language": "python",
   "name": "python3"
  },
  "language_info": {
   "codemirror_mode": {
    "name": "ipython",
    "version": 3
   },
   "file_extension": ".py",
   "mimetype": "text/x-python",
   "name": "python",
   "nbconvert_exporter": "python",
   "pygments_lexer": "ipython3",
   "version": "3.8.10"
  }
 },
 "nbformat": 4,
 "nbformat_minor": 5
}
