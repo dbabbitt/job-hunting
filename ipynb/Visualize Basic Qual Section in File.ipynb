{
 "cells": [
  {
   "cell_type": "code",
   "execution_count": 1,
   "id": "cheap-wellington",
   "metadata": {},
   "outputs": [
    {
     "name": "stdout",
     "output_type": "stream",
     "text": [
      "Pretty printing has been turned OFF\n"
     ]
    }
   ],
   "source": [
    "\n",
    "%pprint"
   ]
  },
  {
   "cell_type": "markdown",
   "id": "67ed9c96-4033-4d2c-868e-cbcdf98eb964",
   "metadata": {},
   "source": [
    "\n",
    "----\n",
    "# Find Basic Qualifications Section in a File"
   ]
  },
  {
   "cell_type": "code",
   "execution_count": 2,
   "id": "operating-study",
   "metadata": {},
   "outputs": [],
   "source": [
    "\n",
    "import sys\n",
    "sys.path.insert(1, '../py')\n",
    "from matplotlib.colors import to_hex\n",
    "from chart_utils import ChartUtilities\n",
    "from IPython.display import HTML, display\n",
    "\n",
    "from storage import Storage\n",
    "s = Storage()\n",
    "\n",
    "from ha_utils import HeaderAnalysis\n",
    "ha = HeaderAnalysis(verbose=False)\n",
    "\n",
    "from scrape_utils import WebScrapingUtilities\n",
    "wsu = WebScrapingUtilities()\n",
    "uri = wsu.secrets_json['neo4j']['connect_url']\n",
    "user =  wsu.secrets_json['neo4j']['username']\n",
    "password = wsu.secrets_json['neo4j']['password']\n",
    "\n",
    "from cypher_utils import CypherUtilities\n",
    "cu = CypherUtilities(uri=uri, user=user, password=password, driver=None, s=s, ha=ha)\n",
    "\n",
    "from hc_utils import HeaderCategories\n",
    "hc = HeaderCategories(cu=cu, verbose=False)\n",
    "\n",
    "from crf_utils import CrfUtilities\n",
    "crf = CrfUtilities(ha=ha, hc=hc, cu=cu, verbose=True)\n",
    "crf.lru.build_isheader_logistic_regression_elements()\n",
    "crf.lru.build_pos_logistic_regression_elements()"
   ]
  },
  {
   "cell_type": "markdown",
   "id": "d192b6a6-86e7-4397-91d9-df1fe5087a8d",
   "metadata": {},
   "source": [
    "\n",
    "----"
   ]
  },
  {
   "cell_type": "code",
   "execution_count": 4,
   "id": "98b9f9a1-4f3f-4c65-871b-939b2bd08cec",
   "metadata": {},
   "outputs": [
    {
     "name": "stdout",
     "output_type": "stream",
     "text": [
      "CPU times: total: 15.6 ms\n",
      "Wall time: 15.6 ms\n"
     ]
    }
   ],
   "source": [
    "\n",
    "%%time\n",
    "import os\n",
    "\n",
    "from html_analysis import ElementAnalysis\n",
    "ea = ElementAnalysis(ha=ha, hc=hc, verbose=False)\n",
    "\n",
    "import warnings\n",
    "warnings.filterwarnings('ignore')"
   ]
  },
  {
   "cell_type": "code",
   "execution_count": 5,
   "id": "8cccc6e9-c42c-4e82-ab2c-4fcb73e359ad",
   "metadata": {},
   "outputs": [],
   "source": [
    "\n",
    "def ellipse_string(unellipsed_str):\n",
    "    if len(unellipsed_str) > 103:\n",
    "        ellipsed_str = unellipsed_str[:50] + '…' + unellipsed_str[-50:]\n",
    "    elif len(unellipsed_str) > 53:\n",
    "        ellipsed_str = unellipsed_str[:25] + '…' + unellipsed_str[-25:]\n",
    "    else:\n",
    "        ellipsed_str = unellipsed_str\n",
    "    \n",
    "    return ellipsed_str"
   ]
  },
  {
   "cell_type": "code",
   "execution_count": 6,
   "id": "507a50ee-2bbf-466a-97f1-311ea70920f5",
   "metadata": {},
   "outputs": [],
   "source": [
    "\n",
    "def predict_isheader(child_str):\n",
    "    probs_list = crf.lru.ISHEADER_PREDICT_PERCENT_FIT(child_str)\n",
    "    idx = probs_list.index(max(probs_list))\n",
    "    is_header = [True, False][idx]\n",
    "    \n",
    "    return is_header"
   ]
  },
  {
   "cell_type": "markdown",
   "id": "8f93df08-90d2-4ebc-8b47-065f7e85e06e",
   "metadata": {},
   "source": [
    "\n",
    "----"
   ]
  },
  {
   "cell_type": "code",
   "execution_count": 7,
   "id": "99d2400d-70a3-4ba0-88f0-7b6fd6e585ab",
   "metadata": {},
   "outputs": [
    {
     "data": {
      "text/plain": [
       "1"
      ]
     },
     "execution_count": 7,
     "metadata": {},
     "output_type": "execute_result"
    }
   ],
   "source": [
    "\n",
    "%run ../load_magic/dataframes.py\n",
    "\n",
    "file_name = 'Applied_Scientist_(Remote)_-_Remote_-_Indeed.com_0e94073a1c937bd1.html'\n",
    "file_path = os.path.join(cu.SAVES_HTML_FOLDER, file_name)\n",
    "page_soup = get_page_soup(file_path)\n",
    "row_div_list = page_soup.find_all(name='div', id='jobDescriptionText')\n",
    "len(row_div_list)"
   ]
  },
  {
   "cell_type": "code",
   "execution_count": 8,
   "id": "37bbc300-71bd-44d4-b90e-35884239335b",
   "metadata": {},
   "outputs": [
    {
     "data": {
      "text/plain": [
       "25"
      ]
     },
     "execution_count": 8,
     "metadata": {},
     "output_type": "execute_result"
    }
   ],
   "source": [
    "\n",
    "child_strs_list = ha.get_navigable_children(row_div_list[0], [])\n",
    "len(child_strs_list)"
   ]
  },
  {
   "cell_type": "code",
   "execution_count": 9,
   "id": "b251bc56-3ad0-44ab-b184-2d7dc7e0605d",
   "metadata": {},
   "outputs": [
    {
     "data": {
      "text/plain": [
       "25"
      ]
     },
     "execution_count": 9,
     "metadata": {},
     "output_type": "execute_result"
    }
   ],
   "source": [
    "\n",
    "child_strs_list = cu.get_child_strs_from_file(file_name=file_name)\n",
    "len(child_strs_list)"
   ]
  },
  {
   "cell_type": "code",
   "execution_count": 10,
   "id": "b6f15e73-c68b-4a5c-ae03-209bdc19f5c6",
   "metadata": {},
   "outputs": [
    {
     "data": {
      "text/plain": [
       "['div', 'div', 'div', 'b', 'li', 'li', 'li', 'li', 'li', 'li', 'b', 'li', 'li', 'li', 'li', 'li', 'li', 'li', 'div', 'i', 'i', 'i', 'div', 'i', 'i']"
      ]
     },
     "execution_count": 10,
     "metadata": {},
     "output_type": "execute_result"
    }
   ],
   "source": [
    "\n",
    "child_tags_list = ha.get_child_tags_list(child_strs_list)\n",
    "child_tags_list"
   ]
  },
  {
   "cell_type": "code",
   "execution_count": 14,
   "id": "735e12c1-815b-4d73-8c1b-ec28fa69882a",
   "metadata": {},
   "outputs": [],
   "source": [
    "\n",
    "cu.populate_from_child_strings(child_strs_list, file_name, verbose=False)"
   ]
  },
  {
   "cell_type": "code",
   "execution_count": 15,
   "id": "c4fed318-2c84-46e3-8d71-4a2dc5c0e490",
   "metadata": {},
   "outputs": [
    {
     "name": "stdout",
     "output_type": "stream",
     "text": [
      "\n",
      "                MATCH (np:NavigableParents {navigable_parent: '<i>Note: Yelp does not accept agency resumes. Please do not forward resumes to any recruiting alias or employee. Yelp is not responsible for any fees related to unsolicited resumes.</i>'})<-[s:SUMMARIZES]-(ht:HeaderTags)\n",
      "                RETURN ht.header_tag AS header_tag;\n"
     ]
    },
    {
     "data": {
      "text/plain": [
       "['div', 'div', 'div', 'b', 'li', 'li', 'li', 'li', 'li', 'li', 'b', 'li', 'li', 'li', 'li', 'li', 'li', 'li', 'div', 'i', 'i', 'i', 'div', 'i', 'i']"
      ]
     },
     "execution_count": 15,
     "metadata": {},
     "output_type": "execute_result"
    }
   ],
   "source": [
    "\n",
    "child_tags_list = cu.get_child_tags_list(child_strs_list, verbose=True)\n",
    "child_tags_list"
   ]
  },
  {
   "cell_type": "code",
   "execution_count": 16,
   "id": "55858603-7686-4686-bc08-c0027eee7ec1",
   "metadata": {},
   "outputs": [
    {
     "data": {
      "text/plain": [
       "[False, False, False, True, False, False, False, False, False, False, True, False, False, False, False, False, False, False, False, False, False, False, True, False, False]"
      ]
     },
     "execution_count": 16,
     "metadata": {},
     "output_type": "execute_result"
    }
   ],
   "source": [
    "\n",
    "is_header_list = ha.get_is_header_list(child_strs_list)\n",
    "is_header_list"
   ]
  },
  {
   "cell_type": "raw",
   "id": "15d7c67d-0c59-49f1-b676-33aa7a3118e4",
   "metadata": {},
   "source": [
    "\n",
    "# cu.create_h_pickle(verbose=True)\n",
    "NAVIGABLE_PARENT_IS_HEADER_DICT = s.load_object('NAVIGABLE_PARENT_IS_HEADER_DICT')\n",
    "for i, (is_header, child_str) in enumerate(zip(is_header_list, child_strs_list)):\n",
    "    print(i, NAVIGABLE_PARENT_IS_HEADER_DICT.get(child_str), is_header, ellipse_string(child_str))"
   ]
  },
  {
   "cell_type": "code",
   "execution_count": 17,
   "id": "bf801a64-8c70-4da3-a2a0-6a5f9465a7cc",
   "metadata": {},
   "outputs": [
    {
     "data": {
      "text/plain": [
       "[None, None, False, True, False, False, False, False, False, False, True, False, False, False, None, False, False, False, False, None, None, False, True, False, False]"
      ]
     },
     "execution_count": 17,
     "metadata": {},
     "output_type": "execute_result"
    }
   ],
   "source": [
    "\n",
    "is_header_list = cu.get_is_header_list(child_strs_list)\n",
    "is_header_list"
   ]
  },
  {
   "cell_type": "code",
   "execution_count": 18,
   "id": "39e7379c-0257-4b73-93df-358182c75783",
   "metadata": {},
   "outputs": [
    {
     "name": "stdout",
     "output_type": "stream",
     "text": [
      "0 False None <div>Are you intrigued by data? Yelp has hundreds …fety / spam detection, and causal inference.</div>\n",
      "1 False None <div>Yelp engineering culture is driven by our val…d having fun in a collaborative environment.</div>\n",
      "2 False False <div>Sound exciting? Keep reading.</div>\n",
      "3 True True <b>Where You Come In:</b>\n",
      "4 False False <li>Identify and own challenging problems, form te…theses, and drive significant business impact</li>\n",
      "5 False False <li>Lead the design and analysis of experiments or…usal and predictive models to test your ideas</li>\n",
      "6 False False <li>Collaborate with product and engineering to af…stems and provide intelligence to other teams</li>\n",
      "7 False False <li>Communicate your conc…ical audiences alike</li>\n",
      "8 False False <li>Keep the team and our projects current on new …rs and attending conferences and local events</li>\n",
      "9 False False <li>Productionize and aut…thin Python services</li>\n",
      "10 True True <b>What it Takes to Succeed:</b>\n",
      "11 False False <li>Experience with data analysis/statistical soft…s/statsmodels/sklearn within Python, R, etc.)</li>\n",
      "12 False False <li>Experience with predi… or causal inference</li>\n",
      "13 False False <li>A degree in a quantitative discipline such as … Statistics, Econometrics, Applied Math, etc.</li>\n",
      "14 False None <li>A love for writing beautiful code; you don’t n…plus and we’ll expect you to learn on the job</li>\n",
      "15 False False <li>A demonstrated capability for original researc…ce to carry your ideas through to an end goal</li>\n",
      "16 False False <li>The motivation to develop deep product and bus…deling and analysis tasks with business value</li>\n",
      "17 False False <li>Comfortable working in a Unix environment</li>\n",
      "18 False False <div>#LI-Remote</div>\n",
      "19 False None <i>At Yelp, we believe that diversity is an expres…“Playing Well With Others” and “Authenticity.”</i>\n",
      "20 False None <i>We’re proud to be an equal opportunity employer…teran status, medical condition or disability.</i>\n",
      "21 False False <i>We will consider for employment qualified candi…e Ordinance for roles based in San Francisco).</i>\n",
      "22 True True <div>CCPA Privacy Notice</div>\n",
      "23 False False <i>We are committed to providing reasonable accomm…modations-recruiting@yelp.com or 415-969-8488.</i>\n",
      "24 False False <i>Note: Yelp does not accept agency resumes. Plea…e for any fees related to unsolicited resumes.</i>\n"
     ]
    }
   ],
   "source": [
    "\n",
    "# cu.create_h_pickle(verbose=True)\n",
    "NAVIGABLE_PARENT_IS_HEADER_DICT = s.load_object('NAVIGABLE_PARENT_IS_HEADER_DICT')\n",
    "for i, (is_header, child_str) in enumerate(zip(is_header_list, child_strs_list)):\n",
    "    print(i, NAVIGABLE_PARENT_IS_HEADER_DICT.get(child_str), is_header, ellipse_string(child_str))"
   ]
  },
  {
   "cell_type": "code",
   "execution_count": 19,
   "id": "8f50dea6-5aa0-41f2-9def-051768515042",
   "metadata": {},
   "outputs": [
    {
     "data": {
      "text/plain": [
       "{'initial_tag': 'div', 'is_header': None, 'is_task_scope': None, 'is_minimum_qualification': None, 'is_preferred_qualification': None, 'is_legal_notification': None, 'is_job_title': None, 'is_office_location': None, 'is_job_duration': None, 'is_supplemental_pay': None, 'is_educational_requirement': None, 'is_interview_procedure': None, 'is_corporate_scope': None, 'is_posting_date': None, 'is_other': None, 'child_str': '<div>Yelp engineering culture is driven by our values: we’re a cooperative team that encourages individual authenticity and “unboring” solutions to problems. We enable all new team members to deploy working code their first week, and your impact will only grow from there with the support of your manager, mentor, and team. At the end of the day, we’re all about helping our users, growing as engineers and scientists, and having fun in a collaborative environment.</div>'}"
      ]
     },
     "execution_count": 19,
     "metadata": {},
     "output_type": "execute_result"
    }
   ],
   "source": [
    "\n",
    "feature_dict_list = hc.get_feature_dict_list(child_tags_list, is_header_list, child_strs_list)\n",
    "feature_dict_list[1]"
   ]
  },
  {
   "cell_type": "code",
   "execution_count": 20,
   "id": "150edfcd-c607-4fbf-a61a-820d5c3f8b4f",
   "metadata": {},
   "outputs": [
    {
     "data": {
      "text/plain": [
       "{'initial_tag': 'div', 'child_str': '<div>Yelp engineering culture is driven by our values: we re a cooperative team that encourages individual authenticity and unboring solutions to problems. We enable all new team members to deploy working code their first week, and your impact will only grow from there with the support of your manager, mentor, and team. At the end of the day, we re all about helping our users, growing as engineers and scientists, and having fun in a collaborative environment.</div>'}"
      ]
     },
     "execution_count": 20,
     "metadata": {},
     "output_type": "execute_result"
    }
   ],
   "source": [
    "\n",
    "feature_dict_list = cu.get_feature_dict_list(child_tags_list, child_strs_list, verbose=False)\n",
    "feature_dict_list[1]"
   ]
  },
  {
   "cell_type": "code",
   "execution_count": 21,
   "id": "94933e96-f314-41ad-80e3-2500665c1f25",
   "metadata": {},
   "outputs": [],
   "source": [
    "\n",
    "feature_tuple_list = [hc.get_feature_tuple(feature_dict, crf.lru.pos_lr_predict_single) for feature_dict in feature_dict_list]"
   ]
  },
  {
   "cell_type": "raw",
   "id": "2972fe85-7a4c-4ffc-9bb6-09f2582cd084",
   "metadata": {},
   "source": [
    "\n",
    "feature_tuple = feature_tuple_list[1]\n",
    "pos_symbol = feature_tuple[2]\n",
    "feature_tuple[1], pos_symbol, hc.POS_EXPLANATION_DICT[pos_symbol]"
   ]
  },
  {
   "cell_type": "raw",
   "id": "879b8fc2-857f-4c40-b1ef-10f0538b2919",
   "metadata": {},
   "source": [
    "\n",
    "feature_tuple = feature_tuple_list[2]\n",
    "pos_symbol = feature_tuple[2]\n",
    "feature_tuple[1], pos_symbol, hc.POS_EXPLANATION_DICT[pos_symbol]"
   ]
  },
  {
   "cell_type": "code",
   "execution_count": 22,
   "id": "d5e6cc0e-4351-4765-9fdb-31e144cc409a",
   "metadata": {},
   "outputs": [
    {
     "data": {
      "text/plain": [
       "['O-TS', 'O-CS', 'O-CS', 'H-TS', 'O-TS', 'O-TS', 'O-TS', 'O-TS', 'O-TS', 'O-TS', 'H-RQ', 'O-RQ', 'O-RQ', 'O-RQ', 'O-PQ', 'O-RQ', 'O-RQ', 'O-RQ', 'O-OL', 'O-LN', 'O-LN', 'O-LN', 'H-LN', 'O-LN', 'O-IP']"
      ]
     },
     "execution_count": 22,
     "metadata": {},
     "output_type": "execute_result"
    }
   ],
   "source": [
    "\n",
    "crf_list = crf.CRF.predict_single(crf.sent2features(feature_tuple_list))\n",
    "crf_list"
   ]
  },
  {
   "cell_type": "raw",
   "id": "6d59c93e-f497-4edc-9654-b8285c5c3b1c",
   "metadata": {},
   "source": [
    "\n",
    "for i, (crf, child_str) in enumerate(zip(crf_list, child_strs_list)):\n",
    "    print(f'{i} {hc.POS_EXPLANATION_DICT[crf]} ({crf}): {ellipse_string(child_str)}')"
   ]
  },
  {
   "cell_type": "code",
   "execution_count": 23,
   "id": "e4f14fdb-dd4c-47b1-8614-5bbeebfc712d",
   "metadata": {},
   "outputs": [
    {
     "data": {
      "text/html": [
       "<span style=\"color:#1f77b4ff;\">H-TS</span>&nbsp;<span style=\"color:#aec7e8ff;\">H-RQ</span>&nbsp;<span style=\"color:#ffbb78ff;\">H-PQ</span>&nbsp;<span style=\"color:#98df8aff;\">H-LN</span>&nbsp;<span style=\"color:#d62728ff;\">H-JT</span>&nbsp;<span style=\"color:#9467bdff;\">H-OL</span>&nbsp;<span style=\"color:#8c564bff;\">H-JD</span>&nbsp;<span style=\"color:#c49c94ff;\">H-SP</span>&nbsp;<span style=\"color:#f7b6d2ff;\">H-ER</span>&nbsp;<span style=\"color:#c7c7c7ff;\">H-IP</span>&nbsp;<span style=\"color:#bcbd22ff;\">H-CS</span>&nbsp;<span style=\"color:#17becfff;\">H-PD</span>&nbsp;<span style=\"color:#9edae5ff;\">H-O</span><br /><span style=\"color:#1f77b480;\">O-TS</span>&nbsp;<span style=\"color:#aec7e880;\">O-RQ</span>&nbsp;<span style=\"color:#ffbb7880;\">O-PQ</span>&nbsp;<span style=\"color:#98df8a80;\">O-LN</span>&nbsp;<span style=\"color:#d6272880;\">O-JT</span>&nbsp;<span style=\"color:#9467bd80;\">O-OL</span>&nbsp;<span style=\"color:#8c564b80;\">O-JD</span>&nbsp;<span style=\"color:#c49c9480;\">O-SP</span>&nbsp;<span style=\"color:#f7b6d280;\">O-ER</span>&nbsp;<span style=\"color:#c7c7c780;\">O-IP</span>&nbsp;<span style=\"color:#bcbd2280;\">O-CS</span>&nbsp;<span style=\"color:#17becf80;\">O-PD</span>&nbsp;<span style=\"color:#9edae580;\">O-O</span>&nbsp;<span style=\"color:#000000ff;\">H</span>&nbsp;<span style=\"color:#00000080;\">O</span>&nbsp;"
      ],
      "text/plain": [
       "<IPython.core.display.HTML object>"
      ]
     },
     "metadata": {},
     "output_type": "display_data"
    }
   ],
   "source": [
    "\n",
    "from matplotlib.colors import to_hex\n",
    "from IPython.display import HTML, display\n",
    "from section_utils import SectionUtilities\n",
    "\n",
    "su = SectionUtilities(s=s, ha=ha, cu=cu, verbose=False)\n",
    "\n",
    "# Make an RGB dictionary of all the parts-of-speech symbols\n",
    "rgba_dict = su.get_pos_color_dictionary()\n",
    "\n",
    "html_str = ''\n",
    "for pos, rgba in rgba_dict.items():\n",
    "    hex_str = to_hex(rgba, keep_alpha=True)\n",
    "    html_str += f'<span style=\"color:{hex_str};\">{pos}</span>'\n",
    "    if pos == 'H-O':\n",
    "        html_str += '<br />'\n",
    "    else:\n",
    "        html_str += '&nbsp;'\n",
    "display(HTML(html_str))"
   ]
  },
  {
   "cell_type": "code",
   "execution_count": 26,
   "id": "9abfc35a-a203-43f4-ab6d-c8d27c7a1c91",
   "metadata": {},
   "outputs": [
    {
     "data": {
      "text/html": [
       "0) <span style=\"color:#1f77b480;\"><div>Are you intrigued by data? Yelp has hundreds of millions of pieces of user-contributed content, millions of users and business listings, and hundreds of thousands of advertising customers – and all of these numbers are constantly growing. Making sense of this data, deducing relationships between variables, and figuring out different interactions is hard work, but these insights are hugely impactful to Yelp’s business. Applied scientists uncover these insights through exploratory research and analysis, and carry the ideas all the way through to production-grade statistical or predictive models. They work in areas including pricing models and auction bidding strategies, learning to rank applications, personalized recommender systems, trust and safety / spam detection, and causal inference. (O-TS Task Scope Non-header)</div></span><br />1) <span style=\"color:#bcbd2280;\"><div>Yelp engineering culture is driven by our values: we’re a cooperative team that encourages individual authenticity and “unboring” solutions to problems. We enable all new team members to deploy working code their first week, and your impact will only grow from there with the support of your manager, mentor, and team. At the end of the day, we’re all about helping our users, growing as engineers and scientists, and having fun in a collaborative environment. (O-CS Corporate Scope Non-header)</div></span><br />2) <span style=\"color:#bcbd2280;\"><div>Sound exciting? Keep reading. (O-CS Corporate Scope Non-header)</div></span><br />3) <span style=\"color:#1f77b4ff;\"><b>Where You Come In: (H-TS Task Scope Header)</b></span><br />4) <span style=\"color:#1f77b480;\"><li>Identify and own challenging problems, form testable hypotheses, and drive significant business impact (O-TS Task Scope Non-header)</li></span><br />5) <span style=\"color:#1f77b480;\"><li>Lead the design and analysis of experiments or development of causal and predictive models to test your ideas (O-TS Task Scope Non-header)</li></span><br />6) <span style=\"color:#1f77b480;\"><li>Collaborate with product and engineering to affect changes in production systems and provide intelligence to other teams (O-TS Task Scope Non-header)</li></span><br />7) <span style=\"color:#1f77b480;\"><li>Communicate your conclusions to technical and non-technical audiences alike (O-TS Task Scope Non-header)</li></span><br />8) <span style=\"color:#1f77b480;\"><li>Keep the team and our projects current on new developments in ML and statistics by reading papers and attending conferences and local events (O-TS Task Scope Non-header)</li></span><br />9) <span style=\"color:#1f77b480;\"><li>Productionize and automate model pipelines within Python services (O-TS Task Scope Non-header)</li></span><br />10) <span style=\"color:#aec7e8ff;\"><b>What it Takes to Succeed: (H-RQ Required Qualifications Header)</b></span><br /><hr />11) <span style=\"color:#aec7e880;\"><li>Experience with data analysis/statistical software and packages (pandas/statsmodels/sklearn within Python, R, etc.) (O-RQ Required Qualifications Non-header)</li></span><br />12) <span style=\"color:#aec7e880;\"><li>Experience with predictive modeling/machine learning, forecasting, or causal inference (O-RQ Required Qualifications Non-header)</li></span><br />13) <span style=\"color:#aec7e880;\"><li>A degree in a quantitative discipline such as Computer Science, Statistics, Econometrics, Applied Math, etc. (O-RQ Required Qualifications Non-header)</li></span><br />14) <span style=\"color:#ffbb7880;\"><li>A love for writing beautiful code; you don’t need to be an expert, but experience is a plus and we’ll expect you to learn on the job (O-PQ Preferred Qualifications Non-header)</li></span><br />15) <span style=\"color:#aec7e880;\"><li>A demonstrated capability for original research, the curiosity to uncover promising solutions to new problems, and the persistence to carry your ideas through to an end goal (O-RQ Required Qualifications Non-header)</li></span><br />16) <span style=\"color:#aec7e880;\"><li>The motivation to develop deep product and business knowledge and to connect abstract modeling and analysis tasks with business value (O-RQ Required Qualifications Non-header)</li></span><br />17) <span style=\"color:#aec7e880;\"><li>Comfortable working in a Unix environment (O-RQ Required Qualifications Non-header)</li></span><br /><hr />18) <span style=\"color:#9467bd80;\"><div>#LI-Remote (O-OL Office Location Non-header)</div></span><br />19) <span style=\"color:#98df8a80;\"><i>At Yelp, we believe that diversity is an expression of all the unique characteristics that make us human: race, age, sexual orientation, gender identity, religion, disability, and education — and those are just a few. We recognize that diverse backgrounds and perspectives strengthen our teams and our product. The foundation of our diversity efforts are closely tied to our core values, which include “Playing Well With Others” and “Authenticity.” (O-LN Legal Notifications Non-header)</i></span><br />20) <span style=\"color:#98df8a80;\"><i>We’re proud to be an equal opportunity employer and consider qualified applicants without regard to race, color, religion, sex, national origin, ancestry, age, genetic information, sexual orientation, gender identity, marital or family status, veteran status, medical condition or disability. (O-LN Legal Notifications Non-header)</i></span><br />21) <span style=\"color:#98df8a80;\"><i>We will consider for employment qualified candidates with arrest and conviction records, consistent with applicable law (including, for example, the San Francisco Fair Chance Ordinance for roles based in San Francisco). (O-LN Legal Notifications Non-header)</i></span><br />22) <span style=\"color:#98df8aff;\"><div>CCPA Privacy Notice (H-LN Legal Notifications Header)</div></span><br />23) <span style=\"color:#98df8a80;\"><i>We are committed to providing reasonable accommodations for individuals with disabilities in our job application process. If you need assistance or an accommodation due to a disability, you may contact us at accommodations-recruiting@yelp.com or 415-969-8488. (O-LN Legal Notifications Non-header)</i></span><br />24) <span style=\"color:#c7c7c780;\"><i>Note: Yelp does not accept agency resumes. Please do not forward resumes to any recruiting alias or employee. Yelp is not responsible for any fees related to unsolicited resumes. (O-IP Interview Procedures Non-header)</i></span><br />"
      ],
      "text/plain": [
       "<IPython.core.display.HTML object>"
      ]
     },
     "metadata": {},
     "output_type": "display_data"
    }
   ],
   "source": [
    "\n",
    "html_str = ''\n",
    "indices_list = su.get_section(crf_list)\n",
    "for i, (child_str, pos_symbol) in enumerate(zip(child_strs_list, crf_list)):\n",
    "    rgba = rgba_dict[pos_symbol]\n",
    "    hex_str = to_hex(rgba, keep_alpha=True)\n",
    "    if i == min(indices_list):\n",
    "        html_str += '<hr />'\n",
    "    child_str = su.append_pos_symbol(child_str, pos_symbol, use_explanation=True)\n",
    "    html_str += f'{i+0}) <span style=\"color:{hex_str};\">{child_str}</span><br />'\n",
    "    if i == max(indices_list):\n",
    "        html_str += '<hr />'\n",
    "display(HTML(html_str))"
   ]
  },
  {
   "cell_type": "code",
   "execution_count": 31,
   "id": "7c4db37e-9a6f-411f-a20b-8b84d64aa897",
   "metadata": {},
   "outputs": [
    {
     "name": "stdout",
     "output_type": "stream",
     "text": [
      "<li>The motivation to develop deep product and business knowledge and to connect abstract modeling and analysis tasks with business value</li>\n"
     ]
    }
   ],
   "source": [
    "\n",
    "# (10, 11)\n",
    "idx = 16\n",
    "child_str = child_strs_list[idx]\n",
    "child_str = cu.clean_text(child_str)\n",
    "print(child_str)"
   ]
  },
  {
   "cell_type": "code",
   "execution_count": 32,
   "id": "e4275f60-2611-4ce4-87a9-d2621871e607",
   "metadata": {},
   "outputs": [
    {
     "data": {
      "text/plain": [
       "[{'navigable_parent': '<li>The motivation to develop deep product and business knowledge and to connect abstract modeling and analysis tasks with business value</li>', 'is_header': 'False', 'is_task_scope': 'False', 'is_minimum_qualification': 'True', 'is_preferred_qualification': 'False', 'is_legal_notification': 'False', 'is_job_title': 'False', 'is_office_location': 'False', 'is_job_duration': 'False', 'is_supplemental_pay': 'False', 'is_educational_requirement': 'False', 'is_interview_procedure': 'False', 'is_corporate_scope': 'False', 'is_posting_date': 'False', 'is_other': 'False'}]"
      ]
     },
     "execution_count": 32,
     "metadata": {},
     "output_type": "execute_result"
    }
   ],
   "source": [
    "\n",
    "cypher_str = f'''\n",
    "    MATCH (np:NavigableParents {{navigable_parent: '{child_str}'}})\n",
    "    SET\n",
    "        np.is_header = 'False',\n",
    "        np.is_task_scope = 'False',\n",
    "        np.is_minimum_qualification = 'True',\n",
    "        np.is_preferred_qualification = 'False',\n",
    "        np.is_legal_notification = 'False',\n",
    "        np.is_job_title = 'False',\n",
    "        np.is_office_location = 'False',\n",
    "        np.is_job_duration = 'False',\n",
    "        np.is_supplemental_pay = 'False',\n",
    "        np.is_educational_requirement = 'False',\n",
    "        np.is_interview_procedure = 'False',\n",
    "        np.is_corporate_scope = 'False',\n",
    "        np.is_posting_date = 'False',\n",
    "        np.is_other = 'False'\n",
    "    RETURN\n",
    "        np.navigable_parent AS navigable_parent,\n",
    "        np.is_header AS is_header,\n",
    "        np.is_task_scope AS is_task_scope,\n",
    "        np.is_minimum_qualification AS is_minimum_qualification,\n",
    "        np.is_preferred_qualification AS is_preferred_qualification,\n",
    "        np.is_legal_notification AS is_legal_notification,\n",
    "        np.is_job_title AS is_job_title,\n",
    "        np.is_office_location AS is_office_location,\n",
    "        np.is_job_duration AS is_job_duration,\n",
    "        np.is_supplemental_pay AS is_supplemental_pay,\n",
    "        np.is_educational_requirement AS is_educational_requirement,\n",
    "        np.is_interview_procedure AS is_interview_procedure,\n",
    "        np.is_corporate_scope AS is_corporate_scope,\n",
    "        np.is_posting_date AS is_posting_date,\n",
    "        np.is_other AS is_other;'''\n",
    "# print(cypher_str)\n",
    "with cu.driver.session() as session:\n",
    "    row_objs_list = session.write_transaction(cu.do_cypher_tx, cypher_str)\n",
    "row_objs_list"
   ]
  },
  {
   "cell_type": "code",
   "execution_count": 26,
   "id": "c1e430da-5ec7-4885-9db1-06bcef8c33fd",
   "metadata": {},
   "outputs": [
    {
     "data": {
      "text/plain": [
       "[{'navigable_parent': '<li>Communicate your conclusions to technical and non-technical audiences alike</li>', 'is_header': 'False', 'is_task_scope': None, 'is_minimum_qualification': None, 'is_preferred_qualification': None, 'is_legal_notification': None, 'is_job_title': None, 'is_office_location': None, 'is_job_duration': None, 'is_supplemental_pay': None, 'is_educational_requirement': None, 'is_interview_procedure': None, 'is_corporate_scope': None, 'is_posting_date': None, 'is_other': None}]"
      ]
     },
     "execution_count": 26,
     "metadata": {},
     "output_type": "execute_result"
    }
   ],
   "source": [
    "\n",
    "cypher_str = f'''\n",
    "    MATCH (np:NavigableParents {{navigable_parent: '{child_str}'}})\n",
    "    RETURN\n",
    "        np.navigable_parent AS navigable_parent,\n",
    "        np.is_header AS is_header,\n",
    "        np.is_task_scope AS is_task_scope,\n",
    "        np.is_minimum_qualification AS is_minimum_qualification,\n",
    "        np.is_preferred_qualification AS is_preferred_qualification,\n",
    "        np.is_legal_notification AS is_legal_notification,\n",
    "        np.is_job_title AS is_job_title,\n",
    "        np.is_office_location AS is_office_location,\n",
    "        np.is_job_duration AS is_job_duration,\n",
    "        np.is_supplemental_pay AS is_supplemental_pay,\n",
    "        np.is_educational_requirement AS is_educational_requirement,\n",
    "        np.is_interview_procedure AS is_interview_procedure,\n",
    "        np.is_corporate_scope AS is_corporate_scope,\n",
    "        np.is_posting_date AS is_posting_date,\n",
    "        np.is_other AS is_other;'''\n",
    "# print(cypher_str)\n",
    "with cu.driver.session() as session:\n",
    "    row_objs_list = session.write_transaction(cu.do_cypher_tx, cypher_str)\n",
    "row_objs_list"
   ]
  },
  {
   "cell_type": "code",
   "execution_count": null,
   "id": "d5d5f6c2-63f9-43a2-bba7-4a5f56313e89",
   "metadata": {},
   "outputs": [],
   "source": []
  }
 ],
 "metadata": {
  "kernelspec": {
   "display_name": "Python 3 (ipykernel)",
   "language": "python",
   "name": "python3"
  },
  "language_info": {
   "codemirror_mode": {
    "name": "ipython",
    "version": 3
   },
   "file_extension": ".py",
   "mimetype": "text/x-python",
   "name": "python",
   "nbconvert_exporter": "python",
   "pygments_lexer": "ipython3",
   "version": "3.9.7"
  }
 },
 "nbformat": 4,
 "nbformat_minor": 5
}
