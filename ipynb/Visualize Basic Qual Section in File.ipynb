{
 "cells": [
  {
   "cell_type": "code",
   "execution_count": 1,
   "id": "cheap-wellington",
   "metadata": {},
   "outputs": [
    {
     "name": "stdout",
     "output_type": "stream",
     "text": [
      "Pretty printing has been turned OFF\n"
     ]
    }
   ],
   "source": [
    "\n",
    "%pprint"
   ]
  },
  {
   "cell_type": "markdown",
   "id": "dominant-chosen",
   "metadata": {},
   "source": [
    "\n",
    "----\n",
    "# Find Basic Qualifications Section in a File"
   ]
  },
  {
   "cell_type": "code",
   "execution_count": 2,
   "id": "greek-surveillance",
   "metadata": {},
   "outputs": [
    {
     "name": "stdout",
     "output_type": "stream",
     "text": [
      "Pickling to C:\\Users\\DaveBabbitt\\Documents\\GitHub\\job-hunting\\saves\\pickle\\CHILDLESS_TAGS_LIST.pickle\n"
     ]
    },
    {
     "ename": "AssertionError",
     "evalue": "You're in deep doodoo: you lost your basic tags dictionary",
     "output_type": "error",
     "traceback": [
      "\u001b[1;31m---------------------------------------------------------------------------\u001b[0m",
      "\u001b[1;31mAssertionError\u001b[0m                            Traceback (most recent call last)",
      "\u001b[1;32m<timed exec>\u001b[0m in \u001b[0;36m<module>\u001b[1;34m\u001b[0m\n",
      "\u001b[1;32m~\\Documents\\GitHub\\job-hunting\\py\\chart_utls.py\u001b[0m in \u001b[0;36m__init__\u001b[1;34m(self, cu, verbose)\u001b[0m\n\u001b[0;32m     20\u001b[0m                 \u001b[0mself\u001b[0m\u001b[1;33m.\u001b[0m\u001b[0ms\u001b[0m \u001b[1;33m=\u001b[0m \u001b[0mstorage\u001b[0m\u001b[1;33m.\u001b[0m\u001b[0mStorage\u001b[0m\u001b[1;33m(\u001b[0m\u001b[1;33m)\u001b[0m\u001b[1;33m\u001b[0m\u001b[1;33m\u001b[0m\u001b[0m\n\u001b[0;32m     21\u001b[0m                 \u001b[1;32mif\u001b[0m \u001b[0mcu\u001b[0m \u001b[1;32mis\u001b[0m \u001b[1;32mNone\u001b[0m\u001b[1;33m:\u001b[0m\u001b[1;33m\u001b[0m\u001b[1;33m\u001b[0m\u001b[0m\n\u001b[1;32m---> 22\u001b[1;33m                         \u001b[0mself\u001b[0m\u001b[1;33m.\u001b[0m\u001b[0mcu\u001b[0m \u001b[1;33m=\u001b[0m \u001b[0mcypher_utlis\u001b[0m\u001b[1;33m.\u001b[0m\u001b[0mCypherUtilities\u001b[0m\u001b[1;33m(\u001b[0m\u001b[1;33m)\u001b[0m\u001b[1;33m\u001b[0m\u001b[1;33m\u001b[0m\u001b[0m\n\u001b[0m\u001b[0;32m     23\u001b[0m                 \u001b[1;32melse\u001b[0m\u001b[1;33m:\u001b[0m\u001b[1;33m\u001b[0m\u001b[1;33m\u001b[0m\u001b[0m\n\u001b[0;32m     24\u001b[0m                         \u001b[0mself\u001b[0m\u001b[1;33m.\u001b[0m\u001b[0mcu\u001b[0m \u001b[1;33m=\u001b[0m \u001b[0mcu\u001b[0m\u001b[1;33m\u001b[0m\u001b[1;33m\u001b[0m\u001b[0m\n",
      "\u001b[1;32m~\\Documents\\GitHub\\job-hunting\\py\\cypher_utlis.py\u001b[0m in \u001b[0;36m__init__\u001b[1;34m(self, uri, user, password, driver, s, ha)\u001b[0m\n\u001b[0;32m     45\u001b[0m                         \u001b[0mself\u001b[0m\u001b[1;33m.\u001b[0m\u001b[0ms\u001b[0m \u001b[1;33m=\u001b[0m \u001b[0ms\u001b[0m\u001b[1;33m\u001b[0m\u001b[1;33m\u001b[0m\u001b[0m\n\u001b[0;32m     46\u001b[0m                 \u001b[1;32mif\u001b[0m \u001b[0mha\u001b[0m \u001b[1;32mis\u001b[0m \u001b[1;32mNone\u001b[0m\u001b[1;33m:\u001b[0m\u001b[1;33m\u001b[0m\u001b[1;33m\u001b[0m\u001b[0m\n\u001b[1;32m---> 47\u001b[1;33m                         \u001b[0mself\u001b[0m\u001b[1;33m.\u001b[0m\u001b[0mha\u001b[0m \u001b[1;33m=\u001b[0m \u001b[0mhtml_analysis\u001b[0m\u001b[1;33m.\u001b[0m\u001b[0mHeaderAnalysis\u001b[0m\u001b[1;33m(\u001b[0m\u001b[1;33m)\u001b[0m\u001b[1;33m\u001b[0m\u001b[1;33m\u001b[0m\u001b[0m\n\u001b[0m\u001b[0;32m     48\u001b[0m                 \u001b[1;32melse\u001b[0m\u001b[1;33m:\u001b[0m\u001b[1;33m\u001b[0m\u001b[1;33m\u001b[0m\u001b[0m\n\u001b[0;32m     49\u001b[0m                         \u001b[0mself\u001b[0m\u001b[1;33m.\u001b[0m\u001b[0mha\u001b[0m \u001b[1;33m=\u001b[0m \u001b[0mha\u001b[0m\u001b[1;33m\u001b[0m\u001b[1;33m\u001b[0m\u001b[0m\n",
      "\u001b[1;32m~\\Documents\\GitHub\\job-hunting\\py\\html_analysis.py\u001b[0m in \u001b[0;36m__init__\u001b[1;34m(self)\u001b[0m\n\u001b[0;32m    242\u001b[0m                         \u001b[0mself\u001b[0m\u001b[1;33m.\u001b[0m\u001b[0mNAVIGABLE_PARENT_IS_HEADER_DICT\u001b[0m \u001b[1;33m=\u001b[0m \u001b[0ms\u001b[0m\u001b[1;33m.\u001b[0m\u001b[0mload_object\u001b[0m\u001b[1;33m(\u001b[0m\u001b[1;34m'NAVIGABLE_PARENT_IS_HEADER_DICT'\u001b[0m\u001b[1;33m)\u001b[0m\u001b[1;33m\u001b[0m\u001b[1;33m\u001b[0m\u001b[0m\n\u001b[0;32m    243\u001b[0m                 \u001b[1;32melse\u001b[0m\u001b[1;33m:\u001b[0m\u001b[1;33m\u001b[0m\u001b[1;33m\u001b[0m\u001b[0m\n\u001b[1;32m--> 244\u001b[1;33m                         \u001b[1;32massert\u001b[0m \u001b[1;32mFalse\u001b[0m\u001b[1;33m,\u001b[0m \u001b[1;34m\"You're in deep doodoo: you lost your basic tags dictionary\"\u001b[0m\u001b[1;33m\u001b[0m\u001b[1;33m\u001b[0m\u001b[0m\n\u001b[0m\u001b[0;32m    245\u001b[0m                         \u001b[0mself\u001b[0m\u001b[1;33m.\u001b[0m\u001b[0mNAVIGABLE_PARENT_IS_HEADER_DICT\u001b[0m \u001b[1;33m=\u001b[0m \u001b[1;33m{\u001b[0m\u001b[1;33m}\u001b[0m\u001b[1;33m\u001b[0m\u001b[1;33m\u001b[0m\u001b[0m\n\u001b[0;32m    246\u001b[0m                         \u001b[0ms\u001b[0m\u001b[1;33m.\u001b[0m\u001b[0mstore_objects\u001b[0m\u001b[1;33m(\u001b[0m\u001b[0mNAVIGABLE_PARENT_IS_HEADER_DICT\u001b[0m\u001b[1;33m=\u001b[0m\u001b[0mself\u001b[0m\u001b[1;33m.\u001b[0m\u001b[0mNAVIGABLE_PARENT_IS_HEADER_DICT\u001b[0m\u001b[1;33m)\u001b[0m\u001b[1;33m\u001b[0m\u001b[1;33m\u001b[0m\u001b[0m\n",
      "\u001b[1;31mAssertionError\u001b[0m: You're in deep doodoo: you lost your basic tags dictionary"
     ]
    }
   ],
   "source": [
    "\n",
    "%%time\n",
    "%matplotlib inline\n",
    "%run ../py/chart_utls.py\n",
    "%run ../load_magic/charts.py\n",
    "import random\n",
    "\n",
    "qu = ChartUtilities()\n",
    "dir()"
   ]
  },
  {
   "cell_type": "code",
   "execution_count": 3,
   "id": "recent-imperial",
   "metadata": {},
   "outputs": [],
   "source": [
    "\n",
    "cypher_str = '''\n",
    "    MATCH (pos:PartsOfSpeech {is_header: 'True'})\n",
    "    RETURN\n",
    "        pos.pos_symbol as pos_symbol,\n",
    "        pos.pos_explanation as pos_explanation,\n",
    "        pos.is_task_scope as is_task_scope,\n",
    "        pos.is_minimum_qualification as is_minimum_qualification,\n",
    "        pos.is_preferred_qualification as is_preferred_qualification,\n",
    "        pos.is_legal_notification as is_legal_notification,\n",
    "        pos.is_job_title as is_job_title,\n",
    "        pos.is_office_location as is_office_location,\n",
    "        pos.is_job_duration as is_job_duration,\n",
    "        pos.is_supplemental_pay as is_supplemental_pay,\n",
    "        pos.is_educational_requirement as is_educational_requirement,\n",
    "        pos.is_interview_procedure as is_interview_procedure,\n",
    "        pos.is_corporate_scope as is_corporate_scope,\n",
    "        pos.is_posting_date as is_posting_date,\n",
    "        pos.is_other as is_other;'''\n",
    "pos_df = pd.DataFrame(qu.cu.get_execution_results(cypher_str, verbose=False))\n",
    "color_cycler = get_color_cycler(pos_df.shape[0])\n",
    "header_pos_list = pos_df.pos_symbol.tolist()\n",
    "rgba_dict = {}\n",
    "for header_pos_symbol, face_color_dict in zip(header_pos_list, color_cycler()):\n",
    "    face_color = face_color_dict['color']\n",
    "    rgba_dict[header_pos_symbol] = face_color"
   ]
  },
  {
   "cell_type": "code",
   "execution_count": 4,
   "id": "objective-tyler",
   "metadata": {},
   "outputs": [],
   "source": [
    "\n",
    "for header_pos_symbol, face_color in rgba_dict.copy().items():\n",
    "    nonheader_pos_symbol = 'O-' + header_pos_symbol.split('-')[1]\n",
    "    fc_array = face_color.copy()\n",
    "    fc_array[-1] = 0.5\n",
    "    rgba_dict[nonheader_pos_symbol] = fc_array"
   ]
  },
  {
   "cell_type": "code",
   "execution_count": 5,
   "id": "operating-study",
   "metadata": {},
   "outputs": [
    {
     "data": {
      "text/html": [
       "<span style=\"color:#1f77b4ff;\">H-TS</span>&nbsp;<span style=\"color:#aec7e8ff;\">H-RQ</span>&nbsp;<span style=\"color:#ffbb78ff;\">H-PQ</span>&nbsp;<span style=\"color:#98df8aff;\">H-LN</span>&nbsp;<span style=\"color:#d62728ff;\">H-JT</span>&nbsp;<span style=\"color:#9467bdff;\">H-OL</span>&nbsp;<span style=\"color:#8c564bff;\">H-JD</span>&nbsp;<span style=\"color:#c49c94ff;\">H-SP</span>&nbsp;<span style=\"color:#f7b6d2ff;\">H-ER</span>&nbsp;<span style=\"color:#c7c7c7ff;\">H-IP</span>&nbsp;<span style=\"color:#bcbd22ff;\">H-CS</span>&nbsp;<span style=\"color:#17becfff;\">H-PD</span>&nbsp;<span style=\"color:#9edae5ff;\">H-O</span><br /><span style=\"color:#1f77b480;\">O-TS</span>&nbsp;<span style=\"color:#aec7e880;\">O-RQ</span>&nbsp;<span style=\"color:#ffbb7880;\">O-PQ</span>&nbsp;<span style=\"color:#98df8a80;\">O-LN</span>&nbsp;<span style=\"color:#d6272880;\">O-JT</span>&nbsp;<span style=\"color:#9467bd80;\">O-OL</span>&nbsp;<span style=\"color:#8c564b80;\">O-JD</span>&nbsp;<span style=\"color:#c49c9480;\">O-SP</span>&nbsp;<span style=\"color:#f7b6d280;\">O-ER</span>&nbsp;<span style=\"color:#c7c7c780;\">O-IP</span>&nbsp;<span style=\"color:#bcbd2280;\">O-CS</span>&nbsp;<span style=\"color:#17becf80;\">O-PD</span>&nbsp;<span style=\"color:#9edae580;\">O-O</span>&nbsp;"
      ],
      "text/plain": [
       "<IPython.core.display.HTML object>"
      ]
     },
     "metadata": {},
     "output_type": "display_data"
    }
   ],
   "source": [
    "\n",
    "from matplotlib.colors import to_hex\n",
    "from IPython.display import HTML, display\n",
    "\n",
    "html_str = ''\n",
    "for pos, rgba in rgba_dict.items():\n",
    "    hex_str = to_hex(rgba, keep_alpha=True)\n",
    "    html_str += f'<span style=\"color:{hex_str};\">{pos}</span>'\n",
    "    if pos == 'H-O':\n",
    "        html_str += '<br />'\n",
    "    else:\n",
    "        html_str += '&nbsp;'\n",
    "display(HTML(html_str))"
   ]
  },
  {
   "cell_type": "code",
   "execution_count": 6,
   "id": "shaped-shareware",
   "metadata": {},
   "outputs": [
    {
     "data": {
      "text/html": [
       "<span style=\"color:#00000080;\"><div>At PRA, we don’t make our 17000+ people great. It’s the other way around. As we have grown to a top-5 CRO, we have maintained the feel of a small company, dedicated to collaboration and passion for what we do.</div></span> (O)<br /><span style=\"color:#00000080;\"><div>We always have a desire to keep seeking new and better ways to operate. We don’t settle for the same old ways. Our passion for improving patient lives worldwide permeates all that we do. Put simply, we care.</div></span> (O)<br /><span style=\"color:#1f77b4ff;\"><b>RESPONSIBILITIES</b></span> (H-TS)<br /><span style=\"color:#1f77b480;\"><div>Due to growth we are currently seeking a Central Data Scientist, to work as part of an established global group that supports project teams in analyzing clinical data to identify risks and data issues, using advanced analytical techniques.</div></span> (O-TS)<br /><span style=\"color:#00000080;\"><div>Acting as a Key Functional Lead on projects; the Central Data Scientist will assess trial compliance, perform trending analysis, exploratory data reviews and report findings to internal and external stakeholders.</div></span> (O)<br /><span style=\"color:#1f77b4ff;\"><div>Key responsibilities in this role include:</div></span> (H-TS)<br /><span style=\"color:#00000080;\"><li>Developing and maintaining study documents specifying strategy, approach and procedures on assigned protocols/projects.</li></span> (O)<br /><span style=\"color:#00000080;\"><li>Providing input to applications, databases and systems used to assess study data quality.</li></span> (O)<br /><span style=\"color:#00000080;\"><li>Reviewing clinical data at aggregate level regularly throughout assigned studies using analytical reporting tools to support the identification of risks and data patterns/trends.</li></span> (O)<br /><span style=\"color:#00000080;\"><li>Creating analytical reports and presentations to facilitate review and data-driven decision making during team meetings</li></span> (O)<br /><span style=\"color:#00000080;\"><li>Performs analytical reviews and collaborates with assigned project teams to address data-related questions and recommend potential solutions.</li></span> (O)<br /><span style=\"color:#00000080;\"><li>Provides input during adaptive monitoring assessment process.</li></span> (O)<br /><span style=\"color:#00000080;\"><li>Documents review findings utilizing applicable systems, according to standard procedures.</li></span> (O)<br /><span style=\"color:#00000080;\"><li>Develops analytical reports using programming knowledge and data modeling techniques, e.g., SQL, SAS.</li></span> (O)<br /><span style=\"color:#00000080;\"><li>Leads Analysis of Findings meetings on assigned projects.</li></span> (O)<br /><span style=\"color:#00000080;\"><li>Escalates project concerns such as outof-scope tasks, at-risk project deliverables and project team relationship issues to functional and project managers in a timely fashion.</li></span> (O)<br /><span style=\"color:#aec7e8ff;\"><b>QUALIFICATIONS</b></span> (H-RQ)<br /><span style=\"color:#ffbb78ff;\"><p>You are...</p></span> (H-PQ)<br /><span style=\"color:#00000080;\"><p>Analytically-minded, a problem-solver</p></span> (O)<br /><span style=\"color:#00000080;\"><p>Here at PRA we want our employees to succeed and ensure that they are set up for this success through constant training, development and support. To enable success in this position you will have:</p></span> (O)<br /><span style=\"color:#00000080;\"><li>Bachelor’s degree (or equivalent) in a Scientific or Healthcare discipline</li></span> (O)<br /><span style=\"color:#00000080;\"><li>Previous experience, ideally in a similar role, but we are also open to considering people with other relevant clinical trials experience, including those working as Lead Data Managers, Programmers, Clinical Research Associates, Clinical Team Managers and Project Managers.</li></span> (O)<br /><span style=\"color:#00000080;\">Familiarity with</span> (O)<br /><span style=\"color:#00000080;\"><b>risk-based monitoring</b></span> (O)<br /><span style=\"color:#00000080;\"><li>Technical ability: use of JReview specifically or other analytical/visualization tool (e.g Spotfire, SAS JMP Clinical, SAS, R) or at a very minimum significant experience in using excel (including pivot tables, graphics and data exploration).</li></span> (O)<br /><span style=\"color:#aec7e880;\"><li>Analytical thinker: ability to break down issues into manageable components</li></span> (O-RQ)<br /><span style=\"color:#aec7e880;\"><b>SQL experience</b></span> (O-RQ)<br /><span style=\"color:#00000080;\">Skills in aggregating data review and interpretation using visualization/analysis software e.g.</span> (O)<br /><span style=\"color:#00000080;\">JReview, Tableau, SAS</span> (O)<br /><span style=\"color:#00000080;\"><div>You will be frequently collaborating within multi-cultural global teams, so will need to demonstrate excellent written and oral communication skills, exhibit pro-active teamwork alongside a positive attitude, and maintain up-to-date industry awareness and understanding of regulation/standards.</div></span> (O)<br /><span style=\"color:#00000080;\"><b>PRA is an EEO/AA employer and is committed to providing opportunities to minorities, women, veterans and individuals with disabilities.</b></span> (O)<br /><span style=\"color:#c49c94ff;\"><b>Options</b></span> (H-SP)<br /><span style=\"color:#00000080;\"><div>Apply for this job onlineApply</div></span> (O)<br /><span style=\"color:#9edae5ff;\"><div>Share</div></span> (H-O)<br /><span style=\"color:#00000080;\"><div>Sorry the Share function is not working properly at this moment. Please refresh the page and try again later.</div></span> (O)<br /><span style=\"color:#00000080;\"><div>Share on your newsfeed</div></span> (O)<br /><span style=\"color:#00000080;\"><b>Connect With Us!</b></span> (O)<br />"
      ],
      "text/plain": [
       "<IPython.core.display.HTML object>"
      ]
     },
     "metadata": {},
     "output_type": "display_data"
    },
    {
     "name": "stdout",
     "output_type": "stream",
     "text": [
      "Wall time: 35 ms\n"
     ]
    },
    {
     "data": {
      "text/plain": [
       "['O', 'O', 'H-TS', 'O-TS', 'O', 'H-TS', 'O', 'O', 'O', 'O', 'O', 'O', 'O', 'O', 'O', 'O', 'H-RQ', 'H-PQ', 'O', 'O', 'O', 'O', 'O', 'O', 'O', 'O-RQ', 'O-RQ', 'O', 'O', 'O', 'O', 'H-SP', 'O', 'H-O', 'O', 'O', 'O']"
      ]
     },
     "execution_count": 6,
     "metadata": {},
     "output_type": "execute_result"
    }
   ],
   "source": [
    "\n",
    "%%time\n",
    "HEADER_PATTERN_DICT = qu.s.load_object('HEADER_PATTERN_DICT')\n",
    "file_name = random.choice(list(HEADER_PATTERN_DICT.keys())).strip()\n",
    "qu.visualize_cfr_child_str_predictions(file_name=file_name)"
   ]
  },
  {
   "cell_type": "raw",
   "id": "abroad-material",
   "metadata": {},
   "source": [
    "\n",
    "NAVIGABLE_PARENT_IS_HEADER_DICT = qu.s.load_object('NAVIGABLE_PARENT_IS_HEADER_DICT')\n",
    "child_strs_list = qu.su.get_child_strs_from_file(qu.cursor, file_name, verbose=False)"
   ]
  },
  {
   "cell_type": "raw",
   "id": "taken-disney",
   "metadata": {},
   "source": [
    "\n",
    "feature_dict_list = HEADER_PATTERN_DICT[file_name]\n",
    "feature_tuple_list = [qu.hc.get_feature_tuple(feature_dict) for feature_dict in feature_dict_list]\n",
    "prediction_dict_list = qu.ea.CRF.predict_marginals_single(qu.ea.sent2features(feature_tuple_list))"
   ]
  },
  {
   "cell_type": "raw",
   "id": "forced-marriage",
   "metadata": {},
   "source": [
    "for prediction_dict, child_str in zip(prediction_dict_list, child_strs_list):\n",
    "    print(child_str, prediction_dict['H-RQ'], prediction_dict['H-PQ'])"
   ]
  },
  {
   "cell_type": "raw",
   "id": "center-french",
   "metadata": {},
   "source": [
    "\n",
    "consecutives_list, pos_list = qu.su.find_basic_quals_section(qu.cursor, child_strs_list, hc=qu.hc, ea=qu.ea)\n",
    "print(consecutives_list, pos_list)\n",
    "rq_idx_list = qu.ea.get_idx_list(pos_list, 'H')\n",
    "\n",
    "# Display the Requirements sections in their own HTML\n",
    "if len(rq_idx_list):\n",
    "    consecutives_idx_list = qu.ea.get_idx_list(consecutives_list, ('H', 1))\n",
    "    for rq_idx, consecutives_idx in zip(rq_idx_list, consecutives_idx_list):\n",
    "        o_count = consecutives_list[consecutives_idx+1][1]\n",
    "        display(HTML(''.join(child_strs_list[rq_idx:rq_idx+o_count+1])))"
   ]
  }
 ],
 "metadata": {
  "kernelspec": {
   "display_name": "Python 3",
   "language": "python",
   "name": "python3"
  },
  "language_info": {
   "codemirror_mode": {
    "name": "ipython",
    "version": 3
   },
   "file_extension": ".py",
   "mimetype": "text/x-python",
   "name": "python",
   "nbconvert_exporter": "python",
   "pygments_lexer": "ipython3",
   "version": "3.8.10"
  }
 },
 "nbformat": 4,
 "nbformat_minor": 5
}
