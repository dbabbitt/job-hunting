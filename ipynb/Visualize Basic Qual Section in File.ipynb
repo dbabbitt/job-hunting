{
 "cells": [
  {
   "cell_type": "code",
   "execution_count": 1,
   "id": "cheap-wellington",
   "metadata": {},
   "outputs": [
    {
     "name": "stdout",
     "output_type": "stream",
     "text": [
      "Pretty printing has been turned OFF\n"
     ]
    }
   ],
   "source": [
    "\n",
    "%pprint\n",
    "import warnings\n",
    "\n",
    "warnings.filterwarnings('ignore')"
   ]
  },
  {
   "cell_type": "markdown",
   "id": "dominant-chosen",
   "metadata": {},
   "source": [
    "\n",
    "----\n",
    "# Find Basic Qualifications Section in a File"
   ]
  },
  {
   "cell_type": "code",
   "execution_count": 2,
   "id": "greek-surveillance",
   "metadata": {},
   "outputs": [
    {
     "name": "stdout",
     "output_type": "stream",
     "text": [
      "Wall time: 1.37 s\n"
     ]
    },
    {
     "data": {
      "text/plain": [
       "['ChartUtilities', 'FACEBOOK_ASPECT_RATIO', 'HTML', 'In', 'Out', 'TWITTER_ASPECT_RATIO', '_', '__', '___', '__builtin__', '__builtins__', '__doc__', '__loader__', '__name__', '__nonzero__', '__package__', '__spec__', '_dh', '_i', '_i1', '_i2', '_ih', '_ii', '_iii', '_oh', 'ball_and_chain', 'colormaps_list', 'cycler', 'cypher_utlis', 'display', 'exit', 'first_order_linear_scatterplot', 'get_color_cycler', 'get_inf_nan_mask', 'get_ipython', 'html_analysis', 'np', 'os', 'pd', 'pearsonr', 'plt', 'qu', 'quit', 'r', 'random', 'save_fig_as_various', 'set_matplotlib_formats', 'sns', 'storage', 'to_hex', 'warnings']"
      ]
     },
     "execution_count": 2,
     "metadata": {},
     "output_type": "execute_result"
    }
   ],
   "source": [
    "\n",
    "%%time\n",
    "%matplotlib inline\n",
    "%run ../py/chart_utls.py\n",
    "%run ../load_magic/charts.py\n",
    "import random\n",
    "\n",
    "qu = ChartUtilities()\n",
    "dir()"
   ]
  },
  {
   "cell_type": "code",
   "execution_count": 3,
   "id": "recent-imperial",
   "metadata": {},
   "outputs": [],
   "source": [
    "\n",
    "cypher_str = '''\n",
    "    MATCH (pos:PartsOfSpeech {is_header: 'True'})\n",
    "    RETURN\n",
    "        pos.pos_symbol as pos_symbol,\n",
    "        pos.pos_explanation as pos_explanation,\n",
    "        pos.is_task_scope as is_task_scope,\n",
    "        pos.is_minimum_qualification as is_minimum_qualification,\n",
    "        pos.is_preferred_qualification as is_preferred_qualification,\n",
    "        pos.is_legal_notification as is_legal_notification,\n",
    "        pos.is_job_title as is_job_title,\n",
    "        pos.is_office_location as is_office_location,\n",
    "        pos.is_job_duration as is_job_duration,\n",
    "        pos.is_supplemental_pay as is_supplemental_pay,\n",
    "        pos.is_educational_requirement as is_educational_requirement,\n",
    "        pos.is_interview_procedure as is_interview_procedure,\n",
    "        pos.is_corporate_scope as is_corporate_scope,\n",
    "        pos.is_posting_date as is_posting_date,\n",
    "        pos.is_other as is_other;'''\n",
    "pos_df = pd.DataFrame(qu.cu.get_execution_results(cypher_str, verbose=False))\n",
    "color_cycler = get_color_cycler(pos_df.shape[0])\n",
    "header_pos_list = pos_df.pos_symbol.tolist()\n",
    "rgba_dict = {}\n",
    "for header_pos_symbol, face_color_dict in zip(header_pos_list, color_cycler()):\n",
    "    face_color = face_color_dict['color']\n",
    "    rgba_dict[header_pos_symbol] = face_color"
   ]
  },
  {
   "cell_type": "code",
   "execution_count": 4,
   "id": "objective-tyler",
   "metadata": {},
   "outputs": [],
   "source": [
    "\n",
    "for header_pos_symbol, face_color in rgba_dict.copy().items():\n",
    "    nonheader_pos_symbol = 'O-' + header_pos_symbol.split('-')[1]\n",
    "    fc_array = face_color.copy()\n",
    "    fc_array[-1] = 0.5\n",
    "    rgba_dict[nonheader_pos_symbol] = fc_array"
   ]
  },
  {
   "cell_type": "code",
   "execution_count": 5,
   "id": "operating-study",
   "metadata": {},
   "outputs": [
    {
     "data": {
      "text/html": [
       "<span style=\"color:#1f77b4ff;\">H-TS</span>&nbsp;<span style=\"color:#aec7e8ff;\">H-RQ</span>&nbsp;<span style=\"color:#ffbb78ff;\">H-PQ</span>&nbsp;<span style=\"color:#98df8aff;\">H-LN</span>&nbsp;<span style=\"color:#d62728ff;\">H-JT</span>&nbsp;<span style=\"color:#9467bdff;\">H-OL</span>&nbsp;<span style=\"color:#8c564bff;\">H-JD</span>&nbsp;<span style=\"color:#c49c94ff;\">H-SP</span>&nbsp;<span style=\"color:#f7b6d2ff;\">H-ER</span>&nbsp;<span style=\"color:#c7c7c7ff;\">H-IP</span>&nbsp;<span style=\"color:#bcbd22ff;\">H-CS</span>&nbsp;<span style=\"color:#17becfff;\">H-PD</span>&nbsp;<span style=\"color:#9edae5ff;\">H-O</span><br /><span style=\"color:#1f77b480;\">O-TS</span>&nbsp;<span style=\"color:#aec7e880;\">O-RQ</span>&nbsp;<span style=\"color:#ffbb7880;\">O-PQ</span>&nbsp;<span style=\"color:#98df8a80;\">O-LN</span>&nbsp;<span style=\"color:#d6272880;\">O-JT</span>&nbsp;<span style=\"color:#9467bd80;\">O-OL</span>&nbsp;<span style=\"color:#8c564b80;\">O-JD</span>&nbsp;<span style=\"color:#c49c9480;\">O-SP</span>&nbsp;<span style=\"color:#f7b6d280;\">O-ER</span>&nbsp;<span style=\"color:#c7c7c780;\">O-IP</span>&nbsp;<span style=\"color:#bcbd2280;\">O-CS</span>&nbsp;<span style=\"color:#17becf80;\">O-PD</span>&nbsp;<span style=\"color:#9edae580;\">O-O</span>&nbsp;"
      ],
      "text/plain": [
       "<IPython.core.display.HTML object>"
      ]
     },
     "metadata": {},
     "output_type": "display_data"
    }
   ],
   "source": [
    "\n",
    "from matplotlib.colors import to_hex\n",
    "from IPython.display import HTML, display\n",
    "\n",
    "html_str = ''\n",
    "for pos, rgba in rgba_dict.items():\n",
    "    hex_str = to_hex(rgba, keep_alpha=True)\n",
    "    html_str += f'<span style=\"color:{hex_str};\">{pos}</span>'\n",
    "    if pos == 'H-O':\n",
    "        html_str += '<br />'\n",
    "    else:\n",
    "        html_str += '&nbsp;'\n",
    "display(HTML(html_str))"
   ]
  },
  {
   "cell_type": "code",
   "execution_count": 6,
   "id": "shaped-shareware",
   "metadata": {},
   "outputs": [
    {
     "data": {
      "text/html": [
       "<span style=\"color:#00000080;\"><p>ZenPoint Solutions LLC is a fast-growing, Information Technology consulting company in the federal sector. We’re a thriving ambitious company that prioritizes employees and a positive work culture above all else. We hope that you’ll join us and help shape our bright and exciting future as we solve challenging problems for our customers.</p></span> (O)<br /><span style=\"color:#000000ff;\"><p>ZenPoint Solutions offers a competitive full benefits package including:</p></span> (H)<br /><span style=\"color:#00000080;\"><li>Employer support of medical, dental, vision, life, STD, and LTD insurance</li></span> (O)<br /><span style=\"color:#00000080;\"><li>Benefits include 10 federal holidays and a generous PTO policy.</li></span> (O)<br /><span style=\"color:#00000080;\"><li>401(k) with company matching</li></span> (O)<br /><span style=\"color:#00000080;\"><li>Flexible Spending Accounts for commuter, medical, and dependent care expenses</li></span> (O)<br /><span style=\"color:#00000080;\"><p>ZenPoint Solutions is seeking a Data Scientist in the Springfield, VA area. Some remote work is a possibility.</p></span> (O)<br /><span style=\"color:#1f77b480;\"><p>A qualified candidate will help perform analysis on large unstructured data sets (billions of documents) to provide insight into the data as well as to create production usable models to perform tasks such as topic modeling, entity extraction, entity linking, clustering, classification, etc. The individual should be willing to work in a team environment and be open to using tools and libraries needed to get models and analysis into production.</p></span> (O-TS)<br /><span style=\"color:#000000ff;\">Clearance:</span> (H)<br /><span style=\"color:#00000080;\"><b>Applicants must be US citizens</b></span> (O)<br /><span style=\"color:#00000080;\">and able to obtain at least a Secret clearance</span> (O)<br /><span style=\"color:#00000080;\"><b>.</b></span> (O)<br /><span style=\"color:#00000080;\">Applicants selected will be subject to a security investigation and may need to meet eligibility requirements for access to classified information.</span> (O)<br /><span style=\"color:#000000ff;\"><p>Required qualifications to be successful in this role:</p></span> (H)<br /><span style=\"color:#00000080;\"><li>3-5 years of experience</li></span> (O)<br /><span style=\"color:#aec7e880;\"><li>Ability to make discoveries in the world of big data</li></span> (O-RQ)<br /><span style=\"color:#00000080;\"><li>Ability to utilize advanced tools and computational skills to interpret, connect, predict and make discoveries in complex data and deliver recommendations for business and analytic decisions</li></span> (O)<br /><span style=\"color:#00000080;\"><li>Experience with Python required, experience with .NET/C# is helpful</li></span> (O)<br /><span style=\"color:#00000080;\"><li>Experience with data transport and transformation APIs and technologies such as JSON and REST</li></span> (O)<br /><span style=\"color:#00000080;\"><li>Experience with entity extraction and conceptual search technologies such as LSI, LDA, NLP, NER, NEL, etc</li></span> (O)<br /><span style=\"color:#00000080;\"><li>Experience with machine learning, algorithm analysis, and data clustering</li></span> (O)<br /><span style=\"color:#00000080;\"><li>Experience with ML.NET, ONNX, PyTorch, TensorFlow, etc. is a plus, but not required</li></span> (O)<br /><span style=\"color:#8c564b80;\"><p>Job Type: Full-time</p></span> (O)<br /><span style=\"color:#c49c9480;\"><p>Pay: $80,000.00 - $125,000.00 per year</p></span> (O-SP)<br /><span style=\"color:#c49c94ff;\"><p>Benefits:</p></span> (H-SP)<br /><span style=\"color:#c49c9480;\"><li>401(k)</li></span> (O-SP)<br /><span style=\"color:#00000080;\"><li>401(k) Matching</li></span> (O)<br /><span style=\"color:#00000080;\"><li>Dental Insurance</li></span> (O)<br /><span style=\"color:#c49c9480;\"><li>Disability Insurance</li></span> (O-SP)<br /><span style=\"color:#c49c9480;\"><li>Flexible Spending Account</li></span> (O-SP)<br /><span style=\"color:#00000080;\"><li>Health Insurance</li></span> (O)<br /><span style=\"color:#00000080;\"><li>Life Insurance</li></span> (O)<br /><span style=\"color:#00000080;\"><li>Paid Time Off</li></span> (O)<br /><span style=\"color:#00000080;\"><li>Vision Insurance</li></span> (O)<br /><span style=\"color:#8c564bff;\"><p>Schedule:</p></span> (H-JD)<br /><span style=\"color:#9467bd80;\"><li>Monday to Friday</li></span> (O-OL)<br /><span style=\"color:#9467bdff;\"><p>Work Location:</p></span> (H-OL)<br /><span style=\"color:#00000080;\"><li>One location</li></span> (O)<br /><span style=\"color:#bcbd22ff;\"><p>This Company Describes Its Culture as:</p></span> (H-CS)<br /><span style=\"color:#00000080;\"><li>Innovative -- innovative and risk-taking</li></span> (O)<br /><span style=\"color:#00000080;\"><li>People-oriented -- supportive and fairness-focused</li></span> (O)<br /><span style=\"color:#00000080;\"><li>Team-oriented -- cooperative and collaborative</li></span> (O)<br /><span style=\"color:#c49c94ff;\"><p>Benefit Conditions:</p></span> (H-SP)<br /><span style=\"color:#00000080;\"><li>Only full-time employees eligible</li></span> (O)<br /><span style=\"color:#9467bdff;\"><p>Work Remotely:</p></span> (H-OL)<br /><span style=\"color:#00000080;\"><li>Yes, temporarily due to COVID-19</li></span> (O)<br /><span style=\"color:#c7c7c7ff;\"><p>COVID-19 Precaution(s):</p></span> (H-IP)<br /><span style=\"color:#00000080;\"><li>Remote interview process</li></span> (O)<br /><span style=\"color:#00000080;\"><li>Virtual meetings</li></span> (O)<br />"
      ],
      "text/plain": [
       "<IPython.core.display.HTML object>"
      ]
     },
     "metadata": {},
     "output_type": "display_data"
    },
    {
     "name": "stdout",
     "output_type": "stream",
     "text": [
      "Wall time: 64.9 ms\n"
     ]
    },
    {
     "data": {
      "text/plain": [
       "['O', 'H', 'O', 'O', 'O', 'O', 'O', 'O-TS', 'H', 'O', 'O', 'O', 'O', 'H', 'O', 'O-RQ', 'O', 'O', 'O', 'O', 'O', 'O', 'O', 'O-SP', 'H-SP', 'O-SP', 'O', 'O', 'O-SP', 'O-SP', 'O', 'O', 'O', 'O', 'H-JD', 'O-OL', 'H-OL', 'O', 'H-CS', 'O', 'O', 'O', 'H-SP', 'O', 'H-OL', 'O', 'H-IP', 'O', 'O']"
      ]
     },
     "execution_count": 6,
     "metadata": {},
     "output_type": "execute_result"
    }
   ],
   "source": [
    "\n",
    "%%time\n",
    "HEADER_PATTERN_DICT = qu.s.load_object('HEADER_PATTERN_DICT')\n",
    "file_name = random.choice(list(HEADER_PATTERN_DICT.keys())).strip()\n",
    "qu.visualize_cfr_child_str_predictions(file_name=file_name)"
   ]
  },
  {
   "cell_type": "code",
   "execution_count": 7,
   "id": "7b332f63-1e5a-45c0-b87f-5cc1867413ee",
   "metadata": {},
   "outputs": [],
   "source": [
    "\n",
    "%run ../py/cypher_utlis.py\n",
    "cu = CypherUtilities()"
   ]
  },
  {
   "cell_type": "code",
   "execution_count": 8,
   "id": "0aeacbe7-61dc-455b-a9b4-b4935fb57fe7",
   "metadata": {},
   "outputs": [],
   "source": [
    "\n",
    "row_objs_list = cu.get_execution_results(cu.select_filename_isheader_cypher_str, verbose=False)\n",
    "is_header_df = pd.DataFrame(row_objs_list)\n",
    "def f(df):\n",
    "    return df.is_header.str.match('(True|False)').all(skipna=False)\n",
    "s = is_header_df.groupby('file_name').apply(f)\n",
    "file_names_list = s[s==True].index.tolist()"
   ]
  },
  {
   "cell_type": "code",
   "execution_count": 13,
   "id": "fc6f60a4-04a0-44b6-b5fd-f45bea79692f",
   "metadata": {},
   "outputs": [],
   "source": [
    "\n",
    "import random\n",
    "\n",
    "file_name = random.choice(file_names_list)\n",
    "NAVIGABLE_PARENT_IS_HEADER_DICT = cu.s.load_object('NAVIGABLE_PARENT_IS_HEADER_DICT')\n",
    "child_strs_list = cu.get_child_strs_from_file(file_name)"
   ]
  },
  {
   "cell_type": "code",
   "execution_count": 10,
   "id": "bf94facb-c1b9-4fdd-9ad7-db0220b9e2b1",
   "metadata": {},
   "outputs": [],
   "source": [
    "\n",
    "%run ../py/html_analysis.py\n",
    "hc = HeaderCategories()\n",
    "crf = CrfUtilities()\n",
    "feature_dict_list = HEADER_PATTERN_DICT[file_name]\n",
    "feature_tuple_list = [hc.get_feature_tuple(feature_dict) for feature_dict in feature_dict_list]\n",
    "prediction_dict_list = crf.CRF.predict_marginals_single(crf.sent2features(feature_tuple_list))"
   ]
  },
  {
   "cell_type": "code",
   "execution_count": 11,
   "id": "681f66ee-a9f9-46a9-821f-cfa2694bd1f5",
   "metadata": {},
   "outputs": [
    {
     "name": "stdout",
     "output_type": "stream",
     "text": [
      "The Data Science Transformation team seeks a hands-on Manager/Principal Machine Learning Data Scientist to join our team. You should be an exceptional disciplined and self-motivated Data Scientist with predictive modeling and machine learning advanced analytics experience and a passion for working with healthcare data (relevant experience with data from other industries of interest as well; financial, retail, telco, etc), experience using various computational approaches, and a portfolio of projects you can show and talk about. 0.03438742620665903 0.033299449976003634\n",
      "<b>Primary Responsibilities:</b> 0.02828884261457956 0.026402727370210936\n",
      "<li>A leader. You're a hands-on Machine Learning leader who challenge conventional thinking and work with stakeholders to identify and improve the status quo. You i ndependently identify significant opportunities in an ambiguous area and builds consensus around roadmaps and how to evaluate success.</li> 0.02689934325127304 0.02436782265332839\n",
      "<li>People Manager. You have experience leading and growing a team of M/L data scientists. You have a passion for mentoring members of your team to achieve strong results and continued engagement.</li> 0.026752519140267755 0.02405504433015725\n",
      "<li>Innovative. You continually research and evaluate emerging technologies. You stay current on published state-of-the-art methods, technologies, and applications and seek out opportunities to apply them.</li> 0.026731919810269195 0.024008655944038032\n",
      "<li>Technical Leadership. You are proficient at performing hands-on coding including reviews through all phases of development, from design through training, evaluation, validation, backtested and implementation . You know how to interpret a confusion matrix or a ROC curve. You have experience with clustering, classification, sentiment analysis, time series, and deep learning.</li> 0.026728929616391582 0.02400193261541025\n",
      "<li>A \"Big data\" guru. You have the skills to retrieve, combine, and analyze data from a variety of sources and structures. You know understanding the data is often the key to great data science.</li> 0.02672849652609119 0.02400095544156626\n",
      "<li>Partner with a cross-functional team of data scientists, software engineers, IT, data architect and product managers to deliver machine learning products customers love.</li> 0.02672843339285345 0.0240008137093891\n",
      "<li>Pilot and build out data science custom projects into repeatable and scalable data science products</li> 0.026728424198123386 0.024000793073379854\n",
      "<li>Develop a rigorous ML Ops data science culture, including best practices on pipeline creation, model building in productization, enabling consistent and high-quality delivery</li> 0.026728422856486255 0.024000790070791547\n",
      "<li>Work with a great deal of autonomy to find solutions to complex problems</li> 0.026728422660890372 0.02400078963304195\n",
      "You effectively communicate complex technical concepts/results to business partners and non-technical audiences 0.026728422632350278 0.024000789569251817\n",
      "<div>You'll be rewarded and recognized for your performance in an environment that will challenge you and give you clear direction on what it takes to succeed in your role as well as provide development for other roles you may be interested in.</div> 0.02672842262818804 0.02400078955994726\n",
      "<b>Required Qualifications:</b> 0.026728422627580767 0.02400078955859052\n",
      "<li>MS or PhD in Applied Mathematics, Physics, Computer Science, Statistics or related technical field.</li> 0.026728422627492195 0.024000789558392598\n",
      "<li>5+ years of hands-on experience developing analytics with machine learning, deep learning, NLP, and/or other related modeling techniques</li> 0.02672842262747926 0.024000789558363732\n",
      "<li>Experience designing a data science roadmap and executing the vision behind it.</li> 0.02672842262747738 0.024000789558359506\n",
      "<li>Demonstrated history of leadership in managing high impact data science and engineering projects</li> 0.02672842262747711 0.024000789558358892\n",
      "<b>Experience directly managing a team of data scientists (role is 50/50)</b> 0.02672842262747708 0.02400078955835882\n",
      "<b>Experience working in an environment where the end product is a software solution</b> 0.026728422627477145 0.024000789558358868\n",
      "<li>Strong proficiency in advanced data science tools such as Python, Spark and H2O, Tensorflow etc. and distributed computing systems</li> 0.02672842262747766 0.02400078955835929\n",
      "<li>Demonstrated ability to communicate complex technical concepts to non-technical audiences</li> 0.026728422627481156 0.024000789558362226\n",
      "<li>Familiarity with wrangling large datasets with big data tools such as Hadoop, Hive and Spark.</li> 0.026728422627505286 0.0240007895583824\n",
      "<li>Experience applying computational algorithms and statistical methods to structured and unstructured data</li> 0.026728422627670643 0.02400078955852066\n",
      "<li>Expert ability to breakdown and clearly define problems</li> 0.02672842262880431 0.0240007895594685\n",
      "<li>Strong ability to communicate highly technical results to a diverse audience</li> 0.026728422636576682 0.024000789565967212\n",
      "Available location: Eden Prairie, MN; Boston, MA or Basking Ridge NJ. Telecommute maybe considered for the right candidate. 0.026728422689874205 0.024000789610519612\n",
      "<b>Preferred Qualifications:</b> 0.026728423055445465 0.024000789916104628\n",
      "<li>Experience with deploying ML models in Azure, AWS, and/or Google Cloud</li> 0.026728425564480622 0.02400079201202444\n",
      "<li>Expertise in healthcare data, e.g. medical and pharmacy claims, EMR/clinical data, lab data, etc.</li> 0.026728442800933574 0.024000806404939425\n",
      "Experience with agile product development 0.0267285614402463 0.0240009052813052\n",
      "<b>Careers with Optum.</b> 0.026729380457983766 0.024001586583188492\n",
      "Here's the idea. We built an entire organization around one giant objective; make health care work better for everyone. So when it comes to how we use the world?s large accumulation of health-related information, or guide health and lifestyle choices or manage pharmacy benefits for millions, our first goal is to leap beyond the status quo and uncover new ways to serve. Optum, part of the UnitedHealth Group family of businesses, brings together some of the greatest minds and most advanced ideas on where health care has to go in order to reach its fullest potential. For you, that means working on high performance teams against sophisticated challenges that matter. Optum, incredible ideas in one incredible company and a singular opportunity to do 0.026735063205472108 0.024006288172184885\n",
      "your life's best work.(sm) 0.026774800140580285 0.024038872093753667\n",
      "*All Telecommuters will be required to adhere to UnitedHealth Group's Telecommuter Policy. 0.027054983400819896 0.024264672752645305\n",
      "Diversity creates a healthier atmosphere: UnitedHealth Group is an Equal Employment Opportunity/Affirmative Action employer and all qualified applicants will receive consideration for employment without regard to race, color, religion, sex, age, national origin, protected veteran status, disability status, sexual orientation, gender identity or expression, marital status, genetic information, or any other characteristic protected by law. 0.028844458754422497 0.025840984658363597\n",
      "<i>UnitedHealth Group is a drug-free workplace. Candidates are required to pass a drug test before beginning employment.</i> 0.03509527267176652 0.03254343801877584\n"
     ]
    }
   ],
   "source": [
    "for prediction_dict, child_str in zip(prediction_dict_list, child_strs_list):\n",
    "    print(child_str, prediction_dict['H-RQ'], prediction_dict['H-PQ'])"
   ]
  },
  {
   "cell_type": "code",
   "execution_count": 12,
   "id": "2e4018b7-b3ba-4295-ae11-c7a924c66f09",
   "metadata": {},
   "outputs": [
    {
     "name": "stdout",
     "output_type": "stream",
     "text": [
      "[('H', 1)] ['H']\n"
     ]
    },
    {
     "ename": "IndexError",
     "evalue": "list index out of range",
     "output_type": "error",
     "traceback": [
      "\u001b[1;31m---------------------------------------------------------------------------\u001b[0m",
      "\u001b[1;31mIndexError\u001b[0m                                Traceback (most recent call last)",
      "\u001b[1;32m<ipython-input-12-9eaa95e23612>\u001b[0m in \u001b[0;36m<module>\u001b[1;34m\u001b[0m\n\u001b[0;32m      8\u001b[0m     \u001b[0mconsecutives_idx_list\u001b[0m \u001b[1;33m=\u001b[0m \u001b[0mea\u001b[0m\u001b[1;33m.\u001b[0m\u001b[0mget_idx_list\u001b[0m\u001b[1;33m(\u001b[0m\u001b[0mconsecutives_list\u001b[0m\u001b[1;33m,\u001b[0m \u001b[1;33m(\u001b[0m\u001b[1;34m'H'\u001b[0m\u001b[1;33m,\u001b[0m \u001b[1;36m1\u001b[0m\u001b[1;33m)\u001b[0m\u001b[1;33m)\u001b[0m\u001b[1;33m\u001b[0m\u001b[1;33m\u001b[0m\u001b[0m\n\u001b[0;32m      9\u001b[0m     \u001b[1;32mfor\u001b[0m \u001b[0mrq_idx\u001b[0m\u001b[1;33m,\u001b[0m \u001b[0mconsecutives_idx\u001b[0m \u001b[1;32min\u001b[0m \u001b[0mzip\u001b[0m\u001b[1;33m(\u001b[0m\u001b[0mrq_idx_list\u001b[0m\u001b[1;33m,\u001b[0m \u001b[0mconsecutives_idx_list\u001b[0m\u001b[1;33m)\u001b[0m\u001b[1;33m:\u001b[0m\u001b[1;33m\u001b[0m\u001b[1;33m\u001b[0m\u001b[0m\n\u001b[1;32m---> 10\u001b[1;33m         \u001b[0mo_count\u001b[0m \u001b[1;33m=\u001b[0m \u001b[0mconsecutives_list\u001b[0m\u001b[1;33m[\u001b[0m\u001b[0mconsecutives_idx\u001b[0m\u001b[1;33m+\u001b[0m\u001b[1;36m1\u001b[0m\u001b[1;33m]\u001b[0m\u001b[1;33m[\u001b[0m\u001b[1;36m1\u001b[0m\u001b[1;33m]\u001b[0m\u001b[1;33m\u001b[0m\u001b[1;33m\u001b[0m\u001b[0m\n\u001b[0m\u001b[0;32m     11\u001b[0m         \u001b[0mdisplay\u001b[0m\u001b[1;33m(\u001b[0m\u001b[0mHTML\u001b[0m\u001b[1;33m(\u001b[0m\u001b[1;34m''\u001b[0m\u001b[1;33m.\u001b[0m\u001b[0mjoin\u001b[0m\u001b[1;33m(\u001b[0m\u001b[0mchild_strs_list\u001b[0m\u001b[1;33m[\u001b[0m\u001b[0mrq_idx\u001b[0m\u001b[1;33m:\u001b[0m\u001b[0mrq_idx\u001b[0m\u001b[1;33m+\u001b[0m\u001b[0mo_count\u001b[0m\u001b[1;33m+\u001b[0m\u001b[1;36m1\u001b[0m\u001b[1;33m]\u001b[0m\u001b[1;33m)\u001b[0m\u001b[1;33m)\u001b[0m\u001b[1;33m)\u001b[0m\u001b[1;33m\u001b[0m\u001b[1;33m\u001b[0m\u001b[0m\n",
      "\u001b[1;31mIndexError\u001b[0m: list index out of range"
     ]
    }
   ],
   "source": [
    "\n",
    "ea = ElementAnalysis()\n",
    "consecutives_list, pos_list = cu.find_basic_quals_section(child_strs_list, hc=hc, ea=ea)\n",
    "print(consecutives_list, pos_list)\n",
    "rq_idx_list = ea.get_idx_list(pos_list, 'H')\n",
    "\n",
    "# Display the Requirements sections in their own HTML\n",
    "if len(rq_idx_list):\n",
    "    consecutives_idx_list = ea.get_idx_list(consecutives_list, ('H', 1))\n",
    "    for rq_idx, consecutives_idx in zip(rq_idx_list, consecutives_idx_list):\n",
    "        o_count = consecutives_list[consecutives_idx+1][1]\n",
    "        display(HTML(''.join(child_strs_list[rq_idx:rq_idx+o_count+1])))"
   ]
  },
  {
   "cell_type": "code",
   "execution_count": null,
   "id": "d5d5f6c2-63f9-43a2-bba7-4a5f56313e89",
   "metadata": {},
   "outputs": [],
   "source": []
  }
 ],
 "metadata": {
  "kernelspec": {
   "display_name": "Python 3",
   "language": "python",
   "name": "python3"
  },
  "language_info": {
   "codemirror_mode": {
    "name": "ipython",
    "version": 3
   },
   "file_extension": ".py",
   "mimetype": "text/x-python",
   "name": "python",
   "nbconvert_exporter": "python",
   "pygments_lexer": "ipython3",
   "version": "3.8.8"
  }
 },
 "nbformat": 4,
 "nbformat_minor": 5
}
