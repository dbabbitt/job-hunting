{
 "cells": [
  {
   "cell_type": "code",
   "execution_count": 3,
   "metadata": {},
   "outputs": [
    {
     "name": "stdout",
     "output_type": "stream",
     "text": [
      "C:\\Users\\dev\\anaconda3\\python.exe -m pip install --upgrade scikit-allel\n",
      "Collecting scikit-allel\n",
      "  Downloading scikit_allel-1.3.5-cp38-cp38-win_amd64.whl (1.1 MB)\n",
      "Requirement already satisfied: dask[array] in c:\\users\\dev\\anaconda3\\lib\\site-packages (from scikit-allel) (2021.4.0)\n",
      "Requirement already satisfied: numpy in c:\\users\\dev\\anaconda3\\lib\\site-packages (from scikit-allel) (1.20.2)\n",
      "Requirement already satisfied: toolz>=0.8.2 in c:\\users\\dev\\anaconda3\\lib\\site-packages (from dask[array]->scikit-allel) (0.11.1)\n",
      "Requirement already satisfied: partd>=0.3.10 in c:\\users\\dev\\anaconda3\\lib\\site-packages (from dask[array]->scikit-allel) (1.2.0)\n",
      "Requirement already satisfied: fsspec>=0.6.0 in c:\\users\\dev\\anaconda3\\lib\\site-packages (from dask[array]->scikit-allel) (0.9.0)\n",
      "Requirement already satisfied: pyyaml in c:\\users\\dev\\anaconda3\\lib\\site-packages (from dask[array]->scikit-allel) (5.4.1)\n",
      "Requirement already satisfied: cloudpickle>=1.1.1 in c:\\users\\dev\\anaconda3\\lib\\site-packages (from dask[array]->scikit-allel) (1.6.0)\n",
      "Requirement already satisfied: locket in c:\\users\\dev\\anaconda3\\lib\\site-packages\\locket-0.2.1-py3.8.egg (from partd>=0.3.10->dask[array]->scikit-allel) (0.2.1)\n",
      "Installing collected packages: scikit-allel\n",
      "Successfully installed scikit-allel-1.3.5\n"
     ]
    }
   ],
   "source": [
    "\n",
    "import sys\n",
    "\n",
    "# After this has completed, run these commands in a PowerShell window:\n",
    "# cd $Env:UserProfile\\Documents\\Repositories\\job-hunting\\ps1\n",
    "# clear\n",
    "# .\\create_job_hunting_temp_environment_yml_file.ps1\n",
    "command_str = f'{sys.executable} -m pip install --upgrade scikit-allel'\n",
    "print(command_str)\n",
    "!{command_str}"
   ]
  },
  {
   "cell_type": "code",
   "execution_count": null,
   "metadata": {},
   "outputs": [],
   "source": [
    "\n",
    "import sys\n",
    "\n",
    "command_str = f'{sys.executable} -m pip uninstall jupyter_latex_envs --yes'\n",
    "print(command_str)\n",
    "!{command_str}"
   ]
  },
  {
   "cell_type": "code",
   "execution_count": null,
   "metadata": {},
   "outputs": [],
   "source": [
    "# %load ../load_magic/pip_install.txt\n",
    "\n",
    "import sys\n",
    "\n",
    "# After this has completed, run these commands in a PowerShell window:\n",
    "# cd $Env:UserProfile\\Documents\\Repositories\\job-hunting\\ps1\n",
    "# clear\n",
    "# .\\create_job_hunting_temp_environment_yml_file.ps1\n",
    "command_str = f'{sys.executable} -m pip install https://github.com/explosion/spacy-models/releases/download/en_core_web_sm-3.0.0/en_core_web_sm-3.0.0-py3-none-any.whl'\n",
    "print(command_str)\n",
    "!{command_str}"
   ]
  },
  {
   "cell_type": "code",
   "execution_count": null,
   "metadata": {},
   "outputs": [],
   "source": [
    "\n",
    "command_str = f'{sys.executable} -m spacy.en.download'\n",
    "print(command_str)\n",
    "!{command_str}"
   ]
  },
  {
   "cell_type": "code",
   "execution_count": null,
   "metadata": {},
   "outputs": [],
   "source": [
    "\n",
    "from pathlib import Path\n",
    "\n",
    "root_dir = r'C:\\Users\\dev\\Documents\\Repositories\\job-hunting'\n",
    "for file_name in os.listdir(root_dir):\n",
    "    file_path = os.path.join(root_dir, file_name)\n",
    "    if Path(file_path).is_file():\n",
    "        print(f'!{file_name}')"
   ]
  }
 ],
 "metadata": {
  "kernelspec": {
   "display_name": "Python 3",
   "language": "python",
   "name": "python3"
  },
  "language_info": {
   "codemirror_mode": {
    "name": "ipython",
    "version": 3
   },
   "file_extension": ".py",
   "mimetype": "text/x-python",
   "name": "python",
   "nbconvert_exporter": "python",
   "pygments_lexer": "ipython3",
   "version": "3.8.10"
  }
 },
 "nbformat": 4,
 "nbformat_minor": 4
}
