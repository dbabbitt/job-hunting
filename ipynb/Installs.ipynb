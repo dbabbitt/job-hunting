{
 "cells": [
  {
   "cell_type": "code",
   "execution_count": 5,
   "metadata": {},
   "outputs": [
    {
     "name": "stdout",
     "output_type": "stream",
     "text": [
      "D:\\Documents\\GitHub\\job-hunting\\jh_env\\python.exe -m pip uninstall mingw --yes\n"
     ]
    },
    {
     "name": "stderr",
     "output_type": "stream",
     "text": [
      "WARNING: Skipping mingw as it is not installed.\n"
     ]
    }
   ],
   "source": [
    "\n",
    "import sys\n",
    "\n",
    "command_str = f'{sys.executable} -m pip uninstall mingw --yes'\n",
    "print(command_str)\n",
    "!{command_str}"
   ]
  },
  {
   "cell_type": "code",
   "execution_count": 2,
   "metadata": {},
   "outputs": [
    {
     "name": "stdout",
     "output_type": "stream",
     "text": [
      "D:\\Documents\\GitHub\\job-hunting\\jh_env\\python.exe -m pip install --upgrade neo4jrestclient\n",
      "Collecting neo4jrestclient\n",
      "  Downloading neo4jrestclient-2.1.1.tar.gz (73 kB)\n",
      "Requirement already satisfied: requests>=2.1.0 in d:\\documents\\github\\job-hunting\\jh_env\\lib\\site-packages (from neo4jrestclient) (2.25.0)\n",
      "Requirement already satisfied: urllib3<1.27,>=1.21.1 in d:\\documents\\github\\job-hunting\\jh_env\\lib\\site-packages (from requests>=2.1.0->neo4jrestclient) (1.25.11)\n",
      "Requirement already satisfied: certifi>=2017.4.17 in d:\\documents\\github\\job-hunting\\jh_env\\lib\\site-packages (from requests>=2.1.0->neo4jrestclient) (2020.12.5)\n",
      "Requirement already satisfied: chardet<4,>=3.0.2 in d:\\documents\\github\\job-hunting\\jh_env\\lib\\site-packages (from requests>=2.1.0->neo4jrestclient) (3.0.4)\n",
      "Requirement already satisfied: idna<3,>=2.5 in d:\\documents\\github\\job-hunting\\jh_env\\lib\\site-packages (from requests>=2.1.0->neo4jrestclient) (2.10)\n",
      "Building wheels for collected packages: neo4jrestclient\n",
      "  Building wheel for neo4jrestclient (setup.py): started\n",
      "  Building wheel for neo4jrestclient (setup.py): finished with status 'done'\n",
      "  Created wheel for neo4jrestclient: filename=neo4jrestclient-2.1.1-py2.py3-none-any.whl size=78539 sha256=674acfb8782a64897f308c2236f54835322caeb866f310f2fe3b7f0ba1459f85\n",
      "  Stored in directory: c:\\users\\dev\\appdata\\local\\pip\\cache\\wheels\\4d\\39\\cd\\03fa156cb423361fa55a1f69d711d152eb6f3ce902a324059e\n",
      "Successfully built neo4jrestclient\n",
      "Installing collected packages: neo4jrestclient\n",
      "Successfully installed neo4jrestclient-2.1.1\n"
     ]
    }
   ],
   "source": [
    "# %load ../load_magic/pip_install.txt\n",
    "\n",
    "import sys\n",
    "\n",
    "# After this has completed, run these commands in a PowerShell window:\n",
    "# cd $Env:UserProfile\\Documents\\Repositories\\job-hunting\\ps1\n",
    "# clear\n",
    "# .\\create_job_hunting_temp_environment_yml_file.ps1\n",
    "command_str = f'{sys.executable} -m pip install --upgrade neo4jrestclient'\n",
    "print(command_str)\n",
    "!{command_str}"
   ]
  },
  {
   "cell_type": "code",
   "execution_count": null,
   "metadata": {},
   "outputs": [],
   "source": [
    "# %load ../load_magic/pip_install.txt\n",
    "\n",
    "import sys\n",
    "\n",
    "# After this has completed, run these commands in a PowerShell window:\n",
    "# cd $Env:UserProfile\\Documents\\Repositories\\job-hunting\\ps1\n",
    "# clear\n",
    "# .\\create_job_hunting_temp_environment_yml_file.ps1\n",
    "command_str = f'{sys.executable} -m pip install https://github.com/explosion/spacy-models/releases/download/en_core_web_sm-3.0.0/en_core_web_sm-3.0.0-py3-none-any.whl'\n",
    "print(command_str)\n",
    "!{command_str}"
   ]
  },
  {
   "cell_type": "code",
   "execution_count": 7,
   "metadata": {},
   "outputs": [
    {
     "name": "stdout",
     "output_type": "stream",
     "text": [
      "C:\\Users\\dev\\Documents\\Repositories\\job-hunting\\jh\\python.exe -m spacy.en.download\n"
     ]
    },
    {
     "name": "stderr",
     "output_type": "stream",
     "text": [
      "C:\\Users\\dev\\Documents\\Repositories\\job-hunting\\jh\\python.exe: Error while finding module specification for 'spacy.en.download' (ModuleNotFoundError: No module named 'spacy.en')\n"
     ]
    }
   ],
   "source": [
    "\n",
    "command_str = f'{sys.executable} -m spacy.en.download'\n",
    "print(command_str)\n",
    "!{command_str}"
   ]
  },
  {
   "cell_type": "code",
   "execution_count": null,
   "metadata": {},
   "outputs": [],
   "source": [
    "\n",
    "from pathlib import Path\n",
    "\n",
    "root_dir = r'C:\\Users\\dev\\Documents\\Repositories\\job-hunting'\n",
    "for file_name in os.listdir(root_dir):\n",
    "    file_path = os.path.join(root_dir, file_name)\n",
    "    if Path(file_path).is_file():\n",
    "        print(f'!{file_name}')"
   ]
  }
 ],
 "metadata": {
  "kernelspec": {
   "display_name": "Job Hunting (Python 3.7.9)",
   "language": "python",
   "name": "jh_env"
  },
  "language_info": {
   "codemirror_mode": {
    "name": "ipython",
    "version": 3
   },
   "file_extension": ".py",
   "mimetype": "text/x-python",
   "name": "python",
   "nbconvert_exporter": "python",
   "pygments_lexer": "ipython3",
   "version": "3.7.9"
  }
 },
 "nbformat": 4,
 "nbformat_minor": 4
}
