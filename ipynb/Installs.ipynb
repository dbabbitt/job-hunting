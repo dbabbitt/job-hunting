{
 "cells": [
  {
   "cell_type": "code",
   "execution_count": null,
   "metadata": {},
   "outputs": [],
   "source": [
    "\n",
    "import sys\n",
    "\n",
    "command_str = f'{sys.executable} -m pip uninstall mingw --yes'\n",
    "print(command_str)\n",
    "!{command_str}"
   ]
  },
  {
   "cell_type": "code",
   "execution_count": 4,
   "metadata": {},
   "outputs": [
    {
     "name": "stdout",
     "output_type": "stream",
     "text": [
      "C:\\Users\\dev\\anaconda3\\python.exe -m pip install --upgrade jupyter_latex_envs\n",
      "Requirement already satisfied: jupyter_latex_envs in c:\\users\\dev\\anaconda3\\lib\\site-packages (1.4.6)\n",
      "Requirement already satisfied: traitlets>=4.1 in c:\\users\\dev\\anaconda3\\lib\\site-packages (from jupyter_latex_envs) (5.0.5)\n",
      "Requirement already satisfied: notebook>=4.0 in c:\\users\\dev\\anaconda3\\lib\\site-packages (from jupyter_latex_envs) (6.4.0)\n",
      "Requirement already satisfied: nbconvert in c:\\users\\dev\\anaconda3\\lib\\site-packages (from jupyter_latex_envs) (6.0.7)\n",
      "Requirement already satisfied: jupyter-core in c:\\users\\dev\\anaconda3\\lib\\site-packages (from jupyter_latex_envs) (4.7.1)\n",
      "Requirement already satisfied: ipython in c:\\users\\dev\\anaconda3\\lib\\site-packages (from jupyter_latex_envs) (7.22.0)\n",
      "Requirement already satisfied: terminado>=0.8.3 in c:\\users\\dev\\anaconda3\\lib\\site-packages (from notebook>=4.0->jupyter_latex_envs) (0.9.4)\n",
      "Requirement already satisfied: prometheus-client in c:\\users\\dev\\anaconda3\\lib\\site-packages (from notebook>=4.0->jupyter_latex_envs) (0.10.1)\n",
      "Requirement already satisfied: jinja2 in c:\\users\\dev\\anaconda3\\lib\\site-packages (from notebook>=4.0->jupyter_latex_envs) (3.0.0)\n",
      "Requirement already satisfied: argon2-cffi in c:\\users\\dev\\anaconda3\\lib\\site-packages (from notebook>=4.0->jupyter_latex_envs) (20.1.0)\n",
      "Requirement already satisfied: tornado>=6.1 in c:\\users\\dev\\anaconda3\\lib\\site-packages (from notebook>=4.0->jupyter_latex_envs) (6.1)\n",
      "Requirement already satisfied: ipython-genutils in c:\\users\\dev\\anaconda3\\lib\\site-packages (from notebook>=4.0->jupyter_latex_envs) (0.2.0)\n",
      "Requirement already satisfied: pyzmq>=17 in c:\\users\\dev\\anaconda3\\lib\\site-packages (from notebook>=4.0->jupyter_latex_envs) (20.0.0)\n",
      "Requirement already satisfied: ipykernel in c:\\users\\dev\\anaconda3\\lib\\site-packages (from notebook>=4.0->jupyter_latex_envs) (5.3.4)\n",
      "Requirement already satisfied: nbformat in c:\\users\\dev\\anaconda3\\lib\\site-packages (from notebook>=4.0->jupyter_latex_envs) (5.1.3)\n",
      "Requirement already satisfied: Send2Trash>=1.5.0 in c:\\users\\dev\\anaconda3\\lib\\site-packages (from notebook>=4.0->jupyter_latex_envs) (1.5.0)\n",
      "Requirement already satisfied: jupyter-client>=5.3.4 in c:\\users\\dev\\anaconda3\\lib\\site-packages (from notebook>=4.0->jupyter_latex_envs) (6.1.12)\n",
      "Requirement already satisfied: python-dateutil>=2.1 in c:\\users\\dev\\anaconda3\\lib\\site-packages (from jupyter-client>=5.3.4->notebook>=4.0->jupyter_latex_envs) (2.8.1)\n",
      "Requirement already satisfied: pywin32>=1.0 in c:\\users\\dev\\anaconda3\\lib\\site-packages (from jupyter-core->jupyter_latex_envs) (227)\n",
      "Requirement already satisfied: six>=1.5 in c:\\users\\dev\\anaconda3\\lib\\site-packages (from python-dateutil>=2.1->jupyter-client>=5.3.4->notebook>=4.0->jupyter_latex_envs) (1.15.0)\n",
      "Requirement already satisfied: pywinpty>=0.5 in c:\\users\\dev\\anaconda3\\lib\\site-packages (from terminado>=0.8.3->notebook>=4.0->jupyter_latex_envs) (0.5.7)\n",
      "Requirement already satisfied: cffi>=1.0.0 in c:\\users\\dev\\anaconda3\\lib\\site-packages (from argon2-cffi->notebook>=4.0->jupyter_latex_envs) (1.14.5)\n",
      "Requirement already satisfied: pycparser in c:\\users\\dev\\anaconda3\\lib\\site-packages (from cffi>=1.0.0->argon2-cffi->notebook>=4.0->jupyter_latex_envs) (2.20)\n",
      "Requirement already satisfied: prompt-toolkit!=3.0.0,!=3.0.1,<3.1.0,>=2.0.0 in c:\\users\\dev\\anaconda3\\lib\\site-packages (from ipython->jupyter_latex_envs) (3.0.17)\n",
      "Requirement already satisfied: setuptools>=18.5 in c:\\users\\dev\\anaconda3\\lib\\site-packages (from ipython->jupyter_latex_envs) (52.0.0.post20210125)\n",
      "Requirement already satisfied: backcall in c:\\users\\dev\\anaconda3\\lib\\site-packages (from ipython->jupyter_latex_envs) (0.2.0)\n",
      "Requirement already satisfied: pygments in c:\\users\\dev\\anaconda3\\lib\\site-packages (from ipython->jupyter_latex_envs) (2.9.0)\n",
      "Requirement already satisfied: pickleshare in c:\\users\\dev\\anaconda3\\lib\\site-packages (from ipython->jupyter_latex_envs) (0.7.5)\n",
      "Requirement already satisfied: colorama in c:\\users\\dev\\anaconda3\\lib\\site-packages (from ipython->jupyter_latex_envs) (0.4.4)\n",
      "Requirement already satisfied: decorator in c:\\users\\dev\\anaconda3\\lib\\site-packages (from ipython->jupyter_latex_envs) (4.4.2)\n",
      "Requirement already satisfied: jedi>=0.16 in c:\\users\\dev\\anaconda3\\lib\\site-packages (from ipython->jupyter_latex_envs) (0.17.1)\n",
      "Requirement already satisfied: parso<0.8.0,>=0.7.0 in c:\\users\\dev\\anaconda3\\lib\\site-packages (from jedi>=0.16->ipython->jupyter_latex_envs) (0.7.0)\n",
      "Requirement already satisfied: wcwidth in c:\\users\\dev\\anaconda3\\lib\\site-packages (from prompt-toolkit!=3.0.0,!=3.0.1,<3.1.0,>=2.0.0->ipython->jupyter_latex_envs) (0.2.5)\n",
      "Requirement already satisfied: MarkupSafe>=2.0.0rc2 in c:\\users\\dev\\anaconda3\\lib\\site-packages (from jinja2->notebook>=4.0->jupyter_latex_envs) (2.0.1)\n",
      "Requirement already satisfied: testpath in c:\\users\\dev\\anaconda3\\lib\\site-packages (from nbconvert->jupyter_latex_envs) (0.4.4)\n",
      "Requirement already satisfied: nbclient<0.6.0,>=0.5.0 in c:\\users\\dev\\anaconda3\\lib\\site-packages (from nbconvert->jupyter_latex_envs) (0.5.3)\n",
      "Requirement already satisfied: entrypoints>=0.2.2 in c:\\users\\dev\\anaconda3\\lib\\site-packages (from nbconvert->jupyter_latex_envs) (0.3)\n",
      "Requirement already satisfied: pandocfilters>=1.4.1 in c:\\users\\dev\\anaconda3\\lib\\site-packages (from nbconvert->jupyter_latex_envs) (1.4.3)\n",
      "Requirement already satisfied: mistune<2,>=0.8.1 in c:\\users\\dev\\anaconda3\\lib\\site-packages (from nbconvert->jupyter_latex_envs) (0.8.4)\n",
      "Requirement already satisfied: defusedxml in c:\\users\\dev\\anaconda3\\lib\\site-packages (from nbconvert->jupyter_latex_envs) (0.7.1)\n",
      "Requirement already satisfied: jupyterlab-pygments in c:\\users\\dev\\anaconda3\\lib\\site-packages (from nbconvert->jupyter_latex_envs) (0.1.2)\n",
      "Requirement already satisfied: bleach in c:\\users\\dev\\anaconda3\\lib\\site-packages (from nbconvert->jupyter_latex_envs) (3.3.0)\n",
      "Requirement already satisfied: async-generator in c:\\users\\dev\\anaconda3\\lib\\site-packages (from nbclient<0.6.0,>=0.5.0->nbconvert->jupyter_latex_envs) (1.10)\n",
      "Requirement already satisfied: nest-asyncio in c:\\users\\dev\\anaconda3\\lib\\site-packages (from nbclient<0.6.0,>=0.5.0->nbconvert->jupyter_latex_envs) (1.5.1)\n",
      "Requirement already satisfied: jsonschema!=2.5.0,>=2.4 in c:\\users\\dev\\anaconda3\\lib\\site-packages (from nbformat->notebook>=4.0->jupyter_latex_envs) (3.2.0)\n",
      "Requirement already satisfied: pyrsistent>=0.14.0 in c:\\users\\dev\\anaconda3\\lib\\site-packages (from jsonschema!=2.5.0,>=2.4->nbformat->notebook>=4.0->jupyter_latex_envs) (0.17.3)\n",
      "Requirement already satisfied: attrs>=17.4.0 in c:\\users\\dev\\anaconda3\\lib\\site-packages (from jsonschema!=2.5.0,>=2.4->nbformat->notebook>=4.0->jupyter_latex_envs) (21.2.0)\n",
      "Requirement already satisfied: packaging in c:\\users\\dev\\anaconda3\\lib\\site-packages (from bleach->nbconvert->jupyter_latex_envs) (20.9)\n",
      "Requirement already satisfied: webencodings in c:\\users\\dev\\anaconda3\\lib\\site-packages (from bleach->nbconvert->jupyter_latex_envs) (0.5.1)\n",
      "Requirement already satisfied: pyparsing>=2.0.2 in c:\\users\\dev\\anaconda3\\lib\\site-packages (from packaging->bleach->nbconvert->jupyter_latex_envs) (2.4.7)\n"
     ]
    }
   ],
   "source": [
    "# %load ../load_magic/pip_install.txt\n",
    "\n",
    "import sys\n",
    "\n",
    "# After this has completed, run these commands in a PowerShell window:\n",
    "# cd $Env:UserProfile\\Documents\\Repositories\\job-hunting\\ps1\n",
    "# clear\n",
    "# .\\create_job_hunting_temp_environment_yml_file.ps1\n",
    "command_str = f'{sys.executable} -m pip install --upgrade jupyter_latex_envs'\n",
    "print(command_str)\n",
    "!{command_str}"
   ]
  },
  {
   "cell_type": "code",
   "execution_count": null,
   "metadata": {},
   "outputs": [],
   "source": [
    "# %load ../load_magic/pip_install.txt\n",
    "\n",
    "import sys\n",
    "\n",
    "# After this has completed, run these commands in a PowerShell window:\n",
    "# cd $Env:UserProfile\\Documents\\Repositories\\job-hunting\\ps1\n",
    "# clear\n",
    "# .\\create_job_hunting_temp_environment_yml_file.ps1\n",
    "command_str = f'{sys.executable} -m pip install https://github.com/explosion/spacy-models/releases/download/en_core_web_sm-3.0.0/en_core_web_sm-3.0.0-py3-none-any.whl'\n",
    "print(command_str)\n",
    "!{command_str}"
   ]
  },
  {
   "cell_type": "code",
   "execution_count": 7,
   "metadata": {},
   "outputs": [
    {
     "name": "stdout",
     "output_type": "stream",
     "text": [
      "C:\\Users\\dev\\Documents\\Repositories\\job-hunting\\jh\\python.exe -m spacy.en.download\n"
     ]
    },
    {
     "name": "stderr",
     "output_type": "stream",
     "text": [
      "C:\\Users\\dev\\Documents\\Repositories\\job-hunting\\jh\\python.exe: Error while finding module specification for 'spacy.en.download' (ModuleNotFoundError: No module named 'spacy.en')\n"
     ]
    }
   ],
   "source": [
    "\n",
    "command_str = f'{sys.executable} -m spacy.en.download'\n",
    "print(command_str)\n",
    "!{command_str}"
   ]
  },
  {
   "cell_type": "code",
   "execution_count": null,
   "metadata": {},
   "outputs": [],
   "source": [
    "\n",
    "from pathlib import Path\n",
    "\n",
    "root_dir = r'C:\\Users\\dev\\Documents\\Repositories\\job-hunting'\n",
    "for file_name in os.listdir(root_dir):\n",
    "    file_path = os.path.join(root_dir, file_name)\n",
    "    if Path(file_path).is_file():\n",
    "        print(f'!{file_name}')"
   ]
  }
 ],
 "metadata": {
  "kernelspec": {
   "display_name": "Python 3",
   "language": "python",
   "name": "python3"
  },
  "language_info": {
   "codemirror_mode": {
    "name": "ipython",
    "version": 3
   },
   "file_extension": ".py",
   "mimetype": "text/x-python",
   "name": "python",
   "nbconvert_exporter": "python",
   "pygments_lexer": "ipython3",
   "version": "3.8.10"
  }
 },
 "nbformat": 4,
 "nbformat_minor": 4
}
