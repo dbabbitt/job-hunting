{
 "cells": [
  {
   "cell_type": "code",
   "execution_count": 5,
   "metadata": {},
   "outputs": [
    {
     "name": "stdout",
     "output_type": "stream",
     "text": [
      "C:\\Users\\dev\\Documents\\Repositories\\job-hunting\\jh\\python.exe -m pip install --upgrade pyreadline\n",
      "Collecting pyreadline\n",
      "  Using cached pyreadline-2.1.zip (109 kB)\n",
      "Building wheels for collected packages: pyreadline\n",
      "  Building wheel for pyreadline (setup.py): started\n",
      "  Building wheel for pyreadline (setup.py): finished with status 'done'\n",
      "  Created wheel for pyreadline: filename=pyreadline-2.1-py3-none-any.whl size=93838 sha256=51cfe6f72e71a5ca9d2e04816a2695da021e2791c1952d13cb0b3dd5faf49356\n",
      "  Stored in directory: c:\\users\\dev\\appdata\\local\\pip\\cache\\wheels\\00\\6e\\d4\\7c4b7bc22c090baf4f470e7f35c4f22206277229bdb6607df6\n",
      "Successfully built pyreadline\n",
      "Installing collected packages: pyreadline\n",
      "Successfully installed pyreadline-2.1\n"
     ]
    }
   ],
   "source": [
    "# %load ../load_magic/pip_install.txt\n",
    "\n",
    "import sys\n",
    "\n",
    "# After this has completed, run these commands in a PowerShell window:\n",
    "# cd $Env:UserProfile\\Documents\\Repositories\\job-hunting\\ps1\n",
    "# clear\n",
    "# .\\create_job_hunting_temp_environment_yml_file.ps1\n",
    "command_str = f'{sys.executable} -m pip install --upgrade pyreadline'\n",
    "print(command_str)\n",
    "!{command_str}"
   ]
  },
  {
   "cell_type": "code",
   "execution_count": 1,
   "metadata": {},
   "outputs": [
    {
     "data": {
      "text/plain": [
       "['os.DirEntry',\n",
       " 'os.chdir',\n",
       " 'os.curdir',\n",
       " 'os.listdir',\n",
       " 'os.makedirs',\n",
       " 'os.mkdir',\n",
       " 'os.pardir',\n",
       " 'os.removedirs',\n",
       " 'os.rmdir',\n",
       " 'os.scandir',\n",
       " 'os.supports_dir_fd']"
      ]
     },
     "execution_count": 1,
     "metadata": {},
     "output_type": "execute_result"
    }
   ],
   "source": [
    "\n",
    "import os\n",
    "\n",
    "[f'os.{fn}' for fn in dir(os) if 'dir' in fn.lower()]"
   ]
  },
  {
   "cell_type": "code",
   "execution_count": 4,
   "metadata": {},
   "outputs": [
    {
     "name": "stdout",
     "output_type": "stream",
     "text": [
      "!.gitignore\n",
      "!environment.yml\n",
      "!environment_full.yml\n",
      "!environment_old.yml\n",
      "!jh.zip\n",
      "!jupyter_notebook_config.py\n",
      "!MANIFEST.in\n",
      "!notepad_session.xml\n",
      "!package-lock.json\n",
      "!package.json\n",
      "!README.md\n",
      "!serverless.yml\n",
      "!tmp_environment.yml\n",
      "!workspace.json\n"
     ]
    }
   ],
   "source": [
    "\n",
    "from pathlib import Path\n",
    "\n",
    "root_dir = r'C:\\Users\\dev\\Documents\\Repositories\\job-hunting'\n",
    "for file_name in os.listdir(root_dir):\n",
    "    file_path = os.path.join(root_dir, file_name)\n",
    "    if Path(file_path).is_file():\n",
    "        print(f'!{file_name}')"
   ]
  }
 ],
 "metadata": {
  "kernelspec": {
   "display_name": "Job Hunting (Python 3.7.9)",
   "language": "python",
   "name": "jh"
  },
  "language_info": {
   "codemirror_mode": {
    "name": "ipython",
    "version": 3
   },
   "file_extension": ".py",
   "mimetype": "text/x-python",
   "name": "python",
   "nbconvert_exporter": "python",
   "pygments_lexer": "ipython3",
   "version": "3.7.9"
  }
 },
 "nbformat": 4,
 "nbformat_minor": 4
}
