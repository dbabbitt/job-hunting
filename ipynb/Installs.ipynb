{
 "cells": [
  {
   "cell_type": "code",
   "execution_count": 1,
   "metadata": {},
   "outputs": [
    {
     "name": "stdout",
     "output_type": "stream",
     "text": [
      "C:\\Users\\dev\\Documents\\Repositories\\job-hunting\\jh\\python.exe -m pip install --upgrade Pyro4\n",
      "Collecting Pyro4"
     ]
    },
    {
     "name": "stderr",
     "output_type": "stream",
     "text": [
      "  WARNING: The scripts pyro4-check-config.exe, pyro4-flameserver.exe, pyro4-httpgateway.exe, pyro4-ns.exe, pyro4-nsc.exe and pyro4-test-echoserver.exe are installed in 'C:\\Users\\dev\\Documents\\Repositories\\job-hunting\\jh\\Scripts' which is not on PATH.\n",
      "  Consider adding this directory to PATH or, if you prefer to suppress this warning, use --no-warn-script-location.\n"
     ]
    },
    {
     "name": "stdout",
     "output_type": "stream",
     "text": [
      "\n",
      "  Downloading Pyro4-4.80-py2.py3-none-any.whl (89 kB)\n",
      "Collecting serpent>=1.27\n",
      "  Downloading serpent-1.30.2-py3-none-any.whl (9.6 kB)\n",
      "Installing collected packages: serpent, Pyro4\n",
      "Successfully installed Pyro4-4.80 serpent-1.30.2\n"
     ]
    }
   ],
   "source": [
    "# %load ../load_magic/pip_install.txt\n",
    "\n",
    "import sys\n",
    "\n",
    "# After this has completed, run these commands in a PowerShell window:\n",
    "# cd $Env:UserProfile\\Documents\\Repositories\\job-hunting\\ps1\n",
    "# clear\n",
    "# .\\create_job_hunting_temp_environment_yml_file.ps1\n",
    "command_str = f'{sys.executable} -m pip install --upgrade Pyro4'\n",
    "print(command_str)\n",
    "!{command_str}"
   ]
  },
  {
   "cell_type": "code",
   "execution_count": 11,
   "metadata": {},
   "outputs": [
    {
     "name": "stdout",
     "output_type": "stream",
     "text": [
      "C:\\Users\\dev\\Documents\\Repositories\\job-hunting\\jh\\python.exe -m pip install https://github.com/explosion/spacy-models/releases/download/en_core_web_sm-3.0.0/en_core_web_sm-3.0.0-py3-none-any.whl\n",
      "Collecting en-core-web-sm==3.0.0\n",
      "  Downloading https://github.com/explosion/spacy-models/releases/download/en_core_web_sm-3.0.0/en_core_web_sm-3.0.0-py3-none-any.whl (13.7 MB)\n",
      "Requirement already satisfied: spacy<3.1.0,>=3.0.0 in c:\\users\\dev\\documents\\repositories\\job-hunting\\jh\\lib\\site-packages (from en-core-web-sm==3.0.0) (3.0.3)\n",
      "Requirement already satisfied: jinja2 in c:\\users\\dev\\documents\\repositories\\job-hunting\\jh\\lib\\site-packages (from spacy<3.1.0,>=3.0.0->en-core-web-sm==3.0.0) (2.11.2)\n",
      "Requirement already satisfied: importlib-metadata>=0.20 in c:\\users\\dev\\documents\\repositories\\job-hunting\\jh\\lib\\site-packages (from spacy<3.1.0,>=3.0.0->en-core-web-sm==3.0.0) (3.1.1)\n",
      "Requirement already satisfied: pydantic<1.8.0,>=1.7.1 in c:\\users\\dev\\documents\\repositories\\job-hunting\\jh\\lib\\site-packages (from spacy<3.1.0,>=3.0.0->en-core-web-sm==3.0.0) (1.7.3)\n",
      "Requirement already satisfied: murmurhash<1.1.0,>=0.28.0 in c:\\users\\dev\\documents\\repositories\\job-hunting\\jh\\lib\\site-packages (from spacy<3.1.0,>=3.0.0->en-core-web-sm==3.0.0) (1.0.5)\n",
      "Requirement already satisfied: pathy in c:\\users\\dev\\documents\\repositories\\job-hunting\\jh\\lib\\site-packages (from spacy<3.1.0,>=3.0.0->en-core-web-sm==3.0.0) (0.4.0)\n",
      "Requirement already satisfied: packaging>=20.0 in c:\\users\\dev\\documents\\repositories\\job-hunting\\jh\\lib\\site-packages (from spacy<3.1.0,>=3.0.0->en-core-web-sm==3.0.0) (20.8)\n",
      "Requirement already satisfied: tqdm<5.0.0,>=4.38.0 in c:\\users\\dev\\documents\\repositories\\job-hunting\\jh\\lib\\site-packages (from spacy<3.1.0,>=3.0.0->en-core-web-sm==3.0.0) (4.54.1)\n",
      "Requirement already satisfied: cymem<2.1.0,>=2.0.2 in c:\\users\\dev\\documents\\repositories\\job-hunting\\jh\\lib\\site-packages (from spacy<3.1.0,>=3.0.0->en-core-web-sm==3.0.0) (2.0.5)\n",
      "Requirement already satisfied: preshed<3.1.0,>=3.0.2 in c:\\users\\dev\\documents\\repositories\\job-hunting\\jh\\lib\\site-packages (from spacy<3.1.0,>=3.0.0->en-core-web-sm==3.0.0) (3.0.5)\n",
      "Requirement already satisfied: catalogue<2.1.0,>=2.0.1 in c:\\users\\dev\\documents\\repositories\\job-hunting\\jh\\lib\\site-packages (from spacy<3.1.0,>=3.0.0->en-core-web-sm==3.0.0) (2.0.1)\n",
      "Requirement already satisfied: typing-extensions>=3.7.4 in c:\\users\\dev\\documents\\repositories\\job-hunting\\jh\\lib\\site-packages (from spacy<3.1.0,>=3.0.0->en-core-web-sm==3.0.0) (3.7.4.3)\n",
      "Requirement already satisfied: spacy-legacy<3.1.0,>=3.0.0 in c:\\users\\dev\\documents\\repositories\\job-hunting\\jh\\lib\\site-packages (from spacy<3.1.0,>=3.0.0->en-core-web-sm==3.0.0) (3.0.1)\n",
      "Requirement already satisfied: numpy>=1.15.0 in c:\\users\\dev\\documents\\repositories\\job-hunting\\jh\\lib\\site-packages (from spacy<3.1.0,>=3.0.0->en-core-web-sm==3.0.0) (1.19.4)\n",
      "Requirement already satisfied: blis<0.8.0,>=0.4.0 in c:\\users\\dev\\documents\\repositories\\job-hunting\\jh\\lib\\site-packages (from spacy<3.1.0,>=3.0.0->en-core-web-sm==3.0.0) (0.7.4)\n",
      "Requirement already satisfied: wasabi<1.1.0,>=0.8.1 in c:\\users\\dev\\documents\\repositories\\job-hunting\\jh\\lib\\site-packages (from spacy<3.1.0,>=3.0.0->en-core-web-sm==3.0.0) (0.8.2)\n",
      "Requirement already satisfied: srsly<3.0.0,>=2.4.0 in c:\\users\\dev\\documents\\repositories\\job-hunting\\jh\\lib\\site-packages (from spacy<3.1.0,>=3.0.0->en-core-web-sm==3.0.0) (2.4.0)\n",
      "Requirement already satisfied: typer<0.4.0,>=0.3.0 in c:\\users\\dev\\documents\\repositories\\job-hunting\\jh\\lib\\site-packages (from spacy<3.1.0,>=3.0.0->en-core-web-sm==3.0.0) (0.3.2)\n",
      "Requirement already satisfied: thinc<8.1.0,>=8.0.0 in c:\\users\\dev\\documents\\repositories\\job-hunting\\jh\\lib\\site-packages (from spacy<3.1.0,>=3.0.0->en-core-web-sm==3.0.0) (8.0.1)\n",
      "Requirement already satisfied: setuptools in c:\\users\\dev\\documents\\repositories\\job-hunting\\jh\\lib\\site-packages (from spacy<3.1.0,>=3.0.0->en-core-web-sm==3.0.0) (49.6.0.post20201009)\n",
      "Requirement already satisfied: requests<3.0.0,>=2.13.0 in c:\\users\\dev\\documents\\repositories\\job-hunting\\jh\\lib\\site-packages (from spacy<3.1.0,>=3.0.0->en-core-web-sm==3.0.0) (2.25.0)\n",
      "Requirement already satisfied: numpy>=1.15.0 in c:\\users\\dev\\documents\\repositories\\job-hunting\\jh\\lib\\site-packages (from spacy<3.1.0,>=3.0.0->en-core-web-sm==3.0.0) (1.19.4)\n",
      "Requirement already satisfied: importlib-metadata>=0.20 in c:\\users\\dev\\documents\\repositories\\job-hunting\\jh\\lib\\site-packages (from spacy<3.1.0,>=3.0.0->en-core-web-sm==3.0.0) (3.1.1)\n",
      "Requirement already satisfied: zipp>=0.5 in c:\\users\\dev\\documents\\repositories\\job-hunting\\jh\\lib\\site-packages (from importlib-metadata>=0.20->spacy<3.1.0,>=3.0.0->en-core-web-sm==3.0.0) (3.4.0)\n",
      "Requirement already satisfied: MarkupSafe>=0.23 in c:\\users\\dev\\documents\\repositories\\job-hunting\\jh\\lib\\site-packages (from jinja2->spacy<3.1.0,>=3.0.0->en-core-web-sm==3.0.0) (1.1.1)\n",
      "Requirement already satisfied: pyparsing>=2.0.2 in c:\\users\\dev\\documents\\repositories\\job-hunting\\jh\\lib\\site-packages (from packaging>=20.0->spacy<3.1.0,>=3.0.0->en-core-web-sm==3.0.0) (2.4.7)\n",
      "Requirement already satisfied: typer<0.4.0,>=0.3.0 in c:\\users\\dev\\documents\\repositories\\job-hunting\\jh\\lib\\site-packages (from spacy<3.1.0,>=3.0.0->en-core-web-sm==3.0.0) (0.3.2)\n",
      "Requirement already satisfied: cymem<2.1.0,>=2.0.2 in c:\\users\\dev\\documents\\repositories\\job-hunting\\jh\\lib\\site-packages (from spacy<3.1.0,>=3.0.0->en-core-web-sm==3.0.0) (2.0.5)\n",
      "Requirement already satisfied: murmurhash<1.1.0,>=0.28.0 in c:\\users\\dev\\documents\\repositories\\job-hunting\\jh\\lib\\site-packages (from spacy<3.1.0,>=3.0.0->en-core-web-sm==3.0.0) (1.0.5)\n",
      "Requirement already satisfied: urllib3<1.27,>=1.21.1 in c:\\users\\dev\\documents\\repositories\\job-hunting\\jh\\lib\\site-packages (from requests<3.0.0,>=2.13.0->spacy<3.1.0,>=3.0.0->en-core-web-sm==3.0.0) (1.25.11)\n",
      "Requirement already satisfied: idna<3,>=2.5 in c:\\users\\dev\\documents\\repositories\\job-hunting\\jh\\lib\\site-packages (from requests<3.0.0,>=2.13.0->spacy<3.1.0,>=3.0.0->en-core-web-sm==3.0.0) (2.10)\n",
      "Requirement already satisfied: certifi>=2017.4.17 in c:\\users\\dev\\documents\\repositories\\job-hunting\\jh\\lib\\site-packages (from requests<3.0.0,>=2.13.0->spacy<3.1.0,>=3.0.0->en-core-web-sm==3.0.0) (2020.12.5)\n",
      "Requirement already satisfied: chardet<4,>=3.0.2 in c:\\users\\dev\\documents\\repositories\\job-hunting\\jh\\lib\\site-packages (from requests<3.0.0,>=2.13.0->spacy<3.1.0,>=3.0.0->en-core-web-sm==3.0.0) (3.0.4)\n",
      "Collecting smart-open<4.0.0,>=2.2.0\n",
      "  Using cached smart_open-3.0.0-py3-none-any.whl\n",
      "Requirement already satisfied: requests<3.0.0,>=2.13.0 in c:\\users\\dev\\documents\\repositories\\job-hunting\\jh\\lib\\site-packages (from spacy<3.1.0,>=3.0.0->en-core-web-sm==3.0.0) (2.25.0)\n",
      "Requirement already satisfied: catalogue<2.1.0,>=2.0.1 in c:\\users\\dev\\documents\\repositories\\job-hunting\\jh\\lib\\site-packages (from spacy<3.1.0,>=3.0.0->en-core-web-sm==3.0.0) (2.0.1)\n",
      "Requirement already satisfied: wasabi<1.1.0,>=0.8.1 in c:\\users\\dev\\documents\\repositories\\job-hunting\\jh\\lib\\site-packages (from spacy<3.1.0,>=3.0.0->en-core-web-sm==3.0.0) (0.8.2)\n",
      "Requirement already satisfied: pydantic<1.8.0,>=1.7.1 in c:\\users\\dev\\documents\\repositories\\job-hunting\\jh\\lib\\site-packages (from spacy<3.1.0,>=3.0.0->en-core-web-sm==3.0.0) (1.7.3)\n",
      "Requirement already satisfied: murmurhash<1.1.0,>=0.28.0 in c:\\users\\dev\\documents\\repositories\\job-hunting\\jh\\lib\\site-packages (from spacy<3.1.0,>=3.0.0->en-core-web-sm==3.0.0) (1.0.5)\n",
      "Requirement already satisfied: catalogue<2.1.0,>=2.0.1 in c:\\users\\dev\\documents\\repositories\\job-hunting\\jh\\lib\\site-packages (from spacy<3.1.0,>=3.0.0->en-core-web-sm==3.0.0) (2.0.1)\n",
      "Requirement already satisfied: typing-extensions>=3.7.4 in c:\\users\\dev\\documents\\repositories\\job-hunting\\jh\\lib\\site-packages (from spacy<3.1.0,>=3.0.0->en-core-web-sm==3.0.0) (3.7.4.3)\n",
      "Requirement already satisfied: srsly<3.0.0,>=2.4.0 in c:\\users\\dev\\documents\\repositories\\job-hunting\\jh\\lib\\site-packages (from spacy<3.1.0,>=3.0.0->en-core-web-sm==3.0.0) (2.4.0)\n",
      "Requirement already satisfied: numpy>=1.15.0 in c:\\users\\dev\\documents\\repositories\\job-hunting\\jh\\lib\\site-packages (from spacy<3.1.0,>=3.0.0->en-core-web-sm==3.0.0) (1.19.4)\n",
      "Requirement already satisfied: blis<0.8.0,>=0.4.0 in c:\\users\\dev\\documents\\repositories\\job-hunting\\jh\\lib\\site-packages (from spacy<3.1.0,>=3.0.0->en-core-web-sm==3.0.0) (0.7.4)\n",
      "Requirement already satisfied: cymem<2.1.0,>=2.0.2 in c:\\users\\dev\\documents\\repositories\\job-hunting\\jh\\lib\\site-packages (from spacy<3.1.0,>=3.0.0->en-core-web-sm==3.0.0) (2.0.5)\n",
      "Requirement already satisfied: setuptools in c:\\users\\dev\\documents\\repositories\\job-hunting\\jh\\lib\\site-packages (from spacy<3.1.0,>=3.0.0->en-core-web-sm==3.0.0) (49.6.0.post20201009)\n",
      "Requirement already satisfied: preshed<3.1.0,>=3.0.2 in c:\\users\\dev\\documents\\repositories\\job-hunting\\jh\\lib\\site-packages (from spacy<3.1.0,>=3.0.0->en-core-web-sm==3.0.0) (3.0.5)\n",
      "Requirement already satisfied: click<7.2.0,>=7.1.1 in c:\\users\\dev\\documents\\repositories\\job-hunting\\jh\\lib\\site-packages (from typer<0.4.0,>=0.3.0->spacy<3.1.0,>=3.0.0->en-core-web-sm==3.0.0) (7.1.2)\n",
      "Installing collected packages: smart-open, en-core-web-sm\n",
      "  Attempting uninstall: smart-open\n",
      "    Found existing installation: smart-open 4.2.0\n",
      "    Uninstalling smart-open-4.2.0:\n",
      "      Successfully uninstalled smart-open-4.2.0\n",
      "Successfully installed en-core-web-sm-3.0.0 smart-open-3.0.0\n"
     ]
    }
   ],
   "source": [
    "# %load ../load_magic/pip_install.txt\n",
    "\n",
    "import sys\n",
    "\n",
    "# After this has completed, run these commands in a PowerShell window:\n",
    "# cd $Env:UserProfile\\Documents\\Repositories\\job-hunting\\ps1\n",
    "# clear\n",
    "# .\\create_job_hunting_temp_environment_yml_file.ps1\n",
    "command_str = f'{sys.executable} -m pip install https://github.com/explosion/spacy-models/releases/download/en_core_web_sm-3.0.0/en_core_web_sm-3.0.0-py3-none-any.whl'\n",
    "print(command_str)\n",
    "!{command_str}"
   ]
  },
  {
   "cell_type": "code",
   "execution_count": 7,
   "metadata": {},
   "outputs": [
    {
     "name": "stdout",
     "output_type": "stream",
     "text": [
      "C:\\Users\\dev\\Documents\\Repositories\\job-hunting\\jh\\python.exe -m spacy.en.download\n"
     ]
    },
    {
     "name": "stderr",
     "output_type": "stream",
     "text": [
      "C:\\Users\\dev\\Documents\\Repositories\\job-hunting\\jh\\python.exe: Error while finding module specification for 'spacy.en.download' (ModuleNotFoundError: No module named 'spacy.en')\n"
     ]
    }
   ],
   "source": [
    "\n",
    "command_str = f'{sys.executable} -m spacy.en.download'\n",
    "print(command_str)\n",
    "!{command_str}"
   ]
  },
  {
   "cell_type": "code",
   "execution_count": null,
   "metadata": {},
   "outputs": [],
   "source": [
    "\n",
    "from pathlib import Path\n",
    "\n",
    "root_dir = r'C:\\Users\\dev\\Documents\\Repositories\\job-hunting'\n",
    "for file_name in os.listdir(root_dir):\n",
    "    file_path = os.path.join(root_dir, file_name)\n",
    "    if Path(file_path).is_file():\n",
    "        print(f'!{file_name}')"
   ]
  }
 ],
 "metadata": {
  "kernelspec": {
   "display_name": "Job Hunting (Python 3.7.9)",
   "language": "python",
   "name": "jh"
  },
  "language_info": {
   "codemirror_mode": {
    "name": "ipython",
    "version": 3
   },
   "file_extension": ".py",
   "mimetype": "text/x-python",
   "name": "python",
   "nbconvert_exporter": "python",
   "pygments_lexer": "ipython3",
   "version": "3.7.9"
  }
 },
 "nbformat": 4,
 "nbformat_minor": 4
}
