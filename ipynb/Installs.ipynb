{
 "cells": [
  {
   "cell_type": "code",
   "execution_count": 4,
   "metadata": {},
   "outputs": [
    {
     "name": "stdout",
     "output_type": "stream",
     "text": [
      "C:\\ProgramData\\Anaconda3\\python.exe -m pip install --upgrade wendelin.core\n",
      "Collecting wendelin.core\n",
      "  Using cached wendelin.core-0.13.tar.gz (3.1 MB)\n",
      "Requirement already satisfied: numpy in c:\\programdata\\anaconda3\\lib\\site-packages (from wendelin.core) (1.22.3)\n",
      "Requirement already satisfied: ZODB3>=3.10 in c:\\programdata\\anaconda3\\lib\\site-packages (from wendelin.core) (3.11.0)\n",
      "Requirement already satisfied: six in c:\\programdata\\anaconda3\\lib\\site-packages (from wendelin.core) (1.16.0)\n",
      "Requirement already satisfied: psutil in c:\\programdata\\anaconda3\\lib\\site-packages (from wendelin.core) (5.8.0)\n",
      "Requirement already satisfied: persistent>=4.0.0dev in c:\\programdata\\anaconda3\\lib\\site-packages (from ZODB3>=3.10->wendelin.core) (4.9.0)\n",
      "Requirement already satisfied: ZODB>=4.0.0dev in c:\\programdata\\anaconda3\\lib\\site-packages (from ZODB3>=3.10->wendelin.core) (5.7.0)\n",
      "Requirement already satisfied: BTrees>=4.0.0dev in c:\\programdata\\anaconda3\\lib\\site-packages (from ZODB3>=3.10->wendelin.core) (4.10.0)\n",
      "Requirement already satisfied: ZEO>=4.0.0dev in c:\\programdata\\anaconda3\\lib\\site-packages (from ZODB3>=3.10->wendelin.core) (5.3.0)\n",
      "Requirement already satisfied: transaction in c:\\programdata\\anaconda3\\lib\\site-packages (from ZODB3>=3.10->wendelin.core) (3.0.1)\n",
      "Requirement already satisfied: zope.interface>=5.0.0 in c:\\programdata\\anaconda3\\lib\\site-packages (from BTrees>=4.0.0dev->ZODB3>=3.10->wendelin.core) (5.4.0)\n",
      "Requirement already satisfied: cffi in c:\\programdata\\anaconda3\\lib\\site-packages (from persistent>=4.0.0dev->ZODB3>=3.10->wendelin.core) (1.15.0)\n",
      "Requirement already satisfied: zc.lockfile in c:\\programdata\\anaconda3\\lib\\site-packages (from ZEO>=4.0.0dev->ZODB3>=3.10->wendelin.core) (2.0)\n",
      "Requirement already satisfied: zdaemon in c:\\programdata\\anaconda3\\lib\\site-packages (from ZEO>=4.0.0dev->ZODB3>=3.10->wendelin.core) (4.3)\n",
      "Requirement already satisfied: ZConfig in c:\\programdata\\anaconda3\\lib\\site-packages (from ZEO>=4.0.0dev->ZODB3>=3.10->wendelin.core) (3.6.0)\n",
      "Requirement already satisfied: zodbpickle>=1.0.1 in c:\\programdata\\anaconda3\\lib\\site-packages (from ZODB>=4.0.0dev->ZODB3>=3.10->wendelin.core) (2.3)\n",
      "Requirement already satisfied: setuptools in c:\\programdata\\anaconda3\\lib\\site-packages (from zodbpickle>=1.0.1->ZODB>=4.0.0dev->ZODB3>=3.10->wendelin.core) (61.2.0)\n",
      "Requirement already satisfied: pycparser in c:\\programdata\\anaconda3\\lib\\site-packages (from cffi->persistent>=4.0.0dev->ZODB3>=3.10->wendelin.core) (2.21)\n",
      "Building wheels for collected packages: wendelin.core\n",
      "  Building wheel for wendelin.core (setup.py): started\n",
      "  Building wheel for wendelin.core (setup.py): finished with status 'error'\n",
      "  Running setup.py clean for wendelin.core\n",
      "Failed to build wendelin.core\n",
      "Installing collected packages: wendelin.core\n",
      "    Running setup.py install for wendelin.core: started\n",
      "    Running setup.py install for wendelin.core: finished with status 'error'\n"
     ]
    },
    {
     "name": "stderr",
     "output_type": "stream",
     "text": [
      "  ERROR: Command errored out with exit status 1:\n",
      "   command: 'C:\\ProgramData\\Anaconda3\\python.exe' -u -c 'import io, os, sys, setuptools, tokenize; sys.argv[0] = '\"'\"'C:\\\\Users\\\\daveb\\\\AppData\\\\Local\\\\Temp\\\\pip-install-mwwwk0qh\\\\wendelin-core_af3cdc5e78c8486a86d46d2f08e06192\\\\setup.py'\"'\"'; __file__='\"'\"'C:\\\\Users\\\\daveb\\\\AppData\\\\Local\\\\Temp\\\\pip-install-mwwwk0qh\\\\wendelin-core_af3cdc5e78c8486a86d46d2f08e06192\\\\setup.py'\"'\"';f = getattr(tokenize, '\"'\"'open'\"'\"', open)(__file__) if os.path.exists(__file__) else io.StringIO('\"'\"'from setuptools import setup; setup()'\"'\"');code = f.read().replace('\"'\"'\\r\\n'\"'\"', '\"'\"'\\n'\"'\"');f.close();exec(compile(code, __file__, '\"'\"'exec'\"'\"'))' bdist_wheel -d 'C:\\Users\\daveb\\AppData\\Local\\Temp\\pip-wheel-rhp4gfo0'\n",
      "       cwd: C:\\Users\\daveb\\AppData\\Local\\Temp\\pip-install-mwwwk0qh\\wendelin-core_af3cdc5e78c8486a86d46d2f08e06192\\\n",
      "  Complete output (46 lines):\n",
      "  running bdist_wheel\n",
      "  running build\n",
      "  running build_py\n",
      "  package init file '__init__.py' not found (or not a regular file)\n",
      "  creating build\n",
      "  creating build\\lib.win-amd64-3.9\n",
      "  creating build\\lib.win-amd64-3.9\\wendelin\n",
      "  creating build\\lib.win-amd64-3.9\\wendelin\\bigarray\n",
      "  copying bigarray\\array_ram.py -> build\\lib.win-amd64-3.9\\wendelin\\bigarray\n",
      "  copying bigarray\\array_zodb.py -> build\\lib.win-amd64-3.9\\wendelin\\bigarray\n",
      "  copying bigarray\\__init__.py -> build\\lib.win-amd64-3.9\\wendelin\\bigarray\n",
      "  creating build\\lib.win-amd64-3.9\\wendelin\\bigfile\n",
      "  copying bigfile\\file_file.py -> build\\lib.win-amd64-3.9\\wendelin\\bigfile\n",
      "  copying bigfile\\file_zodb.py -> build\\lib.win-amd64-3.9\\wendelin\\bigfile\n",
      "  copying bigfile\\__init__.py -> build\\lib.win-amd64-3.9\\wendelin\\bigfile\n",
      "  creating build\\lib.win-amd64-3.9\\wendelin\\demo\n",
      "  copying demo\\demo_zbigarray.py -> build\\lib.win-amd64-3.9\\wendelin\\demo\n",
      "  copying demo\\__init__.py -> build\\lib.win-amd64-3.9\\wendelin\\demo\n",
      "  creating build\\lib.win-amd64-3.9\\wendelin\\lib\n",
      "  copying lib\\calc.py -> build\\lib.win-amd64-3.9\\wendelin\\lib\n",
      "  copying lib\\mem.py -> build\\lib.win-amd64-3.9\\wendelin\\lib\n",
      "  copying lib\\testing.py -> build\\lib.win-amd64-3.9\\wendelin\\lib\n",
      "  copying lib\\xnumpy.py -> build\\lib.win-amd64-3.9\\wendelin\\lib\n",
      "  copying lib\\zodb.py -> build\\lib.win-amd64-3.9\\wendelin\\lib\n",
      "  copying lib\\__init__.py -> build\\lib.win-amd64-3.9\\wendelin\\lib\n",
      "  creating build\\lib.win-amd64-3.9\\wendelin\\bigarray\\tests\n",
      "  copying bigarray\\tests\\test_arrayzodb.py -> build\\lib.win-amd64-3.9\\wendelin\\bigarray\\tests\n",
      "  copying bigarray\\tests\\test_basic.py -> build\\lib.win-amd64-3.9\\wendelin\\bigarray\\tests\n",
      "  copying bigarray\\tests\\__init__.py -> build\\lib.win-amd64-3.9\\wendelin\\bigarray\\tests\n",
      "  creating build\\lib.win-amd64-3.9\\wendelin\\bigfile\\tests\n",
      "  copying bigfile\\tests\\bench_0virtmem.py -> build\\lib.win-amd64-3.9\\wendelin\\bigfile\\tests\n",
      "  copying bigfile\\tests\\bench_1filezodb.py -> build\\lib.win-amd64-3.9\\wendelin\\bigfile\\tests\n",
      "  copying bigfile\\tests\\test_basic.py -> build\\lib.win-amd64-3.9\\wendelin\\bigfile\\tests\n",
      "  copying bigfile\\tests\\test_filefile.py -> build\\lib.win-amd64-3.9\\wendelin\\bigfile\\tests\n",
      "  copying bigfile\\tests\\test_filezodb.py -> build\\lib.win-amd64-3.9\\wendelin\\bigfile\\tests\n",
      "  copying bigfile\\tests\\test_thread.py -> build\\lib.win-amd64-3.9\\wendelin\\bigfile\\tests\n",
      "  copying bigfile\\tests\\__init__.py -> build\\lib.win-amd64-3.9\\wendelin\\bigfile\\tests\n",
      "  creating build\\lib.win-amd64-3.9\\wendelin\\lib\\tests\n",
      "  copying lib\\tests\\test_calc.py -> build\\lib.win-amd64-3.9\\wendelin\\lib\\tests\n",
      "  copying lib\\tests\\test_xnumpy.py -> build\\lib.win-amd64-3.9\\wendelin\\lib\\tests\n",
      "  copying lib\\tests\\test_zodb.py -> build\\lib.win-amd64-3.9\\wendelin\\lib\\tests\n",
      "  copying lib\\tests\\__init__.py -> build\\lib.win-amd64-3.9\\wendelin\\lib\\tests\n",
      "  running build_ext\n",
      "  'make' is not recognized as an internal or external command,\n",
      "  operable program or batch file.\n",
      "  error: Failed to execute `make all`\n",
      "  ----------------------------------------\n",
      "  ERROR: Failed building wheel for wendelin.core\n",
      "    ERROR: Command errored out with exit status 1:\n",
      "     command: 'C:\\ProgramData\\Anaconda3\\python.exe' -u -c 'import io, os, sys, setuptools, tokenize; sys.argv[0] = '\"'\"'C:\\\\Users\\\\daveb\\\\AppData\\\\Local\\\\Temp\\\\pip-install-mwwwk0qh\\\\wendelin-core_af3cdc5e78c8486a86d46d2f08e06192\\\\setup.py'\"'\"'; __file__='\"'\"'C:\\\\Users\\\\daveb\\\\AppData\\\\Local\\\\Temp\\\\pip-install-mwwwk0qh\\\\wendelin-core_af3cdc5e78c8486a86d46d2f08e06192\\\\setup.py'\"'\"';f = getattr(tokenize, '\"'\"'open'\"'\"', open)(__file__) if os.path.exists(__file__) else io.StringIO('\"'\"'from setuptools import setup; setup()'\"'\"');code = f.read().replace('\"'\"'\\r\\n'\"'\"', '\"'\"'\\n'\"'\"');f.close();exec(compile(code, __file__, '\"'\"'exec'\"'\"'))' install --record 'C:\\Users\\daveb\\AppData\\Local\\Temp\\pip-record-umgc6y1q\\install-record.txt' --single-version-externally-managed --compile --install-headers 'C:\\ProgramData\\Anaconda3\\Include\\wendelin.core'\n",
      "         cwd: C:\\Users\\daveb\\AppData\\Local\\Temp\\pip-install-mwwwk0qh\\wendelin-core_af3cdc5e78c8486a86d46d2f08e06192\\\n",
      "    Complete output (48 lines):\n",
      "    running install\n",
      "    C:\\ProgramData\\Anaconda3\\lib\\site-packages\\setuptools\\command\\install.py:34: SetuptoolsDeprecationWarning: setup.py install is deprecated. Use build and pip and other standards-based tools.\n",
      "      warnings.warn(\n",
      "    running build\n",
      "    running build_py\n",
      "    package init file '__init__.py' not found (or not a regular file)\n",
      "    creating build\n",
      "    creating build\\lib.win-amd64-3.9\n",
      "    creating build\\lib.win-amd64-3.9\\wendelin\n",
      "    creating build\\lib.win-amd64-3.9\\wendelin\\bigarray\n",
      "    copying bigarray\\array_ram.py -> build\\lib.win-amd64-3.9\\wendelin\\bigarray\n",
      "    copying bigarray\\array_zodb.py -> build\\lib.win-amd64-3.9\\wendelin\\bigarray\n",
      "    copying bigarray\\__init__.py -> build\\lib.win-amd64-3.9\\wendelin\\bigarray\n",
      "    creating build\\lib.win-amd64-3.9\\wendelin\\bigfile\n",
      "    copying bigfile\\file_file.py -> build\\lib.win-amd64-3.9\\wendelin\\bigfile\n",
      "    copying bigfile\\file_zodb.py -> build\\lib.win-amd64-3.9\\wendelin\\bigfile\n",
      "    copying bigfile\\__init__.py -> build\\lib.win-amd64-3.9\\wendelin\\bigfile\n",
      "    creating build\\lib.win-amd64-3.9\\wendelin\\demo\n",
      "    copying demo\\demo_zbigarray.py -> build\\lib.win-amd64-3.9\\wendelin\\demo\n",
      "    copying demo\\__init__.py -> build\\lib.win-amd64-3.9\\wendelin\\demo\n",
      "    creating build\\lib.win-amd64-3.9\\wendelin\\lib\n",
      "    copying lib\\calc.py -> build\\lib.win-amd64-3.9\\wendelin\\lib\n",
      "    copying lib\\mem.py -> build\\lib.win-amd64-3.9\\wendelin\\lib\n",
      "    copying lib\\testing.py -> build\\lib.win-amd64-3.9\\wendelin\\lib\n",
      "    copying lib\\xnumpy.py -> build\\lib.win-amd64-3.9\\wendelin\\lib\n",
      "    copying lib\\zodb.py -> build\\lib.win-amd64-3.9\\wendelin\\lib\n",
      "    copying lib\\__init__.py -> build\\lib.win-amd64-3.9\\wendelin\\lib\n",
      "    creating build\\lib.win-amd64-3.9\\wendelin\\bigarray\\tests\n",
      "    copying bigarray\\tests\\test_arrayzodb.py -> build\\lib.win-amd64-3.9\\wendelin\\bigarray\\tests\n",
      "    copying bigarray\\tests\\test_basic.py -> build\\lib.win-amd64-3.9\\wendelin\\bigarray\\tests\n",
      "    copying bigarray\\tests\\__init__.py -> build\\lib.win-amd64-3.9\\wendelin\\bigarray\\tests\n",
      "    creating build\\lib.win-amd64-3.9\\wendelin\\bigfile\\tests\n",
      "    copying bigfile\\tests\\bench_0virtmem.py -> build\\lib.win-amd64-3.9\\wendelin\\bigfile\\tests\n",
      "    copying bigfile\\tests\\bench_1filezodb.py -> build\\lib.win-amd64-3.9\\wendelin\\bigfile\\tests\n",
      "    copying bigfile\\tests\\test_basic.py -> build\\lib.win-amd64-3.9\\wendelin\\bigfile\\tests\n",
      "    copying bigfile\\tests\\test_filefile.py -> build\\lib.win-amd64-3.9\\wendelin\\bigfile\\tests\n",
      "    copying bigfile\\tests\\test_filezodb.py -> build\\lib.win-amd64-3.9\\wendelin\\bigfile\\tests\n",
      "    copying bigfile\\tests\\test_thread.py -> build\\lib.win-amd64-3.9\\wendelin\\bigfile\\tests\n",
      "    copying bigfile\\tests\\__init__.py -> build\\lib.win-amd64-3.9\\wendelin\\bigfile\\tests\n",
      "    creating build\\lib.win-amd64-3.9\\wendelin\\lib\\tests\n",
      "    copying lib\\tests\\test_calc.py -> build\\lib.win-amd64-3.9\\wendelin\\lib\\tests\n",
      "    copying lib\\tests\\test_xnumpy.py -> build\\lib.win-amd64-3.9\\wendelin\\lib\\tests\n",
      "    copying lib\\tests\\test_zodb.py -> build\\lib.win-amd64-3.9\\wendelin\\lib\\tests\n",
      "    copying lib\\tests\\__init__.py -> build\\lib.win-amd64-3.9\\wendelin\\lib\\tests\n",
      "    running build_ext\n",
      "    'make' is not recognized as an internal or external command,\n",
      "    operable program or batch file.\n",
      "    error: Failed to execute `make all`\n",
      "    ----------------------------------------\n",
      "ERROR: Command errored out with exit status 1: 'C:\\ProgramData\\Anaconda3\\python.exe' -u -c 'import io, os, sys, setuptools, tokenize; sys.argv[0] = '\"'\"'C:\\\\Users\\\\daveb\\\\AppData\\\\Local\\\\Temp\\\\pip-install-mwwwk0qh\\\\wendelin-core_af3cdc5e78c8486a86d46d2f08e06192\\\\setup.py'\"'\"'; __file__='\"'\"'C:\\\\Users\\\\daveb\\\\AppData\\\\Local\\\\Temp\\\\pip-install-mwwwk0qh\\\\wendelin-core_af3cdc5e78c8486a86d46d2f08e06192\\\\setup.py'\"'\"';f = getattr(tokenize, '\"'\"'open'\"'\"', open)(__file__) if os.path.exists(__file__) else io.StringIO('\"'\"'from setuptools import setup; setup()'\"'\"');code = f.read().replace('\"'\"'\\r\\n'\"'\"', '\"'\"'\\n'\"'\"');f.close();exec(compile(code, __file__, '\"'\"'exec'\"'\"'))' install --record 'C:\\Users\\daveb\\AppData\\Local\\Temp\\pip-record-umgc6y1q\\install-record.txt' --single-version-externally-managed --compile --install-headers 'C:\\ProgramData\\Anaconda3\\Include\\wendelin.core' Check the logs for full command output.\n"
     ]
    }
   ],
   "source": [
    "\n",
    "import sys\n",
    "\n",
    "# After this has completed, run these commands in a PowerShell window:\n",
    "# cd $Env:UserProfile\\Documents\\Repositories\\job-hunting\\ps1\n",
    "# clear\n",
    "# .\\create_job_hunting_temp_environment_yml_file.ps1\n",
    "command_str = f'{sys.executable} -m pip install --upgrade wendelin.core'\n",
    "print(command_str)\n",
    "!{command_str}"
   ]
  },
  {
   "cell_type": "code",
   "execution_count": 1,
   "metadata": {},
   "outputs": [
    {
     "name": "stdout",
     "output_type": "stream",
     "text": [
      "C:\\Users\\dev\\anaconda3\\python.exe -m pip uninstall jupyter_latex_envs --yes\n",
      "Found existing installation: jupyter-latex-envs 1.4.6\n",
      "Uninstalling jupyter-latex-envs-1.4.6:\n",
      "  Successfully uninstalled jupyter-latex-envs-1.4.6\n"
     ]
    }
   ],
   "source": [
    "\n",
    "import sys\n",
    "\n",
    "command_str = f'{sys.executable} -m pip uninstall jupyter_latex_envs --yes'\n",
    "print(command_str)\n",
    "!{command_str}"
   ]
  },
  {
   "cell_type": "code",
   "execution_count": null,
   "metadata": {},
   "outputs": [],
   "source": [
    "# %load ../load_magic/pip_install.txt\n",
    "\n",
    "import sys\n",
    "\n",
    "# After this has completed, run these commands in a PowerShell window:\n",
    "# cd $Env:UserProfile\\Documents\\Repositories\\job-hunting\\ps1\n",
    "# clear\n",
    "# .\\create_job_hunting_temp_environment_yml_file.ps1\n",
    "command_str = f'{sys.executable} -m pip install https://github.com/explosion/spacy-models/releases/download/en_core_web_sm-3.0.0/en_core_web_sm-3.0.0-py3-none-any.whl'\n",
    "print(command_str)\n",
    "!{command_str}"
   ]
  },
  {
   "cell_type": "code",
   "execution_count": 7,
   "metadata": {},
   "outputs": [
    {
     "name": "stdout",
     "output_type": "stream",
     "text": [
      "C:\\Users\\dev\\Documents\\Repositories\\job-hunting\\jh\\python.exe -m spacy.en.download\n"
     ]
    },
    {
     "name": "stderr",
     "output_type": "stream",
     "text": [
      "C:\\Users\\dev\\Documents\\Repositories\\job-hunting\\jh\\python.exe: Error while finding module specification for 'spacy.en.download' (ModuleNotFoundError: No module named 'spacy.en')\n"
     ]
    }
   ],
   "source": [
    "\n",
    "command_str = f'{sys.executable} -m spacy.en.download'\n",
    "print(command_str)\n",
    "!{command_str}"
   ]
  },
  {
   "cell_type": "code",
   "execution_count": null,
   "metadata": {},
   "outputs": [],
   "source": [
    "\n",
    "from pathlib import Path\n",
    "\n",
    "root_dir = r'C:\\Users\\dev\\Documents\\Repositories\\job-hunting'\n",
    "for file_name in os.listdir(root_dir):\n",
    "    file_path = os.path.join(root_dir, file_name)\n",
    "    if Path(file_path).is_file():\n",
    "        print(f'!{file_name}')"
   ]
  }
 ],
 "metadata": {
  "kernelspec": {
   "display_name": "Python 3 (ipykernel)",
   "language": "python",
   "name": "python3"
  },
  "language_info": {
   "codemirror_mode": {
    "name": "ipython",
    "version": 3
   },
   "file_extension": ".py",
   "mimetype": "text/x-python",
   "name": "python",
   "nbconvert_exporter": "python",
   "pygments_lexer": "ipython3",
   "version": "3.9.7"
  }
 },
 "nbformat": 4,
 "nbformat_minor": 4
}
