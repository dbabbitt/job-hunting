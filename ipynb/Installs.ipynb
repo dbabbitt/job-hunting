{
 "cells": [
  {
   "cell_type": "code",
   "execution_count": 1,
   "metadata": {},
   "outputs": [
    {
     "name": "stdout",
     "output_type": "stream",
     "text": [
      "C:\\Users\\daveb\\OneDrive\\Documents\\GitHub\\job-hunting\\jh_env\\python.exe -m pip install optuna --upgrade\n",
      "Collecting optuna\n",
      "  Downloading optuna-4.0.0-py3-none-any.whl.metadata (16 kB)\n",
      "Collecting alembic>=1.5.0 (from optuna)\n",
      "  Downloading alembic-1.13.2-py3-none-any.whl.metadata (7.4 kB)\n",
      "Collecting colorlog (from optuna)\n",
      "  Downloading colorlog-6.8.2-py3-none-any.whl.metadata (10 kB)\n",
      "Requirement already satisfied: numpy in c:\\users\\daveb\\onedrive\\documents\\github\\job-hunting\\jh_env\\lib\\site-packages (from optuna) (1.24.2)\n",
      "Requirement already satisfied: packaging>=20.0 in c:\\users\\daveb\\onedrive\\documents\\github\\job-hunting\\jh_env\\lib\\site-packages (from optuna) (22.0)\n",
      "Requirement already satisfied: sqlalchemy>=1.3.0 in c:\\users\\daveb\\onedrive\\documents\\github\\job-hunting\\jh_env\\lib\\site-packages (from optuna) (1.4.47)\n",
      "Requirement already satisfied: tqdm in c:\\users\\daveb\\onedrive\\documents\\github\\job-hunting\\jh_env\\lib\\site-packages (from optuna) (4.64.1)\n",
      "Requirement already satisfied: PyYAML in c:\\users\\daveb\\appdata\\roaming\\python\\python310\\site-packages (from optuna) (6.0.1)\n",
      "Collecting Mako (from alembic>=1.5.0->optuna)\n",
      "  Downloading Mako-1.3.5-py3-none-any.whl.metadata (2.9 kB)\n",
      "Requirement already satisfied: typing-extensions>=4 in c:\\users\\daveb\\onedrive\\documents\\github\\job-hunting\\jh_env\\lib\\site-packages (from alembic>=1.5.0->optuna) (4.12.2)\n",
      "Requirement already satisfied: greenlet!=0.4.17 in c:\\users\\daveb\\onedrive\\documents\\github\\job-hunting\\jh_env\\lib\\site-packages (from sqlalchemy>=1.3.0->optuna) (2.0.2)\n",
      "Requirement already satisfied: colorama in c:\\users\\daveb\\appdata\\roaming\\python\\python310\\site-packages (from colorlog->optuna) (0.4.6)\n",
      "Requirement already satisfied: MarkupSafe>=0.9.2 in c:\\users\\daveb\\onedrive\\documents\\github\\job-hunting\\jh_env\\lib\\site-packages (from Mako->alembic>=1.5.0->optuna) (2.1.1)\n",
      "Downloading optuna-4.0.0-py3-none-any.whl (362 kB)\n",
      "Downloading alembic-1.13.2-py3-none-any.whl (232 kB)\n",
      "Downloading colorlog-6.8.2-py3-none-any.whl (11 kB)\n",
      "Downloading Mako-1.3.5-py3-none-any.whl (78 kB)\n",
      "Installing collected packages: Mako, colorlog, alembic, optuna\n",
      "Successfully installed Mako-1.3.5 alembic-1.13.2 colorlog-6.8.2 optuna-4.0.0\n"
     ]
    }
   ],
   "source": [
    "\n",
    "import sys\n",
    "\n",
    "command_str = f'{sys.executable} -m pip install optuna --upgrade'# --force-reinstall\n",
    "print(command_str)\n",
    "!{command_str}"
   ]
  },
  {
   "cell_type": "code",
   "execution_count": 5,
   "metadata": {},
   "outputs": [],
   "source": [
    "\n",
    "folder_path = 'C:\\\\Users\\\\daveb\\\\OneDrive\\\\Documents\\\\GitHub\\\\job-hunting\\\\jh_env\\\\Lib\\\\site-packages'\n",
    "!start %windir%\\\\explorer.exe \"{folder_path}\""
   ]
  },
  {
   "cell_type": "code",
   "execution_count": 2,
   "metadata": {},
   "outputs": [],
   "source": [
    "\n",
    "import pyttsx3\n",
    "\n",
    "engine = pyttsx3.init()\n",
    "engine.say('I will speak this text')\n",
    "engine.runAndWait()"
   ]
  },
  {
   "cell_type": "markdown",
   "metadata": {},
   "source": [
    "\n",
    "----"
   ]
  },
  {
   "cell_type": "code",
   "execution_count": 1,
   "metadata": {},
   "outputs": [
    {
     "name": "stdout",
     "output_type": "stream",
     "text": [
      "5 \"C:\\Program Files\\Blender Foundation\\Blender 3.4\\3.4\\python\\bin\\python.exe\" -m pip install notebook --pre --quiet\n",
      "8 \"C:\\Program Files\\Blender Foundation\\Blender 3.4\\3.4\\python\\lib\\venv\\scripts\\nt\\python.exe\" -m pip install notebook --pre --quiet\n",
      "2 \"C:\\Program Files\\GIMP 2\\bin\\python.exe\" -m pip install notebook --pre --quiet\n",
      "2 \"C:\\Program Files\\Inkscape\\bin\\python.exe\" -m pip install notebook --pre --quiet\n",
      "6 \"C:\\Program Files\\Inkscape\\lib\\python3.9\\venv\\scripts\\nt\\python.exe\" -m pip install notebook --pre --quiet\n",
      "6 \"C:\\Program Files\\NVIDIA Corporation\\Nsight Compute 2023.1.1\\host\\target-windows-x64\\python\\bin\\python.exe\" -m pip install notebook --pre --quiet\n",
      "3 \"C:\\Program Files\\StableDiffusionGui\\Data\\mc\\python.exe\" -m pip install notebook --pre --quiet\n",
      "5 \"C:\\Program Files\\StableDiffusionGui\\Data\\mc\\envs\\ldo\\python.exe\" -m pip install notebook --pre --quiet\n",
      "5 \"C:\\Program Files\\StableDiffusionGui\\Data\\mc\\pkgs\\python-3.8.5-h5fd99cc_1\\python.exe\" -m pip install notebook --pre --quiet\n",
      "5 \"C:\\Program Files\\StableDiffusionGui\\Data\\mc\\pkgs\\python-3.9.12-h6244533_0\\python.exe\" -m pip install notebook --pre --quiet\n",
      "1 \"C:\\ProgramData\\Anaconda3\\python.exe\" -m pip install notebook --pre --quiet\n",
      "7 \"C:\\ProgramData\\Anaconda3\\nsight-compute\\2022.4.1\\host\\target-windows-x64\\python\\bin\\python.exe\" -m pip install notebook --pre --quiet\n",
      "9 \"C:\\ProgramData\\Anaconda3\\pkgs\\nsight-compute-2022.4.1.6-0\\nsight-compute\\2022.4.1\\host\\target-windows-x64\\python\\bin\\python.exe\" -m pip install notebook --pre --quiet\n",
      "3 \"C:\\ProgramData\\Anaconda3\\pkgs\\python-3.10.10-h4de0772_0_cpython\\python.exe\" -m pip install notebook --pre --quiet\n",
      "7 \"C:\\ProgramData\\Anaconda3\\pkgs\\python-3.10.10-h4de0772_0_cpython\\Lib\\venv\\scripts\\nt\\python.exe\" -m pip install notebook --pre --quiet\n",
      "3 \"C:\\ProgramData\\Anaconda3\\pkgs\\python-3.10.9-h966fe2a_0\\python.exe\" -m pip install notebook --pre --quiet\n",
      "7 \"C:\\ProgramData\\Anaconda3\\pkgs\\python-3.10.9-h966fe2a_0\\Lib\\venv\\scripts\\nt\\python.exe\" -m pip install notebook --pre --quiet\n",
      "3 \"C:\\ProgramData\\Anaconda3\\pkgs\\python-3.11.3-h2628c8c_0_cpython\\python.exe\" -m pip install notebook --pre --quiet\n",
      "7 \"C:\\ProgramData\\Anaconda3\\pkgs\\python-3.11.3-h2628c8c_0_cpython\\Lib\\venv\\scripts\\nt\\python.exe\" -m pip install notebook --pre --quiet\n",
      "3 \"C:\\ProgramData\\Anaconda3\\pkgs\\python-3.11.3-h966fe2a_0\\python.exe\" -m pip install notebook --pre --quiet\n",
      "7 \"C:\\ProgramData\\Anaconda3\\pkgs\\python-3.11.3-h966fe2a_0\\Lib\\venv\\scripts\\nt\\python.exe\" -m pip install notebook --pre --quiet\n",
      "3 \"C:\\ProgramData\\Anaconda3\\pkgs\\python-3.9.13-h6244533_1\\python.exe\" -m pip install notebook --pre --quiet\n",
      "3 \"C:\\ProgramData\\Anaconda3\\pkgs\\python-3.9.16-h6244533_0\\python.exe\" -m pip install notebook --pre --quiet\n",
      "3 \"C:\\ProgramData\\Anaconda3\\pkgs\\python-3.9.16-h6244533_2\\python.exe\" -m pip install notebook --pre --quiet\n",
      "0 \"C:\\Python310\\python.exe\" -m pip install notebook --pre --quiet\n",
      "4 \"C:\\Python310\\Lib\\venv\\scripts\\nt\\python.exe\" -m pip install notebook --pre --quiet\n",
      "5 \"C:\\Users\\daveb\\AppData\\Local\\Microsoft\\WindowsApps\\python.exe\" -m pip install notebook --pre --quiet\n",
      "5 \"C:\\Users\\daveb\\AppData\\Local\\Microsoft\\WindowsApps\\python3.10.exe\" -m pip install notebook --pre --quiet\n",
      "5 \"C:\\Users\\daveb\\AppData\\Local\\Microsoft\\WindowsApps\\python3.exe\" -m pip install notebook --pre --quiet\n",
      "6 \"C:\\Users\\daveb\\AppData\\Local\\Microsoft\\WindowsApps\\Microsoft.DesktopAppInstaller_8wekyb3d8bbwe\\python.exe\" -m pip install notebook --pre --quiet\n",
      "6 \"C:\\Users\\daveb\\AppData\\Local\\Microsoft\\WindowsApps\\Microsoft.DesktopAppInstaller_8wekyb3d8bbwe\\python3.exe\" -m pip install notebook --pre --quiet\n",
      "6 \"C:\\Users\\daveb\\AppData\\Local\\Microsoft\\WindowsApps\\PythonSoftwareFoundation.Python.3.10_qbz5n2kfra8p0\\python.exe\" -m pip install notebook --pre --quiet\n",
      "6 \"C:\\Users\\daveb\\AppData\\Local\\Microsoft\\WindowsApps\\PythonSoftwareFoundation.Python.3.10_qbz5n2kfra8p0\\python3.10.exe\" -m pip install notebook --pre --quiet\n",
      "6 \"C:\\Users\\daveb\\AppData\\Local\\Microsoft\\WindowsApps\\PythonSoftwareFoundation.Python.3.10_qbz5n2kfra8p0\\python3.exe\" -m pip install notebook --pre --quiet\n",
      "5 \"C:\\Users\\daveb\\AppData\\Local\\Package Cache\\{20ae9c9d-53ff-44e7-973b-efb518e01971}\\python-3.10.4-amd64.exe\" -m pip install notebook --pre --quiet\n",
      "6 \"C:\\Users\\daveb\\AppData\\Local\\Programs\\GIMP 2\\bin\\python.exe\" -m pip install notebook --pre --quiet\n",
      "6 \"C:\\Users\\daveb\\OneDrive\\Documents\\GitHub\\Fooocus\\fooocus_env\\python.exe\" -m pip install notebook --pre --quiet\n",
      "6 \"C:\\Users\\daveb\\OneDrive\\Documents\\GitHub\\gpt-stuff\\gs_env\\python.exe\" -m pip install notebook --pre --quiet\n",
      "10 \"C:\\Users\\daveb\\OneDrive\\Documents\\GitHub\\gpt-stuff\\gs_env\\Lib\\venv\\scripts\\nt\\python.exe\" -m pip install notebook --pre --quiet\n",
      "6 \"C:\\Users\\daveb\\OneDrive\\Documents\\GitHub\\job-hunting\\jh_env\\python.exe\" -m pip install notebook --pre --quiet\n",
      "10 \"C:\\Users\\daveb\\OneDrive\\Documents\\GitHub\\job-hunting\\jh_env\\Lib\\venv\\scripts\\nt\\python.exe\" -m pip install notebook --pre --quiet\n",
      "7 \"C:\\Users\\daveb\\OneDrive\\Documents\\GitHub\\openai-quickstart-python\\venv\\Scripts\\python.exe\" -m pip install notebook --pre --quiet\n",
      "6 \"C:\\Users\\daveb\\OneDrive\\Documents\\GitHub\\rpc\\rpc_env\\python.exe\" -m pip install notebook --pre --quiet\n",
      "6 \"C:\\Users\\daveb\\OneDrive\\Documents\\GitHub\\test\\tst\\python.exe\" -m pip install notebook --pre --quiet\n"
     ]
    }
   ],
   "source": [
    "\n",
    "import os\n",
    "import os.path as osp\n",
    "\n",
    "# root_dir = r'C:\\Users\\daveb\\OneDrive\\Documents\\GitHub'\n",
    "root_dir = 'C:\\\\'\n",
    "file_names_list = ['python-3.10.4-amd64.exe', 'python3.exe', 'python3.10.exe', 'python.exe']\n",
    "black_list = ['$RECYCLE.BIN', '$Recycle.Bin', '.git']\n",
    "for sub_directory, directories_list, files_list in os.walk(root_dir):\n",
    "    if all(map(lambda x: x not in sub_directory, black_list)):\n",
    "        full_sub_dir_path = os.path.join(root_dir, sub_directory)\n",
    "        if not osp.isdir(full_sub_dir_path): continue\n",
    "        \n",
    "        # Count the number of path separators (/ or \\) to determine depth\n",
    "        depth = full_sub_dir_path.count(os.path.sep) - root_dir.count(os.path.sep)\n",
    "        \n",
    "        # if (depth == 2):\n",
    "        for file_name in os.listdir(full_sub_dir_path):\n",
    "            if (file_name in file_names_list):\n",
    "                file_path = os.path.join(full_sub_dir_path, file_name)\n",
    "                command_str = f'\"{file_path}\" -m pip install notebook --pre --quiet'\n",
    "                print(depth, command_str)\n",
    "                # !{command_str}\n",
    "                "
   ]
  },
  {
   "cell_type": "code",
   "execution_count": null,
   "metadata": {},
   "outputs": [],
   "source": [
    "\n",
    "command_str = f'{sys.executable} -m spacy download en_core_web_sm'\n",
    "print(command_str)\n",
    "!{command_str}"
   ]
  },
  {
   "cell_type": "code",
   "execution_count": 6,
   "metadata": {},
   "outputs": [
    {
     "name": "stdout",
     "output_type": "stream",
     "text": [
      "C:\\Users\\daveb\\OneDrive\\Documents\\GitHub\\job-hunting\\jh_env\\python.exe -m spacy.load('en_core_web_sm')\n"
     ]
    },
    {
     "name": "stderr",
     "output_type": "stream",
     "text": [
      "C:\\Users\\daveb\\OneDrive\\Documents\\GitHub\\job-hunting\\jh_env\\python.exe: No module named spacy.load('en_core_web_sm')\n"
     ]
    }
   ],
   "source": [
    "\n",
    "command_str = f\"{sys.executable} -m spacy.load('en_core_web_sm')\"\n",
    "print(command_str)\n",
    "!{command_str}"
   ]
  },
  {
   "cell_type": "code",
   "execution_count": null,
   "metadata": {},
   "outputs": [],
   "source": [
    "\n",
    "from pathlib import Path\n",
    "\n",
    "root_dir = r'C:\\Users\\dev\\Documents\\Repositories\\job-hunting'\n",
    "for file_name in os.listdir(root_dir):\n",
    "    file_path = os.path.join(root_dir, file_name)\n",
    "    if Path(file_path).is_file():\n",
    "        print(f'!{file_name}')"
   ]
  },
  {
   "cell_type": "markdown",
   "metadata": {},
   "source": [
    "\n",
    "$$\n",
    "\n",
    "\\documentclass{article}\n",
    "\\usepackage{tikz}\n",
    "\n",
    "\\begin{document}\n",
    "\n",
    "\\begin{tikzpicture}\n",
    "  % Define nodes\n",
    "  \\node (start) [circle, draw] {Start};\n",
    "  \\node (middle) [rectangle, draw, below of=start] {Middle};\n",
    "  \\node (end) [circle, draw, below of=middle] {End};\n",
    "\n",
    "  % Define edges\n",
    "  \\draw [->] (start) -- (middle);\n",
    "  \\draw [->] (middle) -- (end);\n",
    "  \\draw [->] (start) -- (end);\n",
    "\\end{tikzpicture}\n",
    "\n",
    "\\end{document}\n",
    "\n",
    "$$"
   ]
  },
  {
   "cell_type": "markdown",
   "metadata": {},
   "source": [
    "\n",
    "To insert a mathematical formula we use the dollar symbol $, as follows:\n",
    "\n",
    "Euler's identity: $ e^{i \\pi} + 1 = 0 $\n",
    "\n",
    "To isolate and center the formulas and enter in math display mode, we use 2 dollars symbol:\n",
    "$$\n",
    "...\n",
    "$$\n",
    "\n",
    "\n",
    "Euler's identity: $$ e^{i \\pi} + 1 = 0 $$"
   ]
  },
  {
   "cell_type": "code",
   "execution_count": 7,
   "metadata": {},
   "outputs": [
    {
     "data": {
      "text/latex": [
       "$\\displaystyle \\usepackage{amsmath}\n",
       "\\usepackage{amssymb}\n",
       "\\usepackage{amsfonts}$"
      ],
      "text/plain": [
       "<IPython.core.display.Math object>"
      ]
     },
     "metadata": {},
     "output_type": "display_data"
    }
   ],
   "source": [
    "\n",
    "from IPython.display import display, Math\n",
    "display(Math('\\\\usepackage{amsmath}\\n\\\\usepackage{amssymb}\\n\\\\usepackage{amsfonts}'))"
   ]
  },
  {
   "cell_type": "code",
   "execution_count": 8,
   "metadata": {},
   "outputs": [
    {
     "data": {
      "text/latex": [
       "$\\displaystyle \\begin{tikzpicture}\\draw (0,0) rectangle (1,1);\\end{tikzpicture}$"
      ],
      "text/plain": [
       "<IPython.core.display.Math object>"
      ]
     },
     "metadata": {},
     "output_type": "display_data"
    }
   ],
   "source": [
    "\n",
    "from IPython.display import display, Math\n",
    "display(Math(r\"$$\\begin{tikzpicture}\\draw (0,0) rectangle (1,1);\\end{tikzpicture}$$\"))"
   ]
  },
  {
   "cell_type": "code",
   "execution_count": 9,
   "metadata": {},
   "outputs": [
    {
     "ename": "SyntaxError",
     "evalue": "unexpected character after line continuation character (3903676495.py, line 3)",
     "output_type": "error",
     "traceback": [
      "\u001b[1;36m  Cell \u001b[1;32mIn[9], line 3\u001b[1;36m\u001b[0m\n\u001b[1;33m    \\begin{axis}[\u001b[0m\n\u001b[1;37m     ^\u001b[0m\n\u001b[1;31mSyntaxError\u001b[0m\u001b[1;31m:\u001b[0m unexpected character after line continuation character\n"
     ]
    }
   ],
   "source": [
    "\n",
    "%load_ext tikzmagic\n",
    "%%tikz -p pgfplots -s 500,500\n",
    "\\begin{axis}[\n",
    "    xlabel=$x$,\n",
    "    ylabel={$f(x) = x^2 - x +4$}\n",
    "]\n",
    "\\addplot {x^2 - x +4};\n",
    "\\end{axis}"
   ]
  }
 ],
 "metadata": {
  "kernelspec": {
   "display_name": "Job Hunting (Python 3.10.9)",
   "language": "python",
   "name": "jh_env"
  },
  "language_info": {
   "codemirror_mode": {
    "name": "ipython",
    "version": 3
   },
   "file_extension": ".py",
   "mimetype": "text/x-python",
   "name": "python",
   "nbconvert_exporter": "python",
   "pygments_lexer": "ipython3",
   "version": "3.10.9"
  }
 },
 "nbformat": 4,
 "nbformat_minor": 4
}
