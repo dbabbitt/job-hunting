{
 "cells": [
  {
   "cell_type": "code",
   "execution_count": null,
   "metadata": {},
   "outputs": [],
   "source": [
    "\n",
    "import sys\n",
    "\n",
    "command_str = f'{sys.executable} -m pip uninstall mingw --yes'\n",
    "print(command_str)\n",
    "!{command_str}"
   ]
  },
  {
   "cell_type": "code",
   "execution_count": 2,
   "metadata": {},
   "outputs": [
    {
     "name": "stdout",
     "output_type": "stream",
     "text": [
      "C:\\ProgramData\\Anaconda3\\python.exe -m pip install --upgrade neo4j\n",
      "Collecting neo4j\n",
      "  Downloading neo4j-4.3.1.tar.gz (74 kB)\n",
      "Requirement already satisfied: pytz in c:\\programdata\\anaconda3\\lib\\site-packages (from neo4j) (2021.1)\n",
      "Building wheels for collected packages: neo4j\n",
      "  Building wheel for neo4j (setup.py): started\n",
      "  Building wheel for neo4j (setup.py): finished with status 'done'\n",
      "  Created wheel for neo4j: filename=neo4j-4.3.1-py3-none-any.whl size=99332 sha256=e53150d5441260a45b2c6f954758a39f73c16ebbb1d3a2a15dddaf2f987ea21f\n",
      "  Stored in directory: c:\\users\\davebabbitt\\appdata\\local\\pip\\cache\\wheels\\ca\\bf\\84\\9c2593d3ceb4bae93a1beb960133c5edeedf3df55e67aca54a\n",
      "Successfully built neo4j\n",
      "Installing collected packages: neo4j\n",
      "Successfully installed neo4j-4.3.1\n"
     ]
    }
   ],
   "source": [
    "# %load ../load_magic/pip_install.txt\n",
    "\n",
    "import sys\n",
    "\n",
    "# After this has completed, run these commands in a PowerShell window:\n",
    "# cd $Env:UserProfile\\Documents\\Repositories\\job-hunting\\ps1\n",
    "# clear\n",
    "# .\\create_job_hunting_temp_environment_yml_file.ps1\n",
    "command_str = f'{sys.executable} -m pip install --upgrade neo4j'\n",
    "print(command_str)\n",
    "!{command_str}"
   ]
  },
  {
   "cell_type": "code",
   "execution_count": null,
   "metadata": {},
   "outputs": [],
   "source": [
    "# %load ../load_magic/pip_install.txt\n",
    "\n",
    "import sys\n",
    "\n",
    "# After this has completed, run these commands in a PowerShell window:\n",
    "# cd $Env:UserProfile\\Documents\\Repositories\\job-hunting\\ps1\n",
    "# clear\n",
    "# .\\create_job_hunting_temp_environment_yml_file.ps1\n",
    "command_str = f'{sys.executable} -m pip install https://github.com/explosion/spacy-models/releases/download/en_core_web_sm-3.0.0/en_core_web_sm-3.0.0-py3-none-any.whl'\n",
    "print(command_str)\n",
    "!{command_str}"
   ]
  },
  {
   "cell_type": "code",
   "execution_count": 7,
   "metadata": {},
   "outputs": [
    {
     "name": "stdout",
     "output_type": "stream",
     "text": [
      "C:\\Users\\dev\\Documents\\Repositories\\job-hunting\\jh\\python.exe -m spacy.en.download\n"
     ]
    },
    {
     "name": "stderr",
     "output_type": "stream",
     "text": [
      "C:\\Users\\dev\\Documents\\Repositories\\job-hunting\\jh\\python.exe: Error while finding module specification for 'spacy.en.download' (ModuleNotFoundError: No module named 'spacy.en')\n"
     ]
    }
   ],
   "source": [
    "\n",
    "command_str = f'{sys.executable} -m spacy.en.download'\n",
    "print(command_str)\n",
    "!{command_str}"
   ]
  },
  {
   "cell_type": "code",
   "execution_count": null,
   "metadata": {},
   "outputs": [],
   "source": [
    "\n",
    "from pathlib import Path\n",
    "\n",
    "root_dir = r'C:\\Users\\dev\\Documents\\Repositories\\job-hunting'\n",
    "for file_name in os.listdir(root_dir):\n",
    "    file_path = os.path.join(root_dir, file_name)\n",
    "    if Path(file_path).is_file():\n",
    "        print(f'!{file_name}')"
   ]
  }
 ],
 "metadata": {
  "kernelspec": {
   "display_name": "Python 3",
   "language": "python",
   "name": "python3"
  },
  "language_info": {
   "codemirror_mode": {
    "name": "ipython",
    "version": 3
   },
   "file_extension": ".py",
   "mimetype": "text/x-python",
   "name": "python",
   "nbconvert_exporter": "python",
   "pygments_lexer": "ipython3",
   "version": "3.8.8"
  }
 },
 "nbformat": 4,
 "nbformat_minor": 4
}
