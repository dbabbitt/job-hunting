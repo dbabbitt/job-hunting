{
 "cells": [
  {
   "cell_type": "code",
   "execution_count": 1,
   "metadata": {},
   "outputs": [
    {
     "name": "stdout",
     "output_type": "stream",
     "text": [
      "Pretty printing has been turned OFF\n"
     ]
    }
   ],
   "source": [
    "\n",
    "%pprint"
   ]
  },
  {
   "cell_type": "code",
   "execution_count": 2,
   "metadata": {},
   "outputs": [],
   "source": [
    "\n",
    "%run ../py/html_analysis.py"
   ]
  },
  {
   "cell_type": "code",
   "execution_count": 3,
   "metadata": {},
   "outputs": [],
   "source": [
    "\n",
    "def update_child_strs_list_dictionary(child_strs_list_dict=None, basic_tags_dict=None):\n",
    "    if basic_tags_dict is None:\n",
    "        basic_tags_dict = s.load_object('basic_tags_dict')\n",
    "    if child_strs_list_dict is None:\n",
    "        files_list = os.listdir(SAVES_HTML_FOLDER)\n",
    "        child_strs_list_dict = {}\n",
    "        for file_name in files_list:\n",
    "            file_path = os.path.join(SAVES_HTML_FOLDER, file_name)\n",
    "            with open(file_path, 'r', encoding='utf-8') as f:\n",
    "                html_str = f.read()\n",
    "                job_soup = BeautifulSoup(html_str, 'lxml')\n",
    "                body_soup = job_soup.find_all(name='body')[0]\n",
    "                child_strs_list = get_navigable_children(body_soup, [])\n",
    "            if not len(child_strs_list):\n",
    "                os.remove(file_path)\n",
    "            child_strs_list = [child_str for child_str in child_strs_list if child_str not in basic_tags_dict]\n",
    "            child_strs_list_dict[file_name] = child_strs_list\n",
    "        \n",
    "        return child_strs_list_dict\n",
    "    \n",
    "    for file_name, child_strs_list in child_strs_list_dict.items():\n",
    "        child_strs_list = [child_str for child_str in child_strs_list if child_str not in basic_tags_dict]\n",
    "        if not len(child_strs_list):\n",
    "            child_strs_list = child_strs_list_dict.pop(file_name)\n",
    "            break\n",
    "        else:\n",
    "            child_strs_list_dict[file_name] = child_strs_list\n",
    "    \n",
    "    return child_strs_list_dict"
   ]
  },
  {
   "cell_type": "code",
   "execution_count": 36,
   "metadata": {},
   "outputs": [],
   "source": [
    "\n",
    "ZMQInteractiveShell_obj = get_ipython()\n",
    "BASIC_TAGS_DICT = s.load_object('BASIC_TAGS_DICT')\n",
    "def get_dictionary_code():\n",
    "    output_str = ''\n",
    "    BASIC_TAGS_DICT = s.load_object('BASIC_TAGS_DICT')\n",
    "    CHILD_STRS_LIST_DICT = s.load_object('CHILD_STRS_LIST_DICT')\n",
    "    child_strs_list_dict = update_child_strs_list_dictionary(CHILD_STRS_LIST_DICT, BASIC_TAGS_DICT)\n",
    "    s.store_objects(CHILD_STRS_LIST_DICT=child_strs_list_dict)\n",
    "    for file_name, child_strs_list in child_strs_list_dict.items():\n",
    "        for tag_str in child_strs_list:\n",
    "            output_str += '\\n'\n",
    "            if \"'\" in tag_str:\n",
    "                output_str += f'tag_str = \"{tag_str}\"\\n'\n",
    "            else:\n",
    "                output_str += f\"tag_str = '{tag_str}'\\n\"\n",
    "            output_str += 'BASIC_TAGS_DICT[tag_str] = False\\n'\n",
    "            output_str += 'print(len(BASIC_TAGS_DICT.keys()))\\ns.store_objects(BASIC_TAGS_DICT=BASIC_TAGS_DICT)'\n",
    "            break\n",
    "        break\n",
    "    \n",
    "    return output_str"
   ]
  },
  {
   "cell_type": "code",
   "execution_count": 23,
   "metadata": {},
   "outputs": [],
   "source": [
    "\n",
    "def store_unique_list(list_name, tag_str):\n",
    "    list_obj = s.load_object(list_name)\n",
    "    list_obj.append(tag_str)\n",
    "    list_obj = list(set(list_obj))\n",
    "    s.store_objects(**{list_name: list_obj})"
   ]
  },
  {
   "cell_type": "code",
   "execution_count": null,
   "metadata": {},
   "outputs": [],
   "source": [
    "\n",
    "ZMQInteractiveShell_obj.set_next_input(text=get_dictionary_code(), replace=True)"
   ]
  },
  {
   "cell_type": "markdown",
   "metadata": {},
   "source": [
    "\n",
    "----\n",
    "'TASK_SCOPE_HEADERS_LIST', 'REQ_QUALS_HEADERS_LIST', 'PREFF_QUALS_HEADERS_LIST', 'LEGAL_NOTIFS_HEADERS_LIST', 'JOB_TITLE_HEADERS_LIST', 'OFFICE_LOC_HEADERS_LIST', 'JOB_DURATION_HEADERS_LIST', 'SUPP_PAY_HEADERS_LIST', 'EDUC_REQS_HEADERS_LIST', 'INTERV_PROC_HEADERS_LIST', 'CORP_SCOPE_HEADERS_LIST', 'POST_DATE_HEADERS_LIST', 'OTHER_HEADERS_LIST'"
   ]
  },
  {
   "cell_type": "code",
   "execution_count": 298,
   "metadata": {},
   "outputs": [
    {
     "name": "stdout",
     "output_type": "stream",
     "text": [
      "Pickling to C:\\Users\\dev\\Documents\\Repositories\\job-hunting\\saves\\pickle\\EDUC_REQS_HEADERS_LIST.pickle\n"
     ]
    }
   ],
   "source": [
    "\n",
    "store_unique_list('EDUC_REQS_HEADERS_LIST', tag_str)"
   ]
  }
 ],
 "metadata": {
  "anaconda-cloud": {},
  "kernelspec": {
   "display_name": "Job Hunting (Python 3.9.0)",
   "language": "python",
   "name": "jh"
  },
  "language_info": {
   "codemirror_mode": {
    "name": "ipython",
    "version": 3
   },
   "file_extension": ".py",
   "mimetype": "text/x-python",
   "name": "python",
   "nbconvert_exporter": "python",
   "pygments_lexer": "ipython3",
   "version": "3.9.0"
  }
 },
 "nbformat": 4,
 "nbformat_minor": 4
}
