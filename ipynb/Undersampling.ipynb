{
 "cells": [
  {
   "cell_type": "code",
   "execution_count": null,
   "id": "386a373c-d41f-4d51-9839-c87dee8972f5",
   "metadata": {},
   "outputs": [],
   "source": []
  },
  {
   "cell_type": "code",
   "execution_count": 1,
   "id": "e2b36de5-c9e4-4369-8941-515d84819c13",
   "metadata": {},
   "outputs": [
    {
     "name": "stdout",
     "output_type": "stream",
     "text": [
      "Pretty printing has been turned OFF\n"
     ]
    }
   ],
   "source": [
    "\n",
    "%pprint"
   ]
  },
  {
   "cell_type": "markdown",
   "id": "b5448004-c571-4e87-9d45-0f65fd161ba2",
   "metadata": {
    "tags": []
   },
   "source": [
    "\n",
    "---\n",
    "# Load needed libraries and functions"
   ]
  },
  {
   "cell_type": "code",
   "execution_count": 2,
   "id": "b497deb2-3294-4483-ab4a-7558b72034da",
   "metadata": {},
   "outputs": [],
   "source": [
    "\n",
    "import sys\n",
    "\n",
    "# Insert at 1, 0 is the script path (or '' in REPL)\n",
    "sys.path.insert(1, '../py')"
   ]
  },
  {
   "cell_type": "code",
   "execution_count": 3,
   "id": "c8654c74-9afe-498c-89a0-9a6b6abf360e",
   "metadata": {},
   "outputs": [],
   "source": [
    "\n",
    "%matplotlib inline\n",
    "from datetime import datetime\n",
    "import humanize\n",
    "import matplotlib.pyplot as plt\n",
    "import time\n",
    "import winsound\n",
    "\n",
    "bin_count = 12\n",
    "duration = 1000  # milliseconds\n",
    "freq = 880  # Hz\n",
    "height_inches = 3.0\n",
    "width_inches = 18.0"
   ]
  },
  {
   "cell_type": "code",
   "execution_count": 4,
   "id": "5133ae95-8ead-4de7-895c-cd3181073545",
   "metadata": {},
   "outputs": [
    {
     "name": "stdout",
     "output_type": "stream",
     "text": [
      "Utility libraries created in 1 second\n",
      "Last run on 2023-02-15 12:35:56.192218\n"
     ]
    }
   ],
   "source": [
    "\n",
    "t0 = time.time()\n",
    "try:\n",
    "    \n",
    "    # Get the Neo4j driver\n",
    "    from storage import Storage\n",
    "    s = Storage()\n",
    "\n",
    "    from ha_utils import HeaderAnalysis\n",
    "    ha = HeaderAnalysis(s=s, verbose=False)\n",
    "\n",
    "    from scrape_utils import WebScrapingUtilities\n",
    "    wsu = WebScrapingUtilities(s=s)\n",
    "    uri = wsu.secrets_json['neo4j']['connect_url']\n",
    "    user =  wsu.secrets_json['neo4j']['username']\n",
    "    password = wsu.secrets_json['neo4j']['password']\n",
    "\n",
    "    from cypher_utils import CypherUtilities\n",
    "    cu = CypherUtilities(uri=uri, user=user, password=password, driver=None, s=s, ha=ha)\n",
    "    \n",
    "    import warnings\n",
    "    warnings.filterwarnings('ignore')\n",
    "except Exception as e:\n",
    "    print(f'{e.__class__}: {str(e).strip()}')\n",
    "duration_str = humanize.precisedelta(time.time() - t0, minimum_unit='seconds', format='%0.0f')\n",
    "# winsound.Beep(freq, duration)\n",
    "print(f'Utility libraries created in {duration_str}')\n",
    "print(f'Last run on {datetime.now()}')"
   ]
  },
  {
   "cell_type": "code",
   "execution_count": 11,
   "id": "0d519348-5976-4500-a4b8-ccb18fb6cb27",
   "metadata": {},
   "outputs": [
    {
     "name": "stdout",
     "output_type": "stream",
     "text": [
      "10635\n"
     ]
    },
    {
     "data": {
      "text/plain": [
       "pos_symbol\n",
       "O-RQ    3861\n",
       "O-PQ    1625\n",
       "O-TS    1190\n",
       "H-RQ    1065\n",
       "H-TS     408\n",
       "O-SP     389\n",
       "H-PQ     347\n",
       "H-CS     285\n",
       "O-CS     263\n",
       "O-IP     245\n",
       "H-SP     153\n",
       "H-O      106\n",
       "O-OL      96\n",
       "H-OL      84\n",
       "O-LN      80\n",
       "H-IP      77\n",
       "H-LN      61\n",
       "H-JT      61\n",
       "O-O       60\n",
       "O-JT      43\n",
       "O-ER      39\n",
       "O-JD      37\n",
       "H-JD      28\n",
       "H-ER      17\n",
       "O-PD       9\n",
       "H-PD       6\n",
       "dtype: int64"
      ]
     },
     "metadata": {},
     "output_type": "display_data"
    }
   ],
   "source": [
    "\n",
    "\n",
    "# Get each labeled POS symbol and balance the bottom sampling max of them\n",
    "import pandas as pd\n",
    "\n",
    "cypher_str = \"\"\"\n",
    "    MATCH (pos:PartsOfSpeech)-[r:SUMMARIZES]->(np:NavigableParents)\n",
    "    RETURN\n",
    "        np.navigable_parent AS navigable_parent, \n",
    "        pos.pos_symbol AS pos_symbol;\"\"\"\n",
    "pos_df = pd.DataFrame(cu.get_execution_results(cypher_str, verbose=False))\n",
    "print(pos_df.value_counts('pos_symbol').sum())\n",
    "display(pos_df.value_counts('pos_symbol'))"
   ]
  },
  {
   "cell_type": "code",
   "execution_count": 20,
   "id": "5091b1e0-6887-4f4c-a647-72b98fb11a24",
   "metadata": {},
   "outputs": [
    {
     "name": "stdout",
     "output_type": "stream",
     "text": [
      "50 1129\n"
     ]
    },
    {
     "data": {
      "text/plain": [
       "pos_symbol\n",
       "H-CS    50\n",
       "H-SP    50\n",
       "O-SP    50\n",
       "O-RQ    50\n",
       "O-PQ    50\n",
       "O-OL    50\n",
       "O-O     50\n",
       "O-LN    50\n",
       "O-IP    50\n",
       "H-TS    50\n",
       "O-CS    50\n",
       "H-RQ    50\n",
       "H-PQ    50\n",
       "H-OL    50\n",
       "H-O     50\n",
       "H-LN    50\n",
       "H-JT    50\n",
       "H-IP    50\n",
       "O-TS    50\n",
       "O-JT    43\n",
       "O-ER    39\n",
       "O-JD    37\n",
       "H-JD    28\n",
       "H-ER    17\n",
       "O-PD     9\n",
       "H-PD     6\n",
       "dtype: int64"
      ]
     },
     "metadata": {},
     "output_type": "display_data"
    }
   ],
   "source": [
    "\n",
    "from imblearn.under_sampling import RandomUnderSampler\n",
    "\n",
    "sampling_max = 50\n",
    "\n",
    "# Rebalance the data with a limiting sampling strategy\n",
    "counts_dict = pos_df.groupby('pos_symbol').count().navigable_parent.to_dict()\n",
    "sampling_strategy = {k: min(sampling_max, v) for k, v in counts_dict.items()}\n",
    "from imblearn.under_sampling import RandomUnderSampler\n",
    "rus = RandomUnderSampler(sampling_strategy=sampling_strategy)\n",
    "\n",
    "# Define the tuple of arrays\n",
    "data = rus.fit_resample(\n",
    "    pos_df.navigable_parent.values.reshape(-1, 1), pos_df.pos_symbol.values.reshape(-1, 1)\n",
    ")\n",
    "\n",
    "# Recreate the Pandas DataFrame\n",
    "pos_df = pd.DataFrame(data[0], columns=['navigable_parent'])\n",
    "pos_df['pos_symbol'] = data[1]\n",
    "\n",
    "print(sampling_max, pos_df.value_counts('pos_symbol').sum())\n",
    "display(pos_df.value_counts('pos_symbol'))"
   ]
  },
  {
   "cell_type": "code",
   "execution_count": 10,
   "id": "f57b2f5b-5203-4a25-a8ad-9cef35cd5da1",
   "metadata": {},
   "outputs": [
    {
     "data": {
      "text/plain": [
       "7154"
      ]
     },
     "execution_count": 10,
     "metadata": {},
     "output_type": "execute_result"
    }
   ],
   "source": []
  }
 ],
 "metadata": {
  "kernelspec": {
   "display_name": "Job Hunting (Python 3.10.9)",
   "language": "python",
   "name": "jh_env"
  },
  "language_info": {
   "codemirror_mode": {
    "name": "ipython",
    "version": 3
   },
   "file_extension": ".py",
   "mimetype": "text/x-python",
   "name": "python",
   "nbconvert_exporter": "python",
   "pygments_lexer": "ipython3",
   "version": "3.10.9"
  }
 },
 "nbformat": 4,
 "nbformat_minor": 5
}
