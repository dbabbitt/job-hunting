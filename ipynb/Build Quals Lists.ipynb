{
 "cells": [
  {
   "cell_type": "code",
   "execution_count": 1,
   "metadata": {},
   "outputs": [
    {
     "name": "stdout",
     "output_type": "stream",
     "text": [
      "Pretty printing has been turned OFF\n"
     ]
    }
   ],
   "source": [
    "\n",
    "%pprint"
   ]
  },
  {
   "cell_type": "code",
   "execution_count": 2,
   "metadata": {},
   "outputs": [
    {
     "name": "stdout",
     "output_type": "stream",
     "text": [
      "Pickling to C:\\Users\\dev\\Documents\\Repositories\\job-hunting\\saves\\pickle\\NAVIGABLE_PARENT_IS_QUAL_DICT.pickle\n"
     ]
    }
   ],
   "source": [
    "\n",
    "%run ../py/html_analysis.py\n",
    "ha = HeaderAnalysis()"
   ]
  },
  {
   "cell_type": "code",
   "execution_count": 3,
   "metadata": {},
   "outputs": [],
   "source": [
    "\n",
    "def update_child_strs_list_dictionary(child_strs_list_dict=None, navigable_parent_is_qual_dict=None):\n",
    "    if navigable_parent_is_qual_dict is None:\n",
    "        navigable_parent_is_qual_dict = ha.NAVIGABLE_PARENT_IS_QUAL_DICT\n",
    "    if child_strs_list_dict is None:\n",
    "        files_list = os.listdir(ha.SAVES_HTML_FOLDER)\n",
    "        child_strs_list_dict = {}\n",
    "        for file_name in files_list:\n",
    "            child_strs_list = ha.get_child_strs_from_file(file_name)\n",
    "            if not len(child_strs_list):\n",
    "                os.remove(file_path)\n",
    "            child_strs_list = [child_str for child_str in child_strs_list if child_str not in navigable_parent_is_qual_dict]\n",
    "            child_strs_list_dict[file_name] = child_strs_list\n",
    "        \n",
    "        return child_strs_list_dict\n",
    "    \n",
    "    for file_name, child_strs_list in child_strs_list_dict.items():\n",
    "        child_strs_list = [child_str for child_str in child_strs_list if child_str not in navigable_parent_is_qual_dict]\n",
    "        if not len(child_strs_list):\n",
    "            child_strs_list = child_strs_list_dict.pop(file_name)\n",
    "            break\n",
    "        else:\n",
    "            child_strs_list_dict[file_name] = child_strs_list\n",
    "    \n",
    "    return child_strs_list_dict"
   ]
  },
  {
   "cell_type": "code",
   "execution_count": 207,
   "metadata": {},
   "outputs": [],
   "source": [
    "\n",
    "ZMQInteractiveShell_obj = get_ipython()\n",
    "NAVIGABLE_PARENT_IS_QUAL_DICT = s.load_object('NAVIGABLE_PARENT_IS_QUAL_DICT')\n",
    "def get_dictionary_code():\n",
    "    output_str = ''\n",
    "    NAVIGABLE_PARENT_IS_QUAL_DICT = s.load_object('NAVIGABLE_PARENT_IS_QUAL_DICT')\n",
    "    REMAINING_QUALS_CHILD_STRS_LIST_DICT = None\n",
    "    if s.pickle_exists('REMAINING_QUALS_CHILD_STRS_LIST_DICT'):\n",
    "        REMAINING_QUALS_CHILD_STRS_LIST_DICT = s.load_object('REMAINING_QUALS_CHILD_STRS_LIST_DICT')\n",
    "    child_strs_list_dict = update_child_strs_list_dictionary(REMAINING_QUALS_CHILD_STRS_LIST_DICT, NAVIGABLE_PARENT_IS_QUAL_DICT)\n",
    "    s.store_objects(REMAINING_QUALS_CHILD_STRS_LIST_DICT=child_strs_list_dict)\n",
    "    for file_name, child_strs_list in child_strs_list_dict.items():\n",
    "        for tag_str in child_strs_list:\n",
    "            output_str += '\\n'\n",
    "            if \"'\" in tag_str:\n",
    "                output_str += f'tag_str = \"{tag_str}\"\\n'\n",
    "            else:\n",
    "                output_str += f\"tag_str = '{tag_str}'\\n\"\n",
    "            output_str += 'NAVIGABLE_PARENT_IS_QUAL_DICT[tag_str] = False\\n'\n",
    "            output_str += 'print(len(NAVIGABLE_PARENT_IS_QUAL_DICT.keys()))\\n'\n",
    "            output_str += 's.store_objects(NAVIGABLE_PARENT_IS_QUAL_DICT=NAVIGABLE_PARENT_IS_QUAL_DICT)'\n",
    "            break\n",
    "        break\n",
    "    \n",
    "    return output_str"
   ]
  },
  {
   "cell_type": "code",
   "execution_count": null,
   "metadata": {},
   "outputs": [],
   "source": [
    "\n",
    "ZMQInteractiveShell_obj.set_next_input(text=get_dictionary_code(), replace=True)"
   ]
  },
  {
   "cell_type": "markdown",
   "metadata": {},
   "source": [
    "\n",
    "----"
   ]
  },
  {
   "cell_type": "code",
   "execution_count": null,
   "metadata": {},
   "outputs": [],
   "source": []
  }
 ],
 "metadata": {
  "anaconda-cloud": {},
  "kernelspec": {
   "display_name": "Job Hunting (Python 3.9.0)",
   "language": "python",
   "name": "jh"
  },
  "language_info": {
   "codemirror_mode": {
    "name": "ipython",
    "version": 3
   },
   "file_extension": ".py",
   "mimetype": "text/x-python",
   "name": "python",
   "nbconvert_exporter": "python",
   "pygments_lexer": "ipython3",
   "version": "3.9.0"
  }
 },
 "nbformat": 4,
 "nbformat_minor": 4
}
