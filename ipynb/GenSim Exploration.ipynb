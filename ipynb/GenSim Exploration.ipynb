{
 "cells": [
  {
   "cell_type": "code",
   "execution_count": null,
   "metadata": {},
   "outputs": [],
   "source": []
  },
  {
   "cell_type": "code",
   "execution_count": 1,
   "metadata": {},
   "outputs": [
    {
     "name": "stdout",
     "output_type": "stream",
     "text": [
      "Pretty printing has been turned OFF\n"
     ]
    }
   ],
   "source": [
    "\n",
    "%pprint"
   ]
  },
  {
   "cell_type": "code",
   "execution_count": 2,
   "metadata": {},
   "outputs": [
    {
     "data": {
      "text/plain": [
       "['s.attempt_to_pickle', 's.data_csv_folder', 's.data_folder', 's.encoding_type', 's.load_csv', 's.load_dataframes', 's.load_object', 's.save_dataframes', 's.saves_csv_folder', 's.saves_folder', 's.saves_pickle_folder', 's.store_objects']"
      ]
     },
     "execution_count": 2,
     "metadata": {},
     "output_type": "execute_result"
    }
   ],
   "source": [
    "\n",
    "%run ../load_magic/storage.py\n",
    "s = Storage()\n",
    "[f's.{fn}' for fn in dir(s) if not fn.startswith('_')]"
   ]
  },
  {
   "cell_type": "code",
   "execution_count": 5,
   "metadata": {},
   "outputs": [
    {
     "data": {
      "text/plain": [
       "['gensim.models.Word2Vec', 'gensim.models.word2vec', 'gensim.models.word2vec_corpusfile', 'gensim.models.word2vec_inner']"
      ]
     },
     "execution_count": 5,
     "metadata": {},
     "output_type": "execute_result"
    }
   ],
   "source": [
    "\n",
    "import gensim\n",
    "\n",
    "[f'gensim.models.{fn}' for fn in dir(gensim.models) if 'word2vec' in fn.lower()]"
   ]
  },
  {
   "cell_type": "code",
   "execution_count": 150,
   "metadata": {},
   "outputs": [],
   "source": [
    "\n",
    "%run ../py/html_analysis.py"
   ]
  },
  {
   "cell_type": "code",
   "execution_count": null,
   "metadata": {},
   "outputs": [],
   "source": [
    "\n",
    "print([f'child_str_model.{fn}' for fn in dir(child_str_model) if not fn.startswith('_')])\n",
    "print([f'child_str_model.wv.{fn}' for fn in dir(child_str_model.wv) if not fn.startswith('_')])"
   ]
  },
  {
   "cell_type": "code",
   "execution_count": 92,
   "metadata": {},
   "outputs": [],
   "source": [
    "\n",
    "import warnings\n",
    "\n",
    "warnings.filterwarnings('ignore')"
   ]
  },
  {
   "cell_type": "code",
   "execution_count": 91,
   "metadata": {},
   "outputs": [],
   "source": [
    "# %load ../load_magic/get_dir_tree.txt\n",
    "\n",
    "def get_dir_tree(module_name, max_levels=2, contains_str=None):\n",
    "    if max_levels < 1:\n",
    "        return None\n",
    "    base_eval_str = f\"['{module_name}.{{}}'.format(fn) for fn in dir({module_name}) if not fn.startswith('_')]\"\n",
    "    if contains_str is None:\n",
    "        eval_str = base_eval_str\n",
    "    else:\n",
    "        eval_str = f\"['{module_name}.{{}}'.format(fn) for fn in dir({module_name}) if '{contains_str.lower()}' in fn.lower()]\"\n",
    "    try:\n",
    "        dir_list = eval(eval_str)\n",
    "        if len(dir_list):\n",
    "            print()\n",
    "            print(module_name)\n",
    "            print(dir_list)\n",
    "    except Exception as e:\n",
    "        print(f'The evaluated list {eval_str} gets this error: {str(e).strip()}')\n",
    "    try:\n",
    "        base_dir_list = eval(base_eval_str)\n",
    "        if len(base_dir_list):\n",
    "            for base_module_name in base_dir_list:\n",
    "                get_dir_tree(base_module_name, max_levels=max_levels-1, contains_str=contains_str)\n",
    "    except:\n",
    "        return None"
   ]
  },
  {
   "cell_type": "code",
   "execution_count": 105,
   "metadata": {},
   "outputs": [
    {
     "name": "stdout",
     "output_type": "stream",
     "text": [
      "\n",
      "gensim.models.FastText\n",
      "OrderedDict([('sentences', <Parameter \"sentences=None\">), ('corpus_file', <Parameter \"corpus_file=None\">), ('sg', <Parameter \"sg=0\">), ('hs', <Parameter \"hs=0\">), ('size', <Parameter \"size=100\">), ('alpha', <Parameter \"alpha=0.025\">), ('window', <Parameter \"window=5\">), ('min_count', <Parameter \"min_count=5\">), ('max_vocab_size', <Parameter \"max_vocab_size=None\">), ('word_ngrams', <Parameter \"word_ngrams=1\">), ('sample', <Parameter \"sample=0.001\">), ('seed', <Parameter \"seed=1\">), ('workers', <Parameter \"workers=3\">), ('min_alpha', <Parameter \"min_alpha=0.0001\">), ('negative', <Parameter \"negative=5\">), ('ns_exponent', <Parameter \"ns_exponent=0.75\">), ('cbow_mean', <Parameter \"cbow_mean=1\">), ('hashfxn', <Parameter \"hashfxn=<built-in function hash>\">), ('iter', <Parameter \"iter=5\">), ('null_word', <Parameter \"null_word=0\">), ('min_n', <Parameter \"min_n=3\">), ('max_n', <Parameter \"max_n=6\">), ('sorted_vocab', <Parameter \"sorted_vocab=1\">), ('bucket', <Parameter \"bucket=2000000\">), ('trim_rule', <Parameter \"trim_rule=None\">), ('batch_words', <Parameter \"batch_words=10000\">), ('callbacks', <Parameter \"callbacks=()\">), ('compatible_hash', <Parameter \"compatible_hash=True\">)])\n",
      "\n",
      "gensim.models.Phrases\n",
      "OrderedDict([('sentences', <Parameter \"sentences=None\">), ('min_count', <Parameter \"min_count=5\">), ('threshold', <Parameter \"threshold=10.0\">), ('max_vocab_size', <Parameter \"max_vocab_size=40000000\">), ('delimiter', <Parameter \"delimiter=b'_'\">), ('progress_per', <Parameter \"progress_per=10000\">), ('scoring', <Parameter \"scoring='default'\">), ('common_terms', <Parameter \"common_terms=frozenset()\">)])\n",
      "\n",
      "gensim.models.Word2Vec\n",
      "OrderedDict([('sentences', <Parameter \"sentences=None\">), ('corpus_file', <Parameter \"corpus_file=None\">), ('size', <Parameter \"size=100\">), ('alpha', <Parameter \"alpha=0.025\">), ('window', <Parameter \"window=5\">), ('min_count', <Parameter \"min_count=5\">), ('max_vocab_size', <Parameter \"max_vocab_size=None\">), ('sample', <Parameter \"sample=0.001\">), ('seed', <Parameter \"seed=1\">), ('workers', <Parameter \"workers=3\">), ('min_alpha', <Parameter \"min_alpha=0.0001\">), ('sg', <Parameter \"sg=0\">), ('hs', <Parameter \"hs=0\">), ('negative', <Parameter \"negative=5\">), ('ns_exponent', <Parameter \"ns_exponent=0.75\">), ('cbow_mean', <Parameter \"cbow_mean=1\">), ('hashfxn', <Parameter \"hashfxn=<built-in function hash>\">), ('iter', <Parameter \"iter=5\">), ('null_word', <Parameter \"null_word=0\">), ('trim_rule', <Parameter \"trim_rule=None\">), ('sorted_vocab', <Parameter \"sorted_vocab=1\">), ('batch_words', <Parameter \"batch_words=10000\">), ('compute_loss', <Parameter \"compute_loss=False\">), ('callbacks', <Parameter \"callbacks=()\">), ('max_final_vocab', <Parameter \"max_final_vocab=None\">)])\n"
     ]
    }
   ],
   "source": [
    "\n",
    "from inspect import signature\n",
    "\n",
    "module_name = 'gensim.models'\n",
    "base_eval_str = f\"['{module_name}.{{}}'.format(fn) for fn in dir({module_name}) if not fn.startswith('_')]\"\n",
    "base_dir_list = eval(base_eval_str)\n",
    "for model_name in base_dir_list:\n",
    "    sig_eval_str = f'signature({model_name})'\n",
    "    try:\n",
    "        sig = eval(sig_eval_str)\n",
    "        params = sig.parameters\n",
    "        if(list(params.keys())[0].strip() == 'sentences'):\n",
    "            print()\n",
    "            print(model_name)\n",
    "            print(params)\n",
    "    except Exception as e:\n",
    "        #print(f'The evaluated list {sig_eval_str} gets this error: {str(e).strip()}')\n",
    "        pass"
   ]
  },
  {
   "cell_type": "code",
   "execution_count": 162,
   "metadata": {},
   "outputs": [
    {
     "name": "stdout",
     "output_type": "stream",
     "text": [
      "182\n"
     ]
    }
   ],
   "source": [
    "\n",
    "BASIC_TAGS_DICT = s.load_object('BASIC_TAGS_DICT')\n",
    "print(len(BASIC_TAGS_DICT.keys()))\n",
    "rows_list = [{'navigable_parent': navigable_parent, 'is_header': is_header} for navigable_parent, is_header in BASIC_TAGS_DICT.items()]\n",
    "child_str_df = pd.DataFrame(rows_list)\n",
    "tokenized_sents_list = [regex_tokenizer(sent_str) for sent_str in child_str_df.navigable_parent.tolist()]\n",
    "child_str_model = gensim.models.FastText(tokenized_sents_list)"
   ]
  },
  {
   "cell_type": "code",
   "execution_count": 107,
   "metadata": {},
   "outputs": [
    {
     "name": "stdout",
     "output_type": "stream",
     "text": [
      "\n",
      "child_str_model\n",
      "['child_str_model._save_specials', 'child_str_model._smart_save', 'child_str_model.save']\n",
      "The evaluated list ['child_str_model.syn1.{}'.format(fn) for fn in dir(child_str_model.syn1) if 'save' in fn.lower()] gets this error: 'FastTextTrainables' object has no attribute 'syn1'\n",
      "\n",
      "child_str_model.trainables\n",
      "['child_str_model.trainables._save_specials', 'child_str_model.trainables._smart_save', 'child_str_model.trainables.save']\n",
      "\n",
      "child_str_model.vocabulary\n",
      "['child_str_model.vocabulary._save_specials', 'child_str_model.vocabulary._smart_save', 'child_str_model.vocabulary.save']\n",
      "\n",
      "child_str_model.wv\n",
      "['child_str_model.wv._save_specials', 'child_str_model.wv._smart_save', 'child_str_model.wv.save', 'child_str_model.wv.save_word2vec_format']\n",
      "\n",
      "child_str_model.wv.wv\n",
      "['child_str_model.wv.wv._save_specials', 'child_str_model.wv.wv._smart_save', 'child_str_model.wv.wv.save', 'child_str_model.wv.wv.save_word2vec_format']\n"
     ]
    }
   ],
   "source": [
    "\n",
    "get_dir_tree('child_str_model', max_levels=3, contains_str='save')"
   ]
  },
  {
   "cell_type": "code",
   "execution_count": 152,
   "metadata": {},
   "outputs": [],
   "source": [
    "\n",
    "model_folder = os.path.join(s.data_folder, 'bin')\n",
    "os.makedirs(name=model_folder, exist_ok=True)\n",
    "file_path = os.path.join(model_folder, 'child_str_model.bin')\n",
    "child_str_model.save(file_path)"
   ]
  },
  {
   "cell_type": "code",
   "execution_count": null,
   "metadata": {},
   "outputs": [],
   "source": [
    "\n",
    "get_dir_tree('gensim', max_levels=3, contains_str='load')"
   ]
  },
  {
   "cell_type": "code",
   "execution_count": 153,
   "metadata": {},
   "outputs": [],
   "source": [
    "\n",
    "file_path = os.path.join(model_folder, 'child_str_model.bin')\n",
    "try:\n",
    "    model = gensim.models.FastText.load(file_path)\n",
    "except Exception as e:\n",
    "    print(str(e).strip())"
   ]
  },
  {
   "cell_type": "code",
   "execution_count": 154,
   "metadata": {},
   "outputs": [
    {
     "name": "stdout",
     "output_type": "stream",
     "text": [
      "['<div', 'you', 'by', 'data', 'Yelp', 'of', 'and', 'business', 'all', 'are', '.', 'is', 'work', 'to', 's', 'through', 'research', 'analysis', 'the', 'ideas', 'or', 'predictive', 'models', 'in', 'including', 'pricing', 'learning', '</div', 'our', ':', 'we', 're', 'a', 'team', 'that', 'solutions', 'problems', 'We', 'their', 'your', 'will', 'with', 'as', 'environment', '<b', 'You', '</b', '<li', '</li', 'development', 'product', 'other', 'technical', 'non', 'on', 'Python', 'Experience', 'etc', 'modeling', 'machine', 'A', 'for', 'be', 'an', 'experience', 'The', 'knowledge', '<i', '</i', 'at', '<p', 'one', 'time', '</p', 'techniques', '10', 'years', 'insurance', 'Preferred', 'Work', 'identify', 'complex', 'Liberty', 'Mutual', 'help', 'well', 'have', 'science', 'products']\n"
     ]
    }
   ],
   "source": [
    "\n",
    "words = list(model.wv.vocab)\n",
    "print(words)"
   ]
  },
  {
   "cell_type": "code",
   "execution_count": 155,
   "metadata": {},
   "outputs": [
    {
     "name": "stdout",
     "output_type": "stream",
     "text": [
      "[ 2.7203190e-03 -5.3446786e-04  2.7605859e-03  2.5393346e-03\n",
      " -2.7105988e-03  1.3577512e-03  2.2339833e-03  3.5515247e-04\n",
      " -1.4417348e-03 -3.9453055e-03 -1.4255015e-03  2.8319384e-03\n",
      "  2.2162274e-03 -1.6421817e-04 -3.8439913e-03 -5.0404854e-03\n",
      " -4.4764923e-03  2.8845857e-04 -1.3423584e-04  2.2251159e-03\n",
      "  8.6789578e-04 -1.7044983e-03 -1.3835243e-03 -9.4268828e-05\n",
      "  2.6131603e-03 -1.8224508e-03  1.8014602e-03  1.9377664e-03\n",
      "  2.2692992e-03  2.4037019e-03  2.2157296e-03 -4.8914959e-04\n",
      "  2.1294956e-05  1.9669104e-03 -4.6339579e-04  8.7252544e-04\n",
      "  7.9120445e-04 -3.2163996e-03  1.8571998e-03  2.9487435e-05\n",
      " -4.3141309e-04 -3.3927166e-03  3.8673135e-03 -4.9727090e-04\n",
      " -1.0968887e-03 -3.8052357e-03 -8.3846692e-04 -3.0222847e-03\n",
      "  1.6846148e-03  1.1859043e-03 -3.9928904e-04  1.0026739e-03\n",
      "  3.0033384e-04 -4.5294194e-03 -7.8115362e-04  2.6250638e-03\n",
      "  1.8748888e-05  8.2744705e-04  1.5854567e-03  9.9403656e-04\n",
      "  1.4195583e-03  1.8555402e-03  4.0462073e-03  2.0374621e-03\n",
      "  8.9561276e-04  6.2123253e-03 -3.8013194e-04  2.3723033e-03\n",
      "  1.3461552e-03 -7.1508111e-04 -4.8158159e-03 -2.3212354e-03\n",
      " -1.1372644e-03  1.3515018e-03 -2.1573803e-03  3.7013437e-04\n",
      " -4.5101982e-04 -7.7612662e-05  4.1301134e-03  1.4913852e-03\n",
      "  1.5394854e-03  9.9327031e-04  1.1594292e-03  9.5014286e-04\n",
      "  3.1642232e-03 -8.4167579e-04  4.6526450e-03 -4.8325543e-04\n",
      " -1.3956127e-03  8.9335686e-04  1.1546656e-03  3.5273703e-04\n",
      "  5.6711916e-04  4.0895478e-03 -2.7902910e-04 -1.0556541e-03\n",
      " -5.9473524e-03 -2.3434404e-03 -9.3382195e-04  2.8754130e-03]\n"
     ]
    }
   ],
   "source": [
    "\n",
    "print(model['</b'])"
   ]
  },
  {
   "cell_type": "code",
   "execution_count": 156,
   "metadata": {},
   "outputs": [
    {
     "data": {
      "image/png": "[encoded data removed]",
      "text/plain": [
       "<Figure size 432x288 with 1 Axes>"
      ]
     },
     "metadata": {
      "needs_background": "light"
     },
     "output_type": "display_data"
    }
   ],
   "source": [
    "\n",
    "from sklearn.decomposition import PCA\n",
    "import matplotlib.pyplot as plt\n",
    "\n",
    "X = model[model.wv.vocab]\n",
    "pca = PCA(n_components=2)\n",
    "result = pca.fit_transform(X)\n",
    "PathCollection_obj = plt.scatter(result[:, 0], result[:, 1])\n",
    "for i, word in enumerate(model.wv.vocab):\n",
    "    plt.annotate(word, xy=(result[i, 0], result[i, 1]))"
   ]
  },
  {
   "cell_type": "code",
   "execution_count": 158,
   "metadata": {},
   "outputs": [
    {
     "data": {
      "image/png": "[encoded data removed]",
      "text/plain": [
       "<Figure size 1296x576 with 1 Axes>"
      ]
     },
     "metadata": {
      "needs_background": "light"
     },
     "output_type": "display_data"
    }
   ],
   "source": [
    "\n",
    "fig, ax = plt.subplots(figsize=(18, 8))\n",
    "array_list = []\n",
    "colors_list = ['g' if is_header else 'r' for is_header in child_str_df.is_header]\n",
    "for i, words_list in enumerate(sents_list):\n",
    "    vector_str = \"'] + model['\".join(words_list)\n",
    "    command_str = f\"model['{vector_str}']\"\n",
    "    array_list.append(eval(command_str))\n",
    "X = np.stack(array_list)\n",
    "result = pca.fit_transform(X)\n",
    "PathCollection_obj = plt.scatter(result[:, 0], result[:, 1], c=colors_list)\n",
    "for i, words_list in enumerate(sents_list):\n",
    "    if(colors_list[i] == 'g'):\n",
    "        sent = ' '.join([word for word in words_list[:3]])\n",
    "        plt.annotate(sent, xy=(result[i, 0], result[i, 1]))"
   ]
  },
  {
   "cell_type": "code",
   "execution_count": 159,
   "metadata": {},
   "outputs": [
    {
     "data": {
      "text/plain": [
       "array([ 4.9722139e-03, -2.5563492e-03,  3.2361266e-03,  1.0087268e-02,\n",
       "        3.7467445e-03,  1.2003600e-03, -3.9688637e-03, -7.6739345e-04,\n",
       "       -6.1949538e-03, -5.7836585e-03, -1.9951670e-03,  3.1307545e-03,\n",
       "       -3.2120459e-03, -2.4996663e-03, -2.7586478e-03, -4.3330081e-03,\n",
       "       -2.7348953e-03,  1.1146199e-03,  2.8327154e-04,  5.5341627e-03,\n",
       "        7.9473376e-04, -1.3953743e-03, -2.4549142e-03,  1.2831402e-04,\n",
       "        1.3039189e-03, -7.7126818e-03,  2.6818840e-03,  3.8772300e-03,\n",
       "        1.3428319e-03,  4.0687290e-03,  3.5975797e-03, -3.8653477e-03,\n",
       "        2.4297121e-03, -2.9469738e-03, -1.3864629e-03,  3.0372145e-03,\n",
       "        5.0609484e-03, -2.2168485e-03,  6.5672444e-03,  5.5237691e-04,\n",
       "        1.8459028e-03,  1.6958581e-03,  8.4716016e-03, -1.2514277e-04,\n",
       "       -4.3546082e-05,  1.6238240e-03, -2.0329885e-03, -2.0718505e-04,\n",
       "        2.1554597e-03, -1.1351004e-03, -1.0548622e-04,  5.5204285e-04,\n",
       "       -8.8604470e-04, -2.7435534e-03, -8.4373320e-04,  4.9042241e-03,\n",
       "        3.2209241e-04,  1.5567051e-03,  7.2261677e-03, -4.9475264e-03,\n",
       "        3.9329459e-03,  2.9694149e-03,  1.8595005e-03,  2.4793840e-03,\n",
       "       -3.4599965e-03,  1.0185072e-02, -2.1200622e-03,  3.4260368e-03,\n",
       "        6.1037223e-04, -3.3391232e-04, -1.7293121e-03, -3.8977549e-04,\n",
       "       -1.3188275e-03,  5.0790852e-04, -8.5828509e-03, -4.0248875e-04,\n",
       "        3.8545376e-03, -2.4501649e-03,  3.4658806e-03,  1.5983763e-03,\n",
       "        1.0847572e-02, -1.4436167e-03,  1.0707072e-03,  2.9585348e-03,\n",
       "        6.0987743e-03,  1.5320298e-03,  8.8459831e-03, -3.6421297e-03,\n",
       "       -9.7334653e-04,  2.6018140e-03,  6.6380268e-03,  5.4952991e-03,\n",
       "       -1.7017131e-03,  1.8201377e-03, -3.3023125e-03,  1.0718200e-03,\n",
       "       -8.1842989e-03,  6.9377734e-04, -3.0395394e-04,  6.0800994e-03],\n",
       "      dtype=float32)"
      ]
     },
     "execution_count": 159,
     "metadata": {},
     "output_type": "execute_result"
    }
   ],
   "source": [
    "\n",
    "model['<b'] + model['</b']"
   ]
  },
  {
   "cell_type": "markdown",
   "metadata": {},
   "source": [
    "\n",
    "----"
   ]
  },
  {
   "cell_type": "code",
   "execution_count": 165,
   "metadata": {},
   "outputs": [],
   "source": [
    "\n",
    "from gensim.corpora.dictionary import Dictionary\n",
    "\n",
    "# Create a corpus from a list of texts\n",
    "headers_dictionary = Dictionary(tokenized_sents_list)\n",
    "headers_corpus = [headers_dictionary.doc2bow(tag_str) for tag_str in tokenized_sents_list]"
   ]
  },
  {
   "cell_type": "code",
   "execution_count": 166,
   "metadata": {},
   "outputs": [],
   "source": [
    "\n",
    "# Train the model on the corpus\n",
    "lda = gensim.models.ldamodel.LdaModel(corpus=headers_corpus, num_topics=2)"
   ]
  },
  {
   "cell_type": "code",
   "execution_count": 168,
   "metadata": {},
   "outputs": [],
   "source": [
    "\n",
    "# Save model to disk\n",
    "model_folder = os.path.join(s.data_folder, 'lda')\n",
    "os.makedirs(name=model_folder, exist_ok=True)\n",
    "file_path = os.path.join(model_folder, 'child_str_model.lda')\n",
    "lda.save(file_path)"
   ]
  },
  {
   "cell_type": "code",
   "execution_count": 169,
   "metadata": {},
   "outputs": [],
   "source": [
    "\n",
    "# Load a potentially pretrained model from disk\n",
    "lda = gensim.models.ldamodel.LdaModel.load(file_path)"
   ]
  },
  {
   "cell_type": "code",
   "execution_count": 171,
   "metadata": {},
   "outputs": [
    {
     "data": {
      "text/plain": [
       "['<b', 'Required', 'Qualifications', ':', '</b']"
      ]
     },
     "execution_count": 171,
     "metadata": {},
     "output_type": "execute_result"
    }
   ],
   "source": [
    "\n",
    "regex_tokenizer('<b>Required Qualifications:</b>')"
   ]
  },
  {
   "cell_type": "markdown",
   "metadata": {},
   "source": [
    "\n",
    "----"
   ]
  },
  {
   "cell_type": "code",
   "execution_count": 194,
   "metadata": {},
   "outputs": [],
   "source": [
    "\n",
    "%run .../py/html_analysis.py"
   ]
  },
  {
   "cell_type": "code",
   "execution_count": 196,
   "metadata": {},
   "outputs": [
    {
     "data": {
      "text/plain": [
       "['TransformedCorpus_obj.chunksize', 'TransformedCorpus_obj.corpus', 'TransformedCorpus_obj.load', 'TransformedCorpus_obj.metadata', 'TransformedCorpus_obj.obj', 'TransformedCorpus_obj.save', 'TransformedCorpus_obj.save_corpus']"
      ]
     },
     "execution_count": 196,
     "metadata": {},
     "output_type": "execute_result"
    }
   ],
   "source": [
    "\n",
    "# Create a new corpus, made of previously unseen documents\n",
    "other_texts = [\n",
    "    ['<li', 'MS', 'or', 'PhD', 'in', 'Applied', 'Mathematics', 'Physics', 'Computer', 'Science', 'Statistics', 'or', 'related',\n",
    "     'technical', 'field', '.', '</li'],\n",
    "    ['<b', 'Required', 'Qualifications', ':', '</b']\n",
    "]\n",
    "other_corpus = [headers_dictionary.doc2bow(text) for text in other_texts]\n",
    "TransformedCorpus_obj = lda[other_corpus]\n",
    "[f'TransformedCorpus_obj.{fn}' for fn in dir(TransformedCorpus_obj) if not fn.startswith('_')]"
   ]
  },
  {
   "cell_type": "code",
   "execution_count": 224,
   "metadata": {},
   "outputs": [],
   "source": [
    "\n",
    "from sklearn.feature_extraction.text import CountVectorizer\n",
    "from sklearn.linear_model import LogisticRegression\n",
    "from sklearn.feature_extraction.text import TfidfTransformer\n",
    "\n",
    "# Re-transform the bag-of-words and tf-idf from the new manual scores\n",
    "BASIC_TAGS_DICT = s.load_object('BASIC_TAGS_DICT')\n",
    "rows_list = [{'navigable_parent': navigable_parent,\n",
    "              'is_header': is_header} for navigable_parent, is_header in BASIC_TAGS_DICT.items()]\n",
    "child_str_df = pd.DataFrame(rows_list)\n",
    "sents_list = child_str_df.navigable_parent.tolist()\n",
    "\n",
    "# Re-calibrate the inference engine\n",
    "tt = TfidfTransformer(**{'norm': 'l1', 'smooth_idf': True, 'sublinear_tf': False, 'use_idf': True})\n",
    "cv = CountVectorizer(**{'analyzer': 'word', 'binary': False, 'decode_error': 'strict', 'lowercase': False, 'max_df': 1.0,\n",
    "                        'max_features': None, 'min_df': 0.0, 'ngram_range': (1, 5), 'stop_words': None, 'strip_accents': 'ascii',\n",
    "                        'tokenizer': regex_tokenizer})\n",
    "bow_matrix = cv.fit_transform(sents_list)\n",
    "tfidf_matrix = tt.fit_transform(bow_matrix)\n",
    "X = tfidf_matrix.toarray()\n",
    "y = child_str_df.is_header.to_numpy()\n",
    "child_str_clf = LogisticRegression(**{'C': 375.0, 'class_weight': 'balanced', 'dual': False, 'fit_intercept': True, 'max_iter': 4,\n",
    "                                      'penalty': 'l1', 'solver': 'liblinear', 'tol': 7e-07})\n",
    "child_str_clf.fit(X, y)\n",
    "CS_TT = s.load_object('CS_TT')\n",
    "cs_cv_vocab = s.load_object('cs_cv_vocab')\n",
    "CS_CV = CountVectorizer(vocabulary=cs_cv_vocab)\n",
    "CS_CV._validate_vocabulary()\n",
    "CLF_NAME = 'LogisticRegression'"
   ]
  },
  {
   "cell_type": "code",
   "execution_count": 227,
   "metadata": {},
   "outputs": [
    {
     "name": "stdout",
     "output_type": "stream",
     "text": [
      "\n",
      "LDA: 0.65, LR: 0.13, Text: <p>Job Requirements:</p>...\n"
     ]
    },
    {
     "data": {
      "text/html": [
       "<p>Job Requirements:</p>"
      ],
      "text/plain": [
       "<IPython.core.display.HTML object>"
      ]
     },
     "metadata": {},
     "output_type": "display_data"
    },
    {
     "name": "stdout",
     "output_type": "stream",
     "text": [
      "\n",
      "LDA: 0.64, LR: 0.0, Text: <li>Conduct work in accordance with company standa...\n"
     ]
    },
    {
     "data": {
      "text/html": [
       "<li>Conduct work in accordance with company standard operating procedures (SOPs), company QA/QC policies, client-specific requirements and applicable regulatory guidelines.</li>"
      ],
      "text/plain": [
       "<IPython.core.display.HTML object>"
      ]
     },
     "metadata": {},
     "output_type": "display_data"
    },
    {
     "name": "stdout",
     "output_type": "stream",
     "text": [
      "\n",
      "LDA: 0.79, LR: 0.0, Text: <li>Assist clients by providing analytical strateg...\n"
     ]
    },
    {
     "data": {
      "text/html": [
       "<li>Assist clients by providing analytical strategies in major therapeutic areas and diseases.</li>"
      ],
      "text/plain": [
       "<IPython.core.display.HTML object>"
      ]
     },
     "metadata": {},
     "output_type": "display_data"
    },
    {
     "name": "stdout",
     "output_type": "stream",
     "text": [
      "\n",
      "LDA: 0.93, LR: 0.0, Text: <li>Independent project development, including but...\n"
     ]
    },
    {
     "data": {
      "text/html": [
       "<li>Independent project development, including but not limited to, ascertainment of client needs, recommendations on statistical methodology, and authoring Statistical Analysis Plans (SAPs).</li>"
      ],
      "text/plain": [
       "<IPython.core.display.HTML object>"
      ]
     },
     "metadata": {},
     "output_type": "display_data"
    },
    {
     "name": "stdout",
     "output_type": "stream",
     "text": [
      "\n",
      "LDA: 0.62, LR: 0.0, Text: <li>Evaluate and incorporate latest analytical app...\n"
     ]
    },
    {
     "data": {
      "text/html": [
       "<li>Evaluate and incorporate latest analytical approaches (e.g. dimension reduction, machine learning, predictive analytics) addressing precision medicine questions in an industry environment.</li>"
      ],
      "text/plain": [
       "<IPython.core.display.HTML object>"
      ]
     },
     "metadata": {},
     "output_type": "display_data"
    },
    {
     "name": "stdout",
     "output_type": "stream",
     "text": [
      "\n",
      "LDA: 0.03, LR: 0.0, Text: <li>Provide quality control and analysis of a wide...\n",
      "\n",
      "LDA: 0.08, LR: 0.0, Text: <li>Perform statistical programming in R, SAS, and...\n",
      "\n",
      "LDA: 0.33, LR: 0.0, Text: <li>Interpret findings with scientific and busines...\n",
      "\n",
      "LDA: 0.86, LR: 0.0, Text: <li>Attend on site client visits and present findi...\n"
     ]
    },
    {
     "data": {
      "text/html": [
       "<li>Attend on site client visits and present findings as needed.</li>"
      ],
      "text/plain": [
       "<IPython.core.display.HTML object>"
      ]
     },
     "metadata": {},
     "output_type": "display_data"
    },
    {
     "name": "stdout",
     "output_type": "stream",
     "text": [
      "\n",
      "LDA: 0.37, LR: 0.0, Text: <li>Provide guidance to internal team members on s...\n",
      "\n",
      "LDA: 0.18, LR: 0.13, Text: <b>Qualifications:</b>...\n"
     ]
    },
    {
     "data": {
      "text/html": [
       "<b>Qualifications:</b>"
      ],
      "text/plain": [
       "<IPython.core.display.HTML object>"
      ]
     },
     "metadata": {},
     "output_type": "display_data"
    },
    {
     "name": "stdout",
     "output_type": "stream",
     "text": [
      "\n",
      "LDA: 0.94, LR: 0.0, Text: <li>Ph.D. REQUIRED. Preferred Degree in: Statistic...\n"
     ]
    },
    {
     "data": {
      "text/html": [
       "<li>Ph.D. REQUIRED. Preferred Degree in: Statistics, Biostatistics, Statistical Genetics, Computational Biology, or Bioinformatics.</li>"
      ],
      "text/plain": [
       "<IPython.core.display.HTML object>"
      ]
     },
     "metadata": {},
     "output_type": "display_data"
    },
    {
     "name": "stdout",
     "output_type": "stream",
     "text": [
      "\n",
      "LDA: 0.84, LR: 0.0, Text: <li>At least 3 years of experience in applied proj...\n"
     ]
    },
    {
     "data": {
      "text/html": [
       "<li>At least 3 years of experience in applied projects is required. Industry specific experience is preferred.</li>"
      ],
      "text/plain": [
       "<IPython.core.display.HTML object>"
      ]
     },
     "metadata": {},
     "output_type": "display_data"
    },
    {
     "name": "stdout",
     "output_type": "stream",
     "text": [
      "\n",
      "LDA: 0.6, LR: 0.0, Text: <li>Demonstrated expertise in the theory and appli...\n"
     ]
    },
    {
     "data": {
      "text/html": [
       "<li>Demonstrated expertise in the theory and application of biostatistics.</li>"
      ],
      "text/plain": [
       "<IPython.core.display.HTML object>"
      ]
     },
     "metadata": {},
     "output_type": "display_data"
    },
    {
     "name": "stdout",
     "output_type": "stream",
     "text": [
      "\n",
      "LDA: 0.89, LR: 0.0, Text: <li>Knowledge of statistical methodologies and app...\n"
     ]
    },
    {
     "data": {
      "text/html": [
       "<li>Knowledge of statistical methodologies and applications in genetics/precision medicine is required.</li>"
      ],
      "text/plain": [
       "<IPython.core.display.HTML object>"
      ]
     },
     "metadata": {},
     "output_type": "display_data"
    },
    {
     "name": "stdout",
     "output_type": "stream",
     "text": [
      "\n",
      "LDA: 0.65, LR: 0.0, Text: <li>Excellent analytical and problem-solving skill...\n"
     ]
    },
    {
     "data": {
      "text/html": [
       "<li>Excellent analytical and problem-solving skills.</li>"
      ],
      "text/plain": [
       "<IPython.core.display.HTML object>"
      ]
     },
     "metadata": {},
     "output_type": "display_data"
    },
    {
     "name": "stdout",
     "output_type": "stream",
     "text": [
      "\n",
      "LDA: 0.65, LR: 0.0, Text: <li>Excellent written and verbal communication ski...\n"
     ]
    },
    {
     "data": {
      "text/html": [
       "<li>Excellent written and verbal communication skills.</li>"
      ],
      "text/plain": [
       "<IPython.core.display.HTML object>"
      ]
     },
     "metadata": {},
     "output_type": "display_data"
    },
    {
     "name": "stdout",
     "output_type": "stream",
     "text": [
      "\n",
      "LDA: 0.81, LR: 0.0, Text: <li>Proven ability to work independently and in a ...\n"
     ]
    },
    {
     "data": {
      "text/html": [
       "<li>Proven ability to work independently and in a team environment.</li>"
      ],
      "text/plain": [
       "<IPython.core.display.HTML object>"
      ]
     },
     "metadata": {},
     "output_type": "display_data"
    },
    {
     "name": "stdout",
     "output_type": "stream",
     "text": [
      "\n",
      "LDA: 0.66, LR: 0.0, Text: <li>Experience with omic data is required; experie...\n"
     ]
    },
    {
     "data": {
      "text/html": [
       "<li>Experience with omic data is required; experience with sequencing data is preferred.</li>"
      ],
      "text/plain": [
       "<IPython.core.display.HTML object>"
      ]
     },
     "metadata": {},
     "output_type": "display_data"
    },
    {
     "name": "stdout",
     "output_type": "stream",
     "text": [
      "\n",
      "LDA: 0.4, LR: 0.0, Text: <li>Experience with public databases (e.g. TCGA, U...\n",
      "\n",
      "LDA: 0.05, LR: 0.0, Text: <li>Proficiency in R programming is required; prof...\n",
      "\n",
      "LDA: 0.32, LR: 0.0, Text: <li>Experience with machine learning tools and pac...\n",
      "\n",
      "LDA: 0.8, LR: 0.0, Text: <li>Experience with statistical and bioinformatics...\n"
     ]
    },
    {
     "data": {
      "text/html": [
       "<li>Experience with statistical and bioinformatics analysis of multiple biomarker data types (DNA, RNA, protein, etc.) is preferred.</li>"
      ],
      "text/plain": [
       "<IPython.core.display.HTML object>"
      ]
     },
     "metadata": {},
     "output_type": "display_data"
    },
    {
     "name": "stdout",
     "output_type": "stream",
     "text": [
      "\n",
      "LDA: 0.62, LR: 0.0, Text: <li>Experience with linear/nonlinear mixed model t...\n"
     ]
    },
    {
     "data": {
      "text/html": [
       "<li>Experience with linear/nonlinear mixed model tools (nlme, lme4, NONMEM, etc.) is preferred.</li>"
      ],
      "text/plain": [
       "<IPython.core.display.HTML object>"
      ]
     },
     "metadata": {},
     "output_type": "display_data"
    },
    {
     "name": "stdout",
     "output_type": "stream",
     "text": [
      "\n",
      "LDA: 0.4, LR: 0.0, Text: <li>Experience with relational databases (e.g. MyS...\n",
      "\n",
      "LDA: 0.22, LR: 0.0, Text: <li>Qualified candidates must be legally authorize...\n",
      "\n",
      "LDA: 0.09, LR: 0.0, Text: <b>BioStat Solutions, LLC is a voluntary equal opp...\n",
      "\n",
      "LDA: 0.88, LR: 0.13, Text: <p>HR-OP-GDS-004 10/05/2020</p>...\n"
     ]
    },
    {
     "data": {
      "text/html": [
       "<p>HR-OP-GDS-004 10/05/2020</p>"
      ],
      "text/plain": [
       "<IPython.core.display.HTML object>"
      ]
     },
     "metadata": {},
     "output_type": "display_data"
    },
    {
     "name": "stdout",
     "output_type": "stream",
     "text": [
      "\n",
      "LDA: 0.18, LR: 0.0, Text: <p>Job Type: Full-time</p>...\n",
      "\n",
      "LDA: 0.93, LR: 0.13, Text: <p>Pay: $0.00 per hour</p>...\n"
     ]
    },
    {
     "data": {
      "text/html": [
       "<p>Pay: $0.00 per hour</p>"
      ],
      "text/plain": [
       "<IPython.core.display.HTML object>"
      ]
     },
     "metadata": {},
     "output_type": "display_data"
    },
    {
     "name": "stdout",
     "output_type": "stream",
     "text": [
      "\n",
      "LDA: 0.88, LR: 0.13, Text: <p>Benefits:</p>...\n"
     ]
    },
    {
     "data": {
      "text/html": [
       "<p>Benefits:</p>"
      ],
      "text/plain": [
       "<IPython.core.display.HTML object>"
      ]
     },
     "metadata": {},
     "output_type": "display_data"
    },
    {
     "name": "stdout",
     "output_type": "stream",
     "text": [
      "\n",
      "LDA: 0.88, LR: 0.13, Text: <li>401(k)</li>...\n"
     ]
    },
    {
     "data": {
      "text/html": [
       "<li>401(k)</li>"
      ],
      "text/plain": [
       "<IPython.core.display.HTML object>"
      ]
     },
     "metadata": {},
     "output_type": "display_data"
    },
    {
     "name": "stdout",
     "output_type": "stream",
     "text": [
      "\n",
      "LDA: 0.87, LR: 0.01, Text: <li>Dental insurance</li>...\n"
     ]
    },
    {
     "data": {
      "text/html": [
       "<li>Dental insurance</li>"
      ],
      "text/plain": [
       "<IPython.core.display.HTML object>"
      ]
     },
     "metadata": {},
     "output_type": "display_data"
    },
    {
     "name": "stdout",
     "output_type": "stream",
     "text": [
      "\n",
      "LDA: 0.88, LR: 0.04, Text: <li>Disability insurance</li>...\n"
     ]
    },
    {
     "data": {
      "text/html": [
       "<li>Disability insurance</li>"
      ],
      "text/plain": [
       "<IPython.core.display.HTML object>"
      ]
     },
     "metadata": {},
     "output_type": "display_data"
    },
    {
     "name": "stdout",
     "output_type": "stream",
     "text": [
      "\n",
      "LDA: 0.85, LR: 0.13, Text: <li>Employee assistance program</li>...\n"
     ]
    },
    {
     "data": {
      "text/html": [
       "<li>Employee assistance program</li>"
      ],
      "text/plain": [
       "<IPython.core.display.HTML object>"
      ]
     },
     "metadata": {},
     "output_type": "display_data"
    },
    {
     "name": "stdout",
     "output_type": "stream",
     "text": [
      "\n",
      "LDA: 0.88, LR: 0.13, Text: <li>Flexible schedule</li>...\n"
     ]
    },
    {
     "data": {
      "text/html": [
       "<li>Flexible schedule</li>"
      ],
      "text/plain": [
       "<IPython.core.display.HTML object>"
      ]
     },
     "metadata": {},
     "output_type": "display_data"
    },
    {
     "name": "stdout",
     "output_type": "stream",
     "text": [
      "\n",
      "LDA: 0.88, LR: 0.05, Text: <li>Health insurance</li>...\n"
     ]
    },
    {
     "data": {
      "text/html": [
       "<li>Health insurance</li>"
      ],
      "text/plain": [
       "<IPython.core.display.HTML object>"
      ]
     },
     "metadata": {},
     "output_type": "display_data"
    },
    {
     "name": "stdout",
     "output_type": "stream",
     "text": [
      "\n",
      "LDA: 0.84, LR: 0.05, Text: <li>Life insurance</li>...\n"
     ]
    },
    {
     "data": {
      "text/html": [
       "<li>Life insurance</li>"
      ],
      "text/plain": [
       "<IPython.core.display.HTML object>"
      ]
     },
     "metadata": {},
     "output_type": "display_data"
    },
    {
     "name": "stdout",
     "output_type": "stream",
     "text": [
      "\n",
      "LDA: 0.9, LR: 0.0, Text: <li>Paid time off</li>...\n"
     ]
    },
    {
     "data": {
      "text/html": [
       "<li>Paid time off</li>"
      ],
      "text/plain": [
       "<IPython.core.display.HTML object>"
      ]
     },
     "metadata": {},
     "output_type": "display_data"
    },
    {
     "name": "stdout",
     "output_type": "stream",
     "text": [
      "\n",
      "LDA: 0.8, LR: 0.13, Text: <li>Referral program</li>...\n"
     ]
    },
    {
     "data": {
      "text/html": [
       "<li>Referral program</li>"
      ],
      "text/plain": [
       "<IPython.core.display.HTML object>"
      ]
     },
     "metadata": {},
     "output_type": "display_data"
    },
    {
     "name": "stdout",
     "output_type": "stream",
     "text": [
      "\n",
      "LDA: 0.88, LR: 0.13, Text: <li>Relocation assistance</li>...\n"
     ]
    },
    {
     "data": {
      "text/html": [
       "<li>Relocation assistance</li>"
      ],
      "text/plain": [
       "<IPython.core.display.HTML object>"
      ]
     },
     "metadata": {},
     "output_type": "display_data"
    },
    {
     "name": "stdout",
     "output_type": "stream",
     "text": [
      "\n",
      "LDA: 0.86, LR: 0.13, Text: <li>Tuition reimbursement</li>...\n"
     ]
    },
    {
     "data": {
      "text/html": [
       "<li>Tuition reimbursement</li>"
      ],
      "text/plain": [
       "<IPython.core.display.HTML object>"
      ]
     },
     "metadata": {},
     "output_type": "display_data"
    },
    {
     "name": "stdout",
     "output_type": "stream",
     "text": [
      "\n",
      "LDA: 0.84, LR: 0.05, Text: <li>Vision insurance</li>...\n"
     ]
    },
    {
     "data": {
      "text/html": [
       "<li>Vision insurance</li>"
      ],
      "text/plain": [
       "<IPython.core.display.HTML object>"
      ]
     },
     "metadata": {},
     "output_type": "display_data"
    },
    {
     "name": "stdout",
     "output_type": "stream",
     "text": [
      "\n",
      "LDA: 0.88, LR: 0.13, Text: <p>Schedule:</p>...\n"
     ]
    },
    {
     "data": {
      "text/html": [
       "<p>Schedule:</p>"
      ],
      "text/plain": [
       "<IPython.core.display.HTML object>"
      ]
     },
     "metadata": {},
     "output_type": "display_data"
    },
    {
     "name": "stdout",
     "output_type": "stream",
     "text": [
      "\n",
      "LDA: 0.9, LR: 0.0, Text: <li>Monday to Friday</li>...\n"
     ]
    },
    {
     "data": {
      "text/html": [
       "<li>Monday to Friday</li>"
      ],
      "text/plain": [
       "<IPython.core.display.HTML object>"
      ]
     },
     "metadata": {},
     "output_type": "display_data"
    },
    {
     "name": "stdout",
     "output_type": "stream",
     "text": [
      "\n",
      "LDA: 0.87, LR: 0.0, Text: <p>Experience:</p>...\n"
     ]
    },
    {
     "data": {
      "text/html": [
       "<p>Experience:</p>"
      ],
      "text/plain": [
       "<IPython.core.display.HTML object>"
      ]
     },
     "metadata": {},
     "output_type": "display_data"
    },
    {
     "name": "stdout",
     "output_type": "stream",
     "text": [
      "\n",
      "LDA: 0.9, LR: 0.13, Text: <li>Linux/UNIX: 1 year (Required)</li>...\n"
     ]
    },
    {
     "data": {
      "text/html": [
       "<li>Linux/UNIX: 1 year (Required)</li>"
      ],
      "text/plain": [
       "<IPython.core.display.HTML object>"
      ]
     },
     "metadata": {},
     "output_type": "display_data"
    },
    {
     "name": "stdout",
     "output_type": "stream",
     "text": [
      "\n",
      "LDA: 0.89, LR: 0.0, Text: <li>omic data: 1 year (Required)</li>...\n"
     ]
    },
    {
     "data": {
      "text/html": [
       "<li>omic data: 1 year (Required)</li>"
      ],
      "text/plain": [
       "<IPython.core.display.HTML object>"
      ]
     },
     "metadata": {},
     "output_type": "display_data"
    },
    {
     "name": "stdout",
     "output_type": "stream",
     "text": [
      "\n",
      "LDA: 0.9, LR: 0.0, Text: <li>sequencing data: 1 year (Preferred)</li>...\n"
     ]
    },
    {
     "data": {
      "text/html": [
       "<li>sequencing data: 1 year (Preferred)</li>"
      ],
      "text/plain": [
       "<IPython.core.display.HTML object>"
      ]
     },
     "metadata": {},
     "output_type": "display_data"
    },
    {
     "name": "stdout",
     "output_type": "stream",
     "text": [
      "\n",
      "LDA: 0.93, LR: 0.0, Text: <li>machine learning tools and packages: 1 year (P...\n"
     ]
    },
    {
     "data": {
      "text/html": [
       "<li>machine learning tools and packages: 1 year (Preferred)</li>"
      ],
      "text/plain": [
       "<IPython.core.display.HTML object>"
      ]
     },
     "metadata": {},
     "output_type": "display_data"
    },
    {
     "name": "stdout",
     "output_type": "stream",
     "text": [
      "\n",
      "LDA: 0.73, LR: 0.13, Text: <li>R programming: 1 year (Required)</li>...\n"
     ]
    },
    {
     "data": {
      "text/html": [
       "<li>R programming: 1 year (Required)</li>"
      ],
      "text/plain": [
       "<IPython.core.display.HTML object>"
      ]
     },
     "metadata": {},
     "output_type": "display_data"
    },
    {
     "name": "stdout",
     "output_type": "stream",
     "text": [
      "\n",
      "LDA: 0.88, LR: 0.13, Text: <p>Education:</p>...\n"
     ]
    },
    {
     "data": {
      "text/html": [
       "<p>Education:</p>"
      ],
      "text/plain": [
       "<IPython.core.display.HTML object>"
      ]
     },
     "metadata": {},
     "output_type": "display_data"
    },
    {
     "name": "stdout",
     "output_type": "stream",
     "text": [
      "\n",
      "LDA: 0.88, LR: 0.13, Text: <li>Doctorate (Required)</li>...\n"
     ]
    },
    {
     "data": {
      "text/html": [
       "<li>Doctorate (Required)</li>"
      ],
      "text/plain": [
       "<IPython.core.display.HTML object>"
      ]
     },
     "metadata": {},
     "output_type": "display_data"
    },
    {
     "name": "stdout",
     "output_type": "stream",
     "text": [
      "\n",
      "LDA: 0.87, LR: 0.0, Text: <p>Work authorization:</p>...\n"
     ]
    },
    {
     "data": {
      "text/html": [
       "<p>Work authorization:</p>"
      ],
      "text/plain": [
       "<IPython.core.display.HTML object>"
      ]
     },
     "metadata": {},
     "output_type": "display_data"
    },
    {
     "name": "stdout",
     "output_type": "stream",
     "text": [
      "\n",
      "LDA: 0.84, LR: 0.13, Text: <li>United States (Required)</li>...\n"
     ]
    },
    {
     "data": {
      "text/html": [
       "<li>United States (Required)</li>"
      ],
      "text/plain": [
       "<IPython.core.display.HTML object>"
      ]
     },
     "metadata": {},
     "output_type": "display_data"
    },
    {
     "name": "stdout",
     "output_type": "stream",
     "text": [
      "\n",
      "LDA: 0.9, LR: 0.13, Text: <p>Company's website:</p>...\n"
     ]
    },
    {
     "data": {
      "text/html": [
       "<p>Company's website:</p>"
      ],
      "text/plain": [
       "<IPython.core.display.HTML object>"
      ]
     },
     "metadata": {},
     "output_type": "display_data"
    },
    {
     "name": "stdout",
     "output_type": "stream",
     "text": [
      "\n",
      "LDA: 0.92, LR: 0.13, Text: <li>https://www.biostatsolutions.com/</li>...\n"
     ]
    },
    {
     "data": {
      "text/html": [
       "<li>https://www.biostatsolutions.com/</li>"
      ],
      "text/plain": [
       "<IPython.core.display.HTML object>"
      ]
     },
     "metadata": {},
     "output_type": "display_data"
    },
    {
     "name": "stdout",
     "output_type": "stream",
     "text": [
      "\n",
      "LDA: 0.84, LR: 0.13, Text: <p>Benefit Conditions:</p>...\n"
     ]
    },
    {
     "data": {
      "text/html": [
       "<p>Benefit Conditions:</p>"
      ],
      "text/plain": [
       "<IPython.core.display.HTML object>"
      ]
     },
     "metadata": {},
     "output_type": "display_data"
    },
    {
     "name": "stdout",
     "output_type": "stream",
     "text": [
      "\n",
      "LDA: 0.69, LR: 0.0, Text: <li>Only full-time employees eligible</li>...\n"
     ]
    },
    {
     "data": {
      "text/html": [
       "<li>Only full-time employees eligible</li>"
      ],
      "text/plain": [
       "<IPython.core.display.HTML object>"
      ]
     },
     "metadata": {},
     "output_type": "display_data"
    },
    {
     "name": "stdout",
     "output_type": "stream",
     "text": [
      "\n",
      "LDA: 0.89, LR: 0.0, Text: <p>Work Remotely:</p>...\n"
     ]
    },
    {
     "data": {
      "text/html": [
       "<p>Work Remotely:</p>"
      ],
      "text/plain": [
       "<IPython.core.display.HTML object>"
      ]
     },
     "metadata": {},
     "output_type": "display_data"
    },
    {
     "name": "stdout",
     "output_type": "stream",
     "text": [
      "\n",
      "LDA: 0.94, LR: 0.0, Text: <li>Yes, temporarily due to COVID-19</li>...\n"
     ]
    },
    {
     "data": {
      "text/html": [
       "<li>Yes, temporarily due to COVID-19</li>"
      ],
      "text/plain": [
       "<IPython.core.display.HTML object>"
      ]
     },
     "metadata": {},
     "output_type": "display_data"
    }
   ],
   "source": [
    "\n",
    "import random\n",
    "from bs4 import BeautifulSoup\n",
    "from bs4.element import NavigableString\n",
    "from IPython.display import HTML\n",
    "\n",
    "SAVES_HTML_FOLDER = os.path.join(s.saves_folder, 'html')\n",
    "files_list = os.listdir(SAVES_HTML_FOLDER)\n",
    "file_name = random.choice(files_list)\n",
    "file_path = os.path.join(SAVES_HTML_FOLDER, file_name)\n",
    "with open(file_path, 'r', encoding='utf-8') as f:\n",
    "    html_str = f.read()\n",
    "job_soup = BeautifulSoup(html_str, 'lxml')\n",
    "body_soup = job_soup.find_all(name='body')[0]\n",
    "\n",
    "# Get a list of strings beginning and ending with an html tag\n",
    "child_strs_list = get_navigable_children(body_soup, [])\n",
    "sents_list = [regex_tokenizer(sent_str) for sent_str in child_strs_list]\n",
    "offering_corpus = [headers_dictionary.doc2bow(text) for text in sents_list]\n",
    "for y_predict_proba, child_str, corpus_str in zip(predict_percent_fit(child_strs_list), child_strs_list, offering_corpus):\n",
    "    print()\n",
    "    results_list = lda[corpus_str]\n",
    "    lda_probability = results_list[0][1]\n",
    "    lr_probability = y_predict_proba[1]\n",
    "    lda_str = str(round(lda_probability, 2))\n",
    "    lr_str = str(round(lr_probability, 2))\n",
    "    print(f'LDA: {lda_str}, LR: {lr_str}, Text: {child_str[:50]}...')\n",
    "    if (lda_probability > 0.5) or (y_predict_proba[1] > 0.05):\n",
    "        display(HTML(child_str))"
   ]
  },
  {
   "cell_type": "code",
   "execution_count": 184,
   "metadata": {},
   "outputs": [
    {
     "data": {
      "text/plain": [
       "[(0, 0.40086234), (1, 0.5991377)]"
      ]
     },
     "execution_count": 184,
     "metadata": {},
     "output_type": "execute_result"
    }
   ],
   "source": [
    "\n"
   ]
  },
  {
   "cell_type": "code",
   "execution_count": 180,
   "metadata": {},
   "outputs": [
    {
     "data": {
      "text/plain": [
       "['gensim.interfaces.TransformedCorpus.load', 'gensim.interfaces.TransformedCorpus.save', 'gensim.interfaces.TransformedCorpus.save_corpus']"
      ]
     },
     "execution_count": 180,
     "metadata": {},
     "output_type": "execute_result"
    }
   ],
   "source": [
    "\n",
    "[f'gensim.interfaces.TransformedCorpus.{fn}' for fn in dir(gensim.interfaces.TransformedCorpus) if not fn.startswith('_')]"
   ]
  },
  {
   "cell_type": "code",
   "execution_count": 179,
   "metadata": {},
   "outputs": [
    {
     "data": {
      "text/plain": [
       "\u001b[1;31mType:\u001b[0m           TransformedCorpus\n",
       "\u001b[1;31mString form:\u001b[0m    <gensim.interfaces.TransformedCorpus object at 0x0000017437AE91C0>\n",
       "\u001b[1;31mLength:\u001b[0m         2\n",
       "\u001b[1;31mFile:\u001b[0m           c:\\users\\dev\\anaconda3\\envs\\jh\\lib\\site-packages\\gensim\\interfaces.py\n",
       "\u001b[1;31mDocstring:\u001b[0m      Interface for corpora that are the result of an online (streamed) transformation.\n",
       "\u001b[1;31mInit docstring:\u001b[0m\n",
       "Parameters\n",
       "----------\n",
       "obj : object\n",
       "    A transformation :class:`~gensim.interfaces.TransformationABC` object that will be applied\n",
       "    to each document from `corpus` during iteration.\n",
       "corpus : iterable of list of (int, number)\n",
       "    Corpus in bag-of-words format.\n",
       "chunksize : int, optional\n",
       "    If provided, a slightly more effective processing will be performed by grouping documents from `corpus`.\n"
      ]
     },
     "metadata": {},
     "output_type": "display_data"
    }
   ],
   "source": [
    "\n",
    "TransformedCorpus_obj?"
   ]
  },
  {
   "cell_type": "code",
   "execution_count": 178,
   "metadata": {},
   "outputs": [
    {
     "data": {
      "text/plain": [
       "['gensim.models.ldamodel.LdaModel.bound', 'gensim.models.ldamodel.LdaModel.clear', 'gensim.models.ldamodel.LdaModel.diff', 'gensim.models.ldamodel.LdaModel.do_estep', 'gensim.models.ldamodel.LdaModel.do_mstep', 'gensim.models.ldamodel.LdaModel.get_document_topics', 'gensim.models.ldamodel.LdaModel.get_term_topics', 'gensim.models.ldamodel.LdaModel.get_topic_terms', 'gensim.models.ldamodel.LdaModel.get_topics', 'gensim.models.ldamodel.LdaModel.inference', 'gensim.models.ldamodel.LdaModel.init_dir_prior', 'gensim.models.ldamodel.LdaModel.load', 'gensim.models.ldamodel.LdaModel.log_perplexity', 'gensim.models.ldamodel.LdaModel.print_topic', 'gensim.models.ldamodel.LdaModel.print_topics', 'gensim.models.ldamodel.LdaModel.save', 'gensim.models.ldamodel.LdaModel.show_topic', 'gensim.models.ldamodel.LdaModel.show_topics', 'gensim.models.ldamodel.LdaModel.sync_state', 'gensim.models.ldamodel.LdaModel.top_topics', 'gensim.models.ldamodel.LdaModel.update', 'gensim.models.ldamodel.LdaModel.update_alpha', 'gensim.models.ldamodel.LdaModel.update_eta']"
      ]
     },
     "execution_count": 178,
     "metadata": {},
     "output_type": "execute_result"
    }
   ],
   "source": [
    "\n",
    "[f'gensim.models.ldamodel.LdaModel.{fn}' for fn in dir(gensim.models.ldamodel.LdaModel) if not fn.startswith('_')]"
   ]
  },
  {
   "cell_type": "code",
   "execution_count": 177,
   "metadata": {},
   "outputs": [
    {
     "data": {
      "text/plain": [
       "\u001b[1;31mType:\u001b[0m           LdaModel\n",
       "\u001b[1;31mString form:\u001b[0m    LdaModel(num_terms=972, num_topics=2, decay=0.5, chunksize=2000)\n",
       "\u001b[1;31mFile:\u001b[0m           c:\\users\\dev\\anaconda3\\envs\\jh\\lib\\site-packages\\gensim\\models\\ldamodel.py\n",
       "\u001b[1;31mDocstring:\u001b[0m     \n",
       "Train and use Online Latent Dirichlet Allocation (OLDA) models as presented in\n",
       "`Hoffman et al. :\"Online Learning for Latent Dirichlet Allocation\" <https://www.di.ens.fr/~fbach/mdhnips2010.pdf>`_.\n",
       "\n",
       "Examples\n",
       "-------\n",
       "Initialize a model using a Gensim corpus\n",
       "\n",
       ".. sourcecode:: pycon\n",
       "\n",
       "    >>> from gensim.test.utils import common_corpus\n",
       "    >>>\n",
       "    >>> lda = LdaModel(common_corpus, num_topics=10)\n",
       "\n",
       "You can then infer topic distributions on new, unseen documents.\n",
       "\n",
       ".. sourcecode:: pycon\n",
       "\n",
       "    >>> doc_bow = [(1, 0.3), (2, 0.1), (0, 0.09)]\n",
       "    >>> doc_lda = lda[doc_bow]\n",
       "\n",
       "The model can be updated (trained) with new documents.\n",
       "\n",
       ".. sourcecode:: pycon\n",
       "\n",
       "    >>> # In practice (corpus =/= initial training corpus), but we use the same here for simplicity.\n",
       "    >>> other_corpus = common_corpus\n",
       "    >>>\n",
       "    >>> lda.update(other_corpus)\n",
       "\n",
       "Model persistency is achieved through :meth:`~gensim.models.ldamodel.LdaModel.load` and\n",
       ":meth:`~gensim.models.ldamodel.LdaModel.save` methods.\n",
       "\u001b[1;31mInit docstring:\u001b[0m\n",
       "Parameters\n",
       "----------\n",
       "corpus : {iterable of list of (int, float), scipy.sparse.csc}, optional\n",
       "    Stream of document vectors or sparse matrix of shape (`num_documents`, `num_terms`).\n",
       "    If not given, the model is left untrained (presumably because you want to call\n",
       "    :meth:`~gensim.models.ldamodel.LdaModel.update` manually).\n",
       "num_topics : int, optional\n",
       "    The number of requested latent topics to be extracted from the training corpus.\n",
       "id2word : {dict of (int, str), :class:`gensim.corpora.dictionary.Dictionary`}\n",
       "    Mapping from word IDs to words. It is used to determine the vocabulary size, as well as for\n",
       "    debugging and topic printing.\n",
       "distributed : bool, optional\n",
       "    Whether distributed computing should be used to accelerate training.\n",
       "chunksize :  int, optional\n",
       "    Number of documents to be used in each training chunk.\n",
       "passes : int, optional\n",
       "    Number of passes through the corpus during training.\n",
       "update_every : int, optional\n",
       "    Number of documents to be iterated through for each update.\n",
       "    Set to 0 for batch learning, > 1 for online iterative learning.\n",
       "alpha : {numpy.ndarray, str}, optional\n",
       "    Can be set to an 1D array of length equal to the number of expected topics that expresses\n",
       "    our a-priori belief for the each topics' probability.\n",
       "    Alternatively default prior selecting strategies can be employed by supplying a string:\n",
       "\n",
       "        * 'asymmetric': Uses a fixed normalized asymmetric prior of `1.0 / topicno`.\n",
       "        * 'auto': Learns an asymmetric prior from the corpus (not available if `distributed==True`).\n",
       "eta : {float, np.array, str}, optional\n",
       "    A-priori belief on word probability, this can be:\n",
       "\n",
       "        * scalar for a symmetric prior over topic/word probability,\n",
       "        * vector of length num_words to denote an asymmetric user defined probability for each word,\n",
       "        * matrix of shape (num_topics, num_words) to assign a probability for each word-topic combination,\n",
       "        * the string 'auto' to learn the asymmetric prior from the data.\n",
       "decay : float, optional\n",
       "    A number between (0.5, 1] to weight what percentage of the previous lambda value is forgotten\n",
       "    when each new document is examined. Corresponds to Kappa from\n",
       "    `Matthew D. Hoffman, David M. Blei, Francis Bach:\n",
       "    \"Online Learning for Latent Dirichlet Allocation NIPS'10\" <https://www.di.ens.fr/~fbach/mdhnips2010.pdf>`_.\n",
       "offset : float, optional\n",
       "    Hyper-parameter that controls how much we will slow down the first steps the first few iterations.\n",
       "    Corresponds to Tau_0 from `Matthew D. Hoffman, David M. Blei, Francis Bach:\n",
       "    \"Online Learning for Latent Dirichlet Allocation NIPS'10\" <https://www.di.ens.fr/~fbach/mdhnips2010.pdf>`_.\n",
       "eval_every : int, optional\n",
       "    Log perplexity is estimated every that many updates. Setting this to one slows down training by ~2x.\n",
       "iterations : int, optional\n",
       "    Maximum number of iterations through the corpus when inferring the topic distribution of a corpus.\n",
       "gamma_threshold : float, optional\n",
       "    Minimum change in the value of the gamma parameters to continue iterating.\n",
       "minimum_probability : float, optional\n",
       "    Topics with a probability lower than this threshold will be filtered out.\n",
       "random_state : {np.random.RandomState, int}, optional\n",
       "    Either a randomState object or a seed to generate one. Useful for reproducibility.\n",
       "ns_conf : dict of (str, object), optional\n",
       "    Key word parameters propagated to :func:`gensim.utils.getNS` to get a Pyro4 Nameserved.\n",
       "    Only used if `distributed` is set to True.\n",
       "minimum_phi_value : float, optional\n",
       "    if `per_word_topics` is True, this represents a lower bound on the term probabilities.\n",
       "per_word_topics : bool\n",
       "    If True, the model also computes a list of topics, sorted in descending order of most likely topics for\n",
       "    each word, along with their phi values multiplied by the feature length (i.e. word count).\n",
       "callbacks : list of :class:`~gensim.models.callbacks.Callback`\n",
       "    Metric callbacks to log and visualize evaluation metrics of the model during training.\n",
       "dtype : {numpy.float16, numpy.float32, numpy.float64}, optional\n",
       "    Data-type to use during calculations inside model. All inputs are also converted.\n"
      ]
     },
     "metadata": {},
     "output_type": "display_data"
    }
   ],
   "source": [
    "\n",
    "lda?"
   ]
  },
  {
   "cell_type": "code",
   "execution_count": 28,
   "metadata": {},
   "outputs": [],
   "source": [
    "\n",
    "review_folder = os.path.join(s.saves_folder, 'txt')\n",
    "os.makedirs(name=review_folder, exist_ok=True)\n",
    "file_path = os.path.join(review_folder, 'child_str_model.txt')\n",
    "child_str_model.wv.save_word2vec_format(file_path, binary=False)"
   ]
  },
  {
   "cell_type": "code",
   "execution_count": 43,
   "metadata": {},
   "outputs": [
    {
     "data": {
      "text/plain": [
       "['pickle.PickleError', 'pickle.PicklingError', 'pickle.UnpicklingError']"
      ]
     },
     "execution_count": 43,
     "metadata": {},
     "output_type": "execute_result"
    }
   ],
   "source": [
    "\n",
    "import pickle\n",
    "\n",
    "[f'pickle.{fn}' for fn in dir(pickle) if 'err' in fn.lower()]"
   ]
  },
  {
   "cell_type": "code",
   "execution_count": 38,
   "metadata": {},
   "outputs": [
    {
     "data": {
      "text/plain": [
       "['gensim.utils.ClippedCorpus', 'gensim.utils.FakeDict', 'gensim.utils.InputQueue', 'gensim.utils.NO_CYTHON', 'gensim.utils.PAT_ALPHABETIC', 'gensim.utils.RE_HTML_ENTITY', 'gensim.utils.RULE_DEFAULT', 'gensim.utils.RULE_DISCARD', 'gensim.utils.RULE_KEEP', 'gensim.utils.RepeatCorpus', 'gensim.utils.RepeatCorpusNTimes', 'gensim.utils.SaveLoad', 'gensim.utils.SlicedCorpus', 'gensim.utils.any2unicode', 'gensim.utils.any2utf8', 'gensim.utils.call_on_class_only', 'gensim.utils.check_output', 'gensim.utils.chunkize', 'gensim.utils.chunkize_serial', 'gensim.utils.collections', 'gensim.utils.contextmanager', 'gensim.utils.copytree_hardlink', 'gensim.utils.cpu_count', 'gensim.utils.deaccent', 'gensim.utils.decode_htmlentities', 'gensim.utils.deprecated', 'gensim.utils.dict_from_corpus', 'gensim.utils.effective_n_jobs', 'gensim.utils.file_or_filename', 'gensim.utils.flatten', 'gensim.utils.getNS', 'gensim.utils.get_max_id', 'gensim.utils.get_my_ip', 'gensim.utils.get_random_state', 'gensim.utils.grouper', 'gensim.utils.has_pattern', 'gensim.utils.heapq', 'gensim.utils.identity', 'gensim.utils.ignore_deprecation_warning', 'gensim.utils.inspect', 'gensim.utils.is_corpus', 'gensim.utils.iter_windows', 'gensim.utils.iteritems', 'gensim.utils.iterkeys', 'gensim.utils.itertools', 'gensim.utils.itervalues', 'gensim.utils.keep_vocab_item', 'gensim.utils.lazy_flatten', 'gensim.utils.lemmatize', 'gensim.utils.logger', 'gensim.utils.logging', 'gensim.utils.merge_counts', 'gensim.utils.mock_data', 'gensim.utils.mock_data_row', 'gensim.utils.multiprocessing', 'gensim.utils.n2cp', 'gensim.utils.np', 'gensim.utils.numbers', 'gensim.utils.open', 'gensim.utils.open_file', 'gensim.utils.os', 'gensim.utils.pickle', 'gensim.utils.prune_vocab', 'gensim.utils.pyro_daemon', 'gensim.utils.qsize', 'gensim.utils.randfname', 'gensim.utils.random', 'gensim.utils.range', 'gensim.utils.re', 'gensim.utils.revdict', 'gensim.utils.safe_unichr', 'gensim.utils.sample_dict', 'gensim.utils.save_as_line_sentence', 'gensim.utils.scipy', 'gensim.utils.shutil', 'gensim.utils.simple_preprocess', 'gensim.utils.simple_tokenize', 'gensim.utils.smart_extension', 'gensim.utils.strided_windows', 'gensim.utils.string_types', 'gensim.utils.subprocess', 'gensim.utils.synchronous', 'gensim.utils.sys', 'gensim.utils.tempfile', 'gensim.utils.to_unicode', 'gensim.utils.to_utf8', 'gensim.utils.tokenize', 'gensim.utils.toptexts', 'gensim.utils.trim_vocab_by_freq', 'gensim.utils.u', 'gensim.utils.unichr', 'gensim.utils.unicode', 'gensim.utils.unicodedata', 'gensim.utils.unpickle', 'gensim.utils.upload_chunked', 'gensim.utils.warnings', 'gensim.utils.with_statement', 'gensim.utils.wraps']"
      ]
     },
     "execution_count": 38,
     "metadata": {},
     "output_type": "execute_result"
    }
   ],
   "source": [
    "\n",
    "[f'gensim.utils.{fn}' for fn in dir(gensim.utils) if not fn.startswith('_')]"
   ]
  },
  {
   "cell_type": "code",
   "execution_count": 41,
   "metadata": {},
   "outputs": [
    {
     "name": "stdout",
     "output_type": "stream",
     "text": [
      "C:\\Users\\dev\\Anaconda3\\envs\\jh\\python.exe -m pip install --upgrade cPickle\n"
     ]
    },
    {
     "name": "stderr",
     "output_type": "stream",
     "text": [
      "ERROR: Could not find a version that satisfies the requirement cPickle (from versions: none)\n",
      "ERROR: No matching distribution found for cPickle\n"
     ]
    }
   ],
   "source": [
    "# %load ../load_magic/pip_install.txt\n",
    "\n",
    "import sys\n",
    "\n",
    "# After this has completed, run these commands in a PowerShell window:\n",
    "# cd $Env:UserProfile\\Documents\\Repositories\\job-hunting\\ps1\n",
    "# clear\n",
    "# .\\create_job_hunting_temp_environment_yml_file.ps1\n",
    "command_str = f'{sys.executable} -m pip install --upgrade xxxxxxx'\n",
    "print(command_str)\n",
    "!{command_str}"
   ]
  },
  {
   "cell_type": "code",
   "execution_count": null,
   "metadata": {},
   "outputs": [],
   "source": []
  }
 ],
 "metadata": {
  "kernelspec": {
   "display_name": "Job Hunting (Python 3.9.0)",
   "language": "python",
   "name": "jh"
  },
  "language_info": {
   "codemirror_mode": {
    "name": "ipython",
    "version": 3
   },
   "file_extension": ".py",
   "mimetype": "text/x-python",
   "name": "python",
   "nbconvert_exporter": "python",
   "pygments_lexer": "ipython3",
   "version": "3.9.0"
  }
 },
 "nbformat": 4,
 "nbformat_minor": 4
}
