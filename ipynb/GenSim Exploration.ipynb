{
 "cells": [
  {
   "cell_type": "code",
   "execution_count": null,
   "metadata": {},
   "outputs": [],
   "source": []
  },
  {
   "cell_type": "code",
   "execution_count": 1,
   "metadata": {},
   "outputs": [
    {
     "name": "stdout",
     "output_type": "stream",
     "text": [
      "Pretty printing has been turned OFF\n"
     ]
    }
   ],
   "source": [
    "\n",
    "%pprint"
   ]
  },
  {
   "cell_type": "code",
   "execution_count": 2,
   "metadata": {},
   "outputs": [
    {
     "data": {
      "text/plain": [
       "['s.attempt_to_pickle', 's.data_csv_folder', 's.data_folder', 's.encoding_type', 's.load_csv', 's.load_dataframes', 's.load_object', 's.save_dataframes', 's.saves_csv_folder', 's.saves_folder', 's.saves_pickle_folder', 's.store_objects']"
      ]
     },
     "execution_count": 2,
     "metadata": {},
     "output_type": "execute_result"
    }
   ],
   "source": [
    "\n",
    "%run ../load_magic/storage.py\n",
    "s = Storage()\n",
    "[f's.{fn}' for fn in dir(s) if not fn.startswith('_')]"
   ]
  },
  {
   "cell_type": "code",
   "execution_count": 5,
   "metadata": {},
   "outputs": [
    {
     "data": {
      "text/plain": [
       "['gensim.models.Word2Vec', 'gensim.models.word2vec', 'gensim.models.word2vec_corpusfile', 'gensim.models.word2vec_inner']"
      ]
     },
     "execution_count": 5,
     "metadata": {},
     "output_type": "execute_result"
    }
   ],
   "source": [
    "\n",
    "import gensim\n",
    "\n",
    "[f'gensim.models.{fn}' for fn in dir(gensim.models) if 'word2vec' in fn.lower()]"
   ]
  },
  {
   "cell_type": "code",
   "execution_count": 16,
   "metadata": {},
   "outputs": [],
   "source": [
    "\n",
    "import re\n",
    "\n",
    "SCANNER_REGEX = re.compile(r'(</?|\\b)[1-9a-zA-Z][0-9a-zA-Z]*( *[#\\+:]{1,2}|>|\\.\\b|\\b)')\n",
    "def regex_tokenizer(corpus):\n",
    "    \n",
    "    return [match.group() for match in re.finditer(SCANNER_REGEX, corpus)]"
   ]
  },
  {
   "cell_type": "code",
   "execution_count": null,
   "metadata": {},
   "outputs": [],
   "source": [
    "\n",
    "print([f'child_str_model.{fn}' for fn in dir(child_str_model) if not fn.startswith('_')])\n",
    "print([f'child_str_model.wv.{fn}' for fn in dir(child_str_model.wv) if not fn.startswith('_')])"
   ]
  },
  {
   "cell_type": "code",
   "execution_count": 92,
   "metadata": {},
   "outputs": [],
   "source": [
    "\n",
    "import warnings\n",
    "\n",
    "warnings.filterwarnings('ignore')"
   ]
  },
  {
   "cell_type": "code",
   "execution_count": 91,
   "metadata": {},
   "outputs": [],
   "source": [
    "# %load ../load_magic/get_dir_tree.txt\n",
    "\n",
    "def get_dir_tree(module_name, max_levels=2, contains_str=None):\n",
    "    if max_levels < 1:\n",
    "        return None\n",
    "    base_eval_str = f\"['{module_name}.{{}}'.format(fn) for fn in dir({module_name}) if not fn.startswith('_')]\"\n",
    "    if contains_str is None:\n",
    "        eval_str = base_eval_str\n",
    "    else:\n",
    "        eval_str = f\"['{module_name}.{{}}'.format(fn) for fn in dir({module_name}) if '{contains_str.lower()}' in fn.lower()]\"\n",
    "    try:\n",
    "        dir_list = eval(eval_str)\n",
    "        if len(dir_list):\n",
    "            print()\n",
    "            print(module_name)\n",
    "            print(dir_list)\n",
    "    except Exception as e:\n",
    "        print(f'The evaluated list {eval_str} gets this error: {str(e).strip()}')\n",
    "    try:\n",
    "        base_dir_list = eval(base_eval_str)\n",
    "        if len(base_dir_list):\n",
    "            for base_module_name in base_dir_list:\n",
    "                get_dir_tree(base_module_name, max_levels=max_levels-1, contains_str=contains_str)\n",
    "    except:\n",
    "        return None"
   ]
  },
  {
   "cell_type": "code",
   "execution_count": 105,
   "metadata": {},
   "outputs": [
    {
     "name": "stdout",
     "output_type": "stream",
     "text": [
      "\n",
      "gensim.models.FastText\n",
      "OrderedDict([('sentences', <Parameter \"sentences=None\">), ('corpus_file', <Parameter \"corpus_file=None\">), ('sg', <Parameter \"sg=0\">), ('hs', <Parameter \"hs=0\">), ('size', <Parameter \"size=100\">), ('alpha', <Parameter \"alpha=0.025\">), ('window', <Parameter \"window=5\">), ('min_count', <Parameter \"min_count=5\">), ('max_vocab_size', <Parameter \"max_vocab_size=None\">), ('word_ngrams', <Parameter \"word_ngrams=1\">), ('sample', <Parameter \"sample=0.001\">), ('seed', <Parameter \"seed=1\">), ('workers', <Parameter \"workers=3\">), ('min_alpha', <Parameter \"min_alpha=0.0001\">), ('negative', <Parameter \"negative=5\">), ('ns_exponent', <Parameter \"ns_exponent=0.75\">), ('cbow_mean', <Parameter \"cbow_mean=1\">), ('hashfxn', <Parameter \"hashfxn=<built-in function hash>\">), ('iter', <Parameter \"iter=5\">), ('null_word', <Parameter \"null_word=0\">), ('min_n', <Parameter \"min_n=3\">), ('max_n', <Parameter \"max_n=6\">), ('sorted_vocab', <Parameter \"sorted_vocab=1\">), ('bucket', <Parameter \"bucket=2000000\">), ('trim_rule', <Parameter \"trim_rule=None\">), ('batch_words', <Parameter \"batch_words=10000\">), ('callbacks', <Parameter \"callbacks=()\">), ('compatible_hash', <Parameter \"compatible_hash=True\">)])\n",
      "\n",
      "gensim.models.Phrases\n",
      "OrderedDict([('sentences', <Parameter \"sentences=None\">), ('min_count', <Parameter \"min_count=5\">), ('threshold', <Parameter \"threshold=10.0\">), ('max_vocab_size', <Parameter \"max_vocab_size=40000000\">), ('delimiter', <Parameter \"delimiter=b'_'\">), ('progress_per', <Parameter \"progress_per=10000\">), ('scoring', <Parameter \"scoring='default'\">), ('common_terms', <Parameter \"common_terms=frozenset()\">)])\n",
      "\n",
      "gensim.models.Word2Vec\n",
      "OrderedDict([('sentences', <Parameter \"sentences=None\">), ('corpus_file', <Parameter \"corpus_file=None\">), ('size', <Parameter \"size=100\">), ('alpha', <Parameter \"alpha=0.025\">), ('window', <Parameter \"window=5\">), ('min_count', <Parameter \"min_count=5\">), ('max_vocab_size', <Parameter \"max_vocab_size=None\">), ('sample', <Parameter \"sample=0.001\">), ('seed', <Parameter \"seed=1\">), ('workers', <Parameter \"workers=3\">), ('min_alpha', <Parameter \"min_alpha=0.0001\">), ('sg', <Parameter \"sg=0\">), ('hs', <Parameter \"hs=0\">), ('negative', <Parameter \"negative=5\">), ('ns_exponent', <Parameter \"ns_exponent=0.75\">), ('cbow_mean', <Parameter \"cbow_mean=1\">), ('hashfxn', <Parameter \"hashfxn=<built-in function hash>\">), ('iter', <Parameter \"iter=5\">), ('null_word', <Parameter \"null_word=0\">), ('trim_rule', <Parameter \"trim_rule=None\">), ('sorted_vocab', <Parameter \"sorted_vocab=1\">), ('batch_words', <Parameter \"batch_words=10000\">), ('compute_loss', <Parameter \"compute_loss=False\">), ('callbacks', <Parameter \"callbacks=()\">), ('max_final_vocab', <Parameter \"max_final_vocab=None\">)])\n"
     ]
    }
   ],
   "source": [
    "\n",
    "from inspect import signature\n",
    "\n",
    "module_name = 'gensim.models'\n",
    "base_eval_str = f\"['{module_name}.{{}}'.format(fn) for fn in dir({module_name}) if not fn.startswith('_')]\"\n",
    "base_dir_list = eval(base_eval_str)\n",
    "for model_name in base_dir_list:\n",
    "    sig_eval_str = f'signature({model_name})'\n",
    "    try:\n",
    "        sig = eval(sig_eval_str)\n",
    "        params = sig.parameters\n",
    "        if(list(params.keys())[0].strip() == 'sentences'):\n",
    "            print()\n",
    "            print(model_name)\n",
    "            print(params)\n",
    "    except Exception as e:\n",
    "        #print(f'The evaluated list {sig_eval_str} gets this error: {str(e).strip()}')\n",
    "        pass"
   ]
  },
  {
   "cell_type": "code",
   "execution_count": 106,
   "metadata": {},
   "outputs": [],
   "source": [
    "\n",
    "BASIC_TAGS_DICT = s.load_object('BASIC_TAGS_DICT')\n",
    "rows_list = [{'navigable_parent': navigable_parent, 'is_header': is_header} for navigable_parent, is_header in BASIC_TAGS_DICT.items()]\n",
    "child_str_df = pd.DataFrame(rows_list)\n",
    "sents_list = [regex_tokenizer(sent_str) for sent_str in child_str_df.navigable_parent.tolist()]\n",
    "child_str_model = gensim.models.FastText(sents_list)"
   ]
  },
  {
   "cell_type": "code",
   "execution_count": 107,
   "metadata": {},
   "outputs": [
    {
     "name": "stdout",
     "output_type": "stream",
     "text": [
      "\n",
      "child_str_model\n",
      "['child_str_model._save_specials', 'child_str_model._smart_save', 'child_str_model.save']\n",
      "The evaluated list ['child_str_model.syn1.{}'.format(fn) for fn in dir(child_str_model.syn1) if 'save' in fn.lower()] gets this error: 'FastTextTrainables' object has no attribute 'syn1'\n",
      "\n",
      "child_str_model.trainables\n",
      "['child_str_model.trainables._save_specials', 'child_str_model.trainables._smart_save', 'child_str_model.trainables.save']\n",
      "\n",
      "child_str_model.vocabulary\n",
      "['child_str_model.vocabulary._save_specials', 'child_str_model.vocabulary._smart_save', 'child_str_model.vocabulary.save']\n",
      "\n",
      "child_str_model.wv\n",
      "['child_str_model.wv._save_specials', 'child_str_model.wv._smart_save', 'child_str_model.wv.save', 'child_str_model.wv.save_word2vec_format']\n",
      "\n",
      "child_str_model.wv.wv\n",
      "['child_str_model.wv.wv._save_specials', 'child_str_model.wv.wv._smart_save', 'child_str_model.wv.wv.save', 'child_str_model.wv.wv.save_word2vec_format']\n"
     ]
    }
   ],
   "source": [
    "\n",
    "get_dir_tree('child_str_model', max_levels=3, contains_str='save')"
   ]
  },
  {
   "cell_type": "code",
   "execution_count": 109,
   "metadata": {},
   "outputs": [],
   "source": [
    "\n",
    "model_folder = os.path.join(s.data_folder, 'bin')\n",
    "os.makedirs(name=model_folder, exist_ok=True)\n",
    "file_path = os.path.join(model_folder, 'child_str_model.bin')\n",
    "child_str_model.save(file_path)"
   ]
  },
  {
   "cell_type": "code",
   "execution_count": null,
   "metadata": {},
   "outputs": [],
   "source": [
    "\n",
    "get_dir_tree('gensim', max_levels=3, contains_str='load')"
   ]
  },
  {
   "cell_type": "code",
   "execution_count": 112,
   "metadata": {},
   "outputs": [],
   "source": [
    "\n",
    "file_path = os.path.join(model_folder, 'child_str_model.bin')\n",
    "try:\n",
    "    model = gensim.models.FastText.load(file_path)\n",
    "except Exception as e:\n",
    "    print(str(e).strip())"
   ]
  },
  {
   "cell_type": "code",
   "execution_count": 113,
   "metadata": {},
   "outputs": [
    {
     "name": "stdout",
     "output_type": "stream",
     "text": [
      "['<div>', 'you', 'Yelp', 'of', 'and', 'business', 'all', 'are', 'is', 'to', 'the', 'or', 'in', '</div>', 'our', 'a', 'We', 'your', 'with', '<b>', '</b>', '<li>', '</li>', 'for', 'an', '<i>', '</i>', '<p>', '</p>']\n"
     ]
    }
   ],
   "source": [
    "\n",
    "words = list(model.wv.vocab)\n",
    "print(words)"
   ]
  },
  {
   "cell_type": "code",
   "execution_count": 114,
   "metadata": {},
   "outputs": [
    {
     "name": "stdout",
     "output_type": "stream",
     "text": [
      "[ 3.16559733e-03  4.59003844e-04  2.02944549e-03  9.73376882e-05\n",
      "  5.74608101e-04  2.97815795e-03  2.04127072e-03  2.73369107e-04\n",
      " -2.66325223e-04  4.43897257e-03  2.50901887e-03 -4.04052297e-03\n",
      "  2.48546821e-05  1.85793068e-03 -8.61687178e-04  3.41213949e-04\n",
      "  3.11226794e-03 -1.08533772e-03 -3.47532536e-04  2.98735267e-03\n",
      "  1.85359866e-04 -6.50101865e-04  8.90510157e-04  1.46537309e-03\n",
      "  3.94867640e-03  4.88541787e-04  1.08212931e-03 -7.39823503e-04\n",
      " -1.32856297e-03 -1.07695919e-03 -1.22094702e-04 -2.35289917e-03\n",
      " -1.76874324e-04  1.03924125e-04 -1.78486214e-03 -8.96472833e-04\n",
      " -1.82678655e-03 -2.77179154e-03 -2.03277171e-03  3.69834452e-04\n",
      "  4.58058435e-04  5.29359153e-04  1.16646755e-03  4.13486920e-03\n",
      "  1.78172078e-03  2.50954344e-03  2.40132492e-03 -2.72369618e-03\n",
      "  5.76260558e-04  2.22065340e-04  2.25788262e-03  1.80244120e-03\n",
      "  1.24615955e-03 -1.10660575e-03  4.72492160e-04  2.58919178e-03\n",
      "  2.71673989e-03  2.26415670e-03 -3.45842750e-03 -1.95123220e-03\n",
      "  6.22306194e-04  5.68034186e-04 -3.00773326e-03  1.23784237e-03\n",
      " -2.53139879e-03  1.40403351e-03  3.44825181e-04 -3.93044938e-05\n",
      " -3.04804067e-03 -2.56634434e-03 -1.81127340e-03 -4.88157209e-04\n",
      " -1.03109190e-03  8.63931375e-04  7.61362957e-04  3.85097857e-03\n",
      "  1.76847761e-03 -2.81295157e-03  8.23933457e-04 -1.65616174e-03\n",
      " -3.07502225e-04  1.79530866e-03 -1.06792140e-03  1.71327149e-03\n",
      " -1.19983382e-03  2.47071893e-03  9.98053001e-04 -2.75700074e-03\n",
      "  3.31455754e-04 -2.25397688e-03 -1.85891974e-03 -2.04970012e-03\n",
      " -1.71143678e-03  1.46543386e-03 -1.70511182e-03 -1.09360530e-03\n",
      " -1.38165546e-03 -1.54484424e-03  3.23279714e-03  1.89998289e-04]\n"
     ]
    }
   ],
   "source": [
    "\n",
    "print(model['</b>'])"
   ]
  },
  {
   "cell_type": "code",
   "execution_count": 148,
   "metadata": {},
   "outputs": [
    {
     "data": {
      "image/png": "[encoded data removed]",
      "text/plain": [
       "<Figure size 432x288 with 1 Axes>"
      ]
     },
     "metadata": {
      "needs_background": "light"
     },
     "output_type": "display_data"
    }
   ],
   "source": [
    "\n",
    "from sklearn.decomposition import PCA\n",
    "import matplotlib.pyplot as plt\n",
    "\n",
    "X = model[model.wv.vocab]\n",
    "pca = PCA(n_components=2)\n",
    "result = pca.fit_transform(X)\n",
    "PathCollection_obj = plt.scatter(result[:, 0], result[:, 1])\n",
    "for i, word in enumerate(model.wv.vocab):\n",
    "    plt.annotate(word, xy=(result[i, 0], result[i, 1]))"
   ]
  },
  {
   "cell_type": "code",
   "execution_count": 149,
   "metadata": {},
   "outputs": [
    {
     "data": {
      "image/png": "[encoded data removed]",
      "text/plain": [
       "<Figure size 1296x576 with 1 Axes>"
      ]
     },
     "metadata": {
      "needs_background": "light"
     },
     "output_type": "display_data"
    }
   ],
   "source": [
    "\n",
    "fig, ax = plt.subplots(figsize=(18, 8))\n",
    "array_list = []\n",
    "colors_list = ['g' if is_header else 'r' for is_header in child_str_df.is_header]\n",
    "for i, words_list in enumerate(sents_list):\n",
    "    vector_str = \"'] + model['\".join(words_list)\n",
    "    command_str = f\"model['{vector_str}']\"\n",
    "    array_list.append(eval(command_str))\n",
    "X = np.stack(array_list)\n",
    "result = pca.fit_transform(X)\n",
    "PathCollection_obj = plt.scatter(result[:, 0], result[:, 1], c=colors_list)\n",
    "for i, words_list in enumerate(sents_list):\n",
    "    if(colors_list[i] == 'g'):\n",
    "        sent = ' '.join([word for word in words_list[:3]])\n",
    "        plt.annotate(sent, xy=(result[i, 0], result[i, 1]))"
   ]
  },
  {
   "cell_type": "code",
   "execution_count": 126,
   "metadata": {},
   "outputs": [
    {
     "data": {
      "text/plain": [
       "array([ 1.13566825e-03, -1.19521806e-03,  2.02216883e-03,  4.19806689e-03,\n",
       "        1.03950792e-03,  2.55431188e-03,  4.85989079e-03, -2.34203390e-03,\n",
       "       -1.93312741e-03,  3.12384684e-03,  4.30097803e-04, -8.77971575e-03,\n",
       "        2.37291935e-03,  4.81667649e-03, -6.72513095e-04, -2.77757482e-03,\n",
       "        4.03882097e-03, -9.41429171e-04,  1.10824173e-03,  6.64661033e-03,\n",
       "       -1.03053125e-03, -2.51794024e-03, -1.06864423e-03,  1.36952382e-03,\n",
       "        4.27264953e-03, -7.38919480e-05,  2.73077306e-03, -4.07629227e-03,\n",
       "       -1.49800512e-03, -3.66452010e-03, -6.18109363e-04, -3.90836783e-03,\n",
       "       -8.96292273e-04, -1.45678234e-04, -7.01217586e-03, -3.08750104e-03,\n",
       "       -6.04883069e-03, -2.30329321e-03,  1.25553226e-04,  3.37534491e-03,\n",
       "        2.21362207e-04, -1.76350446e-03,  5.65739162e-03,  6.02672482e-03,\n",
       "        1.00051158e-03,  4.52467846e-03,  7.39596365e-03, -2.52135424e-03,\n",
       "        1.01900939e-03,  1.06829428e-03, -2.07741279e-04,  3.08264117e-03,\n",
       "       -1.22742367e-03, -1.03572127e-03,  8.24042247e-04,  1.11666974e-04,\n",
       "       -1.92201231e-04,  4.58332151e-03, -4.12167842e-03, -2.29442003e-03,\n",
       "        1.53416535e-03, -7.58121430e-04, -2.10960209e-03,  4.65343380e-03,\n",
       "       -3.95714818e-03, -1.65989064e-03,  2.91305780e-03, -2.55504134e-03,\n",
       "       -3.41181597e-03, -4.16155718e-03,  1.64049747e-03,  2.45829090e-03,\n",
       "       -4.69931867e-03,  2.38237157e-03, -1.33097288e-04,  3.01025435e-03,\n",
       "       -2.12577288e-04, -4.61852085e-03,  1.32349646e-03,  3.07450024e-03,\n",
       "        7.97052169e-04, -4.06171428e-04, -2.40728864e-03, -2.62561790e-03,\n",
       "       -2.21965648e-03,  3.67399585e-03,  2.12597894e-03, -4.02954873e-03,\n",
       "        1.78583816e-03, -3.55315860e-03, -4.45158104e-04, -4.72848816e-03,\n",
       "       -1.40774332e-03,  1.58637762e-03,  1.33403344e-04,  1.12300692e-03,\n",
       "       -3.04801716e-03, -4.26294375e-03,  3.89920105e-03,  1.54439989e-03],\n",
       "      dtype=float32)"
      ]
     },
     "execution_count": 126,
     "metadata": {},
     "output_type": "execute_result"
    }
   ],
   "source": [
    "\n",
    "model['<b>'] + model['</b>']"
   ]
  },
  {
   "cell_type": "markdown",
   "metadata": {},
   "source": [
    "\n",
    "----"
   ]
  },
  {
   "cell_type": "code",
   "execution_count": null,
   "metadata": {},
   "outputs": [],
   "source": []
  },
  {
   "cell_type": "code",
   "execution_count": 28,
   "metadata": {},
   "outputs": [],
   "source": [
    "\n",
    "review_folder = os.path.join(s.saves_folder, 'txt')\n",
    "os.makedirs(name=review_folder, exist_ok=True)\n",
    "file_path = os.path.join(review_folder, 'child_str_model.txt')\n",
    "child_str_model.wv.save_word2vec_format(file_path, binary=False)"
   ]
  },
  {
   "cell_type": "code",
   "execution_count": 43,
   "metadata": {},
   "outputs": [
    {
     "data": {
      "text/plain": [
       "['pickle.PickleError', 'pickle.PicklingError', 'pickle.UnpicklingError']"
      ]
     },
     "execution_count": 43,
     "metadata": {},
     "output_type": "execute_result"
    }
   ],
   "source": [
    "\n",
    "import pickle\n",
    "\n",
    "[f'pickle.{fn}' for fn in dir(pickle) if 'err' in fn.lower()]"
   ]
  },
  {
   "cell_type": "code",
   "execution_count": 38,
   "metadata": {},
   "outputs": [
    {
     "data": {
      "text/plain": [
       "['gensim.utils.ClippedCorpus', 'gensim.utils.FakeDict', 'gensim.utils.InputQueue', 'gensim.utils.NO_CYTHON', 'gensim.utils.PAT_ALPHABETIC', 'gensim.utils.RE_HTML_ENTITY', 'gensim.utils.RULE_DEFAULT', 'gensim.utils.RULE_DISCARD', 'gensim.utils.RULE_KEEP', 'gensim.utils.RepeatCorpus', 'gensim.utils.RepeatCorpusNTimes', 'gensim.utils.SaveLoad', 'gensim.utils.SlicedCorpus', 'gensim.utils.any2unicode', 'gensim.utils.any2utf8', 'gensim.utils.call_on_class_only', 'gensim.utils.check_output', 'gensim.utils.chunkize', 'gensim.utils.chunkize_serial', 'gensim.utils.collections', 'gensim.utils.contextmanager', 'gensim.utils.copytree_hardlink', 'gensim.utils.cpu_count', 'gensim.utils.deaccent', 'gensim.utils.decode_htmlentities', 'gensim.utils.deprecated', 'gensim.utils.dict_from_corpus', 'gensim.utils.effective_n_jobs', 'gensim.utils.file_or_filename', 'gensim.utils.flatten', 'gensim.utils.getNS', 'gensim.utils.get_max_id', 'gensim.utils.get_my_ip', 'gensim.utils.get_random_state', 'gensim.utils.grouper', 'gensim.utils.has_pattern', 'gensim.utils.heapq', 'gensim.utils.identity', 'gensim.utils.ignore_deprecation_warning', 'gensim.utils.inspect', 'gensim.utils.is_corpus', 'gensim.utils.iter_windows', 'gensim.utils.iteritems', 'gensim.utils.iterkeys', 'gensim.utils.itertools', 'gensim.utils.itervalues', 'gensim.utils.keep_vocab_item', 'gensim.utils.lazy_flatten', 'gensim.utils.lemmatize', 'gensim.utils.logger', 'gensim.utils.logging', 'gensim.utils.merge_counts', 'gensim.utils.mock_data', 'gensim.utils.mock_data_row', 'gensim.utils.multiprocessing', 'gensim.utils.n2cp', 'gensim.utils.np', 'gensim.utils.numbers', 'gensim.utils.open', 'gensim.utils.open_file', 'gensim.utils.os', 'gensim.utils.pickle', 'gensim.utils.prune_vocab', 'gensim.utils.pyro_daemon', 'gensim.utils.qsize', 'gensim.utils.randfname', 'gensim.utils.random', 'gensim.utils.range', 'gensim.utils.re', 'gensim.utils.revdict', 'gensim.utils.safe_unichr', 'gensim.utils.sample_dict', 'gensim.utils.save_as_line_sentence', 'gensim.utils.scipy', 'gensim.utils.shutil', 'gensim.utils.simple_preprocess', 'gensim.utils.simple_tokenize', 'gensim.utils.smart_extension', 'gensim.utils.strided_windows', 'gensim.utils.string_types', 'gensim.utils.subprocess', 'gensim.utils.synchronous', 'gensim.utils.sys', 'gensim.utils.tempfile', 'gensim.utils.to_unicode', 'gensim.utils.to_utf8', 'gensim.utils.tokenize', 'gensim.utils.toptexts', 'gensim.utils.trim_vocab_by_freq', 'gensim.utils.u', 'gensim.utils.unichr', 'gensim.utils.unicode', 'gensim.utils.unicodedata', 'gensim.utils.unpickle', 'gensim.utils.upload_chunked', 'gensim.utils.warnings', 'gensim.utils.with_statement', 'gensim.utils.wraps']"
      ]
     },
     "execution_count": 38,
     "metadata": {},
     "output_type": "execute_result"
    }
   ],
   "source": [
    "\n",
    "[f'gensim.utils.{fn}' for fn in dir(gensim.utils) if not fn.startswith('_')]"
   ]
  },
  {
   "cell_type": "code",
   "execution_count": 41,
   "metadata": {},
   "outputs": [
    {
     "name": "stdout",
     "output_type": "stream",
     "text": [
      "C:\\Users\\dev\\Anaconda3\\envs\\jh\\python.exe -m pip install --upgrade cPickle\n"
     ]
    },
    {
     "name": "stderr",
     "output_type": "stream",
     "text": [
      "ERROR: Could not find a version that satisfies the requirement cPickle (from versions: none)\n",
      "ERROR: No matching distribution found for cPickle\n"
     ]
    }
   ],
   "source": [
    "# %load ../load_magic/pip_install.txt\n",
    "\n",
    "import sys\n",
    "\n",
    "# After this has completed, run these commands in a PowerShell window:\n",
    "# cd $Env:UserProfile\\Documents\\Repositories\\job-hunting\\ps1\n",
    "# clear\n",
    "# .\\create_job_hunting_temp_environment_yml_file.ps1\n",
    "command_str = f'{sys.executable} -m pip install --upgrade xxxxxxx'\n",
    "print(command_str)\n",
    "!{command_str}"
   ]
  },
  {
   "cell_type": "code",
   "execution_count": null,
   "metadata": {},
   "outputs": [],
   "source": []
  }
 ],
 "metadata": {
  "kernelspec": {
   "display_name": "Job Hunting (Python 3.9.0)",
   "language": "python",
   "name": "jh"
  },
  "language_info": {
   "codemirror_mode": {
    "name": "ipython",
    "version": 3
   },
   "file_extension": ".py",
   "mimetype": "text/x-python",
   "name": "python",
   "nbconvert_exporter": "python",
   "pygments_lexer": "ipython3",
   "version": "3.9.0"
  }
 },
 "nbformat": 4,
 "nbformat_minor": 4
}
