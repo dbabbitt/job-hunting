{
 "cells": [
  {
   "cell_type": "code",
   "execution_count": 1,
   "id": "83d91cf5-f866-41a9-8dbd-af1811c7f7af",
   "metadata": {},
   "outputs": [],
   "source": [
    "\n",
    "file_path = r'C:\\Users\\DaveBabbitt\\Downloads\\Job Hunting Demo.py'\n",
    "with open(file_path, 'r') as text_io:\n",
    "    demo_str = text_io.read()"
   ]
  },
  {
   "cell_type": "code",
   "execution_count": 4,
   "id": "e443c8a4-6049-49c9-8c98-f4b72431e7d8",
   "metadata": {},
   "outputs": [],
   "source": [
    "\n",
    "import pyperclip\n",
    "\n",
    "pyperclip.copy(demo_str)"
   ]
  },
  {
   "cell_type": "code",
   "execution_count": 9,
   "id": "faeef236-3a6d-41ba-a11f-7cea07539812",
   "metadata": {},
   "outputs": [],
   "source": [
    "\n",
    "import re\n",
    "import networkx as nx\n",
    "\n",
    "def_regex = re.compile(r'\\bdef ([\\w_]{3,})')\n",
    "notebook_digraph = nx.DiGraph(env='jh')\n",
    "for match in def_regex.finditer(demo_str):\n",
    "    # match start: match.start()\n",
    "    # match end (exclusive): match.end()\n",
    "    # matched text: match.group()\n",
    "    node_name = match.group().split(' ')[1]\n",
    "    notebook_digraph.add_node(node_name)"
   ]
  },
  {
   "cell_type": "code",
   "execution_count": 10,
   "id": "cb44b356-4bf7-46ff-ab78-99021247e17d",
   "metadata": {},
   "outputs": [
    {
     "name": "stdout",
     "output_type": "stream",
     "text": [
      "clean_email\n",
      "get_percent_fit\n",
      "print_loc_computation\n",
      "get_predictions_and_counts\n",
      "get_quals_str\n",
      "print_fit_job\n",
      "qual_sum\n",
      "print_job_description\n",
      "un_msword_ify\n",
      "get_quals_list\n",
      "print_emails\n",
      "add_new_orr\n",
      "get_basic_quals\n",
      "predict_job_hunt_percent_fit\n"
     ]
    }
   ],
   "source": [
    "\n",
    "for node_name in notebook_digraph.nodes():\n",
    "    print(node_name)"
   ]
  },
  {
   "cell_type": "code",
   "execution_count": 11,
   "id": "fe06bfc1-02be-49ab-8634-d9f6f9274820",
   "metadata": {},
   "outputs": [],
   "source": [
    "\n",
    "notebook_digraph.add_edge('print_emails', 'clean_email', weight=2)"
   ]
  },
  {
   "cell_type": "code",
   "execution_count": 12,
   "id": "c3553d31-af7c-4be1-9bc9-126dfbea443f",
   "metadata": {},
   "outputs": [],
   "source": [
    "\n",
    "notebook_digraph.add_edge('print_emails', 'get_percent_fit', weight=1)\n",
    "notebook_digraph.add_edge('get_basic_quals', 'get_percent_fit', weight=1)"
   ]
  },
  {
   "cell_type": "code",
   "execution_count": 13,
   "id": "d64358b3-acfd-46a5-a8f5-df7c0281dbb3",
   "metadata": {},
   "outputs": [],
   "source": [
    "\n",
    "notebook_digraph.add_edge('print_fit_job', 'print_loc_computation', weight=1)\n",
    "notebook_digraph.add_edge('get_basic_quals', 'print_loc_computation', weight=1)"
   ]
  },
  {
   "cell_type": "code",
   "execution_count": 14,
   "id": "2eb1cb99-dce2-4281-bbd2-fff238dbcdbb",
   "metadata": {},
   "outputs": [],
   "source": [
    "\n",
    "notebook_digraph.add_edge('print_fit_job', 'get_quals_str', weight=1)\n",
    "notebook_digraph.add_edge('get_basic_quals', 'get_quals_str', weight=1)"
   ]
  },
  {
   "cell_type": "code",
   "execution_count": 15,
   "id": "6db71e06-dea8-4788-8e12-7f0751c6bf1f",
   "metadata": {},
   "outputs": [],
   "source": [
    "\n",
    "notebook_digraph.add_edge('get_quals_list', 'un_msword_ify', weight=2)\n",
    "notebook_digraph.add_edge('add_new_orr', 'un_msword_ify', weight=1)"
   ]
  },
  {
   "cell_type": "code",
   "execution_count": 16,
   "id": "0ee76cf6-8652-4670-8014-3c6bcc881a53",
   "metadata": {},
   "outputs": [],
   "source": [
    "\n",
    "notebook_digraph.add_edge('print_fit_job', 'get_quals_list', weight=1)\n",
    "notebook_digraph.add_edge('print_job_description', 'get_quals_list', weight=1)\n",
    "notebook_digraph.add_edge('print_emails', 'get_quals_list', weight=1)\n",
    "notebook_digraph.add_edge('get_basic_quals', 'get_quals_list', weight=1)"
   ]
  },
  {
   "cell_type": "code",
   "execution_count": 17,
   "id": "2adb214e-403d-4054-9c07-1b260cb91ed2",
   "metadata": {},
   "outputs": [],
   "source": [
    "\n",
    "notebook_digraph.add_edge('print_fit_job', 'predict_job_hunt_percent_fit', weight=1)\n",
    "notebook_digraph.add_edge('qual_str', 'predict_job_hunt_percent_fit', weight=1)"
   ]
  },
  {
   "cell_type": "code",
   "execution_count": 18,
   "id": "7b5529cd-9d60-4415-8e1d-5de23e9e44ca",
   "metadata": {},
   "outputs": [],
   "source": [
    "\n",
    "import numpy as np\n",
    "import matplotlib.patches as mpatches\n",
    "\n",
    "def plot_graph(G, layout_dict, cmap='Access', fig_height=18):\n",
    "    node_count = len(layout_dict)\n",
    "    y_position_list = list(range(node_count+1))\n",
    "    cut_array = pd.cut(np.array([-1.0, 1.0]), node_count+1, retbins=True)[1]\n",
    "    for i, node in enumerate(layout_dict.keys()):\n",
    "\n",
    "        # Find the y position from the list that is closest to the cut\n",
    "        y_coord = min(y_position_list, key=lambda x: abs(x-cut_array[i+1]))\n",
    "        y_position_list.remove(y_coord)\n",
    "\n",
    "        layout_dict[node] = np.array((layout_dict[node][0], y_coord)).astype(np.float32)\n",
    "    \n",
    "    # Plot the graph using matplotlib\n",
    "    fig = plt.figure(figsize=(18, fig_height))\n",
    "    plt.axis('off')\n",
    "    plt.yticks([], [])\n",
    "    arrowstyle = mpatches.ArrowStyle.Simple(head_length=2., head_width=1.5, tail_width=0.05)\n",
    "    node_collection = nx.draw_networkx_nodes(G, pos=layout_dict, alpha=0.5)\n",
    "    weights = nx.get_edge_attributes(G, 'weight').values()\n",
    "    edge_collection = nx.draw_networkx_edges(G, pos=layout_dict, alpha=0.25, arrowstyle=arrowstyle,\n",
    "                                             edge_cmap=plt.get_cmap(cmap), edge_vmin=min(weights), edge_vmax=max(weights),\n",
    "                                             edge_color=list(weights))\n",
    "    labels_collection = nx.draw_networkx_labels(G, pos=layout_dict, font_size=12)\n",
    "    axes_subplot = fig.get_axes()[0]\n",
    "    xlim_tuple = axes_subplot.set_xlim(left=-1.25, right=1.25)"
   ]
  },
  {
   "cell_type": "code",
   "execution_count": 31,
   "id": "cb468d58-a6b2-48a9-9afb-e82f175c492b",
   "metadata": {},
   "outputs": [
    {
     "data": {
      "text/plain": [
       "OutEdgeView([('print_fit_job', 'print_loc_computation'), ('print_fit_job', 'get_quals_str'), ('print_fit_job', 'get_quals_list'), ('print_fit_job', 'predict_job_hunt_percent_fit'), ('print_job_description', 'get_quals_list'), ('get_quals_list', 'un_msword_ify'), ('print_emails', 'clean_email'), ('print_emails', 'get_percent_fit'), ('print_emails', 'get_quals_list'), ('add_new_orr', 'un_msword_ify'), ('get_basic_quals', 'get_percent_fit'), ('get_basic_quals', 'print_loc_computation'), ('get_basic_quals', 'get_quals_str'), ('get_basic_quals', 'get_quals_list'), ('qual_str', 'predict_job_hunt_percent_fit')])"
      ]
     },
     "execution_count": 31,
     "metadata": {},
     "output_type": "execute_result"
    }
   ],
   "source": [
    "\n",
    "notebook_digraph.edges()"
   ]
  },
  {
   "cell_type": "code",
   "execution_count": 24,
   "id": "adda44a0-fa63-43ea-b199-c967ae6d9301",
   "metadata": {},
   "outputs": [
    {
     "ename": "NetworkXError",
     "evalue": "random_state_index is incorrect",
     "output_type": "error",
     "traceback": [
      "\u001b[1;31m---------------------------------------------------------------------------\u001b[0m",
      "\u001b[1;31mIndexError\u001b[0m                                Traceback (most recent call last)",
      "\u001b[1;32mC:\\ProgramData\\Anaconda3\\lib\\site-packages\\networkx\\utils\\decorators.py\u001b[0m in \u001b[0;36m_random_state\u001b[1;34m(func, *args, **kwargs)\u001b[0m\n\u001b[0;32m    395\u001b[0m         \u001b[1;32mtry\u001b[0m\u001b[1;33m:\u001b[0m\u001b[1;33m\u001b[0m\u001b[1;33m\u001b[0m\u001b[0m\n\u001b[1;32m--> 396\u001b[1;33m             \u001b[0mrandom_state_arg\u001b[0m \u001b[1;33m=\u001b[0m \u001b[0margs\u001b[0m\u001b[1;33m[\u001b[0m\u001b[0mrandom_state_index\u001b[0m\u001b[1;33m]\u001b[0m\u001b[1;33m\u001b[0m\u001b[1;33m\u001b[0m\u001b[0m\n\u001b[0m\u001b[0;32m    397\u001b[0m         \u001b[1;32mexcept\u001b[0m \u001b[0mTypeError\u001b[0m \u001b[1;32mas\u001b[0m \u001b[0me\u001b[0m\u001b[1;33m:\u001b[0m\u001b[1;33m\u001b[0m\u001b[1;33m\u001b[0m\u001b[0m\n",
      "\u001b[1;31mIndexError\u001b[0m: tuple index out of range",
      "\nThe above exception was the direct cause of the following exception:\n",
      "\u001b[1;31mNetworkXError\u001b[0m                             Traceback (most recent call last)",
      "\u001b[1;32m<ipython-input-24-7d24357118ae>\u001b[0m in \u001b[0;36m<module>\u001b[1;34m\u001b[0m\n\u001b[1;32m----> 1\u001b[1;33m \u001b[0mfruchterman_reingold_layout_dict\u001b[0m \u001b[1;33m=\u001b[0m \u001b[0mnx\u001b[0m\u001b[1;33m.\u001b[0m\u001b[0mrandom_layout\u001b[0m\u001b[1;33m(\u001b[0m\u001b[0mnotebook_digraph\u001b[0m\u001b[1;33m)\u001b[0m\u001b[1;33m\u001b[0m\u001b[1;33m\u001b[0m\u001b[0m\n\u001b[0m\u001b[0;32m      2\u001b[0m \u001b[0mplot_graph\u001b[0m\u001b[1;33m(\u001b[0m\u001b[0mnotebook_digraph\u001b[0m\u001b[1;33m,\u001b[0m \u001b[0mfruchterman_reingold_layout_dict\u001b[0m\u001b[1;33m,\u001b[0m \u001b[0mcmap\u001b[0m\u001b[1;33m=\u001b[0m\u001b[1;34m'OrRd_r'\u001b[0m\u001b[1;33m,\u001b[0m \u001b[0mfig_height\u001b[0m\u001b[1;33m=\u001b[0m\u001b[1;36m9\u001b[0m\u001b[1;33m)\u001b[0m\u001b[1;33m\u001b[0m\u001b[1;33m\u001b[0m\u001b[0m\n",
      "\u001b[1;32mC:\\ProgramData\\Anaconda3\\lib\\site-packages\\decorator.py\u001b[0m in \u001b[0;36mfun\u001b[1;34m(*args, **kw)\u001b[0m\n\u001b[0;32m    229\u001b[0m             \u001b[1;32mif\u001b[0m \u001b[1;32mnot\u001b[0m \u001b[0mkwsyntax\u001b[0m\u001b[1;33m:\u001b[0m\u001b[1;33m\u001b[0m\u001b[1;33m\u001b[0m\u001b[0m\n\u001b[0;32m    230\u001b[0m                 \u001b[0margs\u001b[0m\u001b[1;33m,\u001b[0m \u001b[0mkw\u001b[0m \u001b[1;33m=\u001b[0m \u001b[0mfix\u001b[0m\u001b[1;33m(\u001b[0m\u001b[0margs\u001b[0m\u001b[1;33m,\u001b[0m \u001b[0mkw\u001b[0m\u001b[1;33m,\u001b[0m \u001b[0msig\u001b[0m\u001b[1;33m)\u001b[0m\u001b[1;33m\u001b[0m\u001b[1;33m\u001b[0m\u001b[0m\n\u001b[1;32m--> 231\u001b[1;33m             \u001b[1;32mreturn\u001b[0m \u001b[0mcaller\u001b[0m\u001b[1;33m(\u001b[0m\u001b[0mfunc\u001b[0m\u001b[1;33m,\u001b[0m \u001b[1;33m*\u001b[0m\u001b[1;33m(\u001b[0m\u001b[0mextras\u001b[0m \u001b[1;33m+\u001b[0m \u001b[0margs\u001b[0m\u001b[1;33m)\u001b[0m\u001b[1;33m,\u001b[0m \u001b[1;33m**\u001b[0m\u001b[0mkw\u001b[0m\u001b[1;33m)\u001b[0m\u001b[1;33m\u001b[0m\u001b[1;33m\u001b[0m\u001b[0m\n\u001b[0m\u001b[0;32m    232\u001b[0m     \u001b[0mfun\u001b[0m\u001b[1;33m.\u001b[0m\u001b[0m__name__\u001b[0m \u001b[1;33m=\u001b[0m \u001b[0mfunc\u001b[0m\u001b[1;33m.\u001b[0m\u001b[0m__name__\u001b[0m\u001b[1;33m\u001b[0m\u001b[1;33m\u001b[0m\u001b[0m\n\u001b[0;32m    233\u001b[0m     \u001b[0mfun\u001b[0m\u001b[1;33m.\u001b[0m\u001b[0m__doc__\u001b[0m \u001b[1;33m=\u001b[0m \u001b[0mfunc\u001b[0m\u001b[1;33m.\u001b[0m\u001b[0m__doc__\u001b[0m\u001b[1;33m\u001b[0m\u001b[1;33m\u001b[0m\u001b[0m\n",
      "\u001b[1;32mC:\\ProgramData\\Anaconda3\\lib\\site-packages\\networkx\\utils\\decorators.py\u001b[0m in \u001b[0;36m_random_state\u001b[1;34m(func, *args, **kwargs)\u001b[0m\n\u001b[0;32m    398\u001b[0m             \u001b[1;32mraise\u001b[0m \u001b[0mnx\u001b[0m\u001b[1;33m.\u001b[0m\u001b[0mNetworkXError\u001b[0m\u001b[1;33m(\u001b[0m\u001b[1;34m\"random_state_index must be an integer\"\u001b[0m\u001b[1;33m)\u001b[0m \u001b[1;32mfrom\u001b[0m \u001b[0me\u001b[0m\u001b[1;33m\u001b[0m\u001b[1;33m\u001b[0m\u001b[0m\n\u001b[0;32m    399\u001b[0m         \u001b[1;32mexcept\u001b[0m \u001b[0mIndexError\u001b[0m \u001b[1;32mas\u001b[0m \u001b[0me\u001b[0m\u001b[1;33m:\u001b[0m\u001b[1;33m\u001b[0m\u001b[1;33m\u001b[0m\u001b[0m\n\u001b[1;32m--> 400\u001b[1;33m             \u001b[1;32mraise\u001b[0m \u001b[0mnx\u001b[0m\u001b[1;33m.\u001b[0m\u001b[0mNetworkXError\u001b[0m\u001b[1;33m(\u001b[0m\u001b[1;34m\"random_state_index is incorrect\"\u001b[0m\u001b[1;33m)\u001b[0m \u001b[1;32mfrom\u001b[0m \u001b[0me\u001b[0m\u001b[1;33m\u001b[0m\u001b[1;33m\u001b[0m\u001b[0m\n\u001b[0m\u001b[0;32m    401\u001b[0m \u001b[1;33m\u001b[0m\u001b[0m\n\u001b[0;32m    402\u001b[0m         \u001b[1;31m# Create a numpy.random.RandomState instance\u001b[0m\u001b[1;33m\u001b[0m\u001b[1;33m\u001b[0m\u001b[1;33m\u001b[0m\u001b[0m\n",
      "\u001b[1;31mNetworkXError\u001b[0m: random_state_index is incorrect"
     ]
    }
   ],
   "source": [
    "\n",
    "fruchterman_reingold_layout_dict = nx.random_layout(notebook_digraph)\n",
    "plot_graph(notebook_digraph, fruchterman_reingold_layout_dict, cmap='OrRd_r', fig_height=9)"
   ]
  },
  {
   "cell_type": "code",
   "execution_count": 23,
   "id": "c6439f1e-aeb7-4ec9-bbc2-08fcc145e39d",
   "metadata": {},
   "outputs": [
    {
     "data": {
      "text/plain": [
       "['nx.bipartite_layout',\n",
       " 'nx.circular_layout',\n",
       " 'nx.fruchterman_reingold_layout',\n",
       " 'nx.kamada_kawai_layout',\n",
       " 'nx.layout',\n",
       " 'nx.multipartite_layout',\n",
       " 'nx.planar_layout',\n",
       " 'nx.random_layout',\n",
       " 'nx.rescale_layout',\n",
       " 'nx.rescale_layout_dict',\n",
       " 'nx.shell_layout',\n",
       " 'nx.spectral_layout',\n",
       " 'nx.spiral_layout',\n",
       " 'nx.spring_layout']"
      ]
     },
     "execution_count": 23,
     "metadata": {},
     "output_type": "execute_result"
    }
   ],
   "source": [
    "\n",
    "[f'nx.{fn}' for fn in dir(nx) if 'layout' in fn.lower()]"
   ]
  },
  {
   "cell_type": "code",
   "execution_count": 32,
   "id": "6f3a1ac8-a468-423e-af0d-96747e12ed28",
   "metadata": {},
   "outputs": [
    {
     "data": {
      "text/plain": [
       "['nx.draw',\n",
       " 'nx.draw_circular',\n",
       " 'nx.draw_kamada_kawai',\n",
       " 'nx.draw_networkx',\n",
       " 'nx.draw_networkx_edge_labels',\n",
       " 'nx.draw_networkx_edges',\n",
       " 'nx.draw_networkx_labels',\n",
       " 'nx.draw_networkx_nodes',\n",
       " 'nx.draw_planar',\n",
       " 'nx.draw_random',\n",
       " 'nx.draw_shell',\n",
       " 'nx.draw_spectral',\n",
       " 'nx.draw_spring',\n",
       " 'nx.drawing',\n",
       " 'nx.planar_drawing']"
      ]
     },
     "execution_count": 32,
     "metadata": {},
     "output_type": "execute_result"
    }
   ],
   "source": [
    "\n",
    "[f'nx.{fn}' for fn in dir(nx) if 'draw' in fn.lower()]"
   ]
  },
  {
   "cell_type": "code",
   "execution_count": 34,
   "id": "92cb1ce0-57d8-45a5-b135-f38f27e6ec52",
   "metadata": {},
   "outputs": [
    {
     "ename": "NetworkXError",
     "evalue": "random_state_index is incorrect",
     "output_type": "error",
     "traceback": [
      "\u001b[1;31m---------------------------------------------------------------------------\u001b[0m",
      "\u001b[1;31mIndexError\u001b[0m                                Traceback (most recent call last)",
      "\u001b[1;32mC:\\ProgramData\\Anaconda3\\lib\\site-packages\\networkx\\utils\\decorators.py\u001b[0m in \u001b[0;36m_random_state\u001b[1;34m(func, *args, **kwargs)\u001b[0m\n\u001b[0;32m    395\u001b[0m         \u001b[1;32mtry\u001b[0m\u001b[1;33m:\u001b[0m\u001b[1;33m\u001b[0m\u001b[1;33m\u001b[0m\u001b[0m\n\u001b[1;32m--> 396\u001b[1;33m             \u001b[0mrandom_state_arg\u001b[0m \u001b[1;33m=\u001b[0m \u001b[0margs\u001b[0m\u001b[1;33m[\u001b[0m\u001b[0mrandom_state_index\u001b[0m\u001b[1;33m]\u001b[0m\u001b[1;33m\u001b[0m\u001b[1;33m\u001b[0m\u001b[0m\n\u001b[0m\u001b[0;32m    397\u001b[0m         \u001b[1;32mexcept\u001b[0m \u001b[0mTypeError\u001b[0m \u001b[1;32mas\u001b[0m \u001b[0me\u001b[0m\u001b[1;33m:\u001b[0m\u001b[1;33m\u001b[0m\u001b[1;33m\u001b[0m\u001b[0m\n",
      "\u001b[1;31mIndexError\u001b[0m: tuple index out of range",
      "\nThe above exception was the direct cause of the following exception:\n",
      "\u001b[1;31mNetworkXError\u001b[0m                             Traceback (most recent call last)",
      "\u001b[1;32m<ipython-input-34-2863a17d4e3d>\u001b[0m in \u001b[0;36m<module>\u001b[1;34m\u001b[0m\n\u001b[1;32m----> 1\u001b[1;33m \u001b[0mnx\u001b[0m\u001b[1;33m.\u001b[0m\u001b[0mdraw_spring\u001b[0m\u001b[1;33m(\u001b[0m\u001b[0mnotebook_digraph\u001b[0m\u001b[1;33m)\u001b[0m\u001b[1;33m\u001b[0m\u001b[1;33m\u001b[0m\u001b[0m\n\u001b[0m",
      "\u001b[1;32mC:\\ProgramData\\Anaconda3\\lib\\site-packages\\networkx\\drawing\\nx_pylab.py\u001b[0m in \u001b[0;36mdraw_spring\u001b[1;34m(G, **kwargs)\u001b[0m\n\u001b[0;32m   1164\u001b[0m        \u001b[0mfunction\u001b[0m\u001b[1;33m.\u001b[0m\u001b[1;33m\u001b[0m\u001b[1;33m\u001b[0m\u001b[0m\n\u001b[0;32m   1165\u001b[0m     \"\"\"\n\u001b[1;32m-> 1166\u001b[1;33m     \u001b[0mdraw\u001b[0m\u001b[1;33m(\u001b[0m\u001b[0mG\u001b[0m\u001b[1;33m,\u001b[0m \u001b[0mspring_layout\u001b[0m\u001b[1;33m(\u001b[0m\u001b[0mG\u001b[0m\u001b[1;33m)\u001b[0m\u001b[1;33m,\u001b[0m \u001b[1;33m**\u001b[0m\u001b[0mkwargs\u001b[0m\u001b[1;33m)\u001b[0m\u001b[1;33m\u001b[0m\u001b[1;33m\u001b[0m\u001b[0m\n\u001b[0m\u001b[0;32m   1167\u001b[0m \u001b[1;33m\u001b[0m\u001b[0m\n\u001b[0;32m   1168\u001b[0m \u001b[1;33m\u001b[0m\u001b[0m\n",
      "\u001b[1;32mC:\\ProgramData\\Anaconda3\\lib\\site-packages\\decorator.py\u001b[0m in \u001b[0;36mfun\u001b[1;34m(*args, **kw)\u001b[0m\n\u001b[0;32m    229\u001b[0m             \u001b[1;32mif\u001b[0m \u001b[1;32mnot\u001b[0m \u001b[0mkwsyntax\u001b[0m\u001b[1;33m:\u001b[0m\u001b[1;33m\u001b[0m\u001b[1;33m\u001b[0m\u001b[0m\n\u001b[0;32m    230\u001b[0m                 \u001b[0margs\u001b[0m\u001b[1;33m,\u001b[0m \u001b[0mkw\u001b[0m \u001b[1;33m=\u001b[0m \u001b[0mfix\u001b[0m\u001b[1;33m(\u001b[0m\u001b[0margs\u001b[0m\u001b[1;33m,\u001b[0m \u001b[0mkw\u001b[0m\u001b[1;33m,\u001b[0m \u001b[0msig\u001b[0m\u001b[1;33m)\u001b[0m\u001b[1;33m\u001b[0m\u001b[1;33m\u001b[0m\u001b[0m\n\u001b[1;32m--> 231\u001b[1;33m             \u001b[1;32mreturn\u001b[0m \u001b[0mcaller\u001b[0m\u001b[1;33m(\u001b[0m\u001b[0mfunc\u001b[0m\u001b[1;33m,\u001b[0m \u001b[1;33m*\u001b[0m\u001b[1;33m(\u001b[0m\u001b[0mextras\u001b[0m \u001b[1;33m+\u001b[0m \u001b[0margs\u001b[0m\u001b[1;33m)\u001b[0m\u001b[1;33m,\u001b[0m \u001b[1;33m**\u001b[0m\u001b[0mkw\u001b[0m\u001b[1;33m)\u001b[0m\u001b[1;33m\u001b[0m\u001b[1;33m\u001b[0m\u001b[0m\n\u001b[0m\u001b[0;32m    232\u001b[0m     \u001b[0mfun\u001b[0m\u001b[1;33m.\u001b[0m\u001b[0m__name__\u001b[0m \u001b[1;33m=\u001b[0m \u001b[0mfunc\u001b[0m\u001b[1;33m.\u001b[0m\u001b[0m__name__\u001b[0m\u001b[1;33m\u001b[0m\u001b[1;33m\u001b[0m\u001b[0m\n\u001b[0;32m    233\u001b[0m     \u001b[0mfun\u001b[0m\u001b[1;33m.\u001b[0m\u001b[0m__doc__\u001b[0m \u001b[1;33m=\u001b[0m \u001b[0mfunc\u001b[0m\u001b[1;33m.\u001b[0m\u001b[0m__doc__\u001b[0m\u001b[1;33m\u001b[0m\u001b[1;33m\u001b[0m\u001b[0m\n",
      "\u001b[1;32mC:\\ProgramData\\Anaconda3\\lib\\site-packages\\networkx\\utils\\decorators.py\u001b[0m in \u001b[0;36m_random_state\u001b[1;34m(func, *args, **kwargs)\u001b[0m\n\u001b[0;32m    398\u001b[0m             \u001b[1;32mraise\u001b[0m \u001b[0mnx\u001b[0m\u001b[1;33m.\u001b[0m\u001b[0mNetworkXError\u001b[0m\u001b[1;33m(\u001b[0m\u001b[1;34m\"random_state_index must be an integer\"\u001b[0m\u001b[1;33m)\u001b[0m \u001b[1;32mfrom\u001b[0m \u001b[0me\u001b[0m\u001b[1;33m\u001b[0m\u001b[1;33m\u001b[0m\u001b[0m\n\u001b[0;32m    399\u001b[0m         \u001b[1;32mexcept\u001b[0m \u001b[0mIndexError\u001b[0m \u001b[1;32mas\u001b[0m \u001b[0me\u001b[0m\u001b[1;33m:\u001b[0m\u001b[1;33m\u001b[0m\u001b[1;33m\u001b[0m\u001b[0m\n\u001b[1;32m--> 400\u001b[1;33m             \u001b[1;32mraise\u001b[0m \u001b[0mnx\u001b[0m\u001b[1;33m.\u001b[0m\u001b[0mNetworkXError\u001b[0m\u001b[1;33m(\u001b[0m\u001b[1;34m\"random_state_index is incorrect\"\u001b[0m\u001b[1;33m)\u001b[0m \u001b[1;32mfrom\u001b[0m \u001b[0me\u001b[0m\u001b[1;33m\u001b[0m\u001b[1;33m\u001b[0m\u001b[0m\n\u001b[0m\u001b[0;32m    401\u001b[0m \u001b[1;33m\u001b[0m\u001b[0m\n\u001b[0;32m    402\u001b[0m         \u001b[1;31m# Create a numpy.random.RandomState instance\u001b[0m\u001b[1;33m\u001b[0m\u001b[1;33m\u001b[0m\u001b[1;33m\u001b[0m\u001b[0m\n",
      "\u001b[1;31mNetworkXError\u001b[0m: random_state_index is incorrect"
     ]
    }
   ],
   "source": [
    "\n",
    "nx.draw_spring(notebook_digraph)"
   ]
  },
  {
   "cell_type": "code",
   "execution_count": 28,
   "id": "483c1d40-7f14-4a06-bee5-4d1cb9bcee05",
   "metadata": {},
   "outputs": [
    {
     "data": {
      "text/plain": [
       "['nx.add_edge',\n",
       " 'nx.add_edges_from',\n",
       " 'nx.add_node',\n",
       " 'nx.add_nodes_from',\n",
       " 'nx.add_weighted_edges_from',\n",
       " 'nx.adj',\n",
       " 'nx.adjacency',\n",
       " 'nx.adjlist_inner_dict_factory',\n",
       " 'nx.adjlist_outer_dict_factory',\n",
       " 'nx.clear',\n",
       " 'nx.clear_edges',\n",
       " 'nx.copy',\n",
       " 'nx.degree',\n",
       " 'nx.edge_attr_dict_factory',\n",
       " 'nx.edge_subgraph',\n",
       " 'nx.edges',\n",
       " 'nx.get_edge_data',\n",
       " 'nx.graph',\n",
       " 'nx.graph_attr_dict_factory',\n",
       " 'nx.has_edge',\n",
       " 'nx.has_node',\n",
       " 'nx.has_predecessor',\n",
       " 'nx.has_successor',\n",
       " 'nx.in_degree',\n",
       " 'nx.in_edges',\n",
       " 'nx.is_directed',\n",
       " 'nx.is_multigraph',\n",
       " 'nx.name',\n",
       " 'nx.nbunch_iter',\n",
       " 'nx.neighbors',\n",
       " 'nx.node_attr_dict_factory',\n",
       " 'nx.node_dict_factory',\n",
       " 'nx.nodes',\n",
       " 'nx.number_of_edges',\n",
       " 'nx.number_of_nodes',\n",
       " 'nx.order',\n",
       " 'nx.out_degree',\n",
       " 'nx.out_edges',\n",
       " 'nx.pred',\n",
       " 'nx.predecessors',\n",
       " 'nx.remove_edge',\n",
       " 'nx.remove_edges_from',\n",
       " 'nx.remove_node',\n",
       " 'nx.remove_nodes_from',\n",
       " 'nx.reverse',\n",
       " 'nx.size',\n",
       " 'nx.subgraph',\n",
       " 'nx.succ',\n",
       " 'nx.successors',\n",
       " 'nx.to_directed',\n",
       " 'nx.to_directed_class',\n",
       " 'nx.to_undirected',\n",
       " 'nx.to_undirected_class',\n",
       " 'nx.update']"
      ]
     },
     "execution_count": 28,
     "metadata": {},
     "output_type": "execute_result"
    }
   ],
   "source": [
    "\n",
    "[f'nx.{fn}' for fn in dir(notebook_digraph) if not fn.startswith('_')]"
   ]
  },
  {
   "cell_type": "code",
   "execution_count": null,
   "id": "004883c4-1b6d-4345-884b-53aed324f4a2",
   "metadata": {},
   "outputs": [],
   "source": []
  }
 ],
 "metadata": {
  "kernelspec": {
   "display_name": "Python 3",
   "language": "python",
   "name": "python3"
  },
  "language_info": {
   "codemirror_mode": {
    "name": "ipython",
    "version": 3
   },
   "file_extension": ".py",
   "mimetype": "text/x-python",
   "name": "python",
   "nbconvert_exporter": "python",
   "pygments_lexer": "ipython3",
   "version": "3.8.8"
  }
 },
 "nbformat": 4,
 "nbformat_minor": 5
}
