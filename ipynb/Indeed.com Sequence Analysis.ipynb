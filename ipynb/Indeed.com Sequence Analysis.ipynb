{
 "cells": [
  {
   "cell_type": "code",
   "execution_count": 1,
   "metadata": {},
   "outputs": [
    {
     "name": "stdout",
     "output_type": "stream",
     "text": [
      "Pretty printing has been turned OFF\n"
     ]
    }
   ],
   "source": [
    "\n",
    "%pprint"
   ]
  },
  {
   "cell_type": "code",
   "execution_count": 2,
   "metadata": {},
   "outputs": [],
   "source": [
    "\n",
    "%run ../load_magic/storage.py\n",
    "s = Storage()\n",
    "assert s.pickle_exists('HEADER_PATTERN_DICT')\n",
    "HEADER_PATTERN_DICT = s.load_object('HEADER_PATTERN_DICT')"
   ]
  },
  {
   "cell_type": "markdown",
   "metadata": {},
   "source": [
    "\n",
    "I have a dictionary of variable-length sequences:"
   ]
  },
  {
   "cell_type": "code",
   "execution_count": 3,
   "metadata": {},
   "outputs": [
    {
     "data": {
      "text/plain": [
       "[('37bd1.html', 25), ('0bcce.html', 40), ('90364.html', 28), ('8f9c7.html', 24), ('d12d4.html', 73), ('46837.html', 37), ('adb92.html', 53), ('0a1e7.html', 69), ('da077.html', 43), ('9366a.html', 21), ('6ae4d.html', 37), ('f62ee.html', 19), ('73aee.html', 33), ('e090a.html', 35), ('8b093.html', 44)]"
      ]
     },
     "execution_count": 3,
     "metadata": {},
     "output_type": "execute_result"
    }
   ],
   "source": [
    "\n",
    "[(file_name[-10:], len(tag_is_header_list)) for file_name,\n",
    " tag_is_header_list in HEADER_PATTERN_DICT.items()]"
   ]
  },
  {
   "cell_type": "markdown",
   "metadata": {},
   "source": [
    "\n",
    "These contain a label for each item as to whether or not they are a subject heading:"
   ]
  },
  {
   "cell_type": "code",
   "execution_count": 4,
   "metadata": {},
   "outputs": [
    {
     "data": {
      "text/plain": [
       "[(None, True), ('<div', False), ('<div', False), (None, True), (None, False), ('<li', False), ('<li', False), ('<li', False), (None, False), (None, False), ('<li', False), ('<li', False), ('<li', False), (None, True), (None, True), ('<li', False), ('<li', False), ('<li', False), ('<div', False)]"
      ]
     },
     "execution_count": 4,
     "metadata": {},
     "output_type": "execute_result"
    }
   ],
   "source": [
    "\n",
    "HEADER_PATTERN_DICT[sorted([(file_name, len(tag_is_header_list)) for file_name,\n",
    "                            tag_is_header_list in HEADER_PATTERN_DICT.items()],\n",
    "                           key=lambda x: x[1])[0][0]]"
   ]
  },
  {
   "cell_type": "markdown",
   "metadata": {},
   "source": [
    "\n",
    "Is there some variable-length sequence vectorization I can do such that I can train a model to predict the label? What is the best way to train that model? Are there machine learning algorithms for this that allow training without the use of a GPU?"
   ]
  },
  {
   "cell_type": "markdown",
   "metadata": {},
   "source": [
    "\n",
    "----"
   ]
  },
  {
   "cell_type": "code",
   "execution_count": 41,
   "metadata": {},
   "outputs": [],
   "source": [
    "\n",
    "true_idx_dict = {}\n",
    "double_header_dict = {}\n",
    "for file_name, tag_is_header_list in HEADER_PATTERN_DICT.items():\n",
    "    true_idx_list = []\n",
    "    double_header_idx_list = []\n",
    "    for i, tag_tuple in enumerate(tag_is_header_list):\n",
    "        if tag_tuple[1]:\n",
    "            true_idx_list.append(i)\n",
    "    for idx in true_idx_list:\n",
    "        next_idx = idx + 1\n",
    "        if next_idx < len(tag_is_header_list):\n",
    "            item_tag = tag_is_header_list[next_idx][0]\n",
    "            item_idx = next_idx + 1\n",
    "            while (item_idx < len(tag_is_header_list)) and (tag_is_header_list[item_idx][0] == item_tag):\n",
    "                item_tag = tag_is_header_list[item_idx][0]\n",
    "                item_idx = item_idx + 1\n",
    "            if (item_idx < len(tag_is_header_list)) and tag_is_header_list[item_idx][1]:\n",
    "                idx_tuple = (idx, item_idx)\n",
    "                double_header_idx_list.append(idx_tuple)\n",
    "    if len(double_header_idx_list):\n",
    "        double_header_dict[file_name] = double_header_idx_list\n",
    "    if len(true_idx_list):\n",
    "        true_idx_dict[file_name] = true_idx_list"
   ]
  },
  {
   "cell_type": "code",
   "execution_count": 38,
   "metadata": {},
   "outputs": [],
   "source": [
    "\n",
    "%run .../py/html_analysis.py"
   ]
  },
  {
   "cell_type": "code",
   "execution_count": 40,
   "metadata": {},
   "outputs": [],
   "source": [
    "\n",
    "from bs4 import BeautifulSoup\n",
    "from bs4.element import NavigableString\n",
    "\n",
    "file_name = sorted([(f, l) for f, l in double_header_dict.items()], key=lambda x: len(x[1]))[-1][0]\n",
    "file_path = os.path.join(SAVES_HTML_FOLDER, file_name)\n",
    "with open(file_path, 'r', encoding='utf-8') as f:\n",
    "    html_str = f.read()\n",
    "    job_soup = BeautifulSoup(html_str, 'lxml')\n",
    "    body_soup = job_soup.find_all(name='body')[0]\n",
    "    child_strs_list = get_navigable_children(body_soup, [])"
   ]
  },
  {
   "cell_type": "code",
   "execution_count": 45,
   "metadata": {},
   "outputs": [],
   "source": [
    "\n",
    "from gensim.corpora.dictionary import Dictionary\n",
    "from gensim.models.ldamodel import LdaModel\n",
    "from gensim.models import FastText\n",
    "\n",
    "# Re-transform the bag-of-words and tf-idf from the new manual scores\n",
    "NAVIGABLE_PARENT_IS_HEADER_DICT = s.load_object('NAVIGABLE_PARENT_IS_HEADER_DICT')\n",
    "rows_list = [{'navigable_parent': navigable_parent, 'is_header': is_header} for navigable_parent, is_header in NAVIGABLE_PARENT_IS_HEADER_DICT.items()]\n",
    "child_str_df = pd.DataFrame(rows_list)\n",
    "\n",
    "assert child_str_df.shape[0]\n",
    "sents_list = child_str_df.navigable_parent.tolist()\n",
    "CLF_NAME = 'LdaModel'\n",
    "#CLF_NAME = 'LogisticRegression'"
   ]
  },
  {
   "cell_type": "code",
   "execution_count": 46,
   "metadata": {},
   "outputs": [],
   "source": [
    "\n",
    "if(CLF_NAME == 'LdaModel'):\n",
    "    \n",
    "    # Build model with tokenized words\n",
    "    tokenized_sents_list = [regex_tokenizer(sent_str) for sent_str in sents_list]\n",
    "    \n",
    "    # Create a corpus from a list of texts\n",
    "    HEADERS_DICTIONARY = Dictionary(tokenized_sents_list)\n",
    "    headers_corpus = [HEADERS_DICTIONARY.doc2bow(tag_str) for tag_str in tokenized_sents_list]\n",
    "    \n",
    "    # Train the model on the corpus\n",
    "    LDA = LdaModel(corpus=headers_corpus, num_topics=2)\n",
    "    \n",
    "else:\n",
    "    \n",
    "    # Bag-of-words\n",
    "    cv = CountVectorizer(**{'analyzer': 'word', 'binary': False, 'decode_error': 'strict', 'lowercase': False, 'max_df': 1.0,\n",
    "                            'max_features': None, 'min_df': 0.0, 'ngram_range': (1, 5), 'stop_words': None, 'strip_accents': 'ascii',\n",
    "                            'tokenizer': regex_tokenizer})\n",
    "    \n",
    "    # The shape of the count vector here should be n sentences * m unique words\n",
    "    bow_matrix = cv.fit_transform(sents_list)\n",
    "    \n",
    "    # Store the resulting vocabulary; the numbers are not counts, they are the position in the sparse vector\n",
    "    s.store_objects(cs_cv_vocab=cv.vocabulary_)\n",
    "    \n",
    "    # Tf-idf must get from Bag-of-words first\n",
    "    tt = TfidfTransformer(**{'norm': 'l1', 'smooth_idf': True, 'sublinear_tf': False, 'use_idf': True})\n",
    "    tfidf_matrix = tt.fit_transform(bow_matrix)\n",
    "    s.store_objects(CS_TT=tt)\n",
    "    \n",
    "    # Re-train the classifier\n",
    "    X = tfidf_matrix.toarray()\n",
    "    y = child_str_df.is_header.to_numpy()\n",
    "    FIT_ESTIMATORS_DICT = s.load_object('FIT_ESTIMATORS_DICT')\n",
    "    child_str_clf = FIT_ESTIMATORS_DICT[CLF_NAME]\n",
    "    child_str_clf.fit(X, y)\n",
    "    FIT_ESTIMATORS_DICT[CLF_NAME] = child_str_clf\n",
    "    s.store_objects(child_str_clf=child_str_clf, FIT_ESTIMATORS_DICT=FIT_ESTIMATORS_DICT)\n",
    "    \n",
    "    # Re-calibrate the inference engine\n",
    "    cs_cv_vocab = s.load_object('cs_cv_vocab')\n",
    "    CS_CV = CountVectorizer(vocabulary=cs_cv_vocab)\n",
    "    CS_CV._validate_vocabulary()\n",
    "    CS_TT = s.load_object('CS_TT')"
   ]
  },
  {
   "cell_type": "code",
   "execution_count": 67,
   "metadata": {},
   "outputs": [],
   "source": [
    "\n",
    "%run ../py/html_analysis.py"
   ]
  },
  {
   "cell_type": "code",
   "execution_count": 68,
   "metadata": {},
   "outputs": [
    {
     "data": {
      "image/png": "[encoded data removed]",
      "text/plain": [
       "<Figure size 1296x180 with 1 Axes>"
      ]
     },
     "metadata": {
      "needs_background": "light"
     },
     "output_type": "display_data"
    }
   ],
   "source": [
    "\n",
    "import matplotlib.pyplot as plt\n",
    "\n",
    "rows_list = []\n",
    "for child_str in child_strs_list:\n",
    "    y_predict_proba = predict_percent_fit([child_str])[0]\n",
    "    if(CLF_NAME == 'LdaModel'):\n",
    "        X = 1.0 - y_predict_proba\n",
    "    else:\n",
    "        X = y_predict_proba[0][1]\n",
    "    row_dict = {'probability': X}\n",
    "    if child_str in NAVIGABLE_PARENT_IS_HEADER_DICT:\n",
    "        row_dict['actual'] = NAVIGABLE_PARENT_IS_HEADER_DICT[child_str] * 1.0\n",
    "    else:\n",
    "        row_dict['actual'] = np.nan\n",
    "    rows_list.append(row_dict)\n",
    "ax = plt.figure(figsize=(18, 2.5)).add_subplot(1, 1, 1)\n",
    "df = pd.DataFrame(rows_list)\n",
    "AxesSubplot_obj = df.plot.line(ax=ax)\n",
    "ax.axis('off')\n",
    "for i, child_str in enumerate(child_strs_list):\n",
    "    ax.annotate(f'{child_str[:20]}...', (i, rows_list[i]['probability']), ha='left', rotation=90)"
   ]
  },
  {
   "cell_type": "markdown",
   "metadata": {},
   "source": [
    "\n",
    "----"
   ]
  },
  {
   "cell_type": "code",
   "execution_count": 2,
   "metadata": {},
   "outputs": [],
   "source": [
    "\n",
    "from IPython.display import clear_output\n",
    "from bs4 import BeautifulSoup\n",
    "from bs4.element import NavigableString\n",
    "from sklearn.feature_extraction.text import CountVectorizer\n",
    "from sklearn.feature_extraction.text import TfidfTransformer\n",
    "from sklearn.linear_model import LogisticRegression\n",
    "from urllib.parse import urlparse, parse_qs\n",
    "import numpy as np\n",
    "import os\n",
    "import random\n",
    "import re\n",
    "import requests\n",
    "from gensim.corpora.dictionary import Dictionary\n",
    "from gensim.models.ldamodel import LdaModel\n",
    "from gensim.models import FastText\n",
    "\n",
    "%run ../load_magic/storage.py\n",
    "s = Storage()\n",
    "\n",
    "LT_REGEX = re.compile(r'\\s+<')\n",
    "GT_REGEX = re.compile(r'>\\s+')\n",
    "SAVES_HTML_FOLDER = os.path.join(s.saves_folder, 'html')"
   ]
  },
  {
   "cell_type": "code",
   "execution_count": 3,
   "metadata": {},
   "outputs": [],
   "source": [
    "\n",
    "%run .../py/html_analysis.py"
   ]
  },
  {
   "cell_type": "code",
   "execution_count": 5,
   "metadata": {},
   "outputs": [],
   "source": [
    "\n",
    "def update_child_strs_list_dictionary(child_strs_list_dict=None, navigable_parent_is_header_dict=None):\n",
    "    if navigable_parent_is_header_dict is None:\n",
    "        navigable_parent_is_header_dict = s.load_object('navigable_parent_is_header_dict')\n",
    "    if child_strs_list_dict is None:\n",
    "        files_list = os.listdir(SAVES_HTML_FOLDER)\n",
    "        child_strs_list_dict = {}\n",
    "        for file_name in files_list:\n",
    "            file_path = os.path.join(SAVES_HTML_FOLDER, file_name)\n",
    "            with open(file_path, 'r', encoding='utf-8') as f:\n",
    "                html_str = f.read()\n",
    "                job_soup = BeautifulSoup(html_str, 'lxml')\n",
    "                body_soup = job_soup.find_all(name='body')[0]\n",
    "                child_strs_list = get_navigable_children(body_soup, [])\n",
    "            if not len(child_strs_list):\n",
    "                os.remove(file_path)\n",
    "            child_strs_list = [child_str for child_str in child_strs_list if child_str not in navigable_parent_is_header_dict]\n",
    "            child_strs_list_dict[file_name] = child_strs_list\n",
    "        \n",
    "        return child_strs_list_dict\n",
    "    \n",
    "    for file_name, child_strs_list in child_strs_list_dict.items():\n",
    "        child_strs_list = [child_str for child_str in child_strs_list if child_str not in navigable_parent_is_header_dict]\n",
    "        if not len(child_strs_list):\n",
    "            child_strs_list = child_strs_list_dict.pop(file_name)\n",
    "            break\n",
    "        else:\n",
    "            child_strs_list_dict[file_name] = child_strs_list\n",
    "    \n",
    "    return child_strs_list_dict"
   ]
  },
  {
   "cell_type": "code",
   "execution_count": 7,
   "metadata": {},
   "outputs": [],
   "source": [
    "\n",
    "%run ../py/html_analysis.py"
   ]
  },
  {
   "cell_type": "code",
   "execution_count": 9,
   "metadata": {},
   "outputs": [],
   "source": [
    "\n",
    "def print_dictionary_code():\n",
    "    NAVIGABLE_PARENT_IS_HEADER_DICT = s.load_object('NAVIGABLE_PARENT_IS_HEADER_DICT')\n",
    "    child_strs_list_dict = update_child_strs_list_dictionary(CHILD_STRS_LIST_DICT, NAVIGABLE_PARENT_IS_HEADER_DICT)\n",
    "    s.store_objects(CHILD_STRS_LIST_DICT=child_strs_list_dict)\n",
    "    for file_name, child_strs_list in child_strs_list_dict.items():\n",
    "        for tag_str in child_strs_list:\n",
    "            print()\n",
    "            print()\n",
    "            if \"'\" in tag_str:\n",
    "                print(f'''NAVIGABLE_PARENT_IS_HEADER_DICT[\"{tag_str}\"] = False''')\n",
    "            else:\n",
    "                print(f'''NAVIGABLE_PARENT_IS_HEADER_DICT['{tag_str}'] = False''')\n",
    "            print(f'''print(len(NAVIGABLE_PARENT_IS_HEADER_DICT.keys()))\\ns.store_objects(NAVIGABLE_PARENT_IS_HEADER_DICT=NAVIGABLE_PARENT_IS_HEADER_DICT)''')\n",
    "            break\n",
    "        break"
   ]
  },
  {
   "cell_type": "code",
   "execution_count": 10,
   "metadata": {},
   "outputs": [],
   "source": [
    "\n",
    "def get_dictionary_code():\n",
    "    output_str = ''\n",
    "    NAVIGABLE_PARENT_IS_HEADER_DICT = s.load_object('NAVIGABLE_PARENT_IS_HEADER_DICT')\n",
    "    child_strs_list_dict = update_child_strs_list_dictionary(CHILD_STRS_LIST_DICT, NAVIGABLE_PARENT_IS_HEADER_DICT)\n",
    "    s.store_objects(CHILD_STRS_LIST_DICT=child_strs_list_dict)\n",
    "    for file_name, child_strs_list in child_strs_list_dict.items():\n",
    "        for tag_str in child_strs_list:\n",
    "            output_str += '\\n'\n",
    "            if \"'\" in tag_str:\n",
    "                #output_str += f'''assert \"{tag_str}\" not in NAVIGABLE_PARENT_IS_HEADER_DICT\\n'''\n",
    "                output_str += f'''NAVIGABLE_PARENT_IS_HEADER_DICT[\"{tag_str}\"] = False\\n'''\n",
    "            else:\n",
    "                #output_str += f'''assert '{tag_str}' not in NAVIGABLE_PARENT_IS_HEADER_DICT\\n'''\n",
    "                output_str += f'''NAVIGABLE_PARENT_IS_HEADER_DICT['{tag_str}'] = False\\n'''\n",
    "            output_str += f'''print(len(NAVIGABLE_PARENT_IS_HEADER_DICT.keys()))\\ns.store_objects(NAVIGABLE_PARENT_IS_HEADER_DICT=NAVIGABLE_PARENT_IS_HEADER_DICT)'''\n",
    "            break\n",
    "        break\n",
    "    \n",
    "    return output_str\n",
    "ZMQInteractiveShell_obj = get_ipython()"
   ]
  },
  {
   "cell_type": "code",
   "execution_count": 11,
   "metadata": {},
   "outputs": [
    {
     "name": "stdout",
     "output_type": "stream",
     "text": [
      "Retraining complete\n"
     ]
    }
   ],
   "source": [
    "\n",
    "%run ../py/html_analysis.py\n",
    "print('Retraining complete')"
   ]
  },
  {
   "cell_type": "code",
   "execution_count": 12,
   "metadata": {},
   "outputs": [],
   "source": [
    "\n",
    "files_list = os.listdir(SAVES_HTML_FOLDER)"
   ]
  },
  {
   "cell_type": "markdown",
   "metadata": {},
   "source": [
    "\n",
    "----\n",
    "# Download Job HTML"
   ]
  },
  {
   "cell_type": "code",
   "execution_count": 12,
   "metadata": {},
   "outputs": [
    {
     "name": "stdout",
     "output_type": "stream",
     "text": [
      "Pickling to C:\\Users\\dev\\Documents\\Repositories\\job-hunting\\saves\\pickle\\HEADER_PATTERN_DICT.pickle\n",
      "Pickling to C:\\Users\\dev\\Documents\\Repositories\\job-hunting\\saves\\pickle\\HEADER_PATTERN_DICT.pickle\n",
      "Pickling to C:\\Users\\dev\\Documents\\Repositories\\job-hunting\\saves\\pickle\\HEADER_PATTERN_DICT.pickle\n",
      "Pickling to C:\\Users\\dev\\Documents\\Repositories\\job-hunting\\saves\\pickle\\HEADER_PATTERN_DICT.pickle\n",
      "Pickling to C:\\Users\\dev\\Documents\\Repositories\\job-hunting\\saves\\pickle\\HEADER_PATTERN_DICT.pickle\n",
      "Pickling to C:\\Users\\dev\\Documents\\Repositories\\job-hunting\\saves\\pickle\\HEADER_PATTERN_DICT.pickle\n",
      "Pickling to C:\\Users\\dev\\Documents\\Repositories\\job-hunting\\saves\\pickle\\HEADER_PATTERN_DICT.pickle\n",
      "Pickling to C:\\Users\\dev\\Documents\\Repositories\\job-hunting\\saves\\pickle\\HEADER_PATTERN_DICT.pickle\n",
      "Pickling to C:\\Users\\dev\\Documents\\Repositories\\job-hunting\\saves\\pickle\\HEADER_PATTERN_DICT.pickle\n",
      "Pickling to C:\\Users\\dev\\Documents\\Repositories\\job-hunting\\saves\\pickle\\HEADER_PATTERN_DICT.pickle\n",
      "Pickling to C:\\Users\\dev\\Documents\\Repositories\\job-hunting\\saves\\pickle\\HEADER_PATTERN_DICT.pickle\n",
      "Pickling to C:\\Users\\dev\\Documents\\Repositories\\job-hunting\\saves\\pickle\\HEADER_PATTERN_DICT.pickle\n",
      "Pickling to C:\\Users\\dev\\Documents\\Repositories\\job-hunting\\saves\\pickle\\HEADER_PATTERN_DICT.pickle\n",
      "Pickling to C:\\Users\\dev\\Documents\\Repositories\\job-hunting\\saves\\pickle\\HEADER_PATTERN_DICT.pickle\n",
      "Pickling to C:\\Users\\dev\\Documents\\Repositories\\job-hunting\\saves\\pickle\\HEADER_PATTERN_DICT.pickle\n"
     ]
    }
   ],
   "source": [
    "\n",
    "import re\n",
    "%run ../load_magic/storage.py\n",
    "s = Storage()\n",
    "\n",
    "SAVES_HTML_FOLDER = os.path.join(s.saves_folder, 'html')\n",
    "files_list = os.listdir(SAVES_HTML_FOLDER)\n",
    "\n",
    "%run ../py/html_analysis.py\n",
    "\n",
    "assert s.pickle_exists('CHILD_STRS_LIST_DICT')\n",
    "CHILD_STRS_LIST_DICT = s.load_object('CHILD_STRS_LIST_DICT')\n",
    "assert s.pickle_exists('NAVIGABLE_PARENT_IS_HEADER_DICT')\n",
    "NAVIGABLE_PARENT_IS_HEADER_DICT = s.load_object('NAVIGABLE_PARENT_IS_HEADER_DICT')\n",
    "HEADER_PATTERN_DICT = {}\n",
    "for file_name in files_list:\n",
    "    if file_name in CHILD_STRS_LIST_DICT:\n",
    "        child_strs_list = CHILD_STRS_LIST_DICT[file_name]\n",
    "    else:\n",
    "        file_path = os.path.join(SAVES_HTML_FOLDER, file_name)\n",
    "        with open(file_path, 'r', encoding='utf-8') as f:\n",
    "            html_str = f.read()\n",
    "            job_soup = BeautifulSoup(html_str, 'lxml')\n",
    "            body_soup = job_soup.find_all(name='body')[0]\n",
    "            child_strs_list = get_navigable_children(body_soup, [])\n",
    "    navigable_parent = child_strs_list[0]\n",
    "    if navigable_parent not in NAVIGABLE_PARENT_IS_HEADER_DICT:\n",
    "        continue\n",
    "    child_tags_list = []\n",
    "    is_header_list = []\n",
    "    for navigable_parent in child_strs_list:\n",
    "        if navigable_parent not in NAVIGABLE_PARENT_IS_HEADER_DICT:\n",
    "            break\n",
    "        tokenized_sent = regex_tokenizer(navigable_parent)\n",
    "        first_token = tokenized_sent[0]\n",
    "        if first_token[0] == '<':\n",
    "            child_tags_list.append(first_token)\n",
    "        else:\n",
    "            child_tags_list.append('')\n",
    "        is_header = NAVIGABLE_PARENT_IS_HEADER_DICT[navigable_parent]\n",
    "        is_header_list.append(is_header)\n",
    "    if len(child_tags_list) == len(child_strs_list):\n",
    "        if file_name not in CHILD_STRS_LIST_DICT:\n",
    "            CHILD_STRS_LIST_DICT[file_name] = child_strs_list\n",
    "            s.store_objects(CHILD_STRS_LIST_DICT=CHILD_STRS_LIST_DICT)\n",
    "        if file_name not in HEADER_PATTERN_DICT:\n",
    "            tag_is_header_list = [(tag, is_header) for tag, is_header in zip(child_tags_list, is_header_list)]\n",
    "            HEADER_PATTERN_DICT[file_name] = tag_is_header_list\n",
    "            s.store_objects(HEADER_PATTERN_DICT=HEADER_PATTERN_DICT)"
   ]
  },
  {
   "cell_type": "code",
   "execution_count": 9,
   "metadata": {},
   "outputs": [],
   "source": [
    "\n",
    "%run ../load_magic/storage.py\n",
    "s = Storage()\n",
    "base_url = 'https://www.indeed.com'\n",
    "site_url = base_url + '/jobs'\n",
    "site_url = '?'.join([site_url, 'q=data+scientist'])\n",
    "site_url = '&'.join([site_url, 'jt=fulltime'])\n",
    "site_url = '&'.join([site_url, 'remotejob=032b3046-06a3-4876-8dfd-474eb5e7ed11'])\n",
    "site_url = '&'.join([site_url, 'vjk=ca16b63c03e40c57'])\n",
    "#site_url = '&'.join([site_url, 'pp=gQAPAAABdY7RMKwAAAABkQdgZAAkAQBEKPpaoZstIag3f-UtQXXG_HFSo1gfBp9OQ0B0TvZ4yMp4AAA'])\n",
    "start_num = 0\n",
    "try:\n",
    "    job_urls_list = s.load_object('job_urls_list')\n",
    "except:\n",
    "    job_urls_list = []\n",
    "    s.store_objects(job_urls_list=job_urls_list)\n",
    "space_regex = re.compile(r'[\\s<>:\"/\\\\\\|\\?\\*_]+')\n",
    "print_regex = re.compile(r'[\\x9c-\\x9d\\uf0b7\\u200b\\ufb02]+')\n",
    "s.encoding_type = ['latin1', 'iso8859-1', 'utf-8'][2]"
   ]
  },
  {
   "cell_type": "code",
   "execution_count": 21,
   "metadata": {},
   "outputs": [
    {
     "name": "stdout",
     "output_type": "stream",
     "text": [
      "Complete.\n"
     ]
    }
   ],
   "source": [
    "\n",
    "fccid_htmls_list = [fn.split('_')[-1] for fn in os.listdir(SAVES_HTML_FOLDER)]\n",
    "row_count = len(job_urls_list)\n",
    "for i, job_url in enumerate(job_urls_list):\n",
    "    qs = urlparse(job_url).query\n",
    "    query_dict = parse_qs(qs)\n",
    "    fccid_str = query_dict['fccid'][0]\n",
    "    file_name = f'{fccid_str}.html'\n",
    "    if file_name not in fccid_htmls_list:\n",
    "        job_page = requests.get(url=job_url)\n",
    "        job_soup = BeautifulSoup(job_page.content, 'lxml')\n",
    "        if not len(job_soup.text):\n",
    "            break\n",
    "        title_str = job_soup.find_all(name='title')[0].text.strip()\n",
    "        clear_output(wait=True)\n",
    "        print(f'{title_str}')\n",
    "        print(f'{i}/{row_count}: {job_url}')\n",
    "        if 'CAPTCHA' in title_str:\n",
    "            break\n",
    "        file_name = space_regex.sub('_', title_str)\n",
    "        file_name = f'{file_name}_{fccid_str}.html'\n",
    "        file_path = os.path.join(SAVES_HTML_FOLDER, file_name)\n",
    "        body_soup = job_soup.find_all(name='body')[0]\n",
    "        html_str = '<html><head><title>' + title_str + '</title></head><body>'\n",
    "        with open(file_path, 'w', encoding='utf-8') as f:\n",
    "            print(html_str, file=f)\n",
    "            for div_tag in body_soup.find_all(name='div', class_='jobsearch-JobComponent-description'):\n",
    "                for s in div_tag.select('template'):\n",
    "                    s.extract()\n",
    "                for s in div_tag.select('script'):\n",
    "                    s.extract()\n",
    "                div_str = div_tag.prettify(formatter='html')\n",
    "                div_str = print_regex.sub('', div_str)\n",
    "                print(div_str, file=f)\n",
    "            print('</body></html>', file=f)\n",
    "print('Complete.')"
   ]
  },
  {
   "cell_type": "code",
   "execution_count": 6,
   "metadata": {},
   "outputs": [],
   "source": [
    "\n",
    "while start_num < 3000:\n",
    "    page_url = '&'.join([site_url, f'start={start_num}'])\n",
    "    start_num += 10\n",
    "    site_page = requests.get(url=page_url)\n",
    "    page_soup = BeautifulSoup(site_page.content, 'lxml')\n",
    "    row_div_list = page_soup.find_all(name='div', class_=['row', 'result'])\n",
    "    row_count = len(row_div_list)\n",
    "    if row_count == 0:\n",
    "        print('Nothing left')\n",
    "        break\n",
    "    for i, row_div in enumerate(row_div_list):\n",
    "        link = row_div.find_all(name='a')[0]\n",
    "        if 'title' in link.attrs:\n",
    "            if 'href' in link.attrs:\n",
    "                job_url = base_url + link['href']\n",
    "                qs = urlparse(job_url).query\n",
    "                query_dict = parse_qs(qs)\n",
    "                if 'fccid' in query_dict:\n",
    "                    job_urls_list.append(job_url)\n",
    "                    s.store_objects(verbose=False, job_urls_list=job_urls_list)\n",
    "                    clear_output(wait=True)\n",
    "                    print(f'{page_url}')\n",
    "                    print(f'{i}/{row_count}: {job_url}')"
   ]
  },
  {
   "cell_type": "code",
   "execution_count": 22,
   "metadata": {},
   "outputs": [
    {
     "data": {
      "text/plain": [
       "273"
      ]
     },
     "execution_count": 22,
     "metadata": {},
     "output_type": "execute_result"
    }
   ],
   "source": [
    "\n",
    "fccid_htmls_list = [fn.split('_')[-1] for fn in os.listdir(SAVES_HTML_FOLDER)]\n",
    "len(fccid_htmls_list)"
   ]
  },
  {
   "cell_type": "code",
   "execution_count": 22,
   "metadata": {},
   "outputs": [
    {
     "name": "stdout",
     "output_type": "stream",
     "text": [
      "C:\\Users\\dev\\Anaconda3\\envs\\jh\\python.exe -m pip install --upgrade lxml\n",
      "Collecting lxml\n",
      "  Downloading lxml-4.6.1-cp39-cp39-win_amd64.whl (3.5 MB)\n",
      "Installing collected packages: lxml\n",
      "Successfully installed lxml-4.6.1\n"
     ]
    }
   ],
   "source": [
    "\n",
    "import sys\n",
    "\n",
    "command_str = f'{sys.executable} -m pip install --upgrade python-crfsuite'\n",
    "print(command_str)\n",
    "!{command_str}"
   ]
  },
  {
   "cell_type": "code",
   "execution_count": null,
   "metadata": {},
   "outputs": [],
   "source": []
  }
 ],
 "metadata": {
  "anaconda-cloud": {},
  "kernelspec": {
   "display_name": "Job Hunting (Python 3.9.0)",
   "language": "python",
   "name": "jh"
  },
  "language_info": {
   "codemirror_mode": {
    "name": "ipython",
    "version": 3
   },
   "file_extension": ".py",
   "mimetype": "text/x-python",
   "name": "python",
   "nbconvert_exporter": "python",
   "pygments_lexer": "ipython3",
   "version": "3.9.0"
  }
 },
 "nbformat": 4,
 "nbformat_minor": 4
}
