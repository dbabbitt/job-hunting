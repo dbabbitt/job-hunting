{
 "cells": [
  {
   "cell_type": "markdown",
   "metadata": {},
   "source": [
    "\n",
    "---\n",
    "# Load needed libraries and functions"
   ]
  },
  {
   "cell_type": "code",
   "execution_count": 1,
   "metadata": {},
   "outputs": [
    {
     "name": "stdout",
     "output_type": "stream",
     "text": [
      "Pretty printing has been turned OFF\n"
     ]
    }
   ],
   "source": [
    "\n",
    "%pprint"
   ]
  },
  {
   "cell_type": "code",
   "execution_count": 2,
   "metadata": {},
   "outputs": [
    {
     "name": "stdout",
     "output_type": "stream",
     "text": [
      "Pickling to C:\\Users\\dev\\Documents\\Repositories\\job-hunting\\saves\\pickle\\CHILD_STR_CLF.pickle\n",
      "Wall time: 37.4 s\n"
     ]
    }
   ],
   "source": [
    "\n",
    "%%time\n",
    "%run ../py/html_analysis.py\n",
    "hc = HeaderCategories()\n",
    "ha = HeaderAnalysis()\n",
    "ea = ElementAnalysis()"
   ]
  },
  {
   "cell_type": "markdown",
   "metadata": {},
   "source": [
    "\n",
    "----\n",
    "# Recreate the Header Pattern Dictionary"
   ]
  },
  {
   "cell_type": "code",
   "execution_count": 58,
   "metadata": {},
   "outputs": [
    {
     "name": "stdout",
     "output_type": "stream",
     "text": [
      "Pickling to C:\\Users\\dev\\Documents\\Repositories\\job-hunting\\saves\\pickle\\HEADER_PATTERN_DICT.pickle\n",
      "Pickling to C:\\Users\\dev\\Documents\\Repositories\\job-hunting\\saves\\pickle\\HEADER_PATTERN_DICT.pickle\n",
      "Pickling to C:\\Users\\dev\\Documents\\Repositories\\job-hunting\\saves\\pickle\\HEADER_PATTERN_DICT.pickle\n",
      "Pickling to C:\\Users\\dev\\Documents\\Repositories\\job-hunting\\saves\\pickle\\HEADER_PATTERN_DICT.pickle\n",
      "Pickling to C:\\Users\\dev\\Documents\\Repositories\\job-hunting\\saves\\pickle\\HEADER_PATTERN_DICT.pickle\n",
      "Pickling to C:\\Users\\dev\\Documents\\Repositories\\job-hunting\\saves\\pickle\\HEADER_PATTERN_DICT.pickle\n",
      "Pickling to C:\\Users\\dev\\Documents\\Repositories\\job-hunting\\saves\\pickle\\HEADER_PATTERN_DICT.pickle\n",
      "Pickling to C:\\Users\\dev\\Documents\\Repositories\\job-hunting\\saves\\pickle\\HEADER_PATTERN_DICT.pickle\n",
      "Pickling to C:\\Users\\dev\\Documents\\Repositories\\job-hunting\\saves\\pickle\\HEADER_PATTERN_DICT.pickle\n",
      "Pickling to C:\\Users\\dev\\Documents\\Repositories\\job-hunting\\saves\\pickle\\HEADER_PATTERN_DICT.pickle\n",
      "Pickling to C:\\Users\\dev\\Documents\\Repositories\\job-hunting\\saves\\pickle\\HEADER_PATTERN_DICT.pickle\n",
      "Pickling to C:\\Users\\dev\\Documents\\Repositories\\job-hunting\\saves\\pickle\\HEADER_PATTERN_DICT.pickle\n",
      "Pickling to C:\\Users\\dev\\Documents\\Repositories\\job-hunting\\saves\\pickle\\HEADER_PATTERN_DICT.pickle\n",
      "Pickling to C:\\Users\\dev\\Documents\\Repositories\\job-hunting\\saves\\pickle\\HEADER_PATTERN_DICT.pickle\n",
      "Pickling to C:\\Users\\dev\\Documents\\Repositories\\job-hunting\\saves\\pickle\\HEADER_PATTERN_DICT.pickle\n",
      "Pickling to C:\\Users\\dev\\Documents\\Repositories\\job-hunting\\saves\\pickle\\HEADER_PATTERN_DICT.pickle\n",
      "Pickling to C:\\Users\\dev\\Documents\\Repositories\\job-hunting\\saves\\pickle\\HEADER_PATTERN_DICT.pickle\n",
      "Pickling to C:\\Users\\dev\\Documents\\Repositories\\job-hunting\\saves\\pickle\\HEADER_PATTERN_DICT.pickle\n",
      "Pickling to C:\\Users\\dev\\Documents\\Repositories\\job-hunting\\saves\\pickle\\HEADER_PATTERN_DICT.pickle\n",
      "Pickling to C:\\Users\\dev\\Documents\\Repositories\\job-hunting\\saves\\pickle\\HEADER_PATTERN_DICT.pickle\n"
     ]
    }
   ],
   "source": [
    "\n",
    "files_list = os.listdir(ha.SAVES_HTML_FOLDER)\n",
    "HEADER_PATTERN_DICT = {}\n",
    "for file_name in files_list:\n",
    "    if file_name in ea.CHILD_STRS_LIST_DICT:\n",
    "        child_strs_list = ea.CHILD_STRS_LIST_DICT[file_name]\n",
    "    else:\n",
    "        file_path = os.path.join(ha.SAVES_HTML_FOLDER, file_name)\n",
    "        with open(file_path, 'r', encoding='utf-8') as f:\n",
    "            html_str = f.read()\n",
    "            body_soup = ha.get_body_soup(html_str)\n",
    "            child_strs_list = ha.get_navigable_children(body_soup, [])\n",
    "    if not len(child_strs_list):\n",
    "            file_path = os.path.join(ha.SAVES_HTML_FOLDER, file_name)\n",
    "            os.remove(file_path)\n",
    "            continue\n",
    "    navigable_parent = child_strs_list[0]\n",
    "    if navigable_parent not in ha.NAVIGABLE_PARENT_IS_HEADER_DICT:\n",
    "        continue\n",
    "    child_tags_list = []\n",
    "    is_header_list = []\n",
    "    for navigable_parent in child_strs_list:\n",
    "        if navigable_parent not in ha.NAVIGABLE_PARENT_IS_HEADER_DICT:\n",
    "            break\n",
    "        tokenized_sent = ha.html_regex_tokenizer(navigable_parent)\n",
    "        try:\n",
    "            first_token = tokenized_sent[0]\n",
    "            if first_token[0] == '<':\n",
    "                child_tags_list.append(first_token[1:])\n",
    "            else:\n",
    "                child_tags_list.append('plaintext')\n",
    "        except:\n",
    "            child_tags_list.append('plaintext')\n",
    "        is_header = ha.NAVIGABLE_PARENT_IS_HEADER_DICT[navigable_parent]\n",
    "        is_header_list.append(is_header)\n",
    "    if len(child_tags_list) == len(child_strs_list):\n",
    "        if file_name not in ea.CHILD_STRS_LIST_DICT:\n",
    "            ea.CHILD_STRS_LIST_DICT[file_name] = child_strs_list\n",
    "            s.store_objects(CHILD_STRS_LIST_DICT=ea.CHILD_STRS_LIST_DICT)\n",
    "        if file_name not in HEADER_PATTERN_DICT:\n",
    "            item_sequence = hc.get_feature_dict_list(child_tags_list, is_header_list, child_strs_list)\n",
    "            HEADER_PATTERN_DICT[file_name] = item_sequence\n",
    "            s.store_objects(HEADER_PATTERN_DICT=HEADER_PATTERN_DICT)"
   ]
  },
  {
   "cell_type": "code",
   "execution_count": null,
   "metadata": {},
   "outputs": [],
   "source": []
  }
 ],
 "metadata": {
  "kernelspec": {
   "display_name": "Job Hunting (Python 3.9.0)",
   "language": "python",
   "name": "jh"
  },
  "language_info": {
   "codemirror_mode": {
    "name": "ipython",
    "version": 3
   },
   "file_extension": ".py",
   "mimetype": "text/x-python",
   "name": "python",
   "nbconvert_exporter": "python",
   "pygments_lexer": "ipython3",
   "version": "3.9.0"
  }
 },
 "nbformat": 4,
 "nbformat_minor": 4
}
