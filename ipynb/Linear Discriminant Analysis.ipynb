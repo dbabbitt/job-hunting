{
 "cells": [
  {
   "cell_type": "code",
   "execution_count": 3,
   "id": "ef72e194-c7c7-4079-86a4-29e7e8cc5911",
   "metadata": {},
   "outputs": [
    {
     "name": "stdout",
     "output_type": "stream",
     "text": [
      "Pretty printing has been turned OFF\n"
     ]
    }
   ],
   "source": [
    "\n",
    "%pprint"
   ]
  },
  {
   "cell_type": "code",
   "execution_count": 1,
   "id": "5fe35e85-7bfd-446b-89f4-c83725d45410",
   "metadata": {},
   "outputs": [],
   "source": [
    "\n",
    "from sklearn.discriminant_analysis import LinearDiscriminantAnalysis\n",
    "\n",
    "model = LinearDiscriminantAnalysis()"
   ]
  },
  {
   "cell_type": "code",
   "execution_count": 4,
   "id": "ddc9f142-75e5-4aa7-b2cc-6dc4394a70ef",
   "metadata": {},
   "outputs": [
    {
     "data": {
      "text/plain": [
       "['model.__class__', 'model.__delattr__', 'model.__dict__', 'model.__dir__', 'model.__doc__', 'model.__eq__', 'model.__format__', 'model.__ge__', 'model.__getattribute__', 'model.__getstate__', 'model.__gt__', 'model.__hash__', 'model.__init__', 'model.__init_subclass__', 'model.__le__', 'model.__lt__', 'model.__module__', 'model.__ne__', 'model.__new__', 'model.__reduce__', 'model.__reduce_ex__', 'model.__repr__', 'model.__setattr__', 'model.__setstate__', 'model.__sizeof__', 'model.__str__', 'model.__subclasshook__', 'model.__weakref__', 'model._check_n_features', 'model._estimator_type', 'model._get_param_names', 'model._get_tags', 'model._more_tags', 'model._predict_proba_lr', 'model._repr_html_', 'model._repr_html_inner', 'model._repr_mimebundle_', 'model._solve_eigen', 'model._solve_lsqr', 'model._solve_svd', 'model._validate_data', 'model.covariance_estimator', 'model.decision_function', 'model.fit', 'model.fit_transform', 'model.get_params', 'model.n_components', 'model.predict', 'model.predict_log_proba', 'model.predict_proba', 'model.priors', 'model.score', 'model.set_params', 'model.shrinkage', 'model.solver', 'model.store_covariance', 'model.tol', 'model.transform']"
      ]
     },
     "execution_count": 4,
     "metadata": {},
     "output_type": "execute_result"
    }
   ],
   "source": [
    "\n",
    "[f'model.{fn}' for fn in dir(model)]"
   ]
  },
  {
   "cell_type": "code",
   "execution_count": 6,
   "id": "97b63e3f-2aec-48f7-9f0d-e132ce46e6d3",
   "metadata": {},
   "outputs": [
    {
     "data": {
      "text/plain": [
       "['model._predict_proba_lr', 'model.predict_log_proba', 'model.predict_proba']"
      ]
     },
     "execution_count": 6,
     "metadata": {},
     "output_type": "execute_result"
    }
   ],
   "source": [
    "\n",
    "[f'model.{fn}' for fn in dir(model) if 'proba' in fn.lower()]"
   ]
  },
  {
   "cell_type": "code",
   "execution_count": 8,
   "id": "5fe2206b-5c8f-47e0-a0b1-108530c65ff1",
   "metadata": {},
   "outputs": [
    {
     "data": {
      "text/plain": [
       "\u001b[1;31mSignature:\u001b[0m \u001b[0mmodel\u001b[0m\u001b[1;33m.\u001b[0m\u001b[0mpredict_proba\u001b[0m\u001b[1;33m(\u001b[0m\u001b[0mX\u001b[0m\u001b[1;33m)\u001b[0m\u001b[1;33m\u001b[0m\u001b[1;33m\u001b[0m\u001b[0m\n",
       "\u001b[1;31mDocstring:\u001b[0m\n",
       "Estimate probability.\n",
       "\n",
       "Parameters\n",
       "----------\n",
       "X : array-like of shape (n_samples, n_features)\n",
       "    Input data.\n",
       "\n",
       "Returns\n",
       "-------\n",
       "C : ndarray of shape (n_samples, n_classes)\n",
       "    Estimated probabilities.\n",
       "\u001b[1;31mFile:\u001b[0m      c:\\programdata\\anaconda3\\lib\\site-packages\\sklearn\\discriminant_analysis.py\n",
       "\u001b[1;31mType:\u001b[0m      method\n"
      ]
     },
     "metadata": {},
     "output_type": "display_data"
    }
   ],
   "source": [
    "\n",
    "model.predict_proba?"
   ]
  },
  {
   "cell_type": "code",
   "execution_count": null,
   "id": "0d2a945a-2e2f-4a4a-aae7-a5dc64fe9602",
   "metadata": {},
   "outputs": [],
   "source": []
  }
 ],
 "metadata": {
  "kernelspec": {
   "display_name": "Python 3",
   "language": "python",
   "name": "python3"
  },
  "language_info": {
   "codemirror_mode": {
    "name": "ipython",
    "version": 3
   },
   "file_extension": ".py",
   "mimetype": "text/x-python",
   "name": "python",
   "nbconvert_exporter": "python",
   "pygments_lexer": "ipython3",
   "version": "3.8.8"
  }
 },
 "nbformat": 4,
 "nbformat_minor": 5
}
