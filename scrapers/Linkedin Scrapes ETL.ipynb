{
 "cells": [
  {
   "cell_type": "code",
   "execution_count": 1,
   "metadata": {},
   "outputs": [
    {
     "name": "stdout",
     "output_type": "stream",
     "text": [
      "Pretty printing has been turned OFF\n"
     ]
    }
   ],
   "source": [
    "\n",
    "%pprint"
   ]
  },
  {
   "cell_type": "code",
   "execution_count": 2,
   "metadata": {},
   "outputs": [],
   "source": [
    "\n",
    "from datetime import datetime\n",
    "from urllib.parse import urlparse, parse_qs\n",
    "import humanize\n",
    "import os\n",
    "import re\n",
    "import sys\n",
    "import time\n",
    "import warnings\n",
    "import winsound\n",
    "\n",
    "warnings.filterwarnings('ignore')\n",
    "duration = 1000  # milliseconds\n",
    "freq = 880  # Hz\n",
    "job_title_css = 'div.p5 > h1'\n",
    "job_subtitle_css = 'div.jobs-unified-top-card__primary-description > span.jobs-unified-top-card__subtitle-primary-grouping'\n",
    "ascii_regex = re.compile('[^A-Za-z0-9]+')\n",
    "article_css = '.jobs-description__container'\n",
    "seemore_button_css = 'button.t-14'\n",
    "seemore_button_xpath = '/html/body//footer/button'\n",
    "details_css = '#job-details'\n",
    "nav_search_css = '.global-nav__content'\n",
    "\n",
    "# Insert at 1, 0 is the script path (or '' in REPL)\n",
    "if ('../py' not in sys.path): sys.path.insert(1, '../py')"
   ]
  },
  {
   "cell_type": "code",
   "execution_count": 3,
   "metadata": {},
   "outputs": [
    {
     "name": "stdout",
     "output_type": "stream",
     "text": [
      "Utility libraries created in 1 second\n",
      "Last run on 2023-03-23 11:17:44.196651\n"
     ]
    }
   ],
   "source": [
    "\n",
    "t0 = time.time()\n",
    "\n",
    "# Get the Neo4j driver\n",
    "from storage import Storage\n",
    "s = Storage(\n",
    "    data_folder_path=os.path.abspath('../data'),\n",
    "    saves_folder_path=os.path.abspath('../saves')\n",
    ")\n",
    "\n",
    "from ha_utils import HeaderAnalysis\n",
    "ha = HeaderAnalysis(s=s, verbose=False)\n",
    "\n",
    "from scrape_utils import WebScrapingUtilities\n",
    "wsu = WebScrapingUtilities(\n",
    "    s=s,\n",
    "    secrets_json_path=os.path.abspath('../data/secrets/jh_secrets.json')\n",
    ")\n",
    "uri = wsu.secrets_json['neo4j']['connect_url']\n",
    "user =  wsu.secrets_json['neo4j']['username']\n",
    "password = wsu.secrets_json['neo4j']['password']\n",
    "\n",
    "from cypher_utils import CypherUtilities\n",
    "cu = CypherUtilities(\n",
    "    uri=uri, user=user, password=password, driver=None, s=s, ha=ha\n",
    ")\n",
    "\n",
    "duration_str = humanize.precisedelta(time.time() - t0, minimum_unit='seconds', format='%0.0f')\n",
    "print(f'Utility libraries created in {duration_str}')\n",
    "print(f'Last run on {datetime.now()}')"
   ]
  },
  {
   "cell_type": "markdown",
   "metadata": {},
   "source": [
    "\n",
    "----"
   ]
  },
  {
   "cell_type": "code",
   "execution_count": 7,
   "metadata": {},
   "outputs": [
    {
     "name": "stdout",
     "output_type": "stream",
     "text": [
      "Getting the FireFox driver\n",
      "Getting URL: https://www.linkedin.com/home\n",
      "Filling in the session_key field with dave.babbitt@gmail.com\n",
      "Clicking /html/body/main/section[1]/div/div/form/button\n",
      "Waiting for the web element to be visible: Message: (280, 628) is out of bounds of viewport width (1280) and height (587)\n",
      "Stacktrace:\n",
      "RemoteError@chrome://remote/content/shared/RemoteError.sys.mjs:8:8\n",
      "WebDriverError@chrome://remote/content/shared/webdriver/Errors.sys.mjs:180:5\n",
      "MoveTargetOutOfBoundsError@chrome://remote/content/shared/webdriver/Errors.sys.mjs:370:5\n",
      "assertInViewPort@chrome://remote/content/marionette/action.sys.mjs:2113:11\n",
      "dispatch@chrome://remote/content/marionette/action.sys.mjs:1011:21\n",
      "dispatch/pendingEvents<@chrome://remote/content/marionette/action.sys.mjs:1827:14\n",
      "dispatch@chrome://remote/content/marionette/action.sys.mjs:1826:39\n",
      "dispatch/chainEvents<@chrome://remote/content/marionette/action.sys.mjs:1753:27\n",
      "dispatch@chrome://remote/content/marionette/action.sys.mjs:1755:7\n",
      "performActions@chrome://remote/content/marionette/actors/MarionetteCommandsChild.sys.mjs:482:23\n",
      "receiveMessage@chrome://remote/content/marionette/actors/MarionetteCommandsChild.sys.mjs:150:31\n"
     ]
    },
    {
     "data": {
      "text/plain": [
       "2"
      ]
     },
     "metadata": {},
     "output_type": "display_data"
    }
   ],
   "source": [
    "\n",
    "try:\n",
    "    driver = wsu.get_driver()\n",
    "    winsound.Beep(freq, int(duration/2))\n",
    "    wsu.log_into_linkedin(driver)\n",
    "finally:\n",
    "    page_soup = wsu.get_page_soup('../data/html/linkedin_email.html')\n",
    "    css_selector = '#jobDescriptionText > table > tbody > tr > td > table > tbody > tr > td > a > table > tbody > tr > td > a'\n",
    "    link_soups_list = page_soup.select(css_selector)\n",
    "    \n",
    "    # Get rid of the duplicate URLs\n",
    "    url_strs_set = set()\n",
    "    for link_soup in link_soups_list:\n",
    "        url_str = link_soup['href']\n",
    "        url_strs_set.add(url_str)\n",
    "    \n",
    "    display(len(url_strs_set))"
   ]
  },
  {
   "cell_type": "code",
   "execution_count": 8,
   "metadata": {},
   "outputs": [
    {
     "name": "stdout",
     "output_type": "stream",
     "text": [
      "Saving to C:\\Users\\daveb\\OneDrive\\Documents\\GitHub\\job-hunting\\saves\\html\\wJ1dhSD9f1UGBFUsOCIy8w_Senior_Principal_Data_Scientist_UKG_Lowell_MA_On_site.html\n",
      "Fileing 1 postings complete. Delete the email.\n"
     ]
    }
   ],
   "source": [
    "\n",
    "from selenium.webdriver.common.by import By\n",
    "\n",
    "# Assumes this is the first time you've run this cell\n",
    "files_list = []\n",
    "\n",
    "for url_str in url_strs_set:\n",
    "    wsu.driver_get_url(driver, url_str, verbose=False)\n",
    "    # import time\n",
    "    time.sleep(4)\n",
    "    titles_list = driver.find_elements(By.CSS_SELECTOR, job_title_css)\n",
    "    if not titles_list:\n",
    "        titles_list = driver.find_elements(By.CSS_SELECTOR, '#ember130 > h2:nth-child(1)')\n",
    "    if titles_list:\n",
    "        job_title_str = titles_list[0].text\n",
    "        job_subtitle_str = driver.find_elements(By.CSS_SELECTOR, job_subtitle_css)[0].text\n",
    "        page_title = f'{job_title_str} {job_subtitle_str}'\n",
    "        file_name = ascii_regex.sub(' ', page_title).strip().replace(' ', '_')\n",
    "        trackingId = ascii_regex.sub(' ', parse_qs(urlparse(url_str).query).get('trackingId', [''])[0]).strip().replace(' ', '_')\n",
    "        if len(trackingId):\n",
    "            file_name = f'{trackingId}_{file_name}.html'\n",
    "        else:\n",
    "            file_name = f'{file_name}.html'\n",
    "\n",
    "            # Assumes this is the first time you've run this cell\n",
    "            file_path = os.path.join(cu.SAVES_HTML_FOLDER, file_name)\n",
    "            if os.path.isfile(file_path):\n",
    "                file_name = datetime.now().strftime('%Y%m%d%H%M%S%f') + f'_{file_name}'\n",
    "\n",
    "        file_path = os.path.join(cu.SAVES_HTML_FOLDER, file_name)\n",
    "        if not os.path.isfile(file_path):\n",
    "            with open(file_path, 'w', encoding=s.encoding_type) as f:\n",
    "                print(f'Saving to {file_path}')\n",
    "                f.write('<html><head><title>')\n",
    "                f.write(page_title)\n",
    "                f.write('</title></head><body><div id=\"jobDescriptionText\">')\n",
    "                overlay_tag = driver.find_elements(By.CSS_SELECTOR, nav_search_css)[0]\n",
    "                driver.execute_script(\"arguments[0].setAttribute('style','display:none;');\", overlay_tag)\n",
    "                wsu.click_web_element(driver, seemore_button_xpath, verbose=False)\n",
    "                web_obj = driver.find_elements(By.CSS_SELECTOR, details_css)[0]\n",
    "                article_str = web_obj.get_attribute('innerHTML').strip()\n",
    "                f.write(article_str)\n",
    "                f.write('</div></body></html>')\n",
    "            files_list.append(file_name)\n",
    "        cu.ensure_filename(file_name, verbose=False)\n",
    "        cu.set_posting_url(file_name, url_str, verbose=False)\n",
    "print(f'Fileing {len(files_list)} postings complete. Delete the email.')"
   ]
  },
  {
   "cell_type": "code",
   "execution_count": 9,
   "metadata": {},
   "outputs": [
    {
     "data": {
      "text/plain": [
       "['wJ1dhSD9f1UGBFUsOCIy8w_Senior_Principal_Data_Scientist_UKG_Lowell_MA_On_site.html']"
      ]
     },
     "execution_count": 9,
     "metadata": {},
     "output_type": "execute_result"
    }
   ],
   "source": [
    "\n",
    "try:\n",
    "    driver.close()\n",
    "except Exception as e:\n",
    "    print(f'{e.__class__.__name__} error: {str(e).strip()}')\n",
    "cu.ensure_navigableparent('END', verbose=False)\n",
    "for file_name in files_list:\n",
    "    file_path = os.path.join(cu.SAVES_HTML_FOLDER, file_name)\n",
    "    page_soup = wsu.get_page_soup(file_path)\n",
    "    row_div_list = page_soup.find_all(name='article')\n",
    "    for div_soup in row_div_list:\n",
    "        child_strs_list = ha.get_navigable_children(div_soup, [])\n",
    "        assert child_strs_list, f'Something is wrong with {file_name}'\n",
    "        cu.populate_from_child_strings(child_strs_list, file_name, verbose=False)\n",
    "wsu.beep(freq, duration)\n",
    "files_list"
   ]
  },
  {
   "cell_type": "code",
   "execution_count": null,
   "metadata": {},
   "outputs": [],
   "source": []
  }
 ],
 "metadata": {
  "anaconda-cloud": {},
  "kernelspec": {
   "display_name": "Python 3 (ipykernel)",
   "language": "python",
   "name": "python3"
  },
  "language_info": {
   "codemirror_mode": {
    "name": "ipython",
    "version": 3
   },
   "file_extension": ".py",
   "mimetype": "text/x-python",
   "name": "python",
   "nbconvert_exporter": "python",
   "pygments_lexer": "ipython3",
   "version": "3.9.16"
  }
 },
 "nbformat": 4,
 "nbformat_minor": 4
}
