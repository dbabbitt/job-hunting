{
 "cells": [
  {
   "cell_type": "code",
   "execution_count": 1,
   "metadata": {},
   "outputs": [
    {
     "name": "stdout",
     "output_type": "stream",
     "text": [
      "Pretty printing has been turned OFF\n",
      "======== Neo4j/4.4.7 ========\n",
      "Utility libraries created in 5 seconds\n"
     ]
    }
   ],
   "source": [
    "\n",
    "%pprint\n",
    "import sys\n",
    "if ('../py' not in sys.path): sys.path.insert(1, '../py')\n",
    "from jobpostlib import (cu, datetime, duration, freq, hau, humanize, nu, scrfcu, slrcu, su, t0, time, wsu, speech_engine)\n",
    "import os"
   ]
  },
  {
   "cell_type": "markdown",
   "metadata": {},
   "source": [
    "\n",
    "----"
   ]
  },
  {
   "cell_type": "code",
   "execution_count": 2,
   "metadata": {},
   "outputs": [
    {
     "name": "stdout",
     "output_type": "stream",
     "text": [
      "['powershell.exe', '-ExecutionPolicy', 'Bypass', '-Command', 'Start-Process \"C:\\\\Program Files\\\\Notepad++\\\\notepad++.exe\" -ArgumentList \"C:\\\\Users\\\\daveb\\\\OneDrive\\\\Documents\\\\GitHub\\\\job-hunting\\\\data\\\\html\\\\indeed_email.html\"']\n"
     ]
    }
   ],
   "source": [
    "\n",
    "wsu.save_indeed_email_to_file(verbose=True)"
   ]
  },
  {
   "cell_type": "code",
   "execution_count": 3,
   "metadata": {},
   "outputs": [
    {
     "name": "stdout",
     "output_type": "stream",
     "text": [
      "Getting the FireFox driver\n",
      "platform.system() = Windows\n",
      "os.name = nt\n",
      "gecko_driver_path = GeckoDriverManager().install() = C:\\Users\\daveb\\.wdm\\drivers\\geckodriver\\win64\\v0.35.0\\geckodriver.exe\n"
     ]
    },
    {
     "data": {
      "text/plain": [
       "2"
      ]
     },
     "metadata": {},
     "output_type": "display_data"
    }
   ],
   "source": [
    "\n",
    "try: driver = wsu.get_driver(verbose=True); speech_engine.say('Browser available'); speech_engine.runAndWait()\n",
    "finally:\n",
    "    viewjob_links_set = set()\n",
    "    file_path = '../data/html/indeed_email.html'\n",
    "    page_soup = wsu.get_page_soup(file_path)\n",
    "\n",
    "    # Get viewjob links\n",
    "    css_selector = 'a[href^=\"https://www.indeed.com/rc/clk/dl?jk=\"]'\n",
    "    link_soups_list = page_soup.select(css_selector)\n",
    "    for link_soup in link_soups_list: viewjob_links_set.add(link_soup['href'])\n",
    "\n",
    "    # Get pagead links and convert them to viewjob links\n",
    "    pagead_links_set = set()\n",
    "    css_selector = 'a[href^=\"https://www.indeed.com/pagead/clk\"]'\n",
    "    link_soups_list = page_soup.select(css_selector)\n",
    "    for link_soup in link_soups_list: pagead_links_set.add(link_soup['href'])\n",
    "    for pagead_link in pagead_links_set:\n",
    "        wsu.driver_get_url(driver, pagead_link, verbose=False)\n",
    "        viewjob_links_set.add(driver.current_url)\n",
    "    \n",
    "    display(len(viewjob_links_set))"
   ]
  },
  {
   "cell_type": "code",
   "execution_count": 4,
   "metadata": {},
   "outputs": [
    {
     "name": "stdout",
     "output_type": "stream",
     "text": [
      "Fileing 2 out of 2 postings complete. Delete the email.\n"
     ]
    }
   ],
   "source": [
    "\n",
    "files_list = []; close_notices = True\n",
    "for url_str in viewjob_links_set:\n",
    "    file_node_dict, files_list = su.load_indeed_posting_url(viewjob_url=url_str, driver=driver, files_list=files_list, close_notices=close_notices, slowed_for_readability=False, verbose=False)\n",
    "    close_notices = False\n",
    "speech_str = f'Fileing {len(files_list)} out of {len(viewjob_links_set)} postings complete. Delete the email.'\n",
    "print(speech_str)\n",
    "speech_engine.say(speech_str)\n",
    "speech_engine.runAndWait()"
   ]
  },
  {
   "cell_type": "code",
   "execution_count": 5,
   "metadata": {},
   "outputs": [
    {
     "data": {
      "text/plain": [
       "['16bef081ae79c206_BI_Analyst_BI_Engineer_Remote_Indeed_com.html', '37fcf3423fe11604_Sr_Data_Scientist_Healthcare_AI_Analytics_Remote_Indeed_com.html']"
      ]
     },
     "execution_count": 5,
     "metadata": {},
     "output_type": "execute_result"
    }
   ],
   "source": [
    "\n",
    "import re\n",
    "\n",
    "t1 = time.time()\n",
    "try: driver.close()\n",
    "except Exception as e: print(f'{e.__class__.__name__} error: {str(e).strip()}')\n",
    "cu.ensure_navigableparent('END', verbose=False)\n",
    "for file_name in files_list:\n",
    "    file_path = os.path.join(cu.SAVES_HTML_FOLDER, file_name)\n",
    "    \n",
    "    # Delete each of the previous siblings of the target_div that are <div> elements and prettify the HTML\n",
    "    wsu.clean_job_posting(file_path)\n",
    "    \n",
    "    page_soup = wsu.get_page_soup(file_path)\n",
    "    row_div_list = page_soup.find_all(name='div', id='jobDescriptionText')\n",
    "    assert row_div_list, f'{file_name} is missing <div id=\"jobDescriptionText\">'\n",
    "    for target_div in row_div_list:\n",
    "        child_strs_list = hau.get_navigable_children(target_div, [])\n",
    "        assert child_strs_list, f'{file_name} is missing its child strings'\n",
    "        cu.populate_from_child_strings(child_strs_list, file_name, verbose=False)\n",
    "duration_str = humanize.precisedelta(time.time() - t1, minimum_unit='seconds', format='%0.0f')\n",
    "speech_str = f'Populating {len(files_list)} out of {len(viewjob_links_set)} postings completed in {duration_str}'; speech_engine.say(speech_str); speech_engine.runAndWait()\n",
    "files_list"
   ]
  },
  {
   "cell_type": "code",
   "execution_count": null,
   "metadata": {},
   "outputs": [],
   "source": []
  }
 ],
 "metadata": {
  "anaconda-cloud": {},
  "kernelspec": {
   "display_name": "Job Hunting (Python 3.10.9)",
   "language": "python",
   "name": "jh_env"
  },
  "language_info": {
   "codemirror_mode": {
    "name": "ipython",
    "version": 3
   },
   "file_extension": ".py",
   "mimetype": "text/x-python",
   "name": "python",
   "nbconvert_exporter": "python",
   "pygments_lexer": "ipython3",
   "version": "3.10.9"
  }
 },
 "nbformat": 4,
 "nbformat_minor": 4
}
