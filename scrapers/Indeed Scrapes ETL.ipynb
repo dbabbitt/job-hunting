{
 "cells": [
  {
   "cell_type": "code",
   "execution_count": 1,
   "metadata": {},
   "outputs": [
    {
     "name": "stdout",
     "output_type": "stream",
     "text": [
      "Pretty printing has been turned OFF\n",
      "======== Neo4j/4.4.7 ========\n",
      "Utility libraries created in 9 seconds\n"
     ]
    }
   ],
   "source": [
    "\n",
    "%pprint\n",
    "import sys\n",
    "import os.path as osp\n",
    "\n",
    "executable_path = sys.executable; scripts_folder = osp.join(osp.dirname(executable_path), 'Scripts')\n",
    "py_folder = osp.abspath('../py'); ffmpeg_folder = r'C:\\ffmpeg\\bin'\n",
    "if (scripts_folder not in sys.path): sys.path.insert(1, scripts_folder)\n",
    "if (py_folder not in sys.path): sys.path.insert(1, py_folder)\n",
    "if (ffmpeg_folder not in sys.path): sys.path.insert(1, ffmpeg_folder)\n",
    "from jobpostlib import (cu, datetime, duration, freq, hau, humanize, nu, scrfcu, slrcu, su, t0, time, wsu, speech_engine)\n",
    "import os"
   ]
  },
  {
   "cell_type": "markdown",
   "metadata": {},
   "source": [
    "\n",
    "----"
   ]
  },
  {
   "cell_type": "code",
   "execution_count": 39,
   "metadata": {},
   "outputs": [
    {
     "name": "stdout",
     "output_type": "stream",
     "text": [
      "['powershell.exe', '-ExecutionPolicy', 'Bypass', '-Command', 'Start-Process \"C:\\\\Program Files\\\\Notepad++\\\\notepad++.exe\" -ArgumentList \"C:\\\\Users\\\\daveb\\\\OneDrive\\\\Documents\\\\GitHub\\\\job-hunting\\\\data\\\\html\\\\indeed_email.html\"']\n"
     ]
    }
   ],
   "source": [
    "\n",
    "search_type = 'Indeed python selenium Remote'\n",
    "wsu.save_email_to_file('indeed', verbose=True)"
   ]
  },
  {
   "cell_type": "code",
   "execution_count": 40,
   "metadata": {},
   "outputs": [
    {
     "name": "stdout",
     "output_type": "stream",
     "text": [
      "I found 1 urls in indeed_email.html\n"
     ]
    }
   ],
   "source": [
    "\n",
    "driver = wsu.get_driver(verbose=False); speech_engine.say('Browser available'); speech_engine.runAndWait()\n",
    "viewjob_links_set = set()\n",
    "file_path = '../data/html/indeed_email.html'\n",
    "page_soup = wsu.get_page_soup(file_path)\n",
    "\n",
    "# Get viewjob links\n",
    "for link_soup in page_soup.select('a[href^=\"https://www.indeed.com/rc/clk/dl?jk=\"]'):\n",
    "    new_url = su.clean_indeed_url(link_soup['href'], verbose=False)\n",
    "    viewjob_links_set.add(new_url)\n",
    "\n",
    "# Get pagead links and convert them to viewjob links\n",
    "for link_soup in page_soup.select('a[href^=\"https://www.indeed.com/pagead/clk\"]'):\n",
    "    new_url = su.clean_indeed_url(link_soup['href'], driver, verbose=False)\n",
    "    viewjob_links_set.add(new_url)\n",
    "\n",
    "speech_str = f'I found {len(viewjob_links_set)} urls in indeed_email.html'; print(speech_str)"
   ]
  },
  {
   "cell_type": "code",
   "execution_count": 41,
   "metadata": {},
   "outputs": [
    {
     "name": "stdout",
     "output_type": "stream",
     "text": [
      "Fileing 1 out of 1 postings complete. Delete the email.\n"
     ]
    }
   ],
   "source": [
    "\n",
    "files_list = []; close_notices = True\n",
    "for url_str in viewjob_links_set:\n",
    "    file_node_dict, files_list = su.load_indeed_posting_url(\n",
    "        viewjob_url=url_str, driver=driver, files_list=files_list, close_notices=close_notices, slowed_for_readability=False, search_type=search_type, verbose=False\n",
    "    )\n",
    "    close_notices = False\n",
    "speech_str = f'Fileing {len(files_list)} out of {len(viewjob_links_set)} postings complete. Delete the email.'; print(speech_str); speech_engine.say(speech_str); speech_engine.runAndWait()"
   ]
  },
  {
   "cell_type": "code",
   "execution_count": 42,
   "metadata": {},
   "outputs": [
    {
     "data": {
      "text/plain": [
       "['5db4df458e7766fc_SAP_Performance_Test_Lead_Remote_Beaverton_OR_97078_Indeed_com.html']"
      ]
     },
     "execution_count": 42,
     "metadata": {},
     "output_type": "execute_result"
    }
   ],
   "source": [
    "\n",
    "t1 = time.time()\n",
    "try: driver.close()\n",
    "except Exception as e: print(f'{e.__class__.__name__} error: {str(e).strip()}')\n",
    "cu.ensure_navigableparent('END', verbose=False)\n",
    "for file_name in files_list:\n",
    "    file_path = os.path.join(cu.SAVES_HTML_FOLDER, file_name)\n",
    "    \n",
    "    # Delete each of the previous siblings of the target_div that are <div> elements and prettify the HTML\n",
    "    wsu.clean_job_posting(file_path)\n",
    "    \n",
    "    page_soup = wsu.get_page_soup(file_path)\n",
    "    row_div_list = page_soup.find_all(name='div', id='jobDescriptionText')\n",
    "    assert row_div_list, f'{file_name} is missing <div id=\"jobDescriptionText\">'\n",
    "    for target_div in row_div_list:\n",
    "        child_strs_list = hau.get_navigable_children(target_div, [])\n",
    "        assert child_strs_list, f'{file_name} is missing its child strings'\n",
    "        cu.populate_from_child_strings(child_strs_list, file_name, verbose=False)\n",
    "duration_str = humanize.precisedelta(time.time() - t1, minimum_unit='seconds', format='%0.0f')\n",
    "speech_str = f'Populating {len(files_list)} out of {len(viewjob_links_set)} postings completed in {duration_str}'; speech_engine.say(speech_str); speech_engine.runAndWait()\n",
    "files_list"
   ]
  },
  {
   "cell_type": "code",
   "execution_count": null,
   "metadata": {},
   "outputs": [],
   "source": []
  }
 ],
 "metadata": {
  "anaconda-cloud": {},
  "kernelspec": {
   "display_name": "Job Hunting (Python 3.10.9)",
   "language": "python",
   "name": "jh_env"
  },
  "language_info": {
   "codemirror_mode": {
    "name": "ipython",
    "version": 3
   },
   "file_extension": ".py",
   "mimetype": "text/x-python",
   "name": "python",
   "nbconvert_exporter": "python",
   "pygments_lexer": "ipython3",
   "version": "3.10.9"
  }
 },
 "nbformat": 4,
 "nbformat_minor": 4
}
