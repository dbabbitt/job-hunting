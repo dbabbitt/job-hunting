{
 "cells": [
  {
   "cell_type": "code",
   "execution_count": 1,
   "id": "ae5f2608-61dc-46b7-8fbc-cff290c811fe",
   "metadata": {},
   "outputs": [
    {
     "name": "stdout",
     "output_type": "stream",
     "text": [
      "Pretty printing has been turned OFF\n"
     ]
    }
   ],
   "source": [
    "\n",
    "%pprint"
   ]
  },
  {
   "cell_type": "code",
   "execution_count": 2,
   "id": "133d5d75-6684-4409-8072-ef6228c77dca",
   "metadata": {},
   "outputs": [],
   "source": [
    "\n",
    "import sys\n",
    "\n",
    "# Insert at 1, 0 is the script path (or '' in REPL)\n",
    "sys.path.insert(1, '../py')"
   ]
  },
  {
   "cell_type": "code",
   "execution_count": 6,
   "id": "931edfd4-c024-437f-a7b0-f04d6cd9ca23",
   "metadata": {},
   "outputs": [],
   "source": [
    "\n",
    "# Get the Neo4j driver\n",
    "from pandas import DataFrame\n",
    "from urllib.parse import urlparse, parse_qs\n",
    "from IPython.display import clear_output\n",
    "import re\n",
    "from urllib.error import HTTPError, URLError\n",
    "import os\n",
    "\n",
    "from storage import Storage\n",
    "s = Storage()\n",
    "\n",
    "from ha_utils import HeaderAnalysis\n",
    "ha = HeaderAnalysis(s=s, verbose=False)\n",
    "\n",
    "from scrape_utils import WebScrapingUtilities\n",
    "wsu = WebScrapingUtilities()\n",
    "uri = wsu.secrets_json['neo4j']['connect_url']\n",
    "user =  wsu.secrets_json['neo4j']['username']\n",
    "password = wsu.secrets_json['neo4j']['password']\n",
    "\n",
    "from cypher_utils import CypherUtilities\n",
    "cu = CypherUtilities(uri=uri, user=user, password=password, driver=None, s=s, ha=ha)"
   ]
  },
  {
   "cell_type": "code",
   "execution_count": 4,
   "id": "ff7aa81f-314d-4d0d-a238-355d5210f157",
   "metadata": {},
   "outputs": [],
   "source": [
    "\n",
    "from neo4j.exceptions import ServiceUnavailable\n",
    "\n",
    "try:\n",
    "    version_str = cu.driver.verify_connectivity()\n",
    "    \n",
    "    import warnings\n",
    "    warnings.filterwarnings('ignore')\n",
    "except ServiceUnavailable as e:\n",
    "    # print(str(e).strip())\n",
    "    raise ServiceUnavailable('You need to start Neo4j as a console')\n",
    "except Exception as e:\n",
    "    print(e.__class__)"
   ]
  },
  {
   "cell_type": "code",
   "execution_count": null,
   "id": "1da10124-1eb2-46e6-9f17-4e5a14881997",
   "metadata": {},
   "outputs": [],
   "source": [
    "\n",
    "file_path = '../data/html/indeed_jobs.html'\n",
    "page_soup = wsu.get_page_soup(file_path)\n",
    "selectors_list = ['body', 'div', 'div', 'div', 'div.atw-AppCard-mainContainer', 'div.atw-AppCard-jobInfo', 'div',\n",
    "                  'header', 'div.atw-JobInfo-statusTag', 'div', 'div', 'span']\n",
    "files_list = []\n",
    "for span_soup in page_soup.select(' > '.join(selectors_list)):\n",
    "    status_str = span_soup.text\n",
    "    header_soup = span_soup.parent.parent.parent.parent\n",
    "    viewjob_url = header_soup.select('a')[0]['href']\n",
    "    jk_str = parse_qs(urlparse(viewjob_url).query).get('jk', [''])[0]\n",
    "    # print(header_soup.prettify())\n",
    "    \n",
    "    # Find the posting URL associated with the file name\n",
    "    def do_cypher_tx(tx, jk_str, verbose=False):\n",
    "        cypher_str = f'''\n",
    "            MATCH (fn:FileNames)\n",
    "            WHERE fn.posting_url CONTAINS $jk_str\n",
    "            RETURN fn;'''\n",
    "        if verbose:\n",
    "            clear_output(wait=True)\n",
    "            print(cypher_str.replace('$jk_str', f'\"{jk_str}\"'))\n",
    "        parameter_dict = {'jk_str': jk_str}\n",
    "        results_list = tx.run(query=cypher_str, parameters=parameter_dict)\n",
    "        values_list = []\n",
    "        for record in results_list:\n",
    "            values_list.append(dict(record.items()))\n",
    "\n",
    "        return values_list\n",
    "    with cu.driver.session() as session:\n",
    "        row_objs_list = session.read_transaction(do_cypher_tx, jk_str=f'jk={jk_str}', verbose=False)\n",
    "        df = DataFrame([{k: v for k, v in row_obj['fn'].items()} for row_obj in row_objs_list]).T\n",
    "        if df.shape[1]:\n",
    "            file_node_dict = df[0].to_dict()\n",
    "        else:\n",
    "            file_node_dict, files_list = su.load_indeed_posting_url(viewjob_url=viewjob_url, jk_str=jk_str,\n",
    "                                                                    files_list=files_list, verbose=True)\n",
    "        def do_cypher_tx(tx, file_name, indeed_status, verbose=False):\n",
    "            cypher_str = \"\"\"\n",
    "                MATCH (fn:FileNames {file_name: $file_name})\n",
    "                SET fn.indeed_status = $indeed_status;\"\"\"\n",
    "            if verbose:\n",
    "                clear_output(wait=True)\n",
    "                print(cypher_str.replace('$file_name', f'\"{file_name}\"').replace('$indeed_status', f'\"{indeed_status}\"'))\n",
    "            parameter_dict = {'file_name': file_name, 'indeed_status': indeed_status}\n",
    "            tx.run(query=cypher_str, parameters=parameter_dict)\n",
    "        with cu.driver.session() as session:\n",
    "            session.write_transaction(do_cypher_tx, file_name=file_node_dict['file_name'],\n",
    "                                      indeed_status=status_str, verbose=True)"
   ]
  },
  {
   "cell_type": "code",
   "execution_count": 10,
   "id": "00a756da-ac3c-4d66-9360-0f0f009b32d9",
   "metadata": {},
   "outputs": [],
   "source": [
    "\n",
    "cu.ensure_navigableparent('END', verbose=False)\n",
    "for file_name in files_list:\n",
    "    file_path = os.path.join(cu.SAVES_HTML_FOLDER, file_name)\n",
    "    page_soup = wsu.get_page_soup(file_path)\n",
    "    row_div_list = page_soup.find_all(name='div', id='jobDescriptionText')\n",
    "    for div_soup in row_div_list:\n",
    "        child_strs_list = ha.get_navigable_children(div_soup, [])\n",
    "        cu.populate_from_child_strings(child_strs_list, file_name, verbose=False)"
   ]
  },
  {
   "cell_type": "code",
   "execution_count": 11,
   "id": "b43d904d-9382-4ea1-ad42-1cf389c6b437",
   "metadata": {},
   "outputs": [
    {
     "data": {
      "text/plain": [
       "[]"
      ]
     },
     "execution_count": 11,
     "metadata": {},
     "output_type": "execute_result"
    }
   ],
   "source": [
    "\n",
    "files_list"
   ]
  },
  {
   "cell_type": "code",
   "execution_count": null,
   "id": "fde1330c-fcfd-4b84-9b34-54d8876766d1",
   "metadata": {},
   "outputs": [],
   "source": []
  }
 ],
 "metadata": {
  "kernelspec": {
   "display_name": "Python 3 (ipykernel)",
   "language": "python",
   "name": "python3"
  },
  "language_info": {
   "codemirror_mode": {
    "name": "ipython",
    "version": 3
   },
   "file_extension": ".py",
   "mimetype": "text/x-python",
   "name": "python",
   "nbconvert_exporter": "python",
   "pygments_lexer": "ipython3",
   "version": "3.9.7"
  }
 },
 "nbformat": 4,
 "nbformat_minor": 5
}
