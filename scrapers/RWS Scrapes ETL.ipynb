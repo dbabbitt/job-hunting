{
 "cells": [
  {
   "cell_type": "code",
   "execution_count": 1,
   "metadata": {},
   "outputs": [
    {
     "name": "stdout",
     "output_type": "stream",
     "text": [
      "Pretty printing has been turned OFF\n",
      "======== Neo4j/4.4.7 ========\n",
      "Utility libraries created in 4 seconds\n"
     ]
    }
   ],
   "source": [
    "\n",
    "%pprint\n",
    "import sys\n",
    "if ('../py' not in sys.path): sys.path.insert(1, '../py')\n",
    "from bs4 import BeautifulSoup as bs\n",
    "from bs4.formatter import  HTMLFormatter\n",
    "from jobpostlib import (cu, datetime, hau, humanize, nu, time, wsu, speech_engine, su)\n",
    "from selenium.webdriver.common.by import By\n",
    "from selenium.webdriver.common.by import By\n",
    "from selenium.webdriver.support import expected_conditions as EC\n",
    "from selenium.webdriver.support.ui import WebDriverWait\n",
    "from urllib.parse import urlparse, parse_qs, urlencode\n",
    "import os\n",
    "import pyperclip\n",
    "import re"
   ]
  },
  {
   "cell_type": "markdown",
   "metadata": {},
   "source": [
    "\n",
    "----"
   ]
  },
  {
   "cell_type": "code",
   "execution_count": 14,
   "metadata": {},
   "outputs": [],
   "source": [
    "\n",
    "def get_iframe_soup(driver, url_str, verbose=False):\n",
    "    wsu.driver_get_url(driver, url_str, verbose=verbose)\n",
    "    iframe_css_selector = f'iframe[src^=\"{url_str}\"]'\n",
    "    wsu.wait_for(wait_count=2, verbose=False)\n",
    "    assert wsu.check_presence_by_css(driver, iframe_css_selector, wait=1, verbose=verbose), f\"There is no iframe on this page: {url_str}\"\n",
    "    \n",
    "    # Switch to the iframe with a generalized CSS selector\n",
    "    iframe = WebDriverWait(driver, 10).until(EC.frame_to_be_available_and_switch_to_it((\n",
    "        By.CSS_SELECTOR, iframe_css_selector\n",
    "    )))\n",
    "    wsu.wait_for(wait_count=2, verbose=verbose)\n",
    "    \n",
    "    # Get the page soup of the iframe\n",
    "    page_soup = bs(driver.page_source, 'html.parser')\n",
    "    for script_soup in page_soup.find_all(name='script'):\n",
    "        script_soup.decompose()\n",
    "    if verbose:\n",
    "        formatter_obj = HTMLFormatter(indent=4)\n",
    "        html_str = page_soup.prettify(formatter=formatter_obj)\n",
    "        print(html_str)\n",
    "    \n",
    "    return page_soup"
   ]
  },
  {
   "cell_type": "code",
   "execution_count": 15,
   "metadata": {},
   "outputs": [],
   "source": [
    "\n",
    "def get_link_soups(driver, i=0, query_params='', verbose=False):\n",
    "    \n",
    "    # Get the page soup of the iframe\n",
    "    search_url = 'https://uscareers-rws.icims.com/jobs/'\n",
    "    iframe_url = search_url + f'search?pr={i}' + query_params\n",
    "    page_soup = get_iframe_soup(driver, iframe_url, verbose=verbose)\n",
    "    \n",
    "    css_selector = f'a[href^=\"{search_url}\"]'\n",
    "    link_soups_list = page_soup.select(css_selector)\n",
    "    \n",
    "    return link_soups_list"
   ]
  },
  {
   "cell_type": "code",
   "execution_count": 16,
   "metadata": {},
   "outputs": [
    {
     "name": "stdout",
     "output_type": "stream",
     "text": [
      "Getting the FireFox driver\n",
      "platform.system() = Windows\n",
      "os.name = nt\n",
      "gecko_driver_path = GeckoDriverManager().install() = C:\\Users\\daveb\\.wdm\\drivers\\geckodriver\\win64\\v0.35.0\\geckodriver.exe\n"
     ]
    },
    {
     "data": {
      "text/plain": [
       "30"
      ]
     },
     "metadata": {},
     "output_type": "display_data"
    }
   ],
   "source": [
    "\n",
    "driver = wsu.get_driver(verbose=True)\n",
    "link_soups_list = get_link_soups(driver, i=0, query_params='&searchLocation=12781--Remote&mobile=false&width=718&height=500&bga=true&needsRedirect=false&jan1offset=-300&jun1offset=-240', verbose=False)\n",
    "\n",
    "# Get rid of the duplicate URLs\n",
    "url_strs_set = set()\n",
    "pages_list = []\n",
    "for link_soup in link_soups_list:\n",
    "    url_str = link_soup['href']\n",
    "    if re.search(r'^https://uscareers-rws\\.icims\\.com/jobs/\\d+/', url_str):\n",
    "        url_strs_set.add(url_str)\n",
    "    elif re.search(r'^https://uscareers-rws\\.icims\\.com/jobs/search\\?pr=\\d+&in_iframe=1&searchLocation=12781--Remote', url_str):\n",
    "        parsed_url = urlparse(url_str)\n",
    "        query_params = parse_qs(parsed_url.query)\n",
    "        pages_list.append(int(query_params['pr'][0]))\n",
    "\n",
    "for i in range(1, max(pages_list)+1):\n",
    "    link_soups_list = get_link_soups(driver, i, verbose=False)\n",
    "    \n",
    "    # Get rid of the duplicate URLs\n",
    "    for link_soup in link_soups_list:\n",
    "        url_str = link_soup['href']\n",
    "        if re.search(r'^https://uscareers-rws\\.icims\\.com/jobs/\\d+/', url_str):\n",
    "            url_strs_set.add(url_str)\n",
    "display(len(url_strs_set))"
   ]
  },
  {
   "cell_type": "code",
   "execution_count": 33,
   "metadata": {},
   "outputs": [
    {
     "name": "stdout",
     "output_type": "stream",
     "text": [
      "Saving to C:\\Users\\daveb\\OneDrive\\Documents\\GitHub\\job-hunting\\saves\\html\\2023_1540_RWS_Search_Quality_Rater_US_MN_Remote.html\n",
      "Saving to C:\\Users\\daveb\\OneDrive\\Documents\\GitHub\\job-hunting\\saves\\html\\2023_1543_RWS_Search_Quality_Rater_US_NC_Remote.html\n",
      "Saving to C:\\Users\\daveb\\OneDrive\\Documents\\GitHub\\job-hunting\\saves\\html\\2023_1546_RWS_Search_Quality_Rater_US_NM_Remote.html\n",
      "Saving to C:\\Users\\daveb\\OneDrive\\Documents\\GitHub\\job-hunting\\saves\\html\\2023_1534_RWS_Search_Quality_Rater_US_IA_Remote.html\n",
      "Saving to C:\\Users\\daveb\\OneDrive\\Documents\\GitHub\\job-hunting\\saves\\html\\2024_2358_RWS_Professional_Services_Consultant_Lead_US_Remote_UK_Remote.html\n",
      "Saving to C:\\Users\\daveb\\OneDrive\\Documents\\GitHub\\job-hunting\\saves\\html\\2023_1553_RWS_Search_Quality_Rater_US_WY_Remote.html\n",
      "Saving to C:\\Users\\daveb\\OneDrive\\Documents\\GitHub\\job-hunting\\saves\\html\\2023_1542_RWS_Search_Quality_Rater_US_MT_Remote.html\n",
      "Saving to C:\\Users\\daveb\\OneDrive\\Documents\\GitHub\\job-hunting\\saves\\html\\2023_1538_RWS_Search_Quality_Rater_US_MD_Remote.html\n",
      "Saving to C:\\Users\\daveb\\OneDrive\\Documents\\GitHub\\job-hunting\\saves\\html\\2023_1532_RWS_Search_Quality_Rater_US_GA_Remote.html\n",
      "Saving to C:\\Users\\daveb\\OneDrive\\Documents\\GitHub\\job-hunting\\saves\\html\\2023_1547_RWS_Search_Quality_Rater_US_OH_Remote.html\n",
      "Saving to C:\\Users\\daveb\\OneDrive\\Documents\\GitHub\\job-hunting\\saves\\html\\2023_1550_RWS_Search_Quality_Rater_US_RI_Remote.html\n",
      "Saving to C:\\Users\\daveb\\OneDrive\\Documents\\GitHub\\job-hunting\\saves\\html\\2023_1526_RWS_Search_Quality_Rater_US_TX_Remote_US_TX_Austin.html\n",
      "Saving to C:\\Users\\daveb\\OneDrive\\Documents\\GitHub\\job-hunting\\saves\\html\\2024_2458_RWS_Data_Annotator_for_AI_Models_US_Remote.html\n",
      "Saving to C:\\Users\\daveb\\OneDrive\\Documents\\GitHub\\job-hunting\\saves\\html\\2023_1530_RWS_Search_Quality_Rater_US_DE_Remote.html\n",
      "Saving to C:\\Users\\daveb\\OneDrive\\Documents\\GitHub\\job-hunting\\saves\\html\\2023_1552_RWS_Search_Quality_Rater_US_WI_Remote.html\n",
      "Saving to C:\\Users\\daveb\\OneDrive\\Documents\\GitHub\\job-hunting\\saves\\html\\2023_1535_RWS_Search_Quality_Rater_US_IL_Remote.html\n",
      "Saving to C:\\Users\\daveb\\OneDrive\\Documents\\GitHub\\job-hunting\\saves\\html\\2023_1531_RWS_Search_Quality_Rater_US_FL_Remote.html\n",
      "Saving to C:\\Users\\daveb\\OneDrive\\Documents\\GitHub\\job-hunting\\saves\\html\\2024_3489_RWS_Data_Annotator_for_AI_Models_US_Remote.html\n",
      "Saving to C:\\Users\\daveb\\OneDrive\\Documents\\GitHub\\job-hunting\\saves\\html\\2023_1528_RWS_Search_Quality_Rater_US_AZ_Remote.html\n",
      "Saving to C:\\Users\\daveb\\OneDrive\\Documents\\GitHub\\job-hunting\\saves\\html\\2023_1548_RWS_Search_Quality_Rater_US_OK_Remote.html\n",
      "Saving to C:\\Users\\daveb\\OneDrive\\Documents\\GitHub\\job-hunting\\saves\\html\\2023_1539_RWS_Search_Quality_Rater_US_MI_Remote.html\n",
      "Saving to C:\\Users\\daveb\\OneDrive\\Documents\\GitHub\\job-hunting\\saves\\html\\2023_1527_RWS_Search_Quality_Rater_US_AR_Remote.html\n",
      "Saving to C:\\Users\\daveb\\OneDrive\\Documents\\GitHub\\job-hunting\\saves\\html\\2023_1533_RWS_Search_Quality_Rater_US_ID_Remote.html\n",
      "Saving to C:\\Users\\daveb\\OneDrive\\Documents\\GitHub\\job-hunting\\saves\\html\\2023_1544_RWS_Search_Quality_Rater_US_NE_Remote.html\n",
      "Saving to C:\\Users\\daveb\\OneDrive\\Documents\\GitHub\\job-hunting\\saves\\html\\2023_1536_RWS_Search_Quality_Rater_US_IN_Remote.html\n",
      "Saving to C:\\Users\\daveb\\OneDrive\\Documents\\GitHub\\job-hunting\\saves\\html\\2024_3868_RWS_Study_Manager_US_Remote.html\n",
      "Saving to C:\\Users\\daveb\\OneDrive\\Documents\\GitHub\\job-hunting\\saves\\html\\2023_1549_RWS_Search_Quality_Rater_US_PA_Remote.html\n",
      "Saving to C:\\Users\\daveb\\OneDrive\\Documents\\GitHub\\job-hunting\\saves\\html\\2023_1541_RWS_Search_Quality_Rater_US_MO_Remote.html\n",
      "Saving to C:\\Users\\daveb\\OneDrive\\Documents\\GitHub\\job-hunting\\saves\\html\\2023_1545_RWS_Search_Quality_Rater_US_NH_Remote.html\n",
      "Fileing 29 postings complete.\n"
     ]
    }
   ],
   "source": [
    "\n",
    "# Assumes this is the first time you've run this cell\n",
    "files_list = []\n",
    "for url_str in url_strs_set:\n",
    "    page_soup = get_iframe_soup(driver, url_str, verbose=False)\n",
    "    css_selector = 'h1.iCIMS_Header'\n",
    "    job_title_str = page_soup.select(css_selector)[0].text.split('|')[0].strip()\n",
    "    css_selector = 'div.col-xs-6:nth-child(2) > span:nth-child(2)'\n",
    "    subtitles_list = page_soup.select(css_selector)\n",
    "    if subtitles_list:\n",
    "        job_subtitle_str = subtitles_list[0].text.strip()\n",
    "        css_selector = 'div.iCIMS_JobHeaderTag:nth-child(1) > dd:nth-child(2) > span:nth-child(1)'\n",
    "        job_id = page_soup.select(css_selector)[0].text.strip()\n",
    "        page_title = f'{job_id} RWS {job_title_str} {job_subtitle_str}'\n",
    "        file_name = su.ascii_regex.sub(' ', page_title).strip().replace(' ', '_') + '.html'\n",
    "        file_path = os.path.join(cu.SAVES_HTML_FOLDER, file_name)\n",
    "        if not os.path.isfile(file_path):\n",
    "            css_selector = 'div.iCIMS_JobContent'\n",
    "            article_soups = page_soup.select(css_selector)\n",
    "            assert article_soups, f\"You don't have any article in {file_name}\"\n",
    "            \n",
    "            # Prettify the HTML\n",
    "            html_str = article_soups[0].prettify(formatter=HTMLFormatter(indent=4))\n",
    "            \n",
    "            # Save the HTML to the file\n",
    "            with open(file_path, 'w', encoding=nu.encoding_type) as f:\n",
    "                print(f'Saving to {file_path}')\n",
    "                f.write('<html>\\n    <head>\\n        <title>')\n",
    "                f.write(page_title)\n",
    "                f.write('</title>\\n    </head>\\n    <body>\\n        <div id=\"jobDescriptionText\">\\n')\n",
    "                f.write(re.sub('^', '                ', html_str, 0, re.MULTILINE))\n",
    "                f.write('</div></body></html>')\n",
    "            \n",
    "            files_list.append(file_name)\n",
    "            cu.ensure_filename(file_name, verbose=False)\n",
    "            cu.set_posting_url(file_name, url_str, verbose=False)\n",
    "    \n",
    "speech_str = f'Fileing {len(files_list)} postings complete.'; print(speech_str); speech_engine.say(speech_str); speech_engine.runAndWait()"
   ]
  },
  {
   "cell_type": "code",
   "execution_count": 34,
   "metadata": {},
   "outputs": [
    {
     "data": {
      "text/plain": [
       "['2023_1540_RWS_Search_Quality_Rater_US_MN_Remote.html', '2023_1543_RWS_Search_Quality_Rater_US_NC_Remote.html', '2023_1546_RWS_Search_Quality_Rater_US_NM_Remote.html', '2023_1534_RWS_Search_Quality_Rater_US_IA_Remote.html', '2024_2358_RWS_Professional_Services_Consultant_Lead_US_Remote_UK_Remote.html', '2023_1553_RWS_Search_Quality_Rater_US_WY_Remote.html', '2023_1542_RWS_Search_Quality_Rater_US_MT_Remote.html', '2023_1538_RWS_Search_Quality_Rater_US_MD_Remote.html', '2023_1532_RWS_Search_Quality_Rater_US_GA_Remote.html', '2023_1547_RWS_Search_Quality_Rater_US_OH_Remote.html', '2023_1550_RWS_Search_Quality_Rater_US_RI_Remote.html', '2023_1526_RWS_Search_Quality_Rater_US_TX_Remote_US_TX_Austin.html', '2024_2458_RWS_Data_Annotator_for_AI_Models_US_Remote.html', '2023_1530_RWS_Search_Quality_Rater_US_DE_Remote.html', '2023_1552_RWS_Search_Quality_Rater_US_WI_Remote.html', '2023_1535_RWS_Search_Quality_Rater_US_IL_Remote.html', '2023_1531_RWS_Search_Quality_Rater_US_FL_Remote.html', '2024_3489_RWS_Data_Annotator_for_AI_Models_US_Remote.html', '2023_1528_RWS_Search_Quality_Rater_US_AZ_Remote.html', '2023_1548_RWS_Search_Quality_Rater_US_OK_Remote.html', '2023_1539_RWS_Search_Quality_Rater_US_MI_Remote.html', '2023_1527_RWS_Search_Quality_Rater_US_AR_Remote.html', '2023_1533_RWS_Search_Quality_Rater_US_ID_Remote.html', '2023_1544_RWS_Search_Quality_Rater_US_NE_Remote.html', '2023_1536_RWS_Search_Quality_Rater_US_IN_Remote.html', '2024_3868_RWS_Study_Manager_US_Remote.html', '2023_1549_RWS_Search_Quality_Rater_US_PA_Remote.html', '2023_1541_RWS_Search_Quality_Rater_US_MO_Remote.html', '2023_1545_RWS_Search_Quality_Rater_US_NH_Remote.html']"
      ]
     },
     "execution_count": 34,
     "metadata": {},
     "output_type": "execute_result"
    }
   ],
   "source": [
    "\n",
    "t1 = time.time()\n",
    "try:\n",
    "    driver.close()\n",
    "except Exception as e:\n",
    "    print(f'{e.__class__.__name__} error: {str(e).strip()}')\n",
    "cu.ensure_navigableparent('END', verbose=False)\n",
    "for file_name in files_list:\n",
    "    file_path = os.path.join(cu.SAVES_HTML_FOLDER, file_name)\n",
    "    wsu.clean_job_posting(file_path)\n",
    "    page_soup = wsu.get_page_soup(file_path)\n",
    "    row_div_list = page_soup.find_all(name='div', id='jobDescriptionText')\n",
    "    assert row_div_list, f'{file_name} is missing <div id=\"jobDescriptionText\">'\n",
    "    for div_soup in row_div_list:\n",
    "        child_strs_list = hau.get_navigable_children(div_soup, [])\n",
    "        assert child_strs_list, f'{file_name} is missing its child strings'\n",
    "        cu.populate_from_child_strings(child_strs_list, file_name, verbose=False)\n",
    "duration_str = humanize.precisedelta(time.time() - t1, minimum_unit='seconds', format='%0.0f')\n",
    "speech_str = f'Populating {len(files_list)} out of {len(url_strs_set)} postings completed in {duration_str}'; speech_engine.say(speech_str); speech_engine.runAndWait()\n",
    "files_list"
   ]
  },
  {
   "cell_type": "markdown",
   "metadata": {},
   "source": [
    "\n",
    "----\n",
    "# Maintenance"
   ]
  },
  {
   "cell_type": "code",
   "execution_count": null,
   "metadata": {},
   "outputs": [],
   "source": [
    "\n",
    "from bs4.formatter import HTMLFormatter\n",
    "from bs4 import BeautifulSoup as bs\n",
    "\n",
    "page_soup = bs(driver.page_source, 'html.parser')\n",
    "for script_soup in page_soup.find_all(name='script'):\n",
    "    script_soup.decompose()\n",
    "formatter_obj = HTMLFormatter(indent=4)\n",
    "html_str = page_soup.prettify(formatter=formatter_obj)\n",
    "pyperclip.copy(html_str)"
   ]
  }
 ],
 "metadata": {
  "anaconda-cloud": {},
  "kernelspec": {
   "display_name": "Job Hunting (Python 3.10.9)",
   "language": "python",
   "name": "jh_env"
  },
  "language_info": {
   "codemirror_mode": {
    "name": "ipython",
    "version": 3
   },
   "file_extension": ".py",
   "mimetype": "text/x-python",
   "name": "python",
   "nbconvert_exporter": "python",
   "pygments_lexer": "ipython3",
   "version": "3.10.9"
  }
 },
 "nbformat": 4,
 "nbformat_minor": 4
}
