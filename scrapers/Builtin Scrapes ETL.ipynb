{
 "cells": [
  {
   "cell_type": "code",
   "execution_count": 1,
   "metadata": {},
   "outputs": [
    {
     "name": "stdout",
     "output_type": "stream",
     "text": [
      "Pretty printing has been turned OFF\n",
      "======== Neo4j/4.4.7 ========\n",
      "Utility libraries created in 15 seconds\n"
     ]
    }
   ],
   "source": [
    "\n",
    "%pprint\n",
    "import sys\n",
    "if (osp.join('..', 'py') not in sys.path): sys.path.insert(1, osp.join('..', 'py'))\n",
    "from jobpostlib import (cu, datetime, duration, freq, hau, humanize, nu, scrfcu, slrcu, su, t0, time, wsu, speech_engine)\n",
    "import os"
   ]
  },
  {
   "cell_type": "markdown",
   "metadata": {},
   "source": [
    "\n",
    "----"
   ]
  },
  {
   "cell_type": "code",
   "execution_count": 12,
   "metadata": {},
   "outputs": [
    {
     "name": "stdout",
     "output_type": "stream",
     "text": [
      "['powershell.exe', '-ExecutionPolicy', 'Bypass', '-Command', 'Start-Process \"C:\\\\Program Files\\\\Notepad++\\\\notepad++.exe\" -ArgumentList \"C:\\\\Users\\\\daveb\\\\OneDrive\\\\Documents\\\\GitHub\\\\job-hunting\\\\data\\\\html\\\\linkedin_email.html\"']\n"
     ]
    }
   ],
   "source": [
    "\n",
    "wsu.save_email_to_file('builtin', verbose=True)"
   ]
  },
  {
   "cell_type": "code",
   "execution_count": 8,
   "metadata": {},
   "outputs": [
    {
     "name": "stdout",
     "output_type": "stream",
     "text": [
      "https://u18536776.ct.sendgrid.net/ss/c/mTtJyuGHfDoEKQLfQ5xsFJSq7a_pmlcB60T6Q8DuHdkrGqM8uAwmZNUbo4MeNQP8uezdHn8RhPbDThAMj5pnbXhIWVM4g8iclH6r2ZQrjw0rc5SWackO8KETlYXPUTUl_ZSnfD6WTtg95ZnbO0uKFE7NBowDH89GFQt8ZsD_co_Ojc22PydHqTdTlmZ4-EWC19E1J428s7_JlBNC6a318HpYLOaeR_nN9PDcL-qhaAs/3ng/AtxM_xqtRdeo7jNTWLmkZw/h35/Lm1tanbxXoAP5uE19hBqMD8SPbdDXA13Kr9ySLHGcrI\n",
      "https://u18536776.ct.sendgrid.net/ss/c/mTtJyuGHfDoEKQLfQ5xsFBJ564RaRzx1yWhvIKBx6yTBBpPxKvF0aKxKLFZyE_v21mOnyt_XFcl_wasijRlH4tLXEF6DFp9oEcg_LOciTNf6P0qjZZS_nzT0z6yBOOy7uE4sbC3gVm65J80zACejVuTP7PRbp7KnisnqCYD6zBS6geqTO0eFkbG85mWz1XClwG9UsKT8t1ZoDX-knJiIHhNncY4qiWu4pnuYqZH5Pss/3ng/AtxM_xqtRdeo7jNTWLmkZw/h36/k6QRPK-TFdXnXOK7-JAU5ZedTzzIH0x09WhE0blZNF4\n",
      "https://u18536776.ct.sendgrid.net/ss/c/mTtJyuGHfDoEKQLfQ5xsFJSq7a_pmlcB60T6Q8DuHdkgF7sXzTKz1a95ECD4GjgSVARynltc2M-7_u8dYZfcRy3rvFfTWAET0HGynUjtDSdJZ8aS59bWkkPHOkDhBhuPHXKc8KtaZcQmTxbWLhEPjHRlDbqh7ueWMMB_lfJ5xIBj2GOX9Xx4P9Qf1vPklj6o6uyexB8qhVY5LSPzG8KCcQ/3ng/AtxM_xqtRdeo7jNTWLmkZw/h37/e9xZV-WaHccWLBQ_Tc6QYrAA66SLSEubM2JmO1I7N44\n",
      "https://u18536776.ct.sendgrid.net/ss/c/mTtJyuGHfDoEKQLfQ5xsFBJ564RaRzx1yWhvIKBx6yT5dbtLc6LqYi9gjVGygv0jiMJdW0zCpIU7IuBcLCK4yXtmg_P9sWG4mQAb92s8jo-9bTREesfeOSgoDcd8p-szyImeUnPVfqlmveHogMQTO8bACsqdxAhrx6qdB_XOv3fyjf_cvEj8fIdsYe86dXcUu6g_nv3l1uuINoXEGLjSSTCQ3I92_WZIY-k7xkqll73hBS3ik9z9Q4F-MuQQOJJD/3ng/AtxM_xqtRdeo7jNTWLmkZw/h38/1T5JbrrjOJQOtNR8_LVSZSvRnKUvfNcdmHrovm_gPlI\n",
      "https://u18536776.ct.sendgrid.net/ss/c/mTtJyuGHfDoEKQLfQ5xsFJSq7a_pmlcB60T6Q8DuHdmBtaXTU0Z9-kYYBhktpsEvNx4zNV5w-ZPVYAJwxDNsOTZj3UtVlimZvu4cNZ63ykIJAPsGGyZ-llJOmLj2GXJfhHGO6aAa7jlddDwrs6i2QS0GeLWZRCbxnJTVC30UNgUrnndy1LlK09_Tu_8ZoY1CObnSrhk-PyQBN5kHTalGmQ/3ng/AtxM_xqtRdeo7jNTWLmkZw/h39/OcC8lH2_9WNlTY6sjjjtsBMsCRtKK84yPL607FhBYho\n",
      "https://u18536776.ct.sendgrid.net/ss/c/mTtJyuGHfDoEKQLfQ5xsFBJ564RaRzx1yWhvIKBx6yQyu7o-jOWLchcwZjzp7EQMB-p7UEyH4L_Xq-R6nGlp2ZknrKNaRm0tmEfEMn2YhiMlvCY0T21OAck8PB9BQhgt-K-mGpCezZ8cIfJRiCa2xKKFGeKSb1J00590De-wjRuUr0tQWqTkfh-BAH5I-VX0zf-hoe9OAlQNT7W61expUdrSymVX2edQugNkPlTFeZs/3ng/AtxM_xqtRdeo7jNTWLmkZw/h40/AOJM2G6F-Np1zolakwHDVBlr30Bz2n7pyF96EFkrUWg\n",
      "https://u18536776.ct.sendgrid.net/ss/c/mTtJyuGHfDoEKQLfQ5xsFJSq7a_pmlcB60T6Q8DuHdlWsfmbpzF2HeNfyj1VDg0j5CTSBMppN_Rz4SVPRUsM08xFLuRQuYFWY8tCJqVr7FYifJP9ggeM1cISexjNiq2TExmLb_ShOWYgBqj7UCYCH9rPpXIUTThnpfBW_Dxs06TvoNVLHI67YB4RHkjSKgdL9u1ivfuJmu6AkZgyoxiJVPZJ6whQ4hCU4YQWALe3pzM/3ng/AtxM_xqtRdeo7jNTWLmkZw/h41/eXUk_spWVijwXR0_aMnzB3DaZtxCth2Ndg2P76zD3EI\n",
      "https://u18536776.ct.sendgrid.net/ss/c/mTtJyuGHfDoEKQLfQ5xsFBJ564RaRzx1yWhvIKBx6yTM0kUr-qxUvl7JnMQDPvnYIsIA2XILIiv4xd0r-aDo3Vk5s-uKvLb3j5iWVX0DXSmnJembjpXkyixF8j4TmWSpSV6JAUWrPDTdGpUr6nSv7G7RycV8_nj5MNvibt2yVAfLe32VAWUT-ullIN5Nz3QSOpwNk7_zAzuALacNTgc-6gMt_0zVEH83ruhf34qAxQUZStEof9BxV4KqwbkpyD9G/3ng/AtxM_xqtRdeo7jNTWLmkZw/h42/aLtYTMUhE9eIViv4w1B1cDRMfjsb48c144t9dWt71Fo\n",
      "https://u18536776.ct.sendgrid.net/ss/c/mTtJyuGHfDoEKQLfQ5xsFJSq7a_pmlcB60T6Q8DuHdkm5w4sn3dwEbimnELGARP6zLGFxq1yW-3CahxLtscGYEugHprI9Ydl0g80FvxJOAQcUparz1CP7_1cCuhGkvrfB4zfvRhqy7LH0t91HdEC2S-GtXlmooBh6Lc7VRdErToHYqqy8Yk0XnLR8T3yZbzp4CbZi8dW2-TUO7L8rgR25Q/3ng/AtxM_xqtRdeo7jNTWLmkZw/h43/bQ1OYsmMlKENmeCKdtits2_7J8L2ncX0BarU3MNiaQg\n",
      "https://u18536776.ct.sendgrid.net/ss/c/mTtJyuGHfDoEKQLfQ5xsFBJ564RaRzx1yWhvIKBx6yR-cfRFJbEJ96OYPhv4pfaGfubUpYo3fbXSyLIHL2ZlJSvWtN19y4k-ADw5vYEWlXJkiPxqAKcE8E6zCKae85D2OUDitjI9R4AuJ7IbR30xpDg3FZk0TFND0WFl6_GqL26Q7wt_R_3OLoVcJy3Ru60taJ4hLczgs35N2VKLJwbO3vDc3JN0AQ3ou0mKLNGN23c/3ng/AtxM_xqtRdeo7jNTWLmkZw/h44/a75yJ-TvqLE_YrDY1qxOEheea2sXMgtnhjs73ULmP9A\n",
      "https://u18536776.ct.sendgrid.net/ss/c/mTtJyuGHfDoEKQLfQ5xsFJSq7a_pmlcB60T6Q8DuHdn4EUYodiqBXoP6tfWMv7588acjCBi0GeSF6FYDLUk4YHvIeoqZckO5YJA0QCZGCHsP0d3ljNyCykvrHk8_k0uwK90tQfN4CbiBGtUMSpdDOLrQXBi0qLuGYGgB_VmMk1-bo0pH9naWs-0iZ4xWpnVs-rmJnpiqyGMIGKYXMcUxZw/3ng/AtxM_xqtRdeo7jNTWLmkZw/h45/hbWI2aZ1WIIhZspxJYoLopQQl5ABV3aCtLzZ7r0IypU\n",
      "https://u18536776.ct.sendgrid.net/ss/c/mTtJyuGHfDoEKQLfQ5xsFBJ564RaRzx1yWhvIKBx6yR-cfRFJbEJ96OYPhv4pfaG_6ZKZtagGwmgb_sxsApO-f6ufqd_ivPJEbEOK2SZMyzRzdb8P0lg2GGcls9hVVMHHUcTekwIzTL4Dhn1clL74uNjcEL1z0uIf7vK_1OUYF_vt_M_WSgJBWVPYRGV9xReqx8FppMFtDXhvbUltO1lJxJr8hMVnJBgTYIJvc6as8iAEz4lVeqJXI-sWCmxJ66Q/3ng/AtxM_xqtRdeo7jNTWLmkZw/h46/uyGlSZtRDJMDUwCgGmSEgVzSSz_sBgHXWogxTIq3Xhk\n",
      "https://u18536776.ct.sendgrid.net/ss/c/mTtJyuGHfDoEKQLfQ5xsFJSq7a_pmlcB60T6Q8DuHdntbErnehP4bq6Pftts3PrsC8xaa1ZiTJokAHxd3Oi0K_T_kOlzISDa0Nh6mXW8_vIHqWdwk7fUmwmbPUO4Q44BKWb0aBtrJLiMFdIgKLbt_bIybVZz5ZfHCSuQPxXNrXdWTb9ihvW-D4N1IJL64ZrGMw9iBWB0j1NAS3SqqwIeRQ/3ng/AtxM_xqtRdeo7jNTWLmkZw/h47/V4zAGairZ5IiIOhr_RJbePQeNg2NWRFbJWKApvWMU0M\n",
      "https://u18536776.ct.sendgrid.net/ss/c/mTtJyuGHfDoEKQLfQ5xsFBJ564RaRzx1yWhvIKBx6yR3U8S7G-bfnsX8OG529eCJnP6_1minK8uXl_8HJxNibFuHDLiVolsC6POEW121sfPU88_ZQI1Zy7ut5xyhg_SVzdv3XfFu7Glzy_6kf9IOFSo9JQhnvDG9zVGrhCGE_T0ALBxkol0d44our30usTtZnWABOJUpjrohPwfe-i_wEI1pqCMU95jfemJxEMG15Us/3ng/AtxM_xqtRdeo7jNTWLmkZw/h48/lN6sH0iCkS-7Oi5_hlVdydRtRRmsUCKu7ZLgJcZNm1g\n",
      "https://u18536776.ct.sendgrid.net/ss/c/mTtJyuGHfDoEKQLfQ5xsFJSq7a_pmlcB60T6Q8DuHdkmRAvh8FKGM66hloQFDcVGpjw33P9BAQV_C1udlb8u1mWoonplnTwcGu7NywYEXTRD_2D1ofiIxoyv3FKssRTSo68rlQjWbrP2p8t7QD2qmrA-BIVS6P9PBxlCQy23ugLmAjXJ8CMyyd4GUcObHcuE53D5JMJxPagVTGi2HZOXYA/3ng/AtxM_xqtRdeo7jNTWLmkZw/h49/2MlFlxf2NZA-iXJuUVO6pE59-Naalmk8wlmIFgp5d5g\n",
      "https://u18536776.ct.sendgrid.net/ss/c/mTtJyuGHfDoEKQLfQ5xsFBJ564RaRzx1yWhvIKBx6ySa3HUY2uoGt1418wI8-HF804IWhnE_a89Kkxe-LJLlijgxxOjFm4knX1lK3C2_j-5MYmM41lhKpyhPI6yi7zJ6yl47T7w8OxlpXWz_K0hx_Pyd2kZ5yhLyGPzu1OYpCNv_5SivvTKdhrumatR9Y02klPLafXy1aSMllUBgUXdtfOB7ncgXFLtJRlldbGlM8B9HT69kn1cSE5aZSBo-QneH/3ng/AtxM_xqtRdeo7jNTWLmkZw/h50/w3F561m7ZPIbhyMgzWjvT4-dFuaeIQK99TV1P1JsP3I\n",
      "https://u18536776.ct.sendgrid.net/ss/c/mTtJyuGHfDoEKQLfQ5xsFJSq7a_pmlcB60T6Q8DuHdk9fWo9q1KhmXGzWYYhdcb1L2-88GdKM9C0RSywFmHeItepPxqrcoumhvRAcOzOzCw6jE5JIaSSx39I3LB-B9U3vrmQCxR-o-_ovzNWCc6E8MjOtJnWhz8azbWoCmEqPTDFOqI0O2x6KpMnLD5hiOfzeUqdc8MCzHmxCzb4GCHukA/3ng/AtxM_xqtRdeo7jNTWLmkZw/h51/lccXzXYC0Jn_ISGLD3nmXqE1DU2TiDh_IGpbXY8dwb8\n",
      "https://u18536776.ct.sendgrid.net/ss/c/mTtJyuGHfDoEKQLfQ5xsFBJ564RaRzx1yWhvIKBx6yTKRgovTUUUJedcFuBzGtkq7RMlTRCQH6hzQcqOBUYgtD9NCTIbykMxv-FZ4bEM9OiFVgTTPowBSBqJTXYpDEBkwaRr1A1g0dZFkseR4GJRrKqBxDrGKugrEWSOJjVl3gGoHSShqJoFRLRGlrFAb9noQvFJcL_461AukJGIjpBq8x7bZcLH0j0rrpsfWM-CwNT03z24fZANyG8Pxumebm4vRdKdb1STIelfJRTYl0680Q/3ng/AtxM_xqtRdeo7jNTWLmkZw/h52/9ac35w7DaR5dWr9xpSryST5CnEkqwGwqxtgjqlbU8rM\n",
      "https://u18536776.ct.sendgrid.net/ss/c/mTtJyuGHfDoEKQLfQ5xsFJSq7a_pmlcB60T6Q8DuHdnWtKWGvMeR_PPmLdryUMPVPbLBTDGtnh72KFz06VcPbDtuF8LlwQDrEH_imOMd0yy1GiEsWu5jYUNBOYtbaTzz1wnwOprwGWmMMUMGJoFszjvHUiaeYnY5IYafVhzGKpu_f-nyXAKM3Ehu7F_h44suoh91lxGAyg6KueyQBlcbcA/3ng/AtxM_xqtRdeo7jNTWLmkZw/h53/7kSr4Fx3EzYlMrzzKZCDTqbncHCBtSwP2sDUUgl3Kaw\n",
      "https://u18536776.ct.sendgrid.net/ss/c/mTtJyuGHfDoEKQLfQ5xsFBJ564RaRzx1yWhvIKBx6yTF4kgGiSjR8GwPrEf9teQVg4Iqcdt483VNqMcYsloMjm22a9EAqaJJxjpQfDUtyarMxInPKzd3SDQBFLFRe_uUu6dNII9zsfjeunFl8UtqoOofPkJzBwQJKTe1IDoOb5L00F6Hw2egS42sk_hjseuaavyR7pth06MYgysgWJik0JerYbJE47J2faHKl8MlESHlCYlzeRy5aa4FyJ-2kTxV/3ng/AtxM_xqtRdeo7jNTWLmkZw/h54/_0WPmBC9vHPQ_U11v2tVtjgZ1x_5VsbOfW-Y-A4JiC0\n",
      "https://u18536776.ct.sendgrid.net/ss/c/mTtJyuGHfDoEKQLfQ5xsFO7u5OvHy39DLUZdsxdbJVTbqeFN2VZUhU3vSSmEDFBPpFSXjtdihYY0dEpWBi1ybdjMebElVv2-NzYeYSyDuLgLSvUw7tEpPj2DXw96SuT5V7K5bW4P_FaDQEU8YGNS3uTrylUyUxvM9PZSKEDII24iQ4XB4gbyc2Xl-fan8Pmi/3ng/AtxM_xqtRdeo7jNTWLmkZw/h55/HEK8DESoBe7RS7N9gN5pt_EBLYGC656Gdfznjimxc-4\n",
      "https://u18536776.ct.sendgrid.net/ss/c/mTtJyuGHfDoEKQLfQ5xsFHDnFw8byQC-CPgUVPybKJ7uwCijtuSpK11FNq07xPyOfAEGX5rpQ2A5rA18KXvCu47oD7zyHKRpr3089H8mDdlpBxG8gRY5xPCAaa6qAenj-Hju5CyuPXYhnOoJC9g9MasGySKvfFipMlxbt7ZRT4EVo6m50TTq73sfxl6gj8uXlYaXAg5CG51mNpjIYIbrVQ/3ng/AtxM_xqtRdeo7jNTWLmkZw/h56/9Hp6luCOKpe6BLjMb_aoq9QT58mBMgTzJeqeM1g3gxw\n",
      "https://u18536776.ct.sendgrid.net/ss/c/mTtJyuGHfDoEKQLfQ5xsFJSq7a_pmlcB60T6Q8DuHdlHjpM_b6i2GVf1GC_wbAY2W8vVeHJcJ5Rpn6xxpn4M6sguK15VPaZO2JRwHV5Xoo8y9n6gb3QAzW5lGVKlfm4SOADXa2FyVrhA0a3OtyMSMasWoZvLu_PPpXLNa4erzFX5yWSqK8GChG6u1pbI_kpv0e12A-ea01A0lqjS-Pi2Yg/3ng/AtxM_xqtRdeo7jNTWLmkZw/h57/WeD6onCvZqc4R73iAJ6PZqoUCRTV2pYCgRCEjxILCU4\n",
      "https://u18536776.ct.sendgrid.net/ss/c/mTtJyuGHfDoEKQLfQ5xsFBJ564RaRzx1yWhvIKBx6yTHZXeMJ_bJrAHrHFvzaaLK8m__xdui0V84qVzLbST6AK9QlHDrlw-RJV_44vTDOlsI-S5GWjSaRahqzD3b_MhAhcfg4rSR8K6S03BOWU-C3PmbFz9ety1rP7pmLt_t1tlSIHtReA4LBA0_uhq5whOBwLNCX0KfpUjc51DQuwTQcUYuyJOXI5Ztu8adSFrp0sQvKuS63xgLMdmOtSK5P3sF/3ng/AtxM_xqtRdeo7jNTWLmkZw/h58/Ayl0GFXsDpHUecNgZPpsHmAFpO8yB94hnClpEar-_Wo\n",
      "https://u18536776.ct.sendgrid.net/ss/c/mTtJyuGHfDoEKQLfQ5xsFJSq7a_pmlcB60T6Q8DuHdkDtOWX2vb05pSs-W4A_farxhxDaaKxMtRlPD-_Y69AygexcOqNTTS7y4jRjb-NyIB1YcqZjKIofJ_CiYnh8HeF-qxEY_GhBvPWVz0TM2XiB0h5NXLVV7Fn9Q3vyTACgj06su0NmGZkPd_3BrF_6Hwpod9FGb9RZ0yhe0oL8RWxgg/3ng/AtxM_xqtRdeo7jNTWLmkZw/h59/Pp04XuQJvrFeLBpT3I4cwE28_jXXNyjznjDnxvSWwWU\n",
      "https://u18536776.ct.sendgrid.net/ss/c/mTtJyuGHfDoEKQLfQ5xsFBJ564RaRzx1yWhvIKBx6yT5dbtLc6LqYi9gjVGygv0jR_-xV4nJfchVvZQWtibfqRiQRWAdv6ZY8odtXB8p44owd4PmHTR_zwcsfMX2ew8uwajBKIgw0hjGldbKKZirHJxpI-KB9axTYwUYkpZJIJHHodXXP7Dqy7qWccuo59mxsGfyOdDXb4Q6onf9oX-uK3ushtoMsryyTfddRmTKzTGSGHEnMP8icqJoymXv2vsE/3ng/AtxM_xqtRdeo7jNTWLmkZw/h60/T3RmGHIPAB7JrT31krc2aj2NDiQ3QV-QhsL08RK_1fg\n",
      "https://u18536776.ct.sendgrid.net/ss/c/mTtJyuGHfDoEKQLfQ5xsFJSq7a_pmlcB60T6Q8DuHdmtnIbM5oFW1HDjMz0hUCjBn5DMnYISNpyaIXCG-7lUSaK98MLqiJlhHOkjlLk4D-YnxsQCik9cWUWKlybDFFutOPAad_cAMqsJPWecLJfxgR46gDBUFc1-bF1-bIUdeVzm8-47_ZohJjwh-thJH70mgska0jFWYMrwB0UVmwWljyyvD0WOHfeNLuDW_t-cnGI/3ng/AtxM_xqtRdeo7jNTWLmkZw/h61/O8AP9SZ1WBixtVMSdh54nLGu5wEummuz-xAr1Rb6Gqo\n",
      "https://u18536776.ct.sendgrid.net/ss/c/mTtJyuGHfDoEKQLfQ5xsFBJ564RaRzx1yWhvIKBx6ySa3HUY2uoGt1418wI8-HF8dEs8Gh9HGvmgqvrjm4oFZ3LdIXpdoUxqqS0zWrfQRicRfY_URdc7aYCTCUw_cplrWokK2Lz07H_f7gIc8_6n--zzxzs_yLTOiuZtUa4KCvPKAomjbf4NSZjkfW8KXtJOBnV-wFFcBP8-8Wvi3lBeAKzpQMdxJaHke6SrAI4IZEk/3ng/AtxM_xqtRdeo7jNTWLmkZw/h62/6mJyTL67RnpQhHmO8LBWdG63-oN8b8mhVbmsqqTAOeg\n",
      "https://u18536776.ct.sendgrid.net/ss/c/mTtJyuGHfDoEKQLfQ5xsFJSq7a_pmlcB60T6Q8DuHdnRX8IMpAwZzUrelxZYbu3ry0UDoffB8s3rXCdcgIpGQP7RNEnFGbk68-_EtVMTuP5tmJE0dn0NfLm2EjdmLRSqXsbMcsMGOXpskuX94dyx-G_DKxbaREUkifMP_oFupCrnHr_x_zXvMro3mkdY_CXDb-xHJfIOjL2k_zrS6ZzDEw/3ng/AtxM_xqtRdeo7jNTWLmkZw/h63/hzOsSbb20qeCJjc7Lqmmj2I0cAbpxZZ_oZQlOyn2HdA\n",
      "https://u18536776.ct.sendgrid.net/ss/c/mTtJyuGHfDoEKQLfQ5xsFBJ564RaRzx1yWhvIKBx6ySsaTDL8HfP_YqQGGkcc6GM-XmS9a54e4Fa9yLgvAUpr7pI0p4lpzXnKx66I_Ul5RPu68biQLTdSKG7ob0tG4-iy6zx0_CVuscmJFOJpz6reovV_jKmc3kv9YKPtWxvWUPGt78ooVkQiVe0RKW12cOAYmYJc7Ui0QAj2vzhB3Nv_2DoOrExosEBd-gtHNhbetkTMrBDHEsOMfZi95y8nBAZjWcWkiCVy84-MaABtKjOaw/3ng/AtxM_xqtRdeo7jNTWLmkZw/h64/TNVsVUPw1ZTwXcFGsXJgOB3BRT9nht1_aRXjjJJ0xlM\n",
      "https://u18536776.ct.sendgrid.net/ss/c/mTtJyuGHfDoEKQLfQ5xsFJSq7a_pmlcB60T6Q8DuHdkWQr_l4Zb5RBcfTwfjKBpmJpjfLDrTjPAuQk7QnOamqii1SKaUVqAAcMLa9k3Z6v3lpZk-YKmY3pA23cBstc1DpvIZ71Wlg4qJtuzoezPforWrPf3lsELzdmfmIQRv7d71R1_M97PnjRatnzs4EK8faufwmCZBzcxEAOeWwqEHNA/3ng/AtxM_xqtRdeo7jNTWLmkZw/h65/XPf1joU6o2tWpg-u7VCk4P3ggxiyfrNdXnsHEZjbR00\n",
      "https://u18536776.ct.sendgrid.net/ss/c/mTtJyuGHfDoEKQLfQ5xsFBJ564RaRzx1yWhvIKBx6yQ-_WKoH7K4xfm9-BWU6y0S_o8FJCrg9KERNJaQu2GWDJCdTy6V93IEarL1_d-hQoNB6K8A3nuvXUpsnVl-4CFsGTRqS_gdT4YHypmR_6_88n9K7ASemt75DVWSS5ZgqDrQ7QjyOrTdHQubGIJAOux1I8TpZayEU0_575xKBvOg8QgrUAFb_3qpvCRBU1DBtUw/3ng/AtxM_xqtRdeo7jNTWLmkZw/h66/pI-prp4gx3jCy74thjlO80Zy40VEOP5sKot7tJ5AE5Q\n",
      "https://u18536776.ct.sendgrid.net/ss/c/mTtJyuGHfDoEKQLfQ5xsFJSq7a_pmlcB60T6Q8DuHdnkj4y44hYI4lLaoFv9fHdNTDtoX_9gF90qSOXYusCIGRfLv4WkY8nVsb5N_5FvUHD5653nX8Z4GwFgc-KLdpzriNi_4azzYI9QVqqoNNlG6OfbR16qVruh3V1Bvm0DYya4CDtg-2aWOfDZ6uUVZRwUpymCaIFV3WT61w80TepY-aaYiqGu0dulKIaP3wGNkRw/3ng/AtxM_xqtRdeo7jNTWLmkZw/h67/VqRJErl1R7MBhi2Q6l_B5pOGQJTvhYMGm_0s7IqaE6A\n",
      "https://u18536776.ct.sendgrid.net/ss/c/mTtJyuGHfDoEKQLfQ5xsFBJ564RaRzx1yWhvIKBx6yShfx-6_hp_bkgNSAsX4UVSE_Fkm9VK3qfMy6slydrqhw1_-E97O-i-RY5_8ySHLHWsQlHY1vL_KqTazQUHn_27AgjRDhyXh7z1GRBjG0QBXePF-pDcAvbgDShgsi1WLtfk-cYQCOntoBvmxyWZQqxqkkHW2aITqQt2lGdtajlMD19a5_9LFxlcyXJ_Pf31Cqs/3ng/AtxM_xqtRdeo7jNTWLmkZw/h68/sdxFBZrseJ-Pw5vHk9fTJu9PvLFZNMNtuciwa1XdLgk\n",
      "https://u18536776.ct.sendgrid.net/ss/c/mTtJyuGHfDoEKQLfQ5xsFJSq7a_pmlcB60T6Q8DuHdld4jEmtKSxcKFv1ZdHukEcWIQHexeFNB0ifQbeMmEEpn84dwjdmi85hE2DGbl-EuauTQu2g6InuhuEVJCd2QYrhPg8RGOvXRzBFqqY4oxNkJghRizA7XxQq5lMHfLzt1vQB9DCxkcFCJB_UU0454Y6zhdP9VU-69-NlPzYInv7Wg/3ng/AtxM_xqtRdeo7jNTWLmkZw/h69/mRTUEXV7ukT7WOP4tTUAX_ZAEeMiXr7RUTjy0_MXMMw\n",
      "https://u18536776.ct.sendgrid.net/ss/c/mTtJyuGHfDoEKQLfQ5xsFBJ564RaRzx1yWhvIKBx6yTBBpPxKvF0aKxKLFZyE_v2M-YL0hUUSNNwdsdt3jYCAZpa-7DElOsMee6vg8b7KN5_H8u9KGigo2Xt7QpEwkMB-fEiTtTNyf5MpV2IxTlVXW-tKO2-KXyRKexsCF8-hIHKyF-w6OdbO9XK7FJhFfpN0D9b5rne6Fqb05mQVn8D2nY5C0AWx1t1DD8WoqEa0V0/3ng/AtxM_xqtRdeo7jNTWLmkZw/h70/HUpadLscPVhkymKGuoF-frnhC1DXPJe4wBaaWJt43Hs\n",
      "https://u18536776.ct.sendgrid.net/ss/c/mTtJyuGHfDoEKQLfQ5xsFJSq7a_pmlcB60T6Q8DuHdnL0v_kNAcyIhoOzwOMR4GhvLjcDxlt8qPBvvoXDgpv8o77D6ZNzQtPzcn3efvrAhcmrFDSmf1dbzLPIZneKXihh98ftlc67pxF3mygs1ycnAujY2_81-Q5Tuy5qksfukBNDGOY5y734_qRorcfR03jwMhWjRqGgPixyFMD9DRFYg/3ng/AtxM_xqtRdeo7jNTWLmkZw/h71/56j40P1EC7rLj5jh5zj3P0ZWy20Cou9CxT0OaeET0DE\n",
      "https://u18536776.ct.sendgrid.net/ss/c/mTtJyuGHfDoEKQLfQ5xsFBJ564RaRzx1yWhvIKBx6yTpWRpzGkuFY79YfxlvjR9_iuKKEA2sAEeml_vYC7_8NDKRGVOA6R27DqTMHy8Gs3jJYOD3mIB5VM84qRqk_ZXCMwUVuRBXethcwpb_X4EkDHqIBwCcD3elPYCmk9UhDqNpkI0pTT6zx1F8AAE9IfLT7dgNx8mnEv11wEYZfQ6FJsBECjfOmqF7gWEaMLK1Kqc/3ng/AtxM_xqtRdeo7jNTWLmkZw/h72/kTKd-bGuOVwyda5FuZtCjsdFvwwuyc61CHrpmqljfSQ\n",
      "https://u18536776.ct.sendgrid.net/ss/c/mTtJyuGHfDoEKQLfQ5xsFJSq7a_pmlcB60T6Q8DuHdmBKnnlhsT9GyBAypU47f-MFCoR0p9DImLMqegauQspGkG8w42KEZEHOJqyU8p9S7AujFyi5vXHyTvGXffTRlk_dLG5638FeoI7zEXdOr9u7rvmDs1kktQLbl9kXJdVDpnVTuy6F7aPKSQnzeJp7IAltaONJrDlbmr45QGLhs_SRg/3ng/AtxM_xqtRdeo7jNTWLmkZw/h73/43z2jyhEMy_c11N0An8HhHihBbmRIgWF9MhrU1FUJcw\n",
      "https://u18536776.ct.sendgrid.net/ss/c/mTtJyuGHfDoEKQLfQ5xsFBJ564RaRzx1yWhvIKBx6yQVtoRuFtT61jRV7bXqtlD-rNH14hH1Currgemed2y9monjwkDk5vu3I8kDuPOwgO23PfjeYiiuaGri9au4b-e2EzPkQ38vRJm30SGrS54jVGQYipGuOjjCcM0DC-Qjw2imdzeElutn-IAU-_LZk3Alo7R_0YJa2pVznyvnLq32QG_XqZ7kL8pZ7YzK1AJL9Fg/3ng/AtxM_xqtRdeo7jNTWLmkZw/h74/zEATt9UhxJUKftRkpt5DMTRR1Gt_1kedwP-osacf2sA\n",
      "https://u18536776.ct.sendgrid.net/ss/c/mTtJyuGHfDoEKQLfQ5xsFJSq7a_pmlcB60T6Q8DuHdnmNhn5rZsqCOX8XjNgY8LR5uH5aSNFbk2t6qKFTLumklTwrBcTm5XT26kkfMplys83DGyA1QqkXxlFj9wfeiI18B7IirxJutIkcpJyXu8tQH0Jr5LbQ2Fh2HtJVqiSsGTiI74Yl-0h9OCcWjoJPAJAxLkJ2lhS1m2LpXYK2XIW5A/3ng/AtxM_xqtRdeo7jNTWLmkZw/h75/ERrATwRi6nr3Uel9hfMkEYli7xU9AJujEwBQ8FUreAg\n",
      "https://u18536776.ct.sendgrid.net/ss/c/mTtJyuGHfDoEKQLfQ5xsFBJ564RaRzx1yWhvIKBx6yTJmsSjTeNw04wtNOsjrAVt1JTtgVofYxX0Cj6vsVZj1Twk9W7pkoRYrXAVNppMavgm3sV3fxw15Wjh_gCr195YaOXDWPmHJGNqYtIqcPnetBMmCxBT15Id84UurFsgM_gWt13srjSNbknDT096idPTbvI8sl86qm-5p-7x8rgJV25Tr_jwmW1tGJHjqUDWjiU/3ng/AtxM_xqtRdeo7jNTWLmkZw/h76/mQFCuyBWVQWlqgJZlfsOshopvbhBrRg0zrnukqEQt_4\n",
      "https://u18536776.ct.sendgrid.net/ss/c/mTtJyuGHfDoEKQLfQ5xsFHDnFw8byQC-CPgUVPybKJ7uwCijtuSpK11FNq07xPyOfAEGX5rpQ2A5rA18KXvCu47oD7zyHKRpr3089H8mDdlpBxG8gRY5xPCAaa6qAenj-Hju5CyuPXYhnOoJC9g9MasGySKvfFipMlxbt7ZRT4EVo6m50TTq73sfxl6gj8uXlYaXAg5CG51mNpjIYIbrVQ/3ng/AtxM_xqtRdeo7jNTWLmkZw/h77/E-U4u7Y_CZ6JaUDl4GNSAd8Fc7ZTtHGQzuQDS1f4_v4\n",
      "https://u18536776.ct.sendgrid.net/ss/c/mTtJyuGHfDoEKQLfQ5xsFJ-peWNFXICFJAJWhKzTt98FDePZVAP1CHrVBlQwgk9OBmyOr1G2fzr2a8duCEq0J8VmdzqzOF9xTRCPQdD-LTYsOQVz1yPf1Va67gtrmncziGAX4AZpYGZRmfLDVI7EPHjUjlXUu1-iBSxpzjhcMSSq8svwhvv2Mm_hmT33jTXy/3ng/AtxM_xqtRdeo7jNTWLmkZw/h78/H5Ceak6HIP4-4X-9Vdwmk-wbFDXNiY72vNUKj1bi9ZI\n"
     ]
    }
   ],
   "source": [
    "\n",
    "file_path = '../data/html/builtin_email.html'\n",
    "page_soup = get_page_soup(file_path)\n",
    "css_selector = 'a'\n",
    "link_soups_list = page_soup.select(css_selector)\n",
    "for link_obj in link_soups_list:\n",
    "    print(link_obj['href'])"
   ]
  },
  {
   "cell_type": "code",
   "execution_count": 9,
   "metadata": {},
   "outputs": [
    {
     "name": "stdout",
     "output_type": "stream",
     "text": [
      "Filing complete\n"
     ]
    }
   ],
   "source": [
    "\n",
    "files_list = []\n",
    "for link_soup in link_soups_list:\n",
    "    url_str = link_soup['href']\n",
    "    try:\n",
    "        page_soup = get_page_soup(url_str)\n",
    "        page_title = page_soup.find('title').string.strip()\n",
    "        file_name = re.sub(r'[^A-Za-z0-9]+', ' ', page_title).strip().replace(' ', '_')\n",
    "        jk = parse_qs(urlparse(url_str).query).get('jk', [''])[0]\n",
    "        if len(jk):\n",
    "            file_name = f'{jk}_{file_name}.html'\n",
    "        else:\n",
    "            # file_name = datetime.now().strftime('%Y%m%d%H%M%S%f') + f'_{file_name}.html'\n",
    "            file_name = f'{file_name}.html'\n",
    "        file_path = os.path.join(cu.SAVES_HTML_FOLDER, file_name)\n",
    "        if not os.path.isfile(file_path):\n",
    "            with open(file_path, 'w', encoding=s.encoding_type) as f:\n",
    "                print(f'Saving to {file_path}')\n",
    "                f.write('<html><head><title>')\n",
    "                f.write(page_title)\n",
    "                f.write('</title></head><body>')\n",
    "                row_div_list = page_soup.find_all(name='div', attrs={'class': ['jobsearch-JobComponent-description']})\n",
    "                for div_soup in row_div_list:\n",
    "                    f.write(str(div_soup))\n",
    "                f.write('</body></html>')\n",
    "            files_list.append(file_name)\n",
    "        cu.ensure_filename(file_name, verbose=False)\n",
    "        \n",
    "        def do_cypher_tx(tx, file_name, url_str, verbose=False):\n",
    "            cypher_str = \"\"\"\n",
    "                MATCH (fn:FileNames {file_name: $file_name})\n",
    "                SET fn.posting_url = $url_str\n",
    "                RETURN fn;\"\"\"\n",
    "            if verbose:\n",
    "                clear_output(wait=True)\n",
    "                print(cypher_str.replace('$file_name', f'\"{file_name}\"').replace('$url_str', f'\"{url_str}\"'))\n",
    "            tx.run(cypher_str, file_name=file_name, url_str=url_str)\n",
    "        \n",
    "        with cu.driver.session() as session:\n",
    "            session.write_transaction(do_cypher_tx, file_name=file_name, url_str=url_str, verbose=False)\n",
    "    except HTTPError as e:\n",
    "        print(f'Got an HTTPError with {url_str}: {str(e).strip()}')\n",
    "    except URLError as e:\n",
    "        print(f'Got an URLError with {url_str}: {str(e).strip()}')\n",
    "    except Exception as e:\n",
    "        print(f'Got an {e.__class__.__name__} error with {url_str}: {str(e).strip()}')\n",
    "print('Filing complete')"
   ]
  },
  {
   "cell_type": "code",
   "execution_count": 10,
   "metadata": {},
   "outputs": [],
   "source": [
    "\n",
    "cu.ensure_navigableparent('END', verbose=False)\n",
    "for file_name in files_list:\n",
    "    file_path = os.path.join(cu.SAVES_HTML_FOLDER, file_name)\n",
    "    page_soup = get_page_soup(file_path)\n",
    "    row_div_list = page_soup.find_all(name='div', id='jobDescriptionText')\n",
    "    for div_soup in row_div_list:\n",
    "        child_strs_list = ha.get_navigable_children(div_soup, [])\n",
    "        cu.populate_from_child_strings(child_strs_list, file_name, verbose=False)"
   ]
  },
  {
   "cell_type": "code",
   "execution_count": 11,
   "metadata": {},
   "outputs": [
    {
     "data": {
      "text/plain": [
       "[]"
      ]
     },
     "execution_count": 11,
     "metadata": {},
     "output_type": "execute_result"
    }
   ],
   "source": [
    "\n",
    "files_list"
   ]
  },
  {
   "cell_type": "code",
   "execution_count": null,
   "metadata": {},
   "outputs": [],
   "source": []
  }
 ],
 "metadata": {
  "anaconda-cloud": {},
  "kernelspec": {
   "display_name": "Python 3 (ipykernel)",
   "language": "python",
   "name": "python3"
  },
  "language_info": {
   "codemirror_mode": {
    "name": "ipython",
    "version": 3
   },
   "file_extension": ".py",
   "mimetype": "text/x-python",
   "name": "python",
   "nbconvert_exporter": "python",
   "pygments_lexer": "ipython3",
   "version": "3.9.18"
  }
 },
 "nbformat": 4,
 "nbformat_minor": 4
}
