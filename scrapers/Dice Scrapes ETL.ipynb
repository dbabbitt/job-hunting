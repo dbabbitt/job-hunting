{
 "cells": [
  {
   "cell_type": "code",
   "execution_count": 1,
   "metadata": {},
   "outputs": [
    {
     "name": "stdout",
     "output_type": "stream",
     "text": [
      "Pretty printing has been turned OFF\n",
      "======== Neo4j/4.4.7 ========\n",
      "Utility libraries created in 4 seconds\n"
     ]
    }
   ],
   "source": [
    "\n",
    "%pprint\n",
    "import sys\n",
    "if ('../py' not in sys.path): sys.path.insert(1, '../py')\n",
    "from jobpostlib import (cu, datetime, duration, freq, hau, humanize, nu, scrfcu, slrcu, su, t0, time, wsu, speech_engine)\n",
    "import os"
   ]
  },
  {
   "cell_type": "code",
   "execution_count": 2,
   "metadata": {},
   "outputs": [
    {
     "name": "stdout",
     "output_type": "stream",
     "text": [
      "['powershell.exe', '-ExecutionPolicy', 'Bypass', '-Command', 'Start-Process \"C:\\\\Program Files\\\\Notepad++\\\\notepad++.exe\" -ArgumentList \"C:\\\\Users\\\\daveb\\\\OneDrive\\\\Documents\\\\GitHub\\\\job-hunting\\\\data\\\\html\\\\dice_email.html\"']\n"
     ]
    }
   ],
   "source": [
    "\n",
    "wsu.save_email_to_file('dice', verbose=True)"
   ]
  },
  {
   "cell_type": "markdown",
   "metadata": {
    "tags": []
   },
   "source": [
    "\n",
    "---\n",
    "# Load needed libraries and functions"
   ]
  },
  {
   "cell_type": "markdown",
   "metadata": {},
   "source": [
    "\n",
    "----"
   ]
  },
  {
   "cell_type": "code",
   "execution_count": 3,
   "metadata": {},
   "outputs": [
    {
     "name": "stdout",
     "output_type": "stream",
     "text": [
      "Getting the FireFox driver\n",
      "platform.system() = Windows\n",
      "os.name = nt\n",
      "gecko_driver_path = GeckoDriverManager().install() = C:\\Users\\daveb\\.wdm\\drivers\\geckodriver\\win64\\v0.34.0\\geckodriver.exe\n",
      "Getting URL: https://www.dice.com/dashboard/logout\n",
      "Filling in the email field with dave.babbitt@gmail.com\n",
      "Clicking /html/body/div[3]/div/div/div[2]/div/form/button\n",
      "Clicking /html/body/div[3]/div/div/div[2]/div/form/button\n"
     ]
    },
    {
     "data": {
      "text/plain": [
       "5"
      ]
     },
     "metadata": {},
     "output_type": "display_data"
    }
   ],
   "source": [
    "\n",
    "try:\n",
    "    driver = wsu.get_driver(verbose=True)\n",
    "    wsu.log_into_dice(driver)\n",
    "    speech_engine.say('Browser available'); speech_engine.runAndWait()\n",
    "finally:\n",
    "    file_path = '../data/html/dice_email.html'\n",
    "    page_soup = wsu.get_page_soup(file_path)\n",
    "    css_selector = 'a[href^=\"https://elinks.dice.com/u/click\"]'\n",
    "    link_soups_list = page_soup.select(css_selector)\n",
    "    \n",
    "    # Get rid of the duplicate URLs\n",
    "    url_strs_set = set()\n",
    "    for link_soup in link_soups_list:\n",
    "        url_str = link_soup['href']\n",
    "        url_strs_set.add(url_str)\n",
    "    \n",
    "    display(len(url_strs_set))"
   ]
  },
  {
   "cell_type": "markdown",
   "metadata": {},
   "source": [
    "\n",
    "## Check the back Firefox window to make sure you logged in correctly and don't have any messages to read"
   ]
  },
  {
   "cell_type": "code",
   "execution_count": 19,
   "metadata": {},
   "outputs": [
    {
     "name": "stdout",
     "output_type": "stream",
     "text": [
      "Getting URL: https://elinks.dice.com/u/click?_t=e502579e04e64e54be8d45899f017693&_m=d1ae217dbcb54989990a1ff8e30de126&_e=2Uk1kY5r3uU4c7kIXkp6DI_Hsv0eeRO3zu0_gJTAiODjP7kjW-W-f3T7lVA2isR-2AuGP-F0KrrB_aNkgFRYnsgEJ7zSYZsR2INKApegViacVu5ZOK3HEZXdLc2ZFVJDA9_OSgr5l6akfc7fxOy1nwcXuVlOHFtzhY8XZTsNdAdsxObjmNESkS84FK_M6qOTEswfezzgy9hT-WmPTryuk5RefxX6lmo_M5TG45IBX5pwAeQAzr7jH6_YbvBb97Kl0zEl-zyZ9NiT1U2fUmTVl5EqbBKrGs9lQ1aAR9IKP91vm2J7osHuXYP4uBpBczVGJCzYhzAlOjKxETJ2d8DmjmoG6QeoRovGD8hIqgzu10CRYTTGaWZ-Kk9z8fRO8Mx6\n"
     ]
    }
   ],
   "source": [
    "\n",
    "for viewjob_url in url_strs_set:\n",
    "    wsu.driver_get_url(driver, viewjob_url, verbose=True)\n",
    "    from selenium.webdriver.support.ui import WebDriverWait\n",
    "    from selenium.webdriver.support import expected_conditions as EC\n",
    "    from selenium.webdriver.common.by import By\n",
    "    from selenium.webdriver.common.keys import Keys\n",
    "    import time\n",
    "    \n",
    "    # Get the page soup\n",
    "    from urllib.error import HTTPError, URLError\n",
    "    try: page_soup = wsu.get_page_soup(viewjob_url, driver)\n",
    "    except HTTPError as e:\n",
    "        print(f'Got an HTTPError with {viewjob_url}: {str(e).strip()}')\n",
    "    except URLError as e:\n",
    "        print(f'Got a URLError with {viewjob_url}: {str(e).strip()}')\n",
    "    except Exception as e:\n",
    "        print(f'Got an {e.__class__.__name__} error with {viewjob_url}: {str(e).strip()}')\n",
    "    \n",
    "    # Skip any NAs\n",
    "    if not any(\n",
    "        ['no longer available' in stripped_str for div_soup in page_soup.select('div.container > div') for stripped_str in div_soup.stripped_strings]\n",
    "    ):\n",
    "        break"
   ]
  },
  {
   "cell_type": "code",
   "execution_count": 20,
   "metadata": {},
   "outputs": [
    {
     "name": "stdout",
     "output_type": "stream",
     "text": [
      "Clicking //*[@id=\"app\"]/div/section/div/div[1]/seds-container/seds-row/seds-column[1]/section/div/div/section/button\n"
     ]
    }
   ],
   "source": [
    "\n",
    "# <button data-v-7aa0017f=\"\" type=\"button\" class=\"seds-text-utility-interaction\">Show More <seds-icon data-v-7aa0017f=\"\" class=\"hydrated\"></seds-icon></button>\n",
    "#app > div > section > div > div:nth-child(2) > seds-container > seds-row > seds-column.sc-seds-column-h.sc-seds-column-s.seds-col-9.hydrated > section > div > div > section > button\n",
    "xpath = '//*[@id=\"app\"]/div/section/div/div[1]/seds-container/seds-row/seds-column[1]/section/div/div/section/button'\n",
    "wsu.click_by_xpath(driver, xpath, verbose=True)"
   ]
  },
  {
   "cell_type": "code",
   "execution_count": null,
   "metadata": {},
   "outputs": [],
   "source": []
  },
  {
   "cell_type": "code",
   "execution_count": 11,
   "metadata": {},
   "outputs": [
    {
     "name": "stdout",
     "output_type": "stream",
     "text": [
      "Fileing 0 postings complete. Delete the email.\n"
     ]
    }
   ],
   "source": [
    "\n",
    "files_list = []\n",
    "for url_str in url_strs_set:\n",
    "    file_node_dict, files_list = su.load_dice_posting_url(url_str, driver, files_list, verbose=False)\n",
    "print(f'Fileing {len(files_list)} postings complete. Delete the email.')"
   ]
  },
  {
   "cell_type": "code",
   "execution_count": 12,
   "metadata": {},
   "outputs": [
    {
     "data": {
      "text/plain": [
       "[]"
      ]
     },
     "execution_count": 12,
     "metadata": {},
     "output_type": "execute_result"
    }
   ],
   "source": [
    "\n",
    "try:\n",
    "    driver.close()\n",
    "except Exception as e:\n",
    "    print(f'{e.__class__.__name__} error: {str(e).strip()}')\n",
    "cu.ensure_navigableparent('END', verbose=False)\n",
    "for file_name in files_list:\n",
    "    file_path = os.path.join(cu.SAVES_HTML_FOLDER, file_name)\n",
    "    if os.path.isfile(file_path):\n",
    "        page_soup = wsu.get_page_soup(file_path)\n",
    "        for div_soup in page_soup.find_all(name='div', attrs={'id': 'jobDescriptionText'}):\n",
    "            child_strs_list = hau.get_navigable_children(div_soup, [])\n",
    "            assert child_strs_list, f'Something is wrong with {file_name}'\n",
    "            cu.populate_from_child_strings(child_strs_list, file_name, verbose=False)\n",
    "wsu.beep(freq, duration)\n",
    "files_list"
   ]
  },
  {
   "cell_type": "code",
   "execution_count": null,
   "metadata": {},
   "outputs": [],
   "source": []
  }
 ],
 "metadata": {
  "anaconda-cloud": {},
  "kernelspec": {
   "display_name": "Job Hunting (Python 3.10.9)",
   "language": "python",
   "name": "jh_env"
  },
  "language_info": {
   "codemirror_mode": {
    "name": "ipython",
    "version": 3
   },
   "file_extension": ".py",
   "mimetype": "text/x-python",
   "name": "python",
   "nbconvert_exporter": "python",
   "pygments_lexer": "ipython3",
   "version": "3.10.9"
  }
 },
 "nbformat": 4,
 "nbformat_minor": 4
}
