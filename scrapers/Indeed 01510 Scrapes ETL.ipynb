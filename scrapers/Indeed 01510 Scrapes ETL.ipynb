{
 "cells": [
  {
   "cell_type": "code",
   "execution_count": 1,
   "metadata": {},
   "outputs": [
    {
     "name": "stdout",
     "output_type": "stream",
     "text": [
      "Pretty printing has been turned OFF\n",
      "======== Neo4j/4.4.7 ========\n",
      "Utility libraries created in 10 seconds\n"
     ]
    }
   ],
   "source": [
    "\n",
    "%pprint\n",
    "import sys\n",
    "import os.path as osp\n",
    "\n",
    "executable_path = sys.executable; scripts_folder = osp.join(osp.dirname(executable_path), 'Scripts')\n",
    "py_folder = osp.abspath('../py'); ffmpeg_folder = r'C:\\ffmpeg\\bin'\n",
    "if (scripts_folder not in sys.path): sys.path.insert(1, scripts_folder)\n",
    "if (py_folder not in sys.path): sys.path.insert(1, py_folder)\n",
    "if (ffmpeg_folder not in sys.path): sys.path.insert(1, ffmpeg_folder)\n",
    "from jobpostlib import (cu, datetime, duration, freq, hau, humanize, nu, scrfcu, slrcu, su, t0, time, wsu, speech_engine)\n",
    "import os"
   ]
  },
  {
   "cell_type": "markdown",
   "metadata": {},
   "source": [
    "\n",
    "----"
   ]
  },
  {
   "cell_type": "code",
   "execution_count": 7,
   "metadata": {},
   "outputs": [
    {
     "name": "stdout",
     "output_type": "stream",
     "text": [
      "['powershell.exe', '-ExecutionPolicy', 'Bypass', '-Command', 'Start-Process \"C:\\\\Program Files\\\\Notepad++\\\\notepad++.exe\" -ArgumentList \"C:\\\\Users\\\\daveb\\\\OneDrive\\\\Documents\\\\GitHub\\\\job-hunting\\\\data\\\\html\\\\indeed_email.html\"']\n"
     ]
    }
   ],
   "source": [
    "\n",
    "wsu.save_email_to_file('indeed', verbose=True)"
   ]
  },
  {
   "cell_type": "code",
   "execution_count": 8,
   "metadata": {},
   "outputs": [
    {
     "name": "stdout",
     "output_type": "stream",
     "text": [
      "I found 9 urls (in United States, Clinton, MA • Hybrid remote, Clinton, MA, and United States • Hybrid remote) in indeed_email.html\n"
     ]
    }
   ],
   "source": [
    "\n",
    "driver = wsu.get_driver(verbose=False); speech_engine.say('Browser available'); speech_engine.runAndWait()\n",
    "viewjob_links_set = set(); location_strs_set = set()\n",
    "file_path = '../data/html/indeed_email.html'\n",
    "page_soup = wsu.get_page_soup(file_path)\n",
    "rows_css = 'table > tbody > tr'\n",
    "cells_css = 'td > a > table > tbody > tr:nth-child(3) > td'\n",
    "row_soups_list = page_soup.select(rows_css)\n",
    "for row_soup in row_soups_list:\n",
    "    cell_soups_list = row_soup.select(cells_css)\n",
    "    if cell_soups_list:\n",
    "        location_str = cell_soups_list[0].text.strip()\n",
    "        if any(map(lambda x: x in location_str, ['Massachusetts', 'United States', 'Clinton, MA'])):\n",
    "            location_strs_set.add(location_str)\n",
    "            page_soup = list(cell_soups_list[0].parent.previous_siblings)[1]\n",
    "            \n",
    "            # Get viewjob links\n",
    "            for link_soup in page_soup.select('a[href^=\"https://www.indeed.com/rc/clk/dl?jk=\"]'):\n",
    "                new_url = su.clean_indeed_url(link_soup['href'], driver, verbose=False)\n",
    "                viewjob_links_set.add(new_url)\n",
    "            \n",
    "            # Get pagead links and convert them to viewjob links\n",
    "            for link_soup in page_soup.select('a[href^=\"https://www.indeed.com/pagead/clk\"]'):\n",
    "                new_url = su.clean_indeed_url(link_soup['href'], driver, verbose=False)\n",
    "                viewjob_links_set.add(new_url)\n",
    "\n",
    "speech_str = f'I found {len(viewjob_links_set)} urls (in {nu.conjunctify_nouns(location_strs_set)}) in indeed_email.html'; print(speech_str)"
   ]
  },
  {
   "cell_type": "code",
   "execution_count": 9,
   "metadata": {},
   "outputs": [
    {
     "name": "stdout",
     "output_type": "stream",
     "text": [
      "Fileing 2 postings out of 9 urls complete. Delete the email.\n"
     ]
    }
   ],
   "source": [
    "\n",
    "files_list = []; close_notices = True\n",
    "for url_str in viewjob_links_set:\n",
    "    file_node_dict, files_list = su.load_indeed_posting_url(\n",
    "        viewjob_url=url_str, driver=driver, files_list=files_list, close_notices=close_notices, slowed_for_readability=False, search_type='Indeed 01510', verbose=False\n",
    "    )\n",
    "    close_notices = False\n",
    "speech_str = f'Fileing {len(files_list)} postings out of {len(viewjob_links_set)} urls complete. Delete the email.'; print(speech_str)\n",
    "speech_engine.say(speech_str); speech_engine.runAndWait()"
   ]
  },
  {
   "cell_type": "code",
   "execution_count": 10,
   "metadata": {},
   "outputs": [
    {
     "data": {
      "text/plain": [
       "['7b208bae8a305f32_Picker_Packer_Warehouse_Associate_Clinton_MA_Indeed_com.html', '89626071a9cc0a2c_Customer_Support_Representative_II_United_States_Indeed_com.html']"
      ]
     },
     "execution_count": 10,
     "metadata": {},
     "output_type": "execute_result"
    }
   ],
   "source": [
    "\n",
    "import re\n",
    "\n",
    "t1 = time.time()\n",
    "try: driver.close()\n",
    "except Exception as e: print(f'{e.__class__.__name__} error: {str(e).strip()}')\n",
    "cu.ensure_navigableparent('END', verbose=False)\n",
    "for file_name in files_list:\n",
    "    file_path = os.path.join(cu.SAVES_HTML_FOLDER, file_name)\n",
    "    \n",
    "    # Delete each of the previous siblings of the target_div that are <div> elements and prettify the HTML\n",
    "    wsu.clean_job_posting(file_path)\n",
    "    \n",
    "    page_soup = wsu.get_page_soup(file_path)\n",
    "    row_div_list = page_soup.find_all(name='div', id='jobDescriptionText')\n",
    "    assert row_div_list, f'{file_name} is missing <div id=\"jobDescriptionText\">'\n",
    "    for target_div in row_div_list:\n",
    "        child_strs_list = hau.get_navigable_children(target_div, [])\n",
    "        assert child_strs_list, f'{file_name} is missing its child strings'\n",
    "        cu.populate_from_child_strings(child_strs_list, file_name, verbose=False)\n",
    "duration_str = humanize.precisedelta(time.time() - t1, minimum_unit='seconds', format='%0.0f')\n",
    "speech_str = f'Populating {len(files_list)} out of {len(viewjob_links_set)} postings completed in {duration_str}'; speech_engine.say(speech_str); speech_engine.runAndWait()\n",
    "files_list"
   ]
  },
  {
   "cell_type": "code",
   "execution_count": null,
   "metadata": {},
   "outputs": [],
   "source": []
  }
 ],
 "metadata": {
  "anaconda-cloud": {},
  "kernelspec": {
   "display_name": "Job Hunting (Python 3.10.9)",
   "language": "python",
   "name": "jh_env"
  },
  "language_info": {
   "codemirror_mode": {
    "name": "ipython",
    "version": 3
   },
   "file_extension": ".py",
   "mimetype": "text/x-python",
   "name": "python",
   "nbconvert_exporter": "python",
   "pygments_lexer": "ipython3",
   "version": "3.10.9"
  }
 },
 "nbformat": 4,
 "nbformat_minor": 4
}
