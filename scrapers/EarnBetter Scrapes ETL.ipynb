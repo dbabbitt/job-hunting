{
 "cells": [
  {
   "cell_type": "code",
   "execution_count": 1,
   "metadata": {},
   "outputs": [
    {
     "name": "stdout",
     "output_type": "stream",
     "text": [
      "Pretty printing has been turned OFF\n",
      "======== Neo4j/5.24.2 ========\n",
      "Utility libraries created in 11 seconds\n"
     ]
    }
   ],
   "source": [
    "\n",
    "%pprint\n",
    "import sys\n",
    "import os.path as osp\n",
    "\n",
    "executable_path = sys.executable; scripts_folder = osp.join(osp.dirname(executable_path), 'Scripts')\n",
    "py_folder = osp.abspath(osp.join('..', 'py')); ffmpeg_folder = r'C:\\ffmpeg\\bin'\n",
    "if (scripts_folder not in sys.path): sys.path.insert(1, scripts_folder)\n",
    "if (py_folder not in sys.path): sys.path.insert(1, py_folder)\n",
    "if (ffmpeg_folder not in sys.path): sys.path.insert(1, ffmpeg_folder)\n",
    "from bs4 import BeautifulSoup as bs\n",
    "from bs4.formatter import  HTMLFormatter\n",
    "from jobpostlib import (cu, datetime, hau, humanize, nu, time, wsu, speech_engine, su)\n",
    "from selenium.webdriver.common.by import By\n",
    "from urllib.parse import urlparse, parse_qs, urlencode\n",
    "import os\n",
    "import re"
   ]
  },
  {
   "cell_type": "code",
   "execution_count": 2,
   "metadata": {},
   "outputs": [
    {
     "name": "stdout",
     "output_type": "stream",
     "text": [
      "['powershell.exe', '-ExecutionPolicy', 'Bypass', '-Command', 'Start-Process \"C:\\\\Program Files\\\\Notepad++\\\\notepad++.exe\" -ArgumentList \"C:\\\\Users\\\\daveb\\\\OneDrive\\\\Documents\\\\GitHub\\\\job-hunting\\\\data\\\\html\\\\earnbetter_email.html\"']\n"
     ]
    }
   ],
   "source": [
    "\n",
    "wsu.save_email_to_file('earnbetter', verbose=True)"
   ]
  },
  {
   "cell_type": "markdown",
   "metadata": {},
   "source": [
    "\n",
    "----"
   ]
  },
  {
   "cell_type": "code",
   "execution_count": 30,
   "metadata": {},
   "outputs": [],
   "source": [
    "\n",
    "driver = wsu.get_driver(verbose=False)\n",
    "page_soup = wsu.get_page_soup('../data/html/earnbetter_email.html')\n",
    "td_soup = page_soup.select('table > tbody > tr > td')[0]"
   ]
  },
  {
   "cell_type": "code",
   "execution_count": 31,
   "metadata": {},
   "outputs": [
    {
     "name": "stdout",
     "output_type": "stream",
     "text": [
      "EarnBetter Job Alert\n",
      "I found 10 urls in earnbetter_email.html\n"
     ]
    }
   ],
   "source": [
    "\n",
    "search_type = 'EarnBetter Job Alert'\n",
    "print(search_type)\n",
    "css_selector = 'table > tbody > tr > td > table > tbody > tr > td > table:nth-child(5) > tbody > tr > td > div > a'\n",
    "link_soups_list = td_soup.select(css_selector)\n",
    "\n",
    "# Get rid of the duplicate URLs\n",
    "url_strs_set = set()\n",
    "for link_soup in link_soups_list:\n",
    "    url_strs_set.add(link_soup['href'])\n",
    "\n",
    "speech_str = f'I found {len(url_strs_set)} urls in earnbetter_email.html'; print(speech_str)"
   ]
  },
  {
   "cell_type": "code",
   "execution_count": 32,
   "metadata": {},
   "outputs": [
    {
     "name": "stdout",
     "output_type": "stream",
     "text": [
      "Getting URL: https://e.customeriomail.com/e/c/eyJlbWFpbF9pZCI6ImRnU3Vpd2dCQUxuY0c3amNHd0dUWGtINGFLQndBNjV1R0xhWTlWQT0iLCJocmVmIjoiaHR0cHM6Ly9lYXJuYmV0dGVyLmNvbS9qb2JzL2NsaWNrLzAxSkQ4OFJYR01UWkVFWDRZTUQxUlZEVDBGIiwiaW50ZXJuYWwiOiJhZThiMDgwZmU4MjBiOWRjMWIiLCJsaW5rX2lkIjoyNzY0fQ/4167c015d07ba0ac95764588cf7a3814193628f141005f44f2df2f73257399d9\n"
     ]
    }
   ],
   "source": [
    "\n",
    "for viewjob_url in url_strs_set:\n",
    "    wsu.driver_get_url(driver, viewjob_url, verbose=True)\n",
    "    time.sleep(4)\n",
    "    viewjob_url = driver.current_url\n",
    "    break"
   ]
  },
  {
   "cell_type": "code",
   "execution_count": 33,
   "metadata": {},
   "outputs": [],
   "source": [
    "\n",
    "from urllib.parse import urlparse\n",
    "\n",
    "query_dict = {pair[0]: pair[1] for pair in (pair.split(\"=\") for pair in urlparse(viewjob_url).query.split(\"&\"))}"
   ]
  },
  {
   "cell_type": "code",
   "execution_count": 34,
   "metadata": {},
   "outputs": [
    {
     "data": {
      "text/plain": [
       "'Python Developer With Data Engineering Exp at Petadata | Ziprecruiter'"
      ]
     },
     "execution_count": 34,
     "metadata": {},
     "output_type": "execute_result"
    }
   ],
   "source": [
    "\n",
    "driver.title"
   ]
  },
  {
   "cell_type": "code",
   "execution_count": 36,
   "metadata": {},
   "outputs": [],
   "source": [
    "\n",
    "from selenium.webdriver.support.ui import WebDriverWait\n",
    "from selenium.webdriver.support import expected_conditions as EC\n",
    "from selenium.webdriver.common.by import By\n",
    "\n",
    "css_selector = '.job_details'\n",
    "close_tag = WebDriverWait(driver, 10).until(\n",
    "    EC.presence_of_element_located((By.CSS_SELECTOR, css_selector))\n",
    "    )\n",
    "close_tag.click()"
   ]
  },
  {
   "cell_type": "code",
   "execution_count": 29,
   "metadata": {},
   "outputs": [],
   "source": [
    "\n",
    "driver.close()"
   ]
  },
  {
   "cell_type": "code",
   "execution_count": 4,
   "metadata": {},
   "outputs": [
    {
     "name": "stdout",
     "output_type": "stream",
     "text": [
      "Saving to C:\\Users\\daveb\\OneDrive\\Documents\\GitHub\\job-hunting\\saves\\html\\1695462_Full_Stack_Engineer_In_All_Media_Inc.html\n",
      "Saving to C:\\Users\\daveb\\OneDrive\\Documents\\GitHub\\job-hunting\\saves\\html\\1695366_Data_Engineer_FinStrat_Management.html\n",
      "Saving to C:\\Users\\daveb\\OneDrive\\Documents\\GitHub\\job-hunting\\saves\\html\\1694591_Software_Engineer_Ridership_Data_Swiftly_Inc.html\n",
      "Saving to C:\\Users\\daveb\\OneDrive\\Documents\\GitHub\\job-hunting\\saves\\html\\1695467_Full_Stack_Engineer_In_All_Media_Inc.html\n",
      "Saving to C:\\Users\\daveb\\OneDrive\\Documents\\GitHub\\job-hunting\\saves\\html\\1692573_Junior_Data_Scientist_Clearmark_Solutions_Limited.html\n",
      "Saving to C:\\Users\\daveb\\OneDrive\\Documents\\GitHub\\job-hunting\\saves\\html\\1698891_Solutions_Architect_AI_ML_HugeInc.html\n",
      "Saving to C:\\Users\\daveb\\OneDrive\\Documents\\GitHub\\job-hunting\\saves\\html\\1691320_Full_Stack_Engineer_acto.html\n",
      "Fileing 7 postings out of 7 urls complete. Delete the email.\n"
     ]
    }
   ],
   "source": [
    "\n",
    "files_list = []\n",
    "for url_str in url_strs_set:\n",
    "    file_node_dict, files_list = su.store_earnbetter_file_attributes(driver, url_str, files_list=files_list, search_type=search_type, verbose=False)\n",
    "speech_str = f'Fileing {len(files_list)} postings out of {len(url_strs_set)} urls complete. Delete the email.'; print(speech_str)\n",
    "speech_engine.say(speech_str); speech_engine.runAndWait()"
   ]
  },
  {
   "cell_type": "code",
   "execution_count": 5,
   "metadata": {},
   "outputs": [
    {
     "name": "stderr",
     "output_type": "stream",
     "text": [
      "Populate the Child Strings: 100%|█████████████████| 7/7 [04:58<00:00, 42.58s/it]\n"
     ]
    },
    {
     "data": {
      "text/plain": [
       "['1695462_Full_Stack_Engineer_In_All_Media_Inc.html', '1695366_Data_Engineer_FinStrat_Management.html', '1694591_Software_Engineer_Ridership_Data_Swiftly_Inc.html', '1695467_Full_Stack_Engineer_In_All_Media_Inc.html', '1692573_Junior_Data_Scientist_Clearmark_Solutions_Limited.html', '1698891_Solutions_Architect_AI_ML_HugeInc.html', '1691320_Full_Stack_Engineer_acto.html']"
      ]
     },
     "execution_count": 5,
     "metadata": {},
     "output_type": "execute_result"
    }
   ],
   "source": [
    "\n",
    "su.populate_postings(driver, len(url_strs_set), files_list=files_list)"
   ]
  },
  {
   "cell_type": "code",
   "execution_count": null,
   "metadata": {},
   "outputs": [],
   "source": []
  }
 ],
 "metadata": {
  "anaconda-cloud": {},
  "kernelspec": {
   "display_name": "Job Hunting (Python 3.10.9)",
   "language": "python",
   "name": "jh_env"
  },
  "language_info": {
   "codemirror_mode": {
    "name": "ipython",
    "version": 3
   },
   "file_extension": ".py",
   "mimetype": "text/x-python",
   "name": "python",
   "nbconvert_exporter": "python",
   "pygments_lexer": "ipython3",
   "version": "3.10.9"
  }
 },
 "nbformat": 4,
 "nbformat_minor": 4
}
