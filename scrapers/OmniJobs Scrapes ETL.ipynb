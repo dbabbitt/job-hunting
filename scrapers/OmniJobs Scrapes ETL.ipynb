{
 "cells": [
  {
   "cell_type": "code",
   "execution_count": 1,
   "metadata": {},
   "outputs": [
    {
     "name": "stdout",
     "output_type": "stream",
     "text": [
      "Pretty printing has been turned OFF\n",
      "======== Neo4j/5.24.2 ========\n",
      "Utility libraries created in 7 seconds\n"
     ]
    }
   ],
   "source": [
    "\n",
    "%pprint\n",
    "import sys\n",
    "import os.path as osp\n",
    "\n",
    "executable_path = sys.executable; scripts_folder = osp.join(osp.dirname(executable_path), 'Scripts')\n",
    "py_folder = osp.abspath(osp.join('..', 'py')); ffmpeg_folder = r'C:\\ffmpeg\\bin'\n",
    "if (scripts_folder not in sys.path): sys.path.insert(1, scripts_folder)\n",
    "if (py_folder not in sys.path): sys.path.insert(1, py_folder)\n",
    "if (ffmpeg_folder not in sys.path): sys.path.insert(1, ffmpeg_folder)\n",
    "from bs4 import BeautifulSoup as bs\n",
    "from bs4.formatter import  HTMLFormatter\n",
    "from jobpostlib import (cu, datetime, hau, humanize, nu, time, wsu, speech_engine, su)\n",
    "from selenium.webdriver.common.by import By\n",
    "from urllib.parse import urlparse, parse_qs, urlencode\n",
    "import os\n",
    "import re"
   ]
  },
  {
   "cell_type": "code",
   "execution_count": 2,
   "metadata": {},
   "outputs": [
    {
     "name": "stdout",
     "output_type": "stream",
     "text": [
      "['powershell.exe', '-ExecutionPolicy', 'Bypass', '-Command', 'Start-Process \"C:\\\\Program Files\\\\Notepad++\\\\notepad++.exe\" -ArgumentList \"C:\\\\Users\\\\daveb\\\\OneDrive\\\\Documents\\\\GitHub\\\\job-hunting\\\\data\\\\html\\\\omnijobs_email.html\"']\n"
     ]
    }
   ],
   "source": [
    "\n",
    "wsu.save_email_to_file('omnijobs', verbose=True)"
   ]
  },
  {
   "cell_type": "markdown",
   "metadata": {},
   "source": [
    "\n",
    "----"
   ]
  },
  {
   "cell_type": "code",
   "execution_count": 3,
   "metadata": {},
   "outputs": [
    {
     "name": "stdout",
     "output_type": "stream",
     "text": [
      "OmniJobs Pandas Remote\n",
      "I found 10 urls in omnijobs_email.html\n"
     ]
    }
   ],
   "source": [
    "\n",
    "driver = wsu.get_driver(verbose=False)\n",
    "page_soup = wsu.get_page_soup('../data/html/omnijobs_email.html')\n",
    "div_soup = page_soup.select('div')[0]\n",
    "css_selector = 'div:nth-child(4)'\n",
    "search_type = ('OmniJobs ' + re.sub(r'\\s+', ' ', div_soup.select(css_selector)[0].text.strip())).replace('Remote', ' Remote')\n",
    "print(search_type)\n",
    "link_soups_list = [s for s in div_soup.children if (s.name == 'a')]\n",
    "\n",
    "# Get rid of the duplicate URLs\n",
    "url_strs_set = set()\n",
    "for link_soup in link_soups_list:\n",
    "    url_strs_set.add(link_soup['href'])\n",
    "\n",
    "speech_str = f'I found {len(url_strs_set)} urls in omnijobs_email.html'; print(speech_str)"
   ]
  },
  {
   "cell_type": "code",
   "execution_count": 4,
   "metadata": {},
   "outputs": [
    {
     "name": "stdout",
     "output_type": "stream",
     "text": [
      "Saving to C:\\Users\\daveb\\OneDrive\\Documents\\GitHub\\job-hunting\\saves\\html\\1798106_AI_Engineer_Jobs_for_Humanity.html\n",
      "Saving to C:\\Users\\daveb\\OneDrive\\Documents\\GitHub\\job-hunting\\saves\\html\\1801431_Data_Quality_Engineer_SD_Technologies.html\n",
      "Saving to C:\\Users\\daveb\\OneDrive\\Documents\\GitHub\\job-hunting\\saves\\html\\1802538_Data_Scientist_mytraffic.html\n",
      "Saving to C:\\Users\\daveb\\OneDrive\\Documents\\GitHub\\job-hunting\\saves\\html\\1801536_DevSecOps_Engineer_Craft_Machine_Inc.html\n",
      "Saving to C:\\Users\\daveb\\OneDrive\\Documents\\GitHub\\job-hunting\\saves\\html\\1798194_Senior_Data_Scientist_Docplanner.html\n",
      "Saving to C:\\Users\\daveb\\OneDrive\\Documents\\GitHub\\job-hunting\\saves\\html\\1797974_Senior_Data_Scientist_Docplanner.html\n",
      "Saving to C:\\Users\\daveb\\OneDrive\\Documents\\GitHub\\job-hunting\\saves\\html\\1802034_Lead_Data_Scientist_Enable.html\n",
      "Saving to C:\\Users\\daveb\\OneDrive\\Documents\\GitHub\\job-hunting\\saves\\html\\1807266_Junior_Threat_Data_Scientist_Hoxhunt.html\n",
      "Saving to C:\\Users\\daveb\\OneDrive\\Documents\\GitHub\\job-hunting\\saves\\html\\1803536_Computer_Vision_Scientist_Alter_Solutions.html\n",
      "Saving to C:\\Users\\daveb\\OneDrive\\Documents\\GitHub\\job-hunting\\saves\\html\\1802032_Lead_Data_Scientist_Enable.html\n",
      "Fileing 10 postings out of 10 urls complete. Delete the email.\n"
     ]
    }
   ],
   "source": [
    "\n",
    "files_list = []\n",
    "for url_str in url_strs_set:\n",
    "    file_node_dict, files_list = su.store_omnijobs_file_attributes(driver, url_str, files_list=files_list, search_type=search_type, verbose=False)\n",
    "speech_str = f'Fileing {len(files_list)} postings out of {len(url_strs_set)} urls complete. Delete the email.'; print(speech_str)\n",
    "speech_engine.say(speech_str); speech_engine.runAndWait()"
   ]
  },
  {
   "cell_type": "code",
   "execution_count": 5,
   "metadata": {},
   "outputs": [
    {
     "name": "stderr",
     "output_type": "stream",
     "text": [
      "Populate the Child Strings: 100%|███████████████| 10/10 [05:24<00:00, 32.45s/it]\n"
     ]
    },
    {
     "data": {
      "text/plain": [
       "['1798106_AI_Engineer_Jobs_for_Humanity.html', '1801431_Data_Quality_Engineer_SD_Technologies.html', '1802538_Data_Scientist_mytraffic.html', '1801536_DevSecOps_Engineer_Craft_Machine_Inc.html', '1798194_Senior_Data_Scientist_Docplanner.html', '1797974_Senior_Data_Scientist_Docplanner.html', '1802034_Lead_Data_Scientist_Enable.html', '1807266_Junior_Threat_Data_Scientist_Hoxhunt.html', '1803536_Computer_Vision_Scientist_Alter_Solutions.html', '1802032_Lead_Data_Scientist_Enable.html']"
      ]
     },
     "execution_count": 5,
     "metadata": {},
     "output_type": "execute_result"
    }
   ],
   "source": [
    "\n",
    "su.populate_postings(driver, len(url_strs_set), files_list=files_list)"
   ]
  },
  {
   "cell_type": "code",
   "execution_count": null,
   "metadata": {},
   "outputs": [],
   "source": []
  }
 ],
 "metadata": {
  "anaconda-cloud": {},
  "kernelspec": {
   "display_name": "Job Hunting (Python 3.10.9)",
   "language": "python",
   "name": "jh_env"
  },
  "language_info": {
   "codemirror_mode": {
    "name": "ipython",
    "version": 3
   },
   "file_extension": ".py",
   "mimetype": "text/x-python",
   "name": "python",
   "nbconvert_exporter": "python",
   "pygments_lexer": "ipython3",
   "version": "3.10.9"
  }
 },
 "nbformat": 4,
 "nbformat_minor": 4
}
