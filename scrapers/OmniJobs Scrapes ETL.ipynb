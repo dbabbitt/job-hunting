{
 "cells": [
  {
   "cell_type": "code",
   "execution_count": 1,
   "metadata": {},
   "outputs": [
    {
     "name": "stdout",
     "output_type": "stream",
     "text": [
      "Pretty printing has been turned OFF\n",
      "======== Neo4j/5.24.2 ========\n",
      "Utility libraries created in 10 seconds\n"
     ]
    }
   ],
   "source": [
    "\n",
    "%pprint\n",
    "import sys\n",
    "import os.path as osp\n",
    "\n",
    "executable_path = sys.executable; scripts_folder = osp.join(osp.dirname(executable_path), 'Scripts')\n",
    "py_folder = osp.abspath('../py'); ffmpeg_folder = r'C:\\ffmpeg\\bin'\n",
    "if (scripts_folder not in sys.path): sys.path.insert(1, scripts_folder)\n",
    "if (py_folder not in sys.path): sys.path.insert(1, py_folder)\n",
    "if (ffmpeg_folder not in sys.path): sys.path.insert(1, ffmpeg_folder)\n",
    "from bs4 import BeautifulSoup as bs\n",
    "from bs4.formatter import  HTMLFormatter\n",
    "from jobpostlib import (cu, datetime, hau, humanize, nu, time, wsu, speech_engine, su)\n",
    "from selenium.webdriver.common.by import By\n",
    "from urllib.parse import urlparse, parse_qs, urlencode\n",
    "import os\n",
    "import re"
   ]
  },
  {
   "cell_type": "code",
   "execution_count": 2,
   "metadata": {},
   "outputs": [
    {
     "name": "stdout",
     "output_type": "stream",
     "text": [
      "['powershell.exe', '-ExecutionPolicy', 'Bypass', '-Command', 'Start-Process \"C:\\\\Program Files\\\\Notepad++\\\\notepad++.exe\" -ArgumentList \"C:\\\\Users\\\\daveb\\\\OneDrive\\\\Documents\\\\GitHub\\\\job-hunting\\\\data\\\\html\\\\omnijobs_email.html\"']\n"
     ]
    }
   ],
   "source": [
    "\n",
    "wsu.save_email_to_file('omnijobs', verbose=True)"
   ]
  },
  {
   "cell_type": "markdown",
   "metadata": {},
   "source": [
    "\n",
    "----"
   ]
  },
  {
   "cell_type": "code",
   "execution_count": 3,
   "metadata": {},
   "outputs": [
    {
     "name": "stdout",
     "output_type": "stream",
     "text": [
      "OmniJobs Pandas Remote\n",
      "I found 7 urls in omnijobs_email.html\n"
     ]
    }
   ],
   "source": [
    "\n",
    "driver = wsu.get_driver(verbose=False)\n",
    "page_soup = wsu.get_page_soup('../data/html/omnijobs_email.html')\n",
    "div_soup = page_soup.select('div')[0]\n",
    "css_selector = 'div:nth-child(4)'\n",
    "search_type = ('OmniJobs ' + re.sub(r'\\s+', ' ', div_soup.select(css_selector)[0].text.strip())).replace('Remote', ' Remote')\n",
    "print(search_type)\n",
    "link_soups_list = [s for s in div_soup.children if (s.name == 'a')]\n",
    "\n",
    "# Get rid of the duplicate URLs\n",
    "url_strs_set = set()\n",
    "for link_soup in link_soups_list:\n",
    "    url_strs_set.add(link_soup['href'])\n",
    "\n",
    "speech_str = f'I found {len(url_strs_set)} urls in omnijobs_email.html'; print(speech_str)"
   ]
  },
  {
   "cell_type": "code",
   "execution_count": 4,
   "metadata": {},
   "outputs": [
    {
     "name": "stdout",
     "output_type": "stream",
     "text": [
      "Saving to C:\\Users\\daveb\\OneDrive\\Documents\\GitHub\\job-hunting\\saves\\html\\1726482_Data_Scientist_LEIDOS_INNOVATIONS_UK_LTD.html\n",
      "Saving to C:\\Users\\daveb\\OneDrive\\Documents\\GitHub\\job-hunting\\saves\\html\\1725669_Lead_Data_Scientist_Bayer.html\n",
      "Saving to C:\\Users\\daveb\\OneDrive\\Documents\\GitHub\\job-hunting\\saves\\html\\1733609_Software_Engineer_Latitude_Inc.html\n",
      "Saving to C:\\Users\\daveb\\OneDrive\\Documents\\GitHub\\job-hunting\\saves\\html\\1731917_Senior_AI_Engineer_Dreamix_Ltd.html\n",
      "Saving to C:\\Users\\daveb\\OneDrive\\Documents\\GitHub\\job-hunting\\saves\\html\\1725706_Sr_Fullstack_Developer_Bertoni_Solutions.html\n",
      "Saving to C:\\Users\\daveb\\OneDrive\\Documents\\GitHub\\job-hunting\\saves\\html\\1731916_AI_Engineer_Dreamix_Ltd.html\n",
      "Saving to C:\\Users\\daveb\\OneDrive\\Documents\\GitHub\\job-hunting\\saves\\html\\1724598_Software_Engineer_Gauss_Labs.html\n",
      "Fileing 7 postings out of 7 urls complete. Delete the email.\n"
     ]
    }
   ],
   "source": [
    "\n",
    "files_list = []\n",
    "for url_str in url_strs_set:\n",
    "    file_node_dict, files_list = su.store_omnijobs_file_attributes(driver, url_str, files_list=files_list, search_type=search_type, verbose=False)\n",
    "speech_str = f'Fileing {len(files_list)} postings out of {len(url_strs_set)} urls complete. Delete the email.'; print(speech_str)\n",
    "speech_engine.say(speech_str); speech_engine.runAndWait()"
   ]
  },
  {
   "cell_type": "code",
   "execution_count": 5,
   "metadata": {},
   "outputs": [
    {
     "name": "stderr",
     "output_type": "stream",
     "text": [
      "Populate the Child Strings: 100%|█████████████████| 7/7 [03:24<00:00, 29.14s/it]\n"
     ]
    },
    {
     "data": {
      "text/plain": [
       "['1726482_Data_Scientist_LEIDOS_INNOVATIONS_UK_LTD.html', '1725669_Lead_Data_Scientist_Bayer.html', '1733609_Software_Engineer_Latitude_Inc.html', '1731917_Senior_AI_Engineer_Dreamix_Ltd.html', '1725706_Sr_Fullstack_Developer_Bertoni_Solutions.html', '1731916_AI_Engineer_Dreamix_Ltd.html', '1724598_Software_Engineer_Gauss_Labs.html']"
      ]
     },
     "execution_count": 5,
     "metadata": {},
     "output_type": "execute_result"
    }
   ],
   "source": [
    "\n",
    "su.populate_postings(driver, len(url_strs_set), files_list=files_list)"
   ]
  },
  {
   "cell_type": "code",
   "execution_count": null,
   "metadata": {},
   "outputs": [],
   "source": []
  }
 ],
 "metadata": {
  "anaconda-cloud": {},
  "kernelspec": {
   "display_name": "Job Hunting (Python 3.10.9)",
   "language": "python",
   "name": "jh_env"
  },
  "language_info": {
   "codemirror_mode": {
    "name": "ipython",
    "version": 3
   },
   "file_extension": ".py",
   "mimetype": "text/x-python",
   "name": "python",
   "nbconvert_exporter": "python",
   "pygments_lexer": "ipython3",
   "version": "3.10.9"
  }
 },
 "nbformat": 4,
 "nbformat_minor": 4
}
