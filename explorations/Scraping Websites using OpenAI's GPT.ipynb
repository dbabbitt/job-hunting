{
 "cells": [
  {
   "cell_type": "code",
   "execution_count": 1,
   "id": "5f2a1259-56dd-4498-9f93-cf2b57c40a69",
   "metadata": {},
   "outputs": [
    {
     "name": "stdout",
     "output_type": "stream",
     "text": [
      "Pretty printing has been turned OFF\n"
     ]
    }
   ],
   "source": [
    "\n",
    "%pprint"
   ]
  },
  {
   "cell_type": "markdown",
   "id": "df4a859e-2f41-446e-8abb-274239cab475",
   "metadata": {
    "tags": []
   },
   "source": [
    "\n",
    "---\n",
    "# Load needed libraries and functions"
   ]
  },
  {
   "cell_type": "code",
   "execution_count": 2,
   "id": "4c0e56f4-5180-4c40-9479-337ed722da66",
   "metadata": {},
   "outputs": [],
   "source": [
    "\n",
    "%matplotlib inline\n",
    "from datetime import datetime\n",
    "from neo4j.exceptions import ServiceUnavailable\n",
    "import humanize\n",
    "import openai\n",
    "import os\n",
    "import sys\n",
    "import time\n",
    "import warnings\n",
    "import winsound\n",
    "\n",
    "warnings.filterwarnings('ignore')\n",
    "duration = 1000  # milliseconds\n",
    "freq = 880  # Hz\n",
    "\n",
    "# Insert at 1, 0 is the script path (or '' in REPL)\n",
    "sys.path.insert(1, '../py')"
   ]
  },
  {
   "cell_type": "code",
   "execution_count": 3,
   "id": "92c1cc86-611b-448b-909c-a3ad9a15b753",
   "metadata": {},
   "outputs": [
    {
     "name": "stdout",
     "output_type": "stream",
     "text": [
      "Utility libraries created in 0 seconds\n"
     ]
    }
   ],
   "source": [
    "\n",
    "t0 = t1 = time.time()\n",
    "\n",
    "# Get the Neo4j driver\n",
    "from storage import Storage\n",
    "s = Storage(\n",
    "    data_folder_path=os.path.abspath('../data'),\n",
    "    saves_folder_path=os.path.abspath('../saves')\n",
    ")\n",
    "\n",
    "from scrape_utils import WebScrapingUtilities\n",
    "wsu = WebScrapingUtilities(\n",
    "    s=s,\n",
    "    secrets_json_path=os.path.abspath('../data/secrets/jh_secrets.json')\n",
    ")\n",
    "openai.api_key = wsu.secrets_json['OPENAI_API_KEY']\n",
    "uri = wsu.secrets_json['neo4j']['connect_url']\n",
    "user =  wsu.secrets_json['neo4j']['username']\n",
    "password = wsu.secrets_json['neo4j']['password']\n",
    "\n",
    "from ha_utils import HeaderAnalysis\n",
    "ha = HeaderAnalysis(s=s, verbose=False)\n",
    "\n",
    "# Get the Neo4j object\n",
    "from cypher_utils import CypherUtilities\n",
    "cu = CypherUtilities(\n",
    "    uri=uri, user=user, password=password, driver=None, s=s, ha=ha\n",
    ")\n",
    "\n",
    "duration_str = humanize.precisedelta(time.time() - t1, minimum_unit='seconds', format='%0.0f')\n",
    "print(f'Utility libraries created in {duration_str}')"
   ]
  },
  {
   "cell_type": "code",
   "execution_count": 1,
   "id": "c93d76cf-65cc-449c-b2e6-685b5a3443bd",
   "metadata": {},
   "outputs": [],
   "source": [
    "\n",
    "from scrapeghost import SchemaScraper\n",
    "\n",
    "scrape_legislators = SchemaScraper(\n",
    "  schema={\n",
    "      'name': 'string',\n",
    "      'url': 'url',\n",
    "      'district': 'string',\n",
    "      'party': 'string',\n",
    "      'photo_url': 'url',\n",
    "      'offices': [{'name': 'string', 'address': 'string', 'phone': 'string'}],\n",
    "  }\n",
    ")"
   ]
  },
  {
   "cell_type": "code",
   "execution_count": 2,
   "id": "62b76400-29c4-4994-94b3-8c150738b6a6",
   "metadata": {},
   "outputs": [
    {
     "name": "stdout",
     "output_type": "stream",
     "text": [
      "2023-03-26 15:57:36 [debug    ] got HTML                       length=13491 url=https://www.ilga.gov/house/rep.asp?MemberID=3071\n",
      "2023-03-26 15:57:36 [debug    ] preprocessor                   from_nodes=1 name=CleanHTML nodes=1\n",
      "2023-03-26 15:57:37 [info     ] API request                    html_tokens=2579 model=gpt-3.5-turbo\n",
      "2023-03-26 15:57:45 [info     ] API response                   completion_tokens=218 cost=0.005842 duration=8.482907056808472 finish_reason=stop prompt_tokens=2703\n",
      "2023-03-26 15:57:45 [debug    ] postprocessor                  data={\n",
      "  \"name\": \"Emanuel \\\"Chris\\\" Welch\",\n",
      "  \"url\": \"https://www.ilga.gov/house/Rep.asp?GA=102&MemberID=3071\",\n",
      "  \"district\": \"7th\",\n",
      "  \"party\": \"D\",\n",
      "  \"photo_url\": \"https://www.ilga.gov/images/members/%7B5D419B94-66B4-4F3B-86F1-BFF37B3FA55C%7D.jpg\",\n",
      "  \"offices\": [\n",
      "    {\n",
      "      \"name\": \"Springfield Office:\",\n",
      "      \"address\": \"300 Capitol Building Springfield, IL   62706\",\n",
      "      \"phone\": \"(217) 782-5350\"\n",
      "    },\n",
      "    {\n",
      "      \"name\": \"District Office:\",\n",
      "      \"address\": \"10055 W. Roosevelt Rd. Suite E Westchester, IL  60154\",\n",
      "      \"phone\": \"(708) 450-1000\",\n",
      "      \"fax\": \"(708) 450-1104 FAX\"\n",
      "    }\n",
      "  ]\n",
      "} data_type=<class 'str'> postprocessor=JSONPostprocessor(nudge=True))\n",
      "2023-03-26 15:57:45 [debug    ] postprocessor                  data={'name': 'Emanuel \"Chris\" Welch', 'url': 'https://www.ilga.gov/house/Rep.asp?GA=102&MemberID=3071', 'district': '7th', 'party': 'D', 'photo_url': 'https://www.ilga.gov/images/members/%7B5D419B94-66B4-4F3B-86F1-BFF37B3FA55C%7D.jpg', 'offices': [{'name': 'Springfield Office:', 'address': '300 Capitol Building Springfield, IL   62706', 'phone': '(217) 782-5350'}, {'name': 'District Office:', 'address': '10055 W. Roosevelt Rd. Suite E Westchester, IL  60154', 'phone': '(708) 450-1000', 'fax': '(708) 450-1104 FAX'}]} data_type=<class 'dict'> postprocessor=HallucinationChecker\n"
     ]
    },
    {
     "ename": "PostprocessingError",
     "evalue": "Data not found in html: https://www.ilga.gov/house/Rep.asp?GA=102&MemberID=3071 (parent: .url)",
     "output_type": "error",
     "traceback": [
      "\u001b[1;31m---------------------------------------------------------------------------\u001b[0m",
      "\u001b[1;31mPostprocessingError\u001b[0m                       Traceback (most recent call last)",
      "Cell \u001b[1;32mIn[2], line 1\u001b[0m\n\u001b[1;32m----> 1\u001b[0m resp \u001b[38;5;241m=\u001b[39m \u001b[43mscrape_legislators\u001b[49m\u001b[43m(\u001b[49m\u001b[38;5;124;43m'\u001b[39;49m\u001b[38;5;124;43mhttps://www.ilga.gov/house/rep.asp?MemberID=3071\u001b[39;49m\u001b[38;5;124;43m'\u001b[39;49m\u001b[43m)\u001b[49m\n\u001b[0;32m      2\u001b[0m resp\u001b[38;5;241m.\u001b[39mdata\n",
      "File \u001b[1;32m~\\OneDrive\\Documents\\GitHub\\job-hunting\\jh_env\\lib\\site-packages\\scrapeghost\\scrapers.py:142\u001b[0m, in \u001b[0;36mSchemaScraper.scrape\u001b[1;34m(self, url_or_html, extra_preprocessors)\u001b[0m\n\u001b[0;32m    139\u001b[0m html \u001b[38;5;241m=\u001b[39m \u001b[38;5;124m\"\u001b[39m\u001b[38;5;130;01m\\n\u001b[39;00m\u001b[38;5;124m\"\u001b[39m\u001b[38;5;241m.\u001b[39mjoin(_tostr(t) \u001b[38;5;28;01mfor\u001b[39;00m t \u001b[38;5;129;01min\u001b[39;00m tags)\n\u001b[0;32m    140\u001b[0m \u001b[38;5;66;03m# apply postprocessors to the ScrapeResponse\u001b[39;00m\n\u001b[0;32m    141\u001b[0m \u001b[38;5;66;03m# so that they can access the parsed HTML if needed\u001b[39;00m\n\u001b[1;32m--> 142\u001b[0m \u001b[38;5;28;01mreturn\u001b[39;00m \u001b[38;5;28;43mself\u001b[39;49m\u001b[38;5;241;43m.\u001b[39;49m\u001b[43m_apply_postprocessors\u001b[49m\u001b[43m(\u001b[49m\u001b[43m  \u001b[49m\u001b[38;5;66;43;03m# type: ignore\u001b[39;49;00m\n\u001b[0;32m    143\u001b[0m \u001b[43m    \u001b[49m\u001b[43m_combine_responses\u001b[49m\u001b[43m(\u001b[49m\u001b[43msr\u001b[49m\u001b[43m,\u001b[49m\u001b[43m \u001b[49m\u001b[43m[\u001b[49m\u001b[38;5;28;43mself\u001b[39;49m\u001b[38;5;241;43m.\u001b[39;49m\u001b[43m_api_request\u001b[49m\u001b[43m(\u001b[49m\u001b[43mhtml\u001b[49m\u001b[43m)\u001b[49m\u001b[43m]\u001b[49m\u001b[43m)\u001b[49m\n\u001b[0;32m    144\u001b[0m \u001b[43m\u001b[49m\u001b[43m)\u001b[49m\n",
      "File \u001b[1;32m~\\OneDrive\\Documents\\GitHub\\job-hunting\\jh_env\\lib\\site-packages\\scrapeghost\\apicall.py:213\u001b[0m, in \u001b[0;36mOpenAiCall._apply_postprocessors\u001b[1;34m(self, response)\u001b[0m\n\u001b[0;32m    206\u001b[0m \u001b[38;5;28;01mfor\u001b[39;00m pp \u001b[38;5;129;01min\u001b[39;00m \u001b[38;5;28mself\u001b[39m\u001b[38;5;241m.\u001b[39mpostprocessors:\n\u001b[0;32m    207\u001b[0m     logger\u001b[38;5;241m.\u001b[39mdebug(\n\u001b[0;32m    208\u001b[0m         \u001b[38;5;124m\"\u001b[39m\u001b[38;5;124mpostprocessor\u001b[39m\u001b[38;5;124m\"\u001b[39m,\n\u001b[0;32m    209\u001b[0m         postprocessor\u001b[38;5;241m=\u001b[39m\u001b[38;5;28mstr\u001b[39m(pp),\n\u001b[0;32m    210\u001b[0m         data\u001b[38;5;241m=\u001b[39mresponse\u001b[38;5;241m.\u001b[39mdata,\n\u001b[0;32m    211\u001b[0m         data_type\u001b[38;5;241m=\u001b[39m\u001b[38;5;28mtype\u001b[39m(response\u001b[38;5;241m.\u001b[39mdata),\n\u001b[0;32m    212\u001b[0m     )\n\u001b[1;32m--> 213\u001b[0m     response \u001b[38;5;241m=\u001b[39m \u001b[43mpp\u001b[49m\u001b[43m(\u001b[49m\u001b[43mresponse\u001b[49m\u001b[43m,\u001b[49m\u001b[43m \u001b[49m\u001b[38;5;28;43mself\u001b[39;49m\u001b[43m)\u001b[49m\n\u001b[0;32m    214\u001b[0m \u001b[38;5;28;01mreturn\u001b[39;00m response\n",
      "File \u001b[1;32m~\\OneDrive\\Documents\\GitHub\\job-hunting\\jh_env\\lib\\site-packages\\scrapeghost\\postprocessors.py:112\u001b[0m, in \u001b[0;36mHallucinationChecker.__call__\u001b[1;34m(self, response, scraper)\u001b[0m\n\u001b[0;32m    106\u001b[0m     \u001b[38;5;28;01mraise\u001b[39;00m PostprocessingError(\n\u001b[0;32m    107\u001b[0m         \u001b[38;5;124m\"\u001b[39m\u001b[38;5;124mHallucinationChecker expects ScrapeResponse, \u001b[39m\u001b[38;5;124m\"\u001b[39m\n\u001b[0;32m    108\u001b[0m         \u001b[38;5;124m\"\u001b[39m\u001b[38;5;124mIncompatible with auto_split_length\u001b[39m\u001b[38;5;124m\"\u001b[39m\n\u001b[0;32m    109\u001b[0m     )\n\u001b[0;32m    110\u001b[0m html \u001b[38;5;241m=\u001b[39m _tostr(response\u001b[38;5;241m.\u001b[39mparsed_html)\n\u001b[1;32m--> 112\u001b[0m \u001b[43m_check_data_in_html\u001b[49m\u001b[43m(\u001b[49m\u001b[43mhtml\u001b[49m\u001b[43m,\u001b[49m\u001b[43m \u001b[49m\u001b[43mresponse\u001b[49m\u001b[38;5;241;43m.\u001b[39;49m\u001b[43mdata\u001b[49m\u001b[43m)\u001b[49m\n\u001b[0;32m    114\u001b[0m \u001b[38;5;28;01mreturn\u001b[39;00m response\n",
      "File \u001b[1;32m~\\OneDrive\\Documents\\GitHub\\job-hunting\\jh_env\\lib\\site-packages\\scrapeghost\\postprocessors.py:123\u001b[0m, in \u001b[0;36m_check_data_in_html\u001b[1;34m(html, d, parent)\u001b[0m\n\u001b[0;32m    121\u001b[0m \u001b[38;5;28;01mif\u001b[39;00m \u001b[38;5;28misinstance\u001b[39m(d, \u001b[38;5;28mdict\u001b[39m):\n\u001b[0;32m    122\u001b[0m     \u001b[38;5;28;01mfor\u001b[39;00m k, v \u001b[38;5;129;01min\u001b[39;00m d\u001b[38;5;241m.\u001b[39mitems():\n\u001b[1;32m--> 123\u001b[0m         \u001b[43m_check_data_in_html\u001b[49m\u001b[43m(\u001b[49m\u001b[43mhtml\u001b[49m\u001b[43m,\u001b[49m\u001b[43m \u001b[49m\u001b[43mv\u001b[49m\u001b[43m,\u001b[49m\u001b[43m \u001b[49m\u001b[43mparent\u001b[49m\u001b[43m \u001b[49m\u001b[38;5;241;43m+\u001b[39;49m\u001b[43m \u001b[49m\u001b[38;5;124;43mf\u001b[39;49m\u001b[38;5;124;43m\"\u001b[39;49m\u001b[38;5;124;43m.\u001b[39;49m\u001b[38;5;132;43;01m{\u001b[39;49;00m\u001b[43mk\u001b[49m\u001b[38;5;132;43;01m}\u001b[39;49;00m\u001b[38;5;124;43m\"\u001b[39;49m\u001b[43m)\u001b[49m\n\u001b[0;32m    124\u001b[0m \u001b[38;5;28;01melif\u001b[39;00m \u001b[38;5;28misinstance\u001b[39m(d, \u001b[38;5;28mlist\u001b[39m):\n\u001b[0;32m    125\u001b[0m     \u001b[38;5;28;01mfor\u001b[39;00m i, v \u001b[38;5;129;01min\u001b[39;00m \u001b[38;5;28menumerate\u001b[39m(d):\n",
      "File \u001b[1;32m~\\OneDrive\\Documents\\GitHub\\job-hunting\\jh_env\\lib\\site-packages\\scrapeghost\\postprocessors.py:129\u001b[0m, in \u001b[0;36m_check_data_in_html\u001b[1;34m(html, d, parent)\u001b[0m\n\u001b[0;32m    127\u001b[0m \u001b[38;5;28;01melif\u001b[39;00m \u001b[38;5;28misinstance\u001b[39m(d, \u001b[38;5;28mstr\u001b[39m):\n\u001b[0;32m    128\u001b[0m     \u001b[38;5;28;01mif\u001b[39;00m d \u001b[38;5;129;01mnot\u001b[39;00m \u001b[38;5;129;01min\u001b[39;00m html:\n\u001b[1;32m--> 129\u001b[0m         \u001b[38;5;28;01mraise\u001b[39;00m PostprocessingError(\u001b[38;5;124mf\u001b[39m\u001b[38;5;124m\"\u001b[39m\u001b[38;5;124mData not found in html: \u001b[39m\u001b[38;5;132;01m{\u001b[39;00md\u001b[38;5;132;01m}\u001b[39;00m\u001b[38;5;124m (parent: \u001b[39m\u001b[38;5;132;01m{\u001b[39;00mparent\u001b[38;5;132;01m}\u001b[39;00m\u001b[38;5;124m)\u001b[39m\u001b[38;5;124m\"\u001b[39m)\n",
      "\u001b[1;31mPostprocessingError\u001b[0m: Data not found in html: https://www.ilga.gov/house/Rep.asp?GA=102&MemberID=3071 (parent: .url)"
     ]
    }
   ],
   "source": [
    "\n",
    "resp = scrape_legislators('https://www.ilga.gov/house/rep.asp?MemberID=3071')\n",
    "resp.data"
   ]
  },
  {
   "cell_type": "code",
   "execution_count": 5,
   "id": "8749f574-9e88-40dd-8696-bc692f7629ee",
   "metadata": {},
   "outputs": [
    {
     "name": "stdout",
     "output_type": "stream",
     "text": [
      "2023-03-26 16:26:40 [debug    ] got HTML                       length=165180 url=https://comedybangbang.fandom.com/wiki/Operation_Golden_Orb\n",
      "2023-03-26 16:26:40 [debug    ] preprocessor                   from_nodes=1 name=CleanHTML nodes=1\n",
      "<class 'scrapeghost.errors.TooManyTokens'> error: HTML is 11958 tokens, max for gpt-3.5-turbo is 4096\n"
     ]
    }
   ],
   "source": [
    "\n",
    "from scrapeghost import SchemaScraper\n",
    "from pprint import pprint\n",
    "\n",
    "url = 'https://comedybangbang.fandom.com/wiki/Operation_Golden_Orb'\n",
    "schema = {\n",
    "    'title': 'str',\n",
    "    'episode_number': 'int',\n",
    "    'release_date': 'str',\n",
    "}\n",
    "\n",
    "episode_scraper = SchemaScraper(schema)\n",
    "try:\n",
    "    response = episode_scraper(url)\n",
    "    pprint(response.data)\n",
    "    print(f'Total Cost: ${response.total_cost:.3f}')\n",
    "except Exception as e:\n",
    "    print(f'{e.__class__} error: {str(e).strip()}')"
   ]
  },
  {
   "cell_type": "code",
   "execution_count": 5,
   "id": "9451feb0-a471-48df-986d-75519bef624a",
   "metadata": {},
   "outputs": [
    {
     "data": {
      "text/plain": [
       "['CSS', 'SchemaScraper', 'XPath', '__builtins__', '__cached__', '__doc__', '__file__', '__loader__', '__name__', '__package__', '__path__', '__spec__', 'apicall', 'cost_estimate', 'errors', 'postprocessors', 'preprocessors', 'responses', 'scrapers', 'utils']"
      ]
     },
     "execution_count": 5,
     "metadata": {},
     "output_type": "execute_result"
    }
   ],
   "source": [
    "\n",
    "import scrapeghost\n",
    "\n",
    "dir(scrapeghost)"
   ]
  },
  {
   "cell_type": "code",
   "execution_count": 7,
   "id": "9d4c8c03-344f-4a41-8330-5726c54f42ef",
   "metadata": {},
   "outputs": [
    {
     "data": {
      "text/plain": [
       "[{'percent_fit': 1.0, 'file_name': 'f9eb1389644151d9_Data_Operations_Engineer_Remote_Remote_Indeed_com.html', 'posting_url': 'https://www.indeed.com/rc/clk/dl?jk=f9eb1389644151d9&from=ja&qd=RnZhMybXSk4M3QtTVGXWocPDA-jVn_f73KUcK2QrGXxWzxuTTZnceBTcgT1wk7VUo-bXDKl1ImijYZhUV9SeWA-WVeNBgck-w1Fi5Baf52g&rd=KaXlx5fp5X_mVf8_2PYUAl_MKnaSAFGAsD6kfERFt3g&tk=1gs7bdi12p37l800&alid=63b02dca1ef86228dd5d5128'}, {'percent_fit': 1.0, 'file_name': 'mrBArBiUFWdh0zxQ3TSjiQ_Data_Scientist_Python_SQL_Remote_7750_USD_Mes_Listopro_Santiago_Santiago_Metropolitan_Region_Chile_Remote.html', 'posting_url': 'https://www.linkedin.com/comm/jobs/view/3528402447/?trackingId=mrBArBiUFWdh0zxQ3TSjiQ%3D%3D&refId=796d3d24-023c-405a-8405-a7b5336f004b&lipi=urn%3Ali%3Apage%3Aemail_email_job_alert_digest_01%3B9JK4HhEER12yugjbEfmUsg%3D%3D&midToken=AQGMOUshomUHaw&midSig=2w1GA3v5Bk3qI1&trk=eml-email_job_alert_digest_01-job_card-0-jobcard_body&trkEmail=eml-email_job_alert_digest_01-job_card-0-jobcard_body-null-31gqm~lffidpz4~3u-null-null&eid=31gqm-lffidpz4-3u'}]"
      ]
     },
     "execution_count": 7,
     "metadata": {},
     "output_type": "execute_result"
    }
   ],
   "source": [
    "\n",
    "# Show what's in the database already for this html string\n",
    "def do_cypher_tx(tx, verbose=False):\n",
    "    cypher_str = '''\n",
    "        MATCH (fn:FileNames)\n",
    "        WHERE\n",
    "            (fn.percent_fit >= 0.8) AND\n",
    "            ((fn.is_closed IS NULL) OR (fn.is_closed = false)) AND\n",
    "            ((fn.is_opportunity_application_emailed IS NULL) OR (fn.is_opportunity_application_emailed = false))\n",
    "        RETURN\n",
    "            fn.percent_fit AS percent_fit,\n",
    "            fn.file_name AS file_name,\n",
    "            fn.posting_url AS posting_url\n",
    "        ORDER BY fn.percent_fit DESC;'''\n",
    "    results_list = tx.run(query=cypher_str, parameters={})\n",
    "\n",
    "    return [dict(record.items()) for record in results_list]\n",
    "with cu.driver.session() as session:\n",
    "    row_objs_list = session.write_transaction(do_cypher_tx, verbose=False)\n",
    "row_objs_list"
   ]
  },
  {
   "cell_type": "code",
   "execution_count": 28,
   "id": "2ffd3425-4c30-4eb0-9b73-787cfcd0da38",
   "metadata": {},
   "outputs": [
    {
     "name": "stdout",
     "output_type": "stream",
     "text": [
      "2023-03-26 16:51:47 [debug    ] got HTML                       length=5862 url=https://www.indeed.com/rc/clk/dl?jk=f9eb1389644151d9&from=ja&qd=RnZhMybXSk4M3QtTVGXWocPDA-jVn_f73KUcK2QrGXxWzxuTTZnceBTcgT1wk7VUo-bXDKl1ImijYZhUV9SeWA-WVeNBgck-w1Fi5Baf52g&rd=KaXlx5fp5X_mVf8_2PYUAl_MKnaSAFGAsD6kfERFt3g&tk=1gs7bdi12p37l800&alid=63b02dca1ef86228dd5d5128\n",
      "2023-03-26 16:51:47 [debug    ] preprocessor                   from_nodes=1 name=CleanHTML nodes=1\n",
      "2023-03-26 16:51:47 [info     ] API request                    html_tokens=604 model=gpt-3.5-turbo\n",
      "2023-03-26 16:52:01 [info     ] API response                   completion_tokens=405 cost=0.0023840000000000003 duration=14.182557106018066 finish_reason=stop prompt_tokens=787\n",
      "2023-03-26 16:52:01 [debug    ] postprocessor                  data={\n",
      "  \"<h1>Access denied</h1>\": \"str\",\n",
      "  \"<span class=\\\"cf-code-label\\\">Error code <span>1020</span></span>\": \"str\",\n",
      "  \"<p>You do not have access to www.indeed.com.</p><p>The site owner may have set restrictions that prevent you from accessing the site.</p>\": \"str\",\n",
      "  \"<p class=\\\"cf-dropdown-title\\\">Error details</p>\": \"str\",\n",
      "  \"<img src=\\\"data:image/png;base64,iVBORw0KGgoAAAANSUhEUgAAACAAAAAgBAMAAACBVGfHAAAAElBMVEUAAAAwMDAxMTEyMjIwMDAxMTF+89HTAAAABXRSTlMAf2CAMKS61bwAAABTSURBVCjPzcq7DcAgFENR5zMATfo06TNCViAS+6+CeFi6gglw4eLqaPVtaQpXnkApaQT/k0dw70EAUhCA1AnABGACMAGYAEwAkCOAydv+I5xaZhXWbQrD80TkkQAAAABJRU5ErkJggg==\\\" class=\\\"cf-caret-icon\\\" id=\\\"caret-icon\\\" alt=\\\"Caret icon\\\">\": \"str\",\n",
      "  \"<p class=\\\"cf-error-copy-description\\\">Provide the site owner this information.</p>\\n\": \"str\",\n",
      "  \"Was this page helpful?\\n\\n \\n\\n\\n Thank you for your feedback!\\n\": \"str\",\n",
      "  \"<a rel=\\\"noopener noreferrer\\\" href=\\\"https://www.cloudflare.com?utm_source=1020_error\\\" target=\\\"_blank\\\">Cloudflare <img class=\\\"external-link\\\" title=\\\"Opens in new tab\\\" src=\\\"https://www.indeed.com/cdn-cgi/images/external.png\\\" alt=\\\"External link\\\"></a>\": \"str\"\n",
      "} data_type=<class 'str'> postprocessor=JSONPostprocessor(nudge=True))\n",
      "2023-03-26 16:52:01 [debug    ] postprocessor                  data={'<h1>Access denied</h1>': 'str', '<span class=\"cf-code-label\">Error code <span>1020</span></span>': 'str', '<p>You do not have access to www.indeed.com.</p><p>The site owner may have set restrictions that prevent you from accessing the site.</p>': 'str', '<p class=\"cf-dropdown-title\">Error details</p>': 'str', '<img src=\"data:image/png;base64,iVBORw0KGgoAAAANSUhEUgAAACAAAAAgBAMAAACBVGfHAAAAElBMVEUAAAAwMDAxMTEyMjIwMDAxMTF+89HTAAAABXRSTlMAf2CAMKS61bwAAABTSURBVCjPzcq7DcAgFENR5zMATfo06TNCViAS+6+CeFi6gglw4eLqaPVtaQpXnkApaQT/k0dw70EAUhCA1AnABGACMAGYAEwAkCOAydv+I5xaZhXWbQrD80TkkQAAAABJRU5ErkJggg==\" class=\"cf-caret-icon\" id=\"caret-icon\" alt=\"Caret icon\">': 'str', '<p class=\"cf-error-copy-description\">Provide the site owner this information.</p>\\n': 'str', 'Was this page helpful?\\n\\n \\n\\n\\n Thank you for your feedback!\\n': 'str', '<a rel=\"noopener noreferrer\" href=\"https://www.cloudflare.com?utm_source=1020_error\" target=\"_blank\">Cloudflare <img class=\"external-link\" title=\"Opens in new tab\" src=\"https://www.indeed.com/cdn-cgi/images/external.png\" alt=\"External link\"></a>': 'str'} data_type=<class 'dict'> postprocessor=HallucinationChecker\n",
      "{'<a rel=\"noopener noreferrer\" href=\"https://www.cloudflare.com?utm_source=1020_error\" target=\"_blank\">Cloudflare <img class=\"external-link\" title=\"Opens in new tab\" src=\"https://www.indeed.com/cdn-cgi/images/external.png\" alt=\"External link\"></a>': 'str',\n",
      " '<h1>Access denied</h1>': 'str',\n",
      " '<img src=\"data:image/png;base64,iVBORw0KGgoAAAANSUhEUgAAACAAAAAgBAMAAACBVGfHAAAAElBMVEUAAAAwMDAxMTEyMjIwMDAxMTF+89HTAAAABXRSTlMAf2CAMKS61bwAAABTSURBVCjPzcq7DcAgFENR5zMATfo06TNCViAS+6+CeFi6gglw4eLqaPVtaQpXnkApaQT/k0dw70EAUhCA1AnABGACMAGYAEwAkCOAydv+I5xaZhXWbQrD80TkkQAAAABJRU5ErkJggg==\" class=\"cf-caret-icon\" id=\"caret-icon\" alt=\"Caret icon\">': 'str',\n",
      " '<p class=\"cf-dropdown-title\">Error details</p>': 'str',\n",
      " '<p class=\"cf-error-copy-description\">Provide the site owner this information.</p>\\n': 'str',\n",
      " '<p>You do not have access to www.indeed.com.</p><p>The site owner may have set restrictions that prevent you from accessing the site.</p>': 'str',\n",
      " '<span class=\"cf-code-label\">Error code <span>1020</span></span>': 'str',\n",
      " 'Was this page helpful?\\n\\n \\n\\n\\n Thank you for your feedback!\\n': 'str'}\n",
      "Total Cost: $0.002\n"
     ]
    }
   ],
   "source": [
    "\n",
    "from scrapeghost import SchemaScraper, XPath\n",
    "from pprint import pprint\n",
    "\n",
    "url = row_objs_list[0]['posting_url']\n",
    "schema = {\n",
    "    '<h1 class=\"icl-u-xs-mb--xs icl-u-xs-mt--none jobsearch-JobInfoHeader-title\">': 'str',\n",
    "    '<b> As a DataOps Engineer, you....</b>': ['str'],\n",
    "    '<b> Who makes a DatOps Engineer?</b>': ['str'],\n",
    "}\n",
    "\n",
    "episode_scraper = SchemaScraper(\n",
    "    schema,\n",
    "    # can pass preprocessor to constructor or at scrape time\n",
    "    # extra_preprocessors=[XPath('//*[@id=\"jobDescriptionText\"]')],\n",
    "    extra_instructions=[\n",
    "        'The important stuff is below the <h2 id=\"jobDescriptionTitle\" class=\"jobsearch-JobDescriptionSection-jobDescriptionTitle icl-u-xs-my--md\">Full Job Description</h2>.',\n",
    "    ],\n",
    ")\n",
    "try:\n",
    "    response = episode_scraper(url)\n",
    "    pprint(response.data)\n",
    "    print(f'Total Cost: ${response.total_cost:.3f}')\n",
    "except Exception as e:\n",
    "    print(f'{e.__class__} error: {str(e).strip()}')"
   ]
  },
  {
   "cell_type": "code",
   "execution_count": 11,
   "id": "4240c75f-2e95-402f-9241-b7b9dadd51eb",
   "metadata": {},
   "outputs": [
    {
     "data": {
      "text/plain": [
       "'https://www.indeed.com/rc/clk/dl?jk=f9eb1389644151d9&from=ja&qd=RnZhMybXSk4M3QtTVGXWocPDA-jVn_f73KUcK2QrGXxWzxuTTZnceBTcgT1wk7VUo-bXDKl1ImijYZhUV9SeWA-WVeNBgck-w1Fi5Baf52g&rd=KaXlx5fp5X_mVf8_2PYUAl_MKnaSAFGAsD6kfERFt3g&tk=1gs7bdi12p37l800&alid=63b02dca1ef86228dd5d5128'"
      ]
     },
     "execution_count": 11,
     "metadata": {},
     "output_type": "execute_result"
    }
   ],
   "source": [
    "\n",
    "url"
   ]
  },
  {
   "cell_type": "code",
   "execution_count": null,
   "id": "539db70c-c0f0-42a1-a346-97e7ab5d3fc2",
   "metadata": {},
   "outputs": [],
   "source": []
  }
 ],
 "metadata": {
  "kernelspec": {
   "display_name": "Job Hunting (Python 3.10.9)",
   "language": "python",
   "name": "jh_env"
  },
  "language_info": {
   "codemirror_mode": {
    "name": "ipython",
    "version": 3
   },
   "file_extension": ".py",
   "mimetype": "text/x-python",
   "name": "python",
   "nbconvert_exporter": "python",
   "pygments_lexer": "ipython3",
   "version": "3.10.9"
  }
 },
 "nbformat": 4,
 "nbformat_minor": 5
}
