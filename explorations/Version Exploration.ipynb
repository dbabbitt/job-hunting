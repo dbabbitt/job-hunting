{
 "cells": [
  {
   "cell_type": "code",
   "execution_count": 1,
   "metadata": {},
   "outputs": [
    {
     "name": "stdout",
     "output_type": "stream",
     "text": [
      "Pretty printing has been turned OFF\n"
     ]
    }
   ],
   "source": [
    "\n",
    "%pprint"
   ]
  },
  {
   "cell_type": "markdown",
   "metadata": {},
   "source": [
    "\n",
    "# Check the version of Python package / library"
   ]
  },
  {
   "cell_type": "code",
   "execution_count": 2,
   "metadata": {},
   "outputs": [],
   "source": [
    "\n",
    "import os\n",
    "\n",
    "environment_name = 'jh'\n",
    "def get_popen_list(command_str):\n",
    "    popen_list = os.popen(command_str).read().split('\\n')\n",
    "    \n",
    "    return(popen_list)"
   ]
  },
  {
   "cell_type": "markdown",
   "metadata": {},
   "source": [
    "\n",
    "## Pip List"
   ]
  },
  {
   "cell_type": "code",
   "execution_count": 3,
   "metadata": {},
   "outputs": [],
   "source": [
    "\n",
    "import re\n",
    "import pandas as pd\n",
    "\n",
    "ws_regex = re.compile('\\s+')\n",
    "def get_packages_dataframe(columns_list, packages_list, splitter_regex=ws_regex):\n",
    "    rows_list = []\n",
    "    for package_str in packages_list:\n",
    "        row_dict = {cv: cn for cn, cv in zip(splitter_regex.split(package_str), columns_list)}\n",
    "        rows_list.append(row_dict)\n",
    "    df = pd.DataFrame(rows_list, columns=columns_list)\n",
    "    \n",
    "    return df"
   ]
  },
  {
   "cell_type": "code",
   "execution_count": 4,
   "metadata": {},
   "outputs": [
    {
     "name": "stdout",
     "output_type": "stream",
     "text": [
      "C:\\Users\\dev\\Anaconda3\\envs\\jh\\python.exe -m pip list\n",
      "['wincertstore                  0.2', 'wcwidth                       0.2.5', 'pywin32                       228', 'six                           1.15.0', '']\n"
     ]
    }
   ],
   "source": [
    "\n",
    "import sys\n",
    "import random\n",
    "\n",
    "command_str = f'{sys.executable} -m pip list'\n",
    "print(command_str)\n",
    "popen_list = get_popen_list(command_str)\n",
    "print(random.sample(popen_list, 5))\n",
    "columns_list = [f'pip_list_{cn.lower()}' for cn in ws_regex.split(popen_list[0])]\n",
    "packages_list = popen_list[2:-1]\n",
    "pip_list_df = get_packages_dataframe(columns_list, packages_list)"
   ]
  },
  {
   "cell_type": "code",
   "execution_count": 5,
   "metadata": {},
   "outputs": [
    {
     "data": {
      "text/html": [
       "<div>\n",
       "<style scoped>\n",
       "    .dataframe tbody tr th:only-of-type {\n",
       "        vertical-align: middle;\n",
       "    }\n",
       "\n",
       "    .dataframe tbody tr th {\n",
       "        vertical-align: top;\n",
       "    }\n",
       "\n",
       "    .dataframe thead th {\n",
       "        text-align: right;\n",
       "    }\n",
       "</style>\n",
       "<table border=\"1\" class=\"dataframe\">\n",
       "  <thead>\n",
       "    <tr style=\"text-align: right;\">\n",
       "      <th></th>\n",
       "      <th>pip_list_package</th>\n",
       "      <th>pip_list_version</th>\n",
       "    </tr>\n",
       "  </thead>\n",
       "  <tbody>\n",
       "    <tr>\n",
       "      <th>19</th>\n",
       "      <td>pytz</td>\n",
       "      <td>2020.4</td>\n",
       "    </tr>\n",
       "    <tr>\n",
       "      <th>17</th>\n",
       "      <td>Pygments</td>\n",
       "      <td>2.7.2</td>\n",
       "    </tr>\n",
       "    <tr>\n",
       "      <th>25</th>\n",
       "      <td>traitlets</td>\n",
       "      <td>5.0.5</td>\n",
       "    </tr>\n",
       "    <tr>\n",
       "      <th>0</th>\n",
       "      <td>backcall</td>\n",
       "      <td>0.2.0</td>\n",
       "    </tr>\n",
       "    <tr>\n",
       "      <th>16</th>\n",
       "      <td>prompt-toolkit</td>\n",
       "      <td>3.0.8</td>\n",
       "    </tr>\n",
       "  </tbody>\n",
       "</table>\n",
       "</div>"
      ],
      "text/plain": [
       "   pip_list_package pip_list_version\n",
       "19             pytz           2020.4\n",
       "17         Pygments            2.7.2\n",
       "25        traitlets            5.0.5\n",
       "0          backcall            0.2.0\n",
       "16   prompt-toolkit            3.0.8"
      ]
     },
     "execution_count": 5,
     "metadata": {},
     "output_type": "execute_result"
    }
   ],
   "source": [
    "\n",
    "pip_list_df.sample(5)"
   ]
  },
  {
   "cell_type": "markdown",
   "metadata": {},
   "source": [
    "\n",
    "## Pip Freeze"
   ]
  },
  {
   "cell_type": "code",
   "execution_count": 6,
   "metadata": {},
   "outputs": [
    {
     "name": "stdout",
     "output_type": "stream",
     "text": [
      "C:\\Users\\dev\\Anaconda3\\envs\\jh\\python.exe -m pip freeze\n",
      "['tornado @ file:///D:/bld/tornado_1604105205494/work', 'python-dateutil==2.8.1', 'pyzmq==20.0.0', 'jupyter-core @ file:///D:/bld/jupyter_core_1605735211703/work', 'numpy @ file:///D:/bld/numpy_1604946253620/work']\n"
     ]
    }
   ],
   "source": [
    "\n",
    "import numpy as np\n",
    "\n",
    "command_str = f'{sys.executable} -m pip freeze'\n",
    "print(command_str)\n",
    "popen_list = get_popen_list(command_str)\n",
    "print(random.sample(popen_list, 5))\n",
    "vers_regex = re.compile('^([^= \\r\\n]+)(==[^\\r\\n]+| @ [^\\r\\n]+)$')\n",
    "columns_list = ['pip_freeze_package', 'pip_freeze_version', 'pip_freeze_file']\n",
    "rows_list = []\n",
    "for popen_str in popen_list[:-1]:\n",
    "    parts_list = vers_regex.split(popen_str)\n",
    "    package_str = parts_list[1]\n",
    "    vers_file_str = parts_list[2]\n",
    "    if vers_file_str.startswith(' @ '):\n",
    "        vers_str = np.nan\n",
    "        file_str = vers_file_str[3:]\n",
    "    elif vers_file_str.startswith('=='):\n",
    "        file_str = np.nan\n",
    "        vers_str = vers_file_str[2:]\n",
    "    row_dict = {}\n",
    "    row_dict['pip_freeze_package'] = package_str\n",
    "    row_dict['pip_freeze_version'] = vers_str\n",
    "    row_dict['pip_freeze_file'] = file_str\n",
    "    rows_list.append(row_dict.copy())\n",
    "pip_freeze_df = pd.DataFrame(rows_list, columns=columns_list)"
   ]
  },
  {
   "cell_type": "code",
   "execution_count": 7,
   "metadata": {},
   "outputs": [
    {
     "data": {
      "text/html": [
       "<div>\n",
       "<style scoped>\n",
       "    .dataframe tbody tr th:only-of-type {\n",
       "        vertical-align: middle;\n",
       "    }\n",
       "\n",
       "    .dataframe tbody tr th {\n",
       "        vertical-align: top;\n",
       "    }\n",
       "\n",
       "    .dataframe thead th {\n",
       "        text-align: right;\n",
       "    }\n",
       "</style>\n",
       "<table border=\"1\" class=\"dataframe\">\n",
       "  <thead>\n",
       "    <tr style=\"text-align: right;\">\n",
       "      <th></th>\n",
       "      <th>pip_freeze_package</th>\n",
       "      <th>pip_freeze_version</th>\n",
       "      <th>pip_freeze_file</th>\n",
       "    </tr>\n",
       "  </thead>\n",
       "  <tbody>\n",
       "    <tr>\n",
       "      <th>21</th>\n",
       "      <td>six</td>\n",
       "      <td>NaN</td>\n",
       "      <td>file:///home/conda/feedstock_root/build_artifa...</td>\n",
       "    </tr>\n",
       "    <tr>\n",
       "      <th>9</th>\n",
       "      <td>jupyter-client</td>\n",
       "      <td>NaN</td>\n",
       "      <td>file:///home/conda/feedstock_root/build_artifa...</td>\n",
       "    </tr>\n",
       "    <tr>\n",
       "      <th>23</th>\n",
       "      <td>traitlets</td>\n",
       "      <td>NaN</td>\n",
       "      <td>file:///home/conda/feedstock_root/build_artifa...</td>\n",
       "    </tr>\n",
       "    <tr>\n",
       "      <th>18</th>\n",
       "      <td>pytz</td>\n",
       "      <td>NaN</td>\n",
       "      <td>file:///home/conda/feedstock_root/build_artifa...</td>\n",
       "    </tr>\n",
       "    <tr>\n",
       "      <th>6</th>\n",
       "      <td>ipython</td>\n",
       "      <td>NaN</td>\n",
       "      <td>file:///D:/bld/ipython_1604159803912/work</td>\n",
       "    </tr>\n",
       "  </tbody>\n",
       "</table>\n",
       "</div>"
      ],
      "text/plain": [
       "   pip_freeze_package pip_freeze_version  \\\n",
       "21                six                NaN   \n",
       "9      jupyter-client                NaN   \n",
       "23          traitlets                NaN   \n",
       "18               pytz                NaN   \n",
       "6             ipython                NaN   \n",
       "\n",
       "                                      pip_freeze_file  \n",
       "21  file:///home/conda/feedstock_root/build_artifa...  \n",
       "9   file:///home/conda/feedstock_root/build_artifa...  \n",
       "23  file:///home/conda/feedstock_root/build_artifa...  \n",
       "18  file:///home/conda/feedstock_root/build_artifa...  \n",
       "6           file:///D:/bld/ipython_1604159803912/work  "
      ]
     },
     "execution_count": 7,
     "metadata": {},
     "output_type": "execute_result"
    }
   ],
   "source": [
    "\n",
    "pip_freeze_df.sample(5)"
   ]
  },
  {
   "cell_type": "markdown",
   "metadata": {},
   "source": [
    "\n",
    "## Conda List"
   ]
  },
  {
   "cell_type": "code",
   "execution_count": 8,
   "metadata": {},
   "outputs": [
    {
     "name": "stdout",
     "output_type": "stream",
     "text": [
      "conda list -n jh --json\n",
      "[{'base_url': 'https://conda.anaconda.org/conda-forge', 'build_number': 0, 'build_string': 'py39hcbf5309_0', 'channel': 'conda-forge', 'dist_name': 'certifi-2020.11.8-py39hcbf5309_0', 'name': 'certifi', 'platform': 'win-64', 'version': '2020.11.8'}, {'base_url': 'https://conda.anaconda.org/conda-forge', 'build_number': 1, 'build_string': 'h8d14728_1', 'channel': 'conda-forge', 'dist_name': 'libsodium-1.0.18-h8d14728_1', 'name': 'libsodium', 'platform': 'win-64', 'version': '1.0.18'}, {'base_url': 'https://conda.anaconda.org/conda-forge', 'build_number': 311, 'build_string': 'hb70f87d_311', 'channel': 'conda-forge', 'dist_name': 'mkl-2020.4-hb70f87d_311', 'name': 'mkl', 'platform': 'win-64', 'version': '2020.4'}, {'base_url': 'https://conda.anaconda.org/conda-forge', 'build_number': 3, 'build_string': '3_hd5c7e75_netlib', 'channel': 'conda-forge', 'dist_name': 'libcblas-3.9.0-3_hd5c7e75_netlib', 'name': 'libcblas', 'platform': 'win-64', 'version': '3.9.0'}, {'base_url': 'https://conda.anaconda.org/conda-forge', 'build_number': 0, 'build_string': 'py_0', 'channel': 'conda-forge', 'dist_name': 'backports.functools_lru_cache-1.6.1-py_0', 'name': 'backports.functools_lru_cache', 'platform': 'noarch', 'version': '1.6.1'}]\n"
     ]
    }
   ],
   "source": [
    "\n",
    "command_str = f'conda list -n {environment_name} --json'\n",
    "print(command_str)\n",
    "columns_list = ['name', 'version', 'base_url', 'build_number', 'build_string', 'channel', 'dist_name', 'platform']\n",
    "rows_list = eval(os.popen(command_str).read())\n",
    "print(random.sample(rows_list, 5))\n",
    "conda_list_df = pd.DataFrame(rows_list, columns=columns_list)\n",
    "conda_list_df.columns = [f'conda_list_{cn}' for cn in columns_list]"
   ]
  },
  {
   "cell_type": "code",
   "execution_count": 9,
   "metadata": {},
   "outputs": [
    {
     "data": {
      "text/html": [
       "<div>\n",
       "<style scoped>\n",
       "    .dataframe tbody tr th:only-of-type {\n",
       "        vertical-align: middle;\n",
       "    }\n",
       "\n",
       "    .dataframe tbody tr th {\n",
       "        vertical-align: top;\n",
       "    }\n",
       "\n",
       "    .dataframe thead th {\n",
       "        text-align: right;\n",
       "    }\n",
       "</style>\n",
       "<table border=\"1\" class=\"dataframe\">\n",
       "  <thead>\n",
       "    <tr style=\"text-align: right;\">\n",
       "      <th></th>\n",
       "      <th>41</th>\n",
       "      <th>49</th>\n",
       "      <th>35</th>\n",
       "      <th>20</th>\n",
       "    </tr>\n",
       "  </thead>\n",
       "  <tbody>\n",
       "    <tr>\n",
       "      <th>conda_list_name</th>\n",
       "      <td>sqlite</td>\n",
       "      <td>wincertstore</td>\n",
       "      <td>python_abi</td>\n",
       "      <td>m2w64-gcc-libs-core</td>\n",
       "    </tr>\n",
       "    <tr>\n",
       "      <th>conda_list_version</th>\n",
       "      <td>3.33.0</td>\n",
       "      <td>0.2</td>\n",
       "      <td>3.9</td>\n",
       "      <td>5.3.0</td>\n",
       "    </tr>\n",
       "    <tr>\n",
       "      <th>conda_list_base_url</th>\n",
       "      <td>https://conda.anaconda.org/conda-forge</td>\n",
       "      <td>https://conda.anaconda.org/conda-forge</td>\n",
       "      <td>https://conda.anaconda.org/conda-forge</td>\n",
       "      <td>https://repo.anaconda.com/pkgs/msys2</td>\n",
       "    </tr>\n",
       "    <tr>\n",
       "      <th>conda_list_build_number</th>\n",
       "      <td>1</td>\n",
       "      <td>1005</td>\n",
       "      <td>1</td>\n",
       "      <td>7</td>\n",
       "    </tr>\n",
       "    <tr>\n",
       "      <th>conda_list_build_string</th>\n",
       "      <td>he774522_1</td>\n",
       "      <td>py39hde42818_1005</td>\n",
       "      <td>1_cp39</td>\n",
       "      <td>7</td>\n",
       "    </tr>\n",
       "    <tr>\n",
       "      <th>conda_list_channel</th>\n",
       "      <td>conda-forge</td>\n",
       "      <td>conda-forge</td>\n",
       "      <td>conda-forge</td>\n",
       "      <td>pkgs/msys2</td>\n",
       "    </tr>\n",
       "    <tr>\n",
       "      <th>conda_list_dist_name</th>\n",
       "      <td>sqlite-3.33.0-he774522_1</td>\n",
       "      <td>wincertstore-0.2-py39hde42818_1005</td>\n",
       "      <td>python_abi-3.9-1_cp39</td>\n",
       "      <td>m2w64-gcc-libs-core-5.3.0-7</td>\n",
       "    </tr>\n",
       "    <tr>\n",
       "      <th>conda_list_platform</th>\n",
       "      <td>win-64</td>\n",
       "      <td>win-64</td>\n",
       "      <td>win-64</td>\n",
       "      <td>win-64</td>\n",
       "    </tr>\n",
       "  </tbody>\n",
       "</table>\n",
       "</div>"
      ],
      "text/plain": [
       "                                                             41  \\\n",
       "conda_list_name                                          sqlite   \n",
       "conda_list_version                                       3.33.0   \n",
       "conda_list_base_url      https://conda.anaconda.org/conda-forge   \n",
       "conda_list_build_number                                       1   \n",
       "conda_list_build_string                              he774522_1   \n",
       "conda_list_channel                                  conda-forge   \n",
       "conda_list_dist_name                   sqlite-3.33.0-he774522_1   \n",
       "conda_list_platform                                      win-64   \n",
       "\n",
       "                                                             49  \\\n",
       "conda_list_name                                    wincertstore   \n",
       "conda_list_version                                          0.2   \n",
       "conda_list_base_url      https://conda.anaconda.org/conda-forge   \n",
       "conda_list_build_number                                    1005   \n",
       "conda_list_build_string                       py39hde42818_1005   \n",
       "conda_list_channel                                  conda-forge   \n",
       "conda_list_dist_name         wincertstore-0.2-py39hde42818_1005   \n",
       "conda_list_platform                                      win-64   \n",
       "\n",
       "                                                             35  \\\n",
       "conda_list_name                                      python_abi   \n",
       "conda_list_version                                          3.9   \n",
       "conda_list_base_url      https://conda.anaconda.org/conda-forge   \n",
       "conda_list_build_number                                       1   \n",
       "conda_list_build_string                                  1_cp39   \n",
       "conda_list_channel                                  conda-forge   \n",
       "conda_list_dist_name                      python_abi-3.9-1_cp39   \n",
       "conda_list_platform                                      win-64   \n",
       "\n",
       "                                                           20  \n",
       "conda_list_name                           m2w64-gcc-libs-core  \n",
       "conda_list_version                                      5.3.0  \n",
       "conda_list_base_url      https://repo.anaconda.com/pkgs/msys2  \n",
       "conda_list_build_number                                     7  \n",
       "conda_list_build_string                                     7  \n",
       "conda_list_channel                                 pkgs/msys2  \n",
       "conda_list_dist_name              m2w64-gcc-libs-core-5.3.0-7  \n",
       "conda_list_platform                                    win-64  "
      ]
     },
     "execution_count": 9,
     "metadata": {},
     "output_type": "execute_result"
    }
   ],
   "source": [
    "\n",
    "conda_list_df.sample(4).T"
   ]
  },
  {
   "cell_type": "markdown",
   "metadata": {},
   "source": [
    "\n",
    "----"
   ]
  },
  {
   "cell_type": "code",
   "execution_count": 10,
   "metadata": {},
   "outputs": [],
   "source": [
    "\n",
    "pip_list_set = set(pip_list_df.pip_list_package.tolist())\n",
    "pip_freeze_set = set(pip_freeze_df.pip_freeze_package.tolist())\n",
    "conda_list_set = set(conda_list_df.conda_list_name.tolist())"
   ]
  },
  {
   "cell_type": "code",
   "execution_count": 11,
   "metadata": {},
   "outputs": [
    {
     "data": {
      "text/plain": [
       "{'tornado', 'six', 'backcall', 'ipython', 'jupyter-client', 'wincertstore', 'backports.functools-lru-cache', 'pyzmq', 'traitlets', 'numpy', 'jupyter-core', 'decorator', 'pywin32', 'parso', 'Pygments', 'pickleshare', 'pytz', 'ipykernel', 'jedi', 'wcwidth', 'python-dateutil', 'certifi', 'ipython-genutils', 'pandas', 'colorama', 'prompt-toolkit'}"
      ]
     },
     "execution_count": 11,
     "metadata": {},
     "output_type": "execute_result"
    }
   ],
   "source": [
    "\n",
    "pip_list_set.intersection(pip_freeze_set)"
   ]
  },
  {
   "cell_type": "code",
   "execution_count": 12,
   "metadata": {},
   "outputs": [
    {
     "data": {
      "text/plain": [
       "{'tornado', 'six', 'backcall', 'wincertstore', 'ipython', 'pyzmq', 'traitlets', 'numpy', 'decorator', 'pywin32', 'parso', 'pickleshare', 'pytz', 'ipykernel', 'jedi', 'wcwidth', 'pip', 'certifi', 'wheel', 'setuptools', 'python-dateutil', 'pandas', 'colorama', 'prompt-toolkit'}"
      ]
     },
     "execution_count": 12,
     "metadata": {},
     "output_type": "execute_result"
    }
   ],
   "source": [
    "\n",
    "pip_list_set.intersection(conda_list_set)"
   ]
  },
  {
   "cell_type": "code",
   "execution_count": 13,
   "metadata": {},
   "outputs": [
    {
     "data": {
      "text/plain": [
       "{'tornado', 'six', 'backcall', 'wincertstore', 'ipython', 'pyzmq', 'traitlets', 'numpy', 'decorator', 'pywin32', 'parso', 'pickleshare', 'pytz', 'ipykernel', 'jedi', 'wcwidth', 'certifi', 'python-dateutil', 'pandas', 'colorama', 'prompt-toolkit'}"
      ]
     },
     "execution_count": 13,
     "metadata": {},
     "output_type": "execute_result"
    }
   ],
   "source": [
    "\n",
    "pip_freeze_set.intersection(conda_list_set)"
   ]
  },
  {
   "cell_type": "code",
   "execution_count": 14,
   "metadata": {},
   "outputs": [
    {
     "data": {
      "text/plain": [
       "{'tornado', 'six', 'backcall', 'wincertstore', 'ipython', 'pyzmq', 'traitlets', 'numpy', 'decorator', 'pywin32', 'parso', 'pickleshare', 'pytz', 'ipykernel', 'jedi', 'wcwidth', 'certifi', 'python-dateutil', 'pandas', 'colorama', 'prompt-toolkit'}"
      ]
     },
     "execution_count": 14,
     "metadata": {},
     "output_type": "execute_result"
    }
   ],
   "source": [
    "\n",
    "pip_list_set.intersection(pip_freeze_set).intersection(conda_list_set)"
   ]
  },
  {
   "cell_type": "code",
   "execution_count": 15,
   "metadata": {},
   "outputs": [
    {
     "data": {
      "text/plain": [
       "{'pip', 'wheel', 'setuptools'}"
      ]
     },
     "execution_count": 15,
     "metadata": {},
     "output_type": "execute_result"
    }
   ],
   "source": [
    "\n",
    "pip_list_set.symmetric_difference(pip_freeze_set)"
   ]
  },
  {
   "cell_type": "code",
   "execution_count": 16,
   "metadata": {},
   "outputs": [
    {
     "data": {
      "text/plain": [
       "{'python', 'zeromq', 'jupyter_client', 'ipython-genutils', 'jupyter-client', 'backports.functools-lru-cache', 'm2w64-gcc-libgfortran', 'm2w64-gcc-libs', 'sqlite', 'backports', 'intel-openmp', 'tzdata', 'openssl', 'python_abi', 'libblas', 'jupyter-core', 'mkl', 'm2w64-gmp', 'm2w64-libwinpthread-git', 'backports.functools_lru_cache', 'vc', 'liblapack', 'm2w64-gcc-libs-core', 'jupyter_core', 'Pygments', 'vs2015_runtime', 'libsodium', 'ca-certificates', 'ipython_genutils', 'msys2-conda-epoch', 'pygments', 'libcblas'}"
      ]
     },
     "execution_count": 16,
     "metadata": {},
     "output_type": "execute_result"
    }
   ],
   "source": [
    "\n",
    "pip_list_set.symmetric_difference(conda_list_set)"
   ]
  },
  {
   "cell_type": "code",
   "execution_count": 17,
   "metadata": {},
   "outputs": [
    {
     "data": {
      "text/plain": [
       "{'python', 'zeromq', 'jupyter_client', 'ipython-genutils', 'jupyter-client', 'backports.functools-lru-cache', 'm2w64-gcc-libgfortran', 'm2w64-gcc-libs', 'sqlite', 'backports', 'intel-openmp', 'tzdata', 'openssl', 'python_abi', 'libblas', 'jupyter-core', 'mkl', 'm2w64-gmp', 'm2w64-libwinpthread-git', 'backports.functools_lru_cache', 'vc', 'liblapack', 'm2w64-gcc-libs-core', 'jupyter_core', 'Pygments', 'vs2015_runtime', 'libsodium', 'ca-certificates', 'ipython_genutils', 'msys2-conda-epoch', 'pip', 'pygments', 'wheel', 'libcblas', 'setuptools'}"
      ]
     },
     "execution_count": 17,
     "metadata": {},
     "output_type": "execute_result"
    }
   ],
   "source": [
    "\n",
    "pip_freeze_set.symmetric_difference(conda_list_set)"
   ]
  },
  {
   "cell_type": "code",
   "execution_count": 18,
   "metadata": {},
   "outputs": [
    {
     "data": {
      "text/plain": [
       "{'tornado', 'six', 'python', 'backcall', 'zeromq', 'jupyter_client', 'ipython', 'wincertstore', 'pyzmq', 'traitlets', 'm2w64-gcc-libgfortran', 'm2w64-gcc-libs', 'sqlite', 'backports', 'intel-openmp', 'tzdata', 'openssl', 'python_abi', 'libblas', 'numpy', 'decorator', 'mkl', 'm2w64-gmp', 'pywin32', 'm2w64-libwinpthread-git', 'backports.functools_lru_cache', 'vc', 'liblapack', 'parso', 'm2w64-gcc-libs-core', 'jupyter_core', 'vs2015_runtime', 'pickleshare', 'libsodium', 'pytz', 'ipykernel', 'jedi', 'ca-certificates', 'ipython_genutils', 'msys2-conda-epoch', 'wcwidth', 'certifi', 'pygments', 'libcblas', 'python-dateutil', 'pandas', 'colorama', 'prompt-toolkit'}"
      ]
     },
     "execution_count": 18,
     "metadata": {},
     "output_type": "execute_result"
    }
   ],
   "source": [
    "\n",
    "pip_list_set.symmetric_difference(pip_freeze_set).symmetric_difference(conda_list_set)"
   ]
  },
  {
   "cell_type": "code",
   "execution_count": 19,
   "metadata": {},
   "outputs": [],
   "source": [
    "\n",
    "package_name_set = pip_list_set.intersection(pip_freeze_set).intersection(conda_list_set)"
   ]
  },
  {
   "cell_type": "markdown",
   "metadata": {},
   "source": [
    "\n",
    "---"
   ]
  },
  {
   "cell_type": "code",
   "execution_count": 20,
   "metadata": {},
   "outputs": [],
   "source": [
    "\n",
    "pip_list_set = set(pip_list_df.columns.tolist())\n",
    "pip_freeze_set = set(pip_freeze_df.columns.tolist())\n",
    "conda_list_set = set(conda_list_df.columns.tolist())"
   ]
  },
  {
   "cell_type": "code",
   "execution_count": 21,
   "metadata": {},
   "outputs": [
    {
     "data": {
      "text/plain": [
       "set()"
      ]
     },
     "execution_count": 21,
     "metadata": {},
     "output_type": "execute_result"
    }
   ],
   "source": [
    "\n",
    "pip_list_set.intersection(pip_freeze_set)"
   ]
  },
  {
   "cell_type": "code",
   "execution_count": 22,
   "metadata": {},
   "outputs": [
    {
     "data": {
      "text/plain": [
       "set()"
      ]
     },
     "execution_count": 22,
     "metadata": {},
     "output_type": "execute_result"
    }
   ],
   "source": [
    "\n",
    "pip_list_set.intersection(conda_list_set)"
   ]
  },
  {
   "cell_type": "code",
   "execution_count": 23,
   "metadata": {},
   "outputs": [
    {
     "data": {
      "text/plain": [
       "set()"
      ]
     },
     "execution_count": 23,
     "metadata": {},
     "output_type": "execute_result"
    }
   ],
   "source": [
    "\n",
    "pip_freeze_set.intersection(conda_list_set)"
   ]
  },
  {
   "cell_type": "code",
   "execution_count": 24,
   "metadata": {},
   "outputs": [
    {
     "data": {
      "text/plain": [
       "set()"
      ]
     },
     "execution_count": 24,
     "metadata": {},
     "output_type": "execute_result"
    }
   ],
   "source": [
    "\n",
    "pip_list_set.intersection(pip_freeze_set).intersection(conda_list_set)"
   ]
  },
  {
   "cell_type": "code",
   "execution_count": 25,
   "metadata": {},
   "outputs": [
    {
     "data": {
      "text/plain": [
       "{'pip_freeze_version', 'pip_list_package', 'pip_freeze_package', 'pip_list_version', 'pip_freeze_file'}"
      ]
     },
     "execution_count": 25,
     "metadata": {},
     "output_type": "execute_result"
    }
   ],
   "source": [
    "\n",
    "pip_list_set.symmetric_difference(pip_freeze_set)"
   ]
  },
  {
   "cell_type": "code",
   "execution_count": 26,
   "metadata": {},
   "outputs": [
    {
     "data": {
      "text/plain": [
       "{'conda_list_dist_name', 'conda_list_version', 'conda_list_platform', 'conda_list_build_number', 'conda_list_name', 'pip_list_package', 'conda_list_base_url', 'conda_list_channel', 'conda_list_build_string', 'pip_list_version'}"
      ]
     },
     "execution_count": 26,
     "metadata": {},
     "output_type": "execute_result"
    }
   ],
   "source": [
    "\n",
    "pip_list_set.symmetric_difference(conda_list_set)"
   ]
  },
  {
   "cell_type": "code",
   "execution_count": 27,
   "metadata": {},
   "outputs": [
    {
     "data": {
      "text/plain": [
       "{'conda_list_dist_name', 'conda_list_version', 'pip_freeze_version', 'conda_list_platform', 'conda_list_build_number', 'conda_list_name', 'conda_list_base_url', 'conda_list_channel', 'pip_freeze_package', 'conda_list_build_string', 'pip_freeze_file'}"
      ]
     },
     "execution_count": 27,
     "metadata": {},
     "output_type": "execute_result"
    }
   ],
   "source": [
    "\n",
    "pip_freeze_set.symmetric_difference(conda_list_set)"
   ]
  },
  {
   "cell_type": "code",
   "execution_count": 28,
   "metadata": {},
   "outputs": [
    {
     "data": {
      "text/plain": [
       "{'conda_list_dist_name', 'conda_list_version', 'pip_freeze_version', 'conda_list_platform', 'conda_list_build_number', 'conda_list_name', 'pip_list_package', 'conda_list_base_url', 'conda_list_channel', 'pip_freeze_package', 'conda_list_build_string', 'pip_list_version', 'pip_freeze_file'}"
      ]
     },
     "execution_count": 28,
     "metadata": {},
     "output_type": "execute_result"
    }
   ],
   "source": [
    "\n",
    "pip_list_set.symmetric_difference(pip_freeze_set).symmetric_difference(conda_list_set)"
   ]
  },
  {
   "cell_type": "markdown",
   "metadata": {},
   "source": [
    "\n",
    "----"
   ]
  },
  {
   "cell_type": "code",
   "execution_count": 29,
   "metadata": {},
   "outputs": [],
   "source": [
    "\n",
    "pip_list_mask_series = pip_list_df.pip_list_package.isin(package_name_set)\n",
    "pip_freeze_mask_series = pip_freeze_df.pip_freeze_package.isin(package_name_set)\n",
    "conda_list_mask_series = conda_list_df.conda_list_name.isin(package_name_set)"
   ]
  },
  {
   "cell_type": "code",
   "execution_count": 30,
   "metadata": {},
   "outputs": [],
   "source": [
    "\n",
    "pip_list_pip_freeze_df = pip_list_df[pip_list_mask_series].merge(pip_freeze_df[pip_freeze_mask_series], left_on='pip_list_package',\n",
    "                                                                 right_on='pip_freeze_package')"
   ]
  },
  {
   "cell_type": "code",
   "execution_count": 31,
   "metadata": {},
   "outputs": [
    {
     "data": {
      "text/plain": [
       "['pip_freeze_package', 'pip_list_package', 'pip_freeze_file', 'pip_freeze_version', 'pip_list_version']"
      ]
     },
     "execution_count": 31,
     "metadata": {},
     "output_type": "execute_result"
    }
   ],
   "source": [
    "\n",
    "sorted(pip_list_pip_freeze_df.columns, key=lambda x: x[::-1])"
   ]
  },
  {
   "cell_type": "code",
   "execution_count": 32,
   "metadata": {},
   "outputs": [
    {
     "data": {
      "text/html": [
       "<div>\n",
       "<style scoped>\n",
       "    .dataframe tbody tr th:only-of-type {\n",
       "        vertical-align: middle;\n",
       "    }\n",
       "\n",
       "    .dataframe tbody tr th {\n",
       "        vertical-align: top;\n",
       "    }\n",
       "\n",
       "    .dataframe thead th {\n",
       "        text-align: right;\n",
       "    }\n",
       "</style>\n",
       "<table border=\"1\" class=\"dataframe\">\n",
       "  <thead>\n",
       "    <tr style=\"text-align: right;\">\n",
       "      <th></th>\n",
       "      <th>pip_list_package</th>\n",
       "      <th>pip_freeze_package</th>\n",
       "      <th>pip_list_version</th>\n",
       "      <th>pip_freeze_version</th>\n",
       "      <th>pip_freeze_file</th>\n",
       "    </tr>\n",
       "  </thead>\n",
       "  <tbody>\n",
       "    <tr>\n",
       "      <th>5</th>\n",
       "      <td>ipython</td>\n",
       "      <td>ipython</td>\n",
       "      <td>7.19.0</td>\n",
       "      <td>NaN</td>\n",
       "      <td>file:///D:/bld/ipython_1604159803912/work</td>\n",
       "    </tr>\n",
       "    <tr>\n",
       "      <th>12</th>\n",
       "      <td>python-dateutil</td>\n",
       "      <td>python-dateutil</td>\n",
       "      <td>2.8.1</td>\n",
       "      <td>2.8.1</td>\n",
       "      <td>NaN</td>\n",
       "    </tr>\n",
       "    <tr>\n",
       "      <th>9</th>\n",
       "      <td>parso</td>\n",
       "      <td>parso</td>\n",
       "      <td>0.7.1</td>\n",
       "      <td>NaN</td>\n",
       "      <td>file:///home/conda/feedstock_root/build_artifa...</td>\n",
       "    </tr>\n",
       "    <tr>\n",
       "      <th>3</th>\n",
       "      <td>decorator</td>\n",
       "      <td>decorator</td>\n",
       "      <td>4.4.2</td>\n",
       "      <td>4.4.2</td>\n",
       "      <td>NaN</td>\n",
       "    </tr>\n",
       "    <tr>\n",
       "      <th>15</th>\n",
       "      <td>pyzmq</td>\n",
       "      <td>pyzmq</td>\n",
       "      <td>20.0.0</td>\n",
       "      <td>20.0.0</td>\n",
       "      <td>NaN</td>\n",
       "    </tr>\n",
       "  </tbody>\n",
       "</table>\n",
       "</div>"
      ],
      "text/plain": [
       "   pip_list_package pip_freeze_package pip_list_version pip_freeze_version  \\\n",
       "5           ipython            ipython           7.19.0                NaN   \n",
       "12  python-dateutil    python-dateutil            2.8.1              2.8.1   \n",
       "9             parso              parso            0.7.1                NaN   \n",
       "3         decorator          decorator            4.4.2              4.4.2   \n",
       "15            pyzmq              pyzmq           20.0.0             20.0.0   \n",
       "\n",
       "                                      pip_freeze_file  \n",
       "5           file:///D:/bld/ipython_1604159803912/work  \n",
       "12                                                NaN  \n",
       "9   file:///home/conda/feedstock_root/build_artifa...  \n",
       "3                                                 NaN  \n",
       "15                                                NaN  "
      ]
     },
     "execution_count": 32,
     "metadata": {},
     "output_type": "execute_result"
    }
   ],
   "source": [
    "\n",
    "columns_list = ['pip_list_package', 'pip_freeze_package', 'pip_list_version', 'pip_freeze_version', 'pip_freeze_file']\n",
    "pip_list_pip_freeze_df[columns_list].sample(5)"
   ]
  },
  {
   "cell_type": "code",
   "execution_count": 33,
   "metadata": {},
   "outputs": [],
   "source": [
    "\n",
    "pip_list_conda_list_df = pip_list_df[pip_list_mask_series].merge(conda_list_df[conda_list_mask_series], left_on='pip_list_package',\n",
    "                                                                 right_on='conda_list_name')"
   ]
  },
  {
   "cell_type": "code",
   "execution_count": 34,
   "metadata": {},
   "outputs": [
    {
     "data": {
      "text/plain": [
       "['pip_list_package', 'conda_list_dist_name', 'conda_list_name', 'conda_list_build_string', 'conda_list_channel', 'conda_list_base_url', 'conda_list_platform', 'conda_list_version', 'pip_list_version', 'conda_list_build_number']"
      ]
     },
     "execution_count": 34,
     "metadata": {},
     "output_type": "execute_result"
    }
   ],
   "source": [
    "\n",
    "sorted(pip_list_conda_list_df.columns, key=lambda x: x[::-1])"
   ]
  },
  {
   "cell_type": "code",
   "execution_count": 35,
   "metadata": {},
   "outputs": [
    {
     "data": {
      "text/html": [
       "<div>\n",
       "<style scoped>\n",
       "    .dataframe tbody tr th:only-of-type {\n",
       "        vertical-align: middle;\n",
       "    }\n",
       "\n",
       "    .dataframe tbody tr th {\n",
       "        vertical-align: top;\n",
       "    }\n",
       "\n",
       "    .dataframe thead th {\n",
       "        text-align: right;\n",
       "    }\n",
       "</style>\n",
       "<table border=\"1\" class=\"dataframe\">\n",
       "  <thead>\n",
       "    <tr style=\"text-align: right;\">\n",
       "      <th></th>\n",
       "      <th>0</th>\n",
       "      <th>20</th>\n",
       "      <th>5</th>\n",
       "      <th>4</th>\n",
       "    </tr>\n",
       "  </thead>\n",
       "  <tbody>\n",
       "    <tr>\n",
       "      <th>pip_list_package</th>\n",
       "      <td>backcall</td>\n",
       "      <td>wincertstore</td>\n",
       "      <td>ipython</td>\n",
       "      <td>ipykernel</td>\n",
       "    </tr>\n",
       "    <tr>\n",
       "      <th>conda_list_name</th>\n",
       "      <td>backcall</td>\n",
       "      <td>wincertstore</td>\n",
       "      <td>ipython</td>\n",
       "      <td>ipykernel</td>\n",
       "    </tr>\n",
       "    <tr>\n",
       "      <th>pip_list_version</th>\n",
       "      <td>0.2.0</td>\n",
       "      <td>0.2</td>\n",
       "      <td>7.19.0</td>\n",
       "      <td>5.3.4</td>\n",
       "    </tr>\n",
       "    <tr>\n",
       "      <th>conda_list_version</th>\n",
       "      <td>0.2.0</td>\n",
       "      <td>0.2</td>\n",
       "      <td>7.19.0</td>\n",
       "      <td>5.3.4</td>\n",
       "    </tr>\n",
       "    <tr>\n",
       "      <th>conda_list_dist_name</th>\n",
       "      <td>backcall-0.2.0-pyh9f0ad1d_0</td>\n",
       "      <td>wincertstore-0.2-py39hde42818_1005</td>\n",
       "      <td>ipython-7.19.0-py39h832f523_0</td>\n",
       "      <td>ipykernel-5.3.4-py39he1a07ef_1</td>\n",
       "    </tr>\n",
       "    <tr>\n",
       "      <th>conda_list_build_string</th>\n",
       "      <td>pyh9f0ad1d_0</td>\n",
       "      <td>py39hde42818_1005</td>\n",
       "      <td>py39h832f523_0</td>\n",
       "      <td>py39he1a07ef_1</td>\n",
       "    </tr>\n",
       "    <tr>\n",
       "      <th>conda_list_channel</th>\n",
       "      <td>conda-forge</td>\n",
       "      <td>conda-forge</td>\n",
       "      <td>conda-forge</td>\n",
       "      <td>conda-forge</td>\n",
       "    </tr>\n",
       "    <tr>\n",
       "      <th>conda_list_base_url</th>\n",
       "      <td>https://conda.anaconda.org/conda-forge</td>\n",
       "      <td>https://conda.anaconda.org/conda-forge</td>\n",
       "      <td>https://conda.anaconda.org/conda-forge</td>\n",
       "      <td>https://conda.anaconda.org/conda-forge</td>\n",
       "    </tr>\n",
       "    <tr>\n",
       "      <th>conda_list_platform</th>\n",
       "      <td>noarch</td>\n",
       "      <td>win-64</td>\n",
       "      <td>win-64</td>\n",
       "      <td>win-64</td>\n",
       "    </tr>\n",
       "    <tr>\n",
       "      <th>conda_list_build_number</th>\n",
       "      <td>0</td>\n",
       "      <td>1005</td>\n",
       "      <td>0</td>\n",
       "      <td>1</td>\n",
       "    </tr>\n",
       "  </tbody>\n",
       "</table>\n",
       "</div>"
      ],
      "text/plain": [
       "                                                             0   \\\n",
       "pip_list_package                                       backcall   \n",
       "conda_list_name                                        backcall   \n",
       "pip_list_version                                          0.2.0   \n",
       "conda_list_version                                        0.2.0   \n",
       "conda_list_dist_name                backcall-0.2.0-pyh9f0ad1d_0   \n",
       "conda_list_build_string                            pyh9f0ad1d_0   \n",
       "conda_list_channel                                  conda-forge   \n",
       "conda_list_base_url      https://conda.anaconda.org/conda-forge   \n",
       "conda_list_platform                                      noarch   \n",
       "conda_list_build_number                                       0   \n",
       "\n",
       "                                                             20  \\\n",
       "pip_list_package                                   wincertstore   \n",
       "conda_list_name                                    wincertstore   \n",
       "pip_list_version                                            0.2   \n",
       "conda_list_version                                          0.2   \n",
       "conda_list_dist_name         wincertstore-0.2-py39hde42818_1005   \n",
       "conda_list_build_string                       py39hde42818_1005   \n",
       "conda_list_channel                                  conda-forge   \n",
       "conda_list_base_url      https://conda.anaconda.org/conda-forge   \n",
       "conda_list_platform                                      win-64   \n",
       "conda_list_build_number                                    1005   \n",
       "\n",
       "                                                             5   \\\n",
       "pip_list_package                                        ipython   \n",
       "conda_list_name                                         ipython   \n",
       "pip_list_version                                         7.19.0   \n",
       "conda_list_version                                       7.19.0   \n",
       "conda_list_dist_name              ipython-7.19.0-py39h832f523_0   \n",
       "conda_list_build_string                          py39h832f523_0   \n",
       "conda_list_channel                                  conda-forge   \n",
       "conda_list_base_url      https://conda.anaconda.org/conda-forge   \n",
       "conda_list_platform                                      win-64   \n",
       "conda_list_build_number                                       0   \n",
       "\n",
       "                                                             4   \n",
       "pip_list_package                                      ipykernel  \n",
       "conda_list_name                                       ipykernel  \n",
       "pip_list_version                                          5.3.4  \n",
       "conda_list_version                                        5.3.4  \n",
       "conda_list_dist_name             ipykernel-5.3.4-py39he1a07ef_1  \n",
       "conda_list_build_string                          py39he1a07ef_1  \n",
       "conda_list_channel                                  conda-forge  \n",
       "conda_list_base_url      https://conda.anaconda.org/conda-forge  \n",
       "conda_list_platform                                      win-64  \n",
       "conda_list_build_number                                       1  "
      ]
     },
     "execution_count": 35,
     "metadata": {},
     "output_type": "execute_result"
    }
   ],
   "source": [
    "\n",
    "columns_list = ['pip_list_package', 'conda_list_name', 'pip_list_version', 'conda_list_version', 'conda_list_dist_name',\n",
    "                'conda_list_build_string', 'conda_list_channel', 'conda_list_base_url', 'conda_list_platform', 'conda_list_build_number']\n",
    "pip_list_conda_list_df[columns_list].sample(4).T"
   ]
  },
  {
   "cell_type": "code",
   "execution_count": 36,
   "metadata": {},
   "outputs": [],
   "source": [
    "\n",
    "pip_freeze_conda_list_df = pip_freeze_df[pip_freeze_mask_series].merge(conda_list_df[conda_list_mask_series], left_on='pip_freeze_package',\n",
    "                                                                 right_on='conda_list_name')"
   ]
  },
  {
   "cell_type": "code",
   "execution_count": 37,
   "metadata": {},
   "outputs": [
    {
     "data": {
      "text/plain": [
       "['pip_freeze_package', 'pip_freeze_file', 'conda_list_dist_name', 'conda_list_name', 'conda_list_build_string', 'conda_list_channel', 'conda_list_base_url', 'conda_list_platform', 'pip_freeze_version', 'conda_list_version', 'conda_list_build_number']"
      ]
     },
     "execution_count": 37,
     "metadata": {},
     "output_type": "execute_result"
    }
   ],
   "source": [
    "\n",
    "sorted(pip_freeze_conda_list_df.columns, key=lambda x: x[::-1])"
   ]
  },
  {
   "cell_type": "code",
   "execution_count": 39,
   "metadata": {},
   "outputs": [
    {
     "data": {
      "text/html": [
       "<div>\n",
       "<style scoped>\n",
       "    .dataframe tbody tr th:only-of-type {\n",
       "        vertical-align: middle;\n",
       "    }\n",
       "\n",
       "    .dataframe tbody tr th {\n",
       "        vertical-align: top;\n",
       "    }\n",
       "\n",
       "    .dataframe thead th {\n",
       "        text-align: right;\n",
       "    }\n",
       "</style>\n",
       "<table border=\"1\" class=\"dataframe\">\n",
       "  <thead>\n",
       "    <tr style=\"text-align: right;\">\n",
       "      <th></th>\n",
       "      <th>16</th>\n",
       "      <th>19</th>\n",
       "      <th>15</th>\n",
       "    </tr>\n",
       "  </thead>\n",
       "  <tbody>\n",
       "    <tr>\n",
       "      <th>pip_freeze_package</th>\n",
       "      <td>six</td>\n",
       "      <td>wcwidth</td>\n",
       "      <td>pyzmq</td>\n",
       "    </tr>\n",
       "    <tr>\n",
       "      <th>conda_list_name</th>\n",
       "      <td>six</td>\n",
       "      <td>wcwidth</td>\n",
       "      <td>pyzmq</td>\n",
       "    </tr>\n",
       "    <tr>\n",
       "      <th>pip_freeze_version</th>\n",
       "      <td>NaN</td>\n",
       "      <td>NaN</td>\n",
       "      <td>20.0.0</td>\n",
       "    </tr>\n",
       "    <tr>\n",
       "      <th>conda_list_version</th>\n",
       "      <td>1.15.0</td>\n",
       "      <td>0.2.5</td>\n",
       "      <td>20.0.0</td>\n",
       "    </tr>\n",
       "    <tr>\n",
       "      <th>pip_freeze_file</th>\n",
       "      <td>file:///home/conda/feedstock_root/build_artifa...</td>\n",
       "      <td>file:///home/conda/feedstock_root/build_artifa...</td>\n",
       "      <td>NaN</td>\n",
       "    </tr>\n",
       "    <tr>\n",
       "      <th>conda_list_dist_name</th>\n",
       "      <td>six-1.15.0-pyh9f0ad1d_0</td>\n",
       "      <td>wcwidth-0.2.5-pyh9f0ad1d_2</td>\n",
       "      <td>pyzmq-20.0.0-py39h6e08c89_1</td>\n",
       "    </tr>\n",
       "    <tr>\n",
       "      <th>conda_list_build_string</th>\n",
       "      <td>pyh9f0ad1d_0</td>\n",
       "      <td>pyh9f0ad1d_2</td>\n",
       "      <td>py39h6e08c89_1</td>\n",
       "    </tr>\n",
       "    <tr>\n",
       "      <th>conda_list_channel</th>\n",
       "      <td>conda-forge</td>\n",
       "      <td>conda-forge</td>\n",
       "      <td>conda-forge</td>\n",
       "    </tr>\n",
       "    <tr>\n",
       "      <th>conda_list_base_url</th>\n",
       "      <td>https://conda.anaconda.org/conda-forge</td>\n",
       "      <td>https://conda.anaconda.org/conda-forge</td>\n",
       "      <td>https://conda.anaconda.org/conda-forge</td>\n",
       "    </tr>\n",
       "    <tr>\n",
       "      <th>conda_list_platform</th>\n",
       "      <td>noarch</td>\n",
       "      <td>noarch</td>\n",
       "      <td>win-64</td>\n",
       "    </tr>\n",
       "    <tr>\n",
       "      <th>conda_list_build_number</th>\n",
       "      <td>0</td>\n",
       "      <td>2</td>\n",
       "      <td>1</td>\n",
       "    </tr>\n",
       "  </tbody>\n",
       "</table>\n",
       "</div>"
      ],
      "text/plain": [
       "                                                                        16  \\\n",
       "pip_freeze_package                                                     six   \n",
       "conda_list_name                                                        six   \n",
       "pip_freeze_version                                                     NaN   \n",
       "conda_list_version                                                  1.15.0   \n",
       "pip_freeze_file          file:///home/conda/feedstock_root/build_artifa...   \n",
       "conda_list_dist_name                               six-1.15.0-pyh9f0ad1d_0   \n",
       "conda_list_build_string                                       pyh9f0ad1d_0   \n",
       "conda_list_channel                                             conda-forge   \n",
       "conda_list_base_url                 https://conda.anaconda.org/conda-forge   \n",
       "conda_list_platform                                                 noarch   \n",
       "conda_list_build_number                                                  0   \n",
       "\n",
       "                                                                        19  \\\n",
       "pip_freeze_package                                                 wcwidth   \n",
       "conda_list_name                                                    wcwidth   \n",
       "pip_freeze_version                                                     NaN   \n",
       "conda_list_version                                                   0.2.5   \n",
       "pip_freeze_file          file:///home/conda/feedstock_root/build_artifa...   \n",
       "conda_list_dist_name                            wcwidth-0.2.5-pyh9f0ad1d_2   \n",
       "conda_list_build_string                                       pyh9f0ad1d_2   \n",
       "conda_list_channel                                             conda-forge   \n",
       "conda_list_base_url                 https://conda.anaconda.org/conda-forge   \n",
       "conda_list_platform                                                 noarch   \n",
       "conda_list_build_number                                                  2   \n",
       "\n",
       "                                                             15  \n",
       "pip_freeze_package                                        pyzmq  \n",
       "conda_list_name                                           pyzmq  \n",
       "pip_freeze_version                                       20.0.0  \n",
       "conda_list_version                                       20.0.0  \n",
       "pip_freeze_file                                             NaN  \n",
       "conda_list_dist_name                pyzmq-20.0.0-py39h6e08c89_1  \n",
       "conda_list_build_string                          py39h6e08c89_1  \n",
       "conda_list_channel                                  conda-forge  \n",
       "conda_list_base_url      https://conda.anaconda.org/conda-forge  \n",
       "conda_list_platform                                      win-64  \n",
       "conda_list_build_number                                       1  "
      ]
     },
     "execution_count": 39,
     "metadata": {},
     "output_type": "execute_result"
    }
   ],
   "source": [
    "\n",
    "columns_list = ['pip_freeze_package', 'conda_list_name', 'pip_freeze_version', 'conda_list_version', 'pip_freeze_file', 'conda_list_dist_name',\n",
    "                'conda_list_build_string', 'conda_list_channel', 'conda_list_base_url', 'conda_list_platform',\n",
    "                'conda_list_build_number']\n",
    "pip_freeze_conda_list_df[columns_list].sample(3).T"
   ]
  },
  {
   "cell_type": "code",
   "execution_count": 40,
   "metadata": {},
   "outputs": [],
   "source": [
    "\n",
    "merge_df = pip_list_pip_freeze_df.merge(conda_list_df[conda_list_mask_series], left_on='pip_freeze_package',\n",
    "                                        right_on='conda_list_name')"
   ]
  },
  {
   "cell_type": "code",
   "execution_count": 41,
   "metadata": {},
   "outputs": [
    {
     "data": {
      "text/plain": [
       "['pip_freeze_package', 'pip_list_package', 'pip_freeze_file', 'conda_list_dist_name', 'conda_list_name', 'conda_list_build_string', 'conda_list_channel', 'conda_list_base_url', 'conda_list_platform', 'pip_freeze_version', 'conda_list_version', 'pip_list_version', 'conda_list_build_number']"
      ]
     },
     "execution_count": 41,
     "metadata": {},
     "output_type": "execute_result"
    }
   ],
   "source": [
    "\n",
    "sorted(merge_df.columns, key=lambda x: x[::-1])"
   ]
  },
  {
   "cell_type": "code",
   "execution_count": 42,
   "metadata": {},
   "outputs": [
    {
     "data": {
      "text/html": [
       "<div>\n",
       "<style scoped>\n",
       "    .dataframe tbody tr th:only-of-type {\n",
       "        vertical-align: middle;\n",
       "    }\n",
       "\n",
       "    .dataframe tbody tr th {\n",
       "        vertical-align: top;\n",
       "    }\n",
       "\n",
       "    .dataframe thead th {\n",
       "        text-align: right;\n",
       "    }\n",
       "</style>\n",
       "<table border=\"1\" class=\"dataframe\">\n",
       "  <thead>\n",
       "    <tr style=\"text-align: right;\">\n",
       "      <th></th>\n",
       "      <th>5</th>\n",
       "      <th>1</th>\n",
       "      <th>12</th>\n",
       "      <th>9</th>\n",
       "    </tr>\n",
       "  </thead>\n",
       "  <tbody>\n",
       "    <tr>\n",
       "      <th>pip_freeze_package</th>\n",
       "      <td>ipython</td>\n",
       "      <td>certifi</td>\n",
       "      <td>python-dateutil</td>\n",
       "      <td>parso</td>\n",
       "    </tr>\n",
       "    <tr>\n",
       "      <th>pip_list_package</th>\n",
       "      <td>ipython</td>\n",
       "      <td>certifi</td>\n",
       "      <td>python-dateutil</td>\n",
       "      <td>parso</td>\n",
       "    </tr>\n",
       "    <tr>\n",
       "      <th>conda_list_name</th>\n",
       "      <td>ipython</td>\n",
       "      <td>certifi</td>\n",
       "      <td>python-dateutil</td>\n",
       "      <td>parso</td>\n",
       "    </tr>\n",
       "    <tr>\n",
       "      <th>pip_freeze_version</th>\n",
       "      <td>NaN</td>\n",
       "      <td>2020.11.8</td>\n",
       "      <td>2.8.1</td>\n",
       "      <td>NaN</td>\n",
       "    </tr>\n",
       "    <tr>\n",
       "      <th>pip_list_version</th>\n",
       "      <td>7.19.0</td>\n",
       "      <td>2020.11.8</td>\n",
       "      <td>2.8.1</td>\n",
       "      <td>0.7.1</td>\n",
       "    </tr>\n",
       "    <tr>\n",
       "      <th>conda_list_version</th>\n",
       "      <td>7.19.0</td>\n",
       "      <td>2020.11.8</td>\n",
       "      <td>2.8.1</td>\n",
       "      <td>0.7.1</td>\n",
       "    </tr>\n",
       "    <tr>\n",
       "      <th>pip_freeze_file</th>\n",
       "      <td>file:///D:/bld/ipython_1604159803912/work</td>\n",
       "      <td>NaN</td>\n",
       "      <td>NaN</td>\n",
       "      <td>file:///home/conda/feedstock_root/build_artifa...</td>\n",
       "    </tr>\n",
       "    <tr>\n",
       "      <th>conda_list_dist_name</th>\n",
       "      <td>ipython-7.19.0-py39h832f523_0</td>\n",
       "      <td>certifi-2020.11.8-py39hcbf5309_0</td>\n",
       "      <td>python-dateutil-2.8.1-py_0</td>\n",
       "      <td>parso-0.7.1-pyh9f0ad1d_0</td>\n",
       "    </tr>\n",
       "    <tr>\n",
       "      <th>conda_list_build_string</th>\n",
       "      <td>py39h832f523_0</td>\n",
       "      <td>py39hcbf5309_0</td>\n",
       "      <td>py_0</td>\n",
       "      <td>pyh9f0ad1d_0</td>\n",
       "    </tr>\n",
       "    <tr>\n",
       "      <th>conda_list_channel</th>\n",
       "      <td>conda-forge</td>\n",
       "      <td>conda-forge</td>\n",
       "      <td>conda-forge</td>\n",
       "      <td>conda-forge</td>\n",
       "    </tr>\n",
       "    <tr>\n",
       "      <th>conda_list_base_url</th>\n",
       "      <td>https://conda.anaconda.org/conda-forge</td>\n",
       "      <td>https://conda.anaconda.org/conda-forge</td>\n",
       "      <td>https://conda.anaconda.org/conda-forge</td>\n",
       "      <td>https://conda.anaconda.org/conda-forge</td>\n",
       "    </tr>\n",
       "    <tr>\n",
       "      <th>conda_list_platform</th>\n",
       "      <td>win-64</td>\n",
       "      <td>win-64</td>\n",
       "      <td>noarch</td>\n",
       "      <td>noarch</td>\n",
       "    </tr>\n",
       "    <tr>\n",
       "      <th>conda_list_build_number</th>\n",
       "      <td>0</td>\n",
       "      <td>0</td>\n",
       "      <td>0</td>\n",
       "      <td>0</td>\n",
       "    </tr>\n",
       "  </tbody>\n",
       "</table>\n",
       "</div>"
      ],
      "text/plain": [
       "                                                                5   \\\n",
       "pip_freeze_package                                         ipython   \n",
       "pip_list_package                                           ipython   \n",
       "conda_list_name                                            ipython   \n",
       "pip_freeze_version                                             NaN   \n",
       "pip_list_version                                            7.19.0   \n",
       "conda_list_version                                          7.19.0   \n",
       "pip_freeze_file          file:///D:/bld/ipython_1604159803912/work   \n",
       "conda_list_dist_name                 ipython-7.19.0-py39h832f523_0   \n",
       "conda_list_build_string                             py39h832f523_0   \n",
       "conda_list_channel                                     conda-forge   \n",
       "conda_list_base_url         https://conda.anaconda.org/conda-forge   \n",
       "conda_list_platform                                         win-64   \n",
       "conda_list_build_number                                          0   \n",
       "\n",
       "                                                             1   \\\n",
       "pip_freeze_package                                      certifi   \n",
       "pip_list_package                                        certifi   \n",
       "conda_list_name                                         certifi   \n",
       "pip_freeze_version                                    2020.11.8   \n",
       "pip_list_version                                      2020.11.8   \n",
       "conda_list_version                                    2020.11.8   \n",
       "pip_freeze_file                                             NaN   \n",
       "conda_list_dist_name           certifi-2020.11.8-py39hcbf5309_0   \n",
       "conda_list_build_string                          py39hcbf5309_0   \n",
       "conda_list_channel                                  conda-forge   \n",
       "conda_list_base_url      https://conda.anaconda.org/conda-forge   \n",
       "conda_list_platform                                      win-64   \n",
       "conda_list_build_number                                       0   \n",
       "\n",
       "                                                             12  \\\n",
       "pip_freeze_package                              python-dateutil   \n",
       "pip_list_package                                python-dateutil   \n",
       "conda_list_name                                 python-dateutil   \n",
       "pip_freeze_version                                        2.8.1   \n",
       "pip_list_version                                          2.8.1   \n",
       "conda_list_version                                        2.8.1   \n",
       "pip_freeze_file                                             NaN   \n",
       "conda_list_dist_name                 python-dateutil-2.8.1-py_0   \n",
       "conda_list_build_string                                    py_0   \n",
       "conda_list_channel                                  conda-forge   \n",
       "conda_list_base_url      https://conda.anaconda.org/conda-forge   \n",
       "conda_list_platform                                      noarch   \n",
       "conda_list_build_number                                       0   \n",
       "\n",
       "                                                                        9   \n",
       "pip_freeze_package                                                   parso  \n",
       "pip_list_package                                                     parso  \n",
       "conda_list_name                                                      parso  \n",
       "pip_freeze_version                                                     NaN  \n",
       "pip_list_version                                                     0.7.1  \n",
       "conda_list_version                                                   0.7.1  \n",
       "pip_freeze_file          file:///home/conda/feedstock_root/build_artifa...  \n",
       "conda_list_dist_name                              parso-0.7.1-pyh9f0ad1d_0  \n",
       "conda_list_build_string                                       pyh9f0ad1d_0  \n",
       "conda_list_channel                                             conda-forge  \n",
       "conda_list_base_url                 https://conda.anaconda.org/conda-forge  \n",
       "conda_list_platform                                                 noarch  \n",
       "conda_list_build_number                                                  0  "
      ]
     },
     "execution_count": 42,
     "metadata": {},
     "output_type": "execute_result"
    }
   ],
   "source": [
    "\n",
    "columns_list = ['pip_freeze_package', 'pip_list_package', 'conda_list_name', 'pip_freeze_version', 'pip_list_version', 'conda_list_version',\n",
    "                'pip_freeze_file', 'conda_list_dist_name', 'conda_list_build_string', 'conda_list_channel', 'conda_list_base_url',\n",
    "                'conda_list_platform', 'conda_list_build_number']\n",
    "merge_df[columns_list].sample(4).T"
   ]
  },
  {
   "cell_type": "code",
   "execution_count": 43,
   "metadata": {},
   "outputs": [],
   "source": [
    "\n",
    "from collections import Counter\n",
    "\n",
    "merge_df['package_name'] = np.nan\n",
    "merge_df['package_version'] = np.nan\n",
    "for row_index, row_series in merge_df.iterrows():\n",
    "    pip_freeze_package = row_series.pip_freeze_package\n",
    "    pip_list_package = row_series.pip_list_package\n",
    "    conda_list_name = row_series.conda_list_name\n",
    "    majority = Counter([pip_freeze_package, pip_list_package, conda_list_name]).most_common()[0][0]\n",
    "    merge_df.loc[row_index, 'package_name'] = majority\n",
    "    \n",
    "    pip_freeze_version = row_series.pip_freeze_version\n",
    "    pip_list_version = row_series.pip_list_version\n",
    "    conda_list_version = row_series.conda_list_version\n",
    "    majority = Counter([pip_freeze_version, pip_list_version, conda_list_version]).most_common()[0][0]\n",
    "    merge_df.loc[row_index, 'package_version'] = majority"
   ]
  },
  {
   "cell_type": "code",
   "execution_count": 44,
   "metadata": {},
   "outputs": [
    {
     "data": {
      "text/html": [
       "<div>\n",
       "<style scoped>\n",
       "    .dataframe tbody tr th:only-of-type {\n",
       "        vertical-align: middle;\n",
       "    }\n",
       "\n",
       "    .dataframe tbody tr th {\n",
       "        vertical-align: top;\n",
       "    }\n",
       "\n",
       "    .dataframe thead th {\n",
       "        text-align: right;\n",
       "    }\n",
       "</style>\n",
       "<table border=\"1\" class=\"dataframe\">\n",
       "  <thead>\n",
       "    <tr style=\"text-align: right;\">\n",
       "      <th></th>\n",
       "      <th>17</th>\n",
       "      <th>18</th>\n",
       "      <th>0</th>\n",
       "    </tr>\n",
       "  </thead>\n",
       "  <tbody>\n",
       "    <tr>\n",
       "      <th>package_name</th>\n",
       "      <td>tornado</td>\n",
       "      <td>traitlets</td>\n",
       "      <td>backcall</td>\n",
       "    </tr>\n",
       "    <tr>\n",
       "      <th>package_version</th>\n",
       "      <td>6.1</td>\n",
       "      <td>5.0.5</td>\n",
       "      <td>0.2.0</td>\n",
       "    </tr>\n",
       "    <tr>\n",
       "      <th>pip_freeze_file</th>\n",
       "      <td>file:///D:/bld/tornado_1604105205494/work</td>\n",
       "      <td>file:///home/conda/feedstock_root/build_artifa...</td>\n",
       "      <td>file:///home/conda/feedstock_root/build_artifa...</td>\n",
       "    </tr>\n",
       "    <tr>\n",
       "      <th>conda_list_dist_name</th>\n",
       "      <td>tornado-6.1-py39hb82d6ee_0</td>\n",
       "      <td>traitlets-5.0.5-py_0</td>\n",
       "      <td>backcall-0.2.0-pyh9f0ad1d_0</td>\n",
       "    </tr>\n",
       "    <tr>\n",
       "      <th>conda_list_build_string</th>\n",
       "      <td>py39hb82d6ee_0</td>\n",
       "      <td>py_0</td>\n",
       "      <td>pyh9f0ad1d_0</td>\n",
       "    </tr>\n",
       "    <tr>\n",
       "      <th>conda_list_channel</th>\n",
       "      <td>conda-forge</td>\n",
       "      <td>conda-forge</td>\n",
       "      <td>conda-forge</td>\n",
       "    </tr>\n",
       "    <tr>\n",
       "      <th>conda_list_base_url</th>\n",
       "      <td>https://conda.anaconda.org/conda-forge</td>\n",
       "      <td>https://conda.anaconda.org/conda-forge</td>\n",
       "      <td>https://conda.anaconda.org/conda-forge</td>\n",
       "    </tr>\n",
       "    <tr>\n",
       "      <th>conda_list_platform</th>\n",
       "      <td>win-64</td>\n",
       "      <td>noarch</td>\n",
       "      <td>noarch</td>\n",
       "    </tr>\n",
       "    <tr>\n",
       "      <th>conda_list_build_number</th>\n",
       "      <td>0</td>\n",
       "      <td>0</td>\n",
       "      <td>0</td>\n",
       "    </tr>\n",
       "  </tbody>\n",
       "</table>\n",
       "</div>"
      ],
      "text/plain": [
       "                                                                17  \\\n",
       "package_name                                               tornado   \n",
       "package_version                                                6.1   \n",
       "pip_freeze_file          file:///D:/bld/tornado_1604105205494/work   \n",
       "conda_list_dist_name                    tornado-6.1-py39hb82d6ee_0   \n",
       "conda_list_build_string                             py39hb82d6ee_0   \n",
       "conda_list_channel                                     conda-forge   \n",
       "conda_list_base_url         https://conda.anaconda.org/conda-forge   \n",
       "conda_list_platform                                         win-64   \n",
       "conda_list_build_number                                          0   \n",
       "\n",
       "                                                                        18  \\\n",
       "package_name                                                     traitlets   \n",
       "package_version                                                      5.0.5   \n",
       "pip_freeze_file          file:///home/conda/feedstock_root/build_artifa...   \n",
       "conda_list_dist_name                                  traitlets-5.0.5-py_0   \n",
       "conda_list_build_string                                               py_0   \n",
       "conda_list_channel                                             conda-forge   \n",
       "conda_list_base_url                 https://conda.anaconda.org/conda-forge   \n",
       "conda_list_platform                                                 noarch   \n",
       "conda_list_build_number                                                  0   \n",
       "\n",
       "                                                                        0   \n",
       "package_name                                                      backcall  \n",
       "package_version                                                      0.2.0  \n",
       "pip_freeze_file          file:///home/conda/feedstock_root/build_artifa...  \n",
       "conda_list_dist_name                           backcall-0.2.0-pyh9f0ad1d_0  \n",
       "conda_list_build_string                                       pyh9f0ad1d_0  \n",
       "conda_list_channel                                             conda-forge  \n",
       "conda_list_base_url                 https://conda.anaconda.org/conda-forge  \n",
       "conda_list_platform                                                 noarch  \n",
       "conda_list_build_number                                                  0  "
      ]
     },
     "execution_count": 44,
     "metadata": {},
     "output_type": "execute_result"
    }
   ],
   "source": [
    "\n",
    "columns_list = ['package_name', 'package_version', 'pip_freeze_file', 'conda_list_dist_name', 'conda_list_build_string', 'conda_list_channel',\n",
    "                'conda_list_base_url', 'conda_list_platform', 'conda_list_build_number']\n",
    "merge_df[columns_list].sample(3).T"
   ]
  },
  {
   "cell_type": "code",
   "execution_count": 45,
   "metadata": {},
   "outputs": [
    {
     "name": "stdout",
     "output_type": "stream",
     "text": [
      "['s.attempt_to_pickle', 's.data_csv_folder', 's.data_folder', 's.encoding_type', 's.load_csv', 's.load_dataframes', 's.load_object', 's.save_dataframes', 's.saves_csv_folder', 's.saves_folder', 's.saves_pickle_folder', 's.store_objects']\n"
     ]
    }
   ],
   "source": [
    "\n",
    "%run ../../load_magic/storage.py\n",
    "s = Storage()\n",
    "print(['s.{}'.format(fn) for fn in dir(s) if not fn.startswith('_')])"
   ]
  },
  {
   "cell_type": "code",
   "execution_count": 46,
   "metadata": {},
   "outputs": [
    {
     "name": "stdout",
     "output_type": "stream",
     "text": [
      "Pickling to C:\\Users\\dev\\Documents\\repositories\\notebooks\\rpc\\saves\\pickle\\jh_packages_df.pickle\n"
     ]
    }
   ],
   "source": [
    "\n",
    "s.store_objects(jh_packages_df=merge_df)"
   ]
  },
  {
   "cell_type": "code",
   "execution_count": 47,
   "metadata": {},
   "outputs": [],
   "source": [
    "\n",
    "jh_packages_df = s.load_object('jh_packages_df')\n",
    "mask_series = jh_packages_df.pip_freeze_file.isnull()"
   ]
  },
  {
   "cell_type": "code",
   "execution_count": 48,
   "metadata": {},
   "outputs": [
    {
     "data": {
      "text/plain": [
       "array(['conda-forge'], dtype=object)"
      ]
     },
     "execution_count": 48,
     "metadata": {},
     "output_type": "execute_result"
    }
   ],
   "source": [
    "\n",
    "jh_packages_df[~mask_series].conda_list_channel.unique()"
   ]
  },
  {
   "cell_type": "code",
   "execution_count": 49,
   "metadata": {},
   "outputs": [
    {
     "data": {
      "text/plain": [
       "array(['noarch', 'win-64'], dtype=object)"
      ]
     },
     "execution_count": 49,
     "metadata": {},
     "output_type": "execute_result"
    }
   ],
   "source": [
    "\n",
    "jh_packages_df[~mask_series].conda_list_platform.unique()"
   ]
  },
  {
   "cell_type": "code",
   "execution_count": 50,
   "metadata": {},
   "outputs": [
    {
     "data": {
      "text/plain": [
       "['work', 'nan', 'ipykernel-5.3.4-py3-none-any.whl']"
      ]
     },
     "execution_count": 50,
     "metadata": {},
     "output_type": "execute_result"
    }
   ],
   "source": [
    "\n",
    "jh_packages_df.pip_freeze_file.map(lambda x: str(x).split('/')[-1]).unique().tolist()"
   ]
  },
  {
   "cell_type": "markdown",
   "metadata": {},
   "source": [
    "\n",
    "----"
   ]
  },
  {
   "cell_type": "code",
   "execution_count": 51,
   "metadata": {},
   "outputs": [
    {
     "name": "stdout",
     "output_type": "stream",
     "text": [
      "name: jh\n",
      "channels:\n",
      "  - conda-forge\n",
      "  - defaults\n",
      "dependencies:\n",
      "  - backcall\n",
      "  - certifi\n",
      "  - colorama\n",
      "  - decorator\n",
      "  - ipykernel\n",
      "  - ipython\n",
      "  - jedi\n",
      "  - numpy\n",
      "  - pandas\n",
      "  - parso\n",
      "  - pickleshare\n",
      "  - prompt-toolkit\n",
      "  - python-dateutil\n",
      "  - pytz\n",
      "  - pywin32\n",
      "  - pyzmq\n",
      "  - six\n",
      "  - tornado\n",
      "  - traitlets\n",
      "  - wcwidth\n",
      "  - wincertstore\n"
     ]
    }
   ],
   "source": [
    "\n",
    "prefix_str = \"\"\"name: jh\n",
    "channels:\n",
    "  - conda-forge\n",
    "  - defaults\n",
    "dependencies:\n",
    "  - \"\"\"\n",
    "infix_str = \"\"\"\n",
    "  - \"\"\"\n",
    "print(prefix_str + infix_str.join(jh_packages_df.package_name.tolist()))"
   ]
  },
  {
   "cell_type": "code",
   "execution_count": 52,
   "metadata": {},
   "outputs": [
    {
     "name": "stdout",
     "output_type": "stream",
     "text": [
      "name: jh\n",
      "channels:\n",
      "  - conda-forge\n",
      "  - defaults\n",
      "dependencies:\n",
      "  - Pygments\n",
      "  - backcall\n",
      "  - backports\n",
      "  - backports.functools-lru-cache\n",
      "  - backports.functools_lru_cache\n",
      "  - ca-certificates\n",
      "  - certifi\n",
      "  - colorama\n",
      "  - decorator\n",
      "  - intel-openmp\n",
      "  - ipykernel\n",
      "  - ipython\n",
      "  - ipython-genutils\n",
      "  - ipython_genutils\n",
      "  - jedi\n",
      "  - jupyter-client\n",
      "  - jupyter-core\n",
      "  - jupyter_client\n",
      "  - jupyter_core\n",
      "  - libblas\n",
      "  - libcblas\n",
      "  - liblapack\n",
      "  - libsodium\n",
      "  - m2w64-gcc-libgfortran\n",
      "  - m2w64-gcc-libs\n",
      "  - m2w64-gcc-libs-core\n",
      "  - m2w64-gmp\n",
      "  - m2w64-libwinpthread-git\n",
      "  - mkl\n",
      "  - msys2-conda-epoch\n",
      "  - numpy\n",
      "  - openssl\n",
      "  - pandas\n",
      "  - parso\n",
      "  - pickleshare\n",
      "  - pip\n",
      "  - prompt-toolkit\n",
      "  - pygments\n",
      "  - python\n",
      "  - python-dateutil\n",
      "  - python_abi\n",
      "  - pytz\n",
      "  - pywin32\n",
      "  - pyzmq\n",
      "  - setuptools\n",
      "  - six\n",
      "  - sqlite\n",
      "  - tornado\n",
      "  - traitlets\n",
      "  - tzdata\n",
      "  - vc\n",
      "  - vs2015_runtime\n",
      "  - wcwidth\n",
      "  - wheel\n",
      "  - wincertstore\n",
      "  - zeromq\n"
     ]
    }
   ],
   "source": [
    "\n",
    "# This one is very close to the output of\n",
    "# conda env export --name $EnvironmentName -f tmp_environment.yml\n",
    "pip_list_set = set(pip_list_df.pip_list_package.tolist())\n",
    "pip_freeze_set = set(pip_freeze_df.pip_freeze_package.tolist())\n",
    "conda_list_set = set(conda_list_df.conda_list_name.tolist())\n",
    "package_name_set = pip_list_set.union(pip_freeze_set).union(conda_list_set)\n",
    "print(prefix_str + infix_str.join(sorted(package_name_set)))"
   ]
  },
  {
   "cell_type": "code",
   "execution_count": null,
   "metadata": {},
   "outputs": [],
   "source": [
    "\n",
    "pip_prefix = \"\"\"\n",
    "  - pip:\n",
    "    - \"\"\"\n",
    "pip_infix = \"\"\"\n",
    "    - \"\"\"\n",
    "resolve_package_not_found_set = set(['ipython-genutils', 'backports.functools-lru-cache', 'jupyter-client', 'jupyter-core'])\n",
    "print(sorted(resolve_package_not_found_set))"
   ]
  },
  {
   "cell_type": "code",
   "execution_count": null,
   "metadata": {},
   "outputs": [],
   "source": [
    "\n",
    "resolve_package_not_found_list = ['backports.functools-lru-cache', 'ipython-genutils', 'jupyter-client', 'jupyter-core']\n",
    "mask_series = jh_packages_df.package_name.isin(resolve_package_not_found_list)"
   ]
  },
  {
   "cell_type": "code",
   "execution_count": null,
   "metadata": {},
   "outputs": [],
   "source": [
    "\n",
    "jh_packages_df[mask_series].T"
   ]
  },
  {
   "cell_type": "markdown",
   "metadata": {},
   "source": [
    "\n",
    "----"
   ]
  },
  {
   "cell_type": "code",
   "execution_count": null,
   "metadata": {},
   "outputs": [],
   "source": [
    "\n",
    "from win32com.client import Dispatch\n",
    "#import semantic_version\n",
    "\n",
    "def get_exe_major_version(file_path=r'C:\\Program Files (x86)\\Google\\Chrome\\Application\\chrome.exe'):\n",
    "    version_num = 0\n",
    "    try:\n",
    "        parser = Dispatch('Scripting.FileSystemObject')\n",
    "        version_str = parser.GetFileVersion(file_path)\n",
    "        if version_str != '':\n",
    "            version_num = int(version_str.split('.')[0])\n",
    "            #v = semantic_version.Version(version_str)\n",
    "    except Exception as e:\n",
    "        print(f'Error getting exe version on \"{version_str}\": {str(e).strip()}')\n",
    "    \n",
    "    return version_num"
   ]
  },
  {
   "cell_type": "code",
   "execution_count": null,
   "metadata": {},
   "outputs": [],
   "source": [
    "\n",
    "get_exe_major_version()"
   ]
  },
  {
   "cell_type": "code",
   "execution_count": null,
   "metadata": {},
   "outputs": [],
   "source": [
    "\n",
    "get_exe_major_version(r'C:\\Program Files (x86)\\Common Files\\Apple\\Internet Services\\AppleChromeDAV.exe')"
   ]
  },
  {
   "cell_type": "code",
   "execution_count": null,
   "metadata": {},
   "outputs": [],
   "source": [
    "\n",
    "import os\n",
    "\n",
    "count = 10\n",
    "for root_dir in ['C:\\\\', 'E:\\\\']:\n",
    "    if count < 1:\n",
    "        break\n",
    "    for sub_directory, directories_list, files_list in os.walk(root_dir):\n",
    "        if count < 1:\n",
    "            break\n",
    "        for file_name in files_list:\n",
    "            if count < 1:\n",
    "                break\n",
    "            if file_name.endswith('.exe'):\n",
    "                file_path = os.path.join(sub_directory, file_name)\n",
    "                version_num = get_exe_major_version(file_path)\n",
    "                if version_num != 0:\n",
    "                    print(f'The major version of {file_name} is {version_num}')\n",
    "                    count -= 1"
   ]
  },
  {
   "cell_type": "code",
   "execution_count": null,
   "metadata": {},
   "outputs": [],
   "source": []
  }
 ],
 "metadata": {
  "kernelspec": {
   "display_name": "Python 3",
   "language": "python",
   "name": "python3"
  },
  "language_info": {
   "codemirror_mode": {
    "name": "ipython",
    "version": 3
   },
   "file_extension": ".py",
   "mimetype": "text/x-python",
   "name": "python",
   "nbconvert_exporter": "python",
   "pygments_lexer": "ipython3",
   "version": "3.7.8"
  }
 },
 "nbformat": 4,
 "nbformat_minor": 4
}
