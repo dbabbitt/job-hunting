{
 "cells": [
  {
   "cell_type": "code",
   "execution_count": 1,
   "id": "338f073a-a9b7-4995-98cc-49bc0f15281b",
   "metadata": {},
   "outputs": [
    {
     "name": "stdout",
     "output_type": "stream",
     "text": [
      "Pretty printing has been turned OFF\n"
     ]
    }
   ],
   "source": [
    "\n",
    "%pprint"
   ]
  },
  {
   "cell_type": "markdown",
   "id": "731bccc4-9a23-46ea-9efe-aa414ac68978",
   "metadata": {
    "tags": []
   },
   "source": [
    "\n",
    "---\n",
    "# Load needed libraries and functions"
   ]
  },
  {
   "cell_type": "code",
   "execution_count": 2,
   "id": "1179501a-ca8c-434f-9e8a-a8273c9684e6",
   "metadata": {},
   "outputs": [],
   "source": [
    "\n",
    "%matplotlib inline\n",
    "from datetime import datetime\n",
    "from pandas import DataFrame\n",
    "import humanize\n",
    "import os\n",
    "import sys\n",
    "import time\n",
    "import warnings\n",
    "import winsound\n",
    "\n",
    "warnings.filterwarnings('ignore')\n",
    "duration = 1000  # milliseconds\n",
    "freq = 880  # Hz\n",
    "\n",
    "# Insert at 1, 0 is the script path (or '' in REPL)\n",
    "sys.path.insert(1, '../py')"
   ]
  },
  {
   "cell_type": "code",
   "execution_count": 3,
   "id": "35fb9df8-ec3a-4a00-9cc8-43ef807a5514",
   "metadata": {},
   "outputs": [],
   "source": [
    "\n",
    "# Get the Neo4j driver\n",
    "from storage import Storage\n",
    "s = Storage(\n",
    "    data_folder_path=os.path.abspath('../data'),\n",
    "    saves_folder_path=os.path.abspath('../saves')\n",
    ")\n",
    "\n",
    "from ha_utils import HeaderAnalysis\n",
    "ha = HeaderAnalysis(s=s, verbose=False)\n",
    "\n",
    "from scrape_utils import WebScrapingUtilities\n",
    "wsu = WebScrapingUtilities(\n",
    "    s=s,\n",
    "    secrets_json_path=os.path.abspath('../data/secrets/jh_secrets.json')\n",
    ")\n",
    "uri = wsu.secrets_json['neo4j']['connect_url']\n",
    "user =  wsu.secrets_json['neo4j']['username']\n",
    "password = wsu.secrets_json['neo4j']['password']\n",
    "\n",
    "# Get the neo4j object\n",
    "from cypher_utils import CypherUtilities\n",
    "cu = CypherUtilities(\n",
    "    uri=uri, user=user, password=password, driver=None, s=s, ha=ha\n",
    ")"
   ]
  },
  {
   "cell_type": "markdown",
   "id": "7fd1d3b2-cfab-4ac2-bcaa-2b37f391c091",
   "metadata": {},
   "source": [
    "\n",
    "---\n",
    "# Tabulate Job Hunting Progress"
   ]
  },
  {
   "cell_type": "code",
   "execution_count": 16,
   "id": "7245f114-b6dd-4a8d-92ed-ecccb2408e32",
   "metadata": {},
   "outputs": [
    {
     "data": {
      "text/plain": [
       "{1: {'opportunity_application_email_date': neo4j.time.Date(2023, 3, 13), 'file_name': '1fea112bf6198419_Data_Scientist_Chicago_IL_Indeed_com.html', 'posting_url': 'https://www.indeed.com/rc/clk/dl?jk=1fea112bf6198419&from=ja&qd=RnZhMybXSk4M3QtTVGXWocPDA-jVn_f73KUcK2QrGXxWzxuTTZnceBTcgT1wk7VUhH6vRsR2kLpXgXBggkmABvNDuymhiEN80F4AmgvDj8k&rd=Xz_BPd8uwD7p5SZJpoZayl_MKnaSAFGAsD6kfERFt3g&tk=1grb91v2e2sr5001&alid=63b02dca1ef86228dd5d5128'}, 2: {'opportunity_application_email_date': neo4j.time.Date(2023, 3, 13), 'file_name': '8fc0ed7481ff426b_Data_Scientist_Gainesville_FL_Indeed_com.html', 'posting_url': 'https://www.indeed.com/rc/clk/dl?jk=8fc0ed7481ff426b&from=ja&qd=RnZhMybXSk4M3QtTVGXWocPDA-jVn_f73KUcK2QrGXzsP3Tt6Lw41Z1c6_ojf6PopcJcD0BHPEiWCwntHyTAx2T7g2ScrVXuQZy7QCMpQh4&rd=Xwq-0IM72XK4fIJ12CGj5l_MKnaSAFGAsD6kfERFt3g&tk=1grg51gnskmao800&alid=63b02dca1ef86228dd5d5128'}, 3: {'opportunity_application_email_date': neo4j.time.Date(2023, 3, 13), 'file_name': '8eda6f13ecba3a8c_Senior_Associate_Manager_Digital_Tax_Services_Washington_DC_20005_Indeed_com.html', 'posting_url': 'https://www.indeed.com/rc/clk/dl?jk=8eda6f13ecba3a8c&from=ja&qd=RnZhMybXSk4M3QtTVGXWocPDA-jVn_f73KUcK2QrGXzsP3Tt6Lw41Z1c6_ojf6PoxPC-I7syoIeeXasMvscIgTtq_Qt9NhIhXCEhrxeOvb8&rd=BJMmApqLf7EDBTY5CIqAvHEwqdD0vnOb9P51Phyha6c&tk=1gro30f5a3d7o001&alid=63b02dca1ef86228dd5d5128'}, 4: {'opportunity_application_email_date': neo4j.time.Date(2023, 3, 14), 'file_name': 'ef85fd28f17140bf_Solution_Architect_Remote_Indeed_com.html', 'posting_url': 'https://www.indeed.com/rc/clk/dl?jk=ef85fd28f17140bf&from=ja&qd=RnZhMybXSk4M3QtTVGXWoZj-R_bxcYib5xeGNtZ7GZaMIp_zoYiMkxyg2YVUKZer3kBd2yifcdDNAikY5JrPkSOz98z-IzBnGeF8iB342Ec&rd=PLYMYb3NPY-NtO_FVns-Ex1nad7mHeJIvvNS1DT4gjQ&tk=1grp6je97gv1u802&alid=6254377b33b425113af40aa2'}, 5: {'opportunity_application_email_date': neo4j.time.Date(2023, 3, 14), 'file_name': '606d2d46ae234274_Data_Support_Analyst_II_Data_Integrity_Analyst_Buffalo_NY_Indeed_com.html', 'posting_url': 'https://www.indeed.com/rc/clk/dl?jk=606d2d46ae234274&from=ja&qd=RnZhMybXSk4M3QtTVGXWocPDA-jVn_f73KUcK2QrGXzsP3Tt6Lw41Z1c6_ojf6PolbBw3JObX-n9B-1Ce-EC1BBNkL7FDf6Dv3Xhgtfvzno&rd=1eyjXRAKUs0KjNcAnQ-URK0iUsIn_91tuBORm3KY9sQ&tk=1grqn98h33d7o000&alid=63b02dca1ef86228dd5d5128'}, 6: {'opportunity_application_email_date': neo4j.time.Date(2023, 3, 14), 'file_name': 'b48930fd74b1efc6_Data_Scientist_Atlanta_GA_Indeed_com.html', 'posting_url': 'https://www.indeed.com/rc/clk/dl?jk=b48930fd74b1efc6&from=ja&qd=RnZhMybXSk4M3QtTVGXWocPDA-jVn_f73KUcK2QrGXzsP3Tt6Lw41Z1c6_ojf6PopcJcD0BHPEiWCwntHyTAx2T7g2ScrVXuQZy7QCMpQh4&rd=AbLHrm6GRQMtYBMzyEs2L1_MKnaSAFGAsD6kfERFt3g&tk=1grg51gnskmao800&alid=63b02dca1ef86228dd5d5128'}, 7: {'opportunity_application_email_date': neo4j.time.Date(2023, 3, 14), 'file_name': 'c6d502089d0e355f_Senior_Data_Engineer_Los_Angeles_CA_Indeed_com.html', 'posting_url': 'https://www.indeed.com/rc/clk/dl?jk=c6d502089d0e355f&from=ja&qd=RnZhMybXSk4M3QtTVGXWocPDA-jVn_f73KUcK2QrGXzsP3Tt6Lw41Z1c6_ojf6PopcJcD0BHPEiWCwntHyTAx2T7g2ScrVXuQZy7QCMpQh4&rd=gy7MCxDMWln4LWQRywCz51_MKnaSAFGAsD6kfERFt3g&tk=1grg51gnskmao800&alid=63b02dca1ef86228dd5d5128'}, 8: {'opportunity_application_email_date': neo4j.time.Date(2023, 3, 14), 'file_name': '45f12a567ef8cc10_Data_Scientist_Remote_Remote_Indeed_com.html', 'posting_url': 'https://www.indeed.com/rc/clk/dl?jk=45f12a567ef8cc10&from=ja&qd=RnZhMybXSk4M3QtTVGXWocPDA-jVn_f73KUcK2QrGXzsP3Tt6Lw41Z1c6_ojf6PolbBw3JObX-n9B-1Ce-EC1BBNkL7FDf6Dv3Xhgtfvzno&rd=QTGg-Mq2waWxmLtuQ4qbP1_MKnaSAFGAsD6kfERFt3g&tk=1grqn98h33d7o000&alid=63b02dca1ef86228dd5d5128'}, 9: {'opportunity_application_email_date': neo4j.time.Date(2023, 3, 16), 'file_name': 'fc48b76d6849bb2f_Senior_QA_Analyst_Remote_Indeed_com.html', 'posting_url': 'https://www.indeed.com/rc/clk/dl?jk=fc48b76d6849bb2f&from=ja&qd=RnZhMybXSk4M3QtTVGXWofXa_863hzyu1-CtxUSUXCcK1qwBGpReifId-nFGVhPQnXo5M5vETGkkuPzGkOk6lpiWK84iZ7NF2ScWniAdMLw&rd=AbLHrm6GRQMtYBMzyEs2L1_MKnaSAFGAsD6kfERFt3g&tk=1grjrjm9723tg000&alid=62cdb0067c78606171e5793c'}, 10: {'opportunity_application_email_date': neo4j.time.Date(2023, 3, 16), 'file_name': '9772f70e3d9f27cd_Python_Web_Developer_Remote_Indeed_com.html', 'posting_url': 'https://www.indeed.com/rc/clk/dl?jk=9772f70e3d9f27cd&from=ja&qd=RnZhMybXSk4M3QtTVGXWofXa_863hzyu1-CtxUSUXCcK1qwBGpReifId-nFGVhPQnXo5M5vETGkkuPzGkOk6lpiWK84iZ7NF2ScWniAdMLw&rd=GxRrtYVpv3SWf84CvIKim3pHiNhXzRhj_cnpiDh5URU&tk=1grjrjm9723tg000&alid=62cdb0067c78606171e5793c'}, 11: {'opportunity_application_email_date': neo4j.time.Date(2023, 3, 17), 'file_name': 'xboZ0mak_ha_mEjhQhya2w_Sr_Data_Scientist_UKG_Lowell_MA_On_site.html', 'posting_url': 'https://www.linkedin.com/comm/jobs/view/3489116537?alertAction=markasviewed&savedSearchId=1733565243&refId=3c64b391-178c-4374-9af6-eb53e67441fb&trackingId=xboZ0mak%2Fha%2FmEjhQhya2w%3D%3D&midToken=AQGMOUshomUHaw&midSig=2Kb7Uu_X_X0qI1&trk=eml-email_job_alert_confirmation_01-job_alert-4-member_details_mercado&trkEmail=eml-email_job_alert_confirmation_01-job_alert-4-member_details_mercado-null-31gqm%7Elfcmm53e%7Ee1-null-jobs%7Eview&lipi=urn%3Ali%3Apage%3Aemail_email_job_alert_confirmation_01%3BBenpSVXwTUueh2eBXNqsPw%3D%3D'}, 12: {'opportunity_application_email_date': neo4j.time.Date(2023, 3, 17), 'file_name': '6vOuwfFQP19eJGSQxk6lg_Senior_Data_Scientist_Economics_DER_and_Policy_Forecasting_National_Grid_Waltham_MA_On_site.html', 'posting_url': 'https://www.linkedin.com/comm/jobs/view/3519374420?alertAction=markasviewed&savedSearchId=1733565243&refId=3c64b391-178c-4374-9af6-eb53e67441fb&trackingId=%2F6vOuwfFQP19eJGSQxk6lg%3D%3D&midToken=AQGMOUshomUHaw&midSig=2Kb7Uu_X_X0qI1&trk=eml-email_job_alert_confirmation_01-job_alert-2-member_details_mercado&trkEmail=eml-email_job_alert_confirmation_01-job_alert-2-member_details_mercado-null-31gqm%7Elfcmm53e%7Ee1-null-jobs%7Eview&lipi=urn%3Ali%3Apage%3Aemail_email_job_alert_confirmation_01%3BBenpSVXwTUueh2eBXNqsPw%3D%3D'}, 13: {'opportunity_application_email_date': neo4j.time.Date(2023, 3, 17), 'file_name': 'Data_Scientist_IV_Webster_or_Boston_MA_US_MAPFRE.html', 'posting_url': 'https://jobs.mapfre.com/job/Webster-or-Boston-Data-Scientist-IV-MA-02108/914869301/'}, 14: {'opportunity_application_email_date': neo4j.time.Date(2023, 3, 17), 'file_name': 'a8d21c92bfda50a3_Entry_Level_Python_Developer_Flask_Pandas_482017_Remote_Indeed_com.html', 'posting_url': 'https://www.indeed.com/rc/clk/dl?jk=a8d21c92bfda50a3&from=ja&qd=RnZhMybXSk4M3QtTVGXWocPDA-jVn_f73KUcK2QrGXzsP3Tt6Lw41Z1c6_ojf6PoxPC-I7syoIeeXasMvscIgTtq_Qt9NhIhXCEhrxeOvb8&rd=gy7MCxDMWln4LWQRywCz51_MKnaSAFGAsD6kfERFt3g&tk=1gro30f5a3d7o001&alid=63b02dca1ef86228dd5d5128'}}"
      ]
     },
     "execution_count": 16,
     "metadata": {},
     "output_type": "execute_result"
    }
   ],
   "source": [
    "\n",
    "date_range = 'Sunday, 03/12/2023 - Saturday, 03/18/2023'\n",
    "def do_cypher_tx(tx, date_range, verbose=False):\n",
    "    cypher_str = '''\n",
    "        // Define the input date range as a string\n",
    "        WITH $date_range AS date_range\n",
    "\n",
    "        // Split the input string into two parts, one for the start date and one for the end date\n",
    "        WITH split(date_range, \" - \") AS dates\n",
    "\n",
    "        // Split the start and end dates into their components\n",
    "        WITH\n",
    "            split(dates[0], \", \") AS start_components,\n",
    "            split(dates[1], \", \") AS end_components\n",
    "\n",
    "        // Reassemble the start date components into a\n",
    "        // format that the date() function can recognize\n",
    "        WITH\n",
    "            [item in split(start_components[1], \"/\") | toInteger(item)] AS start_components,\n",
    "            [item in split(end_components[1], \"/\") | toInteger(item)] AS end_components\n",
    "\n",
    "        // Convert the integer date partss into Neo4j date objects using the date() function\n",
    "        WITH\n",
    "            date({\n",
    "                day: start_components[1],\n",
    "                month: start_components[0],\n",
    "                year: start_components[2]\n",
    "                }) AS date_start,\n",
    "            date({\n",
    "                day: end_components[1],\n",
    "                month: end_components[0],\n",
    "                year: end_components[2]\n",
    "                }) AS date_end\n",
    "\n",
    "        // Find all FileNames nodes and filter them by opportunity_application_email_date property\n",
    "        MATCH (fn:FileNames)\n",
    "        WHERE\n",
    "            (fn.opportunity_application_email_date >= date_start) AND\n",
    "            (fn.opportunity_application_email_date <= date_end)\n",
    "\n",
    "        // Return the filtered nodes\n",
    "        RETURN fn;'''\n",
    "    if verbose:\n",
    "        clear_output(wait=True)\n",
    "        print(cypher_str.replace('$date_range', f'\"{date_range}\"'))\n",
    "    parameter_dict = {'date_range': date_range}\n",
    "    rows_list = []\n",
    "    for record in tx.run(query=cypher_str, parameters=parameter_dict):\n",
    "        row_dict = {k: v for k, v in dict(record.items())['fn'].items()}\n",
    "        rows_list.append(row_dict)\n",
    "    df = DataFrame(rows_list)\n",
    "\n",
    "    return df\n",
    "\n",
    "with cu.driver.session() as session:\n",
    "    progress_dates_df = session.write_transaction(do_cypher_tx, date_range=date_range, verbose=False)\n",
    "mask_series = progress_dates_df.posting_url.isnull()\n",
    "columns_list = ['opportunity_application_email_date', 'file_name', 'posting_url']\n",
    "progress_dates_df[~mask_series][columns_list].T.to_dict()"
   ]
  },
  {
   "cell_type": "code",
   "execution_count": null,
   "id": "580d6f17-83e6-4237-bb5f-c13a0063bf4b",
   "metadata": {},
   "outputs": [],
   "source": []
  }
 ],
 "metadata": {
  "kernelspec": {
   "display_name": "Job Hunting (Python 3.10.9)",
   "language": "python",
   "name": "jh_env"
  },
  "language_info": {
   "codemirror_mode": {
    "name": "ipython",
    "version": 3
   },
   "file_extension": ".py",
   "mimetype": "text/x-python",
   "name": "python",
   "nbconvert_exporter": "python",
   "pygments_lexer": "ipython3",
   "version": "3.10.9"
  }
 },
 "nbformat": 4,
 "nbformat_minor": 5
}
