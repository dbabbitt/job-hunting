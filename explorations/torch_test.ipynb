{
 "cells": [
  {
   "cell_type": "code",
   "execution_count": 1,
   "id": "a18d2ab1-bc7b-4092-8929-fd421d78c2fd",
   "metadata": {},
   "outputs": [
    {
     "data": {
      "text/plain": [
       "['torch._C._jit_get_te_cuda_pointwise_block_count',\n",
       " 'torch._C._jit_set_te_cuda_pointwise_block_count']"
      ]
     },
     "execution_count": 1,
     "metadata": {},
     "output_type": "execute_result"
    }
   ],
   "source": [
    "\n",
    "import torch\n",
    "\n",
    "[f'torch._C.{fn}' for fn in dir(torch._C) if 'count' in fn.lower()]"
   ]
  },
  {
   "cell_type": "code",
   "execution_count": null,
   "id": "36766be0-9270-4908-9810-53e79d7e2e4b",
   "metadata": {},
   "outputs": [],
   "source": []
  }
 ],
 "metadata": {
  "kernelspec": {
   "display_name": "Job Hunting (Python 3.10.9)",
   "language": "python",
   "name": "jh_env"
  },
  "language_info": {
   "codemirror_mode": {
    "name": "ipython",
    "version": 3
   },
   "file_extension": ".py",
   "mimetype": "text/x-python",
   "name": "python",
   "nbconvert_exporter": "python",
   "pygments_lexer": "ipython3",
   "version": "3.10.9"
  }
 },
 "nbformat": 4,
 "nbformat_minor": 5
}
