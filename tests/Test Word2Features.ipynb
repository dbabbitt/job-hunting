{
 "cells": [
  {
   "cell_type": "code",
   "execution_count": null,
   "id": "789acb84-c198-4863-aa2f-733a21e5cd65",
   "metadata": {},
   "outputs": [],
   "source": []
  },
  {
   "cell_type": "code",
   "execution_count": 143,
   "id": "57e6aad4-ad30-4a1e-901c-20fed1c1412d",
   "metadata": {},
   "outputs": [
    {
     "data": {
      "text/plain": [
       "[('hrq', '<hrq>Role Primary Skill:</hrq>', 'H-RQ'), ('orq', '<orq>1 - IT Infrastructure Operations (P5 - Master)</orq>', 'O-RQ'), ('orq', '<orq>2 - Infrastructure Architecture &amp; Design (P5 - Master)</orq>', 'O-RQ'), ('orq', '<orq>3 - Accenture Delivery Methods (ADM) (P4 - Expert)</orq>', 'O-RQ'), ('orq', '<orq>4 - Intelligent Infrastructure (P4 - Expert)</orq>', 'O-RQ'), ('orq', '<orq>5 - Build Management (P4 - Expert)</orq>', 'O-RQ'), ('hts', '<hts>Role Description:</hts>', 'H-TS'), ('ots', '<ots>Leads the implementation of Infrastructure Services projects, leveraging our global delivery capability (method, tools, training, assets).</ots>', 'O-TS'), ('orq', '<orq>Ability to leads the implementation of Infrastructure Services projects, leveraging our global delivery capability (method, tools, training, assets).</orq>', 'O-RQ'), ('ojt', '<ojt>Role ID: 4688612</ojt>', 'O-JT'), ('ocs', '<ocs>Client: TIAA</ocs>', 'O-CS'), ('ojt', '<ojt>Role Title: Layer 1 SOW - Senior Infrastructure Analyst</ojt>', 'O-JT'), ('ots', '<ots>Assigned Role: Infra Implementation Svcs Lead</ots>', 'O-TS'), ('ool', '<ool>Project Metro City: New York</ool>', 'O-OL'), ('osp', '<osp>Career Level From - To: 10 to 8</osp>', 'O-SP'), ('ojd', '<ojd>Role Start Date: 2/13/2023</ojd>', 'O-JD'), ('ojd', '<ojd>Role End Date: 1/31/2024</ojd>', 'O-JD'), ('oip', '<oip>Role Client Supply Contact: Bernardele,Mariana A.</oip>', 'O-IP'), ('oip', '<oip>Role Primary Contact: Rukes,Amiee</oip>', 'O-IP'), ('oip', '<oip>Role Primary Contact (Email ID): amiee.rukes@accenture.com</oip>', 'O-IP'), ('oip', '<oip>Role Is Sold: Yes</oip>', 'O-IP')]"
      ]
     },
     "execution_count": 143,
     "metadata": {},
     "output_type": "execute_result"
    }
   ],
   "source": [
    "\n",
    "import random\n",
    "\n",
    "header_pattern_dict = s.load_object('HEADER_PATTERN_DICT')\n",
    "file_name = random.choice(list(header_pattern_dict.keys()))\n",
    "feature_dict_list = header_pattern_dict[file_name]\n",
    "feature_tuple_list = [hc.get_feature_tuple(\n",
    "    feature_dict,\n",
    "    pos_lr_predict_single=slrcu.predict_single,\n",
    "    pos_crf_predict_single=scrfcu.predict_single,\n",
    "    pos_sgd_predict_single=ssgdcu.predict_single\n",
    ") for feature_dict in feature_dict_list]\n",
    "feature_tuple_list"
   ]
  },
  {
   "cell_type": "code",
   "execution_count": 145,
   "id": "0e74ce67-744f-4709-9287-a113a6ae0246",
   "metadata": {},
   "outputs": [],
   "source": [
    "\n",
    "feature_dicts_list = crf.sentence_to_crf_features(feature_tuple_list)"
   ]
  },
  {
   "cell_type": "code",
   "execution_count": 151,
   "id": "72520148-57e7-49fa-9eb2-4d90a3719d1b",
   "metadata": {},
   "outputs": [
    {
     "name": "stdout",
     "output_type": "stream",
     "text": [
      "\n",
      "    def test_word2features0(self):\n",
      "        feature_dict = {'postag': 'H-RQ', 'child_str.pos_lr_predict_single': 'H-RQ', 'child_str.pos_crf_predict_single': 'H-RQ', 'child_str.pos_sgd_predict_single': 'O-RQ', 'BOS': True, '+1:postag': 'O-RQ', '+2:tag.basic_text_set': False, '+2:tag.inline_elements_set': False, '+2:tag.lists_set': False, '+2:tag.null_element': False, '+2:tag.other_block_elements_set': False, '+2:tag.presentation_set': False, '+2:tag.section_headings_set': False, '+2:tag==previous': True, 'tag.consecutive_next_tags': 5, '+3:tag.basic_text_set': False, '+3:tag.block_elements_set': False, '+3:tag.document_body_elements_set': False, '+3:tag.inline_elements_set': False, '+3:tag.lists_set': False, '+3:tag.null_element': False, '+3:tag.other_block_elements_set': False, '+3:tag.phrase_elements_set': False, '+3:tag.presentation_set': False, '+3:tag.section_headings_set': False, '+3:tag==previous': True}\n",
      "        feature_tuple = ('hrq', '<hrq>Role Primary Skill:</hrq>', 'H-RQ')\n",
      "        self.assertEqual(self.crf.word_to_crf_features([feature_tuple], 0), feature_dict)\n",
      "    def test_word2features1(self):\n",
      "        feature_dict = {'postag': 'O-RQ', 'child_str.pos_lr_predict_single': 'O-RQ', 'child_str.pos_crf_predict_single': 'O-RQ', 'child_str.pos_sgd_predict_single': 'O-RQ', '-1:postag': 'H-RQ', '-1:tag.basic_text_set': False, '-1:tag.inline_elements_set': False, '-1:tag.null_element': False, '-1:tag.other_block_elements_set': False, '-1:tag.section_headings_set': False, '+1:postag': 'O-RQ', '+2:tag.basic_text_set': False, '+2:tag.inline_elements_set': False, '+2:tag.lists_set': False, '+2:tag.null_element': False, '+2:tag.other_block_elements_set': False, '+2:tag.presentation_set': False, '+2:tag.section_headings_set': False, '+2:tag==previous': True, 'tag.consecutive_next_tags': 0, '+3:tag.basic_text_set': False, '+3:tag.block_elements_set': False, '+3:tag.document_body_elements_set': False, '+3:tag.inline_elements_set': False, '+3:tag.lists_set': False, '+3:tag.null_element': False, '+3:tag.other_block_elements_set': False, '+3:tag.phrase_elements_set': False, '+3:tag.presentation_set': False, '+3:tag.section_headings_set': False, '+3:tag==previous': True}\n",
      "        feature_tuple = ('orq', '<orq>1 - IT Infrastructure Operations (P5 - Master)</orq>', 'O-RQ')\n",
      "        self.assertEqual(self.crf.word_to_crf_features([feature_tuple], 0), feature_dict)\n",
      "    def test_word2features2(self):\n",
      "        feature_dict = {'postag': 'O-RQ', 'child_str.pos_lr_predict_single': 'O-RQ', 'child_str.pos_crf_predict_single': 'O-RQ', 'child_str.pos_sgd_predict_single': 'O-RQ', '-1:postag': 'O-RQ', '-1:tag.basic_text_set': False, '-1:tag.inline_elements_set': False, '-1:tag.null_element': False, '-1:tag.other_block_elements_set': False, '-1:tag.section_headings_set': False, '+1:postag': 'O-RQ', '+2:tag.basic_text_set': False, '+2:tag.inline_elements_set': False, '+2:tag.lists_set': False, '+2:tag.null_element': False, '+2:tag.other_block_elements_set': False, '+2:tag.presentation_set': False, '+2:tag.section_headings_set': False, '+2:tag==previous': True, 'tag.consecutive_next_tags': 0, '+3:tag.basic_text_set': False, '+3:tag.block_elements_set': False, '+3:tag.document_body_elements_set': False, '+3:tag.inline_elements_set': False, '+3:tag.lists_set': False, '+3:tag.null_element': False, '+3:tag.other_block_elements_set': False, '+3:tag.phrase_elements_set': False, '+3:tag.presentation_set': False, '+3:tag.section_headings_set': False, '+3:tag==previous': True}\n",
      "        feature_tuple = ('orq', '<orq>2 - Infrastructure Architecture &amp; Design (P5 - Master)</orq>', 'O-RQ')\n",
      "        self.assertEqual(self.crf.word_to_crf_features([feature_tuple], 0), feature_dict)\n",
      "    def test_word2features3(self):\n",
      "        feature_dict = {'postag': 'O-RQ', 'child_str.pos_lr_predict_single': 'O-RQ', 'child_str.pos_crf_predict_single': 'O-RQ', 'child_str.pos_sgd_predict_single': 'O-RQ', '-1:postag': 'O-RQ', '-1:tag.basic_text_set': False, '-1:tag.inline_elements_set': False, '-1:tag.null_element': False, '-1:tag.other_block_elements_set': False, '-1:tag.section_headings_set': False, '+1:postag': 'O-RQ', '+2:tag.basic_text_set': False, '+2:tag.inline_elements_set': False, '+2:tag.lists_set': False, '+2:tag.null_element': False, '+2:tag.other_block_elements_set': False, '+2:tag.presentation_set': False, '+2:tag.section_headings_set': False, '+2:tag==previous': True, 'tag.consecutive_next_tags': 0, '+3:tag.basic_text_set': False, '+3:tag.block_elements_set': False, '+3:tag.document_body_elements_set': False, '+3:tag.inline_elements_set': False, '+3:tag.lists_set': False, '+3:tag.null_element': False, '+3:tag.other_block_elements_set': False, '+3:tag.phrase_elements_set': False, '+3:tag.presentation_set': False, '+3:tag.section_headings_set': False, '+3:tag==previous': False}\n",
      "        feature_tuple = ('orq', '<orq>3 - Accenture Delivery Methods (ADM) (P4 - Expert)</orq>', 'O-RQ')\n",
      "        self.assertEqual(self.crf.word_to_crf_features([feature_tuple], 0), feature_dict)\n",
      "    def test_word2features4(self):\n",
      "        feature_dict = {'postag': 'O-RQ', 'child_str.pos_lr_predict_single': 'O-RQ', 'child_str.pos_crf_predict_single': 'O-RQ', 'child_str.pos_sgd_predict_single': 'O-RQ', '-1:postag': 'O-RQ', '-1:tag.basic_text_set': False, '-1:tag.inline_elements_set': False, '-1:tag.null_element': False, '-1:tag.other_block_elements_set': False, '-1:tag.section_headings_set': False, '+1:postag': 'O-RQ', '+2:tag.basic_text_set': False, '+2:tag.inline_elements_set': False, '+2:tag.lists_set': False, '+2:tag.null_element': False, '+2:tag.other_block_elements_set': False, '+2:tag.presentation_set': False, '+2:tag.section_headings_set': False, '+2:tag==previous': False, 'tag.consecutive_next_tags': 0, '+3:tag.basic_text_set': False, '+3:tag.block_elements_set': False, '+3:tag.document_body_elements_set': False, '+3:tag.inline_elements_set': False, '+3:tag.lists_set': False, '+3:tag.null_element': False, '+3:tag.other_block_elements_set': False, '+3:tag.phrase_elements_set': False, '+3:tag.presentation_set': False, '+3:tag.section_headings_set': False, '+3:tag==previous': False}\n",
      "        feature_tuple = ('orq', '<orq>4 - Intelligent Infrastructure (P4 - Expert)</orq>', 'O-RQ')\n",
      "        self.assertEqual(self.crf.word_to_crf_features([feature_tuple], 0), feature_dict)\n",
      "    def test_word2features5(self):\n",
      "        feature_dict = {'postag': 'O-RQ', 'child_str.pos_lr_predict_single': 'O-RQ', 'child_str.pos_crf_predict_single': 'O-RQ', 'child_str.pos_sgd_predict_single': 'O-RQ', '-1:postag': 'O-RQ', '-1:tag.basic_text_set': False, '-1:tag.inline_elements_set': False, '-1:tag.null_element': False, '-1:tag.other_block_elements_set': False, '-1:tag.section_headings_set': False, '+1:postag': 'H-TS', '+2:tag.basic_text_set': False, '+2:tag.inline_elements_set': False, '+2:tag.lists_set': False, '+2:tag.null_element': False, '+2:tag.other_block_elements_set': False, '+2:tag.presentation_set': False, '+2:tag.section_headings_set': False, '+2:tag==previous': False, 'tag.consecutive_next_tags': 1, '+3:tag.basic_text_set': False, '+3:tag.block_elements_set': False, '+3:tag.document_body_elements_set': False, '+3:tag.inline_elements_set': False, '+3:tag.lists_set': False, '+3:tag.null_element': False, '+3:tag.other_block_elements_set': False, '+3:tag.phrase_elements_set': False, '+3:tag.presentation_set': False, '+3:tag.section_headings_set': False, '+3:tag==previous': False}\n",
      "        feature_tuple = ('orq', '<orq>5 - Build Management (P4 - Expert)</orq>', 'O-RQ')\n",
      "        self.assertEqual(self.crf.word_to_crf_features([feature_tuple], 0), feature_dict)\n",
      "    def test_word2features6(self):\n",
      "        feature_dict = {'postag': 'H-TS', 'child_str.pos_lr_predict_single': 'H-TS', 'child_str.pos_crf_predict_single': 'H-TS', 'child_str.pos_sgd_predict_single': 'O-RQ', '-1:postag': 'O-RQ', '-1:tag.basic_text_set': False, '-1:tag.inline_elements_set': False, '-1:tag.null_element': False, '-1:tag.other_block_elements_set': False, '-1:tag.section_headings_set': False, '+1:postag': 'O-TS', '+2:tag.basic_text_set': False, '+2:tag.inline_elements_set': False, '+2:tag.lists_set': False, '+2:tag.null_element': False, '+2:tag.other_block_elements_set': False, '+2:tag.presentation_set': False, '+2:tag.section_headings_set': False, '+2:tag==previous': False, 'tag.consecutive_next_tags': 1, '+3:tag.basic_text_set': False, '+3:tag.block_elements_set': False, '+3:tag.document_body_elements_set': False, '+3:tag.inline_elements_set': False, '+3:tag.lists_set': False, '+3:tag.null_element': False, '+3:tag.other_block_elements_set': False, '+3:tag.phrase_elements_set': False, '+3:tag.presentation_set': False, '+3:tag.section_headings_set': False, '+3:tag==previous': False}\n",
      "        feature_tuple = ('hts', '<hts>Role Description:</hts>', 'H-TS')\n",
      "        self.assertEqual(self.crf.word_to_crf_features([feature_tuple], 0), feature_dict)\n",
      "    def test_word2features7(self):\n",
      "        feature_dict = {'postag': 'O-TS', 'child_str.pos_lr_predict_single': 'O-TS', 'child_str.pos_crf_predict_single': 'O-TS', 'child_str.pos_sgd_predict_single': 'O-RQ', '-1:postag': 'H-TS', '-1:tag.basic_text_set': False, '-1:tag.inline_elements_set': False, '-1:tag.null_element': False, '-1:tag.other_block_elements_set': False, '-1:tag.section_headings_set': False, '+1:postag': 'O-RQ', '+2:tag.basic_text_set': False, '+2:tag.inline_elements_set': False, '+2:tag.lists_set': False, '+2:tag.null_element': False, '+2:tag.other_block_elements_set': False, '+2:tag.presentation_set': False, '+2:tag.section_headings_set': False, '+2:tag==previous': False, 'tag.consecutive_next_tags': 1, '+3:tag.basic_text_set': False, '+3:tag.block_elements_set': False, '+3:tag.document_body_elements_set': False, '+3:tag.inline_elements_set': False, '+3:tag.lists_set': False, '+3:tag.null_element': False, '+3:tag.other_block_elements_set': False, '+3:tag.phrase_elements_set': False, '+3:tag.presentation_set': False, '+3:tag.section_headings_set': False, '+3:tag==previous': False}\n",
      "        feature_tuple = ('ots', '<ots>Leads the implementation of Infrastructure Services projects, leveraging our global delivery capability (method, tools, training, assets).</ots>', 'O-TS')\n",
      "        self.assertEqual(self.crf.word_to_crf_features([feature_tuple], 0), feature_dict)\n",
      "    def test_word2features8(self):\n",
      "        feature_dict = {'postag': 'O-RQ', 'child_str.pos_lr_predict_single': 'O-RQ', 'child_str.pos_crf_predict_single': 'O-RQ', 'child_str.pos_sgd_predict_single': 'O-RQ', '-1:postag': 'O-TS', '-1:tag.basic_text_set': False, '-1:tag.inline_elements_set': False, '-1:tag.null_element': False, '-1:tag.other_block_elements_set': False, '-1:tag.section_headings_set': False, '+1:postag': 'O-JT', '+2:tag.basic_text_set': False, '+2:tag.inline_elements_set': False, '+2:tag.lists_set': False, '+2:tag.null_element': False, '+2:tag.other_block_elements_set': False, '+2:tag.presentation_set': False, '+2:tag.section_headings_set': False, '+2:tag==previous': False, 'tag.consecutive_next_tags': 1, '+3:tag.basic_text_set': False, '+3:tag.block_elements_set': False, '+3:tag.document_body_elements_set': False, '+3:tag.inline_elements_set': False, '+3:tag.lists_set': False, '+3:tag.null_element': False, '+3:tag.other_block_elements_set': False, '+3:tag.phrase_elements_set': False, '+3:tag.presentation_set': False, '+3:tag.section_headings_set': False, '+3:tag==previous': False}\n",
      "        feature_tuple = ('orq', '<orq>Ability to leads the implementation of Infrastructure Services projects, leveraging our global delivery capability (method, tools, training, assets).</orq>', 'O-RQ')\n",
      "        self.assertEqual(self.crf.word_to_crf_features([feature_tuple], 0), feature_dict)\n",
      "    def test_word2features9(self):\n",
      "        feature_dict = {'postag': 'O-JT', 'child_str.pos_lr_predict_single': 'O-JT', 'child_str.pos_crf_predict_single': 'O-JT', 'child_str.pos_sgd_predict_single': 'O-JT', '-1:postag': 'O-RQ', '-1:tag.basic_text_set': False, '-1:tag.inline_elements_set': False, '-1:tag.null_element': False, '-1:tag.other_block_elements_set': False, '-1:tag.section_headings_set': False, '+1:postag': 'O-CS', '+2:tag.basic_text_set': False, '+2:tag.inline_elements_set': False, '+2:tag.lists_set': False, '+2:tag.null_element': False, '+2:tag.other_block_elements_set': False, '+2:tag.presentation_set': False, '+2:tag.section_headings_set': False, '+2:tag==previous': False, 'tag.consecutive_next_tags': 1, '+3:tag.basic_text_set': False, '+3:tag.block_elements_set': False, '+3:tag.document_body_elements_set': False, '+3:tag.inline_elements_set': False, '+3:tag.lists_set': False, '+3:tag.null_element': False, '+3:tag.other_block_elements_set': False, '+3:tag.phrase_elements_set': False, '+3:tag.presentation_set': False, '+3:tag.section_headings_set': False, '+3:tag==previous': False}\n",
      "        feature_tuple = ('ojt', '<ojt>Role ID: 4688612</ojt>', 'O-JT')\n",
      "        self.assertEqual(self.crf.word_to_crf_features([feature_tuple], 0), feature_dict)\n",
      "    def test_word2features10(self):\n",
      "        feature_dict = {'postag': 'O-CS', 'child_str.pos_lr_predict_single': 'O-CS', 'child_str.pos_crf_predict_single': 'O-CS', 'child_str.pos_sgd_predict_single': 'O-RQ', '-1:postag': 'O-JT', '-1:tag.basic_text_set': False, '-1:tag.inline_elements_set': False, '-1:tag.null_element': False, '-1:tag.other_block_elements_set': False, '-1:tag.section_headings_set': False, '+1:postag': 'O-JT', '+2:tag.basic_text_set': False, '+2:tag.inline_elements_set': False, '+2:tag.lists_set': False, '+2:tag.null_element': False, '+2:tag.other_block_elements_set': False, '+2:tag.presentation_set': False, '+2:tag.section_headings_set': False, '+2:tag==previous': False, 'tag.consecutive_next_tags': 1, '+3:tag.basic_text_set': False, '+3:tag.block_elements_set': False, '+3:tag.document_body_elements_set': False, '+3:tag.inline_elements_set': False, '+3:tag.lists_set': False, '+3:tag.null_element': False, '+3:tag.other_block_elements_set': False, '+3:tag.phrase_elements_set': False, '+3:tag.presentation_set': False, '+3:tag.section_headings_set': False, '+3:tag==previous': False}\n",
      "        feature_tuple = ('ocs', '<ocs>Client: TIAA</ocs>', 'O-CS')\n",
      "        self.assertEqual(self.crf.word_to_crf_features([feature_tuple], 0), feature_dict)\n",
      "    def test_word2features11(self):\n",
      "        feature_dict = {'postag': 'O-JT', 'child_str.pos_lr_predict_single': 'O-JT', 'child_str.pos_crf_predict_single': 'O-JT', 'child_str.pos_sgd_predict_single': 'O-JT', '-1:postag': 'O-CS', '-1:tag.basic_text_set': False, '-1:tag.inline_elements_set': False, '-1:tag.null_element': False, '-1:tag.other_block_elements_set': False, '-1:tag.section_headings_set': False, '+1:postag': 'O-TS', '+2:tag.basic_text_set': False, '+2:tag.inline_elements_set': False, '+2:tag.lists_set': False, '+2:tag.null_element': False, '+2:tag.other_block_elements_set': False, '+2:tag.presentation_set': False, '+2:tag.section_headings_set': False, '+2:tag==previous': False, 'tag.consecutive_next_tags': 1, '+3:tag.basic_text_set': False, '+3:tag.block_elements_set': False, '+3:tag.document_body_elements_set': False, '+3:tag.inline_elements_set': False, '+3:tag.lists_set': False, '+3:tag.null_element': False, '+3:tag.other_block_elements_set': False, '+3:tag.phrase_elements_set': False, '+3:tag.presentation_set': False, '+3:tag.section_headings_set': False, '+3:tag==previous': False}\n",
      "        feature_tuple = ('ojt', '<ojt>Role Title: Layer 1 SOW - Senior Infrastructure Analyst</ojt>', 'O-JT')\n",
      "        self.assertEqual(self.crf.word_to_crf_features([feature_tuple], 0), feature_dict)\n",
      "    def test_word2features12(self):\n",
      "        feature_dict = {'postag': 'O-TS', 'child_str.pos_lr_predict_single': 'O-TS', 'child_str.pos_crf_predict_single': 'O-TS', 'child_str.pos_sgd_predict_single': 'O-RQ', '-1:postag': 'O-JT', '-1:tag.basic_text_set': False, '-1:tag.inline_elements_set': False, '-1:tag.null_element': False, '-1:tag.other_block_elements_set': False, '-1:tag.section_headings_set': False, '+1:postag': 'O-OL', '+2:tag.basic_text_set': False, '+2:tag.inline_elements_set': False, '+2:tag.lists_set': False, '+2:tag.null_element': False, '+2:tag.other_block_elements_set': False, '+2:tag.presentation_set': False, '+2:tag.section_headings_set': False, '+2:tag==previous': False, 'tag.consecutive_next_tags': 1, '+3:tag.basic_text_set': False, '+3:tag.block_elements_set': False, '+3:tag.document_body_elements_set': False, '+3:tag.inline_elements_set': False, '+3:tag.lists_set': False, '+3:tag.null_element': False, '+3:tag.other_block_elements_set': False, '+3:tag.phrase_elements_set': False, '+3:tag.presentation_set': False, '+3:tag.section_headings_set': False, '+3:tag==previous': False}\n",
      "        feature_tuple = ('ots', '<ots>Assigned Role: Infra Implementation Svcs Lead</ots>', 'O-TS')\n",
      "        self.assertEqual(self.crf.word_to_crf_features([feature_tuple], 0), feature_dict)\n",
      "    def test_word2features13(self):\n",
      "        feature_dict = {'postag': 'O-OL', 'child_str.pos_lr_predict_single': 'O-OL', 'child_str.pos_crf_predict_single': 'O-OL', 'child_str.pos_sgd_predict_single': 'O-RQ', '-1:postag': 'O-TS', '-1:tag.basic_text_set': False, '-1:tag.inline_elements_set': False, '-1:tag.null_element': False, '-1:tag.other_block_elements_set': False, '-1:tag.section_headings_set': False, '+1:postag': 'O-SP', '+2:tag.basic_text_set': False, '+2:tag.inline_elements_set': False, '+2:tag.lists_set': False, '+2:tag.null_element': False, '+2:tag.other_block_elements_set': False, '+2:tag.presentation_set': False, '+2:tag.section_headings_set': False, '+2:tag==previous': False, 'tag.consecutive_next_tags': 1, '+3:tag.basic_text_set': False, '+3:tag.block_elements_set': False, '+3:tag.document_body_elements_set': False, '+3:tag.inline_elements_set': False, '+3:tag.lists_set': False, '+3:tag.null_element': False, '+3:tag.other_block_elements_set': False, '+3:tag.phrase_elements_set': False, '+3:tag.presentation_set': False, '+3:tag.section_headings_set': False, '+3:tag==previous': True}\n",
      "        feature_tuple = ('ool', '<ool>Project Metro City: New York</ool>', 'O-OL')\n",
      "        self.assertEqual(self.crf.word_to_crf_features([feature_tuple], 0), feature_dict)\n",
      "    def test_word2features14(self):\n",
      "        feature_dict = {'postag': 'O-SP', 'child_str.pos_lr_predict_single': 'O-SP', 'child_str.pos_crf_predict_single': 'O-SP', 'child_str.pos_sgd_predict_single': 'O-RQ', '-1:postag': 'O-OL', '-1:tag.basic_text_set': False, '-1:tag.inline_elements_set': False, '-1:tag.null_element': False, '-1:tag.other_block_elements_set': False, '-1:tag.section_headings_set': False, '+1:postag': 'O-JD', '+2:tag.basic_text_set': False, '+2:tag.inline_elements_set': False, '+2:tag.lists_set': False, '+2:tag.null_element': False, '+2:tag.other_block_elements_set': False, '+2:tag.presentation_set': False, '+2:tag.section_headings_set': False, '+2:tag==previous': True, 'tag.consecutive_next_tags': 2, '+3:tag.basic_text_set': False, '+3:tag.block_elements_set': False, '+3:tag.document_body_elements_set': False, '+3:tag.inline_elements_set': False, '+3:tag.lists_set': False, '+3:tag.null_element': False, '+3:tag.other_block_elements_set': False, '+3:tag.phrase_elements_set': False, '+3:tag.presentation_set': False, '+3:tag.section_headings_set': False, '+3:tag==previous': False}\n",
      "        feature_tuple = ('osp', '<osp>Career Level From - To: 10 to 8</osp>', 'O-SP')\n",
      "        self.assertEqual(self.crf.word_to_crf_features([feature_tuple], 0), feature_dict)\n",
      "    def test_word2features15(self):\n",
      "        feature_dict = {'postag': 'O-JD', 'child_str.pos_lr_predict_single': 'O-JD', 'child_str.pos_crf_predict_single': 'O-JD', 'child_str.pos_sgd_predict_single': 'O-RQ', '-1:postag': 'O-SP', '-1:tag.basic_text_set': False, '-1:tag.inline_elements_set': False, '-1:tag.null_element': False, '-1:tag.other_block_elements_set': False, '-1:tag.section_headings_set': False, '+1:postag': 'O-JD', '+2:tag.basic_text_set': False, '+2:tag.inline_elements_set': False, '+2:tag.lists_set': False, '+2:tag.null_element': False, '+2:tag.other_block_elements_set': False, '+2:tag.presentation_set': False, '+2:tag.section_headings_set': False, '+2:tag==previous': False, 'tag.consecutive_next_tags': 0, '+3:tag.basic_text_set': False, '+3:tag.block_elements_set': False, '+3:tag.document_body_elements_set': False, '+3:tag.inline_elements_set': False, '+3:tag.lists_set': False, '+3:tag.null_element': False, '+3:tag.other_block_elements_set': False, '+3:tag.phrase_elements_set': False, '+3:tag.presentation_set': False, '+3:tag.section_headings_set': False, '+3:tag==previous': True}\n",
      "        feature_tuple = ('ojd', '<ojd>Role Start Date: 2/13/2023</ojd>', 'O-JD')\n",
      "        self.assertEqual(self.crf.word_to_crf_features([feature_tuple], 0), feature_dict)\n",
      "    def test_word2features16(self):\n",
      "        feature_dict = {'postag': 'O-JD', 'child_str.pos_lr_predict_single': 'O-JD', 'child_str.pos_crf_predict_single': 'O-JD', 'child_str.pos_sgd_predict_single': 'O-RQ', '-1:postag': 'O-JD', '-1:tag.basic_text_set': False, '-1:tag.inline_elements_set': False, '-1:tag.null_element': False, '-1:tag.other_block_elements_set': False, '-1:tag.section_headings_set': False, '+1:postag': 'O-IP', '+2:tag.basic_text_set': False, '+2:tag.inline_elements_set': False, '+2:tag.lists_set': False, '+2:tag.null_element': False, '+2:tag.other_block_elements_set': False, '+2:tag.presentation_set': False, '+2:tag.section_headings_set': False, '+2:tag==previous': True, 'tag.consecutive_next_tags': 4, '+3:tag.basic_text_set': False, '+3:tag.block_elements_set': False, '+3:tag.document_body_elements_set': False, '+3:tag.inline_elements_set': False, '+3:tag.lists_set': False, '+3:tag.null_element': False, '+3:tag.other_block_elements_set': False, '+3:tag.phrase_elements_set': False, '+3:tag.presentation_set': False, '+3:tag.section_headings_set': False, '+3:tag==previous': True}\n",
      "        feature_tuple = ('ojd', '<ojd>Role End Date: 1/31/2024</ojd>', 'O-JD')\n",
      "        self.assertEqual(self.crf.word_to_crf_features([feature_tuple], 0), feature_dict)\n",
      "    def test_word2features17(self):\n",
      "        feature_dict = {'postag': 'O-IP', 'child_str.pos_lr_predict_single': 'O-IP', 'child_str.pos_crf_predict_single': 'O-IP', 'child_str.pos_sgd_predict_single': 'O-IP', '-1:postag': 'O-JD', '-1:tag.basic_text_set': False, '-1:tag.inline_elements_set': False, '-1:tag.null_element': False, '-1:tag.other_block_elements_set': False, '-1:tag.section_headings_set': False, '+1:postag': 'O-IP', '+2:tag.basic_text_set': False, '+2:tag.inline_elements_set': False, '+2:tag.lists_set': False, '+2:tag.null_element': False, '+2:tag.other_block_elements_set': False, '+2:tag.presentation_set': False, '+2:tag.section_headings_set': False, '+2:tag==previous': True, 'tag.consecutive_next_tags': 0, '+3:tag.basic_text_set': False, '+3:tag.block_elements_set': False, '+3:tag.document_body_elements_set': False, '+3:tag.inline_elements_set': False, '+3:tag.lists_set': False, '+3:tag.null_element': False, '+3:tag.other_block_elements_set': False, '+3:tag.phrase_elements_set': False, '+3:tag.presentation_set': False, '+3:tag.section_headings_set': False, '+3:tag==previous': True}\n",
      "        feature_tuple = ('oip', '<oip>Role Client Supply Contact: Bernardele,Mariana A.</oip>', 'O-IP')\n",
      "        self.assertEqual(self.crf.word_to_crf_features([feature_tuple], 0), feature_dict)\n",
      "    def test_word2features18(self):\n",
      "        feature_dict = {'postag': 'O-IP', 'child_str.pos_lr_predict_single': 'O-IP', 'child_str.pos_crf_predict_single': 'O-IP', 'child_str.pos_sgd_predict_single': 'O-IP', '-1:postag': 'O-IP', '-1:tag.basic_text_set': False, '-1:tag.inline_elements_set': False, '-1:tag.null_element': False, '-1:tag.other_block_elements_set': False, '-1:tag.section_headings_set': False, '+1:postag': 'O-IP', '+2:tag.basic_text_set': False, '+2:tag.inline_elements_set': False, '+2:tag.lists_set': False, '+2:tag.null_element': False, '+2:tag.other_block_elements_set': False, '+2:tag.presentation_set': False, '+2:tag.section_headings_set': False, '+2:tag==previous': True, 'tag.consecutive_next_tags': 0}\n",
      "        feature_tuple = ('oip', '<oip>Role Primary Contact: Rukes,Amiee</oip>', 'O-IP')\n",
      "        self.assertEqual(self.crf.word_to_crf_features([feature_tuple], 0), feature_dict)\n",
      "    def test_word2features19(self):\n",
      "        feature_dict = {'postag': 'O-IP', 'child_str.pos_lr_predict_single': 'O-IP', 'child_str.pos_crf_predict_single': 'O-IP', 'child_str.pos_sgd_predict_single': 'O-IP', '-1:postag': 'O-IP', '-1:tag.basic_text_set': False, '-1:tag.inline_elements_set': False, '-1:tag.null_element': False, '-1:tag.other_block_elements_set': False, '-1:tag.section_headings_set': False, '+1:postag': 'O-IP'}\n",
      "        feature_tuple = ('oip', '<oip>Role Primary Contact (Email ID): amiee.rukes@accenture.com</oip>', 'O-IP')\n",
      "        self.assertEqual(self.crf.word_to_crf_features([feature_tuple], 0), feature_dict)\n",
      "    def test_word2features20(self):\n",
      "        feature_dict = {'postag': 'O-IP', 'child_str.pos_lr_predict_single': 'O-IP', 'child_str.pos_crf_predict_single': 'O-IP', 'child_str.pos_sgd_predict_single': 'O-RQ', '-1:postag': 'O-IP', '-1:tag.basic_text_set': False, '-1:tag.inline_elements_set': False, '-1:tag.null_element': False, '-1:tag.other_block_elements_set': False, '-1:tag.section_headings_set': False, 'EOS': True}\n",
      "        feature_tuple = ('oip', '<oip>Role Is Sold: Yes</oip>', 'O-IP')\n",
      "        self.assertEqual(self.crf.word_to_crf_features([feature_tuple], 0), feature_dict)\n"
     ]
    }
   ],
   "source": [
    "\n",
    "print()\n",
    "for i, (ft, fd) in enumerate(zip(feature_tuple_list, feature_dicts_list)):\n",
    "    print(f\"\"\"    def test_word2features{i}(self):\n",
    "        feature_dict = {fd}\n",
    "        feature_tuple = {ft}\n",
    "        self.assertEqual(self.crf.word_to_crf_features([feature_tuple], 0), feature_dict)\"\"\")"
   ]
  },
  {
   "cell_type": "code",
   "execution_count": 147,
   "id": "e791c872-ed15-4a58-bade-dfe607e851ef",
   "metadata": {},
   "outputs": [
    {
     "data": {
      "text/plain": [
       "['postag', 'child_str.pos_lr_predict_single', 'child_str.pos_crf_predict_single', 'child_str.pos_sgd_predict_single', 'BOS', '+1:postag', '+2:tag.basic_text_set', '+2:tag.inline_elements_set', '+2:tag.lists_set', '+2:tag.null_element', '+2:tag.other_block_elements_set', '+2:tag.presentation_set', '+2:tag.section_headings_set', '+2:tag==previous', 'tag.consecutive_next_tags', '+3:tag.basic_text_set', '+3:tag.block_elements_set', '+3:tag.document_body_elements_set', '+3:tag.inline_elements_set', '+3:tag.lists_set', '+3:tag.null_element', '+3:tag.other_block_elements_set', '+3:tag.phrase_elements_set', '+3:tag.presentation_set', '+3:tag.section_headings_set', '+3:tag==previous']"
      ]
     },
     "execution_count": 147,
     "metadata": {},
     "output_type": "execute_result"
    }
   ],
   "source": [
    "\n",
    "list(feature_dicts_list[0].keys())"
   ]
  }
 ],
 "metadata": {
  "kernelspec": {
   "display_name": "Job Hunting (Python 3.10.9)",
   "language": "python",
   "name": "jh_env"
  },
  "language_info": {
   "codemirror_mode": {
    "name": "ipython",
    "version": 3
   },
   "file_extension": ".py",
   "mimetype": "text/x-python",
   "name": "python",
   "nbconvert_exporter": "python",
   "pygments_lexer": "ipython3",
   "version": "3.10.9"
  }
 },
 "nbformat": 4,
 "nbformat_minor": 5
}
