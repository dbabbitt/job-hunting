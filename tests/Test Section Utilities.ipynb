{
 "cells": [
  {
   "cell_type": "code",
   "execution_count": null,
   "id": "0f0eb130-bcda-405e-8812-b1fb70ee04aa",
   "metadata": {},
   "outputs": [],
   "source": []
  },
  {
   "cell_type": "code",
   "execution_count": 1,
   "id": "e47b80ef-e298-4b81-b16f-8727110e9938",
   "metadata": {},
   "outputs": [
    {
     "name": "stdout",
     "output_type": "stream",
     "text": [
      "Pretty printing has been turned OFF\n"
     ]
    }
   ],
   "source": [
    "\n",
    "%pprint"
   ]
  },
  {
   "cell_type": "code",
   "execution_count": 2,
   "id": "a1bfc55f-7301-476d-bccb-abfd4c20d020",
   "metadata": {},
   "outputs": [],
   "source": [
    "\n",
    "import sys\n",
    "\n",
    "# Insert at 1, 0 is the script path (or '' in REPL)\n",
    "sys.path.insert(1, '../py')"
   ]
  },
  {
   "cell_type": "code",
   "execution_count": 3,
   "id": "ab1d4a0e-1716-46f3-aacb-08f7fa53ea18",
   "metadata": {},
   "outputs": [
    {
     "name": "stdout",
     "output_type": "stream",
     "text": [
      "CPU times: total: 1.2 s\n",
      "Wall time: 4.28 s\n"
     ]
    }
   ],
   "source": [
    "\n",
    "%%time\n",
    "import sys\n",
    "import os\n",
    "sys.path.insert(1, '../py')\n",
    "\n",
    "from storage import Storage\n",
    "s = Storage()\n",
    "\n",
    "from ha_utils import HeaderAnalysis\n",
    "ha = HeaderAnalysis(s=s, verbose=False)\n",
    "\n",
    "from scrape_utils import WebScrapingUtilities\n",
    "wsu = WebScrapingUtilities()\n",
    "uri = wsu.secrets_json['neo4j']['connect_url']\n",
    "user =  wsu.secrets_json['neo4j']['username']\n",
    "password = wsu.secrets_json['neo4j']['password']\n",
    "\n",
    "from cypher_utils import CypherUtilities\n",
    "cu = CypherUtilities(uri=uri, user=user, password=password, driver=None, s=s, ha=ha)\n",
    "\n",
    "from hc_utils import HeaderCategories\n",
    "hc = HeaderCategories(cu=cu, verbose=False)\n",
    "\n",
    "from section_utils import SectionUtilities\n",
    "su = SectionUtilities(s = s, ha=ha, hc=hc, verbose=False)\n",
    "\n",
    "import warnings\n",
    "warnings.filterwarnings('ignore')"
   ]
  },
  {
   "cell_type": "code",
   "execution_count": 5,
   "id": "b1858ee8-ec12-4161-ae53-df1f95cc0d92",
   "metadata": {},
   "outputs": [],
   "source": [
    "\n",
    "from matplotlib.colors import to_hex\n",
    "from IPython.display import HTML, display\n",
    "\n",
    "def display_parts_of_speech(crf_list):\n",
    "    \n",
    "    # Make an RGB dictionary of all the parts-of-speech symbols\n",
    "    rgba_dict = su.get_pos_color_dictionary()\n",
    "\n",
    "    html_str = ''\n",
    "    print(crf_list)\n",
    "    pos_symbol = 'RQ'\n",
    "    neg_symbol = 'PQ'\n",
    "    nonheader_allows_list = ['O-RQ', 'O-ER']\n",
    "    indices_list = su.get_section(crf_list, pos_symbol, neg_symbol, nonheader_allows_list)\n",
    "    print(indices_list)\n",
    "    for i, pos_symbol in enumerate(crf_list):\n",
    "        rgba = rgba_dict[pos_symbol]\n",
    "        hex_str = to_hex(rgba, keep_alpha=True)\n",
    "        if len(indices_list) and (i == min(indices_list)):\n",
    "            html_str += '<hr />'\n",
    "        child_str = su.append_pos_symbol('', pos_symbol, use_explanation=True)\n",
    "        html_str += f'{i+0} {pos_symbol}) <span style=\"color:{hex_str};\">{child_str}</span><br />'\n",
    "        if len(indices_list) and (i == max(indices_list)):\n",
    "            html_str += '<hr />'\n",
    "    display(HTML(html_str))"
   ]
  },
  {
   "cell_type": "code",
   "execution_count": null,
   "id": "5040dccd-a917-4cb5-8131-ea2db0c038bf",
   "metadata": {},
   "outputs": [],
   "source": [
    "\n",
    "crf_list = ['O-CS', 'O-TS', 'O-OL', 'O-OL', 'O-CS', 'O-CS', 'H-TS', 'O-PQ', 'O-RQ', 'O-TS', 'O-RQ', 'O-RQ', 'O-RQ',\n",
    "            'O-TS', 'O-TS', 'O-TS', 'O-TS', 'O-TS', 'H-TS', 'O-TS', 'O-TS', 'O-TS', 'O-TS', 'O-TS', 'O-TS', 'O-TS',\n",
    "            'O-TS', 'O-TS', 'O-TS', 'O-TS', 'H-RQ', 'O-RQ', 'O-RQ', 'O-RQ', 'O-RQ', 'O-RQ', 'O-RQ', 'O-RQ', 'O-RQ',\n",
    "            'O-RQ', 'O-RQ', 'H-RQ', 'H-RQ', 'O-RQ', 'O-RQ', 'O-RQ', 'O-JD', 'H-JD', 'O-CS', 'H-RQ', 'O-RQ', 'O-RQ',\n",
    "            'H-OL', 'O-OL']\n",
    "display_parts_of_speech(crf_list)"
   ]
  },
  {
   "cell_type": "code",
   "execution_count": null,
   "id": "e43117ec-1559-4e3c-b55a-410c44f8d15f",
   "metadata": {},
   "outputs": [],
   "source": [
    "\n",
    "crf_list = ['O-CS', 'O-TS', 'O-OL', 'O-OL', 'O-CS', 'O-CS', 'H-TS', 'O-PQ', 'O-RQ', 'O-RQ', 'O-TS', 'O-TS', 'O-TS', 'O-TS',\n",
    "            'O-TS', 'O-TS', 'O-TS', 'O-TS', 'H-TS', 'O-TS', 'O-TS', 'O-TS', 'O-TS', 'O-TS', 'O-TS', 'O-TS', 'O-TS', 'O-TS',\n",
    "            'O-CS', 'O-TS', 'O-RQ', 'O-PQ', 'O-PQ', 'O-RQ', 'O-ER', 'O-RQ', 'O-TS', 'O-RQ', 'O-RQ', 'O-RQ', 'O-RQ', 'O-CS',\n",
    "            'O-CS', 'O-RQ', 'O-RQ', 'O-RQ', 'O-LN', 'H-JD', 'O-CS', 'H-PQ', 'O-RQ', 'O-RQ', 'H-OL', 'O-CS']\n",
    "display_parts_of_speech(crf_list)"
   ]
  },
  {
   "cell_type": "code",
   "execution_count": null,
   "id": "8e2f7517-38a1-4a84-8d9d-877a98cb3c25",
   "metadata": {},
   "outputs": [],
   "source": [
    "\n",
    "crf_list = ['H-TS', 'H-TS', 'O-TS', 'H-TS', 'O-TS', 'O-RQ', 'O-RQ', 'O-TS', 'O-CS', 'O-PQ', 'O-RQ', 'O-TS', 'O-RQ', 'O-RQ',\n",
    "            'O-CS', 'O-RQ', 'O-PQ', 'O-PQ', 'O-RQ', 'O-PQ', 'O-RQ', 'O-RQ', 'O-OL', 'O-TS', 'O-RQ', 'O-CS', 'O-CS', 'O-TS',\n",
    "            'O-CS', 'O-TS', 'O-LN', 'O-LN', 'O-SP', 'O-LN', 'O-CS']\n",
    "db_pos_list = ['O', 'H-TS', 'O', 'H', 'O-RQ', 'O', 'O', 'O-RQ', 'H-TS', 'O-TS', 'H-RQ', 'O-RQ', 'O-RQ', 'O-RQ', 'O-RQ',\n",
    "               'O-RQ', 'O-PQ', 'O-PQ', 'O-PQ', 'O-PQ', 'H-RQ', 'O-RQ', 'H-OL', 'O', 'O', 'O', 'O', 'H', 'O', 'O', 'O', 'O',\n",
    "               'O', 'O', 'O']\n",
    "pos_list = []\n",
    "for i, (crf_symbol, db_symbol) in enumerate(zip(crf_list, db_pos_list)):\n",
    "    if db_symbol in [None, 'O', 'H']:\n",
    "        pos_list.append(crf_symbol)\n",
    "    else:\n",
    "        pos_list.append(db_symbol)\n",
    "display_parts_of_speech(pos_list)"
   ]
  },
  {
   "cell_type": "code",
   "execution_count": null,
   "id": "be8f434c-728f-4d67-8dfb-7d02d7c880e4",
   "metadata": {},
   "outputs": [],
   "source": [
    "\n",
    "pos_list = ['O-CS', 'O-IP', 'O-CS', 'O-TS', 'H-RQ', 'O-TS', 'O-TS', 'O-RQ', 'O-TS', 'O-RQ', 'O-TS', 'O-TS', 'O-RQ',\n",
    "            'O-RQ', 'H-RQ', 'O-PQ', 'O-RQ', 'O-TS', 'O-TS', 'O-TS', 'O-PQ', 'O-RQ', 'O-TS', 'O-TS', 'O-RQ', 'O-RQ',\n",
    "            'O-RQ', 'O-TS', 'O-JD', 'H-TS', 'O-CS', 'O-RQ', 'O-CS', 'O-RQ', 'O-CS', 'O-RQ']\n",
    "display_parts_of_speech(pos_list)"
   ]
  },
  {
   "cell_type": "code",
   "execution_count": 12,
   "id": "f83f1e7d-c102-4e5a-849a-39d81a8fc015",
   "metadata": {},
   "outputs": [
    {
     "name": "stdout",
     "output_type": "stream",
     "text": [
      "['O-RQ', 'H-TS', 'O-TS', 'O-TS', 'O-TS', 'O-RQ', 'O-TS', 'O-TS', 'O-TS', 'O-TS', 'O-TS', 'O-RQ', 'O-TS', 'H-RQ', 'O-ER', 'O-RQ', 'O-RQ', 'O-TS', 'H-TS', 'O-CS', 'O-RQ', 'O-RQ', 'O-TS', 'O-RQ', 'O-RQ', 'O-RQ', 'O-RQ', 'H-PQ', 'O-RQ', 'O-TS', 'O-RQ', 'H-CS', 'O-CS', 'O-SP', 'O-TS', 'O-LN', 'O-LN']\n",
      "[14, 15, 16, 20, 21, 23, 24, 25, 26]\n"
     ]
    },
    {
     "data": {
      "text/html": [
       "0 O-RQ) <span style=\"color:#aec7e880;\"> (O-RQ Required Qualifications Non-header)</span><br />1 H-TS) <span style=\"color:#1f77b4ff;\"> (H-TS Task Scope Header)</span><br />2 O-TS) <span style=\"color:#1f77b480;\"> (O-TS Task Scope Non-header)</span><br />3 O-TS) <span style=\"color:#1f77b480;\"> (O-TS Task Scope Non-header)</span><br />4 O-TS) <span style=\"color:#1f77b480;\"> (O-TS Task Scope Non-header)</span><br />5 O-RQ) <span style=\"color:#aec7e880;\"> (O-RQ Required Qualifications Non-header)</span><br />6 O-TS) <span style=\"color:#1f77b480;\"> (O-TS Task Scope Non-header)</span><br />7 O-TS) <span style=\"color:#1f77b480;\"> (O-TS Task Scope Non-header)</span><br />8 O-TS) <span style=\"color:#1f77b480;\"> (O-TS Task Scope Non-header)</span><br />9 O-TS) <span style=\"color:#1f77b480;\"> (O-TS Task Scope Non-header)</span><br />10 O-TS) <span style=\"color:#1f77b480;\"> (O-TS Task Scope Non-header)</span><br />11 O-RQ) <span style=\"color:#aec7e880;\"> (O-RQ Required Qualifications Non-header)</span><br />12 O-TS) <span style=\"color:#1f77b480;\"> (O-TS Task Scope Non-header)</span><br />13 H-RQ) <span style=\"color:#aec7e8ff;\"> (H-RQ Required Qualifications Header)</span><br /><hr />14 O-ER) <span style=\"color:#f7b6d280;\"> (O-ER Education Requirements Non-header)</span><br />15 O-RQ) <span style=\"color:#aec7e880;\"> (O-RQ Required Qualifications Non-header)</span><br />16 O-RQ) <span style=\"color:#aec7e880;\"> (O-RQ Required Qualifications Non-header)</span><br />17 O-TS) <span style=\"color:#1f77b480;\"> (O-TS Task Scope Non-header)</span><br />18 H-TS) <span style=\"color:#1f77b4ff;\"> (H-TS Task Scope Header)</span><br />19 O-CS) <span style=\"color:#bcbd2280;\"> (O-CS Corporate Scope Non-header)</span><br />20 O-RQ) <span style=\"color:#aec7e880;\"> (O-RQ Required Qualifications Non-header)</span><br />21 O-RQ) <span style=\"color:#aec7e880;\"> (O-RQ Required Qualifications Non-header)</span><br />22 O-TS) <span style=\"color:#1f77b480;\"> (O-TS Task Scope Non-header)</span><br />23 O-RQ) <span style=\"color:#aec7e880;\"> (O-RQ Required Qualifications Non-header)</span><br />24 O-RQ) <span style=\"color:#aec7e880;\"> (O-RQ Required Qualifications Non-header)</span><br />25 O-RQ) <span style=\"color:#aec7e880;\"> (O-RQ Required Qualifications Non-header)</span><br />26 O-RQ) <span style=\"color:#aec7e880;\"> (O-RQ Required Qualifications Non-header)</span><br /><hr />27 H-PQ) <span style=\"color:#ffbb78ff;\"> (H-PQ Preferred Qualifications Header)</span><br />28 O-RQ) <span style=\"color:#aec7e880;\"> (O-RQ Required Qualifications Non-header)</span><br />29 O-TS) <span style=\"color:#1f77b480;\"> (O-TS Task Scope Non-header)</span><br />30 O-RQ) <span style=\"color:#aec7e880;\"> (O-RQ Required Qualifications Non-header)</span><br />31 H-CS) <span style=\"color:#bcbd22ff;\"> (H-CS Corporate Scope Header)</span><br />32 O-CS) <span style=\"color:#bcbd2280;\"> (O-CS Corporate Scope Non-header)</span><br />33 O-SP) <span style=\"color:#c49c9480;\"> (O-SP Supplemental Pay Non-header)</span><br />34 O-TS) <span style=\"color:#1f77b480;\"> (O-TS Task Scope Non-header)</span><br />35 O-LN) <span style=\"color:#98df8a80;\"> (O-LN Legal Notifications Non-header)</span><br />36 O-LN) <span style=\"color:#98df8a80;\"> (O-LN Legal Notifications Non-header)</span><br />"
      ],
      "text/plain": [
       "<IPython.core.display.HTML object>"
      ]
     },
     "metadata": {},
     "output_type": "display_data"
    }
   ],
   "source": [
    "\n",
    "pos_list = ['O-RQ', 'H-TS', 'O-TS', 'O-TS', 'O-TS', 'O-RQ', 'O-TS', 'O-TS', 'O-TS', 'O-TS', 'O-TS', 'O-RQ', 'O-TS',\n",
    "            'H-RQ', 'O-ER', 'O-RQ', 'O-RQ', 'O-TS', 'H-TS', 'O-CS', 'O-RQ', 'O-RQ', 'O-TS', 'O-RQ', 'O-RQ', 'O-RQ',\n",
    "            'O-RQ', 'H-PQ', 'O-RQ', 'O-TS', 'O-RQ', 'H-CS', 'O-CS', 'O-SP', 'O-TS', 'O-LN', 'O-LN']\n",
    "display_parts_of_speech(pos_list)"
   ]
  }
 ],
 "metadata": {
  "kernelspec": {
   "display_name": "Python 3 (ipykernel)",
   "language": "python",
   "name": "python3"
  },
  "language_info": {
   "codemirror_mode": {
    "name": "ipython",
    "version": 3
   },
   "file_extension": ".py",
   "mimetype": "text/x-python",
   "name": "python",
   "nbconvert_exporter": "python",
   "pygments_lexer": "ipython3",
   "version": "3.9.7"
  }
 },
 "nbformat": 4,
 "nbformat_minor": 5
}
