{
 "cells": [
  {
   "cell_type": "code",
   "execution_count": 1,
   "id": "44293305-4546-456c-b5c0-1b2c46254c97",
   "metadata": {},
   "outputs": [
    {
     "name": "stdout",
     "output_type": "stream",
     "text": [
      "Pretty printing has been turned OFF\n",
      "======== Neo4j/4.4.7 ========\n",
      "Utility libraries created in 6 seconds\n"
     ]
    }
   ],
   "source": [
    "\n",
    "# Set up notebook\n",
    "%pprint\n",
    "import sys\n",
    "import os.path as osp\n",
    "sys.path.insert(1, osp.abspath(osp.join(os.pardir, 'py')))\n",
    "from jobpostlib import nu\n",
    "nu.delete_ipynb_checkpoint_folders()"
   ]
  },
  {
   "cell_type": "code",
   "execution_count": 2,
   "id": "92645824-4b2e-4f03-8a85-4c8a68b39181",
   "metadata": {},
   "outputs": [
    {
     "data": {
      "text/plain": [
       "['CrfUtilities', 'CypherUtilities', 'HeaderAnalysis', 'HeaderCategories', 'IsHeaderSgdClassifier', 'LrUtilities', 'NotebookUtilities', 'SectionCRFClassifierUtilities', 'SectionLRClassifierUtilities', 'SectionSGDClassifierUtilities', 'SectionUtilities', 'ServiceUnavailable', 'WebScrapingUtilities', 'crf', 'crf_utils', 'cu', 'cypher_utils', 'datetime', 'duration', 'duration_str', 'freq', 'ha_utils', 'hau', 'hc', 'hc_utils', 'humanize', 'ihu', 'is_header_sgd_classifier', 'lr_utils', 'lru', 'notebook_utils', 'pos_symbol_sgd_classifiers', 'pre_set', 'scrape_utils', 'scrfcu', 'secrets_json_path', 'section_classifier_utils', 'section_utils', 'slrcu', 'ssgdcu', 'su', 't0', 't1', 'time', 'version_str', 'winsound', 'wsu']"
      ]
     },
     "execution_count": 2,
     "metadata": {},
     "output_type": "execute_result"
    }
   ],
   "source": [
    "\n",
    "pre_set = set(dir())\n",
    "from jobpostlib import (\n",
    "    CrfUtilities,\n",
    "    CypherUtilities,\n",
    "    HeaderAnalysis,\n",
    "    HeaderCategories,\n",
    "    IsHeaderSgdClassifier,\n",
    "    LrUtilities,\n",
    "    NotebookUtilities,\n",
    "    SectionCRFClassifierUtilities,\n",
    "    SectionLRClassifierUtilities,\n",
    "    SectionSGDClassifierUtilities,\n",
    "    SectionUtilities,\n",
    "    ServiceUnavailable,\n",
    "    WebScrapingUtilities,\n",
    "    crf,\n",
    "    crf_utils,\n",
    "    cu,\n",
    "    cypher_utils,\n",
    "    datetime,\n",
    "    duration,\n",
    "    duration_str,\n",
    "    freq,\n",
    "    ha_utils,\n",
    "    hau,\n",
    "    hc,\n",
    "    hc_utils,\n",
    "    humanize,\n",
    "    ihu,\n",
    "    is_header_sgd_classifier,\n",
    "    lr_utils,\n",
    "    lru,\n",
    "    notebook_utils,\n",
    "    nu,\n",
    "    osp,\n",
    "    pos_symbol_sgd_classifiers,\n",
    "    scrape_utils,\n",
    "    scrfcu,\n",
    "    secrets_json_path,\n",
    "    section_classifier_utils,\n",
    "    section_utils,\n",
    "    slrcu,\n",
    "    ssgdcu,\n",
    "    su,\n",
    "    t0,\n",
    "    t1,\n",
    "    time,\n",
    "    version_str,\n",
    "    winsound,\n",
    "    wsu\n",
    ")\n",
    "post_set = set(dir())\n",
    "sorted(post_set.difference(pre_set))"
   ]
  },
  {
   "cell_type": "code",
   "execution_count": 3,
   "id": "4341412b-72af-498f-85ec-015e4c7af72c",
   "metadata": {},
   "outputs": [],
   "source": [
    "\n",
    "# Set up notebook for testing\n",
    "sys.path.insert(1, '../tests')"
   ]
  },
  {
   "cell_type": "code",
   "execution_count": 4,
   "id": "19504feb-41b6-42ba-ac10-a13f40f01166",
   "metadata": {},
   "outputs": [],
   "source": [
    "\n",
    "import unittest"
   ]
  },
  {
   "cell_type": "code",
   "execution_count": null,
   "id": "7d4285f4-3dab-4854-8898-aee456544295",
   "metadata": {},
   "outputs": [],
   "source": [
    "\n",
    "# Create another test suite\n",
    "suite = unittest.TestSuite()\n",
    "\n",
    "# Add all test cases from the class to the suite\n",
    "from test_crf import TestCrfMethods\n",
    "suite.addTest(unittest.makeSuite(TestCrfMethods))\n",
    "\n",
    "# Run the test suite\n",
    "runner = unittest.TextTestRunner()\n",
    "runner.run(suite)"
   ]
  },
  {
   "cell_type": "markdown",
   "id": "6d3d9f71-3ee7-445f-8750-b8a1697793fd",
   "metadata": {},
   "source": [
    "\n",
    "# Create some good Mock Data"
   ]
  },
  {
   "cell_type": "code",
   "execution_count": 15,
   "id": "3061b8aa-b062-4b42-a129-901b39852cea",
   "metadata": {},
   "outputs": [
    {
     "data": {
      "text/plain": [
       "True"
      ]
     },
     "execution_count": 15,
     "metadata": {},
     "output_type": "execute_result"
    }
   ],
   "source": [
    "\n",
    "# Get all the non-hemorrhaging procedures\n",
    "from random import choices\n",
    "import pandas as pd\n",
    "from pandas import DataFrame, Series, concat\n",
    "from numpy import nan"
   ]
  },
  {
   "cell_type": "code",
   "execution_count": 34,
   "id": "f4df99b4-c0b0-4e23-a0aa-a84f08bf0002",
   "metadata": {},
   "outputs": [
    {
     "name": "stdout",
     "output_type": "stream",
     "text": [
      "\n",
      "        # Create a sample DataFrame\n",
      "        self.describable_df = DataFrame({\n",
      "            'triage_time': [461207, 615663, 649185, 19615, 488626],\n",
      "            'last_controlled_time': [377263, 574558, 462280, 0, 321956]\n",
      "        })\n"
     ]
    }
   ],
   "source": [
    "\n",
    "df = describable_df.sample(5)\n",
    "print(f\"\"\"\n",
    "        # Create a sample DataFrame\n",
    "        self.describable_df = DataFrame({{\n",
    "            'triage_time': {df.triage_time.tolist()},\n",
    "            'last_controlled_time': {df.last_controlled_time.tolist()}\n",
    "        }})\"\"\")"
   ]
  },
  {
   "cell_type": "code",
   "execution_count": null,
   "id": "ac6f7720-fea3-42a7-a3fc-7ecaecc4d8d9",
   "metadata": {},
   "outputs": [],
   "source": []
  }
 ],
 "metadata": {
  "kernelspec": {
   "display_name": "Python 3 (ipykernel)",
   "language": "python",
   "name": "python3"
  },
  "language_info": {
   "codemirror_mode": {
    "name": "ipython",
    "version": 3
   },
   "file_extension": ".py",
   "mimetype": "text/x-python",
   "name": "python",
   "nbconvert_exporter": "python",
   "pygments_lexer": "ipython3",
   "version": "3.9.18"
  }
 },
 "nbformat": 4,
 "nbformat_minor": 5
}
