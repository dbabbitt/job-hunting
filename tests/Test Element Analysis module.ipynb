{
 "cells": [
  {
   "cell_type": "code",
   "execution_count": null,
   "id": "6e0a2ad8-c447-4f03-bc36-fa4a19111f8f",
   "metadata": {},
   "outputs": [],
   "source": []
  },
  {
   "cell_type": "code",
   "execution_count": 5,
   "id": "af7c800a-1aa8-4d46-9b9c-36ddb79864b4",
   "metadata": {},
   "outputs": [
    {
     "name": "stdout",
     "output_type": "stream",
     "text": [
      "Pretty printing has been turned OFF\n"
     ]
    }
   ],
   "source": [
    "\n",
    "%pprint"
   ]
  },
  {
   "cell_type": "code",
   "execution_count": 1,
   "id": "6a809414-71f9-4933-ae23-b0aa6d424af7",
   "metadata": {},
   "outputs": [
    {
     "name": "stdout",
     "output_type": "stream",
     "text": [
      "CPU times: total: 1min 31s\n",
      "Wall time: 1min 35s\n"
     ]
    }
   ],
   "source": [
    "\n",
    "%%time\n",
    "import sys\n",
    "import os\n",
    "sys.path.insert(1, '../py')\n",
    "\n",
    "from ha_utils import HeaderAnalysis\n",
    "ha = HeaderAnalysis(s=s, verbose=False)\n",
    "\n",
    "from scrape_utils import WebScrapingUtilities\n",
    "wsu = WebScrapingUtilities()\n",
    "uri = wsu.secrets_json['neo4j']['connect_url']\n",
    "user =  wsu.secrets_json['neo4j']['username']\n",
    "password = wsu.secrets_json['neo4j']['password']\n",
    "\n",
    "from storage import Storage\n",
    "s = Storage()\n",
    "\n",
    "from cypher_utils import CypherUtilities\n",
    "cu = CypherUtilities(uri=uri, user=user, password=password, driver=None, s=s, ha=ha)\n",
    "\n",
    "from hc_utils import HeaderCategories\n",
    "hc = HeaderCategories(cu=cu, verbose=False)\n",
    "\n",
    "from html_analysis import ElementAnalysis\n",
    "ea = ElementAnalysis(ha=ha, hc=hc, verbose=False)\n",
    "\n",
    "from lr_utils import LrUtilities\n",
    "lru = LrUtilities(ha=ha, cu=cu, hc=hc, verbose=False)\n",
    "slrcu.build_pos_logistic_regression_elements()\n",
    "\n",
    "from crf_utils import CrfUtilities\n",
    "crf = CrfUtilities(ha=ha, hc=hc, cu=cu, verbose=False)\n",
    "\n",
    "import warnings\n",
    "warnings.filterwarnings('ignore')"
   ]
  },
  {
   "cell_type": "code",
   "execution_count": 2,
   "id": "668dc213-84dd-4671-8f7b-a518e85014a9",
   "metadata": {},
   "outputs": [],
   "source": [
    "\n",
    "test_child_strs_list = ['<b>The Role:</b>', \"<p>As the Director of Data Science at Brightloom, you'll lead the data science team and \" +\n",
    "                        \"partner across the organization to help grow our data science capabilities. You'll be \" +\n",
    "                        \"taking business needs from product and engineering teams and creating a comprehensive data \" +\n",
    "                        \"science strategy around them. From there, you help prioritize the work for the data science \" +\n",
    "                        \"team, balancing the work for the team and helping the independent contributors be their best. \" +\n",
    "                        \"You will heavily engage with the application engineering, data engineering, and data science \" +\n",
    "                        \"technical leads to ensure that your data science strategies are operationalized effectively.</p>\",\n",
    "                        \"<p>You're a person who loves helping others work together to do interesting data science. You \" +\n",
    "                        \"can evangelize a data science idea to non-technical people, and you can deal with the \" +\n",
    "                        \"realities of a complex business and figure out how to have data science contribute in a \" +\n",
    "                        \"positive way. You enjoy leading data scientists so they can do strong work, and helping to \" +\n",
    "                        \"elevate the data scientist's concerns when they raise them.</p>\", \"<b>What you'll do:</b>\",\n",
    "                        \"<li>Lead the data science team as their manager - helping devise projects, removing blockers, \" +\n",
    "                        \"and engaging with independent contributors. You'll be hiring more data scientists and \" +\n",
    "                        \"eventually hire managers to do this part of the job for you.</li>\",\n",
    "                        '<li>Represent the data science discipline throughout the organization. You will have a ' +\n",
    "                        'powerful voice in the company and represent data scientists across different parts of the ' + 'business.</li>',\n",
    "                        '<li>Partner across Brightloom engineering groups; evangelizing our culture of using data to ' +\n",
    "                        'measure, understand, and improve our product and features.</li>',\n",
    "                        '<li>Be a strong leader - you will give team members clear feedback that helps them grow ' +\n",
    "                        'and inspires thought leadership. You will lead by example, have compassion for everyone in ' +\n",
    "                        'the company and their challenges, and will take controversial directions when necessary.</li>',\n",
    "                        '<li>Be an expert in interpreting data and understanding its conclusions - your team will ' +\n",
    "                        'be creating lots of powerful insights and you will be finding the valuable implications of ' + 'that data.</li>',\n",
    "                        '<li>Own the data science technical roadmap - take the business priorities from the product ' +\n",
    "                        'team and turn them into a set of projects the data science team will focus on delivering.</li>',\n",
    "                        \"<li>Be involved in new product development - as the product team thinks of new ways to take \" +\n",
    "                        \"customer feedback and create a better product, you'll be heavily involved with assessing \" +\n",
    "                        \"what is feasible from a data science perspective.</li>\", '<b>About you:</b>',\n",
    "                        '<li>Demonstrated experience building and developing a team</li>',\n",
    "                        '<li>Demonstrated experience putting a data science product into market, ideally in a startup</li>',\n",
    "                        '<li>Experience in the marketing, retail, or restaurant domain</li>',\n",
    "                        '<li>Foundational understanding of the data science ecosystem</li>', '<b>About Us</b>',\n",
    "                        '<p>At Brightloom (formerly eatsa), we are working to revolutionize restaurants through ' +\n",
    "                        'innovative technology and design. We are disrupting an industry worth $900 billion globally ' +\n",
    "                        'with partnerships in North America, Asia, and soon other continents.</p>',\n",
    "                        '<p>Led by our CEO, industry veteran and former Starbucks and J.Crew executive Adam Brotman, our ' +\n",
    "                        'unique, world-class team combines software and hardware engineers, designers, and industry ' +\n",
    "                        'experts to push the boundaries on re-engineering every aspect of the restaurant experience.</p>',\n",
    "                        \"<p>We believe any restaurant brand should be able to engage customers digitally using a \" +\n",
    "                        \"seamless combination of mobile, omni-channel ordering and loyalty offerings. Up until now, \" +\n",
    "                        \"only a select few brands could afford, or knew how to put together a top-notch digital \" +\n",
    "                        \"engagement and ordering platform. With key Starbucks technology components integrated into \" +\n",
    "                        \"our platform, Brightloom will now allow any restaurant brand to create their own version of a \" +\n",
    "                        \"world-class digital flywheel ecosystem. Brightloom's configurable technology suite combines \" +\n",
    "                        \"convenience (digital ordering channels), personal connection (personalized marketing) and \" +\n",
    "                        \"engagement (loyalty) for restaurant brands in today's new digital era.</p>\", '<b>What We Offer</b>',\n",
    "                        '<li>Fun, creative and collaborative remote work environment</li>', '<li>Competitive pay and equity/stock options</li>',\n",
    "                        '<li>Health, Dental &amp; Vision Insurance Coverage</li>', '<li>Life Insurance, Short-Term Disability, Long-Term Disability</li>',\n",
    "                        '<li>Phone/Internet Reimbursement</li>', '<li>Home Office Refresh Reimbursement</li>', '<li>Employee Assistance Program</li>',\n",
    "                        '<li>Flexible Spending Account &amp; Health Savings Account</li>', '<li>Flexible Time Off</li>', '<li>401(k)</li>',\n",
    "                        '<p>Brightloom is an Equal Employment Opportunity Employer. All qualified applicants will ' +\n",
    "                        'receive consideration for employment without regard to race, color, religion, sex, national ' +\n",
    "                        'origin, sexual orientation, gender identity, disability and protected veterans status or any ' +\n",
    "                        'other characteristic protected by law.</p>']"
   ]
  },
  {
   "cell_type": "code",
   "execution_count": 3,
   "id": "b13f7dc7-8f94-44bb-9736-871d3ea2bd83",
   "metadata": {},
   "outputs": [],
   "source": [
    "\n",
    "consecutives_list, pos_list = su.find_basic_quals_section_indexes(test_child_strs_list, crf=crf, verbose=False)"
   ]
  },
  {
   "cell_type": "code",
   "execution_count": 8,
   "id": "ca349bbc-9381-4033-9b6d-ebd50da81230",
   "metadata": {},
   "outputs": [],
   "source": [
    "\n",
    "\n",
    "test_child_strs_list = ['<h2 class=\"jobsearch-JobDescriptionSection-title--main icl-u-textBold\" id=\"jobDetails\" ' +\n",
    "                        'tabindex=\"-1\">Job details</h2>', '<div class=\"jobsearch-JobDescriptionSection-sectionItemKey icl-u-textBold\">Job Type</div>',\n",
    "                        '<div>Full-time</div>', 'Benefits', '<div class=\"css-brixrz e1wnkr790\">Pulled from the full job description</div>',\n",
    "                        '<div class=\"css-tvvxwd ecydgvn1\">401(k)</div>', '<div class=\"css-tvvxwd ecydgvn1\">401(k) matching</div>',\n",
    "                        '<div class=\"css-tvvxwd ecydgvn1\">AD&amp;D insurance</div>', '<div class=\"css-tvvxwd ecydgvn1\">Cell phone reimbursement</div>',\n",
    "                        '<div class=\"css-tvvxwd ecydgvn1\">Commuter assistance</div>', '<div class=\"css-tvvxwd ecydgvn1\">Dental insurance</div>',\n",
    "                        '<span class=\"css-1ysvuef e1wnkr790\">Show 7 more benefits</span>',\n",
    "                        '<h2 class=\"jobsearch-JobDescriptionSection-jobDescriptionTitle\">Indeed\\'s salary guide</h2>',\n",
    "                        '<li class=\"css-vktqis eu4oa1w0\">Not provided by employer</li>',\n",
    "                        \"$71.7K - $90.7K a year is Indeed's estimated salary for this role in Remote.\",\n",
    "                        '<h2 class=\"jobsearch-JobDescriptionSection-jobDescriptionTitle icl-u-xs-my--md\" ' +\n",
    "                        'id=\"jobDescriptionTitle\">Full Job Description</h2>',\n",
    "                        '<p>Help us grow into an ever-evolving marketplace! We are seeking an experienced and detail-oriented ' +\n",
    "                        'Data/Business Analyst to help guide data-driven business and product decisions through analytics!</p>', '<b>WHAT WE DO</b>',\n",
    "                        \"<p>Betterview is the Property Intelligence &amp; Risk Management Platform that leading P&amp;C \" +\n",
    "                        \"insurance companies depend on to identify and mitigate risk, improve operational and inspection \" +\n",
    "                        \"efficiency, and build a more transparent customer experience throughout the policy lifecycle. By \" +\n",
    "                        \"empowering insurers to automate pricing, underwriting, and renewal while focusing strategic action \" +\n",
    "                        \"on critical properties, Betterview is transforming the insurance industry from Repair and Replace to \" +\n",
    "                        \"Predict and Prevent. Combining continuously evolving AI, predictive analytics, computer vision, and \" +\n",
    "                        \"customizable workflows to geospatial imagery with \" +\n",
    "                        \"commercial, private, and public data, Betterview supports each business's unique needs through \" +\n",
    "                        \"transparent, actionable property insights.</p>\",\n",
    "                        '<p>Every day, our diverse team is focused on the needs of our customers. We strive to earn their ' +\n",
    "                        'trust by providing valuable, accurate insight that is important to their businesses. We provide our ' +\n",
    "                        'customers with information that is not only useful to their business decisions but is easy to use. ' +\n",
    "                        'We combine high quality human interactions with sleek, intuitive design and are pioneers on the ' +\n",
    "                        'journey alongside our customers, who are transforming the way they do business with data-driven ' + 'decision-making.</p>',\n",
    "                        '<b>THE OPPORTUNITY</b>', '<p>In this exciting position, you will have the opportunity to provide support that ultimately ' +\n",
    "                        'guides Betterview in improving products, services and software through analytics. You will focus on ' +\n",
    "                        'performing detailed requirements analysis, documenting processes and some level of performance ' +\n",
    "                        'testing. Your excellent communication and collaboration skills will come in handy as you will engage ' +\n",
    "                        'with a cross functional team and customers to determine and evaluate business metrics to meet ' +\n",
    "                        'ongoing organizational or customer information needs. You will also be responsible for giving ' +\n",
    "                        'presentations, internally and externally, using industry expertise to develop impactful metrics and ' +\n",
    "                        'statistics on custom data sets.</p>', '<b>WHAT YOU WILL BE DOING</b>',\n",
    "                        '<li>Analyzing and reporting complex data to meet customer needs; communicating complex data in ' + 'comprehensible ways;</li>',\n",
    "                        '<li>Merging, consolidating, cleansing data from multiple non-standardized sources to perform ' +\n",
    "                        'analytics combined with internal datasets;</li>',\n",
    "                        '<li>Analyzing trends in customer issues to facilitate product improvement;</li>',\n",
    "                        '<li>Developing expertise in product knowledge to facilitate Customer workshop preparation;</li>',\n",
    "                        '<li>Critically evaluating information from multiple sources and clearly indicating quality of final ' + 'analysis;</li>',\n",
    "                        '<li>Performing requirements analysis; documenting results;</li>',\n",
    "                        '<li>Conducting insurance industry retros; identifying flags based on book analysis and retro ' + 'results;</li>',\n",
    "                        '<li>Applying insurance industry knowledge to projects to add value within graphical and analytical ' + 'results.</li>',\n",
    "                        '<b>Requirements</b>', '<b>WHAT YOU WILL BRING TO OUR COMPANY</b>', \"<li>Bachelor's degree required.</li>\",\n",
    "                        '<li>3+ years’ experience in business analysis or related field.</li>', '<li>Advanced technical skills with SQL, Excel, BI.</li>',\n",
    "                        '<li>Excellent presentation building skills using PowerPoint/keynotes and graphic design skills.</li>',\n",
    "                        '<li>Experience in creating detailed reports and presentations while being able to work independently ' +\n",
    "                        'to deliver in-depth insights based on varying requirements.</li>',\n",
    "                        '<li>Property Insurance domain knowledge and experience in the industry – especially around data and ' +\n",
    "                        'analytics – is highly desired.</li>', '<li>Light Python/Jupyter Notebooks knowledge is a plus.</li>',\n",
    "                        '<i>THE SUCCESSFUL CANDIDATE</i>',\n",
    "                        '<li>Has the ability to merge, consolidate, cleanse data from multiple non-standardized sources to ' +\n",
    "                        'perform analytics combined with internal datasets.</li>', '<li>Can identify flags based on book analysis and retro results.</li>',\n",
    "                        '<li>Has in depth analytical and conceptual thinking skills.</li>', '<li>Has the ability/willingness to travel up to 10%.</li>',\n",
    "                        '<b>Benefits</b>', '<b>WHAT WE PROVIDE</b>', '<li>Compensation commensurate with experience.</li>',\n",
    "                        'Generous health benefits – medical, dental and vision.',\n",
    "                        '<li>Medical offerings include PPO, HMO, and HDHP options through Kaiser, Anthem Blue Cross, Sharp ' +\n",
    "                        'Health, and Sutter Health.</li>',\n",
    "                        '<li>Betterview covers 75% of the sponsored medical plan employee premium, 60% of dependents.</li>',\n",
    "                        '<li>For dental and vision, Betterview covers 75% of the employee premium, 50% of dependents.</li>', '401(k) Retirement Plan.',\n",
    "                        '<li>Betterview matches 100% of employee contributions up to the first 3% of pay, then 50% of ' +\n",
    "                        'employee contributions on the next 2% of pay.</li>', '<li>FSA and HSA.</li>', '<li>10 paid ' + 'holidays.</li>',\n",
    "                        '<li>Full-time employees receive 160 hours per year of paid time off; part-time employees accrue PTO ' +\n",
    "                        'on a pro-rated basis.</li>', '<li>Paid parental leave, up to 12 weeks of maternity / 4 weeks of paternity leave.</li>',\n",
    "                        '<li>Basic life and AD&amp;D insurance. Betterview pays 100% of the premium. Employees receive a ' +\n",
    "                        'benefit amount of $50,000.</li>', '<li>Shortterm disability. Betterview pays for 100% of the plan premium.</li>',\n",
    "                        '<li>Charity contribution match, up to $100.</li>', '<li>Cell phone reimbursement.</li>',\n",
    "                        '<li>Professional development reimbursement.</li>', '<li>Commuter benefits.</li>',\n",
    "                        '<i>COVID Vaccine is required as a condition of employment with Betterview. Reasonable accommodations ' +\n",
    "                        'will be considered.</i>', '<p>Betterview provides equal employment opportunities (EEO) to all employees and applicants for ' +\n",
    "                        'employment without regard to age, color, religion, sex, sexual orientation, gender identity, ' +\n",
    "                        'national origin, disability, genetics, veteran status, or other legally protected characteristics. ' +\n",
    "                        'In addition to federal law requirements, Betterview complies with applicable state and local laws ' +\n",
    "                        'governing nondiscrimination in employment in every location in which the company has facilities. ' +\n",
    "                        'This policy applies to all terms and conditions of employment, including recruiting, hiring, ' +\n",
    "                        'placement, promotion, termination, layoff, recall, transfer, leaves of absence, compensation, and ' + 'training.</p>',\n",
    "                        '<p>Betterview will not discriminate or retaliate against applicants who inquire about, disclose, or ' +\n",
    "                        'discuss their compensation or that of other applicants.</p>',\n",
    "                        '<p>Betterview will consider for employment all qualified applicants with criminal histories in a ' +\n",
    "                        'manner consistent with applicable law. If you’re applying for a position in San Francisco, review ' +\n",
    "                        'the guidelines applicable in your area.</p>',\n",
    "                        '<p>Betterview expressly prohibits any form of workplace harassment based on race, color, religion, ' +\n",
    "                        'gender, sexual orientation, gender identity or expression, national origin, age, genetic ' +\n",
    "                        'information, disability, or veteran status. Improper interference with the ability of Betterview ' +\n",
    "                        'employees to perform their job duties may result in discipline up to and including discharge.</p>',\n",
    "                        '<p>If you have a disability or special need that requires accommodation to complete this ' +\n",
    "                        'application, please let us know by contacting HR(at)Betterview(dot)com.</p>', '<p>_____________</p>', '<p>#LI-PS1</p>',\n",
    "                        '<h2 class=\"jobsearch-HiringInsights-header\">Hiring Insights</h2>',\n",
    "                        '<h4 class=\"jobsearch-HiringInsights-subheader\">Job activity</h4>',\n",
    "                        '<span class=\"jobsearch-HiringInsights-entry--text\">Posted 3 days ago</span>']"
   ]
  },
  {
   "cell_type": "code",
   "execution_count": 9,
   "id": "2e57f019-dfcd-47a1-ac54-40459ff93488",
   "metadata": {},
   "outputs": [],
   "source": [
    "\n",
    "consecutives_list, pos_list = su.find_basic_quals_section_indexes(test_child_strs_list, crf=crf, verbose=False)"
   ]
  },
  {
   "cell_type": "code",
   "execution_count": 12,
   "id": "1a396357-13d7-4665-b55b-3c2ffe235ead",
   "metadata": {},
   "outputs": [],
   "source": [
    "\n",
    "consecutives_list, pos_list = su.find_basic_quals_section_indexes(test_child_strs_list, crf=None, verbose=False)"
   ]
  },
  {
   "cell_type": "code",
   "execution_count": 14,
   "id": "2c523286-f0da-4493-977b-2d17bdb247dc",
   "metadata": {},
   "outputs": [
    {
     "data": {
      "text/plain": [
       "['O', 'H-JT', 'O', 'O', 'O', 'O', 'O', 'O', 'O', 'O', 'O', 'O', 'O', 'O', 'O', 'H-TS', 'O', 'O', 'O', 'O', 'O', 'O', 'O', 'O', 'O', 'O', 'O', 'O', 'O', 'O', 'O', 'H-RQ', 'O', 'O', 'O', 'O', 'O', 'O', 'O', 'O', 'O', 'O', 'O', 'O', 'O', 'H-SP', 'O', 'O', 'O', 'O', 'O', 'O', 'O', 'O', 'O', 'O', 'O', 'O', 'O', 'O', 'O', 'O', 'O', 'O', 'O', 'O', 'O', 'O', 'O', 'O', 'O', 'O', 'O', 'O', 'O']"
      ]
     },
     "execution_count": 14,
     "metadata": {},
     "output_type": "execute_result"
    }
   ],
   "source": [
    "\n",
    "pos_list"
   ]
  },
  {
   "cell_type": "code",
   "execution_count": null,
   "id": "e9f47f76-38da-4a9e-9be0-c8a64c5f8ef0",
   "metadata": {},
   "outputs": [],
   "source": []
  }
 ],
 "metadata": {
  "kernelspec": {
   "display_name": "Python 3 (ipykernel)",
   "language": "python",
   "name": "python3"
  },
  "language_info": {
   "codemirror_mode": {
    "name": "ipython",
    "version": 3
   },
   "file_extension": ".py",
   "mimetype": "text/x-python",
   "name": "python",
   "nbconvert_exporter": "python",
   "pygments_lexer": "ipython3",
   "version": "3.9.7"
  }
 },
 "nbformat": 4,
 "nbformat_minor": 5
}
