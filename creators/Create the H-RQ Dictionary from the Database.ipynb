{
 "cells": [
  {
   "cell_type": "code",
   "execution_count": 1,
   "metadata": {},
   "outputs": [
    {
     "name": "stdout",
     "output_type": "stream",
     "text": [
      "Pretty printing has been turned OFF\n"
     ]
    }
   ],
   "source": [
    "\n",
    "%pprint"
   ]
  },
  {
   "cell_type": "markdown",
   "metadata": {},
   "source": [
    "\n",
    "----\n",
    "# Create The Header Req Quals Dictionary"
   ]
  },
  {
   "cell_type": "code",
   "execution_count": 3,
   "metadata": {},
   "outputs": [
    {
     "name": "stdout",
     "output_type": "stream",
     "text": [
      "Wall time: 373 ms\n"
     ]
    }
   ],
   "source": [
    "\n",
    "%%time\n",
    "%run ../py/sql_utlis.py\n",
    "\n",
    "sqlu = SqlUtilities()\n",
    "perform_assert = False\n",
    "if sqlu.s.pickle_exists('H_RQ_DICT'):\n",
    "    H_RQ_DICT_old = sqlu.s.load_object('H_RQ_DICT')\n",
    "    perform_assert = True\n",
    "conn, cursor = sqlu.get_jh_conn_cursor()\n",
    "sqlu.create_h_rq_pickle(cursor, verbose=False)\n",
    "if perform_assert:\n",
    "    H_RQ_DICT_new = sqlu.s.load_object('H_RQ_DICT')\n",
    "    assert H_RQ_DICT_old == H_RQ_DICT_new"
   ]
  },
  {
   "cell_type": "code",
   "execution_count": null,
   "metadata": {},
   "outputs": [],
   "source": []
  }
 ],
 "metadata": {
  "anaconda-cloud": {},
  "kernelspec": {
   "display_name": "Job Hunting (Python 3.7.9)",
   "language": "python",
   "name": "jh"
  },
  "language_info": {
   "codemirror_mode": {
    "name": "ipython",
    "version": 3
   },
   "file_extension": ".py",
   "mimetype": "text/x-python",
   "name": "python",
   "nbconvert_exporter": "python",
   "pygments_lexer": "ipython3",
   "version": "3.7.9"
  }
 },
 "nbformat": 4,
 "nbformat_minor": 4
}
