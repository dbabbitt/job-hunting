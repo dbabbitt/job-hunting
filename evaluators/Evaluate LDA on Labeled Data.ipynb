{
 "cells": [
  {
   "cell_type": "code",
   "execution_count": 1,
   "metadata": {},
   "outputs": [
    {
     "name": "stdout",
     "output_type": "stream",
     "text": [
      "Pretty printing has been turned OFF\n"
     ]
    }
   ],
   "source": [
    "\n",
    "%pprint"
   ]
  },
  {
   "cell_type": "markdown",
   "metadata": {},
   "source": [
    "\n",
    "## Let's use our labeled data to train a Latent Dirichlet Allocation model"
   ]
  },
  {
   "cell_type": "code",
   "execution_count": 2,
   "metadata": {},
   "outputs": [
    {
     "name": "stdout",
     "output_type": "stream",
     "text": [
      "Wall time: 24.8 s\n"
     ]
    }
   ],
   "source": [
    "\n",
    "%%time\n",
    "%run ../py/html_analysis.py\n",
    "\n",
    "lda = LdaUtilities(verbose=True)"
   ]
  },
  {
   "cell_type": "code",
   "execution_count": 3,
   "metadata": {},
   "outputs": [
    {
     "data": {
      "text/plain": [
       "'O'"
      ]
     },
     "execution_count": 3,
     "metadata": {},
     "output_type": "execute_result"
    }
   ],
   "source": [
    "\n",
    "sent_str = '<b>SQL experience</b>'\n",
    "lda.lda_predict_single(sent_str)"
   ]
  },
  {
   "cell_type": "code",
   "execution_count": 4,
   "metadata": {},
   "outputs": [
    {
     "data": {
      "text/plain": [
       "'O'"
      ]
     },
     "execution_count": 4,
     "metadata": {},
     "output_type": "execute_result"
    }
   ],
   "source": [
    "\n",
    "sent_str = 'You work here.'\n",
    "lda.lda_predict_single(sent_str)"
   ]
  },
  {
   "cell_type": "code",
   "execution_count": 5,
   "metadata": {},
   "outputs": [
    {
     "data": {
      "text/plain": [
       "['lda.LDA_CORPUS', 'lda.LDA_DICTIONARY', 'lda.NAVIGABLE_PARENT_IS_HEADER_DICT', 'lda.TOPIC_MODEL', 'lda.build_corpus', 'lda.build_dictionary', 'lda.build_lda_predict_single', 'lda.build_topic_model', 'lda.conn', 'lda.cursor', 'lda.get_pos_count', 'lda.get_tokenized_sents_list', 'lda.ha', 'lda.hc', 'lda.lda_predict_single', 'lda.stopwords_list', 'lda.su', 'lda.tokenized_sents_list', 'lda.topic_dict']"
      ]
     },
     "execution_count": 5,
     "metadata": {},
     "output_type": "execute_result"
    }
   ],
   "source": [
    "\n",
    "[f'lda.{fn}' for fn in dir(lda) if not fn.startswith('_')]"
   ]
  },
  {
   "cell_type": "code",
   "execution_count": 6,
   "metadata": {},
   "outputs": [
    {
     "data": {
      "text/plain": [
       "['d.add_documents', 'd.cfs', 'd.compactify', 'd.dfs', 'd.doc2bow', 'd.doc2idx', 'd.filter_extremes', 'd.filter_n_most_frequent', 'd.filter_tokens', 'd.from_corpus', 'd.from_documents', 'd.get', 'd.id2token', 'd.items', 'd.iteritems', 'd.iterkeys', 'd.itervalues', 'd.keys', 'd.load', 'd.load_from_text', 'd.merge_with', 'd.num_docs', 'd.num_nnz', 'd.num_pos', 'd.patch_with_special_tokens', 'd.save', 'd.save_as_text', 'd.token2id', 'd.values']"
      ]
     },
     "execution_count": 6,
     "metadata": {},
     "output_type": "execute_result"
    }
   ],
   "source": [
    "\n",
    "d = lda.LDA_DICTIONARY\n",
    "[f'd.{fn}' for fn in dir(d) if not fn.startswith('_')]"
   ]
  },
  {
   "cell_type": "code",
   "execution_count": 7,
   "metadata": {},
   "outputs": [
    {
     "name": "stdout",
     "output_type": "stream",
     "text": [
      "259 Preferred\n",
      "15 clinical\n",
      "103 which\n",
      "249 communicate\n",
      "268 employer\n",
      "25 etc\n",
      "201 teams\n",
      "244 create\n",
      "209 value\n",
      "160 Ability\n"
     ]
    }
   ],
   "source": [
    "\n",
    "import random\n",
    "\n",
    "for k, v in random.sample(d.items(), 10):\n",
    "    print(k, v)"
   ]
  },
  {
   "cell_type": "code",
   "execution_count": 8,
   "metadata": {},
   "outputs": [
    {
     "data": {
      "text/plain": [
       "['c.append', 'c.clear', 'c.copy', 'c.count', 'c.extend', 'c.index', 'c.insert', 'c.pop', 'c.remove', 'c.reverse', 'c.sort']"
      ]
     },
     "execution_count": 8,
     "metadata": {},
     "output_type": "execute_result"
    }
   ],
   "source": [
    "\n",
    "c = lda.LDA_CORPUS\n",
    "[f'c.{fn}' for fn in dir(c) if not fn.startswith('_')]"
   ]
  },
  {
   "cell_type": "code",
   "execution_count": 9,
   "metadata": {},
   "outputs": [
    {
     "data": {
      "text/plain": [
       "[[(25, 1), (165, 1), (227, 1), (245, 1), (304, 1), (305, 1)], [(114, 1), (285, 1)]]"
      ]
     },
     "execution_count": 9,
     "metadata": {},
     "output_type": "execute_result"
    }
   ],
   "source": [
    "\n",
    "random.sample(c, 2)"
   ]
  },
  {
   "cell_type": "code",
   "execution_count": 10,
   "metadata": {},
   "outputs": [
    {
     "data": {
      "text/plain": [
       "['tm.alpha', 'tm.bound', 'tm.callbacks', 'tm.chunksize', 'tm.clear', 'tm.decay', 'tm.diff', 'tm.dispatcher', 'tm.distributed', 'tm.do_estep', 'tm.do_mstep', 'tm.dtype', 'tm.eta', 'tm.eval_every', 'tm.expElogbeta', 'tm.gamma_threshold', 'tm.get_document_topics', 'tm.get_term_topics', 'tm.get_topic_terms', 'tm.get_topics', 'tm.id2word', 'tm.inference', 'tm.init_dir_prior', 'tm.iterations', 'tm.load', 'tm.log_perplexity', 'tm.minimum_phi_value', 'tm.minimum_probability', 'tm.num_terms', 'tm.num_topics', 'tm.num_updates', 'tm.numworkers', 'tm.offset', 'tm.optimize_alpha', 'tm.optimize_eta', 'tm.passes', 'tm.per_word_topics', 'tm.print_topic', 'tm.print_topics', 'tm.random_state', 'tm.save', 'tm.show_topic', 'tm.show_topics', 'tm.state', 'tm.sync_state', 'tm.top_topics', 'tm.update', 'tm.update_alpha', 'tm.update_eta', 'tm.update_every']"
      ]
     },
     "execution_count": 10,
     "metadata": {},
     "output_type": "execute_result"
    }
   ],
   "source": [
    "\n",
    "tm = lda.TOPIC_MODEL\n",
    "[f'tm.{fn}' for fn in dir(tm) if not fn.startswith('_')]"
   ]
  },
  {
   "cell_type": "code",
   "execution_count": 11,
   "metadata": {},
   "outputs": [
    {
     "data": {
      "text/plain": [
       "(2, 306)"
      ]
     },
     "execution_count": 11,
     "metadata": {},
     "output_type": "execute_result"
    }
   ],
   "source": [
    "\n",
    "# Was (26, 6020)\n",
    "tm.get_topics().shape"
   ]
  },
  {
   "cell_type": "markdown",
   "metadata": {},
   "source": [
    "\n",
    "## Test its accuracy"
   ]
  },
  {
   "cell_type": "code",
   "execution_count": 12,
   "metadata": {},
   "outputs": [],
   "source": [
    "\n",
    "true_positive_count = false_negative_count = true_negative_count = false_positive_count = 0\n",
    "y_true = []\n",
    "y_pred = []\n",
    "for sent_str, is_header in lda.NAVIGABLE_PARENT_IS_HEADER_DICT.items():\n",
    "    y_true.append(['O', 'H'][is_header])\n",
    "    prediction = lda.lda_predict_single(sent_str)\n",
    "    y_pred.append(prediction)\n",
    "    \n",
    "    # True positives and false negatives\n",
    "    if is_header:\n",
    "        if prediction == 'H':\n",
    "            true_positive_count += 1\n",
    "        else:\n",
    "            false_negative_count += 1\n",
    "    \n",
    "    # True negatives and false positives\n",
    "    else:\n",
    "        if prediction == 'O':\n",
    "            true_negative_count += 1\n",
    "        else:\n",
    "            false_positive_count += 1"
   ]
  },
  {
   "cell_type": "code",
   "execution_count": 13,
   "metadata": {},
   "outputs": [
    {
     "data": {
      "text/plain": [
       "(56, 1212, 6679, 2629)"
      ]
     },
     "execution_count": 13,
     "metadata": {},
     "output_type": "execute_result"
    }
   ],
   "source": [
    "\n",
    "# (1164, 104, 5341, 3967)\n",
    "true_positive_count, false_negative_count, false_positive_count, true_negative_count"
   ]
  },
  {
   "cell_type": "code",
   "execution_count": 14,
   "metadata": {},
   "outputs": [
    {
     "data": {
      "text/plain": [
       "array([[  56, 1212],\n",
       "       [6679, 2629]], dtype=int64)"
      ]
     },
     "execution_count": 14,
     "metadata": {},
     "output_type": "execute_result"
    }
   ],
   "source": [
    "\n",
    "from sklearn.metrics import confusion_matrix\n",
    "\n",
    "confusion_matrix(y_true, y_pred)"
   ]
  },
  {
   "cell_type": "raw",
   "metadata": {},
   "source": [
    "\n",
    "              precision    recall  f1-score   support\n",
    "\n",
    "           H       0.18      0.92      0.30      1268\n",
    "           O       0.97      0.43      0.59      9308\n",
    "\n",
    "    accuracy                           0.49     10576\n",
    "   macro avg       0.58      0.67      0.45     10576\n",
    "weighted avg       0.88      0.49      0.56     10576"
   ]
  },
  {
   "cell_type": "code",
   "execution_count": 15,
   "metadata": {},
   "outputs": [
    {
     "name": "stdout",
     "output_type": "stream",
     "text": [
      "              precision    recall  f1-score   support\n",
      "\n",
      "           H       0.01      0.04      0.01      1268\n",
      "           O       0.68      0.28      0.40      9308\n",
      "\n",
      "    accuracy                           0.25     10576\n",
      "   macro avg       0.35      0.16      0.21     10576\n",
      "weighted avg       0.60      0.25      0.35     10576\n",
      "\n"
     ]
    }
   ],
   "source": [
    "\n",
    "from sklearn.metrics import classification_report\n",
    "\n",
    "print(classification_report(y_true, y_pred))"
   ]
  },
  {
   "cell_type": "code",
   "execution_count": 16,
   "metadata": {},
   "outputs": [
    {
     "data": {
      "image/png": "[encoded data removed]",
      "text/plain": [
       "<Figure size 432x288 with 2 Axes>"
      ]
     },
     "metadata": {
      "needs_background": "light"
     },
     "output_type": "display_data"
    }
   ],
   "source": [
    "\n",
    "from sklearn.metrics import ConfusionMatrixDisplay\n",
    "\n",
    "cm = confusion_matrix(y_true, y_pred)\n",
    "\n",
    "cm_display = ConfusionMatrixDisplay(cm).plot()"
   ]
  },
  {
   "cell_type": "code",
   "execution_count": 18,
   "metadata": {},
   "outputs": [
    {
     "data": {
      "text/plain": [
       "-5.31989505604152"
      ]
     },
     "execution_count": 18,
     "metadata": {},
     "output_type": "execute_result"
    }
   ],
   "source": [
    "\n",
    "# Compute Perplexity: a measure of how good the model is – the lower the better\n",
    "# Was -7.something\n",
    "tm = lda.TOPIC_MODEL\n",
    "c = lda.LDA_CORPUS\n",
    "tm.log_perplexity(c)"
   ]
  },
  {
   "cell_type": "code",
   "execution_count": 19,
   "metadata": {},
   "outputs": [
    {
     "data": {
      "text/plain": [
       "0.6278934608305464"
      ]
     },
     "execution_count": 19,
     "metadata": {},
     "output_type": "execute_result"
    }
   ],
   "source": [
    "\n",
    "from gensim.models import CoherenceModel\n",
    "\n",
    "# Compute Coherence Score\n",
    "d = lda.LDA_DICTIONARY\n",
    "cm = CoherenceModel(model=tm, texts=lda.tokenized_sents_list, corpus=c, dictionary=d)\n",
    "\n",
    "# Was 0.6278934608305464\n",
    "cm.get_coherence()"
   ]
  },
  {
   "cell_type": "code",
   "execution_count": 22,
   "metadata": {},
   "outputs": [
    {
     "name": "stdout",
     "output_type": "stream",
     "text": [
      "u_mass: -2.4250956933076147\n",
      "c_v: 0.6278934608305464\n",
      "c_uci: -0.20255193393959373\n",
      "c_npmi: -0.0038320213839276324\n"
     ]
    }
   ],
   "source": [
    "\n",
    "coherence_measures_list = ['u_mass', 'c_v', 'c_uci', 'c_npmi']\n",
    "for coherence in coherence_measures_list:\n",
    "    cm = CoherenceModel(model=tm, texts=lda.tokenized_sents_list, corpus=c, dictionary=d, coherence=coherence)\n",
    "    print(f'{coherence}: {cm.get_coherence()}')"
   ]
  },
  {
   "cell_type": "code",
   "execution_count": 23,
   "metadata": {},
   "outputs": [
    {
     "data": {
      "text/plain": [
       "['state.blend', 'state.blend2', 'state.dtype', 'state.eta', 'state.get_Elogbeta', 'state.get_lambda', 'state.load', 'state.merge', 'state.numdocs', 'state.reset', 'state.save', 'state.sstats']"
      ]
     },
     "execution_count": 23,
     "metadata": {},
     "output_type": "execute_result"
    }
   ],
   "source": [
    "\n",
    "state = tm.state\n",
    "[f'state.{fn}' for fn in dir(state) if not fn.startswith('_')]"
   ]
  },
  {
   "cell_type": "code",
   "execution_count": 24,
   "metadata": {},
   "outputs": [
    {
     "data": {
      "image/png": "[encoded data removed]",
      "text/plain": [
       "<Figure size 432x288 with 1 Axes>"
      ]
     },
     "metadata": {
      "needs_background": "light"
     },
     "output_type": "display_data"
    }
   ],
   "source": [
    "\n",
    "import matplotlib.pyplot as plt\n",
    "import numpy as np\n",
    "\n",
    "# (2, 6019)\n",
    "plt.scatter(state.sstats[0], state.sstats[1])\n",
    "plt.show()"
   ]
  },
  {
   "cell_type": "code",
   "execution_count": null,
   "metadata": {},
   "outputs": [],
   "source": []
  }
 ],
 "metadata": {
  "kernelspec": {
   "display_name": "Job Hunting (Python 3.7.9)",
   "language": "python",
   "name": "jh_env"
  },
  "language_info": {
   "codemirror_mode": {
    "name": "ipython",
    "version": 3
   },
   "file_extension": ".py",
   "mimetype": "text/x-python",
   "name": "python",
   "nbconvert_exporter": "python",
   "pygments_lexer": "ipython3",
   "version": "3.7.9"
  }
 },
 "nbformat": 4,
 "nbformat_minor": 4
}
