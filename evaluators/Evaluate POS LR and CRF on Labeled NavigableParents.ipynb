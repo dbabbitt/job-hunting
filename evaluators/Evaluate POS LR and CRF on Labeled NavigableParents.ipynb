{
 "cells": [
  {
   "cell_type": "code",
   "execution_count": 1,
   "id": "0f6d1ba0-8544-42f5-82e0-02e5ede08560",
   "metadata": {},
   "outputs": [
    {
     "name": "stdout",
     "output_type": "stream",
     "text": [
      "Pretty printing has been turned OFF\n"
     ]
    }
   ],
   "source": [
    "\n",
    "%pprint"
   ]
  },
  {
   "cell_type": "markdown",
   "id": "d1316027-0f18-45ff-8f5a-9580745b8a10",
   "metadata": {
    "tags": []
   },
   "source": [
    "\n",
    "---\n",
    "# Load needed libraries and functions"
   ]
  },
  {
   "cell_type": "code",
   "execution_count": 2,
   "id": "85ae58ba-e752-46e7-aab4-f67b663d1bc4",
   "metadata": {},
   "outputs": [],
   "source": [
    "\n",
    "from neo4j.exceptions import ServiceUnavailable\n",
    "from nltk import pos_tag\n",
    "from pandas import DataFrame\n",
    "from sklearn.metrics import classification_report\n",
    "from sklearn.model_selection import train_test_split\n",
    "from sklearn_crfsuite import CRF\n",
    "import humanize\n",
    "import nltk\n",
    "import os\n",
    "import re\n",
    "import sys\n",
    "import time\n",
    "import warnings\n",
    "\n",
    "warnings.filterwarnings('ignore')\n",
    "duration = 1000  # milliseconds\n",
    "freq = 880  # Hz\n",
    "\n",
    "# Insert at 1, 0 is the script path (or '' in REPL)\n",
    "sys.path.insert(1, '../py')"
   ]
  },
  {
   "cell_type": "code",
   "execution_count": 3,
   "id": "6c4890cc-2880-44c4-882e-6d1be4006921",
   "metadata": {},
   "outputs": [
    {
     "name": "stdout",
     "output_type": "stream",
     "text": [
      "======== Neo4j/4.4.7 ========\n",
      "Utility libraries created in 8 seconds\n"
     ]
    }
   ],
   "source": [
    "\n",
    "t0 = time.time()\n",
    "\n",
    "# Get the Neo4j driver\n",
    "from storage import Storage\n",
    "s = Storage(\n",
    "    data_folder_path=os.path.abspath('../data'),\n",
    "    saves_folder_path=os.path.abspath('../saves')\n",
    ")\n",
    "\n",
    "from ha_utils import HeaderAnalysis\n",
    "ha = HeaderAnalysis(s=s, verbose=False)\n",
    "\n",
    "from scrape_utils import WebScrapingUtilities\n",
    "wsu = WebScrapingUtilities(\n",
    "    s=s,\n",
    "    secrets_json_path=os.path.abspath('../data/secrets/jh_secrets.json')\n",
    ")\n",
    "uri = wsu.secrets_json['neo4j']['connect_url']\n",
    "user =  wsu.secrets_json['neo4j']['username']\n",
    "password = wsu.secrets_json['neo4j']['password']\n",
    "\n",
    "# Get the neo4j object\n",
    "from cypher_utils import CypherUtilities\n",
    "cu = CypherUtilities(\n",
    "    uri=uri, user=user, password=password, driver=None, s=s, ha=ha\n",
    ")\n",
    "\n",
    "try:\n",
    "    version_str = cu.driver.get_server_info().agent\n",
    "    print(f'======== {version_str} ========')\n",
    "except ServiceUnavailable as e:\n",
    "    print('You need to start Neo4j as a console')\n",
    "    raise\n",
    "except Exception as e:\n",
    "    print(f'{e.__class__}: {str(e).strip()}')\n",
    "\n",
    "from hc_utils import HeaderCategories\n",
    "hc = HeaderCategories(cu=cu, verbose=False)\n",
    "\n",
    "from lr_utils import LrUtilities\n",
    "lru = LrUtilities(ha=ha, cu=cu, hc=hc, verbose=False)\n",
    "\n",
    "from crf_utils import CrfUtilities\n",
    "crf = CrfUtilities(ha=ha, hc=hc, cu=cu, lru=lru, verbose=True)\n",
    "\n",
    "duration_str = humanize.precisedelta(time.time() - t0, minimum_unit='seconds', format='%0.0f')\n",
    "print(f'Utility libraries created in {duration_str}')"
   ]
  },
  {
   "cell_type": "markdown",
   "id": "dac187e6-e20e-4d27-89de-74a28d2b85af",
   "metadata": {},
   "source": [
    "\n",
    "---\n",
    "# Data Preparation\n",
    "This stage involves preparing the dataset for comparison by cleaning and pre-processing the data."
   ]
  },
  {
   "cell_type": "code",
   "execution_count": 4,
   "id": "e73d470b-1b6e-4aa3-accc-0d1684730207",
   "metadata": {},
   "outputs": [
    {
     "name": "stdout",
     "output_type": "stream",
     "text": [
      "\n",
      "                        MATCH (pos:PartsOfSpeech {is_header: 'False', is_other: 'True'}), (np:NavigableParents {is_header: 'False', is_other: 'True'})\n",
      "                        MERGE (pos)-[r:SUMMARIZES]->(np);\n",
      "Parts-of-speech relationships repopulated in 7 seconds\n"
     ]
    }
   ],
   "source": [
    "\n",
    "t0 = time.time()\n",
    "cu.populate_pos_relationships(verbose=True)\n",
    "duration_str = humanize.precisedelta(time.time() - t0, minimum_unit='seconds', format='%0.0f')\n",
    "print(f'Parts-of-speech relationships repopulated in {duration_str}')"
   ]
  },
  {
   "cell_type": "code",
   "execution_count": 5,
   "id": "4a9bf41f-8516-4714-9b8f-1c4fd4dc0d57",
   "metadata": {},
   "outputs": [
    {
     "name": "stdout",
     "output_type": "stream",
     "text": [
      "(46569, 30)\n"
     ]
    }
   ],
   "source": [
    "\n",
    "cypher_str = '''\n",
    "    // Filter for NavigableParents nodes with an unambiguous SUMMARIZES relationship\n",
    "    MATCH (np:NavigableParents)\n",
    "    WHERE size((np)<-[:SUMMARIZES]-(:PartsOfSpeech)) = 1\n",
    "    WITH np\n",
    "    \n",
    "    // Find all NavigableParents nodes in the graph with an incoming SUMMARIZES relationship to a PartsOfSpeech node\n",
    "    MATCH (np)<-[r:SUMMARIZES]-(pos:PartsOfSpeech)\n",
    "    \n",
    "    // Return the navigable parent and important properties\n",
    "    RETURN\n",
    "        pos.pos_symbol AS pos_symbol,\n",
    "        pos.is_header AS pos_is_header,\n",
    "        pos.is_task_scope AS pos_is_task_scope,\n",
    "        pos.is_minimum_qualification AS pos_is_minimum_qualification,\n",
    "        pos.is_preferred_qualification AS pos_is_preferred_qualification,\n",
    "        pos.is_legal_notification AS pos_is_legal_notification,\n",
    "        pos.is_job_title AS pos_is_job_title,\n",
    "        pos.is_office_location AS pos_is_office_location,\n",
    "        pos.is_job_duration AS pos_is_job_duration,\n",
    "        pos.is_supplemental_pay AS pos_is_supplemental_pay,\n",
    "        pos.is_educational_requirement AS pos_is_educational_requirement,\n",
    "        pos.is_interview_procedure AS pos_is_interview_procedure,\n",
    "        pos.is_corporate_scope AS pos_is_corporate_scope,\n",
    "        pos.is_posting_date AS pos_is_posting_date,\n",
    "        pos.is_other AS pos_is_other,\n",
    "        \n",
    "        np.navigable_parent AS navigable_parent,\n",
    "        np.is_header AS np_is_header,\n",
    "        np.is_task_scope AS np_is_task_scope,\n",
    "        np.is_minimum_qualification AS np_is_minimum_qualification,\n",
    "        np.is_preferred_qualification AS np_is_preferred_qualification,\n",
    "        np.is_legal_notification AS np_is_legal_notification,\n",
    "        np.is_job_title AS np_is_job_title,\n",
    "        np.is_office_location AS np_is_office_location,\n",
    "        np.is_job_duration AS np_is_job_duration,\n",
    "        np.is_supplemental_pay AS np_is_supplemental_pay,\n",
    "        np.is_educational_requirement AS np_is_educational_requirement,\n",
    "        np.is_interview_procedure AS np_is_interview_procedure,\n",
    "        np.is_corporate_scope AS np_is_corporate_scope,\n",
    "        np.is_posting_date AS np_is_posting_date,\n",
    "        np.is_other AS np_is_other;'''\n",
    "row_objs_list = []\n",
    "with cu.driver.session() as session:\n",
    "    row_objs_list = session.write_transaction(cu.do_cypher_tx, cypher_str)\n",
    "if row_objs_list:\n",
    "    pos_html_strs_df = DataFrame(row_objs_list)\n",
    "    \n",
    "    # (46408, 30)\n",
    "    print(pos_html_strs_df.shape)"
   ]
  },
  {
   "cell_type": "code",
   "execution_count": 6,
   "id": "c1975db9-45f5-460d-829c-0599ad7ec1a1",
   "metadata": {},
   "outputs": [
    {
     "data": {
      "text/html": [
       "<div>\n",
       "<style scoped>\n",
       "    .dataframe tbody tr th:only-of-type {\n",
       "        vertical-align: middle;\n",
       "    }\n",
       "\n",
       "    .dataframe tbody tr th {\n",
       "        vertical-align: top;\n",
       "    }\n",
       "\n",
       "    .dataframe thead th {\n",
       "        text-align: right;\n",
       "    }\n",
       "</style>\n",
       "<table border=\"1\" class=\"dataframe\">\n",
       "  <thead>\n",
       "    <tr style=\"text-align: right;\">\n",
       "      <th></th>\n",
       "      <th>navigable_parent</th>\n",
       "      <th>pos_symbol</th>\n",
       "      <th>pos_is_header</th>\n",
       "    </tr>\n",
       "  </thead>\n",
       "  <tbody>\n",
       "    <tr>\n",
       "      <th>27103</th>\n",
       "      <td>&lt;li&gt;Ghost Inspector, selenium, or other browse...</td>\n",
       "      <td>O-PQ</td>\n",
       "      <td>False</td>\n",
       "    </tr>\n",
       "    <tr>\n",
       "      <th>17040</th>\n",
       "      <td>&lt;li&gt;Min. 3 years experience in Python&lt;/li&gt;</td>\n",
       "      <td>O-RQ</td>\n",
       "      <td>False</td>\n",
       "    </tr>\n",
       "    <tr>\n",
       "      <th>17189</th>\n",
       "      <td>&lt;li&gt;2 - SAP MM Materials Management (P3 - Adva...</td>\n",
       "      <td>O-RQ</td>\n",
       "      <td>False</td>\n",
       "    </tr>\n",
       "    <tr>\n",
       "      <th>24455</th>\n",
       "      <td>&lt;li&gt;Knowledge of the energy industry - familia...</td>\n",
       "      <td>O-RQ</td>\n",
       "      <td>False</td>\n",
       "    </tr>\n",
       "    <tr>\n",
       "      <th>43730</th>\n",
       "      <td>&lt;oip&gt;Role Primary Contact: Dang,Gary&lt;/oip&gt;</td>\n",
       "      <td>O-IP</td>\n",
       "      <td>False</td>\n",
       "    </tr>\n",
       "  </tbody>\n",
       "</table>\n",
       "</div>"
      ],
      "text/plain": [
       "                                        navigable_parent pos_symbol  \\\n",
       "27103  <li>Ghost Inspector, selenium, or other browse...       O-PQ   \n",
       "17040         <li>Min. 3 years experience in Python</li>       O-RQ   \n",
       "17189  <li>2 - SAP MM Materials Management (P3 - Adva...       O-RQ   \n",
       "24455  <li>Knowledge of the energy industry - familia...       O-RQ   \n",
       "43730         <oip>Role Primary Contact: Dang,Gary</oip>       O-IP   \n",
       "\n",
       "      pos_is_header  \n",
       "27103         False  \n",
       "17040         False  \n",
       "17189         False  \n",
       "24455         False  \n",
       "43730         False  "
      ]
     },
     "execution_count": 6,
     "metadata": {},
     "output_type": "execute_result"
    }
   ],
   "source": [
    "\n",
    "columns_list = ['navigable_parent', 'pos_symbol', 'pos_is_header']\n",
    "pos_html_strs_df[columns_list].sample(5)"
   ]
  },
  {
   "cell_type": "code",
   "execution_count": 7,
   "id": "4544b45f-2e73-4952-b300-cfff1ccee5dd",
   "metadata": {},
   "outputs": [],
   "source": [
    "\n",
    "# Prepare the comparison data\n",
    "part_of_speech_dict = pos_html_strs_df.set_index('navigable_parent').pos_symbol.to_dict()\n",
    "y_actual = [(pos_symbol, ) for pos_symbol in part_of_speech_dict.values()]"
   ]
  },
  {
   "cell_type": "markdown",
   "id": "f0ced2bd-4d3e-4439-8d48-d0b1b3eb7466",
   "metadata": {},
   "source": [
    "\n",
    "---\n",
    "# Parts-of-speech Prediction by Conditional Random Fields Algorithm\n",
    "## CRF Data Preparation\n",
    "This stage involves preparing the CRF dataset for evaluation by transforming the data with a multi-label binarizer."
   ]
  },
  {
   "cell_type": "code",
   "execution_count": 9,
   "id": "a55e30e1-123e-4d77-b873-d11ca0d6731a",
   "metadata": {},
   "outputs": [
    {
     "name": "stdout",
     "output_type": "stream",
     "text": [
      "I have 46,569 labeled parts of speech in here\n",
      "Parts-of-speech CRF elements built in 19 minutes and 34 seconds\n"
     ]
    }
   ],
   "source": [
    "\n",
    "# Check if the crf has built its parts-of-speech classifier\n",
    "t1 = time.time()\n",
    "if not hasattr(crf, 'pos_crf_predict_single'):# or crf.is_flask_running()\n",
    "    crf.build_pos_conditional_random_field_elements(verbose=True)\n",
    "duration_str = humanize.precisedelta(time.time() - t1, minimum_unit='seconds', format='%0.0f')\n",
    "print(f'Parts-of-speech CRF elements built in {duration_str}')"
   ]
  },
  {
   "cell_type": "code",
   "execution_count": 10,
   "id": "34b3c1fa-08dd-4929-8fcf-55042cbde1ef",
   "metadata": {},
   "outputs": [
    {
     "name": "stdout",
     "output_type": "stream",
     "text": [
      "Predicted labels created in 34 seconds\n"
     ]
    }
   ],
   "source": [
    "\n",
    "t0 = time.time()\n",
    "y_crf_predicted = [(crf.pos_crf_predict_single(navigable_parent), ) for navigable_parent in part_of_speech_dict.keys()]\n",
    "duration_str = humanize.precisedelta(time.time() - t0, minimum_unit='seconds', format='%0.0f')\n",
    "print(f'Predicted labels created in {duration_str}')"
   ]
  },
  {
   "cell_type": "code",
   "execution_count": 11,
   "id": "98ad6293-c21f-407d-ae92-071e56535c4e",
   "metadata": {},
   "outputs": [
    {
     "data": {
      "text/plain": [
       "[('H-RQ',), ('H-TS',)]"
      ]
     },
     "execution_count": 11,
     "metadata": {},
     "output_type": "execute_result"
    }
   ],
   "source": [
    "\n",
    "y_crf_predicted[-2:]"
   ]
  },
  {
   "cell_type": "code",
   "execution_count": 12,
   "id": "730aaa82-a2c6-4183-92c4-73511735841a",
   "metadata": {},
   "outputs": [
    {
     "data": {
      "text/plain": [
       "[('O-O',), ('O-O',)]"
      ]
     },
     "execution_count": 12,
     "metadata": {},
     "output_type": "execute_result"
    }
   ],
   "source": [
    "\n",
    "y_actual[-2:]"
   ]
  },
  {
   "cell_type": "code",
   "execution_count": 13,
   "id": "f58d371c-de12-4e11-a99b-3702c4990ad8",
   "metadata": {},
   "outputs": [
    {
     "data": {
      "text/plain": [
       "array(['H-CS', 'H-ER', 'H-IP', 'H-JD', 'H-JT', 'H-LN', 'H-O', 'H-OL',\n",
       "       'H-PD', 'H-PQ', 'H-RQ', 'H-SP', 'H-TS', 'O-CS', 'O-ER', 'O-IP',\n",
       "       'O-JD', 'O-JT', 'O-LN', 'O-O', 'O-OL', 'O-PD', 'O-PQ', 'O-RQ',\n",
       "       'O-SP', 'O-TS'], dtype=object)"
      ]
     },
     "execution_count": 13,
     "metadata": {},
     "output_type": "execute_result"
    }
   ],
   "source": [
    "\n",
    "from sklearn.preprocessing import MultiLabelBinarizer\n",
    "\n",
    "# Create the MultiLabelBinarizer object\n",
    "mlb = MultiLabelBinarizer()\n",
    "\n",
    "# Fit and transform the y_test and y_pred sequences\n",
    "y_actual_transformed = mlb.fit_transform(y_actual)\n",
    "y_crf_pred_transformed = mlb.transform(y_crf_predicted)\n",
    "mlb.classes_"
   ]
  },
  {
   "cell_type": "markdown",
   "id": "72df1069-0ac1-4d84-a522-5e6a611939d8",
   "metadata": {},
   "source": [
    "\n",
    "## CRF Visualization"
   ]
  },
  {
   "cell_type": "code",
   "execution_count": 14,
   "id": "15c6aa29-be01-469e-8172-9b35d93cd551",
   "metadata": {},
   "outputs": [
    {
     "data": {
      "text/html": [
       "<div>\n",
       "<style scoped>\n",
       "    .dataframe tbody tr th:only-of-type {\n",
       "        vertical-align: middle;\n",
       "    }\n",
       "\n",
       "    .dataframe tbody tr th {\n",
       "        vertical-align: top;\n",
       "    }\n",
       "\n",
       "    .dataframe thead th {\n",
       "        text-align: right;\n",
       "    }\n",
       "</style>\n",
       "<table border=\"1\" class=\"dataframe\">\n",
       "  <thead>\n",
       "    <tr style=\"text-align: right;\">\n",
       "      <th></th>\n",
       "      <th>precision</th>\n",
       "      <th>recall</th>\n",
       "      <th>f1-score</th>\n",
       "      <th>support</th>\n",
       "    </tr>\n",
       "    <tr>\n",
       "      <th>pos_symbol</th>\n",
       "      <th></th>\n",
       "      <th></th>\n",
       "      <th></th>\n",
       "      <th></th>\n",
       "    </tr>\n",
       "  </thead>\n",
       "  <tbody>\n",
       "    <tr>\n",
       "      <th>O-JT</th>\n",
       "      <td>0.998077</td>\n",
       "      <td>0.997572</td>\n",
       "      <td>0.997824</td>\n",
       "      <td>9883</td>\n",
       "    </tr>\n",
       "    <tr>\n",
       "      <th>O-PD</th>\n",
       "      <td>0.958199</td>\n",
       "      <td>0.990033</td>\n",
       "      <td>0.973856</td>\n",
       "      <td>301</td>\n",
       "    </tr>\n",
       "    <tr>\n",
       "      <th>O-RQ</th>\n",
       "      <td>0.933278</td>\n",
       "      <td>0.981129</td>\n",
       "      <td>0.956605</td>\n",
       "      <td>17222</td>\n",
       "    </tr>\n",
       "    <tr>\n",
       "      <th>O-IP</th>\n",
       "      <td>0.995183</td>\n",
       "      <td>0.977175</td>\n",
       "      <td>0.986097</td>\n",
       "      <td>4863</td>\n",
       "    </tr>\n",
       "    <tr>\n",
       "      <th>O-JD</th>\n",
       "      <td>0.984694</td>\n",
       "      <td>0.966611</td>\n",
       "      <td>0.975569</td>\n",
       "      <td>599</td>\n",
       "    </tr>\n",
       "    <tr>\n",
       "      <th>O-TS</th>\n",
       "      <td>0.984749</td>\n",
       "      <td>0.963588</td>\n",
       "      <td>0.974053</td>\n",
       "      <td>6701</td>\n",
       "    </tr>\n",
       "    <tr>\n",
       "      <th>weighted avg</th>\n",
       "      <td>0.948983</td>\n",
       "      <td>0.947669</td>\n",
       "      <td>0.946299</td>\n",
       "      <td>46569</td>\n",
       "    </tr>\n",
       "    <tr>\n",
       "      <th>micro avg</th>\n",
       "      <td>0.947893</td>\n",
       "      <td>0.947669</td>\n",
       "      <td>0.947781</td>\n",
       "      <td>46569</td>\n",
       "    </tr>\n",
       "    <tr>\n",
       "      <th>samples avg</th>\n",
       "      <td>0.947669</td>\n",
       "      <td>0.947669</td>\n",
       "      <td>0.947669</td>\n",
       "      <td>46569</td>\n",
       "    </tr>\n",
       "    <tr>\n",
       "      <th>O-CS</th>\n",
       "      <td>0.977901</td>\n",
       "      <td>0.897338</td>\n",
       "      <td>0.935889</td>\n",
       "      <td>789</td>\n",
       "    </tr>\n",
       "    <tr>\n",
       "      <th>O-LN</th>\n",
       "      <td>0.954545</td>\n",
       "      <td>0.875000</td>\n",
       "      <td>0.913043</td>\n",
       "      <td>96</td>\n",
       "    </tr>\n",
       "    <tr>\n",
       "      <th>O-SP</th>\n",
       "      <td>0.954545</td>\n",
       "      <td>0.870056</td>\n",
       "      <td>0.910345</td>\n",
       "      <td>531</td>\n",
       "    </tr>\n",
       "    <tr>\n",
       "      <th>H-RQ</th>\n",
       "      <td>0.671492</td>\n",
       "      <td>0.867480</td>\n",
       "      <td>0.757006</td>\n",
       "      <td>1230</td>\n",
       "    </tr>\n",
       "    <tr>\n",
       "      <th>O-OL</th>\n",
       "      <td>0.873016</td>\n",
       "      <td>0.859375</td>\n",
       "      <td>0.866142</td>\n",
       "      <td>192</td>\n",
       "    </tr>\n",
       "    <tr>\n",
       "      <th>H-ER</th>\n",
       "      <td>1.000000</td>\n",
       "      <td>0.836066</td>\n",
       "      <td>0.910714</td>\n",
       "      <td>61</td>\n",
       "    </tr>\n",
       "    <tr>\n",
       "      <th>H-CS</th>\n",
       "      <td>0.819079</td>\n",
       "      <td>0.811075</td>\n",
       "      <td>0.815057</td>\n",
       "      <td>307</td>\n",
       "    </tr>\n",
       "    <tr>\n",
       "      <th>H-TS</th>\n",
       "      <td>0.872390</td>\n",
       "      <td>0.761134</td>\n",
       "      <td>0.812973</td>\n",
       "      <td>494</td>\n",
       "    </tr>\n",
       "    <tr>\n",
       "      <th>H-PQ</th>\n",
       "      <td>0.929032</td>\n",
       "      <td>0.721805</td>\n",
       "      <td>0.812412</td>\n",
       "      <td>399</td>\n",
       "    </tr>\n",
       "    <tr>\n",
       "      <th>macro avg</th>\n",
       "      <td>0.876071</td>\n",
       "      <td>0.721784</td>\n",
       "      <td>0.775222</td>\n",
       "      <td>46569</td>\n",
       "    </tr>\n",
       "    <tr>\n",
       "      <th>H-SP</th>\n",
       "      <td>0.902256</td>\n",
       "      <td>0.693642</td>\n",
       "      <td>0.784314</td>\n",
       "      <td>173</td>\n",
       "    </tr>\n",
       "    <tr>\n",
       "      <th>H-LN</th>\n",
       "      <td>0.933333</td>\n",
       "      <td>0.677419</td>\n",
       "      <td>0.785047</td>\n",
       "      <td>62</td>\n",
       "    </tr>\n",
       "    <tr>\n",
       "      <th>O-PQ</th>\n",
       "      <td>0.837155</td>\n",
       "      <td>0.662634</td>\n",
       "      <td>0.739740</td>\n",
       "      <td>2149</td>\n",
       "    </tr>\n",
       "    <tr>\n",
       "      <th>H-JT</th>\n",
       "      <td>0.753846</td>\n",
       "      <td>0.662162</td>\n",
       "      <td>0.705036</td>\n",
       "      <td>74</td>\n",
       "    </tr>\n",
       "    <tr>\n",
       "      <th>O-ER</th>\n",
       "      <td>0.888889</td>\n",
       "      <td>0.516129</td>\n",
       "      <td>0.653061</td>\n",
       "      <td>31</td>\n",
       "    </tr>\n",
       "    <tr>\n",
       "      <th>O-O</th>\n",
       "      <td>0.844444</td>\n",
       "      <td>0.506667</td>\n",
       "      <td>0.633333</td>\n",
       "      <td>75</td>\n",
       "    </tr>\n",
       "    <tr>\n",
       "      <th>H-IP</th>\n",
       "      <td>0.979592</td>\n",
       "      <td>0.494845</td>\n",
       "      <td>0.657534</td>\n",
       "      <td>97</td>\n",
       "    </tr>\n",
       "    <tr>\n",
       "      <th>H-OL</th>\n",
       "      <td>0.875000</td>\n",
       "      <td>0.494118</td>\n",
       "      <td>0.631579</td>\n",
       "      <td>85</td>\n",
       "    </tr>\n",
       "    <tr>\n",
       "      <th>H-O</th>\n",
       "      <td>0.857143</td>\n",
       "      <td>0.450000</td>\n",
       "      <td>0.590164</td>\n",
       "      <td>120</td>\n",
       "    </tr>\n",
       "    <tr>\n",
       "      <th>H-JD</th>\n",
       "      <td>1.000000</td>\n",
       "      <td>0.233333</td>\n",
       "      <td>0.378378</td>\n",
       "      <td>30</td>\n",
       "    </tr>\n",
       "    <tr>\n",
       "      <th>H-PD</th>\n",
       "      <td>0.000000</td>\n",
       "      <td>0.000000</td>\n",
       "      <td>0.000000</td>\n",
       "      <td>5</td>\n",
       "    </tr>\n",
       "  </tbody>\n",
       "</table>\n",
       "</div>"
      ],
      "text/plain": [
       "              precision    recall  f1-score  support\n",
       "pos_symbol                                          \n",
       "O-JT           0.998077  0.997572  0.997824     9883\n",
       "O-PD           0.958199  0.990033  0.973856      301\n",
       "O-RQ           0.933278  0.981129  0.956605    17222\n",
       "O-IP           0.995183  0.977175  0.986097     4863\n",
       "O-JD           0.984694  0.966611  0.975569      599\n",
       "O-TS           0.984749  0.963588  0.974053     6701\n",
       "weighted avg   0.948983  0.947669  0.946299    46569\n",
       "micro avg      0.947893  0.947669  0.947781    46569\n",
       "samples avg    0.947669  0.947669  0.947669    46569\n",
       "O-CS           0.977901  0.897338  0.935889      789\n",
       "O-LN           0.954545  0.875000  0.913043       96\n",
       "O-SP           0.954545  0.870056  0.910345      531\n",
       "H-RQ           0.671492  0.867480  0.757006     1230\n",
       "O-OL           0.873016  0.859375  0.866142      192\n",
       "H-ER           1.000000  0.836066  0.910714       61\n",
       "H-CS           0.819079  0.811075  0.815057      307\n",
       "H-TS           0.872390  0.761134  0.812973      494\n",
       "H-PQ           0.929032  0.721805  0.812412      399\n",
       "macro avg      0.876071  0.721784  0.775222    46569\n",
       "H-SP           0.902256  0.693642  0.784314      173\n",
       "H-LN           0.933333  0.677419  0.785047       62\n",
       "O-PQ           0.837155  0.662634  0.739740     2149\n",
       "H-JT           0.753846  0.662162  0.705036       74\n",
       "O-ER           0.888889  0.516129  0.653061       31\n",
       "O-O            0.844444  0.506667  0.633333       75\n",
       "H-IP           0.979592  0.494845  0.657534       97\n",
       "H-OL           0.875000  0.494118  0.631579       85\n",
       "H-O            0.857143  0.450000  0.590164      120\n",
       "H-JD           1.000000  0.233333  0.378378       30\n",
       "H-PD           0.000000  0.000000  0.000000        5"
      ]
     },
     "execution_count": 14,
     "metadata": {},
     "output_type": "execute_result"
    }
   ],
   "source": [
    "\n",
    "# Compute the classification report\n",
    "pos_symbol_crf_df = DataFrame.from_dict(classification_report(y_actual_transformed, y_crf_pred_transformed, target_names=mlb.classes_, zero_division=0, output_dict=True),\n",
    "                                        orient='index')\n",
    "pos_symbol_crf_df.index.name = 'pos_symbol'\n",
    "pos_symbol_crf_df.sort_values('recall', ascending=False)"
   ]
  },
  {
   "cell_type": "markdown",
   "id": "3885a99e-2961-4d33-bbad-7fac18d3c104",
   "metadata": {},
   "source": [
    "\n",
    "---\n",
    "# Parts-of-speech Prediction by Logistic Regression Algorithm\n",
    "## LR Data Preparation\n",
    "This stage involves preparing the LR dataset for evaluation by transforming the data with a multi-label binarizer."
   ]
  },
  {
   "cell_type": "code",
   "execution_count": 16,
   "id": "bbf36973-ac32-471e-9f7b-2c8aa77b369b",
   "metadata": {},
   "outputs": [
    {
     "name": "stdout",
     "output_type": "stream",
     "text": [
      "I have 47,946 labeled parts of speech in here\n",
      "Parts-of-speech logistic regression elements built in 1 hour, 59 minutes and 54 seconds\n"
     ]
    }
   ],
   "source": [
    "\n",
    "# Keep the total creation time to less than one hour by adjusting the sampling strategy limit\n",
    "# I have 47,686 labeled parts of speech in here\n",
    "# Parts-of-speech logistic regression elements built in 2 hours, 3 minutes and 10 seconds\n",
    "t1 = time.time()\n",
    "if not (hasattr(lru, 'POS_PREDICT_PERCENT_FIT_DICT')):# or crf.is_flask_running()\n",
    "    lru.build_pos_logistic_regression_elements(sampling_strategy_limit=None, verbose=True)#6_400\n",
    "duration_str = humanize.precisedelta(time.time() - t1, minimum_unit='seconds', format='%0.0f')\n",
    "print(f'Parts-of-speech logistic regression elements built in {duration_str}')"
   ]
  },
  {
   "cell_type": "code",
   "execution_count": 17,
   "id": "364ad468-1f77-4c83-95b2-a0ebe5aec1db",
   "metadata": {},
   "outputs": [
    {
     "name": "stdout",
     "output_type": "stream",
     "text": [
      "Predicted labels created in 9 hours, 5 minutes and 5 seconds\n"
     ]
    }
   ],
   "source": [
    "\n",
    "t0 = time.time()\n",
    "y_lr_predicted = [(lru.pos_lr_predict_single(navigable_parent), ) for navigable_parent in part_of_speech_dict.keys()]\n",
    "duration_str = humanize.precisedelta(time.time() - t0, minimum_unit='seconds', format='%0.0f')\n",
    "print(f'Predicted labels created in {duration_str}')"
   ]
  },
  {
   "cell_type": "code",
   "execution_count": 18,
   "id": "9692cd05-f21c-4532-89a0-8ad2bafb81da",
   "metadata": {},
   "outputs": [
    {
     "data": {
      "text/plain": [
       "[('O-O',), ('O-RQ',)]"
      ]
     },
     "execution_count": 18,
     "metadata": {},
     "output_type": "execute_result"
    }
   ],
   "source": [
    "\n",
    "y_lr_predicted[-2:]"
   ]
  },
  {
   "cell_type": "code",
   "execution_count": 19,
   "id": "b704e225-d842-4367-b14b-64a8aa4a5f5d",
   "metadata": {},
   "outputs": [
    {
     "data": {
      "text/plain": [
       "[('O-O',), ('O-O',)]"
      ]
     },
     "execution_count": 19,
     "metadata": {},
     "output_type": "execute_result"
    }
   ],
   "source": [
    "\n",
    "y_actual[-2:]"
   ]
  },
  {
   "cell_type": "code",
   "execution_count": 20,
   "id": "6b848743-75a6-4a17-9bd0-5a9e4fc333a7",
   "metadata": {},
   "outputs": [
    {
     "data": {
      "text/plain": [
       "array(['H-CS', 'H-ER', 'H-IP', 'H-JD', 'H-JT', 'H-LN', 'H-O', 'H-OL',\n",
       "       'H-PD', 'H-PQ', 'H-RQ', 'H-SP', 'H-TS', 'O-CS', 'O-ER', 'O-IP',\n",
       "       'O-JD', 'O-JT', 'O-LN', 'O-O', 'O-OL', 'O-PD', 'O-PQ', 'O-RQ',\n",
       "       'O-SP', 'O-TS'], dtype=object)"
      ]
     },
     "execution_count": 20,
     "metadata": {},
     "output_type": "execute_result"
    }
   ],
   "source": [
    "\n",
    "from sklearn.preprocessing import MultiLabelBinarizer\n",
    "\n",
    "# Create the MultiLabelBinarizer object\n",
    "mlb = MultiLabelBinarizer()\n",
    "\n",
    "# Fit and transform the y_test and y_pred sequences\n",
    "y_actual_transformed = mlb.fit_transform(y_actual)\n",
    "y_lr_pred_transformed = mlb.transform(y_lr_predicted)\n",
    "mlb.classes_"
   ]
  },
  {
   "cell_type": "markdown",
   "id": "d2302f13-a85a-4630-bffb-eab8b29bb043",
   "metadata": {},
   "source": [
    "\n",
    "## LR Visualization"
   ]
  },
  {
   "cell_type": "code",
   "execution_count": null,
   "id": "f8fc84f2-a336-4380-a471-e5981b6574b9",
   "metadata": {},
   "outputs": [],
   "source": [
    "\n",
    "# Compute the classification report\n",
    "pos_symbol_lr_df = DataFrame.from_dict(classification_report(y_actual_transformed, y_lr_pred_transformed, target_names=mlb.classes_, zero_division=0, output_dict=True),\n",
    "                                        orient='index')\n",
    "pos_symbol_lr_df.index.name = 'pos_symbol'\n",
    "pos_symbol_lr_df.sort_values('recall', ascending=False)"
   ]
  },
  {
   "cell_type": "code",
   "execution_count": null,
   "id": "faba4e20-e5e3-4127-98e3-de7d2c14fa9e",
   "metadata": {},
   "outputs": [],
   "source": []
  }
 ],
 "metadata": {
  "kernelspec": {
   "display_name": "Job Hunting (Python 3.10.9)",
   "language": "python",
   "name": "jh_env"
  },
  "language_info": {
   "codemirror_mode": {
    "name": "ipython",
    "version": 3
   },
   "file_extension": ".py",
   "mimetype": "text/x-python",
   "name": "python",
   "nbconvert_exporter": "python",
   "pygments_lexer": "ipython3",
   "version": "3.10.9"
  }
 },
 "nbformat": 4,
 "nbformat_minor": 5
}
