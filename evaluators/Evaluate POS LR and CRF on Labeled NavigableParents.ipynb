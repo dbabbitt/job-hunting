{
 "cells": [
  {
   "cell_type": "code",
   "execution_count": 1,
   "id": "0f6d1ba0-8544-42f5-82e0-02e5ede08560",
   "metadata": {},
   "outputs": [
    {
     "name": "stdout",
     "output_type": "stream",
     "text": [
      "Pretty printing has been turned OFF\n"
     ]
    }
   ],
   "source": [
    "\n",
    "%pprint"
   ]
  },
  {
   "cell_type": "markdown",
   "id": "d1316027-0f18-45ff-8f5a-9580745b8a10",
   "metadata": {
    "tags": []
   },
   "source": [
    "\n",
    "---\n",
    "# Load needed libraries and functions"
   ]
  },
  {
   "cell_type": "code",
   "execution_count": 2,
   "id": "85ae58ba-e752-46e7-aab4-f67b663d1bc4",
   "metadata": {},
   "outputs": [],
   "source": [
    "\n",
    "from neo4j.exceptions import ServiceUnavailable\n",
    "from nltk import pos_tag\n",
    "from pandas import DataFrame\n",
    "from sklearn.metrics import classification_report\n",
    "from sklearn.model_selection import train_test_split\n",
    "from sklearn_crfsuite import CRF\n",
    "import humanize\n",
    "import nltk\n",
    "import os\n",
    "import re\n",
    "import sys\n",
    "import time\n",
    "import warnings\n",
    "\n",
    "warnings.filterwarnings('ignore')\n",
    "duration = 1000  # milliseconds\n",
    "freq = 880  # Hz\n",
    "\n",
    "# Insert at 1, 0 is the script path (or '' in REPL)\n",
    "sys.path.insert(1, '../py')"
   ]
  },
  {
   "cell_type": "code",
   "execution_count": 4,
   "id": "6c4890cc-2880-44c4-882e-6d1be4006921",
   "metadata": {},
   "outputs": [
    {
     "name": "stdout",
     "output_type": "stream",
     "text": [
      "======== Neo4j/4.4.7 ========\n",
      "Utility libraries created in 3 seconds\n"
     ]
    }
   ],
   "source": [
    "\n",
    "t0 = t1 = time.time()\n",
    "\n",
    "# Get the Storage object\n",
    "from storage import Storage\n",
    "s = Storage(\n",
    "    data_folder_path=os.path.abspath('../data'),\n",
    "    saves_folder_path=os.path.abspath('../saves')\n",
    ")\n",
    "\n",
    "# Get the HeaderAnalysis object\n",
    "from ha_utils import HeaderAnalysis\n",
    "ha = HeaderAnalysis(s=s, verbose=False)\n",
    "\n",
    "# Get the WebScrapingUtilities object\n",
    "from scrape_utils import WebScrapingUtilities\n",
    "wsu = WebScrapingUtilities(\n",
    "    s=s,\n",
    "    secrets_json_path=os.path.abspath('../data/secrets/jh_secrets.json')\n",
    ")\n",
    "uri = wsu.secrets_json['neo4j']['connect_url']\n",
    "user =  wsu.secrets_json['neo4j']['username']\n",
    "password = wsu.secrets_json['neo4j']['password']\n",
    "\n",
    "# Get the CypherUtilities object and Neo4j driver\n",
    "from cypher_utils import CypherUtilities\n",
    "cu = CypherUtilities(\n",
    "    uri=uri, user=user, password=password, driver=None, s=s, ha=ha\n",
    ")\n",
    "\n",
    "try:\n",
    "    version_str = cu.driver.get_server_info().agent\n",
    "    print(f'======== {version_str} ========')\n",
    "except ServiceUnavailable as e:\n",
    "    print('You need to start Neo4j as a console')\n",
    "    raise\n",
    "except Exception as e:\n",
    "    print(f'{e.__class__}: {str(e).strip()}')\n",
    "\n",
    "# Get the HeaderCategories object\n",
    "from hc_utils import HeaderCategories\n",
    "hc = HeaderCategories(cu=cu, verbose=False)\n",
    "\n",
    "# Get the LrUtilities object\n",
    "from lr_utils import LrUtilities\n",
    "lru = LrUtilities(ha=ha, cu=cu, hc=hc, verbose=False)\n",
    "\n",
    "# Get the SectionLRClassifierUtilities object\n",
    "from section_classifier_utils import SectionLRClassifierUtilities\n",
    "slrcu = SectionLRClassifierUtilities(ha=ha, cu=cu, verbose=False)\n",
    "\n",
    "# Get the SectionSGDClassifierUtilities object\n",
    "from section_classifier_utils import SectionSGDClassifierUtilities\n",
    "ssgdcu = SectionSGDClassifierUtilities(ha=ha, cu=cu, verbose=False)\n",
    "\n",
    "# Get the SectionCRFClassifierUtilities object\n",
    "from section_classifier_utils import SectionCRFClassifierUtilities\n",
    "scrfcu = SectionCRFClassifierUtilities(cu=cu, ha=ha, verbose=False)\n",
    "\n",
    "# Get the CrfUtilities object\n",
    "from crf_utils import CrfUtilities\n",
    "crf = CrfUtilities(\n",
    "    ha=ha, hc=hc, cu=cu, lru=lru, slrcu=slrcu, scrfcu=scrfcu, ssgdcu=ssgdcu, verbose=True\n",
    ")\n",
    "\n",
    "duration_str = humanize.precisedelta(time.time() - t1, minimum_unit='seconds', format='%0.0f')\n",
    "print(f'Utility libraries created in {duration_str}')"
   ]
  },
  {
   "cell_type": "markdown",
   "id": "dac187e6-e20e-4d27-89de-74a28d2b85af",
   "metadata": {},
   "source": [
    "\n",
    "---\n",
    "# Data Preparation\n",
    "This stage involves preparing the dataset for comparison by cleaning and pre-processing the data."
   ]
  },
  {
   "cell_type": "code",
   "execution_count": 5,
   "id": "e73d470b-1b6e-4aa3-accc-0d1684730207",
   "metadata": {},
   "outputs": [
    {
     "name": "stdout",
     "output_type": "stream",
     "text": [
      "Parts-of-speech relationships repopulated in 7 seconds\n"
     ]
    }
   ],
   "source": [
    "\n",
    "t1 = time.time()\n",
    "cu.populate_pos_relationships(verbose=False)\n",
    "duration_str = humanize.precisedelta(time.time() - t1, minimum_unit='seconds', format='%0.0f')\n",
    "print(f'Parts-of-speech relationships repopulated in {duration_str}')"
   ]
  },
  {
   "cell_type": "code",
   "execution_count": 6,
   "id": "4a9bf41f-8516-4714-9b8f-1c4fd4dc0d57",
   "metadata": {},
   "outputs": [
    {
     "name": "stdout",
     "output_type": "stream",
     "text": [
      "(47670, 30)\n"
     ]
    }
   ],
   "source": [
    "\n",
    "cypher_str = '''\n",
    "    // Filter for NavigableParents nodes with an unambiguous SUMMARIZES relationship\n",
    "    MATCH (np:NavigableParents)\n",
    "    WHERE size((np)<-[:SUMMARIZES]-(:PartsOfSpeech)) = 1\n",
    "    \n",
    "    // Find all NavigableParents nodes in the graph with an incoming SUMMARIZES relationship to a PartsOfSpeech node\n",
    "    WITH np\n",
    "    MATCH (np)<-[r:SUMMARIZES]-(pos:PartsOfSpeech)\n",
    "    \n",
    "    // Return the navigable parent and important properties\n",
    "    RETURN\n",
    "        pos.pos_symbol AS pos_symbol,\n",
    "        pos.is_header AS pos_is_header,\n",
    "        pos.is_task_scope AS pos_is_task_scope,\n",
    "        pos.is_minimum_qualification AS pos_is_minimum_qualification,\n",
    "        pos.is_preferred_qualification AS pos_is_preferred_qualification,\n",
    "        pos.is_legal_notification AS pos_is_legal_notification,\n",
    "        pos.is_job_title AS pos_is_job_title,\n",
    "        pos.is_office_location AS pos_is_office_location,\n",
    "        pos.is_job_duration AS pos_is_job_duration,\n",
    "        pos.is_supplemental_pay AS pos_is_supplemental_pay,\n",
    "        pos.is_educational_requirement AS pos_is_educational_requirement,\n",
    "        pos.is_interview_procedure AS pos_is_interview_procedure,\n",
    "        pos.is_corporate_scope AS pos_is_corporate_scope,\n",
    "        pos.is_posting_date AS pos_is_posting_date,\n",
    "        pos.is_other AS pos_is_other,\n",
    "        \n",
    "        np.navigable_parent AS navigable_parent,\n",
    "        np.is_header AS np_is_header,\n",
    "        np.is_task_scope AS np_is_task_scope,\n",
    "        np.is_minimum_qualification AS np_is_minimum_qualification,\n",
    "        np.is_preferred_qualification AS np_is_preferred_qualification,\n",
    "        np.is_legal_notification AS np_is_legal_notification,\n",
    "        np.is_job_title AS np_is_job_title,\n",
    "        np.is_office_location AS np_is_office_location,\n",
    "        np.is_job_duration AS np_is_job_duration,\n",
    "        np.is_supplemental_pay AS np_is_supplemental_pay,\n",
    "        np.is_educational_requirement AS np_is_educational_requirement,\n",
    "        np.is_interview_procedure AS np_is_interview_procedure,\n",
    "        np.is_corporate_scope AS np_is_corporate_scope,\n",
    "        np.is_posting_date AS np_is_posting_date,\n",
    "        np.is_other AS np_is_other;'''\n",
    "row_objs_list = []\n",
    "with cu.driver.session() as session:\n",
    "    row_objs_list = session.write_transaction(cu.do_cypher_tx, cypher_str)\n",
    "if row_objs_list:\n",
    "    pos_html_strs_df = DataFrame(row_objs_list)\n",
    "    \n",
    "    # (47670, 30)\n",
    "    print(pos_html_strs_df.shape)"
   ]
  },
  {
   "cell_type": "code",
   "execution_count": 7,
   "id": "c1975db9-45f5-460d-829c-0599ad7ec1a1",
   "metadata": {},
   "outputs": [
    {
     "data": {
      "text/html": [
       "<div>\n",
       "<style scoped>\n",
       "    .dataframe tbody tr th:only-of-type {\n",
       "        vertical-align: middle;\n",
       "    }\n",
       "\n",
       "    .dataframe tbody tr th {\n",
       "        vertical-align: top;\n",
       "    }\n",
       "\n",
       "    .dataframe thead th {\n",
       "        text-align: right;\n",
       "    }\n",
       "</style>\n",
       "<table border=\"1\" class=\"dataframe\">\n",
       "  <thead>\n",
       "    <tr style=\"text-align: right;\">\n",
       "      <th></th>\n",
       "      <th>navigable_parent</th>\n",
       "      <th>pos_symbol</th>\n",
       "      <th>pos_is_header</th>\n",
       "    </tr>\n",
       "  </thead>\n",
       "  <tbody>\n",
       "    <tr>\n",
       "      <th>21246</th>\n",
       "      <td>&lt;orq&gt;Ability to business, tech and compliance ...</td>\n",
       "      <td>O-RQ</td>\n",
       "      <td>False</td>\n",
       "    </tr>\n",
       "    <tr>\n",
       "      <th>37136</th>\n",
       "      <td>&lt;ojt&gt;Role ID: 4712056.0&lt;/ojt&gt;</td>\n",
       "      <td>O-JT</td>\n",
       "      <td>False</td>\n",
       "    </tr>\n",
       "    <tr>\n",
       "      <th>40512</th>\n",
       "      <td>&lt;osp&gt;Career Level From - To: 11 to 7&lt;/osp&gt;</td>\n",
       "      <td>O-SP</td>\n",
       "      <td>False</td>\n",
       "    </tr>\n",
       "    <tr>\n",
       "      <th>11705</th>\n",
       "      <td>&lt;li&gt;6 - Advance Front End Development NodeJs (...</td>\n",
       "      <td>O-RQ</td>\n",
       "      <td>False</td>\n",
       "    </tr>\n",
       "    <tr>\n",
       "      <th>13374</th>\n",
       "      <td>&lt;orq&gt;Ability to deployment-2 Lead&lt;/orq&gt;</td>\n",
       "      <td>O-RQ</td>\n",
       "      <td>False</td>\n",
       "    </tr>\n",
       "  </tbody>\n",
       "</table>\n",
       "</div>"
      ],
      "text/plain": [
       "                                        navigable_parent pos_symbol  \\\n",
       "21246  <orq>Ability to business, tech and compliance ...       O-RQ   \n",
       "37136                      <ojt>Role ID: 4712056.0</ojt>       O-JT   \n",
       "40512         <osp>Career Level From - To: 11 to 7</osp>       O-SP   \n",
       "11705  <li>6 - Advance Front End Development NodeJs (...       O-RQ   \n",
       "13374            <orq>Ability to deployment-2 Lead</orq>       O-RQ   \n",
       "\n",
       "      pos_is_header  \n",
       "21246         False  \n",
       "37136         False  \n",
       "40512         False  \n",
       "11705         False  \n",
       "13374         False  "
      ]
     },
     "execution_count": 7,
     "metadata": {},
     "output_type": "execute_result"
    }
   ],
   "source": [
    "\n",
    "columns_list = ['navigable_parent', 'pos_symbol', 'pos_is_header']\n",
    "pos_html_strs_df[columns_list].sample(5)"
   ]
  },
  {
   "cell_type": "code",
   "execution_count": 8,
   "id": "4544b45f-2e73-4952-b300-cfff1ccee5dd",
   "metadata": {},
   "outputs": [],
   "source": [
    "\n",
    "# Prepare the comparison data\n",
    "part_of_speech_dict = pos_html_strs_df.set_index('navigable_parent').pos_symbol.to_dict()\n",
    "y_actual = [(pos_symbol, ) for pos_symbol in part_of_speech_dict.values()]"
   ]
  },
  {
   "cell_type": "markdown",
   "id": "f0ced2bd-4d3e-4439-8d48-d0b1b3eb7466",
   "metadata": {},
   "source": [
    "\n",
    "---\n",
    "# Parts-of-speech Prediction by Conditional Random Fields Algorithm\n",
    "## CRF Data Preparation\n",
    "This stage involves preparing the CRF dataset for evaluation by transforming the data with a multi-label binarizer."
   ]
  },
  {
   "cell_type": "code",
   "execution_count": 16,
   "id": "8f5f7c89-931a-490d-bb23-2c6b7f087087",
   "metadata": {},
   "outputs": [
    {
     "name": "stdout",
     "output_type": "stream",
     "text": [
      "predict_single is now available\n"
     ]
    }
   ],
   "source": [
    "\n",
    "crf_name = crf.word2features.__doc__.split('.')[0].split(' ')[-1]\n",
    "if s and s.pickle_exists(crf_name):\n",
    "    crf.CRF = s.load_object(crf_name)\n",
    "if hasattr(crf, 'CRF'):\n",
    "    print('predict_single is now available')\n",
    "else:\n",
    "    print('predict_single is not available')"
   ]
  },
  {
   "cell_type": "code",
   "execution_count": 23,
   "id": "0ec8cece-0c37-4036-9ecc-c6253ed903b8",
   "metadata": {},
   "outputs": [
    {
     "data": {
      "text/plain": [
       "['crf.CRF.predict', 'crf.CRF.predict_marginals', 'crf.CRF.predict_marginals_single', 'crf.CRF.predict_single']"
      ]
     },
     "execution_count": 23,
     "metadata": {},
     "output_type": "execute_result"
    }
   ],
   "source": [
    "\n",
    "[f'crf.CRF.{fn}' for fn in dir(crf.CRF) if 'predict' in fn.lower()]"
   ]
  },
  {
   "cell_type": "code",
   "execution_count": 79,
   "id": "a203d209-1ee7-468a-9874-eeca1a3e1ccc",
   "metadata": {},
   "outputs": [],
   "source": [
    "\n",
    "import random\n",
    "\n",
    "if s and s.pickle_exists('HEADER_PATTERN_DICT'):\n",
    "    header_pattern_dict = s.load_object('HEADER_PATTERN_DICT')\n",
    "SAVES_HTML_FOLDER = os.path.join(s.saves_folder, 'html')\n",
    "files_list = os.listdir(SAVES_HTML_FOLDER)\n",
    "file_name = random.choice(files_list)\n",
    "while file_name not in header_pattern_dict:\n",
    "    file_name = random.choice(files_list)\n",
    "feature_dict_list = header_pattern_dict[file_name]"
   ]
  },
  {
   "cell_type": "code",
   "execution_count": 81,
   "id": "99736dfc-8b0d-4d47-afcb-75f430dbca30",
   "metadata": {},
   "outputs": [
    {
     "data": {
      "text/plain": [
       "\"[{'initial_tag': 'hrq', 'is_header': True, 'is_task_scope': False, 'is_minimum_qualification': True, 'is_preferred_qualification': False, 'is_legal_notification': False, 'is_job_title': False, 'is_off\""
      ]
     },
     "execution_count": 81,
     "metadata": {},
     "output_type": "execute_result"
    }
   ],
   "source": [
    "\n",
    "str(feature_dict_list)[:200]"
   ]
  },
  {
   "cell_type": "code",
   "execution_count": 82,
   "id": "abe2f629-d5c7-4b63-937b-63e0db4ab265",
   "metadata": {},
   "outputs": [
    {
     "data": {
      "text/plain": [
       "[['O-IP', 'O-IP', 'O-IP', 'O-IP', 'O-IP', 'O-IP', 'O-IP', 'O-IP', 'O-IP', 'O-IP', 'O-IP', 'O-IP', 'O-IP', 'O-IP', 'O-IP', 'O-IP', 'O-IP', 'O-IP', 'O-IP', 'O-IP', 'O-IP', 'O-IP', 'O-IP', 'O-IP', 'O-IP']]"
      ]
     },
     "execution_count": 82,
     "metadata": {},
     "output_type": "execute_result"
    }
   ],
   "source": [
    "\n",
    "crf.CRF.predict([feature_dict_list])"
   ]
  },
  {
   "cell_type": "code",
   "execution_count": 91,
   "id": "3ce79123-699d-4963-bdfd-70e0d027f358",
   "metadata": {},
   "outputs": [
    {
     "data": {
      "text/plain": [
       "[['O-CS', 'O-CS', 'O-CS', 'O-CS', 'O-CS', 'O-CS', 'O-CS', 'O-CS', 'O-CS', 'O-CS', 'O-CS', 'O-CS', 'O-CS', 'O-CS', 'O-CS', 'O-CS', 'O-CS', 'O-CS', 'O-CS', 'O-CS', 'O-CS', 'O-CS', 'O-CS', 'O-CS', 'O-CS']]"
      ]
     },
     "execution_count": 91,
     "metadata": {},
     "output_type": "execute_result"
    }
   ],
   "source": [
    "\n",
    "symbols_list = []\n",
    "for symbol_probs_dict in crf.CRF.predict_marginals([feature_dict_list])[0]:\n",
    "    pos_symbol = sorted([(s, p) for s, p in symbol_probs_dict.items()], key=lambda x: x[1], reverse=True)[0][0]\n",
    "    symbols_list.append(pos_symbol)\n",
    "[symbols_list]"
   ]
  },
  {
   "cell_type": "code",
   "execution_count": 52,
   "id": "2189d8b6-abfc-4abb-8507-e677d209610c",
   "metadata": {},
   "outputs": [
    {
     "name": "stdout",
     "output_type": "stream",
     "text": [
      "Predicted labels created in 13 seconds\n"
     ]
    }
   ],
   "source": [
    "\n",
    "t1 = time.time()\n",
    "from pandas import Series\n",
    "\n",
    "y_crf_predicted = []\n",
    "for navigable_parent in part_of_speech_dict.keys():\n",
    "    predictions_list = crf.CRF.predict_single(navigable_parent)\n",
    "    pos_symbol = 'O-O'\n",
    "    if predictions_list:\n",
    "        pos_symbol = Series(predictions_list).mode().squeeze()\n",
    "        if type(pos_symbol) != str:\n",
    "            pos_symbol = predictions_list[0]\n",
    "    y_crf_predicted.append((pos_symbol, ))\n",
    "duration_str = humanize.precisedelta(time.time() - t1, minimum_unit='seconds', format='%0.0f')\n",
    "print(f'Predicted labels created in {duration_str}')"
   ]
  },
  {
   "cell_type": "code",
   "execution_count": 53,
   "id": "98ad6293-c21f-407d-ae92-071e56535c4e",
   "metadata": {},
   "outputs": [
    {
     "data": {
      "text/plain": [
       "[('O-IP',), ('O-IP',)]"
      ]
     },
     "execution_count": 53,
     "metadata": {},
     "output_type": "execute_result"
    }
   ],
   "source": [
    "\n",
    "y_crf_predicted[-2:]"
   ]
  },
  {
   "cell_type": "code",
   "execution_count": 51,
   "id": "730aaa82-a2c6-4183-92c4-73511735841a",
   "metadata": {},
   "outputs": [
    {
     "data": {
      "text/plain": [
       "[('O-O',), ('O-O',)]"
      ]
     },
     "execution_count": 51,
     "metadata": {},
     "output_type": "execute_result"
    }
   ],
   "source": [
    "\n",
    "y_actual[-2:]"
   ]
  },
  {
   "cell_type": "code",
   "execution_count": 54,
   "id": "f58d371c-de12-4e11-a99b-3702c4990ad8",
   "metadata": {},
   "outputs": [
    {
     "data": {
      "text/plain": [
       "array(['H-CS', 'H-ER', 'H-IP', 'H-JD', 'H-JT', 'H-LN', 'H-O', 'H-OL',\n",
       "       'H-PD', 'H-PQ', 'H-RQ', 'H-SP', 'H-TS', 'O-CS', 'O-ER', 'O-IP',\n",
       "       'O-JD', 'O-JT', 'O-LN', 'O-O', 'O-OL', 'O-PD', 'O-PQ', 'O-RQ',\n",
       "       'O-SP', 'O-TS'], dtype=object)"
      ]
     },
     "execution_count": 54,
     "metadata": {},
     "output_type": "execute_result"
    }
   ],
   "source": [
    "\n",
    "from sklearn.preprocessing import MultiLabelBinarizer\n",
    "\n",
    "# Create the MultiLabelBinarizer object\n",
    "mlb = MultiLabelBinarizer()\n",
    "\n",
    "# Fit and transform the y_test and y_pred sequences\n",
    "y_actual_transformed = mlb.fit_transform(y_actual[:])\n",
    "y_crf_pred_transformed = mlb.transform(y_crf_predicted[:])\n",
    "mlb.classes_"
   ]
  },
  {
   "cell_type": "markdown",
   "id": "72df1069-0ac1-4d84-a522-5e6a611939d8",
   "metadata": {},
   "source": [
    "\n",
    "## CRF Visualization"
   ]
  },
  {
   "cell_type": "raw",
   "id": "4bca73f3-a3ef-44fb-bcb4-29264d754d3d",
   "metadata": {},
   "source": [
    "\n",
    "\tprecision\trecall\tf1-score\tsupport\n",
    "pos_symbol\t\t\t\t\n",
    "O-JT\t0.998077\t0.997572\t0.997824\t9883\n",
    "O-PD\t0.958199\t0.990033\t0.973856\t301\n",
    "O-RQ\t0.933278\t0.981129\t0.956605\t17222\n",
    "O-IP\t0.995183\t0.977175\t0.986097\t4863\n",
    "O-JD\t0.984694\t0.966611\t0.975569\t599\n",
    "O-TS\t0.984749\t0.963588\t0.974053\t6701\n",
    "weighted avg\t0.948983\t0.947669\t0.946299\t46569\n",
    "micro avg\t0.947893\t0.947669\t0.947781\t46569\n",
    "samples avg\t0.947669\t0.947669\t0.947669\t46569\n",
    "O-CS\t0.977901\t0.897338\t0.935889\t789\n",
    "O-LN\t0.954545\t0.875000\t0.913043\t96\n",
    "O-SP\t0.954545\t0.870056\t0.910345\t531\n",
    "H-RQ\t0.671492\t0.867480\t0.757006\t1230\n",
    "O-OL\t0.873016\t0.859375\t0.866142\t192\n",
    "H-ER\t1.000000\t0.836066\t0.910714\t61\n",
    "H-CS\t0.819079\t0.811075\t0.815057\t307\n",
    "H-TS\t0.872390\t0.761134\t0.812973\t494\n",
    "H-PQ\t0.929032\t0.721805\t0.812412\t399\n",
    "macro avg\t0.876071\t0.721784\t0.775222\t46569\n",
    "H-SP\t0.902256\t0.693642\t0.784314\t173\n",
    "H-LN\t0.933333\t0.677419\t0.785047\t62\n",
    "O-PQ\t0.837155\t0.662634\t0.739740\t2149\n",
    "H-JT\t0.753846\t0.662162\t0.705036\t74\n",
    "O-ER\t0.888889\t0.516129\t0.653061\t31\n",
    "O-O\t0.844444\t0.506667\t0.633333\t75\n",
    "H-IP\t0.979592\t0.494845\t0.657534\t97\n",
    "H-OL\t0.875000\t0.494118\t0.631579\t85\n",
    "H-O\t0.857143\t0.450000\t0.590164\t120\n",
    "H-JD\t1.000000\t0.233333\t0.378378\t30\n",
    "H-PD\t0.000000\t0.000000\t0.000000\t5"
   ]
  },
  {
   "cell_type": "code",
   "execution_count": 55,
   "id": "15c6aa29-be01-469e-8172-9b35d93cd551",
   "metadata": {},
   "outputs": [
    {
     "data": {
      "text/html": [
       "<div>\n",
       "<style scoped>\n",
       "    .dataframe tbody tr th:only-of-type {\n",
       "        vertical-align: middle;\n",
       "    }\n",
       "\n",
       "    .dataframe tbody tr th {\n",
       "        vertical-align: top;\n",
       "    }\n",
       "\n",
       "    .dataframe thead th {\n",
       "        text-align: right;\n",
       "    }\n",
       "</style>\n",
       "<table border=\"1\" class=\"dataframe\">\n",
       "  <thead>\n",
       "    <tr style=\"text-align: right;\">\n",
       "      <th></th>\n",
       "      <th>precision</th>\n",
       "      <th>recall</th>\n",
       "      <th>f1-score</th>\n",
       "      <th>support</th>\n",
       "    </tr>\n",
       "    <tr>\n",
       "      <th>pos_symbol</th>\n",
       "      <th></th>\n",
       "      <th></th>\n",
       "      <th></th>\n",
       "      <th></th>\n",
       "    </tr>\n",
       "  </thead>\n",
       "  <tbody>\n",
       "    <tr>\n",
       "      <th>O-IP</th>\n",
       "      <td>0.102410</td>\n",
       "      <td>0.999385</td>\n",
       "      <td>0.185782</td>\n",
       "      <td>4882</td>\n",
       "    </tr>\n",
       "    <tr>\n",
       "      <th>micro avg</th>\n",
       "      <td>0.102349</td>\n",
       "      <td>0.102349</td>\n",
       "      <td>0.102349</td>\n",
       "      <td>47670</td>\n",
       "    </tr>\n",
       "    <tr>\n",
       "      <th>weighted avg</th>\n",
       "      <td>0.010488</td>\n",
       "      <td>0.102349</td>\n",
       "      <td>0.019026</td>\n",
       "      <td>47670</td>\n",
       "    </tr>\n",
       "    <tr>\n",
       "      <th>samples avg</th>\n",
       "      <td>0.102349</td>\n",
       "      <td>0.102349</td>\n",
       "      <td>0.102349</td>\n",
       "      <td>47670</td>\n",
       "    </tr>\n",
       "    <tr>\n",
       "      <th>macro avg</th>\n",
       "      <td>0.003939</td>\n",
       "      <td>0.038438</td>\n",
       "      <td>0.007145</td>\n",
       "      <td>47670</td>\n",
       "    </tr>\n",
       "    <tr>\n",
       "      <th>H-JT</th>\n",
       "      <td>0.000000</td>\n",
       "      <td>0.000000</td>\n",
       "      <td>0.000000</td>\n",
       "      <td>77</td>\n",
       "    </tr>\n",
       "    <tr>\n",
       "      <th>H-LN</th>\n",
       "      <td>0.000000</td>\n",
       "      <td>0.000000</td>\n",
       "      <td>0.000000</td>\n",
       "      <td>68</td>\n",
       "    </tr>\n",
       "    <tr>\n",
       "      <th>H-IP</th>\n",
       "      <td>0.000000</td>\n",
       "      <td>0.000000</td>\n",
       "      <td>0.000000</td>\n",
       "      <td>103</td>\n",
       "    </tr>\n",
       "    <tr>\n",
       "      <th>H-JD</th>\n",
       "      <td>0.000000</td>\n",
       "      <td>0.000000</td>\n",
       "      <td>0.000000</td>\n",
       "      <td>31</td>\n",
       "    </tr>\n",
       "    <tr>\n",
       "      <th>O-TS</th>\n",
       "      <td>0.000000</td>\n",
       "      <td>0.000000</td>\n",
       "      <td>0.000000</td>\n",
       "      <td>6983</td>\n",
       "    </tr>\n",
       "    <tr>\n",
       "      <th>O-SP</th>\n",
       "      <td>0.000000</td>\n",
       "      <td>0.000000</td>\n",
       "      <td>0.000000</td>\n",
       "      <td>603</td>\n",
       "    </tr>\n",
       "    <tr>\n",
       "      <th>O-RQ</th>\n",
       "      <td>0.000000</td>\n",
       "      <td>0.000000</td>\n",
       "      <td>0.000000</td>\n",
       "      <td>17566</td>\n",
       "    </tr>\n",
       "    <tr>\n",
       "      <th>O-PQ</th>\n",
       "      <td>0.000000</td>\n",
       "      <td>0.000000</td>\n",
       "      <td>0.000000</td>\n",
       "      <td>2264</td>\n",
       "    </tr>\n",
       "    <tr>\n",
       "      <th>O-PD</th>\n",
       "      <td>0.000000</td>\n",
       "      <td>0.000000</td>\n",
       "      <td>0.000000</td>\n",
       "      <td>300</td>\n",
       "    </tr>\n",
       "    <tr>\n",
       "      <th>O-OL</th>\n",
       "      <td>0.000000</td>\n",
       "      <td>0.000000</td>\n",
       "      <td>0.000000</td>\n",
       "      <td>202</td>\n",
       "    </tr>\n",
       "    <tr>\n",
       "      <th>O-O</th>\n",
       "      <td>0.000000</td>\n",
       "      <td>0.000000</td>\n",
       "      <td>0.000000</td>\n",
       "      <td>93</td>\n",
       "    </tr>\n",
       "    <tr>\n",
       "      <th>O-LN</th>\n",
       "      <td>0.000000</td>\n",
       "      <td>0.000000</td>\n",
       "      <td>0.000000</td>\n",
       "      <td>122</td>\n",
       "    </tr>\n",
       "    <tr>\n",
       "      <th>O-JT</th>\n",
       "      <td>0.000000</td>\n",
       "      <td>0.000000</td>\n",
       "      <td>0.000000</td>\n",
       "      <td>9894</td>\n",
       "    </tr>\n",
       "    <tr>\n",
       "      <th>O-JD</th>\n",
       "      <td>0.000000</td>\n",
       "      <td>0.000000</td>\n",
       "      <td>0.000000</td>\n",
       "      <td>601</td>\n",
       "    </tr>\n",
       "    <tr>\n",
       "      <th>H-ER</th>\n",
       "      <td>0.000000</td>\n",
       "      <td>0.000000</td>\n",
       "      <td>0.000000</td>\n",
       "      <td>62</td>\n",
       "    </tr>\n",
       "    <tr>\n",
       "      <th>O-ER</th>\n",
       "      <td>0.000000</td>\n",
       "      <td>0.000000</td>\n",
       "      <td>0.000000</td>\n",
       "      <td>31</td>\n",
       "    </tr>\n",
       "    <tr>\n",
       "      <th>O-CS</th>\n",
       "      <td>0.000000</td>\n",
       "      <td>0.000000</td>\n",
       "      <td>0.000000</td>\n",
       "      <td>858</td>\n",
       "    </tr>\n",
       "    <tr>\n",
       "      <th>H-TS</th>\n",
       "      <td>0.000000</td>\n",
       "      <td>0.000000</td>\n",
       "      <td>0.000000</td>\n",
       "      <td>543</td>\n",
       "    </tr>\n",
       "    <tr>\n",
       "      <th>H-SP</th>\n",
       "      <td>0.000000</td>\n",
       "      <td>0.000000</td>\n",
       "      <td>0.000000</td>\n",
       "      <td>185</td>\n",
       "    </tr>\n",
       "    <tr>\n",
       "      <th>H-RQ</th>\n",
       "      <td>0.000000</td>\n",
       "      <td>0.000000</td>\n",
       "      <td>0.000000</td>\n",
       "      <td>1253</td>\n",
       "    </tr>\n",
       "    <tr>\n",
       "      <th>H-PQ</th>\n",
       "      <td>0.000000</td>\n",
       "      <td>0.000000</td>\n",
       "      <td>0.000000</td>\n",
       "      <td>409</td>\n",
       "    </tr>\n",
       "    <tr>\n",
       "      <th>H-PD</th>\n",
       "      <td>0.000000</td>\n",
       "      <td>0.000000</td>\n",
       "      <td>0.000000</td>\n",
       "      <td>5</td>\n",
       "    </tr>\n",
       "    <tr>\n",
       "      <th>H-OL</th>\n",
       "      <td>0.000000</td>\n",
       "      <td>0.000000</td>\n",
       "      <td>0.000000</td>\n",
       "      <td>88</td>\n",
       "    </tr>\n",
       "    <tr>\n",
       "      <th>H-O</th>\n",
       "      <td>0.000000</td>\n",
       "      <td>0.000000</td>\n",
       "      <td>0.000000</td>\n",
       "      <td>123</td>\n",
       "    </tr>\n",
       "    <tr>\n",
       "      <th>H-CS</th>\n",
       "      <td>0.000000</td>\n",
       "      <td>0.000000</td>\n",
       "      <td>0.000000</td>\n",
       "      <td>324</td>\n",
       "    </tr>\n",
       "  </tbody>\n",
       "</table>\n",
       "</div>"
      ],
      "text/plain": [
       "              precision    recall  f1-score  support\n",
       "pos_symbol                                          \n",
       "O-IP           0.102410  0.999385  0.185782     4882\n",
       "micro avg      0.102349  0.102349  0.102349    47670\n",
       "weighted avg   0.010488  0.102349  0.019026    47670\n",
       "samples avg    0.102349  0.102349  0.102349    47670\n",
       "macro avg      0.003939  0.038438  0.007145    47670\n",
       "H-JT           0.000000  0.000000  0.000000       77\n",
       "H-LN           0.000000  0.000000  0.000000       68\n",
       "H-IP           0.000000  0.000000  0.000000      103\n",
       "H-JD           0.000000  0.000000  0.000000       31\n",
       "O-TS           0.000000  0.000000  0.000000     6983\n",
       "O-SP           0.000000  0.000000  0.000000      603\n",
       "O-RQ           0.000000  0.000000  0.000000    17566\n",
       "O-PQ           0.000000  0.000000  0.000000     2264\n",
       "O-PD           0.000000  0.000000  0.000000      300\n",
       "O-OL           0.000000  0.000000  0.000000      202\n",
       "O-O            0.000000  0.000000  0.000000       93\n",
       "O-LN           0.000000  0.000000  0.000000      122\n",
       "O-JT           0.000000  0.000000  0.000000     9894\n",
       "O-JD           0.000000  0.000000  0.000000      601\n",
       "H-ER           0.000000  0.000000  0.000000       62\n",
       "O-ER           0.000000  0.000000  0.000000       31\n",
       "O-CS           0.000000  0.000000  0.000000      858\n",
       "H-TS           0.000000  0.000000  0.000000      543\n",
       "H-SP           0.000000  0.000000  0.000000      185\n",
       "H-RQ           0.000000  0.000000  0.000000     1253\n",
       "H-PQ           0.000000  0.000000  0.000000      409\n",
       "H-PD           0.000000  0.000000  0.000000        5\n",
       "H-OL           0.000000  0.000000  0.000000       88\n",
       "H-O            0.000000  0.000000  0.000000      123\n",
       "H-CS           0.000000  0.000000  0.000000      324"
      ]
     },
     "execution_count": 55,
     "metadata": {},
     "output_type": "execute_result"
    }
   ],
   "source": [
    "\n",
    "# Compute the classification report\n",
    "pos_symbol_crf_df = DataFrame.from_dict(classification_report(y_actual_transformed, y_crf_pred_transformed, target_names=mlb.classes_,\n",
    "                                                              zero_division=0, output_dict=True),\n",
    "                                        orient='index')\n",
    "pos_symbol_crf_df.index.name = 'pos_symbol'\n",
    "pos_symbol_crf_df.sort_values('recall', ascending=False)"
   ]
  },
  {
   "cell_type": "code",
   "execution_count": 76,
   "id": "3fe80356-c69a-4579-b298-31e40e871b31",
   "metadata": {},
   "outputs": [
    {
     "name": "stdout",
     "output_type": "stream",
     "text": [
      "predict_single is now available\n",
      "Parts-of-speech conditional random field elements built in 2 seconds\n"
     ]
    }
   ],
   "source": [
    "\n",
    "# Check if the scrfcu has built its parts-of-speech conditional random field elements\n",
    "# Parts-of-speech CRF elements normally built in 29 minutes and 57 seconds\n",
    "t1 = time.time()\n",
    "if not hasattr(scrfcu, 'pos_symbol_crf'):\n",
    "    scrfcu.build_pos_conditional_random_field_elements(verbose=True)\n",
    "if hasattr(scrfcu, 'pos_predict_percent_fit_dict'):\n",
    "    print('predict_single is now available')\n",
    "else:\n",
    "    print('predict_single is not available')\n",
    "duration_str = humanize.precisedelta(time.time() - t1, minimum_unit='seconds', format='%0.0f')\n",
    "print(f'Parts-of-speech conditional random field elements built in {duration_str}')"
   ]
  },
  {
   "cell_type": "code",
   "execution_count": null,
   "id": "ff24d78f-8b4d-4e16-8585-006dc14c61ab",
   "metadata": {},
   "outputs": [],
   "source": [
    "\n",
    "child_strs_list = ha.get_child_strs_from_file(file_name=file_name)\n",
    "child_tags_list = ha.get_child_tags_list(child_strs_list)\n",
    "feature_dict_list = cu.get_feature_dict_list(child_tags_list, child_strs_list)\n",
    "feature_tuple_list = []\n",
    "for feature_dict in feature_dict_list:\n",
    "    feature_tuple_list.append(hc.get_feature_tuple(\n",
    "        feature_dict, pos_lr_predict_single=slrcu.predict_single, pos_crf_predict_single=scrfcu.predict_single,\n",
    "        pos_sgd_predict_single=ssgdcu.predict_single\n",
    "    ))\n",
    "random.choice(feature_tuple_list)"
   ]
  },
  {
   "cell_type": "code",
   "execution_count": 71,
   "id": "f997aa65-b8f9-4a9d-9ce9-92193489cec3",
   "metadata": {},
   "outputs": [
    {
     "name": "stdout",
     "output_type": "stream",
     "text": [
      "I have 49,163 labeled parts of speech in here\n",
      "predict_single is now available\n",
      "Parts-of-speech stochastic gradient descent elements built in 12 seconds\n"
     ]
    }
   ],
   "source": [
    "\n",
    "# Check if the ssgdcu has built its parts-of-speech stochastic gradient decent elements\n",
    "t1 = time.time()\n",
    "if not hasattr(ssgdcu, 'pos_predict_percent_fit_dict'):\n",
    "    ssgdcu.build_pos_stochastic_gradient_descent_elements(sampling_strategy_limit=None, verbose=True)\n",
    "if hasattr(ssgdcu, 'pos_predict_percent_fit_dict'):\n",
    "    print('predict_single is now available')\n",
    "else:\n",
    "    print('predict_single is not available')\n",
    "duration_str = humanize.precisedelta(time.time() - t1, minimum_unit='seconds', format='%0.0f')\n",
    "print(f'Parts-of-speech stochastic gradient descent elements built in {duration_str}')"
   ]
  },
  {
   "cell_type": "code",
   "execution_count": 75,
   "id": "51ec29b2-0e40-4f66-9961-c707b81219cb",
   "metadata": {},
   "outputs": [
    {
     "data": {
      "text/plain": [
       "['BOS', 'EOS', 'postag', 'position', '+0:postag', 'tag.span_set', 'tag.lists_set', 'tag.forms_set', 'tag.anchor_set', 'tag.tables_set', 'tag.frames_set', 'tag.general_set', '+0:tag.span_set', 'tag.null_element', '+0:previous==tag', '+0:tag.lists_set', '+0:tag.forms_set', '+0:tag.anchor_set', '+0:tag.tables_set', '+0:tag.frames_set', 'tag.basic_text_set', '+0:tag.general_set', '+0:tag.null_element', 'tag.presentation_set', '+0:tag.basic_text_set', 'tag.block_elements_set', 'tag.inline_elements_set', 'tag.phrase_elements_set', '+0:tag.presentation_set', 'tag.section_headings_set', 'tag.historic_elements_set', '+0:tag.block_elements_set', 'tag.images_and_objects_set', '+0:tag.inline_elements_set', '+0:tag.phrase_elements_set', 'tag.pos_symbol_elements_set', '+0:tag.section_headings_set', 'tag.other_block_elements_set', '+0:tag.historic_elements_set', 'tag.other_inline_elements_set', 'tag.non_standard_elements_set', 'tag.consecutive_previous_tags', '+0:tag.images_and_objects_set', 'tag.document_head_elements_set', 'tag.document_body_elements_set', '+0:tag.pos_symbol_elements_set', '+0:tag.other_block_elements_set', 'tag.computer_phrase_elements_set', 'child_str.pos_sgd_predict_single', '+0:tag.other_inline_elements_set', '+0:tag.non_standard_elements_set', '+0:tag.document_head_elements_set', '+0:tag.document_body_elements_set', 'tag.document_structure_elements_set', '+0:tag.computer_phrase_elements_set', '+0:tag.document_structure_elements_set']"
      ]
     },
     "execution_count": 75,
     "metadata": {},
     "output_type": "execute_result"
    }
   ],
   "source": [
    "\n",
    "feature_tuple = random.choice(feature_tuple_list)\n",
    "sorted(crf.word2features([feature_tuple], 0).keys(), key=lambda x: len(x))"
   ]
  },
  {
   "cell_type": "markdown",
   "id": "3885a99e-2961-4d33-bbad-7fac18d3c104",
   "metadata": {},
   "source": [
    "\n",
    "---\n",
    "# Parts-of-speech Prediction by Logistic Regression Algorithm\n",
    "## LR Data Preparation\n",
    "This stage involves preparing the LR dataset for evaluation by transforming the data with a multi-label binarizer."
   ]
  },
  {
   "cell_type": "code",
   "execution_count": 16,
   "id": "bbf36973-ac32-471e-9f7b-2c8aa77b369b",
   "metadata": {},
   "outputs": [
    {
     "name": "stdout",
     "output_type": "stream",
     "text": [
      "I have 47,946 labeled parts of speech in here\n",
      "Parts-of-speech logistic regression elements built in 1 hour, 59 minutes and 54 seconds\n"
     ]
    }
   ],
   "source": [
    "\n",
    "# Keep the total creation time to less than one hour by adjusting the sampling strategy limit\n",
    "# I have 47,686 labeled parts of speech in here\n",
    "# Parts-of-speech logistic regression elements built in 2 hours, 3 minutes and 10 seconds\n",
    "t1 = time.time()\n",
    "if not (hasattr(slrcu, 'pos_predict_percent_fit_dict')):# or crf.is_flask_running()\n",
    "    slrcu.build_pos_logistic_regression_elements(sampling_strategy_limit=None, verbose=True)#6_400\n",
    "duration_str = humanize.precisedelta(time.time() - t1, minimum_unit='seconds', format='%0.0f')\n",
    "print(f'Parts-of-speech logistic regression elements built in {duration_str}')"
   ]
  },
  {
   "cell_type": "code",
   "execution_count": 17,
   "id": "364ad468-1f77-4c83-95b2-a0ebe5aec1db",
   "metadata": {},
   "outputs": [
    {
     "name": "stdout",
     "output_type": "stream",
     "text": [
      "Predicted labels created in 9 hours, 5 minutes and 5 seconds\n"
     ]
    }
   ],
   "source": [
    "\n",
    "t0 = time.time()\n",
    "y_lr_predicted = [(slrcu.predict_single(navigable_parent), ) for navigable_parent in part_of_speech_dict.keys()]\n",
    "duration_str = humanize.precisedelta(time.time() - t0, minimum_unit='seconds', format='%0.0f')\n",
    "print(f'Predicted labels created in {duration_str}')"
   ]
  },
  {
   "cell_type": "code",
   "execution_count": 18,
   "id": "9692cd05-f21c-4532-89a0-8ad2bafb81da",
   "metadata": {},
   "outputs": [
    {
     "data": {
      "text/plain": [
       "[('O-O',), ('O-RQ',)]"
      ]
     },
     "execution_count": 18,
     "metadata": {},
     "output_type": "execute_result"
    }
   ],
   "source": [
    "\n",
    "y_lr_predicted[-2:]"
   ]
  },
  {
   "cell_type": "code",
   "execution_count": 19,
   "id": "b704e225-d842-4367-b14b-64a8aa4a5f5d",
   "metadata": {},
   "outputs": [
    {
     "data": {
      "text/plain": [
       "[('O-O',), ('O-O',)]"
      ]
     },
     "execution_count": 19,
     "metadata": {},
     "output_type": "execute_result"
    }
   ],
   "source": [
    "\n",
    "y_actual[-2:]"
   ]
  },
  {
   "cell_type": "code",
   "execution_count": 20,
   "id": "6b848743-75a6-4a17-9bd0-5a9e4fc333a7",
   "metadata": {},
   "outputs": [
    {
     "data": {
      "text/plain": [
       "array(['H-CS', 'H-ER', 'H-IP', 'H-JD', 'H-JT', 'H-LN', 'H-O', 'H-OL',\n",
       "       'H-PD', 'H-PQ', 'H-RQ', 'H-SP', 'H-TS', 'O-CS', 'O-ER', 'O-IP',\n",
       "       'O-JD', 'O-JT', 'O-LN', 'O-O', 'O-OL', 'O-PD', 'O-PQ', 'O-RQ',\n",
       "       'O-SP', 'O-TS'], dtype=object)"
      ]
     },
     "execution_count": 20,
     "metadata": {},
     "output_type": "execute_result"
    }
   ],
   "source": [
    "\n",
    "from sklearn.preprocessing import MultiLabelBinarizer\n",
    "\n",
    "# Create the MultiLabelBinarizer object\n",
    "mlb = MultiLabelBinarizer()\n",
    "\n",
    "# Fit and transform the y_test and y_pred sequences\n",
    "y_actual_transformed = mlb.fit_transform(y_actual)\n",
    "y_lr_pred_transformed = mlb.transform(y_lr_predicted)\n",
    "mlb.classes_"
   ]
  },
  {
   "cell_type": "markdown",
   "id": "d2302f13-a85a-4630-bffb-eab8b29bb043",
   "metadata": {},
   "source": [
    "\n",
    "## LR Visualization"
   ]
  },
  {
   "cell_type": "code",
   "execution_count": null,
   "id": "f8fc84f2-a336-4380-a471-e5981b6574b9",
   "metadata": {},
   "outputs": [],
   "source": [
    "\n",
    "# Compute the classification report\n",
    "pos_symbol_lr_df = DataFrame.from_dict(classification_report(y_actual_transformed, y_lr_pred_transformed, target_names=mlb.classes_,\n",
    "                                                             zero_division=0, output_dict=True),\n",
    "                                        orient='index')\n",
    "pos_symbol_lr_df.index.name = 'pos_symbol'\n",
    "pos_symbol_lr_df.sort_values('recall', ascending=False)"
   ]
  },
  {
   "cell_type": "markdown",
   "id": "fdd77d22-abf7-4a69-afb4-c3746eb2d07b",
   "metadata": {},
   "source": [
    "\n",
    "----"
   ]
  },
  {
   "cell_type": "code",
   "execution_count": 19,
   "id": "b0ebc79c-c52a-45c7-8a83-f5403b476951",
   "metadata": {},
   "outputs": [],
   "source": [
    "\n",
    "sents_list = [\n",
    "    \"<div>At PRA, we don't make our 17000+ people great. It's the other way around. As we have grown to a top-5 CRO, we have maintained the feel of a small company, dedicated to collaboration and passion for what we do.</div>\",\n",
    "    \"<div>We always have a desire to keep seeking new and better ways to operate. We don't settle for the same old ways. Our passion for improving patient lives worldwide permeates all that we do. Put simply, we care.</div>\",\n",
    "    '<b>Responsibilities</b>',\n",
    "    '<div>Due to growth we are currently seeking a Central Data Scientist, to work as part of an established global group that supports project teams in analyzing clinical data to identify risks and data issues, using advanced analytical techniques.</div>',\n",
    "    '<div>Acting as a Key Functional Lead on projects; the Central Data Scientist will assess trial compliance, perform trending analysis, exploratory data reviews and report findings to internal and external stakeholders.</div>',\n",
    "    '<div>Key responsibilities in this role include:</div>',\n",
    "    '<li>Developing and maintaining study documents specifying strategy, approach and procedures on assigned protocols/projects.</li>',\n",
    "    '<li>Providing input to applications, databases and systems used to assess study data quality.</li>',\n",
    "    '<li>Reviewing clinical data at aggregate level regularly throughout assigned studies using analytical reporting tools to support the identification of risks and data patterns/trends.</li>',\n",
    "    '<li>Creating analytical reports and presentations to facilitate review and data-driven decision making during team meetings</li>',\n",
    "    '<li>Performs analytical reviews and collaborates with assigned project teams to address data-related questions and recommend potential solutions.</li>',\n",
    "    '<li>Provides input during adaptive monitoring assessment process.</li>',\n",
    "    '<li>Documents review findings utilizing applicable systems, according to standard procedures.</li>',\n",
    "    '<li>Develops analytical reports using programming knowledge and data modeling techniques, e.g., SQL, SAS.</li>',\n",
    "    '<li>Leads Analysis of Findings meetings on assigned projects.</li>',\n",
    "    '<li>Escalates project concerns such as outof-scope tasks, at-risk project deliverables and project team relationship issues to functional and project managers in a timely fashion.</li>',\n",
    "    '<b>Qualifications</b>',\n",
    "    '<p>You are...</p>',\n",
    "    '<p>Analytically-minded, a problem-solver</p>',\n",
    "    '<p>Here at PRA we want our employees to succeed and ensure that they are set up for this success through constant training, development and support. To enable success in this position you will have:</p>',\n",
    "    \"<li>Bachelor's degree (or equivalent) in a Scientific or Healthcare discipline</li>\",\n",
    "    '<li>Previous experience, ideally in a similar role, but we are also open to considering people with other relevant clinical trials experience, including those working as Lead Data Managers, Programmers, Clinical Research Associates, Clinical Team Managers and Project Managers.</li>',\n",
    "    'Familiarity with',\n",
    "    '<b>risk-based monitoring</b>',\n",
    "    '<li>Technical ability: use of JReview specifically or other analytical/visualization tool (e.g Spotfire, SAS JMP Clinical, SAS, R) or at a very minimum significant experience in using excel (including pivot tables, graphics and data exploration).</li>',\n",
    "    '<li>Analytical thinker: ability to break down issues into manageable components</li>',\n",
    "    '<b>SQL experience</b>',\n",
    "    'Skills in aggregating data review and interpretation using visualization/analysis software e.g.',\n",
    "    'JReview, Tableau, SAS',\n",
    "    '<div>You will be frequently collaborating within multi-cultural global teams, so will need to demonstrate excellent written and oral communication skills, exhibit pro-active teamwork alongside a positive attitude, and maintain up-to-date industry awareness and understanding of regulation/standards.</div>',\n",
    "    '<b>PRA is an EEO/AA employer and is committed to providing opportunities to minorities, women, veterans and individuals with disabilities.</b>',\n",
    "    '<b>Options</b>',\n",
    "    '<div>Apply for this job onlineApply</div>',\n",
    "    '<div>Share</div>',\n",
    "    '<div>Sorry the Share function is not working properly at this moment. Please refresh the page and try again later.</div>',\n",
    "    '<div>Share on your newsfeed</div>',\n",
    "    '<b>Connect With Us!</b>'\n",
    "]\n",
    "pos_symbols_list = [\n",
    "    'O-CS',\n",
    "    'O-CS',\n",
    "    'H-TS',\n",
    "    'O-IP',\n",
    "    'O-TS',\n",
    "    'H-TS',\n",
    "    'O-TS',\n",
    "    'O-TS',\n",
    "    'O-TS',\n",
    "    'O-TS',\n",
    "    'O-TS',\n",
    "    'O-TS',\n",
    "    'O-TS',\n",
    "    'O-TS',\n",
    "    'O-TS',\n",
    "    'O-TS',\n",
    "    'H-RQ',\n",
    "    'H-RQ',\n",
    "    'O-RQ',\n",
    "    'O-IP',\n",
    "    'O-ER',\n",
    "    'O-RQ',\n",
    "    'H-RQ',\n",
    "    'O-RQ',\n",
    "    'O-RQ',\n",
    "    'O-RQ',\n",
    "    'O-RQ',\n",
    "    'H-RQ',\n",
    "    'O-RQ',\n",
    "    'O-RQ',\n",
    "    'O-LN',\n",
    "    'H-O',\n",
    "    'O-O',\n",
    "    'O-O',\n",
    "    'O-O',\n",
    "    'O-O',\n",
    "    'O-IP'\n",
    "]\n",
    "tokens_list = [ha.html_regex_tokenizer(sentence) for sentence in sents_list]\n",
    "from nltk import pos_tag\n",
    "pos_tags_list = [pos_tag(tokens) for tokens in tokens_list]\n",
    "def word2features(sent, i):\n",
    "    word = sent[i][0]\n",
    "    postag = sent[i][1]\n",
    "    features = {\n",
    "        'word': word,\n",
    "        'postag': postag\n",
    "    }\n",
    "\n",
    "    return features\n",
    "def sent2features(sent):\n",
    "\n",
    "    return [word2features(sent, i) for i in range(len(sent))]\n",
    "def sent2labels(pos_symbol, sent):\n",
    "\n",
    "    return [pos_symbol] * len(sent)\n",
    "X = [sent2features(pos_tags) for pos_tags in pos_tags_list]\n",
    "y = [sent2labels(pos_symbol, pos_tag) for pos_tag, pos_symbol in zip(pos_tags_list, pos_symbols_list)]\n",
    "import sklearn_crfsuite\n",
    "pos_symbol_crf = sklearn_crfsuite.CRF(algorithm='lbfgs', c1=0.1, c2=0.1, max_iterations=100, all_possible_transitions=True)\n",
    "try:\n",
    "    pos_symbol_crf.fit(X, y)\n",
    "except AttributeError:\n",
    "    pass"
   ]
  },
  {
   "cell_type": "code",
   "execution_count": 28,
   "id": "ecb3342d-5c2a-4133-afae-f64165c65956",
   "metadata": {},
   "outputs": [
    {
     "data": {
      "text/plain": [
       "{'word': '<div', 'postag': 'NN'}"
      ]
     },
     "execution_count": 28,
     "metadata": {},
     "output_type": "execute_result"
    }
   ],
   "source": [
    "\n",
    "X[0][0]"
   ]
  },
  {
   "cell_type": "code",
   "execution_count": 33,
   "id": "22d98316-6386-4764-acea-21be3b7a53d7",
   "metadata": {},
   "outputs": [
    {
     "data": {
      "text/plain": [
       "0.930723015065452"
      ]
     },
     "execution_count": 33,
     "metadata": {},
     "output_type": "execute_result"
    }
   ],
   "source": [
    "\n",
    "import numpy as np\n",
    "\n",
    "pos_symbol_dicts_list = pos_symbol_crf.predict_marginals(X)[0]\n",
    "np.mean([pos_symbol_dict['O-CS'] for pos_symbol_dict in pos_symbol_dicts_list])"
   ]
  },
  {
   "cell_type": "code",
   "execution_count": 22,
   "id": "b6329a3c-4948-4f79-b683-86deb608dfab",
   "metadata": {},
   "outputs": [
    {
     "data": {
      "text/plain": [
       "['pos_symbol_crf.predict', 'pos_symbol_crf.predict_marginals', 'pos_symbol_crf.predict_marginals_single', 'pos_symbol_crf.predict_single']"
      ]
     },
     "execution_count": 22,
     "metadata": {},
     "output_type": "execute_result"
    }
   ],
   "source": [
    "\n",
    "[f'pos_symbol_crf.{fn}' for fn in dir(pos_symbol_crf) if 'predict' in fn.lower()]"
   ]
  },
  {
   "cell_type": "code",
   "execution_count": null,
   "id": "965a257d-43c6-46fa-92ce-02968565e6a2",
   "metadata": {},
   "outputs": [],
   "source": []
  }
 ],
 "metadata": {
  "kernelspec": {
   "display_name": "Job Hunting (Python 3.10.9)",
   "language": "python",
   "name": "jh_env"
  },
  "language_info": {
   "codemirror_mode": {
    "name": "ipython",
    "version": 3
   },
   "file_extension": ".py",
   "mimetype": "text/x-python",
   "name": "python",
   "nbconvert_exporter": "python",
   "pygments_lexer": "ipython3",
   "version": "3.10.9"
  }
 },
 "nbformat": 4,
 "nbformat_minor": 5
}
