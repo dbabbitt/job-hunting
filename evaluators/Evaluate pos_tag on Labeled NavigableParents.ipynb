{
 "cells": [
  {
   "cell_type": "code",
   "execution_count": 1,
   "id": "0f6d1ba0-8544-42f5-82e0-02e5ede08560",
   "metadata": {},
   "outputs": [
    {
     "name": "stdout",
     "output_type": "stream",
     "text": [
      "Pretty printing has been turned OFF\n"
     ]
    }
   ],
   "source": [
    "\n",
    "%pprint"
   ]
  },
  {
   "cell_type": "markdown",
   "id": "d1316027-0f18-45ff-8f5a-9580745b8a10",
   "metadata": {
    "tags": []
   },
   "source": [
    "\n",
    "---\n",
    "# Load needed libraries and functions"
   ]
  },
  {
   "cell_type": "code",
   "execution_count": 2,
   "id": "85ae58ba-e752-46e7-aab4-f67b663d1bc4",
   "metadata": {},
   "outputs": [],
   "source": [
    "\n",
    "from nltk import pos_tag\n",
    "from pandas import DataFrame\n",
    "from sklearn.metrics import classification_report\n",
    "from sklearn.model_selection import train_test_split\n",
    "from sklearn_crfsuite import CRF\n",
    "import nltk\n",
    "import re\n",
    "import sys\n",
    "\n",
    "# Insert at 1, 0 is the script path (or '' in REPL)\n",
    "sys.path.insert(1, '../py')"
   ]
  },
  {
   "cell_type": "code",
   "execution_count": 7,
   "id": "24b331ce-7330-426e-8893-c304f79a4afb",
   "metadata": {},
   "outputs": [],
   "source": [
    "\n",
    "from storage import Storage\n",
    "\n",
    "s = Storage()\n",
    "\n",
    "# This is from https://www.ling.upenn.edu/courses/Fall_2003/ling001/penn_treebank_pos.html\n",
    "pos_tag_description_dict = s.load_object('pos_tag_description_dict')"
   ]
  },
  {
   "cell_type": "code",
   "execution_count": 4,
   "id": "b2031a1d-fa0a-4be4-bec7-d2f98213ab27",
   "metadata": {},
   "outputs": [],
   "source": [
    "\n",
    "from ha_utils import HeaderAnalysis\n",
    "ha = HeaderAnalysis(verbose=False)\n",
    "\n",
    "from scrape_utils import WebScrapingUtilities\n",
    "wsu = WebScrapingUtilities(s=s)\n",
    "uri = wsu.secrets_json['neo4j']['connect_url']\n",
    "user =  wsu.secrets_json['neo4j']['username']\n",
    "password = wsu.secrets_json['neo4j']['password']\n",
    "\n",
    "# Get the neo4j object\n",
    "from cypher_utils import CypherUtilities\n",
    "cu = CypherUtilities(uri=uri, user=user, password=password, driver=None, s=s, ha=ha)"
   ]
  },
  {
   "cell_type": "code",
   "execution_count": 25,
   "id": "c30083fd-a1ab-49e8-8fba-ae64b0ca4923",
   "metadata": {},
   "outputs": [],
   "source": [
    "\n",
    "# Create the tokenizer\n",
    "HTML_SCANNER_REGEX = re.compile(r'</?\\w+|\\w+[#\\+]*|:|\\.|\\?')\n",
    "def html_regex_tokenizer(corpus):\n",
    "\n",
    "    return [match.group() for match in re.finditer(HTML_SCANNER_REGEX, corpus)]"
   ]
  },
  {
   "cell_type": "markdown",
   "id": "ca47d425-3eb4-45f0-a75c-73e7e566e5d8",
   "metadata": {},
   "source": [
    "\n",
    "---\n",
    "# Training"
   ]
  },
  {
   "cell_type": "code",
   "execution_count": 144,
   "id": "4a9bf41f-8516-4714-9b8f-1c4fd4dc0d57",
   "metadata": {},
   "outputs": [
    {
     "name": "stdout",
     "output_type": "stream",
     "text": [
      "(46453, 15)\n"
     ]
    }
   ],
   "source": [
    "\n",
    "cypher_str = '''\n",
    "    // Find all NavigableParents nodes in the graph so that pandas can filter out any nodes that are not required qualifications\n",
    "    MATCH (np:NavigableParents)\n",
    "    \n",
    "    WHERE\n",
    "        EXISTS(np.is_header)\n",
    "        AND EXISTS(np.is_task_scope)\n",
    "        AND EXISTS(np.is_minimum_qualification)\n",
    "        AND EXISTS(np.is_preferred_qualification)\n",
    "        AND EXISTS(np.is_legal_notification)\n",
    "        AND EXISTS(np.is_job_title)\n",
    "        AND EXISTS(np.is_office_location)\n",
    "        AND EXISTS(np.is_job_duration)\n",
    "        AND EXISTS(np.is_supplemental_pay)\n",
    "        AND EXISTS(np.is_educational_requirement)\n",
    "        AND EXISTS(np.is_interview_procedure)\n",
    "        AND EXISTS(np.is_corporate_scope)\n",
    "        AND EXISTS(np.is_posting_date)\n",
    "        AND EXISTS(np.is_other)\n",
    "    \n",
    "    // Return the navigable parent and important features\n",
    "    RETURN\n",
    "        np.navigable_parent AS navigable_parent,\n",
    "        np.is_header AS is_header,\n",
    "        np.is_task_scope AS is_task_scope,\n",
    "        np.is_minimum_qualification AS is_minimum_qualification,\n",
    "        np.is_preferred_qualification AS is_preferred_qualification,\n",
    "        np.is_legal_notification AS is_legal_notification,\n",
    "        np.is_job_title AS is_job_title,\n",
    "        np.is_office_location AS is_office_location,\n",
    "        np.is_job_duration AS is_job_duration,\n",
    "        np.is_supplemental_pay AS is_supplemental_pay,\n",
    "        np.is_educational_requirement AS is_educational_requirement,\n",
    "        np.is_interview_procedure AS is_interview_procedure,\n",
    "        np.is_corporate_scope AS is_corporate_scope,\n",
    "        np.is_posting_date AS is_posting_date,\n",
    "        np.is_other AS is_other;'''\n",
    "row_objs_list = []\n",
    "with cu.driver.session() as session:\n",
    "    row_objs_list = session.write_transaction(cu.do_cypher_tx, cypher_str)\n",
    "if row_objs_list:\n",
    "    pos_html_strs_df = DataFrame(row_objs_list)\n",
    "    \n",
    "    # (46439, 15)\n",
    "    print(pos_html_strs_df.shape)"
   ]
  },
  {
   "cell_type": "code",
   "execution_count": 145,
   "id": "4b7d0753-4bd0-45cd-9d30-8dddc5289ce7",
   "metadata": {},
   "outputs": [
    {
     "name": "stdout",
     "output_type": "stream",
     "text": [
      "(46453, 16)\n"
     ]
    }
   ],
   "source": [
    "\n",
    "pos_html_strs_df['part_of_speech'] = ''\n",
    "\n",
    "mask_series = (pos_html_strs_df.is_other == 'True')\n",
    "pos_html_strs_df.loc[mask_series, 'part_of_speech'] = '-O'\n",
    "mask_series = (pos_html_strs_df.is_posting_date == 'True')\n",
    "pos_html_strs_df.loc[mask_series, 'part_of_speech'] = '-PD'\n",
    "mask_series = (pos_html_strs_df.is_corporate_scope == 'True')\n",
    "pos_html_strs_df.loc[mask_series, 'part_of_speech'] = '-CS'\n",
    "mask_series = (pos_html_strs_df.is_interview_procedure == 'True')\n",
    "pos_html_strs_df.loc[mask_series, 'part_of_speech'] = '-IP'\n",
    "mask_series = (pos_html_strs_df.is_supplemental_pay == 'True')\n",
    "pos_html_strs_df.loc[mask_series, 'part_of_speech'] = '-SP'\n",
    "mask_series = (pos_html_strs_df.is_job_duration == 'True')\n",
    "pos_html_strs_df.loc[mask_series, 'part_of_speech'] = '-JD'\n",
    "mask_series = (pos_html_strs_df.is_office_location == 'True')\n",
    "pos_html_strs_df.loc[mask_series, 'part_of_speech'] = '-OL'\n",
    "mask_series = (pos_html_strs_df.is_job_title == 'True')\n",
    "pos_html_strs_df.loc[mask_series, 'part_of_speech'] = '-JT'\n",
    "mask_series = (pos_html_strs_df.is_legal_notification == 'True')\n",
    "pos_html_strs_df.loc[mask_series, 'part_of_speech'] = '-LN'\n",
    "mask_series = (pos_html_strs_df.is_task_scope == 'True')\n",
    "pos_html_strs_df.loc[mask_series, 'part_of_speech'] = '-TS'\n",
    "mask_series = (pos_html_strs_df.is_preferred_qualification == 'True')\n",
    "pos_html_strs_df.loc[mask_series, 'part_of_speech'] = '-PQ'\n",
    "mask_series = (pos_html_strs_df.is_educational_requirement == 'True')\n",
    "pos_html_strs_df.loc[mask_series, 'part_of_speech'] = '-ER'\n",
    "mask_series = (pos_html_strs_df.is_minimum_qualification == 'True')\n",
    "pos_html_strs_df.loc[mask_series, 'part_of_speech'] = '-RQ'\n",
    "\n",
    "mask_series = (pos_html_strs_df.is_header == 'True')\n",
    "pos_html_strs_df.loc[mask_series, 'part_of_speech'] = pos_html_strs_df[mask_series].part_of_speech.map(lambda x: 'H'+x)\n",
    "pos_html_strs_df.loc[~mask_series, 'part_of_speech'] = pos_html_strs_df[~mask_series].part_of_speech.map(lambda x: 'O'+x)\n",
    "\n",
    "# (46439, 16)\n",
    "print(pos_html_strs_df.shape)"
   ]
  },
  {
   "cell_type": "code",
   "execution_count": 146,
   "id": "c1975db9-45f5-460d-829c-0599ad7ec1a1",
   "metadata": {},
   "outputs": [
    {
     "data": {
      "text/html": [
       "<div>\n",
       "<style scoped>\n",
       "    .dataframe tbody tr th:only-of-type {\n",
       "        vertical-align: middle;\n",
       "    }\n",
       "\n",
       "    .dataframe tbody tr th {\n",
       "        vertical-align: top;\n",
       "    }\n",
       "\n",
       "    .dataframe thead th {\n",
       "        text-align: right;\n",
       "    }\n",
       "</style>\n",
       "<table border=\"1\" class=\"dataframe\">\n",
       "  <thead>\n",
       "    <tr style=\"text-align: right;\">\n",
       "      <th></th>\n",
       "      <th>navigable_parent</th>\n",
       "      <th>part_of_speech</th>\n",
       "      <th>is_header</th>\n",
       "    </tr>\n",
       "  </thead>\n",
       "  <tbody>\n",
       "    <tr>\n",
       "      <th>0</th>\n",
       "      <td>&lt;b&gt;Key Qualifications:&lt;/b&gt;</td>\n",
       "      <td>H-RQ</td>\n",
       "      <td>True</td>\n",
       "    </tr>\n",
       "    <tr>\n",
       "      <th>1</th>\n",
       "      <td>•    Work closely with our media agency to mar...</td>\n",
       "      <td>O-TS</td>\n",
       "      <td>False</td>\n",
       "    </tr>\n",
       "    <tr>\n",
       "      <th>2</th>\n",
       "      <td>•    Maintain and further optimize a set of da...</td>\n",
       "      <td>O-TS</td>\n",
       "      <td>False</td>\n",
       "    </tr>\n",
       "    <tr>\n",
       "      <th>3</th>\n",
       "      <td>•    Conduct ad hoc reporting with insightful ...</td>\n",
       "      <td>O-TS</td>\n",
       "      <td>False</td>\n",
       "    </tr>\n",
       "    <tr>\n",
       "      <th>4</th>\n",
       "      <td>•    Partner with our WW data science team to ...</td>\n",
       "      <td>O-TS</td>\n",
       "      <td>False</td>\n",
       "    </tr>\n",
       "    <tr>\n",
       "      <th>...</th>\n",
       "      <td>...</td>\n",
       "      <td>...</td>\n",
       "      <td>...</td>\n",
       "    </tr>\n",
       "    <tr>\n",
       "      <th>46448</th>\n",
       "      <td>&lt;li&gt;Experience with dashboard and visualizatio...</td>\n",
       "      <td>O-PQ</td>\n",
       "      <td>False</td>\n",
       "    </tr>\n",
       "    <tr>\n",
       "      <th>46449</th>\n",
       "      <td>&lt;li&gt;Experience with management and monitoring ...</td>\n",
       "      <td>O-PQ</td>\n",
       "      <td>False</td>\n",
       "    </tr>\n",
       "    <tr>\n",
       "      <th>46450</th>\n",
       "      <td>&lt;li&gt;Experience with GxP data.&lt;/li&gt;</td>\n",
       "      <td>O-PQ</td>\n",
       "      <td>False</td>\n",
       "    </tr>\n",
       "    <tr>\n",
       "      <th>46451</th>\n",
       "      <td>&lt;i&gt;This position is classified as exempt. The ...</td>\n",
       "      <td>O-SP</td>\n",
       "      <td>False</td>\n",
       "    </tr>\n",
       "    <tr>\n",
       "      <th>46452</th>\n",
       "      <td>&lt;b&gt;Notice to Search Firms/Third-Party Recruitm...</td>\n",
       "      <td>H-LN</td>\n",
       "      <td>True</td>\n",
       "    </tr>\n",
       "  </tbody>\n",
       "</table>\n",
       "<p>46453 rows × 3 columns</p>\n",
       "</div>"
      ],
      "text/plain": [
       "                                        navigable_parent part_of_speech  \\\n",
       "0                             <b>Key Qualifications:</b>           H-RQ   \n",
       "1      •    Work closely with our media agency to mar...           O-TS   \n",
       "2      •    Maintain and further optimize a set of da...           O-TS   \n",
       "3      •    Conduct ad hoc reporting with insightful ...           O-TS   \n",
       "4      •    Partner with our WW data science team to ...           O-TS   \n",
       "...                                                  ...            ...   \n",
       "46448  <li>Experience with dashboard and visualizatio...           O-PQ   \n",
       "46449  <li>Experience with management and monitoring ...           O-PQ   \n",
       "46450                 <li>Experience with GxP data.</li>           O-PQ   \n",
       "46451  <i>This position is classified as exempt. The ...           O-SP   \n",
       "46452  <b>Notice to Search Firms/Third-Party Recruitm...           H-LN   \n",
       "\n",
       "      is_header  \n",
       "0          True  \n",
       "1         False  \n",
       "2         False  \n",
       "3         False  \n",
       "4         False  \n",
       "...         ...  \n",
       "46448     False  \n",
       "46449     False  \n",
       "46450     False  \n",
       "46451     False  \n",
       "46452      True  \n",
       "\n",
       "[46453 rows x 3 columns]"
      ]
     },
     "execution_count": 146,
     "metadata": {},
     "output_type": "execute_result"
    }
   ],
   "source": [
    "\n",
    "columns_list = ['navigable_parent', 'part_of_speech', 'is_header']\n",
    "pos_html_strs_df[columns_list]"
   ]
  },
  {
   "cell_type": "code",
   "execution_count": 147,
   "id": "32a5deb0-ec6b-48a8-80c7-caa53ff9d5d2",
   "metadata": {},
   "outputs": [
    {
     "name": "stdout",
     "output_type": "stream",
     "text": [
      "(4473, 2)\n"
     ]
    },
    {
     "data": {
      "text/html": [
       "<div>\n",
       "<style scoped>\n",
       "    .dataframe tbody tr th:only-of-type {\n",
       "        vertical-align: middle;\n",
       "    }\n",
       "\n",
       "    .dataframe tbody tr th {\n",
       "        vertical-align: top;\n",
       "    }\n",
       "\n",
       "    .dataframe thead th {\n",
       "        text-align: right;\n",
       "    }\n",
       "</style>\n",
       "<table border=\"1\" class=\"dataframe\">\n",
       "  <thead>\n",
       "    <tr style=\"text-align: right;\">\n",
       "      <th></th>\n",
       "      <th>navigable_parent</th>\n",
       "      <th>part_of_speech</th>\n",
       "    </tr>\n",
       "  </thead>\n",
       "  <tbody>\n",
       "    <tr>\n",
       "      <th>0</th>\n",
       "      <td>&lt;b&gt;Careers at UnitedHealthcare Employer &amp;amp; ...</td>\n",
       "      <td>H-CS</td>\n",
       "    </tr>\n",
       "    <tr>\n",
       "      <th>1</th>\n",
       "      <td>&lt;b&gt;About Us&lt;/b&gt;</td>\n",
       "      <td>H-CS</td>\n",
       "    </tr>\n",
       "    <tr>\n",
       "      <th>2</th>\n",
       "      <td>&lt;b&gt;Primer&lt;/b&gt;</td>\n",
       "      <td>H-CS</td>\n",
       "    </tr>\n",
       "    <tr>\n",
       "      <th>3</th>\n",
       "      <td>We’re fostering a culture of shared values acr...</td>\n",
       "      <td>H-CS</td>\n",
       "    </tr>\n",
       "    <tr>\n",
       "      <th>4</th>\n",
       "      <td>&lt;b&gt;About Cognizant Cognizant (Nasdaq-100:&lt;/b&gt;</td>\n",
       "      <td>H-CS</td>\n",
       "    </tr>\n",
       "    <tr>\n",
       "      <th>...</th>\n",
       "      <td>...</td>\n",
       "      <td>...</td>\n",
       "    </tr>\n",
       "    <tr>\n",
       "      <th>4468</th>\n",
       "      <td>&lt;p&gt;Design superb visualizations and access too...</td>\n",
       "      <td>O-TS</td>\n",
       "    </tr>\n",
       "    <tr>\n",
       "      <th>4469</th>\n",
       "      <td>&lt;li&gt;Performs additional duties as assigned&lt;/li&gt;</td>\n",
       "      <td>O-TS</td>\n",
       "    </tr>\n",
       "    <tr>\n",
       "      <th>4470</th>\n",
       "      <td>&lt;ots&gt;Subject matter expert in the automated te...</td>\n",
       "      <td>O-TS</td>\n",
       "    </tr>\n",
       "    <tr>\n",
       "      <th>4471</th>\n",
       "      <td>&lt;li&gt;Train business users to use self-service t...</td>\n",
       "      <td>O-TS</td>\n",
       "    </tr>\n",
       "    <tr>\n",
       "      <th>4472</th>\n",
       "      <td>&lt;ots&gt;BA needed for the initial Blueprint/Desig...</td>\n",
       "      <td>O-TS</td>\n",
       "    </tr>\n",
       "  </tbody>\n",
       "</table>\n",
       "<p>4473 rows × 2 columns</p>\n",
       "</div>"
      ],
      "text/plain": [
       "                                       navigable_parent part_of_speech\n",
       "0     <b>Careers at UnitedHealthcare Employer &amp; ...           H-CS\n",
       "1                                       <b>About Us</b>           H-CS\n",
       "2                                         <b>Primer</b>           H-CS\n",
       "3     We’re fostering a culture of shared values acr...           H-CS\n",
       "4         <b>About Cognizant Cognizant (Nasdaq-100:</b>           H-CS\n",
       "...                                                 ...            ...\n",
       "4468  <p>Design superb visualizations and access too...           O-TS\n",
       "4469    <li>Performs additional duties as assigned</li>           O-TS\n",
       "4470  <ots>Subject matter expert in the automated te...           O-TS\n",
       "4471  <li>Train business users to use self-service t...           O-TS\n",
       "4472  <ots>BA needed for the initial Blueprint/Desig...           O-TS\n",
       "\n",
       "[4473 rows x 2 columns]"
      ]
     },
     "execution_count": 147,
     "metadata": {},
     "output_type": "execute_result"
    }
   ],
   "source": [
    "\n",
    "from imblearn.under_sampling import RandomUnderSampler\n",
    "\n",
    "# Get the sampling strategy limit\n",
    "vc_srs = pos_html_strs_df.part_of_speech.value_counts()\n",
    "sampling_strategy_limit = int(vc_srs.median())\n",
    "\n",
    "# Rebalance the data with the sampling strategy limit\n",
    "counts_dict = pos_html_strs_df.groupby('part_of_speech').count().navigable_parent.to_dict()\n",
    "sampling_strategy = {k: min(sampling_strategy_limit, v) for k, v in counts_dict.items()}\n",
    "rus = RandomUnderSampler(sampling_strategy=sampling_strategy)\n",
    "\n",
    "# Define the tuple of arrays\n",
    "data = rus.fit_resample(\n",
    "    pos_html_strs_df.navigable_parent.values.reshape(-1, 1), pos_html_strs_df.part_of_speech.values.reshape(-1, 1)\n",
    ")\n",
    "\n",
    "# Recreate the Pandas DataFrame\n",
    "rebalanced_df = DataFrame(data[0], columns=['navigable_parent'])\n",
    "rebalanced_df['part_of_speech'] = data[1]\n",
    "\n",
    "# (4357, 2)\n",
    "print(rebalanced_df.shape)\n",
    "rebalanced_df"
   ]
  },
  {
   "cell_type": "code",
   "execution_count": 160,
   "id": "4ef17361-9d4f-4231-9419-cfe376436718",
   "metadata": {},
   "outputs": [
    {
     "data": {
      "text/plain": [
       "['<i>This position is classified as exempt. The anticipated annual base salary range for candidates who will work in San Diego or remotely is $197,011 to $274,358. The final base salary offered to the successful candidate will be dependent upon several factors that may include but are not limited to the type and length of experience within the job, type and length of experience within the job, education, and other factors. Treeline Biosciences is a multi-state employer, and this salary range may not reflect positions that work in other cities or states.</i>', '<b>Notice to Search Firms/Third-Party Recruitment Agencies (Recruiters)</b>']"
      ]
     },
     "execution_count": 160,
     "metadata": {},
     "output_type": "execute_result"
    }
   ],
   "source": [
    "\n",
    "# Sentences to parse\n",
    "sentences_list = pos_html_strs_df.navigable_parent.tolist()\n",
    "sentences_list[-2:]"
   ]
  },
  {
   "cell_type": "code",
   "execution_count": 161,
   "id": "b134a989-96f5-446b-8b9f-231fcf906bdc",
   "metadata": {},
   "outputs": [
    {
     "data": {
      "text/plain": [
       "['O-SP', 'H-LN']"
      ]
     },
     "execution_count": 161,
     "metadata": {},
     "output_type": "execute_result"
    }
   ],
   "source": [
    "\n",
    "# Labels to apply\n",
    "pos_symbols_list = pos_html_strs_df.part_of_speech.tolist()\n",
    "pos_symbols_list[-2:]"
   ]
  },
  {
   "cell_type": "code",
   "execution_count": 162,
   "id": "fffea7e4-d6d8-4b89-aae2-66820d6e0d22",
   "metadata": {},
   "outputs": [
    {
     "data": {
      "text/plain": [
       "[['<i', 'This', 'position', 'is', 'classified', 'as', 'exempt', '.', 'The', 'anticipated', 'annual', 'base', 'salary', 'range', 'for', 'candidates', 'who', 'will', 'work', 'in', 'San', 'Diego', 'or', 'remotely', 'is', '197', '011', 'to', '274', '358', '.', 'The', 'final', 'base', 'salary', 'offered', 'to', 'the', 'successful', 'candidate', 'will', 'be', 'dependent', 'upon', 'several', 'factors', 'that', 'may', 'include', 'but', 'are', 'not', 'limited', 'to', 'the', 'type', 'and', 'length', 'of', 'experience', 'within', 'the', 'job', 'type', 'and', 'length', 'of', 'experience', 'within', 'the', 'job', 'education', 'and', 'other', 'factors', '.', 'Treeline', 'Biosciences', 'is', 'a', 'multi', 'state', 'employer', 'and', 'this', 'salary', 'range', 'may', 'not', 'reflect', 'positions', 'that', 'work', 'in', 'other', 'cities', 'or', 'states', '.', '</i'], ['<b', 'Notice', 'to', 'Search', 'Firms', 'Third', 'Party', 'Recruitment', 'Agencies', 'Recruiters', '</b']]"
      ]
     },
     "execution_count": 162,
     "metadata": {},
     "output_type": "execute_result"
    }
   ],
   "source": [
    "\n",
    "# Tokenize the sentences\n",
    "tokens_list = [html_regex_tokenizer(sentence) for sentence in sentences_list]\n",
    "tokens_list[-2:]"
   ]
  },
  {
   "cell_type": "code",
   "execution_count": 163,
   "id": "9cd264c8-b14f-46c0-a545-713ba80d2671",
   "metadata": {},
   "outputs": [
    {
     "data": {
      "text/plain": [
       "[[('<i', 'NN'), ('This', 'DT'), ('position', 'NN'), ('is', 'VBZ'), ('classified', 'VBN'), ('as', 'IN'), ('exempt', 'NN'), ('.', '.'), ('The', 'DT'), ('anticipated', 'JJ'), ('annual', 'JJ'), ('base', 'NN'), ('salary', 'JJ'), ('range', 'NN'), ('for', 'IN'), ('candidates', 'NNS'), ('who', 'WP'), ('will', 'MD'), ('work', 'VB'), ('in', 'IN'), ('San', 'NNP'), ('Diego', 'NNP'), ('or', 'CC'), ('remotely', 'RB'), ('is', 'VBZ'), ('197', 'CD'), ('011', 'CD'), ('to', 'TO'), ('274', 'CD'), ('358', 'CD'), ('.', '.'), ('The', 'DT'), ('final', 'JJ'), ('base', 'NN'), ('salary', 'NN'), ('offered', 'VBD'), ('to', 'TO'), ('the', 'DT'), ('successful', 'JJ'), ('candidate', 'NN'), ('will', 'MD'), ('be', 'VB'), ('dependent', 'JJ'), ('upon', 'IN'), ('several', 'JJ'), ('factors', 'NNS'), ('that', 'WDT'), ('may', 'MD'), ('include', 'VB'), ('but', 'CC'), ('are', 'VBP'), ('not', 'RB'), ('limited', 'VBN'), ('to', 'TO'), ('the', 'DT'), ('type', 'NN'), ('and', 'CC'), ('length', 'NN'), ('of', 'IN'), ('experience', 'NN'), ('within', 'IN'), ('the', 'DT'), ('job', 'NN'), ('type', 'NN'), ('and', 'CC'), ('length', 'NN'), ('of', 'IN'), ('experience', 'NN'), ('within', 'IN'), ('the', 'DT'), ('job', 'NN'), ('education', 'NN'), ('and', 'CC'), ('other', 'JJ'), ('factors', 'NNS'), ('.', '.'), ('Treeline', 'NNP'), ('Biosciences', 'NNPS'), ('is', 'VBZ'), ('a', 'DT'), ('multi', 'JJ'), ('state', 'NN'), ('employer', 'NN'), ('and', 'CC'), ('this', 'DT'), ('salary', 'JJ'), ('range', 'NN'), ('may', 'MD'), ('not', 'RB'), ('reflect', 'VB'), ('positions', 'NNS'), ('that', 'WDT'), ('work', 'VBP'), ('in', 'IN'), ('other', 'JJ'), ('cities', 'NNS'), ('or', 'CC'), ('states', 'NNS'), ('.', '.'), ('</i', 'NN')], [('<b', 'JJ'), ('Notice', 'NNP'), ('to', 'TO'), ('Search', 'VB'), ('Firms', 'NNP'), ('Third', 'NNP'), ('Party', 'NNP'), ('Recruitment', 'NNP'), ('Agencies', 'NNPS'), ('Recruiters', 'NNP'), ('</b', 'VBP')]]"
      ]
     },
     "execution_count": 163,
     "metadata": {},
     "output_type": "execute_result"
    }
   ],
   "source": [
    "\n",
    "# Get the parts of speech\n",
    "pos_tags_list = [pos_tag(tokens) for tokens in tokens_list]\n",
    "pos_tags_list[-2:]"
   ]
  },
  {
   "cell_type": "code",
   "execution_count": 164,
   "id": "c113c830-e413-49f5-a884-bf342d4caf42",
   "metadata": {},
   "outputs": [],
   "source": [
    "\n",
    "# Define features to be used in the CRF model\n",
    "def word2features(sent, i):\n",
    "    word = sent[i][0]\n",
    "    postag = sent[i][1]\n",
    "    features = {\n",
    "        'word': word,\n",
    "        'postag': postag\n",
    "    }\n",
    "    \n",
    "    return features\n",
    "\n",
    "def sent2features(sent):\n",
    "    \n",
    "    return [word2features(sent, i) for i in range(len(sent))]\n",
    "\n",
    "def sent2labels(pos_symbol, sent):\n",
    "    \n",
    "    return [pos_symbol] * len(sent)\n",
    "\n",
    "# Prepare the training and test data\n",
    "X = [sent2features(pos_tags) for pos_tags in pos_tags_list]\n",
    "y = [sent2labels(pos_symbol, pos_tag) for pos_tag, pos_symbol in zip(pos_tags_list, pos_symbols_list)]\n",
    "X_train, X_test, y_train, y_test = train_test_split(X, y, test_size=0.2)\n",
    "\n",
    "# Create the CRF model\n",
    "pos_symbol_crf = CRF()\n",
    "\n",
    "# Train the model\n",
    "pos_symbol_crf.fit(X_train, y_train)\n",
    "\n",
    "# Predict the labels for the test data\n",
    "y_pred = pos_symbol_crf.predict(X_test)"
   ]
  },
  {
   "cell_type": "markdown",
   "id": "10c276e1-c191-422d-aaa0-5356c4c97d6e",
   "metadata": {},
   "source": [
    "\n",
    "---\n",
    "# Visualization"
   ]
  },
  {
   "cell_type": "code",
   "execution_count": 153,
   "id": "14e36306-4c27-4ff6-a71b-aacaaa1d111b",
   "metadata": {},
   "outputs": [],
   "source": [
    "\n",
    "from sklearn.preprocessing import MultiLabelBinarizer\n",
    "\n",
    "# Create the MultiLabelBinarizer object\n",
    "mlb = MultiLabelBinarizer()\n",
    "\n",
    "# Fit and transform the y_test and y_pred sequences\n",
    "y_test_transformed = mlb.fit_transform(y_test)\n",
    "y_pred_transformed = mlb.transform(y_pred)"
   ]
  },
  {
   "cell_type": "code",
   "execution_count": 159,
   "id": "66628dfb-bbe3-4ad9-aa20-d1ff90e46b99",
   "metadata": {},
   "outputs": [
    {
     "data": {
      "text/html": [
       "<div>\n",
       "<style scoped>\n",
       "    .dataframe tbody tr th:only-of-type {\n",
       "        vertical-align: middle;\n",
       "    }\n",
       "\n",
       "    .dataframe tbody tr th {\n",
       "        vertical-align: top;\n",
       "    }\n",
       "\n",
       "    .dataframe thead th {\n",
       "        text-align: right;\n",
       "    }\n",
       "</style>\n",
       "<table border=\"1\" class=\"dataframe\">\n",
       "  <thead>\n",
       "    <tr style=\"text-align: right;\">\n",
       "      <th></th>\n",
       "      <th>precision</th>\n",
       "      <th>recall</th>\n",
       "      <th>f1-score</th>\n",
       "      <th>support</th>\n",
       "    </tr>\n",
       "    <tr>\n",
       "      <th>pos_symbol</th>\n",
       "      <th></th>\n",
       "      <th></th>\n",
       "      <th></th>\n",
       "      <th></th>\n",
       "    </tr>\n",
       "  </thead>\n",
       "  <tbody>\n",
       "    <tr>\n",
       "      <th>H-JD</th>\n",
       "      <td>0.000000</td>\n",
       "      <td>0.000000</td>\n",
       "      <td>0.000000</td>\n",
       "      <td>4</td>\n",
       "    </tr>\n",
       "    <tr>\n",
       "      <th>H-PD</th>\n",
       "      <td>0.000000</td>\n",
       "      <td>0.000000</td>\n",
       "      <td>0.000000</td>\n",
       "      <td>2</td>\n",
       "    </tr>\n",
       "    <tr>\n",
       "      <th>O-O</th>\n",
       "      <td>0.000000</td>\n",
       "      <td>0.000000</td>\n",
       "      <td>0.000000</td>\n",
       "      <td>11</td>\n",
       "    </tr>\n",
       "    <tr>\n",
       "      <th>H-LN</th>\n",
       "      <td>0.333333</td>\n",
       "      <td>0.142857</td>\n",
       "      <td>0.200000</td>\n",
       "      <td>14</td>\n",
       "    </tr>\n",
       "    <tr>\n",
       "      <th>H-IP</th>\n",
       "      <td>0.571429</td>\n",
       "      <td>0.160000</td>\n",
       "      <td>0.250000</td>\n",
       "      <td>25</td>\n",
       "    </tr>\n",
       "    <tr>\n",
       "      <th>H-JT</th>\n",
       "      <td>0.416667</td>\n",
       "      <td>0.384615</td>\n",
       "      <td>0.400000</td>\n",
       "      <td>13</td>\n",
       "    </tr>\n",
       "    <tr>\n",
       "      <th>H-O</th>\n",
       "      <td>0.450000</td>\n",
       "      <td>0.450000</td>\n",
       "      <td>0.450000</td>\n",
       "      <td>20</td>\n",
       "    </tr>\n",
       "    <tr>\n",
       "      <th>H-RQ</th>\n",
       "      <td>0.479167</td>\n",
       "      <td>0.442308</td>\n",
       "      <td>0.460000</td>\n",
       "      <td>52</td>\n",
       "    </tr>\n",
       "    <tr>\n",
       "      <th>H-TS</th>\n",
       "      <td>0.400000</td>\n",
       "      <td>0.566038</td>\n",
       "      <td>0.468750</td>\n",
       "      <td>53</td>\n",
       "    </tr>\n",
       "    <tr>\n",
       "      <th>O-PQ</th>\n",
       "      <td>0.432836</td>\n",
       "      <td>0.707317</td>\n",
       "      <td>0.537037</td>\n",
       "      <td>41</td>\n",
       "    </tr>\n",
       "    <tr>\n",
       "      <th>O-ER</th>\n",
       "      <td>0.666667</td>\n",
       "      <td>0.470588</td>\n",
       "      <td>0.551724</td>\n",
       "      <td>17</td>\n",
       "    </tr>\n",
       "    <tr>\n",
       "      <th>H-OL</th>\n",
       "      <td>0.875000</td>\n",
       "      <td>0.411765</td>\n",
       "      <td>0.560000</td>\n",
       "      <td>17</td>\n",
       "    </tr>\n",
       "    <tr>\n",
       "      <th>macro avg</th>\n",
       "      <td>0.602421</td>\n",
       "      <td>0.563673</td>\n",
       "      <td>0.569223</td>\n",
       "      <td>894</td>\n",
       "    </tr>\n",
       "    <tr>\n",
       "      <th>H-CS</th>\n",
       "      <td>0.523810</td>\n",
       "      <td>0.673469</td>\n",
       "      <td>0.589286</td>\n",
       "      <td>49</td>\n",
       "    </tr>\n",
       "    <tr>\n",
       "      <th>O-LN</th>\n",
       "      <td>0.684211</td>\n",
       "      <td>0.565217</td>\n",
       "      <td>0.619048</td>\n",
       "      <td>23</td>\n",
       "    </tr>\n",
       "    <tr>\n",
       "      <th>H-SP</th>\n",
       "      <td>0.714286</td>\n",
       "      <td>0.555556</td>\n",
       "      <td>0.625000</td>\n",
       "      <td>45</td>\n",
       "    </tr>\n",
       "    <tr>\n",
       "      <th>O-SP</th>\n",
       "      <td>0.583333</td>\n",
       "      <td>0.673077</td>\n",
       "      <td>0.625000</td>\n",
       "      <td>52</td>\n",
       "    </tr>\n",
       "    <tr>\n",
       "      <th>weighted avg</th>\n",
       "      <td>0.685795</td>\n",
       "      <td>0.676734</td>\n",
       "      <td>0.670383</td>\n",
       "      <td>894</td>\n",
       "    </tr>\n",
       "    <tr>\n",
       "      <th>samples avg</th>\n",
       "      <td>0.675978</td>\n",
       "      <td>0.675978</td>\n",
       "      <td>0.675978</td>\n",
       "      <td>894</td>\n",
       "    </tr>\n",
       "    <tr>\n",
       "      <th>micro avg</th>\n",
       "      <td>0.676734</td>\n",
       "      <td>0.676734</td>\n",
       "      <td>0.676734</td>\n",
       "      <td>894</td>\n",
       "    </tr>\n",
       "    <tr>\n",
       "      <th>H-PQ</th>\n",
       "      <td>0.716981</td>\n",
       "      <td>0.716981</td>\n",
       "      <td>0.716981</td>\n",
       "      <td>53</td>\n",
       "    </tr>\n",
       "    <tr>\n",
       "      <th>O-RQ</th>\n",
       "      <td>0.833333</td>\n",
       "      <td>0.652174</td>\n",
       "      <td>0.731707</td>\n",
       "      <td>46</td>\n",
       "    </tr>\n",
       "    <tr>\n",
       "      <th>O-OL</th>\n",
       "      <td>0.653061</td>\n",
       "      <td>0.842105</td>\n",
       "      <td>0.735632</td>\n",
       "      <td>38</td>\n",
       "    </tr>\n",
       "    <tr>\n",
       "      <th>O-CS</th>\n",
       "      <td>0.718750</td>\n",
       "      <td>0.793103</td>\n",
       "      <td>0.754098</td>\n",
       "      <td>58</td>\n",
       "    </tr>\n",
       "    <tr>\n",
       "      <th>O-TS</th>\n",
       "      <td>0.839286</td>\n",
       "      <td>0.758065</td>\n",
       "      <td>0.796610</td>\n",
       "      <td>62</td>\n",
       "    </tr>\n",
       "    <tr>\n",
       "      <th>H-ER</th>\n",
       "      <td>0.928571</td>\n",
       "      <td>0.866667</td>\n",
       "      <td>0.896552</td>\n",
       "      <td>15</td>\n",
       "    </tr>\n",
       "    <tr>\n",
       "      <th>O-JD</th>\n",
       "      <td>0.956522</td>\n",
       "      <td>0.916667</td>\n",
       "      <td>0.936170</td>\n",
       "      <td>48</td>\n",
       "    </tr>\n",
       "    <tr>\n",
       "      <th>O-IP</th>\n",
       "      <td>0.933333</td>\n",
       "      <td>0.954545</td>\n",
       "      <td>0.943820</td>\n",
       "      <td>44</td>\n",
       "    </tr>\n",
       "    <tr>\n",
       "      <th>O-PD</th>\n",
       "      <td>0.952381</td>\n",
       "      <td>0.952381</td>\n",
       "      <td>0.952381</td>\n",
       "      <td>42</td>\n",
       "    </tr>\n",
       "    <tr>\n",
       "      <th>O-JT</th>\n",
       "      <td>1.000000</td>\n",
       "      <td>1.000000</td>\n",
       "      <td>1.000000</td>\n",
       "      <td>50</td>\n",
       "    </tr>\n",
       "  </tbody>\n",
       "</table>\n",
       "</div>"
      ],
      "text/plain": [
       "              precision    recall  f1-score  support\n",
       "pos_symbol                                          \n",
       "H-JD           0.000000  0.000000  0.000000        4\n",
       "H-PD           0.000000  0.000000  0.000000        2\n",
       "O-O            0.000000  0.000000  0.000000       11\n",
       "H-LN           0.333333  0.142857  0.200000       14\n",
       "H-IP           0.571429  0.160000  0.250000       25\n",
       "H-JT           0.416667  0.384615  0.400000       13\n",
       "H-O            0.450000  0.450000  0.450000       20\n",
       "H-RQ           0.479167  0.442308  0.460000       52\n",
       "H-TS           0.400000  0.566038  0.468750       53\n",
       "O-PQ           0.432836  0.707317  0.537037       41\n",
       "O-ER           0.666667  0.470588  0.551724       17\n",
       "H-OL           0.875000  0.411765  0.560000       17\n",
       "macro avg      0.602421  0.563673  0.569223      894\n",
       "H-CS           0.523810  0.673469  0.589286       49\n",
       "O-LN           0.684211  0.565217  0.619048       23\n",
       "H-SP           0.714286  0.555556  0.625000       45\n",
       "O-SP           0.583333  0.673077  0.625000       52\n",
       "weighted avg   0.685795  0.676734  0.670383      894\n",
       "samples avg    0.675978  0.675978  0.675978      894\n",
       "micro avg      0.676734  0.676734  0.676734      894\n",
       "H-PQ           0.716981  0.716981  0.716981       53\n",
       "O-RQ           0.833333  0.652174  0.731707       46\n",
       "O-OL           0.653061  0.842105  0.735632       38\n",
       "O-CS           0.718750  0.793103  0.754098       58\n",
       "O-TS           0.839286  0.758065  0.796610       62\n",
       "H-ER           0.928571  0.866667  0.896552       15\n",
       "O-JD           0.956522  0.916667  0.936170       48\n",
       "O-IP           0.933333  0.954545  0.943820       44\n",
       "O-PD           0.952381  0.952381  0.952381       42\n",
       "O-JT           1.000000  1.000000  1.000000       50"
      ]
     },
     "execution_count": 159,
     "metadata": {},
     "output_type": "execute_result"
    }
   ],
   "source": [
    "\n",
    "# Compute the classification report\n",
    "df = DataFrame.from_dict(classification_report(y_test_transformed, y_pred_transformed, target_names=mlb.classes_, zero_division=0, output_dict=True), orient='index')\n",
    "df.index.name = 'pos_symbol'\n",
    "df.sort_values('f1-score')"
   ]
  },
  {
   "cell_type": "code",
   "execution_count": 155,
   "id": "1cea376f-6733-4fbd-8eb5-3a9f095cd4e8",
   "metadata": {},
   "outputs": [
    {
     "name": "stdout",
     "output_type": "stream",
     "text": [
      "[{'word': '<ocs', 'postag': 'JJ'}, {'word': 'Client', 'postag': 'NN'}, {'word': ':', 'postag': ':'}, {'word': 'T', 'postag': 'NNP'}, {'word': 'MOBILE', 'postag': 'NNP'}, {'word': 'US', 'postag': 'NNP'}, {'word': 'INC', 'postag': 'NNP'}, {'word': '.', 'postag': '.'}, {'word': '</ocs', 'postag': 'NN'}]\n"
     ]
    },
    {
     "data": {
      "text/plain": [
       "'O-CS'"
      ]
     },
     "metadata": {},
     "output_type": "display_data"
    }
   ],
   "source": [
    "\n",
    "import random\n",
    "\n",
    "random_feature_dicts_list = random.choice(X)\n",
    "print(random_feature_dicts_list)\n",
    "if random_feature_dicts_list:\n",
    "    pos_symbols_list = pos_symbol_crf.predict_single(random_feature_dicts_list)\n",
    "    assert len(set(pos_symbols_list)) == 1\n",
    "    display(pos_symbols_list[0])"
   ]
  },
  {
   "cell_type": "code",
   "execution_count": 156,
   "id": "3f8a4953-9a5e-4910-841d-310f483d9ecc",
   "metadata": {},
   "outputs": [
    {
     "data": {
      "text/plain": [
       "[\"It's a 12 months contract, Please let me know if this would be something you’d be interested in learning more and feel free to call me in case you’ve any questions.\", '<span style=\"color:#201f1e\">Duration- Full time Hire</span>', '<b>Duration:</b>', '<b>Duration</b>', '<b>Employee Status :</b>', '<b>Employee Status</b>', '<b>Job Schedule:</b>', '<b>Regular, consistent and punctual attendance. Must be able to work nights and weekends, variable schedule(s) as necessary.</b>', '<b>Schedule</b>', '<b>Shift :</b>', '<b>Shift</b>', '<b>Standard Hours</b>', '<b>Work schedule:</b>', '<b>Working time:</b>', '<div class=\"jobsearch-JobDescriptionSection-sectionItemKey icl-u-textBold\">Job Type</div>', '<div>Contract</div>', '<p>Contract Length:</p>', '<p>Schedule:</p>', 'Day Job', 'Fixed Term Contractor', '12+ Contract', 'Start ASAP', 'Duration Long Term Contract', '<b>Minimum 2 years</b>', 'Full-Time / LONG TERM Contract (like a Perm position)', '4 years', '<span style=\"color:black\">Days</span>', '<b>Job Shift:</b>', '<b>Working Hours:</b>', '<span lang=\"EN-US\" style=\"color:black;background:yellow\">Duration:</span>']"
      ]
     },
     "execution_count": 156,
     "metadata": {},
     "output_type": "execute_result"
    }
   ],
   "source": [
    "\n",
    "mask_series = (pos_html_strs_df.part_of_speech == 'H-JD')\n",
    "pos_html_strs_df[mask_series].navigable_parent.tolist()"
   ]
  },
  {
   "cell_type": "code",
   "execution_count": 157,
   "id": "77eeff36-4a21-42e6-bd38-94ace33502c4",
   "metadata": {},
   "outputs": [
    {
     "data": {
      "text/plain": [
       "['<b>Job Posting :</b>', '<b>Job Posting</b>', '<div>Published</div>', '<b>Publication Date:</b>']"
      ]
     },
     "execution_count": 157,
     "metadata": {},
     "output_type": "execute_result"
    }
   ],
   "source": [
    "\n",
    "mask_series = (pos_html_strs_df.part_of_speech == 'H-PD')\n",
    "pos_html_strs_df[mask_series].navigable_parent.tolist()"
   ]
  },
  {
   "cell_type": "code",
   "execution_count": 158,
   "id": "2582be72-cdfc-4b7c-88fa-e46c95751908",
   "metadata": {},
   "outputs": [
    {
     "data": {
      "text/plain": [
       "['<span style=\"font-size:12px\">Hello Dave Babbitt</span>', '#LI-AH1', '<span style=\"font-weight: 400;\">#li-remote</span>', ')', '<b>#LI-DNI</b>', '<b>3</b>', '<b>or</b>', '<i>.</i>', '<i>Learn why</i>', '<i>at least</i>', '<i>here</i>', '<li>Or any combination of education and experience to meet the above requirements</li>', '<p>#LI-SAP1</p>', '<p>OR</p>', '<p>·</p>', 'None', 'The', 'and', '<li>XX</li>', 'Hiring', '<li>Others as applicable</li>', 'candidates for this role', '<b>10+</b>', '<span style=\"margin:0px;font-size:8pt;line-height:normal;color:rgb(102,102,102)\">Phone:\\xa0+631 (267) 4883 Ext. - 160</span>', '<span style=\"margin:0px;font-size:8pt;line-height:normal;color:rgb(102,102,102)\">Mob: +1631-641-2812</span>', '<span style=\"font-weight: 400;\">-</span>', ').', '!', '•', '/', 'job preferences', 'you are', '<span class=\"css-kyg8or eu4oa1w0\">Posted 1 day ago</span>', 'No matching', '<div>#LI-REMOTE</div>', '<span class=\"css-kyg8or eu4oa1w0\">Urgently hiring</span>', 'n', 'In addition to', 'and our', '<i>k</i>', '<li>4+ years experience</li>', '<b>be</b>', '<b>51%</b>', '<b>)</b>', '️', 'Thank you,', '<b>40</b>', '5', 'BA', 'B', '<div>#LI-ML3</div>', '<div>#AA</div>', 'acceptable', '<p>- In reusable format</p>', '<div style=\"width:16px;height:16px;font-family:Helvetica Neue;font-style:normal;font-weight:bold;font-size:14px;line-height:15px;color:#2557a7;text-align:center;padding:10px;border:2px solid #cccccc;border-radius:8px\">1</div>', '<div style=\"width:16px;height:16px;font-family:Helvetica Neue;font-style:normal;font-weight:bold;font-size:14px;line-height:15px;color:#2557a7;text-align:center;padding:10px;border:2px solid #cccccc;border-radius:8px\">2</div>', '<div style=\"width:16px;height:16px;font-family:Helvetica Neue;font-style:normal;font-weight:bold;font-size:14px;line-height:15px;color:#2557a7;text-align:center;padding:10px;border:2px solid #cccccc;border-radius:8px\">3</div>', '<div style=\"width:16px;height:16px;font-family:Helvetica Neue;font-style:normal;font-weight:bold;font-size:14px;line-height:15px;color:#2557a7;text-align:center;padding:10px;border:2px solid #cccccc;border-radius:8px\">4</div>', '<div style=\"width:16px;height:16px;font-family:Helvetica Neue;font-style:normal;font-weight:bold;font-size:14px;line-height:15px;color:#2557a7;text-align:center;padding:10px;border:2px solid #cccccc;border-radius:8px\">5</div>', '<div style=\"font-family:Arial;font-style:normal;font-weight:normal;font-size:11px;line-height:13px;color:#6f6f6f;margin-right:70px\">Not At All</div>', '<div style=\"text-align:center;font-family:Arial;font-style:normal;font-weight:normal;font-size:11px;line-height:13px;color:#6f6f6f;margin-right:70px\">Somewhat</div>', '<div style=\"padding-right:10px;text-align:right;font-family:Arial;font-style:normal;font-weight:normal;font-size:11px;line-height:13px;color:#6f6f6f\">Extremely</div>', '<strong>Amit</strong>', '<span style=\"font-size:10.0pt\">Regards,</span>', '<span style=\"font-size:10.0pt\">Amit Sharma</span>', '<span style=\"font-size:10.0pt\">Sr. Manager - Recruitments</span>', '<span style=\"font-size:10.0pt\">Net</span>', '<span style=\"font-size:10.0pt\">2</span>', '<span style=\"color:red\">|</span>', '<span style=\"color:black\">Fax: (201) 221-8131</span>', '<strong>www.net2source.com</strong>', '<span style=\"font-size:10.0pt\">|</span>', 'or equivalent']"
      ]
     },
     "execution_count": 158,
     "metadata": {},
     "output_type": "execute_result"
    }
   ],
   "source": [
    "\n",
    "mask_series = (pos_html_strs_df.part_of_speech == 'O-O')\n",
    "pos_html_strs_df[mask_series].navigable_parent.tolist()"
   ]
  },
  {
   "cell_type": "code",
   "execution_count": null,
   "id": "faba4e20-e5e3-4127-98e3-de7d2c14fa9e",
   "metadata": {},
   "outputs": [],
   "source": []
  }
 ],
 "metadata": {
  "kernelspec": {
   "display_name": "Job Hunting (Python 3.10.9)",
   "language": "python",
   "name": "jh_env"
  },
  "language_info": {
   "codemirror_mode": {
    "name": "ipython",
    "version": 3
   },
   "file_extension": ".py",
   "mimetype": "text/x-python",
   "name": "python",
   "nbconvert_exporter": "python",
   "pygments_lexer": "ipython3",
   "version": "3.10.9"
  }
 },
 "nbformat": 4,
 "nbformat_minor": 5
}
