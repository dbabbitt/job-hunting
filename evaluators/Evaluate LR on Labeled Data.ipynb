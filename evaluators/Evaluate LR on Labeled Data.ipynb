{
 "cells": [
  {
   "cell_type": "code",
   "execution_count": 1,
   "metadata": {},
   "outputs": [
    {
     "name": "stdout",
     "output_type": "stream",
     "text": [
      "Pretty printing has been turned OFF\n",
      "======== Neo4j/4.4.7 ========\n",
      "Utility libraries created in 7 seconds\n"
     ]
    }
   ],
   "source": [
    "\n",
    "# Turn off Pretty Print, enable inline plotting with Matplotlib, add py folder to system path, import jobpostlib modules\n",
    "%pprint\n",
    "%matplotlib inline\n",
    "import sys\n",
    "if (osp.join('..', 'py') not in sys.path): \n",
    "    sys.path.insert(1, osp.join('..', 'py'))\n",
    "from jobpostlib import (\n",
    "    crf, cu, datetime, duration, hau, hc, humanize, ihu, lru, nu, osp, \n",
    "    scrfcu, slrcu, ssgdcu, su, t0, time, wsu, speech_engine\n",
    ")\n",
    "from pandas import DataFrame\n",
    "from tqdm import tqdm"
   ]
  },
  {
   "cell_type": "code",
   "execution_count": 2,
   "metadata": {},
   "outputs": [
    {
     "name": "stdout",
     "output_type": "stream",
     "text": [
      "I have 532,546 is-qualified vocabulary tokens in here\n",
      "Is-qualified LR elements built in 5 seconds\n"
     ]
    }
   ],
   "source": [
    "\n",
    "# Check if the lru has built its is-qualified classifier\n",
    "t1 = time.time()\n",
    "if not (hasattr(lru, 'ISQUALIFIED_LR') and hasattr(lru, 'ISQUALIFIED_CV')):\n",
    "    lru.build_isqualified_logistic_regression_elements(sampling_strategy_limit=None, verbose=True)\n",
    "duration_str = humanize.precisedelta(time.time() - t1, minimum_unit='seconds', format='%0.0f')\n",
    "speech_str = f'Is-qualified LR elements built in {duration_str}'; print(speech_str)"
   ]
  },
  {
   "cell_type": "markdown",
   "metadata": {},
   "source": [
    "\n",
    "---\n",
    "# Training"
   ]
  },
  {
   "cell_type": "code",
   "execution_count": 3,
   "metadata": {},
   "outputs": [
    {
     "name": "stdout",
     "output_type": "stream",
     "text": [
      "I have 19,430 hand-labeled qualification strings in here\n",
      "I have 543,710 is-qualified vocabulary tokens in here\n",
      "Is-qualified classifer retrained in 9 seconds\n"
     ]
    }
   ],
   "source": [
    "\n",
    "# You need to run this again if you changed the qualification dictionary below or in another notebook\n",
    "t1 = time.time()\n",
    "\n",
    "# Keep the total retraining time to less than two minutes by adjusting the sampling strategy limit\n",
    "lru.sync_basic_quals_dict(sampling_strategy_limit=None, verbose=False)\n",
    "\n",
    "lru.retrain_isqualified_classifier(verbose=True)\n",
    "duration_str = humanize.precisedelta(time.time() - t1, minimum_unit='seconds', format='%0.0f')\n",
    "speech_str = f'Is-qualified classifer retrained in {duration_str}'; print(speech_str)"
   ]
  },
  {
   "cell_type": "code",
   "execution_count": 4,
   "metadata": {},
   "outputs": [
    {
     "data": {
      "text/plain": [
       "['lru.ISQUALIFIED_CV', 'lru.ISQUALIFIED_LR', 'lru.ISQUALIFIED_TT', 'lru.ISQUALIFIED_VOCAB', 'lru.basic_quals_df', 'lru.basic_quals_dict', 'lru.build_isqualified_logistic_regression_elements', 'lru.build_isqualified_lr_predict_percent', 'lru.display_hunting_dataframe_as_histogram', 'lru.get_isqualified_tfidf_matrix', 'lru.get_quals_str', 'lru.get_to_be_trained_quals', 'lru.hunting_df', 'lru.infer_from_hunting_dataframe', 'lru.navigable_parent_cypher_str', 'lru.predict_isqualified', 'lru.predict_job_hunt_percent_fit', 'lru.print_loc_computation', 'lru.qual_sum', 'lru.rebalance_data', 'lru.refit_isqualified_lr', 'lru.retrain_isqualified_classifier', 'lru.sampling_strategy_limit', 'lru.sync_basic_quals_dict', 'lru.update_hunting', 'lru.verbose']"
      ]
     },
     "execution_count": 4,
     "metadata": {},
     "output_type": "execute_result"
    }
   ],
   "source": [
    "\n",
    "[f'lru.{fn}' for fn in dir(lru) if not fn.startswith('_')]"
   ]
  },
  {
   "cell_type": "code",
   "execution_count": 5,
   "metadata": {},
   "outputs": [
    {
     "data": {
      "text/plain": [
       "['lru.analyzer', 'lru.binary', 'lru.build_analyzer', 'lru.build_preprocessor', 'lru.build_tokenizer', 'lru.decode', 'lru.decode_error', 'lru.dtype', 'lru.encoding', 'lru.fit', 'lru.fit_transform', 'lru.fixed_vocabulary_', 'lru.get_feature_names', 'lru.get_feature_names_out', 'lru.get_params', 'lru.get_stop_words', 'lru.input', 'lru.inverse_transform', 'lru.lowercase', 'lru.max_df', 'lru.max_features', 'lru.min_df', 'lru.ngram_range', 'lru.preprocessor', 'lru.set_params', 'lru.stop_words', 'lru.stop_words_', 'lru.strip_accents', 'lru.token_pattern', 'lru.tokenizer', 'lru.transform', 'lru.vocabulary', 'lru.vocabulary_']"
      ]
     },
     "execution_count": 5,
     "metadata": {},
     "output_type": "execute_result"
    }
   ],
   "source": [
    "\n",
    "[f'lru.{fn}' for fn in dir(lru.ISQUALIFIED_CV) if not fn.startswith('_')]"
   ]
  },
  {
   "cell_type": "code",
   "execution_count": 6,
   "metadata": {},
   "outputs": [
    {
     "data": {
      "text/plain": [
       "['lru.ISQUALIFIED_LR.C', 'lru.ISQUALIFIED_LR.class_weight', 'lru.ISQUALIFIED_LR.classes_', 'lru.ISQUALIFIED_LR.coef_', 'lru.ISQUALIFIED_LR.decision_function', 'lru.ISQUALIFIED_LR.densify', 'lru.ISQUALIFIED_LR.dual', 'lru.ISQUALIFIED_LR.fit', 'lru.ISQUALIFIED_LR.fit_intercept', 'lru.ISQUALIFIED_LR.get_params', 'lru.ISQUALIFIED_LR.intercept_', 'lru.ISQUALIFIED_LR.intercept_scaling', 'lru.ISQUALIFIED_LR.l1_ratio', 'lru.ISQUALIFIED_LR.max_iter', 'lru.ISQUALIFIED_LR.multi_class', 'lru.ISQUALIFIED_LR.n_features_in_', 'lru.ISQUALIFIED_LR.n_iter_', 'lru.ISQUALIFIED_LR.n_jobs', 'lru.ISQUALIFIED_LR.penalty', 'lru.ISQUALIFIED_LR.predict', 'lru.ISQUALIFIED_LR.predict_log_proba', 'lru.ISQUALIFIED_LR.predict_proba', 'lru.ISQUALIFIED_LR.random_state', 'lru.ISQUALIFIED_LR.score', 'lru.ISQUALIFIED_LR.set_params', 'lru.ISQUALIFIED_LR.solver', 'lru.ISQUALIFIED_LR.sparsify', 'lru.ISQUALIFIED_LR.tol', 'lru.ISQUALIFIED_LR.verbose', 'lru.ISQUALIFIED_LR.warm_start']"
      ]
     },
     "execution_count": 6,
     "metadata": {},
     "output_type": "execute_result"
    }
   ],
   "source": [
    "\n",
    "[f'lru.ISQUALIFIED_LR.{fn}' for fn in dir(lru.ISQUALIFIED_LR) if not fn.startswith('_')]"
   ]
  },
  {
   "cell_type": "code",
   "execution_count": 7,
   "metadata": {},
   "outputs": [
    {
     "data": {
      "text/plain": [
       "['lru.ISQUALIFIED_TT.fit', 'lru.ISQUALIFIED_TT.fit_transform', 'lru.ISQUALIFIED_TT.get_feature_names_out', 'lru.ISQUALIFIED_TT.get_params', 'lru.ISQUALIFIED_TT.idf_', 'lru.ISQUALIFIED_TT.n_features_in_', 'lru.ISQUALIFIED_TT.norm', 'lru.ISQUALIFIED_TT.set_params', 'lru.ISQUALIFIED_TT.smooth_idf', 'lru.ISQUALIFIED_TT.sublinear_tf', 'lru.ISQUALIFIED_TT.transform', 'lru.ISQUALIFIED_TT.use_idf']"
      ]
     },
     "execution_count": 7,
     "metadata": {},
     "output_type": "execute_result"
    }
   ],
   "source": [
    "\n",
    "[f'lru.ISQUALIFIED_TT.{fn}' for fn in dir(lru.ISQUALIFIED_TT) if not fn.startswith('_')]"
   ]
  },
  {
   "cell_type": "markdown",
   "metadata": {},
   "source": [
    "\n",
    "----\n",
    "## Let's use our labeled data to evaluate a Logistic Regression model"
   ]
  },
  {
   "cell_type": "code",
   "execution_count": 9,
   "metadata": {},
   "outputs": [
    {
     "data": {
      "text/plain": [
       "True"
      ]
     },
     "execution_count": 9,
     "metadata": {},
     "output_type": "execute_result"
    }
   ],
   "source": [
    "\n",
    "sent_str = 'Experience using a procedural programming language like Python to manipulate, clean, and analyze data.'\n",
    "lru.predict_isqualified(sent_str)[0]"
   ]
  },
  {
   "cell_type": "code",
   "execution_count": 18,
   "metadata": {},
   "outputs": [
    {
     "name": "stdout",
     "output_type": "stream",
     "text": [
      "(19430, 2)\n"
     ]
    },
    {
     "data": {
      "text/plain": [
       "['Master’s or Doctor of Philosophy degree in Computer Science, Applied Math, Statistics, or a scientific field', 'Excellent analytical &amp; troubleshooting skills.', 'Plans and Aligns', 'Experience with running software in a Linux environment.', 'Proven ability to effectively communicate, both orally and in writing, to executive leadership.']"
      ]
     },
     "metadata": {},
     "output_type": "display_data"
    },
    {
     "data": {
      "text/plain": [
       "[1, 1, 1, 1, 0]"
      ]
     },
     "metadata": {},
     "output_type": "display_data"
    }
   ],
   "source": [
    "\n",
    "print(lru.basic_quals_df.shape)\n",
    "df = lru.basic_quals_df.sample(5)\n",
    "quals_list = df.qualification_str.tolist()\n",
    "display(quals_list)\n",
    "is_qualifieds_list = df.is_qualified.tolist()\n",
    "display(is_qualifieds_list)"
   ]
  },
  {
   "cell_type": "code",
   "execution_count": null,
   "metadata": {},
   "outputs": [
    {
     "name": "stdout",
     "output_type": "stream",
     "text": [
      "(19430, 2)\n"
     ]
    },
    {
     "data": {
      "text/plain": [
       "['Energetic and positive contributor who can fit into a highly motivated and high performance team.', 'Familiarity with digital signal processing techniques (FFT, Filters, etc) a plus', 'HFDS: 1 year (Required)', 'Advanced programming skills in Python and SQL.', 'Data Visualization (Tableau, PowerBI - An advantage)']"
      ]
     },
     "metadata": {},
     "output_type": "display_data"
    },
    {
     "data": {
      "text/plain": [
       "[1, 0, 0, 1, 0]"
      ]
     },
     "metadata": {},
     "output_type": "display_data"
    },
    {
     "data": {
      "text/plain": [
       "(5, 2)"
      ]
     },
     "metadata": {},
     "output_type": "display_data"
    },
    {
     "name": "stdout",
     "output_type": "stream",
     "text": [
      "[0 1]\n"
     ]
    }
   ],
   "source": [
    "\n",
    "display(lru.predict_job_hunt_percent_fit(quals_list).shape)\n",
    "print(lru.ISQUALIFIED_LR.classes_)"
   ]
  },
  {
   "cell_type": "code",
   "execution_count": 13,
   "metadata": {},
   "outputs": [],
   "source": [
    "\n",
    "df = lru.basic_quals_df.sample(1_000)\n",
    "qual_strs_list = df.qualification_str.tolist()\n",
    "actuals_list = df.is_qualified.tolist()\n",
    "y_predict_proba = lru.predict_job_hunt_percent_fit(qual_strs_list)\n",
    "rows_list = []\n",
    "for qual_str, actual, probs in zip(qual_strs_list, actuals_list, y_predict_proba):\n",
    "    row_dict = {'qual_str': qual_str, 'actual': actual}\n",
    "    for i in range(probs.shape[0]):\n",
    "        row_dict[f'class{i}_prob'] = probs[i]\n",
    "    row_dict['predict_isqualified'] = lru.predict_isqualified(qual_str)[0]\n",
    "    rows_list.append(row_dict)\n",
    "probabilities_df = DataFrame(rows_list)"
   ]
  },
  {
   "cell_type": "code",
   "execution_count": 15,
   "metadata": {},
   "outputs": [
    {
     "data": {
      "text/html": [
       "<div>\n",
       "<style scoped>\n",
       "    .dataframe tbody tr th:only-of-type {\n",
       "        vertical-align: middle;\n",
       "    }\n",
       "\n",
       "    .dataframe tbody tr th {\n",
       "        vertical-align: top;\n",
       "    }\n",
       "\n",
       "    .dataframe thead th {\n",
       "        text-align: right;\n",
       "    }\n",
       "</style>\n",
       "<table border=\"1\" class=\"dataframe\">\n",
       "  <thead>\n",
       "    <tr style=\"text-align: right;\">\n",
       "      <th></th>\n",
       "      <th>qual_str</th>\n",
       "      <th>actual</th>\n",
       "      <th>class0_prob</th>\n",
       "      <th>class1_prob</th>\n",
       "      <th>predict_isqualified</th>\n",
       "    </tr>\n",
       "  </thead>\n",
       "  <tbody>\n",
       "    <tr>\n",
       "      <th>969</th>\n",
       "      <td>Experience with version control and code hosti...</td>\n",
       "      <td>1</td>\n",
       "      <td>4.520154e-08</td>\n",
       "      <td>1.000000e+00</td>\n",
       "      <td>True</td>\n",
       "    </tr>\n",
       "    <tr>\n",
       "      <th>935</th>\n",
       "      <td>It is required that you will have familiarity ...</td>\n",
       "      <td>1</td>\n",
       "      <td>6.062300e-05</td>\n",
       "      <td>9.999394e-01</td>\n",
       "      <td>True</td>\n",
       "    </tr>\n",
       "    <tr>\n",
       "      <th>501</th>\n",
       "      <td>Familiar with and take agile approach in the p...</td>\n",
       "      <td>1</td>\n",
       "      <td>9.963643e-01</td>\n",
       "      <td>3.635716e-03</td>\n",
       "      <td>False</td>\n",
       "    </tr>\n",
       "    <tr>\n",
       "      <th>296</th>\n",
       "      <td>Overview: To be successful in this role you wi...</td>\n",
       "      <td>1</td>\n",
       "      <td>0.000000e+00</td>\n",
       "      <td>1.000000e+00</td>\n",
       "      <td>True</td>\n",
       "    </tr>\n",
       "    <tr>\n",
       "      <th>87</th>\n",
       "      <td>Possessing a Certification in UIPath, Blue Pri...</td>\n",
       "      <td>0</td>\n",
       "      <td>1.000000e+00</td>\n",
       "      <td>6.866125e-13</td>\n",
       "      <td>False</td>\n",
       "    </tr>\n",
       "    <tr>\n",
       "      <th>6</th>\n",
       "      <td>2+ years of front end and back end programming...</td>\n",
       "      <td>1</td>\n",
       "      <td>5.652252e-07</td>\n",
       "      <td>9.999994e-01</td>\n",
       "      <td>True</td>\n",
       "    </tr>\n",
       "    <tr>\n",
       "      <th>691</th>\n",
       "      <td>Diverse skill set: someone that can do automat...</td>\n",
       "      <td>0</td>\n",
       "      <td>7.836500e-01</td>\n",
       "      <td>2.163500e-01</td>\n",
       "      <td>False</td>\n",
       "    </tr>\n",
       "    <tr>\n",
       "      <th>363</th>\n",
       "      <td>Advanced proficiency with Python framework and...</td>\n",
       "      <td>1</td>\n",
       "      <td>3.108624e-15</td>\n",
       "      <td>1.000000e+00</td>\n",
       "      <td>True</td>\n",
       "    </tr>\n",
       "    <tr>\n",
       "      <th>159</th>\n",
       "      <td>Citizenship &amp; Citizenship Verification: This p...</td>\n",
       "      <td>1</td>\n",
       "      <td>4.253018e-05</td>\n",
       "      <td>9.999575e-01</td>\n",
       "      <td>True</td>\n",
       "    </tr>\n",
       "    <tr>\n",
       "      <th>26</th>\n",
       "      <td>Experience using Jupyter notebooks or similar ...</td>\n",
       "      <td>1</td>\n",
       "      <td>5.925385e-04</td>\n",
       "      <td>9.994075e-01</td>\n",
       "      <td>True</td>\n",
       "    </tr>\n",
       "  </tbody>\n",
       "</table>\n",
       "</div>"
      ],
      "text/plain": [
       "                                              qual_str  actual   class0_prob  \\\n",
       "969  Experience with version control and code hosti...       1  4.520154e-08   \n",
       "935  It is required that you will have familiarity ...       1  6.062300e-05   \n",
       "501  Familiar with and take agile approach in the p...       1  9.963643e-01   \n",
       "296  Overview: To be successful in this role you wi...       1  0.000000e+00   \n",
       "87   Possessing a Certification in UIPath, Blue Pri...       0  1.000000e+00   \n",
       "6    2+ years of front end and back end programming...       1  5.652252e-07   \n",
       "691  Diverse skill set: someone that can do automat...       0  7.836500e-01   \n",
       "363  Advanced proficiency with Python framework and...       1  3.108624e-15   \n",
       "159  Citizenship & Citizenship Verification: This p...       1  4.253018e-05   \n",
       "26   Experience using Jupyter notebooks or similar ...       1  5.925385e-04   \n",
       "\n",
       "      class1_prob  predict_isqualified  \n",
       "969  1.000000e+00                 True  \n",
       "935  9.999394e-01                 True  \n",
       "501  3.635716e-03                False  \n",
       "296  1.000000e+00                 True  \n",
       "87   6.866125e-13                False  \n",
       "6    9.999994e-01                 True  \n",
       "691  2.163500e-01                False  \n",
       "363  1.000000e+00                 True  \n",
       "159  9.999575e-01                 True  \n",
       "26   9.994075e-01                 True  "
      ]
     },
     "metadata": {},
     "output_type": "display_data"
    },
    {
     "data": {
      "image/png": "[encoded data removed]",
      "text/plain": [
       "<Figure size 900x900 with 1 Axes>"
      ]
     },
     "metadata": {},
     "output_type": "display_data"
    },
    {
     "data": {
      "image/png": "[encoded data removed]",
      "text/plain": [
       "<Figure size 900x900 with 1 Axes>"
      ]
     },
     "metadata": {},
     "output_type": "display_data"
    },
    {
     "data": {
      "image/png": "[encoded data removed]",
      "text/plain": [
       "<Figure size 900x900 with 1 Axes>"
      ]
     },
     "metadata": {},
     "output_type": "display_data"
    }
   ],
   "source": [
    "\n",
    "df = probabilities_df.sample(10)\n",
    "display(df)\n",
    "nu.plot_grouped_box_and_whiskers(\n",
    "        probabilities_df,\n",
    "        'actual',\n",
    "        'class0_prob',\n",
    "        'Whether Dave Babbitt meets the qualification string',\n",
    "        'Class 0 Probability',\n",
    "        transformer_name=None,\n",
    "        is_y_temporal=False\n",
    "    )\n",
    "nu.plot_grouped_box_and_whiskers(\n",
    "        probabilities_df,\n",
    "        'actual',\n",
    "        'class1_prob',\n",
    "        'Whether Dave Babbitt meets the qualification string',\n",
    "        'Class 1 Probability',\n",
    "        transformer_name=None,\n",
    "        is_y_temporal=False\n",
    "    )\n",
    "nu.plot_grouped_box_and_whiskers(\n",
    "        probabilities_df,\n",
    "        'actual',\n",
    "        'predict_isqualified',\n",
    "        'Whether Dave Babbitt meets the qualification string',\n",
    "        'predict_isqualified',\n",
    "        transformer_name=None,\n",
    "        is_y_temporal=False\n",
    "    )"
   ]
  },
  {
   "cell_type": "code",
   "execution_count": 11,
   "metadata": {},
   "outputs": [
    {
     "data": {
      "text/plain": [
       "is_qualified\n",
       "1    11912\n",
       "0     7518\n",
       "Name: count, dtype: int64"
      ]
     },
     "execution_count": 11,
     "metadata": {},
     "output_type": "execute_result"
    }
   ],
   "source": [
    "\n",
    "lru.basic_quals_df.is_qualified.value_counts()"
   ]
  },
  {
   "cell_type": "code",
   "execution_count": 13,
   "metadata": {},
   "outputs": [
    {
     "data": {
      "text/plain": [
       "\u001b[1;31mSignature:\u001b[0m \u001b[0mlru\u001b[0m\u001b[1;33m.\u001b[0m\u001b[0mpredict_isqualified\u001b[0m\u001b[1;33m(\u001b[0m\u001b[0mchild_str\u001b[0m\u001b[1;33m)\u001b[0m\u001b[1;33m\u001b[0m\u001b[1;33m\u001b[0m\u001b[0m\n",
       "\u001b[1;31mDocstring:\u001b[0m <no docstring>\n",
       "\u001b[1;31mSource:\u001b[0m   \n",
       "    \u001b[1;32mdef\u001b[0m \u001b[0mpredict_isqualified\u001b[0m\u001b[1;33m(\u001b[0m\u001b[0mself\u001b[0m\u001b[1;33m,\u001b[0m \u001b[0mchild_str\u001b[0m\u001b[1;33m)\u001b[0m\u001b[1;33m:\u001b[0m\u001b[1;33m\n",
       "\u001b[0m        \u001b[1;32mif\u001b[0m \u001b[1;32mnot\u001b[0m \u001b[0misinstance\u001b[0m\u001b[1;33m(\u001b[0m\u001b[0mchild_str\u001b[0m\u001b[1;33m,\u001b[0m \u001b[0mlist\u001b[0m\u001b[1;33m)\u001b[0m\u001b[1;33m:\u001b[0m \u001b[0mchild_str\u001b[0m \u001b[1;33m=\u001b[0m \u001b[0mlist\u001b[0m\u001b[1;33m(\u001b[0m\u001b[0mchild_str\u001b[0m\u001b[1;33m)\u001b[0m\u001b[1;33m\n",
       "\u001b[0m        \u001b[0mprobs_list\u001b[0m \u001b[1;33m=\u001b[0m \u001b[0mself\u001b[0m\u001b[1;33m.\u001b[0m\u001b[0mpredict_job_hunt_percent_fit\u001b[0m\u001b[1;33m(\u001b[0m\u001b[0mchild_str\u001b[0m\u001b[1;33m)\u001b[0m\u001b[1;33m\n",
       "\u001b[0m        \u001b[0midx\u001b[0m \u001b[1;33m=\u001b[0m \u001b[0mprobs_list\u001b[0m\u001b[1;33m.\u001b[0m\u001b[0mindex\u001b[0m\u001b[1;33m(\u001b[0m\u001b[0mmax\u001b[0m\u001b[1;33m(\u001b[0m\u001b[0mprobs_list\u001b[0m\u001b[1;33m)\u001b[0m\u001b[1;33m)\u001b[0m\u001b[1;33m\n",
       "\u001b[0m        \u001b[0mis_qualified\u001b[0m \u001b[1;33m=\u001b[0m \u001b[1;33m[\u001b[0m\u001b[1;32mTrue\u001b[0m\u001b[1;33m,\u001b[0m \u001b[1;32mFalse\u001b[0m\u001b[1;33m]\u001b[0m\u001b[1;33m[\u001b[0m\u001b[0midx\u001b[0m\u001b[1;33m]\u001b[0m\u001b[1;33m\n",
       "\u001b[0m        \u001b[1;33m\n",
       "\u001b[0m        \u001b[1;32mreturn\u001b[0m \u001b[0mis_qualified\u001b[0m\u001b[1;33m\u001b[0m\u001b[1;33m\u001b[0m\u001b[0m\n",
       "\u001b[1;31mFile:\u001b[0m      c:\\users\\daveb\\onedrive\\documents\\github\\job-hunting\\py\\jobpostlib\\lr_utils.py\n",
       "\u001b[1;31mType:\u001b[0m      method"
      ]
     },
     "metadata": {},
     "output_type": "display_data"
    }
   ],
   "source": [
    "\n",
    "lru.predict_isqualified??"
   ]
  },
  {
   "cell_type": "code",
   "execution_count": 16,
   "metadata": {},
   "outputs": [
    {
     "data": {
      "text/plain": [
       "\u001b[1;31mSignature:\u001b[0m \u001b[0mlru\u001b[0m\u001b[1;33m.\u001b[0m\u001b[0mISQUALIFIED_LR\u001b[0m\u001b[1;33m.\u001b[0m\u001b[0mpredict_proba\u001b[0m\u001b[1;33m(\u001b[0m\u001b[0mX\u001b[0m\u001b[1;33m)\u001b[0m\u001b[1;33m\u001b[0m\u001b[1;33m\u001b[0m\u001b[0m\n",
       "\u001b[1;31mSource:\u001b[0m   \n",
       "    \u001b[1;32mdef\u001b[0m \u001b[0mpredict_proba\u001b[0m\u001b[1;33m(\u001b[0m\u001b[0mself\u001b[0m\u001b[1;33m,\u001b[0m \u001b[0mX\u001b[0m\u001b[1;33m)\u001b[0m\u001b[1;33m:\u001b[0m\u001b[1;33m\n",
       "\u001b[0m        \u001b[1;34m\"\"\"\n",
       "        Probability estimates.\n",
       "\n",
       "        The returned estimates for all classes are ordered by the\n",
       "        label of classes.\n",
       "\n",
       "        For a multi_class problem, if multi_class is set to be \"multinomial\"\n",
       "        the softmax function is used to find the predicted probability of\n",
       "        each class.\n",
       "        Else use a one-vs-rest approach, i.e calculate the probability\n",
       "        of each class assuming it to be positive using the logistic function.\n",
       "        and normalize these values across all the classes.\n",
       "\n",
       "        Parameters\n",
       "        ----------\n",
       "        X : array-like of shape (n_samples, n_features)\n",
       "            Vector to be scored, where `n_samples` is the number of samples and\n",
       "            `n_features` is the number of features.\n",
       "\n",
       "        Returns\n",
       "        -------\n",
       "        T : array-like of shape (n_samples, n_classes)\n",
       "            Returns the probability of the sample for each class in the model,\n",
       "            where classes are ordered as they are in ``self.classes_``.\n",
       "        \"\"\"\u001b[0m\u001b[1;33m\n",
       "\u001b[0m        \u001b[0mcheck_is_fitted\u001b[0m\u001b[1;33m(\u001b[0m\u001b[0mself\u001b[0m\u001b[1;33m)\u001b[0m\u001b[1;33m\n",
       "\u001b[0m\u001b[1;33m\n",
       "\u001b[0m        \u001b[0movr\u001b[0m \u001b[1;33m=\u001b[0m \u001b[0mself\u001b[0m\u001b[1;33m.\u001b[0m\u001b[0mmulti_class\u001b[0m \u001b[1;32min\u001b[0m \u001b[1;33m[\u001b[0m\u001b[1;34m\"ovr\"\u001b[0m\u001b[1;33m,\u001b[0m \u001b[1;34m\"warn\"\u001b[0m\u001b[1;33m]\u001b[0m \u001b[1;32mor\u001b[0m \u001b[1;33m(\u001b[0m\u001b[1;33m\n",
       "\u001b[0m            \u001b[0mself\u001b[0m\u001b[1;33m.\u001b[0m\u001b[0mmulti_class\u001b[0m \u001b[1;33m==\u001b[0m \u001b[1;34m\"auto\"\u001b[0m\u001b[1;33m\n",
       "\u001b[0m            \u001b[1;32mand\u001b[0m \u001b[1;33m(\u001b[0m\u001b[0mself\u001b[0m\u001b[1;33m.\u001b[0m\u001b[0mclasses_\u001b[0m\u001b[1;33m.\u001b[0m\u001b[0msize\u001b[0m \u001b[1;33m<=\u001b[0m \u001b[1;36m2\u001b[0m \u001b[1;32mor\u001b[0m \u001b[0mself\u001b[0m\u001b[1;33m.\u001b[0m\u001b[0msolver\u001b[0m \u001b[1;33m==\u001b[0m \u001b[1;34m\"liblinear\"\u001b[0m\u001b[1;33m)\u001b[0m\u001b[1;33m\n",
       "\u001b[0m        \u001b[1;33m)\u001b[0m\u001b[1;33m\n",
       "\u001b[0m        \u001b[1;32mif\u001b[0m \u001b[0movr\u001b[0m\u001b[1;33m:\u001b[0m\u001b[1;33m\n",
       "\u001b[0m            \u001b[1;32mreturn\u001b[0m \u001b[0msuper\u001b[0m\u001b[1;33m(\u001b[0m\u001b[1;33m)\u001b[0m\u001b[1;33m.\u001b[0m\u001b[0m_predict_proba_lr\u001b[0m\u001b[1;33m(\u001b[0m\u001b[0mX\u001b[0m\u001b[1;33m)\u001b[0m\u001b[1;33m\n",
       "\u001b[0m        \u001b[1;32melse\u001b[0m\u001b[1;33m:\u001b[0m\u001b[1;33m\n",
       "\u001b[0m            \u001b[0mdecision\u001b[0m \u001b[1;33m=\u001b[0m \u001b[0mself\u001b[0m\u001b[1;33m.\u001b[0m\u001b[0mdecision_function\u001b[0m\u001b[1;33m(\u001b[0m\u001b[0mX\u001b[0m\u001b[1;33m)\u001b[0m\u001b[1;33m\n",
       "\u001b[0m            \u001b[1;32mif\u001b[0m \u001b[0mdecision\u001b[0m\u001b[1;33m.\u001b[0m\u001b[0mndim\u001b[0m \u001b[1;33m==\u001b[0m \u001b[1;36m1\u001b[0m\u001b[1;33m:\u001b[0m\u001b[1;33m\n",
       "\u001b[0m                \u001b[1;31m# Workaround for multi_class=\"multinomial\" and binary outcomes\u001b[0m\u001b[1;33m\n",
       "\u001b[0m                \u001b[1;31m# which requires softmax prediction with only a 1D decision.\u001b[0m\u001b[1;33m\n",
       "\u001b[0m                \u001b[0mdecision_2d\u001b[0m \u001b[1;33m=\u001b[0m \u001b[0mnp\u001b[0m\u001b[1;33m.\u001b[0m\u001b[0mc_\u001b[0m\u001b[1;33m[\u001b[0m\u001b[1;33m-\u001b[0m\u001b[0mdecision\u001b[0m\u001b[1;33m,\u001b[0m \u001b[0mdecision\u001b[0m\u001b[1;33m]\u001b[0m\u001b[1;33m\n",
       "\u001b[0m            \u001b[1;32melse\u001b[0m\u001b[1;33m:\u001b[0m\u001b[1;33m\n",
       "\u001b[0m                \u001b[0mdecision_2d\u001b[0m \u001b[1;33m=\u001b[0m \u001b[0mdecision\u001b[0m\u001b[1;33m\n",
       "\u001b[0m            \u001b[1;32mreturn\u001b[0m \u001b[0msoftmax\u001b[0m\u001b[1;33m(\u001b[0m\u001b[0mdecision_2d\u001b[0m\u001b[1;33m,\u001b[0m \u001b[0mcopy\u001b[0m\u001b[1;33m=\u001b[0m\u001b[1;32mFalse\u001b[0m\u001b[1;33m)\u001b[0m\u001b[1;33m\u001b[0m\u001b[1;33m\u001b[0m\u001b[0m\n",
       "\u001b[1;31mFile:\u001b[0m      c:\\programdata\\anaconda3\\lib\\site-packages\\sklearn\\linear_model\\_logistic.py\n",
       "\u001b[1;31mType:\u001b[0m      method"
      ]
     },
     "metadata": {},
     "output_type": "display_data"
    }
   ],
   "source": [
    "\n",
    "lru.ISQUALIFIED_LR.predict_proba??"
   ]
  },
  {
   "cell_type": "code",
   "execution_count": 6,
   "metadata": {},
   "outputs": [
    {
     "name": "stdout",
     "output_type": "stream",
     "text": [
      "\n",
      "CV\n",
      "CountVectorizer(lowercase=False, min_df=0.0, ngram_range=(1, 5),\n",
      "                strip_accents='ascii',\n",
      "                tokenizer=<bound method HeaderAnalysis.html_regex_tokenizer of <__main__.HeaderAnalysis object at 0x00000217DBAACDC8>>)\n",
      "\n",
      "LR_DICT\n",
      "O-RQ LogisticRegression(C=375.0, class_weight='balanced', max_iter=1000,\n",
      "                   penalty='l1', solver='liblinear', verbose=False)\n",
      "H-SP LogisticRegression(C=375.0, class_weight='balanced', max_iter=1000,\n",
      "                   penalty='l1', solver='liblinear', verbose=False)\n",
      "\n",
      "PREDICT_PERCENT_FIT_DICT\n",
      "O-TS <function LrUtilities.build_lr_predict_percent.<locals>.predict_percent_fit at 0x00000217E229B708>\n",
      "H-O <function LrUtilities.build_lr_predict_percent.<locals>.predict_percent_fit at 0x00000217E229B048>\n",
      "\n",
      "TT\n",
      "TfidfTransformer(norm='l1')\n"
     ]
    }
   ],
   "source": [
    "\n",
    "import random\n",
    "\n",
    "print('\\nCV')\n",
    "print(lru.CV)\n",
    "print('\\nLR_DICT')\n",
    "for k, v in random.sample(lru.LR_DICT.items(), 2):\n",
    "    print(k, v)\n",
    "print('\\nPREDICT_PERCENT_FIT_DICT')\n",
    "for k, v in random.sample(lru.PREDICT_PERCENT_FIT_DICT.items(), 2):\n",
    "    print(k, v)\n",
    "print('\\nTT')\n",
    "print(lru.TT)"
   ]
  },
  {
   "cell_type": "markdown",
   "metadata": {},
   "source": [
    "\n",
    "## Test its accuracy"
   ]
  },
  {
   "cell_type": "code",
   "execution_count": 26,
   "metadata": {},
   "outputs": [],
   "source": [
    "\n",
    "sql_str = f'''\n",
    "    SELECT\n",
    "        np.[navigable_parent],\n",
    "        pos.[pos_symbol]\n",
    "    FROM\n",
    "        [Jobhunting].[dbo].[NavigableParents] np INNER JOIN\n",
    "        [Jobhunting].[dbo].[PartsOfSpeech] pos ON\n",
    "            pos.[is_header] = np.[is_header] AND\n",
    "            pos.[is_task_scope] = np.[is_task_scope] AND\n",
    "            pos.[is_minimum_qualification] = np.[is_minimum_qualification] AND\n",
    "            pos.[is_preferred_qualification] = np.[is_preferred_qualification] AND\n",
    "            pos.[is_legal_notification] = np.[is_legal_notification] AND\n",
    "            pos.[is_job_title] = np.[is_job_title] AND\n",
    "            pos.[is_office_location] = np.[is_office_location] AND\n",
    "            pos.[is_job_duration] = np.[is_job_duration] AND\n",
    "            pos.[is_supplemental_pay] = np.[is_supplemental_pay] AND\n",
    "            pos.[is_educational_requirement] = np.[is_educational_requirement] AND\n",
    "            pos.[is_interview_procedure] = np.[is_interview_procedure] AND\n",
    "            pos.[is_corporate_scope] = np.[is_corporate_scope] AND\n",
    "            pos.[is_posting_date] = np.[is_posting_date] AND\n",
    "            pos.[is_other] = np.[is_other];'''\n",
    "pos_df = pd.DataFrame(lru.su.get_execution_results(lru.cursor, sql_str, verbose=False))\n",
    "POS_DICT = pos_df.set_index('navigable_parent')['pos_symbol'].to_dict()"
   ]
  },
  {
   "cell_type": "code",
   "execution_count": 36,
   "metadata": {},
   "outputs": [],
   "source": [
    "\n",
    "y_true = []\n",
    "y_pred = []\n",
    "for sent_str, pos_symbol in POS_DICT.items():\n",
    "    y_true.append(pos_symbol)\n",
    "    y_pred.append(lru.lr_predict_single(sent_str))"
   ]
  },
  {
   "cell_type": "code",
   "execution_count": 38,
   "metadata": {},
   "outputs": [
    {
     "name": "stdout",
     "output_type": "stream",
     "text": [
      "              precision    recall  f1-score   support\n",
      "\n",
      "        H-CS       1.00      0.10      0.17        21\n",
      "        H-ER       0.00      0.00      0.00         4\n",
      "        H-IP       0.00      0.00      0.00         3\n",
      "        H-JD       0.00      0.00      0.00         8\n",
      "        H-JT       0.00      0.00      0.00         3\n",
      "        H-LN       0.00      0.00      0.00         8\n",
      "         H-O       0.00      0.00      0.00         4\n",
      "        H-OL       1.00      0.05      0.10        20\n",
      "        H-PD       0.00      0.00      0.00         2\n",
      "        H-PQ       0.00      0.00      0.00        20\n",
      "        H-RQ       0.71      0.08      0.15        61\n",
      "        H-SP       0.00      0.00      0.00         9\n",
      "        H-TS       0.98      0.60      0.74        67\n",
      "        O-CS       0.52      0.92      0.67        13\n",
      "        O-ER       0.75      0.50      0.60         6\n",
      "        O-IP       0.43      0.60      0.50         5\n",
      "        O-LN       0.27      1.00      0.42         8\n",
      "         O-O       0.00      0.00      0.00         2\n",
      "        O-OL       0.50      0.15      0.24        13\n",
      "        O-PQ       0.42      0.71      0.53        14\n",
      "        O-RQ       0.36      0.78      0.49        89\n",
      "        O-SP       0.93      0.94      0.93        94\n",
      "        O-TS       0.52      0.98      0.68        47\n",
      "\n",
      "    accuracy                           0.55       521\n",
      "   macro avg       0.36      0.32      0.27       521\n",
      "weighted avg       0.62      0.55      0.49       521\n",
      "\n"
     ]
    },
    {
     "name": "stderr",
     "output_type": "stream",
     "text": [
      "C:\\Users\\dev\\Documents\\Repositories\\job-hunting\\jh\\lib\\site-packages\\sklearn\\metrics\\_classification.py:1221: UndefinedMetricWarning: Precision and F-score are ill-defined and being set to 0.0 in labels with no predicted samples. Use `zero_division` parameter to control this behavior.\n",
      "  _warn_prf(average, modifier, msg_start, len(result))\n"
     ]
    }
   ],
   "source": [
    "\n",
    "from sklearn.metrics import classification_report\n",
    "\n",
    "print(classification_report(y_true, y_pred))"
   ]
  },
  {
   "cell_type": "code",
   "execution_count": 54,
   "metadata": {},
   "outputs": [],
   "source": [
    "\n",
    "seen = set()\n",
    "seen_add = seen.add\n",
    "label_list = [x for x in y_true if not (x in seen or seen_add(x))]"
   ]
  },
  {
   "cell_type": "code",
   "execution_count": 62,
   "metadata": {},
   "outputs": [
    {
     "data": {
      "image/png": "[encoded data removed]",
      "text/plain": [
       "<Figure size 1296x432 with 2 Axes>"
      ]
     },
     "metadata": {
      "needs_background": "light"
     },
     "output_type": "display_data"
    }
   ],
   "source": [
    "\n",
    "from sklearn.metrics import confusion_matrix\n",
    "from sklearn.metrics import ConfusionMatrixDisplay\n",
    "import matplotlib.pyplot as plt\n",
    "\n",
    "cm = confusion_matrix(y_true, y_pred, labels=label_list)\n",
    "fig, ax = plt.subplots(figsize=(18, 6))\n",
    "cm_display = ConfusionMatrixDisplay(cm).plot(ax=ax)\n",
    "xticklabels_list = ax.set_xticklabels(label_list, rotation='vertical')\n",
    "yticklabels_list = ax.set_yticklabels(label_list)"
   ]
  },
  {
   "cell_type": "code",
   "execution_count": null,
   "metadata": {},
   "outputs": [],
   "source": []
  }
 ],
 "metadata": {
  "kernelspec": {
   "display_name": "Python 3 (ipykernel)",
   "language": "python",
   "name": "python3"
  },
  "language_info": {
   "codemirror_mode": {
    "name": "ipython",
    "version": 3
   },
   "file_extension": ".py",
   "mimetype": "text/x-python",
   "name": "python",
   "nbconvert_exporter": "python",
   "pygments_lexer": "ipython3",
   "version": "3.9.18"
  }
 },
 "nbformat": 4,
 "nbformat_minor": 4
}
