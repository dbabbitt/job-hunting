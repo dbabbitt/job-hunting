{
 "cells": [
  {
   "cell_type": "code",
   "execution_count": 1,
   "metadata": {},
   "outputs": [
    {
     "name": "stdout",
     "output_type": "stream",
     "text": [
      "Pretty printing has been turned OFF\n"
     ]
    }
   ],
   "source": [
    "\n",
    "%pprint"
   ]
  },
  {
   "cell_type": "markdown",
   "metadata": {},
   "source": [
    "\n",
    "## Let's use our labeled data to evaluate a Logistic Regression model"
   ]
  },
  {
   "cell_type": "code",
   "execution_count": 2,
   "metadata": {},
   "outputs": [
    {
     "name": "stderr",
     "output_type": "stream",
     "text": [
      "C:\\Users\\dev\\Documents\\Repositories\\job-hunting\\jh\\lib\\site-packages\\sklearn\\svm\\_base.py:977: ConvergenceWarning: Liblinear failed to converge, increase the number of iterations.\n",
      "  \"the number of iterations.\", ConvergenceWarning)\n",
      "C:\\Users\\dev\\Documents\\Repositories\\job-hunting\\jh\\lib\\site-packages\\sklearn\\svm\\_base.py:977: ConvergenceWarning: Liblinear failed to converge, increase the number of iterations.\n",
      "  \"the number of iterations.\", ConvergenceWarning)\n",
      "C:\\Users\\dev\\Documents\\Repositories\\job-hunting\\jh\\lib\\site-packages\\sklearn\\svm\\_base.py:977: ConvergenceWarning: Liblinear failed to converge, increase the number of iterations.\n",
      "  \"the number of iterations.\", ConvergenceWarning)\n",
      "C:\\Users\\dev\\Documents\\Repositories\\job-hunting\\jh\\lib\\site-packages\\sklearn\\svm\\_base.py:977: ConvergenceWarning: Liblinear failed to converge, increase the number of iterations.\n",
      "  \"the number of iterations.\", ConvergenceWarning)\n"
     ]
    },
    {
     "name": "stdout",
     "output_type": "stream",
     "text": [
      "Wall time: 1min 36s\n"
     ]
    }
   ],
   "source": [
    "\n",
    "%%time\n",
    "%run ../py/html_analysis.py\n",
    "\n",
    "lr = LrUtilities()"
   ]
  },
  {
   "cell_type": "code",
   "execution_count": 3,
   "metadata": {},
   "outputs": [
    {
     "data": {
      "text/plain": [
       "'O-RQ'"
      ]
     },
     "execution_count": 3,
     "metadata": {},
     "output_type": "execute_result"
    }
   ],
   "source": [
    "\n",
    "sent_str = '<b>SQL experience</b>'\n",
    "lr.lr_predict_single(sent_str)"
   ]
  },
  {
   "cell_type": "code",
   "execution_count": 4,
   "metadata": {},
   "outputs": [
    {
     "data": {
      "text/plain": [
       "'O-CS'"
      ]
     },
     "execution_count": 4,
     "metadata": {},
     "output_type": "execute_result"
    }
   ],
   "source": [
    "\n",
    "sent_str = 'You work here.'\n",
    "lr.lr_predict_single(sent_str)"
   ]
  },
  {
   "cell_type": "code",
   "execution_count": 5,
   "metadata": {},
   "outputs": [
    {
     "data": {
      "text/plain": [
       "['lr.CV', 'lr.LR_DICT', 'lr.PREDICT_PERCENT_FIT_DICT', 'lr.TT', 'lr.build_lr_predict_percent', 'lr.build_lr_predict_percent_is_header', 'lr.conn', 'lr.cursor', 'lr.ha', 'lr.hc', 'lr.lr_predict_single', 'lr.su']"
      ]
     },
     "execution_count": 5,
     "metadata": {},
     "output_type": "execute_result"
    }
   ],
   "source": [
    "\n",
    "[f'lr.{fn}' for fn in dir(lr) if not fn.startswith('_')]"
   ]
  },
  {
   "cell_type": "code",
   "execution_count": 6,
   "metadata": {},
   "outputs": [
    {
     "name": "stdout",
     "output_type": "stream",
     "text": [
      "\n",
      "CV\n",
      "CountVectorizer(lowercase=False, min_df=0.0, ngram_range=(1, 5),\n",
      "                strip_accents='ascii',\n",
      "                tokenizer=<bound method HeaderAnalysis.html_regex_tokenizer of <__main__.HeaderAnalysis object at 0x00000217DBAACDC8>>)\n",
      "\n",
      "LR_DICT\n",
      "O-RQ LogisticRegression(C=375.0, class_weight='balanced', max_iter=1000,\n",
      "                   penalty='l1', solver='liblinear', verbose=False)\n",
      "H-SP LogisticRegression(C=375.0, class_weight='balanced', max_iter=1000,\n",
      "                   penalty='l1', solver='liblinear', verbose=False)\n",
      "\n",
      "PREDICT_PERCENT_FIT_DICT\n",
      "O-TS <function LrUtilities.build_lr_predict_percent.<locals>.predict_percent_fit at 0x00000217E229B708>\n",
      "H-O <function LrUtilities.build_lr_predict_percent.<locals>.predict_percent_fit at 0x00000217E229B048>\n",
      "\n",
      "TT\n",
      "TfidfTransformer(norm='l1')\n"
     ]
    }
   ],
   "source": [
    "\n",
    "import random\n",
    "\n",
    "print('\\nCV')\n",
    "print(lr.CV)\n",
    "print('\\nLR_DICT')\n",
    "for k, v in random.sample(lr.LR_DICT.items(), 2):\n",
    "    print(k, v)\n",
    "print('\\nPREDICT_PERCENT_FIT_DICT')\n",
    "for k, v in random.sample(lr.PREDICT_PERCENT_FIT_DICT.items(), 2):\n",
    "    print(k, v)\n",
    "print('\\nTT')\n",
    "print(lr.TT)"
   ]
  },
  {
   "cell_type": "markdown",
   "metadata": {},
   "source": [
    "\n",
    "## Test its accuracy"
   ]
  },
  {
   "cell_type": "code",
   "execution_count": 26,
   "metadata": {},
   "outputs": [],
   "source": [
    "\n",
    "sql_str = f'''\n",
    "    SELECT\n",
    "        np.[navigable_parent],\n",
    "        pos.[pos_symbol]\n",
    "    FROM\n",
    "        [Jobhunting].[dbo].[NavigableParents] np INNER JOIN\n",
    "        [Jobhunting].[dbo].[PartsOfSpeech] pos ON\n",
    "            pos.[is_header] = np.[is_header] AND\n",
    "            pos.[is_task_scope] = np.[is_task_scope] AND\n",
    "            pos.[is_minimum_qualification] = np.[is_minimum_qualification] AND\n",
    "            pos.[is_preferred_qualification] = np.[is_preferred_qualification] AND\n",
    "            pos.[is_legal_notification] = np.[is_legal_notification] AND\n",
    "            pos.[is_job_title] = np.[is_job_title] AND\n",
    "            pos.[is_office_location] = np.[is_office_location] AND\n",
    "            pos.[is_job_duration] = np.[is_job_duration] AND\n",
    "            pos.[is_supplemental_pay] = np.[is_supplemental_pay] AND\n",
    "            pos.[is_educational_requirement] = np.[is_educational_requirement] AND\n",
    "            pos.[is_interview_procedure] = np.[is_interview_procedure] AND\n",
    "            pos.[is_corporate_scope] = np.[is_corporate_scope] AND\n",
    "            pos.[is_posting_date] = np.[is_posting_date] AND\n",
    "            pos.[is_other] = np.[is_other];'''\n",
    "pos_df = pd.DataFrame(lr.su.get_execution_results(lr.cursor, sql_str, verbose=False))\n",
    "POS_DICT = pos_df.set_index('navigable_parent')['pos_symbol'].to_dict()"
   ]
  },
  {
   "cell_type": "code",
   "execution_count": 36,
   "metadata": {},
   "outputs": [],
   "source": [
    "\n",
    "y_true = []\n",
    "y_pred = []\n",
    "for sent_str, pos_symbol in POS_DICT.items():\n",
    "    y_true.append(pos_symbol)\n",
    "    y_pred.append(lr.lr_predict_single(sent_str))"
   ]
  },
  {
   "cell_type": "code",
   "execution_count": 38,
   "metadata": {},
   "outputs": [
    {
     "name": "stdout",
     "output_type": "stream",
     "text": [
      "              precision    recall  f1-score   support\n",
      "\n",
      "        H-CS       1.00      0.10      0.17        21\n",
      "        H-ER       0.00      0.00      0.00         4\n",
      "        H-IP       0.00      0.00      0.00         3\n",
      "        H-JD       0.00      0.00      0.00         8\n",
      "        H-JT       0.00      0.00      0.00         3\n",
      "        H-LN       0.00      0.00      0.00         8\n",
      "         H-O       0.00      0.00      0.00         4\n",
      "        H-OL       1.00      0.05      0.10        20\n",
      "        H-PD       0.00      0.00      0.00         2\n",
      "        H-PQ       0.00      0.00      0.00        20\n",
      "        H-RQ       0.71      0.08      0.15        61\n",
      "        H-SP       0.00      0.00      0.00         9\n",
      "        H-TS       0.98      0.60      0.74        67\n",
      "        O-CS       0.52      0.92      0.67        13\n",
      "        O-ER       0.75      0.50      0.60         6\n",
      "        O-IP       0.43      0.60      0.50         5\n",
      "        O-LN       0.27      1.00      0.42         8\n",
      "         O-O       0.00      0.00      0.00         2\n",
      "        O-OL       0.50      0.15      0.24        13\n",
      "        O-PQ       0.42      0.71      0.53        14\n",
      "        O-RQ       0.36      0.78      0.49        89\n",
      "        O-SP       0.93      0.94      0.93        94\n",
      "        O-TS       0.52      0.98      0.68        47\n",
      "\n",
      "    accuracy                           0.55       521\n",
      "   macro avg       0.36      0.32      0.27       521\n",
      "weighted avg       0.62      0.55      0.49       521\n",
      "\n"
     ]
    },
    {
     "name": "stderr",
     "output_type": "stream",
     "text": [
      "C:\\Users\\dev\\Documents\\Repositories\\job-hunting\\jh\\lib\\site-packages\\sklearn\\metrics\\_classification.py:1221: UndefinedMetricWarning: Precision and F-score are ill-defined and being set to 0.0 in labels with no predicted samples. Use `zero_division` parameter to control this behavior.\n",
      "  _warn_prf(average, modifier, msg_start, len(result))\n"
     ]
    }
   ],
   "source": [
    "\n",
    "from sklearn.metrics import classification_report\n",
    "\n",
    "print(classification_report(y_true, y_pred))"
   ]
  },
  {
   "cell_type": "code",
   "execution_count": 54,
   "metadata": {},
   "outputs": [],
   "source": [
    "\n",
    "seen = set()\n",
    "seen_add = seen.add\n",
    "label_list = [x for x in y_true if not (x in seen or seen_add(x))]"
   ]
  },
  {
   "cell_type": "code",
   "execution_count": 62,
   "metadata": {},
   "outputs": [
    {
     "data": {
      "image/png": "[encoded data removed]",
      "text/plain": [
       "<Figure size 1296x432 with 2 Axes>"
      ]
     },
     "metadata": {
      "needs_background": "light"
     },
     "output_type": "display_data"
    }
   ],
   "source": [
    "\n",
    "from sklearn.metrics import confusion_matrix\n",
    "from sklearn.metrics import ConfusionMatrixDisplay\n",
    "import matplotlib.pyplot as plt\n",
    "\n",
    "cm = confusion_matrix(y_true, y_pred, labels=label_list)\n",
    "fig, ax = plt.subplots(figsize=(18, 6))\n",
    "cm_display = ConfusionMatrixDisplay(cm).plot(ax=ax)\n",
    "xticklabels_list = ax.set_xticklabels(label_list, rotation='vertical')\n",
    "yticklabels_list = ax.set_yticklabels(label_list)"
   ]
  },
  {
   "cell_type": "code",
   "execution_count": null,
   "metadata": {},
   "outputs": [],
   "source": []
  }
 ],
 "metadata": {
  "kernelspec": {
   "display_name": "Job Hunting (Python 3.7.9)",
   "language": "python",
   "name": "jh"
  },
  "language_info": {
   "codemirror_mode": {
    "name": "ipython",
    "version": 3
   },
   "file_extension": ".py",
   "mimetype": "text/x-python",
   "name": "python",
   "nbconvert_exporter": "python",
   "pygments_lexer": "ipython3",
   "version": "3.7.9"
  }
 },
 "nbformat": 4,
 "nbformat_minor": 4
}
