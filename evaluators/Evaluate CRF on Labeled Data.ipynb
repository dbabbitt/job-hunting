{
 "cells": [
  {
   "cell_type": "code",
   "execution_count": 1,
   "metadata": {},
   "outputs": [
    {
     "name": "stdout",
     "output_type": "stream",
     "text": [
      "Pretty printing has been turned OFF\n"
     ]
    }
   ],
   "source": [
    "\n",
    "%pprint"
   ]
  },
  {
   "cell_type": "markdown",
   "metadata": {},
   "source": [
    "\n",
    "## Let's use our labeled data to evaluate a Conditional Random Fields model"
   ]
  },
  {
   "cell_type": "code",
   "execution_count": 2,
   "metadata": {},
   "outputs": [
    {
     "name": "stdout",
     "output_type": "stream",
     "text": [
      "Pickling to C:\\Users\\DaveBabbitt\\Documents\\Repositories\\job-hunting\\saves\\pickle\\CHILDLESS_TAGS_LIST.pickle\n"
     ]
    },
    {
     "ename": "AssertionError",
     "evalue": "You're in deep doodoo: you lost your basic tags dictionary",
     "output_type": "error",
     "traceback": [
      "\u001b[1;31m---------------------------------------------------------------------------\u001b[0m",
      "\u001b[1;31mAssertionError\u001b[0m                            Traceback (most recent call last)",
      "\u001b[1;32m<timed exec>\u001b[0m in \u001b[0;36m<module>\u001b[1;34m\u001b[0m\n",
      "\u001b[1;32m~\\Documents\\Repositories\\job-hunting\\py\\html_analysis.py\u001b[0m in \u001b[0;36m__init__\u001b[1;34m(self, ha, hc, su, verbose)\u001b[0m\n\u001b[0;32m    536\u001b[0m         \u001b[1;32mdef\u001b[0m \u001b[0m__init__\u001b[0m\u001b[1;33m(\u001b[0m\u001b[0mself\u001b[0m\u001b[1;33m,\u001b[0m \u001b[0mha\u001b[0m\u001b[1;33m=\u001b[0m\u001b[1;32mNone\u001b[0m\u001b[1;33m,\u001b[0m \u001b[0mhc\u001b[0m\u001b[1;33m=\u001b[0m\u001b[1;32mNone\u001b[0m\u001b[1;33m,\u001b[0m \u001b[0msu\u001b[0m\u001b[1;33m=\u001b[0m\u001b[1;32mNone\u001b[0m\u001b[1;33m,\u001b[0m \u001b[0mverbose\u001b[0m\u001b[1;33m=\u001b[0m\u001b[1;32mFalse\u001b[0m\u001b[1;33m)\u001b[0m\u001b[1;33m:\u001b[0m\u001b[1;33m\u001b[0m\u001b[1;33m\u001b[0m\u001b[0m\n\u001b[0;32m    537\u001b[0m                 \u001b[1;32mif\u001b[0m \u001b[0mha\u001b[0m \u001b[1;32mis\u001b[0m \u001b[1;32mNone\u001b[0m\u001b[1;33m:\u001b[0m\u001b[1;33m\u001b[0m\u001b[1;33m\u001b[0m\u001b[0m\n\u001b[1;32m--> 538\u001b[1;33m                         \u001b[0mself\u001b[0m\u001b[1;33m.\u001b[0m\u001b[0mha\u001b[0m \u001b[1;33m=\u001b[0m \u001b[0mHeaderAnalysis\u001b[0m\u001b[1;33m(\u001b[0m\u001b[1;33m)\u001b[0m\u001b[1;33m\u001b[0m\u001b[1;33m\u001b[0m\u001b[0m\n\u001b[0m\u001b[0;32m    539\u001b[0m                 \u001b[1;32melse\u001b[0m\u001b[1;33m:\u001b[0m\u001b[1;33m\u001b[0m\u001b[1;33m\u001b[0m\u001b[0m\n\u001b[0;32m    540\u001b[0m                         \u001b[0mself\u001b[0m\u001b[1;33m.\u001b[0m\u001b[0mha\u001b[0m \u001b[1;33m=\u001b[0m \u001b[0mha\u001b[0m\u001b[1;33m\u001b[0m\u001b[1;33m\u001b[0m\u001b[0m\n",
      "\u001b[1;32m~\\Documents\\Repositories\\job-hunting\\py\\html_analysis.py\u001b[0m in \u001b[0;36m__init__\u001b[1;34m(self)\u001b[0m\n\u001b[0;32m    243\u001b[0m                         \u001b[0mself\u001b[0m\u001b[1;33m.\u001b[0m\u001b[0mNAVIGABLE_PARENT_IS_HEADER_DICT\u001b[0m \u001b[1;33m=\u001b[0m \u001b[0ms\u001b[0m\u001b[1;33m.\u001b[0m\u001b[0mload_object\u001b[0m\u001b[1;33m(\u001b[0m\u001b[1;34m'NAVIGABLE_PARENT_IS_HEADER_DICT'\u001b[0m\u001b[1;33m)\u001b[0m\u001b[1;33m\u001b[0m\u001b[1;33m\u001b[0m\u001b[0m\n\u001b[0;32m    244\u001b[0m                 \u001b[1;32melse\u001b[0m\u001b[1;33m:\u001b[0m\u001b[1;33m\u001b[0m\u001b[1;33m\u001b[0m\u001b[0m\n\u001b[1;32m--> 245\u001b[1;33m                         \u001b[1;32massert\u001b[0m \u001b[1;32mFalse\u001b[0m\u001b[1;33m,\u001b[0m \u001b[1;34m\"You're in deep doodoo: you lost your basic tags dictionary\"\u001b[0m\u001b[1;33m\u001b[0m\u001b[1;33m\u001b[0m\u001b[0m\n\u001b[0m\u001b[0;32m    246\u001b[0m                         \u001b[0mself\u001b[0m\u001b[1;33m.\u001b[0m\u001b[0mNAVIGABLE_PARENT_IS_HEADER_DICT\u001b[0m \u001b[1;33m=\u001b[0m \u001b[1;33m{\u001b[0m\u001b[1;33m}\u001b[0m\u001b[1;33m\u001b[0m\u001b[1;33m\u001b[0m\u001b[0m\n\u001b[0;32m    247\u001b[0m                         \u001b[0ms\u001b[0m\u001b[1;33m.\u001b[0m\u001b[0mstore_objects\u001b[0m\u001b[1;33m(\u001b[0m\u001b[0mNAVIGABLE_PARENT_IS_HEADER_DICT\u001b[0m\u001b[1;33m=\u001b[0m\u001b[0mself\u001b[0m\u001b[1;33m.\u001b[0m\u001b[0mNAVIGABLE_PARENT_IS_HEADER_DICT\u001b[0m\u001b[1;33m)\u001b[0m\u001b[1;33m\u001b[0m\u001b[1;33m\u001b[0m\u001b[0m\n",
      "\u001b[1;31mAssertionError\u001b[0m: You're in deep doodoo: you lost your basic tags dictionary"
     ]
    }
   ],
   "source": [
    "\n",
    "%%time\n",
    "%run ../py/html_analysis.py\n",
    "\n",
    "crf = CrfUtilities()"
   ]
  },
  {
   "cell_type": "code",
   "execution_count": null,
   "metadata": {},
   "outputs": [],
   "source": [
    "\n",
    "files_list = crf.su.get_files_list(crf.su.cursor, verbose=False)\n",
    "crf.CRF.predict_single(xseq=feature_dict_list)"
   ]
  },
  {
   "cell_type": "code",
   "execution_count": null,
   "metadata": {},
   "outputs": [],
   "source": [
    "\n",
    "[f'crf.CRF.{fn}' for fn in dir(crf.CRF) if 'predict' in fn.lower()]"
   ]
  },
  {
   "cell_type": "code",
   "execution_count": null,
   "metadata": {},
   "outputs": [],
   "source": [
    "\n",
    "\n",
    "import sklearn_crfsuite\n",
    "\n",
    "CRF = sklearn_crfsuite.CRF(algorithm='lbfgs', c1=0.1, c2=0.1, max_iterations=100,\n",
    "                           all_possible_transitions=True)\n",
    "HEADER_PATTERN_DICT = s.load_object('HEADER_PATTERN_DICT')\n",
    "X_train = []\n",
    "y_train = []\n",
    "HEADER_PATTERN_DICT"
   ]
  },
  {
   "cell_type": "code",
   "execution_count": null,
   "metadata": {},
   "outputs": [],
   "source": [
    "\n",
    "crf.CRF.predict_marginals_single(sent_str)"
   ]
  },
  {
   "cell_type": "code",
   "execution_count": null,
   "metadata": {},
   "outputs": [],
   "source": [
    "\n",
    "sent_str = 'You work here.'\n",
    "crf.CRF.predict_single(sent_str)"
   ]
  },
  {
   "cell_type": "code",
   "execution_count": null,
   "metadata": {},
   "outputs": [],
   "source": [
    "\n",
    "[f'lr.{fn}' for fn in dir(lr) if not fn.startswith('_')]"
   ]
  },
  {
   "cell_type": "code",
   "execution_count": null,
   "metadata": {},
   "outputs": [],
   "source": [
    "\n",
    "import random\n",
    "\n",
    "print('\\nCV')\n",
    "print(lr.CV)\n",
    "print('\\nLR_DICT')\n",
    "for k, v in random.sample(lr.LR_DICT.items(), 2):\n",
    "    print(k, v)\n",
    "print('\\nPREDICT_PERCENT_FIT_DICT')\n",
    "for k, v in random.sample(lr.PREDICT_PERCENT_FIT_DICT.items(), 2):\n",
    "    print(k, v)\n",
    "print('\\nTT')\n",
    "print(lr.TT)"
   ]
  },
  {
   "cell_type": "markdown",
   "metadata": {},
   "source": [
    "\n",
    "## Test its accuracy"
   ]
  },
  {
   "cell_type": "code",
   "execution_count": null,
   "metadata": {},
   "outputs": [],
   "source": [
    "\n",
    "sql_str = f'''\n",
    "    SELECT\n",
    "        np.[navigable_parent],\n",
    "        pos.[pos_symbol]\n",
    "    FROM\n",
    "        [Jobhunting].[dbo].[NavigableParents] np INNER JOIN\n",
    "        [Jobhunting].[dbo].[PartsOfSpeech] pos ON\n",
    "            pos.[is_header] = np.[is_header] AND\n",
    "            pos.[is_task_scope] = np.[is_task_scope] AND\n",
    "            pos.[is_minimum_qualification] = np.[is_minimum_qualification] AND\n",
    "            pos.[is_preferred_qualification] = np.[is_preferred_qualification] AND\n",
    "            pos.[is_legal_notification] = np.[is_legal_notification] AND\n",
    "            pos.[is_job_title] = np.[is_job_title] AND\n",
    "            pos.[is_office_location] = np.[is_office_location] AND\n",
    "            pos.[is_job_duration] = np.[is_job_duration] AND\n",
    "            pos.[is_supplemental_pay] = np.[is_supplemental_pay] AND\n",
    "            pos.[is_educational_requirement] = np.[is_educational_requirement] AND\n",
    "            pos.[is_interview_procedure] = np.[is_interview_procedure] AND\n",
    "            pos.[is_corporate_scope] = np.[is_corporate_scope] AND\n",
    "            pos.[is_posting_date] = np.[is_posting_date] AND\n",
    "            pos.[is_other] = np.[is_other];'''\n",
    "pos_df = pd.DataFrame(lr.su.get_execution_results(lr.cursor, sql_str, verbose=False))\n",
    "POS_DICT = pos_df.set_index('navigable_parent')['pos_symbol'].to_dict()"
   ]
  },
  {
   "cell_type": "code",
   "execution_count": null,
   "metadata": {},
   "outputs": [],
   "source": [
    "\n",
    "y_true = []\n",
    "y_pred = []\n",
    "for sent_str, pos_symbol in POS_DICT.items():\n",
    "    y_true.append(pos_symbol)\n",
    "    y_pred.append(lr.lr_predict_single(sent_str))"
   ]
  },
  {
   "cell_type": "code",
   "execution_count": null,
   "metadata": {},
   "outputs": [],
   "source": [
    "\n",
    "from sklearn.metrics import classification_report\n",
    "\n",
    "print(classification_report(y_true, y_pred))"
   ]
  },
  {
   "cell_type": "code",
   "execution_count": null,
   "metadata": {},
   "outputs": [],
   "source": [
    "\n",
    "seen = set()\n",
    "seen_add = seen.add\n",
    "label_list = [x for x in y_true if not (x in seen or seen_add(x))]"
   ]
  },
  {
   "cell_type": "code",
   "execution_count": null,
   "metadata": {},
   "outputs": [],
   "source": [
    "\n",
    "from sklearn.metrics import confusion_matrix\n",
    "from sklearn.metrics import ConfusionMatrixDisplay\n",
    "import matplotlib.pyplot as plt\n",
    "\n",
    "cm = confusion_matrix(y_true, y_pred, labels=label_list)\n",
    "fig, ax = plt.subplots(figsize=(18, 6))\n",
    "cm_display = ConfusionMatrixDisplay(cm).plot(ax=ax)\n",
    "xticklabels_list = ax.set_xticklabels(label_list, rotation='vertical')\n",
    "yticklabels_list = ax.set_yticklabels(label_list)"
   ]
  },
  {
   "cell_type": "code",
   "execution_count": null,
   "metadata": {},
   "outputs": [],
   "source": []
  }
 ],
 "metadata": {
  "kernelspec": {
   "display_name": "Job Hunting (Python 3.7.9)",
   "language": "python",
   "name": "jh_env"
  },
  "language_info": {
   "codemirror_mode": {
    "name": "ipython",
    "version": 3
   },
   "file_extension": ".py",
   "mimetype": "text/x-python",
   "name": "python",
   "nbconvert_exporter": "python",
   "pygments_lexer": "ipython3",
   "version": "3.7.9"
  }
 },
 "nbformat": 4,
 "nbformat_minor": 4
}
