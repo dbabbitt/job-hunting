{
 "cells": [
  {
   "cell_type": "code",
   "execution_count": 1,
   "id": "f9091afa-e16a-4f4c-b832-337b0a03831a",
   "metadata": {},
   "outputs": [
    {
     "name": "stdout",
     "output_type": "stream",
     "text": [
      "Pretty printing has been turned OFF\n"
     ]
    }
   ],
   "source": [
    "\n",
    "%pprint"
   ]
  },
  {
   "cell_type": "markdown",
   "id": "49c3646b-5c20-4ca9-98ee-bb8e31022777",
   "metadata": {
    "tags": []
   },
   "source": [
    "\n",
    "---\n",
    "# Load needed libraries and functions"
   ]
  },
  {
   "cell_type": "code",
   "execution_count": 2,
   "id": "17c47bac-2243-45d8-b26d-122792b00ca5",
   "metadata": {},
   "outputs": [],
   "source": [
    "\n",
    "%matplotlib inline\n",
    "from datetime import datetime\n",
    "from neo4j.exceptions import ServiceUnavailable\n",
    "import humanize\n",
    "import os\n",
    "import sys\n",
    "import time\n",
    "import warnings\n",
    "import winsound\n",
    "\n",
    "warnings.filterwarnings('ignore')\n",
    "duration = 1000  # milliseconds\n",
    "freq = 880  # Hz\n",
    "\n",
    "# Insert at 1, 0 is the script path (or '' in REPL)\n",
    "if (osp.join('..', 'py') not in sys.path): sys.path.insert(1, osp.join('..', 'py'))"
   ]
  },
  {
   "cell_type": "code",
   "execution_count": 3,
   "id": "709e6aa8-6faa-4515-af0c-c7632e8a017b",
   "metadata": {},
   "outputs": [
    {
     "name": "stdout",
     "output_type": "stream",
     "text": [
      "======== Neo4j/4.4.7 ========\n",
      "Utility libraries created in 4 seconds\n"
     ]
    }
   ],
   "source": [
    "\n",
    "t0 = t1 = time.time()\n",
    "\n",
    "# Get the Neo4j driver\n",
    "from storage import Storage\n",
    "s = Storage(\n",
    "    data_folder_path=os.path.abspath('../data'),\n",
    "    saves_folder_path=os.path.abspath('../saves')\n",
    ")\n",
    "\n",
    "from scrape_utils import WebScrapingUtilities\n",
    "wsu = WebScrapingUtilities(\n",
    "    s=s,\n",
    "    secrets_json_path=os.path.abspath('../data/secrets/jh_secrets.json')\n",
    ")\n",
    "uri = wsu.secrets_json['neo4j']['connect_url']\n",
    "user =  wsu.secrets_json['neo4j']['username']\n",
    "password = wsu.secrets_json['neo4j']['password']\n",
    "\n",
    "from ha_utils import HeaderAnalysis\n",
    "ha = HeaderAnalysis(s=s, verbose=False)\n",
    "\n",
    "# Get the Neo4j object\n",
    "from cypher_utils import CypherUtilities\n",
    "cu = CypherUtilities(\n",
    "    uri=uri, user=user, password=password, driver=None, s=s, ha=ha\n",
    ")\n",
    "\n",
    "from is_header_sgd_classifier import IsHeaderSgdClassifier\n",
    "ihu = IsHeaderSgdClassifier(ha=ha, cu=cu, verbose=False)\n",
    "\n",
    "try:\n",
    "    version_str = cu.driver.get_server_info().agent\n",
    "    print(f'======== {version_str} ========')\n",
    "except ServiceUnavailable as e:\n",
    "    print('You need to start Neo4j as a console')\n",
    "    raise\n",
    "except Exception as e:\n",
    "    print(f'{e.__class__}: {str(e).strip()}')\n",
    "\n",
    "from hc_utils import HeaderCategories\n",
    "hc = HeaderCategories(cu=cu, verbose=False)\n",
    "\n",
    "from lr_utils import LrUtilities\n",
    "lru = LrUtilities(ha=ha, cu=cu, hc=hc, verbose=False)\n",
    "\n",
    "from section_classifier_utils import SectionLRClassifierUtilities, SectionSGDClassifierUtilities, SectionCRFClassifierUtilities\n",
    "slrcu = SectionLRClassifierUtilities(ha=ha, cu=cu, verbose=False)\n",
    "ssgdcu = SectionSGDClassifierUtilities(ha=ha, cu=cu, verbose=False)\n",
    "scrfcu = SectionCRFClassifierUtilities(cu=cu, ha=ha, verbose=False)\n",
    "\n",
    "from crf_utils import CrfUtilities\n",
    "crf = CrfUtilities(ha=ha, hc=hc, cu=cu, lru=lru, slrcu=slrcu, scrfcu=scrfcu, ssgdcu=ssgdcu, verbose=True)\n",
    "\n",
    "from section_utils import SectionUtilities\n",
    "su = SectionUtilities(wsu=wsu, ihu=ihu, hc=hc, crf=crf, slrcu=slrcu, scrfcu=scrfcu, ssgdcu=ssgdcu, verbose=False)\n",
    "\n",
    "duration_str = humanize.precisedelta(time.time() - t1, minimum_unit='seconds', format='%0.0f')\n",
    "print(f'Utility libraries created in {duration_str}')"
   ]
  },
  {
   "cell_type": "code",
   "execution_count": 26,
   "id": "04806171-41d4-4c77-a5c8-1c2fa40dcafd",
   "metadata": {},
   "outputs": [
    {
     "data": {
      "text/html": [
       "<table><tr><th>CU Key</th><th>CU Value</th><th>HC Key</th><th>HC Value</th></tr><tr><td>child_str</td><td><oip>Role Is Sold: Yes</oip></td><td>child_str</td><td><oip>Role Is Sold: Yes</oip></td></tr><tr><td>initial_tag</td><td>oip</td><td>initial_tag</td><td>oip</td></tr><tr><td>is_corporate_scope</td><td>False</td><td>is_corporate_scope</td><td>None</td></tr><tr><td>is_educational_requirement</td><td>False</td><td>is_educational_requirement</td><td>None</td></tr><tr><td>is_header</td><td>False</td><td>is_header</td><td>False</td></tr><tr><td>is_interview_procedure</td><td>True</td><td>is_interview_procedure</td><td>None</td></tr><tr><td>is_job_duration</td><td>False</td><td>is_job_duration</td><td>None</td></tr><tr><td>is_job_title</td><td>False</td><td>is_job_title</td><td>None</td></tr><tr><td>is_legal_notification</td><td>False</td><td>is_legal_notification</td><td>None</td></tr><tr><td>is_minimum_qualification</td><td>False</td><td>is_minimum_qualification</td><td>None</td></tr><tr><td>is_office_location</td><td>False</td><td>is_office_location</td><td>None</td></tr><tr><td>is_other</td><td>False</td><td>is_other</td><td>None</td></tr><tr><td>is_posting_date</td><td>False</td><td>is_posting_date</td><td>None</td></tr><tr><td>is_preferred_qualification</td><td>False</td><td>is_preferred_qualification</td><td>None</td></tr><tr><td>is_supplemental_pay</td><td>False</td><td>is_supplemental_pay</td><td>None</td></tr><tr><td>is_task_scope</td><td>False</td><td>is_task_scope</td><td>None</td></tr></table>"
      ],
      "text/plain": [
       "<IPython.core.display.HTML object>"
      ]
     },
     "execution_count": 26,
     "metadata": {},
     "output_type": "execute_result"
    }
   ],
   "source": [
    "\n",
    "# Prove that the cypher utilities is better at getting a feature dictionary\n",
    "from IPython.display import HTML\n",
    "\n",
    "test_child_strs_list = [\"<oip>Role Is Sold: Yes</oip>\"]\n",
    "test_child_tags_list = cu.get_child_tags_list(test_child_strs_list)\n",
    "test_is_header_list = cu.get_is_header_list(test_child_strs_list)\n",
    "cu_dict = cu.get_feature_dict_list(test_child_tags_list, test_child_strs_list)[0]\n",
    "hc_dict = hc.get_feature_dict_list(test_child_tags_list, test_is_header_list, test_child_strs_list)[0]\n",
    "\n",
    "sorted_cu_dict = dict(sorted(cu_dict.items()))\n",
    "sorted_hc_dict = dict(sorted(hc_dict.items()))\n",
    "\n",
    "rows_list = []\n",
    "for cu_key, hc_key in zip(sorted_cu_dict, sorted_hc_dict):\n",
    "    rows_list.append('<tr><td>' + '</td><td>'.join([cu_key, str(sorted_cu_dict[cu_key]), hc_key, str(sorted_hc_dict[hc_key])]) + '</td></tr>')\n",
    "HTML('<table><tr><th>CU Key</th><th>CU Value</th><th>HC Key</th><th>HC Value</th></tr>' + ''.join(rows_list) + '</table>')"
   ]
  }
 ],
 "metadata": {
  "kernelspec": {
   "display_name": "Job Hunting (Python 3.10.9)",
   "language": "python",
   "name": "jh_env"
  },
  "language_info": {
   "codemirror_mode": {
    "name": "ipython",
    "version": 3
   },
   "file_extension": ".py",
   "mimetype": "text/x-python",
   "name": "python",
   "nbconvert_exporter": "python",
   "pygments_lexer": "ipython3",
   "version": "3.10.9"
  }
 },
 "nbformat": 4,
 "nbformat_minor": 5
}
