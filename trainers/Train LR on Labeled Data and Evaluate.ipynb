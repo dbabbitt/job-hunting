{
 "cells": [
  {
   "cell_type": "code",
   "execution_count": 1,
   "metadata": {},
   "outputs": [
    {
     "name": "stdout",
     "output_type": "stream",
     "text": [
      "Pretty printing has been turned OFF\n"
     ]
    }
   ],
   "source": [
    "\n",
    "%pprint"
   ]
  },
  {
   "cell_type": "markdown",
   "metadata": {},
   "source": [
    "\n",
    "## Let's use our labeled data to train a Logistic Regression model"
   ]
  },
  {
   "cell_type": "code",
   "execution_count": 2,
   "metadata": {},
   "outputs": [
    {
     "name": "stderr",
     "output_type": "stream",
     "text": [
      "C:\\Users\\dev\\Documents\\Repositories\\job-hunting\\jh\\lib\\site-packages\\sklearn\\svm\\_base.py:977: ConvergenceWarning: Liblinear failed to converge, increase the number of iterations.\n",
      "  \"the number of iterations.\", ConvergenceWarning)\n",
      "C:\\Users\\dev\\Documents\\Repositories\\job-hunting\\jh\\lib\\site-packages\\sklearn\\svm\\_base.py:977: ConvergenceWarning: Liblinear failed to converge, increase the number of iterations.\n",
      "  \"the number of iterations.\", ConvergenceWarning)\n",
      "C:\\Users\\dev\\Documents\\Repositories\\job-hunting\\jh\\lib\\site-packages\\sklearn\\svm\\_base.py:977: ConvergenceWarning: Liblinear failed to converge, increase the number of iterations.\n",
      "  \"the number of iterations.\", ConvergenceWarning)\n",
      "C:\\Users\\dev\\Documents\\Repositories\\job-hunting\\jh\\lib\\site-packages\\sklearn\\svm\\_base.py:977: ConvergenceWarning: Liblinear failed to converge, increase the number of iterations.\n",
      "  \"the number of iterations.\", ConvergenceWarning)\n",
      "C:\\Users\\dev\\Documents\\Repositories\\job-hunting\\jh\\lib\\site-packages\\sklearn\\svm\\_base.py:977: ConvergenceWarning: Liblinear failed to converge, increase the number of iterations.\n",
      "  \"the number of iterations.\", ConvergenceWarning)\n",
      "C:\\Users\\dev\\Documents\\Repositories\\job-hunting\\jh\\lib\\site-packages\\sklearn\\svm\\_base.py:977: ConvergenceWarning: Liblinear failed to converge, increase the number of iterations.\n",
      "  \"the number of iterations.\", ConvergenceWarning)\n",
      "C:\\Users\\dev\\Documents\\Repositories\\job-hunting\\jh\\lib\\site-packages\\sklearn\\svm\\_base.py:977: ConvergenceWarning: Liblinear failed to converge, increase the number of iterations.\n",
      "  \"the number of iterations.\", ConvergenceWarning)\n",
      "C:\\Users\\dev\\Documents\\Repositories\\job-hunting\\jh\\lib\\site-packages\\sklearn\\svm\\_base.py:977: ConvergenceWarning: Liblinear failed to converge, increase the number of iterations.\n",
      "  \"the number of iterations.\", ConvergenceWarning)\n",
      "C:\\Users\\dev\\Documents\\Repositories\\job-hunting\\jh\\lib\\site-packages\\sklearn\\svm\\_base.py:977: ConvergenceWarning: Liblinear failed to converge, increase the number of iterations.\n",
      "  \"the number of iterations.\", ConvergenceWarning)\n",
      "C:\\Users\\dev\\Documents\\Repositories\\job-hunting\\jh\\lib\\site-packages\\sklearn\\svm\\_base.py:977: ConvergenceWarning: Liblinear failed to converge, increase the number of iterations.\n",
      "  \"the number of iterations.\", ConvergenceWarning)\n",
      "C:\\Users\\dev\\Documents\\Repositories\\job-hunting\\jh\\lib\\site-packages\\sklearn\\svm\\_base.py:977: ConvergenceWarning: Liblinear failed to converge, increase the number of iterations.\n",
      "  \"the number of iterations.\", ConvergenceWarning)\n"
     ]
    },
    {
     "name": "stdout",
     "output_type": "stream",
     "text": [
      "Wall time: 3min 21s\n"
     ]
    }
   ],
   "source": [
    "\n",
    "%%time\n",
    "%run ../py/html_analysis.py\n",
    "\n",
    "lr = LrUtilities()"
   ]
  },
  {
   "cell_type": "code",
   "execution_count": 3,
   "metadata": {},
   "outputs": [
    {
     "data": {
      "text/plain": [
       "['lr.CV', 'lr.LR_DICT', 'lr.PREDICT_PERCENT_FIT_DICT', 'lr.TT', 'lr.build_lr_predict_percent', 'lr.build_lr_predict_percent_is_header', 'lr.conn', 'lr.cursor', 'lr.ha', 'lr.hc', 'lr.lr_predict_single', 'lr.su']"
      ]
     },
     "execution_count": 3,
     "metadata": {},
     "output_type": "execute_result"
    }
   ],
   "source": [
    "\n",
    "[f'lr.{fn}' for fn in dir(lr) if not fn.startswith('_')]"
   ]
  },
  {
   "cell_type": "code",
   "execution_count": 4,
   "metadata": {},
   "outputs": [
    {
     "data": {
      "text/plain": [
       "'O-RQ'"
      ]
     },
     "execution_count": 4,
     "metadata": {},
     "output_type": "execute_result"
    }
   ],
   "source": [
    "\n",
    "lr.lr_predict_single('<b>SQL experience</b>')"
   ]
  },
  {
   "cell_type": "code",
   "execution_count": 5,
   "metadata": {},
   "outputs": [],
   "source": [
    "\n",
    "import random\n",
    "\n",
    "HEADER_PATTERN_DICT = lr.su.s.load_object('HEADER_PATTERN_DICT')\n",
    "file_name, feature_dict_list = random.sample(HEADER_PATTERN_DICT.items(), 1)[0]"
   ]
  },
  {
   "cell_type": "code",
   "execution_count": 6,
   "metadata": {},
   "outputs": [],
   "source": [
    "\n",
    "%%time\n",
    "lr_pos_list = [lr.lr_predict_single(feature_dict['child_str']) for feature_dict in feature_dict_list]"
   ]
  },
  {
   "cell_type": "code",
   "execution_count": 7,
   "metadata": {},
   "outputs": [],
   "source": [
    "\n",
    "feature_tuple_list = [lr.hc.get_feature_tuple(feature_dict) for feature_dict in feature_dict_list]\n",
    "db_pos_list = [feature_tuple[2] for feature_tuple in feature_tuple_list]"
   ]
  },
  {
   "cell_type": "code",
   "execution_count": 8,
   "metadata": {},
   "outputs": [],
   "source": [
    "\n",
    "child_str_list = [feature_dict['child_str'] for feature_dict in feature_dict_list]"
   ]
  },
  {
   "cell_type": "code",
   "execution_count": 10,
   "metadata": {},
   "outputs": [],
   "source": [
    "\n",
    "sql_str = '''\n",
    "    SELECT\n",
    "        pos.[pos_symbol],\n",
    "        pos.[pos_explanation]\n",
    "    FROM [Jobhunting].[dbo].[PartsOfSpeech] pos;'''\n",
    "pos_df = pd.DataFrame(lr.su.get_execution_results(lr.cursor, sql_str)).set_index('pos_symbol')\n",
    "pos_dict = pos_df['pos_explanation'].to_dict()"
   ]
  },
  {
   "cell_type": "code",
   "execution_count": 12,
   "metadata": {},
   "outputs": [
    {
     "name": "stdout",
     "output_type": "stream",
     "text": [
      "\n",
      "<b>GENERAL SUMMARY</b>: H (?) or  O-RQ (Required Qualifications Non-header)?\n",
      "\n",
      "<p>Chapin Hall is an independent policy research center at the University of Chicago that provides public and private decision-makers with rigorous research and achievable solutions to support them in improving the lives of children, families, and communities. Chapin Hall partners with policymakers, practitioners, and philanthropists at the forefront of research and policy development by applying a unique blend of scientific research, real-world experience, and policy expertise to construct actionable information, practical tools, and, ultimately, positive change for children, youth, and families. Chapin Hall’s unwavering partnership mindset is also demonstrated in its commitment to employees by fostering a collaborative and innovative work environment, at all times, that is committed to reflecting diversity and inclusion in its culture, projects, and workforce. Established in 1985, Chapin Hall's areas of research include child welfare systems, community capacity to support children and families, and youth homelessness. For more information about Chapin Hall, visit www.chapinhall.org or @Chapin_Hall. Take a moment and view this video clip from various staff regarding why they enjoy working at Chapin Hall!</p>: O (?) or  O-TS (Task Scope Non-header)?\n",
      "\n",
      "<p>Chapin Hall at the University of Chicago is seeking a full-time Senior Researcher (applied microeconomist) to contribute methodological and strategic guidance to empirical projects related to early childhood, programs for school-aged youth, family self-sufficiency, and related social policy topics which have an emphasis on ensuring wellbeing and opportunity for disadvantaged communities. The Senior Researcher will provide oversight to the design and implementation of the empirical approach, and will execute and review quantitative data preparation and analysis, which includes the use of advanced statistical and econometrics techniques using R, Python, and/or other appropriate analytic software programs. The individual will also collaborate in the development of proposals that extend current work, and/or represent projects that leverage team experience and resources towards policy impact for disadvantaged youth populations and communities.</p>: O (?) or  O-TS (Task Scope Non-header)?\n",
      "\n",
      "<p>This a full-time position beginning June 2021, however, timing can be sooner or later depending on the selected candidate’s circumstance.</p>: O (?) or  O-LN (Legal Notifications Non-header)?\n",
      "\n",
      "<b>ESSENTIAL FUNCTIONS</b>: H (?) or  O-RQ (Required Qualifications Non-header)?\n",
      "\n",
      "<p>The primary responsibilities of the position are as follows:</p>: H (?) or  H-TS (Task Scope Header)?\n",
      "\n",
      "<p>General:</p>: H (?) or  O-RQ (Required Qualifications Non-header)?\n",
      "\n",
      "<li>Takes a leadership role to the intellectual and scientific development of research studies and data analytics including the development of study design and methods</li>: O (?) or  O-TS (Task Scope Non-header)?\n",
      "\n",
      "<li>Leads—or in cases of advanced methods, conducts-- analyses of quantitative data</li>: O (?) or  O-TS (Task Scope Non-header)?\n",
      "\n",
      "<li>Takes leadership in drafting sections of research reports</li>: O (?) or  O-TS (Task Scope Non-header)?\n",
      "\n",
      "<li>Translates research and analytic findings into actionable evidence and implications for policy and programs</li>: O-TS (Task Scope Non-header) or  O-TS (Task Scope Non-header)?\n",
      "\n",
      "<li>Develops and delivers presentations of findings to diverse audiences</li>: O (?) or  O-LN (Legal Notifications Non-header)?\n",
      "\n",
      "<li>Represents Chapin Hall and its research agenda and establishes important stakeholder relationships, especially with partner agencies</li>: O (?) or  O-TS (Task Scope Non-header)?\n",
      "\n",
      "<p>Specific:</p>: H (?) or  O-RQ (Required Qualifications Non-header)?\n",
      "\n",
      "<li>Plays a key role in designing and implementing quantitative program evaluation research using quasi-experimental designs</li>: O (?) or  O-TS (Task Scope Non-header)?\n",
      "\n",
      "<li>Performs advanced modeling and complex statistical analyses of data using R, Python, and/or other appropriate analytic software programs</li>: O (?) or  O-TS (Task Scope Non-header)?\n",
      "\n",
      "<li>Leads analytic and econometric decision-making</li>: O (?) or  O-TS (Task Scope Non-header)?\n",
      "\n",
      "<li>Independently converts, merges, assembles, and prepares large-scale data for analysis.</li>: O (?) or  O-RQ (Required Qualifications Non-header)?\n",
      "\n",
      "<li>Conduct analytic work following coding best practices including proper documentation, code review, and version control using GitLab</li>: O (?) or  O-CS (Corporate Scope Non-header)?\n",
      "\n",
      "<li>Independently prepares sections of research reports and participates in dissemination activities sharing best practices and building capacity to analyze administrative data</li>: O-TS (Task Scope Non-header) or  O-TS (Task Scope Non-header)?\n",
      "\n",
      "<li>Assists with and/or leads Institutional Review Board submissions</li>: O (?) or  O-LN (Legal Notifications Non-header)?\n",
      "\n",
      "<li>In collaboration with other Chapin Hall senior research staff, takes leadership in developing new, quantitatively rigorous analysis in projects designed to impact youth service systems and/or policy-making</li>: O (?) or  O-TS (Task Scope Non-header)?\n",
      "\n",
      "<li>Conducts all work duties remotely, along with Chapin Hall employees, until spring 2021; thereafter, new hire may transition to a building workspace located at 1313 East 60th St., Chicago, IL or, if outside the Chicago, IL area, remain remote.</li>: O (?) or  O-IP (Interview Procedures Non-header)?\n",
      "\n",
      "<li>Performs additional duties as assigned</li>: O-TS (Task Scope Non-header) or  O-TS (Task Scope Non-header)?\n",
      "\n",
      "<b>QUALIFICATIONS</b>: H-RQ (Required Qualifications Header) or  O-RQ (Required Qualifications Non-header)?\n",
      "\n",
      "<b>Education</b>: H-ER (Education Requirements Header) or  O-RQ (Required Qualifications Non-header)?\n",
      "\n",
      "<p>Ph.D. in economics, public policy, sociology, or other relevant field; 2-5 years of experience with administrative data</p>: O (?) or  O-RQ (Required Qualifications Non-header)?\n",
      "\n",
      "<i>Experience and Other Qualifications</i>: H (?) or  O-RQ (Required Qualifications Non-header)?\n",
      "\n",
      "<li>Demonstrated knowledge of quantitative research methods and econometric techniques</li>: O (?) or  O-TS (Task Scope Non-header)?\n",
      "\n",
      "<li>Demonstrated proficiency with statistical software such as R and Python</li>: O (?) or  O-RQ (Required Qualifications Non-header)?\n",
      "\n",
      "<li>Experience with large databases; particularly large-scale administrative data</li>: O (?) or  O-RQ (Required Qualifications Non-header)?\n",
      "\n",
      "<li>Demonstrated judgment and discretion in the handling of sensitive information</li>: O (?) or  O-TS (Task Scope Non-header)?\n",
      "\n",
      "<li>Strong attention to detail with good organization skills required</li>: O (?) or  O-RQ (Required Qualifications Non-header)?\n",
      "\n",
      "<li>Ability to work independently with a high degree of initiative required</li>: O (?) or  O-RQ (Required Qualifications Non-header)?\n",
      "\n",
      "<li>Ability to work in a collaborative research environment required</li>: O (?) or  O-TS (Task Scope Non-header)?\n",
      "\n",
      "<li>Ability to manage multiple, concurrent tasks required</li>: O (?) or  O-RQ (Required Qualifications Non-header)?\n",
      "\n",
      "<li>Problem-solving skills required</li>: O-RQ (Required Qualifications Non-header) or  O-RQ (Required Qualifications Non-header)?\n",
      "\n",
      "<li>Strong interpersonal skills, with the ability to effectively communicate with team members and work in a collaborative research environment</li>: O (?) or  O-TS (Task Scope Non-header)?\n",
      "\n",
      "<li>Strong written communication skills required</li>: O (?) or  O-RQ (Required Qualifications Non-header)?\n",
      "\n",
      "<li>Interest in early childhood policy, youth policy, or family self-sufficiency policy</li>: O (?) or  O-LN (Legal Notifications Non-header)?\n",
      "\n",
      "<b>MINIMUM PHYSICAL REQUIREMENTS</b>: H (?) or  O-RQ (Required Qualifications Non-header)?\n",
      "\n",
      "<p>Chapin Hall is committed to ensuring the health and safety of our staff. We continue to monitor the COVID-19 situation closely and follow U.S. Centers for Disease Control and Prevention guidance. During this time travel is temporarily suspended.</p>: O (?) or  O-TS (Task Scope Non-header)?\n",
      "\n",
      "<p>The physical demands described here are representative of those that must be met by an employee to successfully perform the essential functions of this job. Reasonable accommodations may be made to enable individuals with disabilities to perform the essential functions.</p>: O (?) or  O-CS (Corporate Scope Non-header)?\n",
      "\n",
      "<p>Must be able to remain in a stationary position for extended periods of time.</p>: O (?) or  O-RQ (Required Qualifications Non-header)?\n",
      "\n",
      "<p>Must be able to operate a computer extensively for four (4) or more hours per day.</p>: O (?) or  O-OL (Office Location Non-header)?\n",
      "\n",
      "<p>__________________________________________________________________________________________</p>: O (?) or  O-RQ (Required Qualifications Non-header)?\n",
      "\n",
      "<p>Pre-employment background checks are required for all Chapin Hall at the University of Chicago positions.</p>: O (?) or  O-LN (Legal Notifications Non-header)?\n",
      "\n",
      "<p>To express interest in this opening, please visit https://csschcc.sentrichr.com.</p>: O (?) or  O-TS (Task Scope Non-header)?\n",
      "\n",
      "<b>Formal expressions of interest are accepted online only. A cover letter, resume, writing sample, and reference contact information are required to be considered for this position.</b>: O (?) or  O-TS (Task Scope Non-header)?\n",
      "\n",
      "<p>Individuals in need of reasonable accommodations to complete the application process should contact Human Resources by calling (773) 256-5157.</p>: O (?) or  O-CS (Corporate Scope Non-header)?\n",
      "\n",
      "<b>Chapin Hall at the University of Chicago is an Affirmative Action, Equal Opportunity Employer that values and actively seeks diversity in its workforce. All qualified applicants will receive consideration for employment without regard to race, color, creed, religion, age, sex, genetic information, marital status, sexual orientation, gender identity or expression, citizenship, pregnancy or maternity, national origin, status as an individual with disability, ancestry, protected veteran status, or any other status protected by applicable federal, state or local law.</b>: O (?) or  O-LN (Legal Notifications Non-header)?\n",
      "\n",
      "<p>Job Type: Full-time</p>: O (?) or  O-LN (Legal Notifications Non-header)?\n",
      "\n",
      "<p>Benefits:</p>: H-SP (Supplemental Pay Header) or  O-SP (Supplemental Pay Non-header)?\n",
      "\n",
      "<li>401(k)</li>: O-SP (Supplemental Pay Non-header) or  O-SP (Supplemental Pay Non-header)?\n",
      "\n",
      "<li>401(k) Matching</li>: O (?) or  O-SP (Supplemental Pay Non-header)?\n",
      "\n",
      "<li>Dental Insurance</li>: O (?) or  O-RQ (Required Qualifications Non-header)?\n",
      "\n",
      "<li>Employee Assistance Program</li>: O (?) or  O-SP (Supplemental Pay Non-header)?\n",
      "\n",
      "<li>Flexible Schedule</li>: O (?) or  O-RQ (Required Qualifications Non-header)?\n",
      "\n",
      "<li>Health Insurance</li>: O (?) or  O-RQ (Required Qualifications Non-header)?\n",
      "\n",
      "<li>Life Insurance</li>: O (?) or  O-RQ (Required Qualifications Non-header)?\n",
      "\n",
      "<li>Paid Time Off</li>: O (?) or  H-TS (Task Scope Header)?\n",
      "\n",
      "<li>Professional Development Assistance</li>: O (?) or  O-TS (Task Scope Non-header)?\n",
      "\n",
      "<li>Vision Insurance</li>: O (?) or  O-RQ (Required Qualifications Non-header)?\n",
      "\n",
      "<p>Schedule:</p>: H-JD (Job Duration Header) or  O-RQ (Required Qualifications Non-header)?\n",
      "\n",
      "<li>Monday to Friday</li>: O-OL (Office Location Non-header) or  O-TS (Task Scope Non-header)?\n",
      "\n",
      "COVID-19 considerations:: H-OL (Office Location Header) or  H-OL (Office Location Header)?\n",
      "\n",
      "Chapin Hall is committed to ensuring the health and safety of our staff. We continue to monitor the COVID-19 situation closely and follow U.S. Centers for Disease Control and Prevention guidance. During this time travel is temporarily suspended.: O (?) or  O-TS (Task Scope Non-header)?\n",
      "\n",
      "<p>Education:</p>: H-ER (Education Requirements Header) or  O-RQ (Required Qualifications Non-header)?\n",
      "\n",
      "<li>Doctorate (Required)</li>: O-RQ (Required Qualifications Non-header) or  O-RQ (Required Qualifications Non-header)?\n",
      "\n",
      "<p>This Company Describes Its Culture as:</p>: H-CS (Corporate Scope Header) or  O-TS (Task Scope Non-header)?\n",
      "\n",
      "<li>Detail-oriented -- quality and precision-focused</li>: O (?) or  O-RQ (Required Qualifications Non-header)?\n",
      "\n",
      "<li>Innovative -- innovative and risk-taking</li>: O (?) or  O-TS (Task Scope Non-header)?\n",
      "\n",
      "<li>Outcome-oriented -- results-focused with strong performance culture</li>: O (?) or  O-TS (Task Scope Non-header)?\n",
      "\n",
      "<li>Stable -- traditional, stable, strong processes</li>: O (?) or  O-RQ (Required Qualifications Non-header)?\n",
      "\n",
      "<li>People-oriented -- supportive and fairness-focused</li>: O (?) or  O-TS (Task Scope Non-header)?\n",
      "\n",
      "<li>Team-oriented -- cooperative and collaborative</li>: O (?) or  O-TS (Task Scope Non-header)?\n",
      "\n",
      "<p>Company's website:</p>: H-CS (Corporate Scope Header) or  O-RQ (Required Qualifications Non-header)?\n",
      "\n",
      "<li>https://www.chapinhall.org/</li>: O (?) or  O-RQ (Required Qualifications Non-header)?\n",
      "\n",
      "<p>Work Remotely:</p>: H-OL (Office Location Header) or  O-CS (Corporate Scope Non-header)?\n",
      "\n",
      "<li>Yes, temporarily due to COVID-19</li>: O (?) or  O-TS (Task Scope Non-header)?\n"
     ]
    }
   ],
   "source": [
    "\n",
    "for child_str, db_pos, lr_pos in zip(child_str_list, db_pos_list, lr_pos_list):\n",
    "    print()\n",
    "    print(f'{child_str}: {db_pos} ({pos_dict.get(db_pos, \"?\")}) or  {lr_pos} ({pos_dict.get(lr_pos, \"?\")})?')"
   ]
  },
  {
   "cell_type": "code",
   "execution_count": null,
   "metadata": {},
   "outputs": [],
   "source": []
  }
 ],
 "metadata": {
  "kernelspec": {
   "display_name": "Python 3",
   "language": "python",
   "name": "python3"
  },
  "language_info": {
   "codemirror_mode": {
    "name": "ipython",
    "version": 3
   },
   "file_extension": ".py",
   "mimetype": "text/x-python",
   "name": "python",
   "nbconvert_exporter": "python",
   "pygments_lexer": "ipython3",
   "version": "3.8.8"
  }
 },
 "nbformat": 4,
 "nbformat_minor": 4
}
