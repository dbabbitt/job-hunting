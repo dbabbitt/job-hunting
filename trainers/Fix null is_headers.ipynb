{
 "cells": [
  {
   "cell_type": "code",
   "execution_count": 1,
   "id": "7675b025-b593-4d53-9759-6c1e01772c22",
   "metadata": {},
   "outputs": [
    {
     "name": "stdout",
     "output_type": "stream",
     "text": [
      "Pretty printing has been turned OFF\n"
     ]
    }
   ],
   "source": [
    "\n",
    "%pprint"
   ]
  },
  {
   "cell_type": "code",
   "execution_count": 2,
   "id": "e8e9a76f-08eb-4a9c-9c53-4bf043e26661",
   "metadata": {},
   "outputs": [],
   "source": [
    "\n",
    "import sys\n",
    "\n",
    "# Insert at 1, 0 is the script path (or '' in REPL)\n",
    "sys.path.insert(1, '../py')"
   ]
  },
  {
   "cell_type": "code",
   "execution_count": 3,
   "id": "ee342571-b35a-4688-850c-8aad13befcb3",
   "metadata": {},
   "outputs": [],
   "source": [
    "\n",
    "# Get the Neo4j driver\n",
    "from storage import Storage\n",
    "s = Storage()\n",
    "\n",
    "from ha_utils import HeaderAnalysis\n",
    "ha = HeaderAnalysis(s=s, verbose=False)\n",
    "\n",
    "from scrape_utils import WebScrapingUtilities\n",
    "wsu = WebScrapingUtilities(s=s)\n",
    "uri = wsu.secrets_json['neo4j']['connect_url']\n",
    "user =  wsu.secrets_json['neo4j']['username']\n",
    "password = wsu.secrets_json['neo4j']['password']\n",
    "\n",
    "from cypher_utils import CypherUtilities\n",
    "cu = CypherUtilities(uri=uri, user=user, password=password, driver=None, s=s, ha=ha)"
   ]
  },
  {
   "cell_type": "code",
   "execution_count": 4,
   "id": "9d7dd43f-2080-40e0-84a3-f9a7fdd934dd",
   "metadata": {},
   "outputs": [
    {
     "name": "stdout",
     "output_type": "stream",
     "text": [
      "======== Neo4j/4.4.7 ========\n"
     ]
    }
   ],
   "source": [
    "\n",
    "from neo4j.exceptions import ServiceUnavailable\n",
    "\n",
    "try:\n",
    "    version_str = cu.driver.verify_connectivity()\n",
    "    print(f'======== {version_str} ========')\n",
    "    \n",
    "    from hc_utils import HeaderCategories\n",
    "    hc = HeaderCategories(cu=cu, verbose=False)\n",
    "    \n",
    "    from section_utils import SectionUtilities\n",
    "    su = SectionUtilities(s=s, ha=ha, cu=cu, verbose=False)\n",
    "    \n",
    "    from lr_utils import LrUtilities\n",
    "    lru = LrUtilities(ha=ha, cu=cu, hc=hc, verbose=False)\n",
    "    \n",
    "    from crf_utils import CrfUtilities\n",
    "    crf = CrfUtilities(ha=ha, hc=hc, cu=cu, verbose=False)\n",
    "    \n",
    "    import warnings\n",
    "    warnings.filterwarnings('ignore')\n",
    "except ServiceUnavailable as e:\n",
    "    # print(str(e).strip())\n",
    "    raise ServiceUnavailable('You need to start Neo4j as a console')\n",
    "except Exception as e:\n",
    "    print(e.__class__)"
   ]
  },
  {
   "cell_type": "code",
   "execution_count": 5,
   "id": "7c2c759f-11f4-4bf8-bc61-35c4b4d1c31b",
   "metadata": {},
   "outputs": [
    {
     "name": "stdout",
     "output_type": "stream",
     "text": [
      "Last run on 2022-12-07 12:52:00.094285\n"
     ]
    }
   ],
   "source": [
    "\n",
    "import time\n",
    "import humanize\n",
    "from pandas import DataFrame\n",
    "import os\n",
    "from datetime import datetime\n",
    "import winsound\n",
    "\n",
    "duration = 1000  # milliseconds\n",
    "freq = 440  # Hz\n",
    "print(f'Last run on {datetime.now()}')"
   ]
  },
  {
   "cell_type": "markdown",
   "id": "44aa55a0-44ce-4231-b349-97061fdc8798",
   "metadata": {},
   "source": [
    "\n",
    "----"
   ]
  },
  {
   "cell_type": "code",
   "execution_count": 6,
   "id": "51e3644d-7c49-46d0-9af8-e559dff89a19",
   "metadata": {},
   "outputs": [
    {
     "name": "stdout",
     "output_type": "stream",
     "text": [
      "Is-header classifier retrained in 9 seconds\n"
     ]
    }
   ],
   "source": [
    "\n",
    "t0 = time.time()\n",
    "lru.build_isheader_logistic_regression_elements(verbose=False)\n",
    "lru.retrain_isheader_classifier(verbose=False)\n",
    "duration_str = humanize.precisedelta(time.time() - t0, minimum_unit='seconds', format='%0.0f')\n",
    "winsound.Beep(freq, duration)\n",
    "print(f'Is-header classifier retrained in {duration_str}')"
   ]
  },
  {
   "cell_type": "markdown",
   "id": "a4a2f3ec-44ee-4be3-b13e-02badca41da4",
   "metadata": {},
   "source": [
    "\n",
    "----"
   ]
  },
  {
   "cell_type": "code",
   "execution_count": 11,
   "id": "82dab229-b28c-4ddd-812d-6abf153aae3b",
   "metadata": {},
   "outputs": [
    {
     "name": "stdout",
     "output_type": "stream",
     "text": [
      "Only 0 more un-predicted navigable parents to go!\n"
     ]
    }
   ],
   "source": [
    "\n",
    "cypher_str = f'''\n",
    "    MATCH (np:NavigableParents)\n",
    "    WHERE np.is_header IS NULL\n",
    "    RETURN\n",
    "        np.navigable_parent AS navigable_parent;'''\n",
    "row_objs_list = []\n",
    "with cu.driver.session() as session:\n",
    "    row_objs_list = session.write_transaction(cu.do_cypher_tx, cypher_str)\n",
    "navigable_parents_list = []\n",
    "if row_objs_list:\n",
    "    navigable_parents_list = DataFrame(row_objs_list).navigable_parent.tolist()\n",
    "print(f'Only {len(navigable_parents_list):,} more un-predicted navigable parents to go!')"
   ]
  },
  {
   "cell_type": "code",
   "execution_count": 12,
   "id": "99fcd0c5-e0ac-431d-bacd-b22a7b5ed4d5",
   "metadata": {},
   "outputs": [],
   "source": [
    "\n",
    "for child_str in navigable_parents_list:\n",
    "    probs_list = lru.ISHEADER_PREDICT_PERCENT_FIT(child_str)\n",
    "    idx = probs_list.index(max(probs_list))\n",
    "    is_header = [True, False][idx]\n",
    "    cypher_str = f'''\n",
    "        MERGE (np:NavigableParents {{navigable_parent: \"{cu.escape_text(child_str)}\"}})\n",
    "        SET np.is_header = '{is_header}';'''\n",
    "    # print(cypher_str)\n",
    "    try:\n",
    "        with cu.driver.session() as session:\n",
    "            session.write_transaction(cu.do_cypher_tx, cypher_str)\n",
    "    except Exception as e:\n",
    "        print(f'{e.__class__} error: {str(e).strip()}')\n",
    "        print(cypher_str)\n",
    "        break"
   ]
  },
  {
   "cell_type": "code",
   "execution_count": 38,
   "id": "be1f3071-abf6-45e2-9b54-d87aac959e22",
   "metadata": {},
   "outputs": [],
   "source": [
    "\n",
    "import numpy as np\n",
    "\n",
    "cypher_str = f'''\n",
    "    MATCH (np:NavigableParents)\n",
    "    RETURN\n",
    "        np.is_header AS is_header,\n",
    "        np.navigable_parent AS navigable_parent;'''\n",
    "row_objs_list = []\n",
    "with cu.driver.session() as session:\n",
    "    row_objs_list = session.write_transaction(cu.do_cypher_tx, cypher_str)\n",
    "isheaders_df = DataFrame(row_objs_list)\n",
    "isheaders_df['predicted_is_header'] = np.nan\n",
    "for row_index, row_series in isheaders_df.iterrows():\n",
    "    actual_is_header = bool(row_series.is_header)\n",
    "    child_str = str(row_series.navigable_parent)\n",
    "    probs_list = lru.ISHEADER_PREDICT_PERCENT_FIT(child_str)\n",
    "    idx = probs_list.index(max(probs_list))\n",
    "    predicted_is_header = [True, False][idx]\n",
    "    isheaders_df.loc[row_index, 'predicted_is_header'] = predicted_is_header"
   ]
  },
  {
   "cell_type": "code",
   "execution_count": 39,
   "id": "ef123268-99a0-44af-bad0-7e30f44cefd8",
   "metadata": {},
   "outputs": [
    {
     "data": {
      "text/html": [
       "<div>\n",
       "<style scoped>\n",
       "    .dataframe tbody tr th:only-of-type {\n",
       "        vertical-align: middle;\n",
       "    }\n",
       "\n",
       "    .dataframe tbody tr th {\n",
       "        vertical-align: top;\n",
       "    }\n",
       "\n",
       "    .dataframe thead th {\n",
       "        text-align: right;\n",
       "    }\n",
       "</style>\n",
       "<table border=\"1\" class=\"dataframe\">\n",
       "  <thead>\n",
       "    <tr style=\"text-align: right;\">\n",
       "      <th></th>\n",
       "      <th>is_header</th>\n",
       "      <th>navigable_parent</th>\n",
       "      <th>predicted_is_header</th>\n",
       "    </tr>\n",
       "  </thead>\n",
       "  <tbody>\n",
       "    <tr>\n",
       "      <th>0</th>\n",
       "      <td>True</td>\n",
       "      <td>&lt;b&gt;Key Qualifications:&lt;/b&gt;</td>\n",
       "      <td>False</td>\n",
       "    </tr>\n",
       "    <tr>\n",
       "      <th>3</th>\n",
       "      <td>True</td>\n",
       "      <td>•    Conduct ad hoc reporting with insightful ...</td>\n",
       "      <td>False</td>\n",
       "    </tr>\n",
       "    <tr>\n",
       "      <th>10</th>\n",
       "      <td>True</td>\n",
       "      <td>&lt;b&gt;Education/Experience&lt;/b&gt;</td>\n",
       "      <td>False</td>\n",
       "    </tr>\n",
       "    <tr>\n",
       "      <th>16</th>\n",
       "      <td>True</td>\n",
       "      <td>•    Knowledge of process automation with a sc...</td>\n",
       "      <td>False</td>\n",
       "    </tr>\n",
       "    <tr>\n",
       "      <th>18</th>\n",
       "      <td>True</td>\n",
       "      <td>•    Familiar with various instrumentation map...</td>\n",
       "      <td>False</td>\n",
       "    </tr>\n",
       "    <tr>\n",
       "      <th>...</th>\n",
       "      <td>...</td>\n",
       "      <td>...</td>\n",
       "      <td>...</td>\n",
       "    </tr>\n",
       "    <tr>\n",
       "      <th>41508</th>\n",
       "      <td>True</td>\n",
       "      <td>&lt;li&gt;Automotive industry experience&lt;/li&gt;</td>\n",
       "      <td>False</td>\n",
       "    </tr>\n",
       "    <tr>\n",
       "      <th>41509</th>\n",
       "      <td>True</td>\n",
       "      <td>&lt;li&gt;Experience in testing Android applications...</td>\n",
       "      <td>False</td>\n",
       "    </tr>\n",
       "    <tr>\n",
       "      <th>41510</th>\n",
       "      <td>True</td>\n",
       "      <td>&lt;li&gt;Familiarity with Cucumber and Gherkin is a...</td>\n",
       "      <td>False</td>\n",
       "    </tr>\n",
       "    <tr>\n",
       "      <th>41513</th>\n",
       "      <td>True</td>\n",
       "      <td>Company covers 100% of premiums for Life Insur...</td>\n",
       "      <td>False</td>\n",
       "    </tr>\n",
       "    <tr>\n",
       "      <th>41516</th>\n",
       "      <td>True</td>\n",
       "      <td>401(k) with employer match</td>\n",
       "      <td>False</td>\n",
       "    </tr>\n",
       "  </tbody>\n",
       "</table>\n",
       "<p>16172 rows × 3 columns</p>\n",
       "</div>"
      ],
      "text/plain": [
       "       is_header                                   navigable_parent  \\\n",
       "0           True                         <b>Key Qualifications:</b>   \n",
       "3           True  •    Conduct ad hoc reporting with insightful ...   \n",
       "10          True                        <b>Education/Experience</b>   \n",
       "16          True  •    Knowledge of process automation with a sc...   \n",
       "18          True  •    Familiar with various instrumentation map...   \n",
       "...          ...                                                ...   \n",
       "41508       True            <li>Automotive industry experience</li>   \n",
       "41509       True  <li>Experience in testing Android applications...   \n",
       "41510       True  <li>Familiarity with Cucumber and Gherkin is a...   \n",
       "41513       True  Company covers 100% of premiums for Life Insur...   \n",
       "41516       True                         401(k) with employer match   \n",
       "\n",
       "       predicted_is_header  \n",
       "0                    False  \n",
       "3                    False  \n",
       "10                   False  \n",
       "16                   False  \n",
       "18                   False  \n",
       "...                    ...  \n",
       "41508                False  \n",
       "41509                False  \n",
       "41510                False  \n",
       "41513                False  \n",
       "41516                False  \n",
       "\n",
       "[16172 rows x 3 columns]"
      ]
     },
     "execution_count": 39,
     "metadata": {},
     "output_type": "execute_result"
    }
   ],
   "source": [
    "\n",
    "isheaders_df.is_header = isheaders_df.is_header.map(lambda x: bool(x))\n",
    "isheaders_df.predicted_is_header = isheaders_df.predicted_is_header.map(lambda x: bool(x))\n",
    "mask_series = (isheaders_df.is_header ^ isheaders_df.predicted_is_header)\n",
    "isheaders_df[mask_series]"
   ]
  },
  {
   "cell_type": "code",
   "execution_count": 136,
   "id": "119a0a39-901a-4f82-b016-69ed362d9f75",
   "metadata": {
    "tags": []
   },
   "outputs": [],
   "source": [
    "\n",
    "# Define the is header business logic for the interactive widget app\n",
    "def get_isheader(**kwargs):\n",
    "    # {'index': '18617', 'html_widget': 'COVID-19 considerations:', 'toggle_button': True}\n",
    "    idx = int(kwargs['index'])\n",
    "    child_str = str(kwargs['html_widget'])\n",
    "    is_header = bool(kwargs['toggle_button'])\n",
    "    mask_series = (isheaders_df.index == idx)\n",
    "    isheaders_df.loc[mask_series, 'is_header'] = is_header\n",
    "    isheaders_df.loc[mask_series, 'predicted_is_header'] = is_header\n",
    "    cypher_str = f'''\n",
    "        MERGE (np:NavigableParents {{navigable_parent: \"{cu.escape_text(child_str)}\"}})\n",
    "        SET np.is_header = '{is_header}';'''\n",
    "    try:\n",
    "        with cu.driver.session() as session:\n",
    "            session.write_transaction(cu.do_cypher_tx, cypher_str)\n",
    "    except Exception as e:\n",
    "        print(f'{e.__class__} error: {str(e).strip()}')\n",
    "        print(cypher_str)\n",
    "        raise\n",
    "    \n",
    "    mask_series = (isheaders_df.is_header ^ isheaders_df.predicted_is_header)\n",
    "    display(isheaders_df[mask_series].shape[0], kwargs)\n",
    "    if isheaders_df[mask_series].shape[0]:\n",
    "        row_df = isheaders_df[mask_series].sample(1)\n",
    "        is_header = bool(row_df.is_header.squeeze())\n",
    "        navigable_parent = str(row_df.navigable_parent.squeeze())\n",
    "        predicted_is_header = bool(row_df.predicted_is_header.squeeze())\n",
    "        row_index = row_df.index.max()\n",
    "    else:\n",
    "        is_header = True\n",
    "        navigable_parent = 'Finished'\n",
    "        predicted_is_header = True\n",
    "        row_index = -1\n",
    "    for i, widget in enumerate(ip.children):\n",
    "        if type(widget) == ipywidgets.widgets.widget_string.HTML:\n",
    "            html_widget = ip.children[i]\n",
    "            html_widget.value = str(navigable_parent)\n",
    "        elif type(widget) == ipywidgets.widgets.widget_string.Label:\n",
    "            hidden_label = ip.children[i]\n",
    "            hidden_label.value = str(row_index)"
   ]
  },
  {
   "cell_type": "code",
   "execution_count": 137,
   "id": "0c6ae8bb-dc99-4bcb-b96e-d675436670cd",
   "metadata": {
    "tags": []
   },
   "outputs": [],
   "source": [
    "\n",
    "# Prep the widget app for first use\n",
    "mask_series = (isheaders_df.is_header ^ isheaders_df.predicted_is_header)\n",
    "if isheaders_df[mask_series].shape[0]:\n",
    "    row_df = isheaders_df[mask_series].sample(1)\n",
    "    is_header = bool(row_df.is_header.squeeze())\n",
    "    navigable_parent = str(row_df.navigable_parent.squeeze())\n",
    "    predicted_is_header = bool(row_df.predicted_is_header.squeeze())\n",
    "    row_index = row_df.index.max()\n",
    "else:\n",
    "    is_header = True\n",
    "    navigable_parent = 'Finished'\n",
    "    predicted_is_header = True\n",
    "    row_index = -1"
   ]
  },
  {
   "cell_type": "code",
   "execution_count": 138,
   "id": "2355e2e9-d224-434f-a65c-97831ddc7ef4",
   "metadata": {
    "tags": []
   },
   "outputs": [],
   "source": [
    "\n",
    "# Prep the widgets themselves for first use\n",
    "import ipywidgets\n",
    "from ipywidgets import HTML, ToggleButtons, Label, Layout, interactive\n",
    "from IPython.display import display\n",
    "\n",
    "kwargs = {}\n",
    "kwargs['index'] = Label(value=str(row_index), layout=Layout(visibility='hidden'))\n",
    "kwargs['html_widget'] = HTML(\n",
    "    value=str(navigable_parent),\n",
    "    description=''\n",
    "    )\n",
    "kwargs['toggle_button'] = ToggleButtons(\n",
    "    options=[True, False],\n",
    "    disabled=False,\n",
    "    button_style='',\n",
    "    description=''\n",
    "    )\n",
    "ip = interactive(get_isheader, {'manual': True}, **kwargs)\n",
    "for i, widget in enumerate(ip.children):\n",
    "    if type(widget) == ipywidgets.widgets.widget_string.HTML:\n",
    "        html_widget = ip.children[i]\n",
    "    elif type(widget) == ipywidgets.widgets.widget_string.Label:\n",
    "        hidden_label = ip.children[i]\n",
    "    elif type(widget) == ipywidgets.widgets.ToggleButtons:\n",
    "        toggle_button = ip.children[i]\n",
    "    elif type(widget) == ipywidgets.widgets.widget_button.Button:\n",
    "        submit_button = ip.children[i]\n",
    "        submit_button.description = 'Submit'\n",
    "    elif type(widget) == ipywidgets.widgets.widget_output.Output:\n",
    "        output_widget = ip.children[i]"
   ]
  },
  {
   "cell_type": "code",
   "execution_count": 149,
   "id": "162ed8be-cc24-4ce6-98fe-5bba8967f5ae",
   "metadata": {},
   "outputs": [
    {
     "data": {
      "application/vnd.jupyter.widget-view+json": {
       "model_id": "c0d7407d292945578f1c31e71eb8ad46",
       "version_major": 2,
       "version_minor": 0
      },
      "text/plain": [
       "VBox(children=(HBox(children=(ToggleButtons(description='toggle_button', index=1, options=(True, False), value…"
      ]
     },
     "metadata": {},
     "output_type": "display_data"
    }
   ],
   "source": [
    "\n",
    "# Display the app\n",
    "from ipywidgets import VBox, HBox\n",
    "\n",
    "display(VBox([HBox([toggle_button, submit_button]), html_widget, output_widget]))"
   ]
  },
  {
   "cell_type": "code",
   "execution_count": 175,
   "id": "816f921d-817c-47ba-a163-a4dcb25c00a1",
   "metadata": {},
   "outputs": [],
   "source": [
    "\n",
    "import re\n",
    "\n",
    "html_regex = re.compile('<[^<]+?>')\n",
    "mask_series = isheaders_df.navigable_parent.map(lambda x: html_regex.sub('', str(x)).endswith(':'))\n",
    "isheaders_df.loc[mask_series, 'is_header'] = True\n",
    "isheaders_df.loc[mask_series, 'predicted_is_header'] = True"
   ]
  },
  {
   "cell_type": "code",
   "execution_count": 171,
   "id": "73a870bd-d2c1-465e-8404-14c827750a52",
   "metadata": {},
   "outputs": [],
   "source": [
    "\n",
    "mask_series = isheaders_df.navigable_parent.map(lambda x: (str(x).startswith('<div>') and str(x).endswith(':</div>')))\n",
    "isheaders_df.loc[mask_series, 'is_header'] = True\n",
    "isheaders_df.loc[mask_series, 'predicted_is_header'] = True"
   ]
  },
  {
   "cell_type": "code",
   "execution_count": null,
   "id": "090252b3-848f-4d66-bda7-1596f8b8586c",
   "metadata": {},
   "outputs": [],
   "source": [
    "\n",
    "mask_series = isheaders_df.navigable_parent.map(lambda x: (str(x).startswith('<b>') and str(x).endswith('</b>') and (str(x).upper() == str(x))))\n",
    "isheaders_df.loc[mask_series, 'is_header'] = True\n",
    "isheaders_df.loc[mask_series, 'predicted_is_header'] = True"
   ]
  },
  {
   "cell_type": "code",
   "execution_count": 164,
   "id": "6afef2c8-7dbd-46fa-b9ed-a13eaf0185f3",
   "metadata": {},
   "outputs": [],
   "source": [
    "\n",
    "import re\n",
    "\n",
    "html_regex = re.compile('<[^<]+?>')\n",
    "mask_series = isheaders_df.navigable_parent.map(lambda x: (':' in html_regex.sub('', str(x))) and not html_regex.sub('', str(x)).endswith(':'))\n",
    "isheaders_df.loc[mask_series, 'is_header'] = False\n",
    "isheaders_df.loc[mask_series, 'predicted_is_header'] = False"
   ]
  },
  {
   "cell_type": "code",
   "execution_count": 176,
   "id": "350b8420-3ccd-47c8-b0bf-9d578e140aad",
   "metadata": {},
   "outputs": [],
   "source": [
    "\n",
    "for row_index, row_series in isheaders_df.iterrows():\n",
    "    actual_is_header = bool(row_series.is_header)\n",
    "    child_str = str(row_series.navigable_parent)\n",
    "    cypher_str = f'''\n",
    "        MERGE (np:NavigableParents {{navigable_parent: \"{cu.escape_text(child_str)}\"}})\n",
    "        SET np.is_header = '{actual_is_header}';'''\n",
    "    try:\n",
    "        with cu.driver.session() as session:\n",
    "            session.write_transaction(cu.do_cypher_tx, cypher_str)\n",
    "    except Exception as e:\n",
    "        print(f'{e.__class__} error: {str(e).strip()}')\n",
    "        print(cypher_str)\n",
    "        raise"
   ]
  },
  {
   "cell_type": "code",
   "execution_count": null,
   "id": "ae565bd7-1e7c-405e-b8a0-8afd1827699e",
   "metadata": {},
   "outputs": [],
   "source": []
  }
 ],
 "metadata": {
  "kernelspec": {
   "display_name": "Python 3 (ipykernel)",
   "language": "python",
   "name": "python3"
  },
  "language_info": {
   "codemirror_mode": {
    "name": "ipython",
    "version": 3
   },
   "file_extension": ".py",
   "mimetype": "text/x-python",
   "name": "python",
   "nbconvert_exporter": "python",
   "pygments_lexer": "ipython3",
   "version": "3.9.7"
  }
 },
 "nbformat": 4,
 "nbformat_minor": 5
}
