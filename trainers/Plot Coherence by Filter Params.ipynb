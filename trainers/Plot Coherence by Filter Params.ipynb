{
 "cells": [
  {
   "cell_type": "code",
   "execution_count": 1,
   "metadata": {},
   "outputs": [
    {
     "name": "stdout",
     "output_type": "stream",
     "text": [
      "Pretty printing has been turned OFF\n"
     ]
    }
   ],
   "source": [
    "\n",
    "%pprint"
   ]
  },
  {
   "cell_type": "markdown",
   "metadata": {},
   "source": [
    "\n",
    "## Plot Coherence by Number of Topics"
   ]
  },
  {
   "cell_type": "code",
   "execution_count": 2,
   "metadata": {},
   "outputs": [
    {
     "name": "stdout",
     "output_type": "stream",
     "text": [
      "Wall time: 9.33 s\n"
     ]
    }
   ],
   "source": [
    "\n",
    "%%time\n",
    "%run ../py/html_analysis.py\n",
    "\n",
    "lda = LdaUtilities(verbose=True)"
   ]
  },
  {
   "cell_type": "code",
   "execution_count": 3,
   "metadata": {},
   "outputs": [
    {
     "name": "stdout",
     "output_type": "stream",
     "text": [
      "Wall time: 7min 33s\n"
     ]
    }
   ],
   "source": [
    "\n",
    "%%time\n",
    "from gensim.models import CoherenceModel\n",
    "\n",
    "# Compute Coherence Scores\n",
    "y = []\n",
    "x = [1_000, 5_000, 7_500, 8_000, 8_500]\n",
    "for keep_n in x:\n",
    "    lda.build_dictionary()\n",
    "    lda.LDA_DICTIONARY.filter_extremes(no_below=100, no_above=0.5, keep_n=8_500)\n",
    "    lda.build_corpus()\n",
    "    lda.build_topic_model()\n",
    "    y.append(CoherenceModel(model=lda.TOPIC_MODEL, texts=lda.tokenized_sents_list, corpus=lda.LDA_CORPUS,\n",
    "                            dictionary=lda.LDA_DICTIONARY).get_coherence())"
   ]
  },
  {
   "cell_type": "code",
   "execution_count": 6,
   "metadata": {},
   "outputs": [
    {
     "data": {
      "text/plain": [
       "\u001b[1;31mInit signature:\u001b[0m\n",
       "\u001b[0mLdaModel\u001b[0m\u001b[1;33m(\u001b[0m\u001b[1;33m\n",
       "\u001b[0m    \u001b[0mcorpus\u001b[0m\u001b[1;33m=\u001b[0m\u001b[1;32mNone\u001b[0m\u001b[1;33m,\u001b[0m\u001b[1;33m\n",
       "\u001b[0m    \u001b[0mnum_topics\u001b[0m\u001b[1;33m=\u001b[0m\u001b[1;36m100\u001b[0m\u001b[1;33m,\u001b[0m\u001b[1;33m\n",
       "\u001b[0m    \u001b[0mid2word\u001b[0m\u001b[1;33m=\u001b[0m\u001b[1;32mNone\u001b[0m\u001b[1;33m,\u001b[0m\u001b[1;33m\n",
       "\u001b[0m    \u001b[0mdistributed\u001b[0m\u001b[1;33m=\u001b[0m\u001b[1;32mFalse\u001b[0m\u001b[1;33m,\u001b[0m\u001b[1;33m\n",
       "\u001b[0m    \u001b[0mchunksize\u001b[0m\u001b[1;33m=\u001b[0m\u001b[1;36m2000\u001b[0m\u001b[1;33m,\u001b[0m\u001b[1;33m\n",
       "\u001b[0m    \u001b[0mpasses\u001b[0m\u001b[1;33m=\u001b[0m\u001b[1;36m1\u001b[0m\u001b[1;33m,\u001b[0m\u001b[1;33m\n",
       "\u001b[0m    \u001b[0mupdate_every\u001b[0m\u001b[1;33m=\u001b[0m\u001b[1;36m1\u001b[0m\u001b[1;33m,\u001b[0m\u001b[1;33m\n",
       "\u001b[0m    \u001b[0malpha\u001b[0m\u001b[1;33m=\u001b[0m\u001b[1;34m'symmetric'\u001b[0m\u001b[1;33m,\u001b[0m\u001b[1;33m\n",
       "\u001b[0m    \u001b[0meta\u001b[0m\u001b[1;33m=\u001b[0m\u001b[1;32mNone\u001b[0m\u001b[1;33m,\u001b[0m\u001b[1;33m\n",
       "\u001b[0m    \u001b[0mdecay\u001b[0m\u001b[1;33m=\u001b[0m\u001b[1;36m0.5\u001b[0m\u001b[1;33m,\u001b[0m\u001b[1;33m\n",
       "\u001b[0m    \u001b[0moffset\u001b[0m\u001b[1;33m=\u001b[0m\u001b[1;36m1.0\u001b[0m\u001b[1;33m,\u001b[0m\u001b[1;33m\n",
       "\u001b[0m    \u001b[0meval_every\u001b[0m\u001b[1;33m=\u001b[0m\u001b[1;36m10\u001b[0m\u001b[1;33m,\u001b[0m\u001b[1;33m\n",
       "\u001b[0m    \u001b[0miterations\u001b[0m\u001b[1;33m=\u001b[0m\u001b[1;36m50\u001b[0m\u001b[1;33m,\u001b[0m\u001b[1;33m\n",
       "\u001b[0m    \u001b[0mgamma_threshold\u001b[0m\u001b[1;33m=\u001b[0m\u001b[1;36m0.001\u001b[0m\u001b[1;33m,\u001b[0m\u001b[1;33m\n",
       "\u001b[0m    \u001b[0mminimum_probability\u001b[0m\u001b[1;33m=\u001b[0m\u001b[1;36m0.01\u001b[0m\u001b[1;33m,\u001b[0m\u001b[1;33m\n",
       "\u001b[0m    \u001b[0mrandom_state\u001b[0m\u001b[1;33m=\u001b[0m\u001b[1;32mNone\u001b[0m\u001b[1;33m,\u001b[0m\u001b[1;33m\n",
       "\u001b[0m    \u001b[0mns_conf\u001b[0m\u001b[1;33m=\u001b[0m\u001b[1;32mNone\u001b[0m\u001b[1;33m,\u001b[0m\u001b[1;33m\n",
       "\u001b[0m    \u001b[0mminimum_phi_value\u001b[0m\u001b[1;33m=\u001b[0m\u001b[1;36m0.01\u001b[0m\u001b[1;33m,\u001b[0m\u001b[1;33m\n",
       "\u001b[0m    \u001b[0mper_word_topics\u001b[0m\u001b[1;33m=\u001b[0m\u001b[1;32mFalse\u001b[0m\u001b[1;33m,\u001b[0m\u001b[1;33m\n",
       "\u001b[0m    \u001b[0mcallbacks\u001b[0m\u001b[1;33m=\u001b[0m\u001b[1;32mNone\u001b[0m\u001b[1;33m,\u001b[0m\u001b[1;33m\n",
       "\u001b[0m    \u001b[0mdtype\u001b[0m\u001b[1;33m=\u001b[0m\u001b[1;33m<\u001b[0m\u001b[1;32mclass\u001b[0m \u001b[1;34m'numpy.float32'\u001b[0m\u001b[1;33m>\u001b[0m\u001b[1;33m,\u001b[0m\u001b[1;33m\n",
       "\u001b[0m\u001b[1;33m)\u001b[0m\u001b[1;33m\u001b[0m\u001b[1;33m\u001b[0m\u001b[0m\n",
       "\u001b[1;31mDocstring:\u001b[0m     \n",
       "Train and use Online Latent Dirichlet Allocation (OLDA) models as presented in\n",
       "`Hoffman et al. :\"Online Learning for Latent Dirichlet Allocation\" <https://www.di.ens.fr/~fbach/mdhnips2010.pdf>`_.\n",
       "\n",
       "Examples\n",
       "-------\n",
       "Initialize a model using a Gensim corpus\n",
       "\n",
       ".. sourcecode:: pycon\n",
       "\n",
       "    >>> from gensim.test.utils import common_corpus\n",
       "    >>>\n",
       "    >>> lda = LdaModel(common_corpus, num_topics=10)\n",
       "\n",
       "You can then infer topic distributions on new, unseen documents.\n",
       "\n",
       ".. sourcecode:: pycon\n",
       "\n",
       "    >>> doc_bow = [(1, 0.3), (2, 0.1), (0, 0.09)]\n",
       "    >>> doc_lda = lda[doc_bow]\n",
       "\n",
       "The model can be updated (trained) with new documents.\n",
       "\n",
       ".. sourcecode:: pycon\n",
       "\n",
       "    >>> # In practice (corpus =/= initial training corpus), but we use the same here for simplicity.\n",
       "    >>> other_corpus = common_corpus\n",
       "    >>>\n",
       "    >>> lda.update(other_corpus)\n",
       "\n",
       "Model persistency is achieved through :meth:`~gensim.models.ldamodel.LdaModel.load` and\n",
       ":meth:`~gensim.models.ldamodel.LdaModel.save` methods.\n",
       "\u001b[1;31mInit docstring:\u001b[0m\n",
       "Parameters\n",
       "----------\n",
       "corpus : {iterable of list of (int, float), scipy.sparse.csc}, optional\n",
       "    Stream of document vectors or sparse matrix of shape (`num_documents`, `num_terms`).\n",
       "    If not given, the model is left untrained (presumably because you want to call\n",
       "    :meth:`~gensim.models.ldamodel.LdaModel.update` manually).\n",
       "num_topics : int, optional\n",
       "    The number of requested latent topics to be extracted from the training corpus.\n",
       "id2word : {dict of (int, str), :class:`gensim.corpora.dictionary.Dictionary`}\n",
       "    Mapping from word IDs to words. It is used to determine the vocabulary size, as well as for\n",
       "    debugging and topic printing.\n",
       "distributed : bool, optional\n",
       "    Whether distributed computing should be used to accelerate training.\n",
       "chunksize :  int, optional\n",
       "    Number of documents to be used in each training chunk.\n",
       "passes : int, optional\n",
       "    Number of passes through the corpus during training.\n",
       "update_every : int, optional\n",
       "    Number of documents to be iterated through for each update.\n",
       "    Set to 0 for batch learning, > 1 for online iterative learning.\n",
       "alpha : {numpy.ndarray, str}, optional\n",
       "    Can be set to an 1D array of length equal to the number of expected topics that expresses\n",
       "    our a-priori belief for the each topics' probability.\n",
       "    Alternatively default prior selecting strategies can be employed by supplying a string:\n",
       "\n",
       "        * 'asymmetric': Uses a fixed normalized asymmetric prior of `1.0 / topicno`.\n",
       "        * 'auto': Learns an asymmetric prior from the corpus (not available if `distributed==True`).\n",
       "eta : {float, np.array, str}, optional\n",
       "    A-priori belief on word probability, this can be:\n",
       "\n",
       "        * scalar for a symmetric prior over topic/word probability,\n",
       "        * vector of length num_words to denote an asymmetric user defined probability for each word,\n",
       "        * matrix of shape (num_topics, num_words) to assign a probability for each word-topic combination,\n",
       "        * the string 'auto' to learn the asymmetric prior from the data.\n",
       "decay : float, optional\n",
       "    A number between (0.5, 1] to weight what percentage of the previous lambda value is forgotten\n",
       "    when each new document is examined. Corresponds to Kappa from\n",
       "    `Matthew D. Hoffman, David M. Blei, Francis Bach:\n",
       "    \"Online Learning for Latent Dirichlet Allocation NIPS'10\" <https://www.di.ens.fr/~fbach/mdhnips2010.pdf>`_.\n",
       "offset : float, optional\n",
       "    Hyper-parameter that controls how much we will slow down the first steps the first few iterations.\n",
       "    Corresponds to Tau_0 from `Matthew D. Hoffman, David M. Blei, Francis Bach:\n",
       "    \"Online Learning for Latent Dirichlet Allocation NIPS'10\" <https://www.di.ens.fr/~fbach/mdhnips2010.pdf>`_.\n",
       "eval_every : int, optional\n",
       "    Log perplexity is estimated every that many updates. Setting this to one slows down training by ~2x.\n",
       "iterations : int, optional\n",
       "    Maximum number of iterations through the corpus when inferring the topic distribution of a corpus.\n",
       "gamma_threshold : float, optional\n",
       "    Minimum change in the value of the gamma parameters to continue iterating.\n",
       "minimum_probability : float, optional\n",
       "    Topics with a probability lower than this threshold will be filtered out.\n",
       "random_state : {np.random.RandomState, int}, optional\n",
       "    Either a randomState object or a seed to generate one. Useful for reproducibility.\n",
       "ns_conf : dict of (str, object), optional\n",
       "    Key word parameters propagated to :func:`gensim.utils.getNS` to get a Pyro4 Nameserved.\n",
       "    Only used if `distributed` is set to True.\n",
       "minimum_phi_value : float, optional\n",
       "    if `per_word_topics` is True, this represents a lower bound on the term probabilities.\n",
       "per_word_topics : bool\n",
       "    If True, the model also computes a list of topics, sorted in descending order of most likely topics for\n",
       "    each word, along with their phi values multiplied by the feature length (i.e. word count).\n",
       "callbacks : list of :class:`~gensim.models.callbacks.Callback`\n",
       "    Metric callbacks to log and visualize evaluation metrics of the model during training.\n",
       "dtype : {numpy.float16, numpy.float32, numpy.float64}, optional\n",
       "    Data-type to use during calculations inside model. All inputs are also converted.\n",
       "\u001b[1;31mFile:\u001b[0m           c:\\users\\dev\\documents\\repositories\\job-hunting\\jh\\lib\\site-packages\\gensim\\models\\ldamodel.py\n",
       "\u001b[1;31mType:\u001b[0m           type\n",
       "\u001b[1;31mSubclasses:\u001b[0m     LdaMulticore, AuthorTopicModel\n"
      ]
     },
     "metadata": {},
     "output_type": "display_data"
    }
   ],
   "source": [
    "\n",
    "from gensim.models.ldamodel import LdaModel\n",
    "\n",
    "LdaModel?"
   ]
  },
  {
   "cell_type": "code",
   "execution_count": 4,
   "metadata": {},
   "outputs": [
    {
     "data": {
      "text/plain": [
       "[(5000, 0.649207121013271), (8500, 0.6278934608305464), (7500, 0.6015753961458301), (8000, 0.5885030571006837), (1000, 0.5000100775758947)]"
      ]
     },
     "execution_count": 4,
     "metadata": {},
     "output_type": "execute_result"
    }
   ],
   "source": [
    "\n",
    "sorted([(tn, cv) for tn, cv in zip(x, y)], key=lambda x: x[1], reverse=True)"
   ]
  },
  {
   "cell_type": "code",
   "execution_count": 5,
   "metadata": {},
   "outputs": [
    {
     "data": {
      "image/png": "[encoded data removed]",
      "text/plain": [
       "<Figure size 432x288 with 1 Axes>"
      ]
     },
     "metadata": {
      "needs_background": "light"
     },
     "output_type": "display_data"
    }
   ],
   "source": [
    "\n",
    "# Show graph\n",
    "import matplotlib.pyplot as plt\n",
    "\n",
    "plt.plot(x, y)\n",
    "plt.xlabel('Keep n')\n",
    "plt.ylabel('Coherence score')\n",
    "plt.legend(('y'), loc='best')\n",
    "plt.show()"
   ]
  },
  {
   "cell_type": "code",
   "execution_count": null,
   "metadata": {},
   "outputs": [],
   "source": []
  }
 ],
 "metadata": {
  "kernelspec": {
   "display_name": "Job Hunting (Python 3.7.9)",
   "language": "python",
   "name": "jh"
  },
  "language_info": {
   "codemirror_mode": {
    "name": "ipython",
    "version": 3
   },
   "file_extension": ".py",
   "mimetype": "text/x-python",
   "name": "python",
   "nbconvert_exporter": "python",
   "pygments_lexer": "ipython3",
   "version": "3.7.9"
  }
 },
 "nbformat": 4,
 "nbformat_minor": 4
}
