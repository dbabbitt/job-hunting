{
 "cells": [
  {
   "cell_type": "code",
   "execution_count": null,
   "id": "ecb055c8-7f3e-4dd6-a2d0-fc7f70f0c5c8",
   "metadata": {},
   "outputs": [],
   "source": []
  },
  {
   "cell_type": "code",
   "execution_count": 1,
   "id": "7675b025-b593-4d53-9759-6c1e01772c22",
   "metadata": {},
   "outputs": [
    {
     "name": "stdout",
     "output_type": "stream",
     "text": [
      "Pretty printing has been turned OFF\n"
     ]
    }
   ],
   "source": [
    "\n",
    "%pprint"
   ]
  },
  {
   "cell_type": "code",
   "execution_count": 2,
   "id": "e8e9a76f-08eb-4a9c-9c53-4bf043e26661",
   "metadata": {},
   "outputs": [],
   "source": [
    "\n",
    "import sys\n",
    "\n",
    "# Insert at 1, 0 is the script path (or '' in REPL)\n",
    "sys.path.insert(1, '../py')"
   ]
  },
  {
   "cell_type": "code",
   "execution_count": 3,
   "id": "92346a3f-3506-4e2c-b030-4f4fa74f78fd",
   "metadata": {},
   "outputs": [
    {
     "name": "stdout",
     "output_type": "stream",
     "text": [
      "CPU times: total: 1min 37s\n",
      "Wall time: 1min 43s\n"
     ]
    }
   ],
   "source": [
    "\n",
    "%%time\n",
    "from pandas import DataFrame\n",
    "\n",
    "from storage import Storage\n",
    "s = Storage()\n",
    "\n",
    "from ha_utils import HeaderAnalysis\n",
    "ha = HeaderAnalysis(verbose=False)\n",
    "\n",
    "from scrape_utils import WebScrapingUtilities\n",
    "wsu = WebScrapingUtilities()\n",
    "uri = wsu.secrets_json['neo4j']['connect_url']\n",
    "user =  wsu.secrets_json['neo4j']['username']\n",
    "password = wsu.secrets_json['neo4j']['password']\n",
    "\n",
    "from cypher_utils import CypherUtilities\n",
    "cu = CypherUtilities(uri=uri, user=user, password=password, driver=None, s=s, ha=ha)\n",
    "\n",
    "from hc_utils import HeaderCategories\n",
    "hc = HeaderCategories(cu=cu, verbose=False)\n",
    "\n",
    "from section_utils import SectionUtilities\n",
    "su = SectionUtilities(s=s, ha=ha, cu=cu, verbose=False)\n",
    "\n",
    "from lr_utils import LrUtilities\n",
    "lru = LrUtilities(ha=ha, cu=cu, hc=hc, verbose=False)\n",
    "lru.build_isheader_logistic_regression_elements()\n",
    "lru.build_pos_logistic_regression_elements()\n",
    "\n",
    "import warnings\n",
    "warnings.filterwarnings('ignore')"
   ]
  },
  {
   "cell_type": "code",
   "execution_count": 4,
   "id": "82dab229-b28c-4ddd-812d-6abf153aae3b",
   "metadata": {},
   "outputs": [
    {
     "data": {
      "text/plain": [
       "[]"
      ]
     },
     "execution_count": 4,
     "metadata": {},
     "output_type": "execute_result"
    }
   ],
   "source": [
    "\n",
    "cypher_str = f'''\n",
    "    MATCH (fn:FileNames)\n",
    "    WHERE\n",
    "        fn.percent_fit IN [0.0, 1.0] AND\n",
    "        ((fn.is_verfied IS NULL) OR \n",
    "        (fn.is_verfied = false)) AND\n",
    "        ((fn.is_closed IS NULL) AND ((fn.is_opportunity_application_emailed IS NULL) OR \n",
    "        (fn.is_opportunity_application_emailed = false))) OR (fn.is_closed = false)\n",
    "    RETURN fn.file_name AS file_name\n",
    "    ORDER BY fn.percent_fit DESC;'''\n",
    "row_objs_list = []\n",
    "with cu.driver.session() as session:\n",
    "    row_objs_list = session.write_transaction(cu.do_cypher_tx, cypher_str)\n",
    "files_list = []\n",
    "if row_objs_list:\n",
    "    files_list = DataFrame(row_objs_list).file_name.tolist()\n",
    "files_list"
   ]
  },
  {
   "cell_type": "markdown",
   "id": "a4a2f3ec-44ee-4be3-b13e-02badca41da4",
   "metadata": {},
   "source": [
    "\n",
    "----"
   ]
  },
  {
   "cell_type": "code",
   "execution_count": 424,
   "id": "151cdf71-a078-43b6-9a1b-649bb51461e5",
   "metadata": {},
   "outputs": [
    {
     "name": "stdout",
     "output_type": "stream",
     "text": [
      "6784007d5be726d4_Platform_Engineer_Remote_Indeed_com.html\n"
     ]
    }
   ],
   "source": [
    "\n",
    "%run ../load_magic/dataframes.py\n",
    "\n",
    "# file_name = files_list.pop()\n",
    "file_name = '6784007d5be726d4_Platform_Engineer_Remote_Indeed_com.html'\n",
    "print(file_name)\n",
    "file_path = os.path.join(cu.SAVES_HTML_FOLDER, file_name)\n",
    "page_soup = get_page_soup(file_path)\n",
    "div_soup = page_soup.find_all(name='div', id='jobDescriptionText')[0]\n",
    "child_strs_list = ha.get_navigable_children(div_soup, [])\n",
    "cu.ensure_filename(file_name, verbose=False)\n",
    "cu.populate_from_child_strings(child_strs_list, file_name, verbose=False)"
   ]
  },
  {
   "cell_type": "code",
   "execution_count": 425,
   "id": "9488aa37-8a06-4b91-b051-762be55762dc",
   "metadata": {},
   "outputs": [
    {
     "name": "stdout",
     "output_type": "stream",
     "text": [
      "['b', 'plaintext', 'plaintext', 'plaintext', 'plaintext', 'div', 'plaintext', 'plaintext', 'div', 'plaintext', 'plaintext', 'b', 'li', 'li', 'li', 'li', 'li', 'li', 'b', 'li', 'li', 'li', 'li', 'li', 'li', 'li', 'b', 'b', 'li', 'li', 'li', 'li', 'li', 'li', 'b', 'plaintext', 'b', 'plaintext', 'b', 'plaintext', 'b', 'plaintext', 'b', 'plaintext', 'b', 'plaintext', 'b', 'plaintext', 'b', 'plaintext', 'b', 'plaintext', 'b', 'plaintext', 'b', 'plaintext', 'b', 'plaintext', 'plaintext', 'i']\n"
     ]
    }
   ],
   "source": [
    "\n",
    "child_tags_list = ha.get_child_tags_list(child_strs_list)\n",
    "print(child_tags_list)"
   ]
  },
  {
   "cell_type": "code",
   "execution_count": 426,
   "id": "f209f452-115b-4789-b206-faa1adb25f8b",
   "metadata": {},
   "outputs": [],
   "source": [
    "\n",
    "is_header_list = []\n",
    "for is_header, child_str in zip(ha.get_is_header_list(child_strs_list), child_strs_list):\n",
    "    if is_header is None:\n",
    "        probs_list = lru.ISHEADER_PREDICT_PERCENT_FIT(child_str)\n",
    "        idx = probs_list.index(max(probs_list))\n",
    "        is_header = [True, False][idx]\n",
    "    is_header_list.append(is_header)"
   ]
  },
  {
   "cell_type": "raw",
   "id": "4384d89f-5286-4846-9ff4-11ee518b3dc2",
   "metadata": {},
   "source": [
    "\n",
    "# cu.create_h_pickle(verbose=True)\n",
    "NAVIGABLE_PARENT_IS_HEADER_DICT = s.load_object('NAVIGABLE_PARENT_IS_HEADER_DICT')\n",
    "for i, (is_header, child_str) in enumerate(zip(is_header_list, child_strs_list)):\n",
    "    print(i, NAVIGABLE_PARENT_IS_HEADER_DICT.get(child_str), is_header, child_str)"
   ]
  },
  {
   "cell_type": "code",
   "execution_count": 427,
   "id": "6ab2b8bb-ddfd-455e-a5a0-06a613cdbd81",
   "metadata": {},
   "outputs": [
    {
     "data": {
      "text/plain": [
       "{'initial_tag': 'plaintext', 'is_header': False, 'is_task_scope': None, 'is_minimum_qualification': None, 'is_preferred_qualification': None, 'is_legal_notification': None, 'is_job_title': None, 'is_office_location': None, 'is_job_duration': None, 'is_supplemental_pay': None, 'is_educational_requirement': None, 'is_interview_procedure': None, 'is_corporate_scope': None, 'is_posting_date': None, 'is_other': None, 'child_str': 'Our team'}"
      ]
     },
     "execution_count": 427,
     "metadata": {},
     "output_type": "execute_result"
    }
   ],
   "source": [
    "\n",
    "feature_dict_list = hc.get_feature_dict_list(child_tags_list, is_header_list, child_strs_list)\n",
    "feature_dict_list[4]"
   ]
  },
  {
   "cell_type": "code",
   "execution_count": 428,
   "id": "bbc96eb8-35d0-47c3-b55a-073194a5adf5",
   "metadata": {},
   "outputs": [
    {
     "data": {
      "text/plain": [
       "('plaintext', 'Our team', 'O-TS')"
      ]
     },
     "execution_count": 428,
     "metadata": {},
     "output_type": "execute_result"
    }
   ],
   "source": [
    "\n",
    "feature_tuple_list = []\n",
    "for feature_dict in feature_dict_list:\n",
    "    feature_tuple_list.append(hc.get_feature_tuple(feature_dict, lru.pos_lr_predict_single))\n",
    "feature_tuple_list[4]"
   ]
  },
  {
   "cell_type": "code",
   "execution_count": 429,
   "id": "8ef8aa5a-fd24-4ab1-a31d-a7063770134d",
   "metadata": {},
   "outputs": [
    {
     "data": {
      "text/plain": [
       "['O-TS', 'O-CS', 'O-CS', 'O-TS', 'O-TS', 'O-CS', 'O-TS', 'O-CS', 'O-CS', 'O-CS', 'O-CS', 'H-TS', 'O-TS', 'O-TS', 'O-TS', 'O-RQ', 'O-TS', 'O-TS', 'O-CS', 'O-RQ', 'O-RQ', 'O-CS', 'O-RQ', 'O-ER', 'O-TS', 'O-RQ', 'O-PQ', 'O-TS', 'O-TS', 'O-TS', 'O-RQ', 'O-TS', 'O-CS', 'O-TS', 'O-CS', 'O-CS', 'O-CS', 'O-CS', 'O-CS', 'O-TS', 'O-CS', 'O-SP', 'O-SP', 'O-CS', 'O-SP', 'O-SP', 'O-CS', 'O-LN', 'O-SP', 'O-CS', 'O-RQ', 'O-CS', 'O-CS', 'O-CS', 'O-SP', 'O-RQ', 'O-CS', 'O-CS', 'O-CS', 'O-CS']"
      ]
     },
     "execution_count": 429,
     "metadata": {},
     "output_type": "execute_result"
    }
   ],
   "source": [
    "\n",
    "from crf_utils import CrfUtilities\n",
    "crf = CrfUtilities(ha=ha, hc=hc, cu=cu, verbose=False)\n",
    "crf_list = crf.CRF.predict_single(crf.sent2features(feature_tuple_list))\n",
    "crf_list"
   ]
  },
  {
   "cell_type": "code",
   "execution_count": 430,
   "id": "1918e8db-d426-465d-8b9f-b92e41ebc596",
   "metadata": {},
   "outputs": [
    {
     "data": {
      "text/plain": [
       "['O', 'O', 'O', 'O', 'O', 'O', 'O', 'O', 'O', 'O', 'O', 'H-TS', 'O', 'O', 'O', 'O', 'O', 'O', 'O', 'O', 'O', 'O', 'O', 'O', 'O', 'O', 'O', 'O', 'O', 'O', 'O', 'O', 'O', 'O', 'O', 'O', 'O', 'O', 'O', 'O', 'O', 'O', 'O', 'O', 'O', 'O', 'O', 'O', 'O', 'O-O', 'O', 'O', 'O', 'O', 'O', 'O', 'O', 'O', 'O', 'O']"
      ]
     },
     "execution_count": 430,
     "metadata": {},
     "output_type": "execute_result"
    }
   ],
   "source": [
    "\n",
    "db_pos_list = []\n",
    "for navigable_parent in child_strs_list:\n",
    "    db_pos_list = cu.append_parts_of_speech_list(navigable_parent, pos_list=db_pos_list)\n",
    "db_pos_list"
   ]
  },
  {
   "cell_type": "code",
   "execution_count": 431,
   "id": "9fcd49e8-8e4b-4cda-b056-28c376b0df2c",
   "metadata": {},
   "outputs": [
    {
     "name": "stdout",
     "output_type": "stream",
     "text": [
      "['O-TS', 'O-CS', 'O-CS', 'O-TS', 'O-TS', 'O-CS', 'O-TS', 'O-CS', 'O-CS', 'O-CS', 'O-CS', 'H-TS', 'O-TS', 'O-TS', 'O-TS', 'O-RQ', 'O-TS', 'O-TS', 'O-CS', 'O-RQ', 'O-RQ', 'O-CS', 'O-RQ', 'O-ER', 'O-TS', 'O-RQ', 'O-PQ', 'O-TS', 'O-TS', 'O-TS', 'O-RQ', 'O-TS', 'O-CS', 'O-TS', 'O-CS', 'O-CS', 'O-CS', 'O-CS', 'O-CS', 'O-TS', 'O-CS', 'O-SP', 'O-SP', 'O-CS', 'O-SP', 'O-SP', 'O-CS', 'O-LN', 'O-SP', 'O-O', 'O-RQ', 'O-CS', 'O-CS', 'O-CS', 'O-SP', 'O-RQ', 'O-CS', 'O-CS', 'O-CS', 'O-CS']\n",
      "[15, 19, 20, 22, 23, 25, 30, 50, 55]\n"
     ]
    },
    {
     "data": {
      "text/html": [
       "0 O-TS) <span style=\"color:#1f77b480;\"><b>Welcome to the future of energy (O-TS Task Scope Non-header)</b></span><br />1 O-CS) <span style=\"color:#bcbd2280;\">We are both an electricity retailer and a tech platform and we think there is no better way to address our greatest challenge, climate change, than with the combination of those two. (O-CS Corporate Scope Non-header)</span><br />2 O-CS) <span style=\"color:#bcbd2280;\">Through our proprietary tech platform, Kraken, we are changing the way people interact with their energy company - by making it approachable, low cost, easy-to-understand, and most importantly, 100% renewable. We’ve distinguished ourselves by being named 2020’s Energy Provider of the Year, which highlights our commitment to exceptional customer service. In many markets we are a leading employer on Glassdoor for best places to work. (O-CS Corporate Scope Non-header)</span><br />3 O-TS) <span style=\"color:#1f77b480;\">We're looking for a Platform Engineer to join the team and help us build and scale “Kraken”, a cloud-based energy platform for interacting with both consumers (via the web, mobile and smart-meters) and the industry (e.g. data flows, consumption forecasting, trading on the wholesale market). We're an innovative and customer-focussed company, helping to drag the utilities industry into the 21st century. (O-TS Task Scope Non-header)</span><br />4 O-TS) <span style=\"color:#1f77b480;\">Our team (O-TS Task Scope Non-header)</span><br />5 O-CS) <span style=\"color:#bcbd2280;\"><div>All technology is written and maintained by a multi-discipline engineering team of around 150 people. This includes server-side, client-side, and mobile engineers working closely with UX experts, copywriters and designers. (O-CS Corporate Scope Non-header)</div></span><br />6 O-TS) <span style=\"color:#1f77b480;\">We follow a Kanban-like approach, using Google docs and Asana to specify and manage work; Github, CircleCI, Kubernetes and Terraform Enterprise as part of an immutable-infrastructure, continuous delivery pipeline; and Datadog, Sentry and Cloudwatch to measure performance and monitor production. (O-TS Task Scope Non-header)</span><br />7 O-CS) <span style=\"color:#bcbd2280;\">Our technology (O-CS Corporate Scope Non-header)</span><br />8 O-CS) <span style=\"color:#bcbd2280;\"><div>On the server-side, we mainly use Python. Most of our websites are powered by Django, Django-REST-framework and GraphQL. We use Celery, RabbitMQ and SQS for background processing and have a data platform that uses Pandas, Numpy and Jupyter for analysis and forecasting. (O-CS Corporate Scope Non-header)</div></span><br />9 O-CS) <span style=\"color:#bcbd2280;\">We are heavy users of AWS. We host our applications in Kubernetes (EKS) and on EC2 and deploy and manage them with Helm/ArgoCD, or Packer/Terraform. (O-CS Corporate Scope Non-header)</span><br />10 O-CS) <span style=\"color:#bcbd2280;\">Client-side, we use React, Redux and SASS with increasing amounts of Next.js; our mobile apps are built using React Native. (O-CS Corporate Scope Non-header)</span><br />11 H-TS) <span style=\"color:#1f77b4ff;\"><b>What you'll do (H-TS Task Scope Header)</b></span><br />12 O-TS) <span style=\"color:#1f77b480;\"><li>Identify, design and lead on initiatives that help us scale (O-TS Task Scope Non-header)</li></span><br />13 O-TS) <span style=\"color:#1f77b480;\"><li>Support, maintain and expand our AWS infrastructure (O-TS Task Scope Non-header)</li></span><br />14 O-TS) <span style=\"color:#1f77b480;\"><li>Ensure our systems and services are both reliable and performant (O-TS Task Scope Non-header)</li></span><br /><hr />15 O-RQ) <span style=\"color:#aec7e880;\"><li>Collaborate with Developers on new features and services (O-RQ Required Qualifications Non-header)</li></span><br />16 O-TS) <span style=\"color:#1f77b480;\"><li>Work with the Security team to ensure that the platform is secure (O-TS Task Scope Non-header)</li></span><br />17 O-TS) <span style=\"color:#1f77b480;\"><li>Help solve interesting and difficult problems. There’s a great opportunity for disruption in the global energy market (O-TS Task Scope Non-header)</li></span><br />18 O-CS) <span style=\"color:#bcbd2280;\"><b>What you'll need (O-CS Corporate Scope Non-header)</b></span><br />19 O-RQ) <span style=\"color:#aec7e880;\"><li>Excellent Linux skills. Our services run on Linux, so you’ll need to be confident administering and troubleshooting Ubuntu and/or CentOS (O-RQ Required Qualifications Non-header)</li></span><br />20 O-RQ) <span style=\"color:#aec7e880;\"><li>Good experience with AWS. We use a lot of different AWS services and not just the standard few. (O-RQ Required Qualifications Non-header)</li></span><br />21 O-CS) <span style=\"color:#bcbd2280;\"><li>Terraform experience. We use Terraform Enterprise to roll out changes to our cloud (O-CS Corporate Scope Non-header)</li></span><br />22 O-RQ) <span style=\"color:#aec7e880;\"><li>Python and Django (or equiv. Web framework) (O-RQ Required Qualifications Non-header)</li></span><br />23 O-ER) <span style=\"color:#f7b6d280;\"><li>PostgreSQL, or similar RDBMS, particularly in Amazon RDS (O-ER Education Requirements Non-header)</li></span><br />24 O-TS) <span style=\"color:#1f77b480;\"><li>A good understanding of troubleshooting distributed systems (O-TS Task Scope Non-header)</li></span><br />25 O-RQ) <span style=\"color:#aec7e880;\"><li>Experience managing and supporting a large scale internet facing service (O-RQ Required Qualifications Non-header)</li></span><br />26 O-PQ) <span style=\"color:#ffbb7880;\"><b>This position is open candidates residing in the US. Central and Eastern time zones strongly preferred. (O-PQ Preferred Qualifications Non-header)</b></span><br />27 O-TS) <span style=\"color:#1f77b480;\"><b>What would help (O-TS Task Scope Non-header)</b></span><br />28 O-TS) <span style=\"color:#1f77b480;\"><li>Networking knowledge, particularly routing and VPNs (O-TS Task Scope Non-header)</li></span><br />29 O-TS) <span style=\"color:#1f77b480;\"><li>An awareness of security processes and DevOps security tools (O-TS Task Scope Non-header)</li></span><br />30 O-RQ) <span style=\"color:#aec7e880;\"><li>Experience with RabbitMQ, or other messaging queues (O-RQ Required Qualifications Non-header)</li></span><br />31 O-TS) <span style=\"color:#1f77b480;\"><li>Celery and async processing (O-TS Task Scope Non-header)</li></span><br />32 O-CS) <span style=\"color:#bcbd2280;\"><li>Docker and Kubernetes. We use Amazon EKS. (O-CS Corporate Scope Non-header)</li></span><br />33 O-TS) <span style=\"color:#1f77b480;\"><li>An understanding of Data Science / Big Data tooling and methods (O-TS Task Scope Non-header)</li></span><br />34 O-CS) <span style=\"color:#bcbd2280;\"><b>What you'll love about us (O-CS Corporate Scope Non-header)</b></span><br />35 O-CS) <span style=\"color:#bcbd2280;\">Great (O-CS Corporate Scope Non-header)</span><br />36 O-CS) <span style=\"color:#bcbd2280;\"><b>medical (O-CS Corporate Scope Non-header)</b></span><br />37 O-CS) <span style=\"color:#bcbd2280;\">, (O-CS Corporate Scope Non-header)</span><br />38 O-CS) <span style=\"color:#bcbd2280;\"><b>dental (O-CS Corporate Scope Non-header)</b></span><br />39 O-TS) <span style=\"color:#1f77b480;\">, and (O-TS Task Scope Non-header)</span><br />40 O-CS) <span style=\"color:#bcbd2280;\"><b>vision (O-CS Corporate Scope Non-header)</b></span><br />41 O-SP) <span style=\"color:#c49c9480;\">insurance options including FSAs (O-SP Supplemental Pay Non-header)</span><br />42 O-SP) <span style=\"color:#c49c9480;\"><b>Unlimited paid time off (O-SP Supplemental Pay Non-header)</b></span><br />43 O-CS) <span style=\"color:#bcbd2280;\">— we know working hard means also being able to recharge as needed, we trust our employees to get the work done and take the time they need. (O-CS Corporate Scope Non-header)</span><br />44 O-SP) <span style=\"color:#c49c9480;\"><b>401(k) plan (O-SP Supplemental Pay Non-header)</b></span><br />45 O-SP) <span style=\"color:#c49c9480;\">with employer match. (O-SP Supplemental Pay Non-header)</span><br />46 O-CS) <span style=\"color:#bcbd2280;\"><b>Parental leave. (O-CS Corporate Scope Non-header)</b></span><br />47 O-LN) <span style=\"color:#98df8a80;\">Biological, adoptive and foster parents are all eligible. (O-LN Legal Notifications Non-header)</span><br />48 O-SP) <span style=\"color:#c49c9480;\"><b>Pre-tax commuter benefits (O-SP Supplemental Pay Non-header)</b></span><br />49 O-O) <span style=\"color:#9edae580;\">. (O-O Other Non-header)</span><br />50 O-RQ) <span style=\"color:#aec7e880;\"><b>Flexible working environment: (O-RQ Required Qualifications Non-header)</b></span><br />51 O-CS) <span style=\"color:#bcbd2280;\">you need to shift around your schedule? You do you, we genuinely believe in work/life balance. (O-CS Corporate Scope Non-header)</span><br />52 O-CS) <span style=\"color:#bcbd2280;\"><b>Equity Options (O-CS Corporate Scope Non-header)</b></span><br />53 O-CS) <span style=\"color:#bcbd2280;\">: every Octopus employee owns part of the business. We’re a team, working together towards huge goals. Every person is crucial to our success, you should be rewarded as such. (O-CS Corporate Scope Non-header)</span><br />54 O-SP) <span style=\"color:#c49c9480;\"><b>Modern office (O-SP Supplemental Pay Non-header)</b></span><br />55 O-RQ) <span style=\"color:#aec7e880;\">or co-working spaces depending on location. (O-RQ Required Qualifications Non-header)</span><br /><hr />56 O-CS) <span style=\"color:#bcbd2280;\"><b>Wondering what the salary for this role is? (O-CS Corporate Scope Non-header)</b></span><br />57 O-CS) <span style=\"color:#bcbd2280;\">Just ask us! When on a call with one of our recruiters it's something we always cover as we genuinely want to match your experience with the correct salary. The reason why we don't advertise is because we honestly have a degree of flexibility and would never want salary to be a reason why someone doesn't apply to Octopus - what's more important to us is finding the right octofit! (O-CS Corporate Scope Non-header)</span><br />58 O-CS) <span style=\"color:#bcbd2280;\">If this all sounds like you then we'd love to hear from you. (O-CS Corporate Scope Non-header)</span><br />59 O-CS) <span style=\"color:#bcbd2280;\"><i>At Octopus, we're looking for genuinely decent people who are honest and empathetic. Our people are our strongest asset and the unique skills and perspectives people bring to the team are the driving force of our success. As an equal opportunity employer, we do not discriminate on the basis of any protected attribute. Our commitment is to provide equal opportunities, an inclusive work environment, and fairness for everyone. (O-CS Corporate Scope Non-header)</i></span><br />"
      ],
      "text/plain": [
       "<IPython.core.display.HTML object>"
      ]
     },
     "metadata": {},
     "output_type": "display_data"
    },
    {
     "name": "stdout",
     "output_type": "stream",
     "text": [
      "[15, 19, 20, 22, 23, 25, 30, 50, 55]\n"
     ]
    }
   ],
   "source": [
    "\n",
    "from matplotlib.colors import to_hex\n",
    "from IPython.display import HTML, display\n",
    "\n",
    "# Make an RGB dictionary of all the parts-of-speech symbols\n",
    "rgba_dict = su.get_pos_color_dictionary()\n",
    "\n",
    "html_str = ''\n",
    "pos_list = []\n",
    "for i, (crf_symbol, db_symbol) in enumerate(zip(crf_list, db_pos_list)):\n",
    "    if db_symbol in [None, 'O', 'H']:\n",
    "        pos_list.append(crf_symbol)\n",
    "    else:\n",
    "        pos_list.append(db_symbol)\n",
    "print(pos_list)\n",
    "indices_list = su.get_section(pos_list)\n",
    "print(indices_list)\n",
    "for i, (child_str, pos_symbol) in enumerate(zip(child_strs_list, pos_list)):\n",
    "    rgba = rgba_dict[pos_symbol]\n",
    "    hex_str = to_hex(rgba, keep_alpha=True)\n",
    "    if len(indices_list) and (i == min(indices_list)):\n",
    "        html_str += '<hr />'\n",
    "    child_str = su.append_pos_symbol(child_str, pos_symbol, use_explanation=True)\n",
    "    html_str += f'{i+0} {pos_symbol}) <span style=\"color:{hex_str};\">{child_str}</span><br />'\n",
    "    if len(indices_list) and (i == max(indices_list)):\n",
    "        html_str += '<hr />'\n",
    "display(HTML(html_str))\n",
    "print(indices_list)"
   ]
  },
  {
   "cell_type": "markdown",
   "id": "2f92043d-227f-423e-9890-bf1aa34b1303",
   "metadata": {},
   "source": [
    "\n",
    "----"
   ]
  },
  {
   "cell_type": "code",
   "execution_count": 432,
   "id": "5b32ce35-6670-4523-9d03-015542cb3818",
   "metadata": {},
   "outputs": [
    {
     "ename": "RuntimeError",
     "evalue": "No active exception to reraise",
     "output_type": "error",
     "traceback": [
      "\u001b[1;31m---------------------------------------------------------------------------\u001b[0m",
      "\u001b[1;31mRuntimeError\u001b[0m                              Traceback (most recent call last)",
      "Input \u001b[1;32mIn [432]\u001b[0m, in \u001b[0;36m<cell line: 1>\u001b[1;34m()\u001b[0m\n\u001b[1;32m----> 1\u001b[0m \u001b[38;5;28;01mraise\u001b[39;00m\n",
      "\u001b[1;31mRuntimeError\u001b[0m: No active exception to reraise"
     ]
    }
   ],
   "source": [
    "\n",
    "raise"
   ]
  },
  {
   "cell_type": "code",
   "execution_count": null,
   "id": "1d97acb2-2b60-4a56-9b3b-ecfc2b6582e6",
   "metadata": {},
   "outputs": [],
   "source": [
    "\n",
    "# Hand-label individual child strings\n",
    "idx = 19\n",
    "child_str = child_strs_list[idx]\n",
    "basic_quals_dict = s.load_object('basic_quals_dict')\n",
    "if(child_str in basic_quals_dict):\n",
    "    print(basic_quals_dict[child_str])\n",
    "child_str = cu.clean_text(child_str)\n",
    "print(child_str)"
   ]
  },
  {
   "cell_type": "code",
   "execution_count": null,
   "id": "089a6939-94b9-4530-b1fe-4e43a818a88a",
   "metadata": {},
   "outputs": [],
   "source": [
    "\n",
    "# Hand-label this particular child string in the quals dictionary\n",
    "# child_str = '<li>BS degree in CS, EE, math, or similar field, or equivalent experience</li>'\n",
    "basic_quals_dict = s.load_object('basic_quals_dict')\n",
    "basic_quals_dict[child_str] = 1\n",
    "s.store_objects(basic_quals_dict=basic_quals_dict)\n",
    "print(f'\"{child_str}\" in basic_quals_dict: {basic_quals_dict[child_str]}')"
   ]
  },
  {
   "cell_type": "code",
   "execution_count": null,
   "id": "c905300c-bb4a-4e3d-b5cf-b474fbcec75b",
   "metadata": {},
   "outputs": [],
   "source": [
    "\n",
    "cypher_str = f'''\n",
    "    MATCH (np:NavigableParents {{navigable_parent: '{child_str}'}})\n",
    "    SET\n",
    "        np.is_header = 'True',\n",
    "        np.is_task_scope = 'False',\n",
    "        np.is_minimum_qualification = 'False',\n",
    "        np.is_preferred_qualification = 'False',\n",
    "        np.is_legal_notification = 'False',\n",
    "        np.is_job_title = 'False',\n",
    "        np.is_office_location = 'False',\n",
    "        np.is_job_duration = 'False',\n",
    "        np.is_supplemental_pay = 'True',\n",
    "        np.is_educational_requirement = 'False',\n",
    "        np.is_interview_procedure = 'False',\n",
    "        np.is_corporate_scope = 'False',\n",
    "        np.is_posting_date = 'False',\n",
    "        np.is_other = 'False'\n",
    "    RETURN\n",
    "        np.navigable_parent AS navigable_parent,\n",
    "        np.is_header AS is_header,\n",
    "        np.is_task_scope AS is_task_scope,\n",
    "        np.is_minimum_qualification AS is_minimum_qualification,\n",
    "        np.is_preferred_qualification AS is_preferred_qualification,\n",
    "        np.is_legal_notification AS is_legal_notification,\n",
    "        np.is_job_title AS is_job_title,\n",
    "        np.is_office_location AS is_office_location,\n",
    "        np.is_job_duration AS is_job_duration,\n",
    "        np.is_supplemental_pay AS is_supplemental_pay,\n",
    "        np.is_educational_requirement AS is_educational_requirement,\n",
    "        np.is_interview_procedure AS is_interview_procedure,\n",
    "        np.is_corporate_scope AS is_corporate_scope,\n",
    "        np.is_posting_date AS is_posting_date,\n",
    "        np.is_other AS is_other;'''\n",
    "# print(cypher_str)\n",
    "with cu.driver.session() as session:\n",
    "    row_objs_list = session.write_transaction(cu.do_cypher_tx, cypher_str)\n",
    "row_objs_list"
   ]
  },
  {
   "cell_type": "code",
   "execution_count": null,
   "id": "35154bbf-2823-4a19-835b-038d352f2c8b",
   "metadata": {},
   "outputs": [],
   "source": [
    "\n",
    "# See if this particualr chld string is in the database\n",
    "cypher_str = f'''\n",
    "    MATCH (np:NavigableParents {{navigable_parent: '{child_str}'}})\n",
    "    RETURN\n",
    "        np.navigable_parent AS navigable_parent,\n",
    "        np.is_header AS is_header,\n",
    "        np.is_task_scope AS is_task_scope,\n",
    "        np.is_minimum_qualification AS is_minimum_qualification,\n",
    "        np.is_preferred_qualification AS is_preferred_qualification,\n",
    "        np.is_legal_notification AS is_legal_notification,\n",
    "        np.is_job_title AS is_job_title,\n",
    "        np.is_office_location AS is_office_location,\n",
    "        np.is_job_duration AS is_job_duration,\n",
    "        np.is_supplemental_pay AS is_supplemental_pay,\n",
    "        np.is_educational_requirement AS is_educational_requirement,\n",
    "        np.is_interview_procedure AS is_interview_procedure,\n",
    "        np.is_corporate_scope AS is_corporate_scope,\n",
    "        np.is_posting_date AS is_posting_date,\n",
    "        np.is_other AS is_other;'''\n",
    "# print(cypher_str)\n",
    "with cu.driver.session() as session:\n",
    "    row_objs_list = session.write_transaction(cu.do_cypher_tx, cypher_str)\n",
    "row_objs_list"
   ]
  },
  {
   "cell_type": "markdown",
   "id": "a188b08e-874a-41db-a163-2232b9c7cc55",
   "metadata": {},
   "source": [
    "\n",
    "----"
   ]
  },
  {
   "cell_type": "code",
   "execution_count": null,
   "id": "f00b97db-00ab-4ab9-8a22-323bbb5c6ddd",
   "metadata": {},
   "outputs": [],
   "source": [
    "\n",
    "# You've made no changes to the parts-of-speech symbols because it looks good as is\n",
    "file_name = cu.clean_text(file_name)\n",
    "cypher_str = f'''\n",
    "    MATCH (fn:FileNames {{file_name: \"{file_name}\"}})\n",
    "    SET fn.is_verfied = true;'''\n",
    "with cu.driver.session() as session:\n",
    "    session.write_transaction(cu.do_cypher_tx, cypher_str)"
   ]
  },
  {
   "cell_type": "code",
   "execution_count": null,
   "id": "dbe5ce2c-5c8c-4196-96de-ee38953e10e4",
   "metadata": {},
   "outputs": [],
   "source": [
    "\n",
    "# Mark the file name as needing retraining everywhere\n",
    "import numpy as np\n",
    "\n",
    "hunting_df = s.load_object('hunting_df')\n",
    "mask_series = hunting_df.percent_fit.isin([file_name])\n",
    "hunting_df.loc[mask_series, 'percent_fit'] = np.nan\n",
    "s.store_objects(hunting_df=hunting_df)\n",
    "file_name = cu.clean_text(file_name)\n",
    "cypher_str = f'''\n",
    "    MATCH (fn:FileNames {{file_name: \"{file_name}\"}})\n",
    "    SET fn.percent_fit = NULL;'''\n",
    "print(cypher_str)\n",
    "with cu.driver.session() as session:\n",
    "    session.write_transaction(cu.do_cypher_tx, cypher_str)"
   ]
  },
  {
   "cell_type": "code",
   "execution_count": null,
   "id": "125d81bc-c3f5-4023-b38d-88ff000d2eac",
   "metadata": {},
   "outputs": [],
   "source": [
    "\n",
    "# Remove this particular child string from the quals dictionary\n",
    "basic_quals_dict = s.load_object('basic_quals_dict')\n",
    "child_str = child_strs_list[idx]\n",
    "basic_quals_dict.pop(child_str)\n",
    "# basic_quals_dict[child_str] = 0\n",
    "s.store_objects(basic_quals_dict=basic_quals_dict)\n",
    "print(f'\"{child_str}\" in basic_quals_dict: {child_str in basic_quals_dict}')"
   ]
  },
  {
   "cell_type": "raw",
   "id": "970db600-c50f-49b3-adfc-4f11466fab97",
   "metadata": {},
   "source": [
    "\n",
    "# Mark all bad file names as needing retraining everywhere\n",
    "hunting_df = s.load_object('hunting_df')\n",
    "mask_series = hunting_df.percent_fit.isin([0.0, 1.0])\n",
    "files_list = [cu.clean_text(fn) for fn in hunting_df[mask_series].file_name]\n",
    "cypher_str = f'''\n",
    "    MATCH (fn:FileNames)\n",
    "    WHERE\n",
    "        fn.file_name IN {files_list} AND\n",
    "        fn.percent_fit IN [0.0, 1.0]\n",
    "    SET fn.percent_fit = NULL\n",
    "    RETURN fn.file_name AS file_name;'''\n",
    "# print(cypher_str)\n",
    "with cu.driver.session() as session:\n",
    "    row_objs_list = session.write_transaction(cu.do_cypher_tx, cypher_str)\n",
    "files_list = [list(row_obj.values())[0] for row_obj in row_objs_list]\n",
    "mask_series = hunting_df.file_name.isin(files_list)\n",
    "hunting_df.loc[mask_series, 'percent_fit'] = np.nan\n",
    "s.store_objects(hunting_df=hunting_df)"
   ]
  },
  {
   "cell_type": "code",
   "execution_count": null,
   "id": "331fed2d-c338-4070-837f-901464bf7ecd",
   "metadata": {},
   "outputs": [],
   "source": [
    "\n",
    "# Mark the files with the largest qualification (implying it was run together) as needing to be retrained\n",
    "import numpy as np\n",
    "\n",
    "hunting_df = s.load_object('hunting_df')\n",
    "basic_quals_dict = s.load_object('basic_quals_dict')\n",
    "child_str = sorted([child_str for child_str in basic_quals_dict.keys()], key=lambda x: len(x), reverse=True)[0]\n",
    "print(child_str)"
   ]
  },
  {
   "cell_type": "code",
   "execution_count": null,
   "id": "fa007ae4-4df4-4f06-88e5-65e6e062a7f4",
   "metadata": {},
   "outputs": [],
   "source": [
    "\n",
    "# Mark the files with the largest qualification (implying it was run together) as needing to be retrained\n",
    "basic_quals_dict.pop(child_str)\n",
    "s.store_objects(basic_quals_dict=basic_quals_dict)\n",
    "child_str = cu.clean_text(child_str)\n",
    "cypher_str = f'''\n",
    "    MATCH (np:NavigableParents {{navigable_parent: \"{child_str}\"}})-[r:NEXT]->(:NavigableParents)\n",
    "    RETURN r.file_name AS file_name;'''\n",
    "print(cypher_str)\n",
    "with cu.driver.session() as session:\n",
    "    row_objs_list = session.write_transaction(cu.do_cypher_tx, cypher_str)\n",
    "for row_obj in row_objs_list:\n",
    "    file_name = row_obj['file_name']\n",
    "    mask_series = hunting_df.file_name.isin([file_name])\n",
    "    hunting_df.loc[mask_series, 'percent_fit'] = np.nan\n",
    "    s.store_objects(hunting_df=hunting_df)\n",
    "    file_name = cu.clean_text(file_name)\n",
    "    cypher_str = f'''\n",
    "        MATCH (fn:FileNames {{file_name: \"{file_name}\"}})\n",
    "        SET fn.percent_fit = NULL;'''\n",
    "    # print(cypher_str)\n",
    "    with cu.driver.session() as session:\n",
    "        session.write_transaction(cu.do_cypher_tx, cypher_str)"
   ]
  },
  {
   "cell_type": "code",
   "execution_count": null,
   "id": "c736a1e7-d7ad-4220-8538-561d152ec2b7",
   "metadata": {},
   "outputs": [],
   "source": []
  }
 ],
 "metadata": {
  "kernelspec": {
   "display_name": "Python 3 (ipykernel)",
   "language": "python",
   "name": "python3"
  },
  "language_info": {
   "codemirror_mode": {
    "name": "ipython",
    "version": 3
   },
   "file_extension": ".py",
   "mimetype": "text/x-python",
   "name": "python",
   "nbconvert_exporter": "python",
   "pygments_lexer": "ipython3",
   "version": "3.9.7"
  }
 },
 "nbformat": 4,
 "nbformat_minor": 5
}
