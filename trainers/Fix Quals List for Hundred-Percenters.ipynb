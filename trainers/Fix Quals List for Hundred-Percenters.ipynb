{
 "cells": [
  {
   "cell_type": "code",
   "execution_count": null,
   "id": "ecb055c8-7f3e-4dd6-a2d0-fc7f70f0c5c8",
   "metadata": {},
   "outputs": [],
   "source": []
  },
  {
   "cell_type": "code",
   "execution_count": 1,
   "id": "7675b025-b593-4d53-9759-6c1e01772c22",
   "metadata": {},
   "outputs": [
    {
     "name": "stdout",
     "output_type": "stream",
     "text": [
      "Pretty printing has been turned OFF\n"
     ]
    }
   ],
   "source": [
    "\n",
    "%pprint"
   ]
  },
  {
   "cell_type": "code",
   "execution_count": 2,
   "id": "e8e9a76f-08eb-4a9c-9c53-4bf043e26661",
   "metadata": {},
   "outputs": [],
   "source": [
    "\n",
    "import sys\n",
    "\n",
    "# Insert at 1, 0 is the script path (or '' in REPL)\n",
    "sys.path.insert(1, '../py')"
   ]
  },
  {
   "cell_type": "code",
   "execution_count": 3,
   "id": "92346a3f-3506-4e2c-b030-4f4fa74f78fd",
   "metadata": {},
   "outputs": [
    {
     "name": "stdout",
     "output_type": "stream",
     "text": [
      "CPU times: total: 59.3 s\n",
      "Wall time: 1min 5s\n"
     ]
    }
   ],
   "source": [
    "\n",
    "%%time\n",
    "from pandas import DataFrame\n",
    "\n",
    "from storage import Storage\n",
    "s = Storage()\n",
    "\n",
    "from ha_utils import HeaderAnalysis\n",
    "ha = HeaderAnalysis(verbose=False)\n",
    "\n",
    "from scrape_utils import WebScrapingUtilities\n",
    "wsu = WebScrapingUtilities()\n",
    "uri = wsu.secrets_json['neo4j']['connect_url']\n",
    "user =  wsu.secrets_json['neo4j']['username']\n",
    "password = wsu.secrets_json['neo4j']['password']\n",
    "\n",
    "from cypher_utils import CypherUtilities\n",
    "cu = CypherUtilities(uri=uri, user=user, password=password, driver=None, s=s, ha=ha)\n",
    "\n",
    "from hc_utils import HeaderCategories\n",
    "hc = HeaderCategories(cu=cu, verbose=False)\n",
    "\n",
    "from section_utils import SectionUtilities\n",
    "su = SectionUtilities(s=s, ha=ha, cu=cu, verbose=False)\n",
    "\n",
    "from lr_utils import LrUtilities\n",
    "lru = LrUtilities(ha=ha, cu=cu, hc=hc, verbose=False)\n",
    "lru.build_isheader_logistic_regression_elements()\n",
    "lru.build_pos_logistic_regression_elements()\n",
    "\n",
    "import warnings\n",
    "warnings.filterwarnings('ignore')"
   ]
  },
  {
   "cell_type": "code",
   "execution_count": 1251,
   "id": "0ef4e001-3903-4cb2-8bb6-34500b5ac86b",
   "metadata": {},
   "outputs": [
    {
     "data": {
      "text/plain": [
       "['Senior_Data_Analyst_-_New_York_State_-_Indeed.com_880e4714f2ad94a8.html', 'Senior_Data_Analyst_-_Remote_-_Indeed.com_8294a1f3b06f6661.html', 'Senior_Data_Analyst_-_Trenton,_NJ_-_Indeed.com_67b8b52ee9319b6b.html', 'Senior_Data_Science_-_United_States_-_Indeed.com_eb7bcec5d5284bf2.html', 'Senior_Data_Scientist,_Research_&_Innovation_-_United_States_-_Indeed.com_2aa521071b572e0a.html']"
      ]
     },
     "execution_count": 1251,
     "metadata": {},
     "output_type": "execute_result"
    }
   ],
   "source": [
    "\n",
    "cypher_str = f'''\n",
    "    MATCH (fn:FileNames)\n",
    "    WHERE\n",
    "        fn.percent_fit IN [0.0, 1.0] AND\n",
    "        ((fn.is_verfied IS NULL) OR \n",
    "        (fn.is_verfied = false)) AND\n",
    "        ((fn.is_closed IS NULL) AND ((fn.is_opportunity_application_emailed IS NULL) OR \n",
    "        (fn.is_opportunity_application_emailed = false))) OR (fn.is_closed = false)\n",
    "    RETURN fn.file_name AS file_name\n",
    "    ORDER BY fn.percent_fit DESC;'''\n",
    "row_objs_list = []\n",
    "with cu.driver.session() as session:\n",
    "    row_objs_list = session.write_transaction(cu.do_cypher_tx, cypher_str)\n",
    "files_list = []\n",
    "if row_objs_list:\n",
    "    files_list = DataFrame(row_objs_list).file_name.tolist()\n",
    "files_list"
   ]
  },
  {
   "cell_type": "markdown",
   "id": "a4a2f3ec-44ee-4be3-b13e-02badca41da4",
   "metadata": {},
   "source": [
    "\n",
    "----"
   ]
  },
  {
   "cell_type": "code",
   "execution_count": 1252,
   "id": "151cdf71-a078-43b6-9a1b-649bb51461e5",
   "metadata": {},
   "outputs": [
    {
     "name": "stdout",
     "output_type": "stream",
     "text": [
      "Senior_Data_Scientist,_Research_&_Innovation_-_United_States_-_Indeed.com_2aa521071b572e0a.html\n"
     ]
    }
   ],
   "source": [
    "\n",
    "%run ../load_magic/dataframes.py\n",
    "\n",
    "file_name = files_list.pop()\n",
    "# file_name = 'Early_career_data_scientist_analyst_statistical_geneticist_-_Glen_Echo,_MD_-_Indeed.com_0ce02a3e84d031c6.html'\n",
    "print(file_name)\n",
    "file_path = os.path.join(cu.SAVES_HTML_FOLDER, file_name)\n",
    "page_soup = get_page_soup(file_path)\n",
    "div_soup = page_soup.find_all(name='div', id='jobDescriptionText')[0]\n",
    "child_strs_list = ha.get_navigable_children(div_soup, [])\n",
    "cu.ensure_filename(file_name, verbose=False)\n",
    "cu.populate_from_child_strings(child_strs_list, file_name, verbose=False)"
   ]
  },
  {
   "cell_type": "code",
   "execution_count": 1253,
   "id": "9488aa37-8a06-4b91-b051-762be55762dc",
   "metadata": {},
   "outputs": [
    {
     "name": "stdout",
     "output_type": "stream",
     "text": [
      "['b', 'b', 'li', 'li', 'li', 'b', 'plaintext', 'b', 'plaintext', 'b', 'plaintext', 'b', 'plaintext', 'b', 'plaintext', 'plaintext', 'plaintext', 'div', 'b', 'div', 'div', 'div', 'div', 'b', 'li', 'li', 'li', 'b', 'li', 'li', 'li', 'b', 'li', 'li', 'li', 'li', 'li', 'li', 'li', 'li', 'b', 'li', 'li', 'li', 'li', 'li', 'b', 'div', 'div', 'div']\n"
     ]
    }
   ],
   "source": [
    "\n",
    "child_tags_list = ha.get_child_tags_list(child_strs_list)\n",
    "print(child_tags_list)"
   ]
  },
  {
   "cell_type": "code",
   "execution_count": 1254,
   "id": "f209f452-115b-4789-b206-faa1adb25f8b",
   "metadata": {},
   "outputs": [],
   "source": [
    "\n",
    "is_header_list = []\n",
    "for is_header, child_str in zip(ha.get_is_header_list(child_strs_list), child_strs_list):\n",
    "    if is_header is None:\n",
    "        probs_list = lru.ISHEADER_PREDICT_PERCENT_FIT(child_str)\n",
    "        idx = probs_list.index(max(probs_list))\n",
    "        is_header = [True, False][idx]\n",
    "    is_header_list.append(is_header)"
   ]
  },
  {
   "cell_type": "raw",
   "id": "4384d89f-5286-4846-9ff4-11ee518b3dc2",
   "metadata": {},
   "source": [
    "\n",
    "# cu.create_h_pickle(verbose=True)\n",
    "NAVIGABLE_PARENT_IS_HEADER_DICT = s.load_object('NAVIGABLE_PARENT_IS_HEADER_DICT')\n",
    "for i, (is_header, child_str) in enumerate(zip(is_header_list, child_strs_list)):\n",
    "    print(i, NAVIGABLE_PARENT_IS_HEADER_DICT.get(child_str), is_header, child_str)"
   ]
  },
  {
   "cell_type": "code",
   "execution_count": 1255,
   "id": "6ab2b8bb-ddfd-455e-a5a0-06a613cdbd81",
   "metadata": {},
   "outputs": [
    {
     "data": {
      "text/plain": [
       "{'initial_tag': 'li', 'is_header': False, 'is_task_scope': None, 'is_minimum_qualification': None, 'is_preferred_qualification': None, 'is_legal_notification': None, 'is_job_title': None, 'is_office_location': None, 'is_job_duration': None, 'is_supplemental_pay': None, 'is_educational_requirement': None, 'is_interview_procedure': None, 'is_corporate_scope': None, 'is_posting_date': None, 'is_other': None, 'child_str': '<li>Region: North America</li>'}"
      ]
     },
     "execution_count": 1255,
     "metadata": {},
     "output_type": "execute_result"
    }
   ],
   "source": [
    "\n",
    "feature_dict_list = hc.get_feature_dict_list(child_tags_list, is_header_list, child_strs_list)\n",
    "feature_dict_list[4]"
   ]
  },
  {
   "cell_type": "code",
   "execution_count": 1256,
   "id": "bbc96eb8-35d0-47c3-b55a-073194a5adf5",
   "metadata": {},
   "outputs": [
    {
     "data": {
      "text/plain": [
       "('li', '<li>Region: North America</li>', 'O-CS')"
      ]
     },
     "execution_count": 1256,
     "metadata": {},
     "output_type": "execute_result"
    }
   ],
   "source": [
    "\n",
    "feature_tuple_list = []\n",
    "for feature_dict in feature_dict_list:\n",
    "    feature_tuple_list.append(hc.get_feature_tuple(feature_dict, lru.pos_lr_predict_single))\n",
    "feature_tuple_list[4]"
   ]
  },
  {
   "cell_type": "code",
   "execution_count": 1257,
   "id": "8ef8aa5a-fd24-4ab1-a31d-a7063770134d",
   "metadata": {},
   "outputs": [
    {
     "data": {
      "text/plain": [
       "['O-CS', 'O-OL', 'O-CS', 'O-CS', 'O-CS', 'O-LN', 'O-TS', 'O-LN', 'O-CS', 'O-TS', 'O-CS', 'O-RQ', 'H-TS', 'O-JD', 'O-CS', 'O-TS', 'O-TS', 'O-TS', 'H-TS', 'O-CS', 'O-TS', 'O-TS', 'H-TS', 'H-TS', 'O-TS', 'O-TS', 'O-TS', 'O-RQ', 'O-TS', 'O-RQ', 'O-TS', 'O-RQ', 'O-TS', 'O-RQ', 'O-RQ', 'O-TS', 'O-RQ', 'O-RQ', 'O-RQ', 'O-CS', 'H-RQ', 'O-TS', 'O-RQ', 'O-CS', 'O-TS', 'O-RQ', 'O-CS', 'H-RQ', 'O-JT', 'O-LN']"
      ]
     },
     "execution_count": 1257,
     "metadata": {},
     "output_type": "execute_result"
    }
   ],
   "source": [
    "\n",
    "from crf_utils import CrfUtilities\n",
    "crf = CrfUtilities(ha=ha, hc=hc, cu=cu, verbose=False)\n",
    "crf_list = crf.CRF.predict_single(crf.sent2features(feature_tuple_list))\n",
    "crf_list"
   ]
  },
  {
   "cell_type": "code",
   "execution_count": 1258,
   "id": "1918e8db-d426-465d-8b9f-b92e41ebc596",
   "metadata": {},
   "outputs": [
    {
     "data": {
      "text/plain": [
       "['O', 'H', 'O', 'O', 'O', 'H', 'O', 'H', 'O', 'H', 'O', 'H', 'O', 'H', 'O', 'O', 'O', 'O', 'O', 'O', 'O', 'O', 'O', 'H', 'O', 'O', 'O', 'O', 'O', 'O', 'O', 'O', 'O', 'O', 'O', 'O', 'O', 'O', 'O', 'O', 'H-RQ', 'O', 'O', 'O', 'O', 'O', 'O-O', 'O', 'O', 'O']"
      ]
     },
     "execution_count": 1258,
     "metadata": {},
     "output_type": "execute_result"
    }
   ],
   "source": [
    "\n",
    "db_pos_list = []\n",
    "for navigable_parent in child_strs_list:\n",
    "    db_pos_list = cu.append_parts_of_speech_list(navigable_parent, pos_list=db_pos_list)\n",
    "db_pos_list"
   ]
  },
  {
   "cell_type": "code",
   "execution_count": 1259,
   "id": "9fcd49e8-8e4b-4cda-b056-28c376b0df2c",
   "metadata": {},
   "outputs": [
    {
     "name": "stdout",
     "output_type": "stream",
     "text": [
      "['O-CS', 'O-OL', 'O-CS', 'O-CS', 'O-CS', 'O-LN', 'O-TS', 'O-LN', 'O-CS', 'O-TS', 'O-CS', 'O-RQ', 'H-TS', 'O-JD', 'O-CS', 'O-TS', 'O-TS', 'O-TS', 'H-TS', 'O-CS', 'O-TS', 'O-TS', 'H-TS', 'H-TS', 'O-TS', 'O-TS', 'O-TS', 'O-RQ', 'O-TS', 'O-RQ', 'O-TS', 'O-RQ', 'O-TS', 'O-RQ', 'O-RQ', 'O-TS', 'O-RQ', 'O-RQ', 'O-RQ', 'O-CS', 'H-RQ', 'O-TS', 'O-RQ', 'O-CS', 'O-TS', 'O-RQ', 'O-O', 'H-RQ', 'O-JT', 'O-LN']\n",
      "[42, 45]\n"
     ]
    },
    {
     "data": {
      "text/html": [
       "0 O-CS) <span style=\"color:#bcbd2280;\"><b>General Information (O-CS Corporate Scope Non-header)</b></span><br />1 O-OL) <span style=\"color:#9467bd80;\"><b>Location: (O-OL Office Location Non-header)</b></span><br />2 O-CS) <span style=\"color:#bcbd2280;\"><li>City: '- (O-CS Corporate Scope Non-header)</li></span><br />3 O-CS) <span style=\"color:#bcbd2280;\"><li>Country: USA (O-CS Corporate Scope Non-header)</li></span><br />4 O-CS) <span style=\"color:#bcbd2280;\"><li>Region: North America (O-CS Corporate Scope Non-header)</li></span><br />5 O-LN) <span style=\"color:#98df8a80;\"><b>Job Category: (O-LN Legal Notifications Non-header)</b></span><br />6 O-TS) <span style=\"color:#1f77b480;\">Research & Innovation (O-TS Task Scope Non-header)</span><br />7 O-LN) <span style=\"color:#98df8a80;\"><b>Job Type: (O-LN Legal Notifications Non-header)</b></span><br />8 O-CS) <span style=\"color:#bcbd2280;\">Regular (O-CS Corporate Scope Non-header)</span><br />9 O-TS) <span style=\"color:#1f77b480;\"><b>Type of Contract: (O-TS Task Scope Non-header)</b></span><br />10 O-CS) <span style=\"color:#bcbd2280;\">Permanent (O-CS Corporate Scope Non-header)</span><br />11 O-RQ) <span style=\"color:#aec7e880;\"><b>Working time: (O-RQ Required Qualifications Non-header)</b></span><br />12 H-TS) <span style=\"color:#1f77b4ff;\">Full-time (H-TS Task Scope Header)</span><br />13 O-JD) <span style=\"color:#8c564b80;\"><b>Work schedule: (O-JD Job Duration Non-header)</b></span><br />14 O-CS) <span style=\"color:#bcbd2280;\">Day shift (O-CS Corporate Scope Non-header)</span><br />15 O-TS) <span style=\"color:#1f77b480;\">Solvay is a science company whose technologies bring benefits to many aspects of daily life. With more than 24,100 employees in 64 countries, Solvay bonds people, ideas and elements to reinvent progress. The Group seeks to create sustainable shared value for all, notably through its Solvay One Planet plan crafted around three pillars: protecting the climate, preserving resources and fostering better life. The Group’s innovative solutions contribute to safer, cleaner, and more sustainable products found in homes, food and consumer goods, planes, cars, batteries, smart devices, health care applications, water and air purification systems. Founded in 1863, Solvay today ranks among the world’s top three companies for the vast majority of its activities and delivered net sales of €10.2 billion in 2019. Solvay is listed on Euronext Brussels (SOLB) and Paris and in the United States, where its shares (SOLVY) are traded through a Level I ADR program. (O-TS Task Scope Non-header)</span><br />16 O-TS) <span style=\"color:#1f77b480;\">The Research & Innovation function (R&I) leads Solvay into new growth territories with breakthrough innovation to generate new products, applications and processes in the field of sustainable chemistry. Partners with the GBUs to deliver more value and leverages the Group’s capabilities to improve competitiveness and create new business opportunities for Solvay and its customers. (O-TS Task Scope Non-header)</span><br />17 O-TS) <span style=\"color:#1f77b480;\"><div>In the context of the G.R.O.W. strategy and the Solvay One Planet initiative of the Solvay Group, we are looking for an experienced Artificial Intelligence / Augmented Intelligence Senior Data Scientist to support our scientific computing acceleration, with a focus on materials science. (O-TS Task Scope Non-header)</div></span><br />18 H-TS) <span style=\"color:#1f77b4ff;\"><b>Job Overview and Responsibilities (H-TS Task Scope Header)</b></span><br />19 O-CS) <span style=\"color:#bcbd2280;\"><div>Solvay Group has established a Virtual R&amp;I Project to enhance our researchers and transform the Group Research &amp; Innovation (R&amp;I) operations. This is a highly strategic, fast moving project, that aims at delivering concrete value for the Group. (O-CS Corporate Scope Non-header)</div></span><br />20 O-TS) <span style=\"color:#1f77b480;\"><div>The Senior Data Scientist will report to the AI Team Lead. He/she will work closely with other teams, as well as Lab Managers and Business teams. (O-TS Task Scope Non-header)</div></span><br />21 O-TS) <span style=\"color:#1f77b480;\"><div>The Senior Data Scientist will have execution delivery responsibilities on specific research projects. He/she will be responsible for transformative projects to change the way we operate our research operations and propose new value creation solutions. (O-TS Task Scope Non-header)</div></span><br />22 H-TS) <span style=\"color:#1f77b4ff;\"><div>A close collaboration with our IT department, Functions and strategic cross-entity initiatives is expected to successfully progress beyond. (H-TS Task Scope Header)</div></span><br />23 H-TS) <span style=\"color:#1f77b4ff;\"><b>The role includes responsibility for: (H-TS Task Scope Header)</b></span><br />24 O-TS) <span style=\"color:#1f77b480;\"><li>Pre-diagnosis and diagnosis of a specific research challenge (O-TS Task Scope Non-header)</li></span><br />25 O-TS) <span style=\"color:#1f77b480;\"><li>Deployment of an MVP or industrialize a model to be integrated into daily activities of a laboratory or with a positive business impact (O-TS Task Scope Non-header)</li></span><br />26 O-TS) <span style=\"color:#1f77b480;\"><li>Actively contribute to the development of the AI expertise with the Group R&amp;I and the Solvay Group (O-TS Task Scope Non-header)</li></span><br />27 O-RQ) <span style=\"color:#aec7e880;\"><b>What you will learn? (O-RQ Required Qualifications Non-header)</b></span><br />28 O-TS) <span style=\"color:#1f77b480;\"><li>Implications on the most strategic research projects of the Solvay Group (O-TS Task Scope Non-header)</li></span><br />29 O-RQ) <span style=\"color:#aec7e880;\"><li>A lot of experience from other data scientists (O-RQ Required Qualifications Non-header)</li></span><br />30 O-TS) <span style=\"color:#1f77b480;\"><li>An exposure to the whole chain of digital activities (automation &amp; robotics, cobotics, data management, application development, modelling, simulation…) (O-TS Task Scope Non-header)</li></span><br />31 O-RQ) <span style=\"color:#aec7e880;\"><b>Education and Experience (O-RQ Required Qualifications Non-header)</b></span><br />32 O-TS) <span style=\"color:#1f77b480;\"><li>PhD (preferred) or MS in Data and Computer Sciences, Material Sciences, Complex Systems, Mathematics and Physics, Material Informatics, Cheminformatics or equivalent (O-TS Task Scope Non-header)</li></span><br />33 O-RQ) <span style=\"color:#aec7e880;\"><li>Working experience with Materials Informatics, Cheminformatics and Molecular Modelling &amp; Simulation tools (O-RQ Required Qualifications Non-header)</li></span><br />34 O-RQ) <span style=\"color:#aec7e880;\"><li>A minimum of 5 years of data science and AI experience (O-RQ Required Qualifications Non-header)</li></span><br />35 O-TS) <span style=\"color:#1f77b480;\"><li>An excellent knowledge of material informatics and/or cheminformatics (O-TS Task Scope Non-header)</li></span><br />36 O-RQ) <span style=\"color:#aec7e880;\"><li>A good knowledge of R, python, SQL querying or any other code (O-RQ Required Qualifications Non-header)</li></span><br />37 O-RQ) <span style=\"color:#aec7e880;\"><li>A good knowledge of common statistical models, machine learning, deep learning algorithms used in data science. (O-RQ Required Qualifications Non-header)</li></span><br />38 O-RQ) <span style=\"color:#aec7e880;\"><li>Training and experience with Agile practices (O-RQ Required Qualifications Non-header)</li></span><br />39 O-CS) <span style=\"color:#bcbd2280;\"><li>Experience with academia world, high-growth companies (O-CS Corporate Scope Non-header)</li></span><br />40 H-RQ) <span style=\"color:#aec7e8ff;\"><b>Skills (H-RQ Required Qualifications Header)</b></span><br />41 O-TS) <span style=\"color:#1f77b480;\"><li>Real capability to exemplify a highly collaborative mindset and escalate issues in a manner that is effective and direct (O-TS Task Scope Non-header)</li></span><br /><hr />42 O-RQ) <span style=\"color:#aec7e880;\"><li>Easiness to build strong relationships with peers and colleagues across the Group R&amp;I organization, and with key business clients (O-RQ Required Qualifications Non-header)</li></span><br />43 O-CS) <span style=\"color:#bcbd2280;\"><li>Eagerness to serve as a trusted advisor to the Digital Champion Group R&amp;I, Virtual R&amp;I team, clients and stakeholders (O-CS Corporate Scope Non-header)</li></span><br />44 O-TS) <span style=\"color:#1f77b480;\"><li>Understanding of business strategies, values, goal and objectives (O-TS Task Scope Non-header)</li></span><br />45 O-RQ) <span style=\"color:#aec7e880;\"><li>Communication ability to present status, risks and issues in a direct and timely manner (O-RQ Required Qualifications Non-header)</li></span><br /><hr />46 O-O) <span style=\"color:#9edae580;\"><b>Additional Information (O-O Other Non-header)</b></span><br />47 H-RQ) <span style=\"color:#aec7e8ff;\"><div>You must have authorization to work in the United Sates without sponsorship now or in the future. (H-RQ Required Qualifications Header)</div></span><br />48 O-JT) <span style=\"color:#d6272880;\"><div>This position can be located anywhere in the United Sates or work from Home. (O-JT Job Title Non-header)</div></span><br />49 O-LN) <span style=\"color:#98df8a80;\"><div>We are an equal opportunity employer and all qualified applicants will receive consideration for employment without regard to race, color, religion, sex, national origin, disability status, protected veteran status, or any other characteristic protected by law. (O-LN Legal Notifications Non-header)</div></span><br />"
      ],
      "text/plain": [
       "<IPython.core.display.HTML object>"
      ]
     },
     "metadata": {},
     "output_type": "display_data"
    }
   ],
   "source": [
    "\n",
    "from matplotlib.colors import to_hex\n",
    "from IPython.display import HTML, display\n",
    "\n",
    "# Make an RGB dictionary of all the parts-of-speech symbols\n",
    "rgba_dict = su.get_pos_color_dictionary()\n",
    "\n",
    "html_str = ''\n",
    "pos_list = []\n",
    "for i, (crf_symbol, db_symbol) in enumerate(zip(crf_list, db_pos_list)):\n",
    "    if db_symbol in [None, 'O', 'H']:\n",
    "        pos_list.append(crf_symbol)\n",
    "    else:\n",
    "        pos_list.append(db_symbol)\n",
    "print(pos_list)\n",
    "indices_list = su.get_section(pos_list)\n",
    "print(indices_list)\n",
    "for i, (child_str, pos_symbol) in enumerate(zip(child_strs_list, pos_list)):\n",
    "    rgba = rgba_dict[pos_symbol]\n",
    "    hex_str = to_hex(rgba, keep_alpha=True)\n",
    "    if len(indices_list) and (i == min(indices_list)):\n",
    "        html_str += '<hr />'\n",
    "    child_str = su.append_pos_symbol(child_str, pos_symbol, use_explanation=True)\n",
    "    html_str += f'{i+0} {pos_symbol}) <span style=\"color:{hex_str};\">{child_str}</span><br />'\n",
    "    if len(indices_list) and (i == max(indices_list)):\n",
    "        html_str += '<hr />'\n",
    "display(HTML(html_str))"
   ]
  },
  {
   "cell_type": "markdown",
   "id": "2f92043d-227f-423e-9890-bf1aa34b1303",
   "metadata": {},
   "source": [
    "\n",
    "----"
   ]
  },
  {
   "cell_type": "code",
   "execution_count": 1260,
   "id": "5b32ce35-6670-4523-9d03-015542cb3818",
   "metadata": {},
   "outputs": [
    {
     "ename": "RuntimeError",
     "evalue": "No active exception to reraise",
     "output_type": "error",
     "traceback": [
      "\u001b[1;31m---------------------------------------------------------------------------\u001b[0m",
      "\u001b[1;31mRuntimeError\u001b[0m                              Traceback (most recent call last)",
      "Input \u001b[1;32mIn [1260]\u001b[0m, in \u001b[0;36m<cell line: 1>\u001b[1;34m()\u001b[0m\n\u001b[1;32m----> 1\u001b[0m \u001b[38;5;28;01mraise\u001b[39;00m\n",
      "\u001b[1;31mRuntimeError\u001b[0m: No active exception to reraise"
     ]
    }
   ],
   "source": [
    "\n",
    "raise"
   ]
  },
  {
   "cell_type": "code",
   "execution_count": null,
   "id": "1d97acb2-2b60-4a56-9b3b-ecfc2b6582e6",
   "metadata": {},
   "outputs": [],
   "source": [
    "\n",
    "# Hand-label individual child strings\n",
    "idx = 42\n",
    "child_str = child_strs_list[idx]\n",
    "basic_quals_dict = s.load_object('basic_quals_dict')\n",
    "if(child_str in basic_quals_dict):\n",
    "    print(basic_quals_dict[child_str])\n",
    "child_str = cu.clean_text(child_str)\n",
    "print(child_str)"
   ]
  },
  {
   "cell_type": "code",
   "execution_count": null,
   "id": "c905300c-bb4a-4e3d-b5cf-b474fbcec75b",
   "metadata": {},
   "outputs": [],
   "source": [
    "\n",
    "cypher_str = f'''\n",
    "    MATCH (np:NavigableParents {{navigable_parent: '{child_str}'}})\n",
    "    SET\n",
    "        np.is_header = 'False',\n",
    "        np.is_task_scope = 'False',\n",
    "        np.is_minimum_qualification = 'True',\n",
    "        np.is_preferred_qualification = 'False',\n",
    "        np.is_legal_notification = 'False',\n",
    "        np.is_job_title = 'False',\n",
    "        np.is_office_location = 'False',\n",
    "        np.is_job_duration = 'False',\n",
    "        np.is_supplemental_pay = 'False',\n",
    "        np.is_educational_requirement = 'False',\n",
    "        np.is_interview_procedure = 'False',\n",
    "        np.is_corporate_scope = 'False',\n",
    "        np.is_posting_date = 'False',\n",
    "        np.is_other = 'False'\n",
    "    RETURN\n",
    "        np.navigable_parent AS navigable_parent,\n",
    "        np.is_header AS is_header,\n",
    "        np.is_task_scope AS is_task_scope,\n",
    "        np.is_minimum_qualification AS is_minimum_qualification,\n",
    "        np.is_preferred_qualification AS is_preferred_qualification,\n",
    "        np.is_legal_notification AS is_legal_notification,\n",
    "        np.is_job_title AS is_job_title,\n",
    "        np.is_office_location AS is_office_location,\n",
    "        np.is_job_duration AS is_job_duration,\n",
    "        np.is_supplemental_pay AS is_supplemental_pay,\n",
    "        np.is_educational_requirement AS is_educational_requirement,\n",
    "        np.is_interview_procedure AS is_interview_procedure,\n",
    "        np.is_corporate_scope AS is_corporate_scope,\n",
    "        np.is_posting_date AS is_posting_date,\n",
    "        np.is_other AS is_other;'''\n",
    "# print(cypher_str)\n",
    "with cu.driver.session() as session:\n",
    "    row_objs_list = session.write_transaction(cu.do_cypher_tx, cypher_str)\n",
    "row_objs_list"
   ]
  },
  {
   "cell_type": "code",
   "execution_count": null,
   "id": "35154bbf-2823-4a19-835b-038d352f2c8b",
   "metadata": {},
   "outputs": [],
   "source": [
    "\n",
    "# See if this particualr chld string is in the database\n",
    "cypher_str = f'''\n",
    "    MATCH (np:NavigableParents {{navigable_parent: '{child_str}'}})\n",
    "    RETURN\n",
    "        np.navigable_parent AS navigable_parent,\n",
    "        np.is_header AS is_header,\n",
    "        np.is_task_scope AS is_task_scope,\n",
    "        np.is_minimum_qualification AS is_minimum_qualification,\n",
    "        np.is_preferred_qualification AS is_preferred_qualification,\n",
    "        np.is_legal_notification AS is_legal_notification,\n",
    "        np.is_job_title AS is_job_title,\n",
    "        np.is_office_location AS is_office_location,\n",
    "        np.is_job_duration AS is_job_duration,\n",
    "        np.is_supplemental_pay AS is_supplemental_pay,\n",
    "        np.is_educational_requirement AS is_educational_requirement,\n",
    "        np.is_interview_procedure AS is_interview_procedure,\n",
    "        np.is_corporate_scope AS is_corporate_scope,\n",
    "        np.is_posting_date AS is_posting_date,\n",
    "        np.is_other AS is_other;'''\n",
    "# print(cypher_str)\n",
    "with cu.driver.session() as session:\n",
    "    row_objs_list = session.write_transaction(cu.do_cypher_tx, cypher_str)\n",
    "row_objs_list"
   ]
  },
  {
   "cell_type": "markdown",
   "id": "a188b08e-874a-41db-a163-2232b9c7cc55",
   "metadata": {},
   "source": [
    "\n",
    "----"
   ]
  },
  {
   "cell_type": "code",
   "execution_count": null,
   "id": "f00b97db-00ab-4ab9-8a22-323bbb5c6ddd",
   "metadata": {},
   "outputs": [],
   "source": [
    "\n",
    "# You've made no changes to the parts-of-speech symbols because it looks good as is\n",
    "file_name = cu.clean_text(file_name)\n",
    "cypher_str = f'''\n",
    "    MATCH (fn:FileNames {{file_name: \"{file_name}\"}})\n",
    "    SET fn.is_verfied = true;'''\n",
    "with cu.driver.session() as session:\n",
    "    session.write_transaction(cu.do_cypher_tx, cypher_str)"
   ]
  },
  {
   "cell_type": "code",
   "execution_count": null,
   "id": "dbe5ce2c-5c8c-4196-96de-ee38953e10e4",
   "metadata": {},
   "outputs": [],
   "source": [
    "\n",
    "# Mark the file name as needing retraining everywhere\n",
    "import numpy as np\n",
    "\n",
    "hunting_df = s.load_object('hunting_df')\n",
    "mask_series = hunting_df.percent_fit.isin([file_name])\n",
    "hunting_df.loc[mask_series, 'percent_fit'] = np.nan\n",
    "s.store_objects(hunting_df=hunting_df)\n",
    "file_name = cu.clean_text(file_name)\n",
    "cypher_str = f'''\n",
    "    MATCH (fn:FileNames {{file_name: \"{file_name}\"}})\n",
    "    SET fn.percent_fit = NULL;'''\n",
    "# print(cypher_str)\n",
    "with cu.driver.session() as session:\n",
    "    session.write_transaction(cu.do_cypher_tx, cypher_str)"
   ]
  },
  {
   "cell_type": "code",
   "execution_count": null,
   "id": "125d81bc-c3f5-4023-b38d-88ff000d2eac",
   "metadata": {},
   "outputs": [],
   "source": [
    "\n",
    "# Remove this particular child string from the quals dictionary\n",
    "basic_quals_dict = s.load_object('basic_quals_dict')\n",
    "child_str = child_strs_list[idx]\n",
    "basic_quals_dict.pop(child_str)\n",
    "s.store_objects(basic_quals_dict=basic_quals_dict)\n",
    "print(f'\"{child_str}\" in basic_quals_dict: {child_str in basic_quals_dict}')"
   ]
  },
  {
   "cell_type": "raw",
   "id": "970db600-c50f-49b3-adfc-4f11466fab97",
   "metadata": {},
   "source": [
    "\n",
    "hunting_df = s.load_object('hunting_df')\n",
    "mask_series = hunting_df.percent_fit.isin([0.0, 1.0])\n",
    "files_list = [cu.clean_text(fn) for fn in hunting_df[mask_series].file_name]\n",
    "cypher_str = f'''\n",
    "    MATCH (fn:FileNames)\n",
    "    WHERE\n",
    "        fn.file_name IN {files_list} AND\n",
    "        fn.percent_fit IN [0.0, 1.0]\n",
    "    SET fn.percent_fit = NULL\n",
    "    RETURN fn.file_name AS file_name;'''\n",
    "# print(cypher_str)\n",
    "with cu.driver.session() as session:\n",
    "    row_objs_list = session.write_transaction(cu.do_cypher_tx, cypher_str)\n",
    "files_list = [list(row_obj.values())[0] for row_obj in row_objs_list]\n",
    "mask_series = hunting_df.file_name.isin(files_list)\n",
    "hunting_df.loc[mask_series, 'percent_fit'] = np.nan\n",
    "s.store_objects(hunting_df=hunting_df)"
   ]
  },
  {
   "cell_type": "code",
   "execution_count": null,
   "id": "331fed2d-c338-4070-837f-901464bf7ecd",
   "metadata": {},
   "outputs": [],
   "source": [
    "\n",
    "# Mark the files with the largest qualification (implying it was run together) as needing to be retrained\n",
    "import numpy as np\n",
    "\n",
    "hunting_df = s.load_object('hunting_df')\n",
    "basic_quals_dict = s.load_object('basic_quals_dict')\n",
    "child_str = sorted([child_str for child_str in basic_quals_dict.keys()], key=lambda x: len(x), reverse=True)[0]\n",
    "print(child_str)"
   ]
  },
  {
   "cell_type": "code",
   "execution_count": null,
   "id": "fa007ae4-4df4-4f06-88e5-65e6e062a7f4",
   "metadata": {},
   "outputs": [],
   "source": [
    "\n",
    "# Mark the files with the largest qualification (implying it was run together) as needing to be retrained\n",
    "basic_quals_dict.pop(child_str)\n",
    "s.store_objects(basic_quals_dict=basic_quals_dict)\n",
    "child_str = cu.clean_text(child_str)\n",
    "cypher_str = f'''\n",
    "    MATCH (np:NavigableParents {{navigable_parent: \"{child_str}\"}})-[r:NEXT]->(:NavigableParents)\n",
    "    RETURN r.file_name AS file_name;'''\n",
    "print(cypher_str)\n",
    "with cu.driver.session() as session:\n",
    "    row_objs_list = session.write_transaction(cu.do_cypher_tx, cypher_str)\n",
    "for row_obj in row_objs_list:\n",
    "    file_name = row_obj['file_name']\n",
    "    mask_series = hunting_df.file_name.isin([file_name])\n",
    "    hunting_df.loc[mask_series, 'percent_fit'] = np.nan\n",
    "    s.store_objects(hunting_df=hunting_df)\n",
    "    file_name = cu.clean_text(file_name)\n",
    "    cypher_str = f'''\n",
    "        MATCH (fn:FileNames {{file_name: \"{file_name}\"}})\n",
    "        SET fn.percent_fit = NULL;'''\n",
    "    # print(cypher_str)\n",
    "    with cu.driver.session() as session:\n",
    "        session.write_transaction(cu.do_cypher_tx, cypher_str)"
   ]
  },
  {
   "cell_type": "code",
   "execution_count": null,
   "id": "c736a1e7-d7ad-4220-8538-561d152ec2b7",
   "metadata": {},
   "outputs": [],
   "source": []
  }
 ],
 "metadata": {
  "kernelspec": {
   "display_name": "Python 3 (ipykernel)",
   "language": "python",
   "name": "python3"
  },
  "language_info": {
   "codemirror_mode": {
    "name": "ipython",
    "version": 3
   },
   "file_extension": ".py",
   "mimetype": "text/x-python",
   "name": "python",
   "nbconvert_exporter": "python",
   "pygments_lexer": "ipython3",
   "version": "3.9.7"
  }
 },
 "nbformat": 4,
 "nbformat_minor": 5
}
