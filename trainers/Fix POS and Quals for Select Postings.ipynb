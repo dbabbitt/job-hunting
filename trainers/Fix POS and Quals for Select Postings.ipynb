{
 "cells": [
  {
   "cell_type": "code",
   "execution_count": 1,
   "id": "7675b025-b593-4d53-9759-6c1e01772c22",
   "metadata": {},
   "outputs": [
    {
     "name": "stdout",
     "output_type": "stream",
     "text": [
      "Pretty printing has been turned OFF\n"
     ]
    }
   ],
   "source": [
    "\n",
    "%pprint"
   ]
  },
  {
   "cell_type": "code",
   "execution_count": 2,
   "id": "e8e9a76f-08eb-4a9c-9c53-4bf043e26661",
   "metadata": {},
   "outputs": [],
   "source": [
    "\n",
    "import sys\n",
    "\n",
    "# Insert at 1, 0 is the script path (or '' in REPL)\n",
    "sys.path.insert(1, '../py')"
   ]
  },
  {
   "cell_type": "code",
   "execution_count": 3,
   "id": "ee342571-b35a-4688-850c-8aad13befcb3",
   "metadata": {},
   "outputs": [],
   "source": [
    "\n",
    "# Get the Neo4j driver\n",
    "from storage import Storage\n",
    "s = Storage()\n",
    "\n",
    "from ha_utils import HeaderAnalysis\n",
    "ha = HeaderAnalysis(verbose=False)\n",
    "\n",
    "from scrape_utils import WebScrapingUtilities\n",
    "wsu = WebScrapingUtilities(s=s)\n",
    "uri = wsu.secrets_json['neo4j']['connect_url']\n",
    "user =  wsu.secrets_json['neo4j']['username']\n",
    "password = wsu.secrets_json['neo4j']['password']\n",
    "\n",
    "from cypher_utils import CypherUtilities\n",
    "cu = CypherUtilities(uri=uri, user=user, password=password, driver=None, s=s, ha=ha)"
   ]
  },
  {
   "cell_type": "code",
   "execution_count": 4,
   "id": "9d7dd43f-2080-40e0-84a3-f9a7fdd934dd",
   "metadata": {},
   "outputs": [
    {
     "name": "stdout",
     "output_type": "stream",
     "text": [
      "======== Neo4j/4.4.7 ========\n"
     ]
    }
   ],
   "source": [
    "\n",
    "from neo4j.exceptions import ServiceUnavailable\n",
    "\n",
    "try:\n",
    "    version_str = cu.driver.verify_connectivity()\n",
    "    print(f'======== {version_str} ========')\n",
    "    \n",
    "    from hc_utils import HeaderCategories\n",
    "    hc = HeaderCategories(cu=cu, verbose=False)\n",
    "    \n",
    "    from section_utils import SectionUtilities\n",
    "    su = SectionUtilities(s=s, ha=ha, cu=cu, verbose=False)\n",
    "    \n",
    "    from lr_utils import LrUtilities\n",
    "    lru = LrUtilities(ha=ha, cu=cu, hc=hc, verbose=False)\n",
    "    \n",
    "    from crf_utils import CrfUtilities\n",
    "    crf = CrfUtilities(ha=ha, hc=hc, cu=cu, verbose=False)\n",
    "    \n",
    "    import warnings\n",
    "    warnings.filterwarnings('ignore')\n",
    "except ServiceUnavailable as e:\n",
    "    # print(str(e).strip())\n",
    "    raise ServiceUnavailable('You need to start Neo4j as a console')\n",
    "except Exception as e:\n",
    "    print(e.__class__)"
   ]
  },
  {
   "cell_type": "code",
   "execution_count": 5,
   "id": "7c2c759f-11f4-4bf8-bc61-35c4b4d1c31b",
   "metadata": {},
   "outputs": [
    {
     "name": "stdout",
     "output_type": "stream",
     "text": [
      "Last run on 2022-12-15 18:53:05.423956\n"
     ]
    }
   ],
   "source": [
    "\n",
    "import time\n",
    "import humanize\n",
    "from pandas import DataFrame\n",
    "import os\n",
    "from datetime import datetime\n",
    "import winsound\n",
    "\n",
    "duration = 1000  # milliseconds\n",
    "freq = 440  # Hz\n",
    "print(f'Last run on {datetime.now()}')"
   ]
  },
  {
   "cell_type": "markdown",
   "id": "b2d85a2e-5f1b-4cbe-a2df-944f8bf19523",
   "metadata": {},
   "source": [
    "\n",
    "---\n",
    "# Training"
   ]
  },
  {
   "cell_type": "code",
   "execution_count": 320,
   "id": "51e3644d-7c49-46d0-9af8-e559dff89a19",
   "metadata": {},
   "outputs": [
    {
     "name": "stdout",
     "output_type": "stream",
     "text": [
      "Is-header classifier retrained in 16 seconds\n"
     ]
    }
   ],
   "source": [
    "\n",
    "# Is-header must be retrained before parts-of-speech\n",
    "t0 = time.time()\n",
    "lru.build_isheader_logistic_regression_elements(verbose=False)\n",
    "lru.retrain_isheader_classifier(verbose=False)\n",
    "duration_str = humanize.precisedelta(time.time() - t0, minimum_unit='seconds', format='%0.0f')\n",
    "winsound.Beep(freq, duration)\n",
    "print(f'Is-header classifier retrained in {duration_str}')"
   ]
  },
  {
   "cell_type": "code",
   "execution_count": 321,
   "id": "bf51ee4a-d5bd-4354-9ca6-be20dabf65b2",
   "metadata": {},
   "outputs": [
    {
     "name": "stdout",
     "output_type": "stream",
     "text": [
      "Parts-of-speech classifier retrained in 8 minutes and 55 seconds\n"
     ]
    }
   ],
   "source": [
    "\n",
    "t0 = time.time()\n",
    "lru.build_pos_logistic_regression_elements(verbose=False)\n",
    "crf.retrain_pos_classifier(verbose=False)\n",
    "duration_str = humanize.precisedelta(time.time() - t0, minimum_unit='seconds', format='%0.0f')\n",
    "winsound.Beep(freq, duration)\n",
    "print(f'Parts-of-speech classifier retrained in {duration_str}')"
   ]
  },
  {
   "cell_type": "code",
   "execution_count": 322,
   "id": "ccd80ea2-341e-4672-b810-f4c500ab8b12",
   "metadata": {},
   "outputs": [
    {
     "name": "stdout",
     "output_type": "stream",
     "text": [
      "I have 6,568 hand-labeled qualification strings in here\n",
      "Pickling to C:\\Users\\daveb\\OneDrive\\Documents\\GitHub\\job-hunting\\saves\\pkl\\basic_quals_dict.pkl\n",
      "Pickling to C:\\Users\\daveb\\OneDrive\\Documents\\GitHub\\job-hunting\\saves\\pkl\\basic_quals_df.pkl\n",
      "Pickling to C:\\Users\\daveb\\OneDrive\\Documents\\GitHub\\job-hunting\\saves\\pkl\\ISQUALIFIED_VOCAB.pkl\n",
      "Pickling to C:\\Users\\daveb\\OneDrive\\Documents\\GitHub\\job-hunting\\saves\\pkl\\ISQUALIFIED_TT.pkl\n",
      "Pickling to C:\\Users\\daveb\\OneDrive\\Documents\\GitHub\\job-hunting\\saves\\pkl\\ISQUALIFIED_LR.pkl\n",
      "Retraining complete\n",
      "Is-qualified classifer retrained in 21 seconds\n"
     ]
    }
   ],
   "source": [
    "\n",
    "# Rebuild the classifer from the quals dictionary\n",
    "t0 = time.time()\n",
    "lru.build_isqualified_logistic_regression_elements(verbose=False)\n",
    "lru.retrain_isqualified_classifier(verbose=True)\n",
    "duration_str = humanize.precisedelta(time.time() - t0, minimum_unit='seconds', format='%0.0f')\n",
    "winsound.Beep(freq, duration)\n",
    "print(f'Is-qualified classifer retrained in {duration_str}')"
   ]
  },
  {
   "cell_type": "code",
   "execution_count": 324,
   "id": "82dab229-b28c-4ddd-812d-6abf153aae3b",
   "metadata": {},
   "outputs": [
    {
     "name": "stdout",
     "output_type": "stream",
     "text": [
      "Only 0 more mis-estimated minimum-requirements-met percentages to go!\n"
     ]
    }
   ],
   "source": [
    "\n",
    "navigable_parent_cypher_str = '''\n",
    "    MATCH (np:NavigableParents {{navigable_parent: '{}'}})\n",
    "    ''' + cu.return_everything_str + ';'\n",
    "cypher_str = f'''\n",
    "    MATCH (fn:FileNames)\n",
    "    WHERE\n",
    "        fn.percent_fit < 0.4 AND\n",
    "        ((fn.is_closed IS NULL) OR (fn.is_closed = false)) AND\n",
    "        ((fn.is_verified IS NULL) OR (fn.is_verified = false)) AND\n",
    "        ((fn.is_opportunity_application_emailed IS NULL) OR\n",
    "        (fn.is_opportunity_application_emailed = false))\n",
    "    RETURN\n",
    "        fn.percent_fit AS percent_fit,\n",
    "        fn.file_name AS file_name,\n",
    "        fn.posting_url AS url\n",
    "    ORDER BY fn.percent_fit ASC;'''\n",
    "row_objs_list = []\n",
    "with cu.driver.session() as session:\n",
    "    row_objs_list = session.write_transaction(cu.do_cypher_tx, cypher_str)\n",
    "files_list = []\n",
    "if row_objs_list:\n",
    "    files_list = DataFrame(row_objs_list).file_name.tolist()\n",
    "print(f'Only {len(files_list)} more mis-estimated minimum-requirements-met percentages to go!')"
   ]
  },
  {
   "cell_type": "markdown",
   "id": "a4a2f3ec-44ee-4be3-b13e-02badca41da4",
   "metadata": {},
   "source": [
    "\n",
    "----"
   ]
  },
  {
   "cell_type": "code",
   "execution_count": 293,
   "id": "151cdf71-a078-43b6-9a1b-649bb51461e5",
   "metadata": {},
   "outputs": [
    {
     "name": "stdout",
     "output_type": "stream",
     "text": [
      "HPC_User_Environment_Architect_Remote_Friendly_San_Francisco_Bay_Area_CA_Indeed_com.html\n"
     ]
    }
   ],
   "source": [
    "\n",
    "# file_name = 'eca2876d9f354127_Security_Software_Engineer_L5_Detection_Engineering_Remote_Indeed_com.html'\n",
    "file_name = files_list.pop()\n",
    "file_path = os.path.join(cu.SAVES_HTML_FOLDER, file_name)\n",
    "page_soup = wsu.get_page_soup(file_path)\n",
    "div_soup = page_soup.find_all(name='div', id='jobDescriptionText')[0]\n",
    "child_strs_list = ha.get_navigable_children(div_soup, [])\n",
    "cu.ensure_filename(file_name, verbose=False)\n",
    "cu.populate_from_child_strings(child_strs_list, file_name, verbose=False)\n",
    "print(file_name)"
   ]
  },
  {
   "cell_type": "code",
   "execution_count": 294,
   "id": "99fcd0c5-e0ac-431d-bacd-b22a7b5ed4d5",
   "metadata": {},
   "outputs": [
    {
     "name": "stdout",
     "output_type": "stream",
     "text": [
      "['O-TS', 'O-TS', 'H-TS', 'O-TS', 'O-TS', 'O-TS', 'O-TS', 'O-TS', 'O-TS', 'O-TS', 'O-TS', 'O-TS', 'O-TS', 'O-TS', 'H-TS', 'O-TS', 'O-CS', 'O-TS', 'H-RQ', 'O-RQ', 'O-RQ', 'O-RQ', 'O-RQ', 'O-RQ', 'O-RQ', 'O-RQ', 'O-RQ', 'H-PQ', 'O-PQ', 'O-PQ', 'O-PQ', 'O-PQ', 'O-PQ', 'O-PQ', 'O-PQ', 'O-PQ', 'O-PQ', 'O-PQ', 'O-IP', 'O-CS', 'O-CS', 'O-SP', 'O-IP', 'O-TS', 'O-OL', 'O-TS', 'O-LN', 'O-TS', 'O-LN']\n",
      "[19, 20, 21, 22, 23, 24, 25, 26]\n"
     ]
    },
    {
     "data": {
      "text/html": [
       "0 O-TS) <span style=\"color:#9edae580;\"><p>Lawrence Berkeley National Lab’s (LBNL) NERSC Division, a supercomputing center in the Department of Energy Office of Science, has an opening for one or more HPC Programming Environment Architect to join the HPC Programming Environments and Models Group (PEM) Group. The PEM group defines and implements modern HPC programming models, development environments and software runtimes that enable current and future science on NERSC systems. Perlmutter, our latest and first GPU based system is a Top 10 system. (O-TS Task Scope Non-header)</p></span><br />1 O-TS) <span style=\"color:#9edae580;\"><p>In this exciting role you will help define and implement innovative development environments and programming models that allow scientists to take advantage of advanced computing architectures to support their research in fields like studying the impacts of climate change, developing novel materials for energy applications, understanding dark energy, developing fusion energy capabilities, and many others. (O-TS Task Scope Non-header)</p></span><br />2 H-TS) <span style=\"color:#9edae5ff;\"><b>What You Will Do: (H-TS Task Scope Header)</b></span><br />3 O-TS) <span style=\"color:#9edae580;\"><li>Explore and create the future of HPC environments and runtimes. (O-TS Task Scope Non-header)</li></span><br />4 O-TS) <span style=\"color:#9edae580;\"><li>Define and maintain the development environment and frameworks that NERSC staff use to deliver the latest software technologies to NERSC users. (O-TS Task Scope Non-header)</li></span><br />5 O-TS) <span style=\"color:#9edae580;\"><li>Use knowledge on one or more core software technologies such as compilers, MPI, CI/CD, kubernetes, lmod, ansible, git, systemd (O-TS Task Scope Non-header)</li></span><br />6 O-TS) <span style=\"color:#9edae580;\"><li>Assess emerging technologies in workload orchestration, container runtimes, software management and deployment for their potential to be applied to HPC. (O-TS Task Scope Non-header)</li></span><br />7 O-TS) <span style=\"color:#9edae580;\"><li>Contribute to ongoing development of standards and open source projects such as Open Container Initiative (OCI), Jupyter, docker, spack, ReFrame, podman (O-TS Task Scope Non-header)</li></span><br />8 O-TS) <span style=\"color:#9edae580;\"><li>Enable access to the latest developments in the HPC software ecosystem for NERSC users. (O-TS Task Scope Non-header)</li></span><br />9 O-TS) <span style=\"color:#9edae580;\"><li>Work with vendors to prioritize, develop and enhance their technologies in order to better meet the needs of DOE Office of Science application codes and workflows. (O-TS Task Scope Non-header)</li></span><br />10 O-TS) <span style=\"color:#9edae580;\"><li>Prepare timely reports, papers, and lectures describing significant results for dissemination within NERSC and throughout the broader HPC research community. (O-TS Task Scope Non-header)</li></span><br />11 O-TS) <span style=\"color:#9edae580;\"><li>Optimize and improve the performance of software technologies central to workflows at NERSC. (O-TS Task Scope Non-header)</li></span><br />12 O-TS) <span style=\"color:#9edae580;\"><li>Contribute to software engineering expertise to cross-team NERSC activities. (O-TS Task Scope Non-header)</li></span><br />13 O-TS) <span style=\"color:#9edae580;\"><li>Take a lead role in one or more of the activities described above. (O-TS Task Scope Non-header)</li></span><br />14 H-TS) <span style=\"color:#9edae5ff;\"><b>Additional Responsibilities as needed: (H-TS Task Scope Header)</b></span><br />15 O-TS) <span style=\"color:#9edae580;\"><li>Provide technical conceptual guidance to other group members and management, suggest directions for investigation, create new opportunities for NERSC, serve as a principal collaborator on major projects, and be responsible for fostering broader community-wide efforts with organizations outside of NERSC and Berkeley Lab. (O-TS Task Scope Non-header)</li></span><br />16 O-CS) <span style=\"color:#1f77b480;\"><li>Mentor early career staff members (O-CS Corporate Scope Non-header)</li></span><br />17 O-TS) <span style=\"color:#9edae580;\"><li>Work directly with users and developers to ensure correct and optimal usage of software technologies provided by the group and ensure requirements are met by future development. (O-TS Task Scope Non-header)</li></span><br />18 H-RQ) <span style=\"color:#bcbd22ff;\"><b>What is Required: (H-RQ Required Qualifications Header)</b></span><br /><hr />19 O-RQ) <span style=\"color:#bcbd2280;\"><li>Bachelor of Science or higher degree in Computer Science, Computational Science, Computer Architecture, Physical or Biological sciences or equivalent experience and a minimum of 8 years experience in HPC. (O-RQ Required Qualifications Non-header)</li></span><br />20 O-RQ) <span style=\"color:#bcbd2280;\"><li>Experience in building, packaging, management and deployment of HPC software. (O-RQ Required Qualifications Non-header)</li></span><br />21 O-RQ) <span style=\"color:#bcbd2280;\"><li>Experience with python and bash. (O-RQ Required Qualifications Non-header)</li></span><br />22 O-RQ) <span style=\"color:#bcbd2280;\"><li>Knowledge of the Linux environment. (O-RQ Required Qualifications Non-header)</li></span><br />23 O-RQ) <span style=\"color:#bcbd2280;\"><li>Proven record of working effectively in a team, managing projects through to completion, meeting deadlines, interacting with users, and thorough documentation of contributions. (O-RQ Required Qualifications Non-header)</li></span><br />24 O-RQ) <span style=\"color:#bcbd2280;\"><li>Detailed understanding of state-of-the-art tools used to manage, build, deploy and access software (O-RQ Required Qualifications Non-header)</li></span><br />25 O-RQ) <span style=\"color:#bcbd2280;\"><li>A demonstrated ability to lead technical efforts in a team environment. (O-RQ Required Qualifications Non-header)</li></span><br />26 O-RQ) <span style=\"color:#bcbd2280;\"><li>Excellent written and oral communication skills. (O-RQ Required Qualifications Non-header)</li></span><br /><hr />27 H-PQ) <span style=\"color:#c7c7c7ff;\"><b>Desired Qualifications: (H-PQ Preferred Qualifications Header)</b></span><br />28 O-PQ) <span style=\"color:#c7c7c780;\"><li>Advanced degree in Computer Science, Computational Science, Computer Architecture or equivalent experience and a minimum of 12 years experience in HPC. (O-PQ Preferred Qualifications Non-header)</li></span><br />29 O-PQ) <span style=\"color:#c7c7c780;\"><li>Experience with HPC interconnect technologies (MPI, libfabric or equivalent). (O-PQ Preferred Qualifications Non-header)</li></span><br />30 O-PQ) <span style=\"color:#c7c7c780;\"><li>Experience with container technologies (docker, podman, kubernetes or equivalent) in an HPC context. (O-PQ Preferred Qualifications Non-header)</li></span><br />31 O-PQ) <span style=\"color:#c7c7c780;\"><li>Nationally and or internationally recognized expertise in an HPC related discipline. (O-PQ Preferred Qualifications Non-header)</li></span><br />32 O-PQ) <span style=\"color:#c7c7c780;\"><li>Experience with software technologies in emerging areas, such as cloud computing and their application to HPC. (O-PQ Preferred Qualifications Non-header)</li></span><br />33 O-PQ) <span style=\"color:#c7c7c780;\"><li>Demonstrated track record of research or technical publications. (O-PQ Preferred Qualifications Non-header)</li></span><br />34 O-PQ) <span style=\"color:#c7c7c780;\"><li>Demonstrated track record of contributions to relevant software standards, open source projects or community initiatives. (O-PQ Preferred Qualifications Non-header)</li></span><br />35 O-PQ) <span style=\"color:#c7c7c780;\"><li>Demonstrated track record of leadership and innovation in software architecture. (O-PQ Preferred Qualifications Non-header)</li></span><br />36 O-PQ) <span style=\"color:#c7c7c780;\"><li>Detailed knowledge of one or more of MPI, libfabric, ansible, docker, podman, kubernetes or equivalent technologies. (O-PQ Preferred Qualifications Non-header)</li></span><br />37 O-PQ) <span style=\"color:#c7c7c780;\"><li>Ability to write and present technical papers at conferences and other venues to disseminate research work. (O-PQ Preferred Qualifications Non-header)</li></span><br />38 O-IP) <span style=\"color:#ffbb7880;\"><b>Want to learn more about Berkeley Lab's Culture, Benefits and answers to FAQs? Please visit: (O-IP Interview Procedures Non-header)</b></span><br />39 O-CS) <span style=\"color:#1f77b480;\"><b>https://recruiting.lbl.gov/ (O-CS Corporate Scope Non-header)</b></span><br />40 O-CS) <span style=\"color:#1f77b480;\"><b>Notes: (O-CS Corporate Scope Non-header)</b></span><br />41 O-SP) <span style=\"color:#17becf80;\"><li>This is a full-time, career appointment, exempt (monthly paid) from overtime pay. (O-SP Supplemental Pay Non-header)</li></span><br />42 O-IP) <span style=\"color:#ffbb7880;\"><li>This position will be hired at a level commensurate with the business needs and the skills, knowledge, and abilities of the successful candidate. (O-IP Interview Procedures Non-header)</li></span><br />43 O-TS) <span style=\"color:#9edae580;\"><li>This position may be subject to a background check. Any convictions will be evaluated to determine if they directly relate to the responsibilities and requirements of the position. Having a conviction history will not automatically disqualify an applicant from being considered for employment. (O-TS Task Scope Non-header)</li></span><br />44 O-OL) <span style=\"color:#c49c9480;\"><li>Work may be performed remote, on-site, hybrid, full-time telework. The primary location for this role is Lawrence Berkeley National Lab, 1 Cyclotron Road, Berkeley, CA. Work must be performed within the United States. (O-OL Office Location Non-header)</li></span><br />45 O-TS) <span style=\"color:#9edae580;\"><p>Based on University of California Policy - SARS-CoV-2 (COVID-19) Vaccination Program and U.S Federal Government requirements, Berkeley Lab requires that all members of our community obtain the COVID-19 vaccine as soon as they are eligible. As a condition of employment at Berkeley Lab, all Covered Individuals must Participate in the COVID-19 Vaccination Program by providing proof that vaccination requirements have been met or submitting a request for Exception or Deferral. Visit covid.lbl.gov for more information. (O-TS Task Scope Non-header)</p></span><br />46 O-LN) <span style=\"color:#9467bd80;\"><p>Berkeley Lab is committed to Inclusion, Diversity, Equity and Accountability (IDEA) and strives to continue building community with these shared values and commitments. Berkeley Lab is an Equal Opportunity and Affirmative Action Employer. We heartily welcome applications from women, minorities, veterans, and all who would contribute to the Lab's mission of leading scientific discovery, inclusion, and professionalism. In support of our diverse global community, all qualified applicants will be considered for employment without regard to race, color, religion, sex, sexual orientation, gender identity, national origin, disability, age, or protected veteran status. (O-LN Legal Notifications Non-header)</p></span><br />47 O-TS) <span style=\"color:#9edae580;\"><p>Equal Opportunity and IDEA Information Links: (O-TS Task Scope Non-header)</p></span><br />48 O-LN) <span style=\"color:#9467bd80;\"><p>Know your rights, click here for the supplement: Equal Employment Opportunity is the Law and the Pay Transparency Nondiscrimination Provision under 41 CFR 60-1.4. (O-LN Legal Notifications Non-header)</p></span><br />"
      ],
      "text/plain": [
       "<IPython.core.display.HTML object>"
      ]
     },
     "metadata": {},
     "output_type": "display_data"
    },
    {
     "name": "stdout",
     "output_type": "stream",
     "text": [
      "[19, 20, 21, 22, 23, 24, 25, 26]\n"
     ]
    }
   ],
   "source": [
    "\n",
    "child_tags_list = ha.get_child_tags_list(child_strs_list)\n",
    "is_header_list = []\n",
    "for is_header, child_str in zip(ha.get_is_header_list(child_strs_list), child_strs_list):\n",
    "    if is_header is None:\n",
    "        probs_list = lru.ISHEADER_PREDICT_PERCENT_FIT(child_str)\n",
    "        idx = probs_list.index(max(probs_list))\n",
    "        is_header = [True, False][idx]\n",
    "    is_header_list.append(is_header)\n",
    "feature_dict_list = hc.get_feature_dict_list(child_tags_list, is_header_list, child_strs_list)\n",
    "feature_tuple_list = []\n",
    "for feature_dict in feature_dict_list:\n",
    "    feature_tuple_list.append(hc.get_feature_tuple(feature_dict, lru.pos_lr_predict_single))\n",
    "crf_list = crf.CRF.predict_single(crf.sent2features(feature_tuple_list))\n",
    "db_pos_list = []\n",
    "for navigable_parent in child_strs_list:\n",
    "    db_pos_list = cu.append_parts_of_speech_list(navigable_parent, pos_list=db_pos_list)\n",
    "pos_list, indices_list = su.visualize_basic_quals_section(crf_list, child_strs_list, db_pos_list=db_pos_list, verbose=True)"
   ]
  },
  {
   "cell_type": "code",
   "execution_count": null,
   "id": "5b32ce35-6670-4523-9d03-015542cb3818",
   "metadata": {},
   "outputs": [],
   "source": [
    "raise"
   ]
  },
  {
   "cell_type": "code",
   "execution_count": 317,
   "id": "1d97acb2-2b60-4a56-9b3b-ecfc2b6582e6",
   "metadata": {},
   "outputs": [
    {
     "name": "stdout",
     "output_type": "stream",
     "text": [
      "[19, 20, 21, 22, 23, 24, 25, 26]\n",
      "38 O-IP) <b>Want to learn more about Berkeley Lab's Culture, Benefits and answers to FAQs? Please visit:</b>\n"
     ]
    }
   ],
   "source": [
    "\n",
    "# Display the context of an individual child string\n",
    "idx = 38\n",
    "print(indices_list); child_str = child_strs_list[idx]; pos_symbol = pos_list[idx]; basic_quals_dict = s.load_object('basic_quals_dict')\n",
    "print(str(basic_quals_dict[child_str]) + '\\n' if(child_str in basic_quals_dict) else '', end=''); print(f'{idx} {pos_symbol}) {child_str}')"
   ]
  },
  {
   "cell_type": "code",
   "execution_count": 279,
   "id": "3f1b210b-8651-4291-8c80-046a9c896392",
   "metadata": {},
   "outputs": [
    {
     "name": "stdout",
     "output_type": "stream",
     "text": [
      "Pickling to C:\\Users\\daveb\\OneDrive\\Documents\\GitHub\\job-hunting\\saves\\pkl\\basic_quals_dict.pkl\n",
      "\"<li>You have experience working in a continuous delivery, cloud-based environment (Jenkins and/or Spinnaker desired, but not required).</li>\" in basic_quals_dict: 0\n"
     ]
    }
   ],
   "source": [
    "\n",
    "# Hand-label this particular child string in the quals dictionary\n",
    "basic_quals_dict = s.load_object('basic_quals_dict')\n",
    "basic_quals_dict[child_str] = 0\n",
    "s.store_objects(basic_quals_dict=basic_quals_dict); print(f'\"{child_str}\" in basic_quals_dict: {basic_quals_dict[child_str]}')"
   ]
  },
  {
   "cell_type": "code",
   "execution_count": 296,
   "id": "5bb3f749-0a02-4266-876d-08983725feb2",
   "metadata": {},
   "outputs": [
    {
     "data": {
      "text/plain": [
       "[{'navigable_parent': '<li>Mentor early career staff members</li>', 'is_header': 'False', 'is_task_scope': 'True', 'is_qualification': None, 'is_minimum_qualification': 'False', 'is_preferred_qualification': 'False', 'is_legal_notification': 'False', 'is_job_title': 'False', 'is_office_location': 'False', 'is_job_duration': 'False', 'is_supplemental_pay': 'False', 'is_educational_requirement': 'False', 'is_interview_procedure': 'False', 'is_corporate_scope': 'False', 'is_posting_date': 'False', 'is_other': 'False'}]"
      ]
     },
     "execution_count": 296,
     "metadata": {},
     "output_type": "execute_result"
    }
   ],
   "source": [
    "\n",
    "def do_cypher_tx(tx, navigable_parent, verbose=False):\n",
    "    cypher_str = \"\"\"MATCH (np:NavigableParents {navigable_parent: $navigable_parent})\n",
    "        SET\n",
    "            np.is_header = 'False',\n",
    "            np.is_task_scope = 'True',\n",
    "            np.is_minimum_qualification = 'False',\n",
    "            np.is_preferred_qualification = 'False',\n",
    "            np.is_educational_requirement = 'False',\n",
    "            np.is_legal_notification = 'False',\n",
    "            np.is_other = 'False',\n",
    "            np.is_corporate_scope = 'False',\n",
    "            np.is_job_title = 'False',\n",
    "            np.is_office_location = 'False',\n",
    "            np.is_job_duration = 'False',\n",
    "            np.is_supplemental_pay = 'False',\n",
    "            np.is_interview_procedure = 'False',\n",
    "            np.is_posting_date = 'False'\n",
    "        \"\"\" + cu.return_everything_str + ';'\n",
    "    results_list = tx.run(query=cypher_str, parameters={'navigable_parent': navigable_parent})\n",
    "\n",
    "    return [dict(record.items()) for record in results_list]\n",
    "with cu.driver.session() as session:\n",
    "    row_objs_list = session.write_transaction(do_cypher_tx, navigable_parent=child_str)\n",
    "row_objs_list"
   ]
  },
  {
   "cell_type": "code",
   "execution_count": null,
   "id": "28836b66-b8d4-48cb-92a0-f28efbb39c8e",
   "metadata": {},
   "outputs": [],
   "source": [
    "\n",
    "# Show what's in the database already for this html string\n",
    "# print(navigable_parent_cypher_str.format(child_str))\n",
    "with cu.driver.session() as session:\n",
    "    row_objs_list = session.write_transaction(cu.do_cypher_tx, navigable_parent_cypher_str.format(child_str))\n",
    "row_objs_list"
   ]
  },
  {
   "cell_type": "code",
   "execution_count": 42,
   "id": "c767d2cb-2c13-421a-b29e-546d2b1b401f",
   "metadata": {},
   "outputs": [
    {
     "name": "stdout",
     "output_type": "stream",
     "text": [
      "Pickling to C:\\Users\\daveb\\OneDrive\\Documents\\GitHub\\job-hunting\\saves\\pkl\\basic_quals_dict.pkl\n",
      "\"<li>Selenium</li>\" in basic_quals_dict: False\n"
     ]
    }
   ],
   "source": [
    "\n",
    "# Remove this particular child string from the quals dictionary\n",
    "basic_quals_dict = s.load_object('basic_quals_dict')\n",
    "child_str = child_strs_list[idx]\n",
    "basic_quals_dict.pop(child_str)\n",
    "# basic_quals_dict[child_str] = 0\n",
    "s.store_objects(basic_quals_dict=basic_quals_dict)\n",
    "print(f'\"{child_str}\" in basic_quals_dict: {child_str in basic_quals_dict}')"
   ]
  },
  {
   "cell_type": "markdown",
   "id": "a188b08e-874a-41db-a163-2232b9c7cc55",
   "metadata": {},
   "source": [
    "\n",
    "----"
   ]
  },
  {
   "cell_type": "code",
   "execution_count": 318,
   "id": "f00b97db-00ab-4ab9-8a22-323bbb5c6ddd",
   "metadata": {},
   "outputs": [
    {
     "name": "stdout",
     "output_type": "stream",
     "text": [
      "\n",
      "        MATCH (fn:FileNames {file_name: \"HPC_User_Environment_Architect_Remote_Friendly_San_Francisco_Bay_Area_CA_Indeed_com.html\"})\n",
      "        SET fn.is_verified = true\n",
      "        RETURN fn;\n"
     ]
    },
    {
     "data": {
      "text/plain": [
       "[{'fn': <Node id=860222 labels=frozenset({'FileNames'}) properties={'file_name': 'HPC_User_Environment_Architect_Remote_Friendly_San_Francisco_Bay_Area_CA_Indeed_com.html', 'percent_fit': 0.25, 'posting_url': 'https://www.indeed.com/pagead/clk/dl?mo=r&ad=-6NYlbfkN0CEBTCgjErpf876eNxykYOh7-CaikwoNOL0uEigY9r56FriOYldzu27sJiE-XsdX8X5nFxJgHgShIZchXzLQVAdcmACLaH_wjn6Lr0Bg9XOKE629BGDK70UrZ6aJKXrwjLdTNtOCnXUHuZdnZCWNpae5bce4Z9TSzyl4Q46askbPuIyerrXA7vKHTAuab--AjIC_P5hHd90ZthdKxScGJJgFRCiaZLIgBg6MGwDPuaoCCr45Ub0dI89KDb4KbxjHZUXnphMoMIP11fnQ5y5ck6uh9EegCtkQrpmFPaSc5R_kkzztu4PDRhnm0T5ypM0NHXC5_hDS8Fw_ZYCkhDaBY-z6yc9xQhArsPx2CXySNmpV01QzljZvwOAcxnm36x_Xrk_lln3Z7ONnXOruH778MaOya2IouN4nP-XkXqU53Cu18DwNsYSEOnbu87eeEM6CiPReAfn-ds9t6Uc06adWBjRLf95utvEZTxSGy4md1j8IbDexZXYe06O5VbIhr0jftBnMTUeJ_c-DKQm19MFF1VPjru20IKp2Uy4EUh7rKj_eL_woV4IZCfYEPa7f2MV-To97H3RF6Nj7_2MqT9Xhg5hIBoUsu5_mWunmzG5tEivlRbguhRCSq5Dj-rb2vrwT1c%3D&xkcb=SoCD-_M3VMZDXZ68JR0LbzkdCdPP&p=0&jsa=6737&rjs=1&tmtk=1gkc8j1ekjiph801&gdfvj=1&alid=6254377b33b425113af40aa2&fvj=1', 'is_verified': True}>}]"
      ]
     },
     "execution_count": 318,
     "metadata": {},
     "output_type": "execute_result"
    }
   ],
   "source": [
    "\n",
    "# You've made no changes to the qualification dictionary (regardless of parts-of-speech changes)\n",
    "from IPython.display import clear_output\n",
    "\n",
    "def do_cypher_tx(tx, file_name, verbose=False):\n",
    "    cypher_str = \"\"\"\n",
    "        MATCH (fn:FileNames {file_name: $file_name})\n",
    "        SET fn.is_verified = true\n",
    "        RETURN fn;\"\"\"\n",
    "    if verbose:\n",
    "        clear_output(wait=True)\n",
    "        print(cypher_str.replace('$file_name', f'\"{file_name}\"'))\n",
    "    parameter_dict = {'file_name': file_name}\n",
    "    results_list = tx.run(query=cypher_str, parameters=parameter_dict)\n",
    "    values_list = []\n",
    "    for record in results_list:\n",
    "        values_list.append(dict(record.items()))\n",
    "\n",
    "    return values_list\n",
    "with cu.driver.session() as session:\n",
    "    row_objs_list = session.write_transaction(do_cypher_tx, file_name=file_name, verbose=True)\n",
    "row_objs_list"
   ]
  },
  {
   "cell_type": "code",
   "execution_count": 287,
   "id": "dbe5ce2c-5c8c-4196-96de-ee38953e10e4",
   "metadata": {},
   "outputs": [
    {
     "name": "stdout",
     "output_type": "stream",
     "text": [
      "Pickling to C:\\Users\\daveb\\OneDrive\\Documents\\GitHub\\job-hunting\\saves\\pkl\\hunting_df.pkl\n"
     ]
    },
    {
     "data": {
      "text/plain": [
       "[{'fn': <Node id=860227 labels=frozenset({'FileNames'}) properties={'file_name': 'eca2876d9f354127_Security_Software_Engineer_L5_Detection_Engineering_Remote_Indeed_com.html', 'posting_url': 'https://www.indeed.com/rc/clk/dl?jk=eca2876d9f354127&from=ja&qd=RnZhMybXSk4M3QtTVGXWoZj-R_bxcYib5xeGNtZ7GZasUz1TeBf8ptY6h5mvt8XBcXElUinZ1eC1LFleePp6L-whUQKNiQjcDa3cvYy9VEw&rd=mlcWWhoEB84Ug9aTgB647ngDVkFzbh8-xI2u2vwcbH0&tk=1gkc8j1ekjiph801&alid=6254377b33b425113af40aa2', 'is_verified': False}>}]"
      ]
     },
     "execution_count": 287,
     "metadata": {},
     "output_type": "execute_result"
    }
   ],
   "source": [
    "\n",
    "# Mark the file name as needing retraining everywhere\n",
    "import numpy as np\n",
    "from IPython.display import clear_output\n",
    "\n",
    "# file_name = '6b754ceaefd0a1f3_Lead_Data_Engineer_Brooklyn_NY_11201_Indeed_com.html'\n",
    "mask_series = lru.hunting_df.percent_fit.isin([file_name])\n",
    "lru.hunting_df.loc[mask_series, 'percent_fit'] = np.nan\n",
    "s.store_objects(hunting_df=lru.hunting_df)\n",
    "def do_cypher_tx(tx, file_name, verbose=False):\n",
    "    cypher_str = \"\"\"\n",
    "        MATCH (fn:FileNames {file_name: $file_name})\n",
    "        SET fn.percent_fit = NULL, fn.is_verified = false\n",
    "        RETURN fn;\"\"\"\n",
    "    if verbose:\n",
    "        clear_output(wait=True)\n",
    "        print(cypher_str.replace('$file_name', f'\"{file_name}\"'))\n",
    "    results_list = tx.run(query=cypher_str, parameters={'file_name': file_name})\n",
    "\n",
    "    return [dict(record.items()) for record in results_list]\n",
    "with cu.driver.session() as session:\n",
    "    row_objs_list = session.write_transaction(do_cypher_tx, file_name=file_name, verbose=False)\n",
    "row_objs_list"
   ]
  },
  {
   "cell_type": "code",
   "execution_count": null,
   "id": "e2f8adbd-5b7c-43d8-8680-aea4da63a134",
   "metadata": {},
   "outputs": [],
   "source": [
    "\n",
    "# Mark the file name as closed\n",
    "cypher_str = f'''\n",
    "    MATCH (fn:FileNames {{file_name: \"{file_name}\"}})\n",
    "    SET fn.is_closed = true\n",
    "    RETURN fn;'''\n",
    "print(cypher_str)\n",
    "with cu.driver.session() as session:\n",
    "    row_objs_list = session.write_transaction(cu.do_cypher_tx, cypher_str)\n",
    "row_objs_list"
   ]
  },
  {
   "cell_type": "code",
   "execution_count": null,
   "id": "befe9664-96e1-43cb-8de7-99e40d5524f8",
   "metadata": {},
   "outputs": [],
   "source": [
    "\n",
    "# Manually label the unscored qual\n",
    "qualification_str = quals_list[13]\n",
    "print(qualification_str)\n",
    "basic_quals_dict = s.load_object('basic_quals_dict')\n",
    "basic_quals_dict[qualification_str] = 0\n",
    "s.store_objects(basic_quals_dict=basic_quals_dict)"
   ]
  },
  {
   "cell_type": "code",
   "execution_count": 162,
   "id": "4a4a2c62-661a-4652-b743-efa5e336ad65",
   "metadata": {},
   "outputs": [
    {
     "name": "stdout",
     "output_type": "stream",
     "text": [
      "\n",
      "                MATCH (fn:FileNames {file_name: \"H1U_lwB_n4cl3xxj6yBdOw_Senior_Data_Engineer_Dice_United_States_Remote.html\"})\n",
      "                DETACH DELETE fn;\n",
      "../saves/html\\H1U_lwB_n4cl3xxj6yBdOw_Senior_Data_Engineer_Dice_United_States_Remote.html removed\n"
     ]
    }
   ],
   "source": [
    "\n",
    "# Remove file name from database\n",
    "# file_name = '3c031ea6ad293e92_General_Service_Technician_Westborough_MA_01581_Indeed_com.html'\n",
    "cu.delete_filename_node(file_name, verbose=True)"
   ]
  },
  {
   "cell_type": "code",
   "execution_count": null,
   "id": "16fe3a9a-8b2b-4bfc-b348-ce01a188c19d",
   "metadata": {},
   "outputs": [],
   "source": []
  }
 ],
 "metadata": {
  "kernelspec": {
   "display_name": "Python 3 (ipykernel)",
   "language": "python",
   "name": "python3"
  },
  "language_info": {
   "codemirror_mode": {
    "name": "ipython",
    "version": 3
   },
   "file_extension": ".py",
   "mimetype": "text/x-python",
   "name": "python",
   "nbconvert_exporter": "python",
   "pygments_lexer": "ipython3",
   "version": "3.9.7"
  }
 },
 "nbformat": 4,
 "nbformat_minor": 5
}
