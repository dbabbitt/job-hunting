{
 "cells": [
  {
   "cell_type": "code",
   "execution_count": 1,
   "id": "7675b025-b593-4d53-9759-6c1e01772c22",
   "metadata": {},
   "outputs": [
    {
     "name": "stdout",
     "output_type": "stream",
     "text": [
      "Pretty printing has been turned OFF\n"
     ]
    }
   ],
   "source": [
    "\n",
    "%pprint"
   ]
  },
  {
   "cell_type": "markdown",
   "id": "9ed3ad81-7ac1-4a85-ba90-62ccbde24f49",
   "metadata": {
    "tags": []
   },
   "source": [
    "\n",
    "---\n",
    "# Load needed libraries and functions"
   ]
  },
  {
   "cell_type": "code",
   "execution_count": 2,
   "id": "e1febade-58e7-47f1-8c6d-5447b5737d57",
   "metadata": {},
   "outputs": [],
   "source": [
    "\n",
    "import sys\n",
    "\n",
    "# Insert at 1, 0 is the script path (or '' in REPL)\n",
    "sys.path.insert(1, '../py')"
   ]
  },
  {
   "cell_type": "code",
   "execution_count": 3,
   "id": "8a4972c0-2fad-4cdf-955a-17a51e4e1e1e",
   "metadata": {},
   "outputs": [],
   "source": [
    "\n",
    "%matplotlib inline\n",
    "from datetime import datetime\n",
    "from neo4j.exceptions import ServiceUnavailable\n",
    "import humanize\n",
    "import matplotlib.pyplot as plt\n",
    "import time\n",
    "import winsound\n",
    "\n",
    "bin_count = 12\n",
    "duration = 1000  # milliseconds\n",
    "freq = 880  # Hz\n",
    "height_inches = 3.0\n",
    "width_inches = 18.0"
   ]
  },
  {
   "cell_type": "code",
   "execution_count": 4,
   "id": "ff7aa81f-314d-4d0d-a238-355d5210f157",
   "metadata": {},
   "outputs": [
    {
     "name": "stdout",
     "output_type": "stream",
     "text": [
      "======== Neo4j/4.4.7 ========\n",
      "Pickling to C:\\Users\\daveb\\OneDrive\\Documents\\GitHub\\job-hunting\\saves\\pkl\\basic_quals_dict.pkl\n",
      "I have 10,635 labeled parts of speech in here\n",
      "Got this <class 'numpy.core._exceptions._ArrayMemoryError'> error in build_pos_logistic_regression_elements trying  to turn the pos_symbol TF-IDF matrix into a normal array: Unable to allocate 31.7 GiB for an array with shape (10635, 400406) and data type float64\n",
      "Utility libraries created in 1 hour, 5 minutes and 3 seconds\n",
      "Last run on 2023-02-25 22:54:31.530484\n"
     ]
    }
   ],
   "source": [
    "\n",
    "t0 = time.time()\n",
    "\n",
    "# Get the Neo4j driver\n",
    "from storage import Storage\n",
    "s = Storage()\n",
    "\n",
    "from ha_utils import HeaderAnalysis\n",
    "ha = HeaderAnalysis(verbose=False)\n",
    "\n",
    "from scrape_utils import WebScrapingUtilities\n",
    "wsu = WebScrapingUtilities(s=s)\n",
    "uri = wsu.secrets_json['neo4j']['connect_url']\n",
    "user =  wsu.secrets_json['neo4j']['username']\n",
    "password = wsu.secrets_json['neo4j']['password']\n",
    "\n",
    "# Get the neo4j object\n",
    "from cypher_utils import CypherUtilities\n",
    "cu = CypherUtilities(uri=uri, user=user, password=password, driver=None, s=s, ha=ha)\n",
    "\n",
    "try:\n",
    "    \n",
    "    version_str = cu.driver.get_server_info().agent\n",
    "    print(f'======== {version_str} ========')\n",
    "    \n",
    "    from hc_utils import HeaderCategories\n",
    "    hc = HeaderCategories(cu=cu, verbose=False)\n",
    "    \n",
    "    # 400 6,094 37 minutes and 50 seconds\n",
    "    # 800 6,094 36 minutes and 42 seconds\n",
    "    # 1,600 8,349 59 minutes and 6 seconds\n",
    "    # 3_200 9,974 1 hour, 4 minutes and 24 seconds\n",
    "    # 6_400 10,635 1 hour, 23 minutes and 11 seconds\n",
    "    from lr_utils import LrUtilities\n",
    "    lru = LrUtilities(ha=ha, cu=cu, hc=hc, verbose=False)\n",
    "    lru.build_isheader_logistic_regression_elements(verbose=False)\n",
    "    lru.build_isqualified_logistic_regression_elements(sampling_strategy_limit=5_000, verbose=False)\n",
    "    lru.build_pos_logistic_regression_elements(sampling_strategy_limit=6_400, verbose=True)\n",
    "    \n",
    "    from crf_utils import CrfUtilities\n",
    "    crf = CrfUtilities(ha=ha, hc=hc, cu=cu, lru=lru, verbose=True)\n",
    "    \n",
    "    from section_utils import SectionUtilities\n",
    "    su = SectionUtilities(s=s, ha=ha, cu=cu, crf=crf, verbose=False)\n",
    "    \n",
    "    import warnings\n",
    "    warnings.filterwarnings('ignore')\n",
    "except ServiceUnavailable as e:\n",
    "    print('You need to start Neo4j as a console')\n",
    "    raise\n",
    "except Exception as e:\n",
    "    print(f'{e.__class__}: {str(e).strip()}')\n",
    "duration_str = humanize.precisedelta(time.time() - t0, minimum_unit='seconds', format='%0.0f')\n",
    "winsound.Beep(freq, duration)\n",
    "print(f'Utility libraries created in {duration_str}')\n",
    "print(f'Last run on {datetime.now()}')"
   ]
  },
  {
   "cell_type": "markdown",
   "id": "268c479f-c162-454d-b4a0-cccb123c567f",
   "metadata": {},
   "source": [
    "\n",
    "---\n",
    "# Training"
   ]
  },
  {
   "cell_type": "code",
   "execution_count": 21,
   "id": "e22d71ba-ed5b-4477-8488-1e0d633e30cf",
   "metadata": {},
   "outputs": [
    {
     "name": "stdout",
     "output_type": "stream",
     "text": [
      "Pickling to C:\\Users\\daveb\\OneDrive\\Documents\\GitHub\\job-hunting\\saves\\pkl\\basic_quals_dict.pkl\n",
      "I have 10,856 hand-labeled qualification strings in here\n",
      "Retraining complete\n",
      "Is-qualified classifer retrained in 2 minutes and 43 seconds\n"
     ]
    }
   ],
   "source": [
    "\n",
    "# I have 9,340 hand-labeled qualification strings in here\n",
    "# Is-qualified classifer retrained in 1 minute and 14 seconds\n",
    "t0 = time.time()\n",
    "basic_quals_dict = lru.sync_basic_quals_dict(sampling_strategy_limit=10_000, verbose=False)\n",
    "lru.retrain_isqualified_classifier(verbose=True)\n",
    "duration_str = humanize.precisedelta(time.time() - t0, minimum_unit='seconds', format='%0.0f')\n",
    "print(f'Is-qualified classifer retrained in {duration_str}')"
   ]
  },
  {
   "cell_type": "code",
   "execution_count": 22,
   "id": "82dab229-b28c-4ddd-812d-6abf153aae3b",
   "metadata": {},
   "outputs": [
    {
     "name": "stdout",
     "output_type": "stream",
     "text": [
      "Only 3133 more mis-estimated minimum-requirements-met percentages to go!\n"
     ]
    }
   ],
   "source": [
    "\n",
    "from pandas import DataFrame\n",
    "\n",
    "cypher_str = f'''\n",
    "    MATCH (fn:FileNames)\n",
    "    WHERE\n",
    "        fn.percent_fit < 0.4 AND\n",
    "        ((fn.is_closed IS NULL) OR (fn.is_closed = false)) AND\n",
    "        ((fn.is_verified IS NULL) OR (fn.is_verified = false)) AND\n",
    "        ((fn.is_opportunity_application_emailed IS NULL) OR\n",
    "        (fn.is_opportunity_application_emailed = false))\n",
    "    RETURN\n",
    "        fn.percent_fit AS percent_fit,\n",
    "        fn.file_name AS file_name,\n",
    "        fn.posting_url AS url\n",
    "    ORDER BY fn.percent_fit ASC;'''\n",
    "row_objs_list = []\n",
    "with cu.driver.session() as session:\n",
    "    row_objs_list = session.write_transaction(cu.do_cypher_tx, cypher_str)\n",
    "files_list = []\n",
    "if row_objs_list:\n",
    "    files_list = DataFrame(row_objs_list).file_name.tolist()\n",
    "print(f'Only {len(files_list)} more mis-estimated minimum-requirements-met percentages to go!')"
   ]
  },
  {
   "cell_type": "markdown",
   "id": "a4a2f3ec-44ee-4be3-b13e-02badca41da4",
   "metadata": {},
   "source": [
    "\n",
    "----"
   ]
  },
  {
   "cell_type": "code",
   "execution_count": 23,
   "id": "151cdf71-a078-43b6-9a1b-649bb51461e5",
   "metadata": {},
   "outputs": [
    {
     "name": "stdout",
     "output_type": "stream",
     "text": [
      "a7f9b8bd279918d6_Junior_Data_Analyst_Engineer_Remote_Indeed_com.html\n"
     ]
    }
   ],
   "source": [
    "\n",
    "import os\n",
    "\n",
    "file_name = '1be7cd43854ea836_Python_Developer_with_AWS_Atlanta_GA_Indeed_com.html'\n",
    "# file_name = files_list.pop()\n",
    "file_path = os.path.join(cu.SAVES_HTML_FOLDER, file_name)\n",
    "page_soup = wsu.get_page_soup(file_path)\n",
    "div_soup = page_soup.find_all(name='div', id='jobDescriptionText')[0]\n",
    "child_strs_list = ha.get_navigable_children(div_soup, [])\n",
    "cu.ensure_filename(file_name, verbose=False)\n",
    "cu.populate_from_child_strings(child_strs_list, file_name, verbose=False)\n",
    "print(file_name)"
   ]
  },
  {
   "cell_type": "code",
   "execution_count": 24,
   "id": "99fcd0c5-e0ac-431d-bacd-b22a7b5ed4d5",
   "metadata": {},
   "outputs": [
    {
     "name": "stdout",
     "output_type": "stream",
     "text": [
      "['H-CS', 'H-CS', 'O-CS', 'O-CS', 'O-CS', 'O-TS', 'O-SP', 'H-TS', 'H-TS', 'H-TS', 'O-TS', 'O-IP', 'O-TS', 'O-TS', 'O-IP', 'H-RQ', 'O-RQ', 'O-RQ', 'O-RQ', 'O-RQ', 'O-RQ', 'O-RQ', 'O-RQ', 'O-RQ', 'O-RQ', 'O-RQ', 'O-RQ', 'O-RQ', 'H-TS', 'H-CS', 'O-CS', 'H-CS', 'O-CS', 'H-CS', 'O-CS', 'H-CS', 'O-CS', 'H-CS', 'O-CS', 'O-RQ', 'O-IP', 'H-SP', 'O-O', 'O-SP', 'O-SP', 'O-SP', 'O-SP', 'O-SP', 'O-SP', 'O-SP']\n",
      "[16, 17, 18, 19, 20, 21, 22, 23, 24, 25, 26, 27, 39]\n"
     ]
    },
    {
     "data": {
      "text/html": [
       "0 H-CS) <span style=\"color:#1f77b4ff;\"><b>ABOUT FLUID (H-CS Corporate Scope Header)</b></span><br />1 H-CS) <span style=\"color:#1f77b4ff;\">WHO WE ARE (H-CS Corporate Scope Header)</span><br />2 O-CS) <span style=\"color:#1f77b480;\"><p>Fluid is a full-service marketing firm focused on driving real growth. Marketing as a discipline has transformed dramatically in the past 15 years. What was once primarily a creative undertaking has become a cross-functional discipline rooted in strategy, creativity, data science, statistics and machine learning. Impact used to be ambiguous, now it is largely quantifiable. Marketers now have access to more data and technological sophistication than every other function in business combined. As a result, effective marketing requires a cross-functional skill set that few traditional advertising agencies possess. (O-CS Corporate Scope Non-header)</p></span><br />3 O-CS) <span style=\"color:#1f77b480;\"><p>Our partnership is built for this new world. Our team includes strategy consultants, data scientists, statisticians and creative talent that has worked for some of the largest companies in the world. We approach growth opportunities with a strategic lens, understanding market fundamentals (e.g., competition, trends), customer insights (e.g., demographics, jobs to be done) and business economics (e.g., unit economics, margin expansion) well ahead of launching creative and paid media campaigns. Our senior team partners with a limited number of clients who are focused on building great brands over the long-term. (O-CS Corporate Scope Non-header)</p></span><br />4 O-CS) <span style=\"color:#1f77b480;\"><p>Our combination of capabilities means we define success the same way our clients do: real growth. (O-CS Corporate Scope Non-header)</p></span><br />5 O-TS) <span style=\"color:#9edae580;\">HOW WE USE DATA (O-TS Task Scope Non-header)</span><br />6 O-SP) <span style=\"color:#17becf80;\">Analytics and attribution analysis is more than just seeing how many people visited a site. It helps us visualize the viewer's path. By measuring our analytical goals, we can see where people drop off and where to tweak content to guide them back to the conversion path. We also seek to help clients see which marketing effort is making an impact - and which is not. (O-SP Supplemental Pay Non-header)</span><br />7 H-TS) <span style=\"color:#9edae5ff;\"><b>JOB YOU WILL DO (H-TS Task Scope Header)</b></span><br />8 H-TS) <span style=\"color:#9edae5ff;\"><b>TYPICAL DAY IN THE LIFE (H-TS Task Scope Header)</b></span><br />9 H-TS) <span style=\"color:#9edae5ff;\"><p>A typical day as a Junior Data Analyst/Engineer may include the following: (H-TS Task Scope Header)</p></span><br />10 O-TS) <span style=\"color:#9edae580;\"><li>You will build and/or support ETL processes to extract data from multiple sources and load into data warehouse. (O-TS Task Scope Non-header)</li></span><br />11 O-IP) <span style=\"color:#ffbb7880;\"><li>You will transform data through applying business rules, auditing and staging data. (O-IP Interview Procedures Non-header)</li></span><br />12 O-TS) <span style=\"color:#9edae580;\"><li>You will create data visualizations and dashboarding to support client initiatives. (O-TS Task Scope Non-header)</li></span><br />13 O-TS) <span style=\"color:#9edae580;\"><li>You will support senior management with ad-hoc analysis needed to make important business decisions. (O-TS Task Scope Non-header)</li></span><br />14 O-IP) <span style=\"color:#ffbb7880;\"><li>You will use problem solving and creativity to apply appropriate metrics in the creation of compelling and thorough analysis. (O-IP Interview Procedures Non-header)</li></span><br />15 H-RQ) <span style=\"color:#bcbd22ff;\">WHO YOU ARE (H-RQ Required Qualifications Header)</span><br /><hr />16 O-RQ) <span style=\"color:#bcbd2280;\"><li>You must have strong SQL skills, including the ability to write complex queries and stored procedures. (O-RQ Required Qualifications Non-header)</li></span><br />17 O-RQ) <span style=\"color:#bcbd2280;\"><li>You are proficient with Python (or R) and its libraries (Pandas, NumPy, Scikit-Learn, StatsModels, etc.) for data collecting, cleaning, and reporting. (O-RQ Required Qualifications Non-header)</li></span><br />18 O-RQ) <span style=\"color:#bcbd2280;\"><li>You may have experience using and pulling data via REST APIs. (O-RQ Required Qualifications Non-header)</li></span><br />19 O-RQ) <span style=\"color:#bcbd2280;\"><li>You may have experience with SQL and data warehousing concepts (preferred Snowflake). (O-RQ Required Qualifications Non-header)</li></span><br />20 O-RQ) <span style=\"color:#bcbd2280;\"><li>You are very proficient in Excel. (O-RQ Required Qualifications Non-header)</li></span><br />21 O-RQ) <span style=\"color:#bcbd2280;\"><li>You may be familiar with data visualization tools (Tableau, Data Studio or similar). (O-RQ Required Qualifications Non-header)</li></span><br />22 O-RQ) <span style=\"color:#bcbd2280;\"><li>Intellectual and analytical curiosity - initiative to dig into the \"why\" of various results and a desire to grow responsibility and become a domain expert and strategic thought leader. (O-RQ Required Qualifications Non-header)</li></span><br />23 O-RQ) <span style=\"color:#bcbd2280;\"><li>You must be comfortable with uncertainty. Projects and assignments will change rapidly, so the candidate must be flexible enough to accommodate changing priorities and timelines. (O-RQ Required Qualifications Non-header)</li></span><br />24 O-RQ) <span style=\"color:#bcbd2280;\"><li>You have the ability to work with different departments and teams to gather complete datasets and communicate findings and practices company-wide. (O-RQ Required Qualifications Non-header)</li></span><br />25 O-RQ) <span style=\"color:#bcbd2280;\"><li>You can work independently and proactively, identifying issues and raising them to management, as well as offering potential solutions. (O-RQ Required Qualifications Non-header)</li></span><br />26 O-RQ) <span style=\"color:#bcbd2280;\"><li>You have experience with modeling business scenarios (strongly preferred). (O-RQ Required Qualifications Non-header)</li></span><br />27 O-RQ) <span style=\"color:#bcbd2280;\">You have a solid background in technology, mathematics, statistics, accounting, finance, or other quantitative discipline (strongly preferred). (O-RQ Required Qualifications Non-header)</span><br />28 H-TS) <span style=\"color:#9edae5ff;\"><b>HOW DO YOU DO IT? (H-TS Task Scope Header)</b></span><br />29 H-CS) <span style=\"color:#1f77b4ff;\"><b>Integrity: (H-CS Corporate Scope Header)</b></span><br />30 O-CS) <span style=\"color:#1f77b480;\">This is fundamental to success at Fluid. We are honest with our clients and honest with each other. Integrity means having the courage to say hard things, at inconvenient times, with unknown costs, because they are true. (O-CS Corporate Scope Non-header)</span><br />31 H-CS) <span style=\"color:#1f77b4ff;\"><b>Boldness: (H-CS Corporate Scope Header)</b></span><br />32 O-CS) <span style=\"color:#1f77b480;\">We are willing to push ourselves and our clients to think bigger than they thought possible. We have a strong point of view. We embrace creative friction. We'd rather experiment and fail than avoid risk and end up somewhere average. (O-CS Corporate Scope Non-header)</span><br />33 H-CS) <span style=\"color:#1f77b4ff;\"><b>Impact: (H-CS Corporate Scope Header)</b></span><br />34 O-CS) <span style=\"color:#1f77b480;\">We are obsessed with driving client impact. We know what matters to the client, and we relentlessly measure ourselves against it. We are never complacent. (O-CS Corporate Scope Non-header)</span><br />35 H-CS) <span style=\"color:#1f77b4ff;\"><b>Initiative: (H-CS Corporate Scope Header)</b></span><br />36 O-CS) <span style=\"color:#1f77b480;\">We have a bias for action, not discussion. We see potential solutions, not just immediate problems. This is the team you'd want to be shipwrecked with on a deserted island. (O-CS Corporate Scope Non-header)</span><br />37 H-CS) <span style=\"color:#1f77b4ff;\"><b>Gusto: (H-CS Corporate Scope Header)</b></span><br />38 O-CS) <span style=\"color:#1f77b480;\">We recognize that life is bigger than work. We pursue family life and creative pursuits with the same energy that we approach work. Fluid is an enabler of a rich, abundant life - not a competitor to it. (O-CS Corporate Scope Non-header)</span><br />39 O-RQ) <span style=\"color:#bcbd2280;\">Must be authorized to work in the United States permanently without the requirement of sponsorship at any point in the future (O-RQ Required Qualifications Non-header)</span><br /><hr />40 O-IP) <span style=\"color:#ffbb7880;\">. (O-IP Interview Procedures Non-header)</span><br />41 H-SP) <span style=\"color:#17becfff;\">PERKS AND BENEFITS (H-SP Supplemental Pay Header)</span><br />42 O-O) <span style=\"color:#8c564b80;\"><li>Unlimited PTO policy (O-O Other Non-header)</li></span><br />43 O-SP) <span style=\"color:#17becf80;\"><li>Flex-Friday hours (office closed on Friday afternoons) (O-SP Supplemental Pay Non-header)</li></span><br />44 O-SP) <span style=\"color:#17becf80;\"><li>$1000 per year health stipend (O-SP Supplemental Pay Non-header)</li></span><br />45 O-SP) <span style=\"color:#17becf80;\"><li>4 weeks of paid maternity and paternity leave (O-SP Supplemental Pay Non-header)</li></span><br />46 O-SP) <span style=\"color:#17becf80;\"><li>Sabbatical benefit every 5 years (O-SP Supplemental Pay Non-header)</li></span><br />47 O-SP) <span style=\"color:#17becf80;\"><li>Fourteen paid holidays (O-SP Supplemental Pay Non-header)</li></span><br />48 O-SP) <span style=\"color:#17becf80;\"><li>401k Match: 100% match up to 6%, vested after 2 years (O-SP Supplemental Pay Non-header)</li></span><br />49 O-SP) <span style=\"color:#17becf80;\"><li>Paid community service hours (O-SP Supplemental Pay Non-header)</li></span><br />"
      ],
      "text/plain": [
       "<IPython.core.display.HTML object>"
      ]
     },
     "metadata": {},
     "output_type": "display_data"
    },
    {
     "name": "stdout",
     "output_type": "stream",
     "text": [
      "[16, 17, 18, 19, 20, 21, 22, 23, 24, 25, 26, 27, 39]\n"
     ]
    }
   ],
   "source": [
    "\n",
    "child_tags_list = ha.get_child_tags_list(child_strs_list)\n",
    "is_header_list = []\n",
    "for is_header, child_str in zip(ha.get_is_header_list(child_strs_list), child_strs_list):\n",
    "    if is_header is None:\n",
    "        probs_list = lru.ISHEADER_PREDICT_PERCENT_FIT(child_str)\n",
    "        idx = probs_list.index(max(probs_list))\n",
    "        is_header = [True, False][idx]\n",
    "    is_header_list.append(is_header)\n",
    "feature_dict_list = hc.get_feature_dict_list(child_tags_list, is_header_list, child_strs_list)\n",
    "feature_tuple_list = []\n",
    "for feature_dict in feature_dict_list:\n",
    "    feature_tuple_list.append(hc.get_feature_tuple(feature_dict, lru.pos_lr_predict_single))\n",
    "crf_list = crf.CRF.predict_single(crf.sent2features(feature_tuple_list))\n",
    "db_pos_list = []\n",
    "for navigable_parent in child_strs_list:\n",
    "    db_pos_list = cu.append_parts_of_speech_list(navigable_parent, pos_list=db_pos_list)\n",
    "pos_list, indices_list = su.visualize_basic_quals_section(crf_list, child_strs_list, db_pos_list=db_pos_list, verbose=True)\n",
    "winsound.Beep(freq, duration)"
   ]
  },
  {
   "cell_type": "code",
   "execution_count": null,
   "id": "5b32ce35-6670-4523-9d03-015542cb3818",
   "metadata": {},
   "outputs": [],
   "source": [
    "raise"
   ]
  },
  {
   "cell_type": "code",
   "execution_count": 35,
   "id": "1d97acb2-2b60-4a56-9b3b-ecfc2b6582e6",
   "metadata": {},
   "outputs": [
    {
     "name": "stdout",
     "output_type": "stream",
     "text": [
      "[16, 17, 18, 19, 20, 21, 22, 23, 24, 25, 26, 27, 39]\n",
      "15 H-RQ) WHO YOU ARE\n"
     ]
    }
   ],
   "source": [
    "\n",
    "# Display the context of an individual child string\n",
    "idx = 15\n",
    "print(indices_list); child_str = child_strs_list[idx]; pos_symbol = pos_list[idx]; basic_quals_dict = s.load_object('basic_quals_dict')\n",
    "print(str(basic_quals_dict[child_str]) + '\\n' if(child_str in basic_quals_dict) else '', end=''); print(f'{idx} {pos_symbol}) {child_str}')"
   ]
  },
  {
   "cell_type": "code",
   "execution_count": 13,
   "id": "3f1b210b-8651-4291-8c80-046a9c896392",
   "metadata": {},
   "outputs": [
    {
     "name": "stdout",
     "output_type": "stream",
     "text": [
      "Pickling to C:\\Users\\daveb\\OneDrive\\Documents\\GitHub\\job-hunting\\saves\\pkl\\basic_quals_dict.pkl\n",
      "\"<b>Novato, CA (2-3 days a week Hybrid)</b>\" in basic_quals_dict: 0\n"
     ]
    }
   ],
   "source": [
    "\n",
    "# Hand-label this particular child string in the quals dictionary\n",
    "basic_quals_dict = s.load_object('basic_quals_dict')\n",
    "basic_quals_dict[child_str] = 0\n",
    "s.store_objects(basic_quals_dict=basic_quals_dict); print(f'\"{child_str}\" in basic_quals_dict: {basic_quals_dict[child_str]}')"
   ]
  },
  {
   "cell_type": "code",
   "execution_count": 34,
   "id": "5bb3f749-0a02-4266-876d-08983725feb2",
   "metadata": {},
   "outputs": [
    {
     "data": {
      "text/plain": [
       "[{'navigable_parent': '<li>You will use problem solving and creativity to apply appropriate metrics in the creation of compelling and thorough analysis.</li>', 'is_header': 'False', 'is_task_scope': 'True', 'is_qualification': None, 'is_minimum_qualification': 'False', 'is_preferred_qualification': 'False', 'is_legal_notification': 'False', 'is_job_title': 'False', 'is_office_location': 'False', 'is_job_duration': 'False', 'is_supplemental_pay': 'False', 'is_educational_requirement': 'False', 'is_interview_procedure': 'False', 'is_corporate_scope': 'False', 'is_posting_date': 'False', 'is_other': 'False'}]"
      ]
     },
     "execution_count": 34,
     "metadata": {},
     "output_type": "execute_result"
    }
   ],
   "source": [
    "\n",
    "def do_cypher_tx(tx, navigable_parent, verbose=False):\n",
    "    cypher_str = \"\"\"MATCH (np:NavigableParents {navigable_parent: $navigable_parent})\n",
    "        SET\n",
    "            np.is_header = 'False',\n",
    "            np.is_task_scope = 'True',\n",
    "            np.is_minimum_qualification = 'False',\n",
    "            np.is_preferred_qualification = 'False',\n",
    "            np.is_educational_requirement = 'False',\n",
    "            np.is_legal_notification = 'False',\n",
    "            np.is_other = 'False',\n",
    "            np.is_corporate_scope = 'False',\n",
    "            np.is_job_title = 'False',\n",
    "            np.is_office_location = 'False',\n",
    "            np.is_job_duration = 'False',\n",
    "            np.is_supplemental_pay = 'False',\n",
    "            np.is_interview_procedure = 'False',\n",
    "            np.is_posting_date = 'False'\n",
    "        \"\"\" + cu.return_everything_str + ';'\n",
    "    results_list = tx.run(query=cypher_str, parameters={'navigable_parent': navigable_parent})\n",
    "\n",
    "    return [dict(record.items()) for record in results_list]\n",
    "with cu.driver.session() as session:\n",
    "    row_objs_list = session.write_transaction(do_cypher_tx, navigable_parent=child_str)\n",
    "row_objs_list"
   ]
  },
  {
   "cell_type": "code",
   "execution_count": 36,
   "id": "28836b66-b8d4-48cb-92a0-f28efbb39c8e",
   "metadata": {},
   "outputs": [
    {
     "data": {
      "text/plain": [
       "[{'navigable_parent': 'WHO YOU ARE', 'is_header': 'True', 'is_task_scope': 'False', 'is_qualification': None, 'is_minimum_qualification': 'True', 'is_preferred_qualification': 'False', 'is_legal_notification': 'False', 'is_job_title': 'False', 'is_office_location': 'False', 'is_job_duration': 'False', 'is_supplemental_pay': 'False', 'is_educational_requirement': 'False', 'is_interview_procedure': 'False', 'is_corporate_scope': 'False', 'is_posting_date': 'False', 'is_other': 'False'}]"
      ]
     },
     "execution_count": 36,
     "metadata": {},
     "output_type": "execute_result"
    }
   ],
   "source": [
    "\n",
    "# Show what's in the database already for this html string\n",
    "def do_cypher_tx(tx, navigable_parent, verbose=False):\n",
    "    cypher_str = '''MATCH (np:NavigableParents {navigable_parent: $navigable_parent})\n",
    "        ''' + cu.return_everything_str + ';'\n",
    "    results_list = tx.run(query=cypher_str, parameters={'navigable_parent': navigable_parent})\n",
    "\n",
    "    return [dict(record.items()) for record in results_list]\n",
    "with cu.driver.session() as session:\n",
    "    row_objs_list = session.write_transaction(do_cypher_tx, navigable_parent=child_str)\n",
    "row_objs_list"
   ]
  },
  {
   "cell_type": "code",
   "execution_count": null,
   "id": "c767d2cb-2c13-421a-b29e-546d2b1b401f",
   "metadata": {},
   "outputs": [],
   "source": [
    "\n",
    "# Remove this particular child string from the quals dictionary and database\n",
    "basic_quals_dict = s.load_object('basic_quals_dict')\n",
    "child_str = child_strs_list[idx]\n",
    "basic_quals_dict.pop(child_str, None)\n",
    "# basic_quals_dict[child_str] = 0\n",
    "s.store_objects(basic_quals_dict=basic_quals_dict)\n",
    "print(f'\"{child_str}\" in basic_quals_dict: {child_str in basic_quals_dict}')\n",
    "def do_cypher_tx(tx, qualification_str, verbose=False):\n",
    "    cypher_str = '''\n",
    "        MATCH (qs:QualificationStrings {qualification_str: $qualification_str})\n",
    "        DETACH DELETE qs;\n",
    "        '''\n",
    "    results_list = tx.run(query=cypher_str, parameters={'qualification_str': qualification_str})\n",
    "\n",
    "    return [dict(record.items()) for record in results_list]\n",
    "with cu.driver.session() as session:\n",
    "    row_objs_list = session.write_transaction(do_cypher_tx, qualification_str=child_str, verbose=False)"
   ]
  },
  {
   "cell_type": "markdown",
   "id": "a188b08e-874a-41db-a163-2232b9c7cc55",
   "metadata": {},
   "source": [
    "\n",
    "----"
   ]
  },
  {
   "cell_type": "code",
   "execution_count": 37,
   "id": "f00b97db-00ab-4ab9-8a22-323bbb5c6ddd",
   "metadata": {},
   "outputs": [
    {
     "name": "stdout",
     "output_type": "stream",
     "text": [
      "\n",
      "        MATCH (fn:FileNames {file_name: \"a7f9b8bd279918d6_Junior_Data_Analyst_Engineer_Remote_Indeed_com.html\"})\n",
      "        SET fn.is_verified = true\n",
      "        RETURN fn;\n"
     ]
    },
    {
     "data": {
      "text/plain": [
       "[{'fn': <Node element_id='972917' labels=frozenset({'FileNames'}) properties={'file_name': 'a7f9b8bd279918d6_Junior_Data_Analyst_Engineer_Remote_Indeed_com.html', 'percent_fit': 0.9333333333333333, 'posting_url': 'https://www.indeed.com/rc/clk/dl?jk=a7f9b8bd279918d6&from=ja&qd=RnZhMybXSk4M3QtTVGXWocPDA-jVn_f73KUcK2QrGXxWzxuTTZnceBTcgT1wk7VUOC2eXp93ksvkWfcXnoYGxFf_vzSr4VOn_GaBBjQ30gg&rd=R6q1JXX_v8hKS-84jS16xdPu-0bJyOrVXPgWOW9J5h0&tk=1gq74mat1m65h800&alid=63b02dca1ef86228dd5d5128', 'is_verified': True}>}]"
      ]
     },
     "execution_count": 37,
     "metadata": {},
     "output_type": "execute_result"
    }
   ],
   "source": [
    "\n",
    "# You've made no changes to the qualification dictionary (regardless of parts-of-speech changes)\n",
    "from IPython.display import clear_output\n",
    "\n",
    "def do_cypher_tx(tx, file_name, verbose=False):\n",
    "    cypher_str = \"\"\"\n",
    "        MATCH (fn:FileNames {file_name: $file_name})\n",
    "        SET fn.is_verified = true\n",
    "        RETURN fn;\"\"\"\n",
    "    if verbose:\n",
    "        clear_output(wait=True)\n",
    "        print(cypher_str.replace('$file_name', f'\"{file_name}\"'))\n",
    "    parameter_dict = {'file_name': file_name}\n",
    "    results_list = tx.run(query=cypher_str, parameters=parameter_dict)\n",
    "    values_list = []\n",
    "    for record in results_list:\n",
    "        values_list.append(dict(record.items()))\n",
    "\n",
    "    return values_list\n",
    "with cu.driver.session() as session:\n",
    "    row_objs_list = session.write_transaction(do_cypher_tx, file_name=file_name, verbose=True)\n",
    "row_objs_list"
   ]
  },
  {
   "cell_type": "code",
   "execution_count": 20,
   "id": "dbe5ce2c-5c8c-4196-96de-ee38953e10e4",
   "metadata": {},
   "outputs": [
    {
     "name": "stdout",
     "output_type": "stream",
     "text": [
      "Pickling to C:\\Users\\daveb\\OneDrive\\Documents\\GitHub\\job-hunting\\saves\\pkl\\hunting_df.pkl\n"
     ]
    },
    {
     "data": {
      "text/plain": [
       "[{'fn': <Node element_id='972425' labels=frozenset({'FileNames'}) properties={'file_name': '77496bf0516f016b_BI_Developer_on_W2_Remote_Indeed_com.html', 'posting_url': 'https://www.indeed.com/rc/clk/dl?jk=77496bf0516f016b&from=ja&qd=RnZhMybXSk4M3QtTVGXWocPDA-jVn_f73KUcK2QrGXztZO_RkD_EE3kw2XARkt-trWGNkDafvEGVhl1f5NcfKl_MKnaSAFGAsD6kfERFt3g&rd=wRw4VfvjpFhMaapCW_-ezV_MKnaSAFGAsD6kfERFt3g&tk=1gq4kobfim65h800&alid=63b02dca1ef86228dd5d5128', 'is_verified': False}>}]"
      ]
     },
     "execution_count": 20,
     "metadata": {},
     "output_type": "execute_result"
    }
   ],
   "source": [
    "\n",
    "# Mark the file name as needing retraining everywhere\n",
    "import numpy as np\n",
    "from IPython.display import clear_output\n",
    "\n",
    "# file_name = '14885afaa7bbd01e_Software_Developer_Engineer_in_Test_SDET_Eagle_ID_83616_Indeed_com.html'\n",
    "mask_series = lru.hunting_df.percent_fit.isin([file_name])\n",
    "lru.hunting_df.loc[mask_series, 'percent_fit'] = np.nan\n",
    "s.store_objects(hunting_df=lru.hunting_df)\n",
    "def do_cypher_tx(tx, file_name, verbose=False):\n",
    "    cypher_str = \"\"\"\n",
    "        MATCH (fn:FileNames {file_name: $file_name})\n",
    "        SET fn.percent_fit = NULL, fn.is_verified = false\n",
    "        RETURN fn;\"\"\"\n",
    "    if verbose:\n",
    "        clear_output(wait=True)\n",
    "        print(cypher_str.replace('$file_name', f'\"{file_name}\"'))\n",
    "    results_list = tx.run(query=cypher_str, parameters={'file_name': file_name})\n",
    "\n",
    "    return [dict(record.items()) for record in results_list]\n",
    "with cu.driver.session() as session:\n",
    "    row_objs_list = session.write_transaction(do_cypher_tx, file_name=file_name, verbose=False)\n",
    "row_objs_list"
   ]
  },
  {
   "cell_type": "code",
   "execution_count": null,
   "id": "e2f8adbd-5b7c-43d8-8680-aea4da63a134",
   "metadata": {},
   "outputs": [],
   "source": [
    "\n",
    "# Mark the file name as closed\n",
    "cypher_str = f'''\n",
    "    MATCH (fn:FileNames {{file_name: \"{file_name}\"}})\n",
    "    SET fn.is_closed = true\n",
    "    RETURN fn;'''\n",
    "print(cypher_str)\n",
    "with cu.driver.session() as session:\n",
    "    row_objs_list = session.write_transaction(cu.do_cypher_tx, cypher_str)\n",
    "row_objs_list"
   ]
  },
  {
   "cell_type": "code",
   "execution_count": null,
   "id": "befe9664-96e1-43cb-8de7-99e40d5524f8",
   "metadata": {},
   "outputs": [],
   "source": [
    "\n",
    "# Manually label the unscored qual\n",
    "qualification_str = quals_list[13]\n",
    "print(qualification_str)\n",
    "basic_quals_dict = s.load_object('basic_quals_dict')\n",
    "basic_quals_dict[qualification_str] = 0\n",
    "s.store_objects(basic_quals_dict=basic_quals_dict)"
   ]
  },
  {
   "cell_type": "code",
   "execution_count": null,
   "id": "4a4a2c62-661a-4652-b743-efa5e336ad65",
   "metadata": {},
   "outputs": [],
   "source": [
    "\n",
    "# Remove file name from database\n",
    "# file_name = '3c031ea6ad293e92_General_Service_Technician_Westborough_MA_01581_Indeed_com.html'\n",
    "cu.delete_filename_node(file_name, verbose=True)"
   ]
  },
  {
   "cell_type": "code",
   "execution_count": null,
   "id": "16fe3a9a-8b2b-4bfc-b348-ce01a188c19d",
   "metadata": {},
   "outputs": [],
   "source": []
  }
 ],
 "metadata": {
  "kernelspec": {
   "display_name": "Job Hunting (Python 3.10.9)",
   "language": "python",
   "name": "jh_env"
  },
  "language_info": {
   "codemirror_mode": {
    "name": "ipython",
    "version": 3
   },
   "file_extension": ".py",
   "mimetype": "text/x-python",
   "name": "python",
   "nbconvert_exporter": "python",
   "pygments_lexer": "ipython3",
   "version": "3.10.9"
  }
 },
 "nbformat": 4,
 "nbformat_minor": 5
}
