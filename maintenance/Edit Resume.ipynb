{
 "cells": [
  {
   "cell_type": "code",
   "execution_count": 1,
   "id": "0a843d68-d5e8-4b96-86e4-5915d4ac1d95",
   "metadata": {},
   "outputs": [
    {
     "name": "stdout",
     "output_type": "stream",
     "text": [
      "Pretty printing has been turned OFF\n"
     ]
    }
   ],
   "source": [
    "\n",
    "%pprint\n",
    "import sys\n",
    "sys.path.insert(1, '../py')"
   ]
  },
  {
   "cell_type": "code",
   "execution_count": 2,
   "id": "71e9da1f-a8af-4fe1-b49c-bbf73b036c56",
   "metadata": {},
   "outputs": [],
   "source": [
    "\n",
    "import os.path as osp\n",
    "shared_folder = osp.abspath(osp.join('..', '..', 'share'))\n",
    "import sys\n",
    "if shared_folder not in sys.path: sys.path.insert(1, shared_folder)\n",
    "from notebook_utils import NotebookUtilities\n",
    "nu = NotebookUtilities(\n",
    "    data_folder_path=osp.abspath(osp.join('..', 'data')),\n",
    "    saves_folder_path=osp.abspath(osp.join('..', 'saves'))\n",
    ")\n",
    "\n",
    "# Import needed libraries\n",
    "import os, re\n",
    "import pandas as pd"
   ]
  },
  {
   "cell_type": "code",
   "execution_count": 3,
   "id": "2305e1e9-0ca3-4993-ae25-b1a9ff6bb4b6",
   "metadata": {},
   "outputs": [
    {
     "data": {
      "text/plain": [
       "False"
      ]
     },
     "execution_count": 3,
     "metadata": {},
     "output_type": "execute_result"
    }
   ],
   "source": [
    "\n",
    "pd.notna(None)"
   ]
  },
  {
   "cell_type": "code",
   "execution_count": 3,
   "id": "bf244a8d-d4b7-436b-af1b-e63002887087",
   "metadata": {},
   "outputs": [],
   "source": [
    "\n",
    "nu.delete_ipynb_checkpoint_folders()"
   ]
  },
  {
   "cell_type": "code",
   "execution_count": 4,
   "id": "efb9bf03-4961-4817-bb03-41119c36930f",
   "metadata": {},
   "outputs": [
    {
     "name": "stdout",
     "output_type": "stream",
     "text": [
      "Attempting to open C:\\Users\\daveb\\OneDrive\\Documents\\GitHub\\job-hunting\\jh_env\\lib\\site-packages\\neo4j\\_async_compat\\network\\_bolt_socket.py\n"
     ]
    }
   ],
   "source": [
    "\n",
    "file_path = r'~\\OneDrive\\Documents\\GitHub\\job-hunting\\jh_env\\lib\\site-packages\\neo4j\\_async_compat\\network\\_bolt_socket.py'\n",
    "nu.open_path_in_notepad(file_path)"
   ]
  },
  {
   "cell_type": "code",
   "execution_count": null,
   "id": "9168d24e-580d-45aa-86bc-491b2b1f305f",
   "metadata": {},
   "outputs": [],
   "source": []
  }
 ],
 "metadata": {
  "kernelspec": {
   "display_name": "Job Hunting (Python 3.10.9)",
   "language": "python",
   "name": "jh_env"
  },
  "language_info": {
   "codemirror_mode": {
    "name": "ipython",
    "version": 3
   },
   "file_extension": ".py",
   "mimetype": "text/x-python",
   "name": "python",
   "nbconvert_exporter": "python",
   "pygments_lexer": "ipython3",
   "version": "3.10.9"
  }
 },
 "nbformat": 4,
 "nbformat_minor": 5
}
