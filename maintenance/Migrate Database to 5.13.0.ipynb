{
 "cells": [
  {
   "cell_type": "code",
   "execution_count": 1,
   "id": "e0cd2260-6d42-4da5-9f34-1651217bc469",
   "metadata": {},
   "outputs": [
    {
     "name": "stdout",
     "output_type": "stream",
     "text": [
      "Pretty printing has been turned OFF\n"
     ]
    }
   ],
   "source": [
    "\n",
    "%pprint\n",
    "import sys\n",
    "\n",
    "sys.path.insert(1, '../py')"
   ]
  },
  {
   "cell_type": "code",
   "execution_count": 2,
   "id": "050c0d2e-9a74-40d0-94bf-15fff9200560",
   "metadata": {},
   "outputs": [],
   "source": [
    "\n",
    "from storage import Storage\n",
    "import os.path as osp\n",
    "\n",
    "s = Storage(\n",
    "    data_folder_path=osp.abspath('../data'),\n",
    "    saves_folder_path=osp.abspath('../saves')\n",
    ")"
   ]
  },
  {
   "cell_type": "code",
   "execution_count": 3,
   "id": "471c4d7f-dfd9-4826-b48d-61d3d9f17085",
   "metadata": {},
   "outputs": [],
   "source": [
    "\n",
    "import os\n",
    "import subprocess\n",
    "# import shutil\n",
    "\n",
    "# Label the old and new Neo4j folders\n",
    "c_drive = 'C:\\\\'\n",
    "\n",
    "neo4j_folder = osp.join(c_drive, 'neo4j')\n",
    "\n",
    "# Neo4j 4.4.7 configuration\n",
    "neo4j447_home = osp.join(c_drive, 'neo4j-community-4.7.7-windows')\n",
    "neo4j447_databases_folder = osp.join(neo4j447_home, 'data', 'databases')\n",
    "neo4j447_data = osp.join(neo4j447_databases_folder, 'graph.db')\n",
    "\n",
    "# Neo4j 5.13.0 configuration\n",
    "neo4j5130_home = osp.join(c_drive, 'neo4j-community-5.13.0-windows')\n",
    "neo4j5130_databases_folder = osp.join(neo4j5130_home, 'data', 'databases')\n",
    "neo4j5130_data = osp.join(neo4j5130_databases_folder, 'graph.db')\n",
    "\n",
    "# Create a backup directory if it doesn't exist\n",
    "backup_dir = '../data/backups'\n",
    "os.makedirs(backup_dir, exist_ok=True)"
   ]
  },
  {
   "cell_type": "code",
   "execution_count": 4,
   "id": "a1686390-e277-4be4-84e1-ed5275db2473",
   "metadata": {},
   "outputs": [],
   "source": [
    "\n",
    "# Add the bin to the path\n",
    "paths_list = os.environ['PATH'].split(os.pathsep)\n",
    "neo4j_bin_path = r'C:\\neo4j\\bin'\n",
    "if (neo4j_bin_path not in paths_list):\n",
    "    paths_list.append(neo4j_bin_path)\n",
    "    os.environ['PATH'] = os.pathsep.join(paths_list)\n",
    "    print(os.environ['PATH'])"
   ]
  },
  {
   "cell_type": "code",
   "execution_count": 5,
   "id": "9ebb17a8-843d-467a-8c6b-db1678f07fed",
   "metadata": {},
   "outputs": [
    {
     "name": "stdout",
     "output_type": "stream",
     "text": [
      "neo4j stop\n",
      "Neo4j is not running.\n"
     ]
    }
   ],
   "source": [
    "\n",
    "# Stop Neo4j 4.4.7 server\n",
    "calls_list = ['neo4j', 'stop']\n",
    "print(' '.join(calls_list))\n",
    "try:\n",
    "    output = subprocess.run(calls_list, capture_output=True)\n",
    "    print(output.stdout.decode(s.encoding_type))\n",
    "except:\n",
    "    !{' '.join(calls_list)}"
   ]
  },
  {
   "cell_type": "code",
   "execution_count": 6,
   "id": "bf0ce33a-f022-4f6d-807c-6aeb6c2e52f2",
   "metadata": {},
   "outputs": [
    {
     "name": "stdout",
     "output_type": "stream",
     "text": [
      "neo4j-admin dump --database=neo4j --to=C:\\Users\\daveb\\OneDrive\\Documents\\GitHub\\job-hunting\\data\\backups\\neo4j-4-4-7-backup.db\n",
      "[WinError 2] The system cannot find the file specified\n"
     ]
    }
   ],
   "source": [
    "\n",
    "# Backup the Neo4j 4.4.7 database\n",
    "backup_file = osp.abspath(osp.join(backup_dir, 'neo4j-4-4-7-backup.db'))\n",
    "if osp.exists(backup_file): os.remove(backup_file)\n",
    "calls_list = ['neo4j-admin', 'dump', '--database=neo4j', f'--to={backup_file}']\n",
    "print(' '.join(calls_list))\n",
    "try:\n",
    "    output = subprocess.run(calls_list, capture_output=True)\n",
    "    print(output.stdout.decode(s.encoding_type))\n",
    "except Exception as e:\n",
    "    # !{' '.join(calls_list)}\n",
    "    print(str(e).strip())"
   ]
  },
  {
   "cell_type": "code",
   "execution_count": null,
   "id": "ba1c7438-d3b1-4e38-92e5-bb34681926ba",
   "metadata": {},
   "outputs": [],
   "source": [
    "\n",
    "# Copy the Neo4j 4.4.7 database to the Neo4j 5.13.0 data directory\n",
    "# shutil.copytree(neo4j447_data, neo4j5130_data)"
   ]
  },
  {
   "cell_type": "code",
   "execution_count": 9,
   "id": "55dd838b-a054-4b07-b359-2b96e78617f4",
   "metadata": {},
   "outputs": [],
   "source": [
    "\n",
    "# Uninstall Neo4j 4.4.7\n",
    "os.rename(neo4j_folder, neo4j447_home)"
   ]
  },
  {
   "cell_type": "code",
   "execution_count": 10,
   "id": "edbff930-226b-4d53-8adb-2669548edc87",
   "metadata": {},
   "outputs": [],
   "source": [
    "\n",
    "# Install Neo4j 5.13.0\n",
    "os.rename(neo4j5130_home, neo4j_folder)"
   ]
  },
  {
   "cell_type": "code",
   "execution_count": 8,
   "id": "6447ac3f-854c-4f7c-8aa8-cf8929cb60b3",
   "metadata": {},
   "outputs": [
    {
     "name": "stdout",
     "output_type": "stream",
     "text": [
      "neo4j console --verbose\n",
      "[WinError 2] The system cannot find the file specified\n"
     ]
    }
   ],
   "source": [
    "\n",
    "# Start Neo4j 5.13.0 server\n",
    "calls_list = ['neo4j', 'console', '--verbose']\n",
    "print(' '.join(calls_list))\n",
    "# try:\n",
    "#     output = subprocess.run(calls_list, capture_output=True)\n",
    "#     print(output.stdout.decode(s.encoding_type))\n",
    "# except Exception as e:\n",
    "#     # !{' '.join(calls_list)}\n",
    "#     print(str(e).strip())"
   ]
  },
  {
   "cell_type": "code",
   "execution_count": 10,
   "id": "7e664fed-7f04-43f9-8b85-efd0ef5e8bfd",
   "metadata": {},
   "outputs": [
    {
     "name": "stdout",
     "output_type": "stream",
     "text": [
      "C:\\neo4j\\bin\\neo4j-admin load --database=neo4j --from=C:\\Users\\daveb\\OneDrive\\Documents\\GitHub\\job-hunting\\data\\backups\\neo4j-4-4-7-backup.db\n",
      "[WinError 2] The system cannot find the file specified\n"
     ]
    }
   ],
   "source": [
    "\n",
    "# Restore the Neo4j 4.4.7 database\n",
    "calls_list = [fr'{neo4j_folder}\\bin\\neo4j-admin', 'load', '--database=neo4j', f'--from={backup_file}']\n",
    "print(' '.join(calls_list))\n",
    "try:\n",
    "    output = subprocess.run(calls_list, capture_output=True)\n",
    "    print(output.stdout.decode(s.encoding_type))\n",
    "except Exception as e:\n",
    "    # !{' '.join(calls_list)}\n",
    "    print(str(e).strip())"
   ]
  },
  {
   "cell_type": "code",
   "execution_count": 11,
   "id": "5e693c20-1a02-4c5f-b9ca-995ef533b1d3",
   "metadata": {},
   "outputs": [],
   "source": [
    "\n",
    "# Uninstall Neo4j 5.13.0\n",
    "os.rename(neo4j_folder, neo4j5130_home)"
   ]
  },
  {
   "cell_type": "code",
   "execution_count": 12,
   "id": "ee8450f9-e5d5-4b3a-8374-496f0821ceeb",
   "metadata": {},
   "outputs": [],
   "source": [
    "\n",
    "# Install Neo4j 4.4.7\n",
    "os.rename(neo4j447_home, neo4j_folder)"
   ]
  },
  {
   "cell_type": "code",
   "execution_count": null,
   "id": "6d0e3a40-87b1-43db-abe9-ec47b48ee186",
   "metadata": {},
   "outputs": [],
   "source": []
  }
 ],
 "metadata": {
  "kernelspec": {
   "display_name": "RPC (Python 3.8.6)",
   "language": "python",
   "name": "rpc_env"
  },
  "language_info": {
   "codemirror_mode": {
    "name": "ipython",
    "version": 3
   },
   "file_extension": ".py",
   "mimetype": "text/x-python",
   "name": "python",
   "nbconvert_exporter": "python",
   "pygments_lexer": "ipython3",
   "version": "3.8.6"
  }
 },
 "nbformat": 4,
 "nbformat_minor": 5
}
