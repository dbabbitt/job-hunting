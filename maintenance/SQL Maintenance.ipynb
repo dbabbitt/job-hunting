{
 "cells": [
  {
   "cell_type": "code",
   "execution_count": 2,
   "id": "environmental-strategy",
   "metadata": {},
   "outputs": [
    {
     "data": {
      "text/html": [
       "<div>\n",
       "<style scoped>\n",
       "    .dataframe tbody tr th:only-of-type {\n",
       "        vertical-align: middle;\n",
       "    }\n",
       "\n",
       "    .dataframe tbody tr th {\n",
       "        vertical-align: top;\n",
       "    }\n",
       "\n",
       "    .dataframe thead th {\n",
       "        text-align: right;\n",
       "    }\n",
       "</style>\n",
       "<table border=\"1\" class=\"dataframe\">\n",
       "  <thead>\n",
       "    <tr style=\"text-align: right;\">\n",
       "      <th></th>\n",
       "      <th>file_name</th>\n",
       "      <th>is_header</th>\n",
       "    </tr>\n",
       "  </thead>\n",
       "  <tbody>\n",
       "    <tr>\n",
       "      <th>0</th>\n",
       "      <td>(Lead_Data_Scientist)_Lead_Product_Analyst_-_C...</td>\n",
       "      <td>None</td>\n",
       "    </tr>\n",
       "    <tr>\n",
       "      <th>1</th>\n",
       "      <td>(Lead_Data_Scientist)_Lead_Product_Analyst_-_C...</td>\n",
       "      <td>False</td>\n",
       "    </tr>\n",
       "    <tr>\n",
       "      <th>2</th>\n",
       "      <td>(Lead_Data_Scientist)_Lead_Product_Analyst_-_C...</td>\n",
       "      <td>None</td>\n",
       "    </tr>\n",
       "    <tr>\n",
       "      <th>3</th>\n",
       "      <td>(Lead_Data_Scientist)_Lead_Product_Analyst_-_C...</td>\n",
       "      <td>False</td>\n",
       "    </tr>\n",
       "    <tr>\n",
       "      <th>4</th>\n",
       "      <td>(Lead_Data_Scientist)_Lead_Product_Analyst_-_C...</td>\n",
       "      <td>True</td>\n",
       "    </tr>\n",
       "  </tbody>\n",
       "</table>\n",
       "</div>"
      ],
      "text/plain": [
       "                                           file_name is_header\n",
       "0  (Lead_Data_Scientist)_Lead_Product_Analyst_-_C...      None\n",
       "1  (Lead_Data_Scientist)_Lead_Product_Analyst_-_C...     False\n",
       "2  (Lead_Data_Scientist)_Lead_Product_Analyst_-_C...      None\n",
       "3  (Lead_Data_Scientist)_Lead_Product_Analyst_-_C...     False\n",
       "4  (Lead_Data_Scientist)_Lead_Product_Analyst_-_C...      True"
      ]
     },
     "execution_count": 2,
     "metadata": {},
     "output_type": "execute_result"
    }
   ],
   "source": [
    "\n",
    "%run ../py/sql_utlis.py\n",
    "sqlu = SqlUtilities()\n",
    "conn, cursor = sqlu.get_jh_conn_cursor()\n",
    "isheaders_df = pd.DataFrame(sqlu.get_execution_results(cursor, sqlu.select_filename_isheader_sql_str,\n",
    "                                                     verbose=False))\n",
    "isheaders_df.head(5)"
   ]
  },
  {
   "cell_type": "code",
   "execution_count": 3,
   "id": "diagnostic-animal",
   "metadata": {},
   "outputs": [
    {
     "data": {
      "text/plain": [
       "file_name\n",
       "Data_Scientist_I_-_Generalist_4db73ec6324709a1.html                                         0\n",
       "Sr._Data_Scientist_-_Chicago,_IL_60661_-_Indeed.com_c6f867b4166b93af.html                   0\n",
       "Data_Scientist_-_New_York,_NY_10016_-_Indeed.com_945e6b454157cd18.html                      0\n",
       "Research_Data_Analyst_Statistician_-_Washington,_DC_-_Indeed.com_aed1c2970bb86669.html      0\n",
       "Data_Scientist_-_San_Francisco_Bay_Area,_CA_-_Indeed.com_3a7ad5d4b8526b01.html              0\n",
       "                                                                                         ... \n",
       "Sr._Data_Scientist_efa5ad2d82bd1fcd.html                                                  177\n",
       "Data_Scientist_00ba1a22ba67ffd2.html                                                      182\n",
       "Data_Scientist_2c882a7cc4be1655.html                                                      188\n",
       "NLP_Data_Scientist_544ed6cdaab8d764.html                                                  192\n",
       "Senior_Data_Scientist_c57ded0649391c68.html                                               204\n",
       "Length: 532, dtype: int64"
      ]
     },
     "execution_count": 3,
     "metadata": {},
     "output_type": "execute_result"
    }
   ],
   "source": [
    "\n",
    "def f(df):\n",
    "    mask_series = df.is_header.isnull()\n",
    "\n",
    "    return df[mask_series].shape[0]\n",
    "isheaders_series = isheaders_df.groupby('file_name').apply(f).sort_values()\n",
    "isheaders_series"
   ]
  },
  {
   "cell_type": "code",
   "execution_count": null,
   "id": "sophisticated-accordance",
   "metadata": {},
   "outputs": [],
   "source": [
    "\n",
    "sqlu.build_child_strs_list_dictionary(cursor, verbose=False)\n",
    "[sent_str for sublist in sqlu.CHILD_STRS_LIST_DICT.values() for sent_str in sublist]"
   ]
  },
  {
   "cell_type": "code",
   "execution_count": 2,
   "id": "decreased-notebook",
   "metadata": {},
   "outputs": [
    {
     "data": {
      "text/plain": [
       "{'navigable_parent': {73: '<li>Bachelor’s degree in Computer Information Science or related technical field required, Graduate degree preferred. May consider equivalent work experience.</li>',\n",
       "  74: '<li>Bachelor’s degree or equivalent experience in computer science, mathematics, statistics, economics, or similar</li>',\n",
       "  141: '<p class=\"icl-u-xs-my--none\">Bachelor\\'s (Preferred)</p>'}}"
      ]
     },
     "execution_count": 2,
     "metadata": {},
     "output_type": "execute_result"
    }
   ],
   "source": [
    "\n",
    "def f(x):\n",
    "    \n",
    "    return 'bachelor' in x.lower()\n",
    "mask_series = bachelor_df.navigable_parent.map(f)\n",
    "bachelor_df[mask_series].to_dict()"
   ]
  },
  {
   "cell_type": "code",
   "execution_count": 4,
   "id": "heard-genetics",
   "metadata": {},
   "outputs": [],
   "source": [
    "\n",
    "sql_str = r\"\"\"UPDATE NavigableParents\n",
    "    SET\n",
    "        is_minimum_qualification = 0,\n",
    "        is_preferred_qualification = 0,\n",
    "        is_educational_requirement = 1\n",
    "    WHERE (navigable_parent LIKE ? ESCAPE '\\')\"\"\"\n",
    "for tag_str in bachelor_df[mask_series].navigable_parent:\n",
    "    cursor_obj = cursor.execute(sql_str, (sqlu.wc_rgx.sub(r'\\\\\\g<1>', tag_str),))\n",
    "    cursor.commit()"
   ]
  },
  {
   "cell_type": "code",
   "execution_count": null,
   "id": "assigned-judgment",
   "metadata": {},
   "outputs": [],
   "source": []
  }
 ],
 "metadata": {
  "kernelspec": {
   "display_name": "Job Hunting (Python 3.7.9)",
   "language": "python",
   "name": "jh_env"
  },
  "language_info": {
   "codemirror_mode": {
    "name": "ipython",
    "version": 3
   },
   "file_extension": ".py",
   "mimetype": "text/x-python",
   "name": "python",
   "nbconvert_exporter": "python",
   "pygments_lexer": "ipython3",
   "version": "3.7.9"
  }
 },
 "nbformat": 4,
 "nbformat_minor": 5
}
