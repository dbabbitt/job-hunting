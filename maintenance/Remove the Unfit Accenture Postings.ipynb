{
 "cells": [
  {
   "cell_type": "code",
   "execution_count": 1,
   "id": "cd59bfce-bb91-42b6-a2ec-ad2985fcfc6b",
   "metadata": {},
   "outputs": [
    {
     "name": "stdout",
     "output_type": "stream",
     "text": [
      "Pretty printing has been turned OFF\n"
     ]
    }
   ],
   "source": [
    "\n",
    "%pprint"
   ]
  },
  {
   "cell_type": "code",
   "execution_count": 2,
   "id": "80b5a562-71c8-4120-adcd-a41302428ed1",
   "metadata": {},
   "outputs": [],
   "source": [
    "\n",
    "%matplotlib inline\n",
    "from datetime import datetime\n",
    "from neo4j.exceptions import ServiceUnavailable\n",
    "import humanize\n",
    "import os\n",
    "import re\n",
    "import sys\n",
    "import time\n",
    "import warnings\n",
    "import winsound\n",
    "\n",
    "warnings.filterwarnings('ignore')\n",
    "duration = 1000  # milliseconds\n",
    "freq = 880  # Hz\n",
    "\n",
    "# Insert at 1, 0 is the script path (or '' in REPL)\n",
    "if (osp.join('..', 'py') not in sys.path): sys.path.insert(1, osp.join('..', 'py'))"
   ]
  },
  {
   "cell_type": "code",
   "execution_count": 3,
   "id": "25253579-771a-4543-9b55-7927607cfb42",
   "metadata": {},
   "outputs": [],
   "source": [
    "\n",
    "# Get the Storage object\n",
    "from storage import Storage\n",
    "s = Storage(\n",
    "    data_folder_path=os.path.abspath('../data'),\n",
    "    saves_folder_path=os.path.abspath('../saves')\n",
    ")\n",
    "\n",
    "# Get the WebScrapingUtilities object\n",
    "from scrape_utils import WebScrapingUtilities\n",
    "wsu = WebScrapingUtilities(\n",
    "    s=s,\n",
    "    secrets_json_path=os.path.abspath('../data/secrets/jh_secrets.json')\n",
    ")\n",
    "uri = wsu.secrets_json['neo4j']['connect_url']\n",
    "user =  wsu.secrets_json['neo4j']['username']\n",
    "password = wsu.secrets_json['neo4j']['password']\n",
    "\n",
    "# Get the HeaderAnalysis object\n",
    "from ha_utils import HeaderAnalysis\n",
    "ha = HeaderAnalysis(s=s, verbose=False)\n",
    "\n",
    "# Get the CypherUtilities object and Neo4j driver\n",
    "from cypher_utils import CypherUtilities\n",
    "cu = CypherUtilities(\n",
    "    uri=uri, user=user, password=password, driver=None, s=s, ha=ha\n",
    ")"
   ]
  },
  {
   "cell_type": "code",
   "execution_count": 4,
   "id": "06bf1734-15db-440e-a37e-5100ba1ff032",
   "metadata": {},
   "outputs": [],
   "source": [
    "\n",
    "def do_cypher_tx(tx, file_name):\n",
    "    cypher_str = \"\"\"\n",
    "        MATCH (fn:FileNames)\n",
    "        WHERE fn.file_name = $file_name\n",
    "        RETURN fn.percent_fit AS percent_fit;\"\"\"\n",
    "    \n",
    "    return [dict(record.items()) for record in tx.run(query=cypher_str, parameters={'file_name': file_name})]"
   ]
  },
  {
   "cell_type": "code",
   "execution_count": 5,
   "id": "bb8720dc-680a-4a77-914a-40a6fa351d7d",
   "metadata": {},
   "outputs": [
    {
     "name": "stdout",
     "output_type": "stream",
     "text": [
      "\n",
      "                    MATCH (fn:FileNames {file_name: \"4738495_MARRIOTT_INTERNATIONAL_Program_and_Project_Management_Manager_Payments_Copy_01.html\"})\n",
      "                    DETACH DELETE fn;\n",
      "C:\\Users\\daveb\\OneDrive\\Documents\\GitHub\\job-hunting\\saves\\html\\4738495_MARRIOTT_INTERNATIONAL_Program_and_Project_Management_Manager_Payments_Copy_01.html removed\n"
     ]
    }
   ],
   "source": [
    "\n",
    "# Get the scraped job posting file names\n",
    "files_list = os.listdir(cu.SAVES_HTML_FOLDER)\n",
    "\n",
    "# Filter in just the Accenture files\n",
    "name_regex = re.compile(r'[3-4][0-9]{6}_[a-zA-Z0-9_]+\\.html')\n",
    "for file_name in files_list:\n",
    "    if name_regex.fullmatch(file_name):\n",
    "        \n",
    "        # Get the % fit from the node\n",
    "        percent_fit = 1.0\n",
    "        with cu.driver.session() as session:\n",
    "            percent_fit = session.write_transaction(do_cypher_tx, file_name=file_name)[0]['percent_fit']\n",
    "        \n",
    "        # If the percent fit is less than two thirds\n",
    "        if percent_fit < 2/3:\n",
    "            \n",
    "            # Remove the node features and folder storage\n",
    "            cu.delete_filename_node(file_name, remove_node=True, remove_file=True, verbose=True)"
   ]
  },
  {
   "cell_type": "code",
   "execution_count": null,
   "id": "1bdfa23d-ee53-42c1-af04-ff7db3d7f8d9",
   "metadata": {},
   "outputs": [],
   "source": []
  }
 ],
 "metadata": {
  "kernelspec": {
   "display_name": "Job Hunting (Python 3.10.9)",
   "language": "python",
   "name": "jh_env"
  },
  "language_info": {
   "codemirror_mode": {
    "name": "ipython",
    "version": 3
   },
   "file_extension": ".py",
   "mimetype": "text/x-python",
   "name": "python",
   "nbconvert_exporter": "python",
   "pygments_lexer": "ipython3",
   "version": "3.10.9"
  }
 },
 "nbformat": 4,
 "nbformat_minor": 5
}
