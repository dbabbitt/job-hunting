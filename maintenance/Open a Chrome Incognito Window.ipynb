{
 "cells": [
  {
   "cell_type": "code",
   "execution_count": 57,
   "id": "a0b9b55c-d2d1-43da-b01a-93b68bb307b3",
   "metadata": {},
   "outputs": [],
   "source": [
    "\n",
    "# web-scrapers/exe/geckodriver.exe\n",
    "import os\n",
    "import shutil\n",
    "\n",
    "# Define the path to the cache directory\n",
    "cache_dir = r\"C:\\Users\\daveb\\.cache\\selenium\\chromedriver\"\n",
    "\n",
    "# Clear the cache directory\n",
    "if os.path.exists(cache_dir):\n",
    "    shutil.rmtree(cache_dir)  # Remove the entire directory and its contents\n",
    "    os.makedirs(cache_dir)     # Recreate the directory\n",
    "\n",
    "# Now you can proceed with your Selenium setup\n",
    "from selenium import webdriver\n",
    "from selenium.webdriver.chrome.service import Service\n",
    "from selenium.webdriver.chrome.options import Options\n",
    "from webdriver_manager.chrome import ChromeDriverManager\n",
    "\n",
    "# Set up Chrome options\n",
    "chrome_options = Options()\n",
    "chrome_options.add_argument(\"--incognito\")  # Open in Incognito mode\n",
    "chrome_options.add_argument(\"--disable-popup-blocking\")  # Disable pop-up blockers\n",
    "chrome_options.add_argument(\"--enable-javascript\")  # Ensure JavaScript is enabled\n",
    "chrome_options.add_argument(\"--disable-application-cache\")  # Disable cache\n",
    "\n",
    "# Automatically download and set up ChromeDriver\n",
    "# chromedriver_path = r\"C:\\Users\\daveb\\.wdm\\drivers\\chromedriver\\win64\\131.0.6778.85\\chromedriver-win64\\chromedriver.exe\"\n",
    "chromedriver_path = ChromeDriverManager().install()"
   ]
  },
  {
   "cell_type": "code",
   "execution_count": 61,
   "id": "bd2bcd41-1693-4c4d-b0af-07c1fc7eabb5",
   "metadata": {},
   "outputs": [],
   "source": [
    "\n",
    "# Add the driver and log paths to the service object\n",
    "from selenium.webdriver.chrome.service import Service\n",
    "\n",
    "log_dir = '../log'\n",
    "os.makedirs(name=log_dir, exist_ok=True)\n",
    "service_log_path = os.path.join(log_dir, 'chromedriver.log')\n",
    "service = Service(chromedriver_path, log_path=service_log_path)"
   ]
  },
  {
   "cell_type": "code",
   "execution_count": 62,
   "id": "9ecfb1be-d6e0-493a-b2ab-a3ad22d47207",
   "metadata": {},
   "outputs": [],
   "source": [
    "\n",
    "# Create a new instance of the Chrome driver\n",
    "try:\n",
    "    driver = webdriver.Chrome(service=service, options=chrome_options)\n",
    "except OSError as e:\n",
    "    print(f'You need to go to https://googlechromelabs.github.io/chrome-for-testing/ and pick a stable win64 chromedriver and fix this code')\n",
    "    from pathlib import Path\n",
    "    chromedriver_path = osp.join(Path(chromedriver_path).parent.parent, 'chromedriver-win64', 'chromedriver.exe')\n",
    "    service = Service(chromedriver_path, log_path=service_log_path)\n",
    "    driver = webdriver.Chrome(service=service, options=chrome_options)\n",
    "except Exception as e:\n",
    "    print(f'{e.__class__.__name__} error while creating a new instance of the Chrome driver: {e}')"
   ]
  },
  {
   "cell_type": "code",
   "execution_count": null,
   "id": "9de55983-c430-4a5e-9867-ef34012b7e49",
   "metadata": {},
   "outputs": [],
   "source": [
    "\n",
    "# Clear cookies and cache\n",
    "driver.delete_all_cookies()  # Clear cookies (if any)"
   ]
  },
  {
   "cell_type": "code",
   "execution_count": 41,
   "id": "a3fbc226-c4f4-4877-a9b3-69972a85f1dd",
   "metadata": {},
   "outputs": [],
   "source": [
    "\n",
    "# Open a URL in the Incognito window\n",
    "driver.get(\"https://secure.indeed.com/auth?hl=en_US&co=US&continue=https%3A%2F%2Fwww.indeed.com%2Fjobs%3Fq%3Ddata%2Bscientist%2B%2524100%252C000%26forceLocation%3D032b3046-06a3-4876-8dfd-474eb5e7ed11%26remotejob%3D032b3046-06a3-4876-8dfd-474eb5e7ed11%26from%3Dgnav-util-jobsearch--jasx&tmpl=desktop&service=my&from=gnav-util-jobsearch--jasx&_ga=2.217171294.930897774.1613412371-1243588806.1612290936\")"
   ]
  },
  {
   "cell_type": "code",
   "execution_count": 63,
   "id": "06449654-4e59-4ab5-a4c9-75e1fdb6fbd5",
   "metadata": {},
   "outputs": [],
   "source": [
    "\n",
    "# Remember to close the driver after your tasks\n",
    "driver.quit()"
   ]
  },
  {
   "cell_type": "code",
   "execution_count": null,
   "id": "0d0457e8-dcfc-4a7e-a59d-8a85f70c082a",
   "metadata": {},
   "outputs": [],
   "source": []
  }
 ],
 "metadata": {
  "kernelspec": {
   "display_name": "Job Hunting (Python 3.10.9)",
   "language": "python",
   "name": "jh_env"
  },
  "language_info": {
   "codemirror_mode": {
    "name": "ipython",
    "version": 3
   },
   "file_extension": ".py",
   "mimetype": "text/x-python",
   "name": "python",
   "nbconvert_exporter": "python",
   "pygments_lexer": "ipython3",
   "version": "3.10.9"
  }
 },
 "nbformat": 4,
 "nbformat_minor": 5
}
