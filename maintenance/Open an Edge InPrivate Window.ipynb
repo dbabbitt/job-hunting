{
 "cells": [
  {
   "cell_type": "code",
   "execution_count": 6,
   "id": "747b426c-b5f0-48c1-9c5b-9312c65dc7e6",
   "metadata": {},
   "outputs": [],
   "source": [
    "\n",
    "# web-scrapers/exe/geckodriver.exe\n",
    "from selenium import webdriver\n",
    "from selenium.webdriver.edge.service import Service\n",
    "from selenium.webdriver.edge.options import Options\n",
    "\n",
    "# Set up Edge options for InPrivate mode\n",
    "edge_options = Options()\n",
    "edge_options.add_argument(\"inprivate\")\n",
    "\n",
    "# Specify the path to the Edge WebDriver\n",
    "service = Service(r\"C:\\WebDrivers\\Edge\\Version_131.0.2903.63\\msedgedriver.exe\")\n",
    "\n",
    "# Create a new instance of the Edge driver\n",
    "driver = webdriver.Edge(service=service, options=edge_options)\n",
    "\n",
    "# Open a URL in the InPrivate window\n",
    "driver.get(\"https://secure.indeed.com/auth?hl=en_US&co=US&continue=https%3A%2F%2Fwww.indeed.com%2Fjobs%3Fq%3Ddata%2Bscientist%2B%2524100%252C000%26forceLocation%3D032b3046-06a3-4876-8dfd-474eb5e7ed11%26remotejob%3D032b3046-06a3-4876-8dfd-474eb5e7ed11%26from%3Dgnav-util-jobsearch--jasx&tmpl=desktop&service=my&from=gnav-util-jobsearch--jasx&_ga=2.217171294.930897774.1613412371-1243588806.1612290936\")"
   ]
  },
  {
   "cell_type": "code",
   "execution_count": 7,
   "id": "06449654-4e59-4ab5-a4c9-75e1fdb6fbd5",
   "metadata": {},
   "outputs": [],
   "source": [
    "\n",
    "# Remember to close the driver after your tasks\n",
    "driver.quit()"
   ]
  }
 ],
 "metadata": {
  "kernelspec": {
   "display_name": "Job Hunting (Python 3.10.9)",
   "language": "python",
   "name": "jh_env"
  },
  "language_info": {
   "codemirror_mode": {
    "name": "ipython",
    "version": 3
   },
   "file_extension": ".py",
   "mimetype": "text/x-python",
   "name": "python",
   "nbconvert_exporter": "python",
   "pygments_lexer": "ipython3",
   "version": "3.10.9"
  }
 },
 "nbformat": 4,
 "nbformat_minor": 5
}
