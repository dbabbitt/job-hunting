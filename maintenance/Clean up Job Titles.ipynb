{
 "cells": [
  {
   "cell_type": "code",
   "execution_count": 1,
   "id": "5a7f1fe9-cd12-44f3-8e40-99c83671bb65",
   "metadata": {},
   "outputs": [
    {
     "name": "stdout",
     "output_type": "stream",
     "text": [
      "Pretty printing has been turned OFF\n",
      "======== Neo4j/4.4.7 ========\n",
      "Utility libraries created in 4 seconds\n"
     ]
    }
   ],
   "source": [
    "\n",
    "%pprint\n",
    "%matplotlib inline\n",
    "import sys\n",
    "if (osp.join('..', 'py') not in sys.path): sys.path.insert(1, osp.join('..', 'py'))\n",
    "from jobpostlib import (crf, cu, datetime, duration, hau, hc, humanize, ihu, lru, nu, osp, scrfcu, slrcu, ssgdcu, su, t0, time, wsu, speech_engine)\n",
    "import os\n",
    "from pandas import DataFrame, Series\n",
    "import re\n",
    "\n",
    "freq = 990"
   ]
  },
  {
   "cell_type": "code",
   "execution_count": 2,
   "id": "06bf1734-15db-440e-a37e-5100ba1ff032",
   "metadata": {},
   "outputs": [],
   "source": [
    "\n",
    "def do_cypher_tx(tx, file_name):\n",
    "    cypher_str = \"\"\"\n",
    "        // Get the HTML strings that are Job Titles\n",
    "        CALL {\n",
    "            MATCH (np1:NavigableParents)-[r:NEXT]->(np2:NavigableParents)\n",
    "            WHERE\n",
    "                (np1.is_header = false) AND\n",
    "                (np1.is_job_title = true) AND\n",
    "                (r.file_name = $file_name)\n",
    "            RETURN\n",
    "                r.file_name AS file_name,\n",
    "                NULL AS left_navigable_parent,\n",
    "                LEFT(np1.navigable_parent, 50) AS middle_navigable_parent,\n",
    "                LEFT(np2.navigable_parent, 50) AS right_navigable_parent\n",
    "            \n",
    "            UNION\n",
    "            \n",
    "            MATCH (np1:NavigableParents)-[r:NEXT]->(np2:NavigableParents)\n",
    "            WHERE\n",
    "                (np2.is_header = false) AND\n",
    "                (np2.is_job_title = true) AND\n",
    "                (r.file_name = $file_name)\n",
    "            RETURN\n",
    "                r.file_name AS file_name,\n",
    "                LEFT(np1.navigable_parent, 50) AS left_navigable_parent,\n",
    "                LEFT(np2.navigable_parent, 50) AS middle_navigable_parent,\n",
    "                NULL AS right_navigable_parent\n",
    "        }\n",
    "        RETURN file_name, left_navigable_parent, middle_navigable_parent, right_navigable_parent;\"\"\"\n",
    "    \n",
    "    return [dict(record.items()) for record in tx.run(query=cypher_str, parameters={'file_name': file_name})]"
   ]
  },
  {
   "cell_type": "code",
   "execution_count": 3,
   "id": "b9ff7624-96fc-4493-a237-5ffbd1bc4625",
   "metadata": {},
   "outputs": [],
   "source": [
    "\n",
    "import pyperclip\n",
    "\n",
    "SUBSTRS_LIST = [\n",
    "    'Hire', 'Denver', 'VA', 'Accenture', 'Position', 'Hire', 'BA', 'Job', 'COM', 'AMAZON', 'AAA', 'Los Angeles', 'New', 'United States', 'NJ', 'hybrid', 'Lincoln Laboratory', 'MIT',\n",
    "    'contract', 'NY', 'San', 'Inc', 'on', 'with', 'CO', 'Hybrid', 'term', 'OR', 'US', 'or', 'Boston', 'in', 'INC', 'MA', 'MD', 'CA', 'Washington', 'Rockville', 'ONSITE', 'Air',\n",
    "    'Cambridge', 'Traffic', 'Marlborough', 'App', 'USA', 'C', 'UNIX', 'York', 'Role', 'Salem', 'Texas', 'Oregon', 'Worcester', 'Jose', 'Columbia', 'Francisco', 'Minneapolis', 'MN',\n",
    "    'East Coast', 'Atlanta GA', 'Group', 'GOOGLE', 'Nashville TN', 'months', 'MARRIOTT INTERNATIONAL', 'Orlando FL', 'Virgin Island WI', 'VERIZON COMMUNICATIONS', 'Contract to',\n",
    "    'Troy MI', 'Aurora', 'Fort PA', 'NASA', 'Greenbelt', 'Long Term Contract', 'Corporation', 'Selangor', 'Malaysia', 'Title', 'Location', 'No', 'China Lake', 'Toronto ON', 'Contract',\n",
    "    'Internal', 'North America', 'Windsor Mill', 'Carson City NV', 'Portland', 'opening at sigma inc', 'UT', 'DC', 'Melville', 'Haven CT', 'Professional', 'Beaverton', 'Focus', 'Long',\n",
    "    'Maharashtra', 'The Method'\n",
    "]\n",
    "pyperclip.copy(r'\\b(' + '|'.join(SUBSTRS_LIST) + r')\\b')\n",
    "def f(x):\n",
    "    x = re.sub(r'</?\\w+[^>]*>', '', str(x)).split(':')[-1].strip().split('<')[0].strip().split('(')[0].strip()\n",
    "    x = re.sub(r'[^A-Za-z /,]+', '', x)\n",
    "    x = re.sub(r'\\bOntologi\\b', 'Ontology', x)\n",
    "    x = re.sub(r'in \\bOnto\\b', ', Ontology', x)\n",
    "    x = re.sub(r' */ *', ' / ', x)\n",
    "    x = re.sub(r' *, *', ', ', x)\n",
    "    x = re.sub(r'\\bScientis\\b', 'Scientist', x).replace('scientist', 'Scientist').replace('DataScientist', 'Data Scientist')\n",
    "    x = re.sub(r'\\bSr\\b', 'Senior', x)\n",
    "    x = re.sub(r'\\bJr\\b', 'Junior', x)\n",
    "    x = re.sub(r' \\bCopy\\b', '', x)\n",
    "    x = re.sub(r' \\bREMOTE\\b|\\bREMOTE\\b ', '', x, 0, re.IGNORECASE)\n",
    "    x = re.sub(r' \\bJob Opening\\b ', '', x, 0, re.IGNORECASE)\n",
    "    x = re.sub(r', etc', '', x)\n",
    "    x = re.sub(r',? on\\b', ',', x)\n",
    "    x = re.sub(r'full ?stack', 'Full Stack', x)\n",
    "    x = re.sub(r'\\b(python|PYTHON)\\b', 'Python', x)\n",
    "    x = re.sub('Training( and)? Placement(, | on )?', '', x, 0, re.IGNORECASE)\n",
    "    x = re.sub(r'\\blead\\b', 'Lead', x)\n",
    "    x = re.sub(r'\\bENGINEERDEEP\\b', 'Engineer Deep', x)\n",
    "    x = re.sub(r'\\bsupport\\b', 'Support', x, 0, re.IGNORECASE)\n",
    "    x = re.sub(r'BANK OF America ', '', x, 0, re.IGNORECASE)\n",
    "    x = re.sub(r' and yrs', '', x, 0, re.IGNORECASE)\n",
    "    for sub_str in SUBSTRS_LIST:\n",
    "        x = re.sub(r' \\b' + sub_str + r'\\b|\\b' + sub_str + r'\\b ', '', x)\n",
    "    x = ' '.join([w.title() if (w.upper() == w) and (len(w) > 5) else w for w in x.split()])\n",
    "    x = x.replace('Data Scientist Machine Learning Scientist Global Technologies', 'Machine Learning Scientist')\n",
    "    x = x.replace('Data Scientist Machine Learning Scientist Open Systems', 'Machine Learning Scientist')\n",
    "    x = x.replace('Data Scientist Machine Learning Scientist Deep Learning Computer Vision Scientist Global Technologies', 'Machine Learning Scientist')\n",
    "    # if 'Scientist Machine' in x: display(x)\n",
    "    x = x.replace('Statisticians', 'Statistician').replace('Developers', 'Developer').strip()\n",
    "\n",
    "    return x"
   ]
  },
  {
   "cell_type": "code",
   "execution_count": null,
   "id": "04bdc7d7-bfaa-49fe-b413-9b098803b4ea",
   "metadata": {},
   "outputs": [],
   "source": [
    "\n",
    "# assert cu.SAVES_HTML_FOLDER == hau.SAVES_HTML_FOLDER\n",
    "from pandas import concat\n",
    "import enchant\n",
    "\n",
    "# Loop through all files in the folder\n",
    "file_name_job_titles_df = DataFrame([])\n",
    "d = enchant.Dict('en_US')\n",
    "for file_name in os.listdir(hau.SAVES_HTML_FOLDER):\n",
    "    \n",
    "    # Check if the current item is an HTML file\n",
    "    if file_name.endswith('.html'):\n",
    "\n",
    "        # Get any possible HTML strings that are tagged as job titles\n",
    "        with cu.driver.session() as session:\n",
    "            df = DataFrame(session.write_transaction(do_cypher_tx, file_name=file_name))\n",
    "        \n",
    "        # Convert the file name into a job title and add it to the data frame\n",
    "        df['job_title'] = ' '.join([w for w in re.split('[^.A-Za-z0-9-]+', re.sub('_Indeed[._]com', '', file_name.replace('.html', '')), 0) if w and d.check(w)])\n",
    "        df['file_name'] = file_name\n",
    "        file_name_job_titles_df = concat([file_name_job_titles_df, df], axis='index', ignore_index=True)\n",
    "\n",
    "file_name_job_titles_df.job_title = file_name_job_titles_df.job_title.map(f)"
   ]
  },
  {
   "cell_type": "code",
   "execution_count": 5,
   "id": "0d3318aa-1986-4d19-b846-1542bbdebb71",
   "metadata": {},
   "outputs": [
    {
     "name": "stdout",
     "output_type": "stream",
     "text": [
      "['Lead Data Scientist Machine Learning']\n"
     ]
    },
    {
     "data": {
      "text/html": [
       "<div>\n",
       "<style scoped>\n",
       "    .dataframe tbody tr th:only-of-type {\n",
       "        vertical-align: middle;\n",
       "    }\n",
       "\n",
       "    .dataframe tbody tr th {\n",
       "        vertical-align: top;\n",
       "    }\n",
       "\n",
       "    .dataframe thead th {\n",
       "        text-align: right;\n",
       "    }\n",
       "</style>\n",
       "<table border=\"1\" class=\"dataframe\">\n",
       "  <thead>\n",
       "    <tr style=\"text-align: right;\">\n",
       "      <th></th>\n",
       "      <th>job_title</th>\n",
       "      <th>file_name</th>\n",
       "      <th>left_navigable_parent</th>\n",
       "      <th>middle_navigable_parent</th>\n",
       "      <th>right_navigable_parent</th>\n",
       "    </tr>\n",
       "  </thead>\n",
       "  <tbody>\n",
       "    <tr>\n",
       "      <th>569</th>\n",
       "      <td>Lead Data Scientist Machine Learning</td>\n",
       "      <td>Lead_Data_Scientist_Machine_Learning_-_Remote_...</td>\n",
       "      <td>&lt;p&gt;Arlington, TX (remote to start)&lt;/p&gt;</td>\n",
       "      <td>&lt;b&gt;Lead Data Scientist, Machine Learning&lt;/b&gt;</td>\n",
       "      <td>None</td>\n",
       "    </tr>\n",
       "  </tbody>\n",
       "</table>\n",
       "</div>"
      ],
      "text/plain": [
       "                                job_title  \\\n",
       "569  Lead Data Scientist Machine Learning   \n",
       "\n",
       "                                             file_name  \\\n",
       "569  Lead_Data_Scientist_Machine_Learning_-_Remote_...   \n",
       "\n",
       "                      left_navigable_parent  \\\n",
       "569  <p>Arlington, TX (remote to start)</p>   \n",
       "\n",
       "                          middle_navigable_parent right_navigable_parent  \n",
       "569  <b>Lead Data Scientist, Machine Learning</b>                   None  "
      ]
     },
     "metadata": {},
     "output_type": "display_data"
    }
   ],
   "source": [
    "\n",
    "# Scientist Machine\n",
    "mask_series = file_name_job_titles_df.job_title.map(lambda x: 'Scientist Machine' in str(x))\n",
    "df = file_name_job_titles_df[mask_series]\n",
    "print(sorted(df.job_title.unique()))\n",
    "display(df)"
   ]
  },
  {
   "cell_type": "code",
   "execution_count": 6,
   "id": "b5767399-6efe-4230-9df6-3c897841fd60",
   "metadata": {},
   "outputs": [
    {
     "data": {
      "text/plain": [
       "Engineer      38\n",
       "Data          33\n",
       "Senior        24\n",
       "Software      17\n",
       "Developer     15\n",
       "Learning      15\n",
       "Python        15\n",
       "Machine       13\n",
       "Scientist     12\n",
       "Analyst       11\n",
       "Lead           8\n",
       "Test           6\n",
       "and            5\n",
       "Automation     5\n",
       "QA             5\n",
       "Manager        4\n",
       "Quality        4\n",
       "Junior         4\n",
       "AI             4\n",
       "Director       3\n",
       "Name: count, dtype: int64"
      ]
     },
     "execution_count": 6,
     "metadata": {},
     "output_type": "execute_result"
    }
   ],
   "source": [
    "\n",
    "filename_jobtitles_list = sorted([j for j in file_name_job_titles_df.unique() if j])\n",
    "flattened_list = [word_str for job_title in filename_jobtitles_list for word_str in job_title.split()]\n",
    "srs = Series(flattened_list).value_counts()\n",
    "srs[srs > 1].head(20)"
   ]
  },
  {
   "cell_type": "code",
   "execution_count": 7,
   "id": "a7ef6290-6896-4a30-9df3-f6c24a551445",
   "metadata": {},
   "outputs": [
    {
     "data": {
      "text/html": [
       "<div>\n",
       "<style scoped>\n",
       "    .dataframe tbody tr th:only-of-type {\n",
       "        vertical-align: middle;\n",
       "    }\n",
       "\n",
       "    .dataframe tbody tr th {\n",
       "        vertical-align: top;\n",
       "    }\n",
       "\n",
       "    .dataframe thead th {\n",
       "        text-align: right;\n",
       "    }\n",
       "</style>\n",
       "<table border=\"1\" class=\"dataframe\">\n",
       "  <thead>\n",
       "    <tr style=\"text-align: right;\">\n",
       "      <th></th>\n",
       "      <th>first_item</th>\n",
       "      <th>second_item</th>\n",
       "      <th>first_bytes</th>\n",
       "      <th>second_bytes</th>\n",
       "      <th>max_similarity</th>\n",
       "    </tr>\n",
       "  </thead>\n",
       "  <tbody>\n",
       "    <tr>\n",
       "      <th>0</th>\n",
       "      <td>Machine Learning Engineer</td>\n",
       "      <td>Machine Learning Engineer II</td>\n",
       "      <td>77-97-99-104-105-110-101-32-76-101-97-114-110-...</td>\n",
       "      <td>77-97-99-104-105-110-101-32-76-101-97-114-110-...</td>\n",
       "      <td>0.943396</td>\n",
       "    </tr>\n",
       "    <tr>\n",
       "      <th>1</th>\n",
       "      <td>Junior Python Developer</td>\n",
       "      <td>Senior Python Developer</td>\n",
       "      <td>74-117-110-105-111-114-32-80-121-116-104-111-1...</td>\n",
       "      <td>83-101-110-105-111-114-32-80-121-116-104-111-1...</td>\n",
       "      <td>0.913043</td>\n",
       "    </tr>\n",
       "    <tr>\n",
       "      <th>2</th>\n",
       "      <td>Machine Learning Operations Engineer</td>\n",
       "      <td>Senior Machine Learning Operations Engineer</td>\n",
       "      <td>77-97-99-104-105-110-101-32-76-101-97-114-110-...</td>\n",
       "      <td>83-101-110-105-111-114-32-77-97-99-104-105-110...</td>\n",
       "      <td>0.911392</td>\n",
       "    </tr>\n",
       "    <tr>\n",
       "      <th>3</th>\n",
       "      <td>Software Development Engineer Test</td>\n",
       "      <td>Software Development Engineer Test Senior</td>\n",
       "      <td>83-111-102-116-119-97-114-101-32-68-101-118-10...</td>\n",
       "      <td>83-111-102-116-119-97-114-101-32-68-101-118-10...</td>\n",
       "      <td>0.906667</td>\n",
       "    </tr>\n",
       "    <tr>\n",
       "      <th>4</th>\n",
       "      <td>Junior Data Scientist</td>\n",
       "      <td>Senior Data Scientist</td>\n",
       "      <td>74-117-110-105-111-114-32-68-97-116-97-32-83-9...</td>\n",
       "      <td>83-101-110-105-111-114-32-68-97-116-97-32-83-9...</td>\n",
       "      <td>0.904762</td>\n",
       "    </tr>\n",
       "    <tr>\n",
       "      <th>5</th>\n",
       "      <td>Data Scientist</td>\n",
       "      <td>Data Scientist IV</td>\n",
       "      <td>68-97-116-97-32-83-99-105-101-110-116-105-115-116</td>\n",
       "      <td>68-97-116-97-32-83-99-105-101-110-116-105-115-...</td>\n",
       "      <td>0.903226</td>\n",
       "    </tr>\n",
       "    <tr>\n",
       "      <th>6</th>\n",
       "      <td>Python Software Engineer Deep Learning</td>\n",
       "      <td>Software Engineer Deep Learning</td>\n",
       "      <td>80-121-116-104-111-110-32-83-111-102-116-119-9...</td>\n",
       "      <td>83-111-102-116-119-97-114-101-32-69-110-103-10...</td>\n",
       "      <td>0.898551</td>\n",
       "    </tr>\n",
       "    <tr>\n",
       "      <th>7</th>\n",
       "      <td>Python Developer</td>\n",
       "      <td>Python Web Developer</td>\n",
       "      <td>80-121-116-104-111-110-32-68-101-118-101-108-1...</td>\n",
       "      <td>80-121-116-104-111-110-32-87-101-98-32-68-101-...</td>\n",
       "      <td>0.888889</td>\n",
       "    </tr>\n",
       "    <tr>\n",
       "      <th>8</th>\n",
       "      <td>Senior Software Engineer Python</td>\n",
       "      <td>Software Engineer Python</td>\n",
       "      <td>83-101-110-105-111-114-32-83-111-102-116-119-9...</td>\n",
       "      <td>83-111-102-116-119-97-114-101-32-69-110-103-10...</td>\n",
       "      <td>0.872727</td>\n",
       "    </tr>\n",
       "    <tr>\n",
       "      <th>9</th>\n",
       "      <td>Senior Software Engineer</td>\n",
       "      <td>Senior Software Engineer Python</td>\n",
       "      <td>83-101-110-105-111-114-32-83-111-102-116-119-9...</td>\n",
       "      <td>83-101-110-105-111-114-32-83-111-102-116-119-9...</td>\n",
       "      <td>0.872727</td>\n",
       "    </tr>\n",
       "    <tr>\n",
       "      <th>10</th>\n",
       "      <td>Senior Engineer</td>\n",
       "      <td>Senior Test Engineer</td>\n",
       "      <td>83-101-110-105-111-114-32-69-110-103-105-110-1...</td>\n",
       "      <td>83-101-110-105-111-114-32-84-101-115-116-32-69...</td>\n",
       "      <td>0.857143</td>\n",
       "    </tr>\n",
       "    <tr>\n",
       "      <th>11</th>\n",
       "      <td>Data Quality Analyst</td>\n",
       "      <td>Quality Analyst</td>\n",
       "      <td>68-97-116-97-32-81-117-97-108-105-116-121-32-6...</td>\n",
       "      <td>81-117-97-108-105-116-121-32-65-110-97-108-121...</td>\n",
       "      <td>0.857143</td>\n",
       "    </tr>\n",
       "    <tr>\n",
       "      <th>12</th>\n",
       "      <td>Senior Machine Learning Engineer</td>\n",
       "      <td>Senior Machine Learning Operations Engineer</td>\n",
       "      <td>83-101-110-105-111-114-32-77-97-99-104-105-110...</td>\n",
       "      <td>83-101-110-105-111-114-32-77-97-99-104-105-110...</td>\n",
       "      <td>0.853333</td>\n",
       "    </tr>\n",
       "    <tr>\n",
       "      <th>13</th>\n",
       "      <td>Full Stack Developer</td>\n",
       "      <td>Senior Full Stack Developer</td>\n",
       "      <td>70-117-108-108-32-83-116-97-99-107-32-68-101-1...</td>\n",
       "      <td>83-101-110-105-111-114-32-70-117-108-108-32-83...</td>\n",
       "      <td>0.851064</td>\n",
       "    </tr>\n",
       "    <tr>\n",
       "      <th>14</th>\n",
       "      <td>Software Engineer</td>\n",
       "      <td>Unity Software Engineer</td>\n",
       "      <td>83-111-102-116-119-97-114-101-32-69-110-103-10...</td>\n",
       "      <td>85-110-105-116-121-32-83-111-102-116-119-97-11...</td>\n",
       "      <td>0.850000</td>\n",
       "    </tr>\n",
       "    <tr>\n",
       "      <th>15</th>\n",
       "      <td>Data Lead Scientist</td>\n",
       "      <td>Data Scientist</td>\n",
       "      <td>68-97-116-97-32-76-101-97-100-32-83-99-105-101...</td>\n",
       "      <td>68-97-116-97-32-83-99-105-101-110-116-105-115-116</td>\n",
       "      <td>0.848485</td>\n",
       "    </tr>\n",
       "    <tr>\n",
       "      <th>16</th>\n",
       "      <td>Data Engineer</td>\n",
       "      <td>Data Lead Engineer</td>\n",
       "      <td>68-97-116-97-32-69-110-103-105-110-101-101-114</td>\n",
       "      <td>68-97-116-97-32-76-101-97-100-32-69-110-103-10...</td>\n",
       "      <td>0.838710</td>\n",
       "    </tr>\n",
       "    <tr>\n",
       "      <th>17</th>\n",
       "      <td>Data Science Consultant</td>\n",
       "      <td>Security Data Science Consultant</td>\n",
       "      <td>68-97-116-97-32-83-99-105-101-110-99-101-32-67...</td>\n",
       "      <td>83-101-99-117-114-105-116-121-32-68-97-116-97-...</td>\n",
       "      <td>0.836364</td>\n",
       "    </tr>\n",
       "    <tr>\n",
       "      <th>18</th>\n",
       "      <td>Machine Learning Engineer II</td>\n",
       "      <td>Senior Machine Learning Engineer</td>\n",
       "      <td>77-97-99-104-105-110-101-32-76-101-97-114-110-...</td>\n",
       "      <td>83-101-110-105-111-114-32-77-97-99-104-105-110...</td>\n",
       "      <td>0.833333</td>\n",
       "    </tr>\n",
       "    <tr>\n",
       "      <th>19</th>\n",
       "      <td>Lead Data Scientist</td>\n",
       "      <td>Staff Data Scientist</td>\n",
       "      <td>76-101-97-100-32-68-97-116-97-32-83-99-105-101...</td>\n",
       "      <td>83-116-97-102-102-32-68-97-116-97-32-83-99-105...</td>\n",
       "      <td>0.820513</td>\n",
       "    </tr>\n",
       "  </tbody>\n",
       "</table>\n",
       "</div>"
      ],
      "text/plain": [
       "                                first_item  \\\n",
       "0                Machine Learning Engineer   \n",
       "1                  Junior Python Developer   \n",
       "2     Machine Learning Operations Engineer   \n",
       "3       Software Development Engineer Test   \n",
       "4                    Junior Data Scientist   \n",
       "5                           Data Scientist   \n",
       "6   Python Software Engineer Deep Learning   \n",
       "7                         Python Developer   \n",
       "8          Senior Software Engineer Python   \n",
       "9                 Senior Software Engineer   \n",
       "10                         Senior Engineer   \n",
       "11                    Data Quality Analyst   \n",
       "12        Senior Machine Learning Engineer   \n",
       "13                    Full Stack Developer   \n",
       "14                       Software Engineer   \n",
       "15                     Data Lead Scientist   \n",
       "16                           Data Engineer   \n",
       "17                 Data Science Consultant   \n",
       "18            Machine Learning Engineer II   \n",
       "19                     Lead Data Scientist   \n",
       "\n",
       "                                    second_item  \\\n",
       "0                  Machine Learning Engineer II   \n",
       "1                       Senior Python Developer   \n",
       "2   Senior Machine Learning Operations Engineer   \n",
       "3     Software Development Engineer Test Senior   \n",
       "4                         Senior Data Scientist   \n",
       "5                             Data Scientist IV   \n",
       "6               Software Engineer Deep Learning   \n",
       "7                          Python Web Developer   \n",
       "8                      Software Engineer Python   \n",
       "9               Senior Software Engineer Python   \n",
       "10                         Senior Test Engineer   \n",
       "11                              Quality Analyst   \n",
       "12  Senior Machine Learning Operations Engineer   \n",
       "13                  Senior Full Stack Developer   \n",
       "14                      Unity Software Engineer   \n",
       "15                               Data Scientist   \n",
       "16                           Data Lead Engineer   \n",
       "17             Security Data Science Consultant   \n",
       "18             Senior Machine Learning Engineer   \n",
       "19                         Staff Data Scientist   \n",
       "\n",
       "                                          first_bytes  \\\n",
       "0   77-97-99-104-105-110-101-32-76-101-97-114-110-...   \n",
       "1   74-117-110-105-111-114-32-80-121-116-104-111-1...   \n",
       "2   77-97-99-104-105-110-101-32-76-101-97-114-110-...   \n",
       "3   83-111-102-116-119-97-114-101-32-68-101-118-10...   \n",
       "4   74-117-110-105-111-114-32-68-97-116-97-32-83-9...   \n",
       "5   68-97-116-97-32-83-99-105-101-110-116-105-115-116   \n",
       "6   80-121-116-104-111-110-32-83-111-102-116-119-9...   \n",
       "7   80-121-116-104-111-110-32-68-101-118-101-108-1...   \n",
       "8   83-101-110-105-111-114-32-83-111-102-116-119-9...   \n",
       "9   83-101-110-105-111-114-32-83-111-102-116-119-9...   \n",
       "10  83-101-110-105-111-114-32-69-110-103-105-110-1...   \n",
       "11  68-97-116-97-32-81-117-97-108-105-116-121-32-6...   \n",
       "12  83-101-110-105-111-114-32-77-97-99-104-105-110...   \n",
       "13  70-117-108-108-32-83-116-97-99-107-32-68-101-1...   \n",
       "14  83-111-102-116-119-97-114-101-32-69-110-103-10...   \n",
       "15  68-97-116-97-32-76-101-97-100-32-83-99-105-101...   \n",
       "16     68-97-116-97-32-69-110-103-105-110-101-101-114   \n",
       "17  68-97-116-97-32-83-99-105-101-110-99-101-32-67...   \n",
       "18  77-97-99-104-105-110-101-32-76-101-97-114-110-...   \n",
       "19  76-101-97-100-32-68-97-116-97-32-83-99-105-101...   \n",
       "\n",
       "                                         second_bytes  max_similarity  \n",
       "0   77-97-99-104-105-110-101-32-76-101-97-114-110-...        0.943396  \n",
       "1   83-101-110-105-111-114-32-80-121-116-104-111-1...        0.913043  \n",
       "2   83-101-110-105-111-114-32-77-97-99-104-105-110...        0.911392  \n",
       "3   83-111-102-116-119-97-114-101-32-68-101-118-10...        0.906667  \n",
       "4   83-101-110-105-111-114-32-68-97-116-97-32-83-9...        0.904762  \n",
       "5   68-97-116-97-32-83-99-105-101-110-116-105-115-...        0.903226  \n",
       "6   83-111-102-116-119-97-114-101-32-69-110-103-10...        0.898551  \n",
       "7   80-121-116-104-111-110-32-87-101-98-32-68-101-...        0.888889  \n",
       "8   83-111-102-116-119-97-114-101-32-69-110-103-10...        0.872727  \n",
       "9   83-101-110-105-111-114-32-83-111-102-116-119-9...        0.872727  \n",
       "10  83-101-110-105-111-114-32-84-101-115-116-32-69...        0.857143  \n",
       "11  81-117-97-108-105-116-121-32-65-110-97-108-121...        0.857143  \n",
       "12  83-101-110-105-111-114-32-77-97-99-104-105-110...        0.853333  \n",
       "13  83-101-110-105-111-114-32-70-117-108-108-32-83...        0.851064  \n",
       "14  85-110-105-116-121-32-83-111-102-116-119-97-11...        0.850000  \n",
       "15  68-97-116-97-32-83-99-105-101-110-116-105-115-116        0.848485  \n",
       "16  68-97-116-97-32-76-101-97-100-32-69-110-103-10...        0.838710  \n",
       "17  83-101-99-117-114-105-116-121-32-68-97-116-97-...        0.836364  \n",
       "18  83-101-110-105-111-114-32-77-97-99-104-105-110...        0.833333  \n",
       "19  83-116-97-102-102-32-68-97-116-97-32-83-99-105...        0.820513  "
      ]
     },
     "metadata": {},
     "output_type": "display_data"
    }
   ],
   "source": [
    "\n",
    "df = nu.check_4_doubles(filename_jobtitles_list).sort_values('max_similarity', ascending=False).head(20).reset_index(drop=True)\n",
    "display(df)"
   ]
  },
  {
   "cell_type": "code",
   "execution_count": 8,
   "id": "82b744fa-fa79-4578-acc3-2ff2291bc6ca",
   "metadata": {},
   "outputs": [
    {
     "name": "stdout",
     "output_type": "stream",
     "text": [
      "\n",
      "    x = x.replace('Data Science Consulting Engagement Manager', xxxxxxx)\n",
      "    x = x.replace('Security Data Science Consultant', xxxxxxx)\n",
      "    x = x.replace('Data Science Consultant', xxxxxxx)\n"
     ]
    }
   ],
   "source": [
    "\n",
    "# Get a list of \"Science\"s\n",
    "print()\n",
    "for job_title in sorted(filename_jobtitles_list, key=lambda x: len(x), reverse=True):\n",
    "    if 'Science' in job_title:\n",
    "        print(f\"\"\"    x = x.replace('{job_title}', xxxxxxx)\"\"\")"
   ]
  },
  {
   "cell_type": "code",
   "execution_count": 9,
   "id": "6441ae1f-26ad-4416-b5b8-4e0704419d39",
   "metadata": {},
   "outputs": [
    {
     "data": {
      "text/plain": [
       "{'first_item': 'Data Lead Scientist', 'second_item': 'Data Scientist', 'first_bytes': '68-97-116-97-32-76-101-97-100-32-83-99-105-101-110-116-105-115-116', 'second_bytes': '68-97-116-97-32-83-99-105-101-110-116-105-115-116', 'max_similarity': 0.8484848484848485}"
      ]
     },
     "execution_count": 9,
     "metadata": {},
     "output_type": "execute_result"
    }
   ],
   "source": [
    "\n",
    "df.iloc[15].to_dict()"
   ]
  },
  {
   "cell_type": "markdown",
   "id": "b4f8c031-dcc9-40e7-86c4-8dee9ac31ebd",
   "metadata": {},
   "source": [
    "\n",
    "## Make some graphs"
   ]
  },
  {
   "cell_type": "code",
   "execution_count": 10,
   "id": "c798077c-54aa-48c5-bb7b-cde22ca16436",
   "metadata": {},
   "outputs": [],
   "source": [
    "\n",
    "# Make a graph out of all job title word sequnces\n",
    "import networkx as nx\n",
    "\n",
    "G = nx.DiGraph()\n",
    "for job_title in filename_jobtitles_list:\n",
    "    title_words_list = job_title.split()\n",
    "    for i in range(len(title_words_list) - 1):\n",
    "        edge_tuple = (title_words_list[i], title_words_list[i + 1])\n",
    "        if edge_tuple in G.edges(data=False):\n",
    "            \n",
    "            # Get the weight of the edge\n",
    "            edge_data = G.get_edge_data(*edge_tuple)\n",
    "            weight = edge_data.get('weight', 0)\n",
    "        \n",
    "            # Update the weight of the second edge\n",
    "            G.edges[edge_tuple]['weight'] = weight + 1\n",
    "        \n",
    "        # Add an edge with weight\n",
    "        else:\n",
    "            G.add_edge(*edge_tuple, weight=1)"
   ]
  },
  {
   "cell_type": "code",
   "execution_count": 11,
   "id": "830ad8c2-541a-40b5-a644-def7a5643002",
   "metadata": {},
   "outputs": [],
   "source": [
    "\n",
    "# Draw the graph using various layouts\n",
    "def get_layout_dict(G):\n",
    "    layout_dict = {}\n",
    "    for layout_type in [function for function in dir(nx) if '_layout' in function]:\n",
    "        try:\n",
    "            layout_dict[layout_type] = getattr(nx, layout_type)(G)\n",
    "        except Exception as e:\n",
    "            # print(layout_type, e)\n",
    "            continue\n",
    "    \n",
    "    return layout_dict"
   ]
  },
  {
   "cell_type": "code",
   "execution_count": 12,
   "id": "f4ad80ea-6042-4572-812e-a60209a80b58",
   "metadata": {},
   "outputs": [],
   "source": [
    "\n",
    "def draw_graph(digraph_obj, pos_dict, degree_dict, ax):\n",
    "    plt.figure(figsize=(18, 8))\n",
    "\n",
    "    # Draw edges\n",
    "    edgelist = digraph_obj.edges()\n",
    "    srs = Series([edge_tuple[2]['weight'] for edge_tuple in digraph_obj.edges(data=True)])\n",
    "    normalized_srs = (srs - srs.min()) / (srs.max() - srs.min())\n",
    "    width_list = [20 * weight for weight in normalized_srs]\n",
    "    line_collection = nx.draw_networkx_edges(digraph_obj, pos=pos_dict, edgelist=edgelist, alpha=0.85, width=width_list, ax=ax)\n",
    "\n",
    "    # Color according to degree\n",
    "    node_list = digraph_obj.nodes()\n",
    "    node_color_list = [degree_dict[node] for node in node_list]\n",
    "    path_collection = nx.draw_networkx_nodes(\n",
    "            digraph_obj, pos=pos_dict, nodelist=node_list, alpha=1.0, node_size=2400, node_color=node_color_list, cmap='viridis_r', ax=ax\n",
    "    )\n",
    "\n",
    "    # Draw Labels\n",
    "    font_colors_list = []\n",
    "    for node in node_list:\n",
    "        if (degree_dict[node] >= 4):\n",
    "            font_colors_list.append('w')\n",
    "        else:\n",
    "            font_colors_list.append('k')\n",
    "\n",
    "    # Draw the labels by their color (one by one)\n",
    "    for label_str, font_color in zip(digraph_obj, font_colors_list):\n",
    "        label_dict = nx.draw_networkx_labels(digraph_obj, pos=pos_dict, font_color=font_color, font_size=10, ax=ax)"
   ]
  },
  {
   "cell_type": "code",
   "execution_count": 27,
   "id": "90add957-fc50-4097-a12e-4e2c2d236d3e",
   "metadata": {},
   "outputs": [
    {
     "name": "stdout",
     "output_type": "stream",
     "text": [
      "[('AI', 'ML', {'weight': 2}), ('Engineer', 'Python', {'weight': 3}), ('Engineer', 'Deep', {'weight': 2}), ('Engineer', 'Machine', {'weight': 2}), ('Engineer', 'Test', {'weight': 2}), ('Data', 'Engineer', {'weight': 7}), ('Data', 'Lead', {'weight': 2}), ('Data', 'Science', {'weight': 3}), ('Data', 'Scientist', {'weight': 10}), ('Automation', 'Engineer', {'weight': 3}), ('Python', 'Developer', {'weight': 5}), ('Software', 'Engineer', {'weight': 11}), ('Software', 'Developer', {'weight': 3}), ('Software', 'Development', {'weight': 2}), ('Business', 'Analyst', {'weight': 3}), ('Quality', 'Analyst', {'weight': 4}), ('Cloud', 'Data', {'weight': 2}), ('Lead', 'Data', {'weight': 3}), ('Scientist', 'IV', {'weight': 2}), ('Science', 'Consultant', {'weight': 2}), ('Senior', 'Machine', {'weight': 3}), ('Senior', 'Software', {'weight': 5}), ('Senior', 'Test', {'weight': 3}), ('Full', 'Stack', {'weight': 3}), ('Stack', 'Developer', {'weight': 2}), ('QA', 'Automation', {'weight': 2}), ('Machine', 'Learning', {'weight': 13}), ('Learning', 'Engineer', {'weight': 4}), ('Learning', 'Operations', {'weight': 2}), ('Operations', 'Engineer', {'weight': 2}), ('Test', 'Engineer', {'weight': 3}), ('Statistical', 'Programmer', {'weight': 2}), ('Programmer', 'Analyst', {'weight': 2}), ('Deep', 'Learning', {'weight': 2}), ('Development', 'Engineer', {'weight': 2})]\n"
     ]
    },
    {
     "data": {
      "image/png": "[encoded data removed]",
      "text/plain": [
       "<Figure size 1800x1012.5 with 1 Axes>"
      ]
     },
     "metadata": {},
     "output_type": "display_data"
    },
    {
     "data": {
      "text/plain": [
       "<Figure size 1800x800 with 0 Axes>"
      ]
     },
     "metadata": {},
     "output_type": "display_data"
    }
   ],
   "source": [
    "\n",
    "# Create a graph with just the well-used edges\n",
    "import matplotlib.pyplot as plt\n",
    "\n",
    "well_used_digraph = nx.DiGraph()\n",
    "edge_tuples_list =[edge_tuple for edge_tuple in G.edges(data=True) if edge_tuple[2]['weight'] > 1] \n",
    "print(edge_tuples_list)\n",
    "well_used_digraph.add_edges_from(edge_tuples_list)\n",
    "fig, ax = plt.subplots(figsize=(18, 18/nu.twitter_aspect_ratio))\n",
    "degree_dict = well_used_digraph.degree()\n",
    "layout_dict = get_layout_dict(well_used_digraph)\n",
    "pos_dict = layout_dict['fruchterman_reingold_layout']\n",
    "draw_graph(well_used_digraph, pos_dict, degree_dict, ax=ax)"
   ]
  },
  {
   "cell_type": "code",
   "execution_count": 28,
   "id": "dba48635-afe0-4f51-be0b-2c59ba927286",
   "metadata": {},
   "outputs": [
    {
     "name": "stdout",
     "output_type": "stream",
     "text": [
      "\n",
      "1) Launch Gephi\n",
      "2) In the File menu, open C:\\Users\\daveb\\OneDrive\\Documents\\GitHub\\job-hunting\\saves\\gexf\\well_used_digraph.gexf\n",
      "3) Select and run the Fruchterman Reingold layout\n",
      "4) Select and run the Label Adjust layout\n",
      "5) In the File/Export submenu, select Graph file... and save as C:\\Users\\daveb\\OneDrive\\Documents\\GitHub\\job-hunting\\saves\\gdf\\well_used_digraph.gdf\n",
      "6) Repeat 2) through 5) as necessary\n",
      "\n"
     ]
    }
   ],
   "source": [
    "\n",
    "# Export the graph into Gephi\n",
    "import pyperclip\n",
    "\n",
    "gexf_dir = os.path.join(nu.saves_folder, 'gexf')\n",
    "os.makedirs(name=gexf_dir, exist_ok=True)\n",
    "gdf_dir = os.path.join(nu.saves_folder, 'gdf')\n",
    "os.makedirs(name=gdf_dir, exist_ok=True)\n",
    "file_name = 'well_used_digraph.gexf'\n",
    "file_path = os.path.join(gexf_dir, file_name)\n",
    "nx.write_gexf(well_used_digraph, file_path)\n",
    "message_str = '''\n",
    "1) Launch Gephi\n",
    "2) In the File menu, open {}\n",
    "3) Select and run the Fruchterman Reingold layout\n",
    "4) Select and run the Label Adjust layout\n",
    "5) In the File/Export submenu, select Graph file... and save as {}\n",
    "6) Repeat 2) through 5) as necessary\n",
    "'''\n",
    "abspath_str = os.path.abspath(file_path)\n",
    "pyperclip.copy(abspath_str)\n",
    "print(message_str.format(abspath_str, abspath_str.replace('gexf', 'gdf')))"
   ]
  },
  {
   "cell_type": "code",
   "execution_count": 29,
   "id": "dc30e126-f3ac-4aa5-91b3-c4f1c57059f6",
   "metadata": {},
   "outputs": [],
   "source": [
    "\n",
    "# Get the positional information that you exported from Gephi\n",
    "import numpy as np\n",
    "\n",
    "file_path = os.path.join(gdf_dir, 'well_used_digraph.gdf')\n",
    "search_regex = re.compile(r\"\"\"^([^,]+),\"\\1\",([.\\d-]+),([.\\d-]+),([.\\d-]+),([.\\d-]+),'([^']+)'(,0)?$\"\"\")\n",
    "well_used_layout_dict = {}\n",
    "with open(file_path) as file:\n",
    "    for line in file:\n",
    "        match_obj = search_regex.search(line)\n",
    "        if match_obj:\n",
    "            node_name = match_obj.group(1)\n",
    "            node_x = match_obj.group(4)\n",
    "            node_y = match_obj.group(5)\n",
    "            well_used_layout_dict[node_name] = np.array([float(node_x), float(node_y)])\n",
    "if set(well_used_digraph.nodes()) != set(well_used_layout_dict.keys()):\n",
    "    display(set(well_used_digraph.nodes()).symmetric_difference(set(well_used_layout_dict.keys())))"
   ]
  },
  {
   "cell_type": "code",
   "execution_count": 30,
   "id": "dad265b5-d541-4105-acc7-249a504febd9",
   "metadata": {},
   "outputs": [],
   "source": [
    "\n",
    "# Create the double edge list\n",
    "full_edge_list = list(well_used_digraph.edges())\n",
    "double_edge_list = []\n",
    "while len(full_edge_list) > 0:\n",
    "    edge_tuple = full_edge_list.pop()\n",
    "    doubled_tuple = (edge_tuple[1], edge_tuple[0])\n",
    "    if doubled_tuple in full_edge_list:\n",
    "        double_edge_list.append(edge_tuple)\n",
    "        double_edge_list.append(doubled_tuple)"
   ]
  },
  {
   "cell_type": "code",
   "execution_count": 31,
   "id": "d77a0090-fbb1-42c7-8921-10909ce0d34c",
   "metadata": {},
   "outputs": [],
   "source": [
    "\n",
    "# Create the single edge list\n",
    "single_edge_list = []\n",
    "full_edge_list = list(well_used_digraph.edges())\n",
    "for edge_tuple in full_edge_list:\n",
    "    if edge_tuple not in double_edge_list:\n",
    "        single_edge_list.append(edge_tuple)"
   ]
  },
  {
   "cell_type": "code",
   "execution_count": 32,
   "id": "9892305e-e3e1-4fbf-b2a4-c9cb5d1ed961",
   "metadata": {},
   "outputs": [
    {
     "data": {
      "image/png": "[encoded data removed]",
      "text/plain": [
       "<Figure size 1800x900 with 1 Axes>"
      ]
     },
     "metadata": {},
     "output_type": "display_data"
    }
   ],
   "source": [
    "\n",
    "import matplotlib.patches as mpatches\n",
    "\n",
    "# Draw the graph using the gephi layout\n",
    "fig = plt.figure(figsize=(18, 9))\n",
    "ax = fig.add_subplot(111)\n",
    "plt.axis('off')\n",
    "plt.xticks([], [])\n",
    "plt.yticks([], [])\n",
    "fig.suptitle('The Job Titles', fontsize=24)\n",
    "\n",
    "# Make fat arrows\n",
    "arrowstyle = mpatches.ArrowStyle.Simple(head_length=2., head_width=1.5, tail_width=0.05)\n",
    "\n",
    "# Make the nodes blue so you can make the double edges red\n",
    "node_collection = nx.draw_networkx_nodes(G=well_used_digraph, pos=well_used_layout_dict, alpha=0.25,\n",
    "                                         node_color='b', node_size=150)\n",
    "\n",
    "# Get the double-edged edge list in red\n",
    "edge_collection = nx.draw_networkx_edges(G=well_used_digraph, pos=well_used_layout_dict, alpha=0.25,\n",
    "                                         arrowstyle=arrowstyle, edgelist=single_edge_list)\n",
    "edge_collection = nx.draw_networkx_edges(G=well_used_digraph, pos=well_used_layout_dict, alpha=0.25,\n",
    "                                         arrowstyle=arrowstyle, edgelist=double_edge_list,\n",
    "                                         edge_color='r')\n",
    "\n",
    "labels_collection = nx.draw_networkx_labels(G=well_used_digraph, pos=well_used_layout_dict, font_size=12)\n",
    "axes_subplot = fig.get_axes()[0]\n",
    "xlim_tuple = axes_subplot.set_xlim(left=-1500, right=1500)"
   ]
  },
  {
   "cell_type": "code",
   "execution_count": 33,
   "id": "c4b49ee4-ec6e-4167-bff3-d4511a315645",
   "metadata": {},
   "outputs": [
    {
     "data": {
      "text/plain": [
       "['Principal Statistical Programmer Associate Director of Programming', 'Senior Business Analyst Identity and Access Management', 'Senior Software Engineer Machine Learning Platform', 'Senior Machine Learning Engineer Machine Learning', 'Senior Software Developer AI Machine Learning', 'Director Senior Director Information Design', 'Senior Machine Learning Operations Engineer', 'Data Science Consulting Engagement Manager', 'Lead Data Scientist World Wide Technology', 'Software Development Engineer Test Senior', 'Senior Test Engineer Cloud Applications', 'Python Software Engineer Deep Learning', 'Tech Data Warehouse Operations Manager', 'ML AI Software Data Engineer w Python', 'Python Machine Learning Data Engineer', 'Senior Statistical Programmer Analyst', 'Business Analyst And Quality Analyst', 'Lead Data Scientist Machine Learning', 'Machine Learning Operations Engineer', 'Automation Engineer Python and yrs', 'Senior Software Engineer Solutions', 'Software Development Engineer Test', 'Python Developer Only Contracting', 'AI ML Engineer Anomaly Detection', 'Security Data Science Consultant', 'Senior Machine Learning Engineer', 'Senior Software Engineer Python', 'Software Engineer Deep Learning', 'Cloud Data Architect Technical', 'Experimentation Data Scientist', 'QA Automation Engineer Mobile', 'Scientific Programmer Analyst', 'Senior QA Automation Engineer', 'Software Developer Full Stack', 'Fixed Wireless Data Engineer', 'Machine Learning Engineer II', 'Zero Trust Software Engineer', 'Python Panda Data Developer', 'Senior Full Stack Developer', 'Senior Test Automation Lead', 'Big Data Software Engineer', 'Machine Learning Architect', 'Machine Learning Scientist', 'Python Developer Part Time', 'Senior Cloud Data Engineer', 'Senior Consultant Plano TX', 'Data Scientist IV Webster', 'Machine Learning Engineer', 'Performance Test Engineer', 'Data Engineer and Python', 'R and D SW Data Engineer', 'Senior Software Engineer', 'Software Engineer Python', 'Data Science Consultant', 'Engineer CD CI Pipeline', 'Junior Python Developer', 'Lead Software Developer', 'Senior Python Developer', 'Unity Software Engineer', 'Junior Quality Analyst', 'Advanced Data Analyst', 'Application Developer', 'Junior Data Scientist', 'Senior Data Scientist', 'Data Quality Analyst', 'Data Strategist chad', 'Full Stack Developer', 'Python Web Developer', 'Senior Test Engineer', 'Staff Data Scientist', 'Data Engineering PM', 'Data Lead Scientist', 'Lead Data Scientist', 'Data Lead Engineer', 'Engineer Aerospace', 'Architecture Data', 'Automation tester', 'Data Scientist IV', 'Senior Researcher', 'Software Engineer', 'Super Pod QA Lead', 'Business Analyst', 'Junior QA Python', 'Python Developer', 'Senior Developer', 'Quality Analyst', 'Senior Engineer', 'Data Scientist', 'AI ML Analyst', 'Data Designer', 'Data Engineer', 'Data Manager', 'Developer', 'Engineer', 'QA']"
      ]
     },
     "execution_count": 33,
     "metadata": {},
     "output_type": "execute_result"
    }
   ],
   "source": [
    "\n",
    "titles_regex = re.compile(r'\\b(' + '|'.join(well_used_digraph.nodes()) + r')\\b')\n",
    "srs = Series(filename_jobtitles_list)\n",
    "mask_series = srs.map(lambda x: bool(titles_regex.search(str(x))))\n",
    "sorted(srs[mask_series].unique(), key=lambda x: len(x), reverse=True)"
   ]
  },
  {
   "cell_type": "code",
   "execution_count": 37,
   "id": "c7bbbe60-d9cc-4c20-8f39-fea4bf640d86",
   "metadata": {},
   "outputs": [],
   "source": [
    "\n",
    "import pyttsx3\n",
    "\n",
    "speech_engine = pyttsx3.init()\n",
    "speech_str = 'Batch job complete'; speech_engine.say(speech_str); speech_engine.runAndWait()"
   ]
  },
  {
   "cell_type": "markdown",
   "id": "f4cab8de-a88a-4ca8-9180-d106b92ed5e6",
   "metadata": {},
   "source": [
    "\n",
    "----"
   ]
  },
  {
   "cell_type": "code",
   "execution_count": null,
   "id": "d123d4ef-5c58-4c2b-ad62-dab65246f2b4",
   "metadata": {},
   "outputs": [],
   "source": [
    "\n",
    "cypher_str = \"\"\"\n",
    "    // Get the file names of HTML strings that are Job Titles\n",
    "    CALL {\n",
    "        MATCH (np1:NavigableParents)-[r:NEXT]->(np2:NavigableParents)\n",
    "        WHERE\n",
    "            ((np1.is_header = false) AND (np1.is_job_title = true))\n",
    "        RETURN\n",
    "            r.file_name AS file_name,\n",
    "            LEFT(np2.navigable_parent, 50) AS left_navigable_parent,\n",
    "            LEFT(np1.navigable_parent, 50) AS middle_navigable_parent,\n",
    "            NULL AS right_navigable_parent\n",
    "    UNION\n",
    "        MATCH (np2:NavigableParents)-[r:NEXT]->(np1:NavigableParents)\n",
    "        WHERE\n",
    "            ((np1.is_header = false) AND (np1.is_job_title = true))\n",
    "        RETURN\n",
    "            r.file_name AS file_name,\n",
    "            LEFT(np2.navigable_parent, 50) AS left_navigable_parent,\n",
    "            LEFT(np1.navigable_parent, 50) AS middle_navigable_parent,\n",
    "            NULL AS right_navigable_parent\n",
    "    }\n",
    "    RETURN file_name, left_navigable_parent, middle_navigable_parent, right_navigable_parent;\"\"\"\n",
    "row_objs_list = []\n",
    "with cu.driver.session() as session:\n",
    "        row_objs_list = session.write_transaction(cu.do_cypher_tx, cypher_str)\n",
    "if row_objs_list:\n",
    "    middle_navigable_parents_df = DataFrame(row_objs_list)\n",
    "    middle_navigable_parents_df['job_title'] = middle_navigable_parents_df.file_name.map(lambda file_name: su.get_job_title_from_file_name(file_name))\n",
    "    middle_navigable_parents_df.job_title = middle_navigable_parents_df.job_title.map(lambda job_title: re.sub(r'(\\d+ )+', '', job_title))\n",
    "    middle_navigable_parents_df.job_title = middle_navigable_parents_df.job_title.map(lambda job_title: re.sub(r' Copy( \\d\\d)?', '', job_title))\n",
    "    middle_navigable_parents_df.job_title = middle_navigable_parents_df.job_title.map(lambda job_title: re.sub('(?: remote){2}', ' Remote', job_title, 0, re.IGNORECASE))\n",
    "    display(middle_navigable_parents_df)"
   ]
  },
  {
   "cell_type": "code",
   "execution_count": null,
   "id": "c3d676a3-5d12-4dff-86f2-56867b0abdbc",
   "metadata": {},
   "outputs": [],
   "source": [
    "\n",
    "jobtitles_list = sorted([j for j in middle_navigable_parents_df.job_title.map(f).unique() if j])\n",
    "df = nu.check_4_doubles(jobtitles_list).sort_values('max_similarity', ascending=False).head(20)\n",
    "display(df)"
   ]
  },
  {
   "cell_type": "code",
   "execution_count": null,
   "id": "7d9aef66-18e2-475f-aa32-6a620cfde872",
   "metadata": {},
   "outputs": [],
   "source": [
    "\n",
    "# jobtitles_set = set(item for inner_list in jobtitles_list for item in inner_list.split() if isinstance(item, str))\n",
    "flattened_list = [string for inner_list in jobtitles_list for string in inner_list.split()]\n",
    "srs = Series(flattened_list).value_counts()\n",
    "srs[srs > 1].tail(20)"
   ]
  },
  {
   "cell_type": "code",
   "execution_count": null,
   "id": "ef8614eb-e1be-401d-ad16-2d65f7a03bfa",
   "metadata": {},
   "outputs": [],
   "source": [
    "\n",
    "srs[srs > 1].head(20)"
   ]
  },
  {
   "cell_type": "code",
   "execution_count": null,
   "id": "0a5214e4-980b-465a-ad9f-1d56fc519b1a",
   "metadata": {},
   "outputs": [],
   "source": [
    "\n",
    "mask_series = middle_navigable_parents_df.job_title.map(lambda x: ' and ' in str(x))\n",
    "middle_navigable_parents_df[mask_series].sample(4).T"
   ]
  },
  {
   "cell_type": "code",
   "execution_count": null,
   "id": "40dce804-131c-49c0-bc71-203faddff13e",
   "metadata": {},
   "outputs": [],
   "source": [
    "\n",
    "import networkx as nx\n",
    "\n",
    "G = nx.DiGraph()\n",
    "for job_title in jobtitles_list:\n",
    "    title_words_list = job_title.split()\n",
    "    for i in range(len(title_words_list) - 1):\n",
    "        edge_tuple = (title_words_list[i], title_words_list[i + 1])\n",
    "        if edge_tuple in G.edges(data=False):\n",
    "            \n",
    "            # Get the weight of the edge\n",
    "            edge_data = G.get_edge_data(*edge_tuple)\n",
    "            weight = edge_data.get('weight', 0)\n",
    "        \n",
    "            # Update the weight of the second edge\n",
    "            G.edges[edge_tuple]['weight'] = weight + 1\n",
    "        \n",
    "        # Add an edge with weight\n",
    "        else:\n",
    "            G.add_edge(*edge_tuple, weight=1)"
   ]
  },
  {
   "cell_type": "code",
   "execution_count": null,
   "id": "aa1b93aa-69a0-40c9-a08e-ea7cb7b5bb59",
   "metadata": {},
   "outputs": [],
   "source": [
    "\n",
    "degree_dict = G.degree()\n",
    "degree_number_dict = {}\n",
    "for display_str, degree_number in dict(degree_dict).items():\n",
    "    degree_number_dict[degree_number] = degree_number_dict.get(degree_number, 0) + 1\n",
    "degree_number_dict"
   ]
  },
  {
   "cell_type": "code",
   "execution_count": null,
   "id": "1149805f-c57b-4fe1-b749-da5b856811f4",
   "metadata": {},
   "outputs": [],
   "source": [
    "\n",
    "# Draw the graph\n",
    "fig, ax = plt.subplots(figsize=(18, 18/nu.twitter_aspect_ratio))\n",
    "degree_dict = G.degree()\n",
    "layout_dict = get_layout_dict(G)\n",
    "pos_dict = layout_dict['fruchterman_reingold_layout']\n",
    "draw_graph(G, pos_dict, degree_dict, ax=ax)"
   ]
  },
  {
   "cell_type": "code",
   "execution_count": null,
   "id": "a885dc28-f6ff-4c72-a145-664efd9eacf9",
   "metadata": {},
   "outputs": [],
   "source": [
    "\n",
    "degree_dict"
   ]
  },
  {
   "cell_type": "code",
   "execution_count": null,
   "id": "efaed14a-f3be-4db6-b802-448967de3796",
   "metadata": {},
   "outputs": [],
   "source": [
    "\n",
    "[fn for fn in dir(G) if 'edge' in fn]"
   ]
  },
  {
   "cell_type": "code",
   "execution_count": null,
   "id": "9dbb7a46-b5f8-48c5-8d41-ea8217c832e8",
   "metadata": {},
   "outputs": [],
   "source": [
    "\n",
    "# Create a graph with just the well-used edges\n",
    "G1 = nx.DiGraph()\n",
    "edge_tuples_list =[edge_tuple for edge_tuple in G.edges(data=True) if edge_tuple[2]['weight'] > 2] \n",
    "print(edge_tuples_list)\n",
    "G1.add_edges_from(edge_tuples_list)\n",
    "fig, ax = plt.subplots(figsize=(18, 18/nu.twitter_aspect_ratio))\n",
    "degree_dict = G1.degree()\n",
    "layout_dict = get_layout_dict(G1)\n",
    "pos_dict = layout_dict['fruchterman_reingold_layout']\n",
    "draw_graph(G1, pos_dict, degree_dict, ax=ax)"
   ]
  },
  {
   "cell_type": "code",
   "execution_count": null,
   "id": "100d1341-8e57-4cb6-8c0c-bd63c8663176",
   "metadata": {},
   "outputs": [],
   "source": [
    "\n",
    "nodes_regex = re.compile(r'\\b(' + '|'.join(G1.nodes()) + r')\\b')\n",
    "mask_series = middle_navigable_parents_df.job_title.map(lambda x: bool(nodes_regex.search(str(x))))\n",
    "sorted(middle_navigable_parents_df[mask_series].job_title.unique())"
   ]
  },
  {
   "cell_type": "code",
   "execution_count": null,
   "id": "f6844fee-2d10-4423-be7c-d0955265240a",
   "metadata": {},
   "outputs": [],
   "source": [
    " \n",
    "def get_consecutive_pairs(jobtitles_list):\n",
    "    pairs = []\n",
    "    for i in range(len(jobtitles_list) - 1):\n",
    "        pair = (jobtitles_list[i], jobtitles_list[i + 1])\n",
    "        pairs.append(pair)\n",
    "    \n",
    "    return pairs"
   ]
  },
  {
   "cell_type": "code",
   "execution_count": null,
   "id": "85b1ae6a-e402-4ebf-b5f4-126a257aa480",
   "metadata": {},
   "outputs": [],
   "source": [
    "\n",
    "tagged_jobtitles_list = sorted([j for j in middle_navigable_parents_df.middle_navigable_parent.map(f).unique() if j])\n",
    "df = nu.check_4_doubles(tagged_jobtitles_list).sort_values('max_similarity', ascending=False).head(20)\n",
    "display(df)"
   ]
  },
  {
   "cell_type": "code",
   "execution_count": null,
   "id": "c7b80313-c45c-407f-b404-beabcd059bce",
   "metadata": {},
   "outputs": [],
   "source": [
    "\n",
    "sorted(tagged_jobtitles_list, key=lambda x: len(x))"
   ]
  },
  {
   "cell_type": "code",
   "execution_count": null,
   "id": "1864286b-686b-4c66-8802-88da52fc1d07",
   "metadata": {},
   "outputs": [],
   "source": [
    "\n",
    "sorted(jobtitles_list, key=lambda x: len(x))"
   ]
  },
  {
   "cell_type": "code",
   "execution_count": null,
   "id": "98f8044f-06e5-46dd-8c71-6ea6b8bf278e",
   "metadata": {},
   "outputs": [],
   "source": [
    "\n",
    "for job_title in sorted(middle_navigable_parents_df.job_title.unique()):\n",
    "    print(job_title)"
   ]
  },
  {
   "cell_type": "code",
   "execution_count": null,
   "id": "4950cedd-5279-4b2d-9f5e-43af5fff7cfd",
   "metadata": {},
   "outputs": [],
   "source": [
    "\n",
    "for row_dict in df.to_dict(orient='records'):\n",
    "    print(row_dict)"
   ]
  },
  {
   "cell_type": "markdown",
   "id": "6f117951-f904-432d-a35c-e94565673765",
   "metadata": {},
   "source": [
    "\n",
    "## Option 1: Use a Hugging Face NER model"
   ]
  },
  {
   "cell_type": "code",
   "execution_count": null,
   "id": "5ec16f38-1cef-44ba-b848-02f79970017b",
   "metadata": {},
   "outputs": [],
   "source": [
    "\n",
    "from transformers import pipeline, AutoModelForTokenClassification, AutoTokenizer\n",
    "\n",
    "# Named entity recognition pipeline, passing in a specific model and tokenizer\n",
    "model = AutoModelForTokenClassification.from_pretrained('dbmdz/bert-large-cased-finetuned-conll03-english')\n",
    "tokenizer = AutoTokenizer.from_pretrained('bert-base-cased')\n",
    "token_classifier = pipeline('ner', model=model, tokenizer=tokenizer)\n",
    "\n",
    "# Example usage\n",
    "sentence = 'Barack Obama was the 44th President of the United States.'\n",
    "tokens = token_classifier(sentence)\n",
    "print(tokens)"
   ]
  },
  {
   "cell_type": "markdown",
   "id": "5345d8a9-20d2-4382-ac1a-8bb3abe138ae",
   "metadata": {},
   "source": [
    "\n",
    "## Option 2: Use SpaCy"
   ]
  },
  {
   "cell_type": "code",
   "execution_count": null,
   "id": "154fa50a-d00d-45c8-8801-cbf325ef458c",
   "metadata": {},
   "outputs": [],
   "source": [
    "\n",
    "import spacy\n",
    "\n",
    "# Load the spaCy model\n",
    "try:\n",
    "    nlp = spacy.load('en_core_web_sm')\n",
    "except OSError as e:\n",
    "    print(f\"OSError while trying to spacy.load('en_core_web_sm'): {str(e).strip()}\")\n",
    "    command_str = f'{sys.executable} -m spacy download en_core_web_sm --quiet'\n",
    "    print(command_str)\n",
    "    !{command_str}\n",
    "try:\n",
    "    nlp = spacy.load('en_core_web_sm')\n",
    "    import en_core_web_sm\n",
    "    nlp = en_core_web_sm.load()\n",
    "    \n",
    "    # Example usage\n",
    "    sentence = 'Barack Obama was the 44th President of the United States.'\n",
    "    doc = nlp(sentence)\n",
    "    print([{'text': word.text, 'tag_': word.tag_, 'ent_type_': word.ent_type_, 'pos_': word.pos_} for word in doc])\n",
    "    print([{'text': ent.text, 'label_': ent.label_} for ent in doc.ents])\n",
    "except Exception as e:\n",
    "    print(f\"{e.__class__.__name__} error while trying to load spacy again: {str(e).strip()}\")"
   ]
  },
  {
   "cell_type": "markdown",
   "id": "bd367ba9-86e8-4016-8b55-92ae0e0c20f0",
   "metadata": {},
   "source": [
    "\n",
    "## Extract the text from the job_title column"
   ]
  },
  {
   "cell_type": "code",
   "execution_count": null,
   "id": "7be587f1-607a-4664-a407-6a9481bef408",
   "metadata": {},
   "outputs": [],
   "source": [
    "\n",
    "# load documents\n",
    "rows_list = []\n",
    "for text in middle_navigable_parents_df.job_title:\n",
    "    text_length = len(text)\n",
    "    \n",
    "    # Prepare to join subword tokens back together and keep track of entity and score\n",
    "    output_words = []\n",
    "    current_word = ''\n",
    "    current_entities = []\n",
    "    current_scores = []\n",
    "    current_starts = []\n",
    "    current_ends = []\n",
    "    \n",
    "    # Extract metadata from entity recognition pipeline and add it as a row dictionary to the entities rows list\n",
    "    tokens = token_classifier(text)\n",
    "    for metadata_dict in tokens:\n",
    "        current_entities.append(metadata_dict['entity'])\n",
    "        current_scores.append(metadata_dict['score'])\n",
    "        current_starts.append(metadata_dict['start'])\n",
    "        current_ends.append(metadata_dict['end'])\n",
    "        if metadata_dict['word'].startswith('##'): current_word += metadata_dict['word'][2:]\n",
    "        else:\n",
    "            \n",
    "            # Take the mode of entities and average of scores for the current_word\n",
    "            if current_word:\n",
    "                if len(current_entities) > 1: current_entities = current_entities[:-1]\n",
    "                if len(current_scores) > 1: current_scores = current_scores[:-1]\n",
    "                if len(current_ends) > 2: current_ends = current_ends[:-1]\n",
    "                mode_entity = Series(current_entities).mode().tolist()[-1]\n",
    "                mean_score = Series(current_scores).mean()\n",
    "                start_idx = current_starts[0]\n",
    "                end_idx = current_ends[-1]\n",
    "                entity_tuple = (current_word, mode_entity, mean_score, start_idx, end_idx)\n",
    "                output_words.append(entity_tuple)\n",
    "                current_word = ''\n",
    "                current_entities = []\n",
    "                current_scores = []\n",
    "                current_starts = []\n",
    "                current_ends = []\n",
    "            else:\n",
    "                current_word = metadata_dict['word']\n",
    "                current_entities = [metadata_dict['entity']]\n",
    "                current_scores = [metadata_dict['score']]\n",
    "                current_starts = [metadata_dict['start']]\n",
    "                current_ends = [metadata_dict['end']]\n",
    "    \n",
    "    # Take the mode of entities for the last current_word\n",
    "    if current_word:\n",
    "        mode_entity = Series(current_entities).mode().tolist()[-1]\n",
    "        mean_score = Series(current_scores).mean()\n",
    "        start_idx = current_starts[0]\n",
    "        end_idx = current_ends[-1]\n",
    "        entity_tuple = (current_word, mode_entity, mean_score, start_idx, end_idx)\n",
    "        output_words.append(entity_tuple)\n",
    "    \n",
    "    # Extract metadata from entity recognition pipeline and add it as a row dictionary to the entities rows list\n",
    "    for word, entity, score, start, end in output_words:\n",
    "        metadata_dict = {\n",
    "            'bert_word': word, 'bert_entity': entity, 'bert_score': score, 'bert_start': start, 'bert_end': end, 'job_title': text\n",
    "        }\n",
    "        rows_list.append(metadata_dict)\n",
    "\n",
    "    # Extract SpaCy named entities and add them as a row dictionary to the entities rows list\n",
    "    if text_length <= nlp.max_length:\n",
    "        doc = nlp(text)\n",
    "        rows_list.extend([\n",
    "            {'job_title': text, 'nlp_word': word.text, 'nlp_tag': word.tag_, 'nlp_type': word.ent_type_, 'nlp_pofs': word.pos_}\n",
    "            for word in doc\n",
    "        ])\n",
    "        rows_list.extend([\n",
    "            {'job_title': text, 'ent_phrase': ent.text, 'ent_type': ent.label_, 'ent_start': ent.start_char, 'ent_end': ent.end_char}\n",
    "            for ent in doc.ents\n",
    "        ])\n",
    "job_title_ners_df = DataFrame(rows_list)"
   ]
  },
  {
   "cell_type": "code",
   "execution_count": null,
   "id": "77440d18-c3ee-44c2-9a88-53a50002db6c",
   "metadata": {},
   "outputs": [],
   "source": [
    "\n",
    "import random\n",
    "\n",
    "# Perform the groupby operation and convert the groupby object to a list of tuples (job_title, job_title_df)\n",
    "grouped_list = list(job_title_ners_df.groupby('job_title'))"
   ]
  },
  {
   "cell_type": "code",
   "execution_count": null,
   "id": "df8516a5-2ab9-4756-af01-35207ab98c58",
   "metadata": {},
   "outputs": [],
   "source": [
    "\n",
    "# Randomly select one tuple from the list\n",
    "random_job_title, random_job_title_df = random.choice(grouped_list)\n",
    "\n",
    "# Now 'random_job_title_df' is the randomly selected DataFrame\n",
    "mask_series = ~random_job_title_df.ent_phrase.isnull()\n",
    "if mask_series.any():\n",
    "    print(random_job_title)\n",
    "    display(random_job_title_df[mask_series].dropna(axis='columns', how='all'))"
   ]
  },
  {
   "cell_type": "code",
   "execution_count": null,
   "id": "9c391b62-f918-4ff7-b131-d20b13544f35",
   "metadata": {},
   "outputs": [],
   "source": [
    "\n",
    "random_job_title_df"
   ]
  },
  {
   "cell_type": "code",
   "execution_count": null,
   "id": "410702fc-9def-4dcb-893d-ea5621014dce",
   "metadata": {},
   "outputs": [],
   "source": [
    "\n",
    "from geotext import GeoText\n",
    "\n",
    "print(random_job_title)\n",
    "places = GeoText(random_job_title)\n",
    "print(places.cities)\n",
    "print(places.countries)\n",
    "print(places.country_mentions)"
   ]
  },
  {
   "cell_type": "code",
   "execution_count": null,
   "id": "442cd2db-c2ee-46d0-a0ba-4755b13deff3",
   "metadata": {},
   "outputs": [],
   "source": [
    "\n",
    "# Get job titles that have numbers in them\n",
    "mask_series = (job_title_ners_df.nlp_pofs == 'NUM')\n",
    "job_titles_with_numbers = sorted(job_title_ners_df[mask_series].job_title.unique())"
   ]
  },
  {
   "cell_type": "code",
   "execution_count": null,
   "id": "83fce4ed-23be-4945-b04d-192137001610",
   "metadata": {},
   "outputs": [],
   "source": [
    "\n",
    "Remove numbers from job titles in the "
   ]
  },
  {
   "cell_type": "code",
   "execution_count": null,
   "id": "8297860d-e91c-4b42-aa09-3fd843eb674e",
   "metadata": {},
   "outputs": [],
   "source": [
    "\n",
    "mask_series = (job_title_ners_df.nlp_pofs == 'NUM')\n",
    "for job_title in sorted(job_title_ners_df[~mask_series].job_title.unique()):\n",
    "    places = GeoText(job_title)\n",
    "    cities_list = places.cities\n",
    "    if cities_list:\n",
    "        print(job_title, cities_list)"
   ]
  },
  {
   "cell_type": "code",
   "execution_count": null,
   "id": "9e4dd238-f985-4803-ab33-898d3ac60af4",
   "metadata": {},
   "outputs": [],
   "source": [
    "\n",
    "mask_series = (job_title_ners_df.nlp_pofs == 'NUM')\n",
    "df = job_title_ners_df[mask_series].sort_values('nlp_word').dropna(axis='columns', how='all')\n",
    "print(len(df.job_title.unique()))\n",
    "display(df.sample(10).T)"
   ]
  },
  {
   "cell_type": "code",
   "execution_count": null,
   "id": "7c0bad25-3eb3-4024-84e0-a9d57fe866b5",
   "metadata": {},
   "outputs": [],
   "source": [
    "\n",
    "mask_series = (job_title_ners_df.nlp_tag == 'CD')\n",
    "df = job_title_ners_df[mask_series].sort_values('nlp_word').dropna(axis='columns', how='all')\n",
    "print(len(df.job_title.unique()))\n",
    "display(df.sample(10).T)"
   ]
  },
  {
   "cell_type": "code",
   "execution_count": null,
   "id": "11d088fe-8a15-4774-ab81-f3c1eb639976",
   "metadata": {},
   "outputs": [],
   "source": [
    "\n",
    "mask_series = job_title_ners_df.bert_word.isnull()\n",
    "df = job_title_ners_df[~mask_series].sort_values('bert_word').dropna(axis='columns', how='all')\n",
    "print(len(df.job_title.unique()))\n",
    "display(df.sample(10).T)"
   ]
  },
  {
   "cell_type": "code",
   "execution_count": null,
   "id": "db092dab-b0fe-4007-91a4-2006b2051b9a",
   "metadata": {},
   "outputs": [],
   "source": [
    "\n",
    "mask_series = (job_title_ners_df.bert_entity == 'I-ORG') | job_title_ners_df.bert_word.isnull()\n",
    "df = job_title_ners_df[~mask_series].sort_values('bert_word').dropna(axis='columns', how='all')\n",
    "print(len(df.job_title.unique()))\n",
    "display(df.sample(10).T)"
   ]
  },
  {
   "cell_type": "markdown",
   "id": "12f6609c-01df-4d28-bbde-0cd63ba63ffd",
   "metadata": {},
   "source": [
    "\n",
    "# Maintenance"
   ]
  },
  {
   "cell_type": "code",
   "execution_count": null,
   "id": "a2a0aa5a-8b69-4ba3-adf8-292f6f809b65",
   "metadata": {},
   "outputs": [],
   "source": [
    "\n",
    "raise"
   ]
  },
  {
   "cell_type": "code",
   "execution_count": null,
   "id": "86f5758b-38dc-40c4-8519-7971099f9198",
   "metadata": {},
   "outputs": [],
   "source": [
    "\n",
    "# mask_series = (df.char_count > 165)\n",
    "for child_str in df.iloc[637:642].middle_navigable_parent:\n",
    "    def do_cypher_tx(tx, navigable_parent):\n",
    "        cypher_str = \"\"\"\n",
    "    // Set the is_job_title to false\n",
    "    MATCH (np:NavigableParents {navigable_parent: $navigable_parent})\n",
    "    SET np.is_job_title = false\n",
    "    \"\"\" + cu.return_every_np_str + ';'\n",
    "        print(cypher_str.replace('$navigable_parent', f'\"{child_str}\"'))\n",
    "        return [dict(record.items()) for record in tx.run(query=cypher_str, parameters={'navigable_parent': navigable_parent})]\n",
    "    with cu.driver.session() as session:\n",
    "        row_objs_list = session.write_transaction(do_cypher_tx, navigable_parent=child_str)\n",
    "    # display(DataFrame(row_objs_list).T)\n",
    "    # break"
   ]
  },
  {
   "cell_type": "code",
   "execution_count": null,
   "id": "198e4805-cd59-4d1d-a64e-e75a06515def",
   "metadata": {},
   "outputs": [],
   "source": [
    "\n",
    "cypher_str = \"\"\"\n",
    "// Get all distinct node types and property names\n",
    "CALL db.schema.nodeTypeProperties() YIELD nodeType, propertyName\n",
    "RETURN DISTINCT nodeType, propertyName;\"\"\"\n",
    "row_objs_list = []\n",
    "with cu.driver.session() as session: row_objs_list = session.write_transaction(cu.do_cypher_tx, cypher_str)\n",
    "if row_objs_list:\n",
    "    df = DataFrame(row_objs_list)\n",
    "    df.nodeType = df.nodeType.map(lambda x: re.sub('[^A-Za-z]+', '', str(x)))\n",
    "    display(df)"
   ]
  },
  {
   "cell_type": "code",
   "execution_count": null,
   "id": "d17d748e-d5f9-4b8b-8891-51e3b2099aca",
   "metadata": {},
   "outputs": [],
   "source": [
    "\n",
    "mask_series = df.propertyName.map(lambda x: 'job' in str(x))\n",
    "df[mask_series]"
   ]
  },
  {
   "cell_type": "code",
   "execution_count": null,
   "id": "e068fa17-f159-48ce-a743-8bdc5e8b361c",
   "metadata": {},
   "outputs": [],
   "source": [
    "\n",
    "cypher_str = \"\"\"\n",
    "// Get all node types that have the is_job_title property defined\n",
    "CALL db.schema.nodeTypeProperties() YIELD nodeType, propertyName\n",
    "WHERE propertyName = \"is_job_title\"\n",
    "RETURN DISTINCT nodeType;\"\"\"\n",
    "row_objs_list = []\n",
    "with cu.driver.session() as session: row_objs_list = session.write_transaction(cu.do_cypher_tx, cypher_str)\n",
    "if row_objs_list:\n",
    "    df = DataFrame(row_objs_list)\n",
    "    display(df)"
   ]
  },
  {
   "cell_type": "code",
   "execution_count": null,
   "id": "5aae29e5-6fc1-45c3-90cb-e6b0ad7b2c19",
   "metadata": {},
   "outputs": [],
   "source": [
    "\n",
    "cypher_str = \"\"\"\n",
    "    // Get all the HTML strings that are considered job titles\n",
    "    MATCH (np:NavigableParents)\n",
    "    WHERE\n",
    "        (np.is_job_title = true)\n",
    "        AND (np.is_header = false)\n",
    "    RETURN\n",
    "        np.is_corporate_scope AS is_corporate_scope,\n",
    "        np.is_educational_requirement AS is_educational_requirement,\n",
    "        np.is_header AS is_header,\n",
    "        np.is_interview_procedure AS is_interview_procedure,\n",
    "        np.is_job_duration AS is_job_duration,\n",
    "        np.is_job_title AS is_job_title,\n",
    "        np.is_legal_notification AS is_legal_notification,\n",
    "        np.is_minimum_qualification AS is_minimum_qualification,\n",
    "        np.is_office_location AS is_office_location,\n",
    "        np.is_other AS is_other,\n",
    "        np.is_posting_date AS is_posting_date,\n",
    "        np.is_preferred_qualification AS is_preferred_qualification,\n",
    "        np.is_supplemental_pay AS is_supplemental_pay,\n",
    "        np.is_task_scope AS is_task_scope,\n",
    "        np.navigable_parent AS navigable_parent\n",
    "    ORDER BY size(np.navigable_parent) ASC;\"\"\"\n",
    "row_objs_list = []\n",
    "with cu.driver.session() as session:\n",
    "        row_objs_list = session.write_transaction(cu.do_cypher_tx, cypher_str)\n",
    "if row_objs_list:\n",
    "    df = DataFrame(row_objs_list)\n",
    "    df['char_count'] = df.navigable_parent.map(lambda x: len(str(x)))\n",
    "    columns_list = ['navigable_parent', 'is_header', 'char_count']\n",
    "    display(df[columns_list].sort_values('char_count'))"
   ]
  },
  {
   "cell_type": "code",
   "execution_count": null,
   "id": "fb882e30-a967-4e99-8c84-2ddfdf7bc016",
   "metadata": {},
   "outputs": [],
   "source": [
    "\n",
    "# mask_series = (df.char_count > 165)\n",
    "for child_str in df.iloc[9939:9940].navigable_parent:\n",
    "    def do_cypher_tx(tx, navigable_parent):\n",
    "        cypher_str = \"\"\"\n",
    "    // Set the is_job_title to false\n",
    "    MATCH (np:NavigableParents {navigable_parent: $navigable_parent})\n",
    "    SET np.is_job_title = false\n",
    "    \"\"\" + cu.return_every_np_str + ';'\n",
    "        print(cypher_str.replace('$navigable_parent', f'\"{child_str}\"'))\n",
    "        return [dict(record.items()) for record in tx.run(query=cypher_str, parameters={'navigable_parent': navigable_parent})]\n",
    "    with cu.driver.session() as session:\n",
    "        row_objs_list = session.write_transaction(do_cypher_tx, navigable_parent=child_str)\n",
    "    # display(DataFrame(row_objs_list).T)\n",
    "    # break"
   ]
  },
  {
   "cell_type": "code",
   "execution_count": null,
   "id": "70f534ae-629f-4121-9da2-1078c8f82be0",
   "metadata": {},
   "outputs": [],
   "source": [
    "\n",
    "cypher_str = \"\"\"\n",
    "    // Set the is_job_title to false\n",
    "    MATCH (np:NavigableParents)\n",
    "    WHERE np.navigable_parent CONTAINS \"Sr. NLP Researcher\"\n",
    "    SET np.is_job_title = true\n",
    "    RETURN\n",
    "        np.navigable_parent AS navigable_parent,\n",
    "        np.is_header AS is_header,\n",
    "        np.is_task_scope AS is_task_scope,\n",
    "        np.is_minimum_qualification AS is_minimum_qualification,\n",
    "        np.is_preferred_qualification AS is_preferred_qualification,\n",
    "        np.is_legal_notification AS is_legal_notification,\n",
    "        np.is_job_title AS is_job_title,\n",
    "        np.is_office_location AS is_office_location,\n",
    "        np.is_job_duration AS is_job_duration,\n",
    "        np.is_supplemental_pay AS is_supplemental_pay,\n",
    "        np.is_educational_requirement AS is_educational_requirement,\n",
    "        np.is_interview_procedure AS is_interview_procedure,\n",
    "        np.is_corporate_scope AS is_corporate_scope,\n",
    "        np.is_posting_date AS is_posting_date,\n",
    "        np.is_other AS is_other;\"\"\"\n",
    "row_objs_list = []\n",
    "with cu.driver.session() as session: row_objs_list = session.write_transaction(cu.do_cypher_tx, cypher_str)\n",
    "if row_objs_list:\n",
    "    df = DataFrame(row_objs_list)\n",
    "    display(df.T)"
   ]
  },
  {
   "cell_type": "code",
   "execution_count": null,
   "id": "c01bb085-c361-4841-a64c-8a10672f2516",
   "metadata": {},
   "outputs": [],
   "source": [
    "\n",
    "cypher_str = \"\"\"\n",
    "// Get all node types that have a file property defined\n",
    "CALL db.schema.nodeTypeProperties() YIELD nodeType, propertyName\n",
    "WHERE propertyName CONTAINS \"file\"\n",
    "RETURN DISTINCT nodeType, propertyName;\"\"\"\n",
    "row_objs_list = []\n",
    "with cu.driver.session() as session:\n",
    "        row_objs_list = session.write_transaction(cu.do_cypher_tx, cypher_str)\n",
    "if row_objs_list:\n",
    "    df = DataFrame(row_objs_list)\n",
    "    display(df)"
   ]
  },
  {
   "cell_type": "code",
   "execution_count": null,
   "id": "526b24bf-9446-4a1a-b76a-74741fef73b7",
   "metadata": {},
   "outputs": [],
   "source": []
  }
 ],
 "metadata": {
  "kernelspec": {
   "display_name": "Job Hunting (Python 3.10.9)",
   "language": "python",
   "name": "jh_env"
  },
  "language_info": {
   "codemirror_mode": {
    "name": "ipython",
    "version": 3
   },
   "file_extension": ".py",
   "mimetype": "text/x-python",
   "name": "python",
   "nbconvert_exporter": "python",
   "pygments_lexer": "ipython3",
   "version": "3.10.9"
  }
 },
 "nbformat": 4,
 "nbformat_minor": 5
}
