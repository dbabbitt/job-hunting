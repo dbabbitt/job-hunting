{
 "cells": [
  {
   "cell_type": "code",
   "execution_count": 1,
   "id": "broadband-posting",
   "metadata": {},
   "outputs": [
    {
     "name": "stdout",
     "output_type": "stream",
     "text": [
      "Pretty printing has been turned OFF\n"
     ]
    }
   ],
   "source": [
    "\n",
    "%pprint"
   ]
  },
  {
   "cell_type": "code",
   "execution_count": 2,
   "id": "premium-bottom",
   "metadata": {},
   "outputs": [
    {
     "name": "stdout",
     "output_type": "stream",
     "text": [
      "CPU times: total: 1.48 s\n",
      "Wall time: 5.6 s\n"
     ]
    }
   ],
   "source": [
    "\n",
    "%%time\n",
    "from neo4j import GraphDatabase\n",
    "%run ../load_magic/storage.py\n",
    "%run ../load_magic/dataframes.py\n",
    "\n",
    "s = Storage()\n",
    "uri = 'bolt://localhost:7687'\n",
    "user = 'neo4j'\n",
    "password = 'Genesis11'\n",
    "driver = GraphDatabase.driver(uri, auth=(user, password))"
   ]
  },
  {
   "cell_type": "code",
   "execution_count": 3,
   "id": "mental-interstate",
   "metadata": {},
   "outputs": [],
   "source": [
    "\n",
    "import os\n",
    "\n",
    "def create_constraint(tx, class_name):\n",
    "    constraint_str = 'CREATE CONSTRAINT Unique{} IF NOT EXISTS ON (x:{}) ASSERT x.id IS UNIQUE;'\n",
    "    constraint_str = constraint_str.format(class_name, class_name)\n",
    "    tx.run(constraint_str)\n",
    "def f(x):\n",
    "    if type(x) is str:\n",
    "        x = x.strip()\n",
    "    \n",
    "    return x\n",
    "dbmss_dir = r'C:\\Users\\DaveBabbitt\\.Neo4jDesktop\\relate-data\\dbmss'\n",
    "import_dir = os.path.join(dbmss_dir, 'dbms-34577e95-5752-4014-bedc-0a0c6a7e8f48', 'import')\n",
    "csv_dir = '../saves/csv'"
   ]
  },
  {
   "cell_type": "code",
   "execution_count": 4,
   "id": "middle-wiring",
   "metadata": {},
   "outputs": [],
   "source": [
    "\n",
    "import pandas as pd\n",
    "\n",
    "def do_cypher_tx(tx, cypher):\n",
    "    results_list = tx.run(cypher)\n",
    "    values_list = []\n",
    "    for record in results_list:\n",
    "        values_list.append(dict(record.items()))\n",
    "    \n",
    "    return values_list"
   ]
  },
  {
   "cell_type": "code",
   "execution_count": 5,
   "id": "8474a44c-aa32-4f82-b18b-b4c10e29eb21",
   "metadata": {},
   "outputs": [
    {
     "data": {
      "text/plain": [
       "['db.awaitIndex', 'db.awaitIndexes', 'db.clearQueryCaches', 'db.constraints', 'db.createIndex', 'db.createLabel', 'db.createProperty', 'db.createRelationshipType', 'db.createUniquePropertyConstraint', 'db.index.fulltext.awaitEventuallyConsistentIndexRefresh', 'db.index.fulltext.createNodeIndex', 'db.index.fulltext.createRelationshipIndex', 'db.index.fulltext.drop', 'db.index.fulltext.listAvailableAnalyzers', 'db.index.fulltext.queryNodes', 'db.index.fulltext.queryRelationships', 'db.indexDetails', 'db.indexes', 'db.info', 'db.labels', 'db.ping', 'db.prepareForReplanning', 'db.propertyKeys', 'db.relationshipTypes', 'db.resampleIndex', 'db.resampleOutdatedIndexes', 'db.schema.nodeTypeProperties', 'db.schema.relTypeProperties', 'db.schema.visualization', 'db.schemaStatements', 'db.stats.clear', 'db.stats.collect', 'db.stats.retrieve', 'db.stats.retrieveAllAnonymized', 'db.stats.status', 'db.stats.stop', 'dbms.cluster.routing.getRoutingTable', 'dbms.components', 'dbms.database.state', 'dbms.functions', 'dbms.info', 'dbms.killConnection', 'dbms.killConnections', 'dbms.killQueries', 'dbms.killQuery', 'dbms.killTransaction', 'dbms.killTransactions', 'dbms.listConfig', 'dbms.listConnections', 'dbms.listQueries', 'dbms.listTransactions', 'dbms.procedures', 'dbms.queryJmx', 'dbms.routing.getRoutingTable', 'dbms.security.changePassword', 'dbms.security.createUser', 'dbms.security.deleteUser', 'dbms.security.listUsers', 'dbms.showCurrentUser', 'dbms.upgrade', 'dbms.upgradeStatus', 'tx.getMetaData', 'tx.setMetaData']"
      ]
     },
     "execution_count": 5,
     "metadata": {},
     "output_type": "execute_result"
    }
   ],
   "source": [
    "\n",
    "tx_str = \"CALL dbms.procedures() YIELD name, signature RETURN name, signature\"\n",
    "with driver.session() as session:\n",
    "    rows_list = session.read_transaction(do_cypher_tx, tx_str)\n",
    "sorted(pd.DataFrame(rows_list).name.tolist())"
   ]
  },
  {
   "cell_type": "code",
   "execution_count": 6,
   "id": "0c4c720f-77d5-4cfa-8d61-7ab20bfcd6b2",
   "metadata": {},
   "outputs": [
    {
     "ename": "ModuleNotFoundError",
     "evalue": "No module named 'neo4jrestclient'",
     "output_type": "error",
     "traceback": [
      "\u001b[1;31m---------------------------------------------------------------------------\u001b[0m",
      "\u001b[1;31mModuleNotFoundError\u001b[0m                       Traceback (most recent call last)",
      "\u001b[1;32m<ipython-input-6-2cdc1cbf3180>\u001b[0m in \u001b[0;36m<module>\u001b[1;34m\u001b[0m\n\u001b[1;32m----> 1\u001b[1;33m \u001b[1;32mfrom\u001b[0m \u001b[0mneo4jrestclient\u001b[0m\u001b[1;33m.\u001b[0m\u001b[0mclient\u001b[0m \u001b[1;32mimport\u001b[0m \u001b[0mGraphDatabase\u001b[0m\u001b[1;33m\u001b[0m\u001b[1;33m\u001b[0m\u001b[0m\n\u001b[0m\u001b[0;32m      2\u001b[0m \u001b[1;33m\u001b[0m\u001b[0m\n\u001b[0;32m      3\u001b[0m \u001b[1;33m[\u001b[0m\u001b[1;34mf'GraphDatabase.{fn}'\u001b[0m \u001b[1;32mfor\u001b[0m \u001b[0mfn\u001b[0m \u001b[1;32min\u001b[0m \u001b[0mdir\u001b[0m\u001b[1;33m(\u001b[0m\u001b[0mGraphDatabase\u001b[0m\u001b[1;33m)\u001b[0m \u001b[1;32mif\u001b[0m \u001b[1;32mnot\u001b[0m \u001b[0mfn\u001b[0m\u001b[1;33m.\u001b[0m\u001b[0mstartswith\u001b[0m\u001b[1;33m(\u001b[0m\u001b[1;34m'_'\u001b[0m\u001b[1;33m)\u001b[0m\u001b[1;33m]\u001b[0m\u001b[1;33m\u001b[0m\u001b[1;33m\u001b[0m\u001b[0m\n",
      "\u001b[1;31mModuleNotFoundError\u001b[0m: No module named 'neo4jrestclient'"
     ]
    }
   ],
   "source": [
    "\n",
    "from neo4jrestclient.client import GraphDatabase\n",
    "\n",
    "[f'GraphDatabase.{fn}' for fn in dir(GraphDatabase) if not fn.startswith('_')]"
   ]
  },
  {
   "cell_type": "code",
   "execution_count": 7,
   "id": "3ba9d4c3-4c75-405d-99eb-00231cb8a4d1",
   "metadata": {},
   "outputs": [
    {
     "name": "stdout",
     "output_type": "stream",
     "text": [
      "GraphDatabase() takes no arguments\n"
     ]
    }
   ],
   "source": [
    "\n",
    "try:\n",
    "    gdb = GraphDatabase('http://localhost:7474/', username=user, password=password)\n",
    "    print([f'gdb.{fn}' for fn in dir(gdb) if not fn.startswith('_')])\n",
    "except Exception as e:\n",
    "    print(str(e).strip())"
   ]
  },
  {
   "cell_type": "code",
   "execution_count": 8,
   "id": "1e177222-2cf4-4f15-a18c-7fbf22bb556a",
   "metadata": {},
   "outputs": [
    {
     "name": "stdout",
     "output_type": "stream",
     "text": [
      "{code: Neo.ClientError.Procedure.ProcedureNotFound} {message: There is no procedure with the name `apoc.periodic.iterate` registered for this database instance. Please ensure you've spelled the procedure name correctly and that the procedure is properly deployed.}\n"
     ]
    }
   ],
   "source": [
    "\n",
    "with driver.session() as session:\n",
    "    try:\n",
    "        session.write_transaction(clear_database)\n",
    "    except Exception as e:\n",
    "        print(str(e).strip())"
   ]
  },
  {
   "cell_type": "code",
   "execution_count": 6,
   "id": "e37f8114-ec93-4f1c-a340-01e4874fd144",
   "metadata": {},
   "outputs": [],
   "source": [
    "\n",
    "import os\n",
    "from shutil import copyfile\n",
    "\n",
    "import_dir = r'C:\\Users\\DaveBabbitt\\neo4j\\import'\n",
    "for sub_directory, directories_list, files_list in os.walk(csv_dir):\n",
    "    for csv_name in files_list:\n",
    "        if csv_name.endswith('.csv') and (csv_name[0] == csv_name[0].upper()):\n",
    "            class_name = csv_name.split('.')[0]\n",
    "            with driver.session() as session:\n",
    "                session.write_transaction(create_constraint, class_name)\n",
    "            src = os.path.abspath(os.path.join(sub_directory, csv_name))\n",
    "            dst = os.path.abspath(os.path.join(import_dir, csv_name))\n",
    "            copyfile(src, dst)"
   ]
  },
  {
   "cell_type": "markdown",
   "id": "252baa8a-e555-4ca8-b582-c2ebe0714271",
   "metadata": {},
   "source": [
    "\n",
    "## Set Primary Keys"
   ]
  },
  {
   "cell_type": "code",
   "execution_count": 7,
   "id": "556187a5-7ccf-4069-8506-70407eaf2e7b",
   "metadata": {},
   "outputs": [],
   "source": [
    "\n",
    "file_names_str = '''LOAD CSV WITH HEADERS FROM 'file:///FileNames.csv' AS row\n",
    "WITH\n",
    "    toInteger(row.file_name_id) AS file_name_id,\n",
    "    row.file_name AS file_name,\n",
    "    row.percent_fit AS percent_fit,\n",
    "    row.is_opportunity_application_emailed AS is_opportunity_application_emailed,\n",
    "    row.opportunity_application_email_date AS opportunity_application_email_date,\n",
    "    row.is_remote_delivery AS is_remote_delivery,\n",
    "    row.manager_notes AS manager_notes\n",
    "MERGE (x:FileNames {file_name_id: file_name_id}) SET\n",
    "    x.file_name = file_name,\n",
    "    x.percent_fit = percent_fit,\n",
    "    x.is_opportunity_application_emailed = is_opportunity_application_emailed,\n",
    "    x.opportunity_application_email_date = opportunity_application_email_date,\n",
    "    x.is_remote_delivery = is_remote_delivery,\n",
    "    x.manager_notes = manager_notes;'''\n",
    "with driver.session() as session:\n",
    "    session.write_transaction(do_cypher_tx, file_names_str)"
   ]
  },
  {
   "cell_type": "code",
   "execution_count": 8,
   "id": "7726e860-59bb-4989-8aff-1baea6d14cdf",
   "metadata": {},
   "outputs": [],
   "source": [
    "\n",
    "header_tags_str = '''LOAD CSV WITH HEADERS FROM 'file:///HeaderTags.csv' AS row\n",
    "WITH\n",
    "    toInteger(row.header_tag_id) AS header_tag_id,\n",
    "    row.is_in_document_structure_elements_set AS is_in_document_structure_elements_set,\n",
    "    row.is_in_document_head_elements_set AS is_in_document_head_elements_set,\n",
    "    row.is_in_document_body_elements_set AS is_in_document_body_elements_set,\n",
    "    row.is_in_block_elements_set AS is_in_block_elements_set,\n",
    "    row.is_in_basic_text_set AS is_in_basic_text_set,\n",
    "    row.is_in_section_headings_set AS is_in_section_headings_set,\n",
    "    row.is_in_lists_set AS is_in_lists_set,\n",
    "    row.is_in_other_block_elements_set AS is_in_other_block_elements_set,\n",
    "    row.is_in_inline_elements_set AS is_in_inline_elements_set,\n",
    "    row.is_in_anchor_set AS is_in_anchor_set,\n",
    "    row.is_in_phrase_elements_set AS is_in_phrase_elements_set,\n",
    "    row.is_in_general_set AS is_in_general_set,\n",
    "    row.is_in_computer_phrase_elements_set AS is_in_computer_phrase_elements_set,\n",
    "    row.is_in_presentation_set AS is_in_presentation_set,\n",
    "    row.is_in_span_set AS is_in_span_set,\n",
    "    row.is_in_other_inline_elements_set AS is_in_other_inline_elements_set,\n",
    "    row.is_in_images_and_objects_set AS is_in_images_and_objects_set,\n",
    "    row.is_in_forms_set AS is_in_forms_set,\n",
    "    row.is_in_tables_set AS is_in_tables_set,\n",
    "    row.is_in_frames_set AS is_in_frames_set,\n",
    "    row.is_in_historic_elements_set AS is_in_historic_elements_set,\n",
    "    row.is_in_non_standard_elements_set AS is_in_non_standard_elements_set,\n",
    "    row.header_tag AS header_tag\n",
    "MERGE (x:HeaderTags {header_tag_id: header_tag_id}) SET\n",
    "    x.is_in_document_structure_elements_set = is_in_document_structure_elements_set,\n",
    "    x.is_in_document_head_elements_set = is_in_document_head_elements_set,\n",
    "    x.is_in_document_body_elements_set = is_in_document_body_elements_set,\n",
    "    x.is_in_block_elements_set = is_in_block_elements_set,\n",
    "    x.is_in_basic_text_set = is_in_basic_text_set,\n",
    "    x.is_in_section_headings_set = is_in_section_headings_set,\n",
    "    x.is_in_lists_set = is_in_lists_set,\n",
    "    x.is_in_other_block_elements_set = is_in_other_block_elements_set,\n",
    "    x.is_in_inline_elements_set = is_in_inline_elements_set,\n",
    "    x.is_in_anchor_set = is_in_anchor_set,\n",
    "    x.is_in_phrase_elements_set = is_in_phrase_elements_set,\n",
    "    x.is_in_general_set = is_in_general_set,\n",
    "    x.is_in_computer_phrase_elements_set = is_in_computer_phrase_elements_set,\n",
    "    x.is_in_presentation_set = is_in_presentation_set,\n",
    "    x.is_in_span_set = is_in_span_set,\n",
    "    x.is_in_other_inline_elements_set = is_in_other_inline_elements_set,\n",
    "    x.is_in_images_and_objects_set = is_in_images_and_objects_set,\n",
    "    x.is_in_forms_set = is_in_forms_set,\n",
    "    x.is_in_tables_set = is_in_tables_set,\n",
    "    x.is_in_frames_set = is_in_frames_set,\n",
    "    x.is_in_historic_elements_set = is_in_historic_elements_set,\n",
    "    x.is_in_non_standard_elements_set = is_in_non_standard_elements_set,\n",
    "    x.header_tag = header_tag;'''\n",
    "with driver.session() as session:\n",
    "    session.write_transaction(do_cypher_tx, header_tags_str)"
   ]
  },
  {
   "cell_type": "code",
   "execution_count": 9,
   "id": "f3646647-2c4c-4672-a0f9-61baf4aebc59",
   "metadata": {},
   "outputs": [],
   "source": [
    "\n",
    "header_tag_sequence_str = '''LOAD CSV WITH HEADERS FROM 'file:///HeaderTagSequence.csv' AS row\n",
    "WITH\n",
    "    toInteger(row.header_tag_sequence_id) AS header_tag_sequence_id,\n",
    "    toInteger(row.file_name_id) AS file_name_id,\n",
    "    toInteger(row.header_tag_id) AS header_tag_id,\n",
    "    toInteger(row.sequence_order) AS sequence_order\n",
    "MERGE (x:HeaderTagSequence {header_tag_sequence_id: header_tag_sequence_id}) SET\n",
    "    x.file_name_id = file_name_id,\n",
    "    x.header_tag_id = header_tag_id,\n",
    "    x.sequence_order = sequence_order;'''\n",
    "with driver.session() as session:\n",
    "    session.write_transaction(do_cypher_tx, header_tag_sequence_str)"
   ]
  },
  {
   "cell_type": "code",
   "execution_count": 10,
   "id": "42c2f6e5-7665-4097-9ece-9c30062b559b",
   "metadata": {},
   "outputs": [],
   "source": [
    "\n",
    "minimum_requirements_section_str = '''LOAD CSV WITH HEADERS FROM 'file:///MinimumRequirementsSection.csv' AS row\n",
    "WITH\n",
    "    toInteger(row.mrs_id) AS mrs_id,\n",
    "    row.mrs_symbol AS mrs_symbol,\n",
    "    row.mrs_explanation AS mrs_explanation\n",
    "MERGE (x:MinimumRequirementsSection {mrs_id: mrs_id}) SET\n",
    "    x.mrs_symbol = mrs_symbol,\n",
    "    x.mrs_explanation = mrs_explanation;'''\n",
    "with driver.session() as session:\n",
    "    session.write_transaction(do_cypher_tx, minimum_requirements_section_str)"
   ]
  },
  {
   "cell_type": "code",
   "execution_count": 11,
   "id": "9c42e29b-59a5-423c-ad30-f46949f16413",
   "metadata": {},
   "outputs": [],
   "source": [
    "\n",
    "navigable_parents_str = '''LOAD CSV WITH HEADERS FROM 'file:///NavigableParents.csv' AS row\n",
    "WITH\n",
    "    toInteger(row.navigable_parent_id) AS navigable_parent_id,\n",
    "    toInteger(row.header_tag_id) AS header_tag_id,\n",
    "    row.navigable_parent AS navigable_parent,\n",
    "    row.is_header AS is_header,\n",
    "    row.is_task_scope AS is_task_scope,\n",
    "    row.is_minimum_qualification AS is_minimum_qualification,\n",
    "    row.is_preferred_qualification AS is_preferred_qualification,\n",
    "    row.is_legal_notification AS is_legal_notification,\n",
    "    row.is_job_title AS is_job_title,\n",
    "    row.is_office_location AS is_office_location,\n",
    "    row.is_job_duration AS is_job_duration,\n",
    "    row.is_supplemental_pay AS is_supplemental_pay,\n",
    "    row.is_educational_requirement AS is_educational_requirement,\n",
    "    row.is_interview_procedure AS is_interview_procedure,\n",
    "    row.is_corporate_scope AS is_corporate_scope,\n",
    "    row.is_posting_date AS is_posting_date,\n",
    "    row.is_other AS is_other,\n",
    "    row.is_qualification AS is_qualification\n",
    "MERGE (x:NavigableParents {navigable_parent_id: navigable_parent_id}) SET\n",
    "    x.header_tag_id = header_tag_id,\n",
    "    x.navigable_parent = navigable_parent,\n",
    "    x.is_header = is_header,\n",
    "    x.is_task_scope = is_task_scope,\n",
    "    x.is_minimum_qualification = is_minimum_qualification,\n",
    "    x.is_preferred_qualification = is_preferred_qualification,\n",
    "    x.is_legal_notification = is_legal_notification,\n",
    "    x.is_job_title = is_job_title,\n",
    "    x.is_office_location = is_office_location,\n",
    "    x.is_job_duration = is_job_duration,\n",
    "    x.is_supplemental_pay = is_supplemental_pay,\n",
    "    x.is_educational_requirement = is_educational_requirement,\n",
    "    x.is_interview_procedure = is_interview_procedure,\n",
    "    x.is_corporate_scope = is_corporate_scope,\n",
    "    x.is_posting_date = is_posting_date,\n",
    "    x.is_other = is_other,\n",
    "    x.is_qualification = is_qualification;'''\n",
    "with driver.session() as session:\n",
    "    session.write_transaction(do_cypher_tx, navigable_parents_str)"
   ]
  },
  {
   "cell_type": "code",
   "execution_count": 12,
   "id": "53346152-b701-430f-961d-2d769eea65cf",
   "metadata": {},
   "outputs": [],
   "source": [
    "\n",
    "nvaigable_parent_sequence_str = '''LOAD CSV WITH HEADERS FROM 'file:///NavigableParentSequence.csv' AS row\n",
    "WITH\n",
    "    toInteger(row.navigable_parent_sequence_id) AS navigable_parent_sequence_id,\n",
    "    toInteger(row.file_name_id) AS file_name_id,\n",
    "    toInteger(row.navigable_parent_id) AS navigable_parent_id,\n",
    "    toInteger(row.sequence_order) AS sequence_order,\n",
    "    toInteger(row.mrs_id) AS mrs_id\n",
    "MERGE (x:NavigableParentSequence {navigable_parent_sequence_id: navigable_parent_sequence_id}) SET\n",
    "    x.file_name_id = file_name_id,\n",
    "    x.navigable_parent_id = navigable_parent_id,\n",
    "    x.sequence_order = sequence_order,\n",
    "    x.mrs_id = mrs_id;'''\n",
    "with driver.session() as session:\n",
    "    session.write_transaction(do_cypher_tx, nvaigable_parent_sequence_str)"
   ]
  },
  {
   "cell_type": "code",
   "execution_count": 13,
   "id": "827b0c2f-0107-4e4f-afb3-8acbffd4ebb4",
   "metadata": {},
   "outputs": [],
   "source": [
    "\n",
    "parts_of_speech_str = '''LOAD CSV WITH HEADERS FROM 'file:///PartsOfSpeech.csv' AS row\n",
    "WITH\n",
    "    toInteger(row.pos_id) AS pos_id,\n",
    "    row.is_header AS is_header,\n",
    "    row.is_task_scope AS is_task_scope,\n",
    "    row.is_minimum_qualification AS is_minimum_qualification,\n",
    "    row.is_preferred_qualification AS is_preferred_qualification,\n",
    "    row.is_legal_notification AS is_legal_notification,\n",
    "    row.is_job_title AS is_job_title,\n",
    "    row.is_office_location AS is_office_location,\n",
    "    row.is_job_duration AS is_job_duration,\n",
    "    row.is_supplemental_pay AS is_supplemental_pay,\n",
    "    row.is_educational_requirement AS is_educational_requirement,\n",
    "    row.is_interview_procedure AS is_interview_procedure,\n",
    "    row.is_corporate_scope AS is_corporate_scope,\n",
    "    row.is_posting_date AS is_posting_date,\n",
    "    row.is_other AS is_other,\n",
    "    row.pos_symbol AS pos_symbol,\n",
    "    row.pos_explanation AS pos_explanation\n",
    "MERGE (x:PartsOfSpeech {pos_id: pos_id}) SET\n",
    "    x.is_header = is_header,\n",
    "    x.is_task_scope = is_task_scope,\n",
    "    x.is_minimum_qualification = is_minimum_qualification,\n",
    "    x.is_preferred_qualification = is_preferred_qualification,\n",
    "    x.is_legal_notification = is_legal_notification,\n",
    "    x.is_job_title = is_job_title,\n",
    "    x.is_office_location = is_office_location,\n",
    "    x.is_job_duration = is_job_duration,\n",
    "    x.is_supplemental_pay = is_supplemental_pay,\n",
    "    x.is_educational_requirement = is_educational_requirement,\n",
    "    x.is_interview_procedure = is_interview_procedure,\n",
    "    x.is_corporate_scope = is_corporate_scope,\n",
    "    x.is_posting_date = is_posting_date,\n",
    "    x.is_other = is_other,\n",
    "    x.pos_symbol = pos_symbol,\n",
    "    x.pos_explanation = pos_explanation;'''\n",
    "with driver.session() as session:\n",
    "    session.write_transaction(do_cypher_tx, parts_of_speech_str)"
   ]
  },
  {
   "cell_type": "markdown",
   "id": "demographic-screw",
   "metadata": {},
   "source": [
    "\n",
    "## Set Foreign Keys"
   ]
  },
  {
   "cell_type": "code",
   "execution_count": 14,
   "id": "complete-madison",
   "metadata": {},
   "outputs": [],
   "source": [
    "\n",
    "tx_str = \"\"\"\n",
    "MATCH (a:FileNames), (b:HeaderTagSequence) \n",
    "   WHERE a.file_name_id = b.file_name_id\n",
    "CREATE (b)-[r: IS_CONTAINED_IN]->(a);\"\"\"\n",
    "with driver.session() as session:\n",
    "    session.write_transaction(do_cypher_tx, tx_str)"
   ]
  },
  {
   "cell_type": "code",
   "execution_count": 15,
   "id": "trying-content",
   "metadata": {},
   "outputs": [],
   "source": [
    "\n",
    "tx_str = \"\"\"\n",
    "MATCH (a:FileNames), (b:NavigableParentSequence) \n",
    "   WHERE a.file_name_id = b.file_name_id\n",
    "CREATE (b)-[r: IS_CONTAINED_IN]->(a);\"\"\"\n",
    "with driver.session() as session:\n",
    "    session.write_transaction(do_cypher_tx, tx_str)"
   ]
  },
  {
   "cell_type": "code",
   "execution_count": 16,
   "id": "intensive-strengthening",
   "metadata": {},
   "outputs": [],
   "source": [
    "\n",
    "tx_str = \"\"\"\n",
    "MATCH (a:HeaderTags), (b:HeaderTagSequence) \n",
    "   WHERE a.header_tag_id = b.header_tag_id\n",
    "CREATE (a)-[r: IS_PART_OF]->(b);\"\"\"\n",
    "with driver.session() as session:\n",
    "    session.write_transaction(do_cypher_tx, tx_str)"
   ]
  },
  {
   "cell_type": "code",
   "execution_count": 17,
   "id": "surprised-appointment",
   "metadata": {},
   "outputs": [],
   "source": [
    "\n",
    "tx_str = \"\"\"\n",
    "MATCH (a:HeaderTags), (b:NavigableParents) \n",
    "   WHERE a.header_tag_id = b.header_tag_id\n",
    "CREATE (a)-[r: SUMMARIZES]->(b);\"\"\"\n",
    "with driver.session() as session:\n",
    "    session.write_transaction(do_cypher_tx, tx_str)"
   ]
  },
  {
   "cell_type": "code",
   "execution_count": 18,
   "id": "broad-throw",
   "metadata": {},
   "outputs": [],
   "source": [
    "\n",
    "tx_str = \"\"\"\n",
    "MATCH (a:MinimumRequirementsSection), (b:NavigableParentSequence) \n",
    "   WHERE a.mrs_id = b.mrs_id\n",
    "CREATE (a)-[r: SUMMARIZES]->(b);\"\"\"\n",
    "with driver.session() as session:\n",
    "    session.write_transaction(do_cypher_tx, tx_str)"
   ]
  },
  {
   "cell_type": "code",
   "execution_count": 19,
   "id": "center-albert",
   "metadata": {},
   "outputs": [],
   "source": [
    "\n",
    "tx_str = \"\"\"\n",
    "MATCH (a:NavigableParents), (b:NavigableParentSequence) \n",
    "   WHERE a.navigable_parent_id = b.navigable_parent_id\n",
    "CREATE (a)-[r: IS_PART_OF]->(b);\"\"\"\n",
    "with driver.session() as session:\n",
    "    session.write_transaction(do_cypher_tx, tx_str)"
   ]
  },
  {
   "cell_type": "code",
   "execution_count": 20,
   "id": "5bd871c7-799f-4b76-98d4-e1d6c0f4bf60",
   "metadata": {},
   "outputs": [],
   "source": [
    "\n",
    "for a in [true, false]:\n",
    "    for b in ['is_task_scope', 'is_minimum_qualification', 'is_preferred_qualification', 'is_legal_notification', 'is_job_title', 'is_office_location',\n",
    "              'is_job_duration', 'is_supplemental_pay', 'is_educational_requirement', 'is_interview_procedure', 'is_corporate_scope', 'is_posting_date',\n",
    "              'is_other']:\n",
    "        tx_str = f\"\"\"\n",
    "            MATCH (pos:PartsOfSpeech {{is_header: '{a}', {b}: true}}), (np:NavigableParents {{is_header: '{a}', {b}: true}})\n",
    "            CREATE (pos)-[r: SUMMARIZES]->(np);\"\"\"\n",
    "        with driver.session() as session:\n",
    "            session.write_transaction(do_cypher_tx, tx_str)"
   ]
  },
  {
   "cell_type": "markdown",
   "id": "4b30b9f3-e31d-4114-818c-cd8de6ffc672",
   "metadata": {},
   "source": [
    "\n",
    "----\n",
    "## Set Attributes from Pickles"
   ]
  },
  {
   "cell_type": "code",
   "execution_count": 21,
   "id": "6d644aaa-4ccd-4e27-8796-cff923f9a32c",
   "metadata": {},
   "outputs": [],
   "source": [
    "\n",
    "# Set attributes from pickles\n",
    "pickle_dir = '../saves/pickle'\n",
    "files_list = os.listdir(pickle_dir)\n",
    "for file_name in files_list:\n",
    "    if file_name.startswith('NAVIGABLE_PARENT_IS_') and file_name.endswith('_NONHEADER_DICT.pickle'):\n",
    "        pickle_name = file_name.split('.')[0]\n",
    "        attribute_name = '_'.join(pickle_name.lower().split('_')[2:-2])\n",
    "        nonheader_dict = s.load_object(pickle_name)\n",
    "        for navigable_parent, boolean_value in nonheader_dict.items():\n",
    "            tx_str = f\"\"\"\n",
    "                MATCH (np:NavigableParents {{navigable_parent: '{navigable_parent.replace(\"'\", chr(92) + \"'\")}'}})\n",
    "                SET np.{attribute_name} = '{boolean_value}'\"\"\"\n",
    "            with driver.session() as session:\n",
    "                session.write_transaction(do_cypher_tx, tx_str)"
   ]
  },
  {
   "cell_type": "code",
   "execution_count": 22,
   "id": "d2db8ff0-42a7-4082-b659-3fc1e29f2ecf",
   "metadata": {},
   "outputs": [],
   "source": [
    "\n",
    "BASIC_TAGS_DICT = s.load_object('BASIC_TAGS_DICT')\n",
    "for navigable_parent, is_header in BASIC_TAGS_DICT.items():\n",
    "    tx_str = f\"\"\"\n",
    "        MATCH (np:NavigableParents {{navigable_parent: '{navigable_parent.replace(\"'\", chr(92) + \"'\")}'}})\n",
    "        SET np.is_header = '{is_header}'\"\"\"\n",
    "    with driver.session() as session:\n",
    "        session.write_transaction(do_cypher_tx, tx_str)"
   ]
  },
  {
   "cell_type": "code",
   "execution_count": 23,
   "id": "e46984fb-0c44-4aed-987c-94c6d42e26fc",
   "metadata": {},
   "outputs": [],
   "source": [
    "\n",
    "corp_scope_headers_list = s.load_object('corp_scope_headers_list')\n",
    "for navigable_parent in corp_scope_headers_list:\n",
    "    tx_str = f\"\"\"\n",
    "        MATCH (np:NavigableParents {{navigable_parent: '{navigable_parent.replace(\"'\", chr(92) + \"'\")}'}})\n",
    "        SET np.is_corporate_scope = true, np.is_header = true;\"\"\"\n",
    "    with driver.session() as session:\n",
    "        session.write_transaction(do_cypher_tx, tx_str)"
   ]
  },
  {
   "cell_type": "code",
   "execution_count": 24,
   "id": "91a7bde5-024e-4000-8c2a-8db2b49d9530",
   "metadata": {},
   "outputs": [],
   "source": [
    "\n",
    "CORP_SCOPE_NONHEADERS_LIST = s.load_object('CORP_SCOPE_NONHEADERS_LIST')\n",
    "for navigable_parent in CORP_SCOPE_NONHEADERS_LIST:\n",
    "    tx_str = f\"\"\"\n",
    "        MATCH (np:NavigableParents {{navigable_parent: '{navigable_parent.replace(\"'\", chr(92) + \"'\")}'}})\n",
    "        SET np.is_corporate_scope = true, np.is_header = false;\"\"\"\n",
    "    with driver.session() as session:\n",
    "        session.write_transaction(do_cypher_tx, tx_str)"
   ]
  },
  {
   "cell_type": "code",
   "execution_count": 25,
   "id": "938a2b19-364c-4d36-9176-ab716dd5f37c",
   "metadata": {},
   "outputs": [],
   "source": [
    "\n",
    "educ_reqs_headers_list = s.load_object('educ_reqs_headers_list')\n",
    "for navigable_parent in educ_reqs_headers_list:\n",
    "    tx_str = f\"\"\"\n",
    "        MATCH (np:NavigableParents {{navigable_parent: '{navigable_parent.replace(\"'\", chr(92) + \"'\")}'}})\n",
    "        SET np.is_educational_requirement = true, np.is_header = true;\"\"\"\n",
    "    with driver.session() as session:\n",
    "        session.write_transaction(do_cypher_tx, tx_str)"
   ]
  },
  {
   "cell_type": "code",
   "execution_count": 26,
   "id": "78a10833-4e05-4064-82c3-5172df4c12ff",
   "metadata": {},
   "outputs": [],
   "source": [
    "\n",
    "H_RQ_DICT = s.load_object('H_RQ_DICT')\n",
    "for navigable_parent, is_hrq in H_RQ_DICT.items():\n",
    "    if is_hrq:\n",
    "        tx_str = f\"\"\"\n",
    "            MATCH (np:NavigableParents {{navigable_parent: '{navigable_parent.replace(\"'\", chr(92) + \"'\")}'}})\n",
    "            SET np.is_minimum_qualification = true,  np.is_header = true;\"\"\"\n",
    "        with driver.session() as session:\n",
    "            session.write_transaction(do_cypher_tx, tx_str)\n",
    "        tx_str = f\"\"\"\n",
    "            MATCH\n",
    "                (pos:PartsOfSpeech {{is_header: true, is_minimum_qualification: true}}),\n",
    "                (np:NavigableParents {{navigable_parent: '{navigable_parent.replace(\"'\", chr(92) + \"'\")}'}})\n",
    "            MERGE (pos)-[r: SUMMARIZES]->(np);\"\"\""
   ]
  },
  {
   "cell_type": "code",
   "execution_count": 27,
   "id": "c5511f78-edf7-4548-ba97-afceb44b65a2",
   "metadata": {},
   "outputs": [],
   "source": [
    "\n",
    "interv_proc_headers_list = s.load_object('interv_proc_headers_list')\n",
    "for navigable_parent in interv_proc_headers_list:\n",
    "    tx_str = f\"\"\"\n",
    "        MATCH (np:NavigableParents {{navigable_parent: '{navigable_parent.replace(\"'\", chr(92) + \"'\")}'}})\n",
    "        SET np.is_interview_procedure = true, np.is_header = true;\"\"\"\n",
    "    with driver.session() as session:\n",
    "        session.write_transaction(do_cypher_tx, tx_str)"
   ]
  },
  {
   "cell_type": "code",
   "execution_count": 28,
   "id": "8d12630b-0889-44ae-9480-d8d4ea0bce13",
   "metadata": {},
   "outputs": [],
   "source": [
    "\n",
    "job_duration_headers_list = s.load_object('job_duration_headers_list')\n",
    "for navigable_parent in job_duration_headers_list:\n",
    "    tx_str = f\"\"\"\n",
    "        MATCH (np:NavigableParents {{navigable_parent: '{navigable_parent.replace(\"'\", chr(92) + \"'\")}'}})\n",
    "        SET np.is_job_duration = true, np.is_header = true;\"\"\"\n",
    "    with driver.session() as session:\n",
    "        session.write_transaction(do_cypher_tx, tx_str)"
   ]
  },
  {
   "cell_type": "code",
   "execution_count": 29,
   "id": "bd1faba1-5a12-4786-8077-459fae78803c",
   "metadata": {},
   "outputs": [],
   "source": [
    "\n",
    "job_title_headers_list = s.load_object('job_title_headers_list')\n",
    "for navigable_parent in job_title_headers_list:\n",
    "    tx_str = f\"\"\"\n",
    "        MATCH (np:NavigableParents {{navigable_parent: '{navigable_parent.replace(\"'\", chr(92) + \"'\")}'}})\n",
    "        SET np.is_job_title = true, np.is_header = true;\"\"\"\n",
    "    with driver.session() as session:\n",
    "        session.write_transaction(do_cypher_tx, tx_str)"
   ]
  },
  {
   "cell_type": "code",
   "execution_count": 30,
   "id": "522afdd4-b628-43d2-a795-4a56013afdd2",
   "metadata": {},
   "outputs": [],
   "source": [
    "\n",
    "legal_notifs_headers_list = s.load_object('legal_notifs_headers_list')\n",
    "for navigable_parent in legal_notifs_headers_list:\n",
    "    tx_str = f\"\"\"\n",
    "        MATCH (np:NavigableParents {{navigable_parent: '{navigable_parent.replace(\"'\", chr(92) + \"'\")}'}})\n",
    "        SET np.is_legal_notification = true, np.is_header = true;\"\"\"\n",
    "    with driver.session() as session:\n",
    "        session.write_transaction(do_cypher_tx, tx_str)"
   ]
  },
  {
   "cell_type": "code",
   "execution_count": 31,
   "id": "64a05541-9ed3-4c93-81e0-601e42ad3a5c",
   "metadata": {},
   "outputs": [],
   "source": [
    "\n",
    "LEGAL_NOTIFS_NONHEADERS_LIST = s.load_object('LEGAL_NOTIFS_NONHEADERS_LIST')\n",
    "for navigable_parent in LEGAL_NOTIFS_NONHEADERS_LIST:\n",
    "    tx_str = f\"\"\"\n",
    "        MATCH (np:NavigableParents {{navigable_parent: '{navigable_parent.replace(\"'\", chr(92) + \"'\")}'}})\n",
    "        SET np.is_legal_notification = true, np.is_header = false;\"\"\"\n",
    "    with driver.session() as session:\n",
    "        session.write_transaction(do_cypher_tx, tx_str)"
   ]
  },
  {
   "cell_type": "code",
   "execution_count": 32,
   "id": "5a5dfaeb-d0e8-4c74-8fce-2a5f31167666",
   "metadata": {},
   "outputs": [],
   "source": [
    "\n",
    "NAVIGABLE_PARENT_IS_HEADER_DICT = s.load_object('NAVIGABLE_PARENT_IS_HEADER_DICT')\n",
    "for navigable_parent, is_header in NAVIGABLE_PARENT_IS_HEADER_DICT.items():\n",
    "    tx_str = f\"\"\"\n",
    "        MATCH (np:NavigableParents {{navigable_parent: '{navigable_parent.replace(\"'\", chr(92) + \"'\")}'}})\n",
    "        SET np.is_header = '{is_header}'\"\"\"\n",
    "    with driver.session() as session:\n",
    "        session.write_transaction(do_cypher_tx, tx_str)\n",
    "    ihu.retrain_classifier(navigable_parent, is_header, verbose=True)"
   ]
  },
  {
   "cell_type": "code",
   "execution_count": 33,
   "id": "ed6a3ef0-8fc1-413e-bda3-8df0224cdc0e",
   "metadata": {},
   "outputs": [],
   "source": [
    "\n",
    "office_loc_headers_list = s.load_object('office_loc_headers_list')\n",
    "for navigable_parent in office_loc_headers_list:\n",
    "    tx_str = f\"\"\"\n",
    "        MATCH (np:NavigableParents {{navigable_parent: '{navigable_parent.replace(\"'\", chr(92) + \"'\")}'}})\n",
    "        SET np.is_office_location = true, np.is_header = true;\"\"\"\n",
    "    with driver.session() as session:\n",
    "        session.write_transaction(do_cypher_tx, tx_str)"
   ]
  },
  {
   "cell_type": "code",
   "execution_count": 34,
   "id": "c49eb25c-bb5f-486c-989c-d22f6206815a",
   "metadata": {},
   "outputs": [],
   "source": [
    "\n",
    "OFFICE_LOC_NONHEADERS_LIST = s.load_object('OFFICE_LOC_NONHEADERS_LIST')\n",
    "for navigable_parent in OFFICE_LOC_NONHEADERS_LIST:\n",
    "    tx_str = f\"\"\"\n",
    "        MATCH (np:NavigableParents {{navigable_parent: '{navigable_parent.replace(\"'\", chr(92) + \"'\")}'}})\n",
    "        SET np.is_office_location = true, np.is_header = false;\"\"\"\n",
    "    with driver.session() as session:\n",
    "        session.write_transaction(do_cypher_tx, tx_str)"
   ]
  },
  {
   "cell_type": "code",
   "execution_count": 35,
   "id": "fc1502a5-c91d-4e5e-9687-1d56c65d600b",
   "metadata": {},
   "outputs": [],
   "source": [
    "\n",
    "other_headers_list = s.load_object('other_headers_list')\n",
    "for navigable_parent in other_headers_list:\n",
    "    tx_str = f\"\"\"\n",
    "        MATCH (np:NavigableParents {{navigable_parent: '{navigable_parent.replace(\"'\", chr(92) + \"'\")}'}})\n",
    "        SET np.is_other = true, np.is_header = true;\"\"\"\n",
    "    with driver.session() as session:\n",
    "        session.write_transaction(do_cypher_tx, tx_str)"
   ]
  },
  {
   "cell_type": "code",
   "execution_count": 36,
   "id": "79636e4d-9476-49d9-aa6f-718eb74de48b",
   "metadata": {},
   "outputs": [],
   "source": [
    "\n",
    "O_RQ_DICT = s.load_object('O_RQ_DICT')\n",
    "for navigable_parent, is_orq in O_RQ_DICT.items():\n",
    "    if is_orq:\n",
    "        tx_str = f\"\"\"\n",
    "            MATCH (np:NavigableParents {{navigable_parent: '{navigable_parent.replace(\"'\", chr(92) + \"'\")}'}})\n",
    "            SET np.is_minimum_qualification = true,  np.is_header = false;\"\"\"\n",
    "        with driver.session() as session:\n",
    "            session.write_transaction(do_cypher_tx, tx_str)\n",
    "        tx_str = f\"\"\"\n",
    "            MATCH\n",
    "                (pos:PartsOfSpeech {{is_header: false, is_minimum_qualification: true}}),\n",
    "                (np:NavigableParents {{navigable_parent: '{navigable_parent.replace(\"'\", chr(92) + \"'\")}'}})\n",
    "            MERGE (pos)-[r: SUMMARIZES]->(np);\"\"\""
   ]
  },
  {
   "cell_type": "code",
   "execution_count": 37,
   "id": "1abc9358-0106-4e62-8daa-c31af04237d4",
   "metadata": {},
   "outputs": [],
   "source": [
    "\n",
    "O_TS_DICT = s.load_object('O_TS_DICT')\n",
    "for navigable_parent, is_orq in O_TS_DICT.items():\n",
    "    if is_orq:\n",
    "        tx_str = f\"\"\"\n",
    "            MATCH (np:NavigableParents {{navigable_parent: '{navigable_parent.replace(\"'\", chr(92) + \"'\")}'}})\n",
    "            SET np.is_task_scope = true,  np.is_header = false;\"\"\"\n",
    "        with driver.session() as session:\n",
    "            session.write_transaction(do_cypher_tx, tx_str)\n",
    "        tx_str = f\"\"\"\n",
    "            MATCH\n",
    "                (pos:PartsOfSpeech {{is_header: false, is_task_scope: true}}),\n",
    "                (np:NavigableParents {{navigable_parent: '{navigable_parent.replace(\"'\", chr(92) + \"'\")}'}})\n",
    "            MERGE (pos)-[r: SUMMARIZES]->(np);\"\"\""
   ]
  },
  {
   "cell_type": "code",
   "execution_count": 38,
   "id": "c0f62c73-7187-48ab-9115-4fda5be5feb7",
   "metadata": {},
   "outputs": [],
   "source": [
    "\n",
    "post_date_headers_list = s.load_object('post_date_headers_list')\n",
    "for navigable_parent in post_date_headers_list:\n",
    "    tx_str = f\"\"\"\n",
    "        MATCH (np:NavigableParents {{navigable_parent: '{navigable_parent.replace(\"'\", chr(92) + \"'\")}'}})\n",
    "        SET np.is_posting_date = true, np.is_header = true;\"\"\"\n",
    "    with driver.session() as session:\n",
    "        session.write_transaction(do_cypher_tx, tx_str)"
   ]
  },
  {
   "cell_type": "code",
   "execution_count": 39,
   "id": "b2a113ab-a707-468b-8d47-a664bdf63021",
   "metadata": {},
   "outputs": [],
   "source": [
    "\n",
    "preff_quals_headers_list = s.load_object('preff_quals_headers_list')\n",
    "for navigable_parent in preff_quals_headers_list:\n",
    "    tx_str = f\"\"\"\n",
    "        MATCH (np:NavigableParents {{navigable_parent: '{navigable_parent.replace(\"'\", chr(92) + \"'\")}'}})\n",
    "        SET np.is_preferred_qualification = true, np.is_header = true;\"\"\"\n",
    "    with driver.session() as session:\n",
    "        session.write_transaction(do_cypher_tx, tx_str)"
   ]
  },
  {
   "cell_type": "code",
   "execution_count": 40,
   "id": "d1047b98-f577-46f0-90c5-8373290cd900",
   "metadata": {},
   "outputs": [],
   "source": [
    "\n",
    "PREFF_QUALS_NONHEADERS_LIST = s.load_object('PREFF_QUALS_NONHEADERS_LIST')\n",
    "for navigable_parent in PREFF_QUALS_NONHEADERS_LIST:\n",
    "    tx_str = f\"\"\"\n",
    "        MATCH (np:NavigableParents {{navigable_parent: '{navigable_parent.replace(\"'\", chr(92) + \"'\")}'}})\n",
    "        SET np.is_preferred_qualification = true, np.is_header = false;\"\"\"\n",
    "    with driver.session() as session:\n",
    "        session.write_transaction(do_cypher_tx, tx_str)"
   ]
  },
  {
   "cell_type": "code",
   "execution_count": 41,
   "id": "dd4811d7-878a-4f40-a4d1-869b3afcc360",
   "metadata": {},
   "outputs": [],
   "source": [
    "\n",
    "req_quals_headers_list = s.load_object('req_quals_headers_list')\n",
    "for navigable_parent in req_quals_headers_list:\n",
    "    tx_str = f\"\"\"\n",
    "        MATCH (np:NavigableParents {{navigable_parent: '{navigable_parent.replace(\"'\", chr(92) + \"'\")}'}})\n",
    "        SET np.is_minimum_qualification = true, np.is_header = true;\"\"\"\n",
    "    with driver.session() as session:\n",
    "        session.write_transaction(do_cypher_tx, tx_str)"
   ]
  },
  {
   "cell_type": "code",
   "execution_count": 42,
   "id": "285b4851-acbb-43e7-a89e-cade62ac0340",
   "metadata": {},
   "outputs": [],
   "source": [
    "\n",
    "supp_pay_headers_list = s.load_object('supp_pay_headers_list')\n",
    "for navigable_parent in supp_pay_headers_list:\n",
    "    tx_str = f\"\"\"\n",
    "        MATCH (np:NavigableParents {{navigable_parent: '{navigable_parent.replace(\"'\", chr(92) + \"'\")}'}})\n",
    "        SET np.is_supplemental_pay = true, np.is_header = true;\"\"\"\n",
    "    with driver.session() as session:\n",
    "        session.write_transaction(do_cypher_tx, tx_str)"
   ]
  },
  {
   "cell_type": "code",
   "execution_count": 43,
   "id": "86ca3769-03cd-4d32-98d7-7ee75f492c2f",
   "metadata": {},
   "outputs": [],
   "source": [
    "\n",
    "supp_pay_nonheaders_list = s.load_object('supp_pay_nonheaders_list')\n",
    "for navigable_parent in supp_pay_nonheaders_list:\n",
    "    tx_str = f\"\"\"\n",
    "        MATCH (np:NavigableParents {{navigable_parent: '{navigable_parent.replace(\"'\", chr(92) + \"'\")}'}})\n",
    "        SET np.is_supplemental_pay = true, np.is_header = false;\"\"\"\n",
    "    with driver.session() as session:\n",
    "        session.write_transaction(do_cypher_tx, tx_str)"
   ]
  },
  {
   "cell_type": "code",
   "execution_count": 44,
   "id": "3daa535c-6146-4574-97b9-ff1801737e04",
   "metadata": {},
   "outputs": [],
   "source": [
    "\n",
    "task_scope_headers_list = s.load_object('task_scope_headers_list')\n",
    "for navigable_parent in task_scope_headers_list:\n",
    "    tx_str = f\"\"\"\n",
    "        MATCH (np:NavigableParents {{navigable_parent: '{navigable_parent.replace(\"'\", chr(92) + \"'\")}'}})\n",
    "        SET np.is_task_scope = true, np.is_header = true;\"\"\"\n",
    "    with driver.session() as session:\n",
    "        session.write_transaction(do_cypher_tx, tx_str)"
   ]
  },
  {
   "cell_type": "code",
   "execution_count": 45,
   "id": "5a0595ad-0e9b-42f6-8be5-3e070f90b79d",
   "metadata": {},
   "outputs": [],
   "source": [
    "\n",
    "TASK_SCOPE_NONHEADERS_LIST = s.load_object('TASK_SCOPE_NONHEADERS_LIST')\n",
    "for navigable_parent in TASK_SCOPE_NONHEADERS_LIST:\n",
    "    tx_str = f\"\"\"\n",
    "        MATCH (np:NavigableParents {{navigable_parent: '{navigable_parent.replace(\"'\", chr(92) + \"'\")}'}})\n",
    "        SET np.is_task_scope = true, np.is_header = false;\"\"\"\n",
    "    with driver.session() as session:\n",
    "        session.write_transaction(do_cypher_tx, tx_str)"
   ]
  },
  {
   "cell_type": "code",
   "execution_count": 46,
   "id": "53c526fe-753a-45de-b4ff-fd84fb285944",
   "metadata": {},
   "outputs": [],
   "source": [
    "\n",
    "POS_DICT = s.load_object('POS_DICT')\n",
    "for navigable_parent, pos_symbol in POS_DICT.items():\n",
    "    tx_str = f\"\"\"\n",
    "        MATCH\n",
    "            (pos:PartsOfSpeech {{pos_symbol: '{pos_symbol}'}}),\n",
    "            (np:NavigableParents {{navigable_parent: '{navigable_parent.replace(\"'\", chr(92) + \"'\")}'}})\n",
    "        MERGE (pos)-[r: SUMMARIZES]->(np);\"\"\"\n",
    "    with driver.session() as session:\n",
    "        session.write_transaction(do_cypher_tx, tx_str)"
   ]
  },
  {
   "cell_type": "code",
   "execution_count": null,
   "id": "acute-mozambique",
   "metadata": {},
   "outputs": [],
   "source": []
  }
 ],
 "metadata": {
  "kernelspec": {
   "display_name": "Job Hunting (Python 3.10.9)",
   "language": "python",
   "name": "jh_env"
  },
  "language_info": {
   "codemirror_mode": {
    "name": "ipython",
    "version": 3
   },
   "file_extension": ".py",
   "mimetype": "text/x-python",
   "name": "python",
   "nbconvert_exporter": "python",
   "pygments_lexer": "ipython3",
   "version": "3.10.9"
  }
 },
 "nbformat": 4,
 "nbformat_minor": 5
}
