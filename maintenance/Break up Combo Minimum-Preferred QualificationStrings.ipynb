{
 "cells": [
  {
   "cell_type": "code",
   "execution_count": 1,
   "id": "f0bcece9-b1d4-4437-a7eb-5f886b4e5cef",
   "metadata": {},
   "outputs": [
    {
     "name": "stdout",
     "output_type": "stream",
     "text": [
      "Pretty printing has been turned OFF\n",
      "======== Neo4j/4.4.7 ========\n",
      "Utility libraries created in 6 seconds\n"
     ]
    },
    {
     "name": "stderr",
     "output_type": "stream",
     "text": [
      "[nltk_data] Downloading package punkt to C:\\Users\\daveb/nltk_data...\n",
      "[nltk_data]   Package punkt is already up-to-date!\n"
     ]
    },
    {
     "data": {
      "text/plain": [
       "True"
      ]
     },
     "execution_count": 1,
     "metadata": {},
     "output_type": "execute_result"
    }
   ],
   "source": [
    "\n",
    "# Load needed libraries and functions\n",
    "%matplotlib inline\n",
    "%pprint\n",
    "import sys\n",
    "import os.path as osp\n",
    "\n",
    "executable_path = sys.executable; scripts_folder = osp.join(osp.dirname(executable_path), 'Scripts')\n",
    "py_folder = osp.abspath('../py'); ffmpeg_folder = r'C:\\ffmpeg\\bin'\n",
    "if (scripts_folder not in sys.path): sys.path.insert(1, scripts_folder)\n",
    "if (py_folder not in sys.path): sys.path.insert(1, py_folder)\n",
    "if (ffmpeg_folder not in sys.path): sys.path.insert(1, ffmpeg_folder)\n",
    "from jobpostlib import (cu, datetime, nu, humanize, time, lru, wsu)\n",
    "from nltk.tokenize import sent_tokenize\n",
    "from pandas import DataFrame\n",
    "from sklearn.cluster import KMeans\n",
    "from sklearn.decomposition import PCA\n",
    "from sklearn.feature_extraction.text import TfidfVectorizer\n",
    "from tqdm import tqdm\n",
    "import matplotlib.pyplot as plt\n",
    "import nltk\n",
    "import numpy as np\n",
    "import pyperclip\n",
    "import re\n",
    "\n",
    "# Download necessary NLTK data\n",
    "nltk.download('punkt')"
   ]
  },
  {
   "cell_type": "code",
   "execution_count": 2,
   "id": "59c66877-dc03-4fbb-8db6-54880fe93d26",
   "metadata": {},
   "outputs": [
    {
     "name": "stdout",
     "output_type": "stream",
     "text": [
      "I have 532,546 is-qualified vocabulary tokens in here\n",
      "Is-qualified LR elements built in 7 seconds\n"
     ]
    }
   ],
   "source": [
    "\n",
    "# Check if the lru has built its is-qualified classifier\n",
    "t1 = time.time()\n",
    "# lru.basic_quals_dict = None; lru.sync_basic_quals_dict()\n",
    "if not (hasattr(lru, 'ISQUALIFIED_LR') and hasattr(lru, 'ISQUALIFIED_CV')):\n",
    "    lru.build_isqualified_logistic_regression_elements(sampling_strategy_limit=None, verbose=True)\n",
    "duration_str = humanize.precisedelta(time.time() - t1, minimum_unit='seconds', format='%0.0f')\n",
    "speech_str = f'Is-qualified LR elements built in {duration_str}'; print(speech_str)"
   ]
  },
  {
   "cell_type": "markdown",
   "id": "d386345d-18c2-4960-8a99-edcfb9f5c30b",
   "metadata": {},
   "source": [
    "\n",
    "----"
   ]
  },
  {
   "cell_type": "code",
   "execution_count": 3,
   "id": "97fba8c2-ca5d-40e5-ac91-904be7001b83",
   "metadata": {},
   "outputs": [
    {
     "name": "stdout",
     "output_type": "stream",
     "text": [
      "basic_quals_df.shape: (20914, 2)\n"
     ]
    }
   ],
   "source": [
    "\n",
    "# Get the databased quals with preferred language marked as RQ\n",
    "cypher_str = '''\n",
    "    // Get all qualification strings in the database\n",
    "    MATCH (qs:QualificationStrings)\n",
    "    RETURN qs\n",
    "    ORDER BY qs.qualification_str;'''\n",
    "row_objs_list = []\n",
    "with cu.driver.session() as session: row_objs_list = session.write_transaction(cu.do_cypher_tx, cypher_str)\n",
    "if row_objs_list:\n",
    "    basic_quals_df = DataFrame(\n",
    "        [{k: v for k, v in row_obj['qs'].items()} for row_obj in row_objs_list]\n",
    "    ).drop_duplicates()\n",
    "    shape_tuple = basic_quals_df.shape\n",
    "    print(f'basic_quals_df.shape: {shape_tuple}')"
   ]
  },
  {
   "cell_type": "code",
   "execution_count": 4,
   "id": "8c6ce525-7bb1-4ac3-87d3-53780b13b11a",
   "metadata": {},
   "outputs": [
    {
     "name": "stdout",
     "output_type": "stream",
     "text": [
      "Master’s degree (Ph.D. preferred) in Economics, Mathematics, Statistics, Physics, Experimental Psychology, Biology, or other quantitative discipline, including significant coursework in statistics, econometrics, or a related field 23 230\n"
     ]
    }
   ],
   "source": [
    "\n",
    "import random\n",
    "\n",
    "search_str = 'prefer'\n",
    "mask_series = basic_quals_df.qualification_str.map(lambda x: search_str in x) & (basic_quals_df.is_qualified == 1)\n",
    "qualification_strs_list = basic_quals_df[mask_series].qualification_str.tolist()\n",
    "qualification_str = random.choice(qualification_strs_list)\n",
    "print(qualification_str, qualification_str.index(search_str), len(qualification_str))\n",
    "basic_quals_df.loc[mask_series, f'{search_str}_index'] = basic_quals_df[mask_series].qualification_str.map(lambda x: x.index(search_str))\n",
    "basic_quals_df.loc[mask_series, f'{search_str}_percentage'] = basic_quals_df[mask_series][f'{search_str}_index'] / basic_quals_df[mask_series].qualification_str.map(lambda x: len(x))"
   ]
  },
  {
   "cell_type": "code",
   "execution_count": 5,
   "id": "a41a9001-113b-4645-b4e8-0edcd1c4a914",
   "metadata": {},
   "outputs": [
    {
     "name": "stdout",
     "output_type": "stream",
     "text": [
      "A preference for a self-directed, project-based work style 0.034482758620689655\n",
      "PhD preferred; MS in Computer Science, Statistics, Math, Engineering, or related field required. 0.041666666666666664\n",
      "The preferred candidate will have experience working with and/or studying these applications 0.043478260869565216\n",
      "While our preference lies with candidates who possess real trading experience in these strategies with a track record of at least one year, we are open to considering applicants with simulation-based experience in exceptional cases 0.04329004329004329\n",
      "You prefer to run an A/B test rather than having long discussions on what changes need to be made in the product. 0.035398230088495575\n",
      "A Plus in Innovative Model Architecture: Design novel NLP architectures that integrate cutting-edge techniques such as cross-modal attention, graph neural networks, and unsupervised pre-training to solve complex multimodal language understanding tasks is preferred. 0.9622641509433962\n",
      "Excel in solving ambiguous and complex problems being able to navigate through uncertain situations breaking down complex challenges into manageable components and developing innovative solutions. is preferred 0.9569377990430622\n",
      "Experience developing or architecting cloud-hosted, responsive web applications using Typescript / JavaScript or Python and multiple other modern languages &amp; frameworks - Strong Typescript / JavaScript experience preferred 0.9601769911504425\n",
      "Knowledge and experience in statistical, predictive analytics, and data mining techniques (for example: GLM/Regression, Random Forest, Boosting, Trees, text mining, social network analysis, etc.) is preferred 0.9567307692307693\n",
      "Knowledge of a variety of predictive analytics and machine learning techniques (for example: clustering, decision tree learning, artificial neural networks, etc. and their real-world advantages/drawbacks) is preferred 0.9585253456221198\n"
     ]
    }
   ],
   "source": [
    "\n",
    "mask_series = ~basic_quals_df.prefer_percentage.isnull()\n",
    "df = basic_quals_df[mask_series].sort_values(['prefer_percentage'])\n",
    "# print(df.prefer_percentage.unique().tolist())\n",
    "for (qualification_str, prefer_percentage), head_df in df.head(10).tail(5).groupby(['qualification_str', 'prefer_percentage']): print(qualification_str, prefer_percentage)\n",
    "for (qualification_str, prefer_percentage), tail_df in df.tail(10).head(5).groupby(['qualification_str', 'prefer_percentage']): print(qualification_str, prefer_percentage)"
   ]
  },
  {
   "cell_type": "code",
   "execution_count": null,
   "id": "08e02448-fc7c-4703-8395-e8c230ce663a",
   "metadata": {},
   "outputs": [],
   "source": [
    "\n",
    "import anthropic\n",
    "\n",
    "# Defaults to os.environ.get(\"ANTHROPIC_API_KEY\")\n",
    "client = anthropic.Anthropic(\n",
    "    api_key=wsu.secrets_json['anthropic']['api_key'],\n",
    ")"
   ]
  },
  {
   "cell_type": "code",
   "execution_count": 10,
   "id": "16a70c58-4e9d-4cf5-be3f-3544fcf2ace5",
   "metadata": {},
   "outputs": [
    {
     "name": "stdout",
     "output_type": "stream",
     "text": [
      "BA/BS required, Masters/PhD preferred in quantitative discipline or related 0.37333333333333335\n",
      "['', 'Minimum', \"- Bachelor's degree in a quantitative discipline or related field.\\n\\n\", 'Preferred', \"- Master's degree or PhD in a quantitative discipline or related field.\"]\n",
      "Bachelor s degree (B.S., B.A.), preferably in Statistics, or equivalent, At least 6 years clinical trial experience 0.2782608695652174\n",
      "['', 'Minimum', \"Bachelor's degree (B.S., B.A.) or equivalent, and at least 6 years of clinical trial experience.\\n\\n\", 'Preferred', \"Bachelor's degree (B.S., B.A.) in Statistics or a related field.\"]\n",
      "Experience with at least one programming language (preference for those commonly used in ML or scientific computing such as Python or C++). 0.3669064748201439\n",
      "['', 'Minimum', 'Experience with at least one programming language.\\n\\n', 'Preferred', 'Experience with programming languages commonly used in machine learning or scientific computing, such as Python or C++.']\n",
      "Expertise in at least one popular programming language (Python preferred) and suite of associated machine learning tools. e.g. Python and packages such as Numpy, Pandas, PyTorch, Scikit-learn, SciPy, and/or TensorFlow 0.2903225806451613\n",
      "['', 'Minimum', 'Expertise in at least one popular programming language and suite of associated machine learning tools.\\n\\n', 'Preferred', 'Expertise in Python and packages such as Numpy, Pandas, PyTorch, Scikit-learn, SciPy, and/or TensorFlow.']\n",
      "Master’s degree or PhD preferred 0.71875\n",
      "['', 'Minimum', \"Bachelor's degree\\n\\n\", 'Preferred', \"Master's degree or PhD\"]\n"
     ]
    }
   ],
   "source": [
    "\n",
    "mask_series = (df.prefer_percentage > 0.25) & (df.prefer_percentage < 0.75)\n",
    "for (qualification_str, prefer_percentage), sample_df in df[mask_series].sample(min(5, df[mask_series].shape[0])).groupby(['qualification_str', 'prefer_percentage']):\n",
    "    message = client.messages.create(\n",
    "        model=\"claude-3-opus-20240229\",\n",
    "        max_tokens=1000,\n",
    "        temperature=0,\n",
    "        messages=[\n",
    "            {\n",
    "                \"role\": \"user\",\n",
    "                \"content\": [\n",
    "                    {\n",
    "                        \"type\": \"text\",\n",
    "                        \"text\": f'''Convert this qualification sentence into one minimum requirements sentence and one preferred requirements sentence: \"{qualification_str}\"'''\n",
    "                    }\n",
    "                ]\n",
    "            }\n",
    "        ]\n",
    "    )\n",
    "    print(qualification_str, prefer_percentage)\n",
    "    results_list = re.split('(Minimum|Preferred) [Rr]equirements?(?: sentence)?:\\s+', message.to_dict()['content'][0]['text'], 0)\n",
    "    print(results_list)"
   ]
  },
  {
   "cell_type": "code",
   "execution_count": null,
   "id": "a90dbf73-262d-4e20-bc48-cac04dd84b2f",
   "metadata": {},
   "outputs": [],
   "source": []
  }
 ],
 "metadata": {
  "kernelspec": {
   "display_name": "Job Hunting (Python 3.10.9)",
   "language": "python",
   "name": "jh_env"
  },
  "language_info": {
   "codemirror_mode": {
    "name": "ipython",
    "version": 3
   },
   "file_extension": ".py",
   "mimetype": "text/x-python",
   "name": "python",
   "nbconvert_exporter": "python",
   "pygments_lexer": "ipython3",
   "version": "3.10.9"
  }
 },
 "nbformat": 4,
 "nbformat_minor": 5
}
