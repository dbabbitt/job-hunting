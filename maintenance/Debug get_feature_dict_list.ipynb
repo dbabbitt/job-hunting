{
 "cells": [
  {
   "cell_type": "code",
   "execution_count": 1,
   "metadata": {},
   "outputs": [
    {
     "name": "stdout",
     "output_type": "stream",
     "text": [
      "Pretty printing has been turned OFF\n"
     ]
    }
   ],
   "source": [
    "\n",
    "%pprint"
   ]
  },
  {
   "cell_type": "markdown",
   "metadata": {},
   "source": [
    "\n",
    "----\n",
    "# Debug get_feature_dict_list"
   ]
  },
  {
   "cell_type": "code",
   "execution_count": 1,
   "metadata": {},
   "outputs": [
    {
     "name": "stdout",
     "output_type": "stream",
     "text": [
      "Wall time: 3.3 s\n"
     ]
    }
   ],
   "source": [
    "\n",
    "%%time\n",
    "%run ../py/sql_utlis.py\n",
    "\n",
    "su = SqlUtilities()\n",
    "conn, cursor = su.get_jh_conn_cursor()"
   ]
  },
  {
   "cell_type": "code",
   "execution_count": 3,
   "metadata": {},
   "outputs": [],
   "source": [
    "\n",
    "# Get the files in the child strings list\n",
    "sql_str = '''\n",
    "    SELECT\n",
    "        fn.[file_name_id],\n",
    "        RTRIM(fn.[file_name]) AS file_name\n",
    "    FROM [Jobhunting].[dbo].[FileNames] fn'''\n",
    "filenames_df = pd.DataFrame(su.get_execution_results(cursor, sql_str, verbose=False))\n",
    "CHILD_STRS_LIST_DICT = su.s.load_object('CHILD_STRS_LIST_DICT')\n",
    "mask_series = filenames_df.file_name.isin(list(CHILD_STRS_LIST_DICT.keys()))"
   ]
  },
  {
   "cell_type": "code",
   "execution_count": 6,
   "metadata": {},
   "outputs": [],
   "source": [
    "\n",
    "row_series = filenames_df[mask_series].sample(1).squeeze()\n",
    "file_name_id = row_series.file_name_id\n",
    "file_name = row_series.file_name.strip()"
   ]
  },
  {
   "cell_type": "code",
   "execution_count": null,
   "metadata": {},
   "outputs": [],
   "source": [
    "\n",
    "# Get the child strings list for the file\n",
    "sql_str = '''\n",
    "    SELECT np.[navigable_parent]\n",
    "    FROM\n",
    "        [Jobhunting].[dbo].[NavigableParentSequence] nps INNER JOIN\n",
    "        [Jobhunting].[dbo].[NavigableParents] np ON\n",
    "        nps.[navigable_parent_id] = np.[navigable_parent_id]\n",
    "    WHERE nps.[file_name_id] = {}\n",
    "    ORDER BY nps.[sequence_order] ASC'''.format(file_name_id)\n",
    "child_strs_list = pd.DataFrame(su.get_execution_results(cursor, sql_str,\n",
    "                                                        verbose=False)).navigable_parent.tolist()\n",
    "child_strs_list"
   ]
  },
  {
   "cell_type": "code",
   "execution_count": null,
   "metadata": {},
   "outputs": [],
   "source": [
    "\n",
    "# Get the child tags list for the file\n",
    "sql_str = '''\n",
    "    SELECT ht.[header_tag]\n",
    "    FROM\n",
    "        [Jobhunting].[dbo].[HeaderTagSequence] hts INNER JOIN\n",
    "        [Jobhunting].[dbo].[HeaderTags] ht ON\n",
    "        hts.[header_tag_id] = ht.[header_tag_id]\n",
    "    WHERE hts.[file_name_id] = {}\n",
    "    ORDER BY hts.[sequence_order] ASC'''.format(file_name_id)\n",
    "child_tags_list = [x.strip() for x in pd.DataFrame(su.get_execution_results(cursor,\n",
    "                                                                            sql_str)).header_tag.tolist()]\n",
    "child_tags_list"
   ]
  },
  {
   "cell_type": "code",
   "execution_count": null,
   "metadata": {},
   "outputs": [],
   "source": [
    "\n",
    "# Assume the is_header feature for each item in the sequence is not None\n",
    "su.get_feature_dict_list(cursor, child_tags_list, child_strs_list)"
   ]
  },
  {
   "cell_type": "code",
   "execution_count": null,
   "metadata": {},
   "outputs": [],
   "source": [
    "\n",
    "get_feature_dict_list(child_tags_list, is_header_list, child_strs_list)"
   ]
  },
  {
   "cell_type": "code",
   "execution_count": null,
   "metadata": {},
   "outputs": [],
   "source": []
  }
 ],
 "metadata": {
  "anaconda-cloud": {},
  "kernelspec": {
   "display_name": "Job Hunting (Python 3.7.9)",
   "language": "python",
   "name": "jh"
  },
  "language_info": {
   "codemirror_mode": {
    "name": "ipython",
    "version": 3
   },
   "file_extension": ".py",
   "mimetype": "text/x-python",
   "name": "python",
   "nbconvert_exporter": "python",
   "pygments_lexer": "ipython3",
   "version": "3.7.9"
  }
 },
 "nbformat": 4,
 "nbformat_minor": 4
}
