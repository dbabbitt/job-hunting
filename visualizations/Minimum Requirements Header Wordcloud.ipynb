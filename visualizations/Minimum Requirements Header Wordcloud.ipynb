{
 "cells": [
  {
   "cell_type": "code",
   "execution_count": 1,
   "id": "a8de27a3-7cfd-48aa-9612-a33298f6aa6d",
   "metadata": {},
   "outputs": [
    {
     "name": "stdout",
     "output_type": "stream",
     "text": [
      "Pretty printing has been turned OFF\n"
     ]
    }
   ],
   "source": [
    "\n",
    "%pprint"
   ]
  },
  {
   "cell_type": "markdown",
   "id": "3691d8b3-62c6-4f16-98d6-d68c0e104739",
   "metadata": {},
   "source": [
    "\n",
    "---\n",
    "# Load needed libraries and functions"
   ]
  },
  {
   "cell_type": "code",
   "execution_count": 2,
   "id": "4fa7174a-225a-4a86-8d0f-eddc2fd044c0",
   "metadata": {},
   "outputs": [],
   "source": [
    "\n",
    "import sys\n",
    "\n",
    "# Insert at 1, 0 is the script path (or '' in REPL)\n",
    "sys.path.insert(1, '../py')"
   ]
  },
  {
   "cell_type": "code",
   "execution_count": 3,
   "id": "354780a5-43b0-4618-a35d-f9c5e01f56ed",
   "metadata": {},
   "outputs": [],
   "source": [
    "\n",
    "# Get the Neo4j driver\n",
    "from storage import Storage\n",
    "s = Storage()\n",
    "\n",
    "from ha_utils import HeaderAnalysis\n",
    "ha = HeaderAnalysis(s=s, verbose=False)\n",
    "\n",
    "from scrape_utils import WebScrapingUtilities\n",
    "wsu = WebScrapingUtilities(s=s)\n",
    "uri = wsu.secrets_json['neo4j']['connect_url']\n",
    "user =  wsu.secrets_json['neo4j']['username']\n",
    "password = wsu.secrets_json['neo4j']['password']\n",
    "\n",
    "from cypher_utils import CypherUtilities\n",
    "cu = CypherUtilities(uri=uri, user=user, password=password, driver=None, s=s, ha=ha)"
   ]
  },
  {
   "cell_type": "code",
   "execution_count": 4,
   "id": "15b6f527-e115-48cc-b6c6-d0671111cd35",
   "metadata": {},
   "outputs": [
    {
     "name": "stdout",
     "output_type": "stream",
     "text": [
      "======== Neo4j/4.4.7 ========\n"
     ]
    }
   ],
   "source": [
    "\n",
    "from neo4j.exceptions import ServiceUnavailable\n",
    "\n",
    "try:\n",
    "    version_str = cu.driver.verify_connectivity()\n",
    "    print(f'======== {version_str} ========')\n",
    "    \n",
    "    from hc_utils import HeaderCategories\n",
    "    hc = HeaderCategories(cu=cu, verbose=False)\n",
    "    \n",
    "    from section_utils import SectionUtilities\n",
    "    su = SectionUtilities(verbose=False)\n",
    "    \n",
    "    from lr_utils import LrUtilities\n",
    "    lru = LrUtilities(ha=ha, cu=cu, hc=hc, verbose=False)\n",
    "    \n",
    "    from crf_utils import CrfUtilities\n",
    "    crf = CrfUtilities(ha=ha, hc=hc, cu=cu, verbose=False)\n",
    "    \n",
    "    import warnings\n",
    "    warnings.filterwarnings('ignore')\n",
    "except ServiceUnavailable as e:\n",
    "    # print(str(e).strip())\n",
    "    raise ServiceUnavailable('You need to start Neo4j as a console')\n",
    "except Exception as e:\n",
    "    print(f'{e.__class__}: {str(e).strip()}')"
   ]
  },
  {
   "cell_type": "code",
   "execution_count": 5,
   "id": "619bbd59-292c-4dad-af9a-2873ee41eb02",
   "metadata": {},
   "outputs": [
    {
     "name": "stdout",
     "output_type": "stream",
     "text": [
      "Last run on 2023-01-17 10:50:37.428865\n"
     ]
    }
   ],
   "source": [
    "\n",
    "%matplotlib inline\n",
    "import time\n",
    "import humanize\n",
    "import matplotlib.pyplot as plt\n",
    "from datetime import datetime\n",
    "import winsound\n",
    "\n",
    "duration = 1000  # milliseconds\n",
    "freq = 880  # Hz\n",
    "width_inches = 18.0\n",
    "height_inches = 3.0\n",
    "bin_count = 12\n",
    "print(f'Last run on {datetime.now()}')"
   ]
  },
  {
   "cell_type": "code",
   "execution_count": 167,
   "id": "5bb3f749-0a02-4266-876d-08983725feb2",
   "metadata": {},
   "outputs": [
    {
     "data": {
      "text/plain": [
       "Qualifications              7\n",
       "Experience:                 6\n",
       "Requirements:               5\n",
       "Required:                   4\n",
       "Minimum Qualifications:     4\n",
       "Qualifications:             4\n",
       "Required Qualifications:    4\n",
       "Basic Qualifications        3\n",
       "Required Experience:        3\n",
       "Skills Required:            3\n",
       "Skills:                     3\n",
       "Minimum Requirements:       3\n",
       "Requirements                3\n",
       "About You                   3\n",
       "What You Need:              3\n",
       "Required                    3\n",
       "Required Skills:            3\n",
       "Skills                      2\n",
       "Required Skills             2\n",
       "Skills and Experience:      2\n",
       "dtype: int64"
      ]
     },
     "execution_count": 167,
     "metadata": {},
     "output_type": "execute_result"
    }
   ],
   "source": [
    "\n",
    "import re\n",
    "import pandas as pd\n",
    "\n",
    "sentence_regex = re.compile(r'[;•➢\\*]|\\.(?!\\w)')\n",
    "html_regex = re.compile(r'</?[^>]+>')\n",
    "def do_cypher_tx(tx, verbose=False):\n",
    "    cypher_str = \"\"\"MATCH (np:NavigableParents)\n",
    "        WHERE\n",
    "            np.is_header = 'True' AND\n",
    "            np.is_minimum_qualification = 'True'\n",
    "        RETURN np.navigable_parent;\"\"\"\n",
    "    results_list = tx.run(query=cypher_str, parameters=None)\n",
    "\n",
    "    return [dict(record.items())['np.navigable_parent'] for record in results_list]\n",
    "with cu.driver.session() as session:\n",
    "    row_objs_list = session.write_transaction(do_cypher_tx)\n",
    "phrases_list = []\n",
    "for child_str in row_objs_list:\n",
    "    if bytearray(child_str[0], encoding='utf-8', errors='replace') == bytearray(b'-'):\n",
    "        child_str = child_str[1:]\n",
    "    child_str = html_regex.sub('', child_str.strip('•\\xa0 '))\n",
    "    phrases_list.append(child_str)\n",
    "pd.DataFrame(phrases_list).value_counts().sort_values(ascending=False).head(20)"
   ]
  },
  {
   "cell_type": "code",
   "execution_count": 119,
   "id": "632678bc-79fd-4b42-bc23-151b74b6aff8",
   "metadata": {},
   "outputs": [
    {
     "name": "stdout",
     "output_type": "stream",
     "text": [
      "- Python 45-32-80-121-116-104-111-110\n"
     ]
    },
    {
     "data": {
      "text/plain": [
       "True"
      ]
     },
     "execution_count": 119,
     "metadata": {},
     "output_type": "execute_result"
    }
   ],
   "source": [
    "\n",
    "print(phrases_list[2], '-'.join(str(x) for x in bytearray(str(phrases_list[2]), encoding='utf-8', errors='replace')))\n",
    "bytearray(phrases_list[2][0], encoding='utf-8', errors='replace') == bytearray(b'-')"
   ]
  },
  {
   "cell_type": "code",
   "execution_count": 156,
   "id": "f3902b07-b44a-4e38-b904-7173387c74ba",
   "metadata": {},
   "outputs": [
    {
     "data": {
      "text/plain": [
       "['Currently, we are looking for talented resources for one of our listed clients. If interested please reply to me with your updated resume or feel free to reach out to me for more details at', '<b>What we are looking for </b>', '<p>In short, we are looking for a Difference Maker .</p>', \"<p>If you are an engineer who's passionate about building innovative products that scale to tens of millions of pageviews a day and to help people find jobs globally, we are looking for you.</p>\", '<b>For this position we are looking for an experienced data scientist with:</b>', '<p>In addition to the desire to learn, willingness to move fast and work hard, and enthusiasm for (or at least acceptance of) many Star Wars references, we are looking for candidates with the following:</p>', '<p>In short, we are looking for a “Difference Maker”.</p>', '<p>Our studio is pioneering new methods to blend AI and gameplay, and we are looking for a strong software engineer to drive first-of-its-kind gameplay experiences to thrill our players!</p>', '<p>We are an innovative, intent-driven company that believes in building the future and we are looking for growth minded, unconventional thinkers, developers and builders to join the team.</p>', 'At a high level, we are looking for a highly motivated, successful data scientist who is a demonstrated', 'Reporting to the Senior Director, Analytics and Business Intelligence, we are looking for a talented, enthusiastic, and results-driven']"
      ]
     },
     "execution_count": 156,
     "metadata": {},
     "output_type": "execute_result"
    }
   ],
   "source": [
    "\n",
    "def do_cypher_tx(tx, verbose=False):\n",
    "    cypher_str = \"\"\"MATCH (np:NavigableParents)\n",
    "        WHERE\n",
    "            (np.is_header = 'True') AND\n",
    "            (np.navigable_parent CONTAINS ' we are looking for ') AND\n",
    "            (NOT np.navigable_parent ENDS WITH ':') AND\n",
    "            (NOT np.navigable_parent ENDS WITH ':</div>') AND\n",
    "            (NOT np.navigable_parent ENDS WITH ', Including The Following Areas')\n",
    "        SET np.is_header = 'False'\n",
    "        RETURN np.navigable_parent;\"\"\"\n",
    "    results_list = tx.run(query=cypher_str, parameters=None)\n",
    "\n",
    "    return [dict(record.items())['np.navigable_parent'] for record in results_list]\n",
    "with cu.driver.session() as session:\n",
    "    row_objs_list = session.write_transaction(do_cypher_tx)\n",
    "ihu.retrain_classifier(row_objs_list, ['True']*len(row_objs_list), verbose=True)\n",
    "row_objs_list"
   ]
  },
  {
   "cell_type": "code",
   "execution_count": 49,
   "id": "011d996a-8eb7-4c84-a2ab-684ed1b96532",
   "metadata": {},
   "outputs": [
    {
     "data": {
      "text/plain": [
       "'-'"
      ]
     },
     "execution_count": 49,
     "metadata": {},
     "output_type": "execute_result"
    }
   ],
   "source": [
    "\n",
    "chr(45)"
   ]
  }
 ],
 "metadata": {
  "kernelspec": {
   "display_name": "Python 3 (ipykernel)",
   "language": "python",
   "name": "python3"
  },
  "language_info": {
   "codemirror_mode": {
    "name": "ipython",
    "version": 3
   },
   "file_extension": ".py",
   "mimetype": "text/x-python",
   "name": "python",
   "nbconvert_exporter": "python",
   "pygments_lexer": "ipython3",
   "version": "3.9.16"
  }
 },
 "nbformat": 4,
 "nbformat_minor": 5
}
