{
 "cells": [
  {
   "cell_type": "code",
   "execution_count": null,
   "id": "5fe37fc0-2ff1-4e1f-95f7-8ad253d7b9cb",
   "metadata": {},
   "outputs": [],
   "source": [
    "\n",
    "tx.run?"
   ]
  }
 ],
 "metadata": {
  "kernelspec": {
   "display_name": "Python 3 (ipykernel)",
   "language": "python",
   "name": "python3"
  },
  "language_info": {
   "codemirror_mode": {
    "name": "ipython",
    "version": 3
   },
   "file_extension": ".py",
   "mimetype": "text/x-python",
   "name": "python",
   "nbconvert_exporter": "python",
   "pygments_lexer": "ipython3",
   "version": "3.9.7"
  }
 },
 "nbformat": 4,
 "nbformat_minor": 5
}
