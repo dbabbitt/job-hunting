{
 "cells": [
  {
   "cell_type": "code",
   "execution_count": 1,
   "metadata": {},
   "outputs": [
    {
     "name": "stdout",
     "output_type": "stream",
     "text": [
      "Pretty printing has been turned OFF\n"
     ]
    }
   ],
   "source": [
    "\n",
    "%pprint"
   ]
  },
  {
   "cell_type": "code",
   "execution_count": 45,
   "metadata": {},
   "outputs": [],
   "source": [
    "\n",
    "# SET other subtypes as 0; assuming no rows affected if primary and secondary columns are the same\n",
    "subtypes_list = ['is_task_scope', 'is_minimum_qualification', 'is_preferred_qualification',\n",
    "                 'is_legal_notification', 'is_job_title', 'is_office_location', 'is_job_duration',\n",
    "                 'is_supplemental_pay', 'is_educational_requirement', 'is_interview_procedure',\n",
    "                 'is_corporate_scope', 'is_posting_date', 'is_other']\n",
    "for primary_column in subtypes_list:\n",
    "    for secondary_column in subtypes_list:\n",
    "        CURSOR.execute(su.set_secondary_column0_formatted_sql_str.format(secondary_column, primary_column,\n",
    "                                                                         secondary_column))"
   ]
  },
  {
   "cell_type": "code",
   "execution_count": 41,
   "metadata": {},
   "outputs": [],
   "source": [
    "\n",
    "import pandas as pd\n",
    "%run ../py/html_analysis.py\n",
    "\n",
    "crf = CrfUtilities()\n",
    "sql_str = f'''\n",
    "    SELECT\n",
    "        np.[navigable_parent],\n",
    "        pos.[pos_symbol]\n",
    "    FROM\n",
    "        [Jobhunting].[dbo].[NavigableParents] np INNER JOIN\n",
    "        [Jobhunting].[dbo].[PartsOfSpeech] pos ON\n",
    "            pos.[is_header] = np.[is_header] AND\n",
    "            pos.[is_task_scope] = np.[is_task_scope] AND\n",
    "            pos.[is_minimum_qualification] = np.[is_minimum_qualification] AND\n",
    "            pos.[is_preferred_qualification] = np.[is_preferred_qualification] AND\n",
    "            pos.[is_legal_notification] = np.[is_legal_notification] AND\n",
    "            pos.[is_job_title] = np.[is_job_title] AND\n",
    "            pos.[is_office_location] = np.[is_office_location] AND\n",
    "            pos.[is_job_duration] = np.[is_job_duration] AND\n",
    "            pos.[is_supplemental_pay] = np.[is_supplemental_pay] AND\n",
    "            pos.[is_educational_requirement] = np.[is_educational_requirement] AND\n",
    "            pos.[is_interview_procedure] = np.[is_interview_procedure] AND\n",
    "            pos.[is_corporate_scope] = np.[is_corporate_scope] AND\n",
    "            pos.[is_posting_date] = np.[is_posting_date] AND\n",
    "            pos.[is_other] = np.[is_other];'''\n",
    "pos_df = pd.DataFrame(crf.su.get_execution_results(crf.cursor, sql_str, verbose=False))\n",
    "POS_DICT = pos_df.set_index('navigable_parent')['pos_symbol'].to_dict()"
   ]
  },
  {
   "cell_type": "code",
   "execution_count": 42,
   "metadata": {},
   "outputs": [
    {
     "name": "stdout",
     "output_type": "stream",
     "text": [
      "Data_Analyst_Data_Scientist_-_Portland,_OR_97202_-_Indeed.com_d9a2e6caf751bd78.html 0.627906976744186\n"
     ]
    }
   ],
   "source": [
    "\n",
    "HEADER_PATTERN_DICT = s.load_object('HEADER_PATTERN_DICT')\n",
    "tuples_list = []\n",
    "for file_name, feature_dict_list in HEADER_PATTERN_DICT.items():\n",
    "    total = len(feature_dict_list)\n",
    "    symbol_count = 0\n",
    "    for feature_dict in feature_dict_list:\n",
    "        if feature_dict['child_str'] in POS_DICT:\n",
    "            symbol_count += 1\n",
    "    #print(f'{file_name}: {symbol_count}/{total}')\n",
    "    tuples_list.append((file_name, symbol_count/total))\n",
    "for file_name, completed_percentage in sorted(tuples_list, key=lambda x: x[1], reverse=True):\n",
    "    if completed_percentage < 1.0:\n",
    "        print(file_name, completed_percentage)\n",
    "        break"
   ]
  },
  {
   "cell_type": "code",
   "execution_count": 43,
   "metadata": {},
   "outputs": [],
   "source": [
    "\n",
    "FEATURE_DICT_LIST = HEADER_PATTERN_DICT[file_name]\n",
    "ZMQInteractiveShell_obj = get_ipython()\n",
    "su = crf.su\n",
    "CURSOR = crf.cursor"
   ]
  },
  {
   "cell_type": "code",
   "execution_count": 44,
   "metadata": {},
   "outputs": [],
   "source": [
    "\n",
    "def get_dictionary_code():\n",
    "    output_str = '\\n'\n",
    "    for feature_dict in FEATURE_DICT_LIST:\n",
    "        tag_str = feature_dict['child_str']\n",
    "        if tag_str not in POS_DICT:\n",
    "            break\n",
    "        else:\n",
    "            tag_str = ''\n",
    "    if \"'\" in tag_str:\n",
    "        tag_str = tag_str.replace('\"', '\\\\\"')\n",
    "        output_str += f'tag_str = \"{tag_str}\"\\n'\n",
    "    else:\n",
    "        output_str += f\"tag_str = '{tag_str}'\\n\"\n",
    "    output_str += \"POS_DICT[tag_str] = 'O-xx'\\n\"\n",
    "    output_str += 'sql_str = r\"\"\"UPDATE NavigableParents\\n    SET\\n        is_header = 0,\\n'\n",
    "    output_str += '        is_task_scope = 0,\\n        is_minimum_qualification = 0,\\n'\n",
    "    output_str += '        is_preferred_qualification = 0,\\n        is_legal_notification = 0,\\n'\n",
    "    output_str += '        is_job_title = 0,\\n        is_office_location = 0,\\n        is_job_duration = 0,\\n'\n",
    "    output_str += '        is_supplemental_pay = 0,\\n        is_educational_requirement = 0,\\n'\n",
    "    output_str += '        is_interview_procedure = 0,\\n        is_corporate_scope = 0,\\n'\n",
    "    output_str += '        is_posting_date = 0,\\n        is_other = 0\\n'\n",
    "    output_str += '    WHERE (navigable_parent LIKE ? ESCAPE \\'\\\\\\')\"\"\"\\n'\n",
    "    output_str += r\"cursor_obj = CURSOR.execute(sql_str, (crf.su.wc_rgx.sub(r'\\\\\\g<1>', tag_str),))\"\n",
    "    output_str += '\\nCURSOR.commit()'\n",
    "    \n",
    "    return output_str"
   ]
  },
  {
   "cell_type": "code",
   "execution_count": null,
   "metadata": {},
   "outputs": [],
   "source": [
    "\n",
    "ZMQInteractiveShell_obj.set_next_input(text=get_dictionary_code(), replace=True)"
   ]
  },
  {
   "cell_type": "code",
   "execution_count": 10,
   "metadata": {},
   "outputs": [
    {
     "data": {
      "text/plain": [
       "{'H-TS': 'Task Scope Header', 'H-RQ': 'Required Qualifications Header', 'H-PQ': 'Preferred Qualifications Header', 'H-LN': 'Legal Notifications Header', 'H-JT': 'Job Title Header', 'H-OL': 'Office Location Header', 'H-JD': 'Job Duration Header', 'H-SP': 'Supplemental Pay Header', 'H-ER': 'Education Requirements Header', 'H-IP': 'Interview Procedures Header', 'H-CS': 'Corporate Scope Header', 'H-PD': 'Post Date Header', 'H-O': 'Other Header', 'O': 'Non-header'}"
      ]
     },
     "execution_count": 10,
     "metadata": {},
     "output_type": "execute_result"
    }
   ],
   "source": [
    "\n",
    "pos_explanation_dict = s.load_object('pos_explanation_dict')\n",
    "pos_explanation_dict"
   ]
  }
 ],
 "metadata": {
  "anaconda-cloud": {},
  "kernelspec": {
   "display_name": "Job Hunting (Python 3.7.9)",
   "language": "python",
   "name": "jh_env"
  },
  "language_info": {
   "codemirror_mode": {
    "name": "ipython",
    "version": 3
   },
   "file_extension": ".py",
   "mimetype": "text/x-python",
   "name": "python",
   "nbconvert_exporter": "python",
   "pygments_lexer": "ipython3",
   "version": "3.7.9"
  }
 },
 "nbformat": 4,
 "nbformat_minor": 4
}
