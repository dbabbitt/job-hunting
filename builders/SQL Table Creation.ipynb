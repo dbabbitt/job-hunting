{
 "cells": [
  {
   "cell_type": "code",
   "execution_count": null,
   "id": "piano-purple",
   "metadata": {},
   "outputs": [],
   "source": []
  },
  {
   "cell_type": "code",
   "execution_count": 1,
   "id": "extreme-camera",
   "metadata": {},
   "outputs": [
    {
     "name": "stdout",
     "output_type": "stream",
     "text": [
      "Pretty printing has been turned OFF\n"
     ]
    }
   ],
   "source": [
    "\n",
    "%pprint"
   ]
  },
  {
   "cell_type": "code",
   "execution_count": 2,
   "id": "separate-service",
   "metadata": {},
   "outputs": [
    {
     "name": "stdout",
     "output_type": "stream",
     "text": [
      "Wall time: 4.29 s\n"
     ]
    }
   ],
   "source": [
    "\n",
    "%%time\n",
    "%run ../py/sql_utlis.py\n",
    "sqlu = SqlUtilities()\n",
    "conn, cursor = sqlu.get_jh_conn_cursor()"
   ]
  },
  {
   "cell_type": "code",
   "execution_count": 3,
   "id": "perfect-yorkshire",
   "metadata": {},
   "outputs": [
    {
     "name": "stdout",
     "output_type": "stream",
     "text": [
      "Wall time: 100 ms\n"
     ]
    }
   ],
   "source": [
    "\n",
    "%%time\n",
    "sqlu.create_partsofspeech_table(cursor, verbose=False)\n",
    "sqlu.populate_partsofspeech_table(cursor, verbose=False)"
   ]
  },
  {
   "cell_type": "code",
   "execution_count": 4,
   "id": "hindu-talent",
   "metadata": {},
   "outputs": [
    {
     "name": "stdout",
     "output_type": "stream",
     "text": [
      "Wall time: 270 ms\n"
     ]
    }
   ],
   "source": [
    "\n",
    "%%time\n",
    "sqlu.create_headertags_table(cursor, verbose=False)\n",
    "sqlu.populate_headertags_table(cursor, verbose=False)"
   ]
  },
  {
   "cell_type": "code",
   "execution_count": 5,
   "id": "convenient-maldives",
   "metadata": {},
   "outputs": [
    {
     "name": "stdout",
     "output_type": "stream",
     "text": [
      "Wall time: 1.09 s\n"
     ]
    }
   ],
   "source": [
    "\n",
    "%%time\n",
    "sqlu.create_filenames_table(cursor, verbose=False)\n",
    "sqlu.populate_filenames_table(cursor, verbose=False)"
   ]
  },
  {
   "cell_type": "code",
   "execution_count": 8,
   "id": "suited-rally",
   "metadata": {},
   "outputs": [
    {
     "name": "stdout",
     "output_type": "stream",
     "text": [
      "Wall time: 13min 29s\n"
     ]
    }
   ],
   "source": [
    "\n",
    "%%time\n",
    "sqlu.create_headertagsequence_table(cursor, verbose=False)\n",
    "sqlu.populate_headertagsequence_table(cursor, verbose=False)"
   ]
  },
  {
   "cell_type": "code",
   "execution_count": 6,
   "id": "breathing-turner",
   "metadata": {},
   "outputs": [
    {
     "name": "stdout",
     "output_type": "stream",
     "text": [
      "Wall time: 16min 32s\n"
     ]
    }
   ],
   "source": [
    "\n",
    "%%time\n",
    "sqlu.create_navigableparents_table(cursor, verbose=False)\n",
    "sqlu.populate_navigableparents_table(cursor, verbose=False)"
   ]
  },
  {
   "cell_type": "code",
   "execution_count": 7,
   "id": "quiet-egyptian",
   "metadata": {},
   "outputs": [
    {
     "name": "stdout",
     "output_type": "stream",
     "text": [
      "Wall time: 29min 19s\n"
     ]
    }
   ],
   "source": [
    "\n",
    "%%time\n",
    "sqlu.create_navigableparentsequence_table(cursor, verbose=False)\n",
    "sqlu.populate_navigableparentsequence_table(cursor, verbose=False)"
   ]
  },
  {
   "cell_type": "raw",
   "id": "eight-recording",
   "metadata": {},
   "source": [
    "\n",
    "%%time\n",
    "%run ../py/html_analysis.py\n",
    "\n",
    "hc = HeaderCategories()\n",
    "ea = ElementAnalysis()\n",
    "ha = HeaderAnalysis()"
   ]
  }
 ],
 "metadata": {
  "kernelspec": {
   "display_name": "Job Hunting (Python 3.7.9)",
   "language": "python",
   "name": "jh"
  },
  "language_info": {
   "codemirror_mode": {
    "name": "ipython",
    "version": 3
   },
   "file_extension": ".py",
   "mimetype": "text/x-python",
   "name": "python",
   "nbconvert_exporter": "python",
   "pygments_lexer": "ipython3",
   "version": "3.7.9"
  }
 },
 "nbformat": 4,
 "nbformat_minor": 5
}
