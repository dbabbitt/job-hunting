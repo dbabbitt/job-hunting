{
 "cells": [
  {
   "cell_type": "code",
   "execution_count": 1,
   "metadata": {},
   "outputs": [
    {
     "name": "stdout",
     "output_type": "stream",
     "text": [
      "Pretty printing has been turned OFF\n"
     ]
    }
   ],
   "source": [
    "\n",
    "%pprint"
   ]
  },
  {
   "cell_type": "code",
   "execution_count": 2,
   "metadata": {},
   "outputs": [
    {
     "name": "stdout",
     "output_type": "stream",
     "text": [
      "Wall time: 10 s\n"
     ]
    }
   ],
   "source": [
    "\n",
    "%%time\n",
    "%run ../py/sql_utlis.py\n",
    "\n",
    "ZMQInteractiveShell_obj = get_ipython()\n",
    "su = SqlUtilities()\n",
    "_, CURSOR = su.get_jh_conn_cursor()\n",
    "# su.create_navigableparentsequence_table(CURSOR)\n",
    "# su.populate_navigableparentsequence_table(CURSOR)"
   ]
  },
  {
   "cell_type": "code",
   "execution_count": 16,
   "metadata": {},
   "outputs": [
    {
     "name": "stdout",
     "output_type": "stream",
     "text": [
      " I have 64 non-zero examples in 7 files\n"
     ]
    },
    {
     "data": {
      "text/html": [
       "<div>\n",
       "<style scoped>\n",
       "    .dataframe tbody tr th:only-of-type {\n",
       "        vertical-align: middle;\n",
       "    }\n",
       "\n",
       "    .dataframe tbody tr th {\n",
       "        vertical-align: top;\n",
       "    }\n",
       "\n",
       "    .dataframe thead th {\n",
       "        text-align: right;\n",
       "    }\n",
       "</style>\n",
       "<table border=\"1\" class=\"dataframe\">\n",
       "  <thead>\n",
       "    <tr style=\"text-align: right;\">\n",
       "      <th></th>\n",
       "      <th>navigable_parent_sequence_id</th>\n",
       "      <th>file_name_id</th>\n",
       "      <th>navigable_parent_id</th>\n",
       "      <th>sequence_order</th>\n",
       "      <th>mrs_id</th>\n",
       "    </tr>\n",
       "  </thead>\n",
       "  <tbody>\n",
       "    <tr>\n",
       "      <th>581</th>\n",
       "      <td>889</td>\n",
       "      <td>13</td>\n",
       "      <td>6676</td>\n",
       "      <td>23</td>\n",
       "      <td>2</td>\n",
       "    </tr>\n",
       "    <tr>\n",
       "      <th>7130</th>\n",
       "      <td>10312</td>\n",
       "      <td>180</td>\n",
       "      <td>10781</td>\n",
       "      <td>30</td>\n",
       "      <td>2</td>\n",
       "    </tr>\n",
       "    <tr>\n",
       "      <th>6760</th>\n",
       "      <td>9376</td>\n",
       "      <td>171</td>\n",
       "      <td>6969</td>\n",
       "      <td>25</td>\n",
       "      <td>3</td>\n",
       "    </tr>\n",
       "    <tr>\n",
       "      <th>575</th>\n",
       "      <td>883</td>\n",
       "      <td>13</td>\n",
       "      <td>5874</td>\n",
       "      <td>17</td>\n",
       "      <td>2</td>\n",
       "    </tr>\n",
       "    <tr>\n",
       "      <th>10203</th>\n",
       "      <td>14616</td>\n",
       "      <td>249</td>\n",
       "      <td>2453</td>\n",
       "      <td>41</td>\n",
       "      <td>2</td>\n",
       "    </tr>\n",
       "  </tbody>\n",
       "</table>\n",
       "</div>"
      ],
      "text/plain": [
       "       navigable_parent_sequence_id  file_name_id  navigable_parent_id  \\\n",
       "581                             889            13                 6676   \n",
       "7130                          10312           180                10781   \n",
       "6760                           9376           171                 6969   \n",
       "575                             883            13                 5874   \n",
       "10203                         14616           249                 2453   \n",
       "\n",
       "       sequence_order  mrs_id  \n",
       "581                23       2  \n",
       "7130               30       2  \n",
       "6760               25       3  \n",
       "575                17       2  \n",
       "10203              41       2  "
      ]
     },
     "execution_count": 16,
     "metadata": {},
     "output_type": "execute_result"
    }
   ],
   "source": [
    "\n",
    "sql_str = '''\n",
    "    SELECT *\n",
    "    FROM [Jobhunting].[dbo].[NavigableParentSequence] nps;'''\n",
    "nps_df = pd.DataFrame(su.get_execution_results(CURSOR, sql_str, verbose=False))\n",
    "mask_series = (nps_df.mrs_id != 0)\n",
    "file_count = nps_df[mask_series].file_name_id.unique().shape[0]\n",
    "example_count = nps_df[mask_series].shape[0]\n",
    "print(f' I have {example_count} non-zero examples in {file_count} files')\n",
    "nps_df[mask_series].sample(5)"
   ]
  },
  {
   "cell_type": "code",
   "execution_count": 19,
   "metadata": {},
   "outputs": [],
   "source": [
    "\n",
    "sequence_dict = {}\n",
    "def f(df):\n",
    "    file_name_id = df.file_name_id.tolist()[0]\n",
    "    sequence_dict[file_name_id] = df.set_index('navigable_parent_sequence_id').sort_values('sequence_order')\n",
    "nps_df.groupby('file_name_id').apply(f)\n",
    "mask_series = (nps_df.mrs_id != 0)\n",
    "file_name_ids_list = nps_df[mask_series].file_name_id.unique().tolist()\n",
    "for file_name_id in file_name_ids_list:\n",
    "    sequence_dict.pop(file_name_id, None)"
   ]
  },
  {
   "cell_type": "code",
   "execution_count": 20,
   "metadata": {},
   "outputs": [
    {
     "data": {
      "text/plain": [
       "{0: 'N', 1: 'B', 2: 'M', 3: 'E'}"
      ]
     },
     "execution_count": 20,
     "metadata": {},
     "output_type": "execute_result"
    }
   ],
   "source": [
    "\n",
    "# su.create_minimumrequirementssection_table(CURSOR)\n",
    "# su.populate_minimumrequirementssection_table(CURSOR)\n",
    "sql_str = '''\n",
    "    SELECT *\n",
    "    FROM [Jobhunting].[dbo].[MinimumRequirementsSection] mrs;'''\n",
    "mrs_df = pd.DataFrame(su.get_execution_results(CURSOR, sql_str, verbose=False)).set_index('mrs_id')\n",
    "mrs_df.mrs_symbol.to_dict()"
   ]
  },
  {
   "cell_type": "code",
   "execution_count": 21,
   "metadata": {},
   "outputs": [
    {
     "name": "stdout",
     "output_type": "stream",
     "text": [
      "\n",
      "# <b>SUMMARY</b>\n"
     ]
    }
   ],
   "source": [
    "\n",
    "import random\n",
    "import textwrap\n",
    "\n",
    "file_name_id = random.sample(list(sequence_dict), 1)[0]\n",
    "df = sequence_dict[file_name_id]\n",
    "navigable_parent_id = random.sample(df.navigable_parent_id.tolist(), 1)[0]\n",
    "sql_str = f'''\n",
    "    SELECT np.[navigable_parent]\n",
    "    FROM [Jobhunting].[dbo].[NavigableParents] np\n",
    "    WHERE np.[navigable_parent_id] = {navigable_parent_id};'''\n",
    "html_str = pd.DataFrame(su.get_execution_results(CURSOR, sql_str, verbose=False)).navigable_parent.squeeze()\n",
    "print('\\n# ' + '\\n# '.join(textwrap.wrap(html_str)))"
   ]
  },
  {
   "cell_type": "code",
   "execution_count": 29,
   "metadata": {},
   "outputs": [],
   "source": [
    "\n",
    "def get_sql_code(sequence_dict):\n",
    "    file_name_id = random.sample(list(sequence_dict), 1)[0]\n",
    "    df = sequence_dict[file_name_id]\n",
    "    output_str = ''\n",
    "    sql_str = '''\n",
    "        SELECT *\n",
    "        FROM [Jobhunting].[dbo].[NavigableParentSequence] nps;'''\n",
    "    nps_df = pd.DataFrame(su.get_execution_results(CURSOR, sql_str, verbose=False))\n",
    "    mask_series = (nps_df.mrs_id != 0)\n",
    "    file_count = nps_df[mask_series].file_name_id.unique().shape[0]\n",
    "    example_count = nps_df[mask_series].shape[0]\n",
    "    output_str += f'\\n# You now have {example_count} non-zero examples in {file_count} files\\n'\n",
    "    for navigable_parent_sequence_id, row_series in df.iterrows():\n",
    "        navigable_parent_id = row_series.navigable_parent_id\n",
    "        sql_str = f'''\n",
    "            SELECT np.[navigable_parent]\n",
    "            FROM [Jobhunting].[dbo].[NavigableParents] np\n",
    "            WHERE np.[navigable_parent_id] = {navigable_parent_id};'''\n",
    "        html_str = pd.DataFrame(su.get_execution_results(CURSOR, sql_str)).navigable_parent.squeeze()\n",
    "        output_str += '\\n# ' + '\\n# '.join(textwrap.wrap(html_str))\n",
    "        output_str += '\\n# ' + str(mrs_df.mrs_symbol.to_dict())\n",
    "        mrs_id = row_series.mrs_id\n",
    "        if mrs_id == 0:\n",
    "            mrs_id = 'xx'\n",
    "        output_str += f'\\nsql_str = r\"\"\"UPDATE NavigableParentSequence\\n    SET\\n        mrs_id = {mrs_id}\\n'\n",
    "        output_str += f'    WHERE (navigable_parent_sequence_id = {navigable_parent_sequence_id})\"\"\"\\n'\n",
    "        output_str += 'cursor_obj = CURSOR.execute(sql_str)'\n",
    "        output_str += '\\nCURSOR.commit()\\n'\n",
    "    \n",
    "    return output_str"
   ]
  },
  {
   "cell_type": "code",
   "execution_count": null,
   "metadata": {},
   "outputs": [],
   "source": [
    "\n",
    "ZMQInteractiveShell_obj.set_next_input(text=get_sql_code(sequence_dict), replace=True)"
   ]
  }
 ],
 "metadata": {
  "anaconda-cloud": {},
  "kernelspec": {
   "display_name": "Job Hunting (Python 3.7.9)",
   "language": "python",
   "name": "jh_env"
  },
  "language_info": {
   "codemirror_mode": {
    "name": "ipython",
    "version": 3
   },
   "file_extension": ".py",
   "mimetype": "text/x-python",
   "name": "python",
   "nbconvert_exporter": "python",
   "pygments_lexer": "ipython3",
   "version": "3.7.9"
  }
 },
 "nbformat": 4,
 "nbformat_minor": 4
}
