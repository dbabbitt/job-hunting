{
 "cells": [
  {
   "cell_type": "code",
   "execution_count": 1,
   "metadata": {},
   "outputs": [
    {
     "name": "stdout",
     "output_type": "stream",
     "text": [
      "Pretty printing has been turned OFF\n"
     ]
    }
   ],
   "source": [
    "\n",
    "%pprint"
   ]
  },
  {
   "cell_type": "code",
   "execution_count": 2,
   "metadata": {},
   "outputs": [
    {
     "name": "stdout",
     "output_type": "stream",
     "text": [
      "Wall time: 7.06 s\n"
     ]
    }
   ],
   "source": [
    "\n",
    "%%time\n",
    "%run ../py/sql_utlis.py\n",
    "\n",
    "ZMQInteractiveShell_obj = get_ipython()\n",
    "su = SqlUtilities()\n",
    "_, CURSOR = su.get_jh_conn_cursor()\n",
    "su.create_navigableparentsequence_table(CURSOR)\n",
    "su.populate_navigableparentsequence_table(CURSOR)"
   ]
  },
  {
   "cell_type": "code",
   "execution_count": 5,
   "metadata": {},
   "outputs": [
    {
     "data": {
      "text/html": [
       "<div>\n",
       "<style scoped>\n",
       "    .dataframe tbody tr th:only-of-type {\n",
       "        vertical-align: middle;\n",
       "    }\n",
       "\n",
       "    .dataframe tbody tr th {\n",
       "        vertical-align: top;\n",
       "    }\n",
       "\n",
       "    .dataframe thead th {\n",
       "        text-align: right;\n",
       "    }\n",
       "</style>\n",
       "<table border=\"1\" class=\"dataframe\">\n",
       "  <thead>\n",
       "    <tr style=\"text-align: right;\">\n",
       "      <th></th>\n",
       "      <th>navigable_parent_sequence_id</th>\n",
       "      <th>file_name_id</th>\n",
       "      <th>navigable_parent_id</th>\n",
       "      <th>sequence_order</th>\n",
       "      <th>mrs_id</th>\n",
       "    </tr>\n",
       "  </thead>\n",
       "  <tbody>\n",
       "    <tr>\n",
       "      <th>0</th>\n",
       "      <td>0</td>\n",
       "      <td>0</td>\n",
       "      <td>277</td>\n",
       "      <td>0</td>\n",
       "      <td>0</td>\n",
       "    </tr>\n",
       "    <tr>\n",
       "      <th>1</th>\n",
       "      <td>1</td>\n",
       "      <td>0</td>\n",
       "      <td>12552</td>\n",
       "      <td>1</td>\n",
       "      <td>0</td>\n",
       "    </tr>\n",
       "    <tr>\n",
       "      <th>2</th>\n",
       "      <td>2</td>\n",
       "      <td>0</td>\n",
       "      <td>2273</td>\n",
       "      <td>2</td>\n",
       "      <td>0</td>\n",
       "    </tr>\n",
       "    <tr>\n",
       "      <th>3</th>\n",
       "      <td>3</td>\n",
       "      <td>0</td>\n",
       "      <td>12062</td>\n",
       "      <td>3</td>\n",
       "      <td>0</td>\n",
       "    </tr>\n",
       "    <tr>\n",
       "      <th>4</th>\n",
       "      <td>4</td>\n",
       "      <td>0</td>\n",
       "      <td>2086</td>\n",
       "      <td>4</td>\n",
       "      <td>0</td>\n",
       "    </tr>\n",
       "    <tr>\n",
       "      <th>...</th>\n",
       "      <td>...</td>\n",
       "      <td>...</td>\n",
       "      <td>...</td>\n",
       "      <td>...</td>\n",
       "      <td>...</td>\n",
       "    </tr>\n",
       "    <tr>\n",
       "      <th>31921</th>\n",
       "      <td>31921</td>\n",
       "      <td>531</td>\n",
       "      <td>13190</td>\n",
       "      <td>21</td>\n",
       "      <td>0</td>\n",
       "    </tr>\n",
       "    <tr>\n",
       "      <th>31922</th>\n",
       "      <td>31922</td>\n",
       "      <td>531</td>\n",
       "      <td>2035</td>\n",
       "      <td>22</td>\n",
       "      <td>0</td>\n",
       "    </tr>\n",
       "    <tr>\n",
       "      <th>31923</th>\n",
       "      <td>31923</td>\n",
       "      <td>531</td>\n",
       "      <td>11972</td>\n",
       "      <td>23</td>\n",
       "      <td>0</td>\n",
       "    </tr>\n",
       "    <tr>\n",
       "      <th>31924</th>\n",
       "      <td>31924</td>\n",
       "      <td>531</td>\n",
       "      <td>1243</td>\n",
       "      <td>24</td>\n",
       "      <td>0</td>\n",
       "    </tr>\n",
       "    <tr>\n",
       "      <th>31925</th>\n",
       "      <td>31925</td>\n",
       "      <td>531</td>\n",
       "      <td>13238</td>\n",
       "      <td>25</td>\n",
       "      <td>0</td>\n",
       "    </tr>\n",
       "  </tbody>\n",
       "</table>\n",
       "<p>31926 rows × 5 columns</p>\n",
       "</div>"
      ],
      "text/plain": [
       "       navigable_parent_sequence_id  file_name_id  navigable_parent_id  \\\n",
       "0                                 0             0                  277   \n",
       "1                                 1             0                12552   \n",
       "2                                 2             0                 2273   \n",
       "3                                 3             0                12062   \n",
       "4                                 4             0                 2086   \n",
       "...                             ...           ...                  ...   \n",
       "31921                         31921           531                13190   \n",
       "31922                         31922           531                 2035   \n",
       "31923                         31923           531                11972   \n",
       "31924                         31924           531                 1243   \n",
       "31925                         31925           531                13238   \n",
       "\n",
       "       sequence_order  mrs_id  \n",
       "0                   0       0  \n",
       "1                   1       0  \n",
       "2                   2       0  \n",
       "3                   3       0  \n",
       "4                   4       0  \n",
       "...               ...     ...  \n",
       "31921              21       0  \n",
       "31922              22       0  \n",
       "31923              23       0  \n",
       "31924              24       0  \n",
       "31925              25       0  \n",
       "\n",
       "[31926 rows x 5 columns]"
      ]
     },
     "execution_count": 5,
     "metadata": {},
     "output_type": "execute_result"
    }
   ],
   "source": [
    "\n",
    "sql_str = '''\n",
    "    SELECT *\n",
    "    FROM [Jobhunting].[dbo].[NavigableParentSequence] nps;'''\n",
    "nps_df = pd.DataFrame(su.get_execution_results(CURSOR, sql_str, verbose=False))\n",
    "nps_df"
   ]
  },
  {
   "cell_type": "code",
   "execution_count": 16,
   "metadata": {},
   "outputs": [
    {
     "data": {
      "text/html": [
       "<div>\n",
       "<style scoped>\n",
       "    .dataframe tbody tr th:only-of-type {\n",
       "        vertical-align: middle;\n",
       "    }\n",
       "\n",
       "    .dataframe tbody tr th {\n",
       "        vertical-align: top;\n",
       "    }\n",
       "\n",
       "    .dataframe thead th {\n",
       "        text-align: right;\n",
       "    }\n",
       "</style>\n",
       "<table border=\"1\" class=\"dataframe\">\n",
       "  <thead>\n",
       "    <tr style=\"text-align: right;\">\n",
       "      <th></th>\n",
       "    </tr>\n",
       "  </thead>\n",
       "  <tbody>\n",
       "  </tbody>\n",
       "</table>\n",
       "</div>"
      ],
      "text/plain": [
       "Empty DataFrame\n",
       "Columns: []\n",
       "Index: []"
      ]
     },
     "execution_count": 16,
     "metadata": {},
     "output_type": "execute_result"
    }
   ],
   "source": [
    "\n",
    "sequence_dict = {}\n",
    "def f(df):\n",
    "    file_name_id = df.file_name_id.tolist()[0]\n",
    "    sequence_dict[file_name_id] = df.set_index('navigable_parent_sequence_id').sort_values('sequence_order')\n",
    "nps_df.groupby('file_name_id').apply(f)"
   ]
  },
  {
   "cell_type": "code",
   "execution_count": 33,
   "metadata": {},
   "outputs": [
    {
     "data": {
      "text/plain": [
       "{0: 'N', 1: 'B', 2: 'M', 3: 'E'}"
      ]
     },
     "execution_count": 33,
     "metadata": {},
     "output_type": "execute_result"
    }
   ],
   "source": [
    "\n",
    "su.create_minimumrequirementssection_table(CURSOR)\n",
    "su.populate_minimumrequirementssection_table(CURSOR)\n",
    "sql_str = '''\n",
    "    SELECT *\n",
    "    FROM [Jobhunting].[dbo].[MinimumRequirementsSection] mrs;'''\n",
    "mrs_df = pd.DataFrame(su.get_execution_results(CURSOR, sql_str, verbose=False)).set_index('mrs_id')\n",
    "mrs_df.mrs_symbol.to_dict()"
   ]
  },
  {
   "cell_type": "code",
   "execution_count": 24,
   "metadata": {},
   "outputs": [
    {
     "name": "stdout",
     "output_type": "stream",
     "text": [
      "\n",
      "# <li>Experience analyzing the multiple facets of next generation\n",
      "# sequencing data, including amplicon sequencing, tag counting, exon\n",
      "# sequencing</li>\n"
     ]
    }
   ],
   "source": [
    "\n",
    "import random\n",
    "import textwrap\n",
    "\n",
    "file_name_id = random.sample(list(sequence_dict), 1)[0]\n",
    "df = sequence_dict[file_name_id]\n",
    "navigable_parent_id = random.sample(df.navigable_parent_id.tolist(), 1)[0]\n",
    "sql_str = f'''\n",
    "    SELECT np.[navigable_parent]\n",
    "    FROM [Jobhunting].[dbo].[NavigableParents] np\n",
    "    WHERE np.[navigable_parent_id] = {navigable_parent_id};'''\n",
    "html_str = pd.DataFrame(su.get_execution_results(CURSOR, sql_str, verbose=False)).navigable_parent.squeeze()\n",
    "print('\\n# ' + '\\n# '.join(textwrap.wrap(html_str)))"
   ]
  },
  {
   "cell_type": "code",
   "execution_count": 50,
   "metadata": {},
   "outputs": [],
   "source": [
    "\n",
    "def get_dictionary_code():\n",
    "    file_name_id = random.sample(list(sequence_dict), 1)[0]\n",
    "    df = sequence_dict[file_name_id]\n",
    "    output_str = ''\n",
    "    for navigable_parent_sequence_id, row_series in df.iterrows():\n",
    "        navigable_parent_id = row_series.navigable_parent_id\n",
    "        sql_str = f'''\n",
    "            SELECT np.[navigable_parent]\n",
    "            FROM [Jobhunting].[dbo].[NavigableParents] np\n",
    "            WHERE np.[navigable_parent_id] = {navigable_parent_id};'''\n",
    "        html_str = pd.DataFrame(su.get_execution_results(CURSOR, sql_str)).navigable_parent.squeeze()\n",
    "        output_str += '\\n# ' + '\\n# '.join(textwrap.wrap(html_str))\n",
    "        output_str += \"\\n# {0: 'N', 1: 'B', 2: 'M', 3: 'E'}\"\n",
    "        mrs_id = row_series.mrs_id\n",
    "        if mrs_id == 0:\n",
    "            mrs_id = 'xx'\n",
    "        output_str += f'\\nsql_str = r\"\"\"UPDATE NavigableParentSequence\\n    SET\\n        mrs_id = {mrs_id}\\n'\n",
    "        output_str += f'    WHERE (navigable_parent_sequence_id = {navigable_parent_sequence_id})\"\"\"\\n'\n",
    "        output_str += r\"cursor_obj = CURSOR.execute(sql_str)\"\n",
    "        output_str += '\\nCURSOR.commit()\\n'\n",
    "    \n",
    "    return output_str"
   ]
  },
  {
   "cell_type": "code",
   "execution_count": null,
   "metadata": {},
   "outputs": [],
   "source": [
    "\n",
    "ZMQInteractiveShell_obj.set_next_input(text=get_dictionary_code(), replace=True)"
   ]
  }
 ],
 "metadata": {
  "anaconda-cloud": {},
  "kernelspec": {
   "display_name": "Job Hunting (Python 3.7.9)",
   "language": "python",
   "name": "jh_env"
  },
  "language_info": {
   "codemirror_mode": {
    "name": "ipython",
    "version": 3
   },
   "file_extension": ".py",
   "mimetype": "text/x-python",
   "name": "python",
   "nbconvert_exporter": "python",
   "pygments_lexer": "ipython3",
   "version": "3.7.9"
  }
 },
 "nbformat": 4,
 "nbformat_minor": 4
}
