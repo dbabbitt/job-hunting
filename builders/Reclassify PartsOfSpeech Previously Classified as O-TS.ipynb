{
 "cells": [
  {
   "cell_type": "code",
   "execution_count": 1,
   "metadata": {},
   "outputs": [
    {
     "name": "stdout",
     "output_type": "stream",
     "text": [
      "Pretty printing has been turned OFF\n"
     ]
    }
   ],
   "source": [
    "\n",
    "%pprint"
   ]
  },
  {
   "cell_type": "markdown",
   "metadata": {
    "tags": []
   },
   "source": [
    "\n",
    "---\n",
    "# Load needed libraries and functions"
   ]
  },
  {
   "cell_type": "code",
   "execution_count": 4,
   "metadata": {},
   "outputs": [],
   "source": [
    "\n",
    "from datetime import datetime\n",
    "import humanize\n",
    "import os\n",
    "import sys\n",
    "import time\n",
    "\n",
    "# Insert at 1, 0 is the script path (or '' in REPL)\n",
    "sys.path.insert(1, '../py')"
   ]
  },
  {
   "cell_type": "code",
   "execution_count": 5,
   "metadata": {},
   "outputs": [
    {
     "name": "stdout",
     "output_type": "stream",
     "text": [
      "Utility libraries created in 0 seconds\n",
      "Last run on 2023-04-04 14:21:31.109452\n"
     ]
    }
   ],
   "source": [
    "\n",
    "t0 = t1 = time.time()\n",
    "\n",
    "# Get the Storage object\n",
    "from storage import Storage\n",
    "s = Storage(\n",
    "    data_folder_path=os.path.abspath('../data'),\n",
    "    saves_folder_path=os.path.abspath('../saves')\n",
    ")\n",
    "\n",
    "# Get the HeaderAnalysis object\n",
    "from ha_utils import HeaderAnalysis\n",
    "ha = HeaderAnalysis(s=s, verbose=False)\n",
    "\n",
    "# Get the WebScrapingUtilities object\n",
    "from scrape_utils import WebScrapingUtilities\n",
    "wsu = WebScrapingUtilities(\n",
    "    s=s,\n",
    "    secrets_json_path=os.path.abspath('../data/secrets/jh_secrets.json')\n",
    ")\n",
    "uri = wsu.secrets_json['neo4j']['connect_url']\n",
    "user =  wsu.secrets_json['neo4j']['username']\n",
    "password = wsu.secrets_json['neo4j']['password']\n",
    "\n",
    "# Get the CypherUtilities object and Neo4j driver\n",
    "from cypher_utils import CypherUtilities\n",
    "cu = CypherUtilities(\n",
    "    uri=uri, user=user, password=password, driver=None, s=s, ha=ha\n",
    ")\n",
    "\n",
    "duration_str = humanize.precisedelta(time.time() - t1, minimum_unit='seconds', format='%0.0f')\n",
    "print(f'Utility libraries created in {duration_str}')\n",
    "print(f'Last run on {datetime.now()}')"
   ]
  },
  {
   "cell_type": "code",
   "execution_count": 6,
   "metadata": {},
   "outputs": [],
   "source": [
    "\n",
    "def generate_child_strs(verbose=False):\n",
    "    def do_cypher_tx(tx):\n",
    "        cypher_str = '''\n",
    "            // Find all NavigableParents nodes in the graph\n",
    "            MATCH (np:NavigableParents)\n",
    "\n",
    "            // That do not have any parts-of-speech symbol but O-TS\n",
    "            WHERE\n",
    "                (np.is_header = 'False')\n",
    "                AND (np.is_task_scope = 'True')\n",
    "                AND NOT (\n",
    "                    (np.is_minimum_qualification = 'True')\n",
    "                    OR (np.is_preferred_qualification = 'True')\n",
    "                    OR (np.is_educational_requirement = 'True')\n",
    "                    OR (np.is_legal_notification = 'True')\n",
    "                    OR (np.is_job_title = 'True')\n",
    "                    OR (np.is_office_location = 'True')\n",
    "                    OR (np.is_job_duration = 'True')\n",
    "                    OR (np.is_supplemental_pay = 'True')\n",
    "                    OR (np.is_interview_procedure = 'True')\n",
    "                    OR (np.is_corporate_scope = 'True')\n",
    "                    OR (np.is_posting_date = 'True')\n",
    "                    OR (np.is_other = 'True')\n",
    "                    )\n",
    "\n",
    "            // Return the navigable parent\n",
    "            RETURN np.navigable_parent AS navigable_parent;'''\n",
    "        results_list = tx.run(query=cypher_str, parameters={})\n",
    "\n",
    "        return [dict(record.items()) for record in results_list]\n",
    "    with cu.driver.session() as session:\n",
    "        row_objs_list = session.write_transaction(do_cypher_tx)\n",
    "    if verbose:\n",
    "        print(len(row_objs_list))\n",
    "    for row_obj in row_objs_list:\n",
    "        if 'navigable_parent' in row_obj:\n",
    "            yield row_obj['navigable_parent']"
   ]
  },
  {
   "cell_type": "code",
   "execution_count": 268,
   "metadata": {},
   "outputs": [],
   "source": [
    "\n",
    "def generate_child_strs(verbose=False):\n",
    "    def do_cypher_tx(tx):\n",
    "        cypher_str = '''\n",
    "            // Find all NavigableParents nodes in the graph\n",
    "            MATCH (np:NavigableParents)\n",
    "\n",
    "            // That are assumed to have parts-of-speech symbol that are O-RQ\n",
    "            WHERE\n",
    "                ((np.navigable_parent CONTAINS 'Education')\n",
    "                OR (np.navigable_parent CONTAINS 'EDUCATION'))\n",
    "                AND NOT ((np.navigable_parent CONTAINS 'Experience')\n",
    "                OR (np.navigable_parent CONTAINS 'EXPERIENCE'))\n",
    "                AND NOT ((np.is_header = 'True')\n",
    "                AND (np.is_educational_requirement = 'True'))\n",
    "\n",
    "            // Return the navigable parent\n",
    "            RETURN np.navigable_parent AS navigable_parent;'''\n",
    "        results_list = tx.run(query=cypher_str, parameters={})\n",
    "\n",
    "        return [dict(record.items()) for record in results_list]\n",
    "    with cu.driver.session() as session:\n",
    "        row_objs_list = session.write_transaction(do_cypher_tx)\n",
    "    if verbose:\n",
    "        print(len(row_objs_list))\n",
    "    for row_obj in row_objs_list:\n",
    "        if 'navigable_parent' in row_obj:\n",
    "            yield row_obj['navigable_parent']"
   ]
  },
  {
   "cell_type": "code",
   "execution_count": 7,
   "metadata": {},
   "outputs": [
    {
     "data": {
      "text/plain": [
       "6980"
      ]
     },
     "execution_count": 7,
     "metadata": {},
     "output_type": "execute_result"
    }
   ],
   "source": [
    "\n",
    "CHILD_STRS_LIST = list(generate_child_strs(verbose=False))\n",
    "len(CHILD_STRS_LIST)"
   ]
  },
  {
   "cell_type": "code",
   "execution_count": 270,
   "metadata": {},
   "outputs": [
    {
     "data": {
      "text/plain": [
       "['<li>$250 Annual Education Stipend + StackerU continuous learning curriculum</li>', '<p>Bird Conservancy of the Rockies is a 501 (c)(3) non-profit headquartered at the Environmental Learning Center at Barr Lake State Park with a satellite office in Fort Collins, CO. Bird Conservancy of the Rockies conserves birds and their habitats through an integrated approach of Science, Education, and Stewardship. Our work radiates from the Rockies to the Great Plains, Mexico and beyond.</p>', '. Education completed in foreign colleges or universities may be used to meet the requirements. Please refer to http://www.opm.gov/qualifications/policy/ApplicationOfStds-04.asp for more information.', '<b>Basic Education Requirement:</b>', '<b>Education cannot be substituted for experience at this grade level.</b>', '<b>In addition to the Basic Education Requirement above, to qualify for this position at the GS-14 level, you must meet the following:</b>', '<b>Qualifications and Education Requirements:</b>', '<b>Qualifications and Education Requirements</b>', '<b>To qualify for this position, you must meet the following Basic Education Requirement for the 0601 series:</b>', '<div>Adtalem institutions and companies include: American University of the Caribbean School of Medicine, Association of Certified Anti-Money Laundering Specialists, Becker Professional Education, Chamberlain University, EduPristine, OnCourse Learning, Ross University School of Medicine and Ross University School of Veterinary Medicine. (NYSE: ATGE; member S&amp;P MidCap 400 Index) For more information, please visit adtalem.com.</div>']"
      ]
     },
     "execution_count": 270,
     "metadata": {},
     "output_type": "execute_result"
    }
   ],
   "source": [
    "\n",
    "CHILD_STRS_LIST[:10]"
   ]
  },
  {
   "cell_type": "code",
   "execution_count": 8,
   "metadata": {},
   "outputs": [],
   "source": [
    "\n",
    "ZMQInteractiveShell_obj = get_ipython()\n",
    "def get_cypher_code():\n",
    "    output_str = ''\n",
    "    tag_str = CHILD_STRS_LIST.pop()\n",
    "    output_str += f'\\n# {len(CHILD_STRS_LIST):,} to go\\n'\n",
    "    if \"'\" in tag_str:\n",
    "        tag_str = tag_str.replace('\"', '\\\\\"')\n",
    "        output_str += f'child_str = \"{tag_str}\"\\n'\n",
    "    else:\n",
    "        output_str += f\"child_str = '{tag_str}'\\n\"\n",
    "    output_str += \"def do_cypher_tx(tx, navigable_parent, verbose=False):\\n\"\n",
    "    output_str += \"    cypher_str = '''\\n\"\n",
    "    output_str += \"        MATCH (np:NavigableParents {navigable_parent: $navigable_parent})\\n\"\n",
    "    output_str += \"        SET\\n\"\n",
    "    output_str += \"            np.is_header = 'True',\\n\"\n",
    "    output_str += \"            np.is_task_scope = 'False',\\n\"\n",
    "    output_str += \"            np.is_minimum_qualification = 'False',\\n\"\n",
    "    output_str += \"            np.is_preferred_qualification = 'False',\\n\"\n",
    "    output_str += \"            np.is_educational_requirement = 'True',\\n\"\n",
    "    output_str += \"            np.is_legal_notification = 'False',\\n\"\n",
    "    output_str += \"            np.is_other = 'False',\\n\"\n",
    "    output_str += \"            np.is_corporate_scope = 'False',\\n\"\n",
    "    output_str += \"            np.is_job_title = 'False',\\n\"\n",
    "    output_str += \"            np.is_office_location = 'False',\\n\"\n",
    "    output_str += \"            np.is_job_duration = 'False',\\n\"\n",
    "    output_str += \"            np.is_supplemental_pay = 'False',\\n\"\n",
    "    output_str += \"            np.is_interview_procedure = 'False',\\n\"\n",
    "    output_str += \"            np.is_posting_date = 'False'\\n\"\n",
    "    output_str += \"        ''' + cu.return_everything_str + ';'\\n\"\n",
    "    output_str += \"    results_list = tx.run(query=cypher_str, parameters={'navigable_parent': navigable_parent})\\n\"\n",
    "    output_str += \"    \\n\"\n",
    "    output_str += \"    return [dict(record.items()) for record in results_list]\\n\"\n",
    "    output_str += \"with cu.driver.session() as session:\\n\"\n",
    "    output_str += \"    row_objs_list = session.write_transaction(do_cypher_tx, navigable_parent=child_str, verbose=False)\\n\"\n",
    "    output_str += \"ihu.retrain_classifier(row_objs_list[0]['navigable_parent'], row_objs_list[0]['is_header'], verbose=True)\\n\"\n",
    "    output_str += \"row_objs_list\"\n",
    "    \n",
    "    return output_str"
   ]
  },
  {
   "cell_type": "code",
   "execution_count": null,
   "metadata": {},
   "outputs": [],
   "source": [
    "\n",
    "ZMQInteractiveShell_obj.set_next_input(text=get_cypher_code(), replace=True)"
   ]
  },
  {
   "cell_type": "code",
   "execution_count": 9,
   "metadata": {},
   "outputs": [],
   "source": [
    "\n",
    "# 6,979 to go\n",
    "child_str = 'Contribute to the development of analytics libraries and frameworks.'\n",
    "def do_cypher_tx(tx, navigable_parent, verbose=False):\n",
    "    cypher_str = '''\n",
    "        MATCH (np:NavigableParents {navigable_parent: $navigable_parent})\n",
    "        SET\n",
    "            np.is_header = 'True',\n",
    "            np.is_task_scope = 'False',\n",
    "            np.is_minimum_qualification = 'False',\n",
    "            np.is_preferred_qualification = 'False',\n",
    "            np.is_educational_requirement = 'True',\n",
    "            np.is_legal_notification = 'False',\n",
    "            np.is_other = 'False',\n",
    "            np.is_corporate_scope = 'False',\n",
    "            np.is_job_title = 'False',\n",
    "            np.is_office_location = 'False',\n",
    "            np.is_job_duration = 'False',\n",
    "            np.is_supplemental_pay = 'False',\n",
    "            np.is_interview_procedure = 'False',\n",
    "            np.is_posting_date = 'False'\n",
    "        ''' + cu.return_everything_str + ';'\n",
    "    results_list = tx.run(query=cypher_str, parameters={'navigable_parent': navigable_parent})\n",
    "    \n",
    "    return [dict(record.items()) for record in results_list]\n",
    "with cu.driver.session() as session:\n",
    "    row_objs_list = session.write_transaction(do_cypher_tx, navigable_parent=child_str, verbose=False)\n",
    "ihu.retrain_classifier(row_objs_list[0]['navigable_parent'], row_objs_list[0]['is_header'], verbose=True)\n",
    "row_objs_list"
   ]
  },
  {
   "cell_type": "code",
   "execution_count": null,
   "metadata": {},
   "outputs": [],
   "source": []
  }
 ],
 "metadata": {
  "anaconda-cloud": {},
  "kernelspec": {
   "display_name": "Job Hunting (Python 3.10.9)",
   "language": "python",
   "name": "jh_env"
  },
  "language_info": {
   "codemirror_mode": {
    "name": "ipython",
    "version": 3
   },
   "file_extension": ".py",
   "mimetype": "text/x-python",
   "name": "python",
   "nbconvert_exporter": "python",
   "pygments_lexer": "ipython3",
   "version": "3.10.9"
  }
 },
 "nbformat": 4,
 "nbformat_minor": 4
}
