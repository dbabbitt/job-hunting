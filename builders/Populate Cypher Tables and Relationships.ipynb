{
 "cells": [
  {
   "cell_type": "code",
   "execution_count": null,
   "id": "piano-purple",
   "metadata": {},
   "outputs": [],
   "source": []
  },
  {
   "cell_type": "code",
   "execution_count": 1,
   "id": "extreme-camera",
   "metadata": {},
   "outputs": [
    {
     "name": "stdout",
     "output_type": "stream",
     "text": [
      "Pretty printing has been turned OFF\n"
     ]
    }
   ],
   "source": [
    "\n",
    "%pprint"
   ]
  },
  {
   "cell_type": "code",
   "execution_count": 2,
   "id": "f658e1bf-6e2c-40e5-9306-0ec16125d0d2",
   "metadata": {},
   "outputs": [],
   "source": [
    "\n",
    "import sys\n",
    "\n",
    "# Insert at 1, 0 is the script path (or '' in REPL)\n",
    "sys.path.insert(1, '../py')"
   ]
  },
  {
   "cell_type": "code",
   "execution_count": 3,
   "id": "separate-service",
   "metadata": {},
   "outputs": [
    {
     "name": "stdout",
     "output_type": "stream",
     "text": [
      "CPU times: total: 2.08 s\n",
      "Wall time: 2.75 s\n"
     ]
    }
   ],
   "source": [
    "\n",
    "%%time\n",
    "from scrape_utils import WebScrapingUtilities\n",
    "%run ../load_magic/storage.py\n",
    "from html_analysis import HeaderAnalysis\n",
    "from cypher_utils import CypherUtilities\n",
    "\n",
    "wsu = WebScrapingUtilities()\n",
    "uri = wsu.secrets_json['neo4j']['connect_url']\n",
    "user =  wsu.secrets_json['neo4j']['username']\n",
    "password = wsu.secrets_json['neo4j']['password']\n",
    "s = Storage()\n",
    "ha = HeaderAnalysis()\n",
    "cu = CypherUtilities(uri=uri, user=user, password=password, driver=None, s=s, ha=ha)"
   ]
  },
  {
   "cell_type": "code",
   "execution_count": 4,
   "id": "fc9632f8-6f6e-4953-857a-1e44cf3f5b85",
   "metadata": {},
   "outputs": [],
   "source": [
    "\n",
    "from shutil import copyfile\n",
    "\n",
    "import_folder = r'C:\\neo4j\\import'\n",
    "for file_name in os.listdir(s.saves_csv_folder):\n",
    "    if (file_name[0].upper() == file_name[0]) and file_name.endswith('.csv') and not file_name.endswith('_df.csv'):\n",
    "        src_path = os.path.join(s.saves_csv_folder, file_name)\n",
    "        dst_path = os.path.join(import_folder, file_name)\n",
    "        if not os.path.isfile(dst_path):\n",
    "            copyfile(src_path, dst_path)"
   ]
  },
  {
   "cell_type": "code",
   "execution_count": 5,
   "id": "convenient-maldives",
   "metadata": {},
   "outputs": [
    {
     "name": "stdout",
     "output_type": "stream",
     "text": [
      "CPU times: total: 328 ms\n",
      "Wall time: 8.57 s\n"
     ]
    }
   ],
   "source": [
    "\n",
    "%%time\n",
    "cu.create_filenames_table(verbose=False)\n",
    "cu.populate_filenames_table(verbose=False)"
   ]
  },
  {
   "cell_type": "code",
   "execution_count": 6,
   "id": "perfect-yorkshire",
   "metadata": {},
   "outputs": [
    {
     "name": "stdout",
     "output_type": "stream",
     "text": [
      "CPU times: total: 203 ms\n",
      "Wall time: 2.41 s\n"
     ]
    }
   ],
   "source": [
    "\n",
    "%%time\n",
    "cu.create_partsofspeech_table(verbose=False)\n",
    "cu.populate_partsofspeech_table(verbose=False)"
   ]
  },
  {
   "cell_type": "code",
   "execution_count": 7,
   "id": "hindu-talent",
   "metadata": {},
   "outputs": [
    {
     "name": "stdout",
     "output_type": "stream",
     "text": [
      "CPU times: total: 93.8 ms\n",
      "Wall time: 5.27 s\n"
     ]
    }
   ],
   "source": [
    "\n",
    "%%time\n",
    "cu.create_headertags_table(verbose=False)\n",
    "cu.populate_headertags_table(verbose=False)"
   ]
  },
  {
   "cell_type": "code",
   "execution_count": 8,
   "id": "suited-rally",
   "metadata": {},
   "outputs": [
    {
     "name": "stdout",
     "output_type": "stream",
     "text": [
      "CPU times: total: 44.9 s\n",
      "Wall time: 9min 4s\n"
     ]
    }
   ],
   "source": [
    "\n",
    "%%time\n",
    "cu.create_headertagsequence_table(verbose=False)\n",
    "cu.populate_headertagsequence_table(verbose=False)"
   ]
  },
  {
   "cell_type": "code",
   "execution_count": 9,
   "id": "breathing-turner",
   "metadata": {},
   "outputs": [
    {
     "name": "stdout",
     "output_type": "stream",
     "text": [
      "\n",
      "    MATCH (np:NavigableParents {navigable_parent: '<p>Work Remotely:</p>'})\n",
      "    RETURN np;\n",
      "CPU times: total: 35.7 s\n",
      "Wall time: 8min 56s\n"
     ]
    }
   ],
   "source": [
    "\n",
    "%%time\n",
    "cu.create_navigableparents_table(verbose=False)\n",
    "cu.populate_navigableparents_table(verbose=False)\n",
    "cypher_str = '''\n",
    "    MATCH (np:NavigableParents {navigable_parent: '<p>Work Remotely:</p>'})\n",
    "    RETURN np;'''\n",
    "row_objs_list = cu.get_execution_results(cypher_str, verbose=True)\n",
    "assert len(row_objs_list) == 1, 'You are creating duplicates, still'"
   ]
  },
  {
   "cell_type": "code",
   "execution_count": 10,
   "id": "63bc706b-501c-4a28-b147-3bfc6491662f",
   "metadata": {},
   "outputs": [
    {
     "name": "stdout",
     "output_type": "stream",
     "text": [
      "CPU times: total: 1min 16s\n",
      "Wall time: 28min 42s\n"
     ]
    }
   ],
   "source": [
    "\n",
    "%%time\n",
    "cu.populate_relationships(verbose=False)"
   ]
  },
  {
   "cell_type": "code",
   "execution_count": 11,
   "id": "18c75fde-2ce1-421e-a40d-b6420d2c3b68",
   "metadata": {},
   "outputs": [
    {
     "name": "stdout",
     "output_type": "stream",
     "text": [
      "\n",
      "    MATCH (np:NavigableParents {navigable_parent: '<p>Work Remotely:</p>'})\n",
      "    RETURN np;\n"
     ]
    }
   ],
   "source": [
    "\n",
    "cypher_str = '''\n",
    "    MATCH (np:NavigableParents {navigable_parent: '<p>Work Remotely:</p>'})\n",
    "    RETURN np;'''\n",
    "row_objs_list = cu.get_execution_results(cypher_str, verbose=True)\n",
    "assert len(row_objs_list) == 1, 'You are creating duplicates, still'"
   ]
  },
  {
   "cell_type": "code",
   "execution_count": 12,
   "id": "9328e354-dde9-46d1-ab39-6531c771854a",
   "metadata": {},
   "outputs": [
    {
     "data": {
      "text/plain": [
       "1"
      ]
     },
     "execution_count": 12,
     "metadata": {},
     "output_type": "execute_result"
    }
   ],
   "source": [
    "\n",
    "len(row_objs_list)"
   ]
  }
 ],
 "metadata": {
  "kernelspec": {
   "display_name": "Python 3 (ipykernel)",
   "language": "python",
   "name": "python3"
  },
  "language_info": {
   "codemirror_mode": {
    "name": "ipython",
    "version": 3
   },
   "file_extension": ".py",
   "mimetype": "text/x-python",
   "name": "python",
   "nbconvert_exporter": "python",
   "pygments_lexer": "ipython3",
   "version": "3.9.7"
  }
 },
 "nbformat": 4,
 "nbformat_minor": 5
}
