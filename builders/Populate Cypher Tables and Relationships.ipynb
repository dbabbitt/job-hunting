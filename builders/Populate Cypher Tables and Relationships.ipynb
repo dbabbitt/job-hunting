{
 "cells": [
  {
   "cell_type": "code",
   "execution_count": null,
   "id": "piano-purple",
   "metadata": {},
   "outputs": [],
   "source": []
  },
  {
   "cell_type": "code",
   "execution_count": 1,
   "id": "extreme-camera",
   "metadata": {},
   "outputs": [
    {
     "name": "stdout",
     "output_type": "stream",
     "text": [
      "Pretty printing has been turned OFF\n"
     ]
    }
   ],
   "source": [
    "\n",
    "%pprint"
   ]
  },
  {
   "cell_type": "code",
   "execution_count": 2,
   "id": "f658e1bf-6e2c-40e5-9306-0ec16125d0d2",
   "metadata": {},
   "outputs": [],
   "source": [
    "\n",
    "import sys\n",
    "\n",
    "# Insert at 1, 0 is the script path (or '' in REPL)\n",
    "sys.path.insert(1, '../py')"
   ]
  },
  {
   "cell_type": "code",
   "execution_count": 3,
   "id": "separate-service",
   "metadata": {},
   "outputs": [
    {
     "name": "stdout",
     "output_type": "stream",
     "text": [
      "CPU times: total: 2.08 s\n",
      "Wall time: 2.64 s\n"
     ]
    }
   ],
   "source": [
    "\n",
    "%%time\n",
    "from scrape_utils import WebScrapingUtilities\n",
    "%run ../load_magic/storage.py\n",
    "from html_analysis import HeaderAnalysis\n",
    "from cypher_utils import CypherUtilities\n",
    "\n",
    "wsu = WebScrapingUtilities()\n",
    "uri = wsu.secrets_json['neo4j']['connect_url']\n",
    "user =  wsu.secrets_json['neo4j']['username']\n",
    "password = wsu.secrets_json['neo4j']['password']\n",
    "s = Storage()\n",
    "ha = HeaderAnalysis()\n",
    "cu = CypherUtilities(uri=uri, user=user, password=password, driver=None, s=s, ha=ha)"
   ]
  },
  {
   "cell_type": "code",
   "execution_count": 4,
   "id": "fc9632f8-6f6e-4953-857a-1e44cf3f5b85",
   "metadata": {},
   "outputs": [],
   "source": [
    "\n",
    "from shutil import copyfile\n",
    "\n",
    "import_folder = r'C:\\neo4j\\import'\n",
    "for file_name in os.listdir(s.saves_csv_folder):\n",
    "    if (file_name[0].upper() == file_name[0]) and file_name.endswith('.csv') and not file_name.endswith('_df.csv'):\n",
    "        src_path = os.path.join(s.saves_csv_folder, file_name)\n",
    "        dst_path = os.path.join(import_folder, file_name)\n",
    "        if not os.path.isfile(dst_path):\n",
    "            copyfile(src_path, dst_path)"
   ]
  },
  {
   "cell_type": "code",
   "execution_count": 5,
   "id": "convenient-maldives",
   "metadata": {},
   "outputs": [
    {
     "name": "stdout",
     "output_type": "stream",
     "text": [
      "CPU times: total: 484 ms\n",
      "Wall time: 8.32 s\n"
     ]
    }
   ],
   "source": [
    "\n",
    "%%time\n",
    "cu.create_filenames_table(verbose=False)\n",
    "cu.populate_filenames_table(verbose=False)"
   ]
  },
  {
   "cell_type": "code",
   "execution_count": 6,
   "id": "perfect-yorkshire",
   "metadata": {},
   "outputs": [
    {
     "name": "stdout",
     "output_type": "stream",
     "text": [
      "CPU times: total: 31.2 ms\n",
      "Wall time: 785 ms\n"
     ]
    }
   ],
   "source": [
    "\n",
    "%%time\n",
    "cu.create_partsofspeech_table(verbose=False)\n",
    "cu.populate_partsofspeech_table(verbose=False)"
   ]
  },
  {
   "cell_type": "code",
   "execution_count": 7,
   "id": "hindu-talent",
   "metadata": {},
   "outputs": [
    {
     "name": "stdout",
     "output_type": "stream",
     "text": [
      "CPU times: total: 172 ms\n",
      "Wall time: 2.14 s\n"
     ]
    }
   ],
   "source": [
    "\n",
    "%%time\n",
    "cu.create_headertags_table(verbose=False)\n",
    "cu.populate_headertags_table(verbose=False)"
   ]
  },
  {
   "cell_type": "code",
   "execution_count": 8,
   "id": "suited-rally",
   "metadata": {},
   "outputs": [
    {
     "name": "stdout",
     "output_type": "stream",
     "text": [
      "CPU times: total: 43.4 s\n",
      "Wall time: 8min 52s\n"
     ]
    }
   ],
   "source": [
    "\n",
    "%%time\n",
    "cu.create_headertagsequence_table(verbose=False)\n",
    "cu.populate_headertagsequence_table(verbose=False)"
   ]
  },
  {
   "cell_type": "code",
   "execution_count": 9,
   "id": "breathing-turner",
   "metadata": {},
   "outputs": [
    {
     "name": "stdout",
     "output_type": "stream",
     "text": [
      "\n",
      "    MATCH (np:NavigableParents {navigable_parent: '<p>Work Remotely:</p>'})\n",
      "    RETURN np;\n",
      "1\n",
      "\n",
      "    MATCH (np:NavigableParents {navigable_parent: '<p>Work Remotely:</p>'})\n",
      "    RETURN np;\n",
      "2\n",
      "CPU times: total: 38.4 s\n",
      "Wall time: 12min 48s\n"
     ]
    }
   ],
   "source": [
    "\n",
    "%%time\n",
    "cu.create_navigableparents_table(verbose=False)\n",
    "cypher_str = '''\n",
    "    MATCH (np:NavigableParents {navigable_parent: '<p>Work Remotely:</p>'})\n",
    "    RETURN np;'''\n",
    "row_objs_list = cu.get_execution_results(cypher_str, verbose=True)\n",
    "print(row_objs_list)\n",
    "cu.populate_navigableparents_table(verbose=False)\n",
    "cypher_str = '''\n",
    "    MATCH (np:NavigableParents {navigable_parent: '<p>Work Remotely:</p>'})\n",
    "    RETURN np;'''\n",
    "row_objs_list = cu.get_execution_results(cypher_str, verbose=True)\n",
    "print(row_objs_list)"
   ]
  },
  {
   "cell_type": "code",
   "execution_count": 10,
   "id": "63bc706b-501c-4a28-b147-3bfc6491662f",
   "metadata": {},
   "outputs": [
    {
     "name": "stdout",
     "output_type": "stream",
     "text": [
      "CPU times: total: 1min 21s\n",
      "Wall time: 56min 1s\n"
     ]
    }
   ],
   "source": [
    "\n",
    "%%time\n",
    "cu.populate_relationships(verbose=False)"
   ]
  },
  {
   "cell_type": "code",
   "execution_count": null,
   "id": "18c75fde-2ce1-421e-a40d-b6420d2c3b68",
   "metadata": {},
   "outputs": [],
   "source": []
  }
 ],
 "metadata": {
  "kernelspec": {
   "display_name": "Python 3 (ipykernel)",
   "language": "python",
   "name": "python3"
  },
  "language_info": {
   "codemirror_mode": {
    "name": "ipython",
    "version": 3
   },
   "file_extension": ".py",
   "mimetype": "text/x-python",
   "name": "python",
   "nbconvert_exporter": "python",
   "pygments_lexer": "ipython3",
   "version": "3.9.7"
  }
 },
 "nbformat": 4,
 "nbformat_minor": 5
}
