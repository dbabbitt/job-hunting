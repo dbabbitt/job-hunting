{
 "cells": [
  {
   "cell_type": "code",
   "execution_count": null,
   "id": "piano-purple",
   "metadata": {},
   "outputs": [],
   "source": []
  },
  {
   "cell_type": "code",
   "execution_count": 1,
   "id": "extreme-camera",
   "metadata": {},
   "outputs": [
    {
     "name": "stdout",
     "output_type": "stream",
     "text": [
      "Pretty printing has been turned OFF\n"
     ]
    }
   ],
   "source": [
    "\n",
    "%pprint"
   ]
  },
  {
   "cell_type": "code",
   "execution_count": 2,
   "id": "separate-service",
   "metadata": {},
   "outputs": [
    {
     "name": "stdout",
     "output_type": "stream",
     "text": [
      "CPU times: total: 1.77 s\n",
      "Wall time: 2.37 s\n"
     ]
    }
   ],
   "source": [
    "\n",
    "%%time\n",
    "import sys\n",
    "import os\n",
    "if (osp.join(os.pardir, 'py') not in sys.path): sys.path.insert(1, osp.join(os.pardir, 'py'))\n",
    "\n",
    "from ha_utils import HeaderAnalysis\n",
    "ha = HeaderAnalysis(s=s, verbose=False)\n",
    "\n",
    "from scrape_utils import WebScrapingUtilities\n",
    "wsu = WebScrapingUtilities()\n",
    "uri = wsu.secrets_json['neo4j']['connect_url']\n",
    "user =  wsu.secrets_json['neo4j']['username']\n",
    "password = wsu.secrets_json['neo4j']['password']\n",
    "\n",
    "from storage import Storage\n",
    "s = Storage()\n",
    "\n",
    "from cypher_utils import CypherUtilities\n",
    "cu = CypherUtilities(uri=uri, user=user, password=password, driver=None, s=s, ha=ha)\n",
    "\n",
    "import warnings\n",
    "warnings.filterwarnings('ignore')"
   ]
  },
  {
   "cell_type": "code",
   "execution_count": 4,
   "id": "fc9632f8-6f6e-4953-857a-1e44cf3f5b85",
   "metadata": {},
   "outputs": [],
   "source": [
    "\n",
    "from shutil import copyfile\n",
    "\n",
    "import_folder = r'C:\\neo4j\\import'\n",
    "for file_name in os.listdir(s.saves_csv_folder):\n",
    "    if (file_name[0].upper() == file_name[0]) and file_name.endswith('.csv') and not file_name.endswith('_df.csv'):\n",
    "        src_path = os.path.join(s.saves_csv_folder, file_name)\n",
    "        dst_path = os.path.join(import_folder, file_name)\n",
    "        if not os.path.isfile(dst_path):\n",
    "            copyfile(src_path, dst_path)"
   ]
  },
  {
   "cell_type": "code",
   "execution_count": 5,
   "id": "convenient-maldives",
   "metadata": {},
   "outputs": [
    {
     "name": "stdout",
     "output_type": "stream",
     "text": [
      "CPU times: total: 328 ms\n",
      "Wall time: 8.57 s\n"
     ]
    }
   ],
   "source": [
    "\n",
    "%%time\n",
    "cu.create_filenames_table(verbose=False)\n",
    "cu.populate_filenames_table(verbose=False)"
   ]
  },
  {
   "cell_type": "code",
   "execution_count": 6,
   "id": "perfect-yorkshire",
   "metadata": {},
   "outputs": [
    {
     "name": "stdout",
     "output_type": "stream",
     "text": [
      "CPU times: total: 203 ms\n",
      "Wall time: 2.41 s\n"
     ]
    }
   ],
   "source": [
    "\n",
    "%%time\n",
    "cu.create_partsofspeech_table(verbose=False)\n",
    "cu.populate_partsofspeech_table(verbose=False)"
   ]
  },
  {
   "cell_type": "code",
   "execution_count": 3,
   "id": "breathing-turner",
   "metadata": {},
   "outputs": [
    {
     "name": "stdout",
     "output_type": "stream",
     "text": [
      "\n",
      "            MATCH\n",
      "                (np:NavigableParents {navigable_parent: \"<span class=\\\"jobsearch-HiringInsights-entry--text\\\">Posted 7 days ago</span>\"}),\n",
      "                (ht:HeaderTags {header_tag: \"span\"})\n",
      "            MERGE (ht)-[r:SUMMARIZES]->(np);\n",
      "CPU times: total: 9min 28s\n",
      "Wall time: 1h 19min 59s\n"
     ]
    }
   ],
   "source": [
    "\n",
    "%%time\n",
    "cu.create_navigableparents_table(verbose=True)\n",
    "cu.populate_navigableparents_table(verbose=True)\n",
    "cypher_str = '''\n",
    "    MATCH (np:NavigableParents {navigable_parent: '<p>Work Remotely:</p>'})\n",
    "    RETURN np;'''\n",
    "row_objs_list = cu.get_execution_results(cypher_str, verbose=False)\n",
    "assert len(row_objs_list) == 1, 'You are creating duplicates, still'\n",
    "cu.populate_navigableparent_sequences(verbose=True)\n",
    "cypher_str = '''\n",
    "    MATCH (np:NavigableParents {navigable_parent: '<p>Work Remotely:</p>'})\n",
    "    RETURN np;'''\n",
    "row_objs_list = cu.get_execution_results(cypher_str, verbose=False)\n",
    "assert len(row_objs_list) == 1, 'You are creating duplicates, still'"
   ]
  },
  {
   "cell_type": "code",
   "execution_count": 4,
   "id": "hindu-talent",
   "metadata": {},
   "outputs": [
    {
     "name": "stdout",
     "output_type": "stream",
     "text": [
      "\n",
      "    MATCH (ht:HeaderTags {header_tag: 'p'})\n",
      "    RETURN ht;\n",
      "\n",
      "    MATCH (ht:HeaderTags {header_tag: 'p'})\n",
      "    RETURN ht;\n",
      "CPU times: total: 141 ms\n",
      "Wall time: 11.4 s\n"
     ]
    }
   ],
   "source": [
    "\n",
    "%%time\n",
    "cu.create_headertags_table(verbose=False)\n",
    "cypher_str = '''\n",
    "    MATCH (ht:HeaderTags {header_tag: 'p'})\n",
    "    RETURN ht;'''\n",
    "row_objs_list = cu.get_execution_results(cypher_str, verbose=True)\n",
    "assert len(row_objs_list) == 1, 'You are creating duplicates, still'\n",
    "cu.populate_headertags_table(verbose=False)\n",
    "cypher_str = '''\n",
    "    MATCH (ht:HeaderTags {header_tag: 'p'})\n",
    "    RETURN ht;'''\n",
    "row_objs_list = cu.get_execution_results(cypher_str, verbose=True)\n",
    "assert len(row_objs_list) == 1, 'You are creating duplicates, still'"
   ]
  },
  {
   "cell_type": "code",
   "execution_count": 5,
   "id": "suited-rally",
   "metadata": {},
   "outputs": [
    {
     "name": "stdout",
     "output_type": "stream",
     "text": [
      "<class 'IndexError'> error in ../saves/html\\0cb2f07f8f978857_Lead_Data_Scientist_Remote_Indeed_com.html: list index out of range\n",
      "\n",
      "    MATCH (ht:HeaderTags {header_tag: 'p'})\n",
      "    RETURN ht;\n",
      "\n",
      "    MATCH path = (np:NavigableParents {navigable_parent: '<p>Work Remotely:</p>'})<-[s:SUMMARIZES]-(ht)\n",
      "    RETURN ht;\n",
      "CPU times: total: 1min 24s\n",
      "Wall time: 14min 44s\n"
     ]
    }
   ],
   "source": [
    "\n",
    "%%time\n",
    "cu.create_headertagsequence_table(verbose=False)\n",
    "cu.populate_headertagsequence_table(verbose=False)\n",
    "cypher_str = '''\n",
    "    MATCH (ht:HeaderTags {header_tag: 'p'})\n",
    "    RETURN ht;'''\n",
    "row_objs_list = cu.get_execution_results(cypher_str, verbose=True)\n",
    "assert len(row_objs_list) == 1, 'You are creating duplicates, still'\n",
    "cypher_str = '''\n",
    "    MATCH path = (np:NavigableParents {navigable_parent: '<p>Work Remotely:</p>'})<-[s:SUMMARIZES]-(ht)\n",
    "    RETURN ht;'''\n",
    "row_objs_list = cu.get_execution_results(cypher_str, verbose=True)\n",
    "assert len(row_objs_list) == 1, 'You are creating duplicates, still'"
   ]
  },
  {
   "cell_type": "code",
   "execution_count": 7,
   "id": "63bc706b-501c-4a28-b147-3bfc6491662f",
   "metadata": {},
   "outputs": [
    {
     "name": "stdout",
     "output_type": "stream",
     "text": [
      "CPU times: total: 4min 35s\n",
      "Wall time: 1h 7min 15s\n"
     ]
    }
   ],
   "source": [
    "\n",
    "%%time\n",
    "cu.populate_relationships(verbose=False)"
   ]
  },
  {
   "cell_type": "code",
   "execution_count": 8,
   "id": "18c75fde-2ce1-421e-a40d-b6420d2c3b68",
   "metadata": {},
   "outputs": [
    {
     "name": "stdout",
     "output_type": "stream",
     "text": [
      "\n",
      "    MATCH (np:NavigableParents {navigable_parent: '<p>Work Remotely:</p>'})\n",
      "    RETURN np;\n"
     ]
    }
   ],
   "source": [
    "\n",
    "cypher_str = '''\n",
    "    MATCH (np:NavigableParents {navigable_parent: '<p>Work Remotely:</p>'})\n",
    "    RETURN np;'''\n",
    "row_objs_list = cu.get_execution_results(cypher_str, verbose=True)\n",
    "assert len(row_objs_list) == 1, 'You are creating duplicates, still'"
   ]
  },
  {
   "cell_type": "code",
   "execution_count": null,
   "id": "d2705afe-ee40-470f-9d63-dab531f02c47",
   "metadata": {},
   "outputs": [],
   "source": []
  }
 ],
 "metadata": {
  "kernelspec": {
   "display_name": "Python 3 (ipykernel)",
   "language": "python",
   "name": "python3"
  },
  "language_info": {
   "codemirror_mode": {
    "name": "ipython",
    "version": 3
   },
   "file_extension": ".py",
   "mimetype": "text/x-python",
   "name": "python",
   "nbconvert_exporter": "python",
   "pygments_lexer": "ipython3",
   "version": "3.9.7"
  }
 },
 "nbformat": 4,
 "nbformat_minor": 5
}
