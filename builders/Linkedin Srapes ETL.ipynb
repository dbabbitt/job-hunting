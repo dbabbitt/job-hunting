{
 "cells": [
  {
   "cell_type": "code",
   "execution_count": 1,
   "metadata": {},
   "outputs": [
    {
     "name": "stdout",
     "output_type": "stream",
     "text": [
      "Pretty printing has been turned OFF\n"
     ]
    }
   ],
   "source": [
    "\n",
    "%pprint"
   ]
  },
  {
   "cell_type": "code",
   "execution_count": 2,
   "metadata": {},
   "outputs": [],
   "source": [
    "\n",
    "import sys\n",
    "\n",
    "# Insert at 1, 0 is the script path (or '' in REPL)\n",
    "sys.path.insert(1, '../py')"
   ]
  },
  {
   "cell_type": "code",
   "execution_count": 3,
   "metadata": {},
   "outputs": [],
   "source": [
    "\n",
    "from storage import Storage\n",
    "s = Storage()\n",
    "\n",
    "from ha_utils import HeaderAnalysis\n",
    "ha = HeaderAnalysis(verbose=False)\n",
    "\n",
    "from scrape_utils import WebScrapingUtilities\n",
    "wsu = WebScrapingUtilities(s=s)\n",
    "uri = wsu.secrets_json['neo4j']['connect_url']\n",
    "user =  wsu.secrets_json['neo4j']['username']\n",
    "password = wsu.secrets_json['neo4j']['password']\n",
    "\n",
    "from cypher_utils import CypherUtilities\n",
    "cu = CypherUtilities(uri=uri, user=user, password=password, driver=None, s=s, ha=ha)"
   ]
  },
  {
   "cell_type": "code",
   "execution_count": 4,
   "metadata": {},
   "outputs": [
    {
     "name": "stdout",
     "output_type": "stream",
     "text": [
      "======== Neo4j/4.4.7 ========\n"
     ]
    }
   ],
   "source": [
    "\n",
    "from neo4j.exceptions import ServiceUnavailable\n",
    "\n",
    "try:\n",
    "    version_str = cu.driver.verify_connectivity()\n",
    "    print(f'======== {version_str} ========')\n",
    "\n",
    "    import warnings\n",
    "    warnings.filterwarnings('ignore')\n",
    "except ServiceUnavailable as e:\n",
    "    # print(str(e).strip())\n",
    "    raise ServiceUnavailable('You need to start Neo4j as a console')\n",
    "except Exception as e:\n",
    "    print(e.__class__)"
   ]
  },
  {
   "cell_type": "code",
   "execution_count": 5,
   "metadata": {},
   "outputs": [
    {
     "name": "stdout",
     "output_type": "stream",
     "text": [
      "Last run on 2022-08-19 09:58:19.719485\n"
     ]
    }
   ],
   "source": [
    "\n",
    "from datetime import datetime\n",
    "from urllib.parse import urlparse, parse_qs\n",
    "from urllib.error import HTTPError, URLError\n",
    "from IPython.display import clear_output\n",
    "import re\n",
    "import os\n",
    "print(f'Last run on {datetime.now()}')"
   ]
  },
  {
   "cell_type": "markdown",
   "metadata": {},
   "source": [
    "\n",
    "----"
   ]
  },
  {
   "cell_type": "code",
   "execution_count": 6,
   "metadata": {},
   "outputs": [
    {
     "name": "stdout",
     "output_type": "stream",
     "text": [
      "Getting the FireFox driver\n",
      "Getting URL: https://www.linkedin.com/home\n",
      "Filling in the session_key field with dave.babbitt@gmail.com\n",
      "Clicking /html/body/main/section[1]/div/div/form/button\n"
     ]
    },
    {
     "data": {
      "text/plain": [
       "6"
      ]
     },
     "execution_count": 6,
     "metadata": {},
     "output_type": "execute_result"
    }
   ],
   "source": [
    "\n",
    "file_path = '../data/html/linkedin_email.html'\n",
    "driver = wsu.get_driver()\n",
    "wsu.log_into_linkedin(driver)\n",
    "job_title_css = 'div.p5 > h1'\n",
    "job_subtitle_css = 'div.jobs-unified-top-card__primary-description > span.jobs-unified-top-card__subtitle-primary-grouping'\n",
    "ascii_regex = re.compile('[^A-Za-z0-9]+')\n",
    "article_css = '.jobs-description__container'\n",
    "seemore_button_css = 'button.t-14'\n",
    "seemore_button_xpath = '/html/body//footer/button'\n",
    "details_css = '#job-details'\n",
    "nav_search_css = '.global-nav__content'\n",
    "page_soup = wsu.get_page_soup(file_path)\n",
    "css_selector = '#jobDescriptionText > table > tbody > tr > td > table > tbody > tr > td > a > table > tbody > tr > td > a'\n",
    "link_soups_list = page_soup.select(css_selector)\n",
    "url_strs_list = [link_soup['href'] for link_soup in link_soups_list]\n",
    "len(url_strs_list)"
   ]
  },
  {
   "cell_type": "code",
   "execution_count": 7,
   "metadata": {},
   "outputs": [
    {
     "name": "stdout",
     "output_type": "stream",
     "text": [
      "Saving to ../saves/html\\sjUo6wC8v_QUGwH35w2waw_UX_Researcher_Remote_New_Relic_Inc_Houston_TX_Remote.html\n",
      "Saving to ../saves/html\\4_nRFdSsoY_cHJg238Zo0g_Technology_Product_Analyst_Remote_Mindseeker_Inc_Vienna_VA_Remote.html\n",
      "Saving to ../saves/html\\ksH6hJO_TyWdysXHlNqZ9Q_Software_Engineer_II_REMOTE_Dice_United_States_Remote.html\n",
      "Saving to ../saves/html\\qZLPKSgrlL1dmgcjZifQOw_Sr_Director_Direct_Marketing_Data_Science_Oportun_United_States_Remote.html\n",
      "Saving to ../saves/html\\gvxOiFMwLyKNYk9RMFUpKA_Pessoa_Desenvolvedora_em_Intelig_ncia_Artificial_IA_Pleno_S_nior_Mollica_IT_Home_KS_Remote.html\n",
      "Saving to ../saves/html\\ogfGjfdQkiFSO_iqWH7Z4g_Data_Engineer_USI_Insurance_Services_United_States_Remote.html\n",
      "Fileing 6 postings complete\n"
     ]
    }
   ],
   "source": [
    "\n",
    "files_list = []\n",
    "for url_str in url_strs_list:\n",
    "    wsu.driver_get_url(driver, url_str, verbose=False)\n",
    "    job_title_str = driver.find_elements_by_css_selector(job_title_css)[0].text\n",
    "    job_subtitle_str = driver.find_elements_by_css_selector(job_subtitle_css)[0].text\n",
    "    page_title = f'{job_title_str} {job_subtitle_str}'\n",
    "    file_name = ascii_regex.sub(' ', page_title).strip().replace(' ', '_')\n",
    "    trackingId = ascii_regex.sub(' ', parse_qs(urlparse(url_str).query).get('trackingId', [''])[0]).strip().replace(' ', '_')\n",
    "    if len(trackingId):\n",
    "        file_name = f'{trackingId}_{file_name}.html'\n",
    "    else:\n",
    "        file_name = f'{file_name}.html'\n",
    "        file_path = os.path.join(cu.SAVES_HTML_FOLDER, file_name)\n",
    "        if os.path.isfile(file_path):\n",
    "            file_name = datetime.now().strftime('%Y%m%d%H%M%S%f') + f'_{file_name}'\n",
    "    file_path = os.path.join(cu.SAVES_HTML_FOLDER, file_name)\n",
    "    if not os.path.isfile(file_path):\n",
    "        with open(file_path, 'w', encoding=s.encoding_type) as f:\n",
    "            print(f'Saving to {file_path}')\n",
    "            f.write('<html><head><title>')\n",
    "            f.write(page_title)\n",
    "            f.write('</title></head><body><div id=\"jobDescriptionText\">')\n",
    "            overlay_tag = driver.find_elements_by_css_selector(nav_search_css)[0]\n",
    "            driver.execute_script(\"arguments[0].setAttribute('style','display:none;');\", overlay_tag)\n",
    "            wsu.click_web_element(driver, seemore_button_xpath, verbose=False)\n",
    "            web_obj = driver.find_elements_by_css_selector(details_css)[0]\n",
    "            article_str = web_obj.get_attribute('innerHTML').strip()\n",
    "            f.write(article_str)\n",
    "            f.write('</div></body></html>')\n",
    "        files_list.append(file_name)\n",
    "    cu.ensure_filename(file_name, verbose=False)\n",
    "    cu.set_posting_url(file_name, url_str, verbose=False)\n",
    "print(f'Fileing {len(files_list)} postings complete')"
   ]
  },
  {
   "cell_type": "code",
   "execution_count": 8,
   "metadata": {},
   "outputs": [
    {
     "data": {
      "text/plain": [
       "['sjUo6wC8v_QUGwH35w2waw_UX_Researcher_Remote_New_Relic_Inc_Houston_TX_Remote.html', '4_nRFdSsoY_cHJg238Zo0g_Technology_Product_Analyst_Remote_Mindseeker_Inc_Vienna_VA_Remote.html', 'ksH6hJO_TyWdysXHlNqZ9Q_Software_Engineer_II_REMOTE_Dice_United_States_Remote.html', 'qZLPKSgrlL1dmgcjZifQOw_Sr_Director_Direct_Marketing_Data_Science_Oportun_United_States_Remote.html', 'gvxOiFMwLyKNYk9RMFUpKA_Pessoa_Desenvolvedora_em_Intelig_ncia_Artificial_IA_Pleno_S_nior_Mollica_IT_Home_KS_Remote.html', 'ogfGjfdQkiFSO_iqWH7Z4g_Data_Engineer_USI_Insurance_Services_United_States_Remote.html']"
      ]
     },
     "execution_count": 8,
     "metadata": {},
     "output_type": "execute_result"
    }
   ],
   "source": [
    "\n",
    "driver.close()\n",
    "cu.ensure_navigableparent('END', verbose=False)\n",
    "for file_name in files_list:\n",
    "    file_path = os.path.join(cu.SAVES_HTML_FOLDER, file_name)\n",
    "    page_soup = wsu.get_page_soup(file_path)\n",
    "    row_div_list = page_soup.find_all(name='article')\n",
    "    for div_soup in row_div_list:\n",
    "        child_strs_list = ha.get_navigable_children(div_soup, [])\n",
    "        assert child_strs_list, f'Something is wrong with {file_name}'\n",
    "        cu.populate_from_child_strings(child_strs_list, file_name, verbose=False)\n",
    "files_list"
   ]
  },
  {
   "cell_type": "code",
   "execution_count": null,
   "metadata": {},
   "outputs": [],
   "source": []
  }
 ],
 "metadata": {
  "anaconda-cloud": {},
  "kernelspec": {
   "display_name": "Python 3 (ipykernel)",
   "language": "python",
   "name": "python3"
  },
  "language_info": {
   "codemirror_mode": {
    "name": "ipython",
    "version": 3
   },
   "file_extension": ".py",
   "mimetype": "text/x-python",
   "name": "python",
   "nbconvert_exporter": "python",
   "pygments_lexer": "ipython3",
   "version": "3.9.7"
  }
 },
 "nbformat": 4,
 "nbformat_minor": 4
}
