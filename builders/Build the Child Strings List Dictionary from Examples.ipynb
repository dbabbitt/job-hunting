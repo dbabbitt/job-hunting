{
 "cells": [
  {
   "cell_type": "code",
   "execution_count": 1,
   "metadata": {},
   "outputs": [
    {
     "name": "stdout",
     "output_type": "stream",
     "text": [
      "Pretty printing has been turned OFF\n"
     ]
    }
   ],
   "source": [
    "\n",
    "%pprint"
   ]
  },
  {
   "cell_type": "markdown",
   "metadata": {},
   "source": [
    "\n",
    "----\n",
    "## Prep some more files for addition into the Child Strings Dictionary"
   ]
  },
  {
   "cell_type": "code",
   "execution_count": 3,
   "metadata": {},
   "outputs": [],
   "source": [
    "\n",
    "import pandas as pd\n",
    "\n",
    "sql_str = '''\n",
    "SELECT\n",
    "    s.[file_name_id],\n",
    "    s.[navigable_parent_sequence_id],\n",
    "    s.[sequence_order],\n",
    "    t.[header_tag_id],\n",
    "    t.[is_corporate_scope],\n",
    "    t.[is_educational_requirement],\n",
    "    t.[is_header],\n",
    "    t.[is_interview_procedure],\n",
    "    t.[is_job_duration],\n",
    "    t.[is_job_title],\n",
    "    t.[is_legal_notification],\n",
    "    t.[is_minimum_qualification],\n",
    "    t.[is_office_location],\n",
    "    t.[is_other],\n",
    "    t.[is_posting_date],\n",
    "    t.[is_preferred_qualification],\n",
    "    t.[is_qualification],\n",
    "    t.[is_supplemental_pay],\n",
    "    t.[is_task_scope],\n",
    "    t.[navigable_parent],\n",
    "    t.[navigable_parent_id]\n",
    "FROM\n",
    "    [Jobhunting].[dbo].[NavigableParentSequence] s INNER JOIN\n",
    "    [Jobhunting].[dbo].[NavigableParents] t ON\n",
    "    s.navigable_parent_id = t.navigable_parent_id\n",
    "WHERE (t.[is_header] IS NULL)'''\n",
    "missing_isheaders_df = pd.DataFrame(su.get_execution_results(cursor, sql_str, verbose=False))\n",
    "file_name_id_series = missing_isheaders_df.groupby('file_name_id').count()['navigable_parent_id']\n",
    "file_name_id_series = file_name_id_series.sort_values(ascending=False)\n",
    "file_name_id = file_name_id_series.head(1).index[0]"
   ]
  },
  {
   "cell_type": "code",
   "execution_count": 4,
   "metadata": {},
   "outputs": [],
   "source": [
    "\n",
    "import random\n",
    "\n",
    "ZMQInteractiveShell_obj = get_ipython()\n",
    "NAVIGABLE_PARENT_IS_HEADER_DICT = s.load_object('NAVIGABLE_PARENT_IS_HEADER_DICT')\n",
    "def get_dictionary_code(file_name_id=file_name_id):\n",
    "    output_str = ''\n",
    "    tag_str = list(NAVIGABLE_PARENT_IS_HEADER_DICT.keys())[0]\n",
    "    while tag_str in NAVIGABLE_PARENT_IS_HEADER_DICT:\n",
    "        sql_str = '''SELECT t.[navigable_parent]\n",
    "            FROM\n",
    "                [Jobhunting].[dbo].[navigableparentsequence] s INNER JOIN\n",
    "                [Jobhunting].[dbo].[navigableparents] t ON\n",
    "                s.[navigable_parent_id] = t.[navigable_parent_id]\n",
    "            WHERE (s.[file_name_id] = {}) AND (t.[is_header] IS NULL)'''.format(file_name_id)\n",
    "        missing_isheaders_df = pd.DataFrame(su.get_execution_results(cursor, sql_str, verbose=False))\n",
    "        child_strs_list = missing_isheaders_df.navigable_parent.tolist()\n",
    "        tag_str = random.choice(child_strs_list)\n",
    "    output_str += f'\\n# {len(child_strs_list)} to go\\n'\n",
    "    if \"'\" in tag_str:\n",
    "        tag_str = tag_str.replace('\"', '\\\\\"')\n",
    "        output_str += f'tag_str = \"{tag_str}\"\\n'\n",
    "    else:\n",
    "        output_str += f\"tag_str = '{tag_str}'\\n\"\n",
    "    output_str += 'NAVIGABLE_PARENT_IS_HEADER_DICT[tag_str] = False\\n'\n",
    "    output_str += 'print(len(NAVIGABLE_PARENT_IS_HEADER_DICT.keys()))\\n'\n",
    "    output_str += r\"cursor_obj = cursor.execute(su.set_is_header0_sql_str, (su.wc_rgx.sub(r'\\\\\\g<1>'\" + ', tag_str),))\\n'\n",
    "    output_str += 'cursor.commit()\\n'\n",
    "    output_str += 's.store_objects(NAVIGABLE_PARENT_IS_HEADER_DICT=NAVIGABLE_PARENT_IS_HEADER_DICT)'\n",
    "    \n",
    "    return output_str"
   ]
  },
  {
   "cell_type": "code",
   "execution_count": null,
   "metadata": {},
   "outputs": [],
   "source": [
    "\n",
    "# Copy this and paste it after the last cell; run the copy, edit it, and run it again\n",
    "ZMQInteractiveShell_obj.set_next_input(text=get_dictionary_code(), replace=True)"
   ]
  },
  {
   "cell_type": "code",
   "execution_count": null,
   "metadata": {},
   "outputs": [],
   "source": [
    "\n",
    "# Display the HTML to yourself\n",
    "from IPython.display import HTML, display\n",
    "\n",
    "mask_series = (missing_isheaders_df.file_name_id == file_name_id)\n",
    "df = \n",
    "display(HTML('<br />'.join(missing_isheaders_df[mask_series].sort_values('sequence_order').navigable_parent.tolist())))"
   ]
  },
  {
   "cell_type": "code",
   "execution_count": 6,
   "metadata": {},
   "outputs": [],
   "source": [
    "\n",
    "# Display this file in a text editor\n",
    "sql_str = '''\n",
    "SELECT f.[file_name]\n",
    "FROM [Jobhunting].[dbo].[FileNames] f\n",
    "WHERE f.[file_name_id] = {}'''.format(file_name_id)\n",
    "file_name = su.get_execution_results(cursor, sql_str, verbose=False)[0]['file_name']\n",
    "text_editor_path = r'C:\\Program Files\\Notepad++\\notepad++.exe'\n",
    "file_path = os.path.join(ha.SAVES_HTML_FOLDER, file_name)\n",
    "!\"{text_editor_path}\" \"{os.path.abspath(file_path)}\""
   ]
  },
  {
   "cell_type": "code",
   "execution_count": null,
   "metadata": {},
   "outputs": [],
   "source": []
  }
 ],
 "metadata": {
  "anaconda-cloud": {},
  "kernelspec": {
   "display_name": "Python 3 (ipykernel)",
   "language": "python",
   "name": "python3"
  },
  "language_info": {
   "codemirror_mode": {
    "name": "ipython",
    "version": 3
   },
   "file_extension": ".py",
   "mimetype": "text/x-python",
   "name": "python",
   "nbconvert_exporter": "python",
   "pygments_lexer": "ipython3",
   "version": "3.9.7"
  }
 },
 "nbformat": 4,
 "nbformat_minor": 4
}
