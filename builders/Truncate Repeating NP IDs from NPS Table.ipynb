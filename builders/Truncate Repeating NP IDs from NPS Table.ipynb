{
 "cells": [
  {
   "cell_type": "code",
   "execution_count": 1,
   "metadata": {},
   "outputs": [
    {
     "name": "stdout",
     "output_type": "stream",
     "text": [
      "Pretty printing has been turned OFF\n"
     ]
    }
   ],
   "source": [
    "\n",
    "%pprint"
   ]
  },
  {
   "cell_type": "code",
   "execution_count": 2,
   "metadata": {},
   "outputs": [
    {
     "name": "stdout",
     "output_type": "stream",
     "text": [
      "Wall time: 10.1 s\n"
     ]
    }
   ],
   "source": [
    "\n",
    "%%time\n",
    "%run ../py/sql_utlis.py\n",
    "\n",
    "sqlu = SqlUtilities()\n",
    "_, CURSOR = sqlu.get_jh_conn_cursor()"
   ]
  },
  {
   "cell_type": "code",
   "execution_count": 3,
   "metadata": {},
   "outputs": [],
   "source": [
    "\n",
    "# Make a dictionary of all the HTML strings\n",
    "sql_str = f'''\n",
    "    SELECT\n",
    "        np.[navigable_parent_id],\n",
    "        np.[navigable_parent]\n",
    "    FROM [Jobhunting].[dbo].[NavigableParents] np;'''\n",
    "df = pd.DataFrame(sqlu.get_execution_results(CURSOR, sql_str, verbose=False))\n",
    "html_str_dict = df.set_index('navigable_parent_id').navigable_parent.to_dict()"
   ]
  },
  {
   "cell_type": "code",
   "execution_count": 36,
   "metadata": {},
   "outputs": [],
   "source": [
    "\n",
    "def guess_seq_len(seq, verbose=False):\n",
    "    seq_len = 1\n",
    "    initial_item = seq[0]\n",
    "    butfirst_items = seq[1:]\n",
    "    if initial_item in butfirst_items:\n",
    "        first_match_idx = butfirst_items.index(initial_item) + 1\n",
    "        if verbose:\n",
    "            print(f'\"{initial_item}\" was found at index 0 and index {first_match_idx}')\n",
    "        max_seq_len = min(len(seq) - first_match_idx, first_match_idx)\n",
    "        for seq_len in range(max_seq_len, 0, -1):\n",
    "            if seq[:seq_len] == seq[first_match_idx:first_match_idx+seq_len]:\n",
    "                if verbose:\n",
    "                    print(f'A sequence length of {seq_len} was found at index {first_match_idx}')\n",
    "                break\n",
    "    \n",
    "    return seq_len"
   ]
  },
  {
   "cell_type": "code",
   "execution_count": 195,
   "metadata": {},
   "outputs": [],
   "source": [
    "\n",
    "# Find the largest number of duplicates\n",
    "sql_str = '''\n",
    "    SELECT *\n",
    "    FROM [Jobhunting].[dbo].[NavigableParentSequence];'''\n",
    "nps_df = pd.DataFrame(sqlu.get_execution_results(CURSOR, sql_str, verbose=False))"
   ]
  },
  {
   "cell_type": "code",
   "execution_count": 196,
   "metadata": {},
   "outputs": [],
   "source": [
    "\n",
    "# Get file with most-duplicated HTML string\n",
    "columns_list = ['file_name_id', 'navigable_parent_id']\n",
    "df = nps_df.groupby(columns_list, as_index=False).size().sort_values('size', ascending=False)\n",
    "file_name_ids_list = df.file_name_id.tolist()\n",
    "file_name_id = file_name_ids_list[1]"
   ]
  },
  {
   "cell_type": "code",
   "execution_count": 197,
   "metadata": {},
   "outputs": [],
   "source": [
    "\n",
    "# Delete initial duplicate sequences\n",
    "sql_str = f'''\n",
    "    SELECT nps.[navigable_parent_id]\n",
    "    FROM [Jobhunting].[dbo].[NavigableParentSequence] nps\n",
    "    WHERE nps.[file_name_id] = {file_name_id}\n",
    "    ORDER BY nps.sequence_order;'''\n",
    "sequence_df = pd.DataFrame(sqlu.get_execution_results(CURSOR, sql_str, verbose=False))\n",
    "navigable_parent_ids_list = sequence_df.navigable_parent_id.tolist()\n",
    "cutoff = guess_seq_len(navigable_parent_ids_list)\n",
    "while cutoff > 1:\n",
    "    sql_str = f'''\n",
    "        DELETE FROM [Jobhunting].[dbo].[NavigableParentSequence]\n",
    "        WHERE\n",
    "            [sequence_order] < {cutoff} AND\n",
    "            [file_name_id] = {file_name_id};'''\n",
    "    CURSOR.execute(sql_str)\n",
    "    sql_str = f'''\n",
    "        UPDATE [Jobhunting].[dbo].[NavigableParentSequence]\n",
    "        SET [sequence_order] = [sequence_order] - {cutoff}\n",
    "        WHERE [file_name_id] = {file_name_id};'''\n",
    "    CURSOR.execute(sql_str)\n",
    "    sql_str = f'''\n",
    "        SELECT nps.[navigable_parent_id]\n",
    "        FROM [Jobhunting].[dbo].[NavigableParentSequence] nps\n",
    "        WHERE nps.[file_name_id] = {file_name_id}\n",
    "        ORDER BY nps.sequence_order;'''\n",
    "    sequence_df = pd.DataFrame(sqlu.get_execution_results(CURSOR, sql_str, verbose=False))\n",
    "    navigable_parent_ids_list = sequence_df.navigable_parent_id.tolist()\n",
    "    cutoff = guess_seq_len(navigable_parent_ids_list)"
   ]
  },
  {
   "cell_type": "code",
   "execution_count": 198,
   "metadata": {},
   "outputs": [
    {
     "data": {
      "text/html": [
       "<div>\n",
       "<style scoped>\n",
       "    .dataframe tbody tr th:only-of-type {\n",
       "        vertical-align: middle;\n",
       "    }\n",
       "\n",
       "    .dataframe tbody tr th {\n",
       "        vertical-align: top;\n",
       "    }\n",
       "\n",
       "    .dataframe thead th {\n",
       "        text-align: right;\n",
       "    }\n",
       "</style>\n",
       "<table border=\"1\" class=\"dataframe\">\n",
       "  <thead>\n",
       "    <tr style=\"text-align: right;\">\n",
       "      <th></th>\n",
       "      <th>navigable_parent_sequence_id</th>\n",
       "      <th>file_name_id</th>\n",
       "      <th>navigable_parent_id</th>\n",
       "      <th>sequence_order</th>\n",
       "      <th>mrs_id</th>\n",
       "    </tr>\n",
       "  </thead>\n",
       "  <tbody>\n",
       "    <tr>\n",
       "      <th>0</th>\n",
       "      <td>5312</td>\n",
       "      <td>93</td>\n",
       "      <td>3104</td>\n",
       "      <td>0</td>\n",
       "      <td>0</td>\n",
       "    </tr>\n",
       "    <tr>\n",
       "      <th>1</th>\n",
       "      <td>5313</td>\n",
       "      <td>93</td>\n",
       "      <td>3119</td>\n",
       "      <td>1</td>\n",
       "      <td>0</td>\n",
       "    </tr>\n",
       "    <tr>\n",
       "      <th>2</th>\n",
       "      <td>5314</td>\n",
       "      <td>93</td>\n",
       "      <td>14264</td>\n",
       "      <td>2</td>\n",
       "      <td>0</td>\n",
       "    </tr>\n",
       "    <tr>\n",
       "      <th>3</th>\n",
       "      <td>5315</td>\n",
       "      <td>93</td>\n",
       "      <td>14261</td>\n",
       "      <td>3</td>\n",
       "      <td>0</td>\n",
       "    </tr>\n",
       "    <tr>\n",
       "      <th>4</th>\n",
       "      <td>5316</td>\n",
       "      <td>93</td>\n",
       "      <td>3119</td>\n",
       "      <td>4</td>\n",
       "      <td>0</td>\n",
       "    </tr>\n",
       "    <tr>\n",
       "      <th>...</th>\n",
       "      <td>...</td>\n",
       "      <td>...</td>\n",
       "      <td>...</td>\n",
       "      <td>...</td>\n",
       "      <td>...</td>\n",
       "    </tr>\n",
       "    <tr>\n",
       "      <th>141</th>\n",
       "      <td>5454</td>\n",
       "      <td>93</td>\n",
       "      <td>2641</td>\n",
       "      <td>142</td>\n",
       "      <td>0</td>\n",
       "    </tr>\n",
       "    <tr>\n",
       "      <th>142</th>\n",
       "      <td>5455</td>\n",
       "      <td>93</td>\n",
       "      <td>15419</td>\n",
       "      <td>143</td>\n",
       "      <td>0</td>\n",
       "    </tr>\n",
       "    <tr>\n",
       "      <th>143</th>\n",
       "      <td>5456</td>\n",
       "      <td>93</td>\n",
       "      <td>2541</td>\n",
       "      <td>144</td>\n",
       "      <td>0</td>\n",
       "    </tr>\n",
       "    <tr>\n",
       "      <th>144</th>\n",
       "      <td>5457</td>\n",
       "      <td>93</td>\n",
       "      <td>2641</td>\n",
       "      <td>145</td>\n",
       "      <td>0</td>\n",
       "    </tr>\n",
       "    <tr>\n",
       "      <th>145</th>\n",
       "      <td>5458</td>\n",
       "      <td>93</td>\n",
       "      <td>15419</td>\n",
       "      <td>146</td>\n",
       "      <td>0</td>\n",
       "    </tr>\n",
       "  </tbody>\n",
       "</table>\n",
       "<p>146 rows × 5 columns</p>\n",
       "</div>"
      ],
      "text/plain": [
       "     navigable_parent_sequence_id  file_name_id  navigable_parent_id  \\\n",
       "0                            5312            93                 3104   \n",
       "1                            5313            93                 3119   \n",
       "2                            5314            93                14264   \n",
       "3                            5315            93                14261   \n",
       "4                            5316            93                 3119   \n",
       "..                            ...           ...                  ...   \n",
       "141                          5454            93                 2641   \n",
       "142                          5455            93                15419   \n",
       "143                          5456            93                 2541   \n",
       "144                          5457            93                 2641   \n",
       "145                          5458            93                15419   \n",
       "\n",
       "     sequence_order  mrs_id  \n",
       "0                 0       0  \n",
       "1                 1       0  \n",
       "2                 2       0  \n",
       "3                 3       0  \n",
       "4                 4       0  \n",
       "..              ...     ...  \n",
       "141             142       0  \n",
       "142             143       0  \n",
       "143             144       0  \n",
       "144             145       0  \n",
       "145             146       0  \n",
       "\n",
       "[146 rows x 5 columns]"
      ]
     },
     "execution_count": 198,
     "metadata": {},
     "output_type": "execute_result"
    }
   ],
   "source": [
    "\n",
    "# Show the partially-cleaned sequence\n",
    "sql_str = f'''\n",
    "    SELECT *\n",
    "    FROM [Jobhunting].[dbo].[NavigableParentSequence] nps\n",
    "    WHERE nps.[file_name_id] = {file_name_id}\n",
    "    ORDER BY nps.sequence_order;'''\n",
    "sequence_df = pd.DataFrame(sqlu.get_execution_results(CURSOR, sql_str, verbose=False))\n",
    "sequence_df"
   ]
  },
  {
   "cell_type": "markdown",
   "metadata": {},
   "source": [
    "\n",
    "## Clean up the sequence order numbers"
   ]
  },
  {
   "cell_type": "code",
   "execution_count": 215,
   "metadata": {},
   "outputs": [],
   "source": [
    "\n",
    "def find_largest_repeating_sequence(sequence_df):\n",
    "    '''Find the first index of the largest repeating sequence'''\n",
    "    max_start_idx = -1\n",
    "    max_cutoff = -1\n",
    "    navigable_parent_ids_list = sequence_df.navigable_parent_id.tolist()\n",
    "    for start_idx in range(len(navigable_parent_ids_list)):\n",
    "        cutoff = guess_seq_len(navigable_parent_ids_list[start_idx:])\n",
    "        if max_cutoff < cutoff:\n",
    "            max_cutoff = cutoff\n",
    "            max_start_idx = start_idx\n",
    "    \n",
    "    return max_start_idx, max_cutoff"
   ]
  },
  {
   "cell_type": "code",
   "execution_count": 216,
   "metadata": {},
   "outputs": [],
   "source": [
    "\n",
    "# Get the file IDs\n",
    "sql_str = f'''\n",
    "    SELECT fn.[file_name_id]\n",
    "    FROM [Jobhunting].[dbo].[FileNames] fn;'''\n",
    "file_name_ids_list = pd.DataFrame(sqlu.get_execution_results(CURSOR, sql_str,\n",
    "                                                           verbose=False)).file_name_id.tolist()\n",
    "for file_name_id in file_name_ids_list:\n",
    "    sql_str = f'''\n",
    "        SELECT *\n",
    "        FROM [Jobhunting].[dbo].[NavigableParentSequence] nps\n",
    "        WHERE nps.[file_name_id] = {file_name_id}\n",
    "        ORDER BY nps.sequence_order;'''\n",
    "    sequence_df = pd.DataFrame(sqlu.get_execution_results(CURSOR, sql_str, verbose=False))\n",
    "        \n",
    "    # Find the first index of the largest repeating sequence\n",
    "    max_start_idx, max_cutoff = find_largest_repeating_sequence(sequence_df)\n",
    "    \n",
    "    while max_cutoff > 1:\n",
    "            \n",
    "        # Delete the first occurance of that sequence\n",
    "        sequence_ids_list = sequence_df.navigable_parent_sequence_id.tolist()\n",
    "        ids_list = [str(id) for id in sequence_ids_list[max_start_idx:max_start_idx+max_cutoff]]\n",
    "        ids_list_str = \"('\" + \"', '\".join(ids_list) + \"')\"\n",
    "        sql_str = f'''\n",
    "            DELETE FROM [Jobhunting].[dbo].[NavigableParentSequence]\n",
    "            WHERE [navigable_parent_sequence_id] IN {ids_list_str};'''\n",
    "        CURSOR.execute(sql_str)\n",
    "        CURSOR.commit()\n",
    "\n",
    "        # Reset the sequence order numbers\n",
    "        sql_str = f'''\n",
    "            SELECT *\n",
    "            FROM [Jobhunting].[dbo].[NavigableParentSequence] nps\n",
    "            WHERE nps.[file_name_id] = {file_name_id}\n",
    "            ORDER BY nps.sequence_order;'''\n",
    "        sequence_df = pd.DataFrame(sqlu.get_execution_results(CURSOR, sql_str, verbose=False))\n",
    "        sequence_ids_list = sequence_df.navigable_parent_sequence_id.tolist()\n",
    "        count = 0\n",
    "        for nps_id in sequence_ids_list:\n",
    "            sql_str = f'''\n",
    "                UPDATE [Jobhunting].[dbo].[NavigableParentSequence]\n",
    "                SET sequence_order = {count}\n",
    "                WHERE (navigable_parent_sequence_id = {nps_id});'''\n",
    "            CURSOR.execute(sql_str)\n",
    "            count += 1\n",
    "        CURSOR.commit()\n",
    "        \n",
    "        # Find the first index of the largest repeating sequence\n",
    "        sql_str = f'''\n",
    "            SELECT *\n",
    "            FROM [Jobhunting].[dbo].[NavigableParentSequence] nps\n",
    "            WHERE nps.[file_name_id] = {file_name_id}\n",
    "            ORDER BY nps.sequence_order;'''\n",
    "        sequence_df = pd.DataFrame(sqlu.get_execution_results(CURSOR, sql_str, verbose=False))\n",
    "        max_start_idx, max_cutoff = find_largest_repeating_sequence(sequence_df)"
   ]
  },
  {
   "cell_type": "markdown",
   "metadata": {},
   "source": [
    "\n",
    "## Visualize the Cleanup"
   ]
  },
  {
   "cell_type": "code",
   "execution_count": 199,
   "metadata": {},
   "outputs": [],
   "source": [
    "\n",
    "# Get the file name\n",
    "sql_str = f'''\n",
    "    SELECT fn.[file_name]\n",
    "    FROM [Jobhunting].[dbo].[FileNames] fn\n",
    "    WHERE fn.[file_name_id] = {file_name_id};'''\n",
    "file_name = pd.DataFrame(sqlu.get_execution_results(CURSOR, sql_str, verbose=False)).file_name.squeeze().strip()"
   ]
  },
  {
   "cell_type": "code",
   "execution_count": 211,
   "metadata": {},
   "outputs": [],
   "source": [
    "\n",
    "# Prep the temp file\n",
    "file_path = os.path.abspath(os.path.join('../saves/html', file_name))\n",
    "temp_file_path = os.path.abspath(os.path.join('../saves/html', f'temp_{file_name}'))\n",
    "with open(temp_file_path, 'w') as f:\n",
    "    f.write('')"
   ]
  },
  {
   "cell_type": "code",
   "execution_count": 212,
   "metadata": {},
   "outputs": [
    {
     "data": {
      "text/html": [
       "<h3 class=\"collapsible-item-title collapsible-item-title--bold\">You have matching qualifications</h3>"
      ],
      "text/plain": [
       "<IPython.core.display.HTML object>"
      ]
     },
     "metadata": {},
     "output_type": "display_data"
    },
    {
     "data": {
      "text/html": [
       "<span class=\"resumeMatch-requirements-tile-text\">Python</span>"
      ],
      "text/plain": [
       "<IPython.core.display.HTML object>"
      ]
     },
     "metadata": {},
     "output_type": "display_data"
    },
    {
     "data": {
      "text/html": [
       "<span class=\"resumeMatch-requirements-tile-text\">Machine learning</span>"
      ],
      "text/plain": [
       "<IPython.core.display.HTML object>"
      ]
     },
     "metadata": {},
     "output_type": "display_data"
    },
    {
     "data": {
      "text/html": [
       "The world is changing at an accelerating rate and understanding the shifting landscapes has never been more critical."
      ],
      "text/plain": [
       "<IPython.core.display.HTML object>"
      ]
     },
     "metadata": {},
     "output_type": "display_data"
    },
    {
     "data": {
      "text/html": [
       "<b>Primer</b>"
      ],
      "text/plain": [
       "<IPython.core.display.HTML object>"
      ]
     },
     "metadata": {},
     "output_type": "display_data"
    },
    {
     "data": {
      "text/html": [
       "is the premier artificial-intelligence powered platform that allows humans to get information that they need, instantly, in ways that until now have not been possible. We believe that truth is knowable; our mission is to free the curious to be their most human. We are building machines that can read natural language text documents, understand them, correlate them into events, and share what they learn by writing their own natural language text documents."
      ],
      "text/plain": [
       "<IPython.core.display.HTML object>"
      ]
     },
     "metadata": {},
     "output_type": "display_data"
    },
    {
     "data": {
      "text/html": [
       "<div>At Primer we use machine learning and natural language processing to automate the analysis of very large corpora of unstructured text. We build systems that read documents, extract insights, and write reports comparable to those of a human analyst. Our objective is to help our customers understand the world around them –– from geopolitical events and scientific research to changes in the risk profiles of companies. Our clients include some of the world’s largest corporations, financial institutions, and government agencies. You can learn more about Primer's technology and the sort of problems we solve at our blog, as well as recent media coverage of our work.</div>"
      ],
      "text/plain": [
       "<IPython.core.display.HTML object>"
      ]
     },
     "metadata": {},
     "output_type": "display_data"
    },
    {
     "data": {
      "text/html": [
       "<div>The Services team is a jack-of-all-trades organization that serves as a key interface between individual clients and the broader Primer organization. Our charter is: (1) work closely with clients to discover the best use of Primer’s NLP/NLG algorithms for their needs; (2) prototype new algorithms, data pipelines, and visualizations; and (3) channel client feedback and algorithmic learnings back to Primer to drive future product development.</div>"
      ],
      "text/plain": [
       "<IPython.core.display.HTML object>"
      ]
     },
     "metadata": {},
     "output_type": "display_data"
    },
    {
     "data": {
      "text/html": [
       "<b>RESPONSIBILITIES:</b>"
      ],
      "text/plain": [
       "<IPython.core.display.HTML object>"
      ]
     },
     "metadata": {},
     "output_type": "display_data"
    },
    {
     "data": {
      "text/html": [
       "<li>Support the ideation and implementation of solutions and feature sets for the customers, partner with Primer’s product and engineering organizations to create and deliver.</li>"
      ],
      "text/plain": [
       "<IPython.core.display.HTML object>"
      ]
     },
     "metadata": {},
     "output_type": "display_data"
    },
    {
     "data": {
      "text/html": [
       "<li>Act as a full-stack everything: data scientist, engineer, and customer liaison for Primer.</li>"
      ],
      "text/plain": [
       "<IPython.core.display.HTML object>"
      ]
     },
     "metadata": {},
     "output_type": "display_data"
    },
    {
     "data": {
      "text/html": [
       "<li>Partner with product and engineers at Primer to identify and prioritize new features and algorithms based on customer engagement and feedback.</li>"
      ],
      "text/plain": [
       "<IPython.core.display.HTML object>"
      ]
     },
     "metadata": {},
     "output_type": "display_data"
    },
    {
     "data": {
      "text/html": [
       "<li>Build ways to analyze and understand customer engagement and product performance through modeling and data visualization.</li>"
      ],
      "text/plain": [
       "<IPython.core.display.HTML object>"
      ]
     },
     "metadata": {},
     "output_type": "display_data"
    },
    {
     "data": {
      "text/html": [
       "<b>REQUIREMENTS:</b>"
      ],
      "text/plain": [
       "<IPython.core.display.HTML object>"
      ]
     },
     "metadata": {},
     "output_type": "display_data"
    },
    {
     "data": {
      "text/html": [
       "<li>Academic background in Computer Science, Statistics, Engineering, Economics, or quantitative discipline</li>"
      ],
      "text/plain": [
       "<IPython.core.display.HTML object>"
      ]
     },
     "metadata": {},
     "output_type": "display_data"
    },
    {
     "data": {
      "text/html": [
       "<li>3+ years of professional experience in the areas of developing and deploying machine learning and NLP-based solutions.</li>"
      ],
      "text/plain": [
       "<IPython.core.display.HTML object>"
      ]
     },
     "metadata": {},
     "output_type": "display_data"
    },
    {
     "data": {
      "text/html": [
       "<li>Hands-on experience with machine learning and NLP tools and libraries including Numpy, Scipy, Scikit-learn, SpaCy, NLTK, Torch, Tensorflow, Keras</li>"
      ],
      "text/plain": [
       "<IPython.core.display.HTML object>"
      ]
     },
     "metadata": {},
     "output_type": "display_data"
    },
    {
     "data": {
      "text/html": [
       "<li>Proven experience working with a variety of data sets, framing customer problems and use cases, and building data science models.</li>"
      ],
      "text/plain": [
       "<IPython.core.display.HTML object>"
      ]
     },
     "metadata": {},
     "output_type": "display_data"
    },
    {
     "data": {
      "text/html": [
       "<li>Understanding of NLP topics: event and topic detection, relation, and extraction; pattern detection; entity recognition; and clustering and classification models.</li>"
      ],
      "text/plain": [
       "<IPython.core.display.HTML object>"
      ]
     },
     "metadata": {},
     "output_type": "display_data"
    },
    {
     "data": {
      "text/html": [
       "<li>Ability to think about solutions from a customer perspective, establish conceptual connections between requirements and solutions.</li>"
      ],
      "text/plain": [
       "<IPython.core.display.HTML object>"
      ]
     },
     "metadata": {},
     "output_type": "display_data"
    },
    {
     "data": {
      "text/html": [
       "<li>Experience working with AWS, Docker, and APIs.</li>"
      ],
      "text/plain": [
       "<IPython.core.display.HTML object>"
      ]
     },
     "metadata": {},
     "output_type": "display_data"
    },
    {
     "data": {
      "text/html": [
       "<li>Excellent communication skills – you will be the face of Primer to customers’ organizations.</li>"
      ],
      "text/plain": [
       "<IPython.core.display.HTML object>"
      ]
     },
     "metadata": {},
     "output_type": "display_data"
    },
    {
     "data": {
      "text/html": [
       "<div>Primer is proud to be an Equal Employment Opportunity and Affirmative Action employer. We do not discriminate based upon race, religion, color, national origin, gender (including pregnancy, childbirth, or related medical conditions), sexual orientation, gender identity, gender expression, age, status as a protected veteran, status as an individual with a disability, or other applicable legally protected characteristics. Please see the United States Department of Labor's EEO poster and EEO poster supplement for additional information.</div>"
      ],
      "text/plain": [
       "<IPython.core.display.HTML object>"
      ]
     },
     "metadata": {},
     "output_type": "display_data"
    },
    {
     "data": {
      "text/html": [
       "<div>If you need assistance or an accommodation due to a disability, you may contact us at info@primer.com.</div>"
      ],
      "text/plain": [
       "<IPython.core.display.HTML object>"
      ]
     },
     "metadata": {},
     "output_type": "display_data"
    },
    {
     "data": {
      "text/html": [
       "<div>Pursuant to the San Francisco Fair Chance Ordinance, we will consider for employment qualified applicants with arrest and conviction records.</div>"
      ],
      "text/plain": [
       "<IPython.core.display.HTML object>"
      ]
     },
     "metadata": {},
     "output_type": "display_data"
    },
    {
     "data": {
      "text/html": [
       "<div class=\"icl-u-textColor--success\">Primer</div>"
      ],
      "text/plain": [
       "<IPython.core.display.HTML object>"
      ]
     },
     "metadata": {},
     "output_type": "display_data"
    },
    {
     "data": {
      "text/html": [
       "<div>7 days ago</div>"
      ],
      "text/plain": [
       "<IPython.core.display.HTML object>"
      ]
     },
     "metadata": {},
     "output_type": "display_data"
    },
    {
     "data": {
      "text/html": [
       "Report job"
      ],
      "text/plain": [
       "<IPython.core.display.HTML object>"
      ]
     },
     "metadata": {},
     "output_type": "display_data"
    }
   ],
   "source": [
    "\n",
    "# Display the HTML for our cleaned-up sequence\n",
    "# and prepare it for comparison to the original file\n",
    "from IPython.display import HTML, display\n",
    "\n",
    "sql_str = f'''\n",
    "    SELECT *\n",
    "    FROM [Jobhunting].[dbo].[NavigableParentSequence] nps\n",
    "    WHERE nps.[file_name_id] = {file_name_id}\n",
    "    ORDER BY nps.sequence_order;'''\n",
    "sequence_df = pd.DataFrame(sqlu.get_execution_results(CURSOR, sql_str, verbose=False))\n",
    "navigable_parent_ids_list = sequence_df.navigable_parent_id.tolist()\n",
    "with open(temp_file_path, 'a') as f:\n",
    "    for navigable_parent_id in navigable_parent_ids_list:\n",
    "        display(HTML(html_str_dict[navigable_parent_id]))\n",
    "        f.write(html_str_dict[navigable_parent_id] + '\\n')"
   ]
  },
  {
   "cell_type": "code",
   "execution_count": 118,
   "metadata": {},
   "outputs": [],
   "source": [
    "\n",
    "# Running Compare It! to compare the old and new HTML files\n",
    "compareit_str = 'C:\\\\Program Files (x86)\\\\Compare It!\\\\wincmp3.exe'\n",
    "!\"{compareit_str}\" \"{file_path}\" \"{temp_file_path}\""
   ]
  },
  {
   "cell_type": "markdown",
   "metadata": {},
   "source": [
    "\n",
    "----"
   ]
  },
  {
   "cell_type": "code",
   "execution_count": 11,
   "metadata": {},
   "outputs": [
    {
     "data": {
      "text/html": [
       "<div>\n",
       "<style scoped>\n",
       "    .dataframe tbody tr th:only-of-type {\n",
       "        vertical-align: middle;\n",
       "    }\n",
       "\n",
       "    .dataframe tbody tr th {\n",
       "        vertical-align: top;\n",
       "    }\n",
       "\n",
       "    .dataframe thead th {\n",
       "        text-align: right;\n",
       "    }\n",
       "</style>\n",
       "<table border=\"1\" class=\"dataframe\">\n",
       "  <thead>\n",
       "    <tr style=\"text-align: right;\">\n",
       "      <th></th>\n",
       "      <th>navigable_parent_sequence_id</th>\n",
       "      <th>file_name_id</th>\n",
       "      <th>navigable_parent_id</th>\n",
       "      <th>sequence_order</th>\n",
       "      <th>mrs_id</th>\n",
       "    </tr>\n",
       "  </thead>\n",
       "  <tbody>\n",
       "    <tr>\n",
       "      <th>21</th>\n",
       "      <td>9496</td>\n",
       "      <td>175</td>\n",
       "      <td>15950</td>\n",
       "      <td>21</td>\n",
       "      <td>0</td>\n",
       "    </tr>\n",
       "    <tr>\n",
       "      <th>22</th>\n",
       "      <td>9497</td>\n",
       "      <td>175</td>\n",
       "      <td>1842</td>\n",
       "      <td>22</td>\n",
       "      <td>0</td>\n",
       "    </tr>\n",
       "    <tr>\n",
       "      <th>23</th>\n",
       "      <td>9498</td>\n",
       "      <td>175</td>\n",
       "      <td>15546</td>\n",
       "      <td>23</td>\n",
       "      <td>0</td>\n",
       "    </tr>\n",
       "    <tr>\n",
       "      <th>27</th>\n",
       "      <td>9502</td>\n",
       "      <td>175</td>\n",
       "      <td>1305</td>\n",
       "      <td>27</td>\n",
       "      <td>0</td>\n",
       "    </tr>\n",
       "    <tr>\n",
       "      <th>29</th>\n",
       "      <td>9504</td>\n",
       "      <td>175</td>\n",
       "      <td>1842</td>\n",
       "      <td>29</td>\n",
       "      <td>0</td>\n",
       "    </tr>\n",
       "    <tr>\n",
       "      <th>...</th>\n",
       "      <td>...</td>\n",
       "      <td>...</td>\n",
       "      <td>...</td>\n",
       "      <td>...</td>\n",
       "      <td>...</td>\n",
       "    </tr>\n",
       "    <tr>\n",
       "      <th>210</th>\n",
       "      <td>9685</td>\n",
       "      <td>175</td>\n",
       "      <td>2634</td>\n",
       "      <td>210</td>\n",
       "      <td>0</td>\n",
       "    </tr>\n",
       "    <tr>\n",
       "      <th>211</th>\n",
       "      <td>9686</td>\n",
       "      <td>175</td>\n",
       "      <td>15419</td>\n",
       "      <td>211</td>\n",
       "      <td>0</td>\n",
       "    </tr>\n",
       "    <tr>\n",
       "      <th>212</th>\n",
       "      <td>9687</td>\n",
       "      <td>175</td>\n",
       "      <td>2512</td>\n",
       "      <td>212</td>\n",
       "      <td>0</td>\n",
       "    </tr>\n",
       "    <tr>\n",
       "      <th>213</th>\n",
       "      <td>9688</td>\n",
       "      <td>175</td>\n",
       "      <td>2634</td>\n",
       "      <td>213</td>\n",
       "      <td>0</td>\n",
       "    </tr>\n",
       "    <tr>\n",
       "      <th>214</th>\n",
       "      <td>9689</td>\n",
       "      <td>175</td>\n",
       "      <td>15419</td>\n",
       "      <td>214</td>\n",
       "      <td>0</td>\n",
       "    </tr>\n",
       "  </tbody>\n",
       "</table>\n",
       "<p>180 rows × 5 columns</p>\n",
       "</div>"
      ],
      "text/plain": [
       "     navigable_parent_sequence_id  file_name_id  navigable_parent_id  \\\n",
       "21                           9496           175                15950   \n",
       "22                           9497           175                 1842   \n",
       "23                           9498           175                15546   \n",
       "27                           9502           175                 1305   \n",
       "29                           9504           175                 1842   \n",
       "..                            ...           ...                  ...   \n",
       "210                          9685           175                 2634   \n",
       "211                          9686           175                15419   \n",
       "212                          9687           175                 2512   \n",
       "213                          9688           175                 2634   \n",
       "214                          9689           175                15419   \n",
       "\n",
       "     sequence_order  mrs_id  \n",
       "21               21       0  \n",
       "22               22       0  \n",
       "23               23       0  \n",
       "27               27       0  \n",
       "29               29       0  \n",
       "..              ...     ...  \n",
       "210             210       0  \n",
       "211             211       0  \n",
       "212             212       0  \n",
       "213             213       0  \n",
       "214             214       0  \n",
       "\n",
       "[180 rows x 5 columns]"
      ]
     },
     "execution_count": 11,
     "metadata": {},
     "output_type": "execute_result"
    }
   ],
   "source": [
    "\n",
    "# View the duplicates\n",
    "mask_series = sequence_df.duplicated(subset='navigable_parent_id')\n",
    "sequence_df[mask_series]"
   ]
  },
  {
   "cell_type": "code",
   "execution_count": null,
   "metadata": {},
   "outputs": [],
   "source": [
    "\n",
    "# Delete consecutively-duplicated HTML strings\n",
    "sql_str = '''\n",
    "    DELETE FROM [Jobhunting].[dbo].[NavigableParentSequence]\n",
    "    WHERE [navigable_parent_sequence_id] IN (\n",
    "        SELECT h1.[navigable_parent_sequence_id]\n",
    "        FROM\n",
    "            [Jobhunting].[dbo].[NavigableParentSequence] AS h1 INNER JOIN\n",
    "            [Jobhunting].[dbo].[NavigableParentSequence] AS h2 ON\n",
    "                h1.[file_name_id] = h2.[file_name_id] AND\n",
    "                h2.[navigable_parent_id] = h1.[navigable_parent_id] AND\n",
    "                h2.[sequence_order] = h1.[sequence_order] - 1\n",
    "        );'''\n",
    "CURSOR.execute(sql_str)\n",
    "CURSOR.commit()"
   ]
  },
  {
   "cell_type": "code",
   "execution_count": 13,
   "metadata": {},
   "outputs": [
    {
     "name": "stdout",
     "output_type": "stream",
     "text": [
      "3117 [2564, 2564, 2564, 2564]\n",
      "2564 [14232, 14232, 14232, 14232, 1443]\n",
      "14232 [3116, 3117, 3117, 2564]\n",
      "1443 [3058, 3058, 3058, 3058, 3058]\n",
      "3058 [14495, 14495, 14495, 14495, 14495]\n",
      "14495 [15038, 15038, 15038, 15038, 15038]\n",
      "15038 [3085, 3085, 3085, 3085, 3085]\n",
      "3085 [1423, 1423, 1423, 1443, 1423]\n",
      "1423 [1305, 1305, 1305, 1305, 1305]\n",
      "1305 [15049, 15547, 15049, 15547, 15049, 15547, 15049, 15049, 15049, 15547, 15547, 15547]\n",
      "15049 [1931, 1931, 1931, 1931, 1931, 1931]\n",
      "1931 [15950, 15950, 15950, 15950, 15950, 15950]\n",
      "15950 [1842, 1842, 1842, 1842, 1842, 1842, 1842, 1842, 1842, 1842, 1842, 1842]\n",
      "1842 [15546, 15546, 15546, 15546, 15546, 15546, 15546, 15546, 15546, 15546, 15546, 15546, 15546, 15546, 15546, 15546, 15546, 15546]\n",
      "15546 [1424, 1422, 444, 1424, 1422, 444, 1424, 1422, 444, 1423, 1305, 1424, 1424, 753, 1422, 1422, 689, 444]\n",
      "1424 [753, 753, 753, 753, 753]\n",
      "753 [14771, 14771, 14771, 14771, 14771, 14771]\n",
      "14771 [15559, 15559, 15559, 15559, 15559, 15559]\n",
      "15559 [2434, 2434, 2434, 2434, 2434, 2434]\n",
      "2434 [15950, 15950, 15950, 15950, 15950, 15950]\n",
      "1422 [689, 689, 689, 689, 689]\n",
      "689 [15944, 15944, 15944, 15944, 15944, 15944]\n",
      "15944 [1305, 1305, 1305, 1305, 1305, 1305]\n",
      "15547 [1842, 1842, 1842, 1842, 1842, 1842]\n",
      "444 [10066, 10066, 10066, 10066, 10066]\n",
      "10066 [4910, 4910, 4910, 4910, 4910, 4910]\n",
      "4910 [8565, 8565, 8565, 8565, 8565, 8565]\n",
      "8565 [3161, 3161, 3161, 444, 10066, 3161]\n",
      "3161 [14957, 14957, 14957, 14957, 14957]\n",
      "14957 [3099, 3099, 3099, 3099, 3099]\n",
      "3099 [3117, 1443, 1443, 3161, 2512]\n",
      "2512 [2634, 2634, 2634]\n",
      "2634 [15419, 15419, 15419]\n",
      "15419 [2512, 2512]\n"
     ]
    }
   ],
   "source": [
    "\n",
    "# Get a list of html strings that repeat somewhere in the posting\n",
    "sql_str = f'''\n",
    "    SELECT *\n",
    "    FROM [Jobhunting].[dbo].[NavigableParentSequence] nps\n",
    "    WHERE nps.[file_name_id] = {file_name_id}\n",
    "    ORDER BY nps.sequence_order;'''\n",
    "sequence_df = pd.DataFrame(sqlu.get_execution_results(CURSOR, sql_str, verbose=False))\n",
    "navigable_parent_ids_list = sequence_df.navigable_parent_id.unique().tolist()\n",
    "for navigable_parent_id in navigable_parent_ids_list:\n",
    "    \n",
    "    # Get their sequence numbers\n",
    "    mask_series = (sequence_df.navigable_parent_id == navigable_parent_id)\n",
    "    sequence_orders_list = sequence_df[mask_series].sequence_order.tolist()\n",
    "    \n",
    "    # Get the next html strings\n",
    "    next_tags_list = []\n",
    "    for sequence_order in sequence_orders_list:\n",
    "        mask_series = (sequence_df.sequence_order == sequence_order+1)\n",
    "        next_tag = sequence_df[mask_series].navigable_parent_id.squeeze()\n",
    "        if type(next_tag) != pd.Series:\n",
    "            next_tags_list.append(next_tag)\n",
    "    \n",
    "    # Check for sequence duplication\n",
    "    if len(next_tags_list) != len(set(next_tags_list)):\n",
    "        print(navigable_parent_id, next_tags_list)"
   ]
  },
  {
   "cell_type": "code",
   "execution_count": null,
   "metadata": {},
   "outputs": [],
   "source": [
    "\n",
    "# Find the largest job postings\n",
    "sql_str = '''\n",
    "    SELECT\n",
    "        nps.[file_name_id],\n",
    "        COUNT(nps.[file_name_id]) AS total_ids\n",
    "    FROM [Jobhunting].[dbo].[NavigableParentSequence] nps\n",
    "    GROUP BY [file_name_id]\n",
    "    ORDER BY COUNT(nps.[file_name_id]) DESC;'''\n",
    "counts_df = pd.DataFrame(sqlu.get_execution_results(CURSOR, sql_str, verbose=False))\n",
    "counts_df"
   ]
  },
  {
   "cell_type": "code",
   "execution_count": null,
   "metadata": {},
   "outputs": [],
   "source": [
    "\n",
    "file_name_id = counts_df.head(1).file_name_id.squeeze()\n",
    "sql_str = f'''\n",
    "    SELECT\n",
    "        fn.[file_name],\n",
    "        np.[navigable_parent_id],\n",
    "        nps.[sequence_order]\n",
    "    FROM\n",
    "        [Jobhunting].[dbo].[FileNames] fn INNER JOIN\n",
    "        [Jobhunting].[dbo].[NavigableParentSequence] nps ON\n",
    "        fn.[file_name_id] = nps.[file_name_id] INNER JOIN\n",
    "        [Jobhunting].[dbo].[NavigableParents] np ON\n",
    "        nps.[navigable_parent_id] = np.[navigable_parent_id]\n",
    "    WHERE fn.[file_name_id] = {file_name_id}\n",
    "    ORDER BY nps.sequence_order;'''\n",
    "sequence_df = pd.DataFrame(sqlu.get_execution_results(CURSOR, sql_str, verbose=False))\n",
    "sequence_df"
   ]
  },
  {
   "cell_type": "code",
   "execution_count": null,
   "metadata": {},
   "outputs": [],
   "source": []
  }
 ],
 "metadata": {
  "anaconda-cloud": {},
  "kernelspec": {
   "display_name": "Job Hunting (Python 3.7.9)",
   "language": "python",
   "name": "jh_env"
  },
  "language_info": {
   "codemirror_mode": {
    "name": "ipython",
    "version": 3
   },
   "file_extension": ".py",
   "mimetype": "text/x-python",
   "name": "python",
   "nbconvert_exporter": "python",
   "pygments_lexer": "ipython3",
   "version": "3.7.9"
  }
 },
 "nbformat": 4,
 "nbformat_minor": 4
}
