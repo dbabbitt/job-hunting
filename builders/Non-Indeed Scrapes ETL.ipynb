{
 "cells": [
  {
   "cell_type": "code",
   "execution_count": 1,
   "metadata": {},
   "outputs": [
    {
     "name": "stdout",
     "output_type": "stream",
     "text": [
      "Pretty printing has been turned OFF\n"
     ]
    }
   ],
   "source": [
    "\n",
    "%pprint"
   ]
  },
  {
   "cell_type": "code",
   "execution_count": 2,
   "metadata": {},
   "outputs": [],
   "source": [
    "\n",
    "import sys\n",
    "\n",
    "# Insert at 1, 0 is the script path (or '' in REPL)\n",
    "sys.path.insert(1, '../py')"
   ]
  },
  {
   "cell_type": "code",
   "execution_count": 3,
   "metadata": {},
   "outputs": [
    {
     "name": "stdout",
     "output_type": "stream",
     "text": [
      "CPU times: total: 1min 6s\n",
      "Wall time: 1min 10s\n"
     ]
    }
   ],
   "source": [
    "\n",
    "%%time\n",
    "from pandas import DataFrame\n",
    "\n",
    "from storage import Storage\n",
    "s = Storage()\n",
    "\n",
    "from ha_utils import HeaderAnalysis\n",
    "ha = HeaderAnalysis(verbose=False)\n",
    "\n",
    "from scrape_utils import WebScrapingUtilities\n",
    "wsu = WebScrapingUtilities()\n",
    "uri = wsu.secrets_json['neo4j']['connect_url']\n",
    "user =  wsu.secrets_json['neo4j']['username']\n",
    "password = wsu.secrets_json['neo4j']['password']\n",
    "\n",
    "from cypher_utils import CypherUtilities\n",
    "cu = CypherUtilities(uri=uri, user=user, password=password, driver=None, s=s, ha=ha)\n",
    "\n",
    "from hc_utils import HeaderCategories\n",
    "hc = HeaderCategories(cu=cu, verbose=False)\n",
    "\n",
    "from section_utils import SectionUtilities\n",
    "su = SectionUtilities(s=s, ha=ha, cu=cu, verbose=False)\n",
    "\n",
    "from lr_utils import LrUtilities\n",
    "lru = LrUtilities(ha=ha, cu=cu, hc=hc, verbose=False)\n",
    "lru.build_isheader_logistic_regression_elements()\n",
    "lru.build_pos_logistic_regression_elements()\n",
    "\n",
    "import warnings\n",
    "warnings.filterwarnings('ignore')"
   ]
  },
  {
   "cell_type": "code",
   "execution_count": 4,
   "metadata": {},
   "outputs": [],
   "source": [
    "\n",
    "from datetime import datetime\n",
    "from urllib.parse import urlparse, parse_qs\n",
    "from IPython.display import clear_output\n",
    "%run ../load_magic/dataframes.py"
   ]
  },
  {
   "cell_type": "markdown",
   "metadata": {},
   "source": [
    "\n",
    "----"
   ]
  },
  {
   "cell_type": "code",
   "execution_count": 5,
   "metadata": {},
   "outputs": [
    {
     "name": "stdout",
     "output_type": "stream",
     "text": [
      "SGA_Sr_Data_Scientist_REMOTE.html\n"
     ]
    }
   ],
   "source": [
    "\n",
    "import shutil\n",
    "\n",
    "file_path = r'C:\\Users\\daveb\\OneDrive\\Documents\\GitHub\\job-hunting\\data\\html\\other_email.html'\n",
    "file_name = re.sub(r'\\W+', ' ',\n",
    "                   'SGA Sr. Data Scientist - REMOTE').strip().replace(' ', '_') + '.html'\n",
    "new_file_path = os.path.join(cu.SAVES_HTML_FOLDER, file_name)\n",
    "if not os.path.isfile(new_file_path):\n",
    "    print(file_name)\n",
    "    shutil.copy(file_path, os.path.join(cu.SAVES_HTML_FOLDER, file_name))\n",
    "    page_soup = get_page_soup(file_path)\n",
    "    div_soup = page_soup.find_all(name='div', id='jobDescriptionText')[0]\n",
    "    child_strs_list = ha.get_navigable_children(div_soup, [])\n",
    "    cu.ensure_filename(file_name, verbose=False)\n",
    "    cu.populate_from_child_strings(child_strs_list, file_name, verbose=False)"
   ]
  },
  {
   "cell_type": "code",
   "execution_count": 7,
   "metadata": {},
   "outputs": [
    {
     "name": "stdout",
     "output_type": "stream",
     "text": [
      "['plaintext', 'plaintext', 'strong', 'plaintext', 'strong', 'plaintext', 'strong', 'plaintext', 'plaintext', 'plaintext', 'plaintext', 'plaintext', 'strong', 'plaintext', 'strong', 'plaintext', 'strong', 'plaintext', 'strong', 'plaintext', 'strong', 'plaintext', 'li', 'li', 'li', 'li', 'li', 'li', 'plaintext', 'li', 'li', 'li', 'li', 'li', 'li', 'li', 'li', 'plaintext', 'li', 'li', 'li', 'strong', 'strong', 'plaintext', 'li', 'li', 'li', 'li', 'li', 'li', 'li', 'li', 'li', 'li', 'li', 'li', 'li', 'li', 'li', 'li', 'li', 'li', 'li', 'li', 'li', 'li', 'li', 'li', 'li', 'li', 'li', 'li', 'li', 'li', 'li', 'strong', 'strong', 'plaintext', 'li', 'li', 'plaintext', 'a', 'plaintext', 'plaintext', 'plaintext', 'span', 'span', 'span', 'span', 'span', 'span', 'span', 'span', 'span', 'span', 'span', 'span', 'a', 'span', 'a', 'plaintext', 'plaintext', 'a', 'plaintext', 'a']\n"
     ]
    }
   ],
   "source": [
    "\n",
    "child_tags_list = ha.get_child_tags_list(child_strs_list)\n",
    "print(child_tags_list)"
   ]
  },
  {
   "cell_type": "code",
   "execution_count": 8,
   "metadata": {},
   "outputs": [],
   "source": [
    "\n",
    "is_header_list = []\n",
    "for is_header, child_str in zip(ha.get_is_header_list(child_strs_list), child_strs_list):\n",
    "    if is_header is None:\n",
    "        probs_list = lru.ISHEADER_PREDICT_PERCENT_FIT(child_str)\n",
    "        idx = probs_list.index(max(probs_list))\n",
    "        is_header = [True, False][idx]\n",
    "    is_header_list.append(is_header)"
   ]
  },
  {
   "cell_type": "raw",
   "metadata": {},
   "source": [
    "\n",
    "# cu.create_h_pickle(verbose=True)\n",
    "NAVIGABLE_PARENT_IS_HEADER_DICT = s.load_object('NAVIGABLE_PARENT_IS_HEADER_DICT')\n",
    "for i, (is_header, child_str) in enumerate(zip(is_header_list, child_strs_list)):\n",
    "    print(i, NAVIGABLE_PARENT_IS_HEADER_DICT.get(child_str), is_header, child_str)"
   ]
  },
  {
   "cell_type": "code",
   "execution_count": 9,
   "metadata": {},
   "outputs": [
    {
     "data": {
      "text/plain": [
       "{'initial_tag': 'plaintext', 'is_header': True, 'is_task_scope': None, 'is_minimum_qualification': None, 'is_preferred_qualification': None, 'is_legal_notification': None, 'is_job_title': None, 'is_office_location': None, 'is_job_duration': None, 'is_supplemental_pay': None, 'is_educational_requirement': None, 'is_interview_procedure': None, 'is_corporate_scope': None, 'is_posting_date': None, 'is_other': None, 'child_str': 'My name is Kellen Jenkins; I am a Recruiter Coordinator with Software Guidance & Assistance. Your resume had some keywords that made me think you may be a fit for an opportunity that I have and I wanted to reach out to learn a little more about your current work situation.'}"
      ]
     },
     "execution_count": 9,
     "metadata": {},
     "output_type": "execute_result"
    }
   ],
   "source": [
    "\n",
    "feature_dict_list = hc.get_feature_dict_list(child_tags_list, is_header_list, child_strs_list)\n",
    "feature_dict_list[0]"
   ]
  },
  {
   "cell_type": "code",
   "execution_count": 10,
   "metadata": {},
   "outputs": [
    {
     "data": {
      "text/plain": [
       "('plaintext', 'My name is Kellen Jenkins; I am a Recruiter Coordinator with Software Guidance & Assistance. Your resume had some keywords that made me think you may be a fit for an opportunity that I have and I wanted to reach out to learn a little more about your current work situation.', 'O-JD')"
      ]
     },
     "execution_count": 10,
     "metadata": {},
     "output_type": "execute_result"
    }
   ],
   "source": [
    "\n",
    "feature_tuple_list = []\n",
    "for feature_dict in feature_dict_list:\n",
    "    feature_tuple_list.append(hc.get_feature_tuple(feature_dict, lru.pos_lr_predict_single))\n",
    "feature_tuple_list[0]"
   ]
  },
  {
   "cell_type": "code",
   "execution_count": 12,
   "metadata": {},
   "outputs": [
    {
     "data": {
      "text/plain": [
       "['O-JD', 'O-JD', 'O-IP', 'O-JD', 'O-CS', 'O-O', 'O-RQ', 'O-RQ', 'O-TS', 'O-RQ', 'O-RQ', 'O-SP', 'O-OL', 'H-PQ', 'O-CS', 'O-TS', 'O-RQ', 'O-RQ', 'O-CS', 'O-CS', 'H-TS', 'O-CS', 'O-TS', 'O-TS', 'O-TS', 'O-TS', 'O-TS', 'O-RQ', 'O-TS', 'O-TS', 'O-TS', 'O-TS', 'O-TS', 'O-TS', 'O-TS', 'O-TS', 'O-TS', 'O-CS', 'O-TS', 'O-TS', 'O-TS', 'O-CS', 'O-RQ', 'O-CS', 'O-ER', 'O-RQ', 'O-TS', 'O-RQ', 'O-RQ', 'O-RQ', 'O-RQ', 'O-ER', 'O-RQ', 'O-ER', 'O-TS', 'O-RQ', 'O-RQ', 'O-RQ', 'O-CS', 'O-RQ', 'O-RQ', 'O-ER', 'O-RQ', 'O-RQ', 'O-RQ', 'O-RQ', 'O-RQ', 'H-RQ', 'O-PQ', 'O-TS', 'O-RQ', 'O-RQ', 'O-RQ', 'O-RQ', 'O-RQ', 'O-PQ', 'O-RQ', 'O-CS', 'O-PQ', 'O-CS', 'O-CS', 'O-CS', 'O-CS', 'O-LN', 'O-CS', 'O-CS', 'O-CS', 'O-CS', 'O-SP', 'O-CS', 'O-CS', 'O-CS', 'O-SP', 'O-CS', 'O-CS', 'O-CS', 'O-CS', 'O-CS', 'O-RQ', 'O-CS', 'O-LN', 'O-IP', 'O-CS', 'O-CS', 'O-CS']"
      ]
     },
     "execution_count": 12,
     "metadata": {},
     "output_type": "execute_result"
    }
   ],
   "source": [
    "\n",
    "from crf_utils import CrfUtilities\n",
    "crf = CrfUtilities(ha=ha, hc=hc, cu=cu, verbose=False)\n",
    "crf_list = crf.CRF.predict_single(crf.sent2features(feature_tuple_list))\n",
    "crf_list"
   ]
  },
  {
   "cell_type": "code",
   "execution_count": 13,
   "metadata": {},
   "outputs": [
    {
     "data": {
      "text/plain": [
       "['O', 'O', 'O', 'O', 'O', 'O', 'O', 'O', 'O', 'O', 'O', 'O', 'O', 'O', 'O', 'O', 'O', 'O', 'O', 'O-O', 'O', 'H', 'O', 'O', 'O', 'O', 'O', 'O', 'O', 'O', 'O', 'O', 'O', 'O', 'O', 'O', 'O', 'O', 'O', 'O', 'O', 'O', 'O', 'H', 'O', 'O', 'O', 'O', 'O', 'O', 'O', 'O', 'O', 'O', 'O', 'O', 'O', 'O', 'O-RQ', 'O', 'O', 'O', 'O-RQ', 'O', 'O', 'O', 'O', 'O', 'O', 'O', 'O', 'O', 'O', 'O', 'O', 'O', 'O', 'H', 'O', 'O', 'O', 'O', 'O-O', 'O', 'O', 'O', 'O', 'O', 'O', 'O', 'O', 'O', 'O', 'O', 'O', 'O', 'O', 'O', 'O', 'O', 'O', 'O', 'O', 'O-O', 'O']"
      ]
     },
     "execution_count": 13,
     "metadata": {},
     "output_type": "execute_result"
    }
   ],
   "source": [
    "\n",
    "db_pos_list = []\n",
    "for navigable_parent in child_strs_list:\n",
    "    db_pos_list = cu.append_parts_of_speech_list(navigable_parent, pos_list=db_pos_list)\n",
    "db_pos_list"
   ]
  },
  {
   "cell_type": "code",
   "execution_count": 49,
   "metadata": {},
   "outputs": [
    {
     "name": "stdout",
     "output_type": "stream",
     "text": [
      "['O-JD', 'O-JD', 'O-IP', 'O-JD', 'O-CS', 'O-O', 'O-RQ', 'O-RQ', 'O-TS', 'O-RQ', 'O-RQ', 'O-SP', 'O-OL', 'H-PQ', 'O-CS', 'O-TS', 'O-RQ', 'O-RQ', 'O-CS', 'O-O', 'H-TS', 'O-CS', 'O-TS', 'O-TS', 'O-TS', 'O-TS', 'O-TS', 'O-RQ', 'O-TS', 'O-TS', 'O-TS', 'O-TS', 'O-TS', 'O-TS', 'O-TS', 'O-TS', 'O-TS', 'O-CS', 'O-TS', 'O-TS', 'O-TS', 'O-CS', 'O-RQ', 'O-CS', 'O-ER', 'O-RQ', 'O-TS', 'O-RQ', 'O-RQ', 'O-RQ', 'O-RQ', 'O-ER', 'O-RQ', 'O-ER', 'O-TS', 'O-RQ', 'O-RQ', 'O-RQ', 'O-RQ', 'O-RQ', 'O-RQ', 'O-ER', 'O-RQ', 'O-RQ', 'O-RQ', 'O-RQ', 'O-RQ', 'H-RQ', 'O-PQ', 'O-TS', 'O-RQ', 'O-RQ', 'O-RQ', 'O-RQ', 'O-RQ', 'O-PQ', 'O-RQ', 'O-CS', 'O-PQ', 'O-CS', 'O-CS', 'O-CS', 'O-O', 'O-LN', 'O-CS', 'O-CS', 'O-CS', 'O-CS', 'O-SP', 'O-CS', 'O-CS', 'O-CS', 'O-SP', 'O-CS', 'O-CS', 'O-CS', 'O-CS', 'O-CS', 'O-RQ', 'O-CS', 'O-LN', 'O-IP', 'O-CS', 'O-O', 'O-CS']\n",
      "[]\n"
     ]
    },
    {
     "data": {
      "text/html": [
       "0 O-JD) <span style=\"color:#8c564b80;\">My name is Kellen Jenkins; I am a Recruiter Coordinator with Software Guidance & Assistance. Your resume had some keywords that made me think you may be a fit for an opportunity that I have and I wanted to reach out to learn a little more about your current work situation. (O-JD Job Duration Non-header)</span><br />1 O-JD) <span style=\"color:#8c564b80;\">Please take a look at the job description I have attached below and see if it is a position that may be of interest to you. If you are a fit and interested in discussing this opportunity further, please forward me an e-mail me with an updated (O-JD Job Duration Non-header)</span><br />2 O-IP) <span style=\"color:#c7c7c780;\"><strong>Word version of your resume (O-IP Interview Procedures Non-header)</strong></span><br />3 O-JD) <span style=\"color:#8c564b80;\">and any information or job preferences that may be good for me to have before we speak (i.e. visa status, compensation, location, contract vs FT, etc.), as well as the best way to reach you. (O-JD Job Duration Non-header)</span><br />4 O-CS) <span style=\"color:#bcbd2280;\"><strong>RATES (O-CS Corporate Scope Non-header)</strong></span><br />5 O-O) <span style=\"color:#9edae580;\">70/hr - W2 (US Citizen or GC Holder) (O-O Other Non-header)</span><br />6 O-RQ) <span style=\"color:#aec7e880;\"><strong>TOP SKILLS (O-RQ Required Qualifications Non-header)</strong></span><br />7 O-RQ) <span style=\"color:#aec7e880;\">5-8 years of related work experience in advanced analytics or equivalent combination of transferable experience and education, Minimum five years of experience as a Data Scientist (O-RQ Required Qualifications Non-header)</span><br />8 O-TS) <span style=\"color:#1f77b480;\">Expert in analyzing large complex, multi-dimensional data sets with a variety of tools (O-TS Task Scope Non-header)</span><br />9 O-RQ) <span style=\"color:#aec7e880;\">Working knowledge of Python (O-RQ Required Qualifications Non-header)</span><br />10 O-RQ) <span style=\"color:#aec7e880;\">Working knowledge of data models; including experience with complex SQL queries (experience with both building and deploying data models) (O-RQ Required Qualifications Non-header)</span><br />11 O-SP) <span style=\"color:#c49c9480;\">Software Guidance & Assistance, Inc., (SGA), is searching for a (O-SP Supplemental Pay Non-header)</span><br />12 O-OL) <span style=\"color:#9467bd80;\"><strong>Sr. Data Scientist - REMOTE (O-OL Office Location Non-header)</strong></span><br />13 H-PQ) <span style=\"color:#ffbb78ff;\">for a (H-PQ Preferred Qualifications Header)</span><br />14 O-CS) <span style=\"color:#bcbd2280;\"><strong>Contract (O-CS Corporate Scope Non-header)</strong></span><br />15 O-TS) <span style=\"color:#1f77b480;\">assignment with one of our premier (O-TS Task Scope Non-header)</span><br />16 O-RQ) <span style=\"color:#aec7e880;\"><strong>Healthcare Services (O-RQ Required Qualifications Non-header)</strong></span><br />17 O-RQ) <span style=\"color:#aec7e880;\">clients in (O-RQ Required Qualifications Non-header)</span><br />18 O-CS) <span style=\"color:#bcbd2280;\"><strong>Jacksonville, FL (O-CS Corporate Scope Non-header)</strong></span><br />19 O-O) <span style=\"color:#9edae580;\">. (O-O Other Non-header)</span><br />20 H-TS) <span style=\"color:#1f77b4ff;\"><strong>Responsibilities (H-TS Task Scope Header)</strong></span><br />21 O-CS) <span style=\"color:#bcbd2280;\">: (O-CS Corporate Scope Non-header)</span><br />22 O-TS) <span style=\"color:#1f77b480;\"><li>Support large projects, and manage smaller projects in their entirety (O-TS Task Scope Non-header)</li></span><br />23 O-TS) <span style=\"color:#1f77b480;\"><li>Partner with senior team members to assess customer needs and define business questions. Emerging ability to influence customers to take action on analytical insights. (O-TS Task Scope Non-header)</li></span><br />24 O-TS) <span style=\"color:#1f77b480;\"><li>Communicate results and insights, both verbally and written (including visual graphics), in a clear and concise manner to a non-technical audience. (O-TS Task Scope Non-header)</li></span><br />25 O-TS) <span style=\"color:#1f77b480;\"><li>Identify and communicate roadblocks. (O-TS Task Scope Non-header)</li></span><br />26 O-TS) <span style=\"color:#1f77b480;\"><li>Work on multiple concurrent projects and accommodate frequent interruptions and changing priorities (O-TS Task Scope Non-header)</li></span><br />27 O-RQ) <span style=\"color:#aec7e880;\"><li>Effectively participate in meetings with customers and emerging ability to guide discussion and decision making. (O-RQ Required Qualifications Non-header)</li></span><br />28 O-TS) <span style=\"color:#1f77b480;\">Data Analysis (O-TS Task Scope Non-header)</span><br />29 O-TS) <span style=\"color:#1f77b480;\"><li>Acquire and bring structure to data so that it can be used in existing and new data systems. (O-TS Task Scope Non-header)</li></span><br />30 O-TS) <span style=\"color:#1f77b480;\"><li>Build tools that help you and the other Data Scientists translate insights into action at scale. (O-TS Task Scope Non-header)</li></span><br />31 O-TS) <span style=\"color:#1f77b480;\"><li>Identify, define and translate business needs/problems into analytical questions. (O-TS Task Scope Non-header)</li></span><br />32 O-TS) <span style=\"color:#1f77b480;\"><li>Design and execute experiments, models, algorithms, and visualizations (O-TS Task Scope Non-header)</li></span><br />33 O-TS) <span style=\"color:#1f77b480;\"><li>Understand data sources and limitations, warehousing system, and the impact of the data on business decisions. (O-TS Task Scope Non-header)</li></span><br />34 O-TS) <span style=\"color:#1f77b480;\"><li>Identify, retrieve, and manipulate data from internal and external datasets. (O-TS Task Scope Non-header)</li></span><br />35 O-TS) <span style=\"color:#1f77b480;\"><li>Apply statistical and computational methodologies to provide actionable insights and identify opportunities that optimize quality, consumer experience, and healthcare costs. (O-TS Task Scope Non-header)</li></span><br />36 O-TS) <span style=\"color:#1f77b480;\"><li>Develop scalable, efficient, and automated processes for large-scale data analyses and model development, validation, and implementation. (O-TS Task Scope Non-header)</li></span><br />37 O-CS) <span style=\"color:#bcbd2280;\">Reporting & Other (O-CS Corporate Scope Non-header)</span><br />38 O-TS) <span style=\"color:#1f77b480;\"><li>Contribute to technical reports, white papers, and publications. (O-TS Task Scope Non-header)</li></span><br />39 O-TS) <span style=\"color:#1f77b480;\"><li>Stay current on new processes and technology in Data Science and communicate findings to team (O-TS Task Scope Non-header)</li></span><br />40 O-TS) <span style=\"color:#1f77b480;\"><li>Perform all other tasks as assigned (O-TS Task Scope Non-header)</li></span><br />41 O-CS) <span style=\"color:#bcbd2280;\"><strong>Required (O-CS Corporate Scope Non-header)</strong></span><br />42 O-RQ) <span style=\"color:#aec7e880;\"><strong>Skills (O-RQ Required Qualifications Non-header)</strong></span><br />43 O-CS) <span style=\"color:#bcbd2280;\">: (O-CS Corporate Scope Non-header)</span><br />44 O-ER) <span style=\"color:#f7b6d280;\"><li>Bachelor's Degree in Data Science, Applied Mathematics, Computer science (e.g. specialization: Machine learning/Artificial Intelligence /Visualization, databases, and Big Data), Statistics, Epidemiology, Health Services Research, or closely related field with Data Science specialization or additional related equivalent work experience (O-ER Education Requirements Non-header)</li></span><br />45 O-RQ) <span style=\"color:#aec7e880;\"><li>5-8 years of related work experience in advanced analytics or equivalent combination of transferable experience and education, Minimum five years of experience as a Data Scientist (O-RQ Required Qualifications Non-header)</li></span><br />46 O-TS) <span style=\"color:#1f77b480;\"><li>Expert in analyzing large complex, multi-dimensional data sets with a variety of tools (O-TS Task Scope Non-header)</li></span><br />47 O-RQ) <span style=\"color:#aec7e880;\"><li>Working knowledge of Python (O-RQ Required Qualifications Non-header)</li></span><br />48 O-RQ) <span style=\"color:#aec7e880;\"><li>Working knowledge of data models; including experience with complex SQL queries (experience with both building and deploying data models) (O-RQ Required Qualifications Non-header)</li></span><br />49 O-RQ) <span style=\"color:#aec7e880;\"><li>5 years experience as a Data Scientist (O-RQ Required Qualifications Non-header)</li></span><br />50 O-RQ) <span style=\"color:#aec7e880;\"><li>PhD or Masters in a quantitative discipline: Computer Science, Statistics, Applied Mathematics, Operations Research, Engineering (O-RQ Required Qualifications Non-header)</li></span><br />51 O-ER) <span style=\"color:#f7b6d280;\"><li>Related Bachelor's degree in Data Science, Applied Mathematics, Computer science (e.g. specialization: Machine learning/Artificial Intelligence /Visualization, databases, and Big Data), Statistics, Epidemiology, Health Services Research, or closely related field with Data Science specialization or additional related equivalent work experience (O-ER Education Requirements Non-header)</li></span><br />52 O-RQ) <span style=\"color:#aec7e880;\"><li>Working knowledge of health care systems and healthcare terminology (O-RQ Required Qualifications Non-header)</li></span><br />53 O-ER) <span style=\"color:#f7b6d280;\"><li>Expert in various healthcare datasets. (O-ER Education Requirements Non-header)</li></span><br />54 O-TS) <span style=\"color:#1f77b480;\"><li>Expert in analyzing large complex, multi-dimensional data sets with a variety of tools (O-TS Task Scope Non-header)</li></span><br />55 O-RQ) <span style=\"color:#aec7e880;\"><li>Ability to thrive and demonstrate constant applied learning in highly complex, interdisciplinary, and dynamic work environment (O-RQ Required Qualifications Non-header)</li></span><br />56 O-RQ) <span style=\"color:#aec7e880;\"><li>Design anomaly detection models to detect and eliminate FWA in claim payments. (O-RQ Required Qualifications Non-header)</li></span><br />57 O-RQ) <span style=\"color:#aec7e880;\"><li>Experience in implementing Machine Learning Models to gain efficiencies in Claims Prepay / Post Pay reviews (O-RQ Required Qualifications Non-header)</li></span><br />58 O-RQ) <span style=\"color:#aec7e880;\"><li>Python (O-RQ Required Qualifications Non-header)</li></span><br />59 O-RQ) <span style=\"color:#aec7e880;\"><li>Data models - Experience with complex SQL queries, experience with both building and deploying data models. (O-RQ Required Qualifications Non-header)</li></span><br />60 O-RQ) <span style=\"color:#aec7e880;\"><li>Strong programming experience in Python (O-RQ Required Qualifications Non-header)</li></span><br />61 O-ER) <span style=\"color:#f7b6d280;\"><li>Requires expert proficiency in SQL (O-ER Education Requirements Non-header)</li></span><br />62 O-RQ) <span style=\"color:#aec7e880;\"><li>Strong analytical and problem-solving skills (O-RQ Required Qualifications Non-header)</li></span><br />63 O-RQ) <span style=\"color:#aec7e880;\"><li>Experience in supporting large projects, and manage smaller projects in their entirety (O-RQ Required Qualifications Non-header)</li></span><br />64 O-RQ) <span style=\"color:#aec7e880;\"><li>Ability to partner with senior team members to assess customer needs and define business questions. Emerging ability to influence customers to take action on analytical insights. (O-RQ Required Qualifications Non-header)</li></span><br />65 O-RQ) <span style=\"color:#aec7e880;\"><li>Ability to communicate results and insights, both verbally and written (including visual graphics), in a clear and concise manner to a non-technical audience. (O-RQ Required Qualifications Non-header)</li></span><br />66 O-RQ) <span style=\"color:#aec7e880;\"><li>Must have applied experience with advanced analytics e.g. predictive analytics models (O-RQ Required Qualifications Non-header)</li></span><br />67 H-RQ) <span style=\"color:#aec7e8ff;\"><li>Must have applied experience in Machine Learning (H-RQ Required Qualifications Header)</li></span><br />68 O-PQ) <span style=\"color:#ffbb7880;\"><li>Experience in Big Data - e.g. s3/presto is a plus (O-PQ Preferred Qualifications Non-header)</li></span><br />69 O-TS) <span style=\"color:#1f77b480;\"><li>Business Intelligence tool development (O-TS Task Scope Non-header)</li></span><br />70 O-RQ) <span style=\"color:#aec7e880;\"><li>Other programming experience - Java, Perl, UNIX/Linux scripting (O-RQ Required Qualifications Non-header)</li></span><br />71 O-RQ) <span style=\"color:#aec7e880;\"><li>Healthcare, medical, or pharmaceutical work experience (O-RQ Required Qualifications Non-header)</li></span><br />72 O-RQ) <span style=\"color:#aec7e880;\"><li>Experience with analysis around quality, consumer experience, and healthcare costs (O-RQ Required Qualifications Non-header)</li></span><br />73 O-RQ) <span style=\"color:#aec7e880;\"><li>Experience in consumer analytics (O-RQ Required Qualifications Non-header)</li></span><br />74 O-RQ) <span style=\"color:#aec7e880;\"><li>Experience in business analytics (O-RQ Required Qualifications Non-header)</li></span><br />75 O-PQ) <span style=\"color:#ffbb7880;\"><strong>Preferred (O-PQ Preferred Qualifications Non-header)</strong></span><br />76 O-RQ) <span style=\"color:#aec7e880;\"><strong>Skills (O-RQ Required Qualifications Non-header)</strong></span><br />77 O-CS) <span style=\"color:#bcbd2280;\">: (O-CS Corporate Scope Non-header)</span><br />78 O-PQ) <span style=\"color:#ffbb7880;\"><li>Worked in Claims and used Machine Learning models is a plus but not a hard requirement. (O-PQ Preferred Qualifications Non-header)</li></span><br />79 O-CS) <span style=\"color:#bcbd2280;\"><li>Healthcare Industry experience (care/provider/claims) (O-CS Corporate Scope Non-header)</li></span><br />80 O-CS) <span style=\"color:#bcbd2280;\">SGA is a technology and resource solutions provider driven to stand out. We are a women-owned business. Our mission: to solve big IT problems with a more personal, boutique approach. Each year, we match consultants like you to more than 1,000 engagements. When we say let's work better together, we mean it. You'll join a diverse team built on these core values: customer service, employee development, and quality and integrity in everything we do. Be yourself, love what you do and find your passion at work. Please find us at (O-CS Corporate Scope Non-header)</span><br />81 O-CS) <span style=\"color:#bcbd2280;\"><a data-saferedirecturl=\"https://www.google.com/url?q=https://sgainc.com&amp;source=gmail&amp;ust=1655323463643000&amp;usg=AOvVaw0jhzTnzg6p3Tgk1Ba3LNIG\" href=\"https://sgainc.com\" target=\"_blank\">https://sgainc.com (O-CS Corporate Scope Non-header)</a></span><br />82 O-O) <span style=\"color:#9edae580;\">. (O-O Other Non-header)</span><br />83 O-LN) <span style=\"color:#98df8a80;\">EEO Employer: Race, Color, Sex, Sexual Orientation, Gender Identity, Religion, National Origin, Disability, Veteran Status, Age, Marital Status, Pregnancy, Genetic Information, or Other Legally Protected Status. (O-LN Legal Notifications Non-header)</span><br />84 O-CS) <span style=\"color:#bcbd2280;\">Best Regards, (O-CS Corporate Scope Non-header)</span><br />85 O-CS) <span style=\"color:#bcbd2280;\"><span style=\"font-family:Tahoma,sans-serif\">Kellen Jenkins (O-CS Corporate Scope Non-header)</span></span><br />86 O-CS) <span style=\"color:#bcbd2280;\"><span style=\"font-family:Tahoma,sans-serif\">– (O-CS Corporate Scope Non-header)</span></span><br />87 O-CS) <span style=\"color:#bcbd2280;\"><span style=\"font-size:10.0pt\">IT Recruiting Coordinator (O-CS Corporate Scope Non-header)</span></span><br />88 O-SP) <span style=\"color:#c49c9480;\"><span style=\"font-size:10.0pt\">SGA – Software Guidance &amp; Assistance, Inc. (O-SP Supplemental Pay Non-header)</span></span><br />89 O-CS) <span style=\"color:#bcbd2280;\"><span style=\"font-size:10.0pt\">1311 N. Westshore Blvd., Suite 114, Tampa, FL 33607 (O-CS Corporate Scope Non-header)</span></span><br />90 O-CS) <span style=\"color:#bcbd2280;\"><span style=\"font-size:10.0pt\">Direct: (O-CS Corporate Scope Non-header)</span></span><br />91 O-CS) <span style=\"color:#bcbd2280;\"><span style=\"font-size:10.0pt\">(914) 366-5959 (O-CS Corporate Scope Non-header)</span></span><br />92 O-SP) <span style=\"color:#c49c9480;\"><span style=\"font-size:10.0pt\">Office: (O-SP Supplemental Pay Non-header)</span></span><br />93 O-CS) <span style=\"color:#bcbd2280;\"><span style=\"font-size:10.0pt\">(914) 366-5900 (O-CS Corporate Scope Non-header)</span></span><br />94 O-CS) <span style=\"color:#bcbd2280;\"><span style=\"font-size:10.0pt\">Fax: (O-CS Corporate Scope Non-header)</span></span><br />95 O-CS) <span style=\"color:#bcbd2280;\"><span style=\"font-size:10.0pt\">(914) 206-4204 (O-CS Corporate Scope Non-header)</span></span><br />96 O-CS) <span style=\"color:#bcbd2280;\"><span style=\"font-size:10.0pt\">Linkedin: (O-CS Corporate Scope Non-header)</span></span><br />97 O-CS) <span style=\"color:#bcbd2280;\"><a data-saferedirecturl=\"https://www.google.com/url?q=https://www.linkedin.com/in/kellen-jenkins-916372107/&amp;source=gmail&amp;ust=1655323463643000&amp;usg=AOvVaw00HkYhfvHfGHfiz2mKxwaq\" href=\"https://www.linkedin.com/in/kellen-jenkins-916372107/\" target=\"_blank\">My Profile (O-CS Corporate Scope Non-header)</a></span><br />98 O-RQ) <span style=\"color:#aec7e880;\"><span style=\"font-size:10.0pt\">Certified Women’s Business Enterprise – WBE (O-RQ Required Qualifications Non-header)</span></span><br />99 O-CS) <span style=\"color:#bcbd2280;\"><a data-saferedirecturl=\"https://www.google.com/url?q=http://www.sgainc.comhttp://www.linkedin.com/in/thomasestrella&amp;source=gmail&amp;ust=1655323463643000&amp;usg=AOvVaw229v1xeGBDq97TrLZsCRHg\" href=\"http://www.sgainc.comhttp://www.linkedin.com/in/thomasestrella\" target=\"_blank\" title=\"http://www.sgainc.com/\">www.sgainc.com (O-CS Corporate Scope Non-header)</a></span><br />100 O-LN) <span style=\"color:#98df8a80;\">You have received this message because either you have contacted our Company to express interest in employment, or you have posted your Resume in an area accessible to recruiters or HR professionals, which implies an interest in being contacted regarding employment opportunities. (O-LN Legal Notifications Non-header)</span><br />101 O-IP) <span style=\"color:#c7c7c780;\">If you would prefer to no longer receive any emails whatsoever from our Company, you may opt out at anytime by clicking (O-IP Interview Procedures Non-header)</span><br />102 O-CS) <span style=\"color:#bcbd2280;\"><a data-saferedirecturl=\"https://www.google.com/url?q=http://jobs.sgainc.com/optout.jsp?d%3D32395f646176652e6261626269747440676d61696c2e636f6d%26e%3D12f%26t11%3D1655237621562&amp;source=gmail&amp;ust=1655323463643000&amp;usg=AOvVaw0fKX_mVJi401f2jgGtfVXZ\" href=\"http://jobs.sgainc.com/optout.jsp?d=32395f646176652e6261626269747440676d61696c2e636f6d&amp;e=12f&amp;t11=1655237621562\" target=\"_blank\">here (O-CS Corporate Scope Non-header)</a></span><br />103 O-O) <span style=\"color:#9edae580;\">. (O-O Other Non-header)</span><br />104 O-CS) <span style=\"color:#bcbd2280;\"><a data-saferedirecturl=\"https://www.google.com/url?q=http://jobs.sgainc.com/employers/open_candidate.jsp?canid%3D988258633841511913811425843697325%26teamid%3D0%26docids%3D-1%26enc%3D1%26rfqid%3D3716461&amp;source=gmail&amp;ust=1655323463643000&amp;usg=AOvVaw2LVTarGVNvnwzV--k90g4I\" href=\"http://jobs.sgainc.com/employers/open_candidate.jsp?canid=988258633841511913811425843697325&amp;teamid=0&amp;docids=-1&amp;enc=1&amp;rfqid=3716461\" target=\"_blank\">Lookup Candidate (O-CS Corporate Scope Non-header)</a></span><br />"
      ],
      "text/plain": [
       "<IPython.core.display.HTML object>"
      ]
     },
     "metadata": {},
     "output_type": "display_data"
    },
    {
     "name": "stdout",
     "output_type": "stream",
     "text": [
      "[]\n"
     ]
    }
   ],
   "source": [
    "\n",
    "from matplotlib.colors import to_hex\n",
    "from IPython.display import HTML, display\n",
    "\n",
    "# Make an RGB dictionary of all the parts-of-speech symbols\n",
    "rgba_dict = su.get_pos_color_dictionary()\n",
    "\n",
    "html_str = ''\n",
    "pos_list = []\n",
    "for i, (crf_symbol, db_symbol) in enumerate(zip(crf_list, db_pos_list)):\n",
    "    if db_symbol in [None, 'O', 'H']:\n",
    "        pos_list.append(crf_symbol)\n",
    "    else:\n",
    "        pos_list.append(db_symbol)\n",
    "print(pos_list)\n",
    "indices_list = su.get_section(pos_list)\n",
    "print(indices_list)\n",
    "for i, (child_str, pos_symbol) in enumerate(zip(child_strs_list, pos_list)):\n",
    "    rgba = rgba_dict[pos_symbol]\n",
    "    hex_str = to_hex(rgba, keep_alpha=True)\n",
    "    if len(indices_list) and (i == min(indices_list)):\n",
    "        html_str += '<hr />'\n",
    "    child_str = su.append_pos_symbol(child_str, pos_symbol, use_explanation=True)\n",
    "    html_str += f'{i+0} {pos_symbol}) <span style=\"color:{hex_str};\">{child_str}</span><br />'\n",
    "    if len(indices_list) and (i == max(indices_list)):\n",
    "        html_str += '<hr />'\n",
    "display(HTML(html_str))\n",
    "print(indices_list)"
   ]
  },
  {
   "cell_type": "markdown",
   "metadata": {},
   "source": [
    "\n",
    "----"
   ]
  },
  {
   "cell_type": "code",
   "execution_count": null,
   "metadata": {},
   "outputs": [],
   "source": [
    "\n",
    "raise"
   ]
  },
  {
   "cell_type": "code",
   "execution_count": 161,
   "metadata": {},
   "outputs": [
    {
     "name": "stdout",
     "output_type": "stream",
     "text": [
      "SGA is a technology and resource solutions provider driven to stand out. We are a women-owned business. Our mission: to solve big IT problems with a more personal, boutique approach. Each year, we match consultants like you to more than 1,000 engagements. When we say let\\'s work better together, we mean it. You\\'ll join a diverse team built on these core values: customer service, employee development, and quality and integrity in everything we do. Be yourself, love what you do and find your passion at work. Please find us at\n"
     ]
    }
   ],
   "source": [
    "\n",
    "# Hand-label individual child strings\n",
    "idx = 80\n",
    "child_str = child_strs_list[idx]\n",
    "child_str = cu.clean_text(child_str)\n",
    "print(child_str)"
   ]
  },
  {
   "cell_type": "code",
   "execution_count": 159,
   "metadata": {},
   "outputs": [
    {
     "name": "stdout",
     "output_type": "stream",
     "text": [
      "Pickling to C:\\Users\\daveb\\OneDrive\\Documents\\GitHub\\job-hunting\\saves\\pkl\\basic_quals_dict.pkl\n",
      "\"<li>Healthcare Industry experience (care/provider/claims)</li>\" in basic_quals_dict: 0\n"
     ]
    }
   ],
   "source": [
    "\n",
    "# Hand-label this particular child string in the quals dictionary\n",
    "# child_str = 'Spark, Camel, Python, R, Pyspark, Zepplin, Java, Scala'\n",
    "basic_quals_dict = s.load_object('basic_quals_dict')\n",
    "basic_quals_dict[child_str] = 0\n",
    "s.store_objects(basic_quals_dict=basic_quals_dict)\n",
    "print(f'\"{child_str}\" in basic_quals_dict: {basic_quals_dict[child_str]}')"
   ]
  },
  {
   "cell_type": "code",
   "execution_count": 162,
   "metadata": {},
   "outputs": [
    {
     "data": {
      "text/plain": [
       "[{'navigable_parent': \"SGA is a technology and resource solutions provider driven to stand out. We are a women-owned business. Our mission: to solve big IT problems with a more personal, boutique approach. Each year, we match consultants like you to more than 1,000 engagements. When we say let's work better together, we mean it. You'll join a diverse team built on these core values: customer service, employee development, and quality and integrity in everything we do. Be yourself, love what you do and find your passion at work. Please find us at\", 'is_header': 'False', 'is_task_scope': 'False', 'is_minimum_qualification': 'False', 'is_preferred_qualification': 'False', 'is_legal_notification': 'False', 'is_job_title': 'False', 'is_office_location': 'False', 'is_job_duration': 'False', 'is_supplemental_pay': 'False', 'is_educational_requirement': 'False', 'is_interview_procedure': 'False', 'is_corporate_scope': 'True', 'is_posting_date': 'False', 'is_other': 'False'}]"
      ]
     },
     "execution_count": 162,
     "metadata": {},
     "output_type": "execute_result"
    }
   ],
   "source": [
    "\n",
    "cypher_str = f'''\n",
    "    MATCH (np:NavigableParents {{navigable_parent: '{child_str}'}})\n",
    "    SET\n",
    "        np.is_header = 'False',\n",
    "        np.is_task_scope = 'False',\n",
    "        np.is_minimum_qualification = 'False',\n",
    "        np.is_preferred_qualification = 'False',\n",
    "        np.is_legal_notification = 'False',\n",
    "        np.is_job_title = 'False',\n",
    "        np.is_office_location = 'False',\n",
    "        np.is_job_duration = 'False',\n",
    "        np.is_supplemental_pay = 'False',\n",
    "        np.is_educational_requirement = 'False',\n",
    "        np.is_interview_procedure = 'False',\n",
    "        np.is_corporate_scope = 'True',\n",
    "        np.is_posting_date = 'False',\n",
    "        np.is_other = 'False'\n",
    "    RETURN\n",
    "        np.navigable_parent AS navigable_parent,\n",
    "        np.is_header AS is_header,\n",
    "        np.is_task_scope AS is_task_scope,\n",
    "        np.is_minimum_qualification AS is_minimum_qualification,\n",
    "        np.is_preferred_qualification AS is_preferred_qualification,\n",
    "        np.is_legal_notification AS is_legal_notification,\n",
    "        np.is_job_title AS is_job_title,\n",
    "        np.is_office_location AS is_office_location,\n",
    "        np.is_job_duration AS is_job_duration,\n",
    "        np.is_supplemental_pay AS is_supplemental_pay,\n",
    "        np.is_educational_requirement AS is_educational_requirement,\n",
    "        np.is_interview_procedure AS is_interview_procedure,\n",
    "        np.is_corporate_scope AS is_corporate_scope,\n",
    "        np.is_posting_date AS is_posting_date,\n",
    "        np.is_other AS is_other;'''\n",
    "# print(cypher_str)\n",
    "with cu.driver.session() as session:\n",
    "    row_objs_list = session.write_transaction(cu.do_cypher_tx, cypher_str)\n",
    "row_objs_list"
   ]
  },
  {
   "cell_type": "code",
   "execution_count": null,
   "metadata": {},
   "outputs": [],
   "source": [
    "\n",
    "cypher_str = f'''\n",
    "    MATCH (np:NavigableParents {{navigable_parent: '{child_str}'}})\n",
    "    RETURN\n",
    "        np.navigable_parent AS navigable_parent,\n",
    "        np.is_header AS is_header,\n",
    "        np.is_task_scope AS is_task_scope,\n",
    "        np.is_minimum_qualification AS is_minimum_qualification,\n",
    "        np.is_preferred_qualification AS is_preferred_qualification,\n",
    "        np.is_legal_notification AS is_legal_notification,\n",
    "        np.is_job_title AS is_job_title,\n",
    "        np.is_office_location AS is_office_location,\n",
    "        np.is_job_duration AS is_job_duration,\n",
    "        np.is_supplemental_pay AS is_supplemental_pay,\n",
    "        np.is_educational_requirement AS is_educational_requirement,\n",
    "        np.is_interview_procedure AS is_interview_procedure,\n",
    "        np.is_corporate_scope AS is_corporate_scope,\n",
    "        np.is_posting_date AS is_posting_date,\n",
    "        np.is_other AS is_other;'''\n",
    "# print(cypher_str)\n",
    "with cu.driver.session() as session:\n",
    "    row_objs_list = session.write_transaction(cu.do_cypher_tx, cypher_str)\n",
    "row_objs_list"
   ]
  },
  {
   "cell_type": "code",
   "execution_count": null,
   "metadata": {},
   "outputs": [],
   "source": [
    "\n",
    "# Add URL\n",
    "posting_url = 'https://macro-eyes.com/careers/machinelearning'\n",
    "posting_url = cu.clean_text(posting_url)\n",
    "cypher_str = f'''\n",
    "    MATCH (fn:FileNames {{file_name: \"{file_name}\"}})\n",
    "    SET fn.posting_url = \"{posting_url}\"\n",
    "    RETURN fn;'''\n",
    "with cu.driver.session() as session:\n",
    "    row_objs_list = session.write_transaction(cu.do_cypher_tx, cypher_str)\n",
    "    print(row_objs_list)"
   ]
  },
  {
   "cell_type": "code",
   "execution_count": null,
   "metadata": {},
   "outputs": [],
   "source": []
  }
 ],
 "metadata": {
  "anaconda-cloud": {},
  "kernelspec": {
   "display_name": "Python 3 (ipykernel)",
   "language": "python",
   "name": "python3"
  },
  "language_info": {
   "codemirror_mode": {
    "name": "ipython",
    "version": 3
   },
   "file_extension": ".py",
   "mimetype": "text/x-python",
   "name": "python",
   "nbconvert_exporter": "python",
   "pygments_lexer": "ipython3",
   "version": "3.9.7"
  }
 },
 "nbformat": 4,
 "nbformat_minor": 4
}
