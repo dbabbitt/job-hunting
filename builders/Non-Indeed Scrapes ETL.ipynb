{
 "cells": [
  {
   "cell_type": "code",
   "execution_count": 1,
   "metadata": {},
   "outputs": [
    {
     "name": "stdout",
     "output_type": "stream",
     "text": [
      "Pretty printing has been turned OFF\n"
     ]
    }
   ],
   "source": [
    "\n",
    "%pprint"
   ]
  },
  {
   "cell_type": "code",
   "execution_count": 2,
   "metadata": {},
   "outputs": [],
   "source": [
    "\n",
    "import sys\n",
    "\n",
    "# Insert at 1, 0 is the script path (or '' in REPL)\n",
    "sys.path.insert(1, '../py')"
   ]
  },
  {
   "cell_type": "code",
   "execution_count": 3,
   "metadata": {},
   "outputs": [
    {
     "name": "stdout",
     "output_type": "stream",
     "text": [
      "CPU times: total: 52.6 s\n",
      "Wall time: 58.5 s\n"
     ]
    }
   ],
   "source": [
    "\n",
    "%%time\n",
    "from pandas import DataFrame\n",
    "\n",
    "from storage import Storage\n",
    "s = Storage()\n",
    "\n",
    "from ha_utils import HeaderAnalysis\n",
    "ha = HeaderAnalysis(verbose=False)\n",
    "\n",
    "from scrape_utils import WebScrapingUtilities\n",
    "wsu = WebScrapingUtilities()\n",
    "uri = wsu.secrets_json['neo4j']['connect_url']\n",
    "user =  wsu.secrets_json['neo4j']['username']\n",
    "password = wsu.secrets_json['neo4j']['password']\n",
    "\n",
    "from cypher_utils import CypherUtilities\n",
    "cu = CypherUtilities(uri=uri, user=user, password=password, driver=None, s=s, ha=ha)\n",
    "\n",
    "from hc_utils import HeaderCategories\n",
    "hc = HeaderCategories(cu=cu, verbose=False)\n",
    "\n",
    "from section_utils import SectionUtilities\n",
    "su = SectionUtilities(s=s, ha=ha, cu=cu, verbose=False)\n",
    "\n",
    "from lr_utils import LrUtilities\n",
    "lru = LrUtilities(ha=ha, cu=cu, hc=hc, verbose=False)\n",
    "lru.build_isheader_logistic_regression_elements()\n",
    "lru.build_pos_logistic_regression_elements()\n",
    "\n",
    "import warnings\n",
    "warnings.filterwarnings('ignore')"
   ]
  },
  {
   "cell_type": "code",
   "execution_count": 4,
   "metadata": {},
   "outputs": [],
   "source": [
    "\n",
    "from datetime import datetime\n",
    "from urllib.parse import urlparse, parse_qs\n",
    "from IPython.display import clear_output\n",
    "%run ../load_magic/dataframes.py"
   ]
  },
  {
   "cell_type": "markdown",
   "metadata": {},
   "source": [
    "\n",
    "----"
   ]
  },
  {
   "cell_type": "code",
   "execution_count": 125,
   "metadata": {},
   "outputs": [
    {
     "name": "stdout",
     "output_type": "stream",
     "text": [
      "Machine_Learning_Scientist.html\n"
     ]
    }
   ],
   "source": [
    "\n",
    "import shutil\n",
    "\n",
    "file_path = r'C:\\Users\\daveb\\OneDrive\\Documents\\GitHub\\job-hunting\\data\\html\\other_email.html'\n",
    "file_name = re.sub(r'\\W+', ' ',\n",
    "                   'Machine Learning Scientist').strip().replace(' ', '_') + '.html'\n",
    "new_file_path = os.path.join(cu.SAVES_HTML_FOLDER, file_name)\n",
    "if not os.path.isfile(new_file_path):\n",
    "    print(file_name)\n",
    "    shutil.copy(file_path, os.path.join(cu.SAVES_HTML_FOLDER, file_name))\n",
    "    page_soup = get_page_soup(file_path)\n",
    "    div_soup = page_soup.find_all(name='div', id='jobDescriptionText')[0]\n",
    "    child_strs_list = ha.get_navigable_children(div_soup, [])\n",
    "    cu.ensure_filename(file_name, verbose=False)\n",
    "    cu.populate_from_child_strings(child_strs_list, file_name, verbose=False)"
   ]
  },
  {
   "cell_type": "code",
   "execution_count": 126,
   "metadata": {},
   "outputs": [
    {
     "name": "stdout",
     "output_type": "stream",
     "text": [
      "['plaintext', 'strong', 'plaintext', 'p', 'plaintext', 'a', 'plaintext', 'p', 'p', 'p', 'h4', 'li', 'li', 'li', 'li', 'li', 'li', 'li', 'li', 'strong', 'plaintext', 'plaintext', 'h4', 'li', 'li', 'li', 'li', 'li', 'li', 'li', 'li', 'p', 'h4', 'li', 'li', 'li', 'li', 'li', 'strong', 'plaintext', 'h4', 'li', 'li', 'li', 'li', 'h4', 'li', 'li', 'li', 'li', 'li', 'p', 'strong', 'plaintext', 'a']\n"
     ]
    }
   ],
   "source": [
    "\n",
    "child_tags_list = ha.get_child_tags_list(child_strs_list)\n",
    "print(child_tags_list)"
   ]
  },
  {
   "cell_type": "code",
   "execution_count": 127,
   "metadata": {},
   "outputs": [],
   "source": [
    "\n",
    "is_header_list = []\n",
    "for is_header, child_str in zip(ha.get_is_header_list(child_strs_list), child_strs_list):\n",
    "    if is_header is None:\n",
    "        probs_list = lru.ISHEADER_PREDICT_PERCENT_FIT(child_str)\n",
    "        idx = probs_list.index(max(probs_list))\n",
    "        is_header = [True, False][idx]\n",
    "    is_header_list.append(is_header)"
   ]
  },
  {
   "cell_type": "raw",
   "metadata": {},
   "source": [
    "\n",
    "# cu.create_h_pickle(verbose=True)\n",
    "NAVIGABLE_PARENT_IS_HEADER_DICT = s.load_object('NAVIGABLE_PARENT_IS_HEADER_DICT')\n",
    "for i, (is_header, child_str) in enumerate(zip(is_header_list, child_strs_list)):\n",
    "    print(i, NAVIGABLE_PARENT_IS_HEADER_DICT.get(child_str), is_header, child_str)"
   ]
  },
  {
   "cell_type": "code",
   "execution_count": 128,
   "metadata": {},
   "outputs": [
    {
     "data": {
      "text/plain": [
       "{'initial_tag': 'plaintext', 'is_header': True, 'is_task_scope': None, 'is_minimum_qualification': None, 'is_preferred_qualification': None, 'is_legal_notification': None, 'is_job_title': None, 'is_office_location': None, 'is_job_duration': None, 'is_supplemental_pay': None, 'is_educational_requirement': None, 'is_interview_procedure': None, 'is_corporate_scope': None, 'is_posting_date': None, 'is_other': None, 'child_str': 'Macro-Eyes is recruiting'}"
      ]
     },
     "execution_count": 128,
     "metadata": {},
     "output_type": "execute_result"
    }
   ],
   "source": [
    "\n",
    "feature_dict_list = hc.get_feature_dict_list(child_tags_list, is_header_list, child_strs_list)\n",
    "feature_dict_list[0]"
   ]
  },
  {
   "cell_type": "code",
   "execution_count": 129,
   "metadata": {},
   "outputs": [
    {
     "data": {
      "text/plain": [
       "('plaintext', 'Macro-Eyes is recruiting', 'O-CS')"
      ]
     },
     "execution_count": 129,
     "metadata": {},
     "output_type": "execute_result"
    }
   ],
   "source": [
    "\n",
    "feature_tuple_list = []\n",
    "for feature_dict in feature_dict_list:\n",
    "    feature_tuple_list.append(hc.get_feature_tuple(feature_dict, lru.pos_lr_predict_single))\n",
    "feature_tuple_list[0]"
   ]
  },
  {
   "cell_type": "code",
   "execution_count": 130,
   "metadata": {},
   "outputs": [
    {
     "data": {
      "text/plain": [
       "['O-CS', 'O-RQ', 'O-TS', 'O-TS', 'O-TS', 'O-CS', 'O-CS', 'O-TS', 'O-CS', 'O-RQ', 'O-TS', 'O-TS', 'O-RQ', 'O-RQ', 'O-RQ', 'O-RQ', 'O-TS', 'O-RQ', 'O-RQ', 'O-CS', 'O-TS', 'O-RQ', 'O-CS', 'O-CS', 'O-RQ', 'O-CS', 'O-TS', 'O-CS', 'O-TS', 'O-OL', 'O-CS', 'O-CS', 'O-CS', 'O-TS', 'O-SP', 'O-RQ', 'O-RQ', 'O-TS', 'O-CS', 'O-RQ', 'O-CS', 'O-TS', 'O-CS', 'O-TS', 'O-TS', 'O-O', 'O-CS', 'O-CS', 'O-SP', 'O-OL', 'O-OL', 'O-LN', 'O-CS', 'O-LN', 'O-CS']"
      ]
     },
     "execution_count": 130,
     "metadata": {},
     "output_type": "execute_result"
    }
   ],
   "source": [
    "\n",
    "from crf_utils import CrfUtilities\n",
    "crf = CrfUtilities(ha=ha, hc=hc, cu=cu, verbose=False)\n",
    "crf_list = crf.CRF.predict_single(crf.sent2features(feature_tuple_list))\n",
    "crf_list"
   ]
  },
  {
   "cell_type": "code",
   "execution_count": 131,
   "metadata": {},
   "outputs": [
    {
     "data": {
      "text/plain": [
       "['O', 'O', 'O', 'O', 'O', 'O', 'O', 'O', 'O', 'O', 'O', 'O', 'O', 'O', 'O', 'O', 'O', 'O', 'O', 'O', 'O', 'O', 'O', 'O', 'O', 'O', 'O', 'O', 'O', 'O', 'O', 'O', 'O', 'O', 'O', 'O', 'O', 'O', 'O', 'O', 'O', 'O', 'O', 'O', 'O', 'O', 'O', 'O', 'O', 'O', 'O', 'O', 'O', 'O', 'O']"
      ]
     },
     "execution_count": 131,
     "metadata": {},
     "output_type": "execute_result"
    }
   ],
   "source": [
    "\n",
    "db_pos_list = []\n",
    "for navigable_parent in child_strs_list:\n",
    "    db_pos_list = cu.append_parts_of_speech_list(navigable_parent, pos_list=db_pos_list)\n",
    "db_pos_list"
   ]
  },
  {
   "cell_type": "code",
   "execution_count": 132,
   "metadata": {},
   "outputs": [
    {
     "name": "stdout",
     "output_type": "stream",
     "text": [
      "['O-CS', 'O-RQ', 'O-TS', 'O-TS', 'O-TS', 'O-CS', 'O-CS', 'O-TS', 'O-CS', 'O-RQ', 'O-TS', 'O-TS', 'O-RQ', 'O-RQ', 'O-RQ', 'O-RQ', 'O-TS', 'O-RQ', 'O-RQ', 'O-CS', 'O-TS', 'O-RQ', 'O-CS', 'O-CS', 'O-RQ', 'O-CS', 'O-TS', 'O-CS', 'O-TS', 'O-OL', 'O-CS', 'O-CS', 'O-CS', 'O-TS', 'O-SP', 'O-RQ', 'O-RQ', 'O-TS', 'O-CS', 'O-RQ', 'O-CS', 'O-TS', 'O-CS', 'O-TS', 'O-TS', 'O-O', 'O-CS', 'O-CS', 'O-SP', 'O-OL', 'O-OL', 'O-LN', 'O-CS', 'O-LN', 'O-CS']\n",
      "[1, 9, 12, 13, 14, 15, 17, 18, 21, 24, 35, 36, 39]\n"
     ]
    },
    {
     "data": {
      "text/html": [
       "0 O-CS) <span style=\"color:#bcbd2280;\">Macro-Eyes is recruiting (O-CS Corporate Scope Non-header)</span><br /><hr />1 O-RQ) <span style=\"color:#aec7e880;\"><strong>Machine Learning Scientists (O-RQ Required Qualifications Non-header)</strong></span><br />2 O-TS) <span style=\"color:#1f77b480;\">. Build cutting-edge ML powering new solutions for supply and demand networks: save lives; put a dent in climate change; enable organizations to do more with less; have a purpose. (O-TS Task Scope Non-header)</span><br />3 O-TS) <span style=\"color:#1f77b480;\"><p>This role will involve a combination of ML design+build for our core product (creating generalizable, scalable ML libraries) and deployment specific work, designing how our technology engages customer needs in the real world. (O-TS Task Scope Non-header)</p></span><br />4 O-TS) <span style=\"color:#1f77b480;\">Join a diverse, talented, international machine learning team led by renowned (O-TS Task Scope Non-header)</span><br />5 O-CS) <span style=\"color:#bcbd2280;\"><a href=\"https://optml.mit.edu\">MIT professor Suvrit Sra (O-CS Corporate Scope Non-header)</a></span><br />6 O-CS) <span style=\"color:#bcbd2280;\">. We work on unsolved problems at the nexus of ML and crucial supply chains. You will co-build the first predictive supply chain for global industry and for healthcare. We have been busy on new, deployed systems for understanding demand for lifesaving care; computer vision apps to automate ground-truth data collection, ranging from efficient ML that must run entirely on-device to deep learning systems working on satellite imagery; representation learning models that help us understand context; delivering geolocation accurate to within 25m in locations without reliable GPS. (O-CS Corporate Scope Non-header)</span><br />7 O-TS) <span style=\"color:#1f77b480;\"><p>We constantly face challenges beyond the limits of known ML theory and models. You will create transformative solutions the world has never seen - cutting-edge ML that forms products, deployed globally to make supply chains capable of anticipating risk and opportunity. Real science and real-world impact. Lives lie in the balance. (O-TS Task Scope Non-header)</p></span><br />8 O-CS) <span style=\"color:#bcbd2280;\"><p>The ideal candidate will be excited by the fact that the work we will do together is largely without precedent. (O-CS Corporate Scope Non-header)</p></span><br />9 O-RQ) <span style=\"color:#aec7e880;\"><p>Strong drive to use ML for social good is the most important characteristic you will bring. Complement that with a solid background in ML, good knowledge of statistics, along with experience in working with real-world messy data as a plus. Desire to publish is a plus. Python fluency needed. Demonstrated ability to make meaningful contributions to projects with an open-ended research flavor is valuable. (O-RQ Required Qualifications Non-header)</p></span><br />10 O-TS) <span style=\"color:#1f77b480;\"><h4>Requirements (O-TS Task Scope Non-header)</h4></span><br />11 O-TS) <span style=\"color:#1f77b480;\"><li>Happy to dive into data (O-TS Task Scope Non-header)</li></span><br />12 O-RQ) <span style=\"color:#aec7e880;\"><li>Desire to continually learn and grow, and overall open-mindedness (O-RQ Required Qualifications Non-header)</li></span><br />13 O-RQ) <span style=\"color:#aec7e880;\"><li>Experience building models based on empirical observations; understand the strengths and limitations of this approach. (O-RQ Required Qualifications Non-header)</li></span><br />14 O-RQ) <span style=\"color:#aec7e880;\"><li>Experience working with diverse data types including images, structured data, and natural language. (O-RQ Required Qualifications Non-header)</li></span><br />15 O-RQ) <span style=\"color:#aec7e880;\"><li>Experience programming in Python, and one additional language (R, C, C++, Java). (O-RQ Required Qualifications Non-header)</li></span><br />16 O-TS) <span style=\"color:#1f77b480;\"><li>Aware of current best practices in machine learning. (O-TS Task Scope Non-header)</li></span><br />17 O-RQ) <span style=\"color:#aec7e880;\"><li>Knowledge of statistics, including hypothesis testing with parametric and non-parametric tests and basic probability. (O-RQ Required Qualifications Non-header)</li></span><br />18 O-RQ) <span style=\"color:#aec7e880;\"><li>‘Small data’ experience: demonstrated ability to develop and implement creative approaches for making machine learning work with limited data. (O-RQ Required Qualifications Non-header)</li></span><br />19 O-CS) <span style=\"color:#bcbd2280;\"><strong>Warning: (O-CS Corporate Scope Non-header)</strong></span><br />20 O-TS) <span style=\"color:#1f77b480;\">the work will not be like doing data science at Big Tech: the data will not be pristine and what’s required for success is much harder than throwing a series of models at the problem. We expect you to think in terms of hypotheses and experimental design like a scientist and have the drive and ingenuity of a hacker. (O-TS Task Scope Non-header)</span><br />21 O-RQ) <span style=\"color:#aec7e880;\">hands on experience building predictive models (O-RQ Required Qualifications Non-header)</span><br />22 O-CS) <span style=\"color:#bcbd2280;\"><h4>We’re excited if you have expertise in one of these areas: (O-CS Corporate Scope Non-header)</h4></span><br />23 O-CS) <span style=\"color:#bcbd2280;\"><li>Computer vision (O-CS Corporate Scope Non-header)</li></span><br />24 O-RQ) <span style=\"color:#aec7e880;\"><li>Reinforcement learning (O-RQ Required Qualifications Non-header)</li></span><br />25 O-CS) <span style=\"color:#bcbd2280;\"><li>Forecasting (time series) (O-CS Corporate Scope Non-header)</li></span><br />26 O-TS) <span style=\"color:#1f77b480;\"><li>Optimization, operations research (O-TS Task Scope Non-header)</li></span><br />27 O-CS) <span style=\"color:#bcbd2280;\"><li>NLP (O-CS Corporate Scope Non-header)</li></span><br />28 O-TS) <span style=\"color:#1f77b480;\"><li>Synthetic data, generative models (O-TS Task Scope Non-header)</li></span><br />29 O-OL) <span style=\"color:#9467bd80;\"><li>Remote sensing (O-OL Office Location Non-header)</li></span><br />30 O-CS) <span style=\"color:#bcbd2280;\"><li>Graph theory / Graph neural networks (O-CS Corporate Scope Non-header)</li></span><br />31 O-CS) <span style=\"color:#bcbd2280;\"><p>We believe fierce drive and motivation is more valuable than specific skill – critical thinking and willingness to learn on the job goes far when confronting new challenges. (O-CS Corporate Scope Non-header)</p></span><br />32 O-CS) <span style=\"color:#bcbd2280;\"><h4>What we ask of you: (O-CS Corporate Scope Non-header)</h4></span><br />33 O-TS) <span style=\"color:#1f77b480;\"><li>Take a task and run with it - there’s very little hierarchy. (O-TS Task Scope Non-header)</li></span><br />34 O-SP) <span style=\"color:#c49c9480;\"><li>Speak up. We all learn every day. Ask for help, say when you need something. (O-SP Supplemental Pay Non-header)</li></span><br />35 O-RQ) <span style=\"color:#aec7e880;\"><li>Be forthcoming and accountable. About time, scope, questions, needs, options, deliverables. (O-RQ Required Qualifications Non-header)</li></span><br />36 O-RQ) <span style=\"color:#aec7e880;\"><li>Be nice to work with. Nothing extraordinary was ever achieved alone. (O-RQ Required Qualifications Non-header)</li></span><br />37 O-TS) <span style=\"color:#1f77b480;\"><li>Exercise a product frame of mind: persistent drive to design and build structures that are repeatable and scalable. (O-TS Task Scope Non-header)</li></span><br />38 O-CS) <span style=\"color:#bcbd2280;\"><strong>Demo, Deploy, Repeat (O-CS Corporate Scope Non-header)</strong></span><br />39 O-RQ) <span style=\"color:#aec7e880;\">. Think about how to show, rather than tell, what you’re building. Engage with real systems and real world data as soon as possible to validate and learn. (O-RQ Required Qualifications Non-header)</span><br /><hr />40 O-CS) <span style=\"color:#bcbd2280;\"><h4>What you need to bring: (O-CS Corporate Scope Non-header)</h4></span><br />41 O-TS) <span style=\"color:#1f77b480;\"><li>Comfortable working with small groups in a fast-paced environment with cross-functional teams. (O-TS Task Scope Non-header)</li></span><br />42 O-CS) <span style=\"color:#bcbd2280;\"><li>Energy, boundless curiosity, open-mindedness. (O-CS Corporate Scope Non-header)</li></span><br />43 O-TS) <span style=\"color:#1f77b480;\"><li>Willingness to learn and grow. (O-TS Task Scope Non-header)</li></span><br />44 O-TS) <span style=\"color:#1f77b480;\"><li>Respect for audiences and users. Willingness to step into someone else’s shoes (and the imagination to do so). (O-TS Task Scope Non-header)</li></span><br />45 O-O) <span style=\"color:#9edae580;\"><h4>Why you want to work with us: (O-O Other Non-header)</h4></span><br />46 O-CS) <span style=\"color:#bcbd2280;\"><li>Real-world impact and state-of-the-art science. We develop technology and products that save lives and help organizations do more with fewer resources. We break new ground in AI by creating systems that learn from sparse, complex data in some of the most challenging environments on earth. (O-CS Corporate Scope Non-header)</li></span><br />47 O-CS) <span style=\"color:#bcbd2280;\"><li>We are growing rapidly and engaged in many of the most important issues of our time. Being part of MACRO-EYES is rich in opportunity. (O-CS Corporate Scope Non-header)</li></span><br />48 O-SP) <span style=\"color:#c49c9480;\"><li>Competitive compensation and generous benefits. (O-SP Supplemental Pay Non-header)</li></span><br />49 O-OL) <span style=\"color:#9467bd80;\"><li>Work with an amazing group of people. (O-OL Office Location Non-header)</li></span><br />50 O-OL) <span style=\"color:#9467bd80;\"><li>Work from almost anywhere. This role will be remote with the freedom to choose how and when to work. Our remote team was executing at the highest level before COVID-19, and we expect to continue to be a largely remote, high-performing team. In continuation of defying the trend, we will open our first physical offices in 2022. You will have access to your choice of hardware and a travel budget to interact with the distributed team in person. (O-OL Office Location Non-header)</li></span><br />51 O-LN) <span style=\"color:#98df8a80;\"><p>MACRO-EYES is dedicated to building an inclusive workforce where diversity is valued. MACRO-EYES is an equal opportunity employer. Every qualified applicant will be considered for employment. MACRO-EYES does not discriminate based on race, color, religion, gender, gender identity or orientation, genetic information, age, national origin, marital status, disability status, political ideology, military or protected veteran status, or any other characteristic protected by applicable federal, state, or local law. (O-LN Legal Notifications Non-header)</p></span><br />52 O-CS) <span style=\"color:#bcbd2280;\"><strong>Disclaimer (O-CS Corporate Scope Non-header)</strong></span><br />53 O-LN) <span style=\"color:#98df8a80;\">: Due to large volumes of applicants, only shortlisted candidates will be contacted. (O-LN Legal Notifications Non-header)</span><br />54 O-CS) <span style=\"color:#bcbd2280;\"><a href=\"https://app.smartsheet.com/b/form/21b6445339a84f41b10b1f6afca07603\" target=\"_blank\">https://app.smartsheet.com/b/form/21b6445339a84f41b10b1f6afca07603 (O-CS Corporate Scope Non-header)</a></span><br />"
      ],
      "text/plain": [
       "<IPython.core.display.HTML object>"
      ]
     },
     "metadata": {},
     "output_type": "display_data"
    }
   ],
   "source": [
    "\n",
    "from matplotlib.colors import to_hex\n",
    "from IPython.display import HTML, display\n",
    "\n",
    "# Make an RGB dictionary of all the parts-of-speech symbols\n",
    "rgba_dict = su.get_pos_color_dictionary()\n",
    "\n",
    "html_str = ''\n",
    "pos_list = []\n",
    "for i, (crf_symbol, db_symbol) in enumerate(zip(crf_list, db_pos_list)):\n",
    "    if db_symbol in [None, 'O', 'H']:\n",
    "        pos_list.append(crf_symbol)\n",
    "    else:\n",
    "        pos_list.append(db_symbol)\n",
    "print(pos_list)\n",
    "indices_list = su.get_section(pos_list)\n",
    "print(indices_list)\n",
    "for i, (child_str, pos_symbol) in enumerate(zip(child_strs_list, pos_list)):\n",
    "    rgba = rgba_dict[pos_symbol]\n",
    "    hex_str = to_hex(rgba, keep_alpha=True)\n",
    "    if len(indices_list) and (i == min(indices_list)):\n",
    "        html_str += '<hr />'\n",
    "    child_str = su.append_pos_symbol(child_str, pos_symbol, use_explanation=True)\n",
    "    html_str += f'{i+0} {pos_symbol}) <span style=\"color:{hex_str};\">{child_str}</span><br />'\n",
    "    if len(indices_list) and (i == max(indices_list)):\n",
    "        html_str += '<hr />'\n",
    "display(HTML(html_str))"
   ]
  },
  {
   "cell_type": "markdown",
   "metadata": {},
   "source": [
    "\n",
    "----"
   ]
  },
  {
   "cell_type": "code",
   "execution_count": 207,
   "metadata": {},
   "outputs": [
    {
     "name": "stdout",
     "output_type": "stream",
     "text": [
      "<h4>Why you want to work with us:</h4>\n"
     ]
    }
   ],
   "source": [
    "\n",
    "# Hand-label individual child strings\n",
    "idx = 45\n",
    "child_str = child_strs_list[idx]\n",
    "child_str = cu.clean_text(child_str)\n",
    "print(child_str)"
   ]
  },
  {
   "cell_type": "code",
   "execution_count": 208,
   "metadata": {},
   "outputs": [
    {
     "data": {
      "text/plain": [
       "[{'navigable_parent': '<h4>Why you want to work with us:</h4>', 'is_header': 'True', 'is_task_scope': 'False', 'is_minimum_qualification': 'False', 'is_preferred_qualification': 'False', 'is_legal_notification': 'False', 'is_job_title': 'False', 'is_office_location': 'False', 'is_job_duration': 'False', 'is_supplemental_pay': 'True', 'is_educational_requirement': 'False', 'is_interview_procedure': 'False', 'is_corporate_scope': 'True', 'is_posting_date': 'False', 'is_other': 'False'}]"
      ]
     },
     "execution_count": 208,
     "metadata": {},
     "output_type": "execute_result"
    }
   ],
   "source": [
    "\n",
    "cypher_str = f'''\n",
    "    MATCH (np:NavigableParents {{navigable_parent: '{child_str}'}})\n",
    "    SET\n",
    "        np.is_header = 'True',\n",
    "        np.is_task_scope = 'False',\n",
    "        np.is_minimum_qualification = 'False',\n",
    "        np.is_preferred_qualification = 'False',\n",
    "        np.is_legal_notification = 'False',\n",
    "        np.is_job_title = 'False',\n",
    "        np.is_office_location = 'False',\n",
    "        np.is_job_duration = 'False',\n",
    "        np.is_supplemental_pay = 'True',\n",
    "        np.is_educational_requirement = 'False',\n",
    "        np.is_interview_procedure = 'False',\n",
    "        np.is_corporate_scope = 'True',\n",
    "        np.is_posting_date = 'False',\n",
    "        np.is_other = 'False'\n",
    "    RETURN\n",
    "        np.navigable_parent AS navigable_parent,\n",
    "        np.is_header AS is_header,\n",
    "        np.is_task_scope AS is_task_scope,\n",
    "        np.is_minimum_qualification AS is_minimum_qualification,\n",
    "        np.is_preferred_qualification AS is_preferred_qualification,\n",
    "        np.is_legal_notification AS is_legal_notification,\n",
    "        np.is_job_title AS is_job_title,\n",
    "        np.is_office_location AS is_office_location,\n",
    "        np.is_job_duration AS is_job_duration,\n",
    "        np.is_supplemental_pay AS is_supplemental_pay,\n",
    "        np.is_educational_requirement AS is_educational_requirement,\n",
    "        np.is_interview_procedure AS is_interview_procedure,\n",
    "        np.is_corporate_scope AS is_corporate_scope,\n",
    "        np.is_posting_date AS is_posting_date,\n",
    "        np.is_other AS is_other;'''\n",
    "# print(cypher_str)\n",
    "with cu.driver.session() as session:\n",
    "    row_objs_list = session.write_transaction(cu.do_cypher_tx, cypher_str)\n",
    "row_objs_list"
   ]
  },
  {
   "cell_type": "code",
   "execution_count": 141,
   "metadata": {},
   "outputs": [
    {
     "data": {
      "text/plain": [
       "[{'navigable_parent': '<h4>Requirements</h4>', 'is_header': None, 'is_task_scope': None, 'is_minimum_qualification': None, 'is_preferred_qualification': None, 'is_legal_notification': None, 'is_job_title': None, 'is_office_location': None, 'is_job_duration': None, 'is_supplemental_pay': None, 'is_educational_requirement': None, 'is_interview_procedure': None, 'is_corporate_scope': None, 'is_posting_date': None, 'is_other': None}]"
      ]
     },
     "execution_count": 141,
     "metadata": {},
     "output_type": "execute_result"
    }
   ],
   "source": [
    "\n",
    "cypher_str = f'''\n",
    "    MATCH (np:NavigableParents {{navigable_parent: '{child_str}'}})\n",
    "    RETURN\n",
    "        np.navigable_parent AS navigable_parent,\n",
    "        np.is_header AS is_header,\n",
    "        np.is_task_scope AS is_task_scope,\n",
    "        np.is_minimum_qualification AS is_minimum_qualification,\n",
    "        np.is_preferred_qualification AS is_preferred_qualification,\n",
    "        np.is_legal_notification AS is_legal_notification,\n",
    "        np.is_job_title AS is_job_title,\n",
    "        np.is_office_location AS is_office_location,\n",
    "        np.is_job_duration AS is_job_duration,\n",
    "        np.is_supplemental_pay AS is_supplemental_pay,\n",
    "        np.is_educational_requirement AS is_educational_requirement,\n",
    "        np.is_interview_procedure AS is_interview_procedure,\n",
    "        np.is_corporate_scope AS is_corporate_scope,\n",
    "        np.is_posting_date AS is_posting_date,\n",
    "        np.is_other AS is_other;'''\n",
    "# print(cypher_str)\n",
    "with cu.driver.session() as session:\n",
    "    row_objs_list = session.write_transaction(cu.do_cypher_tx, cypher_str)\n",
    "row_objs_list"
   ]
  },
  {
   "cell_type": "code",
   "execution_count": 133,
   "metadata": {},
   "outputs": [
    {
     "name": "stdout",
     "output_type": "stream",
     "text": [
      "[{'fn': <Node id=767169 labels=frozenset({'FileNames'}) properties={'file_name': 'Machine_Learning_Scientist.html', 'posting_url': 'https://macro-eyes.com/careers/machinelearning'}>}]\n"
     ]
    }
   ],
   "source": [
    "\n",
    "# Add URL\n",
    "posting_url = 'https://macro-eyes.com/careers/machinelearning'\n",
    "posting_url = cu.clean_text(posting_url)\n",
    "cypher_str = f'''\n",
    "    MATCH (fn:FileNames {{file_name: \"{file_name}\"}})\n",
    "    SET fn.posting_url = \"{posting_url}\"\n",
    "    RETURN fn;'''\n",
    "with cu.driver.session() as session:\n",
    "    row_objs_list = session.write_transaction(cu.do_cypher_tx, cypher_str)\n",
    "    print(row_objs_list)"
   ]
  },
  {
   "cell_type": "code",
   "execution_count": null,
   "metadata": {},
   "outputs": [],
   "source": []
  }
 ],
 "metadata": {
  "anaconda-cloud": {},
  "kernelspec": {
   "display_name": "Python 3 (ipykernel)",
   "language": "python",
   "name": "python3"
  },
  "language_info": {
   "codemirror_mode": {
    "name": "ipython",
    "version": 3
   },
   "file_extension": ".py",
   "mimetype": "text/x-python",
   "name": "python",
   "nbconvert_exporter": "python",
   "pygments_lexer": "ipython3",
   "version": "3.9.7"
  }
 },
 "nbformat": 4,
 "nbformat_minor": 4
}
