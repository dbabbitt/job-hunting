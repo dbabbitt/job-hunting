{
 "cells": [
  {
   "cell_type": "code",
   "execution_count": 1,
   "metadata": {},
   "outputs": [
    {
     "name": "stdout",
     "output_type": "stream",
     "text": [
      "Pretty printing has been turned OFF\n"
     ]
    }
   ],
   "source": [
    "\n",
    "%pprint"
   ]
  },
  {
   "cell_type": "code",
   "execution_count": 2,
   "metadata": {},
   "outputs": [],
   "source": [
    "\n",
    "import sys\n",
    "\n",
    "# Insert at 1, 0 is the script path (or '' in REPL)\n",
    "sys.path.insert(1, '../py')"
   ]
  },
  {
   "cell_type": "code",
   "execution_count": 3,
   "metadata": {},
   "outputs": [
    {
     "name": "stdout",
     "output_type": "stream",
     "text": [
      "CPU times: total: 52.6 s\n",
      "Wall time: 58.5 s\n"
     ]
    }
   ],
   "source": [
    "\n",
    "%%time\n",
    "from pandas import DataFrame\n",
    "\n",
    "from storage import Storage\n",
    "s = Storage()\n",
    "\n",
    "from ha_utils import HeaderAnalysis\n",
    "ha = HeaderAnalysis(verbose=False)\n",
    "\n",
    "from scrape_utils import WebScrapingUtilities\n",
    "wsu = WebScrapingUtilities()\n",
    "uri = wsu.secrets_json['neo4j']['connect_url']\n",
    "user =  wsu.secrets_json['neo4j']['username']\n",
    "password = wsu.secrets_json['neo4j']['password']\n",
    "\n",
    "from cypher_utils import CypherUtilities\n",
    "cu = CypherUtilities(uri=uri, user=user, password=password, driver=None, s=s, ha=ha)\n",
    "\n",
    "from hc_utils import HeaderCategories\n",
    "hc = HeaderCategories(cu=cu, verbose=False)\n",
    "\n",
    "from section_utils import SectionUtilities\n",
    "su = SectionUtilities(s=s, ha=ha, cu=cu, verbose=False)\n",
    "\n",
    "from lr_utils import LrUtilities\n",
    "lru = LrUtilities(ha=ha, cu=cu, hc=hc, verbose=False)\n",
    "lru.build_isheader_logistic_regression_elements()\n",
    "lru.build_pos_logistic_regression_elements()\n",
    "\n",
    "import warnings\n",
    "warnings.filterwarnings('ignore')"
   ]
  },
  {
   "cell_type": "code",
   "execution_count": 4,
   "metadata": {},
   "outputs": [],
   "source": [
    "\n",
    "from datetime import datetime\n",
    "from urllib.parse import urlparse, parse_qs\n",
    "from IPython.display import clear_output\n",
    "%run ../load_magic/dataframes.py"
   ]
  },
  {
   "cell_type": "markdown",
   "metadata": {},
   "source": [
    "\n",
    "----"
   ]
  },
  {
   "cell_type": "code",
   "execution_count": 92,
   "metadata": {},
   "outputs": [
    {
     "name": "stdout",
     "output_type": "stream",
     "text": [
      "Data_Scientist_Remote.html\n"
     ]
    }
   ],
   "source": [
    "\n",
    "import shutil\n",
    "\n",
    "file_path = r'C:\\Users\\daveb\\OneDrive\\Documents\\GitHub\\job-hunting\\data\\html\\other_email.html'\n",
    "file_name = re.sub(r'\\W+', ' ',\n",
    "                   'Data Scientist (Remote)').strip().replace(' ', '_') + '.html'\n",
    "new_file_path = os.path.join(cu.SAVES_HTML_FOLDER, file_name)\n",
    "if not os.path.isfile(new_file_path):\n",
    "    print(file_name)\n",
    "    shutil.copy(file_path, os.path.join(cu.SAVES_HTML_FOLDER, file_name))\n",
    "    page_soup = get_page_soup(file_path)\n",
    "    div_soup = page_soup.find_all(name='div', id='jobDescriptionText')[0]\n",
    "    child_strs_list = ha.get_navigable_children(div_soup, [])\n",
    "    cu.ensure_filename(file_name, verbose=False)\n",
    "    cu.populate_from_child_strings(child_strs_list, file_name, verbose=False)"
   ]
  },
  {
   "cell_type": "code",
   "execution_count": 93,
   "metadata": {},
   "outputs": [
    {
     "name": "stdout",
     "output_type": "stream",
     "text": [
      "['div', 'plaintext', 'b', 'plaintext', 'b', 'plaintext', 'plaintext', 'plaintext', 'plaintext', 'u', 'p', 'b', 'p', 'p', 'p', 'p', 'p', 'p', 'p', 'p', 'b', 'li', 'li', 'plaintext', 'b', 'plaintext', 'li', 'li', 'li', 'li', 'li', 'b', 'p', 'p', 'p', 'a', 'a']\n"
     ]
    }
   ],
   "source": [
    "\n",
    "child_tags_list = ha.get_child_tags_list(child_strs_list)\n",
    "print(child_tags_list)"
   ]
  },
  {
   "cell_type": "code",
   "execution_count": 94,
   "metadata": {},
   "outputs": [],
   "source": [
    "\n",
    "is_header_list = []\n",
    "for is_header, child_str in zip(ha.get_is_header_list(child_strs_list), child_strs_list):\n",
    "    if is_header is None:\n",
    "        probs_list = lru.ISHEADER_PREDICT_PERCENT_FIT(child_str)\n",
    "        idx = probs_list.index(max(probs_list))\n",
    "        is_header = [True, False][idx]\n",
    "    is_header_list.append(is_header)"
   ]
  },
  {
   "cell_type": "raw",
   "metadata": {},
   "source": [
    "\n",
    "# cu.create_h_pickle(verbose=True)\n",
    "NAVIGABLE_PARENT_IS_HEADER_DICT = s.load_object('NAVIGABLE_PARENT_IS_HEADER_DICT')\n",
    "for i, (is_header, child_str) in enumerate(zip(is_header_list, child_strs_list)):\n",
    "    print(i, NAVIGABLE_PARENT_IS_HEADER_DICT.get(child_str), is_header, child_str)"
   ]
  },
  {
   "cell_type": "code",
   "execution_count": 95,
   "metadata": {},
   "outputs": [
    {
     "data": {
      "text/plain": [
       "{'initial_tag': 'div', 'is_header': True, 'is_task_scope': None, 'is_minimum_qualification': None, 'is_preferred_qualification': None, 'is_legal_notification': None, 'is_job_title': None, 'is_office_location': None, 'is_job_duration': None, 'is_supplemental_pay': None, 'is_educational_requirement': None, 'is_interview_procedure': None, 'is_corporate_scope': None, 'is_posting_date': None, 'is_other': None, 'child_str': '<div>Looking for : Data Scientist (Remote).</div>'}"
      ]
     },
     "execution_count": 95,
     "metadata": {},
     "output_type": "execute_result"
    }
   ],
   "source": [
    "\n",
    "feature_dict_list = hc.get_feature_dict_list(child_tags_list, is_header_list, child_strs_list)\n",
    "feature_dict_list[0]"
   ]
  },
  {
   "cell_type": "code",
   "execution_count": 96,
   "metadata": {},
   "outputs": [
    {
     "data": {
      "text/plain": [
       "('div', '<div>Looking for : Data Scientist (Remote).</div>', 'O-OL')"
      ]
     },
     "execution_count": 96,
     "metadata": {},
     "output_type": "execute_result"
    }
   ],
   "source": [
    "\n",
    "feature_tuple_list = []\n",
    "for feature_dict in feature_dict_list:\n",
    "    feature_tuple_list.append(hc.get_feature_tuple(feature_dict, lru.pos_lr_predict_single))\n",
    "feature_tuple_list[0]"
   ]
  },
  {
   "cell_type": "code",
   "execution_count": 97,
   "metadata": {},
   "outputs": [
    {
     "data": {
      "text/plain": [
       "['O-OL', 'O-CS', 'O-TS', 'O-OL', 'O-CS', 'O-TS', 'O-CS', 'O-OL', 'O-RQ', 'O-LN', 'O-TS', 'H-TS', 'O-TS', 'O-TS', 'O-TS', 'O-TS', 'O-TS', 'O-TS', 'O-TS', 'O-TS', 'O-TS', 'O-TS', 'O-TS', 'O-RQ', 'O-CS', 'O-TS', 'O-RQ', 'O-ER', 'O-RQ', 'O-RQ', 'O-RQ', 'O-CS', 'O-CS', 'O-CS', 'O-CS', 'O-CS', 'O-CS']"
      ]
     },
     "execution_count": 97,
     "metadata": {},
     "output_type": "execute_result"
    }
   ],
   "source": [
    "\n",
    "from crf_utils import CrfUtilities\n",
    "crf = CrfUtilities(ha=ha, hc=hc, cu=cu, verbose=False)\n",
    "crf_list = crf.CRF.predict_single(crf.sent2features(feature_tuple_list))\n",
    "crf_list"
   ]
  },
  {
   "cell_type": "code",
   "execution_count": 98,
   "metadata": {},
   "outputs": [
    {
     "data": {
      "text/plain": [
       "['O', 'O', 'O-JT', 'O', 'O', 'O', 'O', 'O', 'O', 'O', 'O', 'O', 'O', 'O', 'O', 'O', 'O', 'O', 'O', 'O', 'O', 'O', 'O', 'O', 'O', 'O', 'O', 'O', 'O', 'O', 'O', 'O', 'O', 'O', 'O', 'O', 'O']"
      ]
     },
     "execution_count": 98,
     "metadata": {},
     "output_type": "execute_result"
    }
   ],
   "source": [
    "\n",
    "db_pos_list = []\n",
    "for navigable_parent in child_strs_list:\n",
    "    db_pos_list = cu.append_parts_of_speech_list(navigable_parent, pos_list=db_pos_list)\n",
    "db_pos_list"
   ]
  },
  {
   "cell_type": "code",
   "execution_count": 99,
   "metadata": {},
   "outputs": [
    {
     "name": "stdout",
     "output_type": "stream",
     "text": [
      "['O-OL', 'O-CS', 'O-JT', 'O-OL', 'O-CS', 'O-TS', 'O-CS', 'O-OL', 'O-RQ', 'O-LN', 'O-TS', 'H-TS', 'O-TS', 'O-TS', 'O-TS', 'O-TS', 'O-TS', 'O-TS', 'O-TS', 'O-TS', 'O-TS', 'O-TS', 'O-TS', 'O-RQ', 'O-CS', 'O-TS', 'O-RQ', 'O-ER', 'O-RQ', 'O-RQ', 'O-RQ', 'O-CS', 'O-CS', 'O-CS', 'O-CS', 'O-CS', 'O-CS']\n",
      "[8, 23, 26, 27, 28, 29, 30]\n"
     ]
    },
    {
     "data": {
      "text/html": [
       "0 O-OL) <span style=\"color:#9467bd80;\"><div>Looking for : Data Scientist (Remote). (O-OL Office Location Non-header)</div></span><br />1 O-CS) <span style=\"color:#bcbd2280;\">We are looking for (O-CS Corporate Scope Non-header)</span><br />2 O-JT) <span style=\"color:#d6272880;\"><b>Data Scientist (O-JT Job Title Non-header)</b></span><br />3 O-OL) <span style=\"color:#9467bd80;\">(Remote) (O-OL Office Location Non-header)</span><br />4 O-CS) <span style=\"color:#bcbd2280;\"><b>. (O-CS Corporate Scope Non-header)</b></span><br />5 O-TS) <span style=\"color:#1f77b480;\">Below is the job description for your reference. Please have a look and share the best level of your interest. (O-TS Task Scope Non-header)</span><br />6 O-CS) <span style=\"color:#bcbd2280;\">Client:- Qualitest Group (O-CS Corporate Scope Non-header)</span><br />7 O-OL) <span style=\"color:#9467bd80;\">Location:- Complete remote (O-OL Office Location Non-header)</span><br /><hr />8 O-RQ) <span style=\"color:#aec7e880;\">We need mid-level Data Scientist with 4-7 years’ experience. (O-RQ Required Qualifications Non-header)</span><br />9 O-LN) <span style=\"color:#98df8a80;\"><u>Job Overview:- (O-LN Legal Notifications Non-header)</u></span><br />10 O-TS) <span style=\"color:#1f77b480;\"><p>We are looking for a Data Scientist who will support our product, sales, leadership and marketing teams with insights gained from analyzing client data. The ideal candidate is skilled at using large data sets to find opportunities for product and process optimization and using models to test the effectiveness of different courses of action. They must have strong experience using a variety of data mining/data analysis methods, using a variety of data tools, building and implementing models, using/creating algorithms and creating/running simulations. They must have a proven ability to drive business results with their data-based insights. They must be comfortable working with a wide range of stakeholders and functional teams. The right candidate will have a passion for discovering solutions hidden in large data sets and working with stakeholders to improve business outcomes. (O-TS Task Scope Non-header)</p></span><br />11 H-TS) <span style=\"color:#1f77b4ff;\"><b>Responsibilities for Data Scientist (H-TS Task Scope Header)</b></span><br />12 O-TS) <span style=\"color:#1f77b480;\"><p>Work with stakeholders throughout the organization to identify opportunities for leveraging company data to drive business solutions. (O-TS Task Scope Non-header)</p></span><br />13 O-TS) <span style=\"color:#1f77b480;\"><p>Mine and analyze data from client databases to drive optimization and improvement of use case development, marketing techniques and business strategies. (O-TS Task Scope Non-header)</p></span><br />14 O-TS) <span style=\"color:#1f77b480;\"><p>Assess the effectiveness and accuracy of new data sources and data gathering techniques. (O-TS Task Scope Non-header)</p></span><br />15 O-TS) <span style=\"color:#1f77b480;\"><p>Develop custom data models and algorithms to apply to data sets. (O-TS Task Scope Non-header)</p></span><br />16 O-TS) <span style=\"color:#1f77b480;\"><p>Use predictive modeling to increase and optimize QA and other business outcomes. (O-TS Task Scope Non-header)</p></span><br />17 O-TS) <span style=\"color:#1f77b480;\"><p>Develop company A/B testing framework and test model quality. (O-TS Task Scope Non-header)</p></span><br />18 O-TS) <span style=\"color:#1f77b480;\"><p>Coordinate with different functional teams to implement models and monitor outcomes. (O-TS Task Scope Non-header)</p></span><br />19 O-TS) <span style=\"color:#1f77b480;\"><p>Develop processes and tools to monitor and analyze model performance and data accuracy. (O-TS Task Scope Non-header)</p></span><br />20 O-TS) <span style=\"color:#1f77b480;\"><b>Qualifications for Data Scientist (O-TS Task Scope Non-header)</b></span><br />21 O-TS) <span style=\"color:#1f77b480;\"><li>Mid-Level To Senior-Level (4 To 5 Years Experience) Overview and Deliverables: The team seeks a highly motivated Data Scientist to join our team to provide the following expert support our client: Assess the ability of data collection and analytic reporting to answer QA problems. (O-TS Task Scope Non-header)</li></span><br />22 O-TS) <span style=\"color:#1f77b480;\"><li>Strong problem solving skills with an emphasis on product development. (O-TS Task Scope Non-header)</li></span><br />23 O-RQ) <span style=\"color:#aec7e880;\">Experience using statistical computer languages ( (O-RQ Required Qualifications Non-header)</span><br />24 O-CS) <span style=\"color:#bcbd2280;\"><b>R, Python (O-CS Corporate Scope Non-header)</b></span><br />25 O-TS) <span style=\"color:#1f77b480;\">, SLQ, etc.) to manipulate data and draw insights from large data sets. (O-TS Task Scope Non-header)</span><br />26 O-RQ) <span style=\"color:#aec7e880;\"><li>Experience working with and creating data architectures... (O-RQ Required Qualifications Non-header)</li></span><br />27 O-ER) <span style=\"color:#f7b6d280;\"><li>We’re looking for someone with 5-7 years of experience manipulating data sets and building statistical models, has a Master’s or PHD in Statistics, Mathematics, Computer Science or another quantitative field is a plus, and is familiar with the following software/tools: (O-ER Education Requirements Non-header)</li></span><br />28 O-RQ) <span style=\"color:#aec7e880;\"><li>Coding knowledge and experience with several languages: C, C++, Java, JavaScript, etc. (O-RQ Required Qualifications Non-header)</li></span><br />29 O-RQ) <span style=\"color:#aec7e880;\"><li>Experience querying databases and using statistical computer languages: R, Python, SLQ, etc. (O-RQ Required Qualifications Non-header)</li></span><br />30 O-RQ) <span style=\"color:#aec7e880;\"><li>Experience using web services: Redshift, S3, Spark, DigitalOcean, etc. (O-RQ Required Qualifications Non-header)</li></span><br /><hr />31 O-CS) <span style=\"color:#bcbd2280;\"><b>Thanks &amp; Regards (O-CS Corporate Scope Non-header)</b></span><br />32 O-CS) <span style=\"color:#bcbd2280;\"><p>Vandana Tiwari (O-CS Corporate Scope Non-header)</p></span><br />33 O-CS) <span style=\"color:#bcbd2280;\"><p>Sr. IT Recruiter (O-CS Corporate Scope Non-header)</p></span><br />34 O-CS) <span style=\"color:#bcbd2280;\"><p>Desk: 609-853-0818 Ext- 2446 (O-CS Corporate Scope Non-header)</p></span><br />35 O-CS) <span style=\"color:#bcbd2280;\"><a href=\"mailto:Email%3AVandana.tiwari@nityo.com\" target=\"_blank\">Email:Vandana.tiwari@nityo.com (O-CS Corporate Scope Non-header)</a></span><br />36 O-CS) <span style=\"color:#bcbd2280;\"><a data-saferedirecturl=\"https://www.google.com/url?q=http://www.nityo.com&amp;source=gmail&amp;ust=1654791335942000&amp;usg=AOvVaw2hGCkjw4WFtLAUPBrjGZH2\" href=\"http://www.nityo.com\" target=\"_blank\">www.nityo.com (O-CS Corporate Scope Non-header)</a></span><br />"
      ],
      "text/plain": [
       "<IPython.core.display.HTML object>"
      ]
     },
     "metadata": {},
     "output_type": "display_data"
    }
   ],
   "source": [
    "\n",
    "from matplotlib.colors import to_hex\n",
    "from IPython.display import HTML, display\n",
    "\n",
    "# Make an RGB dictionary of all the parts-of-speech symbols\n",
    "rgba_dict = su.get_pos_color_dictionary()\n",
    "\n",
    "html_str = ''\n",
    "pos_list = []\n",
    "for i, (crf_symbol, db_symbol) in enumerate(zip(crf_list, db_pos_list)):\n",
    "    if db_symbol in [None, 'O', 'H']:\n",
    "        pos_list.append(crf_symbol)\n",
    "    else:\n",
    "        pos_list.append(db_symbol)\n",
    "print(pos_list)\n",
    "indices_list = su.get_section(pos_list)\n",
    "print(indices_list)\n",
    "for i, (child_str, pos_symbol) in enumerate(zip(child_strs_list, pos_list)):\n",
    "    rgba = rgba_dict[pos_symbol]\n",
    "    hex_str = to_hex(rgba, keep_alpha=True)\n",
    "    if len(indices_list) and (i == min(indices_list)):\n",
    "        html_str += '<hr />'\n",
    "    child_str = su.append_pos_symbol(child_str, pos_symbol, use_explanation=True)\n",
    "    html_str += f'{i+0} {pos_symbol}) <span style=\"color:{hex_str};\">{child_str}</span><br />'\n",
    "    if len(indices_list) and (i == max(indices_list)):\n",
    "        html_str += '<hr />'\n",
    "display(HTML(html_str))"
   ]
  },
  {
   "cell_type": "markdown",
   "metadata": {},
   "source": [
    "\n",
    "----"
   ]
  },
  {
   "cell_type": "code",
   "execution_count": 123,
   "metadata": {},
   "outputs": [
    {
     "name": "stdout",
     "output_type": "stream",
     "text": [
      "<b>Thanks &amp; Regards</b>\n"
     ]
    }
   ],
   "source": [
    "\n",
    "# Hand-label individual child strings\n",
    "idx = 31\n",
    "child_str = child_strs_list[idx]\n",
    "child_str = cu.clean_text(child_str)\n",
    "print(child_str)"
   ]
  },
  {
   "cell_type": "code",
   "execution_count": 124,
   "metadata": {},
   "outputs": [
    {
     "data": {
      "text/plain": [
       "[{'navigable_parent': '<b>Thanks &amp; Regards</b>', 'is_header': 'False', 'is_task_scope': 'False', 'is_minimum_qualification': 'False', 'is_preferred_qualification': 'False', 'is_legal_notification': 'False', 'is_job_title': 'False', 'is_office_location': 'False', 'is_job_duration': 'False', 'is_supplemental_pay': 'False', 'is_educational_requirement': 'False', 'is_interview_procedure': 'False', 'is_corporate_scope': 'False', 'is_posting_date': 'False', 'is_other': 'True'}]"
      ]
     },
     "execution_count": 124,
     "metadata": {},
     "output_type": "execute_result"
    }
   ],
   "source": [
    "\n",
    "cypher_str = f'''\n",
    "    MATCH (np:NavigableParents {{navigable_parent: '{child_str}'}})\n",
    "    SET\n",
    "        np.is_header = 'False',\n",
    "        np.is_task_scope = 'False',\n",
    "        np.is_minimum_qualification = 'False',\n",
    "        np.is_preferred_qualification = 'False',\n",
    "        np.is_legal_notification = 'False',\n",
    "        np.is_job_title = 'False',\n",
    "        np.is_office_location = 'False',\n",
    "        np.is_job_duration = 'False',\n",
    "        np.is_supplemental_pay = 'False',\n",
    "        np.is_educational_requirement = 'False',\n",
    "        np.is_interview_procedure = 'False',\n",
    "        np.is_corporate_scope = 'False',\n",
    "        np.is_posting_date = 'False',\n",
    "        np.is_other = 'True'\n",
    "    RETURN\n",
    "        np.navigable_parent AS navigable_parent,\n",
    "        np.is_header AS is_header,\n",
    "        np.is_task_scope AS is_task_scope,\n",
    "        np.is_minimum_qualification AS is_minimum_qualification,\n",
    "        np.is_preferred_qualification AS is_preferred_qualification,\n",
    "        np.is_legal_notification AS is_legal_notification,\n",
    "        np.is_job_title AS is_job_title,\n",
    "        np.is_office_location AS is_office_location,\n",
    "        np.is_job_duration AS is_job_duration,\n",
    "        np.is_supplemental_pay AS is_supplemental_pay,\n",
    "        np.is_educational_requirement AS is_educational_requirement,\n",
    "        np.is_interview_procedure AS is_interview_procedure,\n",
    "        np.is_corporate_scope AS is_corporate_scope,\n",
    "        np.is_posting_date AS is_posting_date,\n",
    "        np.is_other AS is_other;'''\n",
    "# print(cypher_str)\n",
    "with cu.driver.session() as session:\n",
    "    row_objs_list = session.write_transaction(cu.do_cypher_tx, cypher_str)\n",
    "row_objs_list"
   ]
  },
  {
   "cell_type": "code",
   "execution_count": 101,
   "metadata": {},
   "outputs": [
    {
     "data": {
      "text/plain": [
       "[{'navigable_parent': '<b>Qualifications for Data Scientist</b>', 'is_header': None, 'is_task_scope': None, 'is_minimum_qualification': None, 'is_preferred_qualification': None, 'is_legal_notification': None, 'is_job_title': None, 'is_office_location': None, 'is_job_duration': None, 'is_supplemental_pay': None, 'is_educational_requirement': None, 'is_interview_procedure': None, 'is_corporate_scope': None, 'is_posting_date': None, 'is_other': None}]"
      ]
     },
     "execution_count": 101,
     "metadata": {},
     "output_type": "execute_result"
    }
   ],
   "source": [
    "\n",
    "cypher_str = f'''\n",
    "    MATCH (np:NavigableParents {{navigable_parent: '{child_str}'}})\n",
    "    RETURN\n",
    "        np.navigable_parent AS navigable_parent,\n",
    "        np.is_header AS is_header,\n",
    "        np.is_task_scope AS is_task_scope,\n",
    "        np.is_minimum_qualification AS is_minimum_qualification,\n",
    "        np.is_preferred_qualification AS is_preferred_qualification,\n",
    "        np.is_legal_notification AS is_legal_notification,\n",
    "        np.is_job_title AS is_job_title,\n",
    "        np.is_office_location AS is_office_location,\n",
    "        np.is_job_duration AS is_job_duration,\n",
    "        np.is_supplemental_pay AS is_supplemental_pay,\n",
    "        np.is_educational_requirement AS is_educational_requirement,\n",
    "        np.is_interview_procedure AS is_interview_procedure,\n",
    "        np.is_corporate_scope AS is_corporate_scope,\n",
    "        np.is_posting_date AS is_posting_date,\n",
    "        np.is_other AS is_other;'''\n",
    "# print(cypher_str)\n",
    "with cu.driver.session() as session:\n",
    "    row_objs_list = session.write_transaction(cu.do_cypher_tx, cypher_str)\n",
    "row_objs_list"
   ]
  },
  {
   "cell_type": "code",
   "execution_count": null,
   "metadata": {},
   "outputs": [],
   "source": []
  }
 ],
 "metadata": {
  "anaconda-cloud": {},
  "kernelspec": {
   "display_name": "Python 3 (ipykernel)",
   "language": "python",
   "name": "python3"
  },
  "language_info": {
   "codemirror_mode": {
    "name": "ipython",
    "version": 3
   },
   "file_extension": ".py",
   "mimetype": "text/x-python",
   "name": "python",
   "nbconvert_exporter": "python",
   "pygments_lexer": "ipython3",
   "version": "3.9.7"
  }
 },
 "nbformat": 4,
 "nbformat_minor": 4
}
