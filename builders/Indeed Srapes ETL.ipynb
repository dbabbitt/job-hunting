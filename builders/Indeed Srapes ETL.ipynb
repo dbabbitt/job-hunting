{
 "cells": [
  {
   "cell_type": "code",
   "execution_count": 1,
   "metadata": {},
   "outputs": [
    {
     "name": "stdout",
     "output_type": "stream",
     "text": [
      "Pretty printing has been turned OFF\n"
     ]
    }
   ],
   "source": [
    "\n",
    "%pprint"
   ]
  },
  {
   "cell_type": "code",
   "execution_count": 2,
   "metadata": {},
   "outputs": [],
   "source": [
    "\n",
    "import sys\n",
    "\n",
    "# Insert at 1, 0 is the script path (or '' in REPL)\n",
    "sys.path.insert(1, '../py')"
   ]
  },
  {
   "cell_type": "code",
   "execution_count": 3,
   "metadata": {},
   "outputs": [
    {
     "name": "stdout",
     "output_type": "stream",
     "text": [
      "CPU times: total: 1.95 s\n",
      "Wall time: 2.72 s\n"
     ]
    }
   ],
   "source": [
    "\n",
    "%%time\n",
    "from scrape_utils import WebScrapingUtilities\n",
    "%run ../load_magic/storage.py\n",
    "from html_analysis import HeaderAnalysis\n",
    "from cypher_utils import CypherUtilities\n",
    "\n",
    "wsu = WebScrapingUtilities()\n",
    "uri = wsu.secrets_json['neo4j']['connect_url']\n",
    "user =  wsu.secrets_json['neo4j']['username']\n",
    "password = wsu.secrets_json['neo4j']['password']\n",
    "s = Storage()\n",
    "ha = HeaderAnalysis()\n",
    "cu = CypherUtilities(uri=uri, user=user, password=password, driver=None, s=s, ha=ha)"
   ]
  },
  {
   "cell_type": "code",
   "execution_count": 4,
   "metadata": {},
   "outputs": [],
   "source": [
    "\n",
    "from datetime import datetime\n",
    "from urllib.parse import urlparse, parse_qs\n",
    "%run ../load_magic/dataframes.py\n",
    "from html_analysis import ElementAnalysis\n",
    "from IPython.display import clear_output\n",
    "\n",
    "ea = ElementAnalysis()"
   ]
  },
  {
   "cell_type": "markdown",
   "metadata": {},
   "source": [
    "\n",
    "----"
   ]
  },
  {
   "cell_type": "code",
   "execution_count": 5,
   "metadata": {},
   "outputs": [],
   "source": [
    "\n",
    "file_path = '../data/html/indeed_email.html'\n",
    "page_soup = get_page_soup(file_path)\n",
    "css_selector = 'body > table > tbody > tr > td > a > table > tbody > tr > td > a'\n",
    "link_soups_list = page_soup.select(css_selector)\n",
    "files_list = []\n",
    "for link_soup in link_soups_list:\n",
    "    url_str = link_soup['href']\n",
    "    page_soup = get_page_soup(url_str)\n",
    "    page_title = page_soup.find('title').string.strip()\n",
    "    file_name = re.sub(r'\\W+', ' ', page_title).strip().replace(' ', '_')\n",
    "    jk = parse_qs(urlparse(url_str).query).get('jk', [''])[0]\n",
    "    if len(jk):\n",
    "        file_name = f'{jk}_{file_name}.html'\n",
    "    else:\n",
    "        # file_name = datetime.now().strftime('%Y%m%d%H%M%S%f') + f'_{file_name}.html'\n",
    "        file_name = f'{file_name}.html'\n",
    "    file_path = os.path.join(cu.SAVES_HTML_FOLDER, file_name)\n",
    "    if not os.path.isfile(file_path):\n",
    "        with open(file_path, 'w', encoding=s.encoding_type) as f:\n",
    "            if verbose:\n",
    "                print(f'Saving to {file_path}')\n",
    "            f.write('<html><head><title>')\n",
    "            f.write(page_title)\n",
    "            f.write('</title></head><body>')\n",
    "            row_div_list = page_soup.find_all(name='div', attrs={'class': ['jobsearch-JobComponent-description']})\n",
    "            for div_soup in row_div_list:\n",
    "                f.write(str(div_soup))\n",
    "            f.write('</body></html>')\n",
    "    files_list.append(file_name)"
   ]
  },
  {
   "cell_type": "code",
   "execution_count": null,
   "metadata": {},
   "outputs": [],
   "source": [
    "\n",
    "verbose = True\n",
    "cu.ensure_navigableparent('END', verbose=verbose)\n",
    "for file_name in files_list:\n",
    "    cu.ensure_filename(file_name, verbose=verbose)\n",
    "    file_path = os.path.join(cu.SAVES_HTML_FOLDER, file_name)\n",
    "    page_soup = get_page_soup(file_path)\n",
    "    row_div_list = page_soup.find_all(name='div', id='jobDescriptionText')\n",
    "    for div_soup in row_div_list:\n",
    "        child_strs_list = ha.get_navigable_children(div_soup, [])\n",
    "        for sequence_order, (navigable_parent1, navigable_parent2) in enumerate(zip(child_strs_list[:-1], child_strs_list[1:])):\n",
    "            clear_output(wait=True)\n",
    "            cu.ensure_navigableparent(navigable_parent1, verbose=verbose)\n",
    "            cu.ensure_navigableparents_relationship(navigable_parent1, navigable_parent2, file_name, sequence_order, verbose=verbose)\n",
    "        \n",
    "        # Add a fake relationship at the end\n",
    "        clear_output(wait=True)\n",
    "        cu.ensure_navigableparent(navigable_parent2, verbose=verbose)\n",
    "        cu.ensure_navigableparents_relationship(navigable_parent2, 'END', file_name, sequence_order+1, verbose=verbose)\n",
    "        \n",
    "        child_tags_list = ha.get_child_tags_list(child_strs_list)\n",
    "        for sequence_order, (header_tag1, header_tag2) in enumerate(zip(child_tags_list[:-1], child_tags_list[1:])):\n",
    "            clear_output(wait=True)\n",
    "            cu.ensure_headertag(header_tag1, verbose=verbose)\n",
    "            cu.ensure_headertags_relationship(header_tag1, header_tag2, file_name, sequence_order, verbose=verbose)\n",
    "        \n",
    "        # Add a fake relationship at the end\n",
    "        clear_output(wait=True)\n",
    "        cu.ensure_headertag(header_tag2, verbose=verbose)\n",
    "        cu.ensure_headertags_relationship(header_tag2, 'END', file_name, sequence_order+1, verbose=verbose)\n",
    "        \n",
    "        for sequence_order, (navigable_parent, header_tag) in enumerate(zip(child_strs_list, child_tags_list)):\n",
    "            clear_output(wait=True)\n",
    "            cu.ensure_headertag_navigableparent_relationship(header_tag, navigable_parent, verbose=verbose)"
   ]
  }
 ],
 "metadata": {
  "anaconda-cloud": {},
  "kernelspec": {
   "display_name": "Python 3 (ipykernel)",
   "language": "python",
   "name": "python3"
  },
  "language_info": {
   "codemirror_mode": {
    "name": "ipython",
    "version": 3
   },
   "file_extension": ".py",
   "mimetype": "text/x-python",
   "name": "python",
   "nbconvert_exporter": "python",
   "pygments_lexer": "ipython3",
   "version": "3.9.7"
  }
 },
 "nbformat": 4,
 "nbformat_minor": 4
}
