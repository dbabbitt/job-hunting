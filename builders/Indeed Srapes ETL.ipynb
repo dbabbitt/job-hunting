{
 "cells": [
  {
   "cell_type": "code",
   "execution_count": 1,
   "metadata": {},
   "outputs": [
    {
     "name": "stdout",
     "output_type": "stream",
     "text": [
      "Pretty printing has been turned OFF\n"
     ]
    }
   ],
   "source": [
    "\n",
    "%pprint"
   ]
  },
  {
   "cell_type": "code",
   "execution_count": 2,
   "metadata": {},
   "outputs": [],
   "source": [
    "\n",
    "import sys\n",
    "\n",
    "# Insert at 1, 0 is the script path (or '' in REPL)\n",
    "sys.path.insert(1, '../py')"
   ]
  },
  {
   "cell_type": "code",
   "execution_count": 3,
   "metadata": {},
   "outputs": [],
   "source": [
    "\n",
    "from pandas import DataFrame\n",
    "\n",
    "from storage import Storage\n",
    "s = Storage()\n",
    "\n",
    "from ha_utils import HeaderAnalysis\n",
    "ha = HeaderAnalysis(verbose=False)\n",
    "\n",
    "from scrape_utils import WebScrapingUtilities\n",
    "wsu = WebScrapingUtilities()\n",
    "uri = wsu.secrets_json['neo4j']['connect_url']\n",
    "user =  wsu.secrets_json['neo4j']['username']\n",
    "password = wsu.secrets_json['neo4j']['password']\n",
    "\n",
    "from cypher_utils import CypherUtilities\n",
    "cu = CypherUtilities(uri=uri, user=user, password=password, driver=None, s=s, ha=ha)"
   ]
  },
  {
   "cell_type": "code",
   "execution_count": 4,
   "metadata": {},
   "outputs": [],
   "source": [
    "\n",
    "from neo4j.exceptions import ServiceUnavailable\n",
    "\n",
    "try:\n",
    "    version_str = cu.driver.verify_connectivity()\n",
    "    \n",
    "    from hc_utils import HeaderCategories\n",
    "    hc = HeaderCategories(cu=cu, verbose=False)\n",
    "\n",
    "    from section_utils import SectionUtilities\n",
    "    su = SectionUtilities(s=s, ha=ha, wsu=wsu, cu=cu, verbose=False)\n",
    "\n",
    "    from lr_utils import LrUtilities\n",
    "    lru = LrUtilities(ha=ha, cu=cu, hc=hc, verbose=False)\n",
    "    lru.build_isheader_logistic_regression_elements()\n",
    "    lru.build_pos_logistic_regression_elements()\n",
    "\n",
    "    import warnings\n",
    "    warnings.filterwarnings('ignore')\n",
    "except ServiceUnavailable as e:\n",
    "    # print(str(e).strip())\n",
    "    raise ServiceUnavailable('You need to start Neo4j as a console')\n",
    "except Exception as e:\n",
    "    print(e.__class__)"
   ]
  },
  {
   "cell_type": "code",
   "execution_count": 5,
   "metadata": {},
   "outputs": [
    {
     "name": "stdout",
     "output_type": "stream",
     "text": [
      "Last run on 2022-07-25 10:12:27.330749\n"
     ]
    }
   ],
   "source": [
    "\n",
    "%run ../load_magic/dataframes.py\n",
    "from urllib.parse import urlparse, parse_qs\n",
    "from urllib.error import HTTPError, URLError\n",
    "from IPython.display import clear_output\n",
    "from datetime import datetime\n",
    "print(f'Last run on {datetime.now()}')"
   ]
  },
  {
   "cell_type": "markdown",
   "metadata": {},
   "source": [
    "\n",
    "----"
   ]
  },
  {
   "cell_type": "code",
   "execution_count": 16,
   "metadata": {},
   "outputs": [
    {
     "name": "stdout",
     "output_type": "stream",
     "text": [
      "\n",
      "                MATCH (fn:FileNames {file_name: \"Qlikview_Software_Engineer_New_York_NY_Indeed_com.html\"})\n",
      "                SET fn.posting_url = \"https://www.indeed.com/pagead/clk/dl?mo=r&ad=-6NYlbfkN0Cnp95dEus6hpwNZzYO14T2JYXzT_gSfUX9Wy6PXUfQDWuhabOeV2rgtvG_80Q8RVgTppAOBERaGmqU2Tjy6ADYj_WI-6p4NU4Vw6gZa9zojHPNlmiT5p8yiTokl6cCT3ntNN2h-8sH2ZUgmnv1ySdUXBveiNqkHi2BQr7-6FIUae7cwW_SoQkOAhJy2y3AEaVjR6w83Ej5y4MHCMGC_1Hl2v3lc4_muAffn5dv7UIkggQ7LC_JAdlj2_fJnAHtF6zwN4U2OZ2qp7LdnIOMp_kN0_1xYFp7fxJ-cKIHff5hnM99Tfr7aH_KNseWJOuy4yqRD7mibxYiE74lHxN-mt9ilSNTeOZxZaT-rFbBCRc1MAfHqsEKdFvB3UM9qwPxI6wl_3JKHOvyjtdPnSHvjMYXoOrqQvKocW_zI3Hk1m9Jo4eeU0a-1xVPlRlFBZ4lP93wvtO-CLyyfIwS75pU0Xp_4IpqyFHrc2QXgQ75CqcWRY78O5pBUpdIfLCtxm_5lzI%3D&xkcb=SoAU-_M3bThuMc7btp0LbzkdCdPP&p=0&jsa=3954&rjs=1&tmtk=1g8jkilhbq5ld800&gdfvj=1&alid=62cdb0067c78606171e5793c&fvj=1\"\n",
      "                RETURN fn;\n",
      "[{0: 'Qlikview_Software_Engineer_New_York_NY_Indeed_com.html'}, {0: 'https://www.indeed.com/pagead/clk/dl?mo=r&ad=-6NYlbfkN0Cnp95dEus6hpwNZzYO14T2JYXzT_gSfUX9Wy6PXUfQDWuhabOeV2rgtvG_80Q8RVgTppAOBERaGmqU2Tjy6ADYj_WI-6p4NU4Vw6gZa9zojHPNlmiT5p8yiTokl6cCT3ntNN2h-8sH2ZUgmnv1ySdUXBveiNqkHi2BQr7-6FIUae7cwW_SoQkOAhJy2y3AEaVjR6w83Ej5y4MHCMGC_1Hl2v3lc4_muAffn5dv7UIkggQ7LC_JAdlj2_fJnAHtF6zwN4U2OZ2qp7LdnIOMp_kN0_1xYFp7fxJ-cKIHff5hnM99Tfr7aH_KNseWJOuy4yqRD7mibxYiE74lHxN-mt9ilSNTeOZxZaT-rFbBCRc1MAfHqsEKdFvB3UM9qwPxI6wl_3JKHOvyjtdPnSHvjMYXoOrqQvKocW_zI3Hk1m9Jo4eeU0a-1xVPlRlFBZ4lP93wvtO-CLyyfIwS75pU0Xp_4IpqyFHrc2QXgQ75CqcWRY78O5pBUpdIfLCtxm_5lzI%3D&xkcb=SoAU-_M3bThuMc7btp0LbzkdCdPP&p=0&jsa=3954&rjs=1&tmtk=1g8jkilhbq5ld800&gdfvj=1&alid=62cdb0067c78606171e5793c&fvj=1'}]\n",
      "Fileing 0 postings complete\n"
     ]
    }
   ],
   "source": [
    "\n",
    "file_path = '../data/html/indeed_email.html'\n",
    "page_soup = wsu.get_page_soup(file_path)\n",
    "css_selector = 'body > table > tbody > tr > td > a > table > tbody > tr > td > a'\n",
    "link_soups_list = page_soup.select(css_selector)\n",
    "files_list = []\n",
    "for link_soup in link_soups_list:\n",
    "    url_str = link_soup['href']\n",
    "    file_node_dict, files_list = su.load_indeed_posting_url(viewjob_url=url_str, files_list=files_list, verbose=True)\n",
    "print(f'Fileing {len(files_list)} postings complete')"
   ]
  },
  {
   "cell_type": "code",
   "execution_count": 17,
   "metadata": {},
   "outputs": [
    {
     "data": {
      "text/plain": [
       "[]"
      ]
     },
     "execution_count": 17,
     "metadata": {},
     "output_type": "execute_result"
    }
   ],
   "source": [
    "\n",
    "cu.ensure_navigableparent('END', verbose=False)\n",
    "for file_name in files_list:\n",
    "    file_path = os.path.join(cu.SAVES_HTML_FOLDER, file_name)\n",
    "    page_soup = wsu.get_page_soup(file_path)\n",
    "    row_div_list = page_soup.find_all(name='div', id='jobDescriptionText')\n",
    "    for div_soup in row_div_list:\n",
    "        child_strs_list = ha.get_navigable_children(div_soup, [])\n",
    "        cu.populate_from_child_strings(child_strs_list, file_name, verbose=False)\n",
    "files_list"
   ]
  },
  {
   "cell_type": "code",
   "execution_count": null,
   "metadata": {},
   "outputs": [],
   "source": []
  }
 ],
 "metadata": {
  "anaconda-cloud": {},
  "kernelspec": {
   "display_name": "Python 3 (ipykernel)",
   "language": "python",
   "name": "python3"
  },
  "language_info": {
   "codemirror_mode": {
    "name": "ipython",
    "version": 3
   },
   "file_extension": ".py",
   "mimetype": "text/x-python",
   "name": "python",
   "nbconvert_exporter": "python",
   "pygments_lexer": "ipython3",
   "version": "3.9.7"
  }
 },
 "nbformat": 4,
 "nbformat_minor": 4
}
