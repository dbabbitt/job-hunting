{
 "cells": [
  {
   "cell_type": "code",
   "execution_count": 4,
   "id": "thousand-advertiser",
   "metadata": {},
   "outputs": [],
   "source": [
    "\n",
    "import re\n",
    "\n",
    "tspans_list = ['Newborn Behavioral Cues', 'Engagement', 'Relaxed body', 'Bright, wide open eyes',\n",
    "               'Bright face', 'Making eye contact', 'Smiling', 'Smooth movements',\n",
    "               'Reaching out to touch you', 'Raised head', 'Gazing at your face', 'Feeding sounds',\n",
    "               'Disengagement', 'Turning away', 'Pushing away', 'Glassy eyes', 'Fusiness', 'Halt hand',\n",
    "               'Squirming', 'Kicking', 'Grimace / cry face / dull expression', 'Hand behind head',\n",
    "               'Hand to ear', 'Hiccups', 'Fast breathing', 'Looking away', 'Jerky motions', 'Lip grimace',\n",
    "               'Overstimulation', 'Grinding cry', 'Stiff posture', 'Tight muscles', 'Exhaustion', 'Yawning',\n",
    "               'Rubbing eyes or ears', 'Dull, glassy expression', 'Staring into the', 'distance',\n",
    "               'Jerky movements', 'Losing interest in people/things', 'Fussiness', 'Sucking fingers',\n",
    "               'Pooping', 'Thoughtful expression', 'Grunting', 'Pursed lips', 'Furrowed brow', 'Gassiness',\n",
    "               'Creaky noises', 'Squirming', 'Pulling legs to stomach', 'Grimacing', 'Satiety',\n",
    "               'Relaxed, satisfied expression', '\"Milk drunk\"', 'Nodding off', 'Smacking lips',\n",
    "               'Straight fingers', 'Arms & legs extended', 'Arms straight and at sides', 'Hunger', 'Rooting',\n",
    "               'Sucking hands or fingers', 'Tongue thrusts', 'Suckling noises', 'Diving for a nipple',\n",
    "               'Turning towards the breast', 'Clenched fists (Particularly over tummy)',\n",
    "               'Flexed arms & legs', 'Zack Polozune © 2020', 'Sleep States', 'Active (REM) Sleep',\n",
    "               'Eyelids twitching', 'Smiling, grimacing, etc…', 'Suckling', 'Twitching',\n",
    "               'Moro reflex triggered', 'Deep Sleep', 'Still; little movement', 'Regular breathing',\n",
    "               'Relaxed face and body']\n",
    "file_path = r'C:\\Users\\dev\\Downloads\\Newborn_Behavioral_Cues_tspans.svg'\n",
    "with open(file_path, 'w') as f:\n",
    "    for tspan_str in tspans_list:\n",
    "        id_suffix = re.sub(r'\\W+', ' ', tspan_str).strip().lower().replace(' ', '-')\n",
    "        print(f'''\n",
    "        <text\n",
    "           id=\"text-{id_suffix}\">\n",
    "          <tspan\n",
    "             id=\"tspan-{id_suffix}\">{tspan_str}</tspan>\n",
    "        </text>''', file=f)"
   ]
  },
  {
   "cell_type": "code",
   "execution_count": 8,
   "id": "binary-seafood",
   "metadata": {},
   "outputs": [
    {
     "data": {
      "text/plain": [
       "298"
      ]
     },
     "execution_count": 8,
     "metadata": {},
     "output_type": "execute_result"
    }
   ],
   "source": [
    "\n",
    "from datetime import date\n",
    "\n",
    "signed_date = date(year=2020, month=3, day=8)\n",
    "year_end_date = date(year=2020, month=12, day=31)\n",
    "date_diff = year_end_date - signed_date\n",
    "date_diff.days"
   ]
  },
  {
   "cell_type": "code",
   "execution_count": null,
   "id": "brown-arabic",
   "metadata": {},
   "outputs": [],
   "source": []
  }
 ],
 "metadata": {
  "kernelspec": {
   "display_name": "Job Hunting (Python 3.7.9)",
   "language": "python",
   "name": "jh_env"
  },
  "language_info": {
   "codemirror_mode": {
    "name": "ipython",
    "version": 3
   },
   "file_extension": ".py",
   "mimetype": "text/x-python",
   "name": "python",
   "nbconvert_exporter": "python",
   "pygments_lexer": "ipython3",
   "version": "3.7.9"
  }
 },
 "nbformat": 4,
 "nbformat_minor": 5
}
