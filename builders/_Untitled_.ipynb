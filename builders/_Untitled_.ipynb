{
 "cells": [
  {
   "cell_type": "code",
   "execution_count": 19,
   "id": "stuffed-ethics",
   "metadata": {},
   "outputs": [],
   "source": [
    "\n",
    "import json\n",
    "\n",
    "function_list = ['create_task_scope_pickle', 'create_req_quals_pickle', 'create_preff_quals_pickle',\n",
    "                 'create_legal_notifs_pickle', 'create_job_title_pickle', 'create_office_loc_pickle',\n",
    "                 'create_job_duration_pickle', 'create_supp_pay_pickle', 'create_educ_reqs_pickle',\n",
    "                 'create_interv_proc_pickle', 'create_corp_scope_pickle', 'create_post_date_pickle',\n",
    "                 'create_other_pickle']\n",
    "for function_str in function_list:\n",
    "    with open('../data/json/template.json') as f:\n",
    "        ipynb_json = json.load(f)\n",
    "    markup_source_list = ipynb_json['cells'][1]['source']\n",
    "    markup_source_list[2] = function_str.replace('create_',\n",
    "                                                 '# Create the ').replace('_pickle',\n",
    "                                                                          ' list').replace('_', ' ').title()\n",
    "    ipynb_json['cells'][1]['source'] = markup_source_list\n",
    "    call_source_list = ipynb_json['cells'][2]['source']\n",
    "    call_source_list[6] = f'su.{function_str}(cursor, verbose=False)'\n",
    "    ipynb_json['cells'][2]['source'] = call_source_list\n",
    "    with open(f'{function_str}.ipynb', 'w') as f:\n",
    "        json.dump(ipynb_json, f)"
   ]
  },
  {
   "cell_type": "code",
   "execution_count": null,
   "id": "dangerous-teddy",
   "metadata": {},
   "outputs": [],
   "source": []
  }
 ],
 "metadata": {
  "kernelspec": {
   "display_name": "Job Hunting (Python 3.7.9)",
   "language": "python",
   "name": "jh"
  },
  "language_info": {
   "codemirror_mode": {
    "name": "ipython",
    "version": 3
   },
   "file_extension": ".py",
   "mimetype": "text/x-python",
   "name": "python",
   "nbconvert_exporter": "python",
   "pygments_lexer": "ipython3",
   "version": "3.7.9"
  }
 },
 "nbformat": 4,
 "nbformat_minor": 5
}
