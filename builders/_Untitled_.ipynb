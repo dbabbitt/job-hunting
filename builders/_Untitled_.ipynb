{
 "cells": [
  {
   "cell_type": "code",
   "execution_count": 1,
   "id": "f4f50483-4c5c-4270-9eae-b52faed2323b",
   "metadata": {},
   "outputs": [
    {
     "name": "stdout",
     "output_type": "stream",
     "text": [
      "Pretty printing has been turned OFF\n"
     ]
    }
   ],
   "source": [
    "\n",
    "%pprint"
   ]
  },
  {
   "cell_type": "code",
   "execution_count": 2,
   "id": "ae56d24e-1102-4e4d-9521-90d982db0ddf",
   "metadata": {},
   "outputs": [],
   "source": [
    "\n",
    "import sys\n",
    "\n",
    "# Insert at 1, 0 is the script path (or '' in REPL)\n",
    "sys.path.insert(1, '../py')"
   ]
  },
  {
   "cell_type": "code",
   "execution_count": 3,
   "id": "9b3135ff-d876-4404-9cc9-69d9943618ba",
   "metadata": {},
   "outputs": [
    {
     "name": "stdout",
     "output_type": "stream",
     "text": [
      "CPU times: total: 2.47 s\n",
      "Wall time: 3.41 s\n"
     ]
    }
   ],
   "source": [
    "\n",
    "%%time\n",
    "from scrape_utils import WebScrapingUtilities\n",
    "%run ../load_magic/storage.py\n",
    "from html_analysis import HeaderAnalysis\n",
    "from cypher_utils import CypherUtilities\n",
    "\n",
    "wsu = WebScrapingUtilities()\n",
    "uri = wsu.secrets_json['neo4j']['connect_url']\n",
    "user =  wsu.secrets_json['neo4j']['username']\n",
    "password = wsu.secrets_json['neo4j']['password']\n",
    "s = Storage()\n",
    "ha = HeaderAnalysis()\n",
    "cu = CypherUtilities(uri=uri, user=user, password=password, driver=None, s=s, ha=ha)"
   ]
  },
  {
   "cell_type": "code",
   "execution_count": 18,
   "id": "467ed059-41fd-4ed9-a079-22aecf2cb6cd",
   "metadata": {},
   "outputs": [
    {
     "data": {
      "text/plain": [
       "{'initial_tag': 'h2', 'is_header': True, 'is_task_scope': True, 'is_minimum_qualification': False, 'is_preferred_qualification': False, 'is_legal_notification': False, 'is_job_title': False, 'is_office_location': False, 'is_job_duration': False, 'is_supplemental_pay': False, 'is_educational_requirement': False, 'is_interview_procedure': False, 'is_corporate_scope': False, 'is_posting_date': False, 'is_other': False, 'child_str': '<h2 class=\"jobsearch-JobDescriptionSection-jobDescriptionTitle icl-u-xs-my--md\" id=\"jobDescriptionTitle\">Full Job Description</h2>'}"
      ]
     },
     "execution_count": 18,
     "metadata": {},
     "output_type": "execute_result"
    }
   ],
   "source": [
    "\n",
    "HEADER_PATTERN_DICT = s.load_object('HEADER_PATTERN_DICT')\n",
    "list(HEADER_PATTERN_DICT.values())[0][0]"
   ]
  },
  {
   "cell_type": "raw",
   "id": "427eadca-9ee0-4724-8f99-073664336fd8",
   "metadata": {},
   "source": [
    "\n",
    "cu.ensure_navigableparent_is_header_from_dictionary(verbose=False)"
   ]
  },
  {
   "cell_type": "raw",
   "id": "ebcc1e18-d8f7-4dcd-b1d6-3ae8efaa6e31",
   "metadata": {},
   "source": [
    "\n",
    "file_name = '9dc7201db74605e8_Data_Business_Analyst_Remote_Indeed_com.html'\n",
    "child_strs_list = ha.get_child_strs_from_file(file_name)\n",
    "cu.find_basic_quals_section(child_strs_list, hc=None, ea=None, verbose=True)"
   ]
  },
  {
   "cell_type": "raw",
   "id": "44bea10a-3ae4-4f32-9a9a-40deee0d26ae",
   "metadata": {},
   "source": [
    "\n",
    "verbose = True\n",
    "child_tags_list = []\n",
    "for navigable_parent in child_strs_list:\n",
    "    navigable_parent = cu.clean_text(navigable_parent)\n",
    "    cypher_str = cu.select_header_tag_where_navigable_parent_cypher_str.format(navigable_parent)\n",
    "    if verbose:\n",
    "        print(cypher_str)\n",
    "    row_objs_list = cu.get_execution_results(cypher_str, verbose=verbose)\n",
    "    header_tag = [row_obj['fn'].get('header_tag') for row_obj in row_objs_list][0]\n",
    "    child_tags_list.append(header_tag)"
   ]
  },
  {
   "cell_type": "code",
   "execution_count": 4,
   "id": "2f49373b-5309-4cb2-8e9e-cef28cf44c3b",
   "metadata": {},
   "outputs": [
    {
     "name": "stdout",
     "output_type": "stream",
     "text": [
      "\n",
      "            MATCH (pos:PartsOfSpeech)-[r:SUMMARIZES]->(np:NavigableParents)\n",
      "            RETURN\n",
      "                np.navigable_parent AS navigable_parent,\n",
      "                pos.pos_symbol AS pos_symbol;\n",
      "pos_df.columns = Index(['navigable_parent', 'pos_symbol'], dtype='object')\n",
      "[LibLinear][LibLinear][LibLinear][LibLinear][LibLinear][LibLinear][LibLinear][LibLinear][LibLinear][LibLinear][LibLinear][LibLinear][LibLinear][LibLinear][LibLinear][LibLinear][LibLinear][LibLinear][LibLinear][LibLinear][LibLinear][LibLinear][LibLinear][LibLinear][LibLinear][LibLinear]"
     ]
    },
    {
     "data": {
      "text/plain": [
       "([('O', 15), ('H-TS', 1), ('O', 15), ('H-RQ', 1), ('O', 13), ('H-SP', 1), ('O', 29)], ['O', 'O', 'O', 'O', 'O', 'O', 'O', 'O', 'O', 'O', 'O', 'O', 'O', 'O', 'O', 'H-TS', 'O', 'O', 'O', 'O', 'O', 'O', 'O', 'O', 'O', 'O', 'O', 'O', 'O', 'O', 'O', 'H-RQ', 'O', 'O', 'O', 'O', 'O', 'O', 'O', 'O', 'O', 'O', 'O', 'O', 'O', 'H-SP', 'O', 'O', 'O', 'O', 'O', 'O', 'O', 'O', 'O', 'O', 'O', 'O', 'O', 'O', 'O', 'O', 'O', 'O', 'O', 'O', 'O', 'O', 'O', 'O', 'O', 'O', 'O', 'O', 'O'])"
      ]
     },
     "execution_count": 4,
     "metadata": {},
     "output_type": "execute_result"
    }
   ],
   "source": [
    "\n",
    "from html_analysis import ElementAnalysis\n",
    "\n",
    "file_name = '9dc7201db74605e8_Data_Business_Analyst_Remote_Indeed_com.html'\n",
    "child_strs_list = ha.get_child_strs_from_file(file_name)\n",
    "ea = ElementAnalysis(ha=ha, hc=None)\n",
    "ea.find_basic_quals_section(child_strs_list, verbose=True)"
   ]
  },
  {
   "cell_type": "code",
   "execution_count": 13,
   "id": "3cce788d-30f3-4c59-8696-369a87fa43dd",
   "metadata": {},
   "outputs": [
    {
     "name": "stdout",
     "output_type": "stream",
     "text": [
      "\n",
      "    MATCH (pos:PartsOfSpeech)\n",
      "    UNWIND pos.pos_symbol as s\n",
      "    RETURN count(DISTINCT s) AS num_topics;\n"
     ]
    },
    {
     "data": {
      "text/plain": [
       "26"
      ]
     },
     "execution_count": 13,
     "metadata": {},
     "output_type": "execute_result"
    }
   ],
   "source": [
    "\n",
    "cypher_str = '''\n",
    "    MATCH (pos:PartsOfSpeech)\n",
    "    UNWIND pos.pos_symbol as s\n",
    "    RETURN count(DISTINCT s) AS num_topics;'''\n",
    "row_objs_list = cu.get_execution_results(cypher_str, verbose=True)\n",
    "row_objs_list[0]['num_topics']"
   ]
  },
  {
   "cell_type": "code",
   "execution_count": 5,
   "id": "a6dc870a-1c82-4ab5-b993-95b2241d3564",
   "metadata": {},
   "outputs": [
    {
     "data": {
      "text/html": [
       "<b>Requirements</b><b>WHAT YOU WILL BRING TO OUR COMPANY</b><li>Bachelor's degree required.</li><li>3+ years’ experience in business analysis or related field.</li><li>Advanced technical skills with SQL, Excel, BI.</li><li>Excellent presentation building skills using PowerPoint/keynotes and graphic design skills.</li><li>Experience in creating detailed reports and presentations while being able to work independently to deliver in-depth insights based on varying requirements.</li><li>Property Insurance domain knowledge and experience in the industry – especially around data and analytics – is highly desired.</li><li>Light Python/Jupyter Notebooks knowledge is a plus.</li><i>THE SUCCESSFUL CANDIDATE</i><li>Has the ability to merge, consolidate, cleanse data from multiple non-standardized sources to perform analytics combined with internal datasets.</li><li>Can identify flags based on book analysis and retro results.</li><li>Has in depth analytical and conceptual thinking skills.</li><li>Has the ability/willingness to travel up to 10%.</li>"
      ],
      "text/plain": [
       "<IPython.core.display.HTML object>"
      ]
     },
     "metadata": {},
     "output_type": "display_data"
    }
   ],
   "source": [
    "\n",
    "ea.display_basic_requirements(child_strs_list)"
   ]
  },
  {
   "cell_type": "code",
   "execution_count": null,
   "id": "75d7d169-e2ee-478b-b724-a24b4093b3ab",
   "metadata": {},
   "outputs": [],
   "source": [
    "\n",
    "from html_analysis import LrUtilities\n",
    "\n",
    "lu = LrUtilities(ha=ha, hc=None, cu=cu, verbose=False)\n",
    "predict_percent_fit = lu.build_lr_predict_percent_is_header()"
   ]
  },
  {
   "cell_type": "code",
   "execution_count": 23,
   "id": "0a783d59-2053-497a-aee9-64fbc6042cf7",
   "metadata": {},
   "outputs": [],
   "source": [
    "\n",
    "from sklearn.feature_extraction.text import CountVectorizer\n",
    "\n",
    "if s.pickle_exists('CS_CV'):\n",
    "    lu.CS_CV = s.load_object('CS_CV')\n",
    "else:\n",
    "    lu.CS_CV = CountVectorizer(\n",
    "        analyzer='word',\n",
    "        binary=False,\n",
    "        decode_error='strict',\n",
    "        lowercase=False,\n",
    "        max_df=1.0,\n",
    "        max_features=None,\n",
    "        min_df=0.0,\n",
    "        ngram_range=(1,5),\n",
    "        stop_words=None,\n",
    "        strip_accents='ascii',\n",
    "        tokenizer=ha.html_regex_tokenizer)\n",
    "    s.store_objects(CS_CV=lu.CS_CV)"
   ]
  },
  {
   "cell_type": "code",
   "execution_count": 25,
   "id": "532d2ff7-dddb-4657-8756-3080b64d45af",
   "metadata": {},
   "outputs": [],
   "source": [
    "\n",
    "from sklearn.feature_extraction.text import CountVectorizer\n",
    "from sklearn.feature_extraction.text import TfidfTransformer\n",
    "from sklearn.linear_model import LogisticRegression\n",
    "\n",
    "# Re-transform the bag-of-words and tf-idf from the new manual scores\n",
    "rows_list = [{'navigable_parent': navigable_parent,\n",
    "              'is_header': is_header} for navigable_parent, is_header in ha.NAVIGABLE_PARENT_IS_HEADER_DICT.items()]\n",
    "child_str_df = pd.DataFrame(rows_list)\n",
    "child_str_df.is_header = child_str_df.is_header.astype('bool')\n",
    "\n",
    "# The shape of the Bag-of-words count vector here should be n sentences * m unique words\n",
    "sents_list = child_str_df.navigable_parent.tolist()\n",
    "bow_matrix = lu.CS_CV.fit_transform(sents_list)\n",
    "\n",
    "# Tf-idf must get from Bag-of-words first\n",
    "tfidf_matrix = lu.TT.fit_transform(bow_matrix)"
   ]
  },
  {
   "cell_type": "code",
   "execution_count": 35,
   "id": "a099e5d1-febc-4b0a-abfe-505fdf69840b",
   "metadata": {},
   "outputs": [
    {
     "name": "stdout",
     "output_type": "stream",
     "text": [
      "<class 'numpy.core._exceptions._ArrayMemoryError'> error: Unable to allocate 62.0 GiB for an array with shape (11712, 710081) and data type float64\n"
     ]
    }
   ],
   "source": [
    "\n",
    "# Re-train the classifier\n",
    "try:\n",
    "    import gc\n",
    "\n",
    "    gc.collect()\n",
    "    X = tfidf_matrix.toarray()\n",
    "except Exception as e:\n",
    "    print(f'{e.__class__} error: {str(e).strip()}')\n",
    "    X = tfidf_matrix"
   ]
  },
  {
   "cell_type": "code",
   "execution_count": 19,
   "id": "96329bdb-de56-4063-8905-6556823093a5",
   "metadata": {},
   "outputs": [],
   "source": [
    "\n",
    "if s.pickle_exists('CHILD_STR_CLF'):\n",
    "    lu.CHILD_STR_CLF = s.load_object('CHILD_STR_CLF')\n",
    "else:\n",
    "    lu.CHILD_STR_CLF = LogisticRegression(\n",
    "        C=375.0,\n",
    "        class_weight='balanced',\n",
    "        dual=False,\n",
    "        fit_intercept=True,\n",
    "        intercept_scaling=1,\n",
    "        l1_ratio=None,\n",
    "        max_iter=1000,\n",
    "        multi_class='auto',\n",
    "        n_jobs=None,\n",
    "        penalty='l1',\n",
    "        random_state=None,\n",
    "        solver='liblinear',\n",
    "        tol=0.0001,\n",
    "        verbose=0,\n",
    "        warm_start=False)\n",
    "    s.store_objects(CHILD_STR_CLF=lu.CHILD_STR_CLF)"
   ]
  },
  {
   "cell_type": "code",
   "execution_count": 26,
   "id": "daf809c4-455f-484a-ba81-f21b6162b732",
   "metadata": {},
   "outputs": [
    {
     "data": {
      "text/plain": [
       "LogisticRegression(C=10.0, class_weight='balanced', max_iter=1000, penalty='l1',\n",
       "                   solver='liblinear')"
      ]
     },
     "execution_count": 26,
     "metadata": {},
     "output_type": "execute_result"
    }
   ],
   "source": [
    "\n",
    "y = child_str_df.is_header.to_numpy()\n",
    "lu.CHILD_STR_CLF.fit(tfidf_matrix, y)"
   ]
  },
  {
   "cell_type": "code",
   "execution_count": 27,
   "id": "4edcb42b-2a20-4173-8afc-9f57e5e7303d",
   "metadata": {},
   "outputs": [
    {
     "name": "stdout",
     "output_type": "stream",
     "text": [
      "Pickling to C:\\Users\\daveb\\OneDrive\\Documents\\GitHub\\job-hunting\\saves\\pkl\\CHILD_STR_CLF.pkl\n"
     ]
    }
   ],
   "source": [
    "\n",
    "s.store_objects(CHILD_STR_CLF=lu.CHILD_STR_CLF)"
   ]
  },
  {
   "cell_type": "code",
   "execution_count": 28,
   "id": "068fc13f-47e0-4241-985e-73e2b5698f27",
   "metadata": {},
   "outputs": [],
   "source": [
    "\n",
    "# Re-calibrate the inference engine\n",
    "cv = CountVectorizer(vocabulary=lu.CS_CV.vocabulary_)\n",
    "cv._validate_vocabulary()\n",
    "\n",
    "def predict_percent_fit(navigable_parent):\n",
    "    X_test = lu.TT.transform(cv.transform([navigable_parent])).toarray()\n",
    "    y_predict_proba = lu.CHILD_STR_CLF.predict_proba(X_test)[0][1]\n",
    "\n",
    "    return y_predict_proba"
   ]
  },
  {
   "cell_type": "code",
   "execution_count": 31,
   "id": "eec20d1f-ee63-4e24-9aa3-2d3969c293b6",
   "metadata": {},
   "outputs": [],
   "source": [
    "\n",
    "child_str_df['predict_percent_fit'] = child_str_df.navigable_parent.map(lambda x: predict_percent_fit(x))"
   ]
  },
  {
   "cell_type": "code",
   "execution_count": 34,
   "id": "01938ecc-f549-42ef-9c7c-27137ff7c747",
   "metadata": {},
   "outputs": [
    {
     "name": "stdout",
     "output_type": "stream",
     "text": [
      "0.9999999999944673\n"
     ]
    },
    {
     "data": {
      "text/html": [
       "<div>\n",
       "<style scoped>\n",
       "    .dataframe tbody tr th:only-of-type {\n",
       "        vertical-align: middle;\n",
       "    }\n",
       "\n",
       "    .dataframe tbody tr th {\n",
       "        vertical-align: top;\n",
       "    }\n",
       "\n",
       "    .dataframe thead th {\n",
       "        text-align: right;\n",
       "    }\n",
       "</style>\n",
       "<table border=\"1\" class=\"dataframe\">\n",
       "  <thead>\n",
       "    <tr style=\"text-align: right;\">\n",
       "      <th></th>\n",
       "      <th>navigable_parent</th>\n",
       "      <th>is_header</th>\n",
       "      <th>predict_percent_fit</th>\n",
       "    </tr>\n",
       "  </thead>\n",
       "  <tbody>\n",
       "    <tr>\n",
       "      <th>1498</th>\n",
       "      <td>&lt;b&gt;will not&lt;/b&gt;</td>\n",
       "      <td>False</td>\n",
       "      <td>1.000000e+00</td>\n",
       "    </tr>\n",
       "    <tr>\n",
       "      <th>648</th>\n",
       "      <td>&lt;b&gt;Great analytics&lt;/b&gt;</td>\n",
       "      <td>False</td>\n",
       "      <td>1.000000e+00</td>\n",
       "    </tr>\n",
       "    <tr>\n",
       "      <th>10937</th>\n",
       "      <td>&lt;li&gt;Telerik &amp;amp; Kendo UI Tools, NodeJS, Angu...</td>\n",
       "      <td>False</td>\n",
       "      <td>1.000000e+00</td>\n",
       "    </tr>\n",
       "    <tr>\n",
       "      <th>138</th>\n",
       "      <td>. See below for more information.</td>\n",
       "      <td>False</td>\n",
       "      <td>1.000000e+00</td>\n",
       "    </tr>\n",
       "    <tr>\n",
       "      <th>979</th>\n",
       "      <td>&lt;b&gt;Python &amp;amp; AIMMS;&lt;/b&gt;</td>\n",
       "      <td>False</td>\n",
       "      <td>1.000000e+00</td>\n",
       "    </tr>\n",
       "    <tr>\n",
       "      <th>...</th>\n",
       "      <td>...</td>\n",
       "      <td>...</td>\n",
       "      <td>...</td>\n",
       "    </tr>\n",
       "    <tr>\n",
       "      <th>1487</th>\n",
       "      <td>&lt;b&gt;or&lt;/b&gt;</td>\n",
       "      <td>False</td>\n",
       "      <td>4.271966e-18</td>\n",
       "    </tr>\n",
       "    <tr>\n",
       "      <th>863</th>\n",
       "      <td>&lt;b&gt;OR&lt;/b&gt;</td>\n",
       "      <td>False</td>\n",
       "      <td>4.271966e-18</td>\n",
       "    </tr>\n",
       "    <tr>\n",
       "      <th>249</th>\n",
       "      <td>&lt;b&gt;5+ years&lt;/b&gt;</td>\n",
       "      <td>False</td>\n",
       "      <td>4.162431e-21</td>\n",
       "    </tr>\n",
       "    <tr>\n",
       "      <th>53</th>\n",
       "      <td>*: 3-6 years</td>\n",
       "      <td>False</td>\n",
       "      <td>4.162431e-21</td>\n",
       "    </tr>\n",
       "    <tr>\n",
       "      <th>246</th>\n",
       "      <td>&lt;b&gt;3+ years&lt;/b&gt;</td>\n",
       "      <td>False</td>\n",
       "      <td>4.162431e-21</td>\n",
       "    </tr>\n",
       "  </tbody>\n",
       "</table>\n",
       "<p>10287 rows × 3 columns</p>\n",
       "</div>"
      ],
      "text/plain": [
       "                                        navigable_parent  is_header  \\\n",
       "1498                                     <b>will not</b>      False   \n",
       "648                               <b>Great analytics</b>      False   \n",
       "10937  <li>Telerik &amp; Kendo UI Tools, NodeJS, Angu...      False   \n",
       "138                    . See below for more information.      False   \n",
       "979                           <b>Python &amp; AIMMS;</b>      False   \n",
       "...                                                  ...        ...   \n",
       "1487                                           <b>or</b>      False   \n",
       "863                                            <b>OR</b>      False   \n",
       "249                                      <b>5+ years</b>      False   \n",
       "53                                          *: 3-6 years      False   \n",
       "246                                      <b>3+ years</b>      False   \n",
       "\n",
       "       predict_percent_fit  \n",
       "1498          1.000000e+00  \n",
       "648           1.000000e+00  \n",
       "10937         1.000000e+00  \n",
       "138           1.000000e+00  \n",
       "979           1.000000e+00  \n",
       "...                    ...  \n",
       "1487          4.271966e-18  \n",
       "863           4.271966e-18  \n",
       "249           4.162431e-21  \n",
       "53            4.162431e-21  \n",
       "246           4.162431e-21  \n",
       "\n",
       "[10287 rows x 3 columns]"
      ]
     },
     "metadata": {},
     "output_type": "display_data"
    },
    {
     "name": "stdout",
     "output_type": "stream",
     "text": [
      "3.0143009290415106e-07\n"
     ]
    },
    {
     "data": {
      "text/html": [
       "<div>\n",
       "<style scoped>\n",
       "    .dataframe tbody tr th:only-of-type {\n",
       "        vertical-align: middle;\n",
       "    }\n",
       "\n",
       "    .dataframe tbody tr th {\n",
       "        vertical-align: top;\n",
       "    }\n",
       "\n",
       "    .dataframe thead th {\n",
       "        text-align: right;\n",
       "    }\n",
       "</style>\n",
       "<table border=\"1\" class=\"dataframe\">\n",
       "  <thead>\n",
       "    <tr style=\"text-align: right;\">\n",
       "      <th></th>\n",
       "      <th>navigable_parent</th>\n",
       "      <th>is_header</th>\n",
       "      <th>predict_percent_fit</th>\n",
       "    </tr>\n",
       "  </thead>\n",
       "  <tbody>\n",
       "    <tr>\n",
       "      <th>250</th>\n",
       "      <td>&lt;b&gt;6 years of analytics experience:&lt;/b&gt;</td>\n",
       "      <td>True</td>\n",
       "      <td>3.014301e-07</td>\n",
       "    </tr>\n",
       "    <tr>\n",
       "      <th>380</th>\n",
       "      <td>&lt;b&gt;Big Data:&lt;/b&gt;</td>\n",
       "      <td>True</td>\n",
       "      <td>2.746350e-06</td>\n",
       "    </tr>\n",
       "    <tr>\n",
       "      <th>409</th>\n",
       "      <td>&lt;b&gt;Careers with Optum.&lt;/b&gt;</td>\n",
       "      <td>True</td>\n",
       "      <td>6.361448e-06</td>\n",
       "    </tr>\n",
       "    <tr>\n",
       "      <th>9574</th>\n",
       "      <td>Collaborate with the:</td>\n",
       "      <td>True</td>\n",
       "      <td>2.182146e-05</td>\n",
       "    </tr>\n",
       "    <tr>\n",
       "      <th>480</th>\n",
       "      <td>&lt;b&gt;Data storyteller:&lt;/b&gt;</td>\n",
       "      <td>True</td>\n",
       "      <td>7.441793e-05</td>\n",
       "    </tr>\n",
       "    <tr>\n",
       "      <th>...</th>\n",
       "      <td>...</td>\n",
       "      <td>...</td>\n",
       "      <td>...</td>\n",
       "    </tr>\n",
       "    <tr>\n",
       "      <th>1432</th>\n",
       "      <td>&lt;b&gt;You will:&lt;/b&gt;</td>\n",
       "      <td>True</td>\n",
       "      <td>1.000000e+00</td>\n",
       "    </tr>\n",
       "    <tr>\n",
       "      <th>1435</th>\n",
       "      <td>&lt;b&gt;You:&lt;/b&gt;</td>\n",
       "      <td>True</td>\n",
       "      <td>1.000000e+00</td>\n",
       "    </tr>\n",
       "    <tr>\n",
       "      <th>349</th>\n",
       "      <td>&lt;b&gt;At Compass You Will:&lt;/b&gt;</td>\n",
       "      <td>True</td>\n",
       "      <td>1.000000e+00</td>\n",
       "    </tr>\n",
       "    <tr>\n",
       "      <th>1422</th>\n",
       "      <td>&lt;b&gt;You Will:&lt;/b&gt;</td>\n",
       "      <td>True</td>\n",
       "      <td>1.000000e+00</td>\n",
       "    </tr>\n",
       "    <tr>\n",
       "      <th>10019</th>\n",
       "      <td>REQUIRED below:</td>\n",
       "      <td>True</td>\n",
       "      <td>1.000000e+00</td>\n",
       "    </tr>\n",
       "  </tbody>\n",
       "</table>\n",
       "<p>1425 rows × 3 columns</p>\n",
       "</div>"
      ],
      "text/plain": [
       "                              navigable_parent  is_header  predict_percent_fit\n",
       "250    <b>6 years of analytics experience:</b>       True         3.014301e-07\n",
       "380                           <b>Big Data:</b>       True         2.746350e-06\n",
       "409                 <b>Careers with Optum.</b>       True         6.361448e-06\n",
       "9574                     Collaborate with the:       True         2.182146e-05\n",
       "480                   <b>Data storyteller:</b>       True         7.441793e-05\n",
       "...                                        ...        ...                  ...\n",
       "1432                          <b>You will:</b>       True         1.000000e+00\n",
       "1435                               <b>You:</b>       True         1.000000e+00\n",
       "349                <b>At Compass You Will:</b>       True         1.000000e+00\n",
       "1422                          <b>You Will:</b>       True         1.000000e+00\n",
       "10019                          REQUIRED below:       True         1.000000e+00\n",
       "\n",
       "[1425 rows x 3 columns]"
      ]
     },
     "metadata": {},
     "output_type": "display_data"
    }
   ],
   "source": [
    "\n",
    "mask_series = child_str_df.is_header\n",
    "max_false_percent_fit = child_str_df[~mask_series].predict_percent_fit.max()\n",
    "print(max_false_percent_fit)\n",
    "display(child_str_df[~mask_series].sort_values('predict_percent_fit', ascending=False))\n",
    "min_true_percent_fit = child_str_df[mask_series].predict_percent_fit.min()\n",
    "print(min_true_percent_fit)\n",
    "display(child_str_df[mask_series].sort_values('predict_percent_fit', ascending=True))"
   ]
  },
  {
   "cell_type": "code",
   "execution_count": null,
   "id": "f11c25c0-7685-4290-b096-10347bd6a628",
   "metadata": {},
   "outputs": [],
   "source": []
  }
 ],
 "metadata": {
  "kernelspec": {
   "display_name": "Python 3 (ipykernel)",
   "language": "python",
   "name": "python3"
  },
  "language_info": {
   "codemirror_mode": {
    "name": "ipython",
    "version": 3
   },
   "file_extension": ".py",
   "mimetype": "text/x-python",
   "name": "python",
   "nbconvert_exporter": "python",
   "pygments_lexer": "ipython3",
   "version": "3.9.7"
  }
 },
 "nbformat": 4,
 "nbformat_minor": 5
}
