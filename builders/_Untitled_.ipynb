{
 "cells": [
  {
   "cell_type": "code",
   "execution_count": 1,
   "id": "f4f50483-4c5c-4270-9eae-b52faed2323b",
   "metadata": {},
   "outputs": [
    {
     "name": "stdout",
     "output_type": "stream",
     "text": [
      "Pretty printing has been turned OFF\n"
     ]
    }
   ],
   "source": [
    "\n",
    "%pprint"
   ]
  },
  {
   "cell_type": "code",
   "execution_count": 2,
   "id": "ae56d24e-1102-4e4d-9521-90d982db0ddf",
   "metadata": {},
   "outputs": [],
   "source": [
    "\n",
    "import sys\n",
    "\n",
    "# Insert at 1, 0 is the script path (or '' in REPL)\n",
    "sys.path.insert(1, '../py')"
   ]
  },
  {
   "cell_type": "code",
   "execution_count": 3,
   "id": "9b3135ff-d876-4404-9cc9-69d9943618ba",
   "metadata": {},
   "outputs": [
    {
     "name": "stdout",
     "output_type": "stream",
     "text": [
      "CPU times: total: 1.91 s\n",
      "Wall time: 2.53 s\n"
     ]
    }
   ],
   "source": [
    "\n",
    "%%time\n",
    "from scrape_utils import WebScrapingUtilities\n",
    "%run ../load_magic/storage.py\n",
    "from html_analysis import HeaderAnalysis\n",
    "from cypher_utils import CypherUtilities\n",
    "\n",
    "wsu = WebScrapingUtilities()\n",
    "uri = wsu.secrets_json['neo4j']['connect_url']\n",
    "user =  wsu.secrets_json['neo4j']['username']\n",
    "password = wsu.secrets_json['neo4j']['password']\n",
    "s = Storage()\n",
    "ha = HeaderAnalysis()\n",
    "cu = CypherUtilities(uri=uri, user=user, password=password, driver=None, s=s, ha=ha)"
   ]
  },
  {
   "cell_type": "code",
   "execution_count": 4,
   "id": "brown-arabic",
   "metadata": {},
   "outputs": [],
   "source": [
    "\n",
    "cu.ensure_navigableparent_is_header_from_dictionary(verbose=False)"
   ]
  },
  {
   "cell_type": "code",
   "execution_count": 5,
   "id": "80c251c8-52b2-424b-a77b-bc6f3aec08b9",
   "metadata": {},
   "outputs": [
    {
     "data": {
      "text/plain": [
       "\"(REMOTE) to work on client projects in our office or remotely. It\\\\'s a great opportunity to work across clinical trial phases and multiple therapeutic areas in a cohesive team environment. Duties include but are not limited to:\""
      ]
     },
     "execution_count": 5,
     "metadata": {},
     "output_type": "execute_result"
    }
   ],
   "source": [
    "\n",
    "cu.clean_text(\"(REMOTE) to work on client projects in our office or remotely. It's a great opportunity to work across clinical trial phases and multiple therapeutic areas in a cohesive team environment. Duties include but are not limited to:\")"
   ]
  },
  {
   "cell_type": "code",
   "execution_count": 8,
   "id": "83d52631-75c8-4ee3-a063-e4c40c4e1c82",
   "metadata": {},
   "outputs": [
    {
     "ename": "IndexError",
     "evalue": "list index out of range",
     "output_type": "error",
     "traceback": [
      "\u001b[1;31m---------------------------------------------------------------------------\u001b[0m",
      "\u001b[1;31mIndexError\u001b[0m                                Traceback (most recent call last)",
      "Input \u001b[1;32mIn [8]\u001b[0m, in \u001b[0;36m<cell line: 3>\u001b[1;34m()\u001b[0m\n\u001b[0;32m      1\u001b[0m file_name \u001b[38;5;241m=\u001b[39m \u001b[38;5;124m'\u001b[39m\u001b[38;5;124mSenior_Machine_Learning_Engineer_Rolla_MO_65409_Indeed_com.html\u001b[39m\u001b[38;5;124m'\u001b[39m\n\u001b[0;32m      2\u001b[0m child_strs_list \u001b[38;5;241m=\u001b[39m ha\u001b[38;5;241m.\u001b[39mget_child_strs_from_file(file_name)\n\u001b[1;32m----> 3\u001b[0m \u001b[43mcu\u001b[49m\u001b[38;5;241;43m.\u001b[39;49m\u001b[43mfind_basic_quals_section\u001b[49m\u001b[43m(\u001b[49m\u001b[43mchild_strs_list\u001b[49m\u001b[43m,\u001b[49m\u001b[43m \u001b[49m\u001b[43mhc\u001b[49m\u001b[38;5;241;43m=\u001b[39;49m\u001b[38;5;28;43;01mNone\u001b[39;49;00m\u001b[43m,\u001b[49m\u001b[43m \u001b[49m\u001b[43mea\u001b[49m\u001b[38;5;241;43m=\u001b[39;49m\u001b[38;5;28;43;01mNone\u001b[39;49;00m\u001b[43m,\u001b[49m\u001b[43m \u001b[49m\u001b[43mverbose\u001b[49m\u001b[38;5;241;43m=\u001b[39;49m\u001b[38;5;28;43;01mTrue\u001b[39;49;00m\u001b[43m)\u001b[49m\n",
      "File \u001b[1;32m~\\OneDrive\\Documents\\GitHub\\job-hunting\\builders\\../py\\cypher_utils.py:1290\u001b[0m, in \u001b[0;36mCypherUtilities.find_basic_quals_section\u001b[1;34m(self, child_strs_list, hc, ea, verbose)\u001b[0m\n\u001b[0;32m   1288\u001b[0m \u001b[38;5;28;01mif\u001b[39;00m ea \u001b[38;5;129;01mis\u001b[39;00m \u001b[38;5;28;01mNone\u001b[39;00m:\n\u001b[0;32m   1289\u001b[0m     ea \u001b[38;5;241m=\u001b[39m html_analysis\u001b[38;5;241m.\u001b[39mElementAnalysis()\n\u001b[1;32m-> 1290\u001b[0m child_tags_list \u001b[38;5;241m=\u001b[39m \u001b[38;5;28;43mself\u001b[39;49m\u001b[38;5;241;43m.\u001b[39;49m\u001b[43mget_child_tags_list\u001b[49m\u001b[43m(\u001b[49m\u001b[43mchild_strs_list\u001b[49m\u001b[43m)\u001b[49m\n\u001b[0;32m   1291\u001b[0m is_header_list \u001b[38;5;241m=\u001b[39m \u001b[38;5;28mself\u001b[39m\u001b[38;5;241m.\u001b[39mget_is_header_list(child_strs_list)\n\u001b[0;32m   1292\u001b[0m feature_dict_list \u001b[38;5;241m=\u001b[39m \u001b[38;5;28mself\u001b[39m\u001b[38;5;241m.\u001b[39mget_feature_dict_list(child_tags_list, child_strs_list, verbose\u001b[38;5;241m=\u001b[39m\u001b[38;5;28;01mFalse\u001b[39;00m)\n",
      "File \u001b[1;32m~\\OneDrive\\Documents\\GitHub\\job-hunting\\builders\\../py\\cypher_utils.py:1140\u001b[0m, in \u001b[0;36mCypherUtilities.get_child_tags_list\u001b[1;34m(self, child_strs_list, verbose)\u001b[0m\n\u001b[0;32m   1138\u001b[0m     navigable_parent \u001b[38;5;241m=\u001b[39m \u001b[38;5;28mself\u001b[39m\u001b[38;5;241m.\u001b[39mclean_text(navigable_parent)\n\u001b[0;32m   1139\u001b[0m     row_objs_list \u001b[38;5;241m=\u001b[39m \u001b[38;5;28mself\u001b[39m\u001b[38;5;241m.\u001b[39mget_execution_results(\u001b[38;5;28mself\u001b[39m\u001b[38;5;241m.\u001b[39mselect_header_tag_where_navigable_parent_cypher_str\u001b[38;5;241m.\u001b[39mformat(navigable_parent), verbose\u001b[38;5;241m=\u001b[39mverbose)\n\u001b[1;32m-> 1140\u001b[0m     header_tag \u001b[38;5;241m=\u001b[39m \u001b[43m[\u001b[49m\u001b[43mrow_obj\u001b[49m\u001b[43m[\u001b[49m\u001b[38;5;124;43m'\u001b[39;49m\u001b[38;5;124;43mfn\u001b[39;49m\u001b[38;5;124;43m'\u001b[39;49m\u001b[43m]\u001b[49m\u001b[38;5;241;43m.\u001b[39;49m\u001b[43mget\u001b[49m\u001b[43m(\u001b[49m\u001b[38;5;124;43m'\u001b[39;49m\u001b[38;5;124;43mheader_tag\u001b[39;49m\u001b[38;5;124;43m'\u001b[39;49m\u001b[43m)\u001b[49m\u001b[43m \u001b[49m\u001b[38;5;28;43;01mfor\u001b[39;49;00m\u001b[43m \u001b[49m\u001b[43mrow_obj\u001b[49m\u001b[43m \u001b[49m\u001b[38;5;129;43;01min\u001b[39;49;00m\u001b[43m \u001b[49m\u001b[43mrow_objs_list\u001b[49m\u001b[43m]\u001b[49m\u001b[43m[\u001b[49m\u001b[38;5;241;43m0\u001b[39;49m\u001b[43m]\u001b[49m\n\u001b[0;32m   1141\u001b[0m     child_tags_list\u001b[38;5;241m.\u001b[39mappend(header_tag)\n\u001b[0;32m   1143\u001b[0m \u001b[38;5;28;01mreturn\u001b[39;00m child_tags_list\n",
      "\u001b[1;31mIndexError\u001b[0m: list index out of range"
     ]
    }
   ],
   "source": [
    "\n",
    "file_name = 'Senior_Machine_Learning_Engineer_Rolla_MO_65409_Indeed_com.html'\n",
    "child_strs_list = ha.get_child_strs_from_file(file_name)\n",
    "cu.find_basic_quals_section(child_strs_list, hc=None, ea=None, verbose=True)"
   ]
  },
  {
   "cell_type": "code",
   "execution_count": 11,
   "id": "2f49373b-5309-4cb2-8e9e-cef28cf44c3b",
   "metadata": {},
   "outputs": [
    {
     "ename": "NameError",
     "evalue": "name 'db' is not defined",
     "output_type": "error",
     "traceback": [
      "\u001b[1;31m---------------------------------------------------------------------------\u001b[0m",
      "\u001b[1;31mNameError\u001b[0m                                 Traceback (most recent call last)",
      "Input \u001b[1;32mIn [11]\u001b[0m, in \u001b[0;36m<cell line: 4>\u001b[1;34m()\u001b[0m\n\u001b[0;32m      1\u001b[0m \u001b[38;5;28;01mfrom\u001b[39;00m \u001b[38;5;21;01mhtml_analysis\u001b[39;00m \u001b[38;5;28;01mimport\u001b[39;00m ElementAnalysis\n\u001b[0;32m      3\u001b[0m ea \u001b[38;5;241m=\u001b[39m ElementAnalysis(ha\u001b[38;5;241m=\u001b[39mha, hc\u001b[38;5;241m=\u001b[39m\u001b[38;5;28;01mNone\u001b[39;00m)\n\u001b[1;32m----> 4\u001b[0m \u001b[43mea\u001b[49m\u001b[38;5;241;43m.\u001b[39;49m\u001b[43mfind_basic_quals_section\u001b[49m\u001b[43m(\u001b[49m\u001b[43mchild_strs_list\u001b[49m\u001b[43m,\u001b[49m\u001b[43m \u001b[49m\u001b[43mverbose\u001b[49m\u001b[38;5;241;43m=\u001b[39;49m\u001b[38;5;28;43;01mTrue\u001b[39;49;00m\u001b[43m)\u001b[49m\n",
      "File \u001b[1;32m~\\OneDrive\\Documents\\GitHub\\job-hunting\\builders\\../py\\html_analysis.py:894\u001b[0m, in \u001b[0;36mElementAnalysis.find_basic_quals_section\u001b[1;34m(self, child_strs_list, verbose)\u001b[0m\n\u001b[0;32m    892\u001b[0m     \u001b[38;5;28;01mfrom\u001b[39;00m \u001b[38;5;21;01mflaskr\u001b[39;00m\u001b[38;5;21;01m.\u001b[39;00m\u001b[38;5;21;01mcypher_utils\u001b[39;00m \u001b[38;5;28;01mimport\u001b[39;00m CypherUtilities\n\u001b[0;32m    893\u001b[0m     cu \u001b[38;5;241m=\u001b[39m CypherUtilities()\n\u001b[1;32m--> 894\u001b[0m child_tags_list \u001b[38;5;241m=\u001b[39m cu\u001b[38;5;241m.\u001b[39mget_child_tags_list(\u001b[43mdb\u001b[49m, child_strs_list)\n\u001b[0;32m    895\u001b[0m is_header_list \u001b[38;5;241m=\u001b[39m cu\u001b[38;5;241m.\u001b[39mget_is_header_list(db, child_strs_list)\n\u001b[0;32m    897\u001b[0m feature_dict_list \u001b[38;5;241m=\u001b[39m cu\u001b[38;5;241m.\u001b[39mget_feature_dict_list(db, child_tags_list, child_strs_list)\n",
      "\u001b[1;31mNameError\u001b[0m: name 'db' is not defined"
     ]
    }
   ],
   "source": [
    "\n",
    "from html_analysis import ElementAnalysis\n",
    "\n",
    "ea = ElementAnalysis(ha=ha, hc=None)\n",
    "ea.find_basic_quals_section(child_strs_list, verbose=True)"
   ]
  },
  {
   "cell_type": "code",
   "execution_count": 12,
   "id": "a6dc870a-1c82-4ab5-b993-95b2241d3564",
   "metadata": {},
   "outputs": [
    {
     "data": {
      "text/plain": [
       "['plaintext', 'plaintext', 'plaintext', 'b', 'li', 'li', 'li', 'li', 'li', 'plaintext', 'b', 'li', 'li', 'li', 'li', 'li', 'plaintext', 'li', 'li', 'li', 'li', 'li', 'plaintext', 'li', 'plaintext', 'li', 'li', 'plaintext', 'li', 'div', 'div', 'plaintext', 'plaintext', 'h2', 'h4', 'span']"
      ]
     },
     "execution_count": 12,
     "metadata": {},
     "output_type": "execute_result"
    }
   ],
   "source": [
    "\n",
    "ha.get_child_tags_list(child_strs_list)"
   ]
  },
  {
   "cell_type": "code",
   "execution_count": 14,
   "id": "75d7d169-e2ee-478b-b724-a24b4093b3ab",
   "metadata": {},
   "outputs": [
    {
     "name": "stdout",
     "output_type": "stream",
     "text": [
      "pos_df.columns = Index(['navigable_parent', 'pos_symbol'], dtype='object')\n"
     ]
    },
    {
     "ename": "MemoryError",
     "evalue": "Unable to allocate 62.0 GiB for an array with shape (11712, 710081) and data type float64",
     "output_type": "error",
     "traceback": [
      "\u001b[1;31m---------------------------------------------------------------------------\u001b[0m",
      "\u001b[1;31mMemoryError\u001b[0m                               Traceback (most recent call last)",
      "Input \u001b[1;32mIn [14]\u001b[0m, in \u001b[0;36m<cell line: 4>\u001b[1;34m()\u001b[0m\n\u001b[0;32m      1\u001b[0m \u001b[38;5;28;01mfrom\u001b[39;00m \u001b[38;5;21;01mhtml_analysis\u001b[39;00m \u001b[38;5;28;01mimport\u001b[39;00m LrUtilities\n\u001b[0;32m      3\u001b[0m lu \u001b[38;5;241m=\u001b[39m LrUtilities(ha\u001b[38;5;241m=\u001b[39mha, hc\u001b[38;5;241m=\u001b[39m\u001b[38;5;28;01mNone\u001b[39;00m, cu\u001b[38;5;241m=\u001b[39mcu, verbose\u001b[38;5;241m=\u001b[39m\u001b[38;5;28;01mFalse\u001b[39;00m)\n\u001b[1;32m----> 4\u001b[0m predict_percent_fit \u001b[38;5;241m=\u001b[39m \u001b[43mlu\u001b[49m\u001b[38;5;241;43m.\u001b[39;49m\u001b[43mbuild_lr_predict_percent_is_header\u001b[49m\u001b[43m(\u001b[49m\u001b[43m)\u001b[49m\n",
      "File \u001b[1;32m~\\OneDrive\\Documents\\GitHub\\job-hunting\\builders\\../py\\html_analysis.py:847\u001b[0m, in \u001b[0;36mLrUtilities.build_lr_predict_percent_is_header\u001b[1;34m(self)\u001b[0m\n\u001b[0;32m    844\u001b[0m tfidf_matrix \u001b[38;5;241m=\u001b[39m \u001b[38;5;28mself\u001b[39m\u001b[38;5;241m.\u001b[39mTT\u001b[38;5;241m.\u001b[39mfit_transform(bow_matrix)\n\u001b[0;32m    846\u001b[0m \u001b[38;5;66;03m# Re-train the classifier\u001b[39;00m\n\u001b[1;32m--> 847\u001b[0m X \u001b[38;5;241m=\u001b[39m \u001b[43mtfidf_matrix\u001b[49m\u001b[38;5;241;43m.\u001b[39;49m\u001b[43mtoarray\u001b[49m\u001b[43m(\u001b[49m\u001b[43m)\u001b[49m\n\u001b[0;32m    848\u001b[0m y \u001b[38;5;241m=\u001b[39m child_str_df\u001b[38;5;241m.\u001b[39mis_header\u001b[38;5;241m.\u001b[39mto_numpy()\n\u001b[0;32m    849\u001b[0m \u001b[38;5;28mself\u001b[39m\u001b[38;5;241m.\u001b[39mCHILD_STR_CLF\u001b[38;5;241m.\u001b[39mfit(X, y)\n",
      "File \u001b[1;32mC:\\ProgramData\\Anaconda3\\lib\\site-packages\\scipy\\sparse\\compressed.py:1039\u001b[0m, in \u001b[0;36m_cs_matrix.toarray\u001b[1;34m(self, order, out)\u001b[0m\n\u001b[0;32m   1037\u001b[0m \u001b[38;5;28;01mif\u001b[39;00m out \u001b[38;5;129;01mis\u001b[39;00m \u001b[38;5;28;01mNone\u001b[39;00m \u001b[38;5;129;01mand\u001b[39;00m order \u001b[38;5;129;01mis\u001b[39;00m \u001b[38;5;28;01mNone\u001b[39;00m:\n\u001b[0;32m   1038\u001b[0m     order \u001b[38;5;241m=\u001b[39m \u001b[38;5;28mself\u001b[39m\u001b[38;5;241m.\u001b[39m_swap(\u001b[38;5;124m'\u001b[39m\u001b[38;5;124mcf\u001b[39m\u001b[38;5;124m'\u001b[39m)[\u001b[38;5;241m0\u001b[39m]\n\u001b[1;32m-> 1039\u001b[0m out \u001b[38;5;241m=\u001b[39m \u001b[38;5;28;43mself\u001b[39;49m\u001b[38;5;241;43m.\u001b[39;49m\u001b[43m_process_toarray_args\u001b[49m\u001b[43m(\u001b[49m\u001b[43morder\u001b[49m\u001b[43m,\u001b[49m\u001b[43m \u001b[49m\u001b[43mout\u001b[49m\u001b[43m)\u001b[49m\n\u001b[0;32m   1040\u001b[0m \u001b[38;5;28;01mif\u001b[39;00m \u001b[38;5;129;01mnot\u001b[39;00m (out\u001b[38;5;241m.\u001b[39mflags\u001b[38;5;241m.\u001b[39mc_contiguous \u001b[38;5;129;01mor\u001b[39;00m out\u001b[38;5;241m.\u001b[39mflags\u001b[38;5;241m.\u001b[39mf_contiguous):\n\u001b[0;32m   1041\u001b[0m     \u001b[38;5;28;01mraise\u001b[39;00m \u001b[38;5;167;01mValueError\u001b[39;00m(\u001b[38;5;124m'\u001b[39m\u001b[38;5;124mOutput array must be C or F contiguous\u001b[39m\u001b[38;5;124m'\u001b[39m)\n",
      "File \u001b[1;32mC:\\ProgramData\\Anaconda3\\lib\\site-packages\\scipy\\sparse\\base.py:1202\u001b[0m, in \u001b[0;36mspmatrix._process_toarray_args\u001b[1;34m(self, order, out)\u001b[0m\n\u001b[0;32m   1200\u001b[0m     \u001b[38;5;28;01mreturn\u001b[39;00m out\n\u001b[0;32m   1201\u001b[0m \u001b[38;5;28;01melse\u001b[39;00m:\n\u001b[1;32m-> 1202\u001b[0m     \u001b[38;5;28;01mreturn\u001b[39;00m \u001b[43mnp\u001b[49m\u001b[38;5;241;43m.\u001b[39;49m\u001b[43mzeros\u001b[49m\u001b[43m(\u001b[49m\u001b[38;5;28;43mself\u001b[39;49m\u001b[38;5;241;43m.\u001b[39;49m\u001b[43mshape\u001b[49m\u001b[43m,\u001b[49m\u001b[43m \u001b[49m\u001b[43mdtype\u001b[49m\u001b[38;5;241;43m=\u001b[39;49m\u001b[38;5;28;43mself\u001b[39;49m\u001b[38;5;241;43m.\u001b[39;49m\u001b[43mdtype\u001b[49m\u001b[43m,\u001b[49m\u001b[43m \u001b[49m\u001b[43morder\u001b[49m\u001b[38;5;241;43m=\u001b[39;49m\u001b[43morder\u001b[49m\u001b[43m)\u001b[49m\n",
      "\u001b[1;31mMemoryError\u001b[0m: Unable to allocate 62.0 GiB for an array with shape (11712, 710081) and data type float64"
     ]
    }
   ],
   "source": [
    "\n",
    "from html_analysis import LrUtilities\n",
    "\n",
    "lu = LrUtilities(ha=ha, hc=None, cu=cu, verbose=False)\n",
    "predict_percent_fit = lu.build_lr_predict_percent_is_header()"
   ]
  },
  {
   "cell_type": "code",
   "execution_count": null,
   "id": "eec20d1f-ee63-4e24-9aa3-2d3969c293b6",
   "metadata": {},
   "outputs": [],
   "source": [
    "\n",
    "predict_percent_fit??"
   ]
  },
  {
   "cell_type": "code",
   "execution_count": null,
   "id": "01938ecc-f549-42ef-9c7c-27137ff7c747",
   "metadata": {},
   "outputs": [],
   "source": []
  }
 ],
 "metadata": {
  "kernelspec": {
   "display_name": "Python 3 (ipykernel)",
   "language": "python",
   "name": "python3"
  },
  "language_info": {
   "codemirror_mode": {
    "name": "ipython",
    "version": 3
   },
   "file_extension": ".py",
   "mimetype": "text/x-python",
   "name": "python",
   "nbconvert_exporter": "python",
   "pygments_lexer": "ipython3",
   "version": "3.9.7"
  }
 },
 "nbformat": 4,
 "nbformat_minor": 5
}
