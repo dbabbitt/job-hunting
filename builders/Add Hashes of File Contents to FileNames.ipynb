{
 "cells": [
  {
   "cell_type": "code",
   "execution_count": 1,
   "metadata": {},
   "outputs": [
    {
     "name": "stdout",
     "output_type": "stream",
     "text": [
      "Pretty printing has been turned OFF\n"
     ]
    }
   ],
   "source": [
    "\n",
    "%pprint"
   ]
  },
  {
   "cell_type": "code",
   "execution_count": 2,
   "metadata": {},
   "outputs": [],
   "source": [
    "\n",
    "import sys\n",
    "\n",
    "# Insert at 1, 0 is the script path (or '' in REPL)\n",
    "sys.path.insert(1, '../py')"
   ]
  },
  {
   "cell_type": "code",
   "execution_count": 3,
   "metadata": {},
   "outputs": [
    {
     "name": "stdout",
     "output_type": "stream",
     "text": [
      "CPU times: total: 1.95 s\n",
      "Wall time: 2.7 s\n"
     ]
    }
   ],
   "source": [
    "\n",
    "%%time\n",
    "from scrape_utils import WebScrapingUtilities\n",
    "%run ../load_magic/storage.py\n",
    "from html_analysis import HeaderAnalysis\n",
    "from cypher_utils import CypherUtilities\n",
    "\n",
    "wsu = WebScrapingUtilities()\n",
    "uri = wsu.secrets_json['neo4j']['connect_url']\n",
    "user =  wsu.secrets_json['neo4j']['username']\n",
    "password = wsu.secrets_json['neo4j']['password']\n",
    "s = Storage()\n",
    "ha = HeaderAnalysis()\n",
    "cu = CypherUtilities(uri=uri, user=user, password=password, driver=None, s=s, ha=ha)"
   ]
  },
  {
   "cell_type": "code",
   "execution_count": 5,
   "metadata": {},
   "outputs": [],
   "source": [
    "\n",
    "files_list = sorted([fn for fn in os.listdir(cu.SAVES_HTML_FOLDER) if fn.endswith('.html')])\n",
    "rows_list = []\n",
    "for file_name in files_list:\n",
    "    file_path = os.path.join(cu.SAVES_HTML_FOLDER, file_name)\n",
    "    file_name = cu.clean_text(file_name)\n",
    "    with open(file_path, 'r', encoding=s.encoding_type) as f:\n",
    "        html_str = f.read()\n",
    "        hashed_str = cu.convert_str_to_hash(html_str)\n",
    "        cypher_str = f'''MERGE (fn:FileNames {{file_name: \"{file_name}\"}}) SET\n",
    "            fn.hashed_str = \"{hashed_str}\"\n",
    "            RETURN fn.file_name_id;'''\n",
    "        # print(cypher_str)\n",
    "        with cu.driver.session() as session:\n",
    "            row_objs_list = session.write_transaction(cu.do_cypher_tx, cypher_str)\n",
    "            file_name_id = row_objs_list[0]['fn.file_name_id']\n",
    "            row_dict = {}\n",
    "            row_dict['file_name_id'] = file_name_id\n",
    "            row_dict['file_name'] = file_name\n",
    "            row_dict['hashed_str'] = hashed_str\n",
    "            rows_list.append(row_dict)\n",
    "df = pd.DataFrame(rows_list)"
   ]
  },
  {
   "cell_type": "code",
   "execution_count": 18,
   "metadata": {},
   "outputs": [],
   "source": [
    "\n",
    "mask_series = df.duplicated(subset='hashed_str', keep=False)\n",
    "file_names_list = df[mask_series].file_name.tolist()\n",
    "filenames_str = '\", \"'.join(file_names_list)\n",
    "cypher_str = f'''MATCH (fn:FileNames)-[r]-()\n",
    "    WHERE fn.file_name IN [\"{filenames_str}\"]\n",
    "    RETURN fn'''\n",
    "with cu.driver.session() as session:\n",
    "    row_objs_list = session.write_transaction(cu.do_cypher_tx, cypher_str)"
   ]
  },
  {
   "cell_type": "code",
   "execution_count": 19,
   "metadata": {},
   "outputs": [
    {
     "data": {
      "text/plain": [
       "306"
      ]
     },
     "execution_count": 19,
     "metadata": {},
     "output_type": "execute_result"
    }
   ],
   "source": [
    "\n",
    "len(row_objs_list)"
   ]
  },
  {
   "cell_type": "code",
   "execution_count": 21,
   "metadata": {},
   "outputs": [
    {
     "name": "stdout",
     "output_type": "stream",
     "text": [
      "{'fn': <Node id=17172 labels=frozenset({'FileNames'}) properties={'hashed_str': '6a93a6105b740bb30b2a32f594830a8f', 'file_name': '20220520170852043704_Lead_Data_Scientist_Work_From_Home_Remote_Indeed_com.html'}>}\n",
      "{'fn': <Node id=17183 labels=frozenset({'FileNames'}) properties={'hashed_str': '6a93a6105b740bb30b2a32f594830a8f', 'file_name': '20220520170929407487_Lead_Data_Scientist_Work_From_Home_Remote_Indeed_com.html'}>}\n",
      "{'fn': <Node id=17187 labels=frozenset({'FileNames'}) properties={'hashed_str': '6a93a6105b740bb30b2a32f594830a8f', 'file_name': '20220520141207556219_Lead_Data_Scientist_Work_From_Home_Remote_Indeed_com.html'}>}\n",
      "{'fn': <Node id=281587 labels=frozenset({'FileNames'}) properties={'hashed_str': '1906bdc61fd13b4cc2b4d4c3077cceb7', 'file_name': 'Senior_Data_Scientist_(Remote-friendly)_11245f91d4ae122b.html', 'file_name_id': 378}>}\n",
      "{'fn': <Node id=281588 labels=frozenset({'FileNames'}) properties={'hashed_str': '1906bdc61fd13b4cc2b4d4c3077cceb7', 'file_name': 'Senior_Data_Scientist_(Remote-friendly)_426ea7127a4b399a.html', 'file_name_id': 379}>}\n"
     ]
    }
   ],
   "source": [
    "\n",
    "cypher_str = f'''MATCH (fn:FileNames)\n",
    "    WHERE fn.file_name IN [\"{filenames_str}\"]\n",
    "    RETURN fn'''\n",
    "with cu.driver.session() as session:\n",
    "    row_objs_list = session.write_transaction(cu.do_cypher_tx, cypher_str)\n",
    "for row_obj in row_objs_list:\n",
    "    print(row_obj)"
   ]
  },
  {
   "cell_type": "code",
   "execution_count": 20,
   "metadata": {},
   "outputs": [],
   "source": [
    "\n",
    "mask_series = df.duplicated(subset='hashed_str', keep='first')\n",
    "for row_index, row_series in df[mask_series].iterrows():\n",
    "    file_name = row_series.file_name\n",
    "    file_path = os.path.join(cu.SAVES_HTML_FOLDER, file_name)\n",
    "    os.remove(file_path)"
   ]
  }
 ],
 "metadata": {
  "anaconda-cloud": {},
  "kernelspec": {
   "display_name": "Python 3 (ipykernel)",
   "language": "python",
   "name": "python3"
  },
  "language_info": {
   "codemirror_mode": {
    "name": "ipython",
    "version": 3
   },
   "file_extension": ".py",
   "mimetype": "text/x-python",
   "name": "python",
   "nbconvert_exporter": "python",
   "pygments_lexer": "ipython3",
   "version": "3.9.7"
  }
 },
 "nbformat": 4,
 "nbformat_minor": 4
}
