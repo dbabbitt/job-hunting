{
 "cells": [
  {
   "cell_type": "code",
   "execution_count": 1,
   "metadata": {},
   "outputs": [
    {
     "name": "stdout",
     "output_type": "stream",
     "text": [
      "Pretty printing has been turned OFF\n"
     ]
    }
   ],
   "source": [
    "\n",
    "%pprint"
   ]
  },
  {
   "cell_type": "code",
   "execution_count": 2,
   "metadata": {},
   "outputs": [
    {
     "name": "stdout",
     "output_type": "stream",
     "text": [
      "Wall time: 2.24 s\n"
     ]
    }
   ],
   "source": [
    "\n",
    "%%time\n",
    "import re\n",
    "import random\n",
    "import textwrap\n",
    "from neo4j import GraphDatabase\n",
    "\n",
    "ZMQInteractiveShell_obj = get_ipython()\n",
    "uri = 'bolt://localhost:7687'\n",
    "user = 'neo4j'\n",
    "password = 'Genesis11'\n",
    "driver = GraphDatabase.driver(uri, auth=(user, password))"
   ]
  },
  {
   "cell_type": "code",
   "execution_count": 3,
   "metadata": {},
   "outputs": [],
   "source": [
    "\n",
    "import pandas as pd\n",
    "\n",
    "def do_cypher_tx(tx, cypher):\n",
    "    results_list = tx.run(cypher)\n",
    "    values_list = []\n",
    "    for record in results_list:\n",
    "        values_list.append(dict(record.items()))\n",
    "    \n",
    "    return values_list"
   ]
  },
  {
   "cell_type": "code",
   "execution_count": 6,
   "metadata": {},
   "outputs": [
    {
     "data": {
      "text/html": [
       "<div>\n",
       "<style scoped>\n",
       "    .dataframe tbody tr th:only-of-type {\n",
       "        vertical-align: middle;\n",
       "    }\n",
       "\n",
       "    .dataframe tbody tr th {\n",
       "        vertical-align: top;\n",
       "    }\n",
       "\n",
       "    .dataframe thead th {\n",
       "        text-align: right;\n",
       "    }\n",
       "</style>\n",
       "<table border=\"1\" class=\"dataframe\">\n",
       "  <thead>\n",
       "    <tr style=\"text-align: right;\">\n",
       "      <th></th>\n",
       "    </tr>\n",
       "  </thead>\n",
       "  <tbody>\n",
       "  </tbody>\n",
       "</table>\n",
       "</div>"
      ],
      "text/plain": [
       "Empty DataFrame\n",
       "Columns: []\n",
       "Index: []"
      ]
     },
     "execution_count": 6,
     "metadata": {},
     "output_type": "execute_result"
    }
   ],
   "source": [
    "\n",
    "# Get the distinct node labels and their counts\n",
    "tx_str = 'MATCH (n) RETURN DISTINCT LABELS(n) AS label_name, COUNT(*) AS label_count'\n",
    "with driver.session() as session:\n",
    "    rows_list = session.read_transaction(do_cypher_tx, tx_str)\n",
    "labels_df = pd.DataFrame(rows_list)\n",
    "# labels_df.label_name = labels_df.label_name.map(lambda x: x[0])\n",
    "# labels_df = labels_df.set_index('label_name')\n",
    "labels_df"
   ]
  },
  {
   "cell_type": "code",
   "execution_count": 15,
   "metadata": {},
   "outputs": [
    {
     "data": {
      "text/html": [
       "<div>\n",
       "<style scoped>\n",
       "    .dataframe tbody tr th:only-of-type {\n",
       "        vertical-align: middle;\n",
       "    }\n",
       "\n",
       "    .dataframe tbody tr th {\n",
       "        vertical-align: top;\n",
       "    }\n",
       "\n",
       "    .dataframe thead th {\n",
       "        text-align: right;\n",
       "    }\n",
       "</style>\n",
       "<table border=\"1\" class=\"dataframe\">\n",
       "  <thead>\n",
       "    <tr style=\"text-align: right;\">\n",
       "      <th></th>\n",
       "      <th>type_count</th>\n",
       "    </tr>\n",
       "    <tr>\n",
       "      <th>type_name</th>\n",
       "      <th></th>\n",
       "    </tr>\n",
       "  </thead>\n",
       "  <tbody>\n",
       "    <tr>\n",
       "      <th>IS_CONTAINED_IN</th>\n",
       "      <td>107824</td>\n",
       "    </tr>\n",
       "    <tr>\n",
       "      <th>IS_PART_OF</th>\n",
       "      <td>107824</td>\n",
       "    </tr>\n",
       "    <tr>\n",
       "      <th>SUMMARIZES</th>\n",
       "      <td>76602</td>\n",
       "    </tr>\n",
       "  </tbody>\n",
       "</table>\n",
       "</div>"
      ],
      "text/plain": [
       "                 type_count\n",
       "type_name                  \n",
       "IS_CONTAINED_IN      107824\n",
       "IS_PART_OF           107824\n",
       "SUMMARIZES            76602"
      ]
     },
     "execution_count": 15,
     "metadata": {},
     "output_type": "execute_result"
    }
   ],
   "source": [
    "\n",
    "# Get the distinct relationship types and their counts\n",
    "tx_str = 'MATCH (a)-[r]-(b) RETURN DISTINCT TYPE(r) AS type_name, COUNT(*) AS type_count'\n",
    "with driver.session() as session:\n",
    "    rows_list = session.read_transaction(do_cypher_tx, tx_str)\n",
    "types_df = pd.DataFrame(rows_list)\n",
    "types_df = types_df.set_index('type_name')\n",
    "types_df"
   ]
  },
  {
   "cell_type": "code",
   "execution_count": 22,
   "metadata": {},
   "outputs": [
    {
     "data": {
      "text/html": [
       "<div>\n",
       "<style scoped>\n",
       "    .dataframe tbody tr th:only-of-type {\n",
       "        vertical-align: middle;\n",
       "    }\n",
       "\n",
       "    .dataframe tbody tr th {\n",
       "        vertical-align: top;\n",
       "    }\n",
       "\n",
       "    .dataframe thead th {\n",
       "        text-align: right;\n",
       "    }\n",
       "</style>\n",
       "<table border=\"1\" class=\"dataframe\">\n",
       "  <thead>\n",
       "    <tr style=\"text-align: right;\">\n",
       "      <th></th>\n",
       "      <th>6995</th>\n",
       "      <th>5408</th>\n",
       "      <th>2280</th>\n",
       "    </tr>\n",
       "  </thead>\n",
       "  <tbody>\n",
       "    <tr>\n",
       "      <th>file_name</th>\n",
       "      <td>Data_Scientist_690af6480b6c96e4.html</td>\n",
       "      <td>Data_Scientist_-_New_York,_NY_10016_-_Indeed.c...</td>\n",
       "      <td>Data_Engineer_III_-_Colorado_-_Indeed.com_782f...</td>\n",
       "    </tr>\n",
       "    <tr>\n",
       "      <th>file_name_id</th>\n",
       "      <td>177</td>\n",
       "      <td>135</td>\n",
       "      <td>50</td>\n",
       "    </tr>\n",
       "    <tr>\n",
       "      <th>mrs_id</th>\n",
       "      <td>0</td>\n",
       "      <td>0</td>\n",
       "      <td>0</td>\n",
       "    </tr>\n",
       "    <tr>\n",
       "      <th>navigable_parent_sequence_id</th>\n",
       "      <td>10123</td>\n",
       "      <td>7455</td>\n",
       "      <td>3031</td>\n",
       "    </tr>\n",
       "    <tr>\n",
       "      <th>sequence_order</th>\n",
       "      <td>60</td>\n",
       "      <td>8</td>\n",
       "      <td>21</td>\n",
       "    </tr>\n",
       "    <tr>\n",
       "      <th>header_tag_id</th>\n",
       "      <td>67</td>\n",
       "      <td>88</td>\n",
       "      <td>67</td>\n",
       "    </tr>\n",
       "    <tr>\n",
       "      <th>navigable_parent_id</th>\n",
       "      <td>9999</td>\n",
       "      <td>14108</td>\n",
       "      <td>7103</td>\n",
       "    </tr>\n",
       "    <tr>\n",
       "      <th>navigable_parent</th>\n",
       "      <td>&lt;li&gt;Retirement Plan&lt;/li&gt;</td>\n",
       "      <td>&lt;p&gt;· Deploy machine learning across the entire...</td>\n",
       "      <td>&lt;li&gt;Experience with agile development processe...</td>\n",
       "    </tr>\n",
       "  </tbody>\n",
       "</table>\n",
       "</div>"
      ],
      "text/plain": [
       "                                                              6995  \\\n",
       "file_name                     Data_Scientist_690af6480b6c96e4.html   \n",
       "file_name_id                                                   177   \n",
       "mrs_id                                                           0   \n",
       "navigable_parent_sequence_id                                 10123   \n",
       "sequence_order                                                  60   \n",
       "header_tag_id                                                   67   \n",
       "navigable_parent_id                                           9999   \n",
       "navigable_parent                          <li>Retirement Plan</li>   \n",
       "\n",
       "                                                                           5408  \\\n",
       "file_name                     Data_Scientist_-_New_York,_NY_10016_-_Indeed.c...   \n",
       "file_name_id                                                                135   \n",
       "mrs_id                                                                        0   \n",
       "navigable_parent_sequence_id                                               7455   \n",
       "sequence_order                                                                8   \n",
       "header_tag_id                                                                88   \n",
       "navigable_parent_id                                                       14108   \n",
       "navigable_parent              <p>· Deploy machine learning across the entire...   \n",
       "\n",
       "                                                                           2280  \n",
       "file_name                     Data_Engineer_III_-_Colorado_-_Indeed.com_782f...  \n",
       "file_name_id                                                                 50  \n",
       "mrs_id                                                                        0  \n",
       "navigable_parent_sequence_id                                               3031  \n",
       "sequence_order                                                               21  \n",
       "header_tag_id                                                                67  \n",
       "navigable_parent_id                                                        7103  \n",
       "navigable_parent              <li>Experience with agile development processe...  "
      ]
     },
     "execution_count": 22,
     "metadata": {},
     "output_type": "execute_result"
    }
   ],
   "source": [
    "\n",
    "# Get the incomplete child strings labeled in the minimum requirements column\n",
    "r = '(fn:FileNames)-[file_name_id]-(nps:NavigableParentSequence)-[navigable_parent_id]-(np:NavigableParents)'\n",
    "tx_str = f'''\n",
    "    MATCH {r}\n",
    "    RETURN\n",
    "        fn.file_name AS file_name, fn.file_name_id AS file_name_id,\n",
    "        nps.mrs_id AS mrs_id, nps.navigable_parent_sequence_id AS navigable_parent_sequence_id,\n",
    "        nps.sequence_order AS sequence_order,\n",
    "        np.header_tag_id AS header_tag_id, np.navigable_parent_id AS navigable_parent_id,\n",
    "        np.navigable_parent AS navigable_parent;'''\n",
    "with driver.session() as session:\n",
    "    rows_list = session.read_transaction(do_cypher_tx, tx_str)\n",
    "nps_df = pd.DataFrame(rows_list)\n",
    "nps_df.sample(3).T"
   ]
  },
  {
   "cell_type": "code",
   "execution_count": 23,
   "metadata": {},
   "outputs": [],
   "source": [
    "\n",
    "mask_series = (nps_df.mrs_id != 0)\n",
    "file_name_ids_list = nps_df[mask_series].file_name_id.unique().tolist()\n",
    "mask_series = nps_df.file_name_id.isin(file_name_ids_list)\n",
    "CHILD_STRS_LIST = nps_df[mask_series].navigable_parent.tolist()"
   ]
  },
  {
   "cell_type": "code",
   "execution_count": 48,
   "metadata": {},
   "outputs": [
    {
     "name": "stdout",
     "output_type": "stream",
     "text": [
      "\n",
      "    MATCH (mrs:MinimumRequirementsSection)-[mrs_id]-(nps:NavigableParentSequence)-[navigable_parent_id]-(np:NavigableParents)\n",
      "    WHERE\n",
      "        (np.is_task_scope IS NULL) OR\n",
      "        (np.is_minimum_qualification IS NULL) OR\n",
      "        (np.is_preferred_qualification IS NULL) OR\n",
      "        (np.is_legal_notification IS NULL) OR\n",
      "        (np.is_job_title IS NULL) OR\n",
      "        (np.is_office_location IS NULL) OR\n",
      "        (np.is_job_duration IS NULL) OR\n",
      "        (np.is_supplemental_pay IS NULL) OR\n",
      "        (np.is_educational_requirement IS NULL) OR\n",
      "        (np.is_interview_procedure IS NULL) OR\n",
      "        (np.is_corporate_scope IS NULL) OR\n",
      "        (np.is_posting_date IS NULL) OR\n",
      "        (np.is_other IS NULL)\n",
      "    RETURN\n",
      "        np.navigable_parent AS navigable_parent,\n",
      "        mrs.mrs_explanation AS mrs_explanation;\n"
     ]
    }
   ],
   "source": [
    "\n",
    "# Get all possible unlabeled HTML strings from the database\n",
    "r = '(mrs:MinimumRequirementsSection)-[mrs_id]-(nps:NavigableParentSequence)-[navigable_parent_id]-'\n",
    "r += '(np:NavigableParents)'\n",
    "APU_TX_STR = f'''\n",
    "    MATCH {r}\n",
    "    WHERE\n",
    "        (np.is_task_scope IS NULL) OR\n",
    "        (np.is_minimum_qualification IS NULL) OR\n",
    "        (np.is_preferred_qualification IS NULL) OR\n",
    "        (np.is_legal_notification IS NULL) OR\n",
    "        (np.is_job_title IS NULL) OR\n",
    "        (np.is_office_location IS NULL) OR\n",
    "        (np.is_job_duration IS NULL) OR\n",
    "        (np.is_supplemental_pay IS NULL) OR\n",
    "        (np.is_educational_requirement IS NULL) OR\n",
    "        (np.is_interview_procedure IS NULL) OR\n",
    "        (np.is_corporate_scope IS NULL) OR\n",
    "        (np.is_posting_date IS NULL) OR\n",
    "        (np.is_other IS NULL)\n",
    "    RETURN\n",
    "        np.navigable_parent AS navigable_parent,\n",
    "        mrs.mrs_explanation AS mrs_explanation;'''\n",
    "print(TX_STR)"
   ]
  },
  {
   "cell_type": "code",
   "execution_count": 98,
   "metadata": {},
   "outputs": [],
   "source": [
    "\n",
    "def get_tx_code():\n",
    "    with driver.session() as session:\n",
    "        rows_list = session.read_transaction(do_cypher_tx, APU_TX_STR)\n",
    "    nonheader_quals_df = pd.DataFrame(rows_list)\n",
    "    mask_series = nonheader_quals_df.navigable_parent.isin(CHILD_STRS_LIST)\n",
    "    output_str = ''\n",
    "    df = nonheader_quals_df[mask_series]\n",
    "    records_count = df.shape[0]\n",
    "    output_str += f'\\n# Only {records_count:,} records to go\\n'\n",
    "    if records_count:\n",
    "        df = df.sample(1)\n",
    "        output_str += f\"# This tag is labeled as {df.mrs_explanation.squeeze()}\\ntag_str =  '\"\n",
    "        tag_str = df.navigable_parent.squeeze().replace(\"'\", \"\\\\'\")\n",
    "        output_str += \"'\\ntag_str += '\".join(textwrap.wrap(tag_str, expand_tabs=False,\n",
    "                                                           replace_whitespace=False,\n",
    "                                                           break_long_words=False, drop_whitespace=False))\n",
    "        output_str += \"'\\n\"\n",
    "        output_str += 'tx_str = \"MATCH (np:NavigableParents {navigable_parent: \\'\" + tag_str + r\"\"\"\\'})\\n'\n",
    "        output_str += 'SET\\n    np.is_header = 0, np.is_task_scope = 0,\\n'\n",
    "        output_str += '    np.is_minimum_qualification = 0, np.is_preferred_qualification = 0,\\n'\n",
    "        output_str += '    np.is_legal_notification = 0, np.is_job_title = 0,\\n'\n",
    "        output_str += '    np.is_office_location = 0, np.is_job_duration = 0,\\n'\n",
    "        output_str += '    np.is_supplemental_pay = 0, np.is_educational_requirement = 0,\\n'\n",
    "        output_str += '    np.is_interview_procedure = 0, np.is_corporate_scope = 0,\\n'\n",
    "        output_str += '    np.is_posting_date = 0, np.is_other = 0\\n'\n",
    "        output_str += 'RETURN PROPERTIES(np) AS properties;\"\"\"\\n'\n",
    "        output_str += 'with driver.session() as session:\\n'\n",
    "        output_str += \"        row_dict = session.write_transaction(do_cypher_tx, tx_str)[0]['properties']\\n\"\n",
    "        output_str += 'pd.DataFrame([row_dict]).T'\n",
    "    \n",
    "    return output_str"
   ]
  },
  {
   "cell_type": "code",
   "execution_count": null,
   "metadata": {},
   "outputs": [],
   "source": [
    "\n",
    "ZMQInteractiveShell_obj.set_next_input(text=get_tx_code(), replace=True)"
   ]
  },
  {
   "cell_type": "code",
   "execution_count": 146,
   "metadata": {},
   "outputs": [],
   "source": [
    "\n",
    "# Only 19 records to go\n",
    "# This tag is labeled as Not a part of the Minimum Requirements Section\n",
    "tag_str =  '<li>Using the FNA platform and scripting language, identify hidden '\n",
    "tag_str += 'behavioural patterns and interconnections in large datasets, helping '\n",
    "tag_str += 'to create breakthrough solutions, performing exploratory and targeted '\n",
    "tag_str += 'data analyses as part of quantitative services engagements or proof of'\n",
    "tag_str += ' concepts. This will be achieved both remotely and on-site with '\n",
    "tag_str += 'clients</li>'\n",
    "tx_str = \"MATCH (np:NavigableParents {navigable_parent: '\" + tag_str + r\"\"\"'})\n",
    "SET\n",
    "    np.is_header = 0, np.is_task_scope = 0,\n",
    "    np.is_minimum_qualification = 0, np.is_preferred_qualification = 0,\n",
    "    np.is_legal_notification = 0, np.is_job_title = 0,\n",
    "    np.is_office_location = 0, np.is_job_duration = 0,\n",
    "    np.is_supplemental_pay = 0, np.is_educational_requirement = 0,\n",
    "    np.is_interview_procedure = 0, np.is_corporate_scope = 0,\n",
    "    np.is_posting_date = 0, np.is_other = 0\n",
    "RETURN PROPERTIES(np) AS properties;\"\"\"\n",
    "with driver.session() as session:\n",
    "        row_dict = session.write_transaction(do_cypher_tx, tx_str)[0]['properties']\n",
    "pd.DataFrame([row_dict]).T"
   ]
  }
 ],
 "metadata": {
  "anaconda-cloud": {},
  "kernelspec": {
   "display_name": "Job Hunting (Python 3.7.9)",
   "language": "python",
   "name": "jh_env"
  },
  "language_info": {
   "codemirror_mode": {
    "name": "ipython",
    "version": 3
   },
   "file_extension": ".py",
   "mimetype": "text/x-python",
   "name": "python",
   "nbconvert_exporter": "python",
   "pygments_lexer": "ipython3",
   "version": "3.7.9"
  }
 },
 "nbformat": 4,
 "nbformat_minor": 4
}
