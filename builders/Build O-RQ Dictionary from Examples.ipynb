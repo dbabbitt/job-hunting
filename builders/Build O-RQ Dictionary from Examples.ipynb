{
 "cells": [
  {
   "cell_type": "code",
   "execution_count": 1,
   "metadata": {},
   "outputs": [
    {
     "name": "stdout",
     "output_type": "stream",
     "text": [
      "Pretty printing has been turned OFF\n"
     ]
    }
   ],
   "source": [
    "\n",
    "%pprint"
   ]
  },
  {
   "cell_type": "code",
   "execution_count": 2,
   "metadata": {},
   "outputs": [
    {
     "name": "stdout",
     "output_type": "stream",
     "text": [
      "Wall time: 5 s\n"
     ]
    }
   ],
   "source": [
    "\n",
    "%%time\n",
    "import re\n",
    "import random\n",
    "import pandas as pd\n",
    "%run ../py/sql_utlis.py\n",
    "%run ../py/html_analysis.py\n",
    "\n",
    "ZMQInteractiveShell_obj = get_ipython()\n",
    "su = SqlUtilities()\n",
    "_, CURSOR = su.get_jh_conn_cursor()\n",
    "ha = HeaderAnalysis()\n",
    "SQL_STR = '''\n",
    "    SELECT np.[navigable_parent]\n",
    "    FROM [Jobhunting].[dbo].[NavigableParents] np\n",
    "    WHERE\n",
    "        (np.[is_minimum_qualification] IS NULL) AND\n",
    "        ((np.[is_header] IS NULL) OR\n",
    "        (np.[is_header] = 0)) AND\n",
    "        ((np.[is_preferred_qualification] IS NULL) OR\n",
    "        (np.[is_preferred_qualification] = 0)) AND\n",
    "        ((np.[is_qualification] IS NULL) OR\n",
    "        (np.[is_qualification] = 1));'''"
   ]
  },
  {
   "cell_type": "code",
   "execution_count": 40,
   "metadata": {},
   "outputs": [],
   "source": [
    "\n",
    "# SET other subtypes as 0; assume 0 rows affected if primary and secondary columns are the same\n",
    "subtypes_list = ['is_task_scope', 'is_minimum_qualification', 'is_preferred_qualification',\n",
    "                 'is_legal_notification', 'is_job_title', 'is_office_location', 'is_job_duration',\n",
    "                 'is_supplemental_pay', 'is_educational_requirement', 'is_interview_procedure',\n",
    "                 'is_corporate_scope', 'is_posting_date', 'is_other']\n",
    "for primary_column in subtypes_list:\n",
    "    for secondary_column in subtypes_list:\n",
    "        CURSOR.execute(su.set_secondary_column0_formatted_sql_str.format(secondary_column, primary_column,\n",
    "                                                                         secondary_column))"
   ]
  },
  {
   "cell_type": "code",
   "execution_count": 3,
   "metadata": {},
   "outputs": [],
   "source": [
    "\n",
    "def get_dictionary_code():\n",
    "    nonheader_quals_df = pd.DataFrame(su.get_execution_results(CURSOR, SQL_STR, verbose=False))\n",
    "    output_str = ''\n",
    "    child_strs_list = nonheader_quals_df.navigable_parent.tolist()\n",
    "    tag_str = random.choice(child_strs_list)\n",
    "    output_str += f'\\n# Only {len(child_strs_list):,} possible Minimum Requirements Non-headers to go\\n'\n",
    "    if \"'\" in tag_str:\n",
    "        tag_str = tag_str.replace('\"', '\\\\\"')\n",
    "        output_str += f'tag_str = \"{tag_str}\"\\n'\n",
    "    else:\n",
    "        output_str += f\"tag_str = '{tag_str}'\\n\"\n",
    "    output_str += 'sql_str = r\"\"\"\\n    UPDATE NavigableParents\\n    SET\\n        is_header = 0,\\n'\n",
    "    output_str += '        is_minimum_qualification = 0,\\n        is_preferred_qualification = 0,\\n'\n",
    "    output_str += '        is_qualification = 0\\n    WHERE (navigable_parent LIKE ? ESCAPE \\'\\\\\\')\"\"\"\\n'\n",
    "    output_str += r\"cursor_obj = CURSOR.execute(sql_str, (su.wc_rgx.sub(r'\\\\\\g<1>', tag_str),))\"\n",
    "    output_str += '\\nCURSOR.commit()\\n\\n# If is_header = 0 and is_minimum_qualification = 1 above,'\n",
    "    output_str += ' this needs to be True\\n'\n",
    "    output_str += \"ha.store_true_or_false_dict('O_RQ_DICT', tag_str, False)\\n\"\n",
    "    output_str += \"O_RQ_DICT = s.load_object('O_RQ_DICT')\\nprint(len(O_RQ_DICT.keys()))\"\n",
    "    \n",
    "    return output_str"
   ]
  },
  {
   "cell_type": "code",
   "execution_count": null,
   "metadata": {},
   "outputs": [],
   "source": [
    "\n",
    "ZMQInteractiveShell_obj.set_next_input(text=get_dictionary_code(), replace=True)"
   ]
  },
  {
   "cell_type": "code",
   "execution_count": null,
   "metadata": {},
   "outputs": [],
   "source": []
  }
 ],
 "metadata": {
  "anaconda-cloud": {},
  "kernelspec": {
   "display_name": "Job Hunting (Python 3.7.9)",
   "language": "python",
   "name": "jh"
  },
  "language_info": {
   "codemirror_mode": {
    "name": "ipython",
    "version": 3
   },
   "file_extension": ".py",
   "mimetype": "text/x-python",
   "name": "python",
   "nbconvert_exporter": "python",
   "pygments_lexer": "ipython3",
   "version": "3.7.9"
  }
 },
 "nbformat": 4,
 "nbformat_minor": 4
}
