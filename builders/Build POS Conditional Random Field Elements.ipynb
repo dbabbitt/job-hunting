{
 "cells": [
  {
   "cell_type": "code",
   "execution_count": null,
   "id": "d5213e20-956a-425a-9bf1-97c71dc8702f",
   "metadata": {},
   "outputs": [],
   "source": []
  },
  {
   "cell_type": "code",
   "execution_count": 6,
   "id": "0a93715c-ba81-46b5-b3e7-723df338dbea",
   "metadata": {},
   "outputs": [
    {
     "name": "stdout",
     "output_type": "stream",
     "text": [
      "I have 4,841 hand-labeled parts-of-speech patterns in here\n",
      "Unexpected exception formatting exception. Falling back to standard exception\n"
     ]
    },
    {
     "name": "stderr",
     "output_type": "stream",
     "text": [
      "Traceback (most recent call last):\n",
      "  File \"C:\\Users\\daveb\\OneDrive\\Documents\\GitHub\\job-hunting\\jh_env\\lib\\site-packages\\requests\\models.py\", line 971, in json\n",
      "    return complexjson.loads(self.text, **kwargs)\n",
      "  File \"C:\\Users\\daveb\\OneDrive\\Documents\\GitHub\\job-hunting\\jh_env\\lib\\json\\__init__.py\", line 346, in loads\n",
      "    return _default_decoder.decode(s)\n",
      "  File \"C:\\Users\\daveb\\OneDrive\\Documents\\GitHub\\job-hunting\\jh_env\\lib\\json\\decoder.py\", line 337, in decode\n",
      "    obj, end = self.raw_decode(s, idx=_w(s, 0).end())\n",
      "  File \"C:\\Users\\daveb\\OneDrive\\Documents\\GitHub\\job-hunting\\jh_env\\lib\\json\\decoder.py\", line 355, in raw_decode\n",
      "    raise JSONDecodeError(\"Expecting value\", s, err.value) from None\n",
      "json.decoder.JSONDecodeError: Expecting value: line 1 column 1 (char 0)\n",
      "\n",
      "During handling of the above exception, another exception occurred:\n",
      "\n",
      "Traceback (most recent call last):\n",
      "  File \"C:\\Users\\daveb\\OneDrive\\Documents\\GitHub\\job-hunting\\jh_env\\lib\\site-packages\\IPython\\core\\interactiveshell.py\", line 3442, in run_code\n",
      "    exec(code_obj, self.user_global_ns, self.user_ns)\n",
      "  File \"C:\\Users\\daveb\\AppData\\Local\\Temp\\ipykernel_10276\\3598319156.py\", line 2, in <module>\n",
      "    crf.build_pos_conditional_random_field_elements(verbose=True)\n",
      "  File \"C:\\Users\\daveb\\OneDrive\\Documents\\GitHub\\job-hunting\\trainers\\../py\\crf_utils.py\", line 124, in build_pos_conditional_random_field_elements\n",
      "    self.retrain_pos_classifier(header_pattern_dict=header_pattern_dict, verbose=verbose)\n",
      "  File \"C:\\Users\\daveb\\OneDrive\\Documents\\GitHub\\job-hunting\\trainers\\../py\\crf_utils.py\", line 175, in retrain_pos_classifier\n",
      "    X_train.append(self.sent2features(feature_tuple_list))\n",
      "  File \"C:\\Users\\daveb\\OneDrive\\Documents\\GitHub\\job-hunting\\trainers\\../py\\crf_utils.py\", line 304, in sent2features\n",
      "    return [self.word2features(sent, i) for i in range(len(sent))]\n",
      "  File \"C:\\Users\\daveb\\OneDrive\\Documents\\GitHub\\job-hunting\\trainers\\../py\\crf_utils.py\", line 304, in <listcomp>\n",
      "    return [self.word2features(sent, i) for i in range(len(sent))]\n",
      "  File \"C:\\Users\\daveb\\OneDrive\\Documents\\GitHub\\job-hunting\\trainers\\../py\\crf_utils.py\", line 212, in word2features\n",
      "    'child_str.pos_lr_predict_single': self.get_pos_lr_predict_single_from_api(child_str),\n",
      "  File \"C:\\Users\\daveb\\OneDrive\\Documents\\GitHub\\job-hunting\\trainers\\../py\\crf_utils.py\", line 106, in get_pos_lr_predict_single_from_api\n",
      "    response_dict = response.json()\n",
      "  File \"C:\\Users\\daveb\\OneDrive\\Documents\\GitHub\\job-hunting\\jh_env\\lib\\site-packages\\requests\\models.py\", line 975, in json\n",
      "    raise RequestsJSONDecodeError(e.msg, e.doc, e.pos)\n",
      "requests.exceptions.JSONDecodeError: Expecting value: line 1 column 1 (char 0)\n",
      "\n",
      "During handling of the above exception, another exception occurred:\n",
      "\n",
      "Traceback (most recent call last):\n",
      "  File \"C:\\Users\\daveb\\OneDrive\\Documents\\GitHub\\job-hunting\\jh_env\\lib\\site-packages\\IPython\\core\\interactiveshell.py\", line 2057, in showtraceback\n",
      "    stb = self.InteractiveTB.structured_traceback(\n",
      "  File \"C:\\Users\\daveb\\OneDrive\\Documents\\GitHub\\job-hunting\\jh_env\\lib\\site-packages\\IPython\\core\\ultratb.py\", line 1118, in structured_traceback\n",
      "    return FormattedTB.structured_traceback(\n",
      "  File \"C:\\Users\\daveb\\OneDrive\\Documents\\GitHub\\job-hunting\\jh_env\\lib\\site-packages\\IPython\\core\\ultratb.py\", line 1012, in structured_traceback\n",
      "    return VerboseTB.structured_traceback(\n",
      "  File \"C:\\Users\\daveb\\OneDrive\\Documents\\GitHub\\job-hunting\\jh_env\\lib\\site-packages\\IPython\\core\\ultratb.py\", line 865, in structured_traceback\n",
      "    formatted_exception = self.format_exception_as_a_whole(etype, evalue, etb, number_of_lines_of_context,\n",
      "  File \"C:\\Users\\daveb\\OneDrive\\Documents\\GitHub\\job-hunting\\jh_env\\lib\\site-packages\\IPython\\core\\ultratb.py\", line 818, in format_exception_as_a_whole\n",
      "    frames.append(self.format_record(r))\n",
      "  File \"C:\\Users\\daveb\\OneDrive\\Documents\\GitHub\\job-hunting\\jh_env\\lib\\site-packages\\IPython\\core\\ultratb.py\", line 736, in format_record\n",
      "    result += ''.join(_format_traceback_lines(frame_info.lines, Colors, self.has_colors, lvals))\n",
      "  File \"C:\\Users\\daveb\\OneDrive\\Documents\\GitHub\\job-hunting\\jh_env\\lib\\site-packages\\stack_data\\utils.py\", line 145, in cached_property_wrapper\n",
      "    value = obj.__dict__[self.func.__name__] = self.func(obj)\n",
      "  File \"C:\\Users\\daveb\\OneDrive\\Documents\\GitHub\\job-hunting\\jh_env\\lib\\site-packages\\stack_data\\core.py\", line 698, in lines\n",
      "    pieces = self.included_pieces\n",
      "  File \"C:\\Users\\daveb\\OneDrive\\Documents\\GitHub\\job-hunting\\jh_env\\lib\\site-packages\\stack_data\\utils.py\", line 145, in cached_property_wrapper\n",
      "    value = obj.__dict__[self.func.__name__] = self.func(obj)\n",
      "  File \"C:\\Users\\daveb\\OneDrive\\Documents\\GitHub\\job-hunting\\jh_env\\lib\\site-packages\\stack_data\\core.py\", line 645, in included_pieces\n",
      "    scope_pieces = self.scope_pieces\n",
      "  File \"C:\\Users\\daveb\\OneDrive\\Documents\\GitHub\\job-hunting\\jh_env\\lib\\site-packages\\stack_data\\utils.py\", line 145, in cached_property_wrapper\n",
      "    value = obj.__dict__[self.func.__name__] = self.func(obj)\n",
      "  File \"C:\\Users\\daveb\\OneDrive\\Documents\\GitHub\\job-hunting\\jh_env\\lib\\site-packages\\stack_data\\core.py\", line 585, in scope_pieces\n",
      "    for piece in self.source.pieces\n",
      "  File \"C:\\Users\\daveb\\OneDrive\\Documents\\GitHub\\job-hunting\\jh_env\\lib\\site-packages\\stack_data\\utils.py\", line 145, in cached_property_wrapper\n",
      "    value = obj.__dict__[self.func.__name__] = self.func(obj)\n",
      "  File \"C:\\Users\\daveb\\OneDrive\\Documents\\GitHub\\job-hunting\\jh_env\\lib\\site-packages\\stack_data\\core.py\", line 90, in pieces\n",
      "    return list(self._clean_pieces())\n",
      "  File \"C:\\Users\\daveb\\OneDrive\\Documents\\GitHub\\job-hunting\\jh_env\\lib\\site-packages\\stack_data\\core.py\", line 114, in _clean_pieces\n",
      "    raise AssertionError(\"Pieces mismatches: %s\" % mismatches)\n",
      "AssertionError: Pieces mismatches: [{8, 7}]\n"
     ]
    }
   ],
   "source": [
    "\n",
    "t1 = time.time()\n",
    "crf.build_pos_conditional_random_field_elements(verbose=True)\n",
    "duration_str = humanize.precisedelta(time.time() - t1, minimum_unit='seconds', format='%0.0f')\n",
    "print(\n",
    "    'Child strings list and header pattern dictionary rebuilt,',\n",
    "    f'and POS classifier trained in {duration_str}'\n",
    "); raise"
   ]
  }
 ],
 "metadata": {
  "kernelspec": {
   "display_name": "Job Hunting (Python 3.10.9)",
   "language": "python",
   "name": "jh_env"
  },
  "language_info": {
   "codemirror_mode": {
    "name": "ipython",
    "version": 3
   },
   "file_extension": ".py",
   "mimetype": "text/x-python",
   "name": "python",
   "nbconvert_exporter": "python",
   "pygments_lexer": "ipython3",
   "version": "3.10.9"
  }
 },
 "nbformat": 4,
 "nbformat_minor": 5
}
