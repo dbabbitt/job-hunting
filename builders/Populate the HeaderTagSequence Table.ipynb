{
 "cells": [
  {
   "cell_type": "markdown",
   "metadata": {},
   "source": [
    "\n",
    "----"
   ]
  },
  {
   "cell_type": "code",
   "execution_count": 1,
   "metadata": {},
   "outputs": [
    {
     "name": "stdout",
     "output_type": "stream",
     "text": [
      "Pretty printing has been turned OFF\n"
     ]
    }
   ],
   "source": [
    "\n",
    "%pprint"
   ]
  },
  {
   "cell_type": "code",
   "execution_count": 2,
   "metadata": {},
   "outputs": [],
   "source": [
    "\n",
    "%run ../py/sql_utlis.py\n",
    "su = SqlUtilities()"
   ]
  },
  {
   "cell_type": "code",
   "execution_count": 3,
   "metadata": {},
   "outputs": [],
   "source": [
    "\n",
    "conn, cursor = su.get_jh_conn_cursor()\n",
    "su.create_header_tag_sequence_table(cursor, verbose=False)"
   ]
  },
  {
   "cell_type": "code",
   "execution_count": 10,
   "metadata": {},
   "outputs": [],
   "source": [
    "\n",
    "import random\n",
    "\n",
    "HEADER_PATTERN_DICT = s.load_object('HEADER_PATTERN_DICT')\n",
    "file_name, feature_dict_list = random.choice(list(HEADER_PATTERN_DICT.items()))\n",
    "sequence_list = [feature_dict['initial_tag'] for feature_dict in feature_dict_list]\n",
    "assert file_name == su.get_filenames_by_starting_sequence(cursor, sequence_list, verbose=False)[0]"
   ]
  },
  {
   "cell_type": "code",
   "execution_count": 12,
   "metadata": {},
   "outputs": [
    {
     "data": {
      "text/plain": [
       "['Artificial_Intelligence_Engineer,_PhD_-_Burlington,_VT_05401_-_Indeed.com_11f154d53a390364.html', 'Assistant_Director,_Data_Science_(STP)_-_Remote_-_Indeed.com_f33a9750898d12d4.html', 'Business_Intelligence_Analyst_Data_Scientist_-_New_York,_NY_10004_-_Indeed.com_049a66f3ffa9366a.html', 'Data_&_Database_Security_Architect_-_Cambridge,_MA_02142_-_Indeed.com_330c5c429679d5a0.html', 'Data_Analyst,_Data_Science_&_Analytics_-_Palo_Alto,_CA_-_Indeed.com_0fdc5c465a8b2a6c.html', 'NATURAL_LANGUAGE_UNDERSTANDING_AND_MACHINE_LEARNING_INNOVATOR_-_Corvallis,_OR_97333_-_Indeed.com_40cc26022f682754.html']"
      ]
     },
     "execution_count": 12,
     "metadata": {},
     "output_type": "execute_result"
    }
   ],
   "source": [
    "\n",
    "sequence_list = ['p']\n",
    "filenames_list = su.get_filenames_by_starting_sequence(cursor, sequence_list, verbose=False)\n",
    "filenames_list"
   ]
  },
  {
   "cell_type": "code",
   "execution_count": 13,
   "metadata": {},
   "outputs": [],
   "source": [
    "\n",
    "HEADER_PATTERN_DICT = s.load_object('HEADER_PATTERN_DICT')"
   ]
  },
  {
   "cell_type": "code",
   "execution_count": 16,
   "metadata": {},
   "outputs": [],
   "source": [
    "\n",
    "def print_repetitions(cursor, tag_name='li'):\n",
    "    sequence_list = [tag_name]\n",
    "    filenames_list = su.get_filenames_by_sequence(cursor, sequence_list)\n",
    "    while len(filenames_list):\n",
    "        sequence_list.append(sequence_list[0])\n",
    "        filenames_list = su.get_filenames_by_sequence(cursor, sequence_list)\n",
    "    sequence_list.pop()\n",
    "    filenames_list = su.get_filenames_by_sequence(cursor, sequence_list)\n",
    "    if filenames_list:\n",
    "        file_name = filenames_list[-1]\n",
    "        print(f\"{file_name} has {len(sequence_list)} '{sequence_list[0]}'s in a row!\")\n",
    "        feature_dict_list = HEADER_PATTERN_DICT[file_name]\n",
    "        print([feature_dict['initial_tag'] for feature_dict in feature_dict_list])"
   ]
  },
  {
   "cell_type": "code",
   "execution_count": 17,
   "metadata": {},
   "outputs": [
    {
     "name": "stdout",
     "output_type": "stream",
     "text": [
      "Machine_Learning_Engineer_-_Chattanooga,_TN_37421_-_Indeed.com_d921f5450b899369.html has 60 'li's in a row!\n",
      "['b', 'b', 'b', 'b', 'i', 'i', 'i', 'i', 'li', 'li', 'li', 'li', 'li', 'li', 'li', 'li', 'li', 'li', 'li', 'li', 'li', 'li', 'li', 'li', 'li', 'li', 'li', 'li', 'li', 'li', 'li', 'li', 'li', 'li', 'li', 'li', 'li', 'li', 'li', 'li', 'li', 'li', 'li', 'li', 'li', 'li', 'li', 'li', 'li', 'li', 'li', 'li', 'li', 'li', 'li', 'li', 'li', 'li', 'li', 'li', 'li', 'li', 'li', 'li', 'li', 'li', 'li', 'li', 'p', 'p', 'p', 'p', 'p', 'p', 'p', 'p', 'p', 'p', 'p', 'p', 'p', 'p', 'p', 'p', 'p', 'p', 'p', 'p', 'p', 'p']\n"
     ]
    }
   ],
   "source": [
    "\n",
    "print_repetitions(cursor)"
   ]
  },
  {
   "cell_type": "code",
   "execution_count": 18,
   "metadata": {},
   "outputs": [
    {
     "name": "stdout",
     "output_type": "stream",
     "text": [
      "Big_Data_Engineer_-_New_York,_NY_10001_-_Indeed.com_2df6a1e69a70a1e7.html has 69 'plaintext's in a row!\n",
      "['plaintext', 'plaintext', 'b', 'b', 'b', 'b', 'b', 'b', 'b', 'b', 'b', 'li', 'li', 'li', 'li', 'li', 'li', 'li', 'li', 'plaintext', 'plaintext', 'plaintext', 'plaintext', 'plaintext', 'plaintext', 'plaintext', 'plaintext', 'plaintext', 'plaintext', 'plaintext', 'plaintext', 'plaintext', 'plaintext', 'plaintext', 'plaintext', 'plaintext', 'plaintext', 'plaintext', 'plaintext', 'plaintext', 'plaintext', 'plaintext', 'plaintext', 'plaintext', 'plaintext', 'plaintext', 'plaintext', 'plaintext', 'plaintext', 'plaintext', 'plaintext', 'plaintext', 'plaintext', 'plaintext', 'plaintext', 'plaintext', 'plaintext', 'plaintext', 'plaintext', 'plaintext', 'plaintext', 'plaintext', 'plaintext', 'plaintext', 'plaintext', 'plaintext', 'plaintext', 'plaintext']\n"
     ]
    }
   ],
   "source": [
    "\n",
    "print_repetitions(cursor, 'plaintext')"
   ]
  },
  {
   "cell_type": "markdown",
   "metadata": {},
   "source": [
    "\n",
    "----\n",
    "# Explore existing columns on the server"
   ]
  },
  {
   "cell_type": "code",
   "execution_count": null,
   "metadata": {},
   "outputs": [],
   "source": [
    "\n",
    "%run ../load_magic/storage.py\n",
    "s = Storage()\n",
    "[f's.{fn}' for fn in dir(s) if not fn.startswith('_')]"
   ]
  },
  {
   "cell_type": "code",
   "execution_count": null,
   "metadata": {},
   "outputs": [],
   "source": [
    "\n",
    "ha = HeaderAnalysis()"
   ]
  },
  {
   "cell_type": "code",
   "execution_count": null,
   "metadata": {},
   "outputs": [],
   "source": [
    "\n",
    "%run ../py/html_analysis.py\n",
    "hc = HeaderCategories()\n",
    "feature_dict = random.choice(feature_dict_list)\n",
    "hc.get_feature_tuple(feature_dict)"
   ]
  },
  {
   "cell_type": "code",
   "execution_count": null,
   "metadata": {},
   "outputs": [],
   "source": [
    "\n",
    "import random\n",
    "\n",
    "type_suffix_list = ['dict', 'df', 'list', 'DICT', 'LIST']\n",
    "dict_suffix_list = ['dict', 'DICT']\n",
    "for file_name in os.listdir(s.saves_pickle_folder):\n",
    "    if file_name.endswith('.pickle'):\n",
    "        obj_name = file_name.split('.')[0]\n",
    "        type_suffix = obj_name.split('_')[-1]\n",
    "        if type_suffix in dict_suffix_list:\n",
    "            column_name = obj_name[:-5].lower()\n",
    "            exec_str = f\"{obj_name} = s.load_object('{obj_name}')\"\n",
    "            eval_str = f\"s.load_object('{obj_name}')\"\n",
    "            dict_obj = eval(eval_str)\n",
    "            keys_list = list(dict_obj.keys())\n",
    "            idx = random.randint(0, len(keys_list))\n",
    "            print(f'{obj_name}: {keys_list[idx][:50]}...,  {keys_list[idx+1][:50]}..., etc.')"
   ]
  },
  {
   "cell_type": "markdown",
   "metadata": {},
   "source": [
    "\n",
    "----"
   ]
  },
  {
   "cell_type": "code",
   "execution_count": null,
   "metadata": {},
   "outputs": [],
   "source": [
    "\n",
    "import sys\n",
    "\n",
    "command_str = f'{sys.executable} -m pip install C:\\\\Users\\\\dev\\\\Downloads\\\\pymssql-2.1.5-cp39-cp39-win_amd64.whl'\n",
    "print(command_str)\n",
    "!{command_str}"
   ]
  },
  {
   "cell_type": "code",
   "execution_count": null,
   "metadata": {},
   "outputs": [],
   "source": [
    "\n",
    "import sys\n",
    "\n",
    "command_str = f'{sys.executable} -m pip install --upgrade pymssql'\n",
    "print(command_str)\n",
    "!{command_str}"
   ]
  },
  {
   "cell_type": "code",
   "execution_count": null,
   "metadata": {},
   "outputs": [],
   "source": []
  }
 ],
 "metadata": {
  "kernelspec": {
   "display_name": "Python 3 (ipykernel)",
   "language": "python",
   "name": "python3"
  },
  "language_info": {
   "codemirror_mode": {
    "name": "ipython",
    "version": 3
   },
   "file_extension": ".py",
   "mimetype": "text/x-python",
   "name": "python",
   "nbconvert_exporter": "python",
   "pygments_lexer": "ipython3",
   "version": "3.9.7"
  }
 },
 "nbformat": 4,
 "nbformat_minor": 4
}
