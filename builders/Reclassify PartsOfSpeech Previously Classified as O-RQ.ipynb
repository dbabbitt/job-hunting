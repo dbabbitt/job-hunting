{
 "cells": [
  {
   "cell_type": "code",
   "execution_count": 1,
   "metadata": {},
   "outputs": [
    {
     "name": "stdout",
     "output_type": "stream",
     "text": [
      "Pretty printing has been turned OFF\n"
     ]
    }
   ],
   "source": [
    "\n",
    "%pprint"
   ]
  },
  {
   "cell_type": "markdown",
   "metadata": {
    "tags": []
   },
   "source": [
    "\n",
    "---\n",
    "# Load needed libraries and functions"
   ]
  },
  {
   "cell_type": "code",
   "execution_count": 2,
   "metadata": {},
   "outputs": [],
   "source": [
    "\n",
    "from datetime import datetime\n",
    "import humanize\n",
    "import os\n",
    "import sys\n",
    "import time\n",
    "\n",
    "# Insert at 1, 0 is the script path (or '' in REPL)\n",
    "sys.path.insert(1, '../py')"
   ]
  },
  {
   "cell_type": "code",
   "execution_count": 3,
   "metadata": {},
   "outputs": [
    {
     "name": "stdout",
     "output_type": "stream",
     "text": [
      "Utility libraries created in 2 seconds\n",
      "Last run on 2023-04-05 15:53:23.666561\n"
     ]
    }
   ],
   "source": [
    "\n",
    "t0 = t1 = time.time()\n",
    "\n",
    "# Get the Storage object\n",
    "from storage import Storage\n",
    "s = Storage(\n",
    "    data_folder_path=os.path.abspath('../data'),\n",
    "    saves_folder_path=os.path.abspath('../saves')\n",
    ")\n",
    "\n",
    "# Get the HeaderAnalysis object\n",
    "from ha_utils import HeaderAnalysis\n",
    "ha = HeaderAnalysis(s=s, verbose=False)\n",
    "\n",
    "# Get the WebScrapingUtilities object\n",
    "from scrape_utils import WebScrapingUtilities\n",
    "wsu = WebScrapingUtilities(\n",
    "    s=s,\n",
    "    secrets_json_path=os.path.abspath('../data/secrets/jh_secrets.json')\n",
    ")\n",
    "uri = wsu.secrets_json['neo4j']['connect_url']\n",
    "user =  wsu.secrets_json['neo4j']['username']\n",
    "password = wsu.secrets_json['neo4j']['password']\n",
    "\n",
    "# Get the CypherUtilities object and Neo4j driver\n",
    "from cypher_utils import CypherUtilities\n",
    "cu = CypherUtilities(\n",
    "    uri=uri, user=user, password=password, driver=None, s=s, ha=ha\n",
    ")\n",
    "\n",
    "duration_str = humanize.precisedelta(time.time() - t1, minimum_unit='seconds', format='%0.0f')\n",
    "print(f'Utility libraries created in {duration_str}')\n",
    "print(f'Last run on {datetime.now()}')"
   ]
  },
  {
   "cell_type": "code",
   "execution_count": 4,
   "metadata": {},
   "outputs": [
    {
     "name": "stdout",
     "output_type": "stream",
     "text": [
      "Parts-of-speech relationships repopulated in 11 seconds\n"
     ]
    }
   ],
   "source": [
    "\n",
    "t1 = time.time()\n",
    "cu.populate_pos_relationships(verbose=False)\n",
    "duration_str = humanize.precisedelta(time.time() - t1, minimum_unit='seconds', format='%0.0f')\n",
    "print(f'Parts-of-speech relationships repopulated in {duration_str}')"
   ]
  },
  {
   "cell_type": "code",
   "execution_count": 9,
   "metadata": {},
   "outputs": [],
   "source": [
    "\n",
    "def generate_child_strs(verbose=False):\n",
    "    def do_cypher_tx(tx):\n",
    "        cypher_str = '''\n",
    "            // Filter for NavigableParents nodes with an unambiguous SUMMARIZES relationship\n",
    "            MATCH (np:NavigableParents)\n",
    "            WHERE size((np)<-[:SUMMARIZES]-(:PartsOfSpeech)) >= 1\n",
    "            WITH np\n",
    "            \n",
    "            // Find all NavigableParents nodes in the graph with an incoming SUMMARIZES\n",
    "            // relationship to a PartsOfSpeech node\n",
    "            MATCH (np)<-[r:SUMMARIZES]-(pos:PartsOfSpeech)\n",
    "            WHERE\n",
    "                (np.navigable_parent STARTS WITH \"<orq>Ability to \")\n",
    "                //AND (pos.pos_symbol = \"O-RQ\")\n",
    "                AND (size(pos.navigable_parent) < 50)\n",
    "\n",
    "            // Return the navigable parent\n",
    "            RETURN np.navigable_parent AS navigable_parent\n",
    "            ORDER BY size(navigable_parent) ASC;'''\n",
    "        results_list = tx.run(query=cypher_str, parameters={})\n",
    "\n",
    "        return [dict(record.items()) for record in results_list]\n",
    "    with cu.driver.session() as session:\n",
    "        row_objs_list = session.write_transaction(do_cypher_tx)\n",
    "    if verbose:\n",
    "        print(len(row_objs_list))\n",
    "    for row_obj in row_objs_list:\n",
    "        if 'navigable_parent' in row_obj:\n",
    "            yield row_obj['navigable_parent']"
   ]
  },
  {
   "cell_type": "code",
   "execution_count": 10,
   "metadata": {},
   "outputs": [
    {
     "data": {
      "text/plain": [
       "0"
      ]
     },
     "execution_count": 10,
     "metadata": {},
     "output_type": "execute_result"
    }
   ],
   "source": [
    "\n",
    "CHILD_STRS_LIST = list(generate_child_strs(verbose=False))\n",
    "len(CHILD_STRS_LIST)"
   ]
  },
  {
   "cell_type": "code",
   "execution_count": 383,
   "metadata": {},
   "outputs": [],
   "source": [
    "\n",
    "import re\n",
    "\n",
    "base_dict = {\n",
    "    'header': 'False',\n",
    "    'task_scope': 'False',\n",
    "    'minimum_qualification': 'False',\n",
    "    'preferred_qualification': 'False',\n",
    "    'educational_requirement': 'False',\n",
    "    'legal_notification': 'False',\n",
    "    'other': 'False',\n",
    "    'corporate_scope': 'False',\n",
    "    'job_title': 'False',\n",
    "    'office_location': 'False',\n",
    "    'job_duration': 'False',\n",
    "    'supplemental_pay': 'False',\n",
    "    'interview_procedure': 'False',\n",
    "    'posting_date': 'False'\n",
    "}\n",
    "features_list = ['is_' + cypher_suffix for cypher_suffix in base_dict.keys() if cypher_suffix != 'header']\n",
    "html_suffixes_list = ['ts', 'rq', 'pq', 'er', 'ln', 'o', 'cs', 'jt', 'ol', 'jd', 'sp', 'ip', 'pd']\n",
    "tag_regex = re.compile(f\"<(/?)[ho]({'|'.join(html_suffixes_list)})>\")\n",
    "for child_str in CHILD_STRS_LIST:\n",
    "    def do_cypher_tx(tx, navigable_parent, verbose=False):\n",
    "        cypher_str = '''\n",
    "            MATCH (np:NavigableParents {navigable_parent: $navigable_parent})\n",
    "            ''' + cu.return_everything_str + ';'\n",
    "        results_list = tx.run(query=cypher_str, parameters={'navigable_parent': navigable_parent})\n",
    "\n",
    "        return [dict(record.items()) for record in results_list]\n",
    "    with cu.driver.session() as session:\n",
    "        row_objs_list = session.write_transaction(do_cypher_tx, navigable_parent=child_str, verbose=False)\n",
    "    if row_objs_list:\n",
    "        child_dict = row_objs_list[0]\n",
    "        del child_dict['navigable_parent']\n",
    "        html_prefix = ['h', 'o'][['True', 'False'].index(child_dict['is_header'])]\n",
    "        del child_dict['is_header']\n",
    "        true_key = [k for k, v in child_dict.items() if v == 'True'][0]\n",
    "        html_suffix = html_suffixes_list[features_list.index(true_key)]\n",
    "        new_child_str = tag_regex.sub(rf'<\\g<1>{html_prefix}{html_suffix}>', child_str)\n",
    "        def do_cypher_tx(tx, old_child_str, new_child_str):\n",
    "            cypher_str = '''\n",
    "                MATCH (np:NavigableParents {navigable_parent: $old_child_str})\n",
    "                SET np.navigable_parent = $new_child_str\n",
    "                ''' + cu.return_everything_str + ';'\n",
    "            results_list = tx.run(query=cypher_str, parameters={'old_child_str': old_child_str, 'new_child_str': new_child_str})\n",
    "\n",
    "            return [dict(record.items()) for record in results_list]\n",
    "        with cu.driver.session() as session:\n",
    "            row_objs_list = session.write_transaction(do_cypher_tx, old_child_str=child_str, new_child_str=new_child_str)"
   ]
  },
  {
   "cell_type": "code",
   "execution_count": 342,
   "metadata": {},
   "outputs": [],
   "source": [
    "\n",
    "def generate_child_strs(verbose=False):\n",
    "    def do_cypher_tx(tx):\n",
    "        cypher_str = '''\n",
    "            // Filter for NavigableParents nodes with an unambiguous SUMMARIZES relationship\n",
    "            MATCH (np:NavigableParents)\n",
    "            WHERE size((np)<-[:SUMMARIZES]-(:PartsOfSpeech)) >= 1\n",
    "            WITH np\n",
    "\n",
    "            // Find all NavigableParents nodes in the graph with an incoming SUMMARIZES relationship to a PartsOfSpeech node\n",
    "            MATCH (np)<-[r:SUMMARIZES]-(pos:PartsOfSpeech)\n",
    "            WHERE\n",
    "                (np.navigable_parent STARTS WITH \"<orq>Ability to \")\n",
    "                AND (size(np.navigable_parent) < 40)\n",
    "                AND (pos.pos_symbol = \"O-RQ\")\n",
    "\n",
    "            // Return the navigable parent\n",
    "            RETURN np.navigable_parent AS navigable_parent\n",
    "            ORDER BY size(navigable_parent) ASC;'''\n",
    "        results_list = tx.run(query=cypher_str, parameters={})\n",
    "\n",
    "        return [dict(record.items()) for record in results_list]\n",
    "    with cu.driver.session() as session:\n",
    "        row_objs_list = session.write_transaction(do_cypher_tx)\n",
    "    if verbose:\n",
    "        print(len(row_objs_list))\n",
    "    for row_obj in row_objs_list:\n",
    "        if 'navigable_parent' in row_obj:\n",
    "            yield row_obj['navigable_parent']"
   ]
  },
  {
   "cell_type": "code",
   "execution_count": 343,
   "metadata": {},
   "outputs": [
    {
     "data": {
      "text/plain": [
       "46"
      ]
     },
     "execution_count": 343,
     "metadata": {},
     "output_type": "execute_result"
    }
   ],
   "source": [
    "\n",
    "CHILD_STRS_LIST = list(generate_child_strs(verbose=False))\n",
    "len(CHILD_STRS_LIST)"
   ]
  },
  {
   "cell_type": "code",
   "execution_count": 344,
   "metadata": {},
   "outputs": [
    {
     "data": {
      "text/plain": [
       "['<orq>Ability to lead</orq>', '<orq>Ability to jIRA).</orq>', '<orq>Ability to elysian.</orq>', '<orq>Ability to pMO Lead</orq>', '<orq>Ability to pVC Lead</orq>', '<orq>Ability to data Lead</orq>', '<orq>Ability to data Lake</orq>', '<orq>Ability to no travel.</orq>', '<orq>Ability to oracle HCM</orq>', '<orq>Ability to no Travel.</orq>']"
      ]
     },
     "execution_count": 344,
     "metadata": {},
     "output_type": "execute_result"
    }
   ],
   "source": [
    "\n",
    "CHILD_STRS_LIST[:10]"
   ]
  },
  {
   "cell_type": "code",
   "execution_count": 234,
   "metadata": {},
   "outputs": [],
   "source": [
    "\n",
    "ZMQInteractiveShell_obj = get_ipython()\n",
    "def get_cypher_code():\n",
    "    output_str = ''\n",
    "    tag_str = CHILD_STRS_LIST.pop()\n",
    "    output_str += f'\\n# {len(CHILD_STRS_LIST):,} to go\\n'\n",
    "    if \"'\" in tag_str:\n",
    "        tag_str = tag_str.replace('\"', '\\\\\"')\n",
    "        output_str += f'child_str = \"{tag_str}\"\\n'\n",
    "    else:\n",
    "        output_str += f\"child_str = '{tag_str}'\\n\"\n",
    "    output_str += \"def do_cypher_tx(tx, navigable_parent, verbose=False):\\n\"\n",
    "    output_str += \"    cypher_str = '''\\n\"\n",
    "    output_str += \"        MATCH (np:NavigableParents {navigable_parent: $navigable_parent})\\n\"\n",
    "    output_str += \"        SET\\n\"\n",
    "    output_str += \"            np.is_header = 'False',\\n\"\n",
    "    output_str += \"            np.is_task_scope = 'False',\\n\"\n",
    "    output_str += \"            np.is_minimum_qualification = 'False',\\n\"\n",
    "    output_str += \"            np.is_preferred_qualification = 'False',\\n\"\n",
    "    output_str += \"            np.is_educational_requirement = 'False',\\n\"\n",
    "    output_str += \"            np.is_legal_notification = 'False',\\n\"\n",
    "    output_str += \"            np.is_other = 'True',\\n\"\n",
    "    output_str += \"            np.is_corporate_scope = 'False',\\n\"\n",
    "    output_str += \"            np.is_job_title = 'False',\\n\"\n",
    "    output_str += \"            np.is_office_location = 'False',\\n\"\n",
    "    output_str += \"            np.is_job_duration = 'False',\\n\"\n",
    "    output_str += \"            np.is_supplemental_pay = 'False',\\n\"\n",
    "    output_str += \"            np.is_interview_procedure = 'False',\\n\"\n",
    "    output_str += \"            np.is_posting_date = 'False'\\n\"\n",
    "    output_str += \"        ''' + cu.return_everything_str + ';'\\n\"\n",
    "    output_str += \"    results_list = tx.run(query=cypher_str, parameters={'navigable_parent': navigable_parent})\\n\"\n",
    "    output_str += \"    \\n\"\n",
    "    output_str += \"    return [dict(record.items()) for record in results_list]\\n\"\n",
    "    output_str += \"with cu.driver.session() as session:\\n\"\n",
    "    output_str += \"    row_objs_list = session.write_transaction(do_cypher_tx, navigable_parent=child_str, verbose=False)\\n\"\n",
    "    output_str += \"row_objs_list\"\n",
    "    \n",
    "    return output_str"
   ]
  },
  {
   "cell_type": "code",
   "execution_count": null,
   "metadata": {},
   "outputs": [],
   "source": [
    "\n",
    "ZMQInteractiveShell_obj.set_next_input(text=get_cypher_code(), replace=True)"
   ]
  },
  {
   "cell_type": "code",
   "execution_count": null,
   "metadata": {},
   "outputs": [],
   "source": [
    "\n",
    "# 0 to go\n",
    "child_str = '<orq>Ability to lead</orq>'\n",
    "def do_cypher_tx(tx, navigable_parent, verbose=False):\n",
    "    cypher_str = '''\n",
    "        MATCH (np:NavigableParents {navigable_parent: $navigable_parent})\n",
    "        SET\n",
    "            np.is_header = 'False',\n",
    "            np.is_task_scope = 'False',\n",
    "            np.is_minimum_qualification = 'False',\n",
    "            np.is_preferred_qualification = 'False',\n",
    "            np.is_educational_requirement = 'False',\n",
    "            np.is_legal_notification = 'False',\n",
    "            np.is_other = 'True',\n",
    "            np.is_corporate_scope = 'False',\n",
    "            np.is_job_title = 'False',\n",
    "            np.is_office_location = 'False',\n",
    "            np.is_job_duration = 'False',\n",
    "            np.is_supplemental_pay = 'False',\n",
    "            np.is_interview_procedure = 'False',\n",
    "            np.is_posting_date = 'False'\n",
    "        ''' + cu.return_everything_str + ';'\n",
    "    results_list = tx.run(query=cypher_str, parameters={'navigable_parent': navigable_parent})\n",
    "    \n",
    "    return [dict(record.items()) for record in results_list]\n",
    "with cu.driver.session() as session:\n",
    "    row_objs_list = session.write_transaction(do_cypher_tx, navigable_parent=child_str, verbose=False)\n",
    "row_objs_list"
   ]
  }
 ],
 "metadata": {
  "anaconda-cloud": {},
  "kernelspec": {
   "display_name": "Job Hunting (Python 3.10.9)",
   "language": "python",
   "name": "jh_env"
  },
  "language_info": {
   "codemirror_mode": {
    "name": "ipython",
    "version": 3
   },
   "file_extension": ".py",
   "mimetype": "text/x-python",
   "name": "python",
   "nbconvert_exporter": "python",
   "pygments_lexer": "ipython3",
   "version": "3.10.9"
  }
 },
 "nbformat": 4,
 "nbformat_minor": 4
}
