{
 "cells": [
  {
   "cell_type": "code",
   "execution_count": 1,
   "metadata": {},
   "outputs": [
    {
     "name": "stdout",
     "output_type": "stream",
     "text": [
      "Pretty printing has been turned OFF\n"
     ]
    }
   ],
   "source": [
    "\n",
    "%pprint"
   ]
  },
  {
   "cell_type": "code",
   "execution_count": 2,
   "metadata": {},
   "outputs": [
    {
     "name": "stdout",
     "output_type": "stream",
     "text": [
      "Wall time: 16.8 s\n"
     ]
    }
   ],
   "source": [
    "\n",
    "%%time\n",
    "import re\n",
    "import random\n",
    "%run ../py/sql_utlis.py\n",
    "%run ../py/html_analysis.py\n",
    "\n",
    "ZMQInteractiveShell_obj = get_ipython()\n",
    "su = SqlUtilities()\n",
    "_, CURSOR = su.get_jh_conn_cursor()\n",
    "ha = HeaderAnalysis()\n",
    "HEADER_PATTERN_DICT = s.load_object('HEADER_PATTERN_DICT')"
   ]
  },
  {
   "cell_type": "code",
   "execution_count": 3,
   "metadata": {},
   "outputs": [],
   "source": [
    "\n",
    "# SET other subtypes as 0; assume no rows affected if primary and secondary columns are the same\n",
    "subtypes_list = ['is_task_scope', 'is_minimum_qualification', 'is_preferred_qualification',\n",
    "                 'is_legal_notification', 'is_job_title', 'is_office_location', 'is_job_duration',\n",
    "                 'is_supplemental_pay', 'is_educational_requirement', 'is_interview_procedure',\n",
    "                 'is_corporate_scope', 'is_posting_date', 'is_other']\n",
    "for primary_column in subtypes_list:\n",
    "    for secondary_column in subtypes_list:\n",
    "        CURSOR.execute(su.set_secondary_column0_formatted_sql_str.format(secondary_column, primary_column,\n",
    "                                                                         secondary_column))"
   ]
  },
  {
   "cell_type": "code",
   "execution_count": 4,
   "metadata": {},
   "outputs": [],
   "source": [
    "\n",
    "child_strs_set = set()\n",
    "for file_name, feature_dict_list in HEADER_PATTERN_DICT.items():\n",
    "    for feature_dict in feature_dict_list:\n",
    "        if 'is_task_scope' not in feature_dict:\n",
    "            child_strs_set.add(feature_dict['child_str'])\n",
    "CHILD_STRS_LIST = list(child_strs_set)\n",
    "SQL_STR = '''\n",
    "    SELECT np.[navigable_parent]\n",
    "    FROM [Jobhunting].[dbo].[NavigableParents] np\n",
    "    WHERE\n",
    "        (np.[is_task_scope] IS NULL) OR\n",
    "        (np.[is_minimum_qualification] IS NULL) OR\n",
    "        (np.[is_preferred_qualification] IS NULL) OR\n",
    "        (np.[is_legal_notification] IS NULL) OR\n",
    "        (np.[is_job_title] IS NULL) OR\n",
    "        (np.[is_office_location] IS NULL) OR\n",
    "        (np.[is_job_duration] IS NULL) OR\n",
    "        (np.[is_supplemental_pay] IS NULL) OR\n",
    "        (np.[is_educational_requirement] IS NULL) OR\n",
    "        (np.[is_interview_procedure] IS NULL) OR\n",
    "        (np.[is_corporate_scope] IS NULL) OR\n",
    "        (np.[is_posting_date] IS NULL) OR\n",
    "        (np.[is_other] IS NULL);'''"
   ]
  },
  {
   "cell_type": "code",
   "execution_count": 5,
   "metadata": {},
   "outputs": [],
   "source": [
    "\n",
    "def get_dictionary_code():\n",
    "    nonheader_quals_df = pd.DataFrame(su.get_execution_results(CURSOR, SQL_STR, verbose=False))\n",
    "    mask_series = nonheader_quals_df.navigable_parent.isin(CHILD_STRS_LIST)\n",
    "    output_str = ''\n",
    "    child_strs_list = nonheader_quals_df[mask_series].navigable_parent.tolist()\n",
    "    tag_str = random.choice(child_strs_list)\n",
    "    output_str += f'\\n# Only {len(child_strs_list):,} records to go\\n'\n",
    "    if \"'\" in tag_str:\n",
    "        tag_str = tag_str.replace('\"', '\\\\\"')\n",
    "        output_str += f'tag_str = \"{tag_str}\"\\n'\n",
    "    else:\n",
    "        output_str += f\"tag_str = '{tag_str}'\\n\"\n",
    "    output_str += 'sql_str = r\"\"\"UPDATE NavigableParents\\n    SET\\n        is_header = 0,\\n'\n",
    "    output_str += '        is_task_scope = 0,\\n        is_minimum_qualification = 0,\\n'\n",
    "    output_str += '        is_preferred_qualification = 0,\\n        is_legal_notification = 0,\\n'\n",
    "    output_str += '        is_job_title = 0,\\n        is_office_location = 0,\\n        is_job_duration = 0,\\n'\n",
    "    output_str += '        is_supplemental_pay = 0,\\n        is_educational_requirement = 0,\\n'\n",
    "    output_str += '        is_interview_procedure = 0,\\n        is_corporate_scope = 0,\\n'\n",
    "    output_str += '        is_posting_date = 0,\\n        is_other = 0\\n'\n",
    "    output_str += '    WHERE (navigable_parent LIKE ? ESCAPE \\'\\\\\\')\"\"\"\\n'\n",
    "    output_str += r\"cursor_obj = CURSOR.execute(sql_str, (su.wc_rgx.sub(r'\\\\\\g<1>', tag_str),))\"\n",
    "    output_str += '\\nCURSOR.commit()'\n",
    "    \n",
    "    return output_str"
   ]
  },
  {
   "cell_type": "code",
   "execution_count": null,
   "metadata": {},
   "outputs": [],
   "source": [
    "\n",
    "ZMQInteractiveShell_obj.set_next_input(text=get_dictionary_code(), replace=True)"
   ]
  }
 ],
 "metadata": {
  "anaconda-cloud": {},
  "kernelspec": {
   "display_name": "Job Hunting (Python 3.7.9)",
   "language": "python",
   "name": "jh_env"
  },
  "language_info": {
   "codemirror_mode": {
    "name": "ipython",
    "version": 3
   },
   "file_extension": ".py",
   "mimetype": "text/x-python",
   "name": "python",
   "nbconvert_exporter": "python",
   "pygments_lexer": "ipython3",
   "version": "3.7.9"
  }
 },
 "nbformat": 4,
 "nbformat_minor": 4
}
