{
 "cells": [
  {
   "cell_type": "code",
   "execution_count": 1,
   "metadata": {},
   "outputs": [
    {
     "name": "stdout",
     "output_type": "stream",
     "text": [
      "Pretty printing has been turned OFF\n"
     ]
    }
   ],
   "source": [
    "\n",
    "%pprint"
   ]
  },
  {
   "cell_type": "code",
   "execution_count": 2,
   "metadata": {},
   "outputs": [
    {
     "name": "stdout",
     "output_type": "stream",
     "text": [
      "Wall time: 2.8 s\n"
     ]
    }
   ],
   "source": [
    "\n",
    "%%time\n",
    "%run ../py/html_analysis.py\n",
    "ha = HeaderAnalysis()"
   ]
  },
  {
   "cell_type": "code",
   "execution_count": 3,
   "metadata": {},
   "outputs": [],
   "source": [
    "\n",
    "import sqlite3\n",
    "import os\n",
    "\n",
    "db = sqlite3.connect(os.path.join('../', 'instance', 'flaskr.sqlite'), detect_types=sqlite3.PARSE_DECLTYPES)\n",
    "db.row_factory = sqlite3.Row"
   ]
  },
  {
   "cell_type": "code",
   "execution_count": 4,
   "metadata": {},
   "outputs": [],
   "source": [
    "\n",
    "%run ../py/sql_utlis.py\n",
    "su = SqlUtilities()"
   ]
  },
  {
   "cell_type": "code",
   "execution_count": 77,
   "metadata": {},
   "outputs": [],
   "source": [
    "\n",
    "import random\n",
    "\n",
    "SQL_STR = '''\n",
    "SELECT navigable_parent\n",
    "FROM NavigableParents\n",
    "WHERE\n",
    "    is_interview_procedure IS NULL AND\n",
    "    is_header <> 1;'''"
   ]
  },
  {
   "cell_type": "code",
   "execution_count": 78,
   "metadata": {},
   "outputs": [],
   "source": [
    "\n",
    "ZMQInteractiveShell_obj = get_ipython()\n",
    "def get_dictionary_code():\n",
    "    output_str = ''\n",
    "    cursor_obj = db.execute(SQL_STR)\n",
    "    row_objs_list = cursor_obj.fetchall()\n",
    "    child_strs_list = [row_obj['navigable_parent'] for row_obj in row_objs_list]\n",
    "    tag_str = random.choice(child_strs_list)\n",
    "    output_str += f'\\n# {len(child_strs_list)} to go\\n'\n",
    "    if \"'\" in tag_str:\n",
    "        tag_str = tag_str.replace('\"', '\\\\\"')\n",
    "        output_str += f'tag_str = \"{tag_str}\"\\n'\n",
    "    else:\n",
    "        output_str += f\"tag_str = '{tag_str}'\\n\"\n",
    "    output_str += 'cursor_obj = db.execute(\"\"\"\\nUPDATE NavigableParents\\nSET\\n    is_header = 0,\\n    is_interview_procedure = 0\\n'\n",
    "    output_str += 'WHERE (navigable_parent = ?)\"\"\", (tag_str,))\\n'\n",
    "    output_str += 'db.commit()\\n'\n",
    "    output_str += 'ha.store_true_or_false_dict(\"NAVIGABLE_PARENT_IS_INTERVIEW_PROCEDURE_NONHEADER_DICT\", tag_str, False)\\n'\n",
    "    output_str += 'NAVIGABLE_PARENT_IS_INTERVIEW_PROCEDURE_NONHEADER_DICT = '\n",
    "    output_str += 's.load_object(\"NAVIGABLE_PARENT_IS_INTERVIEW_PROCEDURE_NONHEADER_DICT\")\\n'\n",
    "    output_str += 'print(len(NAVIGABLE_PARENT_IS_INTERVIEW_PROCEDURE_NONHEADER_DICT.keys()))'\n",
    "    \n",
    "    return output_str"
   ]
  },
  {
   "cell_type": "code",
   "execution_count": null,
   "metadata": {},
   "outputs": [],
   "source": [
    "\n",
    "ZMQInteractiveShell_obj.set_next_input(text=get_dictionary_code(), replace=True)"
   ]
  },
  {
   "cell_type": "markdown",
   "metadata": {},
   "source": []
  },
  {
   "cell_type": "code",
   "execution_count": null,
   "metadata": {},
   "outputs": [],
   "source": [
    "\n",
    "ZMQInteractiveShell_obj.set_next_input(text=get_dictionary_code(), replace=True)"
   ]
  }
 ],
 "metadata": {
  "anaconda-cloud": {},
  "kernelspec": {
   "display_name": "Job Hunting (Python 3.7.9)",
   "language": "python",
   "name": "jh"
  },
  "language_info": {
   "codemirror_mode": {
    "name": "ipython",
    "version": 3
   },
   "file_extension": ".py",
   "mimetype": "text/x-python",
   "name": "python",
   "nbconvert_exporter": "python",
   "pygments_lexer": "ipython3",
   "version": "3.7.9"
  }
 },
 "nbformat": 4,
 "nbformat_minor": 4
}
