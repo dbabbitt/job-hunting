{
 "cells": [
  {
   "cell_type": "code",
   "execution_count": 1,
   "metadata": {},
   "outputs": [
    {
     "name": "stdout",
     "output_type": "stream",
     "text": [
      "Pretty printing has been turned OFF\n"
     ]
    }
   ],
   "source": [
    "\n",
    "%pprint"
   ]
  },
  {
   "cell_type": "code",
   "execution_count": 2,
   "metadata": {},
   "outputs": [],
   "source": [
    "\n",
    "import sys\n",
    "\n",
    "# Insert at 1, 0 is the script path (or '' in REPL)\n",
    "sys.path.insert(1, '../py')"
   ]
  },
  {
   "cell_type": "code",
   "execution_count": 3,
   "metadata": {},
   "outputs": [],
   "source": [
    "\n",
    "# Get the Neo4j driver\n",
    "from storage import Storage\n",
    "s = Storage()\n",
    "\n",
    "from ha_utils import HeaderAnalysis\n",
    "ha = HeaderAnalysis(verbose=False)\n",
    "\n",
    "from scrape_utils import WebScrapingUtilities\n",
    "wsu = WebScrapingUtilities()\n",
    "uri = wsu.secrets_json['neo4j']['connect_url']\n",
    "user =  wsu.secrets_json['neo4j']['username']\n",
    "password = wsu.secrets_json['neo4j']['password']\n",
    "\n",
    "from cypher_utils import CypherUtilities\n",
    "cu = CypherUtilities(uri=uri, user=user, password=password, driver=None, s=s, ha=ha)"
   ]
  },
  {
   "cell_type": "code",
   "execution_count": 4,
   "metadata": {},
   "outputs": [],
   "source": [
    "\n",
    "from neo4j.exceptions import ServiceUnavailable\n",
    "\n",
    "try:\n",
    "    version_str = cu.driver.verify_connectivity()\n",
    "    \n",
    "    from hc_utils import HeaderCategories\n",
    "    hc = HeaderCategories(cu=cu, verbose=False)\n",
    "    \n",
    "    from section_utils import SectionUtilities\n",
    "    su = SectionUtilities(s=s, ha=ha, cu=cu, verbose=False)\n",
    "    \n",
    "    from lr_utils import LrUtilities\n",
    "    lru = LrUtilities(ha=ha, cu=cu, hc=hc, verbose=False)\n",
    "    \n",
    "    from crf_utils import CrfUtilities\n",
    "    crf = CrfUtilities(ha=ha, hc=hc, cu=cu, verbose=False)\n",
    "    \n",
    "    import warnings\n",
    "    warnings.filterwarnings('ignore')\n",
    "except ServiceUnavailable as e:\n",
    "    # print(str(e).strip())\n",
    "    raise ServiceUnavailable('You need to start Neo4j as a console')\n",
    "except Exception as e:\n",
    "    print(e.__class__)"
   ]
  },
  {
   "cell_type": "code",
   "execution_count": 5,
   "metadata": {},
   "outputs": [],
   "source": [
    "\n",
    "from datetime import datetime\n",
    "from urllib.parse import urlparse, parse_qs\n",
    "from IPython.display import clear_output\n",
    "import shutil\n",
    "import time\n",
    "import humanize\n",
    "%run ../load_magic/dataframes.py"
   ]
  },
  {
   "cell_type": "code",
   "execution_count": 6,
   "metadata": {},
   "outputs": [],
   "source": [
    "\n",
    "navigable_parent_cypher_str = '''\n",
    "    MATCH (np:NavigableParents {{navigable_parent: '{}'}})\n",
    "    ''' + cu.return_everything_str + ';'"
   ]
  },
  {
   "cell_type": "markdown",
   "metadata": {},
   "source": [
    "\n",
    "---\n",
    "# Training"
   ]
  },
  {
   "cell_type": "code",
   "execution_count": 7,
   "metadata": {},
   "outputs": [
    {
     "name": "stdout",
     "output_type": "stream",
     "text": [
      "Parts-of-speech classifier trained in 9 minutes and 23 seconds\n"
     ]
    }
   ],
   "source": [
    "\n",
    "t0 = time.time()\n",
    "lru.build_pos_logistic_regression_elements(verbose=False)\n",
    "crf.retrain_pos_classifier(verbose=False)\n",
    "duration_str = humanize.precisedelta(time.time() - t0, minimum_unit='seconds', format='%0.0f')\n",
    "print(f'Parts-of-speech classifier trained in {duration_str}')"
   ]
  },
  {
   "cell_type": "code",
   "execution_count": 8,
   "metadata": {},
   "outputs": [
    {
     "name": "stdout",
     "output_type": "stream",
     "text": [
      "Is-header classifier trained in 5 seconds\n"
     ]
    }
   ],
   "source": [
    "\n",
    "t0 = time.time()\n",
    "lru.build_isheader_logistic_regression_elements(verbose=False)\n",
    "lru.retrain_isheader_classifier(verbose=False)\n",
    "duration_str = humanize.precisedelta(time.time() - t0, minimum_unit='seconds', format='%0.0f')\n",
    "print(f'Is-header classifier trained in {duration_str}')"
   ]
  },
  {
   "cell_type": "code",
   "execution_count": 9,
   "metadata": {},
   "outputs": [
    {
     "name": "stdout",
     "output_type": "stream",
     "text": [
      "Is-qualified classifer trained in 6 seconds\n"
     ]
    }
   ],
   "source": [
    "\n",
    "# Rebuild the classifer from the quals dictionary\n",
    "t0 = time.time()\n",
    "lru.build_isqualified_logistic_regression_elements(verbose=False)\n",
    "lru.retrain_isqualified_classifier(verbose=False)\n",
    "duration_str = humanize.precisedelta(time.time() - t0, minimum_unit='seconds', format='%0.0f')\n",
    "print(f'Is-qualified classifer trained in {duration_str}')"
   ]
  },
  {
   "cell_type": "markdown",
   "metadata": {},
   "source": [
    "\n",
    "----"
   ]
  },
  {
   "cell_type": "code",
   "execution_count": 10,
   "metadata": {},
   "outputs": [
    {
     "name": "stdout",
     "output_type": "stream",
     "text": [
      "Data_Scientist_Enterprise_and_Strategic_Clients_at_Zest_AI.html\n"
     ]
    }
   ],
   "source": [
    "\n",
    "file_path = r'C:\\Users\\daveb\\OneDrive\\Documents\\GitHub\\job-hunting\\data\\html\\other_email.html'\n",
    "file_name = re.sub(r'[^A-Za-z0-9]+', ' ',\n",
    "                   '''Data Scientist | Enterprise and Strategic Clients\n",
    "at Zest AI''').strip().replace(' ', '_') + '.html'\n",
    "new_file_path = os.path.join(cu.SAVES_HTML_FOLDER, file_name)\n",
    "if os.path.isfile(new_file_path):\n",
    "    file_name = datetime.now().strftime('%Y%m%d%H%M%S%f') + f'_{file_name}'\n",
    "    new_file_path = os.path.join(cu.SAVES_HTML_FOLDER, file_name)\n",
    "if not os.path.isfile(new_file_path):\n",
    "    shutil.copy(file_path, os.path.join(cu.SAVES_HTML_FOLDER, file_name))\n",
    "    page_soup = get_page_soup(file_path)\n",
    "    div_soup = page_soup.find_all(name='div', id='jobDescriptionText')[0]\n",
    "    child_strs_list = ha.get_navigable_children(div_soup, [])\n",
    "    cu.ensure_filename(file_name, verbose=False)\n",
    "    cu.populate_from_child_strings(child_strs_list, file_name, verbose=False)\n",
    "    print(file_name)"
   ]
  },
  {
   "cell_type": "code",
   "execution_count": 11,
   "metadata": {},
   "outputs": [
    {
     "name": "stdout",
     "output_type": "stream",
     "text": [
      "\n",
      "    MATCH (fn:FileNames {file_name: \"Data_Scientist_Enterprise_and_Strategic_Clients_at_Zest_AI.html\"})\n",
      "    SET fn.posting_url = \"https://www.indeed.com/viewjob?cmp=DBSI-Services&t=Software+Test+Engineer&jk=c5debf6e44f9e4dd&q=python+selenium&vjs=3\"\n",
      "    RETURN fn;\n"
     ]
    },
    {
     "data": {
      "text/plain": [
       "[{'fn': <Node id=804966 labels=frozenset({'FileNames'}) properties={'file_name': 'Data_Scientist_Enterprise_and_Strategic_Clients_at_Zest_AI.html', 'posting_url': 'https://www.indeed.com/viewjob?cmp=DBSI-Services&t=Software+Test+Engineer&jk=c5debf6e44f9e4dd&q=python+selenium&vjs=3'}>}]"
      ]
     },
     "execution_count": 11,
     "metadata": {},
     "output_type": "execute_result"
    }
   ],
   "source": [
    "\n",
    "# Add the posting URL to the file name\n",
    "cypher_str = f'''\n",
    "    MATCH (fn:FileNames {{file_name: \"{file_name}\"}})\n",
    "    SET fn.posting_url = \"https://www.indeed.com/viewjob?cmp=DBSI-Services&t=Software+Test+Engineer&jk=c5debf6e44f9e4dd&q=python+selenium&vjs=3\"\n",
    "    RETURN fn;'''\n",
    "print(cypher_str)\n",
    "with cu.driver.session() as session:\n",
    "    row_objs_list = session.write_transaction(cu.do_cypher_tx, cypher_str)\n",
    "row_objs_list"
   ]
  },
  {
   "cell_type": "code",
   "execution_count": 12,
   "metadata": {},
   "outputs": [
    {
     "name": "stdout",
     "output_type": "stream",
     "text": [
      "['O-CS', 'O-TS', 'O-CS', 'O-TS', 'O-TS', 'H-TS', 'O-TS', 'O-TS', 'O-TS', 'O-TS', 'O-TS', 'O-TS', 'O-TS', 'O-CS', 'O-RQ', 'O-ER', 'O-RQ', 'O-RQ', 'O-PQ', 'O-TS', 'O-SP', 'O-RQ', 'O-CS', 'O-TS', 'O-TS', 'O-SP', 'O-SP', 'O-CS', 'O-TS', 'O-OL', 'O-TS', 'O-TS', 'O-TS', 'O-RQ', 'O-OL', 'O-RQ', 'O-CS', 'O-TS', 'O-CS', 'O-LN', 'O-TS']\n",
      "[14, 15, 16, 17, 21, 33, 35]\n"
     ]
    },
    {
     "data": {
      "text/html": [
       "0 O-CS) <span style=\"color:#1f77b480;\"><span style=\"font-weight: 400;\">Our technology teams at Zest AI thrive on solving hard problems that have a big impact on people's daily lives. We build tools to improve consumer lending by meeting the needs of financial institutions and their customers around the world. By leveraging a combination of machine learning and vast amounts of data, we seek to challenge traditional credit scoring models, while expanding the use of our proprietary technology across the fintech industry. Our team is committed to continuously leveraging and adapting the latest advances in AI/ML to benefit those we serve. (O-CS Corporate Scope Non-header)</span></span><br />1 O-TS) <span style=\"color:#9edae580;\"><span style=\"font-weight: 400;\">Data Scientists at Zest AI use the power of machine learning to build, validate, and operate models in production. This requires the careful testing and development of solutions to meet the financial needs of borrowers around the world. Our data scientists support customers directly (through direct engagement) and indirectly (by supporting the tools and analysis that power them). (O-TS Task Scope Non-header)</span></span><br />2 O-CS) <span style=\"color:#1f77b480;\"><span style=\"font-weight: 400;\">The Enterprise and Strategic Clients team works with our largest and most sophisticated clients, composed of some of the largest banks and financial institutions on the planet, maybe even the galaxy! (O-CS Corporate Scope Non-header)</span></span><br />3 O-TS) <span style=\"color:#9edae580;\"><span style=\"font-weight: 400;\">Members of this team regularly act as thought partners for our enterprise clients to translate business problems into well structured machine learning projects, create proof-of-concept models for new business use-cases. Using best practices and state-of-the-art approaches, we also support our clients through the model risk management validation process to return practical value to our customers. For clients that wish to build their own powerful, transparent, and fair models using Zest’s Model Development Kit (aka MDK, a proprietary set of Python-based tools), our data scientists will train, educate, and provide thought leadership on best practices and state-of-the-art approaches. (O-TS Task Scope Non-header)</span></span><br />4 O-TS) <span style=\"color:#9edae580;\"><span style=\"font-weight: 400;\">As one of the primary teams with the closest technical relationships with our clients, the Enterprise and Strategic Clients team is also responsible for leading the development and support of the Zest MDK. Data scientists will need to both incorporate feedback from clients as well as partner with internal engineering, product management, and financial analysis team members to determine new potential use-cases and business problems where we can drive further value for our clients. Following software development best practices, we will then incorporate those learnings back into our MDK for continuous improvement. (O-TS Task Scope Non-header)</span></span><br />5 H-TS) <span style=\"color:#9edae5ff;\"><strong>In this role you will: (H-TS Task Scope Header)</strong></span><br />6 O-TS) <span style=\"color:#9edae580;\"><span style=\"font-weight: 400;\">Translate ambiguous real-world business problems into well structured machine learning projects with a propensity for action and eagerness to drive results forward (O-TS Task Scope Non-header)</span></span><br />7 O-TS) <span style=\"color:#9edae580;\"><span style=\"font-weight: 400;\">Create proof-of-concept models for new business use-cases and partner with clients to define best practice model-creation processes as well as help them make trade-off-based decisions (O-TS Task Scope Non-header)</span></span><br />8 O-TS) <span style=\"color:#9edae580;\"><span style=\"font-weight: 400;\">Support clients through the model risk management validation of Zest-built models and able to justify data science decisions as well as effectively and clearly articulate the intent behind why decisions are made, adjusting according to the technical familiarity of the audience (O-TS Task Scope Non-header)</span></span><br />9 O-TS) <span style=\"color:#9edae580;\"><span style=\"font-weight: 400;\">Build demos, guidance documentation, and assist with training to help clients become more proficient with the Zest model development kit (MDK) Python packages and modeling best practice (O-TS Task Scope Non-header)</span></span><br />10 O-TS) <span style=\"color:#9edae580;\"><span style=\"font-weight: 400;\">Collaborate with cross-functional teams composed of engineering, product management, and financial analysis to identify and manage high leverage opportunities for modeling work (O-TS Task Scope Non-header)</span></span><br />11 O-TS) <span style=\"color:#9edae580;\"><span style=\"font-weight: 400;\">Design and implement highly generalizable models for predicting various outcomes. Incorporate and develop learnings back into the product for continuous improvement opportunities (O-TS Task Scope Non-header)</span></span><br />12 O-TS) <span style=\"color:#9edae580;\"><span style=\"font-weight: 400;\">Take responsibility for modeling implementation in real-world settings. This may include creating experiments and developing prototypes, with the goal of returning practical value to our customers (O-TS Task Scope Non-header)</span></span><br />13 O-CS) <span style=\"color:#1f77b480;\"><strong>We are looking for: (O-CS Corporate Scope Non-header)</strong></span><br /><hr />14 O-RQ) <span style=\"color:#bcbd2280;\"><span style=\"font-weight: 400;\">MS or PhD in a quantitative field (Computer Science, Engineering, Physics, etc.), with hands-on experience of 2 years or more. Experience in financial services is a plus. (O-RQ Required Qualifications Non-header)</span></span><br />15 O-ER) <span style=\"color:#aec7e880;\"><span style=\"font-weight: 400;\">Strong fundamentals in programming, statistics, mathematics, and ML algorithms (neural networks, tree-based methods, optimizers, super/unsupervised learning, feature engineering, etc.) (O-ER Education Requirements Non-header)</span></span><br />16 O-RQ) <span style=\"color:#bcbd2280;\"><span style=\"font-weight: 400;\">Experience in working with cross-functional stakeholders with varying degrees of technical and mathematical expertise (O-RQ Required Qualifications Non-header)</span></span><br />17 O-RQ) <span style=\"color:#bcbd2280;\"><span style=\"font-weight: 400;\">Expert experience designing, developing, and implementing machine learning models/algorithms. Familiar with implementing and developing/extending ML/AI frameworks (TensorFlow, XGBoost, Scikit-learn, etc.). (O-RQ Required Qualifications Non-header)</span></span><br />18 O-PQ) <span style=\"color:#c7c7c780;\"><span style=\"font-weight: 400;\">Experience with modular/modern software design practices strongly preferred, in addition to experience with Python. (O-PQ Preferred Qualifications Non-header)</span></span><br />19 O-TS) <span style=\"color:#9edae580;\"><span style=\"font-weight: 400;\">Passionate about ML/AI and how it can improve on the world (O-TS Task Scope Non-header)</span></span><br />20 O-SP) <span style=\"color:#17becf80;\"><strong>Perks and benefits: (O-SP Supplemental Pay Non-header)</strong></span><br />21 O-RQ) <span style=\"color:#bcbd2280;\"><span style=\"font-weight: 400;\">All Zestians experience: (O-RQ Required Qualifications Non-header)</span></span><br />22 O-CS) <span style=\"color:#1f77b480;\"><span style=\"font-weight: 400;\">The opportunity to join a mission-focused company (O-CS Corporate Scope Non-header)</span></span><br />23 O-TS) <span style=\"color:#9edae580;\"><span style=\"font-weight: 400;\">People – the best part of Zest! (O-TS Task Scope Non-header)</span></span><br />24 O-TS) <span style=\"color:#9edae580;\"><span style=\"font-weight: 400;\">Robust health and dental plans (O-TS Task Scope Non-header)</span></span><br />25 O-SP) <span style=\"color:#17becf80;\"><span style=\"font-weight: 400;\">401(k) with generous company match (O-SP Supplemental Pay Non-header)</span></span><br />26 O-SP) <span style=\"color:#17becf80;\"><span style=\"font-weight: 400;\">Unlimited vacation time, 11 company holidays, and winter break (shutdown) (O-SP Supplemental Pay Non-header)</span></span><br />27 O-CS) <span style=\"color:#1f77b480;\"><span style=\"font-weight: 400;\">Generous family leave policy (12 week maternity leave / 6 week paternity leave) (O-CS Corporate Scope Non-header)</span></span><br />28 O-TS) <span style=\"color:#9edae580;\"><span style=\"font-weight: 400;\">Tuition reimbursement, communications expense reimbursement, and conference allowance (O-TS Task Scope Non-header)</span></span><br />29 O-OL) <span style=\"color:#c49c9480;\"><span style=\"font-weight: 400;\">Our Burbank, CA area, remote or hybrid model (typically 2 days/week) Zestians experience: (O-OL Office Location Non-header)</span></span><br />30 O-TS) <span style=\"color:#9edae580;\"><span style=\"font-weight: 400;\">Beautiful, modern, dog-friendly office with lounge areas, video games, and gigantic jigsaw puzzles (O-TS Task Scope Non-header)</span></span><br />31 O-TS) <span style=\"color:#9edae580;\"><span style=\"font-weight: 400;\">Daily catered lunches from LA’s best restaurants and a fully stocked kitchen (O-TS Task Scope Non-header)</span></span><br />32 O-TS) <span style=\"color:#9edae580;\"><span style=\"font-weight: 400;\">Complimentary manicures and pedicures (O-TS Task Scope Non-header)</span></span><br />33 O-RQ) <span style=\"color:#bcbd2280;\"><span style=\"font-weight: 400;\">On-site gym with fitness classes (O-RQ Required Qualifications Non-header)</span></span><br />34 O-OL) <span style=\"color:#c49c9480;\"><span style=\"font-weight: 400;\">Company happy hours, social events, outings, and much more! (O-OL Office Location Non-header)</span></span><br />35 O-RQ) <span style=\"color:#bcbd2280;\"><strong>About Zest AI: (O-RQ Required Qualifications Non-header)</strong></span><br /><hr />36 O-CS) <span style=\"color:#1f77b480;\"><div>Zest AI has been perfecting AI for consumer lending decisions since 2009. Our Model Management System helps lenders make better decisions and better loans—increasing revenue, reducing risk, and automating compliance. Our mission is to make fair and transparent credit available to everyone and our software creates some of the most inclusive risk models in the industry. Using Zest-built machine learning software, financial institutions can dramatically expand credit access to deserving people with no added risk. Learn more at Zest.ai and connect with us on Twitter @Zest_AI or our Insights blog. (O-CS Corporate Scope Non-header)</div></span><br />37 O-TS) <span style=\"color:#9edae580;\"><div>Zest is committed to diversity, equity, and inclusion and encourages professionals from underrepresented groups in technology and financial services to apply. (O-TS Task Scope Non-header)</div></span><br />38 O-CS) <span style=\"color:#1f77b480;\">By submitting this application, I acknowledge and confirm that I have reviewed the (O-CS Corporate Scope Non-header)</span><br />39 O-LN) <span style=\"color:#9467bd80;\"><u>Employment Privacy Policy (O-LN Legal Notifications Non-header)</u></span><br />40 O-TS) <span style=\"color:#9edae580;\">and agree to the use of my information as set forth in the Policy. (O-TS Task Scope Non-header)</span><br />"
      ],
      "text/plain": [
       "<IPython.core.display.HTML object>"
      ]
     },
     "metadata": {},
     "output_type": "display_data"
    },
    {
     "name": "stdout",
     "output_type": "stream",
     "text": [
      "[14, 15, 16, 17, 21, 33, 35]\n"
     ]
    }
   ],
   "source": [
    "\n",
    "child_tags_list = ha.get_child_tags_list(child_strs_list)\n",
    "is_header_list = []\n",
    "for is_header, child_str in zip(ha.get_is_header_list(child_strs_list), child_strs_list):\n",
    "    if is_header is None:\n",
    "        probs_list = lru.ISHEADER_PREDICT_PERCENT_FIT(child_str)\n",
    "        idx = probs_list.index(max(probs_list))\n",
    "        is_header = [True, False][idx]\n",
    "    is_header_list.append(is_header)\n",
    "feature_dict_list = hc.get_feature_dict_list(child_tags_list, is_header_list, child_strs_list)\n",
    "feature_tuple_list = []\n",
    "for feature_dict in feature_dict_list:\n",
    "    feature_tuple_list.append(hc.get_feature_tuple(feature_dict, lru.pos_lr_predict_single))\n",
    "crf_list = crf.CRF.predict_single(crf.sent2features(feature_tuple_list))\n",
    "db_pos_list = []\n",
    "for navigable_parent in child_strs_list:\n",
    "    db_pos_list = cu.append_parts_of_speech_list(navigable_parent, pos_list=db_pos_list)\n",
    "pos_list, indices_list = su.visualize_basic_quals_section(crf_list, child_strs_list, db_pos_list=db_pos_list, verbose=True)"
   ]
  },
  {
   "cell_type": "markdown",
   "metadata": {},
   "source": [
    "\n",
    "----"
   ]
  },
  {
   "cell_type": "code",
   "execution_count": null,
   "metadata": {},
   "outputs": [],
   "source": [
    "raise"
   ]
  },
  {
   "cell_type": "code",
   "execution_count": 14,
   "metadata": {},
   "outputs": [
    {
     "name": "stdout",
     "output_type": "stream",
     "text": [
      "[14, 15, 16, 17, 21, 33, 35]\n",
      "19 O-TS) <span style=\"font-weight: 400;\">Passionate about ML/AI and how it can improve on the world</span>\n"
     ]
    }
   ],
   "source": [
    "\n",
    "# Display the context of an individual child string\n",
    "idx = 19\n",
    "print(indices_list); child_str = child_strs_list[idx]; pos_symbol = pos_list[idx]; basic_quals_dict = s.load_object('basic_quals_dict'); print(str(basic_quals_dict[child_str]) + '\\n' if(child_str in basic_quals_dict) else '', end=''); print(f'{idx} {pos_symbol}) {child_str}')"
   ]
  },
  {
   "cell_type": "code",
   "execution_count": 15,
   "metadata": {},
   "outputs": [
    {
     "name": "stdout",
     "output_type": "stream",
     "text": [
      "Pickling to C:\\Users\\daveb\\OneDrive\\Documents\\GitHub\\job-hunting\\saves\\pkl\\basic_quals_dict.pkl\n",
      "\"<span style=\"font-weight: 400;\">Passionate about ML/AI and how it can improve on the world</span>\" in basic_quals_dict: 1\n"
     ]
    }
   ],
   "source": [
    "\n",
    "# Hand-label this particular child string in the quals dictionary\n",
    "basic_quals_dict = s.load_object('basic_quals_dict')\n",
    "basic_quals_dict[child_str] = 1\n",
    "s.store_objects(basic_quals_dict=basic_quals_dict); print(f'\"{child_str}\" in basic_quals_dict: {basic_quals_dict[child_str]}')"
   ]
  },
  {
   "cell_type": "code",
   "execution_count": 16,
   "metadata": {},
   "outputs": [
    {
     "data": {
      "text/plain": [
       "[{'navigable_parent': '<span style=\"font-weight: 400;\">Passionate about ML/AI and how it can improve on the world</span>', 'is_header': 'False', 'is_task_scope': 'False', 'is_minimum_qualification': 'True', 'is_preferred_qualification': 'False', 'is_legal_notification': 'False', 'is_job_title': 'False', 'is_office_location': 'False', 'is_job_duration': 'False', 'is_supplemental_pay': 'False', 'is_educational_requirement': 'False', 'is_interview_procedure': 'False', 'is_corporate_scope': 'False', 'is_posting_date': 'False', 'is_other': 'False'}]"
      ]
     },
     "execution_count": 16,
     "metadata": {},
     "output_type": "execute_result"
    }
   ],
   "source": [
    "\n",
    "def do_cypher_tx(tx, navigable_parent, verbose=False):\n",
    "    cypher_str = \"\"\"MATCH (np:NavigableParents {navigable_parent: $navigable_parent})\n",
    "        SET\n",
    "            np.is_header = 'False',\n",
    "            np.is_task_scope = 'False',\n",
    "            np.is_minimum_qualification = 'True',\n",
    "            np.is_preferred_qualification = 'False',\n",
    "            np.is_educational_requirement = 'False',\n",
    "            np.is_legal_notification = 'False',\n",
    "            np.is_other = 'False',\n",
    "            np.is_corporate_scope = 'False',\n",
    "            np.is_job_title = 'False',\n",
    "            np.is_office_location = 'False',\n",
    "            np.is_job_duration = 'False',\n",
    "            np.is_supplemental_pay = 'False',\n",
    "            np.is_interview_procedure = 'False',\n",
    "            np.is_posting_date = 'False'\n",
    "        \"\"\" + cu.return_everything_str + ';'\n",
    "    results_list = tx.run(query=cypher_str, parameters={'navigable_parent': navigable_parent})\n",
    "\n",
    "    return [dict(record.items()) for record in results_list]\n",
    "with cu.driver.session() as session:\n",
    "    row_objs_list = session.write_transaction(do_cypher_tx, navigable_parent=child_str)\n",
    "row_objs_list"
   ]
  },
  {
   "cell_type": "markdown",
   "metadata": {},
   "source": [
    "\n",
    "----\n",
    "# Prepare cover sheet"
   ]
  },
  {
   "cell_type": "code",
   "execution_count": null,
   "metadata": {},
   "outputs": [],
   "source": [
    "\n",
    "# Show what qualifications you have for this posting\n",
    "from IPython.display import HTML, display\n",
    "\n",
    "# file_name = 'Senior_Data_Engineer,_Membership,_Data_Science_and_Engineering_-_Los_Gatos,_CA_-_Indeed.com_66403b30a2c0d89c.html'\n",
    "lru.build_isqualified_logistic_regression_elements(verbose=False)\n",
    "lru.retrain_isqualified_classifier(verbose=False)\n",
    "# child_strs_list = ha.get_child_strs_from_file(file_name=file_name)\n",
    "indices_list = su.find_basic_quals_section_indexes(child_strs_list=child_strs_list, crf_list=crf_list, file_name=file_name)\n",
    "quals_list = [child_str for i, child_str in enumerate(child_strs_list) if i in indices_list]\n",
    "prediction_list = list(lru.predict_job_hunt_percent_fit(quals_list))\n",
    "basic_quals_dict = s.load_object('basic_quals_dict')\n",
    "lru.basic_quals_dict = basic_quals_dict\n",
    "quals_str, qual_count = lru.get_quals_str(prediction_list, quals_list)\n",
    "job_fitness = qual_count/len(prediction_list)\n",
    "job_title = file_name.replace('.html', '').replace('_Indeed_com', '').replace('_', ' ')\n",
    "display(HTML(f'<p>I only meet {job_fitness:.1%} of the minimum requirements for the {job_title} position, but I can explain:</p>'))\n",
    "for i, qual_str in enumerate(quals_list):\n",
    "    if qual_str in basic_quals_dict:\n",
    "        if basic_quals_dict[qual_str]:\n",
    "            idx = qual_str.find('>')\n",
    "            if idx == -1:\n",
    "                display(HTML(f'{i+1}) {qual_str}'))\n",
    "            else:\n",
    "                display(HTML(f'{qual_str[:idx+1]}{i+1}) {qual_str[idx+1:]}'))"
   ]
  },
  {
   "cell_type": "code",
   "execution_count": null,
   "metadata": {},
   "outputs": [],
   "source": [
    "\n",
    "display(HTML(f\"<p>The minimum requirements for the {job_title} position that I don't meet are:</p>\"))\n",
    "for i, qual_str in enumerate(quals_list):\n",
    "    if (qual_str not in basic_quals_dict) or not basic_quals_dict[qual_str]:\n",
    "        idx = qual_str.find('>')\n",
    "        if idx == -1:\n",
    "            display(HTML(f'{i+1}) {qual_str}'))\n",
    "        else:\n",
    "            display(HTML(f'{qual_str[:idx+1]}{i+1}) {qual_str[idx+1:]}'))"
   ]
  },
  {
   "cell_type": "code",
   "execution_count": null,
   "metadata": {},
   "outputs": [],
   "source": [
    "\n",
    "display(HTML(f\"<p>The preferred requirements for the {job_title} position that I meet are:</p>\"))\n",
    "indices_list = [i for i, x in enumerate(pos_list) if (x in ['O-PQ'])]\n",
    "quals_list = [child_str for i, child_str in enumerate(child_strs_list) if i in indices_list]\n",
    "for i, qual_str in enumerate(quals_list):\n",
    "    if qual_str in basic_quals_dict:\n",
    "        if basic_quals_dict[qual_str]:\n",
    "            idx = qual_str.find('>')\n",
    "            if idx == -1:\n",
    "                display(HTML(f'{i+1}) {qual_str}'))\n",
    "            else:\n",
    "                display(HTML(f'{qual_str[:idx+1]}{i+1}) {qual_str[idx+1:]}'))"
   ]
  },
  {
   "cell_type": "markdown",
   "metadata": {},
   "source": [
    "\n",
    "----"
   ]
  },
  {
   "cell_type": "code",
   "execution_count": null,
   "metadata": {},
   "outputs": [],
   "source": []
  }
 ],
 "metadata": {
  "anaconda-cloud": {},
  "kernelspec": {
   "display_name": "Python 3 (ipykernel)",
   "language": "python",
   "name": "python3"
  },
  "language_info": {
   "codemirror_mode": {
    "name": "ipython",
    "version": 3
   },
   "file_extension": ".py",
   "mimetype": "text/x-python",
   "name": "python",
   "nbconvert_exporter": "python",
   "pygments_lexer": "ipython3",
   "version": "3.9.7"
  }
 },
 "nbformat": 4,
 "nbformat_minor": 4
}
