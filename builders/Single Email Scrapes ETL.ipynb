{
 "cells": [
  {
   "cell_type": "code",
   "execution_count": 1,
   "metadata": {},
   "outputs": [
    {
     "name": "stdout",
     "output_type": "stream",
     "text": [
      "Pretty printing has been turned OFF\n"
     ]
    }
   ],
   "source": [
    "\n",
    "%pprint"
   ]
  },
  {
   "cell_type": "code",
   "execution_count": 2,
   "metadata": {},
   "outputs": [],
   "source": [
    "\n",
    "import sys\n",
    "\n",
    "# Insert at 1, 0 is the script path (or '' in REPL)\n",
    "sys.path.insert(1, '../py')"
   ]
  },
  {
   "cell_type": "code",
   "execution_count": 3,
   "metadata": {},
   "outputs": [],
   "source": [
    "\n",
    "# Get the Neo4j driver\n",
    "from storage import Storage\n",
    "s = Storage()\n",
    "\n",
    "from ha_utils import HeaderAnalysis\n",
    "ha = HeaderAnalysis(verbose=False)\n",
    "\n",
    "from scrape_utils import WebScrapingUtilities\n",
    "wsu = WebScrapingUtilities()\n",
    "uri = wsu.secrets_json['neo4j']['connect_url']\n",
    "user =  wsu.secrets_json['neo4j']['username']\n",
    "password = wsu.secrets_json['neo4j']['password']\n",
    "\n",
    "from cypher_utils import CypherUtilities\n",
    "cu = CypherUtilities(uri=uri, user=user, password=password, driver=None, s=s, ha=ha)"
   ]
  },
  {
   "cell_type": "code",
   "execution_count": 4,
   "metadata": {},
   "outputs": [
    {
     "name": "stdout",
     "output_type": "stream",
     "text": [
      "======== Neo4j/4.4.7 ========\n"
     ]
    }
   ],
   "source": [
    "\n",
    "from neo4j.exceptions import ServiceUnavailable\n",
    "\n",
    "try:\n",
    "    version_str = cu.driver.verify_connectivity()\n",
    "    print(f'======== {version_str} ========')\n",
    "    \n",
    "    from hc_utils import HeaderCategories\n",
    "    hc = HeaderCategories(cu=cu, verbose=False)\n",
    "    \n",
    "    from section_utils import SectionUtilities\n",
    "    su = SectionUtilities(s=s, ha=ha, cu=cu, verbose=False)\n",
    "    \n",
    "    from lr_utils import LrUtilities\n",
    "    lru = LrUtilities(ha=ha, cu=cu, hc=hc, verbose=False)\n",
    "    \n",
    "    from crf_utils import CrfUtilities\n",
    "    crf = CrfUtilities(ha=ha, hc=hc, cu=cu, verbose=False)\n",
    "    \n",
    "    import warnings\n",
    "    warnings.filterwarnings('ignore')\n",
    "except ServiceUnavailable as e:\n",
    "    # print(str(e).strip())\n",
    "    raise ServiceUnavailable('You need to start Neo4j as a console')\n",
    "except Exception as e:\n",
    "    print(e.__class__)"
   ]
  },
  {
   "cell_type": "code",
   "execution_count": 5,
   "metadata": {},
   "outputs": [],
   "source": [
    "\n",
    "from datetime import datetime\n",
    "from urllib.parse import urlparse, parse_qs\n",
    "from IPython.display import clear_output\n",
    "import shutil\n",
    "import time\n",
    "import humanize\n",
    "%run ../load_magic/dataframes.py"
   ]
  },
  {
   "cell_type": "code",
   "execution_count": 6,
   "metadata": {},
   "outputs": [],
   "source": [
    "\n",
    "navigable_parent_cypher_str = '''\n",
    "    MATCH (np:NavigableParents {{navigable_parent: '{}'}})\n",
    "    ''' + cu.return_everything_str + ';'"
   ]
  },
  {
   "cell_type": "markdown",
   "metadata": {},
   "source": [
    "\n",
    "---\n",
    "# Training"
   ]
  },
  {
   "cell_type": "code",
   "execution_count": 7,
   "metadata": {},
   "outputs": [
    {
     "name": "stdout",
     "output_type": "stream",
     "text": [
      "Parts-of-speech classifier trained in 7 minutes and 7 seconds\n"
     ]
    }
   ],
   "source": [
    "\n",
    "t0 = time.time()\n",
    "lru.build_pos_logistic_regression_elements(verbose=False)\n",
    "crf.retrain_pos_classifier(verbose=False)\n",
    "duration_str = humanize.precisedelta(time.time() - t0, minimum_unit='seconds', format='%0.0f')\n",
    "print(f'Parts-of-speech classifier trained in {duration_str}')"
   ]
  },
  {
   "cell_type": "code",
   "execution_count": 8,
   "metadata": {},
   "outputs": [
    {
     "name": "stdout",
     "output_type": "stream",
     "text": [
      "Is-header classifier trained in 1 minute and 39 seconds\n"
     ]
    }
   ],
   "source": [
    "\n",
    "t0 = time.time()\n",
    "lru.build_isheader_logistic_regression_elements(verbose=False)\n",
    "lru.retrain_isheader_classifier(verbose=False)\n",
    "duration_str = humanize.precisedelta(time.time() - t0, minimum_unit='seconds', format='%0.0f')\n",
    "print(f'Is-header classifier trained in {duration_str}')"
   ]
  },
  {
   "cell_type": "code",
   "execution_count": 9,
   "metadata": {},
   "outputs": [
    {
     "name": "stdout",
     "output_type": "stream",
     "text": [
      "Is-qualified classifer trained in 7 seconds\n"
     ]
    }
   ],
   "source": [
    "\n",
    "# Rebuild the classifer from the quals dictionary\n",
    "t0 = time.time()\n",
    "lru.build_isqualified_logistic_regression_elements(verbose=False)\n",
    "lru.retrain_isqualified_classifier(verbose=False)\n",
    "duration_str = humanize.precisedelta(time.time() - t0, minimum_unit='seconds', format='%0.0f')\n",
    "print(f'Is-qualified classifer trained in {duration_str}')"
   ]
  },
  {
   "cell_type": "markdown",
   "metadata": {},
   "source": [
    "\n",
    "----"
   ]
  },
  {
   "cell_type": "code",
   "execution_count": 380,
   "metadata": {},
   "outputs": [
    {
     "name": "stdout",
     "output_type": "stream",
     "text": [
      "Sr_Data_Scientist_UMass_Memorial_Health_Worcester_MA_01608.html\n"
     ]
    }
   ],
   "source": [
    "\n",
    "file_path = r'C:\\Users\\daveb\\OneDrive\\Documents\\GitHub\\job-hunting\\data\\html\\other_email.html'\n",
    "file_name = re.sub(r'[^A-Za-z0-9]+', ' ',\n",
    "                   '''\n",
    "Sr. Data Scientist\n",
    "UMass Memorial Health\n",
    "Worcester, MA 01608\n",
    "''').strip().replace(' ', '_') + '.html'\n",
    "new_file_path = os.path.join(cu.SAVES_HTML_FOLDER, file_name)\n",
    "if os.path.isfile(new_file_path):\n",
    "    file_name = datetime.now().strftime('%Y%m%d%H%M%S%f') + f'_{file_name}'\n",
    "    new_file_path = os.path.join(cu.SAVES_HTML_FOLDER, file_name)\n",
    "if not os.path.isfile(new_file_path):\n",
    "    shutil.copy(file_path, os.path.join(cu.SAVES_HTML_FOLDER, file_name))\n",
    "    page_soup = get_page_soup(file_path)\n",
    "    div_soup = page_soup.find_all(name='div', id='jobDescriptionText')[0]\n",
    "    child_strs_list = ha.get_navigable_children(div_soup, [])\n",
    "    cu.ensure_filename(file_name, verbose=False)\n",
    "    cu.populate_from_child_strings(child_strs_list, file_name, verbose=False)\n",
    "    print(file_name)"
   ]
  },
  {
   "cell_type": "code",
   "execution_count": 381,
   "metadata": {},
   "outputs": [
    {
     "name": "stdout",
     "output_type": "stream",
     "text": [
      "\n",
      "    MATCH (fn:FileNames {file_name: \"Sr_Data_Scientist_UMass_Memorial_Health_Worcester_MA_01608.html\"})\n",
      "    SET fn.posting_url = \"https://www.indeed.com/viewjob?jk=78378484a2e75fd6&tk=1g9nsupd7v4et808&from=jobi2a&advn=1593641562529740&adid=395461290&ad=-6NYlbfkN0AMaXa3HsIVUHhGOm8qWa3jps87ppVspeqLYuXaXfwUvTtXN3pcVmE_N7alNJEpzZj3mgotD54zrWPVlfmCXff-woQlMoXgzqETYa5F5ct05VMXgjmEyf0XKSWbSLlLvVRfNZXI1NYWuGTowU6iNq2fuZNaxJ96oipbVurd7ncAqCBr4ieYUdGK1fbMfxkusHVqRvDlgxnEkEPWZlKANlZMvQGDWgrlbgxgSTFQzxfjS1fLytJ3LEsJGhmdJmuAPvQhRMQxlURfFkQfZ9cMknDpbehyipfNja7AWsR8j5hTTaAgLiRIvGv8JCIVdSlmJUb3E2Qw1IosQMCjoZvEGalh2VWjp9_S7U8eihLCKDW0kaQUsgPrPddEH5gdk3q9UrO8EjohgMkCgktl0zKuAeCUxMD5voENPl7wu9WQR5ppAGbaPZZoxsh4Hh8d_gQkrRM_ZaQ0y2ObsEIOhrAEJFlf&pub=21d85ca573e478f5e659e48885c828920cace3277f6b99df&i2af=jobi2a_smbrez_posting_email&xkcb=SoD5-_M3b9pFxlg0WL0PbzkdCdPP\"\n",
      "    RETURN fn;\n"
     ]
    },
    {
     "data": {
      "text/plain": [
       "[{'fn': <Node id=852753 labels=frozenset({'FileNames'}) properties={'file_name': 'Sr_Data_Scientist_UMass_Memorial_Health_Worcester_MA_01608.html', 'posting_url': 'https://www.indeed.com/viewjob?jk=78378484a2e75fd6&tk=1g9nsupd7v4et808&from=jobi2a&advn=1593641562529740&adid=395461290&ad=-6NYlbfkN0AMaXa3HsIVUHhGOm8qWa3jps87ppVspeqLYuXaXfwUvTtXN3pcVmE_N7alNJEpzZj3mgotD54zrWPVlfmCXff-woQlMoXgzqETYa5F5ct05VMXgjmEyf0XKSWbSLlLvVRfNZXI1NYWuGTowU6iNq2fuZNaxJ96oipbVurd7ncAqCBr4ieYUdGK1fbMfxkusHVqRvDlgxnEkEPWZlKANlZMvQGDWgrlbgxgSTFQzxfjS1fLytJ3LEsJGhmdJmuAPvQhRMQxlURfFkQfZ9cMknDpbehyipfNja7AWsR8j5hTTaAgLiRIvGv8JCIVdSlmJUb3E2Qw1IosQMCjoZvEGalh2VWjp9_S7U8eihLCKDW0kaQUsgPrPddEH5gdk3q9UrO8EjohgMkCgktl0zKuAeCUxMD5voENPl7wu9WQR5ppAGbaPZZoxsh4Hh8d_gQkrRM_ZaQ0y2ObsEIOhrAEJFlf&pub=21d85ca573e478f5e659e48885c828920cace3277f6b99df&i2af=jobi2a_smbrez_posting_email&xkcb=SoD5-_M3b9pFxlg0WL0PbzkdCdPP'}>}]"
      ]
     },
     "execution_count": 381,
     "metadata": {},
     "output_type": "execute_result"
    }
   ],
   "source": [
    "\n",
    "# Add the posting URL to the file name\n",
    "cypher_str = f'''\n",
    "    MATCH (fn:FileNames {{file_name: \"{file_name}\"}})\n",
    "    SET fn.posting_url = \"https://www.indeed.com/viewjob?jk=78378484a2e75fd6&tk=1g9nsupd7v4et808&from=jobi2a&advn=1593641562529740&adid=395461290&ad=-6NYlbfkN0AMaXa3HsIVUHhGOm8qWa3jps87ppVspeqLYuXaXfwUvTtXN3pcVmE_N7alNJEpzZj3mgotD54zrWPVlfmCXff-woQlMoXgzqETYa5F5ct05VMXgjmEyf0XKSWbSLlLvVRfNZXI1NYWuGTowU6iNq2fuZNaxJ96oipbVurd7ncAqCBr4ieYUdGK1fbMfxkusHVqRvDlgxnEkEPWZlKANlZMvQGDWgrlbgxgSTFQzxfjS1fLytJ3LEsJGhmdJmuAPvQhRMQxlURfFkQfZ9cMknDpbehyipfNja7AWsR8j5hTTaAgLiRIvGv8JCIVdSlmJUb3E2Qw1IosQMCjoZvEGalh2VWjp9_S7U8eihLCKDW0kaQUsgPrPddEH5gdk3q9UrO8EjohgMkCgktl0zKuAeCUxMD5voENPl7wu9WQR5ppAGbaPZZoxsh4Hh8d_gQkrRM_ZaQ0y2ObsEIOhrAEJFlf&pub=21d85ca573e478f5e659e48885c828920cace3277f6b99df&i2af=jobi2a_smbrez_posting_email&xkcb=SoD5-_M3b9pFxlg0WL0PbzkdCdPP\"\n",
    "    RETURN fn;'''\n",
    "print(cypher_str)\n",
    "with cu.driver.session() as session:\n",
    "    row_objs_list = session.write_transaction(cu.do_cypher_tx, cypher_str)\n",
    "row_objs_list"
   ]
  },
  {
   "cell_type": "code",
   "execution_count": 382,
   "metadata": {},
   "outputs": [
    {
     "name": "stdout",
     "output_type": "stream",
     "text": [
      "['O-TS', 'O-TS', 'O-OL', 'O-CS', 'O-OL', 'O-CS', 'O-CS', 'O-TS', 'H-TS', 'O-TS', 'O-TS', 'O-TS', 'O-TS', 'O-TS', 'O-CS', 'O-CS', 'O-CS', 'O-ER', 'O-RQ', 'O-CS', 'O-RQ', 'O-RQ', 'O-RQ', 'O-TS', 'O-TS', 'O-RQ', 'O-RQ', 'O-RQ', 'O-RQ', 'O-TS', 'O-RQ', 'O-RQ', 'O-PQ', 'O-RQ', 'O-RQ', 'O-RQ', 'O-TS', 'O-RQ', 'O-LN', 'O-JD', 'O-SP', 'H-JD', 'O-JD', 'O-OL']\n",
      "[17, 18, 20, 21, 22, 25, 26, 27, 28, 30, 31, 33, 34, 35, 37]\n"
     ]
    },
    {
     "data": {
      "text/html": [
       "0 O-TS) <span style=\"color:#9edae580;\"><p>Title: Sr Data Scientist (O-TS Task Scope Non-header)</p></span><br />1 O-TS) <span style=\"color:#9edae580;\"><p>Department: Performance Reporting (O-TS Task Scope Non-header)</p></span><br />2 O-OL) <span style=\"color:#c49c9480;\"><p>Location: UMass Memorial Medical Center: 100 Front St, Worcester, MA (O-OL Office Location Non-header)</p></span><br />3 O-CS) <span style=\"color:#1f77b480;\"><p>Shift: Days (O-CS Corporate Scope Non-header)</p></span><br />4 O-OL) <span style=\"color:#c49c9480;\"><p>Hours: 40 (O-OL Office Location Non-header)</p></span><br />5 O-CS) <span style=\"color:#1f77b480;\"><p>Shift Length: 8 (O-CS Corporate Scope Non-header)</p></span><br />6 O-CS) <span style=\"color:#1f77b480;\"><b>Position Summary: (O-CS Corporate Scope Non-header)</b></span><br />7 O-TS) <span style=\"color:#9edae580;\"><p>Under the direction of the Office of Clinical Integration (OCI) Management team, leads the interpretation and program evaluation of performance improvement opportunities through the use of statistical, algorithmic, mining, and visualization techniques. Collaborates at all levels of the organization to accomplish the value-based program goals and UMass Memorial Health Care (UMMHC) enterprise strategic goals and objectives. (O-TS Task Scope Non-header)</p></span><br />8 H-TS) <span style=\"color:#9edae5ff;\"><p>Major Responsibilities: (H-TS Task Scope Header)</p></span><br />9 O-TS) <span style=\"color:#9edae580;\"><li>Serves as project leader for Population Health analytics projects by working closely with internal, affiliate and community based customers and executives, Information Services (IS) staff, project managers, program directors, and other OCI teams to turn data into critical information/knowledge that can be used to make sound organizational decisions. (O-TS Task Scope Non-header)</li></span><br />10 O-TS) <span style=\"color:#9edae580;\"><li>Mentors Data Scientists and other staff in the development of process improvement and evaluation opportunities to increase the efficiency of the reporting process. Applies advanced statistical and/or predictive modeling techniques to improve multiple real-time, people-centric (dynamic) systems. (O-TS Task Scope Non-header)</li></span><br />11 O-TS) <span style=\"color:#9edae580;\"><li>Combines seemingly unrelated data concepts to identify trends and to solve complex problems. (O-TS Task Scope Non-header)</li></span><br />12 O-TS) <span style=\"color:#9edae580;\"><li>Designs experiments and tests hypotheses to support quality and/or financial performance improvement initiatives. Evaluates options to complex problems by using mathematics and statistical methods. (O-TS Task Scope Non-header)</li></span><br />13 O-TS) <span style=\"color:#9edae580;\"><li>Leads process discovery sessions to define operation definitions for data and identify stakeholder’s requirements for work in an ambiguous, constantly changing environment. (O-TS Task Scope Non-header)</li></span><br />14 O-CS) <span style=\"color:#1f77b480;\"><b>Position Qualifications: (O-CS Corporate Scope Non-header)</b></span><br />15 O-CS) <span style=\"color:#1f77b480;\"><p>License/Certification/Education: (O-CS Corporate Scope Non-header)</p></span><br />16 O-CS) <span style=\"color:#1f77b480;\"><p>Required: (O-CS Corporate Scope Non-header)</p></span><br /><hr />17 O-ER) <span style=\"color:#aec7e880;\"><li>Master’s Degree in Mathematics, Statistics, Engineering, Computer Science, Data Sciences, Social Sciences, or equivalent field. (O-ER Education Requirements Non-header)</li></span><br />18 O-RQ) <span style=\"color:#bcbd2280;\"><p>Experience/Skills: (O-RQ Required Qualifications Non-header)</p></span><br />19 O-CS) <span style=\"color:#1f77b480;\"><p>Required: (O-CS Corporate Scope Non-header)</p></span><br />20 O-RQ) <span style=\"color:#bcbd2280;\"><li>Two to five years of experience working in the financial, healthcare, software or equivalent industry in a function utilizing extensive knowledge of advanced statistical techniques and concepts (regression, properties of distributions, statistical tests and proper usage, etc.). (O-RQ Required Qualifications Non-header)</li></span><br />21 O-RQ) <span style=\"color:#bcbd2280;\"><li>Past experience includes evidence of leadership roles. (O-RQ Required Qualifications Non-header)</li></span><br />22 O-RQ) <span style=\"color:#bcbd2280;\"><li>Experience using statistical computer languages (R, Python, SQL, etc.) to manipulate data and draw insights from large data sets. (O-RQ Required Qualifications Non-header)</li></span><br />23 O-TS) <span style=\"color:#9edae580;\"><li>Extensive knowledge of statistical and data mining techniques. (O-TS Task Scope Non-header)</li></span><br />24 O-TS) <span style=\"color:#9edae580;\"><li>Experience in developing processes and tools to monitor and analyze model performance and data accuracy. (O-TS Task Scope Non-header)</li></span><br />25 O-RQ) <span style=\"color:#bcbd2280;\"><li>Experience using statistical software such as SAS, IBM SPSS. (O-RQ Required Qualifications Non-header)</li></span><br />26 O-RQ) <span style=\"color:#bcbd2280;\"><li>Highly experienced in Data Visualization/presentation skills and experience with Tableau. (O-RQ Required Qualifications Non-header)</li></span><br />27 O-RQ) <span style=\"color:#bcbd2280;\"><li>Excellent written and verbal communication skills. (O-RQ Required Qualifications Non-header)</li></span><br />28 O-RQ) <span style=\"color:#bcbd2280;\"><li>Ability to work in a team environment. (O-RQ Required Qualifications Non-header)</li></span><br />29 O-TS) <span style=\"color:#9edae580;\"><li>Understanding of value based contracts and healthcare policy. (O-TS Task Scope Non-header)</li></span><br />30 O-RQ) <span style=\"color:#bcbd2280;\"><li>Experience with geoscience techniques an exposure to QGIS. (O-RQ Required Qualifications Non-header)</li></span><br />31 O-RQ) <span style=\"color:#bcbd2280;\"><li>Experience working with Epic as a data source for analytical work. (O-RQ Required Qualifications Non-header)</li></span><br />32 O-PQ) <span style=\"color:#c7c7c780;\"><p>Preferred: (O-PQ Preferred Qualifications Non-header)</p></span><br />33 O-RQ) <span style=\"color:#bcbd2280;\"><li>Coding knowledge and experience with several languages (e.g. C, C++, Java, JavaScript). (O-RQ Required Qualifications Non-header)</li></span><br />34 O-RQ) <span style=\"color:#bcbd2280;\"><li>Experience working with and creating data architectures. (O-RQ Required Qualifications Non-header)</li></span><br />35 O-RQ) <span style=\"color:#bcbd2280;\"><li>Knowledge of machine learning techniques. (O-RQ Required Qualifications Non-header)</li></span><br />36 O-TS) <span style=\"color:#9edae580;\"><li>Understanding of medical terminology and healthcare finance. (O-TS Task Scope Non-header)</li></span><br />37 O-RQ) <span style=\"color:#bcbd2280;\"><li>Experience working with Optum Performance Analytics, medical claims data. (O-RQ Required Qualifications Non-header)</li></span><br /><hr />38 O-LN) <span style=\"color:#9467bd80;\"><p>All qualified applicants will receive consideration for employment without regard to race, color, religion, sex, sexual orientation, gender identity, national origin, disability or protected veteran status. (O-LN Legal Notifications Non-header)</p></span><br />39 O-JD) <span style=\"color:#98df8a80;\"><p>Job Type: Full-time (O-JD Job Duration Non-header)</p></span><br />40 O-SP) <span style=\"color:#17becf80;\"><p>Pay: $135,000.00 - $150,000.00 per year (O-SP Supplemental Pay Non-header)</p></span><br />41 H-JD) <span style=\"color:#98df8aff;\"><p>Schedule: (H-JD Job Duration Header)</p></span><br />42 O-JD) <span style=\"color:#98df8a80;\"><li>8 hour shift (O-JD Job Duration Non-header)</li></span><br />43 O-OL) <span style=\"color:#c49c9480;\"><p>Work Location: One location (O-OL Office Location Non-header)</p></span><br />"
      ],
      "text/plain": [
       "<IPython.core.display.HTML object>"
      ]
     },
     "metadata": {},
     "output_type": "display_data"
    },
    {
     "name": "stdout",
     "output_type": "stream",
     "text": [
      "[17, 18, 20, 21, 22, 25, 26, 27, 28, 30, 31, 33, 34, 35, 37]\n"
     ]
    }
   ],
   "source": [
    "\n",
    "child_tags_list = ha.get_child_tags_list(child_strs_list)\n",
    "is_header_list = []\n",
    "for is_header, child_str in zip(ha.get_is_header_list(child_strs_list), child_strs_list):\n",
    "    if is_header is None:\n",
    "        probs_list = lru.ISHEADER_PREDICT_PERCENT_FIT(child_str)\n",
    "        idx = probs_list.index(max(probs_list))\n",
    "        is_header = [True, False][idx]\n",
    "    is_header_list.append(is_header)\n",
    "feature_dict_list = hc.get_feature_dict_list(child_tags_list, is_header_list, child_strs_list)\n",
    "feature_tuple_list = []\n",
    "for feature_dict in feature_dict_list:\n",
    "    feature_tuple_list.append(hc.get_feature_tuple(feature_dict, lru.pos_lr_predict_single))\n",
    "crf_list = crf.CRF.predict_single(crf.sent2features(feature_tuple_list))\n",
    "db_pos_list = []\n",
    "for navigable_parent in child_strs_list:\n",
    "    db_pos_list = cu.append_parts_of_speech_list(navigable_parent, pos_list=db_pos_list)\n",
    "pos_list, indices_list = su.visualize_basic_quals_section(crf_list, child_strs_list, db_pos_list=db_pos_list, verbose=True)"
   ]
  },
  {
   "cell_type": "markdown",
   "metadata": {},
   "source": [
    "\n",
    "----"
   ]
  },
  {
   "cell_type": "code",
   "execution_count": null,
   "metadata": {},
   "outputs": [],
   "source": [
    "raise"
   ]
  },
  {
   "cell_type": "code",
   "execution_count": 440,
   "metadata": {},
   "outputs": [
    {
     "name": "stdout",
     "output_type": "stream",
     "text": [
      "[17, 18, 20, 21, 22, 25, 26, 27, 28, 30, 31, 33, 34, 35, 37]\n",
      "38 O-LN) <p>All qualified applicants will receive consideration for employment without regard to race, color, religion, sex, sexual orientation, gender identity, national origin, disability or protected veteran status.</p>\n"
     ]
    }
   ],
   "source": [
    "\n",
    "# Display the context of an individual child string\n",
    "idx = 38\n",
    "print(indices_list); child_str = child_strs_list[idx]; pos_symbol = pos_list[idx]; basic_quals_dict = s.load_object('basic_quals_dict'); print(str(basic_quals_dict[child_str]) + '\\n' if(child_str in basic_quals_dict) else '', end=''); print(f'{idx} {pos_symbol}) {child_str}')"
   ]
  },
  {
   "cell_type": "code",
   "execution_count": 438,
   "metadata": {},
   "outputs": [
    {
     "name": "stdout",
     "output_type": "stream",
     "text": [
      "Pickling to C:\\Users\\daveb\\OneDrive\\Documents\\GitHub\\job-hunting\\saves\\pkl\\basic_quals_dict.pkl\n",
      "\"<li>Experience working with Optum Performance Analytics, medical claims data.</li>\" in basic_quals_dict: 0\n"
     ]
    }
   ],
   "source": [
    "\n",
    "# Hand-label this particular child string in the quals dictionary\n",
    "basic_quals_dict = s.load_object('basic_quals_dict')\n",
    "basic_quals_dict[child_str] = 0\n",
    "s.store_objects(basic_quals_dict=basic_quals_dict); print(f'\"{child_str}\" in basic_quals_dict: {basic_quals_dict[child_str]}')"
   ]
  },
  {
   "cell_type": "code",
   "execution_count": 439,
   "metadata": {},
   "outputs": [
    {
     "data": {
      "text/plain": [
       "[{'navigable_parent': '<li>Experience working with Optum Performance Analytics, medical claims data.</li>', 'is_header': 'False', 'is_task_scope': 'False', 'is_minimum_qualification': 'False', 'is_preferred_qualification': 'True', 'is_legal_notification': 'False', 'is_job_title': 'False', 'is_office_location': 'False', 'is_job_duration': 'False', 'is_supplemental_pay': 'False', 'is_educational_requirement': 'False', 'is_interview_procedure': 'False', 'is_corporate_scope': 'False', 'is_posting_date': 'False', 'is_other': 'False'}]"
      ]
     },
     "execution_count": 439,
     "metadata": {},
     "output_type": "execute_result"
    }
   ],
   "source": [
    "\n",
    "def do_cypher_tx(tx, navigable_parent, verbose=False):\n",
    "    cypher_str = \"\"\"MATCH (np:NavigableParents {navigable_parent: $navigable_parent})\n",
    "        SET\n",
    "            np.is_header = 'False',\n",
    "            np.is_task_scope = 'False',\n",
    "            np.is_minimum_qualification = 'False',\n",
    "            np.is_preferred_qualification = 'True',\n",
    "            np.is_educational_requirement = 'False',\n",
    "            np.is_legal_notification = 'False',\n",
    "            np.is_other = 'False',\n",
    "            np.is_corporate_scope = 'False',\n",
    "            np.is_job_title = 'False',\n",
    "            np.is_office_location = 'False',\n",
    "            np.is_job_duration = 'False',\n",
    "            np.is_supplemental_pay = 'False',\n",
    "            np.is_interview_procedure = 'False',\n",
    "            np.is_posting_date = 'False'\n",
    "        \"\"\" + cu.return_everything_str + ';'\n",
    "    results_list = tx.run(query=cypher_str, parameters={'navigable_parent': navigable_parent})\n",
    "\n",
    "    return [dict(record.items()) for record in results_list]\n",
    "with cu.driver.session() as session:\n",
    "    row_objs_list = session.write_transaction(do_cypher_tx, navigable_parent=child_str)\n",
    "row_objs_list"
   ]
  },
  {
   "cell_type": "code",
   "execution_count": 210,
   "metadata": {},
   "outputs": [
    {
     "name": "stdout",
     "output_type": "stream",
     "text": [
      "Pickling to C:\\Users\\daveb\\OneDrive\\Documents\\GitHub\\job-hunting\\saves\\pkl\\basic_quals_dict.pkl\n",
      "\"a larger business audience\" in basic_quals_dict: False\n"
     ]
    }
   ],
   "source": [
    "\n",
    "# Remove this particular child string from the quals dictionary\n",
    "basic_quals_dict = s.load_object('basic_quals_dict')\n",
    "child_str = child_strs_list[idx]\n",
    "basic_quals_dict.pop(child_str)\n",
    "# basic_quals_dict[child_str] = 0\n",
    "s.store_objects(basic_quals_dict=basic_quals_dict)\n",
    "print(f'\"{child_str}\" in basic_quals_dict: {child_str in basic_quals_dict}')"
   ]
  },
  {
   "cell_type": "code",
   "execution_count": null,
   "metadata": {},
   "outputs": [],
   "source": []
  }
 ],
 "metadata": {
  "anaconda-cloud": {},
  "kernelspec": {
   "display_name": "Python 3 (ipykernel)",
   "language": "python",
   "name": "python3"
  },
  "language_info": {
   "codemirror_mode": {
    "name": "ipython",
    "version": 3
   },
   "file_extension": ".py",
   "mimetype": "text/x-python",
   "name": "python",
   "nbconvert_exporter": "python",
   "pygments_lexer": "ipython3",
   "version": "3.9.7"
  }
 },
 "nbformat": 4,
 "nbformat_minor": 4
}
