{
 "cells": [
  {
   "cell_type": "code",
   "execution_count": 1,
   "metadata": {},
   "outputs": [
    {
     "name": "stdout",
     "output_type": "stream",
     "text": [
      "Pretty printing has been turned OFF\n"
     ]
    }
   ],
   "source": [
    "\n",
    "%pprint"
   ]
  },
  {
   "cell_type": "code",
   "execution_count": 2,
   "metadata": {},
   "outputs": [],
   "source": [
    "\n",
    "import sys\n",
    "\n",
    "# Insert at 1, 0 is the script path (or '' in REPL)\n",
    "sys.path.insert(1, '../py')"
   ]
  },
  {
   "cell_type": "code",
   "execution_count": 3,
   "metadata": {},
   "outputs": [
    {
     "name": "stdout",
     "output_type": "stream",
     "text": [
      "CPU times: total: 49.4 s\n",
      "Wall time: 54.4 s\n"
     ]
    }
   ],
   "source": [
    "\n",
    "%%time\n",
    "from pandas import DataFrame\n",
    "\n",
    "from storage import Storage\n",
    "s = Storage()\n",
    "\n",
    "from ha_utils import HeaderAnalysis\n",
    "ha = HeaderAnalysis(verbose=False)\n",
    "\n",
    "from scrape_utils import WebScrapingUtilities\n",
    "wsu = WebScrapingUtilities()\n",
    "uri = wsu.secrets_json['neo4j']['connect_url']\n",
    "user =  wsu.secrets_json['neo4j']['username']\n",
    "password = wsu.secrets_json['neo4j']['password']\n",
    "\n",
    "from cypher_utils import CypherUtilities\n",
    "cu = CypherUtilities(uri=uri, user=user, password=password, driver=None, s=s, ha=ha)\n",
    "\n",
    "from hc_utils import HeaderCategories\n",
    "hc = HeaderCategories(cu=cu, verbose=False)\n",
    "\n",
    "from section_utils import SectionUtilities\n",
    "su = SectionUtilities(s=s, ha=ha, cu=cu, verbose=False)\n",
    "\n",
    "from lr_utils import LrUtilities\n",
    "lru = LrUtilities(ha=ha, cu=cu, hc=hc, verbose=False)\n",
    "lru.build_isheader_logistic_regression_elements()\n",
    "lru.build_pos_logistic_regression_elements()\n",
    "\n",
    "import warnings\n",
    "warnings.filterwarnings('ignore')"
   ]
  },
  {
   "cell_type": "code",
   "execution_count": 4,
   "metadata": {},
   "outputs": [],
   "source": [
    "\n",
    "%run ../load_magic/dataframes.py\n",
    "from datetime import datetime\n",
    "from urllib.parse import urlparse, parse_qs\n",
    "from urllib.error import HTTPError\n",
    "import random\n",
    "import requests"
   ]
  },
  {
   "cell_type": "code",
   "execution_count": 5,
   "metadata": {},
   "outputs": [],
   "source": [
    "\n",
    "cookies_dict = {\n",
    "    'ht': '{\"quantcast\":[\"D\"]}',\n",
    "    'gdId': '2b24e54b-29d2-46bd-9732-f6aef00c084e',\n",
    "    'trs': 'direct:direct:direct:2022-04-04+03:20:19.923:undefined:undefined',\n",
    "    'gdGPCset': 'true',\n",
    "    'uc': 'B938D722CF68A3271174359AF29F93FEAB3FE2BBFF32C5FEA98CA1F5BE33AF94595A2DB4532FE1BA7A17CDE7E5BCEFA6534500B4E60A3FBF1E619DB45EB262E468246B7DF0D375AB79736822ECA37FF37D8FEFC0DED2F8F7FC80CE38D7B86C6A2E69C4417CCD8C4BE3E41A838ABAB104B96511C509D2F0315076D82A6128CF512741ABD354EDAC8529C2648A447E254F',\n",
    "    'G_ENABLED_IDPS': 'google',\n",
    "    'optimizelyEndUserId': 'oeu1653407247171r0.1354439941740344',\n",
    "    'fpvc': '2',\n",
    "    'indeedCtk': '1g56t61oeputh802',\n",
    "    '_optionalConsent': 'true',\n",
    "    '_gcl_au': '1.1.1410759256.1654868358',\n",
    "    '_rdt_uuid': '1654868358827.cf5bfcfe-723c-40d3-b43c-ce699a4e33ea',\n",
    "    '__pdst': 'a6be13e6db3c419a8a1a3cc281931765',\n",
    "    '_fbp': 'fb.1.1654868359076.687854775',\n",
    "    '_tt_enable_cookie': '1',\n",
    "    '_ttp': '33c711dd-4788-48e9-aee2-754e8912e7b4',\n",
    "    'JSESSIONID_JX_APP': '46D5BC327C4A37CDF3BE11CA0179D799',\n",
    "    'GSESSIONID': '2b24e54b-29d2-46bd-9732-f6aef00c084e+1655477750481',\n",
    "    'cass': '0',\n",
    "    'JSESSIONID': 'C0CAD9ADF3FC2D5E811BE1D86D3724CE',\n",
    "    '_gid': 'GA1.2.597320307.1655477753',\n",
    "    '__gads': 'ID',\n",
    "    '__gpi': 'UID',\n",
    "    '_pin_unauth': 'dWlkPVlqTTVNbU15WVdFdE1tVmtZeTAwT1RkbExUaGpaR1l0TWpVd1pUZGhZVEJpTVdRMQ',\n",
    "    'gdsid': '1655477750481:1655479708711:583F7F1FCA59FDBC937B963C3CDEC6F7',\n",
    "    'at': '_h_DdAiCui-I3GulpXX2k5WyAdlNza6Bfg1l1u_jyMKKhNewrHN6F0Uji6Xo6lIoVB0t3aQWq7SPELxsLrxJOubiP2sY70pBKKzpILoQd7BQv24GZL5ANODjo2rrHDzZPYfcJRqmVgTj8mnRS3XflnS4fCafbddFkXkEBZ1tRMceGpbUaBjQabP801lS9_ZLMZUkZmR2D795W0YOLP8blyEcUXHQID12vt1-mgbuyuopPR7SRCVrTZI7Dc4GPWKmzks171b-05DWJaTmimU5vuVNz3Ev5iBcupKbTUooazW1fTrIB-ks2CG-Q2DzaBx1A2DfHSep8HA0yndndsRvHo_n2XZ6vu96HphoYF9VcuPxo1WUErR7VwU-FgHQKqiOMNC1JmhHp7scxf_ePqS2G4BSbqF7MU9Rvwl2GI1ryLgJMWen-HTm38fMN5xgFu1FQZe1e7S59y8PF6YpfoGHh1f_m8k-2N1S8Gi_0Mf1RGePsYraKif2mDz-08XmCj7OKXLUeM8HwnemcqB_1_miEQiL4j7AudNAINUM4iva9riAejwcIrs_7E7dwN_5moCrqjlWlx6YB4f56t-LK4Splum3fOKW47wN6d_8uG4rfsdwgVHuMwNFVQOYNGeEX024qaFZxEzyJBQx3UwT6Y7dOm7THqK7bbWq3WKCl4VN3SieRCs8r_aB_HVhq-0TAvqeebXUsEkU8z4iYrUbrf7SR3rS668UBmy4RaUkCS04gZkQxO-krJ4qMs6Bt_6laVX_pI6pMzgWTvAumM3YA0OzTCQYzUVQIkXrKzZz-hxKeIWKWjc6sSCmchfzH1-0tNFaVRPIv1Gmf2ELM8OIadRwjnXJQ9y4ppVj6QmrJMg9whXvJCSYDskqywXzXLcQnFt-',\n",
    "    'asst': '1655479708.0',\n",
    "    '__cf_bm': 'vIfYrUEKWDHLlFftluvvnQtKgLRWZEArM_cqPRwz_zI-1655479708-0-AXpWnquAMSkVzILLGwlZGWP7KdlrtP6g2B5vhV+MZw4oqFnvgFY/JIpoVnTgG0D7zB+ozciM9ZAxLrWClWh3LxQ',\n",
    "    '_ga_RJF0GNZNXE': 'GS1.1.1655479710.3.0.1655479710.60',\n",
    "    '_ga': 'GA1.2.6897551.1654868357',\n",
    "    '_GA_Job_Session': 'true',\n",
    "    'amp_a46b8b': 't8Dx3Eyg-zlel9fAUiSVKF.NTUyNDY5NjA',\n",
    "    'OptanonConsent': 'isGpcEnabled',\n",
    "    'AWSALB': 'uWCnnNFilbpBc8zqg81c8WfHhvnkYLQn2hI2FqPMtNlC8/A8lJv1Rj8AmjGOxsSQp5JvOXFzFESUIFvNCGIpZpKmanLUuAQpnoB7ZLZyQ/Fq9ec7XjBtLuL4iwfPrpZoYLzatLCHbBozUDU5jkcc0XX58owEVb5CsNX0zMXWYBpNDSyNiVpuGsudZc21Ag',\n",
    "    'AWSALBCORS': 'uWCnnNFilbpBc8zqg81c8WfHhvnkYLQn2hI2FqPMtNlC8/A8lJv1Rj8AmjGOxsSQp5JvOXFzFESUIFvNCGIpZpKmanLUuAQpnoB7ZLZyQ/Fq9ec7XjBtLuL4iwfPrpZoYLzatLCHbBozUDU5jkcc0XX58owEVb5CsNX0zMXWYBpNDSyNiVpuGsudZc21Ag',\n",
    "    'ki_t': '1655479712026;1655479712026;1655479712026;1;1',\n",
    "    'ki_r': '',\n",
    "    'ki_u': '1b5c216e-1907-87cb-aa9a-9f58',\n",
    "    'ki_s': '184113:1.0.0.0.1',\n",
    "    '_ga_RC95PMVB3H': 'GS1.1.1655479710.3.1.1655479717.53'\n",
    "}\n",
    "headers_dict = {'User-Agent': 'Mozilla/5.0'}"
   ]
  },
  {
   "cell_type": "markdown",
   "metadata": {},
   "source": [
    "\n",
    "----"
   ]
  },
  {
   "cell_type": "code",
   "execution_count": 11,
   "metadata": {},
   "outputs": [],
   "source": [
    "\n",
    "file_path = '../data/html/glassdoor_email.html'\n",
    "page_soup = get_page_soup(file_path)\n",
    "css_selector = 'a'\n",
    "link_soups_list = page_soup.select(css_selector)"
   ]
  },
  {
   "cell_type": "code",
   "execution_count": 12,
   "metadata": {},
   "outputs": [],
   "source": [
    "\n",
    "url_strs_list = []\n",
    "rows_list = []\n",
    "for link_soup in link_soups_list:\n",
    "    url_str = link_soup['href']\n",
    "    row_dict = {k: v[0] for k, v in parse_qs(urlparse(url_str).query).items()}\n",
    "    row_dict['url_str'] = url_str\n",
    "    rows_list.append(row_dict)\n",
    "df = pd.DataFrame(rows_list)\n",
    "mask_series = df.pos.isnull()\n",
    "url_strs_list = df[~mask_series].url_str.tolist()"
   ]
  },
  {
   "cell_type": "code",
   "execution_count": 13,
   "metadata": {},
   "outputs": [
    {
     "name": "stdout",
     "output_type": "stream",
     "text": [
      "Saving to ../saves/html\\1007954692594_Data_Scientist.html\n",
      "Saving to ../saves/html\\1007959629394_Sr_Business_Data_Analyst.html\n",
      "Saving to ../saves/html\\1007947258726_Senior_Data_Analyst.html\n",
      "Saving to ../saves/html\\1007954240607_SR_Financial_Data_Analyst_Fully_remote.html\n"
     ]
    }
   ],
   "source": [
    "\n",
    "files_list = []\n",
    "desc_regex = re.compile(r'\"job\":\\{\"description\":\"([^}]+)\\}')\n",
    "job_title_regex = re.compile(r'\"jobTitleText\":\"([^\"]+)\"')\n",
    "for url_str in url_strs_list:\n",
    "    try:\n",
    "        response_obj = requests.get(url_str, cookies=cookies_dict, headers=headers_dict)\n",
    "        webpage_html = response_obj.text\n",
    "        match_obj = job_title_regex.search(webpage_html)\n",
    "        page_title = eval(f'{{{match_obj.group()}}}')['jobTitleText']\n",
    "        file_name = re.sub(r'[^A-Za-z0-9]+', ' ', page_title).strip().replace(' ', '_')\n",
    "        jobListingId = parse_qs(urlparse(url_str).query).get('jobListingId', [''])[0]\n",
    "        if len(jobListingId):\n",
    "            file_name = f'{jobListingId}_{file_name}.html'\n",
    "        else:\n",
    "            file_name = f'{file_name}.html'\n",
    "            file_path = os.path.join(cu.SAVES_HTML_FOLDER, file_name)\n",
    "            if os.path.isfile(file_path):\n",
    "                file_name = datetime.now().strftime('%Y%m%d%H%M%S%f') + f'_{file_name}'\n",
    "        file_path = os.path.join(cu.SAVES_HTML_FOLDER, file_name)\n",
    "        if not os.path.isfile(file_path):\n",
    "            with open(file_path, 'w', encoding=s.encoding_type) as f:\n",
    "                print(f'Saving to {file_path}')\n",
    "                f.write('<html><head><title>')\n",
    "                f.write(page_title)\n",
    "                f.write('</title></head><body><div id=\"jobDescriptionText\">')\n",
    "                match_obj = desc_regex.search(webpage_html)\n",
    "                html_str = eval(f'{{{match_obj.group()}}}')['job']['description']\n",
    "                f.write(html_str)\n",
    "                f.write('</div></body></html>')\n",
    "            files_list.append(file_name)\n",
    "        cu.ensure_filename(file_name, verbose=False)\n",
    "        file_name = cu.clean_text(file_name)\n",
    "        url_str = cu.clean_text(url_str)\n",
    "        cypher_str = f'''\n",
    "            MATCH (fn:FileNames {{file_name: \"{file_name}\"}})\n",
    "            SET fn.posting_url = \"{url_str}\"\n",
    "            RETURN fn;'''\n",
    "        with cu.driver.session() as session:\n",
    "            row_objs_list = session.write_transaction(cu.do_cypher_tx, cypher_str)\n",
    "            # print(row_objs_list)\n",
    "    except HTTPError as e:\n",
    "        print(f'Got an HTTPError with {url_str}: {str(e).strip()}')\n",
    "    except Exception as e:\n",
    "        print(f'Got an {e.__class__} error with {url_str}: {str(e).strip()}')"
   ]
  },
  {
   "cell_type": "code",
   "execution_count": 14,
   "metadata": {},
   "outputs": [],
   "source": [
    "\n",
    "cu.ensure_navigableparent('END', verbose=False)\n",
    "for file_name in files_list:\n",
    "    file_path = os.path.join(cu.SAVES_HTML_FOLDER, file_name)\n",
    "    page_soup = get_page_soup(file_path)\n",
    "    row_div_list = page_soup.find_all(name='body')\n",
    "    for div_soup in row_div_list:\n",
    "        child_strs_list = ha.get_navigable_children(div_soup, [])\n",
    "        assert child_strs_list, f'Something is wrong with {file_name}'\n",
    "        cu.populate_from_child_strings(child_strs_list, file_name, verbose=False)"
   ]
  },
  {
   "cell_type": "code",
   "execution_count": 10,
   "metadata": {},
   "outputs": [
    {
     "data": {
      "text/plain": [
       "['1007957434054_Program_Manager_Data_Analytics_PM22_018999900.html', '1007955267572_Senior_Technical_Product_Manager_Risk_Intelligence.html']"
      ]
     },
     "execution_count": 10,
     "metadata": {},
     "output_type": "execute_result"
    }
   ],
   "source": [
    "\n",
    "files_list"
   ]
  }
 ],
 "metadata": {
  "anaconda-cloud": {},
  "kernelspec": {
   "display_name": "Python 3 (ipykernel)",
   "language": "python",
   "name": "python3"
  },
  "language_info": {
   "codemirror_mode": {
    "name": "ipython",
    "version": 3
   },
   "file_extension": ".py",
   "mimetype": "text/x-python",
   "name": "python",
   "nbconvert_exporter": "python",
   "pygments_lexer": "ipython3",
   "version": "3.9.7"
  }
 },
 "nbformat": 4,
 "nbformat_minor": 4
}
