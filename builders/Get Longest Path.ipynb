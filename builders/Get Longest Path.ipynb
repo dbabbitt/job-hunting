{
 "cells": [
  {
   "cell_type": "code",
   "execution_count": 1,
   "metadata": {},
   "outputs": [
    {
     "name": "stdout",
     "output_type": "stream",
     "text": [
      "Pretty printing has been turned OFF\n"
     ]
    }
   ],
   "source": [
    "\n",
    "%pprint"
   ]
  },
  {
   "cell_type": "code",
   "execution_count": 2,
   "metadata": {},
   "outputs": [],
   "source": [
    "\n",
    "import sys\n",
    "\n",
    "# Insert at 1, 0 is the script path (or '' in REPL)\n",
    "if (osp.join('..', 'py') not in sys.path): sys.path.insert(1, osp.join('..', 'py'))"
   ]
  },
  {
   "cell_type": "code",
   "execution_count": 3,
   "metadata": {},
   "outputs": [
    {
     "name": "stdout",
     "output_type": "stream",
     "text": [
      "CPU times: total: 1.98 s\n",
      "Wall time: 3.32 s\n"
     ]
    }
   ],
   "source": [
    "\n",
    "%%time\n",
    "from scrape_utils import WebScrapingUtilities\n",
    "%run ../load_magic/storage.py\n",
    "from ha_utils import HeaderAnalysis\n",
    "from cypher_utils import CypherUtilities\n",
    "\n",
    "wsu = WebScrapingUtilities()\n",
    "uri = wsu.secrets_json['neo4j']['connect_url']\n",
    "user =  wsu.secrets_json['neo4j']['username']\n",
    "password = wsu.secrets_json['neo4j']['password']\n",
    "s = Storage()\n",
    "ha = HeaderAnalysis()\n",
    "cu = CypherUtilities(uri=uri, user=user, password=password, driver=None, s=s, ha=ha)"
   ]
  },
  {
   "cell_type": "code",
   "execution_count": 4,
   "metadata": {},
   "outputs": [],
   "source": [
    "\n",
    "from datetime import datetime\n",
    "from urllib.parse import urlparse, parse_qs\n",
    "%run ../load_magic/dataframes.py\n",
    "from html_analysis import ElementAnalysis\n",
    "from IPython.display import clear_output\n",
    "\n",
    "ea = ElementAnalysis()"
   ]
  },
  {
   "cell_type": "markdown",
   "metadata": {},
   "source": [
    "\n",
    "----"
   ]
  },
  {
   "cell_type": "code",
   "execution_count": 74,
   "metadata": {},
   "outputs": [
    {
     "data": {
      "text/plain": [
       "2"
      ]
     },
     "execution_count": 74,
     "metadata": {},
     "output_type": "execute_result"
    }
   ],
   "source": [
    "\n",
    "cypher_str = '''\n",
    "    MATCH p=(start:NavigableParents)-[rels:NEXT*1..10000]->(end:NavigableParents)\n",
    "    WHERE ALL(r IN rels WHERE rels[0]['file_name'] = r.file_name) AND NOT (end)-[:NEXT]->()\n",
    "    RETURN\n",
    "        rels[0]['file_name'] AS file_name,\n",
    "        REDUCE(acc=[], n in nodes(p) | acc+[n.navigable_parent]) AS navigable_parents_list;'''\n",
    "with cu.driver.session() as session:\n",
    "    row_objs_list = session.write_transaction(cu.do_cypher_tx, cypher_str)\n",
    "df = pd.DataFrame(row_objs_list)\n",
    "df.navigable_parents_list.map(lambda x: len(x)).max()"
   ]
  },
  {
   "cell_type": "code",
   "execution_count": 75,
   "metadata": {},
   "outputs": [
    {
     "data": {
      "text/html": [
       "<div>\n",
       "<style scoped>\n",
       "    .dataframe tbody tr th:only-of-type {\n",
       "        vertical-align: middle;\n",
       "    }\n",
       "\n",
       "    .dataframe tbody tr th {\n",
       "        vertical-align: top;\n",
       "    }\n",
       "\n",
       "    .dataframe thead th {\n",
       "        text-align: right;\n",
       "    }\n",
       "</style>\n",
       "<table border=\"1\" class=\"dataframe\">\n",
       "  <thead>\n",
       "    <tr style=\"text-align: right;\">\n",
       "      <th></th>\n",
       "      <th>navigable_parent</th>\n",
       "      <th>file_name</th>\n",
       "      <th>sequence_order</th>\n",
       "    </tr>\n",
       "  </thead>\n",
       "  <tbody>\n",
       "    <tr>\n",
       "      <th>30665</th>\n",
       "      <td>&lt;div&gt;30+ days ago&lt;/div&gt;</td>\n",
       "      <td>Statistician_(Data_Scientist)_12_month_Roster_...</td>\n",
       "      <td>1162</td>\n",
       "    </tr>\n",
       "    <tr>\n",
       "      <th>30664</th>\n",
       "      <td>&lt;div class=\"icl-u-textColor--success\"&gt;usajobs....</td>\n",
       "      <td>Statistician_(Data_Scientist)_12_month_Roster_...</td>\n",
       "      <td>1161</td>\n",
       "    </tr>\n",
       "    <tr>\n",
       "      <th>30663</th>\n",
       "      <td>&lt;div&gt;30+ days ago&lt;/div&gt;</td>\n",
       "      <td>Statistician_(Data_Scientist)_12_month_Roster_...</td>\n",
       "      <td>1160</td>\n",
       "    </tr>\n",
       "    <tr>\n",
       "      <th>30662</th>\n",
       "      <td>&lt;div class=\"icl-u-textColor--success\"&gt;usajobs....</td>\n",
       "      <td>Statistician_(Data_Scientist)_12_month_Roster_...</td>\n",
       "      <td>1159</td>\n",
       "    </tr>\n",
       "    <tr>\n",
       "      <th>30661</th>\n",
       "      <td>&lt;div&gt;30+ days ago&lt;/div&gt;</td>\n",
       "      <td>Statistician_(Data_Scientist)_12_month_Roster_...</td>\n",
       "      <td>1158</td>\n",
       "    </tr>\n",
       "    <tr>\n",
       "      <th>...</th>\n",
       "      <td>...</td>\n",
       "      <td>...</td>\n",
       "      <td>...</td>\n",
       "    </tr>\n",
       "    <tr>\n",
       "      <th>34767</th>\n",
       "      <td>&lt;h2 class=\"jobsearch-JobDescriptionSection-job...</td>\n",
       "      <td>temp_Data_Scientist_00ba1a22ba67ffd2.html</td>\n",
       "      <td>0000</td>\n",
       "    </tr>\n",
       "    <tr>\n",
       "      <th>34804</th>\n",
       "      <td>&lt;b&gt;Purpose Statement&lt;/b&gt;</td>\n",
       "      <td>temp_Senior_Data_Analyst_-_Madison,_WI_-_Indee...</td>\n",
       "      <td>0000</td>\n",
       "    </tr>\n",
       "    <tr>\n",
       "      <th>34860</th>\n",
       "      <td>&lt;b&gt;Company Description:&lt;/b&gt;</td>\n",
       "      <td>temp_Sr._Data_Scientist_ed6a921f486e2019.html</td>\n",
       "      <td>0000</td>\n",
       "    </tr>\n",
       "    <tr>\n",
       "      <th>34956</th>\n",
       "      <td>&lt;h2 class=\"item-card-title\"&gt;Job match details&lt;...</td>\n",
       "      <td>temp_Sr._Data_Scientist_efa5ad2d82bd1fcd.html</td>\n",
       "      <td>0000</td>\n",
       "    </tr>\n",
       "    <tr>\n",
       "      <th>35026</th>\n",
       "      <td>&lt;h2 class=\"item-card-title\"&gt;Job match details&lt;...</td>\n",
       "      <td>temp_Statistician_(Data_Scientist)_12_month_Ro...</td>\n",
       "      <td>0000</td>\n",
       "    </tr>\n",
       "  </tbody>\n",
       "</table>\n",
       "<p>35290 rows × 3 columns</p>\n",
       "</div>"
      ],
      "text/plain": [
       "                                        navigable_parent  \\\n",
       "30665                            <div>30+ days ago</div>   \n",
       "30664  <div class=\"icl-u-textColor--success\">usajobs....   \n",
       "30663                            <div>30+ days ago</div>   \n",
       "30662  <div class=\"icl-u-textColor--success\">usajobs....   \n",
       "30661                            <div>30+ days ago</div>   \n",
       "...                                                  ...   \n",
       "34767  <h2 class=\"jobsearch-JobDescriptionSection-job...   \n",
       "34804                           <b>Purpose Statement</b>   \n",
       "34860                        <b>Company Description:</b>   \n",
       "34956  <h2 class=\"item-card-title\">Job match details<...   \n",
       "35026  <h2 class=\"item-card-title\">Job match details<...   \n",
       "\n",
       "                                               file_name sequence_order  \n",
       "30665  Statistician_(Data_Scientist)_12_month_Roster_...           1162  \n",
       "30664  Statistician_(Data_Scientist)_12_month_Roster_...           1161  \n",
       "30663  Statistician_(Data_Scientist)_12_month_Roster_...           1160  \n",
       "30662  Statistician_(Data_Scientist)_12_month_Roster_...           1159  \n",
       "30661  Statistician_(Data_Scientist)_12_month_Roster_...           1158  \n",
       "...                                                  ...            ...  \n",
       "34767          temp_Data_Scientist_00ba1a22ba67ffd2.html           0000  \n",
       "34804  temp_Senior_Data_Analyst_-_Madison,_WI_-_Indee...           0000  \n",
       "34860      temp_Sr._Data_Scientist_ed6a921f486e2019.html           0000  \n",
       "34956      temp_Sr._Data_Scientist_efa5ad2d82bd1fcd.html           0000  \n",
       "35026  temp_Statistician_(Data_Scientist)_12_month_Ro...           0000  \n",
       "\n",
       "[35290 rows x 3 columns]"
      ]
     },
     "execution_count": 75,
     "metadata": {},
     "output_type": "execute_result"
    }
   ],
   "source": [
    "\n",
    "cypher_str = '''\n",
    "    MATCH p=(start:NavigableParents)-[rels:NEXT*1..10000]->(end:NavigableParents)\n",
    "    WHERE ALL(r IN rels WHERE rels[0]['file_name'] = r.file_name) AND NOT (end)-[:NEXT]->()\n",
    "    RETURN p;'''\n",
    "with cu.driver.session() as session:\n",
    "    row_objs_list = session.write_transaction(cu.do_cypher_tx, cypher_str)\n",
    "rows_list = []\n",
    "for row_obj in row_objs_list:\n",
    "    row_dict = {k: v for k, v in row_obj['p'].nodes[0].items()}\n",
    "    row_dict.update({k: v for k, v in row_obj['p'].relationships[0].items()})\n",
    "    rows_list.append(row_dict)\n",
    "df = pd.DataFrame(rows_list)\n",
    "df.sort_values(['sequence_order', 'file_name'], ascending=[False, True])"
   ]
  },
  {
   "cell_type": "code",
   "execution_count": 82,
   "metadata": {},
   "outputs": [],
   "source": [
    "\n",
    "cypher_str = '''\n",
    "    MATCH (start:NavigableParents)-[r:NEXT {sequence_order: \"1162\"}]->(end:NavigableParents)\n",
    "    RETURN start, r, end;'''\n",
    "with cu.driver.session() as session:\n",
    "    row_objs_list = session.write_transaction(cu.do_cypher_tx, cypher_str)"
   ]
  },
  {
   "cell_type": "code",
   "execution_count": 84,
   "metadata": {},
   "outputs": [
    {
     "data": {
      "text/plain": [
       "dict_keys(['start', 'r', 'end'])"
      ]
     },
     "execution_count": 84,
     "metadata": {},
     "output_type": "execute_result"
    }
   ],
   "source": [
    "\n",
    "row_objs_list[0].keys()"
   ]
  },
  {
   "cell_type": "code",
   "execution_count": 85,
   "metadata": {},
   "outputs": [
    {
     "name": "stdout",
     "output_type": "stream",
     "text": [
      "start: <Node id=741851 labels=frozenset({'NavigableParents'}) properties={'navigable_parent': '<div>30+ days ago</div>'}>\n",
      "r: <Relationship id=23892 nodes=(<Node id=741851 labels=frozenset({'NavigableParents'}) properties={'navigable_parent': '<div>30+ days ago</div>'}>, <Node id=741852 labels=frozenset({'NavigableParents'}) properties={'navigable_parent': 'END'}>) type='NEXT' properties={'file_name': 'Statistician_(Data_Scientist)_12_month_Roster_Direct_Hire__ff6d88fe8a9a7879.html', 'sequence_order': '1162'}>\n",
      "end: <Node id=741852 labels=frozenset({'NavigableParents'}) properties={'navigable_parent': 'END'}>\n"
     ]
    }
   ],
   "source": [
    "\n",
    "for k, v in row_objs_list[0].items():\n",
    "    print(f'{k}: {v}')"
   ]
  },
  {
   "cell_type": "code",
   "execution_count": 81,
   "metadata": {},
   "outputs": [
    {
     "name": "stdout",
     "output_type": "stream",
     "text": [
      "navigable_parent: <div>30+ days ago</div>\n"
     ]
    }
   ],
   "source": [
    "\n",
    "for k, v in row_objs_list[0]['start'].items():\n",
    "    print(f'{k}: {v}')"
   ]
  },
  {
   "cell_type": "code",
   "execution_count": 87,
   "metadata": {},
   "outputs": [
    {
     "name": "stdout",
     "output_type": "stream",
     "text": [
      "file_name: Statistician_(Data_Scientist)_12_month_Roster_Direct_Hire__ff6d88fe8a9a7879.html\n",
      "sequence_order: 1162\n"
     ]
    }
   ],
   "source": [
    "\n",
    "for k, v in row_objs_list[0]['r'].items():\n",
    "    print(f'{k}: {v}')"
   ]
  },
  {
   "cell_type": "code",
   "execution_count": 86,
   "metadata": {},
   "outputs": [
    {
     "name": "stdout",
     "output_type": "stream",
     "text": [
      "navigable_parent: END\n"
     ]
    }
   ],
   "source": [
    "\n",
    "for k, v in row_objs_list[0]['end'].items():\n",
    "    print(f'{k}: {v}')"
   ]
  },
  {
   "cell_type": "code",
   "execution_count": 10,
   "metadata": {},
   "outputs": [
    {
     "name": "stdout",
     "output_type": "stream",
     "text": [
      "<class 'neo4j.graph.Path'>\n",
      "['p.end_node', 'p.graph', 'p.nodes', 'p.relationships', 'p.start_node']\n"
     ]
    }
   ],
   "source": [
    "\n",
    "p = row_objs_list[0]['p']\n",
    "print(type(p))\n",
    "print([f'p.{fn}' for fn in dir(p) if not fn.startswith('_')])"
   ]
  },
  {
   "cell_type": "code",
   "execution_count": 43,
   "metadata": {},
   "outputs": [
    {
     "name": "stdout",
     "output_type": "stream",
     "text": [
      "<class 'abc.NEXT'>\n",
      "['r.end_node', 'r.get', 'r.graph', 'r.id', 'r.items', 'r.keys', 'r.nodes', 'r.start_node', 'r.type', 'r.values']\n"
     ]
    }
   ],
   "source": [
    "\n",
    "r = p.relationships[0]\n",
    "print(type(r))\n",
    "print([f'r.{fn}' for fn in dir(r) if not fn.startswith('_')])"
   ]
  },
  {
   "cell_type": "code",
   "execution_count": 42,
   "metadata": {},
   "outputs": [
    {
     "data": {
      "text/plain": [
       "(<Relationship id=191702 nodes=(<Node id=655745 labels=frozenset({'NavigableParents'}) properties={'navigable_parent': '<b>Positions are to be filled in the Large Business &amp; International (LB&amp;I), Data Solutions division.</b>'}>, <Node id=655746 labels=frozenset({'NavigableParents'}) properties={'navigable_parent': '<b>Eight (8) positions are to be filled in any of the following locations:</b>'}>) type='NEXT' properties={'file_name': 'Statistician_(Data_Scientist)_12_month_Roster_Direct_Hire__ff6d88fe8a9a7879.html', 'sequence_order': '698'}>,)"
      ]
     },
     "execution_count": 42,
     "metadata": {},
     "output_type": "execute_result"
    }
   ],
   "source": [
    "\n",
    "r"
   ]
  },
  {
   "cell_type": "code",
   "execution_count": 44,
   "metadata": {},
   "outputs": [
    {
     "name": "stdout",
     "output_type": "stream",
     "text": [
      "file_name Statistician_(Data_Scientist)_12_month_Roster_Direct_Hire__ff6d88fe8a9a7879.html\n",
      "sequence_order 698\n"
     ]
    }
   ],
   "source": [
    "\n",
    "for k, v in r.items():\n",
    "    print(k, v)"
   ]
  },
  {
   "cell_type": "code",
   "execution_count": 14,
   "metadata": {},
   "outputs": [
    {
     "name": "stdout",
     "output_type": "stream",
     "text": [
      "<class 'neo4j.graph.Graph'>\n",
      "['g.Hydrator', 'g.nodes', 'g.relationship_type', 'g.relationships']\n"
     ]
    }
   ],
   "source": [
    "\n",
    "g = p.graph\n",
    "print(type(g))\n",
    "print([f'g.{fn}' for fn in dir(g) if not fn.startswith('_')])"
   ]
  },
  {
   "cell_type": "code",
   "execution_count": 25,
   "metadata": {},
   "outputs": [
    {
     "name": "stdout",
     "output_type": "stream",
     "text": [
      "<class 'neo4j.graph.Node'>\n",
      "['n.get', 'n.graph', 'n.id', 'n.items', 'n.keys', 'n.labels', 'n.values']\n"
     ]
    }
   ],
   "source": [
    "\n",
    "n = p.nodes[0]\n",
    "print(type(n))\n",
    "print([f'n.{fn}' for fn in dir(n) if not fn.startswith('_')])"
   ]
  },
  {
   "cell_type": "code",
   "execution_count": 36,
   "metadata": {},
   "outputs": [
    {
     "name": "stdout",
     "output_type": "stream",
     "text": [
      "navigable_parent <b>Positions are to be filled in the Large Business &amp; International (LB&amp;I), Data Solutions division.</b>\n"
     ]
    }
   ],
   "source": [
    "\n",
    "for k, v in n.items():\n",
    "    print(k, v)"
   ]
  },
  {
   "cell_type": "code",
   "execution_count": 35,
   "metadata": {},
   "outputs": [
    {
     "data": {
      "text/plain": [
       "'<b>Positions are to be filled in the Large Business &amp; International (LB&amp;I), Data Solutions division.</b>'"
      ]
     },
     "execution_count": 35,
     "metadata": {},
     "output_type": "execute_result"
    }
   ],
   "source": [
    "\n",
    "list(n.values())[0]"
   ]
  },
  {
   "cell_type": "code",
   "execution_count": 29,
   "metadata": {},
   "outputs": [
    {
     "data": {
      "text/plain": [
       "frozenset({'NavigableParents'})"
      ]
     },
     "execution_count": 29,
     "metadata": {},
     "output_type": "execute_result"
    }
   ],
   "source": [
    "\n",
    "n.labels"
   ]
  },
  {
   "cell_type": "code",
   "execution_count": 28,
   "metadata": {},
   "outputs": [
    {
     "data": {
      "text/plain": [
       "dict_keys(['navigable_parent'])"
      ]
     },
     "execution_count": 28,
     "metadata": {},
     "output_type": "execute_result"
    }
   ],
   "source": [
    "\n",
    "n.keys()"
   ]
  },
  {
   "cell_type": "code",
   "execution_count": 6,
   "metadata": {},
   "outputs": [],
   "source": []
  },
  {
   "cell_type": "code",
   "execution_count": null,
   "metadata": {},
   "outputs": [],
   "source": [
    "\n",
    "file_path = '../data/html/indeed_email.html'\n",
    "page_soup = get_page_soup(file_path)\n",
    "css_selector = 'body > table > tbody > tr > td > a > table > tbody > tr > td > a'\n",
    "link_soups_list = page_soup.select(css_selector)\n",
    "for link_soup in link_soups_list:\n",
    "    url_str = link_soup['href']\n",
    "    page_soup = get_page_soup(url_str)\n",
    "    page_title = page_soup.find('title').string.strip()\n",
    "    file_name = re.sub(r'\\W+', ' ', page_title).strip().replace(' ', '_')\n",
    "    jk = parse_qs(urlparse(url_str).query).get('jk', [''])[0]\n",
    "    if len(jk):\n",
    "        file_name = f'{jk}_{file_name}.html'\n",
    "    else:\n",
    "        # file_name = datetime.now().strftime('%Y%m%d%H%M%S%f') + f'_{file_name}.html'\n",
    "        file_name = f'{file_name}.html'\n",
    "    file_path = os.path.join(cu.SAVES_HTML_FOLDER, file_name)\n",
    "    if not os.path.isfile(file_path):\n",
    "        with open(file_path, 'w', encoding=s.encoding_type) as f:\n",
    "            if verbose:\n",
    "                print(f'Saving to {file_path}')\n",
    "            f.write('<html><head><title>')\n",
    "            f.write(page_title)\n",
    "            f.write('</title></head><body>')\n",
    "            row_div_list = page_soup.find_all(name='div', attrs={'class': ['jobsearch-JobComponent-description']})\n",
    "            for div_soup in row_div_list:\n",
    "                f.write(str(div_soup))\n",
    "            f.write('</body></html>')\n",
    "    clear_output(wait=True)\n",
    "    file_name_id = cu.get_filename_id(file_name, verbose=verbose)\n",
    "    row_div_list = page_soup.find_all(name='div', id='jobDescriptionText')\n",
    "    for div_soup in row_div_list:\n",
    "        child_strs_list = ea.ha.get_navigable_children(div_soup, [])\n",
    "        child_tags_list = ea.ha.get_child_tags_list(child_strs_list)\n",
    "        for sequence_order, (navigable_parent, header_tag) in enumerate(zip(child_strs_list, child_tags_list)):\n",
    "            clear_output(wait=True)\n",
    "            header_tag_id = cu.get_headertag_id(header_tag, verbose=verbose)\n",
    "            header_tag_sequence_id = cu.get_headertagsequence_id(file_name_id, header_tag_id, sequence_order, verbose=verbose)\n",
    "            cu.ensure_headertagsequence_filename_relationship(file_name_id, verbose=verbose)\n",
    "            cu.ensure_headertagsequence_headertag_relationship(header_tag_id, verbose=verbose)\n",
    "\n",
    "            navigable_parent_id = cu.get_navigableparent_id(navigable_parent, verbose=verbose)\n",
    "            cu.ensure_headertag_navigableparent_relationship(header_tag_id, navigable_parent_id, verbose=verbose)\n",
    "\n",
    "            navigable_parent_sequence_id = cu.get_navigableparentsequence_id(file_name_id, navigable_parent_id, sequence_order, verbose=verbose)\n",
    "            cu.ensure_navigableparentsequence_filename_relationship(file_name_id, verbose=verbose)\n",
    "            cu.ensure_navigableparentsequence_navigableparent_relationship(navigable_parent_id, verbose=verbose)"
   ]
  }
 ],
 "metadata": {
  "anaconda-cloud": {},
  "kernelspec": {
   "display_name": "Python 3 (ipykernel)",
   "language": "python",
   "name": "python3"
  },
  "language_info": {
   "codemirror_mode": {
    "name": "ipython",
    "version": 3
   },
   "file_extension": ".py",
   "mimetype": "text/x-python",
   "name": "python",
   "nbconvert_exporter": "python",
   "pygments_lexer": "ipython3",
   "version": "3.9.16"
  }
 },
 "nbformat": 4,
 "nbformat_minor": 4
}
