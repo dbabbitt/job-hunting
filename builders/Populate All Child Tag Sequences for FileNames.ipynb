{
 "cells": [
  {
   "cell_type": "code",
   "execution_count": 1,
   "metadata": {},
   "outputs": [
    {
     "name": "stdout",
     "output_type": "stream",
     "text": [
      "Pretty printing has been turned OFF\n"
     ]
    }
   ],
   "source": [
    "\n",
    "%pprint"
   ]
  },
  {
   "cell_type": "code",
   "execution_count": 2,
   "metadata": {},
   "outputs": [],
   "source": [
    "\n",
    "import sys\n",
    "\n",
    "# Insert at 1, 0 is the script path (or '' in REPL)\n",
    "sys.path.insert(1, '../py')"
   ]
  },
  {
   "cell_type": "code",
   "execution_count": 3,
   "metadata": {},
   "outputs": [
    {
     "name": "stdout",
     "output_type": "stream",
     "text": [
      "CPU times: total: 1.94 s\n",
      "Wall time: 2.6 s\n"
     ]
    }
   ],
   "source": [
    "\n",
    "%%time\n",
    "from scrape_utils import WebScrapingUtilities\n",
    "%run ../load_magic/storage.py\n",
    "from ha_utils import HeaderAnalysis\n",
    "from cypher_utils import CypherUtilities\n",
    "\n",
    "wsu = WebScrapingUtilities()\n",
    "uri = wsu.secrets_json['neo4j']['connect_url']\n",
    "user =  wsu.secrets_json['neo4j']['username']\n",
    "password = wsu.secrets_json['neo4j']['password']\n",
    "s = Storage()\n",
    "ha = HeaderAnalysis()\n",
    "cu = CypherUtilities(uri=uri, user=user, password=password, driver=None, s=s, ha=ha)"
   ]
  },
  {
   "cell_type": "code",
   "execution_count": 4,
   "metadata": {},
   "outputs": [],
   "source": [
    "\n",
    "%run ../load_magic/dataframes.py\n",
    "from IPython.display import clear_output"
   ]
  },
  {
   "cell_type": "code",
   "execution_count": 5,
   "metadata": {},
   "outputs": [
    {
     "name": "stdout",
     "output_type": "stream",
     "text": [
      "MERGE (hts:HeaderTagSequence {\n",
      "                file_name: \"e94e389195155d43_Staff_Software_Engineer_Seattle_WA_98102_Indeed_com.html\",\n",
      "                header_tag_id: \"90\",\n",
      "                sequence_order: \"32\"})\n",
      "            RETURN hts.header_tag_sequence_id;\n",
      "\n",
      "                MERGE (hts:HeaderTagSequence {\n",
      "                    file_name: \"e94e389195155d43_Staff_Software_Engineer_Seattle_WA_98102_Indeed_com.html\",\n",
      "                    header_tag_id: \"90\",\n",
      "                    sequence_order: \"32\"}) SET\n",
      "                    hts.header_tag_sequence_id = \"588ab023104dd183eb899d3330f2a190\"\n",
      "                RETURN hts.header_tag_sequence_id;\n",
      "MATCH (fn:FileNames {file_name: \"e94e389195155d43_Staff_Software_Engineer_Seattle_WA_98102_Indeed_com.html\"}), (hts:HeaderTagSequence {file_name: \"e94e389195155d43_Staff_Software_Engineer_Seattle_WA_98102_Indeed_com.html\"})\n",
      "            MERGE (hts)-[r:IS_CONTAINED_IN]->(fn);\n",
      "MATCH\n",
      "            (ht:HeaderTags {header_tag_id: \"90\"}),\n",
      "            (hts:HeaderTagSequence {header_tag_id: \"90\"})\n",
      "            MERGE (ht)-[r:IS_PART_OF]->(hts);\n",
      "MATCH\n",
      "            (np:NavigableParents {navigable_parent: \": Adaptive Biotechnologies values our relationships with our Recruitment Partners and will only accept resumes from those partners whom have been contracted by a member of our Human Resources team to collaborate with us. Adaptive Biotechnologies is not responsible for any fees related to resumes that are unsolicited or are received by any employee of Adaptive Biotechnologies who is not a member of the Human Resources team.\"}),\n",
      "            (ht:HeaderTags {header_tag_id: \"90\"})\n",
      "            MERGE (ht)-[r:SUMMARIZES]->(np);\n",
      "MERGE (:FileNames {file_name: \"temp_Data_Scientist_(Services)_63b23e3bd4672ef3.html\"});\n",
      "MERGE (:FileNames {file_name: \"temp_Data_Scientist_00ba1a22ba67ffd2.html\"});\n",
      "MERGE (:FileNames {file_name: \"temp_Senior_Data_Analyst_-_Madison,_WI_-_Indeed.com_2cbc31c960500ae6.html\"});\n",
      "MERGE (:FileNames {file_name: \"temp_Sr._Data_Scientist_ed6a921f486e2019.html\"});\n",
      "MERGE (:FileNames {file_name: \"temp_Sr._Data_Scientist_efa5ad2d82bd1fcd.html\"});\n",
      "MERGE (:FileNames {file_name: \"temp_Statistician_(Data_Scientist)_12_month_Roster_Direct_Hire__ff6d88fe8a9a7879.html\"});\n"
     ]
    }
   ],
   "source": [
    "\n",
    "files_list = sorted([fn for fn in os.listdir(cu.SAVES_HTML_FOLDER) if fn.endswith('.html')])\n",
    "verbose = True\n",
    "cu.ensure_navigableparent('END', verbose=verbose)\n",
    "for file_name in files_list:\n",
    "    cu.ensure_filename(file_name, verbose=verbose)\n",
    "    file_path = os.path.join(cu.SAVES_HTML_FOLDER, file_name)\n",
    "    page_soup = get_page_soup(file_path)\n",
    "    row_div_list = page_soup.find_all(name='div', id='jobDescriptionText')\n",
    "    for div_soup in row_div_list:\n",
    "        child_strs_list = ha.get_navigable_children(div_soup, [])\n",
    "        for sequence_order, (navigable_parent1, navigable_parent2) in enumerate(zip(child_strs_list[:-1], child_strs_list[1:])):\n",
    "            clear_output(wait=True)\n",
    "            cu.ensure_navigableparent(navigable_parent1, verbose=verbose)\n",
    "            cu.ensure_navigableparents_relationship(navigable_parent1, navigable_parent2, file_name, sequence_order, verbose=verbose)\n",
    "        \n",
    "        # Add a fake relationship at the end\n",
    "        clear_output(wait=True)\n",
    "        cu.ensure_navigableparent(navigable_parent2, verbose=verbose)\n",
    "        cu.ensure_navigableparents_relationship(navigable_parent2, 'END', file_name, sequence_order+1, verbose=verbose)\n",
    "        \n",
    "        child_tags_list = ha.get_child_tags_list(child_strs_list)\n",
    "        for sequence_order, (navigable_parent, header_tag) in enumerate(zip(child_strs_list, child_tags_list)):\n",
    "            clear_output(wait=True)\n",
    "            header_tag_id = cu.get_headertag_id(header_tag, verbose=verbose)\n",
    "            header_tag_sequence_id = cu.get_headertagsequence_id(file_name, header_tag_id, sequence_order, verbose=verbose)\n",
    "            cu.ensure_headertagsequence_filename_relationship(file_name, verbose=verbose)\n",
    "            cu.ensure_headertagsequence_headertag_relationship(header_tag_id, verbose=verbose)\n",
    "            \n",
    "            cu.ensure_headertag_navigableparent_relationship(header_tag_id, navigable_parent, verbose=verbose)"
   ]
  },
  {
   "cell_type": "code",
   "execution_count": 6,
   "metadata": {},
   "outputs": [
    {
     "name": "stdout",
     "output_type": "stream",
     "text": [
      "MERGE (hts:HeaderTagSequence {\n",
      "                file_name: \"7241b5e76974b36bb5614da42aa52f9d\",\n",
      "                header_tag_id: \"88\",\n",
      "                sequence_order: \"0\"})\n",
      "            RETURN hts.header_tag_sequence_id;\n",
      "\n",
      "                MERGE (hts:HeaderTagSequence {\n",
      "                    file_name: \"7241b5e76974b36bb5614da42aa52f9d\",\n",
      "                    header_tag_id: \"88\",\n",
      "                    sequence_order: \"0\"}) SET\n",
      "                    hts.header_tag_sequence_id = \"54850e003886e7b2fcc08719110bb868\"\n",
      "                RETURN hts.header_tag_sequence_id;\n",
      "MATCH (fn:FileNames {file_name: \"7241b5e76974b36bb5614da42aa52f9d\"}), (hts:HeaderTagSequence {file_name: \"7241b5e76974b36bb5614da42aa52f9d\"})\n",
      "            MERGE (hts)-[r:IS_CONTAINED_IN]->(fn);\n",
      "MATCH\n",
      "            (ht:HeaderTags {header_tag_id: \"88\"}),\n",
      "            (hts:HeaderTagSequence {header_tag_id: \"88\"})\n",
      "            MERGE (ht)-[r:IS_PART_OF]->(hts);\n"
     ]
    },
    {
     "ename": "AttributeError",
     "evalue": "'CypherUtilities' object has no attribute 'get_navigableparent_id'",
     "output_type": "error",
     "traceback": [
      "\u001b[1;31m---------------------------------------------------------------------------\u001b[0m",
      "\u001b[1;31mAttributeError\u001b[0m                            Traceback (most recent call last)",
      "Input \u001b[1;32mIn [6]\u001b[0m, in \u001b[0;36m<cell line: 7>\u001b[1;34m()\u001b[0m\n\u001b[0;32m     14\u001b[0m     cu\u001b[38;5;241m.\u001b[39mensure_headertagsequence_filename_relationship(file_name_id, verbose\u001b[38;5;241m=\u001b[39mverbose)\n\u001b[0;32m     15\u001b[0m     cu\u001b[38;5;241m.\u001b[39mensure_headertagsequence_headertag_relationship(header_tag_id, verbose\u001b[38;5;241m=\u001b[39mverbose)\n\u001b[1;32m---> 17\u001b[0m     navigable_parent_id \u001b[38;5;241m=\u001b[39m \u001b[43mcu\u001b[49m\u001b[38;5;241;43m.\u001b[39;49m\u001b[43mget_navigableparent_id\u001b[49m(navigable_parent, verbose\u001b[38;5;241m=\u001b[39mverbose)\n\u001b[0;32m     18\u001b[0m     cu\u001b[38;5;241m.\u001b[39mensure_headertag_navigableparent_relationship(header_tag_id, navigable_parent_id, verbose\u001b[38;5;241m=\u001b[39mverbose)\n\u001b[0;32m     19\u001b[0m \u001b[38;5;28;01mfor\u001b[39;00m sequence_order, (navigable_parent1, navigable_parent2) \u001b[38;5;129;01min\u001b[39;00m \u001b[38;5;28menumerate\u001b[39m(\u001b[38;5;28mzip\u001b[39m(child_strs_list[:\u001b[38;5;241m-\u001b[39m\u001b[38;5;241m1\u001b[39m], child_strs_list[\u001b[38;5;241m1\u001b[39m:])):\n",
      "\u001b[1;31mAttributeError\u001b[0m: 'CypherUtilities' object has no attribute 'get_navigableparent_id'"
     ]
    }
   ],
   "source": [
    "\n",
    "verbose = True\n",
    "file_name = '9dc7201db74605e8_Data_Business_Analyst_Remote_Indeed_com.html'\n",
    "file_name_id = cu.get_filename_id(file_name, verbose=verbose)\n",
    "file_path = os.path.join(cu.SAVES_HTML_FOLDER, file_name)\n",
    "page_soup = get_page_soup(file_path)\n",
    "row_div_list = page_soup.find_all(name='div', id='jobDescriptionText')\n",
    "for div_soup in row_div_list:\n",
    "    child_strs_list = ha.get_navigable_children(div_soup, [])\n",
    "    child_tags_list = ha.get_child_tags_list(child_strs_list)\n",
    "    for sequence_order, (navigable_parent, header_tag) in enumerate(zip(child_strs_list, child_tags_list)):\n",
    "        clear_output(wait=True)\n",
    "        header_tag_id = cu.get_headertag_id(header_tag, verbose=verbose)\n",
    "        header_tag_sequence_id = cu.get_headertagsequence_id(file_name_id, header_tag_id, sequence_order, verbose=verbose)\n",
    "        cu.ensure_headertagsequence_filename_relationship(file_name_id, verbose=verbose)\n",
    "        cu.ensure_headertagsequence_headertag_relationship(header_tag_id, verbose=verbose)\n",
    "\n",
    "        navigable_parent_id = cu.get_navigableparent_id(navigable_parent, verbose=verbose)\n",
    "        cu.ensure_headertag_navigableparent_relationship(header_tag_id, navigable_parent_id, verbose=verbose)\n",
    "    for sequence_order, (navigable_parent1, navigable_parent2) in enumerate(zip(child_strs_list[:-1], child_strs_list[1:])):\n",
    "        cu.ensure_navigableparent(navigable_parent1, verbose=verbose)\n",
    "        cu.ensure_navigableparent(navigable_parent2, verbose=verbose)\n",
    "        cu.ensure_navigableparents_relationship(navigable_parent1, navigable_parent2, file_name, sequence_order, verbose=verbose)\n",
    "\n",
    "    # Add a fake relationship at the end\n",
    "    cu.ensure_navigableparent('END', verbose=verbose)\n",
    "    cu.ensure_navigableparents_relationship(navigable_parent2, 'END', file_name, sequence_order+1, verbose=verbose)"
   ]
  },
  {
   "cell_type": "code",
   "execution_count": null,
   "metadata": {},
   "outputs": [],
   "source": []
  }
 ],
 "metadata": {
  "anaconda-cloud": {},
  "kernelspec": {
   "display_name": "Python 3 (ipykernel)",
   "language": "python",
   "name": "python3"
  },
  "language_info": {
   "codemirror_mode": {
    "name": "ipython",
    "version": 3
   },
   "file_extension": ".py",
   "mimetype": "text/x-python",
   "name": "python",
   "nbconvert_exporter": "python",
   "pygments_lexer": "ipython3",
   "version": "3.9.7"
  }
 },
 "nbformat": 4,
 "nbformat_minor": 4
}
