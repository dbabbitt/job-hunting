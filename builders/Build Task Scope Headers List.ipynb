{
 "cells": [
  {
   "cell_type": "code",
   "execution_count": 1,
   "metadata": {},
   "outputs": [
    {
     "name": "stdout",
     "output_type": "stream",
     "text": [
      "Pretty printing has been turned OFF\n"
     ]
    }
   ],
   "source": [
    "\n",
    "%pprint"
   ]
  },
  {
   "cell_type": "code",
   "execution_count": 2,
   "metadata": {},
   "outputs": [],
   "source": [
    "\n",
    "import sys\n",
    "\n",
    "# Insert at 1, 0 is the script path (or '' in REPL)\n",
    "sys.path.insert(1, '../py')"
   ]
  },
  {
   "cell_type": "code",
   "execution_count": 3,
   "metadata": {},
   "outputs": [
    {
     "name": "stdout",
     "output_type": "stream",
     "text": [
      "CPU times: total: 2.16 s\n",
      "Wall time: 2.89 s\n"
     ]
    }
   ],
   "source": [
    "\n",
    "%%time\n",
    "from scrape_utils import WebScrapingUtilities\n",
    "%run ../load_magic/storage.py\n",
    "from ha_utils import HeaderAnalysis\n",
    "from cypher_utils import CypherUtilities\n",
    "\n",
    "wsu = WebScrapingUtilities()\n",
    "uri = wsu.secrets_json['neo4j']['connect_url']\n",
    "user =  wsu.secrets_json['neo4j']['username']\n",
    "password = wsu.secrets_json['neo4j']['password']\n",
    "s = Storage()\n",
    "ha = HeaderAnalysis()\n",
    "cu = CypherUtilities(uri=uri, user=user, password=password, driver=None, s=s, ha=ha)"
   ]
  },
  {
   "cell_type": "markdown",
   "metadata": {},
   "source": [
    "\n",
    "----\n",
    "# TASK_SCOPE_HEADERS_LIST"
   ]
  },
  {
   "cell_type": "code",
   "execution_count": 5,
   "metadata": {},
   "outputs": [],
   "source": [
    "\n",
    "cypher_str = f'''\n",
    "    MATCH (pos:PartsOfSpeech {{pos_explanation: \"Task Scope Header\"}}), (np:NavigableParents)\n",
    "    WHERE np.navigable_parent IN {TASK_SCOPE_HEADERS_LIST}\n",
    "    MERGE (pos)-[r: SUMMARIZES]->(np);'''\n",
    "with cu.driver.session() as session:\n",
    "    row_objs_list = session.write_transaction(cu.do_cypher_tx, cypher_str)"
   ]
  },
  {
   "cell_type": "code",
   "execution_count": null,
   "metadata": {},
   "outputs": [],
   "source": [
    "\n",
    "from datetime import datetime\n",
    "from urllib.parse import urlparse, parse_qs\n",
    "%run ../load_magic/dataframes.py\n",
    "from html_analysis import ElementAnalysis\n",
    "\n",
    "ea = ElementAnalysis()"
   ]
  },
  {
   "cell_type": "code",
   "execution_count": 10,
   "metadata": {},
   "outputs": [],
   "source": [
    "\n",
    "def generate_child_strs(verbose=False):\n",
    "    cypher_str = '''\n",
    "        MATCH (np:NavigableParents)\n",
    "        WHERE NOT EXISTS {\n",
    "            MATCH (:PartsOfSpeech)-[:SUMMARIZES]->(np)\n",
    "        }\n",
    "        RETURN np.navigable_parent AS navigable_parent;'''\n",
    "    row_objs_list = cu.get_execution_results(cypher_str, verbose=verbose)\n",
    "    if verbose:\n",
    "        print(len(row_objs_list))\n",
    "    for row_obj in row_objs_list:\n",
    "        if 'navigable_parent' in row_obj:\n",
    "            yield row_obj['navigable_parent']"
   ]
  },
  {
   "cell_type": "code",
   "execution_count": 9,
   "metadata": {},
   "outputs": [],
   "source": [
    "\n",
    "CHILD_STRS_LIST = list(generate_child_strs(verbose=False))"
   ]
  },
  {
   "cell_type": "code",
   "execution_count": 11,
   "metadata": {},
   "outputs": [
    {
     "name": "stdout",
     "output_type": "stream",
     "text": [
      "64\n"
     ]
    }
   ],
   "source": [
    "\n",
    "ZMQInteractiveShell_obj = get_ipython()\n",
    "if s.pickle_exists('TASK_SCOPE_HEADERS_LIST'):\n",
    "    TASK_SCOPE_HEADERS_LIST = s.load_object('TASK_SCOPE_HEADERS_LIST')\n",
    "else:\n",
    "    TASK_SCOPE_HEADERS_LIST = []\n",
    "print(len(TASK_SCOPE_HEADERS_LIST))\n",
    "TASK_SCOPE_HEADERS_DICT = {k: True for k in TASK_SCOPE_HEADERS_LIST}\n",
    "def get_dictionary_code():\n",
    "    output_str = ''\n",
    "    tag_str = CHILD_STRS_LIST.pop()\n",
    "    while tag_str in TASK_SCOPE_HEADERS_DICT:\n",
    "        tag_str = CHILD_STRS_LIST.pop()\n",
    "    output_str += f'\\n# {len(CHILD_STRS_LIST):,} to go\\n'\n",
    "    if \"'\" in tag_str:\n",
    "        tag_str = tag_str.replace('\"', '\\\\\"')\n",
    "        output_str += f'tag_str = \"{tag_str}\"\\n'\n",
    "    else:\n",
    "        output_str += f\"tag_str = '{tag_str}'\\n\"\n",
    "    output_str += 'TASK_SCOPE_HEADERS_DICT[tag_str] = False\\n'\n",
    "    output_str += 'print(len(TASK_SCOPE_HEADERS_DICT.keys()))\\n'\n",
    "    output_str += 's.store_objects(TASK_SCOPE_HEADERS_DICT=TASK_SCOPE_HEADERS_DICT)\\n'\n",
    "    output_str += 'navigable_parent = cu.clean_text(tag_str)\\n'\n",
    "    output_str += 'if TASK_SCOPE_HEADERS_DICT[tag_str]:\\n'\n",
    "    output_str += '    cypher_str = cu.set_is_task_scope1_cypher_str.format(navigable_parent)\\n'\n",
    "    output_str += 'print(cypher_str)\\n'\n",
    "    output_str += 'with cu.driver.session() as session:\\n'\n",
    "    output_str += '    session.write_transaction(cu.do_cypher_tx, cypher_str)'\n",
    "    \n",
    "    return output_str"
   ]
  },
  {
   "cell_type": "code",
   "execution_count": null,
   "metadata": {},
   "outputs": [],
   "source": [
    "\n",
    "ZMQInteractiveShell_obj.set_next_input(text=get_dictionary_code(), replace=True)"
   ]
  },
  {
   "cell_type": "code",
   "execution_count": 12,
   "metadata": {},
   "outputs": [],
   "source": [
    "\n",
    "# 33,287 to go\n",
    "tag_str = 'â€<â€<'\n",
    "TASK_SCOPE_HEADERS_DICT[tag_str] = False\n",
    "print(len(TASK_SCOPE_HEADERS_DICT.keys()))\n",
    "s.store_objects(TASK_SCOPE_HEADERS_DICT=TASK_SCOPE_HEADERS_DICT)\n",
    "navigable_parent = cu.clean_text(tag_str)\n",
    "if TASK_SCOPE_HEADERS_DICT[tag_str]:\n",
    "    cypher_str = cu.set_is_task_scope1_cypher_str.format(navigable_parent)\n",
    "print(cypher_str)\n",
    "with cu.driver.session() as session:\n",
    "    session.write_transaction(cu.do_cypher_tx, cypher_str)"
   ]
  }
 ],
 "metadata": {
  "anaconda-cloud": {},
  "kernelspec": {
   "display_name": "Python 3 (ipykernel)",
   "language": "python",
   "name": "python3"
  },
  "language_info": {
   "codemirror_mode": {
    "name": "ipython",
    "version": 3
   },
   "file_extension": ".py",
   "mimetype": "text/x-python",
   "name": "python",
   "nbconvert_exporter": "python",
   "pygments_lexer": "ipython3",
   "version": "3.9.16"
  }
 },
 "nbformat": 4,
 "nbformat_minor": 4
}
