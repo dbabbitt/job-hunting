{
 "cells": [
  {
   "cell_type": "code",
   "execution_count": 1,
   "id": "e073fb63-cde5-4785-a8d9-f486fa01e625",
   "metadata": {},
   "outputs": [
    {
     "data": {
      "text/plain": [
       "{0, 1}"
      ]
     },
     "execution_count": 1,
     "metadata": {},
     "output_type": "execute_result"
    }
   ],
   "source": [
    "\n",
    "# Given an array of integers\n",
    "set([1, 1, 0])"
   ]
  },
  {
   "cell_type": "code",
   "execution_count": 2,
   "id": "fb588dfe-42c3-40a6-b405-95ad6a723288",
   "metadata": {},
   "outputs": [],
   "source": [
    "\n",
    "def dedupe(a):\n",
    "    \n",
    "    return list(set(a))"
   ]
  },
  {
   "cell_type": "code",
   "execution_count": 3,
   "id": "869cceac-fcfe-4586-b15f-793d30f70b87",
   "metadata": {},
   "outputs": [
    {
     "data": {
      "text/plain": [
       "[1, 2, 3, 4, 6]"
      ]
     },
     "execution_count": 3,
     "metadata": {},
     "output_type": "execute_result"
    }
   ],
   "source": [
    "\n",
    "test_list = [1, 1, 2, 3, 4, 6, 6]\n",
    "dedupe(test_list)"
   ]
  },
  {
   "cell_type": "code",
   "execution_count": 27,
   "id": "dccd06c1-a177-4bca-903a-fdc350c8f8f3",
   "metadata": {},
   "outputs": [
    {
     "data": {
      "text/plain": [
       "[1, 1, 2, 2, 6, 6, 6]"
      ]
     },
     "execution_count": 27,
     "metadata": {},
     "output_type": "execute_result"
    }
   ],
   "source": [
    "\n",
    "import pandas as pd\n",
    "\n",
    "test_list = [1, 1, 2, 2, 3, 4, 6, 6, 6]\n",
    "a = pd.Series(test_list)\n",
    "mask_series = a.duplicated(keep=False)\n",
    "a[mask_series].values.tolist()"
   ]
  },
  {
   "cell_type": "code",
   "execution_count": 28,
   "id": "95299366-3a93-479d-bfb0-53f7e6f6e733",
   "metadata": {},
   "outputs": [
    {
     "data": {
      "text/plain": [
       "[1, 1, 2, 2, 6, 6, 6]"
      ]
     },
     "execution_count": 28,
     "metadata": {},
     "output_type": "execute_result"
    }
   ],
   "source": [
    "\n",
    "test_set = set(test_list)\n",
    "output_list = []\n",
    "for i in test_list:\n",
    "    if test_list.count(i) > 1:\n",
    "        output_list.append(i)\n",
    "output_list"
   ]
  },
  {
   "cell_type": "code",
   "execution_count": 31,
   "id": "361f486c-fd41-434c-b128-124e02e393e9",
   "metadata": {},
   "outputs": [
    {
     "data": {
      "text/plain": [
       "[(1, 3), (2, 2)]"
      ]
     },
     "execution_count": 31,
     "metadata": {},
     "output_type": "execute_result"
    }
   ],
   "source": [
    "\n",
    "# Return pairs that sum to four\n",
    "test_list = [1, 1, 2, 2, 3, 4, 6, 6, 6]\n",
    "pairs_list = []\n",
    "for i in test_list:\n",
    "    j_list = test_list[:]\n",
    "    j_list.remove(i)\n",
    "    for j in j_list:\n",
    "        pair = (i, j)\n",
    "        if pair[0] + pair[1] == 4:\n",
    "            if pair not in pairs_list:\n",
    "                if (i not in [p[1] for p in pairs_list]):\n",
    "                    pairs_list.append(pair)\n",
    "pairs_list"
   ]
  },
  {
   "cell_type": "code",
   "execution_count": null,
   "id": "ffd3203a-33f5-49a6-bc66-3ea1c9a81006",
   "metadata": {},
   "outputs": [],
   "source": []
  }
 ],
 "metadata": {
  "kernelspec": {
   "display_name": "Python 3 (ipykernel)",
   "language": "python",
   "name": "python3"
  },
  "language_info": {
   "codemirror_mode": {
    "name": "ipython",
    "version": 3
   },
   "file_extension": ".py",
   "mimetype": "text/x-python",
   "name": "python",
   "nbconvert_exporter": "python",
   "pygments_lexer": "ipython3",
   "version": "3.9.7"
  }
 },
 "nbformat": 4,
 "nbformat_minor": 5
}
