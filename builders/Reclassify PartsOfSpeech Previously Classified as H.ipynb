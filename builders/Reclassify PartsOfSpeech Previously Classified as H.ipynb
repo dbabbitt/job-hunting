{
 "cells": [
  {
   "cell_type": "code",
   "execution_count": 1,
   "metadata": {},
   "outputs": [
    {
     "name": "stdout",
     "output_type": "stream",
     "text": [
      "Pretty printing has been turned OFF\n"
     ]
    }
   ],
   "source": [
    "\n",
    "%pprint"
   ]
  },
  {
   "cell_type": "markdown",
   "metadata": {
    "tags": []
   },
   "source": [
    "\n",
    "---\n",
    "# Load needed libraries and functions"
   ]
  },
  {
   "cell_type": "code",
   "execution_count": 2,
   "metadata": {},
   "outputs": [],
   "source": [
    "\n",
    "from datetime import datetime\n",
    "import humanize\n",
    "import sys\n",
    "import time\n",
    "\n",
    "# Insert at 1, 0 is the script path (or '' in REPL)\n",
    "sys.path.insert(1, '../py')"
   ]
  },
  {
   "cell_type": "code",
   "execution_count": 3,
   "metadata": {},
   "outputs": [
    {
     "name": "stdout",
     "output_type": "stream",
     "text": [
      "Utility libraries created in 1 second\n",
      "Last run on 2023-03-07 16:09:28.797280\n"
     ]
    }
   ],
   "source": [
    "\n",
    "t0 = time.time()\n",
    "\n",
    "# Get the Neo4j driver\n",
    "from storage import Storage\n",
    "s = Storage()\n",
    "\n",
    "from ha_utils import HeaderAnalysis\n",
    "ha = HeaderAnalysis(s=s, verbose=False)\n",
    "\n",
    "from scrape_utils import WebScrapingUtilities\n",
    "wsu = WebScrapingUtilities(s=s)\n",
    "uri = wsu.secrets_json['neo4j']['connect_url']\n",
    "user =  wsu.secrets_json['neo4j']['username']\n",
    "password = wsu.secrets_json['neo4j']['password']\n",
    "\n",
    "# Get the neo4j object\n",
    "from cypher_utils import CypherUtilities\n",
    "cu = CypherUtilities(uri=uri, user=user, password=password, driver=None, s=s, ha=ha)\n",
    "\n",
    "duration_str = humanize.precisedelta(time.time() - t0, minimum_unit='seconds', format='%0.0f')\n",
    "print(f'Utility libraries created in {duration_str}')\n",
    "print(f'Last run on {datetime.now()}')"
   ]
  },
  {
   "cell_type": "code",
   "execution_count": 6,
   "metadata": {},
   "outputs": [],
   "source": [
    "\n",
    "def generate_child_strs(verbose=False):\n",
    "    def do_cypher_tx(tx):\n",
    "        cypher_str = '''\n",
    "            // Find all NavigableParents nodes in the graph\n",
    "            MATCH (np:NavigableParents)\n",
    "\n",
    "            // That do not have any parts-of-speech symbol\n",
    "            WHERE\n",
    "                (np.is_header = 'True')\n",
    "                AND NOT (\n",
    "                    (np.is_task_scope = 'True')\n",
    "                    OR (np.is_minimum_qualification = 'True')\n",
    "                    OR (np.is_preferred_qualification = 'True')\n",
    "                    OR (np.is_legal_notification = 'True')\n",
    "                    OR (np.is_job_title = 'True')\n",
    "                    OR (np.is_office_location = 'True')\n",
    "                    OR (np.is_job_duration = 'True')\n",
    "                    OR (np.is_supplemental_pay = 'True')\n",
    "                    OR (np.is_educational_requirement = 'True')\n",
    "                    OR (np.is_interview_procedure = 'True')\n",
    "                    OR (np.is_corporate_scope = 'True')\n",
    "                    OR (np.is_posting_date = 'True')\n",
    "                    OR (np.is_other = 'True')\n",
    "                    )\n",
    "\n",
    "            // Return the navigable parent\n",
    "            RETURN np.navigable_parent AS navigable_parent;'''\n",
    "        results_list = tx.run(query=cypher_str, parameters={})\n",
    "\n",
    "        return [dict(record.items()) for record in results_list]\n",
    "    with cu.driver.session() as session:\n",
    "        row_objs_list = session.write_transaction(do_cypher_tx)\n",
    "    if verbose:\n",
    "        print(len(row_objs_list))\n",
    "    for row_obj in row_objs_list:\n",
    "        if 'navigable_parent' in row_obj:\n",
    "            yield row_obj['navigable_parent']"
   ]
  },
  {
   "cell_type": "code",
   "execution_count": 7,
   "metadata": {},
   "outputs": [
    {
     "data": {
      "text/plain": [
       "8"
      ]
     },
     "execution_count": 7,
     "metadata": {},
     "output_type": "execute_result"
    }
   ],
   "source": [
    "\n",
    "CHILD_STRS_LIST = list(generate_child_strs(verbose=False))\n",
    "len(CHILD_STRS_LIST)"
   ]
  },
  {
   "cell_type": "code",
   "execution_count": 8,
   "metadata": {},
   "outputs": [],
   "source": [
    "\n",
    "ZMQInteractiveShell_obj = get_ipython()\n",
    "def get_cypher_code():\n",
    "    output_str = ''\n",
    "    tag_str = CHILD_STRS_LIST.pop()\n",
    "    output_str += f'\\n# {len(CHILD_STRS_LIST):,} to go\\n'\n",
    "    if \"'\" in tag_str:\n",
    "        tag_str = tag_str.replace('\"', '\\\\\"')\n",
    "        output_str += f'child_str = \"{tag_str}\"\\n'\n",
    "    else:\n",
    "        output_str += f\"child_str = '{tag_str}'\\n\"\n",
    "    output_str += \"def do_cypher_tx(tx, navigable_parent, verbose=False):\\n\"\n",
    "    output_str += \"    cypher_str = '''\\n\"\n",
    "    output_str += \"        MATCH (np:NavigableParents {navigable_parent: $navigable_parent})\\n\"\n",
    "    output_str += \"        SET\\n\"\n",
    "    output_str += \"            np.is_header = 'True',\\n\"\n",
    "    output_str += \"            np.is_task_scope = 'False',\\n\"\n",
    "    output_str += \"            np.is_minimum_qualification = 'False',\\n\"\n",
    "    output_str += \"            np.is_preferred_qualification = 'False',\\n\"\n",
    "    output_str += \"            np.is_educational_requirement = 'False',\\n\"\n",
    "    output_str += \"            np.is_legal_notification = 'False',\\n\"\n",
    "    output_str += \"            np.is_other = 'False',\\n\"\n",
    "    output_str += \"            np.is_corporate_scope = 'False',\\n\"\n",
    "    output_str += \"            np.is_job_title = 'False',\\n\"\n",
    "    output_str += \"            np.is_office_location = 'False',\\n\"\n",
    "    output_str += \"            np.is_job_duration = 'False',\\n\"\n",
    "    output_str += \"            np.is_supplemental_pay = 'False',\\n\"\n",
    "    output_str += \"            np.is_interview_procedure = 'False',\\n\"\n",
    "    output_str += \"            np.is_posting_date = 'False'\\n\"\n",
    "    output_str += \"        ''' + cu.return_everything_str + ';'\\n\"\n",
    "    output_str += \"    results_list = tx.run(query=cypher_str, parameters={'navigable_parent': navigable_parent})\\n\"\n",
    "    output_str += \"    \\n\"\n",
    "    output_str += \"    return [dict(record.items()) for record in results_list]\\n\"\n",
    "    output_str += \"with cu.driver.session() as session:\\n\"\n",
    "    output_str += \"    row_objs_list = session.write_transaction(do_cypher_tx, navigable_parent=child_str, verbose=False)\\n\"\n",
    "    output_str += \"row_objs_list\"\n",
    "    \n",
    "    return output_str"
   ]
  },
  {
   "cell_type": "code",
   "execution_count": null,
   "metadata": {},
   "outputs": [],
   "source": [
    "\n",
    "ZMQInteractiveShell_obj.set_next_input(text=get_cypher_code(), replace=True)"
   ]
  },
  {
   "cell_type": "code",
   "execution_count": 25,
   "metadata": {},
   "outputs": [
    {
     "ename": "IndexError",
     "evalue": "pop from empty list",
     "output_type": "error",
     "traceback": [
      "\u001b[1;31m---------------------------------------------------------------------------\u001b[0m",
      "\u001b[1;31mIndexError\u001b[0m                                Traceback (most recent call last)",
      "Cell \u001b[1;32mIn[25], line 1\u001b[0m\n\u001b[1;32m----> 1\u001b[0m ZMQInteractiveShell_obj\u001b[38;5;241m.\u001b[39mset_next_input(text\u001b[38;5;241m=\u001b[39m\u001b[43mget_cypher_code\u001b[49m\u001b[43m(\u001b[49m\u001b[43m)\u001b[49m, replace\u001b[38;5;241m=\u001b[39m\u001b[38;5;28;01mTrue\u001b[39;00m)\n",
      "Cell \u001b[1;32mIn[8], line 4\u001b[0m, in \u001b[0;36mget_cypher_code\u001b[1;34m()\u001b[0m\n\u001b[0;32m      2\u001b[0m \u001b[38;5;28;01mdef\u001b[39;00m \u001b[38;5;21mget_cypher_code\u001b[39m():\n\u001b[0;32m      3\u001b[0m     output_str \u001b[38;5;241m=\u001b[39m \u001b[38;5;124m'\u001b[39m\u001b[38;5;124m'\u001b[39m\n\u001b[1;32m----> 4\u001b[0m     tag_str \u001b[38;5;241m=\u001b[39m \u001b[43mCHILD_STRS_LIST\u001b[49m\u001b[38;5;241;43m.\u001b[39;49m\u001b[43mpop\u001b[49m\u001b[43m(\u001b[49m\u001b[43m)\u001b[49m\n\u001b[0;32m      5\u001b[0m     output_str \u001b[38;5;241m+\u001b[39m\u001b[38;5;241m=\u001b[39m \u001b[38;5;124mf\u001b[39m\u001b[38;5;124m'\u001b[39m\u001b[38;5;130;01m\\n\u001b[39;00m\u001b[38;5;124m# \u001b[39m\u001b[38;5;132;01m{\u001b[39;00m\u001b[38;5;28mlen\u001b[39m(CHILD_STRS_LIST)\u001b[38;5;132;01m:\u001b[39;00m\u001b[38;5;124m,\u001b[39m\u001b[38;5;132;01m}\u001b[39;00m\u001b[38;5;124m to go\u001b[39m\u001b[38;5;130;01m\\n\u001b[39;00m\u001b[38;5;124m'\u001b[39m\n\u001b[0;32m      6\u001b[0m     \u001b[38;5;28;01mif\u001b[39;00m \u001b[38;5;124m\"\u001b[39m\u001b[38;5;124m'\u001b[39m\u001b[38;5;124m\"\u001b[39m \u001b[38;5;129;01min\u001b[39;00m tag_str:\n",
      "\u001b[1;31mIndexError\u001b[0m: pop from empty list"
     ]
    }
   ],
   "source": [
    "\n",
    "ZMQInteractiveShell_obj.set_next_input(text=get_cypher_code(), replace=True)"
   ]
  }
 ],
 "metadata": {
  "anaconda-cloud": {},
  "kernelspec": {
   "display_name": "Job Hunting (Python 3.10.9)",
   "language": "python",
   "name": "jh_env"
  },
  "language_info": {
   "codemirror_mode": {
    "name": "ipython",
    "version": 3
   },
   "file_extension": ".py",
   "mimetype": "text/x-python",
   "name": "python",
   "nbconvert_exporter": "python",
   "pygments_lexer": "ipython3",
   "version": "3.10.9"
  }
 },
 "nbformat": 4,
 "nbformat_minor": 4
}
