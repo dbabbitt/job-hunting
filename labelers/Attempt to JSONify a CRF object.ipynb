{
 "cells": [
  {
   "cell_type": "code",
   "execution_count": 1,
   "id": "32347005-8de1-4815-8df3-e5431e931d44",
   "metadata": {},
   "outputs": [
    {
     "name": "stdout",
     "output_type": "stream",
     "text": [
      "Pretty printing has been turned OFF\n"
     ]
    }
   ],
   "source": [
    "\n",
    "%pprint"
   ]
  },
  {
   "cell_type": "markdown",
   "id": "71f6a1fd-cb53-4c5a-bfb4-e35bb083a494",
   "metadata": {
    "tags": []
   },
   "source": [
    "\n",
    "---\n",
    "# Load needed libraries and functions"
   ]
  },
  {
   "cell_type": "code",
   "execution_count": 2,
   "id": "d73d53ee-c42f-40c9-bd9b-4fc916051a5b",
   "metadata": {},
   "outputs": [],
   "source": [
    "\n",
    "from neo4j.exceptions import ServiceUnavailable\n",
    "from nltk import pos_tag\n",
    "from pandas import DataFrame\n",
    "import requests\n",
    "from sklearn.metrics import classification_report\n",
    "from sklearn.model_selection import train_test_split\n",
    "from sklearn_crfsuite import CRF\n",
    "import humanize\n",
    "import nltk\n",
    "import os\n",
    "import re\n",
    "import sys\n",
    "import time\n",
    "import warnings\n",
    "\n",
    "warnings.filterwarnings('ignore')\n",
    "duration = 1000  # milliseconds\n",
    "freq = 880  # Hz\n",
    "\n",
    "# Insert at 1, 0 is the script path (or '' in REPL)\n",
    "sys.path.insert(1, '../py')"
   ]
  },
  {
   "cell_type": "code",
   "execution_count": 3,
   "id": "302e36d5-2fe1-4126-9d22-818fc3215d39",
   "metadata": {},
   "outputs": [],
   "source": [
    "\n",
    "def display_url(url_suffix):\n",
    "    url = f'http://localhost:5000{url_suffix}'\n",
    "    response = requests.get(url)\n",
    "    \n",
    "    return(response.text)"
   ]
  },
  {
   "cell_type": "code",
   "execution_count": null,
   "id": "3354659c-e6aa-4f84-ada2-af08c7baef45",
   "metadata": {},
   "outputs": [],
   "source": [
    "\n",
    "from IPython.display import HTML, display\n",
    "\n",
    "display(HTML(display_url('/train_pos_classifier')))"
   ]
  },
  {
   "cell_type": "code",
   "execution_count": 29,
   "id": "e51fa2aa-6cb5-4c60-b817-5535e1b20ef0",
   "metadata": {},
   "outputs": [
    {
     "name": "stdout",
     "output_type": "stream",
     "text": [
      "======== Neo4j/4.4.7 ========\n",
      "Utility libraries created in 6 seconds\n"
     ]
    }
   ],
   "source": [
    "\n",
    "t0 = time.time()\n",
    "\n",
    "# Get the Neo4j driver\n",
    "from storage import Storage\n",
    "s = Storage(\n",
    "    data_folder_path=os.path.abspath('../data'),\n",
    "    saves_folder_path=os.path.abspath('../saves')\n",
    ")\n",
    "\n",
    "from ha_utils import HeaderAnalysis\n",
    "ha = HeaderAnalysis(s=s, verbose=False)\n",
    "\n",
    "from scrape_utils import WebScrapingUtilities\n",
    "wsu = WebScrapingUtilities(\n",
    "    s=s,\n",
    "    secrets_json_path=os.path.abspath('../data/secrets/jh_secrets.json')\n",
    ")\n",
    "uri = wsu.secrets_json['neo4j']['connect_url']\n",
    "user =  wsu.secrets_json['neo4j']['username']\n",
    "password = wsu.secrets_json['neo4j']['password']\n",
    "\n",
    "# Get the neo4j object\n",
    "from cypher_utils import CypherUtilities\n",
    "cu = CypherUtilities(\n",
    "    uri=uri, user=user, password=password, driver=None, s=s, ha=ha\n",
    ")\n",
    "\n",
    "try:\n",
    "    version_str = cu.driver.get_server_info().agent\n",
    "    print(f'======== {version_str} ========')\n",
    "except ServiceUnavailable as e:\n",
    "    print('You need to start Neo4j as a console')\n",
    "    raise\n",
    "except Exception as e:\n",
    "    print(f'{e.__class__}: {str(e).strip()}')\n",
    "\n",
    "from hc_utils import HeaderCategories\n",
    "hc = HeaderCategories(cu=cu, verbose=False)\n",
    "\n",
    "from lr_utils import LrUtilities\n",
    "lru = LrUtilities(ha=ha, cu=cu, hc=hc, verbose=False)\n",
    "\n",
    "from crf_utils import CrfUtilities\n",
    "crf = CrfUtilities(ha=ha, hc=hc, cu=cu, lru=lru, verbose=True)\n",
    "\n",
    "duration_str = humanize.precisedelta(time.time() - t0, minimum_unit='seconds', format='%0.0f')\n",
    "print(f'Utility libraries created in {duration_str}')"
   ]
  },
  {
   "cell_type": "markdown",
   "id": "178a4977-72b0-4789-b4f6-57c0ca6d7cd1",
   "metadata": {},
   "source": [
    "\n",
    "---\n",
    "# Data Exploration\n",
    "This stage involves loading and examining the dataset to gain a better understanding of its structure, content, and quality. Data exploration may involve tasks such as data visualization, summary statistics, and data cleaning."
   ]
  },
  {
   "cell_type": "code",
   "execution_count": 30,
   "id": "b20236f9-196d-4ff8-b148-ac54014a2c4d",
   "metadata": {},
   "outputs": [
    {
     "name": "stdout",
     "output_type": "stream",
     "text": [
      "(1, 2)\n"
     ]
    }
   ],
   "source": [
    "\n",
    "cypher_str = '''\n",
    "    // Filter for NavigableParents nodes with an unambiguous SUMMARIZES relationship\n",
    "    MATCH (np:NavigableParents)\n",
    "    WHERE size((np)<-[:SUMMARIZES]-(:PartsOfSpeech)) = 1\n",
    "    WITH np\n",
    "    \n",
    "    // Find all NavigableParents nodes in the graph with an incoming SUMMARIZES relationship to a PartsOfSpeech node\n",
    "    MATCH (np)<-[r:SUMMARIZES]-(pos:PartsOfSpeech)\n",
    "    \n",
    "    // Return the navigable parent and important properties\n",
    "    RETURN\n",
    "        pos.pos_symbol AS pos_symbol,        \n",
    "        np.navigable_parent AS navigable_parent\n",
    "    LIMIT 1'''\n",
    "row_objs_list = []\n",
    "with cu.driver.session() as session:\n",
    "    row_objs_list = session.write_transaction(cu.do_cypher_tx, cypher_str)\n",
    "if row_objs_list:\n",
    "    pos_html_strs_df = DataFrame(row_objs_list)\n",
    "    \n",
    "    # (46327, 30)\n",
    "    print(pos_html_strs_df.shape)"
   ]
  },
  {
   "cell_type": "code",
   "execution_count": 18,
   "id": "4c3fe079-a6d9-477f-961b-559e426f3b8a",
   "metadata": {},
   "outputs": [
    {
     "data": {
      "text/html": [
       "<div>\n",
       "<style scoped>\n",
       "    .dataframe tbody tr th:only-of-type {\n",
       "        vertical-align: middle;\n",
       "    }\n",
       "\n",
       "    .dataframe tbody tr th {\n",
       "        vertical-align: top;\n",
       "    }\n",
       "\n",
       "    .dataframe thead th {\n",
       "        text-align: right;\n",
       "    }\n",
       "</style>\n",
       "<table border=\"1\" class=\"dataframe\">\n",
       "  <thead>\n",
       "    <tr style=\"text-align: right;\">\n",
       "      <th></th>\n",
       "      <th>0</th>\n",
       "    </tr>\n",
       "  </thead>\n",
       "  <tbody>\n",
       "    <tr>\n",
       "      <th>pos_symbol</th>\n",
       "      <td>H-TS</td>\n",
       "    </tr>\n",
       "    <tr>\n",
       "      <th>navigable_parent</th>\n",
       "      <td>What Youll be Doing</td>\n",
       "    </tr>\n",
       "  </tbody>\n",
       "</table>\n",
       "</div>"
      ],
      "text/plain": [
       "                                    0\n",
       "pos_symbol                       H-TS\n",
       "navigable_parent  What Youll be Doing"
      ]
     },
     "execution_count": 18,
     "metadata": {},
     "output_type": "execute_result"
    }
   ],
   "source": [
    "\n",
    "pos_html_strs_df.T"
   ]
  },
  {
   "cell_type": "code",
   "execution_count": 25,
   "id": "45fd0195-68ba-44c2-ac71-ab365bc86599",
   "metadata": {},
   "outputs": [
    {
     "name": "stdout",
     "output_type": "stream",
     "text": [
      "{'y_pred': 'H-RQ'}\n",
      "CRF Parts-of-Speech Single Prediction inferred in 2 seconds\n"
     ]
    }
   ],
   "source": [
    "\n",
    "def get_pos_crf_predict_single_from_api(child_str):\n",
    "    data_dict = {'navigable_parent': child_str}\n",
    "    response = requests.post('http://localhost:5000/pos_crf_predict_single', json=data_dict)\n",
    "    response_dict = response.json()\n",
    "    \n",
    "    return response_dict['y_pred']\n",
    "t0 = time.time()\n",
    "y_pred = get_pos_crf_predict_single_from_api(pos_html_strs_df.navigable_parent.squeeze())\n",
    "print(f\"{{'y_pred': '{y_pred}'}}\")\n",
    "duration_str = humanize.precisedelta(time.time() - t0, minimum_unit='seconds', format='%0.0f')\n",
    "print(f'CRF Parts-of-Speech Single Prediction inferred in {duration_str}')"
   ]
  },
  {
   "cell_type": "code",
   "execution_count": 26,
   "id": "78dde4bb-5870-461d-a931-19e68c94f7b9",
   "metadata": {},
   "outputs": [
    {
     "name": "stdout",
     "output_type": "stream",
     "text": [
      "{'y_pred': 'H-TS'}\n",
      "LR Parts-of-Speech Single Prediction inferred in 2 seconds\n"
     ]
    }
   ],
   "source": [
    "\n",
    "def get_pos_lr_predict_single_from_api(child_str):\n",
    "    data_dict = {'navigable_parent': child_str}\n",
    "    response = requests.post('http://localhost:5000/pos_lr_predict_single', json=data_dict)\n",
    "    response_dict = response.json()\n",
    "    \n",
    "    return response_dict['y_pred']\n",
    "t0 = time.time()\n",
    "y_pred = get_pos_lr_predict_single_from_api(pos_html_strs_df.navigable_parent.squeeze())\n",
    "print(f\"{{'y_pred': '{y_pred}'}}\")\n",
    "duration_str = humanize.precisedelta(time.time() - t0, minimum_unit='seconds', format='%0.0f')\n",
    "print(f'LR Parts-of-Speech Single Prediction inferred in {duration_str}')"
   ]
  },
  {
   "cell_type": "code",
   "execution_count": 23,
   "id": "a96cfb54-825f-4b7a-813f-c21eb595e5dd",
   "metadata": {},
   "outputs": [
    {
     "name": "stdout",
     "output_type": "stream",
     "text": [
      "{'y_pred': 'H-TS'}\n",
      "LR Parts-of-Speech Single Prediction inferred in 2 seconds\n"
     ]
    }
   ],
   "source": [
    "\n",
    "t0 = time.time()\n",
    "data_dict = {'navigable_parent': pos_html_strs_df.navigable_parent.squeeze()}\n",
    "response = requests.post('http://localhost:5000/pos_lr_predict_single', json=data_dict)\n",
    "print(response.json())\n",
    "duration_str = humanize.precisedelta(time.time() - t0, minimum_unit='seconds', format='%0.0f')\n",
    "print(f'LR Parts-of-Speech Single Prediction inferred in {duration_str}')"
   ]
  },
  {
   "cell_type": "code",
   "execution_count": 39,
   "id": "d8b43d90-2cac-47a0-90e1-211209a669c5",
   "metadata": {},
   "outputs": [
    {
     "data": {
      "text/plain": [
       "'{\\n  \"message\": \"<string_parameter>\"\\n}\\n'"
      ]
     },
     "execution_count": 39,
     "metadata": {},
     "output_type": "execute_result"
    }
   ],
   "source": [
    "\n",
    "display_url('/new_endpoint/<string_parameter>')"
   ]
  },
  {
   "cell_type": "code",
   "execution_count": 40,
   "id": "509dcc91-c28d-41c1-a5f1-6ca01fe281cb",
   "metadata": {},
   "outputs": [
    {
     "data": {
      "text/plain": [
       "'{\\n  \"message\": \"This works\"\\n}\\n'"
      ]
     },
     "execution_count": 40,
     "metadata": {},
     "output_type": "execute_result"
    }
   ],
   "source": [
    "\n",
    "display_url('/lru/sync_basic_quals_dict')"
   ]
  },
  {
   "cell_type": "code",
   "execution_count": 41,
   "id": "a1777227-514a-4317-b9b9-754ba8761204",
   "metadata": {},
   "outputs": [
    {
     "data": {
      "text/plain": [
       "'{\\n  \"message\": \"This works\"\\n}\\n'"
      ]
     },
     "execution_count": 41,
     "metadata": {},
     "output_type": "execute_result"
    }
   ],
   "source": [
    "\n",
    "display_url('/lru/retrain_isqualified_classifier')"
   ]
  },
  {
   "cell_type": "code",
   "execution_count": 42,
   "id": "b481b2f5-4943-4ff7-b71e-4a715fec6043",
   "metadata": {},
   "outputs": [],
   "source": [
    "\n",
    "from IPython.display import HTML\n",
    "\n",
    "results_dict = eval(display_url('/lru/infer_from_hunting_dataframe'))"
   ]
  },
  {
   "cell_type": "code",
   "execution_count": 36,
   "id": "b7d6a836-c661-4e5d-9633-363da70d351d",
   "metadata": {},
   "outputs": [
    {
     "data": {
      "text/plain": [
       "['If you are motivated by solving complex, multivariate problems, enjoy the small-company lifestyle, and are comfortable with the rewards and challenges of working with a diverse array of business, technical, and analytical problems, then please read on',\n",
       " '<li>Experience using SQL to interface with database</li>',\n",
       " '<p>OB Media is seeking a quantitative-minded professional to work in our online advertising business',\n",
       " '<li>Some basic understanding of internet technology</li>',\n",
       " '<li>A degree in a STEM discipline, or a good number of related classes</li>',\n",
       " '<li>Preference will be given to candidates with strong coding skills (Python, R, Spark, Stata, etc)</li>']"
      ]
     },
     "execution_count": 36,
     "metadata": {},
     "output_type": "execute_result"
    }
   ],
   "source": [
    "\n",
    "results_dict['percent_fits_list'][0]['quals_list']"
   ]
  },
  {
   "cell_type": "code",
   "execution_count": 28,
   "id": "8bbd34a1-4a99-4204-a8d4-eeac330b986d",
   "metadata": {},
   "outputs": [
    {
     "data": {
      "text/plain": [
       "'{\\n  \"message\": \"This works\"\\n}\\n'"
      ]
     },
     "execution_count": 28,
     "metadata": {},
     "output_type": "execute_result"
    }
   ],
   "source": [
    "\n",
    "display_url('/lru/display_hunting_dataframe_as_histogram')"
   ]
  },
  {
   "cell_type": "code",
   "execution_count": null,
   "id": "6333f0f1-fe49-43d9-b55b-a488229cd047",
   "metadata": {},
   "outputs": [],
   "source": [
    "\n",
    "import json\n",
    "from sklearn_crfsuite.estimator import CRF\n",
    "\n",
    "# Convert the object to a JSON string\n",
    "crf_json = json.dumps(crf.CRF.__getstate__())\n",
    "\n",
    "# Store the JSON string as a property on a node in Neo4j\n",
    "with cu.driver.session() as session:\n",
    "    session.run('MERGE (:ModelStore {crf: $crf})', crf=crf_json)\n",
    "\n",
    "# Retrieve the JSON string from the Neo4j property\n",
    "with cu.driver.session() as session:\n",
    "    result = session.run('MATCH (ms:ModelStore) RETURN ms.crf AS crf_json')\n",
    "    crf_json = result.single()['crf_json']\n",
    "\n",
    "# Deserialize the JSON string into a dictionary\n",
    "crf_state = json.loads(crf_json)\n",
    "\n",
    "# Create a new CRF object using the dictionary state\n",
    "new_crf = CRF()\n",
    "new_crf.__setstate__(crf_state)\n",
    "\n",
    "# Verify the new CRF object\n",
    "print(type(crf.CRF))\n",
    "print(type(new_crf))"
   ]
  },
  {
   "cell_type": "code",
   "execution_count": 60,
   "id": "21d7f90a-0562-467e-b43a-ec0587ac94e2",
   "metadata": {},
   "outputs": [],
   "source": [
    "\n",
    "# Create a CRF object and train it\n",
    "crf_test = CRF()\n",
    "X = [['word1', 'word2'], ['word3']]\n",
    "y = [['tag1', 'tag2'], ['tag3']]\n",
    "crf_test.fit(X, y)\n",
    "\n",
    "# Serialize the CRF object state to a JSON-compatible dictionary\n",
    "crf_state = crf_test.__getstate__()"
   ]
  },
  {
   "cell_type": "code",
   "execution_count": 69,
   "id": "825c7f2a-e008-4677-b202-6a55469bc660",
   "metadata": {},
   "outputs": [
    {
     "name": "stdout",
     "output_type": "stream",
     "text": [
      "<class 'TypeError'> error: Object of type FileResource is not JSON serializable\n",
      "modelfile <sklearn_crfsuite._fileresource.FileResource object at 0x000001D818CAA0E0>\n",
      "<class 'str'> <class 'sklearn_crfsuite._fileresource.FileResource'>\n",
      "<class 'TypeError'> error: Object of type TrainLogParser is not JSON serializable\n",
      "training_log_ <pycrfsuite._logparser.TrainLogParser object at 0x000001D8254AC310>\n",
      "<class 'str'> <class 'pycrfsuite._logparser.TrainLogParser'>\n"
     ]
    }
   ],
   "source": [
    "\n",
    "crf_state_serializable = {}\n",
    "for key, value in crf_state.items():\n",
    "    if isinstance(value, CRF) or hasattr(value, '__call__'):\n",
    "        print(key, vaue)\n",
    "        break\n",
    "    try:\n",
    "        crf_state_serializable[key] = json.dumps(value)\n",
    "    except TypeError as e:\n",
    "        print(f'{e.__class__} error: {str(e).strip()}')\n",
    "        print(key, value)\n",
    "        print(type(key), type(value))\n",
    "        continue"
   ]
  },
  {
   "cell_type": "code",
   "execution_count": 70,
   "id": "8cb482a0-4870-4353-bed6-820a508fbcec",
   "metadata": {},
   "outputs": [
    {
     "data": {
      "text/plain": [
       "{'algorithm': 'null', 'min_freq': 'null', 'all_possible_states': 'null', 'all_possible_transitions': 'null', 'c1': 'null', 'c2': 'null', 'max_iterations': 'null', 'num_memories': 'null', 'epsilon': 'null', 'period': 'null', 'delta': 'null', 'linesearch': 'null', 'max_linesearch': 'null', 'calibration_eta': 'null', 'calibration_rate': 'null', 'calibration_samples': 'null', 'calibration_candidates': 'null', 'calibration_max_trials': 'null', 'pa_type': 'null', 'c': 'null', 'error_sensitive': 'null', 'averaging': 'null', 'variance': 'null', 'gamma': 'null', 'verbose': 'false', 'trainer_cls': 'null', '_tagger': 'null', '_info_cached': 'null'}"
      ]
     },
     "execution_count": 70,
     "metadata": {},
     "output_type": "execute_result"
    }
   ],
   "source": [
    "\n",
    "crf_state_serializable"
   ]
  },
  {
   "cell_type": "code",
   "execution_count": 68,
   "id": "a9f69c66-238b-4cdf-b05b-291247a4c0ed",
   "metadata": {},
   "outputs": [
    {
     "data": {
      "text/plain": [
       "'C:\\\\Users\\\\daveb\\\\AppData\\\\Local\\\\Temp\\\\model2xu_lzao.crfsuite'"
      ]
     },
     "execution_count": 68,
     "metadata": {},
     "output_type": "execute_result"
    }
   ],
   "source": [
    "\n",
    "value.name"
   ]
  },
  {
   "cell_type": "code",
   "execution_count": null,
   "id": "eb44cbdd-f20d-4ef9-be1c-694d54b7bc97",
   "metadata": {},
   "outputs": [],
   "source": [
    "\n",
    "# Serialize the dictionary to a JSON string\n",
    "crf_json = json.dumps(crf_state_serializable)\n",
    "\n",
    "# Save the JSON string to Neo4j\n",
    "driver = GraphDatabase.driver(\"bolt://localhost:7687\", auth=(\"neo4j\", \"password\"))\n",
    "with driver.session() as session:\n",
    "    session.run(\"CREATE (n:MyNode {crf: $crf_json})\", crf_json=crf_json)"
   ]
  }
 ],
 "metadata": {
  "kernelspec": {
   "display_name": "Job Hunting (Python 3.10.9)",
   "language": "python",
   "name": "jh_env"
  },
  "language_info": {
   "codemirror_mode": {
    "name": "ipython",
    "version": 3
   },
   "file_extension": ".py",
   "mimetype": "text/x-python",
   "name": "python",
   "nbconvert_exporter": "python",
   "pygments_lexer": "ipython3",
   "version": "3.10.9"
  }
 },
 "nbformat": 4,
 "nbformat_minor": 5
}
