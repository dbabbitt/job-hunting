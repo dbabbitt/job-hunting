{
 "cells": [
  {
   "cell_type": "code",
   "execution_count": 1,
   "id": "abb7318f-5285-4f7b-bc3e-2859fe05f928",
   "metadata": {},
   "outputs": [
    {
     "name": "stdout",
     "output_type": "stream",
     "text": [
      "Pretty printing has been turned OFF\n",
      "======== Neo4j/4.4.7 ========\n",
      "Utility libraries created in 20 seconds\n"
     ]
    }
   ],
   "source": [
    "\n",
    "%pprint\n",
    "%matplotlib inline\n",
    "import sys\n",
    "sys.path.insert(1, '../py')\n",
    "from jobpostlib import (crf, cu, datetime, duration, hau, hc, humanize, ihu, lru, nu, osp, scrfcu, slrcu, ssgdcu, su, t0, time, winsound, wsu)\n",
    "import os\n",
    "from pandas import DataFrame\n",
    "\n",
    "freq = 990"
   ]
  },
  {
   "cell_type": "code",
   "execution_count": 2,
   "id": "fd3f331b-c66a-4c65-906b-22bc6fc034c8",
   "metadata": {},
   "outputs": [
    {
     "name": "stdout",
     "output_type": "stream",
     "text": [
      "I have 49,102 labeled parts of speech in here\n",
      "predict_single is available\n",
      "Parts-of-speech logistic regression elements built in 9 seconds\n"
     ]
    }
   ],
   "source": [
    "\n",
    "# Check if the slrcu has built its parts-of-speech logistic regression elements\n",
    "# Parts-of-speech logistic regression elements is normally built in 1 hour, 27 minutes and 21 seconds\n",
    "t1 = time.time()\n",
    "if not hasattr(slrcu, 'pos_predict_percent_fit_dict'):\n",
    "    slrcu.build_pos_logistic_regression_elements(sampling_strategy_limit=None, verbose=True)\n",
    "if hasattr(slrcu, 'pos_predict_percent_fit_dict'):\n",
    "    print('predict_single is available')\n",
    "else:\n",
    "    print('predict_single is not available')\n",
    "duration_str = humanize.precisedelta(time.time() - t1, minimum_unit='seconds', format='%0.0f')\n",
    "print(f'Parts-of-speech logistic regression elements built in {duration_str}')"
   ]
  },
  {
   "cell_type": "code",
   "execution_count": 3,
   "id": "3fe80356-c69a-4579-b298-31e40e871b31",
   "metadata": {},
   "outputs": [
    {
     "name": "stdout",
     "output_type": "stream",
     "text": [
      "predict_single is now available\n",
      "Parts-of-speech conditional random field elements built in 1 second\n"
     ]
    }
   ],
   "source": [
    "\n",
    "# Check if the scrfcu has built its parts-of-speech conditional random field elements\n",
    "# Parts-of-speech CRF elements normally built in 29 minutes and 57 seconds\n",
    "t1 = time.time()\n",
    "if not hasattr(scrfcu, 'pos_symbol_crf'):\n",
    "    scrfcu.build_pos_conditional_random_field_elements(verbose=True)\n",
    "if hasattr(scrfcu, 'pos_predict_percent_fit_dict'):\n",
    "    print('predict_single is now available')\n",
    "else:\n",
    "    print('predict_single is not available')\n",
    "duration_str = humanize.precisedelta(time.time() - t1, minimum_unit='seconds', format='%0.0f')\n",
    "print(f'Parts-of-speech conditional random field elements built in {duration_str}')"
   ]
  },
  {
   "cell_type": "code",
   "execution_count": 4,
   "id": "3453a69d-7080-4ebf-96a8-528e9541ea19",
   "metadata": {},
   "outputs": [
    {
     "name": "stdout",
     "output_type": "stream",
     "text": [
      "I have 49,102 labeled parts of speech in here\n",
      "predict_single is now available\n",
      "Parts-of-speech stochastic gradient descent elements built in 16 seconds\n"
     ]
    }
   ],
   "source": [
    "\n",
    "# Check if the ssgdcu has built its parts-of-speech stochastic gradient decent elements\n",
    "t1 = time.time()\n",
    "if not hasattr(ssgdcu, 'pos_predict_percent_fit_dict'):\n",
    "    ssgdcu.build_pos_stochastic_gradient_descent_elements(sampling_strategy_limit=None, verbose=True)\n",
    "if hasattr(ssgdcu, 'pos_predict_percent_fit_dict'): print('predict_single is now available')\n",
    "else: print('predict_single is not available')\n",
    "duration_str = humanize.precisedelta(time.time() - t1, minimum_unit='seconds', format='%0.0f')\n",
    "print(f'Parts-of-speech stochastic gradient descent elements built in {duration_str}')"
   ]
  },
  {
   "cell_type": "code",
   "execution_count": 5,
   "id": "01e7d031-531c-4024-b9f4-03485a91a943",
   "metadata": {},
   "outputs": [
    {
     "name": "stdout",
     "output_type": "stream",
     "text": [
      "predict_single is now available\n",
      "POS classifier trained in 0 seconds\n"
     ]
    }
   ],
   "source": [
    "\n",
    "# Check if the crf has built its parts-of-speech classifier\n",
    "# POS classifier normally trained in 15 hours, 42 minutes and 41 seconds\n",
    "t1 = time.time()\n",
    "if not hasattr(crf, 'CRF'): crf.build_pos_conditional_random_field_elements(verbose=True)\n",
    "if hasattr(crf, 'CRF'): print('predict_single is now available')\n",
    "else: print('predict_single is not available')\n",
    "duration_str = humanize.precisedelta(time.time() - t1, minimum_unit='seconds', format='%0.0f')\n",
    "print(f'POS classifier trained in {duration_str}')"
   ]
  },
  {
   "cell_type": "code",
   "execution_count": 6,
   "id": "d259dffb-c212-4493-a879-1ae5d503f8ec",
   "metadata": {},
   "outputs": [
    {
     "name": "stdout",
     "output_type": "stream",
     "text": [
      "I have 424,879 is-qualified vocabulary tokens in here\n",
      "Is-qualified LR elements built in 8 seconds\n"
     ]
    }
   ],
   "source": [
    "\n",
    "# Check if the lru has built its is-qualified classifier\n",
    "t1 = time.time()\n",
    "if not (hasattr(lru, 'ISQUALIFIED_LR') and hasattr(lru, 'ISQUALIFIED_CV')):\n",
    "    lru.build_isqualified_logistic_regression_elements(sampling_strategy_limit=None, verbose=True)\n",
    "duration_str = humanize.precisedelta(time.time() - t1, minimum_unit='seconds', format='%0.0f')\n",
    "print(f'Is-qualified LR elements built in {duration_str}')"
   ]
  },
  {
   "cell_type": "code",
   "execution_count": 7,
   "id": "a9d67a34-e133-45dc-9bf3-a830af359d77",
   "metadata": {},
   "outputs": [
    {
     "name": "stdout",
     "output_type": "stream",
     "text": [
      "I have 49,795 hand-labeled header htmls prepared\n",
      "7 iterations seen during training fit for a total of 49,795 records trained\n",
      "Is-header classifier trained in 9 seconds\n"
     ]
    }
   ],
   "source": [
    "\n",
    "# Train the isheader classifier\n",
    "t1 = time.time()\n",
    "ihu.build_pos_stochastic_gradient_descent_elements(verbose=True)\n",
    "duration_str = humanize.precisedelta(time.time() - t1, minimum_unit='seconds', format='%0.0f')\n",
    "print(f'Is-header classifier trained in {duration_str}')"
   ]
  },
  {
   "cell_type": "code",
   "execution_count": 118,
   "id": "dcef1d94-4466-4100-86cd-0d66f23d0d40",
   "metadata": {},
   "outputs": [
    {
     "name": "stdout",
     "output_type": "stream",
     "text": [
      "Last run on 2024-04-02 10:27:16.404189\n"
     ]
    }
   ],
   "source": [
    "\n",
    "winsound.Beep(freq, duration)\n",
    "print(f'Last run on {datetime.now()}')"
   ]
  },
  {
   "cell_type": "markdown",
   "id": "2f438163-0f14-4a74-978c-769c9dba95c8",
   "metadata": {},
   "source": [
    "\n",
    "---\n",
    "# Training"
   ]
  },
  {
   "cell_type": "code",
   "execution_count": 303,
   "id": "f02bfeac-67b7-4df6-a4a0-32ec3dec0022",
   "metadata": {},
   "outputs": [
    {
     "name": "stdout",
     "output_type": "stream",
     "text": [
      "I have 15,669 hand-labeled qualification strings in here\n",
      "I have 506,215 is-qualified vocabulary tokens in here\n",
      "Is-qualified classifer retrained in 1 minute and 28 seconds\n"
     ]
    }
   ],
   "source": [
    "\n",
    "# You need to run this again if you changed the\n",
    "# qualification dictionary below or in another notebook\n",
    "t1 = time.time()\n",
    "\n",
    "# Keep the total retraining time to less than two minutes by adjusting the sampling strategy limit\n",
    "lru.sync_basic_quals_dict(sampling_strategy_limit=None, verbose=False)\n",
    "\n",
    "lru.retrain_isqualified_classifier(verbose=True)\n",
    "duration_str = humanize.precisedelta(time.time() - t1, minimum_unit='seconds', format='%0.0f')\n",
    "print(f'Is-qualified classifer retrained in {duration_str}')"
   ]
  },
  {
   "cell_type": "markdown",
   "id": "52ad3579-ebc3-4d21-a7c3-f9bd168ac6ca",
   "metadata": {},
   "source": [
    "\n",
    "---\n",
    "# Inference"
   ]
  },
  {
   "cell_type": "code",
   "execution_count": 304,
   "id": "d334d815-e43b-474e-9dbb-db509176f6e5",
   "metadata": {
    "tags": []
   },
   "outputs": [
    {
     "name": "stdout",
     "output_type": "stream",
     "text": [
      "\n",
      "                MATCH (fn:FileNames {file_name: \"87780841c0d67d52_Data_Analytics_and_Engineering_Digital_Technology_and_Innovation_Washington_DC_20004_Indeed_com.html\"})\n",
      "                SET fn.percent_fit = \"1.0\";\n",
      "3692/3694 = 99.9% completed\n"
     ]
    }
   ],
   "source": [
    "\n",
    "t1 = time.time()\n",
    "\n",
    "# Loop through all the unset %fit values, set them if you can, break for help if you can't\n",
    "quals_list, file_name = lru.infer_from_hunting_dataframe(fitness_threshold=3/4, verbose=True)\n",
    "winsound.Beep(freq, duration)"
   ]
  },
  {
   "cell_type": "code",
   "execution_count": null,
   "id": "63264da9-f96a-491a-83d9-25d15fcdfef6",
   "metadata": {},
   "outputs": [],
   "source": [
    "raise"
   ]
  },
  {
   "cell_type": "code",
   "execution_count": 299,
   "id": "47bd03b8-c0a3-404c-a16d-eb4ce95c6561",
   "metadata": {},
   "outputs": [
    {
     "name": "stdout",
     "output_type": "stream",
     "text": [
      "<li> Able to explore new tools and technologies that will help to improve business outcomes.</li>\n",
      "Pickling to C:\\Users\\daveb\\OneDrive\\Documents\\GitHub\\job-hunting\\saves\\pkl\\basic_quals_dict.pkl\n"
     ]
    }
   ],
   "source": [
    "\n",
    "# Manually label the unscored qual\n",
    "qualification_str = quals_list[1]\n",
    "print(qualification_str); basic_quals_dict = nu.load_object('basic_quals_dict')\n",
    "print(str(basic_quals_dict[qualification_str]) + '\\n' if(qualification_str in basic_quals_dict) else '', end='')\n",
    "basic_quals_dict[qualification_str] = 1\n",
    "nu.store_objects(basic_quals_dict=basic_quals_dict)"
   ]
  },
  {
   "cell_type": "markdown",
   "id": "50146b21-cb1d-4475-9465-2a383f002533",
   "metadata": {},
   "source": [
    "\n",
    "----\n",
    "## Fix Parts-of-Speech and Quals for this posting"
   ]
  },
  {
   "cell_type": "code",
   "execution_count": 267,
   "id": "8ac6efb8-6b56-43dd-9079-d6a87491ecc5",
   "metadata": {},
   "outputs": [
    {
     "name": "stdout",
     "output_type": "stream",
     "text": [
      "87780841c0d67d52_Data_Analytics_and_Engineering_Digital_Technology_and_Innovation_Washington_DC_20004_Indeed_com.html\n",
      "CRF and child strings list recreated in 1 minute and 28 seconds\n"
     ]
    }
   ],
   "source": [
    "\n",
    "t1 = time.time()\n",
    "file_path = os.path.join(cu.SAVES_HTML_FOLDER, file_name)\n",
    "if os.path.isfile(file_path):\n",
    "    child_strs_list = hau.get_child_strs_from_file(file_name=file_name)\n",
    "    cu.ensure_filename(file_name, verbose=False)\n",
    "    cu.populate_from_child_strings(child_strs_list, file_name, verbose=False)\n",
    "    print(file_name)\n",
    "    child_tags_list = hau.get_child_tags_list(child_strs_list)\n",
    "    feature_dict_list = cu.get_feature_dict_list(child_tags_list, child_strs_list)\n",
    "    feature_tuple_list = []\n",
    "    for feature_dict in feature_dict_list:\n",
    "        feature_tuple_list.append(hc.get_feature_tuple(\n",
    "            feature_dict, pos_lr_predict_single=slrcu.predict_single, pos_crf_predict_single=scrfcu.predict_single,\n",
    "            pos_sgd_predict_single=ssgdcu.predict_single\n",
    "        ))\n",
    "    crf_list = crf.CRF.predict_single(crf.sent2features(feature_tuple_list))\n",
    "duration_str = humanize.precisedelta(time.time() - t1, minimum_unit='seconds', format='%0.0f')\n",
    "print(f'CRF and child strings list recreated in {duration_str}')"
   ]
  },
  {
   "cell_type": "code",
   "execution_count": 268,
   "id": "affcb06a-3165-4349-a936-037af549d417",
   "metadata": {},
   "outputs": [
    {
     "name": "stdout",
     "output_type": "stream",
     "text": [
      "['O-OL', 'H-O', 'O-IP', 'H-SP', 'O-IP', 'O-SP', 'O-SP', 'O-SP', 'O-SP', 'O-SP', 'O-SP', 'O-IP', 'H-O', 'H-CS', 'O-IP', 'H-TS', 'O-JT', 'H-TS', 'O-TS', 'O-TS', 'O-TS', 'O-TS', 'O-TS', 'O-TS', 'O-RQ', 'O-TS', 'O-TS', 'H-RQ', 'H-RQ', 'O-CS', 'H-RQ', 'O-RQ', 'O-OL', 'O-RQ', 'O-OL', 'O-RQ', 'H-PQ', 'O-RQ', 'O-RQ', 'O-RQ', 'O-RQ', 'O-TS', 'O-RQ', 'O-RQ', 'O-RQ', 'O-RQ', 'O-RQ', 'O-SP', 'O-SP', 'O-SP', 'O-IP', 'O-SP', 'O-SP', 'O-RQ', 'O-PQ', 'O-SP', 'O-TS', 'O-IP', 'O-IP', 'O-IP', 'O-IP', 'O-LN', 'O-LN', 'O-IP']\n",
      "[24, 31, 33, 35]\n"
     ]
    },
    {
     "data": {
      "text/html": [
       "0 O-OL) <span style=\"color:#c49c9480;\"><h2 class=\"css-1yytfzy e1tiznh50\" id=\"jobLocationSectionTitle\">Location (O-OL Office Location Non-header)</h2></span><br />1 H-O) <span style=\"color:#8c564bff;\"><span>Washington, DC 20004 (H-O Other Header)</span></span><br />2 O-IP) <span style=\"color:#ffbb7880;\"><span>&amp;nbsp; (O-IP Interview Procedures Non-header)</span></span><br />3 H-SP) <span style=\"color:#17becfff;\">Benefits (H-SP Supplemental Pay Header)</span><br />4 O-IP) <span style=\"color:#ffbb7880;\"><div class=\"css-1opnqdm e1wnkr790\">Pulled from the full job description (O-IP Interview Procedures Non-header)</div></span><br />5 O-SP) <span style=\"color:#17becf80;\"><li class=\"css-kyg8or eu4oa1w0\">Dental insurance (O-SP Supplemental Pay Non-header)</li></span><br />6 O-SP) <span style=\"color:#17becf80;\"><li class=\"css-kyg8or eu4oa1w0\">Disability insurance (O-SP Supplemental Pay Non-header)</li></span><br />7 O-SP) <span style=\"color:#17becf80;\"><li class=\"css-kyg8or eu4oa1w0\">Flexible spending account (O-SP Supplemental Pay Non-header)</li></span><br />8 O-SP) <span style=\"color:#17becf80;\"><li class=\"css-kyg8or eu4oa1w0\">Health insurance (O-SP Supplemental Pay Non-header)</li></span><br />9 O-SP) <span style=\"color:#17becf80;\"><li class=\"css-kyg8or eu4oa1w0\">Retirement plan (O-SP Supplemental Pay Non-header)</li></span><br />10 O-SP) <span style=\"color:#17becf80;\"><li class=\"css-kyg8or eu4oa1w0\">Vision insurance (O-SP Supplemental Pay Non-header)</li></span><br />11 O-IP) <span style=\"color:#ffbb7880;\"><span>&amp;nbsp; (O-IP Interview Procedures Non-header)</span></span><br />12 H-O) <span style=\"color:#8c564bff;\"><h2 class=\"css-wpzt8u e1tiznh50\" id=\"jobDescriptionTitleHeading\" tabindex=\"-1\">Full job description (H-O Other Header)</h2></span><br />13 H-CS) <span style=\"color:#1f77b4ff;\"><b>HOW MIGHT YOU DEFY IMAGINATION? (H-CS Corporate Scope Header)</b></span><br />14 O-IP) <span style=\"color:#ffbb7880;\"><p> You’ve worked hard to become the professional you are today and are now ready to take the next step in your career. How will you put your skills, experience and passion to work toward your goals? At Amgen, our shared mission—to serve patients—drives all that we do. It is key to our becoming one of the world’s leading biotechnology companies, reaching over 10 million patients worldwide. Come do your best work alongside other innovative, driven professionals in this meaningful role. (O-IP Interview Procedures Non-header)</p></span><br />15 H-TS) <span style=\"color:#9edae5ff;\"><b> Data Analytics and Engineering – Digital, Technology and Innovation (H-TS Task Scope Header)</b></span><br />16 O-JT) <span style=\"color:#d6272880;\"><b> Live (O-JT Job Title Non-header)</b></span><br />17 H-TS) <span style=\"color:#9edae5ff;\"><b> What you will do (H-TS Task Scope Header)</b></span><br />18 O-TS) <span style=\"color:#9edae580;\"><p> Let’s do this. Let’s change the world. Amgen is seeking a Data Engineer to join Amgen Digital, Technology, and Innovation (DTI), working in the AI initiatives product team within Operations supporting enterprise AI initiatives. In this role, you will collaborate with the team responsible for deploying and supporting software applications and related technologies. This role will be working with the Software and Data Engineering platforms, understanding business needs and processes, to automate them across multiple groups and technologies. (O-TS Task Scope Non-header)</p></span><br />19 O-TS) <span style=\"color:#9edae580;\"><p> The resource will report to the Senior Manager, Digital, Technology and Innovation (DTI). The team consists of cross-disciplinary IS professionals who understand how to deliver services that span both data and software applications. (O-TS Task Scope Non-header)</p></span><br />20 O-TS) <span style=\"color:#9edae580;\"><li> Be a key team member assisting in design and development of data models, analytics and pipelines. (O-TS Task Scope Non-header)</li></span><br />21 O-TS) <span style=\"color:#9edae580;\"><li> Provide simple visual representations of data patterns and conclusions and communicate their meaning to internal and external stakeholders, coworkers, and end-users. (O-TS Task Scope Non-header)</li></span><br />22 O-TS) <span style=\"color:#9edae580;\"><li> Collaborate with Data Architects, Business SMEs, and Data Scientists to design and develop data assets like data analysis and transformations like aggregation, de-duplication, merging the data to meet business needs. (O-TS Task Scope Non-header)</li></span><br />23 O-TS) <span style=\"color:#9edae580;\"><li> Adhere to best practices for coding, testing, and designing reusable code/component along with necessary documentation. (O-TS Task Scope Non-header)</li></span><br /><hr />24 O-RQ) <span style=\"color:#bcbd2280;\"><li> Able to explore new tools and technologies that will help to improve business outcomes. (O-RQ Required Qualifications Non-header)</li></span><br />25 O-TS) <span style=\"color:#9edae580;\"><li> Participate in sprint planning meetings and provide estimations on technical implementation. (O-TS Task Scope Non-header)</li></span><br />26 O-TS) <span style=\"color:#9edae580;\"><li> Collaborate and communicate effectively with the product teams. (O-TS Task Scope Non-header)</li></span><br />27 H-RQ) <span style=\"color:#bcbd22ff;\"><b> Win (H-RQ Required Qualifications Header)</b></span><br />28 H-RQ) <span style=\"color:#bcbd22ff;\"><b> What we expect of you (H-RQ Required Qualifications Header)</b></span><br />29 O-CS) <span style=\"color:#1f77b480;\"><p> We are all different, yet we all use our unique contributions to serve patients. The data engineer professional we seek is a dynamic individual with these qualifications. (O-CS Corporate Scope Non-header)</p></span><br />30 H-RQ) <span style=\"color:#bcbd22ff;\"><b> Basic Qualifications: (H-RQ Required Qualifications Header)</b></span><br />31 O-RQ) <span style=\"color:#bcbd2280;\"><p> Bachelor’s degree (O-RQ Required Qualifications Non-header)</p></span><br />32 O-OL) <span style=\"color:#c49c9480;\"><p> OR (O-OL Office Location Non-header)</p></span><br />33 O-RQ) <span style=\"color:#bcbd2280;\"><p> Associate’s degree and 4 years of relevant experience (O-RQ Required Qualifications Non-header)</p></span><br />34 O-OL) <span style=\"color:#c49c9480;\"><p> OR (O-OL Office Location Non-header)</p></span><br />35 O-RQ) <span style=\"color:#bcbd2280;\"><p> High school diploma / GED and 6 years of relevant experience (O-RQ Required Qualifications Non-header)</p></span><br /><hr />36 H-PQ) <span style=\"color:#c7c7c7ff;\"><b> Preferred Qualifications: (H-PQ Preferred Qualifications Header)</b></span><br />37 O-RQ) <span style=\"color:#bcbd2280;\"><li> Degree concentration(s) in Information Technology, Information Systems, Computer Science, Engineering, Applied Science. (O-RQ Required Qualifications Non-header)</li></span><br />38 O-RQ) <span style=\"color:#bcbd2280;\"><li> Development experience utilizing SQL, Python, and general knowledge of Gen AI. (O-RQ Required Qualifications Non-header)</li></span><br />39 O-RQ) <span style=\"color:#bcbd2280;\"><li> Experience on AWS, familiar with EC2, S3, Redshift. (O-RQ Required Qualifications Non-header)</li></span><br />40 O-RQ) <span style=\"color:#bcbd2280;\"><li> Data analysis and reporting knowledge by using analytics, visualization, and database technologies (SQL, Python - NumPy, SciPy, Pandas). (O-RQ Required Qualifications Non-header)</li></span><br />41 O-TS) <span style=\"color:#9edae580;\"><li> Previous participation in projects using the above-mentioned technologies. (O-TS Task Scope Non-header)</li></span><br />42 O-RQ) <span style=\"color:#bcbd2280;\"><li> Experience working with SAFe Agile methodology &amp; DevOps (JIRA, CI/CD, GitLab). (O-RQ Required Qualifications Non-header)</li></span><br />43 O-RQ) <span style=\"color:#bcbd2280;\"><li> Demonstrably good, context-specific, and adaptive communication and presentation skills across a variety of audiences and situations. (O-RQ Required Qualifications Non-header)</li></span><br />44 O-RQ) <span style=\"color:#bcbd2280;\"><li> Established habit of initiative-taking thinking and behavior and the desire and ability to self-start/learn and apply innovative technologies. (O-RQ Required Qualifications Non-header)</li></span><br />45 O-RQ) <span style=\"color:#bcbd2280;\"><li> High attention to detail. (O-RQ Required Qualifications Non-header)</li></span><br />46 O-RQ) <span style=\"color:#bcbd2280;\"><li> Ability to work in a team environment, effectively interacting with others. (O-RQ Required Qualifications Non-header)</li></span><br />47 O-SP) <span style=\"color:#17becf80;\"><b> Thrive (O-SP Supplemental Pay Non-header)</b></span><br />48 O-SP) <span style=\"color:#17becf80;\"><b> What you can expect of us (O-SP Supplemental Pay Non-header)</b></span><br />49 O-SP) <span style=\"color:#17becf80;\"><p> As we work to develop treatments that take care of others, we also work to care for our teammates’ professional and personal growth and well-being. (O-SP Supplemental Pay Non-header)</p></span><br />50 O-IP) <span style=\"color:#ffbb7880;\"><p> This role is paid hourly. The expected annualized salary range for this role in the U.S. (excluding Puerto Rico) is posted. Actual salary will vary based on several factors including, but not limited to, relevant skills, experience, and qualifications. (O-IP Interview Procedures Non-header)</p></span><br />51 O-SP) <span style=\"color:#17becf80;\"><p> In addition to the annualized hourly salary, Amgen offers a Total Rewards Plan comprising health and welfare plans for staff and eligible dependents, financial plans with opportunities to save towards retirement or other goals, work/life balance, and career development opportunities including: (O-SP Supplemental Pay Non-header)</p></span><br />52 O-SP) <span style=\"color:#17becf80;\"><li> Comprehensive employee benefits package, including a Retirement and Savings Plan with generous company contributions, group medical, dental and vision coverage, life and disability insurance, and flexible spending accounts. (O-SP Supplemental Pay Non-header)</li></span><br />53 O-RQ) <span style=\"color:#bcbd2280;\"><li> A discretionary annual bonus program, or for field sales representatives, a sales-based incentive plan (O-RQ Required Qualifications Non-header)</li></span><br />54 O-PQ) <span style=\"color:#c7c7c780;\"><li> Stock-based long-term incentives (O-PQ Preferred Qualifications Non-header)</li></span><br />55 O-SP) <span style=\"color:#17becf80;\"><li> Award-winning time-off plans and bi-annual company-wide shutdowns (O-SP Supplemental Pay Non-header)</li></span><br />56 O-TS) <span style=\"color:#9edae580;\"><li> Flexible work models, including remote work arrangements, where possible (O-TS Task Scope Non-header)</li></span><br />57 O-IP) <span style=\"color:#ffbb7880;\"><b> Apply now (O-IP Interview Procedures Non-header)</b></span><br />58 O-IP) <span style=\"color:#ffbb7880;\"><b> for a career that defies imagination (O-IP Interview Procedures Non-header)</b></span><br />59 O-IP) <span style=\"color:#ffbb7880;\"><p> Objects in your future are closer than they appear. Join us. (O-IP Interview Procedures Non-header)</p></span><br />60 O-IP) <span style=\"color:#ffbb7880;\"><b> careers.amgen.com (O-IP Interview Procedures Non-header)</b></span><br />61 O-LN) <span style=\"color:#9467bd80;\"><p> Amgen is an Equal Opportunity employer and will consider you without regard to your race, color, religion, sex, sexual orientation, gender identity, national origin, protected veteran status, or disability status. (O-LN Legal Notifications Non-header)</p></span><br />62 O-LN) <span style=\"color:#9467bd80;\"><p> We will ensure that individuals with disabilities are provided reasonable accommodation to participate in the job application or interview process, to perform essential job functions, and to receive other benefits and privileges of employment. Please contact us to request accommodation. (O-LN Legal Notifications Non-header)</p></span><br />63 O-IP) <span style=\"color:#ffbb7880;\"><span>&amp;nbsp; (O-IP Interview Procedures Non-header)</span></span><br />"
      ],
      "text/plain": [
       "<IPython.core.display.HTML object>"
      ]
     },
     "metadata": {},
     "output_type": "display_data"
    },
    {
     "name": "stdout",
     "output_type": "stream",
     "text": [
      "[24, 31, 33, 35]\n"
     ]
    }
   ],
   "source": [
    "\n",
    "db_pos_list = []\n",
    "for navigable_parent in child_strs_list:\n",
    "    db_pos_list = cu.append_parts_of_speech_list(navigable_parent, pos_list=db_pos_list)\n",
    "pos_list, indices_list = su.visualize_basic_quals_section(crf_list, child_strs_list, db_pos_list=db_pos_list, verbose=True)\n",
    "winsound.Beep(freq, duration)"
   ]
  },
  {
   "cell_type": "code",
   "execution_count": null,
   "id": "91379a3d-1a77-4d8b-9ef6-a76f12204ac2",
   "metadata": {},
   "outputs": [],
   "source": [
    "raise"
   ]
  },
  {
   "cell_type": "code",
   "execution_count": 292,
   "id": "26c4dd4e-1418-4420-aff5-ea7b65273194",
   "metadata": {},
   "outputs": [
    {
     "name": "stdout",
     "output_type": "stream",
     "text": [
      "31 O-RQ) <p> Bachelor’s degree</p>\n"
     ]
    }
   ],
   "source": [
    "\n",
    "import re\n",
    "\n",
    "basic_quals_dict = nu.load_object('basic_quals_dict'); column_name = 'is_minimum_qualification'\n",
    "for idx in list(range(30, 32)):\n",
    "    child_str = child_strs_list[idx]; pos_symbol = pos_list[idx]\n",
    "    def do_cypher_tx(tx, navigable_parent, verbose=False):\n",
    "        cypher_str = '''\n",
    "            MATCH (np:NavigableParents {navigable_parent: $navigable_parent})\n",
    "            ''' + cu.return_everything_str + ';'\n",
    "        results_list = tx.run(query=cypher_str, parameters={'navigable_parent': navigable_parent})\n",
    "        return [dict(record.items()) for record in results_list]\n",
    "    with cu.driver.session() as session: row_objs_list = session.write_transaction(do_cypher_tx, navigable_parent=child_str, verbose=False)\n",
    "    if (row_objs_list[0][column_name] != True):\n",
    "        print(str(basic_quals_dict[child_str]) + '\\n' if(child_str in basic_quals_dict) else '', end='')\n",
    "        print(f'{idx} {pos_symbol}) {child_str}')\n",
    "        def do_cypher_tx(tx, navigable_parent, verbose=False):\n",
    "            cypher_str = f'''\n",
    "                MATCH (np:NavigableParents {{navigable_parent: $navigable_parent}})\n",
    "                SET\n",
    "                    np.is_task_scope = {str(column_name == 'is_task_scope').lower()},\n",
    "                    np.is_minimum_qualification = {str(column_name == 'is_minimum_qualification').lower()},\n",
    "                    np.is_preferred_qualification = {str(column_name == 'is_preferred_qualification').lower()},\n",
    "                    np.is_educational_requirement = {str(column_name == 'is_educational_requirement').lower()},\n",
    "                    np.is_legal_notification = {str(column_name == 'is_legal_notification').lower()},\n",
    "                    np.is_other = {str(column_name == 'is_other').lower()},\n",
    "                    np.is_corporate_scope = {str(column_name == 'is_corporate_scope').lower()},\n",
    "                    np.is_job_title = {str(column_name == 'is_job_title').lower()},\n",
    "                    np.is_office_location = {str(column_name == 'is_office_location').lower()},\n",
    "                    np.is_job_duration = {str(column_name == 'is_job_duration').lower()},\n",
    "                    np.is_supplemental_pay = {str(column_name == 'is_supplemental_pay').lower()},\n",
    "                    np.is_interview_procedure = {str(column_name == 'is_interview_procedure').lower()},\n",
    "                    np.is_posting_date = {str(column_name == 'is_posting_date').lower()}\n",
    "                ''' + cu.return_everything_str + ';'\n",
    "            return [dict(record.items()) for record in tx.run(query=cypher_str, parameters={'navigable_parent': navigable_parent})]\n",
    "        with cu.driver.session() as session: row_objs_list = session.write_transaction(do_cypher_tx, navigable_parent=child_str, verbose=False)\n",
    "    if re.sub(r'\\s*</\\w+>', '', child_str).endswith(':') and (row_objs_list[0]['is_header'] != True):\n",
    "        print(str(basic_quals_dict[child_str]) + '\\n' if(child_str in basic_quals_dict) else '', end='')\n",
    "        print(f'{idx} {pos_symbol}) {child_str}')\n",
    "        def do_cypher_tx(tx, navigable_parent, verbose=False):\n",
    "            cypher_str = f'''\n",
    "                MATCH (np:NavigableParents {{navigable_parent: $navigable_parent}})\n",
    "                SET\n",
    "                    np.is_header = true\n",
    "                ''' + cu.return_everything_str + ';'\n",
    "            return [dict(record.items()) for record in tx.run(query=cypher_str, parameters={'navigable_parent': navigable_parent})]\n",
    "        with cu.driver.session() as session: row_objs_list = session.write_transaction(do_cypher_tx, navigable_parent=child_str, verbose=False)"
   ]
  },
  {
   "cell_type": "code",
   "execution_count": 294,
   "id": "1d97acb2-2b60-4a56-9b3b-ecfc2b6582e6",
   "metadata": {
    "tags": []
   },
   "outputs": [
    {
     "name": "stdout",
     "output_type": "stream",
     "text": [
      "[24, 31, 33, 35]\n",
      "31 O-RQ) <p> Bachelor’s degree</p>\n"
     ]
    }
   ],
   "source": [
    "\n",
    "# Display the context of an individual child string\n",
    "idx = 31\n",
    "print(indices_list); child_str = child_strs_list[idx]; pos_symbol = pos_list[idx]; basic_quals_dict = nu.load_object('basic_quals_dict')\n",
    "print(str(basic_quals_dict[child_str]) + '\\n' if(child_str in basic_quals_dict) else '', end='')\n",
    "print(f'{idx} {pos_symbol}) {child_str}')"
   ]
  },
  {
   "cell_type": "code",
   "execution_count": 295,
   "id": "b2f46926-880b-4aed-bc99-4a6bd9ed7903",
   "metadata": {},
   "outputs": [
    {
     "name": "stdout",
     "output_type": "stream",
     "text": [
      "Pickling to C:\\Users\\daveb\\OneDrive\\Documents\\GitHub\\job-hunting\\saves\\pkl\\basic_quals_dict.pkl\n",
      "\"<p> Bachelor’s degree</p>\" in basic_quals_dict: 1\n"
     ]
    }
   ],
   "source": [
    "\n",
    "# Hand-label this particular child string in the quals dictionary\n",
    "basic_quals_dict = nu.load_object('basic_quals_dict')\n",
    "basic_quals_dict[child_str] = 1\n",
    "nu.store_objects(basic_quals_dict=basic_quals_dict); print(f'\"{child_str}\" in basic_quals_dict: {basic_quals_dict[child_str]}')"
   ]
  },
  {
   "cell_type": "code",
   "execution_count": 255,
   "id": "326ab607-cc5c-4476-b692-395b96d293ed",
   "metadata": {},
   "outputs": [
    {
     "name": "stdout",
     "output_type": "stream",
     "text": [
      "55 O-CS) <i> At Ariel Partners, we solve the most difficult problems that inhibit technology from enabling our customers to achieve their goals. Our vision is to be recognized by our stakeholders as an elite provider of IT solutions, so when they have their biggest challenges, we are on their short list. We are looking for team members who share our values of: </i>\n",
      "56 O-RQ) <i>Integrity</i>\n",
      "58 O-PQ) <i>Commitment</i>\n",
      "60 O-RQ) <i>Courage</i>\n",
      "62 O-IP) <i>Excellence</i>\n"
     ]
    }
   ],
   "source": [
    "\n",
    "# Fix Headers\n",
    "basic_quals_dict = nu.load_object('basic_quals_dict')\n",
    "for idx in [55, 56, 58, 60, 62]:\n",
    "    child_str = child_strs_list[idx]; pos_symbol = pos_list[idx]\n",
    "    print(str(basic_quals_dict[child_str]) + '\\n' if(child_str in basic_quals_dict) else '', end='')\n",
    "    print(f'{idx} {pos_symbol}) {child_str}')\n",
    "    def do_cypher_tx(tx, navigable_parent, verbose=False):\n",
    "        cypher_str = f'''\n",
    "            MATCH (np:NavigableParents {{navigable_parent: $navigable_parent}})\n",
    "            SET\n",
    "                np.is_header = true\n",
    "            ''' + cu.return_everything_str + ';'\n",
    "        return [dict(record.items()) for record in tx.run(query=cypher_str, parameters={'navigable_parent': navigable_parent})]\n",
    "    with cu.driver.session() as session: row_objs_list = session.write_transaction(do_cypher_tx, navigable_parent=child_str, verbose=False)"
   ]
  },
  {
   "cell_type": "code",
   "execution_count": 63,
   "id": "4005f4a8-f07c-4538-8d1b-210d32dd3199",
   "metadata": {},
   "outputs": [
    {
     "data": {
      "text/plain": [
       "[{'navigable_parent': '<b> What we’re looking for...</b>', 'is_header': True, 'is_task_scope': False, 'is_minimum_qualification': True, 'is_preferred_qualification': False, 'is_legal_notification': False, 'is_job_title': False, 'is_office_location': False, 'is_job_duration': False, 'is_supplemental_pay': False, 'is_educational_requirement': False, 'is_interview_procedure': False, 'is_corporate_scope': False, 'is_posting_date': False, 'is_other': False}]"
      ]
     },
     "execution_count": 63,
     "metadata": {},
     "output_type": "execute_result"
    }
   ],
   "source": [
    "\n",
    "def do_cypher_tx(tx, navigable_parent, verbose=False):\n",
    "    cypher_str = '''\n",
    "        MATCH (np:NavigableParents {navigable_parent: $navigable_parent})\n",
    "        SET\n",
    "            np.is_header = true,\n",
    "            np.is_task_scope = false,\n",
    "            np.is_minimum_qualification = true,\n",
    "            np.is_preferred_qualification = false,\n",
    "            np.is_educational_requirement = false,\n",
    "            np.is_legal_notification = false,\n",
    "            np.is_other = false,\n",
    "            np.is_corporate_scope = false,\n",
    "            np.is_job_title = false,\n",
    "            np.is_office_location = false,\n",
    "            np.is_job_duration = false,\n",
    "            np.is_supplemental_pay = false,\n",
    "            np.is_interview_procedure = false,\n",
    "            np.is_posting_date = false\n",
    "        ''' + cu.return_everything_str + ';'\n",
    "    return [dict(record.items()) for record in tx.run(query=cypher_str, parameters={'navigable_parent': navigable_parent})]\n",
    "with cu.driver.session() as session: row_objs_list = session.write_transaction(do_cypher_tx, navigable_parent=child_str, verbose=False)\n",
    "ihu.retrain_classifier(row_objs_list[0]['navigable_parent'], row_objs_list[0]['is_header'], verbose=False); row_objs_list"
   ]
  },
  {
   "cell_type": "code",
   "execution_count": 129,
   "id": "6b2c062a-8ec0-4daf-9727-6b8676c26fe2",
   "metadata": {},
   "outputs": [
    {
     "name": "stdout",
     "output_type": "stream",
     "text": [
      "69 O-RQ) <li>The hours required are in Central Time: Mondays and Wednesdays 6-9pm and fortnightly Saturdays 9am-5pm. Are you able to commit to this?</li>\n",
      "70 O-IP) <li>The project dates are 11 March 2024 to 4 May 2024. Are you able to commit to this?</li>\n"
     ]
    }
   ],
   "source": [
    "\n",
    "basic_quals_dict = nu.load_object('basic_quals_dict')\n",
    "column_name = 'is_interview_procedure'\n",
    "for idx in range(len(child_strs_list)):\n",
    "    child_str = child_strs_list[idx]; pos_symbol = pos_list[idx]\n",
    "    if '?' in child_str:\n",
    "        def do_cypher_tx(tx, navigable_parent, verbose=False):\n",
    "            cypher_str = '''\n",
    "                MATCH (np:NavigableParents {navigable_parent: $navigable_parent})\n",
    "                ''' + cu.return_everything_str + ';'\n",
    "            results_list = tx.run(query=cypher_str, parameters={'navigable_parent': navigable_parent})\n",
    "            return [dict(record.items()) for record in results_list]\n",
    "        with cu.driver.session() as session: row_objs_list = session.write_transaction(do_cypher_tx, navigable_parent=child_str, verbose=False)\n",
    "        if (row_objs_list[0][column_name] != True):\n",
    "            print(str(basic_quals_dict[child_str]) + '\\n' if(child_str in basic_quals_dict) else '', end='')\n",
    "            print(f'{idx} {pos_symbol}) {child_str}')\n",
    "            def do_cypher_tx(tx, navigable_parent, verbose=False):\n",
    "                cypher_str = f'''\n",
    "                    MATCH (np:NavigableParents {{navigable_parent: $navigable_parent}})\n",
    "                    SET\n",
    "                        np.is_task_scope = {str(column_name == 'is_task_scope').lower()},\n",
    "                        np.is_minimum_qualification = {str(column_name == 'is_minimum_qualification').lower()},\n",
    "                        np.is_preferred_qualification = {str(column_name == 'is_preferred_qualification').lower()},\n",
    "                        np.is_educational_requirement = {str(column_name == 'is_educational_requirement').lower()},\n",
    "                        np.is_legal_notification = {str(column_name == 'is_legal_notification').lower()},\n",
    "                        np.is_other = {str(column_name == 'is_other').lower()},\n",
    "                        np.is_corporate_scope = {str(column_name == 'is_corporate_scope').lower()},\n",
    "                        np.is_job_title = {str(column_name == 'is_job_title').lower()},\n",
    "                        np.is_office_location = {str(column_name == 'is_office_location').lower()},\n",
    "                        np.is_job_duration = {str(column_name == 'is_job_duration').lower()},\n",
    "                        np.is_supplemental_pay = {str(column_name == 'is_supplemental_pay').lower()},\n",
    "                        np.is_interview_procedure = {str(column_name == 'is_interview_procedure').lower()},\n",
    "                        np.is_posting_date = {str(column_name == 'is_posting_date').lower()}\n",
    "                    ''' + cu.return_everything_str + ';'\n",
    "                return [dict(record.items()) for record in tx.run(query=cypher_str, parameters={'navigable_parent': navigable_parent})]\n",
    "            with cu.driver.session() as session: row_objs_list = session.write_transaction(do_cypher_tx, navigable_parent=child_str, verbose=False)"
   ]
  },
  {
   "cell_type": "code",
   "execution_count": 448,
   "id": "56d17dac-be9e-4bc3-aa01-58eed1baa9af",
   "metadata": {},
   "outputs": [
    {
     "data": {
      "text/plain": [
       "[{'navigable_parent': \"<p>This position's responsibilities fall into eight basic areas:</p>\", 'is_header': False, 'is_task_scope': True, 'is_minimum_qualification': False, 'is_preferred_qualification': False, 'is_legal_notification': False, 'is_job_title': False, 'is_office_location': False, 'is_job_duration': False, 'is_supplemental_pay': False, 'is_educational_requirement': False, 'is_interview_procedure': False, 'is_corporate_scope': False, 'is_posting_date': False, 'is_other': False}]"
      ]
     },
     "execution_count": 448,
     "metadata": {},
     "output_type": "execute_result"
    }
   ],
   "source": [
    "\n",
    "# Show what's in the database already for this html string\n",
    "def do_cypher_tx(tx, navigable_parent, verbose=False):\n",
    "    cypher_str = '''\n",
    "        MATCH (np:NavigableParents {navigable_parent: $navigable_parent})\n",
    "        ''' + cu.return_everything_str + ';'\n",
    "    results_list = tx.run(query=cypher_str, parameters={'navigable_parent': navigable_parent})\n",
    "    return [dict(record.items()) for record in results_list]\n",
    "with cu.driver.session() as session: row_objs_list = session.write_transaction(do_cypher_tx, navigable_parent=child_str, verbose=False)\n",
    "row_objs_list"
   ]
  },
  {
   "cell_type": "markdown",
   "id": "181dfa2e-4e09-4da7-b046-98f5c170ec67",
   "metadata": {},
   "source": [
    "\n",
    "----\n",
    "## Maintenance"
   ]
  },
  {
   "cell_type": "code",
   "execution_count": 70,
   "id": "f06e7a78-604e-4e3b-baf1-150c9f4c6578",
   "metadata": {},
   "outputs": [
    {
     "data": {
      "text/html": [
       "<div>\n",
       "<style scoped>\n",
       "    .dataframe tbody tr th:only-of-type {\n",
       "        vertical-align: middle;\n",
       "    }\n",
       "\n",
       "    .dataframe tbody tr th {\n",
       "        vertical-align: top;\n",
       "    }\n",
       "\n",
       "    .dataframe thead th {\n",
       "        text-align: right;\n",
       "    }\n",
       "</style>\n",
       "<table border=\"1\" class=\"dataframe\">\n",
       "  <thead>\n",
       "    <tr style=\"text-align: right;\">\n",
       "      <th></th>\n",
       "      <th>percent_fit</th>\n",
       "      <th>file_name</th>\n",
       "      <th>posting_url</th>\n",
       "    </tr>\n",
       "  </thead>\n",
       "  <tbody>\n",
       "    <tr>\n",
       "      <th>0</th>\n",
       "      <td>1.0</td>\n",
       "      <td>4eeb9a388e80b439_Associate_Data_Scientist_Oper...</td>\n",
       "      <td>https://www.indeed.com/rc/clk/dl?jk=4eeb9a388e...</td>\n",
       "    </tr>\n",
       "    <tr>\n",
       "      <th>1</th>\n",
       "      <td>1.0</td>\n",
       "      <td>8854e7ff7ea2968f_Data_Science_Consultant_Lake_...</td>\n",
       "      <td>https://www.indeed.com/rc/clk/dl?jk=8854e7ff7e...</td>\n",
       "    </tr>\n",
       "    <tr>\n",
       "      <th>2</th>\n",
       "      <td>1.0</td>\n",
       "      <td>f311e251e658f0c8_Data_Operations_Analyst_Remot...</td>\n",
       "      <td>https://www.indeed.com/rc/clk/dl?jk=f311e251e6...</td>\n",
       "    </tr>\n",
       "    <tr>\n",
       "      <th>3</th>\n",
       "      <td>1.0</td>\n",
       "      <td>Gen_AI_Architect_Remote_Philadelphia_PA_Indeed...</td>\n",
       "      <td>https://www.indeed.com/pagead/clk/dl?mo=r&amp;ad=-...</td>\n",
       "    </tr>\n",
       "    <tr>\n",
       "      <th>4</th>\n",
       "      <td>1.0</td>\n",
       "      <td>b982be6e0261d915_AI_Engineer_Fulltime_Remote_I...</td>\n",
       "      <td>https://www.indeed.com/rc/clk/dl?jk=b982be6e02...</td>\n",
       "    </tr>\n",
       "    <tr>\n",
       "      <th>...</th>\n",
       "      <td>...</td>\n",
       "      <td>...</td>\n",
       "      <td>...</td>\n",
       "    </tr>\n",
       "    <tr>\n",
       "      <th>73</th>\n",
       "      <td>0.8</td>\n",
       "      <td>06834c6cc203169c_Data_Scientist_Lititz_PA_1754...</td>\n",
       "      <td>https://www.indeed.com/rc/clk/dl?jk=06834c6cc2...</td>\n",
       "    </tr>\n",
       "    <tr>\n",
       "      <th>74</th>\n",
       "      <td>0.8</td>\n",
       "      <td>Python_Developer_Atlanta_GA_30339_Indeed_com.html</td>\n",
       "      <td>https://www.indeed.com/pagead/clk/dl?mo=r&amp;ad=-...</td>\n",
       "    </tr>\n",
       "    <tr>\n",
       "      <th>75</th>\n",
       "      <td>0.8</td>\n",
       "      <td>f4503bdc3a1cc405_Python_Developer_AI_ML_Burban...</td>\n",
       "      <td>https://www.indeed.com/rc/clk/dl?jk=f4503bdc3a...</td>\n",
       "    </tr>\n",
       "    <tr>\n",
       "      <th>76</th>\n",
       "      <td>0.8</td>\n",
       "      <td>dbbd5b4ea65d8d61_Data_Scientist_with_power_BI_...</td>\n",
       "      <td>https://www.indeed.com/rc/clk/dl?jk=dbbd5b4ea6...</td>\n",
       "    </tr>\n",
       "    <tr>\n",
       "      <th>77</th>\n",
       "      <td>0.8</td>\n",
       "      <td>2b1ee91c234cc591_Applications_Developer_Pleasa...</td>\n",
       "      <td>https://www.indeed.com/rc/clk/dl?jk=2b1ee91c23...</td>\n",
       "    </tr>\n",
       "  </tbody>\n",
       "</table>\n",
       "<p>78 rows × 3 columns</p>\n",
       "</div>"
      ],
      "text/plain": [
       "    percent_fit                                          file_name   \n",
       "0           1.0  4eeb9a388e80b439_Associate_Data_Scientist_Oper...  \\\n",
       "1           1.0  8854e7ff7ea2968f_Data_Science_Consultant_Lake_...   \n",
       "2           1.0  f311e251e658f0c8_Data_Operations_Analyst_Remot...   \n",
       "3           1.0  Gen_AI_Architect_Remote_Philadelphia_PA_Indeed...   \n",
       "4           1.0  b982be6e0261d915_AI_Engineer_Fulltime_Remote_I...   \n",
       "..          ...                                                ...   \n",
       "73          0.8  06834c6cc203169c_Data_Scientist_Lititz_PA_1754...   \n",
       "74          0.8  Python_Developer_Atlanta_GA_30339_Indeed_com.html   \n",
       "75          0.8  f4503bdc3a1cc405_Python_Developer_AI_ML_Burban...   \n",
       "76          0.8  dbbd5b4ea65d8d61_Data_Scientist_with_power_BI_...   \n",
       "77          0.8  2b1ee91c234cc591_Applications_Developer_Pleasa...   \n",
       "\n",
       "                                          posting_url  \n",
       "0   https://www.indeed.com/rc/clk/dl?jk=4eeb9a388e...  \n",
       "1   https://www.indeed.com/rc/clk/dl?jk=8854e7ff7e...  \n",
       "2   https://www.indeed.com/rc/clk/dl?jk=f311e251e6...  \n",
       "3   https://www.indeed.com/pagead/clk/dl?mo=r&ad=-...  \n",
       "4   https://www.indeed.com/rc/clk/dl?jk=b982be6e02...  \n",
       "..                                                ...  \n",
       "73  https://www.indeed.com/rc/clk/dl?jk=06834c6cc2...  \n",
       "74  https://www.indeed.com/pagead/clk/dl?mo=r&ad=-...  \n",
       "75  https://www.indeed.com/rc/clk/dl?jk=f4503bdc3a...  \n",
       "76  https://www.indeed.com/rc/clk/dl?jk=dbbd5b4ea6...  \n",
       "77  https://www.indeed.com/rc/clk/dl?jk=2b1ee91c23...  \n",
       "\n",
       "[78 rows x 3 columns]"
      ]
     },
     "metadata": {},
     "output_type": "display_data"
    },
    {
     "data": {
      "image/png": "[encoded data removed]",
      "text/plain": [
       "<Figure size 1800x300 with 2 Axes>"
      ]
     },
     "metadata": {},
     "output_type": "display_data"
    }
   ],
   "source": [
    "\n",
    "# Display as histogram\n",
    "lru.display_hunting_dataframe_as_histogram()\n",
    "\n",
    "# Show how long it took\n",
    "# duration_str = humanize.precisedelta(time.time() - t1, minimum_unit='seconds', format='%0.0f')\n",
    "# winsound.Beep(freq, duration)\n",
    "# print(f'Minimum-requirements-met percentages estimated in {duration_str}')\n",
    "\n",
    "# Restarting the kernel and getting to this cell takes 49 seconds, normally\n",
    "# It takes 1 hour, 45 minutes and 13 seconds of you have to rebuild the LRs\n",
    "cypher_str = f'''\n",
    "    MATCH (fn:FileNames)\n",
    "    WHERE\n",
    "        (fn.percent_fit >= 0.8) AND\n",
    "        ((fn.is_closed IS NULL) OR (fn.is_closed = false)) AND\n",
    "        ((fn.is_opportunity_application_emailed IS NULL) OR (fn.is_opportunity_application_emailed = false))\n",
    "    RETURN\n",
    "        fn.percent_fit AS percent_fit,\n",
    "        fn.file_name AS file_name,\n",
    "        fn.posting_url AS posting_url\n",
    "    ORDER BY fn.percent_fit DESC;'''\n",
    "row_objs_list = []\n",
    "with cu.driver.session() as session: row_objs_list = session.write_transaction(cu.do_cypher_tx, cypher_str)\n",
    "if row_objs_list: display(DataFrame(row_objs_list))\n",
    "# duration_str = humanize.precisedelta(time.time() - t0, minimum_unit='seconds', format='%0.0f')\n",
    "# print(f'Restarting the kernel and getting to this cell took {duration_str}')"
   ]
  },
  {
   "cell_type": "code",
   "execution_count": 32,
   "id": "8626518c-6d69-45b9-9f9a-ebe909644d0d",
   "metadata": {},
   "outputs": [
    {
     "name": "stdout",
     "output_type": "stream",
     "text": [
      "\n",
      "                MATCH\n",
      "                    (np:NavigableParents {navigable_parent: \"<p>Target will provide reasonable accommodations with the application process upon your request as required to comply with applicable laws. If you have a disability and require assistance in this application process, please visit your nearest Target store or Supply Chain Facility or reach out to Guest Services at 1-800-440-0680 for additional information.</p>\"}),\n",
      "                    (ht:HeaderTags {header_tag: \"p\"})\n",
      "                MERGE (ht)-[r:SUMMARIZES]->(np);\n"
     ]
    }
   ],
   "source": [
    "\n",
    "# Break up overly-long O-RQs:\n",
    "# Ensure you have already displayed the context of an individual child string above\n",
    "# Don't close the Notepad++ window until you have replaced the child string\n",
    "def display_file_in_text_editor(file_name):\n",
    "    text_editor_path = r'C:\\Program Files\\Notepad++\\notepad++.exe'\n",
    "    file_path = osp.abspath(osp.join(hau.SAVES_HTML_FOLDER, file_name))\n",
    "    !\"{text_editor_path}\" \"{file_path}\"\n",
    "display_file_in_text_editor(file_name)\n",
    "cu.rebuild_filename_node(file_name, navigable_parent=None, verbose=True)\n",
    "winsound.Beep(freq, duration)"
   ]
  },
  {
   "cell_type": "code",
   "execution_count": null,
   "id": "c767d2cb-2c13-421a-b29e-546d2b1b401f",
   "metadata": {},
   "outputs": [],
   "source": [
    "\n",
    "# Remove this particular child string from the quals dictionary and database\n",
    "basic_quals_dict = nu.load_object('basic_quals_dict')\n",
    "child_str = child_strs_list[idx]\n",
    "basic_quals_dict.pop(child_str, None)\n",
    "# basic_quals_dict[child_str] = 0\n",
    "nu.store_objects(basic_quals_dict=basic_quals_dict)\n",
    "print(f'\"{child_str}\" in basic_quals_dict: {child_str in basic_quals_dict}')\n",
    "def do_cypher_tx(tx, qualification_str, verbose=False):\n",
    "    cypher_str = '''\n",
    "        MATCH (qs:QualificationStrings {qualification_str: $qualification_str})\n",
    "        DETACH DELETE qs;\n",
    "        '''\n",
    "    results_list = tx.run(query=cypher_str, parameters={'qualification_str': qualification_str})\n",
    "\n",
    "    return [dict(record.items()) for record in results_list]\n",
    "with cu.driver.session() as session:\n",
    "    row_objs_list = session.write_transaction(do_cypher_tx, qualification_str=child_str, verbose=False)"
   ]
  },
  {
   "cell_type": "code",
   "execution_count": null,
   "id": "872a9fa5-9f15-4bcc-a3df-b75dbb52ed51",
   "metadata": {},
   "outputs": [],
   "source": [
    "\n",
    "# Remove file name from database\n",
    "for file_name in ['']:\n",
    "    cu.delete_filename_node(file_name, verbose=True)"
   ]
  },
  {
   "cell_type": "code",
   "execution_count": 161,
   "id": "bd3aad62-d78e-4243-b46f-dec293d4552d",
   "metadata": {},
   "outputs": [
    {
     "name": "stdout",
     "output_type": "stream",
     "text": [
      "Capacity to think critically about data\n",
      "ask the right questions\n",
      "make appropriate connections\n",
      "and apply the right methodologies.\n",
      "\n",
      "Basic knowledge of SQL for data querying and manipulation\n",
      "working with database tools such as MySQL\n",
      "Postgres\n",
      "etc\n",
      "\n",
      "Familiarity with big data platforms like Spark\n",
      "\n",
      "Basic knowledge of version control systems like Git.\n",
      "\n",
      "Ability to approach and solve problems logically and effectively.\n",
      "\n",
      "This experience should demonstrate a foundation in data analysis techniques\n",
      "basic statistical modeling\n",
      "introductory machine learning concepts\n",
      "and the application of these skills in real-world or academic projects to extract insights and understand data patterns\n",
      "\n",
      "Strong verbal and written communication skills\n",
      "including the ability to present complex findings to non-technical audiences.\n",
      "\n",
      "Skills in managing time effectively\n",
      "especially when handling multiple tasks or projects.\n",
      "\n",
      "Ability to create informative and interpretable data visualizations using tools like Matplotlib\n",
      "Seaborn\n",
      "Bokeh\n",
      "plotly (Python).\n",
      "\n",
      "Ability to work effectively in a team\n",
      "collaborating with other data scientists\n",
      "analysts\n",
      "and stakeholders.\n",
      "\n",
      "Solid grounding in statistical concepts (eg\n",
      "regression\n",
      "distributions\n",
      "statistical testing) and basic machine learning algorithms (like linear regression\n",
      "random forests)\n",
      "\n",
      "Foundational knowledge in python programming language\n",
      "which is commonly used in data science at Thrivent.\n",
      "\n",
      "Familiarity with data manipulation and analysis libraries (eg\n",
      "Pandas\n",
      "NumPy in Python).\n",
      "\n",
      "<li>Bachelor’s degree in Data Science or a related quantitative field such as Statistics\n",
      "Mathematics\n",
      "or Computer Science. </li>\n",
      "\n",
      "Demonstrate ability to meticulously manage and analyze data\n",
      "ensuring accuracy and reliability in every aspect of work\n",
      "which is crucial for identifying subtle patterns\n",
      "anomalies\n",
      "and insights that can inform critical business decisions.\n",
      "\n",
      "Understanding their applications and limitations\n",
      "suitable for fresh graduates with relevant coursework or projects\n",
      "\n",
      "Familiarity with these technologies will help support analysis at scale\n",
      "\n",
      "Understanding of how to construct and test hypotheses using statistical methods.\n",
      "\n",
      "Experience working with both structured and unstructured datasets.\n",
      "\n",
      "Eagerness to learn new tools\n",
      "technologies\n",
      "and techniques in the rapidly evolving field of data science.\n",
      "\n",
      "<li>0-2 years of experience in data science or related fields\n",
      "which may include internships\n",
      "academic projects\n",
      "or part-time roles\n",
      "\n"
     ]
    }
   ],
   "source": [
    "\n",
    "import re\n",
    "\n",
    "def separate_qualifications(quals_list):\n",
    "  \"\"\"\n",
    "  This function takes a list of qualifications and separates them into individual sentences.\n",
    "\n",
    "  Args:\n",
    "      quals_list: A list of strings, where each string represents a qualification.\n",
    "\n",
    "  Returns:\n",
    "      A list of lists, where each inner list contains the individual qualifications extracted from the corresponding element in the original quals_list.\n",
    "  \"\"\"\n",
    "  separated_quals = []\n",
    "  for qual in quals_list:\n",
    "    # Split qualifications based on commas, semicolons, and colons followed by whitespace\n",
    "    split_quals = re.split(r\", |; |:\", qual)\n",
    "    # Further split based on \"and\" if it's not the first word and there's punctuation before it\n",
    "    for i, sentence in enumerate(split_quals):\n",
    "      if i > 0 and re.search(r\"\\b(and)\\b\", sentence, flags=re.IGNORECASE) and re.search(r\"[,\\.;]\", split_quals[i-1]):\n",
    "        split_quals[i-1] += f\" {sentence.strip()}\"\n",
    "        split_quals.pop(i)\n",
    "    # Remove empty strings and leading/trailing whitespace\n",
    "    separated_quals.append([q.strip() for q in split_quals if q.strip()])\n",
    "  return separated_quals\n",
    "\n",
    "separated_qualifications = separate_qualifications(quals_list)\n",
    "\n",
    "# Print the separated qualifications\n",
    "for qual_set in separated_qualifications:\n",
    "  for qual in qual_set:\n",
    "    print(qual)\n",
    "  print()"
   ]
  },
  {
   "cell_type": "code",
   "execution_count": null,
   "id": "72f2828f-ab7b-4550-b5cc-92078c40f331",
   "metadata": {},
   "outputs": [],
   "source": []
  }
 ],
 "metadata": {
  "kernelspec": {
   "display_name": "Job Hunting (Python 3.10.9)",
   "language": "python",
   "name": "jh_env"
  },
  "language_info": {
   "codemirror_mode": {
    "name": "ipython",
    "version": 3
   },
   "file_extension": ".py",
   "mimetype": "text/x-python",
   "name": "python",
   "nbconvert_exporter": "python",
   "pygments_lexer": "ipython3",
   "version": "3.10.9"
  }
 },
 "nbformat": 4,
 "nbformat_minor": 5
}
