{
 "cells": [
  {
   "cell_type": "code",
   "execution_count": 1,
   "id": "174c9bb2-7d08-4fa2-aa2b-e3be342e52ec",
   "metadata": {},
   "outputs": [
    {
     "name": "stdout",
     "output_type": "stream",
     "text": [
      "Pretty printing has been turned OFF\n"
     ]
    }
   ],
   "source": [
    "\n",
    "%pprint"
   ]
  },
  {
   "cell_type": "markdown",
   "id": "9fb4f695-4003-423d-989a-efdaa0757778",
   "metadata": {
    "tags": []
   },
   "source": [
    "\n",
    "---\n",
    "# Load needed libraries and functions"
   ]
  },
  {
   "cell_type": "code",
   "execution_count": 2,
   "id": "528c4de8-98a4-4896-862e-03c72e6ce192",
   "metadata": {},
   "outputs": [],
   "source": [
    "\n",
    "%matplotlib inline\n",
    "from datetime import datetime\n",
    "from neo4j.exceptions import ServiceUnavailable\n",
    "import humanize\n",
    "import os\n",
    "import sys\n",
    "import time\n",
    "import warnings\n",
    "import winsound\n",
    "\n",
    "warnings.filterwarnings('ignore')\n",
    "duration = 1000  # milliseconds\n",
    "freq = 880  # Hz\n",
    "\n",
    "# Insert at 1, 0 is the script path (or '' in REPL)\n",
    "sys.path.insert(1, '../py')"
   ]
  },
  {
   "cell_type": "code",
   "execution_count": 3,
   "id": "ff7aa81f-314d-4d0d-a238-355d5210f157",
   "metadata": {},
   "outputs": [
    {
     "name": "stdout",
     "output_type": "stream",
     "text": [
      "======== Neo4j/4.4.7 ========\n",
      "Utility libraries created in 5 seconds\n"
     ]
    }
   ],
   "source": [
    "\n",
    "t0 = t1 = time.time()\n",
    "\n",
    "# Get the Storage object\n",
    "from storage import Storage\n",
    "s = Storage(\n",
    "    data_folder_path=os.path.abspath('../data'),\n",
    "    saves_folder_path=os.path.abspath('../saves')\n",
    ")\n",
    "\n",
    "# Get the WebScrapingUtilities object\n",
    "from scrape_utils import WebScrapingUtilities\n",
    "wsu = WebScrapingUtilities(\n",
    "    s=s,\n",
    "    secrets_json_path=os.path.abspath('../data/secrets/jh_secrets.json')\n",
    ")\n",
    "uri = wsu.secrets_json['neo4j']['connect_url']\n",
    "user =  wsu.secrets_json['neo4j']['username']\n",
    "password = wsu.secrets_json['neo4j']['password']\n",
    "\n",
    "# Get the HeaderAnalysis object\n",
    "from ha_utils import HeaderAnalysis\n",
    "ha = HeaderAnalysis(s=s, verbose=False)\n",
    "\n",
    "# Get the CypherUtilities object and Neo4j driver\n",
    "from cypher_utils import CypherUtilities\n",
    "cu = CypherUtilities(\n",
    "    uri=uri, user=user, password=password, driver=None, s=s, ha=ha\n",
    ")\n",
    "\n",
    "try:\n",
    "    version_str = cu.driver.get_server_info().agent\n",
    "    print(f'======== {version_str} ========')\n",
    "except ServiceUnavailable as e:\n",
    "    print(f'You need to start Neo4j as a console')\n",
    "    raise\n",
    "except Exception as e:\n",
    "    print(f'{e.__class__}: {str(e).strip()}')\n",
    "\n",
    "# Get the IsHeaderSgdClassifier object\n",
    "from is_header_sgd_classifier import IsHeaderSgdClassifier\n",
    "ihu = IsHeaderSgdClassifier(ha=ha, cu=cu, verbose=False)\n",
    "\n",
    "# Get the HeaderCategories object\n",
    "from hc_utils import HeaderCategories\n",
    "hc = HeaderCategories(cu=cu, verbose=False)\n",
    "\n",
    "# Get the LrUtilities object\n",
    "from lr_utils import LrUtilities\n",
    "lru = LrUtilities(ha=ha, cu=cu, hc=hc, verbose=False)\n",
    "\n",
    "# Get the SectionLRClassifierUtilities object\n",
    "from section_classifier_utils import SectionLRClassifierUtilities\n",
    "slrcu = SectionLRClassifierUtilities(ha=ha, cu=cu, verbose=False)\n",
    "\n",
    "# Get the SectionSGDClassifierUtilities object\n",
    "from section_classifier_utils import SectionSGDClassifierUtilities\n",
    "ssgdcu = SectionSGDClassifierUtilities(ha=ha, cu=cu, verbose=False)\n",
    "\n",
    "# Get the SectionCRFClassifierUtilities object\n",
    "from section_classifier_utils import SectionCRFClassifierUtilities\n",
    "scrfcu = SectionCRFClassifierUtilities(cu=cu, ha=ha, verbose=False)\n",
    "\n",
    "# Get the CrfUtilities object\n",
    "from crf_utils import CrfUtilities\n",
    "crf = CrfUtilities(\n",
    "    ha=ha, hc=hc, cu=cu, lru=lru, slrcu=slrcu, scrfcu=scrfcu, ssgdcu=ssgdcu, verbose=True\n",
    ")\n",
    "\n",
    "# Get the SectionUtilities object\n",
    "from section_utils import SectionUtilities\n",
    "su = SectionUtilities(\n",
    "    wsu=wsu, ihu=ihu, hc=hc, crf=crf, slrcu=slrcu, scrfcu=scrfcu, ssgdcu=ssgdcu, verbose=False\n",
    ")\n",
    "\n",
    "duration_str = humanize.precisedelta(time.time() - t1, minimum_unit='seconds', format='%0.0f')\n",
    "winsound.Beep(freq, duration)\n",
    "print(f'Utility libraries created in {duration_str}')"
   ]
  },
  {
   "cell_type": "code",
   "execution_count": 4,
   "id": "fd3f331b-c66a-4c65-906b-22bc6fc034c8",
   "metadata": {},
   "outputs": [
    {
     "name": "stdout",
     "output_type": "stream",
     "text": [
      "I have 49,163 labeled parts of speech in here\n",
      "predict_single is available\n",
      "Parts-of-speech logistic regression elements built in 7 seconds\n"
     ]
    }
   ],
   "source": [
    "\n",
    "# Check if the slrcu has built its parts-of-speech logistic regression elements\n",
    "# Parts-of-speech logistic regression elements is normally built in 1 hour, 27 minutes and 21 seconds\n",
    "t1 = time.time()\n",
    "if not hasattr(slrcu, 'pos_predict_percent_fit_dict'):\n",
    "    slrcu.build_pos_logistic_regression_elements(sampling_strategy_limit=None, verbose=True)\n",
    "if hasattr(slrcu, 'pos_predict_percent_fit_dict'):\n",
    "    print('predict_single is available')\n",
    "else:\n",
    "    print('predict_single is not available')\n",
    "duration_str = humanize.precisedelta(time.time() - t1, minimum_unit='seconds', format='%0.0f')\n",
    "print(f'Parts-of-speech logistic regression elements built in {duration_str}')"
   ]
  },
  {
   "cell_type": "code",
   "execution_count": 5,
   "id": "3fe80356-c69a-4579-b298-31e40e871b31",
   "metadata": {},
   "outputs": [
    {
     "name": "stdout",
     "output_type": "stream",
     "text": [
      "predict_single is now available\n",
      "Parts-of-speech conditional random field elements built in 1 second\n"
     ]
    }
   ],
   "source": [
    "\n",
    "# Check if the scrfcu has built its parts-of-speech conditional random field elements\n",
    "# Parts-of-speech CRF elements normally built in 29 minutes and 57 seconds\n",
    "t1 = time.time()\n",
    "if not hasattr(scrfcu, 'pos_symbol_crf'):\n",
    "    scrfcu.build_pos_conditional_random_field_elements(verbose=True)\n",
    "if hasattr(scrfcu, 'pos_predict_percent_fit_dict'):\n",
    "    print('predict_single is now available')\n",
    "else:\n",
    "    print('predict_single is not available')\n",
    "duration_str = humanize.precisedelta(time.time() - t1, minimum_unit='seconds', format='%0.0f')\n",
    "print(f'Parts-of-speech conditional random field elements built in {duration_str}')"
   ]
  },
  {
   "cell_type": "code",
   "execution_count": 6,
   "id": "3453a69d-7080-4ebf-96a8-528e9541ea19",
   "metadata": {},
   "outputs": [
    {
     "name": "stdout",
     "output_type": "stream",
     "text": [
      "I have 49,163 labeled parts of speech in here\n",
      "predict_single is now available\n",
      "Parts-of-speech stochastic gradient descent elements built in 8 seconds\n"
     ]
    }
   ],
   "source": [
    "\n",
    "# Check if the ssgdcu has built its parts-of-speech stochastic gradient decent elements\n",
    "t1 = time.time()\n",
    "if not hasattr(ssgdcu, 'pos_predict_percent_fit_dict'):\n",
    "    ssgdcu.build_pos_stochastic_gradient_descent_elements(sampling_strategy_limit=None, verbose=True)\n",
    "if hasattr(ssgdcu, 'pos_predict_percent_fit_dict'):\n",
    "    print('predict_single is now available')\n",
    "else:\n",
    "    print('predict_single is not available')\n",
    "duration_str = humanize.precisedelta(time.time() - t1, minimum_unit='seconds', format='%0.0f')\n",
    "print(f'Parts-of-speech stochastic gradient descent elements built in {duration_str}')"
   ]
  },
  {
   "cell_type": "code",
   "execution_count": 7,
   "id": "01e7d031-531c-4024-b9f4-03485a91a943",
   "metadata": {},
   "outputs": [
    {
     "name": "stdout",
     "output_type": "stream",
     "text": [
      "predict_single is now available\n",
      "POS classifier trained in 0 seconds\n"
     ]
    }
   ],
   "source": [
    "\n",
    "# Check if the crf has built its parts-of-speech classifier\n",
    "# POS classifier normally trained in 15 hours, 42 minutes and 41 seconds\n",
    "t1 = time.time()\n",
    "if not hasattr(crf, 'CRF'):\n",
    "    crf.build_pos_conditional_random_field_elements(verbose=True)\n",
    "if hasattr(crf, 'CRF'):\n",
    "    print('predict_single is now available')\n",
    "else:\n",
    "    print('predict_single is not available')\n",
    "duration_str = humanize.precisedelta(time.time() - t1, minimum_unit='seconds', format='%0.0f')\n",
    "print(f'POS classifier trained in {duration_str}')"
   ]
  },
  {
   "cell_type": "code",
   "execution_count": 8,
   "id": "d259dffb-c212-4493-a879-1ae5d503f8ec",
   "metadata": {},
   "outputs": [
    {
     "name": "stdout",
     "output_type": "stream",
     "text": [
      "I have 424,879 is-qualified vocabulary tokens in here\n",
      "Is-qualified LR elements built in 4 seconds\n"
     ]
    }
   ],
   "source": [
    "\n",
    "# Check if the lru has built its is-qualified classifier\n",
    "t1 = time.time()\n",
    "if not (hasattr(lru, 'ISQUALIFIED_LR') and hasattr(lru, 'ISQUALIFIED_CV')):\n",
    "    lru.build_isqualified_logistic_regression_elements(sampling_strategy_limit=None, verbose=True)\n",
    "duration_str = humanize.precisedelta(time.time() - t1, minimum_unit='seconds', format='%0.0f')\n",
    "print(f'Is-qualified LR elements built in {duration_str}')"
   ]
  },
  {
   "cell_type": "code",
   "execution_count": 9,
   "id": "a9d67a34-e133-45dc-9bf3-a830af359d77",
   "metadata": {},
   "outputs": [
    {
     "name": "stdout",
     "output_type": "stream",
     "text": [
      "I have 48,519 hand-labeled header htmls prepared\n",
      "7 iterations seen during training fit for a total of 48,519 records trained\n",
      "Is-header classifier trained in 6 seconds\n"
     ]
    }
   ],
   "source": [
    "\n",
    "# Train the isheader classifier\n",
    "t1 = time.time()\n",
    "ihu.build_pos_stochastic_gradient_descent_elements(verbose=True)\n",
    "duration_str = humanize.precisedelta(time.time() - t1, minimum_unit='seconds', format='%0.0f')\n",
    "print(f'Is-header classifier trained in {duration_str}')"
   ]
  },
  {
   "cell_type": "code",
   "execution_count": 10,
   "id": "dcef1d94-4466-4100-86cd-0d66f23d0d40",
   "metadata": {},
   "outputs": [
    {
     "name": "stdout",
     "output_type": "stream",
     "text": [
      "Last run on 2023-04-06 18:04:28.616613\n"
     ]
    }
   ],
   "source": [
    "\n",
    "winsound.Beep(freq, duration)\n",
    "print(f'Last run on {datetime.now()}')"
   ]
  },
  {
   "cell_type": "markdown",
   "id": "2f438163-0f14-4a74-978c-769c9dba95c8",
   "metadata": {},
   "source": [
    "\n",
    "---\n",
    "# Training"
   ]
  },
  {
   "cell_type": "code",
   "execution_count": 727,
   "id": "f02bfeac-67b7-4df6-a4a0-32ec3dec0022",
   "metadata": {},
   "outputs": [
    {
     "name": "stdout",
     "output_type": "stream",
     "text": [
      "I have 13,075 hand-labeled qualification strings in here\n",
      "I have 433,715 is-qualified vocabulary tokens in here\n",
      "Is-qualified classifer retrained in 19 seconds\n"
     ]
    }
   ],
   "source": [
    "\n",
    "# You need to run this again if you changed the\n",
    "# qualification dictionary below or in another notebook\n",
    "t1 = time.time()\n",
    "\n",
    "# Keep the total retraining time to less than two minutes by adjusting the sampling strategy limit\n",
    "lru.sync_basic_quals_dict(sampling_strategy_limit=None, verbose=False)\n",
    "\n",
    "lru.retrain_isqualified_classifier(verbose=True)\n",
    "duration_str = humanize.precisedelta(time.time() - t1, minimum_unit='seconds', format='%0.0f')\n",
    "print(f'Is-qualified classifer retrained in {duration_str}')"
   ]
  },
  {
   "cell_type": "markdown",
   "id": "52ad3579-ebc3-4d21-a7c3-f9bd168ac6ca",
   "metadata": {},
   "source": [
    "\n",
    "---\n",
    "# Inference"
   ]
  },
  {
   "cell_type": "code",
   "execution_count": 728,
   "id": "d334d815-e43b-474e-9dbb-db509176f6e5",
   "metadata": {
    "tags": []
   },
   "outputs": [
    {
     "name": "stdout",
     "output_type": "stream",
     "text": [
      "\n",
      "                MATCH (fn:FileNames {file_name: \"cf771117afc5276e_Assistant_Research_Professor_in_Ontologies_and_Curation_Aurora_CO_Indeed_com.html\"})\n",
      "                SET fn.percent_fit = \"0.5909090909090909\";\n",
      "\n",
      "Basic Qualifications for Sales Engineer Remote:\n",
      "*quals_list[0] = \"<p>Python: 1 year (Required)</p>\" (1.0)\n",
      "*quals_list[1] = \"<p>Regex: 1 year (Required)</p>\" (0.9998)\n",
      "*quals_list[2] = \"<p>Windows: 1 year (Required)</p>\" (0.9997)\n",
      "*quals_list[3] = \"<li>python: 1 year (Required)</li>\" (1.0)\n",
      "*quals_list[4] = \"<p>Sales: 4 years (Required)</p>\" (0.0)\n",
      "*quals_list[5] = \"<li>Windows: 1 year (Required)</li>\" (0.9997)\n",
      "*quals_list[6] = \"<p>POV: 1 year (Required)</p>\" (1.0)\n",
      "*quals_list[7] = \"<li>Should be comfortable with up to 30% travel.</li>\" (1.0)\n",
      "*quals_list[8] = \"<p>JavaScript: 1 year (Required)</p>\" (0.9996)\n",
      "*quals_list[9] = \"<li>Remote-first environment</li>\" (0.0363)\n",
      "*quals_list[10] = \"<li>Linux: 1 year (Required)</li>\" (0.9996)\n",
      "*quals_list[11] = \"<li>Your presentation and demos are crisp, informative and tailored to your audience and you use powerful storytelling to convey value.</li>\" (1.0)\n",
      "*quals_list[12] = \"<li>Work from home</li>\" (1.0)\n",
      "*quals_list[13] = \"<p>Java: 1 year (Required)</p>\" (0.0)\n",
      "*quals_list[14] = \"<li>Must have practical experience with modern monitoring solutions, incident management tools and IT operations and processes.</li>\" (0.0018)\n",
      "*quals_list[15] = \"<li>Minimum of 1 year experience writing code in modern programming or scripting language such as JavaScript, Python, NodeJS, Regex, Java or C++.</li>\" (1.0)\n",
      "*quals_list[16] = \"<p>RESTful API: 1 year (Required)</p>\" (0.9698)\n",
      "*quals_list[17] = \"<li>Java: 1 year (Required)</li>\" (0.0)\n",
      "*quals_list[18] = \"<li>Should have a working knowledge of AWS platform and have practical experience with services such as API endpoints, lambda functions and redshift.</li>\" (0.787)\n",
      "*quals_list[19] = \"<li>Values-based recognition (quarterly and annually)</li>\" (0.5559)\n",
      "*quals_list[20] = \"<li>Regex: 1 year (Required)</li>\" (0.9998)\n",
      "*quals_list[21] = \"<li>You are the technical expert who best understands, articulates and evangelizes the BigPanda approach to transforming event and incident management for prospects.</li>\" (1.0)\n",
      "*quals_list[22] = \"<li>POV: 1 year (Required)</li>\" (1.0)\n",
      "*quals_list[23] = \"<p>Linux: 1 year (Required)</p>\" (0.9996)\n",
      "*quals_list[24] = \"<li>You constantly build and maintain strong relationships with key customer stakeholders and internal BigPanda resources who all contribute to the success of your customers.</li>\" (1.0)\n",
      "*quals_list[25] = \"<li>RESTful API: 1 year (Required)</li>\" (0.9698)\n",
      "*quals_list[26] = \"<li>JavaScript: 1 year (Required)</li>\" (0.9996)\n",
      "*quals_list[27] = \"<p>MEDDPIC: 1 year (Required)</p>\" (1.0)\n",
      "*quals_list[28] = \"<p>With BigPanda, some of the world’s largest enterprises including Hulu, Cisco, United, Abbott, Marriott, Expedia and many others are able to reduce costs and increase efficiencies, accelerate business velocity, and deliver extraordinary customer experiences.</p>\" (0.16)\n",
      "*quals_list[29] = \"<li>Must have practical experience using value selling frameworks such as MEDDPIC and Command of the Message.</li>\" (0.0019)\n",
      "*quals_list[30] = \"<li>You collaborate with peers throughout BigPanda to learn, contribute and share best practices.</li>\" (1.0)\n",
      "*quals_list[31] = \"<li>Minimum of 3 years hands-on experience delivering use case driven POV/POCs.</li>\" (0.0674)\n",
      "*quals_list[32] = \"<li>Sales: 4 years (Required)</li>\" (0.0)\n",
      "*quals_list[33] = \"<li>Bachelor's degree or equivalent level of education and a minimum of 3 years experience as a sales engineer selling either monitoring, DevOps, event management or ITSM solutions to large scale IT organizations.</li>\" (0.0)\n",
      "*quals_list[34] = \"<li>Must have practical experience with RESTful APIs, Windows/Linux command line and SQL.</li>\" (0.9966)\n",
      "*quals_list[35] = \"<li>MEDDPIC: 1 year (Required)</li>\" (1.0)\n",
      "72.22%\n",
      "\n",
      "hunting_df.loc[8043, 'percent_fit'] = (000+000+000+000+000+000+000+000+000+000+000+000+000+000+000+000+000+000+000+000+000+000+000+000+000+000+000+000+000+000+000+000+000+000+000+000)/36\n",
      "8042/8093 = 99.4% completed\n",
      "Minimum-requirements-met percentages estimated in 9 minutes and 11 seconds\n"
     ]
    },
    {
     "data": {
      "image/png": "[encoded data removed]",
      "text/plain": [
       "<Figure size 1800x300 with 2 Axes>"
      ]
     },
     "metadata": {},
     "output_type": "display_data"
    }
   ],
   "source": [
    "\n",
    "t1 = time.time()\n",
    "\n",
    "# Loop through all the unset %fit values, set them if you can, break for help if you can't\n",
    "quals_list, file_name = lru.infer_from_hunting_dataframe(su=su, verbose=True)\n",
    "\n",
    "# Display as histogram\n",
    "lru.display_hunting_dataframe_as_histogram()\n",
    "\n",
    "# Show how long it took\n",
    "duration_str = humanize.precisedelta(time.time() - t1, minimum_unit='seconds', format='%0.0f')\n",
    "winsound.Beep(freq, duration)\n",
    "print(f'Minimum-requirements-met percentages estimated in {duration_str}')"
   ]
  },
  {
   "cell_type": "code",
   "execution_count": null,
   "id": "adde7906-399d-4a84-a2cb-ed327f307ebe",
   "metadata": {},
   "outputs": [],
   "source": [
    "\n",
    "# Restarting the kernel and getting to this cell took 32 minutes and 4 seconds\n",
    "duration_str = humanize.precisedelta(time.time() - t0, minimum_unit='seconds', format='%0.0f')\n",
    "print(f'Restarting the kernel and getting to this cell took {duration_str}'); raise"
   ]
  },
  {
   "cell_type": "code",
   "execution_count": 726,
   "id": "47bd03b8-c0a3-404c-a16d-eb4ce95c6561",
   "metadata": {},
   "outputs": [
    {
     "name": "stdout",
     "output_type": "stream",
     "text": [
      "Ability to make independent decisions about approaches and tools to reach specific goals and demonstrated experience in self-training and exploring new technologies\n",
      "Pickling to C:\\Users\\daveb\\OneDrive\\Documents\\GitHub\\job-hunting\\saves\\pkl\\basic_quals_dict.pkl\n"
     ]
    }
   ],
   "source": [
    "\n",
    "# Manually label the unscored qual\n",
    "qualification_str = quals_list[20]\n",
    "print(qualification_str); basic_quals_dict = s.load_object('basic_quals_dict')\n",
    "print(str(basic_quals_dict[qualification_str]) + '\\n' if(qualification_str in basic_quals_dict) else '', end='')\n",
    "basic_quals_dict[qualification_str] = 1\n",
    "s.store_objects(basic_quals_dict=basic_quals_dict)"
   ]
  },
  {
   "cell_type": "markdown",
   "id": "50146b21-cb1d-4475-9465-2a383f002533",
   "metadata": {},
   "source": [
    "\n",
    "----\n",
    "## Fix Parts-of-Speech and Quals for this posting"
   ]
  },
  {
   "cell_type": "code",
   "execution_count": 713,
   "id": "8ac6efb8-6b56-43dd-9079-d6a87491ecc5",
   "metadata": {},
   "outputs": [
    {
     "name": "stdout",
     "output_type": "stream",
     "text": [
      "cf771117afc5276e_Assistant_Research_Professor_in_Ontologies_and_Curation_Aurora_CO_Indeed_com.html\n",
      "CRF and child strings list recreated in 2 minutes and 30 seconds\n"
     ]
    }
   ],
   "source": [
    "\n",
    "t1 = time.time()\n",
    "file_path = os.path.join(cu.SAVES_HTML_FOLDER, file_name)\n",
    "if os.path.isfile(file_path):\n",
    "    child_strs_list = ha.get_child_strs_from_file(file_name=file_name)\n",
    "    cu.ensure_filename(file_name, verbose=False)\n",
    "    cu.populate_from_child_strings(child_strs_list, file_name, verbose=False)\n",
    "    print(file_name)\n",
    "    child_tags_list = ha.get_child_tags_list(child_strs_list)\n",
    "    feature_dict_list = cu.get_feature_dict_list(child_tags_list, child_strs_list)\n",
    "    feature_tuple_list = []\n",
    "    for feature_dict in feature_dict_list:\n",
    "        feature_tuple_list.append(hc.get_feature_tuple(\n",
    "            feature_dict, pos_lr_predict_single=slrcu.predict_single, pos_crf_predict_single=scrfcu.predict_single,\n",
    "            pos_sgd_predict_single=ssgdcu.predict_single\n",
    "        ))\n",
    "    crf_list = crf.CRF.predict_single(crf.sent2features(feature_tuple_list))\n",
    "duration_str = humanize.precisedelta(time.time() - t1, minimum_unit='seconds', format='%0.0f')\n",
    "print(f'CRF and child strings list recreated in {duration_str}')"
   ]
  },
  {
   "cell_type": "code",
   "execution_count": 714,
   "id": "affcb06a-3165-4349-a936-037af549d417",
   "metadata": {},
   "outputs": [
    {
     "name": "stdout",
     "output_type": "stream",
     "text": [
      "['H-O', 'O-SP', 'O-SP', 'O-JD', 'O-JD', 'H-SP', 'O-IP', 'O-SP', 'O-SP', 'O-SP', 'O-SP', 'O-SP', 'H-TS', 'O-CS', 'H-TS', 'O-CS', 'O-CS', 'O-JT', 'O-JT', 'H-TS', 'H-CS', 'O-JT', 'O-TS', 'O-TS', 'H-TS', 'O-TS', 'O-TS', 'O-TS', 'O-TS', 'O-TS', 'H-SP', 'O-SP', 'H-LN', 'O-LN', 'H-RQ', 'H-RQ', 'O-IP', 'O-RQ', 'O-IP', 'O-RQ', 'O-RQ', 'O-RQ', 'O-RQ', 'H-PQ', 'O-PQ', 'O-PQ', 'O-PQ', 'O-PQ', 'O-PQ', 'O-PQ', 'O-PQ', 'O-PQ', 'O-PQ', 'H-RQ', 'O-RQ', 'O-RQ', 'O-RQ', 'O-RQ', 'O-RQ', 'O-RQ', 'O-RQ', 'O-RQ', 'O-RQ', 'O-RQ', 'O-RQ', 'H-IP', 'H-IP', 'O-IP', 'O-IP', 'O-IP', 'O-IP', 'O-IP', 'O-IP', 'H-IP', 'O-IP', 'H-SP', 'O-SP', 'H-SP', 'O-O', 'O-LN', 'O-IP', 'H-SP', 'H-LN', 'O-LN', 'H-LN', 'O-LN', 'H-LN', 'O-LN', 'H-LN', 'O-LN', 'O-LN', 'H-IP', 'H-O', 'O-IP', 'H-CS', 'H-O', 'O-CS', 'H-OL', 'H-O', 'O-OL', 'H-CS', 'H-O', 'O-CS', 'H-JD', 'H-O', 'O-JD', 'H-PD', 'H-O', 'O-PD', 'H-PD', 'H-O', 'O-PD', 'H-IP', 'H-O', 'O-IP', 'H-IP', 'H-O', 'O-IP', 'H-JT', 'H-O', 'O-JT', 'H-O', 'H-O', 'H-IP']\n",
      "[37, 39, 40, 41, 42, 54, 55, 56, 57, 58, 59, 60, 61, 62, 63, 64]\n"
     ]
    },
    {
     "data": {
      "text/html": [
       "0 H-O) <span style=\"color:#8c564bff;\"><h2 class=\"css-tmzs7i e1tiznh50\" id=\"jobDetails\" tabindex=\"-1\">Job details (H-O Other Header)</h2></span><br />1 O-SP) <span style=\"color:#17becf80;\"><div class=\"css-fhkva6 eu4oa1w0\">Salary (O-SP Supplemental Pay Non-header)</div></span><br />2 O-SP) <span style=\"color:#17becf80;\"><span class=\"css-2iqe2o eu4oa1w0\">$90,000 - $110,000 a year (O-SP Supplemental Pay Non-header)</span></span><br />3 O-JD) <span style=\"color:#98df8a80;\"><div class=\"css-fhkva6 eu4oa1w0\">Job Type (O-JD Job Duration Non-header)</div></span><br />4 O-JD) <span style=\"color:#98df8a80;\"><div>Full-time (O-JD Job Duration Non-header)</div></span><br />5 H-SP) <span style=\"color:#17becfff;\">Benefits (H-SP Supplemental Pay Header)</span><br />6 O-IP) <span style=\"color:#ffbb7880;\"><div class=\"css-brixrz e1wnkr790\">Pulled from the full job description (O-IP Interview Procedures Non-header)</div></span><br />7 O-SP) <span style=\"color:#17becf80;\"><div class=\"css-tvvxwd ecydgvn1\">Health insurance (O-SP Supplemental Pay Non-header)</div></span><br />8 O-SP) <span style=\"color:#17becf80;\"><div class=\"css-tvvxwd ecydgvn1\">Life insurance (O-SP Supplemental Pay Non-header)</div></span><br />9 O-SP) <span style=\"color:#17becf80;\"><div class=\"css-tvvxwd ecydgvn1\">Paid time off (O-SP Supplemental Pay Non-header)</div></span><br />10 O-SP) <span style=\"color:#17becf80;\"><div class=\"css-tvvxwd ecydgvn1\">Retirement plan (O-SP Supplemental Pay Non-header)</div></span><br />11 O-SP) <span style=\"color:#17becf80;\"><div class=\"css-tvvxwd ecydgvn1\">Tuition reimbursement (O-SP Supplemental Pay Non-header)</div></span><br />12 H-TS) <span style=\"color:#9edae5ff;\"><h2 class=\"jobsearch-JobDescriptionSection-jobDescriptionTitle icl-u-xs-my--md\" id=\"jobDescriptionTitle\">Full Job Description (H-TS Task Scope Header)</h2></span><br />13 O-CS) <span style=\"color:#1f77b480;\">Research Faculty (O-CS Corporate Scope Non-header)</span><br />14 H-TS) <span style=\"color:#9edae5ff;\"><b>Description (H-TS Task Scope Header)</b></span><br />15 O-CS) <span style=\"color:#1f77b480;\">University of Colorado Anschutz Medical Campus (O-CS Corporate Scope Non-header)</span><br />16 O-CS) <span style=\"color:#1f77b480;\"><b>Department: Biomedical Informatics (O-CS Corporate Scope Non-header)</b></span><br />17 O-JT) <span style=\"color:#d6272880;\"><b>Job Title: Assistant Research Professor in Ontologies and Curation (O-JT Job Title Non-header)</b></span><br />18 O-JT) <span style=\"color:#d6272880;\"><b>Position #:00807855 – Requisition #:29362 (O-JT Job Title Non-header)</b></span><br />19 H-TS) <span style=\"color:#9edae5ff;\"><b>Job Summary: (H-TS Task Scope Header)</b></span><br />20 H-CS) <span style=\"color:#1f77b4ff;\">The Department of Biomedical Informatics at the University of Colorado School of Medicine invites applications for an (H-CS Corporate Scope Header)</span><br />21 O-JT) <span style=\"color:#d6272880;\"><i>Assistant Research Professor Position, Ontologies and Curation (O-JT Job Title Non-header)</i></span><br />22 O-TS) <span style=\"color:#9edae580;\">. This new Assistant Research Professor will join a highly interactive, supportive, and interdisciplinary group of faculty, staff scientists, postdoctoral fellows, and students and enjoy access to state-of-the-art equipment and facilities on the Anschutz Medical Campus. The Assistant Research Professor in Ontologies and Curation will play an important role in advancing the mission of the Translational and Integrative Sciences Laboratory (TISLab), which is led by Dr. Melissa Haendel. The researchers in the Department of Biomedical Informatics focus on computational approaches that advance research and medical practice. The TISLab focuses on areas such as automated and manual biocuration, knowledge representation, curation and ontology development, automated reasoning, and the development and evaluation of algorithms and software systems that advance these practices in support of artificial intelligence. The Department of Biomedical Informatics (DBMI) is located on the Anschutz Medical Campus with the UC Health University of Colorado Hospital, Colorado Children's, and Rocky Mountain Regional VA Medical Center. The Anschutz Campus is home to Colorado’s only Comprehensive Cancer Center and the Colorado Clinical and Translational Sciences Institute. There are many cross-campus collaboration opportunities to translate data-intensive research advances into improved care. (O-TS Task Scope Non-header)</span><br />23 O-TS) <span style=\"color:#9edae580;\"><p>The Assistant Research Professor in Ontologies and Curation will develop and contribute to data models, ontologies, and semantic data harmonization and integration strategies. The candidate will contribute to a diverse portfolio of TISLab research programs such as the cross-species genotype-phenotype program the Monarch Initiative, the Downs Syndrome program INCLUDE, the NCATS Data Translator, and the Bridge2AI program. Other duties include contributing to publications, and collaborations with community-wide efforts aimed at promoting open, integrated, and rigorous practices in research, data engineering, and scholarly communication; this may involve traveling to conferences up to 3 times annually. (O-TS Task Scope Non-header)</p></span><br />24 H-TS) <span style=\"color:#9edae5ff;\"><p>Key Responsibilities: (H-TS Task Scope Header)</p></span><br />25 O-TS) <span style=\"color:#9edae580;\"><li>Make contributions to open-source software and informatics development projects in collaboration with lab members and external collaborators. (O-TS Task Scope Non-header)</li></span><br />26 O-TS) <span style=\"color:#9edae580;\"><li>Collaborate with laboratory members and external colleagues on open-source software and informatics development projects. (O-TS Task Scope Non-header)</li></span><br />27 O-TS) <span style=\"color:#9edae580;\"><li>Conduct scientific curation, author publications, assist in the preparation of progress reports and other communique and assist in documentation efforts for TISLab projects, internal knowledge base, and training resources (O-TS Task Scope Non-header)</li></span><br />28 O-TS) <span style=\"color:#9edae580;\"><li>Liaise with all stakeholders of the data, from the producers/submitters to the consumers. (O-TS Task Scope Non-header)</li></span><br />29 O-TS) <span style=\"color:#9edae580;\">Participate in service activities within the laboratory, department, the university, and the broader scientific community that contribute to their missions and that promote the success and welfare of the broader scientific community. (O-TS Task Scope Non-header)</span><br />30 H-SP) <span style=\"color:#17becfff;\"><b>Why Join Us: (H-SP Supplemental Pay Header)</b></span><br />31 O-SP) <span style=\"color:#17becf80;\"><div>The University of Colorado offers a comprehensive benefits package that includes health insurance, life insurance, retirement plans, tuition benefits, ECO pass, paid time off – vacation, sick, and holidays and more. To see what benefits are available, please visit: (O-SP Supplemental Pay Non-header)</div></span><br />32 H-LN) <span style=\"color:#9467bdff;\"><b>Diversity and Equity: (H-LN Legal Notifications Header)</b></span><br />33 O-LN) <span style=\"color:#9467bd80;\"><p>The University of Colorado Anschutz Medical Campus is committed to recruiting and supporting a diverse student body, faculty and administrative staff. The university strives to promote a culture of inclusiveness, respect, communication and understanding. We encourage applications from women, ethnic minorities, persons with disabilities, persons within the LGBTQ+ community and all veterans. The University of Colorado is committed to diversity and equality in education and employment. (O-LN Legal Notifications Non-header)</p></span><br />34 H-RQ) <span style=\"color:#bcbd22ff;\"><b>Qualifications: (H-RQ Required Qualifications Header)</b></span><br />35 H-RQ) <span style=\"color:#bcbd22ff;\"><b>Minimum Qualifications: (H-RQ Required Qualifications Header)</b></span><br />36 O-IP) <span style=\"color:#ffbb7880;\"><i>Applicants must meet minimum qualifications at the time of hire. (O-IP Interview Procedures Non-header)</i></span><br /><hr />37 O-RQ) <span style=\"color:#bcbd2280;\"><li>Ph.D. in biological sciences (e.g., genetics, cell biology, neuroscience, etc.), biomedical informatics, or related field (O-RQ Required Qualifications Non-header)</li></span><br />38 O-IP) <span style=\"color:#ffbb7880;\"><li>5+ years of experience in one of the relevant fields of expertise listed above (O-IP Interview Procedures Non-header)</li></span><br />39 O-RQ) <span style=\"color:#bcbd2280;\"><li>5+ years of hands-on experience with generating/processing/curating biological data (O-RQ Required Qualifications Non-header)</li></span><br />40 O-RQ) <span style=\"color:#bcbd2280;\"><li>3+ years of experience using medical/scientific terminologies, ontologies, data models, or other semantic technologies for annotation (O-RQ Required Qualifications Non-header)</li></span><br />41 O-RQ) <span style=\"color:#bcbd2280;\"><li>3+ years of experience developing and evaluating data curation workflows, data quality, and validation according to semantic standards (O-RQ Required Qualifications Non-header)</li></span><br />42 O-RQ) <span style=\"color:#bcbd2280;\"><li>Evidence of professional service to their place(s) of employment (institutional or organizational) or other national/international organizations (e.g., professional societies, etc.) over at least the past 2 years. (O-RQ Required Qualifications Non-header)</li></span><br />43 H-PQ) <span style=\"color:#c7c7c7ff;\"><b>Preferred Qualifications: (H-PQ Preferred Qualifications Header)</b></span><br />44 O-PQ) <span style=\"color:#c7c7c780;\"><li>Experience with software project management tools and version control systems (e.g., Git/GitHub, Jira, Confluence) (O-PQ Preferred Qualifications Non-header)</li></span><br />45 O-PQ) <span style=\"color:#c7c7c780;\"><li>Track record of productivity in the practice of research as evidenced through the development and dissemination of software, data, and knowledgebases, preprints, and/or publications (O-PQ Preferred Qualifications Non-header)</li></span><br />46 O-PQ) <span style=\"color:#c7c7c780;\"><li>Record of creation of semantic products such as terminologies or contributions to open-source software projects (O-PQ Preferred Qualifications Non-header)</li></span><br />47 O-PQ) <span style=\"color:#c7c7c780;\"><li>Experience with Open Biological and Biomedical Ontologies (OBO) and related OBO Library tools (O-PQ Preferred Qualifications Non-header)</li></span><br />48 O-PQ) <span style=\"color:#c7c7c780;\"><li>Demonstrated skills in the use of common data wrangling or Extract-Transform-Load software; or demonstrated skills in programming or in scripting languages (e.g., Python, pandas, R) (O-PQ Preferred Qualifications Non-header)</li></span><br />49 O-PQ) <span style=\"color:#c7c7c780;\"><li>Demonstrated experience in the collection, storage, transformation, standardization, harmonization, and analysis of legacy data stored in a variety of formats (CSV, JSON, Relational databases like MySQL, PostgreSQL, SQLServer Oracle, unstructured text, etc.). (O-PQ Preferred Qualifications Non-header)</li></span><br />50 O-PQ) <span style=\"color:#c7c7c780;\"><li>Experience using SPARQL and/or graph query languages such as Cypher (O-PQ Preferred Qualifications Non-header)</li></span><br />51 O-PQ) <span style=\"color:#c7c7c780;\"><li>Experience modeling and managing semantically annotated data (O-PQ Preferred Qualifications Non-header)</li></span><br />52 O-PQ) <span style=\"color:#c7c7c780;\"><li>Experience managing informatics/information science projects (O-PQ Preferred Qualifications Non-header)</li></span><br />53 H-RQ) <span style=\"color:#bcbd22ff;\"><b>Knowledge, Skills and Abilities: (H-RQ Required Qualifications Header)</b></span><br />54 O-RQ) <span style=\"color:#bcbd2280;\"><li>A disposition to contribute to building a diverse and inclusive research team. (O-RQ Required Qualifications Non-header)</li></span><br />55 O-RQ) <span style=\"color:#bcbd2280;\"><li>Ability to conduct scientific curation and author publications on this and related subjects, and to work effectively with others as part of a multidisciplinary scientific team. (O-RQ Required Qualifications Non-header)</li></span><br />56 O-RQ) <span style=\"color:#bcbd2280;\"><li>An understanding of the life cycle of data and in particular the sharing of data for later reuse, as well as experience in the creation of metadata for curated datasets (O-RQ Required Qualifications Non-header)</li></span><br />57 O-RQ) <span style=\"color:#bcbd2280;\"><li>An understanding of various data license types and how they impact the use and reuse of curated data available to the public and/or researchers. (O-RQ Required Qualifications Non-header)</li></span><br />58 O-RQ) <span style=\"color:#bcbd2280;\"><li>Be self-directed. Ability to make independent decisions about approaches and tools to reach specific goals and demonstrated experience in self-training and exploring new technologies. The ability to set their own schedule and goals, and at the same time, have the willingness and ability to ask for guidance and assistance when needed. (O-RQ Required Qualifications Non-header)</li></span><br />59 O-RQ) <span style=\"color:#bcbd2280;\"><li>Be motivated and excited to learn. A successful candidate is able to adapt to new environments, approaches, and tools, and when necessary, be able to extend approaches for a new purpose or, if necessary, develop an entirely new approach to solve a problem. (O-RQ Required Qualifications Non-header)</li></span><br />60 O-RQ) <span style=\"color:#bcbd2280;\"><li>Be committed to quality. This position requires a focus on documentation and quality assurance. (O-RQ Required Qualifications Non-header)</li></span><br />61 O-RQ) <span style=\"color:#bcbd2280;\"><li>Be communicative. Able to communicate effectively with geographically-distributed collaborators, and able to convey complex, technical topics clearly to multiple audiences. This includes email, instant messaging (e.g., Slack), and code and dependencies documentation. (O-RQ Required Qualifications Non-header)</li></span><br />62 O-RQ) <span style=\"color:#bcbd2280;\"><li>Be collaborative, contributing to open source software development and informatics projects within DBMI and the TISLab and with members from diverse organizations from around the world. (O-RQ Required Qualifications Non-header)</li></span><br />63 O-RQ) <span style=\"color:#bcbd2280;\"><li>Be dedicated to diversity, participating in activities within the laboratory, department, the university, and the broader scientific community that promote the success and welfare of all people. (O-RQ Required Qualifications Non-header)</li></span><br />64 O-RQ) <span style=\"color:#bcbd2280;\"><li>Ability to balance multiple priorities and initiatives in parallel. (O-RQ Required Qualifications Non-header)</li></span><br /><hr />65 H-IP) <span style=\"color:#ffbb78ff;\"><b>How to Apply: (H-IP Interview Procedures Header)</b></span><br />66 H-IP) <span style=\"color:#ffbb78ff;\"><p>For full consideration, please submit the following document(s): (H-IP Interview Procedures Header)</p></span><br />67 O-IP) <span style=\"color:#ffbb7880;\"><li>A letter of interest describing relevant job experiences as they relate to listed job qualifications and interest in the position (O-IP Interview Procedures Non-header)</li></span><br />68 O-IP) <span style=\"color:#ffbb7880;\"><li>Curriculum vitae / Resume (O-IP Interview Procedures Non-header)</li></span><br />69 O-IP) <span style=\"color:#ffbb7880;\"><li>Three to five professional references including name, address, phone number (mobile number if appropriate), and email address (O-IP Interview Procedures Non-header)</li></span><br />70 O-IP) <span style=\"color:#ffbb7880;\"><p>Note: This position is open to applicants seeking remote work opportunities. (O-IP Interview Procedures Non-header)</p></span><br />71 O-IP) <span style=\"color:#ffbb7880;\"><p>Applications are accepted electronically ONLY at www.cu.edu/cu-careers. (O-IP Interview Procedures Non-header)</p></span><br />72 O-IP) <span style=\"color:#ffbb7880;\"><p>Questions should be directed to: Michelle Fiandra, michelle.fiandra@cuanschutz.edu (O-IP Interview Procedures Non-header)</p></span><br />73 H-IP) <span style=\"color:#ffbb78ff;\"><b>Screening of Applications Begins: (H-IP Interview Procedures Header)</b></span><br />74 O-IP) <span style=\"color:#ffbb7880;\"><p>Immediately and continues until position is filled. (O-IP Interview Procedures Non-header)</p></span><br />75 H-SP) <span style=\"color:#17becfff;\"><b>Anticipated Pay Range: (H-SP Supplemental Pay Header)</b></span><br />76 O-SP) <span style=\"color:#17becf80;\"><p>The starting salary range (or hiring range) for this position has been established as $90,000 to $110,000. (O-SP Supplemental Pay Non-header)</p></span><br />77 H-SP) <span style=\"color:#17becfff;\">The above salary range ( (H-SP Supplemental Pay Header)</span><br />78 O-O) <span style=\"color:#8c564b80;\"><i>or hiring range (O-O Other Non-header)</i></span><br />79 O-LN) <span style=\"color:#9467bd80;\">) represents the University’s good faith and reasonable estimate of the range of possible compensation at the time of posting. This position is not eligible for overtime compensation unless it is non-exempt. (O-LN Legal Notifications Non-header)</span><br />80 O-IP) <span style=\"color:#ffbb7880;\"><p>Your total compensation goes beyond the number on your paycheck. The University of Colorado provides generous leave, health plans and retirement contributions that add to your bottom line. (O-IP Interview Procedures Non-header)</p></span><br />81 H-SP) <span style=\"color:#17becfff;\"><p>Total Compensation Calculator: (H-SP Supplemental Pay Header)</p></span><br />82 H-LN) <span style=\"color:#9467bdff;\"><b>ADA Statement: (H-LN Legal Notifications Header)</b></span><br />83 O-LN) <span style=\"color:#9467bd80;\"><p>The University will provide reasonable accommodations to applicants with disabilities throughout the employment application process. To request an accommodation pursuant to the Americans with Disabilities Act, please contact the Human Resources ADA Coordinator at hr.adacoordinator@ucdenver.edu. (O-LN Legal Notifications Non-header)</p></span><br />84 H-LN) <span style=\"color:#9467bdff;\"><b>Background Check Statement: (H-LN Legal Notifications Header)</b></span><br />85 O-LN) <span style=\"color:#9467bd80;\"><p>The University of Colorado Anschutz Medical Campus is dedicated to ensuring a safe and secure environment for our faculty, staff, students and visitors. To assist in achieving that goal, we conduct background investigations for all prospective employees as well as sex offender screenings. (O-LN Legal Notifications Non-header)</p></span><br />86 H-LN) <span style=\"color:#9467bdff;\"><b>Vaccination Statement: (H-LN Legal Notifications Header)</b></span><br />87 O-LN) <span style=\"color:#9467bd80;\"><p>The University of Colorado has a requirement for COVID-19 vaccinations and full completion thereof by 9/1/21 or upon start date. Information regarding this requirement, and exemptions can be found at: (O-LN Legal Notifications Non-header)</p></span><br />88 H-LN) <span style=\"color:#9467bdff;\"><p>Unit-Specific Exemptions: (H-LN Legal Notifications Header)</p></span><br />89 O-LN) <span style=\"color:#9467bd80;\"><li>Anschutz Campus – Accommodations may be granted for medical or religious reasons. (O-LN Legal Notifications Non-header)</li></span><br />90 O-LN) <span style=\"color:#9467bd80;\"><p>The University of Colorado seeks individuals with demonstrated commitment to creating an inclusive learning and working environment. We value the ability to engage effectively with students, faculty and staff of diverse backgrounds. (O-LN Legal Notifications Non-header)</p></span><br />91 H-IP) <span style=\"color:#ffbb78ff;\"><b>Application Materials Required (H-IP Interview Procedures Header)</b></span><br />92 H-O) <span style=\"color:#8c564bff;\"><b>: (H-O Other Header)</b></span><br />93 O-IP) <span style=\"color:#ffbb7880;\">Cover Letter, Resume/CV, List of References, Additional Attachments - Refer to Application Materials Instructions Below (O-IP Interview Procedures Non-header)</span><br />94 H-CS) <span style=\"color:#1f77b4ff;\"><b>Job Category (H-CS Corporate Scope Header)</b></span><br />95 H-O) <span style=\"color:#8c564bff;\"><b>: (H-O Other Header)</b></span><br />96 O-CS) <span style=\"color:#1f77b480;\">Faculty (O-CS Corporate Scope Non-header)</span><br />97 H-OL) <span style=\"color:#c49c94ff;\"><b>Primary Location (H-OL Office Location Header)</b></span><br />98 H-O) <span style=\"color:#8c564bff;\"><b>: (H-O Other Header)</b></span><br />99 O-OL) <span style=\"color:#c49c9480;\">Aurora (O-OL Office Location Non-header)</span><br />100 H-CS) <span style=\"color:#1f77b4ff;\"><b>Department (H-CS Corporate Scope Header)</b></span><br />101 H-O) <span style=\"color:#8c564bff;\"><b>: (H-O Other Header)</b></span><br />102 O-CS) <span style=\"color:#1f77b480;\">U0001 - DENVER & ANSCHUTZ MED CAMPUS - 21925 - SOM-BIOMED Informatics Gen Ops (O-CS Corporate Scope Non-header)</span><br />103 H-JD) <span style=\"color:#98df8aff;\"><b>Schedule (H-JD Job Duration Header)</b></span><br />104 H-O) <span style=\"color:#8c564bff;\"><b>: (H-O Other Header)</b></span><br />105 O-JD) <span style=\"color:#98df8a80;\">Full-time (O-JD Job Duration Non-header)</span><br />106 H-PD) <span style=\"color:#f7b6d2ff;\"><b>Posting Date (H-PD Post Date Header)</b></span><br />107 H-O) <span style=\"color:#8c564bff;\"><b>: (H-O Other Header)</b></span><br />108 O-PD) <span style=\"color:#f7b6d280;\">Mar 20, 2023 (O-PD Post Date Non-header)</span><br />109 H-PD) <span style=\"color:#f7b6d2ff;\"><b>Unposting Date (H-PD Post Date Header)</b></span><br />110 H-O) <span style=\"color:#8c564bff;\"><b>: (H-O Other Header)</b></span><br />111 O-PD) <span style=\"color:#f7b6d280;\">Ongoing (O-PD Post Date Non-header)</span><br />112 H-IP) <span style=\"color:#ffbb78ff;\"><b>Posting Contact Name (H-IP Interview Procedures Header)</b></span><br />113 H-O) <span style=\"color:#8c564bff;\"><b>: (H-O Other Header)</b></span><br />114 O-IP) <span style=\"color:#ffbb7880;\">Michelle Fiandra (O-IP Interview Procedures Non-header)</span><br />115 H-IP) <span style=\"color:#ffbb78ff;\"><b>Posting Contact Email (H-IP Interview Procedures Header)</b></span><br />116 H-O) <span style=\"color:#8c564bff;\"><b>: (H-O Other Header)</b></span><br />117 O-IP) <span style=\"color:#ffbb7880;\">michelle.fiandra@cuanschutz.edu (O-IP Interview Procedures Non-header)</span><br />118 H-JT) <span style=\"color:#d62728ff;\"><b>Position Number (H-JT Job Title Header)</b></span><br />119 H-O) <span style=\"color:#8c564bff;\"><b>: (H-O Other Header)</b></span><br />120 O-JT) <span style=\"color:#d6272880;\">00807855 (O-JT Job Title Non-header)</span><br />121 H-O) <span style=\"color:#8c564bff;\"><h2 class=\"css-14vqcyj e1tiznh50\">Hiring Insights (H-O Other Header)</h2></span><br />122 H-O) <span style=\"color:#8c564bff;\"><h3 class=\"css-1s8hy3a e1tiznh50\">Job activity (H-O Other Header)</h3></span><br />123 H-IP) <span style=\"color:#ffbb78ff;\"><span class=\"css-kyg8or eu4oa1w0\">Posted 1 day ago (H-IP Interview Procedures Header)</span></span><br />"
      ],
      "text/plain": [
       "<IPython.core.display.HTML object>"
      ]
     },
     "metadata": {},
     "output_type": "display_data"
    },
    {
     "name": "stdout",
     "output_type": "stream",
     "text": [
      "[37, 39, 40, 41, 42, 54, 55, 56, 57, 58, 59, 60, 61, 62, 63, 64]\n"
     ]
    }
   ],
   "source": [
    "\n",
    "db_pos_list = []\n",
    "for navigable_parent in child_strs_list:\n",
    "    db_pos_list = cu.append_parts_of_speech_list(navigable_parent, pos_list=db_pos_list)\n",
    "pos_list, indices_list = su.visualize_basic_quals_section(crf_list, child_strs_list, db_pos_list=db_pos_list, verbose=True)\n",
    "winsound.Beep(freq, duration)"
   ]
  },
  {
   "cell_type": "code",
   "execution_count": null,
   "id": "91379a3d-1a77-4d8b-9ef6-a76f12204ac2",
   "metadata": {},
   "outputs": [],
   "source": [
    "raise"
   ]
  },
  {
   "cell_type": "code",
   "execution_count": 708,
   "id": "1d97acb2-2b60-4a56-9b3b-ecfc2b6582e6",
   "metadata": {
    "tags": []
   },
   "outputs": [
    {
     "name": "stdout",
     "output_type": "stream",
     "text": [
      "[37, 39, 40, 41, 42, 54, 55, 56, 57, 58, 59, 60, 61, 62, 63, 64]\n",
      "120 O-LN) 00807855\n"
     ]
    }
   ],
   "source": [
    "\n",
    "# Display the context of an individual child string\n",
    "idx = 120\n",
    "print(indices_list); child_str = child_strs_list[idx]; pos_symbol = pos_list[idx]; basic_quals_dict = s.load_object('basic_quals_dict')\n",
    "print(str(basic_quals_dict[child_str]) + '\\n' if(child_str in basic_quals_dict) else '', end='')\n",
    "print(f'{idx} {pos_symbol}) {child_str}')"
   ]
  },
  {
   "cell_type": "code",
   "execution_count": 605,
   "id": "b2f46926-880b-4aed-bc99-4a6bd9ed7903",
   "metadata": {},
   "outputs": [
    {
     "name": "stdout",
     "output_type": "stream",
     "text": [
      "Pickling to C:\\Users\\daveb\\OneDrive\\Documents\\GitHub\\job-hunting\\saves\\pkl\\basic_quals_dict.pkl\n",
      "\"<li>Ability to balance multiple priorities and initiatives in parallel.</li>\" in basic_quals_dict: 1\n"
     ]
    }
   ],
   "source": [
    "\n",
    "# Hand-label this particular child string in the quals dictionary\n",
    "basic_quals_dict = s.load_object('basic_quals_dict')\n",
    "basic_quals_dict[child_str] = 1\n",
    "s.store_objects(basic_quals_dict=basic_quals_dict); print(f'\"{child_str}\" in basic_quals_dict: {basic_quals_dict[child_str]}')"
   ]
  },
  {
   "cell_type": "code",
   "execution_count": 709,
   "id": "4005f4a8-f07c-4538-8d1b-210d32dd3199",
   "metadata": {},
   "outputs": [
    {
     "data": {
      "text/plain": [
       "[{'navigable_parent': '00807855', 'is_header': 'False', 'is_task_scope': 'False', 'is_minimum_qualification': 'False', 'is_preferred_qualification': 'False', 'is_legal_notification': 'False', 'is_job_title': 'True', 'is_office_location': 'False', 'is_job_duration': 'False', 'is_supplemental_pay': 'False', 'is_educational_requirement': 'False', 'is_interview_procedure': 'False', 'is_corporate_scope': 'False', 'is_posting_date': 'False', 'is_other': 'False'}]"
      ]
     },
     "execution_count": 709,
     "metadata": {},
     "output_type": "execute_result"
    }
   ],
   "source": [
    "\n",
    "def do_cypher_tx(tx, navigable_parent, verbose=False):\n",
    "    cypher_str = '''\n",
    "        MATCH (np:NavigableParents {navigable_parent: $navigable_parent})\n",
    "        SET\n",
    "            np.is_header = 'False',\n",
    "            np.is_task_scope = 'False',\n",
    "            np.is_minimum_qualification = 'False',\n",
    "            np.is_preferred_qualification = 'False',\n",
    "            np.is_educational_requirement = 'False',\n",
    "            np.is_legal_notification = 'False',\n",
    "            np.is_other = 'False',\n",
    "            np.is_corporate_scope = 'False',\n",
    "            np.is_job_title = 'True',\n",
    "            np.is_office_location = 'False',\n",
    "            np.is_job_duration = 'False',\n",
    "            np.is_supplemental_pay = 'False',\n",
    "            np.is_interview_procedure = 'False',\n",
    "            np.is_posting_date = 'False'\n",
    "        ''' + cu.return_everything_str + ';'\n",
    "    return [dict(record.items()) for record in tx.run(query=cypher_str, parameters={'navigable_parent': navigable_parent})]\n",
    "with cu.driver.session() as session: row_objs_list = session.write_transaction(do_cypher_tx, navigable_parent=child_str, verbose=False)\n",
    "ihu.retrain_classifier(row_objs_list[0]['navigable_parent'], row_objs_list[0]['is_header'], verbose=False); row_objs_list"
   ]
  },
  {
   "cell_type": "code",
   "execution_count": 685,
   "id": "56d17dac-be9e-4bc3-aa01-58eed1baa9af",
   "metadata": {},
   "outputs": [
    {
     "data": {
      "text/plain": [
       "[{'navigable_parent': '<b>Posting Date</b>', 'is_header': None, 'is_task_scope': None, 'is_minimum_qualification': None, 'is_preferred_qualification': None, 'is_legal_notification': None, 'is_job_title': None, 'is_office_location': None, 'is_job_duration': None, 'is_supplemental_pay': None, 'is_educational_requirement': None, 'is_interview_procedure': None, 'is_corporate_scope': None, 'is_posting_date': None, 'is_other': None}]"
      ]
     },
     "execution_count": 685,
     "metadata": {},
     "output_type": "execute_result"
    }
   ],
   "source": [
    "\n",
    "# Show what's in the database already for this html string\n",
    "def do_cypher_tx(tx, navigable_parent, verbose=False):\n",
    "    cypher_str = '''\n",
    "        MATCH (np:NavigableParents {navigable_parent: $navigable_parent})\n",
    "        ''' + cu.return_everything_str + ';'\n",
    "    results_list = tx.run(query=cypher_str, parameters={'navigable_parent': navigable_parent})\n",
    "    \n",
    "    return [dict(record.items()) for record in results_list]\n",
    "with cu.driver.session() as session:\n",
    "    row_objs_list = session.write_transaction(do_cypher_tx, navigable_parent=child_str, verbose=False)\n",
    "row_objs_list"
   ]
  },
  {
   "cell_type": "markdown",
   "id": "181dfa2e-4e09-4da7-b046-98f5c170ec67",
   "metadata": {},
   "source": [
    "\n",
    "----\n",
    "## Maintenance"
   ]
  },
  {
   "cell_type": "code",
   "execution_count": 257,
   "id": "c767d2cb-2c13-421a-b29e-546d2b1b401f",
   "metadata": {},
   "outputs": [
    {
     "name": "stdout",
     "output_type": "stream",
     "text": [
      "Pickling to C:\\Users\\daveb\\OneDrive\\Documents\\GitHub\\job-hunting\\saves\\pkl\\basic_quals_dict.pkl\n",
      "\"<li>Leading the development of advanced AI and machine learning models to solve complex business problems</li>\" in basic_quals_dict: False\n"
     ]
    }
   ],
   "source": [
    "\n",
    "# Remove this particular child string from the quals dictionary and database\n",
    "basic_quals_dict = s.load_object('basic_quals_dict')\n",
    "child_str = child_strs_list[idx]\n",
    "basic_quals_dict.pop(child_str, None)\n",
    "# basic_quals_dict[child_str] = 0\n",
    "s.store_objects(basic_quals_dict=basic_quals_dict)\n",
    "print(f'\"{child_str}\" in basic_quals_dict: {child_str in basic_quals_dict}')\n",
    "def do_cypher_tx(tx, qualification_str, verbose=False):\n",
    "    cypher_str = '''\n",
    "        MATCH (qs:QualificationStrings {qualification_str: $qualification_str})\n",
    "        DETACH DELETE qs;\n",
    "        '''\n",
    "    results_list = tx.run(query=cypher_str, parameters={'qualification_str': qualification_str})\n",
    "\n",
    "    return [dict(record.items()) for record in results_list]\n",
    "with cu.driver.session() as session:\n",
    "    row_objs_list = session.write_transaction(do_cypher_tx, qualification_str=child_str, verbose=False)"
   ]
  },
  {
   "cell_type": "code",
   "execution_count": null,
   "id": "872a9fa5-9f15-4bcc-a3df-b75dbb52ed51",
   "metadata": {},
   "outputs": [],
   "source": [
    "\n",
    "# Remove file name from database\n",
    "for file_name in ['']:\n",
    "    cu.delete_filename_node(file_name, verbose=True)"
   ]
  },
  {
   "cell_type": "code",
   "execution_count": null,
   "id": "72f2828f-ab7b-4550-b5cc-92078c40f331",
   "metadata": {},
   "outputs": [],
   "source": []
  }
 ],
 "metadata": {
  "kernelspec": {
   "display_name": "Job Hunting (Python 3.10.9)",
   "language": "python",
   "name": "jh_env"
  },
  "language_info": {
   "codemirror_mode": {
    "name": "ipython",
    "version": 3
   },
   "file_extension": ".py",
   "mimetype": "text/x-python",
   "name": "python",
   "nbconvert_exporter": "python",
   "pygments_lexer": "ipython3",
   "version": "3.10.9"
  }
 },
 "nbformat": 4,
 "nbformat_minor": 5
}
