{
 "cells": [
  {
   "cell_type": "code",
   "execution_count": null,
   "id": "0f597bc2-b333-44f4-b3c8-7c6fdeafad72",
   "metadata": {},
   "outputs": [],
   "source": [
    "\n",
    "%pprint\n",
    "%matplotlib inline\n",
    "import sys\n",
    "import os.path as osp\n",
    "\n",
    "executable_path = sys.executable; scripts_folder = osp.join(osp.dirname(executable_path), 'Scripts')\n",
    "py_folder = osp.abspath('../py'); ffmpeg_folder = r'C:\\ffmpeg\\bin'\n",
    "if (scripts_folder not in sys.path): sys.path.insert(1, scripts_folder)\n",
    "if (py_folder not in sys.path): sys.path.insert(1, py_folder)\n",
    "if (ffmpeg_folder not in sys.path): sys.path.insert(1, ffmpeg_folder)\n",
    "from jobpostlib import (crf, cu, datetime, duration, hau, hc, humanize, ihu, lru, nu, osp, scrfcu, slrcu, ssgdcu, su, t0, time, wsu, speech_engine)\n",
    "from pandas import DataFrame\n",
    "import re\n",
    "import pyperclip\n",
    "import ipywidgets as widgets\n",
    "from IPython.display import display"
   ]
  },
  {
   "cell_type": "code",
   "execution_count": 2,
   "id": "fd3f331b-c66a-4c65-906b-22bc6fc034c8",
   "metadata": {},
   "outputs": [
    {
     "name": "stdout",
     "output_type": "stream",
     "text": [
      "I have 48,129 labeled parts of speech in here\n"
     ]
    },
    {
     "name": "stderr",
     "output_type": "stream",
     "text": [
      "Train the POS Classifiers: 100%|█████████████████████████████████████████████████████████████████████████████████| 25/25 [00:00<00:00, 302.98it/s]"
     ]
    },
    {
     "name": "stdout",
     "output_type": "stream",
     "text": [
      "predict_single is available\n",
      "Parts-of-speech logistic regression elements built in 8 seconds\n"
     ]
    },
    {
     "name": "stderr",
     "output_type": "stream",
     "text": [
      "\n"
     ]
    }
   ],
   "source": [
    "\n",
    "# Check if the slrcu has built its parts-of-speech logistic regression elements\n",
    "# Parts-of-speech logistic regression elements is normally built in 1 hour, 55 minutes and 45 seconds\n",
    "t1 = time.time()\n",
    "if not hasattr(slrcu, 'pos_predict_percent_fit_dict'):\n",
    "    slrcu.build_pos_logistic_regression_elements(sampling_strategy_limit=None, verbose=True)\n",
    "if hasattr(slrcu, 'pos_predict_percent_fit_dict'): print('predict_single is available')\n",
    "else: print('predict_single is not available')\n",
    "duration_str = humanize.precisedelta(time.time() - t1, minimum_unit='seconds', format='%0.0f')\n",
    "speech_str = f'Parts-of-speech logistic regression elements built in {duration_str}'; print(speech_str)"
   ]
  },
  {
   "cell_type": "code",
   "execution_count": 3,
   "id": "3fe80356-c69a-4579-b298-31e40e871b31",
   "metadata": {},
   "outputs": [
    {
     "name": "stdout",
     "output_type": "stream",
     "text": [
      "predict_single is now available\n",
      "Parts-of-speech conditional random field elements built in 1 second\n"
     ]
    }
   ],
   "source": [
    "\n",
    "# Check if the scrfcu has built its parts-of-speech conditional random field elements\n",
    "# Parts-of-speech CRF elements normally built in 29 minutes and 57 seconds\n",
    "t1 = time.time()\n",
    "if not hasattr(scrfcu, 'pos_symbol_crf'):\n",
    "    scrfcu.build_pos_conditional_random_field_elements(verbose=True)\n",
    "if hasattr(scrfcu, 'pos_predict_percent_fit_dict'): print('predict_single is now available')\n",
    "else: print('predict_single is not available')\n",
    "duration_str = humanize.precisedelta(time.time() - t1, minimum_unit='seconds', format='%0.0f')\n",
    "speech_str = f'Parts-of-speech conditional random field elements built in {duration_str}'; print(speech_str)"
   ]
  },
  {
   "cell_type": "code",
   "execution_count": 4,
   "id": "3453a69d-7080-4ebf-96a8-528e9541ea19",
   "metadata": {},
   "outputs": [
    {
     "name": "stdout",
     "output_type": "stream",
     "text": [
      "I have 48,129 labeled parts of speech in here\n",
      "predict_single is now available\n",
      "Parts-of-speech stochastic gradient descent elements built in 11 seconds\n"
     ]
    }
   ],
   "source": [
    "\n",
    "# Check if the ssgdcu has built its parts-of-speech stochastic gradient decent elements\n",
    "t1 = time.time()\n",
    "if not hasattr(ssgdcu, 'pos_predict_percent_fit_dict'):\n",
    "    ssgdcu.build_pos_stochastic_gradient_descent_elements(sampling_strategy_limit=None, verbose=True)\n",
    "if hasattr(ssgdcu, 'pos_predict_percent_fit_dict'): print('predict_single is now available')\n",
    "else: print('predict_single is not available')\n",
    "duration_str = humanize.precisedelta(time.time() - t1, minimum_unit='seconds', format='%0.0f')\n",
    "speech_str = f'Parts-of-speech stochastic gradient descent elements built in {duration_str}'; print(speech_str)"
   ]
  },
  {
   "cell_type": "code",
   "execution_count": 5,
   "id": "01e7d031-531c-4024-b9f4-03485a91a943",
   "metadata": {},
   "outputs": [
    {
     "name": "stdout",
     "output_type": "stream",
     "text": [
      "predict_single is now available\n",
      "POS classifier trained in 0 seconds\n"
     ]
    }
   ],
   "source": [
    "\n",
    "# Check if the crf has built its parts-of-speech classifier\n",
    "# POS classifier normally trained in 15 hours, 42 minutes and 41 seconds\n",
    "t1 = time.time()\n",
    "if not hasattr(crf, 'CRF'): crf.build_pos_conditional_random_field_elements(verbose=True)\n",
    "if hasattr(crf, 'CRF'): print('predict_single is now available')\n",
    "else: print('predict_single is not available')\n",
    "duration_str = humanize.precisedelta(time.time() - t1, minimum_unit='seconds', format='%0.0f')\n",
    "speech_str = f'POS classifier trained in {duration_str}'; print(speech_str)"
   ]
  },
  {
   "cell_type": "code",
   "execution_count": 6,
   "id": "d259dffb-c212-4493-a879-1ae5d503f8ec",
   "metadata": {},
   "outputs": [
    {
     "name": "stdout",
     "output_type": "stream",
     "text": [
      "I have 532,546 is-qualified vocabulary tokens in here\n",
      "Is-qualified LR elements built in 9 seconds\n"
     ]
    }
   ],
   "source": [
    "\n",
    "# Check if the Logistic Regression utilities class has built its is-qualified classifier\n",
    "t1 = time.time()\n",
    "if not (hasattr(lru, 'ISQUALIFIED_LR') and hasattr(lru, 'ISQUALIFIED_CV')):\n",
    "    lru.build_isqualified_logistic_regression_elements(sampling_strategy_limit=None, verbose=True)\n",
    "duration_str = humanize.precisedelta(time.time() - t1, minimum_unit='seconds', format='%0.0f')\n",
    "speech_str = f'Is-qualified LR elements built in {duration_str}'; print(speech_str)"
   ]
  },
  {
   "cell_type": "code",
   "execution_count": 7,
   "id": "a9d67a34-e133-45dc-9bf3-a830af359d77",
   "metadata": {},
   "outputs": [
    {
     "name": "stdout",
     "output_type": "stream",
     "text": [
      "I have 52,199 hand-labeled header htmls prepared\n",
      "7 iterations seen during training fit for a total of 52,199 records trained\n",
      "Is-header classifier trained in 10 seconds\n"
     ]
    }
   ],
   "source": [
    "\n",
    "# Train the isheader classifier\n",
    "t1 = time.time()\n",
    "ihu.build_pos_stochastic_gradient_descent_elements(verbose=True)\n",
    "duration_str = humanize.precisedelta(time.time() - t1, minimum_unit='seconds', format='%0.0f')\n",
    "speech_str = f'Is-header classifier trained in {duration_str}'; print(speech_str)"
   ]
  },
  {
   "cell_type": "code",
   "execution_count": 8,
   "id": "dcef1d94-4466-4100-86cd-0d66f23d0d40",
   "metadata": {},
   "outputs": [
    {
     "name": "stdout",
     "output_type": "stream",
     "text": [
      "Last run on 2024-11-02 15:43:39.899685\n"
     ]
    }
   ],
   "source": [
    "\n",
    "speech_str = f'Last run on {datetime.now()}'; print(speech_str)"
   ]
  },
  {
   "cell_type": "markdown",
   "id": "2f438163-0f14-4a74-978c-769c9dba95c8",
   "metadata": {},
   "source": [
    "\n",
    "---\n",
    "# Training"
   ]
  },
  {
   "cell_type": "code",
   "execution_count": 20,
   "id": "f02bfeac-67b7-4df6-a4a0-32ec3dec0022",
   "metadata": {},
   "outputs": [
    {
     "name": "stdout",
     "output_type": "stream",
     "text": [
      "I have 22,617 hand-labeled qualification strings in here\n",
      "I have 624,842 is-qualified vocabulary tokens in here\n",
      "Is-qualified classifer retrained in 25 seconds\n"
     ]
    }
   ],
   "source": [
    "\n",
    "# You need to run this again if you changed the qualification dictionary below or in another notebook\n",
    "t1 = time.time()\n",
    "\n",
    "# Keep the total retraining time to less than two minutes by adjusting the sampling strategy limit\n",
    "lru.sync_basic_quals_dict(sampling_strategy_limit=None, verbose=False)\n",
    "\n",
    "lru.retrain_isqualified_classifier(verbose=True)\n",
    "duration_str = humanize.precisedelta(time.time() - t1, minimum_unit='seconds', format='%0.0f')\n",
    "speech_str = f'Is-qualified classifer retrained in {duration_str}'; print(speech_str)"
   ]
  },
  {
   "cell_type": "markdown",
   "id": "52ad3579-ebc3-4d21-a7c3-f9bd168ac6ca",
   "metadata": {},
   "source": [
    "\n",
    "# Inference"
   ]
  },
  {
   "cell_type": "code",
   "execution_count": 21,
   "id": "d334d815-e43b-474e-9dbb-db509176f6e5",
   "metadata": {
    "tags": []
   },
   "outputs": [
    {
     "name": "stdout",
     "output_type": "stream",
     "text": [
      "Basic Qualifications for Customs and Border Protection Officer United States:\n",
      "*quals_list[0] = \"Education Substitution: A bachelor's degree or successful completion of a full four (4)-year course of study in any field leading to a bachelor's degree from an accredited college or university; OR will receive a bachelor's degree from an accredited college or university within nine (9) months from the closing date of this announcement and will upload all official or unofficial transcripts before the closing date of this announcement; OR\" (1.0)\n",
      "*quals_list[1] = \"Successful completion of the Academy is required for this position\" (1.0)\n",
      "*quals_list[2] = \"This will be calculated using your resume and official or unofficial college transcripts submitted with your application\" (1.0)\n",
      "*quals_list[3] = \"Experience: A minimum of three (3) years full-time general work experience that demonstrates the ability to meet and deal with people and the ability to learn and be able to apply what you have learned; OR\" (1.0)\n",
      "*quals_list[4] = \"8336(c) or Title 5 USC\" (1.0)\n",
      "*quals_list[5] = \"Formal Training:\" (0.0)\n",
      "*quals_list[6] = \"Combination of Experience and Education: A combination of specialized work experience equivalent to the next lower grade level AND graduate level education completed in a field of study related to law enforcement (eg, criminology, criminal justice, law enforcement, courts and judicial systems, corrections and rehabilitation, justice studies, homeland security, forensic technology, and forensic psychology) from an accredited college or university\" (0.8698)\n",
      "*quals_list[7] = \"Veterans’ Preference:\" (0.0406)\n",
      "*quals_list[8] = \"Age Restriction:\" (0.0406)\n",
      "*quals_list[9] = \"You will be required to complete a paid pre-academy orientation for approximately two (2) weeks at your home port\" (1.0)\n",
      "*quals_list[10] = \"This will be calculated using your resume and official or unofficial transcripts submitted with your application\" (1.0)\n",
      "*quals_list[11] = \"United States: Relocate before starting work (Required)\" (0.9977)\n",
      "*quals_list[12] = \"This training consists of basic law enforcement skills, immigration laws, firearms training, examination of cargo/bags/merchandise, physical fitness, etc Candidates assigned to the southern border, Miami or Puerto Rico duty locations must attend and pass an online Spanish training program which will be completed at their home port\" (1.0)\n",
      "*quals_list[13] = \"8412(d)\" (0.0406)\n",
      "*quals_list[14] = \"Education Substitution: A bachelor's degree with Superior Academic Achievement based on (1) class standing, (2) grade-point average (3.0 or higher), or (3) honor society membership; OR one (1) full year of graduate level education in a field of study related to law enforcement (eg, criminology, criminal justice, law enforcement, courts and judicial systems, corrections and rehabilitation, justice studies, homeland security, forensic technology and forensic psychology) from an accredited college or university; OR will receive a bachelor's degree with Superior Academic Achievement or one (1) full year of graduate level in a field of study related to law enforcement (listed above) from an accredited college or university within nine (9) months from the closing date of this announcement; OR\" (0.9964)\n",
      "*quals_list[15] = \"You may also be eligible for an excepted service Veterans Recruitment Appointment (VRA)\" (1.0)\n",
      "*quals_list[16] = \"You will then attend a 101-day training program–CBP Field Operations Academy–conducted at the Federal Law Enforcement Training Center (FLETC) located in Glynco, GA\" (1.0)\n",
      "*quals_list[17] = \"The age restriction may not apply if you are currently serving or have previously served in a federal civilian law enforcement (non-military) position covered by Title 5 USC\" (1.0)\n",
      "*quals_list[18] = \"Combination of Experience and Education: A combination of successfully completed college education AND general work experience\" (0.0594)\n",
      "*quals_list[19] = \"In accordance with Public Law 100-238, this position is covered under law enforcement retirement provisions\" (1.0)\n",
      "*quals_list[20] = \"You must have had primary US residency (includes protectorates as declared under international law) for at least three of the last five years.\" (1.0)\n",
      "*quals_list[21] = \"The age restriction does not apply if you are Veterans' Preference eligible\" (1.0)\n",
      "*quals_list[22] = \"You qualify for the GS-7 grade level if you possess one of the following:\" (1.0)\n",
      "*quals_list[23] = \"You qualify for the GS-5 grade level if you possess one of the following:\" (1.0)\n",
      "*quals_list[24] = \"Experience: A minimum of one (1) year of specialized full-time work experience equivalent to at least the next lower grade level that entails performance of duties in inspections work at borders, seaports, airports, or other ports of entry and/or work involving preliminary screening of persons for entry and immigration status, or compliance/regulatory work; OR\" (1.0)\n",
      "*quals_list[25] = \"You must be a US Citizen to apply for this position.\" (1.0)\n",
      "*quals_list[26] = \"Candidates must be referred for selection to the US Customs and Border Protection Officer position before reaching their 40th birthday in accordance with Department of Homeland Security Directive 251-03\" (1.0)\n",
      "*quals_list[27] = \"Residency:\" (0.0406)\n",
      "78.57%\n",
      "\n",
      "hunting_df.loc[5503, 'percent_fit'] = (000+000+000+000+000+000+000+000+000+000+000+000+000+000+000+000+000+000+000+000+000+000+000+000+000+000+000+000)/28\n",
      "34 left to go: 5503/5537 = 99.39% completed (taking about 1.8 minutes per post)\n",
      "Inference completed in 32 seconds\n"
     ]
    }
   ],
   "source": [
    "\n",
    "t1 = time.time()\n",
    "\n",
    "# Loop through all the unset %fit values, set them if you can, break for help if you can't\n",
    "quals_list, file_name = lru.infer_from_hunting_dataframe(fitness_threshold=3/4, verbose=True)\n",
    "duration_str = humanize.precisedelta(time.time() - t1, minimum_unit='seconds', format='%0.0f')\n",
    "speech_str = f'Inference completed in {duration_str}'; print(speech_str); speech_engine.say(speech_str); speech_engine.runAndWait()"
   ]
  },
  {
   "cell_type": "code",
   "execution_count": null,
   "id": "63264da9-f96a-491a-83d9-25d15fcdfef6",
   "metadata": {},
   "outputs": [],
   "source": [
    "\n",
    "d = time.time() - t0; duration_str = humanize.precisedelta(d, minimum_unit='minutes', format='%0.0f'); mpp = (d//60)/lru.max_togo if lru.max_togo else \"N/A\"\n",
    "raise Exception(f'Postings from the previous email ingestion processed in {duration_str} taking about {mpp} minutes per post')"
   ]
  },
  {
   "cell_type": "code",
   "execution_count": 32,
   "id": "47bd03b8-c0a3-404c-a16d-eb4ce95c6561",
   "metadata": {},
   "outputs": [
    {
     "name": "stdout",
     "output_type": "stream",
     "text": [
      "United States: Relocate before starting work (Required)\n",
      "Pickling to C:\\Users\\daveb\\OneDrive\\Documents\\GitHub\\job-hunting\\saves\\pkl\\basic_quals_dict.pkl\n"
     ]
    }
   ],
   "source": [
    "\n",
    "# Manually label the unscored qualification string\n",
    "qualification_str = quals_list[1]\n",
    "print(qualification_str); basic_quals_dict = nu.load_object('basic_quals_dict')\n",
    "print(str(basic_quals_dict[qualification_str]) + '\\n' if(qualification_str in basic_quals_dict) else '', end='')\n",
    "basic_quals_dict[qualification_str] = 0\n",
    "nu.store_objects(basic_quals_dict=basic_quals_dict)"
   ]
  },
  {
   "cell_type": "markdown",
   "id": "89c4212b-9280-46d1-8e46-104aada7c0df",
   "metadata": {},
   "source": [
    "\n",
    "----\n",
    "## Fix Parts-of-Speech and Quals for this posting"
   ]
  },
  {
   "cell_type": "code",
   "execution_count": 33,
   "id": "8ac6efb8-6b56-43dd-9079-d6a87491ecc5",
   "metadata": {},
   "outputs": [
    {
     "name": "stdout",
     "output_type": "stream",
     "text": [
      "66e7ffd59939f6f7_Customs_and_Border_Protection_Officer_United_States_Indeed_com.html\n",
      "CRF and child strings list recreated in 1 minute and 22 seconds\n"
     ]
    }
   ],
   "source": [
    "\n",
    "t1 = time.time()\n",
    "file_path = osp.join(cu.SAVES_HTML_FOLDER, file_name)\n",
    "if osp.isfile(file_path):\n",
    "    child_strs_list = hau.get_child_strs_from_file(file_name=file_name)\n",
    "    cu.ensure_filename(file_name, verbose=False)\n",
    "    cu.populate_from_child_strings(child_strs_list, file_name, verbose=False)\n",
    "    print(file_name)\n",
    "    assert hasattr(slrcu, 'pos_predict_percent_fit_dict'), 'slrcu.predict_single needs to be available'\n",
    "    pos_symbol_predictions_list = [slrcu.predict_single(sent_str) for sent_str in child_strs_list]\n",
    "duration_str = humanize.precisedelta(time.time() - t1, minimum_unit='seconds', format='%0.0f')\n",
    "speech_str = f'CRF and child strings list recreated in {duration_str}'; print(speech_str)"
   ]
  },
  {
   "cell_type": "code",
   "execution_count": 34,
   "id": "affcb06a-3165-4349-a936-037af549d417",
   "metadata": {},
   "outputs": [
    {
     "name": "stdout",
     "output_type": "stream",
     "text": [
      "['H-CS', 'O-SP', 'O-CS', 'O-TS', 'O-LN', 'H-TS', 'O-TS', 'O-TS', 'O-TS', 'O-TS', 'O-TS', 'O-SP', 'O-OL', 'O-SP', 'O-SP', 'O-SP', 'O-SP', 'O-IP', 'O-SP', 'O-TS', 'O-TS', 'O-TS', 'O-SP', 'O-SP', 'O-IP', 'O-IP', 'O-SP', 'H-OL', 'O-SP', 'H-RQ', 'H-RQ', 'O-RQ', 'O-RQ', 'O-IP', 'O-IP', 'H-RQ', 'O-RQ', 'O-RQ', 'O-LN', 'O-IP', 'O-LN', 'H-IP', 'H-RQ', 'O-IP', 'O-LN', 'O-LN', 'O-RQ', 'O-LN', 'O-IP', 'O-IP', 'O-IP', 'O-TS', 'O-LN', 'O-IP', 'O-IP', 'H-IP', 'O-TS', 'H-TS', 'O-TS', 'O-TS', 'O-IP', 'O-IP', 'O-OL', 'O-JD', 'O-SP', 'H-SP', 'O-SP', 'O-SP', 'O-SP', 'O-SP', 'O-SP', 'O-SP', 'H-JD', 'O-JD', 'H-RQ', 'O-PQ', 'O-PQ', 'H-RQ', 'O-RQ', 'O-OL']\n",
      "[31, 32, 36, 37, 46, 78]\n"
     ]
    },
    {
     "data": {
      "text/html": [
       "0 H-CS) <span style=\"color:#1f77b4ff;\"><h3 class=\"jobSectionHeader\" pos=\"H-CS\">Corporate Scope: (H-CS Corporate Scope Header)</h3></span><br />1 O-SP) <span style=\"color:#17becf80;\"><li>US Customs and Border Protection (CBP) offers those interested in a career in law enforcement an opportunity to work with an elite team of highly trained professionals whose camaraderie, pride, and purpose are hallmarks of their daily mission protecting America. (O-SP Supplemental Pay Non-header)</li></span><br />2 O-CS) <span style=\"color:#1f77b480;\"><li>If you are looking for a rewarding career with excellent pay, exceptional federal benefits, and job stability, now is the time to make your move. (O-CS Corporate Scope Non-header)</li></span><br />3 O-TS) <span style=\"color:#9edae580;\"><li>As a Customs and Border Protection Officer (CBPO) you will be part of our 60,000+ workforce that strives to protect the American people by safeguarding our borders, deterring illicit activity, and enhancing the nation’s economic prosperity. (O-TS Task Scope Non-header)</li></span><br />4 O-LN) <span style=\"color:#9467bd80;\"><li>Being a CBP Officer makes you a valuable member of the Federal Law Enforcement Officer (LEO) profession. (O-LN Legal Notifications Non-header)</li></span><br />5 H-TS) <span style=\"color:#9edae5ff;\"><h3 class=\"jobSectionHeader\" pos=\"H-TS\">Typical activities include: (H-TS Task Scope Header)</h3></span><br />6 O-TS) <span style=\"color:#9edae580;\"><li>Enforcing customs, immigration, and agriculture law and regulations. (O-TS Task Scope Non-header)</li></span><br />7 O-TS) <span style=\"color:#9edae580;\"><li>Facilitating the flow of legitimate trade and travel. (O-TS Task Scope Non-header)</li></span><br />8 O-TS) <span style=\"color:#9edae580;\"><li>Conducting inspections of individuals and conveyances. (O-TS Task Scope Non-header)</li></span><br />9 O-TS) <span style=\"color:#9edae580;\"><li>Determining the admissibility of individuals for entry into the United States. (O-TS Task Scope Non-header)</li></span><br />10 O-TS) <span style=\"color:#9edae580;\"><li>Preventing the illegal entry of individuals and prohibited goods and the smuggling of illegal drugs and other contraband. (O-TS Task Scope Non-header)</li></span><br />11 O-SP) <span style=\"color:#17becf80;\"><h3 class=\"jobSectionHeader\" pos=\"H-TS\">Duty Locations – Incentives available for some locations: (O-SP Supplemental Pay Non-header)</h3></span><br />12 O-OL) <span style=\"color:#c49c9480;\"><li>You will be asked to provide your preference for one of the following mission-critical locations: Calexico, Otay Mesa, San Francisco, San Ysidro, and Tecate, CA; Jackman, ME; Grand Portage, MN; Dunseith and Pembina, ND; Raymond, MT; Oroville, WA. (O-OL Office Location Non-header)</li></span><br />13 O-SP) <span style=\"color:#17becf80;\"><li>The preference locations listed above are expected to have vacancies available in the future, however, if the duty locations do not have vacancies at the time of your final offer, you may be offered a duty location in another geographic location within the United States. (O-SP Supplemental Pay Non-header)</li></span><br />14 O-SP) <span style=\"color:#17becf80;\"><li>Locations offered are based on operational and mission requirements, and critical agency hiring needs for entry level CBP Officers as determined by the CBP Office of Field Operations. (O-SP Supplemental Pay Non-header)</li></span><br />15 O-SP) <span style=\"color:#17becf80;\"><h3 class=\"jobSectionHeader\" pos=\"H-TS\">Salary and Benefits – and Location Incentives: (O-SP Supplemental Pay Non-header)</h3></span><br />16 O-SP) <span style=\"color:#17becf80;\"><li>Salary for newly appointed GS-5, GS-7, and GS-9 grade-level CBP Officers varies from $39,576–$59,966 per year. (O-SP Supplemental Pay Non-header)</li></span><br />17 O-IP) <span style=\"color:#ffbb7880;\"><li>Grade level eligibility and salaries vary depending upon background, including experience and education, and duty location. (O-IP Interview Procedures Non-header)</li></span><br />18 O-SP) <span style=\"color:#17becf80;\"><li>A fully trained CBP Officer is eligible for up to $45,000 in overtime pay in addition to the starting salary. (O-SP Supplemental Pay Non-header)</li></span><br />19 O-TS) <span style=\"color:#9edae580;\"><li>This is a career ladder position with a grade level progression of GS-5, GS-7, GS-9, GS-11, and GS-12. (O-TS Task Scope Non-header)</li></span><br />20 O-TS) <span style=\"color:#9edae580;\"><li>You will be eligible for a promotion to the next higher grade level (without re-applying) once you successfully complete 52 weeks in each grade level. (O-TS Task Scope Non-header)</li></span><br />21 O-TS) <span style=\"color:#9edae580;\"><li>Promotions are at the discretion of the agency. (O-TS Task Scope Non-header)</li></span><br />22 O-SP) <span style=\"color:#17becf80;\"><li>All agents receive the full package of federal employment benefits that include health and insurance plans, a generous annual and sick leave program, and participation in the Thrift Savings Plan, a retirement plan akin to a traditional 401(k) offering. (O-SP Supplemental Pay Non-header)</li></span><br />23 O-SP) <span style=\"color:#17becf80;\"><h3 class=\"jobSectionHeader\" pos=\"H-IP\">LOCATION INCENTIVES: (O-SP Supplemental Pay Non-header)</h3></span><br />24 O-IP) <span style=\"color:#ffbb7880;\"><li>If you accept one of the duty locations listed below, you may be eligible to receive an additional 15%-25% of your salary each year for the first three (3) years of employment in addition to any overtime pay. (O-IP Interview Procedures Non-header)</li></span><br />25 O-IP) <span style=\"color:#ffbb7880;\"><li>If you accept the duty location of San Francisco, you may be eligible to receive an additional 25% of your salary each year for the first four (4) years of employment in addition to any overtime pay. (O-IP Interview Procedures Non-header)</li></span><br />26 O-SP) <span style=\"color:#17becf80;\"><li>These incentives only apply to new federal employees and are dependent upon the availability of funds. (O-SP Supplemental Pay Non-header)</li></span><br />27 H-OL) <span style=\"color:#c49c94ff;\"><li>Duty locations offering 25% recruitment incentives: Calexico, Otay Mesa, San Francisco, and San Ysidro, CA; Dunseith and Pembina, ND. (H-OL Office Location Header)</li></span><br />28 O-SP) <span style=\"color:#17becf80;\"><li>Duty locations offering 15% recruitment incentives: Portal, ND (O-SP Supplemental Pay Non-header)</li></span><br />29 H-RQ) <span style=\"color:#bcbd22ff;\"><h3 class=\"jobSectionHeader\" pos=\"H-TS\">Qualifications: (H-RQ Required Qualifications Header)</h3></span><br />30 H-RQ) <span style=\"color:#bcbd22ff;\"><h3 class=\"jobSectionHeader\" pos=\"H-TS\">You qualify for the GS-5 grade level if you possess one of the following: (H-RQ Required Qualifications Header)</h3></span><br /><hr />31 O-RQ) <span style=\"color:#bcbd2280;\"><li>Experience: A minimum of three (3) years full-time general work experience that demonstrates the ability to meet and deal with people and the ability to learn and be able to apply what you have learned; OR. (O-RQ Required Qualifications Non-header)</li></span><br />32 O-RQ) <span style=\"color:#bcbd2280;\"><li>Education Substitution: A bachelor's degree or successful completion of a full four (4)-year course of study in any field leading to a bachelor's degree from an accredited college or university; OR will receive a bachelor's degree from an accredited college or university within nine (9) months from the closing date of this announcement and will upload all official or unofficial transcripts before the closing date of this announcement; OR. (O-RQ Required Qualifications Non-header)</li></span><br />33 O-IP) <span style=\"color:#ffbb7880;\"><li>Combination of Experience and Education: A combination of successfully completed college education AND general work experience. (O-IP Interview Procedures Non-header)</li></span><br />34 O-IP) <span style=\"color:#ffbb7880;\"><li>This will be calculated using your resume and official or unofficial college transcripts submitted with your application. (O-IP Interview Procedures Non-header)</li></span><br />35 H-RQ) <span style=\"color:#bcbd22ff;\"><h3 class=\"jobSectionHeader\" pos=\"H-TS\">You qualify for the GS-7 grade level if you possess one of the following: (H-RQ Required Qualifications Header)</h3></span><br />36 O-RQ) <span style=\"color:#bcbd2280;\"><li>Experience: A minimum of one (1) year of specialized full-time work experience equivalent to at least the next lower grade level that entails performance of duties in inspections work at borders, seaports, airports, or other ports of entry and/or work involving preliminary screening of persons for entry and immigration status, or compliance/regulatory work; OR. (O-RQ Required Qualifications Non-header)</li></span><br />37 O-RQ) <span style=\"color:#bcbd2280;\"><li>Education Substitution: A bachelor's degree with Superior Academic Achievement based on (1) class standing, (2) grade-point average (3.0 or higher), or (3) honor society membership; OR one (1) full year of graduate level education in a field of study related to law enforcement (e.g., criminology, criminal justice, law enforcement, courts and judicial systems, corrections and rehabilitation, justice studies, homeland security, forensic technology and forensic psychology) from an accredited college or university; OR will receive a bachelor's degree with Superior Academic Achievement or one (1) full year of graduate level in a field of study related to law enforcement (listed above) from an accredited college or university within nine (9) months from the closing date of this announcement; OR. (O-RQ Required Qualifications Non-header)</li></span><br />38 O-LN) <span style=\"color:#9467bd80;\"><li>Combination of Experience and Education: A combination of specialized work experience equivalent to the next lower grade level AND graduate level education completed in a field of study related to law enforcement (e.g., criminology, criminal justice, law enforcement, courts and judicial systems, corrections and rehabilitation, justice studies, homeland security, forensic technology, and forensic psychology) from an accredited college or university. (O-LN Legal Notifications Non-header)</li></span><br />39 O-IP) <span style=\"color:#ffbb7880;\"><li>This will be calculated using your resume and official or unofficial transcripts submitted with your application. (O-IP Interview Procedures Non-header)</li></span><br />40 O-LN) <span style=\"color:#9467bd80;\"><li>If you have previous or current law enforcement or military law enforcement experience, you may qualify at the GS-9 grade level. (O-LN Legal Notifications Non-header)</li></span><br />41 H-IP) <span style=\"color:#ffbb78ff;\"><li>Refer to How to Apply section below for links to the GS-9 Job Opening Announcements at USAJOBS. (H-IP Interview Procedures Header)</li></span><br />42 H-RQ) <span style=\"color:#bcbd22ff;\"><h3 class=\"jobSectionHeader\" pos=\"H-TS\">Other Requirements: (H-RQ Required Qualifications Header)</h3></span><br />43 O-IP) <span style=\"color:#ffbb7880;\"><li>Citizenship: You must be a US Citizen to apply for this position. (O-IP Interview Procedures Non-header)</li></span><br />44 O-LN) <span style=\"color:#9467bd80;\"><li>Residency: You must have had primary US residency (includes protectorates as declared under international law) for at least three of the last five years. (O-LN Legal Notifications Non-header)</li></span><br />45 O-LN) <span style=\"color:#9467bd80;\"><li>Age Restriction: In accordance with Public Law 100-238, this position is covered under law enforcement retirement provisions. (O-LN Legal Notifications Non-header)</li></span><br />46 O-RQ) <span style=\"color:#bcbd2280;\"><li>Candidates must be referred for selection to the US Customs and Border Protection Officer position before reaching their 40th birthday in accordance with Department of Homeland Security Directive 251-03. (O-RQ Required Qualifications Non-header)</li></span><br />47 O-LN) <span style=\"color:#9467bd80;\"><li>The age restriction may not apply if you are currently serving or have previously served in a federal civilian law enforcement (non-military) position covered by Title 5 USC. 8336(c) or Title 5 USC. 8412(d). (O-LN Legal Notifications Non-header)</li></span><br />48 O-IP) <span style=\"color:#ffbb7880;\"><li>Veterans’ Preference: You may also be eligible for an excepted service Veterans Recruitment Appointment (VRA). (O-IP Interview Procedures Non-header)</li></span><br />49 O-IP) <span style=\"color:#ffbb7880;\"><li>The age restriction does not apply if you are Veterans' Preference eligible. (O-IP Interview Procedures Non-header)</li></span><br />50 O-IP) <span style=\"color:#ffbb7880;\"><li>Formal Training: You will be required to complete a paid pre-academy orientation for approximately two (2) weeks at your home port. (O-IP Interview Procedures Non-header)</li></span><br />51 O-TS) <span style=\"color:#9edae580;\"><li>You will then attend a 101-day training program–CBP Field Operations Academy–conducted at the Federal Law Enforcement Training Center (FLETC) located in Glynco, GA. (O-TS Task Scope Non-header)</li></span><br />52 O-LN) <span style=\"color:#9467bd80;\"><li>This training consists of basic law enforcement skills, immigration laws, firearms training, examination of cargo/bags/merchandise, physical fitness, etc. (O-LN Legal Notifications Non-header)</li></span><br />53 O-IP) <span style=\"color:#ffbb7880;\"><li>Candidates assigned to the southern border, Miami or Puerto Rico duty locations must attend and pass an online Spanish training program which will be completed at their home port. (O-IP Interview Procedures Non-header)</li></span><br />54 O-IP) <span style=\"color:#ffbb7880;\"><li>Successful completion of the Academy is required for this position. (O-IP Interview Procedures Non-header)</li></span><br />55 H-IP) <span style=\"color:#ffbb78ff;\"><h3 class=\"jobSectionHeader\" pos=\"H-TS\">How to Apply: (H-IP Interview Procedures Header)</h3></span><br />56 O-TS) <span style=\"color:#9edae580;\"><li>To learn more about this Customs and Border Protection Officer (CBPO) opportunity and apply, click on this site’s Apply button and you will be linked to the Office of Field Operations page. (O-TS Task Scope Non-header)</li></span><br />57 H-TS) <span style=\"color:#9edae5ff;\"><h3 class=\"jobSectionHeader\" pos=\"H-TS\">From there you will be able to: (H-TS Task Scope Header)</h3></span><br />58 O-TS) <span style=\"color:#9edae580;\"><li>Apply Now – Click to review all open GS-5, GS-7, and GS-9 grade-level CBPO announcements immediately and begin the application process. (O-TS Task Scope Non-header)</li></span><br />59 O-TS) <span style=\"color:#9edae580;\"><li>Stay Updated – Click to opt into CBP’s talent pool (highly recommended) to receive information about this and future opportunities. (O-TS Task Scope Non-header)</li></span><br />60 O-IP) <span style=\"color:#ffbb7880;\"><li>Be sure to indicate your interest in the Customs and Border Protection Officer role on the registration page. (O-IP Interview Procedures Non-header)</li></span><br />61 O-IP) <span style=\"color:#ffbb7880;\"><li>Contact a Recruiter – Click to submit a request to connect with a Recruiter and ask questions. (O-IP Interview Procedures Non-header)</li></span><br />62 O-OL) <span style=\"color:#c49c9480;\"><li>Interested in other career opportunities with CBP? Visit careers.cbp.gov and check the CBP calendar at cbp.gov/cbp-event-calendar frequently for upcoming informational webinars, in-person recruiter events, and virtual career events. (O-OL Office Location Non-header)</li></span><br />63 O-JD) <span style=\"color:#98df8a80;\"><li>Job Type: Full-time. (O-JD Job Duration Non-header)</li></span><br />64 O-SP) <span style=\"color:#17becf80;\"><li>Pay: $39,576.00 - $59,966.00 per year (O-SP Supplemental Pay Non-header)</li></span><br />65 H-SP) <span style=\"color:#17becfff;\"><h3 class=\"jobSectionHeader\" pos=\"H-TS\">Benefits: (H-SP Supplemental Pay Header)</h3></span><br />66 O-SP) <span style=\"color:#17becf80;\"><li>Dental insurance (O-SP Supplemental Pay Non-header)</li></span><br />67 O-SP) <span style=\"color:#17becf80;\"><li>Health insurance (O-SP Supplemental Pay Non-header)</li></span><br />68 O-SP) <span style=\"color:#17becf80;\"><li>Life insurance (O-SP Supplemental Pay Non-header)</li></span><br />69 O-SP) <span style=\"color:#17becf80;\"><li>Paid time off (O-SP Supplemental Pay Non-header)</li></span><br />70 O-SP) <span style=\"color:#17becf80;\"><li>Retirement plan (O-SP Supplemental Pay Non-header)</li></span><br />71 O-SP) <span style=\"color:#17becf80;\"><li>Vision insurance (O-SP Supplemental Pay Non-header)</li></span><br />72 H-JD) <span style=\"color:#98df8aff;\"><h3 class=\"jobSectionHeader\" pos=\"H-TS\">Schedule: (H-JD Job Duration Header)</h3></span><br />73 O-JD) <span style=\"color:#98df8a80;\"><li>8 hour shift (O-JD Job Duration Non-header)</li></span><br />74 H-RQ) <span style=\"color:#bcbd22ff;\"><h3 class=\"jobSectionHeader\" pos=\"H-TS\">Experience: (H-RQ Required Qualifications Header)</h3></span><br />75 O-PQ) <span style=\"color:#c7c7c780;\"><li>Military: 1 year (Preferred) (O-PQ Preferred Qualifications Non-header)</li></span><br />76 O-PQ) <span style=\"color:#c7c7c780;\"><li>Leadership: 1 year (Preferred) (O-PQ Preferred Qualifications Non-header)</li></span><br />77 H-RQ) <span style=\"color:#bcbd22ff;\"><h3 class=\"jobSectionHeader\" pos=\"H-TS\">Ability to Relocate: (H-RQ Required Qualifications Header)</h3></span><br />78 O-RQ) <span style=\"color:#bcbd2280;\"><li>United States: Relocate before starting work (Required) (O-RQ Required Qualifications Non-header)</li></span><br /><hr />79 O-OL) <span style=\"color:#c49c9480;\"><li>Work Location: On the road (O-OL Office Location Non-header)</li></span><br />"
      ],
      "text/plain": [
       "<IPython.core.display.HTML object>"
      ]
     },
     "metadata": {},
     "output_type": "display_data"
    },
    {
     "name": "stdout",
     "output_type": "stream",
     "text": [
      "[31, 32, 36, 37, 46, 78]\n",
      "Parts-of-speech displayed in 1 minute and 33 seconds\n"
     ]
    }
   ],
   "source": [
    "\n",
    "db_pos_list = []\n",
    "for navigable_parent in child_strs_list:\n",
    "    db_pos_list = cu.append_parts_of_speech_list(navigable_parent, pos_list=db_pos_list)\n",
    "pos_list, indices_list = su.visualize_basic_quals_section(pos_symbol_predictions_list, child_strs_list, db_pos_list=db_pos_list, verbose=True)\n",
    "duration_str = humanize.precisedelta(time.time() - t1, minimum_unit='seconds', format='%0.0f')\n",
    "speech_str = f'Parts-of-speech displayed in {duration_str}'; print(speech_str); speech_engine.say(speech_str); speech_engine.runAndWait()"
   ]
  },
  {
   "cell_type": "code",
   "execution_count": null,
   "id": "91379a3d-1a77-4d8b-9ef6-a76f12204ac2",
   "metadata": {},
   "outputs": [],
   "source": [
    "raise"
   ]
  },
  {
   "cell_type": "code",
   "execution_count": 37,
   "id": "26c4dd4e-1418-4420-aff5-ea7b65273194",
   "metadata": {},
   "outputs": [
    {
     "name": "stdout",
     "output_type": "stream",
     "text": [
      "39 O-IP) <li>This will be calculated using your resume and official or unofficial transcripts submitted with your application.</li>\n",
      "40 O-LN) <li>If you have previous or current law enforcement or military law enforcement experience, you may qualify at the GS-9 grade level.</li>\n",
      "41 H-IP) <li>Refer to How to Apply section below for links to the GS-9 Job Opening Announcements at USAJOBS.</li>\n"
     ]
    }
   ],
   "source": [
    "\n",
    "basic_quals_dict = nu.load_object('basic_quals_dict'); column_name = 'is_interview_procedure'\n",
    "for idx in list(range(39, 42)):\n",
    "    child_str = child_strs_list[idx]; pos_symbol = pos_list[idx]\n",
    "    def do_cypher_tx(tx, navigable_parent, verbose=False):\n",
    "        cypher_str = '''\\n            MATCH (np:NavigableParents {navigable_parent: $navigable_parent})\\n            ''' + cu.return_every_np_str + ';'\n",
    "        results_list = tx.run(query=cypher_str, parameters={'navigable_parent': navigable_parent})\n",
    "        return [dict(record.items()) for record in results_list]\n",
    "    with cu.driver.session() as session: row_objs_list = session.write_transaction(do_cypher_tx, navigable_parent=child_str, verbose=False)\n",
    "    print(str(basic_quals_dict[child_str]) + '\\n' if(child_str in basic_quals_dict) else '', end='')\n",
    "    print(f'{idx} {pos_symbol}) {child_str}')\n",
    "    def do_cypher_tx(tx, navigable_parent, verbose=False):\n",
    "        cypher_str = f'''\n",
    "            MATCH (np:NavigableParents {{navigable_parent: $navigable_parent}})\n",
    "            SET\n",
    "                np.is_job_title = {str(column_name == 'is_job_title').lower()},\n",
    "                np.is_corporate_scope = {str(column_name == 'is_corporate_scope').lower()},\n",
    "                np.is_task_scope = {str(column_name == 'is_task_scope').lower()},\n",
    "                np.is_minimum_qualification = {str(column_name == 'is_minimum_qualification').lower()},\n",
    "                np.is_preferred_qualification = {str(column_name == 'is_preferred_qualification').lower()},\n",
    "                np.is_supplemental_pay = {str(column_name == 'is_supplemental_pay').lower()},\n",
    "                np.is_office_location = {str(column_name == 'is_office_location').lower()},\n",
    "                np.is_job_duration = {str(column_name == 'is_job_duration').lower()},\n",
    "                np.is_interview_procedure = {str(column_name == 'is_interview_procedure').lower()},\n",
    "                np.is_legal_notification = {str(column_name == 'is_legal_notification').lower()},\n",
    "                np.is_other = {str(column_name == 'is_other').lower()},\n",
    "                np.is_posting_date = {str(column_name == 'is_posting_date').lower()}\n",
    "            ''' + cu.return_every_np_str + ';'\n",
    "        return [dict(record.items()) for record in tx.run(query=cypher_str, parameters={'navigable_parent': navigable_parent})]\n",
    "    with cu.driver.session() as session: row_objs_list = session.write_transaction(do_cypher_tx, navigable_parent=child_str, verbose=False)"
   ]
  },
  {
   "cell_type": "code",
   "execution_count": 30,
   "id": "1d97acb2-2b60-4a56-9b3b-ecfc2b6582e6",
   "metadata": {
    "tags": []
   },
   "outputs": [
    {
     "name": "stdout",
     "output_type": "stream",
     "text": [
      "[13]\n",
      "31 H-OL) <h3 class=\"jobSectionHeader\" pos=\"H-OL\">Office Location:</h3>\n"
     ]
    }
   ],
   "source": [
    "\n",
    "# Display the context of an individual child string\n",
    "idx = 31\n",
    "print(indices_list); child_str = child_strs_list[idx]; pos_symbol = pos_list[idx]; basic_quals_dict = nu.load_object('basic_quals_dict')\n",
    "print(str(basic_quals_dict[child_str]) + '\\n' if(child_str in basic_quals_dict) else '', end='')\n",
    "print(f'{idx} {pos_symbol}) {child_str}')"
   ]
  },
  {
   "cell_type": "code",
   "execution_count": 21,
   "id": "b2f46926-880b-4aed-bc99-4a6bd9ed7903",
   "metadata": {},
   "outputs": [
    {
     "name": "stdout",
     "output_type": "stream",
     "text": [
      "Pickling to C:\\Users\\daveb\\OneDrive\\Documents\\GitHub\\job-hunting\\saves\\pkl\\basic_quals_dict.pkl\n",
      "\"<li>Bachelor's degree in computer science, Computer Engineering, or a related field is preferred.</li>\" in basic_quals_dict: 0\n"
     ]
    }
   ],
   "source": [
    "\n",
    "# Hand-label this particular child string in the quals dictionary\n",
    "basic_quals_dict = nu.load_object('basic_quals_dict')\n",
    "basic_quals_dict[child_str] = 0\n",
    "nu.store_objects(basic_quals_dict=basic_quals_dict); print(f'\"{child_str}\" in basic_quals_dict: {basic_quals_dict[child_str]}')"
   ]
  },
  {
   "cell_type": "code",
   "execution_count": 16,
   "id": "24e7695d-caf6-416f-a761-ec17b839ccf9",
   "metadata": {},
   "outputs": [
    {
     "name": "stdout",
     "output_type": "stream",
     "text": [
      "30 H-RQ) <p>Experience: A minimum of one (1) year of specialized full-time work experience equivalent to at least the next lower grade level that entails performance of duties in inspections work at borders, seaports, airports, or other ports of entry and/or work involving preliminary screening of persons for entry and immigration status, or compliance/regulatory work; OR</p>\n",
      "31 O-LN) <p>Education Substitution: A bachelor's degree with Superior Academic Achievement based on (1) class standing, (2) grade-point average (3.0 or higher), or (3) honor society membership; OR one (1) full year of graduate level education in a field of study related to law enforcement (e.g., criminology, criminal justice, law enforcement, courts and judicial systems, corrections and rehabilitation, justice studies, homeland security, forensic technology and forensic psychology) from an accredited college or university; OR will receive a bachelor's degree with Superior Academic Achievement or one (1) full year of graduate level in a field of study related to law enforcement (listed above) from an accredited college or university within nine (9) months from the closing date of this announcement; OR</p>\n",
      "32 O-IP) <p>Combination of Experience and Education: A combination of specialized work experience equivalent to the next lower grade level AND graduate level education completed in a field of study related to law enforcement (e.g., criminology, criminal justice, law enforcement, courts and judicial systems, corrections and rehabilitation, justice studies, homeland security, forensic technology, and forensic psychology) from an accredited college or university. This will be calculated using your resume and official or unofficial transcripts submitted with your application.</p>\n"
     ]
    }
   ],
   "source": [
    "\n",
    "# Fix Non-headers\n",
    "basic_quals_dict = nu.load_object('basic_quals_dict')\n",
    "for idx in range(30, 33):\n",
    "    child_str = child_strs_list[idx]; pos_symbol = pos_list[idx]\n",
    "    print(str(basic_quals_dict[child_str]) + '\\n' if(child_str in basic_quals_dict) else '', end='')\n",
    "    print(f'{idx} {pos_symbol}) {child_str}')\n",
    "    def do_cypher_tx(tx, navigable_parent, verbose=False):\n",
    "        cypher_str = f'''\n",
    "            MATCH (np:NavigableParents {{navigable_parent: $navigable_parent}})\n",
    "            SET np.is_header = false\n",
    "            ''' + cu.return_every_np_str + ';'\n",
    "        return [dict(record.items()) for record in tx.run(query=cypher_str, parameters={'navigable_parent': navigable_parent})]\n",
    "    with cu.driver.session() as session:\n",
    "        row_objs_list = session.write_transaction(do_cypher_tx, navigable_parent=child_str, verbose=False)\n",
    "        ihu.retrain_classifier(row_objs_list[0]['navigable_parent'], row_objs_list[0]['is_header'], verbose=False)"
   ]
  },
  {
   "cell_type": "code",
   "execution_count": 65,
   "id": "326ab607-cc5c-4476-b692-395b96d293ed",
   "metadata": {},
   "outputs": [
    {
     "name": "stdout",
     "output_type": "stream",
     "text": [
      "1 H-CS) <b>About Our Opportunity:</b>\n",
      "3 H-TS) <b>Things You’ll Do Here:</b>\n",
      "12 O-RQ) <b>What You’ll Bring to the Team:</b>\n",
      "22 H-PQ) <h3 class=\"jobSectionHeader\" pos=\"H-PQ\">Preferred Qualifications:</h3>\n",
      "38 H-TS) <b>Where You’ll Work:</b>\n",
      "40 H-SP) <b>Why You Will Love Working Here</b>\n",
      "43 H-SP) <b>Perks and Benefits</b>\n"
     ]
    }
   ],
   "source": [
    "\n",
    "# Fix Headers\n",
    "basic_quals_dict = nu.load_object('basic_quals_dict')\n",
    "for idx in [1, 3, 12, 22, 38, 40, 43]:\n",
    "    child_str = child_strs_list[idx]; pos_symbol = pos_list[idx]\n",
    "    print(str(basic_quals_dict[child_str]) + '\\n' if(child_str in basic_quals_dict) else '', end='')\n",
    "    print(f'{idx} {pos_symbol}) {child_str}')\n",
    "    def do_cypher_tx(tx, navigable_parent, verbose=False):\n",
    "        cypher_str = f'''\n",
    "            MATCH (np:NavigableParents {{navigable_parent: $navigable_parent}})\n",
    "            SET np.is_header = true\n",
    "            ''' + cu.return_every_np_str + ';'\n",
    "        return [dict(record.items()) for record in tx.run(query=cypher_str, parameters={'navigable_parent': navigable_parent})]\n",
    "    with cu.driver.session() as session:\n",
    "        row_objs_list = session.write_transaction(do_cypher_tx, navigable_parent=child_str, verbose=False)\n",
    "        ihu.retrain_classifier(row_objs_list[0]['navigable_parent'], row_objs_list[0]['is_header'], verbose=False)"
   ]
  },
  {
   "cell_type": "markdown",
   "id": "181dfa2e-4e09-4da7-b046-98f5c170ec67",
   "metadata": {},
   "source": [
    "\n",
    "----\n",
    "## Maintenance"
   ]
  },
  {
   "cell_type": "code",
   "execution_count": 172,
   "id": "07255146-70be-4d52-942c-1505d6e02a9d",
   "metadata": {},
   "outputs": [],
   "source": [
    "\n",
    "# Display cypher necessary to apply for all the jobs you qualify for that you haven't applied for\n",
    "pyperclip.copy(cu.get_job_application_links)\n",
    "row_objs_list = []\n",
    "with cu.driver.session() as session: row_objs_list = session.write_transaction(cu.do_cypher_tx, cu.get_job_application_links)\n",
    "if row_objs_list:\n",
    "    df = DataFrame(row_objs_list)\n",
    "    display(df)\n",
    "    for filename in df.filename:\n",
    "        print(f\"\"\"\n",
    "MATCH (fn:FileNames)\n",
    "WHERE fn.file_name IN [\"{filename}\"]\n",
    "SET fn.is_closed = true\n",
    "RETURN fn;\"\"\")\n",
    "        break\n",
    "    for filename in df.filename:\n",
    "        print(f\"\"\"\n",
    "MATCH (fn:FileNames)\n",
    "WHERE fn.file_name IN [\"{filename}\"]\n",
    "SET fn.is_opportunity_application_emailed = true, fn.opportunity_application_email_date = date()\n",
    "RETURN fn;\"\"\")\n",
    "        break\n",
    "speech_str = 'Job application cypher code copied to clipboard'; speech_engine.say(speech_str); speech_engine.runAndWait()"
   ]
  },
  {
   "cell_type": "code",
   "execution_count": 27,
   "id": "22c3685b-69f1-40fd-aa98-c473365ff866",
   "metadata": {},
   "outputs": [],
   "source": [
    "\n",
    "# Break up overly-long O-RQs:\n",
    "# Ensure you have already run the \"Fix Parts-of-Speech and Quals for \n",
    "# this posting\" cells above or displayed the context of an \n",
    "# individual child string above. Don't close the Notepad++ window \n",
    "# until you have replaced the child string\n",
    "# file_name = '476d6e5bd50da5a6_Data_Scientist_Remote_Indeed_com.html'\n",
    "text_editor_path = r'C:\\Program Files\\Notepad++\\notepad++.exe'\n",
    "file_path = osp.abspath(osp.join(hau.SAVES_HTML_FOLDER, file_name))\n",
    "wsu.clean_job_posting(file_path)\n",
    "try: pyperclip.copy(re.sub(\"((?:<li>([^><]+)</li>\\n)+)\", \"<ul>\\n\\\\1</ul>\\n\", '\\n'.join(child_strs_list), 0, re.MULTILINE))\n",
    "except: pass\n",
    "!\"{text_editor_path}\" \"{file_path}\""
   ]
  },
  {
   "cell_type": "code",
   "execution_count": null,
   "id": "af64e55d-eb9b-413d-8b71-bef7188d48a8",
   "metadata": {},
   "outputs": [
    {
     "name": "stdout",
     "output_type": "stream",
     "text": [
      "\n",
      "                MATCH\n",
      "                    (np:NavigableParents {navigable_parent: \"<h3 class=\"jobSectionHeader\" pos=\"H-TS\">Experience:</h3>\"}),\n",
      "                    (ht:HeaderTags {header_tag: \"h3\"})\n",
      "                MERGE (ht)-[r:SUMMARIZES]->(np);\n"
     ]
    }
   ],
   "source": [
    "\n",
    "cu.rebuild_filename_node(file_name, navigable_parent=None, verbose=True)\n",
    "speech_str = f'{su.get_job_title_from_file_name(file_name)} node rebuild completed'; speech_engine.say(speech_str); speech_engine.runAndWait()"
   ]
  },
  {
   "cell_type": "markdown",
   "id": "ba3fae8b-14ec-4c20-96b0-70c622ac7c73",
   "metadata": {},
   "source": [
    "\n",
    "----"
   ]
  },
  {
   "cell_type": "code",
   "execution_count": null,
   "id": "56d17dac-be9e-4bc3-aa01-58eed1baa9af",
   "metadata": {},
   "outputs": [],
   "source": [
    "\n",
    "# Show what's in the database already for this html string\n",
    "def do_cypher_tx(tx, navigable_parent, verbose=False):\n",
    "    cypher_str = '''\n",
    "        MATCH (np:NavigableParents {navigable_parent: $navigable_parent})\n",
    "        ''' + cu.return_every_np_str + ';'\n",
    "    results_list = tx.run(query=cypher_str, parameters={'navigable_parent': navigable_parent})\n",
    "    return [dict(record.items()) for record in results_list]\n",
    "with cu.driver.session() as session: row_objs_list = session.write_transaction(do_cypher_tx, navigable_parent=child_str, verbose=False)\n",
    "row_objs_list"
   ]
  },
  {
   "cell_type": "code",
   "execution_count": 213,
   "id": "fe1d1a8b-85e6-4fb8-aba3-43874e6dabdf",
   "metadata": {},
   "outputs": [
    {
     "name": "stdout",
     "output_type": "stream",
     "text": [
      "Pickling to C:\\Users\\daveb\\OneDrive\\Documents\\GitHub\\job-hunting\\saves\\pkl\\basic_quals_dict.pkl\n",
      "\"Occasionally\" in basic_quals_dict: False\n"
     ]
    }
   ],
   "source": [
    "\n",
    "# Remove this particular qualification string from the quals dictionary\n",
    "qualification_str = quals_list[2]\n",
    "basic_quals_dict = nu.load_object('basic_quals_dict')\n",
    "basic_quals_dict.pop(qualification_str, None)\n",
    "nu.store_objects(basic_quals_dict=basic_quals_dict)\n",
    "print(f'\"{qualification_str}\" in basic_quals_dict: {qualification_str in basic_quals_dict}')"
   ]
  },
  {
   "cell_type": "code",
   "execution_count": 214,
   "id": "2e765305-d9a3-4955-a905-8389c35ad472",
   "metadata": {},
   "outputs": [],
   "source": [
    "\n",
    "# Remove this particular qualification string from the database\n",
    "def do_cypher_tx(tx, qualification_str, verbose=False):\n",
    "    cypher_str = '''\n",
    "        MATCH (qs:QualificationStrings {qualification_str: $qualification_str})\n",
    "        DETACH DELETE qs;\n",
    "        '''\n",
    "    results_list = tx.run(query=cypher_str, parameters={'qualification_str': qualification_str})\n",
    "\n",
    "    return [dict(record.items()) for record in results_list]\n",
    "with cu.driver.session() as session:\n",
    "    row_objs_list = session.write_transaction(do_cypher_tx, qualification_str=qualification_str, verbose=False)"
   ]
  },
  {
   "cell_type": "code",
   "execution_count": null,
   "id": "4005f4a8-f07c-4538-8d1b-210d32dd3199",
   "metadata": {},
   "outputs": [],
   "source": [
    "\n",
    "# Manually set each feature\n",
    "def do_cypher_tx(tx, navigable_parent, verbose=False):\n",
    "    cypher_str = '''\n",
    "        MATCH (np:NavigableParents {navigable_parent: $navigable_parent})\n",
    "        SET\n",
    "            np.is_header = true,\n",
    "            np.is_task_scope = false,\n",
    "            np.is_minimum_qualification = false,\n",
    "            np.is_preferred_qualification = false,\n",
    "            np.is_educational_requirement = true,\n",
    "            np.is_legal_notification = false,\n",
    "            np.is_other = false,\n",
    "            np.is_corporate_scope = false,\n",
    "            np.is_job_title = false,\n",
    "            np.is_office_location = false,\n",
    "            np.is_job_duration = false,\n",
    "            np.is_supplemental_pay = false,\n",
    "            np.is_interview_procedure = false,\n",
    "            np.is_posting_date = false\n",
    "        ''' + cu.return_every_np_str + ';'\n",
    "    return [dict(record.items()) for record in tx.run(query=cypher_str, parameters={'navigable_parent': navigable_parent})]\n",
    "with cu.driver.session() as session: row_objs_list = session.write_transaction(do_cypher_tx, navigable_parent=child_str, verbose=False)\n",
    "ihu.retrain_classifier(row_objs_list[0]['navigable_parent'], row_objs_list[0]['is_header'], verbose=False); row_objs_list"
   ]
  },
  {
   "cell_type": "code",
   "execution_count": 229,
   "id": "872a9fa5-9f15-4bcc-a3df-b75dbb52ed51",
   "metadata": {},
   "outputs": [
    {
     "name": "stdout",
     "output_type": "stream",
     "text": [
      "\n",
      "                    MATCH (fn:FileNames {file_name: \"\"})\n",
      "                    DETACH DELETE fn;\n",
      "C:\\Users\\daveb\\OneDrive\\Documents\\GitHub\\job-hunting\\saves\\html\\ removed\n"
     ]
    }
   ],
   "source": [
    "\n",
    "# Remove file name from database\n",
    "for file_name in ['']:\n",
    "    \n",
    "    # Lose the node features and folder storage\n",
    "    cu.delete_filename_node(\n",
    "        file_name, remove_node=True, remove_file=True, verbose=True\n",
    "    )"
   ]
  },
  {
   "cell_type": "code",
   "execution_count": null,
   "id": "72f2828f-ab7b-4550-b5cc-92078c40f331",
   "metadata": {},
   "outputs": [],
   "source": []
  }
 ],
 "metadata": {
  "kernelspec": {
   "display_name": "Job Hunting (Python 3.10.9)",
   "language": "python",
   "name": "jh_env"
  },
  "language_info": {
   "codemirror_mode": {
    "name": "ipython",
    "version": 3
   },
   "file_extension": ".py",
   "mimetype": "text/x-python",
   "name": "python",
   "nbconvert_exporter": "python",
   "pygments_lexer": "ipython3",
   "version": "3.10.9"
  }
 },
 "nbformat": 4,
 "nbformat_minor": 5
}
