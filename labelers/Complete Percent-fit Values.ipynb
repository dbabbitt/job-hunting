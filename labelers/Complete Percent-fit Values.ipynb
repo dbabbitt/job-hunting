{
 "cells": [
  {
   "cell_type": "code",
   "execution_count": 1,
   "id": "174c9bb2-7d08-4fa2-aa2b-e3be342e52ec",
   "metadata": {},
   "outputs": [
    {
     "name": "stdout",
     "output_type": "stream",
     "text": [
      "Pretty printing has been turned OFF\n"
     ]
    }
   ],
   "source": [
    "\n",
    "%pprint"
   ]
  },
  {
   "cell_type": "markdown",
   "id": "9fb4f695-4003-423d-989a-efdaa0757778",
   "metadata": {
    "tags": []
   },
   "source": [
    "\n",
    "---\n",
    "# Load needed libraries and functions"
   ]
  },
  {
   "cell_type": "code",
   "execution_count": 2,
   "id": "528c4de8-98a4-4896-862e-03c72e6ce192",
   "metadata": {},
   "outputs": [],
   "source": [
    "\n",
    "%matplotlib inline\n",
    "from datetime import datetime\n",
    "from neo4j.exceptions import ServiceUnavailable\n",
    "import humanize\n",
    "import os\n",
    "import sys\n",
    "import time\n",
    "import warnings\n",
    "import winsound\n",
    "\n",
    "warnings.filterwarnings('ignore')\n",
    "duration = 1000  # milliseconds\n",
    "freq = 880  # Hz\n",
    "\n",
    "# Insert at 1, 0 is the script path (or '' in REPL)\n",
    "sys.path.insert(1, '../py')"
   ]
  },
  {
   "cell_type": "code",
   "execution_count": 3,
   "id": "ff7aa81f-314d-4d0d-a238-355d5210f157",
   "metadata": {},
   "outputs": [
    {
     "name": "stdout",
     "output_type": "stream",
     "text": [
      "======== Neo4j/4.4.7 ========\n",
      "Utility libraries created in 12 seconds\n"
     ]
    }
   ],
   "source": [
    "\n",
    "t0 = t1 = time.time()\n",
    "\n",
    "# Get the Neo4j driver\n",
    "from storage import Storage\n",
    "s = Storage(\n",
    "    data_folder_path=os.path.abspath('../data'),\n",
    "    saves_folder_path=os.path.abspath('../saves')\n",
    ")\n",
    "\n",
    "from ha_utils import HeaderAnalysis\n",
    "ha = HeaderAnalysis(s=s, verbose=False)\n",
    "\n",
    "from scrape_utils import WebScrapingUtilities\n",
    "wsu = WebScrapingUtilities(\n",
    "    s=s,\n",
    "    secrets_json_path=os.path.abspath('../data/secrets/jh_secrets.json')\n",
    ")\n",
    "uri = wsu.secrets_json['neo4j']['connect_url']\n",
    "user =  wsu.secrets_json['neo4j']['username']\n",
    "password = wsu.secrets_json['neo4j']['password']\n",
    "\n",
    "# Get the neo4j object\n",
    "from cypher_utils import CypherUtilities\n",
    "cu = CypherUtilities(\n",
    "    uri=uri, user=user, password=password, driver=None, s=s, ha=ha\n",
    ")\n",
    "\n",
    "try:\n",
    "    version_str = cu.driver.get_server_info().agent\n",
    "    print(f'======== {version_str} ========')\n",
    "except ServiceUnavailable as e:\n",
    "    print('You need to start Neo4j as a console')\n",
    "    raise\n",
    "except Exception as e:\n",
    "    print(f'{e.__class__}: {str(e).strip()}')\n",
    "\n",
    "from hc_utils import HeaderCategories\n",
    "hc = HeaderCategories(cu=cu, verbose=False)\n",
    "\n",
    "from lr_utils import LrUtilities\n",
    "lru = LrUtilities(ha=ha, cu=cu, hc=hc, verbose=False)\n",
    "\n",
    "from crf_utils import CrfUtilities\n",
    "crf = CrfUtilities(ha=ha, hc=hc, cu=cu, lru=lru, verbose=True)\n",
    "\n",
    "from section_utils import SectionUtilities\n",
    "su = SectionUtilities(s=s, ha=ha, wsu=wsu, cu=cu, crf=crf, verbose=False)\n",
    "duration_str = humanize.precisedelta(time.time() - t1, minimum_unit='seconds', format='%0.0f')\n",
    "print(f'Utility libraries created in {duration_str}')"
   ]
  },
  {
   "cell_type": "code",
   "execution_count": 4,
   "id": "fd3f331b-c66a-4c65-906b-22bc6fc034c8",
   "metadata": {},
   "outputs": [
    {
     "name": "stdout",
     "output_type": "stream",
     "text": [
      "Parts-of-speech logistic regression elements built in 2 seconds\n"
     ]
    }
   ],
   "source": [
    "\n",
    "# Keep the total creation time to less than one hour by adjusting the sampling strategy limit\n",
    "# I have 47,686 labeled parts of speech in here\n",
    "# Parts-of-speech logistic regression elements built in 2 hours, 3 minutes and 10 seconds\n",
    "t1 = time.time()\n",
    "if not (hasattr(lru, 'POS_PREDICT_PERCENT_FIT_DICT') or crf.is_flask_running()):\n",
    "    lru.build_pos_logistic_regression_elements(sampling_strategy_limit=None, verbose=True)#6_400\n",
    "duration_str = humanize.precisedelta(time.time() - t1, minimum_unit='seconds', format='%0.0f')\n",
    "print(f'Parts-of-speech logistic regression elements built in {duration_str}')"
   ]
  },
  {
   "cell_type": "code",
   "execution_count": 5,
   "id": "3fe80356-c69a-4579-b298-31e40e871b31",
   "metadata": {},
   "outputs": [
    {
     "name": "stdout",
     "output_type": "stream",
     "text": [
      "I have 46,569 labeled parts of speech in here\n",
      "Parts-of-speech CRF elements built in 19 minutes and 38 seconds\n"
     ]
    }
   ],
   "source": [
    "\n",
    "# Check if the crf has built its parts-of-speech classifier\n",
    "t1 = time.time()\n",
    "if not hasattr(crf, 'pos_crf_predict_single'):# or crf.is_flask_running())\n",
    "    crf.build_pos_conditional_random_field_elements(verbose=True)\n",
    "duration_str = humanize.precisedelta(time.time() - t1, minimum_unit='seconds', format='%0.0f')\n",
    "print(f'Parts-of-speech CRF elements built in {duration_str}')"
   ]
  },
  {
   "cell_type": "code",
   "execution_count": 6,
   "id": "d259dffb-c212-4493-a879-1ae5d503f8ec",
   "metadata": {},
   "outputs": [
    {
     "name": "stdout",
     "output_type": "stream",
     "text": [
      "I have 352,288 is-qualified vocabulary keys in here\n",
      "Is-qualified LR elements built in 1 minute and 49 seconds\n"
     ]
    }
   ],
   "source": [
    "\n",
    "# Check if the lru has built its is-qualified classifier\n",
    "t1 = time.time()\n",
    "if not hasattr(lru, 'ISQUALIFIED_LR'):\n",
    "    lru.build_isqualified_logistic_regression_elements(sampling_strategy_limit=5_000, verbose=True)\n",
    "duration_str = humanize.precisedelta(time.time() - t1, minimum_unit='seconds', format='%0.0f')\n",
    "print(f'Is-qualified LR elements built in {duration_str}')"
   ]
  },
  {
   "cell_type": "code",
   "execution_count": 7,
   "id": "7ec826b2-988b-4a66-a05d-5a17e981dcb5",
   "metadata": {},
   "outputs": [
    {
     "name": "stdout",
     "output_type": "stream",
     "text": [
      "I have 81,585 hand-labeled header htmls in here\n",
      "Is-header classifier retrained in 25 seconds\n"
     ]
    }
   ],
   "source": [
    "\n",
    "# Check if the lru has retrained its is-header classifier\n",
    "t1 = time.time()\n",
    "if not hasattr(lru, 'ISHEADER_PREDICT_PERCENT_FIT'):\n",
    "    if not hasattr(lru, 'ISHEADER_LR'):\n",
    "        lru.build_isheader_logistic_regression_elements(verbose=True)\n",
    "    lru.retrain_isheader_classifier(verbose=True)\n",
    "duration_str = humanize.precisedelta(time.time() - t1, minimum_unit='seconds', format='%0.0f')\n",
    "print(f'Is-header classifier retrained in {duration_str}')"
   ]
  },
  {
   "cell_type": "code",
   "execution_count": 8,
   "id": "dcef1d94-4466-4100-86cd-0d66f23d0d40",
   "metadata": {},
   "outputs": [
    {
     "name": "stdout",
     "output_type": "stream",
     "text": [
      "Last run on 2023-03-16 07:01:51.072351\n"
     ]
    }
   ],
   "source": [
    "\n",
    "winsound.Beep(freq, duration)\n",
    "print(f'Last run on {datetime.now()}')"
   ]
  },
  {
   "cell_type": "markdown",
   "id": "2f438163-0f14-4a74-978c-769c9dba95c8",
   "metadata": {},
   "source": [
    "\n",
    "---\n",
    "# Training"
   ]
  },
  {
   "cell_type": "code",
   "execution_count": 475,
   "id": "f02bfeac-67b7-4df6-a4a0-32ec3dec0022",
   "metadata": {},
   "outputs": [
    {
     "name": "stdout",
     "output_type": "stream",
     "text": [
      "I have 12,435 hand-labeled qualification strings in here\n",
      "I have 416,039 is-qualified vocabulary keys in here\n",
      "Is-qualified classifer retrained in 1 minute and 30 seconds\n"
     ]
    }
   ],
   "source": [
    "\n",
    "# You need to run this again if you changed the qualification dictionary in another notebook\n",
    "t1 = time.time()\n",
    "\n",
    "# Keep the total retraining time to less than two minutes by adjusting the sampling strategy limit\n",
    "lru.sync_basic_quals_dict(sampling_strategy_limit=None, verbose=False)\n",
    "\n",
    "lru.retrain_isqualified_classifier(verbose=True)\n",
    "duration_str = humanize.precisedelta(time.time() - t1, minimum_unit='seconds', format='%0.0f')\n",
    "print(f'Is-qualified classifer retrained in {duration_str}')"
   ]
  },
  {
   "cell_type": "markdown",
   "id": "52ad3579-ebc3-4d21-a7c3-f9bd168ac6ca",
   "metadata": {},
   "source": [
    "\n",
    "---\n",
    "# Inference"
   ]
  },
  {
   "cell_type": "code",
   "execution_count": 476,
   "id": "d334d815-e43b-474e-9dbb-db509176f6e5",
   "metadata": {
    "tags": []
   },
   "outputs": [
    {
     "name": "stdout",
     "output_type": "stream",
     "text": [
      "\n",
      "                MATCH (fn:FileNames {file_name: \"c31199256bb7c825_Data_Analytics_Lead_Principal_Remote_Indeed_com.html\"})\n",
      "                SET fn.percent_fit = \"0.631578947368421\";\n",
      "\n",
      "Basic Qualifications for Data Scientist Remote:\n",
      "*quals_list[0] = \"<p>· Experience with Python, Pandas, Jupyter notebooks.</p>\" (1.0)\n",
      "*quals_list[1] = \"<p>· Oracle/SQL Server/RedShift.</p>\" (0.0341)\n",
      "*quals_list[2] = \"<p>· Excel workbooks.</p>\" (1.0)\n",
      "*quals_list[3] = \"<p>· Bachelor's degree in a quantitative field like Computer Science, Engineering, Statistics, Mathematics or a related field required.</p>\" (1.0)\n",
      "*quals_list[4] = \"<p>· Experience in AWS (Amazon Web Services)</p>\" (0.0)\n",
      "*quals_list[5] = \"<p>· Experience with SQL and databases.</p>\" (1.0)\n",
      "*quals_list[6] = \"<p>· Strong Excel and MS Office skills.</p>\" (1.0)\n",
      "71.43%\n",
      "\n",
      "hunting_df.loc[7948, 'percent_fit'] = (000+000+000+000+000+000+000)/7\n",
      "7946/7954 = 99.9% completed\n",
      "Minimum-requirements-met percentages estimated in 9 minutes and 54 seconds\n"
     ]
    },
    {
     "data": {
      "image/png": "[encoded data removed]",
      "text/plain": [
       "<Figure size 1800x300 with 2 Axes>"
      ]
     },
     "metadata": {},
     "output_type": "display_data"
    }
   ],
   "source": [
    "\n",
    "t1 = time.time()\n",
    "\n",
    "# Loop through all the unset %fit values, set them if you can, break for help if you can't\n",
    "quals_list, file_name = lru.infer_from_hunting_dataframe(su=su)\n",
    "\n",
    "# Display as histogram\n",
    "lru.display_hunting_dataframe_as_histogram()\n",
    "\n",
    "# Show how long it took\n",
    "duration_str = humanize.precisedelta(time.time() - t1, minimum_unit='seconds', format='%0.0f')\n",
    "winsound.Beep(freq, duration)\n",
    "print(f'Minimum-requirements-met percentages estimated in {duration_str}')"
   ]
  },
  {
   "cell_type": "code",
   "execution_count": null,
   "id": "adde7906-399d-4a84-a2cb-ed327f307ebe",
   "metadata": {},
   "outputs": [],
   "source": [
    "\n",
    "# Restarting the kernal and getting to this cell took 26 minutes and 52 seconds\n",
    "duration_str = humanize.precisedelta(time.time() - t0, minimum_unit='seconds', format='%0.0f')\n",
    "print(f'Restarting the kernel and getting to this cell took {duration_str}')\n",
    "raise"
   ]
  },
  {
   "cell_type": "code",
   "execution_count": 477,
   "id": "47bd03b8-c0a3-404c-a16d-eb4ce95c6561",
   "metadata": {},
   "outputs": [
    {
     "name": "stdout",
     "output_type": "stream",
     "text": [
      "<p>· Experience with Python, Pandas, Jupyter notebooks.</p>\n",
      "Pickling to C:\\Users\\daveb\\OneDrive\\Documents\\GitHub\\job-hunting\\saves\\pkl\\basic_quals_dict.pkl\n"
     ]
    }
   ],
   "source": [
    "\n",
    "# Manually label the unscored qual\n",
    "qualification_str = quals_list[0]\n",
    "print(qualification_str); basic_quals_dict = s.load_object('basic_quals_dict')\n",
    "print(str(basic_quals_dict[qualification_str]) + '\\n' if(qualification_str in basic_quals_dict) else '', end='')\n",
    "basic_quals_dict[qualification_str] = 1\n",
    "s.store_objects(basic_quals_dict=basic_quals_dict)"
   ]
  },
  {
   "cell_type": "markdown",
   "id": "50146b21-cb1d-4475-9465-2a383f002533",
   "metadata": {},
   "source": [
    "\n",
    "----\n",
    "## Fix Parts-of-Speech and Quals for this posting"
   ]
  },
  {
   "cell_type": "code",
   "execution_count": 478,
   "id": "8ac6efb8-6b56-43dd-9079-d6a87491ecc5",
   "metadata": {},
   "outputs": [
    {
     "name": "stdout",
     "output_type": "stream",
     "text": [
      "22d9249fa5bfa5f6_Data_Scientist_Remote_Indeed_com.html\n"
     ]
    }
   ],
   "source": [
    "\n",
    "import os\n",
    "\n",
    "file_path = os.path.join(cu.SAVES_HTML_FOLDER, file_name)\n",
    "if os.path.isfile(file_path):\n",
    "    child_strs_list = ha.get_child_strs_from_file(file_name=file_name)\n",
    "    cu.ensure_filename(file_name, verbose=False)\n",
    "    cu.populate_from_child_strings(child_strs_list, file_name, verbose=False)\n",
    "    print(file_name)\n",
    "    child_tags_list = ha.get_child_tags_list(child_strs_list)\n",
    "    is_header_list = []\n",
    "    for is_header, child_str in zip(ha.get_is_header_list(child_strs_list), child_strs_list):\n",
    "        if is_header is None:\n",
    "            probs_list = lru.ISHEADER_PREDICT_PERCENT_FIT(child_str)\n",
    "            idx = probs_list.index(max(probs_list))\n",
    "            is_header = [True, False][idx]\n",
    "        is_header_list.append(is_header)\n",
    "    feature_dict_list = hc.get_feature_dict_list(child_tags_list, is_header_list, child_strs_list)\n",
    "    feature_tuple_list = []\n",
    "    for feature_dict in feature_dict_list:\n",
    "        feature_tuple_list.append(hc.get_feature_tuple(feature_dict, pos_lr_predict_single=None, pos_crf_predict_single=None))\n",
    "    crf_list = crf.CRF.predict_single(crf.sent2features(feature_tuple_list))"
   ]
  },
  {
   "cell_type": "code",
   "execution_count": 479,
   "id": "affcb06a-3165-4349-a936-037af549d417",
   "metadata": {},
   "outputs": [
    {
     "name": "stdout",
     "output_type": "stream",
     "text": [
      "['H-O', 'O-O', 'O-IP', 'H-JD', 'O-JD', 'O-IP', 'O-JD', 'O-IP', 'O-IP', 'O-IP', 'H-JD', 'O-JD', 'O-SP', 'H-RQ', 'H-PQ', 'H-PQ', 'H-SP', 'O-IP', 'O-SP', 'O-SP', 'O-SP', 'O-SP', 'H-TS', 'O-JT', 'O-OL', 'O-TS', 'O-RQ', 'H-TS', 'O-TS', 'O-TS', 'O-RQ', 'O-TS', 'O-O', 'O-RQ', 'O-TS', 'O-TS', 'O-TS', 'H-TS', 'H-PQ', 'O-RQ', 'H-ER', 'O-ER', 'H-PQ', 'O-RQ', 'O-RQ', 'O-PQ', 'O-RQ', 'O-JD', 'H-SP', 'H-SP', 'O-SP', 'O-SP', 'O-SP', 'O-SP', 'H-JD', 'O-JD', 'O-JD', 'H-RQ', 'O-PQ', 'O-PQ', 'O-OL', 'O-SP', 'H-O', 'O-O', 'O-O', 'H-TS', 'O-O', 'H-O', 'O-PD']\n",
      "[26, 30, 33, 39, 41]\n"
     ]
    },
    {
     "data": {
      "text/html": [
       "0 H-O) <span style=\"color:#8c564bff;\"><h2 class=\"css-tmzs7i e1tiznh50\" id=\"jobDetails\" tabindex=\"-1\">Job details (H-O Other Header)</h2></span><br />1 O-O) <span style=\"color:#8c564b80;\">No matching (O-O Other Non-header)</span><br />2 O-IP) <span style=\"color:#ffbb7880;\">job preferences (O-IP Interview Procedures Non-header)</span><br />3 H-JD) <span style=\"color:#98df8aff;\">Job Type (H-JD Job Duration Header)</span><br />4 O-JD) <span style=\"color:#98df8a80;\"><div class=\"css-tvvxwd ecydgvn1\">Full-time (O-JD Job Duration Non-header)</div></span><br />5 O-IP) <span style=\"color:#ffbb7880;\">Are you looking for (O-IP Interview Procedures Non-header)</span><br />6 O-JD) <span style=\"color:#98df8a80;\"><strong>Full-time (O-JD Job Duration Non-header)</strong></span><br />7 O-IP) <span style=\"color:#ffbb7880;\">work? (O-IP Interview Procedures Non-header)</span><br />8 O-IP) <span style=\"color:#ffbb7880;\"><span aria-hidden=\"false\">Yes (O-IP Interview Procedures Non-header)</span></span><br />9 O-IP) <span style=\"color:#ffbb7880;\"><span aria-hidden=\"false\">No (O-IP Interview Procedures Non-header)</span></span><br />10 H-JD) <span style=\"color:#98df8aff;\">Shift and Schedule (H-JD Job Duration Header)</span><br />11 O-JD) <span style=\"color:#98df8a80;\"><div class=\"css-tvvxwd ecydgvn1\">8 hour shift (O-JD Job Duration Non-header)</div></span><br />12 O-SP) <span style=\"color:#17becf80;\"><div class=\"css-tvvxwd ecydgvn1\">Monday to Friday (O-SP Supplemental Pay Non-header)</div></span><br />13 H-RQ) <span style=\"color:#bcbd22ff;\"><h2 class=\"css-qb9y68 e1tiznh50\">Qualifications (H-RQ Required Qualifications Header)</h2></span><br />14 H-PQ) <span style=\"color:#c7c7c7ff;\"><p class=\"css-1n6x9vg eu4oa1w0\">SQL (Preferred) (H-PQ Preferred Qualifications Header)</p></span><br />15 H-PQ) <span style=\"color:#c7c7c7ff;\"><p class=\"css-1n6x9vg eu4oa1w0\">Python (Preferred) (H-PQ Preferred Qualifications Header)</p></span><br />16 H-SP) <span style=\"color:#17becfff;\">Benefits (H-SP Supplemental Pay Header)</span><br />17 O-IP) <span style=\"color:#ffbb7880;\"><div class=\"css-brixrz e1wnkr790\">Pulled from the full job description (O-IP Interview Procedures Non-header)</div></span><br />18 O-SP) <span style=\"color:#17becf80;\"><div class=\"css-tvvxwd ecydgvn1\">401(k) (O-SP Supplemental Pay Non-header)</div></span><br />19 O-SP) <span style=\"color:#17becf80;\"><div class=\"css-tvvxwd ecydgvn1\">Dental insurance (O-SP Supplemental Pay Non-header)</div></span><br />20 O-SP) <span style=\"color:#17becf80;\"><div class=\"css-tvvxwd ecydgvn1\">Health insurance (O-SP Supplemental Pay Non-header)</div></span><br />21 O-SP) <span style=\"color:#17becf80;\"><div class=\"css-tvvxwd ecydgvn1\">Paid time off (O-SP Supplemental Pay Non-header)</div></span><br />22 H-TS) <span style=\"color:#9edae5ff;\"><h2 class=\"jobsearch-JobDescriptionSection-jobDescriptionTitle icl-u-xs-my--md\" id=\"jobDescriptionTitle\">Full Job Description (H-TS Task Scope Header)</h2></span><br />23 O-JT) <span style=\"color:#d6272880;\"><b>Title: Data Scientist - I (Assistant) (O-JT Job Title Non-header)</b></span><br />24 O-OL) <span style=\"color:#c49c9480;\"><b>Location: 770 Sumneytown Pike, West Point, PA 19486 (O-OL Office Location Non-header)</b></span><br />25 O-TS) <span style=\"color:#9edae580;\"><b>Duration: 6+ Months (possibility of extension) (O-TS Task Scope Non-header)</b></span><br /><hr />26 O-RQ) <span style=\"color:#bcbd2280;\"><b>Note: Candidate Must be Covid-19 Vaccinated. (O-RQ Required Qualifications Non-header)</b></span><br />27 H-TS) <span style=\"color:#9edae5ff;\"><b>Job Responsibilities: - (H-TS Task Scope Header)</b></span><br />28 O-TS) <span style=\"color:#9edae580;\"><p>· Retrieval of data from the following types of sources. (O-TS Task Scope Non-header)</p></span><br />29 O-TS) <span style=\"color:#9edae580;\"><p>· Oracle/SQL Server/RedShift. (O-TS Task Scope Non-header)</p></span><br />30 O-RQ) <span style=\"color:#bcbd2280;\"><p>· Excel workbooks. (O-RQ Required Qualifications Non-header)</p></span><br />31 O-TS) <span style=\"color:#9edae580;\"><p>· Word documents/reports. (O-TS Task Scope Non-header)</p></span><br />32 O-O) <span style=\"color:#8c564b80;\"><p>· PowerPoint slide decks. (O-O Other Non-header)</p></span><br />33 O-RQ) <span style=\"color:#bcbd2280;\"><p>· Clean and harmonize disparate data with guidance of SMEs. (O-RQ Required Qualifications Non-header)</p></span><br />34 O-TS) <span style=\"color:#9edae580;\"><p>· Combine data into structured tables for ingestion to the data lake. (O-TS Task Scope Non-header)</p></span><br />35 O-TS) <span style=\"color:#9edae580;\"><p>· Collecting, cleaning, and harmonizing the data. (O-TS Task Scope Non-header)</p></span><br />36 O-TS) <span style=\"color:#9edae580;\"><p>· Combining historical data and prospective data into a data source. (O-TS Task Scope Non-header)</p></span><br />37 H-TS) <span style=\"color:#9edae5ff;\"><p>· Person will be handling large volume data. (H-TS Task Scope Header)</p></span><br />38 H-PQ) <span style=\"color:#c7c7c7ff;\"><b>Nice to have skills: (H-PQ Preferred Qualifications Header)</b></span><br />39 O-RQ) <span style=\"color:#bcbd2280;\"><p>· Experience in AWS (Amazon Web Services) (O-RQ Required Qualifications Non-header)</p></span><br />40 H-ER) <span style=\"color:#aec7e8ff;\"><b>Education: (H-ER Education Requirements Header)</b></span><br />41 O-ER) <span style=\"color:#aec7e880;\"><p>· Bachelor's degree in a quantitative field like Computer Science, Engineering, Statistics, Mathematics or a related field required. (O-ER Education Requirements Non-header)</p></span><br /><hr />42 H-PQ) <span style=\"color:#c7c7c7ff;\"><p>· Advanced degree is a strong plus. (H-PQ Preferred Qualifications Header)</p></span><br />43 O-RQ) <span style=\"color:#bcbd2280;\"><b>Required skills: (O-RQ Required Qualifications Non-header)</b></span><br />44 O-RQ) <span style=\"color:#bcbd2280;\"><p>· Experience with Python, Pandas, Jupyter notebooks. (O-RQ Required Qualifications Non-header)</p></span><br />45 O-PQ) <span style=\"color:#c7c7c780;\"><p>· Experience with SQL and databases. (O-PQ Preferred Qualifications Non-header)</p></span><br />46 O-RQ) <span style=\"color:#bcbd2280;\"><p>· Strong Excel and MS Office skills. (O-RQ Required Qualifications Non-header)</p></span><br />47 O-JD) <span style=\"color:#98df8a80;\"><p>Job Type: Full-time (O-JD Job Duration Non-header)</p></span><br />48 H-SP) <span style=\"color:#17becfff;\"><p>Pay: Up to $50.00 per hour (H-SP Supplemental Pay Header)</p></span><br />49 H-SP) <span style=\"color:#17becfff;\"><p>Benefits: (H-SP Supplemental Pay Header)</p></span><br />50 O-SP) <span style=\"color:#17becf80;\"><li>401(k) (O-SP Supplemental Pay Non-header)</li></span><br />51 O-SP) <span style=\"color:#17becf80;\"><li>Dental insurance (O-SP Supplemental Pay Non-header)</li></span><br />52 O-SP) <span style=\"color:#17becf80;\"><li>Health insurance (O-SP Supplemental Pay Non-header)</li></span><br />53 O-SP) <span style=\"color:#17becf80;\"><li>Paid time off (O-SP Supplemental Pay Non-header)</li></span><br />54 H-JD) <span style=\"color:#98df8aff;\"><p>Schedule: (H-JD Job Duration Header)</p></span><br />55 O-JD) <span style=\"color:#98df8a80;\"><li>8 hour shift (O-JD Job Duration Non-header)</li></span><br />56 O-JD) <span style=\"color:#98df8a80;\"><li>Monday to Friday (O-JD Job Duration Non-header)</li></span><br />57 H-RQ) <span style=\"color:#bcbd22ff;\"><p>Experience: (H-RQ Required Qualifications Header)</p></span><br />58 O-PQ) <span style=\"color:#c7c7c780;\"><li>SQL (Preferred) (O-PQ Preferred Qualifications Non-header)</li></span><br />59 O-PQ) <span style=\"color:#c7c7c780;\"><li>Python (Preferred) (O-PQ Preferred Qualifications Non-header)</li></span><br />60 O-OL) <span style=\"color:#c49c9480;\"><p>Work Location: Remote (O-OL Office Location Non-header)</p></span><br />61 O-SP) <span style=\"color:#17becf80;\"><li>Health insurance (O-SP Supplemental Pay Non-header)</li></span><br />62 H-O) <span style=\"color:#8c564bff;\"><h2 class=\"css-14vqcyj e1tiznh50\">Hiring Insights (H-O Other Header)</h2></span><br />63 O-O) <span style=\"color:#8c564b80;\">Hiring (O-O Other Non-header)</span><br />64 O-O) <span style=\"color:#8c564b80;\"><b>1 (O-O Other Non-header)</b></span><br />65 H-TS) <span style=\"color:#9edae5ff;\">candidate for this role (H-TS Task Scope Header)</span><br />66 O-O) <span style=\"color:#8c564b80;\"><span class=\"css-kyg8or eu4oa1w0\">Urgently hiring (O-O Other Non-header)</span></span><br />67 H-O) <span style=\"color:#8c564bff;\"><h3 class=\"css-1s8hy3a e1tiznh50\">Job activity (H-O Other Header)</h3></span><br />68 O-PD) <span style=\"color:#f7b6d280;\"><span class=\"css-kyg8or eu4oa1w0\">Posted Today (O-PD Post Date Non-header)</span></span><br />"
      ],
      "text/plain": [
       "<IPython.core.display.HTML object>"
      ]
     },
     "metadata": {},
     "output_type": "display_data"
    },
    {
     "name": "stdout",
     "output_type": "stream",
     "text": [
      "[26, 30, 33, 39, 41]\n"
     ]
    }
   ],
   "source": [
    "\n",
    "db_pos_list = []\n",
    "for navigable_parent in child_strs_list:\n",
    "    db_pos_list = cu.append_parts_of_speech_list(navigable_parent, pos_list=db_pos_list)\n",
    "pos_list, indices_list = su.visualize_basic_quals_section(crf_list, child_strs_list, db_pos_list=db_pos_list, verbose=True)\n",
    "winsound.Beep(freq, duration)"
   ]
  },
  {
   "cell_type": "code",
   "execution_count": null,
   "id": "91379a3d-1a77-4d8b-9ef6-a76f12204ac2",
   "metadata": {},
   "outputs": [],
   "source": [
    "raise"
   ]
  },
  {
   "cell_type": "code",
   "execution_count": 472,
   "id": "1d97acb2-2b60-4a56-9b3b-ecfc2b6582e6",
   "metadata": {
    "tags": []
   },
   "outputs": [
    {
     "name": "stdout",
     "output_type": "stream",
     "text": [
      "[34, 37, 38, 41, 42]\n",
      "47 H-CS) <b>About Us:</b>\n"
     ]
    }
   ],
   "source": [
    "\n",
    "# Display the context of an individual child string\n",
    "idx = 47\n",
    "print(indices_list); child_str = child_strs_list[idx]; pos_symbol = pos_list[idx]; basic_quals_dict = s.load_object('basic_quals_dict')\n",
    "print(str(basic_quals_dict[child_str]) + '\\n' if(child_str in basic_quals_dict) else '', end='')\n",
    "print(f'{idx} {pos_symbol}) {child_str}')"
   ]
  },
  {
   "cell_type": "code",
   "execution_count": 470,
   "id": "b2f46926-880b-4aed-bc99-4a6bd9ed7903",
   "metadata": {},
   "outputs": [
    {
     "name": "stdout",
     "output_type": "stream",
     "text": [
      "Pickling to C:\\Users\\daveb\\OneDrive\\Documents\\GitHub\\job-hunting\\saves\\pkl\\basic_quals_dict.pkl\n",
      "\"<li>Experienced with tools such as these: AWS (server &amp; serverless services), Ansible or (Preferred) Terraform, CloudFormations, (Preferred) Python, Jenkins, (Preferred) GitHub GitOps, (Preferred) Security scanning tools (Nessus, BurpSuite, Netsparker, OWASP, etc.), IaC (Infrastructure as Code) techniques for the full stack of Dev/Data Analytics, QA tools below. Potentially others…Dev/Data Analytics, QA - SAS Viya, hadoop, airflow, AWS EMR hbase, Quicksight, Apache Ranger/Knox, AWS IAM, Ambari, Hive, Sagemaker, Zepelin, Jupyter, python stack, Databricks, Lustre, and potentially others)</li>\" in basic_quals_dict: 1\n"
     ]
    }
   ],
   "source": [
    "\n",
    "# Hand-label this particular child string in the quals dictionary\n",
    "basic_quals_dict = s.load_object('basic_quals_dict')\n",
    "basic_quals_dict[child_str] = 1\n",
    "s.store_objects(basic_quals_dict=basic_quals_dict); print(f'\"{child_str}\" in basic_quals_dict: {basic_quals_dict[child_str]}')"
   ]
  },
  {
   "cell_type": "code",
   "execution_count": 471,
   "id": "4005f4a8-f07c-4538-8d1b-210d32dd3199",
   "metadata": {},
   "outputs": [
    {
     "data": {
      "text/plain": [
       "[{'navigable_parent': '<li>Experienced with tools such as these: AWS (server &amp; serverless services), Ansible or (Preferred) Terraform, CloudFormations, (Preferred) Python, Jenkins, (Preferred) GitHub GitOps, (Preferred) Security scanning tools (Nessus, BurpSuite, Netsparker, OWASP, etc.), IaC (Infrastructure as Code) techniques for the full stack of Dev/Data Analytics, QA tools below. Potentially others…Dev/Data Analytics, QA - SAS Viya, hadoop, airflow, AWS EMR hbase, Quicksight, Apache Ranger/Knox, AWS IAM, Ambari, Hive, Sagemaker, Zepelin, Jupyter, python stack, Databricks, Lustre, and potentially others)</li>', 'is_header': 'False', 'is_task_scope': 'False', 'is_qualification': None, 'is_minimum_qualification': 'False', 'is_preferred_qualification': 'True', 'is_legal_notification': 'False', 'is_job_title': 'False', 'is_office_location': 'False', 'is_job_duration': 'False', 'is_supplemental_pay': 'False', 'is_educational_requirement': 'False', 'is_interview_procedure': 'False', 'is_corporate_scope': 'False', 'is_posting_date': 'False', 'is_other': 'False'}]"
      ]
     },
     "execution_count": 471,
     "metadata": {},
     "output_type": "execute_result"
    }
   ],
   "source": [
    "\n",
    "def do_cypher_tx(tx, navigable_parent, verbose=False):\n",
    "    cypher_str = '''\n",
    "        MATCH (np:NavigableParents {navigable_parent: $navigable_parent})\n",
    "        SET\n",
    "            np.is_header = 'False',\n",
    "            np.is_task_scope = 'False',\n",
    "            np.is_minimum_qualification = 'False',\n",
    "            np.is_preferred_qualification = 'True',\n",
    "            np.is_educational_requirement = 'False',\n",
    "            np.is_legal_notification = 'False',\n",
    "            np.is_other = 'False',\n",
    "            np.is_corporate_scope = 'False',\n",
    "            np.is_job_title = 'False',\n",
    "            np.is_office_location = 'False',\n",
    "            np.is_job_duration = 'False',\n",
    "            np.is_supplemental_pay = 'False',\n",
    "            np.is_interview_procedure = 'False',\n",
    "            np.is_posting_date = 'False'\n",
    "        ''' + cu.return_everything_str + ';'\n",
    "    results_list = tx.run(query=cypher_str, parameters={'navigable_parent': navigable_parent})\n",
    "    \n",
    "    return [dict(record.items()) for record in results_list]\n",
    "with cu.driver.session() as session:\n",
    "    row_objs_list = session.write_transaction(do_cypher_tx, navigable_parent=child_str, verbose=False)\n",
    "row_objs_list"
   ]
  },
  {
   "cell_type": "code",
   "execution_count": 473,
   "id": "56d17dac-be9e-4bc3-aa01-58eed1baa9af",
   "metadata": {},
   "outputs": [
    {
     "data": {
      "text/plain": [
       "[{'navigable_parent': '<b>About Us:</b>', 'is_header': 'True', 'is_task_scope': 'False', 'is_qualification': None, 'is_minimum_qualification': 'False', 'is_preferred_qualification': 'False', 'is_legal_notification': 'False', 'is_job_title': 'False', 'is_office_location': 'False', 'is_job_duration': 'False', 'is_supplemental_pay': 'False', 'is_educational_requirement': 'False', 'is_interview_procedure': 'False', 'is_corporate_scope': 'True', 'is_posting_date': 'False', 'is_other': 'False'}]"
      ]
     },
     "execution_count": 473,
     "metadata": {},
     "output_type": "execute_result"
    }
   ],
   "source": [
    "\n",
    "# Show what's in the database already for this html string\n",
    "def do_cypher_tx(tx, navigable_parent, verbose=False):\n",
    "    cypher_str = '''\n",
    "        MATCH (np:NavigableParents {navigable_parent: $navigable_parent})\n",
    "        ''' + cu.return_everything_str + ';'\n",
    "    results_list = tx.run(query=cypher_str, parameters={'navigable_parent': navigable_parent})\n",
    "\n",
    "    return [dict(record.items()) for record in results_list]\n",
    "with cu.driver.session() as session:\n",
    "    row_objs_list = session.write_transaction(do_cypher_tx, navigable_parent=child_str, verbose=False)\n",
    "row_objs_list"
   ]
  },
  {
   "cell_type": "markdown",
   "id": "181dfa2e-4e09-4da7-b046-98f5c170ec67",
   "metadata": {},
   "source": [
    "\n",
    "----\n",
    "## Maintenance"
   ]
  },
  {
   "cell_type": "code",
   "execution_count": 429,
   "id": "c767d2cb-2c13-421a-b29e-546d2b1b401f",
   "metadata": {},
   "outputs": [
    {
     "name": "stdout",
     "output_type": "stream",
     "text": [
      "Pickling to C:\\Users\\daveb\\OneDrive\\Documents\\GitHub\\job-hunting\\saves\\pkl\\basic_quals_dict.pkl\n",
      "\"<li>Provide/write end-to-end engineering and developer documentation.</li>\" in basic_quals_dict: False\n"
     ]
    }
   ],
   "source": [
    "\n",
    "# Remove this particular child string from the quals dictionary and database\n",
    "basic_quals_dict = s.load_object('basic_quals_dict')\n",
    "child_str = child_strs_list[idx]\n",
    "basic_quals_dict.pop(child_str, None)\n",
    "# basic_quals_dict[child_str] = 0\n",
    "s.store_objects(basic_quals_dict=basic_quals_dict)\n",
    "print(f'\"{child_str}\" in basic_quals_dict: {child_str in basic_quals_dict}')\n",
    "def do_cypher_tx(tx, qualification_str, verbose=False):\n",
    "    cypher_str = '''\n",
    "        MATCH (qs:QualificationStrings {qualification_str: $qualification_str})\n",
    "        DETACH DELETE qs;\n",
    "        '''\n",
    "    results_list = tx.run(query=cypher_str, parameters={'qualification_str': qualification_str})\n",
    "\n",
    "    return [dict(record.items()) for record in results_list]\n",
    "with cu.driver.session() as session:\n",
    "    row_objs_list = session.write_transaction(do_cypher_tx, qualification_str=child_str, verbose=False)"
   ]
  },
  {
   "cell_type": "code",
   "execution_count": null,
   "id": "4a4a2c62-661a-4652-b743-efa5e336ad65",
   "metadata": {},
   "outputs": [],
   "source": [
    "\n",
    "# Remove file name from database\n",
    "for file_name in ['4463189_0_Accenture_Acquisitions_Field_Telecom_Technician_4463189.html', '4463189_0_Accenture_Acquisitions_Field_Telecom_Technician_4463189.html',\n",
    "                  '4597100_0_CHICAGO_PACIFIC_FOUNDERS_Release_Test_Lead.html', '4597100_0_CHICAGO_PACIFIC_FOUNDERS_Release_Test_Lead.html', '4597664_0_ELEVANCE_HEALTH_INC_Application_Developer_Angular.html',\n",
    "                  '4597664_0_ELEVANCE_HEALTH_INC_Application_Developer_Angular.html', '4597665_0_ELEVANCE_HEALTH_INC_Application_Developer_React_Native.html',\n",
    "                  '4597665_0_ELEVANCE_HEALTH_INC_Application_Developer_React_Native.html', '4651197_0_BANK_OF_AMERICA_NFRR_Lead_Developer_PySpark.html', '4651197_0_BANK_OF_AMERICA_NFRR_Lead_Developer_PySpark.html',\n",
    "                  '4666631_0_APPLE_INC_Fitness_Technician_4666631.html', '4666631_0_APPLE_INC_Fitness_Technician_4666631.html', '4669397_0_STATE_OF_MISSOURI_Cloud_Interface_Specialist_2.html',\n",
    "                  '4669397_0_STATE_OF_MISSOURI_Cloud_Interface_Specialist_2.html', '4669440_0_STATE_OF_MISSOURI_Middleware_Developer_8.html', '4669440_0_STATE_OF_MISSOURI_Middleware_Developer_8.html',\n",
    "                  '4669456_0_STATE_OF_MISSOURI_Cloud_Interface_Specialist_4_HCM.html', '4669456_0_STATE_OF_MISSOURI_Cloud_Interface_Specialist_4_HCM.html', '4671668_0_Hess_Corporation_Solution_Architect_AFOF.html',\n",
    "                  '4671668_0_Hess_Corporation_Solution_Architect_AFOF.html', '4705125_0_HCSC_Sales_PM_Manager.html', '4705125_0_HCSC_Sales_PM_Manager.html', '4705126_0_HCSC_Implementation_Workstream_Lead.html',\n",
    "                  '4705126_0_HCSC_Implementation_Workstream_Lead.html', '4705138_0_HCSC_Intake_Lead.html', '4705138_0_HCSC_Intake_Lead.html', '4707608_0_Accenture_Acquisitions_Driver_4707608.html',\n",
    "                  '4707608_0_Accenture_Acquisitions_Driver_4707608.html', '4711838_0_BANK_OF_AMERICA_PEGA_Architect_Lead.html', '4711838_0_BANK_OF_AMERICA_PEGA_Architect_Lead.html',\n",
    "                  '4717092_0_SYNCHRONY_FINANCIAL_Sr_ETLAbinitio_Developer_GCP_SLS.html', '4717092_0_SYNCHRONY_FINANCIAL_Sr_ETLAbinitio_Developer_GCP_SLS.html', '4722966_0_GOOGLE_FLEX_Manual_Device_Test_Engineer.html',\n",
    "                  '4722966_0_GOOGLE_FLEX_Manual_Device_Test_Engineer.html', '4725283_0_NORFOLK_SOUTHERN_CORPORATION_Customer_Master_Architecture_Governance_Delivery_Lead.html',\n",
    "                  '4725283_0_NORFOLK_SOUTHERN_CORPORATION_Customer_Master_Architecture_Governance_Delivery_Lead.html', '4725410_0_BERKSHIRE_HATHAWAY_ENERGY_Azure_Integration_Lead_Copy_01.html',\n",
    "                  '4725410_0_BERKSHIRE_HATHAWAY_ENERGY_Azure_Integration_Lead_Copy_01.html', '4725579_0_STERICYCLE_INC_Performance_Test_Lead.html', '4725579_0_STERICYCLE_INC_Performance_Test_Lead.html',\n",
    "                  '4729260_0_BANK_OF_AMERICA_Software_Development_Engineer_in_Test_SDET.html', '4729260_0_BANK_OF_AMERICA_Software_Development_Engineer_in_Test_SDET.html',\n",
    "                  '4730061_0_STATE_FARM_INSURANCE_Full_Stack_Developer.html', '4730061_0_STATE_FARM_INSURANCE_Full_Stack_Developer.html', '4732279_0_GOOGLE_BII_Architect_Copy_01.html',\n",
    "                  '4732279_0_GOOGLE_BII_Architect_Copy_01.html', '4732380_0_JONES_FINANCIAL_COMPANIES_L_L_L_P_Scrum_Master.html', '4732380_0_JONES_FINANCIAL_COMPANIES_L_L_L_P_Scrum_Master.html',\n",
    "                  '4732381_0_JONES_FINANCIAL_COMPANIES_L_L_L_P_Scrum_Master_Copy_01.html', '4732381_0_JONES_FINANCIAL_COMPANIES_L_L_L_P_Scrum_Master_Copy_01.html', '4732575_0_CLOROX_SAP_QM_MOC_Consultant.html',\n",
    "                  '4732575_0_CLOROX_SAP_QM_MOC_Consultant.html', '4732633_0_KAISER_Vendor_Evaluation_Specialist.html', '4732633_0_KAISER_Vendor_Evaluation_Specialist.html',\n",
    "                  '4736020_0_AMAZON_COM_INC_Super_Pod_QA_Lead.html', '4736020_0_AMAZON_COM_INC_Super_Pod_QA_Lead.html', '4736021_0_AMAZON_COM_INC_Super_Pod_QA_Lead_Copy_01.html',\n",
    "                  '4736021_0_AMAZON_COM_INC_Super_Pod_QA_Lead_Copy_01.html']:\n",
    "    cu.delete_filename_node(file_name, verbose=True)"
   ]
  },
  {
   "cell_type": "code",
   "execution_count": null,
   "id": "72f2828f-ab7b-4550-b5cc-92078c40f331",
   "metadata": {},
   "outputs": [],
   "source": []
  }
 ],
 "metadata": {
  "kernelspec": {
   "display_name": "Job Hunting (Python 3.10.9)",
   "language": "python",
   "name": "jh_env"
  },
  "language_info": {
   "codemirror_mode": {
    "name": "ipython",
    "version": 3
   },
   "file_extension": ".py",
   "mimetype": "text/x-python",
   "name": "python",
   "nbconvert_exporter": "python",
   "pygments_lexer": "ipython3",
   "version": "3.10.9"
  }
 },
 "nbformat": 4,
 "nbformat_minor": 5
}
