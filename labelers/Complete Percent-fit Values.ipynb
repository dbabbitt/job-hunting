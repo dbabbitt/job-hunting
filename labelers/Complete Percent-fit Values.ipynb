{
 "cells": [
  {
   "cell_type": "code",
   "execution_count": 1,
   "id": "abb7318f-5285-4f7b-bc3e-2859fe05f928",
   "metadata": {},
   "outputs": [
    {
     "name": "stdout",
     "output_type": "stream",
     "text": [
      "Pretty printing has been turned OFF\n",
      "======== Neo4j/4.4.7 ========\n",
      "Utility libraries created in 14 seconds\n"
     ]
    }
   ],
   "source": [
    "\n",
    "%pprint\n",
    "%matplotlib inline\n",
    "import sys\n",
    "sys.path.insert(1, '../py')\n",
    "from jobpostlib import (crf, cu, datetime, duration, hau, hc, humanize, ihu, lru, nu, osp, scrfcu, slrcu, ssgdcu, su, t0, time, winsound, wsu)\n",
    "import os\n",
    "from pandas import DataFrame\n",
    "import re\n",
    "\n",
    "freq = 990"
   ]
  },
  {
   "cell_type": "code",
   "execution_count": 2,
   "id": "fd3f331b-c66a-4c65-906b-22bc6fc034c8",
   "metadata": {},
   "outputs": [
    {
     "name": "stdout",
     "output_type": "stream",
     "text": [
      "I have 49,102 labeled parts of speech in here\n",
      "predict_single is available\n",
      "Parts-of-speech logistic regression elements built in 9 seconds\n"
     ]
    }
   ],
   "source": [
    "\n",
    "# Check if the slrcu has built its parts-of-speech logistic regression elements\n",
    "# Parts-of-speech logistic regression elements is normally built in 1 hour, 27 minutes and 21 seconds\n",
    "t1 = time.time()\n",
    "if not hasattr(slrcu, 'pos_predict_percent_fit_dict'):\n",
    "    slrcu.build_pos_logistic_regression_elements(sampling_strategy_limit=None, verbose=True)\n",
    "if hasattr(slrcu, 'pos_predict_percent_fit_dict'):\n",
    "    print('predict_single is available')\n",
    "else:\n",
    "    print('predict_single is not available')\n",
    "duration_str = humanize.precisedelta(time.time() - t1, minimum_unit='seconds', format='%0.0f')\n",
    "print(f'Parts-of-speech logistic regression elements built in {duration_str}')"
   ]
  },
  {
   "cell_type": "code",
   "execution_count": 3,
   "id": "3fe80356-c69a-4579-b298-31e40e871b31",
   "metadata": {},
   "outputs": [
    {
     "name": "stdout",
     "output_type": "stream",
     "text": [
      "predict_single is now available\n",
      "Parts-of-speech conditional random field elements built in 2 seconds\n"
     ]
    }
   ],
   "source": [
    "\n",
    "# Check if the scrfcu has built its parts-of-speech conditional random field elements\n",
    "# Parts-of-speech CRF elements normally built in 29 minutes and 57 seconds\n",
    "t1 = time.time()\n",
    "if not hasattr(scrfcu, 'pos_symbol_crf'):\n",
    "    scrfcu.build_pos_conditional_random_field_elements(verbose=True)\n",
    "if hasattr(scrfcu, 'pos_predict_percent_fit_dict'):\n",
    "    print('predict_single is now available')\n",
    "else:\n",
    "    print('predict_single is not available')\n",
    "duration_str = humanize.precisedelta(time.time() - t1, minimum_unit='seconds', format='%0.0f')\n",
    "print(f'Parts-of-speech conditional random field elements built in {duration_str}')"
   ]
  },
  {
   "cell_type": "code",
   "execution_count": 4,
   "id": "3453a69d-7080-4ebf-96a8-528e9541ea19",
   "metadata": {},
   "outputs": [
    {
     "name": "stdout",
     "output_type": "stream",
     "text": [
      "I have 49,102 labeled parts of speech in here\n",
      "predict_single is now available\n",
      "Parts-of-speech stochastic gradient descent elements built in 13 seconds\n"
     ]
    }
   ],
   "source": [
    "\n",
    "# Check if the ssgdcu has built its parts-of-speech stochastic gradient decent elements\n",
    "t1 = time.time()\n",
    "if not hasattr(ssgdcu, 'pos_predict_percent_fit_dict'):\n",
    "    ssgdcu.build_pos_stochastic_gradient_descent_elements(sampling_strategy_limit=None, verbose=True)\n",
    "if hasattr(ssgdcu, 'pos_predict_percent_fit_dict'): print('predict_single is now available')\n",
    "else: print('predict_single is not available')\n",
    "duration_str = humanize.precisedelta(time.time() - t1, minimum_unit='seconds', format='%0.0f')\n",
    "print(f'Parts-of-speech stochastic gradient descent elements built in {duration_str}')"
   ]
  },
  {
   "cell_type": "code",
   "execution_count": 5,
   "id": "01e7d031-531c-4024-b9f4-03485a91a943",
   "metadata": {},
   "outputs": [
    {
     "name": "stdout",
     "output_type": "stream",
     "text": [
      "predict_single is now available\n",
      "POS classifier trained in 0 seconds\n"
     ]
    }
   ],
   "source": [
    "\n",
    "# Check if the crf has built its parts-of-speech classifier\n",
    "# POS classifier normally trained in 15 hours, 42 minutes and 41 seconds\n",
    "t1 = time.time()\n",
    "if not hasattr(crf, 'CRF'): crf.build_pos_conditional_random_field_elements(verbose=True)\n",
    "if hasattr(crf, 'CRF'): print('predict_single is now available')\n",
    "else: print('predict_single is not available')\n",
    "duration_str = humanize.precisedelta(time.time() - t1, minimum_unit='seconds', format='%0.0f')\n",
    "print(f'POS classifier trained in {duration_str}')"
   ]
  },
  {
   "cell_type": "code",
   "execution_count": 6,
   "id": "d259dffb-c212-4493-a879-1ae5d503f8ec",
   "metadata": {},
   "outputs": [
    {
     "name": "stdout",
     "output_type": "stream",
     "text": [
      "I have 424,879 is-qualified vocabulary tokens in here\n",
      "Is-qualified LR elements built in 7 seconds\n"
     ]
    }
   ],
   "source": [
    "\n",
    "# Check if the lru has built its is-qualified classifier\n",
    "t1 = time.time()\n",
    "if not (hasattr(lru, 'ISQUALIFIED_LR') and hasattr(lru, 'ISQUALIFIED_CV')):\n",
    "    lru.build_isqualified_logistic_regression_elements(sampling_strategy_limit=None, verbose=True)\n",
    "duration_str = humanize.precisedelta(time.time() - t1, minimum_unit='seconds', format='%0.0f')\n",
    "print(f'Is-qualified LR elements built in {duration_str}')"
   ]
  },
  {
   "cell_type": "code",
   "execution_count": 7,
   "id": "a9d67a34-e133-45dc-9bf3-a830af359d77",
   "metadata": {},
   "outputs": [
    {
     "name": "stdout",
     "output_type": "stream",
     "text": [
      "I have 49,858 hand-labeled header htmls prepared\n",
      "7 iterations seen during training fit for a total of 49,858 records trained\n",
      "Is-header classifier trained in 8 seconds\n"
     ]
    }
   ],
   "source": [
    "\n",
    "# Train the isheader classifier\n",
    "t1 = time.time()\n",
    "ihu.build_pos_stochastic_gradient_descent_elements(verbose=True)\n",
    "duration_str = humanize.precisedelta(time.time() - t1, minimum_unit='seconds', format='%0.0f')\n",
    "print(f'Is-header classifier trained in {duration_str}')"
   ]
  },
  {
   "cell_type": "code",
   "execution_count": 8,
   "id": "dcef1d94-4466-4100-86cd-0d66f23d0d40",
   "metadata": {},
   "outputs": [
    {
     "name": "stdout",
     "output_type": "stream",
     "text": [
      "Last run on 2024-04-07 15:51:17.800181\n"
     ]
    }
   ],
   "source": [
    "\n",
    "winsound.Beep(freq, duration)\n",
    "print(f'Last run on {datetime.now()}')"
   ]
  },
  {
   "cell_type": "markdown",
   "id": "2f438163-0f14-4a74-978c-769c9dba95c8",
   "metadata": {},
   "source": [
    "\n",
    "---\n",
    "# Training"
   ]
  },
  {
   "cell_type": "code",
   "execution_count": 37,
   "id": "f02bfeac-67b7-4df6-a4a0-32ec3dec0022",
   "metadata": {},
   "outputs": [
    {
     "name": "stdout",
     "output_type": "stream",
     "text": [
      "I have 16,056 hand-labeled qualification strings in here\n",
      "I have 517,370 is-qualified vocabulary tokens in here\n",
      "Is-qualified classifer retrained in 2 minutes and 22 seconds\n"
     ]
    }
   ],
   "source": [
    "\n",
    "# You need to run this again if you changed the\n",
    "# qualification dictionary below or in another notebook\n",
    "t1 = time.time()\n",
    "\n",
    "# Keep the total retraining time to less than two minutes by adjusting the sampling strategy limit\n",
    "lru.sync_basic_quals_dict(sampling_strategy_limit=None, verbose=False)\n",
    "\n",
    "lru.retrain_isqualified_classifier(verbose=True)\n",
    "duration_str = humanize.precisedelta(time.time() - t1, minimum_unit='seconds', format='%0.0f')\n",
    "print(f'Is-qualified classifer retrained in {duration_str}')"
   ]
  },
  {
   "cell_type": "markdown",
   "id": "52ad3579-ebc3-4d21-a7c3-f9bd168ac6ca",
   "metadata": {},
   "source": [
    "\n",
    "---\n",
    "# Inference"
   ]
  },
  {
   "cell_type": "code",
   "execution_count": 39,
   "id": "d334d815-e43b-474e-9dbb-db509176f6e5",
   "metadata": {
    "tags": []
   },
   "outputs": [
    {
     "name": "stdout",
     "output_type": "stream",
     "text": [
      "3754/3754 = 100.0% completed\n"
     ]
    }
   ],
   "source": [
    "\n",
    "t1 = time.time()\n",
    "\n",
    "# Loop through all the unset %fit values, set them if you can, break for help if you can't\n",
    "quals_list, file_name = lru.infer_from_hunting_dataframe(fitness_threshold=3/4, verbose=True)\n",
    "winsound.Beep(freq, duration)"
   ]
  },
  {
   "cell_type": "code",
   "execution_count": null,
   "id": "63264da9-f96a-491a-83d9-25d15fcdfef6",
   "metadata": {},
   "outputs": [],
   "source": [
    "raise"
   ]
  },
  {
   "cell_type": "code",
   "execution_count": 16,
   "id": "47bd03b8-c0a3-404c-a16d-eb4ce95c6561",
   "metadata": {},
   "outputs": [
    {
     "name": "stdout",
     "output_type": "stream",
     "text": [
      "<div>\n",
      "     Passionate about making impact in global health\n",
      "   </div>\n",
      "Pickling to C:\\Users\\daveb\\OneDrive\\Documents\\GitHub\\job-hunting\\saves\\pkl\\basic_quals_dict.pkl\n"
     ]
    }
   ],
   "source": [
    "\n",
    "# Manually label the unscored qual\n",
    "qualification_str = quals_list[11]\n",
    "print(qualification_str); basic_quals_dict = nu.load_object('basic_quals_dict')\n",
    "print(str(basic_quals_dict[qualification_str]) + '\\n' if(qualification_str in basic_quals_dict) else '', end='')\n",
    "basic_quals_dict[qualification_str] = 0\n",
    "nu.store_objects(basic_quals_dict=basic_quals_dict)"
   ]
  },
  {
   "cell_type": "markdown",
   "id": "50146b21-cb1d-4475-9465-2a383f002533",
   "metadata": {},
   "source": [
    "\n",
    "----\n",
    "## Fix Parts-of-Speech and Quals for this posting"
   ]
  },
  {
   "cell_type": "code",
   "execution_count": 11,
   "id": "8ac6efb8-6b56-43dd-9079-d6a87491ecc5",
   "metadata": {},
   "outputs": [
    {
     "name": "stdout",
     "output_type": "stream",
     "text": [
      "9901043347759693_Biostatistician_Remote_Indeed_com.html\n",
      "CRF and child strings list recreated in 2 minutes and 51 seconds\n"
     ]
    }
   ],
   "source": [
    "\n",
    "t1 = time.time()\n",
    "file_path = os.path.join(cu.SAVES_HTML_FOLDER, file_name)\n",
    "if os.path.isfile(file_path):\n",
    "    child_strs_list = hau.get_child_strs_from_file(file_name=file_name)\n",
    "    cu.ensure_filename(file_name, verbose=False)\n",
    "    cu.populate_from_child_strings(child_strs_list, file_name, verbose=False)\n",
    "    print(file_name)\n",
    "    child_tags_list = hau.get_child_tags_list(child_strs_list)\n",
    "    feature_dict_list = cu.get_feature_dict_list(child_tags_list, child_strs_list)\n",
    "    feature_tuple_list = []\n",
    "    for feature_dict in feature_dict_list:\n",
    "        feature_tuple_list.append(hc.get_feature_tuple(\n",
    "            feature_dict, pos_lr_predict_single=slrcu.predict_single, pos_crf_predict_single=scrfcu.predict_single,\n",
    "            pos_sgd_predict_single=ssgdcu.predict_single\n",
    "        ))\n",
    "    crf_list = crf.CRF.predict_single(crf.sent2features(feature_tuple_list))\n",
    "duration_str = humanize.precisedelta(time.time() - t1, minimum_unit='seconds', format='%0.0f')\n",
    "print(f'CRF and child strings list recreated in {duration_str}')"
   ]
  },
  {
   "cell_type": "code",
   "execution_count": 12,
   "id": "affcb06a-3165-4349-a936-037af549d417",
   "metadata": {},
   "outputs": [
    {
     "name": "stdout",
     "output_type": "stream",
     "text": [
      "['H-IP', 'O-IP', 'H-IP', 'O-IP', 'O-IP', 'O-IP', 'O-IP', 'O-IP', 'H-IP', 'O-IP', 'O-IP', 'O-IP', 'O-IP', 'O-IP', 'O-IP', 'O-IP', 'O-IP', 'O-IP', 'O-IP', 'O-SP', 'O-SP', 'H-JD', 'O-SP', 'O-IP', 'O-OL', 'O-OL', 'O-IP', 'H-SP', 'O-IP', 'O-SP', 'O-SP', 'O-SP', 'O-SP', 'O-SP', 'O-SP', 'O-SP', 'H-O', 'O-O', 'O-IP', 'H-O', 'O-JT', 'O-JT', 'H-JT', 'O-JT', 'H-JT', 'O-JT', 'H-JT', 'H-JT', 'H-JT', 'O-JT', 'H-RQ', 'H-RQ', 'O-RQ', 'H-RQ', 'H-RQ', 'O-IP', 'O-IP', 'O-IP', 'H-TS', 'O-CS', 'O-OL', 'O-TS', 'O-TS', 'O-TS', 'O-TS', 'O-TS', 'O-TS', 'O-TS', 'O-TS', 'O-TS', 'O-TS', 'O-OL', 'O-OL', 'O-RQ', 'O-RQ', 'O-RQ', 'O-RQ', 'O-RQ', 'O-RQ', 'O-RQ', 'O-RQ', 'O-RQ', 'O-OL', 'O-OL', 'O-PQ', 'O-PQ', 'O-PQ', 'O-PQ', 'O-PQ', 'O-PQ', 'O-PQ', 'O-PQ', 'O-RQ', 'O-RQ', 'O-RQ', 'O-RQ', 'O-RQ', 'O-RQ', 'O-RQ', 'O-RQ', 'O-RQ', 'O-RQ', 'O-RQ', 'H-SP', 'O-SP', 'O-OL', 'O-OL', 'O-OL', 'O-OL', 'O-OL', 'O-OL', 'O-SP', 'O-JD', 'O-JD', 'H-OL', 'O-OL', 'H-OL', 'O-OL', 'H-OL', 'O-OL', 'H-OL', 'H-SP', 'O-SP', 'O-CS', 'O-CS', 'O-LN', 'O-IP']\n",
      "[52, 73, 74, 75, 76, 77, 78, 79, 80, 81, 92, 93, 94, 95, 96, 97, 98, 99, 100, 101, 102]\n"
     ]
    },
    {
     "data": {
      "text/html": [
       "0 H-IP) <span style=\"color:#ffbb78ff;\"><h2 class=\"js-match-insights-provider-14dlqhn e1tiznh50\">Profile insights (H-IP Interview Procedures Header)</h2></span><br />1 O-IP) <span style=\"color:#ffbb7880;\"><span>Find out how your skills align with the job description (O-IP Interview Procedures Non-header)</span></span><br />2 H-IP) <span style=\"color:#ffbb78ff;\"><h3 class=\"js-match-insights-provider-11n8e9a e1tiznh50\">Skills (H-IP Interview Procedures Header)</h3></span><br />3 O-IP) <span style=\"color:#ffbb7880;\">Do you have experience in (O-IP Interview Procedures Non-header)</span><br />4 O-IP) <span style=\"color:#ffbb7880;\"><b>Tableau (O-IP Interview Procedures Non-header)</b></span><br />5 O-IP) <span style=\"color:#ffbb7880;\">? (O-IP Interview Procedures Non-header)</span><br />6 O-IP) <span style=\"color:#ffbb7880;\"><span>Yes (O-IP Interview Procedures Non-header)</span></span><br />7 O-IP) <span style=\"color:#ffbb7880;\"><span>No (O-IP Interview Procedures Non-header)</span></span><br />8 H-IP) <span style=\"color:#ffbb78ff;\"><h3 class=\"js-match-insights-provider-11n8e9a e1tiznh50\">Education (H-IP Interview Procedures Header)</h3></span><br />9 O-IP) <span style=\"color:#ffbb7880;\">Do you have a (O-IP Interview Procedures Non-header)</span><br />10 O-IP) <span style=\"color:#ffbb7880;\"><b>Master's degree (O-IP Interview Procedures Non-header)</b></span><br />11 O-IP) <span style=\"color:#ffbb7880;\">? (O-IP Interview Procedures Non-header)</span><br />12 O-IP) <span style=\"color:#ffbb7880;\"><span>Yes (O-IP Interview Procedures Non-header)</span></span><br />13 O-IP) <span style=\"color:#ffbb7880;\"><span>No (O-IP Interview Procedures Non-header)</span></span><br />14 O-IP) <span style=\"color:#ffbb7880;\"><span>&amp;nbsp; (O-IP Interview Procedures Non-header)</span></span><br />15 O-IP) <span style=\"color:#ffbb7880;\"><h2 class=\"js-match-insights-provider-14dlqhn e1tiznh50\">Job details (O-IP Interview Procedures Non-header)</h2></span><br />16 O-IP) <span style=\"color:#ffbb7880;\">Here’s how the job details align with your (O-IP Interview Procedures Non-header)</span><br />17 O-IP) <span style=\"color:#ffbb7880;\"><a aria-label=\"job preferences (opens in a new window)\" class=\"js-match-insights-provider-1cr09u7 e19afand0\" href=\"https://profile.indeed.com/\" rel=\"noopener\" target=\"_blank\">profile (O-IP Interview Procedures Non-header)</a></span><br />18 O-IP) <span style=\"color:#ffbb7880;\">. (O-IP Interview Procedures Non-header)</span><br />19 O-SP) <span style=\"color:#17becf80;\"><h3 class=\"js-match-insights-provider-11n8e9a e1tiznh50\">Pay (O-SP Supplemental Pay Non-header)</h3></span><br />20 O-SP) <span style=\"color:#17becf80;\"><div class=\"js-match-insights-provider-tvvxwd ecydgvn1\">$112,000 - $168,000 a year (O-SP Supplemental Pay Non-header)</div></span><br />21 H-JD) <span style=\"color:#98df8aff;\"><h3 class=\"js-match-insights-provider-11n8e9a e1tiznh50\">Job type (H-JD Job Duration Header)</h3></span><br />22 O-SP) <span style=\"color:#17becf80;\"><div class=\"js-match-insights-provider-tvvxwd ecydgvn1\">Full-time (O-SP Supplemental Pay Non-header)</div></span><br />23 O-IP) <span style=\"color:#ffbb7880;\"><span>&amp;nbsp; (O-IP Interview Procedures Non-header)</span></span><br />24 O-OL) <span style=\"color:#c49c9480;\"><h2 class=\"css-1yytfzy e1tiznh50\" id=\"jobLocationSectionTitle\">Location (O-OL Office Location Non-header)</h2></span><br />25 O-OL) <span style=\"color:#c49c9480;\"><span>Remote (O-OL Office Location Non-header)</span></span><br />26 O-IP) <span style=\"color:#ffbb7880;\"><span>&amp;nbsp; (O-IP Interview Procedures Non-header)</span></span><br />27 H-SP) <span style=\"color:#17becfff;\">Benefits (H-SP Supplemental Pay Header)</span><br />28 O-IP) <span style=\"color:#ffbb7880;\"><div class=\"css-1opnqdm e1wnkr790\">Pulled from the full job description (O-IP Interview Procedures Non-header)</div></span><br />29 O-SP) <span style=\"color:#17becf80;\"><li class=\"css-kyg8or eu4oa1w0\">401(k) (O-SP Supplemental Pay Non-header)</li></span><br />30 O-SP) <span style=\"color:#17becf80;\"><li class=\"css-kyg8or eu4oa1w0\">401(k) matching (O-SP Supplemental Pay Non-header)</li></span><br />31 O-SP) <span style=\"color:#17becf80;\"><li class=\"css-kyg8or eu4oa1w0\">AD&amp;D insurance (O-SP Supplemental Pay Non-header)</li></span><br />32 O-SP) <span style=\"color:#17becf80;\"><li class=\"css-kyg8or eu4oa1w0\">Disability insurance (O-SP Supplemental Pay Non-header)</li></span><br />33 O-SP) <span style=\"color:#17becf80;\"><li class=\"css-kyg8or eu4oa1w0\">Family leave (O-SP Supplemental Pay Non-header)</li></span><br />34 O-SP) <span style=\"color:#17becf80;\"><li class=\"css-kyg8or eu4oa1w0\">Health insurance (O-SP Supplemental Pay Non-header)</li></span><br />35 O-SP) <span style=\"color:#17becf80;\"><li class=\"css-kyg8or eu4oa1w0\">Health savings account (O-SP Supplemental Pay Non-header)</li></span><br />36 H-O) <span style=\"color:#8c564bff;\"><span class=\"css-1ysvuef e1wnkr790\">Show more (H-O Other Header)</span></span><br />37 O-O) <span style=\"color:#8c564b80;\"><title>chevron down (O-O Other Non-header)</title></span><br />38 O-IP) <span style=\"color:#ffbb7880;\"><span>&amp;nbsp; (O-IP Interview Procedures Non-header)</span></span><br />39 H-O) <span style=\"color:#8c564bff;\"><h2 class=\"css-wpzt8u e1tiznh50\" id=\"jobDescriptionTitleHeading\" tabindex=\"-1\">Full job description (H-O Other Header)</h2></span><br />40 O-JT) <span style=\"color:#d6272880;\"><div>\n",
       "  Type of Requisition:\n",
       "  (O-JT Job Title Non-header)</div></span><br />41 O-JT) <span style=\"color:#d6272880;\">Regular (O-JT Job Title Non-header)</span><br />42 H-JT) <span style=\"color:#d62728ff;\"><div>\n",
       "   Clearance Level Must Currently Possess:\n",
       "  (H-JT Job Title Header)</div></span><br />43 O-JT) <span style=\"color:#d6272880;\">None (O-JT Job Title Non-header)</span><br />44 H-JT) <span style=\"color:#d62728ff;\"><div>\n",
       "   Clearance Level Must Be Able to Obtain:\n",
       "  (H-JT Job Title Header)</div></span><br />45 O-JT) <span style=\"color:#d6272880;\">None (O-JT Job Title Non-header)</span><br />46 H-JT) <span style=\"color:#d62728ff;\"><div>\n",
       "   Suitability:\n",
       "  (H-JT Job Title Header)</div></span><br />47 H-JT) <span style=\"color:#d62728ff;\"><div>\n",
       "   Public Trust/Other Required:\n",
       "  (H-JT Job Title Header)</div></span><br />48 H-JT) <span style=\"color:#d62728ff;\"><div>\n",
       "   Job Family:\n",
       "  (H-JT Job Title Header)</div></span><br />49 O-JT) <span style=\"color:#d6272880;\">Data Analysis (O-JT Job Title Non-header)</span><br />50 H-RQ) <span style=\"color:#bcbd22ff;\"><div>\n",
       "   Job Qualifications:\n",
       "  (H-RQ Required Qualifications Header)</div></span><br />51 H-RQ) <span style=\"color:#bcbd22ff;\"><div>\n",
       "   Skills:\n",
       "  (H-RQ Required Qualifications Header)</div></span><br /><hr />52 O-RQ) <span style=\"color:#bcbd2280;\">Analytical Thinking, Interpersonal Relationships, Predictive Modeling, Statistics (O-RQ Required Qualifications Non-header)</span><br />53 H-RQ) <span style=\"color:#bcbd22ff;\"><div>\n",
       "   Certifications:\n",
       "  (H-RQ Required Qualifications Header)</div></span><br />54 H-RQ) <span style=\"color:#bcbd22ff;\"><div>\n",
       "   Experience:\n",
       "  (H-RQ Required Qualifications Header)</div></span><br />55 O-IP) <span style=\"color:#ffbb7880;\">2 + years of related experience (O-IP Interview Procedures Non-header)</span><br />56 O-IP) <span style=\"color:#ffbb7880;\"><div>\n",
       "   US Citizenship Required:\n",
       "  (O-IP Interview Procedures Non-header)</div></span><br />57 O-IP) <span style=\"color:#ffbb7880;\">No (O-IP Interview Procedures Non-header)</span><br />58 H-TS) <span style=\"color:#9edae5ff;\"><div>\n",
       "   Job Description:\n",
       "  (H-TS Task Scope Header)</div></span><br />59 O-CS) <span style=\"color:#1f77b480;\"><div>\n",
       "   GDIT is hiring a Biostatistician to provide data management, analytic, and visualization support for our program with Centers for Disease Control and Prevention (CDC); the Center for Global Health (CGH). As part of the Interagency Collaboration for Program Improvement (ICPI) established by the President’s Emergency Plan for AIDS Relief (PEPFAR); CDC’s Division of Global HIV and Tuberculosis (DGHT), the Health Informatics Data Management and Statistics Branch (HIDMSB) has been entrusted with stewardship of PEPFAR data and analytics to monitor the impact of HIV programs and services and inform future investment strategies.\n",
       "  (O-CS Corporate Scope Non-header)</div></span><br />60 O-OL) <span style=\"color:#c49c9480;\"><div>\n",
       "   Position is for full time employment with GDIT and will work remote.\n",
       "  (O-OL Office Location Non-header)</div></span><br />61 O-TS) <span style=\"color:#9edae580;\"><div>\n",
       "   HOW YOU WILL MAKE AN IMPACT:\n",
       "  (O-TS Task Scope Non-header)</div></span><br />62 O-TS) <span style=\"color:#9edae580;\"><div>\n",
       "     Conduct high-level data interpretation and analysis of HIV/AIDS data using various data analytics platforms\n",
       "    (O-TS Task Scope Non-header)</div></span><br />63 O-TS) <span style=\"color:#9edae580;\"><div>\n",
       "     Develop and test innovative data analytic and statistical methods or applications to enhance insight of HIV program performance.\n",
       "    (O-TS Task Scope Non-header)</div></span><br />64 O-TS) <span style=\"color:#9edae580;\"><div>\n",
       "     Provide technical assistance in data management, analysis, and visualizations to DGHT headquarters and field staff.\n",
       "    (O-TS Task Scope Non-header)</div></span><br />65 O-TS) <span style=\"color:#9edae580;\"><div>\n",
       "     Prepare written summaries and presentations that reflect the results of the data analysis and present findings to agency leadership\n",
       "    (O-TS Task Scope Non-header)</div></span><br />66 O-TS) <span style=\"color:#9edae580;\"><div>\n",
       "     Help train PEPFAR headquarters and field staff on the use of data collection and analysis best practices\n",
       "    (O-TS Task Scope Non-header)</div></span><br />67 O-TS) <span style=\"color:#9edae580;\"><div>\n",
       "     Build data dashboards in various platforms including Excel and Business Intelligence platforms\n",
       "    (O-TS Task Scope Non-header)</div></span><br />68 O-TS) <span style=\"color:#9edae580;\"><div>\n",
       "     Liaise with stakeholders across different government agencies and HIV/AIDS program areas\n",
       "    (O-TS Task Scope Non-header)</div></span><br />69 O-TS) <span style=\"color:#9edae580;\"><div>\n",
       "     Manage unstructured patient level data to prepare for meaningful data analysis\n",
       "    (O-TS Task Scope Non-header)</div></span><br />70 O-TS) <span style=\"color:#9edae580;\"><div>\n",
       "     Develop methods, processes, or checks to assess and improve the quality of PEPFAR data across the data life cycle from reporting, entry, access, extraction, and use.\n",
       "    (O-TS Task Scope Non-header)</div></span><br />71 O-OL) <span style=\"color:#c49c9480;\"><div>\n",
       "   Travel Required: Up to 15% international and domestic travel\n",
       "  (O-OL Office Location Non-header)</div></span><br />72 O-OL) <span style=\"color:#c49c9480;\"><div>\n",
       "   Location: Remote\n",
       "  (O-OL Office Location Non-header)</div></span><br />73 O-RQ) <span style=\"color:#bcbd2280;\"><div>\n",
       "   WHAT YOU’LL NEED TO SUCCEED:\n",
       "  (O-RQ Required Qualifications Non-header)</div></span><br />74 O-RQ) <span style=\"color:#bcbd2280;\"><div>\n",
       "   Required:\n",
       "  (O-RQ Required Qualifications Non-header)</div></span><br />75 O-RQ) <span style=\"color:#bcbd2280;\"><div>\n",
       "     Education: Master’s degree in Statistics, Data Science, Data Analytics, Health Informatics, or related field of study\n",
       "    (O-RQ Required Qualifications Non-header)</div></span><br />76 O-RQ) <span style=\"color:#bcbd2280;\"><div>\n",
       "     A minimum of 2–3 years’ experience in data analysis and data science with a background in statistics, another quantitative discipline, or computer science.\n",
       "    (O-RQ Required Qualifications Non-header)</div></span><br />77 O-RQ) <span style=\"color:#bcbd2280;\"><div>\n",
       "     Understanding of data management principles using R, Power Query and/or SQL\n",
       "    (O-RQ Required Qualifications Non-header)</div></span><br />78 O-RQ) <span style=\"color:#bcbd2280;\"><div>\n",
       "     Proficiency in data wrangling (querying/connecting, transposing, merging, filtering, aggregating, cleaning) of large complex datasets using at least one of R, Stata, SQL, or SAS\n",
       "    (O-RQ Required Qualifications Non-header)</div></span><br />79 O-RQ) <span style=\"color:#bcbd2280;\"><div>\n",
       "     Proficiency in building data models using Power Query or similar\n",
       "    (O-RQ Required Qualifications Non-header)</div></span><br />80 O-RQ) <span style=\"color:#bcbd2280;\"><div>\n",
       "     Ability to create quantitative analytics tools, visualizations and applications in more than one of the following platforms: Excel, PowerBI, MicroStrategy, Tableau, R Studio/R Shiny, Python/Jupyter\n",
       "    (O-RQ Required Qualifications Non-header)</div></span><br />81 O-RQ) <span style=\"color:#bcbd2280;\"><div>\n",
       "     Expert user of Microsoft Excel, Power Query, and PowerPoint\n",
       "    (O-RQ Required Qualifications Non-header)</div></span><br />82 O-OL) <span style=\"color:#c49c9480;\"><div>\n",
       "     Travel Required: Up to 15% international and domestic travel\n",
       "    (O-OL Office Location Non-header)</div></span><br />83 O-OL) <span style=\"color:#c49c9480;\"><div>\n",
       "     Location: Remote\n",
       "    (O-OL Office Location Non-header)</div></span><br />84 O-PQ) <span style=\"color:#c7c7c780;\"><div>\n",
       "   Preferred Skills:\n",
       "  (O-PQ Preferred Qualifications Non-header)</div></span><br />85 O-PQ) <span style=\"color:#c7c7c780;\"><div>\n",
       "     Familiarity with health, public health, or population health.\n",
       "    (O-PQ Preferred Qualifications Non-header)</div></span><br />86 O-PQ) <span style=\"color:#c7c7c780;\"><div>\n",
       "     Experience working in resource-limited settings\n",
       "    (O-PQ Preferred Qualifications Non-header)</div></span><br />87 O-PQ) <span style=\"color:#c7c7c780;\"><div>\n",
       "     Experience in scripting using RStudio for data management and data visualization purposes using Tidyverse packages\n",
       "    (O-PQ Preferred Qualifications Non-header)</div></span><br />88 O-PQ) <span style=\"color:#c7c7c780;\"><div>\n",
       "     Knowledge of methods in data science, modeling and/or machine learning\n",
       "    (O-PQ Preferred Qualifications Non-header)</div></span><br />89 O-PQ) <span style=\"color:#c7c7c780;\"><div>\n",
       "     Experience working with or for a US government agency, including State Department\n",
       "    (O-PQ Preferred Qualifications Non-header)</div></span><br />90 O-PQ) <span style=\"color:#c7c7c780;\"><div>\n",
       "     Experience working with big datasets and/or patient level data\n",
       "    (O-PQ Preferred Qualifications Non-header)</div></span><br />91 O-PQ) <span style=\"color:#c7c7c780;\"><div>\n",
       "     Capable of creating geospatial analytic products using RStudio or QGIS\n",
       "    (O-PQ Preferred Qualifications Non-header)</div></span><br />92 O-RQ) <span style=\"color:#bcbd2280;\"><div>\n",
       "   Skills and Attributes:\n",
       "  (O-RQ Required Qualifications Non-header)</div></span><br />93 O-RQ) <span style=\"color:#bcbd2280;\"><div>\n",
       "     Superb interpersonal skills and ability to work effectively as a team member\n",
       "    (O-RQ Required Qualifications Non-header)</div></span><br />94 O-RQ) <span style=\"color:#bcbd2280;\"><div>\n",
       "     Strong verbal communication skills; must be comfortable and effective working with diverse audiences including technical staff, international staff, and others.\n",
       "    (O-RQ Required Qualifications Non-header)</div></span><br />95 O-RQ) <span style=\"color:#bcbd2280;\"><div>\n",
       "     Ability to interpret stakeholder concerns and translate them into analytical questions.\n",
       "    (O-RQ Required Qualifications Non-header)</div></span><br />96 O-RQ) <span style=\"color:#bcbd2280;\"><div>\n",
       "     Ability to work independently, including exploring new lines of investigation with minimal supervisory guidance\n",
       "    (O-RQ Required Qualifications Non-header)</div></span><br />97 O-RQ) <span style=\"color:#bcbd2280;\"><div>\n",
       "     Organized, intuitive, efficient and well-documented coding skills\n",
       "    (O-RQ Required Qualifications Non-header)</div></span><br />98 O-RQ) <span style=\"color:#bcbd2280;\"><div>\n",
       "     Excellent analytical and writing skills\n",
       "    (O-RQ Required Qualifications Non-header)</div></span><br />99 O-RQ) <span style=\"color:#bcbd2280;\"><div>\n",
       "     Exceptional attention to detail\n",
       "    (O-RQ Required Qualifications Non-header)</div></span><br />100 O-RQ) <span style=\"color:#bcbd2280;\"><div>\n",
       "     Passionate about making impact in global health\n",
       "    (O-RQ Required Qualifications Non-header)</div></span><br />101 O-RQ) <span style=\"color:#bcbd2280;\"><div>\n",
       "     Effective oral and written communication skills to communicate assignments and requests\n",
       "    (O-RQ Required Qualifications Non-header)</div></span><br />102 O-RQ) <span style=\"color:#bcbd2280;\"><div>\n",
       "     Ability to multitask and effectively manage competing priorities\n",
       "    (O-RQ Required Qualifications Non-header)</div></span><br /><hr />103 H-SP) <span style=\"color:#17becfff;\"><div>\n",
       "   WHAT GDIT CAN OFFER YOU:\n",
       "  (H-SP Supplemental Pay Header)</div></span><br />104 O-SP) <span style=\"color:#17becf80;\"><div>\n",
       "     401K with company match\n",
       "    (O-SP Supplemental Pay Non-header)</div></span><br />105 O-OL) <span style=\"color:#c49c9480;\"><div>\n",
       "     Customizable health benefits packages\n",
       "    (O-OL Office Location Non-header)</div></span><br />106 O-OL) <span style=\"color:#c49c9480;\"><div>\n",
       "     Internal mobility team dedicated to helping you own your career\n",
       "    (O-OL Office Location Non-header)</div></span><br />107 O-OL) <span style=\"color:#c49c9480;\"><div>\n",
       "     Challenging work that makes a real impact on the world around you\n",
       "    (O-OL Office Location Non-header)</div></span><br />108 O-OL) <span style=\"color:#c49c9480;\"><div>\n",
       "     Full-flex work week\n",
       "    (O-OL Office Location Non-header)</div></span><br />109 O-OL) <span style=\"color:#c49c9480;\"><div>\n",
       "   #GDITHealth\n",
       "  (O-OL Office Location Non-header)</div></span><br />110 O-OL) <span style=\"color:#c49c9480;\"><div>\n",
       "   #GDITPublicHealthJobs\n",
       "  (O-OL Office Location Non-header)</div></span><br />111 O-SP) <span style=\"color:#17becf80;\">The likely salary range for this position is $112,000 - $168,000. This is not, however, a guarantee of compensation or salary. Rather, salary will be set based on experience, geographic location and possibly contractual requirements and could fall outside of this range. (O-SP Supplemental Pay Non-header)</span><br />112 O-JD) <span style=\"color:#98df8a80;\"><div>\n",
       "   Scheduled Weekly Hours:\n",
       "  (O-JD Job Duration Non-header)</div></span><br />113 O-JD) <span style=\"color:#98df8a80;\">40 (O-JD Job Duration Non-header)</span><br />114 H-OL) <span style=\"color:#c49c94ff;\"><div>\n",
       "   Travel Required:\n",
       "  (H-OL Office Location Header)</div></span><br />115 O-OL) <span style=\"color:#c49c9480;\">10-25% (O-OL Office Location Non-header)</span><br />116 H-OL) <span style=\"color:#c49c94ff;\"><div>\n",
       "   Telecommuting Options:\n",
       "  (H-OL Office Location Header)</div></span><br />117 O-OL) <span style=\"color:#c49c9480;\">Remote (O-OL Office Location Non-header)</span><br />118 H-OL) <span style=\"color:#c49c94ff;\"><div>\n",
       "   Work Location:\n",
       "  (H-OL Office Location Header)</div></span><br />119 O-OL) <span style=\"color:#c49c9480;\">Any Location / Remote (O-OL Office Location Non-header)</span><br />120 H-OL) <span style=\"color:#c49c94ff;\"><div>\n",
       "   Additional Work Locations:\n",
       "  (H-OL Office Location Header)</div></span><br />121 H-SP) <span style=\"color:#17becfff;\"><div>\n",
       "   Total Rewards at GDIT:\n",
       "  (H-SP Supplemental Pay Header)</div></span><br />122 O-SP) <span style=\"color:#17becf80;\">Our benefits package for all US-based employees includes a variety of medical plan options, some with Health Savings Accounts, dental plan options, a vision plan, and a 401(k) plan offering the ability to contribute both pre and post-tax dollars up to the IRS annual limits and receive a company match. To encourage work/life balance, GDIT offers employees full flex work weeks where possible and a variety of paid time off plans, including vacation, sick and personal time, holidays, paid parental, military, bereavement and jury duty leave. GDIT typically provides new employees with 15 days of paid leave per calendar year to be used for vacations, personal business, and illness and an additional 10 paid holidays per year. Paid leave and paid holidays are prorated based on the employee’s date of hire. The GDIT Paid Family Leave program provides a total of up to 160 hours of paid leave in a rolling 12 month period for eligible employees. To ensure our employees are able to protect their income, other offerings such as short and long-term disability benefits, life, accidental death and dismemberment, personal accident, critical illness and business travel and accident insurance are provided or available. We regularly review our Total Rewards package to ensure our offerings are competitive and reflect what our employees have told us they value most. (O-SP Supplemental Pay Non-header)</span><br />123 O-CS) <span style=\"color:#1f77b480;\">We are GDIT. A global technology and professional services company that delivers consulting, technology and mission services to every major agency across the U.S. government, defense and intelligence community. Our 30,000 experts extract the power of technology to create immediate value and deliver solutions at the edge of innovation. We operate across 30 countries worldwide, offering leading capabilities in digital modernization, AI/ML, Cloud, Cyber and application development. Together with our clients, we strive to create a safer, smarter world by harnessing the power of deep expertise and advanced technology. (O-CS Corporate Scope Non-header)</span><br />124 O-CS) <span style=\"color:#1f77b480;\">We connect people with the most impactful client missions, creating an unparalleled work experience that allows them to see their impact every day. We create opportunities for our people to lead and learn simultaneously. From securing our nation’s most sensitive systems, to enabling digital transformation and cloud adoption, our people are the ones who make change real. (O-CS Corporate Scope Non-header)</span><br />125 O-LN) <span style=\"color:#9467bd80;\">GDIT is an Equal Opportunity/Affirmative Action employer. All qualified applicants will receive consideration for employment without regard to race, color, religion, sex, sexual orientation, gender identity, national origin, disability, or veteran status, or any other protected class. (O-LN Legal Notifications Non-header)</span><br />126 O-IP) <span style=\"color:#ffbb7880;\"><span>&amp;nbsp; (O-IP Interview Procedures Non-header)</span></span><br />"
      ],
      "text/plain": [
       "<IPython.core.display.HTML object>"
      ]
     },
     "metadata": {},
     "output_type": "display_data"
    },
    {
     "name": "stdout",
     "output_type": "stream",
     "text": [
      "[52, 73, 74, 75, 76, 77, 78, 79, 80, 81, 92, 93, 94, 95, 96, 97, 98, 99, 100, 101, 102]\n"
     ]
    }
   ],
   "source": [
    "\n",
    "db_pos_list = []\n",
    "for navigable_parent in child_strs_list:\n",
    "    db_pos_list = cu.append_parts_of_speech_list(navigable_parent, pos_list=db_pos_list)\n",
    "pos_list, indices_list = su.visualize_basic_quals_section(crf_list, child_strs_list, db_pos_list=db_pos_list, verbose=True)\n",
    "winsound.Beep(freq, duration)"
   ]
  },
  {
   "cell_type": "code",
   "execution_count": null,
   "id": "91379a3d-1a77-4d8b-9ef6-a76f12204ac2",
   "metadata": {},
   "outputs": [],
   "source": [
    "raise"
   ]
  },
  {
   "cell_type": "code",
   "execution_count": 32,
   "id": "26c4dd4e-1418-4420-aff5-ea7b65273194",
   "metadata": {},
   "outputs": [
    {
     "name": "stdout",
     "output_type": "stream",
     "text": [
      "40 O-JT) <div>\n",
      "  Type of Requisition:\n",
      " </div>\n",
      "41 O-JT) Regular\n",
      "42 O-JT) <div>\n",
      "   Clearance Level Must Currently Possess:\n",
      " </div>\n",
      "43 O-JT) None\n",
      "44 O-JT) <div>\n",
      "   Clearance Level Must Be Able to Obtain:\n",
      " </div>\n",
      "45 O-JT) None\n",
      "46 O-JT) <div>\n",
      "   Suitability:\n",
      " </div>\n",
      "47 O-JT) <div>\n",
      "   Public Trust/Other Required:\n",
      " </div>\n",
      "48 H-JT) <div>\n",
      "   Job Family:\n",
      " </div>\n",
      "49 O-RQ) Data Analysis\n"
     ]
    }
   ],
   "source": [
    "\n",
    "basic_quals_dict = nu.load_object('basic_quals_dict'); column_name = 'is_job_title'\n",
    "for idx in list(range(40, 50)):\n",
    "    child_str = child_strs_list[idx]; pos_symbol = pos_list[idx]\n",
    "    def do_cypher_tx(tx, navigable_parent, verbose=False):\n",
    "        cypher_str = '''\n",
    "            MATCH (np:NavigableParents {navigable_parent: $navigable_parent})\n",
    "            ''' + cu.return_everything_str + ';'\n",
    "        results_list = tx.run(query=cypher_str, parameters={'navigable_parent': navigable_parent})\n",
    "        return [dict(record.items()) for record in results_list]\n",
    "    with cu.driver.session() as session: row_objs_list = session.write_transaction(do_cypher_tx, navigable_parent=child_str, verbose=False)\n",
    "    # if (row_objs_list[0][column_name] != True):\n",
    "    print(str(basic_quals_dict[child_str]) + '\\n' if(child_str in basic_quals_dict) else '', end='')\n",
    "    print(f'{idx} {pos_symbol}) {child_str}')\n",
    "    def do_cypher_tx(tx, navigable_parent, verbose=False):\n",
    "        cypher_str = f'''\n",
    "            MATCH (np:NavigableParents {{navigable_parent: $navigable_parent}})\n",
    "            SET\n",
    "                np.is_task_scope = {str(column_name == 'is_task_scope').lower()},\n",
    "                np.is_minimum_qualification = {str(column_name == 'is_minimum_qualification').lower()},\n",
    "                np.is_preferred_qualification = {str(column_name == 'is_preferred_qualification').lower()},\n",
    "                np.is_educational_requirement = {str(column_name == 'is_educational_requirement').lower()},\n",
    "                np.is_legal_notification = {str(column_name == 'is_legal_notification').lower()},\n",
    "                np.is_other = {str(column_name == 'is_other').lower()},\n",
    "                np.is_corporate_scope = {str(column_name == 'is_corporate_scope').lower()},\n",
    "                np.is_job_title = {str(column_name == 'is_job_title').lower()},\n",
    "                np.is_office_location = {str(column_name == 'is_office_location').lower()},\n",
    "                np.is_job_duration = {str(column_name == 'is_job_duration').lower()},\n",
    "                np.is_supplemental_pay = {str(column_name == 'is_supplemental_pay').lower()},\n",
    "                np.is_interview_procedure = {str(column_name == 'is_interview_procedure').lower()},\n",
    "                np.is_posting_date = {str(column_name == 'is_posting_date').lower()}\n",
    "            ''' + cu.return_everything_str + ';'\n",
    "        return [dict(record.items()) for record in tx.run(query=cypher_str, parameters={'navigable_parent': navigable_parent})]\n",
    "    with cu.driver.session() as session: row_objs_list = session.write_transaction(do_cypher_tx, navigable_parent=child_str, verbose=False)"
   ]
  },
  {
   "cell_type": "code",
   "execution_count": 110,
   "id": "1d97acb2-2b60-4a56-9b3b-ecfc2b6582e6",
   "metadata": {
    "tags": []
   },
   "outputs": [
    {
     "name": "stdout",
     "output_type": "stream",
     "text": [
      "[30, 35, 39, 40, 64, 66, 68, 69, 71, 73, 74, 75, 81, 83]\n",
      "35 O-RQ) <i> This is a hybrid role where you will have a data science focus and an MLOPs engineering focus.</i>\n"
     ]
    }
   ],
   "source": [
    "\n",
    "# Display the context of an individual child string\n",
    "idx = 35\n",
    "print(indices_list); child_str = child_strs_list[idx]; pos_symbol = pos_list[idx]; basic_quals_dict = nu.load_object('basic_quals_dict')\n",
    "print(str(basic_quals_dict[child_str]) + '\\n' if(child_str in basic_quals_dict) else '', end='')\n",
    "print(f'{idx} {pos_symbol}) {child_str}')"
   ]
  },
  {
   "cell_type": "code",
   "execution_count": 295,
   "id": "b2f46926-880b-4aed-bc99-4a6bd9ed7903",
   "metadata": {},
   "outputs": [
    {
     "name": "stdout",
     "output_type": "stream",
     "text": [
      "Pickling to C:\\Users\\daveb\\OneDrive\\Documents\\GitHub\\job-hunting\\saves\\pkl\\basic_quals_dict.pkl\n",
      "\"<p> Bachelor’s degree</p>\" in basic_quals_dict: 1\n"
     ]
    }
   ],
   "source": [
    "\n",
    "# Hand-label this particular child string in the quals dictionary\n",
    "basic_quals_dict = nu.load_object('basic_quals_dict')\n",
    "basic_quals_dict[child_str] = 1\n",
    "nu.store_objects(basic_quals_dict=basic_quals_dict); print(f'\"{child_str}\" in basic_quals_dict: {basic_quals_dict[child_str]}')"
   ]
  },
  {
   "cell_type": "code",
   "execution_count": 13,
   "id": "326ab607-cc5c-4476-b692-395b96d293ed",
   "metadata": {},
   "outputs": [
    {
     "name": "stdout",
     "output_type": "stream",
     "text": [
      "73 O-RQ) <div>\n",
      "   WHAT YOU’LL NEED TO SUCCEED:\n",
      " </div>\n",
      "74 O-RQ) <div>\n",
      "   Required:\n",
      " </div>\n",
      "92 O-RQ) <div>\n",
      "   Skills and Attributes:\n",
      " </div>\n"
     ]
    }
   ],
   "source": [
    "\n",
    "# Fix Headers\n",
    "basic_quals_dict = nu.load_object('basic_quals_dict')\n",
    "for idx in [73, 74, 92]:\n",
    "    child_str = child_strs_list[idx]; pos_symbol = pos_list[idx]\n",
    "    print(str(basic_quals_dict[child_str]) + '\\n' if(child_str in basic_quals_dict) else '', end='')\n",
    "    print(f'{idx} {pos_symbol}) {child_str}')\n",
    "    def do_cypher_tx(tx, navigable_parent, verbose=False):\n",
    "        cypher_str = f'''\n",
    "            MATCH (np:NavigableParents {{navigable_parent: $navigable_parent}})\n",
    "            SET\n",
    "                np.is_header = true\n",
    "            ''' + cu.return_everything_str + ';'\n",
    "        return [dict(record.items()) for record in tx.run(query=cypher_str, parameters={'navigable_parent': navigable_parent})]\n",
    "    with cu.driver.session() as session: row_objs_list = session.write_transaction(do_cypher_tx, navigable_parent=child_str, verbose=False)"
   ]
  },
  {
   "cell_type": "code",
   "execution_count": 177,
   "id": "24e7695d-caf6-416f-a761-ec17b839ccf9",
   "metadata": {},
   "outputs": [
    {
     "name": "stdout",
     "output_type": "stream",
     "text": [
      "47 H-RQ) Be relentless\n",
      "51 H-TS) In this role, you'll contribute to our mission by developing and implementing AI/ML models and algorithms to strengthen the cybersecurity defenses within Red Canary’s product suite. You will have access to some of the industry's most comprehensive cybersecurity datasets and will focus on analyzing this data to discover important insights and create effective solutions. Your efforts will directly contribute to improving the security outcomes for our customers.\n"
     ]
    }
   ],
   "source": [
    "\n",
    "# Fix Non-headers\n",
    "basic_quals_dict = nu.load_object('basic_quals_dict')\n",
    "for idx in [47, 51]:\n",
    "    child_str = child_strs_list[idx]; pos_symbol = pos_list[idx]\n",
    "    print(str(basic_quals_dict[child_str]) + '\\n' if(child_str in basic_quals_dict) else '', end='')\n",
    "    print(f'{idx} {pos_symbol}) {child_str}')\n",
    "    def do_cypher_tx(tx, navigable_parent, verbose=False):\n",
    "        cypher_str = f'''\n",
    "            MATCH (np:NavigableParents {{navigable_parent: $navigable_parent}})\n",
    "            SET\n",
    "                np.is_header = false\n",
    "            ''' + cu.return_everything_str + ';'\n",
    "        return [dict(record.items()) for record in tx.run(query=cypher_str, parameters={'navigable_parent': navigable_parent})]\n",
    "    with cu.driver.session() as session: row_objs_list = session.write_transaction(do_cypher_tx, navigable_parent=child_str, verbose=False)"
   ]
  },
  {
   "cell_type": "code",
   "execution_count": 111,
   "id": "4005f4a8-f07c-4538-8d1b-210d32dd3199",
   "metadata": {},
   "outputs": [
    {
     "data": {
      "text/plain": [
       "[{'navigable_parent': '<i> This is a hybrid role where you will have a data science focus and an MLOPs engineering focus.</i>', 'is_header': False, 'is_task_scope': False, 'is_minimum_qualification': False, 'is_preferred_qualification': False, 'is_legal_notification': False, 'is_job_title': False, 'is_office_location': False, 'is_job_duration': False, 'is_supplemental_pay': False, 'is_educational_requirement': False, 'is_interview_procedure': True, 'is_corporate_scope': False, 'is_posting_date': False, 'is_other': False}]"
      ]
     },
     "execution_count": 111,
     "metadata": {},
     "output_type": "execute_result"
    }
   ],
   "source": [
    "\n",
    "def do_cypher_tx(tx, navigable_parent, verbose=False):\n",
    "    cypher_str = '''\n",
    "        MATCH (np:NavigableParents {navigable_parent: $navigable_parent})\n",
    "        SET\n",
    "            np.is_header = false,\n",
    "            np.is_task_scope = false,\n",
    "            np.is_minimum_qualification = false,\n",
    "            np.is_preferred_qualification = false,\n",
    "            np.is_educational_requirement = false,\n",
    "            np.is_legal_notification = false,\n",
    "            np.is_other = false,\n",
    "            np.is_corporate_scope = false,\n",
    "            np.is_job_title = false,\n",
    "            np.is_office_location = false,\n",
    "            np.is_job_duration = false,\n",
    "            np.is_supplemental_pay = false,\n",
    "            np.is_interview_procedure = true,\n",
    "            np.is_posting_date = false\n",
    "        ''' + cu.return_everything_str + ';'\n",
    "    return [dict(record.items()) for record in tx.run(query=cypher_str, parameters={'navigable_parent': navigable_parent})]\n",
    "with cu.driver.session() as session: row_objs_list = session.write_transaction(do_cypher_tx, navigable_parent=child_str, verbose=False)\n",
    "ihu.retrain_classifier(row_objs_list[0]['navigable_parent'], row_objs_list[0]['is_header'], verbose=False); row_objs_list"
   ]
  },
  {
   "cell_type": "code",
   "execution_count": 129,
   "id": "6b2c062a-8ec0-4daf-9727-6b8676c26fe2",
   "metadata": {},
   "outputs": [
    {
     "name": "stdout",
     "output_type": "stream",
     "text": [
      "69 O-RQ) <li>The hours required are in Central Time: Mondays and Wednesdays 6-9pm and fortnightly Saturdays 9am-5pm. Are you able to commit to this?</li>\n",
      "70 O-IP) <li>The project dates are 11 March 2024 to 4 May 2024. Are you able to commit to this?</li>\n"
     ]
    }
   ],
   "source": [
    "\n",
    "basic_quals_dict = nu.load_object('basic_quals_dict')\n",
    "column_name = 'is_interview_procedure'\n",
    "for idx in range(len(child_strs_list)):\n",
    "    child_str = child_strs_list[idx]; pos_symbol = pos_list[idx]\n",
    "    if '?' in child_str:\n",
    "        def do_cypher_tx(tx, navigable_parent, verbose=False):\n",
    "            cypher_str = '''\n",
    "                MATCH (np:NavigableParents {navigable_parent: $navigable_parent})\n",
    "                ''' + cu.return_everything_str + ';'\n",
    "            results_list = tx.run(query=cypher_str, parameters={'navigable_parent': navigable_parent})\n",
    "            return [dict(record.items()) for record in results_list]\n",
    "        with cu.driver.session() as session: row_objs_list = session.write_transaction(do_cypher_tx, navigable_parent=child_str, verbose=False)\n",
    "        if (row_objs_list[0][column_name] != True):\n",
    "            print(str(basic_quals_dict[child_str]) + '\\n' if(child_str in basic_quals_dict) else '', end='')\n",
    "            print(f'{idx} {pos_symbol}) {child_str}')\n",
    "            def do_cypher_tx(tx, navigable_parent, verbose=False):\n",
    "                cypher_str = f'''\n",
    "                    MATCH (np:NavigableParents {{navigable_parent: $navigable_parent}})\n",
    "                    SET\n",
    "                        np.is_task_scope = {str(column_name == 'is_task_scope').lower()},\n",
    "                        np.is_minimum_qualification = {str(column_name == 'is_minimum_qualification').lower()},\n",
    "                        np.is_preferred_qualification = {str(column_name == 'is_preferred_qualification').lower()},\n",
    "                        np.is_educational_requirement = {str(column_name == 'is_educational_requirement').lower()},\n",
    "                        np.is_legal_notification = {str(column_name == 'is_legal_notification').lower()},\n",
    "                        np.is_other = {str(column_name == 'is_other').lower()},\n",
    "                        np.is_corporate_scope = {str(column_name == 'is_corporate_scope').lower()},\n",
    "                        np.is_job_title = {str(column_name == 'is_job_title').lower()},\n",
    "                        np.is_office_location = {str(column_name == 'is_office_location').lower()},\n",
    "                        np.is_job_duration = {str(column_name == 'is_job_duration').lower()},\n",
    "                        np.is_supplemental_pay = {str(column_name == 'is_supplemental_pay').lower()},\n",
    "                        np.is_interview_procedure = {str(column_name == 'is_interview_procedure').lower()},\n",
    "                        np.is_posting_date = {str(column_name == 'is_posting_date').lower()}\n",
    "                    ''' + cu.return_everything_str + ';'\n",
    "                return [dict(record.items()) for record in tx.run(query=cypher_str, parameters={'navigable_parent': navigable_parent})]\n",
    "            with cu.driver.session() as session: row_objs_list = session.write_transaction(do_cypher_tx, navigable_parent=child_str, verbose=False)"
   ]
  },
  {
   "cell_type": "code",
   "execution_count": 448,
   "id": "56d17dac-be9e-4bc3-aa01-58eed1baa9af",
   "metadata": {},
   "outputs": [
    {
     "data": {
      "text/plain": [
       "[{'navigable_parent': \"<p>This position's responsibilities fall into eight basic areas:</p>\", 'is_header': False, 'is_task_scope': True, 'is_minimum_qualification': False, 'is_preferred_qualification': False, 'is_legal_notification': False, 'is_job_title': False, 'is_office_location': False, 'is_job_duration': False, 'is_supplemental_pay': False, 'is_educational_requirement': False, 'is_interview_procedure': False, 'is_corporate_scope': False, 'is_posting_date': False, 'is_other': False}]"
      ]
     },
     "execution_count": 448,
     "metadata": {},
     "output_type": "execute_result"
    }
   ],
   "source": [
    "\n",
    "# Show what's in the database already for this html string\n",
    "def do_cypher_tx(tx, navigable_parent, verbose=False):\n",
    "    cypher_str = '''\n",
    "        MATCH (np:NavigableParents {navigable_parent: $navigable_parent})\n",
    "        ''' + cu.return_everything_str + ';'\n",
    "    results_list = tx.run(query=cypher_str, parameters={'navigable_parent': navigable_parent})\n",
    "    return [dict(record.items()) for record in results_list]\n",
    "with cu.driver.session() as session: row_objs_list = session.write_transaction(do_cypher_tx, navigable_parent=child_str, verbose=False)\n",
    "row_objs_list"
   ]
  },
  {
   "cell_type": "markdown",
   "id": "181dfa2e-4e09-4da7-b046-98f5c170ec67",
   "metadata": {},
   "source": [
    "\n",
    "----\n",
    "## Maintenance"
   ]
  },
  {
   "cell_type": "code",
   "execution_count": 160,
   "id": "07255146-70be-4d52-942c-1505d6e02a9d",
   "metadata": {},
   "outputs": [
    {
     "name": "stdout",
     "output_type": "stream",
     "text": [
      "\n",
      "MATCH (fn:FileNames)\n",
      "WHERE fn.file_name IN [\"c0a24e91821ccab2_Full_Stack_Data_Scientist_Remote_Indeed_com.html\"]\n",
      "SET fn.is_closed = true\n",
      "RETURN fn;\n",
      "\n",
      "MATCH (fn:FileNames)\n",
      "WHERE fn.file_name IN [\"c0a24e91821ccab2_Full_Stack_Data_Scientist_Remote_Indeed_com.html\"]\n",
      "SET fn.is_opportunity_application_emailed = true, fn.opportunity_application_email_date = date()\n",
      "RETURN fn;\n"
     ]
    }
   ],
   "source": [
    "\n",
    "# Display as histogram\n",
    "# lru.display_hunting_dataframe_as_histogram()\n",
    "cypher_str = f'''\n",
    "    MATCH (fn:FileNames)\n",
    "    WHERE\n",
    "        (fn.percent_fit >= 0.8) AND\n",
    "        ((fn.is_closed IS NULL) OR (fn.is_closed = false)) AND\n",
    "        ((fn.is_opportunity_application_emailed IS NULL) OR (fn.is_opportunity_application_emailed = false))\n",
    "    RETURN\n",
    "        fn.percent_fit AS percent_fit,\n",
    "        fn.file_name AS file_name,\n",
    "        fn.posting_url AS posting_url\n",
    "    ORDER BY fn.percent_fit DESC;'''\n",
    "row_objs_list = []\n",
    "with cu.driver.session() as session: row_objs_list = session.write_transaction(cu.do_cypher_tx, cypher_str)\n",
    "# if row_objs_list: display(DataFrame(row_objs_list))\n",
    "\n",
    "df = DataFrame(row_objs_list)\n",
    "for file_name in df.file_name:\n",
    "    print(f\"\"\"\n",
    "MATCH (fn:FileNames)\n",
    "WHERE fn.file_name IN [\"{file_name}\"]\n",
    "SET fn.is_closed = true\n",
    "RETURN fn;\"\"\")\n",
    "    break\n",
    "\n",
    "for file_name in df.file_name:\n",
    "    print(f\"\"\"\n",
    "MATCH (fn:FileNames)\n",
    "WHERE fn.file_name IN [\"{file_name}\"]\n",
    "SET fn.is_opportunity_application_emailed = true, fn.opportunity_application_email_date = date()\n",
    "RETURN fn;\"\"\")\n",
    "    break"
   ]
  },
  {
   "cell_type": "code",
   "execution_count": 32,
   "id": "8626518c-6d69-45b9-9f9a-ebe909644d0d",
   "metadata": {},
   "outputs": [
    {
     "name": "stdout",
     "output_type": "stream",
     "text": [
      "\n",
      "                MATCH\n",
      "                    (np:NavigableParents {navigable_parent: \"<p>Target will provide reasonable accommodations with the application process upon your request as required to comply with applicable laws. If you have a disability and require assistance in this application process, please visit your nearest Target store or Supply Chain Facility or reach out to Guest Services at 1-800-440-0680 for additional information.</p>\"}),\n",
      "                    (ht:HeaderTags {header_tag: \"p\"})\n",
      "                MERGE (ht)-[r:SUMMARIZES]->(np);\n"
     ]
    }
   ],
   "source": [
    "\n",
    "# Break up overly-long O-RQs:\n",
    "# Ensure you have already displayed the context of an individual child string above\n",
    "# Don't close the Notepad++ window until you have replaced the child string\n",
    "def display_file_in_text_editor(file_name):\n",
    "    text_editor_path = r'C:\\Program Files\\Notepad++\\notepad++.exe'\n",
    "    file_path = osp.abspath(osp.join(hau.SAVES_HTML_FOLDER, file_name))\n",
    "    !\"{text_editor_path}\" \"{file_path}\"\n",
    "display_file_in_text_editor(file_name)\n",
    "cu.rebuild_filename_node(file_name, navigable_parent=None, verbose=True)\n",
    "winsound.Beep(freq, duration)"
   ]
  },
  {
   "cell_type": "code",
   "execution_count": null,
   "id": "c767d2cb-2c13-421a-b29e-546d2b1b401f",
   "metadata": {},
   "outputs": [],
   "source": [
    "\n",
    "# Remove this particular child string from the quals dictionary and database\n",
    "basic_quals_dict = nu.load_object('basic_quals_dict')\n",
    "child_str = child_strs_list[idx]\n",
    "basic_quals_dict.pop(child_str, None)\n",
    "# basic_quals_dict[child_str] = 0\n",
    "nu.store_objects(basic_quals_dict=basic_quals_dict)\n",
    "print(f'\"{child_str}\" in basic_quals_dict: {child_str in basic_quals_dict}')\n",
    "def do_cypher_tx(tx, qualification_str, verbose=False):\n",
    "    cypher_str = '''\n",
    "        MATCH (qs:QualificationStrings {qualification_str: $qualification_str})\n",
    "        DETACH DELETE qs;\n",
    "        '''\n",
    "    results_list = tx.run(query=cypher_str, parameters={'qualification_str': qualification_str})\n",
    "\n",
    "    return [dict(record.items()) for record in results_list]\n",
    "with cu.driver.session() as session:\n",
    "    row_objs_list = session.write_transaction(do_cypher_tx, qualification_str=child_str, verbose=False)"
   ]
  },
  {
   "cell_type": "code",
   "execution_count": null,
   "id": "872a9fa5-9f15-4bcc-a3df-b75dbb52ed51",
   "metadata": {},
   "outputs": [],
   "source": [
    "\n",
    "# Remove file name from database\n",
    "for file_name in ['']:\n",
    "    cu.delete_filename_node(file_name, verbose=True)"
   ]
  },
  {
   "cell_type": "code",
   "execution_count": 161,
   "id": "bd3aad62-d78e-4243-b46f-dec293d4552d",
   "metadata": {},
   "outputs": [
    {
     "name": "stdout",
     "output_type": "stream",
     "text": [
      "Capacity to think critically about data\n",
      "ask the right questions\n",
      "make appropriate connections\n",
      "and apply the right methodologies.\n",
      "\n",
      "Basic knowledge of SQL for data querying and manipulation\n",
      "working with database tools such as MySQL\n",
      "Postgres\n",
      "etc\n",
      "\n",
      "Familiarity with big data platforms like Spark\n",
      "\n",
      "Basic knowledge of version control systems like Git.\n",
      "\n",
      "Ability to approach and solve problems logically and effectively.\n",
      "\n",
      "This experience should demonstrate a foundation in data analysis techniques\n",
      "basic statistical modeling\n",
      "introductory machine learning concepts\n",
      "and the application of these skills in real-world or academic projects to extract insights and understand data patterns\n",
      "\n",
      "Strong verbal and written communication skills\n",
      "including the ability to present complex findings to non-technical audiences.\n",
      "\n",
      "Skills in managing time effectively\n",
      "especially when handling multiple tasks or projects.\n",
      "\n",
      "Ability to create informative and interpretable data visualizations using tools like Matplotlib\n",
      "Seaborn\n",
      "Bokeh\n",
      "plotly (Python).\n",
      "\n",
      "Ability to work effectively in a team\n",
      "collaborating with other data scientists\n",
      "analysts\n",
      "and stakeholders.\n",
      "\n",
      "Solid grounding in statistical concepts (eg\n",
      "regression\n",
      "distributions\n",
      "statistical testing) and basic machine learning algorithms (like linear regression\n",
      "random forests)\n",
      "\n",
      "Foundational knowledge in python programming language\n",
      "which is commonly used in data science at Thrivent.\n",
      "\n",
      "Familiarity with data manipulation and analysis libraries (eg\n",
      "Pandas\n",
      "NumPy in Python).\n",
      "\n",
      "<li>Bachelor’s degree in Data Science or a related quantitative field such as Statistics\n",
      "Mathematics\n",
      "or Computer Science. </li>\n",
      "\n",
      "Demonstrate ability to meticulously manage and analyze data\n",
      "ensuring accuracy and reliability in every aspect of work\n",
      "which is crucial for identifying subtle patterns\n",
      "anomalies\n",
      "and insights that can inform critical business decisions.\n",
      "\n",
      "Understanding their applications and limitations\n",
      "suitable for fresh graduates with relevant coursework or projects\n",
      "\n",
      "Familiarity with these technologies will help support analysis at scale\n",
      "\n",
      "Understanding of how to construct and test hypotheses using statistical methods.\n",
      "\n",
      "Experience working with both structured and unstructured datasets.\n",
      "\n",
      "Eagerness to learn new tools\n",
      "technologies\n",
      "and techniques in the rapidly evolving field of data science.\n",
      "\n",
      "<li>0-2 years of experience in data science or related fields\n",
      "which may include internships\n",
      "academic projects\n",
      "or part-time roles\n",
      "\n"
     ]
    }
   ],
   "source": [
    "\n",
    "import re\n",
    "\n",
    "def separate_qualifications(quals_list):\n",
    "  \"\"\"\n",
    "  This function takes a list of qualifications and separates them into individual sentences.\n",
    "\n",
    "  Args:\n",
    "      quals_list: A list of strings, where each string represents a qualification.\n",
    "\n",
    "  Returns:\n",
    "      A list of lists, where each inner list contains the individual qualifications extracted from the corresponding element in the original quals_list.\n",
    "  \"\"\"\n",
    "  separated_quals = []\n",
    "  for qual in quals_list:\n",
    "    # Split qualifications based on commas, semicolons, and colons followed by whitespace\n",
    "    split_quals = re.split(r\", |; |:\", qual)\n",
    "    # Further split based on \"and\" if it's not the first word and there's punctuation before it\n",
    "    for i, sentence in enumerate(split_quals):\n",
    "      if i > 0 and re.search(r\"\\b(and)\\b\", sentence, flags=re.IGNORECASE) and re.search(r\"[,\\.;]\", split_quals[i-1]):\n",
    "        split_quals[i-1] += f\" {sentence.strip()}\"\n",
    "        split_quals.pop(i)\n",
    "    # Remove empty strings and leading/trailing whitespace\n",
    "    separated_quals.append([q.strip() for q in split_quals if q.strip()])\n",
    "  return separated_quals\n",
    "\n",
    "separated_qualifications = separate_qualifications(quals_list)\n",
    "\n",
    "# Print the separated qualifications\n",
    "for qual_set in separated_qualifications:\n",
    "  for qual in qual_set:\n",
    "    print(qual)\n",
    "  print()"
   ]
  },
  {
   "cell_type": "code",
   "execution_count": null,
   "id": "72f2828f-ab7b-4550-b5cc-92078c40f331",
   "metadata": {},
   "outputs": [],
   "source": []
  }
 ],
 "metadata": {
  "kernelspec": {
   "display_name": "Job Hunting (Python 3.10.9)",
   "language": "python",
   "name": "jh_env"
  },
  "language_info": {
   "codemirror_mode": {
    "name": "ipython",
    "version": 3
   },
   "file_extension": ".py",
   "mimetype": "text/x-python",
   "name": "python",
   "nbconvert_exporter": "python",
   "pygments_lexer": "ipython3",
   "version": "3.10.9"
  }
 },
 "nbformat": 4,
 "nbformat_minor": 5
}
