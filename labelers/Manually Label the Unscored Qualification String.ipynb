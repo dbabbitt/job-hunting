{
 "cells": [
  {
   "cell_type": "code",
   "execution_count": null,
   "id": "4c754d10-d7c1-4564-934e-02de88f32701",
   "metadata": {},
   "outputs": [],
   "source": []
  },
  {
   "cell_type": "code",
   "execution_count": 10,
   "id": "b9389494-1ad0-4ed6-841d-e3820b1eb8be",
   "metadata": {
    "tags": []
   },
   "outputs": [
    {
     "name": "stdout",
     "output_type": "stream",
     "text": [
      "Basic Qualifications for Military Service U S Air National Guard Systems Operations United States:\n",
      "*quals_list[0] = \"Must have a high school diploma, GED with 15 college credits or GED\" (1.0)\n",
      "*quals_list[1] = \"Must be between the ages of 17 and 39\" (1.0)\n",
      "100.00%\n",
      "\n",
      "hunting_df.loc[4889, 'percent_fit'] = (000+000)/2\n",
      "4889/4903 = 99.7% completed\n",
      "Inference completed in 11 seconds\n"
     ]
    }
   ],
   "source": [
    "\n",
    "t1 = time.time()\n",
    "\n",
    "# Loop through all the unset %fit values, set them if you can, break for help if you can't\n",
    "quals_list, file_name = lru.infer_from_hunting_dataframe(fitness_threshold=3/4, verbose=True)\n",
    "duration_str = humanize.precisedelta(time.time() - t1, minimum_unit='seconds', format='%0.0f')\n",
    "speech_str = f'Inference completed in {duration_str}'; print(speech_str); speech_engine.say(speech_str); speech_engine.runAndWait()"
   ]
  },
  {
   "cell_type": "code",
   "execution_count": null,
   "id": "506a9210-daf5-42e0-9aaf-f04ea4eab6b5",
   "metadata": {},
   "outputs": [],
   "source": [
    "raise"
   ]
  },
  {
   "cell_type": "code",
   "execution_count": 31,
   "id": "cd876a10-0dab-4129-bf83-24cc208e6471",
   "metadata": {},
   "outputs": [
    {
     "name": "stdout",
     "output_type": "stream",
     "text": [
      "The employee is occasionally required to sit; climb or balance; stoop, kneel, crouch, or crawl; and smell\n",
      "Pickling to C:\\Users\\daveb\\OneDrive\\Documents\\GitHub\\job-hunting\\saves\\pkl\\basic_quals_dict.pkl\n"
     ]
    }
   ],
   "source": [
    "\n",
    "# Manually label the unscored qualification string\n",
    "qualification_str = quals_list[8]\n",
    "print(qualification_str); basic_quals_dict = nu.load_object('basic_quals_dict')\n",
    "print(str(basic_quals_dict[qualification_str]) + '\\n' if(qualification_str in basic_quals_dict) else '', end='')\n",
    "basic_quals_dict[qualification_str] = 1\n",
    "nu.store_objects(basic_quals_dict=basic_quals_dict)"
   ]
  },
  {
   "cell_type": "markdown",
   "id": "542927a5-d129-40c9-9542-75a59e38343e",
   "metadata": {},
   "source": [
    "\n",
    "<style>\n",
    "    .qualification-row {\n",
    "      display: flex;\n",
    "      justify-content: space-between;\n",
    "      align-items: center;\n",
    "    }\n",
    "    .green-check {\n",
    "      background-color: green;\n",
    "      color: white;\n",
    "    }\n",
    "    .red-check {\n",
    "      background-color: red;\n",
    "      color: white;\n",
    "    }\n",
    "</style>\n",
    "<div class=\"qualification-row\">\n",
    "  <button class=\"green-check\">✔️</button>\n",
    "  <span>{{ qualification_str }}</span>\n",
    "  <button class=\"red-check\">❌</button>\n",
    "</div>"
   ]
  },
  {
   "cell_type": "code",
   "execution_count": 12,
   "id": "64be87c1-e55b-4d16-b5ac-5abfb038fcd8",
   "metadata": {},
   "outputs": [
    {
     "data": {
      "application/vnd.jupyter.widget-view+json": {
       "model_id": "22f3ca848ac74724be328c0ab4ddf0a7",
       "version_major": 2,
       "version_minor": 0
      },
      "text/plain": [
       "Label(value='Must have a high school diploma, GED with 15 college credits or GED')"
      ]
     },
     "metadata": {},
     "output_type": "display_data"
    },
    {
     "data": {
      "application/vnd.jupyter.widget-view+json": {
       "model_id": "fc3686febaa2448a80403ed2cfbf7298",
       "version_major": 2,
       "version_minor": 0
      },
      "text/plain": [
       "IntSlider(value=0, max=1)"
      ]
     },
     "metadata": {},
     "output_type": "display_data"
    },
    {
     "data": {
      "application/vnd.jupyter.widget-view+json": {
       "model_id": "a601a96167fc4ebe9718874b881395b5",
       "version_major": 2,
       "version_minor": 0
      },
      "text/plain": [
       "Button(description='Save', style=ButtonStyle())"
      ]
     },
     "metadata": {},
     "output_type": "display_data"
    },
    {
     "data": {
      "application/vnd.jupyter.widget-view+json": {
       "model_id": "b64fa74cdd804335818073f2553c3c09",
       "version_major": 2,
       "version_minor": 0
      },
      "text/plain": [
       "Button(description='Next', style=ButtonStyle())"
      ]
     },
     "metadata": {},
     "output_type": "display_data"
    }
   ],
   "source": [
    "\n",
    "# Manually label the unscored qualification string\n",
    "def create_widgets():\n",
    "    global qualification_str, basic_quals_dict, index\n",
    "    index = 0\n",
    "    qualification_str = quals_list[index]\n",
    "    basic_quals_dict = nu.load_object('basic_quals_dict')\n",
    "    \n",
    "    # Create widgets\n",
    "    label = widgets.Label(value=qualification_str)\n",
    "    score = widgets.IntSlider(value=basic_quals_dict.get(qualification_str, 0), min=0, max=1, step=1)\n",
    "    save_button = widgets.Button(description='Save')\n",
    "    next_button = widgets.Button(description='Next')\n",
    "    \n",
    "    # Define button click functions\n",
    "    def save_clicked(b):\n",
    "        basic_quals_dict[qualification_str] = score.value\n",
    "        nu.store_objects(basic_quals_dict=basic_quals_dict)\n",
    "        print(f'Saved: {qualification_str} = {score.value}')\n",
    "    \n",
    "    def next_clicked(b):\n",
    "        global index\n",
    "        index += 1\n",
    "        update_qualification()\n",
    "    \n",
    "    # Assign button click functions\n",
    "    save_button.on_click(save_clicked)\n",
    "    next_button.on_click(next_clicked)\n",
    "    \n",
    "    # Display widgets\n",
    "    display(label, score, save_button, next_button)\n",
    "\n",
    "def update_qualification():\n",
    "    global qualification_str, basic_quals_dict, index\n",
    "    qualification_str = quals_list[index]\n",
    "    basic_quals_dict = nu.load_object('basic_quals_dict')\n",
    "    \n",
    "    # Update widgets\n",
    "    label.value = qualification_str\n",
    "    score.value = basic_quals_dict.get(qualification_str, 0)\n",
    "\n",
    "index = 0\n",
    "create_widgets()"
   ]
  },
  {
   "cell_type": "markdown",
   "id": "f72a4fd4-426e-46b2-bfed-4b02828aca0f",
   "metadata": {},
   "source": [
    "\n",
    "----\n",
    "## Fix Parts-of-Speech and Quals for this posting"
   ]
  }
 ],
 "metadata": {
  "kernelspec": {
   "display_name": "Job Hunting (Python 3.10.9)",
   "language": "python",
   "name": "jh_env"
  },
  "language_info": {
   "codemirror_mode": {
    "name": "ipython",
    "version": 3
   },
   "file_extension": ".py",
   "mimetype": "text/x-python",
   "name": "python",
   "nbconvert_exporter": "python",
   "pygments_lexer": "ipython3",
   "version": "3.10.9"
  }
 },
 "nbformat": 4,
 "nbformat_minor": 5
}
