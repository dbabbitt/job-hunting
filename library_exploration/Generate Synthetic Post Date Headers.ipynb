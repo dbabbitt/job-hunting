{
 "cells": [
  {
   "cell_type": "code",
   "execution_count": 1,
   "id": "a1c6d02f-463e-4436-bafd-086f5e6db870",
   "metadata": {},
   "outputs": [
    {
     "name": "stdout",
     "output_type": "stream",
     "text": [
      "Pretty printing has been turned OFF\n",
      "======== Neo4j/5.24.2 ========\n",
      "Utility libraries created in 4 seconds\n"
     ]
    }
   ],
   "source": [
    "\n",
    "%pprint\n",
    "%matplotlib inline\n",
    "import sys\n",
    "import os.path as osp\n",
    "\n",
    "executable_path = sys.executable; scripts_folder = osp.join(osp.dirname(executable_path), 'Scripts')\n",
    "py_folder = osp.abspath(osp.join('..', 'py')); ffmpeg_folder = r'C:\\ffmpeg\\bin'\n",
    "if (scripts_folder not in sys.path): sys.path.insert(1, scripts_folder)\n",
    "if (py_folder not in sys.path): sys.path.insert(1, py_folder)\n",
    "if (ffmpeg_folder not in sys.path): sys.path.insert(1, ffmpeg_folder)\n",
    "from jobpostlib import (crf, cu, datetime, duration, hau, hc, humanize, ihu, lru, nu, osp, scrfcu, slrcu, ssgdcu, su, t0, time, wsu, speech_engine)\n",
    "from pandas import DataFrame\n",
    "import re\n",
    "import pyperclip\n",
    "import ipywidgets as widgets\n",
    "from IPython.display import display"
   ]
  },
  {
   "cell_type": "markdown",
   "id": "6b62c790-ae6a-4fd6-b165-f3339b5ab7c0",
   "metadata": {},
   "source": [
    "\n",
    "## Get some example job posting HTML"
   ]
  },
  {
   "cell_type": "code",
   "execution_count": 6,
   "id": "98c0b5bf-8de6-4215-afd6-f98385a3160f",
   "metadata": {},
   "outputs": [
    {
     "name": "stdout",
     "output_type": "stream",
     "text": [
      "(106, 1)\n"
     ]
    },
    {
     "data": {
      "text/html": [
       "<div>\n",
       "<style scoped>\n",
       "    .dataframe tbody tr th:only-of-type {\n",
       "        vertical-align: middle;\n",
       "    }\n",
       "\n",
       "    .dataframe tbody tr th {\n",
       "        vertical-align: top;\n",
       "    }\n",
       "\n",
       "    .dataframe thead th {\n",
       "        text-align: right;\n",
       "    }\n",
       "</style>\n",
       "<table border=\"1\" class=\"dataframe\">\n",
       "  <thead>\n",
       "    <tr style=\"text-align: right;\">\n",
       "      <th></th>\n",
       "      <th>navigable_parent</th>\n",
       "    </tr>\n",
       "  </thead>\n",
       "  <tbody>\n",
       "    <tr>\n",
       "      <th>0</th>\n",
       "      <td>&lt;b&gt;Application Process&lt;/b&gt;</td>\n",
       "    </tr>\n",
       "    <tr>\n",
       "      <th>1</th>\n",
       "      <td>&lt;b&gt;Apply here:&lt;/b&gt;</td>\n",
       "    </tr>\n",
       "    <tr>\n",
       "      <th>2</th>\n",
       "      <td>&lt;b&gt;Click Here to apply directly :&lt;/b&gt;</td>\n",
       "    </tr>\n",
       "    <tr>\n",
       "      <th>3</th>\n",
       "      <td>&lt;b&gt;How to apply?&lt;/b&gt;</td>\n",
       "    </tr>\n",
       "    <tr>\n",
       "      <th>4</th>\n",
       "      <td>&lt;b&gt;Link to apply:&lt;/b&gt;</td>\n",
       "    </tr>\n",
       "  </tbody>\n",
       "</table>\n",
       "</div>"
      ],
      "text/plain": [
       "                        navigable_parent\n",
       "0             <b>Application Process</b>\n",
       "1                     <b>Apply here:</b>\n",
       "2  <b>Click Here to apply directly :</b>\n",
       "3                   <b>How to apply?</b>\n",
       "4                  <b>Link to apply:</b>"
      ]
     },
     "metadata": {},
     "output_type": "display_data"
    }
   ],
   "source": [
    "\n",
    "# Get the most unbalance POS symbol\n",
    "min_recall_pos_symbol = nu.load_object('min_recall_pos_symbol')\n",
    "\n",
    "# Get all summarized child strings\n",
    "cypher_str = f'''\n",
    "    // Filter for NavigableParents nodes with an unambiguous SUMMARIZES relationship\n",
    "    MATCH (np:NavigableParents)\n",
    "    WHERE size([(np)<-[:SUMMARIZES]-(:PartsOfSpeech) | 1]) = 1\n",
    "    \n",
    "    // Get the child strings summarized by {min_recall_pos_symbol}\n",
    "    WITH np\n",
    "    MATCH (pos:PartsOfSpeech)-[r:SUMMARIZES]->(np:NavigableParents)\n",
    "    WHERE pos.pos_symbol = \"{min_recall_pos_symbol}\"\n",
    "    \n",
    "    RETURN DISTINCT np.navigable_parent AS navigable_parent;'''#; print(cypher_str)\n",
    "row_objs_list = []\n",
    "with cu.driver.session() as session: row_objs_list = session.write_transaction(cu.do_cypher_tx, cypher_str)\n",
    "if row_objs_list:\n",
    "    target_class_df = DataFrame(row_objs_list)\n",
    "    base_headers = target_class_df.navigable_parent.to_list()\n",
    "    if target_class_df.shape[0]:\n",
    "        print(target_class_df.shape)\n",
    "        display(target_class_df.head(5))"
   ]
  },
  {
   "cell_type": "markdown",
   "id": "55edda5c-03af-4db6-bfc7-7c3a57727157",
   "metadata": {},
   "source": [
    "\n",
    "## Generate synthetic job posting HTML"
   ]
  },
  {
   "cell_type": "code",
   "execution_count": 7,
   "id": "18aae963-1433-433a-83a5-37f701d20f6b",
   "metadata": {},
   "outputs": [
    {
     "name": "stdout",
     "output_type": "stream",
     "text": [
      "\n",
      "element_strs_set = set([', Senior Recruiter Stan Blackwell (sblackwell@delmock.com / 410-218-0900) would love to speak with you regarding the following position:', '<b>ALL APPLICANTS:</b>', '<b>About this opportunity:</b>', '<b>Application Materials Required</b>', '<b>Application Process</b>', '<b>Apply here:</b>', '<b>Background Check</b>', '<b>CTAP/ICTAP candidates:</b>', '<b>Click Here to apply directly :</b>', '<b>Entry-level:</b>', '<b>How to Apply:</b>', '<b>How to Apply</b>', '<b>How to apply?</b>', '<b>If specific educational requirements are indicated for this vacancy:</b>', '<b>If this opportunity interests you, you might like these courses on Coursera:</b>', '<b>Interview Procedure:</b>', '<b>Interview Procedures:</b>', '<b>Interview Process:</b>', '<b>Key words to search for the candidate</b>', '<b>LINKS</b>', '<b>Learn more by visiting:</b>', '<b>Link to apply:</b>', '<b>Mid-level:</b>', '<b>OPM Qualification Standards for the GS-1530 series can be found at the following website:</b>', '<b>Onboarding duration –</b>', '<b>Our recruitment process:</b>', '<b>Persons with Disabilities:</b>', '<b>Please be prepared to answer the following questions before the interview:</b>', '<b>Please submit the following documents:</b>', '<b>Posting Contact Email</b>', '<b>Posting Contact Name</b>', '<b>Pre-requisite checklist/expectations from the candidate before sharing the relevant profile:</b>', '<b>Questions that need answered</b>', '<b>Referral</b>', '<b>Required Documents:</b>', '<b>STEP 1:</b>', '<b>STEP 2:</b>', '<b>STEP 3:</b>', '<b>Screening of Applications Begins:</b>', '<b>Senior-level:</b>', '<b>To Know More:</b>', '<b>To all recruitment agencies:</b>', '<b>Veterans:</b>', '<b>Want more info?</b>', \"<b>Want to learn more about Berkeley Lab's Culture, Benefits and answers to FAQs? Please visit:</b>\", '<b>We need participants on the following topics:</b>', '<b>What Else You Need to Know</b>', '<b>What happens after you apply?</b>', '<b>What is our hiring process?</b>', '<b>What to expect in the hiring process:</b>', '<b>Work Authorization/Sponsorship</b>', '<b>You must submit a</b>', '<div>Applicant Notes:</div>', '<div>Required application materials (preferably in PDF Format):</div>', '<h1>How We Interview</h1>', '<h2 class=\"css-14vqcyj e1tiznh50\">Hiring Insights</h2>', '<h2 class=\"js-match-insights-provider-14dlqhn e1tiznh50\">Profile insights</h2>', '<h3 class=\"jobSectionHeader\" pos=\"H-IP\">Career roadmap after the bootcamp?:</h3>', '<h3 class=\"jobSectionHeader\" pos=\"H-IP\">Guides:</h3>', '<h3 class=\"jobSectionHeader\" pos=\"H-IP\">Interview Procedures:</h3>', '<h3 class=\"jobSectionHeader\" pos=\"H-SP\">Why should you apply to this bootcamp?:</h3>', '<h3 class=\"jobSectionHeader\">Interview Procedures:</h3>', '<h3 class=\"js-match-insights-provider-11n8e9a e1tiznh50\">Licenses</h3>', '<h3 class=\"text-white font-semibold text-lg mb-2\">How is this Skills Bootcamp delivered?</h3>', '<h3 class=\"text-white font-semibold text-lg mb-2\">Programme schedule</h3>', '<h3 class=\"text-white font-semibold text-lg mb-2\">What you\\'ll learn in this Skills Bootcamp</h3>', '<li>Cover letter including:</li>', '<li>Experience - multiple levels can be accommodated:</li>', '<li>Please read the following guidance.</li>', '<p>2. Other supporting documents:</p>', '<p>Application Question(s):</p>', '<p>COVID-19 Precaution(s):</p>', '<p>Experience level:</p>', '<p>For full consideration, please submit the following document(s):</p>', '<p>HOW TO APPLY</p>', \"<p>Here's what you can expect from our hiring process:</p>\", '<p>The following links provide information on various hiring authorities that may enable you to apply through merit assignment procedures, or be eligible for a non-competitive appointment.</p>', '<p>The selection process consists of four steps:</p>', \"<p>We'd love to talk to you! Please submit the following to apply:</p>\", '<p>What to Expect Next</p>', '<span style=\"font-size:11.0pt\">If you’re interested, please provide below details:</span>', '<span style=\"font-size:12.0pt\">Interview Process</span>', '<strong>Interview process:</strong>', '<strong>Next steps:</strong>', '<strong>Safety and respectful learning environment notice:</strong>', '<strong>To apply:</strong>', '<strong>Want to learn more?</strong>', \"<strong>What's Next:</strong>\", 'Application Notes:', 'Application response rate:', 'COVID-19 Considerations:', 'CRITICAL NOTES:', 'Date and times available to interview:', 'Find out more:', 'For more relevant job opportunities please visit our website:', 'Full Name:', 'HIRING SPECIFICS', 'Note:', 'Please Note', 'Report job', 'Some things we think you should know', 'Stay connected', 'The scored occupational questionnaire will evaluate you on the following competencies; please do not provide a separate written response:', 'Visa Sponsorship Information:', 'Work Arrangement', 'You will be rated on the following Competencies as part of the assessment questionnaire for this position:'])\n"
     ]
    }
   ],
   "source": [
    "\n",
    "print(f'''\n",
    "element_strs_set = set({sorted(base_headers)})''')"
   ]
  },
  {
   "cell_type": "code",
   "execution_count": 8,
   "id": "f9105c78-5d63-4c59-bce2-45daa98b6a28",
   "metadata": {},
   "outputs": [],
   "source": [
    "\n",
    "import random\n",
    "\n",
    "element_strs_set = set([\n",
    "    ', Senior Recruiter Stan Blackwell (sblackwell@delmock.com / 410-218-0900) would love to speak with you regarding the following position:', '<b>ALL APPLICANTS:</b>',\n",
    "    '<b>About this opportunity:</b>', '<b>Application Materials Required</b>', '<b>Application Process</b>', '<b>Apply here:</b>', '<b>Background Check</b>',\n",
    "    '<b>CTAP/ICTAP candidates:</b>', '<b>Click Here to apply directly :</b>', '<b>Entry-level:</b>', '<b>How to Apply:</b>', '<b>How to Apply</b>', '<b>How to apply?</b>',\n",
    "    '<b>If specific educational requirements are indicated for this vacancy:</b>', '<b>If this opportunity interests you, you might like these courses on Coursera:</b>',\n",
    "    '<b>Interview Procedure:</b>', '<b>Interview Procedures:</b>', '<b>Interview Process:</b>', '<b>Key words to search for the candidate</b>', '<b>LINKS</b>',\n",
    "    '<b>Learn more by visiting:</b>', '<b>Link to apply:</b>', '<b>Mid-level:</b>',\n",
    "    '<b>OPM Qualification Standards for the GS-1530 series can be found at the following website:</b>', '<b>Onboarding duration –</b>', '<b>Our recruitment process:</b>',\n",
    "    '<b>Persons with Disabilities:</b>', '<b>Please be prepared to answer the following questions before the interview:</b>', '<b>Please submit the following documents:</b>',\n",
    "    '<b>Posting Contact Email</b>', '<b>Posting Contact Name</b>', '<b>Pre-requisite checklist/expectations from the candidate before sharing the relevant profile:</b>',\n",
    "    '<b>Questions that need answered</b>', '<b>Referral</b>', '<b>Required Documents:</b>', '<b>STEP 1:</b>', '<b>STEP 2:</b>', '<b>STEP 3:</b>',\n",
    "    '<b>Screening of Applications Begins:</b>', '<b>Senior-level:</b>', '<b>To Know More:</b>', '<b>To all recruitment agencies:</b>', '<b>Veterans:</b>',\n",
    "    '<b>Want more info?</b>', \"<b>Want to learn more about Berkeley Lab's Culture, Benefits and answers to FAQs? Please visit:</b>\",\n",
    "    '<b>We need participants on the following topics:</b>', '<b>What Else You Need to Know</b>', '<b>What happens after you apply?</b>', '<b>What is our hiring process?</b>',\n",
    "    '<b>What to expect in the hiring process:</b>', '<b>Work Authorization/Sponsorship</b>', '<div>Applicant Notes:</div>',\n",
    "    '<div>Required application materials (preferably in PDF Format):</div>', '<h1>How We Interview</h1>', '<h2 class=\"css-14vqcyj e1tiznh50\">Hiring Insights</h2>',\n",
    "    '<h2 class=\"js-match-insights-provider-14dlqhn e1tiznh50\">Profile insights</h2>', '<h3 class=\"jobSectionHeader\" pos=\"H-IP\">Career roadmap after the bootcamp?:</h3>',\n",
    "    '<h3 class=\"jobSectionHeader\" pos=\"H-IP\">Guides:</h3>', '<h3 class=\"jobSectionHeader\" pos=\"H-IP\">Interview Procedures:</h3>',\n",
    "    '<h3 class=\"jobSectionHeader\">Interview Procedures:</h3>',\n",
    "    '<h3 class=\"js-match-insights-provider-11n8e9a e1tiznh50\">Licenses</h3>', '<h3 class=\"text-white font-semibold text-lg mb-2\">How is this Skills Bootcamp delivered?</h3>',\n",
    "    '<h3 class=\"text-white font-semibold text-lg mb-2\">Programme schedule</h3>',\n",
    "    '<h3 class=\"text-white font-semibold text-lg mb-2\">What you\\'ll learn in this Skills Bootcamp</h3>', '<li>Cover letter including:</li>',\n",
    "    '<li>Experience - multiple levels can be accommodated:</li>', '<li>Please read the following guidance.</li>', '<p>2. Other supporting documents:</p>',\n",
    "    '<p>Application Question(s):</p>', '<p>COVID-19 Precaution(s):</p>', '<p>Experience level:</p>', '<p>For full consideration, please submit the following document(s):</p>',\n",
    "    '<p>HOW TO APPLY</p>', \"<p>Here's what you can expect from our hiring process:</p>\",\n",
    "    '<p>The selection process consists of four steps:</p>', \"<p>We'd love to talk to you! Please submit the following to apply:</p>\", '<p>What to Expect Next</p>',\n",
    "    '<span style=\"font-size:11.0pt\">If you’re interested, please provide below details:</span>', '<span style=\"font-size:12.0pt\">Interview Process</span>',\n",
    "    '<strong>Interview process:</strong>', '<strong>Next steps:</strong>', '<strong>Safety and respectful learning environment notice:</strong>', '<strong>To apply:</strong>',\n",
    "    '<strong>Want to learn more?</strong>', \"<strong>What's Next:</strong>\", 'Application Notes:', 'Application response rate:', 'COVID-19 Considerations:', 'CRITICAL NOTES:',\n",
    "    'Date and times available to interview:', 'Find out more:', 'For more relevant job opportunities please visit our website:', 'Full Name:', 'HIRING SPECIFICS', 'Report job',\n",
    "    'Some things we think you should know', 'Stay connected',\n",
    "    'The scored occupational questionnaire will evaluate you on the following competencies; please do not provide a separate written response:', 'Visa Sponsorship Information:',\n",
    "    'Work Arrangement', 'You will be rated on the following Competencies as part of the assessment questionnaire for this position:'\n",
    "])\n",
    "base_headers = random.sample(element_strs_set, 10)"
   ]
  },
  {
   "cell_type": "code",
   "execution_count": 9,
   "id": "7787022e-1939-4c62-a3e3-80e104903a7e",
   "metadata": {},
   "outputs": [
    {
     "name": "stdout",
     "output_type": "stream",
     "text": [
      "Output a python list (not a function that generates a list) of job posting HTML examples similar to these Interview Procedures Headers (H-IP):\n",
      "[\"<p>We'd love to talk to you! Please submit the following to apply:</p>\", 'Date and times available to interview:', '<p>2. Other supporting documents:</p>', '<h2 class=\"js-match-insights-provider-14dlqhn e1tiznh50\">Profile insights</h2>', '<strong>Interview process:</strong>', '<b>About this opportunity:</b>', '<h1>How We Interview</h1>', 'Some things we think you should know', '<h3 class=\"js-match-insights-provider-11n8e9a e1tiznh50\">Licenses</h3>', '<b>Persons with Disabilities:</b>']\n"
     ]
    }
   ],
   "source": [
    "\n",
    "import cohere\n",
    "\n",
    "# Initialize the Cohere client\n",
    "co_key = wsu.secrets_json['Cohere_API_Key']\n",
    "co = cohere.Client(co_key)\n",
    "\n",
    "# Define the base headers for Post Date Headers\n",
    "prompt = f\"Output a python list (not a function that generates a list) of job posting HTML examples similar to these {hc.POS_EXPLANATION_DICT[min_recall_pos_symbol]}s ({min_recall_pos_symbol}):\\n\" + str(base_headers)\n",
    "print(prompt)"
   ]
  },
  {
   "cell_type": "code",
   "execution_count": 10,
   "id": "04f18018-7cb2-418f-9c25-f5f24d91d144",
   "metadata": {},
   "outputs": [
    {
     "name": "stderr",
     "output_type": "stream",
     "text": [
      "unknown field: parameter model is not a valid field\n"
     ]
    },
    {
     "name": "stdout",
     "output_type": "stream",
     "text": [
      "Here is a Python list of job posting HTML examples similar to the provided Interview Procedures Headers:\n",
      "```python\n",
      "[\n",
      "    \"<p>To apply, please send your resume and a brief introduction to [email protected> by Friday, May 10th.</p>\",\n",
      "    '<h2>Interview Process Overview</h2>',\n",
      "    \"<p>1. Initial screening call with HR</p>\",\n",
      "    '<h4>Our Interview Process</h4>',\n",
      "    '<strong>What to Expect:</strong>',\n",
      "    '<p>We will be conducting interviews on a rolling basis, so we encourage early applications.</p>',\n",
      "    '<h3>Interview Stages</h3>',\n",
      "    '<b>Step 1: Online Application</b>',\n",
      "    \"<p>We're excited to hear from you! Here's what you can expect during the interview process:</p>\",\n",
      "    '<h1>Interview Tips</h1>',\n",
      "    '<p>3. Shortlisted candidates will be invited for a virtual interview\n"
     ]
    }
   ],
   "source": [
    "\n",
    "# Generate synthetic headers\n",
    "response = co.generate(\n",
    "    prompt=prompt,\n",
    "    model='command-xlarge-nightly',\n",
    "    num_generations=5,\n",
    "    max_tokens=200,\n",
    "    temperature=0.7,\n",
    ")\n",
    "generation_texts_list = [cohere_generation_obj.text for cohere_generation_obj in response.generations]\n",
    "print(max(generation_texts_list, key=lambda x: len(str(x))))"
   ]
  },
  {
   "cell_type": "code",
   "execution_count": 11,
   "id": "3b76b3a6-32a5-488c-9cb4-de55308bc749",
   "metadata": {},
   "outputs": [],
   "source": [
    "\n",
    "for generation_text in generation_texts_list:\n",
    "    # display(generation_text)\n",
    "    element_strs_list = re.findall(r\"\"\"['`]([^\\\\'`\\]\\[]+)['`],?\"\"\", generation_text)\n",
    "    for element_str in element_strs_list:\n",
    "        html_str = element_str.strip('\\'`').strip()\n",
    "        if html_str.startswith('<') or html_str.endswith('>'):\n",
    "            html_str = hau.get_navigable_children(hau.get_body_soup(html_str), [])[0].strip()\n",
    "\n",
    "            # Disqualify text surrounded by inline elements\n",
    "            if not any(map(lambda pe: html_str.endswith(f'</{pe}>'), cu.inline_elements_set)):\n",
    "                element_strs_set.add(html_str)\n",
    "        else:\n",
    "            element_strs_set.add(html_str)"
   ]
  },
  {
   "cell_type": "code",
   "execution_count": null,
   "id": "1e45ade7-65c8-4b94-9a09-fbeaf2e5b403",
   "metadata": {},
   "outputs": [],
   "source": [
    "\n",
    "# Check if the slrcu has built its parts-of-speech logistic regression model\n",
    "# Parts-of-speech logistic regression model is normally built in 1 hour, 10 minutes and 4 seconds\n",
    "t1 = time.time()\n",
    "if not hasattr(slrcu, 'pos_predict_percent_fit_dict'):\n",
    "    slrcu.build_pos_logistic_regression_elements(sampling_strategy_limit=None, verbose=True)\n",
    "if hasattr(slrcu, 'pos_predict_percent_fit_dict'): print('predict_single is available')\n",
    "else: print('predict_single is not available')\n",
    "duration_str = humanize.precisedelta(time.time() - t1, minimum_unit='seconds', format='%0.0f')\n",
    "speech_str = f'Parts-of-speech logistic regression model built in {duration_str}'; print(speech_str)\n",
    "\n",
    "# Display the HTML that the classifier thinks looks good\n",
    "db_pos_list = []\n",
    "child_strs_list = sorted(element_strs_set)\n",
    "for navigable_parent in child_strs_list:\n",
    "    db_pos_list = cu.append_parts_of_speech_list(navigable_parent, pos_list=db_pos_list, verbose=False)\n",
    "for navigable_parent, db_pos_symbol in zip(child_strs_list, db_pos_list):\n",
    "    if db_pos_symbol and ('-' in db_pos_symbol):\n",
    "        # print(f'*{db_pos_symbol}: {navigable_parent}')\n",
    "        continue\n",
    "    else:\n",
    "        assert hasattr(slrcu, 'pos_predict_percent_fit_dict'), 'slrcu.predict_single needs to be available'\n",
    "        pr_pos_symbol = slrcu.predict_single(navigable_parent)\n",
    "        if pr_pos_symbol == min_recall_pos_symbol:\n",
    "            print(f'{pr_pos_symbol}: {navigable_parent}')"
   ]
  },
  {
   "cell_type": "markdown",
   "id": "3c792255-232c-46ee-9196-3d88183a994b",
   "metadata": {},
   "source": [
    "\n",
    "## Add (pos:PartsOfSpeech)-[r:SUMMARIZES]->(np:NavigableParents) pairs to the database"
   ]
  },
  {
   "cell_type": "code",
   "execution_count": 12,
   "id": "1640928d-719a-48ec-adcf-1e15f22783f1",
   "metadata": {},
   "outputs": [
    {
     "name": "stdout",
     "output_type": "stream",
     "text": [
      "\n",
      "child_strs_list = [',', ',\\n    \"<p>2. Technical Assessment: A practical test to evaluate your skills.</p>\",', ',\\n    \"<p>Let', ', Senior Recruiter Stan Blackwell (sblackwell@delmock.com / 410-218-0900) would love to speak with you regarding the following position:', '<b>ALL APPLICANTS:</b>', '<b>About this opportunity:</b>', '<b>Application Materials Required</b>', '<b>Application Process</b>', '<b>Apply here:</b>', '<b>Background Check</b>', '<b>CTAP/ICTAP candidates:</b>', '<b>Click Here to apply directly :</b>', '<b>Entry-level:</b>', '<b>How to Apply:</b>', '<b>How to Apply</b>', '<b>How to apply?</b>', '<b>If specific educational requirements are indicated for this vacancy:</b>', '<b>If this opportunity interests you, you might like these courses on Coursera:</b>', '<b>Interview Procedure:</b>', '<b>Interview Procedures:</b>', '<b>Interview Process:</b>', '<b>Key words to search for the candidate</b>', '<b>LINKS</b>', '<b>Learn more by visiting:</b>', '<b>Link to apply:</b>', '<b>Mid-level:</b>', '<b>OPM Qualification Standards for the GS-1530 series can be found at the following website:</b>', '<b>Onboarding duration –</b>', '<b>Our recruitment process:</b>', '<b>Persons with Disabilities:</b>', '<b>Please be prepared to answer the following questions before the interview:</b>', '<b>Please submit the following documents:</b>', '<b>Posting Contact Email</b>', '<b>Posting Contact Name</b>', '<b>Pre-requisite checklist/expectations from the candidate before sharing the relevant profile:</b>', '<b>Questions that need answered</b>', '<b>Referral</b>', '<b>Required Documents:</b>', '<b>STEP 1:</b>', '<b>STEP 2:</b>', '<b>STEP 3:</b>', '<b>Screening of Applications Begins:</b>', '<b>Senior-level:</b>', '<b>To Know More:</b>', '<b>To all recruitment agencies:</b>', '<b>Veterans:</b>', '<b>Want more info?</b>', \"<b>Want to learn more about Berkeley Lab's Culture, Benefits and answers to FAQs? Please visit:</b>\", '<b>We need participants on the following topics:</b>', '<b>What Else You Need to Know</b>', '<b>What happens after you apply?</b>', '<b>What is our hiring process?</b>', '<b>What to expect in the hiring process:</b>', '<b>Work Authorization/Sponsorship</b>', '<div>Applicant Notes:</div>', '<div>Required application materials (preferably in PDF Format):</div>', '<h1>How We Interview</h1>', '<h1>Interview Preparation</h1>', '<h1>Interview Tips</h1>', '<h1>Our Interview Process</h1>', '<h2 class=\"css-14vqcyj e1tiznh50\">Hiring Insights</h2>', '<h2 class=\"js-match-insights-provider-14dlqhn e1tiznh50\">Profile insights</h2>', '<h2>About the Role</h2>', '<h2>Company Culture Insights</h2>', '<h2>Interview Process Overview</h2>', '<h2>Interview Stages</h2>', '<h3 class=\"jobSectionHeader\" pos=\"H-IP\">Career roadmap after the bootcamp?:</h3>', '<h3 class=\"jobSectionHeader\" pos=\"H-IP\">Guides:</h3>', '<h3 class=\"jobSectionHeader\" pos=\"H-IP\">Interview Procedures:</h3>', '<h3 class=\"jobSectionHeader\">Interview Procedures:</h3>', '<h3 class=\"js-match-insights-provider-11n8e9a e1tiznh50\">Licenses</h3>', '<h3 class=\"text-white font-semibold text-lg mb-2\">How is this Skills Bootcamp delivered?</h3>', '<h3 class=\"text-white font-semibold text-lg mb-2\">Programme schedule</h3>', '<h3 class=\"text-white font-semibold text-lg mb-2\">What you\\'ll learn in this Skills Bootcamp</h3>', '<h3>Interview Availability</h3>', '<h3>Interview Schedule</h3>', '<h3>Interview Stages</h3>', '<h3>Required Certifications</h3>', '<h3>What to Expect</h3>', '<h4>Company Insights</h4>', '<h4>Our Interview Process</h4>', '<h5>Certifications Required</h5>', '<li>Cover letter including:</li>', '<li>Experience - multiple levels can be accommodated:</li>', '<li>Please read the following guidance.</li>', '<p>2. Other supporting documents:</p>', '<p>Application Question(s):</p>', '<p>COVID-19 Precaution(s):</p>', '<p>Experience level:</p>', '<p>For full consideration, please submit the following document(s):</p>', '<p>HOW TO APPLY</p>', \"<p>Here's what you can expect from our hiring process:</p>\", '<p>The selection process consists of four steps:</p>', '<p>We will be conducting interviews on a rolling basis, so we encourage early applications.</p>', \"<p>We'd love to talk to you! Please submit the following to apply:</p>\", '<p>What to Expect Next</p>', '<span style=\"font-size:11.0pt\">If you’re interested, please provide below details:</span>', '<span style=\"font-size:12.0pt\">Interview Process</span>', '<strong>Interview process:</strong>', '<strong>Next steps:</strong>', '<strong>Safety and respectful learning environment notice:</strong>', '<strong>To apply:</strong>', '<strong>Want to learn more?</strong>', \"<strong>What's Next:</strong>\", 'Additional Information for Candidates:', 'Application Notes:', 'Application response rate:', 'COVID-19 Considerations:', 'CRITICAL NOTES:', 'Date and times available to interview:', 'Find out more:', 'For more relevant job opportunities please visit our website:', 'Full Name:', 'HIRING SPECIFICS', 'Important Information for Candidates', 'Report job', 'Some things we think you should know', 'Stay connected', 'The scored occupational questionnaire will evaluate you on the following competencies; please do not provide a separate written response:', 'Visa Sponsorship Information:', 'Work Arrangement', 'You will be rated on the following Competencies as part of the assessment questionnaire for this position:', 'll review your application and reach out for a brief chat.</li><li>If you', 'll schedule a more in-depth interview.</li></ul>\",', 're excited to hear from you! Here', 're excited to hear from you! Kindly submit the following:</p>\",', 's Interview Culture</h5>\",']\n"
     ]
    }
   ],
   "source": [
    "\n",
    "print(f'''\n",
    "child_strs_list = {sorted(element_strs_set)}''')"
   ]
  },
  {
   "cell_type": "code",
   "execution_count": 13,
   "id": "bfdabce2-e96a-43d0-b182-9d63bd3b47b5",
   "metadata": {},
   "outputs": [],
   "source": [
    "\n",
    "# Take these hand-picked HTML strings and add them to the database\n",
    "from IPython.display import clear_output\n",
    "\n",
    "child_strs_list = [\n",
    "    '<p>2. Technical Assessment: A practical test to evaluate your skills.</p>',\n",
    "    ', Senior Recruiter Stan Blackwell (sblackwell@delmock.com / 410-218-0900) would love to speak with you regarding the following position:', '<b>ALL APPLICANTS:</b>',\n",
    "    '<b>About this opportunity:</b>', '<b>Application Materials Required</b>', '<b>Application Process</b>', '<b>Apply here:</b>', '<b>Background Check</b>',\n",
    "    '<b>CTAP/ICTAP candidates:</b>', '<b>Click Here to apply directly :</b>', '<b>Entry-level:</b>', '<b>How to Apply:</b>', '<b>How to Apply</b>', '<b>How to apply?</b>',\n",
    "    '<b>If specific educational requirements are indicated for this vacancy:</b>', '<b>If this opportunity interests you, you might like these courses on Coursera:</b>',\n",
    "    '<b>Interview Procedure:</b>', '<b>Interview Procedures:</b>', '<b>Interview Process:</b>', '<b>Key words to search for the candidate</b>', '<b>LINKS</b>',\n",
    "    '<b>Learn more by visiting:</b>', '<b>Link to apply:</b>', '<b>Mid-level:</b>',\n",
    "    '<b>OPM Qualification Standards for the GS-1530 series can be found at the following website:</b>', '<b>Onboarding duration –</b>', '<b>Our recruitment process:</b>',\n",
    "    '<b>Persons with Disabilities:</b>', '<b>Please be prepared to answer the following questions before the interview:</b>', '<b>Please submit the following documents:</b>',\n",
    "    '<b>Posting Contact Email</b>', '<b>Posting Contact Name</b>', '<b>Pre-requisite checklist/expectations from the candidate before sharing the relevant profile:</b>',\n",
    "    '<b>Questions that need answered</b>', '<b>Referral</b>', '<b>Required Documents:</b>', '<b>STEP 1:</b>', '<b>STEP 2:</b>', '<b>STEP 3:</b>',\n",
    "    '<b>Screening of Applications Begins:</b>', '<b>Senior-level:</b>', '<b>To Know More:</b>', '<b>To all recruitment agencies:</b>', '<b>Veterans:</b>',\n",
    "    '<b>Want more info?</b>', \"<b>Want to learn more about Berkeley Lab's Culture, Benefits and answers to FAQs? Please visit:</b>\",\n",
    "    '<b>What Else You Need to Know</b>', '<b>What happens after you apply?</b>', '<b>What is our hiring process?</b>', '<b>What to expect in the hiring process:</b>',\n",
    "    '<b>Work Authorization/Sponsorship</b>', '<div>Applicant Notes:</div>', '<div>Required application materials (preferably in PDF Format):</div>', '<h1>How We Interview</h1>',\n",
    "    '<h1>Interview Preparation</h1>', '<h1>Interview Tips</h1>', '<h1>Our Interview Process</h1>', '<h2 class=\"css-14vqcyj e1tiznh50\">Hiring Insights</h2>',\n",
    "    '<h2 class=\"js-match-insights-provider-14dlqhn e1tiznh50\">Profile insights</h2>', '<h2>Interview Process Overview</h2>', '<h2>Interview Stages</h2>',\n",
    "    '<h3 class=\"jobSectionHeader\" pos=\"H-IP\">Career roadmap after the bootcamp?:</h3>', '<h3 class=\"jobSectionHeader\" pos=\"H-IP\">Guides:</h3>',\n",
    "    '<h3 class=\"jobSectionHeader\" pos=\"H-IP\">Interview Procedures:</h3>', '<h3 class=\"jobSectionHeader\">Interview Procedures:</h3>',\n",
    "    '<h3 class=\"js-match-insights-provider-11n8e9a e1tiznh50\">Licenses</h3>', '<h3 class=\"text-white font-semibold text-lg mb-2\">How is this Skills Bootcamp delivered?</h3>',\n",
    "    '<h3 class=\"text-white font-semibold text-lg mb-2\">Programme schedule</h3>',\n",
    "    '<h3 class=\"text-white font-semibold text-lg mb-2\">What you\\'ll learn in this Skills Bootcamp</h3>', '<h3>Interview Availability</h3>', '<h3>Interview Schedule</h3>',\n",
    "    '<h3>Interview Stages</h3>', '<h3>What to Expect</h3>', '<h4>Company Insights</h4>', '<h4>Our Interview Process</h4>', '<li>Cover letter including:</li>',\n",
    "    '<li>Experience - multiple levels can be accommodated:</li>', '<li>Please read the following guidance.</li>', '<p>2. Other supporting documents:</p>',\n",
    "    '<p>Application Question(s):</p>', '<p>COVID-19 Precaution(s):</p>', '<p>Experience level:</p>', '<p>For full consideration, please submit the following document(s):</p>',\n",
    "    '<p>HOW TO APPLY</p>', \"<p>Here's what you can expect from our hiring process:</p>\", '<p>The selection process consists of four steps:</p>',\n",
    "    '<p>We will be conducting interviews on a rolling basis, so we encourage early applications.</p>', \"<p>We'd love to talk to you! Please submit the following to apply:</p>\",\n",
    "    '<p>What to Expect Next</p>', '<span style=\"font-size:11.0pt\">If you’re interested, please provide below details:</span>',\n",
    "    '<span style=\"font-size:12.0pt\">Interview Process</span>', '<strong>Interview process:</strong>', '<strong>Next steps:</strong>',\n",
    "    '<strong>To apply:</strong>', '<strong>Want to learn more?</strong>', \"<strong>What's Next:</strong>\", 'Additional Information for Candidates:', 'Application Notes:',\n",
    "    'Application response rate:', 'COVID-19 Considerations:', 'Date and times available to interview:', 'Find out more:',\n",
    "    'For more relevant job opportunities please visit our website:', 'Full Name:', 'HIRING SPECIFICS', 'Important Information for Candidates', 'Report job',\n",
    "    'Some things we think you should know', 'Stay connected',\n",
    "    'The scored occupational questionnaire will evaluate you on the following competencies; please do not provide a separate written response:',\n",
    "    'Visa Sponsorship Information:', 'Work Arrangement', 'You will be rated on the following Competencies as part of the assessment questionnaire for this position:',\n",
    "    \"<li>I'll review your application and reach out for a brief chat.</li>\", \"<li>I'll schedule a more in-depth interview.</li>\",\n",
    "    \"<p>We're excited to hear from you! Kindly submit the following:</p>\", \"'s Interview Culture</h5>\"\n",
    "]"
   ]
  },
  {
   "cell_type": "code",
   "execution_count": 14,
   "id": "21c33fe0-7bb2-4feb-bf56-440424f11285",
   "metadata": {},
   "outputs": [],
   "source": [
    "\n",
    "IS_HEADER_STR = 'True' if min_recall_pos_symbol.startswith('H-') else 'False'\n",
    "PROPERTY_NAME_STR = ''\n",
    "if min_recall_pos_symbol.endswith('-JT'):\n",
    "    PROPERTY_NAME_STR = 'is_job_title'\n",
    "elif min_recall_pos_symbol.endswith('-CS'):\n",
    "    PROPERTY_NAME_STR = 'is_corporate_scope'\n",
    "elif min_recall_pos_symbol.endswith('-TS'):\n",
    "    PROPERTY_NAME_STR = 'is_task_scope'\n",
    "elif min_recall_pos_symbol.endswith('-ER'):\n",
    "    PROPERTY_NAME_STR = 'is_educational_requirement'\n",
    "elif min_recall_pos_symbol.endswith('-RQ'):\n",
    "    PROPERTY_NAME_STR = 'is_minimum_qualification'\n",
    "elif min_recall_pos_symbol.endswith('-PQ'):\n",
    "    PROPERTY_NAME_STR = 'is_preferred_qualification'\n",
    "elif min_recall_pos_symbol.endswith('-SP'):\n",
    "    PROPERTY_NAME_STR = 'is_supplemental_pay'\n",
    "elif min_recall_pos_symbol.endswith('-OL'):\n",
    "    PROPERTY_NAME_STR = 'is_office_location'\n",
    "elif min_recall_pos_symbol.endswith('-JD'):\n",
    "    PROPERTY_NAME_STR = 'is_job_duration'\n",
    "elif min_recall_pos_symbol.endswith('-IP'):\n",
    "    PROPERTY_NAME_STR = 'is_interview_procedure'\n",
    "elif min_recall_pos_symbol.endswith('-LN'):\n",
    "    PROPERTY_NAME_STR = 'is_legal_notification'\n",
    "elif min_recall_pos_symbol.endswith('-O'):\n",
    "    PROPERTY_NAME_STR = 'is_other'\n",
    "elif min_recall_pos_symbol.endswith('-PD'):\n",
    "    PROPERTY_NAME_STR = 'is_posting_date'"
   ]
  },
  {
   "cell_type": "code",
   "execution_count": 15,
   "id": "2edc5a26-ecf2-4b2b-93ac-4e8de9855fe6",
   "metadata": {},
   "outputs": [
    {
     "name": "stdout",
     "output_type": "stream",
     "text": [
      "\n",
      "            // Remove the SUMMARIZES relationships that are not \"H-IP\"\n",
      "            MATCH (pos:PartsOfSpeech)-[r:SUMMARIZES]->(np:NavigableParents {navigable_parent: \"'s Interview Culture</h5>\"})\n",
      "            WHERE NOT (pos.pos_symbol = \"H-IP\")\n",
      "            DELETE r;\n"
     ]
    }
   ],
   "source": [
    "\n",
    "# Take the hand-picked HTML strings and remove their bad relationships to the database\n",
    "for child_str in child_strs_list:\n",
    "    def remove_relationships(tx, navigable_parent, pos_symbol, verbose=True):\n",
    "        cypher_str = '''\n",
    "            // Remove the SUMMARIZES relationships that are not $pos_symbol\n",
    "            MATCH (pos:PartsOfSpeech)-[r:SUMMARIZES]->(np:NavigableParents {navigable_parent: $navigable_parent})\n",
    "            WHERE NOT (pos.pos_symbol = $pos_symbol)\n",
    "            DELETE r;'''\n",
    "        if verbose:\n",
    "            clear_output(wait=True)\n",
    "            print(cypher_str.replace('$navigable_parent', f'\"{navigable_parent}\"').replace('$pos_symbol', f'\"{pos_symbol}\"'))\n",
    "        tx.run(query=cypher_str, parameters={'navigable_parent': navigable_parent, 'pos_symbol': pos_symbol})\n",
    "    with cu.driver.session() as session:\n",
    "        session.write_transaction(remove_relationships, navigable_parent=child_str, pos_symbol=min_recall_pos_symbol, verbose=True)"
   ]
  },
  {
   "cell_type": "code",
   "execution_count": 16,
   "id": "9e3b8186-ec77-4f9c-b561-b998016eebc4",
   "metadata": {},
   "outputs": [
    {
     "name": "stdout",
     "output_type": "stream",
     "text": [
      "\n",
      "            // Set the characteristics of the navigable_parent\n",
      "            MERGE (np:NavigableParents {navigable_parent: \"'s Interview Culture</h5>\"})\n",
      "            SET\n",
      "                np.is_header = true,\n",
      "                np.is_job_title = false,\n",
      "                np.is_corporate_scope = false,\n",
      "                np.is_task_scope = false,\n",
      "                np.is_educational_requirement = false,\n",
      "                np.is_minimum_qualification = false,\n",
      "                np.is_preferred_qualification = false,\n",
      "                np.is_supplemental_pay = false,\n",
      "                np.is_office_location = false,\n",
      "                np.is_job_duration = false,\n",
      "                np.is_interview_procedure = true,\n",
      "                np.is_legal_notification = false,\n",
      "                np.is_other = false,\n",
      "                np.is_posting_date = false\n",
      "            RETURN\n",
      "                np.navigable_parent AS navigable_parent,\n",
      "                np.is_interview_procedure AS is_interview_procedure,\n",
      "                np.is_header AS is_np_header;\n"
     ]
    },
    {
     "data": {
      "text/html": [
       "<div>\n",
       "<style scoped>\n",
       "    .dataframe tbody tr th:only-of-type {\n",
       "        vertical-align: middle;\n",
       "    }\n",
       "\n",
       "    .dataframe tbody tr th {\n",
       "        vertical-align: top;\n",
       "    }\n",
       "\n",
       "    .dataframe thead th {\n",
       "        text-align: right;\n",
       "    }\n",
       "</style>\n",
       "<table border=\"1\" class=\"dataframe\">\n",
       "  <thead>\n",
       "    <tr style=\"text-align: right;\">\n",
       "      <th></th>\n",
       "      <th>navigable_parent</th>\n",
       "      <th>is_interview_procedure</th>\n",
       "      <th>is_np_header</th>\n",
       "    </tr>\n",
       "  </thead>\n",
       "  <tbody>\n",
       "    <tr>\n",
       "      <th>0</th>\n",
       "      <td>'s Interview Culture&lt;/h5&gt;</td>\n",
       "      <td>True</td>\n",
       "      <td>True</td>\n",
       "    </tr>\n",
       "  </tbody>\n",
       "</table>\n",
       "</div>"
      ],
      "text/plain": [
       "            navigable_parent  is_interview_procedure  is_np_header\n",
       "0  's Interview Culture</h5>                    True          True"
      ]
     },
     "metadata": {},
     "output_type": "display_data"
    }
   ],
   "source": [
    "\n",
    "# Take the hand-picked HTML strings and add their characteristics to the database\n",
    "for child_str in child_strs_list:\n",
    "    def create_characteristics(tx, navigable_parent, verbose=True):\n",
    "        cypher_str = f'''\n",
    "            // Set the characteristics of the navigable_parent\n",
    "            MERGE (np:NavigableParents {{navigable_parent: $navigable_parent}})\n",
    "            SET\n",
    "                np.is_header = {str(min_recall_pos_symbol.startswith('H-')).lower()},\n",
    "                np.is_job_title = {str(min_recall_pos_symbol.endswith('-JT')).lower()},\n",
    "                np.is_corporate_scope = {str(min_recall_pos_symbol.endswith('-CS')).lower()},\n",
    "                np.is_task_scope = {str(min_recall_pos_symbol.endswith('-TS')).lower()},\n",
    "                np.is_educational_requirement = {str(min_recall_pos_symbol.endswith('-ER')).lower()},\n",
    "                np.is_minimum_qualification = {str(min_recall_pos_symbol.endswith('-RQ')).lower()},\n",
    "                np.is_preferred_qualification = {str(min_recall_pos_symbol.endswith('-PQ')).lower()},\n",
    "                np.is_supplemental_pay = {str(min_recall_pos_symbol.endswith('-SP')).lower()},\n",
    "                np.is_office_location = {str(min_recall_pos_symbol.endswith('-OL')).lower()},\n",
    "                np.is_job_duration = {str(min_recall_pos_symbol.endswith('-JD')).lower()},\n",
    "                np.is_interview_procedure = {str(min_recall_pos_symbol.endswith('-IP')).lower()},\n",
    "                np.is_legal_notification = {str(min_recall_pos_symbol.endswith('-LN')).lower()},\n",
    "                np.is_other = {str(min_recall_pos_symbol.endswith('-O')).lower()},\n",
    "                np.is_posting_date = {str(min_recall_pos_symbol.endswith('-PD')).lower()}\n",
    "            RETURN\n",
    "                np.navigable_parent AS navigable_parent,\n",
    "                np.{PROPERTY_NAME_STR} AS {PROPERTY_NAME_STR},\n",
    "                np.is_header AS is_np_header;'''\n",
    "        if verbose:\n",
    "            clear_output(wait=True)\n",
    "            print(cypher_str.replace('$navigable_parent', f'\"{navigable_parent}\"'))\n",
    "        return [dict(record.items()) for record in tx.run(query=cypher_str, parameters={'navigable_parent': navigable_parent})]\n",
    "    row_objs_list = []\n",
    "    with cu.driver.session() as session:\n",
    "        row_objs_list = session.write_transaction(create_characteristics, navigable_parent=child_str)\n",
    "    if row_objs_list:\n",
    "        df = DataFrame(row_objs_list)\n",
    "        if df.shape[0]:\n",
    "            display(df.head(5))"
   ]
  },
  {
   "cell_type": "code",
   "execution_count": 17,
   "id": "1d4fbf14-57a1-4f93-90ca-91f39a1818df",
   "metadata": {},
   "outputs": [
    {
     "name": "stdout",
     "output_type": "stream",
     "text": [
      "\n",
      "            // Create a SUMMARIZES relationship if it doesn't already exist\n",
      "            MATCH (pos:PartsOfSpeech {pos_symbol: \"H-IP\"})\n",
      "            MATCH (np:NavigableParents {navigable_parent: \"'s Interview Culture</h5>\"})\n",
      "            MERGE (pos)-[r:SUMMARIZES]->(np)\n",
      "            RETURN\n",
      "                pos.pos_explanation AS pos_explanation,\n",
      "                pos.pos_symbol AS pos_symbol,\n",
      "                pos.is_interview_procedure AS pos_is_interview_procedure,\n",
      "                pos.is_header AS pos_is_header,\n",
      "                type(r) AS relationship_type,\n",
      "                np.navigable_parent AS navigable_parent,\n",
      "                np.is_interview_procedure AS np_is_interview_procedure,\n",
      "                np.is_header AS np_is_header;\n"
     ]
    },
    {
     "data": {
      "text/html": [
       "<div>\n",
       "<style scoped>\n",
       "    .dataframe tbody tr th:only-of-type {\n",
       "        vertical-align: middle;\n",
       "    }\n",
       "\n",
       "    .dataframe tbody tr th {\n",
       "        vertical-align: top;\n",
       "    }\n",
       "\n",
       "    .dataframe thead th {\n",
       "        text-align: right;\n",
       "    }\n",
       "</style>\n",
       "<table border=\"1\" class=\"dataframe\">\n",
       "  <thead>\n",
       "    <tr style=\"text-align: right;\">\n",
       "      <th></th>\n",
       "      <th>0</th>\n",
       "    </tr>\n",
       "  </thead>\n",
       "  <tbody>\n",
       "    <tr>\n",
       "      <th>pos_explanation</th>\n",
       "      <td>Interview Procedures Header</td>\n",
       "    </tr>\n",
       "    <tr>\n",
       "      <th>pos_symbol</th>\n",
       "      <td>H-IP</td>\n",
       "    </tr>\n",
       "    <tr>\n",
       "      <th>pos_is_interview_procedure</th>\n",
       "      <td>True</td>\n",
       "    </tr>\n",
       "    <tr>\n",
       "      <th>pos_is_header</th>\n",
       "      <td>True</td>\n",
       "    </tr>\n",
       "    <tr>\n",
       "      <th>relationship_type</th>\n",
       "      <td>SUMMARIZES</td>\n",
       "    </tr>\n",
       "    <tr>\n",
       "      <th>navigable_parent</th>\n",
       "      <td>'s Interview Culture&lt;/h5&gt;</td>\n",
       "    </tr>\n",
       "    <tr>\n",
       "      <th>np_is_interview_procedure</th>\n",
       "      <td>True</td>\n",
       "    </tr>\n",
       "    <tr>\n",
       "      <th>np_is_header</th>\n",
       "      <td>True</td>\n",
       "    </tr>\n",
       "  </tbody>\n",
       "</table>\n",
       "</div>"
      ],
      "text/plain": [
       "                                                      0\n",
       "pos_explanation             Interview Procedures Header\n",
       "pos_symbol                                         H-IP\n",
       "pos_is_interview_procedure                         True\n",
       "pos_is_header                                      True\n",
       "relationship_type                            SUMMARIZES\n",
       "navigable_parent              's Interview Culture</h5>\n",
       "np_is_interview_procedure                          True\n",
       "np_is_header                                       True"
      ]
     },
     "metadata": {},
     "output_type": "display_data"
    }
   ],
   "source": [
    "\n",
    "# Take the hand-picked HTML strings and add the correct relationships\n",
    "for child_str in child_strs_list:\n",
    "    def create_relationship(tx, navigable_parent, pos_symbol, verbose=True):\n",
    "        cypher_str = f'''\n",
    "            // Create a SUMMARIZES relationship if it doesn't already exist\n",
    "            MATCH (pos:PartsOfSpeech {{pos_symbol: $pos_symbol}})\n",
    "            MATCH (np:NavigableParents {{navigable_parent: $navigable_parent}})\n",
    "            MERGE (pos)-[r:SUMMARIZES]->(np)\n",
    "            RETURN\n",
    "                pos.pos_explanation AS pos_explanation,\n",
    "                pos.pos_symbol AS pos_symbol,\n",
    "                pos.{PROPERTY_NAME_STR} AS pos_{PROPERTY_NAME_STR},\n",
    "                pos.is_header AS pos_is_header,\n",
    "                type(r) AS relationship_type,\n",
    "                np.navigable_parent AS navigable_parent,\n",
    "                np.{PROPERTY_NAME_STR} AS np_{PROPERTY_NAME_STR},\n",
    "                np.is_header AS np_is_header;'''\n",
    "        if verbose:\n",
    "            clear_output(wait=True)\n",
    "            print(cypher_str.replace('$navigable_parent', f'\"{navigable_parent}\"').replace('$pos_symbol', f'\"{pos_symbol}\"'))\n",
    "        results_list = tx.run(query=cypher_str, parameters={'navigable_parent': navigable_parent, 'pos_symbol': pos_symbol})\n",
    "        \n",
    "        return [dict(record.items()) for record in results_list]\n",
    "    row_objs_list = []\n",
    "    with cu.driver.session() as session:\n",
    "        row_objs_list = session.write_transaction(create_relationship, navigable_parent=child_str, pos_symbol=min_recall_pos_symbol, verbose=True)\n",
    "    if row_objs_list:\n",
    "        df = DataFrame(row_objs_list)\n",
    "        if df.shape[0]:\n",
    "            display(df.head(5).T)"
   ]
  },
  {
   "cell_type": "markdown",
   "id": "596d82f1-f027-4f6c-8377-446b95f6ab97",
   "metadata": {},
   "source": [
    "\n",
    "----"
   ]
  },
  {
   "cell_type": "markdown",
   "id": "904b0173-849a-451b-87b6-9cbb25351e34",
   "metadata": {},
   "source": [
    "# Speed/Accuracy Tradeoffs and Synthetic Dataset Generation\n",
    "\n",
    "## Speed vs. Accuracy Tradeoffs\n",
    "- To run the job-hunting pipeline efficiently on a laptop, I had to make **speed vs. accuracy tradeoffs**.\n",
    "- For predicting the category of each `navigable_parent` (HTML navigable text wrapped in its parent tag), I chose **Logistic Regression**:\n",
    "  - Logistic Regression is relatively fast and interpretable.\n",
    "  - It sacrifices some accuracy compared to more complex machine learning models like neural networks."
   ]
  },
  {
   "cell_type": "markdown",
   "id": "fbf0e88f-ad42-458e-9c71-661bdd052045",
   "metadata": {},
   "source": [
    "\n",
    "## Training Data Imbalance Challenge\n",
    "- The training data is highly **imbalanced**. For example, when training on **Post Date Headers (H-PD)**:\n",
    "  - I have only **5 examples** of the target class.\n",
    "  - There are **48,123 labeled parts of speech of non-examples**.\n",
    "- This imbalance makes it difficult for the model to learn meaningful patterns for the specific class (H-PD).\n",
    "- As a result, the model may perform poorly when classifying H-PD examples.\n",
    "\n",
    "## Synthetic Dataset Generation with LLMs\n",
    "- To address the training data imbalance, I am generating a **synthetic dataset** using **Large Language Models (LLMs)**:\n",
    "  - I provide the few available examples as input to the LLM.\n",
    "  - I refine the generation process using:\n",
    "    - **Prompt engineering** before generation.\n",
    "    - **Regular expressions** to clean and validate the generated examples post-generation.\n",
    "    - Letting the **Logistic Regression** model pick out the best of the generated examples.\n",
    "- The LLM generates additional synthetic data that resembles the target class (H-PD) closely."
   ]
  },
  {
   "cell_type": "markdown",
   "id": "d4d827d7-80c4-445b-bb14-466110f05b48",
   "metadata": {},
   "source": [
    "\n",
    "## Speed and LLM Implementation Issues\n",
    "- The synthetic dataset generation process is implemented using **Cohere's API**:\n",
    "  - I haven't exceeded my current quota.\n",
    "  - The offline open source models I have on my laptop are too slow, preventing fast turnaround.\n",
    "- Manually fixing some labels in the training dataset forces me to retrain the POS Classifiers, which takes about 2 hours.\n",
    "\n",
    "## Goals and Future Testing\n",
    "- By combining **Logistic Regression** with **synthetic data augmentation**, I aim to:\n",
    "  - Strike a balance between **speed**, **accuracy**, and **practicality**.\n",
    "  - Improve the overall performance of the machine learning pipeline.\n",
    "- I am assuming adding labeled synthetic `navigable_parent`s significantly enhances model performance without compromising efficiency. I will test when I can find some more examples in the wild."
   ]
  },
  {
   "cell_type": "code",
   "execution_count": null,
   "id": "a9a186cd-2d9b-462e-b04f-a901b594cb4c",
   "metadata": {},
   "outputs": [],
   "source": [
    "\n",
    "# Get all at-least-partially tagged file names\n",
    "cypher_str = f'''\n",
    "    // Get the tagged node counts for each file\n",
    "    MATCH (pos:PartsOfSpeech)-[r1:SUMMARIZES]->(np1:NavigableParents)-[r2:NEXT]->(np2:NavigableParents)\n",
    "    WITH\n",
    "        r2.file_name AS file_name,\n",
    "        COUNT(r1) AS tagged_count,\n",
    "        COUNT(r2) AS edge_count,\n",
    "        COUNT(np1) AS np_count\n",
    "    RETURN np_count, tagged_count, edge_count, file_name\n",
    "    ORDER BY edge_count DESC;'''\n",
    "row_objs_list = []\n",
    "with cu.driver.session() as session: row_objs_list = session.write_transaction(cu.do_cypher_tx, cypher_str)\n",
    "if row_objs_list:\n",
    "    tagged_node_counts_df = DataFrame(row_objs_list)\n",
    "    if tagged_node_counts_df.shape[0]:\n",
    "        display(tagged_node_counts_df.sample(5))"
   ]
  },
  {
   "cell_type": "code",
   "execution_count": null,
   "id": "3718e92e-cb1f-48c2-b5c8-d87bd18e6b2d",
   "metadata": {},
   "outputs": [],
   "source": [
    "\n",
    "# Get all POS symbols for the at-least-partially tagged files\n",
    "filenames_list = tagged_node_counts_df.file_name.tolist()\n",
    "filenames_str = '\", \"'.join(filenames_list)\n",
    "cypher_str = f'''\n",
    "    // Get child string and POS for each at-least-partially tagged file\n",
    "    MATCH (pos:PartsOfSpeech)-[r1:SUMMARIZES]->(np1:NavigableParents)-[r2:NEXT]->(np2:NavigableParents)\n",
    "    WHERE\n",
    "        r2.file_name IN [\"{filenames_str}\"]\n",
    "    RETURN\n",
    "        np1.navigable_parent AS text,\n",
    "        pos.pos_symbol AS pos_symbol;'''\n",
    "# print(cypher_str)\n",
    "row_objs_list = []\n",
    "with cu.driver.session() as session: row_objs_list = session.write_transaction(cu.do_cypher_tx, cypher_str)\n",
    "if row_objs_list:\n",
    "    file_tags_df = DataFrame(row_objs_list)\n",
    "    if file_tags_df.shape[0]:\n",
    "        display(file_tags_df.sample(5))"
   ]
  },
  {
   "cell_type": "code",
   "execution_count": null,
   "id": "e02ca87a-c803-4157-afe4-3c6fff34f64f",
   "metadata": {},
   "outputs": [],
   "source": [
    "\n",
    "min_support_pos_symbol = file_tags_df.groupby('pos_symbol').count().reset_index().rename(columns={'text': 'labeled_count'}).sort_values('labeled_count').iloc[0].pos_symbol\n",
    "print(f'The training data is highly imbalanced. For example, when training on {hc.POS_EXPLANATION_DICT[min_recall_pos_symbol]} ({min_recall_pos_symbol}):')\n",
    "print(f'    I have only {target_class_df.shape[0]:,} examples of the target class.')\n",
    "print(f'    There are {file_tags_df.shape[0]:,} labeled parts of speech of non-examples.')"
   ]
  },
  {
   "cell_type": "code",
   "execution_count": null,
   "id": "b5e2f4a7-0890-4f3c-b195-08086dab3d8d",
   "metadata": {},
   "outputs": [],
   "source": [
    "\n",
    "# Get all at-least-partially tagged file names\n",
    "cypher_str = '''\n",
    "    // Remove the SUMMARIZES relationships that are not \"O-PD\"\n",
    "    MATCH (pos:PartsOfSpeech)-[r1:SUMMARIZES]->(np1:NavigableParents)\n",
    "    WHERE\n",
    "        np1.navigable_parent IN ['<span class=\"jobsearch-HiringInsights-entry--text\">Posted 7 days ago</span>']\n",
    "        AND NOT (pos.pos_symbol = \"O-PD\")\n",
    "    DELETE r1;'''\n",
    "pyperclip.copy(cypher_str)"
   ]
  },
  {
   "cell_type": "code",
   "execution_count": null,
   "id": "33803fb7-a46e-4ed4-8009-97aec162111c",
   "metadata": {},
   "outputs": [],
   "source": []
  }
 ],
 "metadata": {
  "kernelspec": {
   "display_name": "Job Hunting (Python 3.10.9)",
   "language": "python",
   "name": "jh_env"
  },
  "language_info": {
   "codemirror_mode": {
    "name": "ipython",
    "version": 3
   },
   "file_extension": ".py",
   "mimetype": "text/x-python",
   "name": "python",
   "nbconvert_exporter": "python",
   "pygments_lexer": "ipython3",
   "version": "3.10.9"
  }
 },
 "nbformat": 4,
 "nbformat_minor": 5
}
