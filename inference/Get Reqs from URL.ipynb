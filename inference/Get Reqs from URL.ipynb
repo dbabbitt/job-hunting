{
 "cells": [
  {
   "cell_type": "code",
   "execution_count": 1,
   "metadata": {},
   "outputs": [
    {
     "name": "stdout",
     "output_type": "stream",
     "text": [
      "Pickling to C:\\Users\\dev\\Documents\\Repositories\\job-hunting\\saves\\pickle\\CHILD_STR_CLF.pickle\n",
      "Wall time: 42.6 s\n"
     ]
    }
   ],
   "source": [
    "\n",
    "%%time\n",
    "%run ../py/html_analysis.py\n",
    "ea = ElementAnalysis()"
   ]
  },
  {
   "cell_type": "code",
   "execution_count": 2,
   "metadata": {},
   "outputs": [],
   "source": [
    "\n",
    "from urllib.parse import quote_plus\n",
    "\n",
    "base_url = 'https://www.indeed.com'\n",
    "site_url = base_url + '/viewjob'\n",
    "site_url = '?'.join([site_url, 'viewtype=embedded'])\n",
    "site_url = '&'.join([site_url, 'jk=aa8747985d7c2404'])\n",
    "site_url = '&'.join([site_url, 'from=vjs'])\n",
    "site_url = '&'.join([site_url, 'tk=1eoqsj5sot533800'])\n",
    "topwindow_url = '/jobs'\n",
    "topwindow_url = '?'.join([topwindow_url, 'q=data%20scientist%20%24100%2C000'])\n",
    "topwindow_url = '&'.join([topwindow_url, 'forceLocation=032b3046-06a3-4876-8dfd-474eb5e7ed11'])\n",
    "topwindow_url = '&'.join([topwindow_url, 'remotejob=032b3046-06a3-4876-8dfd-474eb5e7ed11'])\n",
    "topwindow_url = '&'.join([topwindow_url, 'vjk=aa8747985d7c2404'])\n",
    "site_url = '&'.join([site_url, f'topwindowlocation={quote_plus(topwindow_url)}'])"
   ]
  },
  {
   "cell_type": "code",
   "execution_count": 3,
   "metadata": {},
   "outputs": [
    {
     "data": {
      "text/html": [
       "<b>WHAT YOU'LL DO:</b><li>Collaborate with business partners to understand business objectives/goals and develop a clear and well-defined analytic plan.</li><li>Support the analytic life cycle.</li><li>Performs data extraction and data manipulation.</li><li>Explore data to understand and articulate the data profile and its limitations.</li><li>Assist in the development of predictive modeling and association modeling such as segmentation analysis, data modeling, risk modeling, behavioral analysis, cross-selling analysis, and customer churn analysis.</li><li>Develop trusted outcomes by applying appropriate analytical techniques and metrics.</li><li>Support the deployment and maintenance of the analytic model.</li><li>Communicates clear outcomes at varying levels of detail to our business partners.</li>"
      ],
      "text/plain": [
       "<IPython.core.display.HTML object>"
      ]
     },
     "metadata": {},
     "output_type": "display_data"
    },
    {
     "data": {
      "text/html": [
       "<b>ABOUT YOU:</b><li>Undergraduate degree in analytically driven fields such as mathematics, statistics, physics, economics, data science, computer science, operations research or actuarial science.</li><li>Ability to write SQL to gather data.</li><li>Proficient in one or more computer programming languages, or proficient in statistical analysis and machine learning.</li><li>Basic understanding of data visualization.</li><li>Knowledge of structured data platforms.</li><li>Adequate verbal and written communication and human relations skills.</li><li>Strong problem solving skills and a high level of intellectual curiosity.</li><li>Potential to self-direct and work independently at times.</li><li>You help promote a culture of diversity and inclusion within the department and the larger organization. You value different ideas and opinions. You listen courageously and remain curious in all that you do.</li><li>You are able to work remotely and have access to high-speed internet.</li>"
      ],
      "text/plain": [
       "<IPython.core.display.HTML object>"
      ]
     },
     "metadata": {},
     "output_type": "display_data"
    },
    {
     "data": {
      "text/html": [
       "<b>VALUABLE EXPERIENCE:</b><li>Graduate degree in analytically driven fields such as mathematics, statistics, physics, economics, data science, computer science, operations research or actuarial science.</li><li>Product and industry knowledge.</li><li>Strong business acumen.</li><li>Associate or Fellow in Society of Actuaries.</li>"
      ],
      "text/plain": [
       "<IPython.core.display.HTML object>"
      ]
     },
     "metadata": {},
     "output_type": "display_data"
    },
    {
     "data": {
      "text/html": [
       "<b>WHAT WE CAN OFFER YOU:</b><li>A diverse workplace where associates feel a sense of belonging</li><li>An organization that feels like a small, close-knit community and has the strength of a Fortune 500 company</li><li>Tuition reimbursement, training and career development</li><li>Competitive salary, incentives, 401(k), flexible work schedules and a healthy amount of time off</li>"
      ],
      "text/plain": [
       "<IPython.core.display.HTML object>"
      ]
     },
     "metadata": {},
     "output_type": "display_data"
    }
   ],
   "source": [
    "\n",
    "ea.display_reqs_from_url(site_url)"
   ]
  }
 ],
 "metadata": {
  "kernelspec": {
   "display_name": "Job Hunting (Python 3.9.0)",
   "language": "python",
   "name": "jh"
  },
  "language_info": {
   "codemirror_mode": {
    "name": "ipython",
    "version": 3
   },
   "file_extension": ".py",
   "mimetype": "text/x-python",
   "name": "python",
   "nbconvert_exporter": "python",
   "pygments_lexer": "ipython3",
   "version": "3.9.0"
  }
 },
 "nbformat": 4,
 "nbformat_minor": 4
}
