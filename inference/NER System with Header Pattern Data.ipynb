{
 "cells": [
  {
   "cell_type": "markdown",
   "metadata": {},
   "source": [
    "\n",
    "# Using Information from the rest of a Sequence to Predict the Label for any one Item"
   ]
  },
  {
   "cell_type": "code",
   "execution_count": 1,
   "metadata": {},
   "outputs": [
    {
     "name": "stdout",
     "output_type": "stream",
     "text": [
      "Pretty printing has been turned OFF\n"
     ]
    }
   ],
   "source": [
    "\n",
    "%pprint"
   ]
  },
  {
   "cell_type": "code",
   "execution_count": 2,
   "metadata": {},
   "outputs": [],
   "source": [
    "\n",
    "%run ../load_magic/storage.py\n",
    "s = Storage()\n",
    "assert s.pickle_exists('HEADER_PATTERN_DICT')\n",
    "HEADER_PATTERN_DICT = s.load_object('HEADER_PATTERN_DICT')"
   ]
  },
  {
   "cell_type": "markdown",
   "metadata": {},
   "source": [
    "\n",
    "I have a dictionary of variable-length sequences:"
   ]
  },
  {
   "cell_type": "code",
   "execution_count": 3,
   "metadata": {},
   "outputs": [
    {
     "data": {
      "text/plain": [
       "[('adb92.html', 53), ('37bd1.html', 25), ('0bcce.html', 40), ('90364.html', 28), ('8f9c7.html', 24), ('d12d4.html', 73), ('46837.html', 37), ('da077.html', 43), ('0a1e7.html', 69), ('9366a.html', 21), ('6ae4d.html', 37), ('f62ee.html', 19), ('73aee.html', 33), ('e090a.html', 35), ('8b093.html', 44), ('22f98.html', 76), ('9d5a0.html', 73), ('b2a6c.html', 51), ('82fe5.html', 35), ('10402.html', 39), ('1bd78.html', 43), ('42a46.html', 73), ('aacc1.html', 74), ('ac17a.html', 68), ('54a57.html', 68), ('97a45.html', 46), ('dbba4.html', 41), ('270ea.html', 48), ('d4d15.html', 49), ('28dc2.html', 58), ('25ad5.html', 49), ('ae8f8.html', 57), ('b4d64.html', 44), ('e45f3.html', 72), ('bdba5.html', 52), ('ad1da.html', 46), ('7cd18.html', 36), ('26b01.html', 41), ('39fb0.html', 59), ('19b8d.html', 47), ('709a1.html', 235), ('5428d.html', 24), ('0a346.html', 78), ('9c210.html', 32), ('dfc57.html', 67), ('0b43e.html', 61), ('a93fc.html', 49), ('80014.html', 74), ('46b0c.html', 51), ('90f21.html', 55), ('99369.html', 90), ('07d34.html', 60), ('3111c.html', 74), ('b41ab.html', 31), ('b41ab.html', 50), ('86669.html', 3), ('839e8.html', 48), ('940a5.html', 72), ('adee5.html', 53), ('90225.html', 77), ('d0704.html', 61), ('a97a2.html', 63), ('36525.html', 65), ('5374c.html', 80), ('778df.html', 71), ('c2ac1.html', 50), ('510ec.html', 4), ('34306.html', 50), ('f9c49.html', 70), ('9bb98.html', 63), ('ee804.html', 47), ('b93af.html', 38), ('1ba5f.html', 88), ('6d54e.html', 28), ('f4405.html', 45), ('a7879.html', 1168), ('2c1bb.html', 59), ('64fb5.html', 48)]"
      ]
     },
     "execution_count": 3,
     "metadata": {},
     "output_type": "execute_result"
    }
   ],
   "source": [
    "\n",
    "[(file_name[-10:], len(tag_is_header_list)) for file_name,\n",
    " tag_is_header_list in HEADER_PATTERN_DICT.items()]"
   ]
  },
  {
   "cell_type": "markdown",
   "metadata": {},
   "source": [
    "\n",
    "These contain an attributes dictionary for each item including whether or not they are a subject heading:"
   ]
  },
  {
   "cell_type": "code",
   "execution_count": 7,
   "metadata": {},
   "outputs": [
    {
     "name": "stdout",
     "output_type": "stream",
     "text": [
      "Sr._AI_Data_Science_Engineer_-_Minneapolis,_MN_-_Indeed.com_f06a4d05bf5510ec.html\n",
      "{'initial_tag': 'plaintext', 'is_header': True, 'child_str': 'JOB DUTIES:'}\n",
      "{'initial_tag': 'plaintext', 'is_header': False, 'child_str': 'Sr. AI Data Science Engineer develops algorithms and prediction models for diabetes administration and Continuous Glucose Monitoring systems using large-scale datasets. Applies advanced statistical modeling to analyze data from medical devices and IOT devices. Builds Machine Learning Algorithms to develop clinical decision support algorithms using Python, R and Matlab. Uses time series modeling techniques to provide time series medical outcome prediction and intervention solution. Applies Deep Neural Networks based technology modeling high dimension multi-variate human models. Develops backend for disease management web applications with Python and Java. Provides Business intelligence and analytics including inventory and attrition prediction. Provides analytics on big scale database using tools to include Hadoop and HIVE. Communicates statistical analysis results using effective data visualization techniques. Navigates the complexities of working in medical device environment including FDA regulations and (ISO) 13485. *Position is eligible for telecommuting status from anywhere in the United States.'}\n",
      "{'initial_tag': 'plaintext', 'is_header': True, 'child_str': 'REQUIREMENTS:'}\n",
      "{'initial_tag': 'plaintext', 'is_header': False, 'child_str': 'Master’s Degree in Computer Science, Biomedical Engineering, Applied Mathematics, Machine Learning or a closely related field and two years of experience in data mining and two (2) years of post-bachelor’s progressive experience in all of the following: Statistical modeling to include correlational analysis, t-tests, linear and logistic regression; Machine Learning techniques to include decision trees/random forest, neural networks, feature selection/reduction, clustering and parameter tuning; Scripting languages including using Python, R and Matlab and web applications with Python and Java; Time series modeling techniques to include ARIMA, Dynamic Regression and Neural Network Auto Regression; Deep Neural Networks to include Tensorflow and MXNet based technology modeling high dimension multi-variate models; Business intelligence and analytics including inventory and attrition prediction; Analytics on big scale database using tools to include Hadoop and HIVE; Data visualization software including Tableau and Google charts; Working in medical device environment including FDA regulations and (ISO) 13485.'}\n"
     ]
    }
   ],
   "source": [
    "\n",
    "file_name = sorted([(file_name, len(tag_is_header_list)) for file_name,\n",
    "                    tag_is_header_list in HEADER_PATTERN_DICT.items()], key=lambda x: x[1])[1][0].strip()\n",
    "print(file_name)\n",
    "for attr_dict in HEADER_PATTERN_DICT[file_name]:\n",
    "    print(attr_dict)"
   ]
  },
  {
   "cell_type": "code",
   "execution_count": 8,
   "metadata": {},
   "outputs": [],
   "source": [
    "\n",
    "text_editor_path = r'C:\\Program Files\\Notepad++\\notepad++.exe'\n",
    "file_path = os.path.join(s.saves_folder, 'html', file_name)\n",
    "!\"{text_editor_path}\" \"{os.path.abspath(file_path)}\""
   ]
  },
  {
   "cell_type": "markdown",
   "metadata": {},
   "source": [
    "\n",
    "Every item in the sequence is an instance for which the label should be predicted. So, what is the best way to use some variable-length sequence vectorization to train a model to predict the label?"
   ]
  },
  {
   "cell_type": "markdown",
   "metadata": {},
   "source": [
    "\n",
    "----\n",
    "## Let's use the header pattern data to build a NER system"
   ]
  },
  {
   "cell_type": "code",
   "execution_count": 9,
   "metadata": {},
   "outputs": [
    {
     "data": {
      "text/plain": [
       "['sklearn_crfsuite.CRF', 'sklearn_crfsuite.compat', 'sklearn_crfsuite.estimator', 'sklearn_crfsuite.metrics', 'sklearn_crfsuite.scorers', 'sklearn_crfsuite.trainer', 'sklearn_crfsuite.utils']"
      ]
     },
     "execution_count": 9,
     "metadata": {},
     "output_type": "execute_result"
    }
   ],
   "source": [
    "\n",
    "from itertools import chain\n",
    "import nltk\n",
    "from sklearn.metrics import classification_report, confusion_matrix\n",
    "from sklearn.preprocessing import LabelBinarizer\n",
    "import sklearn\n",
    "import sklearn_crfsuite\n",
    "from sklearn_crfsuite import scorers\n",
    "from sklearn_crfsuite import metrics\n",
    "import random\n",
    "\n",
    "[f'sklearn_crfsuite.{fn}' for fn in dir(sklearn_crfsuite) if not fn.startswith('_')]"
   ]
  },
  {
   "cell_type": "code",
   "execution_count": 11,
   "metadata": {},
   "outputs": [
    {
     "data": {
      "text/plain": [
       "[('plaintext', 'H'), ('plaintext', 'O'), ('plaintext', 'H'), ('plaintext', 'O')]"
      ]
     },
     "execution_count": 11,
     "metadata": {},
     "output_type": "execute_result"
    }
   ],
   "source": [
    "\n",
    "feature_dict_list = HEADER_PATTERN_DICT[file_name]\n",
    "[(feature_dict['initial_tag'],\n",
    "  'H' if feature_dict['is_header'] else 'O') for feature_dict in feature_dict_list]"
   ]
  },
  {
   "cell_type": "code",
   "execution_count": 12,
   "metadata": {},
   "outputs": [
    {
     "name": "stdout",
     "output_type": "stream",
     "text": [
      "<(span|li|b|div|p|i|h3|h2|plaintext)>\n"
     ]
    }
   ],
   "source": [
    "\n",
    "tag_set = set()\n",
    "for file_name, feature_dict_list in HEADER_PATTERN_DICT.items():\n",
    "    for feature_dict in feature_dict_list:\n",
    "        tag_set.add(feature_dict['initial_tag'])\n",
    "print(f\"<({'|'.join(tag_set)})>\")"
   ]
  },
  {
   "cell_type": "code",
   "execution_count": 13,
   "metadata": {},
   "outputs": [
    {
     "data": {
      "text/plain": [
       true
      ]
     },
     "execution_count": 13,
     "metadata": {},
     "output_type": "execute_result"
    }
   ],
   "source": [
    "\n",
    "%run ../py/tag_sets.py\n",
    "inital_tag_sets_list = [document_body_elements_set, block_elements_set, basic_text_set, section_headings_set,\n",
    "                        lists_set, other_block_elements_set, inline_elements_set, phrase_elements_set,\n",
    "                        presentation_set]\n",
    "null_element = 'plaintext'\n",
    "document_body_elements_set in inital_tag_sets_list"
   ]
  },
  {
   "cell_type": "code",
   "execution_count": 14,
   "metadata": {},
   "outputs": [
    {
     "name": "stdout",
     "output_type": "stream",
     "text": [
      "\n",
      "        'tag.anchor_set': tag in anchor_set,\n",
      "        'tag.basic_text_set': tag in basic_text_set,\n",
      "        'tag.block_elements_set': tag in block_elements_set,\n",
      "        'tag.computer_phrase_elements_set': tag in computer_phrase_elements_set,\n",
      "        'tag.document_body_elements_set': tag in document_body_elements_set,\n",
      "        'tag.document_head_elements_set': tag in document_head_elements_set,\n",
      "        'tag.document_structure_elements_set': tag in document_structure_elements_set,\n",
      "        'tag.forms_set': tag in forms_set,\n",
      "        'tag.frames_set': tag in frames_set,\n",
      "        'tag.general_set': tag in general_set,\n",
      "        'tag.historic_elements_set': tag in historic_elements_set,\n",
      "        'tag.images_and_objects_set': tag in images_and_objects_set,\n",
      "        'tag.inline_elements_set': tag in inline_elements_set,\n",
      "        'tag.lists_set': tag in lists_set,\n",
      "        'tag.non_standard_elements_set': tag in non_standard_elements_set,\n",
      "        'tag.other_block_elements_set': tag in other_block_elements_set,\n",
      "        'tag.other_inline_elements_set': tag in other_inline_elements_set,\n",
      "        'tag.phrase_elements_set': tag in phrase_elements_set,\n",
      "        'tag.presentation_set': tag in presentation_set,\n",
      "        'tag.section_headings_set': tag in section_headings_set,\n",
      "        'tag.span_set': tag in span_set,\n",
      "        'tag.tables_set': tag in tables_set,\n",
      "        'tag.tag_set': tag in tag_set,\n"
     ]
    }
   ],
   "source": [
    "\n",
    "print()\n",
    "for set_str in [fn for fn in dir() if type(eval(fn)) == set]:\n",
    "    print(f\"\"\"        'tag.{set_str}': tag in {set_str},\"\"\")"
   ]
  },
  {
   "cell_type": "code",
   "execution_count": 16,
   "metadata": {},
   "outputs": [
    {
     "name": "stdout",
     "output_type": "stream",
     "text": [
      "\n",
      "            '+1:tag.basic_text_set': tag1 in basic_text_set,\n",
      "            '+1:tag.block_elements_set': tag1 in block_elements_set,\n",
      "            '+1:tag.document_body_elements_set': tag1 in document_body_elements_set,\n",
      "            '+1:tag.inline_elements_set': tag1 in inline_elements_set,\n",
      "            '+1:tag.lists_set': tag1 in lists_set,\n",
      "            '+1:tag.other_block_elements_set': tag1 in other_block_elements_set,\n",
      "            '+1:tag.phrase_elements_set': tag1 in phrase_elements_set,\n",
      "            '+1:tag.presentation_set': tag1 in presentation_set,\n",
      "            '+1:tag.section_headings_set': tag1 in section_headings_set,\n"
     ]
    }
   ],
   "source": [
    "\n",
    "inital_tag_sets_list = [document_body_elements_set, block_elements_set, basic_text_set, section_headings_set,\n",
    "                        lists_set, other_block_elements_set, inline_elements_set, phrase_elements_set,\n",
    "                        presentation_set]\n",
    "null_element = 'plaintext'\n",
    "print()\n",
    "for set_str in [fn for fn in dir() if eval(fn) in inital_tag_sets_list]:\n",
    "    print(f\"\"\"            '+1:tag.{set_str}': tag1 in {set_str},\"\"\")"
   ]
  },
  {
   "cell_type": "code",
   "execution_count": 17,
   "metadata": {},
   "outputs": [],
   "source": [
    "\n",
    "null_element = 'plaintext'\n",
    "def word2features(sent, i):\n",
    "    tag = sent[i][0]\n",
    "    \n",
    "    features = {\n",
    "        'bias': 1.0,\n",
    "        'tag.document_body_elements_set': tag in document_body_elements_set,\n",
    "        'tag.block_elements_set': tag in block_elements_set,\n",
    "        'tag.basic_text_set': tag in basic_text_set,\n",
    "        'tag.section_headings_set': tag in section_headings_set,\n",
    "        'tag.lists_set': tag in lists_set,\n",
    "        'tag.other_block_elements_set': tag in other_block_elements_set,\n",
    "        'tag.inline_elements_set': tag in inline_elements_set,\n",
    "        'tag.phrase_elements_set': tag in phrase_elements_set,\n",
    "        'tag.presentation_set': tag in presentation_set,\n",
    "        'tag.null_element': tag == null_element,\n",
    "    }\n",
    "    if i > 0:\n",
    "        tag1 = sent[i-1][0]\n",
    "        features.update({\n",
    "            '-1:tag.document_body_elements_set': tag1 in document_body_elements_set,\n",
    "            '-1:tag.block_elements_set': tag1 in block_elements_set,\n",
    "            '-1:tag.basic_text_set': tag1 in basic_text_set,\n",
    "            '-1:tag.section_headings_set': tag1 in section_headings_set,\n",
    "            '-1:tag.lists_set': tag1 in lists_set,\n",
    "            '-1:tag.other_block_elements_set': tag1 in other_block_elements_set,\n",
    "            '-1:tag.inline_elements_set': tag1 in inline_elements_set,\n",
    "            '-1:tag.phrase_elements_set': tag1 in phrase_elements_set,\n",
    "            '-1:tag.presentation_set': tag1 in presentation_set,\n",
    "            '-1:tag.null_element': tag1 == null_element,\n",
    "            '-1:previous==tag': tag1 == tag,\n",
    "        })\n",
    "    else:\n",
    "        features['BOS'] = True\n",
    "        \n",
    "    if i < len(sent)-1:\n",
    "        tag1 = sent[i+1][0]\n",
    "        features.update({\n",
    "            '+1:tag.basic_text_set': tag1 in basic_text_set,\n",
    "            '+1:tag.block_elements_set': tag1 in block_elements_set,\n",
    "            '+1:tag.document_body_elements_set': tag1 in document_body_elements_set,\n",
    "            '+1:tag.inline_elements_set': tag1 in inline_elements_set,\n",
    "            '+1:tag.lists_set': tag1 in lists_set,\n",
    "            '+1:tag.other_block_elements_set': tag1 in other_block_elements_set,\n",
    "            '+1:tag.phrase_elements_set': tag1 in phrase_elements_set,\n",
    "            '+1:tag.presentation_set': tag1 in presentation_set,\n",
    "            '+1:tag.section_headings_set': tag1 in section_headings_set,\n",
    "            '+1:tag.null_element': tag1 == null_element,\n",
    "            '+1:tag==previous': tag1 == tag,\n",
    "        })\n",
    "    else:\n",
    "        features['EOS'] = True\n",
    "        \n",
    "    if i < len(sent)-2:\n",
    "        tag1 = sent[i+1][0]\n",
    "        tag2 = sent[i+2][0]\n",
    "        features.update({\n",
    "            '+2:tag.basic_text_set': tag2 in basic_text_set,\n",
    "            '+2:tag.block_elements_set': tag2 in block_elements_set,\n",
    "            '+2:tag.document_body_elements_set': tag2 in document_body_elements_set,\n",
    "            '+2:tag.inline_elements_set': tag2 in inline_elements_set,\n",
    "            '+2:tag.lists_set': tag2 in lists_set,\n",
    "            '+2:tag.other_block_elements_set': tag2 in other_block_elements_set,\n",
    "            '+2:tag.phrase_elements_set': tag2 in phrase_elements_set,\n",
    "            '+2:tag.presentation_set': tag2 in presentation_set,\n",
    "            '+2:tag.section_headings_set': tag2 in section_headings_set,\n",
    "            '+2:tag.null_element': tag2 == null_element,\n",
    "            '+2:tag==previous': tag2 == tag1,\n",
    "        })\n",
    "                \n",
    "    return features.copy()\n",
    "\n",
    "def sent2features(sent):\n",
    "    return [word2features(sent, i) for i in range(len(sent))]\n",
    "\n",
    "def sent2labels(sent):\n",
    "    return [label for token, label in sent]\n",
    "\n",
    "def sent2tokens(sent):\n",
    "    return [token for token, label in sent]"
   ]
  },
  {
   "cell_type": "code",
   "execution_count": 18,
   "metadata": {},
   "outputs": [
    {
     "name": "stdout",
     "output_type": "stream",
     "text": [
      "\n"
     ]
    },
    {
     "data": {
      "text/plain": [
       "{'bias': 1.0,\n",
       " 'tag.document_body_elements_set': False,\n",
       " 'tag.block_elements_set': False,\n",
       " 'tag.basic_text_set': False,\n",
       " 'tag.section_headings_set': False,\n",
       " 'tag.lists_set': False,\n",
       " 'tag.other_block_elements_set': False,\n",
       " 'tag.inline_elements_set': False,\n",
       " 'tag.phrase_elements_set': False,\n",
       " 'tag.presentation_set': False,\n",
       " 'tag.null_element': True,\n",
       " '-1:tag.document_body_elements_set': False,\n",
       " '-1:tag.block_elements_set': False,\n",
       " '-1:tag.basic_text_set': False,\n",
       " '-1:tag.section_headings_set': False,\n",
       " '-1:tag.lists_set': False,\n",
       " '-1:tag.other_block_elements_set': False,\n",
       " '-1:tag.inline_elements_set': False,\n",
       " '-1:tag.phrase_elements_set': False,\n",
       " '-1:tag.presentation_set': False,\n",
       " '-1:tag.null_element': True,\n",
       " '-1:previous==tag': True,\n",
       " '+1:tag.basic_text_set': False,\n",
       " '+1:tag.block_elements_set': False,\n",
       " '+1:tag.document_body_elements_set': False,\n",
       " '+1:tag.inline_elements_set': False,\n",
       " '+1:tag.lists_set': False,\n",
       " '+1:tag.other_block_elements_set': False,\n",
       " '+1:tag.phrase_elements_set': False,\n",
       " '+1:tag.presentation_set': False,\n",
       " '+1:tag.section_headings_set': False,\n",
       " '+1:tag.null_element': True,\n",
       " '+1:tag==previous': True,\n",
       " '+2:tag.basic_text_set': False,\n",
       " '+2:tag.block_elements_set': False,\n",
       " '+2:tag.document_body_elements_set': False,\n",
       " '+2:tag.inline_elements_set': False,\n",
       " '+2:tag.lists_set': False,\n",
       " '+2:tag.other_block_elements_set': False,\n",
       " '+2:tag.phrase_elements_set': False,\n",
       " '+2:tag.presentation_set': False,\n",
       " '+2:tag.section_headings_set': False,\n",
       " '+2:tag.null_element': True,\n",
       " '+2:tag==previous': True}"
      ]
     },
     "execution_count": 18,
     "metadata": {},
     "output_type": "execute_result"
    }
   ],
   "source": [
    "\n",
    "import random\n",
    "%run ../load_magic/storage.py\n",
    "s = Storage()\n",
    "\n",
    "HEADER_PATTERN_DICT = s.load_object('HEADER_PATTERN_DICT')\n",
    "file_name, feature_dict_list = random.choice(list(HEADER_PATTERN_DICT.items()))\n",
    "sent = [(feature_dict['initial_tag'],\n",
    "         'H' if feature_dict['is_header'] else 'O') for feature_dict in feature_dict_list]\n",
    "print()\n",
    "features_dict = random.choice(sent2features(sent))\n",
    "features_dict"
   ]
  },
  {
   "cell_type": "code",
   "execution_count": 19,
   "metadata": {},
   "outputs": [],
   "source": [
    "\n",
    "from sklearn.model_selection import train_test_split\n",
    "\n",
    "all_sents = []\n",
    "for file_name, feature_dict_list in HEADER_PATTERN_DICT.items():\n",
    "    feature_dict_list = [(feature_dict['initial_tag'],\n",
    "                          'H' if feature_dict['is_header'] else 'O') for feature_dict in feature_dict_list]\n",
    "    all_sents.append(feature_dict_list)\n",
    "X = [sent2features(s) for s in all_sents]\n",
    "y = [sent2labels(s) for s in all_sents]\n",
    "X_train, X_test, y_train, y_test = train_test_split(X, y, test_size=0.33, random_state=42)"
   ]
  },
  {
   "cell_type": "markdown",
   "metadata": {},
   "source": [
    "## Training\n",
    "\n",
    "To see all possible CRF parameters check its docstring. Here we are useing L-BFGS training algorithm (it is default) with Elastic Net (L1 + L2) regularization."
   ]
  },
  {
   "cell_type": "code",
   "execution_count": 20,
   "metadata": {},
   "outputs": [
    {
     "name": "stdout",
     "output_type": "stream",
     "text": [
      "Wall time: 1.83 s\n"
     ]
    },
    {
     "name": "stderr",
     "output_type": "stream",
     "text": [
      "C:\\Users\\dev\\Documents\\Repositories\\job-hunting\\jh\\lib\\site-packages\\sklearn\\base.py:213: FutureWarning: From version 0.24, get_params will raise an AttributeError if a parameter cannot be retrieved as an instance attribute. Previously it would return None.\n",
      "  FutureWarning)\n"
     ]
    },
    {
     "data": {
      "text/plain": [
       "CRF(algorithm='lbfgs', all_possible_transitions=True, c1=0.1, c2=0.1,\n",
       "    keep_tempfiles=None, max_iterations=100)"
      ]
     },
     "execution_count": 20,
     "metadata": {},
     "output_type": "execute_result"
    }
   ],
   "source": [
    "\n",
    "%%time\n",
    "import sklearn_crfsuite\n",
    "\n",
    "CRF = sklearn_crfsuite.CRF(\n",
    "    algorithm='lbfgs', \n",
    "    c1=0.1, \n",
    "    c2=0.1, \n",
    "    max_iterations=100, \n",
    "    all_possible_transitions=True\n",
    ")\n",
    "CRF.fit(X_train, y_train)"
   ]
  },
  {
   "cell_type": "markdown",
   "metadata": {},
   "source": [
    "## Evaluation\n",
    "\n",
    "There is much more O entities in data set, but we're more interested in other entities. To account for this we'll use averaged F1 score computed for all labels except for O. ``sklearn-crfsuite.metrics`` package provides some useful metrics for sequence classification task, including this one."
   ]
  },
  {
   "cell_type": "code",
   "execution_count": 21,
   "metadata": {},
   "outputs": [
    {
     "data": {
      "text/plain": [
       "['H', 'O']"
      ]
     },
     "execution_count": 21,
     "metadata": {},
     "output_type": "execute_result"
    }
   ],
   "source": [
    "\n",
    "labels = list(CRF.classes_)\n",
    "#labels.remove('O')\n",
    "labels"
   ]
  },
  {
   "cell_type": "code",
   "execution_count": 22,
   "metadata": {},
   "outputs": [
    {
     "data": {
      "text/plain": [
       "0.932562754591095"
      ]
     },
     "execution_count": 22,
     "metadata": {},
     "output_type": "execute_result"
    }
   ],
   "source": [
    "\n",
    "from sklearn_crfsuite import metrics\n",
    "\n",
    "y_pred = CRF.predict(X_test)\n",
    "metrics.flat_f1_score(y_test, y_pred, \n",
    "                      average='weighted', labels=labels)"
   ]
  },
  {
   "cell_type": "code",
   "execution_count": 23,
   "metadata": {},
   "outputs": [
    {
     "name": "stdout",
     "output_type": "stream",
     "text": [
      "              precision    recall  f1-score   support\n",
      "\n",
      "           H      0.799     0.865     0.831       289\n",
      "           O      0.967     0.948     0.957      1201\n",
      "\n",
      "    accuracy                          0.932      1490\n",
      "   macro avg      0.883     0.906     0.894      1490\n",
      "weighted avg      0.934     0.932     0.933      1490\n",
      "\n"
     ]
    },
    {
     "name": "stderr",
     "output_type": "stream",
     "text": [
      "C:\\Users\\dev\\Documents\\Repositories\\job-hunting\\jh\\lib\\site-packages\\sklearn\\utils\\validation.py:70: FutureWarning: Pass labels=['H', 'O'] as keyword args. From version 0.25 passing these as positional arguments will result in an error\n",
      "  FutureWarning)\n"
     ]
    }
   ],
   "source": [
    "\n",
    "print(metrics.flat_classification_report(\n",
    "    y_test, y_pred, labels=labels, digits=3\n",
    "))"
   ]
  },
  {
   "cell_type": "markdown",
   "metadata": {},
   "source": [
    "\n",
    "----\n",
    "## Make a Prediction Visualization"
   ]
  },
  {
   "cell_type": "code",
   "execution_count": 25,
   "metadata": {},
   "outputs": [],
   "source": [
    "\n",
    "%run ../py/html_analysis.py"
   ]
  },
  {
   "cell_type": "code",
   "execution_count": 27,
   "metadata": {},
   "outputs": [],
   "source": [
    "\n",
    "from bs4 import BeautifulSoup\n",
    "import os\n",
    "\n",
    "ha = HeaderAnalysis()\n",
    "files_list = sorted([fn for fn in os.listdir(ha.SAVES_HTML_FOLDER) if fn.endswith('.html')])"
   ]
  },
  {
   "cell_type": "code",
   "execution_count": 28,
   "metadata": {},
   "outputs": [],
   "source": [
    "\n",
    "def plot_child_str_predictions(cursor, file_name):\n",
    "    HEADER_PATTERN_DICT = s.load_object('HEADER_PATTERN_DICT')\n",
    "    NAVIGABLE_PARENT_IS_HEADER_DICT = s.load_object('NAVIGABLE_PARENT_IS_HEADER_DICT')\n",
    "    CRF = s.load_object('CRF')\n",
    "    child_strs_list = su.get_child_strs_from_file(cursor, file_name, verbose=False)\n",
    "    if file_name in HEADER_PATTERN_DICT:\n",
    "        feature_dict_list = HEADER_PATTERN_DICT[file_name]\n",
    "        feature_tuple_list = [(fd['initial_tag'],\n",
    "                               'H' if fd['is_header'] else 'O') for fd in feature_dict_list]\n",
    "        prediction_dict_list = CRF.predict_marginals_single(sent2features(feature_tuple_list))\n",
    "    else:\n",
    "        prediction_dict_list = []\n",
    "        for child_str in child_strs_list:\n",
    "            y_predict_proba = predict_percent_fit([child_str])[0]\n",
    "            if(CLF_NAME == 'LdaModel'):\n",
    "                H = y_predict_proba\n",
    "            else:\n",
    "                H = y_predict_proba[0][1]\n",
    "            prediction_dict = {'H': H}\n",
    "            prediction_dict_list.append(prediction_dict)\n",
    "    rows_list = []\n",
    "    for child_str, marginals_dict in zip(child_strs_list, prediction_dict_list):\n",
    "        row_dict = {'probability': marginals_dict['H']}\n",
    "        if child_str in NAVIGABLE_PARENT_IS_HEADER_DICT:\n",
    "            row_dict['actual'] = NAVIGABLE_PARENT_IS_HEADER_DICT[child_str] * 1.0\n",
    "        else:\n",
    "            row_dict['actual'] = np.nan\n",
    "        rows_list.append(row_dict)\n",
    "    ax = plt.figure(figsize=(18, 2.5)).add_subplot(1, 1, 1)\n",
    "    AxesSubplot_obj = pd.DataFrame(rows_list).plot.line(ax=ax)\n",
    "    ax.axis('off')\n",
    "    for x, child_str in enumerate(child_strs_list):\n",
    "        y = rows_list[x]['probability']\n",
    "        if str(y) == 'nan':\n",
    "            y = rows_list[x]['actual']\n",
    "        if str(y) != 'nan':\n",
    "            ax.annotate(f'{child_str[:20]}...', (x, y), ha='left', rotation=90)"
   ]
  },
  {
   "cell_type": "code",
   "execution_count": 29,
   "metadata": {},
   "outputs": [
    {
     "ename": "TypeError",
     "evalue": "plot_child_str_predictions() missing 1 required positional argument: 'file_name'",
     "output_type": "error",
     "traceback": [
      "\u001b[1;31m---------------------------------------------------------------------------\u001b[0m",
      "\u001b[1;31mTypeError\u001b[0m                                 Traceback (most recent call last)",
      "\u001b[1;32m<ipython-input-29-bfd680c2419e>\u001b[0m in \u001b[0;36m<module>\u001b[1;34m\u001b[0m\n\u001b[0;32m      3\u001b[0m \u001b[1;32mwhile\u001b[0m \u001b[0mfile_name\u001b[0m \u001b[1;32mnot\u001b[0m \u001b[1;32min\u001b[0m \u001b[0mHEADER_PATTERN_DICT\u001b[0m\u001b[1;33m:\u001b[0m\u001b[1;33m\u001b[0m\u001b[1;33m\u001b[0m\u001b[0m\n\u001b[0;32m      4\u001b[0m     \u001b[0mfile_name\u001b[0m \u001b[1;33m=\u001b[0m \u001b[0mrandom\u001b[0m\u001b[1;33m.\u001b[0m\u001b[0mchoice\u001b[0m\u001b[1;33m(\u001b[0m\u001b[0mfiles_list\u001b[0m\u001b[1;33m)\u001b[0m\u001b[1;33m\u001b[0m\u001b[1;33m\u001b[0m\u001b[0m\n\u001b[1;32m----> 5\u001b[1;33m \u001b[0mplot_child_str_predictions\u001b[0m\u001b[1;33m(\u001b[0m\u001b[0mfile_name\u001b[0m\u001b[1;33m)\u001b[0m\u001b[1;33m\u001b[0m\u001b[1;33m\u001b[0m\u001b[0m\n\u001b[0m",
      "\u001b[1;31mTypeError\u001b[0m: plot_child_str_predictions() missing 1 required positional argument: 'file_name'"
     ]
    }
   ],
   "source": [
    "\n",
    "file_name = random.choice(files_list)\n",
    "HEADER_PATTERN_DICT = s.load_object('HEADER_PATTERN_DICT')\n",
    "while file_name not in HEADER_PATTERN_DICT:\n",
    "    file_name = random.choice(files_list)\n",
    "plot_child_str_predictions(file_name)"
   ]
  },
  {
   "cell_type": "code",
   "execution_count": 30,
   "metadata": {},
   "outputs": [
    {
     "data": {
      "image/png": "[encoded data removed]",
      "text/plain": [
       "<Figure size 1296x180 with 1 Axes>"
      ]
     },
     "metadata": {
      "needs_background": "light"
     },
     "output_type": "display_data"
    }
   ],
   "source": [
    "\n",
    "HEADER_PATTERN_DICT = s.load_object('HEADER_PATTERN_DICT')\n",
    "file_name, feature_dict_list = random.choice(list(HEADER_PATTERN_DICT.items()))\n",
    "plot_child_str_predictions(file_name)"
   ]
  },
  {
   "cell_type": "markdown",
   "metadata": {},
   "source": [
    "\n",
    "----"
   ]
  },
  {
   "cell_type": "code",
   "execution_count": 47,
   "metadata": {},
   "outputs": [
    {
     "data": {
      "text/plain": [
       "['sklearn_crfsuite.CRF.attributes_', 'sklearn_crfsuite.CRF.classes_', 'sklearn_crfsuite.CRF.fit', 'sklearn_crfsuite.CRF.get_params', 'sklearn_crfsuite.CRF.num_attributes_', 'sklearn_crfsuite.CRF.predict', 'sklearn_crfsuite.CRF.predict_marginals', 'sklearn_crfsuite.CRF.predict_marginals_single', 'sklearn_crfsuite.CRF.predict_single', 'sklearn_crfsuite.CRF.score', 'sklearn_crfsuite.CRF.set_params', 'sklearn_crfsuite.CRF.size_', 'sklearn_crfsuite.CRF.state_features_', 'sklearn_crfsuite.CRF.tagger_', 'sklearn_crfsuite.CRF.transition_features_']"
      ]
     },
     "execution_count": 47,
     "metadata": {},
     "output_type": "execute_result"
    }
   ],
   "source": [
    "\n",
    "[f'sklearn_crfsuite.CRF.{fn}' for fn in dir(sklearn_crfsuite.CRF) if not fn.startswith('_')]"
   ]
  },
  {
   "cell_type": "markdown",
   "metadata": {},
   "source": [
    "\n",
    "----"
   ]
  },
  {
   "cell_type": "code",
   "execution_count": 41,
   "metadata": {},
   "outputs": [],
   "source": [
    "\n",
    "true_idx_dict = {}\n",
    "double_header_dict = {}\n",
    "for file_name, tag_is_header_list in HEADER_PATTERN_DICT.items():\n",
    "    true_idx_list = []\n",
    "    double_header_idx_list = []\n",
    "    for i, tag_tuple in enumerate(tag_is_header_list):\n",
    "        if tag_tuple[1]:\n",
    "            true_idx_list.append(i)\n",
    "    for idx in true_idx_list:\n",
    "        next_idx = idx + 1\n",
    "        if next_idx < len(tag_is_header_list):\n",
    "            item_tag = tag_is_header_list[next_idx][0]\n",
    "            item_idx = next_idx + 1\n",
    "            while (item_idx < len(tag_is_header_list)) and (tag_is_header_list[item_idx][0] == item_tag):\n",
    "                item_tag = tag_is_header_list[item_idx][0]\n",
    "                item_idx = item_idx + 1\n",
    "            if (item_idx < len(tag_is_header_list)) and tag_is_header_list[item_idx][1]:\n",
    "                idx_tuple = (idx, item_idx)\n",
    "                double_header_idx_list.append(idx_tuple)\n",
    "    if len(double_header_idx_list):\n",
    "        double_header_dict[file_name] = double_header_idx_list\n",
    "    if len(true_idx_list):\n",
    "        true_idx_dict[file_name] = true_idx_list"
   ]
  },
  {
   "cell_type": "code",
   "execution_count": 40,
   "metadata": {},
   "outputs": [],
   "source": [
    "\n",
    "file_name = sorted([(f, l) for f, l in double_header_dict.items()], key=lambda x: len(x[1]))[-1][0]\n",
    "child_strs_list = su.get_child_strs_from_file(file_name)"
   ]
  },
  {
   "cell_type": "code",
   "execution_count": 45,
   "metadata": {},
   "outputs": [],
   "source": [
    "\n",
    "from gensim.corpora.dictionary import Dictionary\n",
    "from gensim.models.ldamodel import LdaModel\n",
    "from gensim.models import FastText\n",
    "\n",
    "# Re-transform the bag-of-words and tf-idf from the new manual scores\n",
    "rows_list = [{'navigable_parent': navigable_parent, 'is_header': is_header} for navigable_parent, is_header in NAVIGABLE_PARENT_IS_HEADER_DICT.items()]\n",
    "child_str_df = pd.DataFrame(rows_list)\n",
    "\n",
    "assert child_str_df.shape[0]\n",
    "sents_list = child_str_df.navigable_parent.tolist()\n",
    "CLF_NAME = 'LdaModel'\n",
    "#CLF_NAME = 'LogisticRegression'"
   ]
  },
  {
   "cell_type": "code",
   "execution_count": 46,
   "metadata": {},
   "outputs": [],
   "source": [
    "\n",
    "if(CLF_NAME == 'LdaModel'):\n",
    "    \n",
    "    # Build model with tokenized words\n",
    "    tokenized_sents_list = [regex_tokenizer(sent_str) for sent_str in sents_list]\n",
    "    \n",
    "    # Create a corpus from a list of texts\n",
    "    HEADERS_DICTIONARY = Dictionary(tokenized_sents_list)\n",
    "    headers_corpus = [HEADERS_DICTIONARY.doc2bow(tag_str) for tag_str in tokenized_sents_list]\n",
    "    \n",
    "    # Train the model on the corpus\n",
    "    LDA = LdaModel(corpus=headers_corpus, num_topics=2)\n",
    "    \n",
    "else:\n",
    "    \n",
    "    # Bag-of-words\n",
    "    cv = CountVectorizer(**{'analyzer': 'word', 'binary': False, 'decode_error': 'strict', 'lowercase': False, 'max_df': 1.0,\n",
    "                            'max_features': None, 'min_df': 0.0, 'ngram_range': (1, 5), 'stop_words': None, 'strip_accents': 'ascii',\n",
    "                            'tokenizer': regex_tokenizer})\n",
    "    \n",
    "    # The shape of the count vector here should be n sentences * m unique words\n",
    "    bow_matrix = cv.fit_transform(sents_list)\n",
    "    \n",
    "    # Store the resulting vocabulary; the numbers are not counts, they are the position in the sparse vector\n",
    "    s.store_objects(cs_cv_vocab=cv.vocabulary_)\n",
    "    \n",
    "    # Tf-idf must get from Bag-of-words first\n",
    "    tt = TfidfTransformer(**{'norm': 'l1', 'smooth_idf': True, 'sublinear_tf': False, 'use_idf': True})\n",
    "    tfidf_matrix = tt.fit_transform(bow_matrix)\n",
    "    s.store_objects(CS_TT=tt)\n",
    "    \n",
    "    # Re-train the classifier\n",
    "    X = tfidf_matrix.toarray()\n",
    "    y = child_str_df.is_header.to_numpy()\n",
    "    FIT_ESTIMATORS_DICT = s.load_object('FIT_ESTIMATORS_DICT')\n",
    "    child_str_clf = FIT_ESTIMATORS_DICT[CLF_NAME]\n",
    "    child_str_clf.fit(X, y)\n",
    "    FIT_ESTIMATORS_DICT[CLF_NAME] = child_str_clf\n",
    "    s.store_objects(child_str_clf=child_str_clf, FIT_ESTIMATORS_DICT=FIT_ESTIMATORS_DICT)\n",
    "    \n",
    "    # Re-calibrate the inference engine\n",
    "    cs_cv_vocab = s.load_object('cs_cv_vocab')\n",
    "    CS_CV = CountVectorizer(vocabulary=cs_cv_vocab)\n",
    "    CS_CV._validate_vocabulary()\n",
    "    CS_TT = s.load_object('CS_TT')"
   ]
  },
  {
   "cell_type": "code",
   "execution_count": 67,
   "metadata": {},
   "outputs": [],
   "source": [
    "\n",
    "%run ../py/html_analysis.py"
   ]
  },
  {
   "cell_type": "code",
   "execution_count": 68,
   "metadata": {},
   "outputs": [
    {
     "data": {
      "image/png": "[encoded data removed]",
      "text/plain": [
       "<Figure size 1296x180 with 1 Axes>"
      ]
     },
     "metadata": {
      "needs_background": "light"
     },
     "output_type": "display_data"
    }
   ],
   "source": [
    "\n",
    "import matplotlib.pyplot as plt\n",
    "\n",
    "rows_list = []\n",
    "for child_str in child_strs_list:\n",
    "    y_predict_proba = predict_percent_fit([child_str])[0]\n",
    "    if(CLF_NAME == 'LdaModel'):\n",
    "        X = 1.0 - y_predict_proba\n",
    "    else:\n",
    "        X = y_predict_proba[0][1]\n",
    "    row_dict = {'probability': X}\n",
    "    if child_str in NAVIGABLE_PARENT_IS_HEADER_DICT:\n",
    "        row_dict['actual'] = NAVIGABLE_PARENT_IS_HEADER_DICT[child_str] * 1.0\n",
    "    else:\n",
    "        row_dict['actual'] = np.nan\n",
    "    rows_list.append(row_dict)\n",
    "ax = plt.figure(figsize=(18, 2.5)).add_subplot(1, 1, 1)\n",
    "df = pd.DataFrame(rows_list)\n",
    "AxesSubplot_obj = df.plot.line(ax=ax)\n",
    "ax.axis('off')\n",
    "for i, child_str in enumerate(child_strs_list):\n",
    "    ax.annotate(f'{child_str[:20]}...', (i, rows_list[i]['probability']), ha='left', rotation=90)"
   ]
  },
  {
   "cell_type": "markdown",
   "metadata": {},
   "source": [
    "\n",
    "----"
   ]
  },
  {
   "cell_type": "code",
   "execution_count": null,
   "metadata": {},
   "outputs": [],
   "source": [
    "\n",
    "from IPython.display import clear_output\n",
    "from sklearn.feature_extraction.text import CountVectorizer\n",
    "from sklearn.feature_extraction.text import TfidfTransformer\n",
    "from sklearn.linear_model import LogisticRegression\n",
    "from urllib.parse import urlparse, parse_qs\n",
    "import numpy as np\n",
    "import os\n",
    "import random\n",
    "import re\n",
    "import requests\n",
    "from gensim.corpora.dictionary import Dictionary\n",
    "from gensim.models.ldamodel import LdaModel\n",
    "from gensim.models import FastText\n"
   ]
  },
  {
   "cell_type": "code",
   "execution_count": null,
   "metadata": {},
   "outputs": [],
   "source": [
    "\n",
    "%run ../py/html_analysis.py"
   ]
  },
  {
   "cell_type": "code",
   "execution_count": 34,
   "metadata": {},
   "outputs": [],
   "source": [
    "\n",
    "from pycrfsuite import ItemSequence\n",
    "\n",
    "HEADER_PATTERN_DICT = s.load_object('HEADER_PATTERN_DICT')\n",
    "sequence_obj_dict = {file_name: ItemSequence(feature_dict_list) for file_name, feature_dict_list in HEADER_PATTERN_DICT.items()}"
   ]
  },
  {
   "cell_type": "code",
   "execution_count": 32,
   "metadata": {},
   "outputs": [
    {
     "data": {
      "text/plain": [
       "[{'initial_tag:h2': 1.0, 'is_header': 1.0}, {'initial_tag:p': 1.0, 'is_header': 0.0}, {'initial_tag:p': 1.0, 'is_header': 0.0}, {'initial_tag:p': 1.0, 'is_header': 0.0}, {'initial_tag:b': 1.0, 'is_header': 1.0}, {'initial_tag:plaintext': 1.0, 'is_header': 0.0}, {'initial_tag:plaintext': 1.0, 'is_header': 0.0}, {'initial_tag:plaintext': 1.0, 'is_header': 0.0}, {'initial_tag:li': 1.0, 'is_header': 0.0}, {'initial_tag:p': 1.0, 'is_header': 0.0}, {'initial_tag:b': 1.0, 'is_header': 1.0}, {'initial_tag:p': 1.0, 'is_header': 0.0}, {'initial_tag:b': 1.0, 'is_header': 1.0}, {'initial_tag:plaintext': 1.0, 'is_header': 1.0}, {'initial_tag:b': 1.0, 'is_header': 0.0}, {'initial_tag:plaintext': 1.0, 'is_header': 0.0}, {'initial_tag:b': 1.0, 'is_header': 0.0}, {'initial_tag:plaintext': 1.0, 'is_header': 0.0}, {'initial_tag:b': 1.0, 'is_header': 0.0}, {'initial_tag:plaintext': 1.0, 'is_header': 0.0}, {'initial_tag:b': 1.0, 'is_header': 0.0}, {'initial_tag:plaintext': 1.0, 'is_header': 0.0}, {'initial_tag:b': 1.0, 'is_header': 0.0}, {'initial_tag:b': 1.0, 'is_header': 1.0}, {'initial_tag:li': 1.0, 'is_header': 0.0}, {'initial_tag:li': 1.0, 'is_header': 0.0}, {'initial_tag:li': 1.0, 'is_header': 0.0}, {'initial_tag:li': 1.0, 'is_header': 0.0}, {'initial_tag:plaintext': 1.0, 'is_header': 0.0}, {'initial_tag:b': 1.0, 'is_header': 1.0}, {'initial_tag:p': 1.0, 'is_header': 0.0}, {'initial_tag:plaintext': 1.0, 'is_header': 0.0}, {'initial_tag:b': 1.0, 'is_header': 0.0}, {'initial_tag:plaintext': 1.0, 'is_header': 0.0}, {'initial_tag:p': 1.0, 'is_header': 0.0}, {'initial_tag:p': 1.0, 'is_header': 0.0}, {'initial_tag:p': 1.0, 'is_header': 0.0}, {'initial_tag:p': 1.0, 'is_header': 0.0}, {'initial_tag:b': 1.0, 'is_header': 1.0}, {'initial_tag:p': 1.0, 'is_header': 0.0}, {'initial_tag:plaintext': 1.0, 'is_header': 0.0}, {'initial_tag:b': 1.0, 'is_header': 0.0}, {'initial_tag:plaintext': 1.0, 'is_header': 0.0}, {'initial_tag:p': 1.0, 'is_header': 0.0}, {'initial_tag:p': 1.0, 'is_header': 0.0}, {'initial_tag:p': 1.0, 'is_header': 0.0}, {'initial_tag:p': 1.0, 'is_header': 0.0}, {'initial_tag:p': 1.0, 'is_header': 0.0}, {'initial_tag:b': 1.0, 'is_header': 1.0}, {'initial_tag:plaintext': 1.0, 'is_header': 0.0}, {'initial_tag:b': 1.0, 'is_header': 0.0}, {'initial_tag:b': 1.0, 'is_header': 0.0}, {'initial_tag:plaintext': 1.0, 'is_header': 0.0}]"
      ]
     },
     "execution_count": 32,
     "metadata": {},
     "output_type": "execute_result"
    }
   ],
   "source": [
    "\n",
    "import random\n",
    "\n",
    "HEADER_PATTERN_DICT = s.load_object('HEADER_PATTERN_DICT')\n",
    "file_name, feature_dict_list = random.choice(list(HEADER_PATTERN_DICT.items()))\n",
    "sequence_obj = ItemSequence(feature_dict_list)\n",
    "sequence_obj.items()"
   ]
  },
  {
   "cell_type": "markdown",
   "metadata": {},
   "source": [
    "\n",
    "----\n",
    "# Create the Header Pattern Dictionary"
   ]
  },
  {
   "cell_type": "code",
   "execution_count": 30,
   "metadata": {},
   "outputs": [
    {
     "name": "stdout",
     "output_type": "stream",
     "text": [
      "Pickling to C:\\Users\\dev\\Documents\\Repositories\\job-hunting\\saves\\pickle\\HEADER_PATTERN_DICT.pickle\n",
      "Pickling to C:\\Users\\dev\\Documents\\Repositories\\job-hunting\\saves\\pickle\\HEADER_PATTERN_DICT.pickle\n",
      "Pickling to C:\\Users\\dev\\Documents\\Repositories\\job-hunting\\saves\\pickle\\HEADER_PATTERN_DICT.pickle\n",
      "Pickling to C:\\Users\\dev\\Documents\\Repositories\\job-hunting\\saves\\pickle\\HEADER_PATTERN_DICT.pickle\n",
      "Pickling to C:\\Users\\dev\\Documents\\Repositories\\job-hunting\\saves\\pickle\\HEADER_PATTERN_DICT.pickle\n",
      "Pickling to C:\\Users\\dev\\Documents\\Repositories\\job-hunting\\saves\\pickle\\HEADER_PATTERN_DICT.pickle\n",
      "Pickling to C:\\Users\\dev\\Documents\\Repositories\\job-hunting\\saves\\pickle\\HEADER_PATTERN_DICT.pickle\n",
      "Pickling to C:\\Users\\dev\\Documents\\Repositories\\job-hunting\\saves\\pickle\\HEADER_PATTERN_DICT.pickle\n",
      "Pickling to C:\\Users\\dev\\Documents\\Repositories\\job-hunting\\saves\\pickle\\HEADER_PATTERN_DICT.pickle\n",
      "Pickling to C:\\Users\\dev\\Documents\\Repositories\\job-hunting\\saves\\pickle\\HEADER_PATTERN_DICT.pickle\n",
      "Pickling to C:\\Users\\dev\\Documents\\Repositories\\job-hunting\\saves\\pickle\\HEADER_PATTERN_DICT.pickle\n",
      "Pickling to C:\\Users\\dev\\Documents\\Repositories\\job-hunting\\saves\\pickle\\HEADER_PATTERN_DICT.pickle\n",
      "Pickling to C:\\Users\\dev\\Documents\\Repositories\\job-hunting\\saves\\pickle\\HEADER_PATTERN_DICT.pickle\n",
      "Pickling to C:\\Users\\dev\\Documents\\Repositories\\job-hunting\\saves\\pickle\\HEADER_PATTERN_DICT.pickle\n",
      "Pickling to C:\\Users\\dev\\Documents\\Repositories\\job-hunting\\saves\\pickle\\HEADER_PATTERN_DICT.pickle\n"
     ]
    }
   ],
   "source": [
    "\n",
    "from bs4 import BeautifulSoup\n",
    "import re\n",
    "%run ../load_magic/storage.py\n",
    "s = Storage()\n",
    "\n",
    "SAVES_HTML_FOLDER = os.path.join(s.saves_folder, 'html')\n",
    "files_list = os.listdir(SAVES_HTML_FOLDER)\n",
    "\n",
    "%run ../py/html_analysis.py\n",
    "\n",
    "assert s.pickle_exists('CHILD_STRS_LIST_DICT')\n",
    "CHILD_STRS_LIST_DICT = s.load_object('CHILD_STRS_LIST_DICT')\n",
    "assert s.pickle_exists('NAVIGABLE_PARENT_IS_HEADER_DICT')\n",
    "NAVIGABLE_PARENT_IS_HEADER_DICT = s.load_object('NAVIGABLE_PARENT_IS_HEADER_DICT')\n",
    "HEADER_PATTERN_DICT = {}\n",
    "for file_name in files_list:\n",
    "    if file_name in CHILD_STRS_LIST_DICT:\n",
    "        child_strs_list = CHILD_STRS_LIST_DICT[file_name]\n",
    "    else:\n",
    "        file_path = os.path.join(SAVES_HTML_FOLDER, file_name)\n",
    "        with open(file_path, 'r', encoding='utf-8') as f:\n",
    "            html_str = f.read()\n",
    "            job_soup = BeautifulSoup(html_str, 'lxml')\n",
    "            body_soup = job_soup.find_all(name='body')[0]\n",
    "            child_strs_list = get_navigable_children(body_soup, [])\n",
    "    navigable_parent = child_strs_list[0]\n",
    "    if navigable_parent not in NAVIGABLE_PARENT_IS_HEADER_DICT:\n",
    "        continue\n",
    "    child_tags_list = []\n",
    "    is_header_list = []\n",
    "    for navigable_parent in child_strs_list:\n",
    "        if navigable_parent not in NAVIGABLE_PARENT_IS_HEADER_DICT:\n",
    "            break\n",
    "        tokenized_sent = regex_tokenizer(navigable_parent)\n",
    "        first_token = tokenized_sent[0]\n",
    "        if first_token[0] == '<':\n",
    "            child_tags_list.append(first_token[1:])\n",
    "        else:\n",
    "            child_tags_list.append('plaintext')\n",
    "        is_header = NAVIGABLE_PARENT_IS_HEADER_DICT[navigable_parent]\n",
    "        is_header_list.append(is_header)\n",
    "    if len(child_tags_list) == len(child_strs_list):\n",
    "        if file_name not in CHILD_STRS_LIST_DICT:\n",
    "            CHILD_STRS_LIST_DICT[file_name] = child_strs_list\n",
    "            s.store_objects(CHILD_STRS_LIST_DICT=CHILD_STRS_LIST_DICT)\n",
    "        if file_name not in HEADER_PATTERN_DICT:\n",
    "            item_sequence = [{'initial_tag': tag, 'is_header': is_header} for tag, is_header in zip(child_tags_list, is_header_list)]\n",
    "            HEADER_PATTERN_DICT[file_name] = item_sequence\n",
    "            s.store_objects(HEADER_PATTERN_DICT=HEADER_PATTERN_DICT)"
   ]
  },
  {
   "cell_type": "code",
   "execution_count": 4,
   "metadata": {},
   "outputs": [
    {
     "name": "stdout",
     "output_type": "stream",
     "text": [
      "C:\\Users\\dev\\Anaconda3\\envs\\jh\\python.exe -m pip install --upgrade sklearn-crfsuite\n",
      "Collecting sklearn-crfsuite\n",
      "  Downloading sklearn_crfsuite-0.3.6-py2.py3-none-any.whl (12 kB)\n",
      "Requirement already satisfied, skipping upgrade: tqdm>=2.0 in c:\\users\\dev\\anaconda3\\envs\\jh\\lib\\site-packages (from sklearn-crfsuite) (4.52.0)\n",
      "Requirement already satisfied, skipping upgrade: six in c:\\users\\dev\\anaconda3\\envs\\jh\\lib\\site-packages (from sklearn-crfsuite) (1.15.0)\n",
      "Requirement already satisfied, skipping upgrade: python-crfsuite>=0.8.3 in c:\\users\\dev\\anaconda3\\envs\\jh\\lib\\site-packages (from sklearn-crfsuite) (0.9.7)\n",
      "Requirement already satisfied, skipping upgrade: tabulate in c:\\users\\dev\\anaconda3\\envs\\jh\\lib\\site-packages (from sklearn-crfsuite) (0.8.7)\n",
      "Installing collected packages: sklearn-crfsuite\n",
      "Successfully installed sklearn-crfsuite-0.3.6\n"
     ]
    }
   ],
   "source": [
    "\n",
    "import sys\n",
    "\n",
    "command_str = f'{sys.executable} -m pip install --upgrade sklearn-crfsuite'\n",
    "print(command_str)\n",
    "!{command_str}"
   ]
  },
  {
   "cell_type": "raw",
   "metadata": {},
   "source": [
    "\n",
    "        \n",
    "        'tag.anchor_set': tag in anchor_set,\n",
    "        'tag.computer_phrase_elements_set': tag in computer_phrase_elements_set,\n",
    "        'tag.document_head_elements_set': tag in document_head_elements_set,\n",
    "        'tag.document_structure_elements_set': tag in document_structure_elements_set,\n",
    "        'tag.forms_set': tag in forms_set,\n",
    "        'tag.frames_set': tag in frames_set,\n",
    "        'tag.general_set': tag in general_set,\n",
    "        'tag.historic_elements_set': tag in historic_elements_set,\n",
    "        'tag.images_and_objects_set': tag in images_and_objects_set,\n",
    "        'tag.non_standard_elements_set': tag in non_standard_elements_set,\n",
    "        'tag.other_inline_elements_set': tag in other_inline_elements_set,\n",
    "        'tag.span_set': tag in span_set,\n",
    "        'tag.tables_set': tag in tables_set,"
   ]
  },
  {
   "cell_type": "code",
   "execution_count": null,
   "metadata": {},
   "outputs": [],
   "source": []
  }
 ],
 "metadata": {
  "anaconda-cloud": {},
  "kernelspec": {
   "display_name": "Python 3 (ipykernel)",
   "language": "python",
   "name": "python3"
  },
  "language_info": {
   "codemirror_mode": {
    "name": "ipython",
    "version": 3
   },
   "file_extension": ".py",
   "mimetype": "text/x-python",
   "name": "python",
   "nbconvert_exporter": "python",
   "pygments_lexer": "ipython3",
   "version": "3.12.7"
  }
 },
 "nbformat": 4,
 "nbformat_minor": 4
}
