{
 "cells": [
  {
   "cell_type": "code",
   "execution_count": 1,
   "id": "e7571b50-a1ca-48a2-8629-6f03c2eff6cf",
   "metadata": {},
   "outputs": [
    {
     "name": "stdout",
     "output_type": "stream",
     "text": [
      "Pretty printing has been turned OFF\n"
     ]
    }
   ],
   "source": [
    "\n",
    "%pprint"
   ]
  },
  {
   "cell_type": "code",
   "execution_count": 2,
   "id": "0781bc62-3996-42f1-9274-6a393347eb87",
   "metadata": {},
   "outputs": [],
   "source": [
    "\n",
    "import sys\n",
    "\n",
    "# Insert at 1, 0 is the script path (or '' in REPL)\n",
    "if ('../py' not in sys.path): sys.path.insert(1, '../py')\n",
    "sys.path.insert(1, '../rpc/rpc_env/Scripts')\n",
    "sys.path.insert(1, r'C:\\ffmpeg\\bin')"
   ]
  },
  {
   "cell_type": "code",
   "execution_count": 3,
   "id": "4d6a3e7e-d7b3-4e9b-abd1-36b1937593ae",
   "metadata": {},
   "outputs": [
    {
     "name": "stdout",
     "output_type": "stream",
     "text": [
      "Wall time: 12.7 s\n"
     ]
    }
   ],
   "source": [
    "\n",
    "%%time\n",
    "%run ../py/html_analysis.py"
   ]
  },
  {
   "cell_type": "code",
   "execution_count": 4,
   "id": "5ae699cd-001c-4f8e-a60f-884fa0fdf76e",
   "metadata": {},
   "outputs": [
    {
     "name": "stdout",
     "output_type": "stream",
     "text": [
      "Wall time: 4.84 s\n"
     ]
    }
   ],
   "source": [
    "\n",
    "%%time\n",
    "lda = LdaUtilities(verbose=True)"
   ]
  },
  {
   "cell_type": "code",
   "execution_count": 5,
   "id": "e17e9a3f-c604-435e-8b37-73f785c15e95",
   "metadata": {},
   "outputs": [
    {
     "name": "stdout",
     "output_type": "stream",
     "text": [
      "\n",
      "\t\t\tMATCH (pos:PartsOfSpeech)-[r:SUMMARIZES]->(np:NavigableParents)\n",
      "\t\t\tRETURN\n",
      "\t\t\t\tnp.navigable_parent AS navigable_parent,\n",
      "\t\t\t\tpos.pos_symbol AS pos_symbol;\n",
      "pos_df.columns = Index(['navigable_parent', 'pos_symbol'], dtype='object')\n",
      "[LibLinear][LibLinear][LibLinear][LibLinear][LibLinear][LibLinear][LibLinear]"
     ]
    },
    {
     "name": "stderr",
     "output_type": "stream",
     "text": [
      "D:\\Documents\\GitHub\\job-hunting\\jh_env\\lib\\site-packages\\sklearn\\svm\\_base.py:977: ConvergenceWarning: Liblinear failed to converge, increase the number of iterations.\n",
      "  \"the number of iterations.\", ConvergenceWarning)\n"
     ]
    },
    {
     "name": "stdout",
     "output_type": "stream",
     "text": [
      "[LibLinear]"
     ]
    },
    {
     "name": "stderr",
     "output_type": "stream",
     "text": [
      "D:\\Documents\\GitHub\\job-hunting\\jh_env\\lib\\site-packages\\sklearn\\svm\\_base.py:977: ConvergenceWarning: Liblinear failed to converge, increase the number of iterations.\n",
      "  \"the number of iterations.\", ConvergenceWarning)\n"
     ]
    },
    {
     "name": "stdout",
     "output_type": "stream",
     "text": [
      "[LibLinear]"
     ]
    },
    {
     "name": "stderr",
     "output_type": "stream",
     "text": [
      "D:\\Documents\\GitHub\\job-hunting\\jh_env\\lib\\site-packages\\sklearn\\svm\\_base.py:977: ConvergenceWarning: Liblinear failed to converge, increase the number of iterations.\n",
      "  \"the number of iterations.\", ConvergenceWarning)\n"
     ]
    },
    {
     "name": "stdout",
     "output_type": "stream",
     "text": [
      "[LibLinear][LibLinear]"
     ]
    },
    {
     "name": "stderr",
     "output_type": "stream",
     "text": [
      "D:\\Documents\\GitHub\\job-hunting\\jh_env\\lib\\site-packages\\sklearn\\svm\\_base.py:977: ConvergenceWarning: Liblinear failed to converge, increase the number of iterations.\n",
      "  \"the number of iterations.\", ConvergenceWarning)\n"
     ]
    },
    {
     "name": "stdout",
     "output_type": "stream",
     "text": [
      "[LibLinear]"
     ]
    },
    {
     "name": "stderr",
     "output_type": "stream",
     "text": [
      "D:\\Documents\\GitHub\\job-hunting\\jh_env\\lib\\site-packages\\sklearn\\svm\\_base.py:977: ConvergenceWarning: Liblinear failed to converge, increase the number of iterations.\n",
      "  \"the number of iterations.\", ConvergenceWarning)\n"
     ]
    },
    {
     "name": "stdout",
     "output_type": "stream",
     "text": [
      "[LibLinear]"
     ]
    },
    {
     "name": "stderr",
     "output_type": "stream",
     "text": [
      "D:\\Documents\\GitHub\\job-hunting\\jh_env\\lib\\site-packages\\sklearn\\svm\\_base.py:977: ConvergenceWarning: Liblinear failed to converge, increase the number of iterations.\n",
      "  \"the number of iterations.\", ConvergenceWarning)\n"
     ]
    },
    {
     "name": "stdout",
     "output_type": "stream",
     "text": [
      "[LibLinear]"
     ]
    },
    {
     "name": "stderr",
     "output_type": "stream",
     "text": [
      "D:\\Documents\\GitHub\\job-hunting\\jh_env\\lib\\site-packages\\sklearn\\svm\\_base.py:977: ConvergenceWarning: Liblinear failed to converge, increase the number of iterations.\n",
      "  \"the number of iterations.\", ConvergenceWarning)\n"
     ]
    },
    {
     "name": "stdout",
     "output_type": "stream",
     "text": [
      "[LibLinear][LibLinear][LibLinear]"
     ]
    },
    {
     "name": "stderr",
     "output_type": "stream",
     "text": [
      "D:\\Documents\\GitHub\\job-hunting\\jh_env\\lib\\site-packages\\sklearn\\svm\\_base.py:977: ConvergenceWarning: Liblinear failed to converge, increase the number of iterations.\n",
      "  \"the number of iterations.\", ConvergenceWarning)\n"
     ]
    },
    {
     "name": "stdout",
     "output_type": "stream",
     "text": [
      "[LibLinear]"
     ]
    },
    {
     "name": "stderr",
     "output_type": "stream",
     "text": [
      "D:\\Documents\\GitHub\\job-hunting\\jh_env\\lib\\site-packages\\sklearn\\svm\\_base.py:977: ConvergenceWarning: Liblinear failed to converge, increase the number of iterations.\n",
      "  \"the number of iterations.\", ConvergenceWarning)\n"
     ]
    },
    {
     "name": "stdout",
     "output_type": "stream",
     "text": [
      "[LibLinear][LibLinear]"
     ]
    },
    {
     "name": "stderr",
     "output_type": "stream",
     "text": [
      "D:\\Documents\\GitHub\\job-hunting\\jh_env\\lib\\site-packages\\sklearn\\svm\\_base.py:977: ConvergenceWarning: Liblinear failed to converge, increase the number of iterations.\n",
      "  \"the number of iterations.\", ConvergenceWarning)\n"
     ]
    },
    {
     "name": "stdout",
     "output_type": "stream",
     "text": [
      "[LibLinear]"
     ]
    },
    {
     "name": "stderr",
     "output_type": "stream",
     "text": [
      "D:\\Documents\\GitHub\\job-hunting\\jh_env\\lib\\site-packages\\sklearn\\svm\\_base.py:977: ConvergenceWarning: Liblinear failed to converge, increase the number of iterations.\n",
      "  \"the number of iterations.\", ConvergenceWarning)\n"
     ]
    },
    {
     "name": "stdout",
     "output_type": "stream",
     "text": [
      "[LibLinear]"
     ]
    },
    {
     "name": "stderr",
     "output_type": "stream",
     "text": [
      "D:\\Documents\\GitHub\\job-hunting\\jh_env\\lib\\site-packages\\sklearn\\svm\\_base.py:977: ConvergenceWarning: Liblinear failed to converge, increase the number of iterations.\n",
      "  \"the number of iterations.\", ConvergenceWarning)\n"
     ]
    },
    {
     "name": "stdout",
     "output_type": "stream",
     "text": [
      "[LibLinear][LibLinear]"
     ]
    },
    {
     "name": "stderr",
     "output_type": "stream",
     "text": [
      "D:\\Documents\\GitHub\\job-hunting\\jh_env\\lib\\site-packages\\sklearn\\svm\\_base.py:977: ConvergenceWarning: Liblinear failed to converge, increase the number of iterations.\n",
      "  \"the number of iterations.\", ConvergenceWarning)\n"
     ]
    },
    {
     "name": "stdout",
     "output_type": "stream",
     "text": [
      "[LibLinear][LibLinear]Wall time: 1min 45s\n"
     ]
    },
    {
     "name": "stderr",
     "output_type": "stream",
     "text": [
      "D:\\Documents\\GitHub\\job-hunting\\jh_env\\lib\\site-packages\\sklearn\\svm\\_base.py:977: ConvergenceWarning: Liblinear failed to converge, increase the number of iterations.\n",
      "  \"the number of iterations.\", ConvergenceWarning)\n"
     ]
    }
   ],
   "source": [
    "\n",
    "%%time\n",
    "lr = LrUtilities(verbose=True)"
   ]
  },
  {
   "cell_type": "code",
   "execution_count": 7,
   "id": "cd419ebb-5734-4974-8675-c30a4004f47d",
   "metadata": {},
   "outputs": [
    {
     "name": "stdout",
     "output_type": "stream",
     "text": [
      " H O-CS\n",
      "Conversation opened. 1 unread message.  H O-CS\n",
      "Skip to content H O-TS\n",
      "Using Gmail with screen readers H O-TS\n",
      "1 of 137 H O-TS\n",
      "100% remote hiring: Python Developer H O-CS\n",
      "Inbox H O-CS\n",
      "Jyoti Dubey j.dubey@siriinfo.com via mailgun.org  O O-CS\n",
      "Fri, Jul 16, 1:32 PM (1 day ago) O O-CS\n",
      "to me H O-TS\n",
      "Hello Dave Babbitt, H O-CS\n",
      "Hope you are doing great O O-LN\n",
      "This is regarding a job opportunity O O-CS\n",
      "Please let me know about your availability and interest H O-SP\n",
      "Feel free to reach me at 848-209-8339 or j.dubey@siriinfo.com O O-LN\n",
      "Position: Sr. Python Developer H O-CS\n",
      "Location: Remote O O-CS\n",
      "Duration: 1 year O O-SP\n",
      "Technical Skill Sets (Mandatory): O O-TS\n",
      "Excellent development experience with Python (5+ Years) H O-RQ\n",
      "Expert level knowledge on implementing python software solutions - data engineering, data science, etc.. H O-RQ\n",
      "Knowledge and experience in Python development including classes, functions etc.  H O-RQ\n",
      "He must have implemented Design patterns on Python. H O-RQ\n",
      "Knowledge and use of SQL in work H O-RQ\n",
      "Strong Python - He/She should be able operate at a Senior Python programmer capacity with core understanding of the language as well as OOPS, Unit Testing, Data Processing in programming paradigm with the ability to understand complex SQL (if not write but read) and have basic knowledge of analytical SQL workloads like a typical analyst would. H O-RQ\n",
      "Thanks, H O-CS\n",
      "Jyoti Dubey H O-CS\n",
      "Technical Recruiter H O-TS\n",
      "848-209-8339 H O-CS\n",
      "j.dubey@siriinfo.com O O-CS\n",
      "Linkden Id: https://www.linkedin.com/in/jyoti-dubey-303298131/ O O-CS\n",
      "Siri Info Solutions          H O-TS\n",
      "Visit us at: www.siriinfo.com O O-O\n",
      "We respect your online privacy. If you would like to be removed from our mailing list please reply with \"Remove\" in the subject and we will comply immediately. We apologize for any inconvenience caused. Please let us know if you have more than one domain. The material in this e-mail is intended only for the use of the individual to whom it is addressed and may contain information that is confidential, privileged, and exempt from disclosure under applicable law. If you are not the intended recipient, be advised that the unauthorized use, disclosure, copying, distribution, or the taking of any action in reliance on this information is strictly prohibited. We are an equal opportunity employer with a diverse workforce. O O-CS\n",
      "To unsubscribe from future emails or to update your email preferencesclick here . O O-SP\n",
      " H O-CS\n"
     ]
    }
   ],
   "source": [
    "\n",
    "import pyperclip\n",
    "import re\n",
    "\n",
    "copied_str = pyperclip.paste()\n",
    "line_list = re.split(r'[\\r\\n]+\\s*', copied_str, 0)\n",
    "for sent_str in line_list:\n",
    "    print(sent_str, lda.lda_predict_single(sent_str), lr.lr_predict_single(sent_str))"
   ]
  },
  {
   "cell_type": "code",
   "execution_count": null,
   "id": "e950e833-e5d3-481a-9b73-44aa641ff973",
   "metadata": {},
   "outputs": [],
   "source": []
  }
 ],
 "metadata": {
  "kernelspec": {
   "display_name": "Job Hunting (Python 3.7.9)",
   "language": "python",
   "name": "jh_env"
  },
  "language_info": {
   "codemirror_mode": {
    "name": "ipython",
    "version": 3
   },
   "file_extension": ".py",
   "mimetype": "text/x-python",
   "name": "python",
   "nbconvert_exporter": "python",
   "pygments_lexer": "ipython3",
   "version": "3.7.9"
  }
 },
 "nbformat": 4,
 "nbformat_minor": 5
}
